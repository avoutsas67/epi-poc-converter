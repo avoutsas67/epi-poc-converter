{
 "cells": [
  {
   "cell_type": "code",
   "execution_count": 1,
   "metadata": {},
   "outputs": [
    {
     "name": "stdout",
     "output_type": "stream",
     "text": [
      "C:\\Users\\muhamayu\\OneDrive - Microsoft\\Projects\\EMA\\code\\scripts\n"
     ]
    }
   ],
   "source": [
    "import sys, os\n",
    "module_path = os.path.abspath(os.path.join('..'))\n",
    "module_path = os.path.join(module_path, 'scripts')\n",
    "print(module_path)\n",
    "if module_path not in sys.path:\n",
    "    sys.path.append(module_path)"
   ]
  },
  {
   "cell_type": "markdown",
   "metadata": {},
   "source": [
    "### Importing Modules"
   ]
  },
  {
   "cell_type": "code",
   "execution_count": 159,
   "metadata": {},
   "outputs": [],
   "source": [
    "import pandas as pd\n",
    "import uuid\n",
    "import json\n",
    "import glob\n",
    "import time\n",
    "import pandas as pd\n",
    "pd.options.display.max_colwidth = 200\n",
    "import numpy as np\n",
    "from bs4 import BeautifulSoup\n",
    "from collections import defaultdict\n",
    "from htmlParsingUtils import createDomEleData, createPIJsonFromHTML\n",
    "from jsonHandlingUtils import loadJSON_Convert_to_DF, mkdir, addjson\n",
    "from qrdReaderUtils import * \n",
    "# from htmlParsingUtils import createDomEleData, createPIJsonFromHTML"
   ]
  },
  {
   "cell_type": "markdown",
   "metadata": {},
   "source": [
    "### Loading Files"
   ]
  },
  {
   "cell_type": "code",
   "execution_count": 136,
   "metadata": {},
   "outputs": [
    {
     "name": "stdout",
     "output_type": "stream",
     "text": [
      "C:\\Users\\muhamayu\\OneDrive - Microsoft\\Projects\\EMA\\code\\data\\converted_to_html\n",
      "['Kalydeco II-86-PI-clean.html']\n"
     ]
    }
   ],
   "source": [
    "path_data = os.path.join(os.path.abspath(os.path.join('..')), 'data', 'converted_to_html')\n",
    "print(path_data)\n",
    "filesHtml = [i for i in list(os.listdir(path_data)) if ('html' in i) & ('Kalydeco' in i)]\n",
    "print(filesHtml)"
   ]
  },
  {
   "cell_type": "markdown",
   "metadata": {},
   "source": [
    "### Converting HTML Files to JSON"
   ]
  },
  {
   "cell_type": "code",
   "execution_count": 137,
   "metadata": {},
   "outputs": [
    {
     "name": "stdout",
     "output_type": "stream",
     "text": [
      "C:\\Users\\muhamayu\\OneDrive - Microsoft\\Projects\\EMA\\code\\data\\converted_to_html\\Kalydeco II-86-PI-clean.html ||| C:\\Users\\muhamayu\\OneDrive - Microsoft\\Projects\\EMA\\code\\data\\outputJSON\\Kalydeco II-86-PI-clean.json\n"
     ]
    }
   ],
   "source": [
    "path_json = os.path.join(os.path.abspath(os.path.join('..')), 'data', 'outputJSON')\n",
    "mkdir(path_json, _del = True)\n",
    "for input_filename in [os.path.join(path_data, i) for i in filesHtml]:\n",
    "    output_filename = input_filename.replace('converted_to_html','json')\n",
    "    output_filename = output_filename.replace('.html','.json')\n",
    "    output_filename = os.path.join(path_json, os.path.basename(output_filename) )\n",
    "    print(input_filename, \"|||\" , output_filename)\n",
    "    createPIJsonFromHTML(input_filename,output_filename)"
   ]
  },
  {
   "cell_type": "markdown",
   "metadata": {},
   "source": [
    "### Picking a JSON and getting a Pandas DF"
   ]
  },
  {
   "cell_type": "code",
   "execution_count": 138,
   "metadata": {},
   "outputs": [
    {
     "name": "stdout",
     "output_type": "stream",
     "text": [
      "File being processed: C:\\Users\\muhamayu\\OneDrive - Microsoft\\Projects\\EMA\\code\\data\\outputJSON\\Kalydeco II-86-PI-clean.json\n",
      "(11333, 6)\n"
     ]
    },
    {
     "data": {
      "text/html": [
       "<div>\n",
       "<style scoped>\n",
       "    .dataframe tbody tr th:only-of-type {\n",
       "        vertical-align: middle;\n",
       "    }\n",
       "\n",
       "    .dataframe tbody tr th {\n",
       "        vertical-align: top;\n",
       "    }\n",
       "\n",
       "    .dataframe thead th {\n",
       "        text-align: right;\n",
       "    }\n",
       "</style>\n",
       "<table border=\"1\" class=\"dataframe\">\n",
       "  <thead>\n",
       "    <tr style=\"text-align: right;\">\n",
       "      <th></th>\n",
       "      <th>Element</th>\n",
       "      <th>ID</th>\n",
       "      <th>Styles</th>\n",
       "      <th>Classes</th>\n",
       "      <th>Text</th>\n",
       "      <th>ParentId</th>\n",
       "    </tr>\n",
       "  </thead>\n",
       "  <tbody>\n",
       "    <tr>\n",
       "      <th>0</th>\n",
       "      <td>&lt;div class=\"WordSection1\"&gt;\\n&lt;p align=\"center\" ...</td>\n",
       "      <td>3e2a3206-fd9a-44bf-aef8-0e8ad3a831bc</td>\n",
       "      <td>None</td>\n",
       "      <td>['WordSection1']</td>\n",
       "      <td>...</td>\n",
       "      <td>e9d4b2e0-92b9-49b1-a8f2-ce3c8b999d5a</td>\n",
       "    </tr>\n",
       "    <tr>\n",
       "      <th>1</th>\n",
       "      <td>&lt;p align=\"center\" class=\"MsoNormal\" style=\"tex...</td>\n",
       "      <td>6963e0f6-4286-4dd4-b8b6-00076e6a410a</td>\n",
       "      <td>text-align:center;line-height:normal</td>\n",
       "      <td>['MsoNormal']</td>\n",
       "      <td></td>\n",
       "      <td>3e2a3206-fd9a-44bf-aef8-0e8ad3a831bc</td>\n",
       "    </tr>\n",
       "    <tr>\n",
       "      <th>2</th>\n",
       "      <td>&lt;b&gt;&lt;span lang=\"EN-GB\"&gt; &lt;/span&gt;&lt;/b&gt;</td>\n",
       "      <td>a8560065-b372-4da3-b7a3-8afea045deaf</td>\n",
       "      <td>None</td>\n",
       "      <td>None</td>\n",
       "      <td></td>\n",
       "      <td>6963e0f6-4286-4dd4-b8b6-00076e6a410a</td>\n",
       "    </tr>\n",
       "    <tr>\n",
       "      <th>3</th>\n",
       "      <td>&lt;span lang=\"EN-GB\"&gt; &lt;/span&gt;</td>\n",
       "      <td>779e8dfb-9cea-42e2-b920-e44a857419f2</td>\n",
       "      <td>None</td>\n",
       "      <td>None</td>\n",
       "      <td></td>\n",
       "      <td>a8560065-b372-4da3-b7a3-8afea045deaf</td>\n",
       "    </tr>\n",
       "    <tr>\n",
       "      <th>4</th>\n",
       "      <td>&lt;p align=\"center\" class=\"MsoNormal\" style=\"tex...</td>\n",
       "      <td>93293bb8-f80f-45e4-8a21-44c96e04cb05</td>\n",
       "      <td>text-align:center;line-height:normal</td>\n",
       "      <td>['MsoNormal']</td>\n",
       "      <td></td>\n",
       "      <td>3e2a3206-fd9a-44bf-aef8-0e8ad3a831bc</td>\n",
       "    </tr>\n",
       "  </tbody>\n",
       "</table>\n",
       "</div>"
      ],
      "text/plain": [
       "                                             Element  \\\n",
       "0  <div class=\"WordSection1\">\\n<p align=\"center\" ...   \n",
       "1  <p align=\"center\" class=\"MsoNormal\" style=\"tex...   \n",
       "2                 <b><span lang=\"EN-GB\"> </span></b>   \n",
       "3                        <span lang=\"EN-GB\"> </span>   \n",
       "4  <p align=\"center\" class=\"MsoNormal\" style=\"tex...   \n",
       "\n",
       "                                     ID                                Styles  \\\n",
       "0  3e2a3206-fd9a-44bf-aef8-0e8ad3a831bc                                  None   \n",
       "1  6963e0f6-4286-4dd4-b8b6-00076e6a410a  text-align:center;line-height:normal   \n",
       "2  a8560065-b372-4da3-b7a3-8afea045deaf                                  None   \n",
       "3  779e8dfb-9cea-42e2-b920-e44a857419f2                                  None   \n",
       "4  93293bb8-f80f-45e4-8a21-44c96e04cb05  text-align:center;line-height:normal   \n",
       "\n",
       "            Classes                                               Text  \\\n",
       "0  ['WordSection1']                                                ...   \n",
       "1     ['MsoNormal']                                                      \n",
       "2              None                                                      \n",
       "3              None                                                      \n",
       "4     ['MsoNormal']                                                      \n",
       "\n",
       "                               ParentId  \n",
       "0  e9d4b2e0-92b9-49b1-a8f2-ce3c8b999d5a  \n",
       "1  3e2a3206-fd9a-44bf-aef8-0e8ad3a831bc  \n",
       "2  6963e0f6-4286-4dd4-b8b6-00076e6a410a  \n",
       "3  a8560065-b372-4da3-b7a3-8afea045deaf  \n",
       "4  3e2a3206-fd9a-44bf-aef8-0e8ad3a831bc  "
      ]
     },
     "metadata": {},
     "output_type": "display_data"
    },
    {
     "name": "stdout",
     "output_type": "stream",
     "text": [
      "***************************************************************************************************\n",
      "*************************** Texts with more than 2 characters**************************************\n"
     ]
    },
    {
     "data": {
      "text/html": [
       "<div>\n",
       "<style scoped>\n",
       "    .dataframe tbody tr th:only-of-type {\n",
       "        vertical-align: middle;\n",
       "    }\n",
       "\n",
       "    .dataframe tbody tr th {\n",
       "        vertical-align: top;\n",
       "    }\n",
       "\n",
       "    .dataframe thead th {\n",
       "        text-align: right;\n",
       "    }\n",
       "</style>\n",
       "<table border=\"1\" class=\"dataframe\">\n",
       "  <thead>\n",
       "    <tr style=\"text-align: right;\">\n",
       "      <th></th>\n",
       "      <th>Element</th>\n",
       "      <th>ID</th>\n",
       "      <th>Styles</th>\n",
       "      <th>Classes</th>\n",
       "      <th>Text</th>\n",
       "      <th>ParentId</th>\n",
       "    </tr>\n",
       "  </thead>\n",
       "  <tbody>\n",
       "    <tr>\n",
       "      <th>0</th>\n",
       "      <td>&lt;div class=\"WordSection1\"&gt;\\n&lt;p align=\"center\" ...</td>\n",
       "      <td>3e2a3206-fd9a-44bf-aef8-0e8ad3a831bc</td>\n",
       "      <td>None</td>\n",
       "      <td>['WordSection1']</td>\n",
       "      <td>...</td>\n",
       "      <td>e9d4b2e0-92b9-49b1-a8f2-ce3c8b999d5a</td>\n",
       "    </tr>\n",
       "    <tr>\n",
       "      <th>72</th>\n",
       "      <td>&lt;span lang=\"EN-GB\"&gt;ANNEX I&lt;/span&gt;</td>\n",
       "      <td>0f5287b4-794a-4d1a-aad2-2aae1a905569</td>\n",
       "      <td>None</td>\n",
       "      <td>None</td>\n",
       "      <td>ANNEX I</td>\n",
       "      <td>34b7c9ce-bd8a-4f6f-8279-66600ab0a8d7</td>\n",
       "    </tr>\n",
       "    <tr>\n",
       "      <th>76</th>\n",
       "      <td>&lt;span lang=\"EN-GB\"&gt;SUMMARY OF PRODUCT CHARACTE...</td>\n",
       "      <td>d11f0a7f-0887-418b-ada3-14819b82cae7</td>\n",
       "      <td>None</td>\n",
       "      <td>None</td>\n",
       "      <td>SUMMARY OF PRODUCT CHARACTERISTICS</td>\n",
       "      <td>33e1a99d-f9a6-403c-8a40-6d5b53c37a47</td>\n",
       "    </tr>\n",
       "    <tr>\n",
       "      <th>87</th>\n",
       "      <td>&lt;span lang=\"EN-GB\" style='font-size:11.0pt;fon...</td>\n",
       "      <td>d76163ec-524e-4717-b6ed-b1b4074daec0</td>\n",
       "      <td>font-size:11.0pt;font-family:\\n\"Times New Roma...</td>\n",
       "      <td>None</td>\n",
       "      <td>1.       NAME OF THE MEDICINAL PRODUCT</td>\n",
       "      <td>b55a7891-07fd-4174-b3f9-ee725bb71a3c</td>\n",
       "    </tr>\n",
       "    <tr>\n",
       "      <th>91</th>\n",
       "      <td>&lt;span lang=\"EN-GB\"&gt;Kalydeco 150 mg film‑coated...</td>\n",
       "      <td>2f06c5b6-9c4e-4759-951f-800d47f540bc</td>\n",
       "      <td>None</td>\n",
       "      <td>None</td>\n",
       "      <td>Kalydeco 150 mg film‑coated tablets</td>\n",
       "      <td>5f5ea5ed-b8ca-4b87-9f84-15086ab97172</td>\n",
       "    </tr>\n",
       "  </tbody>\n",
       "</table>\n",
       "</div>"
      ],
      "text/plain": [
       "                                              Element  \\\n",
       "0   <div class=\"WordSection1\">\\n<p align=\"center\" ...   \n",
       "72                  <span lang=\"EN-GB\">ANNEX I</span>   \n",
       "76  <span lang=\"EN-GB\">SUMMARY OF PRODUCT CHARACTE...   \n",
       "87  <span lang=\"EN-GB\" style='font-size:11.0pt;fon...   \n",
       "91  <span lang=\"EN-GB\">Kalydeco 150 mg film‑coated...   \n",
       "\n",
       "                                      ID  \\\n",
       "0   3e2a3206-fd9a-44bf-aef8-0e8ad3a831bc   \n",
       "72  0f5287b4-794a-4d1a-aad2-2aae1a905569   \n",
       "76  d11f0a7f-0887-418b-ada3-14819b82cae7   \n",
       "87  d76163ec-524e-4717-b6ed-b1b4074daec0   \n",
       "91  2f06c5b6-9c4e-4759-951f-800d47f540bc   \n",
       "\n",
       "                                               Styles           Classes  \\\n",
       "0                                                None  ['WordSection1']   \n",
       "72                                               None              None   \n",
       "76                                               None              None   \n",
       "87  font-size:11.0pt;font-family:\\n\"Times New Roma...              None   \n",
       "91                                               None              None   \n",
       "\n",
       "                                                 Text  \\\n",
       "0                                                 ...   \n",
       "72                                            ANNEX I   \n",
       "76                 SUMMARY OF PRODUCT CHARACTERISTICS   \n",
       "87             1.       NAME OF THE MEDICINAL PRODUCT   \n",
       "91                Kalydeco 150 mg film‑coated tablets   \n",
       "\n",
       "                                ParentId  \n",
       "0   e9d4b2e0-92b9-49b1-a8f2-ce3c8b999d5a  \n",
       "72  34b7c9ce-bd8a-4f6f-8279-66600ab0a8d7  \n",
       "76  33e1a99d-f9a6-403c-8a40-6d5b53c37a47  \n",
       "87  b55a7891-07fd-4174-b3f9-ee725bb71a3c  \n",
       "91  5f5ea5ed-b8ca-4b87-9f84-15086ab97172  "
      ]
     },
     "metadata": {},
     "output_type": "display_data"
    }
   ],
   "source": [
    "path_json = os.path.join(os.path.abspath(os.path.join('..')), 'data', 'outputJSON')\n",
    "output_filename = os.path.join( path_json , 'Kalydeco II-86-PI-clean.json')\n",
    "print('File being processed: ' + output_filename)\n",
    "df = pd.DataFrame(loadJSON_Convert_to_DF(output_filename))\n",
    "print(df.shape)\n",
    "display(df.head(5))\n",
    "\n",
    "print('***************************************************************************************************')\n",
    "print('*************************** Texts with more than 2 characters**************************************')\n",
    "def lenCheck(str):\n",
    "    Threshold = 2\n",
    "    return len(str)>Threshold\n",
    "ind = df['Text'].apply(lambda x: lenCheck(x))\n",
    "display(df.loc[ind,:].head(5))"
   ]
  },
  {
   "cell_type": "code",
   "execution_count": 155,
   "metadata": {
    "scrolled": false
   },
   "outputs": [
    {
     "name": "stdout",
     "output_type": "stream",
     "text": [
      "--> annex i \n",
      "\n",
      "--> summary of product characteristics \n",
      "\n",
      "--> 1. name of the medicinal product \n",
      "\n",
      "--> kalydeco 150 mg film coated tablets \n",
      "\n",
      "--> 2. qualitative and quantitative composition \n",
      "\n",
      "--> each film coated tablet contains 150 mg of ivacaftor. \n",
      "\n",
      "--> excipient with known effect \n",
      "\n",
      "--> each film coated tablet contains 167.2 mg of lactose monohydrate. \n",
      "\n",
      "--> for the full list of excipients see section 6.1. \n",
      "\n",
      "--> 3. pharmaceutical form \n",
      "\n",
      "--> film coated tablet tablet  \n",
      "\n",
      "--> light blue capsule shaped film coated tablets printed with v 150 in black ink on one side and plain on the other \n",
      "\n",
      "-->  16.5 mm x 8.4 mm in modified tablet shape . \n",
      "\n",
      "--> 4.  \n",
      "\n",
      "--> clinical particulars \n",
      "\n"
     ]
    }
   ],
   "source": [
    "import re\n",
    "import unicodedata\n",
    "\n",
    "def preprocessStr(str_):\n",
    "    str_ = re.sub('[^A-Za-z0-9.-]+', ' ', str_)\n",
    "    str_ = unicodedata.normalize(\"NFKD\",str_)\n",
    "    return str_.lower()\n",
    "\n",
    "listOfTexts = [preprocessStr(i) for i in df['Text']]\n",
    "\n",
    "#print out some processed texts\n",
    "vec = [print('--> ' +i+' \\n') for i in listOfTexts[0:140] if len(i)>2]"
   ]
  },
  {
   "cell_type": "markdown",
   "metadata": {},
   "source": [
    "### Loading the QRD template file"
   ]
  },
  {
   "cell_type": "code",
   "execution_count": 170,
   "metadata": {},
   "outputs": [
    {
     "name": "stdout",
     "output_type": "stream",
     "text": [
      "Processing for language:  bg\n",
      "Processing for language:  cs\n",
      "Processing for language:  de\n",
      "Processing for language:  es\n",
      "Processing for language:  et\n",
      "Processing for language:  nl\n",
      "Processing for language:  se\n",
      "Processing for language:  en\n"
     ]
    }
   ],
   "source": [
    "filePath = os.path.join(os.path.abspath(os.path.join('..')), 'data', 'control')\n",
    "fileName = r'qrd_canonical_model_multilingual.csv'\n",
    "\n",
    "\n",
    "filepath = os.path.join(filePath, fileName)\n",
    "qrddict = loadQRDFile(filepath)"
   ]
  },
  {
   "cell_type": "markdown",
   "metadata": {},
   "source": [
    "### Priniting the Template"
   ]
  },
  {
   "cell_type": "code",
   "execution_count": 40,
   "metadata": {},
   "outputs": [
    {
     "name": "stdout",
     "output_type": "stream",
     "text": [
      "{'Id': '28001',\n",
      " 'children': [{'Id': '28002',\n",
      "               'displayCode': nan,\n",
      "               'name': 'qThis medicinal product is subject to additional '\n",
      "                       'monitoring. This will allow quick identification of '\n",
      "                       'new safety information. Healthcare professionals are '\n",
      "                       'asked to report any suspected adverse reactions. See '\n",
      "                       'section 4.8 for how to report adverse reactions.'},\n",
      "              {'Id': '28003',\n",
      "               'displayCode': '1',\n",
      "               'name': 'NAME OF THE MEDICINAL PRODUCT'},\n",
      "              {'Id': '28004',\n",
      "               'children': [...],\n",
      "               'displayCode': '2',\n",
      "               'name': 'QUALITATIVE AND QUANTITATIVE COMPOSITION'},\n",
      "              {'Id': '28008',\n",
      "               'displayCode': '3',\n",
      "               'name': 'PHARMACEUTICAL FORM'},\n",
      "              {'Id': '28009',\n",
      "               'children': [...],\n",
      "               'displayCode': '4',\n",
      "               'name': 'CLINICAL PARTICULARS'},\n",
      "              {'Id': '28032',\n",
      "               'children': [...],\n",
      "               'displayCode': '5',\n",
      "               'name': 'PHARMACOLOGICAL PROPERTIES'},\n",
      "              {'Id': '28047',\n",
      "               'children': [...],\n",
      "               'displayCode': '6',\n",
      "               'name': 'PHARMACEUTICAL PARTICULARS'},\n",
      "              {'Id': '28055',\n",
      "               'displayCode': '7',\n",
      "               'name': 'MARKETING AUTHORISATION HOLDER'},\n",
      "              {'Id': '28056',\n",
      "               'displayCode': '8',\n",
      "               'name': 'MARKETING AUTHORISATION NUMBER(S)'},\n",
      "              {'Id': '28057',\n",
      "               'displayCode': '9',\n",
      "               'name': 'DATE OF FIRST AUTHORISATION/RENEWAL OF THE '\n",
      "                       'AUTHORISATION'},\n",
      "              {'Id': '28058',\n",
      "               'displayCode': '10',\n",
      "               'name': 'DATE OF REVISION OF THE TEXT'},\n",
      "              {'Id': '28059', 'displayCode': '11', 'name': 'DOSIMETRY'},\n",
      "              {'Id': '28060',\n",
      "               'displayCode': '12',\n",
      "               'name': 'INSTRUCTIONS FOR PREPARATION OF RADIOPHARMACEUTICALS'}],\n",
      " 'displayCode': nan,\n",
      " 'name': 'SUMMARY OF PRODUCT CHARACTERISTICS'}\n"
     ]
    }
   ],
   "source": [
    "qrd = qrddict['en']['CAP']['SmPC']['tree'][0]\n",
    "\n",
    "import pprint\n",
    "pp = pprint.PrettyPrinter(depth=3)\n",
    "pp.pprint(qrd)"
   ]
  },
  {
   "cell_type": "code",
   "execution_count": 169,
   "metadata": {
    "scrolled": false
   },
   "outputs": [
    {
     "name": "stdout",
     "output_type": "stream",
     "text": [
      "dict_keys(['SmPC', 'AnnexII', 'Labelling', 'Package leaflet'])\n",
      "{'Id': '28001',\n",
      " 'children': [{'Id': '28002',\n",
      "               'displayCode': nan,\n",
      "               'name': 'qThis medicinal product is subject to additional '\n",
      "                       'monitoring. This will allow quick identification of '\n",
      "                       'new safety information. Healthcare professionals are '\n",
      "                       'asked to report any suspected adverse reactions. See '\n",
      "                       'section 4.8 for how to report adverse reactions.'},\n",
      "              {'Id': '28003',\n",
      "               'displayCode': '1',\n",
      "               'name': 'NAME OF THE MEDICINAL PRODUCT'},\n",
      "              {'Id': '28004',\n",
      "               'children': [{'Id': '28005',\n",
      "                             'displayCode': '2.1',\n",
      "                             'name': 'General description'},\n",
      "                            {'Id': '28006',\n",
      "                             'children': [...],\n",
      "                             'displayCode': '2.2',\n",
      "                             'name': 'Qualitative and quantitative '\n",
      "                                     'composition'}],\n",
      "               'displayCode': '2',\n",
      "               'name': 'QUALITATIVE AND QUANTITATIVE COMPOSITION'},\n",
      "              {'Id': '28008',\n",
      "               'displayCode': '3',\n",
      "               'name': 'PHARMACEUTICAL FORM'},\n",
      "              {'Id': '28009',\n",
      "               'children': [{'Id': '28010',\n",
      "                             'displayCode': '4.1',\n",
      "                             'name': 'Therapeutic indications'},\n",
      "                            {'Id': '28011',\n",
      "                             'children': [...],\n",
      "                             'displayCode': '4.2',\n",
      "                             'name': 'Posology and method of administration'},\n",
      "                            {'Id': '28016',\n",
      "                             'displayCode': '4.3',\n",
      "                             'name': 'Contraindications'},\n",
      "                            {'Id': '28017',\n",
      "                             'children': [...],\n",
      "                             'displayCode': '4.4',\n",
      "                             'name': 'Special warnings and precautions for '\n",
      "                                     'use'},\n",
      "                            {'Id': '28020',\n",
      "                             'children': [...],\n",
      "                             'displayCode': '4.5',\n",
      "                             'name': 'Interaction with other medicinal '\n",
      "                                     'products and other forms of interaction'},\n",
      "                            {'Id': '28022',\n",
      "                             'children': [...],\n",
      "                             'displayCode': '4.6',\n",
      "                             'name': 'Fertility, pregnancy and lactation'},\n",
      "                            {'Id': '28026',\n",
      "                             'displayCode': '4.7',\n",
      "                             'name': 'Effects on ability to drive and use '\n",
      "                                     'machines'},\n",
      "                            {'Id': '28027',\n",
      "                             'children': [...],\n",
      "                             'displayCode': '4.8',\n",
      "                             'name': 'Undesirable effects'},\n",
      "                            {'Id': '28030',\n",
      "                             'children': [...],\n",
      "                             'displayCode': '4.9',\n",
      "                             'name': 'Overdose'}],\n",
      "               'displayCode': '4',\n",
      "               'name': 'CLINICAL PARTICULARS'},\n",
      "              {'Id': '28032',\n",
      "               'children': [{'Id': '28033',\n",
      "                             'children': [...],\n",
      "                             'displayCode': '5.1',\n",
      "                             'name': 'Pharmacodynamic properties'},\n",
      "                            {'Id': '28038',\n",
      "                             'children': [...],\n",
      "                             'displayCode': '5.2',\n",
      "                             'name': 'Pharmacokinetic properties'},\n",
      "                            {'Id': '28045',\n",
      "                             'children': [...],\n",
      "                             'displayCode': '5.3',\n",
      "                             'name': 'Preclinical safety data'}],\n",
      "               'displayCode': '5',\n",
      "               'name': 'PHARMACOLOGICAL PROPERTIES'},\n",
      "              {'Id': '28047',\n",
      "               'children': [{'Id': '28048',\n",
      "                             'displayCode': '6.1',\n",
      "                             'name': 'List of excipients'},\n",
      "                            {'Id': '28049',\n",
      "                             'displayCode': '6.2',\n",
      "                             'name': 'Incompatibilities'},\n",
      "                            {'Id': '28050',\n",
      "                             'displayCode': '6.3',\n",
      "                             'name': 'Shelf life'},\n",
      "                            {'Id': '28051',\n",
      "                             'displayCode': '6.4',\n",
      "                             'name': 'Special precautions for storage'},\n",
      "                            {'Id': '28052',\n",
      "                             'displayCode': '6.5',\n",
      "                             'name': 'Nature and contents of container <and '\n",
      "                                     'special equipment for use administration '\n",
      "                                     'or implantation>'},\n",
      "                            {'Id': '28053',\n",
      "                             'children': [...],\n",
      "                             'displayCode': '6.6',\n",
      "                             'name': 'Special precautions for disposal <and '\n",
      "                                     'other handling>'}],\n",
      "               'displayCode': '6',\n",
      "               'name': 'PHARMACEUTICAL PARTICULARS'},\n",
      "              {'Id': '28055',\n",
      "               'displayCode': '7',\n",
      "               'name': 'MARKETING AUTHORISATION HOLDER'},\n",
      "              {'Id': '28056',\n",
      "               'displayCode': '8',\n",
      "               'name': 'MARKETING AUTHORISATION NUMBER(S)'},\n",
      "              {'Id': '28057',\n",
      "               'displayCode': '9',\n",
      "               'name': 'DATE OF FIRST AUTHORISATION/RENEWAL OF THE '\n",
      "                       'AUTHORISATION'},\n",
      "              {'Id': '28058',\n",
      "               'displayCode': '10',\n",
      "               'name': 'DATE OF REVISION OF THE TEXT'},\n",
      "              {'Id': '28059', 'displayCode': '11', 'name': 'DOSIMETRY'},\n",
      "              {'Id': '28060',\n",
      "               'displayCode': '12',\n",
      "               'name': 'INSTRUCTIONS FOR PREPARATION OF RADIOPHARMACEUTICALS'}],\n",
      " 'displayCode': nan,\n",
      " 'name': 'SUMMARY OF PRODUCT CHARACTERISTICS'}\n"
     ]
    }
   ],
   "source": [
    "qrd = qrddict['en']['CAP']\n",
    "print(qrd.keys())\n",
    "\n",
    "# now we go over each section one by one\n",
    "# we start by SmPC\n",
    "# will not be using any styling information here\n",
    "qrd = qrddict['en']['CAP']['SmPC']['tree'][0]\n",
    "import pprint\n",
    "pp = pprint.PrettyPrinter(depth=5)\n",
    "pp.pprint(qrd)\n"
   ]
  },
  {
   "cell_type": "markdown",
   "metadata": {},
   "source": [
    "### Search and Matching"
   ]
  },
  {
   "cell_type": "code",
   "execution_count": 87,
   "metadata": {},
   "outputs": [],
   "source": [
    "# !pip install fuzzywuzzy\n",
    "# !pip install python-Levenshtein"
   ]
  },
  {
   "cell_type": "code",
   "execution_count": 8,
   "metadata": {},
   "outputs": [
    {
     "name": "stderr",
     "output_type": "stream",
     "text": [
      "c:\\users\\muhamayu\\appdata\\local\\programs\\python\\python38\\lib\\site-packages\\fuzzywuzzy\\fuzz.py:11: UserWarning: Using slow pure-python SequenceMatcher. Install python-Levenshtein to remove this warning\n",
      "  warnings.warn('Using slow pure-python SequenceMatcher. Install python-Levenshtein to remove this warning')\n"
     ]
    }
   ],
   "source": [
    "from fuzzywuzzy import fuzz\n",
    "from fuzzywuzzy import process"
   ]
  },
  {
   "cell_type": "code",
   "execution_count": 148,
   "metadata": {},
   "outputs": [
    {
     "name": "stdout",
     "output_type": "stream",
     "text": [
      "93\n",
      "83\n",
      "94\n"
     ]
    }
   ],
   "source": [
    "# print(fuzz.ratio(\"Catherine M Gitau\",\"Catherine Gitau\"))\n",
    "print(fuzz.ratio(\"abcuidfg\",\"abcuidf\"))\n",
    "#91\n",
    "# print(fuzz.partial_ratio(\"Catherine M. Gitau\",\"Catherine Gitau\"))\n",
    "print(fuzz.partial_ratio(\" \", \"abcu wvfr ewfwr gegQ\"))\n",
    "print(fuzz.token_sort_ratio(\"Catherine Gitau M.\", \"Gitau Catherine\"))"
   ]
  },
  {
   "cell_type": "code",
   "execution_count": 124,
   "metadata": {},
   "outputs": [
    {
     "name": "stdout",
     "output_type": "stream",
     "text": [
      "dict_keys(['SmPC', 'AnnexII', 'Labelling', 'Package leaflet'])\n",
      "---> SmPC---------------------------------------------------\n",
      "qThis medicinal product is subject to additional monitoring. This will allow quick identification of new safety information. Healthcare professionals are asked to report any suspected adverse reactions. See section 4.8 for how to report adverse reactions.\n",
      "NAME OF THE MEDICINAL PRODUCT\n",
      "QUALITATIVE AND QUANTITATIVE COMPOSITION\n",
      "PHARMACEUTICAL FORM\n",
      "CLINICAL PARTICULARS\n",
      "PHARMACOLOGICAL PROPERTIES\n",
      "PHARMACEUTICAL PARTICULARS\n",
      "MARKETING AUTHORISATION HOLDER\n",
      "MARKETING AUTHORISATION NUMBER(S)\n",
      "DATE OF FIRST AUTHORISATION/RENEWAL OF THE AUTHORISATION\n",
      "DATE OF REVISION OF THE TEXT\n",
      "DOSIMETRY\n",
      "INSTRUCTIONS FOR PREPARATION OF RADIOPHARMACEUTICALS\n",
      "---> AnnexII---------------------------------------------------\n",
      "MANUFACTURER(S) OF THE BIOLOGICAL ACTIVE SUBSTANCE(S) AND MANUFACTURER(S) RESPONSIBLE FOR BATCH RELEASE\n",
      "CONDITIONS OR RESTRICTIONS REGARDING SUPPLY AND USE\n",
      "OTHER CONDITIONS AND REQUIREMENTS OF THE MARKETING AUTHORISATION\n",
      "CONDITIONS OR RESTRICTIONS WITH REGARD TO THE SAFE AND EFFECTIVE USE OF THE MEDICINAL PRODUCT\n",
      "SPECIFIC OBLIGATION TO COMPLETE POST-AUTHORISATION MEASURES FOR\n",
      "<THE CONDITIONAL MARKETING AUTHORISATION> <THE MARKETING AUTHORISATION UNDER EXCEPTIONAL CIRCUMSTANCES>\n",
      "---> Labelling---------------------------------------------------\n",
      "PARTICULARS TO APPEAR ON <THE OUTER PACKAGING> <AND> <THE IMMEDIATE PACKAGING>\n",
      "MINIMUM PARTICULARS TO APPEAR ON BLISTERS OR STRIPS\n",
      "MINIMUM PARTICULARS TO APPEAR ON SMALL IMMEDIATE PACKAGING UNITS\n",
      "---> Package leaflet---------------------------------------------------\n",
      "q This medicine is subject to additional monitoring. This will allow quick identification of new safety information. You can help by reporting any side effects you may get. See the end of section 4 for how to report side effects.\n",
      "What is in this leaflet\n",
      "What X is and what it is used for\n",
      "What you need to know before you <take> <use> X \n",
      "How to <take> <use> X \n",
      "Possible side effects\n",
      "How to store X\n",
      "Contents of the pack and other information\n",
      "The following information is intended for healthcare professionals only:\n"
     ]
    }
   ],
   "source": [
    "qrd['children'][2]['children'][1]['children']\n",
    "print(qrddict['en']['CAP'].keys())\n",
    "qrd = qrddict['en']['CAP']['SmPC']['tree'][0]\n",
    "for j in qrddict['en']['CAP'].keys():\n",
    "    print('---> ' + j+'---------------------------------------------------')\n",
    "    qrdTemp  = qrddict['en']['CAP'][j]['tree'][0]\n",
    "    for i in qrdTemp['children']:\n",
    "        print(i['name'])"
   ]
  },
  {
   "cell_type": "code",
   "execution_count": 121,
   "metadata": {},
   "outputs": [
    {
     "name": "stdout",
     "output_type": "stream",
     "text": [
      "0\n",
      "5\n"
     ]
    }
   ],
   "source": [
    "import distance\n",
    "print(distance.levenshtein(\"lenvestn\", \"lenvestn\"))\n",
    "print(distance.levenshtein(\"levenshtein\", \"lenvestn\"))"
   ]
  },
  {
   "cell_type": "code",
   "execution_count": 27,
   "metadata": {},
   "outputs": [],
   "source": [
    "def matchLogic(strOriginal, strSearch):\n",
    "    '''When the string from the document has a length of 20% or less than the \n",
    "    length of the text that is being searched, we just immediately set it to 0'''\n",
    "    if len(strOriginal) < .2*len(strSearch):\n",
    "        return 0\n",
    "    else:\n",
    "        match = fuzz.partial_ratio(strOriginal , textToMatch) \n",
    "        return match\n",
    "\n",
    "    \n",
    "def checkLevDistance(token_ , list_, p):\n",
    "    '''\n",
    "    *called by checkMissingTokens\n",
    "    This function will take a token and a list, and then for each element in the list\n",
    "    try to match it with the token. \n",
    "    If an element match approximately matches with the token in such a way that there is\n",
    "    a partial match with a percentage less than p%, then we return that this has been found.\n",
    "    '''\n",
    "    tokenLen  = len(token_)\n",
    "    for i in list_:\n",
    "        dist = levenshtein(token_, i)\n",
    "        if dist < p*(tokenLen)/100:\n",
    "            return True\n",
    "    return False\n",
    "\n",
    "def checkMissingTokens(str1_Search, str2_Original):\n",
    "    '''will check which words of str1_Search are absent in str2_Original.\n",
    "        - But this will try to match the exact tokens. \n",
    "        - So, two words such that one is with an 's' at the end, \n",
    "            will be considered to be completely different from one another. \n",
    "        - Here, checkLevDistance has been introduced, it will say that a token\n",
    "            exists in a list if the levenshtien distance is less than 10%. Ofcourse, this\n",
    "            may fail for very small strings for e.g., the ones that are less than 4 or\n",
    "            5 characters.\n",
    "    '''\n",
    "    str1 = str1_Search.split(\" \")\n",
    "    str2 = str2_Original.split(\" \")\n",
    "    missingTokens = []\n",
    "    for i in str1:\n",
    "        if i not in str2:\n",
    "            levStatus = checkLevDistance(i, str2, 10)\n",
    "            # if levStatus == True then its not a missing token\n",
    "            if (not levStatus) & (isImportantToken(i)):\n",
    "                missingTokens.append(i)\n",
    "    str1Len= len(str1)\n",
    "    missingLen = len(missingTokens)\n",
    "    return missingTokens, str1Len, len(str2) , missingLen, str1Len-missingLen, \\\n",
    "            levenshtein(str1_Search, str2_Original)\n",
    "\n",
    "def isImportantToken(token):\n",
    "    '''check if this is an important token and not just a stopword.\n",
    "    We declare a token as an important one if:\n",
    "    1- its len > 5\n",
    "    2- it is not a stopword\n",
    "    3- is not a number (looking at the qrd template, pure numbers are not important)\n",
    "    4- is not an optional token.\n",
    "    '''\n",
    "    if len(token)>2:\n",
    "        return True\n",
    "    else:\n",
    "        return False\n",
    "    \n",
    "def extractUniqueMatches(dfmatched, N):\n",
    "    '''This function will return the top N unique matches.\n",
    "    '''\n",
    "    dfmatched = dfmatched.sort_values(['score', 'index'], ascending = [False, True])\n",
    "    uni_  = dfmatched['original'].unique()[0:N]\n",
    "    ind = np.array([False]*dfmatched.shape[0])\n",
    "    for i in uni_:\n",
    "        ind = ind | (np.in1d(dfmatched['original'], i))\n",
    "    return dfmatched.loc[ind, :]\n",
    "    \n",
    "    \n",
    "def foundString(dfmatched, textToMatch):\n",
    "    '''This function will make a call on whether a certain string has been convincingly found\n",
    "        in the document. The criteria is the following:\n",
    "        0- top 10 best unique matches will be picked. The focus is on 'unique'.\n",
    "        1- look for a 100% match\n",
    "        2- if a 100% match is not found, look at the ones that are not perfect matches\n",
    "        3- check if all important tokens are in there\n",
    "        4- check the place where this has been detected. what is the likelihood for this string\n",
    "            to be in the location where it has been spotted.\n",
    "    '''\n",
    "    return True\n",
    "\n",
    "def normalize_(series_, invert = False):\n",
    "    series_ = np.array(series_)\n",
    "    if not invert:\n",
    "        sum_ = sum(series_)\n",
    "        series_ = series_/sum_\n",
    "        return series_\n",
    "    else:\n",
    "        series_ = 1/series_\n",
    "        sum_ = sum(series_)\n",
    "        series_ = series_/sum_\n",
    "        return series_\n",
    "\n",
    "    \n",
    "def levenshtein(seq1, seq2):\n",
    "    size_x = len(seq1) + 1\n",
    "    size_y = len(seq2) + 1\n",
    "    matrix = np.zeros ((size_x, size_y))\n",
    "    for x in range(size_x):\n",
    "        matrix [x, 0] = x\n",
    "    for y in range(size_y):\n",
    "        matrix [0, y] = y\n",
    "\n",
    "    for x in range(1, size_x):\n",
    "        for y in range(1, size_y):\n",
    "            if seq1[x-1] == seq2[y-1]:\n",
    "                matrix [x,y] = min(\n",
    "                    matrix[x-1, y] + 1,\n",
    "                    matrix[x-1, y-1],\n",
    "                    matrix[x, y-1] + 1\n",
    "                )\n",
    "            else:\n",
    "                matrix [x,y] = min(\n",
    "                    matrix[x-1,y] + 1,\n",
    "                    matrix[x-1,y-1] + 1,\n",
    "                    matrix[x,y-1] + 1\n",
    "                )\n",
    "    #print(matrix)\n",
    "    return (matrix[size_x - 1, size_y - 1])"
   ]
  },
  {
   "cell_type": "markdown",
   "metadata": {},
   "source": [
    "### Building Search Logic"
   ]
  },
  {
   "cell_type": "code",
   "execution_count": 165,
   "metadata": {},
   "outputs": [],
   "source": [
    "# print(listOfTexts[0:100])\n",
    "textToMatch = 'MARKETING AUTHORISATION NUMBER'\n",
    "textToMatch = 'PHARMACEUTICAL PARTICULARS'\n",
    "# textToMatch = 'MARKETING AUTHORISATION NUMBER(S)'\n",
    "# textToMatch = 'PARTICULARS TO APPEAR ON <THE OUTER PACKAGING> <AND> <THE IMMEDIATE PACKAGING>'\n",
    "# textToMatch = 'INSTRUCTIONS FOR PREPARATION OF RADIOPHARMACEUTICALS'\n",
    "textToMatch  = preprocessStr(textToMatch)"
   ]
  },
  {
   "cell_type": "code",
   "execution_count": 166,
   "metadata": {},
   "outputs": [
    {
     "name": "stdout",
     "output_type": "stream",
     "text": [
      "pharmaceutical particulars\n"
     ]
    },
    {
     "data": {
      "text/html": [
       "<div>\n",
       "<style scoped>\n",
       "    .dataframe tbody tr th:only-of-type {\n",
       "        vertical-align: middle;\n",
       "    }\n",
       "\n",
       "    .dataframe tbody tr th {\n",
       "        vertical-align: top;\n",
       "    }\n",
       "\n",
       "    .dataframe thead th {\n",
       "        text-align: right;\n",
       "    }\n",
       "</style>\n",
       "<table border=\"1\" class=\"dataframe\">\n",
       "  <thead>\n",
       "    <tr style=\"text-align: right;\">\n",
       "      <th></th>\n",
       "      <th>index</th>\n",
       "      <th>original</th>\n",
       "      <th>score</th>\n",
       "    </tr>\n",
       "  </thead>\n",
       "  <tbody>\n",
       "    <tr>\n",
       "      <th>0</th>\n",
       "      <td>0</td>\n",
       "      <td></td>\n",
       "      <td>0</td>\n",
       "    </tr>\n",
       "    <tr>\n",
       "      <th>1</th>\n",
       "      <td>1</td>\n",
       "      <td></td>\n",
       "      <td>0</td>\n",
       "    </tr>\n",
       "    <tr>\n",
       "      <th>2</th>\n",
       "      <td>2</td>\n",
       "      <td></td>\n",
       "      <td>0</td>\n",
       "    </tr>\n",
       "    <tr>\n",
       "      <th>3</th>\n",
       "      <td>3</td>\n",
       "      <td></td>\n",
       "      <td>0</td>\n",
       "    </tr>\n",
       "    <tr>\n",
       "      <th>4</th>\n",
       "      <td>4</td>\n",
       "      <td></td>\n",
       "      <td>0</td>\n",
       "    </tr>\n",
       "  </tbody>\n",
       "</table>\n",
       "</div>"
      ],
      "text/plain": [
       "   index original  score\n",
       "0      0               0\n",
       "1      1               0\n",
       "2      2               0\n",
       "3      3               0\n",
       "4      4               0"
      ]
     },
     "execution_count": 166,
     "metadata": {},
     "output_type": "execute_result"
    }
   ],
   "source": [
    "print(textToMatch)\n",
    "matchDF = {'original': listOfTexts, \n",
    "           'score':  [matchLogic(i, textToMatch) for i in listOfTexts] }\n",
    "dfmatched = pd.DataFrame(matchDF).reset_index(drop = False)\n",
    "# dfmatched = dfmatched.sort_values(['score', 'index'], ascending = [False, True])\n",
    "dfmatched.head(5)"
   ]
  },
  {
   "cell_type": "code",
   "execution_count": 167,
   "metadata": {
    "scrolled": false
   },
   "outputs": [
    {
     "data": {
      "text/html": [
       "<div>\n",
       "<style scoped>\n",
       "    .dataframe tbody tr th:only-of-type {\n",
       "        vertical-align: middle;\n",
       "    }\n",
       "\n",
       "    .dataframe tbody tr th {\n",
       "        vertical-align: top;\n",
       "    }\n",
       "\n",
       "    .dataframe thead th {\n",
       "        text-align: right;\n",
       "    }\n",
       "</style>\n",
       "<table border=\"1\" class=\"dataframe\">\n",
       "  <thead>\n",
       "    <tr style=\"text-align: right;\">\n",
       "      <th></th>\n",
       "      <th>index</th>\n",
       "      <th>original</th>\n",
       "      <th>score</th>\n",
       "      <th>SearchStr</th>\n",
       "      <th>fuzzMatchScore</th>\n",
       "      <th>levDistance</th>\n",
       "      <th>MissingToken</th>\n",
       "      <th>FoundTokens</th>\n",
       "      <th>levDistanceInv</th>\n",
       "    </tr>\n",
       "  </thead>\n",
       "  <tbody>\n",
       "    <tr>\n",
       "      <th>0</th>\n",
       "      <td>3162</td>\n",
       "      <td>6. pharmaceutical particulars</td>\n",
       "      <td>100</td>\n",
       "      <td>pharmaceutical particulars</td>\n",
       "      <td>0.252525</td>\n",
       "      <td>3.0</td>\n",
       "      <td>0</td>\n",
       "      <td>2</td>\n",
       "      <td>0.615385</td>\n",
       "    </tr>\n",
       "    <tr>\n",
       "      <th>1</th>\n",
       "      <td>6083</td>\n",
       "      <td>6. pharmaceutical particulars</td>\n",
       "      <td>100</td>\n",
       "      <td>pharmaceutical particulars</td>\n",
       "      <td>0.252525</td>\n",
       "      <td>3.0</td>\n",
       "      <td>0</td>\n",
       "      <td>2</td>\n",
       "      <td>0.615385</td>\n",
       "    </tr>\n",
       "    <tr>\n",
       "      <th>2</th>\n",
       "      <td>138</td>\n",
       "      <td>clinical particulars</td>\n",
       "      <td>85</td>\n",
       "      <td>pharmaceutical particulars</td>\n",
       "      <td>0.214646</td>\n",
       "      <td>9.0</td>\n",
       "      <td>1</td>\n",
       "      <td>1</td>\n",
       "      <td>0.205128</td>\n",
       "    </tr>\n",
       "    <tr>\n",
       "      <th>3</th>\n",
       "      <td>3456</td>\n",
       "      <td>clinical particulars</td>\n",
       "      <td>85</td>\n",
       "      <td>pharmaceutical particulars</td>\n",
       "      <td>0.214646</td>\n",
       "      <td>9.0</td>\n",
       "      <td>1</td>\n",
       "      <td>1</td>\n",
       "      <td>0.205128</td>\n",
       "    </tr>\n",
       "    <tr>\n",
       "      <th>4</th>\n",
       "      <td>122</td>\n",
       "      <td>3. pharmaceutical form</td>\n",
       "      <td>73</td>\n",
       "      <td>pharmaceutical particulars</td>\n",
       "      <td>0.184343</td>\n",
       "      <td>13.0</td>\n",
       "      <td>1</td>\n",
       "      <td>1</td>\n",
       "      <td>0.142012</td>\n",
       "    </tr>\n",
       "    <tr>\n",
       "      <th>5</th>\n",
       "      <td>3441</td>\n",
       "      <td>3. pharmaceutical form</td>\n",
       "      <td>73</td>\n",
       "      <td>pharmaceutical particulars</td>\n",
       "      <td>0.184343</td>\n",
       "      <td>13.0</td>\n",
       "      <td>1</td>\n",
       "      <td>1</td>\n",
       "      <td>0.142012</td>\n",
       "    </tr>\n",
       "    <tr>\n",
       "      <th>6</th>\n",
       "      <td>2888</td>\n",
       "      <td>the pharmacokinetic parameters of ivacaftor either as monotherapy or in combination with tezacaftor ivacaftor or ivacaftor tezacaftor elexacaftor are similar in males and females.</td>\n",
       "      <td>69</td>\n",
       "      <td>pharmaceutical particulars</td>\n",
       "      <td>0.174242</td>\n",
       "      <td>156.0</td>\n",
       "      <td>2</td>\n",
       "      <td>0</td>\n",
       "      <td>0.011834</td>\n",
       "    </tr>\n",
       "    <tr>\n",
       "      <th>7</th>\n",
       "      <td>2901</td>\n",
       "      <td>determined whether pharmacokinetic parameters are similar or not to those in younger adults</td>\n",
       "      <td>69</td>\n",
       "      <td>pharmaceutical particulars</td>\n",
       "      <td>0.174242</td>\n",
       "      <td>72.0</td>\n",
       "      <td>2</td>\n",
       "      <td>0</td>\n",
       "      <td>0.025641</td>\n",
       "    </tr>\n",
       "  </tbody>\n",
       "</table>\n",
       "</div>"
      ],
      "text/plain": [
       "   index  \\\n",
       "0   3162   \n",
       "1   6083   \n",
       "2    138   \n",
       "3   3456   \n",
       "4    122   \n",
       "5   3441   \n",
       "6   2888   \n",
       "7   2901   \n",
       "\n",
       "                                                                                                                                                                              original  \\\n",
       "0                                                                                                                                                        6. pharmaceutical particulars   \n",
       "1                                                                                                                                                        6. pharmaceutical particulars   \n",
       "2                                                                                                                                                                 clinical particulars   \n",
       "3                                                                                                                                                                 clinical particulars   \n",
       "4                                                                                                                                                               3. pharmaceutical form   \n",
       "5                                                                                                                                                               3. pharmaceutical form   \n",
       "6  the pharmacokinetic parameters of ivacaftor either as monotherapy or in combination with tezacaftor ivacaftor or ivacaftor tezacaftor elexacaftor are similar in males and females.   \n",
       "7                                                                                          determined whether pharmacokinetic parameters are similar or not to those in younger adults   \n",
       "\n",
       "   score                   SearchStr  fuzzMatchScore  levDistance  \\\n",
       "0    100  pharmaceutical particulars        0.252525          3.0   \n",
       "1    100  pharmaceutical particulars        0.252525          3.0   \n",
       "2     85  pharmaceutical particulars        0.214646          9.0   \n",
       "3     85  pharmaceutical particulars        0.214646          9.0   \n",
       "4     73  pharmaceutical particulars        0.184343         13.0   \n",
       "5     73  pharmaceutical particulars        0.184343         13.0   \n",
       "6     69  pharmaceutical particulars        0.174242        156.0   \n",
       "7     69  pharmaceutical particulars        0.174242         72.0   \n",
       "\n",
       "   MissingToken  FoundTokens  levDistanceInv  \n",
       "0             0            2        0.615385  \n",
       "1             0            2        0.615385  \n",
       "2             1            1        0.205128  \n",
       "3             1            1        0.205128  \n",
       "4             1            1        0.142012  \n",
       "5             1            1        0.142012  \n",
       "6             2            0        0.011834  \n",
       "7             2            0        0.025641  "
      ]
     },
     "metadata": {},
     "output_type": "display_data"
    }
   ],
   "source": [
    "#once this matching has been performed, the next task is to get the top ones\n",
    "\n",
    "def generateMatchingScores(dfmatched):\n",
    "    dfmatchedTop = extractUniqueMatches(dfmatched, N=5)\n",
    "    #display(dfmatchedTop.head(10))\n",
    "\n",
    "    result_dict = {}\n",
    "\n",
    "    for row_ in dfmatchedTop[['original', 'score']].drop_duplicates().iterrows():\n",
    "        str_ = row_[1][0]\n",
    "        score_ = row_[1][1]\n",
    "\n",
    "        missingTokens, lenTokensSearch, lenTokensOriginal, noTokensMissing, noTokensFound, \\\n",
    "            levenDist= checkMissingTokens(textToMatch, str_)\n",
    "        #print('-->', str_, missingTokens, lenTokensSearch, lenTokensOriginal, noTokensMissing, noTokensFound,\n",
    "        #    levenDist, score_)\n",
    "        result_dict = addjson(result_dict, 'SearchStr', textToMatch)\n",
    "        result_dict = addjson(result_dict, 'MatchStr', str_)\n",
    "        result_dict = addjson(result_dict, 'fuzzMatchScore', score_)\n",
    "        result_dict = addjson(result_dict, 'levDistance', levenDist)\n",
    "        result_dict = addjson(result_dict, 'MissingToken', noTokensMissing)\n",
    "        result_dict = addjson(result_dict, 'FoundTokens', noTokensFound)\n",
    "\n",
    "    df = pd.DataFrame(result_dict)\n",
    "    df['fuzzMatchScore'] = normalize_(df['fuzzMatchScore'])\n",
    "    df['levDistanceInv'] = normalize_(df['levDistance'], invert=True)\n",
    "    dfmatchedTopMerged = dfmatchedTop.merge(df, how='left', left_on='original', right_on='MatchStr')\n",
    "    return df, dfmatchedTopMerged\n",
    "\n",
    "df, dfmatchedTopMerged = generateMatchingScores(dfmatched)\n",
    "display(dfmatchedTopMerged.drop(['MatchStr'], axis= 1).head(10))"
   ]
  },
  {
   "cell_type": "code",
   "execution_count": 236,
   "metadata": {},
   "outputs": [
    {
     "name": "stdout",
     "output_type": "stream",
     "text": [
      "instructions for preparation of radiopharmaceuticals mutation n \n"
     ]
    },
    {
     "data": {
      "text/plain": [
       "([], 5, 3, 0, 5)"
      ]
     },
     "execution_count": 236,
     "metadata": {},
     "output_type": "execute_result"
    }
   ],
   "source": [
    "print(textToMatch, str_)\n",
    "checkMissingTokens(textToMatch, str_)"
   ]
  },
  {
   "cell_type": "code",
   "execution_count": 66,
   "metadata": {},
   "outputs": [],
   "source": [
    "# print(uni_[3])\n",
    "# print(textToMatch)\n",
    "# print(fuzz.partial_ratio(\"YANKEEES\", \"NEW YORK YANKEES rrgget\"))\n",
    "# print(fuzz.partial_ratio(uni_[3], 'sibtainhamayun'))\n",
    "# print(fuzz.ratio(uni_[3], 'sibtainhamayun'))\n",
    "# print(fuzz.token_sort_ratio(uni_[3], 'sibtainhamayun'))"
   ]
  },
  {
   "cell_type": "code",
   "execution_count": 222,
   "metadata": {},
   "outputs": [
    {
     "name": "stdout",
     "output_type": "stream",
     "text": [
      "10.0\n",
      "4.0\n",
      "(['radiopharmaceuticals'], 5, 5, 1, 4)\n",
      "20.0\n"
     ]
    }
   ],
   "source": [
    "print(levenshtein('textToMatch', 'Matchtextto'))\n",
    "print(levenshtein('textToMatch', 'textToMATCH'))\n",
    "print(checkMissingTokens(textToMatch, preprocessStr('INSTRUCTIONS FOR PREPARATION OF RADIOHARMACEUTICALS')))\n",
    "print(levenshtein(textToMatch, preprocessStr('INSTRUCTIONS FOR PREPARATION OF ')))"
   ]
  },
  {
   "cell_type": "code",
   "execution_count": 224,
   "metadata": {},
   "outputs": [
    {
     "data": {
      "text/plain": [
       "38.46153846153846"
      ]
     },
     "execution_count": 224,
     "metadata": {},
     "output_type": "execute_result"
    }
   ],
   "source": [
    "20*100/len(textToMatch)"
   ]
  },
  {
   "cell_type": "markdown",
   "metadata": {},
   "source": [
    "## References"
   ]
  },
  {
   "cell_type": "markdown",
   "metadata": {},
   "source": [
    "- https://chairnerd.seatgeek.com/fuzzywuzzy-fuzzy-string-matching-in-python/\n",
    "- https://stackoverflow.com/questions/31806695/when-to-use-which-fuzz-function-to-compare-2-strings/31823872\n",
    "- https://stackoverflow.com/questions/17388213/find-the-similarity-metric-between-two-strings\n",
    "- https://stackabuse.com/levenshtein-distance-and-text-similarity-in-python/\n",
    "- https://stackabuse.com/levenshtein-distance-and-text-similarity-in-python/"
   ]
  }
 ],
 "metadata": {
  "kernelspec": {
   "display_name": "Python 3",
   "language": "python",
   "name": "python3"
  },
  "language_info": {
   "codemirror_mode": {
    "name": "ipython",
    "version": 3
   },
   "file_extension": ".py",
   "mimetype": "text/x-python",
   "name": "python",
   "nbconvert_exporter": "python",
   "pygments_lexer": "ipython3",
   "version": "3.8.0"
  }
 },
 "nbformat": 4,
 "nbformat_minor": 4
}
