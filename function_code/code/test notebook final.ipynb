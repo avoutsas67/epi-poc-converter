{
 "cells": [
  {
   "cell_type": "code",
   "execution_count": 1,
   "metadata": {},
   "outputs": [],
   "source": [
    "import sys, os\n",
    "module_path = os.path.abspath(os.path.join('..'))\n",
    "module_path = os.path.join(module_path, 'scripts')\n",
    "if module_path not in sys.path:\n",
    "    sys.path.append(module_path)"
   ]
  },
  {
   "cell_type": "code",
   "execution_count": 2,
   "metadata": {},
   "outputs": [],
   "source": [
    "%load_ext autoreload\n",
    "\n",
    "%autoreload 2"
   ]
  },
  {
   "cell_type": "code",
   "execution_count": 3,
   "metadata": {},
   "outputs": [
    {
     "name": "stderr",
     "output_type": "stream",
     "text": [
      "C:\\Users\\vipsharm\\AppData\\Local\\Continuum\\anaconda3\\lib\\site-packages\\fuzzywuzzy\\fuzz.py:11: UserWarning: Using slow pure-python SequenceMatcher. Install python-Levenshtein to remove this warning\n",
      "  warnings.warn('Using slow pure-python SequenceMatcher. Install python-Levenshtein to remove this warning')\n"
     ]
    },
    {
     "name": "stdout",
     "output_type": "stream",
     "text": [
      "The autoreload extension is already loaded. To reload it, use:\n",
      "  %reload_ext autoreload\n"
     ]
    }
   ],
   "source": [
    "import pprint\n",
    "import pandas as pd\n",
    "import uuid\n",
    "import json\n",
    "import os\n",
    "import glob\n",
    "import re\n",
    "import sys\n",
    "from bs4 import NavigableString, BeautifulSoup\n",
    "from collections import defaultdict\n",
    "import random\n",
    "import string\n",
    "\n",
    "from utils.config import config\n",
    "from utils.logger.logger import loggerCreator\n",
    "\n",
    "## ePI Modules\n",
    "from parse.rulebook.rulebook import StyleRulesDictionary\n",
    "\n",
    "from parse.extractor.parser import parserExtractor\n",
    "from match.matchDocument.matchDocument import MatchDocument\n",
    "from documentAnnotation.documentAnnotation import DocumentAnnotation\n",
    "from htmlDocTypePartitioner.partition import DocTypePartitioner\n",
    "from extractContentBetweenHeadings.dataBetweenHeadingsExtractor import DataBetweenHeadingsExtractor\n",
    "from fhirXmlGenerator.fhirXmlGenerator import FhirXmlGenerator\n",
    "from fhirService.fhirService import FhirService\n",
    "from utils.logger.matchLogger import MatchLogger\n",
    "from languageInfo.documentTypeNames.documentTypeNames import DocumentTypeNames\n",
    "\n",
    "\n",
    "%load_ext autoreload\n",
    "\n",
    "%autoreload 2"
   ]
  },
  {
   "cell_type": "code",
   "execution_count": 4,
   "metadata": {},
   "outputs": [],
   "source": [
    "def getRandomString(N):\n",
    "    str_ = ''.join(random.choice(string.ascii_uppercase + string.digits \\\n",
    "            + string.ascii_lowercase) for _ in range(N))\n",
    "    return str_\n",
    "\n"
   ]
  },
  {
   "cell_type": "code",
   "execution_count": 5,
   "metadata": {},
   "outputs": [],
   "source": [
    "####\n",
    "#Comman Parameters\n",
    "procedureType = 'CAP'\n",
    "fileNameQrd = 'qrd_canonical_mode_CAP_NAP.csv'\n",
    "fileNameMatchRuleBook = 'ruleDict.json'\n",
    "fileNameDocumentTypeNames = 'documentTypeNames.json'"
   ]
  },
  {
   "cell_type": "code",
   "execution_count": 6,
   "metadata": {},
   "outputs": [],
   "source": [
    "\n",
    "\n",
    "def convertHtmlToJson(procedureType, languageCode, fileNameHtml, fileNameQrd, fileNameLog):\n",
    "\n",
    "    module_path = os.path.join(os.path.abspath(os.path.join('..')), 'data', 'converted_to_html', f'{procedureType}', f'{languageCode}')\n",
    "\n",
    "    # Generate output folder path\n",
    "    output_json_path = module_path.replace('converted_to_html', 'outputJSON')\n",
    "\n",
    "    \"\"\"\n",
    "        Check if input folder exists, else throw exception\n",
    "    \"\"\"\n",
    "    if(os.path.exists(module_path)):\n",
    "        filenames = glob.glob(os.path.join(module_path, fileNameHtml))\n",
    "\n",
    "        # Create language specific folder in outputJSON folder if it doesn't exist\n",
    "        if(not os.path.exists(output_json_path)):\n",
    "            os.mkdir(output_json_path)\n",
    "        logger = MatchLogger(f'Parser_{getRandomString(1)}', fileNameHtml,\n",
    "                             procedureType, languageCode, \"HTML\", fileNameLog)\n",
    "\n",
    "        styleLogger = MatchLogger(\n",
    "            f'Style Dictionary_{getRandomString(1)}', fileNameHtml, procedureType, languageCode, \"HTML\", fileNameLog)\n",
    "\n",
    "        styleRulesObj = StyleRulesDictionary(styleLogger,\n",
    "                                             language=languageCode,\n",
    "                                             fileName=fileNameQrd,\n",
    "                                             procedureType=procedureType)\n",
    "\n",
    "        parserObj = parserExtractor(config, logger, styleRulesObj.styleRuleDict,\n",
    "                                    styleRulesObj.styleFeatureKeyList,\n",
    "                                    styleRulesObj.qrd_section_headings)\n",
    "        print()\n",
    "        for input_filename in filenames:\n",
    "          # if(input_filename.find('Kalydeco II-86-PI-clean')!=-1):\n",
    "            output_filename = input_filename.replace(\n",
    "                'converted_to_html', 'outputJSON')\n",
    "            output_filename = output_filename.replace('.html', '.json')\n",
    "            output_filename = output_filename.replace('.htm', '.json')\n",
    "            print(input_filename, output_filename)\n",
    "            parserObj.createPIJsonFromHTML(input_filepath=input_filename,\n",
    "                                           output_filepath=output_filename,\n",
    "                                           img_base64_dict=parserObj.convertImgToBase64(\n",
    "                                               input_filename),\n",
    "                                           )\n",
    "    else:\n",
    "        raise FolderNotFoundError(module_path + \" not found\")\n",
    "    return output_filename.split(\"\\\\\")[-1]"
   ]
  },
  {
   "cell_type": "code",
   "execution_count": 7,
   "metadata": {},
   "outputs": [],
   "source": [
    "def splitJson(procedureType, languageCode, fileNameJson, fileNameQrd, fileNameLog):\n",
    "\n",
    "    styleLogger = MatchLogger(\n",
    "        f'Style Dictionary_{getRandomString(1)}', fileNameJson, procedureType, languageCode, \"Json\", fileNameLog)\n",
    "\n",
    "    styleRulesObj = StyleRulesDictionary(styleLogger,\n",
    "                                         language=languageCode,\n",
    "                                         fileName=fileNameQrd,\n",
    "                                         procedureType=procedureType)\n",
    "\n",
    "    path_json = os.path.join(os.path.abspath(os.path.join(\n",
    "        '..')), 'data', 'outputJSON', procedureType, languageCode, fileNameJson)\n",
    "\n",
    "    partitionLogger = MatchLogger(\n",
    "        f'Partition_{getRandomString(1)}', fileNameJson, procedureType, languageCode, \"Json\", fileNameLog)\n",
    "\n",
    "    partitioner = DocTypePartitioner(partitionLogger)\n",
    "\n",
    "    partitionedJsonPaths = partitioner.partitionHtmls(\n",
    "        styleRulesObj.qrd_section_headings, path_json)\n",
    "\n",
    "    return partitionedJsonPaths"
   ]
  },
  {
   "cell_type": "code",
   "execution_count": 8,
   "metadata": {},
   "outputs": [],
   "source": [
    "def extractAndValidateHeadings(procedureType,\n",
    "                               languageCode,\n",
    "                               documentNumber,\n",
    "                               fileNameDoc,\n",
    "                               fileNameQrd,\n",
    "                               fileNameMatchRuleBook,\n",
    "                               fileNameDocumentTypeNames,\n",
    "                               stopWordFilterLen=6,\n",
    "                               isPackageLeaflet=False,\n",
    "                               medName=None):\n",
    "\n",
    "    if documentNumber == 0:\n",
    "        topHeadingsConsidered = 4\n",
    "        bottomHeadingsConsidered = 6\n",
    "    elif documentNumber == 1:\n",
    "        topHeadingsConsidered = 3\n",
    "        bottomHeadingsConsidered = 5\n",
    "    elif documentNumber == 2:\n",
    "        topHeadingsConsidered = 5\n",
    "        bottomHeadingsConsidered = 15\n",
    "    else:\n",
    "        topHeadingsConsidered = 5\n",
    "        bottomHeadingsConsidered = 10\n",
    "\n",
    "    print(f\"Starting Heading Extraction For File :- {fileNameDoc}\")\n",
    "    logger = MatchLogger(f\"Heading Extraction {fileNameDoc}\", fileNameDoc, procedureType, languageCode, documentNumber, fileNameLog=os.path.join(\n",
    "        os.path.abspath(os.path.join('..')), 'data', 'matchLog.txt'))\n",
    "    logger.logFlowCheckpoint(\"Starting Heading Extraction\")\n",
    "\n",
    "    stopWordlanguage = DocumentTypeNames(\n",
    "        fileNameDocumentTypeNames=fileNameDocumentTypeNames,\n",
    "        languageCode=languageCode,\n",
    "        procedureType=procedureType,\n",
    "        documentNumber=documentNumber).extractStopWordLanguage()\n",
    "\n",
    "    matchDocObj = MatchDocument(\n",
    "        logger,\n",
    "        procedureType,\n",
    "        languageCode,\n",
    "        documentNumber,\n",
    "        fileNameDoc,\n",
    "        fileNameQrd,\n",
    "        fileNameMatchRuleBook,\n",
    "        fileNameDocumentTypeNames,\n",
    "        topHeadingsConsidered,\n",
    "        bottomHeadingsConsidered,\n",
    "        stopWordFilterLen,\n",
    "        stopWordlanguage,\n",
    "        isPackageLeaflet,\n",
    "        medName)\n",
    "    df, coll = matchDocObj.matchHtmlHeaddingsWithQrd()\n",
    "\n",
    "    return df, coll"
   ]
  },
  {
   "cell_type": "code",
   "execution_count": 9,
   "metadata": {},
   "outputs": [],
   "source": [
    "def parseDocument(htmlDocPath, fileNameQrd, fileNameMatchRuleBook, fileNameDocumentTypeNames, medName = None):\n",
    "    \n",
    "    pathComponents = htmlDocPath.split(\"\\\\\")\n",
    "    fileNameHtml = pathComponents[-1]\n",
    "    languageCode =  pathComponents[-2]\n",
    "    procedureType = pathComponents[-3]\n",
    "    #procedureType = \"CAP\"\n",
    "    print(fileNameHtml,languageCode,procedureType)\n",
    "    \n",
    "    fileNameLog = os.path.join(os.path.abspath(os.path.join('..')),'data','FinalLog.txt')\n",
    "    \n",
    "    flowLogger =  MatchLogger(\"Flow Logger HTML\", fileNameHtml, procedureType, languageCode, \"HTML\", fileNameLog)\n",
    "\n",
    "    flowLogger.logFlowCheckpoint(\"Starting HTML Conversion To Json\")\n",
    "    ###Convert Html to Json\n",
    "    fileNameJson = convertHtmlToJson(procedureType, languageCode, fileNameHtml, fileNameQrd, fileNameLog)\n",
    "    \n",
    "    flowLogger.logFlowCheckpoint(\"Completed HTML Conversion To Json\")\n",
    "\n",
    "    flowLogger.logFlowCheckpoint(\"Starting Json Split\")\n",
    "\n",
    "    ###Split Uber Json to multiple Jsons for each category.\n",
    "    partitionedJsonPaths = splitJson(procedureType, languageCode, fileNameJson, fileNameQrd, fileNameLog)\n",
    "    \n",
    "    partitionedJsonPaths = [ path.split(\"\\\\\")[-1] for path in partitionedJsonPaths]\n",
    "    #print(partitionedJsonPaths)\n",
    "    \n",
    "    flowLogger.logFlowCheckpoint(\"Completed Json Split\")\n",
    "    \n",
    "    flowLogger.logFlowCheckpoint(\"Started Processing Partitioned Jsons\")\n",
    "    \n",
    "    for index, fileNamePartitioned in enumerate(partitionedJsonPaths):\n",
    "        \n",
    "        print(index,fileNamePartitioned)\n",
    "        \n",
    "        if index == 3:\n",
    "            stopWordFilterLen = 100\n",
    "            isPackageLeaflet = True\n",
    "        else:\n",
    "            stopWordFilterLen = 6\n",
    "            isPackageLeaflet = False\n",
    "            \n",
    "        df, coll = extractAndValidateHeadings(procedureType,\n",
    "                                    languageCode,\n",
    "                                    index,\n",
    "                                    fileNamePartitioned,\n",
    "                                    fileNameQrd,\n",
    "                                    fileNameMatchRuleBook,\n",
    "                                    fileNameDocumentTypeNames,\n",
    "                                    stopWordFilterLen=stopWordFilterLen,\n",
    "                                    isPackageLeaflet=isPackageLeaflet,\n",
    "                                    medName=medName)\n",
    "        \n",
    "        \n",
    "        print(f\"Completed Heading Extraction For File\")\n",
    "        flowLogger.logFlowCheckpoint(\"Completed Heading Extraction For File\")\n",
    "        \n",
    "        print(f\"Starting Document Annotation For File :- {fileNamePartitioned}\")        \n",
    "        flowLogger.logFlowCheckpoint(\"Starting Document Annotation For File\")\n",
    "        documentAnnotationObj = DocumentAnnotation(fileNamePartitioned,'c20835db4b1b4e108828a8537ff41506','https://spor-sit.azure-api.net/pms/api/v2/',df,coll)\n",
    "        try:\n",
    "            pms_oms_annotation_data = documentAnnotationObj.processRegulatedAuthorizationForDoc()\n",
    "            print(pms_oms_annotation_data)\n",
    "        except:\n",
    "            pms_oms_annotation_data = None\n",
    "            print(\"Error Found\")\n",
    "            \n",
    "        print(f\"Completed Document Annotation\")        \n",
    "        flowLogger.logFlowCheckpoint(\"Completed Document Annotation\")\n",
    "        \n",
    "        print(f\"Starting Extracting Content Between Heading For File :- {fileNamePartitioned}\")        \n",
    "        flowLogger.logFlowCheckpoint(\"Starting Extracting Content Between Heading\")\n",
    "        \n",
    "        extractContentlogger =  MatchLogger(f'ExtractContentBetween_{index}', fileNamePartitioned, procedureType, languageCode, index, fileNameLog)\n",
    "        extractorObj = DataBetweenHeadingsExtractor(extractContentlogger, coll, procedureType, languageCode)\n",
    "        dfExtractedHierRR = extractorObj.extractContentBetweenHeadings(fileNamePartitioned)\n",
    "        \n",
    "        print(f\"Completed Extracting Content Between Heading\")        \n",
    "        flowLogger.logFlowCheckpoint(\"Completed Extracting Content Between Heading\")\n",
    "        \n",
    "        xmlLogger =  MatchLogger(f'XmlGeneration_{index}', fileNamePartitioned, procedureType, languageCode, index, fileNameLog)\n",
    "        fhirXmlGeneratorObj = FhirXmlGenerator(xmlLogger, pms_oms_annotation_data)\n",
    "        fileNameXml = fileNamePartitioned.replace('.json','.xml')\n",
    "        generatedXml = fhirXmlGeneratorObj.generateXml(dfExtractedHierRR, fileNameXml)\n",
    "        \n",
    "        fhirServiceObj = FhirService(generatedXml)\n",
    "        fhirServiceObj.submitFhirXml()\n",
    "        print(f\"Created XML File For :- {fileNamePartitioned}\")        \n",
    "\n",
    "        #return df,coll,dfExtractedHierRR\n",
    "    \n",
    "    flowLogger.logFlowCheckpoint(\"Completed Processing Partitioned Jsons\")"
   ]
  },
  {
   "cell_type": "code",
   "execution_count": 10,
   "metadata": {},
   "outputs": [],
   "source": [
    "def convertToInt(x):\n",
    "    try:\n",
    "        return str(int(x))\n",
    "    except:\n",
    "        return x\n",
    "\n",
    "\n",
    "def convertCollectionToDataFrame(collection):\n",
    "\n",
    "    dfExtractedHier = pd.DataFrame(collection)\n",
    "    dfExtractedHier['parent_id'] = dfExtractedHier['parent_id'].apply(\n",
    "        lambda x: convertToInt(x))\n",
    "    dfExtractedHier['id'] = dfExtractedHier['id'].apply(\n",
    "        lambda x: convertToInt(x))\n",
    "\n",
    "    return dfExtractedHier"
   ]
  },
  {
   "cell_type": "code",
   "execution_count": 11,
   "metadata": {},
   "outputs": [
    {
     "name": "stderr",
     "output_type": "stream",
     "text": [
      "2021-05-04 19:48:32,493 : Flow Logger HTML : Starting HTML Conversion To Json | CAP |  en | HTML | AbilifyMaintena-h-2755-e.html\n",
      "2021-05-04 19:48:32,501 : Style Dictionary_f : Reading style dictionary in file: F:\\Projects\\EMA\\Repository\\EMA EPI PoC\\function_code\\data\\styleRules\\rule_dictionary_en.json | CAP |  en | HTML | AbilifyMaintena-h-2755-e.html\n"
     ]
    },
    {
     "name": "stdout",
     "output_type": "stream",
     "text": [
      "AbilifyMaintena-h-2755-e.html en CAP\n"
     ]
    },
    {
     "name": "stderr",
     "output_type": "stream",
     "text": [
      "2021-05-04 19:48:32,823 : Style Dictionary_f : Qrd Section Keys Generated: ANNEX I, ANNEX II, ANNEX III, B. PACKAGE LEAFLET | CAP |  en | HTML | AbilifyMaintena-h-2755-e.html\n"
     ]
    },
    {
     "name": "stdout",
     "output_type": "stream",
     "text": [
      "\n",
      "F:\\Projects\\EMA\\Repository\\EMA EPI PoC\\function_code\\data\\converted_to_html\\CAP\\en\\AbilifyMaintena-h-2755-e.html F:\\Projects\\EMA\\Repository\\EMA EPI PoC\\function_code\\data\\outputJSON\\CAP\\en\\AbilifyMaintena-h-2755-e.json\n"
     ]
    },
    {
     "name": "stderr",
     "output_type": "stream",
     "text": [
      "2021-05-04 19:48:38,659 : Parser_o : Writing to file: F:\\Projects\\EMA\\Repository\\EMA EPI PoC\\function_code\\data\\outputJSON\\CAP\\en\\AbilifyMaintena-h-2755-e.json | CAP |  en | HTML | AbilifyMaintena-h-2755-e.html\n",
      "2021-05-04 19:48:39,012 : Flow Logger HTML : Completed HTML Conversion To Json | CAP |  en | HTML | AbilifyMaintena-h-2755-e.html\n",
      "2021-05-04 19:48:39,014 : Flow Logger HTML : Starting Json Split | CAP |  en | HTML | AbilifyMaintena-h-2755-e.html\n",
      "2021-05-04 19:48:39,018 : Style Dictionary_C : Reading style dictionary in file: F:\\Projects\\EMA\\Repository\\EMA EPI PoC\\function_code\\data\\styleRules\\rule_dictionary_en.json | CAP |  en | Json | AbilifyMaintena-h-2755-e.json\n",
      "2021-05-04 19:48:39,052 : Style Dictionary_C : Qrd Section Keys Generated: ANNEX I, ANNEX II, ANNEX III, B. PACKAGE LEAFLET | CAP |  en | Json | AbilifyMaintena-h-2755-e.json\n",
      "2021-05-04 19:48:39,058 : Partition_B : Partitioning Json: AbilifyMaintena-h-2755-e.json | CAP |  en | Json | AbilifyMaintena-h-2755-e.json\n",
      "2021-05-04 19:48:39,217 : Partition_B : Writing partition to file: F:\\Projects\\EMA\\Repository\\EMA EPI PoC\\function_code\\data\\partitionedJSONs\\CAP\\en\\AbilifyMaintena-h-2755-e_SmPC.json | CAP |  en | Json | AbilifyMaintena-h-2755-e.json\n",
      "2021-05-04 19:48:39,268 : Partition_B : Writing partition to file: F:\\Projects\\EMA\\Repository\\EMA EPI PoC\\function_code\\data\\partitionedJSONs\\CAP\\en\\AbilifyMaintena-h-2755-e_ANNEX II.json | CAP |  en | Json | AbilifyMaintena-h-2755-e.json\n",
      "2021-05-04 19:48:39,341 : Partition_B : Writing partition to file: F:\\Projects\\EMA\\Repository\\EMA EPI PoC\\function_code\\data\\partitionedJSONs\\CAP\\en\\AbilifyMaintena-h-2755-e_ANNEX III.json | CAP |  en | Json | AbilifyMaintena-h-2755-e.json\n",
      "2021-05-04 19:48:39,365 : Partition_B : Writing partition to file: F:\\Projects\\EMA\\Repository\\EMA EPI PoC\\function_code\\data\\partitionedJSONs\\CAP\\en\\AbilifyMaintena-h-2755-e_ PACKAGE LEAFLET.json | CAP |  en | Json | AbilifyMaintena-h-2755-e.json\n",
      "2021-05-04 19:48:39,386 : Flow Logger HTML : Completed Json Split | CAP |  en | HTML | AbilifyMaintena-h-2755-e.html\n",
      "2021-05-04 19:48:39,388 : Flow Logger HTML : Started Processing Partitioned Jsons | CAP |  en | HTML | AbilifyMaintena-h-2755-e.html\n",
      "2021-05-04 19:48:39,394 : Heading Extraction AbilifyMaintena-h-2755-e_SmPC.json : Starting Heading Extraction | CAP |  en | 0 | AbilifyMaintena-h-2755-e_SmPC.json\n"
     ]
    },
    {
     "name": "stdout",
     "output_type": "stream",
     "text": [
      "*************************** Texts with more than 2 characters**************************************\n",
      "*************************** Texts with more than 2 characters**************************************\n",
      "*************************** Texts with more than 2 characters**************************************\n",
      "*************************** Texts with more than 2 characters**************************************\n",
      "0 AbilifyMaintena-h-2755-e_SmPC.json\n",
      "Starting Heading Extraction For File :- AbilifyMaintena-h-2755-e_SmPC.json\n",
      "File being processed: F:\\Projects\\EMA\\Repository\\EMA EPI PoC\\function_code\\data\\partitionedJSONs\\CAP\\en\\AbilifyMaintena-h-2755-e_SmPC.json\n",
      "--------------------------------------------\n",
      "SmPC\n"
     ]
    },
    {
     "name": "stderr",
     "output_type": "stream",
     "text": [
      "2021-05-04 19:48:39,608 : Heading Extraction AbilifyMaintena-h-2755-e_SmPC.json : Started Extracting Heading | CAP |  en | 0 | AbilifyMaintena-h-2755-e_SmPC.json\n",
      "2021-05-04 19:48:39,847 : Heading Extraction AbilifyMaintena-h-2755-e_SmPC.json : Match Passed | CAP |  en | 0 | AbilifyMaintena-h-2755-e_SmPC.json | Doc txt :- 'SUMMARY OF PRODUCT CHARACTERISTICS' | Qrd txt :- 'SUMMARY OF PRODUCT CHARACTERISTICS' | Matched :- 'True'\n",
      "2021-05-04 19:48:39,854 : Heading Extraction AbilifyMaintena-h-2755-e_SmPC.json : Validation Passed As This The First Heading | CAP |  en | 0 | AbilifyMaintena-h-2755-e_SmPC.json | currHeadId :- '20001' | currParentHeadId :- 'nan' | prevParentHeadId :- ''\n",
      "2021-05-04 19:48:39,890 : Heading Extraction AbilifyMaintena-h-2755-e_SmPC.json : Match Passed | CAP |  en | 0 | AbilifyMaintena-h-2755-e_SmPC.json | Doc txt :- '1.       NAME OF THE MEDICINAL PRODUCT' | Qrd txt :- '1. NAME OF THE MEDICINAL PRODUCT' | Matched :- 'True'\n",
      "2021-05-04 19:48:39,901 : Heading Extraction AbilifyMaintena-h-2755-e_SmPC.json : Validation Flow Is Broken | CAP |  en | 0 | AbilifyMaintena-h-2755-e_SmPC.json | currHeadId :- '20003' | currParentHeadId :- '20001.0' | prevParentHeadId :- '20001'\n",
      "2021-05-04 19:48:39,908 : Heading Extraction AbilifyMaintena-h-2755-e_SmPC.json : Validation Passed | CAP |  en | 0 | AbilifyMaintena-h-2755-e_SmPC.json | currHeadId :- '20003' | currParentHeadId :- '20001.0' | prevParentHeadId :- '20001'\n"
     ]
    },
    {
     "name": "stdout",
     "output_type": "stream",
     "text": [
      "True  ||    ||  SUMMARY OF PRODUCT CHARACTERISTICS  ||  SUMMARY OF PRODUCT CHARACTERISTICS\n",
      "True  ||    ||  1.       NAME OF THE MEDICINAL PRODUCT  ||  1. NAME OF THE MEDICINAL PRODUCT\n"
     ]
    },
    {
     "name": "stderr",
     "output_type": "stream",
     "text": [
      "2021-05-04 19:48:40,122 : Heading Extraction AbilifyMaintena-h-2755-e_SmPC.json : Match Failed | CAP |  en | 0 | AbilifyMaintena-h-2755-e_SmPC.json | Doc txt :- 'Abilify Maintena 300 mg powder and solvent for prolonged-release suspension for injection' | Qrd txt :- '6.5 Nature and contents of container <and special equipment for use administration or implantation>' | Matched :- 'False'\n",
      "2021-05-04 19:48:40,503 : Heading Extraction AbilifyMaintena-h-2755-e_SmPC.json : Match Failed | CAP |  en | 0 | AbilifyMaintena-h-2755-e_SmPC.json | Doc txt :- 'Abilify Maintena 400 mg powder and solvent for prolonged-release suspension for injection' | Qrd txt :- '6.5 Nature and contents of container <and special equipment for use administration or implantation>' | Matched :- 'False'\n",
      "2021-05-04 19:48:40,826 : Heading Extraction AbilifyMaintena-h-2755-e_SmPC.json : Match Failed | CAP |  en | 0 | AbilifyMaintena-h-2755-e_SmPC.json | Doc txt :- 'Abilify Maintena 300 mg powder and solvent for prolonged-release suspension for injection in pre‑filled syringe' | Qrd txt :- '6.5 Nature and contents of container <and special equipment for use administration or implantation>' | Matched :- 'False'\n",
      "2021-05-04 19:48:41,117 : Heading Extraction AbilifyMaintena-h-2755-e_SmPC.json : Match Failed | CAP |  en | 0 | AbilifyMaintena-h-2755-e_SmPC.json | Doc txt :- 'Abilify Maintena 400 mg powder and solvent for prolonged-release suspension for injection in pre‑filled syringe' | Qrd txt :- '6.5 Nature and contents of container <and special equipment for use administration or implantation>' | Matched :- 'False'\n",
      "2021-05-04 19:48:41,364 : Heading Extraction AbilifyMaintena-h-2755-e_SmPC.json : Match Passed | CAP |  en | 0 | AbilifyMaintena-h-2755-e_SmPC.json | Doc txt :- '2.       QUALITATIVE AND QUANTITATIVE COMPOSITION' | Qrd txt :- '2. QUALITATIVE AND QUANTITATIVE COMPOSITION' | Matched :- 'True'\n",
      "2021-05-04 19:48:41,379 : Heading Extraction AbilifyMaintena-h-2755-e_SmPC.json : Validation Passed | CAP |  en | 0 | AbilifyMaintena-h-2755-e_SmPC.json | currHeadId :- '20004' | currParentHeadId :- '20001.0' | prevParentHeadId :- '20003'\n"
     ]
    },
    {
     "name": "stdout",
     "output_type": "stream",
     "text": [
      "True  ||    ||  2.       QUALITATIVE AND QUANTITATIVE COMPOSITION  ||  2. QUALITATIVE AND QUANTITATIVE COMPOSITION\n"
     ]
    },
    {
     "name": "stderr",
     "output_type": "stream",
     "text": [
      "2021-05-04 19:48:41,721 : Heading Extraction AbilifyMaintena-h-2755-e_SmPC.json : Match Failed | CAP |  en | 0 | AbilifyMaintena-h-2755-e_SmPC.json | Doc txt :- 'Abilify Maintena 300 mg powder and solvent for prolonged-release suspension for injection' | Qrd txt :- '6.5 Nature and contents of container <and special equipment for use administration or implantation>' | Matched :- 'False'\n",
      "2021-05-04 19:48:42,437 : Heading Extraction AbilifyMaintena-h-2755-e_SmPC.json : Match Failed | CAP |  en | 0 | AbilifyMaintena-h-2755-e_SmPC.json | Doc txt :- 'Each vial contains 300 mg aripiprazole.' | Qrd txt :- '6.6 Special precautions for disposal <and other handling>' | Matched :- 'False'\n",
      "2021-05-04 19:48:42,817 : Heading Extraction AbilifyMaintena-h-2755-e_SmPC.json : Match Failed | CAP |  en | 0 | AbilifyMaintena-h-2755-e_SmPC.json | Doc txt :- 'Abilify Maintena 400 mg powder and solvent for prolonged-release suspension for injection' | Qrd txt :- '6.5 Nature and contents of container <and special equipment for use administration or implantation>' | Matched :- 'False'\n",
      "2021-05-04 19:48:43,556 : Heading Extraction AbilifyMaintena-h-2755-e_SmPC.json : Match Failed | CAP |  en | 0 | AbilifyMaintena-h-2755-e_SmPC.json | Doc txt :- 'Each vial contains 400 mg aripiprazole.' | Qrd txt :- '6.6 Special precautions for disposal <and other handling>' | Matched :- 'False'\n",
      "2021-05-04 19:48:43,882 : Heading Extraction AbilifyMaintena-h-2755-e_SmPC.json : Match Failed | CAP |  en | 0 | AbilifyMaintena-h-2755-e_SmPC.json | Doc txt :- 'Abilify Maintena 300 mg powder and solvent for prolonged-release suspension for injection in pre‑filled syringe' | Qrd txt :- '6.5 Nature and contents of container <and special equipment for use administration or implantation>' | Matched :- 'False'\n",
      "2021-05-04 19:48:44,543 : Heading Extraction AbilifyMaintena-h-2755-e_SmPC.json : Match Failed | CAP |  en | 0 | AbilifyMaintena-h-2755-e_SmPC.json | Doc txt :- 'Each pre‑filled syringe contains 300 mg aripiprazole.' | Qrd txt :- '6.6 Special precautions for disposal <and other handling>' | Matched :- 'False'\n",
      "2021-05-04 19:48:44,922 : Heading Extraction AbilifyMaintena-h-2755-e_SmPC.json : Match Failed | CAP |  en | 0 | AbilifyMaintena-h-2755-e_SmPC.json | Doc txt :- 'Abilify Maintena 400 mg powder and solvent for prolonged-release suspension for injection in pre‑filled syringe' | Qrd txt :- '6.5 Nature and contents of container <and special equipment for use administration or implantation>' | Matched :- 'False'\n",
      "2021-05-04 19:48:45,468 : Heading Extraction AbilifyMaintena-h-2755-e_SmPC.json : Match Failed | CAP |  en | 0 | AbilifyMaintena-h-2755-e_SmPC.json | Doc txt :- 'Each pre‑filled syringe contains 400 mg aripiprazole.' | Qrd txt :- '6.6 Special precautions for disposal <and other handling>' | Matched :- 'False'\n",
      "2021-05-04 19:48:45,782 : Heading Extraction AbilifyMaintena-h-2755-e_SmPC.json : Match Failed | CAP |  en | 0 | AbilifyMaintena-h-2755-e_SmPC.json | Doc txt :- 'After reconstitution each ml of suspension contains 200 mg aripiprazole.' | Qrd txt :- '6.5 Nature and contents of container <and special equipment for use administration or implantation>' | Matched :- 'False'\n",
      "2021-05-04 19:48:46,218 : Heading Extraction AbilifyMaintena-h-2755-e_SmPC.json : Match Passed | CAP |  en | 0 | AbilifyMaintena-h-2755-e_SmPC.json | Doc txt :- '3.       PHARMACEUTICAL FORM' | Qrd txt :- '3. PHARMACEUTICAL FORM' | Matched :- 'True'\n",
      "2021-05-04 19:48:46,231 : Heading Extraction AbilifyMaintena-h-2755-e_SmPC.json : Validation Flow Is Broken | CAP |  en | 0 | AbilifyMaintena-h-2755-e_SmPC.json | currHeadId :- '20008' | currParentHeadId :- '20001.0' | prevParentHeadId :- '20004'\n",
      "2021-05-04 19:48:46,240 : Heading Extraction AbilifyMaintena-h-2755-e_SmPC.json : Validation Passed | CAP |  en | 0 | AbilifyMaintena-h-2755-e_SmPC.json | currHeadId :- '20008' | currParentHeadId :- '20001.0' | prevParentHeadId :- '20004'\n"
     ]
    },
    {
     "name": "stdout",
     "output_type": "stream",
     "text": [
      "True  ||    ||  3.       PHARMACEUTICAL FORM  ||  3. PHARMACEUTICAL FORM\n"
     ]
    },
    {
     "name": "stderr",
     "output_type": "stream",
     "text": [
      "2021-05-04 19:48:46,574 : Heading Extraction AbilifyMaintena-h-2755-e_SmPC.json : Match Failed | CAP |  en | 0 | AbilifyMaintena-h-2755-e_SmPC.json | Doc txt :- 'Powder and solvent for prolonged-release suspension for injection' | Qrd txt :- '6.5 Nature and contents of container <and special equipment for use administration or implantation>' | Matched :- 'False'\n",
      "2021-05-04 19:48:47,266 : Heading Extraction AbilifyMaintena-h-2755-e_SmPC.json : Match Passed | CAP |  en | 0 | AbilifyMaintena-h-2755-e_SmPC.json | Doc txt :- '4.       CLINICAL PARTICULARS' | Qrd txt :- '4. CLINICAL PARTICULARS' | Matched :- 'True'\n",
      "2021-05-04 19:48:47,275 : Heading Extraction AbilifyMaintena-h-2755-e_SmPC.json : Validation Passed | CAP |  en | 0 | AbilifyMaintena-h-2755-e_SmPC.json | currHeadId :- '20009' | currParentHeadId :- '20001.0' | prevParentHeadId :- '20008'\n",
      "2021-05-04 19:48:47,343 : Heading Extraction AbilifyMaintena-h-2755-e_SmPC.json : Match Passed | CAP |  en | 0 | AbilifyMaintena-h-2755-e_SmPC.json | Doc txt :- '4.1     Therapeutic indications' | Qrd txt :- '4.1 Therapeutic indications' | Matched :- 'True'\n",
      "2021-05-04 19:48:47,350 : Heading Extraction AbilifyMaintena-h-2755-e_SmPC.json : Validation Passed | CAP |  en | 0 | AbilifyMaintena-h-2755-e_SmPC.json | currHeadId :- '20010' | currParentHeadId :- '20009.0' | prevParentHeadId :- '20009'\n"
     ]
    },
    {
     "name": "stdout",
     "output_type": "stream",
     "text": [
      "True  ||    ||  4.       CLINICAL PARTICULARS  ||  4. CLINICAL PARTICULARS\n",
      "True  ||    ||  4.1     Therapeutic indications  ||  4.1 Therapeutic indications\n"
     ]
    },
    {
     "name": "stderr",
     "output_type": "stream",
     "text": [
      "2021-05-04 19:48:47,615 : Heading Extraction AbilifyMaintena-h-2755-e_SmPC.json : Match Failed | CAP |  en | 0 | AbilifyMaintena-h-2755-e_SmPC.json | Doc txt :- 'Abilify Maintena is indicated for maintenance treatment of schizophrenia in adult patients stabilised with oral aripiprazole.' | Qrd txt :- '6.5 Nature and contents of container <and special equipment for use administration or implantation>' | Matched :- 'False'\n",
      "2021-05-04 19:48:47,716 : Heading Extraction AbilifyMaintena-h-2755-e_SmPC.json : Match Passed | CAP |  en | 0 | AbilifyMaintena-h-2755-e_SmPC.json | Doc txt :- '4.2     Posology and method of administration' | Qrd txt :- '4.2 Posology and method of administration' | Matched :- 'True'\n",
      "2021-05-04 19:48:47,730 : Heading Extraction AbilifyMaintena-h-2755-e_SmPC.json : Validation Passed | CAP |  en | 0 | AbilifyMaintena-h-2755-e_SmPC.json | currHeadId :- '20011' | currParentHeadId :- '20009.0' | prevParentHeadId :- '20010'\n",
      "2021-05-04 19:48:47,780 : Heading Extraction AbilifyMaintena-h-2755-e_SmPC.json : Match Failed In Lowercase | CAP |  en | 0 | AbilifyMaintena-h-2755-e_SmPC.json | Doc txt :- 'Posology' | Qrd txt :- '4.2 Posology and method of administration' | Matched :- 'False'\n",
      "2021-05-04 19:48:47,783 : Heading Extraction AbilifyMaintena-h-2755-e_SmPC.json : Match Passed | CAP |  en | 0 | AbilifyMaintena-h-2755-e_SmPC.json | Doc txt :- 'Posology' | Qrd txt :- 'Posology' | Matched :- 'True'\n",
      "2021-05-04 19:48:47,805 : Heading Extraction AbilifyMaintena-h-2755-e_SmPC.json : Validation Passed | CAP |  en | 0 | AbilifyMaintena-h-2755-e_SmPC.json | currHeadId :- '20012' | currParentHeadId :- '20011.0' | prevParentHeadId :- '20011'\n"
     ]
    },
    {
     "name": "stdout",
     "output_type": "stream",
     "text": [
      "True  ||    ||  4.2     Posology and method of administration  ||  4.2 Posology and method of administration\n",
      "\n",
      "OriginalCheck\n",
      "('<=7|412.5|(33, 100, 90)|0.73|', 'Posology', '4.2 Posology and method of administration')\n",
      "\n",
      "True  ||    ||  Posology  ||  Posology\n"
     ]
    },
    {
     "name": "stderr",
     "output_type": "stream",
     "text": [
      "2021-05-04 19:48:48,053 : Heading Extraction AbilifyMaintena-h-2755-e_SmPC.json : Match Failed | CAP |  en | 0 | AbilifyMaintena-h-2755-e_SmPC.json | Doc txt :- 'For patients who have never taken aripiprazole, tolerability with oral aripiprazole must occur prior to initiating treatment with Abilify Maintena.' | Qrd txt :- '6.5 Nature and contents of container <and special equipment for use administration or implantation>' | Matched :- 'False'\n",
      "2021-05-04 19:48:48,266 : Heading Extraction AbilifyMaintena-h-2755-e_SmPC.json : Match Failed | CAP |  en | 0 | AbilifyMaintena-h-2755-e_SmPC.json | Doc txt :- 'Titration of the dose for Abilify Maintena is not required. ' | Qrd txt :- '6.5 Nature and contents of container <and special equipment for use administration or implantation>' | Matched :- 'False'\n",
      "2021-05-04 19:48:48,498 : Heading Extraction AbilifyMaintena-h-2755-e_SmPC.json : Match Failed | CAP |  en | 0 | AbilifyMaintena-h-2755-e_SmPC.json | Doc txt :- 'The starting dose can be administered by following one of two regimens: ' | Qrd txt :- '6.5 Nature and contents of container <and special equipment for use administration or implantation>' | Matched :- 'False'\n",
      "2021-05-04 19:48:49,011 : Heading Extraction AbilifyMaintena-h-2755-e_SmPC.json : Match Failed | CAP |  en | 0 | AbilifyMaintena-h-2755-e_SmPC.json | Doc txt :- 'Special populations' | Qrd txt :- '6.6 Special precautions for disposal <and other handling>' | Matched :- 'False'\n",
      "2021-05-04 19:48:49,308 : Heading Extraction AbilifyMaintena-h-2755-e_SmPC.json : Match Failed | CAP |  en | 0 | AbilifyMaintena-h-2755-e_SmPC.json | Doc txt :- 'The safety and efficacy of Abilify Maintena in the treatment of schizophrenia in patients 65 years of age or older has not been established (see section 4.4).' | Qrd txt :- '6.5 Nature and contents of container <and special equipment for use administration or implantation>' | Matched :- 'False'\n",
      "2021-05-04 19:48:49,770 : Heading Extraction AbilifyMaintena-h-2755-e_SmPC.json : Match Failed | CAP |  en | 0 | AbilifyMaintena-h-2755-e_SmPC.json | Doc txt :- 'No dosage adjustment is required for patients with renal impairment (see section 5.2).' | Qrd txt :- '6.5 Nature and contents of container <and special equipment for use administration or implantation>' | Matched :- 'False'\n",
      "2021-05-04 19:48:50,933 : Heading Extraction AbilifyMaintena-h-2755-e_SmPC.json : Match Failed | CAP |  en | 0 | AbilifyMaintena-h-2755-e_SmPC.json | Doc txt :- '•        One injection start: The starting dose should be 300 mg Abilify Maintena and continue treatment with prescribed dose of oral aripiprazole per day for 14 consecutive days. ' | Qrd txt :- '6.5 Nature and contents of container <and special equipment for use administration or implantation>' | Matched :- 'False'\n",
      "2021-05-04 19:48:51,220 : Heading Extraction AbilifyMaintena-h-2755-e_SmPC.json : Match Failed | CAP |  en | 0 | AbilifyMaintena-h-2755-e_SmPC.json | Doc txt :- 'In patients who are known to be CYP2D6 poor metabolisers and concomitantly use a strong CYP3A4 inhibitor:' | Qrd txt :- '6.5 Nature and contents of container <and special equipment for use administration or implantation>' | Matched :- 'False'\n",
      "2021-05-04 19:48:51,508 : Heading Extraction AbilifyMaintena-h-2755-e_SmPC.json : Match Failed | CAP |  en | 0 | AbilifyMaintena-h-2755-e_SmPC.json | Doc txt :- '•        The one injection start: The starting dose should be reduced to 200 mg (see section 4.5) and continue treatment with the prescribed dose of oral aripiprazole per day for 14 consecutive days.' | Qrd txt :- '6.5 Nature and contents of container <and special equipment for use administration or implantation>' | Matched :- 'False'\n",
      "2021-05-04 19:48:51,737 : Heading Extraction AbilifyMaintena-h-2755-e_SmPC.json : Match Failed | CAP |  en | 0 | AbilifyMaintena-h-2755-e_SmPC.json | Doc txt :- '•        Two injection start is not to be used in patients who are known to be CYP2D6 poor metabolisers and concomitantly use a strong CYP3A4 inhibitor.' | Qrd txt :- '6.5 Nature and contents of container <and special equipment for use administration or implantation>' | Matched :- 'False'\n",
      "2021-05-04 19:48:52,033 : Heading Extraction AbilifyMaintena-h-2755-e_SmPC.json : Match Failed | CAP |  en | 0 | AbilifyMaintena-h-2755-e_SmPC.json | Doc txt :- 'Maintenance dose adjustments due to interactions with CYP2D6 and/or CYP3A4 inhibitors and/or CYP3A4 inducers' | Qrd txt :- '6.5 Nature and contents of container <and special equipment for use administration or implantation>' | Matched :- 'False'\n",
      "2021-05-04 19:48:52,542 : Heading Extraction AbilifyMaintena-h-2755-e_SmPC.json : Match Failed | CAP |  en | 0 | AbilifyMaintena-h-2755-e_SmPC.json | Doc txt :- 'Maintenance dose adjustments of Abilify Maintena in patients who are taking concomitant strong CYP2D6 inhibitors, strong CYP3A4 inhibitors, and/or CYP3A4 inducers for more than 14 days' | Qrd txt :- '6.5 Nature and contents of container <and special equipment for use administration or implantation>' | Matched :- 'False'\n",
      "2021-05-04 19:48:52,749 : Heading Extraction AbilifyMaintena-h-2755-e_SmPC.json : Match Failed | CAP |  en | 0 | AbilifyMaintena-h-2755-e_SmPC.json | Doc txt :- '*    200 mg and 160 mg can be achieved via adjustment of the injection volume only by using Abilify Maintena powder and solvent for        prolonged-release suspension for injection.' | Qrd txt :- '6.5 Nature and contents of container <and special equipment for use administration or implantation>' | Matched :- 'False'\n",
      "2021-05-04 19:48:52,837 : Heading Extraction AbilifyMaintena-h-2755-e_SmPC.json : Match Passed | CAP |  en | 0 | AbilifyMaintena-h-2755-e_SmPC.json | Doc txt :- 'Paediatric population' | Qrd txt :- 'Paediatric population' | Matched :- 'True'\n",
      "2021-05-04 19:48:52,851 : Heading Extraction AbilifyMaintena-h-2755-e_SmPC.json : Validation Passed | CAP |  en | 0 | AbilifyMaintena-h-2755-e_SmPC.json | currHeadId :- '20013' | currParentHeadId :- '20012.0' | prevParentHeadId :- '20011'\n"
     ]
    },
    {
     "name": "stdout",
     "output_type": "stream",
     "text": [
      "True  ||    ||  Paediatric population  ||  Paediatric population\n"
     ]
    },
    {
     "name": "stderr",
     "output_type": "stream",
     "text": [
      "2021-05-04 19:48:53,120 : Heading Extraction AbilifyMaintena-h-2755-e_SmPC.json : Match Failed In Lowercase | CAP |  en | 0 | AbilifyMaintena-h-2755-e_SmPC.json | Doc txt :- 'Method of administration' | Qrd txt :- '4.2 Posology and method of administration' | Matched :- 'False'\n",
      "2021-05-04 19:48:53,125 : Heading Extraction AbilifyMaintena-h-2755-e_SmPC.json : Match Passed | CAP |  en | 0 | AbilifyMaintena-h-2755-e_SmPC.json | Doc txt :- 'Method of administration' | Qrd txt :- 'Method of administration ' | Matched :- 'True'\n",
      "2021-05-04 19:48:53,142 : Heading Extraction AbilifyMaintena-h-2755-e_SmPC.json : Validation Passed | CAP |  en | 0 | AbilifyMaintena-h-2755-e_SmPC.json | currHeadId :- '20014' | currParentHeadId :- '20011.0' | prevParentHeadId :- '20011'\n"
     ]
    },
    {
     "name": "stdout",
     "output_type": "stream",
     "text": [
      "\n",
      "OriginalCheck\n",
      "('<=7|75.0|(71, 96, 90)|0.69|', 'Method of administration', '4.2 Posology and method of administration')\n",
      "\n",
      "True  ||    ||  Method of administration  ||  Method of administration \n"
     ]
    },
    {
     "name": "stderr",
     "output_type": "stream",
     "text": [
      "2021-05-04 19:48:53,324 : Heading Extraction AbilifyMaintena-h-2755-e_SmPC.json : Match Failed | CAP |  en | 0 | AbilifyMaintena-h-2755-e_SmPC.json | Doc txt :- 'Abilify Maintena is only intended for intramuscular use and should not be administered intravenously or subcutaneously. It should only be administered by a healthcare professional.' | Qrd txt :- '6.5 Nature and contents of container <and special equipment for use administration or implantation>' | Matched :- 'False'\n",
      "2021-05-04 19:48:53,734 : Heading Extraction AbilifyMaintena-h-2755-e_SmPC.json : Match Failed | CAP |  en | 0 | AbilifyMaintena-h-2755-e_SmPC.json | Doc txt :- 'Full instructions for use and handling of Abilify Maintena are provided in the package leaflet (information intended for healthcare professionals).' | Qrd txt :- '6.5 Nature and contents of container <and special equipment for use administration or implantation>' | Matched :- 'False'\n",
      "2021-05-04 19:48:53,842 : Heading Extraction AbilifyMaintena-h-2755-e_SmPC.json : Match Failed | CAP |  en | 0 | AbilifyMaintena-h-2755-e_SmPC.json | Doc txt :- 'For instructions on reconstitution of the medicinal product before administration, see section 6.6.' | Qrd txt :- '6.5 Nature and contents of container <and special equipment for use administration or implantation>' | Matched :- 'False'\n",
      "2021-05-04 19:48:53,984 : Heading Extraction AbilifyMaintena-h-2755-e_SmPC.json : Match Passed | CAP |  en | 0 | AbilifyMaintena-h-2755-e_SmPC.json | Doc txt :- '4.3     Contraindications' | Qrd txt :- '4.3 Contraindications' | Matched :- 'True'\n",
      "2021-05-04 19:48:53,993 : Heading Extraction AbilifyMaintena-h-2755-e_SmPC.json : Validation Passed | CAP |  en | 0 | AbilifyMaintena-h-2755-e_SmPC.json | currHeadId :- '20016' | currParentHeadId :- '20009.0' | prevParentHeadId :- '20011'\n",
      "2021-05-04 19:48:54,129 : Heading Extraction AbilifyMaintena-h-2755-e_SmPC.json : Match Failed | CAP |  en | 0 | AbilifyMaintena-h-2755-e_SmPC.json | Doc txt :- 'Hypersensitivity to the active substance or to any of the excipients listed in section 6.1.' | Qrd txt :- '6.5 Nature and contents of container <and special equipment for use administration or implantation>' | Matched :- 'False'\n"
     ]
    },
    {
     "name": "stdout",
     "output_type": "stream",
     "text": [
      "True  ||    ||  4.3     Contraindications  ||  4.3 Contraindications\n"
     ]
    },
    {
     "name": "stderr",
     "output_type": "stream",
     "text": [
      "2021-05-04 19:48:54,309 : Heading Extraction AbilifyMaintena-h-2755-e_SmPC.json : Match Passed | CAP |  en | 0 | AbilifyMaintena-h-2755-e_SmPC.json | Doc txt :- '4.4     Special warnings and precautions for use' | Qrd txt :- '4.4 Special warnings and precautions for use' | Matched :- 'True'\n",
      "2021-05-04 19:48:54,322 : Heading Extraction AbilifyMaintena-h-2755-e_SmPC.json : Validation Passed | CAP |  en | 0 | AbilifyMaintena-h-2755-e_SmPC.json | currHeadId :- '20017' | currParentHeadId :- '20009.0' | prevParentHeadId :- '20016'\n"
     ]
    },
    {
     "name": "stdout",
     "output_type": "stream",
     "text": [
      "True  ||    ||  4.4     Special warnings and precautions for use  ||  4.4 Special warnings and precautions for use\n"
     ]
    },
    {
     "name": "stderr",
     "output_type": "stream",
     "text": [
      "2021-05-04 19:48:54,672 : Heading Extraction AbilifyMaintena-h-2755-e_SmPC.json : Match Failed | CAP |  en | 0 | AbilifyMaintena-h-2755-e_SmPC.json | Doc txt :- 'During antipsychotic treatment, improvement in the patient's clinical condition may take several days to some weeks. Patients should be closely monitored throughout this period.' | Qrd txt :- '6.5 Nature and contents of container <and special equipment for use administration or implantation>' | Matched :- 'False'\n",
      "2021-05-04 19:48:54,906 : Heading Extraction AbilifyMaintena-h-2755-e_SmPC.json : Match Failed | CAP |  en | 0 | AbilifyMaintena-h-2755-e_SmPC.json | Doc txt :- 'Use in patients who are in an acutely agitated or severely psychotic state' | Qrd txt :- '6.5 Nature and contents of container <and special equipment for use administration or implantation>' | Matched :- 'False'\n",
      "2021-05-04 19:48:55,147 : Heading Extraction AbilifyMaintena-h-2755-e_SmPC.json : Match Failed | CAP |  en | 0 | AbilifyMaintena-h-2755-e_SmPC.json | Doc txt :- 'Abilify Maintena should not be used to manage acutely agitated or severely psychotic states when immediate symptom control is warranted.' | Qrd txt :- '6.5 Nature and contents of container <and special equipment for use administration or implantation>' | Matched :- 'False'\n",
      "2021-05-04 19:48:56,813 : Heading Extraction AbilifyMaintena-h-2755-e_SmPC.json : Match Failed | CAP |  en | 0 | AbilifyMaintena-h-2755-e_SmPC.json | Doc txt :- 'Elderly patients with dementia-related psychosis' | Qrd txt :- '6.5 Nature and contents of container <and special equipment for use administration or implantation>' | Matched :- 'False'\n",
      "2021-05-04 19:48:56,824 : Heading Extraction AbilifyMaintena-h-2755-e_SmPC.json : Match Failed | CAP |  en | 0 | AbilifyMaintena-h-2755-e_SmPC.json | Doc txt :- 'Elderly patients with dementia-related psychosis' | Qrd txt :- '6.6 Special precautions for disposal <and other handling>' | Matched :- 'False'\n",
      "2021-05-04 19:48:57,560 : Heading Extraction AbilifyMaintena-h-2755-e_SmPC.json : Match Failed | CAP |  en | 0 | AbilifyMaintena-h-2755-e_SmPC.json | Doc txt :- 'Aripiprazole is not indicated for the treatment of patients with dementia-related psychosis.' | Qrd txt :- '6.5 Nature and contents of container <and special equipment for use administration or implantation>' | Matched :- 'False'\n",
      "2021-05-04 19:48:57,578 : Heading Extraction AbilifyMaintena-h-2755-e_SmPC.json : Match Failed | CAP |  en | 0 | AbilifyMaintena-h-2755-e_SmPC.json | Doc txt :- 'Aripiprazole is not indicated for the treatment of patients with dementia-related psychosis.' | Qrd txt :- '6.6 Special precautions for disposal <and other handling>' | Matched :- 'False'\n",
      "2021-05-04 19:48:58,329 : Heading Extraction AbilifyMaintena-h-2755-e_SmPC.json : Match Failed | CAP |  en | 0 | AbilifyMaintena-h-2755-e_SmPC.json | Doc txt :- 'Hypersensitivity reactions, characterised by allergic symptoms, may occur with aripiprazole (see section 4.8).' | Qrd txt :- '6.5 Nature and contents of container <and special equipment for use administration or implantation>' | Matched :- 'False'\n",
      "2021-05-04 19:48:59,036 : Heading Extraction AbilifyMaintena-h-2755-e_SmPC.json : Match Failed | CAP |  en | 0 | AbilifyMaintena-h-2755-e_SmPC.json | Doc txt :- 'Oesophageal dysmotility and aspiration have been associated with the use of aripiprazole. Aripiprazole should be used cautiously in patients at risk for aspiration pneumonia.' | Qrd txt :- '6.5 Nature and contents of container <and special equipment for use administration or implantation>' | Matched :- 'False'\n",
      "2021-05-04 19:48:59,282 : Heading Extraction AbilifyMaintena-h-2755-e_SmPC.json : Match Failed | CAP |  en | 0 | AbilifyMaintena-h-2755-e_SmPC.json | Doc txt :- 'Pathological gambling and other impulse control disorders' | Qrd txt :- '6.6 Special precautions for disposal <and other handling>' | Matched :- 'False'\n",
      "2021-05-04 19:48:59,695 : Heading Extraction AbilifyMaintena-h-2755-e_SmPC.json : Match Failed | CAP |  en | 0 | AbilifyMaintena-h-2755-e_SmPC.json | Doc txt :- 'Abilify Maintena contains less than 1 mmol of sodium (23 mg) per dose.' | Qrd txt :- '6.5 Nature and contents of container <and special equipment for use administration or implantation>' | Matched :- 'False'\n",
      "2021-05-04 19:48:59,813 : Heading Extraction AbilifyMaintena-h-2755-e_SmPC.json : Match Passed | CAP |  en | 0 | AbilifyMaintena-h-2755-e_SmPC.json | Doc txt :- '4.5     Interaction with other medicinal products and other forms of interaction' | Qrd txt :- '4.5 Interaction with other medicinal products and other forms of interaction' | Matched :- 'True'\n",
      "2021-05-04 19:48:59,824 : Heading Extraction AbilifyMaintena-h-2755-e_SmPC.json : Validation Passed | CAP |  en | 0 | AbilifyMaintena-h-2755-e_SmPC.json | currHeadId :- '20020' | currParentHeadId :- '20009.0' | prevParentHeadId :- '20017'\n"
     ]
    },
    {
     "name": "stdout",
     "output_type": "stream",
     "text": [
      "True  ||    ||  4.5     Interaction with other medicinal products and other forms of interaction  ||  4.5 Interaction with other medicinal products and other forms of interaction\n"
     ]
    },
    {
     "name": "stderr",
     "output_type": "stream",
     "text": [
      "2021-05-04 19:49:00,064 : Heading Extraction AbilifyMaintena-h-2755-e_SmPC.json : Match Failed | CAP |  en | 0 | AbilifyMaintena-h-2755-e_SmPC.json | Doc txt :- 'No interaction studies have been performed with Abilify Maintena. The information below is obtained from studies with oral aripiprazole.' | Qrd txt :- '6.5 Nature and contents of container <and special equipment for use administration or implantation>' | Matched :- 'False'\n",
      "2021-05-04 19:49:00,410 : Heading Extraction AbilifyMaintena-h-2755-e_SmPC.json : Match Failed | CAP |  en | 0 | AbilifyMaintena-h-2755-e_SmPC.json | Doc txt :- 'Due to its α1-adrenergic receptor antagonism, aripiprazole has the potential to enhance the effect of certain antihypertensive medicinal products.' | Qrd txt :- '6.5 Nature and contents of container <and special equipment for use administration or implantation>' | Matched :- 'False'\n",
      "2021-05-04 19:49:00,976 : Heading Extraction AbilifyMaintena-h-2755-e_SmPC.json : Match Failed | CAP |  en | 0 | AbilifyMaintena-h-2755-e_SmPC.json | Doc txt :- 'If aripiprazole is administered concomitantly with medicinal products known to cause QT prolongation or electrolyte imbalance, caution should be used.' | Qrd txt :- '6.5 Nature and contents of container <and special equipment for use administration or implantation>' | Matched :- 'False'\n",
      "2021-05-04 19:49:01,242 : Heading Extraction AbilifyMaintena-h-2755-e_SmPC.json : Match Failed | CAP |  en | 0 | AbilifyMaintena-h-2755-e_SmPC.json | Doc txt :- 'Potential for other medicinal products to affect aripiprazole' | Qrd txt :- '6.5 Nature and contents of container <and special equipment for use administration or implantation>' | Matched :- 'False'\n",
      "2021-05-04 19:49:01,264 : Heading Extraction AbilifyMaintena-h-2755-e_SmPC.json : Match Failed | CAP |  en | 0 | AbilifyMaintena-h-2755-e_SmPC.json | Doc txt :- 'Potential for other medicinal products to affect aripiprazole' | Qrd txt :- '6.6 Special precautions for disposal <and other handling>' | Matched :- 'False'\n",
      "2021-05-04 19:49:02,625 : Heading Extraction AbilifyMaintena-h-2755-e_SmPC.json : Match Passed | CAP |  en | 0 | AbilifyMaintena-h-2755-e_SmPC.json | Doc txt :- '4.6     Fertility, pregnancy and lactation' | Qrd txt :- '4.6 Fertility, pregnancy and lactation' | Matched :- 'True'\n",
      "2021-05-04 19:49:02,638 : Heading Extraction AbilifyMaintena-h-2755-e_SmPC.json : Validation Passed | CAP |  en | 0 | AbilifyMaintena-h-2755-e_SmPC.json | currHeadId :- '20022' | currParentHeadId :- '20009.0' | prevParentHeadId :- '20020'\n",
      "2021-05-04 19:49:02,709 : Heading Extraction AbilifyMaintena-h-2755-e_SmPC.json : Match Failed In Lowercase | CAP |  en | 0 | AbilifyMaintena-h-2755-e_SmPC.json | Doc txt :- 'Pregnancy' | Qrd txt :- '4.6 Fertility, pregnancy and lactation' | Matched :- 'False'\n",
      "2021-05-04 19:49:02,711 : Heading Extraction AbilifyMaintena-h-2755-e_SmPC.json : Match Passed | CAP |  en | 0 | AbilifyMaintena-h-2755-e_SmPC.json | Doc txt :- 'Pregnancy' | Qrd txt :- 'Pregnancy' | Matched :- 'True'\n",
      "2021-05-04 19:49:02,730 : Heading Extraction AbilifyMaintena-h-2755-e_SmPC.json : Validation Passed | CAP |  en | 0 | AbilifyMaintena-h-2755-e_SmPC.json | currHeadId :- '20023' | currParentHeadId :- '20022.0' | prevParentHeadId :- '20022'\n"
     ]
    },
    {
     "name": "stdout",
     "output_type": "stream",
     "text": [
      "True  ||    ||  4.6     Fertility, pregnancy and lactation  ||  4.6 Fertility, pregnancy and lactation\n",
      "\n",
      "OriginalCheck\n",
      "('<=7|333.33|(34, 89, 90)|0.53|', 'Pregnancy', '4.6 Fertility, pregnancy and lactation')\n",
      "\n",
      "True  ||    ||  Pregnancy  ||  Pregnancy\n"
     ]
    },
    {
     "name": "stderr",
     "output_type": "stream",
     "text": [
      "2021-05-04 19:49:02,920 : Heading Extraction AbilifyMaintena-h-2755-e_SmPC.json : Match Failed | CAP |  en | 0 | AbilifyMaintena-h-2755-e_SmPC.json | Doc txt :- 'Prescribers need to be aware of the long-acting properties of Abilify Maintena.' | Qrd txt :- '6.5 Nature and contents of container <and special equipment for use administration or implantation>' | Matched :- 'False'\n",
      "2021-05-04 19:49:02,930 : Heading Extraction AbilifyMaintena-h-2755-e_SmPC.json : Match Failed | CAP |  en | 0 | AbilifyMaintena-h-2755-e_SmPC.json | Doc txt :- 'Prescribers need to be aware of the long-acting properties of Abilify Maintena.' | Qrd txt :- '6.6 Special precautions for disposal <and other handling>' | Matched :- 'False'\n",
      "2021-05-04 19:49:03,015 : Heading Extraction AbilifyMaintena-h-2755-e_SmPC.json : Match Passed | CAP |  en | 0 | AbilifyMaintena-h-2755-e_SmPC.json | Doc txt :- 'Breast-feeding' | Qrd txt :- 'Breast-feeding' | Matched :- 'True'\n",
      "2021-05-04 19:49:03,033 : Heading Extraction AbilifyMaintena-h-2755-e_SmPC.json : Validation Passed | CAP |  en | 0 | AbilifyMaintena-h-2755-e_SmPC.json | currHeadId :- '20024' | currParentHeadId :- '20022.0' | prevParentHeadId :- '20022'\n",
      "2021-05-04 19:49:03,173 : Heading Extraction AbilifyMaintena-h-2755-e_SmPC.json : Match Failed In Lowercase | CAP |  en | 0 | AbilifyMaintena-h-2755-e_SmPC.json | Doc txt :- 'Fertility' | Qrd txt :- '4.6 Fertility, pregnancy and lactation' | Matched :- 'False'\n",
      "2021-05-04 19:49:03,178 : Heading Extraction AbilifyMaintena-h-2755-e_SmPC.json : Match Passed | CAP |  en | 0 | AbilifyMaintena-h-2755-e_SmPC.json | Doc txt :- 'Fertility' | Qrd txt :- 'Fertility' | Matched :- 'True'\n",
      "2021-05-04 19:49:03,193 : Heading Extraction AbilifyMaintena-h-2755-e_SmPC.json : Validation Passed | CAP |  en | 0 | AbilifyMaintena-h-2755-e_SmPC.json | currHeadId :- '20025' | currParentHeadId :- '20022.0' | prevParentHeadId :- '20022'\n"
     ]
    },
    {
     "name": "stdout",
     "output_type": "stream",
     "text": [
      "True  ||    ||  Breast-feeding  ||  Breast-feeding\n",
      "\n",
      "OriginalCheck\n",
      "('<=7|322.22|(38, 100, 90)|0.75|', 'Fertility', '4.6 Fertility, pregnancy and lactation')\n",
      "\n",
      "True  ||    ||  Fertility  ||  Fertility\n"
     ]
    },
    {
     "name": "stderr",
     "output_type": "stream",
     "text": [
      "2021-05-04 19:49:03,410 : Heading Extraction AbilifyMaintena-h-2755-e_SmPC.json : Match Failed | CAP |  en | 0 | AbilifyMaintena-h-2755-e_SmPC.json | Doc txt :- 'Aripiprazole did not impair fertility based on data from reproductive toxicity studies.' | Qrd txt :- '6.5 Nature and contents of container <and special equipment for use administration or implantation>' | Matched :- 'False'\n",
      "2021-05-04 19:49:03,606 : Heading Extraction AbilifyMaintena-h-2755-e_SmPC.json : Match Passed | CAP |  en | 0 | AbilifyMaintena-h-2755-e_SmPC.json | Doc txt :- '4.7     Effects on ability to drive and use machines' | Qrd txt :- '4.7 Effects on ability to drive and use machines' | Matched :- 'True'\n",
      "2021-05-04 19:49:03,620 : Heading Extraction AbilifyMaintena-h-2755-e_SmPC.json : Validation Passed | CAP |  en | 0 | AbilifyMaintena-h-2755-e_SmPC.json | currHeadId :- '20026' | currParentHeadId :- '20009.0' | prevParentHeadId :- '20022'\n"
     ]
    },
    {
     "name": "stdout",
     "output_type": "stream",
     "text": [
      "True  ||    ||  4.7     Effects on ability to drive and use machines  ||  4.7 Effects on ability to drive and use machines\n"
     ]
    },
    {
     "name": "stderr",
     "output_type": "stream",
     "text": [
      "2021-05-04 19:49:03,959 : Heading Extraction AbilifyMaintena-h-2755-e_SmPC.json : Match Passed | CAP |  en | 0 | AbilifyMaintena-h-2755-e_SmPC.json | Doc txt :- '4.8     Undesirable effects' | Qrd txt :- '4.8 Undesirable effects' | Matched :- 'True'\n",
      "2021-05-04 19:49:03,974 : Heading Extraction AbilifyMaintena-h-2755-e_SmPC.json : Validation Passed | CAP |  en | 0 | AbilifyMaintena-h-2755-e_SmPC.json | currHeadId :- '20027' | currParentHeadId :- '20009.0' | prevParentHeadId :- '20026'\n"
     ]
    },
    {
     "name": "stdout",
     "output_type": "stream",
     "text": [
      "True  ||    ||  4.8     Undesirable effects  ||  4.8 Undesirable effects\n"
     ]
    },
    {
     "name": "stderr",
     "output_type": "stream",
     "text": [
      "2021-05-04 19:49:04,725 : Heading Extraction AbilifyMaintena-h-2755-e_SmPC.json : Match Failed | CAP |  en | 0 | AbilifyMaintena-h-2755-e_SmPC.json | Doc txt :- 'Tabulated list of adverse reactions' | Qrd txt :- '6.6 Special precautions for disposal <and other handling>' | Matched :- 'False'\n",
      "2021-05-04 19:49:04,945 : Heading Extraction AbilifyMaintena-h-2755-e_SmPC.json : Match Failed | CAP |  en | 0 | AbilifyMaintena-h-2755-e_SmPC.json | Doc txt :- 'The incidences of the ADRs associated with aripiprazole therapy are tabulated below. The table is based on adverse reactions reported during clinical trials and/or post-marketing use.' | Qrd txt :- '6.5 Nature and contents of container <and special equipment for use administration or implantation>' | Matched :- 'False'\n",
      "2021-05-04 19:49:05,512 : Heading Extraction AbilifyMaintena-h-2755-e_SmPC.json : Match Failed | CAP |  en | 0 | AbilifyMaintena-h-2755-e_SmPC.json | Doc txt :- 'Description of selected adverse reactions' | Qrd txt :- '6.5 Nature and contents of container <and special equipment for use administration or implantation>' | Matched :- 'False'\n",
      "2021-05-04 19:49:06,118 : Heading Extraction AbilifyMaintena-h-2755-e_SmPC.json : Match Failed | CAP |  en | 0 | AbilifyMaintena-h-2755-e_SmPC.json | Doc txt :- 'Neutropenia has been reported in the clinical program with Abilify Maintena and typically started around day 16 after first injection, and lasted a median of 18 days.' | Qrd txt :- '6.5 Nature and contents of container <and special equipment for use administration or implantation>' | Matched :- 'False'\n",
      "2021-05-04 19:49:07,216 : Heading Extraction AbilifyMaintena-h-2755-e_SmPC.json : Match Failed | CAP |  en | 0 | AbilifyMaintena-h-2755-e_SmPC.json | Doc txt :- 'In clinical trials for the approved indications and post-marketing, both increase and decrease in serum prolactin as compared to baseline was observed with aripiprazole (section 5.1).' | Qrd txt :- '6.5 Nature and contents of container <and special equipment for use administration or implantation>' | Matched :- 'False'\n",
      "2021-05-04 19:49:07,576 : Heading Extraction AbilifyMaintena-h-2755-e_SmPC.json : Match Failed | CAP |  en | 0 | AbilifyMaintena-h-2755-e_SmPC.json | Doc txt :- 'Pathological gambling and other impulse control disorders' | Qrd txt :- '6.6 Special precautions for disposal <and other handling>' | Matched :- 'False'\n",
      "2021-05-04 19:49:07,827 : Heading Extraction AbilifyMaintena-h-2755-e_SmPC.json : Match Failed | CAP |  en | 0 | AbilifyMaintena-h-2755-e_SmPC.json | Doc txt :- 'Pathological gambling, hypersexuality, compulsive shopping and binge or compulsive eating can occur in patients treated with aripiprazole (see section 4.4).' | Qrd txt :- '6.5 Nature and contents of container <and special equipment for use administration or implantation>' | Matched :- 'False'\n",
      "2021-05-04 19:49:08,025 : Heading Extraction AbilifyMaintena-h-2755-e_SmPC.json : Match Passed | CAP |  en | 0 | AbilifyMaintena-h-2755-e_SmPC.json | Doc txt :- 'Reporting of suspected adverse reactions' | Qrd txt :- 'Reporting of suspected adverse reactions' | Matched :- 'True'\n",
      "2021-05-04 19:49:08,046 : Heading Extraction AbilifyMaintena-h-2755-e_SmPC.json : Validation Passed | CAP |  en | 0 | AbilifyMaintena-h-2755-e_SmPC.json | currHeadId :- '20029' | currParentHeadId :- '20027.0' | prevParentHeadId :- '20027'\n",
      "2021-05-04 19:49:08,210 : Heading Extraction AbilifyMaintena-h-2755-e_SmPC.json : Match Passed | CAP |  en | 0 | AbilifyMaintena-h-2755-e_SmPC.json | Doc txt :- '4.9     Overdose' | Qrd txt :- '4.9 Overdose' | Matched :- 'True'\n"
     ]
    },
    {
     "name": "stdout",
     "output_type": "stream",
     "text": [
      "True  ||    ||  Reporting of suspected adverse reactions  ||  Reporting of suspected adverse reactions\n"
     ]
    },
    {
     "name": "stderr",
     "output_type": "stream",
     "text": [
      "2021-05-04 19:49:08,227 : Heading Extraction AbilifyMaintena-h-2755-e_SmPC.json : Validation Passed | CAP |  en | 0 | AbilifyMaintena-h-2755-e_SmPC.json | currHeadId :- '20030' | currParentHeadId :- '20009.0' | prevParentHeadId :- '20027'\n"
     ]
    },
    {
     "name": "stdout",
     "output_type": "stream",
     "text": [
      "True  ||    ||  4.9     Overdose  ||  4.9 Overdose\n"
     ]
    },
    {
     "name": "stderr",
     "output_type": "stream",
     "text": [
      "2021-05-04 19:49:09,339 : Heading Extraction AbilifyMaintena-h-2755-e_SmPC.json : Match Passed | CAP |  en | 0 | AbilifyMaintena-h-2755-e_SmPC.json | Doc txt :- '5.       PHARMACOLOGICAL PROPERTIES' | Qrd txt :- '5. PHARMACOLOGICAL PROPERTIES' | Matched :- 'True'\n",
      "2021-05-04 19:49:09,348 : Heading Extraction AbilifyMaintena-h-2755-e_SmPC.json : Validation Passed | CAP |  en | 0 | AbilifyMaintena-h-2755-e_SmPC.json | currHeadId :- '20032' | currParentHeadId :- '20001.0' | prevParentHeadId :- '20030'\n",
      "2021-05-04 19:49:09,506 : Heading Extraction AbilifyMaintena-h-2755-e_SmPC.json : Match Passed | CAP |  en | 0 | AbilifyMaintena-h-2755-e_SmPC.json | Doc txt :- '5.1     Pharmacodynamic properties' | Qrd txt :- '5.1 Pharmacodynamic properties' | Matched :- 'True'\n",
      "2021-05-04 19:49:09,516 : Heading Extraction AbilifyMaintena-h-2755-e_SmPC.json : Validation Passed | CAP |  en | 0 | AbilifyMaintena-h-2755-e_SmPC.json | currHeadId :- '20033' | currParentHeadId :- '20032.0' | prevParentHeadId :- '20032'\n"
     ]
    },
    {
     "name": "stdout",
     "output_type": "stream",
     "text": [
      "True  ||    ||  5.       PHARMACOLOGICAL PROPERTIES  ||  5. PHARMACOLOGICAL PROPERTIES\n",
      "True  ||    ||  5.1     Pharmacodynamic properties  ||  5.1 Pharmacodynamic properties\n"
     ]
    },
    {
     "name": "stderr",
     "output_type": "stream",
     "text": [
      "2021-05-04 19:49:09,873 : Heading Extraction AbilifyMaintena-h-2755-e_SmPC.json : Match Passed | CAP |  en | 0 | AbilifyMaintena-h-2755-e_SmPC.json | Doc txt :- 'Mechanism of action' | Qrd txt :- 'Mechanism of action' | Matched :- 'True'\n",
      "2021-05-04 19:49:09,886 : Heading Extraction AbilifyMaintena-h-2755-e_SmPC.json : Validation Passed | CAP |  en | 0 | AbilifyMaintena-h-2755-e_SmPC.json | currHeadId :- '20034' | currParentHeadId :- '20033.0' | prevParentHeadId :- '20033'\n",
      "2021-05-04 19:49:10,057 : Heading Extraction AbilifyMaintena-h-2755-e_SmPC.json : Match Passed | CAP |  en | 0 | AbilifyMaintena-h-2755-e_SmPC.json | Doc txt :- 'Clinical efficacy and safety' | Qrd txt :- 'Clinical efficacy and safety' | Matched :- 'True'\n",
      "2021-05-04 19:49:10,081 : Heading Extraction AbilifyMaintena-h-2755-e_SmPC.json : Validation Passed | CAP |  en | 0 | AbilifyMaintena-h-2755-e_SmPC.json | currHeadId :- '20036' | currParentHeadId :- '20033.0' | prevParentHeadId :- '20033'\n"
     ]
    },
    {
     "name": "stdout",
     "output_type": "stream",
     "text": [
      "True  ||    ||  Mechanism of action  ||  Mechanism of action\n",
      "True  ||    ||  Clinical efficacy and safety  ||  Clinical efficacy and safety\n"
     ]
    },
    {
     "name": "stderr",
     "output_type": "stream",
     "text": [
      "2021-05-04 19:49:10,377 : Heading Extraction AbilifyMaintena-h-2755-e_SmPC.json : Match Failed | CAP |  en | 0 | AbilifyMaintena-h-2755-e_SmPC.json | Doc txt :- 'Maintenance treatment of schizophrenia in adults' | Qrd txt :- '6.5 Nature and contents of container <and special equipment for use administration or implantation>' | Matched :- 'False'\n",
      "2021-05-04 19:49:10,391 : Heading Extraction AbilifyMaintena-h-2755-e_SmPC.json : Match Failed | CAP |  en | 0 | AbilifyMaintena-h-2755-e_SmPC.json | Doc txt :- 'Maintenance treatment of schizophrenia in adults' | Qrd txt :- '6.6 Special precautions for disposal <and other handling>' | Matched :- 'False'\n",
      "2021-05-04 19:49:10,696 : Heading Extraction AbilifyMaintena-h-2755-e_SmPC.json : Match Failed | CAP |  en | 0 | AbilifyMaintena-h-2755-e_SmPC.json | Doc txt :- 'The efficacy of Abilify Maintena in the maintenance treatment of patients with schizophrenia was established in two randomised, double‑blind, long-term trials.' | Qrd txt :- '6.5 Nature and contents of container <and special equipment for use administration or implantation>' | Matched :- 'False'\n",
      "2021-05-04 19:49:11,437 : Heading Extraction AbilifyMaintena-h-2755-e_SmPC.json : Match Failed | CAP |  en | 0 | AbilifyMaintena-h-2755-e_SmPC.json | Doc txt :- 'Figure 1      Kaplan-Meier Product Limit Plot for Time to Exacerbation of Psychotic Symptoms/Impending Relapse' | Qrd txt :- '6.5 Nature and contents of container <and special equipment for use administration or implantation>' | Matched :- 'False'\n"
     ]
    },
    {
     "ename": "KeyboardInterrupt",
     "evalue": "",
     "output_type": "error",
     "traceback": [
      "\u001b[1;31m---------------------------------------------------------------------------\u001b[0m",
      "\u001b[1;31mKeyboardInterrupt\u001b[0m                         Traceback (most recent call last)",
      "\u001b[1;32m<ipython-input-11-b0270f76d294>\u001b[0m in \u001b[0;36m<module>\u001b[1;34m\u001b[0m\n\u001b[1;32m----> 1\u001b[1;33m \u001b[0mparseDocument\u001b[0m\u001b[1;33m(\u001b[0m\u001b[1;34m\"F:\\Projects\\EMA\\Repository\\EMA EPI PoC\\function_code\\data\\converted_to_html\\CAP\\en\\AbilifyMaintena-h-2755-e.html\"\u001b[0m\u001b[1;33m,\u001b[0m \u001b[0mfileNameQrd\u001b[0m\u001b[1;33m,\u001b[0m \u001b[0mfileNameMatchRuleBook\u001b[0m\u001b[1;33m,\u001b[0m \u001b[0mfileNameDocumentTypeNames\u001b[0m\u001b[1;33m,\u001b[0m \u001b[0mmedName\u001b[0m \u001b[1;33m=\u001b[0m \u001b[1;34m\"Aerius\"\u001b[0m\u001b[1;33m)\u001b[0m\u001b[1;33m\u001b[0m\u001b[1;33m\u001b[0m\u001b[0m\n\u001b[0m",
      "\u001b[1;32m<ipython-input-9-6153604a5e7e>\u001b[0m in \u001b[0;36mparseDocument\u001b[1;34m(htmlDocPath, fileNameQrd, fileNameMatchRuleBook, fileNameDocumentTypeNames, medName)\u001b[0m\n\u001b[0;32m     50\u001b[0m                                     \u001b[0mstopWordFilterLen\u001b[0m\u001b[1;33m=\u001b[0m\u001b[0mstopWordFilterLen\u001b[0m\u001b[1;33m,\u001b[0m\u001b[1;33m\u001b[0m\u001b[1;33m\u001b[0m\u001b[0m\n\u001b[0;32m     51\u001b[0m                                     \u001b[0misPackageLeaflet\u001b[0m\u001b[1;33m=\u001b[0m\u001b[0misPackageLeaflet\u001b[0m\u001b[1;33m,\u001b[0m\u001b[1;33m\u001b[0m\u001b[1;33m\u001b[0m\u001b[0m\n\u001b[1;32m---> 52\u001b[1;33m                                     medName=medName)\n\u001b[0m\u001b[0;32m     53\u001b[0m \u001b[1;33m\u001b[0m\u001b[0m\n\u001b[0;32m     54\u001b[0m \u001b[1;33m\u001b[0m\u001b[0m\n",
      "\u001b[1;32m<ipython-input-8-9cf09502baf0>\u001b[0m in \u001b[0;36mextractAndValidateHeadings\u001b[1;34m(procedureType, languageCode, documentNumber, fileNameDoc, fileNameQrd, fileNameMatchRuleBook, fileNameDocumentTypeNames, stopWordFilterLen, isPackageLeaflet, medName)\u001b[0m\n\u001b[0;32m     49\u001b[0m         \u001b[0misPackageLeaflet\u001b[0m\u001b[1;33m,\u001b[0m\u001b[1;33m\u001b[0m\u001b[1;33m\u001b[0m\u001b[0m\n\u001b[0;32m     50\u001b[0m         medName)\n\u001b[1;32m---> 51\u001b[1;33m     \u001b[0mdf\u001b[0m\u001b[1;33m,\u001b[0m \u001b[0mcoll\u001b[0m \u001b[1;33m=\u001b[0m \u001b[0mmatchDocObj\u001b[0m\u001b[1;33m.\u001b[0m\u001b[0mmatchHtmlHeaddingsWithQrd\u001b[0m\u001b[1;33m(\u001b[0m\u001b[1;33m)\u001b[0m\u001b[1;33m\u001b[0m\u001b[1;33m\u001b[0m\u001b[0m\n\u001b[0m\u001b[0;32m     52\u001b[0m \u001b[1;33m\u001b[0m\u001b[0m\n\u001b[0;32m     53\u001b[0m     \u001b[1;32mreturn\u001b[0m \u001b[0mdf\u001b[0m\u001b[1;33m,\u001b[0m \u001b[0mcoll\u001b[0m\u001b[1;33m\u001b[0m\u001b[1;33m\u001b[0m\u001b[0m\n",
      "\u001b[1;32mF:\\Projects\\EMA\\Repository\\EMA EPI PoC\\function_code\\code\\match\\matchDocument\\matchDocument.py\u001b[0m in \u001b[0;36mmatchHtmlHeaddingsWithQrd\u001b[1;34m(self)\u001b[0m\n\u001b[0;32m    360\u001b[0m                             \u001b[1;31m# Call matching algorith\u001b[0m\u001b[1;33m\u001b[0m\u001b[1;33m\u001b[0m\u001b[1;33m\u001b[0m\u001b[0m\n\u001b[0;32m    361\u001b[0m                             found, outputString = matchStringObj.matchStrings(\n\u001b[1;32m--> 362\u001b[1;33m                                 str_['Text'], qrd_str, qrd_str_row['heading_id'])\n\u001b[0m\u001b[0;32m    363\u001b[0m \u001b[1;33m\u001b[0m\u001b[0m\n\u001b[0;32m    364\u001b[0m                             \u001b[1;32mif\u001b[0m \u001b[0mfound\u001b[0m\u001b[1;33m:\u001b[0m\u001b[1;33m\u001b[0m\u001b[1;33m\u001b[0m\u001b[0m\n",
      "\u001b[1;32mF:\\Projects\\EMA\\Repository\\EMA EPI PoC\\function_code\\code\\match\\matchStrings\\matchStrings.py\u001b[0m in \u001b[0;36mmatchStrings\u001b[1;34m(self, textOriginal, textToMatch, qrdRowHeadingId, avoidLowerCaseMatch)\u001b[0m\n\u001b[0;32m    240\u001b[0m         \u001b[1;31m# Damerau Levensteins Distance\u001b[0m\u001b[1;33m\u001b[0m\u001b[1;33m\u001b[0m\u001b[1;33m\u001b[0m\u001b[0m\n\u001b[0;32m    241\u001b[0m         levenDist = jellyfish.damerau_levenshtein_distance(\n\u001b[1;32m--> 242\u001b[1;33m             textToMatch1, textOriginal1)\n\u001b[0m\u001b[0;32m    243\u001b[0m \u001b[1;33m\u001b[0m\u001b[0m\n\u001b[0;32m    244\u001b[0m         \u001b[1;32mif\u001b[0m \u001b[0mlen\u001b[0m\u001b[1;33m(\u001b[0m\u001b[0mtextOriginal1\u001b[0m\u001b[1;33m)\u001b[0m \u001b[1;33m!=\u001b[0m \u001b[1;36m0\u001b[0m\u001b[1;33m:\u001b[0m\u001b[1;33m\u001b[0m\u001b[1;33m\u001b[0m\u001b[0m\n",
      "\u001b[1;32m~\\AppData\\Local\\Continuum\\anaconda3\\lib\\site-packages\\jellyfish\\_jellyfish.py\u001b[0m in \u001b[0;36mdamerau_levenshtein_distance\u001b[1;34m(s1, s2)\u001b[0m\n\u001b[0;32m    165\u001b[0m                 \u001b[0mscore\u001b[0m\u001b[1;33m[\u001b[0m\u001b[0mi\u001b[0m\u001b[1;33m]\u001b[0m\u001b[1;33m[\u001b[0m\u001b[0mj\u001b[0m\u001b[1;33m]\u001b[0m \u001b[1;33m+\u001b[0m \u001b[0mcost\u001b[0m\u001b[1;33m,\u001b[0m\u001b[1;33m\u001b[0m\u001b[1;33m\u001b[0m\u001b[0m\n\u001b[0;32m    166\u001b[0m                 \u001b[0mscore\u001b[0m\u001b[1;33m[\u001b[0m\u001b[0mi\u001b[0m \u001b[1;33m+\u001b[0m \u001b[1;36m1\u001b[0m\u001b[1;33m]\u001b[0m\u001b[1;33m[\u001b[0m\u001b[0mj\u001b[0m\u001b[1;33m]\u001b[0m \u001b[1;33m+\u001b[0m \u001b[1;36m1\u001b[0m\u001b[1;33m,\u001b[0m\u001b[1;33m\u001b[0m\u001b[1;33m\u001b[0m\u001b[0m\n\u001b[1;32m--> 167\u001b[1;33m                 \u001b[0mscore\u001b[0m\u001b[1;33m[\u001b[0m\u001b[0mi\u001b[0m\u001b[1;33m]\u001b[0m\u001b[1;33m[\u001b[0m\u001b[0mj\u001b[0m \u001b[1;33m+\u001b[0m \u001b[1;36m1\u001b[0m\u001b[1;33m]\u001b[0m \u001b[1;33m+\u001b[0m \u001b[1;36m1\u001b[0m\u001b[1;33m,\u001b[0m\u001b[1;33m\u001b[0m\u001b[1;33m\u001b[0m\u001b[0m\n\u001b[0m\u001b[0;32m    168\u001b[0m                 \u001b[0mscore\u001b[0m\u001b[1;33m[\u001b[0m\u001b[0mi1\u001b[0m\u001b[1;33m]\u001b[0m\u001b[1;33m[\u001b[0m\u001b[0mj1\u001b[0m\u001b[1;33m]\u001b[0m \u001b[1;33m+\u001b[0m \u001b[1;33m(\u001b[0m\u001b[0mi\u001b[0m \u001b[1;33m-\u001b[0m \u001b[0mi1\u001b[0m \u001b[1;33m-\u001b[0m \u001b[1;36m1\u001b[0m\u001b[1;33m)\u001b[0m \u001b[1;33m+\u001b[0m \u001b[1;36m1\u001b[0m \u001b[1;33m+\u001b[0m \u001b[1;33m(\u001b[0m\u001b[0mj\u001b[0m \u001b[1;33m-\u001b[0m \u001b[0mj1\u001b[0m \u001b[1;33m-\u001b[0m \u001b[1;36m1\u001b[0m\u001b[1;33m)\u001b[0m\u001b[1;33m,\u001b[0m\u001b[1;33m\u001b[0m\u001b[1;33m\u001b[0m\u001b[0m\n\u001b[0;32m    169\u001b[0m             )\n",
      "\u001b[1;31mKeyboardInterrupt\u001b[0m: "
     ]
    }
   ],
   "source": [
    "parseDocument(\"F:\\Projects\\EMA\\Repository\\EMA EPI PoC\\function_code\\data\\converted_to_html\\CAP\\en\\AbilifyMaintena-h-2755-e.html\", fileNameQrd, fileNameMatchRuleBook, fileNameDocumentTypeNames, medName = \"Aerius\")"
   ]
  },
  {
   "cell_type": "code",
   "execution_count": null,
   "metadata": {},
   "outputs": [],
   "source": []
  },
  {
   "cell_type": "code",
   "execution_count": null,
   "metadata": {},
   "outputs": [],
   "source": []
  }
 ],
 "metadata": {
  "kernelspec": {
   "display_name": "Python 3",
   "language": "python",
   "name": "python3"
  },
  "language_info": {
   "codemirror_mode": {
    "name": "ipython",
    "version": 3
   },
   "file_extension": ".py",
   "mimetype": "text/x-python",
   "name": "python",
   "nbconvert_exporter": "python",
   "pygments_lexer": "ipython3",
   "version": "3.7.3"
  }
 },
 "nbformat": 4,
 "nbformat_minor": 4
}
