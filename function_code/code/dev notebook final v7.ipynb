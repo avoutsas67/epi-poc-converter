{
 "cells": [
  {
   "cell_type": "code",
   "execution_count": 80,
   "metadata": {},
   "outputs": [
    {
     "name": "stdout",
     "output_type": "stream",
     "text": [
      "The autoreload extension is already loaded. To reload it, use:\n",
      "  %reload_ext autoreload\n"
     ]
    }
   ],
   "source": [
    "import os\n",
    "import zipfile\n",
    "%load_ext autoreload\n",
    "\n",
    "%autoreload 2"
   ]
  },
  {
   "cell_type": "code",
   "execution_count": 94,
   "metadata": {
    "scrolled": true
   },
   "outputs": [],
   "source": [
    "import tracemalloc\n",
    "import psutil\n",
    "import pprint\n",
    "import pandas as pd\n",
    "import uuid\n",
    "import json\n",
    "import os\n",
    "import glob\n",
    "import re\n",
    "import sys\n",
    "from bs4 import NavigableString, BeautifulSoup\n",
    "from collections import defaultdict\n",
    "import random\n",
    "import string\n",
    "import time\n",
    "\n",
    "from utils.config import config\n",
    "from utils.logger.logger import loggerCreator\n",
    "\n",
    "# ePI Modules\n",
    "from parse.rulebook.rulebook import StyleRulesDictionary\n",
    "\n",
    "from parse.extractor.parser import parserExtractor\n",
    "from match.matchDocument.matchDocument import MatchDocument\n",
    "from documentAnnotation.documentAnnotation import DocumentAnnotation\n",
    "from htmlDocTypePartitioner.partition import DocTypePartitioner\n",
    "from extractContentBetweenHeadings.dataBetweenHeadingsExtractor import DataBetweenHeadingsExtractor\n",
    "from fhirXmlGenerator.fhirXmlGenerator import FhirXmlGenerator\n",
    "from fhirService.fhirService import FhirService\n",
    "from utils.logger.matchLogger import MatchLogger\n",
    "from languageInfo.documentTypeNames.documentTypeNames import DocumentTypeNames\n",
    "from listBundle.addAndUpdateListBundle.addAndUpdateListBundle import ListBundleHandler\n",
    "\n",
    "class FolderNotFoundError(Exception):\n",
    "    pass\n",
    "\n",
    "class Metrics:\n",
    "    \n",
    "    def __init__(self, logFileName, logger):\n",
    "        self.logFileName = logFileName\n",
    "        self.start()\n",
    "        self.writer = open(self.logFileName, 'a')\n",
    "        self.writer.write(\"StepName,Time,Current Memory,Peak Memory,Used Ram Percentage\\n\")\n",
    "        self.finalPeak = 0\n",
    "        self.finalTotalTime = 0\n",
    "        self.finalUsedRamPerc = 0\n",
    "        self.logger = logger\n",
    "    \n",
    "    def start(self):\n",
    "        self.startTime = time.time()\n",
    "        tracemalloc.start()\n",
    "    \n",
    "    def getMetric(self, msg):\n",
    "        \n",
    "        self.endTime = time.time()\n",
    "        \n",
    "        self.totalTime = self.endTime - self.startTime\n",
    "        \n",
    "        \n",
    "        current, peak = tracemalloc.get_traced_memory()\n",
    "        current = current / 10**6\n",
    "        peak = peak / 10**6\n",
    "        \n",
    "        usedRamPerc = psutil.virtual_memory()[2]\n",
    "        \n",
    "        self.finalPeak = max(self.finalPeak, peak)\n",
    "        self.finalUsedRamPerc = max(self.finalUsedRamPerc, usedRamPerc)\n",
    "\n",
    "        self.finalTotalTime = self.finalTotalTime + self.totalTime\n",
    "        #self.finalTotalTime = round(self.finalTotalTime/60,3)\n",
    "        \n",
    "        outputString = f\"{msg},{round(self.totalTime/60,4)} Min,{current} MB,{peak} MB,{usedRamPerc}%\\n\"\n",
    "        \n",
    "        self.logger.logFlowCheckpoint(f\"{outputString}\")\n",
    "        \n",
    "        print(f\"Metrics : {outputString}\")\n",
    "        self.writer.write(outputString)\n",
    "        tracemalloc.stop()\n",
    "        tracemalloc.start()\n",
    "        self.startTime = time.time()\n",
    "    def end(self):\n",
    "        \n",
    "        current, peak = tracemalloc.get_traced_memory()\n",
    "        current = current / 10**6\n",
    "        outputString = f\"Final Metrics,{round(self.finalTotalTime/60,4)} Min,{current} MB,{self.finalPeak} MB,{self.finalUsedRamPerc}%\\n\"\n",
    "        print(f\"Metrics : {outputString}\")\n",
    "        self.logger.logFlowCheckpoint(f\"{outputString}\")\n",
    "        self.writer.write(outputString)\n",
    "        self.writer.close()\n",
    "        tracemalloc.stop()\n",
    "        \n",
    "        \n",
    "\n",
    "\n",
    "def convertToInt(x):\n",
    "    try:\n",
    "        return str(int(x))\n",
    "    except:\n",
    "        return x\n",
    "\n",
    "\n",
    "def convertCollectionToDataFrame(collection):\n",
    "\n",
    "    dfExtractedHier = pd.DataFrame(collection)\n",
    "    dfExtractedHier['parent_id'] = dfExtractedHier['parent_id'].apply(\n",
    "        lambda x: convertToInt(x))\n",
    "    dfExtractedHier['id'] = dfExtractedHier['id'].apply(\n",
    "        lambda x: convertToInt(x))\n",
    "\n",
    "    return dfExtractedHier\n",
    "\n",
    "def getRandomString(N):\n",
    "    str_ = ''.join(random.choice(string.ascii_uppercase + string.digits\n",
    "                                 + string.ascii_lowercase) for _ in range(N))\n",
    "    return str_\n",
    "\n",
    "\n",
    "def convertHtmlToJson(controlBasePath, basePath, domain, procedureType, languageCode, htmlDocName, fileNameQrd, fileNameLog):\n",
    "\n",
    "    module_path = os.path.join(basePath)\n",
    "\n",
    "    if \"/\" in basePath:\n",
    "        pathSep = \"/\"\n",
    "    else:\n",
    "        pathSep = \"\\\\\"\n",
    "    \n",
    "    # Generate output folder path\n",
    "    output_json_path = os.path.join(basePath, 'outputJSON')\n",
    "\n",
    "    \"\"\"\n",
    "        Check if input folder exists, else throw exception\n",
    "    \"\"\"\n",
    "    if(os.path.exists(module_path)):\n",
    "        filenames = glob.glob(os.path.join(module_path, htmlDocName))\n",
    "\n",
    "        # Create language specific folder in outputJSON folder if it doesn't exist\n",
    "        if(not os.path.exists(output_json_path)):\n",
    "            os.mkdir(output_json_path)\n",
    "        logger = MatchLogger(f'Parser_{getRandomString(1)}', htmlDocName,\n",
    "                             domain, procedureType, languageCode, \"HTML\", fileNameLog)\n",
    "\n",
    "        styleLogger = MatchLogger(\n",
    "            f'Style Dictionary_{getRandomString(1)}', htmlDocName, domain, procedureType, languageCode, \"HTML\", fileNameLog)\n",
    "\n",
    "        styleRulesObj = StyleRulesDictionary(logger=styleLogger,\n",
    "                                             controlBasePath=controlBasePath,\n",
    "                                             language=languageCode,\n",
    "                                             fileName=fileNameQrd,\n",
    "                                             domain=domain,\n",
    "                                             procedureType=procedureType\n",
    "                                             )\n",
    "\n",
    "        parserObj = parserExtractor(config, logger, styleRulesObj.styleRuleDict,\n",
    "                                    styleRulesObj.styleFeatureKeyList,\n",
    "                                    styleRulesObj.qrd_section_headings)\n",
    "        \n",
    "        for input_filename in filenames:\n",
    "          # if(input_filename.find('Kalydeco II-86-PI-clean')!=-1):\n",
    "            output_filename = os.path.join(output_json_path, htmlDocName)\n",
    "            style_filepath =  output_filename.replace('.html','.txt')\n",
    "            style_filepath =  style_filepath.replace('.txtl','.txt')\n",
    "            style_filepath =  style_filepath.replace('.htm','.txt')\n",
    "            print(\"-------------\",style_filepath,\"-----------------\")\n",
    "\n",
    "            output_filename = output_filename.replace('.html', '.json')\n",
    "            output_filename = output_filename.replace('.htm', '.json')\n",
    "            print(input_filename, output_filename)\n",
    "            parserObj.createPIJsonFromHTML(input_filepath=input_filename,\n",
    "                                           output_filepath=output_filename,\n",
    "                                           style_filepath = style_filepath,\n",
    "                                           img_base64_dict=parserObj.convertImgToBase64(input_filename)\n",
    "                                           )\n",
    "        #return parserObj, input_filename, output_filename, style_filepath\n",
    "        return output_filename.split(pathSep)[-1], style_filepath\n",
    "    else:\n",
    "        try:    \n",
    "            raise FolderNotFoundError(module_path + \" not found\")\n",
    "        except:  \n",
    "            logger.logFlowCheckpoint(\"Folder For Language Code Not Found In Input File\")\n",
    "            logger.logException(\"Folder For Language Code Not Found In Input File\")\n",
    "        raise FolderNotFoundError(module_path + \" not found\")\n",
    "        return None\n",
    "\n",
    "\n",
    "def splitJson(controlBasePath, basePath, domain, procedureType, languageCode, fileNameJson, fileNameQrd, fileNameLog):\n",
    "\n",
    "    styleLogger = MatchLogger(\n",
    "        f'Style Dictionary_{getRandomString(1)}', fileNameJson, domain, procedureType, languageCode, \"Json\", fileNameLog)\n",
    "\n",
    "    styleRulesObj = StyleRulesDictionary(logger=styleLogger,\n",
    "                                        controlBasePath=controlBasePath,\n",
    "                                        language=languageCode,\n",
    "                                        fileName=fileNameQrd,\n",
    "                                        domain=domain,\n",
    "                                        procedureType=procedureType\n",
    "                                        )\n",
    "    \n",
    "    path_json = os.path.join(basePath,'outputJSON', fileNameJson)\n",
    "    print(\"PathJson\",path_json)\n",
    "    partitionLogger = MatchLogger(\n",
    "        f'Partition_{getRandomString(1)}', fileNameJson, domain, procedureType, languageCode, \"Json\", fileNameLog)\n",
    "\n",
    "    partitioner = DocTypePartitioner(partitionLogger, domain, procedureType)\n",
    "\n",
    "    partitionedJsonPaths = partitioner.partitionHtmls(\n",
    "        styleRulesObj.qrd_section_headings, path_json)\n",
    "\n",
    "    return partitionedJsonPaths\n",
    "\n",
    "\n",
    "def extractAndValidateHeadings(controlBasePath,\n",
    "                                basePath,\n",
    "                                domain,\n",
    "                                procedureType,\n",
    "                                languageCode,\n",
    "                                documentNumber,\n",
    "                                fileNameDoc,\n",
    "                                fileNameQrd,\n",
    "                                fileNameMatchRuleBook,\n",
    "                                fileNameDocumentTypeNames,\n",
    "                                fileNameLog,\n",
    "                                stopWordFilterLen=6,\n",
    "                                isPackageLeaflet=False,\n",
    "                                medName=None\n",
    "                                ):\n",
    "\n",
    "    if documentNumber == 0:\n",
    "        topHeadingsConsidered = 4\n",
    "        bottomHeadingsConsidered = 6\n",
    "    elif documentNumber == 1:\n",
    "        topHeadingsConsidered = 3\n",
    "        bottomHeadingsConsidered = 5\n",
    "    elif documentNumber == 2:\n",
    "        topHeadingsConsidered = 5\n",
    "        bottomHeadingsConsidered = 15\n",
    "    else:\n",
    "        topHeadingsConsidered = 5\n",
    "        bottomHeadingsConsidered = 10\n",
    "\n",
    "    print(f\"Starting Heading Extraction For File :- {fileNameDoc}\")\n",
    "    logger = MatchLogger(f\"Heading Extraction {fileNameDoc}_{getRandomString(1)}\", fileNameDoc, domain, procedureType, languageCode, documentNumber, fileNameLog)\n",
    "    logger.logFlowCheckpoint(\"Starting Heading Extraction\")\n",
    "\n",
    "    stopWordlanguage = DocumentTypeNames(\n",
    "        controlBasePath=controlBasePath,\n",
    "        fileNameDocumentTypeNames=fileNameDocumentTypeNames,\n",
    "        languageCode=languageCode,\n",
    "        domain=domain,\n",
    "        procedureType=procedureType,\n",
    "        documentNumber=documentNumber\n",
    "        ).extractStopWordLanguage()\n",
    "\n",
    "    matchDocObj = MatchDocument(\n",
    "        logger,\n",
    "        controlBasePath,\n",
    "        basePath,\n",
    "        domain,\n",
    "        procedureType,\n",
    "        languageCode,\n",
    "        documentNumber,\n",
    "        fileNameDoc,\n",
    "        fileNameQrd,\n",
    "        fileNameMatchRuleBook,\n",
    "        fileNameDocumentTypeNames,\n",
    "        topHeadingsConsidered,\n",
    "        bottomHeadingsConsidered,\n",
    "        stopWordFilterLen,\n",
    "        stopWordlanguage,\n",
    "        isPackageLeaflet,\n",
    "        medName)\n",
    "    df, coll, documentType = matchDocObj.matchHtmlHeaddingsWithQrd()\n",
    "\n",
    "    return df, coll, documentType\n",
    "\n",
    "\n",
    "def parseDocument(controlBasePath,\n",
    "                  basePath,\n",
    "                  htmlDocName,\n",
    "                  fileNameQrd,\n",
    "                  fileNameMatchRuleBook,\n",
    "                  fileNameDocumentTypeNames,\n",
    "                  jsonTempFileName,\n",
    "                  listBundleDocumentTypeCodesFileName,\n",
    "                  apiMmgtBaseUrl,\n",
    "                  getListApiEndPointUrlSuffix,\n",
    "                  addUpdateListApiEndPointUrlSuffix,\n",
    "                  addBundleApiEndPointUrlSuffix,\n",
    "                  apiMmgtSubsKey,\n",
    "                  medName = None):\n",
    "    \n",
    "    listRegulatedAuthCodesAccrossePI = []\n",
    "    \n",
    "    if \"/\" in basePath:\n",
    "        pathSep = \"/\"        \n",
    "    else:\n",
    "        pathSep = \"\\\\\"\n",
    "    \n",
    "    fileNameLog = os.path.join(basePath,'FinalLog.txt')\n",
    "\n",
    "    pathComponents = basePath.split(pathSep)\n",
    "    print(pathComponents, htmlDocName)\n",
    "    timestamp = pathComponents[-1]\n",
    "    languageCode =  pathComponents[-2]\n",
    "    medName = pathComponents[-3]\n",
    "    procedureType = pathComponents[-4]\n",
    "    domain = pathComponents[-5]\n",
    "\n",
    "    print(timestamp, languageCode, medName, procedureType, domain)\n",
    "        \n",
    "    flowLogger =  MatchLogger(f\"Flow Logger HTML_{getRandomString(1)}\", htmlDocName, domain, procedureType, languageCode, \"HTML\", fileNameLog)\n",
    "    \n",
    "    metrics = Metrics(os.path.join(basePath,'Metrics.csv'),flowLogger)\n",
    "    \n",
    "    \n",
    "    flowLogger.logFlowCheckpoint(\"Starting HTML Conversion To Json\")\n",
    "    ###Convert Html to Json\n",
    "    \n",
    "    fileNameJson, stylesFilePath = convertHtmlToJson(controlBasePath, basePath, domain, procedureType, languageCode, htmlDocName, fileNameQrd, fileNameLog)\n",
    "    \n",
    "    print(\"stylePath:-\",stylesFilePath)\n",
    "    flowLogger.logFlowCheckpoint(\"Completed HTML Conversion To Json\")\n",
    "    metrics.getMetric(\"HTML Conversion To Json\")\n",
    "\n",
    "    flowLogger.logFlowCheckpoint(\"Starting Json Split\")\n",
    "\n",
    "    ###Split Uber Json to multiple Jsons for each category.\n",
    "    partitionedJsonPaths = splitJson(controlBasePath, basePath, domain, procedureType, languageCode, fileNameJson, fileNameQrd, fileNameLog)\n",
    "    \n",
    "    partitionedJsonPaths = [ path.split(pathSep)[-1] for path in partitionedJsonPaths]\n",
    "    flowLogger.logFlowCheckpoint(str(partitionedJsonPaths))\n",
    "    \n",
    "    flowLogger.logFlowCheckpoint(\"Completed Json Split\")\n",
    "    metrics.getMetric(\"Split Json\")\n",
    "    \n",
    "    flowLogger.logFlowCheckpoint(\"Started Processing Partitioned Jsons\")\n",
    "    \n",
    "    for index, fileNamePartitioned in enumerate(partitionedJsonPaths):\n",
    "        print(\"Index\", index)\n",
    "        #if index in [0,2,3]:\n",
    "        #    continue\n",
    "        \n",
    "        flowLogger.logFlowCheckpoint(f\"\\n\\n\\n\\n||||||||||||||||||||||||||||||||{str(index)} ||||| {str(fileNamePartitioned)}||||||||||||||||||||||||||||||||\\n\\n\\n\\n\")\n",
    "        \n",
    "        if index == 3:\n",
    "            stopWordFilterLen = 100\n",
    "            isPackageLeaflet = True\n",
    "        else:\n",
    "            stopWordFilterLen = 6\n",
    "            isPackageLeaflet = False\n",
    "            \n",
    "        df, coll, documentType = extractAndValidateHeadings(controlBasePath,\n",
    "                                    basePath,\n",
    "                                    domain,\n",
    "                                    procedureType,\n",
    "                                    languageCode,\n",
    "                                    index,\n",
    "                                    fileNamePartitioned,\n",
    "                                    fileNameQrd,\n",
    "                                    fileNameMatchRuleBook,\n",
    "                                    fileNameDocumentTypeNames,\n",
    "                                    fileNameLog,\n",
    "                                    stopWordFilterLen=stopWordFilterLen,\n",
    "                                    isPackageLeaflet=isPackageLeaflet,\n",
    "                                    medName=medName)\n",
    "        #return df, coll, documentType\n",
    "        print(f\"Completed Heading Extraction For File\")\n",
    "        flowLogger.logFlowCheckpoint(\"Completed Heading Extraction For File\")\n",
    "        metrics.getMetric(f\"{index}: Heading Extraction\")\n",
    "\n",
    "        print(f\"Starting Document Annotation For File :- {fileNamePartitioned}\")        \n",
    "        flowLogger.logFlowCheckpoint(\"Starting Document Annotation For File\")\n",
    "        documentAnnotationObj = DocumentAnnotation(fileNamePartitioned,'c20835db4b1b4e108828a8537ff41506','https://spor-sit.azure-api.net/pms/api/v2/',df,coll, index)\n",
    "        try:\n",
    "            pms_oms_annotation_data = documentAnnotationObj.processRegulatedAuthorizationForDoc()\n",
    "            print(pms_oms_annotation_data)\n",
    "        except Exception as e:\n",
    "            pms_oms_annotation_data = None\n",
    "            print(\"Error Found\", str(e))\n",
    "            \n",
    "        print(f\"Completed Document Annotation\")        \n",
    "        flowLogger.logFlowCheckpoint(\"Completed Document Annotation\")\n",
    "        metrics.getMetric(f\"{index}: Document Annotation\")\n",
    "        \n",
    "        print(f\"Starting Extracting Content Between Heading For File :- {fileNamePartitioned}\")        \n",
    "        flowLogger.logFlowCheckpoint(\"Starting Extracting Content Between Heading\")\n",
    "        \n",
    "        extractContentlogger =  MatchLogger(f'ExtractContentBetween_{index}_{getRandomString(1)}', fileNamePartitioned, domain, procedureType, languageCode, index, fileNameLog)\n",
    "        extractorObj = DataBetweenHeadingsExtractor(extractContentlogger, basePath, coll)\n",
    "        dfExtractedHierRR = extractorObj.extractContentBetweenHeadings(fileNamePartitioned)\n",
    "        \n",
    "        print(f\"Completed Extracting Content Between Heading\")        \n",
    "        flowLogger.logFlowCheckpoint(\"Completed Extracting Content Between Heading\")\n",
    "        metrics.getMetric(f\"{index}: Content Extraction\")\n",
    "        \n",
    "        \n",
    "        xmlLogger =  MatchLogger(f'XmlGeneration_{index}_{getRandomString(1)}', fileNamePartitioned, domain, procedureType, languageCode, index, fileNameLog)\n",
    "        \n",
    "        listBundleDocumentTypeCodesFilePath = os.path.join(controlBasePath,\n",
    "                                                                listBundleDocumentTypeCodesFileName.split(\".\")[0],\n",
    "                                                                listBundleDocumentTypeCodesFileName)\n",
    "        with open(listBundleDocumentTypeCodesFilePath, encoding='utf-8') as f:\n",
    "            listBundleDocumentTypeCodes = json.load(f)\n",
    "            \n",
    "        bundleDocumentTypeCode = listBundleDocumentTypeCodes[domain][str(index)]['listBundleCode']\n",
    "        bundleMetaData = {'pmsOmsAnnotationData':pms_oms_annotation_data,\n",
    "                          'documentTypeCode': bundleDocumentTypeCode,\n",
    "                          'documentType': documentType,\n",
    "                          'medName': medName}\n",
    "        \n",
    "        fhirXmlGeneratorObj = FhirXmlGenerator(xmlLogger, controlBasePath, basePath, bundleMetaData, stylesFilePath)\n",
    "        fileNameXml = fileNamePartitioned.replace('.json','.xml')\n",
    "        generatedXml = fhirXmlGeneratorObj.generateXml(dfExtractedHierRR, fileNameXml)\n",
    "        \n",
    "        metrics.getMetric(f\"{index}: Generate XML\")\n",
    "        \n",
    "        fhirServiceLogger =  MatchLogger(f'XML Submission Logger_{index}_{getRandomString(1)}', fileNamePartitioned, domain, procedureType, languageCode, index, fileNameLog)\n",
    "        \n",
    "        fhirServiceObj = FhirService(fhirServiceLogger, apiMmgtBaseUrl, addBundleApiEndPointUrlSuffix, apiMmgtSubsKey, basePath, generatedXml)\n",
    "        fhirServiceObj.submitFhirXml()\n",
    "        \n",
    "        \n",
    "        \n",
    "        \n",
    "        metrics.getMetric(f\"{index}: Submit FHIR Msg\")\n",
    "        \n",
    "        print(f\"Created XML File For :- {fileNamePartitioned}\")\n",
    "        \n",
    "        flowLogger.logFlowCheckpoint(\"Starting list bundle update/addition\")\n",
    "        if documentAnnotationObj.listRegulatedAuthorizationIdentifiers != None:\n",
    "            for id in documentAnnotationObj.listRegulatedAuthorizationIdentifiers:\n",
    "                listRegulatedAuthCodesAccrossePI.append(id)\n",
    "        listBundleLogger =  MatchLogger(f'List Bundle Creation Logger_{index}_{getRandomString(1)}', fileNamePartitioned, domain, procedureType, languageCode, index, fileNameLog)\n",
    "        print(\"\\nlistRegulatedAuthCodesAccrossePI\",listRegulatedAuthCodesAccrossePI)\n",
    "        try:\n",
    "            listBundleHandler = ListBundleHandler(listBundleLogger,\n",
    "                     domain,\n",
    "                     procedureType,\n",
    "                     index,\n",
    "                     documentType,\n",
    "                     languageCode,\n",
    "                     medName,\n",
    "                     controlBasePath,\n",
    "                     jsonTempFileName,\n",
    "                     listBundleDocumentTypeCodesFileName,\n",
    "                     fileNameDocumentTypeNames,\n",
    "                     listRegulatedAuthCodesAccrossePI,\n",
    "                     apiMmgtBaseUrl,\n",
    "                     getListApiEndPointUrlSuffix,\n",
    "                     addUpdateListApiEndPointUrlSuffix,\n",
    "                     apiMmgtSubsKey)\n",
    "\n",
    "            listBundleXml = listBundleHandler.addOrUpdateDocumentItem(str(fhirServiceObj.SubmittedFhirMsgRefId))\n",
    "            print(listBundleXml)\n",
    "            listBundleHandler.submitListXmLToServer(listBundleXml)\n",
    "\n",
    "            flowLogger.logFlowCheckpoint(\"Completed list bundle update/addition\")\n",
    "            metrics.getMetric(f\"{index}: Update/Add List Bundle\")\n",
    "            #return df,coll,dfExtractedHierRR\n",
    "        except Exception as e:\n",
    "            print(str(e))\n",
    "            if 'No MAN Code found' in str(e):\n",
    "                flowLogger.logFlowCheckpoint(\"Skipping list bundle addtion/update as no MAN found\")\n",
    "            \n",
    "    \n",
    "    flowLogger.logFlowCheckpoint(\"Completed Processing Partitioned Jsons\")\n",
    "    metrics.getMetric(f\"{index}: Completed\")\n",
    "    metrics.end()"
   ]
  },
  {
   "cell_type": "code",
   "execution_count": 95,
   "metadata": {},
   "outputs": [],
   "source": [
    "#from wordToHtmlConvertor.wordToHtmlConvertor import WordToHtmlConvertor\n",
    "#\n",
    "#wordToHtmlConvertorObj = WordToHtmlConvertor()\n",
    "#wordToHtmlConvertorObj.convertWordToHTML()"
   ]
  },
  {
   "cell_type": "code",
   "execution_count": 96,
   "metadata": {},
   "outputs": [
    {
     "data": {
      "text/plain": [
       "'F:\\\\Projects\\\\EMA\\\\Repository\\\\EMA EPI PoC\\\\function_code'"
      ]
     },
     "execution_count": 96,
     "metadata": {},
     "output_type": "execute_result"
    }
   ],
   "source": [
    "os.path.abspath(os.path.join('..'))"
   ]
  },
  {
   "cell_type": "code",
   "execution_count": 97,
   "metadata": {},
   "outputs": [],
   "source": [
    "def runAll(inputList):\n",
    "    for inputDoc in inputList:\n",
    "        # inputZipFolderPath = \"F:\\Projects\\EMA\\Repository\\EMA EPI PoC\\\\function_code\\\\inputblob\"\n",
    "        inputZipFolderPath = os.path.abspath(os.path.join('..'))\n",
    "        inputZipFolderPath = os.path.join(inputZipFolderPath, 'inputblob')\n",
    "        inputZipFileName = inputDoc\n",
    "\n",
    "        fileNameQrd = 'qrd_canonical_model.csv'\n",
    "        fileNameMatchRuleBook = 'ruleDict.json'\n",
    "        fileNameDocumentTypeNames = 'documentTypeNames.json'\n",
    "        fsMountName = '/mounted'\n",
    "        jsonTempFileName = 'listBundleJsonTemplate.json'\n",
    "        listBundleDocumentTypeCodesFileName = 'listBundleDocumentTypeCodes.json'\n",
    "        apiMmgtBaseUrl = \"https://ema-dap-epi-dev-fhir-apim.azure-api.net\"\n",
    "        getListApiEndPointUrlSuffix = \"/epi/v1/List\"\n",
    "        addUpdateListApiEndPointUrlSuffix = \"/epi-w/v1/List\"\n",
    "        addBundleApiEndPointUrlSuffix = \"/epi-w/v1/Bundle\"\n",
    "        apiMmgtSubsKey = \"ba6d7e9a73ed4facaa58fc983bf6db50\"\n",
    "\n",
    "\n",
    "\n",
    "        info = inputZipFileName.split(\"~\")\n",
    "\n",
    "        try:\n",
    "            medName = info[0]\n",
    "            domain = info[1]\n",
    "            procedureType = info[2]\n",
    "            languageCode = info[3]\n",
    "            timestamp = info[4]\n",
    "            timestamp = timestamp.replace(\".zip\",\"\")\n",
    "\n",
    "        except Exception:\n",
    "            raise f\"Missing required info in the zip file name {inputZipFileName}\"\n",
    "\n",
    "        if \"\\\\\" in os.getcwd():\n",
    "            localEnv = True\n",
    "            inputZipFolderPath = os.path.join(os.path.abspath(os.path.join('..')),inputZipFolderPath)\n",
    "            outputFolderPath = os.path.join(os.path.abspath(os.path.join('..')), 'work', f\"{domain}\", f\"{procedureType}\", f\"{medName}\", f\"{languageCode}\", f\"{timestamp}\")\n",
    "            controlFolderPath = os.path.join(os.path.abspath(os.path.join('..')),'control')\n",
    "        else:\n",
    "            localEnv = False\n",
    "            inputZipFolderPath = os.path.join(f'{fsMountName}',inputZipFolderPath)\n",
    "            outputFolderPath = os.path.join(f'{fsMountName}', 'work', f\"{domain}\", f\"{procedureType}\", f\"{medName}\", f\"{languageCode}\", f\"{timestamp}\")\n",
    "            controlFolderPath = os.path.join(f'{fsMountName}','control')\n",
    "\n",
    "\n",
    "        print(inputZipFileName, inputZipFolderPath, outputFolderPath, controlFolderPath)\n",
    "\n",
    "        mode = 0o666\n",
    "\n",
    "        if localEnv is True:\n",
    "            inputZipFolderPath = inputZipFolderPath.replace(\"/\",\"\\\\\")\n",
    "            outputFolderPath = outputFolderPath.replace(\"/\",\"\\\\\")\n",
    "            controlFolderPath = controlFolderPath.replace(\"/\",\"\\\\\")\n",
    "\n",
    "        try:\n",
    "            os.makedirs(inputZipFolderPath, mode)\n",
    "            os.makedirs(outputFolderPath, mode)\n",
    "            os.makedirs(controlFolderPath, mode)\n",
    "\n",
    "        except Exception:\n",
    "            print(\"Already Present\")\n",
    "\n",
    "        with zipfile.ZipFile(f'{inputZipFolderPath}/{inputZipFileName}',\"r\") as zip_ref:\n",
    "                zip_ref.extractall(outputFolderPath)\n",
    "\n",
    "\n",
    "        _,_,fileNames = next(os.walk(outputFolderPath))\n",
    "        htmlFileName = [fileName for fileName in fileNames if \".htm\" in fileName][0]\n",
    "\n",
    "        print(htmlFileName)\n",
    "\n",
    "        parseDocument(controlFolderPath,\n",
    "                  outputFolderPath,\n",
    "                  htmlFileName,\n",
    "                  fileNameQrd,\n",
    "                  fileNameMatchRuleBook,\n",
    "                  fileNameDocumentTypeNames,\n",
    "                  jsonTempFileName,\n",
    "                  listBundleDocumentTypeCodesFileName,\n",
    "                  apiMmgtBaseUrl,\n",
    "                  getListApiEndPointUrlSuffix,\n",
    "                  addUpdateListApiEndPointUrlSuffix,\n",
    "                  addBundleApiEndPointUrlSuffix,\n",
    "                  apiMmgtSubsKey,\n",
    "                  medName)\n"
   ]
  },
  {
   "cell_type": "code",
   "execution_count": 101,
   "metadata": {},
   "outputs": [],
   "source": [
    "def runAllTest(inputList):\n",
    "    for inputDoc in inputList:\n",
    "        # inputZipFolderPath = \"F:\\Projects\\EMA\\Repository\\EMA EPI PoC\\\\function_code\\\\inputblob\"\n",
    "        inputZipFolderPath = os.path.abspath(os.path.join('..'))\n",
    "        inputZipFolderPath = os.path.join(inputZipFolderPath, 'inputblob')\n",
    "        inputZipFileName = inputDoc\n",
    "        \n",
    "        fileNameQrd = 'qrd_canonical_model.csv'\n",
    "        fileNameMatchRuleBook = 'ruleDict.json'\n",
    "        fileNameDocumentTypeNames = 'documentTypeNames.json'\n",
    "        fsMountName = '/mounted'\n",
    "        jsonTempFileName = 'listBundleJsonTemplate.json'\n",
    "        listBundleDocumentTypeCodesFileName = 'listBundleDocumentTypeCodes.json'\n",
    "        apiMmgtBaseUrl = \"https://ema-dap-epi-tst-fhir-apim.azure-api.net\"\n",
    "        getListApiEndPointUrlSuffix = \"/epi/v1/List\"\n",
    "        addUpdateListApiEndPointUrlSuffix = \"/epi-w/v1/List\"\n",
    "        addBundleApiEndPointUrlSuffix = \"/epi-w/v1/Bundle\"\n",
    "        apiMmgtSubsKey = \"9e9d47b8a08148f9833e17462d90574a\"\n",
    "\n",
    "\n",
    "\n",
    "\n",
    "        info = inputZipFileName.split(\"~\")\n",
    "\n",
    "        try:\n",
    "            medName = info[0]\n",
    "            domain = info[1]\n",
    "            procedureType = info[2]\n",
    "            languageCode = info[3]\n",
    "            timestamp = info[4]\n",
    "            timestamp = timestamp.replace(\".zip\",\"\")\n",
    "\n",
    "        except Exception:\n",
    "            raise f\"Missing required info in the zip file name {inputZipFileName}\"\n",
    "\n",
    "        if \"\\\\\" in os.getcwd():\n",
    "            localEnv = True\n",
    "            inputZipFolderPath = os.path.join(os.path.abspath(os.path.join('..')),inputZipFolderPath)\n",
    "            outputFolderPath = os.path.join(os.path.abspath(os.path.join('..')), 'work', f\"{domain}\", f\"{procedureType}\", f\"{medName}\", f\"{languageCode}\", f\"{timestamp}\")\n",
    "            controlFolderPath = os.path.join(os.path.abspath(os.path.join('..')),'control')\n",
    "        else:\n",
    "            localEnv = False\n",
    "            inputZipFolderPath = os.path.join(f'{fsMountName}',inputZipFolderPath)\n",
    "            outputFolderPath = os.path.join(f'{fsMountName}', 'work', f\"{domain}\", f\"{procedureType}\", f\"{medName}\", f\"{languageCode}\", f\"{timestamp}\")\n",
    "            controlFolderPath = os.path.join(f'{fsMountName}','control')\n",
    "\n",
    "\n",
    "        print(inputZipFileName, inputZipFolderPath, outputFolderPath, controlFolderPath)\n",
    "\n",
    "        mode = 0o666\n",
    "\n",
    "        if localEnv is True:\n",
    "            inputZipFolderPath = inputZipFolderPath.replace(\"/\",\"\\\\\")\n",
    "            outputFolderPath = outputFolderPath.replace(\"/\",\"\\\\\")\n",
    "            controlFolderPath = controlFolderPath.replace(\"/\",\"\\\\\")\n",
    "\n",
    "        try:\n",
    "            os.makedirs(inputZipFolderPath, mode)\n",
    "            os.makedirs(outputFolderPath, mode)\n",
    "            os.makedirs(controlFolderPath, mode)\n",
    "\n",
    "        except Exception:\n",
    "            print(\"Already Present\")\n",
    "\n",
    "        with zipfile.ZipFile(f'{inputZipFolderPath}/{inputZipFileName}',\"r\") as zip_ref:\n",
    "                zip_ref.extractall(outputFolderPath)\n",
    "\n",
    "\n",
    "        _,_,fileNames = next(os.walk(outputFolderPath))\n",
    "        htmlFileName = [fileName for fileName in fileNames if \".htm\" in fileName][0]\n",
    "\n",
    "        print(htmlFileName)\n",
    "\n",
    "        parseDocument(controlFolderPath,\n",
    "                  outputFolderPath,\n",
    "                  htmlFileName,\n",
    "                  fileNameQrd,\n",
    "                  fileNameMatchRuleBook,\n",
    "                  fileNameDocumentTypeNames,\n",
    "                  jsonTempFileName,\n",
    "                  listBundleDocumentTypeCodesFileName,\n",
    "                  apiMmgtBaseUrl,\n",
    "                  getListApiEndPointUrlSuffix,\n",
    "                  addUpdateListApiEndPointUrlSuffix,\n",
    "                  addBundleApiEndPointUrlSuffix,\n",
    "                  apiMmgtSubsKey,\n",
    "                  medName)\n"
   ]
  },
  {
   "cell_type": "code",
   "execution_count": 99,
   "metadata": {},
   "outputs": [],
   "source": [
    "############# EL"
   ]
  },
  {
   "cell_type": "code",
   "execution_count": 100,
   "metadata": {},
   "outputs": [
    {
     "name": "stderr",
     "output_type": "stream",
     "text": [
      "2021-06-19 00:26:13,724 : Flow Logger HTML_o : Starting HTML Conversion To Json | H | CAP |  el | HTML | Elocta_clean.htm\n",
      "2021-06-19 00:26:13,735 : Style Dictionary_j : Reading style dictionary in file: rule_dictionary_el.json | H | CAP |  el | HTML | Elocta_clean.htm\n",
      "2021-06-19 00:26:13,805 : Style Dictionary_j : Qrd Section Keys Retrieved For Style Dictionary: ΠΕΡΙΛΗΨΗ ΤΩΝ ΧΑΡΑΚΤΗΡΙΣΤΙΚΩΝ ΤΟΥ ΠΡΟΪΟΝΤΟΣ, ΠΑΡΑΡΤΗΜΑ II, A. ΕΠΙΣΗΜΑΝΣΗ, B. ΦΥΛΛΟ ΟΔΗΓΙΩΝ ΧΡΗΣΗΣ | H | CAP |  el | HTML | Elocta_clean.htm\n"
     ]
    },
    {
     "name": "stdout",
     "output_type": "stream",
     "text": [
      "Elocta~H~CAP~el~2021-06-07T06-03-45Z.zip F:\\Projects\\EMA\\Repository\\EMA EPI PoC\\function_code\\inputblob F:\\Projects\\EMA\\Repository\\EMA EPI PoC\\function_code\\work\\H\\CAP\\Elocta\\el\\2021-06-07T06-03-45Z F:\\Projects\\EMA\\Repository\\EMA EPI PoC\\function_code\\control\n",
      "Already Present\n",
      "Elocta_clean.htm\n",
      "['F:', 'Projects', 'EMA', 'Repository', 'EMA EPI PoC', 'function_code', 'work', 'H', 'CAP', 'Elocta', 'el', '2021-06-07T06-03-45Z'] Elocta_clean.htm\n",
      "2021-06-07T06-03-45Z el Elocta CAP H\n",
      "------------- F:\\Projects\\EMA\\Repository\\EMA EPI PoC\\function_code\\work\\H\\CAP\\Elocta\\el\\2021-06-07T06-03-45Z\\outputJSON\\Elocta_clean.txt -----------------\n",
      "F:\\Projects\\EMA\\Repository\\EMA EPI PoC\\function_code\\work\\H\\CAP\\Elocta\\el\\2021-06-07T06-03-45Z\\Elocta_clean.htm F:\\Projects\\EMA\\Repository\\EMA EPI PoC\\function_code\\work\\H\\CAP\\Elocta\\el\\2021-06-07T06-03-45Z\\outputJSON\\Elocta_clean.json\n"
     ]
    },
    {
     "name": "stderr",
     "output_type": "stream",
     "text": [
      "2021-06-19 00:26:16,945 : Parser_T : Style Information Stored In File: F:\\Projects\\EMA\\Repository\\EMA EPI PoC\\function_code\\work\\H\\CAP\\Elocta\\el\\2021-06-07T06-03-45Z\\outputJSON\\Elocta_clean.txt | H | CAP |  el | HTML | Elocta_clean.htm\n"
     ]
    },
    {
     "name": "stdout",
     "output_type": "stream",
     "text": [
      "!!!!!!!!!!! IN TABLE !!!!!!!!!!!!!!!!!\n",
      "!!!!!!!!!!! IN TABLE !!!!!!!!!!!!!!!!!\n",
      "!!!!!!!!!!! IN TABLE !!!!!!!!!!!!!!!!!\n",
      "!!!!!!!!!!! IN TABLE !!!!!!!!!!!!!!!!!\n",
      "!!!!!!!!!!! IN TABLE !!!!!!!!!!!!!!!!!\n",
      "!!!!!!!!!!! IN TABLE !!!!!!!!!!!!!!!!!\n"
     ]
    },
    {
     "name": "stderr",
     "output_type": "stream",
     "text": [
      "2021-06-19 00:26:30,267 : Parser_T : Writing to file: F:\\Projects\\EMA\\Repository\\EMA EPI PoC\\function_code\\work\\H\\CAP\\Elocta\\el\\2021-06-07T06-03-45Z\\outputJSON\\Elocta_clean.json | H | CAP |  el | HTML | Elocta_clean.htm\n",
      "2021-06-19 00:26:31,085 : Flow Logger HTML_o : Completed HTML Conversion To Json | H | CAP |  el | HTML | Elocta_clean.htm\n",
      "2021-06-19 00:26:31,087 : Flow Logger HTML_o : HTML Conversion To Json,0.2894 Min,8.24692 MB,25.819801 MB,54.1%\n",
      " | H | CAP |  el | HTML | Elocta_clean.htm\n",
      "2021-06-19 00:26:31,103 : Flow Logger HTML_o : Starting Json Split | H | CAP |  el | HTML | Elocta_clean.htm\n",
      "2021-06-19 00:26:31,110 : Style Dictionary_O : Reading style dictionary in file: rule_dictionary_el.json | H | CAP |  el | Json | Elocta_clean.json\n",
      "2021-06-19 00:26:31,172 : Style Dictionary_O : Qrd Section Keys Retrieved For Style Dictionary: ΠΕΡΙΛΗΨΗ ΤΩΝ ΧΑΡΑΚΤΗΡΙΣΤΙΚΩΝ ΤΟΥ ΠΡΟΪΟΝΤΟΣ, ΠΑΡΑΡΤΗΜΑ II, A. ΕΠΙΣΗΜΑΝΣΗ, B. ΦΥΛΛΟ ΟΔΗΓΙΩΝ ΧΡΗΣΗΣ | H | CAP |  el | Json | Elocta_clean.json\n",
      "2021-06-19 00:26:31,183 : Partition_d : Partitioning Json: Elocta_clean.json | H | CAP |  el | Json | Elocta_clean.json\n"
     ]
    },
    {
     "name": "stdout",
     "output_type": "stream",
     "text": [
      "stylePath:- F:\\Projects\\EMA\\Repository\\EMA EPI PoC\\function_code\\work\\H\\CAP\\Elocta\\el\\2021-06-07T06-03-45Z\\outputJSON\\Elocta_clean.txt\n",
      "Metrics : HTML Conversion To Json,0.2894 Min,8.24692 MB,25.819801 MB,54.1%\n",
      "\n",
      "PathJson F:\\Projects\\EMA\\Repository\\EMA EPI PoC\\function_code\\work\\H\\CAP\\Elocta\\el\\2021-06-07T06-03-45Z\\outputJSON\\Elocta_clean.json\n",
      "Finding Heading  SmPC \n",
      "\n",
      "\n",
      "textHtml1 | ΠΑΡΑΡΤΗΜΑI | textQrd1 | ΠΑΡΑΡΤΗΜΑII | 0.988\n",
      "textHtml1 | ΠΑΡΑΡΤΗΜΑΙΙ | textQrd1 | ΠΑΡΑΡΤΗΜΑII | 0.945\n",
      "textHtml1 | ΠΑΡΑΡΤΗΜΑIII | textQrd1 | ΠΑΡΑΡΤΗΜΑII | 0.989\n"
     ]
    },
    {
     "name": "stderr",
     "output_type": "stream",
     "text": [
      "2021-06-19 00:26:32,873 : Partition_d : Writing partition to file: F:\\Projects\\EMA\\Repository\\EMA EPI PoC\\function_code\\work\\H\\CAP\\Elocta\\el\\2021-06-07T06-03-45Z\\partitionedJSONs\\Elocta_clean_SmPC.json | H | CAP |  el | Json | Elocta_clean.json\n"
     ]
    },
    {
     "name": "stdout",
     "output_type": "stream",
     "text": [
      "endPositions [(24, 0.988), (473, 0.945), (558, 0.989)]\n",
      "startPos,endPos :  0 473\n",
      "startPos,endPos :  0 448\n",
      "Finding Heading  ΠΑΡΑΡΤΗΜΑ II \n",
      "\n",
      "\n",
      "textHtml1 | A.ΕΠΙΣΗΜΑΝΣΗ | textQrd1 | A.ΕΠΙΣΗΜΑΝΣΗ | 1\n"
     ]
    },
    {
     "name": "stderr",
     "output_type": "stream",
     "text": [
      "2021-06-19 00:26:33,822 : Partition_d : Writing partition to file: F:\\Projects\\EMA\\Repository\\EMA EPI PoC\\function_code\\work\\H\\CAP\\Elocta\\el\\2021-06-07T06-03-45Z\\partitionedJSONs\\Elocta_clean_ΠΑΡΑΡΤΗΜΑ II.json | H | CAP |  el | Json | Elocta_clean.json\n"
     ]
    },
    {
     "name": "stdout",
     "output_type": "stream",
     "text": [
      "endPositions [(587, 1)]\n",
      "startPos,endPos :  448 587\n",
      "startPos,endPos :  448 562\n",
      "Finding Heading  A. ΕΠΙΣΗΜΑΝΣΗ \n",
      "\n",
      "\n",
      "textHtml1 | B.ΦΥΛΛΟΟΔΗΓΙΩΝΧΡΗΣΗΣ | textQrd1 | B.ΦΥΛΛΟΟΔΗΓΙΩΝΧΡΗΣΗΣ | 1\n",
      "endPositions [(2040, 1)]\n",
      "startPos,endPos :  562 2040\n"
     ]
    },
    {
     "name": "stderr",
     "output_type": "stream",
     "text": [
      "2021-06-19 00:26:35,043 : Partition_d : Writing partition to file: F:\\Projects\\EMA\\Repository\\EMA EPI PoC\\function_code\\work\\H\\CAP\\Elocta\\el\\2021-06-07T06-03-45Z\\partitionedJSONs\\Elocta_clean_ ΕΠΙΣΗΜΑΝΣΗ.json | H | CAP |  el | Json | Elocta_clean.json\n",
      "2021-06-19 00:26:35,072 : Partition_d : Writing partition to file: F:\\Projects\\EMA\\Repository\\EMA EPI PoC\\function_code\\work\\H\\CAP\\Elocta\\el\\2021-06-07T06-03-45Z\\partitionedJSONs\\Elocta_clean_ ΦΥΛΛΟ ΟΔΗΓΙΩΝ ΧΡΗΣΗΣ.json | H | CAP |  el | Json | Elocta_clean.json\n",
      "2021-06-19 00:26:35,096 : Flow Logger HTML_o : ['Elocta_clean_SmPC.json', 'Elocta_clean_ΠΑΡΑΡΤΗΜΑ II.json', 'Elocta_clean_ ΕΠΙΣΗΜΑΝΣΗ.json', 'Elocta_clean_ ΦΥΛΛΟ ΟΔΗΓΙΩΝ ΧΡΗΣΗΣ.json'] | H | CAP |  el | HTML | Elocta_clean.htm\n",
      "2021-06-19 00:26:35,099 : Flow Logger HTML_o : Completed Json Split | H | CAP |  el | HTML | Elocta_clean.htm\n",
      "2021-06-19 00:26:35,102 : Flow Logger HTML_o : Split Json,0.0667 Min,0.31007 MB,33.136526 MB,54.2%\n",
      " | H | CAP |  el | HTML | Elocta_clean.htm\n",
      "2021-06-19 00:26:35,105 : Flow Logger HTML_o : Started Processing Partitioned Jsons | H | CAP |  el | HTML | Elocta_clean.htm\n",
      "2021-06-19 00:26:35,109 : Flow Logger HTML_o : \n",
      "\n",
      "\n",
      "\n",
      "||||||||||||||||||||||||||||||||0 ||||| Elocta_clean_SmPC.json||||||||||||||||||||||||||||||||\n",
      "\n",
      "\n",
      "\n",
      " | H | CAP |  el | HTML | Elocta_clean.htm\n",
      "2021-06-19 00:26:35,116 : Heading Extraction Elocta_clean_SmPC.json_D : Starting Heading Extraction | H | CAP |  el | 0 | Elocta_clean_SmPC.json\n"
     ]
    },
    {
     "name": "stdout",
     "output_type": "stream",
     "text": [
      "startPos,endPos :  562 2015\n",
      "Finding Heading  B. ΦΥΛΛΟ ΟΔΗΓΙΩΝ ΧΡΗΣΗΣ \n",
      "\n",
      "\n",
      "startPos,endPos :  2015 2242\n",
      "Metrics : Split Json,0.0667 Min,0.31007 MB,33.136526 MB,54.2%\n",
      "\n",
      "Index 0\n",
      "Starting Heading Extraction For File :- Elocta_clean_SmPC.json\n",
      "File being processed: F:\\Projects\\EMA\\Repository\\EMA EPI PoC\\function_code\\work\\H\\CAP\\Elocta\\el\\2021-06-07T06-03-45Z\\partitionedJSONs\\Elocta_clean_SmPC.json\n",
      "--------------------------------------------\n",
      "SmPC\n"
     ]
    },
    {
     "name": "stderr",
     "output_type": "stream",
     "text": [
      "2021-06-19 00:26:35,799 : Heading Extraction Elocta_clean_SmPC.json_D : Started Extracting Heading | H | CAP |  el | 0 | Elocta_clean_SmPC.json\n",
      "2021-06-19 00:26:36,278 : Heading Extraction Elocta_clean_SmPC.json_D : Match Passed | H | CAP |  el | 0 | Elocta_clean_SmPC.json | Doc txt :- 'ΠΕΡΙΛΗΨΗ ΤΩΝ ΧΑΡΑΚΤΗΡΙΣΤΙΚΩΝ ΤΟΥ ΠΡΟΪΟΝΤΟΣ' | Qrd txt :- 'ΠΕΡΙΛΗΨΗ ΤΩΝ ΧΑΡΑΚΤΗΡΙΣΤΙΚΩΝ ΤΟΥ ΠΡΟΪΟΝΤΟΣ' | Matched :- 'True'\n",
      "2021-06-19 00:26:36,285 : Heading Extraction Elocta_clean_SmPC.json_D : Validation Passed As This The First Heading | H | CAP |  el | 0 | Elocta_clean_SmPC.json | currHeadId :- '20001' | prevHeadingCurrId :- '' | prevHeadingFoundId :- ''\n",
      "2021-06-19 00:26:36,396 : Heading Extraction Elocta_clean_SmPC.json_D : Match Passed | H | CAP |  el | 0 | Elocta_clean_SmPC.json | Doc txt :- '1. ΟΝΟΜΑΣΙΑ ΤΟΥ ΦΑΡΜΑΚΕΥΤΙΚΟΥ ΠΡΟΪΟΝΤΟΣ' | Qrd txt :- '1. ΟΝΟΜΑΣΙΑ ΤΟΥ ΦΑΡΜΑΚΕΥΤΙΚΟΥ ΠΡΟΪΟΝΤΟΣ' | Matched :- 'True'\n",
      "2021-06-19 00:26:36,406 : Heading Extraction Elocta_clean_SmPC.json_D : Validation Flow Is Broken | H | CAP |  el | 0 | Elocta_clean_SmPC.json | currHeadId :- '20003' | prevHeadingCurrId :- '' | prevHeadingFoundId :- '20001'\n",
      "2021-06-19 00:26:36,412 : Heading Extraction Elocta_clean_SmPC.json_D : Validation Passed | H | CAP |  el | 0 | Elocta_clean_SmPC.json | currHeadId :- '20003' | prevHeadingCurrId :- '20001' | prevHeadingFoundId :- '20001'\n",
      "2021-06-19 00:26:42,080 : Heading Extraction Elocta_clean_SmPC.json_D : Match Passed | H | CAP |  el | 0 | Elocta_clean_SmPC.json | Doc txt :- '2. ΠΟΙΟΤΙΚΗ ΚΑΙ ΠΟΣΟΤΙΚΗ ΣΥΝΘΕΣΗ' | Qrd txt :- '2. ΠΟΙΟΤΙΚΗ ΚΑΙ ΠΟΣΟΤΙΚΗ ΣΥΝΘΕΣΗ' | Matched :- 'True'\n",
      "2021-06-19 00:26:42,090 : Heading Extraction Elocta_clean_SmPC.json_D : Validation Passed | H | CAP |  el | 0 | Elocta_clean_SmPC.json | currHeadId :- '20004' | prevHeadingCurrId :- '20003' | prevHeadingFoundId :- '20003'\n",
      "2021-06-19 00:26:54,597 : Heading Extraction Elocta_clean_SmPC.json_D : Match Passed : <=4|13.64|(94, 86, 95)|0.986| | H | CAP |  el | 0 | Elocta_clean_SmPC.json | Doc txt :- 'Έκδοχο με γνωστή δράση' | Qrd txt :- 'Έκδοχο(α) με γνωστή δράση' | Matched :- 'True'\n",
      "2021-06-19 00:26:54,608 : Heading Extraction Elocta_clean_SmPC.json_D : Validation Flow Is Broken | H | CAP |  el | 0 | Elocta_clean_SmPC.json | currHeadId :- '20007' | prevHeadingCurrId :- '' | prevHeadingFoundId :- '20004'\n",
      "2021-06-19 00:26:54,621 : Heading Extraction Elocta_clean_SmPC.json_D : Validation Passed | H | CAP |  el | 0 | Elocta_clean_SmPC.json | currHeadId :- '20007' | prevHeadingCurrId :- '20004' | prevHeadingFoundId :- '20004'\n",
      "2021-06-19 00:26:56,255 : Heading Extraction Elocta_clean_SmPC.json_D : Match Passed | H | CAP |  el | 0 | Elocta_clean_SmPC.json | Doc txt :- '3. ΦΑΡΜΑΚΟΤΕΧΝΙΚΗ ΜΟΡΦΗ' | Qrd txt :- '3. ΦΑΡΜΑΚΟΤΕΧΝΙΚΗ ΜΟΡΦΗ' | Matched :- 'True'\n",
      "2021-06-19 00:26:56,265 : Heading Extraction Elocta_clean_SmPC.json_D : Validation Flow Is Broken | H | CAP |  el | 0 | Elocta_clean_SmPC.json | currHeadId :- '20008' | prevHeadingCurrId :- '' | prevHeadingFoundId :- '20004'\n",
      "2021-06-19 00:26:56,274 : Heading Extraction Elocta_clean_SmPC.json_D : Validation Passed | H | CAP |  el | 0 | Elocta_clean_SmPC.json | currHeadId :- '20008' | prevHeadingCurrId :- '20004' | prevHeadingFoundId :- '20004'\n",
      "2021-06-19 00:26:58,813 : Heading Extraction Elocta_clean_SmPC.json_D : Match Passed | H | CAP |  el | 0 | Elocta_clean_SmPC.json | Doc txt :- '4. ΚΛΙΝΙΚΕΣ ΠΛΗΡΟΦΟΡΙΕΣ' | Qrd txt :- '4. ΚΛΙΝΙΚΕΣ ΠΛΗΡΟΦΟΡΙΕΣ' | Matched :- 'True'\n",
      "2021-06-19 00:26:58,824 : Heading Extraction Elocta_clean_SmPC.json_D : Validation Passed | H | CAP |  el | 0 | Elocta_clean_SmPC.json | currHeadId :- '20009' | prevHeadingCurrId :- '20008' | prevHeadingFoundId :- '20008'\n",
      "2021-06-19 00:26:58,993 : Heading Extraction Elocta_clean_SmPC.json_D : Match Passed | H | CAP |  el | 0 | Elocta_clean_SmPC.json | Doc txt :- '4.1 Θεραπευτικές ενδείξεις' | Qrd txt :- '4.1 Θεραπευτικές ενδείξεις' | Matched :- 'True'\n",
      "2021-06-19 00:26:59,008 : Heading Extraction Elocta_clean_SmPC.json_D : Validation Passed | H | CAP |  el | 0 | Elocta_clean_SmPC.json | currHeadId :- '20010' | prevHeadingCurrId :- '20009' | prevHeadingFoundId :- '20009'\n",
      "2021-06-19 00:27:00,812 : Heading Extraction Elocta_clean_SmPC.json_D : Match Passed | H | CAP |  el | 0 | Elocta_clean_SmPC.json | Doc txt :- '4.2 Δοσολογία και τρόπος χορήγησης' | Qrd txt :- '4.2 Δοσολογία και τρόπος χορήγησης' | Matched :- 'True'\n",
      "2021-06-19 00:27:00,827 : Heading Extraction Elocta_clean_SmPC.json_D : Validation Passed | H | CAP |  el | 0 | Elocta_clean_SmPC.json | currHeadId :- '20011' | prevHeadingCurrId :- '20010' | prevHeadingFoundId :- '20010'\n",
      "2021-06-19 00:27:02,636 : Heading Extraction Elocta_clean_SmPC.json_D : Match Passed | H | CAP |  el | 0 | Elocta_clean_SmPC.json | Doc txt :- 'Δοσολογία' | Qrd txt :- 'Δοσολογία' | Matched :- 'True'\n",
      "2021-06-19 00:27:02,660 : Heading Extraction Elocta_clean_SmPC.json_D : Validation Passed | H | CAP |  el | 0 | Elocta_clean_SmPC.json | currHeadId :- '20012' | prevHeadingCurrId :- '20011' | prevHeadingFoundId :- '20011'\n"
     ]
    },
    {
     "name": "stdout",
     "output_type": "stream",
     "text": [
      "\n",
      "OriginalCheck\n",
      "\n"
     ]
    },
    {
     "name": "stderr",
     "output_type": "stream",
     "text": [
      "2021-06-19 00:27:10,808 : Heading Extraction Elocta_clean_SmPC.json_D : Match Passed | H | CAP |  el | 0 | Elocta_clean_SmPC.json | Doc txt :- 'Παιδιατρικός πληθυσμός' | Qrd txt :- 'Παιδιατρικός πληθυσμός' | Matched :- 'True'\n",
      "2021-06-19 00:27:10,837 : Heading Extraction Elocta_clean_SmPC.json_D : Validation Passed | H | CAP |  el | 0 | Elocta_clean_SmPC.json | currHeadId :- '20013' | prevHeadingCurrId :- '20011' | prevHeadingFoundId :- '20011'\n",
      "2021-06-19 00:27:11,698 : Heading Extraction Elocta_clean_SmPC.json_D : Match Passed | H | CAP |  el | 0 | Elocta_clean_SmPC.json | Doc txt :- 'Τρόπος χορήγησης' | Qrd txt :- 'Τρόπος χορήγησης' | Matched :- 'True'\n",
      "2021-06-19 00:27:11,727 : Heading Extraction Elocta_clean_SmPC.json_D : Validation Passed | H | CAP |  el | 0 | Elocta_clean_SmPC.json | currHeadId :- '20014' | prevHeadingCurrId :- '20011' | prevHeadingFoundId :- '20011'\n"
     ]
    },
    {
     "name": "stdout",
     "output_type": "stream",
     "text": [
      "\n",
      "OriginalCheck\n",
      "\n"
     ]
    },
    {
     "name": "stderr",
     "output_type": "stream",
     "text": [
      "2021-06-19 00:27:14,514 : Heading Extraction Elocta_clean_SmPC.json_D : Match Passed | H | CAP |  el | 0 | Elocta_clean_SmPC.json | Doc txt :- '4.3 Αντενδείξεις' | Qrd txt :- '4.3 Αντενδείξεις' | Matched :- 'True'\n",
      "2021-06-19 00:27:14,526 : Heading Extraction Elocta_clean_SmPC.json_D : Validation Passed | H | CAP |  el | 0 | Elocta_clean_SmPC.json | currHeadId :- '20016' | prevHeadingCurrId :- '20011' | prevHeadingFoundId :- '20011'\n",
      "2021-06-19 00:27:15,367 : Heading Extraction Elocta_clean_SmPC.json_D : Match Passed | H | CAP |  el | 0 | Elocta_clean_SmPC.json | Doc txt :- '4.4 Ειδικές προειδοποιήσεις και προφυλάξεις κατά τη χρήση' | Qrd txt :- '4.4 Ειδικές προειδοποιήσεις και προφυλάξεις κατά τη χρήση' | Matched :- 'True'\n",
      "2021-06-19 00:27:15,379 : Heading Extraction Elocta_clean_SmPC.json_D : Validation Passed | H | CAP |  el | 0 | Elocta_clean_SmPC.json | currHeadId :- '20017' | prevHeadingCurrId :- '20016' | prevHeadingFoundId :- '20016'\n",
      "2021-06-19 00:27:20,664 : Heading Extraction Elocta_clean_SmPC.json_D : Match Passed | H | CAP |  el | 0 | Elocta_clean_SmPC.json | Doc txt :- 'Ιχνηλασιμότητα' | Qrd txt :- 'Ιχνηλασιμότητα' | Matched :- 'True'\n",
      "2021-06-19 00:27:20,680 : Heading Extraction Elocta_clean_SmPC.json_D : Validation Passed | H | CAP |  el | 0 | Elocta_clean_SmPC.json | currHeadId :- '20018' | prevHeadingCurrId :- '20017' | prevHeadingFoundId :- '20017'\n",
      "2021-06-19 00:27:21,513 : Heading Extraction Elocta_clean_SmPC.json_D : Match Passed | H | CAP |  el | 0 | Elocta_clean_SmPC.json | Doc txt :- 'Παιδιατρικός πληθυσμός' | Qrd txt :- 'Παιδιατρικός πληθυσμός' | Matched :- 'True'\n",
      "2021-06-19 00:27:21,528 : Heading Extraction Elocta_clean_SmPC.json_D : Validation Failed As Previous Heading Found is not matching | H | CAP |  el | 0 | Elocta_clean_SmPC.json | currHeadId :- '20013' | prevHeadingCurrId :- '20011' | prevHeadingFoundId :- '20017'\n",
      "2021-06-19 00:27:21,597 : Heading Extraction Elocta_clean_SmPC.json_D : Match Passed | H | CAP |  el | 0 | Elocta_clean_SmPC.json | Doc txt :- 'Παιδιατρικός πληθυσμός' | Qrd txt :- 'Παιδιατρικός πληθυσμός' | Matched :- 'True'\n",
      "2021-06-19 00:27:21,613 : Heading Extraction Elocta_clean_SmPC.json_D : Validation Passed | H | CAP |  el | 0 | Elocta_clean_SmPC.json | currHeadId :- '20019' | prevHeadingCurrId :- '20017' | prevHeadingFoundId :- '20017'\n",
      "2021-06-19 00:27:23,766 : Heading Extraction Elocta_clean_SmPC.json_D : Match Passed | H | CAP |  el | 0 | Elocta_clean_SmPC.json | Doc txt :- '4.5 Αλληλεπιδράσεις με άλλα φαρμακευτικά προϊόντα και άλλες μορφές αλληλεπίδρασης' | Qrd txt :- '4.5 Αλληλεπιδράσεις με άλλα φαρμακευτικά προϊόντα και άλλες μορφές αλληλεπίδρασης' | Matched :- 'True'\n",
      "2021-06-19 00:27:23,782 : Heading Extraction Elocta_clean_SmPC.json_D : Validation Passed | H | CAP |  el | 0 | Elocta_clean_SmPC.json | currHeadId :- '20020' | prevHeadingCurrId :- '20017' | prevHeadingFoundId :- '20017'\n",
      "2021-06-19 00:27:24,865 : Heading Extraction Elocta_clean_SmPC.json_D : Match Passed | H | CAP |  el | 0 | Elocta_clean_SmPC.json | Doc txt :- '4.6 Γονιμότητα, κύηση και γαλουχία' | Qrd txt :- '4.6 Γονιμότητα, κύηση και γαλουχία' | Matched :- 'True'\n",
      "2021-06-19 00:27:24,876 : Heading Extraction Elocta_clean_SmPC.json_D : Validation Passed | H | CAP |  el | 0 | Elocta_clean_SmPC.json | currHeadId :- '20022' | prevHeadingCurrId :- '20020' | prevHeadingFoundId :- '20020'\n",
      "2021-06-19 00:27:25,259 : Heading Extraction Elocta_clean_SmPC.json_D : Match Passed | H | CAP |  el | 0 | Elocta_clean_SmPC.json | Doc txt :- '4.7 Επιδράσεις στην ικανότητα οδήγησης και χειρισμού μηχανημάτων' | Qrd txt :- '4.7 Επιδράσεις στην ικανότητα οδήγησης και χειρισμού μηχανημάτων' | Matched :- 'True'\n",
      "2021-06-19 00:27:25,273 : Heading Extraction Elocta_clean_SmPC.json_D : Validation Passed | H | CAP |  el | 0 | Elocta_clean_SmPC.json | currHeadId :- '20026' | prevHeadingCurrId :- '20022' | prevHeadingFoundId :- '20022'\n",
      "2021-06-19 00:27:26,155 : Heading Extraction Elocta_clean_SmPC.json_D : Match Passed | H | CAP |  el | 0 | Elocta_clean_SmPC.json | Doc txt :- '4.8 Ανεπιθύμητες ενέργειες' | Qrd txt :- '4.8 Ανεπιθύμητες ενέργειες' | Matched :- 'True'\n",
      "2021-06-19 00:27:26,166 : Heading Extraction Elocta_clean_SmPC.json_D : Validation Passed | H | CAP |  el | 0 | Elocta_clean_SmPC.json | currHeadId :- '20027' | prevHeadingCurrId :- '20026' | prevHeadingFoundId :- '20026'\n",
      "2021-06-19 00:27:31,891 : Heading Extraction Elocta_clean_SmPC.json_D : Match Passed | H | CAP |  el | 0 | Elocta_clean_SmPC.json | Doc txt :- 'Παιδιατρικός πληθυσμός' | Qrd txt :- 'Παιδιατρικός πληθυσμός' | Matched :- 'True'\n",
      "2021-06-19 00:27:31,903 : Heading Extraction Elocta_clean_SmPC.json_D : Validation Failed As Previous Heading Found is not matching | H | CAP |  el | 0 | Elocta_clean_SmPC.json | currHeadId :- '20013' | prevHeadingCurrId :- '20011' | prevHeadingFoundId :- '20027'\n",
      "2021-06-19 00:27:32,006 : Heading Extraction Elocta_clean_SmPC.json_D : Match Passed | H | CAP |  el | 0 | Elocta_clean_SmPC.json | Doc txt :- 'Παιδιατρικός πληθυσμός' | Qrd txt :- 'Παιδιατρικός πληθυσμός' | Matched :- 'True'\n",
      "2021-06-19 00:27:32,023 : Heading Extraction Elocta_clean_SmPC.json_D : Validation Failed As Previous Heading Found is not matching | H | CAP |  el | 0 | Elocta_clean_SmPC.json | currHeadId :- '20019' | prevHeadingCurrId :- '20017' | prevHeadingFoundId :- '20027'\n",
      "2021-06-19 00:27:32,062 : Heading Extraction Elocta_clean_SmPC.json_D : Match Passed | H | CAP |  el | 0 | Elocta_clean_SmPC.json | Doc txt :- 'Παιδιατρικός πληθυσμός' | Qrd txt :- 'Παιδιατρικός πληθυσμός' | Matched :- 'True'\n",
      "2021-06-19 00:27:32,078 : Heading Extraction Elocta_clean_SmPC.json_D : Validation Failed As Previous Heading Found is not matching | H | CAP |  el | 0 | Elocta_clean_SmPC.json | currHeadId :- '20021' | prevHeadingCurrId :- '20020' | prevHeadingFoundId :- '20027'\n",
      "2021-06-19 00:27:32,145 : Heading Extraction Elocta_clean_SmPC.json_D : Match Passed | H | CAP |  el | 0 | Elocta_clean_SmPC.json | Doc txt :- 'Παιδιατρικός πληθυσμός' | Qrd txt :- 'Παιδιατρικός πληθυσμός' | Matched :- 'True'\n",
      "2021-06-19 00:27:32,172 : Heading Extraction Elocta_clean_SmPC.json_D : Validation Passed | H | CAP |  el | 0 | Elocta_clean_SmPC.json | currHeadId :- '20028' | prevHeadingCurrId :- '20027' | prevHeadingFoundId :- '20027'\n",
      "2021-06-19 00:27:33,183 : Heading Extraction Elocta_clean_SmPC.json_D : Match Passed | H | CAP |  el | 0 | Elocta_clean_SmPC.json | Doc txt :- 'Αναφορά πιθανολογούμενων ανεπιθύμητων ενεργειών' | Qrd txt :- 'Αναφορά πιθανολογούμενων ανεπιθύμητων ενεργειών' | Matched :- 'True'\n",
      "2021-06-19 00:27:33,205 : Heading Extraction Elocta_clean_SmPC.json_D : Validation Passed | H | CAP |  el | 0 | Elocta_clean_SmPC.json | currHeadId :- '20029' | prevHeadingCurrId :- '20027' | prevHeadingFoundId :- '20027'\n",
      "2021-06-19 00:27:33,524 : Heading Extraction Elocta_clean_SmPC.json_D : Match Passed | H | CAP |  el | 0 | Elocta_clean_SmPC.json | Doc txt :- '4.9 Υπερδοσολογία' | Qrd txt :- '4.9 Υπερδοσολογία' | Matched :- 'True'\n",
      "2021-06-19 00:27:33,536 : Heading Extraction Elocta_clean_SmPC.json_D : Validation Passed | H | CAP |  el | 0 | Elocta_clean_SmPC.json | currHeadId :- '20030' | prevHeadingCurrId :- '20027' | prevHeadingFoundId :- '20027'\n"
     ]
    },
    {
     "name": "stdout",
     "output_type": "stream",
     "text": [
      "\n",
      "OriginalCheck\n",
      "\n"
     ]
    },
    {
     "name": "stderr",
     "output_type": "stream",
     "text": [
      "2021-06-19 00:27:34,753 : Heading Extraction Elocta_clean_SmPC.json_D : Match Passed | H | CAP |  el | 0 | Elocta_clean_SmPC.json | Doc txt :- '5. ΦΑΡΜΑΚΟΛΟΓΙΚΕΣ ΙΔΙΟΤΗΤΕΣ' | Qrd txt :- '5. ΦΑΡΜΑΚΟΛΟΓΙΚΕΣ ΙΔΙΟΤΗΤΕΣ' | Matched :- 'True'\n",
      "2021-06-19 00:27:34,765 : Heading Extraction Elocta_clean_SmPC.json_D : Validation Passed | H | CAP |  el | 0 | Elocta_clean_SmPC.json | currHeadId :- '20032' | prevHeadingCurrId :- '20030' | prevHeadingFoundId :- '20030'\n",
      "2021-06-19 00:27:35,181 : Heading Extraction Elocta_clean_SmPC.json_D : Match Passed | H | CAP |  el | 0 | Elocta_clean_SmPC.json | Doc txt :- '5.1 Φαρμακοδυναμικές ιδιότητες' | Qrd txt :- '5.1 Φαρμακοδυναμικές ιδιότητες' | Matched :- 'True'\n",
      "2021-06-19 00:27:35,192 : Heading Extraction Elocta_clean_SmPC.json_D : Validation Passed | H | CAP |  el | 0 | Elocta_clean_SmPC.json | currHeadId :- '20033' | prevHeadingCurrId :- '20032' | prevHeadingFoundId :- '20032'\n",
      "2021-06-19 00:27:36,089 : Heading Extraction Elocta_clean_SmPC.json_D : Match Passed | H | CAP |  el | 0 | Elocta_clean_SmPC.json | Doc txt :- 'Μηχανισμός δράσης' | Qrd txt :- 'Μηχανισμός δράσης' | Matched :- 'True'\n",
      "2021-06-19 00:27:36,111 : Heading Extraction Elocta_clean_SmPC.json_D : Validation Passed | H | CAP |  el | 0 | Elocta_clean_SmPC.json | currHeadId :- '20034' | prevHeadingCurrId :- '20033' | prevHeadingFoundId :- '20033'\n",
      "2021-06-19 00:27:37,370 : Heading Extraction Elocta_clean_SmPC.json_D : Match Passed | H | CAP |  el | 0 | Elocta_clean_SmPC.json | Doc txt :- 'Κλινική αποτελεσματικότητα και ασφάλεια' | Qrd txt :- 'Κλινική αποτελεσματικότητα και ασφάλεια' | Matched :- 'True'\n",
      "2021-06-19 00:27:37,386 : Heading Extraction Elocta_clean_SmPC.json_D : Validation Passed | H | CAP |  el | 0 | Elocta_clean_SmPC.json | currHeadId :- '20036' | prevHeadingCurrId :- '20033' | prevHeadingFoundId :- '20033'\n",
      "2021-06-19 00:27:58,117 : Heading Extraction Elocta_clean_SmPC.json_D : Match Passed | H | CAP |  el | 0 | Elocta_clean_SmPC.json | Doc txt :- 'Παιδιατρικός πληθυσμός' | Qrd txt :- 'Παιδιατρικός πληθυσμός' | Matched :- 'True'\n",
      "2021-06-19 00:27:58,142 : Heading Extraction Elocta_clean_SmPC.json_D : Validation Failed As Previous Heading Found is not matching | H | CAP |  el | 0 | Elocta_clean_SmPC.json | currHeadId :- '20013' | prevHeadingCurrId :- '20011' | prevHeadingFoundId :- '20033'\n",
      "2021-06-19 00:27:58,264 : Heading Extraction Elocta_clean_SmPC.json_D : Match Passed | H | CAP |  el | 0 | Elocta_clean_SmPC.json | Doc txt :- 'Παιδιατρικός πληθυσμός' | Qrd txt :- 'Παιδιατρικός πληθυσμός' | Matched :- 'True'\n",
      "2021-06-19 00:27:58,285 : Heading Extraction Elocta_clean_SmPC.json_D : Validation Failed As Previous Heading Found is not matching | H | CAP |  el | 0 | Elocta_clean_SmPC.json | currHeadId :- '20019' | prevHeadingCurrId :- '20017' | prevHeadingFoundId :- '20033'\n",
      "2021-06-19 00:27:58,341 : Heading Extraction Elocta_clean_SmPC.json_D : Match Passed | H | CAP |  el | 0 | Elocta_clean_SmPC.json | Doc txt :- 'Παιδιατρικός πληθυσμός' | Qrd txt :- 'Παιδιατρικός πληθυσμός' | Matched :- 'True'\n",
      "2021-06-19 00:27:58,359 : Heading Extraction Elocta_clean_SmPC.json_D : Validation Failed As Previous Heading Found is not matching | H | CAP |  el | 0 | Elocta_clean_SmPC.json | currHeadId :- '20021' | prevHeadingCurrId :- '20020' | prevHeadingFoundId :- '20033'\n",
      "2021-06-19 00:27:58,455 : Heading Extraction Elocta_clean_SmPC.json_D : Match Passed | H | CAP |  el | 0 | Elocta_clean_SmPC.json | Doc txt :- 'Παιδιατρικός πληθυσμός' | Qrd txt :- 'Παιδιατρικός πληθυσμός' | Matched :- 'True'\n",
      "2021-06-19 00:27:58,474 : Heading Extraction Elocta_clean_SmPC.json_D : Validation Failed As Previous Heading Found is not matching | H | CAP |  el | 0 | Elocta_clean_SmPC.json | currHeadId :- '20028' | prevHeadingCurrId :- '20027' | prevHeadingFoundId :- '20033'\n",
      "2021-06-19 00:27:58,533 : Heading Extraction Elocta_clean_SmPC.json_D : Match Passed | H | CAP |  el | 0 | Elocta_clean_SmPC.json | Doc txt :- 'Παιδιατρικός πληθυσμός' | Qrd txt :- 'Παιδιατρικός πληθυσμός' | Matched :- 'True'\n",
      "2021-06-19 00:27:58,555 : Heading Extraction Elocta_clean_SmPC.json_D : Validation Failed As Previous Heading Found is not matching | H | CAP |  el | 0 | Elocta_clean_SmPC.json | currHeadId :- '20031' | prevHeadingCurrId :- '20030' | prevHeadingFoundId :- '20033'\n",
      "2021-06-19 00:27:58,642 : Heading Extraction Elocta_clean_SmPC.json_D : Match Passed | H | CAP |  el | 0 | Elocta_clean_SmPC.json | Doc txt :- 'Παιδιατρικός πληθυσμός' | Qrd txt :- 'Παιδιατρικός πληθυσμός' | Matched :- 'True'\n",
      "2021-06-19 00:27:58,668 : Heading Extraction Elocta_clean_SmPC.json_D : Validation Passed | H | CAP |  el | 0 | Elocta_clean_SmPC.json | currHeadId :- '20037' | prevHeadingCurrId :- '20033' | prevHeadingFoundId :- '20033'\n",
      "2021-06-19 00:28:00,686 : Heading Extraction Elocta_clean_SmPC.json_D : Match Passed | H | CAP |  el | 0 | Elocta_clean_SmPC.json | Doc txt :- '5.2 Φαρμακοκινητικές ιδιότητες' | Qrd txt :- '5.2 Φαρμακοκινητικές ιδιότητες' | Matched :- 'True'\n",
      "2021-06-19 00:28:00,721 : Heading Extraction Elocta_clean_SmPC.json_D : Validation Passed | H | CAP |  el | 0 | Elocta_clean_SmPC.json | currHeadId :- '20038' | prevHeadingCurrId :- '20033' | prevHeadingFoundId :- '20033'\n",
      "2021-06-19 00:28:05,453 : Heading Extraction Elocta_clean_SmPC.json_D : Match Passed | H | CAP |  el | 0 | Elocta_clean_SmPC.json | Doc txt :- 'Παιδιατρικός πληθυσμός' | Qrd txt :- 'Παιδιατρικός πληθυσμός' | Matched :- 'True'\n",
      "2021-06-19 00:28:05,477 : Heading Extraction Elocta_clean_SmPC.json_D : Validation Failed As Previous Heading Found is not matching | H | CAP |  el | 0 | Elocta_clean_SmPC.json | currHeadId :- '20013' | prevHeadingCurrId :- '20011' | prevHeadingFoundId :- '20038'\n",
      "2021-06-19 00:28:05,566 : Heading Extraction Elocta_clean_SmPC.json_D : Match Passed | H | CAP |  el | 0 | Elocta_clean_SmPC.json | Doc txt :- 'Παιδιατρικός πληθυσμός' | Qrd txt :- 'Παιδιατρικός πληθυσμός' | Matched :- 'True'\n",
      "2021-06-19 00:28:05,581 : Heading Extraction Elocta_clean_SmPC.json_D : Validation Failed As Previous Heading Found is not matching | H | CAP |  el | 0 | Elocta_clean_SmPC.json | currHeadId :- '20019' | prevHeadingCurrId :- '20017' | prevHeadingFoundId :- '20038'\n",
      "2021-06-19 00:28:05,617 : Heading Extraction Elocta_clean_SmPC.json_D : Match Passed | H | CAP |  el | 0 | Elocta_clean_SmPC.json | Doc txt :- 'Παιδιατρικός πληθυσμός' | Qrd txt :- 'Παιδιατρικός πληθυσμός' | Matched :- 'True'\n",
      "2021-06-19 00:28:05,634 : Heading Extraction Elocta_clean_SmPC.json_D : Validation Failed As Previous Heading Found is not matching | H | CAP |  el | 0 | Elocta_clean_SmPC.json | currHeadId :- '20021' | prevHeadingCurrId :- '20020' | prevHeadingFoundId :- '20038'\n",
      "2021-06-19 00:28:05,695 : Heading Extraction Elocta_clean_SmPC.json_D : Match Passed | H | CAP |  el | 0 | Elocta_clean_SmPC.json | Doc txt :- 'Παιδιατρικός πληθυσμός' | Qrd txt :- 'Παιδιατρικός πληθυσμός' | Matched :- 'True'\n",
      "2021-06-19 00:28:05,710 : Heading Extraction Elocta_clean_SmPC.json_D : Validation Failed As Previous Heading Found is not matching | H | CAP |  el | 0 | Elocta_clean_SmPC.json | currHeadId :- '20028' | prevHeadingCurrId :- '20027' | prevHeadingFoundId :- '20038'\n",
      "2021-06-19 00:28:05,750 : Heading Extraction Elocta_clean_SmPC.json_D : Match Passed | H | CAP |  el | 0 | Elocta_clean_SmPC.json | Doc txt :- 'Παιδιατρικός πληθυσμός' | Qrd txt :- 'Παιδιατρικός πληθυσμός' | Matched :- 'True'\n",
      "2021-06-19 00:28:05,764 : Heading Extraction Elocta_clean_SmPC.json_D : Validation Failed As Previous Heading Found is not matching | H | CAP |  el | 0 | Elocta_clean_SmPC.json | currHeadId :- '20031' | prevHeadingCurrId :- '20030' | prevHeadingFoundId :- '20038'\n",
      "2021-06-19 00:28:05,838 : Heading Extraction Elocta_clean_SmPC.json_D : Match Passed | H | CAP |  el | 0 | Elocta_clean_SmPC.json | Doc txt :- 'Παιδιατρικός πληθυσμός' | Qrd txt :- 'Παιδιατρικός πληθυσμός' | Matched :- 'True'\n",
      "2021-06-19 00:28:05,859 : Heading Extraction Elocta_clean_SmPC.json_D : Validation Failed As Previous Heading Found is not matching | H | CAP |  el | 0 | Elocta_clean_SmPC.json | currHeadId :- '20037' | prevHeadingCurrId :- '20033' | prevHeadingFoundId :- '20038'\n",
      "2021-06-19 00:28:08,664 : Heading Extraction Elocta_clean_SmPC.json_D : Match Passed | H | CAP |  el | 0 | Elocta_clean_SmPC.json | Doc txt :- '5.3 Προκλινικά δεδομένα για την ασφάλεια' | Qrd txt :- '5.3 Προκλινικά δεδομένα για την ασφάλεια' | Matched :- 'True'\n"
     ]
    },
    {
     "name": "stderr",
     "output_type": "stream",
     "text": [
      "2021-06-19 00:28:08,679 : Heading Extraction Elocta_clean_SmPC.json_D : Validation Passed | H | CAP |  el | 0 | Elocta_clean_SmPC.json | currHeadId :- '20045' | prevHeadingCurrId :- '20038' | prevHeadingFoundId :- '20038'\n",
      "2021-06-19 00:28:09,317 : Heading Extraction Elocta_clean_SmPC.json_D : Match Passed | H | CAP |  el | 0 | Elocta_clean_SmPC.json | Doc txt :- '6. ΦΑΡΜΑΚΕΥΤΙΚΕΣ ΠΛΗΡΟΦΟΡΙΕΣ' | Qrd txt :- '6. ΦΑΡΜΑΚΕΥΤΙΚΕΣ ΠΛΗΡΟΦΟΡΙΕΣ' | Matched :- 'True'\n",
      "2021-06-19 00:28:09,333 : Heading Extraction Elocta_clean_SmPC.json_D : Validation Passed | H | CAP |  el | 0 | Elocta_clean_SmPC.json | currHeadId :- '20047' | prevHeadingCurrId :- '20045' | prevHeadingFoundId :- '20045'\n",
      "2021-06-19 00:28:09,946 : Heading Extraction Elocta_clean_SmPC.json_D : Match Passed | H | CAP |  el | 0 | Elocta_clean_SmPC.json | Doc txt :- '6.1 Κατάλογος εκδόχων' | Qrd txt :- '6.1 Κατάλογος εκδόχων' | Matched :- 'True'\n",
      "2021-06-19 00:28:09,963 : Heading Extraction Elocta_clean_SmPC.json_D : Validation Passed | H | CAP |  el | 0 | Elocta_clean_SmPC.json | currHeadId :- '20048' | prevHeadingCurrId :- '20047' | prevHeadingFoundId :- '20047'\n",
      "2021-06-19 00:28:17,290 : Heading Extraction Elocta_clean_SmPC.json_D : Match Passed | H | CAP |  el | 0 | Elocta_clean_SmPC.json | Doc txt :- '6.2 Ασυμβατότητες' | Qrd txt :- '6.2 Ασυμβατότητες' | Matched :- 'True'\n",
      "2021-06-19 00:28:17,308 : Heading Extraction Elocta_clean_SmPC.json_D : Validation Passed | H | CAP |  el | 0 | Elocta_clean_SmPC.json | currHeadId :- '20049' | prevHeadingCurrId :- '20048' | prevHeadingFoundId :- '20048'\n",
      "2021-06-19 00:28:19,244 : Heading Extraction Elocta_clean_SmPC.json_D : Match Passed | H | CAP |  el | 0 | Elocta_clean_SmPC.json | Doc txt :- '6.3 Διάρκεια ζωής' | Qrd txt :- '6.3 Διάρκεια ζωής' | Matched :- 'True'\n",
      "2021-06-19 00:28:19,263 : Heading Extraction Elocta_clean_SmPC.json_D : Validation Passed | H | CAP |  el | 0 | Elocta_clean_SmPC.json | currHeadId :- '20050' | prevHeadingCurrId :- '20049' | prevHeadingFoundId :- '20049'\n",
      "2021-06-19 00:28:22,094 : Heading Extraction Elocta_clean_SmPC.json_D : Match Passed | H | CAP |  el | 0 | Elocta_clean_SmPC.json | Doc txt :- '6.4 Ιδιαίτερες προφυλάξεις κατά τη φύλαξη του προϊόντος' | Qrd txt :- '6.4 Ιδιαίτερες προφυλάξεις κατά τη φύλαξη του προϊόντος' | Matched :- 'True'\n",
      "2021-06-19 00:28:22,108 : Heading Extraction Elocta_clean_SmPC.json_D : Validation Passed | H | CAP |  el | 0 | Elocta_clean_SmPC.json | currHeadId :- '20051' | prevHeadingCurrId :- '20050' | prevHeadingFoundId :- '20050'\n",
      "2021-06-19 00:28:24,636 : Heading Extraction Elocta_clean_SmPC.json_D : Match Passed : SpecialCase1|182.86|(45, 77, 86)|0.671| | H | CAP |  el | 0 | Elocta_clean_SmPC.json | Doc txt :- '6.5     Φύση και συστατικά του περιέκτη' | Qrd txt :- '6.5 Φύση και συστατικά του περιέκτη <και ειδικός εξοπλισμός για τη χρήση, τη χορήγηση ή την εμφύτευση>' | Matched :- 'True'\n",
      "2021-06-19 00:28:24,658 : Heading Extraction Elocta_clean_SmPC.json_D : Validation Passed | H | CAP |  el | 0 | Elocta_clean_SmPC.json | currHeadId :- '20052' | prevHeadingCurrId :- '20051' | prevHeadingFoundId :- '20051'\n",
      "2021-06-19 00:28:35,791 : Heading Extraction Elocta_clean_SmPC.json_D : Match Passed : SpecialCase2|11.54|(95, 90, 95)|0.978| | H | CAP |  el | 0 | Elocta_clean_SmPC.json | Doc txt :- '6.6     Ιδιαίτερες προφυλάξεις απόρριψης και άλλος χειρισμός' | Qrd txt :- '6.6 Ιδιαίτερες προφυλάξεις απόρριψης <και άλλος χειρισμός>' | Matched :- 'True'\n",
      "2021-06-19 00:28:35,806 : Heading Extraction Elocta_clean_SmPC.json_D : Validation Passed | H | CAP |  el | 0 | Elocta_clean_SmPC.json | currHeadId :- '20053' | prevHeadingCurrId :- '20052' | prevHeadingFoundId :- '20052'\n",
      "2021-06-19 00:28:44,709 : Heading Extraction Elocta_clean_SmPC.json_D : Match Passed | H | CAP |  el | 0 | Elocta_clean_SmPC.json | Doc txt :- '7. ΚΑΤΟΧΟΣ ΤΗΣ ΑΔΕΙΑΣ ΚΥΚΛΟΦΟΡΙΑΣ' | Qrd txt :- '7. ΚΑΤΟΧΟΣ ΤΗΣ ΑΔΕΙΑΣ ΚΥΚΛΟΦΟΡΙΑΣ' | Matched :- 'True'\n",
      "2021-06-19 00:28:44,722 : Heading Extraction Elocta_clean_SmPC.json_D : Validation Passed | H | CAP |  el | 0 | Elocta_clean_SmPC.json | currHeadId :- '20055' | prevHeadingCurrId :- '20053' | prevHeadingFoundId :- '20053'\n",
      "2021-06-19 00:28:47,363 : Heading Extraction Elocta_clean_SmPC.json_D : Match Passed | H | CAP |  el | 0 | Elocta_clean_SmPC.json | Doc txt :- '8. ΑΡΙΘΜΟΣ(ΟΙ) ΑΔΕΙΑΣ ΚΥΚΛΟΦΟΡΙΑΣ' | Qrd txt :- '8. ΑΡΙΘΜΟΣ(ΟΙ) ΑΔΕΙΑΣ ΚΥΚΛΟΦΟΡΙΑΣ' | Matched :- 'True'\n",
      "2021-06-19 00:28:47,376 : Heading Extraction Elocta_clean_SmPC.json_D : Validation Passed | H | CAP |  el | 0 | Elocta_clean_SmPC.json | currHeadId :- '20056' | prevHeadingCurrId :- '20055' | prevHeadingFoundId :- '20055'\n",
      "2021-06-19 00:28:52,693 : Heading Extraction Elocta_clean_SmPC.json_D : Match Passed | H | CAP |  el | 0 | Elocta_clean_SmPC.json | Doc txt :- '9. ΗΜΕΡΟΜΗΝΙΑ ΠΡΩΤΗΣ ΕΓΚΡΙΣΗΣ/ΑΝΑΝΕΩΣΗΣ ΤΗΣ ΑΔΕΙΑΣ' | Qrd txt :- '9. ΗΜΕΡΟΜΗΝΙΑ ΠΡΩΤΗΣ ΕΓΚΡΙΣΗΣ/ΑΝΑΝΕΩΣΗΣ ΤΗΣ ΑΔΕΙΑΣ' | Matched :- 'True'\n",
      "2021-06-19 00:28:52,705 : Heading Extraction Elocta_clean_SmPC.json_D : Validation Passed | H | CAP |  el | 0 | Elocta_clean_SmPC.json | currHeadId :- '20057' | prevHeadingCurrId :- '20056' | prevHeadingFoundId :- '20056'\n",
      "2021-06-19 00:28:55,920 : Heading Extraction Elocta_clean_SmPC.json_D : Match Passed | H | CAP |  el | 0 | Elocta_clean_SmPC.json | Doc txt :- '10. ΗΜΕΡΟΜΗΝΙΑ ΑΝΑΘΕΩΡΗΣΗΣ ΤΟΥ ΚΕΙΜΕΝΟΥ' | Qrd txt :- '10. ΗΜΕΡΟΜΗΝΙΑ ΑΝΑΘΕΩΡΗΣΗΣ ΤΟΥ ΚΕΙΜΕΝΟΥ' | Matched :- 'True'\n",
      "2021-06-19 00:28:55,936 : Heading Extraction Elocta_clean_SmPC.json_D : Validation Passed | H | CAP |  el | 0 | Elocta_clean_SmPC.json | currHeadId :- '20058' | prevHeadingCurrId :- '20057' | prevHeadingFoundId :- '20057'\n",
      "2021-06-19 00:28:56,893 : Flow Logger HTML_o : Completed Heading Extraction For File | H | CAP |  el | HTML | Elocta_clean.htm\n",
      "2021-06-19 00:28:56,896 : Flow Logger HTML_o : 0: Heading Extraction,2.3632 Min,5.529918 MB,17.304814 MB,53.9%\n",
      " | H | CAP |  el | HTML | Elocta_clean.htm\n",
      "2021-06-19 00:28:56,901 : Flow Logger HTML_o : Starting Document Annotation For File | H | CAP |  el | HTML | Elocta_clean.htm\n"
     ]
    },
    {
     "name": "stdout",
     "output_type": "stream",
     "text": [
      "\n",
      "\n",
      "Heading Not Found \n",
      " ['qΤο φάρμακο αυτό τελεί υπό συμπληρωματική παρακολούθηση. Αυτό θα επιτρέψει το γρήγορο προσδιορισμό νέων πληροφοριών ασφάλειας. Ζητείται από τους επαγγελματίες υγείας να αναφέρουν οποιεσδήποτε πιθανολογούμενες ανεπιθύμητες ενέργειες. Βλ. παράγραφο 4.8 για τον τρόπο αναφοράς ανεπιθύμητων ενεργειών.', 'Γενική περιγραφή', 'Ποιοτική και ποσοτική σύνθεση', 'Προφυλάξεις που πρέπει να ληφθούν πριν από τον χειρισμό ή τη χορήγηση του φαρμακευτικού προϊόντος', 'Κύηση', 'Θηλασμός', 'Γονιμότητα', 'Φαρμακοδυναμικές επιδράσεις', 'Απορρόφηση', 'Κατανομή', 'Βιομετασχηματισμός', 'Αποβολή', 'Γραμμικότητα/μη γραμμικότητα', 'Φαρμακοκινητικές/φαρμακοδυναμικές σχέσεις', 'Αξιολόγηση περιβαλλοντικού κινδύνου', 'Χρήση στον παιδιατρικό πληθυσμό', 'ΔΟΣΙΜΕΤΡΙΑ', 'ΟΔΗΓΙΕΣ ΠΑΡΑΣΚΕΥΗΣ ΡΑΔΙΟΦΑΡΜΑΚΩΝ']\n",
      "\n",
      "\n",
      "dict_keys([])\n",
      "Completed Heading Extraction For File\n",
      "Metrics : 0: Heading Extraction,2.3632 Min,5.529918 MB,17.304814 MB,53.9%\n",
      "\n",
      "Starting Document Annotation For File :- Elocta_clean_SmPC.json\n",
      "Warning: Multiple Authorization Token Found In The Document Elocta_clean_SmPC.json :- \n",
      " ['EU/1/15/1046/001', 'EU/1/15/1046/002', 'EU/1/15/1046/003', 'EU/1/15/1046/004', 'EU/1/15/1046/005', 'EU/1/15/1046/006', 'EU/1/15/1046/007', 'EU/1/15/1046/008']\n",
      "\n",
      "======================================  ['EU/1/15/1046/001', 'EU/1/15/1046/002', 'EU/1/15/1046/003', 'EU/1/15/1046/004', 'EU/1/15/1046/005', 'EU/1/15/1046/006', 'EU/1/15/1046/007', 'EU/1/15/1046/008']  =========================\n",
      "\n",
      "\n",
      "Found entry with code 220000000061\n",
      "Warning: Medicinal Product Definition Reference Missing for Authorization Identifier EU/1/15/1046/001\n",
      "Found Packaged Product Definition\n",
      "Missing Key 'holder' in entry key value pair\n",
      "processedOutputIndirect [(None, '1247631')]\n",
      "[None, '600000576406']\n",
      "Found entry with code 220000000061\n",
      "Warning: Medicinal Product Definition Reference Missing for Authorization Identifier EU/1/15/1046/002\n",
      "Found Packaged Product Definition\n",
      "Missing Key 'holder' in entry key value pair\n",
      "processedOutputIndirect [(None, '1247632')]\n",
      "[None, '600000576627']\n",
      "Found entry with code 220000000061\n",
      "Warning: Medicinal Product Definition Reference Missing for Authorization Identifier EU/1/15/1046/003\n",
      "Found Packaged Product Definition\n",
      "Missing Key 'holder' in entry key value pair\n",
      "processedOutputIndirect [(None, '1247635')]\n",
      "[None, '600000576628']\n",
      "Found entry with code 220000000061\n",
      "Warning: Medicinal Product Definition Reference Missing for Authorization Identifier EU/1/15/1046/004\n",
      "Found Packaged Product Definition\n",
      "Missing Key 'holder' in entry key value pair\n",
      "processedOutputIndirect [(None, '1247636')]\n",
      "[None, '600000576629']\n",
      "Missing Key 'entry' in the EU/1/15/1046/005 regulated authorization API output\n",
      "Found entry with code 220000000061\n",
      "Warning: Medicinal Product Definition Reference Missing for Authorization Identifier EU/1/15/1046/006\n",
      "Found Packaged Product Definition\n",
      "Missing Key 'holder' in entry key value pair\n",
      "processedOutputIndirect [(None, '1247638')]\n",
      "[None, '600000576646']\n",
      "Found entry with code 220000000061\n",
      "Warning: Medicinal Product Definition Reference Missing for Authorization Identifier EU/1/15/1046/007\n",
      "Found Packaged Product Definition\n",
      "Missing Key 'holder' in entry key value pair\n",
      "processedOutputIndirect [(None, '1247653')]\n",
      "[None, '600000575782']\n",
      "Found entry with code 220000000061\n",
      "Warning: Medicinal Product Definition Reference Missing for Authorization Identifier EU/1/15/1046/008\n",
      "Found Packaged Product Definition\n",
      "Missing Key 'holder' in entry key value pair\n",
      "processedOutputIndirect [(None, '1256640')]\n",
      "[None, '600000574371']\n"
     ]
    },
    {
     "name": "stderr",
     "output_type": "stream",
     "text": [
      "2021-06-19 00:29:16,213 : Flow Logger HTML_o : Completed Document Annotation | H | CAP |  el | HTML | Elocta_clean.htm\n",
      "2021-06-19 00:29:16,216 : Flow Logger HTML_o : 0: Document Annotation,0.3219 Min,0.329803 MB,0.491109 MB,53.9%\n",
      " | H | CAP |  el | HTML | Elocta_clean.htm\n",
      "2021-06-19 00:29:16,219 : Flow Logger HTML_o : Starting Extracting Content Between Heading | H | CAP |  el | HTML | Elocta_clean.htm\n",
      "2021-06-19 00:29:16,227 : ExtractContentBetween_0_l : Cleaning Match Results | H | CAP |  el | 0 | Elocta_clean_SmPC.json\n",
      "2021-06-19 00:29:16,244 : ExtractContentBetween_0_l : Finished Cleaning Match Results | H | CAP |  el | 0 | Elocta_clean_SmPC.json\n"
     ]
    },
    {
     "name": "stdout",
     "output_type": "stream",
     "text": [
      "{'Author Value': None, 'Medicinal Product Definitions': [('600000576406', 'ELOCTA 250 IU - Powder and solvent for solution for injection'), ('600000576627', 'ELOCTA 500 IU - Powder and solvent for solution for injection'), ('600000576628', 'ELOCTA 750 IU - Powder and solvent for solution for injection'), ('600000576629', 'ELOCTA 1000 IU - Powder and solvent for solution for injection'), ('600000576646', 'ELOCTA 2000 IU - Powder and solvent for solution for injection'), ('600000575782', 'ELOCTA 3000 IU - Powder and solvent for solution for injection'), ('600000574371', 'ELOCTA 4000 IU - Powder and solvent for solution for injection')]}\n",
      "Completed Document Annotation\n",
      "Metrics : 0: Document Annotation,0.3219 Min,0.329803 MB,0.491109 MB,53.9%\n",
      "\n",
      "Starting Extracting Content Between Heading For File :- Elocta_clean_SmPC.json\n",
      "File being processed: F:\\Projects\\EMA\\Repository\\EMA EPI PoC\\function_code\\work\\H\\CAP\\Elocta\\el\\2021-06-07T06-03-45Z\\partitionedJSONs\\Elocta_clean_SmPC.json\n",
      "--------------------------------------------\n"
     ]
    },
    {
     "name": "stderr",
     "output_type": "stream",
     "text": [
      "2021-06-19 00:29:16,577 : Flow Logger HTML_o : Completed Extracting Content Between Heading | H | CAP |  el | HTML | Elocta_clean.htm\n",
      "2021-06-19 00:29:16,581 : Flow Logger HTML_o : 0: Content Extraction,0.006 Min,2.017409 MB,17.312041 MB,53.9%\n",
      " | H | CAP |  el | HTML | Elocta_clean.htm\n",
      "2021-06-19 00:29:16,692 : XmlGeneration_0_1 : Initiating XML Generation | H | CAP |  el | 0 | Elocta_clean_SmPC.json\n"
     ]
    },
    {
     "name": "stdout",
     "output_type": "stream",
     "text": [
      "Completed Extracting Content Between Heading\n",
      "Metrics : 0: Content Extraction,0.006 Min,2.017409 MB,17.312041 MB,53.9%\n",
      "\n",
      "Already Exists\n"
     ]
    },
    {
     "name": "stderr",
     "output_type": "stream",
     "text": [
      "2021-06-19 00:29:17,420 : XmlGeneration_0_1 : Writing to File:Elocta_clean_SmPC.xml | H | CAP |  el | 0 | Elocta_clean_SmPC.json\n",
      "2021-06-19 00:29:17,437 : Flow Logger HTML_o : 0: Generate XML,0.0142 Min,3.188139 MB,10.043695 MB,54.0%\n",
      " | H | CAP |  el | HTML | Elocta_clean.htm\n"
     ]
    },
    {
     "name": "stdout",
     "output_type": "stream",
     "text": [
      "Metrics : 0: Generate XML,0.0142 Min,3.188139 MB,10.043695 MB,54.0%\n",
      "\n"
     ]
    },
    {
     "name": "stderr",
     "output_type": "stream",
     "text": [
      "2021-06-19 00:29:25,092 : XML Submission Logger_0_E : Initiating Submission To FHIR Server | H | CAP |  el | 0 | Elocta_clean_SmPC.json\n",
      "2021-06-19 00:29:25,097 : XML Submission Logger_0_E : Response{\"resourceType\":\"Bundle\",\"id\":\"b53846f0-bd96-4c6f-89cb-3b0c723d4416\",\"meta\":{\"versionId\":\"1\",\"lastUpdated\":\"2021-06-18T18:59:22.077+00:00\"},\"type\":\"collection\",\"entry\":[{\"fullUrl\":\"urn:uuid:ff641eb9-d68a-4ee9-9abd-53e052045f4b\",\"resource\":{\"resourceType\":\"Bundle\",\"id\":\"7fdc8511-fe9b-4985-a8fc-1dcc710d69b6\",\"identifier\":{\"system\":\"http://ema.europa.eu/fhir/identifier/documentid\",\"value\":\"7fdc8511-fe9b-4985-a8fc-1dcc710d69b6\"},\"type\":\"document\",\"timestamp\":\"2021-06-18T18:59:16+00:00\",\"entry\":[{\"fu | H | CAP |  el | 0 | Elocta_clean_SmPC.json\n",
      "2021-06-19 00:29:25,115 : XML Submission Logger_0_E : POST sucessful: XML added with id: b53846f0-bd96-4c6f-89cb-3b0c723d4416 | H | CAP |  el | 0 | Elocta_clean_SmPC.json\n",
      "2021-06-19 00:29:25,118 : Flow Logger HTML_o : 0: Submit FHIR Msg,0.1279 Min,0.258454 MB,4.444161 MB,54.0%\n",
      " | H | CAP |  el | HTML | Elocta_clean.htm\n",
      "2021-06-19 00:29:25,123 : Flow Logger HTML_o : Starting list bundle update/addition | H | CAP |  el | HTML | Elocta_clean.htm\n",
      "2021-06-19 00:29:25,133 : List Bundle Creation Logger_0_y : Extracted list bundle document type code this document 100000155532 | H | CAP |  el | 0 | Elocta_clean_SmPC.json\n",
      "2021-06-19 00:29:25,150 : List Bundle Creation Logger_0_y : Getting Existing List Bundle accross all MANs | H | CAP |  el | 0 | Elocta_clean_SmPC.json\n",
      "2021-06-19 00:29:25,153 : List Bundle Creation Logger_0_y : Getting list bundle for MAN EU/1/15/1046/001  | H | CAP |  el | 0 | Elocta_clean_SmPC.json\n"
     ]
    },
    {
     "name": "stdout",
     "output_type": "stream",
     "text": [
      "POST sucessful: XML added with id b53846f0-bd96-4c6f-89cb-3b0c723d4416\n",
      "Metrics : 0: Submit FHIR Msg,0.1279 Min,0.258454 MB,4.444161 MB,54.0%\n",
      "\n",
      "Created XML File For :- Elocta_clean_SmPC.json\n",
      "\n",
      "listRegulatedAuthCodesAccrossePI ['EU/1/15/1046/001', 'EU/1/15/1046/002', 'EU/1/15/1046/003', 'EU/1/15/1046/004', 'EU/1/15/1046/005', 'EU/1/15/1046/006', 'EU/1/15/1046/007', 'EU/1/15/1046/008']\n"
     ]
    },
    {
     "name": "stderr",
     "output_type": "stream",
     "text": [
      "2021-06-19 00:29:26,155 : List Bundle Creation Logger_0_y : Getting list bundle for MAN EU/1/15/1046/002  | H | CAP |  el | 0 | Elocta_clean_SmPC.json\n",
      "2021-06-19 00:29:27,048 : List Bundle Creation Logger_0_y : Getting list bundle for MAN EU/1/15/1046/003  | H | CAP |  el | 0 | Elocta_clean_SmPC.json\n",
      "2021-06-19 00:29:27,933 : List Bundle Creation Logger_0_y : Getting list bundle for MAN EU/1/15/1046/004  | H | CAP |  el | 0 | Elocta_clean_SmPC.json\n",
      "2021-06-19 00:29:29,094 : List Bundle Creation Logger_0_y : Getting list bundle for MAN EU/1/15/1046/005  | H | CAP |  el | 0 | Elocta_clean_SmPC.json\n",
      "2021-06-19 00:29:30,135 : List Bundle Creation Logger_0_y : Getting list bundle for MAN EU/1/15/1046/006  | H | CAP |  el | 0 | Elocta_clean_SmPC.json\n",
      "2021-06-19 00:29:31,111 : List Bundle Creation Logger_0_y : Getting list bundle for MAN EU/1/15/1046/007  | H | CAP |  el | 0 | Elocta_clean_SmPC.json\n",
      "2021-06-19 00:29:32,005 : List Bundle Creation Logger_0_y : Getting list bundle for MAN EU/1/15/1046/008  | H | CAP |  el | 0 | Elocta_clean_SmPC.json\n",
      "2021-06-19 00:29:32,962 : List Bundle Creation Logger_0_y : Getting Existing List Bundle using common list id 5829d349-155f-4f0a-ac97-6a29dd532996 | H | CAP |  el | 0 | Elocta_clean_SmPC.json\n",
      "2021-06-19 00:29:33,900 : List Bundle Creation Logger_0_y : Added missing MAN identifiers | H | CAP |  el | 0 | Elocta_clean_SmPC.json\n",
      "2021-06-19 00:29:33,903 : List Bundle Creation Logger_0_y : Updating existing item | H | CAP |  el | 0 | Elocta_clean_SmPC.json\n",
      "2021-06-19 00:29:33,913 : List Bundle Creation Logger_0_y : Converted to required XML format | H | CAP |  el | 0 | Elocta_clean_SmPC.json\n"
     ]
    },
    {
     "name": "stdout",
     "output_type": "stream",
     "text": [
      "b'<List xmlns=\"http://hl7.org/fhir\"><id value=\"5829d349-155f-4f0a-ac97-6a29dd532996\" /><identifier><system value=\"http://spor.ema.europa.eu/v2/medicine-name\" /><value value=\"elocta\" /></identifier><identifier><system value=\"http://spor.ema.europa.eu/v2/marketing-authorisation-numbers\" /><value value=\"EU/1/15/1046/001\" /></identifier><identifier><system value=\"http://spor.ema.europa.eu/v2/marketing-authorisation-numbers\" /><value value=\"EU/1/15/1046/002\" /></identifier><identifier><system value=\"http://spor.ema.europa.eu/v2/marketing-authorisation-numbers\" /><value value=\"EU/1/15/1046/003\" /></identifier><identifier><system value=\"http://spor.ema.europa.eu/v2/marketing-authorisation-numbers\" /><value value=\"EU/1/15/1046/004\" /></identifier><identifier><system value=\"http://spor.ema.europa.eu/v2/marketing-authorisation-numbers\" /><value value=\"EU/1/15/1046/005\" /></identifier><identifier><system value=\"http://spor.ema.europa.eu/v2/marketing-authorisation-numbers\" /><value value=\"EU/1/15/1046/006\" /></identifier><identifier><system value=\"http://spor.ema.europa.eu/v2/marketing-authorisation-numbers\" /><value value=\"EU/1/15/1046/007\" /></identifier><identifier><system value=\"http://spor.ema.europa.eu/v2/marketing-authorisation-numbers\" /><value value=\"EU/1/15/1046/008\" /></identifier><status value=\"current\" /><mode value=\"working\" /><code><coding><system value=\"http://spor.ema.europa.eu/v1/example-pi-list-types\" /><code value=\"00000021213\" /><display value=\"ePI Master List\" /></coding></code><subject><extension url=\"http://ema.europa.eu/fhir/extension/domain\"><valueCoding><system value=\"http://spor.ema.europa.eu/v1/100000000004\" /><code value=\"100000000012\" /><display value=\"H\" /></valueCoding></extension><extension url=\"http://ema.europa.eu/fhir/extension/medicine-name\"><valueCoding><system value=\"http://spor.ema.europa.eu/v1/100000000005\" /><code value=\"medicine-name-code\" /><display value=\"Elocta\" /></valueCoding></extension></subject><entry><item><extension url=\"http://ema.europa.eu/fhir/extension/documentType\"><valueCoding><system value=\"http://spor.ema.europa.eu/v1/100000155531\" /><code value=\"100000155532\" /><display value=\"SmPC\" /></valueCoding></extension><extension url=\"http://ema.europa.eu/fhir/extension/language\"><valueCoding><system value=\"http://spor.ema.europa.eu/v1/100000072057\" /><code value=\"100000072147\" /><display value=\"en\" /></valueCoding></extension><reference value=\"Bundle/ad19dc26-2ff8-48ac-bd59-492098c58635\" /></item></entry><entry><item><extension url=\"http://ema.europa.eu/fhir/extension/documentType\"><valueCoding><system value=\"http://spor.ema.europa.eu/v1/100000155531\" /><code value=\"100000155533\" /><display value=\"AnnexII\" /></valueCoding></extension><extension url=\"http://ema.europa.eu/fhir/extension/language\"><valueCoding><system value=\"http://spor.ema.europa.eu/v1/100000072057\" /><code value=\"100000072147\" /><display value=\"en\" /></valueCoding></extension><reference value=\"Bundle/ba8e4303-e75c-4b7f-93ad-a95cd147cd95\" /></item></entry><entry><item><extension url=\"http://ema.europa.eu/fhir/extension/documentType\"><valueCoding><system value=\"http://spor.ema.europa.eu/v1/100000155531\" /><code value=\"100000155535\" /><display value=\"Labelling\" /></valueCoding></extension><extension url=\"http://ema.europa.eu/fhir/extension/language\"><valueCoding><system value=\"http://spor.ema.europa.eu/v1/100000072057\" /><code value=\"100000072147\" /><display value=\"en\" /></valueCoding></extension><reference value=\"Bundle/2a9d5bae-20fd-4a9c-b2c7-921238f996d2\" /></item></entry><entry><item><extension url=\"http://ema.europa.eu/fhir/extension/documentType\"><valueCoding><system value=\"http://spor.ema.europa.eu/v1/100000155531\" /><code value=\"100000155538\" /><display value=\"Package leaflet\" /></valueCoding></extension><extension url=\"http://ema.europa.eu/fhir/extension/language\"><valueCoding><system value=\"http://spor.ema.europa.eu/v1/100000072057\" /><code value=\"100000072147\" /><display value=\"en\" /></valueCoding></extension><reference value=\"Bundle/606ba5ac-9f7f-4bdd-8086-45f6f045f8bd\" /></item></entry><entry><item><extension url=\"http://ema.europa.eu/fhir/extension/documentType\"><valueCoding><system value=\"http://spor.ema.europa.eu/v1/100000155531\" /><code value=\"100000155532\" /><display value=\"SmPC\" /></valueCoding></extension><extension url=\"http://ema.europa.eu/fhir/extension/language\"><valueCoding><system value=\"http://spor.ema.europa.eu/v1/100000072057\" /><code value=\"100000072178\" /><display value=\"de\" /></valueCoding></extension><reference value=\"Bundle/e5a3ee9e-30a1-4e81-96b7-20ea1f0cb553\" /></item></entry><entry><item><extension url=\"http://ema.europa.eu/fhir/extension/documentType\"><valueCoding><system value=\"http://spor.ema.europa.eu/v1/100000155531\" /><code value=\"100000155533\" /><display value=\"ANHANG II\" /></valueCoding></extension><extension url=\"http://ema.europa.eu/fhir/extension/language\"><valueCoding><system value=\"http://spor.ema.europa.eu/v1/100000072057\" /><code value=\"100000072178\" /><display value=\"de\" /></valueCoding></extension><reference value=\"Bundle/f57010ec-b436-4c2b-aabc-d82e1134f8f8\" /></item></entry><entry><item><extension url=\"http://ema.europa.eu/fhir/extension/documentType\"><valueCoding><system value=\"http://spor.ema.europa.eu/v1/100000155531\" /><code value=\"100000155535\" /><display value=\"Etikettierung\" /></valueCoding></extension><extension url=\"http://ema.europa.eu/fhir/extension/language\"><valueCoding><system value=\"http://spor.ema.europa.eu/v1/100000072057\" /><code value=\"100000072178\" /><display value=\"de\" /></valueCoding></extension><reference value=\"Bundle/a628833d-6896-49a3-ac37-1219c0430566\" /></item></entry><entry><item><extension url=\"http://ema.europa.eu/fhir/extension/documentType\"><valueCoding><system value=\"http://spor.ema.europa.eu/v1/100000155531\" /><code value=\"100000155538\" /><display value=\"Packungsbeilage\" /></valueCoding></extension><extension url=\"http://ema.europa.eu/fhir/extension/language\"><valueCoding><system value=\"http://spor.ema.europa.eu/v1/100000072057\" /><code value=\"100000072178\" /><display value=\"de\" /></valueCoding></extension><reference value=\"Bundle/00147511-5d0b-4b89-b6cc-660d18b2f173\" /></item></entry><entry><item><extension url=\"http://ema.europa.eu/fhir/extension/documentType\"><valueCoding><system value=\"http://spor.ema.europa.eu/v1/100000155531\" /><code value=\"100000155532\" /><display value=\"SmPC\" /></valueCoding></extension><extension url=\"http://ema.europa.eu/fhir/extension/language\"><valueCoding><system value=\"http://spor.ema.europa.eu/v1/100000072057\" /><code value=\"100000072142\" /><display value=\"bg\" /></valueCoding></extension><reference value=\"Bundle/3ca82c72-b5d3-49b9-9bc9-f00d237f8803\" /></item></entry><entry><item><extension url=\"http://ema.europa.eu/fhir/extension/documentType\"><valueCoding><system value=\"http://spor.ema.europa.eu/v1/100000155531\" /><code value=\"100000155533\" /><display value=\"AnnexII\" /></valueCoding></extension><extension url=\"http://ema.europa.eu/fhir/extension/language\"><valueCoding><system value=\"http://spor.ema.europa.eu/v1/100000072057\" /><code value=\"100000072142\" /><display value=\"bg\" /></valueCoding></extension><reference value=\"Bundle/6a69a4a1-bb78-4696-83f9-5451be6fab61\" /></item></entry><entry><item><extension url=\"http://ema.europa.eu/fhir/extension/documentType\"><valueCoding><system value=\"http://spor.ema.europa.eu/v1/100000155531\" /><code value=\"100000155535\" /><display value=\"Labelling\" /></valueCoding></extension><extension url=\"http://ema.europa.eu/fhir/extension/language\"><valueCoding><system value=\"http://spor.ema.europa.eu/v1/100000072057\" /><code value=\"100000072142\" /><display value=\"bg\" /></valueCoding></extension><reference value=\"Bundle/aa07919a-76ee-4221-b369-714b5374473a\" /></item></entry><entry><item><extension url=\"http://ema.europa.eu/fhir/extension/documentType\"><valueCoding><system value=\"http://spor.ema.europa.eu/v1/100000155531\" /><code value=\"100000155538\" /><display value=\"Package leaflet\" /></valueCoding></extension><extension url=\"http://ema.europa.eu/fhir/extension/language\"><valueCoding><system value=\"http://spor.ema.europa.eu/v1/100000072057\" /><code value=\"100000072142\" /><display value=\"bg\" /></valueCoding></extension><reference value=\"Bundle/1bc35de5-d0ab-453a-bba5-8fc99b177ec2\" /></item></entry><entry><item><extension url=\"http://ema.europa.eu/fhir/extension/documentType\"><valueCoding><system value=\"http://spor.ema.europa.eu/v1/100000155531\" /><code value=\"100000155532\" /><display value=\"SmPC\" /></valueCoding></extension><extension url=\"http://ema.europa.eu/fhir/extension/language\"><valueCoding><system value=\"http://spor.ema.europa.eu/v1/100000072057\" /><code value=\"100000072168\" /><display value=\"da\" /></valueCoding></extension><reference value=\"Bundle/d3de3932-2769-40ba-81f2-58f21d7d1b48\" /></item></entry><entry><item><extension url=\"http://ema.europa.eu/fhir/extension/documentType\"><valueCoding><system value=\"http://spor.ema.europa.eu/v1/100000155531\" /><code value=\"100000155533\" /><display value=\"BILAG II\" /></valueCoding></extension><extension url=\"http://ema.europa.eu/fhir/extension/language\"><valueCoding><system value=\"http://spor.ema.europa.eu/v1/100000072057\" /><code value=\"100000072168\" /><display value=\"da\" /></valueCoding></extension><reference value=\"Bundle/5720f50a-c605-4ab0-a63d-36f17eaf89f1\" /></item></entry><entry><item><extension url=\"http://ema.europa.eu/fhir/extension/documentType\"><valueCoding><system value=\"http://spor.ema.europa.eu/v1/100000155531\" /><code value=\"100000155532\" /><display value=\"SmPC\" /></valueCoding></extension><extension url=\"http://ema.europa.eu/fhir/extension/language\"><valueCoding><system value=\"http://spor.ema.europa.eu/v1/100000072057\" /><code value=\"100000072264\" /><display value=\"es\" /></valueCoding></extension><reference value=\"Bundle/b628a402-8685-42e9-bdb6-2c3db00e1eaa\" /></item></entry><entry><item><extension url=\"http://ema.europa.eu/fhir/extension/documentType\"><valueCoding><system value=\"http://spor.ema.europa.eu/v1/100000155531\" /><code value=\"100000155533\" /><display value=\"AnnexII\" /></valueCoding></extension><extension url=\"http://ema.europa.eu/fhir/extension/language\"><valueCoding><system value=\"http://spor.ema.europa.eu/v1/100000072057\" /><code value=\"100000072264\" /><display value=\"es\" /></valueCoding></extension><reference value=\"Bundle/238b78d8-de4a-44be-91d2-573da1a60f40\" /></item></entry><entry><item><extension url=\"http://ema.europa.eu/fhir/extension/documentType\"><valueCoding><system value=\"http://spor.ema.europa.eu/v1/100000155531\" /><code value=\"100000155535\" /><display value=\"Labelling\" /></valueCoding></extension><extension url=\"http://ema.europa.eu/fhir/extension/language\"><valueCoding><system value=\"http://spor.ema.europa.eu/v1/100000072057\" /><code value=\"100000072264\" /><display value=\"es\" /></valueCoding></extension><reference value=\"Bundle/5ce4eccf-445b-4139-b82d-5ec1e7dcf182\" /></item></entry><entry><item><extension url=\"http://ema.europa.eu/fhir/extension/documentType\"><valueCoding><system value=\"http://spor.ema.europa.eu/v1/100000155531\" /><code value=\"100000155538\" /><display value=\"Package leaflet\" /></valueCoding></extension><extension url=\"http://ema.europa.eu/fhir/extension/language\"><valueCoding><system value=\"http://spor.ema.europa.eu/v1/100000072057\" /><code value=\"100000072264\" /><display value=\"es\" /></valueCoding></extension><reference value=\"Bundle/dc638c61-b24b-4ab7-a046-ce8c3cd00524\" /></item></entry><entry><item><extension url=\"http://ema.europa.eu/fhir/extension/documentType\"><valueCoding><system value=\"http://spor.ema.europa.eu/v1/100000155531\" /><code value=\"100000155532\" /><display value=\"SmPC\" /></valueCoding></extension><extension url=\"http://ema.europa.eu/fhir/extension/language\"><valueCoding><system value=\"http://spor.ema.europa.eu/v1/100000072057\" /><code value=\"100000072181\" /><display value=\"el\" /></valueCoding></extension><reference value=\"Bundle/b53846f0-bd96-4c6f-89cb-3b0c723d4416\" /></item></entry><entry><item><extension url=\"http://ema.europa.eu/fhir/extension/documentType\"><valueCoding><system value=\"http://spor.ema.europa.eu/v1/100000155531\" /><code value=\"100000155533\" /><display value=\"\\xce\\xa0\\xce\\x91\\xce\\xa1\\xce\\x91\\xce\\xa1\\xce\\xa4\\xce\\x97\\xce\\x9c\\xce\\x91 \\xce\\x99\\xce\\x99\" /></valueCoding></extension><extension url=\"http://ema.europa.eu/fhir/extension/language\"><valueCoding><system value=\"http://spor.ema.europa.eu/v1/100000072057\" /><code value=\"100000072181\" /><display value=\"el\" /></valueCoding></extension><reference value=\"Bundle/887d4da8-f5b7-4231-b4e4-98f073a23a43\" /></item></entry><entry><item><extension url=\"http://ema.europa.eu/fhir/extension/documentType\"><valueCoding><system value=\"http://spor.ema.europa.eu/v1/100000155531\" /><code value=\"100000155535\" /><display value=\"\\xce\\x95\\xce\\xa0\\xce\\x99\\xce\\xa3\\xce\\x97\\xce\\x9c\\xce\\x91\\xce\\x9d\\xce\\xa3\\xce\\x97\" /></valueCoding></extension><extension url=\"http://ema.europa.eu/fhir/extension/language\"><valueCoding><system value=\"http://spor.ema.europa.eu/v1/100000072057\" /><code value=\"100000072181\" /><display value=\"el\" /></valueCoding></extension><reference value=\"Bundle/4e2d131d-5f7f-49ba-b4ae-1db697a62c85\" /></item></entry><entry><item><extension url=\"http://ema.europa.eu/fhir/extension/documentType\"><valueCoding><system value=\"http://spor.ema.europa.eu/v1/100000155531\" /><code value=\"100000155538\" /><display value=\"\\xce\\xa6\\xce\\xa5\\xce\\x9b\\xce\\x9b\\xce\\x9f \\xce\\x9f\\xce\\x94\\xce\\x97\\xce\\x93\\xce\\x99\\xce\\xa9\\xce\\x9d \\xce\\xa7\\xce\\xa1\\xce\\x97\\xce\\xa3\\xce\\x97\\xce\\xa3\" /></valueCoding></extension><extension url=\"http://ema.europa.eu/fhir/extension/language\"><valueCoding><system value=\"http://spor.ema.europa.eu/v1/100000072057\" /><code value=\"100000072181\" /><display value=\"el\" /></valueCoding></extension><reference value=\"Bundle/05d46b5a-eac1-4de3-845e-618baa9aaa6b\" /></item></entry></List>'\n",
      "Updating\n"
     ]
    },
    {
     "name": "stderr",
     "output_type": "stream",
     "text": [
      "2021-06-19 00:29:35,859 : List Bundle Creation Logger_0_y : List update successfully completed 5829d349-155f-4f0a-ac97-6a29dd532996 | H | CAP |  el | 0 | Elocta_clean_SmPC.json\n",
      "2021-06-19 00:29:35,862 : Flow Logger HTML_o : Completed list bundle update/addition | H | CAP |  el | HTML | Elocta_clean.htm\n",
      "2021-06-19 00:29:35,863 : Flow Logger HTML_o : 0: Update/Add List Bundle,0.179 Min,0.280772 MB,0.519002 MB,54.0%\n",
      " | H | CAP |  el | HTML | Elocta_clean.htm\n",
      "2021-06-19 00:29:35,867 : Flow Logger HTML_o : \n",
      "\n",
      "\n",
      "\n",
      "||||||||||||||||||||||||||||||||1 ||||| Elocta_clean_ΠΑΡΑΡΤΗΜΑ II.json||||||||||||||||||||||||||||||||\n",
      "\n",
      "\n",
      "\n",
      " | H | CAP |  el | HTML | Elocta_clean.htm\n",
      "2021-06-19 00:29:35,874 : Heading Extraction Elocta_clean_ΠΑΡΑΡΤΗΜΑ II.json_z : Starting Heading Extraction | H | CAP |  el | 1 | Elocta_clean_ΠΑΡΑΡΤΗΜΑ II.json\n"
     ]
    },
    {
     "name": "stdout",
     "output_type": "stream",
     "text": [
      "Metrics : 0: Update/Add List Bundle,0.179 Min,0.280772 MB,0.519002 MB,54.0%\n",
      "\n",
      "Index 1\n",
      "Starting Heading Extraction For File :- Elocta_clean_ΠΑΡΑΡΤΗΜΑ II.json\n",
      "File being processed: F:\\Projects\\EMA\\Repository\\EMA EPI PoC\\function_code\\work\\H\\CAP\\Elocta\\el\\2021-06-07T06-03-45Z\\partitionedJSONs\\Elocta_clean_ΠΑΡΑΡΤΗΜΑ II.json\n",
      "--------------------------------------------\n",
      "ΠΑΡΑΡΤΗΜΑ II\n"
     ]
    },
    {
     "name": "stderr",
     "output_type": "stream",
     "text": [
      "2021-06-19 00:29:36,182 : Heading Extraction Elocta_clean_ΠΑΡΑΡΤΗΜΑ II.json_z : Started Extracting Heading | H | CAP |  el | 1 | Elocta_clean_ΠΑΡΑΡΤΗΜΑ II.json\n",
      "2021-06-19 00:29:36,200 : Heading Extraction Elocta_clean_ΠΑΡΑΡΤΗΜΑ II.json_z : Match Passed : <=4|16.67|(83, 83, 83)|0.952| | H | CAP |  el | 1 | Elocta_clean_ΠΑΡΑΡΤΗΜΑ II.json | Doc txt :- 'ΠΑΡΑΡΤΗΜΑ ΙΙ' | Qrd txt :- 'ΠΑΡΑΡΤΗΜΑ II' | Matched :- 'True'\n",
      "2021-06-19 00:29:36,207 : Heading Extraction Elocta_clean_ΠΑΡΑΡΤΗΜΑ II.json_z : Validation Passed As This The First Heading | H | CAP |  el | 1 | Elocta_clean_ΠΑΡΑΡΤΗΜΑ II.json | currHeadId :- '21001' | prevHeadingCurrId :- '' | prevHeadingFoundId :- ''\n",
      "2021-06-19 00:29:36,294 : Heading Extraction Elocta_clean_ΠΑΡΑΡΤΗΜΑ II.json_z : Match Passed : Contains<>|35.48|(84, 77, 86)|0.873| | H | CAP |  el | 1 | Elocta_clean_ΠΑΡΑΡΤΗΜΑ II.json | Doc txt :- 'Α.        ΠΑΡΑΣΚΕΥΑΣΤΕΣ ΤΗΣ ΒΙΟΛΟΓΙΚΩΣ ΔΡΑΣΤΙΚΗΣ ΟΥΣΙΑΣ ΚΑΙ ΠΑΡΑΣΚΕΥΑΣΤΗΣ ΥΠΕΥΘΥΝΟΣ ΓΙΑ ΤΗΝ ΑΠΟΔΕΣΜΕΥΣΗ ΤΩΝ ΠΑΡΤΙΔΩΝ' | Qrd txt :- 'A. < ΠΑΡΑΣΚΕΥΑΣΤΗΣ(ΕΣ) ΤΗΣ(ΤΩΝ) ΒΙΟΛΟΓΙΚΩΣ ΔΡΑΣΤΙΚΗΣ(ΩΝ) ΟΥΣΙΑΣ(ΩΝ) ΚΑΙ> ΠΑΡΑΣΚΕΥΑΣΤΗΣ(ΕΣ) ΥΠΕΥΘΥΝΟΣ(ΟΙ) ΓΙΑ ΤΗΝ ΑΠΟΔΕΣΜΕΥΣΗ ΤΩΝ ΠΑΡΤΙΔΩΝ' | Matched :- 'True'\n",
      "2021-06-19 00:29:36,304 : Heading Extraction Elocta_clean_ΠΑΡΑΡΤΗΜΑ II.json_z : Validation Passed | H | CAP |  el | 1 | Elocta_clean_ΠΑΡΑΡΤΗΜΑ II.json | currHeadId :- '21002' | prevHeadingCurrId :- '21001' | prevHeadingFoundId :- '21001'\n",
      "2021-06-19 00:29:36,541 : Heading Extraction Elocta_clean_ΠΑΡΑΡΤΗΜΑ II.json_z : Match Passed : >7|2.04|(98, 98, 98)|0.993| | H | CAP |  el | 1 | Elocta_clean_ΠΑΡΑΡΤΗΜΑ II.json | Doc txt :- 'Β.        ΟΡΟΙ Ή ΠΕΡΙΟΡΙΣΜΟΙ ΣΧΕΤΙΚΑ ΜΕ ΤΗ ΔΙΑΘΕΣΗ ΚΑΙ ΤΗ ΧΡΗΣΗ' | Qrd txt :- 'B. ΟΡΟΙ Ή ΠΕΡΙΟΡΙΣΜΟΙ ΣΧΕΤΙΚΑ ΜΕ ΤΗ ΔΙΑΘΕΣΗ ΚΑΙ ΤΗ ΧΡΗΣΗ ' | Matched :- 'True'\n",
      "2021-06-19 00:29:36,554 : Heading Extraction Elocta_clean_ΠΑΡΑΡΤΗΜΑ II.json_z : Validation Flow Is Broken | H | CAP |  el | 1 | Elocta_clean_ΠΑΡΑΡΤΗΜΑ II.json | currHeadId :- '21005' | prevHeadingCurrId :- '' | prevHeadingFoundId :- '21002'\n",
      "2021-06-19 00:29:36,563 : Heading Extraction Elocta_clean_ΠΑΡΑΡΤΗΜΑ II.json_z : Validation Passed | H | CAP |  el | 1 | Elocta_clean_ΠΑΡΑΡΤΗΜΑ II.json | currHeadId :- '21005' | prevHeadingCurrId :- '21002' | prevHeadingFoundId :- '21002'\n"
     ]
    },
    {
     "name": "stdout",
     "output_type": "stream",
     "text": [
      "\n",
      "OriginalCheck\n",
      "\n",
      "\n",
      "OriginalCheck\n",
      "\n"
     ]
    },
    {
     "name": "stderr",
     "output_type": "stream",
     "text": [
      "2021-06-19 00:29:37,036 : Heading Extraction Elocta_clean_ΠΑΡΑΡΤΗΜΑ II.json_z : Match Passed : <=7|2.13|(98, 98, 98)|0.992| | H | CAP |  el | 1 | Elocta_clean_ΠΑΡΑΡΤΗΜΑ II.json | Doc txt :- 'Γ.         ΑΛΛΟΙ ΟΡΟΙ ΚΑΙ ΑΠΑΙΤΗΣΕΙΣ ΤΗΣ ΑΔΕΙΑΣ ΚΥΚΛΟΦΟΡΙΑΣ' | Qrd txt :- 'C. ΑΛΛΟΙ ΟΡΟΙ ΚΑΙ ΑΠΑΙΤΗΣΕΙΣ ΤΗΣ ΑΔΕΙΑΣ ΚΥΚΛΟΦΟΡΙΑΣ' | Matched :- 'True'\n",
      "2021-06-19 00:29:37,051 : Heading Extraction Elocta_clean_ΠΑΡΑΡΤΗΜΑ II.json_z : Validation Flow Is Broken | H | CAP |  el | 1 | Elocta_clean_ΠΑΡΑΡΤΗΜΑ II.json | currHeadId :- '21007' | prevHeadingCurrId :- '' | prevHeadingFoundId :- '21005'\n",
      "2021-06-19 00:29:37,062 : Heading Extraction Elocta_clean_ΠΑΡΑΡΤΗΜΑ II.json_z : Validation Passed | H | CAP |  el | 1 | Elocta_clean_ΠΑΡΑΡΤΗΜΑ II.json | currHeadId :- '21007' | prevHeadingCurrId :- '21005' | prevHeadingFoundId :- '21005'\n",
      "2021-06-19 00:29:37,427 : Heading Extraction Elocta_clean_ΠΑΡΑΡΤΗΜΑ II.json_z : Match Passed : >7|49.38|(65, 71, 86)|0.683| | H | CAP |  el | 1 | Elocta_clean_ΠΑΡΑΡΤΗΜΑ II.json | Doc txt :- 'Δ.         ΟΡΟΙ Ή ΠΕΡΙΟΡΙΣΜΟΙ ΣΧΕΤΙΚΑ ΜΕ ΤΗΝ ΑΣΦΑΛΗ ΚΑΙ ΑΠΟΤΕΛΕΣΜΑΤΙΚΗ ΧΡΗΣΗ ΤΟΥ ΦΑΡΜΑΚΕΥΤΙΚΟΥ ΠΡΟΪΟΝΤΟΣ' | Qrd txt :- 'B. ΟΡΟΙ Ή ΠΕΡΙΟΡΙΣΜΟΙ ΣΧΕΤΙΚΑ ΜΕ ΤΗ ΔΙΑΘΕΣΗ ΚΑΙ ΤΗ ΧΡΗΣΗ ' | Matched :- 'True'\n",
      "2021-06-19 00:29:37,440 : Heading Extraction Elocta_clean_ΠΑΡΑΡΤΗΜΑ II.json_z : Validation Failed As Wrong Heading Found | H | CAP |  el | 1 | Elocta_clean_ΠΑΡΑΡΤΗΜΑ II.json | currHeadId :- '21005' | prevHeadingCurrId :- '' | prevHeadingFoundId :- '21007'\n",
      "2021-06-19 00:29:37,693 : Heading Extraction Elocta_clean_ΠΑΡΑΡΤΗΜΑ II.json_z : Match Passed : >7|1.23|(99, 99, 99)|0.996| | H | CAP |  el | 1 | Elocta_clean_ΠΑΡΑΡΤΗΜΑ II.json | Doc txt :- 'Δ.         ΟΡΟΙ Ή ΠΕΡΙΟΡΙΣΜΟΙ ΣΧΕΤΙΚΑ ΜΕ ΤΗΝ ΑΣΦΑΛΗ ΚΑΙ ΑΠΟΤΕΛΕΣΜΑΤΙΚΗ ΧΡΗΣΗ ΤΟΥ ΦΑΡΜΑΚΕΥΤΙΚΟΥ ΠΡΟΪΟΝΤΟΣ' | Qrd txt :- 'D. ΟΡΟΙ Ή ΠΕΡΙΟΡΙΣΜΟΙ ΣΧΕΤΙΚΑ ΜΕ ΤΗΝ ΑΣΦΑΛΗ ΚΑΙ ΑΠΟΤΕΛΕΣΜΑΤΙΚΗ ΧΡΗΣΗ ΤΟΥ ΦΑΡΜΑΚΕΥΤΙΚΟΥ ΠΡΟΪΟΝΤΟΣ' | Matched :- 'True'\n",
      "2021-06-19 00:29:37,708 : Heading Extraction Elocta_clean_ΠΑΡΑΡΤΗΜΑ II.json_z : Validation Flow Is Broken | H | CAP |  el | 1 | Elocta_clean_ΠΑΡΑΡΤΗΜΑ II.json | currHeadId :- '21009' | prevHeadingCurrId :- '' | prevHeadingFoundId :- '21007'\n"
     ]
    },
    {
     "name": "stdout",
     "output_type": "stream",
     "text": [
      "\n",
      "OriginalCheck\n",
      "\n"
     ]
    },
    {
     "name": "stderr",
     "output_type": "stream",
     "text": [
      "2021-06-19 00:29:37,716 : Heading Extraction Elocta_clean_ΠΑΡΑΡΤΗΜΑ II.json_z : Validation Passed | H | CAP |  el | 1 | Elocta_clean_ΠΑΡΑΡΤΗΜΑ II.json | currHeadId :- '21009' | prevHeadingCurrId :- '21007' | prevHeadingFoundId :- '21007'\n",
      "2021-06-19 00:29:37,825 : Heading Extraction Elocta_clean_ΠΑΡΑΡΤΗΜΑ II.json_z : Match Passed : Contains<>|35.48|(84, 77, 86)|0.873| | H | CAP |  el | 1 | Elocta_clean_ΠΑΡΑΡΤΗΜΑ II.json | Doc txt :- 'Α.      ΠΑΡΑΣΚΕΥΑΣΤΕΣ ΤΗΣ ΒΙΟΛΟΓΙΚΩΣ ΔΡΑΣΤΙΚΗΣ ΟΥΣΙΑΣ ΚΑΙ ΠΑΡΑΣΚΕΥΑΣΤΗΣ ΥΠΕΥΘΥΝΟΣ ΓΙΑ ΤΗΝ ΑΠΟΔΕΣΜΕΥΣΗ ΤΩΝ ΠΑΡΤΙΔΩΝ' | Qrd txt :- 'A. < ΠΑΡΑΣΚΕΥΑΣΤΗΣ(ΕΣ) ΤΗΣ(ΤΩΝ) ΒΙΟΛΟΓΙΚΩΣ ΔΡΑΣΤΙΚΗΣ(ΩΝ) ΟΥΣΙΑΣ(ΩΝ) ΚΑΙ> ΠΑΡΑΣΚΕΥΑΣΤΗΣ(ΕΣ) ΥΠΕΥΘΥΝΟΣ(ΟΙ) ΓΙΑ ΤΗΝ ΑΠΟΔΕΣΜΕΥΣΗ ΤΩΝ ΠΑΡΤΙΔΩΝ' | Matched :- 'True'\n",
      "2021-06-19 00:29:37,839 : Heading Extraction Elocta_clean_ΠΑΡΑΡΤΗΜΑ II.json_z : Validation Failed As Previous Heading Found is not matching | H | CAP |  el | 1 | Elocta_clean_ΠΑΡΑΡΤΗΜΑ II.json | currHeadId :- '21002' | prevHeadingCurrId :- '21001' | prevHeadingFoundId :- '21009'\n"
     ]
    },
    {
     "name": "stdout",
     "output_type": "stream",
     "text": [
      "\n",
      "OriginalCheck\n",
      "\n"
     ]
    },
    {
     "name": "stderr",
     "output_type": "stream",
     "text": [
      "2021-06-19 00:29:38,732 : Heading Extraction Elocta_clean_ΠΑΡΑΡΤΗΜΑ II.json_z : End Of Sub Section | H | CAP |  el | 1 | Elocta_clean_ΠΑΡΑΡΤΗΜΑ II.json\n",
      "2021-06-19 00:29:38,840 : Heading Extraction Elocta_clean_ΠΑΡΑΡΤΗΜΑ II.json_z : Match Passed : Contains<>|35.48|(84, 77, 86)|0.873| | H | CAP |  el | 1 | Elocta_clean_ΠΑΡΑΡΤΗΜΑ II.json | Doc txt :- 'Α.      ΠΑΡΑΣΚΕΥΑΣΤΕΣ ΤΗΣ ΒΙΟΛΟΓΙΚΩΣ ΔΡΑΣΤΙΚΗΣ ΟΥΣΙΑΣ ΚΑΙ ΠΑΡΑΣΚΕΥΑΣΤΗΣ ΥΠΕΥΘΥΝΟΣ ΓΙΑ ΤΗΝ ΑΠΟΔΕΣΜΕΥΣΗ ΤΩΝ ΠΑΡΤΙΔΩΝ' | Qrd txt :- 'A. < ΠΑΡΑΣΚΕΥΑΣΤΗΣ(ΕΣ) ΤΗΣ(ΤΩΝ) ΒΙΟΛΟΓΙΚΩΣ ΔΡΑΣΤΙΚΗΣ(ΩΝ) ΟΥΣΙΑΣ(ΩΝ) ΚΑΙ> ΠΑΡΑΣΚΕΥΑΣΤΗΣ(ΕΣ) ΥΠΕΥΘΥΝΟΣ(ΟΙ) ΓΙΑ ΤΗΝ ΑΠΟΔΕΣΜΕΥΣΗ ΤΩΝ ΠΑΡΤΙΔΩΝ' | Matched :- 'True'\n",
      "2021-06-19 00:29:38,850 : Heading Extraction Elocta_clean_ΠΑΡΑΡΤΗΜΑ II.json_z : Validation Passed As This The First Heading | H | CAP |  el | 1 | Elocta_clean_ΠΑΡΑΡΤΗΜΑ II.json | currHeadId :- '21002' | prevHeadingCurrId :- '' | prevHeadingFoundId :- ''\n"
     ]
    },
    {
     "name": "stdout",
     "output_type": "stream",
     "text": [
      "oooooooooooooooooooooooooooooooooooooooo END OF Sub Section oooooooooooooooooooooooooooooooooooooooooooooooooooooooooooo\n"
     ]
    },
    {
     "name": "stderr",
     "output_type": "stream",
     "text": [
      "2021-06-19 00:29:39,111 : Heading Extraction Elocta_clean_ΠΑΡΑΡΤΗΜΑ II.json_z : Match Passed : >7|40.98|(83, 77, 87)|0.925| | H | CAP |  el | 1 | Elocta_clean_ΠΑΡΑΡΤΗΜΑ II.json | Doc txt :- 'Όνομα και διεύθυνση των παρασκευαστών της βιολογικώς δραστικής ουσίας' | Qrd txt :- 'Όνομα και διεύθυνση του(των) παρασκευαστή(ών) της(των) βιολογικώς δραστικής(ών) ουσίας(ών)' | Matched :- 'True'\n",
      "2021-06-19 00:29:39,126 : Heading Extraction Elocta_clean_ΠΑΡΑΡΤΗΜΑ II.json_z : Validation Passed | H | CAP |  el | 1 | Elocta_clean_ΠΑΡΑΡΤΗΜΑ II.json | currHeadId :- '21003' | prevHeadingCurrId :- '21002' | prevHeadingFoundId :- '21002'\n"
     ]
    },
    {
     "name": "stdout",
     "output_type": "stream",
     "text": [
      "\n",
      "OriginalCheck\n",
      "\n"
     ]
    },
    {
     "name": "stderr",
     "output_type": "stream",
     "text": [
      "2021-06-19 00:29:40,935 : Heading Extraction Elocta_clean_ΠΑΡΑΡΤΗΜΑ II.json_z : Match Passed : >7|26.15|(88, 78, 95)|0.936| | H | CAP |  el | 1 | Elocta_clean_ΠΑΡΑΡΤΗΜΑ II.json | Doc txt :- 'Όνομα και διεύθυνση του παρασκευαστή που είναι υπεύθυνος για την αποδέσμευση των παρτίδων' | Qrd txt :- 'Όνομα και διεύθυνση του(των) παρασκευαστή(ών) που είναι υπεύθυνος(οι) για την αποδέσμευση των παρτίδων' | Matched :- 'True'\n",
      "2021-06-19 00:29:40,956 : Heading Extraction Elocta_clean_ΠΑΡΑΡΤΗΜΑ II.json_z : Validation Passed | H | CAP |  el | 1 | Elocta_clean_ΠΑΡΑΡΤΗΜΑ II.json | currHeadId :- '21004' | prevHeadingCurrId :- '21003' | prevHeadingFoundId :- '21003'\n",
      "2021-06-19 00:29:42,154 : Heading Extraction Elocta_clean_ΠΑΡΑΡΤΗΜΑ II.json_z : Match Passed : >7|2.04|(98, 98, 98)|0.993| | H | CAP |  el | 1 | Elocta_clean_ΠΑΡΑΡΤΗΜΑ II.json | Doc txt :- 'Β.      ΟΡΟΙ Ή ΠΕΡΙΟΡΙΣΜΟΙ ΣΧΕΤΙΚΑ ΜΕ ΤΗ ΔΙΑΘΕΣΗ ΚΑΙ ΤΗ ΧΡΗΣΗ ' | Qrd txt :- 'B. ΟΡΟΙ Ή ΠΕΡΙΟΡΙΣΜΟΙ ΣΧΕΤΙΚΑ ΜΕ ΤΗ ΔΙΑΘΕΣΗ ΚΑΙ ΤΗ ΧΡΗΣΗ ' | Matched :- 'True'\n",
      "2021-06-19 00:29:42,170 : Heading Extraction Elocta_clean_ΠΑΡΑΡΤΗΜΑ II.json_z : Validation Passed | H | CAP |  el | 1 | Elocta_clean_ΠΑΡΑΡΤΗΜΑ II.json | currHeadId :- '21005' | prevHeadingCurrId :- '21004' | prevHeadingFoundId :- '21004'\n"
     ]
    },
    {
     "name": "stdout",
     "output_type": "stream",
     "text": [
      "\n",
      "OriginalCheck\n",
      "\n",
      "\n",
      "OriginalCheck\n",
      "\n"
     ]
    },
    {
     "name": "stderr",
     "output_type": "stream",
     "text": [
      "2021-06-19 00:29:43,730 : Heading Extraction Elocta_clean_ΠΑΡΑΡΤΗΜΑ II.json_z : Match Passed : <=7|2.13|(98, 98, 98)|0.992| | H | CAP |  el | 1 | Elocta_clean_ΠΑΡΑΡΤΗΜΑ II.json | Doc txt :- 'Γ.      ΑΛΛΟΙ ΟΡΟΙ ΚΑΙ ΑΠΑΙΤΗΣΕΙΣ ΤΗΣ ΑΔΕΙΑΣ ΚΥΚΛΟΦΟΡΙΑΣ' | Qrd txt :- 'C. ΑΛΛΟΙ ΟΡΟΙ ΚΑΙ ΑΠΑΙΤΗΣΕΙΣ ΤΗΣ ΑΔΕΙΑΣ ΚΥΚΛΟΦΟΡΙΑΣ' | Matched :- 'True'\n",
      "2021-06-19 00:29:43,751 : Heading Extraction Elocta_clean_ΠΑΡΑΡΤΗΜΑ II.json_z : Validation Flow Is Broken | H | CAP |  el | 1 | Elocta_clean_ΠΑΡΑΡΤΗΜΑ II.json | currHeadId :- '21007' | prevHeadingCurrId :- '' | prevHeadingFoundId :- '21005'\n",
      "2021-06-19 00:29:43,761 : Heading Extraction Elocta_clean_ΠΑΡΑΡΤΗΜΑ II.json_z : Validation Passed | H | CAP |  el | 1 | Elocta_clean_ΠΑΡΑΡΤΗΜΑ II.json | currHeadId :- '21007' | prevHeadingCurrId :- '21005' | prevHeadingFoundId :- '21005'\n"
     ]
    },
    {
     "name": "stdout",
     "output_type": "stream",
     "text": [
      "\n",
      "OriginalCheck\n",
      "\n",
      "\n",
      "OriginalCheck\n",
      "\n"
     ]
    },
    {
     "name": "stderr",
     "output_type": "stream",
     "text": [
      "2021-06-19 00:29:44,369 : Heading Extraction Elocta_clean_ΠΑΡΑΡΤΗΜΑ II.json_z : Match Passed : <=7|1.75|(99, 100, 100)|0.997| | H | CAP |  el | 1 | Elocta_clean_ΠΑΡΑΡΤΗΜΑ II.json | Doc txt :- '·Εκθέσεις περιοδικής παρακολούθησης της ασφάλειας (PSURs)' | Qrd txt :- 'Εκθέσεις περιοδικής παρακολούθησης της ασφάλειας (PSURs)' | Matched :- 'True'\n",
      "2021-06-19 00:29:44,384 : Heading Extraction Elocta_clean_ΠΑΡΑΡΤΗΜΑ II.json_z : Validation Passed | H | CAP |  el | 1 | Elocta_clean_ΠΑΡΑΡΤΗΜΑ II.json | currHeadId :- '21008' | prevHeadingCurrId :- '21007' | prevHeadingFoundId :- '21007'\n",
      "2021-06-19 00:29:44,771 : Heading Extraction Elocta_clean_ΠΑΡΑΡΤΗΜΑ II.json_z : Match Passed : >7|49.38|(65, 71, 86)|0.683| | H | CAP |  el | 1 | Elocta_clean_ΠΑΡΑΡΤΗΜΑ II.json | Doc txt :- 'Δ.      ΟΡΟΙ Ή ΠΕΡΙΟΡΙΣΜΟΙ ΣΧΕΤΙΚΑ ΜΕ ΤΗΝ ΑΣΦΑΛΗ ΚΑΙ ΑΠΟΤΕΛΕΣΜΑΤΙΚΗ ΧΡΗΣΗ ΤΟΥ ΦΑΡΜΑΚΕΥΤΙΚΟΥ ΠΡΟΪΟΝΤΟΣ' | Qrd txt :- 'B. ΟΡΟΙ Ή ΠΕΡΙΟΡΙΣΜΟΙ ΣΧΕΤΙΚΑ ΜΕ ΤΗ ΔΙΑΘΕΣΗ ΚΑΙ ΤΗ ΧΡΗΣΗ ' | Matched :- 'True'\n",
      "2021-06-19 00:29:44,788 : Heading Extraction Elocta_clean_ΠΑΡΑΡΤΗΜΑ II.json_z : Validation Failed As Previous Heading Found is not matching | H | CAP |  el | 1 | Elocta_clean_ΠΑΡΑΡΤΗΜΑ II.json | currHeadId :- '21005' | prevHeadingCurrId :- '21004' | prevHeadingFoundId :- '21008'\n",
      "2021-06-19 00:29:45,046 : Heading Extraction Elocta_clean_ΠΑΡΑΡΤΗΜΑ II.json_z : Match Passed : >7|1.23|(99, 99, 99)|0.996| | H | CAP |  el | 1 | Elocta_clean_ΠΑΡΑΡΤΗΜΑ II.json | Doc txt :- 'Δ.      ΟΡΟΙ Ή ΠΕΡΙΟΡΙΣΜΟΙ ΣΧΕΤΙΚΑ ΜΕ ΤΗΝ ΑΣΦΑΛΗ ΚΑΙ ΑΠΟΤΕΛΕΣΜΑΤΙΚΗ ΧΡΗΣΗ ΤΟΥ ΦΑΡΜΑΚΕΥΤΙΚΟΥ ΠΡΟΪΟΝΤΟΣ' | Qrd txt :- 'D. ΟΡΟΙ Ή ΠΕΡΙΟΡΙΣΜΟΙ ΣΧΕΤΙΚΑ ΜΕ ΤΗΝ ΑΣΦΑΛΗ ΚΑΙ ΑΠΟΤΕΛΕΣΜΑΤΙΚΗ ΧΡΗΣΗ ΤΟΥ ΦΑΡΜΑΚΕΥΤΙΚΟΥ ΠΡΟΪΟΝΤΟΣ' | Matched :- 'True'\n",
      "2021-06-19 00:29:45,061 : Heading Extraction Elocta_clean_ΠΑΡΑΡΤΗΜΑ II.json_z : Validation Passed | H | CAP |  el | 1 | Elocta_clean_ΠΑΡΑΡΤΗΜΑ II.json | currHeadId :- '21009' | prevHeadingCurrId :- '21008' | prevHeadingFoundId :- '21008'\n"
     ]
    },
    {
     "name": "stdout",
     "output_type": "stream",
     "text": [
      "\n",
      "OriginalCheck\n",
      "\n"
     ]
    },
    {
     "name": "stderr",
     "output_type": "stream",
     "text": [
      "2021-06-19 00:29:45,452 : Heading Extraction Elocta_clean_ΠΑΡΑΡΤΗΜΑ II.json_z : Match Passed : <=4|2.94|(99, 100, 100)|0.995| | H | CAP |  el | 1 | Elocta_clean_ΠΑΡΑΡΤΗΜΑ II.json | Doc txt :- '·Σχέδιο διαχείρισης κινδύνου (ΣΔΚ)' | Qrd txt :- 'Σχέδιο διαχείρισης κινδύνου (ΣΔΚ)' | Matched :- 'True'\n",
      "2021-06-19 00:29:45,468 : Heading Extraction Elocta_clean_ΠΑΡΑΡΤΗΜΑ II.json_z : Validation Passed | H | CAP |  el | 1 | Elocta_clean_ΠΑΡΑΡΤΗΜΑ II.json | currHeadId :- '21010' | prevHeadingCurrId :- '21009' | prevHeadingFoundId :- '21009'\n",
      "2021-06-19 00:29:46,647 : Heading Extraction Elocta_clean_ΠΑΡΑΡΤΗΜΑ II.json_z : Match Passed : <=4|7.69|(96, 100, 96)|0.99| | H | CAP |  el | 1 | Elocta_clean_ΠΑΡΑΡΤΗΜΑ II.json | Doc txt :- 'ΠΑΡΑΡΤΗΜΑ III' | Qrd txt :- 'ΠΑΡΑΡΤΗΜΑ II' | Matched :- 'True'\n",
      "2021-06-19 00:29:46,665 : Heading Extraction Elocta_clean_ΠΑΡΑΡΤΗΜΑ II.json_z : Validation Failed As Wrong Heading Found | H | CAP |  el | 1 | Elocta_clean_ΠΑΡΑΡΤΗΜΑ II.json | currHeadId :- '21001' | prevHeadingCurrId :- '' | prevHeadingFoundId :- '21010'\n",
      "2021-06-19 00:29:46,850 : Heading Extraction Elocta_clean_ΠΑΡΑΡΤΗΜΑ II.json_z : End Of Sub Section | H | CAP |  el | 1 | Elocta_clean_ΠΑΡΑΡΤΗΜΑ II.json\n",
      "2021-06-19 00:29:46,861 : Heading Extraction Elocta_clean_ΠΑΡΑΡΤΗΜΑ II.json_z : Match Passed : <=4|7.69|(96, 100, 96)|0.99| | H | CAP |  el | 1 | Elocta_clean_ΠΑΡΑΡΤΗΜΑ II.json | Doc txt :- 'ΠΑΡΑΡΤΗΜΑ III' | Qrd txt :- 'ΠΑΡΑΡΤΗΜΑ II' | Matched :- 'True'\n",
      "2021-06-19 00:29:46,871 : Heading Extraction Elocta_clean_ΠΑΡΑΡΤΗΜΑ II.json_z : Validation Passed As This The First Heading | H | CAP |  el | 1 | Elocta_clean_ΠΑΡΑΡΤΗΜΑ II.json | currHeadId :- '21001' | prevHeadingCurrId :- '' | prevHeadingFoundId :- ''\n"
     ]
    },
    {
     "name": "stdout",
     "output_type": "stream",
     "text": [
      "oooooooooooooooooooooooooooooooooooooooo END OF Sub Section oooooooooooooooooooooooooooooooooooooooooooooooooooooooooooo\n",
      "\n",
      "OriginalCheck\n",
      "\n"
     ]
    },
    {
     "name": "stderr",
     "output_type": "stream",
     "text": [
      "2021-06-19 00:29:47,449 : Flow Logger HTML_o : Completed Heading Extraction For File | H | CAP |  el | HTML | Elocta_clean.htm\n",
      "2021-06-19 00:29:47,451 : Flow Logger HTML_o : 1: Heading Extraction,0.1931 Min,0.406761 MB,2.895834 MB,53.8%\n",
      " | H | CAP |  el | HTML | Elocta_clean.htm\n",
      "2021-06-19 00:29:47,459 : Flow Logger HTML_o : Starting Document Annotation For File | H | CAP |  el | HTML | Elocta_clean.htm\n",
      "2021-06-19 00:29:47,485 : Flow Logger HTML_o : Completed Document Annotation | H | CAP |  el | HTML | Elocta_clean.htm\n",
      "2021-06-19 00:29:47,490 : Flow Logger HTML_o : 1: Document Annotation,0.0005 Min,0.154129 MB,0.165918 MB,53.8%\n",
      " | H | CAP |  el | HTML | Elocta_clean.htm\n",
      "2021-06-19 00:29:47,493 : Flow Logger HTML_o : Starting Extracting Content Between Heading | H | CAP |  el | HTML | Elocta_clean.htm\n",
      "2021-06-19 00:29:47,502 : ExtractContentBetween_1_e : Cleaning Match Results | H | CAP |  el | 1 | Elocta_clean_ΠΑΡΑΡΤΗΜΑ II.json\n",
      "2021-06-19 00:29:47,502 : ExtractContentBetween_1_e : Cleaning Match Results | H | CAP |  el | 1 | Elocta_clean_ΠΑΡΑΡΤΗΜΑ II.json\n",
      "2021-06-19 00:29:47,518 : ExtractContentBetween_1_e : Finished Cleaning Match Results | H | CAP |  el | 1 | Elocta_clean_ΠΑΡΑΡΤΗΜΑ II.json\n",
      "2021-06-19 00:29:47,518 : ExtractContentBetween_1_e : Finished Cleaning Match Results | H | CAP |  el | 1 | Elocta_clean_ΠΑΡΑΡΤΗΜΑ II.json\n",
      "2021-06-19 00:29:47,571 : Flow Logger HTML_o : Completed Extracting Content Between Heading | H | CAP |  el | HTML | Elocta_clean.htm\n",
      "2021-06-19 00:29:47,576 : Flow Logger HTML_o : 1: Content Extraction,0.0014 Min,0.278713 MB,0.593301 MB,53.8%\n",
      " | H | CAP |  el | HTML | Elocta_clean.htm\n",
      "2021-06-19 00:29:47,644 : XmlGeneration_1_s : PMS/OMS Annotation Information Not Retrieved | H | CAP |  el | 1 | Elocta_clean_ΠΑΡΑΡΤΗΜΑ II.json\n"
     ]
    },
    {
     "name": "stdout",
     "output_type": "stream",
     "text": [
      "\n",
      "\n",
      "Heading Not Found \n",
      " ['Επίσημη αποδέσμευση παρτίδων', 'Επιπρόσθετα μέτρα ελαχιστοποίησης κινδύνου', 'Υποχρέωση λήψης μετεγκριτικών μέτρων ', 'ΕΙΔΙΚΗ ΥΠΟΧΡΕΩΣΗ ΟΛΟΚΛΗΡΩΣΗΣ ΜΕΤΕΓΚΡΙΤΙΚΩΝ ΜΕΤΡΩΝ ΓΙΑ <ΤΗΝ ΑΔΕΙΑ ΚΥΚΛΟΦΟΡΙΑΣ ΜΕ ΕΓΚΡΙΣΗ ΥΠΟ ΟΡΟΥΣ> <ΤΗΝ ΑΔΕΙΑ ΚΥΚΛΟΦΟΡΙΑΣ ΥΠΟ ΕΞΑΙΡΕΤΙΚΕΣ ΠΕΡΙΣΤΑΣΕΙΣ>']\n",
      "\n",
      "\n",
      "dict_keys([])\n",
      "Completed Heading Extraction For File\n",
      "Metrics : 1: Heading Extraction,0.1931 Min,0.406761 MB,2.895834 MB,53.8%\n",
      "\n",
      "Starting Document Annotation For File :- Elocta_clean_ΠΑΡΑΡΤΗΜΑ II.json\n",
      "Error Found No Authorization Code Found In The Document Elocta_clean_ΠΑΡΑΡΤΗΜΑ II.json\n",
      "Completed Document Annotation\n",
      "Metrics : 1: Document Annotation,0.0005 Min,0.154129 MB,0.165918 MB,53.8%\n",
      "\n",
      "Starting Extracting Content Between Heading For File :- Elocta_clean_ΠΑΡΑΡΤΗΜΑ II.json\n",
      "File being processed: F:\\Projects\\EMA\\Repository\\EMA EPI PoC\\function_code\\work\\H\\CAP\\Elocta\\el\\2021-06-07T06-03-45Z\\partitionedJSONs\\Elocta_clean_ΠΑΡΑΡΤΗΜΑ II.json\n",
      "--------------------------------------------\n",
      "Completed Extracting Content Between Heading\n",
      "Metrics : 1: Content Extraction,0.0014 Min,0.278713 MB,0.593301 MB,53.8%\n",
      "\n",
      "Already Exists\n"
     ]
    },
    {
     "name": "stderr",
     "output_type": "stream",
     "text": [
      "2021-06-19 00:29:47,647 : XmlGeneration_1_s : Initiating XML Generation | H | CAP |  el | 1 | Elocta_clean_ΠΑΡΑΡΤΗΜΑ II.json\n",
      "2021-06-19 00:29:47,927 : XmlGeneration_1_s : Writing to File:Elocta_clean_ΠΑΡΑΡΤΗΜΑ II.xml | H | CAP |  el | 1 | Elocta_clean_ΠΑΡΑΡΤΗΜΑ II.json\n",
      "2021-06-19 00:29:47,932 : Flow Logger HTML_o : 1: Generate XML,0.0059 Min,0.457318 MB,0.784504 MB,53.8%\n",
      " | H | CAP |  el | HTML | Elocta_clean.htm\n"
     ]
    },
    {
     "name": "stdout",
     "output_type": "stream",
     "text": [
      "Metrics : 1: Generate XML,0.0059 Min,0.457318 MB,0.784504 MB,53.8%\n",
      "\n"
     ]
    },
    {
     "name": "stderr",
     "output_type": "stream",
     "text": [
      "2021-06-19 00:29:49,458 : XML Submission Logger_1_D : Initiating Submission To FHIR Server | H | CAP |  el | 1 | Elocta_clean_ΠΑΡΑΡΤΗΜΑ II.json\n",
      "2021-06-19 00:29:49,458 : XML Submission Logger_1_D : Initiating Submission To FHIR Server | H | CAP |  el | 1 | Elocta_clean_ΠΑΡΑΡΤΗΜΑ II.json\n",
      "2021-06-19 00:29:49,461 : XML Submission Logger_1_D : Response{\"resourceType\":\"Bundle\",\"id\":\"479cde40-8813-4579-a911-789061998f25\",\"meta\":{\"versionId\":\"1\",\"lastUpdated\":\"2021-06-18T18:59:49.124+00:00\"},\"type\":\"collection\",\"entry\":[{\"fullUrl\":\"urn:uuid:05d8607f-f41f-47e3-865e-0c778a8bb088\",\"resource\":{\"resourceType\":\"Bundle\",\"id\":\"5ee2e1ac-e6fd-4c4a-9b73-3d23d41feacf\",\"identifier\":{\"system\":\"http://ema.europa.eu/fhir/identifier/documentid\",\"value\":\"5ee2e1ac-e6fd-4c4a-9b73-3d23d41feacf\"},\"type\":\"document\",\"timestamp\":\"2021-06-18T18:59:47+00:00\",\"entry\":[{\"fu | H | CAP |  el | 1 | Elocta_clean_ΠΑΡΑΡΤΗΜΑ II.json\n",
      "2021-06-19 00:29:49,461 : XML Submission Logger_1_D : Response{\"resourceType\":\"Bundle\",\"id\":\"479cde40-8813-4579-a911-789061998f25\",\"meta\":{\"versionId\":\"1\",\"lastUpdated\":\"2021-06-18T18:59:49.124+00:00\"},\"type\":\"collection\",\"entry\":[{\"fullUrl\":\"urn:uuid:05d8607f-f41f-47e3-865e-0c778a8bb088\",\"resource\":{\"resourceType\":\"Bundle\",\"id\":\"5ee2e1ac-e6fd-4c4a-9b73-3d23d41feacf\",\"identifier\":{\"system\":\"http://ema.europa.eu/fhir/identifier/documentid\",\"value\":\"5ee2e1ac-e6fd-4c4a-9b73-3d23d41feacf\"},\"type\":\"document\",\"timestamp\":\"2021-06-18T18:59:47+00:00\",\"entry\":[{\"fu | H | CAP |  el | 1 | Elocta_clean_ΠΑΡΑΡΤΗΜΑ II.json\n",
      "2021-06-19 00:29:49,468 : XML Submission Logger_1_D : POST sucessful: XML added with id: 479cde40-8813-4579-a911-789061998f25 | H | CAP |  el | 1 | Elocta_clean_ΠΑΡΑΡΤΗΜΑ II.json\n",
      "2021-06-19 00:29:49,468 : XML Submission Logger_1_D : POST sucessful: XML added with id: 479cde40-8813-4579-a911-789061998f25 | H | CAP |  el | 1 | Elocta_clean_ΠΑΡΑΡΤΗΜΑ II.json\n",
      "2021-06-19 00:29:49,473 : Flow Logger HTML_o : 1: Submit FHIR Msg,0.0256 Min,0.207822 MB,0.408589 MB,53.8%\n",
      " | H | CAP |  el | HTML | Elocta_clean.htm\n",
      "2021-06-19 00:29:49,478 : Flow Logger HTML_o : Starting list bundle update/addition | H | CAP |  el | HTML | Elocta_clean.htm\n",
      "2021-06-19 00:29:49,488 : List Bundle Creation Logger_1_G : Extracted list bundle document type code this document 100000155533 | H | CAP |  el | 1 | Elocta_clean_ΠΑΡΑΡΤΗΜΑ II.json\n",
      "2021-06-19 00:29:49,488 : List Bundle Creation Logger_1_G : Extracted list bundle document type code this document 100000155533 | H | CAP |  el | 1 | Elocta_clean_ΠΑΡΑΡΤΗΜΑ II.json\n",
      "2021-06-19 00:29:49,492 : List Bundle Creation Logger_1_G : Getting Existing List Bundle accross all MANs | H | CAP |  el | 1 | Elocta_clean_ΠΑΡΑΡΤΗΜΑ II.json\n",
      "2021-06-19 00:29:49,492 : List Bundle Creation Logger_1_G : Getting Existing List Bundle accross all MANs | H | CAP |  el | 1 | Elocta_clean_ΠΑΡΑΡΤΗΜΑ II.json\n",
      "2021-06-19 00:29:49,499 : List Bundle Creation Logger_1_G : Getting list bundle for MAN EU/1/15/1046/001  | H | CAP |  el | 1 | Elocta_clean_ΠΑΡΑΡΤΗΜΑ II.json\n",
      "2021-06-19 00:29:49,499 : List Bundle Creation Logger_1_G : Getting list bundle for MAN EU/1/15/1046/001  | H | CAP |  el | 1 | Elocta_clean_ΠΑΡΑΡΤΗΜΑ II.json\n"
     ]
    },
    {
     "name": "stdout",
     "output_type": "stream",
     "text": [
      "POST sucessful: XML added with id 479cde40-8813-4579-a911-789061998f25\n",
      "Metrics : 1: Submit FHIR Msg,0.0256 Min,0.207822 MB,0.408589 MB,53.8%\n",
      "\n",
      "Created XML File For :- Elocta_clean_ΠΑΡΑΡΤΗΜΑ II.json\n",
      "\n",
      "listRegulatedAuthCodesAccrossePI ['EU/1/15/1046/001', 'EU/1/15/1046/002', 'EU/1/15/1046/003', 'EU/1/15/1046/004', 'EU/1/15/1046/005', 'EU/1/15/1046/006', 'EU/1/15/1046/007', 'EU/1/15/1046/008']\n"
     ]
    },
    {
     "name": "stderr",
     "output_type": "stream",
     "text": [
      "2021-06-19 00:29:50,430 : List Bundle Creation Logger_1_G : Getting list bundle for MAN EU/1/15/1046/002  | H | CAP |  el | 1 | Elocta_clean_ΠΑΡΑΡΤΗΜΑ II.json\n",
      "2021-06-19 00:29:50,430 : List Bundle Creation Logger_1_G : Getting list bundle for MAN EU/1/15/1046/002  | H | CAP |  el | 1 | Elocta_clean_ΠΑΡΑΡΤΗΜΑ II.json\n",
      "2021-06-19 00:29:51,370 : List Bundle Creation Logger_1_G : Getting list bundle for MAN EU/1/15/1046/003  | H | CAP |  el | 1 | Elocta_clean_ΠΑΡΑΡΤΗΜΑ II.json\n",
      "2021-06-19 00:29:51,370 : List Bundle Creation Logger_1_G : Getting list bundle for MAN EU/1/15/1046/003  | H | CAP |  el | 1 | Elocta_clean_ΠΑΡΑΡΤΗΜΑ II.json\n",
      "2021-06-19 00:29:52,272 : List Bundle Creation Logger_1_G : Getting list bundle for MAN EU/1/15/1046/004  | H | CAP |  el | 1 | Elocta_clean_ΠΑΡΑΡΤΗΜΑ II.json\n",
      "2021-06-19 00:29:52,272 : List Bundle Creation Logger_1_G : Getting list bundle for MAN EU/1/15/1046/004  | H | CAP |  el | 1 | Elocta_clean_ΠΑΡΑΡΤΗΜΑ II.json\n",
      "2021-06-19 00:29:53,246 : List Bundle Creation Logger_1_G : Getting list bundle for MAN EU/1/15/1046/005  | H | CAP |  el | 1 | Elocta_clean_ΠΑΡΑΡΤΗΜΑ II.json\n",
      "2021-06-19 00:29:53,246 : List Bundle Creation Logger_1_G : Getting list bundle for MAN EU/1/15/1046/005  | H | CAP |  el | 1 | Elocta_clean_ΠΑΡΑΡΤΗΜΑ II.json\n",
      "2021-06-19 00:29:54,216 : List Bundle Creation Logger_1_G : Getting list bundle for MAN EU/1/15/1046/006  | H | CAP |  el | 1 | Elocta_clean_ΠΑΡΑΡΤΗΜΑ II.json\n",
      "2021-06-19 00:29:54,216 : List Bundle Creation Logger_1_G : Getting list bundle for MAN EU/1/15/1046/006  | H | CAP |  el | 1 | Elocta_clean_ΠΑΡΑΡΤΗΜΑ II.json\n",
      "2021-06-19 00:29:55,177 : List Bundle Creation Logger_1_G : Getting list bundle for MAN EU/1/15/1046/007  | H | CAP |  el | 1 | Elocta_clean_ΠΑΡΑΡΤΗΜΑ II.json\n",
      "2021-06-19 00:29:55,177 : List Bundle Creation Logger_1_G : Getting list bundle for MAN EU/1/15/1046/007  | H | CAP |  el | 1 | Elocta_clean_ΠΑΡΑΡΤΗΜΑ II.json\n",
      "2021-06-19 00:29:56,098 : List Bundle Creation Logger_1_G : Getting list bundle for MAN EU/1/15/1046/008  | H | CAP |  el | 1 | Elocta_clean_ΠΑΡΑΡΤΗΜΑ II.json\n",
      "2021-06-19 00:29:56,098 : List Bundle Creation Logger_1_G : Getting list bundle for MAN EU/1/15/1046/008  | H | CAP |  el | 1 | Elocta_clean_ΠΑΡΑΡΤΗΜΑ II.json\n",
      "2021-06-19 00:29:57,190 : List Bundle Creation Logger_1_G : Getting Existing List Bundle using common list id 5829d349-155f-4f0a-ac97-6a29dd532996 | H | CAP |  el | 1 | Elocta_clean_ΠΑΡΑΡΤΗΜΑ II.json\n",
      "2021-06-19 00:29:57,190 : List Bundle Creation Logger_1_G : Getting Existing List Bundle using common list id 5829d349-155f-4f0a-ac97-6a29dd532996 | H | CAP |  el | 1 | Elocta_clean_ΠΑΡΑΡΤΗΜΑ II.json\n",
      "2021-06-19 00:29:58,115 : List Bundle Creation Logger_1_G : Added missing MAN identifiers | H | CAP |  el | 1 | Elocta_clean_ΠΑΡΑΡΤΗΜΑ II.json\n",
      "2021-06-19 00:29:58,115 : List Bundle Creation Logger_1_G : Added missing MAN identifiers | H | CAP |  el | 1 | Elocta_clean_ΠΑΡΑΡΤΗΜΑ II.json\n",
      "2021-06-19 00:29:58,119 : List Bundle Creation Logger_1_G : Updating existing item | H | CAP |  el | 1 | Elocta_clean_ΠΑΡΑΡΤΗΜΑ II.json\n",
      "2021-06-19 00:29:58,119 : List Bundle Creation Logger_1_G : Updating existing item | H | CAP |  el | 1 | Elocta_clean_ΠΑΡΑΡΤΗΜΑ II.json\n",
      "2021-06-19 00:29:58,130 : List Bundle Creation Logger_1_G : Converted to required XML format | H | CAP |  el | 1 | Elocta_clean_ΠΑΡΑΡΤΗΜΑ II.json\n",
      "2021-06-19 00:29:58,130 : List Bundle Creation Logger_1_G : Converted to required XML format | H | CAP |  el | 1 | Elocta_clean_ΠΑΡΑΡΤΗΜΑ II.json\n"
     ]
    },
    {
     "name": "stdout",
     "output_type": "stream",
     "text": [
      "b'<List xmlns=\"http://hl7.org/fhir\"><id value=\"5829d349-155f-4f0a-ac97-6a29dd532996\" /><identifier><system value=\"http://spor.ema.europa.eu/v2/medicine-name\" /><value value=\"elocta\" /></identifier><identifier><system value=\"http://spor.ema.europa.eu/v2/marketing-authorisation-numbers\" /><value value=\"EU/1/15/1046/001\" /></identifier><identifier><system value=\"http://spor.ema.europa.eu/v2/marketing-authorisation-numbers\" /><value value=\"EU/1/15/1046/002\" /></identifier><identifier><system value=\"http://spor.ema.europa.eu/v2/marketing-authorisation-numbers\" /><value value=\"EU/1/15/1046/003\" /></identifier><identifier><system value=\"http://spor.ema.europa.eu/v2/marketing-authorisation-numbers\" /><value value=\"EU/1/15/1046/004\" /></identifier><identifier><system value=\"http://spor.ema.europa.eu/v2/marketing-authorisation-numbers\" /><value value=\"EU/1/15/1046/005\" /></identifier><identifier><system value=\"http://spor.ema.europa.eu/v2/marketing-authorisation-numbers\" /><value value=\"EU/1/15/1046/006\" /></identifier><identifier><system value=\"http://spor.ema.europa.eu/v2/marketing-authorisation-numbers\" /><value value=\"EU/1/15/1046/007\" /></identifier><identifier><system value=\"http://spor.ema.europa.eu/v2/marketing-authorisation-numbers\" /><value value=\"EU/1/15/1046/008\" /></identifier><status value=\"current\" /><mode value=\"working\" /><code><coding><system value=\"http://spor.ema.europa.eu/v1/example-pi-list-types\" /><code value=\"00000021213\" /><display value=\"ePI Master List\" /></coding></code><subject><extension url=\"http://ema.europa.eu/fhir/extension/domain\"><valueCoding><system value=\"http://spor.ema.europa.eu/v1/100000000004\" /><code value=\"100000000012\" /><display value=\"H\" /></valueCoding></extension><extension url=\"http://ema.europa.eu/fhir/extension/medicine-name\"><valueCoding><system value=\"http://spor.ema.europa.eu/v1/100000000005\" /><code value=\"medicine-name-code\" /><display value=\"Elocta\" /></valueCoding></extension></subject><entry><item><extension url=\"http://ema.europa.eu/fhir/extension/documentType\"><valueCoding><system value=\"http://spor.ema.europa.eu/v1/100000155531\" /><code value=\"100000155532\" /><display value=\"SmPC\" /></valueCoding></extension><extension url=\"http://ema.europa.eu/fhir/extension/language\"><valueCoding><system value=\"http://spor.ema.europa.eu/v1/100000072057\" /><code value=\"100000072147\" /><display value=\"en\" /></valueCoding></extension><reference value=\"Bundle/ad19dc26-2ff8-48ac-bd59-492098c58635\" /></item></entry><entry><item><extension url=\"http://ema.europa.eu/fhir/extension/documentType\"><valueCoding><system value=\"http://spor.ema.europa.eu/v1/100000155531\" /><code value=\"100000155533\" /><display value=\"AnnexII\" /></valueCoding></extension><extension url=\"http://ema.europa.eu/fhir/extension/language\"><valueCoding><system value=\"http://spor.ema.europa.eu/v1/100000072057\" /><code value=\"100000072147\" /><display value=\"en\" /></valueCoding></extension><reference value=\"Bundle/ba8e4303-e75c-4b7f-93ad-a95cd147cd95\" /></item></entry><entry><item><extension url=\"http://ema.europa.eu/fhir/extension/documentType\"><valueCoding><system value=\"http://spor.ema.europa.eu/v1/100000155531\" /><code value=\"100000155535\" /><display value=\"Labelling\" /></valueCoding></extension><extension url=\"http://ema.europa.eu/fhir/extension/language\"><valueCoding><system value=\"http://spor.ema.europa.eu/v1/100000072057\" /><code value=\"100000072147\" /><display value=\"en\" /></valueCoding></extension><reference value=\"Bundle/2a9d5bae-20fd-4a9c-b2c7-921238f996d2\" /></item></entry><entry><item><extension url=\"http://ema.europa.eu/fhir/extension/documentType\"><valueCoding><system value=\"http://spor.ema.europa.eu/v1/100000155531\" /><code value=\"100000155538\" /><display value=\"Package leaflet\" /></valueCoding></extension><extension url=\"http://ema.europa.eu/fhir/extension/language\"><valueCoding><system value=\"http://spor.ema.europa.eu/v1/100000072057\" /><code value=\"100000072147\" /><display value=\"en\" /></valueCoding></extension><reference value=\"Bundle/606ba5ac-9f7f-4bdd-8086-45f6f045f8bd\" /></item></entry><entry><item><extension url=\"http://ema.europa.eu/fhir/extension/documentType\"><valueCoding><system value=\"http://spor.ema.europa.eu/v1/100000155531\" /><code value=\"100000155532\" /><display value=\"SmPC\" /></valueCoding></extension><extension url=\"http://ema.europa.eu/fhir/extension/language\"><valueCoding><system value=\"http://spor.ema.europa.eu/v1/100000072057\" /><code value=\"100000072178\" /><display value=\"de\" /></valueCoding></extension><reference value=\"Bundle/e5a3ee9e-30a1-4e81-96b7-20ea1f0cb553\" /></item></entry><entry><item><extension url=\"http://ema.europa.eu/fhir/extension/documentType\"><valueCoding><system value=\"http://spor.ema.europa.eu/v1/100000155531\" /><code value=\"100000155533\" /><display value=\"ANHANG II\" /></valueCoding></extension><extension url=\"http://ema.europa.eu/fhir/extension/language\"><valueCoding><system value=\"http://spor.ema.europa.eu/v1/100000072057\" /><code value=\"100000072178\" /><display value=\"de\" /></valueCoding></extension><reference value=\"Bundle/f57010ec-b436-4c2b-aabc-d82e1134f8f8\" /></item></entry><entry><item><extension url=\"http://ema.europa.eu/fhir/extension/documentType\"><valueCoding><system value=\"http://spor.ema.europa.eu/v1/100000155531\" /><code value=\"100000155535\" /><display value=\"Etikettierung\" /></valueCoding></extension><extension url=\"http://ema.europa.eu/fhir/extension/language\"><valueCoding><system value=\"http://spor.ema.europa.eu/v1/100000072057\" /><code value=\"100000072178\" /><display value=\"de\" /></valueCoding></extension><reference value=\"Bundle/a628833d-6896-49a3-ac37-1219c0430566\" /></item></entry><entry><item><extension url=\"http://ema.europa.eu/fhir/extension/documentType\"><valueCoding><system value=\"http://spor.ema.europa.eu/v1/100000155531\" /><code value=\"100000155538\" /><display value=\"Packungsbeilage\" /></valueCoding></extension><extension url=\"http://ema.europa.eu/fhir/extension/language\"><valueCoding><system value=\"http://spor.ema.europa.eu/v1/100000072057\" /><code value=\"100000072178\" /><display value=\"de\" /></valueCoding></extension><reference value=\"Bundle/00147511-5d0b-4b89-b6cc-660d18b2f173\" /></item></entry><entry><item><extension url=\"http://ema.europa.eu/fhir/extension/documentType\"><valueCoding><system value=\"http://spor.ema.europa.eu/v1/100000155531\" /><code value=\"100000155532\" /><display value=\"SmPC\" /></valueCoding></extension><extension url=\"http://ema.europa.eu/fhir/extension/language\"><valueCoding><system value=\"http://spor.ema.europa.eu/v1/100000072057\" /><code value=\"100000072142\" /><display value=\"bg\" /></valueCoding></extension><reference value=\"Bundle/3ca82c72-b5d3-49b9-9bc9-f00d237f8803\" /></item></entry><entry><item><extension url=\"http://ema.europa.eu/fhir/extension/documentType\"><valueCoding><system value=\"http://spor.ema.europa.eu/v1/100000155531\" /><code value=\"100000155533\" /><display value=\"AnnexII\" /></valueCoding></extension><extension url=\"http://ema.europa.eu/fhir/extension/language\"><valueCoding><system value=\"http://spor.ema.europa.eu/v1/100000072057\" /><code value=\"100000072142\" /><display value=\"bg\" /></valueCoding></extension><reference value=\"Bundle/6a69a4a1-bb78-4696-83f9-5451be6fab61\" /></item></entry><entry><item><extension url=\"http://ema.europa.eu/fhir/extension/documentType\"><valueCoding><system value=\"http://spor.ema.europa.eu/v1/100000155531\" /><code value=\"100000155535\" /><display value=\"Labelling\" /></valueCoding></extension><extension url=\"http://ema.europa.eu/fhir/extension/language\"><valueCoding><system value=\"http://spor.ema.europa.eu/v1/100000072057\" /><code value=\"100000072142\" /><display value=\"bg\" /></valueCoding></extension><reference value=\"Bundle/aa07919a-76ee-4221-b369-714b5374473a\" /></item></entry><entry><item><extension url=\"http://ema.europa.eu/fhir/extension/documentType\"><valueCoding><system value=\"http://spor.ema.europa.eu/v1/100000155531\" /><code value=\"100000155538\" /><display value=\"Package leaflet\" /></valueCoding></extension><extension url=\"http://ema.europa.eu/fhir/extension/language\"><valueCoding><system value=\"http://spor.ema.europa.eu/v1/100000072057\" /><code value=\"100000072142\" /><display value=\"bg\" /></valueCoding></extension><reference value=\"Bundle/1bc35de5-d0ab-453a-bba5-8fc99b177ec2\" /></item></entry><entry><item><extension url=\"http://ema.europa.eu/fhir/extension/documentType\"><valueCoding><system value=\"http://spor.ema.europa.eu/v1/100000155531\" /><code value=\"100000155532\" /><display value=\"SmPC\" /></valueCoding></extension><extension url=\"http://ema.europa.eu/fhir/extension/language\"><valueCoding><system value=\"http://spor.ema.europa.eu/v1/100000072057\" /><code value=\"100000072168\" /><display value=\"da\" /></valueCoding></extension><reference value=\"Bundle/d3de3932-2769-40ba-81f2-58f21d7d1b48\" /></item></entry><entry><item><extension url=\"http://ema.europa.eu/fhir/extension/documentType\"><valueCoding><system value=\"http://spor.ema.europa.eu/v1/100000155531\" /><code value=\"100000155533\" /><display value=\"BILAG II\" /></valueCoding></extension><extension url=\"http://ema.europa.eu/fhir/extension/language\"><valueCoding><system value=\"http://spor.ema.europa.eu/v1/100000072057\" /><code value=\"100000072168\" /><display value=\"da\" /></valueCoding></extension><reference value=\"Bundle/5720f50a-c605-4ab0-a63d-36f17eaf89f1\" /></item></entry><entry><item><extension url=\"http://ema.europa.eu/fhir/extension/documentType\"><valueCoding><system value=\"http://spor.ema.europa.eu/v1/100000155531\" /><code value=\"100000155532\" /><display value=\"SmPC\" /></valueCoding></extension><extension url=\"http://ema.europa.eu/fhir/extension/language\"><valueCoding><system value=\"http://spor.ema.europa.eu/v1/100000072057\" /><code value=\"100000072264\" /><display value=\"es\" /></valueCoding></extension><reference value=\"Bundle/b628a402-8685-42e9-bdb6-2c3db00e1eaa\" /></item></entry><entry><item><extension url=\"http://ema.europa.eu/fhir/extension/documentType\"><valueCoding><system value=\"http://spor.ema.europa.eu/v1/100000155531\" /><code value=\"100000155533\" /><display value=\"AnnexII\" /></valueCoding></extension><extension url=\"http://ema.europa.eu/fhir/extension/language\"><valueCoding><system value=\"http://spor.ema.europa.eu/v1/100000072057\" /><code value=\"100000072264\" /><display value=\"es\" /></valueCoding></extension><reference value=\"Bundle/238b78d8-de4a-44be-91d2-573da1a60f40\" /></item></entry><entry><item><extension url=\"http://ema.europa.eu/fhir/extension/documentType\"><valueCoding><system value=\"http://spor.ema.europa.eu/v1/100000155531\" /><code value=\"100000155535\" /><display value=\"Labelling\" /></valueCoding></extension><extension url=\"http://ema.europa.eu/fhir/extension/language\"><valueCoding><system value=\"http://spor.ema.europa.eu/v1/100000072057\" /><code value=\"100000072264\" /><display value=\"es\" /></valueCoding></extension><reference value=\"Bundle/5ce4eccf-445b-4139-b82d-5ec1e7dcf182\" /></item></entry><entry><item><extension url=\"http://ema.europa.eu/fhir/extension/documentType\"><valueCoding><system value=\"http://spor.ema.europa.eu/v1/100000155531\" /><code value=\"100000155538\" /><display value=\"Package leaflet\" /></valueCoding></extension><extension url=\"http://ema.europa.eu/fhir/extension/language\"><valueCoding><system value=\"http://spor.ema.europa.eu/v1/100000072057\" /><code value=\"100000072264\" /><display value=\"es\" /></valueCoding></extension><reference value=\"Bundle/dc638c61-b24b-4ab7-a046-ce8c3cd00524\" /></item></entry><entry><item><extension url=\"http://ema.europa.eu/fhir/extension/documentType\"><valueCoding><system value=\"http://spor.ema.europa.eu/v1/100000155531\" /><code value=\"100000155532\" /><display value=\"SmPC\" /></valueCoding></extension><extension url=\"http://ema.europa.eu/fhir/extension/language\"><valueCoding><system value=\"http://spor.ema.europa.eu/v1/100000072057\" /><code value=\"100000072181\" /><display value=\"el\" /></valueCoding></extension><reference value=\"Bundle/b53846f0-bd96-4c6f-89cb-3b0c723d4416\" /></item></entry><entry><item><extension url=\"http://ema.europa.eu/fhir/extension/documentType\"><valueCoding><system value=\"http://spor.ema.europa.eu/v1/100000155531\" /><code value=\"100000155533\" /><display value=\"\\xce\\xa0\\xce\\x91\\xce\\xa1\\xce\\x91\\xce\\xa1\\xce\\xa4\\xce\\x97\\xce\\x9c\\xce\\x91 \\xce\\x99\\xce\\x99\" /></valueCoding></extension><extension url=\"http://ema.europa.eu/fhir/extension/language\"><valueCoding><system value=\"http://spor.ema.europa.eu/v1/100000072057\" /><code value=\"100000072181\" /><display value=\"el\" /></valueCoding></extension><reference value=\"Bundle/479cde40-8813-4579-a911-789061998f25\" /></item></entry><entry><item><extension url=\"http://ema.europa.eu/fhir/extension/documentType\"><valueCoding><system value=\"http://spor.ema.europa.eu/v1/100000155531\" /><code value=\"100000155535\" /><display value=\"\\xce\\x95\\xce\\xa0\\xce\\x99\\xce\\xa3\\xce\\x97\\xce\\x9c\\xce\\x91\\xce\\x9d\\xce\\xa3\\xce\\x97\" /></valueCoding></extension><extension url=\"http://ema.europa.eu/fhir/extension/language\"><valueCoding><system value=\"http://spor.ema.europa.eu/v1/100000072057\" /><code value=\"100000072181\" /><display value=\"el\" /></valueCoding></extension><reference value=\"Bundle/4e2d131d-5f7f-49ba-b4ae-1db697a62c85\" /></item></entry><entry><item><extension url=\"http://ema.europa.eu/fhir/extension/documentType\"><valueCoding><system value=\"http://spor.ema.europa.eu/v1/100000155531\" /><code value=\"100000155538\" /><display value=\"\\xce\\xa6\\xce\\xa5\\xce\\x9b\\xce\\x9b\\xce\\x9f \\xce\\x9f\\xce\\x94\\xce\\x97\\xce\\x93\\xce\\x99\\xce\\xa9\\xce\\x9d \\xce\\xa7\\xce\\xa1\\xce\\x97\\xce\\xa3\\xce\\x97\\xce\\xa3\" /></valueCoding></extension><extension url=\"http://ema.europa.eu/fhir/extension/language\"><valueCoding><system value=\"http://spor.ema.europa.eu/v1/100000072057\" /><code value=\"100000072181\" /><display value=\"el\" /></valueCoding></extension><reference value=\"Bundle/05d46b5a-eac1-4de3-845e-618baa9aaa6b\" /></item></entry></List>'\n",
      "Updating\n"
     ]
    },
    {
     "name": "stderr",
     "output_type": "stream",
     "text": [
      "2021-06-19 00:29:59,745 : List Bundle Creation Logger_1_G : List update successfully completed 5829d349-155f-4f0a-ac97-6a29dd532996 | H | CAP |  el | 1 | Elocta_clean_ΠΑΡΑΡΤΗΜΑ II.json\n",
      "2021-06-19 00:29:59,745 : List Bundle Creation Logger_1_G : List update successfully completed 5829d349-155f-4f0a-ac97-6a29dd532996 | H | CAP |  el | 1 | Elocta_clean_ΠΑΡΑΡΤΗΜΑ II.json\n",
      "2021-06-19 00:29:59,749 : Flow Logger HTML_o : Completed list bundle update/addition | H | CAP |  el | HTML | Elocta_clean.htm\n",
      "2021-06-19 00:29:59,751 : Flow Logger HTML_o : 1: Update/Add List Bundle,0.1712 Min,0.406022 MB,0.856422 MB,53.8%\n",
      " | H | CAP |  el | HTML | Elocta_clean.htm\n",
      "2021-06-19 00:29:59,754 : Flow Logger HTML_o : \n",
      "\n",
      "\n",
      "\n",
      "||||||||||||||||||||||||||||||||2 ||||| Elocta_clean_ ΕΠΙΣΗΜΑΝΣΗ.json||||||||||||||||||||||||||||||||\n",
      "\n",
      "\n",
      "\n",
      " | H | CAP |  el | HTML | Elocta_clean.htm\n",
      "2021-06-19 00:29:59,762 : Heading Extraction Elocta_clean_ ΕΠΙΣΗΜΑΝΣΗ.json_E : Starting Heading Extraction | H | CAP |  el | 2 | Elocta_clean_ ΕΠΙΣΗΜΑΝΣΗ.json\n"
     ]
    },
    {
     "name": "stdout",
     "output_type": "stream",
     "text": [
      "Metrics : 1: Update/Add List Bundle,0.1712 Min,0.406022 MB,0.856422 MB,53.8%\n",
      "\n",
      "Index 2\n",
      "Starting Heading Extraction For File :- Elocta_clean_ ΕΠΙΣΗΜΑΝΣΗ.json\n",
      "File being processed: F:\\Projects\\EMA\\Repository\\EMA EPI PoC\\function_code\\work\\H\\CAP\\Elocta\\el\\2021-06-07T06-03-45Z\\partitionedJSONs\\Elocta_clean_ ΕΠΙΣΗΜΑΝΣΗ.json\n",
      "--------------------------------------------\n",
      "ΕΠΙΣΗΜΑΝΣΗ\n"
     ]
    },
    {
     "name": "stderr",
     "output_type": "stream",
     "text": [
      "2021-06-19 00:30:00,338 : Heading Extraction Elocta_clean_ ΕΠΙΣΗΜΑΝΣΗ.json_E : Started Extracting Heading | H | CAP |  el | 2 | Elocta_clean_ ΕΠΙΣΗΜΑΝΣΗ.json\n",
      "2021-06-19 00:30:00,380 : Heading Extraction Elocta_clean_ ΕΠΙΣΗΜΑΝΣΗ.json_E : Match Passed : <=1|23.08|(87, 100, 95)|0.951| | H | CAP |  el | 2 | Elocta_clean_ ΕΠΙΣΗΜΑΝΣΗ.json | Doc txt :- 'A. ΕΠΙΣΗΜΑΝΣΗ' | Qrd txt :- 'ΕΠΙΣΗΜΑΝΣΗ' | Matched :- 'True'\n",
      "2021-06-19 00:30:00,387 : Heading Extraction Elocta_clean_ ΕΠΙΣΗΜΑΝΣΗ.json_E : Validation Passed As This The First Heading | H | CAP |  el | 2 | Elocta_clean_ ΕΠΙΣΗΜΑΝΣΗ.json | currHeadId :- '22001' | prevHeadingCurrId :- '' | prevHeadingFoundId :- ''\n",
      "2021-06-19 00:30:00,430 : Heading Extraction Elocta_clean_ ΕΠΙΣΗΜΑΝΣΗ.json_E : Match Passed : Contains<>|76.0|(72, 88, 86)|0.922| | H | CAP |  el | 2 | Elocta_clean_ ΕΠΙΣΗΜΑΝΣΗ.json | Doc txt :- 'ΕΝΔΕΙΞΕΙΣ ΠΟΥ ΠΡΕΠΕΙ ΝΑ ΑΝΑΓΡΑΦΟΝΤΑΙ ΣΤΗΝ ΕΞΩΤΕΡΙΚΗ ΣΥΣΚΕΥΑΣΙΑ' | Qrd txt :- 'ΕΝΔΕΙΞΕΙΣ ΠΟΥ ΠΡΕΠΕΙ ΝΑ ΑΝΑΓΡΑΦΟΝΤΑΙ <ΣΤΗΝ ΕΞΩΤΕΡΙΚΗ ΣΥΣΚΕΥΑΣΙΑ> <ΚΑΙ> < ΣΤΗ ΣΤΟΙΧΕΙΩΔΗ ΣΥΣΚΕΥΑΣΙΑ>' | Matched :- 'True'\n",
      "2021-06-19 00:30:00,442 : Heading Extraction Elocta_clean_ ΕΠΙΣΗΜΑΝΣΗ.json_E : Validation Passed | H | CAP |  el | 2 | Elocta_clean_ ΕΠΙΣΗΜΑΝΣΗ.json | currHeadId :- '22002' | prevHeadingCurrId :- '22001' | prevHeadingFoundId :- '22001'\n",
      "2021-06-19 00:30:00,928 : Heading Extraction Elocta_clean_ ΕΠΙΣΗΜΑΝΣΗ.json_E : Match Passed | H | CAP |  el | 2 | Elocta_clean_ ΕΠΙΣΗΜΑΝΣΗ.json | Doc txt :- '1. ΟΝΟΜΑΣΙΑ ΤΟΥ ΦΑΡΜΑΚΕΥΤΙΚΟΥ ΠΡΟΪΟΝΤΟΣ' | Qrd txt :- '1. ΟΝΟΜΑΣΙΑ ΤΟΥ ΦΑΡΜΑΚΕΥΤΙΚΟΥ ΠΡΟΪΟΝΤΟΣ' | Matched :- 'True'\n",
      "2021-06-19 00:30:00,940 : Heading Extraction Elocta_clean_ ΕΠΙΣΗΜΑΝΣΗ.json_E : Validation Passed | H | CAP |  el | 2 | Elocta_clean_ ΕΠΙΣΗΜΑΝΣΗ.json | currHeadId :- '22003' | prevHeadingCurrId :- '22002' | prevHeadingFoundId :- '22002'\n",
      "2021-06-19 00:30:03,442 : Heading Extraction Elocta_clean_ ΕΠΙΣΗΜΑΝΣΗ.json_E : Match Passed | H | CAP |  el | 2 | Elocta_clean_ ΕΠΙΣΗΜΑΝΣΗ.json | Doc txt :- '2. ΣΥΝΘΕΣΗ ΣΕ ΔΡΑΣΤΙΚΗ(ΕΣ) ΟΥΣΙΑ(ΕΣ)' | Qrd txt :- '2. ΣΥΝΘΕΣΗ ΣΕ ΔΡΑΣΤΙΚΗ(ΕΣ) ΟΥΣΙΑ(ΕΣ)' | Matched :- 'True'\n",
      "2021-06-19 00:30:03,463 : Heading Extraction Elocta_clean_ ΕΠΙΣΗΜΑΝΣΗ.json_E : Validation Passed | H | CAP |  el | 2 | Elocta_clean_ ΕΠΙΣΗΜΑΝΣΗ.json | currHeadId :- '22004' | prevHeadingCurrId :- '22003' | prevHeadingFoundId :- '22003'\n",
      "2021-06-19 00:30:04,605 : Heading Extraction Elocta_clean_ ΕΠΙΣΗΜΑΝΣΗ.json_E : Match Passed | H | CAP |  el | 2 | Elocta_clean_ ΕΠΙΣΗΜΑΝΣΗ.json | Doc txt :- '3. ΚΑΤΑΛΟΓΟΣ ΕΚΔΟΧΩΝ' | Qrd txt :- '3. ΚΑΤΑΛΟΓΟΣ ΕΚΔΟΧΩΝ' | Matched :- 'True'\n",
      "2021-06-19 00:30:04,637 : Heading Extraction Elocta_clean_ ΕΠΙΣΗΜΑΝΣΗ.json_E : Validation Passed | H | CAP |  el | 2 | Elocta_clean_ ΕΠΙΣΗΜΑΝΣΗ.json | currHeadId :- '22005' | prevHeadingCurrId :- '22004' | prevHeadingFoundId :- '22004'\n",
      "2021-06-19 00:30:06,810 : Heading Extraction Elocta_clean_ ΕΠΙΣΗΜΑΝΣΗ.json_E : Match Passed | H | CAP |  el | 2 | Elocta_clean_ ΕΠΙΣΗΜΑΝΣΗ.json | Doc txt :- '4. ΦΑΡΜΑΚΟΤΕΧΝΙΚΗ ΜΟΡΦΗ ΚΑΙ ΠΕΡΙΕΧΟΜΕΝΟ' | Qrd txt :- '4. ΦΑΡΜΑΚΟΤΕΧΝΙΚΗ ΜΟΡΦΗ ΚΑΙ ΠΕΡΙΕΧΟΜΕΝΟ' | Matched :- 'True'\n",
      "2021-06-19 00:30:06,822 : Heading Extraction Elocta_clean_ ΕΠΙΣΗΜΑΝΣΗ.json_E : Validation Passed | H | CAP |  el | 2 | Elocta_clean_ ΕΠΙΣΗΜΑΝΣΗ.json | currHeadId :- '22006' | prevHeadingCurrId :- '22005' | prevHeadingFoundId :- '22005'\n",
      "2021-06-19 00:30:08,728 : Heading Extraction Elocta_clean_ ΕΠΙΣΗΜΑΝΣΗ.json_E : Match Passed | H | CAP |  el | 2 | Elocta_clean_ ΕΠΙΣΗΜΑΝΣΗ.json | Doc txt :- '5. ΤΡΟΠΟΣ ΚΑΙ ΟΔΟΣ(ΟΙ) ΧΟΡΗΓΗΣΗΣ' | Qrd txt :- '5. ΤΡΟΠΟΣ ΚΑΙ ΟΔΟΣ(ΟΙ) ΧΟΡΗΓΗΣΗΣ' | Matched :- 'True'\n",
      "2021-06-19 00:30:08,742 : Heading Extraction Elocta_clean_ ΕΠΙΣΗΜΑΝΣΗ.json_E : Validation Passed | H | CAP |  el | 2 | Elocta_clean_ ΕΠΙΣΗΜΑΝΣΗ.json | currHeadId :- '22007' | prevHeadingCurrId :- '22006' | prevHeadingFoundId :- '22006'\n",
      "2021-06-19 00:30:12,341 : Heading Extraction Elocta_clean_ ΕΠΙΣΗΜΑΝΣΗ.json_E : Match Passed | H | CAP |  el | 2 | Elocta_clean_ ΕΠΙΣΗΜΑΝΣΗ.json | Doc txt :- '6. ΕΙΔΙΚΗ ΠΡΟΕΙΔΟΠΟΙΗΣΗ ΣΥΜΦΩΝΑ ΜΕ ΤΗΝ ΟΠΟΙΑ ΤΟ ΦΑΡΜΑΚΕΥΤΙΚΟ ΠΡΟΪΟΝ ΠΡΕΠΕΙ ΝΑ ΦΥΛΑΣΣΕΤΑΙ ΣΕ ΘΕΣΗ ΤΗΝ ΟΠΟΙΑ ΔΕΝ ΒΛΕΠΟΥΝ ΚΑΙ ΔΕΝ ΠΡΟΣΕΓΓΙΖΟΥΝ ΤΑ ΠΑΙΔΙΑ' | Qrd txt :- '6. ΕΙΔΙΚΗ ΠΡΟΕΙΔΟΠΟΙΗΣΗ ΣΥΜΦΩΝΑ ΜΕ ΤΗΝ ΟΠΟΙΑ ΤΟ ΦΑΡΜΑΚΕΥΤΙΚΟ ΠΡΟΪΟΝ ΠΡΕΠΕΙ ΝΑ ΦΥΛΑΣΣΕΤΑΙ ΣΕ ΘΕΣΗ ΤΗΝ ΟΠΟΙΑ ΔΕΝ ΒΛΕΠΟΥΝ ΚΑΙ ΔΕΝ ΠΡΟΣΕΓΓΙΖΟΥΝ ΤΑ ΠΑΙΔΙΑ' | Matched :- 'True'\n",
      "2021-06-19 00:30:12,374 : Heading Extraction Elocta_clean_ ΕΠΙΣΗΜΑΝΣΗ.json_E : Validation Passed | H | CAP |  el | 2 | Elocta_clean_ ΕΠΙΣΗΜΑΝΣΗ.json | currHeadId :- '22008' | prevHeadingCurrId :- '22007' | prevHeadingFoundId :- '22007'\n",
      "2021-06-19 00:30:13,595 : Heading Extraction Elocta_clean_ ΕΠΙΣΗΜΑΝΣΗ.json_E : Match Passed | H | CAP |  el | 2 | Elocta_clean_ ΕΠΙΣΗΜΑΝΣΗ.json | Doc txt :- '7. ΑΛΛΗ(ΕΣ) ΕΙΔΙΚΗ(ΕΣ) ΠΡΟΕΙΔΟΠΟΙΗΣΗ(ΕΙΣ), ΕΑΝ ΕΙΝΑΙ ΑΠΑΡΑΙΤΗΤΗ(ΕΣ)' | Qrd txt :- '7. ΑΛΛΗ(ΕΣ) ΕΙΔΙΚΗ(ΕΣ) ΠΡΟΕΙΔΟΠΟΙΗΣΗ(ΕΙΣ), ΕΑΝ ΕΙΝΑΙ ΑΠΑΡΑΙΤΗΤΗ(ΕΣ)' | Matched :- 'True'\n",
      "2021-06-19 00:30:13,613 : Heading Extraction Elocta_clean_ ΕΠΙΣΗΜΑΝΣΗ.json_E : Validation Passed | H | CAP |  el | 2 | Elocta_clean_ ΕΠΙΣΗΜΑΝΣΗ.json | currHeadId :- '22009' | prevHeadingCurrId :- '22008' | prevHeadingFoundId :- '22008'\n",
      "2021-06-19 00:30:13,801 : Heading Extraction Elocta_clean_ ΕΠΙΣΗΜΑΝΣΗ.json_E : Match Passed | H | CAP |  el | 2 | Elocta_clean_ ΕΠΙΣΗΜΑΝΣΗ.json | Doc txt :- '8. ΗΜΕΡΟΜΗΝΙΑ ΛΗΞΗΣ' | Qrd txt :- '8. ΗΜΕΡΟΜΗΝΙΑ ΛΗΞΗΣ' | Matched :- 'True'\n",
      "2021-06-19 00:30:13,832 : Heading Extraction Elocta_clean_ ΕΠΙΣΗΜΑΝΣΗ.json_E : Validation Passed | H | CAP |  el | 2 | Elocta_clean_ ΕΠΙΣΗΜΑΝΣΗ.json | currHeadId :- '22010' | prevHeadingCurrId :- '22009' | prevHeadingFoundId :- '22009'\n",
      "2021-06-19 00:30:14,850 : Heading Extraction Elocta_clean_ ΕΠΙΣΗΜΑΝΣΗ.json_E : Match Passed | H | CAP |  el | 2 | Elocta_clean_ ΕΠΙΣΗΜΑΝΣΗ.json | Doc txt :- '9. ΕΙΔΙΚΕΣ ΣΥΝΘΗΚΕΣ ΦΥΛΑΞΗΣ' | Qrd txt :- '9. ΕΙΔΙΚΕΣ ΣΥΝΘΗΚΕΣ ΦΥΛΑΞΗΣ' | Matched :- 'True'\n",
      "2021-06-19 00:30:14,865 : Heading Extraction Elocta_clean_ ΕΠΙΣΗΜΑΝΣΗ.json_E : Validation Passed | H | CAP |  el | 2 | Elocta_clean_ ΕΠΙΣΗΜΑΝΣΗ.json | currHeadId :- '22011' | prevHeadingCurrId :- '22010' | prevHeadingFoundId :- '22010'\n",
      "2021-06-19 00:30:18,199 : Heading Extraction Elocta_clean_ ΕΠΙΣΗΜΑΝΣΗ.json_E : Match Passed | H | CAP |  el | 2 | Elocta_clean_ ΕΠΙΣΗΜΑΝΣΗ.json | Doc txt :- '10. ΙΔΙΑΙΤΕΡΕΣ ΠΡΟΦΥΛΑΞΕΙΣ ΓΙΑ ΤΗΝ ΑΠΟΡΡΙΨΗ ΤΩΝ ΜΗ ΧΡΗΣΙΜΟΠΟΙΗΘΕΝΤΩΝ ΦΑΡΜΑΚΕΥΤΙΚΩΝ ΠΡΟΪΟΝΤΩΝ Ή ΤΩΝ ΥΠΟΛΕΙΜΜΑΤΩΝ ΠΟΥ ΠΡΟΕΡΧΟΝΤΑΙ ΑΠΟ ΑΥΤΑ, ΕΦΟΣΟΝ ΑΠΑΙΤΕΙΤΑΙ' | Qrd txt :- '10. ΙΔΙΑΙΤΕΡΕΣ ΠΡΟΦΥΛΑΞΕΙΣ ΓΙΑ ΤΗΝ ΑΠΟΡΡΙΨΗ ΤΩΝ ΜΗ ΧΡΗΣΙΜΟΠΟΙΗΘΕΝΤΩΝ ΦΑΡΜΑΚΕΥΤΙΚΩΝ ΠΡΟΪΟΝΤΩΝ Ή ΤΩΝ ΥΠΟΛΕΙΜΜΑΤΩΝ ΠΟΥ ΠΡΟΕΡΧΟΝΤΑΙ ΑΠΟ ΑΥΤΑ, ΕΦΟΣΟΝ ΑΠΑΙΤΕΙΤΑΙ' | Matched :- 'True'\n",
      "2021-06-19 00:30:18,217 : Heading Extraction Elocta_clean_ ΕΠΙΣΗΜΑΝΣΗ.json_E : Validation Passed | H | CAP |  el | 2 | Elocta_clean_ ΕΠΙΣΗΜΑΝΣΗ.json | currHeadId :- '22012' | prevHeadingCurrId :- '22011' | prevHeadingFoundId :- '22011'\n",
      "2021-06-19 00:30:18,812 : Heading Extraction Elocta_clean_ ΕΠΙΣΗΜΑΝΣΗ.json_E : Match Passed | H | CAP |  el | 2 | Elocta_clean_ ΕΠΙΣΗΜΑΝΣΗ.json | Doc txt :- '11. ΟΝΟΜΑ ΚΑΙ ΔΙΕΥΘΥΝΣΗ ΚΑΤΟΧΟΥ ΤΗΣ ΑΔΕΙΑΣ ΚΥΚΛΟΦΟΡΙΑΣ' | Qrd txt :- '11. ΟΝΟΜΑ ΚΑΙ ΔΙΕΥΘΥΝΣΗ ΚΑΤΟΧΟΥ ΤΗΣ ΑΔΕΙΑΣ ΚΥΚΛΟΦΟΡΙΑΣ' | Matched :- 'True'\n",
      "2021-06-19 00:30:18,828 : Heading Extraction Elocta_clean_ ΕΠΙΣΗΜΑΝΣΗ.json_E : Validation Passed | H | CAP |  el | 2 | Elocta_clean_ ΕΠΙΣΗΜΑΝΣΗ.json | currHeadId :- '22013' | prevHeadingCurrId :- '22012' | prevHeadingFoundId :- '22012'\n",
      "2021-06-19 00:30:20,849 : Heading Extraction Elocta_clean_ ΕΠΙΣΗΜΑΝΣΗ.json_E : Match Passed | H | CAP |  el | 2 | Elocta_clean_ ΕΠΙΣΗΜΑΝΣΗ.json | Doc txt :- '12. ΑΡΙΘΜΟΣ(ΟΙ) ΑΔΕΙΑΣ ΚΥΚΛΟΦΟΡΙΑΣ' | Qrd txt :- '12. ΑΡΙΘΜΟΣ(ΟΙ) ΑΔΕΙΑΣ ΚΥΚΛΟΦΟΡΙΑΣ' | Matched :- 'True'\n",
      "2021-06-19 00:30:20,868 : Heading Extraction Elocta_clean_ ΕΠΙΣΗΜΑΝΣΗ.json_E : Validation Passed | H | CAP |  el | 2 | Elocta_clean_ ΕΠΙΣΗΜΑΝΣΗ.json | currHeadId :- '22014' | prevHeadingCurrId :- '22013' | prevHeadingFoundId :- '22013'\n",
      "2021-06-19 00:30:21,552 : Heading Extraction Elocta_clean_ ΕΠΙΣΗΜΑΝΣΗ.json_E : Match Passed : Contains<>|175.0|(53, 100, 90)|0.873| | H | CAP |  el | 2 | Elocta_clean_ ΕΠΙΣΗΜΑΝΣΗ.json | Doc txt :- '13.     ΑΡΙΘΜΟΣ ΠΑΡΤΙΔΑΣ' | Qrd txt :- '13. ΑΡΙΘΜΟΣ ΠΑΡΤΙΔΑΣ<, ΣΤΟΙΧΕΙΑ ΔΟΤΗ ΚΑΙ ΚΩΔΙΚΟΙ ΠΡΟΪΟΝΤΟΣ>' | Matched :- 'True'\n",
      "2021-06-19 00:30:21,567 : Heading Extraction Elocta_clean_ ΕΠΙΣΗΜΑΝΣΗ.json_E : Validation Passed | H | CAP |  el | 2 | Elocta_clean_ ΕΠΙΣΗΜΑΝΣΗ.json | currHeadId :- '22015' | prevHeadingCurrId :- '22014' | prevHeadingFoundId :- '22014'\n"
     ]
    },
    {
     "name": "stderr",
     "output_type": "stream",
     "text": [
      "2021-06-19 00:30:22,005 : Heading Extraction Elocta_clean_ ΕΠΙΣΗΜΑΝΣΗ.json_E : Match Passed | H | CAP |  el | 2 | Elocta_clean_ ΕΠΙΣΗΜΑΝΣΗ.json | Doc txt :- '14. ΓΕΝΙΚΗ ΚΑΤΑΤΑΞΗ ΓΙΑ ΤΗ ΔΙΑΘΕΣΗ' | Qrd txt :- '14. ΓΕΝΙΚΗ ΚΑΤΑΤΑΞΗ ΓΙΑ ΤΗ ΔΙΑΘΕΣΗ' | Matched :- 'True'\n",
      "2021-06-19 00:30:22,022 : Heading Extraction Elocta_clean_ ΕΠΙΣΗΜΑΝΣΗ.json_E : Validation Passed | H | CAP |  el | 2 | Elocta_clean_ ΕΠΙΣΗΜΑΝΣΗ.json | currHeadId :- '22016' | prevHeadingCurrId :- '22015' | prevHeadingFoundId :- '22015'\n",
      "2021-06-19 00:30:22,324 : Heading Extraction Elocta_clean_ ΕΠΙΣΗΜΑΝΣΗ.json_E : Match Passed | H | CAP |  el | 2 | Elocta_clean_ ΕΠΙΣΗΜΑΝΣΗ.json | Doc txt :- '15. ΟΔΗΓΙΕΣ ΧΡΗΣΗΣ' | Qrd txt :- '15. ΟΔΗΓΙΕΣ ΧΡΗΣΗΣ' | Matched :- 'True'\n",
      "2021-06-19 00:30:22,338 : Heading Extraction Elocta_clean_ ΕΠΙΣΗΜΑΝΣΗ.json_E : Validation Passed | H | CAP |  el | 2 | Elocta_clean_ ΕΠΙΣΗΜΑΝΣΗ.json | currHeadId :- '22017' | prevHeadingCurrId :- '22016' | prevHeadingFoundId :- '22016'\n",
      "2021-06-19 00:30:22,693 : Heading Extraction Elocta_clean_ ΕΠΙΣΗΜΑΝΣΗ.json_E : Match Passed | H | CAP |  el | 2 | Elocta_clean_ ΕΠΙΣΗΜΑΝΣΗ.json | Doc txt :- '16. ΠΛΗΡΟΦΟΡΙΕΣ ΣΕ BRAILLE' | Qrd txt :- '16. ΠΛΗΡΟΦΟΡΙΕΣ ΣΕ BRAILLE' | Matched :- 'True'\n",
      "2021-06-19 00:30:22,707 : Heading Extraction Elocta_clean_ ΕΠΙΣΗΜΑΝΣΗ.json_E : Validation Passed | H | CAP |  el | 2 | Elocta_clean_ ΕΠΙΣΗΜΑΝΣΗ.json | currHeadId :- '22018' | prevHeadingCurrId :- '22017' | prevHeadingFoundId :- '22017'\n",
      "2021-06-19 00:30:23,635 : Heading Extraction Elocta_clean_ ΕΠΙΣΗΜΑΝΣΗ.json_E : Match Passed | H | CAP |  el | 2 | Elocta_clean_ ΕΠΙΣΗΜΑΝΣΗ.json | Doc txt :- '17. ΜΟΝΑΔΙΚΟΣ ΑΝΑΓΝΩΡΙΣΤΙΚΟΣ ΚΩΔΙΚΟΣ – ΔΙΣΔΙΑΣΤΑΤΟΣ ΓΡΑΜΜΩΤΟΣ ΚΩΔΙΚΑΣ (2D)' | Qrd txt :- '17. ΜΟΝΑΔΙΚΟΣ ΑΝΑΓΝΩΡΙΣΤΙΚΟΣ ΚΩΔΙΚΟΣ – ΔΙΣΔΙΑΣΤΑΤΟΣ ΓΡΑΜΜΩΤΟΣ ΚΩΔΙΚΑΣ (2D)' | Matched :- 'True'\n",
      "2021-06-19 00:30:23,658 : Heading Extraction Elocta_clean_ ΕΠΙΣΗΜΑΝΣΗ.json_E : Validation Passed | H | CAP |  el | 2 | Elocta_clean_ ΕΠΙΣΗΜΑΝΣΗ.json | currHeadId :- '22019' | prevHeadingCurrId :- '22018' | prevHeadingFoundId :- '22018'\n",
      "2021-06-19 00:30:25,451 : Heading Extraction Elocta_clean_ ΕΠΙΣΗΜΑΝΣΗ.json_E : Match Passed | H | CAP |  el | 2 | Elocta_clean_ ΕΠΙΣΗΜΑΝΣΗ.json | Doc txt :- '18. ΜΟΝΑΔΙΚΟΣ ΑΝΑΓΝΩΡΙΣΤΙΚΟΣ ΚΩΔΙΚΟΣ – ΔΕΔΟΜΕΝΑ ΑΝΑΓΝΩΣΙΜΑ ΑΠΟ ΤΟΝ ΑΝΘΡΩΠΟ' | Qrd txt :- '18. ΜΟΝΑΔΙΚΟΣ ΑΝΑΓΝΩΡΙΣΤΙΚΟΣ ΚΩΔΙΚΟΣ – ΔΕΔΟΜΕΝΑ ΑΝΑΓΝΩΣΙΜΑ ΑΠΟ ΤΟΝ ΑΝΘΡΩΠΟ' | Matched :- 'True'\n",
      "2021-06-19 00:30:25,468 : Heading Extraction Elocta_clean_ ΕΠΙΣΗΜΑΝΣΗ.json_E : Validation Passed | H | CAP |  el | 2 | Elocta_clean_ ΕΠΙΣΗΜΑΝΣΗ.json | currHeadId :- '22020' | prevHeadingCurrId :- '22019' | prevHeadingFoundId :- '22019'\n",
      "2021-06-19 00:30:26,299 : Heading Extraction Elocta_clean_ ΕΠΙΣΗΜΑΝΣΗ.json_E : Match Passed | H | CAP |  el | 2 | Elocta_clean_ ΕΠΙΣΗΜΑΝΣΗ.json | Doc txt :- 'ΕΛΑΧΙΣΤΕΣ ΕΝΔΕΙΞΕΙΣ ΠΟΥ ΠΡΕΠΕΙ ΝΑ ΑΝΑΓΡΑΦΟΝΤΑΙ ΣΤΙΣ ΜΙΚΡΕΣ ΣΤΟΙΧΕΙΩΔΕΙΣ ΣΥΣΚΕΥΑΣΙΕΣ' | Qrd txt :- 'ΕΛΑΧΙΣΤΕΣ ΕΝΔΕΙΞΕΙΣ ΠΟΥ ΠΡΕΠΕΙ ΝΑ ΑΝΑΓΡΑΦΟΝΤΑΙ ΣΤΙΣ ΜΙΚΡΕΣ ΣΤΟΙΧΕΙΩΔΕΙΣ ΣΥΣΚΕΥΑΣΙΕΣ' | Matched :- 'True'\n",
      "2021-06-19 00:30:26,315 : Heading Extraction Elocta_clean_ ΕΠΙΣΗΜΑΝΣΗ.json_E : Validation Flow Is Broken | H | CAP |  el | 2 | Elocta_clean_ ΕΠΙΣΗΜΑΝΣΗ.json | currHeadId :- '22027' | prevHeadingCurrId :- '' | prevHeadingFoundId :- '22020'\n",
      "2021-06-19 00:30:26,325 : Heading Extraction Elocta_clean_ ΕΠΙΣΗΜΑΝΣΗ.json_E : Validation Passed | H | CAP |  el | 2 | Elocta_clean_ ΕΠΙΣΗΜΑΝΣΗ.json | currHeadId :- '22027' | prevHeadingCurrId :- '22020' | prevHeadingFoundId :- '22020'\n",
      "2021-06-19 00:30:27,779 : Heading Extraction Elocta_clean_ ΕΠΙΣΗΜΑΝΣΗ.json_E : Match Passed | H | CAP |  el | 2 | Elocta_clean_ ΕΠΙΣΗΜΑΝΣΗ.json | Doc txt :- '1. ΟΝΟΜΑΣΙΑ ΤΟΥ ΦΑΡΜΑΚΕΥΤΙΚΟΥ ΠΡΟΪΟΝΤΟΣ ΚΑΙ ΟΔΟΣ(ΟΙ) ΧΟΡΗΓΗΣΗΣ' | Qrd txt :- '1. ΟΝΟΜΑΣΙΑ ΤΟΥ ΦΑΡΜΑΚΕΥΤΙΚΟΥ ΠΡΟΪΟΝΤΟΣ ΚΑΙ ΟΔΟΣ(ΟΙ) ΧΟΡΗΓΗΣΗΣ' | Matched :- 'True'\n",
      "2021-06-19 00:30:27,792 : Heading Extraction Elocta_clean_ ΕΠΙΣΗΜΑΝΣΗ.json_E : Validation Passed | H | CAP |  el | 2 | Elocta_clean_ ΕΠΙΣΗΜΑΝΣΗ.json | currHeadId :- '22028' | prevHeadingCurrId :- '22027' | prevHeadingFoundId :- '22027'\n",
      "2021-06-19 00:30:31,268 : Heading Extraction Elocta_clean_ ΕΠΙΣΗΜΑΝΣΗ.json_E : Match Passed | H | CAP |  el | 2 | Elocta_clean_ ΕΠΙΣΗΜΑΝΣΗ.json | Doc txt :- '2. ΤΡΟΠΟΣ ΧΟΡΗΓΗΣΗΣ' | Qrd txt :- '2. ΤΡΟΠΟΣ ΧΟΡΗΓΗΣΗΣ' | Matched :- 'True'\n",
      "2021-06-19 00:30:31,303 : Heading Extraction Elocta_clean_ ΕΠΙΣΗΜΑΝΣΗ.json_E : Validation Passed | H | CAP |  el | 2 | Elocta_clean_ ΕΠΙΣΗΜΑΝΣΗ.json | currHeadId :- '22029' | prevHeadingCurrId :- '22028' | prevHeadingFoundId :- '22028'\n",
      "2021-06-19 00:30:31,669 : Heading Extraction Elocta_clean_ ΕΠΙΣΗΜΑΝΣΗ.json_E : Match Passed : <=4|5.26|(95, 95, 95)|0.98| | H | CAP |  el | 2 | Elocta_clean_ ΕΠΙΣΗΜΑΝΣΗ.json | Doc txt :- '3.       ΗΜΕΡΟΜΗΝΙΑ ΛΗΞΗΣ' | Qrd txt :- '8. ΗΜΕΡΟΜΗΝΙΑ ΛΗΞΗΣ' | Matched :- 'True'\n",
      "2021-06-19 00:30:31,696 : Heading Extraction Elocta_clean_ ΕΠΙΣΗΜΑΝΣΗ.json_E : Validation Failed As Previous Heading Found is not matching | H | CAP |  el | 2 | Elocta_clean_ ΕΠΙΣΗΜΑΝΣΗ.json | currHeadId :- '22010' | prevHeadingCurrId :- '22009' | prevHeadingFoundId :- '22029'\n",
      "2021-06-19 00:30:32,111 : Heading Extraction Elocta_clean_ ΕΠΙΣΗΜΑΝΣΗ.json_E : Match Passed | H | CAP |  el | 2 | Elocta_clean_ ΕΠΙΣΗΜΑΝΣΗ.json | Doc txt :- '3. ΗΜΕΡΟΜΗΝΙΑ ΛΗΞΗΣ' | Qrd txt :- '3. ΗΜΕΡΟΜΗΝΙΑ ΛΗΞΗΣ' | Matched :- 'True'\n",
      "2021-06-19 00:30:32,131 : Heading Extraction Elocta_clean_ ΕΠΙΣΗΜΑΝΣΗ.json_E : Validation Failed As Wrong Heading Found | H | CAP |  el | 2 | Elocta_clean_ ΕΠΙΣΗΜΑΝΣΗ.json | currHeadId :- '22024' | prevHeadingCurrId :- '' | prevHeadingFoundId :- '22029'\n",
      "2021-06-19 00:30:32,255 : Heading Extraction Elocta_clean_ ΕΠΙΣΗΜΑΝΣΗ.json_E : Match Passed | H | CAP |  el | 2 | Elocta_clean_ ΕΠΙΣΗΜΑΝΣΗ.json | Doc txt :- '3. ΗΜΕΡΟΜΗΝΙΑ ΛΗΞΗΣ' | Qrd txt :- '3. ΗΜΕΡΟΜΗΝΙΑ ΛΗΞΗΣ' | Matched :- 'True'\n",
      "2021-06-19 00:30:32,276 : Heading Extraction Elocta_clean_ ΕΠΙΣΗΜΑΝΣΗ.json_E : Validation Passed | H | CAP |  el | 2 | Elocta_clean_ ΕΠΙΣΗΜΑΝΣΗ.json | currHeadId :- '22030' | prevHeadingCurrId :- '22029' | prevHeadingFoundId :- '22029'\n",
      "2021-06-19 00:30:32,636 : Heading Extraction Elocta_clean_ ΕΠΙΣΗΜΑΝΣΗ.json_E : Match Passed : Contains<>|194.74|(49, 95, 86)|0.758| | H | CAP |  el | 2 | Elocta_clean_ ΕΠΙΣΗΜΑΝΣΗ.json | Doc txt :- '4.       ΑΡΙΘΜΟΣ ΠΑΡΤΙΔΑΣ' | Qrd txt :- '13. ΑΡΙΘΜΟΣ ΠΑΡΤΙΔΑΣ<, ΣΤΟΙΧΕΙΑ ΔΟΤΗ ΚΑΙ ΚΩΔΙΚΟΙ ΠΡΟΪΟΝΤΟΣ>' | Matched :- 'True'\n",
      "2021-06-19 00:30:32,655 : Heading Extraction Elocta_clean_ ΕΠΙΣΗΜΑΝΣΗ.json_E : Validation Failed As Previous Heading Found is not matching | H | CAP |  el | 2 | Elocta_clean_ ΕΠΙΣΗΜΑΝΣΗ.json | currHeadId :- '22015' | prevHeadingCurrId :- '22014' | prevHeadingFoundId :- '22030'\n",
      "2021-06-19 00:30:32,892 : Heading Extraction Elocta_clean_ ΕΠΙΣΗΜΑΝΣΗ.json_E : Match Passed : Contains<>|184.21|(52, 100, 90)|0.87| | H | CAP |  el | 2 | Elocta_clean_ ΕΠΙΣΗΜΑΝΣΗ.json | Doc txt :- '4.       ΑΡΙΘΜΟΣ ΠΑΡΤΙΔΑΣ' | Qrd txt :- '4. ΑΡΙΘΜΟΣ ΠΑΡΤΙΔΑΣ<, ΣΤΟΙΧΕΙΑ ΔΟΤΗ ΚΑΙ ΚΩΔΙΚΟΙ ΠΡΟΪΟΝΤΟΣ>' | Matched :- 'True'\n",
      "2021-06-19 00:30:32,911 : Heading Extraction Elocta_clean_ ΕΠΙΣΗΜΑΝΣΗ.json_E : Validation Failed As Wrong Heading Found | H | CAP |  el | 2 | Elocta_clean_ ΕΠΙΣΗΜΑΝΣΗ.json | currHeadId :- '22025' | prevHeadingCurrId :- '' | prevHeadingFoundId :- '22030'\n",
      "2021-06-19 00:30:33,019 : Heading Extraction Elocta_clean_ ΕΠΙΣΗΜΑΝΣΗ.json_E : Match Passed : Contains<>|184.21|(52, 100, 90)|0.87| | H | CAP |  el | 2 | Elocta_clean_ ΕΠΙΣΗΜΑΝΣΗ.json | Doc txt :- '4.       ΑΡΙΘΜΟΣ ΠΑΡΤΙΔΑΣ' | Qrd txt :- '4. ΑΡΙΘΜΟΣ ΠΑΡΤΙΔΑΣ<, ΣΤΟΙΧΕΙΑ ΔΟΤΗ ΚΑΙ ΚΩΔΙΚΟΙ ΠΡΟΪΟΝΤΟΣ>' | Matched :- 'True'\n",
      "2021-06-19 00:30:33,035 : Heading Extraction Elocta_clean_ ΕΠΙΣΗΜΑΝΣΗ.json_E : Validation Passed | H | CAP |  el | 2 | Elocta_clean_ ΕΠΙΣΗΜΑΝΣΗ.json | currHeadId :- '22031' | prevHeadingCurrId :- '22030' | prevHeadingFoundId :- '22030'\n",
      "2021-06-19 00:30:34,520 : Heading Extraction Elocta_clean_ ΕΠΙΣΗΜΑΝΣΗ.json_E : Match Passed : <=7|2.5|(98, 98, 100)|0.995| | H | CAP |  el | 2 | Elocta_clean_ ΕΠΙΣΗΜΑΝΣΗ.json | Doc txt :- '5.       ΠΕΡΙΕΧΟΜΕΝΟ ΚΑΤΑ ΒΑΡΟΣ, ΚΑΤ’ ΟΓΚΟ Ή ΚΑΤΑ ΜΟΝΑΔΑ' | Qrd txt :- '5. ΠΕΡΙΕΧΟΜΕΝΟ ΚΑΤΑ ΒΑΡΟΣ, ΚΑΤ' ΟΓΚΟ Ή ΚΑΤΑ ΜΟΝΑΔΑ' | Matched :- 'True'\n",
      "2021-06-19 00:30:34,556 : Heading Extraction Elocta_clean_ ΕΠΙΣΗΜΑΝΣΗ.json_E : Validation Passed | H | CAP |  el | 2 | Elocta_clean_ ΕΠΙΣΗΜΑΝΣΗ.json | currHeadId :- '22032' | prevHeadingCurrId :- '22031' | prevHeadingFoundId :- '22031'\n"
     ]
    },
    {
     "name": "stderr",
     "output_type": "stream",
     "text": [
      "2021-06-19 00:30:35,560 : Heading Extraction Elocta_clean_ ΕΠΙΣΗΜΑΝΣΗ.json_E : Match Passed : <=4|6.25|(94, 94, 94)|0.975| | H | CAP |  el | 2 | Elocta_clean_ ΕΠΙΣΗΜΑΝΣΗ.json | Doc txt :- '6.       ΑΛΛΑ ΣΤΟΙΧΕΙΑ' | Qrd txt :- '5. ΑΛΛΑ ΣΤΟΙΧΕΙΑ' | Matched :- 'True'\n",
      "2021-06-19 00:30:35,589 : Heading Extraction Elocta_clean_ ΕΠΙΣΗΜΑΝΣΗ.json_E : Validation Failed As Wrong Heading Found | H | CAP |  el | 2 | Elocta_clean_ ΕΠΙΣΗΜΑΝΣΗ.json | currHeadId :- '22026' | prevHeadingCurrId :- '' | prevHeadingFoundId :- '22032'\n",
      "2021-06-19 00:30:35,715 : Heading Extraction Elocta_clean_ ΕΠΙΣΗΜΑΝΣΗ.json_E : Match Passed | H | CAP |  el | 2 | Elocta_clean_ ΕΠΙΣΗΜΑΝΣΗ.json | Doc txt :- '6. ΑΛΛΑ ΣΤΟΙΧΕΙΑ' | Qrd txt :- '6. ΑΛΛΑ ΣΤΟΙΧΕΙΑ' | Matched :- 'True'\n",
      "2021-06-19 00:30:35,732 : Heading Extraction Elocta_clean_ ΕΠΙΣΗΜΑΝΣΗ.json_E : Validation Passed | H | CAP |  el | 2 | Elocta_clean_ ΕΠΙΣΗΜΑΝΣΗ.json | currHeadId :- '22033' | prevHeadingCurrId :- '22032' | prevHeadingFoundId :- '22032'\n",
      "2021-06-19 00:30:35,795 : Heading Extraction Elocta_clean_ ΕΠΙΣΗΜΑΝΣΗ.json_E : Match Passed : Contains<>|76.0|(72, 88, 86)|0.922| | H | CAP |  el | 2 | Elocta_clean_ ΕΠΙΣΗΜΑΝΣΗ.json | Doc txt :- 'ΕΝΔΕΙΞΕΙΣ ΠΟΥ ΠΡΕΠΕΙ ΝΑ ΑΝΑΓΡΑΦΟΝΤΑΙ ΣΤΗΝ ΕΞΩΤΕΡΙΚΗ ΣΥΣΚΕΥΑΣΙΑ' | Qrd txt :- 'ΕΝΔΕΙΞΕΙΣ ΠΟΥ ΠΡΕΠΕΙ ΝΑ ΑΝΑΓΡΑΦΟΝΤΑΙ <ΣΤΗΝ ΕΞΩΤΕΡΙΚΗ ΣΥΣΚΕΥΑΣΙΑ> <ΚΑΙ> < ΣΤΗ ΣΤΟΙΧΕΙΩΔΗ ΣΥΣΚΕΥΑΣΙΑ>' | Matched :- 'True'\n",
      "2021-06-19 00:30:35,817 : Heading Extraction Elocta_clean_ ΕΠΙΣΗΜΑΝΣΗ.json_E : Validation Failed As Previous Heading Found is not matching | H | CAP |  el | 2 | Elocta_clean_ ΕΠΙΣΗΜΑΝΣΗ.json | currHeadId :- '22002' | prevHeadingCurrId :- '22001' | prevHeadingFoundId :- '22033'\n",
      "2021-06-19 00:30:36,860 : Heading Extraction Elocta_clean_ ΕΠΙΣΗΜΑΝΣΗ.json_E : End Of Sub Section | H | CAP |  el | 2 | Elocta_clean_ ΕΠΙΣΗΜΑΝΣΗ.json\n",
      "2021-06-19 00:30:36,914 : Heading Extraction Elocta_clean_ ΕΠΙΣΗΜΑΝΣΗ.json_E : Match Passed : Contains<>|76.0|(72, 88, 86)|0.922| | H | CAP |  el | 2 | Elocta_clean_ ΕΠΙΣΗΜΑΝΣΗ.json | Doc txt :- 'ΕΝΔΕΙΞΕΙΣ ΠΟΥ ΠΡΕΠΕΙ ΝΑ ΑΝΑΓΡΑΦΟΝΤΑΙ ΣΤΗΝ ΕΞΩΤΕΡΙΚΗ ΣΥΣΚΕΥΑΣΙΑ' | Qrd txt :- 'ΕΝΔΕΙΞΕΙΣ ΠΟΥ ΠΡΕΠΕΙ ΝΑ ΑΝΑΓΡΑΦΟΝΤΑΙ <ΣΤΗΝ ΕΞΩΤΕΡΙΚΗ ΣΥΣΚΕΥΑΣΙΑ> <ΚΑΙ> < ΣΤΗ ΣΤΟΙΧΕΙΩΔΗ ΣΥΣΚΕΥΑΣΙΑ>' | Matched :- 'True'\n",
      "2021-06-19 00:30:36,929 : Heading Extraction Elocta_clean_ ΕΠΙΣΗΜΑΝΣΗ.json_E : Validation Passed As This The First Heading | H | CAP |  el | 2 | Elocta_clean_ ΕΠΙΣΗΜΑΝΣΗ.json | currHeadId :- '22002' | prevHeadingCurrId :- '' | prevHeadingFoundId :- ''\n"
     ]
    },
    {
     "name": "stdout",
     "output_type": "stream",
     "text": [
      "oooooooooooooooooooooooooooooooooooooooo END OF Sub Section oooooooooooooooooooooooooooooooooooooooooooooooooooooooooooo\n"
     ]
    },
    {
     "name": "stderr",
     "output_type": "stream",
     "text": [
      "2021-06-19 00:30:37,626 : Heading Extraction Elocta_clean_ ΕΠΙΣΗΜΑΝΣΗ.json_E : Match Passed | H | CAP |  el | 2 | Elocta_clean_ ΕΠΙΣΗΜΑΝΣΗ.json | Doc txt :- '1. ΟΝΟΜΑΣΙΑ ΤΟΥ ΦΑΡΜΑΚΕΥΤΙΚΟΥ ΠΡΟΪΟΝΤΟΣ' | Qrd txt :- '1. ΟΝΟΜΑΣΙΑ ΤΟΥ ΦΑΡΜΑΚΕΥΤΙΚΟΥ ΠΡΟΪΟΝΤΟΣ' | Matched :- 'True'\n",
      "2021-06-19 00:30:37,643 : Heading Extraction Elocta_clean_ ΕΠΙΣΗΜΑΝΣΗ.json_E : Validation Passed | H | CAP |  el | 2 | Elocta_clean_ ΕΠΙΣΗΜΑΝΣΗ.json | currHeadId :- '22003' | prevHeadingCurrId :- '22002' | prevHeadingFoundId :- '22002'\n",
      "2021-06-19 00:30:40,010 : Heading Extraction Elocta_clean_ ΕΠΙΣΗΜΑΝΣΗ.json_E : Match Passed | H | CAP |  el | 2 | Elocta_clean_ ΕΠΙΣΗΜΑΝΣΗ.json | Doc txt :- '2. ΣΥΝΘΕΣΗ ΣΕ ΔΡΑΣΤΙΚΗ(ΕΣ) ΟΥΣΙΑ(ΕΣ)' | Qrd txt :- '2. ΣΥΝΘΕΣΗ ΣΕ ΔΡΑΣΤΙΚΗ(ΕΣ) ΟΥΣΙΑ(ΕΣ)' | Matched :- 'True'\n",
      "2021-06-19 00:30:40,033 : Heading Extraction Elocta_clean_ ΕΠΙΣΗΜΑΝΣΗ.json_E : Validation Passed | H | CAP |  el | 2 | Elocta_clean_ ΕΠΙΣΗΜΑΝΣΗ.json | currHeadId :- '22004' | prevHeadingCurrId :- '22003' | prevHeadingFoundId :- '22003'\n",
      "2021-06-19 00:30:41,031 : Heading Extraction Elocta_clean_ ΕΠΙΣΗΜΑΝΣΗ.json_E : Match Passed | H | CAP |  el | 2 | Elocta_clean_ ΕΠΙΣΗΜΑΝΣΗ.json | Doc txt :- '3. ΚΑΤΑΛΟΓΟΣ ΕΚΔΟΧΩΝ' | Qrd txt :- '3. ΚΑΤΑΛΟΓΟΣ ΕΚΔΟΧΩΝ' | Matched :- 'True'\n",
      "2021-06-19 00:30:41,049 : Heading Extraction Elocta_clean_ ΕΠΙΣΗΜΑΝΣΗ.json_E : Validation Passed | H | CAP |  el | 2 | Elocta_clean_ ΕΠΙΣΗΜΑΝΣΗ.json | currHeadId :- '22005' | prevHeadingCurrId :- '22004' | prevHeadingFoundId :- '22004'\n",
      "2021-06-19 00:30:43,140 : Heading Extraction Elocta_clean_ ΕΠΙΣΗΜΑΝΣΗ.json_E : Match Passed | H | CAP |  el | 2 | Elocta_clean_ ΕΠΙΣΗΜΑΝΣΗ.json | Doc txt :- '4. ΦΑΡΜΑΚΟΤΕΧΝΙΚΗ ΜΟΡΦΗ ΚΑΙ ΠΕΡΙΕΧΟΜΕΝΟ' | Qrd txt :- '4. ΦΑΡΜΑΚΟΤΕΧΝΙΚΗ ΜΟΡΦΗ ΚΑΙ ΠΕΡΙΕΧΟΜΕΝΟ' | Matched :- 'True'\n",
      "2021-06-19 00:30:43,156 : Heading Extraction Elocta_clean_ ΕΠΙΣΗΜΑΝΣΗ.json_E : Validation Passed | H | CAP |  el | 2 | Elocta_clean_ ΕΠΙΣΗΜΑΝΣΗ.json | currHeadId :- '22006' | prevHeadingCurrId :- '22005' | prevHeadingFoundId :- '22005'\n",
      "2021-06-19 00:30:45,315 : Heading Extraction Elocta_clean_ ΕΠΙΣΗΜΑΝΣΗ.json_E : Match Passed | H | CAP |  el | 2 | Elocta_clean_ ΕΠΙΣΗΜΑΝΣΗ.json | Doc txt :- '5. ΤΡΟΠΟΣ ΚΑΙ ΟΔΟΣ(ΟΙ) ΧΟΡΗΓΗΣΗΣ' | Qrd txt :- '5. ΤΡΟΠΟΣ ΚΑΙ ΟΔΟΣ(ΟΙ) ΧΟΡΗΓΗΣΗΣ' | Matched :- 'True'\n",
      "2021-06-19 00:30:45,334 : Heading Extraction Elocta_clean_ ΕΠΙΣΗΜΑΝΣΗ.json_E : Validation Passed | H | CAP |  el | 2 | Elocta_clean_ ΕΠΙΣΗΜΑΝΣΗ.json | currHeadId :- '22007' | prevHeadingCurrId :- '22006' | prevHeadingFoundId :- '22006'\n",
      "2021-06-19 00:30:48,941 : Heading Extraction Elocta_clean_ ΕΠΙΣΗΜΑΝΣΗ.json_E : Match Passed | H | CAP |  el | 2 | Elocta_clean_ ΕΠΙΣΗΜΑΝΣΗ.json | Doc txt :- '6. ΕΙΔΙΚΗ ΠΡΟΕΙΔΟΠΟΙΗΣΗ ΣΥΜΦΩΝΑ ΜΕ ΤΗΝ ΟΠΟΙΑ ΤΟ ΦΑΡΜΑΚΕΥΤΙΚΟ ΠΡΟΪΟΝ ΠΡΕΠΕΙ ΝΑ ΦΥΛΑΣΣΕΤΑΙ ΣΕ ΘΕΣΗ ΤΗΝ ΟΠΟΙΑ ΔΕΝ ΒΛΕΠΟΥΝ ΚΑΙ ΔΕΝ ΠΡΟΣΕΓΓΙΖΟΥΝ ΤΑ ΠΑΙΔΙΑ' | Qrd txt :- '6. ΕΙΔΙΚΗ ΠΡΟΕΙΔΟΠΟΙΗΣΗ ΣΥΜΦΩΝΑ ΜΕ ΤΗΝ ΟΠΟΙΑ ΤΟ ΦΑΡΜΑΚΕΥΤΙΚΟ ΠΡΟΪΟΝ ΠΡΕΠΕΙ ΝΑ ΦΥΛΑΣΣΕΤΑΙ ΣΕ ΘΕΣΗ ΤΗΝ ΟΠΟΙΑ ΔΕΝ ΒΛΕΠΟΥΝ ΚΑΙ ΔΕΝ ΠΡΟΣΕΓΓΙΖΟΥΝ ΤΑ ΠΑΙΔΙΑ' | Matched :- 'True'\n",
      "2021-06-19 00:30:48,962 : Heading Extraction Elocta_clean_ ΕΠΙΣΗΜΑΝΣΗ.json_E : Validation Passed | H | CAP |  el | 2 | Elocta_clean_ ΕΠΙΣΗΜΑΝΣΗ.json | currHeadId :- '22008' | prevHeadingCurrId :- '22007' | prevHeadingFoundId :- '22007'\n",
      "2021-06-19 00:30:49,992 : Heading Extraction Elocta_clean_ ΕΠΙΣΗΜΑΝΣΗ.json_E : Match Passed | H | CAP |  el | 2 | Elocta_clean_ ΕΠΙΣΗΜΑΝΣΗ.json | Doc txt :- '7. ΑΛΛΗ(ΕΣ) ΕΙΔΙΚΗ(ΕΣ) ΠΡΟΕΙΔΟΠΟΙΗΣΗ(ΕΙΣ), ΕΑΝ ΕΙΝΑΙ ΑΠΑΡΑΙΤΗΤΗ(ΕΣ)' | Qrd txt :- '7. ΑΛΛΗ(ΕΣ) ΕΙΔΙΚΗ(ΕΣ) ΠΡΟΕΙΔΟΠΟΙΗΣΗ(ΕΙΣ), ΕΑΝ ΕΙΝΑΙ ΑΠΑΡΑΙΤΗΤΗ(ΕΣ)' | Matched :- 'True'\n",
      "2021-06-19 00:30:50,006 : Heading Extraction Elocta_clean_ ΕΠΙΣΗΜΑΝΣΗ.json_E : Validation Passed | H | CAP |  el | 2 | Elocta_clean_ ΕΠΙΣΗΜΑΝΣΗ.json | currHeadId :- '22009' | prevHeadingCurrId :- '22008' | prevHeadingFoundId :- '22008'\n",
      "2021-06-19 00:30:50,192 : Heading Extraction Elocta_clean_ ΕΠΙΣΗΜΑΝΣΗ.json_E : Match Passed | H | CAP |  el | 2 | Elocta_clean_ ΕΠΙΣΗΜΑΝΣΗ.json | Doc txt :- '8. ΗΜΕΡΟΜΗΝΙΑ ΛΗΞΗΣ' | Qrd txt :- '8. ΗΜΕΡΟΜΗΝΙΑ ΛΗΞΗΣ' | Matched :- 'True'\n",
      "2021-06-19 00:30:50,211 : Heading Extraction Elocta_clean_ ΕΠΙΣΗΜΑΝΣΗ.json_E : Validation Passed | H | CAP |  el | 2 | Elocta_clean_ ΕΠΙΣΗΜΑΝΣΗ.json | currHeadId :- '22010' | prevHeadingCurrId :- '22009' | prevHeadingFoundId :- '22009'\n",
      "2021-06-19 00:30:51,095 : Heading Extraction Elocta_clean_ ΕΠΙΣΗΜΑΝΣΗ.json_E : Match Passed | H | CAP |  el | 2 | Elocta_clean_ ΕΠΙΣΗΜΑΝΣΗ.json | Doc txt :- '9. ΕΙΔΙΚΕΣ ΣΥΝΘΗΚΕΣ ΦΥΛΑΞΗΣ' | Qrd txt :- '9. ΕΙΔΙΚΕΣ ΣΥΝΘΗΚΕΣ ΦΥΛΑΞΗΣ' | Matched :- 'True'\n",
      "2021-06-19 00:30:51,107 : Heading Extraction Elocta_clean_ ΕΠΙΣΗΜΑΝΣΗ.json_E : Validation Passed | H | CAP |  el | 2 | Elocta_clean_ ΕΠΙΣΗΜΑΝΣΗ.json | currHeadId :- '22011' | prevHeadingCurrId :- '22010' | prevHeadingFoundId :- '22010'\n",
      "2021-06-19 00:30:53,797 : Heading Extraction Elocta_clean_ ΕΠΙΣΗΜΑΝΣΗ.json_E : Match Passed | H | CAP |  el | 2 | Elocta_clean_ ΕΠΙΣΗΜΑΝΣΗ.json | Doc txt :- '10. ΙΔΙΑΙΤΕΡΕΣ ΠΡΟΦΥΛΑΞΕΙΣ ΓΙΑ ΤΗΝ ΑΠΟΡΡΙΨΗ ΤΩΝ ΜΗ ΧΡΗΣΙΜΟΠΟΙΗΘΕΝΤΩΝ ΦΑΡΜΑΚΕΥΤΙΚΩΝ ΠΡΟΪΟΝΤΩΝ Ή ΤΩΝ ΥΠΟΛΕΙΜΜΑΤΩΝ ΠΟΥ ΠΡΟΕΡΧΟΝΤΑΙ ΑΠΟ ΑΥΤΑ, ΕΦΟΣΟΝ ΑΠΑΙΤΕΙΤΑΙ' | Qrd txt :- '10. ΙΔΙΑΙΤΕΡΕΣ ΠΡΟΦΥΛΑΞΕΙΣ ΓΙΑ ΤΗΝ ΑΠΟΡΡΙΨΗ ΤΩΝ ΜΗ ΧΡΗΣΙΜΟΠΟΙΗΘΕΝΤΩΝ ΦΑΡΜΑΚΕΥΤΙΚΩΝ ΠΡΟΪΟΝΤΩΝ Ή ΤΩΝ ΥΠΟΛΕΙΜΜΑΤΩΝ ΠΟΥ ΠΡΟΕΡΧΟΝΤΑΙ ΑΠΟ ΑΥΤΑ, ΕΦΟΣΟΝ ΑΠΑΙΤΕΙΤΑΙ' | Matched :- 'True'\n",
      "2021-06-19 00:30:53,809 : Heading Extraction Elocta_clean_ ΕΠΙΣΗΜΑΝΣΗ.json_E : Validation Passed | H | CAP |  el | 2 | Elocta_clean_ ΕΠΙΣΗΜΑΝΣΗ.json | currHeadId :- '22012' | prevHeadingCurrId :- '22011' | prevHeadingFoundId :- '22011'\n",
      "2021-06-19 00:30:54,288 : Heading Extraction Elocta_clean_ ΕΠΙΣΗΜΑΝΣΗ.json_E : Match Passed | H | CAP |  el | 2 | Elocta_clean_ ΕΠΙΣΗΜΑΝΣΗ.json | Doc txt :- '11. ΟΝΟΜΑ ΚΑΙ ΔΙΕΥΘΥΝΣΗ ΚΑΤΟΧΟΥ ΤΗΣ ΑΔΕΙΑΣ ΚΥΚΛΟΦΟΡΙΑΣ' | Qrd txt :- '11. ΟΝΟΜΑ ΚΑΙ ΔΙΕΥΘΥΝΣΗ ΚΑΤΟΧΟΥ ΤΗΣ ΑΔΕΙΑΣ ΚΥΚΛΟΦΟΡΙΑΣ' | Matched :- 'True'\n",
      "2021-06-19 00:30:54,311 : Heading Extraction Elocta_clean_ ΕΠΙΣΗΜΑΝΣΗ.json_E : Validation Passed | H | CAP |  el | 2 | Elocta_clean_ ΕΠΙΣΗΜΑΝΣΗ.json | currHeadId :- '22013' | prevHeadingCurrId :- '22012' | prevHeadingFoundId :- '22012'\n",
      "2021-06-19 00:30:56,001 : Heading Extraction Elocta_clean_ ΕΠΙΣΗΜΑΝΣΗ.json_E : Match Passed | H | CAP |  el | 2 | Elocta_clean_ ΕΠΙΣΗΜΑΝΣΗ.json | Doc txt :- '12. ΑΡΙΘΜΟΣ(ΟΙ) ΑΔΕΙΑΣ ΚΥΚΛΟΦΟΡΙΑΣ' | Qrd txt :- '12. ΑΡΙΘΜΟΣ(ΟΙ) ΑΔΕΙΑΣ ΚΥΚΛΟΦΟΡΙΑΣ' | Matched :- 'True'\n",
      "2021-06-19 00:30:56,016 : Heading Extraction Elocta_clean_ ΕΠΙΣΗΜΑΝΣΗ.json_E : Validation Passed | H | CAP |  el | 2 | Elocta_clean_ ΕΠΙΣΗΜΑΝΣΗ.json | currHeadId :- '22014' | prevHeadingCurrId :- '22013' | prevHeadingFoundId :- '22013'\n",
      "2021-06-19 00:30:56,647 : Heading Extraction Elocta_clean_ ΕΠΙΣΗΜΑΝΣΗ.json_E : Match Passed : Contains<>|175.0|(53, 100, 90)|0.873| | H | CAP |  el | 2 | Elocta_clean_ ΕΠΙΣΗΜΑΝΣΗ.json | Doc txt :- '13.     ΑΡΙΘΜΟΣ ΠΑΡΤΙΔΑΣ' | Qrd txt :- '13. ΑΡΙΘΜΟΣ ΠΑΡΤΙΔΑΣ<, ΣΤΟΙΧΕΙΑ ΔΟΤΗ ΚΑΙ ΚΩΔΙΚΟΙ ΠΡΟΪΟΝΤΟΣ>' | Matched :- 'True'\n",
      "2021-06-19 00:30:56,665 : Heading Extraction Elocta_clean_ ΕΠΙΣΗΜΑΝΣΗ.json_E : Validation Passed | H | CAP |  el | 2 | Elocta_clean_ ΕΠΙΣΗΜΑΝΣΗ.json | currHeadId :- '22015' | prevHeadingCurrId :- '22014' | prevHeadingFoundId :- '22014'\n",
      "2021-06-19 00:30:57,090 : Heading Extraction Elocta_clean_ ΕΠΙΣΗΜΑΝΣΗ.json_E : Match Passed | H | CAP |  el | 2 | Elocta_clean_ ΕΠΙΣΗΜΑΝΣΗ.json | Doc txt :- '14. ΓΕΝΙΚΗ ΚΑΤΑΤΑΞΗ ΓΙΑ ΤΗ ΔΙΑΘΕΣΗ' | Qrd txt :- '14. ΓΕΝΙΚΗ ΚΑΤΑΤΑΞΗ ΓΙΑ ΤΗ ΔΙΑΘΕΣΗ' | Matched :- 'True'\n",
      "2021-06-19 00:30:57,107 : Heading Extraction Elocta_clean_ ΕΠΙΣΗΜΑΝΣΗ.json_E : Validation Passed | H | CAP |  el | 2 | Elocta_clean_ ΕΠΙΣΗΜΑΝΣΗ.json | currHeadId :- '22016' | prevHeadingCurrId :- '22015' | prevHeadingFoundId :- '22015'\n",
      "2021-06-19 00:30:57,465 : Heading Extraction Elocta_clean_ ΕΠΙΣΗΜΑΝΣΗ.json_E : Match Passed | H | CAP |  el | 2 | Elocta_clean_ ΕΠΙΣΗΜΑΝΣΗ.json | Doc txt :- '15. ΟΔΗΓΙΕΣ ΧΡΗΣΗΣ' | Qrd txt :- '15. ΟΔΗΓΙΕΣ ΧΡΗΣΗΣ' | Matched :- 'True'\n",
      "2021-06-19 00:30:57,482 : Heading Extraction Elocta_clean_ ΕΠΙΣΗΜΑΝΣΗ.json_E : Validation Passed | H | CAP |  el | 2 | Elocta_clean_ ΕΠΙΣΗΜΑΝΣΗ.json | currHeadId :- '22017' | prevHeadingCurrId :- '22016' | prevHeadingFoundId :- '22016'\n",
      "2021-06-19 00:30:57,838 : Heading Extraction Elocta_clean_ ΕΠΙΣΗΜΑΝΣΗ.json_E : Match Passed | H | CAP |  el | 2 | Elocta_clean_ ΕΠΙΣΗΜΑΝΣΗ.json | Doc txt :- '16. ΠΛΗΡΟΦΟΡΙΕΣ ΣΕ BRAILLE' | Qrd txt :- '16. ΠΛΗΡΟΦΟΡΙΕΣ ΣΕ BRAILLE' | Matched :- 'True'\n"
     ]
    },
    {
     "name": "stderr",
     "output_type": "stream",
     "text": [
      "2021-06-19 00:30:57,855 : Heading Extraction Elocta_clean_ ΕΠΙΣΗΜΑΝΣΗ.json_E : Validation Passed | H | CAP |  el | 2 | Elocta_clean_ ΕΠΙΣΗΜΑΝΣΗ.json | currHeadId :- '22018' | prevHeadingCurrId :- '22017' | prevHeadingFoundId :- '22017'\n",
      "2021-06-19 00:30:58,774 : Heading Extraction Elocta_clean_ ΕΠΙΣΗΜΑΝΣΗ.json_E : Match Passed | H | CAP |  el | 2 | Elocta_clean_ ΕΠΙΣΗΜΑΝΣΗ.json | Doc txt :- '17. ΜΟΝΑΔΙΚΟΣ ΑΝΑΓΝΩΡΙΣΤΙΚΟΣ ΚΩΔΙΚΟΣ – ΔΙΣΔΙΑΣΤΑΤΟΣ ΓΡΑΜΜΩΤΟΣ ΚΩΔΙΚΑΣ (2D)' | Qrd txt :- '17. ΜΟΝΑΔΙΚΟΣ ΑΝΑΓΝΩΡΙΣΤΙΚΟΣ ΚΩΔΙΚΟΣ – ΔΙΣΔΙΑΣΤΑΤΟΣ ΓΡΑΜΜΩΤΟΣ ΚΩΔΙΚΑΣ (2D)' | Matched :- 'True'\n",
      "2021-06-19 00:30:58,789 : Heading Extraction Elocta_clean_ ΕΠΙΣΗΜΑΝΣΗ.json_E : Validation Passed | H | CAP |  el | 2 | Elocta_clean_ ΕΠΙΣΗΜΑΝΣΗ.json | currHeadId :- '22019' | prevHeadingCurrId :- '22018' | prevHeadingFoundId :- '22018'\n",
      "2021-06-19 00:31:00,706 : Heading Extraction Elocta_clean_ ΕΠΙΣΗΜΑΝΣΗ.json_E : Match Passed | H | CAP |  el | 2 | Elocta_clean_ ΕΠΙΣΗΜΑΝΣΗ.json | Doc txt :- '18. ΜΟΝΑΔΙΚΟΣ ΑΝΑΓΝΩΡΙΣΤΙΚΟΣ ΚΩΔΙΚΟΣ – ΔΕΔΟΜΕΝΑ ΑΝΑΓΝΩΣΙΜΑ ΑΠΟ ΤΟΝ ΑΝΘΡΩΠΟ' | Qrd txt :- '18. ΜΟΝΑΔΙΚΟΣ ΑΝΑΓΝΩΡΙΣΤΙΚΟΣ ΚΩΔΙΚΟΣ – ΔΕΔΟΜΕΝΑ ΑΝΑΓΝΩΣΙΜΑ ΑΠΟ ΤΟΝ ΑΝΘΡΩΠΟ' | Matched :- 'True'\n",
      "2021-06-19 00:31:00,723 : Heading Extraction Elocta_clean_ ΕΠΙΣΗΜΑΝΣΗ.json_E : Validation Passed | H | CAP |  el | 2 | Elocta_clean_ ΕΠΙΣΗΜΑΝΣΗ.json | currHeadId :- '22020' | prevHeadingCurrId :- '22019' | prevHeadingFoundId :- '22019'\n",
      "2021-06-19 00:31:01,771 : Heading Extraction Elocta_clean_ ΕΠΙΣΗΜΑΝΣΗ.json_E : Match Passed | H | CAP |  el | 2 | Elocta_clean_ ΕΠΙΣΗΜΑΝΣΗ.json | Doc txt :- 'ΕΛΑΧΙΣΤΕΣ ΕΝΔΕΙΞΕΙΣ ΠΟΥ ΠΡΕΠΕΙ ΝΑ ΑΝΑΓΡΑΦΟΝΤΑΙ ΣΤΙΣ ΜΙΚΡΕΣ ΣΤΟΙΧΕΙΩΔΕΙΣ ΣΥΣΚΕΥΑΣΙΕΣ' | Qrd txt :- 'ΕΛΑΧΙΣΤΕΣ ΕΝΔΕΙΞΕΙΣ ΠΟΥ ΠΡΕΠΕΙ ΝΑ ΑΝΑΓΡΑΦΟΝΤΑΙ ΣΤΙΣ ΜΙΚΡΕΣ ΣΤΟΙΧΕΙΩΔΕΙΣ ΣΥΣΚΕΥΑΣΙΕΣ' | Matched :- 'True'\n",
      "2021-06-19 00:31:01,796 : Heading Extraction Elocta_clean_ ΕΠΙΣΗΜΑΝΣΗ.json_E : Validation Flow Is Broken | H | CAP |  el | 2 | Elocta_clean_ ΕΠΙΣΗΜΑΝΣΗ.json | currHeadId :- '22027' | prevHeadingCurrId :- '' | prevHeadingFoundId :- '22020'\n",
      "2021-06-19 00:31:01,811 : Heading Extraction Elocta_clean_ ΕΠΙΣΗΜΑΝΣΗ.json_E : Validation Passed | H | CAP |  el | 2 | Elocta_clean_ ΕΠΙΣΗΜΑΝΣΗ.json | currHeadId :- '22027' | prevHeadingCurrId :- '22020' | prevHeadingFoundId :- '22020'\n",
      "2021-06-19 00:31:03,570 : Heading Extraction Elocta_clean_ ΕΠΙΣΗΜΑΝΣΗ.json_E : Match Passed | H | CAP |  el | 2 | Elocta_clean_ ΕΠΙΣΗΜΑΝΣΗ.json | Doc txt :- '1. ΟΝΟΜΑΣΙΑ ΤΟΥ ΦΑΡΜΑΚΕΥΤΙΚΟΥ ΠΡΟΪΟΝΤΟΣ ΚΑΙ ΟΔΟΣ(ΟΙ) ΧΟΡΗΓΗΣΗΣ' | Qrd txt :- '1. ΟΝΟΜΑΣΙΑ ΤΟΥ ΦΑΡΜΑΚΕΥΤΙΚΟΥ ΠΡΟΪΟΝΤΟΣ ΚΑΙ ΟΔΟΣ(ΟΙ) ΧΟΡΗΓΗΣΗΣ' | Matched :- 'True'\n",
      "2021-06-19 00:31:03,589 : Heading Extraction Elocta_clean_ ΕΠΙΣΗΜΑΝΣΗ.json_E : Validation Passed | H | CAP |  el | 2 | Elocta_clean_ ΕΠΙΣΗΜΑΝΣΗ.json | currHeadId :- '22028' | prevHeadingCurrId :- '22027' | prevHeadingFoundId :- '22027'\n",
      "2021-06-19 00:31:06,181 : Heading Extraction Elocta_clean_ ΕΠΙΣΗΜΑΝΣΗ.json_E : Match Passed | H | CAP |  el | 2 | Elocta_clean_ ΕΠΙΣΗΜΑΝΣΗ.json | Doc txt :- '2. ΤΡΟΠΟΣ ΧΟΡΗΓΗΣΗΣ' | Qrd txt :- '2. ΤΡΟΠΟΣ ΧΟΡΗΓΗΣΗΣ' | Matched :- 'True'\n",
      "2021-06-19 00:31:06,199 : Heading Extraction Elocta_clean_ ΕΠΙΣΗΜΑΝΣΗ.json_E : Validation Passed | H | CAP |  el | 2 | Elocta_clean_ ΕΠΙΣΗΜΑΝΣΗ.json | currHeadId :- '22029' | prevHeadingCurrId :- '22028' | prevHeadingFoundId :- '22028'\n",
      "2021-06-19 00:31:06,478 : Heading Extraction Elocta_clean_ ΕΠΙΣΗΜΑΝΣΗ.json_E : Match Passed : <=4|5.26|(95, 95, 95)|0.98| | H | CAP |  el | 2 | Elocta_clean_ ΕΠΙΣΗΜΑΝΣΗ.json | Doc txt :- '3.       ΗΜΕΡΟΜΗΝΙΑ ΛΗΞΗΣ' | Qrd txt :- '8. ΗΜΕΡΟΜΗΝΙΑ ΛΗΞΗΣ' | Matched :- 'True'\n",
      "2021-06-19 00:31:06,499 : Heading Extraction Elocta_clean_ ΕΠΙΣΗΜΑΝΣΗ.json_E : Validation Failed As Previous Heading Found is not matching | H | CAP |  el | 2 | Elocta_clean_ ΕΠΙΣΗΜΑΝΣΗ.json | currHeadId :- '22010' | prevHeadingCurrId :- '22009' | prevHeadingFoundId :- '22029'\n",
      "2021-06-19 00:31:06,856 : Heading Extraction Elocta_clean_ ΕΠΙΣΗΜΑΝΣΗ.json_E : Match Passed | H | CAP |  el | 2 | Elocta_clean_ ΕΠΙΣΗΜΑΝΣΗ.json | Doc txt :- '3. ΗΜΕΡΟΜΗΝΙΑ ΛΗΞΗΣ' | Qrd txt :- '3. ΗΜΕΡΟΜΗΝΙΑ ΛΗΞΗΣ' | Matched :- 'True'\n",
      "2021-06-19 00:31:06,882 : Heading Extraction Elocta_clean_ ΕΠΙΣΗΜΑΝΣΗ.json_E : Validation Failed As Wrong Heading Found | H | CAP |  el | 2 | Elocta_clean_ ΕΠΙΣΗΜΑΝΣΗ.json | currHeadId :- '22024' | prevHeadingCurrId :- '' | prevHeadingFoundId :- '22029'\n",
      "2021-06-19 00:31:07,050 : Heading Extraction Elocta_clean_ ΕΠΙΣΗΜΑΝΣΗ.json_E : Match Passed | H | CAP |  el | 2 | Elocta_clean_ ΕΠΙΣΗΜΑΝΣΗ.json | Doc txt :- '3. ΗΜΕΡΟΜΗΝΙΑ ΛΗΞΗΣ' | Qrd txt :- '3. ΗΜΕΡΟΜΗΝΙΑ ΛΗΞΗΣ' | Matched :- 'True'\n",
      "2021-06-19 00:31:07,072 : Heading Extraction Elocta_clean_ ΕΠΙΣΗΜΑΝΣΗ.json_E : Validation Passed | H | CAP |  el | 2 | Elocta_clean_ ΕΠΙΣΗΜΑΝΣΗ.json | currHeadId :- '22030' | prevHeadingCurrId :- '22029' | prevHeadingFoundId :- '22029'\n",
      "2021-06-19 00:31:07,482 : Heading Extraction Elocta_clean_ ΕΠΙΣΗΜΑΝΣΗ.json_E : Match Passed : Contains<>|194.74|(49, 95, 86)|0.758| | H | CAP |  el | 2 | Elocta_clean_ ΕΠΙΣΗΜΑΝΣΗ.json | Doc txt :- '4.       ΑΡΙΘΜΟΣ ΠΑΡΤΙΔΑΣ' | Qrd txt :- '13. ΑΡΙΘΜΟΣ ΠΑΡΤΙΔΑΣ<, ΣΤΟΙΧΕΙΑ ΔΟΤΗ ΚΑΙ ΚΩΔΙΚΟΙ ΠΡΟΪΟΝΤΟΣ>' | Matched :- 'True'\n",
      "2021-06-19 00:31:07,510 : Heading Extraction Elocta_clean_ ΕΠΙΣΗΜΑΝΣΗ.json_E : Validation Failed As Previous Heading Found is not matching | H | CAP |  el | 2 | Elocta_clean_ ΕΠΙΣΗΜΑΝΣΗ.json | currHeadId :- '22015' | prevHeadingCurrId :- '22014' | prevHeadingFoundId :- '22030'\n",
      "2021-06-19 00:31:07,776 : Heading Extraction Elocta_clean_ ΕΠΙΣΗΜΑΝΣΗ.json_E : Match Passed : Contains<>|184.21|(52, 100, 90)|0.87| | H | CAP |  el | 2 | Elocta_clean_ ΕΠΙΣΗΜΑΝΣΗ.json | Doc txt :- '4.       ΑΡΙΘΜΟΣ ΠΑΡΤΙΔΑΣ' | Qrd txt :- '4. ΑΡΙΘΜΟΣ ΠΑΡΤΙΔΑΣ<, ΣΤΟΙΧΕΙΑ ΔΟΤΗ ΚΑΙ ΚΩΔΙΚΟΙ ΠΡΟΪΟΝΤΟΣ>' | Matched :- 'True'\n",
      "2021-06-19 00:31:07,801 : Heading Extraction Elocta_clean_ ΕΠΙΣΗΜΑΝΣΗ.json_E : Validation Failed As Wrong Heading Found | H | CAP |  el | 2 | Elocta_clean_ ΕΠΙΣΗΜΑΝΣΗ.json | currHeadId :- '22025' | prevHeadingCurrId :- '' | prevHeadingFoundId :- '22030'\n",
      "2021-06-19 00:31:07,917 : Heading Extraction Elocta_clean_ ΕΠΙΣΗΜΑΝΣΗ.json_E : Match Passed : Contains<>|184.21|(52, 100, 90)|0.87| | H | CAP |  el | 2 | Elocta_clean_ ΕΠΙΣΗΜΑΝΣΗ.json | Doc txt :- '4.       ΑΡΙΘΜΟΣ ΠΑΡΤΙΔΑΣ' | Qrd txt :- '4. ΑΡΙΘΜΟΣ ΠΑΡΤΙΔΑΣ<, ΣΤΟΙΧΕΙΑ ΔΟΤΗ ΚΑΙ ΚΩΔΙΚΟΙ ΠΡΟΪΟΝΤΟΣ>' | Matched :- 'True'\n",
      "2021-06-19 00:31:07,936 : Heading Extraction Elocta_clean_ ΕΠΙΣΗΜΑΝΣΗ.json_E : Validation Passed | H | CAP |  el | 2 | Elocta_clean_ ΕΠΙΣΗΜΑΝΣΗ.json | currHeadId :- '22031' | prevHeadingCurrId :- '22030' | prevHeadingFoundId :- '22030'\n",
      "2021-06-19 00:31:08,985 : Heading Extraction Elocta_clean_ ΕΠΙΣΗΜΑΝΣΗ.json_E : Match Passed : <=7|2.5|(98, 98, 100)|0.995| | H | CAP |  el | 2 | Elocta_clean_ ΕΠΙΣΗΜΑΝΣΗ.json | Doc txt :- '5.       ΠΕΡΙΕΧΟΜΕΝΟ ΚΑΤΑ ΒΑΡΟΣ, ΚΑΤ’ ΟΓΚΟ Ή ΚΑΤΑ ΜΟΝΑΔΑ' | Qrd txt :- '5. ΠΕΡΙΕΧΟΜΕΝΟ ΚΑΤΑ ΒΑΡΟΣ, ΚΑΤ' ΟΓΚΟ Ή ΚΑΤΑ ΜΟΝΑΔΑ' | Matched :- 'True'\n",
      "2021-06-19 00:31:09,000 : Heading Extraction Elocta_clean_ ΕΠΙΣΗΜΑΝΣΗ.json_E : Validation Passed | H | CAP |  el | 2 | Elocta_clean_ ΕΠΙΣΗΜΑΝΣΗ.json | currHeadId :- '22032' | prevHeadingCurrId :- '22031' | prevHeadingFoundId :- '22031'\n",
      "2021-06-19 00:31:09,725 : Heading Extraction Elocta_clean_ ΕΠΙΣΗΜΑΝΣΗ.json_E : Match Passed : <=4|6.25|(94, 94, 94)|0.975| | H | CAP |  el | 2 | Elocta_clean_ ΕΠΙΣΗΜΑΝΣΗ.json | Doc txt :- '6.       ΑΛΛΑ ΣΤΟΙΧΕΙΑ' | Qrd txt :- '5. ΑΛΛΑ ΣΤΟΙΧΕΙΑ' | Matched :- 'True'\n",
      "2021-06-19 00:31:09,744 : Heading Extraction Elocta_clean_ ΕΠΙΣΗΜΑΝΣΗ.json_E : Validation Failed As Wrong Heading Found | H | CAP |  el | 2 | Elocta_clean_ ΕΠΙΣΗΜΑΝΣΗ.json | currHeadId :- '22026' | prevHeadingCurrId :- '' | prevHeadingFoundId :- '22032'\n",
      "2021-06-19 00:31:09,847 : Heading Extraction Elocta_clean_ ΕΠΙΣΗΜΑΝΣΗ.json_E : Match Passed | H | CAP |  el | 2 | Elocta_clean_ ΕΠΙΣΗΜΑΝΣΗ.json | Doc txt :- '6. ΑΛΛΑ ΣΤΟΙΧΕΙΑ' | Qrd txt :- '6. ΑΛΛΑ ΣΤΟΙΧΕΙΑ' | Matched :- 'True'\n",
      "2021-06-19 00:31:09,869 : Heading Extraction Elocta_clean_ ΕΠΙΣΗΜΑΝΣΗ.json_E : Validation Passed | H | CAP |  el | 2 | Elocta_clean_ ΕΠΙΣΗΜΑΝΣΗ.json | currHeadId :- '22033' | prevHeadingCurrId :- '22032' | prevHeadingFoundId :- '22032'\n",
      "2021-06-19 00:31:09,991 : Heading Extraction Elocta_clean_ ΕΠΙΣΗΜΑΝΣΗ.json_E : Match Passed : Contains<>|76.0|(72, 88, 86)|0.922| | H | CAP |  el | 2 | Elocta_clean_ ΕΠΙΣΗΜΑΝΣΗ.json | Doc txt :- 'ΕΝΔΕΙΞΕΙΣ ΠΟΥ ΠΡΕΠΕΙ ΝΑ ΑΝΑΓΡΑΦΟΝΤΑΙ ΣΤΗΝ ΕΞΩΤΕΡΙΚΗ ΣΥΣΚΕΥΑΣΙΑ' | Qrd txt :- 'ΕΝΔΕΙΞΕΙΣ ΠΟΥ ΠΡΕΠΕΙ ΝΑ ΑΝΑΓΡΑΦΟΝΤΑΙ <ΣΤΗΝ ΕΞΩΤΕΡΙΚΗ ΣΥΣΚΕΥΑΣΙΑ> <ΚΑΙ> < ΣΤΗ ΣΤΟΙΧΕΙΩΔΗ ΣΥΣΚΕΥΑΣΙΑ>' | Matched :- 'True'\n"
     ]
    },
    {
     "name": "stderr",
     "output_type": "stream",
     "text": [
      "2021-06-19 00:31:10,021 : Heading Extraction Elocta_clean_ ΕΠΙΣΗΜΑΝΣΗ.json_E : Validation Failed As Wrong Heading Found | H | CAP |  el | 2 | Elocta_clean_ ΕΠΙΣΗΜΑΝΣΗ.json | currHeadId :- '22002' | prevHeadingCurrId :- '' | prevHeadingFoundId :- '22033'\n",
      "2021-06-19 00:31:11,013 : Heading Extraction Elocta_clean_ ΕΠΙΣΗΜΑΝΣΗ.json_E : End Of Sub Section | H | CAP |  el | 2 | Elocta_clean_ ΕΠΙΣΗΜΑΝΣΗ.json\n",
      "2021-06-19 00:31:11,066 : Heading Extraction Elocta_clean_ ΕΠΙΣΗΜΑΝΣΗ.json_E : Match Passed : Contains<>|76.0|(72, 88, 86)|0.922| | H | CAP |  el | 2 | Elocta_clean_ ΕΠΙΣΗΜΑΝΣΗ.json | Doc txt :- 'ΕΝΔΕΙΞΕΙΣ ΠΟΥ ΠΡΕΠΕΙ ΝΑ ΑΝΑΓΡΑΦΟΝΤΑΙ ΣΤΗΝ ΕΞΩΤΕΡΙΚΗ ΣΥΣΚΕΥΑΣΙΑ' | Qrd txt :- 'ΕΝΔΕΙΞΕΙΣ ΠΟΥ ΠΡΕΠΕΙ ΝΑ ΑΝΑΓΡΑΦΟΝΤΑΙ <ΣΤΗΝ ΕΞΩΤΕΡΙΚΗ ΣΥΣΚΕΥΑΣΙΑ> <ΚΑΙ> < ΣΤΗ ΣΤΟΙΧΕΙΩΔΗ ΣΥΣΚΕΥΑΣΙΑ>' | Matched :- 'True'\n",
      "2021-06-19 00:31:11,078 : Heading Extraction Elocta_clean_ ΕΠΙΣΗΜΑΝΣΗ.json_E : Validation Passed As This The First Heading | H | CAP |  el | 2 | Elocta_clean_ ΕΠΙΣΗΜΑΝΣΗ.json | currHeadId :- '22002' | prevHeadingCurrId :- '' | prevHeadingFoundId :- ''\n"
     ]
    },
    {
     "name": "stdout",
     "output_type": "stream",
     "text": [
      "oooooooooooooooooooooooooooooooooooooooo END OF Sub Section oooooooooooooooooooooooooooooooooooooooooooooooooooooooooooo\n"
     ]
    },
    {
     "name": "stderr",
     "output_type": "stream",
     "text": [
      "2021-06-19 00:31:11,637 : Heading Extraction Elocta_clean_ ΕΠΙΣΗΜΑΝΣΗ.json_E : Match Passed | H | CAP |  el | 2 | Elocta_clean_ ΕΠΙΣΗΜΑΝΣΗ.json | Doc txt :- '1. ΟΝΟΜΑΣΙΑ ΤΟΥ ΦΑΡΜΑΚΕΥΤΙΚΟΥ ΠΡΟΪΟΝΤΟΣ' | Qrd txt :- '1. ΟΝΟΜΑΣΙΑ ΤΟΥ ΦΑΡΜΑΚΕΥΤΙΚΟΥ ΠΡΟΪΟΝΤΟΣ' | Matched :- 'True'\n",
      "2021-06-19 00:31:11,654 : Heading Extraction Elocta_clean_ ΕΠΙΣΗΜΑΝΣΗ.json_E : Validation Passed | H | CAP |  el | 2 | Elocta_clean_ ΕΠΙΣΗΜΑΝΣΗ.json | currHeadId :- '22003' | prevHeadingCurrId :- '22002' | prevHeadingFoundId :- '22002'\n",
      "2021-06-19 00:31:13,988 : Heading Extraction Elocta_clean_ ΕΠΙΣΗΜΑΝΣΗ.json_E : Match Passed | H | CAP |  el | 2 | Elocta_clean_ ΕΠΙΣΗΜΑΝΣΗ.json | Doc txt :- '2. ΣΥΝΘΕΣΗ ΣΕ ΔΡΑΣΤΙΚΗ(ΕΣ) ΟΥΣΙΑ(ΕΣ)' | Qrd txt :- '2. ΣΥΝΘΕΣΗ ΣΕ ΔΡΑΣΤΙΚΗ(ΕΣ) ΟΥΣΙΑ(ΕΣ)' | Matched :- 'True'\n",
      "2021-06-19 00:31:14,007 : Heading Extraction Elocta_clean_ ΕΠΙΣΗΜΑΝΣΗ.json_E : Validation Passed | H | CAP |  el | 2 | Elocta_clean_ ΕΠΙΣΗΜΑΝΣΗ.json | currHeadId :- '22004' | prevHeadingCurrId :- '22003' | prevHeadingFoundId :- '22003'\n",
      "2021-06-19 00:31:15,061 : Heading Extraction Elocta_clean_ ΕΠΙΣΗΜΑΝΣΗ.json_E : Match Passed | H | CAP |  el | 2 | Elocta_clean_ ΕΠΙΣΗΜΑΝΣΗ.json | Doc txt :- '3. ΚΑΤΑΛΟΓΟΣ ΕΚΔΟΧΩΝ' | Qrd txt :- '3. ΚΑΤΑΛΟΓΟΣ ΕΚΔΟΧΩΝ' | Matched :- 'True'\n",
      "2021-06-19 00:31:15,080 : Heading Extraction Elocta_clean_ ΕΠΙΣΗΜΑΝΣΗ.json_E : Validation Passed | H | CAP |  el | 2 | Elocta_clean_ ΕΠΙΣΗΜΑΝΣΗ.json | currHeadId :- '22005' | prevHeadingCurrId :- '22004' | prevHeadingFoundId :- '22004'\n",
      "2021-06-19 00:31:17,196 : Heading Extraction Elocta_clean_ ΕΠΙΣΗΜΑΝΣΗ.json_E : Match Passed | H | CAP |  el | 2 | Elocta_clean_ ΕΠΙΣΗΜΑΝΣΗ.json | Doc txt :- '4. ΦΑΡΜΑΚΟΤΕΧΝΙΚΗ ΜΟΡΦΗ ΚΑΙ ΠΕΡΙΕΧΟΜΕΝΟ' | Qrd txt :- '4. ΦΑΡΜΑΚΟΤΕΧΝΙΚΗ ΜΟΡΦΗ ΚΑΙ ΠΕΡΙΕΧΟΜΕΝΟ' | Matched :- 'True'\n",
      "2021-06-19 00:31:17,232 : Heading Extraction Elocta_clean_ ΕΠΙΣΗΜΑΝΣΗ.json_E : Validation Passed | H | CAP |  el | 2 | Elocta_clean_ ΕΠΙΣΗΜΑΝΣΗ.json | currHeadId :- '22006' | prevHeadingCurrId :- '22005' | prevHeadingFoundId :- '22005'\n",
      "2021-06-19 00:31:19,616 : Heading Extraction Elocta_clean_ ΕΠΙΣΗΜΑΝΣΗ.json_E : Match Passed | H | CAP |  el | 2 | Elocta_clean_ ΕΠΙΣΗΜΑΝΣΗ.json | Doc txt :- '5. ΤΡΟΠΟΣ ΚΑΙ ΟΔΟΣ(ΟΙ) ΧΟΡΗΓΗΣΗΣ' | Qrd txt :- '5. ΤΡΟΠΟΣ ΚΑΙ ΟΔΟΣ(ΟΙ) ΧΟΡΗΓΗΣΗΣ' | Matched :- 'True'\n",
      "2021-06-19 00:31:19,634 : Heading Extraction Elocta_clean_ ΕΠΙΣΗΜΑΝΣΗ.json_E : Validation Passed | H | CAP |  el | 2 | Elocta_clean_ ΕΠΙΣΗΜΑΝΣΗ.json | currHeadId :- '22007' | prevHeadingCurrId :- '22006' | prevHeadingFoundId :- '22006'\n",
      "2021-06-19 00:31:25,490 : Heading Extraction Elocta_clean_ ΕΠΙΣΗΜΑΝΣΗ.json_E : Match Passed | H | CAP |  el | 2 | Elocta_clean_ ΕΠΙΣΗΜΑΝΣΗ.json | Doc txt :- '6. ΕΙΔΙΚΗ ΠΡΟΕΙΔΟΠΟΙΗΣΗ ΣΥΜΦΩΝΑ ΜΕ ΤΗΝ ΟΠΟΙΑ ΤΟ ΦΑΡΜΑΚΕΥΤΙΚΟ ΠΡΟΪΟΝ ΠΡΕΠΕΙ ΝΑ ΦΥΛΑΣΣΕΤΑΙ ΣΕ ΘΕΣΗ ΤΗΝ ΟΠΟΙΑ ΔΕΝ ΒΛΕΠΟΥΝ ΚΑΙ ΔΕΝ ΠΡΟΣΕΓΓΙΖΟΥΝ ΤΑ ΠΑΙΔΙΑ' | Qrd txt :- '6. ΕΙΔΙΚΗ ΠΡΟΕΙΔΟΠΟΙΗΣΗ ΣΥΜΦΩΝΑ ΜΕ ΤΗΝ ΟΠΟΙΑ ΤΟ ΦΑΡΜΑΚΕΥΤΙΚΟ ΠΡΟΪΟΝ ΠΡΕΠΕΙ ΝΑ ΦΥΛΑΣΣΕΤΑΙ ΣΕ ΘΕΣΗ ΤΗΝ ΟΠΟΙΑ ΔΕΝ ΒΛΕΠΟΥΝ ΚΑΙ ΔΕΝ ΠΡΟΣΕΓΓΙΖΟΥΝ ΤΑ ΠΑΙΔΙΑ' | Matched :- 'True'\n",
      "2021-06-19 00:31:25,506 : Heading Extraction Elocta_clean_ ΕΠΙΣΗΜΑΝΣΗ.json_E : Validation Passed | H | CAP |  el | 2 | Elocta_clean_ ΕΠΙΣΗΜΑΝΣΗ.json | currHeadId :- '22008' | prevHeadingCurrId :- '22007' | prevHeadingFoundId :- '22007'\n",
      "2021-06-19 00:31:26,767 : Heading Extraction Elocta_clean_ ΕΠΙΣΗΜΑΝΣΗ.json_E : Match Passed | H | CAP |  el | 2 | Elocta_clean_ ΕΠΙΣΗΜΑΝΣΗ.json | Doc txt :- '7. ΑΛΛΗ(ΕΣ) ΕΙΔΙΚΗ(ΕΣ) ΠΡΟΕΙΔΟΠΟΙΗΣΗ(ΕΙΣ), ΕΑΝ ΕΙΝΑΙ ΑΠΑΡΑΙΤΗΤΗ(ΕΣ)' | Qrd txt :- '7. ΑΛΛΗ(ΕΣ) ΕΙΔΙΚΗ(ΕΣ) ΠΡΟΕΙΔΟΠΟΙΗΣΗ(ΕΙΣ), ΕΑΝ ΕΙΝΑΙ ΑΠΑΡΑΙΤΗΤΗ(ΕΣ)' | Matched :- 'True'\n",
      "2021-06-19 00:31:26,785 : Heading Extraction Elocta_clean_ ΕΠΙΣΗΜΑΝΣΗ.json_E : Validation Passed | H | CAP |  el | 2 | Elocta_clean_ ΕΠΙΣΗΜΑΝΣΗ.json | currHeadId :- '22009' | prevHeadingCurrId :- '22008' | prevHeadingFoundId :- '22008'\n",
      "2021-06-19 00:31:27,027 : Heading Extraction Elocta_clean_ ΕΠΙΣΗΜΑΝΣΗ.json_E : Match Passed | H | CAP |  el | 2 | Elocta_clean_ ΕΠΙΣΗΜΑΝΣΗ.json | Doc txt :- '8. ΗΜΕΡΟΜΗΝΙΑ ΛΗΞΗΣ' | Qrd txt :- '8. ΗΜΕΡΟΜΗΝΙΑ ΛΗΞΗΣ' | Matched :- 'True'\n",
      "2021-06-19 00:31:27,041 : Heading Extraction Elocta_clean_ ΕΠΙΣΗΜΑΝΣΗ.json_E : Validation Passed | H | CAP |  el | 2 | Elocta_clean_ ΕΠΙΣΗΜΑΝΣΗ.json | currHeadId :- '22010' | prevHeadingCurrId :- '22009' | prevHeadingFoundId :- '22009'\n",
      "2021-06-19 00:31:28,131 : Heading Extraction Elocta_clean_ ΕΠΙΣΗΜΑΝΣΗ.json_E : Match Passed | H | CAP |  el | 2 | Elocta_clean_ ΕΠΙΣΗΜΑΝΣΗ.json | Doc txt :- '9. ΕΙΔΙΚΕΣ ΣΥΝΘΗΚΕΣ ΦΥΛΑΞΗΣ' | Qrd txt :- '9. ΕΙΔΙΚΕΣ ΣΥΝΘΗΚΕΣ ΦΥΛΑΞΗΣ' | Matched :- 'True'\n",
      "2021-06-19 00:31:28,147 : Heading Extraction Elocta_clean_ ΕΠΙΣΗΜΑΝΣΗ.json_E : Validation Passed | H | CAP |  el | 2 | Elocta_clean_ ΕΠΙΣΗΜΑΝΣΗ.json | currHeadId :- '22011' | prevHeadingCurrId :- '22010' | prevHeadingFoundId :- '22010'\n",
      "2021-06-19 00:31:30,945 : Heading Extraction Elocta_clean_ ΕΠΙΣΗΜΑΝΣΗ.json_E : Match Passed | H | CAP |  el | 2 | Elocta_clean_ ΕΠΙΣΗΜΑΝΣΗ.json | Doc txt :- '10. ΙΔΙΑΙΤΕΡΕΣ ΠΡΟΦΥΛΑΞΕΙΣ ΓΙΑ ΤΗΝ ΑΠΟΡΡΙΨΗ ΤΩΝ ΜΗ ΧΡΗΣΙΜΟΠΟΙΗΘΕΝΤΩΝ ΦΑΡΜΑΚΕΥΤΙΚΩΝ ΠΡΟΪΟΝΤΩΝ Ή ΤΩΝ ΥΠΟΛΕΙΜΜΑΤΩΝ ΠΟΥ ΠΡΟΕΡΧΟΝΤΑΙ ΑΠΟ ΑΥΤΑ, ΕΦΟΣΟΝ ΑΠΑΙΤΕΙΤΑΙ' | Qrd txt :- '10. ΙΔΙΑΙΤΕΡΕΣ ΠΡΟΦΥΛΑΞΕΙΣ ΓΙΑ ΤΗΝ ΑΠΟΡΡΙΨΗ ΤΩΝ ΜΗ ΧΡΗΣΙΜΟΠΟΙΗΘΕΝΤΩΝ ΦΑΡΜΑΚΕΥΤΙΚΩΝ ΠΡΟΪΟΝΤΩΝ Ή ΤΩΝ ΥΠΟΛΕΙΜΜΑΤΩΝ ΠΟΥ ΠΡΟΕΡΧΟΝΤΑΙ ΑΠΟ ΑΥΤΑ, ΕΦΟΣΟΝ ΑΠΑΙΤΕΙΤΑΙ' | Matched :- 'True'\n",
      "2021-06-19 00:31:30,964 : Heading Extraction Elocta_clean_ ΕΠΙΣΗΜΑΝΣΗ.json_E : Validation Passed | H | CAP |  el | 2 | Elocta_clean_ ΕΠΙΣΗΜΑΝΣΗ.json | currHeadId :- '22012' | prevHeadingCurrId :- '22011' | prevHeadingFoundId :- '22011'\n",
      "2021-06-19 00:31:31,457 : Heading Extraction Elocta_clean_ ΕΠΙΣΗΜΑΝΣΗ.json_E : Match Passed | H | CAP |  el | 2 | Elocta_clean_ ΕΠΙΣΗΜΑΝΣΗ.json | Doc txt :- '11. ΟΝΟΜΑ ΚΑΙ ΔΙΕΥΘΥΝΣΗ ΚΑΤΟΧΟΥ ΤΗΣ ΑΔΕΙΑΣ ΚΥΚΛΟΦΟΡΙΑΣ' | Qrd txt :- '11. ΟΝΟΜΑ ΚΑΙ ΔΙΕΥΘΥΝΣΗ ΚΑΤΟΧΟΥ ΤΗΣ ΑΔΕΙΑΣ ΚΥΚΛΟΦΟΡΙΑΣ' | Matched :- 'True'\n",
      "2021-06-19 00:31:31,476 : Heading Extraction Elocta_clean_ ΕΠΙΣΗΜΑΝΣΗ.json_E : Validation Passed | H | CAP |  el | 2 | Elocta_clean_ ΕΠΙΣΗΜΑΝΣΗ.json | currHeadId :- '22013' | prevHeadingCurrId :- '22012' | prevHeadingFoundId :- '22012'\n",
      "2021-06-19 00:31:33,437 : Heading Extraction Elocta_clean_ ΕΠΙΣΗΜΑΝΣΗ.json_E : Match Passed | H | CAP |  el | 2 | Elocta_clean_ ΕΠΙΣΗΜΑΝΣΗ.json | Doc txt :- '12. ΑΡΙΘΜΟΣ(ΟΙ) ΑΔΕΙΑΣ ΚΥΚΛΟΦΟΡΙΑΣ' | Qrd txt :- '12. ΑΡΙΘΜΟΣ(ΟΙ) ΑΔΕΙΑΣ ΚΥΚΛΟΦΟΡΙΑΣ' | Matched :- 'True'\n",
      "2021-06-19 00:31:33,457 : Heading Extraction Elocta_clean_ ΕΠΙΣΗΜΑΝΣΗ.json_E : Validation Passed | H | CAP |  el | 2 | Elocta_clean_ ΕΠΙΣΗΜΑΝΣΗ.json | currHeadId :- '22014' | prevHeadingCurrId :- '22013' | prevHeadingFoundId :- '22013'\n",
      "2021-06-19 00:31:34,185 : Heading Extraction Elocta_clean_ ΕΠΙΣΗΜΑΝΣΗ.json_E : Match Passed : Contains<>|175.0|(53, 100, 90)|0.873| | H | CAP |  el | 2 | Elocta_clean_ ΕΠΙΣΗΜΑΝΣΗ.json | Doc txt :- '13.     ΑΡΙΘΜΟΣ ΠΑΡΤΙΔΑΣ' | Qrd txt :- '13. ΑΡΙΘΜΟΣ ΠΑΡΤΙΔΑΣ<, ΣΤΟΙΧΕΙΑ ΔΟΤΗ ΚΑΙ ΚΩΔΙΚΟΙ ΠΡΟΪΟΝΤΟΣ>' | Matched :- 'True'\n",
      "2021-06-19 00:31:34,203 : Heading Extraction Elocta_clean_ ΕΠΙΣΗΜΑΝΣΗ.json_E : Validation Passed | H | CAP |  el | 2 | Elocta_clean_ ΕΠΙΣΗΜΑΝΣΗ.json | currHeadId :- '22015' | prevHeadingCurrId :- '22014' | prevHeadingFoundId :- '22014'\n",
      "2021-06-19 00:31:34,654 : Heading Extraction Elocta_clean_ ΕΠΙΣΗΜΑΝΣΗ.json_E : Match Passed | H | CAP |  el | 2 | Elocta_clean_ ΕΠΙΣΗΜΑΝΣΗ.json | Doc txt :- '14. ΓΕΝΙΚΗ ΚΑΤΑΤΑΞΗ ΓΙΑ ΤΗ ΔΙΑΘΕΣΗ' | Qrd txt :- '14. ΓΕΝΙΚΗ ΚΑΤΑΤΑΞΗ ΓΙΑ ΤΗ ΔΙΑΘΕΣΗ' | Matched :- 'True'\n",
      "2021-06-19 00:31:34,671 : Heading Extraction Elocta_clean_ ΕΠΙΣΗΜΑΝΣΗ.json_E : Validation Passed | H | CAP |  el | 2 | Elocta_clean_ ΕΠΙΣΗΜΑΝΣΗ.json | currHeadId :- '22016' | prevHeadingCurrId :- '22015' | prevHeadingFoundId :- '22015'\n",
      "2021-06-19 00:31:35,104 : Heading Extraction Elocta_clean_ ΕΠΙΣΗΜΑΝΣΗ.json_E : Match Passed | H | CAP |  el | 2 | Elocta_clean_ ΕΠΙΣΗΜΑΝΣΗ.json | Doc txt :- '15. ΟΔΗΓΙΕΣ ΧΡΗΣΗΣ' | Qrd txt :- '15. ΟΔΗΓΙΕΣ ΧΡΗΣΗΣ' | Matched :- 'True'\n",
      "2021-06-19 00:31:35,133 : Heading Extraction Elocta_clean_ ΕΠΙΣΗΜΑΝΣΗ.json_E : Validation Passed | H | CAP |  el | 2 | Elocta_clean_ ΕΠΙΣΗΜΑΝΣΗ.json | currHeadId :- '22017' | prevHeadingCurrId :- '22016' | prevHeadingFoundId :- '22016'\n",
      "2021-06-19 00:31:35,647 : Heading Extraction Elocta_clean_ ΕΠΙΣΗΜΑΝΣΗ.json_E : Match Passed | H | CAP |  el | 2 | Elocta_clean_ ΕΠΙΣΗΜΑΝΣΗ.json | Doc txt :- '16. ΠΛΗΡΟΦΟΡΙΕΣ ΣΕ BRAILLE' | Qrd txt :- '16. ΠΛΗΡΟΦΟΡΙΕΣ ΣΕ BRAILLE' | Matched :- 'True'\n"
     ]
    },
    {
     "name": "stderr",
     "output_type": "stream",
     "text": [
      "2021-06-19 00:31:35,664 : Heading Extraction Elocta_clean_ ΕΠΙΣΗΜΑΝΣΗ.json_E : Validation Passed | H | CAP |  el | 2 | Elocta_clean_ ΕΠΙΣΗΜΑΝΣΗ.json | currHeadId :- '22018' | prevHeadingCurrId :- '22017' | prevHeadingFoundId :- '22017'\n",
      "2021-06-19 00:31:36,816 : Heading Extraction Elocta_clean_ ΕΠΙΣΗΜΑΝΣΗ.json_E : Match Passed | H | CAP |  el | 2 | Elocta_clean_ ΕΠΙΣΗΜΑΝΣΗ.json | Doc txt :- '17. ΜΟΝΑΔΙΚΟΣ ΑΝΑΓΝΩΡΙΣΤΙΚΟΣ ΚΩΔΙΚΟΣ – ΔΙΣΔΙΑΣΤΑΤΟΣ ΓΡΑΜΜΩΤΟΣ ΚΩΔΙΚΑΣ (2D)' | Qrd txt :- '17. ΜΟΝΑΔΙΚΟΣ ΑΝΑΓΝΩΡΙΣΤΙΚΟΣ ΚΩΔΙΚΟΣ – ΔΙΣΔΙΑΣΤΑΤΟΣ ΓΡΑΜΜΩΤΟΣ ΚΩΔΙΚΑΣ (2D)' | Matched :- 'True'\n",
      "2021-06-19 00:31:36,833 : Heading Extraction Elocta_clean_ ΕΠΙΣΗΜΑΝΣΗ.json_E : Validation Passed | H | CAP |  el | 2 | Elocta_clean_ ΕΠΙΣΗΜΑΝΣΗ.json | currHeadId :- '22019' | prevHeadingCurrId :- '22018' | prevHeadingFoundId :- '22018'\n",
      "2021-06-19 00:31:39,030 : Heading Extraction Elocta_clean_ ΕΠΙΣΗΜΑΝΣΗ.json_E : Match Passed | H | CAP |  el | 2 | Elocta_clean_ ΕΠΙΣΗΜΑΝΣΗ.json | Doc txt :- '18. ΜΟΝΑΔΙΚΟΣ ΑΝΑΓΝΩΡΙΣΤΙΚΟΣ ΚΩΔΙΚΟΣ – ΔΕΔΟΜΕΝΑ ΑΝΑΓΝΩΣΙΜΑ ΑΠΟ ΤΟΝ ΑΝΘΡΩΠΟ' | Qrd txt :- '18. ΜΟΝΑΔΙΚΟΣ ΑΝΑΓΝΩΡΙΣΤΙΚΟΣ ΚΩΔΙΚΟΣ – ΔΕΔΟΜΕΝΑ ΑΝΑΓΝΩΣΙΜΑ ΑΠΟ ΤΟΝ ΑΝΘΡΩΠΟ' | Matched :- 'True'\n",
      "2021-06-19 00:31:39,047 : Heading Extraction Elocta_clean_ ΕΠΙΣΗΜΑΝΣΗ.json_E : Validation Passed | H | CAP |  el | 2 | Elocta_clean_ ΕΠΙΣΗΜΑΝΣΗ.json | currHeadId :- '22020' | prevHeadingCurrId :- '22019' | prevHeadingFoundId :- '22019'\n",
      "2021-06-19 00:31:39,922 : Heading Extraction Elocta_clean_ ΕΠΙΣΗΜΑΝΣΗ.json_E : Match Passed | H | CAP |  el | 2 | Elocta_clean_ ΕΠΙΣΗΜΑΝΣΗ.json | Doc txt :- 'ΕΛΑΧΙΣΤΕΣ ΕΝΔΕΙΞΕΙΣ ΠΟΥ ΠΡΕΠΕΙ ΝΑ ΑΝΑΓΡΑΦΟΝΤΑΙ ΣΤΙΣ ΜΙΚΡΕΣ ΣΤΟΙΧΕΙΩΔΕΙΣ ΣΥΣΚΕΥΑΣΙΕΣ' | Qrd txt :- 'ΕΛΑΧΙΣΤΕΣ ΕΝΔΕΙΞΕΙΣ ΠΟΥ ΠΡΕΠΕΙ ΝΑ ΑΝΑΓΡΑΦΟΝΤΑΙ ΣΤΙΣ ΜΙΚΡΕΣ ΣΤΟΙΧΕΙΩΔΕΙΣ ΣΥΣΚΕΥΑΣΙΕΣ' | Matched :- 'True'\n",
      "2021-06-19 00:31:39,939 : Heading Extraction Elocta_clean_ ΕΠΙΣΗΜΑΝΣΗ.json_E : Validation Flow Is Broken | H | CAP |  el | 2 | Elocta_clean_ ΕΠΙΣΗΜΑΝΣΗ.json | currHeadId :- '22027' | prevHeadingCurrId :- '' | prevHeadingFoundId :- '22020'\n",
      "2021-06-19 00:31:39,953 : Heading Extraction Elocta_clean_ ΕΠΙΣΗΜΑΝΣΗ.json_E : Validation Passed | H | CAP |  el | 2 | Elocta_clean_ ΕΠΙΣΗΜΑΝΣΗ.json | currHeadId :- '22027' | prevHeadingCurrId :- '22020' | prevHeadingFoundId :- '22020'\n",
      "2021-06-19 00:31:41,537 : Heading Extraction Elocta_clean_ ΕΠΙΣΗΜΑΝΣΗ.json_E : Match Passed | H | CAP |  el | 2 | Elocta_clean_ ΕΠΙΣΗΜΑΝΣΗ.json | Doc txt :- '1. ΟΝΟΜΑΣΙΑ ΤΟΥ ΦΑΡΜΑΚΕΥΤΙΚΟΥ ΠΡΟΪΟΝΤΟΣ ΚΑΙ ΟΔΟΣ(ΟΙ) ΧΟΡΗΓΗΣΗΣ' | Qrd txt :- '1. ΟΝΟΜΑΣΙΑ ΤΟΥ ΦΑΡΜΑΚΕΥΤΙΚΟΥ ΠΡΟΪΟΝΤΟΣ ΚΑΙ ΟΔΟΣ(ΟΙ) ΧΟΡΗΓΗΣΗΣ' | Matched :- 'True'\n",
      "2021-06-19 00:31:41,552 : Heading Extraction Elocta_clean_ ΕΠΙΣΗΜΑΝΣΗ.json_E : Validation Passed | H | CAP |  el | 2 | Elocta_clean_ ΕΠΙΣΗΜΑΝΣΗ.json | currHeadId :- '22028' | prevHeadingCurrId :- '22027' | prevHeadingFoundId :- '22027'\n",
      "2021-06-19 00:31:43,894 : Heading Extraction Elocta_clean_ ΕΠΙΣΗΜΑΝΣΗ.json_E : Match Passed | H | CAP |  el | 2 | Elocta_clean_ ΕΠΙΣΗΜΑΝΣΗ.json | Doc txt :- '2. ΤΡΟΠΟΣ ΧΟΡΗΓΗΣΗΣ' | Qrd txt :- '2. ΤΡΟΠΟΣ ΧΟΡΗΓΗΣΗΣ' | Matched :- 'True'\n",
      "2021-06-19 00:31:43,906 : Heading Extraction Elocta_clean_ ΕΠΙΣΗΜΑΝΣΗ.json_E : Validation Passed | H | CAP |  el | 2 | Elocta_clean_ ΕΠΙΣΗΜΑΝΣΗ.json | currHeadId :- '22029' | prevHeadingCurrId :- '22028' | prevHeadingFoundId :- '22028'\n",
      "2021-06-19 00:31:44,092 : Heading Extraction Elocta_clean_ ΕΠΙΣΗΜΑΝΣΗ.json_E : Match Passed : <=4|5.26|(95, 95, 95)|0.98| | H | CAP |  el | 2 | Elocta_clean_ ΕΠΙΣΗΜΑΝΣΗ.json | Doc txt :- '3.       ΗΜΕΡΟΜΗΝΙΑ ΛΗΞΗΣ' | Qrd txt :- '8. ΗΜΕΡΟΜΗΝΙΑ ΛΗΞΗΣ' | Matched :- 'True'\n",
      "2021-06-19 00:31:44,109 : Heading Extraction Elocta_clean_ ΕΠΙΣΗΜΑΝΣΗ.json_E : Validation Failed As Previous Heading Found is not matching | H | CAP |  el | 2 | Elocta_clean_ ΕΠΙΣΗΜΑΝΣΗ.json | currHeadId :- '22010' | prevHeadingCurrId :- '22009' | prevHeadingFoundId :- '22029'\n",
      "2021-06-19 00:31:44,367 : Heading Extraction Elocta_clean_ ΕΠΙΣΗΜΑΝΣΗ.json_E : Match Passed | H | CAP |  el | 2 | Elocta_clean_ ΕΠΙΣΗΜΑΝΣΗ.json | Doc txt :- '3. ΗΜΕΡΟΜΗΝΙΑ ΛΗΞΗΣ' | Qrd txt :- '3. ΗΜΕΡΟΜΗΝΙΑ ΛΗΞΗΣ' | Matched :- 'True'\n",
      "2021-06-19 00:31:44,383 : Heading Extraction Elocta_clean_ ΕΠΙΣΗΜΑΝΣΗ.json_E : Validation Failed As Wrong Heading Found | H | CAP |  el | 2 | Elocta_clean_ ΕΠΙΣΗΜΑΝΣΗ.json | currHeadId :- '22024' | prevHeadingCurrId :- '' | prevHeadingFoundId :- '22029'\n",
      "2021-06-19 00:31:44,475 : Heading Extraction Elocta_clean_ ΕΠΙΣΗΜΑΝΣΗ.json_E : Match Passed | H | CAP |  el | 2 | Elocta_clean_ ΕΠΙΣΗΜΑΝΣΗ.json | Doc txt :- '3. ΗΜΕΡΟΜΗΝΙΑ ΛΗΞΗΣ' | Qrd txt :- '3. ΗΜΕΡΟΜΗΝΙΑ ΛΗΞΗΣ' | Matched :- 'True'\n",
      "2021-06-19 00:31:44,490 : Heading Extraction Elocta_clean_ ΕΠΙΣΗΜΑΝΣΗ.json_E : Validation Passed | H | CAP |  el | 2 | Elocta_clean_ ΕΠΙΣΗΜΑΝΣΗ.json | currHeadId :- '22030' | prevHeadingCurrId :- '22029' | prevHeadingFoundId :- '22029'\n",
      "2021-06-19 00:31:44,781 : Heading Extraction Elocta_clean_ ΕΠΙΣΗΜΑΝΣΗ.json_E : Match Passed : Contains<>|194.74|(49, 95, 86)|0.758| | H | CAP |  el | 2 | Elocta_clean_ ΕΠΙΣΗΜΑΝΣΗ.json | Doc txt :- '4.       ΑΡΙΘΜΟΣ ΠΑΡΤΙΔΑΣ' | Qrd txt :- '13. ΑΡΙΘΜΟΣ ΠΑΡΤΙΔΑΣ<, ΣΤΟΙΧΕΙΑ ΔΟΤΗ ΚΑΙ ΚΩΔΙΚΟΙ ΠΡΟΪΟΝΤΟΣ>' | Matched :- 'True'\n",
      "2021-06-19 00:31:44,797 : Heading Extraction Elocta_clean_ ΕΠΙΣΗΜΑΝΣΗ.json_E : Validation Failed As Previous Heading Found is not matching | H | CAP |  el | 2 | Elocta_clean_ ΕΠΙΣΗΜΑΝΣΗ.json | currHeadId :- '22015' | prevHeadingCurrId :- '22014' | prevHeadingFoundId :- '22030'\n",
      "2021-06-19 00:31:45,017 : Heading Extraction Elocta_clean_ ΕΠΙΣΗΜΑΝΣΗ.json_E : Match Passed : Contains<>|184.21|(52, 100, 90)|0.87| | H | CAP |  el | 2 | Elocta_clean_ ΕΠΙΣΗΜΑΝΣΗ.json | Doc txt :- '4.       ΑΡΙΘΜΟΣ ΠΑΡΤΙΔΑΣ' | Qrd txt :- '4. ΑΡΙΘΜΟΣ ΠΑΡΤΙΔΑΣ<, ΣΤΟΙΧΕΙΑ ΔΟΤΗ ΚΑΙ ΚΩΔΙΚΟΙ ΠΡΟΪΟΝΤΟΣ>' | Matched :- 'True'\n",
      "2021-06-19 00:31:45,038 : Heading Extraction Elocta_clean_ ΕΠΙΣΗΜΑΝΣΗ.json_E : Validation Failed As Wrong Heading Found | H | CAP |  el | 2 | Elocta_clean_ ΕΠΙΣΗΜΑΝΣΗ.json | currHeadId :- '22025' | prevHeadingCurrId :- '' | prevHeadingFoundId :- '22030'\n",
      "2021-06-19 00:31:45,136 : Heading Extraction Elocta_clean_ ΕΠΙΣΗΜΑΝΣΗ.json_E : Match Passed : Contains<>|184.21|(52, 100, 90)|0.87| | H | CAP |  el | 2 | Elocta_clean_ ΕΠΙΣΗΜΑΝΣΗ.json | Doc txt :- '4.       ΑΡΙΘΜΟΣ ΠΑΡΤΙΔΑΣ' | Qrd txt :- '4. ΑΡΙΘΜΟΣ ΠΑΡΤΙΔΑΣ<, ΣΤΟΙΧΕΙΑ ΔΟΤΗ ΚΑΙ ΚΩΔΙΚΟΙ ΠΡΟΪΟΝΤΟΣ>' | Matched :- 'True'\n",
      "2021-06-19 00:31:45,152 : Heading Extraction Elocta_clean_ ΕΠΙΣΗΜΑΝΣΗ.json_E : Validation Passed | H | CAP |  el | 2 | Elocta_clean_ ΕΠΙΣΗΜΑΝΣΗ.json | currHeadId :- '22031' | prevHeadingCurrId :- '22030' | prevHeadingFoundId :- '22030'\n",
      "2021-06-19 00:31:46,002 : Heading Extraction Elocta_clean_ ΕΠΙΣΗΜΑΝΣΗ.json_E : Match Passed : <=7|2.5|(98, 98, 100)|0.995| | H | CAP |  el | 2 | Elocta_clean_ ΕΠΙΣΗΜΑΝΣΗ.json | Doc txt :- '5.       ΠΕΡΙΕΧΟΜΕΝΟ ΚΑΤΑ ΒΑΡΟΣ, ΚΑΤ’ ΟΓΚΟ Ή ΚΑΤΑ ΜΟΝΑΔΑ' | Qrd txt :- '5. ΠΕΡΙΕΧΟΜΕΝΟ ΚΑΤΑ ΒΑΡΟΣ, ΚΑΤ' ΟΓΚΟ Ή ΚΑΤΑ ΜΟΝΑΔΑ' | Matched :- 'True'\n",
      "2021-06-19 00:31:46,018 : Heading Extraction Elocta_clean_ ΕΠΙΣΗΜΑΝΣΗ.json_E : Validation Passed | H | CAP |  el | 2 | Elocta_clean_ ΕΠΙΣΗΜΑΝΣΗ.json | currHeadId :- '22032' | prevHeadingCurrId :- '22031' | prevHeadingFoundId :- '22031'\n",
      "2021-06-19 00:31:46,693 : Heading Extraction Elocta_clean_ ΕΠΙΣΗΜΑΝΣΗ.json_E : Match Passed : <=4|6.25|(94, 94, 94)|0.975| | H | CAP |  el | 2 | Elocta_clean_ ΕΠΙΣΗΜΑΝΣΗ.json | Doc txt :- '6.       ΑΛΛΑ ΣΤΟΙΧΕΙΑ' | Qrd txt :- '5. ΑΛΛΑ ΣΤΟΙΧΕΙΑ' | Matched :- 'True'\n",
      "2021-06-19 00:31:46,712 : Heading Extraction Elocta_clean_ ΕΠΙΣΗΜΑΝΣΗ.json_E : Validation Failed As Wrong Heading Found | H | CAP |  el | 2 | Elocta_clean_ ΕΠΙΣΗΜΑΝΣΗ.json | currHeadId :- '22026' | prevHeadingCurrId :- '' | prevHeadingFoundId :- '22032'\n",
      "2021-06-19 00:31:46,808 : Heading Extraction Elocta_clean_ ΕΠΙΣΗΜΑΝΣΗ.json_E : Match Passed | H | CAP |  el | 2 | Elocta_clean_ ΕΠΙΣΗΜΑΝΣΗ.json | Doc txt :- '6. ΑΛΛΑ ΣΤΟΙΧΕΙΑ' | Qrd txt :- '6. ΑΛΛΑ ΣΤΟΙΧΕΙΑ' | Matched :- 'True'\n",
      "2021-06-19 00:31:46,823 : Heading Extraction Elocta_clean_ ΕΠΙΣΗΜΑΝΣΗ.json_E : Validation Passed | H | CAP |  el | 2 | Elocta_clean_ ΕΠΙΣΗΜΑΝΣΗ.json | currHeadId :- '22033' | prevHeadingCurrId :- '22032' | prevHeadingFoundId :- '22032'\n",
      "2021-06-19 00:31:46,873 : Heading Extraction Elocta_clean_ ΕΠΙΣΗΜΑΝΣΗ.json_E : Match Passed : Contains<>|76.0|(72, 88, 86)|0.922| | H | CAP |  el | 2 | Elocta_clean_ ΕΠΙΣΗΜΑΝΣΗ.json | Doc txt :- 'ΕΝΔΕΙΞΕΙΣ ΠΟΥ ΠΡΕΠΕΙ ΝΑ ΑΝΑΓΡΑΦΟΝΤΑΙ ΣΤΗΝ ΕΞΩΤΕΡΙΚΗ ΣΥΣΚΕΥΑΣΙΑ' | Qrd txt :- 'ΕΝΔΕΙΞΕΙΣ ΠΟΥ ΠΡΕΠΕΙ ΝΑ ΑΝΑΓΡΑΦΟΝΤΑΙ <ΣΤΗΝ ΕΞΩΤΕΡΙΚΗ ΣΥΣΚΕΥΑΣΙΑ> <ΚΑΙ> < ΣΤΗ ΣΤΟΙΧΕΙΩΔΗ ΣΥΣΚΕΥΑΣΙΑ>' | Matched :- 'True'\n"
     ]
    },
    {
     "name": "stderr",
     "output_type": "stream",
     "text": [
      "2021-06-19 00:31:46,890 : Heading Extraction Elocta_clean_ ΕΠΙΣΗΜΑΝΣΗ.json_E : Validation Failed As Wrong Heading Found | H | CAP |  el | 2 | Elocta_clean_ ΕΠΙΣΗΜΑΝΣΗ.json | currHeadId :- '22002' | prevHeadingCurrId :- '' | prevHeadingFoundId :- '22033'\n",
      "2021-06-19 00:31:47,689 : Heading Extraction Elocta_clean_ ΕΠΙΣΗΜΑΝΣΗ.json_E : End Of Sub Section | H | CAP |  el | 2 | Elocta_clean_ ΕΠΙΣΗΜΑΝΣΗ.json\n",
      "2021-06-19 00:31:47,734 : Heading Extraction Elocta_clean_ ΕΠΙΣΗΜΑΝΣΗ.json_E : Match Passed : Contains<>|76.0|(72, 88, 86)|0.922| | H | CAP |  el | 2 | Elocta_clean_ ΕΠΙΣΗΜΑΝΣΗ.json | Doc txt :- 'ΕΝΔΕΙΞΕΙΣ ΠΟΥ ΠΡΕΠΕΙ ΝΑ ΑΝΑΓΡΑΦΟΝΤΑΙ ΣΤΗΝ ΕΞΩΤΕΡΙΚΗ ΣΥΣΚΕΥΑΣΙΑ' | Qrd txt :- 'ΕΝΔΕΙΞΕΙΣ ΠΟΥ ΠΡΕΠΕΙ ΝΑ ΑΝΑΓΡΑΦΟΝΤΑΙ <ΣΤΗΝ ΕΞΩΤΕΡΙΚΗ ΣΥΣΚΕΥΑΣΙΑ> <ΚΑΙ> < ΣΤΗ ΣΤΟΙΧΕΙΩΔΗ ΣΥΣΚΕΥΑΣΙΑ>' | Matched :- 'True'\n",
      "2021-06-19 00:31:47,746 : Heading Extraction Elocta_clean_ ΕΠΙΣΗΜΑΝΣΗ.json_E : Validation Passed As This The First Heading | H | CAP |  el | 2 | Elocta_clean_ ΕΠΙΣΗΜΑΝΣΗ.json | currHeadId :- '22002' | prevHeadingCurrId :- '' | prevHeadingFoundId :- ''\n"
     ]
    },
    {
     "name": "stdout",
     "output_type": "stream",
     "text": [
      "oooooooooooooooooooooooooooooooooooooooo END OF Sub Section oooooooooooooooooooooooooooooooooooooooooooooooooooooooooooo\n"
     ]
    },
    {
     "name": "stderr",
     "output_type": "stream",
     "text": [
      "2021-06-19 00:31:48,261 : Heading Extraction Elocta_clean_ ΕΠΙΣΗΜΑΝΣΗ.json_E : Match Passed | H | CAP |  el | 2 | Elocta_clean_ ΕΠΙΣΗΜΑΝΣΗ.json | Doc txt :- '1. ΟΝΟΜΑΣΙΑ ΤΟΥ ΦΑΡΜΑΚΕΥΤΙΚΟΥ ΠΡΟΪΟΝΤΟΣ' | Qrd txt :- '1. ΟΝΟΜΑΣΙΑ ΤΟΥ ΦΑΡΜΑΚΕΥΤΙΚΟΥ ΠΡΟΪΟΝΤΟΣ' | Matched :- 'True'\n",
      "2021-06-19 00:31:48,275 : Heading Extraction Elocta_clean_ ΕΠΙΣΗΜΑΝΣΗ.json_E : Validation Passed | H | CAP |  el | 2 | Elocta_clean_ ΕΠΙΣΗΜΑΝΣΗ.json | currHeadId :- '22003' | prevHeadingCurrId :- '22002' | prevHeadingFoundId :- '22002'\n",
      "2021-06-19 00:31:50,589 : Heading Extraction Elocta_clean_ ΕΠΙΣΗΜΑΝΣΗ.json_E : Match Passed | H | CAP |  el | 2 | Elocta_clean_ ΕΠΙΣΗΜΑΝΣΗ.json | Doc txt :- '2. ΣΥΝΘΕΣΗ ΣΕ ΔΡΑΣΤΙΚΗ(ΕΣ) ΟΥΣΙΑ(ΕΣ)' | Qrd txt :- '2. ΣΥΝΘΕΣΗ ΣΕ ΔΡΑΣΤΙΚΗ(ΕΣ) ΟΥΣΙΑ(ΕΣ)' | Matched :- 'True'\n",
      "2021-06-19 00:31:50,604 : Heading Extraction Elocta_clean_ ΕΠΙΣΗΜΑΝΣΗ.json_E : Validation Passed | H | CAP |  el | 2 | Elocta_clean_ ΕΠΙΣΗΜΑΝΣΗ.json | currHeadId :- '22004' | prevHeadingCurrId :- '22003' | prevHeadingFoundId :- '22003'\n",
      "2021-06-19 00:31:51,490 : Heading Extraction Elocta_clean_ ΕΠΙΣΗΜΑΝΣΗ.json_E : Match Passed | H | CAP |  el | 2 | Elocta_clean_ ΕΠΙΣΗΜΑΝΣΗ.json | Doc txt :- '3. ΚΑΤΑΛΟΓΟΣ ΕΚΔΟΧΩΝ' | Qrd txt :- '3. ΚΑΤΑΛΟΓΟΣ ΕΚΔΟΧΩΝ' | Matched :- 'True'\n",
      "2021-06-19 00:31:51,505 : Heading Extraction Elocta_clean_ ΕΠΙΣΗΜΑΝΣΗ.json_E : Validation Passed | H | CAP |  el | 2 | Elocta_clean_ ΕΠΙΣΗΜΑΝΣΗ.json | currHeadId :- '22005' | prevHeadingCurrId :- '22004' | prevHeadingFoundId :- '22004'\n",
      "2021-06-19 00:31:53,849 : Heading Extraction Elocta_clean_ ΕΠΙΣΗΜΑΝΣΗ.json_E : Match Passed | H | CAP |  el | 2 | Elocta_clean_ ΕΠΙΣΗΜΑΝΣΗ.json | Doc txt :- '4. ΦΑΡΜΑΚΟΤΕΧΝΙΚΗ ΜΟΡΦΗ ΚΑΙ ΠΕΡΙΕΧΟΜΕΝΟ' | Qrd txt :- '4. ΦΑΡΜΑΚΟΤΕΧΝΙΚΗ ΜΟΡΦΗ ΚΑΙ ΠΕΡΙΕΧΟΜΕΝΟ' | Matched :- 'True'\n",
      "2021-06-19 00:31:53,870 : Heading Extraction Elocta_clean_ ΕΠΙΣΗΜΑΝΣΗ.json_E : Validation Passed | H | CAP |  el | 2 | Elocta_clean_ ΕΠΙΣΗΜΑΝΣΗ.json | currHeadId :- '22006' | prevHeadingCurrId :- '22005' | prevHeadingFoundId :- '22005'\n",
      "2021-06-19 00:31:56,093 : Heading Extraction Elocta_clean_ ΕΠΙΣΗΜΑΝΣΗ.json_E : Match Passed | H | CAP |  el | 2 | Elocta_clean_ ΕΠΙΣΗΜΑΝΣΗ.json | Doc txt :- '5. ΤΡΟΠΟΣ ΚΑΙ ΟΔΟΣ(ΟΙ) ΧΟΡΗΓΗΣΗΣ' | Qrd txt :- '5. ΤΡΟΠΟΣ ΚΑΙ ΟΔΟΣ(ΟΙ) ΧΟΡΗΓΗΣΗΣ' | Matched :- 'True'\n",
      "2021-06-19 00:31:56,121 : Heading Extraction Elocta_clean_ ΕΠΙΣΗΜΑΝΣΗ.json_E : Validation Passed | H | CAP |  el | 2 | Elocta_clean_ ΕΠΙΣΗΜΑΝΣΗ.json | currHeadId :- '22007' | prevHeadingCurrId :- '22006' | prevHeadingFoundId :- '22006'\n",
      "2021-06-19 00:32:00,724 : Heading Extraction Elocta_clean_ ΕΠΙΣΗΜΑΝΣΗ.json_E : Match Passed | H | CAP |  el | 2 | Elocta_clean_ ΕΠΙΣΗΜΑΝΣΗ.json | Doc txt :- '6. ΕΙΔΙΚΗ ΠΡΟΕΙΔΟΠΟΙΗΣΗ ΣΥΜΦΩΝΑ ΜΕ ΤΗΝ ΟΠΟΙΑ ΤΟ ΦΑΡΜΑΚΕΥΤΙΚΟ ΠΡΟΪΟΝ ΠΡΕΠΕΙ ΝΑ ΦΥΛΑΣΣΕΤΑΙ ΣΕ ΘΕΣΗ ΤΗΝ ΟΠΟΙΑ ΔΕΝ ΒΛΕΠΟΥΝ ΚΑΙ ΔΕΝ ΠΡΟΣΕΓΓΙΖΟΥΝ ΤΑ ΠΑΙΔΙΑ' | Qrd txt :- '6. ΕΙΔΙΚΗ ΠΡΟΕΙΔΟΠΟΙΗΣΗ ΣΥΜΦΩΝΑ ΜΕ ΤΗΝ ΟΠΟΙΑ ΤΟ ΦΑΡΜΑΚΕΥΤΙΚΟ ΠΡΟΪΟΝ ΠΡΕΠΕΙ ΝΑ ΦΥΛΑΣΣΕΤΑΙ ΣΕ ΘΕΣΗ ΤΗΝ ΟΠΟΙΑ ΔΕΝ ΒΛΕΠΟΥΝ ΚΑΙ ΔΕΝ ΠΡΟΣΕΓΓΙΖΟΥΝ ΤΑ ΠΑΙΔΙΑ' | Matched :- 'True'\n",
      "2021-06-19 00:32:00,746 : Heading Extraction Elocta_clean_ ΕΠΙΣΗΜΑΝΣΗ.json_E : Validation Passed | H | CAP |  el | 2 | Elocta_clean_ ΕΠΙΣΗΜΑΝΣΗ.json | currHeadId :- '22008' | prevHeadingCurrId :- '22007' | prevHeadingFoundId :- '22007'\n",
      "2021-06-19 00:32:01,997 : Heading Extraction Elocta_clean_ ΕΠΙΣΗΜΑΝΣΗ.json_E : Match Passed | H | CAP |  el | 2 | Elocta_clean_ ΕΠΙΣΗΜΑΝΣΗ.json | Doc txt :- '7. ΑΛΛΗ(ΕΣ) ΕΙΔΙΚΗ(ΕΣ) ΠΡΟΕΙΔΟΠΟΙΗΣΗ(ΕΙΣ), ΕΑΝ ΕΙΝΑΙ ΑΠΑΡΑΙΤΗΤΗ(ΕΣ)' | Qrd txt :- '7. ΑΛΛΗ(ΕΣ) ΕΙΔΙΚΗ(ΕΣ) ΠΡΟΕΙΔΟΠΟΙΗΣΗ(ΕΙΣ), ΕΑΝ ΕΙΝΑΙ ΑΠΑΡΑΙΤΗΤΗ(ΕΣ)' | Matched :- 'True'\n",
      "2021-06-19 00:32:02,016 : Heading Extraction Elocta_clean_ ΕΠΙΣΗΜΑΝΣΗ.json_E : Validation Passed | H | CAP |  el | 2 | Elocta_clean_ ΕΠΙΣΗΜΑΝΣΗ.json | currHeadId :- '22009' | prevHeadingCurrId :- '22008' | prevHeadingFoundId :- '22008'\n",
      "2021-06-19 00:32:02,225 : Heading Extraction Elocta_clean_ ΕΠΙΣΗΜΑΝΣΗ.json_E : Match Passed | H | CAP |  el | 2 | Elocta_clean_ ΕΠΙΣΗΜΑΝΣΗ.json | Doc txt :- '8. ΗΜΕΡΟΜΗΝΙΑ ΛΗΞΗΣ' | Qrd txt :- '8. ΗΜΕΡΟΜΗΝΙΑ ΛΗΞΗΣ' | Matched :- 'True'\n",
      "2021-06-19 00:32:02,242 : Heading Extraction Elocta_clean_ ΕΠΙΣΗΜΑΝΣΗ.json_E : Validation Passed | H | CAP |  el | 2 | Elocta_clean_ ΕΠΙΣΗΜΑΝΣΗ.json | currHeadId :- '22010' | prevHeadingCurrId :- '22009' | prevHeadingFoundId :- '22009'\n",
      "2021-06-19 00:32:03,680 : Heading Extraction Elocta_clean_ ΕΠΙΣΗΜΑΝΣΗ.json_E : Match Passed | H | CAP |  el | 2 | Elocta_clean_ ΕΠΙΣΗΜΑΝΣΗ.json | Doc txt :- '9. ΕΙΔΙΚΕΣ ΣΥΝΘΗΚΕΣ ΦΥΛΑΞΗΣ' | Qrd txt :- '9. ΕΙΔΙΚΕΣ ΣΥΝΘΗΚΕΣ ΦΥΛΑΞΗΣ' | Matched :- 'True'\n",
      "2021-06-19 00:32:03,702 : Heading Extraction Elocta_clean_ ΕΠΙΣΗΜΑΝΣΗ.json_E : Validation Passed | H | CAP |  el | 2 | Elocta_clean_ ΕΠΙΣΗΜΑΝΣΗ.json | currHeadId :- '22011' | prevHeadingCurrId :- '22010' | prevHeadingFoundId :- '22010'\n",
      "2021-06-19 00:32:07,432 : Heading Extraction Elocta_clean_ ΕΠΙΣΗΜΑΝΣΗ.json_E : Match Passed | H | CAP |  el | 2 | Elocta_clean_ ΕΠΙΣΗΜΑΝΣΗ.json | Doc txt :- '10. ΙΔΙΑΙΤΕΡΕΣ ΠΡΟΦΥΛΑΞΕΙΣ ΓΙΑ ΤΗΝ ΑΠΟΡΡΙΨΗ ΤΩΝ ΜΗ ΧΡΗΣΙΜΟΠΟΙΗΘΕΝΤΩΝ ΦΑΡΜΑΚΕΥΤΙΚΩΝ ΠΡΟΪΟΝΤΩΝ Ή ΤΩΝ ΥΠΟΛΕΙΜΜΑΤΩΝ ΠΟΥ ΠΡΟΕΡΧΟΝΤΑΙ ΑΠΟ ΑΥΤΑ, ΕΦΟΣΟΝ ΑΠΑΙΤΕΙΤΑΙ' | Qrd txt :- '10. ΙΔΙΑΙΤΕΡΕΣ ΠΡΟΦΥΛΑΞΕΙΣ ΓΙΑ ΤΗΝ ΑΠΟΡΡΙΨΗ ΤΩΝ ΜΗ ΧΡΗΣΙΜΟΠΟΙΗΘΕΝΤΩΝ ΦΑΡΜΑΚΕΥΤΙΚΩΝ ΠΡΟΪΟΝΤΩΝ Ή ΤΩΝ ΥΠΟΛΕΙΜΜΑΤΩΝ ΠΟΥ ΠΡΟΕΡΧΟΝΤΑΙ ΑΠΟ ΑΥΤΑ, ΕΦΟΣΟΝ ΑΠΑΙΤΕΙΤΑΙ' | Matched :- 'True'\n",
      "2021-06-19 00:32:07,447 : Heading Extraction Elocta_clean_ ΕΠΙΣΗΜΑΝΣΗ.json_E : Validation Passed | H | CAP |  el | 2 | Elocta_clean_ ΕΠΙΣΗΜΑΝΣΗ.json | currHeadId :- '22012' | prevHeadingCurrId :- '22011' | prevHeadingFoundId :- '22011'\n",
      "2021-06-19 00:32:07,978 : Heading Extraction Elocta_clean_ ΕΠΙΣΗΜΑΝΣΗ.json_E : Match Passed | H | CAP |  el | 2 | Elocta_clean_ ΕΠΙΣΗΜΑΝΣΗ.json | Doc txt :- '11. ΟΝΟΜΑ ΚΑΙ ΔΙΕΥΘΥΝΣΗ ΚΑΤΟΧΟΥ ΤΗΣ ΑΔΕΙΑΣ ΚΥΚΛΟΦΟΡΙΑΣ' | Qrd txt :- '11. ΟΝΟΜΑ ΚΑΙ ΔΙΕΥΘΥΝΣΗ ΚΑΤΟΧΟΥ ΤΗΣ ΑΔΕΙΑΣ ΚΥΚΛΟΦΟΡΙΑΣ' | Matched :- 'True'\n",
      "2021-06-19 00:32:07,996 : Heading Extraction Elocta_clean_ ΕΠΙΣΗΜΑΝΣΗ.json_E : Validation Passed | H | CAP |  el | 2 | Elocta_clean_ ΕΠΙΣΗΜΑΝΣΗ.json | currHeadId :- '22013' | prevHeadingCurrId :- '22012' | prevHeadingFoundId :- '22012'\n",
      "2021-06-19 00:32:09,731 : Heading Extraction Elocta_clean_ ΕΠΙΣΗΜΑΝΣΗ.json_E : Match Passed | H | CAP |  el | 2 | Elocta_clean_ ΕΠΙΣΗΜΑΝΣΗ.json | Doc txt :- '12. ΑΡΙΘΜΟΣ(ΟΙ) ΑΔΕΙΑΣ ΚΥΚΛΟΦΟΡΙΑΣ' | Qrd txt :- '12. ΑΡΙΘΜΟΣ(ΟΙ) ΑΔΕΙΑΣ ΚΥΚΛΟΦΟΡΙΑΣ' | Matched :- 'True'\n",
      "2021-06-19 00:32:09,747 : Heading Extraction Elocta_clean_ ΕΠΙΣΗΜΑΝΣΗ.json_E : Validation Passed | H | CAP |  el | 2 | Elocta_clean_ ΕΠΙΣΗΜΑΝΣΗ.json | currHeadId :- '22014' | prevHeadingCurrId :- '22013' | prevHeadingFoundId :- '22013'\n",
      "2021-06-19 00:32:10,434 : Heading Extraction Elocta_clean_ ΕΠΙΣΗΜΑΝΣΗ.json_E : Match Passed : Contains<>|175.0|(53, 100, 90)|0.873| | H | CAP |  el | 2 | Elocta_clean_ ΕΠΙΣΗΜΑΝΣΗ.json | Doc txt :- '13.     ΑΡΙΘΜΟΣ ΠΑΡΤΙΔΑΣ' | Qrd txt :- '13. ΑΡΙΘΜΟΣ ΠΑΡΤΙΔΑΣ<, ΣΤΟΙΧΕΙΑ ΔΟΤΗ ΚΑΙ ΚΩΔΙΚΟΙ ΠΡΟΪΟΝΤΟΣ>' | Matched :- 'True'\n",
      "2021-06-19 00:32:10,451 : Heading Extraction Elocta_clean_ ΕΠΙΣΗΜΑΝΣΗ.json_E : Validation Passed | H | CAP |  el | 2 | Elocta_clean_ ΕΠΙΣΗΜΑΝΣΗ.json | currHeadId :- '22015' | prevHeadingCurrId :- '22014' | prevHeadingFoundId :- '22014'\n",
      "2021-06-19 00:32:10,875 : Heading Extraction Elocta_clean_ ΕΠΙΣΗΜΑΝΣΗ.json_E : Match Passed | H | CAP |  el | 2 | Elocta_clean_ ΕΠΙΣΗΜΑΝΣΗ.json | Doc txt :- '14. ΓΕΝΙΚΗ ΚΑΤΑΤΑΞΗ ΓΙΑ ΤΗ ΔΙΑΘΕΣΗ' | Qrd txt :- '14. ΓΕΝΙΚΗ ΚΑΤΑΤΑΞΗ ΓΙΑ ΤΗ ΔΙΑΘΕΣΗ' | Matched :- 'True'\n",
      "2021-06-19 00:32:10,892 : Heading Extraction Elocta_clean_ ΕΠΙΣΗΜΑΝΣΗ.json_E : Validation Passed | H | CAP |  el | 2 | Elocta_clean_ ΕΠΙΣΗΜΑΝΣΗ.json | currHeadId :- '22016' | prevHeadingCurrId :- '22015' | prevHeadingFoundId :- '22015'\n",
      "2021-06-19 00:32:11,222 : Heading Extraction Elocta_clean_ ΕΠΙΣΗΜΑΝΣΗ.json_E : Match Passed | H | CAP |  el | 2 | Elocta_clean_ ΕΠΙΣΗΜΑΝΣΗ.json | Doc txt :- '15. ΟΔΗΓΙΕΣ ΧΡΗΣΗΣ' | Qrd txt :- '15. ΟΔΗΓΙΕΣ ΧΡΗΣΗΣ' | Matched :- 'True'\n",
      "2021-06-19 00:32:11,235 : Heading Extraction Elocta_clean_ ΕΠΙΣΗΜΑΝΣΗ.json_E : Validation Passed | H | CAP |  el | 2 | Elocta_clean_ ΕΠΙΣΗΜΑΝΣΗ.json | currHeadId :- '22017' | prevHeadingCurrId :- '22016' | prevHeadingFoundId :- '22016'\n",
      "2021-06-19 00:32:11,588 : Heading Extraction Elocta_clean_ ΕΠΙΣΗΜΑΝΣΗ.json_E : Match Passed | H | CAP |  el | 2 | Elocta_clean_ ΕΠΙΣΗΜΑΝΣΗ.json | Doc txt :- '16. ΠΛΗΡΟΦΟΡΙΕΣ ΣΕ BRAILLE' | Qrd txt :- '16. ΠΛΗΡΟΦΟΡΙΕΣ ΣΕ BRAILLE' | Matched :- 'True'\n"
     ]
    },
    {
     "name": "stderr",
     "output_type": "stream",
     "text": [
      "2021-06-19 00:32:11,601 : Heading Extraction Elocta_clean_ ΕΠΙΣΗΜΑΝΣΗ.json_E : Validation Passed | H | CAP |  el | 2 | Elocta_clean_ ΕΠΙΣΗΜΑΝΣΗ.json | currHeadId :- '22018' | prevHeadingCurrId :- '22017' | prevHeadingFoundId :- '22017'\n",
      "2021-06-19 00:32:12,535 : Heading Extraction Elocta_clean_ ΕΠΙΣΗΜΑΝΣΗ.json_E : Match Passed | H | CAP |  el | 2 | Elocta_clean_ ΕΠΙΣΗΜΑΝΣΗ.json | Doc txt :- '17. ΜΟΝΑΔΙΚΟΣ ΑΝΑΓΝΩΡΙΣΤΙΚΟΣ ΚΩΔΙΚΟΣ – ΔΙΣΔΙΑΣΤΑΤΟΣ ΓΡΑΜΜΩΤΟΣ ΚΩΔΙΚΑΣ (2D)' | Qrd txt :- '17. ΜΟΝΑΔΙΚΟΣ ΑΝΑΓΝΩΡΙΣΤΙΚΟΣ ΚΩΔΙΚΟΣ – ΔΙΣΔΙΑΣΤΑΤΟΣ ΓΡΑΜΜΩΤΟΣ ΚΩΔΙΚΑΣ (2D)' | Matched :- 'True'\n",
      "2021-06-19 00:32:12,552 : Heading Extraction Elocta_clean_ ΕΠΙΣΗΜΑΝΣΗ.json_E : Validation Passed | H | CAP |  el | 2 | Elocta_clean_ ΕΠΙΣΗΜΑΝΣΗ.json | currHeadId :- '22019' | prevHeadingCurrId :- '22018' | prevHeadingFoundId :- '22018'\n",
      "2021-06-19 00:32:14,358 : Heading Extraction Elocta_clean_ ΕΠΙΣΗΜΑΝΣΗ.json_E : Match Passed | H | CAP |  el | 2 | Elocta_clean_ ΕΠΙΣΗΜΑΝΣΗ.json | Doc txt :- '18. ΜΟΝΑΔΙΚΟΣ ΑΝΑΓΝΩΡΙΣΤΙΚΟΣ ΚΩΔΙΚΟΣ – ΔΕΔΟΜΕΝΑ ΑΝΑΓΝΩΣΙΜΑ ΑΠΟ ΤΟΝ ΑΝΘΡΩΠΟ' | Qrd txt :- '18. ΜΟΝΑΔΙΚΟΣ ΑΝΑΓΝΩΡΙΣΤΙΚΟΣ ΚΩΔΙΚΟΣ – ΔΕΔΟΜΕΝΑ ΑΝΑΓΝΩΣΙΜΑ ΑΠΟ ΤΟΝ ΑΝΘΡΩΠΟ' | Matched :- 'True'\n",
      "2021-06-19 00:32:14,375 : Heading Extraction Elocta_clean_ ΕΠΙΣΗΜΑΝΣΗ.json_E : Validation Passed | H | CAP |  el | 2 | Elocta_clean_ ΕΠΙΣΗΜΑΝΣΗ.json | currHeadId :- '22020' | prevHeadingCurrId :- '22019' | prevHeadingFoundId :- '22019'\n",
      "2021-06-19 00:32:15,264 : Heading Extraction Elocta_clean_ ΕΠΙΣΗΜΑΝΣΗ.json_E : Match Passed | H | CAP |  el | 2 | Elocta_clean_ ΕΠΙΣΗΜΑΝΣΗ.json | Doc txt :- 'ΕΛΑΧΙΣΤΕΣ ΕΝΔΕΙΞΕΙΣ ΠΟΥ ΠΡΕΠΕΙ ΝΑ ΑΝΑΓΡΑΦΟΝΤΑΙ ΣΤΙΣ ΜΙΚΡΕΣ ΣΤΟΙΧΕΙΩΔΕΙΣ ΣΥΣΚΕΥΑΣΙΕΣ' | Qrd txt :- 'ΕΛΑΧΙΣΤΕΣ ΕΝΔΕΙΞΕΙΣ ΠΟΥ ΠΡΕΠΕΙ ΝΑ ΑΝΑΓΡΑΦΟΝΤΑΙ ΣΤΙΣ ΜΙΚΡΕΣ ΣΤΟΙΧΕΙΩΔΕΙΣ ΣΥΣΚΕΥΑΣΙΕΣ' | Matched :- 'True'\n",
      "2021-06-19 00:32:15,283 : Heading Extraction Elocta_clean_ ΕΠΙΣΗΜΑΝΣΗ.json_E : Validation Flow Is Broken | H | CAP |  el | 2 | Elocta_clean_ ΕΠΙΣΗΜΑΝΣΗ.json | currHeadId :- '22027' | prevHeadingCurrId :- '' | prevHeadingFoundId :- '22020'\n",
      "2021-06-19 00:32:15,293 : Heading Extraction Elocta_clean_ ΕΠΙΣΗΜΑΝΣΗ.json_E : Validation Passed | H | CAP |  el | 2 | Elocta_clean_ ΕΠΙΣΗΜΑΝΣΗ.json | currHeadId :- '22027' | prevHeadingCurrId :- '22020' | prevHeadingFoundId :- '22020'\n",
      "2021-06-19 00:32:16,850 : Heading Extraction Elocta_clean_ ΕΠΙΣΗΜΑΝΣΗ.json_E : Match Passed | H | CAP |  el | 2 | Elocta_clean_ ΕΠΙΣΗΜΑΝΣΗ.json | Doc txt :- '1. ΟΝΟΜΑΣΙΑ ΤΟΥ ΦΑΡΜΑΚΕΥΤΙΚΟΥ ΠΡΟΪΟΝΤΟΣ ΚΑΙ ΟΔΟΣ(ΟΙ) ΧΟΡΗΓΗΣΗΣ' | Qrd txt :- '1. ΟΝΟΜΑΣΙΑ ΤΟΥ ΦΑΡΜΑΚΕΥΤΙΚΟΥ ΠΡΟΪΟΝΤΟΣ ΚΑΙ ΟΔΟΣ(ΟΙ) ΧΟΡΗΓΗΣΗΣ' | Matched :- 'True'\n",
      "2021-06-19 00:32:16,863 : Heading Extraction Elocta_clean_ ΕΠΙΣΗΜΑΝΣΗ.json_E : Validation Passed | H | CAP |  el | 2 | Elocta_clean_ ΕΠΙΣΗΜΑΝΣΗ.json | currHeadId :- '22028' | prevHeadingCurrId :- '22027' | prevHeadingFoundId :- '22027'\n",
      "2021-06-19 00:32:19,136 : Heading Extraction Elocta_clean_ ΕΠΙΣΗΜΑΝΣΗ.json_E : Match Passed | H | CAP |  el | 2 | Elocta_clean_ ΕΠΙΣΗΜΑΝΣΗ.json | Doc txt :- '2. ΤΡΟΠΟΣ ΧΟΡΗΓΗΣΗΣ' | Qrd txt :- '2. ΤΡΟΠΟΣ ΧΟΡΗΓΗΣΗΣ' | Matched :- 'True'\n",
      "2021-06-19 00:32:19,158 : Heading Extraction Elocta_clean_ ΕΠΙΣΗΜΑΝΣΗ.json_E : Validation Passed | H | CAP |  el | 2 | Elocta_clean_ ΕΠΙΣΗΜΑΝΣΗ.json | currHeadId :- '22029' | prevHeadingCurrId :- '22028' | prevHeadingFoundId :- '22028'\n",
      "2021-06-19 00:32:19,362 : Heading Extraction Elocta_clean_ ΕΠΙΣΗΜΑΝΣΗ.json_E : Match Passed : <=4|5.26|(95, 95, 95)|0.98| | H | CAP |  el | 2 | Elocta_clean_ ΕΠΙΣΗΜΑΝΣΗ.json | Doc txt :- '3.       ΗΜΕΡΟΜΗΝΙΑ ΛΗΞΗΣ' | Qrd txt :- '8. ΗΜΕΡΟΜΗΝΙΑ ΛΗΞΗΣ' | Matched :- 'True'\n",
      "2021-06-19 00:32:19,377 : Heading Extraction Elocta_clean_ ΕΠΙΣΗΜΑΝΣΗ.json_E : Validation Failed As Previous Heading Found is not matching | H | CAP |  el | 2 | Elocta_clean_ ΕΠΙΣΗΜΑΝΣΗ.json | currHeadId :- '22010' | prevHeadingCurrId :- '22009' | prevHeadingFoundId :- '22029'\n",
      "2021-06-19 00:32:19,675 : Heading Extraction Elocta_clean_ ΕΠΙΣΗΜΑΝΣΗ.json_E : Match Passed | H | CAP |  el | 2 | Elocta_clean_ ΕΠΙΣΗΜΑΝΣΗ.json | Doc txt :- '3. ΗΜΕΡΟΜΗΝΙΑ ΛΗΞΗΣ' | Qrd txt :- '3. ΗΜΕΡΟΜΗΝΙΑ ΛΗΞΗΣ' | Matched :- 'True'\n",
      "2021-06-19 00:32:19,690 : Heading Extraction Elocta_clean_ ΕΠΙΣΗΜΑΝΣΗ.json_E : Validation Failed As Wrong Heading Found | H | CAP |  el | 2 | Elocta_clean_ ΕΠΙΣΗΜΑΝΣΗ.json | currHeadId :- '22024' | prevHeadingCurrId :- '' | prevHeadingFoundId :- '22029'\n",
      "2021-06-19 00:32:19,792 : Heading Extraction Elocta_clean_ ΕΠΙΣΗΜΑΝΣΗ.json_E : Match Passed | H | CAP |  el | 2 | Elocta_clean_ ΕΠΙΣΗΜΑΝΣΗ.json | Doc txt :- '3. ΗΜΕΡΟΜΗΝΙΑ ΛΗΞΗΣ' | Qrd txt :- '3. ΗΜΕΡΟΜΗΝΙΑ ΛΗΞΗΣ' | Matched :- 'True'\n",
      "2021-06-19 00:32:19,807 : Heading Extraction Elocta_clean_ ΕΠΙΣΗΜΑΝΣΗ.json_E : Validation Passed | H | CAP |  el | 2 | Elocta_clean_ ΕΠΙΣΗΜΑΝΣΗ.json | currHeadId :- '22030' | prevHeadingCurrId :- '22029' | prevHeadingFoundId :- '22029'\n",
      "2021-06-19 00:32:20,109 : Heading Extraction Elocta_clean_ ΕΠΙΣΗΜΑΝΣΗ.json_E : Match Passed : Contains<>|194.74|(49, 95, 86)|0.758| | H | CAP |  el | 2 | Elocta_clean_ ΕΠΙΣΗΜΑΝΣΗ.json | Doc txt :- '4.       ΑΡΙΘΜΟΣ ΠΑΡΤΙΔΑΣ' | Qrd txt :- '13. ΑΡΙΘΜΟΣ ΠΑΡΤΙΔΑΣ<, ΣΤΟΙΧΕΙΑ ΔΟΤΗ ΚΑΙ ΚΩΔΙΚΟΙ ΠΡΟΪΟΝΤΟΣ>' | Matched :- 'True'\n",
      "2021-06-19 00:32:20,130 : Heading Extraction Elocta_clean_ ΕΠΙΣΗΜΑΝΣΗ.json_E : Validation Failed As Previous Heading Found is not matching | H | CAP |  el | 2 | Elocta_clean_ ΕΠΙΣΗΜΑΝΣΗ.json | currHeadId :- '22015' | prevHeadingCurrId :- '22014' | prevHeadingFoundId :- '22030'\n",
      "2021-06-19 00:32:20,336 : Heading Extraction Elocta_clean_ ΕΠΙΣΗΜΑΝΣΗ.json_E : Match Passed : Contains<>|184.21|(52, 100, 90)|0.87| | H | CAP |  el | 2 | Elocta_clean_ ΕΠΙΣΗΜΑΝΣΗ.json | Doc txt :- '4.       ΑΡΙΘΜΟΣ ΠΑΡΤΙΔΑΣ' | Qrd txt :- '4. ΑΡΙΘΜΟΣ ΠΑΡΤΙΔΑΣ<, ΣΤΟΙΧΕΙΑ ΔΟΤΗ ΚΑΙ ΚΩΔΙΚΟΙ ΠΡΟΪΟΝΤΟΣ>' | Matched :- 'True'\n",
      "2021-06-19 00:32:20,355 : Heading Extraction Elocta_clean_ ΕΠΙΣΗΜΑΝΣΗ.json_E : Validation Failed As Wrong Heading Found | H | CAP |  el | 2 | Elocta_clean_ ΕΠΙΣΗΜΑΝΣΗ.json | currHeadId :- '22025' | prevHeadingCurrId :- '' | prevHeadingFoundId :- '22030'\n",
      "2021-06-19 00:32:20,461 : Heading Extraction Elocta_clean_ ΕΠΙΣΗΜΑΝΣΗ.json_E : Match Passed : Contains<>|184.21|(52, 100, 90)|0.87| | H | CAP |  el | 2 | Elocta_clean_ ΕΠΙΣΗΜΑΝΣΗ.json | Doc txt :- '4.       ΑΡΙΘΜΟΣ ΠΑΡΤΙΔΑΣ' | Qrd txt :- '4. ΑΡΙΘΜΟΣ ΠΑΡΤΙΔΑΣ<, ΣΤΟΙΧΕΙΑ ΔΟΤΗ ΚΑΙ ΚΩΔΙΚΟΙ ΠΡΟΪΟΝΤΟΣ>' | Matched :- 'True'\n",
      "2021-06-19 00:32:20,479 : Heading Extraction Elocta_clean_ ΕΠΙΣΗΜΑΝΣΗ.json_E : Validation Passed | H | CAP |  el | 2 | Elocta_clean_ ΕΠΙΣΗΜΑΝΣΗ.json | currHeadId :- '22031' | prevHeadingCurrId :- '22030' | prevHeadingFoundId :- '22030'\n",
      "2021-06-19 00:32:21,433 : Heading Extraction Elocta_clean_ ΕΠΙΣΗΜΑΝΣΗ.json_E : Match Passed : <=7|2.5|(98, 98, 100)|0.995| | H | CAP |  el | 2 | Elocta_clean_ ΕΠΙΣΗΜΑΝΣΗ.json | Doc txt :- '5.       ΠΕΡΙΕΧΟΜΕΝΟ ΚΑΤΑ ΒΑΡΟΣ, ΚΑΤ’ ΟΓΚΟ Ή ΚΑΤΑ ΜΟΝΑΔΑ' | Qrd txt :- '5. ΠΕΡΙΕΧΟΜΕΝΟ ΚΑΤΑ ΒΑΡΟΣ, ΚΑΤ' ΟΓΚΟ Ή ΚΑΤΑ ΜΟΝΑΔΑ' | Matched :- 'True'\n",
      "2021-06-19 00:32:21,460 : Heading Extraction Elocta_clean_ ΕΠΙΣΗΜΑΝΣΗ.json_E : Validation Passed | H | CAP |  el | 2 | Elocta_clean_ ΕΠΙΣΗΜΑΝΣΗ.json | currHeadId :- '22032' | prevHeadingCurrId :- '22031' | prevHeadingFoundId :- '22031'\n",
      "2021-06-19 00:32:22,241 : Heading Extraction Elocta_clean_ ΕΠΙΣΗΜΑΝΣΗ.json_E : Match Passed : <=4|6.25|(94, 94, 94)|0.975| | H | CAP |  el | 2 | Elocta_clean_ ΕΠΙΣΗΜΑΝΣΗ.json | Doc txt :- '6.       ΑΛΛΑ ΣΤΟΙΧΕΙΑ' | Qrd txt :- '5. ΑΛΛΑ ΣΤΟΙΧΕΙΑ' | Matched :- 'True'\n",
      "2021-06-19 00:32:22,260 : Heading Extraction Elocta_clean_ ΕΠΙΣΗΜΑΝΣΗ.json_E : Validation Failed As Wrong Heading Found | H | CAP |  el | 2 | Elocta_clean_ ΕΠΙΣΗΜΑΝΣΗ.json | currHeadId :- '22026' | prevHeadingCurrId :- '' | prevHeadingFoundId :- '22032'\n",
      "2021-06-19 00:32:22,371 : Heading Extraction Elocta_clean_ ΕΠΙΣΗΜΑΝΣΗ.json_E : Match Passed | H | CAP |  el | 2 | Elocta_clean_ ΕΠΙΣΗΜΑΝΣΗ.json | Doc txt :- '6. ΑΛΛΑ ΣΤΟΙΧΕΙΑ' | Qrd txt :- '6. ΑΛΛΑ ΣΤΟΙΧΕΙΑ' | Matched :- 'True'\n",
      "2021-06-19 00:32:22,386 : Heading Extraction Elocta_clean_ ΕΠΙΣΗΜΑΝΣΗ.json_E : Validation Passed | H | CAP |  el | 2 | Elocta_clean_ ΕΠΙΣΗΜΑΝΣΗ.json | currHeadId :- '22033' | prevHeadingCurrId :- '22032' | prevHeadingFoundId :- '22032'\n",
      "2021-06-19 00:32:22,439 : Heading Extraction Elocta_clean_ ΕΠΙΣΗΜΑΝΣΗ.json_E : Match Passed : Contains<>|76.0|(72, 88, 86)|0.922| | H | CAP |  el | 2 | Elocta_clean_ ΕΠΙΣΗΜΑΝΣΗ.json | Doc txt :- 'ΕΝΔΕΙΞΕΙΣ ΠΟΥ ΠΡΕΠΕΙ ΝΑ ΑΝΑΓΡΑΦΟΝΤΑΙ ΣΤΗΝ ΕΞΩΤΕΡΙΚΗ ΣΥΣΚΕΥΑΣΙΑ' | Qrd txt :- 'ΕΝΔΕΙΞΕΙΣ ΠΟΥ ΠΡΕΠΕΙ ΝΑ ΑΝΑΓΡΑΦΟΝΤΑΙ <ΣΤΗΝ ΕΞΩΤΕΡΙΚΗ ΣΥΣΚΕΥΑΣΙΑ> <ΚΑΙ> < ΣΤΗ ΣΤΟΙΧΕΙΩΔΗ ΣΥΣΚΕΥΑΣΙΑ>' | Matched :- 'True'\n"
     ]
    },
    {
     "name": "stderr",
     "output_type": "stream",
     "text": [
      "2021-06-19 00:32:22,458 : Heading Extraction Elocta_clean_ ΕΠΙΣΗΜΑΝΣΗ.json_E : Validation Failed As Wrong Heading Found | H | CAP |  el | 2 | Elocta_clean_ ΕΠΙΣΗΜΑΝΣΗ.json | currHeadId :- '22002' | prevHeadingCurrId :- '' | prevHeadingFoundId :- '22033'\n",
      "2021-06-19 00:32:23,365 : Heading Extraction Elocta_clean_ ΕΠΙΣΗΜΑΝΣΗ.json_E : End Of Sub Section | H | CAP |  el | 2 | Elocta_clean_ ΕΠΙΣΗΜΑΝΣΗ.json\n",
      "2021-06-19 00:32:23,410 : Heading Extraction Elocta_clean_ ΕΠΙΣΗΜΑΝΣΗ.json_E : Match Passed : Contains<>|76.0|(72, 88, 86)|0.922| | H | CAP |  el | 2 | Elocta_clean_ ΕΠΙΣΗΜΑΝΣΗ.json | Doc txt :- 'ΕΝΔΕΙΞΕΙΣ ΠΟΥ ΠΡΕΠΕΙ ΝΑ ΑΝΑΓΡΑΦΟΝΤΑΙ ΣΤΗΝ ΕΞΩΤΕΡΙΚΗ ΣΥΣΚΕΥΑΣΙΑ' | Qrd txt :- 'ΕΝΔΕΙΞΕΙΣ ΠΟΥ ΠΡΕΠΕΙ ΝΑ ΑΝΑΓΡΑΦΟΝΤΑΙ <ΣΤΗΝ ΕΞΩΤΕΡΙΚΗ ΣΥΣΚΕΥΑΣΙΑ> <ΚΑΙ> < ΣΤΗ ΣΤΟΙΧΕΙΩΔΗ ΣΥΣΚΕΥΑΣΙΑ>' | Matched :- 'True'\n",
      "2021-06-19 00:32:23,422 : Heading Extraction Elocta_clean_ ΕΠΙΣΗΜΑΝΣΗ.json_E : Validation Passed As This The First Heading | H | CAP |  el | 2 | Elocta_clean_ ΕΠΙΣΗΜΑΝΣΗ.json | currHeadId :- '22002' | prevHeadingCurrId :- '' | prevHeadingFoundId :- ''\n"
     ]
    },
    {
     "name": "stdout",
     "output_type": "stream",
     "text": [
      "oooooooooooooooooooooooooooooooooooooooo END OF Sub Section oooooooooooooooooooooooooooooooooooooooooooooooooooooooooooo\n"
     ]
    },
    {
     "name": "stderr",
     "output_type": "stream",
     "text": [
      "2021-06-19 00:32:23,951 : Heading Extraction Elocta_clean_ ΕΠΙΣΗΜΑΝΣΗ.json_E : Match Passed | H | CAP |  el | 2 | Elocta_clean_ ΕΠΙΣΗΜΑΝΣΗ.json | Doc txt :- '1. ΟΝΟΜΑΣΙΑ ΤΟΥ ΦΑΡΜΑΚΕΥΤΙΚΟΥ ΠΡΟΪΟΝΤΟΣ' | Qrd txt :- '1. ΟΝΟΜΑΣΙΑ ΤΟΥ ΦΑΡΜΑΚΕΥΤΙΚΟΥ ΠΡΟΪΟΝΤΟΣ' | Matched :- 'True'\n",
      "2021-06-19 00:32:23,970 : Heading Extraction Elocta_clean_ ΕΠΙΣΗΜΑΝΣΗ.json_E : Validation Passed | H | CAP |  el | 2 | Elocta_clean_ ΕΠΙΣΗΜΑΝΣΗ.json | currHeadId :- '22003' | prevHeadingCurrId :- '22002' | prevHeadingFoundId :- '22002'\n",
      "2021-06-19 00:32:26,365 : Heading Extraction Elocta_clean_ ΕΠΙΣΗΜΑΝΣΗ.json_E : Match Passed | H | CAP |  el | 2 | Elocta_clean_ ΕΠΙΣΗΜΑΝΣΗ.json | Doc txt :- '2. ΣΥΝΘΕΣΗ ΣΕ ΔΡΑΣΤΙΚΗ(ΕΣ) ΟΥΣΙΑ(ΕΣ)' | Qrd txt :- '2. ΣΥΝΘΕΣΗ ΣΕ ΔΡΑΣΤΙΚΗ(ΕΣ) ΟΥΣΙΑ(ΕΣ)' | Matched :- 'True'\n",
      "2021-06-19 00:32:26,379 : Heading Extraction Elocta_clean_ ΕΠΙΣΗΜΑΝΣΗ.json_E : Validation Passed | H | CAP |  el | 2 | Elocta_clean_ ΕΠΙΣΗΜΑΝΣΗ.json | currHeadId :- '22004' | prevHeadingCurrId :- '22003' | prevHeadingFoundId :- '22003'\n",
      "2021-06-19 00:32:27,305 : Heading Extraction Elocta_clean_ ΕΠΙΣΗΜΑΝΣΗ.json_E : Match Passed | H | CAP |  el | 2 | Elocta_clean_ ΕΠΙΣΗΜΑΝΣΗ.json | Doc txt :- '3. ΚΑΤΑΛΟΓΟΣ ΕΚΔΟΧΩΝ' | Qrd txt :- '3. ΚΑΤΑΛΟΓΟΣ ΕΚΔΟΧΩΝ' | Matched :- 'True'\n",
      "2021-06-19 00:32:27,321 : Heading Extraction Elocta_clean_ ΕΠΙΣΗΜΑΝΣΗ.json_E : Validation Passed | H | CAP |  el | 2 | Elocta_clean_ ΕΠΙΣΗΜΑΝΣΗ.json | currHeadId :- '22005' | prevHeadingCurrId :- '22004' | prevHeadingFoundId :- '22004'\n",
      "2021-06-19 00:32:29,790 : Heading Extraction Elocta_clean_ ΕΠΙΣΗΜΑΝΣΗ.json_E : Match Passed | H | CAP |  el | 2 | Elocta_clean_ ΕΠΙΣΗΜΑΝΣΗ.json | Doc txt :- '4. ΦΑΡΜΑΚΟΤΕΧΝΙΚΗ ΜΟΡΦΗ ΚΑΙ ΠΕΡΙΕΧΟΜΕΝΟ' | Qrd txt :- '4. ΦΑΡΜΑΚΟΤΕΧΝΙΚΗ ΜΟΡΦΗ ΚΑΙ ΠΕΡΙΕΧΟΜΕΝΟ' | Matched :- 'True'\n",
      "2021-06-19 00:32:29,809 : Heading Extraction Elocta_clean_ ΕΠΙΣΗΜΑΝΣΗ.json_E : Validation Passed | H | CAP |  el | 2 | Elocta_clean_ ΕΠΙΣΗΜΑΝΣΗ.json | currHeadId :- '22006' | prevHeadingCurrId :- '22005' | prevHeadingFoundId :- '22005'\n",
      "2021-06-19 00:32:31,970 : Heading Extraction Elocta_clean_ ΕΠΙΣΗΜΑΝΣΗ.json_E : Match Passed | H | CAP |  el | 2 | Elocta_clean_ ΕΠΙΣΗΜΑΝΣΗ.json | Doc txt :- '5. ΤΡΟΠΟΣ ΚΑΙ ΟΔΟΣ(ΟΙ) ΧΟΡΗΓΗΣΗΣ' | Qrd txt :- '5. ΤΡΟΠΟΣ ΚΑΙ ΟΔΟΣ(ΟΙ) ΧΟΡΗΓΗΣΗΣ' | Matched :- 'True'\n",
      "2021-06-19 00:32:31,988 : Heading Extraction Elocta_clean_ ΕΠΙΣΗΜΑΝΣΗ.json_E : Validation Passed | H | CAP |  el | 2 | Elocta_clean_ ΕΠΙΣΗΜΑΝΣΗ.json | currHeadId :- '22007' | prevHeadingCurrId :- '22006' | prevHeadingFoundId :- '22006'\n",
      "2021-06-19 00:32:36,010 : Heading Extraction Elocta_clean_ ΕΠΙΣΗΜΑΝΣΗ.json_E : Match Passed | H | CAP |  el | 2 | Elocta_clean_ ΕΠΙΣΗΜΑΝΣΗ.json | Doc txt :- '6. ΕΙΔΙΚΗ ΠΡΟΕΙΔΟΠΟΙΗΣΗ ΣΥΜΦΩΝΑ ΜΕ ΤΗΝ ΟΠΟΙΑ ΤΟ ΦΑΡΜΑΚΕΥΤΙΚΟ ΠΡΟΪΟΝ ΠΡΕΠΕΙ ΝΑ ΦΥΛΑΣΣΕΤΑΙ ΣΕ ΘΕΣΗ ΤΗΝ ΟΠΟΙΑ ΔΕΝ ΒΛΕΠΟΥΝ ΚΑΙ ΔΕΝ ΠΡΟΣΕΓΓΙΖΟΥΝ ΤΑ ΠΑΙΔΙΑ' | Qrd txt :- '6. ΕΙΔΙΚΗ ΠΡΟΕΙΔΟΠΟΙΗΣΗ ΣΥΜΦΩΝΑ ΜΕ ΤΗΝ ΟΠΟΙΑ ΤΟ ΦΑΡΜΑΚΕΥΤΙΚΟ ΠΡΟΪΟΝ ΠΡΕΠΕΙ ΝΑ ΦΥΛΑΣΣΕΤΑΙ ΣΕ ΘΕΣΗ ΤΗΝ ΟΠΟΙΑ ΔΕΝ ΒΛΕΠΟΥΝ ΚΑΙ ΔΕΝ ΠΡΟΣΕΓΓΙΖΟΥΝ ΤΑ ΠΑΙΔΙΑ' | Matched :- 'True'\n",
      "2021-06-19 00:32:36,031 : Heading Extraction Elocta_clean_ ΕΠΙΣΗΜΑΝΣΗ.json_E : Validation Passed | H | CAP |  el | 2 | Elocta_clean_ ΕΠΙΣΗΜΑΝΣΗ.json | currHeadId :- '22008' | prevHeadingCurrId :- '22007' | prevHeadingFoundId :- '22007'\n",
      "2021-06-19 00:32:37,322 : Heading Extraction Elocta_clean_ ΕΠΙΣΗΜΑΝΣΗ.json_E : Match Passed | H | CAP |  el | 2 | Elocta_clean_ ΕΠΙΣΗΜΑΝΣΗ.json | Doc txt :- '7. ΑΛΛΗ(ΕΣ) ΕΙΔΙΚΗ(ΕΣ) ΠΡΟΕΙΔΟΠΟΙΗΣΗ(ΕΙΣ), ΕΑΝ ΕΙΝΑΙ ΑΠΑΡΑΙΤΗΤΗ(ΕΣ)' | Qrd txt :- '7. ΑΛΛΗ(ΕΣ) ΕΙΔΙΚΗ(ΕΣ) ΠΡΟΕΙΔΟΠΟΙΗΣΗ(ΕΙΣ), ΕΑΝ ΕΙΝΑΙ ΑΠΑΡΑΙΤΗΤΗ(ΕΣ)' | Matched :- 'True'\n",
      "2021-06-19 00:32:37,339 : Heading Extraction Elocta_clean_ ΕΠΙΣΗΜΑΝΣΗ.json_E : Validation Passed | H | CAP |  el | 2 | Elocta_clean_ ΕΠΙΣΗΜΑΝΣΗ.json | currHeadId :- '22009' | prevHeadingCurrId :- '22008' | prevHeadingFoundId :- '22008'\n",
      "2021-06-19 00:32:37,525 : Heading Extraction Elocta_clean_ ΕΠΙΣΗΜΑΝΣΗ.json_E : Match Passed | H | CAP |  el | 2 | Elocta_clean_ ΕΠΙΣΗΜΑΝΣΗ.json | Doc txt :- '8. ΗΜΕΡΟΜΗΝΙΑ ΛΗΞΗΣ' | Qrd txt :- '8. ΗΜΕΡΟΜΗΝΙΑ ΛΗΞΗΣ' | Matched :- 'True'\n",
      "2021-06-19 00:32:37,542 : Heading Extraction Elocta_clean_ ΕΠΙΣΗΜΑΝΣΗ.json_E : Validation Passed | H | CAP |  el | 2 | Elocta_clean_ ΕΠΙΣΗΜΑΝΣΗ.json | currHeadId :- '22010' | prevHeadingCurrId :- '22009' | prevHeadingFoundId :- '22009'\n",
      "2021-06-19 00:32:38,606 : Heading Extraction Elocta_clean_ ΕΠΙΣΗΜΑΝΣΗ.json_E : Match Passed | H | CAP |  el | 2 | Elocta_clean_ ΕΠΙΣΗΜΑΝΣΗ.json | Doc txt :- '9. ΕΙΔΙΚΕΣ ΣΥΝΘΗΚΕΣ ΦΥΛΑΞΗΣ' | Qrd txt :- '9. ΕΙΔΙΚΕΣ ΣΥΝΘΗΚΕΣ ΦΥΛΑΞΗΣ' | Matched :- 'True'\n",
      "2021-06-19 00:32:38,623 : Heading Extraction Elocta_clean_ ΕΠΙΣΗΜΑΝΣΗ.json_E : Validation Passed | H | CAP |  el | 2 | Elocta_clean_ ΕΠΙΣΗΜΑΝΣΗ.json | currHeadId :- '22011' | prevHeadingCurrId :- '22010' | prevHeadingFoundId :- '22010'\n",
      "2021-06-19 00:32:41,541 : Heading Extraction Elocta_clean_ ΕΠΙΣΗΜΑΝΣΗ.json_E : Match Passed | H | CAP |  el | 2 | Elocta_clean_ ΕΠΙΣΗΜΑΝΣΗ.json | Doc txt :- '10. ΙΔΙΑΙΤΕΡΕΣ ΠΡΟΦΥΛΑΞΕΙΣ ΓΙΑ ΤΗΝ ΑΠΟΡΡΙΨΗ ΤΩΝ ΜΗ ΧΡΗΣΙΜΟΠΟΙΗΘΕΝΤΩΝ ΦΑΡΜΑΚΕΥΤΙΚΩΝ ΠΡΟΪΟΝΤΩΝ Ή ΤΩΝ ΥΠΟΛΕΙΜΜΑΤΩΝ ΠΟΥ ΠΡΟΕΡΧΟΝΤΑΙ ΑΠΟ ΑΥΤΑ, ΕΦΟΣΟΝ ΑΠΑΙΤΕΙΤΑΙ' | Qrd txt :- '10. ΙΔΙΑΙΤΕΡΕΣ ΠΡΟΦΥΛΑΞΕΙΣ ΓΙΑ ΤΗΝ ΑΠΟΡΡΙΨΗ ΤΩΝ ΜΗ ΧΡΗΣΙΜΟΠΟΙΗΘΕΝΤΩΝ ΦΑΡΜΑΚΕΥΤΙΚΩΝ ΠΡΟΪΟΝΤΩΝ Ή ΤΩΝ ΥΠΟΛΕΙΜΜΑΤΩΝ ΠΟΥ ΠΡΟΕΡΧΟΝΤΑΙ ΑΠΟ ΑΥΤΑ, ΕΦΟΣΟΝ ΑΠΑΙΤΕΙΤΑΙ' | Matched :- 'True'\n",
      "2021-06-19 00:32:41,556 : Heading Extraction Elocta_clean_ ΕΠΙΣΗΜΑΝΣΗ.json_E : Validation Passed | H | CAP |  el | 2 | Elocta_clean_ ΕΠΙΣΗΜΑΝΣΗ.json | currHeadId :- '22012' | prevHeadingCurrId :- '22011' | prevHeadingFoundId :- '22011'\n",
      "2021-06-19 00:32:42,007 : Heading Extraction Elocta_clean_ ΕΠΙΣΗΜΑΝΣΗ.json_E : Match Passed | H | CAP |  el | 2 | Elocta_clean_ ΕΠΙΣΗΜΑΝΣΗ.json | Doc txt :- '11. ΟΝΟΜΑ ΚΑΙ ΔΙΕΥΘΥΝΣΗ ΚΑΤΟΧΟΥ ΤΗΣ ΑΔΕΙΑΣ ΚΥΚΛΟΦΟΡΙΑΣ' | Qrd txt :- '11. ΟΝΟΜΑ ΚΑΙ ΔΙΕΥΘΥΝΣΗ ΚΑΤΟΧΟΥ ΤΗΣ ΑΔΕΙΑΣ ΚΥΚΛΟΦΟΡΙΑΣ' | Matched :- 'True'\n",
      "2021-06-19 00:32:42,023 : Heading Extraction Elocta_clean_ ΕΠΙΣΗΜΑΝΣΗ.json_E : Validation Passed | H | CAP |  el | 2 | Elocta_clean_ ΕΠΙΣΗΜΑΝΣΗ.json | currHeadId :- '22013' | prevHeadingCurrId :- '22012' | prevHeadingFoundId :- '22012'\n",
      "2021-06-19 00:32:43,588 : Heading Extraction Elocta_clean_ ΕΠΙΣΗΜΑΝΣΗ.json_E : Match Passed | H | CAP |  el | 2 | Elocta_clean_ ΕΠΙΣΗΜΑΝΣΗ.json | Doc txt :- '12. ΑΡΙΘΜΟΣ(ΟΙ) ΑΔΕΙΑΣ ΚΥΚΛΟΦΟΡΙΑΣ' | Qrd txt :- '12. ΑΡΙΘΜΟΣ(ΟΙ) ΑΔΕΙΑΣ ΚΥΚΛΟΦΟΡΙΑΣ' | Matched :- 'True'\n",
      "2021-06-19 00:32:43,602 : Heading Extraction Elocta_clean_ ΕΠΙΣΗΜΑΝΣΗ.json_E : Validation Passed | H | CAP |  el | 2 | Elocta_clean_ ΕΠΙΣΗΜΑΝΣΗ.json | currHeadId :- '22014' | prevHeadingCurrId :- '22013' | prevHeadingFoundId :- '22013'\n",
      "2021-06-19 00:32:44,228 : Heading Extraction Elocta_clean_ ΕΠΙΣΗΜΑΝΣΗ.json_E : Match Passed : Contains<>|175.0|(53, 100, 90)|0.873| | H | CAP |  el | 2 | Elocta_clean_ ΕΠΙΣΗΜΑΝΣΗ.json | Doc txt :- '13.     ΑΡΙΘΜΟΣ ΠΑΡΤΙΔΑΣ' | Qrd txt :- '13. ΑΡΙΘΜΟΣ ΠΑΡΤΙΔΑΣ<, ΣΤΟΙΧΕΙΑ ΔΟΤΗ ΚΑΙ ΚΩΔΙΚΟΙ ΠΡΟΪΟΝΤΟΣ>' | Matched :- 'True'\n",
      "2021-06-19 00:32:44,244 : Heading Extraction Elocta_clean_ ΕΠΙΣΗΜΑΝΣΗ.json_E : Validation Passed | H | CAP |  el | 2 | Elocta_clean_ ΕΠΙΣΗΜΑΝΣΗ.json | currHeadId :- '22015' | prevHeadingCurrId :- '22014' | prevHeadingFoundId :- '22014'\n",
      "2021-06-19 00:32:44,648 : Heading Extraction Elocta_clean_ ΕΠΙΣΗΜΑΝΣΗ.json_E : Match Passed | H | CAP |  el | 2 | Elocta_clean_ ΕΠΙΣΗΜΑΝΣΗ.json | Doc txt :- '14. ΓΕΝΙΚΗ ΚΑΤΑΤΑΞΗ ΓΙΑ ΤΗ ΔΙΑΘΕΣΗ' | Qrd txt :- '14. ΓΕΝΙΚΗ ΚΑΤΑΤΑΞΗ ΓΙΑ ΤΗ ΔΙΑΘΕΣΗ' | Matched :- 'True'\n",
      "2021-06-19 00:32:44,664 : Heading Extraction Elocta_clean_ ΕΠΙΣΗΜΑΝΣΗ.json_E : Validation Passed | H | CAP |  el | 2 | Elocta_clean_ ΕΠΙΣΗΜΑΝΣΗ.json | currHeadId :- '22016' | prevHeadingCurrId :- '22015' | prevHeadingFoundId :- '22015'\n",
      "2021-06-19 00:32:44,984 : Heading Extraction Elocta_clean_ ΕΠΙΣΗΜΑΝΣΗ.json_E : Match Passed | H | CAP |  el | 2 | Elocta_clean_ ΕΠΙΣΗΜΑΝΣΗ.json | Doc txt :- '15. ΟΔΗΓΙΕΣ ΧΡΗΣΗΣ' | Qrd txt :- '15. ΟΔΗΓΙΕΣ ΧΡΗΣΗΣ' | Matched :- 'True'\n",
      "2021-06-19 00:32:44,999 : Heading Extraction Elocta_clean_ ΕΠΙΣΗΜΑΝΣΗ.json_E : Validation Passed | H | CAP |  el | 2 | Elocta_clean_ ΕΠΙΣΗΜΑΝΣΗ.json | currHeadId :- '22017' | prevHeadingCurrId :- '22016' | prevHeadingFoundId :- '22016'\n",
      "2021-06-19 00:32:45,364 : Heading Extraction Elocta_clean_ ΕΠΙΣΗΜΑΝΣΗ.json_E : Match Passed | H | CAP |  el | 2 | Elocta_clean_ ΕΠΙΣΗΜΑΝΣΗ.json | Doc txt :- '16. ΠΛΗΡΟΦΟΡΙΕΣ ΣΕ BRAILLE' | Qrd txt :- '16. ΠΛΗΡΟΦΟΡΙΕΣ ΣΕ BRAILLE' | Matched :- 'True'\n"
     ]
    },
    {
     "name": "stderr",
     "output_type": "stream",
     "text": [
      "2021-06-19 00:32:45,385 : Heading Extraction Elocta_clean_ ΕΠΙΣΗΜΑΝΣΗ.json_E : Validation Passed | H | CAP |  el | 2 | Elocta_clean_ ΕΠΙΣΗΜΑΝΣΗ.json | currHeadId :- '22018' | prevHeadingCurrId :- '22017' | prevHeadingFoundId :- '22017'\n",
      "2021-06-19 00:32:46,482 : Heading Extraction Elocta_clean_ ΕΠΙΣΗΜΑΝΣΗ.json_E : Match Passed | H | CAP |  el | 2 | Elocta_clean_ ΕΠΙΣΗΜΑΝΣΗ.json | Doc txt :- '17. ΜΟΝΑΔΙΚΟΣ ΑΝΑΓΝΩΡΙΣΤΙΚΟΣ ΚΩΔΙΚΟΣ – ΔΙΣΔΙΑΣΤΑΤΟΣ ΓΡΑΜΜΩΤΟΣ ΚΩΔΙΚΑΣ (2D)' | Qrd txt :- '17. ΜΟΝΑΔΙΚΟΣ ΑΝΑΓΝΩΡΙΣΤΙΚΟΣ ΚΩΔΙΚΟΣ – ΔΙΣΔΙΑΣΤΑΤΟΣ ΓΡΑΜΜΩΤΟΣ ΚΩΔΙΚΑΣ (2D)' | Matched :- 'True'\n",
      "2021-06-19 00:32:46,498 : Heading Extraction Elocta_clean_ ΕΠΙΣΗΜΑΝΣΗ.json_E : Validation Passed | H | CAP |  el | 2 | Elocta_clean_ ΕΠΙΣΗΜΑΝΣΗ.json | currHeadId :- '22019' | prevHeadingCurrId :- '22018' | prevHeadingFoundId :- '22018'\n",
      "2021-06-19 00:32:48,997 : Heading Extraction Elocta_clean_ ΕΠΙΣΗΜΑΝΣΗ.json_E : Match Passed | H | CAP |  el | 2 | Elocta_clean_ ΕΠΙΣΗΜΑΝΣΗ.json | Doc txt :- '18. ΜΟΝΑΔΙΚΟΣ ΑΝΑΓΝΩΡΙΣΤΙΚΟΣ ΚΩΔΙΚΟΣ – ΔΕΔΟΜΕΝΑ ΑΝΑΓΝΩΣΙΜΑ ΑΠΟ ΤΟΝ ΑΝΘΡΩΠΟ' | Qrd txt :- '18. ΜΟΝΑΔΙΚΟΣ ΑΝΑΓΝΩΡΙΣΤΙΚΟΣ ΚΩΔΙΚΟΣ – ΔΕΔΟΜΕΝΑ ΑΝΑΓΝΩΣΙΜΑ ΑΠΟ ΤΟΝ ΑΝΘΡΩΠΟ' | Matched :- 'True'\n",
      "2021-06-19 00:32:49,026 : Heading Extraction Elocta_clean_ ΕΠΙΣΗΜΑΝΣΗ.json_E : Validation Passed | H | CAP |  el | 2 | Elocta_clean_ ΕΠΙΣΗΜΑΝΣΗ.json | currHeadId :- '22020' | prevHeadingCurrId :- '22019' | prevHeadingFoundId :- '22019'\n",
      "2021-06-19 00:32:50,112 : Heading Extraction Elocta_clean_ ΕΠΙΣΗΜΑΝΣΗ.json_E : Match Passed | H | CAP |  el | 2 | Elocta_clean_ ΕΠΙΣΗΜΑΝΣΗ.json | Doc txt :- 'ΕΛΑΧΙΣΤΕΣ ΕΝΔΕΙΞΕΙΣ ΠΟΥ ΠΡΕΠΕΙ ΝΑ ΑΝΑΓΡΑΦΟΝΤΑΙ ΣΤΙΣ ΜΙΚΡΕΣ ΣΤΟΙΧΕΙΩΔΕΙΣ ΣΥΣΚΕΥΑΣΙΕΣ' | Qrd txt :- 'ΕΛΑΧΙΣΤΕΣ ΕΝΔΕΙΞΕΙΣ ΠΟΥ ΠΡΕΠΕΙ ΝΑ ΑΝΑΓΡΑΦΟΝΤΑΙ ΣΤΙΣ ΜΙΚΡΕΣ ΣΤΟΙΧΕΙΩΔΕΙΣ ΣΥΣΚΕΥΑΣΙΕΣ' | Matched :- 'True'\n",
      "2021-06-19 00:32:50,134 : Heading Extraction Elocta_clean_ ΕΠΙΣΗΜΑΝΣΗ.json_E : Validation Flow Is Broken | H | CAP |  el | 2 | Elocta_clean_ ΕΠΙΣΗΜΑΝΣΗ.json | currHeadId :- '22027' | prevHeadingCurrId :- '' | prevHeadingFoundId :- '22020'\n",
      "2021-06-19 00:32:50,147 : Heading Extraction Elocta_clean_ ΕΠΙΣΗΜΑΝΣΗ.json_E : Validation Passed | H | CAP |  el | 2 | Elocta_clean_ ΕΠΙΣΗΜΑΝΣΗ.json | currHeadId :- '22027' | prevHeadingCurrId :- '22020' | prevHeadingFoundId :- '22020'\n",
      "2021-06-19 00:32:52,459 : Heading Extraction Elocta_clean_ ΕΠΙΣΗΜΑΝΣΗ.json_E : Match Passed | H | CAP |  el | 2 | Elocta_clean_ ΕΠΙΣΗΜΑΝΣΗ.json | Doc txt :- '1. ΟΝΟΜΑΣΙΑ ΤΟΥ ΦΑΡΜΑΚΕΥΤΙΚΟΥ ΠΡΟΪΟΝΤΟΣ ΚΑΙ ΟΔΟΣ(ΟΙ) ΧΟΡΗΓΗΣΗΣ' | Qrd txt :- '1. ΟΝΟΜΑΣΙΑ ΤΟΥ ΦΑΡΜΑΚΕΥΤΙΚΟΥ ΠΡΟΪΟΝΤΟΣ ΚΑΙ ΟΔΟΣ(ΟΙ) ΧΟΡΗΓΗΣΗΣ' | Matched :- 'True'\n",
      "2021-06-19 00:32:52,478 : Heading Extraction Elocta_clean_ ΕΠΙΣΗΜΑΝΣΗ.json_E : Validation Passed | H | CAP |  el | 2 | Elocta_clean_ ΕΠΙΣΗΜΑΝΣΗ.json | currHeadId :- '22028' | prevHeadingCurrId :- '22027' | prevHeadingFoundId :- '22027'\n",
      "2021-06-19 00:32:55,306 : Heading Extraction Elocta_clean_ ΕΠΙΣΗΜΑΝΣΗ.json_E : Match Passed | H | CAP |  el | 2 | Elocta_clean_ ΕΠΙΣΗΜΑΝΣΗ.json | Doc txt :- '2. ΤΡΟΠΟΣ ΧΟΡΗΓΗΣΗΣ' | Qrd txt :- '2. ΤΡΟΠΟΣ ΧΟΡΗΓΗΣΗΣ' | Matched :- 'True'\n",
      "2021-06-19 00:32:55,322 : Heading Extraction Elocta_clean_ ΕΠΙΣΗΜΑΝΣΗ.json_E : Validation Passed | H | CAP |  el | 2 | Elocta_clean_ ΕΠΙΣΗΜΑΝΣΗ.json | currHeadId :- '22029' | prevHeadingCurrId :- '22028' | prevHeadingFoundId :- '22028'\n",
      "2021-06-19 00:32:55,527 : Heading Extraction Elocta_clean_ ΕΠΙΣΗΜΑΝΣΗ.json_E : Match Passed : <=4|5.26|(95, 95, 95)|0.98| | H | CAP |  el | 2 | Elocta_clean_ ΕΠΙΣΗΜΑΝΣΗ.json | Doc txt :- '3.       ΗΜΕΡΟΜΗΝΙΑ ΛΗΞΗΣ' | Qrd txt :- '8. ΗΜΕΡΟΜΗΝΙΑ ΛΗΞΗΣ' | Matched :- 'True'\n",
      "2021-06-19 00:32:55,542 : Heading Extraction Elocta_clean_ ΕΠΙΣΗΜΑΝΣΗ.json_E : Validation Failed As Previous Heading Found is not matching | H | CAP |  el | 2 | Elocta_clean_ ΕΠΙΣΗΜΑΝΣΗ.json | currHeadId :- '22010' | prevHeadingCurrId :- '22009' | prevHeadingFoundId :- '22029'\n",
      "2021-06-19 00:32:55,823 : Heading Extraction Elocta_clean_ ΕΠΙΣΗΜΑΝΣΗ.json_E : Match Passed | H | CAP |  el | 2 | Elocta_clean_ ΕΠΙΣΗΜΑΝΣΗ.json | Doc txt :- '3. ΗΜΕΡΟΜΗΝΙΑ ΛΗΞΗΣ' | Qrd txt :- '3. ΗΜΕΡΟΜΗΝΙΑ ΛΗΞΗΣ' | Matched :- 'True'\n",
      "2021-06-19 00:32:55,840 : Heading Extraction Elocta_clean_ ΕΠΙΣΗΜΑΝΣΗ.json_E : Validation Failed As Wrong Heading Found | H | CAP |  el | 2 | Elocta_clean_ ΕΠΙΣΗΜΑΝΣΗ.json | currHeadId :- '22024' | prevHeadingCurrId :- '' | prevHeadingFoundId :- '22029'\n",
      "2021-06-19 00:32:55,952 : Heading Extraction Elocta_clean_ ΕΠΙΣΗΜΑΝΣΗ.json_E : Match Passed | H | CAP |  el | 2 | Elocta_clean_ ΕΠΙΣΗΜΑΝΣΗ.json | Doc txt :- '3. ΗΜΕΡΟΜΗΝΙΑ ΛΗΞΗΣ' | Qrd txt :- '3. ΗΜΕΡΟΜΗΝΙΑ ΛΗΞΗΣ' | Matched :- 'True'\n",
      "2021-06-19 00:32:55,969 : Heading Extraction Elocta_clean_ ΕΠΙΣΗΜΑΝΣΗ.json_E : Validation Passed | H | CAP |  el | 2 | Elocta_clean_ ΕΠΙΣΗΜΑΝΣΗ.json | currHeadId :- '22030' | prevHeadingCurrId :- '22029' | prevHeadingFoundId :- '22029'\n",
      "2021-06-19 00:32:56,285 : Heading Extraction Elocta_clean_ ΕΠΙΣΗΜΑΝΣΗ.json_E : Match Passed : Contains<>|194.74|(49, 95, 86)|0.758| | H | CAP |  el | 2 | Elocta_clean_ ΕΠΙΣΗΜΑΝΣΗ.json | Doc txt :- '4.       ΑΡΙΘΜΟΣ ΠΑΡΤΙΔΑΣ' | Qrd txt :- '13. ΑΡΙΘΜΟΣ ΠΑΡΤΙΔΑΣ<, ΣΤΟΙΧΕΙΑ ΔΟΤΗ ΚΑΙ ΚΩΔΙΚΟΙ ΠΡΟΪΟΝΤΟΣ>' | Matched :- 'True'\n",
      "2021-06-19 00:32:56,302 : Heading Extraction Elocta_clean_ ΕΠΙΣΗΜΑΝΣΗ.json_E : Validation Failed As Previous Heading Found is not matching | H | CAP |  el | 2 | Elocta_clean_ ΕΠΙΣΗΜΑΝΣΗ.json | currHeadId :- '22015' | prevHeadingCurrId :- '22014' | prevHeadingFoundId :- '22030'\n",
      "2021-06-19 00:32:56,512 : Heading Extraction Elocta_clean_ ΕΠΙΣΗΜΑΝΣΗ.json_E : Match Passed : Contains<>|184.21|(52, 100, 90)|0.87| | H | CAP |  el | 2 | Elocta_clean_ ΕΠΙΣΗΜΑΝΣΗ.json | Doc txt :- '4.       ΑΡΙΘΜΟΣ ΠΑΡΤΙΔΑΣ' | Qrd txt :- '4. ΑΡΙΘΜΟΣ ΠΑΡΤΙΔΑΣ<, ΣΤΟΙΧΕΙΑ ΔΟΤΗ ΚΑΙ ΚΩΔΙΚΟΙ ΠΡΟΪΟΝΤΟΣ>' | Matched :- 'True'\n",
      "2021-06-19 00:32:56,528 : Heading Extraction Elocta_clean_ ΕΠΙΣΗΜΑΝΣΗ.json_E : Validation Failed As Wrong Heading Found | H | CAP |  el | 2 | Elocta_clean_ ΕΠΙΣΗΜΑΝΣΗ.json | currHeadId :- '22025' | prevHeadingCurrId :- '' | prevHeadingFoundId :- '22030'\n",
      "2021-06-19 00:32:56,632 : Heading Extraction Elocta_clean_ ΕΠΙΣΗΜΑΝΣΗ.json_E : Match Passed : Contains<>|184.21|(52, 100, 90)|0.87| | H | CAP |  el | 2 | Elocta_clean_ ΕΠΙΣΗΜΑΝΣΗ.json | Doc txt :- '4.       ΑΡΙΘΜΟΣ ΠΑΡΤΙΔΑΣ' | Qrd txt :- '4. ΑΡΙΘΜΟΣ ΠΑΡΤΙΔΑΣ<, ΣΤΟΙΧΕΙΑ ΔΟΤΗ ΚΑΙ ΚΩΔΙΚΟΙ ΠΡΟΪΟΝΤΟΣ>' | Matched :- 'True'\n",
      "2021-06-19 00:32:56,649 : Heading Extraction Elocta_clean_ ΕΠΙΣΗΜΑΝΣΗ.json_E : Validation Passed | H | CAP |  el | 2 | Elocta_clean_ ΕΠΙΣΗΜΑΝΣΗ.json | currHeadId :- '22031' | prevHeadingCurrId :- '22030' | prevHeadingFoundId :- '22030'\n",
      "2021-06-19 00:32:57,505 : Heading Extraction Elocta_clean_ ΕΠΙΣΗΜΑΝΣΗ.json_E : Match Passed : <=7|2.5|(98, 98, 100)|0.995| | H | CAP |  el | 2 | Elocta_clean_ ΕΠΙΣΗΜΑΝΣΗ.json | Doc txt :- '5.       ΠΕΡΙΕΧΟΜΕΝΟ ΚΑΤΑ ΒΑΡΟΣ, ΚΑΤ’ ΟΓΚΟ Ή ΚΑΤΑ ΜΟΝΑΔΑ' | Qrd txt :- '5. ΠΕΡΙΕΧΟΜΕΝΟ ΚΑΤΑ ΒΑΡΟΣ, ΚΑΤ' ΟΓΚΟ Ή ΚΑΤΑ ΜΟΝΑΔΑ' | Matched :- 'True'\n",
      "2021-06-19 00:32:57,524 : Heading Extraction Elocta_clean_ ΕΠΙΣΗΜΑΝΣΗ.json_E : Validation Passed | H | CAP |  el | 2 | Elocta_clean_ ΕΠΙΣΗΜΑΝΣΗ.json | currHeadId :- '22032' | prevHeadingCurrId :- '22031' | prevHeadingFoundId :- '22031'\n",
      "2021-06-19 00:32:58,204 : Heading Extraction Elocta_clean_ ΕΠΙΣΗΜΑΝΣΗ.json_E : Match Passed : <=4|6.25|(94, 94, 94)|0.975| | H | CAP |  el | 2 | Elocta_clean_ ΕΠΙΣΗΜΑΝΣΗ.json | Doc txt :- '6.       ΑΛΛΑ ΣΤΟΙΧΕΙΑ' | Qrd txt :- '5. ΑΛΛΑ ΣΤΟΙΧΕΙΑ' | Matched :- 'True'\n",
      "2021-06-19 00:32:58,224 : Heading Extraction Elocta_clean_ ΕΠΙΣΗΜΑΝΣΗ.json_E : Validation Failed As Wrong Heading Found | H | CAP |  el | 2 | Elocta_clean_ ΕΠΙΣΗΜΑΝΣΗ.json | currHeadId :- '22026' | prevHeadingCurrId :- '' | prevHeadingFoundId :- '22032'\n",
      "2021-06-19 00:32:58,323 : Heading Extraction Elocta_clean_ ΕΠΙΣΗΜΑΝΣΗ.json_E : Match Passed | H | CAP |  el | 2 | Elocta_clean_ ΕΠΙΣΗΜΑΝΣΗ.json | Doc txt :- '6. ΑΛΛΑ ΣΤΟΙΧΕΙΑ' | Qrd txt :- '6. ΑΛΛΑ ΣΤΟΙΧΕΙΑ' | Matched :- 'True'\n",
      "2021-06-19 00:32:58,340 : Heading Extraction Elocta_clean_ ΕΠΙΣΗΜΑΝΣΗ.json_E : Validation Passed | H | CAP |  el | 2 | Elocta_clean_ ΕΠΙΣΗΜΑΝΣΗ.json | currHeadId :- '22033' | prevHeadingCurrId :- '22032' | prevHeadingFoundId :- '22032'\n",
      "2021-06-19 00:32:58,399 : Heading Extraction Elocta_clean_ ΕΠΙΣΗΜΑΝΣΗ.json_E : Match Passed : Contains<>|76.0|(72, 88, 86)|0.922| | H | CAP |  el | 2 | Elocta_clean_ ΕΠΙΣΗΜΑΝΣΗ.json | Doc txt :- 'ΕΝΔΕΙΞΕΙΣ ΠΟΥ ΠΡΕΠΕΙ ΝΑ ΑΝΑΓΡΑΦΟΝΤΑΙ ΣΤΗΝ ΕΞΩΤΕΡΙΚΗ ΣΥΣΚΕΥΑΣΙΑ' | Qrd txt :- 'ΕΝΔΕΙΞΕΙΣ ΠΟΥ ΠΡΕΠΕΙ ΝΑ ΑΝΑΓΡΑΦΟΝΤΑΙ <ΣΤΗΝ ΕΞΩΤΕΡΙΚΗ ΣΥΣΚΕΥΑΣΙΑ> <ΚΑΙ> < ΣΤΗ ΣΤΟΙΧΕΙΩΔΗ ΣΥΣΚΕΥΑΣΙΑ>' | Matched :- 'True'\n"
     ]
    },
    {
     "name": "stderr",
     "output_type": "stream",
     "text": [
      "2021-06-19 00:32:58,417 : Heading Extraction Elocta_clean_ ΕΠΙΣΗΜΑΝΣΗ.json_E : Validation Failed As Wrong Heading Found | H | CAP |  el | 2 | Elocta_clean_ ΕΠΙΣΗΜΑΝΣΗ.json | currHeadId :- '22002' | prevHeadingCurrId :- '' | prevHeadingFoundId :- '22033'\n",
      "2021-06-19 00:32:59,209 : Heading Extraction Elocta_clean_ ΕΠΙΣΗΜΑΝΣΗ.json_E : End Of Sub Section | H | CAP |  el | 2 | Elocta_clean_ ΕΠΙΣΗΜΑΝΣΗ.json\n",
      "2021-06-19 00:32:59,253 : Heading Extraction Elocta_clean_ ΕΠΙΣΗΜΑΝΣΗ.json_E : Match Passed : Contains<>|76.0|(72, 88, 86)|0.922| | H | CAP |  el | 2 | Elocta_clean_ ΕΠΙΣΗΜΑΝΣΗ.json | Doc txt :- 'ΕΝΔΕΙΞΕΙΣ ΠΟΥ ΠΡΕΠΕΙ ΝΑ ΑΝΑΓΡΑΦΟΝΤΑΙ ΣΤΗΝ ΕΞΩΤΕΡΙΚΗ ΣΥΣΚΕΥΑΣΙΑ' | Qrd txt :- 'ΕΝΔΕΙΞΕΙΣ ΠΟΥ ΠΡΕΠΕΙ ΝΑ ΑΝΑΓΡΑΦΟΝΤΑΙ <ΣΤΗΝ ΕΞΩΤΕΡΙΚΗ ΣΥΣΚΕΥΑΣΙΑ> <ΚΑΙ> < ΣΤΗ ΣΤΟΙΧΕΙΩΔΗ ΣΥΣΚΕΥΑΣΙΑ>' | Matched :- 'True'\n",
      "2021-06-19 00:32:59,265 : Heading Extraction Elocta_clean_ ΕΠΙΣΗΜΑΝΣΗ.json_E : Validation Passed As This The First Heading | H | CAP |  el | 2 | Elocta_clean_ ΕΠΙΣΗΜΑΝΣΗ.json | currHeadId :- '22002' | prevHeadingCurrId :- '' | prevHeadingFoundId :- ''\n"
     ]
    },
    {
     "name": "stdout",
     "output_type": "stream",
     "text": [
      "oooooooooooooooooooooooooooooooooooooooo END OF Sub Section oooooooooooooooooooooooooooooooooooooooooooooooooooooooooooo\n"
     ]
    },
    {
     "name": "stderr",
     "output_type": "stream",
     "text": [
      "2021-06-19 00:32:59,753 : Heading Extraction Elocta_clean_ ΕΠΙΣΗΜΑΝΣΗ.json_E : Match Passed | H | CAP |  el | 2 | Elocta_clean_ ΕΠΙΣΗΜΑΝΣΗ.json | Doc txt :- '1. ΟΝΟΜΑΣΙΑ ΤΟΥ ΦΑΡΜΑΚΕΥΤΙΚΟΥ ΠΡΟΪΟΝΤΟΣ' | Qrd txt :- '1. ΟΝΟΜΑΣΙΑ ΤΟΥ ΦΑΡΜΑΚΕΥΤΙΚΟΥ ΠΡΟΪΟΝΤΟΣ' | Matched :- 'True'\n",
      "2021-06-19 00:32:59,769 : Heading Extraction Elocta_clean_ ΕΠΙΣΗΜΑΝΣΗ.json_E : Validation Passed | H | CAP |  el | 2 | Elocta_clean_ ΕΠΙΣΗΜΑΝΣΗ.json | currHeadId :- '22003' | prevHeadingCurrId :- '22002' | prevHeadingFoundId :- '22002'\n",
      "2021-06-19 00:33:02,194 : Heading Extraction Elocta_clean_ ΕΠΙΣΗΜΑΝΣΗ.json_E : Match Passed | H | CAP |  el | 2 | Elocta_clean_ ΕΠΙΣΗΜΑΝΣΗ.json | Doc txt :- '2. ΣΥΝΘΕΣΗ ΣΕ ΔΡΑΣΤΙΚΗ(ΕΣ) ΟΥΣΙΑ(ΕΣ)' | Qrd txt :- '2. ΣΥΝΘΕΣΗ ΣΕ ΔΡΑΣΤΙΚΗ(ΕΣ) ΟΥΣΙΑ(ΕΣ)' | Matched :- 'True'\n",
      "2021-06-19 00:33:02,209 : Heading Extraction Elocta_clean_ ΕΠΙΣΗΜΑΝΣΗ.json_E : Validation Passed | H | CAP |  el | 2 | Elocta_clean_ ΕΠΙΣΗΜΑΝΣΗ.json | currHeadId :- '22004' | prevHeadingCurrId :- '22003' | prevHeadingFoundId :- '22003'\n",
      "2021-06-19 00:33:03,069 : Heading Extraction Elocta_clean_ ΕΠΙΣΗΜΑΝΣΗ.json_E : Match Passed | H | CAP |  el | 2 | Elocta_clean_ ΕΠΙΣΗΜΑΝΣΗ.json | Doc txt :- '3. ΚΑΤΑΛΟΓΟΣ ΕΚΔΟΧΩΝ' | Qrd txt :- '3. ΚΑΤΑΛΟΓΟΣ ΕΚΔΟΧΩΝ' | Matched :- 'True'\n",
      "2021-06-19 00:33:03,084 : Heading Extraction Elocta_clean_ ΕΠΙΣΗΜΑΝΣΗ.json_E : Validation Passed | H | CAP |  el | 2 | Elocta_clean_ ΕΠΙΣΗΜΑΝΣΗ.json | currHeadId :- '22005' | prevHeadingCurrId :- '22004' | prevHeadingFoundId :- '22004'\n",
      "2021-06-19 00:33:05,655 : Heading Extraction Elocta_clean_ ΕΠΙΣΗΜΑΝΣΗ.json_E : Match Passed | H | CAP |  el | 2 | Elocta_clean_ ΕΠΙΣΗΜΑΝΣΗ.json | Doc txt :- '4. ΦΑΡΜΑΚΟΤΕΧΝΙΚΗ ΜΟΡΦΗ ΚΑΙ ΠΕΡΙΕΧΟΜΕΝΟ' | Qrd txt :- '4. ΦΑΡΜΑΚΟΤΕΧΝΙΚΗ ΜΟΡΦΗ ΚΑΙ ΠΕΡΙΕΧΟΜΕΝΟ' | Matched :- 'True'\n",
      "2021-06-19 00:33:05,674 : Heading Extraction Elocta_clean_ ΕΠΙΣΗΜΑΝΣΗ.json_E : Validation Passed | H | CAP |  el | 2 | Elocta_clean_ ΕΠΙΣΗΜΑΝΣΗ.json | currHeadId :- '22006' | prevHeadingCurrId :- '22005' | prevHeadingFoundId :- '22005'\n",
      "2021-06-19 00:33:07,791 : Heading Extraction Elocta_clean_ ΕΠΙΣΗΜΑΝΣΗ.json_E : Match Passed | H | CAP |  el | 2 | Elocta_clean_ ΕΠΙΣΗΜΑΝΣΗ.json | Doc txt :- '5. ΤΡΟΠΟΣ ΚΑΙ ΟΔΟΣ(ΟΙ) ΧΟΡΗΓΗΣΗΣ' | Qrd txt :- '5. ΤΡΟΠΟΣ ΚΑΙ ΟΔΟΣ(ΟΙ) ΧΟΡΗΓΗΣΗΣ' | Matched :- 'True'\n",
      "2021-06-19 00:33:07,808 : Heading Extraction Elocta_clean_ ΕΠΙΣΗΜΑΝΣΗ.json_E : Validation Passed | H | CAP |  el | 2 | Elocta_clean_ ΕΠΙΣΗΜΑΝΣΗ.json | currHeadId :- '22007' | prevHeadingCurrId :- '22006' | prevHeadingFoundId :- '22006'\n",
      "2021-06-19 00:33:11,563 : Heading Extraction Elocta_clean_ ΕΠΙΣΗΜΑΝΣΗ.json_E : Match Passed | H | CAP |  el | 2 | Elocta_clean_ ΕΠΙΣΗΜΑΝΣΗ.json | Doc txt :- '6. ΕΙΔΙΚΗ ΠΡΟΕΙΔΟΠΟΙΗΣΗ ΣΥΜΦΩΝΑ ΜΕ ΤΗΝ ΟΠΟΙΑ ΤΟ ΦΑΡΜΑΚΕΥΤΙΚΟ ΠΡΟΪΟΝ ΠΡΕΠΕΙ ΝΑ ΦΥΛΑΣΣΕΤΑΙ ΣΕ ΘΕΣΗ ΤΗΝ ΟΠΟΙΑ ΔΕΝ ΒΛΕΠΟΥΝ ΚΑΙ ΔΕΝ ΠΡΟΣΕΓΓΙΖΟΥΝ ΤΑ ΠΑΙΔΙΑ' | Qrd txt :- '6. ΕΙΔΙΚΗ ΠΡΟΕΙΔΟΠΟΙΗΣΗ ΣΥΜΦΩΝΑ ΜΕ ΤΗΝ ΟΠΟΙΑ ΤΟ ΦΑΡΜΑΚΕΥΤΙΚΟ ΠΡΟΪΟΝ ΠΡΕΠΕΙ ΝΑ ΦΥΛΑΣΣΕΤΑΙ ΣΕ ΘΕΣΗ ΤΗΝ ΟΠΟΙΑ ΔΕΝ ΒΛΕΠΟΥΝ ΚΑΙ ΔΕΝ ΠΡΟΣΕΓΓΙΖΟΥΝ ΤΑ ΠΑΙΔΙΑ' | Matched :- 'True'\n",
      "2021-06-19 00:33:11,581 : Heading Extraction Elocta_clean_ ΕΠΙΣΗΜΑΝΣΗ.json_E : Validation Passed | H | CAP |  el | 2 | Elocta_clean_ ΕΠΙΣΗΜΑΝΣΗ.json | currHeadId :- '22008' | prevHeadingCurrId :- '22007' | prevHeadingFoundId :- '22007'\n",
      "2021-06-19 00:33:12,651 : Heading Extraction Elocta_clean_ ΕΠΙΣΗΜΑΝΣΗ.json_E : Match Passed | H | CAP |  el | 2 | Elocta_clean_ ΕΠΙΣΗΜΑΝΣΗ.json | Doc txt :- '7. ΑΛΛΗ(ΕΣ) ΕΙΔΙΚΗ(ΕΣ) ΠΡΟΕΙΔΟΠΟΙΗΣΗ(ΕΙΣ), ΕΑΝ ΕΙΝΑΙ ΑΠΑΡΑΙΤΗΤΗ(ΕΣ)' | Qrd txt :- '7. ΑΛΛΗ(ΕΣ) ΕΙΔΙΚΗ(ΕΣ) ΠΡΟΕΙΔΟΠΟΙΗΣΗ(ΕΙΣ), ΕΑΝ ΕΙΝΑΙ ΑΠΑΡΑΙΤΗΤΗ(ΕΣ)' | Matched :- 'True'\n",
      "2021-06-19 00:33:12,667 : Heading Extraction Elocta_clean_ ΕΠΙΣΗΜΑΝΣΗ.json_E : Validation Passed | H | CAP |  el | 2 | Elocta_clean_ ΕΠΙΣΗΜΑΝΣΗ.json | currHeadId :- '22009' | prevHeadingCurrId :- '22008' | prevHeadingFoundId :- '22008'\n",
      "2021-06-19 00:33:12,845 : Heading Extraction Elocta_clean_ ΕΠΙΣΗΜΑΝΣΗ.json_E : Match Passed | H | CAP |  el | 2 | Elocta_clean_ ΕΠΙΣΗΜΑΝΣΗ.json | Doc txt :- '8. ΗΜΕΡΟΜΗΝΙΑ ΛΗΞΗΣ' | Qrd txt :- '8. ΗΜΕΡΟΜΗΝΙΑ ΛΗΞΗΣ' | Matched :- 'True'\n",
      "2021-06-19 00:33:12,858 : Heading Extraction Elocta_clean_ ΕΠΙΣΗΜΑΝΣΗ.json_E : Validation Passed | H | CAP |  el | 2 | Elocta_clean_ ΕΠΙΣΗΜΑΝΣΗ.json | currHeadId :- '22010' | prevHeadingCurrId :- '22009' | prevHeadingFoundId :- '22009'\n",
      "2021-06-19 00:33:13,762 : Heading Extraction Elocta_clean_ ΕΠΙΣΗΜΑΝΣΗ.json_E : Match Passed | H | CAP |  el | 2 | Elocta_clean_ ΕΠΙΣΗΜΑΝΣΗ.json | Doc txt :- '9. ΕΙΔΙΚΕΣ ΣΥΝΘΗΚΕΣ ΦΥΛΑΞΗΣ' | Qrd txt :- '9. ΕΙΔΙΚΕΣ ΣΥΝΘΗΚΕΣ ΦΥΛΑΞΗΣ' | Matched :- 'True'\n",
      "2021-06-19 00:33:13,780 : Heading Extraction Elocta_clean_ ΕΠΙΣΗΜΑΝΣΗ.json_E : Validation Passed | H | CAP |  el | 2 | Elocta_clean_ ΕΠΙΣΗΜΑΝΣΗ.json | currHeadId :- '22011' | prevHeadingCurrId :- '22010' | prevHeadingFoundId :- '22010'\n",
      "2021-06-19 00:33:16,753 : Heading Extraction Elocta_clean_ ΕΠΙΣΗΜΑΝΣΗ.json_E : Match Passed | H | CAP |  el | 2 | Elocta_clean_ ΕΠΙΣΗΜΑΝΣΗ.json | Doc txt :- '10. ΙΔΙΑΙΤΕΡΕΣ ΠΡΟΦΥΛΑΞΕΙΣ ΓΙΑ ΤΗΝ ΑΠΟΡΡΙΨΗ ΤΩΝ ΜΗ ΧΡΗΣΙΜΟΠΟΙΗΘΕΝΤΩΝ ΦΑΡΜΑΚΕΥΤΙΚΩΝ ΠΡΟΪΟΝΤΩΝ Ή ΤΩΝ ΥΠΟΛΕΙΜΜΑΤΩΝ ΠΟΥ ΠΡΟΕΡΧΟΝΤΑΙ ΑΠΟ ΑΥΤΑ, ΕΦΟΣΟΝ ΑΠΑΙΤΕΙΤΑΙ' | Qrd txt :- '10. ΙΔΙΑΙΤΕΡΕΣ ΠΡΟΦΥΛΑΞΕΙΣ ΓΙΑ ΤΗΝ ΑΠΟΡΡΙΨΗ ΤΩΝ ΜΗ ΧΡΗΣΙΜΟΠΟΙΗΘΕΝΤΩΝ ΦΑΡΜΑΚΕΥΤΙΚΩΝ ΠΡΟΪΟΝΤΩΝ Ή ΤΩΝ ΥΠΟΛΕΙΜΜΑΤΩΝ ΠΟΥ ΠΡΟΕΡΧΟΝΤΑΙ ΑΠΟ ΑΥΤΑ, ΕΦΟΣΟΝ ΑΠΑΙΤΕΙΤΑΙ' | Matched :- 'True'\n",
      "2021-06-19 00:33:16,769 : Heading Extraction Elocta_clean_ ΕΠΙΣΗΜΑΝΣΗ.json_E : Validation Passed | H | CAP |  el | 2 | Elocta_clean_ ΕΠΙΣΗΜΑΝΣΗ.json | currHeadId :- '22012' | prevHeadingCurrId :- '22011' | prevHeadingFoundId :- '22011'\n",
      "2021-06-19 00:33:17,254 : Heading Extraction Elocta_clean_ ΕΠΙΣΗΜΑΝΣΗ.json_E : Match Passed | H | CAP |  el | 2 | Elocta_clean_ ΕΠΙΣΗΜΑΝΣΗ.json | Doc txt :- '11. ΟΝΟΜΑ ΚΑΙ ΔΙΕΥΘΥΝΣΗ ΚΑΤΟΧΟΥ ΤΗΣ ΑΔΕΙΑΣ ΚΥΚΛΟΦΟΡΙΑΣ' | Qrd txt :- '11. ΟΝΟΜΑ ΚΑΙ ΔΙΕΥΘΥΝΣΗ ΚΑΤΟΧΟΥ ΤΗΣ ΑΔΕΙΑΣ ΚΥΚΛΟΦΟΡΙΑΣ' | Matched :- 'True'\n",
      "2021-06-19 00:33:17,267 : Heading Extraction Elocta_clean_ ΕΠΙΣΗΜΑΝΣΗ.json_E : Validation Passed | H | CAP |  el | 2 | Elocta_clean_ ΕΠΙΣΗΜΑΝΣΗ.json | currHeadId :- '22013' | prevHeadingCurrId :- '22012' | prevHeadingFoundId :- '22012'\n",
      "2021-06-19 00:33:18,851 : Heading Extraction Elocta_clean_ ΕΠΙΣΗΜΑΝΣΗ.json_E : Match Passed | H | CAP |  el | 2 | Elocta_clean_ ΕΠΙΣΗΜΑΝΣΗ.json | Doc txt :- '12. ΑΡΙΘΜΟΣ(ΟΙ) ΑΔΕΙΑΣ ΚΥΚΛΟΦΟΡΙΑΣ' | Qrd txt :- '12. ΑΡΙΘΜΟΣ(ΟΙ) ΑΔΕΙΑΣ ΚΥΚΛΟΦΟΡΙΑΣ' | Matched :- 'True'\n",
      "2021-06-19 00:33:18,871 : Heading Extraction Elocta_clean_ ΕΠΙΣΗΜΑΝΣΗ.json_E : Validation Passed | H | CAP |  el | 2 | Elocta_clean_ ΕΠΙΣΗΜΑΝΣΗ.json | currHeadId :- '22014' | prevHeadingCurrId :- '22013' | prevHeadingFoundId :- '22013'\n",
      "2021-06-19 00:33:19,490 : Heading Extraction Elocta_clean_ ΕΠΙΣΗΜΑΝΣΗ.json_E : Match Passed : Contains<>|175.0|(53, 100, 90)|0.873| | H | CAP |  el | 2 | Elocta_clean_ ΕΠΙΣΗΜΑΝΣΗ.json | Doc txt :- '13.     ΑΡΙΘΜΟΣ ΠΑΡΤΙΔΑΣ' | Qrd txt :- '13. ΑΡΙΘΜΟΣ ΠΑΡΤΙΔΑΣ<, ΣΤΟΙΧΕΙΑ ΔΟΤΗ ΚΑΙ ΚΩΔΙΚΟΙ ΠΡΟΪΟΝΤΟΣ>' | Matched :- 'True'\n",
      "2021-06-19 00:33:19,503 : Heading Extraction Elocta_clean_ ΕΠΙΣΗΜΑΝΣΗ.json_E : Validation Passed | H | CAP |  el | 2 | Elocta_clean_ ΕΠΙΣΗΜΑΝΣΗ.json | currHeadId :- '22015' | prevHeadingCurrId :- '22014' | prevHeadingFoundId :- '22014'\n",
      "2021-06-19 00:33:19,930 : Heading Extraction Elocta_clean_ ΕΠΙΣΗΜΑΝΣΗ.json_E : Match Passed | H | CAP |  el | 2 | Elocta_clean_ ΕΠΙΣΗΜΑΝΣΗ.json | Doc txt :- '14. ΓΕΝΙΚΗ ΚΑΤΑΤΑΞΗ ΓΙΑ ΤΗ ΔΙΑΘΕΣΗ' | Qrd txt :- '14. ΓΕΝΙΚΗ ΚΑΤΑΤΑΞΗ ΓΙΑ ΤΗ ΔΙΑΘΕΣΗ' | Matched :- 'True'\n",
      "2021-06-19 00:33:19,945 : Heading Extraction Elocta_clean_ ΕΠΙΣΗΜΑΝΣΗ.json_E : Validation Passed | H | CAP |  el | 2 | Elocta_clean_ ΕΠΙΣΗΜΑΝΣΗ.json | currHeadId :- '22016' | prevHeadingCurrId :- '22015' | prevHeadingFoundId :- '22015'\n",
      "2021-06-19 00:33:20,243 : Heading Extraction Elocta_clean_ ΕΠΙΣΗΜΑΝΣΗ.json_E : Match Passed | H | CAP |  el | 2 | Elocta_clean_ ΕΠΙΣΗΜΑΝΣΗ.json | Doc txt :- '15. ΟΔΗΓΙΕΣ ΧΡΗΣΗΣ' | Qrd txt :- '15. ΟΔΗΓΙΕΣ ΧΡΗΣΗΣ' | Matched :- 'True'\n",
      "2021-06-19 00:33:20,257 : Heading Extraction Elocta_clean_ ΕΠΙΣΗΜΑΝΣΗ.json_E : Validation Passed | H | CAP |  el | 2 | Elocta_clean_ ΕΠΙΣΗΜΑΝΣΗ.json | currHeadId :- '22017' | prevHeadingCurrId :- '22016' | prevHeadingFoundId :- '22016'\n",
      "2021-06-19 00:33:20,614 : Heading Extraction Elocta_clean_ ΕΠΙΣΗΜΑΝΣΗ.json_E : Match Passed | H | CAP |  el | 2 | Elocta_clean_ ΕΠΙΣΗΜΑΝΣΗ.json | Doc txt :- '16. ΠΛΗΡΟΦΟΡΙΕΣ ΣΕ BRAILLE' | Qrd txt :- '16. ΠΛΗΡΟΦΟΡΙΕΣ ΣΕ BRAILLE' | Matched :- 'True'\n"
     ]
    },
    {
     "name": "stderr",
     "output_type": "stream",
     "text": [
      "2021-06-19 00:33:20,628 : Heading Extraction Elocta_clean_ ΕΠΙΣΗΜΑΝΣΗ.json_E : Validation Passed | H | CAP |  el | 2 | Elocta_clean_ ΕΠΙΣΗΜΑΝΣΗ.json | currHeadId :- '22018' | prevHeadingCurrId :- '22017' | prevHeadingFoundId :- '22017'\n",
      "2021-06-19 00:33:21,656 : Heading Extraction Elocta_clean_ ΕΠΙΣΗΜΑΝΣΗ.json_E : Match Passed | H | CAP |  el | 2 | Elocta_clean_ ΕΠΙΣΗΜΑΝΣΗ.json | Doc txt :- '17. ΜΟΝΑΔΙΚΟΣ ΑΝΑΓΝΩΡΙΣΤΙΚΟΣ ΚΩΔΙΚΟΣ – ΔΙΣΔΙΑΣΤΑΤΟΣ ΓΡΑΜΜΩΤΟΣ ΚΩΔΙΚΑΣ (2D)' | Qrd txt :- '17. ΜΟΝΑΔΙΚΟΣ ΑΝΑΓΝΩΡΙΣΤΙΚΟΣ ΚΩΔΙΚΟΣ – ΔΙΣΔΙΑΣΤΑΤΟΣ ΓΡΑΜΜΩΤΟΣ ΚΩΔΙΚΑΣ (2D)' | Matched :- 'True'\n",
      "2021-06-19 00:33:21,682 : Heading Extraction Elocta_clean_ ΕΠΙΣΗΜΑΝΣΗ.json_E : Validation Passed | H | CAP |  el | 2 | Elocta_clean_ ΕΠΙΣΗΜΑΝΣΗ.json | currHeadId :- '22019' | prevHeadingCurrId :- '22018' | prevHeadingFoundId :- '22018'\n",
      "2021-06-19 00:33:23,688 : Heading Extraction Elocta_clean_ ΕΠΙΣΗΜΑΝΣΗ.json_E : Match Passed | H | CAP |  el | 2 | Elocta_clean_ ΕΠΙΣΗΜΑΝΣΗ.json | Doc txt :- '18. ΜΟΝΑΔΙΚΟΣ ΑΝΑΓΝΩΡΙΣΤΙΚΟΣ ΚΩΔΙΚΟΣ – ΔΕΔΟΜΕΝΑ ΑΝΑΓΝΩΣΙΜΑ ΑΠΟ ΤΟΝ ΑΝΘΡΩΠΟ' | Qrd txt :- '18. ΜΟΝΑΔΙΚΟΣ ΑΝΑΓΝΩΡΙΣΤΙΚΟΣ ΚΩΔΙΚΟΣ – ΔΕΔΟΜΕΝΑ ΑΝΑΓΝΩΣΙΜΑ ΑΠΟ ΤΟΝ ΑΝΘΡΩΠΟ' | Matched :- 'True'\n",
      "2021-06-19 00:33:23,707 : Heading Extraction Elocta_clean_ ΕΠΙΣΗΜΑΝΣΗ.json_E : Validation Passed | H | CAP |  el | 2 | Elocta_clean_ ΕΠΙΣΗΜΑΝΣΗ.json | currHeadId :- '22020' | prevHeadingCurrId :- '22019' | prevHeadingFoundId :- '22019'\n",
      "2021-06-19 00:33:24,610 : Heading Extraction Elocta_clean_ ΕΠΙΣΗΜΑΝΣΗ.json_E : Match Passed | H | CAP |  el | 2 | Elocta_clean_ ΕΠΙΣΗΜΑΝΣΗ.json | Doc txt :- 'ΕΛΑΧΙΣΤΕΣ ΕΝΔΕΙΞΕΙΣ ΠΟΥ ΠΡΕΠΕΙ ΝΑ ΑΝΑΓΡΑΦΟΝΤΑΙ ΣΤΙΣ ΜΙΚΡΕΣ ΣΤΟΙΧΕΙΩΔΕΙΣ ΣΥΣΚΕΥΑΣΙΕΣ' | Qrd txt :- 'ΕΛΑΧΙΣΤΕΣ ΕΝΔΕΙΞΕΙΣ ΠΟΥ ΠΡΕΠΕΙ ΝΑ ΑΝΑΓΡΑΦΟΝΤΑΙ ΣΤΙΣ ΜΙΚΡΕΣ ΣΤΟΙΧΕΙΩΔΕΙΣ ΣΥΣΚΕΥΑΣΙΕΣ' | Matched :- 'True'\n",
      "2021-06-19 00:33:24,625 : Heading Extraction Elocta_clean_ ΕΠΙΣΗΜΑΝΣΗ.json_E : Validation Flow Is Broken | H | CAP |  el | 2 | Elocta_clean_ ΕΠΙΣΗΜΑΝΣΗ.json | currHeadId :- '22027' | prevHeadingCurrId :- '' | prevHeadingFoundId :- '22020'\n",
      "2021-06-19 00:33:24,639 : Heading Extraction Elocta_clean_ ΕΠΙΣΗΜΑΝΣΗ.json_E : Validation Passed | H | CAP |  el | 2 | Elocta_clean_ ΕΠΙΣΗΜΑΝΣΗ.json | currHeadId :- '22027' | prevHeadingCurrId :- '22020' | prevHeadingFoundId :- '22020'\n",
      "2021-06-19 00:33:26,251 : Heading Extraction Elocta_clean_ ΕΠΙΣΗΜΑΝΣΗ.json_E : Match Passed | H | CAP |  el | 2 | Elocta_clean_ ΕΠΙΣΗΜΑΝΣΗ.json | Doc txt :- '1. ΟΝΟΜΑΣΙΑ ΤΟΥ ΦΑΡΜΑΚΕΥΤΙΚΟΥ ΠΡΟΪΟΝΤΟΣ ΚΑΙ ΟΔΟΣ(ΟΙ) ΧΟΡΗΓΗΣΗΣ' | Qrd txt :- '1. ΟΝΟΜΑΣΙΑ ΤΟΥ ΦΑΡΜΑΚΕΥΤΙΚΟΥ ΠΡΟΪΟΝΤΟΣ ΚΑΙ ΟΔΟΣ(ΟΙ) ΧΟΡΗΓΗΣΗΣ' | Matched :- 'True'\n",
      "2021-06-19 00:33:26,266 : Heading Extraction Elocta_clean_ ΕΠΙΣΗΜΑΝΣΗ.json_E : Validation Passed | H | CAP |  el | 2 | Elocta_clean_ ΕΠΙΣΗΜΑΝΣΗ.json | currHeadId :- '22028' | prevHeadingCurrId :- '22027' | prevHeadingFoundId :- '22027'\n",
      "2021-06-19 00:33:29,903 : Heading Extraction Elocta_clean_ ΕΠΙΣΗΜΑΝΣΗ.json_E : Match Passed | H | CAP |  el | 2 | Elocta_clean_ ΕΠΙΣΗΜΑΝΣΗ.json | Doc txt :- '2. ΤΡΟΠΟΣ ΧΟΡΗΓΗΣΗΣ' | Qrd txt :- '2. ΤΡΟΠΟΣ ΧΟΡΗΓΗΣΗΣ' | Matched :- 'True'\n",
      "2021-06-19 00:33:29,916 : Heading Extraction Elocta_clean_ ΕΠΙΣΗΜΑΝΣΗ.json_E : Validation Passed | H | CAP |  el | 2 | Elocta_clean_ ΕΠΙΣΗΜΑΝΣΗ.json | currHeadId :- '22029' | prevHeadingCurrId :- '22028' | prevHeadingFoundId :- '22028'\n",
      "2021-06-19 00:33:30,108 : Heading Extraction Elocta_clean_ ΕΠΙΣΗΜΑΝΣΗ.json_E : Match Passed : <=4|5.26|(95, 95, 95)|0.98| | H | CAP |  el | 2 | Elocta_clean_ ΕΠΙΣΗΜΑΝΣΗ.json | Doc txt :- '3.       ΗΜΕΡΟΜΗΝΙΑ ΛΗΞΗΣ' | Qrd txt :- '8. ΗΜΕΡΟΜΗΝΙΑ ΛΗΞΗΣ' | Matched :- 'True'\n",
      "2021-06-19 00:33:30,122 : Heading Extraction Elocta_clean_ ΕΠΙΣΗΜΑΝΣΗ.json_E : Validation Failed As Previous Heading Found is not matching | H | CAP |  el | 2 | Elocta_clean_ ΕΠΙΣΗΜΑΝΣΗ.json | currHeadId :- '22010' | prevHeadingCurrId :- '22009' | prevHeadingFoundId :- '22029'\n",
      "2021-06-19 00:33:30,386 : Heading Extraction Elocta_clean_ ΕΠΙΣΗΜΑΝΣΗ.json_E : Match Passed | H | CAP |  el | 2 | Elocta_clean_ ΕΠΙΣΗΜΑΝΣΗ.json | Doc txt :- '3. ΗΜΕΡΟΜΗΝΙΑ ΛΗΞΗΣ' | Qrd txt :- '3. ΗΜΕΡΟΜΗΝΙΑ ΛΗΞΗΣ' | Matched :- 'True'\n",
      "2021-06-19 00:33:30,403 : Heading Extraction Elocta_clean_ ΕΠΙΣΗΜΑΝΣΗ.json_E : Validation Failed As Wrong Heading Found | H | CAP |  el | 2 | Elocta_clean_ ΕΠΙΣΗΜΑΝΣΗ.json | currHeadId :- '22024' | prevHeadingCurrId :- '' | prevHeadingFoundId :- '22029'\n",
      "2021-06-19 00:33:30,493 : Heading Extraction Elocta_clean_ ΕΠΙΣΗΜΑΝΣΗ.json_E : Match Passed | H | CAP |  el | 2 | Elocta_clean_ ΕΠΙΣΗΜΑΝΣΗ.json | Doc txt :- '3. ΗΜΕΡΟΜΗΝΙΑ ΛΗΞΗΣ' | Qrd txt :- '3. ΗΜΕΡΟΜΗΝΙΑ ΛΗΞΗΣ' | Matched :- 'True'\n",
      "2021-06-19 00:33:30,510 : Heading Extraction Elocta_clean_ ΕΠΙΣΗΜΑΝΣΗ.json_E : Validation Passed | H | CAP |  el | 2 | Elocta_clean_ ΕΠΙΣΗΜΑΝΣΗ.json | currHeadId :- '22030' | prevHeadingCurrId :- '22029' | prevHeadingFoundId :- '22029'\n",
      "2021-06-19 00:33:30,821 : Heading Extraction Elocta_clean_ ΕΠΙΣΗΜΑΝΣΗ.json_E : Match Passed : Contains<>|194.74|(49, 95, 86)|0.758| | H | CAP |  el | 2 | Elocta_clean_ ΕΠΙΣΗΜΑΝΣΗ.json | Doc txt :- '4.       ΑΡΙΘΜΟΣ ΠΑΡΤΙΔΑΣ' | Qrd txt :- '13. ΑΡΙΘΜΟΣ ΠΑΡΤΙΔΑΣ<, ΣΤΟΙΧΕΙΑ ΔΟΤΗ ΚΑΙ ΚΩΔΙΚΟΙ ΠΡΟΪΟΝΤΟΣ>' | Matched :- 'True'\n",
      "2021-06-19 00:33:30,838 : Heading Extraction Elocta_clean_ ΕΠΙΣΗΜΑΝΣΗ.json_E : Validation Failed As Previous Heading Found is not matching | H | CAP |  el | 2 | Elocta_clean_ ΕΠΙΣΗΜΑΝΣΗ.json | currHeadId :- '22015' | prevHeadingCurrId :- '22014' | prevHeadingFoundId :- '22030'\n",
      "2021-06-19 00:33:31,070 : Heading Extraction Elocta_clean_ ΕΠΙΣΗΜΑΝΣΗ.json_E : Match Passed : Contains<>|184.21|(52, 100, 90)|0.87| | H | CAP |  el | 2 | Elocta_clean_ ΕΠΙΣΗΜΑΝΣΗ.json | Doc txt :- '4.       ΑΡΙΘΜΟΣ ΠΑΡΤΙΔΑΣ' | Qrd txt :- '4. ΑΡΙΘΜΟΣ ΠΑΡΤΙΔΑΣ<, ΣΤΟΙΧΕΙΑ ΔΟΤΗ ΚΑΙ ΚΩΔΙΚΟΙ ΠΡΟΪΟΝΤΟΣ>' | Matched :- 'True'\n",
      "2021-06-19 00:33:31,088 : Heading Extraction Elocta_clean_ ΕΠΙΣΗΜΑΝΣΗ.json_E : Validation Failed As Wrong Heading Found | H | CAP |  el | 2 | Elocta_clean_ ΕΠΙΣΗΜΑΝΣΗ.json | currHeadId :- '22025' | prevHeadingCurrId :- '' | prevHeadingFoundId :- '22030'\n",
      "2021-06-19 00:33:31,189 : Heading Extraction Elocta_clean_ ΕΠΙΣΗΜΑΝΣΗ.json_E : Match Passed : Contains<>|184.21|(52, 100, 90)|0.87| | H | CAP |  el | 2 | Elocta_clean_ ΕΠΙΣΗΜΑΝΣΗ.json | Doc txt :- '4.       ΑΡΙΘΜΟΣ ΠΑΡΤΙΔΑΣ' | Qrd txt :- '4. ΑΡΙΘΜΟΣ ΠΑΡΤΙΔΑΣ<, ΣΤΟΙΧΕΙΑ ΔΟΤΗ ΚΑΙ ΚΩΔΙΚΟΙ ΠΡΟΪΟΝΤΟΣ>' | Matched :- 'True'\n",
      "2021-06-19 00:33:31,211 : Heading Extraction Elocta_clean_ ΕΠΙΣΗΜΑΝΣΗ.json_E : Validation Passed | H | CAP |  el | 2 | Elocta_clean_ ΕΠΙΣΗΜΑΝΣΗ.json | currHeadId :- '22031' | prevHeadingCurrId :- '22030' | prevHeadingFoundId :- '22030'\n",
      "2021-06-19 00:33:32,172 : Heading Extraction Elocta_clean_ ΕΠΙΣΗΜΑΝΣΗ.json_E : Match Passed : <=7|2.5|(98, 98, 100)|0.995| | H | CAP |  el | 2 | Elocta_clean_ ΕΠΙΣΗΜΑΝΣΗ.json | Doc txt :- '5.       ΠΕΡΙΕΧΟΜΕΝΟ ΚΑΤΑ ΒΑΡΟΣ, ΚΑΤ’ ΟΓΚΟ Ή ΚΑΤΑ ΜΟΝΑΔΑ' | Qrd txt :- '5. ΠΕΡΙΕΧΟΜΕΝΟ ΚΑΤΑ ΒΑΡΟΣ, ΚΑΤ' ΟΓΚΟ Ή ΚΑΤΑ ΜΟΝΑΔΑ' | Matched :- 'True'\n",
      "2021-06-19 00:33:32,185 : Heading Extraction Elocta_clean_ ΕΠΙΣΗΜΑΝΣΗ.json_E : Validation Passed | H | CAP |  el | 2 | Elocta_clean_ ΕΠΙΣΗΜΑΝΣΗ.json | currHeadId :- '22032' | prevHeadingCurrId :- '22031' | prevHeadingFoundId :- '22031'\n",
      "2021-06-19 00:33:32,821 : Heading Extraction Elocta_clean_ ΕΠΙΣΗΜΑΝΣΗ.json_E : Match Passed : <=4|6.25|(94, 94, 94)|0.975| | H | CAP |  el | 2 | Elocta_clean_ ΕΠΙΣΗΜΑΝΣΗ.json | Doc txt :- '6.       ΑΛΛΑ ΣΤΟΙΧΕΙΑ' | Qrd txt :- '5. ΑΛΛΑ ΣΤΟΙΧΕΙΑ' | Matched :- 'True'\n",
      "2021-06-19 00:33:32,839 : Heading Extraction Elocta_clean_ ΕΠΙΣΗΜΑΝΣΗ.json_E : Validation Failed As Wrong Heading Found | H | CAP |  el | 2 | Elocta_clean_ ΕΠΙΣΗΜΑΝΣΗ.json | currHeadId :- '22026' | prevHeadingCurrId :- '' | prevHeadingFoundId :- '22032'\n",
      "2021-06-19 00:33:32,954 : Heading Extraction Elocta_clean_ ΕΠΙΣΗΜΑΝΣΗ.json_E : Match Passed | H | CAP |  el | 2 | Elocta_clean_ ΕΠΙΣΗΜΑΝΣΗ.json | Doc txt :- '6. ΑΛΛΑ ΣΤΟΙΧΕΙΑ' | Qrd txt :- '6. ΑΛΛΑ ΣΤΟΙΧΕΙΑ' | Matched :- 'True'\n",
      "2021-06-19 00:33:32,976 : Heading Extraction Elocta_clean_ ΕΠΙΣΗΜΑΝΣΗ.json_E : Validation Passed | H | CAP |  el | 2 | Elocta_clean_ ΕΠΙΣΗΜΑΝΣΗ.json | currHeadId :- '22033' | prevHeadingCurrId :- '22032' | prevHeadingFoundId :- '22032'\n",
      "2021-06-19 00:33:33,039 : Heading Extraction Elocta_clean_ ΕΠΙΣΗΜΑΝΣΗ.json_E : Match Passed : Contains<>|76.0|(72, 88, 86)|0.922| | H | CAP |  el | 2 | Elocta_clean_ ΕΠΙΣΗΜΑΝΣΗ.json | Doc txt :- 'ΕΝΔΕΙΞΕΙΣ ΠΟΥ ΠΡΕΠΕΙ ΝΑ ΑΝΑΓΡΑΦΟΝΤΑΙ ΣΤΗΝ ΕΞΩΤΕΡΙΚΗ ΣΥΣΚΕΥΑΣΙΑ' | Qrd txt :- 'ΕΝΔΕΙΞΕΙΣ ΠΟΥ ΠΡΕΠΕΙ ΝΑ ΑΝΑΓΡΑΦΟΝΤΑΙ <ΣΤΗΝ ΕΞΩΤΕΡΙΚΗ ΣΥΣΚΕΥΑΣΙΑ> <ΚΑΙ> < ΣΤΗ ΣΤΟΙΧΕΙΩΔΗ ΣΥΣΚΕΥΑΣΙΑ>' | Matched :- 'True'\n"
     ]
    },
    {
     "name": "stderr",
     "output_type": "stream",
     "text": [
      "2021-06-19 00:33:33,061 : Heading Extraction Elocta_clean_ ΕΠΙΣΗΜΑΝΣΗ.json_E : Validation Failed As Wrong Heading Found | H | CAP |  el | 2 | Elocta_clean_ ΕΠΙΣΗΜΑΝΣΗ.json | currHeadId :- '22002' | prevHeadingCurrId :- '' | prevHeadingFoundId :- '22033'\n",
      "2021-06-19 00:33:34,029 : Heading Extraction Elocta_clean_ ΕΠΙΣΗΜΑΝΣΗ.json_E : End Of Sub Section | H | CAP |  el | 2 | Elocta_clean_ ΕΠΙΣΗΜΑΝΣΗ.json\n",
      "2021-06-19 00:33:34,094 : Heading Extraction Elocta_clean_ ΕΠΙΣΗΜΑΝΣΗ.json_E : Match Passed : Contains<>|76.0|(72, 88, 86)|0.922| | H | CAP |  el | 2 | Elocta_clean_ ΕΠΙΣΗΜΑΝΣΗ.json | Doc txt :- 'ΕΝΔΕΙΞΕΙΣ ΠΟΥ ΠΡΕΠΕΙ ΝΑ ΑΝΑΓΡΑΦΟΝΤΑΙ ΣΤΗΝ ΕΞΩΤΕΡΙΚΗ ΣΥΣΚΕΥΑΣΙΑ' | Qrd txt :- 'ΕΝΔΕΙΞΕΙΣ ΠΟΥ ΠΡΕΠΕΙ ΝΑ ΑΝΑΓΡΑΦΟΝΤΑΙ <ΣΤΗΝ ΕΞΩΤΕΡΙΚΗ ΣΥΣΚΕΥΑΣΙΑ> <ΚΑΙ> < ΣΤΗ ΣΤΟΙΧΕΙΩΔΗ ΣΥΣΚΕΥΑΣΙΑ>' | Matched :- 'True'\n",
      "2021-06-19 00:33:34,107 : Heading Extraction Elocta_clean_ ΕΠΙΣΗΜΑΝΣΗ.json_E : Validation Passed As This The First Heading | H | CAP |  el | 2 | Elocta_clean_ ΕΠΙΣΗΜΑΝΣΗ.json | currHeadId :- '22002' | prevHeadingCurrId :- '' | prevHeadingFoundId :- ''\n"
     ]
    },
    {
     "name": "stdout",
     "output_type": "stream",
     "text": [
      "oooooooooooooooooooooooooooooooooooooooo END OF Sub Section oooooooooooooooooooooooooooooooooooooooooooooooooooooooooooo\n"
     ]
    },
    {
     "name": "stderr",
     "output_type": "stream",
     "text": [
      "2021-06-19 00:33:34,777 : Heading Extraction Elocta_clean_ ΕΠΙΣΗΜΑΝΣΗ.json_E : Match Passed | H | CAP |  el | 2 | Elocta_clean_ ΕΠΙΣΗΜΑΝΣΗ.json | Doc txt :- '1. ΟΝΟΜΑΣΙΑ ΤΟΥ ΦΑΡΜΑΚΕΥΤΙΚΟΥ ΠΡΟΪΟΝΤΟΣ' | Qrd txt :- '1. ΟΝΟΜΑΣΙΑ ΤΟΥ ΦΑΡΜΑΚΕΥΤΙΚΟΥ ΠΡΟΪΟΝΤΟΣ' | Matched :- 'True'\n",
      "2021-06-19 00:33:34,797 : Heading Extraction Elocta_clean_ ΕΠΙΣΗΜΑΝΣΗ.json_E : Validation Passed | H | CAP |  el | 2 | Elocta_clean_ ΕΠΙΣΗΜΑΝΣΗ.json | currHeadId :- '22003' | prevHeadingCurrId :- '22002' | prevHeadingFoundId :- '22002'\n",
      "2021-06-19 00:33:37,656 : Heading Extraction Elocta_clean_ ΕΠΙΣΗΜΑΝΣΗ.json_E : Match Passed | H | CAP |  el | 2 | Elocta_clean_ ΕΠΙΣΗΜΑΝΣΗ.json | Doc txt :- '2. ΣΥΝΘΕΣΗ ΣΕ ΔΡΑΣΤΙΚΗ(ΕΣ) ΟΥΣΙΑ(ΕΣ)' | Qrd txt :- '2. ΣΥΝΘΕΣΗ ΣΕ ΔΡΑΣΤΙΚΗ(ΕΣ) ΟΥΣΙΑ(ΕΣ)' | Matched :- 'True'\n",
      "2021-06-19 00:33:37,669 : Heading Extraction Elocta_clean_ ΕΠΙΣΗΜΑΝΣΗ.json_E : Validation Passed | H | CAP |  el | 2 | Elocta_clean_ ΕΠΙΣΗΜΑΝΣΗ.json | currHeadId :- '22004' | prevHeadingCurrId :- '22003' | prevHeadingFoundId :- '22003'\n",
      "2021-06-19 00:33:40,268 : Heading Extraction Elocta_clean_ ΕΠΙΣΗΜΑΝΣΗ.json_E : Match Passed | H | CAP |  el | 2 | Elocta_clean_ ΕΠΙΣΗΜΑΝΣΗ.json | Doc txt :- '3. ΚΑΤΑΛΟΓΟΣ ΕΚΔΟΧΩΝ' | Qrd txt :- '3. ΚΑΤΑΛΟΓΟΣ ΕΚΔΟΧΩΝ' | Matched :- 'True'\n",
      "2021-06-19 00:33:40,300 : Heading Extraction Elocta_clean_ ΕΠΙΣΗΜΑΝΣΗ.json_E : Validation Passed | H | CAP |  el | 2 | Elocta_clean_ ΕΠΙΣΗΜΑΝΣΗ.json | currHeadId :- '22005' | prevHeadingCurrId :- '22004' | prevHeadingFoundId :- '22004'\n",
      "2021-06-19 00:33:43,138 : Heading Extraction Elocta_clean_ ΕΠΙΣΗΜΑΝΣΗ.json_E : Match Passed | H | CAP |  el | 2 | Elocta_clean_ ΕΠΙΣΗΜΑΝΣΗ.json | Doc txt :- '4. ΦΑΡΜΑΚΟΤΕΧΝΙΚΗ ΜΟΡΦΗ ΚΑΙ ΠΕΡΙΕΧΟΜΕΝΟ' | Qrd txt :- '4. ΦΑΡΜΑΚΟΤΕΧΝΙΚΗ ΜΟΡΦΗ ΚΑΙ ΠΕΡΙΕΧΟΜΕΝΟ' | Matched :- 'True'\n",
      "2021-06-19 00:33:43,154 : Heading Extraction Elocta_clean_ ΕΠΙΣΗΜΑΝΣΗ.json_E : Validation Passed | H | CAP |  el | 2 | Elocta_clean_ ΕΠΙΣΗΜΑΝΣΗ.json | currHeadId :- '22006' | prevHeadingCurrId :- '22005' | prevHeadingFoundId :- '22005'\n",
      "2021-06-19 00:33:45,163 : Heading Extraction Elocta_clean_ ΕΠΙΣΗΜΑΝΣΗ.json_E : Match Passed | H | CAP |  el | 2 | Elocta_clean_ ΕΠΙΣΗΜΑΝΣΗ.json | Doc txt :- '5. ΤΡΟΠΟΣ ΚΑΙ ΟΔΟΣ(ΟΙ) ΧΟΡΗΓΗΣΗΣ' | Qrd txt :- '5. ΤΡΟΠΟΣ ΚΑΙ ΟΔΟΣ(ΟΙ) ΧΟΡΗΓΗΣΗΣ' | Matched :- 'True'\n",
      "2021-06-19 00:33:45,181 : Heading Extraction Elocta_clean_ ΕΠΙΣΗΜΑΝΣΗ.json_E : Validation Passed | H | CAP |  el | 2 | Elocta_clean_ ΕΠΙΣΗΜΑΝΣΗ.json | currHeadId :- '22007' | prevHeadingCurrId :- '22006' | prevHeadingFoundId :- '22006'\n",
      "2021-06-19 00:33:48,798 : Heading Extraction Elocta_clean_ ΕΠΙΣΗΜΑΝΣΗ.json_E : Match Passed | H | CAP |  el | 2 | Elocta_clean_ ΕΠΙΣΗΜΑΝΣΗ.json | Doc txt :- '6. ΕΙΔΙΚΗ ΠΡΟΕΙΔΟΠΟΙΗΣΗ ΣΥΜΦΩΝΑ ΜΕ ΤΗΝ ΟΠΟΙΑ ΤΟ ΦΑΡΜΑΚΕΥΤΙΚΟ ΠΡΟΪΟΝ ΠΡΕΠΕΙ ΝΑ ΦΥΛΑΣΣΕΤΑΙ ΣΕ ΘΕΣΗ ΤΗΝ ΟΠΟΙΑ ΔΕΝ ΒΛΕΠΟΥΝ ΚΑΙ ΔΕΝ ΠΡΟΣΕΓΓΙΖΟΥΝ ΤΑ ΠΑΙΔΙΑ' | Qrd txt :- '6. ΕΙΔΙΚΗ ΠΡΟΕΙΔΟΠΟΙΗΣΗ ΣΥΜΦΩΝΑ ΜΕ ΤΗΝ ΟΠΟΙΑ ΤΟ ΦΑΡΜΑΚΕΥΤΙΚΟ ΠΡΟΪΟΝ ΠΡΕΠΕΙ ΝΑ ΦΥΛΑΣΣΕΤΑΙ ΣΕ ΘΕΣΗ ΤΗΝ ΟΠΟΙΑ ΔΕΝ ΒΛΕΠΟΥΝ ΚΑΙ ΔΕΝ ΠΡΟΣΕΓΓΙΖΟΥΝ ΤΑ ΠΑΙΔΙΑ' | Matched :- 'True'\n",
      "2021-06-19 00:33:48,815 : Heading Extraction Elocta_clean_ ΕΠΙΣΗΜΑΝΣΗ.json_E : Validation Passed | H | CAP |  el | 2 | Elocta_clean_ ΕΠΙΣΗΜΑΝΣΗ.json | currHeadId :- '22008' | prevHeadingCurrId :- '22007' | prevHeadingFoundId :- '22007'\n",
      "2021-06-19 00:33:49,932 : Heading Extraction Elocta_clean_ ΕΠΙΣΗΜΑΝΣΗ.json_E : Match Passed | H | CAP |  el | 2 | Elocta_clean_ ΕΠΙΣΗΜΑΝΣΗ.json | Doc txt :- '7. ΑΛΛΗ(ΕΣ) ΕΙΔΙΚΗ(ΕΣ) ΠΡΟΕΙΔΟΠΟΙΗΣΗ(ΕΙΣ), ΕΑΝ ΕΙΝΑΙ ΑΠΑΡΑΙΤΗΤΗ(ΕΣ)' | Qrd txt :- '7. ΑΛΛΗ(ΕΣ) ΕΙΔΙΚΗ(ΕΣ) ΠΡΟΕΙΔΟΠΟΙΗΣΗ(ΕΙΣ), ΕΑΝ ΕΙΝΑΙ ΑΠΑΡΑΙΤΗΤΗ(ΕΣ)' | Matched :- 'True'\n",
      "2021-06-19 00:33:49,952 : Heading Extraction Elocta_clean_ ΕΠΙΣΗΜΑΝΣΗ.json_E : Validation Passed | H | CAP |  el | 2 | Elocta_clean_ ΕΠΙΣΗΜΑΝΣΗ.json | currHeadId :- '22009' | prevHeadingCurrId :- '22008' | prevHeadingFoundId :- '22008'\n",
      "2021-06-19 00:33:50,152 : Heading Extraction Elocta_clean_ ΕΠΙΣΗΜΑΝΣΗ.json_E : Match Passed | H | CAP |  el | 2 | Elocta_clean_ ΕΠΙΣΗΜΑΝΣΗ.json | Doc txt :- '8. ΗΜΕΡΟΜΗΝΙΑ ΛΗΞΗΣ' | Qrd txt :- '8. ΗΜΕΡΟΜΗΝΙΑ ΛΗΞΗΣ' | Matched :- 'True'\n",
      "2021-06-19 00:33:50,166 : Heading Extraction Elocta_clean_ ΕΠΙΣΗΜΑΝΣΗ.json_E : Validation Passed | H | CAP |  el | 2 | Elocta_clean_ ΕΠΙΣΗΜΑΝΣΗ.json | currHeadId :- '22010' | prevHeadingCurrId :- '22009' | prevHeadingFoundId :- '22009'\n",
      "2021-06-19 00:33:51,108 : Heading Extraction Elocta_clean_ ΕΠΙΣΗΜΑΝΣΗ.json_E : Match Passed | H | CAP |  el | 2 | Elocta_clean_ ΕΠΙΣΗΜΑΝΣΗ.json | Doc txt :- '9. ΕΙΔΙΚΕΣ ΣΥΝΘΗΚΕΣ ΦΥΛΑΞΗΣ' | Qrd txt :- '9. ΕΙΔΙΚΕΣ ΣΥΝΘΗΚΕΣ ΦΥΛΑΞΗΣ' | Matched :- 'True'\n",
      "2021-06-19 00:33:51,129 : Heading Extraction Elocta_clean_ ΕΠΙΣΗΜΑΝΣΗ.json_E : Validation Passed | H | CAP |  el | 2 | Elocta_clean_ ΕΠΙΣΗΜΑΝΣΗ.json | currHeadId :- '22011' | prevHeadingCurrId :- '22010' | prevHeadingFoundId :- '22010'\n",
      "2021-06-19 00:33:53,916 : Heading Extraction Elocta_clean_ ΕΠΙΣΗΜΑΝΣΗ.json_E : Match Passed | H | CAP |  el | 2 | Elocta_clean_ ΕΠΙΣΗΜΑΝΣΗ.json | Doc txt :- '10. ΙΔΙΑΙΤΕΡΕΣ ΠΡΟΦΥΛΑΞΕΙΣ ΓΙΑ ΤΗΝ ΑΠΟΡΡΙΨΗ ΤΩΝ ΜΗ ΧΡΗΣΙΜΟΠΟΙΗΘΕΝΤΩΝ ΦΑΡΜΑΚΕΥΤΙΚΩΝ ΠΡΟΪΟΝΤΩΝ Ή ΤΩΝ ΥΠΟΛΕΙΜΜΑΤΩΝ ΠΟΥ ΠΡΟΕΡΧΟΝΤΑΙ ΑΠΟ ΑΥΤΑ, ΕΦΟΣΟΝ ΑΠΑΙΤΕΙΤΑΙ' | Qrd txt :- '10. ΙΔΙΑΙΤΕΡΕΣ ΠΡΟΦΥΛΑΞΕΙΣ ΓΙΑ ΤΗΝ ΑΠΟΡΡΙΨΗ ΤΩΝ ΜΗ ΧΡΗΣΙΜΟΠΟΙΗΘΕΝΤΩΝ ΦΑΡΜΑΚΕΥΤΙΚΩΝ ΠΡΟΪΟΝΤΩΝ Ή ΤΩΝ ΥΠΟΛΕΙΜΜΑΤΩΝ ΠΟΥ ΠΡΟΕΡΧΟΝΤΑΙ ΑΠΟ ΑΥΤΑ, ΕΦΟΣΟΝ ΑΠΑΙΤΕΙΤΑΙ' | Matched :- 'True'\n",
      "2021-06-19 00:33:53,933 : Heading Extraction Elocta_clean_ ΕΠΙΣΗΜΑΝΣΗ.json_E : Validation Passed | H | CAP |  el | 2 | Elocta_clean_ ΕΠΙΣΗΜΑΝΣΗ.json | currHeadId :- '22012' | prevHeadingCurrId :- '22011' | prevHeadingFoundId :- '22011'\n",
      "2021-06-19 00:33:54,418 : Heading Extraction Elocta_clean_ ΕΠΙΣΗΜΑΝΣΗ.json_E : Match Passed | H | CAP |  el | 2 | Elocta_clean_ ΕΠΙΣΗΜΑΝΣΗ.json | Doc txt :- '11. ΟΝΟΜΑ ΚΑΙ ΔΙΕΥΘΥΝΣΗ ΚΑΤΟΧΟΥ ΤΗΣ ΑΔΕΙΑΣ ΚΥΚΛΟΦΟΡΙΑΣ' | Qrd txt :- '11. ΟΝΟΜΑ ΚΑΙ ΔΙΕΥΘΥΝΣΗ ΚΑΤΟΧΟΥ ΤΗΣ ΑΔΕΙΑΣ ΚΥΚΛΟΦΟΡΙΑΣ' | Matched :- 'True'\n",
      "2021-06-19 00:33:54,434 : Heading Extraction Elocta_clean_ ΕΠΙΣΗΜΑΝΣΗ.json_E : Validation Passed | H | CAP |  el | 2 | Elocta_clean_ ΕΠΙΣΗΜΑΝΣΗ.json | currHeadId :- '22013' | prevHeadingCurrId :- '22012' | prevHeadingFoundId :- '22012'\n",
      "2021-06-19 00:33:56,071 : Heading Extraction Elocta_clean_ ΕΠΙΣΗΜΑΝΣΗ.json_E : Match Passed | H | CAP |  el | 2 | Elocta_clean_ ΕΠΙΣΗΜΑΝΣΗ.json | Doc txt :- '12. ΑΡΙΘΜΟΣ(ΟΙ) ΑΔΕΙΑΣ ΚΥΚΛΟΦΟΡΙΑΣ' | Qrd txt :- '12. ΑΡΙΘΜΟΣ(ΟΙ) ΑΔΕΙΑΣ ΚΥΚΛΟΦΟΡΙΑΣ' | Matched :- 'True'\n",
      "2021-06-19 00:33:56,085 : Heading Extraction Elocta_clean_ ΕΠΙΣΗΜΑΝΣΗ.json_E : Validation Passed | H | CAP |  el | 2 | Elocta_clean_ ΕΠΙΣΗΜΑΝΣΗ.json | currHeadId :- '22014' | prevHeadingCurrId :- '22013' | prevHeadingFoundId :- '22013'\n",
      "2021-06-19 00:33:56,747 : Heading Extraction Elocta_clean_ ΕΠΙΣΗΜΑΝΣΗ.json_E : Match Passed : Contains<>|175.0|(53, 100, 90)|0.873| | H | CAP |  el | 2 | Elocta_clean_ ΕΠΙΣΗΜΑΝΣΗ.json | Doc txt :- '13.     ΑΡΙΘΜΟΣ ΠΑΡΤΙΔΑΣ' | Qrd txt :- '13. ΑΡΙΘΜΟΣ ΠΑΡΤΙΔΑΣ<, ΣΤΟΙΧΕΙΑ ΔΟΤΗ ΚΑΙ ΚΩΔΙΚΟΙ ΠΡΟΪΟΝΤΟΣ>' | Matched :- 'True'\n",
      "2021-06-19 00:33:56,764 : Heading Extraction Elocta_clean_ ΕΠΙΣΗΜΑΝΣΗ.json_E : Validation Passed | H | CAP |  el | 2 | Elocta_clean_ ΕΠΙΣΗΜΑΝΣΗ.json | currHeadId :- '22015' | prevHeadingCurrId :- '22014' | prevHeadingFoundId :- '22014'\n",
      "2021-06-19 00:33:57,315 : Heading Extraction Elocta_clean_ ΕΠΙΣΗΜΑΝΣΗ.json_E : Match Passed | H | CAP |  el | 2 | Elocta_clean_ ΕΠΙΣΗΜΑΝΣΗ.json | Doc txt :- '14. ΓΕΝΙΚΗ ΚΑΤΑΤΑΞΗ ΓΙΑ ΤΗ ΔΙΑΘΕΣΗ' | Qrd txt :- '14. ΓΕΝΙΚΗ ΚΑΤΑΤΑΞΗ ΓΙΑ ΤΗ ΔΙΑΘΕΣΗ' | Matched :- 'True'\n",
      "2021-06-19 00:33:57,355 : Heading Extraction Elocta_clean_ ΕΠΙΣΗΜΑΝΣΗ.json_E : Validation Passed | H | CAP |  el | 2 | Elocta_clean_ ΕΠΙΣΗΜΑΝΣΗ.json | currHeadId :- '22016' | prevHeadingCurrId :- '22015' | prevHeadingFoundId :- '22015'\n",
      "2021-06-19 00:33:57,878 : Heading Extraction Elocta_clean_ ΕΠΙΣΗΜΑΝΣΗ.json_E : Match Passed | H | CAP |  el | 2 | Elocta_clean_ ΕΠΙΣΗΜΑΝΣΗ.json | Doc txt :- '15. ΟΔΗΓΙΕΣ ΧΡΗΣΗΣ' | Qrd txt :- '15. ΟΔΗΓΙΕΣ ΧΡΗΣΗΣ' | Matched :- 'True'\n",
      "2021-06-19 00:33:57,906 : Heading Extraction Elocta_clean_ ΕΠΙΣΗΜΑΝΣΗ.json_E : Validation Passed | H | CAP |  el | 2 | Elocta_clean_ ΕΠΙΣΗΜΑΝΣΗ.json | currHeadId :- '22017' | prevHeadingCurrId :- '22016' | prevHeadingFoundId :- '22016'\n",
      "2021-06-19 00:33:58,347 : Heading Extraction Elocta_clean_ ΕΠΙΣΗΜΑΝΣΗ.json_E : Match Passed | H | CAP |  el | 2 | Elocta_clean_ ΕΠΙΣΗΜΑΝΣΗ.json | Doc txt :- '16. ΠΛΗΡΟΦΟΡΙΕΣ ΣΕ BRAILLE' | Qrd txt :- '16. ΠΛΗΡΟΦΟΡΙΕΣ ΣΕ BRAILLE' | Matched :- 'True'\n"
     ]
    },
    {
     "name": "stderr",
     "output_type": "stream",
     "text": [
      "2021-06-19 00:33:58,365 : Heading Extraction Elocta_clean_ ΕΠΙΣΗΜΑΝΣΗ.json_E : Validation Passed | H | CAP |  el | 2 | Elocta_clean_ ΕΠΙΣΗΜΑΝΣΗ.json | currHeadId :- '22018' | prevHeadingCurrId :- '22017' | prevHeadingFoundId :- '22017'\n",
      "2021-06-19 00:33:59,390 : Heading Extraction Elocta_clean_ ΕΠΙΣΗΜΑΝΣΗ.json_E : Match Passed | H | CAP |  el | 2 | Elocta_clean_ ΕΠΙΣΗΜΑΝΣΗ.json | Doc txt :- '17. ΜΟΝΑΔΙΚΟΣ ΑΝΑΓΝΩΡΙΣΤΙΚΟΣ ΚΩΔΙΚΟΣ – ΔΙΣΔΙΑΣΤΑΤΟΣ ΓΡΑΜΜΩΤΟΣ ΚΩΔΙΚΑΣ (2D)' | Qrd txt :- '17. ΜΟΝΑΔΙΚΟΣ ΑΝΑΓΝΩΡΙΣΤΙΚΟΣ ΚΩΔΙΚΟΣ – ΔΙΣΔΙΑΣΤΑΤΟΣ ΓΡΑΜΜΩΤΟΣ ΚΩΔΙΚΑΣ (2D)' | Matched :- 'True'\n",
      "2021-06-19 00:33:59,406 : Heading Extraction Elocta_clean_ ΕΠΙΣΗΜΑΝΣΗ.json_E : Validation Passed | H | CAP |  el | 2 | Elocta_clean_ ΕΠΙΣΗΜΑΝΣΗ.json | currHeadId :- '22019' | prevHeadingCurrId :- '22018' | prevHeadingFoundId :- '22018'\n",
      "2021-06-19 00:34:01,386 : Heading Extraction Elocta_clean_ ΕΠΙΣΗΜΑΝΣΗ.json_E : Match Passed | H | CAP |  el | 2 | Elocta_clean_ ΕΠΙΣΗΜΑΝΣΗ.json | Doc txt :- '18. ΜΟΝΑΔΙΚΟΣ ΑΝΑΓΝΩΡΙΣΤΙΚΟΣ ΚΩΔΙΚΟΣ – ΔΕΔΟΜΕΝΑ ΑΝΑΓΝΩΣΙΜΑ ΑΠΟ ΤΟΝ ΑΝΘΡΩΠΟ' | Qrd txt :- '18. ΜΟΝΑΔΙΚΟΣ ΑΝΑΓΝΩΡΙΣΤΙΚΟΣ ΚΩΔΙΚΟΣ – ΔΕΔΟΜΕΝΑ ΑΝΑΓΝΩΣΙΜΑ ΑΠΟ ΤΟΝ ΑΝΘΡΩΠΟ' | Matched :- 'True'\n",
      "2021-06-19 00:34:01,402 : Heading Extraction Elocta_clean_ ΕΠΙΣΗΜΑΝΣΗ.json_E : Validation Passed | H | CAP |  el | 2 | Elocta_clean_ ΕΠΙΣΗΜΑΝΣΗ.json | currHeadId :- '22020' | prevHeadingCurrId :- '22019' | prevHeadingFoundId :- '22019'\n",
      "2021-06-19 00:34:02,281 : Heading Extraction Elocta_clean_ ΕΠΙΣΗΜΑΝΣΗ.json_E : Match Passed | H | CAP |  el | 2 | Elocta_clean_ ΕΠΙΣΗΜΑΝΣΗ.json | Doc txt :- 'ΕΛΑΧΙΣΤΕΣ ΕΝΔΕΙΞΕΙΣ ΠΟΥ ΠΡΕΠΕΙ ΝΑ ΑΝΑΓΡΑΦΟΝΤΑΙ ΣΤΙΣ ΜΙΚΡΕΣ ΣΤΟΙΧΕΙΩΔΕΙΣ ΣΥΣΚΕΥΑΣΙΕΣ' | Qrd txt :- 'ΕΛΑΧΙΣΤΕΣ ΕΝΔΕΙΞΕΙΣ ΠΟΥ ΠΡΕΠΕΙ ΝΑ ΑΝΑΓΡΑΦΟΝΤΑΙ ΣΤΙΣ ΜΙΚΡΕΣ ΣΤΟΙΧΕΙΩΔΕΙΣ ΣΥΣΚΕΥΑΣΙΕΣ' | Matched :- 'True'\n",
      "2021-06-19 00:34:02,297 : Heading Extraction Elocta_clean_ ΕΠΙΣΗΜΑΝΣΗ.json_E : Validation Flow Is Broken | H | CAP |  el | 2 | Elocta_clean_ ΕΠΙΣΗΜΑΝΣΗ.json | currHeadId :- '22027' | prevHeadingCurrId :- '' | prevHeadingFoundId :- '22020'\n",
      "2021-06-19 00:34:02,306 : Heading Extraction Elocta_clean_ ΕΠΙΣΗΜΑΝΣΗ.json_E : Validation Passed | H | CAP |  el | 2 | Elocta_clean_ ΕΠΙΣΗΜΑΝΣΗ.json | currHeadId :- '22027' | prevHeadingCurrId :- '22020' | prevHeadingFoundId :- '22020'\n",
      "2021-06-19 00:34:03,865 : Heading Extraction Elocta_clean_ ΕΠΙΣΗΜΑΝΣΗ.json_E : Match Passed | H | CAP |  el | 2 | Elocta_clean_ ΕΠΙΣΗΜΑΝΣΗ.json | Doc txt :- '1. ΟΝΟΜΑΣΙΑ ΤΟΥ ΦΑΡΜΑΚΕΥΤΙΚΟΥ ΠΡΟΪΟΝΤΟΣ ΚΑΙ ΟΔΟΣ(ΟΙ) ΧΟΡΗΓΗΣΗΣ' | Qrd txt :- '1. ΟΝΟΜΑΣΙΑ ΤΟΥ ΦΑΡΜΑΚΕΥΤΙΚΟΥ ΠΡΟΪΟΝΤΟΣ ΚΑΙ ΟΔΟΣ(ΟΙ) ΧΟΡΗΓΗΣΗΣ' | Matched :- 'True'\n",
      "2021-06-19 00:34:03,877 : Heading Extraction Elocta_clean_ ΕΠΙΣΗΜΑΝΣΗ.json_E : Validation Passed | H | CAP |  el | 2 | Elocta_clean_ ΕΠΙΣΗΜΑΝΣΗ.json | currHeadId :- '22028' | prevHeadingCurrId :- '22027' | prevHeadingFoundId :- '22027'\n",
      "2021-06-19 00:34:06,219 : Heading Extraction Elocta_clean_ ΕΠΙΣΗΜΑΝΣΗ.json_E : Match Passed | H | CAP |  el | 2 | Elocta_clean_ ΕΠΙΣΗΜΑΝΣΗ.json | Doc txt :- '2. ΤΡΟΠΟΣ ΧΟΡΗΓΗΣΗΣ' | Qrd txt :- '2. ΤΡΟΠΟΣ ΧΟΡΗΓΗΣΗΣ' | Matched :- 'True'\n",
      "2021-06-19 00:34:06,233 : Heading Extraction Elocta_clean_ ΕΠΙΣΗΜΑΝΣΗ.json_E : Validation Passed | H | CAP |  el | 2 | Elocta_clean_ ΕΠΙΣΗΜΑΝΣΗ.json | currHeadId :- '22029' | prevHeadingCurrId :- '22028' | prevHeadingFoundId :- '22028'\n",
      "2021-06-19 00:34:06,430 : Heading Extraction Elocta_clean_ ΕΠΙΣΗΜΑΝΣΗ.json_E : Match Passed : <=4|5.26|(95, 95, 95)|0.98| | H | CAP |  el | 2 | Elocta_clean_ ΕΠΙΣΗΜΑΝΣΗ.json | Doc txt :- '3.       ΗΜΕΡΟΜΗΝΙΑ ΛΗΞΗΣ' | Qrd txt :- '8. ΗΜΕΡΟΜΗΝΙΑ ΛΗΞΗΣ' | Matched :- 'True'\n",
      "2021-06-19 00:34:06,446 : Heading Extraction Elocta_clean_ ΕΠΙΣΗΜΑΝΣΗ.json_E : Validation Failed As Previous Heading Found is not matching | H | CAP |  el | 2 | Elocta_clean_ ΕΠΙΣΗΜΑΝΣΗ.json | currHeadId :- '22010' | prevHeadingCurrId :- '22009' | prevHeadingFoundId :- '22029'\n",
      "2021-06-19 00:34:06,748 : Heading Extraction Elocta_clean_ ΕΠΙΣΗΜΑΝΣΗ.json_E : Match Passed | H | CAP |  el | 2 | Elocta_clean_ ΕΠΙΣΗΜΑΝΣΗ.json | Doc txt :- '3. ΗΜΕΡΟΜΗΝΙΑ ΛΗΞΗΣ' | Qrd txt :- '3. ΗΜΕΡΟΜΗΝΙΑ ΛΗΞΗΣ' | Matched :- 'True'\n",
      "2021-06-19 00:34:06,771 : Heading Extraction Elocta_clean_ ΕΠΙΣΗΜΑΝΣΗ.json_E : Validation Failed As Wrong Heading Found | H | CAP |  el | 2 | Elocta_clean_ ΕΠΙΣΗΜΑΝΣΗ.json | currHeadId :- '22024' | prevHeadingCurrId :- '' | prevHeadingFoundId :- '22029'\n",
      "2021-06-19 00:34:06,877 : Heading Extraction Elocta_clean_ ΕΠΙΣΗΜΑΝΣΗ.json_E : Match Passed | H | CAP |  el | 2 | Elocta_clean_ ΕΠΙΣΗΜΑΝΣΗ.json | Doc txt :- '3. ΗΜΕΡΟΜΗΝΙΑ ΛΗΞΗΣ' | Qrd txt :- '3. ΗΜΕΡΟΜΗΝΙΑ ΛΗΞΗΣ' | Matched :- 'True'\n",
      "2021-06-19 00:34:06,893 : Heading Extraction Elocta_clean_ ΕΠΙΣΗΜΑΝΣΗ.json_E : Validation Passed | H | CAP |  el | 2 | Elocta_clean_ ΕΠΙΣΗΜΑΝΣΗ.json | currHeadId :- '22030' | prevHeadingCurrId :- '22029' | prevHeadingFoundId :- '22029'\n",
      "2021-06-19 00:34:07,253 : Heading Extraction Elocta_clean_ ΕΠΙΣΗΜΑΝΣΗ.json_E : Match Passed : Contains<>|194.74|(49, 95, 86)|0.758| | H | CAP |  el | 2 | Elocta_clean_ ΕΠΙΣΗΜΑΝΣΗ.json | Doc txt :- '4.       ΑΡΙΘΜΟΣ ΠΑΡΤΙΔΑΣ' | Qrd txt :- '13. ΑΡΙΘΜΟΣ ΠΑΡΤΙΔΑΣ<, ΣΤΟΙΧΕΙΑ ΔΟΤΗ ΚΑΙ ΚΩΔΙΚΟΙ ΠΡΟΪΟΝΤΟΣ>' | Matched :- 'True'\n",
      "2021-06-19 00:34:07,270 : Heading Extraction Elocta_clean_ ΕΠΙΣΗΜΑΝΣΗ.json_E : Validation Failed As Previous Heading Found is not matching | H | CAP |  el | 2 | Elocta_clean_ ΕΠΙΣΗΜΑΝΣΗ.json | currHeadId :- '22015' | prevHeadingCurrId :- '22014' | prevHeadingFoundId :- '22030'\n",
      "2021-06-19 00:34:07,509 : Heading Extraction Elocta_clean_ ΕΠΙΣΗΜΑΝΣΗ.json_E : Match Passed : Contains<>|184.21|(52, 100, 90)|0.87| | H | CAP |  el | 2 | Elocta_clean_ ΕΠΙΣΗΜΑΝΣΗ.json | Doc txt :- '4.       ΑΡΙΘΜΟΣ ΠΑΡΤΙΔΑΣ' | Qrd txt :- '4. ΑΡΙΘΜΟΣ ΠΑΡΤΙΔΑΣ<, ΣΤΟΙΧΕΙΑ ΔΟΤΗ ΚΑΙ ΚΩΔΙΚΟΙ ΠΡΟΪΟΝΤΟΣ>' | Matched :- 'True'\n",
      "2021-06-19 00:34:07,531 : Heading Extraction Elocta_clean_ ΕΠΙΣΗΜΑΝΣΗ.json_E : Validation Failed As Wrong Heading Found | H | CAP |  el | 2 | Elocta_clean_ ΕΠΙΣΗΜΑΝΣΗ.json | currHeadId :- '22025' | prevHeadingCurrId :- '' | prevHeadingFoundId :- '22030'\n",
      "2021-06-19 00:34:07,680 : Heading Extraction Elocta_clean_ ΕΠΙΣΗΜΑΝΣΗ.json_E : Match Passed : Contains<>|184.21|(52, 100, 90)|0.87| | H | CAP |  el | 2 | Elocta_clean_ ΕΠΙΣΗΜΑΝΣΗ.json | Doc txt :- '4.       ΑΡΙΘΜΟΣ ΠΑΡΤΙΔΑΣ' | Qrd txt :- '4. ΑΡΙΘΜΟΣ ΠΑΡΤΙΔΑΣ<, ΣΤΟΙΧΕΙΑ ΔΟΤΗ ΚΑΙ ΚΩΔΙΚΟΙ ΠΡΟΪΟΝΤΟΣ>' | Matched :- 'True'\n",
      "2021-06-19 00:34:07,709 : Heading Extraction Elocta_clean_ ΕΠΙΣΗΜΑΝΣΗ.json_E : Validation Passed | H | CAP |  el | 2 | Elocta_clean_ ΕΠΙΣΗΜΑΝΣΗ.json | currHeadId :- '22031' | prevHeadingCurrId :- '22030' | prevHeadingFoundId :- '22030'\n",
      "2021-06-19 00:34:08,618 : Heading Extraction Elocta_clean_ ΕΠΙΣΗΜΑΝΣΗ.json_E : Match Passed : <=7|2.5|(98, 98, 100)|0.995| | H | CAP |  el | 2 | Elocta_clean_ ΕΠΙΣΗΜΑΝΣΗ.json | Doc txt :- '5.       ΠΕΡΙΕΧΟΜΕΝΟ ΚΑΤΑ ΒΑΡΟΣ, ΚΑΤ’ ΟΓΚΟ Ή ΚΑΤΑ ΜΟΝΑΔΑ' | Qrd txt :- '5. ΠΕΡΙΕΧΟΜΕΝΟ ΚΑΤΑ ΒΑΡΟΣ, ΚΑΤ' ΟΓΚΟ Ή ΚΑΤΑ ΜΟΝΑΔΑ' | Matched :- 'True'\n",
      "2021-06-19 00:34:08,641 : Heading Extraction Elocta_clean_ ΕΠΙΣΗΜΑΝΣΗ.json_E : Validation Passed | H | CAP |  el | 2 | Elocta_clean_ ΕΠΙΣΗΜΑΝΣΗ.json | currHeadId :- '22032' | prevHeadingCurrId :- '22031' | prevHeadingFoundId :- '22031'\n",
      "2021-06-19 00:34:09,308 : Heading Extraction Elocta_clean_ ΕΠΙΣΗΜΑΝΣΗ.json_E : Match Passed : <=4|6.25|(94, 94, 94)|0.975| | H | CAP |  el | 2 | Elocta_clean_ ΕΠΙΣΗΜΑΝΣΗ.json | Doc txt :- '6.       ΑΛΛΑ ΣΤΟΙΧΕΙΑ' | Qrd txt :- '5. ΑΛΛΑ ΣΤΟΙΧΕΙΑ' | Matched :- 'True'\n",
      "2021-06-19 00:34:09,324 : Heading Extraction Elocta_clean_ ΕΠΙΣΗΜΑΝΣΗ.json_E : Validation Failed As Wrong Heading Found | H | CAP |  el | 2 | Elocta_clean_ ΕΠΙΣΗΜΑΝΣΗ.json | currHeadId :- '22026' | prevHeadingCurrId :- '' | prevHeadingFoundId :- '22032'\n",
      "2021-06-19 00:34:09,422 : Heading Extraction Elocta_clean_ ΕΠΙΣΗΜΑΝΣΗ.json_E : Match Passed | H | CAP |  el | 2 | Elocta_clean_ ΕΠΙΣΗΜΑΝΣΗ.json | Doc txt :- '6. ΑΛΛΑ ΣΤΟΙΧΕΙΑ' | Qrd txt :- '6. ΑΛΛΑ ΣΤΟΙΧΕΙΑ' | Matched :- 'True'\n",
      "2021-06-19 00:34:09,437 : Heading Extraction Elocta_clean_ ΕΠΙΣΗΜΑΝΣΗ.json_E : Validation Passed | H | CAP |  el | 2 | Elocta_clean_ ΕΠΙΣΗΜΑΝΣΗ.json | currHeadId :- '22033' | prevHeadingCurrId :- '22032' | prevHeadingFoundId :- '22032'\n",
      "2021-06-19 00:34:09,488 : Heading Extraction Elocta_clean_ ΕΠΙΣΗΜΑΝΣΗ.json_E : Match Passed : Contains<>|76.0|(72, 88, 86)|0.922| | H | CAP |  el | 2 | Elocta_clean_ ΕΠΙΣΗΜΑΝΣΗ.json | Doc txt :- 'ΕΝΔΕΙΞΕΙΣ ΠΟΥ ΠΡΕΠΕΙ ΝΑ ΑΝΑΓΡΑΦΟΝΤΑΙ ΣΤΗΝ ΕΞΩΤΕΡΙΚΗ ΣΥΣΚΕΥΑΣΙΑ' | Qrd txt :- 'ΕΝΔΕΙΞΕΙΣ ΠΟΥ ΠΡΕΠΕΙ ΝΑ ΑΝΑΓΡΑΦΟΝΤΑΙ <ΣΤΗΝ ΕΞΩΤΕΡΙΚΗ ΣΥΣΚΕΥΑΣΙΑ> <ΚΑΙ> < ΣΤΗ ΣΤΟΙΧΕΙΩΔΗ ΣΥΣΚΕΥΑΣΙΑ>' | Matched :- 'True'\n"
     ]
    },
    {
     "name": "stderr",
     "output_type": "stream",
     "text": [
      "2021-06-19 00:34:09,506 : Heading Extraction Elocta_clean_ ΕΠΙΣΗΜΑΝΣΗ.json_E : Validation Failed As Wrong Heading Found | H | CAP |  el | 2 | Elocta_clean_ ΕΠΙΣΗΜΑΝΣΗ.json | currHeadId :- '22002' | prevHeadingCurrId :- '' | prevHeadingFoundId :- '22033'\n",
      "2021-06-19 00:34:10,442 : Heading Extraction Elocta_clean_ ΕΠΙΣΗΜΑΝΣΗ.json_E : End Of Sub Section | H | CAP |  el | 2 | Elocta_clean_ ΕΠΙΣΗΜΑΝΣΗ.json\n",
      "2021-06-19 00:34:10,499 : Heading Extraction Elocta_clean_ ΕΠΙΣΗΜΑΝΣΗ.json_E : Match Passed : Contains<>|76.0|(72, 88, 86)|0.922| | H | CAP |  el | 2 | Elocta_clean_ ΕΠΙΣΗΜΑΝΣΗ.json | Doc txt :- 'ΕΝΔΕΙΞΕΙΣ ΠΟΥ ΠΡΕΠΕΙ ΝΑ ΑΝΑΓΡΑΦΟΝΤΑΙ ΣΤΗΝ ΕΞΩΤΕΡΙΚΗ ΣΥΣΚΕΥΑΣΙΑ' | Qrd txt :- 'ΕΝΔΕΙΞΕΙΣ ΠΟΥ ΠΡΕΠΕΙ ΝΑ ΑΝΑΓΡΑΦΟΝΤΑΙ <ΣΤΗΝ ΕΞΩΤΕΡΙΚΗ ΣΥΣΚΕΥΑΣΙΑ> <ΚΑΙ> < ΣΤΗ ΣΤΟΙΧΕΙΩΔΗ ΣΥΣΚΕΥΑΣΙΑ>' | Matched :- 'True'\n",
      "2021-06-19 00:34:10,515 : Heading Extraction Elocta_clean_ ΕΠΙΣΗΜΑΝΣΗ.json_E : Validation Passed As This The First Heading | H | CAP |  el | 2 | Elocta_clean_ ΕΠΙΣΗΜΑΝΣΗ.json | currHeadId :- '22002' | prevHeadingCurrId :- '' | prevHeadingFoundId :- ''\n"
     ]
    },
    {
     "name": "stdout",
     "output_type": "stream",
     "text": [
      "oooooooooooooooooooooooooooooooooooooooo END OF Sub Section oooooooooooooooooooooooooooooooooooooooooooooooooooooooooooo\n"
     ]
    },
    {
     "name": "stderr",
     "output_type": "stream",
     "text": [
      "2021-06-19 00:34:11,285 : Heading Extraction Elocta_clean_ ΕΠΙΣΗΜΑΝΣΗ.json_E : Match Passed | H | CAP |  el | 2 | Elocta_clean_ ΕΠΙΣΗΜΑΝΣΗ.json | Doc txt :- '1. ΟΝΟΜΑΣΙΑ ΤΟΥ ΦΑΡΜΑΚΕΥΤΙΚΟΥ ΠΡΟΪΟΝΤΟΣ' | Qrd txt :- '1. ΟΝΟΜΑΣΙΑ ΤΟΥ ΦΑΡΜΑΚΕΥΤΙΚΟΥ ΠΡΟΪΟΝΤΟΣ' | Matched :- 'True'\n",
      "2021-06-19 00:34:11,314 : Heading Extraction Elocta_clean_ ΕΠΙΣΗΜΑΝΣΗ.json_E : Validation Passed | H | CAP |  el | 2 | Elocta_clean_ ΕΠΙΣΗΜΑΝΣΗ.json | currHeadId :- '22003' | prevHeadingCurrId :- '22002' | prevHeadingFoundId :- '22002'\n",
      "2021-06-19 00:34:14,363 : Heading Extraction Elocta_clean_ ΕΠΙΣΗΜΑΝΣΗ.json_E : Match Passed | H | CAP |  el | 2 | Elocta_clean_ ΕΠΙΣΗΜΑΝΣΗ.json | Doc txt :- '2. ΣΥΝΘΕΣΗ ΣΕ ΔΡΑΣΤΙΚΗ(ΕΣ) ΟΥΣΙΑ(ΕΣ)' | Qrd txt :- '2. ΣΥΝΘΕΣΗ ΣΕ ΔΡΑΣΤΙΚΗ(ΕΣ) ΟΥΣΙΑ(ΕΣ)' | Matched :- 'True'\n",
      "2021-06-19 00:34:14,385 : Heading Extraction Elocta_clean_ ΕΠΙΣΗΜΑΝΣΗ.json_E : Validation Passed | H | CAP |  el | 2 | Elocta_clean_ ΕΠΙΣΗΜΑΝΣΗ.json | currHeadId :- '22004' | prevHeadingCurrId :- '22003' | prevHeadingFoundId :- '22003'\n",
      "2021-06-19 00:34:15,352 : Heading Extraction Elocta_clean_ ΕΠΙΣΗΜΑΝΣΗ.json_E : Match Passed | H | CAP |  el | 2 | Elocta_clean_ ΕΠΙΣΗΜΑΝΣΗ.json | Doc txt :- '3. ΚΑΤΑΛΟΓΟΣ ΕΚΔΟΧΩΝ' | Qrd txt :- '3. ΚΑΤΑΛΟΓΟΣ ΕΚΔΟΧΩΝ' | Matched :- 'True'\n",
      "2021-06-19 00:34:15,372 : Heading Extraction Elocta_clean_ ΕΠΙΣΗΜΑΝΣΗ.json_E : Validation Passed | H | CAP |  el | 2 | Elocta_clean_ ΕΠΙΣΗΜΑΝΣΗ.json | currHeadId :- '22005' | prevHeadingCurrId :- '22004' | prevHeadingFoundId :- '22004'\n",
      "2021-06-19 00:34:17,460 : Heading Extraction Elocta_clean_ ΕΠΙΣΗΜΑΝΣΗ.json_E : Match Passed | H | CAP |  el | 2 | Elocta_clean_ ΕΠΙΣΗΜΑΝΣΗ.json | Doc txt :- '4. ΦΑΡΜΑΚΟΤΕΧΝΙΚΗ ΜΟΡΦΗ ΚΑΙ ΠΕΡΙΕΧΟΜΕΝΟ' | Qrd txt :- '4. ΦΑΡΜΑΚΟΤΕΧΝΙΚΗ ΜΟΡΦΗ ΚΑΙ ΠΕΡΙΕΧΟΜΕΝΟ' | Matched :- 'True'\n",
      "2021-06-19 00:34:17,475 : Heading Extraction Elocta_clean_ ΕΠΙΣΗΜΑΝΣΗ.json_E : Validation Passed | H | CAP |  el | 2 | Elocta_clean_ ΕΠΙΣΗΜΑΝΣΗ.json | currHeadId :- '22006' | prevHeadingCurrId :- '22005' | prevHeadingFoundId :- '22005'\n",
      "2021-06-19 00:34:19,507 : Heading Extraction Elocta_clean_ ΕΠΙΣΗΜΑΝΣΗ.json_E : Match Passed | H | CAP |  el | 2 | Elocta_clean_ ΕΠΙΣΗΜΑΝΣΗ.json | Doc txt :- '5. ΤΡΟΠΟΣ ΚΑΙ ΟΔΟΣ(ΟΙ) ΧΟΡΗΓΗΣΗΣ' | Qrd txt :- '5. ΤΡΟΠΟΣ ΚΑΙ ΟΔΟΣ(ΟΙ) ΧΟΡΗΓΗΣΗΣ' | Matched :- 'True'\n",
      "2021-06-19 00:34:19,522 : Heading Extraction Elocta_clean_ ΕΠΙΣΗΜΑΝΣΗ.json_E : Validation Passed | H | CAP |  el | 2 | Elocta_clean_ ΕΠΙΣΗΜΑΝΣΗ.json | currHeadId :- '22007' | prevHeadingCurrId :- '22006' | prevHeadingFoundId :- '22006'\n",
      "2021-06-19 00:34:23,064 : Heading Extraction Elocta_clean_ ΕΠΙΣΗΜΑΝΣΗ.json_E : Match Passed | H | CAP |  el | 2 | Elocta_clean_ ΕΠΙΣΗΜΑΝΣΗ.json | Doc txt :- '6. ΕΙΔΙΚΗ ΠΡΟΕΙΔΟΠΟΙΗΣΗ ΣΥΜΦΩΝΑ ΜΕ ΤΗΝ ΟΠΟΙΑ ΤΟ ΦΑΡΜΑΚΕΥΤΙΚΟ ΠΡΟΪΟΝ ΠΡΕΠΕΙ ΝΑ ΦΥΛΑΣΣΕΤΑΙ ΣΕ ΘΕΣΗ ΤΗΝ ΟΠΟΙΑ ΔΕΝ ΒΛΕΠΟΥΝ ΚΑΙ ΔΕΝ ΠΡΟΣΕΓΓΙΖΟΥΝ ΤΑ ΠΑΙΔΙΑ' | Qrd txt :- '6. ΕΙΔΙΚΗ ΠΡΟΕΙΔΟΠΟΙΗΣΗ ΣΥΜΦΩΝΑ ΜΕ ΤΗΝ ΟΠΟΙΑ ΤΟ ΦΑΡΜΑΚΕΥΤΙΚΟ ΠΡΟΪΟΝ ΠΡΕΠΕΙ ΝΑ ΦΥΛΑΣΣΕΤΑΙ ΣΕ ΘΕΣΗ ΤΗΝ ΟΠΟΙΑ ΔΕΝ ΒΛΕΠΟΥΝ ΚΑΙ ΔΕΝ ΠΡΟΣΕΓΓΙΖΟΥΝ ΤΑ ΠΑΙΔΙΑ' | Matched :- 'True'\n",
      "2021-06-19 00:34:23,079 : Heading Extraction Elocta_clean_ ΕΠΙΣΗΜΑΝΣΗ.json_E : Validation Passed | H | CAP |  el | 2 | Elocta_clean_ ΕΠΙΣΗΜΑΝΣΗ.json | currHeadId :- '22008' | prevHeadingCurrId :- '22007' | prevHeadingFoundId :- '22007'\n",
      "2021-06-19 00:34:24,167 : Heading Extraction Elocta_clean_ ΕΠΙΣΗΜΑΝΣΗ.json_E : Match Passed | H | CAP |  el | 2 | Elocta_clean_ ΕΠΙΣΗΜΑΝΣΗ.json | Doc txt :- '7. ΑΛΛΗ(ΕΣ) ΕΙΔΙΚΗ(ΕΣ) ΠΡΟΕΙΔΟΠΟΙΗΣΗ(ΕΙΣ), ΕΑΝ ΕΙΝΑΙ ΑΠΑΡΑΙΤΗΤΗ(ΕΣ)' | Qrd txt :- '7. ΑΛΛΗ(ΕΣ) ΕΙΔΙΚΗ(ΕΣ) ΠΡΟΕΙΔΟΠΟΙΗΣΗ(ΕΙΣ), ΕΑΝ ΕΙΝΑΙ ΑΠΑΡΑΙΤΗΤΗ(ΕΣ)' | Matched :- 'True'\n",
      "2021-06-19 00:34:24,182 : Heading Extraction Elocta_clean_ ΕΠΙΣΗΜΑΝΣΗ.json_E : Validation Passed | H | CAP |  el | 2 | Elocta_clean_ ΕΠΙΣΗΜΑΝΣΗ.json | currHeadId :- '22009' | prevHeadingCurrId :- '22008' | prevHeadingFoundId :- '22008'\n",
      "2021-06-19 00:34:24,375 : Heading Extraction Elocta_clean_ ΕΠΙΣΗΜΑΝΣΗ.json_E : Match Passed | H | CAP |  el | 2 | Elocta_clean_ ΕΠΙΣΗΜΑΝΣΗ.json | Doc txt :- '8. ΗΜΕΡΟΜΗΝΙΑ ΛΗΞΗΣ' | Qrd txt :- '8. ΗΜΕΡΟΜΗΝΙΑ ΛΗΞΗΣ' | Matched :- 'True'\n",
      "2021-06-19 00:34:24,391 : Heading Extraction Elocta_clean_ ΕΠΙΣΗΜΑΝΣΗ.json_E : Validation Passed | H | CAP |  el | 2 | Elocta_clean_ ΕΠΙΣΗΜΑΝΣΗ.json | currHeadId :- '22010' | prevHeadingCurrId :- '22009' | prevHeadingFoundId :- '22009'\n",
      "2021-06-19 00:34:25,343 : Heading Extraction Elocta_clean_ ΕΠΙΣΗΜΑΝΣΗ.json_E : Match Passed | H | CAP |  el | 2 | Elocta_clean_ ΕΠΙΣΗΜΑΝΣΗ.json | Doc txt :- '9. ΕΙΔΙΚΕΣ ΣΥΝΘΗΚΕΣ ΦΥΛΑΞΗΣ' | Qrd txt :- '9. ΕΙΔΙΚΕΣ ΣΥΝΘΗΚΕΣ ΦΥΛΑΞΗΣ' | Matched :- 'True'\n",
      "2021-06-19 00:34:25,357 : Heading Extraction Elocta_clean_ ΕΠΙΣΗΜΑΝΣΗ.json_E : Validation Passed | H | CAP |  el | 2 | Elocta_clean_ ΕΠΙΣΗΜΑΝΣΗ.json | currHeadId :- '22011' | prevHeadingCurrId :- '22010' | prevHeadingFoundId :- '22010'\n",
      "2021-06-19 00:34:28,203 : Heading Extraction Elocta_clean_ ΕΠΙΣΗΜΑΝΣΗ.json_E : Match Passed | H | CAP |  el | 2 | Elocta_clean_ ΕΠΙΣΗΜΑΝΣΗ.json | Doc txt :- '10. ΙΔΙΑΙΤΕΡΕΣ ΠΡΟΦΥΛΑΞΕΙΣ ΓΙΑ ΤΗΝ ΑΠΟΡΡΙΨΗ ΤΩΝ ΜΗ ΧΡΗΣΙΜΟΠΟΙΗΘΕΝΤΩΝ ΦΑΡΜΑΚΕΥΤΙΚΩΝ ΠΡΟΪΟΝΤΩΝ Ή ΤΩΝ ΥΠΟΛΕΙΜΜΑΤΩΝ ΠΟΥ ΠΡΟΕΡΧΟΝΤΑΙ ΑΠΟ ΑΥΤΑ, ΕΦΟΣΟΝ ΑΠΑΙΤΕΙΤΑΙ' | Qrd txt :- '10. ΙΔΙΑΙΤΕΡΕΣ ΠΡΟΦΥΛΑΞΕΙΣ ΓΙΑ ΤΗΝ ΑΠΟΡΡΙΨΗ ΤΩΝ ΜΗ ΧΡΗΣΙΜΟΠΟΙΗΘΕΝΤΩΝ ΦΑΡΜΑΚΕΥΤΙΚΩΝ ΠΡΟΪΟΝΤΩΝ Ή ΤΩΝ ΥΠΟΛΕΙΜΜΑΤΩΝ ΠΟΥ ΠΡΟΕΡΧΟΝΤΑΙ ΑΠΟ ΑΥΤΑ, ΕΦΟΣΟΝ ΑΠΑΙΤΕΙΤΑΙ' | Matched :- 'True'\n",
      "2021-06-19 00:34:28,228 : Heading Extraction Elocta_clean_ ΕΠΙΣΗΜΑΝΣΗ.json_E : Validation Passed | H | CAP |  el | 2 | Elocta_clean_ ΕΠΙΣΗΜΑΝΣΗ.json | currHeadId :- '22012' | prevHeadingCurrId :- '22011' | prevHeadingFoundId :- '22011'\n",
      "2021-06-19 00:34:28,775 : Heading Extraction Elocta_clean_ ΕΠΙΣΗΜΑΝΣΗ.json_E : Match Passed | H | CAP |  el | 2 | Elocta_clean_ ΕΠΙΣΗΜΑΝΣΗ.json | Doc txt :- '11. ΟΝΟΜΑ ΚΑΙ ΔΙΕΥΘΥΝΣΗ ΚΑΤΟΧΟΥ ΤΗΣ ΑΔΕΙΑΣ ΚΥΚΛΟΦΟΡΙΑΣ' | Qrd txt :- '11. ΟΝΟΜΑ ΚΑΙ ΔΙΕΥΘΥΝΣΗ ΚΑΤΟΧΟΥ ΤΗΣ ΑΔΕΙΑΣ ΚΥΚΛΟΦΟΡΙΑΣ' | Matched :- 'True'\n",
      "2021-06-19 00:34:28,791 : Heading Extraction Elocta_clean_ ΕΠΙΣΗΜΑΝΣΗ.json_E : Validation Passed | H | CAP |  el | 2 | Elocta_clean_ ΕΠΙΣΗΜΑΝΣΗ.json | currHeadId :- '22013' | prevHeadingCurrId :- '22012' | prevHeadingFoundId :- '22012'\n",
      "2021-06-19 00:34:30,435 : Heading Extraction Elocta_clean_ ΕΠΙΣΗΜΑΝΣΗ.json_E : Match Passed | H | CAP |  el | 2 | Elocta_clean_ ΕΠΙΣΗΜΑΝΣΗ.json | Doc txt :- '12. ΑΡΙΘΜΟΣ(ΟΙ) ΑΔΕΙΑΣ ΚΥΚΛΟΦΟΡΙΑΣ' | Qrd txt :- '12. ΑΡΙΘΜΟΣ(ΟΙ) ΑΔΕΙΑΣ ΚΥΚΛΟΦΟΡΙΑΣ' | Matched :- 'True'\n",
      "2021-06-19 00:34:30,451 : Heading Extraction Elocta_clean_ ΕΠΙΣΗΜΑΝΣΗ.json_E : Validation Passed | H | CAP |  el | 2 | Elocta_clean_ ΕΠΙΣΗΜΑΝΣΗ.json | currHeadId :- '22014' | prevHeadingCurrId :- '22013' | prevHeadingFoundId :- '22013'\n",
      "2021-06-19 00:34:31,094 : Heading Extraction Elocta_clean_ ΕΠΙΣΗΜΑΝΣΗ.json_E : Match Passed : Contains<>|175.0|(53, 100, 90)|0.873| | H | CAP |  el | 2 | Elocta_clean_ ΕΠΙΣΗΜΑΝΣΗ.json | Doc txt :- '13.     ΑΡΙΘΜΟΣ ΠΑΡΤΙΔΑΣ' | Qrd txt :- '13. ΑΡΙΘΜΟΣ ΠΑΡΤΙΔΑΣ<, ΣΤΟΙΧΕΙΑ ΔΟΤΗ ΚΑΙ ΚΩΔΙΚΟΙ ΠΡΟΪΟΝΤΟΣ>' | Matched :- 'True'\n",
      "2021-06-19 00:34:31,108 : Heading Extraction Elocta_clean_ ΕΠΙΣΗΜΑΝΣΗ.json_E : Validation Passed | H | CAP |  el | 2 | Elocta_clean_ ΕΠΙΣΗΜΑΝΣΗ.json | currHeadId :- '22015' | prevHeadingCurrId :- '22014' | prevHeadingFoundId :- '22014'\n",
      "2021-06-19 00:34:31,530 : Heading Extraction Elocta_clean_ ΕΠΙΣΗΜΑΝΣΗ.json_E : Match Passed | H | CAP |  el | 2 | Elocta_clean_ ΕΠΙΣΗΜΑΝΣΗ.json | Doc txt :- '14. ΓΕΝΙΚΗ ΚΑΤΑΤΑΞΗ ΓΙΑ ΤΗ ΔΙΑΘΕΣΗ' | Qrd txt :- '14. ΓΕΝΙΚΗ ΚΑΤΑΤΑΞΗ ΓΙΑ ΤΗ ΔΙΑΘΕΣΗ' | Matched :- 'True'\n",
      "2021-06-19 00:34:31,545 : Heading Extraction Elocta_clean_ ΕΠΙΣΗΜΑΝΣΗ.json_E : Validation Passed | H | CAP |  el | 2 | Elocta_clean_ ΕΠΙΣΗΜΑΝΣΗ.json | currHeadId :- '22016' | prevHeadingCurrId :- '22015' | prevHeadingFoundId :- '22015'\n",
      "2021-06-19 00:34:31,876 : Heading Extraction Elocta_clean_ ΕΠΙΣΗΜΑΝΣΗ.json_E : Match Passed | H | CAP |  el | 2 | Elocta_clean_ ΕΠΙΣΗΜΑΝΣΗ.json | Doc txt :- '15. ΟΔΗΓΙΕΣ ΧΡΗΣΗΣ' | Qrd txt :- '15. ΟΔΗΓΙΕΣ ΧΡΗΣΗΣ' | Matched :- 'True'\n",
      "2021-06-19 00:34:31,892 : Heading Extraction Elocta_clean_ ΕΠΙΣΗΜΑΝΣΗ.json_E : Validation Passed | H | CAP |  el | 2 | Elocta_clean_ ΕΠΙΣΗΜΑΝΣΗ.json | currHeadId :- '22017' | prevHeadingCurrId :- '22016' | prevHeadingFoundId :- '22016'\n",
      "2021-06-19 00:34:32,269 : Heading Extraction Elocta_clean_ ΕΠΙΣΗΜΑΝΣΗ.json_E : Match Passed | H | CAP |  el | 2 | Elocta_clean_ ΕΠΙΣΗΜΑΝΣΗ.json | Doc txt :- '16. ΠΛΗΡΟΦΟΡΙΕΣ ΣΕ BRAILLE' | Qrd txt :- '16. ΠΛΗΡΟΦΟΡΙΕΣ ΣΕ BRAILLE' | Matched :- 'True'\n"
     ]
    },
    {
     "name": "stderr",
     "output_type": "stream",
     "text": [
      "2021-06-19 00:34:32,288 : Heading Extraction Elocta_clean_ ΕΠΙΣΗΜΑΝΣΗ.json_E : Validation Passed | H | CAP |  el | 2 | Elocta_clean_ ΕΠΙΣΗΜΑΝΣΗ.json | currHeadId :- '22018' | prevHeadingCurrId :- '22017' | prevHeadingFoundId :- '22017'\n",
      "2021-06-19 00:34:33,204 : Heading Extraction Elocta_clean_ ΕΠΙΣΗΜΑΝΣΗ.json_E : Match Passed | H | CAP |  el | 2 | Elocta_clean_ ΕΠΙΣΗΜΑΝΣΗ.json | Doc txt :- '17. ΜΟΝΑΔΙΚΟΣ ΑΝΑΓΝΩΡΙΣΤΙΚΟΣ ΚΩΔΙΚΟΣ – ΔΙΣΔΙΑΣΤΑΤΟΣ ΓΡΑΜΜΩΤΟΣ ΚΩΔΙΚΑΣ (2D)' | Qrd txt :- '17. ΜΟΝΑΔΙΚΟΣ ΑΝΑΓΝΩΡΙΣΤΙΚΟΣ ΚΩΔΙΚΟΣ – ΔΙΣΔΙΑΣΤΑΤΟΣ ΓΡΑΜΜΩΤΟΣ ΚΩΔΙΚΑΣ (2D)' | Matched :- 'True'\n",
      "2021-06-19 00:34:33,221 : Heading Extraction Elocta_clean_ ΕΠΙΣΗΜΑΝΣΗ.json_E : Validation Passed | H | CAP |  el | 2 | Elocta_clean_ ΕΠΙΣΗΜΑΝΣΗ.json | currHeadId :- '22019' | prevHeadingCurrId :- '22018' | prevHeadingFoundId :- '22018'\n",
      "2021-06-19 00:34:35,090 : Heading Extraction Elocta_clean_ ΕΠΙΣΗΜΑΝΣΗ.json_E : Match Passed | H | CAP |  el | 2 | Elocta_clean_ ΕΠΙΣΗΜΑΝΣΗ.json | Doc txt :- '18. ΜΟΝΑΔΙΚΟΣ ΑΝΑΓΝΩΡΙΣΤΙΚΟΣ ΚΩΔΙΚΟΣ – ΔΕΔΟΜΕΝΑ ΑΝΑΓΝΩΣΙΜΑ ΑΠΟ ΤΟΝ ΑΝΘΡΩΠΟ' | Qrd txt :- '18. ΜΟΝΑΔΙΚΟΣ ΑΝΑΓΝΩΡΙΣΤΙΚΟΣ ΚΩΔΙΚΟΣ – ΔΕΔΟΜΕΝΑ ΑΝΑΓΝΩΣΙΜΑ ΑΠΟ ΤΟΝ ΑΝΘΡΩΠΟ' | Matched :- 'True'\n",
      "2021-06-19 00:34:35,105 : Heading Extraction Elocta_clean_ ΕΠΙΣΗΜΑΝΣΗ.json_E : Validation Passed | H | CAP |  el | 2 | Elocta_clean_ ΕΠΙΣΗΜΑΝΣΗ.json | currHeadId :- '22020' | prevHeadingCurrId :- '22019' | prevHeadingFoundId :- '22019'\n",
      "2021-06-19 00:34:35,936 : Heading Extraction Elocta_clean_ ΕΠΙΣΗΜΑΝΣΗ.json_E : Match Passed | H | CAP |  el | 2 | Elocta_clean_ ΕΠΙΣΗΜΑΝΣΗ.json | Doc txt :- 'ΕΛΑΧΙΣΤΕΣ ΕΝΔΕΙΞΕΙΣ ΠΟΥ ΠΡΕΠΕΙ ΝΑ ΑΝΑΓΡΑΦΟΝΤΑΙ ΣΤΙΣ ΜΙΚΡΕΣ ΣΤΟΙΧΕΙΩΔΕΙΣ ΣΥΣΚΕΥΑΣΙΕΣ' | Qrd txt :- 'ΕΛΑΧΙΣΤΕΣ ΕΝΔΕΙΞΕΙΣ ΠΟΥ ΠΡΕΠΕΙ ΝΑ ΑΝΑΓΡΑΦΟΝΤΑΙ ΣΤΙΣ ΜΙΚΡΕΣ ΣΤΟΙΧΕΙΩΔΕΙΣ ΣΥΣΚΕΥΑΣΙΕΣ' | Matched :- 'True'\n",
      "2021-06-19 00:34:35,952 : Heading Extraction Elocta_clean_ ΕΠΙΣΗΜΑΝΣΗ.json_E : Validation Flow Is Broken | H | CAP |  el | 2 | Elocta_clean_ ΕΠΙΣΗΜΑΝΣΗ.json | currHeadId :- '22027' | prevHeadingCurrId :- '' | prevHeadingFoundId :- '22020'\n",
      "2021-06-19 00:34:35,962 : Heading Extraction Elocta_clean_ ΕΠΙΣΗΜΑΝΣΗ.json_E : Validation Passed | H | CAP |  el | 2 | Elocta_clean_ ΕΠΙΣΗΜΑΝΣΗ.json | currHeadId :- '22027' | prevHeadingCurrId :- '22020' | prevHeadingFoundId :- '22020'\n",
      "2021-06-19 00:34:37,580 : Heading Extraction Elocta_clean_ ΕΠΙΣΗΜΑΝΣΗ.json_E : Match Passed | H | CAP |  el | 2 | Elocta_clean_ ΕΠΙΣΗΜΑΝΣΗ.json | Doc txt :- '1. ΟΝΟΜΑΣΙΑ ΤΟΥ ΦΑΡΜΑΚΕΥΤΙΚΟΥ ΠΡΟΪΟΝΤΟΣ ΚΑΙ ΟΔΟΣ(ΟΙ) ΧΟΡΗΓΗΣΗΣ' | Qrd txt :- '1. ΟΝΟΜΑΣΙΑ ΤΟΥ ΦΑΡΜΑΚΕΥΤΙΚΟΥ ΠΡΟΪΟΝΤΟΣ ΚΑΙ ΟΔΟΣ(ΟΙ) ΧΟΡΗΓΗΣΗΣ' | Matched :- 'True'\n",
      "2021-06-19 00:34:37,607 : Heading Extraction Elocta_clean_ ΕΠΙΣΗΜΑΝΣΗ.json_E : Validation Passed | H | CAP |  el | 2 | Elocta_clean_ ΕΠΙΣΗΜΑΝΣΗ.json | currHeadId :- '22028' | prevHeadingCurrId :- '22027' | prevHeadingFoundId :- '22027'\n",
      "2021-06-19 00:34:41,170 : Heading Extraction Elocta_clean_ ΕΠΙΣΗΜΑΝΣΗ.json_E : Match Passed | H | CAP |  el | 2 | Elocta_clean_ ΕΠΙΣΗΜΑΝΣΗ.json | Doc txt :- '2. ΤΡΟΠΟΣ ΧΟΡΗΓΗΣΗΣ' | Qrd txt :- '2. ΤΡΟΠΟΣ ΧΟΡΗΓΗΣΗΣ' | Matched :- 'True'\n",
      "2021-06-19 00:34:41,189 : Heading Extraction Elocta_clean_ ΕΠΙΣΗΜΑΝΣΗ.json_E : Validation Passed | H | CAP |  el | 2 | Elocta_clean_ ΕΠΙΣΗΜΑΝΣΗ.json | currHeadId :- '22029' | prevHeadingCurrId :- '22028' | prevHeadingFoundId :- '22028'\n",
      "2021-06-19 00:34:41,402 : Heading Extraction Elocta_clean_ ΕΠΙΣΗΜΑΝΣΗ.json_E : Match Passed : <=4|5.26|(95, 95, 95)|0.98| | H | CAP |  el | 2 | Elocta_clean_ ΕΠΙΣΗΜΑΝΣΗ.json | Doc txt :- '3.       ΗΜΕΡΟΜΗΝΙΑ ΛΗΞΗΣ' | Qrd txt :- '8. ΗΜΕΡΟΜΗΝΙΑ ΛΗΞΗΣ' | Matched :- 'True'\n",
      "2021-06-19 00:34:41,426 : Heading Extraction Elocta_clean_ ΕΠΙΣΗΜΑΝΣΗ.json_E : Validation Failed As Previous Heading Found is not matching | H | CAP |  el | 2 | Elocta_clean_ ΕΠΙΣΗΜΑΝΣΗ.json | currHeadId :- '22010' | prevHeadingCurrId :- '22009' | prevHeadingFoundId :- '22029'\n",
      "2021-06-19 00:34:41,726 : Heading Extraction Elocta_clean_ ΕΠΙΣΗΜΑΝΣΗ.json_E : Match Passed | H | CAP |  el | 2 | Elocta_clean_ ΕΠΙΣΗΜΑΝΣΗ.json | Doc txt :- '3. ΗΜΕΡΟΜΗΝΙΑ ΛΗΞΗΣ' | Qrd txt :- '3. ΗΜΕΡΟΜΗΝΙΑ ΛΗΞΗΣ' | Matched :- 'True'\n",
      "2021-06-19 00:34:41,751 : Heading Extraction Elocta_clean_ ΕΠΙΣΗΜΑΝΣΗ.json_E : Validation Failed As Wrong Heading Found | H | CAP |  el | 2 | Elocta_clean_ ΕΠΙΣΗΜΑΝΣΗ.json | currHeadId :- '22024' | prevHeadingCurrId :- '' | prevHeadingFoundId :- '22029'\n",
      "2021-06-19 00:34:41,869 : Heading Extraction Elocta_clean_ ΕΠΙΣΗΜΑΝΣΗ.json_E : Match Passed | H | CAP |  el | 2 | Elocta_clean_ ΕΠΙΣΗΜΑΝΣΗ.json | Doc txt :- '3. ΗΜΕΡΟΜΗΝΙΑ ΛΗΞΗΣ' | Qrd txt :- '3. ΗΜΕΡΟΜΗΝΙΑ ΛΗΞΗΣ' | Matched :- 'True'\n",
      "2021-06-19 00:34:41,885 : Heading Extraction Elocta_clean_ ΕΠΙΣΗΜΑΝΣΗ.json_E : Validation Passed | H | CAP |  el | 2 | Elocta_clean_ ΕΠΙΣΗΜΑΝΣΗ.json | currHeadId :- '22030' | prevHeadingCurrId :- '22029' | prevHeadingFoundId :- '22029'\n",
      "2021-06-19 00:34:42,245 : Heading Extraction Elocta_clean_ ΕΠΙΣΗΜΑΝΣΗ.json_E : Match Passed : Contains<>|194.74|(49, 95, 86)|0.758| | H | CAP |  el | 2 | Elocta_clean_ ΕΠΙΣΗΜΑΝΣΗ.json | Doc txt :- '4.       ΑΡΙΘΜΟΣ ΠΑΡΤΙΔΑΣ' | Qrd txt :- '13. ΑΡΙΘΜΟΣ ΠΑΡΤΙΔΑΣ<, ΣΤΟΙΧΕΙΑ ΔΟΤΗ ΚΑΙ ΚΩΔΙΚΟΙ ΠΡΟΪΟΝΤΟΣ>' | Matched :- 'True'\n",
      "2021-06-19 00:34:42,259 : Heading Extraction Elocta_clean_ ΕΠΙΣΗΜΑΝΣΗ.json_E : Validation Failed As Previous Heading Found is not matching | H | CAP |  el | 2 | Elocta_clean_ ΕΠΙΣΗΜΑΝΣΗ.json | currHeadId :- '22015' | prevHeadingCurrId :- '22014' | prevHeadingFoundId :- '22030'\n",
      "2021-06-19 00:34:42,499 : Heading Extraction Elocta_clean_ ΕΠΙΣΗΜΑΝΣΗ.json_E : Match Passed : Contains<>|184.21|(52, 100, 90)|0.87| | H | CAP |  el | 2 | Elocta_clean_ ΕΠΙΣΗΜΑΝΣΗ.json | Doc txt :- '4.       ΑΡΙΘΜΟΣ ΠΑΡΤΙΔΑΣ' | Qrd txt :- '4. ΑΡΙΘΜΟΣ ΠΑΡΤΙΔΑΣ<, ΣΤΟΙΧΕΙΑ ΔΟΤΗ ΚΑΙ ΚΩΔΙΚΟΙ ΠΡΟΪΟΝΤΟΣ>' | Matched :- 'True'\n",
      "2021-06-19 00:34:42,522 : Heading Extraction Elocta_clean_ ΕΠΙΣΗΜΑΝΣΗ.json_E : Validation Failed As Wrong Heading Found | H | CAP |  el | 2 | Elocta_clean_ ΕΠΙΣΗΜΑΝΣΗ.json | currHeadId :- '22025' | prevHeadingCurrId :- '' | prevHeadingFoundId :- '22030'\n",
      "2021-06-19 00:34:42,645 : Heading Extraction Elocta_clean_ ΕΠΙΣΗΜΑΝΣΗ.json_E : Match Passed : Contains<>|184.21|(52, 100, 90)|0.87| | H | CAP |  el | 2 | Elocta_clean_ ΕΠΙΣΗΜΑΝΣΗ.json | Doc txt :- '4.       ΑΡΙΘΜΟΣ ΠΑΡΤΙΔΑΣ' | Qrd txt :- '4. ΑΡΙΘΜΟΣ ΠΑΡΤΙΔΑΣ<, ΣΤΟΙΧΕΙΑ ΔΟΤΗ ΚΑΙ ΚΩΔΙΚΟΙ ΠΡΟΪΟΝΤΟΣ>' | Matched :- 'True'\n",
      "2021-06-19 00:34:42,663 : Heading Extraction Elocta_clean_ ΕΠΙΣΗΜΑΝΣΗ.json_E : Validation Passed | H | CAP |  el | 2 | Elocta_clean_ ΕΠΙΣΗΜΑΝΣΗ.json | currHeadId :- '22031' | prevHeadingCurrId :- '22030' | prevHeadingFoundId :- '22030'\n",
      "2021-06-19 00:34:43,596 : Heading Extraction Elocta_clean_ ΕΠΙΣΗΜΑΝΣΗ.json_E : Match Passed : <=7|2.5|(98, 98, 100)|0.995| | H | CAP |  el | 2 | Elocta_clean_ ΕΠΙΣΗΜΑΝΣΗ.json | Doc txt :- '5.       ΠΕΡΙΕΧΟΜΕΝΟ ΚΑΤΑ ΒΑΡΟΣ, ΚΑΤ’ ΟΓΚΟ Ή ΚΑΤΑ ΜΟΝΑΔΑ' | Qrd txt :- '5. ΠΕΡΙΕΧΟΜΕΝΟ ΚΑΤΑ ΒΑΡΟΣ, ΚΑΤ' ΟΓΚΟ Ή ΚΑΤΑ ΜΟΝΑΔΑ' | Matched :- 'True'\n",
      "2021-06-19 00:34:43,611 : Heading Extraction Elocta_clean_ ΕΠΙΣΗΜΑΝΣΗ.json_E : Validation Passed | H | CAP |  el | 2 | Elocta_clean_ ΕΠΙΣΗΜΑΝΣΗ.json | currHeadId :- '22032' | prevHeadingCurrId :- '22031' | prevHeadingFoundId :- '22031'\n",
      "2021-06-19 00:34:44,317 : Heading Extraction Elocta_clean_ ΕΠΙΣΗΜΑΝΣΗ.json_E : Match Passed : <=4|6.25|(94, 94, 94)|0.975| | H | CAP |  el | 2 | Elocta_clean_ ΕΠΙΣΗΜΑΝΣΗ.json | Doc txt :- '6.       ΑΛΛΑ ΣΤΟΙΧΕΙΑ' | Qrd txt :- '5. ΑΛΛΑ ΣΤΟΙΧΕΙΑ' | Matched :- 'True'\n",
      "2021-06-19 00:34:44,339 : Heading Extraction Elocta_clean_ ΕΠΙΣΗΜΑΝΣΗ.json_E : Validation Failed As Wrong Heading Found | H | CAP |  el | 2 | Elocta_clean_ ΕΠΙΣΗΜΑΝΣΗ.json | currHeadId :- '22026' | prevHeadingCurrId :- '' | prevHeadingFoundId :- '22032'\n",
      "2021-06-19 00:34:44,455 : Heading Extraction Elocta_clean_ ΕΠΙΣΗΜΑΝΣΗ.json_E : Match Passed | H | CAP |  el | 2 | Elocta_clean_ ΕΠΙΣΗΜΑΝΣΗ.json | Doc txt :- '6. ΑΛΛΑ ΣΤΟΙΧΕΙΑ' | Qrd txt :- '6. ΑΛΛΑ ΣΤΟΙΧΕΙΑ' | Matched :- 'True'\n",
      "2021-06-19 00:34:44,474 : Heading Extraction Elocta_clean_ ΕΠΙΣΗΜΑΝΣΗ.json_E : Validation Passed | H | CAP |  el | 2 | Elocta_clean_ ΕΠΙΣΗΜΑΝΣΗ.json | currHeadId :- '22033' | prevHeadingCurrId :- '22032' | prevHeadingFoundId :- '22032'\n",
      "2021-06-19 00:34:45,440 : Heading Extraction Elocta_clean_ ΕΠΙΣΗΜΑΝΣΗ.json_E : Match Passed | H | CAP |  el | 2 | Elocta_clean_ ΕΠΙΣΗΜΑΝΣΗ.json | Doc txt :- 'ΕΛΑΧΙΣΤΕΣ ΕΝΔΕΙΞΕΙΣ ΠΟΥ ΠΡΕΠΕΙ ΝΑ ΑΝΑΓΡΑΦΟΝΤΑΙ ΣΤΙΣ ΜΙΚΡΕΣ ΣΤΟΙΧΕΙΩΔΕΙΣ ΣΥΣΚΕΥΑΣΙΕΣ' | Qrd txt :- 'ΕΛΑΧΙΣΤΕΣ ΕΝΔΕΙΞΕΙΣ ΠΟΥ ΠΡΕΠΕΙ ΝΑ ΑΝΑΓΡΑΦΟΝΤΑΙ ΣΤΙΣ ΜΙΚΡΕΣ ΣΤΟΙΧΕΙΩΔΕΙΣ ΣΥΣΚΕΥΑΣΙΕΣ' | Matched :- 'True'\n"
     ]
    },
    {
     "name": "stderr",
     "output_type": "stream",
     "text": [
      "2021-06-19 00:34:45,451 : Heading Extraction Elocta_clean_ ΕΠΙΣΗΜΑΝΣΗ.json_E : (27, 2.0, 'CAP') Validation Passed As Current Heading Is Same As Previous H1 Heading | H | CAP |  el | 2 | Elocta_clean_ ΕΠΙΣΗΜΑΝΣΗ.json | currHeadId :- '22027' | prevHeadingCurrId :- '' | prevHeadingFoundId :- '22033'\n",
      "2021-06-19 00:34:47,367 : Heading Extraction Elocta_clean_ ΕΠΙΣΗΜΑΝΣΗ.json_E : Match Passed | H | CAP |  el | 2 | Elocta_clean_ ΕΠΙΣΗΜΑΝΣΗ.json | Doc txt :- '1. ΟΝΟΜΑΣΙΑ ΤΟΥ ΦΑΡΜΑΚΕΥΤΙΚΟΥ ΠΡΟΪΟΝΤΟΣ ΚΑΙ ΟΔΟΣ(ΟΙ) ΧΟΡΗΓΗΣΗΣ' | Qrd txt :- '1. ΟΝΟΜΑΣΙΑ ΤΟΥ ΦΑΡΜΑΚΕΥΤΙΚΟΥ ΠΡΟΪΟΝΤΟΣ ΚΑΙ ΟΔΟΣ(ΟΙ) ΧΟΡΗΓΗΣΗΣ' | Matched :- 'True'\n",
      "2021-06-19 00:34:47,380 : Heading Extraction Elocta_clean_ ΕΠΙΣΗΜΑΝΣΗ.json_E : Validation Passed | H | CAP |  el | 2 | Elocta_clean_ ΕΠΙΣΗΜΑΝΣΗ.json | currHeadId :- '22028' | prevHeadingCurrId :- '22027' | prevHeadingFoundId :- '22027'\n",
      "2021-06-19 00:34:48,855 : Heading Extraction Elocta_clean_ ΕΠΙΣΗΜΑΝΣΗ.json_E : Match Passed | H | CAP |  el | 2 | Elocta_clean_ ΕΠΙΣΗΜΑΝΣΗ.json | Doc txt :- '2. ΤΡΟΠΟΣ ΧΟΡΗΓΗΣΗΣ' | Qrd txt :- '2. ΤΡΟΠΟΣ ΧΟΡΗΓΗΣΗΣ' | Matched :- 'True'\n",
      "2021-06-19 00:34:48,872 : Heading Extraction Elocta_clean_ ΕΠΙΣΗΜΑΝΣΗ.json_E : Validation Passed | H | CAP |  el | 2 | Elocta_clean_ ΕΠΙΣΗΜΑΝΣΗ.json | currHeadId :- '22029' | prevHeadingCurrId :- '22028' | prevHeadingFoundId :- '22028'\n",
      "2021-06-19 00:34:49,061 : Heading Extraction Elocta_clean_ ΕΠΙΣΗΜΑΝΣΗ.json_E : Match Passed : <=4|5.26|(95, 95, 95)|0.98| | H | CAP |  el | 2 | Elocta_clean_ ΕΠΙΣΗΜΑΝΣΗ.json | Doc txt :- '3.       ΗΜΕΡΟΜΗΝΙΑ ΛΗΞΗΣ' | Qrd txt :- '8. ΗΜΕΡΟΜΗΝΙΑ ΛΗΞΗΣ' | Matched :- 'True'\n",
      "2021-06-19 00:34:49,076 : Heading Extraction Elocta_clean_ ΕΠΙΣΗΜΑΝΣΗ.json_E : Validation Failed As Previous Heading Found is not matching | H | CAP |  el | 2 | Elocta_clean_ ΕΠΙΣΗΜΑΝΣΗ.json | currHeadId :- '22010' | prevHeadingCurrId :- '22009' | prevHeadingFoundId :- '22029'\n",
      "2021-06-19 00:34:49,385 : Heading Extraction Elocta_clean_ ΕΠΙΣΗΜΑΝΣΗ.json_E : Match Passed | H | CAP |  el | 2 | Elocta_clean_ ΕΠΙΣΗΜΑΝΣΗ.json | Doc txt :- '3. ΗΜΕΡΟΜΗΝΙΑ ΛΗΞΗΣ' | Qrd txt :- '3. ΗΜΕΡΟΜΗΝΙΑ ΛΗΞΗΣ' | Matched :- 'True'\n",
      "2021-06-19 00:34:49,416 : Heading Extraction Elocta_clean_ ΕΠΙΣΗΜΑΝΣΗ.json_E : Validation Failed As Wrong Heading Found | H | CAP |  el | 2 | Elocta_clean_ ΕΠΙΣΗΜΑΝΣΗ.json | currHeadId :- '22024' | prevHeadingCurrId :- '' | prevHeadingFoundId :- '22029'\n",
      "2021-06-19 00:34:49,536 : Heading Extraction Elocta_clean_ ΕΠΙΣΗΜΑΝΣΗ.json_E : Match Passed | H | CAP |  el | 2 | Elocta_clean_ ΕΠΙΣΗΜΑΝΣΗ.json | Doc txt :- '3. ΗΜΕΡΟΜΗΝΙΑ ΛΗΞΗΣ' | Qrd txt :- '3. ΗΜΕΡΟΜΗΝΙΑ ΛΗΞΗΣ' | Matched :- 'True'\n",
      "2021-06-19 00:34:49,551 : Heading Extraction Elocta_clean_ ΕΠΙΣΗΜΑΝΣΗ.json_E : Validation Passed | H | CAP |  el | 2 | Elocta_clean_ ΕΠΙΣΗΜΑΝΣΗ.json | currHeadId :- '22030' | prevHeadingCurrId :- '22029' | prevHeadingFoundId :- '22029'\n",
      "2021-06-19 00:34:49,876 : Heading Extraction Elocta_clean_ ΕΠΙΣΗΜΑΝΣΗ.json_E : Match Passed : Contains<>|194.74|(49, 95, 86)|0.758| | H | CAP |  el | 2 | Elocta_clean_ ΕΠΙΣΗΜΑΝΣΗ.json | Doc txt :- '4.       ΑΡΙΘΜΟΣ ΠΑΡΤΙΔΑΣ' | Qrd txt :- '13. ΑΡΙΘΜΟΣ ΠΑΡΤΙΔΑΣ<, ΣΤΟΙΧΕΙΑ ΔΟΤΗ ΚΑΙ ΚΩΔΙΚΟΙ ΠΡΟΪΟΝΤΟΣ>' | Matched :- 'True'\n",
      "2021-06-19 00:34:49,893 : Heading Extraction Elocta_clean_ ΕΠΙΣΗΜΑΝΣΗ.json_E : Validation Failed As Previous Heading Found is not matching | H | CAP |  el | 2 | Elocta_clean_ ΕΠΙΣΗΜΑΝΣΗ.json | currHeadId :- '22015' | prevHeadingCurrId :- '22014' | prevHeadingFoundId :- '22030'\n",
      "2021-06-19 00:34:50,125 : Heading Extraction Elocta_clean_ ΕΠΙΣΗΜΑΝΣΗ.json_E : Match Passed : Contains<>|184.21|(52, 100, 90)|0.87| | H | CAP |  el | 2 | Elocta_clean_ ΕΠΙΣΗΜΑΝΣΗ.json | Doc txt :- '4.       ΑΡΙΘΜΟΣ ΠΑΡΤΙΔΑΣ' | Qrd txt :- '4. ΑΡΙΘΜΟΣ ΠΑΡΤΙΔΑΣ<, ΣΤΟΙΧΕΙΑ ΔΟΤΗ ΚΑΙ ΚΩΔΙΚΟΙ ΠΡΟΪΟΝΤΟΣ>' | Matched :- 'True'\n",
      "2021-06-19 00:34:50,143 : Heading Extraction Elocta_clean_ ΕΠΙΣΗΜΑΝΣΗ.json_E : Validation Failed As Wrong Heading Found | H | CAP |  el | 2 | Elocta_clean_ ΕΠΙΣΗΜΑΝΣΗ.json | currHeadId :- '22025' | prevHeadingCurrId :- '' | prevHeadingFoundId :- '22030'\n",
      "2021-06-19 00:34:50,257 : Heading Extraction Elocta_clean_ ΕΠΙΣΗΜΑΝΣΗ.json_E : Match Passed : Contains<>|184.21|(52, 100, 90)|0.87| | H | CAP |  el | 2 | Elocta_clean_ ΕΠΙΣΗΜΑΝΣΗ.json | Doc txt :- '4.       ΑΡΙΘΜΟΣ ΠΑΡΤΙΔΑΣ' | Qrd txt :- '4. ΑΡΙΘΜΟΣ ΠΑΡΤΙΔΑΣ<, ΣΤΟΙΧΕΙΑ ΔΟΤΗ ΚΑΙ ΚΩΔΙΚΟΙ ΠΡΟΪΟΝΤΟΣ>' | Matched :- 'True'\n",
      "2021-06-19 00:34:50,278 : Heading Extraction Elocta_clean_ ΕΠΙΣΗΜΑΝΣΗ.json_E : Validation Passed | H | CAP |  el | 2 | Elocta_clean_ ΕΠΙΣΗΜΑΝΣΗ.json | currHeadId :- '22031' | prevHeadingCurrId :- '22030' | prevHeadingFoundId :- '22030'\n",
      "2021-06-19 00:34:51,168 : Heading Extraction Elocta_clean_ ΕΠΙΣΗΜΑΝΣΗ.json_E : Match Passed : <=7|2.5|(98, 98, 100)|0.995| | H | CAP |  el | 2 | Elocta_clean_ ΕΠΙΣΗΜΑΝΣΗ.json | Doc txt :- '5.       ΠΕΡΙΕΧΟΜΕΝΟ ΚΑΤΑ ΒΑΡΟΣ, ΚΑΤ’ ΟΓΚΟ Ή ΚΑΤΑ ΜΟΝΑΔΑ' | Qrd txt :- '5. ΠΕΡΙΕΧΟΜΕΝΟ ΚΑΤΑ ΒΑΡΟΣ, ΚΑΤ' ΟΓΚΟ Ή ΚΑΤΑ ΜΟΝΑΔΑ' | Matched :- 'True'\n",
      "2021-06-19 00:34:51,190 : Heading Extraction Elocta_clean_ ΕΠΙΣΗΜΑΝΣΗ.json_E : Validation Passed | H | CAP |  el | 2 | Elocta_clean_ ΕΠΙΣΗΜΑΝΣΗ.json | currHeadId :- '22032' | prevHeadingCurrId :- '22031' | prevHeadingFoundId :- '22031'\n",
      "2021-06-19 00:34:51,653 : Heading Extraction Elocta_clean_ ΕΠΙΣΗΜΑΝΣΗ.json_E : Match Passed : <=4|6.25|(94, 94, 94)|0.975| | H | CAP |  el | 2 | Elocta_clean_ ΕΠΙΣΗΜΑΝΣΗ.json | Doc txt :- '6.       ΑΛΛΑ ΣΤΟΙΧΕΙΑ' | Qrd txt :- '5. ΑΛΛΑ ΣΤΟΙΧΕΙΑ' | Matched :- 'True'\n",
      "2021-06-19 00:34:51,667 : Heading Extraction Elocta_clean_ ΕΠΙΣΗΜΑΝΣΗ.json_E : Validation Failed As Wrong Heading Found | H | CAP |  el | 2 | Elocta_clean_ ΕΠΙΣΗΜΑΝΣΗ.json | currHeadId :- '22026' | prevHeadingCurrId :- '' | prevHeadingFoundId :- '22032'\n",
      "2021-06-19 00:34:51,768 : Heading Extraction Elocta_clean_ ΕΠΙΣΗΜΑΝΣΗ.json_E : Match Passed | H | CAP |  el | 2 | Elocta_clean_ ΕΠΙΣΗΜΑΝΣΗ.json | Doc txt :- '6. ΑΛΛΑ ΣΤΟΙΧΕΙΑ' | Qrd txt :- '6. ΑΛΛΑ ΣΤΟΙΧΕΙΑ' | Matched :- 'True'\n",
      "2021-06-19 00:34:51,782 : Heading Extraction Elocta_clean_ ΕΠΙΣΗΜΑΝΣΗ.json_E : Validation Passed | H | CAP |  el | 2 | Elocta_clean_ ΕΠΙΣΗΜΑΝΣΗ.json | currHeadId :- '22033' | prevHeadingCurrId :- '22032' | prevHeadingFoundId :- '22032'\n",
      "2021-06-19 00:34:51,799 : Flow Logger HTML_o : Completed Heading Extraction For File | H | CAP |  el | HTML | Elocta_clean.htm\n",
      "2021-06-19 00:34:51,806 : Flow Logger HTML_o : 2: Heading Extraction,4.8675 Min,2.190178 MB,4.193415 MB,53.6%\n",
      " | H | CAP |  el | HTML | Elocta_clean.htm\n",
      "2021-06-19 00:34:51,816 : Flow Logger HTML_o : Starting Document Annotation For File | H | CAP |  el | HTML | Elocta_clean.htm\n"
     ]
    },
    {
     "name": "stdout",
     "output_type": "stream",
     "text": [
      "\n",
      "\n",
      "Heading Not Found \n",
      " ['ΕΛΑΧΙΣΤΕΣ ΕΝΔΕΙΞΕΙΣ ΠΟΥ ΠΡΕΠΕΙ ΝΑ ΑΝΑΓΡΑΦΟΝΤΑΙ ΣΤΙΣ ΣΥΣΚΕΥΑΣΙΕΣ ΚΥΨΕΛΗΣ (BLISTER) Ή ΣΤΙΣ ΤΑΙΝΙΕΣ (STRIPS)', 'ΟΝΟΜΑ ΚΑΤΟΧΟΥ ΤΗΣ ΑΔΕΙΑΣ ΚΥΚΛΟΦΟΡΙΑΣ']\n",
      "\n",
      "\n",
      "dict_keys([])\n",
      "Completed Heading Extraction For File\n",
      "Metrics : 2: Heading Extraction,4.8675 Min,2.190178 MB,4.193415 MB,53.6%\n",
      "\n",
      "Starting Document Annotation For File :- Elocta_clean_ ΕΠΙΣΗΜΑΝΣΗ.json\n",
      "Warning: Multiple Authorization Token Found In The Document Elocta_clean_ ΕΠΙΣΗΜΑΝΣΗ.json :- \n",
      " ['EU/1/15/1046/001', 'EU/1/15/1046/002', 'EU/1/15/1046/003', 'EU/1/15/1046/004', 'EU/1/15/1046/005', 'EU/1/15/1046/006', 'EU/1/15/1046/007', 'EU/1/15/1046/008']\n",
      "\n",
      "======================================  ['EU/1/15/1046/001', 'EU/1/15/1046/002', 'EU/1/15/1046/003', 'EU/1/15/1046/004', 'EU/1/15/1046/005', 'EU/1/15/1046/006', 'EU/1/15/1046/007', 'EU/1/15/1046/008']  =========================\n",
      "\n",
      "\n",
      "Found entry with code 220000000061\n",
      "Warning: Medicinal Product Definition Reference Missing for Authorization Identifier EU/1/15/1046/001\n",
      "Found Packaged Product Definition\n",
      "Missing Key 'holder' in entry key value pair\n",
      "processedOutputIndirect [(None, '1247631')]\n",
      "[None, '600000576406']\n",
      "Found entry with code 220000000061\n",
      "Warning: Medicinal Product Definition Reference Missing for Authorization Identifier EU/1/15/1046/002\n",
      "Found Packaged Product Definition\n",
      "Missing Key 'holder' in entry key value pair\n",
      "processedOutputIndirect [(None, '1247632')]\n",
      "[None, '600000576627']\n",
      "Found entry with code 220000000061\n",
      "Warning: Medicinal Product Definition Reference Missing for Authorization Identifier EU/1/15/1046/003\n",
      "Found Packaged Product Definition\n",
      "Missing Key 'holder' in entry key value pair\n",
      "processedOutputIndirect [(None, '1247635')]\n",
      "[None, '600000576628']\n",
      "Found entry with code 220000000061\n",
      "Warning: Medicinal Product Definition Reference Missing for Authorization Identifier EU/1/15/1046/004\n",
      "Found Packaged Product Definition\n",
      "Missing Key 'holder' in entry key value pair\n",
      "processedOutputIndirect [(None, '1247636')]\n",
      "[None, '600000576629']\n",
      "Missing Key 'entry' in the EU/1/15/1046/005 regulated authorization API output\n",
      "Found entry with code 220000000061\n",
      "Warning: Medicinal Product Definition Reference Missing for Authorization Identifier EU/1/15/1046/006\n",
      "Found Packaged Product Definition\n",
      "Missing Key 'holder' in entry key value pair\n",
      "processedOutputIndirect [(None, '1247638')]\n",
      "[None, '600000576646']\n",
      "Found entry with code 220000000061\n",
      "Warning: Medicinal Product Definition Reference Missing for Authorization Identifier EU/1/15/1046/007\n",
      "Found Packaged Product Definition\n",
      "Missing Key 'holder' in entry key value pair\n",
      "processedOutputIndirect [(None, '1247653')]\n",
      "[None, '600000575782']\n",
      "Found entry with code 220000000061\n",
      "Warning: Medicinal Product Definition Reference Missing for Authorization Identifier EU/1/15/1046/008\n",
      "Found Packaged Product Definition\n",
      "Missing Key 'holder' in entry key value pair\n",
      "processedOutputIndirect [(None, '1256640')]\n",
      "[None, '600000574371']\n"
     ]
    },
    {
     "name": "stderr",
     "output_type": "stream",
     "text": [
      "2021-06-19 00:35:10,250 : Flow Logger HTML_o : Completed Document Annotation | H | CAP |  el | HTML | Elocta_clean.htm\n",
      "2021-06-19 00:35:10,251 : Flow Logger HTML_o : 2: Document Annotation,0.3073 Min,0.187707 MB,0.738654 MB,53.7%\n",
      " | H | CAP |  el | HTML | Elocta_clean.htm\n",
      "2021-06-19 00:35:10,255 : Flow Logger HTML_o : Starting Extracting Content Between Heading | H | CAP |  el | HTML | Elocta_clean.htm\n",
      "2021-06-19 00:35:10,262 : ExtractContentBetween_2_g : Cleaning Match Results | H | CAP |  el | 2 | Elocta_clean_ ΕΠΙΣΗΜΑΝΣΗ.json\n",
      "2021-06-19 00:35:10,278 : ExtractContentBetween_2_g : Finished Cleaning Match Results | H | CAP |  el | 2 | Elocta_clean_ ΕΠΙΣΗΜΑΝΣΗ.json\n"
     ]
    },
    {
     "name": "stdout",
     "output_type": "stream",
     "text": [
      "{'Author Value': None, 'Medicinal Product Definitions': [('600000576406', 'ELOCTA 250 IU - Powder and solvent for solution for injection'), ('600000576627', 'ELOCTA 500 IU - Powder and solvent for solution for injection'), ('600000576628', 'ELOCTA 750 IU - Powder and solvent for solution for injection'), ('600000576629', 'ELOCTA 1000 IU - Powder and solvent for solution for injection'), ('600000576646', 'ELOCTA 2000 IU - Powder and solvent for solution for injection'), ('600000575782', 'ELOCTA 3000 IU - Powder and solvent for solution for injection'), ('600000574371', 'ELOCTA 4000 IU - Powder and solvent for solution for injection')]}\n",
      "Completed Document Annotation\n",
      "Metrics : 2: Document Annotation,0.3073 Min,0.187707 MB,0.738654 MB,53.7%\n",
      "\n",
      "Starting Extracting Content Between Heading For File :- Elocta_clean_ ΕΠΙΣΗΜΑΝΣΗ.json\n",
      "File being processed: F:\\Projects\\EMA\\Repository\\EMA EPI PoC\\function_code\\work\\H\\CAP\\Elocta\\el\\2021-06-07T06-03-45Z\\partitionedJSONs\\Elocta_clean_ ΕΠΙΣΗΜΑΝΣΗ.json\n",
      "--------------------------------------------\n"
     ]
    },
    {
     "name": "stderr",
     "output_type": "stream",
     "text": [
      "2021-06-19 00:35:12,054 : Flow Logger HTML_o : Completed Extracting Content Between Heading | H | CAP |  el | HTML | Elocta_clean.htm\n",
      "2021-06-19 00:35:12,057 : Flow Logger HTML_o : 2: Content Extraction,0.03 Min,0.478626 MB,4.256791 MB,53.7%\n",
      " | H | CAP |  el | HTML | Elocta_clean.htm\n",
      "2021-06-19 00:35:12,157 : XmlGeneration_2_l : Initiating XML Generation | H | CAP |  el | 2 | Elocta_clean_ ΕΠΙΣΗΜΑΝΣΗ.json\n"
     ]
    },
    {
     "name": "stdout",
     "output_type": "stream",
     "text": [
      "Completed Extracting Content Between Heading\n",
      "Metrics : 2: Content Extraction,0.03 Min,0.478626 MB,4.256791 MB,53.7%\n",
      "\n",
      "Already Exists\n"
     ]
    },
    {
     "name": "stderr",
     "output_type": "stream",
     "text": [
      "2021-06-19 00:35:12,797 : XmlGeneration_2_l : Writing to File:Elocta_clean_ ΕΠΙΣΗΜΑΝΣΗ.xml | H | CAP |  el | 2 | Elocta_clean_ ΕΠΙΣΗΜΑΝΣΗ.json\n",
      "2021-06-19 00:35:12,810 : Flow Logger HTML_o : 2: Generate XML,0.0125 Min,2.450432 MB,4.630221 MB,53.6%\n",
      " | H | CAP |  el | HTML | Elocta_clean.htm\n"
     ]
    },
    {
     "name": "stdout",
     "output_type": "stream",
     "text": [
      "Metrics : 2: Generate XML,0.0125 Min,2.450432 MB,4.630221 MB,53.6%\n",
      "\n"
     ]
    },
    {
     "name": "stderr",
     "output_type": "stream",
     "text": [
      "2021-06-19 00:35:16,388 : XML Submission Logger_2_6 : Initiating Submission To FHIR Server | H | CAP |  el | 2 | Elocta_clean_ ΕΠΙΣΗΜΑΝΣΗ.json\n",
      "2021-06-19 00:35:16,393 : XML Submission Logger_2_6 : Response{\"resourceType\":\"Bundle\",\"id\":\"999ee3d4-273d-4c27-a307-c7804329a4a7\",\"meta\":{\"versionId\":\"1\",\"lastUpdated\":\"2021-06-18T19:05:15.465+00:00\"},\"type\":\"collection\",\"entry\":[{\"fullUrl\":\"urn:uuid:d11089ae-0236-4f0f-a3b2-b8e4a5051810\",\"resource\":{\"resourceType\":\"Bundle\",\"id\":\"92c84ddf-d2e0-4852-9c69-97706b6862fc\",\"identifier\":{\"system\":\"http://ema.europa.eu/fhir/identifier/documentid\",\"value\":\"92c84ddf-d2e0-4852-9c69-97706b6862fc\"},\"type\":\"document\",\"timestamp\":\"2021-06-18T19:05:12+00:00\",\"entry\":[{\"fu | H | CAP |  el | 2 | Elocta_clean_ ΕΠΙΣΗΜΑΝΣΗ.json\n",
      "2021-06-19 00:35:16,407 : XML Submission Logger_2_6 : POST sucessful: XML added with id: 999ee3d4-273d-4c27-a307-c7804329a4a7 | H | CAP |  el | 2 | Elocta_clean_ ΕΠΙΣΗΜΑΝΣΗ.json\n",
      "2021-06-19 00:35:16,415 : Flow Logger HTML_o : 2: Submit FHIR Msg,0.0599 Min,0.224545 MB,1.476408 MB,53.7%\n",
      " | H | CAP |  el | HTML | Elocta_clean.htm\n",
      "2021-06-19 00:35:16,420 : Flow Logger HTML_o : Starting list bundle update/addition | H | CAP |  el | HTML | Elocta_clean.htm\n",
      "2021-06-19 00:35:16,445 : List Bundle Creation Logger_2_j : Extracted list bundle document type code this document 100000155535 | H | CAP |  el | 2 | Elocta_clean_ ΕΠΙΣΗΜΑΝΣΗ.json\n",
      "2021-06-19 00:35:16,445 : List Bundle Creation Logger_2_j : Extracted list bundle document type code this document 100000155535 | H | CAP |  el | 2 | Elocta_clean_ ΕΠΙΣΗΜΑΝΣΗ.json\n",
      "2021-06-19 00:35:16,445 : List Bundle Creation Logger_2_j : Extracted list bundle document type code this document 100000155535 | H | CAP |  el | 2 | Elocta_clean_ ΕΠΙΣΗΜΑΝΣΗ.json\n",
      "2021-06-19 00:35:16,464 : List Bundle Creation Logger_2_j : Getting Existing List Bundle accross all MANs | H | CAP |  el | 2 | Elocta_clean_ ΕΠΙΣΗΜΑΝΣΗ.json\n",
      "2021-06-19 00:35:16,464 : List Bundle Creation Logger_2_j : Getting Existing List Bundle accross all MANs | H | CAP |  el | 2 | Elocta_clean_ ΕΠΙΣΗΜΑΝΣΗ.json\n",
      "2021-06-19 00:35:16,464 : List Bundle Creation Logger_2_j : Getting Existing List Bundle accross all MANs | H | CAP |  el | 2 | Elocta_clean_ ΕΠΙΣΗΜΑΝΣΗ.json\n",
      "2021-06-19 00:35:16,473 : List Bundle Creation Logger_2_j : Getting list bundle for MAN EU/1/15/1046/001  | H | CAP |  el | 2 | Elocta_clean_ ΕΠΙΣΗΜΑΝΣΗ.json\n",
      "2021-06-19 00:35:16,473 : List Bundle Creation Logger_2_j : Getting list bundle for MAN EU/1/15/1046/001  | H | CAP |  el | 2 | Elocta_clean_ ΕΠΙΣΗΜΑΝΣΗ.json\n",
      "2021-06-19 00:35:16,473 : List Bundle Creation Logger_2_j : Getting list bundle for MAN EU/1/15/1046/001  | H | CAP |  el | 2 | Elocta_clean_ ΕΠΙΣΗΜΑΝΣΗ.json\n"
     ]
    },
    {
     "name": "stdout",
     "output_type": "stream",
     "text": [
      "POST sucessful: XML added with id 999ee3d4-273d-4c27-a307-c7804329a4a7\n",
      "Metrics : 2: Submit FHIR Msg,0.0599 Min,0.224545 MB,1.476408 MB,53.7%\n",
      "\n",
      "Created XML File For :- Elocta_clean_ ΕΠΙΣΗΜΑΝΣΗ.json\n",
      "\n",
      "listRegulatedAuthCodesAccrossePI ['EU/1/15/1046/001', 'EU/1/15/1046/002', 'EU/1/15/1046/003', 'EU/1/15/1046/004', 'EU/1/15/1046/005', 'EU/1/15/1046/006', 'EU/1/15/1046/007', 'EU/1/15/1046/008', 'EU/1/15/1046/001', 'EU/1/15/1046/002', 'EU/1/15/1046/003', 'EU/1/15/1046/004', 'EU/1/15/1046/005', 'EU/1/15/1046/006', 'EU/1/15/1046/007', 'EU/1/15/1046/008']\n"
     ]
    },
    {
     "name": "stderr",
     "output_type": "stream",
     "text": [
      "2021-06-19 00:35:17,408 : List Bundle Creation Logger_2_j : Getting list bundle for MAN EU/1/15/1046/002  | H | CAP |  el | 2 | Elocta_clean_ ΕΠΙΣΗΜΑΝΣΗ.json\n",
      "2021-06-19 00:35:17,408 : List Bundle Creation Logger_2_j : Getting list bundle for MAN EU/1/15/1046/002  | H | CAP |  el | 2 | Elocta_clean_ ΕΠΙΣΗΜΑΝΣΗ.json\n",
      "2021-06-19 00:35:17,408 : List Bundle Creation Logger_2_j : Getting list bundle for MAN EU/1/15/1046/002  | H | CAP |  el | 2 | Elocta_clean_ ΕΠΙΣΗΜΑΝΣΗ.json\n",
      "2021-06-19 00:35:18,305 : List Bundle Creation Logger_2_j : Getting list bundle for MAN EU/1/15/1046/003  | H | CAP |  el | 2 | Elocta_clean_ ΕΠΙΣΗΜΑΝΣΗ.json\n",
      "2021-06-19 00:35:18,305 : List Bundle Creation Logger_2_j : Getting list bundle for MAN EU/1/15/1046/003  | H | CAP |  el | 2 | Elocta_clean_ ΕΠΙΣΗΜΑΝΣΗ.json\n",
      "2021-06-19 00:35:18,305 : List Bundle Creation Logger_2_j : Getting list bundle for MAN EU/1/15/1046/003  | H | CAP |  el | 2 | Elocta_clean_ ΕΠΙΣΗΜΑΝΣΗ.json\n",
      "2021-06-19 00:35:19,181 : List Bundle Creation Logger_2_j : Getting list bundle for MAN EU/1/15/1046/004  | H | CAP |  el | 2 | Elocta_clean_ ΕΠΙΣΗΜΑΝΣΗ.json\n",
      "2021-06-19 00:35:19,181 : List Bundle Creation Logger_2_j : Getting list bundle for MAN EU/1/15/1046/004  | H | CAP |  el | 2 | Elocta_clean_ ΕΠΙΣΗΜΑΝΣΗ.json\n",
      "2021-06-19 00:35:19,181 : List Bundle Creation Logger_2_j : Getting list bundle for MAN EU/1/15/1046/004  | H | CAP |  el | 2 | Elocta_clean_ ΕΠΙΣΗΜΑΝΣΗ.json\n",
      "2021-06-19 00:35:20,064 : List Bundle Creation Logger_2_j : Getting list bundle for MAN EU/1/15/1046/005  | H | CAP |  el | 2 | Elocta_clean_ ΕΠΙΣΗΜΑΝΣΗ.json\n",
      "2021-06-19 00:35:20,064 : List Bundle Creation Logger_2_j : Getting list bundle for MAN EU/1/15/1046/005  | H | CAP |  el | 2 | Elocta_clean_ ΕΠΙΣΗΜΑΝΣΗ.json\n",
      "2021-06-19 00:35:20,064 : List Bundle Creation Logger_2_j : Getting list bundle for MAN EU/1/15/1046/005  | H | CAP |  el | 2 | Elocta_clean_ ΕΠΙΣΗΜΑΝΣΗ.json\n",
      "2021-06-19 00:35:21,022 : List Bundle Creation Logger_2_j : Getting list bundle for MAN EU/1/15/1046/006  | H | CAP |  el | 2 | Elocta_clean_ ΕΠΙΣΗΜΑΝΣΗ.json\n",
      "2021-06-19 00:35:21,022 : List Bundle Creation Logger_2_j : Getting list bundle for MAN EU/1/15/1046/006  | H | CAP |  el | 2 | Elocta_clean_ ΕΠΙΣΗΜΑΝΣΗ.json\n",
      "2021-06-19 00:35:21,022 : List Bundle Creation Logger_2_j : Getting list bundle for MAN EU/1/15/1046/006  | H | CAP |  el | 2 | Elocta_clean_ ΕΠΙΣΗΜΑΝΣΗ.json\n",
      "2021-06-19 00:35:21,900 : List Bundle Creation Logger_2_j : Getting list bundle for MAN EU/1/15/1046/007  | H | CAP |  el | 2 | Elocta_clean_ ΕΠΙΣΗΜΑΝΣΗ.json\n",
      "2021-06-19 00:35:21,900 : List Bundle Creation Logger_2_j : Getting list bundle for MAN EU/1/15/1046/007  | H | CAP |  el | 2 | Elocta_clean_ ΕΠΙΣΗΜΑΝΣΗ.json\n",
      "2021-06-19 00:35:21,900 : List Bundle Creation Logger_2_j : Getting list bundle for MAN EU/1/15/1046/007  | H | CAP |  el | 2 | Elocta_clean_ ΕΠΙΣΗΜΑΝΣΗ.json\n",
      "2021-06-19 00:35:22,823 : List Bundle Creation Logger_2_j : Getting list bundle for MAN EU/1/15/1046/008  | H | CAP |  el | 2 | Elocta_clean_ ΕΠΙΣΗΜΑΝΣΗ.json\n",
      "2021-06-19 00:35:22,823 : List Bundle Creation Logger_2_j : Getting list bundle for MAN EU/1/15/1046/008  | H | CAP |  el | 2 | Elocta_clean_ ΕΠΙΣΗΜΑΝΣΗ.json\n",
      "2021-06-19 00:35:22,823 : List Bundle Creation Logger_2_j : Getting list bundle for MAN EU/1/15/1046/008  | H | CAP |  el | 2 | Elocta_clean_ ΕΠΙΣΗΜΑΝΣΗ.json\n",
      "2021-06-19 00:35:23,761 : List Bundle Creation Logger_2_j : Getting list bundle for MAN EU/1/15/1046/001  | H | CAP |  el | 2 | Elocta_clean_ ΕΠΙΣΗΜΑΝΣΗ.json\n",
      "2021-06-19 00:35:23,761 : List Bundle Creation Logger_2_j : Getting list bundle for MAN EU/1/15/1046/001  | H | CAP |  el | 2 | Elocta_clean_ ΕΠΙΣΗΜΑΝΣΗ.json\n",
      "2021-06-19 00:35:23,761 : List Bundle Creation Logger_2_j : Getting list bundle for MAN EU/1/15/1046/001  | H | CAP |  el | 2 | Elocta_clean_ ΕΠΙΣΗΜΑΝΣΗ.json\n",
      "2021-06-19 00:35:24,654 : List Bundle Creation Logger_2_j : Getting list bundle for MAN EU/1/15/1046/002  | H | CAP |  el | 2 | Elocta_clean_ ΕΠΙΣΗΜΑΝΣΗ.json\n",
      "2021-06-19 00:35:24,654 : List Bundle Creation Logger_2_j : Getting list bundle for MAN EU/1/15/1046/002  | H | CAP |  el | 2 | Elocta_clean_ ΕΠΙΣΗΜΑΝΣΗ.json\n",
      "2021-06-19 00:35:24,654 : List Bundle Creation Logger_2_j : Getting list bundle for MAN EU/1/15/1046/002  | H | CAP |  el | 2 | Elocta_clean_ ΕΠΙΣΗΜΑΝΣΗ.json\n",
      "2021-06-19 00:35:25,600 : List Bundle Creation Logger_2_j : Getting list bundle for MAN EU/1/15/1046/003  | H | CAP |  el | 2 | Elocta_clean_ ΕΠΙΣΗΜΑΝΣΗ.json\n",
      "2021-06-19 00:35:25,600 : List Bundle Creation Logger_2_j : Getting list bundle for MAN EU/1/15/1046/003  | H | CAP |  el | 2 | Elocta_clean_ ΕΠΙΣΗΜΑΝΣΗ.json\n",
      "2021-06-19 00:35:25,600 : List Bundle Creation Logger_2_j : Getting list bundle for MAN EU/1/15/1046/003  | H | CAP |  el | 2 | Elocta_clean_ ΕΠΙΣΗΜΑΝΣΗ.json\n",
      "2021-06-19 00:35:26,555 : List Bundle Creation Logger_2_j : Getting list bundle for MAN EU/1/15/1046/004  | H | CAP |  el | 2 | Elocta_clean_ ΕΠΙΣΗΜΑΝΣΗ.json\n",
      "2021-06-19 00:35:26,555 : List Bundle Creation Logger_2_j : Getting list bundle for MAN EU/1/15/1046/004  | H | CAP |  el | 2 | Elocta_clean_ ΕΠΙΣΗΜΑΝΣΗ.json\n",
      "2021-06-19 00:35:26,555 : List Bundle Creation Logger_2_j : Getting list bundle for MAN EU/1/15/1046/004  | H | CAP |  el | 2 | Elocta_clean_ ΕΠΙΣΗΜΑΝΣΗ.json\n",
      "2021-06-19 00:35:27,428 : List Bundle Creation Logger_2_j : Getting list bundle for MAN EU/1/15/1046/005  | H | CAP |  el | 2 | Elocta_clean_ ΕΠΙΣΗΜΑΝΣΗ.json\n",
      "2021-06-19 00:35:27,428 : List Bundle Creation Logger_2_j : Getting list bundle for MAN EU/1/15/1046/005  | H | CAP |  el | 2 | Elocta_clean_ ΕΠΙΣΗΜΑΝΣΗ.json\n",
      "2021-06-19 00:35:27,428 : List Bundle Creation Logger_2_j : Getting list bundle for MAN EU/1/15/1046/005  | H | CAP |  el | 2 | Elocta_clean_ ΕΠΙΣΗΜΑΝΣΗ.json\n",
      "2021-06-19 00:35:28,322 : List Bundle Creation Logger_2_j : Getting list bundle for MAN EU/1/15/1046/006  | H | CAP |  el | 2 | Elocta_clean_ ΕΠΙΣΗΜΑΝΣΗ.json\n",
      "2021-06-19 00:35:28,322 : List Bundle Creation Logger_2_j : Getting list bundle for MAN EU/1/15/1046/006  | H | CAP |  el | 2 | Elocta_clean_ ΕΠΙΣΗΜΑΝΣΗ.json\n",
      "2021-06-19 00:35:28,322 : List Bundle Creation Logger_2_j : Getting list bundle for MAN EU/1/15/1046/006  | H | CAP |  el | 2 | Elocta_clean_ ΕΠΙΣΗΜΑΝΣΗ.json\n",
      "2021-06-19 00:35:29,222 : List Bundle Creation Logger_2_j : Getting list bundle for MAN EU/1/15/1046/007  | H | CAP |  el | 2 | Elocta_clean_ ΕΠΙΣΗΜΑΝΣΗ.json\n",
      "2021-06-19 00:35:29,222 : List Bundle Creation Logger_2_j : Getting list bundle for MAN EU/1/15/1046/007  | H | CAP |  el | 2 | Elocta_clean_ ΕΠΙΣΗΜΑΝΣΗ.json\n",
      "2021-06-19 00:35:29,222 : List Bundle Creation Logger_2_j : Getting list bundle for MAN EU/1/15/1046/007  | H | CAP |  el | 2 | Elocta_clean_ ΕΠΙΣΗΜΑΝΣΗ.json\n",
      "2021-06-19 00:35:30,259 : List Bundle Creation Logger_2_j : Getting list bundle for MAN EU/1/15/1046/008  | H | CAP |  el | 2 | Elocta_clean_ ΕΠΙΣΗΜΑΝΣΗ.json\n",
      "2021-06-19 00:35:30,259 : List Bundle Creation Logger_2_j : Getting list bundle for MAN EU/1/15/1046/008  | H | CAP |  el | 2 | Elocta_clean_ ΕΠΙΣΗΜΑΝΣΗ.json\n",
      "2021-06-19 00:35:30,259 : List Bundle Creation Logger_2_j : Getting list bundle for MAN EU/1/15/1046/008  | H | CAP |  el | 2 | Elocta_clean_ ΕΠΙΣΗΜΑΝΣΗ.json\n",
      "2021-06-19 00:35:31,224 : List Bundle Creation Logger_2_j : Getting Existing List Bundle using common list id 5829d349-155f-4f0a-ac97-6a29dd532996 | H | CAP |  el | 2 | Elocta_clean_ ΕΠΙΣΗΜΑΝΣΗ.json\n",
      "2021-06-19 00:35:31,224 : List Bundle Creation Logger_2_j : Getting Existing List Bundle using common list id 5829d349-155f-4f0a-ac97-6a29dd532996 | H | CAP |  el | 2 | Elocta_clean_ ΕΠΙΣΗΜΑΝΣΗ.json\n",
      "2021-06-19 00:35:31,224 : List Bundle Creation Logger_2_j : Getting Existing List Bundle using common list id 5829d349-155f-4f0a-ac97-6a29dd532996 | H | CAP |  el | 2 | Elocta_clean_ ΕΠΙΣΗΜΑΝΣΗ.json\n",
      "2021-06-19 00:35:32,150 : List Bundle Creation Logger_2_j : Added missing MAN identifiers | H | CAP |  el | 2 | Elocta_clean_ ΕΠΙΣΗΜΑΝΣΗ.json\n",
      "2021-06-19 00:35:32,150 : List Bundle Creation Logger_2_j : Added missing MAN identifiers | H | CAP |  el | 2 | Elocta_clean_ ΕΠΙΣΗΜΑΝΣΗ.json\n",
      "2021-06-19 00:35:32,150 : List Bundle Creation Logger_2_j : Added missing MAN identifiers | H | CAP |  el | 2 | Elocta_clean_ ΕΠΙΣΗΜΑΝΣΗ.json\n",
      "2021-06-19 00:35:32,160 : List Bundle Creation Logger_2_j : Updating existing item | H | CAP |  el | 2 | Elocta_clean_ ΕΠΙΣΗΜΑΝΣΗ.json\n"
     ]
    },
    {
     "name": "stderr",
     "output_type": "stream",
     "text": [
      "2021-06-19 00:35:32,160 : List Bundle Creation Logger_2_j : Updating existing item | H | CAP |  el | 2 | Elocta_clean_ ΕΠΙΣΗΜΑΝΣΗ.json\n",
      "2021-06-19 00:35:32,160 : List Bundle Creation Logger_2_j : Updating existing item | H | CAP |  el | 2 | Elocta_clean_ ΕΠΙΣΗΜΑΝΣΗ.json\n",
      "2021-06-19 00:35:32,174 : List Bundle Creation Logger_2_j : Converted to required XML format | H | CAP |  el | 2 | Elocta_clean_ ΕΠΙΣΗΜΑΝΣΗ.json\n",
      "2021-06-19 00:35:32,174 : List Bundle Creation Logger_2_j : Converted to required XML format | H | CAP |  el | 2 | Elocta_clean_ ΕΠΙΣΗΜΑΝΣΗ.json\n",
      "2021-06-19 00:35:32,174 : List Bundle Creation Logger_2_j : Converted to required XML format | H | CAP |  el | 2 | Elocta_clean_ ΕΠΙΣΗΜΑΝΣΗ.json\n"
     ]
    },
    {
     "name": "stdout",
     "output_type": "stream",
     "text": [
      "b'<List xmlns=\"http://hl7.org/fhir\"><id value=\"5829d349-155f-4f0a-ac97-6a29dd532996\" /><identifier><system value=\"http://spor.ema.europa.eu/v2/medicine-name\" /><value value=\"elocta\" /></identifier><identifier><system value=\"http://spor.ema.europa.eu/v2/marketing-authorisation-numbers\" /><value value=\"EU/1/15/1046/001\" /></identifier><identifier><system value=\"http://spor.ema.europa.eu/v2/marketing-authorisation-numbers\" /><value value=\"EU/1/15/1046/002\" /></identifier><identifier><system value=\"http://spor.ema.europa.eu/v2/marketing-authorisation-numbers\" /><value value=\"EU/1/15/1046/003\" /></identifier><identifier><system value=\"http://spor.ema.europa.eu/v2/marketing-authorisation-numbers\" /><value value=\"EU/1/15/1046/004\" /></identifier><identifier><system value=\"http://spor.ema.europa.eu/v2/marketing-authorisation-numbers\" /><value value=\"EU/1/15/1046/005\" /></identifier><identifier><system value=\"http://spor.ema.europa.eu/v2/marketing-authorisation-numbers\" /><value value=\"EU/1/15/1046/006\" /></identifier><identifier><system value=\"http://spor.ema.europa.eu/v2/marketing-authorisation-numbers\" /><value value=\"EU/1/15/1046/007\" /></identifier><identifier><system value=\"http://spor.ema.europa.eu/v2/marketing-authorisation-numbers\" /><value value=\"EU/1/15/1046/008\" /></identifier><status value=\"current\" /><mode value=\"working\" /><code><coding><system value=\"http://spor.ema.europa.eu/v1/example-pi-list-types\" /><code value=\"00000021213\" /><display value=\"ePI Master List\" /></coding></code><subject><extension url=\"http://ema.europa.eu/fhir/extension/domain\"><valueCoding><system value=\"http://spor.ema.europa.eu/v1/100000000004\" /><code value=\"100000000012\" /><display value=\"H\" /></valueCoding></extension><extension url=\"http://ema.europa.eu/fhir/extension/medicine-name\"><valueCoding><system value=\"http://spor.ema.europa.eu/v1/100000000005\" /><code value=\"medicine-name-code\" /><display value=\"Elocta\" /></valueCoding></extension></subject><entry><item><extension url=\"http://ema.europa.eu/fhir/extension/documentType\"><valueCoding><system value=\"http://spor.ema.europa.eu/v1/100000155531\" /><code value=\"100000155532\" /><display value=\"SmPC\" /></valueCoding></extension><extension url=\"http://ema.europa.eu/fhir/extension/language\"><valueCoding><system value=\"http://spor.ema.europa.eu/v1/100000072057\" /><code value=\"100000072147\" /><display value=\"en\" /></valueCoding></extension><reference value=\"Bundle/ad19dc26-2ff8-48ac-bd59-492098c58635\" /></item></entry><entry><item><extension url=\"http://ema.europa.eu/fhir/extension/documentType\"><valueCoding><system value=\"http://spor.ema.europa.eu/v1/100000155531\" /><code value=\"100000155533\" /><display value=\"AnnexII\" /></valueCoding></extension><extension url=\"http://ema.europa.eu/fhir/extension/language\"><valueCoding><system value=\"http://spor.ema.europa.eu/v1/100000072057\" /><code value=\"100000072147\" /><display value=\"en\" /></valueCoding></extension><reference value=\"Bundle/ba8e4303-e75c-4b7f-93ad-a95cd147cd95\" /></item></entry><entry><item><extension url=\"http://ema.europa.eu/fhir/extension/documentType\"><valueCoding><system value=\"http://spor.ema.europa.eu/v1/100000155531\" /><code value=\"100000155535\" /><display value=\"Labelling\" /></valueCoding></extension><extension url=\"http://ema.europa.eu/fhir/extension/language\"><valueCoding><system value=\"http://spor.ema.europa.eu/v1/100000072057\" /><code value=\"100000072147\" /><display value=\"en\" /></valueCoding></extension><reference value=\"Bundle/2a9d5bae-20fd-4a9c-b2c7-921238f996d2\" /></item></entry><entry><item><extension url=\"http://ema.europa.eu/fhir/extension/documentType\"><valueCoding><system value=\"http://spor.ema.europa.eu/v1/100000155531\" /><code value=\"100000155538\" /><display value=\"Package leaflet\" /></valueCoding></extension><extension url=\"http://ema.europa.eu/fhir/extension/language\"><valueCoding><system value=\"http://spor.ema.europa.eu/v1/100000072057\" /><code value=\"100000072147\" /><display value=\"en\" /></valueCoding></extension><reference value=\"Bundle/606ba5ac-9f7f-4bdd-8086-45f6f045f8bd\" /></item></entry><entry><item><extension url=\"http://ema.europa.eu/fhir/extension/documentType\"><valueCoding><system value=\"http://spor.ema.europa.eu/v1/100000155531\" /><code value=\"100000155532\" /><display value=\"SmPC\" /></valueCoding></extension><extension url=\"http://ema.europa.eu/fhir/extension/language\"><valueCoding><system value=\"http://spor.ema.europa.eu/v1/100000072057\" /><code value=\"100000072178\" /><display value=\"de\" /></valueCoding></extension><reference value=\"Bundle/e5a3ee9e-30a1-4e81-96b7-20ea1f0cb553\" /></item></entry><entry><item><extension url=\"http://ema.europa.eu/fhir/extension/documentType\"><valueCoding><system value=\"http://spor.ema.europa.eu/v1/100000155531\" /><code value=\"100000155533\" /><display value=\"ANHANG II\" /></valueCoding></extension><extension url=\"http://ema.europa.eu/fhir/extension/language\"><valueCoding><system value=\"http://spor.ema.europa.eu/v1/100000072057\" /><code value=\"100000072178\" /><display value=\"de\" /></valueCoding></extension><reference value=\"Bundle/f57010ec-b436-4c2b-aabc-d82e1134f8f8\" /></item></entry><entry><item><extension url=\"http://ema.europa.eu/fhir/extension/documentType\"><valueCoding><system value=\"http://spor.ema.europa.eu/v1/100000155531\" /><code value=\"100000155535\" /><display value=\"Etikettierung\" /></valueCoding></extension><extension url=\"http://ema.europa.eu/fhir/extension/language\"><valueCoding><system value=\"http://spor.ema.europa.eu/v1/100000072057\" /><code value=\"100000072178\" /><display value=\"de\" /></valueCoding></extension><reference value=\"Bundle/a628833d-6896-49a3-ac37-1219c0430566\" /></item></entry><entry><item><extension url=\"http://ema.europa.eu/fhir/extension/documentType\"><valueCoding><system value=\"http://spor.ema.europa.eu/v1/100000155531\" /><code value=\"100000155538\" /><display value=\"Packungsbeilage\" /></valueCoding></extension><extension url=\"http://ema.europa.eu/fhir/extension/language\"><valueCoding><system value=\"http://spor.ema.europa.eu/v1/100000072057\" /><code value=\"100000072178\" /><display value=\"de\" /></valueCoding></extension><reference value=\"Bundle/00147511-5d0b-4b89-b6cc-660d18b2f173\" /></item></entry><entry><item><extension url=\"http://ema.europa.eu/fhir/extension/documentType\"><valueCoding><system value=\"http://spor.ema.europa.eu/v1/100000155531\" /><code value=\"100000155532\" /><display value=\"SmPC\" /></valueCoding></extension><extension url=\"http://ema.europa.eu/fhir/extension/language\"><valueCoding><system value=\"http://spor.ema.europa.eu/v1/100000072057\" /><code value=\"100000072142\" /><display value=\"bg\" /></valueCoding></extension><reference value=\"Bundle/3ca82c72-b5d3-49b9-9bc9-f00d237f8803\" /></item></entry><entry><item><extension url=\"http://ema.europa.eu/fhir/extension/documentType\"><valueCoding><system value=\"http://spor.ema.europa.eu/v1/100000155531\" /><code value=\"100000155533\" /><display value=\"AnnexII\" /></valueCoding></extension><extension url=\"http://ema.europa.eu/fhir/extension/language\"><valueCoding><system value=\"http://spor.ema.europa.eu/v1/100000072057\" /><code value=\"100000072142\" /><display value=\"bg\" /></valueCoding></extension><reference value=\"Bundle/6a69a4a1-bb78-4696-83f9-5451be6fab61\" /></item></entry><entry><item><extension url=\"http://ema.europa.eu/fhir/extension/documentType\"><valueCoding><system value=\"http://spor.ema.europa.eu/v1/100000155531\" /><code value=\"100000155535\" /><display value=\"Labelling\" /></valueCoding></extension><extension url=\"http://ema.europa.eu/fhir/extension/language\"><valueCoding><system value=\"http://spor.ema.europa.eu/v1/100000072057\" /><code value=\"100000072142\" /><display value=\"bg\" /></valueCoding></extension><reference value=\"Bundle/aa07919a-76ee-4221-b369-714b5374473a\" /></item></entry><entry><item><extension url=\"http://ema.europa.eu/fhir/extension/documentType\"><valueCoding><system value=\"http://spor.ema.europa.eu/v1/100000155531\" /><code value=\"100000155538\" /><display value=\"Package leaflet\" /></valueCoding></extension><extension url=\"http://ema.europa.eu/fhir/extension/language\"><valueCoding><system value=\"http://spor.ema.europa.eu/v1/100000072057\" /><code value=\"100000072142\" /><display value=\"bg\" /></valueCoding></extension><reference value=\"Bundle/1bc35de5-d0ab-453a-bba5-8fc99b177ec2\" /></item></entry><entry><item><extension url=\"http://ema.europa.eu/fhir/extension/documentType\"><valueCoding><system value=\"http://spor.ema.europa.eu/v1/100000155531\" /><code value=\"100000155532\" /><display value=\"SmPC\" /></valueCoding></extension><extension url=\"http://ema.europa.eu/fhir/extension/language\"><valueCoding><system value=\"http://spor.ema.europa.eu/v1/100000072057\" /><code value=\"100000072168\" /><display value=\"da\" /></valueCoding></extension><reference value=\"Bundle/d3de3932-2769-40ba-81f2-58f21d7d1b48\" /></item></entry><entry><item><extension url=\"http://ema.europa.eu/fhir/extension/documentType\"><valueCoding><system value=\"http://spor.ema.europa.eu/v1/100000155531\" /><code value=\"100000155533\" /><display value=\"BILAG II\" /></valueCoding></extension><extension url=\"http://ema.europa.eu/fhir/extension/language\"><valueCoding><system value=\"http://spor.ema.europa.eu/v1/100000072057\" /><code value=\"100000072168\" /><display value=\"da\" /></valueCoding></extension><reference value=\"Bundle/5720f50a-c605-4ab0-a63d-36f17eaf89f1\" /></item></entry><entry><item><extension url=\"http://ema.europa.eu/fhir/extension/documentType\"><valueCoding><system value=\"http://spor.ema.europa.eu/v1/100000155531\" /><code value=\"100000155532\" /><display value=\"SmPC\" /></valueCoding></extension><extension url=\"http://ema.europa.eu/fhir/extension/language\"><valueCoding><system value=\"http://spor.ema.europa.eu/v1/100000072057\" /><code value=\"100000072264\" /><display value=\"es\" /></valueCoding></extension><reference value=\"Bundle/b628a402-8685-42e9-bdb6-2c3db00e1eaa\" /></item></entry><entry><item><extension url=\"http://ema.europa.eu/fhir/extension/documentType\"><valueCoding><system value=\"http://spor.ema.europa.eu/v1/100000155531\" /><code value=\"100000155533\" /><display value=\"AnnexII\" /></valueCoding></extension><extension url=\"http://ema.europa.eu/fhir/extension/language\"><valueCoding><system value=\"http://spor.ema.europa.eu/v1/100000072057\" /><code value=\"100000072264\" /><display value=\"es\" /></valueCoding></extension><reference value=\"Bundle/238b78d8-de4a-44be-91d2-573da1a60f40\" /></item></entry><entry><item><extension url=\"http://ema.europa.eu/fhir/extension/documentType\"><valueCoding><system value=\"http://spor.ema.europa.eu/v1/100000155531\" /><code value=\"100000155535\" /><display value=\"Labelling\" /></valueCoding></extension><extension url=\"http://ema.europa.eu/fhir/extension/language\"><valueCoding><system value=\"http://spor.ema.europa.eu/v1/100000072057\" /><code value=\"100000072264\" /><display value=\"es\" /></valueCoding></extension><reference value=\"Bundle/5ce4eccf-445b-4139-b82d-5ec1e7dcf182\" /></item></entry><entry><item><extension url=\"http://ema.europa.eu/fhir/extension/documentType\"><valueCoding><system value=\"http://spor.ema.europa.eu/v1/100000155531\" /><code value=\"100000155538\" /><display value=\"Package leaflet\" /></valueCoding></extension><extension url=\"http://ema.europa.eu/fhir/extension/language\"><valueCoding><system value=\"http://spor.ema.europa.eu/v1/100000072057\" /><code value=\"100000072264\" /><display value=\"es\" /></valueCoding></extension><reference value=\"Bundle/dc638c61-b24b-4ab7-a046-ce8c3cd00524\" /></item></entry><entry><item><extension url=\"http://ema.europa.eu/fhir/extension/documentType\"><valueCoding><system value=\"http://spor.ema.europa.eu/v1/100000155531\" /><code value=\"100000155532\" /><display value=\"SmPC\" /></valueCoding></extension><extension url=\"http://ema.europa.eu/fhir/extension/language\"><valueCoding><system value=\"http://spor.ema.europa.eu/v1/100000072057\" /><code value=\"100000072181\" /><display value=\"el\" /></valueCoding></extension><reference value=\"Bundle/b53846f0-bd96-4c6f-89cb-3b0c723d4416\" /></item></entry><entry><item><extension url=\"http://ema.europa.eu/fhir/extension/documentType\"><valueCoding><system value=\"http://spor.ema.europa.eu/v1/100000155531\" /><code value=\"100000155533\" /><display value=\"\\xce\\xa0\\xce\\x91\\xce\\xa1\\xce\\x91\\xce\\xa1\\xce\\xa4\\xce\\x97\\xce\\x9c\\xce\\x91 \\xce\\x99\\xce\\x99\" /></valueCoding></extension><extension url=\"http://ema.europa.eu/fhir/extension/language\"><valueCoding><system value=\"http://spor.ema.europa.eu/v1/100000072057\" /><code value=\"100000072181\" /><display value=\"el\" /></valueCoding></extension><reference value=\"Bundle/479cde40-8813-4579-a911-789061998f25\" /></item></entry><entry><item><extension url=\"http://ema.europa.eu/fhir/extension/documentType\"><valueCoding><system value=\"http://spor.ema.europa.eu/v1/100000155531\" /><code value=\"100000155535\" /><display value=\"\\xce\\x95\\xce\\xa0\\xce\\x99\\xce\\xa3\\xce\\x97\\xce\\x9c\\xce\\x91\\xce\\x9d\\xce\\xa3\\xce\\x97\" /></valueCoding></extension><extension url=\"http://ema.europa.eu/fhir/extension/language\"><valueCoding><system value=\"http://spor.ema.europa.eu/v1/100000072057\" /><code value=\"100000072181\" /><display value=\"el\" /></valueCoding></extension><reference value=\"Bundle/999ee3d4-273d-4c27-a307-c7804329a4a7\" /></item></entry><entry><item><extension url=\"http://ema.europa.eu/fhir/extension/documentType\"><valueCoding><system value=\"http://spor.ema.europa.eu/v1/100000155531\" /><code value=\"100000155538\" /><display value=\"\\xce\\xa6\\xce\\xa5\\xce\\x9b\\xce\\x9b\\xce\\x9f \\xce\\x9f\\xce\\x94\\xce\\x97\\xce\\x93\\xce\\x99\\xce\\xa9\\xce\\x9d \\xce\\xa7\\xce\\xa1\\xce\\x97\\xce\\xa3\\xce\\x97\\xce\\xa3\" /></valueCoding></extension><extension url=\"http://ema.europa.eu/fhir/extension/language\"><valueCoding><system value=\"http://spor.ema.europa.eu/v1/100000072057\" /><code value=\"100000072181\" /><display value=\"el\" /></valueCoding></extension><reference value=\"Bundle/05d46b5a-eac1-4de3-845e-618baa9aaa6b\" /></item></entry></List>'\n",
      "Updating\n"
     ]
    },
    {
     "name": "stderr",
     "output_type": "stream",
     "text": [
      "2021-06-19 00:35:33,307 : List Bundle Creation Logger_2_j : List update successfully completed 5829d349-155f-4f0a-ac97-6a29dd532996 | H | CAP |  el | 2 | Elocta_clean_ ΕΠΙΣΗΜΑΝΣΗ.json\n",
      "2021-06-19 00:35:33,307 : List Bundle Creation Logger_2_j : List update successfully completed 5829d349-155f-4f0a-ac97-6a29dd532996 | H | CAP |  el | 2 | Elocta_clean_ ΕΠΙΣΗΜΑΝΣΗ.json\n",
      "2021-06-19 00:35:33,307 : List Bundle Creation Logger_2_j : List update successfully completed 5829d349-155f-4f0a-ac97-6a29dd532996 | H | CAP |  el | 2 | Elocta_clean_ ΕΠΙΣΗΜΑΝΣΗ.json\n",
      "2021-06-19 00:35:33,313 : Flow Logger HTML_o : Completed list bundle update/addition | H | CAP |  el | HTML | Elocta_clean.htm\n",
      "2021-06-19 00:35:33,315 : Flow Logger HTML_o : 2: Update/Add List Bundle,0.2816 Min,0.494449 MB,0.65503 MB,53.7%\n",
      " | H | CAP |  el | HTML | Elocta_clean.htm\n",
      "2021-06-19 00:35:33,318 : Flow Logger HTML_o : \n",
      "\n",
      "\n",
      "\n",
      "||||||||||||||||||||||||||||||||3 ||||| Elocta_clean_ ΦΥΛΛΟ ΟΔΗΓΙΩΝ ΧΡΗΣΗΣ.json||||||||||||||||||||||||||||||||\n",
      "\n",
      "\n",
      "\n",
      " | H | CAP |  el | HTML | Elocta_clean.htm\n",
      "2021-06-19 00:35:33,326 : Heading Extraction Elocta_clean_ ΦΥΛΛΟ ΟΔΗΓΙΩΝ ΧΡΗΣΗΣ.json_k : Starting Heading Extraction | H | CAP |  el | 3 | Elocta_clean_ ΦΥΛΛΟ ΟΔΗΓΙΩΝ ΧΡΗΣΗΣ.json\n"
     ]
    },
    {
     "name": "stdout",
     "output_type": "stream",
     "text": [
      "Metrics : 2: Update/Add List Bundle,0.2816 Min,0.494449 MB,0.65503 MB,53.7%\n",
      "\n",
      "Index 3\n",
      "Starting Heading Extraction For File :- Elocta_clean_ ΦΥΛΛΟ ΟΔΗΓΙΩΝ ΧΡΗΣΗΣ.json\n",
      "File being processed: F:\\Projects\\EMA\\Repository\\EMA EPI PoC\\function_code\\work\\H\\CAP\\Elocta\\el\\2021-06-07T06-03-45Z\\partitionedJSONs\\Elocta_clean_ ΦΥΛΛΟ ΟΔΗΓΙΩΝ ΧΡΗΣΗΣ.json\n",
      "--------------------------------------------\n",
      "ΦΥΛΛΟ ΟΔΗΓΙΩΝ ΧΡΗΣΗΣ\n"
     ]
    },
    {
     "name": "stderr",
     "output_type": "stream",
     "text": [
      "2021-06-19 00:35:33,779 : Heading Extraction Elocta_clean_ ΦΥΛΛΟ ΟΔΗΓΙΩΝ ΧΡΗΣΗΣ.json_k : Started Extracting Heading | H | CAP |  el | 3 | Elocta_clean_ ΦΥΛΛΟ ΟΔΗΓΙΩΝ ΧΡΗΣΗΣ.json\n",
      "2021-06-19 00:35:33,800 : Heading Extraction Elocta_clean_ ΦΥΛΛΟ ΟΔΗΓΙΩΝ ΧΡΗΣΗΣ.json_k : Match Passed | H | CAP |  el | 3 | Elocta_clean_ ΦΥΛΛΟ ΟΔΗΓΙΩΝ ΧΡΗΣΗΣ.json | Doc txt :- 'B. ΦΥΛΛΟ ΟΔΗΓΙΩΝ ΧΡΗΣΗΣ' | Qrd txt :- 'B. ΦΥΛΛΟ ΟΔΗΓΙΩΝ ΧΡΗΣΗΣ' | Matched :- 'True'\n",
      "2021-06-19 00:35:33,807 : Heading Extraction Elocta_clean_ ΦΥΛΛΟ ΟΔΗΓΙΩΝ ΧΡΗΣΗΣ.json_k : Validation Passed As This The First Heading | H | CAP |  el | 3 | Elocta_clean_ ΦΥΛΛΟ ΟΔΗΓΙΩΝ ΧΡΗΣΗΣ.json | currHeadId :- '23001' | prevHeadingCurrId :- '' | prevHeadingFoundId :- ''\n",
      "2021-06-19 00:36:00,600 : Heading Extraction Elocta_clean_ ΦΥΛΛΟ ΟΔΗΓΙΩΝ ΧΡΗΣΗΣ.json_k : Match Passed : <=7|2.94|(99, 100, 100)|0.997| | H | CAP |  el | 3 | Elocta_clean_ ΦΥΛΛΟ ΟΔΗΓΙΩΝ ΧΡΗΣΗΣ.json | Doc txt :- 'Τι περιέχει το παρόν φύλλο οδηγιών' | Qrd txt :- 'Τι περιέχει το παρόν φύλλο οδηγιών:' | Matched :- 'True'\n",
      "2021-06-19 00:36:00,616 : Heading Extraction Elocta_clean_ ΦΥΛΛΟ ΟΔΗΓΙΩΝ ΧΡΗΣΗΣ.json_k : Validation Flow Is Broken | H | CAP |  el | 3 | Elocta_clean_ ΦΥΛΛΟ ΟΔΗΓΙΩΝ ΧΡΗΣΗΣ.json | currHeadId :- '23003' | prevHeadingCurrId :- '' | prevHeadingFoundId :- '23001'\n",
      "2021-06-19 00:36:00,624 : Heading Extraction Elocta_clean_ ΦΥΛΛΟ ΟΔΗΓΙΩΝ ΧΡΗΣΗΣ.json_k : Validation Passed | H | CAP |  el | 3 | Elocta_clean_ ΦΥΛΛΟ ΟΔΗΓΙΩΝ ΧΡΗΣΗΣ.json | currHeadId :- '23003' | prevHeadingCurrId :- '23001' | prevHeadingFoundId :- '23001'\n",
      "2021-06-19 00:36:00,876 : Heading Extraction Elocta_clean_ ΦΥΛΛΟ ΟΔΗΓΙΩΝ ΧΡΗΣΗΣ.json_k : Match Passed : checkLowerCase|2.13|(99, 98, 99)|0.934| | H | CAP |  el | 3 | Elocta_clean_ ΦΥΛΛΟ ΟΔΗΓΙΩΝ ΧΡΗΣΗΣ.json | Doc txt :- '1.τι είναι το elocta και ποια είναι η χρήση του' | Qrd txt :- '1. τι είναι το elocta και ποια είναι η χρήση του' | Matched :- 'True'\n",
      "2021-06-19 00:36:00,879 : Heading Extraction Elocta_clean_ ΦΥΛΛΟ ΟΔΗΓΙΩΝ ΧΡΗΣΗΣ.json_k : Match Passed In Lowercase  : checkLowerCase|2.13|(99, 98, 99)|0.934| | H | CAP |  el | 3 | Elocta_clean_ ΦΥΛΛΟ ΟΔΗΓΙΩΝ ΧΡΗΣΗΣ.json | Doc txt :- '1.Τι είναι το ELOCTA και ποια είναι η χρήση του' | Qrd txt :- '1. Τι είναι το Elocta και ποια είναι η χρήση του' | Matched :- 'True'\n",
      "2021-06-19 00:36:00,896 : Heading Extraction Elocta_clean_ ΦΥΛΛΟ ΟΔΗΓΙΩΝ ΧΡΗΣΗΣ.json_k : Validation Passed | H | CAP |  el | 3 | Elocta_clean_ ΦΥΛΛΟ ΟΔΗΓΙΩΝ ΧΡΗΣΗΣ.json | currHeadId :- '23004' | prevHeadingCurrId :- '23003' | prevHeadingFoundId :- '23003'\n",
      "2021-06-19 00:36:00,906 : Heading Extraction Elocta_clean_ ΦΥΛΛΟ ΟΔΗΓΙΩΝ ΧΡΗΣΗΣ.json_k : Validation Failed By Style | H | CAP |  el | 3 | Elocta_clean_ ΦΥΛΛΟ ΟΔΗΓΙΩΝ ΧΡΗΣΗΣ.json | currHeadId :- '23004' | prevHeadingCurrId :- '' | prevHeadingFoundId :- '23003'\n"
     ]
    },
    {
     "name": "stdout",
     "output_type": "stream",
     "text": [
      "\n",
      "OriginalCheck\n",
      "\n",
      "----------------------------------\n",
      "RemovedByStyle\n",
      "----------------------------------\n"
     ]
    },
    {
     "name": "stderr",
     "output_type": "stream",
     "text": [
      "2021-06-19 00:36:02,043 : Heading Extraction Elocta_clean_ ΦΥΛΛΟ ΟΔΗΓΙΩΝ ΧΡΗΣΗΣ.json_k : Match Passed : Contains<>|30.91|(82, 80, 95)|0.869| | H | CAP |  el | 3 | Elocta_clean_ ΦΥΛΛΟ ΟΔΗΓΙΩΝ ΧΡΗΣΗΣ.json | Doc txt :- '2.Τι πρέπει να γνωρίζετε πριν χρησιμοποιήσετε το ELOCTA' | Qrd txt :- '2. Τι πρέπει να γνωρίζετε πριν <πάρετε> <χρησιμοποιήσετε> το Elocta' | Matched :- 'True'\n",
      "2021-06-19 00:36:02,059 : Heading Extraction Elocta_clean_ ΦΥΛΛΟ ΟΔΗΓΙΩΝ ΧΡΗΣΗΣ.json_k : Validation Flow Is Broken | H | CAP |  el | 3 | Elocta_clean_ ΦΥΛΛΟ ΟΔΗΓΙΩΝ ΧΡΗΣΗΣ.json | currHeadId :- '23005' | prevHeadingCurrId :- '' | prevHeadingFoundId :- '23003'\n",
      "2021-06-19 00:36:02,067 : Heading Extraction Elocta_clean_ ΦΥΛΛΟ ΟΔΗΓΙΩΝ ΧΡΗΣΗΣ.json_k : Validation Passed | H | CAP |  el | 3 | Elocta_clean_ ΦΥΛΛΟ ΟΔΗΓΙΩΝ ΧΡΗΣΗΣ.json | currHeadId :- '23005' | prevHeadingCurrId :- '23003' | prevHeadingFoundId :- '23003'\n",
      "2021-06-19 00:36:02,077 : Heading Extraction Elocta_clean_ ΦΥΛΛΟ ΟΔΗΓΙΩΝ ΧΡΗΣΗΣ.json_k : Validation Failed By Style | H | CAP |  el | 3 | Elocta_clean_ ΦΥΛΛΟ ΟΔΗΓΙΩΝ ΧΡΗΣΗΣ.json | currHeadId :- '23005' | prevHeadingCurrId :- '' | prevHeadingFoundId :- '23003'\n"
     ]
    },
    {
     "name": "stdout",
     "output_type": "stream",
     "text": [
      "----------------------------------\n",
      "RemovedByStyle\n",
      "----------------------------------\n"
     ]
    },
    {
     "name": "stderr",
     "output_type": "stream",
     "text": [
      "2021-06-19 00:36:03,430 : Heading Extraction Elocta_clean_ ΦΥΛΛΟ ΟΔΗΓΙΩΝ ΧΡΗΣΗΣ.json_k : Match Passed : Contains<>|50.0|(72, 68, 95)|0.678| | H | CAP |  el | 3 | Elocta_clean_ ΦΥΛΛΟ ΟΔΗΓΙΩΝ ΧΡΗΣΗΣ.json | Doc txt :- '3.Πώς να χρησιμοποιήσετε το ELOCTA' | Qrd txt :- '3. Πώς να <πάρετε> <χρησιμοποιήσετε> το Elocta' | Matched :- 'True'\n",
      "2021-06-19 00:36:03,445 : Heading Extraction Elocta_clean_ ΦΥΛΛΟ ΟΔΗΓΙΩΝ ΧΡΗΣΗΣ.json_k : Validation Flow Is Broken | H | CAP |  el | 3 | Elocta_clean_ ΦΥΛΛΟ ΟΔΗΓΙΩΝ ΧΡΗΣΗΣ.json | currHeadId :- '23014' | prevHeadingCurrId :- '' | prevHeadingFoundId :- '23003'\n",
      "2021-06-19 00:36:03,456 : Heading Extraction Elocta_clean_ ΦΥΛΛΟ ΟΔΗΓΙΩΝ ΧΡΗΣΗΣ.json_k : Validation Passed | H | CAP |  el | 3 | Elocta_clean_ ΦΥΛΛΟ ΟΔΗΓΙΩΝ ΧΡΗΣΗΣ.json | currHeadId :- '23014' | prevHeadingCurrId :- '23003' | prevHeadingFoundId :- '23003'\n",
      "2021-06-19 00:36:03,474 : Heading Extraction Elocta_clean_ ΦΥΛΛΟ ΟΔΗΓΙΩΝ ΧΡΗΣΗΣ.json_k : Validation Failed By Style | H | CAP |  el | 3 | Elocta_clean_ ΦΥΛΛΟ ΟΔΗΓΙΩΝ ΧΡΗΣΗΣ.json | currHeadId :- '23014' | prevHeadingCurrId :- '' | prevHeadingFoundId :- '23003'\n"
     ]
    },
    {
     "name": "stdout",
     "output_type": "stream",
     "text": [
      "----------------------------------\n",
      "RemovedByStyle\n",
      "----------------------------------\n"
     ]
    },
    {
     "name": "stderr",
     "output_type": "stream",
     "text": [
      "2021-06-19 00:36:04,635 : Heading Extraction Elocta_clean_ ΦΥΛΛΟ ΟΔΗΓΙΩΝ ΧΡΗΣΗΣ.json_k : Match Passed : <=4|3.12|(98, 97, 98)|0.951| | H | CAP |  el | 3 | Elocta_clean_ ΦΥΛΛΟ ΟΔΗΓΙΩΝ ΧΡΗΣΗΣ.json | Doc txt :- '4.Πιθανές ανεπιθύμητες ενέργειες' | Qrd txt :- '4. Πιθανές ανεπιθύμητες ενέργειες' | Matched :- 'True'\n",
      "2021-06-19 00:36:04,651 : Heading Extraction Elocta_clean_ ΦΥΛΛΟ ΟΔΗΓΙΩΝ ΧΡΗΣΗΣ.json_k : Validation Flow Is Broken | H | CAP |  el | 3 | Elocta_clean_ ΦΥΛΛΟ ΟΔΗΓΙΩΝ ΧΡΗΣΗΣ.json | currHeadId :- '23019' | prevHeadingCurrId :- '' | prevHeadingFoundId :- '23003'\n",
      "2021-06-19 00:36:04,666 : Heading Extraction Elocta_clean_ ΦΥΛΛΟ ΟΔΗΓΙΩΝ ΧΡΗΣΗΣ.json_k : Validation Passed | H | CAP |  el | 3 | Elocta_clean_ ΦΥΛΛΟ ΟΔΗΓΙΩΝ ΧΡΗΣΗΣ.json | currHeadId :- '23019' | prevHeadingCurrId :- '23003' | prevHeadingFoundId :- '23003'\n",
      "2021-06-19 00:36:04,675 : Heading Extraction Elocta_clean_ ΦΥΛΛΟ ΟΔΗΓΙΩΝ ΧΡΗΣΗΣ.json_k : Validation Failed By Style | H | CAP |  el | 3 | Elocta_clean_ ΦΥΛΛΟ ΟΔΗΓΙΩΝ ΧΡΗΣΗΣ.json | currHeadId :- '23019' | prevHeadingCurrId :- '' | prevHeadingFoundId :- '23003'\n"
     ]
    },
    {
     "name": "stdout",
     "output_type": "stream",
     "text": [
      "----------------------------------\n",
      "RemovedByStyle\n",
      "----------------------------------\n"
     ]
    },
    {
     "name": "stderr",
     "output_type": "stream",
     "text": [
      "2021-06-19 00:36:05,548 : Heading Extraction Elocta_clean_ ΦΥΛΛΟ ΟΔΗΓΙΩΝ ΧΡΗΣΗΣ.json_k : Match Passed : checkLowerCase|3.57|(98, 96, 98)|0.948| | H | CAP |  el | 3 | Elocta_clean_ ΦΥΛΛΟ ΟΔΗΓΙΩΝ ΧΡΗΣΗΣ.json | Doc txt :- '5.πώς να φυλάσσετε το elocta' | Qrd txt :- '5. πώς να φυλάσσετε το elocta' | Matched :- 'True'\n",
      "2021-06-19 00:36:05,550 : Heading Extraction Elocta_clean_ ΦΥΛΛΟ ΟΔΗΓΙΩΝ ΧΡΗΣΗΣ.json_k : Match Passed In Lowercase  : checkLowerCase|3.57|(98, 96, 98)|0.948| | H | CAP |  el | 3 | Elocta_clean_ ΦΥΛΛΟ ΟΔΗΓΙΩΝ ΧΡΗΣΗΣ.json | Doc txt :- '5.Πώς να φυλάσσετε το ELOCTA' | Qrd txt :- '5. Πώς να φυλάσσετε το  Elocta' | Matched :- 'True'\n",
      "2021-06-19 00:36:05,566 : Heading Extraction Elocta_clean_ ΦΥΛΛΟ ΟΔΗΓΙΩΝ ΧΡΗΣΗΣ.json_k : Validation Flow Is Broken | H | CAP |  el | 3 | Elocta_clean_ ΦΥΛΛΟ ΟΔΗΓΙΩΝ ΧΡΗΣΗΣ.json | currHeadId :- '23022' | prevHeadingCurrId :- '' | prevHeadingFoundId :- '23003'\n",
      "2021-06-19 00:36:05,573 : Heading Extraction Elocta_clean_ ΦΥΛΛΟ ΟΔΗΓΙΩΝ ΧΡΗΣΗΣ.json_k : Validation Passed | H | CAP |  el | 3 | Elocta_clean_ ΦΥΛΛΟ ΟΔΗΓΙΩΝ ΧΡΗΣΗΣ.json | currHeadId :- '23022' | prevHeadingCurrId :- '23003' | prevHeadingFoundId :- '23003'\n",
      "2021-06-19 00:36:05,586 : Heading Extraction Elocta_clean_ ΦΥΛΛΟ ΟΔΗΓΙΩΝ ΧΡΗΣΗΣ.json_k : Validation Failed By Style | H | CAP |  el | 3 | Elocta_clean_ ΦΥΛΛΟ ΟΔΗΓΙΩΝ ΧΡΗΣΗΣ.json | currHeadId :- '23022' | prevHeadingCurrId :- '' | prevHeadingFoundId :- '23003'\n"
     ]
    },
    {
     "name": "stdout",
     "output_type": "stream",
     "text": [
      "\n",
      "OriginalCheck\n",
      "\n",
      "----------------------------------\n",
      "RemovedByStyle\n",
      "----------------------------------\n"
     ]
    },
    {
     "name": "stderr",
     "output_type": "stream",
     "text": [
      "2021-06-19 00:36:06,692 : Heading Extraction Elocta_clean_ ΦΥΛΛΟ ΟΔΗΓΙΩΝ ΧΡΗΣΗΣ.json_k : Match Passed : <=7|1.92|(99, 98, 99)|0.946| | H | CAP |  el | 3 | Elocta_clean_ ΦΥΛΛΟ ΟΔΗΓΙΩΝ ΧΡΗΣΗΣ.json | Doc txt :- '6.Περιεχόμενα της συσκευασίας και λοιπές πληροφορίες' | Qrd txt :- '6. Περιεχόμενα της συσκευασίας και λοιπές πληροφορίες' | Matched :- 'True'\n",
      "2021-06-19 00:36:06,704 : Heading Extraction Elocta_clean_ ΦΥΛΛΟ ΟΔΗΓΙΩΝ ΧΡΗΣΗΣ.json_k : Validation Flow Is Broken | H | CAP |  el | 3 | Elocta_clean_ ΦΥΛΛΟ ΟΔΗΓΙΩΝ ΧΡΗΣΗΣ.json | currHeadId :- '23023' | prevHeadingCurrId :- '' | prevHeadingFoundId :- '23003'\n",
      "2021-06-19 00:36:06,712 : Heading Extraction Elocta_clean_ ΦΥΛΛΟ ΟΔΗΓΙΩΝ ΧΡΗΣΗΣ.json_k : Validation Passed | H | CAP |  el | 3 | Elocta_clean_ ΦΥΛΛΟ ΟΔΗΓΙΩΝ ΧΡΗΣΗΣ.json | currHeadId :- '23023' | prevHeadingCurrId :- '23003' | prevHeadingFoundId :- '23003'\n",
      "2021-06-19 00:36:06,723 : Heading Extraction Elocta_clean_ ΦΥΛΛΟ ΟΔΗΓΙΩΝ ΧΡΗΣΗΣ.json_k : Validation Failed By Style | H | CAP |  el | 3 | Elocta_clean_ ΦΥΛΛΟ ΟΔΗΓΙΩΝ ΧΡΗΣΗΣ.json | currHeadId :- '23023' | prevHeadingCurrId :- '' | prevHeadingFoundId :- '23003'\n"
     ]
    },
    {
     "name": "stdout",
     "output_type": "stream",
     "text": [
      "----------------------------------\n",
      "RemovedByStyle\n",
      "----------------------------------\n"
     ]
    },
    {
     "name": "stderr",
     "output_type": "stream",
     "text": [
      "2021-06-19 00:36:07,266 : Heading Extraction Elocta_clean_ ΦΥΛΛΟ ΟΔΗΓΙΩΝ ΧΡΗΣΗΣ.json_k : Match Passed | H | CAP |  el | 3 | Elocta_clean_ ΦΥΛΛΟ ΟΔΗΓΙΩΝ ΧΡΗΣΗΣ.json | Doc txt :- '1. τι είναι το elocta και ποια είναι η χρήση του' | Qrd txt :- '1. τι είναι το elocta και ποια είναι η χρήση του' | Matched :- 'True'\n",
      "2021-06-19 00:36:07,268 : Heading Extraction Elocta_clean_ ΦΥΛΛΟ ΟΔΗΓΙΩΝ ΧΡΗΣΗΣ.json_k : Match Passed In Lowercase  :  | H | CAP |  el | 3 | Elocta_clean_ ΦΥΛΛΟ ΟΔΗΓΙΩΝ ΧΡΗΣΗΣ.json | Doc txt :- '1.       Τι είναι το ELOCTA και ποια είναι η χρήση του' | Qrd txt :- '1. Τι είναι το Elocta και ποια είναι η χρήση του' | Matched :- 'True'\n",
      "2021-06-19 00:36:07,285 : Heading Extraction Elocta_clean_ ΦΥΛΛΟ ΟΔΗΓΙΩΝ ΧΡΗΣΗΣ.json_k : Validation Passed | H | CAP |  el | 3 | Elocta_clean_ ΦΥΛΛΟ ΟΔΗΓΙΩΝ ΧΡΗΣΗΣ.json | currHeadId :- '23004' | prevHeadingCurrId :- '23003' | prevHeadingFoundId :- '23003'\n"
     ]
    },
    {
     "name": "stdout",
     "output_type": "stream",
     "text": [
      "\n",
      "OriginalCheck\n",
      "\n"
     ]
    },
    {
     "name": "stderr",
     "output_type": "stream",
     "text": [
      "2021-06-19 00:36:12,847 : Heading Extraction Elocta_clean_ ΦΥΛΛΟ ΟΔΗΓΙΩΝ ΧΡΗΣΗΣ.json_k : Match Passed | H | CAP |  el | 3 | Elocta_clean_ ΦΥΛΛΟ ΟΔΗΓΙΩΝ ΧΡΗΣΗΣ.json | Doc txt :- 'το elocta' | Qrd txt :- 'το elocta' | Matched :- 'True'\n",
      "2021-06-19 00:36:12,853 : Heading Extraction Elocta_clean_ ΦΥΛΛΟ ΟΔΗΓΙΩΝ ΧΡΗΣΗΣ.json_k : Match Passed In Lowercase  :  | H | CAP |  el | 3 | Elocta_clean_ ΦΥΛΛΟ ΟΔΗΓΙΩΝ ΧΡΗΣΗΣ.json | Doc txt :- 'Το ELOCTA παρασκευάζεται μέσω τεχνολογίας ανασυνδυασμού χωρίς την προσθήκη οποιωνδήποτε συστατικών ανθρώπινης ή ζωικής προέλευσης στη διαδικασία παραγωγής.' | Qrd txt :- 'Το Elocta περιέχει {όνομα(τα) εκδόχου(ων)}' | Matched :- 'True'\n",
      "2021-06-19 00:36:12,879 : Heading Extraction Elocta_clean_ ΦΥΛΛΟ ΟΔΗΓΙΩΝ ΧΡΗΣΗΣ.json_k : Validation Flow Is Broken | H | CAP |  el | 3 | Elocta_clean_ ΦΥΛΛΟ ΟΔΗΓΙΩΝ ΧΡΗΣΗΣ.json | currHeadId :- '23013' | prevHeadingCurrId :- '' | prevHeadingFoundId :- '23004'\n",
      "2021-06-19 00:36:12,895 : Heading Extraction Elocta_clean_ ΦΥΛΛΟ ΟΔΗΓΙΩΝ ΧΡΗΣΗΣ.json_k : Validation Passed | H | CAP |  el | 3 | Elocta_clean_ ΦΥΛΛΟ ΟΔΗΓΙΩΝ ΧΡΗΣΗΣ.json | currHeadId :- '23013' | prevHeadingCurrId :- '23004' | prevHeadingFoundId :- '23004'\n",
      "2021-06-19 00:36:12,908 : Heading Extraction Elocta_clean_ ΦΥΛΛΟ ΟΔΗΓΙΩΝ ΧΡΗΣΗΣ.json_k : Validation Failed By Style | H | CAP |  el | 3 | Elocta_clean_ ΦΥΛΛΟ ΟΔΗΓΙΩΝ ΧΡΗΣΗΣ.json | currHeadId :- '23013' | prevHeadingCurrId :- '' | prevHeadingFoundId :- '23004'\n"
     ]
    },
    {
     "name": "stdout",
     "output_type": "stream",
     "text": [
      "\n",
      "OriginalCheck\n",
      "\n",
      "----------------------------------\n",
      "RemovedByStyle\n",
      "----------------------------------\n"
     ]
    },
    {
     "name": "stderr",
     "output_type": "stream",
     "text": [
      "2021-06-19 00:36:18,464 : Heading Extraction Elocta_clean_ ΦΥΛΛΟ ΟΔΗΓΙΩΝ ΧΡΗΣΗΣ.json_k : Match Passed : Contains<>|28.57|(83, 82, 95)|0.941| | H | CAP |  el | 3 | Elocta_clean_ ΦΥΛΛΟ ΟΔΗΓΙΩΝ ΧΡΗΣΗΣ.json | Doc txt :- '2.       Τι πρέπει να γνωρίζετε πριν χρησιμοποιήσετε το ELOCTA' | Qrd txt :- '2. Τι πρέπει να γνωρίζετε πριν <πάρετε> <χρησιμοποιήσετε> το Elocta' | Matched :- 'True'\n",
      "2021-06-19 00:36:18,493 : Heading Extraction Elocta_clean_ ΦΥΛΛΟ ΟΔΗΓΙΩΝ ΧΡΗΣΗΣ.json_k : Validation Passed | H | CAP |  el | 3 | Elocta_clean_ ΦΥΛΛΟ ΟΔΗΓΙΩΝ ΧΡΗΣΗΣ.json | currHeadId :- '23005' | prevHeadingCurrId :- '23004' | prevHeadingFoundId :- '23004'\n",
      "2021-06-19 00:36:18,828 : Heading Extraction Elocta_clean_ ΦΥΛΛΟ ΟΔΗΓΙΩΝ ΧΡΗΣΗΣ.json_k : Match Passed : Contains<>|56.67|(69, 71, 95)|0.689| | H | CAP |  el | 3 | Elocta_clean_ ΦΥΛΛΟ ΟΔΗΓΙΩΝ ΧΡΗΣΗΣ.json | Doc txt :- 'Μην χρησιμοποιήσετε το ELOCTA:' | Qrd txt :- 'Μην <πάρετε> <χρησιμοποιήσετε> το Elocta' | Matched :- 'True'\n",
      "2021-06-19 00:36:18,855 : Heading Extraction Elocta_clean_ ΦΥΛΛΟ ΟΔΗΓΙΩΝ ΧΡΗΣΗΣ.json_k : Validation Passed | H | CAP |  el | 3 | Elocta_clean_ ΦΥΛΛΟ ΟΔΗΓΙΩΝ ΧΡΗΣΗΣ.json | currHeadId :- '23006' | prevHeadingCurrId :- '23005' | prevHeadingFoundId :- '23005'\n",
      "2021-06-19 00:36:23,188 : Heading Extraction Elocta_clean_ ΦΥΛΛΟ ΟΔΗΓΙΩΝ ΧΡΗΣΗΣ.json_k : Match Passed | H | CAP |  el | 3 | Elocta_clean_ ΦΥΛΛΟ ΟΔΗΓΙΩΝ ΧΡΗΣΗΣ.json | Doc txt :- 'Προειδοποιήσεις και προφυλάξεις' | Qrd txt :- 'Προειδοποιήσεις και προφυλάξεις' | Matched :- 'True'\n",
      "2021-06-19 00:36:23,207 : Heading Extraction Elocta_clean_ ΦΥΛΛΟ ΟΔΗΓΙΩΝ ΧΡΗΣΗΣ.json_k : Validation Passed | H | CAP |  el | 3 | Elocta_clean_ ΦΥΛΛΟ ΟΔΗΓΙΩΝ ΧΡΗΣΗΣ.json | currHeadId :- '23007' | prevHeadingCurrId :- '23006' | prevHeadingFoundId :- '23006'\n",
      "2021-06-19 00:36:33,218 : Heading Extraction Elocta_clean_ ΦΥΛΛΟ ΟΔΗΓΙΩΝ ΧΡΗΣΗΣ.json_k : Match Passed | H | CAP |  el | 3 | Elocta_clean_ ΦΥΛΛΟ ΟΔΗΓΙΩΝ ΧΡΗΣΗΣ.json | Doc txt :- 'άλλα φάρμακα και elocta' | Qrd txt :- 'άλλα φάρμακα και elocta' | Matched :- 'True'\n",
      "2021-06-19 00:36:33,220 : Heading Extraction Elocta_clean_ ΦΥΛΛΟ ΟΔΗΓΙΩΝ ΧΡΗΣΗΣ.json_k : Match Passed In Lowercase  :  | H | CAP |  el | 3 | Elocta_clean_ ΦΥΛΛΟ ΟΔΗΓΙΩΝ ΧΡΗΣΗΣ.json | Doc txt :- 'Άλλα φάρμακα και ELOCTA' | Qrd txt :- 'Άλλα φάρμακα και Elocta' | Matched :- 'True'\n",
      "2021-06-19 00:36:33,238 : Heading Extraction Elocta_clean_ ΦΥΛΛΟ ΟΔΗΓΙΩΝ ΧΡΗΣΗΣ.json_k : Validation Flow Is Broken | H | CAP |  el | 3 | Elocta_clean_ ΦΥΛΛΟ ΟΔΗΓΙΩΝ ΧΡΗΣΗΣ.json | currHeadId :- '23009' | prevHeadingCurrId :- '' | prevHeadingFoundId :- '23007'\n",
      "2021-06-19 00:36:33,251 : Heading Extraction Elocta_clean_ ΦΥΛΛΟ ΟΔΗΓΙΩΝ ΧΡΗΣΗΣ.json_k : Validation Passed | H | CAP |  el | 3 | Elocta_clean_ ΦΥΛΛΟ ΟΔΗΓΙΩΝ ΧΡΗΣΗΣ.json | currHeadId :- '23009' | prevHeadingCurrId :- '23007' | prevHeadingFoundId :- '23007'\n"
     ]
    },
    {
     "name": "stdout",
     "output_type": "stream",
     "text": [
      "\n",
      "OriginalCheck\n",
      "\n"
     ]
    },
    {
     "name": "stderr",
     "output_type": "stream",
     "text": [
      "2021-06-19 00:36:37,174 : Heading Extraction Elocta_clean_ ΦΥΛΛΟ ΟΔΗΓΙΩΝ ΧΡΗΣΗΣ.json_k : Match Passed : SpecialCase3|122.22|(62, 72, 86)|0.89| | H | CAP |  el | 3 | Elocta_clean_ ΦΥΛΛΟ ΟΔΗΓΙΩΝ ΧΡΗΣΗΣ.json | Doc txt :- 'Κύηση και θηλασμός' | Qrd txt :- 'Κύηση<,> <και> θηλασμός <και γονιμότητα>' | Matched :- 'True'\n",
      "2021-06-19 00:36:37,192 : Heading Extraction Elocta_clean_ ΦΥΛΛΟ ΟΔΗΓΙΩΝ ΧΡΗΣΗΣ.json_k : Validation Flow Is Broken | H | CAP |  el | 3 | Elocta_clean_ ΦΥΛΛΟ ΟΔΗΓΙΩΝ ΧΡΗΣΗΣ.json | currHeadId :- '23011' | prevHeadingCurrId :- '' | prevHeadingFoundId :- '23009'\n",
      "2021-06-19 00:36:37,206 : Heading Extraction Elocta_clean_ ΦΥΛΛΟ ΟΔΗΓΙΩΝ ΧΡΗΣΗΣ.json_k : Validation Passed | H | CAP |  el | 3 | Elocta_clean_ ΦΥΛΛΟ ΟΔΗΓΙΩΝ ΧΡΗΣΗΣ.json | currHeadId :- '23011' | prevHeadingCurrId :- '23009' | prevHeadingFoundId :- '23009'\n",
      "2021-06-19 00:36:45,958 : Heading Extraction Elocta_clean_ ΦΥΛΛΟ ΟΔΗΓΙΩΝ ΧΡΗΣΗΣ.json_k : Match Passed | H | CAP |  el | 3 | Elocta_clean_ ΦΥΛΛΟ ΟΔΗΓΙΩΝ ΧΡΗΣΗΣ.json | Doc txt :- 'Οδήγηση και χειρισμός μηχανημάτων' | Qrd txt :- 'Οδήγηση και χειρισμός μηχανημάτων' | Matched :- 'True'\n",
      "2021-06-19 00:36:45,999 : Heading Extraction Elocta_clean_ ΦΥΛΛΟ ΟΔΗΓΙΩΝ ΧΡΗΣΗΣ.json_k : Validation Passed | H | CAP |  el | 3 | Elocta_clean_ ΦΥΛΛΟ ΟΔΗΓΙΩΝ ΧΡΗΣΗΣ.json | currHeadId :- '23012' | prevHeadingCurrId :- '23011' | prevHeadingFoundId :- '23011'\n",
      "2021-06-19 00:36:49,328 : Heading Extraction Elocta_clean_ ΦΥΛΛΟ ΟΔΗΓΙΩΝ ΧΡΗΣΗΣ.json_k : Match Passed | H | CAP |  el | 3 | Elocta_clean_ ΦΥΛΛΟ ΟΔΗΓΙΩΝ ΧΡΗΣΗΣ.json | Doc txt :- 'το elocta' | Qrd txt :- 'το elocta' | Matched :- 'True'\n",
      "2021-06-19 00:36:49,331 : Heading Extraction Elocta_clean_ ΦΥΛΛΟ ΟΔΗΓΙΩΝ ΧΡΗΣΗΣ.json_k : Match Passed In Lowercase  :  | H | CAP |  el | 3 | Elocta_clean_ ΦΥΛΛΟ ΟΔΗΓΙΩΝ ΧΡΗΣΗΣ.json | Doc txt :- 'Το ELOCTA περιέχει νάτριο' | Qrd txt :- 'Το Elocta περιέχει {όνομα(τα) εκδόχου(ων)}' | Matched :- 'True'\n",
      "2021-06-19 00:36:49,348 : Heading Extraction Elocta_clean_ ΦΥΛΛΟ ΟΔΗΓΙΩΝ ΧΡΗΣΗΣ.json_k : Validation Passed | H | CAP |  el | 3 | Elocta_clean_ ΦΥΛΛΟ ΟΔΗΓΙΩΝ ΧΡΗΣΗΣ.json | currHeadId :- '23013' | prevHeadingCurrId :- '23012' | prevHeadingFoundId :- '23012'\n"
     ]
    },
    {
     "name": "stdout",
     "output_type": "stream",
     "text": [
      "\n",
      "OriginalCheck\n",
      "\n"
     ]
    },
    {
     "name": "stderr",
     "output_type": "stream",
     "text": [
      "2021-06-19 00:37:10,008 : Heading Extraction Elocta_clean_ ΦΥΛΛΟ ΟΔΗΓΙΩΝ ΧΡΗΣΗΣ.json_k : Match Passed : Contains<>|45.71|(74, 71, 95)|0.899| | H | CAP |  el | 3 | Elocta_clean_ ΦΥΛΛΟ ΟΔΗΓΙΩΝ ΧΡΗΣΗΣ.json | Doc txt :- '3.       Πώς να χρησιμοποιήσετε το ELOCTA' | Qrd txt :- '3. Πώς να <πάρετε> <χρησιμοποιήσετε> το Elocta' | Matched :- 'True'\n",
      "2021-06-19 00:37:10,048 : Heading Extraction Elocta_clean_ ΦΥΛΛΟ ΟΔΗΓΙΩΝ ΧΡΗΣΗΣ.json_k : Validation Passed | H | CAP |  el | 3 | Elocta_clean_ ΦΥΛΛΟ ΟΔΗΓΙΩΝ ΧΡΗΣΗΣ.json | currHeadId :- '23014' | prevHeadingCurrId :- '23013' | prevHeadingFoundId :- '23013'\n",
      "2021-06-19 00:37:36,783 : Heading Extraction Elocta_clean_ ΦΥΛΛΟ ΟΔΗΓΙΩΝ ΧΡΗΣΗΣ.json_k : Match Passed : Contains<>|11.11|(95, 93, 96)|0.989| | H | CAP |  el | 3 | Elocta_clean_ ΦΥΛΛΟ ΟΔΗΓΙΩΝ ΧΡΗΣΗΣ.json | Doc txt :- 'Χρήση σε παιδιά και εφήβους' | Qrd txt :- 'Χρήση σε παιδιά> <και εφήβους>' | Matched :- 'True'\n",
      "2021-06-19 00:37:36,812 : Heading Extraction Elocta_clean_ ΦΥΛΛΟ ΟΔΗΓΙΩΝ ΧΡΗΣΗΣ.json_k : Validation Passed | H | CAP |  el | 3 | Elocta_clean_ ΦΥΛΛΟ ΟΔΗΓΙΩΝ ΧΡΗΣΗΣ.json | currHeadId :- '23015' | prevHeadingCurrId :- '23014' | prevHeadingFoundId :- '23014'\n",
      "2021-06-19 00:37:40,228 : Heading Extraction Elocta_clean_ ΦΥΛΛΟ ΟΔΗΓΙΩΝ ΧΡΗΣΗΣ.json_k : Match Passed | H | CAP |  el | 3 | Elocta_clean_ ΦΥΛΛΟ ΟΔΗΓΙΩΝ ΧΡΗΣΗΣ.json | Doc txt :- 'το elocta' | Qrd txt :- 'το elocta' | Matched :- 'True'\n",
      "2021-06-19 00:37:40,234 : Heading Extraction Elocta_clean_ ΦΥΛΛΟ ΟΔΗΓΙΩΝ ΧΡΗΣΗΣ.json_k : Match Passed In Lowercase  :  | H | CAP |  el | 3 | Elocta_clean_ ΦΥΛΛΟ ΟΔΗΓΙΩΝ ΧΡΗΣΗΣ.json | Doc txt :- 'Το ELOCTA μπορεί να χρησιμοποιηθεί σε παιδιά και εφήβους όλων των ηλικιών. Στα παιδιά ηλικίας κάτω των 12 ετών, μπορεί να απαιτούνται υψηλότερες δόσεις ή συχνότερες ενέσεις.' | Qrd txt :- 'Το Elocta περιέχει {όνομα(τα) εκδόχου(ων)}' | Matched :- 'True'\n",
      "2021-06-19 00:37:40,272 : Heading Extraction Elocta_clean_ ΦΥΛΛΟ ΟΔΗΓΙΩΝ ΧΡΗΣΗΣ.json_k : Validation Failed As Previous Heading Found is not matching | H | CAP |  el | 3 | Elocta_clean_ ΦΥΛΛΟ ΟΔΗΓΙΩΝ ΧΡΗΣΗΣ.json | currHeadId :- '23013' | prevHeadingCurrId :- '23012' | prevHeadingFoundId :- '23015'\n"
     ]
    },
    {
     "name": "stdout",
     "output_type": "stream",
     "text": [
      "\n",
      "OriginalCheck\n",
      "\n"
     ]
    },
    {
     "name": "stderr",
     "output_type": "stream",
     "text": [
      "2021-06-19 00:37:44,724 : Heading Extraction Elocta_clean_ ΦΥΛΛΟ ΟΔΗΓΙΩΝ ΧΡΗΣΗΣ.json_k : Match Passed : Contains<>|27.12|(84, 86, 95)|0.918| | H | CAP |  el | 3 | Elocta_clean_ ΦΥΛΛΟ ΟΔΗΓΙΩΝ ΧΡΗΣΗΣ.json | Doc txt :- 'Εάν χρησιμοποιήσετε μεγαλύτερη δόση ELOCTA από την κανονική' | Qrd txt :- 'Εάν <πάρετε> <χρησιμοποιήσετε> μεγαλύτερη δόση Elocta από την κανονική' | Matched :- 'True'\n",
      "2021-06-19 00:37:44,746 : Heading Extraction Elocta_clean_ ΦΥΛΛΟ ΟΔΗΓΙΩΝ ΧΡΗΣΗΣ.json_k : Validation Passed | H | CAP |  el | 3 | Elocta_clean_ ΦΥΛΛΟ ΟΔΗΓΙΩΝ ΧΡΗΣΗΣ.json | currHeadId :- '23016' | prevHeadingCurrId :- '23015' | prevHeadingFoundId :- '23015'\n",
      "2021-06-19 00:37:51,551 : Heading Extraction Elocta_clean_ ΦΥΛΛΟ ΟΔΗΓΙΩΝ ΧΡΗΣΗΣ.json_k : Match Passed : Contains<>|39.02|(67, 68, 81)|0.667| | H | CAP |  el | 3 | Elocta_clean_ ΦΥΛΛΟ ΟΔΗΓΙΩΝ ΧΡΗΣΗΣ.json | Doc txt :- 'Εάν ξεχάσετε να χρησιμοποιήσετε το ELOCTA' | Qrd txt :- 'Μην <πάρετε> <χρησιμοποιήσετε> το Elocta' | Matched :- 'True'\n",
      "2021-06-19 00:37:51,572 : Heading Extraction Elocta_clean_ ΦΥΛΛΟ ΟΔΗΓΙΩΝ ΧΡΗΣΗΣ.json_k : Validation Failed As Previous Heading Found is not matching | H | CAP |  el | 3 | Elocta_clean_ ΦΥΛΛΟ ΟΔΗΓΙΩΝ ΧΡΗΣΗΣ.json | currHeadId :- '23006' | prevHeadingCurrId :- '23005' | prevHeadingFoundId :- '23016'\n",
      "2021-06-19 00:37:51,973 : Heading Extraction Elocta_clean_ ΦΥΛΛΟ ΟΔΗΓΙΩΝ ΧΡΗΣΗΣ.json_k : Match Passed : Contains<>|39.02|(77, 76, 95)|0.916| | H | CAP |  el | 3 | Elocta_clean_ ΦΥΛΛΟ ΟΔΗΓΙΩΝ ΧΡΗΣΗΣ.json | Doc txt :- 'Εάν ξεχάσετε να χρησιμοποιήσετε το ELOCTA' | Qrd txt :- 'Εάν ξεχάσετε να <πάρετε> <χρησιμοποιήσετε> το Elocta' | Matched :- 'True'\n",
      "2021-06-19 00:37:51,999 : Heading Extraction Elocta_clean_ ΦΥΛΛΟ ΟΔΗΓΙΩΝ ΧΡΗΣΗΣ.json_k : Validation Passed | H | CAP |  el | 3 | Elocta_clean_ ΦΥΛΛΟ ΟΔΗΓΙΩΝ ΧΡΗΣΗΣ.json | currHeadId :- '23017' | prevHeadingCurrId :- '23016' | prevHeadingFoundId :- '23016'\n",
      "2021-06-19 00:37:56,706 : Heading Extraction Elocta_clean_ ΦΥΛΛΟ ΟΔΗΓΙΩΝ ΧΡΗΣΗΣ.json_k : Match Passed : Contains<>|60.47|(63, 63, 75)|0.651| | H | CAP |  el | 3 | Elocta_clean_ ΦΥΛΛΟ ΟΔΗΓΙΩΝ ΧΡΗΣΗΣ.json | Doc txt :- 'Εάν σταματήσετε να χρησιμοποιείτε το ELOCTA' | Qrd txt :- 'Εάν ξεχάσετε να <πάρετε> <χρησιμοποιήσετε> το Elocta' | Matched :- 'True'\n",
      "2021-06-19 00:37:56,715 : Heading Extraction Elocta_clean_ ΦΥΛΛΟ ΟΔΗΓΙΩΝ ΧΡΗΣΗΣ.json_k : Validation Passed As Previous Heading Same As Current | H | CAP |  el | 3 | Elocta_clean_ ΦΥΛΛΟ ΟΔΗΓΙΩΝ ΧΡΗΣΗΣ.json | currHeadId :- '23017' | prevHeadingCurrId :- '' | prevHeadingFoundId :- '23017'\n",
      "2021-06-19 00:38:03,547 : Heading Extraction Elocta_clean_ ΦΥΛΛΟ ΟΔΗΓΙΩΝ ΧΡΗΣΗΣ.json_k : Match Passed | H | CAP |  el | 3 | Elocta_clean_ ΦΥΛΛΟ ΟΔΗΓΙΩΝ ΧΡΗΣΗΣ.json | Doc txt :- '4. Πιθανές ανεπιθύμητες ενέργειες' | Qrd txt :- '4. Πιθανές ανεπιθύμητες ενέργειες' | Matched :- 'True'\n",
      "2021-06-19 00:38:03,560 : Heading Extraction Elocta_clean_ ΦΥΛΛΟ ΟΔΗΓΙΩΝ ΧΡΗΣΗΣ.json_k : Validation Flow Is Broken | H | CAP |  el | 3 | Elocta_clean_ ΦΥΛΛΟ ΟΔΗΓΙΩΝ ΧΡΗΣΗΣ.json | currHeadId :- '23019' | prevHeadingCurrId :- '' | prevHeadingFoundId :- '23017'\n",
      "2021-06-19 00:38:03,569 : Heading Extraction Elocta_clean_ ΦΥΛΛΟ ΟΔΗΓΙΩΝ ΧΡΗΣΗΣ.json_k : Validation Passed | H | CAP |  el | 3 | Elocta_clean_ ΦΥΛΛΟ ΟΔΗΓΙΩΝ ΧΡΗΣΗΣ.json | currHeadId :- '23019' | prevHeadingCurrId :- '23017' | prevHeadingFoundId :- '23017'\n",
      "2021-06-19 00:38:09,252 : Heading Extraction Elocta_clean_ ΦΥΛΛΟ ΟΔΗΓΙΩΝ ΧΡΗΣΗΣ.json_k : Match Passed | H | CAP |  el | 3 | Elocta_clean_ ΦΥΛΛΟ ΟΔΗΓΙΩΝ ΧΡΗΣΗΣ.json | Doc txt :- 'Αναφορά ανεπιθύμητων ενεργειών' | Qrd txt :- 'Αναφορά ανεπιθύμητων ενεργειών' | Matched :- 'True'\n",
      "2021-06-19 00:38:09,265 : Heading Extraction Elocta_clean_ ΦΥΛΛΟ ΟΔΗΓΙΩΝ ΧΡΗΣΗΣ.json_k : Validation Flow Is Broken | H | CAP |  el | 3 | Elocta_clean_ ΦΥΛΛΟ ΟΔΗΓΙΩΝ ΧΡΗΣΗΣ.json | currHeadId :- '23021' | prevHeadingCurrId :- '' | prevHeadingFoundId :- '23019'\n",
      "2021-06-19 00:38:09,273 : Heading Extraction Elocta_clean_ ΦΥΛΛΟ ΟΔΗΓΙΩΝ ΧΡΗΣΗΣ.json_k : Validation Passed | H | CAP |  el | 3 | Elocta_clean_ ΦΥΛΛΟ ΟΔΗΓΙΩΝ ΧΡΗΣΗΣ.json | currHeadId :- '23021' | prevHeadingCurrId :- '23019' | prevHeadingFoundId :- '23019'\n",
      "2021-06-19 00:38:09,689 : Heading Extraction Elocta_clean_ ΦΥΛΛΟ ΟΔΗΓΙΩΝ ΧΡΗΣΗΣ.json_k : Match Passed | H | CAP |  el | 3 | Elocta_clean_ ΦΥΛΛΟ ΟΔΗΓΙΩΝ ΧΡΗΣΗΣ.json | Doc txt :- '5. πώς να φυλάσσετε το elocta' | Qrd txt :- '5. πώς να φυλάσσετε το elocta' | Matched :- 'True'\n",
      "2021-06-19 00:38:09,691 : Heading Extraction Elocta_clean_ ΦΥΛΛΟ ΟΔΗΓΙΩΝ ΧΡΗΣΗΣ.json_k : Match Passed In Lowercase  :  | H | CAP |  el | 3 | Elocta_clean_ ΦΥΛΛΟ ΟΔΗΓΙΩΝ ΧΡΗΣΗΣ.json | Doc txt :- '5.       Πώς να φυλάσσετε το ELOCTA' | Qrd txt :- '5. Πώς να φυλάσσετε το  Elocta' | Matched :- 'True'\n",
      "2021-06-19 00:38:09,705 : Heading Extraction Elocta_clean_ ΦΥΛΛΟ ΟΔΗΓΙΩΝ ΧΡΗΣΗΣ.json_k : Validation Passed | H | CAP |  el | 3 | Elocta_clean_ ΦΥΛΛΟ ΟΔΗΓΙΩΝ ΧΡΗΣΗΣ.json | currHeadId :- '23022' | prevHeadingCurrId :- '23021' | prevHeadingFoundId :- '23021'\n"
     ]
    },
    {
     "name": "stdout",
     "output_type": "stream",
     "text": [
      "\n",
      "OriginalCheck\n",
      "\n"
     ]
    },
    {
     "name": "stderr",
     "output_type": "stream",
     "text": [
      "2021-06-19 00:38:19,367 : Heading Extraction Elocta_clean_ ΦΥΛΛΟ ΟΔΗΓΙΩΝ ΧΡΗΣΗΣ.json_k : Match Passed | H | CAP |  el | 3 | Elocta_clean_ ΦΥΛΛΟ ΟΔΗΓΙΩΝ ΧΡΗΣΗΣ.json | Doc txt :- '6. Περιεχόμενα της συσκευασίας και λοιπές πληροφορίες' | Qrd txt :- '6. Περιεχόμενα της συσκευασίας και λοιπές πληροφορίες' | Matched :- 'True'\n",
      "2021-06-19 00:38:19,387 : Heading Extraction Elocta_clean_ ΦΥΛΛΟ ΟΔΗΓΙΩΝ ΧΡΗΣΗΣ.json_k : Validation Passed | H | CAP |  el | 3 | Elocta_clean_ ΦΥΛΛΟ ΟΔΗΓΙΩΝ ΧΡΗΣΗΣ.json | currHeadId :- '23023' | prevHeadingCurrId :- '23022' | prevHeadingFoundId :- '23022'\n",
      "2021-06-19 00:38:19,901 : Heading Extraction Elocta_clean_ ΦΥΛΛΟ ΟΔΗΓΙΩΝ ΧΡΗΣΗΣ.json_k : Match Passed | H | CAP |  el | 3 | Elocta_clean_ ΦΥΛΛΟ ΟΔΗΓΙΩΝ ΧΡΗΣΗΣ.json | Doc txt :- 'τι περιέχει το elocta' | Qrd txt :- 'τι περιέχει το elocta' | Matched :- 'True'\n",
      "2021-06-19 00:38:19,905 : Heading Extraction Elocta_clean_ ΦΥΛΛΟ ΟΔΗΓΙΩΝ ΧΡΗΣΗΣ.json_k : Match Passed In Lowercase  :  | H | CAP |  el | 3 | Elocta_clean_ ΦΥΛΛΟ ΟΔΗΓΙΩΝ ΧΡΗΣΗΣ.json | Doc txt :- 'Τι περιέχει το ELOCTA' | Qrd txt :- 'Τι περιέχει το Elocta' | Matched :- 'True'\n",
      "2021-06-19 00:38:19,922 : Heading Extraction Elocta_clean_ ΦΥΛΛΟ ΟΔΗΓΙΩΝ ΧΡΗΣΗΣ.json_k : Validation Passed | H | CAP |  el | 3 | Elocta_clean_ ΦΥΛΛΟ ΟΔΗΓΙΩΝ ΧΡΗΣΗΣ.json | currHeadId :- '23024' | prevHeadingCurrId :- '23023' | prevHeadingFoundId :- '23023'\n"
     ]
    },
    {
     "name": "stdout",
     "output_type": "stream",
     "text": [
      "\n",
      "OriginalCheck\n",
      "\n"
     ]
    },
    {
     "name": "stderr",
     "output_type": "stream",
     "text": [
      "2021-06-19 00:38:31,428 : Heading Extraction Elocta_clean_ ΦΥΛΛΟ ΟΔΗΓΙΩΝ ΧΡΗΣΗΣ.json_k : Match Passed : <=7|9.8|(90, 90, 100)|0.978| | H | CAP |  el | 3 | Elocta_clean_ ΦΥΛΛΟ ΟΔΗΓΙΩΝ ΧΡΗΣΗΣ.json | Doc txt :- 'Εμφάνιση του ELOCTA και περιεχόμενα της συσκευασίας' | Qrd txt :- 'Εμφάνιση του Elocta και περιεχόμενα της συσκευασίας' | Matched :- 'True'\n",
      "2021-06-19 00:38:31,460 : Heading Extraction Elocta_clean_ ΦΥΛΛΟ ΟΔΗΓΙΩΝ ΧΡΗΣΗΣ.json_k : Validation Passed | H | CAP |  el | 3 | Elocta_clean_ ΦΥΛΛΟ ΟΔΗΓΙΩΝ ΧΡΗΣΗΣ.json | currHeadId :- '23025' | prevHeadingCurrId :- '23024' | prevHeadingFoundId :- '23024'\n",
      "2021-06-19 00:38:41,358 : Heading Extraction Elocta_clean_ ΦΥΛΛΟ ΟΔΗΓΙΩΝ ΧΡΗΣΗΣ.json_k : Match Passed : Contains<>|4.55|(98, 98, 99)|0.995| | H | CAP |  el | 3 | Elocta_clean_ ΦΥΛΛΟ ΟΔΗΓΙΩΝ ΧΡΗΣΗΣ.json | Doc txt :- 'Κάτοχος Άδειας Κυκλοφορίας και Παρασκευαστής' | Qrd txt :- 'Κάτοχος Άδειας Κυκλοφορίας <και Παρασκευαστής>' | Matched :- 'True'\n",
      "2021-06-19 00:38:41,410 : Heading Extraction Elocta_clean_ ΦΥΛΛΟ ΟΔΗΓΙΩΝ ΧΡΗΣΗΣ.json_k : Validation Passed | H | CAP |  el | 3 | Elocta_clean_ ΦΥΛΛΟ ΟΔΗΓΙΩΝ ΧΡΗΣΗΣ.json | currHeadId :- '23026' | prevHeadingCurrId :- '23025' | prevHeadingFoundId :- '23025'\n",
      "2021-06-19 00:38:46,355 : Heading Extraction Elocta_clean_ ΦΥΛΛΟ ΟΔΗΓΙΩΝ ΧΡΗΣΗΣ.json_k : Match Passed : SpecialCase1|42.42|(82, 100, 95)|0.964| | H | CAP |  el | 3 | Elocta_clean_ ΦΥΛΛΟ ΟΔΗΓΙΩΝ ΧΡΗΣΗΣ.json | Doc txt :- 'Το παρόν φύλλο οδηγιών χρήσης αναθεωρήθηκε για τελευταία φορά στις ' | Qrd txt :- 'Το παρόν φύλλο οδηγιών χρήσης αναθεωρήθηκε για τελευταία φορά στις <{ΜΜ/ΕΕΕΕ}> <{μήνας ΕΕΕΕ}.>' | Matched :- 'True'\n",
      "2021-06-19 00:38:46,381 : Heading Extraction Elocta_clean_ ΦΥΛΛΟ ΟΔΗΓΙΩΝ ΧΡΗΣΗΣ.json_k : Validation Flow Is Broken | H | CAP |  el | 3 | Elocta_clean_ ΦΥΛΛΟ ΟΔΗΓΙΩΝ ΧΡΗΣΗΣ.json | currHeadId :- '23028' | prevHeadingCurrId :- '' | prevHeadingFoundId :- '23026'\n",
      "2021-06-19 00:38:46,393 : Heading Extraction Elocta_clean_ ΦΥΛΛΟ ΟΔΗΓΙΩΝ ΧΡΗΣΗΣ.json_k : Validation Passed | H | CAP |  el | 3 | Elocta_clean_ ΦΥΛΛΟ ΟΔΗΓΙΩΝ ΧΡΗΣΗΣ.json | currHeadId :- '23028' | prevHeadingCurrId :- '23026' | prevHeadingFoundId :- '23026'\n",
      "2021-06-19 00:38:53,895 : Heading Extraction Elocta_clean_ ΦΥΛΛΟ ΟΔΗΓΙΩΝ ΧΡΗΣΗΣ.json_k : Match Passed | H | CAP |  el | 3 | Elocta_clean_ ΦΥΛΛΟ ΟΔΗΓΙΩΝ ΧΡΗΣΗΣ.json | Doc txt :- 'το elocta' | Qrd txt :- 'το elocta' | Matched :- 'True'\n",
      "2021-06-19 00:38:53,898 : Heading Extraction Elocta_clean_ ΦΥΛΛΟ ΟΔΗΓΙΩΝ ΧΡΗΣΗΣ.json_k : Match Passed In Lowercase  :  | H | CAP |  el | 3 | Elocta_clean_ ΦΥΛΛΟ ΟΔΗΓΙΩΝ ΧΡΗΣΗΣ.json | Doc txt :- 'Το ELOCTA χορηγείται μέσω ενδοφλέβιας (IV) ένεσης μετά τη διάλυση της κόνεως για ενέσιμο με το διαλύτη που παρέχεται στην προγεμισμένη σύριγγα. Η κάθε συσκευασία του ELOCTA περιέχει:' | Qrd txt :- 'Το Elocta περιέχει {όνομα(τα) εκδόχου(ων)}' | Matched :- 'True'\n",
      "2021-06-19 00:38:53,908 : Heading Extraction Elocta_clean_ ΦΥΛΛΟ ΟΔΗΓΙΩΝ ΧΡΗΣΗΣ.json_k : Validation Failed As Previous Heading Found is not matching | H | CAP |  el | 3 | Elocta_clean_ ΦΥΛΛΟ ΟΔΗΓΙΩΝ ΧΡΗΣΗΣ.json | currHeadId :- '23013' | prevHeadingCurrId :- '23012' | prevHeadingFoundId :- '23028'\n"
     ]
    },
    {
     "name": "stdout",
     "output_type": "stream",
     "text": [
      "\n",
      "OriginalCheck\n",
      "\n"
     ]
    },
    {
     "name": "stderr",
     "output_type": "stream",
     "text": [
      "2021-06-19 00:38:56,814 : Heading Extraction Elocta_clean_ ΦΥΛΛΟ ΟΔΗΓΙΩΝ ΧΡΗΣΗΣ.json_k : Match Passed | H | CAP |  el | 3 | Elocta_clean_ ΦΥΛΛΟ ΟΔΗΓΙΩΝ ΧΡΗΣΗΣ.json | Doc txt :- 'το elocta' | Qrd txt :- 'το elocta' | Matched :- 'True'\n",
      "2021-06-19 00:38:56,818 : Heading Extraction Elocta_clean_ ΦΥΛΛΟ ΟΔΗΓΙΩΝ ΧΡΗΣΗΣ.json_k : Match Passed In Lowercase  :  | H | CAP |  el | 3 | Elocta_clean_ ΦΥΛΛΟ ΟΔΗΓΙΩΝ ΧΡΗΣΗΣ.json | Doc txt :- 'Το ELOCTA δεν πρέπει να αναμειγνύεται με άλλα ενέσιμα διαλύματα ή διαλύματα προς έγχυση.' | Qrd txt :- 'Το Elocta περιέχει {όνομα(τα) εκδόχου(ων)}' | Matched :- 'True'\n",
      "2021-06-19 00:38:56,834 : Heading Extraction Elocta_clean_ ΦΥΛΛΟ ΟΔΗΓΙΩΝ ΧΡΗΣΗΣ.json_k : Validation Failed As Previous Heading Found is not matching | H | CAP |  el | 3 | Elocta_clean_ ΦΥΛΛΟ ΟΔΗΓΙΩΝ ΧΡΗΣΗΣ.json | currHeadId :- '23013' | prevHeadingCurrId :- '23012' | prevHeadingFoundId :- '23028'\n"
     ]
    },
    {
     "name": "stdout",
     "output_type": "stream",
     "text": [
      "\n",
      "OriginalCheck\n",
      "\n"
     ]
    },
    {
     "name": "stderr",
     "output_type": "stream",
     "text": [
      "2021-06-19 00:39:03,264 : Heading Extraction Elocta_clean_ ΦΥΛΛΟ ΟΔΗΓΙΩΝ ΧΡΗΣΗΣ.json_k : Match Passed | H | CAP |  el | 3 | Elocta_clean_ ΦΥΛΛΟ ΟΔΗΓΙΩΝ ΧΡΗΣΗΣ.json | Doc txt :- 'το elocta' | Qrd txt :- 'το elocta' | Matched :- 'True'\n",
      "2021-06-19 00:39:03,267 : Heading Extraction Elocta_clean_ ΦΥΛΛΟ ΟΔΗΓΙΩΝ ΧΡΗΣΗΣ.json_k : Match Passed In Lowercase  :  | H | CAP |  el | 3 | Elocta_clean_ ΦΥΛΛΟ ΟΔΗΓΙΩΝ ΧΡΗΣΗΣ.json | Doc txt :- 'Το ELOCTA πρέπει να χορηγείται με χρήση του σετ έγχυσης (E) που παρέχεται σε αυτήν τη συσκευασία.' | Qrd txt :- 'Το Elocta περιέχει {όνομα(τα) εκδόχου(ων)}' | Matched :- 'True'\n",
      "2021-06-19 00:39:03,282 : Heading Extraction Elocta_clean_ ΦΥΛΛΟ ΟΔΗΓΙΩΝ ΧΡΗΣΗΣ.json_k : Validation Failed As Previous Heading Found is not matching | H | CAP |  el | 3 | Elocta_clean_ ΦΥΛΛΟ ΟΔΗΓΙΩΝ ΧΡΗΣΗΣ.json | currHeadId :- '23013' | prevHeadingCurrId :- '23012' | prevHeadingFoundId :- '23028'\n"
     ]
    },
    {
     "name": "stdout",
     "output_type": "stream",
     "text": [
      "\n",
      "OriginalCheck\n",
      "\n"
     ]
    },
    {
     "name": "stderr",
     "output_type": "stream",
     "text": [
      "2021-06-19 00:39:04,548 : Flow Logger HTML_o : Completed Heading Extraction For File | H | CAP |  el | HTML | Elocta_clean.htm\n",
      "2021-06-19 00:39:04,550 : Flow Logger HTML_o : 3: Heading Extraction,3.5205 Min,1.376052 MB,4.078296 MB,54.1%\n",
      " | H | CAP |  el | HTML | Elocta_clean.htm\n",
      "2021-06-19 00:39:04,553 : Flow Logger HTML_o : Starting Document Annotation For File | H | CAP |  el | HTML | Elocta_clean.htm\n",
      "2021-06-19 00:39:04,566 : Flow Logger HTML_o : Completed Document Annotation | H | CAP |  el | HTML | Elocta_clean.htm\n",
      "2021-06-19 00:39:04,568 : Flow Logger HTML_o : 3: Document Annotation,0.0003 Min,0.00829 MB,0.169132 MB,54.1%\n",
      " | H | CAP |  el | HTML | Elocta_clean.htm\n",
      "2021-06-19 00:39:04,570 : Flow Logger HTML_o : Starting Extracting Content Between Heading | H | CAP |  el | HTML | Elocta_clean.htm\n",
      "2021-06-19 00:39:04,582 : ExtractContentBetween_3_K : Cleaning Match Results | H | CAP |  el | 3 | Elocta_clean_ ΦΥΛΛΟ ΟΔΗΓΙΩΝ ΧΡΗΣΗΣ.json\n",
      "2021-06-19 00:39:04,592 : ExtractContentBetween_3_K : Finished Cleaning Match Results | H | CAP |  el | 3 | Elocta_clean_ ΦΥΛΛΟ ΟΔΗΓΙΩΝ ΧΡΗΣΗΣ.json\n",
      "2021-06-19 00:39:04,705 : Flow Logger HTML_o : Completed Extracting Content Between Heading | H | CAP |  el | HTML | Elocta_clean.htm\n",
      "2021-06-19 00:39:04,708 : Flow Logger HTML_o : 3: Content Extraction,0.0023 Min,1.892162 MB,4.052461 MB,54.1%\n",
      " | H | CAP |  el | HTML | Elocta_clean.htm\n"
     ]
    },
    {
     "name": "stdout",
     "output_type": "stream",
     "text": [
      "\n",
      "\n",
      "Heading Not Found \n",
      " ['q Το φάρμακο αυτό τελεί υπό συμπληρωματική παρακολούθηση. Αυτό θα επιτρέψει το γρήγορο προσδιορισμό νέων πληροφοριών ασφάλειας. Μπορείτε να βοηθήσετε μέσω της αναφοράς πιθανών ανεπιθύμητων ενεργειών που ενδεχομένως παρουσιάζετε. Βλ. τέλος της παραγράφου 4 για τον τρόπο αναφοράς ανεπιθύμητων ενεργειών.', 'Παιδιά <και έφηβοι> ', 'Το X με <τροφή> <και> <,> <ποτό> <και> <οινοπνευματώδη>', 'Εάν σταματήσετε να <παίρνετε> <χρησιμοποιείτε> το X', 'Συμπληρωματικές ανεπιθύμητες ενέργειες σε παιδιά <και εφήβους>', 'Για οποιαδήποτε πληροφορία σχετικά με το παρόν φαρμακευτικό προϊόν, παρακαλείστε να απευθυνθείτε στον τοπικό αντιπρόσωπο του Κατόχου της Άδειας Κυκλοφορίας:', 'Άλλες πηγές πληροφοριών', 'Οι πληροφορίες που ακολουθούν απευθύνονται μόνο σε επαγγελματίες υγείας:']\n",
      "\n",
      "\n",
      "dict_keys(['1. Τι είναι το Elocta και ποια είναι η χρήση του', '2. Τι πρέπει να γνωρίζετε πριν <πάρετε> <χρησιμοποιήσετε> το Elocta', '3. Πώς να <πάρετε> <χρησιμοποιήσετε> το Elocta', '4. Πιθανές ανεπιθύμητες ενέργειες', '5. Πώς να φυλάσσετε το  Elocta', '6. Περιεχόμενα της συσκευασίας και λοιπές πληροφορίες', 'Το Elocta περιέχει {όνομα(τα) εκδόχου(ων)}'])\n",
      "Completed Heading Extraction For File\n",
      "Metrics : 3: Heading Extraction,3.5205 Min,1.376052 MB,4.078296 MB,54.1%\n",
      "\n",
      "Starting Document Annotation For File :- Elocta_clean_ ΦΥΛΛΟ ΟΔΗΓΙΩΝ ΧΡΗΣΗΣ.json\n",
      "Error Found No Authorization Code Found In The Document Elocta_clean_ ΦΥΛΛΟ ΟΔΗΓΙΩΝ ΧΡΗΣΗΣ.json\n",
      "Completed Document Annotation\n",
      "Metrics : 3: Document Annotation,0.0003 Min,0.00829 MB,0.169132 MB,54.1%\n",
      "\n",
      "Starting Extracting Content Between Heading For File :- Elocta_clean_ ΦΥΛΛΟ ΟΔΗΓΙΩΝ ΧΡΗΣΗΣ.json\n",
      "File being processed: F:\\Projects\\EMA\\Repository\\EMA EPI PoC\\function_code\\work\\H\\CAP\\Elocta\\el\\2021-06-07T06-03-45Z\\partitionedJSONs\\Elocta_clean_ ΦΥΛΛΟ ΟΔΗΓΙΩΝ ΧΡΗΣΗΣ.json\n",
      "--------------------------------------------\n",
      "Completed Extracting Content Between Heading\n",
      "Metrics : 3: Content Extraction,0.0023 Min,1.892162 MB,4.052461 MB,54.1%\n",
      "\n",
      "Already Exists\n"
     ]
    },
    {
     "name": "stderr",
     "output_type": "stream",
     "text": [
      "2021-06-19 00:39:04,800 : XmlGeneration_3_L : PMS/OMS Annotation Information Not Retrieved | H | CAP |  el | 3 | Elocta_clean_ ΦΥΛΛΟ ΟΔΗΓΙΩΝ ΧΡΗΣΗΣ.json\n",
      "2021-06-19 00:39:04,804 : XmlGeneration_3_L : Initiating XML Generation | H | CAP |  el | 3 | Elocta_clean_ ΦΥΛΛΟ ΟΔΗΓΙΩΝ ΧΡΗΣΗΣ.json\n",
      "2021-06-19 00:39:05,010 : XmlGeneration_3_L : Writing to File:Elocta_clean_ ΦΥΛΛΟ ΟΔΗΓΙΩΝ ΧΡΗΣΗΣ.xml | H | CAP |  el | 3 | Elocta_clean_ ΦΥΛΛΟ ΟΔΗΓΙΩΝ ΧΡΗΣΗΣ.json\n",
      "2021-06-19 00:39:05,022 : Flow Logger HTML_o : 3: Generate XML,0.0052 Min,1.597945 MB,7.775674 MB,54.1%\n",
      " | H | CAP |  el | HTML | Elocta_clean.htm\n"
     ]
    },
    {
     "name": "stdout",
     "output_type": "stream",
     "text": [
      "Metrics : 3: Generate XML,0.0052 Min,1.597945 MB,7.775674 MB,54.1%\n",
      "\n"
     ]
    },
    {
     "name": "stderr",
     "output_type": "stream",
     "text": [
      "2021-06-19 00:39:10,304 : XML Submission Logger_3_T : Initiating Submission To FHIR Server | H | CAP |  el | 3 | Elocta_clean_ ΦΥΛΛΟ ΟΔΗΓΙΩΝ ΧΡΗΣΗΣ.json\n",
      "2021-06-19 00:39:10,308 : XML Submission Logger_3_T : Response{\"resourceType\":\"Bundle\",\"id\":\"025dac3d-dda7-4852-9127-aa076c1e037a\",\"meta\":{\"versionId\":\"1\",\"lastUpdated\":\"2021-06-18T19:09:07.997+00:00\"},\"type\":\"collection\",\"entry\":[{\"fullUrl\":\"urn:uuid:cbf1ec9e-9faf-45c0-b502-addae000b1f0\",\"resource\":{\"resourceType\":\"Bundle\",\"id\":\"226d143a-ee07-4c4a-971a-faa554f8b03c\",\"identifier\":{\"system\":\"http://ema.europa.eu/fhir/identifier/documentid\",\"value\":\"226d143a-ee07-4c4a-971a-faa554f8b03c\"},\"type\":\"document\",\"timestamp\":\"2021-06-18T19:09:04+00:00\",\"entry\":[{\"fu | H | CAP |  el | 3 | Elocta_clean_ ΦΥΛΛΟ ΟΔΗΓΙΩΝ ΧΡΗΣΗΣ.json\n",
      "2021-06-19 00:39:10,320 : XML Submission Logger_3_T : POST sucessful: XML added with id: 025dac3d-dda7-4852-9127-aa076c1e037a | H | CAP |  el | 3 | Elocta_clean_ ΦΥΛΛΟ ΟΔΗΓΙΩΝ ΧΡΗΣΗΣ.json\n",
      "2021-06-19 00:39:10,324 : Flow Logger HTML_o : 3: Submit FHIR Msg,0.0883 Min,0.243237 MB,3.761202 MB,54.1%\n",
      " | H | CAP |  el | HTML | Elocta_clean.htm\n",
      "2021-06-19 00:39:10,327 : Flow Logger HTML_o : Starting list bundle update/addition | H | CAP |  el | HTML | Elocta_clean.htm\n",
      "2021-06-19 00:39:10,350 : List Bundle Creation Logger_3_m : Extracted list bundle document type code this document 100000155538 | H | CAP |  el | 3 | Elocta_clean_ ΦΥΛΛΟ ΟΔΗΓΙΩΝ ΧΡΗΣΗΣ.json\n",
      "2021-06-19 00:39:10,366 : List Bundle Creation Logger_3_m : Getting Existing List Bundle accross all MANs | H | CAP |  el | 3 | Elocta_clean_ ΦΥΛΛΟ ΟΔΗΓΙΩΝ ΧΡΗΣΗΣ.json\n",
      "2021-06-19 00:39:10,369 : List Bundle Creation Logger_3_m : Getting list bundle for MAN EU/1/15/1046/001  | H | CAP |  el | 3 | Elocta_clean_ ΦΥΛΛΟ ΟΔΗΓΙΩΝ ΧΡΗΣΗΣ.json\n"
     ]
    },
    {
     "name": "stdout",
     "output_type": "stream",
     "text": [
      "POST sucessful: XML added with id 025dac3d-dda7-4852-9127-aa076c1e037a\n",
      "Metrics : 3: Submit FHIR Msg,0.0883 Min,0.243237 MB,3.761202 MB,54.1%\n",
      "\n",
      "Created XML File For :- Elocta_clean_ ΦΥΛΛΟ ΟΔΗΓΙΩΝ ΧΡΗΣΗΣ.json\n",
      "\n",
      "listRegulatedAuthCodesAccrossePI ['EU/1/15/1046/001', 'EU/1/15/1046/002', 'EU/1/15/1046/003', 'EU/1/15/1046/004', 'EU/1/15/1046/005', 'EU/1/15/1046/006', 'EU/1/15/1046/007', 'EU/1/15/1046/008', 'EU/1/15/1046/001', 'EU/1/15/1046/002', 'EU/1/15/1046/003', 'EU/1/15/1046/004', 'EU/1/15/1046/005', 'EU/1/15/1046/006', 'EU/1/15/1046/007', 'EU/1/15/1046/008']\n"
     ]
    },
    {
     "name": "stderr",
     "output_type": "stream",
     "text": [
      "2021-06-19 00:39:11,290 : List Bundle Creation Logger_3_m : Getting list bundle for MAN EU/1/15/1046/002  | H | CAP |  el | 3 | Elocta_clean_ ΦΥΛΛΟ ΟΔΗΓΙΩΝ ΧΡΗΣΗΣ.json\n",
      "2021-06-19 00:39:12,180 : List Bundle Creation Logger_3_m : Getting list bundle for MAN EU/1/15/1046/003  | H | CAP |  el | 3 | Elocta_clean_ ΦΥΛΛΟ ΟΔΗΓΙΩΝ ΧΡΗΣΗΣ.json\n",
      "2021-06-19 00:39:13,040 : List Bundle Creation Logger_3_m : Getting list bundle for MAN EU/1/15/1046/004  | H | CAP |  el | 3 | Elocta_clean_ ΦΥΛΛΟ ΟΔΗΓΙΩΝ ΧΡΗΣΗΣ.json\n",
      "2021-06-19 00:39:13,885 : List Bundle Creation Logger_3_m : Getting list bundle for MAN EU/1/15/1046/005  | H | CAP |  el | 3 | Elocta_clean_ ΦΥΛΛΟ ΟΔΗΓΙΩΝ ΧΡΗΣΗΣ.json\n",
      "2021-06-19 00:39:14,797 : List Bundle Creation Logger_3_m : Getting list bundle for MAN EU/1/15/1046/006  | H | CAP |  el | 3 | Elocta_clean_ ΦΥΛΛΟ ΟΔΗΓΙΩΝ ΧΡΗΣΗΣ.json\n",
      "2021-06-19 00:39:15,654 : List Bundle Creation Logger_3_m : Getting list bundle for MAN EU/1/15/1046/007  | H | CAP |  el | 3 | Elocta_clean_ ΦΥΛΛΟ ΟΔΗΓΙΩΝ ΧΡΗΣΗΣ.json\n",
      "2021-06-19 00:39:16,717 : List Bundle Creation Logger_3_m : Getting list bundle for MAN EU/1/15/1046/008  | H | CAP |  el | 3 | Elocta_clean_ ΦΥΛΛΟ ΟΔΗΓΙΩΝ ΧΡΗΣΗΣ.json\n",
      "2021-06-19 00:39:17,577 : List Bundle Creation Logger_3_m : Getting list bundle for MAN EU/1/15/1046/001  | H | CAP |  el | 3 | Elocta_clean_ ΦΥΛΛΟ ΟΔΗΓΙΩΝ ΧΡΗΣΗΣ.json\n",
      "2021-06-19 00:39:18,451 : List Bundle Creation Logger_3_m : Getting list bundle for MAN EU/1/15/1046/002  | H | CAP |  el | 3 | Elocta_clean_ ΦΥΛΛΟ ΟΔΗΓΙΩΝ ΧΡΗΣΗΣ.json\n",
      "2021-06-19 00:39:19,360 : List Bundle Creation Logger_3_m : Getting list bundle for MAN EU/1/15/1046/003  | H | CAP |  el | 3 | Elocta_clean_ ΦΥΛΛΟ ΟΔΗΓΙΩΝ ΧΡΗΣΗΣ.json\n",
      "2021-06-19 00:39:20,538 : List Bundle Creation Logger_3_m : Getting list bundle for MAN EU/1/15/1046/004  | H | CAP |  el | 3 | Elocta_clean_ ΦΥΛΛΟ ΟΔΗΓΙΩΝ ΧΡΗΣΗΣ.json\n",
      "2021-06-19 00:39:21,431 : List Bundle Creation Logger_3_m : Getting list bundle for MAN EU/1/15/1046/005  | H | CAP |  el | 3 | Elocta_clean_ ΦΥΛΛΟ ΟΔΗΓΙΩΝ ΧΡΗΣΗΣ.json\n",
      "2021-06-19 00:39:22,320 : List Bundle Creation Logger_3_m : Getting list bundle for MAN EU/1/15/1046/006  | H | CAP |  el | 3 | Elocta_clean_ ΦΥΛΛΟ ΟΔΗΓΙΩΝ ΧΡΗΣΗΣ.json\n",
      "2021-06-19 00:39:23,210 : List Bundle Creation Logger_3_m : Getting list bundle for MAN EU/1/15/1046/007  | H | CAP |  el | 3 | Elocta_clean_ ΦΥΛΛΟ ΟΔΗΓΙΩΝ ΧΡΗΣΗΣ.json\n",
      "2021-06-19 00:39:24,092 : List Bundle Creation Logger_3_m : Getting list bundle for MAN EU/1/15/1046/008  | H | CAP |  el | 3 | Elocta_clean_ ΦΥΛΛΟ ΟΔΗΓΙΩΝ ΧΡΗΣΗΣ.json\n",
      "2021-06-19 00:39:25,075 : List Bundle Creation Logger_3_m : Getting Existing List Bundle using common list id 5829d349-155f-4f0a-ac97-6a29dd532996 | H | CAP |  el | 3 | Elocta_clean_ ΦΥΛΛΟ ΟΔΗΓΙΩΝ ΧΡΗΣΗΣ.json\n",
      "2021-06-19 00:39:26,017 : List Bundle Creation Logger_3_m : Added missing MAN identifiers | H | CAP |  el | 3 | Elocta_clean_ ΦΥΛΛΟ ΟΔΗΓΙΩΝ ΧΡΗΣΗΣ.json\n",
      "2021-06-19 00:39:26,020 : List Bundle Creation Logger_3_m : Updating existing item | H | CAP |  el | 3 | Elocta_clean_ ΦΥΛΛΟ ΟΔΗΓΙΩΝ ΧΡΗΣΗΣ.json\n",
      "2021-06-19 00:39:26,034 : List Bundle Creation Logger_3_m : Converted to required XML format | H | CAP |  el | 3 | Elocta_clean_ ΦΥΛΛΟ ΟΔΗΓΙΩΝ ΧΡΗΣΗΣ.json\n"
     ]
    },
    {
     "name": "stdout",
     "output_type": "stream",
     "text": [
      "b'<List xmlns=\"http://hl7.org/fhir\"><id value=\"5829d349-155f-4f0a-ac97-6a29dd532996\" /><identifier><system value=\"http://spor.ema.europa.eu/v2/medicine-name\" /><value value=\"elocta\" /></identifier><identifier><system value=\"http://spor.ema.europa.eu/v2/marketing-authorisation-numbers\" /><value value=\"EU/1/15/1046/001\" /></identifier><identifier><system value=\"http://spor.ema.europa.eu/v2/marketing-authorisation-numbers\" /><value value=\"EU/1/15/1046/002\" /></identifier><identifier><system value=\"http://spor.ema.europa.eu/v2/marketing-authorisation-numbers\" /><value value=\"EU/1/15/1046/003\" /></identifier><identifier><system value=\"http://spor.ema.europa.eu/v2/marketing-authorisation-numbers\" /><value value=\"EU/1/15/1046/004\" /></identifier><identifier><system value=\"http://spor.ema.europa.eu/v2/marketing-authorisation-numbers\" /><value value=\"EU/1/15/1046/005\" /></identifier><identifier><system value=\"http://spor.ema.europa.eu/v2/marketing-authorisation-numbers\" /><value value=\"EU/1/15/1046/006\" /></identifier><identifier><system value=\"http://spor.ema.europa.eu/v2/marketing-authorisation-numbers\" /><value value=\"EU/1/15/1046/007\" /></identifier><identifier><system value=\"http://spor.ema.europa.eu/v2/marketing-authorisation-numbers\" /><value value=\"EU/1/15/1046/008\" /></identifier><status value=\"current\" /><mode value=\"working\" /><code><coding><system value=\"http://spor.ema.europa.eu/v1/example-pi-list-types\" /><code value=\"00000021213\" /><display value=\"ePI Master List\" /></coding></code><subject><extension url=\"http://ema.europa.eu/fhir/extension/domain\"><valueCoding><system value=\"http://spor.ema.europa.eu/v1/100000000004\" /><code value=\"100000000012\" /><display value=\"H\" /></valueCoding></extension><extension url=\"http://ema.europa.eu/fhir/extension/medicine-name\"><valueCoding><system value=\"http://spor.ema.europa.eu/v1/100000000005\" /><code value=\"medicine-name-code\" /><display value=\"Elocta\" /></valueCoding></extension></subject><entry><item><extension url=\"http://ema.europa.eu/fhir/extension/documentType\"><valueCoding><system value=\"http://spor.ema.europa.eu/v1/100000155531\" /><code value=\"100000155532\" /><display value=\"SmPC\" /></valueCoding></extension><extension url=\"http://ema.europa.eu/fhir/extension/language\"><valueCoding><system value=\"http://spor.ema.europa.eu/v1/100000072057\" /><code value=\"100000072147\" /><display value=\"en\" /></valueCoding></extension><reference value=\"Bundle/ad19dc26-2ff8-48ac-bd59-492098c58635\" /></item></entry><entry><item><extension url=\"http://ema.europa.eu/fhir/extension/documentType\"><valueCoding><system value=\"http://spor.ema.europa.eu/v1/100000155531\" /><code value=\"100000155533\" /><display value=\"AnnexII\" /></valueCoding></extension><extension url=\"http://ema.europa.eu/fhir/extension/language\"><valueCoding><system value=\"http://spor.ema.europa.eu/v1/100000072057\" /><code value=\"100000072147\" /><display value=\"en\" /></valueCoding></extension><reference value=\"Bundle/ba8e4303-e75c-4b7f-93ad-a95cd147cd95\" /></item></entry><entry><item><extension url=\"http://ema.europa.eu/fhir/extension/documentType\"><valueCoding><system value=\"http://spor.ema.europa.eu/v1/100000155531\" /><code value=\"100000155535\" /><display value=\"Labelling\" /></valueCoding></extension><extension url=\"http://ema.europa.eu/fhir/extension/language\"><valueCoding><system value=\"http://spor.ema.europa.eu/v1/100000072057\" /><code value=\"100000072147\" /><display value=\"en\" /></valueCoding></extension><reference value=\"Bundle/2a9d5bae-20fd-4a9c-b2c7-921238f996d2\" /></item></entry><entry><item><extension url=\"http://ema.europa.eu/fhir/extension/documentType\"><valueCoding><system value=\"http://spor.ema.europa.eu/v1/100000155531\" /><code value=\"100000155538\" /><display value=\"Package leaflet\" /></valueCoding></extension><extension url=\"http://ema.europa.eu/fhir/extension/language\"><valueCoding><system value=\"http://spor.ema.europa.eu/v1/100000072057\" /><code value=\"100000072147\" /><display value=\"en\" /></valueCoding></extension><reference value=\"Bundle/606ba5ac-9f7f-4bdd-8086-45f6f045f8bd\" /></item></entry><entry><item><extension url=\"http://ema.europa.eu/fhir/extension/documentType\"><valueCoding><system value=\"http://spor.ema.europa.eu/v1/100000155531\" /><code value=\"100000155532\" /><display value=\"SmPC\" /></valueCoding></extension><extension url=\"http://ema.europa.eu/fhir/extension/language\"><valueCoding><system value=\"http://spor.ema.europa.eu/v1/100000072057\" /><code value=\"100000072178\" /><display value=\"de\" /></valueCoding></extension><reference value=\"Bundle/e5a3ee9e-30a1-4e81-96b7-20ea1f0cb553\" /></item></entry><entry><item><extension url=\"http://ema.europa.eu/fhir/extension/documentType\"><valueCoding><system value=\"http://spor.ema.europa.eu/v1/100000155531\" /><code value=\"100000155533\" /><display value=\"ANHANG II\" /></valueCoding></extension><extension url=\"http://ema.europa.eu/fhir/extension/language\"><valueCoding><system value=\"http://spor.ema.europa.eu/v1/100000072057\" /><code value=\"100000072178\" /><display value=\"de\" /></valueCoding></extension><reference value=\"Bundle/f57010ec-b436-4c2b-aabc-d82e1134f8f8\" /></item></entry><entry><item><extension url=\"http://ema.europa.eu/fhir/extension/documentType\"><valueCoding><system value=\"http://spor.ema.europa.eu/v1/100000155531\" /><code value=\"100000155535\" /><display value=\"Etikettierung\" /></valueCoding></extension><extension url=\"http://ema.europa.eu/fhir/extension/language\"><valueCoding><system value=\"http://spor.ema.europa.eu/v1/100000072057\" /><code value=\"100000072178\" /><display value=\"de\" /></valueCoding></extension><reference value=\"Bundle/a628833d-6896-49a3-ac37-1219c0430566\" /></item></entry><entry><item><extension url=\"http://ema.europa.eu/fhir/extension/documentType\"><valueCoding><system value=\"http://spor.ema.europa.eu/v1/100000155531\" /><code value=\"100000155538\" /><display value=\"Packungsbeilage\" /></valueCoding></extension><extension url=\"http://ema.europa.eu/fhir/extension/language\"><valueCoding><system value=\"http://spor.ema.europa.eu/v1/100000072057\" /><code value=\"100000072178\" /><display value=\"de\" /></valueCoding></extension><reference value=\"Bundle/00147511-5d0b-4b89-b6cc-660d18b2f173\" /></item></entry><entry><item><extension url=\"http://ema.europa.eu/fhir/extension/documentType\"><valueCoding><system value=\"http://spor.ema.europa.eu/v1/100000155531\" /><code value=\"100000155532\" /><display value=\"SmPC\" /></valueCoding></extension><extension url=\"http://ema.europa.eu/fhir/extension/language\"><valueCoding><system value=\"http://spor.ema.europa.eu/v1/100000072057\" /><code value=\"100000072142\" /><display value=\"bg\" /></valueCoding></extension><reference value=\"Bundle/3ca82c72-b5d3-49b9-9bc9-f00d237f8803\" /></item></entry><entry><item><extension url=\"http://ema.europa.eu/fhir/extension/documentType\"><valueCoding><system value=\"http://spor.ema.europa.eu/v1/100000155531\" /><code value=\"100000155533\" /><display value=\"AnnexII\" /></valueCoding></extension><extension url=\"http://ema.europa.eu/fhir/extension/language\"><valueCoding><system value=\"http://spor.ema.europa.eu/v1/100000072057\" /><code value=\"100000072142\" /><display value=\"bg\" /></valueCoding></extension><reference value=\"Bundle/6a69a4a1-bb78-4696-83f9-5451be6fab61\" /></item></entry><entry><item><extension url=\"http://ema.europa.eu/fhir/extension/documentType\"><valueCoding><system value=\"http://spor.ema.europa.eu/v1/100000155531\" /><code value=\"100000155535\" /><display value=\"Labelling\" /></valueCoding></extension><extension url=\"http://ema.europa.eu/fhir/extension/language\"><valueCoding><system value=\"http://spor.ema.europa.eu/v1/100000072057\" /><code value=\"100000072142\" /><display value=\"bg\" /></valueCoding></extension><reference value=\"Bundle/aa07919a-76ee-4221-b369-714b5374473a\" /></item></entry><entry><item><extension url=\"http://ema.europa.eu/fhir/extension/documentType\"><valueCoding><system value=\"http://spor.ema.europa.eu/v1/100000155531\" /><code value=\"100000155538\" /><display value=\"Package leaflet\" /></valueCoding></extension><extension url=\"http://ema.europa.eu/fhir/extension/language\"><valueCoding><system value=\"http://spor.ema.europa.eu/v1/100000072057\" /><code value=\"100000072142\" /><display value=\"bg\" /></valueCoding></extension><reference value=\"Bundle/1bc35de5-d0ab-453a-bba5-8fc99b177ec2\" /></item></entry><entry><item><extension url=\"http://ema.europa.eu/fhir/extension/documentType\"><valueCoding><system value=\"http://spor.ema.europa.eu/v1/100000155531\" /><code value=\"100000155532\" /><display value=\"SmPC\" /></valueCoding></extension><extension url=\"http://ema.europa.eu/fhir/extension/language\"><valueCoding><system value=\"http://spor.ema.europa.eu/v1/100000072057\" /><code value=\"100000072168\" /><display value=\"da\" /></valueCoding></extension><reference value=\"Bundle/d3de3932-2769-40ba-81f2-58f21d7d1b48\" /></item></entry><entry><item><extension url=\"http://ema.europa.eu/fhir/extension/documentType\"><valueCoding><system value=\"http://spor.ema.europa.eu/v1/100000155531\" /><code value=\"100000155533\" /><display value=\"BILAG II\" /></valueCoding></extension><extension url=\"http://ema.europa.eu/fhir/extension/language\"><valueCoding><system value=\"http://spor.ema.europa.eu/v1/100000072057\" /><code value=\"100000072168\" /><display value=\"da\" /></valueCoding></extension><reference value=\"Bundle/5720f50a-c605-4ab0-a63d-36f17eaf89f1\" /></item></entry><entry><item><extension url=\"http://ema.europa.eu/fhir/extension/documentType\"><valueCoding><system value=\"http://spor.ema.europa.eu/v1/100000155531\" /><code value=\"100000155532\" /><display value=\"SmPC\" /></valueCoding></extension><extension url=\"http://ema.europa.eu/fhir/extension/language\"><valueCoding><system value=\"http://spor.ema.europa.eu/v1/100000072057\" /><code value=\"100000072264\" /><display value=\"es\" /></valueCoding></extension><reference value=\"Bundle/b628a402-8685-42e9-bdb6-2c3db00e1eaa\" /></item></entry><entry><item><extension url=\"http://ema.europa.eu/fhir/extension/documentType\"><valueCoding><system value=\"http://spor.ema.europa.eu/v1/100000155531\" /><code value=\"100000155533\" /><display value=\"AnnexII\" /></valueCoding></extension><extension url=\"http://ema.europa.eu/fhir/extension/language\"><valueCoding><system value=\"http://spor.ema.europa.eu/v1/100000072057\" /><code value=\"100000072264\" /><display value=\"es\" /></valueCoding></extension><reference value=\"Bundle/238b78d8-de4a-44be-91d2-573da1a60f40\" /></item></entry><entry><item><extension url=\"http://ema.europa.eu/fhir/extension/documentType\"><valueCoding><system value=\"http://spor.ema.europa.eu/v1/100000155531\" /><code value=\"100000155535\" /><display value=\"Labelling\" /></valueCoding></extension><extension url=\"http://ema.europa.eu/fhir/extension/language\"><valueCoding><system value=\"http://spor.ema.europa.eu/v1/100000072057\" /><code value=\"100000072264\" /><display value=\"es\" /></valueCoding></extension><reference value=\"Bundle/5ce4eccf-445b-4139-b82d-5ec1e7dcf182\" /></item></entry><entry><item><extension url=\"http://ema.europa.eu/fhir/extension/documentType\"><valueCoding><system value=\"http://spor.ema.europa.eu/v1/100000155531\" /><code value=\"100000155538\" /><display value=\"Package leaflet\" /></valueCoding></extension><extension url=\"http://ema.europa.eu/fhir/extension/language\"><valueCoding><system value=\"http://spor.ema.europa.eu/v1/100000072057\" /><code value=\"100000072264\" /><display value=\"es\" /></valueCoding></extension><reference value=\"Bundle/dc638c61-b24b-4ab7-a046-ce8c3cd00524\" /></item></entry><entry><item><extension url=\"http://ema.europa.eu/fhir/extension/documentType\"><valueCoding><system value=\"http://spor.ema.europa.eu/v1/100000155531\" /><code value=\"100000155532\" /><display value=\"SmPC\" /></valueCoding></extension><extension url=\"http://ema.europa.eu/fhir/extension/language\"><valueCoding><system value=\"http://spor.ema.europa.eu/v1/100000072057\" /><code value=\"100000072181\" /><display value=\"el\" /></valueCoding></extension><reference value=\"Bundle/b53846f0-bd96-4c6f-89cb-3b0c723d4416\" /></item></entry><entry><item><extension url=\"http://ema.europa.eu/fhir/extension/documentType\"><valueCoding><system value=\"http://spor.ema.europa.eu/v1/100000155531\" /><code value=\"100000155533\" /><display value=\"\\xce\\xa0\\xce\\x91\\xce\\xa1\\xce\\x91\\xce\\xa1\\xce\\xa4\\xce\\x97\\xce\\x9c\\xce\\x91 \\xce\\x99\\xce\\x99\" /></valueCoding></extension><extension url=\"http://ema.europa.eu/fhir/extension/language\"><valueCoding><system value=\"http://spor.ema.europa.eu/v1/100000072057\" /><code value=\"100000072181\" /><display value=\"el\" /></valueCoding></extension><reference value=\"Bundle/479cde40-8813-4579-a911-789061998f25\" /></item></entry><entry><item><extension url=\"http://ema.europa.eu/fhir/extension/documentType\"><valueCoding><system value=\"http://spor.ema.europa.eu/v1/100000155531\" /><code value=\"100000155535\" /><display value=\"\\xce\\x95\\xce\\xa0\\xce\\x99\\xce\\xa3\\xce\\x97\\xce\\x9c\\xce\\x91\\xce\\x9d\\xce\\xa3\\xce\\x97\" /></valueCoding></extension><extension url=\"http://ema.europa.eu/fhir/extension/language\"><valueCoding><system value=\"http://spor.ema.europa.eu/v1/100000072057\" /><code value=\"100000072181\" /><display value=\"el\" /></valueCoding></extension><reference value=\"Bundle/999ee3d4-273d-4c27-a307-c7804329a4a7\" /></item></entry><entry><item><extension url=\"http://ema.europa.eu/fhir/extension/documentType\"><valueCoding><system value=\"http://spor.ema.europa.eu/v1/100000155531\" /><code value=\"100000155538\" /><display value=\"\\xce\\xa6\\xce\\xa5\\xce\\x9b\\xce\\x9b\\xce\\x9f \\xce\\x9f\\xce\\x94\\xce\\x97\\xce\\x93\\xce\\x99\\xce\\xa9\\xce\\x9d \\xce\\xa7\\xce\\xa1\\xce\\x97\\xce\\xa3\\xce\\x97\\xce\\xa3\" /></valueCoding></extension><extension url=\"http://ema.europa.eu/fhir/extension/language\"><valueCoding><system value=\"http://spor.ema.europa.eu/v1/100000072057\" /><code value=\"100000072181\" /><display value=\"el\" /></valueCoding></extension><reference value=\"Bundle/025dac3d-dda7-4852-9127-aa076c1e037a\" /></item></entry></List>'\n",
      "Updating\n"
     ]
    },
    {
     "name": "stderr",
     "output_type": "stream",
     "text": [
      "2021-06-19 00:39:27,453 : List Bundle Creation Logger_3_m : List update successfully completed 5829d349-155f-4f0a-ac97-6a29dd532996 | H | CAP |  el | 3 | Elocta_clean_ ΦΥΛΛΟ ΟΔΗΓΙΩΝ ΧΡΗΣΗΣ.json\n",
      "2021-06-19 00:39:27,458 : Flow Logger HTML_o : Completed list bundle update/addition | H | CAP |  el | HTML | Elocta_clean.htm\n",
      "2021-06-19 00:39:27,461 : Flow Logger HTML_o : 3: Update/Add List Bundle,0.2856 Min,0.340737 MB,0.654371 MB,54.3%\n",
      " | H | CAP |  el | HTML | Elocta_clean.htm\n",
      "2021-06-19 00:39:27,464 : Flow Logger HTML_o : Completed Processing Partitioned Jsons | H | CAP |  el | HTML | Elocta_clean.htm\n",
      "2021-06-19 00:39:27,469 : Flow Logger HTML_o : 3: Completed,0.0001 Min,0.150088 MB,0.152428 MB,54.3%\n",
      " | H | CAP |  el | HTML | Elocta_clean.htm\n",
      "2021-06-19 00:39:27,472 : Flow Logger HTML_o : Final Metrics,13.2269 Min,0.0 MB,33.136526 MB,54.3%\n",
      " | H | CAP |  el | HTML | Elocta_clean.htm\n"
     ]
    },
    {
     "name": "stdout",
     "output_type": "stream",
     "text": [
      "Metrics : 3: Update/Add List Bundle,0.2856 Min,0.340737 MB,0.654371 MB,54.3%\n",
      "\n",
      "Metrics : 3: Completed,0.0001 Min,0.150088 MB,0.152428 MB,54.3%\n",
      "\n",
      "Metrics : Final Metrics,13.2269 Min,0.0 MB,33.136526 MB,54.3%\n",
      "\n"
     ]
    }
   ],
   "source": [
    "inputList = ['Elocta~H~CAP~el~2021-06-07T06-03-45Z.zip']\n",
    "\n",
    "runAll(inputList)"
   ]
  },
  {
   "cell_type": "code",
   "execution_count": null,
   "metadata": {},
   "outputs": [
    {
     "name": "stdout",
     "output_type": "stream",
     "text": [
      "GONAL-f~H~CAP~el~2021-06-06T10-02-52Z.zip F:\\Projects\\EMA\\Repository\\EMA EPI PoC\\function_code\\inputblob F:\\Projects\\EMA\\Repository\\EMA EPI PoC\\function_code\\work\\H\\CAP\\GONAL-f\\el\\2021-06-06T10-02-52Z F:\\Projects\\EMA\\Repository\\EMA EPI PoC\\function_code\\control\n",
      "Already Present\n"
     ]
    },
    {
     "name": "stderr",
     "output_type": "stream",
     "text": [
      "2021-06-19 01:17:07,723 : Flow Logger HTML_5 : Starting HTML Conversion To Json | H | CAP |  el | HTML | gonal-f_clean.htm\n",
      "2021-06-19 01:17:07,737 : Style Dictionary_a : Reading style dictionary in file: rule_dictionary_el.json | H | CAP |  el | HTML | gonal-f_clean.htm\n",
      "2021-06-19 01:17:07,737 : Style Dictionary_a : Reading style dictionary in file: rule_dictionary_el.json | H | CAP |  el | HTML | gonal-f_clean.htm\n",
      "2021-06-19 01:17:07,854 : Style Dictionary_a : Qrd Section Keys Retrieved For Style Dictionary: ΠΕΡΙΛΗΨΗ ΤΩΝ ΧΑΡΑΚΤΗΡΙΣΤΙΚΩΝ ΤΟΥ ΠΡΟΪΟΝΤΟΣ, ΠΑΡΑΡΤΗΜΑ II, A. ΕΠΙΣΗΜΑΝΣΗ, B. ΦΥΛΛΟ ΟΔΗΓΙΩΝ ΧΡΗΣΗΣ | H | CAP |  el | HTML | gonal-f_clean.htm\n",
      "2021-06-19 01:17:07,854 : Style Dictionary_a : Qrd Section Keys Retrieved For Style Dictionary: ΠΕΡΙΛΗΨΗ ΤΩΝ ΧΑΡΑΚΤΗΡΙΣΤΙΚΩΝ ΤΟΥ ΠΡΟΪΟΝΤΟΣ, ΠΑΡΑΡΤΗΜΑ II, A. ΕΠΙΣΗΜΑΝΣΗ, B. ΦΥΛΛΟ ΟΔΗΓΙΩΝ ΧΡΗΣΗΣ | H | CAP |  el | HTML | gonal-f_clean.htm\n"
     ]
    },
    {
     "name": "stdout",
     "output_type": "stream",
     "text": [
      "gonal-f_clean.htm\n",
      "['F:', 'Projects', 'EMA', 'Repository', 'EMA EPI PoC', 'function_code', 'work', 'H', 'CAP', 'GONAL-f', 'el', '2021-06-06T10-02-52Z'] gonal-f_clean.htm\n",
      "2021-06-06T10-02-52Z el GONAL-f CAP H\n",
      "------------- F:\\Projects\\EMA\\Repository\\EMA EPI PoC\\function_code\\work\\H\\CAP\\GONAL-f\\el\\2021-06-06T10-02-52Z\\outputJSON\\gonal-f_clean.txt -----------------\n",
      "F:\\Projects\\EMA\\Repository\\EMA EPI PoC\\function_code\\work\\H\\CAP\\GONAL-f\\el\\2021-06-06T10-02-52Z\\gonal-f_clean.htm F:\\Projects\\EMA\\Repository\\EMA EPI PoC\\function_code\\work\\H\\CAP\\GONAL-f\\el\\2021-06-06T10-02-52Z\\outputJSON\\gonal-f_clean.json\n"
     ]
    },
    {
     "name": "stderr",
     "output_type": "stream",
     "text": [
      "2021-06-19 01:17:27,226 : Parser_O : Style Information Stored In File: F:\\Projects\\EMA\\Repository\\EMA EPI PoC\\function_code\\work\\H\\CAP\\GONAL-f\\el\\2021-06-06T10-02-52Z\\outputJSON\\gonal-f_clean.txt | H | CAP |  el | HTML | gonal-f_clean.htm\n",
      "2021-06-19 01:17:27,226 : Parser_O : Style Information Stored In File: F:\\Projects\\EMA\\Repository\\EMA EPI PoC\\function_code\\work\\H\\CAP\\GONAL-f\\el\\2021-06-06T10-02-52Z\\outputJSON\\gonal-f_clean.txt | H | CAP |  el | HTML | gonal-f_clean.htm\n"
     ]
    },
    {
     "name": "stdout",
     "output_type": "stream",
     "text": [
      "!!!!!!!!!!! IN TABLE !!!!!!!!!!!!!!!!!\n",
      "!!!!!!!!!!! IN TABLE !!!!!!!!!!!!!!!!!\n",
      "!!!!!!!!!!! IN TABLE !!!!!!!!!!!!!!!!!\n",
      "!!!!!!!!!!! IN TABLE !!!!!!!!!!!!!!!!!\n",
      "!!!!!!!!!!! IN TABLE !!!!!!!!!!!!!!!!!\n"
     ]
    },
    {
     "name": "stderr",
     "output_type": "stream",
     "text": [
      "2021-06-19 01:18:33,865 : Parser_O : Writing to file: F:\\Projects\\EMA\\Repository\\EMA EPI PoC\\function_code\\work\\H\\CAP\\GONAL-f\\el\\2021-06-06T10-02-52Z\\outputJSON\\gonal-f_clean.json | H | CAP |  el | HTML | gonal-f_clean.htm\n",
      "2021-06-19 01:18:33,865 : Parser_O : Writing to file: F:\\Projects\\EMA\\Repository\\EMA EPI PoC\\function_code\\work\\H\\CAP\\GONAL-f\\el\\2021-06-06T10-02-52Z\\outputJSON\\gonal-f_clean.json | H | CAP |  el | HTML | gonal-f_clean.htm\n",
      "2021-06-19 01:18:37,105 : Flow Logger HTML_5 : Completed HTML Conversion To Json | H | CAP |  el | HTML | gonal-f_clean.htm\n",
      "2021-06-19 01:18:37,109 : Flow Logger HTML_5 : HTML Conversion To Json,1.4898 Min,13.893177 MB,55.417148 MB,52.6%\n",
      " | H | CAP |  el | HTML | gonal-f_clean.htm\n",
      "2021-06-19 01:18:37,153 : Flow Logger HTML_5 : Starting Json Split | H | CAP |  el | HTML | gonal-f_clean.htm\n",
      "2021-06-19 01:18:37,167 : Style Dictionary_F : Reading style dictionary in file: rule_dictionary_el.json | H | CAP |  el | Json | gonal-f_clean.json\n",
      "2021-06-19 01:18:37,167 : Style Dictionary_F : Reading style dictionary in file: rule_dictionary_el.json | H | CAP |  el | Json | gonal-f_clean.json\n",
      "2021-06-19 01:18:37,316 : Style Dictionary_F : Qrd Section Keys Retrieved For Style Dictionary: ΠΕΡΙΛΗΨΗ ΤΩΝ ΧΑΡΑΚΤΗΡΙΣΤΙΚΩΝ ΤΟΥ ΠΡΟΪΟΝΤΟΣ, ΠΑΡΑΡΤΗΜΑ II, A. ΕΠΙΣΗΜΑΝΣΗ, B. ΦΥΛΛΟ ΟΔΗΓΙΩΝ ΧΡΗΣΗΣ | H | CAP |  el | Json | gonal-f_clean.json\n"
     ]
    },
    {
     "name": "stdout",
     "output_type": "stream",
     "text": [
      "stylePath:- F:\\Projects\\EMA\\Repository\\EMA EPI PoC\\function_code\\work\\H\\CAP\\GONAL-f\\el\\2021-06-06T10-02-52Z\\outputJSON\\gonal-f_clean.txt\n",
      "Metrics : HTML Conversion To Json,1.4898 Min,13.893177 MB,55.417148 MB,52.6%\n",
      "\n"
     ]
    },
    {
     "name": "stderr",
     "output_type": "stream",
     "text": [
      "2021-06-19 01:18:37,316 : Style Dictionary_F : Qrd Section Keys Retrieved For Style Dictionary: ΠΕΡΙΛΗΨΗ ΤΩΝ ΧΑΡΑΚΤΗΡΙΣΤΙΚΩΝ ΤΟΥ ΠΡΟΪΟΝΤΟΣ, ΠΑΡΑΡΤΗΜΑ II, A. ΕΠΙΣΗΜΑΝΣΗ, B. ΦΥΛΛΟ ΟΔΗΓΙΩΝ ΧΡΗΣΗΣ | H | CAP |  el | Json | gonal-f_clean.json\n",
      "2021-06-19 01:18:37,345 : Partition_w : Partitioning Json: gonal-f_clean.json | H | CAP |  el | Json | gonal-f_clean.json\n"
     ]
    },
    {
     "name": "stdout",
     "output_type": "stream",
     "text": [
      "PathJson F:\\Projects\\EMA\\Repository\\EMA EPI PoC\\function_code\\work\\H\\CAP\\GONAL-f\\el\\2021-06-06T10-02-52Z\\outputJSON\\gonal-f_clean.json\n",
      "Finding Heading  SmPC \n",
      "\n",
      "\n",
      "textHtml1 | ΠΑΡΑΡΤΗΜΑΙ | textQrd1 | ΠΑΡΑΡΤΗΜΑII | 0.959\n",
      "textHtml1 | ΠΑΡΑΡΤΗΜΑΙΙ | textQrd1 | ΠΑΡΑΡΤΗΜΑII | 0.945\n",
      "textHtml1 | ΠΑΡΑΡΤΗΜΑΙΙΙ | textQrd1 | ΠΑΡΑΡΤΗΜΑII | 0.934\n"
     ]
    },
    {
     "name": "stderr",
     "output_type": "stream",
     "text": [
      "2021-06-19 01:18:42,488 : Partition_w : Writing partition to file: F:\\Projects\\EMA\\Repository\\EMA EPI PoC\\function_code\\work\\H\\CAP\\GONAL-f\\el\\2021-06-06T10-02-52Z\\partitionedJSONs\\gonal-f_clean_SmPC.json | H | CAP |  el | Json | gonal-f_clean.json\n"
     ]
    },
    {
     "name": "stdout",
     "output_type": "stream",
     "text": [
      "endPositions [(24, 0.959), (1033, 0.945), (1117, 0.934)]\n",
      "startPos,endPos :  0 1033\n",
      "startPos,endPos :  0 1009\n",
      "Finding Heading  ΠΑΡΑΡΤΗΜΑ II \n",
      "\n",
      "\n",
      "textHtml1 | Α.ΕΠΙΣΗΜΑΝΣΗ | textQrd1 | A.ΕΠΙΣΗΜΑΝΣΗ | 0.966\n"
     ]
    },
    {
     "name": "stderr",
     "output_type": "stream",
     "text": [
      "2021-06-19 01:18:47,308 : Partition_w : Writing partition to file: F:\\Projects\\EMA\\Repository\\EMA EPI PoC\\function_code\\work\\H\\CAP\\GONAL-f\\el\\2021-06-06T10-02-52Z\\partitionedJSONs\\gonal-f_clean_ΠΑΡΑΡΤΗΜΑ II.json | H | CAP |  el | Json | gonal-f_clean.json\n"
     ]
    },
    {
     "name": "stdout",
     "output_type": "stream",
     "text": [
      "endPositions [(1147, 0.966)]\n",
      "startPos,endPos :  1009 1147\n",
      "startPos,endPos :  1009 1123\n",
      "Finding Heading  A. ΕΠΙΣΗΜΑΝΣΗ \n",
      "\n",
      "\n",
      "textHtml1 | Β.ΦΥΛΛΟΟΔΗΓΙΩΝΧΡΗΣΗΣ | textQrd1 | B.ΦΥΛΛΟΟΔΗΓΙΩΝΧΡΗΣΗΣ | 0.981\n"
     ]
    },
    {
     "name": "stderr",
     "output_type": "stream",
     "text": [
      "2021-06-19 01:18:53,118 : Partition_w : Writing partition to file: F:\\Projects\\EMA\\Repository\\EMA EPI PoC\\function_code\\work\\H\\CAP\\GONAL-f\\el\\2021-06-06T10-02-52Z\\partitionedJSONs\\gonal-f_clean_ ΕΠΙΣΗΜΑΝΣΗ.json | H | CAP |  el | Json | gonal-f_clean.json\n"
     ]
    },
    {
     "name": "stdout",
     "output_type": "stream",
     "text": [
      "endPositions [(2538, 0.981)]\n",
      "startPos,endPos :  1123 2538\n",
      "startPos,endPos :  1123 2514\n",
      "Finding Heading  "
     ]
    },
    {
     "name": "stderr",
     "output_type": "stream",
     "text": [
      "2021-06-19 01:18:53,185 : Partition_w : Writing partition to file: F:\\Projects\\EMA\\Repository\\EMA EPI PoC\\function_code\\work\\H\\CAP\\GONAL-f\\el\\2021-06-06T10-02-52Z\\partitionedJSONs\\gonal-f_clean_ ΦΥΛΛΟ ΟΔΗΓΙΩΝ ΧΡΗΣΗΣ.json | H | CAP |  el | Json | gonal-f_clean.json\n",
      "2021-06-19 01:18:53,357 : Flow Logger HTML_5 : ['gonal-f_clean_SmPC.json', 'gonal-f_clean_ΠΑΡΑΡΤΗΜΑ II.json', 'gonal-f_clean_ ΕΠΙΣΗΜΑΝΣΗ.json', 'gonal-f_clean_ ΦΥΛΛΟ ΟΔΗΓΙΩΝ ΧΡΗΣΗΣ.json'] | H | CAP |  el | HTML | gonal-f_clean.htm\n",
      "2021-06-19 01:18:53,362 : Flow Logger HTML_5 : Completed Json Split | H | CAP |  el | HTML | gonal-f_clean.htm\n",
      "2021-06-19 01:18:53,368 : Flow Logger HTML_5 : Split Json,0.2703 Min,0.444698 MB,67.97639 MB,52.6%\n",
      " | H | CAP |  el | HTML | gonal-f_clean.htm\n"
     ]
    },
    {
     "name": "stdout",
     "output_type": "stream",
     "text": [
      "B. ΦΥΛΛΟ ΟΔΗΓΙΩΝ ΧΡΗΣΗΣ \n",
      "\n",
      "\n",
      "startPos,endPos :  2514 3597\n"
     ]
    },
    {
     "name": "stderr",
     "output_type": "stream",
     "text": [
      "2021-06-19 01:18:53,376 : Flow Logger HTML_5 : Started Processing Partitioned Jsons | H | CAP |  el | HTML | gonal-f_clean.htm\n",
      "2021-06-19 01:18:53,384 : Flow Logger HTML_5 : \n",
      "\n",
      "\n",
      "\n",
      "||||||||||||||||||||||||||||||||0 ||||| gonal-f_clean_SmPC.json||||||||||||||||||||||||||||||||\n",
      "\n",
      "\n",
      "\n",
      " | H | CAP |  el | HTML | gonal-f_clean.htm\n",
      "2021-06-19 01:18:53,404 : Heading Extraction gonal-f_clean_SmPC.json_l : Starting Heading Extraction | H | CAP |  el | 0 | gonal-f_clean_SmPC.json\n"
     ]
    },
    {
     "name": "stdout",
     "output_type": "stream",
     "text": [
      "Metrics : Split Json,0.2703 Min,0.444698 MB,67.97639 MB,52.6%\n",
      "\n",
      "Index 0\n",
      "Starting Heading Extraction For File :- gonal-f_clean_SmPC.json\n",
      "File being processed: F:\\Projects\\EMA\\Repository\\EMA EPI PoC\\function_code\\work\\H\\CAP\\GONAL-f\\el\\2021-06-06T10-02-52Z\\partitionedJSONs\\gonal-f_clean_SmPC.json\n",
      "--------------------------------------------\n",
      "SmPC\n"
     ]
    },
    {
     "name": "stderr",
     "output_type": "stream",
     "text": [
      "2021-06-19 01:18:55,608 : Heading Extraction gonal-f_clean_SmPC.json_l : Started Extracting Heading | H | CAP |  el | 0 | gonal-f_clean_SmPC.json\n",
      "2021-06-19 01:18:56,709 : Heading Extraction gonal-f_clean_SmPC.json_l : Match Passed | H | CAP |  el | 0 | gonal-f_clean_SmPC.json | Doc txt :- 'ΠΕΡΙΛΗΨΗ ΤΩΝ ΧΑΡΑΚΤΗΡΙΣΤΙΚΩΝ ΤΟΥ ΠΡΟΪΟΝΤΟΣ' | Qrd txt :- 'ΠΕΡΙΛΗΨΗ ΤΩΝ ΧΑΡΑΚΤΗΡΙΣΤΙΚΩΝ ΤΟΥ ΠΡΟΪΟΝΤΟΣ' | Matched :- 'True'\n",
      "2021-06-19 01:18:56,723 : Heading Extraction gonal-f_clean_SmPC.json_l : Validation Passed As This The First Heading | H | CAP |  el | 0 | gonal-f_clean_SmPC.json | currHeadId :- '20001' | prevHeadingCurrId :- '' | prevHeadingFoundId :- ''\n",
      "2021-06-19 01:18:56,975 : Heading Extraction gonal-f_clean_SmPC.json_l : Match Passed | H | CAP |  el | 0 | gonal-f_clean_SmPC.json | Doc txt :- '1. ΟΝΟΜΑΣΙΑ ΤΟΥ ΦΑΡΜΑΚΕΥΤΙΚΟΥ ΠΡΟΪΟΝΤΟΣ' | Qrd txt :- '1. ΟΝΟΜΑΣΙΑ ΤΟΥ ΦΑΡΜΑΚΕΥΤΙΚΟΥ ΠΡΟΪΟΝΤΟΣ' | Matched :- 'True'\n",
      "2021-06-19 01:18:56,997 : Heading Extraction gonal-f_clean_SmPC.json_l : Validation Flow Is Broken | H | CAP |  el | 0 | gonal-f_clean_SmPC.json | currHeadId :- '20003' | prevHeadingCurrId :- '' | prevHeadingFoundId :- '20001'\n",
      "2021-06-19 01:18:57,012 : Heading Extraction gonal-f_clean_SmPC.json_l : Validation Passed | H | CAP |  el | 0 | gonal-f_clean_SmPC.json | currHeadId :- '20003' | prevHeadingCurrId :- '20001' | prevHeadingFoundId :- '20001'\n",
      "2021-06-19 01:19:06,730 : Heading Extraction gonal-f_clean_SmPC.json_l : Match Passed | H | CAP |  el | 0 | gonal-f_clean_SmPC.json | Doc txt :- '2. ΠΟΙΟΤΙΚΗ ΚΑΙ ΠΟΣΟΤΙΚΗ ΣΥΝΘΕΣΗ' | Qrd txt :- '2. ΠΟΙΟΤΙΚΗ ΚΑΙ ΠΟΣΟΤΙΚΗ ΣΥΝΘΕΣΗ' | Matched :- 'True'\n",
      "2021-06-19 01:19:06,761 : Heading Extraction gonal-f_clean_SmPC.json_l : Validation Passed | H | CAP |  el | 0 | gonal-f_clean_SmPC.json | currHeadId :- '20004' | prevHeadingCurrId :- '20003' | prevHeadingFoundId :- '20003'\n",
      "2021-06-19 01:19:21,569 : Heading Extraction gonal-f_clean_SmPC.json_l : Match Passed : <=4|17.39|(92, 87, 95)|0.981| | H | CAP |  el | 0 | gonal-f_clean_SmPC.json | Doc txt :- 'Έκδοχο με γνωστή δράση:' | Qrd txt :- 'Έκδοχο(α) με γνωστή δράση' | Matched :- 'True'\n",
      "2021-06-19 01:19:21,595 : Heading Extraction gonal-f_clean_SmPC.json_l : Validation Flow Is Broken | H | CAP |  el | 0 | gonal-f_clean_SmPC.json | currHeadId :- '20007' | prevHeadingCurrId :- '' | prevHeadingFoundId :- '20004'\n",
      "2021-06-19 01:19:21,631 : Heading Extraction gonal-f_clean_SmPC.json_l : Validation Passed | H | CAP |  el | 0 | gonal-f_clean_SmPC.json | currHeadId :- '20007' | prevHeadingCurrId :- '20004' | prevHeadingFoundId :- '20004'\n",
      "2021-06-19 01:19:26,319 : Heading Extraction gonal-f_clean_SmPC.json_l : Match Passed | H | CAP |  el | 0 | gonal-f_clean_SmPC.json | Doc txt :- '3. ΦΑΡΜΑΚΟΤΕΧΝΙΚΗ ΜΟΡΦΗ' | Qrd txt :- '3. ΦΑΡΜΑΚΟΤΕΧΝΙΚΗ ΜΟΡΦΗ' | Matched :- 'True'\n",
      "2021-06-19 01:19:26,351 : Heading Extraction gonal-f_clean_SmPC.json_l : Validation Flow Is Broken | H | CAP |  el | 0 | gonal-f_clean_SmPC.json | currHeadId :- '20008' | prevHeadingCurrId :- '' | prevHeadingFoundId :- '20004'\n",
      "2021-06-19 01:19:26,372 : Heading Extraction gonal-f_clean_SmPC.json_l : Validation Passed | H | CAP |  el | 0 | gonal-f_clean_SmPC.json | currHeadId :- '20008' | prevHeadingCurrId :- '20004' | prevHeadingFoundId :- '20004'\n",
      "2021-06-19 01:19:33,657 : Heading Extraction gonal-f_clean_SmPC.json_l : Match Passed | H | CAP |  el | 0 | gonal-f_clean_SmPC.json | Doc txt :- '4. ΚΛΙΝΙΚΕΣ ΠΛΗΡΟΦΟΡΙΕΣ' | Qrd txt :- '4. ΚΛΙΝΙΚΕΣ ΠΛΗΡΟΦΟΡΙΕΣ' | Matched :- 'True'\n",
      "2021-06-19 01:19:33,679 : Heading Extraction gonal-f_clean_SmPC.json_l : Validation Passed | H | CAP |  el | 0 | gonal-f_clean_SmPC.json | currHeadId :- '20009' | prevHeadingCurrId :- '20008' | prevHeadingFoundId :- '20008'\n",
      "2021-06-19 01:19:34,032 : Heading Extraction gonal-f_clean_SmPC.json_l : Match Passed | H | CAP |  el | 0 | gonal-f_clean_SmPC.json | Doc txt :- '4.1 Θεραπευτικές ενδείξεις' | Qrd txt :- '4.1 Θεραπευτικές ενδείξεις' | Matched :- 'True'\n",
      "2021-06-19 01:19:34,056 : Heading Extraction gonal-f_clean_SmPC.json_l : Validation Passed | H | CAP |  el | 0 | gonal-f_clean_SmPC.json | currHeadId :- '20010' | prevHeadingCurrId :- '20009' | prevHeadingFoundId :- '20009'\n",
      "2021-06-19 01:19:39,588 : Heading Extraction gonal-f_clean_SmPC.json_l : Match Passed | H | CAP |  el | 0 | gonal-f_clean_SmPC.json | Doc txt :- '4.2 Δοσολογία και τρόπος χορήγησης' | Qrd txt :- '4.2 Δοσολογία και τρόπος χορήγησης' | Matched :- 'True'\n",
      "2021-06-19 01:19:39,604 : Heading Extraction gonal-f_clean_SmPC.json_l : Validation Passed | H | CAP |  el | 0 | gonal-f_clean_SmPC.json | currHeadId :- '20011' | prevHeadingCurrId :- '20010' | prevHeadingFoundId :- '20010'\n",
      "2021-06-19 01:19:40,448 : Heading Extraction gonal-f_clean_SmPC.json_l : Match Passed | H | CAP |  el | 0 | gonal-f_clean_SmPC.json | Doc txt :- 'Δοσολογία' | Qrd txt :- 'Δοσολογία' | Matched :- 'True'\n",
      "2021-06-19 01:19:40,475 : Heading Extraction gonal-f_clean_SmPC.json_l : Validation Passed | H | CAP |  el | 0 | gonal-f_clean_SmPC.json | currHeadId :- '20012' | prevHeadingCurrId :- '20011' | prevHeadingFoundId :- '20011'\n"
     ]
    },
    {
     "name": "stdout",
     "output_type": "stream",
     "text": [
      "\n",
      "OriginalCheck\n",
      "\n"
     ]
    },
    {
     "name": "stderr",
     "output_type": "stream",
     "text": [
      "2021-06-19 01:19:58,050 : Heading Extraction gonal-f_clean_SmPC.json_l : Match Passed | H | CAP |  el | 0 | gonal-f_clean_SmPC.json | Doc txt :- 'Παιδιατρικός πληθυσμός' | Qrd txt :- 'Παιδιατρικός πληθυσμός' | Matched :- 'True'\n",
      "2021-06-19 01:19:58,073 : Heading Extraction gonal-f_clean_SmPC.json_l : Validation Passed | H | CAP |  el | 0 | gonal-f_clean_SmPC.json | currHeadId :- '20013' | prevHeadingCurrId :- '20011' | prevHeadingFoundId :- '20011'\n",
      "2021-06-19 01:20:01,391 : Heading Extraction gonal-f_clean_SmPC.json_l : Match Passed | H | CAP |  el | 0 | gonal-f_clean_SmPC.json | Doc txt :- 'Τρόπος χορήγησης' | Qrd txt :- 'Τρόπος χορήγησης' | Matched :- 'True'\n",
      "2021-06-19 01:20:01,448 : Heading Extraction gonal-f_clean_SmPC.json_l : Validation Passed | H | CAP |  el | 0 | gonal-f_clean_SmPC.json | currHeadId :- '20014' | prevHeadingCurrId :- '20011' | prevHeadingFoundId :- '20011'\n"
     ]
    },
    {
     "name": "stdout",
     "output_type": "stream",
     "text": [
      "\n",
      "OriginalCheck\n",
      "\n"
     ]
    },
    {
     "name": "stderr",
     "output_type": "stream",
     "text": [
      "2021-06-19 01:20:14,046 : Heading Extraction gonal-f_clean_SmPC.json_l : Match Passed | H | CAP |  el | 0 | gonal-f_clean_SmPC.json | Doc txt :- '4.3 Αντενδείξεις' | Qrd txt :- '4.3 Αντενδείξεις' | Matched :- 'True'\n",
      "2021-06-19 01:20:14,083 : Heading Extraction gonal-f_clean_SmPC.json_l : Validation Passed | H | CAP |  el | 0 | gonal-f_clean_SmPC.json | currHeadId :- '20016' | prevHeadingCurrId :- '20011' | prevHeadingFoundId :- '20011'\n",
      "2021-06-19 01:20:32,670 : Heading Extraction gonal-f_clean_SmPC.json_l : Match Passed | H | CAP |  el | 0 | gonal-f_clean_SmPC.json | Doc txt :- '4.4 Ειδικές προειδοποιήσεις και προφυλάξεις κατά τη χρήση' | Qrd txt :- '4.4 Ειδικές προειδοποιήσεις και προφυλάξεις κατά τη χρήση' | Matched :- 'True'\n",
      "2021-06-19 01:20:32,692 : Heading Extraction gonal-f_clean_SmPC.json_l : Validation Passed | H | CAP |  el | 0 | gonal-f_clean_SmPC.json | currHeadId :- '20017' | prevHeadingCurrId :- '20016' | prevHeadingFoundId :- '20016'\n",
      "2021-06-19 01:20:33,041 : Heading Extraction gonal-f_clean_SmPC.json_l : Match Passed | H | CAP |  el | 0 | gonal-f_clean_SmPC.json | Doc txt :- 'Ιχνηλασιμότητα' | Qrd txt :- 'Ιχνηλασιμότητα' | Matched :- 'True'\n",
      "2021-06-19 01:20:33,075 : Heading Extraction gonal-f_clean_SmPC.json_l : Validation Passed | H | CAP |  el | 0 | gonal-f_clean_SmPC.json | currHeadId :- '20018' | prevHeadingCurrId :- '20017' | prevHeadingFoundId :- '20017'\n",
      "2021-06-19 01:21:17,628 : Heading Extraction gonal-f_clean_SmPC.json_l : Match Passed | H | CAP |  el | 0 | gonal-f_clean_SmPC.json | Doc txt :- '4.5 Αλληλεπιδράσεις με άλλα φαρμακευτικά προϊόντα και άλλες μορφές αλληλεπίδρασης' | Qrd txt :- '4.5 Αλληλεπιδράσεις με άλλα φαρμακευτικά προϊόντα και άλλες μορφές αλληλεπίδρασης' | Matched :- 'True'\n",
      "2021-06-19 01:21:17,658 : Heading Extraction gonal-f_clean_SmPC.json_l : Validation Passed | H | CAP |  el | 0 | gonal-f_clean_SmPC.json | currHeadId :- '20020' | prevHeadingCurrId :- '20017' | prevHeadingFoundId :- '20017'\n",
      "2021-06-19 01:21:18,640 : Heading Extraction gonal-f_clean_SmPC.json_l : Match Passed | H | CAP |  el | 0 | gonal-f_clean_SmPC.json | Doc txt :- '4.6 Γονιμότητα, κύηση και γαλουχία' | Qrd txt :- '4.6 Γονιμότητα, κύηση και γαλουχία' | Matched :- 'True'\n",
      "2021-06-19 01:21:18,685 : Heading Extraction gonal-f_clean_SmPC.json_l : Validation Passed | H | CAP |  el | 0 | gonal-f_clean_SmPC.json | currHeadId :- '20022' | prevHeadingCurrId :- '20020' | prevHeadingFoundId :- '20020'\n",
      "2021-06-19 01:21:22,705 : Heading Extraction gonal-f_clean_SmPC.json_l : Match Passed | H | CAP |  el | 0 | gonal-f_clean_SmPC.json | Doc txt :- 'Θηλασμός' | Qrd txt :- 'Θηλασμός' | Matched :- 'True'\n",
      "2021-06-19 01:21:22,747 : Heading Extraction gonal-f_clean_SmPC.json_l : Validation Passed | H | CAP |  el | 0 | gonal-f_clean_SmPC.json | currHeadId :- '20024' | prevHeadingCurrId :- '20022' | prevHeadingFoundId :- '20022'\n",
      "2021-06-19 01:21:24,547 : Heading Extraction gonal-f_clean_SmPC.json_l : Match Passed | H | CAP |  el | 0 | gonal-f_clean_SmPC.json | Doc txt :- 'Γονιμότητα' | Qrd txt :- 'Γονιμότητα' | Matched :- 'True'\n",
      "2021-06-19 01:21:24,592 : Heading Extraction gonal-f_clean_SmPC.json_l : Validation Passed | H | CAP |  el | 0 | gonal-f_clean_SmPC.json | currHeadId :- '20025' | prevHeadingCurrId :- '20022' | prevHeadingFoundId :- '20022'\n"
     ]
    },
    {
     "name": "stdout",
     "output_type": "stream",
     "text": [
      "\n",
      "OriginalCheck\n",
      "\n"
     ]
    },
    {
     "name": "stderr",
     "output_type": "stream",
     "text": [
      "2021-06-19 01:21:27,089 : Heading Extraction gonal-f_clean_SmPC.json_l : Match Passed | H | CAP |  el | 0 | gonal-f_clean_SmPC.json | Doc txt :- '4.7 Επιδράσεις στην ικανότητα οδήγησης και χειρισμού μηχανημάτων' | Qrd txt :- '4.7 Επιδράσεις στην ικανότητα οδήγησης και χειρισμού μηχανημάτων' | Matched :- 'True'\n",
      "2021-06-19 01:21:27,114 : Heading Extraction gonal-f_clean_SmPC.json_l : Validation Passed | H | CAP |  el | 0 | gonal-f_clean_SmPC.json | currHeadId :- '20026' | prevHeadingCurrId :- '20022' | prevHeadingFoundId :- '20022'\n",
      "2021-06-19 01:21:29,154 : Heading Extraction gonal-f_clean_SmPC.json_l : Match Passed | H | CAP |  el | 0 | gonal-f_clean_SmPC.json | Doc txt :- '4.8 Ανεπιθύμητες ενέργειες' | Qrd txt :- '4.8 Ανεπιθύμητες ενέργειες' | Matched :- 'True'\n",
      "2021-06-19 01:21:29,176 : Heading Extraction gonal-f_clean_SmPC.json_l : Validation Passed | H | CAP |  el | 0 | gonal-f_clean_SmPC.json | currHeadId :- '20027' | prevHeadingCurrId :- '20026' | prevHeadingFoundId :- '20026'\n",
      "2021-06-19 01:22:35,621 : Heading Extraction gonal-f_clean_SmPC.json_l : Match Passed | H | CAP |  el | 0 | gonal-f_clean_SmPC.json | Doc txt :- 'Αναφορά πιθανολογούμενων ανεπιθύμητων ενεργειών' | Qrd txt :- 'Αναφορά πιθανολογούμενων ανεπιθύμητων ενεργειών' | Matched :- 'True'\n",
      "2021-06-19 01:22:35,674 : Heading Extraction gonal-f_clean_SmPC.json_l : Validation Passed | H | CAP |  el | 0 | gonal-f_clean_SmPC.json | currHeadId :- '20029' | prevHeadingCurrId :- '20027' | prevHeadingFoundId :- '20027'\n"
     ]
    },
    {
     "name": "stdout",
     "output_type": "stream",
     "text": [
      "\n",
      "OriginalCheck\n",
      "\n"
     ]
    },
    {
     "name": "stderr",
     "output_type": "stream",
     "text": [
      "2021-06-19 01:22:36,522 : Heading Extraction gonal-f_clean_SmPC.json_l : Match Passed | H | CAP |  el | 0 | gonal-f_clean_SmPC.json | Doc txt :- '4.9 Υπερδοσολογία' | Qrd txt :- '4.9 Υπερδοσολογία' | Matched :- 'True'\n",
      "2021-06-19 01:22:36,553 : Heading Extraction gonal-f_clean_SmPC.json_l : Validation Passed | H | CAP |  el | 0 | gonal-f_clean_SmPC.json | currHeadId :- '20030' | prevHeadingCurrId :- '20027' | prevHeadingFoundId :- '20027'\n",
      "2021-06-19 01:22:38,695 : Heading Extraction gonal-f_clean_SmPC.json_l : Match Passed | H | CAP |  el | 0 | gonal-f_clean_SmPC.json | Doc txt :- '5. ΦΑΡΜΑΚΟΛΟΓΙΚΕΣ ΙΔΙΟΤΗΤΕΣ' | Qrd txt :- '5. ΦΑΡΜΑΚΟΛΟΓΙΚΕΣ ΙΔΙΟΤΗΤΕΣ' | Matched :- 'True'\n",
      "2021-06-19 01:22:38,721 : Heading Extraction gonal-f_clean_SmPC.json_l : Validation Passed | H | CAP |  el | 0 | gonal-f_clean_SmPC.json | currHeadId :- '20032' | prevHeadingCurrId :- '20030' | prevHeadingFoundId :- '20030'\n",
      "2021-06-19 01:22:39,649 : Heading Extraction gonal-f_clean_SmPC.json_l : Match Passed | H | CAP |  el | 0 | gonal-f_clean_SmPC.json | Doc txt :- '5.1 Φαρμακοδυναμικές ιδιότητες' | Qrd txt :- '5.1 Φαρμακοδυναμικές ιδιότητες' | Matched :- 'True'\n",
      "2021-06-19 01:22:39,671 : Heading Extraction gonal-f_clean_SmPC.json_l : Validation Passed | H | CAP |  el | 0 | gonal-f_clean_SmPC.json | currHeadId :- '20033' | prevHeadingCurrId :- '20032' | prevHeadingFoundId :- '20032'\n",
      "2021-06-19 01:22:43,031 : Heading Extraction gonal-f_clean_SmPC.json_l : Match Passed : <=4|26.42|(85, 100, 95)|0.968| | H | CAP |  el | 0 | gonal-f_clean_SmPC.json | Doc txt :- 'Κλινική αποτελεσματικότητα και ασφάλεια στις γυναίκες' | Qrd txt :- 'Κλινική αποτελεσματικότητα και ασφάλεια' | Matched :- 'True'\n",
      "2021-06-19 01:22:43,100 : Heading Extraction gonal-f_clean_SmPC.json_l : Validation Passed | H | CAP |  el | 0 | gonal-f_clean_SmPC.json | currHeadId :- '20036' | prevHeadingCurrId :- '20033' | prevHeadingFoundId :- '20033'\n",
      "2021-06-19 01:22:53,130 : Heading Extraction gonal-f_clean_SmPC.json_l : Match Passed : <=4|25.0|(86, 100, 95)|0.97| | H | CAP |  el | 0 | gonal-f_clean_SmPC.json | Doc txt :- 'Κλινική αποτελεσματικότητα και ασφάλεια στους άνδρες' | Qrd txt :- 'Κλινική αποτελεσματικότητα και ασφάλεια' | Matched :- 'True'\n",
      "2021-06-19 01:22:53,218 : Heading Extraction gonal-f_clean_SmPC.json_l : Validation Passed | H | CAP |  el | 0 | gonal-f_clean_SmPC.json | currHeadId :- '20036' | prevHeadingCurrId :- '20033' | prevHeadingFoundId :- '20033'\n",
      "2021-06-19 01:22:57,052 : Heading Extraction gonal-f_clean_SmPC.json_l : Match Passed | H | CAP |  el | 0 | gonal-f_clean_SmPC.json | Doc txt :- '5.2 Φαρμακοκινητικές ιδιότητες' | Qrd txt :- '5.2 Φαρμακοκινητικές ιδιότητες' | Matched :- 'True'\n",
      "2021-06-19 01:22:57,092 : Heading Extraction gonal-f_clean_SmPC.json_l : Validation Passed | H | CAP |  el | 0 | gonal-f_clean_SmPC.json | currHeadId :- '20038' | prevHeadingCurrId :- '20033' | prevHeadingFoundId :- '20033'\n",
      "2021-06-19 01:22:58,768 : Heading Extraction gonal-f_clean_SmPC.json_l : Match Passed | H | CAP |  el | 0 | gonal-f_clean_SmPC.json | Doc txt :- '5.3 Προκλινικά δεδομένα για την ασφάλεια' | Qrd txt :- '5.3 Προκλινικά δεδομένα για την ασφάλεια' | Matched :- 'True'\n",
      "2021-06-19 01:22:58,798 : Heading Extraction gonal-f_clean_SmPC.json_l : Validation Passed | H | CAP |  el | 0 | gonal-f_clean_SmPC.json | currHeadId :- '20045' | prevHeadingCurrId :- '20038' | prevHeadingFoundId :- '20038'\n",
      "2021-06-19 01:23:06,838 : Heading Extraction gonal-f_clean_SmPC.json_l : Match Passed | H | CAP |  el | 0 | gonal-f_clean_SmPC.json | Doc txt :- '6. ΦΑΡΜΑΚΕΥΤΙΚΕΣ ΠΛΗΡΟΦΟΡΙΕΣ' | Qrd txt :- '6. ΦΑΡΜΑΚΕΥΤΙΚΕΣ ΠΛΗΡΟΦΟΡΙΕΣ' | Matched :- 'True'\n",
      "2021-06-19 01:23:06,858 : Heading Extraction gonal-f_clean_SmPC.json_l : Validation Passed | H | CAP |  el | 0 | gonal-f_clean_SmPC.json | currHeadId :- '20047' | prevHeadingCurrId :- '20045' | prevHeadingFoundId :- '20045'\n",
      "2021-06-19 01:23:07,930 : Heading Extraction gonal-f_clean_SmPC.json_l : Match Passed | H | CAP |  el | 0 | gonal-f_clean_SmPC.json | Doc txt :- '6.1 Κατάλογος εκδόχων' | Qrd txt :- '6.1 Κατάλογος εκδόχων' | Matched :- 'True'\n",
      "2021-06-19 01:23:07,954 : Heading Extraction gonal-f_clean_SmPC.json_l : Validation Passed | H | CAP |  el | 0 | gonal-f_clean_SmPC.json | currHeadId :- '20048' | prevHeadingCurrId :- '20047' | prevHeadingFoundId :- '20047'\n",
      "2021-06-19 01:23:35,228 : Heading Extraction gonal-f_clean_SmPC.json_l : Match Passed | H | CAP |  el | 0 | gonal-f_clean_SmPC.json | Doc txt :- '6.2 Ασυμβατότητες' | Qrd txt :- '6.2 Ασυμβατότητες' | Matched :- 'True'\n",
      "2021-06-19 01:23:35,252 : Heading Extraction gonal-f_clean_SmPC.json_l : Validation Passed | H | CAP |  el | 0 | gonal-f_clean_SmPC.json | currHeadId :- '20049' | prevHeadingCurrId :- '20048' | prevHeadingFoundId :- '20048'\n",
      "2021-06-19 01:23:40,495 : Heading Extraction gonal-f_clean_SmPC.json_l : Match Passed | H | CAP |  el | 0 | gonal-f_clean_SmPC.json | Doc txt :- '6.3 Διάρκεια ζωής' | Qrd txt :- '6.3 Διάρκεια ζωής' | Matched :- 'True'\n",
      "2021-06-19 01:23:40,523 : Heading Extraction gonal-f_clean_SmPC.json_l : Validation Passed | H | CAP |  el | 0 | gonal-f_clean_SmPC.json | currHeadId :- '20050' | prevHeadingCurrId :- '20049' | prevHeadingFoundId :- '20049'\n",
      "2021-06-19 01:23:49,849 : Heading Extraction gonal-f_clean_SmPC.json_l : Match Passed | H | CAP |  el | 0 | gonal-f_clean_SmPC.json | Doc txt :- '6.4 Ιδιαίτερες προφυλάξεις κατά τη φύλαξη του προϊόντος' | Qrd txt :- '6.4 Ιδιαίτερες προφυλάξεις κατά τη φύλαξη του προϊόντος' | Matched :- 'True'\n",
      "2021-06-19 01:23:49,897 : Heading Extraction gonal-f_clean_SmPC.json_l : Validation Passed | H | CAP |  el | 0 | gonal-f_clean_SmPC.json | currHeadId :- '20051' | prevHeadingCurrId :- '20050' | prevHeadingFoundId :- '20050'\n",
      "2021-06-19 01:24:01,435 : Heading Extraction gonal-f_clean_SmPC.json_l : Match Passed : SpecialCase1|182.86|(45, 77, 86)|0.671| | H | CAP |  el | 0 | gonal-f_clean_SmPC.json | Doc txt :- '6.5     Φύση και συστατικά του περιέκτη' | Qrd txt :- '6.5 Φύση και συστατικά του περιέκτη <και ειδικός εξοπλισμός για τη χρήση, τη χορήγηση ή την εμφύτευση>' | Matched :- 'True'\n",
      "2021-06-19 01:24:01,470 : Heading Extraction gonal-f_clean_SmPC.json_l : Validation Passed | H | CAP |  el | 0 | gonal-f_clean_SmPC.json | currHeadId :- '20052' | prevHeadingCurrId :- '20051' | prevHeadingFoundId :- '20051'\n",
      "2021-06-19 01:24:11,456 : Heading Extraction gonal-f_clean_SmPC.json_l : Match Passed : SpecialCase2|11.54|(95, 90, 95)|0.978| | H | CAP |  el | 0 | gonal-f_clean_SmPC.json | Doc txt :- '6.6     Ιδιαίτερες προφυλάξεις απόρριψης και άλλος χειρισμός' | Qrd txt :- '6.6 Ιδιαίτερες προφυλάξεις απόρριψης <και άλλος χειρισμός>' | Matched :- 'True'\n",
      "2021-06-19 01:24:11,492 : Heading Extraction gonal-f_clean_SmPC.json_l : Validation Passed | H | CAP |  el | 0 | gonal-f_clean_SmPC.json | currHeadId :- '20053' | prevHeadingCurrId :- '20052' | prevHeadingFoundId :- '20052'\n",
      "2021-06-19 01:24:31,854 : Heading Extraction gonal-f_clean_SmPC.json_l : Match Passed | H | CAP |  el | 0 | gonal-f_clean_SmPC.json | Doc txt :- '7. ΚΑΤΟΧΟΣ ΤΗΣ ΑΔΕΙΑΣ ΚΥΚΛΟΦΟΡΙΑΣ' | Qrd txt :- '7. ΚΑΤΟΧΟΣ ΤΗΣ ΑΔΕΙΑΣ ΚΥΚΛΟΦΟΡΙΑΣ' | Matched :- 'True'\n",
      "2021-06-19 01:24:31,883 : Heading Extraction gonal-f_clean_SmPC.json_l : Validation Passed | H | CAP |  el | 0 | gonal-f_clean_SmPC.json | currHeadId :- '20055' | prevHeadingCurrId :- '20053' | prevHeadingFoundId :- '20053'\n",
      "2021-06-19 01:24:37,318 : Heading Extraction gonal-f_clean_SmPC.json_l : Match Passed : <=4|13.79|(94, 86, 94)|0.951| | H | CAP |  el | 0 | gonal-f_clean_SmPC.json | Doc txt :- '8.       ΑΡΙΘΜΟΙ ΑΔΕΙΑΣ ΚΥΚΛΟΦΟΡΙΑΣ' | Qrd txt :- '8. ΑΡΙΘΜΟΣ(ΟΙ) ΑΔΕΙΑΣ ΚΥΚΛΟΦΟΡΙΑΣ' | Matched :- 'True'\n",
      "2021-06-19 01:24:37,351 : Heading Extraction gonal-f_clean_SmPC.json_l : Validation Passed | H | CAP |  el | 0 | gonal-f_clean_SmPC.json | currHeadId :- '20056' | prevHeadingCurrId :- '20055' | prevHeadingFoundId :- '20055'\n",
      "2021-06-19 01:24:44,378 : Heading Extraction gonal-f_clean_SmPC.json_l : Match Passed : <=4|13.79|(94, 86, 95)|0.959| | H | CAP |  el | 0 | gonal-f_clean_SmPC.json | Doc txt :- '8.       ΑΡΙΘΜΟΣ ΑΔΕΙΑΣ ΚΥΚΛΟΦΟΡΙΑΣ' | Qrd txt :- '8. ΑΡΙΘΜΟΣ(ΟΙ) ΑΔΕΙΑΣ ΚΥΚΛΟΦΟΡΙΑΣ' | Matched :- 'True'\n",
      "2021-06-19 01:24:44,410 : Heading Extraction gonal-f_clean_SmPC.json_l : Validation Passed As Previous Heading Same As Current | H | CAP |  el | 0 | gonal-f_clean_SmPC.json | currHeadId :- '20056' | prevHeadingCurrId :- '' | prevHeadingFoundId :- '20056'\n"
     ]
    },
    {
     "name": "stderr",
     "output_type": "stream",
     "text": [
      "2021-06-19 01:24:52,403 : Heading Extraction gonal-f_clean_SmPC.json_l : Match Passed | H | CAP |  el | 0 | gonal-f_clean_SmPC.json | Doc txt :- '9. ΗΜΕΡΟΜΗΝΙΑ ΠΡΩΤΗΣ ΕΓΚΡΙΣΗΣ/ΑΝΑΝΕΩΣΗΣ ΤΗΣ ΑΔΕΙΑΣ' | Qrd txt :- '9. ΗΜΕΡΟΜΗΝΙΑ ΠΡΩΤΗΣ ΕΓΚΡΙΣΗΣ/ΑΝΑΝΕΩΣΗΣ ΤΗΣ ΑΔΕΙΑΣ' | Matched :- 'True'\n",
      "2021-06-19 01:24:52,436 : Heading Extraction gonal-f_clean_SmPC.json_l : Validation Passed | H | CAP |  el | 0 | gonal-f_clean_SmPC.json | currHeadId :- '20057' | prevHeadingCurrId :- '20056' | prevHeadingFoundId :- '20056'\n",
      "2021-06-19 01:24:57,999 : Heading Extraction gonal-f_clean_SmPC.json_l : Match Passed | H | CAP |  el | 0 | gonal-f_clean_SmPC.json | Doc txt :- '10. ΗΜΕΡΟΜΗΝΙΑ ΑΝΑΘΕΩΡΗΣΗΣ ΤΟΥ ΚΕΙΜΕΝΟΥ' | Qrd txt :- '10. ΗΜΕΡΟΜΗΝΙΑ ΑΝΑΘΕΩΡΗΣΗΣ ΤΟΥ ΚΕΙΜΕΝΟΥ' | Matched :- 'True'\n",
      "2021-06-19 01:24:58,015 : Heading Extraction gonal-f_clean_SmPC.json_l : Validation Passed | H | CAP |  el | 0 | gonal-f_clean_SmPC.json | currHeadId :- '20058' | prevHeadingCurrId :- '20057' | prevHeadingFoundId :- '20057'\n",
      "2021-06-19 01:24:59,332 : Heading Extraction gonal-f_clean_SmPC.json_l : Match Passed | H | CAP |  el | 0 | gonal-f_clean_SmPC.json | Doc txt :- '1. ΟΝΟΜΑΣΙΑ ΤΟΥ ΦΑΡΜΑΚΕΥΤΙΚΟΥ ΠΡΟΪΟΝΤΟΣ' | Qrd txt :- '1. ΟΝΟΜΑΣΙΑ ΤΟΥ ΦΑΡΜΑΚΕΥΤΙΚΟΥ ΠΡΟΪΟΝΤΟΣ' | Matched :- 'True'\n",
      "2021-06-19 01:24:59,347 : Heading Extraction gonal-f_clean_SmPC.json_l : Validation Failed As Wrong Heading Found | H | CAP |  el | 0 | gonal-f_clean_SmPC.json | currHeadId :- '20003' | prevHeadingCurrId :- '' | prevHeadingFoundId :- '20058'\n",
      "2021-06-19 01:25:00,463 : Heading Extraction gonal-f_clean_SmPC.json_l : End Of Sub Section | H | CAP |  el | 0 | gonal-f_clean_SmPC.json\n",
      "2021-06-19 01:25:00,631 : Heading Extraction gonal-f_clean_SmPC.json_l : Match Passed | H | CAP |  el | 0 | gonal-f_clean_SmPC.json | Doc txt :- '1. ΟΝΟΜΑΣΙΑ ΤΟΥ ΦΑΡΜΑΚΕΥΤΙΚΟΥ ΠΡΟΪΟΝΤΟΣ' | Qrd txt :- '1. ΟΝΟΜΑΣΙΑ ΤΟΥ ΦΑΡΜΑΚΕΥΤΙΚΟΥ ΠΡΟΪΟΝΤΟΣ' | Matched :- 'True'\n",
      "2021-06-19 01:25:00,648 : Heading Extraction gonal-f_clean_SmPC.json_l : Validation Passed As This The First Heading | H | CAP |  el | 0 | gonal-f_clean_SmPC.json | currHeadId :- '20003' | prevHeadingCurrId :- '' | prevHeadingFoundId :- ''\n"
     ]
    },
    {
     "name": "stdout",
     "output_type": "stream",
     "text": [
      "oooooooooooooooooooooooooooooooooooooooo END OF Sub Section oooooooooooooooooooooooooooooooooooooooooooooooooooooooooooo\n"
     ]
    },
    {
     "name": "stderr",
     "output_type": "stream",
     "text": [
      "2021-06-19 01:25:07,401 : Heading Extraction gonal-f_clean_SmPC.json_l : Match Passed | H | CAP |  el | 0 | gonal-f_clean_SmPC.json | Doc txt :- '2. ΠΟΙΟΤΙΚΗ ΚΑΙ ΠΟΣΟΤΙΚΗ ΣΥΝΘΕΣΗ' | Qrd txt :- '2. ΠΟΙΟΤΙΚΗ ΚΑΙ ΠΟΣΟΤΙΚΗ ΣΥΝΘΕΣΗ' | Matched :- 'True'\n",
      "2021-06-19 01:25:07,415 : Heading Extraction gonal-f_clean_SmPC.json_l : Validation Passed | H | CAP |  el | 0 | gonal-f_clean_SmPC.json | currHeadId :- '20004' | prevHeadingCurrId :- '20003' | prevHeadingFoundId :- '20003'\n",
      "2021-06-19 01:25:17,068 : Heading Extraction gonal-f_clean_SmPC.json_l : Match Passed | H | CAP |  el | 0 | gonal-f_clean_SmPC.json | Doc txt :- '3. ΦΑΡΜΑΚΟΤΕΧΝΙΚΗ ΜΟΡΦΗ' | Qrd txt :- '3. ΦΑΡΜΑΚΟΤΕΧΝΙΚΗ ΜΟΡΦΗ' | Matched :- 'True'\n",
      "2021-06-19 01:25:17,082 : Heading Extraction gonal-f_clean_SmPC.json_l : Validation Flow Is Broken | H | CAP |  el | 0 | gonal-f_clean_SmPC.json | currHeadId :- '20008' | prevHeadingCurrId :- '' | prevHeadingFoundId :- '20004'\n",
      "2021-06-19 01:25:17,090 : Heading Extraction gonal-f_clean_SmPC.json_l : Validation Passed | H | CAP |  el | 0 | gonal-f_clean_SmPC.json | currHeadId :- '20008' | prevHeadingCurrId :- '20004' | prevHeadingFoundId :- '20004'\n",
      "2021-06-19 01:25:20,576 : Heading Extraction gonal-f_clean_SmPC.json_l : Match Passed | H | CAP |  el | 0 | gonal-f_clean_SmPC.json | Doc txt :- '4. ΚΛΙΝΙΚΕΣ ΠΛΗΡΟΦΟΡΙΕΣ' | Qrd txt :- '4. ΚΛΙΝΙΚΕΣ ΠΛΗΡΟΦΟΡΙΕΣ' | Matched :- 'True'\n",
      "2021-06-19 01:25:20,601 : Heading Extraction gonal-f_clean_SmPC.json_l : Validation Passed | H | CAP |  el | 0 | gonal-f_clean_SmPC.json | currHeadId :- '20009' | prevHeadingCurrId :- '20008' | prevHeadingFoundId :- '20008'\n",
      "2021-06-19 01:25:20,886 : Heading Extraction gonal-f_clean_SmPC.json_l : Match Passed | H | CAP |  el | 0 | gonal-f_clean_SmPC.json | Doc txt :- '4.1 Θεραπευτικές ενδείξεις' | Qrd txt :- '4.1 Θεραπευτικές ενδείξεις' | Matched :- 'True'\n",
      "2021-06-19 01:25:20,904 : Heading Extraction gonal-f_clean_SmPC.json_l : Validation Passed | H | CAP |  el | 0 | gonal-f_clean_SmPC.json | currHeadId :- '20010' | prevHeadingCurrId :- '20009' | prevHeadingFoundId :- '20009'\n",
      "2021-06-19 01:25:26,900 : Heading Extraction gonal-f_clean_SmPC.json_l : Match Passed | H | CAP |  el | 0 | gonal-f_clean_SmPC.json | Doc txt :- '4.2 Δοσολογία και τρόπος χορήγησης' | Qrd txt :- '4.2 Δοσολογία και τρόπος χορήγησης' | Matched :- 'True'\n",
      "2021-06-19 01:25:26,928 : Heading Extraction gonal-f_clean_SmPC.json_l : Validation Passed | H | CAP |  el | 0 | gonal-f_clean_SmPC.json | currHeadId :- '20011' | prevHeadingCurrId :- '20010' | prevHeadingFoundId :- '20010'\n",
      "2021-06-19 01:25:30,300 : Heading Extraction gonal-f_clean_SmPC.json_l : Match Passed | H | CAP |  el | 0 | gonal-f_clean_SmPC.json | Doc txt :- 'Δοσολογία' | Qrd txt :- 'Δοσολογία' | Matched :- 'True'\n",
      "2021-06-19 01:25:30,340 : Heading Extraction gonal-f_clean_SmPC.json_l : Validation Passed | H | CAP |  el | 0 | gonal-f_clean_SmPC.json | currHeadId :- '20012' | prevHeadingCurrId :- '20011' | prevHeadingFoundId :- '20011'\n"
     ]
    },
    {
     "name": "stdout",
     "output_type": "stream",
     "text": [
      "\n",
      "OriginalCheck\n",
      "\n"
     ]
    },
    {
     "name": "stderr",
     "output_type": "stream",
     "text": [
      "2021-06-19 01:26:00,306 : Heading Extraction gonal-f_clean_SmPC.json_l : Match Passed | H | CAP |  el | 0 | gonal-f_clean_SmPC.json | Doc txt :- 'Παιδιατρικός πληθυσμός' | Qrd txt :- 'Παιδιατρικός πληθυσμός' | Matched :- 'True'\n",
      "2021-06-19 01:26:00,361 : Heading Extraction gonal-f_clean_SmPC.json_l : Validation Passed | H | CAP |  el | 0 | gonal-f_clean_SmPC.json | currHeadId :- '20013' | prevHeadingCurrId :- '20011' | prevHeadingFoundId :- '20011'\n",
      "2021-06-19 01:26:02,292 : Heading Extraction gonal-f_clean_SmPC.json_l : Match Passed | H | CAP |  el | 0 | gonal-f_clean_SmPC.json | Doc txt :- 'Τρόπος χορήγησης' | Qrd txt :- 'Τρόπος χορήγησης' | Matched :- 'True'\n",
      "2021-06-19 01:26:02,331 : Heading Extraction gonal-f_clean_SmPC.json_l : Validation Passed | H | CAP |  el | 0 | gonal-f_clean_SmPC.json | currHeadId :- '20014' | prevHeadingCurrId :- '20011' | prevHeadingFoundId :- '20011'\n"
     ]
    },
    {
     "name": "stdout",
     "output_type": "stream",
     "text": [
      "\n",
      "OriginalCheck\n",
      "\n"
     ]
    },
    {
     "name": "stderr",
     "output_type": "stream",
     "text": [
      "2021-06-19 01:26:06,442 : Heading Extraction gonal-f_clean_SmPC.json_l : Match Passed | H | CAP |  el | 0 | gonal-f_clean_SmPC.json | Doc txt :- '4.3 Αντενδείξεις' | Qrd txt :- '4.3 Αντενδείξεις' | Matched :- 'True'\n",
      "2021-06-19 01:26:06,476 : Heading Extraction gonal-f_clean_SmPC.json_l : Validation Passed | H | CAP |  el | 0 | gonal-f_clean_SmPC.json | currHeadId :- '20016' | prevHeadingCurrId :- '20011' | prevHeadingFoundId :- '20011'\n",
      "2021-06-19 01:26:24,378 : Heading Extraction gonal-f_clean_SmPC.json_l : Match Passed | H | CAP |  el | 0 | gonal-f_clean_SmPC.json | Doc txt :- '4.4 Ειδικές προειδοποιήσεις και προφυλάξεις κατά τη χρήση' | Qrd txt :- '4.4 Ειδικές προειδοποιήσεις και προφυλάξεις κατά τη χρήση' | Matched :- 'True'\n",
      "2021-06-19 01:26:24,410 : Heading Extraction gonal-f_clean_SmPC.json_l : Validation Passed | H | CAP |  el | 0 | gonal-f_clean_SmPC.json | currHeadId :- '20017' | prevHeadingCurrId :- '20016' | prevHeadingFoundId :- '20016'\n",
      "2021-06-19 01:26:24,907 : Heading Extraction gonal-f_clean_SmPC.json_l : Match Passed | H | CAP |  el | 0 | gonal-f_clean_SmPC.json | Doc txt :- 'Ιχνηλασιμότητα' | Qrd txt :- 'Ιχνηλασιμότητα' | Matched :- 'True'\n",
      "2021-06-19 01:26:24,952 : Heading Extraction gonal-f_clean_SmPC.json_l : Validation Passed | H | CAP |  el | 0 | gonal-f_clean_SmPC.json | currHeadId :- '20018' | prevHeadingCurrId :- '20017' | prevHeadingFoundId :- '20017'\n",
      "2021-06-19 01:27:03,153 : Heading Extraction gonal-f_clean_SmPC.json_l : Match Passed | H | CAP |  el | 0 | gonal-f_clean_SmPC.json | Doc txt :- '4.5 Αλληλεπιδράσεις με άλλα φαρμακευτικά προϊόντα και άλλες μορφές αλληλεπίδρασης' | Qrd txt :- '4.5 Αλληλεπιδράσεις με άλλα φαρμακευτικά προϊόντα και άλλες μορφές αλληλεπίδρασης' | Matched :- 'True'\n",
      "2021-06-19 01:27:03,178 : Heading Extraction gonal-f_clean_SmPC.json_l : Validation Passed | H | CAP |  el | 0 | gonal-f_clean_SmPC.json | currHeadId :- '20020' | prevHeadingCurrId :- '20017' | prevHeadingFoundId :- '20017'\n",
      "2021-06-19 01:27:03,969 : Heading Extraction gonal-f_clean_SmPC.json_l : Match Passed | H | CAP |  el | 0 | gonal-f_clean_SmPC.json | Doc txt :- '4.6 Γονιμότητα, κύηση και γαλουχία' | Qrd txt :- '4.6 Γονιμότητα, κύηση και γαλουχία' | Matched :- 'True'\n",
      "2021-06-19 01:27:03,992 : Heading Extraction gonal-f_clean_SmPC.json_l : Validation Passed | H | CAP |  el | 0 | gonal-f_clean_SmPC.json | currHeadId :- '20022' | prevHeadingCurrId :- '20020' | prevHeadingFoundId :- '20020'\n",
      "2021-06-19 01:27:07,270 : Heading Extraction gonal-f_clean_SmPC.json_l : Match Passed | H | CAP |  el | 0 | gonal-f_clean_SmPC.json | Doc txt :- 'Θηλασμός' | Qrd txt :- 'Θηλασμός' | Matched :- 'True'\n",
      "2021-06-19 01:27:07,308 : Heading Extraction gonal-f_clean_SmPC.json_l : Validation Passed | H | CAP |  el | 0 | gonal-f_clean_SmPC.json | currHeadId :- '20024' | prevHeadingCurrId :- '20022' | prevHeadingFoundId :- '20022'\n",
      "2021-06-19 01:27:10,376 : Heading Extraction gonal-f_clean_SmPC.json_l : Match Passed | H | CAP |  el | 0 | gonal-f_clean_SmPC.json | Doc txt :- 'Γονιμότητα' | Qrd txt :- 'Γονιμότητα' | Matched :- 'True'\n",
      "2021-06-19 01:27:10,465 : Heading Extraction gonal-f_clean_SmPC.json_l : Validation Passed | H | CAP |  el | 0 | gonal-f_clean_SmPC.json | currHeadId :- '20025' | prevHeadingCurrId :- '20022' | prevHeadingFoundId :- '20022'\n"
     ]
    },
    {
     "name": "stdout",
     "output_type": "stream",
     "text": [
      "\n",
      "OriginalCheck\n",
      "\n"
     ]
    },
    {
     "name": "stderr",
     "output_type": "stream",
     "text": [
      "2021-06-19 01:27:14,129 : Heading Extraction gonal-f_clean_SmPC.json_l : Match Passed | H | CAP |  el | 0 | gonal-f_clean_SmPC.json | Doc txt :- '4.7 Επιδράσεις στην ικανότητα οδήγησης και χειρισμού μηχανημάτων' | Qrd txt :- '4.7 Επιδράσεις στην ικανότητα οδήγησης και χειρισμού μηχανημάτων' | Matched :- 'True'\n",
      "2021-06-19 01:27:14,170 : Heading Extraction gonal-f_clean_SmPC.json_l : Validation Passed | H | CAP |  el | 0 | gonal-f_clean_SmPC.json | currHeadId :- '20026' | prevHeadingCurrId :- '20022' | prevHeadingFoundId :- '20022'\n",
      "2021-06-19 01:27:17,628 : Heading Extraction gonal-f_clean_SmPC.json_l : Match Passed | H | CAP |  el | 0 | gonal-f_clean_SmPC.json | Doc txt :- '4.8 Ανεπιθύμητες ενέργειες' | Qrd txt :- '4.8 Ανεπιθύμητες ενέργειες' | Matched :- 'True'\n",
      "2021-06-19 01:27:17,665 : Heading Extraction gonal-f_clean_SmPC.json_l : Validation Passed | H | CAP |  el | 0 | gonal-f_clean_SmPC.json | currHeadId :- '20027' | prevHeadingCurrId :- '20026' | prevHeadingFoundId :- '20026'\n",
      "2021-06-19 01:28:29,238 : Heading Extraction gonal-f_clean_SmPC.json_l : Match Passed | H | CAP |  el | 0 | gonal-f_clean_SmPC.json | Doc txt :- 'Αναφορά πιθανολογούμενων ανεπιθύμητων ενεργειών' | Qrd txt :- 'Αναφορά πιθανολογούμενων ανεπιθύμητων ενεργειών' | Matched :- 'True'\n",
      "2021-06-19 01:28:29,274 : Heading Extraction gonal-f_clean_SmPC.json_l : Validation Passed | H | CAP |  el | 0 | gonal-f_clean_SmPC.json | currHeadId :- '20029' | prevHeadingCurrId :- '20027' | prevHeadingFoundId :- '20027'\n"
     ]
    },
    {
     "name": "stdout",
     "output_type": "stream",
     "text": [
      "\n",
      "OriginalCheck\n",
      "\n"
     ]
    },
    {
     "name": "stderr",
     "output_type": "stream",
     "text": [
      "2021-06-19 01:28:30,192 : Heading Extraction gonal-f_clean_SmPC.json_l : Match Passed | H | CAP |  el | 0 | gonal-f_clean_SmPC.json | Doc txt :- '4.9 Υπερδοσολογία' | Qrd txt :- '4.9 Υπερδοσολογία' | Matched :- 'True'\n",
      "2021-06-19 01:28:30,245 : Heading Extraction gonal-f_clean_SmPC.json_l : Validation Passed | H | CAP |  el | 0 | gonal-f_clean_SmPC.json | currHeadId :- '20030' | prevHeadingCurrId :- '20027' | prevHeadingFoundId :- '20027'\n",
      "2021-06-19 01:28:33,036 : Heading Extraction gonal-f_clean_SmPC.json_l : Match Passed | H | CAP |  el | 0 | gonal-f_clean_SmPC.json | Doc txt :- '5. ΦΑΡΜΑΚΟΛΟΓΙΚΕΣ ΙΔΙΟΤΗΤΕΣ' | Qrd txt :- '5. ΦΑΡΜΑΚΟΛΟΓΙΚΕΣ ΙΔΙΟΤΗΤΕΣ' | Matched :- 'True'\n",
      "2021-06-19 01:28:33,064 : Heading Extraction gonal-f_clean_SmPC.json_l : Validation Passed | H | CAP |  el | 0 | gonal-f_clean_SmPC.json | currHeadId :- '20032' | prevHeadingCurrId :- '20030' | prevHeadingFoundId :- '20030'\n",
      "2021-06-19 01:28:34,073 : Heading Extraction gonal-f_clean_SmPC.json_l : Match Passed | H | CAP |  el | 0 | gonal-f_clean_SmPC.json | Doc txt :- '5.1 Φαρμακοδυναμικές ιδιότητες' | Qrd txt :- '5.1 Φαρμακοδυναμικές ιδιότητες' | Matched :- 'True'\n",
      "2021-06-19 01:28:34,100 : Heading Extraction gonal-f_clean_SmPC.json_l : Validation Passed | H | CAP |  el | 0 | gonal-f_clean_SmPC.json | currHeadId :- '20033' | prevHeadingCurrId :- '20032' | prevHeadingFoundId :- '20032'\n",
      "2021-06-19 01:28:36,681 : Heading Extraction gonal-f_clean_SmPC.json_l : Match Passed : <=4|26.42|(85, 100, 95)|0.968| | H | CAP |  el | 0 | gonal-f_clean_SmPC.json | Doc txt :- 'Κλινική αποτελεσματικότητα και ασφάλεια στις γυναίκες' | Qrd txt :- 'Κλινική αποτελεσματικότητα και ασφάλεια' | Matched :- 'True'\n",
      "2021-06-19 01:28:36,717 : Heading Extraction gonal-f_clean_SmPC.json_l : Validation Passed | H | CAP |  el | 0 | gonal-f_clean_SmPC.json | currHeadId :- '20036' | prevHeadingCurrId :- '20033' | prevHeadingFoundId :- '20033'\n",
      "2021-06-19 01:28:41,314 : Heading Extraction gonal-f_clean_SmPC.json_l : Match Passed : <=4|25.0|(86, 100, 95)|0.97| | H | CAP |  el | 0 | gonal-f_clean_SmPC.json | Doc txt :- 'Κλινική αποτελεσματικότητα και ασφάλεια στους άνδρες' | Qrd txt :- 'Κλινική αποτελεσματικότητα και ασφάλεια' | Matched :- 'True'\n",
      "2021-06-19 01:28:41,349 : Heading Extraction gonal-f_clean_SmPC.json_l : Validation Passed | H | CAP |  el | 0 | gonal-f_clean_SmPC.json | currHeadId :- '20036' | prevHeadingCurrId :- '20033' | prevHeadingFoundId :- '20033'\n",
      "2021-06-19 01:28:43,268 : Heading Extraction gonal-f_clean_SmPC.json_l : Match Passed | H | CAP |  el | 0 | gonal-f_clean_SmPC.json | Doc txt :- '5.2 Φαρμακοκινητικές ιδιότητες' | Qrd txt :- '5.2 Φαρμακοκινητικές ιδιότητες' | Matched :- 'True'\n",
      "2021-06-19 01:28:43,290 : Heading Extraction gonal-f_clean_SmPC.json_l : Validation Passed | H | CAP |  el | 0 | gonal-f_clean_SmPC.json | currHeadId :- '20038' | prevHeadingCurrId :- '20033' | prevHeadingFoundId :- '20033'\n",
      "2021-06-19 01:28:44,586 : Heading Extraction gonal-f_clean_SmPC.json_l : Match Passed | H | CAP |  el | 0 | gonal-f_clean_SmPC.json | Doc txt :- '5.3 Προκλινικά δεδομένα για την ασφάλεια' | Qrd txt :- '5.3 Προκλινικά δεδομένα για την ασφάλεια' | Matched :- 'True'\n",
      "2021-06-19 01:28:44,608 : Heading Extraction gonal-f_clean_SmPC.json_l : Validation Passed | H | CAP |  el | 0 | gonal-f_clean_SmPC.json | currHeadId :- '20045' | prevHeadingCurrId :- '20038' | prevHeadingFoundId :- '20038'\n",
      "2021-06-19 01:28:47,889 : Heading Extraction gonal-f_clean_SmPC.json_l : Match Passed | H | CAP |  el | 0 | gonal-f_clean_SmPC.json | Doc txt :- '6. ΦΑΡΜΑΚΕΥΤΙΚΕΣ ΠΛΗΡΟΦΟΡΙΕΣ' | Qrd txt :- '6. ΦΑΡΜΑΚΕΥΤΙΚΕΣ ΠΛΗΡΟΦΟΡΙΕΣ' | Matched :- 'True'\n",
      "2021-06-19 01:28:47,907 : Heading Extraction gonal-f_clean_SmPC.json_l : Validation Passed | H | CAP |  el | 0 | gonal-f_clean_SmPC.json | currHeadId :- '20047' | prevHeadingCurrId :- '20045' | prevHeadingFoundId :- '20045'\n",
      "2021-06-19 01:28:48,906 : Heading Extraction gonal-f_clean_SmPC.json_l : Match Passed | H | CAP |  el | 0 | gonal-f_clean_SmPC.json | Doc txt :- '6.1 Κατάλογος εκδόχων' | Qrd txt :- '6.1 Κατάλογος εκδόχων' | Matched :- 'True'\n",
      "2021-06-19 01:28:48,937 : Heading Extraction gonal-f_clean_SmPC.json_l : Validation Passed | H | CAP |  el | 0 | gonal-f_clean_SmPC.json | currHeadId :- '20048' | prevHeadingCurrId :- '20047' | prevHeadingFoundId :- '20047'\n",
      "2021-06-19 01:29:01,504 : Heading Extraction gonal-f_clean_SmPC.json_l : Match Passed | H | CAP |  el | 0 | gonal-f_clean_SmPC.json | Doc txt :- '6.2 Ασυμβατότητες' | Qrd txt :- '6.2 Ασυμβατότητες' | Matched :- 'True'\n",
      "2021-06-19 01:29:01,537 : Heading Extraction gonal-f_clean_SmPC.json_l : Validation Passed | H | CAP |  el | 0 | gonal-f_clean_SmPC.json | currHeadId :- '20049' | prevHeadingCurrId :- '20048' | prevHeadingFoundId :- '20048'\n",
      "2021-06-19 01:29:04,494 : Heading Extraction gonal-f_clean_SmPC.json_l : Match Passed | H | CAP |  el | 0 | gonal-f_clean_SmPC.json | Doc txt :- '6.3 Διάρκεια ζωής' | Qrd txt :- '6.3 Διάρκεια ζωής' | Matched :- 'True'\n",
      "2021-06-19 01:29:04,516 : Heading Extraction gonal-f_clean_SmPC.json_l : Validation Passed | H | CAP |  el | 0 | gonal-f_clean_SmPC.json | currHeadId :- '20050' | prevHeadingCurrId :- '20049' | prevHeadingFoundId :- '20049'\n",
      "2021-06-19 01:29:08,153 : Heading Extraction gonal-f_clean_SmPC.json_l : Match Passed | H | CAP |  el | 0 | gonal-f_clean_SmPC.json | Doc txt :- '6.4 Ιδιαίτερες προφυλάξεις κατά τη φύλαξη του προϊόντος' | Qrd txt :- '6.4 Ιδιαίτερες προφυλάξεις κατά τη φύλαξη του προϊόντος' | Matched :- 'True'\n",
      "2021-06-19 01:29:08,182 : Heading Extraction gonal-f_clean_SmPC.json_l : Validation Passed | H | CAP |  el | 0 | gonal-f_clean_SmPC.json | currHeadId :- '20051' | prevHeadingCurrId :- '20050' | prevHeadingFoundId :- '20050'\n",
      "2021-06-19 01:29:14,584 : Heading Extraction gonal-f_clean_SmPC.json_l : Match Passed : SpecialCase1|182.86|(45, 77, 86)|0.671| | H | CAP |  el | 0 | gonal-f_clean_SmPC.json | Doc txt :- '6.5     Φύση και συστατικά του περιέκτη' | Qrd txt :- '6.5 Φύση και συστατικά του περιέκτη <και ειδικός εξοπλισμός για τη χρήση, τη χορήγηση ή την εμφύτευση>' | Matched :- 'True'\n",
      "2021-06-19 01:29:14,606 : Heading Extraction gonal-f_clean_SmPC.json_l : Validation Passed | H | CAP |  el | 0 | gonal-f_clean_SmPC.json | currHeadId :- '20052' | prevHeadingCurrId :- '20051' | prevHeadingFoundId :- '20051'\n",
      "2021-06-19 01:29:34,801 : Heading Extraction gonal-f_clean_SmPC.json_l : Match Passed : SpecialCase2|11.54|(95, 90, 95)|0.978| | H | CAP |  el | 0 | gonal-f_clean_SmPC.json | Doc txt :- '6.6     Ιδιαίτερες προφυλάξεις απόρριψης και άλλος χειρισμός' | Qrd txt :- '6.6 Ιδιαίτερες προφυλάξεις απόρριψης <και άλλος χειρισμός>' | Matched :- 'True'\n",
      "2021-06-19 01:29:34,831 : Heading Extraction gonal-f_clean_SmPC.json_l : Validation Passed | H | CAP |  el | 0 | gonal-f_clean_SmPC.json | currHeadId :- '20053' | prevHeadingCurrId :- '20052' | prevHeadingFoundId :- '20052'\n",
      "2021-06-19 01:29:55,546 : Heading Extraction gonal-f_clean_SmPC.json_l : Match Passed | H | CAP |  el | 0 | gonal-f_clean_SmPC.json | Doc txt :- '7. ΚΑΤΟΧΟΣ ΤΗΣ ΑΔΕΙΑΣ ΚΥΚΛΟΦΟΡΙΑΣ' | Qrd txt :- '7. ΚΑΤΟΧΟΣ ΤΗΣ ΑΔΕΙΑΣ ΚΥΚΛΟΦΟΡΙΑΣ' | Matched :- 'True'\n",
      "2021-06-19 01:29:55,567 : Heading Extraction gonal-f_clean_SmPC.json_l : Validation Passed | H | CAP |  el | 0 | gonal-f_clean_SmPC.json | currHeadId :- '20055' | prevHeadingCurrId :- '20053' | prevHeadingFoundId :- '20053'\n",
      "2021-06-19 01:30:00,403 : Heading Extraction gonal-f_clean_SmPC.json_l : Match Passed : <=4|13.79|(94, 86, 95)|0.959| | H | CAP |  el | 0 | gonal-f_clean_SmPC.json | Doc txt :- '8.       ΑΡΙΘΜΟΣ ΑΔΕΙΑΣ ΚΥΚΛΟΦΟΡΙΑΣ' | Qrd txt :- '8. ΑΡΙΘΜΟΣ(ΟΙ) ΑΔΕΙΑΣ ΚΥΚΛΟΦΟΡΙΑΣ' | Matched :- 'True'\n",
      "2021-06-19 01:30:00,424 : Heading Extraction gonal-f_clean_SmPC.json_l : Validation Passed | H | CAP |  el | 0 | gonal-f_clean_SmPC.json | currHeadId :- '20056' | prevHeadingCurrId :- '20055' | prevHeadingFoundId :- '20055'\n",
      "2021-06-19 01:30:10,954 : Heading Extraction gonal-f_clean_SmPC.json_l : Match Passed | H | CAP |  el | 0 | gonal-f_clean_SmPC.json | Doc txt :- '9. ΗΜΕΡΟΜΗΝΙΑ ΠΡΩΤΗΣ ΕΓΚΡΙΣΗΣ/ΑΝΑΝΕΩΣΗΣ ΤΗΣ ΑΔΕΙΑΣ' | Qrd txt :- '9. ΗΜΕΡΟΜΗΝΙΑ ΠΡΩΤΗΣ ΕΓΚΡΙΣΗΣ/ΑΝΑΝΕΩΣΗΣ ΤΗΣ ΑΔΕΙΑΣ' | Matched :- 'True'\n",
      "2021-06-19 01:30:10,973 : Heading Extraction gonal-f_clean_SmPC.json_l : Validation Passed | H | CAP |  el | 0 | gonal-f_clean_SmPC.json | currHeadId :- '20057' | prevHeadingCurrId :- '20056' | prevHeadingFoundId :- '20056'\n"
     ]
    },
    {
     "name": "stderr",
     "output_type": "stream",
     "text": [
      "2021-06-19 01:30:16,105 : Heading Extraction gonal-f_clean_SmPC.json_l : Match Passed | H | CAP |  el | 0 | gonal-f_clean_SmPC.json | Doc txt :- '10. ΗΜΕΡΟΜΗΝΙΑ ΑΝΑΘΕΩΡΗΣΗΣ ΤΟΥ ΚΕΙΜΕΝΟΥ' | Qrd txt :- '10. ΗΜΕΡΟΜΗΝΙΑ ΑΝΑΘΕΩΡΗΣΗΣ ΤΟΥ ΚΕΙΜΕΝΟΥ' | Matched :- 'True'\n",
      "2021-06-19 01:30:16,129 : Heading Extraction gonal-f_clean_SmPC.json_l : Validation Passed | H | CAP |  el | 0 | gonal-f_clean_SmPC.json | currHeadId :- '20058' | prevHeadingCurrId :- '20057' | prevHeadingFoundId :- '20057'\n",
      "2021-06-19 01:30:17,842 : Flow Logger HTML_5 : Completed Heading Extraction For File | H | CAP |  el | HTML | gonal-f_clean.htm\n",
      "2021-06-19 01:30:17,847 : Flow Logger HTML_5 : 0: Heading Extraction,11.4079 Min,10.999163 MB,38.397343 MB,50.5%\n",
      " | H | CAP |  el | HTML | gonal-f_clean.htm\n",
      "2021-06-19 01:30:17,859 : Flow Logger HTML_5 : Starting Document Annotation For File | H | CAP |  el | HTML | gonal-f_clean.htm\n"
     ]
    },
    {
     "name": "stdout",
     "output_type": "stream",
     "text": [
      "\n",
      "\n",
      "Heading Not Found \n",
      " ['qΤο φάρμακο αυτό τελεί υπό συμπληρωματική παρακολούθηση. Αυτό θα επιτρέψει το γρήγορο προσδιορισμό νέων πληροφοριών ασφάλειας. Ζητείται από τους επαγγελματίες υγείας να αναφέρουν οποιεσδήποτε πιθανολογούμενες ανεπιθύμητες ενέργειες. Βλ. παράγραφο 4.8 για τον τρόπο αναφοράς ανεπιθύμητων ενεργειών.', 'Γενική περιγραφή', 'Ποιοτική και ποσοτική σύνθεση', 'Προφυλάξεις που πρέπει να ληφθούν πριν από τον χειρισμό ή τη χορήγηση του φαρμακευτικού προϊόντος', 'Κύηση', 'Μηχανισμός δράσης', 'Φαρμακοδυναμικές επιδράσεις', 'Απορρόφηση', 'Κατανομή', 'Βιομετασχηματισμός', 'Αποβολή', 'Γραμμικότητα/μη γραμμικότητα', 'Φαρμακοκινητικές/φαρμακοδυναμικές σχέσεις', 'Αξιολόγηση περιβαλλοντικού κινδύνου', 'Χρήση στον παιδιατρικό πληθυσμό', 'ΔΟΣΙΜΕΤΡΙΑ', 'ΟΔΗΓΙΕΣ ΠΑΡΑΣΚΕΥΗΣ ΡΑΔΙΟΦΑΡΜΑΚΩΝ']\n",
      "\n",
      "\n",
      "dict_keys([])\n",
      "Completed Heading Extraction For File\n",
      "Metrics : 0: Heading Extraction,11.4079 Min,10.999163 MB,38.397343 MB,50.5%\n",
      "\n",
      "Starting Document Annotation For File :- gonal-f_clean_SmPC.json\n",
      "Warning: Multiple Authorization Token Found In The Document gonal-f_clean_SmPC.json :- \n",
      " ['EU/1/95/001/025', 'EU/1/95/001/026', 'EU/1/95/001/027', 'EU/1/95/001/021', 'EU/1/95/001/031', 'EU/1/95/001/000', 'EU/1/95/001/033', 'EU/1/95/001/034', 'EU/1/95/001/035']\n",
      "\n",
      "======================================  ['EU/1/95/001/025', 'EU/1/95/001/026', 'EU/1/95/001/027', 'EU/1/95/001/021', 'EU/1/95/001/031', 'EU/1/95/001/000', 'EU/1/95/001/033', 'EU/1/95/001/034', 'EU/1/95/001/035']  =========================\n",
      "\n",
      "\n",
      "Found entry with code 220000000061\n",
      "Warning: Medicinal Product Definition Reference Missing for Authorization Identifier EU/1/95/001/025\n",
      "Found Packaged Product Definition\n",
      "Missing Key 'holder' in entry key value pair\n",
      "processedOutputIndirect [(None, '1229029')]\n",
      "[None, '600000575490']\n",
      "Found entry with code 220000000061\n",
      "Warning: Medicinal Product Definition Reference Missing for Authorization Identifier EU/1/95/001/026\n",
      "Found Packaged Product Definition\n",
      "Missing Key 'holder' in entry key value pair\n",
      "processedOutputIndirect [(None, '1229030')]\n",
      "[None, '600000575490']\n",
      "Found entry with code 220000000061\n",
      "Warning: Medicinal Product Definition Reference Missing for Authorization Identifier EU/1/95/001/027\n",
      "Found Packaged Product Definition\n",
      "Missing Key 'holder' in entry key value pair\n",
      "processedOutputIndirect [(None, '1229031')]\n",
      "[None, '600000575490']\n",
      "Found entry with code 220000000061\n",
      "Warning: Medicinal Product Definition Reference Missing for Authorization Identifier EU/1/95/001/021\n",
      "Found Packaged Product Definition\n",
      "Missing Key 'holder' in entry key value pair\n",
      "processedOutputIndirect [(None, '1229056')]\n",
      "[None, '600000573678']\n",
      "Found entry with code 220000000061\n",
      "Warning: Medicinal Product Definition Reference Missing for Authorization Identifier EU/1/95/001/031\n",
      "Found Packaged Product Definition\n",
      "Missing Key 'holder' in entry key value pair\n",
      "processedOutputIndirect [(None, '1229057')]\n",
      "[None, '600000573679']\n",
      "Missing Key 'entry' in the EU/1/95/001/000 regulated authorization API output\n",
      "Found entry with code 220000000061\n",
      "Warning: Medicinal Product Definition Reference Missing for Authorization Identifier EU/1/95/001/033\n",
      "Found Packaged Product Definition\n",
      "Missing Key 'holder' in entry key value pair\n",
      "processedOutputIndirect [(None, '1229058')]\n",
      "[None, '600000573681']\n",
      "Found entry with code 220000000061\n",
      "Warning: Medicinal Product Definition Reference Missing for Authorization Identifier EU/1/95/001/034\n",
      "Found Packaged Product Definition\n",
      "Missing Key 'holder' in entry key value pair\n",
      "processedOutputIndirect [(None, '1229059')]\n",
      "[None, '600000573682']\n",
      "Found entry with code 220000000061\n",
      "Warning: Medicinal Product Definition Reference Missing for Authorization Identifier EU/1/95/001/035\n",
      "Found Packaged Product Definition\n",
      "Missing Key 'holder' in entry key value pair\n",
      "processedOutputIndirect [(None, '1229060')]\n",
      "[None, '600000573688']\n"
     ]
    },
    {
     "name": "stderr",
     "output_type": "stream",
     "text": [
      "2021-06-19 01:30:39,585 : Flow Logger HTML_5 : Completed Document Annotation | H | CAP |  el | HTML | gonal-f_clean.htm\n",
      "2021-06-19 01:30:39,590 : Flow Logger HTML_5 : 0: Document Annotation,0.3622 Min,0.337934 MB,0.474855 MB,50.5%\n",
      " | H | CAP |  el | HTML | gonal-f_clean.htm\n",
      "2021-06-19 01:30:39,595 : Flow Logger HTML_5 : Starting Extracting Content Between Heading | H | CAP |  el | HTML | gonal-f_clean.htm\n",
      "2021-06-19 01:30:39,608 : ExtractContentBetween_0_T : Cleaning Match Results | H | CAP |  el | 0 | gonal-f_clean_SmPC.json\n",
      "2021-06-19 01:30:39,626 : ExtractContentBetween_0_T : Finished Cleaning Match Results | H | CAP |  el | 0 | gonal-f_clean_SmPC.json\n"
     ]
    },
    {
     "name": "stdout",
     "output_type": "stream",
     "text": [
      "{'Author Value': None, 'Medicinal Product Definitions': [('600000575490', 'GONAL-f 75 IU (5.5 µg) - Powder and solvent for solution for injection'), ('600000573678', 'GONAL-f 1050 IU/1.75 ml (77 µg/1.75 ml) - Powder and solvent for solution for injection'), ('600000573679', 'GONAL-f 450 IU/0.75 ml (33 µg/0.75 ml) - Powder and solvent for solution for injection'), ('600000573681', 'GONAL-f 300 IU/0.5 ml (22 µg/0.5 ml) - Solution for injection in pre-filled pen'), ('600000573682', 'GONAL-f 450 IU/0.75 ml (33 µg/0.75 ml) - Solution for injection in pre-filled pen'), ('600000573688', 'GONAL-f 900 IU/1.5 ml (66 µg/1.5 ml) - Solution for injection in pre-filled pen')]}\n",
      "Completed Document Annotation\n",
      "Metrics : 0: Document Annotation,0.3622 Min,0.337934 MB,0.474855 MB,50.5%\n",
      "\n",
      "Starting Extracting Content Between Heading For File :- gonal-f_clean_SmPC.json\n",
      "File being processed: F:\\Projects\\EMA\\Repository\\EMA EPI PoC\\function_code\\work\\H\\CAP\\GONAL-f\\el\\2021-06-06T10-02-52Z\\partitionedJSONs\\gonal-f_clean_SmPC.json\n",
      "--------------------------------------------\n"
     ]
    },
    {
     "name": "stderr",
     "output_type": "stream",
     "text": [
      "2021-06-19 01:30:40,574 : Flow Logger HTML_5 : Completed Extracting Content Between Heading | H | CAP |  el | HTML | gonal-f_clean.htm\n",
      "2021-06-19 01:30:40,579 : Flow Logger HTML_5 : 0: Content Extraction,0.0164 Min,0.695689 MB,38.425338 MB,50.5%\n",
      " | H | CAP |  el | HTML | gonal-f_clean.htm\n",
      "2021-06-19 01:30:40,746 : XmlGeneration_0_e : Initiating XML Generation | H | CAP |  el | 0 | gonal-f_clean_SmPC.json\n",
      "2021-06-19 01:30:40,746 : XmlGeneration_0_e : Initiating XML Generation | H | CAP |  el | 0 | gonal-f_clean_SmPC.json\n"
     ]
    },
    {
     "name": "stdout",
     "output_type": "stream",
     "text": [
      "Completed Extracting Content Between Heading\n",
      "Metrics : 0: Content Extraction,0.0164 Min,0.695689 MB,38.425338 MB,50.5%\n",
      "\n",
      "Already Exists\n"
     ]
    },
    {
     "name": "stderr",
     "output_type": "stream",
     "text": [
      "2021-06-19 01:30:41,818 : XmlGeneration_0_e : Writing to File:gonal-f_clean_SmPC.xml | H | CAP |  el | 0 | gonal-f_clean_SmPC.json\n",
      "2021-06-19 01:30:41,818 : XmlGeneration_0_e : Writing to File:gonal-f_clean_SmPC.xml | H | CAP |  el | 0 | gonal-f_clean_SmPC.json\n",
      "2021-06-19 01:30:41,840 : Flow Logger HTML_5 : 0: Generate XML,0.0209 Min,3.017929 MB,5.609786 MB,50.5%\n",
      " | H | CAP |  el | HTML | gonal-f_clean.htm\n"
     ]
    },
    {
     "name": "stdout",
     "output_type": "stream",
     "text": [
      "Metrics : 0: Generate XML,0.0209 Min,3.017929 MB,5.609786 MB,50.5%\n",
      "\n"
     ]
    },
    {
     "name": "stderr",
     "output_type": "stream",
     "text": [
      "2021-06-19 01:30:47,624 : XML Submission Logger_0_4 : Initiating Submission To FHIR Server | H | CAP |  el | 0 | gonal-f_clean_SmPC.json\n",
      "2021-06-19 01:30:47,628 : XML Submission Logger_0_4 : Response{\"resourceType\":\"Bundle\",\"id\":\"13ae3b13-473d-46e2-af44-96d25cbf06f0\",\"meta\":{\"versionId\":\"1\",\"lastUpdated\":\"2021-06-18T20:00:45.933+00:00\"},\"type\":\"collection\",\"entry\":[{\"fullUrl\":\"urn:uuid:de811747-087d-4b07-a99f-879ef7e5249f\",\"resource\":{\"resourceType\":\"Bundle\",\"id\":\"289450bd-0bdd-4c6f-a13e-d2f985e0c12c\",\"identifier\":{\"system\":\"http://ema.europa.eu/fhir/identifier/documentid\",\"value\":\"289450bd-0bdd-4c6f-a13e-d2f985e0c12c\"},\"type\":\"document\",\"timestamp\":\"2021-06-18T20:00:40+00:00\",\"entry\":[{\"fu | H | CAP |  el | 0 | gonal-f_clean_SmPC.json\n",
      "2021-06-19 01:30:47,645 : XML Submission Logger_0_4 : POST sucessful: XML added with id: 13ae3b13-473d-46e2-af44-96d25cbf06f0 | H | CAP |  el | 0 | gonal-f_clean_SmPC.json\n",
      "2021-06-19 01:30:47,651 : Flow Logger HTML_5 : 0: Submit FHIR Msg,0.0966 Min,0.128359 MB,1.865605 MB,50.5%\n",
      " | H | CAP |  el | HTML | gonal-f_clean.htm\n",
      "2021-06-19 01:30:47,653 : Flow Logger HTML_5 : Starting list bundle update/addition | H | CAP |  el | HTML | gonal-f_clean.htm\n",
      "2021-06-19 01:30:47,682 : List Bundle Creation Logger_0_x : Extracted list bundle document type code this document 100000155532 | H | CAP |  el | 0 | gonal-f_clean_SmPC.json\n",
      "2021-06-19 01:30:47,704 : List Bundle Creation Logger_0_x : Getting Existing List Bundle accross all MANs | H | CAP |  el | 0 | gonal-f_clean_SmPC.json\n",
      "2021-06-19 01:30:47,706 : List Bundle Creation Logger_0_x : Getting list bundle for MAN EU/1/95/001/025  | H | CAP |  el | 0 | gonal-f_clean_SmPC.json\n"
     ]
    },
    {
     "name": "stdout",
     "output_type": "stream",
     "text": [
      "POST sucessful: XML added with id 13ae3b13-473d-46e2-af44-96d25cbf06f0\n",
      "Metrics : 0: Submit FHIR Msg,0.0966 Min,0.128359 MB,1.865605 MB,50.5%\n",
      "\n",
      "Created XML File For :- gonal-f_clean_SmPC.json\n",
      "\n",
      "listRegulatedAuthCodesAccrossePI ['EU/1/95/001/025', 'EU/1/95/001/026', 'EU/1/95/001/027', 'EU/1/95/001/021', 'EU/1/95/001/031', 'EU/1/95/001/000', 'EU/1/95/001/033', 'EU/1/95/001/034', 'EU/1/95/001/035']\n"
     ]
    },
    {
     "name": "stderr",
     "output_type": "stream",
     "text": [
      "2021-06-19 01:30:48,677 : List Bundle Creation Logger_0_x : Getting list bundle for MAN EU/1/95/001/026  | H | CAP |  el | 0 | gonal-f_clean_SmPC.json\n",
      "2021-06-19 01:30:49,620 : List Bundle Creation Logger_0_x : Getting list bundle for MAN EU/1/95/001/027  | H | CAP |  el | 0 | gonal-f_clean_SmPC.json\n",
      "2021-06-19 01:30:50,541 : List Bundle Creation Logger_0_x : Getting list bundle for MAN EU/1/95/001/021  | H | CAP |  el | 0 | gonal-f_clean_SmPC.json\n",
      "2021-06-19 01:30:51,508 : List Bundle Creation Logger_0_x : Getting list bundle for MAN EU/1/95/001/031  | H | CAP |  el | 0 | gonal-f_clean_SmPC.json\n",
      "2021-06-19 01:30:52,645 : List Bundle Creation Logger_0_x : Getting list bundle for MAN EU/1/95/001/000  | H | CAP |  el | 0 | gonal-f_clean_SmPC.json\n",
      "2021-06-19 01:30:53,741 : List Bundle Creation Logger_0_x : Getting list bundle for MAN EU/1/95/001/033  | H | CAP |  el | 0 | gonal-f_clean_SmPC.json\n",
      "2021-06-19 01:30:54,874 : List Bundle Creation Logger_0_x : Getting list bundle for MAN EU/1/95/001/034  | H | CAP |  el | 0 | gonal-f_clean_SmPC.json\n",
      "2021-06-19 01:30:55,875 : List Bundle Creation Logger_0_x : Getting list bundle for MAN EU/1/95/001/035  | H | CAP |  el | 0 | gonal-f_clean_SmPC.json\n",
      "2021-06-19 01:30:56,849 : List Bundle Creation Logger_0_x : Getting Existing List Bundle using common list id 576fbb3b-1d11-4abd-9beb-77d36ab11ceb | H | CAP |  el | 0 | gonal-f_clean_SmPC.json\n",
      "2021-06-19 01:30:57,988 : List Bundle Creation Logger_0_x : Added missing MAN identifiers | H | CAP |  el | 0 | gonal-f_clean_SmPC.json\n",
      "2021-06-19 01:30:57,994 : List Bundle Creation Logger_0_x : Updating existing item | H | CAP |  el | 0 | gonal-f_clean_SmPC.json\n",
      "2021-06-19 01:30:58,016 : List Bundle Creation Logger_0_x : Converted to required XML format | H | CAP |  el | 0 | gonal-f_clean_SmPC.json\n"
     ]
    },
    {
     "name": "stdout",
     "output_type": "stream",
     "text": [
      "b'<List xmlns=\"http://hl7.org/fhir\"><id value=\"576fbb3b-1d11-4abd-9beb-77d36ab11ceb\" /><identifier><system value=\"http://spor.ema.europa.eu/v2/medicine-name\" /><value value=\"gonal-f\" /></identifier><identifier><system value=\"http://spor.ema.europa.eu/v2/marketing-authorisation-numbers\" /><value value=\"EU/1/95/001/025\" /></identifier><identifier><system value=\"http://spor.ema.europa.eu/v2/marketing-authorisation-numbers\" /><value value=\"EU/1/95/001/026\" /></identifier><identifier><system value=\"http://spor.ema.europa.eu/v2/marketing-authorisation-numbers\" /><value value=\"EU/1/95/001/027\" /></identifier><identifier><system value=\"http://spor.ema.europa.eu/v2/marketing-authorisation-numbers\" /><value value=\"EU/1/95/001/021\" /></identifier><identifier><system value=\"http://spor.ema.europa.eu/v2/marketing-authorisation-numbers\" /><value value=\"EU/1/95/001/031\" /></identifier><identifier><system value=\"http://spor.ema.europa.eu/v2/marketing-authorisation-numbers\" /><value value=\"EU/1/95/001/000\" /></identifier><identifier><system value=\"http://spor.ema.europa.eu/v2/marketing-authorisation-numbers\" /><value value=\"EU/1/95/001/033\" /></identifier><identifier><system value=\"http://spor.ema.europa.eu/v2/marketing-authorisation-numbers\" /><value value=\"EU/1/95/001/034\" /></identifier><identifier><system value=\"http://spor.ema.europa.eu/v2/marketing-authorisation-numbers\" /><value value=\"EU/1/95/001/035\" /></identifier><identifier><system value=\"http://spor.ema.europa.eu/v2/marketing-authorisation-numbers\" /><value value=\"EU/1/95/001/000\\xce\\x95\\xce\\xbd\\xce\\xad\\xcf\\x83\\xce\\xb9\\xce\\xbc\\xce\\xbf\" /></identifier><status value=\"current\" /><mode value=\"working\" /><code><coding><system value=\"http://spor.ema.europa.eu/v1/example-pi-list-types\" /><code value=\"00000021213\" /><display value=\"ePI Master List\" /></coding></code><subject><extension url=\"http://ema.europa.eu/fhir/extension/domain\"><valueCoding><system value=\"http://spor.ema.europa.eu/v1/100000000004\" /><code value=\"100000000012\" /><display value=\"H\" /></valueCoding></extension><extension url=\"http://ema.europa.eu/fhir/extension/medicine-name\"><valueCoding><system value=\"http://spor.ema.europa.eu/v1/100000000005\" /><code value=\"medicine-name-code\" /><display value=\"GONAL-f\" /></valueCoding></extension></subject><entry><item><extension url=\"http://ema.europa.eu/fhir/extension/documentType\"><valueCoding><system value=\"http://spor.ema.europa.eu/v1/100000155531\" /><code value=\"100000155532\" /><display value=\"SmPC\" /></valueCoding></extension><extension url=\"http://ema.europa.eu/fhir/extension/language\"><valueCoding><system value=\"http://spor.ema.europa.eu/v1/100000072057\" /><code value=\"100000072147\" /><display value=\"en\" /></valueCoding></extension><reference value=\"Bundle/58a716ba-1915-4fa4-90df-d655ee9adedc\" /></item></entry><entry><item><extension url=\"http://ema.europa.eu/fhir/extension/documentType\"><valueCoding><system value=\"http://spor.ema.europa.eu/v1/100000155531\" /><code value=\"100000155533\" /><display value=\"AnnexII\" /></valueCoding></extension><extension url=\"http://ema.europa.eu/fhir/extension/language\"><valueCoding><system value=\"http://spor.ema.europa.eu/v1/100000072057\" /><code value=\"100000072147\" /><display value=\"en\" /></valueCoding></extension><reference value=\"Bundle/8efae8ee-5515-40bf-ac3c-81f5c77cdfb7\" /></item></entry><entry><item><extension url=\"http://ema.europa.eu/fhir/extension/documentType\"><valueCoding><system value=\"http://spor.ema.europa.eu/v1/100000155531\" /><code value=\"100000155535\" /><display value=\"Labelling\" /></valueCoding></extension><extension url=\"http://ema.europa.eu/fhir/extension/language\"><valueCoding><system value=\"http://spor.ema.europa.eu/v1/100000072057\" /><code value=\"100000072147\" /><display value=\"en\" /></valueCoding></extension><reference value=\"Bundle/af92e174-a718-4da4-8dee-6eea5be18357\" /></item></entry><entry><item><extension url=\"http://ema.europa.eu/fhir/extension/documentType\"><valueCoding><system value=\"http://spor.ema.europa.eu/v1/100000155531\" /><code value=\"100000155538\" /><display value=\"Package leaflet\" /></valueCoding></extension><extension url=\"http://ema.europa.eu/fhir/extension/language\"><valueCoding><system value=\"http://spor.ema.europa.eu/v1/100000072057\" /><code value=\"100000072147\" /><display value=\"en\" /></valueCoding></extension><reference value=\"Bundle/None\" /></item></entry><entry><item><extension url=\"http://ema.europa.eu/fhir/extension/documentType\"><valueCoding><system value=\"http://spor.ema.europa.eu/v1/100000155531\" /><code value=\"100000155532\" /><display value=\"SmPC\" /></valueCoding></extension><extension url=\"http://ema.europa.eu/fhir/extension/language\"><valueCoding><system value=\"http://spor.ema.europa.eu/v1/100000072057\" /><code value=\"100000072181\" /><display value=\"el\" /></valueCoding></extension><reference value=\"Bundle/13ae3b13-473d-46e2-af44-96d25cbf06f0\" /></item></entry><entry><item><extension url=\"http://ema.europa.eu/fhir/extension/documentType\"><valueCoding><system value=\"http://spor.ema.europa.eu/v1/100000155531\" /><code value=\"100000155533\" /><display value=\"\\xce\\xa0\\xce\\x91\\xce\\xa1\\xce\\x91\\xce\\xa1\\xce\\xa4\\xce\\x97\\xce\\x9c\\xce\\x91 \\xce\\x99\\xce\\x99\" /></valueCoding></extension><extension url=\"http://ema.europa.eu/fhir/extension/language\"><valueCoding><system value=\"http://spor.ema.europa.eu/v1/100000072057\" /><code value=\"100000072181\" /><display value=\"el\" /></valueCoding></extension><reference value=\"Bundle/77201e6e-5d59-4ec6-8cfe-23ee23a324c2\" /></item></entry><entry><item><extension url=\"http://ema.europa.eu/fhir/extension/documentType\"><valueCoding><system value=\"http://spor.ema.europa.eu/v1/100000155531\" /><code value=\"100000155535\" /><display value=\"\\xce\\x95\\xce\\xa0\\xce\\x99\\xce\\xa3\\xce\\x97\\xce\\x9c\\xce\\x91\\xce\\x9d\\xce\\xa3\\xce\\x97\" /></valueCoding></extension><extension url=\"http://ema.europa.eu/fhir/extension/language\"><valueCoding><system value=\"http://spor.ema.europa.eu/v1/100000072057\" /><code value=\"100000072181\" /><display value=\"el\" /></valueCoding></extension><reference value=\"Bundle/940224a6-8d60-4f61-b051-fca1900de3a2\" /></item></entry><entry><item><extension url=\"http://ema.europa.eu/fhir/extension/documentType\"><valueCoding><system value=\"http://spor.ema.europa.eu/v1/100000155531\" /><code value=\"100000155532\" /><display value=\"SmPC\" /></valueCoding></extension><extension url=\"http://ema.europa.eu/fhir/extension/language\"><valueCoding><system value=\"http://spor.ema.europa.eu/v1/100000072057\" /><code value=\"100000072178\" /><display value=\"de\" /></valueCoding></extension><reference value=\"Bundle/3839340e-83b6-4a2f-81a3-e5c5932e0774\" /></item></entry><entry><item><extension url=\"http://ema.europa.eu/fhir/extension/documentType\"><valueCoding><system value=\"http://spor.ema.europa.eu/v1/100000155531\" /><code value=\"100000155533\" /><display value=\"ANHANG II\" /></valueCoding></extension><extension url=\"http://ema.europa.eu/fhir/extension/language\"><valueCoding><system value=\"http://spor.ema.europa.eu/v1/100000072057\" /><code value=\"100000072178\" /><display value=\"de\" /></valueCoding></extension><reference value=\"Bundle/3b704cc9-208a-4e3b-8a10-02d7b3a28998\" /></item></entry><entry><item><extension url=\"http://ema.europa.eu/fhir/extension/documentType\"><valueCoding><system value=\"http://spor.ema.europa.eu/v1/100000155531\" /><code value=\"100000155535\" /><display value=\"Etikettierung\" /></valueCoding></extension><extension url=\"http://ema.europa.eu/fhir/extension/language\"><valueCoding><system value=\"http://spor.ema.europa.eu/v1/100000072057\" /><code value=\"100000072178\" /><display value=\"de\" /></valueCoding></extension><reference value=\"Bundle/1b96fbbe-908b-4336-a532-9bc9c5b4a79c\" /></item></entry><entry><item><extension url=\"http://ema.europa.eu/fhir/extension/documentType\"><valueCoding><system value=\"http://spor.ema.europa.eu/v1/100000155531\" /><code value=\"100000155538\" /><display value=\"Packungsbeilage\" /></valueCoding></extension><extension url=\"http://ema.europa.eu/fhir/extension/language\"><valueCoding><system value=\"http://spor.ema.europa.eu/v1/100000072057\" /><code value=\"100000072178\" /><display value=\"de\" /></valueCoding></extension><reference value=\"Bundle/None\" /></item></entry><entry><item><extension url=\"http://ema.europa.eu/fhir/extension/documentType\"><valueCoding><system value=\"http://spor.ema.europa.eu/v1/100000155531\" /><code value=\"100000155532\" /><display value=\"SmPC\" /></valueCoding></extension><extension url=\"http://ema.europa.eu/fhir/extension/language\"><valueCoding><system value=\"http://spor.ema.europa.eu/v1/100000072057\" /><code value=\"100000072264\" /><display value=\"es\" /></valueCoding></extension><reference value=\"Bundle/f8306b1e-29f2-40a8-b21b-93d894f703c4\" /></item></entry><entry><item><extension url=\"http://ema.europa.eu/fhir/extension/documentType\"><valueCoding><system value=\"http://spor.ema.europa.eu/v1/100000155531\" /><code value=\"100000155533\" /><display value=\"AnnexII\" /></valueCoding></extension><extension url=\"http://ema.europa.eu/fhir/extension/language\"><valueCoding><system value=\"http://spor.ema.europa.eu/v1/100000072057\" /><code value=\"100000072264\" /><display value=\"es\" /></valueCoding></extension><reference value=\"Bundle/f7dee032-cc03-4df0-a358-530ad9e7966d\" /></item></entry><entry><item><extension url=\"http://ema.europa.eu/fhir/extension/documentType\"><valueCoding><system value=\"http://spor.ema.europa.eu/v1/100000155531\" /><code value=\"100000155535\" /><display value=\"Labelling\" /></valueCoding></extension><extension url=\"http://ema.europa.eu/fhir/extension/language\"><valueCoding><system value=\"http://spor.ema.europa.eu/v1/100000072057\" /><code value=\"100000072264\" /><display value=\"es\" /></valueCoding></extension><reference value=\"Bundle/5b414d3d-3bcd-4778-bf9c-5606f0b9ccda\" /></item></entry><entry><item><extension url=\"http://ema.europa.eu/fhir/extension/documentType\"><valueCoding><system value=\"http://spor.ema.europa.eu/v1/100000155531\" /><code value=\"100000155538\" /><display value=\"Package leaflet\" /></valueCoding></extension><extension url=\"http://ema.europa.eu/fhir/extension/language\"><valueCoding><system value=\"http://spor.ema.europa.eu/v1/100000072057\" /><code value=\"100000072264\" /><display value=\"es\" /></valueCoding></extension><reference value=\"Bundle/None\" /></item></entry><entry><item><extension url=\"http://ema.europa.eu/fhir/extension/documentType\"><valueCoding><system value=\"http://spor.ema.europa.eu/v1/100000155531\" /><code value=\"100000155538\" /><display value=\"\\xce\\xa6\\xce\\xa5\\xce\\x9b\\xce\\x9b\\xce\\x9f \\xce\\x9f\\xce\\x94\\xce\\x97\\xce\\x93\\xce\\x99\\xce\\xa9\\xce\\x9d \\xce\\xa7\\xce\\xa1\\xce\\x97\\xce\\xa3\\xce\\x97\\xce\\xa3\" /></valueCoding></extension><extension url=\"http://ema.europa.eu/fhir/extension/language\"><valueCoding><system value=\"http://spor.ema.europa.eu/v1/100000072057\" /><code value=\"100000072181\" /><display value=\"el\" /></valueCoding></extension><reference value=\"Bundle/None\" /></item></entry></List>'\n",
      "Updating\n"
     ]
    },
    {
     "name": "stderr",
     "output_type": "stream",
     "text": [
      "2021-06-19 01:31:00,190 : List Bundle Creation Logger_0_x : List update successfully completed 576fbb3b-1d11-4abd-9beb-77d36ab11ceb | H | CAP |  el | 0 | gonal-f_clean_SmPC.json\n",
      "2021-06-19 01:31:00,197 : Flow Logger HTML_5 : Completed list bundle update/addition | H | CAP |  el | HTML | gonal-f_clean.htm\n",
      "2021-06-19 01:31:00,204 : Flow Logger HTML_5 : 0: Update/Add List Bundle,0.2092 Min,0.272779 MB,0.490728 MB,50.6%\n",
      " | H | CAP |  el | HTML | gonal-f_clean.htm\n",
      "2021-06-19 01:31:00,216 : Flow Logger HTML_5 : \n",
      "\n",
      "\n",
      "\n",
      "||||||||||||||||||||||||||||||||1 ||||| gonal-f_clean_ΠΑΡΑΡΤΗΜΑ II.json||||||||||||||||||||||||||||||||\n",
      "\n",
      "\n",
      "\n",
      " | H | CAP |  el | HTML | gonal-f_clean.htm\n",
      "2021-06-19 01:31:00,248 : Heading Extraction gonal-f_clean_ΠΑΡΑΡΤΗΜΑ II.json_1 : Starting Heading Extraction | H | CAP |  el | 1 | gonal-f_clean_ΠΑΡΑΡΤΗΜΑ II.json\n"
     ]
    },
    {
     "name": "stdout",
     "output_type": "stream",
     "text": [
      "Metrics : 0: Update/Add List Bundle,0.2092 Min,0.272779 MB,0.490728 MB,50.6%\n",
      "\n",
      "Index 1\n",
      "Starting Heading Extraction For File :- gonal-f_clean_ΠΑΡΑΡΤΗΜΑ II.json\n",
      "File being processed: F:\\Projects\\EMA\\Repository\\EMA EPI PoC\\function_code\\work\\H\\CAP\\GONAL-f\\el\\2021-06-06T10-02-52Z\\partitionedJSONs\\gonal-f_clean_ΠΑΡΑΡΤΗΜΑ II.json\n",
      "--------------------------------------------\n",
      "ΠΑΡΑΡΤΗΜΑ II\n"
     ]
    },
    {
     "name": "stderr",
     "output_type": "stream",
     "text": [
      "2021-06-19 01:31:01,685 : Heading Extraction gonal-f_clean_ΠΑΡΑΡΤΗΜΑ II.json_1 : Started Extracting Heading | H | CAP |  el | 1 | gonal-f_clean_ΠΑΡΑΡΤΗΜΑ II.json\n",
      "2021-06-19 01:31:01,735 : Heading Extraction gonal-f_clean_ΠΑΡΑΡΤΗΜΑ II.json_1 : Match Passed : <=4|16.67|(83, 83, 83)|0.952| | H | CAP |  el | 1 | gonal-f_clean_ΠΑΡΑΡΤΗΜΑ II.json | Doc txt :- 'ΠΑΡΑΡΤΗΜΑ ΙΙ' | Qrd txt :- 'ΠΑΡΑΡΤΗΜΑ II' | Matched :- 'True'\n",
      "2021-06-19 01:31:01,755 : Heading Extraction gonal-f_clean_ΠΑΡΑΡΤΗΜΑ II.json_1 : Validation Passed As This The First Heading | H | CAP |  el | 1 | gonal-f_clean_ΠΑΡΑΡΤΗΜΑ II.json | currHeadId :- '21001' | prevHeadingCurrId :- '' | prevHeadingFoundId :- ''\n",
      "2021-06-19 01:31:01,962 : Heading Extraction gonal-f_clean_ΠΑΡΑΡΤΗΜΑ II.json_1 : Match Passed : Contains<>|34.41|(85, 77, 87)|0.905| | H | CAP |  el | 1 | gonal-f_clean_ΠΑΡΑΡΤΗΜΑ II.json | Doc txt :- 'A.      ΠΑΡΑΣΚΕΥΑΣΤΕΣ ΤΗΣ ΒΙΟΛΟΓΙΚΩΣ ΔΡΑΣΤΙΚΗΣ ΟΥΣΙΑΣ ΚΑΙ ΠΑΡΑΣΚΕΥΑΣΤΗΣ ΥΠΕΥΘΥΝΟΣ ΓΙΑ ΤΗΝ ΑΠΟΔΕΣΜΕΥΣΗ ΤΩΝ ΠΑΡΤΙΔΩΝ' | Qrd txt :- 'A. < ΠΑΡΑΣΚΕΥΑΣΤΗΣ(ΕΣ) ΤΗΣ(ΤΩΝ) ΒΙΟΛΟΓΙΚΩΣ ΔΡΑΣΤΙΚΗΣ(ΩΝ) ΟΥΣΙΑΣ(ΩΝ) ΚΑΙ> ΠΑΡΑΣΚΕΥΑΣΤΗΣ(ΕΣ) ΥΠΕΥΘΥΝΟΣ(ΟΙ) ΓΙΑ ΤΗΝ ΑΠΟΔΕΣΜΕΥΣΗ ΤΩΝ ΠΑΡΤΙΔΩΝ' | Matched :- 'True'\n",
      "2021-06-19 01:31:01,988 : Heading Extraction gonal-f_clean_ΠΑΡΑΡΤΗΜΑ II.json_1 : Validation Passed | H | CAP |  el | 1 | gonal-f_clean_ΠΑΡΑΡΤΗΜΑ II.json | currHeadId :- '21002' | prevHeadingCurrId :- '21001' | prevHeadingFoundId :- '21001'\n",
      "2021-06-19 01:31:02,478 : Heading Extraction gonal-f_clean_ΠΑΡΑΡΤΗΜΑ II.json_1 : Match Passed | H | CAP |  el | 1 | gonal-f_clean_ΠΑΡΑΡΤΗΜΑ II.json | Doc txt :- 'B. ΟΡΟΙ Ή ΠΕΡΙΟΡΙΣΜΟΙ ΣΧΕΤΙΚΑ ΜΕ ΤΗ ΔΙΑΘΕΣΗ ΚΑΙ ΤΗ ΧΡΗΣΗ' | Qrd txt :- 'B. ΟΡΟΙ Ή ΠΕΡΙΟΡΙΣΜΟΙ ΣΧΕΤΙΚΑ ΜΕ ΤΗ ΔΙΑΘΕΣΗ ΚΑΙ ΤΗ ΧΡΗΣΗ' | Matched :- 'True'\n",
      "2021-06-19 01:31:02,501 : Heading Extraction gonal-f_clean_ΠΑΡΑΡΤΗΜΑ II.json_1 : Validation Flow Is Broken | H | CAP |  el | 1 | gonal-f_clean_ΠΑΡΑΡΤΗΜΑ II.json | currHeadId :- '21005' | prevHeadingCurrId :- '' | prevHeadingFoundId :- '21002'\n",
      "2021-06-19 01:31:02,524 : Heading Extraction gonal-f_clean_ΠΑΡΑΡΤΗΜΑ II.json_1 : Validation Passed | H | CAP |  el | 1 | gonal-f_clean_ΠΑΡΑΡΤΗΜΑ II.json | currHeadId :- '21005' | prevHeadingCurrId :- '21002' | prevHeadingFoundId :- '21002'\n"
     ]
    },
    {
     "name": "stdout",
     "output_type": "stream",
     "text": [
      "\n",
      "OriginalCheck\n",
      "\n",
      "\n",
      "OriginalCheck\n",
      "\n"
     ]
    },
    {
     "name": "stderr",
     "output_type": "stream",
     "text": [
      "2021-06-19 01:31:04,248 : Heading Extraction gonal-f_clean_ΠΑΡΑΡΤΗΜΑ II.json_1 : Match Passed : <=7|2.13|(98, 98, 98)|0.992| | H | CAP |  el | 1 | gonal-f_clean_ΠΑΡΑΡΤΗΜΑ II.json | Doc txt :- 'Γ.      ΑΛΛΟΙ ΟΡΟΙ ΚΑΙ ΑΠΑΙΤΗΣΕΙΣ ΤΗΣ ΑΔΕΙΑΣ ΚΥΚΛΟΦΟΡΙΑΣ' | Qrd txt :- 'C. ΑΛΛΟΙ ΟΡΟΙ ΚΑΙ ΑΠΑΙΤΗΣΕΙΣ ΤΗΣ ΑΔΕΙΑΣ ΚΥΚΛΟΦΟΡΙΑΣ' | Matched :- 'True'\n",
      "2021-06-19 01:31:04,299 : Heading Extraction gonal-f_clean_ΠΑΡΑΡΤΗΜΑ II.json_1 : Validation Flow Is Broken | H | CAP |  el | 1 | gonal-f_clean_ΠΑΡΑΡΤΗΜΑ II.json | currHeadId :- '21007' | prevHeadingCurrId :- '' | prevHeadingFoundId :- '21005'\n",
      "2021-06-19 01:31:04,344 : Heading Extraction gonal-f_clean_ΠΑΡΑΡΤΗΜΑ II.json_1 : Validation Passed | H | CAP |  el | 1 | gonal-f_clean_ΠΑΡΑΡΤΗΜΑ II.json | currHeadId :- '21007' | prevHeadingCurrId :- '21005' | prevHeadingFoundId :- '21005'\n",
      "2021-06-19 01:31:05,432 : Heading Extraction gonal-f_clean_ΠΑΡΑΡΤΗΜΑ II.json_1 : Match Passed : >7|49.38|(65, 71, 86)|0.683| | H | CAP |  el | 1 | gonal-f_clean_ΠΑΡΑΡΤΗΜΑ II.json | Doc txt :- 'Δ.      ΟΡΟΙ Ή ΠΕΡΙΟΡΙΣΜΟΙ ΣΧΕΤΙΚΑ ΜΕ ΤΗΝ ΑΣΦΑΛΗ ΚΑΙ ΑΠΟΤΕΛΕΣΜΑΤΙΚΗ ΧΡΗΣΗ ΤΟΥ ΦΑΡΜΑΚΕΥΤΙΚΟΥ ΠΡΟΪΟΝΤΟΣ' | Qrd txt :- 'B. ΟΡΟΙ Ή ΠΕΡΙΟΡΙΣΜΟΙ ΣΧΕΤΙΚΑ ΜΕ ΤΗ ΔΙΑΘΕΣΗ ΚΑΙ ΤΗ ΧΡΗΣΗ ' | Matched :- 'True'\n",
      "2021-06-19 01:31:05,473 : Heading Extraction gonal-f_clean_ΠΑΡΑΡΤΗΜΑ II.json_1 : Validation Failed As Wrong Heading Found | H | CAP |  el | 1 | gonal-f_clean_ΠΑΡΑΡΤΗΜΑ II.json | currHeadId :- '21005' | prevHeadingCurrId :- '' | prevHeadingFoundId :- '21007'\n"
     ]
    },
    {
     "name": "stdout",
     "output_type": "stream",
     "text": [
      "\n",
      "OriginalCheck\n",
      "\n"
     ]
    },
    {
     "name": "stderr",
     "output_type": "stream",
     "text": [
      "2021-06-19 01:31:06,130 : Heading Extraction gonal-f_clean_ΠΑΡΑΡΤΗΜΑ II.json_1 : Match Passed : >7|1.23|(99, 99, 99)|0.996| | H | CAP |  el | 1 | gonal-f_clean_ΠΑΡΑΡΤΗΜΑ II.json | Doc txt :- 'Δ.      ΟΡΟΙ Ή ΠΕΡΙΟΡΙΣΜΟΙ ΣΧΕΤΙΚΑ ΜΕ ΤΗΝ ΑΣΦΑΛΗ ΚΑΙ ΑΠΟΤΕΛΕΣΜΑΤΙΚΗ ΧΡΗΣΗ ΤΟΥ ΦΑΡΜΑΚΕΥΤΙΚΟΥ ΠΡΟΪΟΝΤΟΣ' | Qrd txt :- 'D. ΟΡΟΙ Ή ΠΕΡΙΟΡΙΣΜΟΙ ΣΧΕΤΙΚΑ ΜΕ ΤΗΝ ΑΣΦΑΛΗ ΚΑΙ ΑΠΟΤΕΛΕΣΜΑΤΙΚΗ ΧΡΗΣΗ ΤΟΥ ΦΑΡΜΑΚΕΥΤΙΚΟΥ ΠΡΟΪΟΝΤΟΣ' | Matched :- 'True'\n",
      "2021-06-19 01:31:06,174 : Heading Extraction gonal-f_clean_ΠΑΡΑΡΤΗΜΑ II.json_1 : Validation Flow Is Broken | H | CAP |  el | 1 | gonal-f_clean_ΠΑΡΑΡΤΗΜΑ II.json | currHeadId :- '21009' | prevHeadingCurrId :- '' | prevHeadingFoundId :- '21007'\n",
      "2021-06-19 01:31:06,198 : Heading Extraction gonal-f_clean_ΠΑΡΑΡΤΗΜΑ II.json_1 : Validation Passed | H | CAP |  el | 1 | gonal-f_clean_ΠΑΡΑΡΤΗΜΑ II.json | currHeadId :- '21009' | prevHeadingCurrId :- '21007' | prevHeadingFoundId :- '21007'\n",
      "2021-06-19 01:31:06,519 : Heading Extraction gonal-f_clean_ΠΑΡΑΡΤΗΜΑ II.json_1 : Match Passed : Contains<>|35.48|(84, 77, 86)|0.873| | H | CAP |  el | 1 | gonal-f_clean_ΠΑΡΑΡΤΗΜΑ II.json | Doc txt :- 'Α.      ΠΑΡΑΣΚΕΥΑΣΤΕΣ ΤΗΣ ΒΙΟΛΟΓΙΚΩΣ ΔΡΑΣΤΙΚΗΣ ΟΥΣΙΑΣ ΚΑΙ ΠΑΡΑΣΚΕΥΑΣΤΗΣ ΥΠΕΥΘΥΝΟΣ ΓΙΑ ΤΗΝ ΑΠΟΔΕΣΜΕΥΣΗ ΤΩΝ ΠΑΡΤΙΔΩΝ' | Qrd txt :- 'A. < ΠΑΡΑΣΚΕΥΑΣΤΗΣ(ΕΣ) ΤΗΣ(ΤΩΝ) ΒΙΟΛΟΓΙΚΩΣ ΔΡΑΣΤΙΚΗΣ(ΩΝ) ΟΥΣΙΑΣ(ΩΝ) ΚΑΙ> ΠΑΡΑΣΚΕΥΑΣΤΗΣ(ΕΣ) ΥΠΕΥΘΥΝΟΣ(ΟΙ) ΓΙΑ ΤΗΝ ΑΠΟΔΕΣΜΕΥΣΗ ΤΩΝ ΠΑΡΤΙΔΩΝ' | Matched :- 'True'\n",
      "2021-06-19 01:31:06,558 : Heading Extraction gonal-f_clean_ΠΑΡΑΡΤΗΜΑ II.json_1 : Validation Failed As Previous Heading Found is not matching | H | CAP |  el | 1 | gonal-f_clean_ΠΑΡΑΡΤΗΜΑ II.json | currHeadId :- '21002' | prevHeadingCurrId :- '21001' | prevHeadingFoundId :- '21009'\n"
     ]
    },
    {
     "name": "stdout",
     "output_type": "stream",
     "text": [
      "\n",
      "OriginalCheck\n",
      "\n"
     ]
    },
    {
     "name": "stderr",
     "output_type": "stream",
     "text": [
      "2021-06-19 01:31:09,167 : Heading Extraction gonal-f_clean_ΠΑΡΑΡΤΗΜΑ II.json_1 : End Of Sub Section | H | CAP |  el | 1 | gonal-f_clean_ΠΑΡΑΡΤΗΜΑ II.json\n"
     ]
    },
    {
     "name": "stdout",
     "output_type": "stream",
     "text": [
      "oooooooooooooooooooooooooooooooooooooooo END OF Sub Section oooooooooooooooooooooooooooooooooooooooooooooooooooooooooooo\n"
     ]
    },
    {
     "name": "stderr",
     "output_type": "stream",
     "text": [
      "2021-06-19 01:31:09,384 : Heading Extraction gonal-f_clean_ΠΑΡΑΡΤΗΜΑ II.json_1 : Match Passed : Contains<>|35.48|(84, 77, 86)|0.873| | H | CAP |  el | 1 | gonal-f_clean_ΠΑΡΑΡΤΗΜΑ II.json | Doc txt :- 'Α.      ΠΑΡΑΣΚΕΥΑΣΤΕΣ ΤΗΣ ΒΙΟΛΟΓΙΚΩΣ ΔΡΑΣΤΙΚΗΣ ΟΥΣΙΑΣ ΚΑΙ ΠΑΡΑΣΚΕΥΑΣΤΗΣ ΥΠΕΥΘΥΝΟΣ ΓΙΑ ΤΗΝ ΑΠΟΔΕΣΜΕΥΣΗ ΤΩΝ ΠΑΡΤΙΔΩΝ' | Qrd txt :- 'A. < ΠΑΡΑΣΚΕΥΑΣΤΗΣ(ΕΣ) ΤΗΣ(ΤΩΝ) ΒΙΟΛΟΓΙΚΩΣ ΔΡΑΣΤΙΚΗΣ(ΩΝ) ΟΥΣΙΑΣ(ΩΝ) ΚΑΙ> ΠΑΡΑΣΚΕΥΑΣΤΗΣ(ΕΣ) ΥΠΕΥΘΥΝΟΣ(ΟΙ) ΓΙΑ ΤΗΝ ΑΠΟΔΕΣΜΕΥΣΗ ΤΩΝ ΠΑΡΤΙΔΩΝ' | Matched :- 'True'\n",
      "2021-06-19 01:31:09,406 : Heading Extraction gonal-f_clean_ΠΑΡΑΡΤΗΜΑ II.json_1 : Validation Passed As This The First Heading | H | CAP |  el | 1 | gonal-f_clean_ΠΑΡΑΡΤΗΜΑ II.json | currHeadId :- '21002' | prevHeadingCurrId :- '' | prevHeadingFoundId :- ''\n"
     ]
    },
    {
     "name": "stdout",
     "output_type": "stream",
     "text": [
      "\n",
      "OriginalCheck\n",
      "\n"
     ]
    },
    {
     "name": "stderr",
     "output_type": "stream",
     "text": [
      "2021-06-19 01:31:09,882 : Heading Extraction gonal-f_clean_ΠΑΡΑΡΤΗΜΑ II.json_1 : Match Passed : >7|43.33|(82, 77, 95)|0.927| | H | CAP |  el | 1 | gonal-f_clean_ΠΑΡΑΡΤΗΜΑ II.json | Doc txt :- 'Όνομα και διεύθυνση του παρασκευαστή της βιολογικώς δραστικής ουσίας' | Qrd txt :- 'Όνομα και διεύθυνση του(των) παρασκευαστή(ών) της(των) βιολογικώς δραστικής(ών) ουσίας(ών)' | Matched :- 'True'\n",
      "2021-06-19 01:31:09,911 : Heading Extraction gonal-f_clean_ΠΑΡΑΡΤΗΜΑ II.json_1 : Validation Passed | H | CAP |  el | 1 | gonal-f_clean_ΠΑΡΑΡΤΗΜΑ II.json | currHeadId :- '21003' | prevHeadingCurrId :- '21002' | prevHeadingFoundId :- '21002'\n"
     ]
    },
    {
     "name": "stdout",
     "output_type": "stream",
     "text": [
      "\n",
      "OriginalCheck\n",
      "\n",
      "\n",
      "OriginalCheck\n",
      "\n",
      "\n",
      "OriginalCheck\n",
      "\n"
     ]
    },
    {
     "name": "stderr",
     "output_type": "stream",
     "text": [
      "2021-06-19 01:31:13,490 : Heading Extraction gonal-f_clean_ΠΑΡΑΡΤΗΜΑ II.json_1 : Match Passed : >7|26.15|(88, 78, 95)|0.936| | H | CAP |  el | 1 | gonal-f_clean_ΠΑΡΑΡΤΗΜΑ II.json | Doc txt :- 'Όνομα και διεύθυνση του παρασκευαστή που είναι υπεύθυνος για την αποδέσμευση των παρτίδων' | Qrd txt :- 'Όνομα και διεύθυνση του(των) παρασκευαστή(ών) που είναι υπεύθυνος(οι) για την αποδέσμευση των παρτίδων' | Matched :- 'True'\n",
      "2021-06-19 01:31:13,511 : Heading Extraction gonal-f_clean_ΠΑΡΑΡΤΗΜΑ II.json_1 : Validation Passed | H | CAP |  el | 1 | gonal-f_clean_ΠΑΡΑΡΤΗΜΑ II.json | currHeadId :- '21004' | prevHeadingCurrId :- '21003' | prevHeadingFoundId :- '21003'\n"
     ]
    },
    {
     "name": "stdout",
     "output_type": "stream",
     "text": [
      "\n",
      "OriginalCheck\n",
      "\n"
     ]
    },
    {
     "name": "stderr",
     "output_type": "stream",
     "text": [
      "2021-06-19 01:31:15,650 : Heading Extraction gonal-f_clean_ΠΑΡΑΡΤΗΜΑ II.json_1 : Match Passed : >7|2.04|(98, 98, 98)|0.993| | H | CAP |  el | 1 | gonal-f_clean_ΠΑΡΑΡΤΗΜΑ II.json | Doc txt :- 'Β.      ΟΡΟΙ Ή ΟΙ ΠΕΡΙΟΡΙΣΜΟΙ ΣΧΕΤΙΚΑ ΜΕ ΤΗ ΔΙΑΘΕΣΗ ΚΑΙ ΤΗ ΧΡΗΣΗ' | Qrd txt :- 'B. ΟΡΟΙ Ή ΠΕΡΙΟΡΙΣΜΟΙ ΣΧΕΤΙΚΑ ΜΕ ΤΗ ΔΙΑΘΕΣΗ ΚΑΙ ΤΗ ΧΡΗΣΗ ' | Matched :- 'True'\n",
      "2021-06-19 01:31:15,688 : Heading Extraction gonal-f_clean_ΠΑΡΑΡΤΗΜΑ II.json_1 : Validation Passed | H | CAP |  el | 1 | gonal-f_clean_ΠΑΡΑΡΤΗΜΑ II.json | currHeadId :- '21005' | prevHeadingCurrId :- '21004' | prevHeadingFoundId :- '21004'\n"
     ]
    },
    {
     "name": "stdout",
     "output_type": "stream",
     "text": [
      "\n",
      "OriginalCheck\n",
      "\n",
      "\n",
      "OriginalCheck\n",
      "\n"
     ]
    },
    {
     "name": "stderr",
     "output_type": "stream",
     "text": [
      "2021-06-19 01:31:18,360 : Heading Extraction gonal-f_clean_ΠΑΡΑΡΤΗΜΑ II.json_1 : Match Passed : <=7|2.13|(98, 98, 98)|0.992| | H | CAP |  el | 1 | gonal-f_clean_ΠΑΡΑΡΤΗΜΑ II.json | Doc txt :- 'Γ.      ΑΛΛΟΙ ΟΡΟΙ ΚΑΙ ΑΠΑΙΤΗΣΕΙΣ ΤΗΣ ΑΔΕΙΑΣ ΚΥΚΛΟΦΟΡΙΑΣ' | Qrd txt :- 'C. ΑΛΛΟΙ ΟΡΟΙ ΚΑΙ ΑΠΑΙΤΗΣΕΙΣ ΤΗΣ ΑΔΕΙΑΣ ΚΥΚΛΟΦΟΡΙΑΣ' | Matched :- 'True'\n",
      "2021-06-19 01:31:18,384 : Heading Extraction gonal-f_clean_ΠΑΡΑΡΤΗΜΑ II.json_1 : Validation Flow Is Broken | H | CAP |  el | 1 | gonal-f_clean_ΠΑΡΑΡΤΗΜΑ II.json | currHeadId :- '21007' | prevHeadingCurrId :- '' | prevHeadingFoundId :- '21005'\n",
      "2021-06-19 01:31:18,403 : Heading Extraction gonal-f_clean_ΠΑΡΑΡΤΗΜΑ II.json_1 : Validation Passed | H | CAP |  el | 1 | gonal-f_clean_ΠΑΡΑΡΤΗΜΑ II.json | currHeadId :- '21007' | prevHeadingCurrId :- '21005' | prevHeadingFoundId :- '21005'\n"
     ]
    },
    {
     "name": "stdout",
     "output_type": "stream",
     "text": [
      "\n",
      "OriginalCheck\n",
      "\n",
      "\n",
      "OriginalCheck\n",
      "\n"
     ]
    },
    {
     "name": "stderr",
     "output_type": "stream",
     "text": [
      "2021-06-19 01:31:19,250 : Heading Extraction gonal-f_clean_ΠΑΡΑΡΤΗΜΑ II.json_1 : Match Passed : <=7|1.75|(99, 100, 100)|0.997| | H | CAP |  el | 1 | gonal-f_clean_ΠΑΡΑΡΤΗΜΑ II.json | Doc txt :- '·Εκθέσεις περιοδικής παρακολούθησης της ασφάλειας (PSURs)' | Qrd txt :- 'Εκθέσεις περιοδικής παρακολούθησης της ασφάλειας (PSURs)' | Matched :- 'True'\n",
      "2021-06-19 01:31:19,269 : Heading Extraction gonal-f_clean_ΠΑΡΑΡΤΗΜΑ II.json_1 : Validation Passed | H | CAP |  el | 1 | gonal-f_clean_ΠΑΡΑΡΤΗΜΑ II.json | currHeadId :- '21008' | prevHeadingCurrId :- '21007' | prevHeadingFoundId :- '21007'\n",
      "2021-06-19 01:31:19,849 : Heading Extraction gonal-f_clean_ΠΑΡΑΡΤΗΜΑ II.json_1 : Match Passed : >7|49.38|(65, 71, 86)|0.683| | H | CAP |  el | 1 | gonal-f_clean_ΠΑΡΑΡΤΗΜΑ II.json | Doc txt :- 'Δ.      ΟΡΟΙ Ή ΠΕΡΙΟΡΙΣΜΟΙ ΣΧΕΤΙΚΑ ΜΕ ΤΗΝ ΑΣΦΑΛΗ ΚΑΙ ΑΠΟΤΕΛΕΣΜΑΤΙΚΗ ΧΡΗΣΗ ΤΟΥ ΦΑΡΜΑΚΕΥΤΙΚΟΥ ΠΡΟΪΟΝΤΟΣ' | Qrd txt :- 'B. ΟΡΟΙ Ή ΠΕΡΙΟΡΙΣΜΟΙ ΣΧΕΤΙΚΑ ΜΕ ΤΗ ΔΙΑΘΕΣΗ ΚΑΙ ΤΗ ΧΡΗΣΗ ' | Matched :- 'True'\n",
      "2021-06-19 01:31:19,875 : Heading Extraction gonal-f_clean_ΠΑΡΑΡΤΗΜΑ II.json_1 : Validation Failed As Previous Heading Found is not matching | H | CAP |  el | 1 | gonal-f_clean_ΠΑΡΑΡΤΗΜΑ II.json | currHeadId :- '21005' | prevHeadingCurrId :- '21004' | prevHeadingFoundId :- '21008'\n"
     ]
    },
    {
     "name": "stdout",
     "output_type": "stream",
     "text": [
      "\n",
      "OriginalCheck\n",
      "\n"
     ]
    },
    {
     "name": "stderr",
     "output_type": "stream",
     "text": [
      "2021-06-19 01:31:20,232 : Heading Extraction gonal-f_clean_ΠΑΡΑΡΤΗΜΑ II.json_1 : Match Passed : >7|1.23|(99, 99, 99)|0.996| | H | CAP |  el | 1 | gonal-f_clean_ΠΑΡΑΡΤΗΜΑ II.json | Doc txt :- 'Δ.      ΟΡΟΙ Ή ΠΕΡΙΟΡΙΣΜΟΙ ΣΧΕΤΙΚΑ ΜΕ ΤΗΝ ΑΣΦΑΛΗ ΚΑΙ ΑΠΟΤΕΛΕΣΜΑΤΙΚΗ ΧΡΗΣΗ ΤΟΥ ΦΑΡΜΑΚΕΥΤΙΚΟΥ ΠΡΟΪΟΝΤΟΣ' | Qrd txt :- 'D. ΟΡΟΙ Ή ΠΕΡΙΟΡΙΣΜΟΙ ΣΧΕΤΙΚΑ ΜΕ ΤΗΝ ΑΣΦΑΛΗ ΚΑΙ ΑΠΟΤΕΛΕΣΜΑΤΙΚΗ ΧΡΗΣΗ ΤΟΥ ΦΑΡΜΑΚΕΥΤΙΚΟΥ ΠΡΟΪΟΝΤΟΣ' | Matched :- 'True'\n",
      "2021-06-19 01:31:20,256 : Heading Extraction gonal-f_clean_ΠΑΡΑΡΤΗΜΑ II.json_1 : Validation Passed | H | CAP |  el | 1 | gonal-f_clean_ΠΑΡΑΡΤΗΜΑ II.json | currHeadId :- '21009' | prevHeadingCurrId :- '21008' | prevHeadingFoundId :- '21008'\n",
      "2021-06-19 01:31:20,751 : Heading Extraction gonal-f_clean_ΠΑΡΑΡΤΗΜΑ II.json_1 : Match Passed : <=4|2.94|(99, 100, 100)|0.995| | H | CAP |  el | 1 | gonal-f_clean_ΠΑΡΑΡΤΗΜΑ II.json | Doc txt :- '·Σχέδιο διαχείρισης κινδύνου (ΣΔΚ)' | Qrd txt :- 'Σχέδιο διαχείρισης κινδύνου (ΣΔΚ)' | Matched :- 'True'\n",
      "2021-06-19 01:31:20,770 : Heading Extraction gonal-f_clean_ΠΑΡΑΡΤΗΜΑ II.json_1 : Validation Passed | H | CAP |  el | 1 | gonal-f_clean_ΠΑΡΑΡΤΗΜΑ II.json | currHeadId :- '21010' | prevHeadingCurrId :- '21009' | prevHeadingFoundId :- '21009'\n",
      "2021-06-19 01:31:22,475 : Heading Extraction gonal-f_clean_ΠΑΡΑΡΤΗΜΑ II.json_1 : Match Passed : <=4|23.08|(80, 83, 82)|0.941| | H | CAP |  el | 1 | gonal-f_clean_ΠΑΡΑΡΤΗΜΑ II.json | Doc txt :- 'ΠΑΡΑΡΤΗΜΑ ΙΙΙ' | Qrd txt :- 'ΠΑΡΑΡΤΗΜΑ II' | Matched :- 'True'\n",
      "2021-06-19 01:31:22,496 : Heading Extraction gonal-f_clean_ΠΑΡΑΡΤΗΜΑ II.json_1 : Validation Failed As Wrong Heading Found | H | CAP |  el | 1 | gonal-f_clean_ΠΑΡΑΡΤΗΜΑ II.json | currHeadId :- '21001' | prevHeadingCurrId :- '' | prevHeadingFoundId :- '21010'\n",
      "2021-06-19 01:31:22,805 : Heading Extraction gonal-f_clean_ΠΑΡΑΡΤΗΜΑ II.json_1 : End Of Sub Section | H | CAP |  el | 1 | gonal-f_clean_ΠΑΡΑΡΤΗΜΑ II.json\n",
      "2021-06-19 01:31:22,818 : Heading Extraction gonal-f_clean_ΠΑΡΑΡΤΗΜΑ II.json_1 : Match Passed : <=4|23.08|(80, 83, 82)|0.941| | H | CAP |  el | 1 | gonal-f_clean_ΠΑΡΑΡΤΗΜΑ II.json | Doc txt :- 'ΠΑΡΑΡΤΗΜΑ ΙΙΙ' | Qrd txt :- 'ΠΑΡΑΡΤΗΜΑ II' | Matched :- 'True'\n",
      "2021-06-19 01:31:22,833 : Heading Extraction gonal-f_clean_ΠΑΡΑΡΤΗΜΑ II.json_1 : Validation Passed As This The First Heading | H | CAP |  el | 1 | gonal-f_clean_ΠΑΡΑΡΤΗΜΑ II.json | currHeadId :- '21001' | prevHeadingCurrId :- '' | prevHeadingFoundId :- ''\n"
     ]
    },
    {
     "name": "stdout",
     "output_type": "stream",
     "text": [
      "oooooooooooooooooooooooooooooooooooooooo END OF Sub Section oooooooooooooooooooooooooooooooooooooooooooooooooooooooooooo\n",
      "\n",
      "OriginalCheck\n",
      "\n"
     ]
    },
    {
     "name": "stderr",
     "output_type": "stream",
     "text": [
      "2021-06-19 01:31:23,665 : Flow Logger HTML_5 : Completed Heading Extraction For File | H | CAP |  el | HTML | gonal-f_clean.htm\n",
      "2021-06-19 01:31:23,670 : Flow Logger HTML_5 : 1: Heading Extraction,0.3909 Min,0.463237 MB,3.050942 MB,50.7%\n",
      " | H | CAP |  el | HTML | gonal-f_clean.htm\n",
      "2021-06-19 01:31:23,680 : Flow Logger HTML_5 : Starting Document Annotation For File | H | CAP |  el | HTML | gonal-f_clean.htm\n",
      "2021-06-19 01:31:23,703 : Flow Logger HTML_5 : Completed Document Annotation | H | CAP |  el | HTML | gonal-f_clean.htm\n",
      "2021-06-19 01:31:23,711 : Flow Logger HTML_5 : 1: Document Annotation,0.0005 Min,0.154303 MB,0.165438 MB,50.6%\n",
      " | H | CAP |  el | HTML | gonal-f_clean.htm\n",
      "2021-06-19 01:31:23,716 : Flow Logger HTML_5 : Starting Extracting Content Between Heading | H | CAP |  el | HTML | gonal-f_clean.htm\n",
      "2021-06-19 01:31:23,728 : ExtractContentBetween_1_T : Cleaning Match Results | H | CAP |  el | 1 | gonal-f_clean_ΠΑΡΑΡΤΗΜΑ II.json\n",
      "2021-06-19 01:31:23,747 : ExtractContentBetween_1_T : Finished Cleaning Match Results | H | CAP |  el | 1 | gonal-f_clean_ΠΑΡΑΡΤΗΜΑ II.json\n",
      "2021-06-19 01:31:23,817 : Flow Logger HTML_5 : Completed Extracting Content Between Heading | H | CAP |  el | HTML | gonal-f_clean.htm\n",
      "2021-06-19 01:31:23,824 : Flow Logger HTML_5 : 1: Content Extraction,0.0018 Min,0.238382 MB,0.553119 MB,50.6%\n",
      " | H | CAP |  el | HTML | gonal-f_clean.htm\n"
     ]
    },
    {
     "name": "stdout",
     "output_type": "stream",
     "text": [
      "\n",
      "\n",
      "Heading Not Found \n",
      " ['Επίσημη αποδέσμευση παρτίδων', 'Επιπρόσθετα μέτρα ελαχιστοποίησης κινδύνου', 'Υποχρέωση λήψης μετεγκριτικών μέτρων ', 'ΕΙΔΙΚΗ ΥΠΟΧΡΕΩΣΗ ΟΛΟΚΛΗΡΩΣΗΣ ΜΕΤΕΓΚΡΙΤΙΚΩΝ ΜΕΤΡΩΝ ΓΙΑ <ΤΗΝ ΑΔΕΙΑ ΚΥΚΛΟΦΟΡΙΑΣ ΜΕ ΕΓΚΡΙΣΗ ΥΠΟ ΟΡΟΥΣ> <ΤΗΝ ΑΔΕΙΑ ΚΥΚΛΟΦΟΡΙΑΣ ΥΠΟ ΕΞΑΙΡΕΤΙΚΕΣ ΠΕΡΙΣΤΑΣΕΙΣ>']\n",
      "\n",
      "\n",
      "dict_keys([])\n",
      "Completed Heading Extraction For File\n",
      "Metrics : 1: Heading Extraction,0.3909 Min,0.463237 MB,3.050942 MB,50.7%\n",
      "\n",
      "Starting Document Annotation For File :- gonal-f_clean_ΠΑΡΑΡΤΗΜΑ II.json\n",
      "Error Found No Authorization Code Found In The Document gonal-f_clean_ΠΑΡΑΡΤΗΜΑ II.json\n",
      "Completed Document Annotation\n",
      "Metrics : 1: Document Annotation,0.0005 Min,0.154303 MB,0.165438 MB,50.6%\n",
      "\n",
      "Starting Extracting Content Between Heading For File :- gonal-f_clean_ΠΑΡΑΡΤΗΜΑ II.json\n",
      "File being processed: F:\\Projects\\EMA\\Repository\\EMA EPI PoC\\function_code\\work\\H\\CAP\\GONAL-f\\el\\2021-06-06T10-02-52Z\\partitionedJSONs\\gonal-f_clean_ΠΑΡΑΡΤΗΜΑ II.json\n",
      "--------------------------------------------\n",
      "Completed Extracting Content Between Heading\n",
      "Metrics : 1: Content Extraction,0.0018 Min,0.238382 MB,0.553119 MB,50.6%\n",
      "\n",
      "Already Exists\n"
     ]
    },
    {
     "name": "stderr",
     "output_type": "stream",
     "text": [
      "2021-06-19 01:31:23,923 : XmlGeneration_1_Y : PMS/OMS Annotation Information Not Retrieved | H | CAP |  el | 1 | gonal-f_clean_ΠΑΡΑΡΤΗΜΑ II.json\n",
      "2021-06-19 01:31:23,923 : XmlGeneration_1_Y : PMS/OMS Annotation Information Not Retrieved | H | CAP |  el | 1 | gonal-f_clean_ΠΑΡΑΡΤΗΜΑ II.json\n",
      "2021-06-19 01:31:23,932 : XmlGeneration_1_Y : Initiating XML Generation | H | CAP |  el | 1 | gonal-f_clean_ΠΑΡΑΡΤΗΜΑ II.json\n",
      "2021-06-19 01:31:23,932 : XmlGeneration_1_Y : Initiating XML Generation | H | CAP |  el | 1 | gonal-f_clean_ΠΑΡΑΡΤΗΜΑ II.json\n",
      "2021-06-19 01:31:24,089 : XmlGeneration_1_Y : Writing to File:gonal-f_clean_ΠΑΡΑΡΤΗΜΑ II.xml | H | CAP |  el | 1 | gonal-f_clean_ΠΑΡΑΡΤΗΜΑ II.json\n",
      "2021-06-19 01:31:24,089 : XmlGeneration_1_Y : Writing to File:gonal-f_clean_ΠΑΡΑΡΤΗΜΑ II.xml | H | CAP |  el | 1 | gonal-f_clean_ΠΑΡΑΡΤΗΜΑ II.json\n",
      "2021-06-19 01:31:24,102 : Flow Logger HTML_5 : 1: Generate XML,0.0046 Min,0.493644 MB,1.053528 MB,50.6%\n",
      " | H | CAP |  el | HTML | gonal-f_clean.htm\n"
     ]
    },
    {
     "name": "stdout",
     "output_type": "stream",
     "text": [
      "Metrics : 1: Generate XML,0.0046 Min,0.493644 MB,1.053528 MB,50.6%\n",
      "\n"
     ]
    },
    {
     "name": "stderr",
     "output_type": "stream",
     "text": [
      "2021-06-19 01:31:26,107 : XML Submission Logger_1_7 : Initiating Submission To FHIR Server | H | CAP |  el | 1 | gonal-f_clean_ΠΑΡΑΡΤΗΜΑ II.json\n",
      "2021-06-19 01:31:26,109 : XML Submission Logger_1_7 : Response{\"resourceType\":\"Bundle\",\"id\":\"99c6cb41-03b3-4801-858d-9a6765657a36\",\"meta\":{\"versionId\":\"1\",\"lastUpdated\":\"2021-06-18T20:01:25.599+00:00\"},\"type\":\"collection\",\"entry\":[{\"fullUrl\":\"urn:uuid:b7ede5ab-0d1d-4d41-89ce-4b8bffb0365b\",\"resource\":{\"resourceType\":\"Bundle\",\"id\":\"6e77ee52-7415-44ae-809e-227b125a90a9\",\"identifier\":{\"system\":\"http://ema.europa.eu/fhir/identifier/documentid\",\"value\":\"6e77ee52-7415-44ae-809e-227b125a90a9\"},\"type\":\"document\",\"timestamp\":\"2021-06-18T20:01:23+00:00\",\"entry\":[{\"fu | H | CAP |  el | 1 | gonal-f_clean_ΠΑΡΑΡΤΗΜΑ II.json\n",
      "2021-06-19 01:31:26,115 : XML Submission Logger_1_7 : POST sucessful: XML added with id: 99c6cb41-03b3-4801-858d-9a6765657a36 | H | CAP |  el | 1 | gonal-f_clean_ΠΑΡΑΡΤΗΜΑ II.json\n",
      "2021-06-19 01:31:26,120 : Flow Logger HTML_5 : 1: Submit FHIR Msg,0.0335 Min,0.201465 MB,0.39118 MB,50.6%\n",
      " | H | CAP |  el | HTML | gonal-f_clean.htm\n",
      "2021-06-19 01:31:26,127 : Flow Logger HTML_5 : Starting list bundle update/addition | H | CAP |  el | HTML | gonal-f_clean.htm\n",
      "2021-06-19 01:31:26,139 : List Bundle Creation Logger_1_T : Extracted list bundle document type code this document 100000155533 | H | CAP |  el | 1 | gonal-f_clean_ΠΑΡΑΡΤΗΜΑ II.json\n",
      "2021-06-19 01:31:26,142 : List Bundle Creation Logger_1_T : Getting Existing List Bundle accross all MANs | H | CAP |  el | 1 | gonal-f_clean_ΠΑΡΑΡΤΗΜΑ II.json\n",
      "2021-06-19 01:31:26,145 : List Bundle Creation Logger_1_T : Getting list bundle for MAN EU/1/95/001/025  | H | CAP |  el | 1 | gonal-f_clean_ΠΑΡΑΡΤΗΜΑ II.json\n"
     ]
    },
    {
     "name": "stdout",
     "output_type": "stream",
     "text": [
      "POST sucessful: XML added with id 99c6cb41-03b3-4801-858d-9a6765657a36\n",
      "Metrics : 1: Submit FHIR Msg,0.0335 Min,0.201465 MB,0.39118 MB,50.6%\n",
      "\n",
      "Created XML File For :- gonal-f_clean_ΠΑΡΑΡΤΗΜΑ II.json\n",
      "\n",
      "listRegulatedAuthCodesAccrossePI ['EU/1/95/001/025', 'EU/1/95/001/026', 'EU/1/95/001/027', 'EU/1/95/001/021', 'EU/1/95/001/031', 'EU/1/95/001/000', 'EU/1/95/001/033', 'EU/1/95/001/034', 'EU/1/95/001/035']\n"
     ]
    },
    {
     "name": "stderr",
     "output_type": "stream",
     "text": [
      "2021-06-19 01:31:27,114 : List Bundle Creation Logger_1_T : Getting list bundle for MAN EU/1/95/001/026  | H | CAP |  el | 1 | gonal-f_clean_ΠΑΡΑΡΤΗΜΑ II.json\n",
      "2021-06-19 01:31:28,000 : List Bundle Creation Logger_1_T : Getting list bundle for MAN EU/1/95/001/027  | H | CAP |  el | 1 | gonal-f_clean_ΠΑΡΑΡΤΗΜΑ II.json\n",
      "2021-06-19 01:31:28,855 : List Bundle Creation Logger_1_T : Getting list bundle for MAN EU/1/95/001/021  | H | CAP |  el | 1 | gonal-f_clean_ΠΑΡΑΡΤΗΜΑ II.json\n",
      "2021-06-19 01:31:29,919 : List Bundle Creation Logger_1_T : Getting list bundle for MAN EU/1/95/001/031  | H | CAP |  el | 1 | gonal-f_clean_ΠΑΡΑΡΤΗΜΑ II.json\n",
      "2021-06-19 01:31:30,822 : List Bundle Creation Logger_1_T : Getting list bundle for MAN EU/1/95/001/000  | H | CAP |  el | 1 | gonal-f_clean_ΠΑΡΑΡΤΗΜΑ II.json\n",
      "2021-06-19 01:31:31,757 : List Bundle Creation Logger_1_T : Getting list bundle for MAN EU/1/95/001/033  | H | CAP |  el | 1 | gonal-f_clean_ΠΑΡΑΡΤΗΜΑ II.json\n",
      "2021-06-19 01:31:32,651 : List Bundle Creation Logger_1_T : Getting list bundle for MAN EU/1/95/001/034  | H | CAP |  el | 1 | gonal-f_clean_ΠΑΡΑΡΤΗΜΑ II.json\n",
      "2021-06-19 01:31:33,612 : List Bundle Creation Logger_1_T : Getting list bundle for MAN EU/1/95/001/035  | H | CAP |  el | 1 | gonal-f_clean_ΠΑΡΑΡΤΗΜΑ II.json\n",
      "2021-06-19 01:31:34,553 : List Bundle Creation Logger_1_T : Getting Existing List Bundle using common list id 576fbb3b-1d11-4abd-9beb-77d36ab11ceb | H | CAP |  el | 1 | gonal-f_clean_ΠΑΡΑΡΤΗΜΑ II.json\n",
      "2021-06-19 01:31:35,825 : List Bundle Creation Logger_1_T : Added missing MAN identifiers | H | CAP |  el | 1 | gonal-f_clean_ΠΑΡΑΡΤΗΜΑ II.json\n",
      "2021-06-19 01:31:35,828 : List Bundle Creation Logger_1_T : Updating existing item | H | CAP |  el | 1 | gonal-f_clean_ΠΑΡΑΡΤΗΜΑ II.json\n",
      "2021-06-19 01:31:35,842 : List Bundle Creation Logger_1_T : Converted to required XML format | H | CAP |  el | 1 | gonal-f_clean_ΠΑΡΑΡΤΗΜΑ II.json\n"
     ]
    },
    {
     "name": "stdout",
     "output_type": "stream",
     "text": [
      "b'<List xmlns=\"http://hl7.org/fhir\"><id value=\"576fbb3b-1d11-4abd-9beb-77d36ab11ceb\" /><identifier><system value=\"http://spor.ema.europa.eu/v2/medicine-name\" /><value value=\"gonal-f\" /></identifier><identifier><system value=\"http://spor.ema.europa.eu/v2/marketing-authorisation-numbers\" /><value value=\"EU/1/95/001/025\" /></identifier><identifier><system value=\"http://spor.ema.europa.eu/v2/marketing-authorisation-numbers\" /><value value=\"EU/1/95/001/026\" /></identifier><identifier><system value=\"http://spor.ema.europa.eu/v2/marketing-authorisation-numbers\" /><value value=\"EU/1/95/001/027\" /></identifier><identifier><system value=\"http://spor.ema.europa.eu/v2/marketing-authorisation-numbers\" /><value value=\"EU/1/95/001/021\" /></identifier><identifier><system value=\"http://spor.ema.europa.eu/v2/marketing-authorisation-numbers\" /><value value=\"EU/1/95/001/031\" /></identifier><identifier><system value=\"http://spor.ema.europa.eu/v2/marketing-authorisation-numbers\" /><value value=\"EU/1/95/001/000\" /></identifier><identifier><system value=\"http://spor.ema.europa.eu/v2/marketing-authorisation-numbers\" /><value value=\"EU/1/95/001/033\" /></identifier><identifier><system value=\"http://spor.ema.europa.eu/v2/marketing-authorisation-numbers\" /><value value=\"EU/1/95/001/034\" /></identifier><identifier><system value=\"http://spor.ema.europa.eu/v2/marketing-authorisation-numbers\" /><value value=\"EU/1/95/001/035\" /></identifier><identifier><system value=\"http://spor.ema.europa.eu/v2/marketing-authorisation-numbers\" /><value value=\"EU/1/95/001/000\\xce\\x95\\xce\\xbd\\xce\\xad\\xcf\\x83\\xce\\xb9\\xce\\xbc\\xce\\xbf\" /></identifier><status value=\"current\" /><mode value=\"working\" /><code><coding><system value=\"http://spor.ema.europa.eu/v1/example-pi-list-types\" /><code value=\"00000021213\" /><display value=\"ePI Master List\" /></coding></code><subject><extension url=\"http://ema.europa.eu/fhir/extension/domain\"><valueCoding><system value=\"http://spor.ema.europa.eu/v1/100000000004\" /><code value=\"100000000012\" /><display value=\"H\" /></valueCoding></extension><extension url=\"http://ema.europa.eu/fhir/extension/medicine-name\"><valueCoding><system value=\"http://spor.ema.europa.eu/v1/100000000005\" /><code value=\"medicine-name-code\" /><display value=\"GONAL-f\" /></valueCoding></extension></subject><entry><item><extension url=\"http://ema.europa.eu/fhir/extension/documentType\"><valueCoding><system value=\"http://spor.ema.europa.eu/v1/100000155531\" /><code value=\"100000155532\" /><display value=\"SmPC\" /></valueCoding></extension><extension url=\"http://ema.europa.eu/fhir/extension/language\"><valueCoding><system value=\"http://spor.ema.europa.eu/v1/100000072057\" /><code value=\"100000072147\" /><display value=\"en\" /></valueCoding></extension><reference value=\"Bundle/58a716ba-1915-4fa4-90df-d655ee9adedc\" /></item></entry><entry><item><extension url=\"http://ema.europa.eu/fhir/extension/documentType\"><valueCoding><system value=\"http://spor.ema.europa.eu/v1/100000155531\" /><code value=\"100000155533\" /><display value=\"AnnexII\" /></valueCoding></extension><extension url=\"http://ema.europa.eu/fhir/extension/language\"><valueCoding><system value=\"http://spor.ema.europa.eu/v1/100000072057\" /><code value=\"100000072147\" /><display value=\"en\" /></valueCoding></extension><reference value=\"Bundle/8efae8ee-5515-40bf-ac3c-81f5c77cdfb7\" /></item></entry><entry><item><extension url=\"http://ema.europa.eu/fhir/extension/documentType\"><valueCoding><system value=\"http://spor.ema.europa.eu/v1/100000155531\" /><code value=\"100000155535\" /><display value=\"Labelling\" /></valueCoding></extension><extension url=\"http://ema.europa.eu/fhir/extension/language\"><valueCoding><system value=\"http://spor.ema.europa.eu/v1/100000072057\" /><code value=\"100000072147\" /><display value=\"en\" /></valueCoding></extension><reference value=\"Bundle/af92e174-a718-4da4-8dee-6eea5be18357\" /></item></entry><entry><item><extension url=\"http://ema.europa.eu/fhir/extension/documentType\"><valueCoding><system value=\"http://spor.ema.europa.eu/v1/100000155531\" /><code value=\"100000155538\" /><display value=\"Package leaflet\" /></valueCoding></extension><extension url=\"http://ema.europa.eu/fhir/extension/language\"><valueCoding><system value=\"http://spor.ema.europa.eu/v1/100000072057\" /><code value=\"100000072147\" /><display value=\"en\" /></valueCoding></extension><reference value=\"Bundle/None\" /></item></entry><entry><item><extension url=\"http://ema.europa.eu/fhir/extension/documentType\"><valueCoding><system value=\"http://spor.ema.europa.eu/v1/100000155531\" /><code value=\"100000155532\" /><display value=\"SmPC\" /></valueCoding></extension><extension url=\"http://ema.europa.eu/fhir/extension/language\"><valueCoding><system value=\"http://spor.ema.europa.eu/v1/100000072057\" /><code value=\"100000072181\" /><display value=\"el\" /></valueCoding></extension><reference value=\"Bundle/13ae3b13-473d-46e2-af44-96d25cbf06f0\" /></item></entry><entry><item><extension url=\"http://ema.europa.eu/fhir/extension/documentType\"><valueCoding><system value=\"http://spor.ema.europa.eu/v1/100000155531\" /><code value=\"100000155533\" /><display value=\"\\xce\\xa0\\xce\\x91\\xce\\xa1\\xce\\x91\\xce\\xa1\\xce\\xa4\\xce\\x97\\xce\\x9c\\xce\\x91 \\xce\\x99\\xce\\x99\" /></valueCoding></extension><extension url=\"http://ema.europa.eu/fhir/extension/language\"><valueCoding><system value=\"http://spor.ema.europa.eu/v1/100000072057\" /><code value=\"100000072181\" /><display value=\"el\" /></valueCoding></extension><reference value=\"Bundle/99c6cb41-03b3-4801-858d-9a6765657a36\" /></item></entry><entry><item><extension url=\"http://ema.europa.eu/fhir/extension/documentType\"><valueCoding><system value=\"http://spor.ema.europa.eu/v1/100000155531\" /><code value=\"100000155535\" /><display value=\"\\xce\\x95\\xce\\xa0\\xce\\x99\\xce\\xa3\\xce\\x97\\xce\\x9c\\xce\\x91\\xce\\x9d\\xce\\xa3\\xce\\x97\" /></valueCoding></extension><extension url=\"http://ema.europa.eu/fhir/extension/language\"><valueCoding><system value=\"http://spor.ema.europa.eu/v1/100000072057\" /><code value=\"100000072181\" /><display value=\"el\" /></valueCoding></extension><reference value=\"Bundle/940224a6-8d60-4f61-b051-fca1900de3a2\" /></item></entry><entry><item><extension url=\"http://ema.europa.eu/fhir/extension/documentType\"><valueCoding><system value=\"http://spor.ema.europa.eu/v1/100000155531\" /><code value=\"100000155532\" /><display value=\"SmPC\" /></valueCoding></extension><extension url=\"http://ema.europa.eu/fhir/extension/language\"><valueCoding><system value=\"http://spor.ema.europa.eu/v1/100000072057\" /><code value=\"100000072178\" /><display value=\"de\" /></valueCoding></extension><reference value=\"Bundle/3839340e-83b6-4a2f-81a3-e5c5932e0774\" /></item></entry><entry><item><extension url=\"http://ema.europa.eu/fhir/extension/documentType\"><valueCoding><system value=\"http://spor.ema.europa.eu/v1/100000155531\" /><code value=\"100000155533\" /><display value=\"ANHANG II\" /></valueCoding></extension><extension url=\"http://ema.europa.eu/fhir/extension/language\"><valueCoding><system value=\"http://spor.ema.europa.eu/v1/100000072057\" /><code value=\"100000072178\" /><display value=\"de\" /></valueCoding></extension><reference value=\"Bundle/3b704cc9-208a-4e3b-8a10-02d7b3a28998\" /></item></entry><entry><item><extension url=\"http://ema.europa.eu/fhir/extension/documentType\"><valueCoding><system value=\"http://spor.ema.europa.eu/v1/100000155531\" /><code value=\"100000155535\" /><display value=\"Etikettierung\" /></valueCoding></extension><extension url=\"http://ema.europa.eu/fhir/extension/language\"><valueCoding><system value=\"http://spor.ema.europa.eu/v1/100000072057\" /><code value=\"100000072178\" /><display value=\"de\" /></valueCoding></extension><reference value=\"Bundle/1b96fbbe-908b-4336-a532-9bc9c5b4a79c\" /></item></entry><entry><item><extension url=\"http://ema.europa.eu/fhir/extension/documentType\"><valueCoding><system value=\"http://spor.ema.europa.eu/v1/100000155531\" /><code value=\"100000155538\" /><display value=\"Packungsbeilage\" /></valueCoding></extension><extension url=\"http://ema.europa.eu/fhir/extension/language\"><valueCoding><system value=\"http://spor.ema.europa.eu/v1/100000072057\" /><code value=\"100000072178\" /><display value=\"de\" /></valueCoding></extension><reference value=\"Bundle/None\" /></item></entry><entry><item><extension url=\"http://ema.europa.eu/fhir/extension/documentType\"><valueCoding><system value=\"http://spor.ema.europa.eu/v1/100000155531\" /><code value=\"100000155532\" /><display value=\"SmPC\" /></valueCoding></extension><extension url=\"http://ema.europa.eu/fhir/extension/language\"><valueCoding><system value=\"http://spor.ema.europa.eu/v1/100000072057\" /><code value=\"100000072264\" /><display value=\"es\" /></valueCoding></extension><reference value=\"Bundle/f8306b1e-29f2-40a8-b21b-93d894f703c4\" /></item></entry><entry><item><extension url=\"http://ema.europa.eu/fhir/extension/documentType\"><valueCoding><system value=\"http://spor.ema.europa.eu/v1/100000155531\" /><code value=\"100000155533\" /><display value=\"AnnexII\" /></valueCoding></extension><extension url=\"http://ema.europa.eu/fhir/extension/language\"><valueCoding><system value=\"http://spor.ema.europa.eu/v1/100000072057\" /><code value=\"100000072264\" /><display value=\"es\" /></valueCoding></extension><reference value=\"Bundle/f7dee032-cc03-4df0-a358-530ad9e7966d\" /></item></entry><entry><item><extension url=\"http://ema.europa.eu/fhir/extension/documentType\"><valueCoding><system value=\"http://spor.ema.europa.eu/v1/100000155531\" /><code value=\"100000155535\" /><display value=\"Labelling\" /></valueCoding></extension><extension url=\"http://ema.europa.eu/fhir/extension/language\"><valueCoding><system value=\"http://spor.ema.europa.eu/v1/100000072057\" /><code value=\"100000072264\" /><display value=\"es\" /></valueCoding></extension><reference value=\"Bundle/5b414d3d-3bcd-4778-bf9c-5606f0b9ccda\" /></item></entry><entry><item><extension url=\"http://ema.europa.eu/fhir/extension/documentType\"><valueCoding><system value=\"http://spor.ema.europa.eu/v1/100000155531\" /><code value=\"100000155538\" /><display value=\"Package leaflet\" /></valueCoding></extension><extension url=\"http://ema.europa.eu/fhir/extension/language\"><valueCoding><system value=\"http://spor.ema.europa.eu/v1/100000072057\" /><code value=\"100000072264\" /><display value=\"es\" /></valueCoding></extension><reference value=\"Bundle/None\" /></item></entry><entry><item><extension url=\"http://ema.europa.eu/fhir/extension/documentType\"><valueCoding><system value=\"http://spor.ema.europa.eu/v1/100000155531\" /><code value=\"100000155538\" /><display value=\"\\xce\\xa6\\xce\\xa5\\xce\\x9b\\xce\\x9b\\xce\\x9f \\xce\\x9f\\xce\\x94\\xce\\x97\\xce\\x93\\xce\\x99\\xce\\xa9\\xce\\x9d \\xce\\xa7\\xce\\xa1\\xce\\x97\\xce\\xa3\\xce\\x97\\xce\\xa3\" /></valueCoding></extension><extension url=\"http://ema.europa.eu/fhir/extension/language\"><valueCoding><system value=\"http://spor.ema.europa.eu/v1/100000072057\" /><code value=\"100000072181\" /><display value=\"el\" /></valueCoding></extension><reference value=\"Bundle/None\" /></item></entry></List>'\n",
      "Updating\n"
     ]
    },
    {
     "name": "stderr",
     "output_type": "stream",
     "text": [
      "2021-06-19 01:31:37,157 : List Bundle Creation Logger_1_T : List update successfully completed 576fbb3b-1d11-4abd-9beb-77d36ab11ceb | H | CAP |  el | 1 | gonal-f_clean_ΠΑΡΑΡΤΗΜΑ II.json\n",
      "2021-06-19 01:31:37,161 : Flow Logger HTML_5 : Completed list bundle update/addition | H | CAP |  el | HTML | gonal-f_clean.htm\n",
      "2021-06-19 01:31:37,165 : Flow Logger HTML_5 : 1: Update/Add List Bundle,0.184 Min,0.271108 MB,0.575241 MB,50.6%\n",
      " | H | CAP |  el | HTML | gonal-f_clean.htm\n",
      "2021-06-19 01:31:37,174 : Flow Logger HTML_5 : \n",
      "\n",
      "\n",
      "\n",
      "||||||||||||||||||||||||||||||||2 ||||| gonal-f_clean_ ΕΠΙΣΗΜΑΝΣΗ.json||||||||||||||||||||||||||||||||\n",
      "\n",
      "\n",
      "\n",
      " | H | CAP |  el | HTML | gonal-f_clean.htm\n",
      "2021-06-19 01:31:37,187 : Heading Extraction gonal-f_clean_ ΕΠΙΣΗΜΑΝΣΗ.json_4 : Starting Heading Extraction | H | CAP |  el | 2 | gonal-f_clean_ ΕΠΙΣΗΜΑΝΣΗ.json\n"
     ]
    },
    {
     "name": "stdout",
     "output_type": "stream",
     "text": [
      "Metrics : 1: Update/Add List Bundle,0.184 Min,0.271108 MB,0.575241 MB,50.6%\n",
      "\n",
      "Index 2\n",
      "Starting Heading Extraction For File :- gonal-f_clean_ ΕΠΙΣΗΜΑΝΣΗ.json\n",
      "File being processed: F:\\Projects\\EMA\\Repository\\EMA EPI PoC\\function_code\\work\\H\\CAP\\GONAL-f\\el\\2021-06-06T10-02-52Z\\partitionedJSONs\\gonal-f_clean_ ΕΠΙΣΗΜΑΝΣΗ.json\n",
      "--------------------------------------------\n",
      "ΕΠΙΣΗΜΑΝΣΗ\n"
     ]
    },
    {
     "name": "stderr",
     "output_type": "stream",
     "text": [
      "2021-06-19 01:31:38,182 : Heading Extraction gonal-f_clean_ ΕΠΙΣΗΜΑΝΣΗ.json_4 : Started Extracting Heading | H | CAP |  el | 2 | gonal-f_clean_ ΕΠΙΣΗΜΑΝΣΗ.json\n",
      "2021-06-19 01:31:38,258 : Heading Extraction gonal-f_clean_ ΕΠΙΣΗΜΑΝΣΗ.json_4 : Match Passed : <=1|23.08|(87, 100, 95)|0.951| | H | CAP |  el | 2 | gonal-f_clean_ ΕΠΙΣΗΜΑΝΣΗ.json | Doc txt :- 'Α. ΕΠΙΣΗΜΑΝΣΗ' | Qrd txt :- 'ΕΠΙΣΗΜΑΝΣΗ' | Matched :- 'True'\n",
      "2021-06-19 01:31:38,273 : Heading Extraction gonal-f_clean_ ΕΠΙΣΗΜΑΝΣΗ.json_4 : Validation Passed As This The First Heading | H | CAP |  el | 2 | gonal-f_clean_ ΕΠΙΣΗΜΑΝΣΗ.json | currHeadId :- '22001' | prevHeadingCurrId :- '' | prevHeadingFoundId :- ''\n",
      "2021-06-19 01:31:38,384 : Heading Extraction gonal-f_clean_ ΕΠΙΣΗΜΑΝΣΗ.json_4 : Match Passed : Contains<>|76.0|(72, 88, 86)|0.922| | H | CAP |  el | 2 | gonal-f_clean_ ΕΠΙΣΗΜΑΝΣΗ.json | Doc txt :- 'ΕΝΔΕΙΞΕΙΣ ΠΟΥ ΠΡΕΠΕΙ ΝΑ ΑΝΑΓΡΑΦΟΝΤΑΙ ΣΤΗΝ ΕΞΩΤΕΡΙΚΗ ΣΥΣΚΕΥΑΣΙΑ' | Qrd txt :- 'ΕΝΔΕΙΞΕΙΣ ΠΟΥ ΠΡΕΠΕΙ ΝΑ ΑΝΑΓΡΑΦΟΝΤΑΙ <ΣΤΗΝ ΕΞΩΤΕΡΙΚΗ ΣΥΣΚΕΥΑΣΙΑ> <ΚΑΙ> < ΣΤΗ ΣΤΟΙΧΕΙΩΔΗ ΣΥΣΚΕΥΑΣΙΑ>' | Matched :- 'True'\n",
      "2021-06-19 01:31:38,409 : Heading Extraction gonal-f_clean_ ΕΠΙΣΗΜΑΝΣΗ.json_4 : Validation Passed | H | CAP |  el | 2 | gonal-f_clean_ ΕΠΙΣΗΜΑΝΣΗ.json | currHeadId :- '22002' | prevHeadingCurrId :- '22001' | prevHeadingFoundId :- '22001'\n",
      "2021-06-19 01:31:40,804 : Heading Extraction gonal-f_clean_ ΕΠΙΣΗΜΑΝΣΗ.json_4 : Match Passed | H | CAP |  el | 2 | gonal-f_clean_ ΕΠΙΣΗΜΑΝΣΗ.json | Doc txt :- '1. ΟΝΟΜΑΣΙΑ ΤΟΥ ΦΑΡΜΑΚΕΥΤΙΚΟΥ ΠΡΟΪΟΝΤΟΣ' | Qrd txt :- '1. ΟΝΟΜΑΣΙΑ ΤΟΥ ΦΑΡΜΑΚΕΥΤΙΚΟΥ ΠΡΟΪΟΝΤΟΣ' | Matched :- 'True'\n",
      "2021-06-19 01:31:40,827 : Heading Extraction gonal-f_clean_ ΕΠΙΣΗΜΑΝΣΗ.json_4 : Validation Passed | H | CAP |  el | 2 | gonal-f_clean_ ΕΠΙΣΗΜΑΝΣΗ.json | currHeadId :- '22003' | prevHeadingCurrId :- '22002' | prevHeadingFoundId :- '22002'\n",
      "2021-06-19 01:31:43,284 : Heading Extraction gonal-f_clean_ ΕΠΙΣΗΜΑΝΣΗ.json_4 : Match Passed | H | CAP |  el | 2 | gonal-f_clean_ ΕΠΙΣΗΜΑΝΣΗ.json | Doc txt :- '2. ΣΥΝΘΕΣΗ ΣΕ ΔΡΑΣΤΙΚΗ(ΕΣ) ΟΥΣΙΑ(ΕΣ)' | Qrd txt :- '2. ΣΥΝΘΕΣΗ ΣΕ ΔΡΑΣΤΙΚΗ(ΕΣ) ΟΥΣΙΑ(ΕΣ)' | Matched :- 'True'\n",
      "2021-06-19 01:31:43,308 : Heading Extraction gonal-f_clean_ ΕΠΙΣΗΜΑΝΣΗ.json_4 : Validation Passed | H | CAP |  el | 2 | gonal-f_clean_ ΕΠΙΣΗΜΑΝΣΗ.json | currHeadId :- '22004' | prevHeadingCurrId :- '22003' | prevHeadingFoundId :- '22003'\n",
      "2021-06-19 01:31:45,161 : Heading Extraction gonal-f_clean_ ΕΠΙΣΗΜΑΝΣΗ.json_4 : Match Passed | H | CAP |  el | 2 | gonal-f_clean_ ΕΠΙΣΗΜΑΝΣΗ.json | Doc txt :- '3. ΚΑΤΑΛΟΓΟΣ ΕΚΔΟΧΩΝ' | Qrd txt :- '3. ΚΑΤΑΛΟΓΟΣ ΕΚΔΟΧΩΝ' | Matched :- 'True'\n",
      "2021-06-19 01:31:45,185 : Heading Extraction gonal-f_clean_ ΕΠΙΣΗΜΑΝΣΗ.json_4 : Validation Passed | H | CAP |  el | 2 | gonal-f_clean_ ΕΠΙΣΗΜΑΝΣΗ.json | currHeadId :- '22005' | prevHeadingCurrId :- '22004' | prevHeadingFoundId :- '22004'\n",
      "2021-06-19 01:31:48,650 : Heading Extraction gonal-f_clean_ ΕΠΙΣΗΜΑΝΣΗ.json_4 : Match Passed | H | CAP |  el | 2 | gonal-f_clean_ ΕΠΙΣΗΜΑΝΣΗ.json | Doc txt :- '4. ΦΑΡΜΑΚΟΤΕΧΝΙΚΗ ΜΟΡΦΗ ΚΑΙ ΠΕΡΙΕΧΟΜΕΝΟ' | Qrd txt :- '4. ΦΑΡΜΑΚΟΤΕΧΝΙΚΗ ΜΟΡΦΗ ΚΑΙ ΠΕΡΙΕΧΟΜΕΝΟ' | Matched :- 'True'\n",
      "2021-06-19 01:31:48,674 : Heading Extraction gonal-f_clean_ ΕΠΙΣΗΜΑΝΣΗ.json_4 : Validation Passed | H | CAP |  el | 2 | gonal-f_clean_ ΕΠΙΣΗΜΑΝΣΗ.json | currHeadId :- '22006' | prevHeadingCurrId :- '22005' | prevHeadingFoundId :- '22005'\n",
      "2021-06-19 01:31:56,703 : Heading Extraction gonal-f_clean_ ΕΠΙΣΗΜΑΝΣΗ.json_4 : Match Passed | H | CAP |  el | 2 | gonal-f_clean_ ΕΠΙΣΗΜΑΝΣΗ.json | Doc txt :- '5. ΤΡΟΠΟΣ ΚΑΙ ΟΔΟΣ(ΟΙ) ΧΟΡΗΓΗΣΗΣ' | Qrd txt :- '5. ΤΡΟΠΟΣ ΚΑΙ ΟΔΟΣ(ΟΙ) ΧΟΡΗΓΗΣΗΣ' | Matched :- 'True'\n",
      "2021-06-19 01:31:56,723 : Heading Extraction gonal-f_clean_ ΕΠΙΣΗΜΑΝΣΗ.json_4 : Validation Passed | H | CAP |  el | 2 | gonal-f_clean_ ΕΠΙΣΗΜΑΝΣΗ.json | currHeadId :- '22007' | prevHeadingCurrId :- '22006' | prevHeadingFoundId :- '22006'\n",
      "2021-06-19 01:31:58,979 : Heading Extraction gonal-f_clean_ ΕΠΙΣΗΜΑΝΣΗ.json_4 : Match Passed | H | CAP |  el | 2 | gonal-f_clean_ ΕΠΙΣΗΜΑΝΣΗ.json | Doc txt :- '6. ΕΙΔΙΚΗ ΠΡΟΕΙΔΟΠΟΙΗΣΗ ΣΥΜΦΩΝΑ ΜΕ ΤΗΝ ΟΠΟΙΑ ΤΟ ΦΑΡΜΑΚΕΥΤΙΚΟ ΠΡΟΪΟΝ ΠΡΕΠΕΙ ΝΑ ΦΥΛΑΣΣΕΤΑΙ ΣΕ ΘΕΣΗ ΤΗΝ ΟΠΟΙΑ ΔΕΝ ΒΛΕΠΟΥΝ ΚΑΙ ΔΕΝ ΠΡΟΣΕΓΓΙΖΟΥΝ ΤΑ ΠΑΙΔΙΑ' | Qrd txt :- '6. ΕΙΔΙΚΗ ΠΡΟΕΙΔΟΠΟΙΗΣΗ ΣΥΜΦΩΝΑ ΜΕ ΤΗΝ ΟΠΟΙΑ ΤΟ ΦΑΡΜΑΚΕΥΤΙΚΟ ΠΡΟΪΟΝ ΠΡΕΠΕΙ ΝΑ ΦΥΛΑΣΣΕΤΑΙ ΣΕ ΘΕΣΗ ΤΗΝ ΟΠΟΙΑ ΔΕΝ ΒΛΕΠΟΥΝ ΚΑΙ ΔΕΝ ΠΡΟΣΕΓΓΙΖΟΥΝ ΤΑ ΠΑΙΔΙΑ' | Matched :- 'True'\n",
      "2021-06-19 01:31:59,000 : Heading Extraction gonal-f_clean_ ΕΠΙΣΗΜΑΝΣΗ.json_4 : Validation Passed | H | CAP |  el | 2 | gonal-f_clean_ ΕΠΙΣΗΜΑΝΣΗ.json | currHeadId :- '22008' | prevHeadingCurrId :- '22007' | prevHeadingFoundId :- '22007'\n",
      "2021-06-19 01:32:00,845 : Heading Extraction gonal-f_clean_ ΕΠΙΣΗΜΑΝΣΗ.json_4 : Match Passed | H | CAP |  el | 2 | gonal-f_clean_ ΕΠΙΣΗΜΑΝΣΗ.json | Doc txt :- '7. ΑΛΛΗ(ΕΣ) ΕΙΔΙΚΗ(ΕΣ) ΠΡΟΕΙΔΟΠΟΙΗΣΗ(ΕΙΣ), ΕΑΝ ΕΙΝΑΙ ΑΠΑΡΑΙΤΗΤΗ(ΕΣ)' | Qrd txt :- '7. ΑΛΛΗ(ΕΣ) ΕΙΔΙΚΗ(ΕΣ) ΠΡΟΕΙΔΟΠΟΙΗΣΗ(ΕΙΣ), ΕΑΝ ΕΙΝΑΙ ΑΠΑΡΑΙΤΗΤΗ(ΕΣ)' | Matched :- 'True'\n",
      "2021-06-19 01:32:00,872 : Heading Extraction gonal-f_clean_ ΕΠΙΣΗΜΑΝΣΗ.json_4 : Validation Passed | H | CAP |  el | 2 | gonal-f_clean_ ΕΠΙΣΗΜΑΝΣΗ.json | currHeadId :- '22009' | prevHeadingCurrId :- '22008' | prevHeadingFoundId :- '22008'\n",
      "2021-06-19 01:32:01,177 : Heading Extraction gonal-f_clean_ ΕΠΙΣΗΜΑΝΣΗ.json_4 : Match Passed | H | CAP |  el | 2 | gonal-f_clean_ ΕΠΙΣΗΜΑΝΣΗ.json | Doc txt :- '8. ΗΜΕΡΟΜΗΝΙΑ ΛΗΞΗΣ' | Qrd txt :- '8. ΗΜΕΡΟΜΗΝΙΑ ΛΗΞΗΣ' | Matched :- 'True'\n",
      "2021-06-19 01:32:01,201 : Heading Extraction gonal-f_clean_ ΕΠΙΣΗΜΑΝΣΗ.json_4 : Validation Passed | H | CAP |  el | 2 | gonal-f_clean_ ΕΠΙΣΗΜΑΝΣΗ.json | currHeadId :- '22010' | prevHeadingCurrId :- '22009' | prevHeadingFoundId :- '22009'\n",
      "2021-06-19 01:32:01,569 : Heading Extraction gonal-f_clean_ ΕΠΙΣΗΜΑΝΣΗ.json_4 : Match Passed | H | CAP |  el | 2 | gonal-f_clean_ ΕΠΙΣΗΜΑΝΣΗ.json | Doc txt :- '9. ΕΙΔΙΚΕΣ ΣΥΝΘΗΚΕΣ ΦΥΛΑΞΗΣ' | Qrd txt :- '9. ΕΙΔΙΚΕΣ ΣΥΝΘΗΚΕΣ ΦΥΛΑΞΗΣ' | Matched :- 'True'\n",
      "2021-06-19 01:32:01,591 : Heading Extraction gonal-f_clean_ ΕΠΙΣΗΜΑΝΣΗ.json_4 : Validation Passed | H | CAP |  el | 2 | gonal-f_clean_ ΕΠΙΣΗΜΑΝΣΗ.json | currHeadId :- '22011' | prevHeadingCurrId :- '22010' | prevHeadingFoundId :- '22010'\n",
      "2021-06-19 01:32:04,373 : Heading Extraction gonal-f_clean_ ΕΠΙΣΗΜΑΝΣΗ.json_4 : Match Passed | H | CAP |  el | 2 | gonal-f_clean_ ΕΠΙΣΗΜΑΝΣΗ.json | Doc txt :- '10. ΙΔΙΑΙΤΕΡΕΣ ΠΡΟΦΥΛΑΞΕΙΣ ΓΙΑ ΤΗΝ ΑΠΟΡΡΙΨΗ ΤΩΝ ΜΗ ΧΡΗΣΙΜΟΠΟΙΗΘΕΝΤΩΝ ΦΑΡΜΑΚΕΥΤΙΚΩΝ ΠΡΟΪΟΝΤΩΝ Ή ΤΩΝ ΥΠΟΛΕΙΜΜΑΤΩΝ ΠΟΥ ΠΡΟΕΡΧΟΝΤΑΙ ΑΠΟ ΑΥΤΑ, ΕΦΟΣΟΝ ΑΠΑΙΤΕΙΤΑΙ' | Qrd txt :- '10. ΙΔΙΑΙΤΕΡΕΣ ΠΡΟΦΥΛΑΞΕΙΣ ΓΙΑ ΤΗΝ ΑΠΟΡΡΙΨΗ ΤΩΝ ΜΗ ΧΡΗΣΙΜΟΠΟΙΗΘΕΝΤΩΝ ΦΑΡΜΑΚΕΥΤΙΚΩΝ ΠΡΟΪΟΝΤΩΝ Ή ΤΩΝ ΥΠΟΛΕΙΜΜΑΤΩΝ ΠΟΥ ΠΡΟΕΡΧΟΝΤΑΙ ΑΠΟ ΑΥΤΑ, ΕΦΟΣΟΝ ΑΠΑΙΤΕΙΤΑΙ' | Matched :- 'True'\n",
      "2021-06-19 01:32:04,406 : Heading Extraction gonal-f_clean_ ΕΠΙΣΗΜΑΝΣΗ.json_4 : Validation Passed | H | CAP |  el | 2 | gonal-f_clean_ ΕΠΙΣΗΜΑΝΣΗ.json | currHeadId :- '22012' | prevHeadingCurrId :- '22011' | prevHeadingFoundId :- '22011'\n",
      "2021-06-19 01:32:06,809 : Heading Extraction gonal-f_clean_ ΕΠΙΣΗΜΑΝΣΗ.json_4 : Match Passed | H | CAP |  el | 2 | gonal-f_clean_ ΕΠΙΣΗΜΑΝΣΗ.json | Doc txt :- '11. ΟΝΟΜΑ ΚΑΙ ΔΙΕΥΘΥΝΣΗ ΚΑΤΟΧΟΥ ΤΗΣ ΑΔΕΙΑΣ ΚΥΚΛΟΦΟΡΙΑΣ' | Qrd txt :- '11. ΟΝΟΜΑ ΚΑΙ ΔΙΕΥΘΥΝΣΗ ΚΑΤΟΧΟΥ ΤΗΣ ΑΔΕΙΑΣ ΚΥΚΛΟΦΟΡΙΑΣ' | Matched :- 'True'\n",
      "2021-06-19 01:32:06,847 : Heading Extraction gonal-f_clean_ ΕΠΙΣΗΜΑΝΣΗ.json_4 : Validation Passed | H | CAP |  el | 2 | gonal-f_clean_ ΕΠΙΣΗΜΑΝΣΗ.json | currHeadId :- '22013' | prevHeadingCurrId :- '22012' | prevHeadingFoundId :- '22012'\n",
      "2021-06-19 01:32:10,845 : Heading Extraction gonal-f_clean_ ΕΠΙΣΗΜΑΝΣΗ.json_4 : Match Passed | H | CAP |  el | 2 | gonal-f_clean_ ΕΠΙΣΗΜΑΝΣΗ.json | Doc txt :- '12. ΑΡΙΘΜΟΣ(ΟΙ) ΑΔΕΙΑΣ ΚΥΚΛΟΦΟΡΙΑΣ' | Qrd txt :- '12. ΑΡΙΘΜΟΣ(ΟΙ) ΑΔΕΙΑΣ ΚΥΚΛΟΦΟΡΙΑΣ' | Matched :- 'True'\n",
      "2021-06-19 01:32:10,873 : Heading Extraction gonal-f_clean_ ΕΠΙΣΗΜΑΝΣΗ.json_4 : Validation Passed | H | CAP |  el | 2 | gonal-f_clean_ ΕΠΙΣΗΜΑΝΣΗ.json | currHeadId :- '22014' | prevHeadingCurrId :- '22013' | prevHeadingFoundId :- '22013'\n",
      "2021-06-19 01:32:19,861 : Heading Extraction gonal-f_clean_ ΕΠΙΣΗΜΑΝΣΗ.json_4 : Match Passed : Contains<>|175.0|(53, 100, 90)|0.873| | H | CAP |  el | 2 | gonal-f_clean_ ΕΠΙΣΗΜΑΝΣΗ.json | Doc txt :- '13.     ΑΡΙΘΜΟΣ ΠΑΡΤΙΔΑΣ' | Qrd txt :- '13. ΑΡΙΘΜΟΣ ΠΑΡΤΙΔΑΣ<, ΣΤΟΙΧΕΙΑ ΔΟΤΗ ΚΑΙ ΚΩΔΙΚΟΙ ΠΡΟΪΟΝΤΟΣ>' | Matched :- 'True'\n"
     ]
    },
    {
     "name": "stderr",
     "output_type": "stream",
     "text": [
      "2021-06-19 01:32:19,882 : Heading Extraction gonal-f_clean_ ΕΠΙΣΗΜΑΝΣΗ.json_4 : Validation Passed | H | CAP |  el | 2 | gonal-f_clean_ ΕΠΙΣΗΜΑΝΣΗ.json | currHeadId :- '22015' | prevHeadingCurrId :- '22014' | prevHeadingFoundId :- '22014'\n",
      "2021-06-19 01:32:21,525 : Heading Extraction gonal-f_clean_ ΕΠΙΣΗΜΑΝΣΗ.json_4 : Match Passed | H | CAP |  el | 2 | gonal-f_clean_ ΕΠΙΣΗΜΑΝΣΗ.json | Doc txt :- '14. ΓΕΝΙΚΗ ΚΑΤΑΤΑΞΗ ΓΙΑ ΤΗ ΔΙΑΘΕΣΗ' | Qrd txt :- '14. ΓΕΝΙΚΗ ΚΑΤΑΤΑΞΗ ΓΙΑ ΤΗ ΔΙΑΘΕΣΗ' | Matched :- 'True'\n",
      "2021-06-19 01:32:21,544 : Heading Extraction gonal-f_clean_ ΕΠΙΣΗΜΑΝΣΗ.json_4 : Validation Passed | H | CAP |  el | 2 | gonal-f_clean_ ΕΠΙΣΗΜΑΝΣΗ.json | currHeadId :- '22016' | prevHeadingCurrId :- '22015' | prevHeadingFoundId :- '22015'\n",
      "2021-06-19 01:32:22,019 : Heading Extraction gonal-f_clean_ ΕΠΙΣΗΜΑΝΣΗ.json_4 : Match Passed | H | CAP |  el | 2 | gonal-f_clean_ ΕΠΙΣΗΜΑΝΣΗ.json | Doc txt :- '15. ΟΔΗΓΙΕΣ ΧΡΗΣΗΣ' | Qrd txt :- '15. ΟΔΗΓΙΕΣ ΧΡΗΣΗΣ' | Matched :- 'True'\n",
      "2021-06-19 01:32:22,048 : Heading Extraction gonal-f_clean_ ΕΠΙΣΗΜΑΝΣΗ.json_4 : Validation Passed | H | CAP |  el | 2 | gonal-f_clean_ ΕΠΙΣΗΜΑΝΣΗ.json | currHeadId :- '22017' | prevHeadingCurrId :- '22016' | prevHeadingFoundId :- '22016'\n",
      "2021-06-19 01:32:22,572 : Heading Extraction gonal-f_clean_ ΕΠΙΣΗΜΑΝΣΗ.json_4 : Match Passed | H | CAP |  el | 2 | gonal-f_clean_ ΕΠΙΣΗΜΑΝΣΗ.json | Doc txt :- '16. ΠΛΗΡΟΦΟΡΙΕΣ ΣΕ BRAILLE' | Qrd txt :- '16. ΠΛΗΡΟΦΟΡΙΕΣ ΣΕ BRAILLE' | Matched :- 'True'\n",
      "2021-06-19 01:32:22,599 : Heading Extraction gonal-f_clean_ ΕΠΙΣΗΜΑΝΣΗ.json_4 : Validation Passed | H | CAP |  el | 2 | gonal-f_clean_ ΕΠΙΣΗΜΑΝΣΗ.json | currHeadId :- '22018' | prevHeadingCurrId :- '22017' | prevHeadingFoundId :- '22017'\n",
      "2021-06-19 01:32:24,461 : Heading Extraction gonal-f_clean_ ΕΠΙΣΗΜΑΝΣΗ.json_4 : Match Passed | H | CAP |  el | 2 | gonal-f_clean_ ΕΠΙΣΗΜΑΝΣΗ.json | Doc txt :- '17. ΜΟΝΑΔΙΚΟΣ ΑΝΑΓΝΩΡΙΣΤΙΚΟΣ ΚΩΔΙΚΟΣ – ΔΙΣΔΙΑΣΤΑΤΟΣ ΓΡΑΜΜΩΤΟΣ ΚΩΔΙΚΑΣ (2D)' | Qrd txt :- '17. ΜΟΝΑΔΙΚΟΣ ΑΝΑΓΝΩΡΙΣΤΙΚΟΣ ΚΩΔΙΚΟΣ – ΔΙΣΔΙΑΣΤΑΤΟΣ ΓΡΑΜΜΩΤΟΣ ΚΩΔΙΚΑΣ (2D)' | Matched :- 'True'\n",
      "2021-06-19 01:32:24,484 : Heading Extraction gonal-f_clean_ ΕΠΙΣΗΜΑΝΣΗ.json_4 : Validation Passed | H | CAP |  el | 2 | gonal-f_clean_ ΕΠΙΣΗΜΑΝΣΗ.json | currHeadId :- '22019' | prevHeadingCurrId :- '22018' | prevHeadingFoundId :- '22018'\n",
      "2021-06-19 01:32:28,387 : Heading Extraction gonal-f_clean_ ΕΠΙΣΗΜΑΝΣΗ.json_4 : Match Passed | H | CAP |  el | 2 | gonal-f_clean_ ΕΠΙΣΗΜΑΝΣΗ.json | Doc txt :- '18. ΜΟΝΑΔΙΚΟΣ ΑΝΑΓΝΩΡΙΣΤΙΚΟΣ ΚΩΔΙΚΟΣ – ΔΕΔΟΜΕΝΑ ΑΝΑΓΝΩΣΙΜΑ ΑΠΟ ΤΟΝ ΑΝΘΡΩΠΟ' | Qrd txt :- '18. ΜΟΝΑΔΙΚΟΣ ΑΝΑΓΝΩΡΙΣΤΙΚΟΣ ΚΩΔΙΚΟΣ – ΔΕΔΟΜΕΝΑ ΑΝΑΓΝΩΣΙΜΑ ΑΠΟ ΤΟΝ ΑΝΘΡΩΠΟ' | Matched :- 'True'\n",
      "2021-06-19 01:32:28,415 : Heading Extraction gonal-f_clean_ ΕΠΙΣΗΜΑΝΣΗ.json_4 : Validation Passed | H | CAP |  el | 2 | gonal-f_clean_ ΕΠΙΣΗΜΑΝΣΗ.json | currHeadId :- '22020' | prevHeadingCurrId :- '22019' | prevHeadingFoundId :- '22019'\n",
      "2021-06-19 01:32:30,214 : Heading Extraction gonal-f_clean_ ΕΠΙΣΗΜΑΝΣΗ.json_4 : Match Passed | H | CAP |  el | 2 | gonal-f_clean_ ΕΠΙΣΗΜΑΝΣΗ.json | Doc txt :- 'ΕΛΑΧΙΣΤΕΣ ΕΝΔΕΙΞΕΙΣ ΠΟΥ ΠΡΕΠΕΙ ΝΑ ΑΝΑΓΡΑΦΟΝΤΑΙ ΣΤΙΣ ΜΙΚΡΕΣ ΣΤΟΙΧΕΙΩΔΕΙΣ ΣΥΣΚΕΥΑΣΙΕΣ' | Qrd txt :- 'ΕΛΑΧΙΣΤΕΣ ΕΝΔΕΙΞΕΙΣ ΠΟΥ ΠΡΕΠΕΙ ΝΑ ΑΝΑΓΡΑΦΟΝΤΑΙ ΣΤΙΣ ΜΙΚΡΕΣ ΣΤΟΙΧΕΙΩΔΕΙΣ ΣΥΣΚΕΥΑΣΙΕΣ' | Matched :- 'True'\n",
      "2021-06-19 01:32:30,246 : Heading Extraction gonal-f_clean_ ΕΠΙΣΗΜΑΝΣΗ.json_4 : Validation Flow Is Broken | H | CAP |  el | 2 | gonal-f_clean_ ΕΠΙΣΗΜΑΝΣΗ.json | currHeadId :- '22027' | prevHeadingCurrId :- '' | prevHeadingFoundId :- '22020'\n",
      "2021-06-19 01:32:30,272 : Heading Extraction gonal-f_clean_ ΕΠΙΣΗΜΑΝΣΗ.json_4 : Validation Passed | H | CAP |  el | 2 | gonal-f_clean_ ΕΠΙΣΗΜΑΝΣΗ.json | currHeadId :- '22027' | prevHeadingCurrId :- '22020' | prevHeadingFoundId :- '22020'\n",
      "2021-06-19 01:32:33,098 : Heading Extraction gonal-f_clean_ ΕΠΙΣΗΜΑΝΣΗ.json_4 : Match Passed | H | CAP |  el | 2 | gonal-f_clean_ ΕΠΙΣΗΜΑΝΣΗ.json | Doc txt :- '1. ΟΝΟΜΑΣΙΑ ΤΟΥ ΦΑΡΜΑΚΕΥΤΙΚΟΥ ΠΡΟΪΟΝΤΟΣ ΚΑΙ ΟΔΟΣ(ΟΙ) ΧΟΡΗΓΗΣΗΣ' | Qrd txt :- '1. ΟΝΟΜΑΣΙΑ ΤΟΥ ΦΑΡΜΑΚΕΥΤΙΚΟΥ ΠΡΟΪΟΝΤΟΣ ΚΑΙ ΟΔΟΣ(ΟΙ) ΧΟΡΗΓΗΣΗΣ' | Matched :- 'True'\n",
      "2021-06-19 01:32:33,123 : Heading Extraction gonal-f_clean_ ΕΠΙΣΗΜΑΝΣΗ.json_4 : Validation Passed | H | CAP |  el | 2 | gonal-f_clean_ ΕΠΙΣΗΜΑΝΣΗ.json | currHeadId :- '22028' | prevHeadingCurrId :- '22027' | prevHeadingFoundId :- '22027'\n",
      "2021-06-19 01:32:36,534 : Heading Extraction gonal-f_clean_ ΕΠΙΣΗΜΑΝΣΗ.json_4 : Match Passed | H | CAP |  el | 2 | gonal-f_clean_ ΕΠΙΣΗΜΑΝΣΗ.json | Doc txt :- '2. ΤΡΟΠΟΣ ΧΟΡΗΓΗΣΗΣ' | Qrd txt :- '2. ΤΡΟΠΟΣ ΧΟΡΗΓΗΣΗΣ' | Matched :- 'True'\n",
      "2021-06-19 01:32:36,563 : Heading Extraction gonal-f_clean_ ΕΠΙΣΗΜΑΝΣΗ.json_4 : Validation Passed | H | CAP |  el | 2 | gonal-f_clean_ ΕΠΙΣΗΜΑΝΣΗ.json | currHeadId :- '22029' | prevHeadingCurrId :- '22028' | prevHeadingFoundId :- '22028'\n",
      "2021-06-19 01:32:36,884 : Heading Extraction gonal-f_clean_ ΕΠΙΣΗΜΑΝΣΗ.json_4 : Match Passed : <=4|5.26|(95, 95, 95)|0.98| | H | CAP |  el | 2 | gonal-f_clean_ ΕΠΙΣΗΜΑΝΣΗ.json | Doc txt :- '3.       ΗΜΕΡΟΜΗΝΙΑ ΛΗΞΗΣ' | Qrd txt :- '8. ΗΜΕΡΟΜΗΝΙΑ ΛΗΞΗΣ' | Matched :- 'True'\n",
      "2021-06-19 01:32:36,904 : Heading Extraction gonal-f_clean_ ΕΠΙΣΗΜΑΝΣΗ.json_4 : Validation Failed As Previous Heading Found is not matching | H | CAP |  el | 2 | gonal-f_clean_ ΕΠΙΣΗΜΑΝΣΗ.json | currHeadId :- '22010' | prevHeadingCurrId :- '22009' | prevHeadingFoundId :- '22029'\n",
      "2021-06-19 01:32:37,394 : Heading Extraction gonal-f_clean_ ΕΠΙΣΗΜΑΝΣΗ.json_4 : Match Passed | H | CAP |  el | 2 | gonal-f_clean_ ΕΠΙΣΗΜΑΝΣΗ.json | Doc txt :- '3. ΗΜΕΡΟΜΗΝΙΑ ΛΗΞΗΣ' | Qrd txt :- '3. ΗΜΕΡΟΜΗΝΙΑ ΛΗΞΗΣ' | Matched :- 'True'\n",
      "2021-06-19 01:32:37,425 : Heading Extraction gonal-f_clean_ ΕΠΙΣΗΜΑΝΣΗ.json_4 : Validation Failed As Wrong Heading Found | H | CAP |  el | 2 | gonal-f_clean_ ΕΠΙΣΗΜΑΝΣΗ.json | currHeadId :- '22024' | prevHeadingCurrId :- '' | prevHeadingFoundId :- '22029'\n",
      "2021-06-19 01:32:37,618 : Heading Extraction gonal-f_clean_ ΕΠΙΣΗΜΑΝΣΗ.json_4 : Match Passed | H | CAP |  el | 2 | gonal-f_clean_ ΕΠΙΣΗΜΑΝΣΗ.json | Doc txt :- '3. ΗΜΕΡΟΜΗΝΙΑ ΛΗΞΗΣ' | Qrd txt :- '3. ΗΜΕΡΟΜΗΝΙΑ ΛΗΞΗΣ' | Matched :- 'True'\n",
      "2021-06-19 01:32:37,669 : Heading Extraction gonal-f_clean_ ΕΠΙΣΗΜΑΝΣΗ.json_4 : Validation Passed | H | CAP |  el | 2 | gonal-f_clean_ ΕΠΙΣΗΜΑΝΣΗ.json | currHeadId :- '22030' | prevHeadingCurrId :- '22029' | prevHeadingFoundId :- '22029'\n",
      "2021-06-19 01:32:38,349 : Heading Extraction gonal-f_clean_ ΕΠΙΣΗΜΑΝΣΗ.json_4 : Match Passed : Contains<>|194.74|(49, 95, 86)|0.758| | H | CAP |  el | 2 | gonal-f_clean_ ΕΠΙΣΗΜΑΝΣΗ.json | Doc txt :- '4.       ΑΡΙΘΜΟΣ ΠΑΡΤΙΔΑΣ' | Qrd txt :- '13. ΑΡΙΘΜΟΣ ΠΑΡΤΙΔΑΣ<, ΣΤΟΙΧΕΙΑ ΔΟΤΗ ΚΑΙ ΚΩΔΙΚΟΙ ΠΡΟΪΟΝΤΟΣ>' | Matched :- 'True'\n",
      "2021-06-19 01:32:38,400 : Heading Extraction gonal-f_clean_ ΕΠΙΣΗΜΑΝΣΗ.json_4 : Validation Failed As Previous Heading Found is not matching | H | CAP |  el | 2 | gonal-f_clean_ ΕΠΙΣΗΜΑΝΣΗ.json | currHeadId :- '22015' | prevHeadingCurrId :- '22014' | prevHeadingFoundId :- '22030'\n",
      "2021-06-19 01:32:38,860 : Heading Extraction gonal-f_clean_ ΕΠΙΣΗΜΑΝΣΗ.json_4 : Match Passed : Contains<>|184.21|(52, 100, 90)|0.87| | H | CAP |  el | 2 | gonal-f_clean_ ΕΠΙΣΗΜΑΝΣΗ.json | Doc txt :- '4.       ΑΡΙΘΜΟΣ ΠΑΡΤΙΔΑΣ' | Qrd txt :- '4. ΑΡΙΘΜΟΣ ΠΑΡΤΙΔΑΣ<, ΣΤΟΙΧΕΙΑ ΔΟΤΗ ΚΑΙ ΚΩΔΙΚΟΙ ΠΡΟΪΟΝΤΟΣ>' | Matched :- 'True'\n",
      "2021-06-19 01:32:38,894 : Heading Extraction gonal-f_clean_ ΕΠΙΣΗΜΑΝΣΗ.json_4 : Validation Failed As Wrong Heading Found | H | CAP |  el | 2 | gonal-f_clean_ ΕΠΙΣΗΜΑΝΣΗ.json | currHeadId :- '22025' | prevHeadingCurrId :- '' | prevHeadingFoundId :- '22030'\n",
      "2021-06-19 01:32:39,085 : Heading Extraction gonal-f_clean_ ΕΠΙΣΗΜΑΝΣΗ.json_4 : Match Passed : Contains<>|184.21|(52, 100, 90)|0.87| | H | CAP |  el | 2 | gonal-f_clean_ ΕΠΙΣΗΜΑΝΣΗ.json | Doc txt :- '4.       ΑΡΙΘΜΟΣ ΠΑΡΤΙΔΑΣ' | Qrd txt :- '4. ΑΡΙΘΜΟΣ ΠΑΡΤΙΔΑΣ<, ΣΤΟΙΧΕΙΑ ΔΟΤΗ ΚΑΙ ΚΩΔΙΚΟΙ ΠΡΟΪΟΝΤΟΣ>' | Matched :- 'True'\n",
      "2021-06-19 01:32:39,116 : Heading Extraction gonal-f_clean_ ΕΠΙΣΗΜΑΝΣΗ.json_4 : Validation Passed | H | CAP |  el | 2 | gonal-f_clean_ ΕΠΙΣΗΜΑΝΣΗ.json | currHeadId :- '22031' | prevHeadingCurrId :- '22030' | prevHeadingFoundId :- '22030'\n",
      "2021-06-19 01:32:40,860 : Heading Extraction gonal-f_clean_ ΕΠΙΣΗΜΑΝΣΗ.json_4 : Match Passed : <=7|2.5|(98, 98, 98)|0.995| | H | CAP |  el | 2 | gonal-f_clean_ ΕΠΙΣΗΜΑΝΣΗ.json | Doc txt :- '5.       ΠΕΡΙΕΧΟΜΕΝΟ ΚΑΤΑ ΒΑPΟΣ, ΚΑΤ' ΟΓΚΟ Ή ΚΑΤΑ ΜΟΝΑΔΑ' | Qrd txt :- '5. ΠΕΡΙΕΧΟΜΕΝΟ ΚΑΤΑ ΒΑΡΟΣ, ΚΑΤ' ΟΓΚΟ Ή ΚΑΤΑ ΜΟΝΑΔΑ' | Matched :- 'True'\n"
     ]
    },
    {
     "name": "stderr",
     "output_type": "stream",
     "text": [
      "2021-06-19 01:32:40,892 : Heading Extraction gonal-f_clean_ ΕΠΙΣΗΜΑΝΣΗ.json_4 : Validation Passed | H | CAP |  el | 2 | gonal-f_clean_ ΕΠΙΣΗΜΑΝΣΗ.json | currHeadId :- '22032' | prevHeadingCurrId :- '22031' | prevHeadingFoundId :- '22031'\n",
      "2021-06-19 01:32:41,700 : Heading Extraction gonal-f_clean_ ΕΠΙΣΗΜΑΝΣΗ.json_4 : Match Passed : <=4|6.25|(94, 94, 94)|0.975| | H | CAP |  el | 2 | gonal-f_clean_ ΕΠΙΣΗΜΑΝΣΗ.json | Doc txt :- '6.       ΑΛΛΑ ΣΤΟΙΧΕΙΑ' | Qrd txt :- '5. ΑΛΛΑ ΣΤΟΙΧΕΙΑ' | Matched :- 'True'\n",
      "2021-06-19 01:32:41,739 : Heading Extraction gonal-f_clean_ ΕΠΙΣΗΜΑΝΣΗ.json_4 : Validation Failed As Wrong Heading Found | H | CAP |  el | 2 | gonal-f_clean_ ΕΠΙΣΗΜΑΝΣΗ.json | currHeadId :- '22026' | prevHeadingCurrId :- '' | prevHeadingFoundId :- '22032'\n",
      "2021-06-19 01:32:41,914 : Heading Extraction gonal-f_clean_ ΕΠΙΣΗΜΑΝΣΗ.json_4 : Match Passed | H | CAP |  el | 2 | gonal-f_clean_ ΕΠΙΣΗΜΑΝΣΗ.json | Doc txt :- '6. ΑΛΛΑ ΣΤΟΙΧΕΙΑ' | Qrd txt :- '6. ΑΛΛΑ ΣΤΟΙΧΕΙΑ' | Matched :- 'True'\n",
      "2021-06-19 01:32:41,946 : Heading Extraction gonal-f_clean_ ΕΠΙΣΗΜΑΝΣΗ.json_4 : Validation Passed | H | CAP |  el | 2 | gonal-f_clean_ ΕΠΙΣΗΜΑΝΣΗ.json | currHeadId :- '22033' | prevHeadingCurrId :- '22032' | prevHeadingFoundId :- '22032'\n",
      "2021-06-19 01:32:43,512 : Heading Extraction gonal-f_clean_ ΕΠΙΣΗΜΑΝΣΗ.json_4 : Match Passed | H | CAP |  el | 2 | gonal-f_clean_ ΕΠΙΣΗΜΑΝΣΗ.json | Doc txt :- 'ΕΛΑΧΙΣΤΕΣ ΕΝΔΕΙΞΕΙΣ ΠΟΥ ΠΡΕΠΕΙ ΝΑ ΑΝΑΓΡΑΦΟΝΤΑΙ ΣΤΙΣ ΜΙΚΡΕΣ ΣΤΟΙΧΕΙΩΔΕΙΣ ΣΥΣΚΕΥΑΣΙΕΣ' | Qrd txt :- 'ΕΛΑΧΙΣΤΕΣ ΕΝΔΕΙΞΕΙΣ ΠΟΥ ΠΡΕΠΕΙ ΝΑ ΑΝΑΓΡΑΦΟΝΤΑΙ ΣΤΙΣ ΜΙΚΡΕΣ ΣΤΟΙΧΕΙΩΔΕΙΣ ΣΥΣΚΕΥΑΣΙΕΣ' | Matched :- 'True'\n",
      "2021-06-19 01:32:43,532 : Heading Extraction gonal-f_clean_ ΕΠΙΣΗΜΑΝΣΗ.json_4 : (27, 2.0, 'CAP') Validation Passed As Current Heading Is Same As Previous H1 Heading | H | CAP |  el | 2 | gonal-f_clean_ ΕΠΙΣΗΜΑΝΣΗ.json | currHeadId :- '22027' | prevHeadingCurrId :- '' | prevHeadingFoundId :- '22033'\n",
      "2021-06-19 01:32:47,162 : Heading Extraction gonal-f_clean_ ΕΠΙΣΗΜΑΝΣΗ.json_4 : Match Passed | H | CAP |  el | 2 | gonal-f_clean_ ΕΠΙΣΗΜΑΝΣΗ.json | Doc txt :- '1. ΟΝΟΜΑΣΙΑ ΤΟΥ ΦΑΡΜΑΚΕΥΤΙΚΟΥ ΠΡΟΪΟΝΤΟΣ ΚΑΙ ΟΔΟΣ(ΟΙ) ΧΟΡΗΓΗΣΗΣ' | Qrd txt :- '1. ΟΝΟΜΑΣΙΑ ΤΟΥ ΦΑΡΜΑΚΕΥΤΙΚΟΥ ΠΡΟΪΟΝΤΟΣ ΚΑΙ ΟΔΟΣ(ΟΙ) ΧΟΡΗΓΗΣΗΣ' | Matched :- 'True'\n",
      "2021-06-19 01:32:47,182 : Heading Extraction gonal-f_clean_ ΕΠΙΣΗΜΑΝΣΗ.json_4 : Validation Passed | H | CAP |  el | 2 | gonal-f_clean_ ΕΠΙΣΗΜΑΝΣΗ.json | currHeadId :- '22028' | prevHeadingCurrId :- '22027' | prevHeadingFoundId :- '22027'\n",
      "2021-06-19 01:32:50,032 : Heading Extraction gonal-f_clean_ ΕΠΙΣΗΜΑΝΣΗ.json_4 : Match Passed | H | CAP |  el | 2 | gonal-f_clean_ ΕΠΙΣΗΜΑΝΣΗ.json | Doc txt :- '2. ΤΡΟΠΟΣ ΧΟΡΗΓΗΣΗΣ' | Qrd txt :- '2. ΤΡΟΠΟΣ ΧΟΡΗΓΗΣΗΣ' | Matched :- 'True'\n",
      "2021-06-19 01:32:50,057 : Heading Extraction gonal-f_clean_ ΕΠΙΣΗΜΑΝΣΗ.json_4 : Validation Passed | H | CAP |  el | 2 | gonal-f_clean_ ΕΠΙΣΗΜΑΝΣΗ.json | currHeadId :- '22029' | prevHeadingCurrId :- '22028' | prevHeadingFoundId :- '22028'\n",
      "2021-06-19 01:32:50,371 : Heading Extraction gonal-f_clean_ ΕΠΙΣΗΜΑΝΣΗ.json_4 : Match Passed : <=4|5.26|(95, 95, 95)|0.98| | H | CAP |  el | 2 | gonal-f_clean_ ΕΠΙΣΗΜΑΝΣΗ.json | Doc txt :- '3.       ΗΜΕΡΟΜΗΝΙΑ ΛΗΞΗΣ' | Qrd txt :- '8. ΗΜΕΡΟΜΗΝΙΑ ΛΗΞΗΣ' | Matched :- 'True'\n",
      "2021-06-19 01:32:50,394 : Heading Extraction gonal-f_clean_ ΕΠΙΣΗΜΑΝΣΗ.json_4 : Validation Failed As Previous Heading Found is not matching | H | CAP |  el | 2 | gonal-f_clean_ ΕΠΙΣΗΜΑΝΣΗ.json | currHeadId :- '22010' | prevHeadingCurrId :- '22009' | prevHeadingFoundId :- '22029'\n",
      "2021-06-19 01:32:50,882 : Heading Extraction gonal-f_clean_ ΕΠΙΣΗΜΑΝΣΗ.json_4 : Match Passed | H | CAP |  el | 2 | gonal-f_clean_ ΕΠΙΣΗΜΑΝΣΗ.json | Doc txt :- '3. ΗΜΕΡΟΜΗΝΙΑ ΛΗΞΗΣ' | Qrd txt :- '3. ΗΜΕΡΟΜΗΝΙΑ ΛΗΞΗΣ' | Matched :- 'True'\n",
      "2021-06-19 01:32:50,916 : Heading Extraction gonal-f_clean_ ΕΠΙΣΗΜΑΝΣΗ.json_4 : Validation Failed As Wrong Heading Found | H | CAP |  el | 2 | gonal-f_clean_ ΕΠΙΣΗΜΑΝΣΗ.json | currHeadId :- '22024' | prevHeadingCurrId :- '' | prevHeadingFoundId :- '22029'\n",
      "2021-06-19 01:32:51,091 : Heading Extraction gonal-f_clean_ ΕΠΙΣΗΜΑΝΣΗ.json_4 : Match Passed | H | CAP |  el | 2 | gonal-f_clean_ ΕΠΙΣΗΜΑΝΣΗ.json | Doc txt :- '3. ΗΜΕΡΟΜΗΝΙΑ ΛΗΞΗΣ' | Qrd txt :- '3. ΗΜΕΡΟΜΗΝΙΑ ΛΗΞΗΣ' | Matched :- 'True'\n",
      "2021-06-19 01:32:51,116 : Heading Extraction gonal-f_clean_ ΕΠΙΣΗΜΑΝΣΗ.json_4 : Validation Passed | H | CAP |  el | 2 | gonal-f_clean_ ΕΠΙΣΗΜΑΝΣΗ.json | currHeadId :- '22030' | prevHeadingCurrId :- '22029' | prevHeadingFoundId :- '22029'\n",
      "2021-06-19 01:32:51,580 : Heading Extraction gonal-f_clean_ ΕΠΙΣΗΜΑΝΣΗ.json_4 : Match Passed : Contains<>|194.74|(49, 95, 86)|0.758| | H | CAP |  el | 2 | gonal-f_clean_ ΕΠΙΣΗΜΑΝΣΗ.json | Doc txt :- '4.       ΑΡΙΘΜΟΣ ΠΑΡΤΙΔΑΣ' | Qrd txt :- '13. ΑΡΙΘΜΟΣ ΠΑΡΤΙΔΑΣ<, ΣΤΟΙΧΕΙΑ ΔΟΤΗ ΚΑΙ ΚΩΔΙΚΟΙ ΠΡΟΪΟΝΤΟΣ>' | Matched :- 'True'\n",
      "2021-06-19 01:32:51,604 : Heading Extraction gonal-f_clean_ ΕΠΙΣΗΜΑΝΣΗ.json_4 : Validation Failed As Previous Heading Found is not matching | H | CAP |  el | 2 | gonal-f_clean_ ΕΠΙΣΗΜΑΝΣΗ.json | currHeadId :- '22015' | prevHeadingCurrId :- '22014' | prevHeadingFoundId :- '22030'\n",
      "2021-06-19 01:32:51,991 : Heading Extraction gonal-f_clean_ ΕΠΙΣΗΜΑΝΣΗ.json_4 : Match Passed : Contains<>|184.21|(52, 100, 90)|0.87| | H | CAP |  el | 2 | gonal-f_clean_ ΕΠΙΣΗΜΑΝΣΗ.json | Doc txt :- '4.       ΑΡΙΘΜΟΣ ΠΑΡΤΙΔΑΣ' | Qrd txt :- '4. ΑΡΙΘΜΟΣ ΠΑΡΤΙΔΑΣ<, ΣΤΟΙΧΕΙΑ ΔΟΤΗ ΚΑΙ ΚΩΔΙΚΟΙ ΠΡΟΪΟΝΤΟΣ>' | Matched :- 'True'\n",
      "2021-06-19 01:32:52,029 : Heading Extraction gonal-f_clean_ ΕΠΙΣΗΜΑΝΣΗ.json_4 : Validation Failed As Wrong Heading Found | H | CAP |  el | 2 | gonal-f_clean_ ΕΠΙΣΗΜΑΝΣΗ.json | currHeadId :- '22025' | prevHeadingCurrId :- '' | prevHeadingFoundId :- '22030'\n",
      "2021-06-19 01:32:52,201 : Heading Extraction gonal-f_clean_ ΕΠΙΣΗΜΑΝΣΗ.json_4 : Match Passed : Contains<>|184.21|(52, 100, 90)|0.87| | H | CAP |  el | 2 | gonal-f_clean_ ΕΠΙΣΗΜΑΝΣΗ.json | Doc txt :- '4.       ΑΡΙΘΜΟΣ ΠΑΡΤΙΔΑΣ' | Qrd txt :- '4. ΑΡΙΘΜΟΣ ΠΑΡΤΙΔΑΣ<, ΣΤΟΙΧΕΙΑ ΔΟΤΗ ΚΑΙ ΚΩΔΙΚΟΙ ΠΡΟΪΟΝΤΟΣ>' | Matched :- 'True'\n",
      "2021-06-19 01:32:52,233 : Heading Extraction gonal-f_clean_ ΕΠΙΣΗΜΑΝΣΗ.json_4 : Validation Passed | H | CAP |  el | 2 | gonal-f_clean_ ΕΠΙΣΗΜΑΝΣΗ.json | currHeadId :- '22031' | prevHeadingCurrId :- '22030' | prevHeadingFoundId :- '22030'\n",
      "2021-06-19 01:32:54,098 : Heading Extraction gonal-f_clean_ ΕΠΙΣΗΜΑΝΣΗ.json_4 : Match Passed : <=7|2.5|(98, 98, 98)|0.995| | H | CAP |  el | 2 | gonal-f_clean_ ΕΠΙΣΗΜΑΝΣΗ.json | Doc txt :- '5.       ΠΕΡΙΕΧΟΜΕΝΟ ΚΑΤΑ ΒΑPΟΣ, ΚΑΤ' ΟΓΚΟ Ή ΚΑΤΑ ΜΟΝΑΔΑ' | Qrd txt :- '5. ΠΕΡΙΕΧΟΜΕΝΟ ΚΑΤΑ ΒΑΡΟΣ, ΚΑΤ' ΟΓΚΟ Ή ΚΑΤΑ ΜΟΝΑΔΑ' | Matched :- 'True'\n",
      "2021-06-19 01:32:54,134 : Heading Extraction gonal-f_clean_ ΕΠΙΣΗΜΑΝΣΗ.json_4 : Validation Passed | H | CAP |  el | 2 | gonal-f_clean_ ΕΠΙΣΗΜΑΝΣΗ.json | currHeadId :- '22032' | prevHeadingCurrId :- '22031' | prevHeadingFoundId :- '22031'\n",
      "2021-06-19 01:32:57,008 : Heading Extraction gonal-f_clean_ ΕΠΙΣΗΜΑΝΣΗ.json_4 : Match Passed : <=4|6.25|(94, 94, 94)|0.975| | H | CAP |  el | 2 | gonal-f_clean_ ΕΠΙΣΗΜΑΝΣΗ.json | Doc txt :- '6.       ΑΛΛΑ ΣΤΟΙΧΕΙΑ' | Qrd txt :- '5. ΑΛΛΑ ΣΤΟΙΧΕΙΑ' | Matched :- 'True'\n",
      "2021-06-19 01:32:57,048 : Heading Extraction gonal-f_clean_ ΕΠΙΣΗΜΑΝΣΗ.json_4 : Validation Failed As Wrong Heading Found | H | CAP |  el | 2 | gonal-f_clean_ ΕΠΙΣΗΜΑΝΣΗ.json | currHeadId :- '22026' | prevHeadingCurrId :- '' | prevHeadingFoundId :- '22032'\n",
      "2021-06-19 01:32:57,240 : Heading Extraction gonal-f_clean_ ΕΠΙΣΗΜΑΝΣΗ.json_4 : Match Passed | H | CAP |  el | 2 | gonal-f_clean_ ΕΠΙΣΗΜΑΝΣΗ.json | Doc txt :- '6. ΑΛΛΑ ΣΤΟΙΧΕΙΑ' | Qrd txt :- '6. ΑΛΛΑ ΣΤΟΙΧΕΙΑ' | Matched :- 'True'\n",
      "2021-06-19 01:32:57,271 : Heading Extraction gonal-f_clean_ ΕΠΙΣΗΜΑΝΣΗ.json_4 : Validation Passed | H | CAP |  el | 2 | gonal-f_clean_ ΕΠΙΣΗΜΑΝΣΗ.json | currHeadId :- '22033' | prevHeadingCurrId :- '22032' | prevHeadingFoundId :- '22032'\n",
      "2021-06-19 01:32:57,385 : Heading Extraction gonal-f_clean_ ΕΠΙΣΗΜΑΝΣΗ.json_4 : Match Passed : Contains<>|76.0|(72, 88, 86)|0.922| | H | CAP |  el | 2 | gonal-f_clean_ ΕΠΙΣΗΜΑΝΣΗ.json | Doc txt :- 'ΕΝΔΕΙΞΕΙΣ ΠΟΥ ΠΡΕΠΕΙ ΝΑ ΑΝΑΓΡΑΦΟΝΤΑΙ ΣΤΗΝ ΕΞΩΤΕΡΙΚΗ ΣΥΣΚΕΥΑΣΙΑ' | Qrd txt :- 'ΕΝΔΕΙΞΕΙΣ ΠΟΥ ΠΡΕΠΕΙ ΝΑ ΑΝΑΓΡΑΦΟΝΤΑΙ <ΣΤΗΝ ΕΞΩΤΕΡΙΚΗ ΣΥΣΚΕΥΑΣΙΑ> <ΚΑΙ> < ΣΤΗ ΣΤΟΙΧΕΙΩΔΗ ΣΥΣΚΕΥΑΣΙΑ>' | Matched :- 'True'\n",
      "2021-06-19 01:32:57,428 : Heading Extraction gonal-f_clean_ ΕΠΙΣΗΜΑΝΣΗ.json_4 : Validation Failed As Previous Heading Found is not matching | H | CAP |  el | 2 | gonal-f_clean_ ΕΠΙΣΗΜΑΝΣΗ.json | currHeadId :- '22002' | prevHeadingCurrId :- '22001' | prevHeadingFoundId :- '22033'\n"
     ]
    },
    {
     "name": "stderr",
     "output_type": "stream",
     "text": [
      "2021-06-19 01:32:59,005 : Heading Extraction gonal-f_clean_ ΕΠΙΣΗΜΑΝΣΗ.json_4 : End Of Sub Section | H | CAP |  el | 2 | gonal-f_clean_ ΕΠΙΣΗΜΑΝΣΗ.json\n",
      "2021-06-19 01:32:59,084 : Heading Extraction gonal-f_clean_ ΕΠΙΣΗΜΑΝΣΗ.json_4 : Match Passed : Contains<>|76.0|(72, 88, 86)|0.922| | H | CAP |  el | 2 | gonal-f_clean_ ΕΠΙΣΗΜΑΝΣΗ.json | Doc txt :- 'ΕΝΔΕΙΞΕΙΣ ΠΟΥ ΠΡΕΠΕΙ ΝΑ ΑΝΑΓΡΑΦΟΝΤΑΙ ΣΤΗΝ ΕΞΩΤΕΡΙΚΗ ΣΥΣΚΕΥΑΣΙΑ' | Qrd txt :- 'ΕΝΔΕΙΞΕΙΣ ΠΟΥ ΠΡΕΠΕΙ ΝΑ ΑΝΑΓΡΑΦΟΝΤΑΙ <ΣΤΗΝ ΕΞΩΤΕΡΙΚΗ ΣΥΣΚΕΥΑΣΙΑ> <ΚΑΙ> < ΣΤΗ ΣΤΟΙΧΕΙΩΔΗ ΣΥΣΚΕΥΑΣΙΑ>' | Matched :- 'True'\n",
      "2021-06-19 01:32:59,103 : Heading Extraction gonal-f_clean_ ΕΠΙΣΗΜΑΝΣΗ.json_4 : Validation Passed As This The First Heading | H | CAP |  el | 2 | gonal-f_clean_ ΕΠΙΣΗΜΑΝΣΗ.json | currHeadId :- '22002' | prevHeadingCurrId :- '' | prevHeadingFoundId :- ''\n"
     ]
    },
    {
     "name": "stdout",
     "output_type": "stream",
     "text": [
      "oooooooooooooooooooooooooooooooooooooooo END OF Sub Section oooooooooooooooooooooooooooooooooooooooooooooooooooooooooooo\n"
     ]
    },
    {
     "name": "stderr",
     "output_type": "stream",
     "text": [
      "2021-06-19 01:33:01,211 : Heading Extraction gonal-f_clean_ ΕΠΙΣΗΜΑΝΣΗ.json_4 : Match Passed | H | CAP |  el | 2 | gonal-f_clean_ ΕΠΙΣΗΜΑΝΣΗ.json | Doc txt :- '1. ΟΝΟΜΑΣΙΑ ΤΟΥ ΦΑΡΜΑΚΕΥΤΙΚΟΥ ΠΡΟΪΟΝΤΟΣ' | Qrd txt :- '1. ΟΝΟΜΑΣΙΑ ΤΟΥ ΦΑΡΜΑΚΕΥΤΙΚΟΥ ΠΡΟΪΟΝΤΟΣ' | Matched :- 'True'\n",
      "2021-06-19 01:33:01,231 : Heading Extraction gonal-f_clean_ ΕΠΙΣΗΜΑΝΣΗ.json_4 : Validation Passed | H | CAP |  el | 2 | gonal-f_clean_ ΕΠΙΣΗΜΑΝΣΗ.json | currHeadId :- '22003' | prevHeadingCurrId :- '22002' | prevHeadingFoundId :- '22002'\n",
      "2021-06-19 01:33:03,988 : Heading Extraction gonal-f_clean_ ΕΠΙΣΗΜΑΝΣΗ.json_4 : Match Passed | H | CAP |  el | 2 | gonal-f_clean_ ΕΠΙΣΗΜΑΝΣΗ.json | Doc txt :- '2. ΣΥΝΘΕΣΗ ΣΕ ΔΡΑΣΤΙΚΗ(ΕΣ) ΟΥΣΙΑ(ΕΣ)' | Qrd txt :- '2. ΣΥΝΘΕΣΗ ΣΕ ΔΡΑΣΤΙΚΗ(ΕΣ) ΟΥΣΙΑ(ΕΣ)' | Matched :- 'True'\n",
      "2021-06-19 01:33:04,011 : Heading Extraction gonal-f_clean_ ΕΠΙΣΗΜΑΝΣΗ.json_4 : Validation Passed | H | CAP |  el | 2 | gonal-f_clean_ ΕΠΙΣΗΜΑΝΣΗ.json | currHeadId :- '22004' | prevHeadingCurrId :- '22003' | prevHeadingFoundId :- '22003'\n",
      "2021-06-19 01:33:06,177 : Heading Extraction gonal-f_clean_ ΕΠΙΣΗΜΑΝΣΗ.json_4 : Match Passed | H | CAP |  el | 2 | gonal-f_clean_ ΕΠΙΣΗΜΑΝΣΗ.json | Doc txt :- '3. ΚΑΤΑΛΟΓΟΣ ΕΚΔΟΧΩΝ' | Qrd txt :- '3. ΚΑΤΑΛΟΓΟΣ ΕΚΔΟΧΩΝ' | Matched :- 'True'\n",
      "2021-06-19 01:33:06,198 : Heading Extraction gonal-f_clean_ ΕΠΙΣΗΜΑΝΣΗ.json_4 : Validation Passed | H | CAP |  el | 2 | gonal-f_clean_ ΕΠΙΣΗΜΑΝΣΗ.json | currHeadId :- '22005' | prevHeadingCurrId :- '22004' | prevHeadingFoundId :- '22004'\n",
      "2021-06-19 01:33:10,888 : Heading Extraction gonal-f_clean_ ΕΠΙΣΗΜΑΝΣΗ.json_4 : Match Passed | H | CAP |  el | 2 | gonal-f_clean_ ΕΠΙΣΗΜΑΝΣΗ.json | Doc txt :- '4. ΦΑΡΜΑΚΟΤΕΧΝΙΚΗ ΜΟΡΦΗ ΚΑΙ ΠΕΡΙΕΧΟΜΕΝΟ' | Qrd txt :- '4. ΦΑΡΜΑΚΟΤΕΧΝΙΚΗ ΜΟΡΦΗ ΚΑΙ ΠΕΡΙΕΧΟΜΕΝΟ' | Matched :- 'True'\n",
      "2021-06-19 01:33:10,927 : Heading Extraction gonal-f_clean_ ΕΠΙΣΗΜΑΝΣΗ.json_4 : Validation Passed | H | CAP |  el | 2 | gonal-f_clean_ ΕΠΙΣΗΜΑΝΣΗ.json | currHeadId :- '22006' | prevHeadingCurrId :- '22005' | prevHeadingFoundId :- '22005'\n",
      "2021-06-19 01:33:17,759 : Heading Extraction gonal-f_clean_ ΕΠΙΣΗΜΑΝΣΗ.json_4 : Match Passed : <=7|3.03|(98, 97, 98)|0.997| | H | CAP |  el | 2 | gonal-f_clean_ ΕΠΙΣΗΜΑΝΣΗ.json | Doc txt :- '5.       ΤΡΟΠΟΣ ΚΑΙ, ΟΔΟΣ(ΟΙ) ΧΟΡΗΓΗΣΗΣ' | Qrd txt :- '5. ΤΡΟΠΟΣ ΚΑΙ ΟΔΟΣ(ΟΙ) ΧΟΡΗΓΗΣΗΣ' | Matched :- 'True'\n",
      "2021-06-19 01:33:17,800 : Heading Extraction gonal-f_clean_ ΕΠΙΣΗΜΑΝΣΗ.json_4 : Validation Passed | H | CAP |  el | 2 | gonal-f_clean_ ΕΠΙΣΗΜΑΝΣΗ.json | currHeadId :- '22007' | prevHeadingCurrId :- '22006' | prevHeadingFoundId :- '22006'\n",
      "2021-06-19 01:33:21,197 : Heading Extraction gonal-f_clean_ ΕΠΙΣΗΜΑΝΣΗ.json_4 : Match Passed | H | CAP |  el | 2 | gonal-f_clean_ ΕΠΙΣΗΜΑΝΣΗ.json | Doc txt :- '6. ΕΙΔΙΚΗ ΠΡΟΕΙΔΟΠΟΙΗΣΗ ΣΥΜΦΩΝΑ ΜΕ ΤΗΝ ΟΠΟΙΑ ΤΟ ΦΑΡΜΑΚΕΥΤΙΚΟ ΠΡΟΪΟΝ ΠΡΕΠΕΙ ΝΑ ΦΥΛΑΣΣΕΤΑΙ ΣΕ ΘΕΣΗ ΤΗΝ ΟΠΟΙΑ ΔΕΝ ΒΛΕΠΟΥΝ ΚΑΙ ΔΕΝ ΠΡΟΣΕΓΓΙΖΟΥΝ ΤΑ ΠΑΙΔΙΑ' | Qrd txt :- '6. ΕΙΔΙΚΗ ΠΡΟΕΙΔΟΠΟΙΗΣΗ ΣΥΜΦΩΝΑ ΜΕ ΤΗΝ ΟΠΟΙΑ ΤΟ ΦΑΡΜΑΚΕΥΤΙΚΟ ΠΡΟΪΟΝ ΠΡΕΠΕΙ ΝΑ ΦΥΛΑΣΣΕΤΑΙ ΣΕ ΘΕΣΗ ΤΗΝ ΟΠΟΙΑ ΔΕΝ ΒΛΕΠΟΥΝ ΚΑΙ ΔΕΝ ΠΡΟΣΕΓΓΙΖΟΥΝ ΤΑ ΠΑΙΔΙΑ' | Matched :- 'True'\n",
      "2021-06-19 01:33:21,227 : Heading Extraction gonal-f_clean_ ΕΠΙΣΗΜΑΝΣΗ.json_4 : Validation Passed | H | CAP |  el | 2 | gonal-f_clean_ ΕΠΙΣΗΜΑΝΣΗ.json | currHeadId :- '22008' | prevHeadingCurrId :- '22007' | prevHeadingFoundId :- '22007'\n",
      "2021-06-19 01:33:23,023 : Heading Extraction gonal-f_clean_ ΕΠΙΣΗΜΑΝΣΗ.json_4 : Match Passed | H | CAP |  el | 2 | gonal-f_clean_ ΕΠΙΣΗΜΑΝΣΗ.json | Doc txt :- '7. ΑΛΛΗ(ΕΣ) ΕΙΔΙΚΗ(ΕΣ) ΠΡΟΕΙΔΟΠΟΙΗΣΗ(ΕΙΣ), ΕΑΝ ΕΙΝΑΙ ΑΠΑΡΑΙΤΗΤΗ(ΕΣ)' | Qrd txt :- '7. ΑΛΛΗ(ΕΣ) ΕΙΔΙΚΗ(ΕΣ) ΠΡΟΕΙΔΟΠΟΙΗΣΗ(ΕΙΣ), ΕΑΝ ΕΙΝΑΙ ΑΠΑΡΑΙΤΗΤΗ(ΕΣ)' | Matched :- 'True'\n",
      "2021-06-19 01:33:23,047 : Heading Extraction gonal-f_clean_ ΕΠΙΣΗΜΑΝΣΗ.json_4 : Validation Passed | H | CAP |  el | 2 | gonal-f_clean_ ΕΠΙΣΗΜΑΝΣΗ.json | currHeadId :- '22009' | prevHeadingCurrId :- '22008' | prevHeadingFoundId :- '22008'\n",
      "2021-06-19 01:33:26,297 : Heading Extraction gonal-f_clean_ ΕΠΙΣΗΜΑΝΣΗ.json_4 : Match Passed | H | CAP |  el | 2 | gonal-f_clean_ ΕΠΙΣΗΜΑΝΣΗ.json | Doc txt :- '8. ΗΜΕΡΟΜΗΝΙΑ ΛΗΞΗΣ' | Qrd txt :- '8. ΗΜΕΡΟΜΗΝΙΑ ΛΗΞΗΣ' | Matched :- 'True'\n",
      "2021-06-19 01:33:26,331 : Heading Extraction gonal-f_clean_ ΕΠΙΣΗΜΑΝΣΗ.json_4 : Validation Passed | H | CAP |  el | 2 | gonal-f_clean_ ΕΠΙΣΗΜΑΝΣΗ.json | currHeadId :- '22010' | prevHeadingCurrId :- '22009' | prevHeadingFoundId :- '22009'\n",
      "2021-06-19 01:33:26,679 : Heading Extraction gonal-f_clean_ ΕΠΙΣΗΜΑΝΣΗ.json_4 : Match Passed | H | CAP |  el | 2 | gonal-f_clean_ ΕΠΙΣΗΜΑΝΣΗ.json | Doc txt :- '9. ΕΙΔΙΚΕΣ ΣΥΝΘΗΚΕΣ ΦΥΛΑΞΗΣ' | Qrd txt :- '9. ΕΙΔΙΚΕΣ ΣΥΝΘΗΚΕΣ ΦΥΛΑΞΗΣ' | Matched :- 'True'\n",
      "2021-06-19 01:33:26,703 : Heading Extraction gonal-f_clean_ ΕΠΙΣΗΜΑΝΣΗ.json_4 : Validation Passed | H | CAP |  el | 2 | gonal-f_clean_ ΕΠΙΣΗΜΑΝΣΗ.json | currHeadId :- '22011' | prevHeadingCurrId :- '22010' | prevHeadingFoundId :- '22010'\n",
      "2021-06-19 01:33:30,145 : Heading Extraction gonal-f_clean_ ΕΠΙΣΗΜΑΝΣΗ.json_4 : Match Passed | H | CAP |  el | 2 | gonal-f_clean_ ΕΠΙΣΗΜΑΝΣΗ.json | Doc txt :- '10. ΙΔΙΑΙΤΕΡΕΣ ΠΡΟΦΥΛΑΞΕΙΣ ΓΙΑ ΤΗΝ ΑΠΟΡΡΙΨΗ ΤΩΝ ΜΗ ΧΡΗΣΙΜΟΠΟΙΗΘΕΝΤΩΝ ΦΑΡΜΑΚΕΥΤΙΚΩΝ ΠΡΟΪΟΝΤΩΝ Ή ΤΩΝ ΥΠΟΛΕΙΜΜΑΤΩΝ ΠΟΥ ΠΡΟΕΡΧΟΝΤΑΙ ΑΠΟ ΑΥΤΑ, ΕΦΟΣΟΝ ΑΠΑΙΤΕΙΤΑΙ' | Qrd txt :- '10. ΙΔΙΑΙΤΕΡΕΣ ΠΡΟΦΥΛΑΞΕΙΣ ΓΙΑ ΤΗΝ ΑΠΟΡΡΙΨΗ ΤΩΝ ΜΗ ΧΡΗΣΙΜΟΠΟΙΗΘΕΝΤΩΝ ΦΑΡΜΑΚΕΥΤΙΚΩΝ ΠΡΟΪΟΝΤΩΝ Ή ΤΩΝ ΥΠΟΛΕΙΜΜΑΤΩΝ ΠΟΥ ΠΡΟΕΡΧΟΝΤΑΙ ΑΠΟ ΑΥΤΑ, ΕΦΟΣΟΝ ΑΠΑΙΤΕΙΤΑΙ' | Matched :- 'True'\n",
      "2021-06-19 01:33:30,169 : Heading Extraction gonal-f_clean_ ΕΠΙΣΗΜΑΝΣΗ.json_4 : Validation Passed | H | CAP |  el | 2 | gonal-f_clean_ ΕΠΙΣΗΜΑΝΣΗ.json | currHeadId :- '22012' | prevHeadingCurrId :- '22011' | prevHeadingFoundId :- '22011'\n",
      "2021-06-19 01:33:32,475 : Heading Extraction gonal-f_clean_ ΕΠΙΣΗΜΑΝΣΗ.json_4 : Match Passed | H | CAP |  el | 2 | gonal-f_clean_ ΕΠΙΣΗΜΑΝΣΗ.json | Doc txt :- '11. ΟΝΟΜΑ ΚΑΙ ΔΙΕΥΘΥΝΣΗ ΚΑΤΟΧΟΥ ΤΗΣ ΑΔΕΙΑΣ ΚΥΚΛΟΦΟΡΙΑΣ' | Qrd txt :- '11. ΟΝΟΜΑ ΚΑΙ ΔΙΕΥΘΥΝΣΗ ΚΑΤΟΧΟΥ ΤΗΣ ΑΔΕΙΑΣ ΚΥΚΛΟΦΟΡΙΑΣ' | Matched :- 'True'\n",
      "2021-06-19 01:33:32,500 : Heading Extraction gonal-f_clean_ ΕΠΙΣΗΜΑΝΣΗ.json_4 : Validation Passed | H | CAP |  el | 2 | gonal-f_clean_ ΕΠΙΣΗΜΑΝΣΗ.json | currHeadId :- '22013' | prevHeadingCurrId :- '22012' | prevHeadingFoundId :- '22012'\n",
      "2021-06-19 01:33:35,667 : Heading Extraction gonal-f_clean_ ΕΠΙΣΗΜΑΝΣΗ.json_4 : Match Passed | H | CAP |  el | 2 | gonal-f_clean_ ΕΠΙΣΗΜΑΝΣΗ.json | Doc txt :- '12. ΑΡΙΘΜΟΣ(ΟΙ) ΑΔΕΙΑΣ ΚΥΚΛΟΦΟΡΙΑΣ' | Qrd txt :- '12. ΑΡΙΘΜΟΣ(ΟΙ) ΑΔΕΙΑΣ ΚΥΚΛΟΦΟΡΙΑΣ' | Matched :- 'True'\n",
      "2021-06-19 01:33:35,706 : Heading Extraction gonal-f_clean_ ΕΠΙΣΗΜΑΝΣΗ.json_4 : Validation Passed | H | CAP |  el | 2 | gonal-f_clean_ ΕΠΙΣΗΜΑΝΣΗ.json | currHeadId :- '22014' | prevHeadingCurrId :- '22013' | prevHeadingFoundId :- '22013'\n",
      "2021-06-19 01:33:40,662 : Heading Extraction gonal-f_clean_ ΕΠΙΣΗΜΑΝΣΗ.json_4 : Match Passed : Contains<>|175.0|(53, 100, 90)|0.873| | H | CAP |  el | 2 | gonal-f_clean_ ΕΠΙΣΗΜΑΝΣΗ.json | Doc txt :- '13.     ΑΡΙΘΜΟΣ ΠΑΡΤΙΔΑΣ' | Qrd txt :- '13. ΑΡΙΘΜΟΣ ΠΑΡΤΙΔΑΣ<, ΣΤΟΙΧΕΙΑ ΔΟΤΗ ΚΑΙ ΚΩΔΙΚΟΙ ΠΡΟΪΟΝΤΟΣ>' | Matched :- 'True'\n",
      "2021-06-19 01:33:40,741 : Heading Extraction gonal-f_clean_ ΕΠΙΣΗΜΑΝΣΗ.json_4 : Validation Passed | H | CAP |  el | 2 | gonal-f_clean_ ΕΠΙΣΗΜΑΝΣΗ.json | currHeadId :- '22015' | prevHeadingCurrId :- '22014' | prevHeadingFoundId :- '22014'\n",
      "2021-06-19 01:33:43,108 : Heading Extraction gonal-f_clean_ ΕΠΙΣΗΜΑΝΣΗ.json_4 : Match Passed | H | CAP |  el | 2 | gonal-f_clean_ ΕΠΙΣΗΜΑΝΣΗ.json | Doc txt :- '14. ΓΕΝΙΚΗ ΚΑΤΑΤΑΞΗ ΓΙΑ ΤΗ ΔΙΑΘΕΣΗ' | Qrd txt :- '14. ΓΕΝΙΚΗ ΚΑΤΑΤΑΞΗ ΓΙΑ ΤΗ ΔΙΑΘΕΣΗ' | Matched :- 'True'\n",
      "2021-06-19 01:33:43,160 : Heading Extraction gonal-f_clean_ ΕΠΙΣΗΜΑΝΣΗ.json_4 : Validation Passed | H | CAP |  el | 2 | gonal-f_clean_ ΕΠΙΣΗΜΑΝΣΗ.json | currHeadId :- '22016' | prevHeadingCurrId :- '22015' | prevHeadingFoundId :- '22015'\n",
      "2021-06-19 01:33:43,801 : Heading Extraction gonal-f_clean_ ΕΠΙΣΗΜΑΝΣΗ.json_4 : Match Passed | H | CAP |  el | 2 | gonal-f_clean_ ΕΠΙΣΗΜΑΝΣΗ.json | Doc txt :- '15. ΟΔΗΓΙΕΣ ΧΡΗΣΗΣ' | Qrd txt :- '15. ΟΔΗΓΙΕΣ ΧΡΗΣΗΣ' | Matched :- 'True'\n",
      "2021-06-19 01:33:43,835 : Heading Extraction gonal-f_clean_ ΕΠΙΣΗΜΑΝΣΗ.json_4 : Validation Passed | H | CAP |  el | 2 | gonal-f_clean_ ΕΠΙΣΗΜΑΝΣΗ.json | currHeadId :- '22017' | prevHeadingCurrId :- '22016' | prevHeadingFoundId :- '22016'\n",
      "2021-06-19 01:33:44,630 : Heading Extraction gonal-f_clean_ ΕΠΙΣΗΜΑΝΣΗ.json_4 : Match Passed | H | CAP |  el | 2 | gonal-f_clean_ ΕΠΙΣΗΜΑΝΣΗ.json | Doc txt :- '16. ΠΛΗΡΟΦΟΡΙΕΣ ΣΕ BRAILLE' | Qrd txt :- '16. ΠΛΗΡΟΦΟΡΙΕΣ ΣΕ BRAILLE' | Matched :- 'True'\n"
     ]
    },
    {
     "name": "stderr",
     "output_type": "stream",
     "text": [
      "2021-06-19 01:33:44,663 : Heading Extraction gonal-f_clean_ ΕΠΙΣΗΜΑΝΣΗ.json_4 : Validation Passed | H | CAP |  el | 2 | gonal-f_clean_ ΕΠΙΣΗΜΑΝΣΗ.json | currHeadId :- '22018' | prevHeadingCurrId :- '22017' | prevHeadingFoundId :- '22017'\n",
      "2021-06-19 01:33:46,412 : Heading Extraction gonal-f_clean_ ΕΠΙΣΗΜΑΝΣΗ.json_4 : Match Passed | H | CAP |  el | 2 | gonal-f_clean_ ΕΠΙΣΗΜΑΝΣΗ.json | Doc txt :- '17. ΜΟΝΑΔΙΚΟΣ ΑΝΑΓΝΩΡΙΣΤΙΚΟΣ ΚΩΔΙΚΟΣ – ΔΙΣΔΙΑΣΤΑΤΟΣ ΓΡΑΜΜΩΤΟΣ ΚΩΔΙΚΑΣ (2D)' | Qrd txt :- '17. ΜΟΝΑΔΙΚΟΣ ΑΝΑΓΝΩΡΙΣΤΙΚΟΣ ΚΩΔΙΚΟΣ – ΔΙΣΔΙΑΣΤΑΤΟΣ ΓΡΑΜΜΩΤΟΣ ΚΩΔΙΚΑΣ (2D)' | Matched :- 'True'\n",
      "2021-06-19 01:33:46,438 : Heading Extraction gonal-f_clean_ ΕΠΙΣΗΜΑΝΣΗ.json_4 : Validation Passed | H | CAP |  el | 2 | gonal-f_clean_ ΕΠΙΣΗΜΑΝΣΗ.json | currHeadId :- '22019' | prevHeadingCurrId :- '22018' | prevHeadingFoundId :- '22018'\n",
      "2021-06-19 01:33:49,676 : Heading Extraction gonal-f_clean_ ΕΠΙΣΗΜΑΝΣΗ.json_4 : Match Passed | H | CAP |  el | 2 | gonal-f_clean_ ΕΠΙΣΗΜΑΝΣΗ.json | Doc txt :- '18. ΜΟΝΑΔΙΚΟΣ ΑΝΑΓΝΩΡΙΣΤΙΚΟΣ ΚΩΔΙΚΟΣ – ΔΕΔΟΜΕΝΑ ΑΝΑΓΝΩΣΙΜΑ ΑΠΟ ΤΟΝ ΑΝΘΡΩΠΟ' | Qrd txt :- '18. ΜΟΝΑΔΙΚΟΣ ΑΝΑΓΝΩΡΙΣΤΙΚΟΣ ΚΩΔΙΚΟΣ – ΔΕΔΟΜΕΝΑ ΑΝΑΓΝΩΣΙΜΑ ΑΠΟ ΤΟΝ ΑΝΘΡΩΠΟ' | Matched :- 'True'\n",
      "2021-06-19 01:33:49,707 : Heading Extraction gonal-f_clean_ ΕΠΙΣΗΜΑΝΣΗ.json_4 : Validation Passed | H | CAP |  el | 2 | gonal-f_clean_ ΕΠΙΣΗΜΑΝΣΗ.json | currHeadId :- '22020' | prevHeadingCurrId :- '22019' | prevHeadingFoundId :- '22019'\n",
      "2021-06-19 01:33:51,313 : Heading Extraction gonal-f_clean_ ΕΠΙΣΗΜΑΝΣΗ.json_4 : Match Passed | H | CAP |  el | 2 | gonal-f_clean_ ΕΠΙΣΗΜΑΝΣΗ.json | Doc txt :- 'ΕΛΑΧΙΣΤΕΣ ΕΝΔΕΙΞΕΙΣ ΠΟΥ ΠΡΕΠΕΙ ΝΑ ΑΝΑΓΡΑΦΟΝΤΑΙ ΣΤΙΣ ΜΙΚΡΕΣ ΣΤΟΙΧΕΙΩΔΕΙΣ ΣΥΣΚΕΥΑΣΙΕΣ' | Qrd txt :- 'ΕΛΑΧΙΣΤΕΣ ΕΝΔΕΙΞΕΙΣ ΠΟΥ ΠΡΕΠΕΙ ΝΑ ΑΝΑΓΡΑΦΟΝΤΑΙ ΣΤΙΣ ΜΙΚΡΕΣ ΣΤΟΙΧΕΙΩΔΕΙΣ ΣΥΣΚΕΥΑΣΙΕΣ' | Matched :- 'True'\n",
      "2021-06-19 01:33:51,338 : Heading Extraction gonal-f_clean_ ΕΠΙΣΗΜΑΝΣΗ.json_4 : Validation Flow Is Broken | H | CAP |  el | 2 | gonal-f_clean_ ΕΠΙΣΗΜΑΝΣΗ.json | currHeadId :- '22027' | prevHeadingCurrId :- '' | prevHeadingFoundId :- '22020'\n",
      "2021-06-19 01:33:51,355 : Heading Extraction gonal-f_clean_ ΕΠΙΣΗΜΑΝΣΗ.json_4 : Validation Passed | H | CAP |  el | 2 | gonal-f_clean_ ΕΠΙΣΗΜΑΝΣΗ.json | currHeadId :- '22027' | prevHeadingCurrId :- '22020' | prevHeadingFoundId :- '22020'\n",
      "2021-06-19 01:33:54,340 : Heading Extraction gonal-f_clean_ ΕΠΙΣΗΜΑΝΣΗ.json_4 : Match Passed | H | CAP |  el | 2 | gonal-f_clean_ ΕΠΙΣΗΜΑΝΣΗ.json | Doc txt :- '1. ΟΝΟΜΑΣΙΑ ΤΟΥ ΦΑΡΜΑΚΕΥΤΙΚΟΥ ΠΡΟΪΟΝΤΟΣ ΚΑΙ ΟΔΟΣ(ΟΙ) ΧΟΡΗΓΗΣΗΣ' | Qrd txt :- '1. ΟΝΟΜΑΣΙΑ ΤΟΥ ΦΑΡΜΑΚΕΥΤΙΚΟΥ ΠΡΟΪΟΝΤΟΣ ΚΑΙ ΟΔΟΣ(ΟΙ) ΧΟΡΗΓΗΣΗΣ' | Matched :- 'True'\n",
      "2021-06-19 01:33:54,362 : Heading Extraction gonal-f_clean_ ΕΠΙΣΗΜΑΝΣΗ.json_4 : Validation Passed | H | CAP |  el | 2 | gonal-f_clean_ ΕΠΙΣΗΜΑΝΣΗ.json | currHeadId :- '22028' | prevHeadingCurrId :- '22027' | prevHeadingFoundId :- '22027'\n",
      "2021-06-19 01:33:57,062 : Heading Extraction gonal-f_clean_ ΕΠΙΣΗΜΑΝΣΗ.json_4 : Match Passed | H | CAP |  el | 2 | gonal-f_clean_ ΕΠΙΣΗΜΑΝΣΗ.json | Doc txt :- '2. ΤΡΟΠΟΣ ΧΟΡΗΓΗΣΗΣ' | Qrd txt :- '2. ΤΡΟΠΟΣ ΧΟΡΗΓΗΣΗΣ' | Matched :- 'True'\n",
      "2021-06-19 01:33:57,091 : Heading Extraction gonal-f_clean_ ΕΠΙΣΗΜΑΝΣΗ.json_4 : Validation Passed | H | CAP |  el | 2 | gonal-f_clean_ ΕΠΙΣΗΜΑΝΣΗ.json | currHeadId :- '22029' | prevHeadingCurrId :- '22028' | prevHeadingFoundId :- '22028'\n",
      "2021-06-19 01:33:57,535 : Heading Extraction gonal-f_clean_ ΕΠΙΣΗΜΑΝΣΗ.json_4 : Match Passed : <=4|5.26|(95, 95, 95)|0.98| | H | CAP |  el | 2 | gonal-f_clean_ ΕΠΙΣΗΜΑΝΣΗ.json | Doc txt :- '3.       ΗΜΕΡΟΜΗΝΙΑ ΛΗΞΗΣ' | Qrd txt :- '8. ΗΜΕΡΟΜΗΝΙΑ ΛΗΞΗΣ' | Matched :- 'True'\n",
      "2021-06-19 01:33:57,562 : Heading Extraction gonal-f_clean_ ΕΠΙΣΗΜΑΝΣΗ.json_4 : Validation Failed As Previous Heading Found is not matching | H | CAP |  el | 2 | gonal-f_clean_ ΕΠΙΣΗΜΑΝΣΗ.json | currHeadId :- '22010' | prevHeadingCurrId :- '22009' | prevHeadingFoundId :- '22029'\n",
      "2021-06-19 01:33:58,106 : Heading Extraction gonal-f_clean_ ΕΠΙΣΗΜΑΝΣΗ.json_4 : Match Passed | H | CAP |  el | 2 | gonal-f_clean_ ΕΠΙΣΗΜΑΝΣΗ.json | Doc txt :- '3. ΗΜΕΡΟΜΗΝΙΑ ΛΗΞΗΣ' | Qrd txt :- '3. ΗΜΕΡΟΜΗΝΙΑ ΛΗΞΗΣ' | Matched :- 'True'\n",
      "2021-06-19 01:33:58,139 : Heading Extraction gonal-f_clean_ ΕΠΙΣΗΜΑΝΣΗ.json_4 : Validation Failed As Wrong Heading Found | H | CAP |  el | 2 | gonal-f_clean_ ΕΠΙΣΗΜΑΝΣΗ.json | currHeadId :- '22024' | prevHeadingCurrId :- '' | prevHeadingFoundId :- '22029'\n",
      "2021-06-19 01:33:58,339 : Heading Extraction gonal-f_clean_ ΕΠΙΣΗΜΑΝΣΗ.json_4 : Match Passed | H | CAP |  el | 2 | gonal-f_clean_ ΕΠΙΣΗΜΑΝΣΗ.json | Doc txt :- '3. ΗΜΕΡΟΜΗΝΙΑ ΛΗΞΗΣ' | Qrd txt :- '3. ΗΜΕΡΟΜΗΝΙΑ ΛΗΞΗΣ' | Matched :- 'True'\n",
      "2021-06-19 01:33:58,370 : Heading Extraction gonal-f_clean_ ΕΠΙΣΗΜΑΝΣΗ.json_4 : Validation Passed | H | CAP |  el | 2 | gonal-f_clean_ ΕΠΙΣΗΜΑΝΣΗ.json | currHeadId :- '22030' | prevHeadingCurrId :- '22029' | prevHeadingFoundId :- '22029'\n",
      "2021-06-19 01:34:01,742 : Heading Extraction gonal-f_clean_ ΕΠΙΣΗΜΑΝΣΗ.json_4 : Match Passed : Contains<>|194.74|(49, 95, 86)|0.758| | H | CAP |  el | 2 | gonal-f_clean_ ΕΠΙΣΗΜΑΝΣΗ.json | Doc txt :- '5.       ΑΡΙΘΜΟΣ ΠΑΡΤΙΔΑΣ' | Qrd txt :- '13. ΑΡΙΘΜΟΣ ΠΑΡΤΙΔΑΣ<, ΣΤΟΙΧΕΙΑ ΔΟΤΗ ΚΑΙ ΚΩΔΙΚΟΙ ΠΡΟΪΟΝΤΟΣ>' | Matched :- 'True'\n",
      "2021-06-19 01:34:01,783 : Heading Extraction gonal-f_clean_ ΕΠΙΣΗΜΑΝΣΗ.json_4 : Validation Failed As Previous Heading Found is not matching | H | CAP |  el | 2 | gonal-f_clean_ ΕΠΙΣΗΜΑΝΣΗ.json | currHeadId :- '22015' | prevHeadingCurrId :- '22014' | prevHeadingFoundId :- '22030'\n",
      "2021-06-19 01:34:02,304 : Heading Extraction gonal-f_clean_ ΕΠΙΣΗΜΑΝΣΗ.json_4 : Match Passed : Contains<>|189.47|(49, 95, 86)|0.76| | H | CAP |  el | 2 | gonal-f_clean_ ΕΠΙΣΗΜΑΝΣΗ.json | Doc txt :- '5.       ΑΡΙΘΜΟΣ ΠΑΡΤΙΔΑΣ' | Qrd txt :- '4. ΑΡΙΘΜΟΣ ΠΑΡΤΙΔΑΣ<, ΣΤΟΙΧΕΙΑ ΔΟΤΗ ΚΑΙ ΚΩΔΙΚΟΙ ΠΡΟΪΟΝΤΟΣ>' | Matched :- 'True'\n",
      "2021-06-19 01:34:02,338 : Heading Extraction gonal-f_clean_ ΕΠΙΣΗΜΑΝΣΗ.json_4 : Validation Failed As Wrong Heading Found | H | CAP |  el | 2 | gonal-f_clean_ ΕΠΙΣΗΜΑΝΣΗ.json | currHeadId :- '22025' | prevHeadingCurrId :- '' | prevHeadingFoundId :- '22030'\n",
      "2021-06-19 01:34:02,533 : Heading Extraction gonal-f_clean_ ΕΠΙΣΗΜΑΝΣΗ.json_4 : Match Passed : Contains<>|189.47|(49, 95, 86)|0.76| | H | CAP |  el | 2 | gonal-f_clean_ ΕΠΙΣΗΜΑΝΣΗ.json | Doc txt :- '5.       ΑΡΙΘΜΟΣ ΠΑΡΤΙΔΑΣ' | Qrd txt :- '4. ΑΡΙΘΜΟΣ ΠΑΡΤΙΔΑΣ<, ΣΤΟΙΧΕΙΑ ΔΟΤΗ ΚΑΙ ΚΩΔΙΚΟΙ ΠΡΟΪΟΝΤΟΣ>' | Matched :- 'True'\n",
      "2021-06-19 01:34:02,562 : Heading Extraction gonal-f_clean_ ΕΠΙΣΗΜΑΝΣΗ.json_4 : Validation Passed | H | CAP |  el | 2 | gonal-f_clean_ ΕΠΙΣΗΜΑΝΣΗ.json | currHeadId :- '22031' | prevHeadingCurrId :- '22030' | prevHeadingFoundId :- '22030'\n",
      "2021-06-19 01:34:04,430 : Heading Extraction gonal-f_clean_ ΕΠΙΣΗΜΑΝΣΗ.json_4 : Match Passed : <=7|5.0|(95, 95, 95)|0.982| | H | CAP |  el | 2 | gonal-f_clean_ ΕΠΙΣΗΜΑΝΣΗ.json | Doc txt :- '6.       ΠΕΡΙΕΧΟΜΕΝΟ ΚΑΤΑ ΒΑPΟΣ, ΚΑΤ' ΟΓΚΟ Ή ΚΑΤΑ ΜΟΝΑΔΑ' | Qrd txt :- '5. ΠΕΡΙΕΧΟΜΕΝΟ ΚΑΤΑ ΒΑΡΟΣ, ΚΑΤ' ΟΓΚΟ Ή ΚΑΤΑ ΜΟΝΑΔΑ' | Matched :- 'True'\n",
      "2021-06-19 01:34:04,459 : Heading Extraction gonal-f_clean_ ΕΠΙΣΗΜΑΝΣΗ.json_4 : Validation Passed | H | CAP |  el | 2 | gonal-f_clean_ ΕΠΙΣΗΜΑΝΣΗ.json | currHeadId :- '22032' | prevHeadingCurrId :- '22031' | prevHeadingFoundId :- '22031'\n",
      "2021-06-19 01:34:05,927 : Heading Extraction gonal-f_clean_ ΕΠΙΣΗΜΑΝΣΗ.json_4 : Match Passed : <=4|6.25|(94, 94, 94)|0.975| | H | CAP |  el | 2 | gonal-f_clean_ ΕΠΙΣΗΜΑΝΣΗ.json | Doc txt :- '7.       ΑΛΛΑ ΣΤΟΙΧΕΙΑ' | Qrd txt :- '5. ΑΛΛΑ ΣΤΟΙΧΕΙΑ' | Matched :- 'True'\n",
      "2021-06-19 01:34:05,958 : Heading Extraction gonal-f_clean_ ΕΠΙΣΗΜΑΝΣΗ.json_4 : Validation Failed As Wrong Heading Found | H | CAP |  el | 2 | gonal-f_clean_ ΕΠΙΣΗΜΑΝΣΗ.json | currHeadId :- '22026' | prevHeadingCurrId :- '' | prevHeadingFoundId :- '22032'\n",
      "2021-06-19 01:34:06,122 : Heading Extraction gonal-f_clean_ ΕΠΙΣΗΜΑΝΣΗ.json_4 : Match Passed : <=4|6.25|(94, 94, 94)|0.975| | H | CAP |  el | 2 | gonal-f_clean_ ΕΠΙΣΗΜΑΝΣΗ.json | Doc txt :- '7.       ΑΛΛΑ ΣΤΟΙΧΕΙΑ' | Qrd txt :- '6. ΑΛΛΑ ΣΤΟΙΧΕΙΑ' | Matched :- 'True'\n",
      "2021-06-19 01:34:06,142 : Heading Extraction gonal-f_clean_ ΕΠΙΣΗΜΑΝΣΗ.json_4 : Validation Passed | H | CAP |  el | 2 | gonal-f_clean_ ΕΠΙΣΗΜΑΝΣΗ.json | currHeadId :- '22033' | prevHeadingCurrId :- '22032' | prevHeadingFoundId :- '22032'\n",
      "2021-06-19 01:34:07,441 : Heading Extraction gonal-f_clean_ ΕΠΙΣΗΜΑΝΣΗ.json_4 : Match Passed | H | CAP |  el | 2 | gonal-f_clean_ ΕΠΙΣΗΜΑΝΣΗ.json | Doc txt :- 'ΕΛΑΧΙΣΤΕΣ ΕΝΔΕΙΞΕΙΣ ΠΟΥ ΠΡΕΠΕΙ ΝΑ ΑΝΑΓΡΑΦΟΝΤΑΙ ΣΤΙΣ ΜΙΚΡΕΣ ΣΤΟΙΧΕΙΩΔΕΙΣ ΣΥΣΚΕΥΑΣΙΕΣ' | Qrd txt :- 'ΕΛΑΧΙΣΤΕΣ ΕΝΔΕΙΞΕΙΣ ΠΟΥ ΠΡΕΠΕΙ ΝΑ ΑΝΑΓΡΑΦΟΝΤΑΙ ΣΤΙΣ ΜΙΚΡΕΣ ΣΤΟΙΧΕΙΩΔΕΙΣ ΣΥΣΚΕΥΑΣΙΕΣ' | Matched :- 'True'\n"
     ]
    },
    {
     "name": "stderr",
     "output_type": "stream",
     "text": [
      "2021-06-19 01:34:07,461 : Heading Extraction gonal-f_clean_ ΕΠΙΣΗΜΑΝΣΗ.json_4 : (27, 2.0, 'CAP') Validation Passed As Current Heading Is Same As Previous H1 Heading | H | CAP |  el | 2 | gonal-f_clean_ ΕΠΙΣΗΜΑΝΣΗ.json | currHeadId :- '22027' | prevHeadingCurrId :- '' | prevHeadingFoundId :- '22033'\n",
      "2021-06-19 01:34:11,214 : Heading Extraction gonal-f_clean_ ΕΠΙΣΗΜΑΝΣΗ.json_4 : Match Passed | H | CAP |  el | 2 | gonal-f_clean_ ΕΠΙΣΗΜΑΝΣΗ.json | Doc txt :- '1. ΟΝΟΜΑΣΙΑ ΤΟΥ ΦΑΡΜΑΚΕΥΤΙΚΟΥ ΠΡΟΪΟΝΤΟΣ ΚΑΙ ΟΔΟΣ(ΟΙ) ΧΟΡΗΓΗΣΗΣ' | Qrd txt :- '1. ΟΝΟΜΑΣΙΑ ΤΟΥ ΦΑΡΜΑΚΕΥΤΙΚΟΥ ΠΡΟΪΟΝΤΟΣ ΚΑΙ ΟΔΟΣ(ΟΙ) ΧΟΡΗΓΗΣΗΣ' | Matched :- 'True'\n",
      "2021-06-19 01:34:11,248 : Heading Extraction gonal-f_clean_ ΕΠΙΣΗΜΑΝΣΗ.json_4 : Validation Passed | H | CAP |  el | 2 | gonal-f_clean_ ΕΠΙΣΗΜΑΝΣΗ.json | currHeadId :- '22028' | prevHeadingCurrId :- '22027' | prevHeadingFoundId :- '22027'\n",
      "2021-06-19 01:34:16,300 : Heading Extraction gonal-f_clean_ ΕΠΙΣΗΜΑΝΣΗ.json_4 : Match Passed | H | CAP |  el | 2 | gonal-f_clean_ ΕΠΙΣΗΜΑΝΣΗ.json | Doc txt :- '2. ΤΡΟΠΟΣ ΧΟΡΗΓΗΣΗΣ' | Qrd txt :- '2. ΤΡΟΠΟΣ ΧΟΡΗΓΗΣΗΣ' | Matched :- 'True'\n",
      "2021-06-19 01:34:16,326 : Heading Extraction gonal-f_clean_ ΕΠΙΣΗΜΑΝΣΗ.json_4 : Validation Passed | H | CAP |  el | 2 | gonal-f_clean_ ΕΠΙΣΗΜΑΝΣΗ.json | currHeadId :- '22029' | prevHeadingCurrId :- '22028' | prevHeadingFoundId :- '22028'\n",
      "2021-06-19 01:34:16,706 : Heading Extraction gonal-f_clean_ ΕΠΙΣΗΜΑΝΣΗ.json_4 : Match Passed : <=4|5.26|(95, 95, 95)|0.98| | H | CAP |  el | 2 | gonal-f_clean_ ΕΠΙΣΗΜΑΝΣΗ.json | Doc txt :- '3.       ΗΜΕΡΟΜΗΝΙΑ ΛΗΞΗΣ' | Qrd txt :- '8. ΗΜΕΡΟΜΗΝΙΑ ΛΗΞΗΣ' | Matched :- 'True'\n",
      "2021-06-19 01:34:16,748 : Heading Extraction gonal-f_clean_ ΕΠΙΣΗΜΑΝΣΗ.json_4 : Validation Failed As Previous Heading Found is not matching | H | CAP |  el | 2 | gonal-f_clean_ ΕΠΙΣΗΜΑΝΣΗ.json | currHeadId :- '22010' | prevHeadingCurrId :- '22009' | prevHeadingFoundId :- '22029'\n",
      "2021-06-19 01:34:17,391 : Heading Extraction gonal-f_clean_ ΕΠΙΣΗΜΑΝΣΗ.json_4 : Match Passed | H | CAP |  el | 2 | gonal-f_clean_ ΕΠΙΣΗΜΑΝΣΗ.json | Doc txt :- '3. ΗΜΕΡΟΜΗΝΙΑ ΛΗΞΗΣ' | Qrd txt :- '3. ΗΜΕΡΟΜΗΝΙΑ ΛΗΞΗΣ' | Matched :- 'True'\n",
      "2021-06-19 01:34:17,428 : Heading Extraction gonal-f_clean_ ΕΠΙΣΗΜΑΝΣΗ.json_4 : Validation Failed As Wrong Heading Found | H | CAP |  el | 2 | gonal-f_clean_ ΕΠΙΣΗΜΑΝΣΗ.json | currHeadId :- '22024' | prevHeadingCurrId :- '' | prevHeadingFoundId :- '22029'\n",
      "2021-06-19 01:34:17,721 : Heading Extraction gonal-f_clean_ ΕΠΙΣΗΜΑΝΣΗ.json_4 : Match Passed | H | CAP |  el | 2 | gonal-f_clean_ ΕΠΙΣΗΜΑΝΣΗ.json | Doc txt :- '3. ΗΜΕΡΟΜΗΝΙΑ ΛΗΞΗΣ' | Qrd txt :- '3. ΗΜΕΡΟΜΗΝΙΑ ΛΗΞΗΣ' | Matched :- 'True'\n",
      "2021-06-19 01:34:17,762 : Heading Extraction gonal-f_clean_ ΕΠΙΣΗΜΑΝΣΗ.json_4 : Validation Passed | H | CAP |  el | 2 | gonal-f_clean_ ΕΠΙΣΗΜΑΝΣΗ.json | currHeadId :- '22030' | prevHeadingCurrId :- '22029' | prevHeadingFoundId :- '22029'\n",
      "2021-06-19 01:34:18,437 : Heading Extraction gonal-f_clean_ ΕΠΙΣΗΜΑΝΣΗ.json_4 : Match Passed : Contains<>|194.74|(49, 95, 86)|0.758| | H | CAP |  el | 2 | gonal-f_clean_ ΕΠΙΣΗΜΑΝΣΗ.json | Doc txt :- '4.       ΑΡΙΘΜΟΣ ΠΑΡΤΙΔΑΣ' | Qrd txt :- '13. ΑΡΙΘΜΟΣ ΠΑΡΤΙΔΑΣ<, ΣΤΟΙΧΕΙΑ ΔΟΤΗ ΚΑΙ ΚΩΔΙΚΟΙ ΠΡΟΪΟΝΤΟΣ>' | Matched :- 'True'\n",
      "2021-06-19 01:34:18,473 : Heading Extraction gonal-f_clean_ ΕΠΙΣΗΜΑΝΣΗ.json_4 : Validation Failed As Previous Heading Found is not matching | H | CAP |  el | 2 | gonal-f_clean_ ΕΠΙΣΗΜΑΝΣΗ.json | currHeadId :- '22015' | prevHeadingCurrId :- '22014' | prevHeadingFoundId :- '22030'\n",
      "2021-06-19 01:34:18,945 : Heading Extraction gonal-f_clean_ ΕΠΙΣΗΜΑΝΣΗ.json_4 : Match Passed : Contains<>|184.21|(52, 100, 90)|0.87| | H | CAP |  el | 2 | gonal-f_clean_ ΕΠΙΣΗΜΑΝΣΗ.json | Doc txt :- '4.       ΑΡΙΘΜΟΣ ΠΑΡΤΙΔΑΣ' | Qrd txt :- '4. ΑΡΙΘΜΟΣ ΠΑΡΤΙΔΑΣ<, ΣΤΟΙΧΕΙΑ ΔΟΤΗ ΚΑΙ ΚΩΔΙΚΟΙ ΠΡΟΪΟΝΤΟΣ>' | Matched :- 'True'\n",
      "2021-06-19 01:34:18,980 : Heading Extraction gonal-f_clean_ ΕΠΙΣΗΜΑΝΣΗ.json_4 : Validation Failed As Wrong Heading Found | H | CAP |  el | 2 | gonal-f_clean_ ΕΠΙΣΗΜΑΝΣΗ.json | currHeadId :- '22025' | prevHeadingCurrId :- '' | prevHeadingFoundId :- '22030'\n",
      "2021-06-19 01:34:19,184 : Heading Extraction gonal-f_clean_ ΕΠΙΣΗΜΑΝΣΗ.json_4 : Match Passed : Contains<>|184.21|(52, 100, 90)|0.87| | H | CAP |  el | 2 | gonal-f_clean_ ΕΠΙΣΗΜΑΝΣΗ.json | Doc txt :- '4.       ΑΡΙΘΜΟΣ ΠΑΡΤΙΔΑΣ' | Qrd txt :- '4. ΑΡΙΘΜΟΣ ΠΑΡΤΙΔΑΣ<, ΣΤΟΙΧΕΙΑ ΔΟΤΗ ΚΑΙ ΚΩΔΙΚΟΙ ΠΡΟΪΟΝΤΟΣ>' | Matched :- 'True'\n",
      "2021-06-19 01:34:19,215 : Heading Extraction gonal-f_clean_ ΕΠΙΣΗΜΑΝΣΗ.json_4 : Validation Passed | H | CAP |  el | 2 | gonal-f_clean_ ΕΠΙΣΗΜΑΝΣΗ.json | currHeadId :- '22031' | prevHeadingCurrId :- '22030' | prevHeadingFoundId :- '22030'\n",
      "2021-06-19 01:34:21,545 : Heading Extraction gonal-f_clean_ ΕΠΙΣΗΜΑΝΣΗ.json_4 : Match Passed : <=7|2.5|(98, 98, 98)|0.995| | H | CAP |  el | 2 | gonal-f_clean_ ΕΠΙΣΗΜΑΝΣΗ.json | Doc txt :- '5.       ΠΕΡΙΕΧΟΜΕΝΟ ΚΑΤΑ ΒΑPΟΣ, ΚΑΤ' ΟΓΚΟ Ή ΚΑΤΑ ΜΟΝΑΔΑ' | Qrd txt :- '5. ΠΕΡΙΕΧΟΜΕΝΟ ΚΑΤΑ ΒΑΡΟΣ, ΚΑΤ' ΟΓΚΟ Ή ΚΑΤΑ ΜΟΝΑΔΑ' | Matched :- 'True'\n",
      "2021-06-19 01:34:21,589 : Heading Extraction gonal-f_clean_ ΕΠΙΣΗΜΑΝΣΗ.json_4 : Validation Passed | H | CAP |  el | 2 | gonal-f_clean_ ΕΠΙΣΗΜΑΝΣΗ.json | currHeadId :- '22032' | prevHeadingCurrId :- '22031' | prevHeadingFoundId :- '22031'\n",
      "2021-06-19 01:34:24,171 : Heading Extraction gonal-f_clean_ ΕΠΙΣΗΜΑΝΣΗ.json_4 : Match Passed : <=4|6.25|(94, 94, 94)|0.975| | H | CAP |  el | 2 | gonal-f_clean_ ΕΠΙΣΗΜΑΝΣΗ.json | Doc txt :- '6.       ΑΛΛΑ ΣΤΟΙΧΕΙΑ' | Qrd txt :- '5. ΑΛΛΑ ΣΤΟΙΧΕΙΑ' | Matched :- 'True'\n",
      "2021-06-19 01:34:24,205 : Heading Extraction gonal-f_clean_ ΕΠΙΣΗΜΑΝΣΗ.json_4 : Validation Failed As Wrong Heading Found | H | CAP |  el | 2 | gonal-f_clean_ ΕΠΙΣΗΜΑΝΣΗ.json | currHeadId :- '22026' | prevHeadingCurrId :- '' | prevHeadingFoundId :- '22032'\n",
      "2021-06-19 01:34:24,456 : Heading Extraction gonal-f_clean_ ΕΠΙΣΗΜΑΝΣΗ.json_4 : Match Passed | H | CAP |  el | 2 | gonal-f_clean_ ΕΠΙΣΗΜΑΝΣΗ.json | Doc txt :- '6. ΑΛΛΑ ΣΤΟΙΧΕΙΑ' | Qrd txt :- '6. ΑΛΛΑ ΣΤΟΙΧΕΙΑ' | Matched :- 'True'\n",
      "2021-06-19 01:34:24,497 : Heading Extraction gonal-f_clean_ ΕΠΙΣΗΜΑΝΣΗ.json_4 : Validation Passed | H | CAP |  el | 2 | gonal-f_clean_ ΕΠΙΣΗΜΑΝΣΗ.json | currHeadId :- '22033' | prevHeadingCurrId :- '22032' | prevHeadingFoundId :- '22032'\n",
      "2021-06-19 01:34:24,589 : Heading Extraction gonal-f_clean_ ΕΠΙΣΗΜΑΝΣΗ.json_4 : Match Passed : Contains<>|76.0|(72, 88, 86)|0.922| | H | CAP |  el | 2 | gonal-f_clean_ ΕΠΙΣΗΜΑΝΣΗ.json | Doc txt :- 'ΕΝΔΕΙΞΕΙΣ ΠΟΥ ΠΡΕΠΕΙ ΝΑ ΑΝΑΓΡΑΦΟΝΤΑΙ ΣΤΗΝ ΕΞΩΤΕΡΙΚΗ ΣΥΣΚΕΥΑΣΙΑ' | Qrd txt :- 'ΕΝΔΕΙΞΕΙΣ ΠΟΥ ΠΡΕΠΕΙ ΝΑ ΑΝΑΓΡΑΦΟΝΤΑΙ <ΣΤΗΝ ΕΞΩΤΕΡΙΚΗ ΣΥΣΚΕΥΑΣΙΑ> <ΚΑΙ> < ΣΤΗ ΣΤΟΙΧΕΙΩΔΗ ΣΥΣΚΕΥΑΣΙΑ>' | Matched :- 'True'\n",
      "2021-06-19 01:34:24,623 : Heading Extraction gonal-f_clean_ ΕΠΙΣΗΜΑΝΣΗ.json_4 : Validation Failed As Wrong Heading Found | H | CAP |  el | 2 | gonal-f_clean_ ΕΠΙΣΗΜΑΝΣΗ.json | currHeadId :- '22002' | prevHeadingCurrId :- '' | prevHeadingFoundId :- '22033'\n",
      "2021-06-19 01:34:26,236 : Heading Extraction gonal-f_clean_ ΕΠΙΣΗΜΑΝΣΗ.json_4 : End Of Sub Section | H | CAP |  el | 2 | gonal-f_clean_ ΕΠΙΣΗΜΑΝΣΗ.json\n",
      "2021-06-19 01:34:26,331 : Heading Extraction gonal-f_clean_ ΕΠΙΣΗΜΑΝΣΗ.json_4 : Match Passed : Contains<>|76.0|(72, 88, 86)|0.922| | H | CAP |  el | 2 | gonal-f_clean_ ΕΠΙΣΗΜΑΝΣΗ.json | Doc txt :- 'ΕΝΔΕΙΞΕΙΣ ΠΟΥ ΠΡΕΠΕΙ ΝΑ ΑΝΑΓΡΑΦΟΝΤΑΙ ΣΤΗΝ ΕΞΩΤΕΡΙΚΗ ΣΥΣΚΕΥΑΣΙΑ' | Qrd txt :- 'ΕΝΔΕΙΞΕΙΣ ΠΟΥ ΠΡΕΠΕΙ ΝΑ ΑΝΑΓΡΑΦΟΝΤΑΙ <ΣΤΗΝ ΕΞΩΤΕΡΙΚΗ ΣΥΣΚΕΥΑΣΙΑ> <ΚΑΙ> < ΣΤΗ ΣΤΟΙΧΕΙΩΔΗ ΣΥΣΚΕΥΑΣΙΑ>' | Matched :- 'True'\n",
      "2021-06-19 01:34:26,351 : Heading Extraction gonal-f_clean_ ΕΠΙΣΗΜΑΝΣΗ.json_4 : Validation Passed As This The First Heading | H | CAP |  el | 2 | gonal-f_clean_ ΕΠΙΣΗΜΑΝΣΗ.json | currHeadId :- '22002' | prevHeadingCurrId :- '' | prevHeadingFoundId :- ''\n"
     ]
    },
    {
     "name": "stdout",
     "output_type": "stream",
     "text": [
      "oooooooooooooooooooooooooooooooooooooooo END OF Sub Section oooooooooooooooooooooooooooooooooooooooooooooooooooooooooooo\n"
     ]
    },
    {
     "name": "stderr",
     "output_type": "stream",
     "text": [
      "2021-06-19 01:34:31,404 : Heading Extraction gonal-f_clean_ ΕΠΙΣΗΜΑΝΣΗ.json_4 : Match Passed | H | CAP |  el | 2 | gonal-f_clean_ ΕΠΙΣΗΜΑΝΣΗ.json | Doc txt :- '1. ΟΝΟΜΑΣΙΑ ΤΟΥ ΦΑΡΜΑΚΕΥΤΙΚΟΥ ΠΡΟΪΟΝΤΟΣ' | Qrd txt :- '1. ΟΝΟΜΑΣΙΑ ΤΟΥ ΦΑΡΜΑΚΕΥΤΙΚΟΥ ΠΡΟΪΟΝΤΟΣ' | Matched :- 'True'\n",
      "2021-06-19 01:34:31,478 : Heading Extraction gonal-f_clean_ ΕΠΙΣΗΜΑΝΣΗ.json_4 : Validation Passed | H | CAP |  el | 2 | gonal-f_clean_ ΕΠΙΣΗΜΑΝΣΗ.json | currHeadId :- '22003' | prevHeadingCurrId :- '22002' | prevHeadingFoundId :- '22002'\n",
      "2021-06-19 01:34:35,247 : Heading Extraction gonal-f_clean_ ΕΠΙΣΗΜΑΝΣΗ.json_4 : Match Passed | H | CAP |  el | 2 | gonal-f_clean_ ΕΠΙΣΗΜΑΝΣΗ.json | Doc txt :- '2. ΣΥΝΘΕΣΗ ΣΕ ΔΡΑΣΤΙΚΗ(ΕΣ) ΟΥΣΙΑ(ΕΣ)' | Qrd txt :- '2. ΣΥΝΘΕΣΗ ΣΕ ΔΡΑΣΤΙΚΗ(ΕΣ) ΟΥΣΙΑ(ΕΣ)' | Matched :- 'True'\n",
      "2021-06-19 01:34:35,274 : Heading Extraction gonal-f_clean_ ΕΠΙΣΗΜΑΝΣΗ.json_4 : Validation Passed | H | CAP |  el | 2 | gonal-f_clean_ ΕΠΙΣΗΜΑΝΣΗ.json | currHeadId :- '22004' | prevHeadingCurrId :- '22003' | prevHeadingFoundId :- '22003'\n",
      "2021-06-19 01:34:38,816 : Heading Extraction gonal-f_clean_ ΕΠΙΣΗΜΑΝΣΗ.json_4 : Match Passed | H | CAP |  el | 2 | gonal-f_clean_ ΕΠΙΣΗΜΑΝΣΗ.json | Doc txt :- '3. ΚΑΤΑΛΟΓΟΣ ΕΚΔΟΧΩΝ' | Qrd txt :- '3. ΚΑΤΑΛΟΓΟΣ ΕΚΔΟΧΩΝ' | Matched :- 'True'\n",
      "2021-06-19 01:34:38,870 : Heading Extraction gonal-f_clean_ ΕΠΙΣΗΜΑΝΣΗ.json_4 : Validation Passed | H | CAP |  el | 2 | gonal-f_clean_ ΕΠΙΣΗΜΑΝΣΗ.json | currHeadId :- '22005' | prevHeadingCurrId :- '22004' | prevHeadingFoundId :- '22004'\n",
      "2021-06-19 01:34:44,626 : Heading Extraction gonal-f_clean_ ΕΠΙΣΗΜΑΝΣΗ.json_4 : Match Passed | H | CAP |  el | 2 | gonal-f_clean_ ΕΠΙΣΗΜΑΝΣΗ.json | Doc txt :- '4. ΦΑΡΜΑΚΟΤΕΧΝΙΚΗ ΜΟΡΦΗ ΚΑΙ ΠΕΡΙΕΧΟΜΕΝΟ' | Qrd txt :- '4. ΦΑΡΜΑΚΟΤΕΧΝΙΚΗ ΜΟΡΦΗ ΚΑΙ ΠΕΡΙΕΧΟΜΕΝΟ' | Matched :- 'True'\n",
      "2021-06-19 01:34:44,653 : Heading Extraction gonal-f_clean_ ΕΠΙΣΗΜΑΝΣΗ.json_4 : Validation Passed | H | CAP |  el | 2 | gonal-f_clean_ ΕΠΙΣΗΜΑΝΣΗ.json | currHeadId :- '22006' | prevHeadingCurrId :- '22005' | prevHeadingFoundId :- '22005'\n",
      "2021-06-19 01:34:48,399 : Heading Extraction gonal-f_clean_ ΕΠΙΣΗΜΑΝΣΗ.json_4 : Match Passed | H | CAP |  el | 2 | gonal-f_clean_ ΕΠΙΣΗΜΑΝΣΗ.json | Doc txt :- '5. ΤΡΟΠΟΣ ΚΑΙ ΟΔΟΣ(ΟΙ) ΧΟΡΗΓΗΣΗΣ' | Qrd txt :- '5. ΤΡΟΠΟΣ ΚΑΙ ΟΔΟΣ(ΟΙ) ΧΟΡΗΓΗΣΗΣ' | Matched :- 'True'\n",
      "2021-06-19 01:34:48,412 : Heading Extraction gonal-f_clean_ ΕΠΙΣΗΜΑΝΣΗ.json_4 : Validation Passed | H | CAP |  el | 2 | gonal-f_clean_ ΕΠΙΣΗΜΑΝΣΗ.json | currHeadId :- '22007' | prevHeadingCurrId :- '22006' | prevHeadingFoundId :- '22006'\n",
      "2021-06-19 01:34:50,710 : Heading Extraction gonal-f_clean_ ΕΠΙΣΗΜΑΝΣΗ.json_4 : Match Passed | H | CAP |  el | 2 | gonal-f_clean_ ΕΠΙΣΗΜΑΝΣΗ.json | Doc txt :- '6. ΕΙΔΙΚΗ ΠΡΟΕΙΔΟΠΟΙΗΣΗ ΣΥΜΦΩΝΑ ΜΕ ΤΗΝ ΟΠΟΙΑ ΤΟ ΦΑΡΜΑΚΕΥΤΙΚΟ ΠΡΟΪΟΝ ΠΡΕΠΕΙ ΝΑ ΦΥΛΑΣΣΕΤΑΙ ΣΕ ΘΕΣΗ ΤΗΝ ΟΠΟΙΑ ΔΕΝ ΒΛΕΠΟΥΝ ΚΑΙ ΔΕΝ ΠΡΟΣΕΓΓΙΖΟΥΝ ΤΑ ΠΑΙΔΙΑ' | Qrd txt :- '6. ΕΙΔΙΚΗ ΠΡΟΕΙΔΟΠΟΙΗΣΗ ΣΥΜΦΩΝΑ ΜΕ ΤΗΝ ΟΠΟΙΑ ΤΟ ΦΑΡΜΑΚΕΥΤΙΚΟ ΠΡΟΪΟΝ ΠΡΕΠΕΙ ΝΑ ΦΥΛΑΣΣΕΤΑΙ ΣΕ ΘΕΣΗ ΤΗΝ ΟΠΟΙΑ ΔΕΝ ΒΛΕΠΟΥΝ ΚΑΙ ΔΕΝ ΠΡΟΣΕΓΓΙΖΟΥΝ ΤΑ ΠΑΙΔΙΑ' | Matched :- 'True'\n",
      "2021-06-19 01:34:50,733 : Heading Extraction gonal-f_clean_ ΕΠΙΣΗΜΑΝΣΗ.json_4 : Validation Passed | H | CAP |  el | 2 | gonal-f_clean_ ΕΠΙΣΗΜΑΝΣΗ.json | currHeadId :- '22008' | prevHeadingCurrId :- '22007' | prevHeadingFoundId :- '22007'\n",
      "2021-06-19 01:34:52,268 : Heading Extraction gonal-f_clean_ ΕΠΙΣΗΜΑΝΣΗ.json_4 : Match Passed | H | CAP |  el | 2 | gonal-f_clean_ ΕΠΙΣΗΜΑΝΣΗ.json | Doc txt :- '7. ΑΛΛΗ(ΕΣ) ΕΙΔΙΚΗ(ΕΣ) ΠΡΟΕΙΔΟΠΟΙΗΣΗ(ΕΙΣ), ΕΑΝ ΕΙΝΑΙ ΑΠΑΡΑΙΤΗΤΗ(ΕΣ)' | Qrd txt :- '7. ΑΛΛΗ(ΕΣ) ΕΙΔΙΚΗ(ΕΣ) ΠΡΟΕΙΔΟΠΟΙΗΣΗ(ΕΙΣ), ΕΑΝ ΕΙΝΑΙ ΑΠΑΡΑΙΤΗΤΗ(ΕΣ)' | Matched :- 'True'\n",
      "2021-06-19 01:34:52,291 : Heading Extraction gonal-f_clean_ ΕΠΙΣΗΜΑΝΣΗ.json_4 : Validation Passed | H | CAP |  el | 2 | gonal-f_clean_ ΕΠΙΣΗΜΑΝΣΗ.json | currHeadId :- '22009' | prevHeadingCurrId :- '22008' | prevHeadingFoundId :- '22008'\n",
      "2021-06-19 01:34:55,394 : Heading Extraction gonal-f_clean_ ΕΠΙΣΗΜΑΝΣΗ.json_4 : Match Passed | H | CAP |  el | 2 | gonal-f_clean_ ΕΠΙΣΗΜΑΝΣΗ.json | Doc txt :- '8. ΗΜΕΡΟΜΗΝΙΑ ΛΗΞΗΣ' | Qrd txt :- '8. ΗΜΕΡΟΜΗΝΙΑ ΛΗΞΗΣ' | Matched :- 'True'\n",
      "2021-06-19 01:34:55,427 : Heading Extraction gonal-f_clean_ ΕΠΙΣΗΜΑΝΣΗ.json_4 : Validation Passed | H | CAP |  el | 2 | gonal-f_clean_ ΕΠΙΣΗΜΑΝΣΗ.json | currHeadId :- '22010' | prevHeadingCurrId :- '22009' | prevHeadingFoundId :- '22009'\n",
      "2021-06-19 01:34:55,843 : Heading Extraction gonal-f_clean_ ΕΠΙΣΗΜΑΝΣΗ.json_4 : Match Passed | H | CAP |  el | 2 | gonal-f_clean_ ΕΠΙΣΗΜΑΝΣΗ.json | Doc txt :- '9. ΕΙΔΙΚΕΣ ΣΥΝΘΗΚΕΣ ΦΥΛΑΞΗΣ' | Qrd txt :- '9. ΕΙΔΙΚΕΣ ΣΥΝΘΗΚΕΣ ΦΥΛΑΞΗΣ' | Matched :- 'True'\n",
      "2021-06-19 01:34:55,877 : Heading Extraction gonal-f_clean_ ΕΠΙΣΗΜΑΝΣΗ.json_4 : Validation Passed | H | CAP |  el | 2 | gonal-f_clean_ ΕΠΙΣΗΜΑΝΣΗ.json | currHeadId :- '22011' | prevHeadingCurrId :- '22010' | prevHeadingFoundId :- '22010'\n",
      "2021-06-19 01:34:58,812 : Heading Extraction gonal-f_clean_ ΕΠΙΣΗΜΑΝΣΗ.json_4 : Match Passed | H | CAP |  el | 2 | gonal-f_clean_ ΕΠΙΣΗΜΑΝΣΗ.json | Doc txt :- '10. ΙΔΙΑΙΤΕΡΕΣ ΠΡΟΦΥΛΑΞΕΙΣ ΓΙΑ ΤΗΝ ΑΠΟΡΡΙΨΗ ΤΩΝ ΜΗ ΧΡΗΣΙΜΟΠΟΙΗΘΕΝΤΩΝ ΦΑΡΜΑΚΕΥΤΙΚΩΝ ΠΡΟΪΟΝΤΩΝ Ή ΤΩΝ ΥΠΟΛΕΙΜΜΑΤΩΝ ΠΟΥ ΠΡΟΕΡΧΟΝΤΑΙ ΑΠΟ ΑΥΤΑ, ΕΦΟΣΟΝ ΑΠΑΙΤΕΙΤΑΙ' | Qrd txt :- '10. ΙΔΙΑΙΤΕΡΕΣ ΠΡΟΦΥΛΑΞΕΙΣ ΓΙΑ ΤΗΝ ΑΠΟΡΡΙΨΗ ΤΩΝ ΜΗ ΧΡΗΣΙΜΟΠΟΙΗΘΕΝΤΩΝ ΦΑΡΜΑΚΕΥΤΙΚΩΝ ΠΡΟΪΟΝΤΩΝ Ή ΤΩΝ ΥΠΟΛΕΙΜΜΑΤΩΝ ΠΟΥ ΠΡΟΕΡΧΟΝΤΑΙ ΑΠΟ ΑΥΤΑ, ΕΦΟΣΟΝ ΑΠΑΙΤΕΙΤΑΙ' | Matched :- 'True'\n",
      "2021-06-19 01:34:58,834 : Heading Extraction gonal-f_clean_ ΕΠΙΣΗΜΑΝΣΗ.json_4 : Validation Passed | H | CAP |  el | 2 | gonal-f_clean_ ΕΠΙΣΗΜΑΝΣΗ.json | currHeadId :- '22012' | prevHeadingCurrId :- '22011' | prevHeadingFoundId :- '22011'\n",
      "2021-06-19 01:35:00,778 : Heading Extraction gonal-f_clean_ ΕΠΙΣΗΜΑΝΣΗ.json_4 : Match Passed | H | CAP |  el | 2 | gonal-f_clean_ ΕΠΙΣΗΜΑΝΣΗ.json | Doc txt :- '11. ΟΝΟΜΑ ΚΑΙ ΔΙΕΥΘΥΝΣΗ ΚΑΤΟΧΟΥ ΤΗΣ ΑΔΕΙΑΣ ΚΥΚΛΟΦΟΡΙΑΣ' | Qrd txt :- '11. ΟΝΟΜΑ ΚΑΙ ΔΙΕΥΘΥΝΣΗ ΚΑΤΟΧΟΥ ΤΗΣ ΑΔΕΙΑΣ ΚΥΚΛΟΦΟΡΙΑΣ' | Matched :- 'True'\n",
      "2021-06-19 01:35:00,797 : Heading Extraction gonal-f_clean_ ΕΠΙΣΗΜΑΝΣΗ.json_4 : Validation Passed | H | CAP |  el | 2 | gonal-f_clean_ ΕΠΙΣΗΜΑΝΣΗ.json | currHeadId :- '22013' | prevHeadingCurrId :- '22012' | prevHeadingFoundId :- '22012'\n",
      "2021-06-19 01:35:03,540 : Heading Extraction gonal-f_clean_ ΕΠΙΣΗΜΑΝΣΗ.json_4 : Match Passed | H | CAP |  el | 2 | gonal-f_clean_ ΕΠΙΣΗΜΑΝΣΗ.json | Doc txt :- '12. ΑΡΙΘΜΟΣ(ΟΙ) ΑΔΕΙΑΣ ΚΥΚΛΟΦΟΡΙΑΣ' | Qrd txt :- '12. ΑΡΙΘΜΟΣ(ΟΙ) ΑΔΕΙΑΣ ΚΥΚΛΟΦΟΡΙΑΣ' | Matched :- 'True'\n",
      "2021-06-19 01:35:03,563 : Heading Extraction gonal-f_clean_ ΕΠΙΣΗΜΑΝΣΗ.json_4 : Validation Passed | H | CAP |  el | 2 | gonal-f_clean_ ΕΠΙΣΗΜΑΝΣΗ.json | currHeadId :- '22014' | prevHeadingCurrId :- '22013' | prevHeadingFoundId :- '22013'\n",
      "2021-06-19 01:35:08,036 : Heading Extraction gonal-f_clean_ ΕΠΙΣΗΜΑΝΣΗ.json_4 : Match Passed : Contains<>|175.0|(53, 100, 90)|0.873| | H | CAP |  el | 2 | gonal-f_clean_ ΕΠΙΣΗΜΑΝΣΗ.json | Doc txt :- '13.     ΑΡΙΘΜΟΣ ΠΑΡΤΙΔΑΣ' | Qrd txt :- '13. ΑΡΙΘΜΟΣ ΠΑΡΤΙΔΑΣ<, ΣΤΟΙΧΕΙΑ ΔΟΤΗ ΚΑΙ ΚΩΔΙΚΟΙ ΠΡΟΪΟΝΤΟΣ>' | Matched :- 'True'\n",
      "2021-06-19 01:35:08,052 : Heading Extraction gonal-f_clean_ ΕΠΙΣΗΜΑΝΣΗ.json_4 : Validation Passed | H | CAP |  el | 2 | gonal-f_clean_ ΕΠΙΣΗΜΑΝΣΗ.json | currHeadId :- '22015' | prevHeadingCurrId :- '22014' | prevHeadingFoundId :- '22014'\n",
      "2021-06-19 01:35:09,372 : Heading Extraction gonal-f_clean_ ΕΠΙΣΗΜΑΝΣΗ.json_4 : Match Passed | H | CAP |  el | 2 | gonal-f_clean_ ΕΠΙΣΗΜΑΝΣΗ.json | Doc txt :- '14. ΓΕΝΙΚΗ ΚΑΤΑΤΑΞΗ ΓΙΑ ΤΗ ΔΙΑΘΕΣΗ' | Qrd txt :- '14. ΓΕΝΙΚΗ ΚΑΤΑΤΑΞΗ ΓΙΑ ΤΗ ΔΙΑΘΕΣΗ' | Matched :- 'True'\n",
      "2021-06-19 01:35:09,388 : Heading Extraction gonal-f_clean_ ΕΠΙΣΗΜΑΝΣΗ.json_4 : Validation Passed | H | CAP |  el | 2 | gonal-f_clean_ ΕΠΙΣΗΜΑΝΣΗ.json | currHeadId :- '22016' | prevHeadingCurrId :- '22015' | prevHeadingFoundId :- '22015'\n",
      "2021-06-19 01:35:09,814 : Heading Extraction gonal-f_clean_ ΕΠΙΣΗΜΑΝΣΗ.json_4 : Match Passed | H | CAP |  el | 2 | gonal-f_clean_ ΕΠΙΣΗΜΑΝΣΗ.json | Doc txt :- '15. ΟΔΗΓΙΕΣ ΧΡΗΣΗΣ' | Qrd txt :- '15. ΟΔΗΓΙΕΣ ΧΡΗΣΗΣ' | Matched :- 'True'\n",
      "2021-06-19 01:35:09,835 : Heading Extraction gonal-f_clean_ ΕΠΙΣΗΜΑΝΣΗ.json_4 : Validation Passed | H | CAP |  el | 2 | gonal-f_clean_ ΕΠΙΣΗΜΑΝΣΗ.json | currHeadId :- '22017' | prevHeadingCurrId :- '22016' | prevHeadingFoundId :- '22016'\n",
      "2021-06-19 01:35:10,277 : Heading Extraction gonal-f_clean_ ΕΠΙΣΗΜΑΝΣΗ.json_4 : Match Passed | H | CAP |  el | 2 | gonal-f_clean_ ΕΠΙΣΗΜΑΝΣΗ.json | Doc txt :- '16. ΠΛΗΡΟΦΟΡΙΕΣ ΣΕ BRAILLE' | Qrd txt :- '16. ΠΛΗΡΟΦΟΡΙΕΣ ΣΕ BRAILLE' | Matched :- 'True'\n"
     ]
    },
    {
     "name": "stderr",
     "output_type": "stream",
     "text": [
      "2021-06-19 01:35:10,298 : Heading Extraction gonal-f_clean_ ΕΠΙΣΗΜΑΝΣΗ.json_4 : Validation Passed | H | CAP |  el | 2 | gonal-f_clean_ ΕΠΙΣΗΜΑΝΣΗ.json | currHeadId :- '22018' | prevHeadingCurrId :- '22017' | prevHeadingFoundId :- '22017'\n",
      "2021-06-19 01:35:11,489 : Heading Extraction gonal-f_clean_ ΕΠΙΣΗΜΑΝΣΗ.json_4 : Match Passed | H | CAP |  el | 2 | gonal-f_clean_ ΕΠΙΣΗΜΑΝΣΗ.json | Doc txt :- '17. ΜΟΝΑΔΙΚΟΣ ΑΝΑΓΝΩΡΙΣΤΙΚΟΣ ΚΩΔΙΚΟΣ – ΔΙΣΔΙΑΣΤΑΤΟΣ ΓΡΑΜΜΩΤΟΣ ΚΩΔΙΚΑΣ (2D)' | Qrd txt :- '17. ΜΟΝΑΔΙΚΟΣ ΑΝΑΓΝΩΡΙΣΤΙΚΟΣ ΚΩΔΙΚΟΣ – ΔΙΣΔΙΑΣΤΑΤΟΣ ΓΡΑΜΜΩΤΟΣ ΚΩΔΙΚΑΣ (2D)' | Matched :- 'True'\n",
      "2021-06-19 01:35:11,505 : Heading Extraction gonal-f_clean_ ΕΠΙΣΗΜΑΝΣΗ.json_4 : Validation Passed | H | CAP |  el | 2 | gonal-f_clean_ ΕΠΙΣΗΜΑΝΣΗ.json | currHeadId :- '22019' | prevHeadingCurrId :- '22018' | prevHeadingFoundId :- '22018'\n",
      "2021-06-19 01:35:13,575 : Heading Extraction gonal-f_clean_ ΕΠΙΣΗΜΑΝΣΗ.json_4 : Match Passed | H | CAP |  el | 2 | gonal-f_clean_ ΕΠΙΣΗΜΑΝΣΗ.json | Doc txt :- '18. ΜΟΝΑΔΙΚΟΣ ΑΝΑΓΝΩΡΙΣΤΙΚΟΣ ΚΩΔΙΚΟΣ – ΔΕΔΟΜΕΝΑ ΑΝΑΓΝΩΣΙΜΑ ΑΠΟ ΤΟΝ ΑΝΘΡΩΠΟ' | Qrd txt :- '18. ΜΟΝΑΔΙΚΟΣ ΑΝΑΓΝΩΡΙΣΤΙΚΟΣ ΚΩΔΙΚΟΣ – ΔΕΔΟΜΕΝΑ ΑΝΑΓΝΩΣΙΜΑ ΑΠΟ ΤΟΝ ΑΝΘΡΩΠΟ' | Matched :- 'True'\n",
      "2021-06-19 01:35:13,592 : Heading Extraction gonal-f_clean_ ΕΠΙΣΗΜΑΝΣΗ.json_4 : Validation Passed | H | CAP |  el | 2 | gonal-f_clean_ ΕΠΙΣΗΜΑΝΣΗ.json | currHeadId :- '22020' | prevHeadingCurrId :- '22019' | prevHeadingFoundId :- '22019'\n",
      "2021-06-19 01:35:14,739 : Heading Extraction gonal-f_clean_ ΕΠΙΣΗΜΑΝΣΗ.json_4 : Match Passed | H | CAP |  el | 2 | gonal-f_clean_ ΕΠΙΣΗΜΑΝΣΗ.json | Doc txt :- 'ΕΛΑΧΙΣΤΕΣ ΕΝΔΕΙΞΕΙΣ ΠΟΥ ΠΡΕΠΕΙ ΝΑ ΑΝΑΓΡΑΦΟΝΤΑΙ ΣΤΙΣ ΜΙΚΡΕΣ ΣΤΟΙΧΕΙΩΔΕΙΣ ΣΥΣΚΕΥΑΣΙΕΣ' | Qrd txt :- 'ΕΛΑΧΙΣΤΕΣ ΕΝΔΕΙΞΕΙΣ ΠΟΥ ΠΡΕΠΕΙ ΝΑ ΑΝΑΓΡΑΦΟΝΤΑΙ ΣΤΙΣ ΜΙΚΡΕΣ ΣΤΟΙΧΕΙΩΔΕΙΣ ΣΥΣΚΕΥΑΣΙΕΣ' | Matched :- 'True'\n",
      "2021-06-19 01:35:14,763 : Heading Extraction gonal-f_clean_ ΕΠΙΣΗΜΑΝΣΗ.json_4 : Validation Flow Is Broken | H | CAP |  el | 2 | gonal-f_clean_ ΕΠΙΣΗΜΑΝΣΗ.json | currHeadId :- '22027' | prevHeadingCurrId :- '' | prevHeadingFoundId :- '22020'\n",
      "2021-06-19 01:35:14,777 : Heading Extraction gonal-f_clean_ ΕΠΙΣΗΜΑΝΣΗ.json_4 : Validation Passed | H | CAP |  el | 2 | gonal-f_clean_ ΕΠΙΣΗΜΑΝΣΗ.json | currHeadId :- '22027' | prevHeadingCurrId :- '22020' | prevHeadingFoundId :- '22020'\n",
      "2021-06-19 01:35:17,666 : Heading Extraction gonal-f_clean_ ΕΠΙΣΗΜΑΝΣΗ.json_4 : Match Passed | H | CAP |  el | 2 | gonal-f_clean_ ΕΠΙΣΗΜΑΝΣΗ.json | Doc txt :- '1. ΟΝΟΜΑΣΙΑ ΤΟΥ ΦΑΡΜΑΚΕΥΤΙΚΟΥ ΠΡΟΪΟΝΤΟΣ ΚΑΙ ΟΔΟΣ(ΟΙ) ΧΟΡΗΓΗΣΗΣ' | Qrd txt :- '1. ΟΝΟΜΑΣΙΑ ΤΟΥ ΦΑΡΜΑΚΕΥΤΙΚΟΥ ΠΡΟΪΟΝΤΟΣ ΚΑΙ ΟΔΟΣ(ΟΙ) ΧΟΡΗΓΗΣΗΣ' | Matched :- 'True'\n",
      "2021-06-19 01:35:17,692 : Heading Extraction gonal-f_clean_ ΕΠΙΣΗΜΑΝΣΗ.json_4 : Validation Passed | H | CAP |  el | 2 | gonal-f_clean_ ΕΠΙΣΗΜΑΝΣΗ.json | currHeadId :- '22028' | prevHeadingCurrId :- '22027' | prevHeadingFoundId :- '22027'\n",
      "2021-06-19 01:35:20,515 : Heading Extraction gonal-f_clean_ ΕΠΙΣΗΜΑΝΣΗ.json_4 : Match Passed | H | CAP |  el | 2 | gonal-f_clean_ ΕΠΙΣΗΜΑΝΣΗ.json | Doc txt :- '2. ΤΡΟΠΟΣ ΧΟΡΗΓΗΣΗΣ' | Qrd txt :- '2. ΤΡΟΠΟΣ ΧΟΡΗΓΗΣΗΣ' | Matched :- 'True'\n",
      "2021-06-19 01:35:20,533 : Heading Extraction gonal-f_clean_ ΕΠΙΣΗΜΑΝΣΗ.json_4 : Validation Passed | H | CAP |  el | 2 | gonal-f_clean_ ΕΠΙΣΗΜΑΝΣΗ.json | currHeadId :- '22029' | prevHeadingCurrId :- '22028' | prevHeadingFoundId :- '22028'\n",
      "2021-06-19 01:35:20,879 : Heading Extraction gonal-f_clean_ ΕΠΙΣΗΜΑΝΣΗ.json_4 : Match Passed : <=4|5.26|(95, 95, 95)|0.98| | H | CAP |  el | 2 | gonal-f_clean_ ΕΠΙΣΗΜΑΝΣΗ.json | Doc txt :- '3.       ΗΜΕΡΟΜΗΝΙΑ ΛΗΞΗΣ' | Qrd txt :- '8. ΗΜΕΡΟΜΗΝΙΑ ΛΗΞΗΣ' | Matched :- 'True'\n",
      "2021-06-19 01:35:20,898 : Heading Extraction gonal-f_clean_ ΕΠΙΣΗΜΑΝΣΗ.json_4 : Validation Failed As Previous Heading Found is not matching | H | CAP |  el | 2 | gonal-f_clean_ ΕΠΙΣΗΜΑΝΣΗ.json | currHeadId :- '22010' | prevHeadingCurrId :- '22009' | prevHeadingFoundId :- '22029'\n",
      "2021-06-19 01:35:21,288 : Heading Extraction gonal-f_clean_ ΕΠΙΣΗΜΑΝΣΗ.json_4 : Match Passed | H | CAP |  el | 2 | gonal-f_clean_ ΕΠΙΣΗΜΑΝΣΗ.json | Doc txt :- '3. ΗΜΕΡΟΜΗΝΙΑ ΛΗΞΗΣ' | Qrd txt :- '3. ΗΜΕΡΟΜΗΝΙΑ ΛΗΞΗΣ' | Matched :- 'True'\n",
      "2021-06-19 01:35:21,313 : Heading Extraction gonal-f_clean_ ΕΠΙΣΗΜΑΝΣΗ.json_4 : Validation Failed As Wrong Heading Found | H | CAP |  el | 2 | gonal-f_clean_ ΕΠΙΣΗΜΑΝΣΗ.json | currHeadId :- '22024' | prevHeadingCurrId :- '' | prevHeadingFoundId :- '22029'\n",
      "2021-06-19 01:35:21,466 : Heading Extraction gonal-f_clean_ ΕΠΙΣΗΜΑΝΣΗ.json_4 : Match Passed | H | CAP |  el | 2 | gonal-f_clean_ ΕΠΙΣΗΜΑΝΣΗ.json | Doc txt :- '3. ΗΜΕΡΟΜΗΝΙΑ ΛΗΞΗΣ' | Qrd txt :- '3. ΗΜΕΡΟΜΗΝΙΑ ΛΗΞΗΣ' | Matched :- 'True'\n",
      "2021-06-19 01:35:21,494 : Heading Extraction gonal-f_clean_ ΕΠΙΣΗΜΑΝΣΗ.json_4 : Validation Passed | H | CAP |  el | 2 | gonal-f_clean_ ΕΠΙΣΗΜΑΝΣΗ.json | currHeadId :- '22030' | prevHeadingCurrId :- '22029' | prevHeadingFoundId :- '22029'\n",
      "2021-06-19 01:35:23,983 : Heading Extraction gonal-f_clean_ ΕΠΙΣΗΜΑΝΣΗ.json_4 : Match Passed : Contains<>|194.74|(49, 95, 86)|0.758| | H | CAP |  el | 2 | gonal-f_clean_ ΕΠΙΣΗΜΑΝΣΗ.json | Doc txt :- '5.       ΑΡΙΘΜΟΣ ΠΑΡΤΙΔΑΣ' | Qrd txt :- '13. ΑΡΙΘΜΟΣ ΠΑΡΤΙΔΑΣ<, ΣΤΟΙΧΕΙΑ ΔΟΤΗ ΚΑΙ ΚΩΔΙΚΟΙ ΠΡΟΪΟΝΤΟΣ>' | Matched :- 'True'\n",
      "2021-06-19 01:35:24,008 : Heading Extraction gonal-f_clean_ ΕΠΙΣΗΜΑΝΣΗ.json_4 : Validation Failed As Previous Heading Found is not matching | H | CAP |  el | 2 | gonal-f_clean_ ΕΠΙΣΗΜΑΝΣΗ.json | currHeadId :- '22015' | prevHeadingCurrId :- '22014' | prevHeadingFoundId :- '22030'\n",
      "2021-06-19 01:35:24,309 : Heading Extraction gonal-f_clean_ ΕΠΙΣΗΜΑΝΣΗ.json_4 : Match Passed : Contains<>|189.47|(49, 95, 86)|0.76| | H | CAP |  el | 2 | gonal-f_clean_ ΕΠΙΣΗΜΑΝΣΗ.json | Doc txt :- '5.       ΑΡΙΘΜΟΣ ΠΑΡΤΙΔΑΣ' | Qrd txt :- '4. ΑΡΙΘΜΟΣ ΠΑΡΤΙΔΑΣ<, ΣΤΟΙΧΕΙΑ ΔΟΤΗ ΚΑΙ ΚΩΔΙΚΟΙ ΠΡΟΪΟΝΤΟΣ>' | Matched :- 'True'\n",
      "2021-06-19 01:35:24,344 : Heading Extraction gonal-f_clean_ ΕΠΙΣΗΜΑΝΣΗ.json_4 : Validation Failed As Wrong Heading Found | H | CAP |  el | 2 | gonal-f_clean_ ΕΠΙΣΗΜΑΝΣΗ.json | currHeadId :- '22025' | prevHeadingCurrId :- '' | prevHeadingFoundId :- '22030'\n",
      "2021-06-19 01:35:24,510 : Heading Extraction gonal-f_clean_ ΕΠΙΣΗΜΑΝΣΗ.json_4 : Match Passed : Contains<>|189.47|(49, 95, 86)|0.76| | H | CAP |  el | 2 | gonal-f_clean_ ΕΠΙΣΗΜΑΝΣΗ.json | Doc txt :- '5.       ΑΡΙΘΜΟΣ ΠΑΡΤΙΔΑΣ' | Qrd txt :- '4. ΑΡΙΘΜΟΣ ΠΑΡΤΙΔΑΣ<, ΣΤΟΙΧΕΙΑ ΔΟΤΗ ΚΑΙ ΚΩΔΙΚΟΙ ΠΡΟΪΟΝΤΟΣ>' | Matched :- 'True'\n",
      "2021-06-19 01:35:24,542 : Heading Extraction gonal-f_clean_ ΕΠΙΣΗΜΑΝΣΗ.json_4 : Validation Passed | H | CAP |  el | 2 | gonal-f_clean_ ΕΠΙΣΗΜΑΝΣΗ.json | currHeadId :- '22031' | prevHeadingCurrId :- '22030' | prevHeadingFoundId :- '22030'\n",
      "2021-06-19 01:35:26,402 : Heading Extraction gonal-f_clean_ ΕΠΙΣΗΜΑΝΣΗ.json_4 : Match Passed : <=7|5.0|(95, 95, 95)|0.982| | H | CAP |  el | 2 | gonal-f_clean_ ΕΠΙΣΗΜΑΝΣΗ.json | Doc txt :- '6.       ΠΕΡΙΕΧΟΜΕΝΟ ΚΑΤΑ ΒΑPΟΣ, ΚΑΤ' ΟΓΚΟ Ή ΚΑΤΑ ΜΟΝΑΔΑ' | Qrd txt :- '5. ΠΕΡΙΕΧΟΜΕΝΟ ΚΑΤΑ ΒΑΡΟΣ, ΚΑΤ' ΟΓΚΟ Ή ΚΑΤΑ ΜΟΝΑΔΑ' | Matched :- 'True'\n",
      "2021-06-19 01:35:26,433 : Heading Extraction gonal-f_clean_ ΕΠΙΣΗΜΑΝΣΗ.json_4 : Validation Passed | H | CAP |  el | 2 | gonal-f_clean_ ΕΠΙΣΗΜΑΝΣΗ.json | currHeadId :- '22032' | prevHeadingCurrId :- '22031' | prevHeadingFoundId :- '22031'\n",
      "2021-06-19 01:35:28,851 : Heading Extraction gonal-f_clean_ ΕΠΙΣΗΜΑΝΣΗ.json_4 : Match Passed : <=4|6.25|(94, 94, 94)|0.975| | H | CAP |  el | 2 | gonal-f_clean_ ΕΠΙΣΗΜΑΝΣΗ.json | Doc txt :- '7.       ΑΛΛΑ ΣΤΟΙΧΕΙΑ' | Qrd txt :- '5. ΑΛΛΑ ΣΤΟΙΧΕΙΑ' | Matched :- 'True'\n",
      "2021-06-19 01:35:28,898 : Heading Extraction gonal-f_clean_ ΕΠΙΣΗΜΑΝΣΗ.json_4 : Validation Failed As Wrong Heading Found | H | CAP |  el | 2 | gonal-f_clean_ ΕΠΙΣΗΜΑΝΣΗ.json | currHeadId :- '22026' | prevHeadingCurrId :- '' | prevHeadingFoundId :- '22032'\n",
      "2021-06-19 01:35:29,195 : Heading Extraction gonal-f_clean_ ΕΠΙΣΗΜΑΝΣΗ.json_4 : Match Passed : <=4|6.25|(94, 94, 94)|0.975| | H | CAP |  el | 2 | gonal-f_clean_ ΕΠΙΣΗΜΑΝΣΗ.json | Doc txt :- '7.       ΑΛΛΑ ΣΤΟΙΧΕΙΑ' | Qrd txt :- '6. ΑΛΛΑ ΣΤΟΙΧΕΙΑ' | Matched :- 'True'\n",
      "2021-06-19 01:35:29,232 : Heading Extraction gonal-f_clean_ ΕΠΙΣΗΜΑΝΣΗ.json_4 : Validation Passed | H | CAP |  el | 2 | gonal-f_clean_ ΕΠΙΣΗΜΑΝΣΗ.json | currHeadId :- '22033' | prevHeadingCurrId :- '22032' | prevHeadingFoundId :- '22032'\n",
      "2021-06-19 01:35:30,870 : Heading Extraction gonal-f_clean_ ΕΠΙΣΗΜΑΝΣΗ.json_4 : Match Passed | H | CAP |  el | 2 | gonal-f_clean_ ΕΠΙΣΗΜΑΝΣΗ.json | Doc txt :- 'ΕΛΑΧΙΣΤΕΣ ΕΝΔΕΙΞΕΙΣ ΠΟΥ ΠΡΕΠΕΙ ΝΑ ΑΝΑΓΡΑΦΟΝΤΑΙ ΣΤΙΣ ΜΙΚΡΕΣ ΣΤΟΙΧΕΙΩΔΕΙΣ ΣΥΣΚΕΥΑΣΙΕΣ' | Qrd txt :- 'ΕΛΑΧΙΣΤΕΣ ΕΝΔΕΙΞΕΙΣ ΠΟΥ ΠΡΕΠΕΙ ΝΑ ΑΝΑΓΡΑΦΟΝΤΑΙ ΣΤΙΣ ΜΙΚΡΕΣ ΣΤΟΙΧΕΙΩΔΕΙΣ ΣΥΣΚΕΥΑΣΙΕΣ' | Matched :- 'True'\n"
     ]
    },
    {
     "name": "stderr",
     "output_type": "stream",
     "text": [
      "2021-06-19 01:35:30,884 : Heading Extraction gonal-f_clean_ ΕΠΙΣΗΜΑΝΣΗ.json_4 : (27, 2.0, 'CAP') Validation Passed As Current Heading Is Same As Previous H1 Heading | H | CAP |  el | 2 | gonal-f_clean_ ΕΠΙΣΗΜΑΝΣΗ.json | currHeadId :- '22027' | prevHeadingCurrId :- '' | prevHeadingFoundId :- '22033'\n",
      "2021-06-19 01:35:33,418 : Heading Extraction gonal-f_clean_ ΕΠΙΣΗΜΑΝΣΗ.json_4 : Match Passed | H | CAP |  el | 2 | gonal-f_clean_ ΕΠΙΣΗΜΑΝΣΗ.json | Doc txt :- '1. ΟΝΟΜΑΣΙΑ ΤΟΥ ΦΑΡΜΑΚΕΥΤΙΚΟΥ ΠΡΟΪΟΝΤΟΣ ΚΑΙ ΟΔΟΣ(ΟΙ) ΧΟΡΗΓΗΣΗΣ' | Qrd txt :- '1. ΟΝΟΜΑΣΙΑ ΤΟΥ ΦΑΡΜΑΚΕΥΤΙΚΟΥ ΠΡΟΪΟΝΤΟΣ ΚΑΙ ΟΔΟΣ(ΟΙ) ΧΟΡΗΓΗΣΗΣ' | Matched :- 'True'\n",
      "2021-06-19 01:35:33,434 : Heading Extraction gonal-f_clean_ ΕΠΙΣΗΜΑΝΣΗ.json_4 : Validation Passed | H | CAP |  el | 2 | gonal-f_clean_ ΕΠΙΣΗΜΑΝΣΗ.json | currHeadId :- '22028' | prevHeadingCurrId :- '22027' | prevHeadingFoundId :- '22027'\n",
      "2021-06-19 01:35:35,440 : Heading Extraction gonal-f_clean_ ΕΠΙΣΗΜΑΝΣΗ.json_4 : Match Passed | H | CAP |  el | 2 | gonal-f_clean_ ΕΠΙΣΗΜΑΝΣΗ.json | Doc txt :- '2. ΤΡΟΠΟΣ ΧΟΡΗΓΗΣΗΣ' | Qrd txt :- '2. ΤΡΟΠΟΣ ΧΟΡΗΓΗΣΗΣ' | Matched :- 'True'\n",
      "2021-06-19 01:35:35,455 : Heading Extraction gonal-f_clean_ ΕΠΙΣΗΜΑΝΣΗ.json_4 : Validation Passed | H | CAP |  el | 2 | gonal-f_clean_ ΕΠΙΣΗΜΑΝΣΗ.json | currHeadId :- '22029' | prevHeadingCurrId :- '22028' | prevHeadingFoundId :- '22028'\n",
      "2021-06-19 01:35:35,650 : Heading Extraction gonal-f_clean_ ΕΠΙΣΗΜΑΝΣΗ.json_4 : Match Passed : <=4|5.26|(95, 95, 95)|0.98| | H | CAP |  el | 2 | gonal-f_clean_ ΕΠΙΣΗΜΑΝΣΗ.json | Doc txt :- '3.       ΗΜΕΡΟΜΗΝΙΑ ΛΗΞΗΣ' | Qrd txt :- '8. ΗΜΕΡΟΜΗΝΙΑ ΛΗΞΗΣ' | Matched :- 'True'\n",
      "2021-06-19 01:35:35,666 : Heading Extraction gonal-f_clean_ ΕΠΙΣΗΜΑΝΣΗ.json_4 : Validation Failed As Previous Heading Found is not matching | H | CAP |  el | 2 | gonal-f_clean_ ΕΠΙΣΗΜΑΝΣΗ.json | currHeadId :- '22010' | prevHeadingCurrId :- '22009' | prevHeadingFoundId :- '22029'\n",
      "2021-06-19 01:35:35,961 : Heading Extraction gonal-f_clean_ ΕΠΙΣΗΜΑΝΣΗ.json_4 : Match Passed | H | CAP |  el | 2 | gonal-f_clean_ ΕΠΙΣΗΜΑΝΣΗ.json | Doc txt :- '3. ΗΜΕΡΟΜΗΝΙΑ ΛΗΞΗΣ' | Qrd txt :- '3. ΗΜΕΡΟΜΗΝΙΑ ΛΗΞΗΣ' | Matched :- 'True'\n",
      "2021-06-19 01:35:35,980 : Heading Extraction gonal-f_clean_ ΕΠΙΣΗΜΑΝΣΗ.json_4 : Validation Failed As Wrong Heading Found | H | CAP |  el | 2 | gonal-f_clean_ ΕΠΙΣΗΜΑΝΣΗ.json | currHeadId :- '22024' | prevHeadingCurrId :- '' | prevHeadingFoundId :- '22029'\n",
      "2021-06-19 01:35:36,080 : Heading Extraction gonal-f_clean_ ΕΠΙΣΗΜΑΝΣΗ.json_4 : Match Passed | H | CAP |  el | 2 | gonal-f_clean_ ΕΠΙΣΗΜΑΝΣΗ.json | Doc txt :- '3. ΗΜΕΡΟΜΗΝΙΑ ΛΗΞΗΣ' | Qrd txt :- '3. ΗΜΕΡΟΜΗΝΙΑ ΛΗΞΗΣ' | Matched :- 'True'\n",
      "2021-06-19 01:35:36,097 : Heading Extraction gonal-f_clean_ ΕΠΙΣΗΜΑΝΣΗ.json_4 : Validation Passed | H | CAP |  el | 2 | gonal-f_clean_ ΕΠΙΣΗΜΑΝΣΗ.json | currHeadId :- '22030' | prevHeadingCurrId :- '22029' | prevHeadingFoundId :- '22029'\n",
      "2021-06-19 01:35:36,414 : Heading Extraction gonal-f_clean_ ΕΠΙΣΗΜΑΝΣΗ.json_4 : Match Passed : Contains<>|194.74|(49, 95, 86)|0.758| | H | CAP |  el | 2 | gonal-f_clean_ ΕΠΙΣΗΜΑΝΣΗ.json | Doc txt :- '4.       ΑΡΙΘΜΟΣ ΠΑΡΤΙΔΑΣ' | Qrd txt :- '13. ΑΡΙΘΜΟΣ ΠΑΡΤΙΔΑΣ<, ΣΤΟΙΧΕΙΑ ΔΟΤΗ ΚΑΙ ΚΩΔΙΚΟΙ ΠΡΟΪΟΝΤΟΣ>' | Matched :- 'True'\n",
      "2021-06-19 01:35:36,432 : Heading Extraction gonal-f_clean_ ΕΠΙΣΗΜΑΝΣΗ.json_4 : Validation Failed As Previous Heading Found is not matching | H | CAP |  el | 2 | gonal-f_clean_ ΕΠΙΣΗΜΑΝΣΗ.json | currHeadId :- '22015' | prevHeadingCurrId :- '22014' | prevHeadingFoundId :- '22030'\n",
      "2021-06-19 01:35:36,644 : Heading Extraction gonal-f_clean_ ΕΠΙΣΗΜΑΝΣΗ.json_4 : Match Passed : Contains<>|184.21|(52, 100, 90)|0.87| | H | CAP |  el | 2 | gonal-f_clean_ ΕΠΙΣΗΜΑΝΣΗ.json | Doc txt :- '4.       ΑΡΙΘΜΟΣ ΠΑΡΤΙΔΑΣ' | Qrd txt :- '4. ΑΡΙΘΜΟΣ ΠΑΡΤΙΔΑΣ<, ΣΤΟΙΧΕΙΑ ΔΟΤΗ ΚΑΙ ΚΩΔΙΚΟΙ ΠΡΟΪΟΝΤΟΣ>' | Matched :- 'True'\n",
      "2021-06-19 01:35:36,662 : Heading Extraction gonal-f_clean_ ΕΠΙΣΗΜΑΝΣΗ.json_4 : Validation Failed As Wrong Heading Found | H | CAP |  el | 2 | gonal-f_clean_ ΕΠΙΣΗΜΑΝΣΗ.json | currHeadId :- '22025' | prevHeadingCurrId :- '' | prevHeadingFoundId :- '22030'\n",
      "2021-06-19 01:35:36,770 : Heading Extraction gonal-f_clean_ ΕΠΙΣΗΜΑΝΣΗ.json_4 : Match Passed : Contains<>|184.21|(52, 100, 90)|0.87| | H | CAP |  el | 2 | gonal-f_clean_ ΕΠΙΣΗΜΑΝΣΗ.json | Doc txt :- '4.       ΑΡΙΘΜΟΣ ΠΑΡΤΙΔΑΣ' | Qrd txt :- '4. ΑΡΙΘΜΟΣ ΠΑΡΤΙΔΑΣ<, ΣΤΟΙΧΕΙΑ ΔΟΤΗ ΚΑΙ ΚΩΔΙΚΟΙ ΠΡΟΪΟΝΤΟΣ>' | Matched :- 'True'\n",
      "2021-06-19 01:35:36,792 : Heading Extraction gonal-f_clean_ ΕΠΙΣΗΜΑΝΣΗ.json_4 : Validation Passed | H | CAP |  el | 2 | gonal-f_clean_ ΕΠΙΣΗΜΑΝΣΗ.json | currHeadId :- '22031' | prevHeadingCurrId :- '22030' | prevHeadingFoundId :- '22030'\n",
      "2021-06-19 01:35:37,834 : Heading Extraction gonal-f_clean_ ΕΠΙΣΗΜΑΝΣΗ.json_4 : Match Passed : <=7|2.5|(98, 98, 98)|0.995| | H | CAP |  el | 2 | gonal-f_clean_ ΕΠΙΣΗΜΑΝΣΗ.json | Doc txt :- '5.       ΠΕΡΙΕΧΟΜΕΝΟ ΚΑΤΑ ΒΑPΟΣ, ΚΑΤ' ΟΓΚΟ Ή ΚΑΤΑ ΜΟΝΑΔΑ' | Qrd txt :- '5. ΠΕΡΙΕΧΟΜΕΝΟ ΚΑΤΑ ΒΑΡΟΣ, ΚΑΤ' ΟΓΚΟ Ή ΚΑΤΑ ΜΟΝΑΔΑ' | Matched :- 'True'\n",
      "2021-06-19 01:35:37,861 : Heading Extraction gonal-f_clean_ ΕΠΙΣΗΜΑΝΣΗ.json_4 : Validation Passed | H | CAP |  el | 2 | gonal-f_clean_ ΕΠΙΣΗΜΑΝΣΗ.json | currHeadId :- '22032' | prevHeadingCurrId :- '22031' | prevHeadingFoundId :- '22031'\n",
      "2021-06-19 01:35:39,204 : Heading Extraction gonal-f_clean_ ΕΠΙΣΗΜΑΝΣΗ.json_4 : Match Passed : <=4|6.25|(94, 94, 94)|0.975| | H | CAP |  el | 2 | gonal-f_clean_ ΕΠΙΣΗΜΑΝΣΗ.json | Doc txt :- '6.       ΑΛΛΑ ΣΤΟΙΧΕΙΑ' | Qrd txt :- '5. ΑΛΛΑ ΣΤΟΙΧΕΙΑ' | Matched :- 'True'\n",
      "2021-06-19 01:35:39,234 : Heading Extraction gonal-f_clean_ ΕΠΙΣΗΜΑΝΣΗ.json_4 : Validation Failed As Wrong Heading Found | H | CAP |  el | 2 | gonal-f_clean_ ΕΠΙΣΗΜΑΝΣΗ.json | currHeadId :- '22026' | prevHeadingCurrId :- '' | prevHeadingFoundId :- '22032'\n",
      "2021-06-19 01:35:39,384 : Heading Extraction gonal-f_clean_ ΕΠΙΣΗΜΑΝΣΗ.json_4 : Match Passed | H | CAP |  el | 2 | gonal-f_clean_ ΕΠΙΣΗΜΑΝΣΗ.json | Doc txt :- '6. ΑΛΛΑ ΣΤΟΙΧΕΙΑ' | Qrd txt :- '6. ΑΛΛΑ ΣΤΟΙΧΕΙΑ' | Matched :- 'True'\n",
      "2021-06-19 01:35:39,407 : Heading Extraction gonal-f_clean_ ΕΠΙΣΗΜΑΝΣΗ.json_4 : Validation Passed | H | CAP |  el | 2 | gonal-f_clean_ ΕΠΙΣΗΜΑΝΣΗ.json | currHeadId :- '22033' | prevHeadingCurrId :- '22032' | prevHeadingFoundId :- '22032'\n",
      "2021-06-19 01:35:39,532 : Heading Extraction gonal-f_clean_ ΕΠΙΣΗΜΑΝΣΗ.json_4 : Match Passed : Contains<>|76.0|(72, 88, 86)|0.922| | H | CAP |  el | 2 | gonal-f_clean_ ΕΠΙΣΗΜΑΝΣΗ.json | Doc txt :- 'ΕΝΔΕΙΞΕΙΣ ΠΟΥ ΠΡΕΠΕΙ ΝΑ ΑΝΑΓΡΑΦΟΝΤΑΙ ΣΤΗΝ ΕΞΩΤΕΡΙΚΗ ΣΥΣΚΕΥΑΣΙΑ' | Qrd txt :- 'ΕΝΔΕΙΞΕΙΣ ΠΟΥ ΠΡΕΠΕΙ ΝΑ ΑΝΑΓΡΑΦΟΝΤΑΙ <ΣΤΗΝ ΕΞΩΤΕΡΙΚΗ ΣΥΣΚΕΥΑΣΙΑ> <ΚΑΙ> < ΣΤΗ ΣΤΟΙΧΕΙΩΔΗ ΣΥΣΚΕΥΑΣΙΑ>' | Matched :- 'True'\n",
      "2021-06-19 01:35:39,562 : Heading Extraction gonal-f_clean_ ΕΠΙΣΗΜΑΝΣΗ.json_4 : Validation Failed As Wrong Heading Found | H | CAP |  el | 2 | gonal-f_clean_ ΕΠΙΣΗΜΑΝΣΗ.json | currHeadId :- '22002' | prevHeadingCurrId :- '' | prevHeadingFoundId :- '22033'\n",
      "2021-06-19 01:35:40,659 : Heading Extraction gonal-f_clean_ ΕΠΙΣΗΜΑΝΣΗ.json_4 : End Of Sub Section | H | CAP |  el | 2 | gonal-f_clean_ ΕΠΙΣΗΜΑΝΣΗ.json\n",
      "2021-06-19 01:35:40,729 : Heading Extraction gonal-f_clean_ ΕΠΙΣΗΜΑΝΣΗ.json_4 : Match Passed : Contains<>|76.0|(72, 88, 86)|0.922| | H | CAP |  el | 2 | gonal-f_clean_ ΕΠΙΣΗΜΑΝΣΗ.json | Doc txt :- 'ΕΝΔΕΙΞΕΙΣ ΠΟΥ ΠΡΕΠΕΙ ΝΑ ΑΝΑΓΡΑΦΟΝΤΑΙ ΣΤΗΝ ΕΞΩΤΕΡΙΚΗ ΣΥΣΚΕΥΑΣΙΑ' | Qrd txt :- 'ΕΝΔΕΙΞΕΙΣ ΠΟΥ ΠΡΕΠΕΙ ΝΑ ΑΝΑΓΡΑΦΟΝΤΑΙ <ΣΤΗΝ ΕΞΩΤΕΡΙΚΗ ΣΥΣΚΕΥΑΣΙΑ> <ΚΑΙ> < ΣΤΗ ΣΤΟΙΧΕΙΩΔΗ ΣΥΣΚΕΥΑΣΙΑ>' | Matched :- 'True'\n",
      "2021-06-19 01:35:40,745 : Heading Extraction gonal-f_clean_ ΕΠΙΣΗΜΑΝΣΗ.json_4 : Validation Passed As This The First Heading | H | CAP |  el | 2 | gonal-f_clean_ ΕΠΙΣΗΜΑΝΣΗ.json | currHeadId :- '22002' | prevHeadingCurrId :- '' | prevHeadingFoundId :- ''\n"
     ]
    },
    {
     "name": "stdout",
     "output_type": "stream",
     "text": [
      "oooooooooooooooooooooooooooooooooooooooo END OF Sub Section oooooooooooooooooooooooooooooooooooooooooooooooooooooooooooo\n"
     ]
    },
    {
     "name": "stderr",
     "output_type": "stream",
     "text": [
      "2021-06-19 01:35:42,151 : Heading Extraction gonal-f_clean_ ΕΠΙΣΗΜΑΝΣΗ.json_4 : Match Passed | H | CAP |  el | 2 | gonal-f_clean_ ΕΠΙΣΗΜΑΝΣΗ.json | Doc txt :- '1. ΟΝΟΜΑΣΙΑ ΤΟΥ ΦΑΡΜΑΚΕΥΤΙΚΟΥ ΠΡΟΪΟΝΤΟΣ' | Qrd txt :- '1. ΟΝΟΜΑΣΙΑ ΤΟΥ ΦΑΡΜΑΚΕΥΤΙΚΟΥ ΠΡΟΪΟΝΤΟΣ' | Matched :- 'True'\n",
      "2021-06-19 01:35:42,166 : Heading Extraction gonal-f_clean_ ΕΠΙΣΗΜΑΝΣΗ.json_4 : Validation Passed | H | CAP |  el | 2 | gonal-f_clean_ ΕΠΙΣΗΜΑΝΣΗ.json | currHeadId :- '22003' | prevHeadingCurrId :- '22002' | prevHeadingFoundId :- '22002'\n",
      "2021-06-19 01:35:44,080 : Heading Extraction gonal-f_clean_ ΕΠΙΣΗΜΑΝΣΗ.json_4 : Match Passed | H | CAP |  el | 2 | gonal-f_clean_ ΕΠΙΣΗΜΑΝΣΗ.json | Doc txt :- '2. ΣΥΝΘΕΣΗ ΣΕ ΔΡΑΣΤΙΚΗ(ΕΣ) ΟΥΣΙΑ(ΕΣ)' | Qrd txt :- '2. ΣΥΝΘΕΣΗ ΣΕ ΔΡΑΣΤΙΚΗ(ΕΣ) ΟΥΣΙΑ(ΕΣ)' | Matched :- 'True'\n",
      "2021-06-19 01:35:44,099 : Heading Extraction gonal-f_clean_ ΕΠΙΣΗΜΑΝΣΗ.json_4 : Validation Passed | H | CAP |  el | 2 | gonal-f_clean_ ΕΠΙΣΗΜΑΝΣΗ.json | currHeadId :- '22004' | prevHeadingCurrId :- '22003' | prevHeadingFoundId :- '22003'\n",
      "2021-06-19 01:35:46,918 : Heading Extraction gonal-f_clean_ ΕΠΙΣΗΜΑΝΣΗ.json_4 : Match Passed | H | CAP |  el | 2 | gonal-f_clean_ ΕΠΙΣΗΜΑΝΣΗ.json | Doc txt :- '3. ΚΑΤΑΛΟΓΟΣ ΕΚΔΟΧΩΝ' | Qrd txt :- '3. ΚΑΤΑΛΟΓΟΣ ΕΚΔΟΧΩΝ' | Matched :- 'True'\n",
      "2021-06-19 01:35:46,937 : Heading Extraction gonal-f_clean_ ΕΠΙΣΗΜΑΝΣΗ.json_4 : Validation Passed | H | CAP |  el | 2 | gonal-f_clean_ ΕΠΙΣΗΜΑΝΣΗ.json | currHeadId :- '22005' | prevHeadingCurrId :- '22004' | prevHeadingFoundId :- '22004'\n",
      "2021-06-19 01:35:48,833 : Heading Extraction gonal-f_clean_ ΕΠΙΣΗΜΑΝΣΗ.json_4 : Match Passed | H | CAP |  el | 2 | gonal-f_clean_ ΕΠΙΣΗΜΑΝΣΗ.json | Doc txt :- '4. ΦΑΡΜΑΚΟΤΕΧΝΙΚΗ ΜΟΡΦΗ ΚΑΙ ΠΕΡΙΕΧΟΜΕΝΟ' | Qrd txt :- '4. ΦΑΡΜΑΚΟΤΕΧΝΙΚΗ ΜΟΡΦΗ ΚΑΙ ΠΕΡΙΕΧΟΜΕΝΟ' | Matched :- 'True'\n",
      "2021-06-19 01:35:48,854 : Heading Extraction gonal-f_clean_ ΕΠΙΣΗΜΑΝΣΗ.json_4 : Validation Passed | H | CAP |  el | 2 | gonal-f_clean_ ΕΠΙΣΗΜΑΝΣΗ.json | currHeadId :- '22006' | prevHeadingCurrId :- '22005' | prevHeadingFoundId :- '22005'\n",
      "2021-06-19 01:35:51,647 : Heading Extraction gonal-f_clean_ ΕΠΙΣΗΜΑΝΣΗ.json_4 : Match Passed | H | CAP |  el | 2 | gonal-f_clean_ ΕΠΙΣΗΜΑΝΣΗ.json | Doc txt :- '5. ΤΡΟΠΟΣ ΚΑΙ ΟΔΟΣ(ΟΙ) ΧΟΡΗΓΗΣΗΣ' | Qrd txt :- '5. ΤΡΟΠΟΣ ΚΑΙ ΟΔΟΣ(ΟΙ) ΧΟΡΗΓΗΣΗΣ' | Matched :- 'True'\n",
      "2021-06-19 01:35:51,662 : Heading Extraction gonal-f_clean_ ΕΠΙΣΗΜΑΝΣΗ.json_4 : Validation Passed | H | CAP |  el | 2 | gonal-f_clean_ ΕΠΙΣΗΜΑΝΣΗ.json | currHeadId :- '22007' | prevHeadingCurrId :- '22006' | prevHeadingFoundId :- '22006'\n",
      "2021-06-19 01:35:53,334 : Heading Extraction gonal-f_clean_ ΕΠΙΣΗΜΑΝΣΗ.json_4 : Match Passed | H | CAP |  el | 2 | gonal-f_clean_ ΕΠΙΣΗΜΑΝΣΗ.json | Doc txt :- '6. ΕΙΔΙΚΗ ΠΡΟΕΙΔΟΠΟΙΗΣΗ ΣΥΜΦΩΝΑ ΜΕ ΤΗΝ ΟΠΟΙΑ ΤΟ ΦΑΡΜΑΚΕΥΤΙΚΟ ΠΡΟΪΟΝ ΠΡΕΠΕΙ ΝΑ ΦΥΛΑΣΣΕΤΑΙ ΣΕ ΘΕΣΗ ΤΗΝ ΟΠΟΙΑ ΔΕΝ ΒΛΕΠΟΥΝ ΚΑΙ ΔΕΝ ΠΡΟΣΕΓΓΙΖΟΥΝ ΤΑ ΠΑΙΔΙΑ' | Qrd txt :- '6. ΕΙΔΙΚΗ ΠΡΟΕΙΔΟΠΟΙΗΣΗ ΣΥΜΦΩΝΑ ΜΕ ΤΗΝ ΟΠΟΙΑ ΤΟ ΦΑΡΜΑΚΕΥΤΙΚΟ ΠΡΟΪΟΝ ΠΡΕΠΕΙ ΝΑ ΦΥΛΑΣΣΕΤΑΙ ΣΕ ΘΕΣΗ ΤΗΝ ΟΠΟΙΑ ΔΕΝ ΒΛΕΠΟΥΝ ΚΑΙ ΔΕΝ ΠΡΟΣΕΓΓΙΖΟΥΝ ΤΑ ΠΑΙΔΙΑ' | Matched :- 'True'\n",
      "2021-06-19 01:35:53,353 : Heading Extraction gonal-f_clean_ ΕΠΙΣΗΜΑΝΣΗ.json_4 : Validation Passed | H | CAP |  el | 2 | gonal-f_clean_ ΕΠΙΣΗΜΑΝΣΗ.json | currHeadId :- '22008' | prevHeadingCurrId :- '22007' | prevHeadingFoundId :- '22007'\n",
      "2021-06-19 01:35:54,607 : Heading Extraction gonal-f_clean_ ΕΠΙΣΗΜΑΝΣΗ.json_4 : Match Passed | H | CAP |  el | 2 | gonal-f_clean_ ΕΠΙΣΗΜΑΝΣΗ.json | Doc txt :- '7. ΑΛΛΗ(ΕΣ) ΕΙΔΙΚΗ(ΕΣ) ΠΡΟΕΙΔΟΠΟΙΗΣΗ(ΕΙΣ), ΕΑΝ ΕΙΝΑΙ ΑΠΑΡΑΙΤΗΤΗ(ΕΣ)' | Qrd txt :- '7. ΑΛΛΗ(ΕΣ) ΕΙΔΙΚΗ(ΕΣ) ΠΡΟΕΙΔΟΠΟΙΗΣΗ(ΕΙΣ), ΕΑΝ ΕΙΝΑΙ ΑΠΑΡΑΙΤΗΤΗ(ΕΣ)' | Matched :- 'True'\n",
      "2021-06-19 01:35:54,629 : Heading Extraction gonal-f_clean_ ΕΠΙΣΗΜΑΝΣΗ.json_4 : Validation Passed | H | CAP |  el | 2 | gonal-f_clean_ ΕΠΙΣΗΜΑΝΣΗ.json | currHeadId :- '22009' | prevHeadingCurrId :- '22008' | prevHeadingFoundId :- '22008'\n",
      "2021-06-19 01:35:54,852 : Heading Extraction gonal-f_clean_ ΕΠΙΣΗΜΑΝΣΗ.json_4 : Match Passed | H | CAP |  el | 2 | gonal-f_clean_ ΕΠΙΣΗΜΑΝΣΗ.json | Doc txt :- '8. ΗΜΕΡΟΜΗΝΙΑ ΛΗΞΗΣ' | Qrd txt :- '8. ΗΜΕΡΟΜΗΝΙΑ ΛΗΞΗΣ' | Matched :- 'True'\n",
      "2021-06-19 01:35:54,868 : Heading Extraction gonal-f_clean_ ΕΠΙΣΗΜΑΝΣΗ.json_4 : Validation Passed | H | CAP |  el | 2 | gonal-f_clean_ ΕΠΙΣΗΜΑΝΣΗ.json | currHeadId :- '22010' | prevHeadingCurrId :- '22009' | prevHeadingFoundId :- '22009'\n",
      "2021-06-19 01:35:55,115 : Heading Extraction gonal-f_clean_ ΕΠΙΣΗΜΑΝΣΗ.json_4 : Match Passed | H | CAP |  el | 2 | gonal-f_clean_ ΕΠΙΣΗΜΑΝΣΗ.json | Doc txt :- '9. ΕΙΔΙΚΕΣ ΣΥΝΘΗΚΕΣ ΦΥΛΑΞΗΣ' | Qrd txt :- '9. ΕΙΔΙΚΕΣ ΣΥΝΘΗΚΕΣ ΦΥΛΑΞΗΣ' | Matched :- 'True'\n",
      "2021-06-19 01:35:55,131 : Heading Extraction gonal-f_clean_ ΕΠΙΣΗΜΑΝΣΗ.json_4 : Validation Passed | H | CAP |  el | 2 | gonal-f_clean_ ΕΠΙΣΗΜΑΝΣΗ.json | currHeadId :- '22011' | prevHeadingCurrId :- '22010' | prevHeadingFoundId :- '22010'\n",
      "2021-06-19 01:35:59,444 : Heading Extraction gonal-f_clean_ ΕΠΙΣΗΜΑΝΣΗ.json_4 : Match Passed | H | CAP |  el | 2 | gonal-f_clean_ ΕΠΙΣΗΜΑΝΣΗ.json | Doc txt :- '10. ΙΔΙΑΙΤΕΡΕΣ ΠΡΟΦΥΛΑΞΕΙΣ ΓΙΑ ΤΗΝ ΑΠΟΡΡΙΨΗ ΤΩΝ ΜΗ ΧΡΗΣΙΜΟΠΟΙΗΘΕΝΤΩΝ ΦΑΡΜΑΚΕΥΤΙΚΩΝ ΠΡΟΪΟΝΤΩΝ Ή ΤΩΝ ΥΠΟΛΕΙΜΜΑΤΩΝ ΠΟΥ ΠΡΟΕΡΧΟΝΤΑΙ ΑΠΟ ΑΥΤΑ, ΕΦΟΣΟΝ ΑΠΑΙΤΕΙΤΑΙ' | Qrd txt :- '10. ΙΔΙΑΙΤΕΡΕΣ ΠΡΟΦΥΛΑΞΕΙΣ ΓΙΑ ΤΗΝ ΑΠΟΡΡΙΨΗ ΤΩΝ ΜΗ ΧΡΗΣΙΜΟΠΟΙΗΘΕΝΤΩΝ ΦΑΡΜΑΚΕΥΤΙΚΩΝ ΠΡΟΪΟΝΤΩΝ Ή ΤΩΝ ΥΠΟΛΕΙΜΜΑΤΩΝ ΠΟΥ ΠΡΟΕΡΧΟΝΤΑΙ ΑΠΟ ΑΥΤΑ, ΕΦΟΣΟΝ ΑΠΑΙΤΕΙΤΑΙ' | Matched :- 'True'\n",
      "2021-06-19 01:35:59,462 : Heading Extraction gonal-f_clean_ ΕΠΙΣΗΜΑΝΣΗ.json_4 : Validation Passed | H | CAP |  el | 2 | gonal-f_clean_ ΕΠΙΣΗΜΑΝΣΗ.json | currHeadId :- '22012' | prevHeadingCurrId :- '22011' | prevHeadingFoundId :- '22011'\n",
      "2021-06-19 01:36:01,150 : Heading Extraction gonal-f_clean_ ΕΠΙΣΗΜΑΝΣΗ.json_4 : Match Passed | H | CAP |  el | 2 | gonal-f_clean_ ΕΠΙΣΗΜΑΝΣΗ.json | Doc txt :- '11. ΟΝΟΜΑ ΚΑΙ ΔΙΕΥΘΥΝΣΗ ΚΑΤΟΧΟΥ ΤΗΣ ΑΔΕΙΑΣ ΚΥΚΛΟΦΟΡΙΑΣ' | Qrd txt :- '11. ΟΝΟΜΑ ΚΑΙ ΔΙΕΥΘΥΝΣΗ ΚΑΤΟΧΟΥ ΤΗΣ ΑΔΕΙΑΣ ΚΥΚΛΟΦΟΡΙΑΣ' | Matched :- 'True'\n",
      "2021-06-19 01:36:01,167 : Heading Extraction gonal-f_clean_ ΕΠΙΣΗΜΑΝΣΗ.json_4 : Validation Passed | H | CAP |  el | 2 | gonal-f_clean_ ΕΠΙΣΗΜΑΝΣΗ.json | currHeadId :- '22013' | prevHeadingCurrId :- '22012' | prevHeadingFoundId :- '22012'\n",
      "2021-06-19 01:36:03,047 : Heading Extraction gonal-f_clean_ ΕΠΙΣΗΜΑΝΣΗ.json_4 : Match Passed | H | CAP |  el | 2 | gonal-f_clean_ ΕΠΙΣΗΜΑΝΣΗ.json | Doc txt :- '12. ΑΡΙΘΜΟΣ(ΟΙ) ΑΔΕΙΑΣ ΚΥΚΛΟΦΟΡΙΑΣ' | Qrd txt :- '12. ΑΡΙΘΜΟΣ(ΟΙ) ΑΔΕΙΑΣ ΚΥΚΛΟΦΟΡΙΑΣ' | Matched :- 'True'\n",
      "2021-06-19 01:36:03,064 : Heading Extraction gonal-f_clean_ ΕΠΙΣΗΜΑΝΣΗ.json_4 : Validation Passed | H | CAP |  el | 2 | gonal-f_clean_ ΕΠΙΣΗΜΑΝΣΗ.json | currHeadId :- '22014' | prevHeadingCurrId :- '22013' | prevHeadingFoundId :- '22013'\n",
      "2021-06-19 01:36:04,512 : Heading Extraction gonal-f_clean_ ΕΠΙΣΗΜΑΝΣΗ.json_4 : Match Passed : Contains<>|175.0|(53, 100, 90)|0.873| | H | CAP |  el | 2 | gonal-f_clean_ ΕΠΙΣΗΜΑΝΣΗ.json | Doc txt :- '13.     ΑΡΙΘΜΟΣ ΠΑΡΤΙΔΑΣ' | Qrd txt :- '13. ΑΡΙΘΜΟΣ ΠΑΡΤΙΔΑΣ<, ΣΤΟΙΧΕΙΑ ΔΟΤΗ ΚΑΙ ΚΩΔΙΚΟΙ ΠΡΟΪΟΝΤΟΣ>' | Matched :- 'True'\n",
      "2021-06-19 01:36:04,535 : Heading Extraction gonal-f_clean_ ΕΠΙΣΗΜΑΝΣΗ.json_4 : Validation Passed | H | CAP |  el | 2 | gonal-f_clean_ ΕΠΙΣΗΜΑΝΣΗ.json | currHeadId :- '22015' | prevHeadingCurrId :- '22014' | prevHeadingFoundId :- '22014'\n",
      "2021-06-19 01:36:05,530 : Heading Extraction gonal-f_clean_ ΕΠΙΣΗΜΑΝΣΗ.json_4 : Match Passed | H | CAP |  el | 2 | gonal-f_clean_ ΕΠΙΣΗΜΑΝΣΗ.json | Doc txt :- '14. ΓΕΝΙΚΗ ΚΑΤΑΤΑΞΗ ΓΙΑ ΤΗ ΔΙΑΘΕΣΗ' | Qrd txt :- '14. ΓΕΝΙΚΗ ΚΑΤΑΤΑΞΗ ΓΙΑ ΤΗ ΔΙΑΘΕΣΗ' | Matched :- 'True'\n",
      "2021-06-19 01:36:05,561 : Heading Extraction gonal-f_clean_ ΕΠΙΣΗΜΑΝΣΗ.json_4 : Validation Passed | H | CAP |  el | 2 | gonal-f_clean_ ΕΠΙΣΗΜΑΝΣΗ.json | currHeadId :- '22016' | prevHeadingCurrId :- '22015' | prevHeadingFoundId :- '22015'\n",
      "2021-06-19 01:36:06,048 : Heading Extraction gonal-f_clean_ ΕΠΙΣΗΜΑΝΣΗ.json_4 : Match Passed | H | CAP |  el | 2 | gonal-f_clean_ ΕΠΙΣΗΜΑΝΣΗ.json | Doc txt :- '15. ΟΔΗΓΙΕΣ ΧΡΗΣΗΣ' | Qrd txt :- '15. ΟΔΗΓΙΕΣ ΧΡΗΣΗΣ' | Matched :- 'True'\n",
      "2021-06-19 01:36:06,069 : Heading Extraction gonal-f_clean_ ΕΠΙΣΗΜΑΝΣΗ.json_4 : Validation Passed | H | CAP |  el | 2 | gonal-f_clean_ ΕΠΙΣΗΜΑΝΣΗ.json | currHeadId :- '22017' | prevHeadingCurrId :- '22016' | prevHeadingFoundId :- '22016'\n",
      "2021-06-19 01:36:06,659 : Heading Extraction gonal-f_clean_ ΕΠΙΣΗΜΑΝΣΗ.json_4 : Match Passed | H | CAP |  el | 2 | gonal-f_clean_ ΕΠΙΣΗΜΑΝΣΗ.json | Doc txt :- '16. ΠΛΗΡΟΦΟΡΙΕΣ ΣΕ BRAILLE' | Qrd txt :- '16. ΠΛΗΡΟΦΟΡΙΕΣ ΣΕ BRAILLE' | Matched :- 'True'\n"
     ]
    },
    {
     "name": "stderr",
     "output_type": "stream",
     "text": [
      "2021-06-19 01:36:06,685 : Heading Extraction gonal-f_clean_ ΕΠΙΣΗΜΑΝΣΗ.json_4 : Validation Passed | H | CAP |  el | 2 | gonal-f_clean_ ΕΠΙΣΗΜΑΝΣΗ.json | currHeadId :- '22018' | prevHeadingCurrId :- '22017' | prevHeadingFoundId :- '22017'\n",
      "2021-06-19 01:36:08,637 : Heading Extraction gonal-f_clean_ ΕΠΙΣΗΜΑΝΣΗ.json_4 : Match Passed | H | CAP |  el | 2 | gonal-f_clean_ ΕΠΙΣΗΜΑΝΣΗ.json | Doc txt :- '17. ΜΟΝΑΔΙΚΟΣ ΑΝΑΓΝΩΡΙΣΤΙΚΟΣ ΚΩΔΙΚΟΣ – ΔΙΣΔΙΑΣΤΑΤΟΣ ΓΡΑΜΜΩΤΟΣ ΚΩΔΙΚΑΣ (2D)' | Qrd txt :- '17. ΜΟΝΑΔΙΚΟΣ ΑΝΑΓΝΩΡΙΣΤΙΚΟΣ ΚΩΔΙΚΟΣ – ΔΙΣΔΙΑΣΤΑΤΟΣ ΓΡΑΜΜΩΤΟΣ ΚΩΔΙΚΑΣ (2D)' | Matched :- 'True'\n",
      "2021-06-19 01:36:08,661 : Heading Extraction gonal-f_clean_ ΕΠΙΣΗΜΑΝΣΗ.json_4 : Validation Passed | H | CAP |  el | 2 | gonal-f_clean_ ΕΠΙΣΗΜΑΝΣΗ.json | currHeadId :- '22019' | prevHeadingCurrId :- '22018' | prevHeadingFoundId :- '22018'\n",
      "2021-06-19 01:36:10,954 : Heading Extraction gonal-f_clean_ ΕΠΙΣΗΜΑΝΣΗ.json_4 : Match Passed | H | CAP |  el | 2 | gonal-f_clean_ ΕΠΙΣΗΜΑΝΣΗ.json | Doc txt :- '18. ΜΟΝΑΔΙΚΟΣ ΑΝΑΓΝΩΡΙΣΤΙΚΟΣ ΚΩΔΙΚΟΣ – ΔΕΔΟΜΕΝΑ ΑΝΑΓΝΩΣΙΜΑ ΑΠΟ ΤΟΝ ΑΝΘΡΩΠΟ' | Qrd txt :- '18. ΜΟΝΑΔΙΚΟΣ ΑΝΑΓΝΩΡΙΣΤΙΚΟΣ ΚΩΔΙΚΟΣ – ΔΕΔΟΜΕΝΑ ΑΝΑΓΝΩΣΙΜΑ ΑΠΟ ΤΟΝ ΑΝΘΡΩΠΟ' | Matched :- 'True'\n",
      "2021-06-19 01:36:10,973 : Heading Extraction gonal-f_clean_ ΕΠΙΣΗΜΑΝΣΗ.json_4 : Validation Passed | H | CAP |  el | 2 | gonal-f_clean_ ΕΠΙΣΗΜΑΝΣΗ.json | currHeadId :- '22020' | prevHeadingCurrId :- '22019' | prevHeadingFoundId :- '22019'\n",
      "2021-06-19 01:36:15,516 : Heading Extraction gonal-f_clean_ ΕΠΙΣΗΜΑΝΣΗ.json_4 : Match Passed | H | CAP |  el | 2 | gonal-f_clean_ ΕΠΙΣΗΜΑΝΣΗ.json | Doc txt :- 'ΕΛΑΧΙΣΤΕΣ ΕΝΔΕΙΞΕΙΣ ΠΟΥ ΠΡΕΠΕΙ ΝΑ ΑΝΑΓΡΑΦΟΝΤΑΙ ΣΤΙΣ ΜΙΚΡΕΣ ΣΤΟΙΧΕΙΩΔΕΙΣ ΣΥΣΚΕΥΑΣΙΕΣ' | Qrd txt :- 'ΕΛΑΧΙΣΤΕΣ ΕΝΔΕΙΞΕΙΣ ΠΟΥ ΠΡΕΠΕΙ ΝΑ ΑΝΑΓΡΑΦΟΝΤΑΙ ΣΤΙΣ ΜΙΚΡΕΣ ΣΤΟΙΧΕΙΩΔΕΙΣ ΣΥΣΚΕΥΑΣΙΕΣ' | Matched :- 'True'\n",
      "2021-06-19 01:36:15,540 : Heading Extraction gonal-f_clean_ ΕΠΙΣΗΜΑΝΣΗ.json_4 : Validation Flow Is Broken | H | CAP |  el | 2 | gonal-f_clean_ ΕΠΙΣΗΜΑΝΣΗ.json | currHeadId :- '22027' | prevHeadingCurrId :- '' | prevHeadingFoundId :- '22020'\n",
      "2021-06-19 01:36:15,550 : Heading Extraction gonal-f_clean_ ΕΠΙΣΗΜΑΝΣΗ.json_4 : Validation Passed | H | CAP |  el | 2 | gonal-f_clean_ ΕΠΙΣΗΜΑΝΣΗ.json | currHeadId :- '22027' | prevHeadingCurrId :- '22020' | prevHeadingFoundId :- '22020'\n",
      "2021-06-19 01:36:18,386 : Heading Extraction gonal-f_clean_ ΕΠΙΣΗΜΑΝΣΗ.json_4 : Match Passed | H | CAP |  el | 2 | gonal-f_clean_ ΕΠΙΣΗΜΑΝΣΗ.json | Doc txt :- '1. ΟΝΟΜΑΣΙΑ ΤΟΥ ΦΑΡΜΑΚΕΥΤΙΚΟΥ ΠΡΟΪΟΝΤΟΣ ΚΑΙ ΟΔΟΣ(ΟΙ) ΧΟΡΗΓΗΣΗΣ' | Qrd txt :- '1. ΟΝΟΜΑΣΙΑ ΤΟΥ ΦΑΡΜΑΚΕΥΤΙΚΟΥ ΠΡΟΪΟΝΤΟΣ ΚΑΙ ΟΔΟΣ(ΟΙ) ΧΟΡΗΓΗΣΗΣ' | Matched :- 'True'\n",
      "2021-06-19 01:36:18,412 : Heading Extraction gonal-f_clean_ ΕΠΙΣΗΜΑΝΣΗ.json_4 : Validation Passed | H | CAP |  el | 2 | gonal-f_clean_ ΕΠΙΣΗΜΑΝΣΗ.json | currHeadId :- '22028' | prevHeadingCurrId :- '22027' | prevHeadingFoundId :- '22027'\n",
      "2021-06-19 01:36:22,070 : Heading Extraction gonal-f_clean_ ΕΠΙΣΗΜΑΝΣΗ.json_4 : Match Passed | H | CAP |  el | 2 | gonal-f_clean_ ΕΠΙΣΗΜΑΝΣΗ.json | Doc txt :- '2. ΤΡΟΠΟΣ ΧΟΡΗΓΗΣΗΣ' | Qrd txt :- '2. ΤΡΟΠΟΣ ΧΟΡΗΓΗΣΗΣ' | Matched :- 'True'\n",
      "2021-06-19 01:36:22,091 : Heading Extraction gonal-f_clean_ ΕΠΙΣΗΜΑΝΣΗ.json_4 : Validation Passed | H | CAP |  el | 2 | gonal-f_clean_ ΕΠΙΣΗΜΑΝΣΗ.json | currHeadId :- '22029' | prevHeadingCurrId :- '22028' | prevHeadingFoundId :- '22028'\n",
      "2021-06-19 01:36:22,369 : Heading Extraction gonal-f_clean_ ΕΠΙΣΗΜΑΝΣΗ.json_4 : Match Passed : <=4|5.26|(95, 95, 95)|0.98| | H | CAP |  el | 2 | gonal-f_clean_ ΕΠΙΣΗΜΑΝΣΗ.json | Doc txt :- '3.       ΗΜΕΡΟΜΗΝΙΑ ΛΗΞΗΣ' | Qrd txt :- '8. ΗΜΕΡΟΜΗΝΙΑ ΛΗΞΗΣ' | Matched :- 'True'\n",
      "2021-06-19 01:36:22,389 : Heading Extraction gonal-f_clean_ ΕΠΙΣΗΜΑΝΣΗ.json_4 : Validation Failed As Previous Heading Found is not matching | H | CAP |  el | 2 | gonal-f_clean_ ΕΠΙΣΗΜΑΝΣΗ.json | currHeadId :- '22010' | prevHeadingCurrId :- '22009' | prevHeadingFoundId :- '22029'\n",
      "2021-06-19 01:36:22,814 : Heading Extraction gonal-f_clean_ ΕΠΙΣΗΜΑΝΣΗ.json_4 : Match Passed | H | CAP |  el | 2 | gonal-f_clean_ ΕΠΙΣΗΜΑΝΣΗ.json | Doc txt :- '3. ΗΜΕΡΟΜΗΝΙΑ ΛΗΞΗΣ' | Qrd txt :- '3. ΗΜΕΡΟΜΗΝΙΑ ΛΗΞΗΣ' | Matched :- 'True'\n",
      "2021-06-19 01:36:22,844 : Heading Extraction gonal-f_clean_ ΕΠΙΣΗΜΑΝΣΗ.json_4 : Validation Failed As Wrong Heading Found | H | CAP |  el | 2 | gonal-f_clean_ ΕΠΙΣΗΜΑΝΣΗ.json | currHeadId :- '22024' | prevHeadingCurrId :- '' | prevHeadingFoundId :- '22029'\n",
      "2021-06-19 01:36:22,979 : Heading Extraction gonal-f_clean_ ΕΠΙΣΗΜΑΝΣΗ.json_4 : Match Passed | H | CAP |  el | 2 | gonal-f_clean_ ΕΠΙΣΗΜΑΝΣΗ.json | Doc txt :- '3. ΗΜΕΡΟΜΗΝΙΑ ΛΗΞΗΣ' | Qrd txt :- '3. ΗΜΕΡΟΜΗΝΙΑ ΛΗΞΗΣ' | Matched :- 'True'\n",
      "2021-06-19 01:36:23,001 : Heading Extraction gonal-f_clean_ ΕΠΙΣΗΜΑΝΣΗ.json_4 : Validation Passed | H | CAP |  el | 2 | gonal-f_clean_ ΕΠΙΣΗΜΑΝΣΗ.json | currHeadId :- '22030' | prevHeadingCurrId :- '22029' | prevHeadingFoundId :- '22029'\n",
      "2021-06-19 01:36:24,286 : Heading Extraction gonal-f_clean_ ΕΠΙΣΗΜΑΝΣΗ.json_4 : Match Passed : Contains<>|194.74|(49, 95, 86)|0.758| | H | CAP |  el | 2 | gonal-f_clean_ ΕΠΙΣΗΜΑΝΣΗ.json | Doc txt :- '4.       ΑΡΙΘΜΟΣ ΠΑΡΤΙΔΑΣ' | Qrd txt :- '13. ΑΡΙΘΜΟΣ ΠΑΡΤΙΔΑΣ<, ΣΤΟΙΧΕΙΑ ΔΟΤΗ ΚΑΙ ΚΩΔΙΚΟΙ ΠΡΟΪΟΝΤΟΣ>' | Matched :- 'True'\n",
      "2021-06-19 01:36:24,311 : Heading Extraction gonal-f_clean_ ΕΠΙΣΗΜΑΝΣΗ.json_4 : Validation Failed As Previous Heading Found is not matching | H | CAP |  el | 2 | gonal-f_clean_ ΕΠΙΣΗΜΑΝΣΗ.json | currHeadId :- '22015' | prevHeadingCurrId :- '22014' | prevHeadingFoundId :- '22030'\n",
      "2021-06-19 01:36:24,561 : Heading Extraction gonal-f_clean_ ΕΠΙΣΗΜΑΝΣΗ.json_4 : Match Passed : Contains<>|184.21|(52, 100, 90)|0.87| | H | CAP |  el | 2 | gonal-f_clean_ ΕΠΙΣΗΜΑΝΣΗ.json | Doc txt :- '4.       ΑΡΙΘΜΟΣ ΠΑΡΤΙΔΑΣ' | Qrd txt :- '4. ΑΡΙΘΜΟΣ ΠΑΡΤΙΔΑΣ<, ΣΤΟΙΧΕΙΑ ΔΟΤΗ ΚΑΙ ΚΩΔΙΚΟΙ ΠΡΟΪΟΝΤΟΣ>' | Matched :- 'True'\n",
      "2021-06-19 01:36:24,581 : Heading Extraction gonal-f_clean_ ΕΠΙΣΗΜΑΝΣΗ.json_4 : Validation Failed As Wrong Heading Found | H | CAP |  el | 2 | gonal-f_clean_ ΕΠΙΣΗΜΑΝΣΗ.json | currHeadId :- '22025' | prevHeadingCurrId :- '' | prevHeadingFoundId :- '22030'\n",
      "2021-06-19 01:36:24,709 : Heading Extraction gonal-f_clean_ ΕΠΙΣΗΜΑΝΣΗ.json_4 : Match Passed : Contains<>|184.21|(52, 100, 90)|0.87| | H | CAP |  el | 2 | gonal-f_clean_ ΕΠΙΣΗΜΑΝΣΗ.json | Doc txt :- '4.       ΑΡΙΘΜΟΣ ΠΑΡΤΙΔΑΣ' | Qrd txt :- '4. ΑΡΙΘΜΟΣ ΠΑΡΤΙΔΑΣ<, ΣΤΟΙΧΕΙΑ ΔΟΤΗ ΚΑΙ ΚΩΔΙΚΟΙ ΠΡΟΪΟΝΤΟΣ>' | Matched :- 'True'\n",
      "2021-06-19 01:36:24,737 : Heading Extraction gonal-f_clean_ ΕΠΙΣΗΜΑΝΣΗ.json_4 : Validation Passed | H | CAP |  el | 2 | gonal-f_clean_ ΕΠΙΣΗΜΑΝΣΗ.json | currHeadId :- '22031' | prevHeadingCurrId :- '22030' | prevHeadingFoundId :- '22030'\n",
      "2021-06-19 01:36:25,793 : Heading Extraction gonal-f_clean_ ΕΠΙΣΗΜΑΝΣΗ.json_4 : Match Passed | H | CAP |  el | 2 | gonal-f_clean_ ΕΠΙΣΗΜΑΝΣΗ.json | Doc txt :- '5. ΠΕΡΙΕΧΟΜΕΝΟ ΚΑΤΑ ΒΑΡΟΣ, ΚΑΤ' ΟΓΚΟ Ή ΚΑΤΑ ΜΟΝΑΔΑ' | Qrd txt :- '5. ΠΕΡΙΕΧΟΜΕΝΟ ΚΑΤΑ ΒΑΡΟΣ, ΚΑΤ' ΟΓΚΟ Ή ΚΑΤΑ ΜΟΝΑΔΑ' | Matched :- 'True'\n",
      "2021-06-19 01:36:25,811 : Heading Extraction gonal-f_clean_ ΕΠΙΣΗΜΑΝΣΗ.json_4 : Validation Passed | H | CAP |  el | 2 | gonal-f_clean_ ΕΠΙΣΗΜΑΝΣΗ.json | currHeadId :- '22032' | prevHeadingCurrId :- '22031' | prevHeadingFoundId :- '22031'\n",
      "2021-06-19 01:36:26,695 : Heading Extraction gonal-f_clean_ ΕΠΙΣΗΜΑΝΣΗ.json_4 : Match Passed : <=4|6.25|(94, 94, 94)|0.975| | H | CAP |  el | 2 | gonal-f_clean_ ΕΠΙΣΗΜΑΝΣΗ.json | Doc txt :- '6.       ΑΛΛΑ ΣΤΟΙΧΕΙΑ' | Qrd txt :- '5. ΑΛΛΑ ΣΤΟΙΧΕΙΑ' | Matched :- 'True'\n",
      "2021-06-19 01:36:26,713 : Heading Extraction gonal-f_clean_ ΕΠΙΣΗΜΑΝΣΗ.json_4 : Validation Failed As Wrong Heading Found | H | CAP |  el | 2 | gonal-f_clean_ ΕΠΙΣΗΜΑΝΣΗ.json | currHeadId :- '22026' | prevHeadingCurrId :- '' | prevHeadingFoundId :- '22032'\n",
      "2021-06-19 01:36:26,833 : Heading Extraction gonal-f_clean_ ΕΠΙΣΗΜΑΝΣΗ.json_4 : Match Passed | H | CAP |  el | 2 | gonal-f_clean_ ΕΠΙΣΗΜΑΝΣΗ.json | Doc txt :- '6. ΑΛΛΑ ΣΤΟΙΧΕΙΑ' | Qrd txt :- '6. ΑΛΛΑ ΣΤΟΙΧΕΙΑ' | Matched :- 'True'\n",
      "2021-06-19 01:36:26,850 : Heading Extraction gonal-f_clean_ ΕΠΙΣΗΜΑΝΣΗ.json_4 : Validation Passed | H | CAP |  el | 2 | gonal-f_clean_ ΕΠΙΣΗΜΑΝΣΗ.json | currHeadId :- '22033' | prevHeadingCurrId :- '22032' | prevHeadingFoundId :- '22032'\n",
      "2021-06-19 01:36:26,907 : Heading Extraction gonal-f_clean_ ΕΠΙΣΗΜΑΝΣΗ.json_4 : Match Passed : Contains<>|76.0|(72, 88, 86)|0.922| | H | CAP |  el | 2 | gonal-f_clean_ ΕΠΙΣΗΜΑΝΣΗ.json | Doc txt :- 'ΕΝΔΕΙΞΕΙΣ ΠΟΥ ΠΡΕΠΕΙ ΝΑ ΑΝΑΓΡΑΦΟΝΤΑΙ ΣΤΗΝ ΕΞΩΤΕΡΙΚΗ ΣΥΣΚΕΥΑΣΙΑ' | Qrd txt :- 'ΕΝΔΕΙΞΕΙΣ ΠΟΥ ΠΡΕΠΕΙ ΝΑ ΑΝΑΓΡΑΦΟΝΤΑΙ <ΣΤΗΝ ΕΞΩΤΕΡΙΚΗ ΣΥΣΚΕΥΑΣΙΑ> <ΚΑΙ> < ΣΤΗ ΣΤΟΙΧΕΙΩΔΗ ΣΥΣΚΕΥΑΣΙΑ>' | Matched :- 'True'\n"
     ]
    },
    {
     "name": "stderr",
     "output_type": "stream",
     "text": [
      "2021-06-19 01:36:26,928 : Heading Extraction gonal-f_clean_ ΕΠΙΣΗΜΑΝΣΗ.json_4 : Validation Failed As Wrong Heading Found | H | CAP |  el | 2 | gonal-f_clean_ ΕΠΙΣΗΜΑΝΣΗ.json | currHeadId :- '22002' | prevHeadingCurrId :- '' | prevHeadingFoundId :- '22033'\n",
      "2021-06-19 01:36:27,844 : Heading Extraction gonal-f_clean_ ΕΠΙΣΗΜΑΝΣΗ.json_4 : End Of Sub Section | H | CAP |  el | 2 | gonal-f_clean_ ΕΠΙΣΗΜΑΝΣΗ.json\n",
      "2021-06-19 01:36:27,901 : Heading Extraction gonal-f_clean_ ΕΠΙΣΗΜΑΝΣΗ.json_4 : Match Passed : Contains<>|76.0|(72, 88, 86)|0.922| | H | CAP |  el | 2 | gonal-f_clean_ ΕΠΙΣΗΜΑΝΣΗ.json | Doc txt :- 'ΕΝΔΕΙΞΕΙΣ ΠΟΥ ΠΡΕΠΕΙ ΝΑ ΑΝΑΓΡΑΦΟΝΤΑΙ ΣΤΗΝ ΕΞΩΤΕΡΙΚΗ ΣΥΣΚΕΥΑΣΙΑ' | Qrd txt :- 'ΕΝΔΕΙΞΕΙΣ ΠΟΥ ΠΡΕΠΕΙ ΝΑ ΑΝΑΓΡΑΦΟΝΤΑΙ <ΣΤΗΝ ΕΞΩΤΕΡΙΚΗ ΣΥΣΚΕΥΑΣΙΑ> <ΚΑΙ> < ΣΤΗ ΣΤΟΙΧΕΙΩΔΗ ΣΥΣΚΕΥΑΣΙΑ>' | Matched :- 'True'\n",
      "2021-06-19 01:36:27,916 : Heading Extraction gonal-f_clean_ ΕΠΙΣΗΜΑΝΣΗ.json_4 : Validation Passed As This The First Heading | H | CAP |  el | 2 | gonal-f_clean_ ΕΠΙΣΗΜΑΝΣΗ.json | currHeadId :- '22002' | prevHeadingCurrId :- '' | prevHeadingFoundId :- ''\n"
     ]
    },
    {
     "name": "stdout",
     "output_type": "stream",
     "text": [
      "oooooooooooooooooooooooooooooooooooooooo END OF Sub Section oooooooooooooooooooooooooooooooooooooooooooooooooooooooooooo\n"
     ]
    },
    {
     "name": "stderr",
     "output_type": "stream",
     "text": [
      "2021-06-19 01:36:29,406 : Heading Extraction gonal-f_clean_ ΕΠΙΣΗΜΑΝΣΗ.json_4 : Match Passed | H | CAP |  el | 2 | gonal-f_clean_ ΕΠΙΣΗΜΑΝΣΗ.json | Doc txt :- '1. ΟΝΟΜΑΣΙΑ ΤΟΥ ΦΑΡΜΑΚΕΥΤΙΚΟΥ ΠΡΟΪΟΝΤΟΣ' | Qrd txt :- '1. ΟΝΟΜΑΣΙΑ ΤΟΥ ΦΑΡΜΑΚΕΥΤΙΚΟΥ ΠΡΟΪΟΝΤΟΣ' | Matched :- 'True'\n",
      "2021-06-19 01:36:29,422 : Heading Extraction gonal-f_clean_ ΕΠΙΣΗΜΑΝΣΗ.json_4 : Validation Passed | H | CAP |  el | 2 | gonal-f_clean_ ΕΠΙΣΗΜΑΝΣΗ.json | currHeadId :- '22003' | prevHeadingCurrId :- '22002' | prevHeadingFoundId :- '22002'\n",
      "2021-06-19 01:36:31,351 : Heading Extraction gonal-f_clean_ ΕΠΙΣΗΜΑΝΣΗ.json_4 : Match Passed | H | CAP |  el | 2 | gonal-f_clean_ ΕΠΙΣΗΜΑΝΣΗ.json | Doc txt :- '2. ΣΥΝΘΕΣΗ ΣΕ ΔΡΑΣΤΙΚΗ(ΕΣ) ΟΥΣΙΑ(ΕΣ)' | Qrd txt :- '2. ΣΥΝΘΕΣΗ ΣΕ ΔΡΑΣΤΙΚΗ(ΕΣ) ΟΥΣΙΑ(ΕΣ)' | Matched :- 'True'\n",
      "2021-06-19 01:36:31,365 : Heading Extraction gonal-f_clean_ ΕΠΙΣΗΜΑΝΣΗ.json_4 : Validation Passed | H | CAP |  el | 2 | gonal-f_clean_ ΕΠΙΣΗΜΑΝΣΗ.json | currHeadId :- '22004' | prevHeadingCurrId :- '22003' | prevHeadingFoundId :- '22003'\n",
      "2021-06-19 01:36:33,779 : Heading Extraction gonal-f_clean_ ΕΠΙΣΗΜΑΝΣΗ.json_4 : Match Passed | H | CAP |  el | 2 | gonal-f_clean_ ΕΠΙΣΗΜΑΝΣΗ.json | Doc txt :- '3. ΚΑΤΑΛΟΓΟΣ ΕΚΔΟΧΩΝ' | Qrd txt :- '3. ΚΑΤΑΛΟΓΟΣ ΕΚΔΟΧΩΝ' | Matched :- 'True'\n",
      "2021-06-19 01:36:33,794 : Heading Extraction gonal-f_clean_ ΕΠΙΣΗΜΑΝΣΗ.json_4 : Validation Passed | H | CAP |  el | 2 | gonal-f_clean_ ΕΠΙΣΗΜΑΝΣΗ.json | currHeadId :- '22005' | prevHeadingCurrId :- '22004' | prevHeadingFoundId :- '22004'\n",
      "2021-06-19 01:36:35,549 : Heading Extraction gonal-f_clean_ ΕΠΙΣΗΜΑΝΣΗ.json_4 : Match Passed | H | CAP |  el | 2 | gonal-f_clean_ ΕΠΙΣΗΜΑΝΣΗ.json | Doc txt :- '4. ΦΑΡΜΑΚΟΤΕΧΝΙΚΗ ΜΟΡΦΗ ΚΑΙ ΠΕΡΙΕΧΟΜΕΝΟ' | Qrd txt :- '4. ΦΑΡΜΑΚΟΤΕΧΝΙΚΗ ΜΟΡΦΗ ΚΑΙ ΠΕΡΙΕΧΟΜΕΝΟ' | Matched :- 'True'\n",
      "2021-06-19 01:36:35,564 : Heading Extraction gonal-f_clean_ ΕΠΙΣΗΜΑΝΣΗ.json_4 : Validation Passed | H | CAP |  el | 2 | gonal-f_clean_ ΕΠΙΣΗΜΑΝΣΗ.json | currHeadId :- '22006' | prevHeadingCurrId :- '22005' | prevHeadingFoundId :- '22005'\n",
      "2021-06-19 01:36:38,390 : Heading Extraction gonal-f_clean_ ΕΠΙΣΗΜΑΝΣΗ.json_4 : Match Passed | H | CAP |  el | 2 | gonal-f_clean_ ΕΠΙΣΗΜΑΝΣΗ.json | Doc txt :- '5. ΤΡΟΠΟΣ ΚΑΙ ΟΔΟΣ(ΟΙ) ΧΟΡΗΓΗΣΗΣ' | Qrd txt :- '5. ΤΡΟΠΟΣ ΚΑΙ ΟΔΟΣ(ΟΙ) ΧΟΡΗΓΗΣΗΣ' | Matched :- 'True'\n",
      "2021-06-19 01:36:38,408 : Heading Extraction gonal-f_clean_ ΕΠΙΣΗΜΑΝΣΗ.json_4 : Validation Passed | H | CAP |  el | 2 | gonal-f_clean_ ΕΠΙΣΗΜΑΝΣΗ.json | currHeadId :- '22007' | prevHeadingCurrId :- '22006' | prevHeadingFoundId :- '22006'\n",
      "2021-06-19 01:36:40,238 : Heading Extraction gonal-f_clean_ ΕΠΙΣΗΜΑΝΣΗ.json_4 : Match Passed | H | CAP |  el | 2 | gonal-f_clean_ ΕΠΙΣΗΜΑΝΣΗ.json | Doc txt :- '6. ΕΙΔΙΚΗ ΠΡΟΕΙΔΟΠΟΙΗΣΗ ΣΥΜΦΩΝΑ ΜΕ ΤΗΝ ΟΠΟΙΑ ΤΟ ΦΑΡΜΑΚΕΥΤΙΚΟ ΠΡΟΪΟΝ ΠΡΕΠΕΙ ΝΑ ΦΥΛΑΣΣΕΤΑΙ ΣΕ ΘΕΣΗ ΤΗΝ ΟΠΟΙΑ ΔΕΝ ΒΛΕΠΟΥΝ ΚΑΙ ΔΕΝ ΠΡΟΣΕΓΓΙΖΟΥΝ ΤΑ ΠΑΙΔΙΑ' | Qrd txt :- '6. ΕΙΔΙΚΗ ΠΡΟΕΙΔΟΠΟΙΗΣΗ ΣΥΜΦΩΝΑ ΜΕ ΤΗΝ ΟΠΟΙΑ ΤΟ ΦΑΡΜΑΚΕΥΤΙΚΟ ΠΡΟΪΟΝ ΠΡΕΠΕΙ ΝΑ ΦΥΛΑΣΣΕΤΑΙ ΣΕ ΘΕΣΗ ΤΗΝ ΟΠΟΙΑ ΔΕΝ ΒΛΕΠΟΥΝ ΚΑΙ ΔΕΝ ΠΡΟΣΕΓΓΙΖΟΥΝ ΤΑ ΠΑΙΔΙΑ' | Matched :- 'True'\n",
      "2021-06-19 01:36:40,266 : Heading Extraction gonal-f_clean_ ΕΠΙΣΗΜΑΝΣΗ.json_4 : Validation Passed | H | CAP |  el | 2 | gonal-f_clean_ ΕΠΙΣΗΜΑΝΣΗ.json | currHeadId :- '22008' | prevHeadingCurrId :- '22007' | prevHeadingFoundId :- '22007'\n",
      "2021-06-19 01:36:41,809 : Heading Extraction gonal-f_clean_ ΕΠΙΣΗΜΑΝΣΗ.json_4 : Match Passed | H | CAP |  el | 2 | gonal-f_clean_ ΕΠΙΣΗΜΑΝΣΗ.json | Doc txt :- '7. ΑΛΛΗ(ΕΣ) ΕΙΔΙΚΗ(ΕΣ) ΠΡΟΕΙΔΟΠΟΙΗΣΗ(ΕΙΣ), ΕΑΝ ΕΙΝΑΙ ΑΠΑΡΑΙΤΗΤΗ(ΕΣ)' | Qrd txt :- '7. ΑΛΛΗ(ΕΣ) ΕΙΔΙΚΗ(ΕΣ) ΠΡΟΕΙΔΟΠΟΙΗΣΗ(ΕΙΣ), ΕΑΝ ΕΙΝΑΙ ΑΠΑΡΑΙΤΗΤΗ(ΕΣ)' | Matched :- 'True'\n",
      "2021-06-19 01:36:41,834 : Heading Extraction gonal-f_clean_ ΕΠΙΣΗΜΑΝΣΗ.json_4 : Validation Passed | H | CAP |  el | 2 | gonal-f_clean_ ΕΠΙΣΗΜΑΝΣΗ.json | currHeadId :- '22009' | prevHeadingCurrId :- '22008' | prevHeadingFoundId :- '22008'\n",
      "2021-06-19 01:36:42,141 : Heading Extraction gonal-f_clean_ ΕΠΙΣΗΜΑΝΣΗ.json_4 : Match Passed | H | CAP |  el | 2 | gonal-f_clean_ ΕΠΙΣΗΜΑΝΣΗ.json | Doc txt :- '8. ΗΜΕΡΟΜΗΝΙΑ ΛΗΞΗΣ' | Qrd txt :- '8. ΗΜΕΡΟΜΗΝΙΑ ΛΗΞΗΣ' | Matched :- 'True'\n",
      "2021-06-19 01:36:42,169 : Heading Extraction gonal-f_clean_ ΕΠΙΣΗΜΑΝΣΗ.json_4 : Validation Passed | H | CAP |  el | 2 | gonal-f_clean_ ΕΠΙΣΗΜΑΝΣΗ.json | currHeadId :- '22010' | prevHeadingCurrId :- '22009' | prevHeadingFoundId :- '22009'\n",
      "2021-06-19 01:36:42,477 : Heading Extraction gonal-f_clean_ ΕΠΙΣΗΜΑΝΣΗ.json_4 : Match Passed | H | CAP |  el | 2 | gonal-f_clean_ ΕΠΙΣΗΜΑΝΣΗ.json | Doc txt :- '9. ΕΙΔΙΚΕΣ ΣΥΝΘΗΚΕΣ ΦΥΛΑΞΗΣ' | Qrd txt :- '9. ΕΙΔΙΚΕΣ ΣΥΝΘΗΚΕΣ ΦΥΛΑΞΗΣ' | Matched :- 'True'\n",
      "2021-06-19 01:36:42,508 : Heading Extraction gonal-f_clean_ ΕΠΙΣΗΜΑΝΣΗ.json_4 : Validation Passed | H | CAP |  el | 2 | gonal-f_clean_ ΕΠΙΣΗΜΑΝΣΗ.json | currHeadId :- '22011' | prevHeadingCurrId :- '22010' | prevHeadingFoundId :- '22010'\n",
      "2021-06-19 01:36:45,579 : Heading Extraction gonal-f_clean_ ΕΠΙΣΗΜΑΝΣΗ.json_4 : Match Passed | H | CAP |  el | 2 | gonal-f_clean_ ΕΠΙΣΗΜΑΝΣΗ.json | Doc txt :- '10. ΙΔΙΑΙΤΕΡΕΣ ΠΡΟΦΥΛΑΞΕΙΣ ΓΙΑ ΤΗΝ ΑΠΟΡΡΙΨΗ ΤΩΝ ΜΗ ΧΡΗΣΙΜΟΠΟΙΗΘΕΝΤΩΝ ΦΑΡΜΑΚΕΥΤΙΚΩΝ ΠΡΟΪΟΝΤΩΝ Ή ΤΩΝ ΥΠΟΛΕΙΜΜΑΤΩΝ ΠΟΥ ΠΡΟΕΡΧΟΝΤΑΙ ΑΠΟ ΑΥΤΑ, ΕΦΟΣΟΝ ΑΠΑΙΤΕΙΤΑΙ' | Qrd txt :- '10. ΙΔΙΑΙΤΕΡΕΣ ΠΡΟΦΥΛΑΞΕΙΣ ΓΙΑ ΤΗΝ ΑΠΟΡΡΙΨΗ ΤΩΝ ΜΗ ΧΡΗΣΙΜΟΠΟΙΗΘΕΝΤΩΝ ΦΑΡΜΑΚΕΥΤΙΚΩΝ ΠΡΟΪΟΝΤΩΝ Ή ΤΩΝ ΥΠΟΛΕΙΜΜΑΤΩΝ ΠΟΥ ΠΡΟΕΡΧΟΝΤΑΙ ΑΠΟ ΑΥΤΑ, ΕΦΟΣΟΝ ΑΠΑΙΤΕΙΤΑΙ' | Matched :- 'True'\n",
      "2021-06-19 01:36:45,599 : Heading Extraction gonal-f_clean_ ΕΠΙΣΗΜΑΝΣΗ.json_4 : Validation Passed | H | CAP |  el | 2 | gonal-f_clean_ ΕΠΙΣΗΜΑΝΣΗ.json | currHeadId :- '22012' | prevHeadingCurrId :- '22011' | prevHeadingFoundId :- '22011'\n",
      "2021-06-19 01:36:47,412 : Heading Extraction gonal-f_clean_ ΕΠΙΣΗΜΑΝΣΗ.json_4 : Match Passed | H | CAP |  el | 2 | gonal-f_clean_ ΕΠΙΣΗΜΑΝΣΗ.json | Doc txt :- '11. ΟΝΟΜΑ ΚΑΙ ΔΙΕΥΘΥΝΣΗ ΚΑΤΟΧΟΥ ΤΗΣ ΑΔΕΙΑΣ ΚΥΚΛΟΦΟΡΙΑΣ' | Qrd txt :- '11. ΟΝΟΜΑ ΚΑΙ ΔΙΕΥΘΥΝΣΗ ΚΑΤΟΧΟΥ ΤΗΣ ΑΔΕΙΑΣ ΚΥΚΛΟΦΟΡΙΑΣ' | Matched :- 'True'\n",
      "2021-06-19 01:36:47,431 : Heading Extraction gonal-f_clean_ ΕΠΙΣΗΜΑΝΣΗ.json_4 : Validation Passed | H | CAP |  el | 2 | gonal-f_clean_ ΕΠΙΣΗΜΑΝΣΗ.json | currHeadId :- '22013' | prevHeadingCurrId :- '22012' | prevHeadingFoundId :- '22012'\n",
      "2021-06-19 01:36:49,678 : Heading Extraction gonal-f_clean_ ΕΠΙΣΗΜΑΝΣΗ.json_4 : Match Passed | H | CAP |  el | 2 | gonal-f_clean_ ΕΠΙΣΗΜΑΝΣΗ.json | Doc txt :- '12. ΑΡΙΘΜΟΣ(ΟΙ) ΑΔΕΙΑΣ ΚΥΚΛΟΦΟΡΙΑΣ' | Qrd txt :- '12. ΑΡΙΘΜΟΣ(ΟΙ) ΑΔΕΙΑΣ ΚΥΚΛΟΦΟΡΙΑΣ' | Matched :- 'True'\n",
      "2021-06-19 01:36:49,694 : Heading Extraction gonal-f_clean_ ΕΠΙΣΗΜΑΝΣΗ.json_4 : Validation Passed | H | CAP |  el | 2 | gonal-f_clean_ ΕΠΙΣΗΜΑΝΣΗ.json | currHeadId :- '22014' | prevHeadingCurrId :- '22013' | prevHeadingFoundId :- '22013'\n",
      "2021-06-19 01:36:54,260 : Heading Extraction gonal-f_clean_ ΕΠΙΣΗΜΑΝΣΗ.json_4 : Match Passed : Contains<>|175.0|(53, 100, 90)|0.873| | H | CAP |  el | 2 | gonal-f_clean_ ΕΠΙΣΗΜΑΝΣΗ.json | Doc txt :- '13.     ΑΡΙΘΜΟΣ ΠΑΡΤΙΔΑΣ' | Qrd txt :- '13. ΑΡΙΘΜΟΣ ΠΑΡΤΙΔΑΣ<, ΣΤΟΙΧΕΙΑ ΔΟΤΗ ΚΑΙ ΚΩΔΙΚΟΙ ΠΡΟΪΟΝΤΟΣ>' | Matched :- 'True'\n",
      "2021-06-19 01:36:54,308 : Heading Extraction gonal-f_clean_ ΕΠΙΣΗΜΑΝΣΗ.json_4 : Validation Passed | H | CAP |  el | 2 | gonal-f_clean_ ΕΠΙΣΗΜΑΝΣΗ.json | currHeadId :- '22015' | prevHeadingCurrId :- '22014' | prevHeadingFoundId :- '22014'\n",
      "2021-06-19 01:36:55,933 : Heading Extraction gonal-f_clean_ ΕΠΙΣΗΜΑΝΣΗ.json_4 : Match Passed | H | CAP |  el | 2 | gonal-f_clean_ ΕΠΙΣΗΜΑΝΣΗ.json | Doc txt :- '14. ΓΕΝΙΚΗ ΚΑΤΑΤΑΞΗ ΓΙΑ ΤΗ ΔΙΑΘΕΣΗ' | Qrd txt :- '14. ΓΕΝΙΚΗ ΚΑΤΑΤΑΞΗ ΓΙΑ ΤΗ ΔΙΑΘΕΣΗ' | Matched :- 'True'\n",
      "2021-06-19 01:36:55,964 : Heading Extraction gonal-f_clean_ ΕΠΙΣΗΜΑΝΣΗ.json_4 : Validation Passed | H | CAP |  el | 2 | gonal-f_clean_ ΕΠΙΣΗΜΑΝΣΗ.json | currHeadId :- '22016' | prevHeadingCurrId :- '22015' | prevHeadingFoundId :- '22015'\n",
      "2021-06-19 01:36:56,666 : Heading Extraction gonal-f_clean_ ΕΠΙΣΗΜΑΝΣΗ.json_4 : Match Passed | H | CAP |  el | 2 | gonal-f_clean_ ΕΠΙΣΗΜΑΝΣΗ.json | Doc txt :- '15. ΟΔΗΓΙΕΣ ΧΡΗΣΗΣ' | Qrd txt :- '15. ΟΔΗΓΙΕΣ ΧΡΗΣΗΣ' | Matched :- 'True'\n",
      "2021-06-19 01:36:56,705 : Heading Extraction gonal-f_clean_ ΕΠΙΣΗΜΑΝΣΗ.json_4 : Validation Passed | H | CAP |  el | 2 | gonal-f_clean_ ΕΠΙΣΗΜΑΝΣΗ.json | currHeadId :- '22017' | prevHeadingCurrId :- '22016' | prevHeadingFoundId :- '22016'\n",
      "2021-06-19 01:36:57,341 : Heading Extraction gonal-f_clean_ ΕΠΙΣΗΜΑΝΣΗ.json_4 : Match Passed | H | CAP |  el | 2 | gonal-f_clean_ ΕΠΙΣΗΜΑΝΣΗ.json | Doc txt :- '16. ΠΛΗΡΟΦΟΡΙΕΣ ΣΕ BRAILLE' | Qrd txt :- '16. ΠΛΗΡΟΦΟΡΙΕΣ ΣΕ BRAILLE' | Matched :- 'True'\n"
     ]
    },
    {
     "name": "stderr",
     "output_type": "stream",
     "text": [
      "2021-06-19 01:36:57,363 : Heading Extraction gonal-f_clean_ ΕΠΙΣΗΜΑΝΣΗ.json_4 : Validation Passed | H | CAP |  el | 2 | gonal-f_clean_ ΕΠΙΣΗΜΑΝΣΗ.json | currHeadId :- '22018' | prevHeadingCurrId :- '22017' | prevHeadingFoundId :- '22017'\n",
      "2021-06-19 01:36:59,040 : Heading Extraction gonal-f_clean_ ΕΠΙΣΗΜΑΝΣΗ.json_4 : Match Passed | H | CAP |  el | 2 | gonal-f_clean_ ΕΠΙΣΗΜΑΝΣΗ.json | Doc txt :- '17. ΜΟΝΑΔΙΚΟΣ ΑΝΑΓΝΩΡΙΣΤΙΚΟΣ ΚΩΔΙΚΟΣ – ΔΙΣΔΙΑΣΤΑΤΟΣ ΓΡΑΜΜΩΤΟΣ ΚΩΔΙΚΑΣ (2D)' | Qrd txt :- '17. ΜΟΝΑΔΙΚΟΣ ΑΝΑΓΝΩΡΙΣΤΙΚΟΣ ΚΩΔΙΚΟΣ – ΔΙΣΔΙΑΣΤΑΤΟΣ ΓΡΑΜΜΩΤΟΣ ΚΩΔΙΚΑΣ (2D)' | Matched :- 'True'\n",
      "2021-06-19 01:36:59,074 : Heading Extraction gonal-f_clean_ ΕΠΙΣΗΜΑΝΣΗ.json_4 : Validation Passed | H | CAP |  el | 2 | gonal-f_clean_ ΕΠΙΣΗΜΑΝΣΗ.json | currHeadId :- '22019' | prevHeadingCurrId :- '22018' | prevHeadingFoundId :- '22018'\n",
      "2021-06-19 01:37:02,439 : Heading Extraction gonal-f_clean_ ΕΠΙΣΗΜΑΝΣΗ.json_4 : Match Passed | H | CAP |  el | 2 | gonal-f_clean_ ΕΠΙΣΗΜΑΝΣΗ.json | Doc txt :- '18. ΜΟΝΑΔΙΚΟΣ ΑΝΑΓΝΩΡΙΣΤΙΚΟΣ ΚΩΔΙΚΟΣ – ΔΕΔΟΜΕΝΑ ΑΝΑΓΝΩΣΙΜΑ ΑΠΟ ΤΟΝ ΑΝΘΡΩΠΟ' | Qrd txt :- '18. ΜΟΝΑΔΙΚΟΣ ΑΝΑΓΝΩΡΙΣΤΙΚΟΣ ΚΩΔΙΚΟΣ – ΔΕΔΟΜΕΝΑ ΑΝΑΓΝΩΣΙΜΑ ΑΠΟ ΤΟΝ ΑΝΘΡΩΠΟ' | Matched :- 'True'\n",
      "2021-06-19 01:37:02,481 : Heading Extraction gonal-f_clean_ ΕΠΙΣΗΜΑΝΣΗ.json_4 : Validation Passed | H | CAP |  el | 2 | gonal-f_clean_ ΕΠΙΣΗΜΑΝΣΗ.json | currHeadId :- '22020' | prevHeadingCurrId :- '22019' | prevHeadingFoundId :- '22019'\n",
      "2021-06-19 01:37:13,274 : Heading Extraction gonal-f_clean_ ΕΠΙΣΗΜΑΝΣΗ.json_4 : Match Passed | H | CAP |  el | 2 | gonal-f_clean_ ΕΠΙΣΗΜΑΝΣΗ.json | Doc txt :- 'ΕΛΑΧΙΣΤΕΣ ΕΝΔΕΙΞΕΙΣ ΠΟΥ ΠΡΕΠΕΙ ΝΑ ΑΝΑΓΡΑΦΟΝΤΑΙ ΣΤΙΣ ΜΙΚΡΕΣ ΣΤΟΙΧΕΙΩΔΕΙΣ ΣΥΣΚΕΥΑΣΙΕΣ' | Qrd txt :- 'ΕΛΑΧΙΣΤΕΣ ΕΝΔΕΙΞΕΙΣ ΠΟΥ ΠΡΕΠΕΙ ΝΑ ΑΝΑΓΡΑΦΟΝΤΑΙ ΣΤΙΣ ΜΙΚΡΕΣ ΣΤΟΙΧΕΙΩΔΕΙΣ ΣΥΣΚΕΥΑΣΙΕΣ' | Matched :- 'True'\n",
      "2021-06-19 01:37:13,306 : Heading Extraction gonal-f_clean_ ΕΠΙΣΗΜΑΝΣΗ.json_4 : Validation Flow Is Broken | H | CAP |  el | 2 | gonal-f_clean_ ΕΠΙΣΗΜΑΝΣΗ.json | currHeadId :- '22027' | prevHeadingCurrId :- '' | prevHeadingFoundId :- '22020'\n",
      "2021-06-19 01:37:13,332 : Heading Extraction gonal-f_clean_ ΕΠΙΣΗΜΑΝΣΗ.json_4 : Validation Passed | H | CAP |  el | 2 | gonal-f_clean_ ΕΠΙΣΗΜΑΝΣΗ.json | currHeadId :- '22027' | prevHeadingCurrId :- '22020' | prevHeadingFoundId :- '22020'\n",
      "2021-06-19 01:37:20,011 : Heading Extraction gonal-f_clean_ ΕΠΙΣΗΜΑΝΣΗ.json_4 : Match Passed | H | CAP |  el | 2 | gonal-f_clean_ ΕΠΙΣΗΜΑΝΣΗ.json | Doc txt :- '1. ΟΝΟΜΑΣΙΑ ΤΟΥ ΦΑΡΜΑΚΕΥΤΙΚΟΥ ΠΡΟΪΟΝΤΟΣ ΚΑΙ ΟΔΟΣ(ΟΙ) ΧΟΡΗΓΗΣΗΣ' | Qrd txt :- '1. ΟΝΟΜΑΣΙΑ ΤΟΥ ΦΑΡΜΑΚΕΥΤΙΚΟΥ ΠΡΟΪΟΝΤΟΣ ΚΑΙ ΟΔΟΣ(ΟΙ) ΧΟΡΗΓΗΣΗΣ' | Matched :- 'True'\n",
      "2021-06-19 01:37:20,061 : Heading Extraction gonal-f_clean_ ΕΠΙΣΗΜΑΝΣΗ.json_4 : Validation Passed | H | CAP |  el | 2 | gonal-f_clean_ ΕΠΙΣΗΜΑΝΣΗ.json | currHeadId :- '22028' | prevHeadingCurrId :- '22027' | prevHeadingFoundId :- '22027'\n",
      "2021-06-19 01:37:28,900 : Heading Extraction gonal-f_clean_ ΕΠΙΣΗΜΑΝΣΗ.json_4 : Match Passed | H | CAP |  el | 2 | gonal-f_clean_ ΕΠΙΣΗΜΑΝΣΗ.json | Doc txt :- '2. ΤΡΟΠΟΣ ΧΟΡΗΓΗΣΗΣ' | Qrd txt :- '2. ΤΡΟΠΟΣ ΧΟΡΗΓΗΣΗΣ' | Matched :- 'True'\n",
      "2021-06-19 01:37:28,948 : Heading Extraction gonal-f_clean_ ΕΠΙΣΗΜΑΝΣΗ.json_4 : Validation Passed | H | CAP |  el | 2 | gonal-f_clean_ ΕΠΙΣΗΜΑΝΣΗ.json | currHeadId :- '22029' | prevHeadingCurrId :- '22028' | prevHeadingFoundId :- '22028'\n",
      "2021-06-19 01:37:29,616 : Heading Extraction gonal-f_clean_ ΕΠΙΣΗΜΑΝΣΗ.json_4 : Match Passed : <=4|5.26|(95, 95, 95)|0.98| | H | CAP |  el | 2 | gonal-f_clean_ ΕΠΙΣΗΜΑΝΣΗ.json | Doc txt :- '3.       ΗΜΕΡΟΜΗΝΙΑ ΛΗΞΗΣ' | Qrd txt :- '8. ΗΜΕΡΟΜΗΝΙΑ ΛΗΞΗΣ' | Matched :- 'True'\n",
      "2021-06-19 01:37:29,672 : Heading Extraction gonal-f_clean_ ΕΠΙΣΗΜΑΝΣΗ.json_4 : Validation Failed As Previous Heading Found is not matching | H | CAP |  el | 2 | gonal-f_clean_ ΕΠΙΣΗΜΑΝΣΗ.json | currHeadId :- '22010' | prevHeadingCurrId :- '22009' | prevHeadingFoundId :- '22029'\n",
      "2021-06-19 01:37:30,432 : Heading Extraction gonal-f_clean_ ΕΠΙΣΗΜΑΝΣΗ.json_4 : Match Passed | H | CAP |  el | 2 | gonal-f_clean_ ΕΠΙΣΗΜΑΝΣΗ.json | Doc txt :- '3. ΗΜΕΡΟΜΗΝΙΑ ΛΗΞΗΣ' | Qrd txt :- '3. ΗΜΕΡΟΜΗΝΙΑ ΛΗΞΗΣ' | Matched :- 'True'\n",
      "2021-06-19 01:37:30,475 : Heading Extraction gonal-f_clean_ ΕΠΙΣΗΜΑΝΣΗ.json_4 : Validation Failed As Wrong Heading Found | H | CAP |  el | 2 | gonal-f_clean_ ΕΠΙΣΗΜΑΝΣΗ.json | currHeadId :- '22024' | prevHeadingCurrId :- '' | prevHeadingFoundId :- '22029'\n",
      "2021-06-19 01:37:30,703 : Heading Extraction gonal-f_clean_ ΕΠΙΣΗΜΑΝΣΗ.json_4 : Match Passed | H | CAP |  el | 2 | gonal-f_clean_ ΕΠΙΣΗΜΑΝΣΗ.json | Doc txt :- '3. ΗΜΕΡΟΜΗΝΙΑ ΛΗΞΗΣ' | Qrd txt :- '3. ΗΜΕΡΟΜΗΝΙΑ ΛΗΞΗΣ' | Matched :- 'True'\n",
      "2021-06-19 01:37:30,748 : Heading Extraction gonal-f_clean_ ΕΠΙΣΗΜΑΝΣΗ.json_4 : Validation Passed | H | CAP |  el | 2 | gonal-f_clean_ ΕΠΙΣΗΜΑΝΣΗ.json | currHeadId :- '22030' | prevHeadingCurrId :- '22029' | prevHeadingFoundId :- '22029'\n",
      "2021-06-19 01:37:32,895 : Heading Extraction gonal-f_clean_ ΕΠΙΣΗΜΑΝΣΗ.json_4 : Match Passed : Contains<>|194.74|(49, 95, 86)|0.758| | H | CAP |  el | 2 | gonal-f_clean_ ΕΠΙΣΗΜΑΝΣΗ.json | Doc txt :- '4.       ΑΡΙΘΜΟΣ ΠΑΡΤΙΔΑΣ' | Qrd txt :- '13. ΑΡΙΘΜΟΣ ΠΑΡΤΙΔΑΣ<, ΣΤΟΙΧΕΙΑ ΔΟΤΗ ΚΑΙ ΚΩΔΙΚΟΙ ΠΡΟΪΟΝΤΟΣ>' | Matched :- 'True'\n",
      "2021-06-19 01:37:32,919 : Heading Extraction gonal-f_clean_ ΕΠΙΣΗΜΑΝΣΗ.json_4 : Validation Failed As Previous Heading Found is not matching | H | CAP |  el | 2 | gonal-f_clean_ ΕΠΙΣΗΜΑΝΣΗ.json | currHeadId :- '22015' | prevHeadingCurrId :- '22014' | prevHeadingFoundId :- '22030'\n",
      "2021-06-19 01:37:33,280 : Heading Extraction gonal-f_clean_ ΕΠΙΣΗΜΑΝΣΗ.json_4 : Match Passed : Contains<>|184.21|(52, 100, 90)|0.87| | H | CAP |  el | 2 | gonal-f_clean_ ΕΠΙΣΗΜΑΝΣΗ.json | Doc txt :- '4.       ΑΡΙΘΜΟΣ ΠΑΡΤΙΔΑΣ' | Qrd txt :- '4. ΑΡΙΘΜΟΣ ΠΑΡΤΙΔΑΣ<, ΣΤΟΙΧΕΙΑ ΔΟΤΗ ΚΑΙ ΚΩΔΙΚΟΙ ΠΡΟΪΟΝΤΟΣ>' | Matched :- 'True'\n",
      "2021-06-19 01:37:33,311 : Heading Extraction gonal-f_clean_ ΕΠΙΣΗΜΑΝΣΗ.json_4 : Validation Failed As Wrong Heading Found | H | CAP |  el | 2 | gonal-f_clean_ ΕΠΙΣΗΜΑΝΣΗ.json | currHeadId :- '22025' | prevHeadingCurrId :- '' | prevHeadingFoundId :- '22030'\n",
      "2021-06-19 01:37:33,511 : Heading Extraction gonal-f_clean_ ΕΠΙΣΗΜΑΝΣΗ.json_4 : Match Passed : Contains<>|184.21|(52, 100, 90)|0.87| | H | CAP |  el | 2 | gonal-f_clean_ ΕΠΙΣΗΜΑΝΣΗ.json | Doc txt :- '4.       ΑΡΙΘΜΟΣ ΠΑΡΤΙΔΑΣ' | Qrd txt :- '4. ΑΡΙΘΜΟΣ ΠΑΡΤΙΔΑΣ<, ΣΤΟΙΧΕΙΑ ΔΟΤΗ ΚΑΙ ΚΩΔΙΚΟΙ ΠΡΟΪΟΝΤΟΣ>' | Matched :- 'True'\n",
      "2021-06-19 01:37:33,538 : Heading Extraction gonal-f_clean_ ΕΠΙΣΗΜΑΝΣΗ.json_4 : Validation Passed | H | CAP |  el | 2 | gonal-f_clean_ ΕΠΙΣΗΜΑΝΣΗ.json | currHeadId :- '22031' | prevHeadingCurrId :- '22030' | prevHeadingFoundId :- '22030'\n",
      "2021-06-19 01:37:35,139 : Heading Extraction gonal-f_clean_ ΕΠΙΣΗΜΑΝΣΗ.json_4 : Match Passed : <=7|2.5|(98, 98, 98)|0.995| | H | CAP |  el | 2 | gonal-f_clean_ ΕΠΙΣΗΜΑΝΣΗ.json | Doc txt :- '5.       ΠΕΡΙΕΧΟΜΕΝΟ ΚΑΤΑ ΒΑPΟΣ, ΚΑΤ' ΟΓΚΟ Ή ΚΑΤΑ ΜΟΝΑΔΑ' | Qrd txt :- '5. ΠΕΡΙΕΧΟΜΕΝΟ ΚΑΤΑ ΒΑΡΟΣ, ΚΑΤ' ΟΓΚΟ Ή ΚΑΤΑ ΜΟΝΑΔΑ' | Matched :- 'True'\n",
      "2021-06-19 01:37:35,172 : Heading Extraction gonal-f_clean_ ΕΠΙΣΗΜΑΝΣΗ.json_4 : Validation Passed | H | CAP |  el | 2 | gonal-f_clean_ ΕΠΙΣΗΜΑΝΣΗ.json | currHeadId :- '22032' | prevHeadingCurrId :- '22031' | prevHeadingFoundId :- '22031'\n",
      "2021-06-19 01:37:37,004 : Heading Extraction gonal-f_clean_ ΕΠΙΣΗΜΑΝΣΗ.json_4 : Match Passed : <=4|6.25|(94, 94, 94)|0.973| | H | CAP |  el | 2 | gonal-f_clean_ ΕΠΙΣΗΜΑΝΣΗ.json | Doc txt :- '6.       AΛΛΑ ΣΤΟΙΧΕΙΑ' | Qrd txt :- '6. ΑΛΛΑ ΣΤΟΙΧΕΙΑ' | Matched :- 'True'\n",
      "2021-06-19 01:37:37,036 : Heading Extraction gonal-f_clean_ ΕΠΙΣΗΜΑΝΣΗ.json_4 : Validation Passed | H | CAP |  el | 2 | gonal-f_clean_ ΕΠΙΣΗΜΑΝΣΗ.json | currHeadId :- '22033' | prevHeadingCurrId :- '22032' | prevHeadingFoundId :- '22032'\n",
      "2021-06-19 01:37:37,122 : Heading Extraction gonal-f_clean_ ΕΠΙΣΗΜΑΝΣΗ.json_4 : Match Passed : Contains<>|76.0|(72, 88, 86)|0.922| | H | CAP |  el | 2 | gonal-f_clean_ ΕΠΙΣΗΜΑΝΣΗ.json | Doc txt :- 'ΕΝΔΕΙΞΕΙΣ ΠΟΥ ΠΡΕΠΕΙ ΝΑ ΑΝΑΓΡΑΦΟΝΤΑΙ ΣΤΗΝ ΕΞΩΤΕΡΙΚΗ ΣΥΣΚΕΥΑΣΙΑ' | Qrd txt :- 'ΕΝΔΕΙΞΕΙΣ ΠΟΥ ΠΡΕΠΕΙ ΝΑ ΑΝΑΓΡΑΦΟΝΤΑΙ <ΣΤΗΝ ΕΞΩΤΕΡΙΚΗ ΣΥΣΚΕΥΑΣΙΑ> <ΚΑΙ> < ΣΤΗ ΣΤΟΙΧΕΙΩΔΗ ΣΥΣΚΕΥΑΣΙΑ>' | Matched :- 'True'\n",
      "2021-06-19 01:37:37,157 : Heading Extraction gonal-f_clean_ ΕΠΙΣΗΜΑΝΣΗ.json_4 : Validation Failed As Wrong Heading Found | H | CAP |  el | 2 | gonal-f_clean_ ΕΠΙΣΗΜΑΝΣΗ.json | currHeadId :- '22002' | prevHeadingCurrId :- '' | prevHeadingFoundId :- '22033'\n"
     ]
    },
    {
     "name": "stderr",
     "output_type": "stream",
     "text": [
      "2021-06-19 01:37:38,624 : Heading Extraction gonal-f_clean_ ΕΠΙΣΗΜΑΝΣΗ.json_4 : End Of Sub Section | H | CAP |  el | 2 | gonal-f_clean_ ΕΠΙΣΗΜΑΝΣΗ.json\n",
      "2021-06-19 01:37:38,699 : Heading Extraction gonal-f_clean_ ΕΠΙΣΗΜΑΝΣΗ.json_4 : Match Passed : Contains<>|76.0|(72, 88, 86)|0.922| | H | CAP |  el | 2 | gonal-f_clean_ ΕΠΙΣΗΜΑΝΣΗ.json | Doc txt :- 'ΕΝΔΕΙΞΕΙΣ ΠΟΥ ΠΡΕΠΕΙ ΝΑ ΑΝΑΓΡΑΦΟΝΤΑΙ ΣΤΗΝ ΕΞΩΤΕΡΙΚΗ ΣΥΣΚΕΥΑΣΙΑ' | Qrd txt :- 'ΕΝΔΕΙΞΕΙΣ ΠΟΥ ΠΡΕΠΕΙ ΝΑ ΑΝΑΓΡΑΦΟΝΤΑΙ <ΣΤΗΝ ΕΞΩΤΕΡΙΚΗ ΣΥΣΚΕΥΑΣΙΑ> <ΚΑΙ> < ΣΤΗ ΣΤΟΙΧΕΙΩΔΗ ΣΥΣΚΕΥΑΣΙΑ>' | Matched :- 'True'\n",
      "2021-06-19 01:37:38,743 : Heading Extraction gonal-f_clean_ ΕΠΙΣΗΜΑΝΣΗ.json_4 : Validation Passed As This The First Heading | H | CAP |  el | 2 | gonal-f_clean_ ΕΠΙΣΗΜΑΝΣΗ.json | currHeadId :- '22002' | prevHeadingCurrId :- '' | prevHeadingFoundId :- ''\n"
     ]
    },
    {
     "name": "stdout",
     "output_type": "stream",
     "text": [
      "oooooooooooooooooooooooooooooooooooooooo END OF Sub Section oooooooooooooooooooooooooooooooooooooooooooooooooooooooooooo\n"
     ]
    },
    {
     "name": "stderr",
     "output_type": "stream",
     "text": [
      "2021-06-19 01:37:41,828 : Heading Extraction gonal-f_clean_ ΕΠΙΣΗΜΑΝΣΗ.json_4 : Match Passed | H | CAP |  el | 2 | gonal-f_clean_ ΕΠΙΣΗΜΑΝΣΗ.json | Doc txt :- '1. ΟΝΟΜΑΣΙΑ ΤΟΥ ΦΑΡΜΑΚΕΥΤΙΚΟΥ ΠΡΟΪΟΝΤΟΣ' | Qrd txt :- '1. ΟΝΟΜΑΣΙΑ ΤΟΥ ΦΑΡΜΑΚΕΥΤΙΚΟΥ ΠΡΟΪΟΝΤΟΣ' | Matched :- 'True'\n",
      "2021-06-19 01:37:41,868 : Heading Extraction gonal-f_clean_ ΕΠΙΣΗΜΑΝΣΗ.json_4 : Validation Passed | H | CAP |  el | 2 | gonal-f_clean_ ΕΠΙΣΗΜΑΝΣΗ.json | currHeadId :- '22003' | prevHeadingCurrId :- '22002' | prevHeadingFoundId :- '22002'\n",
      "2021-06-19 01:37:46,771 : Heading Extraction gonal-f_clean_ ΕΠΙΣΗΜΑΝΣΗ.json_4 : Match Passed | H | CAP |  el | 2 | gonal-f_clean_ ΕΠΙΣΗΜΑΝΣΗ.json | Doc txt :- '2. ΣΥΝΘΕΣΗ ΣΕ ΔΡΑΣΤΙΚΗ(ΕΣ) ΟΥΣΙΑ(ΕΣ)' | Qrd txt :- '2. ΣΥΝΘΕΣΗ ΣΕ ΔΡΑΣΤΙΚΗ(ΕΣ) ΟΥΣΙΑ(ΕΣ)' | Matched :- 'True'\n",
      "2021-06-19 01:37:46,820 : Heading Extraction gonal-f_clean_ ΕΠΙΣΗΜΑΝΣΗ.json_4 : Validation Passed | H | CAP |  el | 2 | gonal-f_clean_ ΕΠΙΣΗΜΑΝΣΗ.json | currHeadId :- '22004' | prevHeadingCurrId :- '22003' | prevHeadingFoundId :- '22003'\n",
      "2021-06-19 01:37:54,006 : Heading Extraction gonal-f_clean_ ΕΠΙΣΗΜΑΝΣΗ.json_4 : Match Passed | H | CAP |  el | 2 | gonal-f_clean_ ΕΠΙΣΗΜΑΝΣΗ.json | Doc txt :- '3. ΚΑΤΑΛΟΓΟΣ ΕΚΔΟΧΩΝ' | Qrd txt :- '3. ΚΑΤΑΛΟΓΟΣ ΕΚΔΟΧΩΝ' | Matched :- 'True'\n",
      "2021-06-19 01:37:54,081 : Heading Extraction gonal-f_clean_ ΕΠΙΣΗΜΑΝΣΗ.json_4 : Validation Passed | H | CAP |  el | 2 | gonal-f_clean_ ΕΠΙΣΗΜΑΝΣΗ.json | currHeadId :- '22005' | prevHeadingCurrId :- '22004' | prevHeadingFoundId :- '22004'\n",
      "2021-06-19 01:37:59,154 : Heading Extraction gonal-f_clean_ ΕΠΙΣΗΜΑΝΣΗ.json_4 : Match Passed | H | CAP |  el | 2 | gonal-f_clean_ ΕΠΙΣΗΜΑΝΣΗ.json | Doc txt :- '4. ΦΑΡΜΑΚΟΤΕΧΝΙΚΗ ΜΟΡΦΗ ΚΑΙ ΠΕΡΙΕΧΟΜΕΝΟ' | Qrd txt :- '4. ΦΑΡΜΑΚΟΤΕΧΝΙΚΗ ΜΟΡΦΗ ΚΑΙ ΠΕΡΙΕΧΟΜΕΝΟ' | Matched :- 'True'\n",
      "2021-06-19 01:37:59,213 : Heading Extraction gonal-f_clean_ ΕΠΙΣΗΜΑΝΣΗ.json_4 : Validation Passed | H | CAP |  el | 2 | gonal-f_clean_ ΕΠΙΣΗΜΑΝΣΗ.json | currHeadId :- '22006' | prevHeadingCurrId :- '22005' | prevHeadingFoundId :- '22005'\n",
      "2021-06-19 01:38:06,444 : Heading Extraction gonal-f_clean_ ΕΠΙΣΗΜΑΝΣΗ.json_4 : Match Passed : <=7|3.03|(98, 97, 98)|0.997| | H | CAP |  el | 2 | gonal-f_clean_ ΕΠΙΣΗΜΑΝΣΗ.json | Doc txt :- '5.       ΤΡΟΠΟΣ ΚΑΙ, ΟΔΟΣ(ΟΙ) ΧΟΡΗΓΗΣΗΣ' | Qrd txt :- '5. ΤΡΟΠΟΣ ΚΑΙ ΟΔΟΣ(ΟΙ) ΧΟΡΗΓΗΣΗΣ' | Matched :- 'True'\n",
      "2021-06-19 01:38:06,477 : Heading Extraction gonal-f_clean_ ΕΠΙΣΗΜΑΝΣΗ.json_4 : Validation Passed | H | CAP |  el | 2 | gonal-f_clean_ ΕΠΙΣΗΜΑΝΣΗ.json | currHeadId :- '22007' | prevHeadingCurrId :- '22006' | prevHeadingFoundId :- '22006'\n",
      "2021-06-19 01:38:10,823 : Heading Extraction gonal-f_clean_ ΕΠΙΣΗΜΑΝΣΗ.json_4 : Match Passed | H | CAP |  el | 2 | gonal-f_clean_ ΕΠΙΣΗΜΑΝΣΗ.json | Doc txt :- '6. ΕΙΔΙΚΗ ΠΡΟΕΙΔΟΠΟΙΗΣΗ ΣΥΜΦΩΝΑ ΜΕ ΤΗΝ ΟΠΟΙΑ ΤΟ ΦΑΡΜΑΚΕΥΤΙΚΟ ΠΡΟΪΟΝ ΠΡΕΠΕΙ ΝΑ ΦΥΛΑΣΣΕΤΑΙ ΣΕ ΘΕΣΗ ΤΗΝ ΟΠΟΙΑ ΔΕΝ ΒΛΕΠΟΥΝ ΚΑΙ ΔΕΝ ΠΡΟΣΕΓΓΙΖΟΥΝ ΤΑ ΠΑΙΔΙΑ' | Qrd txt :- '6. ΕΙΔΙΚΗ ΠΡΟΕΙΔΟΠΟΙΗΣΗ ΣΥΜΦΩΝΑ ΜΕ ΤΗΝ ΟΠΟΙΑ ΤΟ ΦΑΡΜΑΚΕΥΤΙΚΟ ΠΡΟΪΟΝ ΠΡΕΠΕΙ ΝΑ ΦΥΛΑΣΣΕΤΑΙ ΣΕ ΘΕΣΗ ΤΗΝ ΟΠΟΙΑ ΔΕΝ ΒΛΕΠΟΥΝ ΚΑΙ ΔΕΝ ΠΡΟΣΕΓΓΙΖΟΥΝ ΤΑ ΠΑΙΔΙΑ' | Matched :- 'True'\n",
      "2021-06-19 01:38:10,926 : Heading Extraction gonal-f_clean_ ΕΠΙΣΗΜΑΝΣΗ.json_4 : Validation Passed | H | CAP |  el | 2 | gonal-f_clean_ ΕΠΙΣΗΜΑΝΣΗ.json | currHeadId :- '22008' | prevHeadingCurrId :- '22007' | prevHeadingFoundId :- '22007'\n",
      "2021-06-19 01:38:14,426 : Heading Extraction gonal-f_clean_ ΕΠΙΣΗΜΑΝΣΗ.json_4 : Match Passed | H | CAP |  el | 2 | gonal-f_clean_ ΕΠΙΣΗΜΑΝΣΗ.json | Doc txt :- '7. ΑΛΛΗ(ΕΣ) ΕΙΔΙΚΗ(ΕΣ) ΠΡΟΕΙΔΟΠΟΙΗΣΗ(ΕΙΣ), ΕΑΝ ΕΙΝΑΙ ΑΠΑΡΑΙΤΗΤΗ(ΕΣ)' | Qrd txt :- '7. ΑΛΛΗ(ΕΣ) ΕΙΔΙΚΗ(ΕΣ) ΠΡΟΕΙΔΟΠΟΙΗΣΗ(ΕΙΣ), ΕΑΝ ΕΙΝΑΙ ΑΠΑΡΑΙΤΗΤΗ(ΕΣ)' | Matched :- 'True'\n",
      "2021-06-19 01:38:14,464 : Heading Extraction gonal-f_clean_ ΕΠΙΣΗΜΑΝΣΗ.json_4 : Validation Passed | H | CAP |  el | 2 | gonal-f_clean_ ΕΠΙΣΗΜΑΝΣΗ.json | currHeadId :- '22009' | prevHeadingCurrId :- '22008' | prevHeadingFoundId :- '22008'\n",
      "2021-06-19 01:38:14,934 : Heading Extraction gonal-f_clean_ ΕΠΙΣΗΜΑΝΣΗ.json_4 : Match Passed | H | CAP |  el | 2 | gonal-f_clean_ ΕΠΙΣΗΜΑΝΣΗ.json | Doc txt :- '8. ΗΜΕΡΟΜΗΝΙΑ ΛΗΞΗΣ' | Qrd txt :- '8. ΗΜΕΡΟΜΗΝΙΑ ΛΗΞΗΣ' | Matched :- 'True'\n",
      "2021-06-19 01:38:14,971 : Heading Extraction gonal-f_clean_ ΕΠΙΣΗΜΑΝΣΗ.json_4 : Validation Passed | H | CAP |  el | 2 | gonal-f_clean_ ΕΠΙΣΗΜΑΝΣΗ.json | currHeadId :- '22010' | prevHeadingCurrId :- '22009' | prevHeadingFoundId :- '22009'\n",
      "2021-06-19 01:38:15,404 : Heading Extraction gonal-f_clean_ ΕΠΙΣΗΜΑΝΣΗ.json_4 : Match Passed | H | CAP |  el | 2 | gonal-f_clean_ ΕΠΙΣΗΜΑΝΣΗ.json | Doc txt :- '9. ΕΙΔΙΚΕΣ ΣΥΝΘΗΚΕΣ ΦΥΛΑΞΗΣ' | Qrd txt :- '9. ΕΙΔΙΚΕΣ ΣΥΝΘΗΚΕΣ ΦΥΛΑΞΗΣ' | Matched :- 'True'\n",
      "2021-06-19 01:38:15,433 : Heading Extraction gonal-f_clean_ ΕΠΙΣΗΜΑΝΣΗ.json_4 : Validation Passed | H | CAP |  el | 2 | gonal-f_clean_ ΕΠΙΣΗΜΑΝΣΗ.json | currHeadId :- '22011' | prevHeadingCurrId :- '22010' | prevHeadingFoundId :- '22010'\n",
      "2021-06-19 01:38:19,607 : Heading Extraction gonal-f_clean_ ΕΠΙΣΗΜΑΝΣΗ.json_4 : Match Passed | H | CAP |  el | 2 | gonal-f_clean_ ΕΠΙΣΗΜΑΝΣΗ.json | Doc txt :- '10. ΙΔΙΑΙΤΕΡΕΣ ΠΡΟΦΥΛΑΞΕΙΣ ΓΙΑ ΤΗΝ ΑΠΟΡΡΙΨΗ ΤΩΝ ΜΗ ΧΡΗΣΙΜΟΠΟΙΗΘΕΝΤΩΝ ΦΑΡΜΑΚΕΥΤΙΚΩΝ ΠΡΟΪΟΝΤΩΝ Ή ΤΩΝ ΥΠΟΛΕΙΜΜΑΤΩΝ ΠΟΥ ΠΡΟΕΡΧΟΝΤΑΙ ΑΠΟ ΑΥΤΑ, ΕΦΟΣΟΝ ΑΠΑΙΤΕΙΤΑΙ' | Qrd txt :- '10. ΙΔΙΑΙΤΕΡΕΣ ΠΡΟΦΥΛΑΞΕΙΣ ΓΙΑ ΤΗΝ ΑΠΟΡΡΙΨΗ ΤΩΝ ΜΗ ΧΡΗΣΙΜΟΠΟΙΗΘΕΝΤΩΝ ΦΑΡΜΑΚΕΥΤΙΚΩΝ ΠΡΟΪΟΝΤΩΝ Ή ΤΩΝ ΥΠΟΛΕΙΜΜΑΤΩΝ ΠΟΥ ΠΡΟΕΡΧΟΝΤΑΙ ΑΠΟ ΑΥΤΑ, ΕΦΟΣΟΝ ΑΠΑΙΤΕΙΤΑΙ' | Matched :- 'True'\n",
      "2021-06-19 01:38:19,640 : Heading Extraction gonal-f_clean_ ΕΠΙΣΗΜΑΝΣΗ.json_4 : Validation Passed | H | CAP |  el | 2 | gonal-f_clean_ ΕΠΙΣΗΜΑΝΣΗ.json | currHeadId :- '22012' | prevHeadingCurrId :- '22011' | prevHeadingFoundId :- '22011'\n",
      "2021-06-19 01:38:22,199 : Heading Extraction gonal-f_clean_ ΕΠΙΣΗΜΑΝΣΗ.json_4 : Match Passed | H | CAP |  el | 2 | gonal-f_clean_ ΕΠΙΣΗΜΑΝΣΗ.json | Doc txt :- '11. ΟΝΟΜΑ ΚΑΙ ΔΙΕΥΘΥΝΣΗ ΚΑΤΟΧΟΥ ΤΗΣ ΑΔΕΙΑΣ ΚΥΚΛΟΦΟΡΙΑΣ' | Qrd txt :- '11. ΟΝΟΜΑ ΚΑΙ ΔΙΕΥΘΥΝΣΗ ΚΑΤΟΧΟΥ ΤΗΣ ΑΔΕΙΑΣ ΚΥΚΛΟΦΟΡΙΑΣ' | Matched :- 'True'\n",
      "2021-06-19 01:38:22,233 : Heading Extraction gonal-f_clean_ ΕΠΙΣΗΜΑΝΣΗ.json_4 : Validation Passed | H | CAP |  el | 2 | gonal-f_clean_ ΕΠΙΣΗΜΑΝΣΗ.json | currHeadId :- '22013' | prevHeadingCurrId :- '22012' | prevHeadingFoundId :- '22012'\n",
      "2021-06-19 01:38:26,269 : Heading Extraction gonal-f_clean_ ΕΠΙΣΗΜΑΝΣΗ.json_4 : Match Passed | H | CAP |  el | 2 | gonal-f_clean_ ΕΠΙΣΗΜΑΝΣΗ.json | Doc txt :- '12. ΑΡΙΘΜΟΣ(ΟΙ) ΑΔΕΙΑΣ ΚΥΚΛΟΦΟΡΙΑΣ' | Qrd txt :- '12. ΑΡΙΘΜΟΣ(ΟΙ) ΑΔΕΙΑΣ ΚΥΚΛΟΦΟΡΙΑΣ' | Matched :- 'True'\n",
      "2021-06-19 01:38:26,302 : Heading Extraction gonal-f_clean_ ΕΠΙΣΗΜΑΝΣΗ.json_4 : Validation Passed | H | CAP |  el | 2 | gonal-f_clean_ ΕΠΙΣΗΜΑΝΣΗ.json | currHeadId :- '22014' | prevHeadingCurrId :- '22013' | prevHeadingFoundId :- '22013'\n",
      "2021-06-19 01:38:30,017 : Heading Extraction gonal-f_clean_ ΕΠΙΣΗΜΑΝΣΗ.json_4 : Match Passed : Contains<>|175.0|(53, 100, 90)|0.873| | H | CAP |  el | 2 | gonal-f_clean_ ΕΠΙΣΗΜΑΝΣΗ.json | Doc txt :- '13.     ΑΡΙΘΜΟΣ ΠΑΡΤΙΔΑΣ' | Qrd txt :- '13. ΑΡΙΘΜΟΣ ΠΑΡΤΙΔΑΣ<, ΣΤΟΙΧΕΙΑ ΔΟΤΗ ΚΑΙ ΚΩΔΙΚΟΙ ΠΡΟΪΟΝΤΟΣ>' | Matched :- 'True'\n",
      "2021-06-19 01:38:30,042 : Heading Extraction gonal-f_clean_ ΕΠΙΣΗΜΑΝΣΗ.json_4 : Validation Passed | H | CAP |  el | 2 | gonal-f_clean_ ΕΠΙΣΗΜΑΝΣΗ.json | currHeadId :- '22015' | prevHeadingCurrId :- '22014' | prevHeadingFoundId :- '22014'\n",
      "2021-06-19 01:38:31,248 : Heading Extraction gonal-f_clean_ ΕΠΙΣΗΜΑΝΣΗ.json_4 : Match Passed | H | CAP |  el | 2 | gonal-f_clean_ ΕΠΙΣΗΜΑΝΣΗ.json | Doc txt :- '14. ΓΕΝΙΚΗ ΚΑΤΑΤΑΞΗ ΓΙΑ ΤΗ ΔΙΑΘΕΣΗ' | Qrd txt :- '14. ΓΕΝΙΚΗ ΚΑΤΑΤΑΞΗ ΓΙΑ ΤΗ ΔΙΑΘΕΣΗ' | Matched :- 'True'\n",
      "2021-06-19 01:38:31,271 : Heading Extraction gonal-f_clean_ ΕΠΙΣΗΜΑΝΣΗ.json_4 : Validation Passed | H | CAP |  el | 2 | gonal-f_clean_ ΕΠΙΣΗΜΑΝΣΗ.json | currHeadId :- '22016' | prevHeadingCurrId :- '22015' | prevHeadingFoundId :- '22015'\n",
      "2021-06-19 01:38:31,868 : Heading Extraction gonal-f_clean_ ΕΠΙΣΗΜΑΝΣΗ.json_4 : Match Passed | H | CAP |  el | 2 | gonal-f_clean_ ΕΠΙΣΗΜΑΝΣΗ.json | Doc txt :- '15. ΟΔΗΓΙΕΣ ΧΡΗΣΗΣ' | Qrd txt :- '15. ΟΔΗΓΙΕΣ ΧΡΗΣΗΣ' | Matched :- 'True'\n",
      "2021-06-19 01:38:31,901 : Heading Extraction gonal-f_clean_ ΕΠΙΣΗΜΑΝΣΗ.json_4 : Validation Passed | H | CAP |  el | 2 | gonal-f_clean_ ΕΠΙΣΗΜΑΝΣΗ.json | currHeadId :- '22017' | prevHeadingCurrId :- '22016' | prevHeadingFoundId :- '22016'\n",
      "2021-06-19 01:38:32,536 : Heading Extraction gonal-f_clean_ ΕΠΙΣΗΜΑΝΣΗ.json_4 : Match Passed | H | CAP |  el | 2 | gonal-f_clean_ ΕΠΙΣΗΜΑΝΣΗ.json | Doc txt :- '16. ΠΛΗΡΟΦΟΡΙΕΣ ΣΕ BRAILLE' | Qrd txt :- '16. ΠΛΗΡΟΦΟΡΙΕΣ ΣΕ BRAILLE' | Matched :- 'True'\n"
     ]
    },
    {
     "name": "stderr",
     "output_type": "stream",
     "text": [
      "2021-06-19 01:38:32,560 : Heading Extraction gonal-f_clean_ ΕΠΙΣΗΜΑΝΣΗ.json_4 : Validation Passed | H | CAP |  el | 2 | gonal-f_clean_ ΕΠΙΣΗΜΑΝΣΗ.json | currHeadId :- '22018' | prevHeadingCurrId :- '22017' | prevHeadingFoundId :- '22017'\n",
      "2021-06-19 01:38:34,635 : Heading Extraction gonal-f_clean_ ΕΠΙΣΗΜΑΝΣΗ.json_4 : Match Passed | H | CAP |  el | 2 | gonal-f_clean_ ΕΠΙΣΗΜΑΝΣΗ.json | Doc txt :- '17. ΜΟΝΑΔΙΚΟΣ ΑΝΑΓΝΩΡΙΣΤΙΚΟΣ ΚΩΔΙΚΟΣ – ΔΙΣΔΙΑΣΤΑΤΟΣ ΓΡΑΜΜΩΤΟΣ ΚΩΔΙΚΑΣ (2D)' | Qrd txt :- '17. ΜΟΝΑΔΙΚΟΣ ΑΝΑΓΝΩΡΙΣΤΙΚΟΣ ΚΩΔΙΚΟΣ – ΔΙΣΔΙΑΣΤΑΤΟΣ ΓΡΑΜΜΩΤΟΣ ΚΩΔΙΚΑΣ (2D)' | Matched :- 'True'\n",
      "2021-06-19 01:38:34,676 : Heading Extraction gonal-f_clean_ ΕΠΙΣΗΜΑΝΣΗ.json_4 : Validation Passed | H | CAP |  el | 2 | gonal-f_clean_ ΕΠΙΣΗΜΑΝΣΗ.json | currHeadId :- '22019' | prevHeadingCurrId :- '22018' | prevHeadingFoundId :- '22018'\n",
      "2021-06-19 01:38:37,900 : Heading Extraction gonal-f_clean_ ΕΠΙΣΗΜΑΝΣΗ.json_4 : Match Passed | H | CAP |  el | 2 | gonal-f_clean_ ΕΠΙΣΗΜΑΝΣΗ.json | Doc txt :- '18. ΜΟΝΑΔΙΚΟΣ ΑΝΑΓΝΩΡΙΣΤΙΚΟΣ ΚΩΔΙΚΟΣ – ΔΕΔΟΜΕΝΑ ΑΝΑΓΝΩΣΙΜΑ ΑΠΟ ΤΟΝ ΑΝΘΡΩΠΟ' | Qrd txt :- '18. ΜΟΝΑΔΙΚΟΣ ΑΝΑΓΝΩΡΙΣΤΙΚΟΣ ΚΩΔΙΚΟΣ – ΔΕΔΟΜΕΝΑ ΑΝΑΓΝΩΣΙΜΑ ΑΠΟ ΤΟΝ ΑΝΘΡΩΠΟ' | Matched :- 'True'\n",
      "2021-06-19 01:38:37,934 : Heading Extraction gonal-f_clean_ ΕΠΙΣΗΜΑΝΣΗ.json_4 : Validation Passed | H | CAP |  el | 2 | gonal-f_clean_ ΕΠΙΣΗΜΑΝΣΗ.json | currHeadId :- '22020' | prevHeadingCurrId :- '22019' | prevHeadingFoundId :- '22019'\n",
      "2021-06-19 01:38:49,134 : Heading Extraction gonal-f_clean_ ΕΠΙΣΗΜΑΝΣΗ.json_4 : Match Passed | H | CAP |  el | 2 | gonal-f_clean_ ΕΠΙΣΗΜΑΝΣΗ.json | Doc txt :- 'ΕΛΑΧΙΣΤΕΣ ΕΝΔΕΙΞΕΙΣ ΠΟΥ ΠΡΕΠΕΙ ΝΑ ΑΝΑΓΡΑΦΟΝΤΑΙ ΣΤΙΣ ΜΙΚΡΕΣ ΣΤΟΙΧΕΙΩΔΕΙΣ ΣΥΣΚΕΥΑΣΙΕΣ' | Qrd txt :- 'ΕΛΑΧΙΣΤΕΣ ΕΝΔΕΙΞΕΙΣ ΠΟΥ ΠΡΕΠΕΙ ΝΑ ΑΝΑΓΡΑΦΟΝΤΑΙ ΣΤΙΣ ΜΙΚΡΕΣ ΣΤΟΙΧΕΙΩΔΕΙΣ ΣΥΣΚΕΥΑΣΙΕΣ' | Matched :- 'True'\n",
      "2021-06-19 01:38:49,183 : Heading Extraction gonal-f_clean_ ΕΠΙΣΗΜΑΝΣΗ.json_4 : Validation Flow Is Broken | H | CAP |  el | 2 | gonal-f_clean_ ΕΠΙΣΗΜΑΝΣΗ.json | currHeadId :- '22027' | prevHeadingCurrId :- '' | prevHeadingFoundId :- '22020'\n",
      "2021-06-19 01:38:49,207 : Heading Extraction gonal-f_clean_ ΕΠΙΣΗΜΑΝΣΗ.json_4 : Validation Passed | H | CAP |  el | 2 | gonal-f_clean_ ΕΠΙΣΗΜΑΝΣΗ.json | currHeadId :- '22027' | prevHeadingCurrId :- '22020' | prevHeadingFoundId :- '22020'\n",
      "2021-06-19 01:38:53,430 : Heading Extraction gonal-f_clean_ ΕΠΙΣΗΜΑΝΣΗ.json_4 : Match Passed | H | CAP |  el | 2 | gonal-f_clean_ ΕΠΙΣΗΜΑΝΣΗ.json | Doc txt :- '1. ΟΝΟΜΑΣΙΑ ΤΟΥ ΦΑΡΜΑΚΕΥΤΙΚΟΥ ΠΡΟΪΟΝΤΟΣ ΚΑΙ ΟΔΟΣ(ΟΙ) ΧΟΡΗΓΗΣΗΣ' | Qrd txt :- '1. ΟΝΟΜΑΣΙΑ ΤΟΥ ΦΑΡΜΑΚΕΥΤΙΚΟΥ ΠΡΟΪΟΝΤΟΣ ΚΑΙ ΟΔΟΣ(ΟΙ) ΧΟΡΗΓΗΣΗΣ' | Matched :- 'True'\n",
      "2021-06-19 01:38:53,465 : Heading Extraction gonal-f_clean_ ΕΠΙΣΗΜΑΝΣΗ.json_4 : Validation Passed | H | CAP |  el | 2 | gonal-f_clean_ ΕΠΙΣΗΜΑΝΣΗ.json | currHeadId :- '22028' | prevHeadingCurrId :- '22027' | prevHeadingFoundId :- '22027'\n",
      "2021-06-19 01:38:59,345 : Heading Extraction gonal-f_clean_ ΕΠΙΣΗΜΑΝΣΗ.json_4 : Match Passed | H | CAP |  el | 2 | gonal-f_clean_ ΕΠΙΣΗΜΑΝΣΗ.json | Doc txt :- '2. ΤΡΟΠΟΣ ΧΟΡΗΓΗΣΗΣ' | Qrd txt :- '2. ΤΡΟΠΟΣ ΧΟΡΗΓΗΣΗΣ' | Matched :- 'True'\n",
      "2021-06-19 01:38:59,381 : Heading Extraction gonal-f_clean_ ΕΠΙΣΗΜΑΝΣΗ.json_4 : Validation Passed | H | CAP |  el | 2 | gonal-f_clean_ ΕΠΙΣΗΜΑΝΣΗ.json | currHeadId :- '22029' | prevHeadingCurrId :- '22028' | prevHeadingFoundId :- '22028'\n",
      "2021-06-19 01:38:59,893 : Heading Extraction gonal-f_clean_ ΕΠΙΣΗΜΑΝΣΗ.json_4 : Match Passed : <=4|5.26|(95, 95, 95)|0.98| | H | CAP |  el | 2 | gonal-f_clean_ ΕΠΙΣΗΜΑΝΣΗ.json | Doc txt :- '3.       ΗΜΕΡΟΜΗΝΙΑ ΛΗΞΗΣ' | Qrd txt :- '8. ΗΜΕΡΟΜΗΝΙΑ ΛΗΞΗΣ' | Matched :- 'True'\n",
      "2021-06-19 01:38:59,929 : Heading Extraction gonal-f_clean_ ΕΠΙΣΗΜΑΝΣΗ.json_4 : Validation Failed As Previous Heading Found is not matching | H | CAP |  el | 2 | gonal-f_clean_ ΕΠΙΣΗΜΑΝΣΗ.json | currHeadId :- '22010' | prevHeadingCurrId :- '22009' | prevHeadingFoundId :- '22029'\n",
      "2021-06-19 01:39:00,778 : Heading Extraction gonal-f_clean_ ΕΠΙΣΗΜΑΝΣΗ.json_4 : Match Passed | H | CAP |  el | 2 | gonal-f_clean_ ΕΠΙΣΗΜΑΝΣΗ.json | Doc txt :- '3. ΗΜΕΡΟΜΗΝΙΑ ΛΗΞΗΣ' | Qrd txt :- '3. ΗΜΕΡΟΜΗΝΙΑ ΛΗΞΗΣ' | Matched :- 'True'\n",
      "2021-06-19 01:39:00,833 : Heading Extraction gonal-f_clean_ ΕΠΙΣΗΜΑΝΣΗ.json_4 : Validation Failed As Wrong Heading Found | H | CAP |  el | 2 | gonal-f_clean_ ΕΠΙΣΗΜΑΝΣΗ.json | currHeadId :- '22024' | prevHeadingCurrId :- '' | prevHeadingFoundId :- '22029'\n",
      "2021-06-19 01:39:01,074 : Heading Extraction gonal-f_clean_ ΕΠΙΣΗΜΑΝΣΗ.json_4 : Match Passed | H | CAP |  el | 2 | gonal-f_clean_ ΕΠΙΣΗΜΑΝΣΗ.json | Doc txt :- '3. ΗΜΕΡΟΜΗΝΙΑ ΛΗΞΗΣ' | Qrd txt :- '3. ΗΜΕΡΟΜΗΝΙΑ ΛΗΞΗΣ' | Matched :- 'True'\n",
      "2021-06-19 01:39:01,111 : Heading Extraction gonal-f_clean_ ΕΠΙΣΗΜΑΝΣΗ.json_4 : Validation Passed | H | CAP |  el | 2 | gonal-f_clean_ ΕΠΙΣΗΜΑΝΣΗ.json | currHeadId :- '22030' | prevHeadingCurrId :- '22029' | prevHeadingFoundId :- '22029'\n",
      "2021-06-19 01:39:03,934 : Heading Extraction gonal-f_clean_ ΕΠΙΣΗΜΑΝΣΗ.json_4 : Match Passed : Contains<>|194.74|(49, 95, 86)|0.758| | H | CAP |  el | 2 | gonal-f_clean_ ΕΠΙΣΗΜΑΝΣΗ.json | Doc txt :- '4.       ΑΡΙΘΜΟΣ ΠΑΡΤΙΔΑΣ' | Qrd txt :- '13. ΑΡΙΘΜΟΣ ΠΑΡΤΙΔΑΣ<, ΣΤΟΙΧΕΙΑ ΔΟΤΗ ΚΑΙ ΚΩΔΙΚΟΙ ΠΡΟΪΟΝΤΟΣ>' | Matched :- 'True'\n",
      "2021-06-19 01:39:03,966 : Heading Extraction gonal-f_clean_ ΕΠΙΣΗΜΑΝΣΗ.json_4 : Validation Failed As Previous Heading Found is not matching | H | CAP |  el | 2 | gonal-f_clean_ ΕΠΙΣΗΜΑΝΣΗ.json | currHeadId :- '22015' | prevHeadingCurrId :- '22014' | prevHeadingFoundId :- '22030'\n",
      "2021-06-19 01:39:04,360 : Heading Extraction gonal-f_clean_ ΕΠΙΣΗΜΑΝΣΗ.json_4 : Match Passed : Contains<>|184.21|(52, 100, 90)|0.87| | H | CAP |  el | 2 | gonal-f_clean_ ΕΠΙΣΗΜΑΝΣΗ.json | Doc txt :- '4.       ΑΡΙΘΜΟΣ ΠΑΡΤΙΔΑΣ' | Qrd txt :- '4. ΑΡΙΘΜΟΣ ΠΑΡΤΙΔΑΣ<, ΣΤΟΙΧΕΙΑ ΔΟΤΗ ΚΑΙ ΚΩΔΙΚΟΙ ΠΡΟΪΟΝΤΟΣ>' | Matched :- 'True'\n",
      "2021-06-19 01:39:04,393 : Heading Extraction gonal-f_clean_ ΕΠΙΣΗΜΑΝΣΗ.json_4 : Validation Failed As Wrong Heading Found | H | CAP |  el | 2 | gonal-f_clean_ ΕΠΙΣΗΜΑΝΣΗ.json | currHeadId :- '22025' | prevHeadingCurrId :- '' | prevHeadingFoundId :- '22030'\n",
      "2021-06-19 01:39:04,585 : Heading Extraction gonal-f_clean_ ΕΠΙΣΗΜΑΝΣΗ.json_4 : Match Passed : Contains<>|184.21|(52, 100, 90)|0.87| | H | CAP |  el | 2 | gonal-f_clean_ ΕΠΙΣΗΜΑΝΣΗ.json | Doc txt :- '4.       ΑΡΙΘΜΟΣ ΠΑΡΤΙΔΑΣ' | Qrd txt :- '4. ΑΡΙΘΜΟΣ ΠΑΡΤΙΔΑΣ<, ΣΤΟΙΧΕΙΑ ΔΟΤΗ ΚΑΙ ΚΩΔΙΚΟΙ ΠΡΟΪΟΝΤΟΣ>' | Matched :- 'True'\n",
      "2021-06-19 01:39:04,618 : Heading Extraction gonal-f_clean_ ΕΠΙΣΗΜΑΝΣΗ.json_4 : Validation Passed | H | CAP |  el | 2 | gonal-f_clean_ ΕΠΙΣΗΜΑΝΣΗ.json | currHeadId :- '22031' | prevHeadingCurrId :- '22030' | prevHeadingFoundId :- '22030'\n",
      "2021-06-19 01:39:06,169 : Heading Extraction gonal-f_clean_ ΕΠΙΣΗΜΑΝΣΗ.json_4 : Match Passed : <=7|2.5|(98, 98, 98)|0.995| | H | CAP |  el | 2 | gonal-f_clean_ ΕΠΙΣΗΜΑΝΣΗ.json | Doc txt :- '5.       ΠΕΡΙΕΧΟΜΕΝΟ ΚΑΤΑ ΒΑPΟΣ, ΚΑΤ' ΟΓΚΟ Ή ΚΑΤΑ ΜΟΝΑΔΑ' | Qrd txt :- '5. ΠΕΡΙΕΧΟΜΕΝΟ ΚΑΤΑ ΒΑΡΟΣ, ΚΑΤ' ΟΓΚΟ Ή ΚΑΤΑ ΜΟΝΑΔΑ' | Matched :- 'True'\n",
      "2021-06-19 01:39:06,201 : Heading Extraction gonal-f_clean_ ΕΠΙΣΗΜΑΝΣΗ.json_4 : Validation Passed | H | CAP |  el | 2 | gonal-f_clean_ ΕΠΙΣΗΜΑΝΣΗ.json | currHeadId :- '22032' | prevHeadingCurrId :- '22031' | prevHeadingFoundId :- '22031'\n",
      "2021-06-19 01:39:07,640 : Heading Extraction gonal-f_clean_ ΕΠΙΣΗΜΑΝΣΗ.json_4 : Match Passed : <=4|6.25|(94, 94, 94)|0.975| | H | CAP |  el | 2 | gonal-f_clean_ ΕΠΙΣΗΜΑΝΣΗ.json | Doc txt :- '6.       ΑΛΛΑ ΣΤΟΙΧΕΙΑ' | Qrd txt :- '5. ΑΛΛΑ ΣΤΟΙΧΕΙΑ' | Matched :- 'True'\n",
      "2021-06-19 01:39:07,676 : Heading Extraction gonal-f_clean_ ΕΠΙΣΗΜΑΝΣΗ.json_4 : Validation Failed As Wrong Heading Found | H | CAP |  el | 2 | gonal-f_clean_ ΕΠΙΣΗΜΑΝΣΗ.json | currHeadId :- '22026' | prevHeadingCurrId :- '' | prevHeadingFoundId :- '22032'\n",
      "2021-06-19 01:39:07,875 : Heading Extraction gonal-f_clean_ ΕΠΙΣΗΜΑΝΣΗ.json_4 : Match Passed | H | CAP |  el | 2 | gonal-f_clean_ ΕΠΙΣΗΜΑΝΣΗ.json | Doc txt :- '6. ΑΛΛΑ ΣΤΟΙΧΕΙΑ' | Qrd txt :- '6. ΑΛΛΑ ΣΤΟΙΧΕΙΑ' | Matched :- 'True'\n",
      "2021-06-19 01:39:07,905 : Heading Extraction gonal-f_clean_ ΕΠΙΣΗΜΑΝΣΗ.json_4 : Validation Passed | H | CAP |  el | 2 | gonal-f_clean_ ΕΠΙΣΗΜΑΝΣΗ.json | currHeadId :- '22033' | prevHeadingCurrId :- '22032' | prevHeadingFoundId :- '22032'\n",
      "2021-06-19 01:39:07,995 : Heading Extraction gonal-f_clean_ ΕΠΙΣΗΜΑΝΣΗ.json_4 : Match Passed : Contains<>|76.0|(72, 88, 86)|0.922| | H | CAP |  el | 2 | gonal-f_clean_ ΕΠΙΣΗΜΑΝΣΗ.json | Doc txt :- 'ΕΝΔΕΙΞΕΙΣ ΠΟΥ ΠΡΕΠΕΙ ΝΑ ΑΝΑΓΡΑΦΟΝΤΑΙ ΣΤΗΝ ΕΞΩΤΕΡΙΚΗ ΣΥΣΚΕΥΑΣΙΑ' | Qrd txt :- 'ΕΝΔΕΙΞΕΙΣ ΠΟΥ ΠΡΕΠΕΙ ΝΑ ΑΝΑΓΡΑΦΟΝΤΑΙ <ΣΤΗΝ ΕΞΩΤΕΡΙΚΗ ΣΥΣΚΕΥΑΣΙΑ> <ΚΑΙ> < ΣΤΗ ΣΤΟΙΧΕΙΩΔΗ ΣΥΣΚΕΥΑΣΙΑ>' | Matched :- 'True'\n"
     ]
    },
    {
     "name": "stderr",
     "output_type": "stream",
     "text": [
      "2021-06-19 01:39:08,026 : Heading Extraction gonal-f_clean_ ΕΠΙΣΗΜΑΝΣΗ.json_4 : Validation Failed As Wrong Heading Found | H | CAP |  el | 2 | gonal-f_clean_ ΕΠΙΣΗΜΑΝΣΗ.json | currHeadId :- '22002' | prevHeadingCurrId :- '' | prevHeadingFoundId :- '22033'\n",
      "2021-06-19 01:39:09,401 : Heading Extraction gonal-f_clean_ ΕΠΙΣΗΜΑΝΣΗ.json_4 : End Of Sub Section | H | CAP |  el | 2 | gonal-f_clean_ ΕΠΙΣΗΜΑΝΣΗ.json\n",
      "2021-06-19 01:39:09,478 : Heading Extraction gonal-f_clean_ ΕΠΙΣΗΜΑΝΣΗ.json_4 : Match Passed : Contains<>|76.0|(72, 88, 86)|0.922| | H | CAP |  el | 2 | gonal-f_clean_ ΕΠΙΣΗΜΑΝΣΗ.json | Doc txt :- 'ΕΝΔΕΙΞΕΙΣ ΠΟΥ ΠΡΕΠΕΙ ΝΑ ΑΝΑΓΡΑΦΟΝΤΑΙ ΣΤΗΝ ΕΞΩΤΕΡΙΚΗ ΣΥΣΚΕΥΑΣΙΑ' | Qrd txt :- 'ΕΝΔΕΙΞΕΙΣ ΠΟΥ ΠΡΕΠΕΙ ΝΑ ΑΝΑΓΡΑΦΟΝΤΑΙ <ΣΤΗΝ ΕΞΩΤΕΡΙΚΗ ΣΥΣΚΕΥΑΣΙΑ> <ΚΑΙ> < ΣΤΗ ΣΤΟΙΧΕΙΩΔΗ ΣΥΣΚΕΥΑΣΙΑ>' | Matched :- 'True'\n",
      "2021-06-19 01:39:09,499 : Heading Extraction gonal-f_clean_ ΕΠΙΣΗΜΑΝΣΗ.json_4 : Validation Passed As This The First Heading | H | CAP |  el | 2 | gonal-f_clean_ ΕΠΙΣΗΜΑΝΣΗ.json | currHeadId :- '22002' | prevHeadingCurrId :- '' | prevHeadingFoundId :- ''\n"
     ]
    },
    {
     "name": "stdout",
     "output_type": "stream",
     "text": [
      "oooooooooooooooooooooooooooooooooooooooo END OF Sub Section oooooooooooooooooooooooooooooooooooooooooooooooooooooooooooo\n"
     ]
    },
    {
     "name": "stderr",
     "output_type": "stream",
     "text": [
      "2021-06-19 01:39:11,810 : Heading Extraction gonal-f_clean_ ΕΠΙΣΗΜΑΝΣΗ.json_4 : Match Passed | H | CAP |  el | 2 | gonal-f_clean_ ΕΠΙΣΗΜΑΝΣΗ.json | Doc txt :- '1. ΟΝΟΜΑΣΙΑ ΤΟΥ ΦΑΡΜΑΚΕΥΤΙΚΟΥ ΠΡΟΪΟΝΤΟΣ' | Qrd txt :- '1. ΟΝΟΜΑΣΙΑ ΤΟΥ ΦΑΡΜΑΚΕΥΤΙΚΟΥ ΠΡΟΪΟΝΤΟΣ' | Matched :- 'True'\n",
      "2021-06-19 01:39:11,836 : Heading Extraction gonal-f_clean_ ΕΠΙΣΗΜΑΝΣΗ.json_4 : Validation Passed | H | CAP |  el | 2 | gonal-f_clean_ ΕΠΙΣΗΜΑΝΣΗ.json | currHeadId :- '22003' | prevHeadingCurrId :- '22002' | prevHeadingFoundId :- '22002'\n",
      "2021-06-19 01:39:14,610 : Heading Extraction gonal-f_clean_ ΕΠΙΣΗΜΑΝΣΗ.json_4 : Match Passed | H | CAP |  el | 2 | gonal-f_clean_ ΕΠΙΣΗΜΑΝΣΗ.json | Doc txt :- '2. ΣΥΝΘΕΣΗ ΣΕ ΔΡΑΣΤΙΚΗ(ΕΣ) ΟΥΣΙΑ(ΕΣ)' | Qrd txt :- '2. ΣΥΝΘΕΣΗ ΣΕ ΔΡΑΣΤΙΚΗ(ΕΣ) ΟΥΣΙΑ(ΕΣ)' | Matched :- 'True'\n",
      "2021-06-19 01:39:14,633 : Heading Extraction gonal-f_clean_ ΕΠΙΣΗΜΑΝΣΗ.json_4 : Validation Passed | H | CAP |  el | 2 | gonal-f_clean_ ΕΠΙΣΗΜΑΝΣΗ.json | currHeadId :- '22004' | prevHeadingCurrId :- '22003' | prevHeadingFoundId :- '22003'\n",
      "2021-06-19 01:39:18,364 : Heading Extraction gonal-f_clean_ ΕΠΙΣΗΜΑΝΣΗ.json_4 : Match Passed | H | CAP |  el | 2 | gonal-f_clean_ ΕΠΙΣΗΜΑΝΣΗ.json | Doc txt :- '3. ΚΑΤΑΛΟΓΟΣ ΕΚΔΟΧΩΝ' | Qrd txt :- '3. ΚΑΤΑΛΟΓΟΣ ΕΚΔΟΧΩΝ' | Matched :- 'True'\n",
      "2021-06-19 01:39:18,388 : Heading Extraction gonal-f_clean_ ΕΠΙΣΗΜΑΝΣΗ.json_4 : Validation Passed | H | CAP |  el | 2 | gonal-f_clean_ ΕΠΙΣΗΜΑΝΣΗ.json | currHeadId :- '22005' | prevHeadingCurrId :- '22004' | prevHeadingFoundId :- '22004'\n",
      "2021-06-19 01:39:21,109 : Heading Extraction gonal-f_clean_ ΕΠΙΣΗΜΑΝΣΗ.json_4 : Match Passed | H | CAP |  el | 2 | gonal-f_clean_ ΕΠΙΣΗΜΑΝΣΗ.json | Doc txt :- '4. ΦΑΡΜΑΚΟΤΕΧΝΙΚΗ ΜΟΡΦΗ ΚΑΙ ΠΕΡΙΕΧΟΜΕΝΟ' | Qrd txt :- '4. ΦΑΡΜΑΚΟΤΕΧΝΙΚΗ ΜΟΡΦΗ ΚΑΙ ΠΕΡΙΕΧΟΜΕΝΟ' | Matched :- 'True'\n",
      "2021-06-19 01:39:21,133 : Heading Extraction gonal-f_clean_ ΕΠΙΣΗΜΑΝΣΗ.json_4 : Validation Passed | H | CAP |  el | 2 | gonal-f_clean_ ΕΠΙΣΗΜΑΝΣΗ.json | currHeadId :- '22006' | prevHeadingCurrId :- '22005' | prevHeadingFoundId :- '22005'\n",
      "2021-06-19 01:39:25,743 : Heading Extraction gonal-f_clean_ ΕΠΙΣΗΜΑΝΣΗ.json_4 : Match Passed : <=7|3.03|(98, 97, 98)|0.997| | H | CAP |  el | 2 | gonal-f_clean_ ΕΠΙΣΗΜΑΝΣΗ.json | Doc txt :- '5.       ΤΡΟΠΟΣ ΚΑΙ, ΟΔΟΣ(ΟΙ) ΧΟΡΗΓΗΣΗΣ' | Qrd txt :- '5. ΤΡΟΠΟΣ ΚΑΙ ΟΔΟΣ(ΟΙ) ΧΟΡΗΓΗΣΗΣ' | Matched :- 'True'\n",
      "2021-06-19 01:39:25,773 : Heading Extraction gonal-f_clean_ ΕΠΙΣΗΜΑΝΣΗ.json_4 : Validation Passed | H | CAP |  el | 2 | gonal-f_clean_ ΕΠΙΣΗΜΑΝΣΗ.json | currHeadId :- '22007' | prevHeadingCurrId :- '22006' | prevHeadingFoundId :- '22006'\n",
      "2021-06-19 01:39:29,296 : Heading Extraction gonal-f_clean_ ΕΠΙΣΗΜΑΝΣΗ.json_4 : Match Passed | H | CAP |  el | 2 | gonal-f_clean_ ΕΠΙΣΗΜΑΝΣΗ.json | Doc txt :- '6. ΕΙΔΙΚΗ ΠΡΟΕΙΔΟΠΟΙΗΣΗ ΣΥΜΦΩΝΑ ΜΕ ΤΗΝ ΟΠΟΙΑ ΤΟ ΦΑΡΜΑΚΕΥΤΙΚΟ ΠΡΟΪΟΝ ΠΡΕΠΕΙ ΝΑ ΦΥΛΑΣΣΕΤΑΙ ΣΕ ΘΕΣΗ ΤΗΝ ΟΠΟΙΑ ΔΕΝ ΒΛΕΠΟΥΝ ΚΑΙ ΔΕΝ ΠΡΟΣΕΓΓΙΖΟΥΝ ΤΑ ΠΑΙΔΙΑ' | Qrd txt :- '6. ΕΙΔΙΚΗ ΠΡΟΕΙΔΟΠΟΙΗΣΗ ΣΥΜΦΩΝΑ ΜΕ ΤΗΝ ΟΠΟΙΑ ΤΟ ΦΑΡΜΑΚΕΥΤΙΚΟ ΠΡΟΪΟΝ ΠΡΕΠΕΙ ΝΑ ΦΥΛΑΣΣΕΤΑΙ ΣΕ ΘΕΣΗ ΤΗΝ ΟΠΟΙΑ ΔΕΝ ΒΛΕΠΟΥΝ ΚΑΙ ΔΕΝ ΠΡΟΣΕΓΓΙΖΟΥΝ ΤΑ ΠΑΙΔΙΑ' | Matched :- 'True'\n",
      "2021-06-19 01:39:29,326 : Heading Extraction gonal-f_clean_ ΕΠΙΣΗΜΑΝΣΗ.json_4 : Validation Passed | H | CAP |  el | 2 | gonal-f_clean_ ΕΠΙΣΗΜΑΝΣΗ.json | currHeadId :- '22008' | prevHeadingCurrId :- '22007' | prevHeadingFoundId :- '22007'\n",
      "2021-06-19 01:39:31,305 : Heading Extraction gonal-f_clean_ ΕΠΙΣΗΜΑΝΣΗ.json_4 : Match Passed | H | CAP |  el | 2 | gonal-f_clean_ ΕΠΙΣΗΜΑΝΣΗ.json | Doc txt :- '7. ΑΛΛΗ(ΕΣ) ΕΙΔΙΚΗ(ΕΣ) ΠΡΟΕΙΔΟΠΟΙΗΣΗ(ΕΙΣ), ΕΑΝ ΕΙΝΑΙ ΑΠΑΡΑΙΤΗΤΗ(ΕΣ)' | Qrd txt :- '7. ΑΛΛΗ(ΕΣ) ΕΙΔΙΚΗ(ΕΣ) ΠΡΟΕΙΔΟΠΟΙΗΣΗ(ΕΙΣ), ΕΑΝ ΕΙΝΑΙ ΑΠΑΡΑΙΤΗΤΗ(ΕΣ)' | Matched :- 'True'\n",
      "2021-06-19 01:39:31,324 : Heading Extraction gonal-f_clean_ ΕΠΙΣΗΜΑΝΣΗ.json_4 : Validation Passed | H | CAP |  el | 2 | gonal-f_clean_ ΕΠΙΣΗΜΑΝΣΗ.json | currHeadId :- '22009' | prevHeadingCurrId :- '22008' | prevHeadingFoundId :- '22008'\n",
      "2021-06-19 01:39:31,756 : Heading Extraction gonal-f_clean_ ΕΠΙΣΗΜΑΝΣΗ.json_4 : Match Passed | H | CAP |  el | 2 | gonal-f_clean_ ΕΠΙΣΗΜΑΝΣΗ.json | Doc txt :- '8. ΗΜΕΡΟΜΗΝΙΑ ΛΗΞΗΣ' | Qrd txt :- '8. ΗΜΕΡΟΜΗΝΙΑ ΛΗΞΗΣ' | Matched :- 'True'\n",
      "2021-06-19 01:39:31,776 : Heading Extraction gonal-f_clean_ ΕΠΙΣΗΜΑΝΣΗ.json_4 : Validation Passed | H | CAP |  el | 2 | gonal-f_clean_ ΕΠΙΣΗΜΑΝΣΗ.json | currHeadId :- '22010' | prevHeadingCurrId :- '22009' | prevHeadingFoundId :- '22009'\n",
      "2021-06-19 01:39:32,187 : Heading Extraction gonal-f_clean_ ΕΠΙΣΗΜΑΝΣΗ.json_4 : Match Passed | H | CAP |  el | 2 | gonal-f_clean_ ΕΠΙΣΗΜΑΝΣΗ.json | Doc txt :- '9. ΕΙΔΙΚΕΣ ΣΥΝΘΗΚΕΣ ΦΥΛΑΞΗΣ' | Qrd txt :- '9. ΕΙΔΙΚΕΣ ΣΥΝΘΗΚΕΣ ΦΥΛΑΞΗΣ' | Matched :- 'True'\n",
      "2021-06-19 01:39:32,210 : Heading Extraction gonal-f_clean_ ΕΠΙΣΗΜΑΝΣΗ.json_4 : Validation Passed | H | CAP |  el | 2 | gonal-f_clean_ ΕΠΙΣΗΜΑΝΣΗ.json | currHeadId :- '22011' | prevHeadingCurrId :- '22010' | prevHeadingFoundId :- '22010'\n",
      "2021-06-19 01:39:36,554 : Heading Extraction gonal-f_clean_ ΕΠΙΣΗΜΑΝΣΗ.json_4 : Match Passed | H | CAP |  el | 2 | gonal-f_clean_ ΕΠΙΣΗΜΑΝΣΗ.json | Doc txt :- '10. ΙΔΙΑΙΤΕΡΕΣ ΠΡΟΦΥΛΑΞΕΙΣ ΓΙΑ ΤΗΝ ΑΠΟΡΡΙΨΗ ΤΩΝ ΜΗ ΧΡΗΣΙΜΟΠΟΙΗΘΕΝΤΩΝ ΦΑΡΜΑΚΕΥΤΙΚΩΝ ΠΡΟΪΟΝΤΩΝ Ή ΤΩΝ ΥΠΟΛΕΙΜΜΑΤΩΝ ΠΟΥ ΠΡΟΕΡΧΟΝΤΑΙ ΑΠΟ ΑΥΤΑ, ΕΦΟΣΟΝ ΑΠΑΙΤΕΙΤΑΙ' | Qrd txt :- '10. ΙΔΙΑΙΤΕΡΕΣ ΠΡΟΦΥΛΑΞΕΙΣ ΓΙΑ ΤΗΝ ΑΠΟΡΡΙΨΗ ΤΩΝ ΜΗ ΧΡΗΣΙΜΟΠΟΙΗΘΕΝΤΩΝ ΦΑΡΜΑΚΕΥΤΙΚΩΝ ΠΡΟΪΟΝΤΩΝ Ή ΤΩΝ ΥΠΟΛΕΙΜΜΑΤΩΝ ΠΟΥ ΠΡΟΕΡΧΟΝΤΑΙ ΑΠΟ ΑΥΤΑ, ΕΦΟΣΟΝ ΑΠΑΙΤΕΙΤΑΙ' | Matched :- 'True'\n",
      "2021-06-19 01:39:36,578 : Heading Extraction gonal-f_clean_ ΕΠΙΣΗΜΑΝΣΗ.json_4 : Validation Passed | H | CAP |  el | 2 | gonal-f_clean_ ΕΠΙΣΗΜΑΝΣΗ.json | currHeadId :- '22012' | prevHeadingCurrId :- '22011' | prevHeadingFoundId :- '22011'\n",
      "2021-06-19 01:39:39,264 : Heading Extraction gonal-f_clean_ ΕΠΙΣΗΜΑΝΣΗ.json_4 : Match Passed | H | CAP |  el | 2 | gonal-f_clean_ ΕΠΙΣΗΜΑΝΣΗ.json | Doc txt :- '11. ΟΝΟΜΑ ΚΑΙ ΔΙΕΥΘΥΝΣΗ ΚΑΤΟΧΟΥ ΤΗΣ ΑΔΕΙΑΣ ΚΥΚΛΟΦΟΡΙΑΣ' | Qrd txt :- '11. ΟΝΟΜΑ ΚΑΙ ΔΙΕΥΘΥΝΣΗ ΚΑΤΟΧΟΥ ΤΗΣ ΑΔΕΙΑΣ ΚΥΚΛΟΦΟΡΙΑΣ' | Matched :- 'True'\n",
      "2021-06-19 01:39:39,295 : Heading Extraction gonal-f_clean_ ΕΠΙΣΗΜΑΝΣΗ.json_4 : Validation Passed | H | CAP |  el | 2 | gonal-f_clean_ ΕΠΙΣΗΜΑΝΣΗ.json | currHeadId :- '22013' | prevHeadingCurrId :- '22012' | prevHeadingFoundId :- '22012'\n",
      "2021-06-19 01:39:43,133 : Heading Extraction gonal-f_clean_ ΕΠΙΣΗΜΑΝΣΗ.json_4 : Match Passed | H | CAP |  el | 2 | gonal-f_clean_ ΕΠΙΣΗΜΑΝΣΗ.json | Doc txt :- '12. ΑΡΙΘΜΟΣ(ΟΙ) ΑΔΕΙΑΣ ΚΥΚΛΟΦΟΡΙΑΣ' | Qrd txt :- '12. ΑΡΙΘΜΟΣ(ΟΙ) ΑΔΕΙΑΣ ΚΥΚΛΟΦΟΡΙΑΣ' | Matched :- 'True'\n",
      "2021-06-19 01:39:43,179 : Heading Extraction gonal-f_clean_ ΕΠΙΣΗΜΑΝΣΗ.json_4 : Validation Passed | H | CAP |  el | 2 | gonal-f_clean_ ΕΠΙΣΗΜΑΝΣΗ.json | currHeadId :- '22014' | prevHeadingCurrId :- '22013' | prevHeadingFoundId :- '22013'\n",
      "2021-06-19 01:39:49,413 : Heading Extraction gonal-f_clean_ ΕΠΙΣΗΜΑΝΣΗ.json_4 : Match Passed : Contains<>|175.0|(53, 100, 90)|0.873| | H | CAP |  el | 2 | gonal-f_clean_ ΕΠΙΣΗΜΑΝΣΗ.json | Doc txt :- '13.     ΑΡΙΘΜΟΣ ΠΑΡΤΙΔΑΣ' | Qrd txt :- '13. ΑΡΙΘΜΟΣ ΠΑΡΤΙΔΑΣ<, ΣΤΟΙΧΕΙΑ ΔΟΤΗ ΚΑΙ ΚΩΔΙΚΟΙ ΠΡΟΪΟΝΤΟΣ>' | Matched :- 'True'\n",
      "2021-06-19 01:39:49,471 : Heading Extraction gonal-f_clean_ ΕΠΙΣΗΜΑΝΣΗ.json_4 : Validation Passed | H | CAP |  el | 2 | gonal-f_clean_ ΕΠΙΣΗΜΑΝΣΗ.json | currHeadId :- '22015' | prevHeadingCurrId :- '22014' | prevHeadingFoundId :- '22014'\n",
      "2021-06-19 01:39:51,709 : Heading Extraction gonal-f_clean_ ΕΠΙΣΗΜΑΝΣΗ.json_4 : Match Passed | H | CAP |  el | 2 | gonal-f_clean_ ΕΠΙΣΗΜΑΝΣΗ.json | Doc txt :- '14. ΓΕΝΙΚΗ ΚΑΤΑΤΑΞΗ ΓΙΑ ΤΗ ΔΙΑΘΕΣΗ' | Qrd txt :- '14. ΓΕΝΙΚΗ ΚΑΤΑΤΑΞΗ ΓΙΑ ΤΗ ΔΙΑΘΕΣΗ' | Matched :- 'True'\n",
      "2021-06-19 01:39:51,768 : Heading Extraction gonal-f_clean_ ΕΠΙΣΗΜΑΝΣΗ.json_4 : Validation Passed | H | CAP |  el | 2 | gonal-f_clean_ ΕΠΙΣΗΜΑΝΣΗ.json | currHeadId :- '22016' | prevHeadingCurrId :- '22015' | prevHeadingFoundId :- '22015'\n",
      "2021-06-19 01:39:52,802 : Heading Extraction gonal-f_clean_ ΕΠΙΣΗΜΑΝΣΗ.json_4 : Match Passed | H | CAP |  el | 2 | gonal-f_clean_ ΕΠΙΣΗΜΑΝΣΗ.json | Doc txt :- '15. ΟΔΗΓΙΕΣ ΧΡΗΣΗΣ' | Qrd txt :- '15. ΟΔΗΓΙΕΣ ΧΡΗΣΗΣ' | Matched :- 'True'\n",
      "2021-06-19 01:39:52,849 : Heading Extraction gonal-f_clean_ ΕΠΙΣΗΜΑΝΣΗ.json_4 : Validation Passed | H | CAP |  el | 2 | gonal-f_clean_ ΕΠΙΣΗΜΑΝΣΗ.json | currHeadId :- '22017' | prevHeadingCurrId :- '22016' | prevHeadingFoundId :- '22016'\n",
      "2021-06-19 01:39:53,860 : Heading Extraction gonal-f_clean_ ΕΠΙΣΗΜΑΝΣΗ.json_4 : Match Passed : <=4|3.85|(96, 96, 96)|0.991| | H | CAP |  el | 2 | gonal-f_clean_ ΕΠΙΣΗΜΑΝΣΗ.json | Doc txt :- '16.     ΠΛΗΡΟΦΟΡΙΕΣ ΣΕ ΒRAILLE' | Qrd txt :- '16. ΠΛΗΡΟΦΟΡΙΕΣ ΣΕ BRAILLE' | Matched :- 'True'\n"
     ]
    },
    {
     "name": "stderr",
     "output_type": "stream",
     "text": [
      "2021-06-19 01:39:53,898 : Heading Extraction gonal-f_clean_ ΕΠΙΣΗΜΑΝΣΗ.json_4 : Validation Passed | H | CAP |  el | 2 | gonal-f_clean_ ΕΠΙΣΗΜΑΝΣΗ.json | currHeadId :- '22018' | prevHeadingCurrId :- '22017' | prevHeadingFoundId :- '22017'\n",
      "2021-06-19 01:39:56,312 : Heading Extraction gonal-f_clean_ ΕΠΙΣΗΜΑΝΣΗ.json_4 : Match Passed | H | CAP |  el | 2 | gonal-f_clean_ ΕΠΙΣΗΜΑΝΣΗ.json | Doc txt :- '17. ΜΟΝΑΔΙΚΟΣ ΑΝΑΓΝΩΡΙΣΤΙΚΟΣ ΚΩΔΙΚΟΣ – ΔΙΣΔΙΑΣΤΑΤΟΣ ΓΡΑΜΜΩΤΟΣ ΚΩΔΙΚΑΣ (2D)' | Qrd txt :- '17. ΜΟΝΑΔΙΚΟΣ ΑΝΑΓΝΩΡΙΣΤΙΚΟΣ ΚΩΔΙΚΟΣ – ΔΙΣΔΙΑΣΤΑΤΟΣ ΓΡΑΜΜΩΤΟΣ ΚΩΔΙΚΑΣ (2D)' | Matched :- 'True'\n",
      "2021-06-19 01:39:56,340 : Heading Extraction gonal-f_clean_ ΕΠΙΣΗΜΑΝΣΗ.json_4 : Validation Passed | H | CAP |  el | 2 | gonal-f_clean_ ΕΠΙΣΗΜΑΝΣΗ.json | currHeadId :- '22019' | prevHeadingCurrId :- '22018' | prevHeadingFoundId :- '22018'\n",
      "2021-06-19 01:40:00,308 : Heading Extraction gonal-f_clean_ ΕΠΙΣΗΜΑΝΣΗ.json_4 : Match Passed | H | CAP |  el | 2 | gonal-f_clean_ ΕΠΙΣΗΜΑΝΣΗ.json | Doc txt :- '18. ΜΟΝΑΔΙΚΟΣ ΑΝΑΓΝΩΡΙΣΤΙΚΟΣ ΚΩΔΙΚΟΣ – ΔΕΔΟΜΕΝΑ ΑΝΑΓΝΩΣΙΜΑ ΑΠΟ ΤΟΝ ΑΝΘΡΩΠΟ' | Qrd txt :- '18. ΜΟΝΑΔΙΚΟΣ ΑΝΑΓΝΩΡΙΣΤΙΚΟΣ ΚΩΔΙΚΟΣ – ΔΕΔΟΜΕΝΑ ΑΝΑΓΝΩΣΙΜΑ ΑΠΟ ΤΟΝ ΑΝΘΡΩΠΟ' | Matched :- 'True'\n",
      "2021-06-19 01:40:00,343 : Heading Extraction gonal-f_clean_ ΕΠΙΣΗΜΑΝΣΗ.json_4 : Validation Passed | H | CAP |  el | 2 | gonal-f_clean_ ΕΠΙΣΗΜΑΝΣΗ.json | currHeadId :- '22020' | prevHeadingCurrId :- '22019' | prevHeadingFoundId :- '22019'\n",
      "2021-06-19 01:40:08,198 : Heading Extraction gonal-f_clean_ ΕΠΙΣΗΜΑΝΣΗ.json_4 : Match Passed | H | CAP |  el | 2 | gonal-f_clean_ ΕΠΙΣΗΜΑΝΣΗ.json | Doc txt :- 'ΕΛΑΧΙΣΤΕΣ ΕΝΔΕΙΞΕΙΣ ΠΟΥ ΠΡΕΠΕΙ ΝΑ ΑΝΑΓΡΑΦΟΝΤΑΙ ΣΤΙΣ ΜΙΚΡΕΣ ΣΤΟΙΧΕΙΩΔΕΙΣ ΣΥΣΚΕΥΑΣΙΕΣ' | Qrd txt :- 'ΕΛΑΧΙΣΤΕΣ ΕΝΔΕΙΞΕΙΣ ΠΟΥ ΠΡΕΠΕΙ ΝΑ ΑΝΑΓΡΑΦΟΝΤΑΙ ΣΤΙΣ ΜΙΚΡΕΣ ΣΤΟΙΧΕΙΩΔΕΙΣ ΣΥΣΚΕΥΑΣΙΕΣ' | Matched :- 'True'\n",
      "2021-06-19 01:40:08,226 : Heading Extraction gonal-f_clean_ ΕΠΙΣΗΜΑΝΣΗ.json_4 : Validation Flow Is Broken | H | CAP |  el | 2 | gonal-f_clean_ ΕΠΙΣΗΜΑΝΣΗ.json | currHeadId :- '22027' | prevHeadingCurrId :- '' | prevHeadingFoundId :- '22020'\n",
      "2021-06-19 01:40:08,242 : Heading Extraction gonal-f_clean_ ΕΠΙΣΗΜΑΝΣΗ.json_4 : Validation Passed | H | CAP |  el | 2 | gonal-f_clean_ ΕΠΙΣΗΜΑΝΣΗ.json | currHeadId :- '22027' | prevHeadingCurrId :- '22020' | prevHeadingFoundId :- '22020'\n",
      "2021-06-19 01:40:11,879 : Heading Extraction gonal-f_clean_ ΕΠΙΣΗΜΑΝΣΗ.json_4 : Match Passed | H | CAP |  el | 2 | gonal-f_clean_ ΕΠΙΣΗΜΑΝΣΗ.json | Doc txt :- '1. ΟΝΟΜΑΣΙΑ ΤΟΥ ΦΑΡΜΑΚΕΥΤΙΚΟΥ ΠΡΟΪΟΝΤΟΣ ΚΑΙ ΟΔΟΣ(ΟΙ) ΧΟΡΗΓΗΣΗΣ' | Qrd txt :- '1. ΟΝΟΜΑΣΙΑ ΤΟΥ ΦΑΡΜΑΚΕΥΤΙΚΟΥ ΠΡΟΪΟΝΤΟΣ ΚΑΙ ΟΔΟΣ(ΟΙ) ΧΟΡΗΓΗΣΗΣ' | Matched :- 'True'\n",
      "2021-06-19 01:40:11,898 : Heading Extraction gonal-f_clean_ ΕΠΙΣΗΜΑΝΣΗ.json_4 : Validation Passed | H | CAP |  el | 2 | gonal-f_clean_ ΕΠΙΣΗΜΑΝΣΗ.json | currHeadId :- '22028' | prevHeadingCurrId :- '22027' | prevHeadingFoundId :- '22027'\n",
      "2021-06-19 01:40:16,389 : Heading Extraction gonal-f_clean_ ΕΠΙΣΗΜΑΝΣΗ.json_4 : Match Passed | H | CAP |  el | 2 | gonal-f_clean_ ΕΠΙΣΗΜΑΝΣΗ.json | Doc txt :- '2. ΤΡΟΠΟΣ ΧΟΡΗΓΗΣΗΣ' | Qrd txt :- '2. ΤΡΟΠΟΣ ΧΟΡΗΓΗΣΗΣ' | Matched :- 'True'\n",
      "2021-06-19 01:40:16,424 : Heading Extraction gonal-f_clean_ ΕΠΙΣΗΜΑΝΣΗ.json_4 : Validation Passed | H | CAP |  el | 2 | gonal-f_clean_ ΕΠΙΣΗΜΑΝΣΗ.json | currHeadId :- '22029' | prevHeadingCurrId :- '22028' | prevHeadingFoundId :- '22028'\n",
      "2021-06-19 01:40:16,790 : Heading Extraction gonal-f_clean_ ΕΠΙΣΗΜΑΝΣΗ.json_4 : Match Passed : <=4|5.26|(95, 95, 95)|0.98| | H | CAP |  el | 2 | gonal-f_clean_ ΕΠΙΣΗΜΑΝΣΗ.json | Doc txt :- '3.       ΗΜΕΡΟΜΗΝΙΑ ΛΗΞΗΣ' | Qrd txt :- '8. ΗΜΕΡΟΜΗΝΙΑ ΛΗΞΗΣ' | Matched :- 'True'\n",
      "2021-06-19 01:40:16,816 : Heading Extraction gonal-f_clean_ ΕΠΙΣΗΜΑΝΣΗ.json_4 : Validation Failed As Previous Heading Found is not matching | H | CAP |  el | 2 | gonal-f_clean_ ΕΠΙΣΗΜΑΝΣΗ.json | currHeadId :- '22010' | prevHeadingCurrId :- '22009' | prevHeadingFoundId :- '22029'\n",
      "2021-06-19 01:40:17,372 : Heading Extraction gonal-f_clean_ ΕΠΙΣΗΜΑΝΣΗ.json_4 : Match Passed | H | CAP |  el | 2 | gonal-f_clean_ ΕΠΙΣΗΜΑΝΣΗ.json | Doc txt :- '3. ΗΜΕΡΟΜΗΝΙΑ ΛΗΞΗΣ' | Qrd txt :- '3. ΗΜΕΡΟΜΗΝΙΑ ΛΗΞΗΣ' | Matched :- 'True'\n",
      "2021-06-19 01:40:17,405 : Heading Extraction gonal-f_clean_ ΕΠΙΣΗΜΑΝΣΗ.json_4 : Validation Failed As Wrong Heading Found | H | CAP |  el | 2 | gonal-f_clean_ ΕΠΙΣΗΜΑΝΣΗ.json | currHeadId :- '22024' | prevHeadingCurrId :- '' | prevHeadingFoundId :- '22029'\n",
      "2021-06-19 01:40:17,622 : Heading Extraction gonal-f_clean_ ΕΠΙΣΗΜΑΝΣΗ.json_4 : Match Passed | H | CAP |  el | 2 | gonal-f_clean_ ΕΠΙΣΗΜΑΝΣΗ.json | Doc txt :- '3. ΗΜΕΡΟΜΗΝΙΑ ΛΗΞΗΣ' | Qrd txt :- '3. ΗΜΕΡΟΜΗΝΙΑ ΛΗΞΗΣ' | Matched :- 'True'\n",
      "2021-06-19 01:40:17,647 : Heading Extraction gonal-f_clean_ ΕΠΙΣΗΜΑΝΣΗ.json_4 : Validation Passed | H | CAP |  el | 2 | gonal-f_clean_ ΕΠΙΣΗΜΑΝΣΗ.json | currHeadId :- '22030' | prevHeadingCurrId :- '22029' | prevHeadingFoundId :- '22029'\n",
      "2021-06-19 01:40:19,693 : Heading Extraction gonal-f_clean_ ΕΠΙΣΗΜΑΝΣΗ.json_4 : Match Passed : Contains<>|194.74|(49, 95, 86)|0.758| | H | CAP |  el | 2 | gonal-f_clean_ ΕΠΙΣΗΜΑΝΣΗ.json | Doc txt :- '4.       ΑΡΙΘΜΟΣ ΠΑΡΤΙΔΑΣ' | Qrd txt :- '13. ΑΡΙΘΜΟΣ ΠΑΡΤΙΔΑΣ<, ΣΤΟΙΧΕΙΑ ΔΟΤΗ ΚΑΙ ΚΩΔΙΚΟΙ ΠΡΟΪΟΝΤΟΣ>' | Matched :- 'True'\n",
      "2021-06-19 01:40:19,730 : Heading Extraction gonal-f_clean_ ΕΠΙΣΗΜΑΝΣΗ.json_4 : Validation Failed As Previous Heading Found is not matching | H | CAP |  el | 2 | gonal-f_clean_ ΕΠΙΣΗΜΑΝΣΗ.json | currHeadId :- '22015' | prevHeadingCurrId :- '22014' | prevHeadingFoundId :- '22030'\n",
      "2021-06-19 01:40:20,154 : Heading Extraction gonal-f_clean_ ΕΠΙΣΗΜΑΝΣΗ.json_4 : Match Passed : Contains<>|184.21|(52, 100, 90)|0.87| | H | CAP |  el | 2 | gonal-f_clean_ ΕΠΙΣΗΜΑΝΣΗ.json | Doc txt :- '4.       ΑΡΙΘΜΟΣ ΠΑΡΤΙΔΑΣ' | Qrd txt :- '4. ΑΡΙΘΜΟΣ ΠΑΡΤΙΔΑΣ<, ΣΤΟΙΧΕΙΑ ΔΟΤΗ ΚΑΙ ΚΩΔΙΚΟΙ ΠΡΟΪΟΝΤΟΣ>' | Matched :- 'True'\n",
      "2021-06-19 01:40:20,197 : Heading Extraction gonal-f_clean_ ΕΠΙΣΗΜΑΝΣΗ.json_4 : Validation Failed As Wrong Heading Found | H | CAP |  el | 2 | gonal-f_clean_ ΕΠΙΣΗΜΑΝΣΗ.json | currHeadId :- '22025' | prevHeadingCurrId :- '' | prevHeadingFoundId :- '22030'\n",
      "2021-06-19 01:40:20,416 : Heading Extraction gonal-f_clean_ ΕΠΙΣΗΜΑΝΣΗ.json_4 : Match Passed : Contains<>|184.21|(52, 100, 90)|0.87| | H | CAP |  el | 2 | gonal-f_clean_ ΕΠΙΣΗΜΑΝΣΗ.json | Doc txt :- '4.       ΑΡΙΘΜΟΣ ΠΑΡΤΙΔΑΣ' | Qrd txt :- '4. ΑΡΙΘΜΟΣ ΠΑΡΤΙΔΑΣ<, ΣΤΟΙΧΕΙΑ ΔΟΤΗ ΚΑΙ ΚΩΔΙΚΟΙ ΠΡΟΪΟΝΤΟΣ>' | Matched :- 'True'\n",
      "2021-06-19 01:40:20,451 : Heading Extraction gonal-f_clean_ ΕΠΙΣΗΜΑΝΣΗ.json_4 : Validation Passed | H | CAP |  el | 2 | gonal-f_clean_ ΕΠΙΣΗΜΑΝΣΗ.json | currHeadId :- '22031' | prevHeadingCurrId :- '22030' | prevHeadingFoundId :- '22030'\n",
      "2021-06-19 01:40:22,356 : Heading Extraction gonal-f_clean_ ΕΠΙΣΗΜΑΝΣΗ.json_4 : Match Passed : <=7|2.5|(98, 98, 98)|0.995| | H | CAP |  el | 2 | gonal-f_clean_ ΕΠΙΣΗΜΑΝΣΗ.json | Doc txt :- '5.       ΠΕΡΙΕΧΟΜΕΝΟ ΚΑΤΑ ΒΑPΟΣ, ΚΑΤ' ΟΓΚΟ Ή ΚΑΤΑ ΜΟΝΑΔΑ' | Qrd txt :- '5. ΠΕΡΙΕΧΟΜΕΝΟ ΚΑΤΑ ΒΑΡΟΣ, ΚΑΤ' ΟΓΚΟ Ή ΚΑΤΑ ΜΟΝΑΔΑ' | Matched :- 'True'\n",
      "2021-06-19 01:40:22,393 : Heading Extraction gonal-f_clean_ ΕΠΙΣΗΜΑΝΣΗ.json_4 : Validation Passed | H | CAP |  el | 2 | gonal-f_clean_ ΕΠΙΣΗΜΑΝΣΗ.json | currHeadId :- '22032' | prevHeadingCurrId :- '22031' | prevHeadingFoundId :- '22031'\n",
      "2021-06-19 01:40:23,863 : Heading Extraction gonal-f_clean_ ΕΠΙΣΗΜΑΝΣΗ.json_4 : Match Passed : <=4|6.25|(94, 94, 94)|0.975| | H | CAP |  el | 2 | gonal-f_clean_ ΕΠΙΣΗΜΑΝΣΗ.json | Doc txt :- '6.       ΑΛΛΑ ΣΤΟΙΧΕΙΑ' | Qrd txt :- '5. ΑΛΛΑ ΣΤΟΙΧΕΙΑ' | Matched :- 'True'\n",
      "2021-06-19 01:40:23,888 : Heading Extraction gonal-f_clean_ ΕΠΙΣΗΜΑΝΣΗ.json_4 : Validation Failed As Wrong Heading Found | H | CAP |  el | 2 | gonal-f_clean_ ΕΠΙΣΗΜΑΝΣΗ.json | currHeadId :- '22026' | prevHeadingCurrId :- '' | prevHeadingFoundId :- '22032'\n",
      "2021-06-19 01:40:24,044 : Heading Extraction gonal-f_clean_ ΕΠΙΣΗΜΑΝΣΗ.json_4 : Match Passed | H | CAP |  el | 2 | gonal-f_clean_ ΕΠΙΣΗΜΑΝΣΗ.json | Doc txt :- '6. ΑΛΛΑ ΣΤΟΙΧΕΙΑ' | Qrd txt :- '6. ΑΛΛΑ ΣΤΟΙΧΕΙΑ' | Matched :- 'True'\n",
      "2021-06-19 01:40:24,070 : Heading Extraction gonal-f_clean_ ΕΠΙΣΗΜΑΝΣΗ.json_4 : Validation Passed | H | CAP |  el | 2 | gonal-f_clean_ ΕΠΙΣΗΜΑΝΣΗ.json | currHeadId :- '22033' | prevHeadingCurrId :- '22032' | prevHeadingFoundId :- '22032'\n",
      "2021-06-19 01:40:24,106 : Flow Logger HTML_5 : Completed Heading Extraction For File | H | CAP |  el | HTML | gonal-f_clean.htm\n"
     ]
    },
    {
     "name": "stderr",
     "output_type": "stream",
     "text": [
      "2021-06-19 01:40:24,114 : Flow Logger HTML_5 : 2: Heading Extraction,8.7823 Min,7.169717 MB,7.961773 MB,50.1%\n",
      " | H | CAP |  el | HTML | gonal-f_clean.htm\n",
      "2021-06-19 01:40:24,125 : Flow Logger HTML_5 : Starting Document Annotation For File | H | CAP |  el | HTML | gonal-f_clean.htm\n"
     ]
    },
    {
     "name": "stdout",
     "output_type": "stream",
     "text": [
      "\n",
      "\n",
      "Heading Not Found \n",
      " ['ΕΛΑΧΙΣΤΕΣ ΕΝΔΕΙΞΕΙΣ ΠΟΥ ΠΡΕΠΕΙ ΝΑ ΑΝΑΓΡΑΦΟΝΤΑΙ ΣΤΙΣ ΣΥΣΚΕΥΑΣΙΕΣ ΚΥΨΕΛΗΣ (BLISTER) Ή ΣΤΙΣ ΤΑΙΝΙΕΣ (STRIPS)', 'ΟΝΟΜΑ ΚΑΤΟΧΟΥ ΤΗΣ ΑΔΕΙΑΣ ΚΥΚΛΟΦΟΡΙΑΣ']\n",
      "\n",
      "\n",
      "dict_keys([])\n",
      "Completed Heading Extraction For File\n",
      "Metrics : 2: Heading Extraction,8.7823 Min,7.169717 MB,7.961773 MB,50.1%\n",
      "\n",
      "Starting Document Annotation For File :- gonal-f_clean_ ΕΠΙΣΗΜΑΝΣΗ.json\n",
      "Warning: Multiple Authorization Token Found In The Document gonal-f_clean_ ΕΠΙΣΗΜΑΝΣΗ.json :- \n",
      " ['EU/1/95/001/025', 'EU/1/95/001/026', 'EU/1/95/001/027', 'EU/1/95/001/021', 'EU/1/95/001/031', 'EU/1/95/001/000Ενέσιμο', 'EU/1/95/001/033', 'EU/1/95/001/034', 'EU/1/95/001/035']\n",
      "\n",
      "======================================  ['EU/1/95/001/025', 'EU/1/95/001/026', 'EU/1/95/001/027', 'EU/1/95/001/021', 'EU/1/95/001/031', 'EU/1/95/001/000Ενέσιμο', 'EU/1/95/001/033', 'EU/1/95/001/034', 'EU/1/95/001/035']  =========================\n",
      "\n",
      "\n",
      "Found entry with code 220000000061\n",
      "Warning: Medicinal Product Definition Reference Missing for Authorization Identifier EU/1/95/001/025\n",
      "Found Packaged Product Definition\n",
      "Missing Key 'holder' in entry key value pair\n",
      "processedOutputIndirect [(None, '1229029')]\n",
      "[None, '600000575490']\n",
      "Found entry with code 220000000061\n",
      "Warning: Medicinal Product Definition Reference Missing for Authorization Identifier EU/1/95/001/026\n",
      "Found Packaged Product Definition\n",
      "Missing Key 'holder' in entry key value pair\n",
      "processedOutputIndirect [(None, '1229030')]\n",
      "[None, '600000575490']\n",
      "Found entry with code 220000000061\n",
      "Warning: Medicinal Product Definition Reference Missing for Authorization Identifier EU/1/95/001/027\n",
      "Found Packaged Product Definition\n",
      "Missing Key 'holder' in entry key value pair\n",
      "processedOutputIndirect [(None, '1229031')]\n",
      "[None, '600000575490']\n",
      "Found entry with code 220000000061\n",
      "Warning: Medicinal Product Definition Reference Missing for Authorization Identifier EU/1/95/001/021\n",
      "Found Packaged Product Definition\n",
      "Missing Key 'holder' in entry key value pair\n",
      "processedOutputIndirect [(None, '1229056')]\n",
      "[None, '600000573678']\n",
      "Found entry with code 220000000061\n",
      "Warning: Medicinal Product Definition Reference Missing for Authorization Identifier EU/1/95/001/031\n",
      "Found Packaged Product Definition\n",
      "Missing Key 'holder' in entry key value pair\n",
      "processedOutputIndirect [(None, '1229057')]\n",
      "[None, '600000573679']\n",
      "Missing Key 'entry' in the EU/1/95/001/000Ενέσιμο regulated authorization API output\n",
      "Found entry with code 220000000061\n",
      "Warning: Medicinal Product Definition Reference Missing for Authorization Identifier EU/1/95/001/033\n",
      "Found Packaged Product Definition\n",
      "Missing Key 'holder' in entry key value pair\n",
      "processedOutputIndirect [(None, '1229058')]\n",
      "[None, '600000573681']\n",
      "Found entry with code 220000000061\n",
      "Warning: Medicinal Product Definition Reference Missing for Authorization Identifier EU/1/95/001/034\n",
      "Found Packaged Product Definition\n",
      "Missing Key 'holder' in entry key value pair\n",
      "processedOutputIndirect [(None, '1229059')]\n",
      "[None, '600000573682']\n",
      "Found entry with code 220000000061\n",
      "Warning: Medicinal Product Definition Reference Missing for Authorization Identifier EU/1/95/001/035\n",
      "Found Packaged Product Definition\n",
      "Missing Key 'holder' in entry key value pair\n",
      "processedOutputIndirect [(None, '1229060')]\n",
      "[None, '600000573688']\n"
     ]
    },
    {
     "name": "stderr",
     "output_type": "stream",
     "text": [
      "2021-06-19 01:40:44,705 : Flow Logger HTML_5 : Completed Document Annotation | H | CAP |  el | HTML | gonal-f_clean.htm\n",
      "2021-06-19 01:40:44,707 : Flow Logger HTML_5 : 2: Document Annotation,0.343 Min,0.192705 MB,0.483188 MB,50.2%\n",
      " | H | CAP |  el | HTML | gonal-f_clean.htm\n",
      "2021-06-19 01:40:44,711 : Flow Logger HTML_5 : Starting Extracting Content Between Heading | H | CAP |  el | HTML | gonal-f_clean.htm\n",
      "2021-06-19 01:40:44,728 : ExtractContentBetween_2_I : Cleaning Match Results | H | CAP |  el | 2 | gonal-f_clean_ ΕΠΙΣΗΜΑΝΣΗ.json\n",
      "2021-06-19 01:40:44,754 : ExtractContentBetween_2_I : Finished Cleaning Match Results | H | CAP |  el | 2 | gonal-f_clean_ ΕΠΙΣΗΜΑΝΣΗ.json\n"
     ]
    },
    {
     "name": "stdout",
     "output_type": "stream",
     "text": [
      "{'Author Value': None, 'Medicinal Product Definitions': [('600000575490', 'GONAL-f 75 IU (5.5 µg) - Powder and solvent for solution for injection'), ('600000573678', 'GONAL-f 1050 IU/1.75 ml (77 µg/1.75 ml) - Powder and solvent for solution for injection'), ('600000573679', 'GONAL-f 450 IU/0.75 ml (33 µg/0.75 ml) - Powder and solvent for solution for injection'), ('600000573681', 'GONAL-f 300 IU/0.5 ml (22 µg/0.5 ml) - Solution for injection in pre-filled pen'), ('600000573682', 'GONAL-f 450 IU/0.75 ml (33 µg/0.75 ml) - Solution for injection in pre-filled pen'), ('600000573688', 'GONAL-f 900 IU/1.5 ml (66 µg/1.5 ml) - Solution for injection in pre-filled pen')]}\n",
      "Completed Document Annotation\n",
      "Metrics : 2: Document Annotation,0.343 Min,0.192705 MB,0.483188 MB,50.2%\n",
      "\n",
      "Starting Extracting Content Between Heading For File :- gonal-f_clean_ ΕΠΙΣΗΜΑΝΣΗ.json\n",
      "File being processed: F:\\Projects\\EMA\\Repository\\EMA EPI PoC\\function_code\\work\\H\\CAP\\GONAL-f\\el\\2021-06-06T10-02-52Z\\partitionedJSONs\\gonal-f_clean_ ΕΠΙΣΗΜΑΝΣΗ.json\n",
      "--------------------------------------------\n"
     ]
    },
    {
     "name": "stderr",
     "output_type": "stream",
     "text": [
      "2021-06-19 01:40:48,775 : Flow Logger HTML_5 : Completed Extracting Content Between Heading | H | CAP |  el | HTML | gonal-f_clean.htm\n",
      "2021-06-19 01:40:48,779 : Flow Logger HTML_5 : 2: Content Extraction,0.0678 Min,0.589725 MB,4.060669 MB,50.2%\n",
      " | H | CAP |  el | HTML | gonal-f_clean.htm\n",
      "2021-06-19 01:40:48,972 : XmlGeneration_2_N : Initiating XML Generation | H | CAP |  el | 2 | gonal-f_clean_ ΕΠΙΣΗΜΑΝΣΗ.json\n"
     ]
    },
    {
     "name": "stdout",
     "output_type": "stream",
     "text": [
      "Completed Extracting Content Between Heading\n",
      "Metrics : 2: Content Extraction,0.0678 Min,0.589725 MB,4.060669 MB,50.2%\n",
      "\n",
      "Already Exists\n"
     ]
    },
    {
     "name": "stderr",
     "output_type": "stream",
     "text": [
      "2021-06-19 01:40:50,066 : XmlGeneration_2_N : Writing to File:gonal-f_clean_ ΕΠΙΣΗΜΑΝΣΗ.xml | H | CAP |  el | 2 | gonal-f_clean_ ΕΠΙΣΗΜΑΝΣΗ.json\n",
      "2021-06-19 01:40:50,086 : Flow Logger HTML_5 : 2: Generate XML,0.0216 Min,2.563653 MB,5.269455 MB,50.2%\n",
      " | H | CAP |  el | HTML | gonal-f_clean.htm\n"
     ]
    },
    {
     "name": "stdout",
     "output_type": "stream",
     "text": [
      "Metrics : 2: Generate XML,0.0216 Min,2.563653 MB,5.269455 MB,50.2%\n",
      "\n"
     ]
    },
    {
     "name": "stderr",
     "output_type": "stream",
     "text": [
      "2021-06-19 01:40:53,615 : XML Submission Logger_2_X : Initiating Submission To FHIR Server | H | CAP |  el | 2 | gonal-f_clean_ ΕΠΙΣΗΜΑΝΣΗ.json\n",
      "2021-06-19 01:40:53,619 : XML Submission Logger_2_X : Response{\"resourceType\":\"Bundle\",\"id\":\"a464654d-36ec-4be5-846a-4608b5a9ab57\",\"meta\":{\"versionId\":\"1\",\"lastUpdated\":\"2021-06-18T20:10:52.481+00:00\"},\"type\":\"collection\",\"entry\":[{\"fullUrl\":\"urn:uuid:2caa80ad-5126-407b-b7a6-75baf96da2e3\",\"resource\":{\"resourceType\":\"Bundle\",\"id\":\"41d92527-3a22-4a2f-acce-b15295dc8e61\",\"identifier\":{\"system\":\"http://ema.europa.eu/fhir/identifier/documentid\",\"value\":\"41d92527-3a22-4a2f-acce-b15295dc8e61\"},\"type\":\"document\",\"timestamp\":\"2021-06-18T20:10:48+00:00\",\"entry\":[{\"fu | H | CAP |  el | 2 | gonal-f_clean_ ΕΠΙΣΗΜΑΝΣΗ.json\n",
      "2021-06-19 01:40:53,640 : XML Submission Logger_2_X : POST sucessful: XML added with id: a464654d-36ec-4be5-846a-4608b5a9ab57 | H | CAP |  el | 2 | gonal-f_clean_ ΕΠΙΣΗΜΑΝΣΗ.json\n",
      "2021-06-19 01:40:53,652 : Flow Logger HTML_5 : 2: Submit FHIR Msg,0.0592 Min,0.224634 MB,1.820338 MB,50.2%\n",
      " | H | CAP |  el | HTML | gonal-f_clean.htm\n",
      "2021-06-19 01:40:53,655 : Flow Logger HTML_5 : Starting list bundle update/addition | H | CAP |  el | HTML | gonal-f_clean.htm\n",
      "2021-06-19 01:40:53,688 : List Bundle Creation Logger_2_f : Extracted list bundle document type code this document 100000155535 | H | CAP |  el | 2 | gonal-f_clean_ ΕΠΙΣΗΜΑΝΣΗ.json\n",
      "2021-06-19 01:40:53,688 : List Bundle Creation Logger_2_f : Extracted list bundle document type code this document 100000155535 | H | CAP |  el | 2 | gonal-f_clean_ ΕΠΙΣΗΜΑΝΣΗ.json\n",
      "2021-06-19 01:40:53,727 : List Bundle Creation Logger_2_f : Getting Existing List Bundle accross all MANs | H | CAP |  el | 2 | gonal-f_clean_ ΕΠΙΣΗΜΑΝΣΗ.json\n",
      "2021-06-19 01:40:53,727 : List Bundle Creation Logger_2_f : Getting Existing List Bundle accross all MANs | H | CAP |  el | 2 | gonal-f_clean_ ΕΠΙΣΗΜΑΝΣΗ.json\n",
      "2021-06-19 01:40:53,734 : List Bundle Creation Logger_2_f : Getting list bundle for MAN EU/1/95/001/025  | H | CAP |  el | 2 | gonal-f_clean_ ΕΠΙΣΗΜΑΝΣΗ.json\n",
      "2021-06-19 01:40:53,734 : List Bundle Creation Logger_2_f : Getting list bundle for MAN EU/1/95/001/025  | H | CAP |  el | 2 | gonal-f_clean_ ΕΠΙΣΗΜΑΝΣΗ.json\n"
     ]
    },
    {
     "name": "stdout",
     "output_type": "stream",
     "text": [
      "POST sucessful: XML added with id a464654d-36ec-4be5-846a-4608b5a9ab57\n",
      "Metrics : 2: Submit FHIR Msg,0.0592 Min,0.224634 MB,1.820338 MB,50.2%\n",
      "\n",
      "Created XML File For :- gonal-f_clean_ ΕΠΙΣΗΜΑΝΣΗ.json\n",
      "\n",
      "listRegulatedAuthCodesAccrossePI ['EU/1/95/001/025', 'EU/1/95/001/026', 'EU/1/95/001/027', 'EU/1/95/001/021', 'EU/1/95/001/031', 'EU/1/95/001/000', 'EU/1/95/001/033', 'EU/1/95/001/034', 'EU/1/95/001/035', 'EU/1/95/001/025', 'EU/1/95/001/026', 'EU/1/95/001/027', 'EU/1/95/001/021', 'EU/1/95/001/031', 'EU/1/95/001/000Ενέσιμο', 'EU/1/95/001/033', 'EU/1/95/001/034', 'EU/1/95/001/035']\n"
     ]
    },
    {
     "name": "stderr",
     "output_type": "stream",
     "text": [
      "2021-06-19 01:40:54,713 : List Bundle Creation Logger_2_f : Getting list bundle for MAN EU/1/95/001/026  | H | CAP |  el | 2 | gonal-f_clean_ ΕΠΙΣΗΜΑΝΣΗ.json\n",
      "2021-06-19 01:40:54,713 : List Bundle Creation Logger_2_f : Getting list bundle for MAN EU/1/95/001/026  | H | CAP |  el | 2 | gonal-f_clean_ ΕΠΙΣΗΜΑΝΣΗ.json\n",
      "2021-06-19 01:40:55,667 : List Bundle Creation Logger_2_f : Getting list bundle for MAN EU/1/95/001/027  | H | CAP |  el | 2 | gonal-f_clean_ ΕΠΙΣΗΜΑΝΣΗ.json\n",
      "2021-06-19 01:40:55,667 : List Bundle Creation Logger_2_f : Getting list bundle for MAN EU/1/95/001/027  | H | CAP |  el | 2 | gonal-f_clean_ ΕΠΙΣΗΜΑΝΣΗ.json\n",
      "2021-06-19 01:40:56,650 : List Bundle Creation Logger_2_f : Getting list bundle for MAN EU/1/95/001/021  | H | CAP |  el | 2 | gonal-f_clean_ ΕΠΙΣΗΜΑΝΣΗ.json\n",
      "2021-06-19 01:40:56,650 : List Bundle Creation Logger_2_f : Getting list bundle for MAN EU/1/95/001/021  | H | CAP |  el | 2 | gonal-f_clean_ ΕΠΙΣΗΜΑΝΣΗ.json\n",
      "2021-06-19 01:40:57,551 : List Bundle Creation Logger_2_f : Getting list bundle for MAN EU/1/95/001/031  | H | CAP |  el | 2 | gonal-f_clean_ ΕΠΙΣΗΜΑΝΣΗ.json\n",
      "2021-06-19 01:40:57,551 : List Bundle Creation Logger_2_f : Getting list bundle for MAN EU/1/95/001/031  | H | CAP |  el | 2 | gonal-f_clean_ ΕΠΙΣΗΜΑΝΣΗ.json\n",
      "2021-06-19 01:40:58,451 : List Bundle Creation Logger_2_f : Getting list bundle for MAN EU/1/95/001/000  | H | CAP |  el | 2 | gonal-f_clean_ ΕΠΙΣΗΜΑΝΣΗ.json\n",
      "2021-06-19 01:40:58,451 : List Bundle Creation Logger_2_f : Getting list bundle for MAN EU/1/95/001/000  | H | CAP |  el | 2 | gonal-f_clean_ ΕΠΙΣΗΜΑΝΣΗ.json\n",
      "2021-06-19 01:40:59,327 : List Bundle Creation Logger_2_f : Getting list bundle for MAN EU/1/95/001/033  | H | CAP |  el | 2 | gonal-f_clean_ ΕΠΙΣΗΜΑΝΣΗ.json\n",
      "2021-06-19 01:40:59,327 : List Bundle Creation Logger_2_f : Getting list bundle for MAN EU/1/95/001/033  | H | CAP |  el | 2 | gonal-f_clean_ ΕΠΙΣΗΜΑΝΣΗ.json\n",
      "2021-06-19 01:41:00,254 : List Bundle Creation Logger_2_f : Getting list bundle for MAN EU/1/95/001/034  | H | CAP |  el | 2 | gonal-f_clean_ ΕΠΙΣΗΜΑΝΣΗ.json\n",
      "2021-06-19 01:41:00,254 : List Bundle Creation Logger_2_f : Getting list bundle for MAN EU/1/95/001/034  | H | CAP |  el | 2 | gonal-f_clean_ ΕΠΙΣΗΜΑΝΣΗ.json\n",
      "2021-06-19 01:41:01,201 : List Bundle Creation Logger_2_f : Getting list bundle for MAN EU/1/95/001/035  | H | CAP |  el | 2 | gonal-f_clean_ ΕΠΙΣΗΜΑΝΣΗ.json\n",
      "2021-06-19 01:41:01,201 : List Bundle Creation Logger_2_f : Getting list bundle for MAN EU/1/95/001/035  | H | CAP |  el | 2 | gonal-f_clean_ ΕΠΙΣΗΜΑΝΣΗ.json\n",
      "2021-06-19 01:41:02,826 : List Bundle Creation Logger_2_f : Getting list bundle for MAN EU/1/95/001/025  | H | CAP |  el | 2 | gonal-f_clean_ ΕΠΙΣΗΜΑΝΣΗ.json\n",
      "2021-06-19 01:41:02,826 : List Bundle Creation Logger_2_f : Getting list bundle for MAN EU/1/95/001/025  | H | CAP |  el | 2 | gonal-f_clean_ ΕΠΙΣΗΜΑΝΣΗ.json\n",
      "2021-06-19 01:41:03,818 : List Bundle Creation Logger_2_f : Getting list bundle for MAN EU/1/95/001/026  | H | CAP |  el | 2 | gonal-f_clean_ ΕΠΙΣΗΜΑΝΣΗ.json\n",
      "2021-06-19 01:41:03,818 : List Bundle Creation Logger_2_f : Getting list bundle for MAN EU/1/95/001/026  | H | CAP |  el | 2 | gonal-f_clean_ ΕΠΙΣΗΜΑΝΣΗ.json\n",
      "2021-06-19 01:41:04,766 : List Bundle Creation Logger_2_f : Getting list bundle for MAN EU/1/95/001/027  | H | CAP |  el | 2 | gonal-f_clean_ ΕΠΙΣΗΜΑΝΣΗ.json\n",
      "2021-06-19 01:41:04,766 : List Bundle Creation Logger_2_f : Getting list bundle for MAN EU/1/95/001/027  | H | CAP |  el | 2 | gonal-f_clean_ ΕΠΙΣΗΜΑΝΣΗ.json\n",
      "2021-06-19 01:41:05,694 : List Bundle Creation Logger_2_f : Getting list bundle for MAN EU/1/95/001/021  | H | CAP |  el | 2 | gonal-f_clean_ ΕΠΙΣΗΜΑΝΣΗ.json\n",
      "2021-06-19 01:41:05,694 : List Bundle Creation Logger_2_f : Getting list bundle for MAN EU/1/95/001/021  | H | CAP |  el | 2 | gonal-f_clean_ ΕΠΙΣΗΜΑΝΣΗ.json\n",
      "2021-06-19 01:41:06,646 : List Bundle Creation Logger_2_f : Getting list bundle for MAN EU/1/95/001/031  | H | CAP |  el | 2 | gonal-f_clean_ ΕΠΙΣΗΜΑΝΣΗ.json\n",
      "2021-06-19 01:41:06,646 : List Bundle Creation Logger_2_f : Getting list bundle for MAN EU/1/95/001/031  | H | CAP |  el | 2 | gonal-f_clean_ ΕΠΙΣΗΜΑΝΣΗ.json\n",
      "2021-06-19 01:41:07,610 : List Bundle Creation Logger_2_f : Getting list bundle for MAN EU/1/95/001/000Ενέσιμο  | H | CAP |  el | 2 | gonal-f_clean_ ΕΠΙΣΗΜΑΝΣΗ.json\n",
      "2021-06-19 01:41:07,610 : List Bundle Creation Logger_2_f : Getting list bundle for MAN EU/1/95/001/000Ενέσιμο  | H | CAP |  el | 2 | gonal-f_clean_ ΕΠΙΣΗΜΑΝΣΗ.json\n",
      "2021-06-19 01:41:08,505 : List Bundle Creation Logger_2_f : Getting list bundle for MAN EU/1/95/001/033  | H | CAP |  el | 2 | gonal-f_clean_ ΕΠΙΣΗΜΑΝΣΗ.json\n",
      "2021-06-19 01:41:08,505 : List Bundle Creation Logger_2_f : Getting list bundle for MAN EU/1/95/001/033  | H | CAP |  el | 2 | gonal-f_clean_ ΕΠΙΣΗΜΑΝΣΗ.json\n",
      "2021-06-19 01:41:09,406 : List Bundle Creation Logger_2_f : Getting list bundle for MAN EU/1/95/001/034  | H | CAP |  el | 2 | gonal-f_clean_ ΕΠΙΣΗΜΑΝΣΗ.json\n",
      "2021-06-19 01:41:09,406 : List Bundle Creation Logger_2_f : Getting list bundle for MAN EU/1/95/001/034  | H | CAP |  el | 2 | gonal-f_clean_ ΕΠΙΣΗΜΑΝΣΗ.json\n",
      "2021-06-19 01:41:10,365 : List Bundle Creation Logger_2_f : Getting list bundle for MAN EU/1/95/001/035  | H | CAP |  el | 2 | gonal-f_clean_ ΕΠΙΣΗΜΑΝΣΗ.json\n",
      "2021-06-19 01:41:10,365 : List Bundle Creation Logger_2_f : Getting list bundle for MAN EU/1/95/001/035  | H | CAP |  el | 2 | gonal-f_clean_ ΕΠΙΣΗΜΑΝΣΗ.json\n",
      "2021-06-19 01:41:11,335 : List Bundle Creation Logger_2_f : Getting Existing List Bundle using common list id 576fbb3b-1d11-4abd-9beb-77d36ab11ceb | H | CAP |  el | 2 | gonal-f_clean_ ΕΠΙΣΗΜΑΝΣΗ.json\n",
      "2021-06-19 01:41:11,335 : List Bundle Creation Logger_2_f : Getting Existing List Bundle using common list id 576fbb3b-1d11-4abd-9beb-77d36ab11ceb | H | CAP |  el | 2 | gonal-f_clean_ ΕΠΙΣΗΜΑΝΣΗ.json\n",
      "2021-06-19 01:41:12,293 : List Bundle Creation Logger_2_f : Added missing MAN identifiers | H | CAP |  el | 2 | gonal-f_clean_ ΕΠΙΣΗΜΑΝΣΗ.json\n",
      "2021-06-19 01:41:12,293 : List Bundle Creation Logger_2_f : Added missing MAN identifiers | H | CAP |  el | 2 | gonal-f_clean_ ΕΠΙΣΗΜΑΝΣΗ.json\n",
      "2021-06-19 01:41:12,301 : List Bundle Creation Logger_2_f : Updating existing item | H | CAP |  el | 2 | gonal-f_clean_ ΕΠΙΣΗΜΑΝΣΗ.json\n",
      "2021-06-19 01:41:12,301 : List Bundle Creation Logger_2_f : Updating existing item | H | CAP |  el | 2 | gonal-f_clean_ ΕΠΙΣΗΜΑΝΣΗ.json\n",
      "2021-06-19 01:41:12,318 : List Bundle Creation Logger_2_f : Converted to required XML format | H | CAP |  el | 2 | gonal-f_clean_ ΕΠΙΣΗΜΑΝΣΗ.json\n",
      "2021-06-19 01:41:12,318 : List Bundle Creation Logger_2_f : Converted to required XML format | H | CAP |  el | 2 | gonal-f_clean_ ΕΠΙΣΗΜΑΝΣΗ.json\n"
     ]
    },
    {
     "name": "stdout",
     "output_type": "stream",
     "text": [
      "b'<List xmlns=\"http://hl7.org/fhir\"><id value=\"576fbb3b-1d11-4abd-9beb-77d36ab11ceb\" /><identifier><system value=\"http://spor.ema.europa.eu/v2/medicine-name\" /><value value=\"gonal-f\" /></identifier><identifier><system value=\"http://spor.ema.europa.eu/v2/marketing-authorisation-numbers\" /><value value=\"EU/1/95/001/025\" /></identifier><identifier><system value=\"http://spor.ema.europa.eu/v2/marketing-authorisation-numbers\" /><value value=\"EU/1/95/001/026\" /></identifier><identifier><system value=\"http://spor.ema.europa.eu/v2/marketing-authorisation-numbers\" /><value value=\"EU/1/95/001/027\" /></identifier><identifier><system value=\"http://spor.ema.europa.eu/v2/marketing-authorisation-numbers\" /><value value=\"EU/1/95/001/021\" /></identifier><identifier><system value=\"http://spor.ema.europa.eu/v2/marketing-authorisation-numbers\" /><value value=\"EU/1/95/001/031\" /></identifier><identifier><system value=\"http://spor.ema.europa.eu/v2/marketing-authorisation-numbers\" /><value value=\"EU/1/95/001/000\" /></identifier><identifier><system value=\"http://spor.ema.europa.eu/v2/marketing-authorisation-numbers\" /><value value=\"EU/1/95/001/033\" /></identifier><identifier><system value=\"http://spor.ema.europa.eu/v2/marketing-authorisation-numbers\" /><value value=\"EU/1/95/001/034\" /></identifier><identifier><system value=\"http://spor.ema.europa.eu/v2/marketing-authorisation-numbers\" /><value value=\"EU/1/95/001/035\" /></identifier><identifier><system value=\"http://spor.ema.europa.eu/v2/marketing-authorisation-numbers\" /><value value=\"EU/1/95/001/000\\xce\\x95\\xce\\xbd\\xce\\xad\\xcf\\x83\\xce\\xb9\\xce\\xbc\\xce\\xbf\" /></identifier><status value=\"current\" /><mode value=\"working\" /><code><coding><system value=\"http://spor.ema.europa.eu/v1/example-pi-list-types\" /><code value=\"00000021213\" /><display value=\"ePI Master List\" /></coding></code><subject><extension url=\"http://ema.europa.eu/fhir/extension/domain\"><valueCoding><system value=\"http://spor.ema.europa.eu/v1/100000000004\" /><code value=\"100000000012\" /><display value=\"H\" /></valueCoding></extension><extension url=\"http://ema.europa.eu/fhir/extension/medicine-name\"><valueCoding><system value=\"http://spor.ema.europa.eu/v1/100000000005\" /><code value=\"medicine-name-code\" /><display value=\"GONAL-f\" /></valueCoding></extension></subject><entry><item><extension url=\"http://ema.europa.eu/fhir/extension/documentType\"><valueCoding><system value=\"http://spor.ema.europa.eu/v1/100000155531\" /><code value=\"100000155532\" /><display value=\"SmPC\" /></valueCoding></extension><extension url=\"http://ema.europa.eu/fhir/extension/language\"><valueCoding><system value=\"http://spor.ema.europa.eu/v1/100000072057\" /><code value=\"100000072147\" /><display value=\"en\" /></valueCoding></extension><reference value=\"Bundle/58a716ba-1915-4fa4-90df-d655ee9adedc\" /></item></entry><entry><item><extension url=\"http://ema.europa.eu/fhir/extension/documentType\"><valueCoding><system value=\"http://spor.ema.europa.eu/v1/100000155531\" /><code value=\"100000155533\" /><display value=\"AnnexII\" /></valueCoding></extension><extension url=\"http://ema.europa.eu/fhir/extension/language\"><valueCoding><system value=\"http://spor.ema.europa.eu/v1/100000072057\" /><code value=\"100000072147\" /><display value=\"en\" /></valueCoding></extension><reference value=\"Bundle/8efae8ee-5515-40bf-ac3c-81f5c77cdfb7\" /></item></entry><entry><item><extension url=\"http://ema.europa.eu/fhir/extension/documentType\"><valueCoding><system value=\"http://spor.ema.europa.eu/v1/100000155531\" /><code value=\"100000155535\" /><display value=\"Labelling\" /></valueCoding></extension><extension url=\"http://ema.europa.eu/fhir/extension/language\"><valueCoding><system value=\"http://spor.ema.europa.eu/v1/100000072057\" /><code value=\"100000072147\" /><display value=\"en\" /></valueCoding></extension><reference value=\"Bundle/af92e174-a718-4da4-8dee-6eea5be18357\" /></item></entry><entry><item><extension url=\"http://ema.europa.eu/fhir/extension/documentType\"><valueCoding><system value=\"http://spor.ema.europa.eu/v1/100000155531\" /><code value=\"100000155538\" /><display value=\"Package leaflet\" /></valueCoding></extension><extension url=\"http://ema.europa.eu/fhir/extension/language\"><valueCoding><system value=\"http://spor.ema.europa.eu/v1/100000072057\" /><code value=\"100000072147\" /><display value=\"en\" /></valueCoding></extension><reference value=\"Bundle/None\" /></item></entry><entry><item><extension url=\"http://ema.europa.eu/fhir/extension/documentType\"><valueCoding><system value=\"http://spor.ema.europa.eu/v1/100000155531\" /><code value=\"100000155532\" /><display value=\"SmPC\" /></valueCoding></extension><extension url=\"http://ema.europa.eu/fhir/extension/language\"><valueCoding><system value=\"http://spor.ema.europa.eu/v1/100000072057\" /><code value=\"100000072181\" /><display value=\"el\" /></valueCoding></extension><reference value=\"Bundle/13ae3b13-473d-46e2-af44-96d25cbf06f0\" /></item></entry><entry><item><extension url=\"http://ema.europa.eu/fhir/extension/documentType\"><valueCoding><system value=\"http://spor.ema.europa.eu/v1/100000155531\" /><code value=\"100000155533\" /><display value=\"\\xce\\xa0\\xce\\x91\\xce\\xa1\\xce\\x91\\xce\\xa1\\xce\\xa4\\xce\\x97\\xce\\x9c\\xce\\x91 \\xce\\x99\\xce\\x99\" /></valueCoding></extension><extension url=\"http://ema.europa.eu/fhir/extension/language\"><valueCoding><system value=\"http://spor.ema.europa.eu/v1/100000072057\" /><code value=\"100000072181\" /><display value=\"el\" /></valueCoding></extension><reference value=\"Bundle/99c6cb41-03b3-4801-858d-9a6765657a36\" /></item></entry><entry><item><extension url=\"http://ema.europa.eu/fhir/extension/documentType\"><valueCoding><system value=\"http://spor.ema.europa.eu/v1/100000155531\" /><code value=\"100000155535\" /><display value=\"\\xce\\x95\\xce\\xa0\\xce\\x99\\xce\\xa3\\xce\\x97\\xce\\x9c\\xce\\x91\\xce\\x9d\\xce\\xa3\\xce\\x97\" /></valueCoding></extension><extension url=\"http://ema.europa.eu/fhir/extension/language\"><valueCoding><system value=\"http://spor.ema.europa.eu/v1/100000072057\" /><code value=\"100000072181\" /><display value=\"el\" /></valueCoding></extension><reference value=\"Bundle/a464654d-36ec-4be5-846a-4608b5a9ab57\" /></item></entry><entry><item><extension url=\"http://ema.europa.eu/fhir/extension/documentType\"><valueCoding><system value=\"http://spor.ema.europa.eu/v1/100000155531\" /><code value=\"100000155532\" /><display value=\"SmPC\" /></valueCoding></extension><extension url=\"http://ema.europa.eu/fhir/extension/language\"><valueCoding><system value=\"http://spor.ema.europa.eu/v1/100000072057\" /><code value=\"100000072178\" /><display value=\"de\" /></valueCoding></extension><reference value=\"Bundle/3839340e-83b6-4a2f-81a3-e5c5932e0774\" /></item></entry><entry><item><extension url=\"http://ema.europa.eu/fhir/extension/documentType\"><valueCoding><system value=\"http://spor.ema.europa.eu/v1/100000155531\" /><code value=\"100000155533\" /><display value=\"ANHANG II\" /></valueCoding></extension><extension url=\"http://ema.europa.eu/fhir/extension/language\"><valueCoding><system value=\"http://spor.ema.europa.eu/v1/100000072057\" /><code value=\"100000072178\" /><display value=\"de\" /></valueCoding></extension><reference value=\"Bundle/3b704cc9-208a-4e3b-8a10-02d7b3a28998\" /></item></entry><entry><item><extension url=\"http://ema.europa.eu/fhir/extension/documentType\"><valueCoding><system value=\"http://spor.ema.europa.eu/v1/100000155531\" /><code value=\"100000155535\" /><display value=\"Etikettierung\" /></valueCoding></extension><extension url=\"http://ema.europa.eu/fhir/extension/language\"><valueCoding><system value=\"http://spor.ema.europa.eu/v1/100000072057\" /><code value=\"100000072178\" /><display value=\"de\" /></valueCoding></extension><reference value=\"Bundle/1b96fbbe-908b-4336-a532-9bc9c5b4a79c\" /></item></entry><entry><item><extension url=\"http://ema.europa.eu/fhir/extension/documentType\"><valueCoding><system value=\"http://spor.ema.europa.eu/v1/100000155531\" /><code value=\"100000155538\" /><display value=\"Packungsbeilage\" /></valueCoding></extension><extension url=\"http://ema.europa.eu/fhir/extension/language\"><valueCoding><system value=\"http://spor.ema.europa.eu/v1/100000072057\" /><code value=\"100000072178\" /><display value=\"de\" /></valueCoding></extension><reference value=\"Bundle/None\" /></item></entry><entry><item><extension url=\"http://ema.europa.eu/fhir/extension/documentType\"><valueCoding><system value=\"http://spor.ema.europa.eu/v1/100000155531\" /><code value=\"100000155532\" /><display value=\"SmPC\" /></valueCoding></extension><extension url=\"http://ema.europa.eu/fhir/extension/language\"><valueCoding><system value=\"http://spor.ema.europa.eu/v1/100000072057\" /><code value=\"100000072264\" /><display value=\"es\" /></valueCoding></extension><reference value=\"Bundle/f8306b1e-29f2-40a8-b21b-93d894f703c4\" /></item></entry><entry><item><extension url=\"http://ema.europa.eu/fhir/extension/documentType\"><valueCoding><system value=\"http://spor.ema.europa.eu/v1/100000155531\" /><code value=\"100000155533\" /><display value=\"AnnexII\" /></valueCoding></extension><extension url=\"http://ema.europa.eu/fhir/extension/language\"><valueCoding><system value=\"http://spor.ema.europa.eu/v1/100000072057\" /><code value=\"100000072264\" /><display value=\"es\" /></valueCoding></extension><reference value=\"Bundle/f7dee032-cc03-4df0-a358-530ad9e7966d\" /></item></entry><entry><item><extension url=\"http://ema.europa.eu/fhir/extension/documentType\"><valueCoding><system value=\"http://spor.ema.europa.eu/v1/100000155531\" /><code value=\"100000155535\" /><display value=\"Labelling\" /></valueCoding></extension><extension url=\"http://ema.europa.eu/fhir/extension/language\"><valueCoding><system value=\"http://spor.ema.europa.eu/v1/100000072057\" /><code value=\"100000072264\" /><display value=\"es\" /></valueCoding></extension><reference value=\"Bundle/5b414d3d-3bcd-4778-bf9c-5606f0b9ccda\" /></item></entry><entry><item><extension url=\"http://ema.europa.eu/fhir/extension/documentType\"><valueCoding><system value=\"http://spor.ema.europa.eu/v1/100000155531\" /><code value=\"100000155538\" /><display value=\"Package leaflet\" /></valueCoding></extension><extension url=\"http://ema.europa.eu/fhir/extension/language\"><valueCoding><system value=\"http://spor.ema.europa.eu/v1/100000072057\" /><code value=\"100000072264\" /><display value=\"es\" /></valueCoding></extension><reference value=\"Bundle/None\" /></item></entry><entry><item><extension url=\"http://ema.europa.eu/fhir/extension/documentType\"><valueCoding><system value=\"http://spor.ema.europa.eu/v1/100000155531\" /><code value=\"100000155538\" /><display value=\"\\xce\\xa6\\xce\\xa5\\xce\\x9b\\xce\\x9b\\xce\\x9f \\xce\\x9f\\xce\\x94\\xce\\x97\\xce\\x93\\xce\\x99\\xce\\xa9\\xce\\x9d \\xce\\xa7\\xce\\xa1\\xce\\x97\\xce\\xa3\\xce\\x97\\xce\\xa3\" /></valueCoding></extension><extension url=\"http://ema.europa.eu/fhir/extension/language\"><valueCoding><system value=\"http://spor.ema.europa.eu/v1/100000072057\" /><code value=\"100000072181\" /><display value=\"el\" /></valueCoding></extension><reference value=\"Bundle/None\" /></item></entry></List>'\n",
      "Updating\n"
     ]
    },
    {
     "name": "stderr",
     "output_type": "stream",
     "text": [
      "2021-06-19 01:41:13,426 : List Bundle Creation Logger_2_f : List update successfully completed 576fbb3b-1d11-4abd-9beb-77d36ab11ceb | H | CAP |  el | 2 | gonal-f_clean_ ΕΠΙΣΗΜΑΝΣΗ.json\n",
      "2021-06-19 01:41:13,426 : List Bundle Creation Logger_2_f : List update successfully completed 576fbb3b-1d11-4abd-9beb-77d36ab11ceb | H | CAP |  el | 2 | gonal-f_clean_ ΕΠΙΣΗΜΑΝΣΗ.json\n",
      "2021-06-19 01:41:13,432 : Flow Logger HTML_5 : Completed list bundle update/addition | H | CAP |  el | HTML | gonal-f_clean.htm\n",
      "2021-06-19 01:41:13,436 : Flow Logger HTML_5 : 2: Update/Add List Bundle,0.3297 Min,0.359285 MB,0.652134 MB,50.5%\n",
      " | H | CAP |  el | HTML | gonal-f_clean.htm\n",
      "2021-06-19 01:41:13,447 : Flow Logger HTML_5 : \n",
      "\n",
      "\n",
      "\n",
      "||||||||||||||||||||||||||||||||3 ||||| gonal-f_clean_ ΦΥΛΛΟ ΟΔΗΓΙΩΝ ΧΡΗΣΗΣ.json||||||||||||||||||||||||||||||||\n",
      "\n",
      "\n",
      "\n",
      " | H | CAP |  el | HTML | gonal-f_clean.htm\n",
      "2021-06-19 01:41:13,461 : Heading Extraction gonal-f_clean_ ΦΥΛΛΟ ΟΔΗΓΙΩΝ ΧΡΗΣΗΣ.json_V : Starting Heading Extraction | H | CAP |  el | 3 | gonal-f_clean_ ΦΥΛΛΟ ΟΔΗΓΙΩΝ ΧΡΗΣΗΣ.json\n"
     ]
    },
    {
     "name": "stdout",
     "output_type": "stream",
     "text": [
      "Metrics : 2: Update/Add List Bundle,0.3297 Min,0.359285 MB,0.652134 MB,50.5%\n",
      "\n",
      "Index 3\n",
      "Starting Heading Extraction For File :- gonal-f_clean_ ΦΥΛΛΟ ΟΔΗΓΙΩΝ ΧΡΗΣΗΣ.json\n",
      "File being processed: F:\\Projects\\EMA\\Repository\\EMA EPI PoC\\function_code\\work\\H\\CAP\\GONAL-f\\el\\2021-06-06T10-02-52Z\\partitionedJSONs\\gonal-f_clean_ ΦΥΛΛΟ ΟΔΗΓΙΩΝ ΧΡΗΣΗΣ.json\n",
      "--------------------------------------------\n",
      "ΦΥΛΛΟ ΟΔΗΓΙΩΝ ΧΡΗΣΗΣ\n"
     ]
    },
    {
     "name": "stderr",
     "output_type": "stream",
     "text": [
      "2021-06-19 01:41:15,096 : Heading Extraction gonal-f_clean_ ΦΥΛΛΟ ΟΔΗΓΙΩΝ ΧΡΗΣΗΣ.json_V : Started Extracting Heading | H | CAP |  el | 3 | gonal-f_clean_ ΦΥΛΛΟ ΟΔΗΓΙΩΝ ΧΡΗΣΗΣ.json\n",
      "2021-06-19 01:41:15,242 : Heading Extraction gonal-f_clean_ ΦΥΛΛΟ ΟΔΗΓΙΩΝ ΧΡΗΣΗΣ.json_V : Match Passed : <=4|4.35|(96, 96, 96)|0.984| | H | CAP |  el | 3 | gonal-f_clean_ ΦΥΛΛΟ ΟΔΗΓΙΩΝ ΧΡΗΣΗΣ.json | Doc txt :- 'Β. ΦΥΛΛΟ ΟΔΗΓΙΩΝ ΧΡΗΣΗΣ' | Qrd txt :- 'B. ΦΥΛΛΟ ΟΔΗΓΙΩΝ ΧΡΗΣΗΣ' | Matched :- 'True'\n",
      "2021-06-19 01:41:15,260 : Heading Extraction gonal-f_clean_ ΦΥΛΛΟ ΟΔΗΓΙΩΝ ΧΡΗΣΗΣ.json_V : Validation Passed As This The First Heading | H | CAP |  el | 3 | gonal-f_clean_ ΦΥΛΛΟ ΟΔΗΓΙΩΝ ΧΡΗΣΗΣ.json | currHeadId :- '23001' | prevHeadingCurrId :- '' | prevHeadingFoundId :- ''\n",
      "2021-06-19 01:41:56,731 : Heading Extraction gonal-f_clean_ ΦΥΛΛΟ ΟΔΗΓΙΩΝ ΧΡΗΣΗΣ.json_V : Match Passed | H | CAP |  el | 3 | gonal-f_clean_ ΦΥΛΛΟ ΟΔΗΓΙΩΝ ΧΡΗΣΗΣ.json | Doc txt :- 'Τι περιέχει το παρόν φύλλο οδηγιών:' | Qrd txt :- 'Τι περιέχει το παρόν φύλλο οδηγιών:' | Matched :- 'True'\n",
      "2021-06-19 01:41:56,757 : Heading Extraction gonal-f_clean_ ΦΥΛΛΟ ΟΔΗΓΙΩΝ ΧΡΗΣΗΣ.json_V : Validation Flow Is Broken | H | CAP |  el | 3 | gonal-f_clean_ ΦΥΛΛΟ ΟΔΗΓΙΩΝ ΧΡΗΣΗΣ.json | currHeadId :- '23003' | prevHeadingCurrId :- '' | prevHeadingFoundId :- '23001'\n",
      "2021-06-19 01:41:56,773 : Heading Extraction gonal-f_clean_ ΦΥΛΛΟ ΟΔΗΓΙΩΝ ΧΡΗΣΗΣ.json_V : Validation Passed | H | CAP |  el | 3 | gonal-f_clean_ ΦΥΛΛΟ ΟΔΗΓΙΩΝ ΧΡΗΣΗΣ.json | currHeadId :- '23003' | prevHeadingCurrId :- '23001' | prevHeadingFoundId :- '23001'\n",
      "2021-06-19 01:41:57,141 : Heading Extraction gonal-f_clean_ ΦΥΛΛΟ ΟΔΗΓΙΩΝ ΧΡΗΣΗΣ.json_V : Match Passed : >7|2.04|(98, 98, 100)|0.996| | H | CAP |  el | 3 | gonal-f_clean_ ΦΥΛΛΟ ΟΔΗΓΙΩΝ ΧΡΗΣΗΣ.json | Doc txt :- '1.       Τι είναι το GONAL‑f και ποια είναι η χρήση του' | Qrd txt :- '1. Τι είναι το GONAL-f και ποια είναι η χρήση του' | Matched :- 'True'\n",
      "2021-06-19 01:41:57,167 : Heading Extraction gonal-f_clean_ ΦΥΛΛΟ ΟΔΗΓΙΩΝ ΧΡΗΣΗΣ.json_V : Validation Passed | H | CAP |  el | 3 | gonal-f_clean_ ΦΥΛΛΟ ΟΔΗΓΙΩΝ ΧΡΗΣΗΣ.json | currHeadId :- '23004' | prevHeadingCurrId :- '23003' | prevHeadingFoundId :- '23003'\n",
      "2021-06-19 01:41:57,178 : Heading Extraction gonal-f_clean_ ΦΥΛΛΟ ΟΔΗΓΙΩΝ ΧΡΗΣΗΣ.json_V : Validation Failed By Style | H | CAP |  el | 3 | gonal-f_clean_ ΦΥΛΛΟ ΟΔΗΓΙΩΝ ΧΡΗΣΗΣ.json | currHeadId :- '23004' | prevHeadingCurrId :- '' | prevHeadingFoundId :- '23003'\n"
     ]
    },
    {
     "name": "stdout",
     "output_type": "stream",
     "text": [
      "----------------------------------\n",
      "RemovedByStyle\n",
      "----------------------------------\n"
     ]
    },
    {
     "name": "stderr",
     "output_type": "stream",
     "text": [
      "2021-06-19 01:42:00,003 : Heading Extraction gonal-f_clean_ ΦΥΛΛΟ ΟΔΗΓΙΩΝ ΧΡΗΣΗΣ.json_V : Match Passed : Contains<>|21.05|(90, 81, 95)|0.962| | H | CAP |  el | 3 | gonal-f_clean_ ΦΥΛΛΟ ΟΔΗΓΙΩΝ ΧΡΗΣΗΣ.json | Doc txt :- '2.       Τι πρέπει να γνωρίζετε πριν χρησιμοποιήσετε το GONAL‑f' | Qrd txt :- '2. Τι πρέπει να γνωρίζετε πριν <πάρετε> <χρησιμοποιήσετε> το GONAL-f' | Matched :- 'True'\n",
      "2021-06-19 01:42:00,055 : Heading Extraction gonal-f_clean_ ΦΥΛΛΟ ΟΔΗΓΙΩΝ ΧΡΗΣΗΣ.json_V : Validation Flow Is Broken | H | CAP |  el | 3 | gonal-f_clean_ ΦΥΛΛΟ ΟΔΗΓΙΩΝ ΧΡΗΣΗΣ.json | currHeadId :- '23005' | prevHeadingCurrId :- '' | prevHeadingFoundId :- '23003'\n",
      "2021-06-19 01:42:00,087 : Heading Extraction gonal-f_clean_ ΦΥΛΛΟ ΟΔΗΓΙΩΝ ΧΡΗΣΗΣ.json_V : Validation Passed | H | CAP |  el | 3 | gonal-f_clean_ ΦΥΛΛΟ ΟΔΗΓΙΩΝ ΧΡΗΣΗΣ.json | currHeadId :- '23005' | prevHeadingCurrId :- '23003' | prevHeadingFoundId :- '23003'\n",
      "2021-06-19 01:42:00,120 : Heading Extraction gonal-f_clean_ ΦΥΛΛΟ ΟΔΗΓΙΩΝ ΧΡΗΣΗΣ.json_V : Validation Failed By Style | H | CAP |  el | 3 | gonal-f_clean_ ΦΥΛΛΟ ΟΔΗΓΙΩΝ ΧΡΗΣΗΣ.json | currHeadId :- '23005' | prevHeadingCurrId :- '' | prevHeadingFoundId :- '23003'\n",
      "2021-06-19 01:42:00,209 : Heading Extraction gonal-f_clean_ ΦΥΛΛΟ ΟΔΗΓΙΩΝ ΧΡΗΣΗΣ.json_V : Match Passed : Contains<>|47.37|(65, 77, 79)|0.673| | H | CAP |  el | 3 | gonal-f_clean_ ΦΥΛΛΟ ΟΔΗΓΙΩΝ ΧΡΗΣΗΣ.json | Doc txt :- '2.       Τι πρέπει να γνωρίζετε πριν χρησιμοποιήσετε το GONAL‑f' | Qrd txt :- 'Μην <πάρετε> <χρησιμοποιήσετε> το GONAL-f' | Matched :- 'True'\n",
      "2021-06-19 01:42:00,254 : Heading Extraction gonal-f_clean_ ΦΥΛΛΟ ΟΔΗΓΙΩΝ ΧΡΗΣΗΣ.json_V : Validation Flow Is Broken | H | CAP |  el | 3 | gonal-f_clean_ ΦΥΛΛΟ ΟΔΗΓΙΩΝ ΧΡΗΣΗΣ.json | currHeadId :- '23006' | prevHeadingCurrId :- '' | prevHeadingFoundId :- '23003'\n"
     ]
    },
    {
     "name": "stdout",
     "output_type": "stream",
     "text": [
      "----------------------------------\n",
      "RemovedByStyle\n",
      "----------------------------------\n"
     ]
    },
    {
     "name": "stderr",
     "output_type": "stream",
     "text": [
      "2021-06-19 01:42:00,295 : Heading Extraction gonal-f_clean_ ΦΥΛΛΟ ΟΔΗΓΙΩΝ ΧΡΗΣΗΣ.json_V : Validation Passed | H | CAP |  el | 3 | gonal-f_clean_ ΦΥΛΛΟ ΟΔΗΓΙΩΝ ΧΡΗΣΗΣ.json | currHeadId :- '23006' | prevHeadingCurrId :- '23003' | prevHeadingFoundId :- '23003'\n",
      "2021-06-19 01:42:00,318 : Heading Extraction gonal-f_clean_ ΦΥΛΛΟ ΟΔΗΓΙΩΝ ΧΡΗΣΗΣ.json_V : Validation Failed By Style | H | CAP |  el | 3 | gonal-f_clean_ ΦΥΛΛΟ ΟΔΗΓΙΩΝ ΧΡΗΣΗΣ.json | currHeadId :- '23006' | prevHeadingCurrId :- '' | prevHeadingFoundId :- '23003'\n"
     ]
    },
    {
     "name": "stdout",
     "output_type": "stream",
     "text": [
      "----------------------------------\n",
      "RemovedByStyle\n",
      "----------------------------------\n"
     ]
    },
    {
     "name": "stderr",
     "output_type": "stream",
     "text": [
      "2021-06-19 01:42:00,956 : Heading Extraction gonal-f_clean_ ΦΥΛΛΟ ΟΔΗΓΙΩΝ ΧΡΗΣΗΣ.json_V : Match Passed : Contains<>|40.35|(69, 73, 78)|0.695| | H | CAP |  el | 3 | gonal-f_clean_ ΦΥΛΛΟ ΟΔΗΓΙΩΝ ΧΡΗΣΗΣ.json | Doc txt :- '2.       Τι πρέπει να γνωρίζετε πριν χρησιμοποιήσετε το GONAL‑f' | Qrd txt :- '3. Πώς να <πάρετε> <χρησιμοποιήσετε> το GONAL-f' | Matched :- 'True'\n",
      "2021-06-19 01:42:00,998 : Heading Extraction gonal-f_clean_ ΦΥΛΛΟ ΟΔΗΓΙΩΝ ΧΡΗΣΗΣ.json_V : Validation Flow Is Broken | H | CAP |  el | 3 | gonal-f_clean_ ΦΥΛΛΟ ΟΔΗΓΙΩΝ ΧΡΗΣΗΣ.json | currHeadId :- '23014' | prevHeadingCurrId :- '' | prevHeadingFoundId :- '23003'\n",
      "2021-06-19 01:42:01,022 : Heading Extraction gonal-f_clean_ ΦΥΛΛΟ ΟΔΗΓΙΩΝ ΧΡΗΣΗΣ.json_V : Validation Passed | H | CAP |  el | 3 | gonal-f_clean_ ΦΥΛΛΟ ΟΔΗΓΙΩΝ ΧΡΗΣΗΣ.json | currHeadId :- '23014' | prevHeadingCurrId :- '23003' | prevHeadingFoundId :- '23003'\n",
      "2021-06-19 01:42:01,047 : Heading Extraction gonal-f_clean_ ΦΥΛΛΟ ΟΔΗΓΙΩΝ ΧΡΗΣΗΣ.json_V : Validation Failed By Style | H | CAP |  el | 3 | gonal-f_clean_ ΦΥΛΛΟ ΟΔΗΓΙΩΝ ΧΡΗΣΗΣ.json | currHeadId :- '23014' | prevHeadingCurrId :- '' | prevHeadingFoundId :- '23003'\n"
     ]
    },
    {
     "name": "stdout",
     "output_type": "stream",
     "text": [
      "----------------------------------\n",
      "RemovedByStyle\n",
      "----------------------------------\n"
     ]
    },
    {
     "name": "stderr",
     "output_type": "stream",
     "text": [
      "2021-06-19 01:42:03,610 : Heading Extraction gonal-f_clean_ ΦΥΛΛΟ ΟΔΗΓΙΩΝ ΧΡΗΣΗΣ.json_V : Match Passed : Contains<>|38.89|(70, 73, 81)|0.811| | H | CAP |  el | 3 | gonal-f_clean_ ΦΥΛΛΟ ΟΔΗΓΙΩΝ ΧΡΗΣΗΣ.json | Doc txt :- '3.       Πώς να χρησιμοποιήσετε το GONAL‑f' | Qrd txt :- 'Μην <πάρετε> <χρησιμοποιήσετε> το GONAL-f' | Matched :- 'True'\n",
      "2021-06-19 01:42:03,673 : Heading Extraction gonal-f_clean_ ΦΥΛΛΟ ΟΔΗΓΙΩΝ ΧΡΗΣΗΣ.json_V : Validation Flow Is Broken | H | CAP |  el | 3 | gonal-f_clean_ ΦΥΛΛΟ ΟΔΗΓΙΩΝ ΧΡΗΣΗΣ.json | currHeadId :- '23006' | prevHeadingCurrId :- '' | prevHeadingFoundId :- '23003'\n",
      "2021-06-19 01:42:03,700 : Heading Extraction gonal-f_clean_ ΦΥΛΛΟ ΟΔΗΓΙΩΝ ΧΡΗΣΗΣ.json_V : Validation Passed | H | CAP |  el | 3 | gonal-f_clean_ ΦΥΛΛΟ ΟΔΗΓΙΩΝ ΧΡΗΣΗΣ.json | currHeadId :- '23006' | prevHeadingCurrId :- '23003' | prevHeadingFoundId :- '23003'\n",
      "2021-06-19 01:42:03,730 : Heading Extraction gonal-f_clean_ ΦΥΛΛΟ ΟΔΗΓΙΩΝ ΧΡΗΣΗΣ.json_V : Validation Failed By Style | H | CAP |  el | 3 | gonal-f_clean_ ΦΥΛΛΟ ΟΔΗΓΙΩΝ ΧΡΗΣΗΣ.json | currHeadId :- '23006' | prevHeadingCurrId :- '' | prevHeadingFoundId :- '23003'\n"
     ]
    },
    {
     "name": "stdout",
     "output_type": "stream",
     "text": [
      "----------------------------------\n",
      "RemovedByStyle\n",
      "----------------------------------\n"
     ]
    },
    {
     "name": "stderr",
     "output_type": "stream",
     "text": [
      "2021-06-19 01:42:04,203 : Heading Extraction gonal-f_clean_ ΦΥΛΛΟ ΟΔΗΓΙΩΝ ΧΡΗΣΗΣ.json_V : Match Passed : Contains<>|33.33|(84, 72, 95)|0.938| | H | CAP |  el | 3 | gonal-f_clean_ ΦΥΛΛΟ ΟΔΗΓΙΩΝ ΧΡΗΣΗΣ.json | Doc txt :- '3.       Πώς να χρησιμοποιήσετε το GONAL‑f' | Qrd txt :- '3. Πώς να <πάρετε> <χρησιμοποιήσετε> το GONAL-f' | Matched :- 'True'\n",
      "2021-06-19 01:42:04,245 : Heading Extraction gonal-f_clean_ ΦΥΛΛΟ ΟΔΗΓΙΩΝ ΧΡΗΣΗΣ.json_V : Validation Flow Is Broken | H | CAP |  el | 3 | gonal-f_clean_ ΦΥΛΛΟ ΟΔΗΓΙΩΝ ΧΡΗΣΗΣ.json | currHeadId :- '23014' | prevHeadingCurrId :- '' | prevHeadingFoundId :- '23003'\n",
      "2021-06-19 01:42:04,272 : Heading Extraction gonal-f_clean_ ΦΥΛΛΟ ΟΔΗΓΙΩΝ ΧΡΗΣΗΣ.json_V : Validation Passed | H | CAP |  el | 3 | gonal-f_clean_ ΦΥΛΛΟ ΟΔΗΓΙΩΝ ΧΡΗΣΗΣ.json | currHeadId :- '23014' | prevHeadingCurrId :- '23003' | prevHeadingFoundId :- '23003'\n",
      "2021-06-19 01:42:04,305 : Heading Extraction gonal-f_clean_ ΦΥΛΛΟ ΟΔΗΓΙΩΝ ΧΡΗΣΗΣ.json_V : Validation Failed By Style | H | CAP |  el | 3 | gonal-f_clean_ ΦΥΛΛΟ ΟΔΗΓΙΩΝ ΧΡΗΣΗΣ.json | currHeadId :- '23014' | prevHeadingCurrId :- '' | prevHeadingFoundId :- '23003'\n"
     ]
    },
    {
     "name": "stdout",
     "output_type": "stream",
     "text": [
      "----------------------------------\n",
      "RemovedByStyle\n",
      "----------------------------------\n"
     ]
    },
    {
     "name": "stderr",
     "output_type": "stream",
     "text": [
      "2021-06-19 01:42:04,536 : Heading Extraction gonal-f_clean_ ΦΥΛΛΟ ΟΔΗΓΙΩΝ ΧΡΗΣΗΣ.json_V : Match Passed : Contains<>|63.89|(67, 72, 86)|0.678| | H | CAP |  el | 3 | gonal-f_clean_ ΦΥΛΛΟ ΟΔΗΓΙΩΝ ΧΡΗΣΗΣ.json | Doc txt :- '3.       Πώς να χρησιμοποιήσετε το GONAL‑f' | Qrd txt :- 'Εάν ξεχάσετε να <πάρετε> <χρησιμοποιήσετε> το GONAL-f' | Matched :- 'True'\n",
      "2021-06-19 01:42:04,588 : Heading Extraction gonal-f_clean_ ΦΥΛΛΟ ΟΔΗΓΙΩΝ ΧΡΗΣΗΣ.json_V : Validation Flow Is Broken | H | CAP |  el | 3 | gonal-f_clean_ ΦΥΛΛΟ ΟΔΗΓΙΩΝ ΧΡΗΣΗΣ.json | currHeadId :- '23017' | prevHeadingCurrId :- '' | prevHeadingFoundId :- '23003'\n",
      "2021-06-19 01:42:04,621 : Heading Extraction gonal-f_clean_ ΦΥΛΛΟ ΟΔΗΓΙΩΝ ΧΡΗΣΗΣ.json_V : Validation Passed | H | CAP |  el | 3 | gonal-f_clean_ ΦΥΛΛΟ ΟΔΗΓΙΩΝ ΧΡΗΣΗΣ.json | currHeadId :- '23017' | prevHeadingCurrId :- '23003' | prevHeadingFoundId :- '23003'\n",
      "2021-06-19 01:42:04,649 : Heading Extraction gonal-f_clean_ ΦΥΛΛΟ ΟΔΗΓΙΩΝ ΧΡΗΣΗΣ.json_V : Validation Failed By Style | H | CAP |  el | 3 | gonal-f_clean_ ΦΥΛΛΟ ΟΔΗΓΙΩΝ ΧΡΗΣΗΣ.json | currHeadId :- '23017' | prevHeadingCurrId :- '' | prevHeadingFoundId :- '23003'\n"
     ]
    },
    {
     "name": "stdout",
     "output_type": "stream",
     "text": [
      "----------------------------------\n",
      "RemovedByStyle\n",
      "----------------------------------\n"
     ]
    },
    {
     "name": "stderr",
     "output_type": "stream",
     "text": [
      "2021-06-19 01:42:06,905 : Heading Extraction gonal-f_clean_ ΦΥΛΛΟ ΟΔΗΓΙΩΝ ΧΡΗΣΗΣ.json_V : Match Passed | H | CAP |  el | 3 | gonal-f_clean_ ΦΥΛΛΟ ΟΔΗΓΙΩΝ ΧΡΗΣΗΣ.json | Doc txt :- '4. Πιθανές ανεπιθύμητες ενέργειες' | Qrd txt :- '4. Πιθανές ανεπιθύμητες ενέργειες' | Matched :- 'True'\n",
      "2021-06-19 01:42:06,943 : Heading Extraction gonal-f_clean_ ΦΥΛΛΟ ΟΔΗΓΙΩΝ ΧΡΗΣΗΣ.json_V : Validation Flow Is Broken | H | CAP |  el | 3 | gonal-f_clean_ ΦΥΛΛΟ ΟΔΗΓΙΩΝ ΧΡΗΣΗΣ.json | currHeadId :- '23019' | prevHeadingCurrId :- '' | prevHeadingFoundId :- '23003'\n",
      "2021-06-19 01:42:06,961 : Heading Extraction gonal-f_clean_ ΦΥΛΛΟ ΟΔΗΓΙΩΝ ΧΡΗΣΗΣ.json_V : Validation Passed | H | CAP |  el | 3 | gonal-f_clean_ ΦΥΛΛΟ ΟΔΗΓΙΩΝ ΧΡΗΣΗΣ.json | currHeadId :- '23019' | prevHeadingCurrId :- '23003' | prevHeadingFoundId :- '23003'\n",
      "2021-06-19 01:42:06,979 : Heading Extraction gonal-f_clean_ ΦΥΛΛΟ ΟΔΗΓΙΩΝ ΧΡΗΣΗΣ.json_V : Validation Failed By Style | H | CAP |  el | 3 | gonal-f_clean_ ΦΥΛΛΟ ΟΔΗΓΙΩΝ ΧΡΗΣΗΣ.json | currHeadId :- '23019' | prevHeadingCurrId :- '' | prevHeadingFoundId :- '23003'\n"
     ]
    },
    {
     "name": "stdout",
     "output_type": "stream",
     "text": [
      "----------------------------------\n",
      "RemovedByStyle\n",
      "----------------------------------\n"
     ]
    },
    {
     "name": "stderr",
     "output_type": "stream",
     "text": [
      "2021-06-19 01:42:09,032 : Heading Extraction gonal-f_clean_ ΦΥΛΛΟ ΟΔΗΓΙΩΝ ΧΡΗΣΗΣ.json_V : Match Passed : <=7|3.33|(97, 97, 100)|0.993| | H | CAP |  el | 3 | gonal-f_clean_ ΦΥΛΛΟ ΟΔΗΓΙΩΝ ΧΡΗΣΗΣ.json | Doc txt :- '5.       Πώς να φυλάσσετε το GONAL‑f' | Qrd txt :- '5. Πώς να φυλάσσετε το  GONAL-f' | Matched :- 'True'\n",
      "2021-06-19 01:42:09,063 : Heading Extraction gonal-f_clean_ ΦΥΛΛΟ ΟΔΗΓΙΩΝ ΧΡΗΣΗΣ.json_V : Validation Flow Is Broken | H | CAP |  el | 3 | gonal-f_clean_ ΦΥΛΛΟ ΟΔΗΓΙΩΝ ΧΡΗΣΗΣ.json | currHeadId :- '23022' | prevHeadingCurrId :- '' | prevHeadingFoundId :- '23003'\n",
      "2021-06-19 01:42:09,086 : Heading Extraction gonal-f_clean_ ΦΥΛΛΟ ΟΔΗΓΙΩΝ ΧΡΗΣΗΣ.json_V : Validation Passed | H | CAP |  el | 3 | gonal-f_clean_ ΦΥΛΛΟ ΟΔΗΓΙΩΝ ΧΡΗΣΗΣ.json | currHeadId :- '23022' | prevHeadingCurrId :- '23003' | prevHeadingFoundId :- '23003'\n",
      "2021-06-19 01:42:09,102 : Heading Extraction gonal-f_clean_ ΦΥΛΛΟ ΟΔΗΓΙΩΝ ΧΡΗΣΗΣ.json_V : Validation Failed By Style | H | CAP |  el | 3 | gonal-f_clean_ ΦΥΛΛΟ ΟΔΗΓΙΩΝ ΧΡΗΣΗΣ.json | currHeadId :- '23022' | prevHeadingCurrId :- '' | prevHeadingFoundId :- '23003'\n"
     ]
    },
    {
     "name": "stdout",
     "output_type": "stream",
     "text": [
      "----------------------------------\n",
      "RemovedByStyle\n",
      "----------------------------------\n"
     ]
    },
    {
     "name": "stderr",
     "output_type": "stream",
     "text": [
      "2021-06-19 01:42:11,316 : Heading Extraction gonal-f_clean_ ΦΥΛΛΟ ΟΔΗΓΙΩΝ ΧΡΗΣΗΣ.json_V : Match Passed | H | CAP |  el | 3 | gonal-f_clean_ ΦΥΛΛΟ ΟΔΗΓΙΩΝ ΧΡΗΣΗΣ.json | Doc txt :- '6. Περιεχόμενα της συσκευασίας και λοιπές πληροφορίες' | Qrd txt :- '6. Περιεχόμενα της συσκευασίας και λοιπές πληροφορίες' | Matched :- 'True'\n",
      "2021-06-19 01:42:11,340 : Heading Extraction gonal-f_clean_ ΦΥΛΛΟ ΟΔΗΓΙΩΝ ΧΡΗΣΗΣ.json_V : Validation Flow Is Broken | H | CAP |  el | 3 | gonal-f_clean_ ΦΥΛΛΟ ΟΔΗΓΙΩΝ ΧΡΗΣΗΣ.json | currHeadId :- '23023' | prevHeadingCurrId :- '' | prevHeadingFoundId :- '23003'\n",
      "2021-06-19 01:42:11,361 : Heading Extraction gonal-f_clean_ ΦΥΛΛΟ ΟΔΗΓΙΩΝ ΧΡΗΣΗΣ.json_V : Validation Passed | H | CAP |  el | 3 | gonal-f_clean_ ΦΥΛΛΟ ΟΔΗΓΙΩΝ ΧΡΗΣΗΣ.json | currHeadId :- '23023' | prevHeadingCurrId :- '23003' | prevHeadingFoundId :- '23003'\n",
      "2021-06-19 01:42:11,377 : Heading Extraction gonal-f_clean_ ΦΥΛΛΟ ΟΔΗΓΙΩΝ ΧΡΗΣΗΣ.json_V : Validation Failed By Style | H | CAP |  el | 3 | gonal-f_clean_ ΦΥΛΛΟ ΟΔΗΓΙΩΝ ΧΡΗΣΗΣ.json | currHeadId :- '23023' | prevHeadingCurrId :- '' | prevHeadingFoundId :- '23003'\n"
     ]
    },
    {
     "name": "stdout",
     "output_type": "stream",
     "text": [
      "----------------------------------\n",
      "RemovedByStyle\n",
      "----------------------------------\n"
     ]
    },
    {
     "name": "stderr",
     "output_type": "stream",
     "text": [
      "2021-06-19 01:42:13,132 : Heading Extraction gonal-f_clean_ ΦΥΛΛΟ ΟΔΗΓΙΩΝ ΧΡΗΣΗΣ.json_V : Match Passed : Contains<>|54.79|(63, 68, 86)|0.666| | H | CAP |  el | 3 | gonal-f_clean_ ΦΥΛΛΟ ΟΔΗΓΙΩΝ ΧΡΗΣΗΣ.json | Doc txt :- 'Πώς να προετοιμάσετε και να χρησιμοποιήσετε το GONAL‑f κόνις και διαλύτης' | Qrd txt :- '3. Πώς να <πάρετε> <χρησιμοποιήσετε> το GONAL-f' | Matched :- 'True'\n",
      "2021-06-19 01:42:13,169 : Heading Extraction gonal-f_clean_ ΦΥΛΛΟ ΟΔΗΓΙΩΝ ΧΡΗΣΗΣ.json_V : Validation Flow Is Broken | H | CAP |  el | 3 | gonal-f_clean_ ΦΥΛΛΟ ΟΔΗΓΙΩΝ ΧΡΗΣΗΣ.json | currHeadId :- '23014' | prevHeadingCurrId :- '' | prevHeadingFoundId :- '23003'\n",
      "2021-06-19 01:42:13,186 : Heading Extraction gonal-f_clean_ ΦΥΛΛΟ ΟΔΗΓΙΩΝ ΧΡΗΣΗΣ.json_V : Validation Passed | H | CAP |  el | 3 | gonal-f_clean_ ΦΥΛΛΟ ΟΔΗΓΙΩΝ ΧΡΗΣΗΣ.json | currHeadId :- '23014' | prevHeadingCurrId :- '23003' | prevHeadingFoundId :- '23003'\n",
      "2021-06-19 01:42:13,197 : Heading Extraction gonal-f_clean_ ΦΥΛΛΟ ΟΔΗΓΙΩΝ ΧΡΗΣΗΣ.json_V : Validation Failed By Style | H | CAP |  el | 3 | gonal-f_clean_ ΦΥΛΛΟ ΟΔΗΓΙΩΝ ΧΡΗΣΗΣ.json | currHeadId :- '23014' | prevHeadingCurrId :- '' | prevHeadingFoundId :- '23003'\n"
     ]
    },
    {
     "name": "stdout",
     "output_type": "stream",
     "text": [
      "----------------------------------\n",
      "RemovedByStyle\n",
      "----------------------------------\n"
     ]
    },
    {
     "name": "stderr",
     "output_type": "stream",
     "text": [
      "2021-06-19 01:42:15,393 : Heading Extraction gonal-f_clean_ ΦΥΛΛΟ ΟΔΗΓΙΩΝ ΧΡΗΣΗΣ.json_V : Match Passed : >7|2.04|(98, 98, 100)|0.996| | H | CAP |  el | 3 | gonal-f_clean_ ΦΥΛΛΟ ΟΔΗΓΙΩΝ ΧΡΗΣΗΣ.json | Doc txt :- '1.       Τι είναι το GONAL‑f και ποια είναι η χρήση του' | Qrd txt :- '1. Τι είναι το GONAL-f και ποια είναι η χρήση του' | Matched :- 'True'\n",
      "2021-06-19 01:42:15,411 : Heading Extraction gonal-f_clean_ ΦΥΛΛΟ ΟΔΗΓΙΩΝ ΧΡΗΣΗΣ.json_V : Validation Passed | H | CAP |  el | 3 | gonal-f_clean_ ΦΥΛΛΟ ΟΔΗΓΙΩΝ ΧΡΗΣΗΣ.json | currHeadId :- '23004' | prevHeadingCurrId :- '23003' | prevHeadingFoundId :- '23003'\n"
     ]
    },
    {
     "name": "stdout",
     "output_type": "stream",
     "text": [
      "\n",
      "OriginalCheck\n",
      "\n"
     ]
    },
    {
     "name": "stderr",
     "output_type": "stream",
     "text": [
      "2021-06-19 01:42:19,002 : Heading Extraction gonal-f_clean_ ΦΥΛΛΟ ΟΔΗΓΙΩΝ ΧΡΗΣΗΣ.json_V : Match Passed : <=4|10.0|(90, 90, 100)|0.971| | H | CAP |  el | 3 | gonal-f_clean_ ΦΥΛΛΟ ΟΔΗΓΙΩΝ ΧΡΗΣΗΣ.json | Doc txt :- 'το gonal‑f' | Qrd txt :- 'το gonal-f' | Matched :- 'True'\n",
      "2021-06-19 01:42:19,006 : Heading Extraction gonal-f_clean_ ΦΥΛΛΟ ΟΔΗΓΙΩΝ ΧΡΗΣΗΣ.json_V : Match Passed In Lowercase  : <=4|10.0|(90, 90, 100)|0.971| | H | CAP |  el | 3 | gonal-f_clean_ ΦΥΛΛΟ ΟΔΗΓΙΩΝ ΧΡΗΣΗΣ.json | Doc txt :- ', το GONAL‑f χορηγείται:' | Qrd txt :- 'Το GONAL-f περιέχει {όνομα(τα) εκδόχου(ων)}' | Matched :- 'True'\n",
      "2021-06-19 01:42:19,033 : Heading Extraction gonal-f_clean_ ΦΥΛΛΟ ΟΔΗΓΙΩΝ ΧΡΗΣΗΣ.json_V : Validation Flow Is Broken | H | CAP |  el | 3 | gonal-f_clean_ ΦΥΛΛΟ ΟΔΗΓΙΩΝ ΧΡΗΣΗΣ.json | currHeadId :- '23013' | prevHeadingCurrId :- '' | prevHeadingFoundId :- '23004'\n",
      "2021-06-19 01:42:19,049 : Heading Extraction gonal-f_clean_ ΦΥΛΛΟ ΟΔΗΓΙΩΝ ΧΡΗΣΗΣ.json_V : Validation Passed | H | CAP |  el | 3 | gonal-f_clean_ ΦΥΛΛΟ ΟΔΗΓΙΩΝ ΧΡΗΣΗΣ.json | currHeadId :- '23013' | prevHeadingCurrId :- '23004' | prevHeadingFoundId :- '23004'\n",
      "2021-06-19 01:42:19,066 : Heading Extraction gonal-f_clean_ ΦΥΛΛΟ ΟΔΗΓΙΩΝ ΧΡΗΣΗΣ.json_V : Validation Failed By Style | H | CAP |  el | 3 | gonal-f_clean_ ΦΥΛΛΟ ΟΔΗΓΙΩΝ ΧΡΗΣΗΣ.json | currHeadId :- '23013' | prevHeadingCurrId :- '' | prevHeadingFoundId :- '23004'\n"
     ]
    },
    {
     "name": "stdout",
     "output_type": "stream",
     "text": [
      "\n",
      "OriginalCheck\n",
      "\n",
      "----------------------------------\n",
      "RemovedByStyle\n",
      "----------------------------------\n",
      "\n",
      "OriginalCheck\n",
      "\n"
     ]
    },
    {
     "name": "stderr",
     "output_type": "stream",
     "text": [
      "2021-06-19 01:42:36,008 : Heading Extraction gonal-f_clean_ ΦΥΛΛΟ ΟΔΗΓΙΩΝ ΧΡΗΣΗΣ.json_V : Match Passed : Contains<>|21.05|(90, 81, 95)|0.962| | H | CAP |  el | 3 | gonal-f_clean_ ΦΥΛΛΟ ΟΔΗΓΙΩΝ ΧΡΗΣΗΣ.json | Doc txt :- '2.       Τι πρέπει να γνωρίζετε πριν χρησιμοποιήσετε το GONAL‑f' | Qrd txt :- '2. Τι πρέπει να γνωρίζετε πριν <πάρετε> <χρησιμοποιήσετε> το GONAL-f' | Matched :- 'True'\n",
      "2021-06-19 01:42:36,035 : Heading Extraction gonal-f_clean_ ΦΥΛΛΟ ΟΔΗΓΙΩΝ ΧΡΗΣΗΣ.json_V : Validation Passed | H | CAP |  el | 3 | gonal-f_clean_ ΦΥΛΛΟ ΟΔΗΓΙΩΝ ΧΡΗΣΗΣ.json | currHeadId :- '23005' | prevHeadingCurrId :- '23004' | prevHeadingFoundId :- '23004'\n",
      "2021-06-19 01:42:43,160 : Heading Extraction gonal-f_clean_ ΦΥΛΛΟ ΟΔΗΓΙΩΝ ΧΡΗΣΗΣ.json_V : Match Passed : Contains<>|40.0|(82, 87, 95)|0.924| | H | CAP |  el | 3 | gonal-f_clean_ ΦΥΛΛΟ ΟΔΗΓΙΩΝ ΧΡΗΣΗΣ.json | Doc txt :- 'Μην χρησιμοποιήσετε το GONAL‑f' | Qrd txt :- 'Μην <πάρετε> <χρησιμοποιήσετε> το GONAL-f' | Matched :- 'True'\n",
      "2021-06-19 01:42:43,195 : Heading Extraction gonal-f_clean_ ΦΥΛΛΟ ΟΔΗΓΙΩΝ ΧΡΗΣΗΣ.json_V : Validation Passed | H | CAP |  el | 3 | gonal-f_clean_ ΦΥΛΛΟ ΟΔΗΓΙΩΝ ΧΡΗΣΗΣ.json | currHeadId :- '23006' | prevHeadingCurrId :- '23005' | prevHeadingFoundId :- '23005'\n",
      "2021-06-19 01:43:21,628 : Heading Extraction gonal-f_clean_ ΦΥΛΛΟ ΟΔΗΓΙΩΝ ΧΡΗΣΗΣ.json_V : Match Passed | H | CAP |  el | 3 | gonal-f_clean_ ΦΥΛΛΟ ΟΔΗΓΙΩΝ ΧΡΗΣΗΣ.json | Doc txt :- 'Προειδοποιήσεις και προφυλάξεις' | Qrd txt :- 'Προειδοποιήσεις και προφυλάξεις' | Matched :- 'True'\n",
      "2021-06-19 01:43:21,648 : Heading Extraction gonal-f_clean_ ΦΥΛΛΟ ΟΔΗΓΙΩΝ ΧΡΗΣΗΣ.json_V : Validation Passed | H | CAP |  el | 3 | gonal-f_clean_ ΦΥΛΛΟ ΟΔΗΓΙΩΝ ΧΡΗΣΗΣ.json | currHeadId :- '23007' | prevHeadingCurrId :- '23006' | prevHeadingFoundId :- '23006'\n"
     ]
    },
    {
     "name": "stdout",
     "output_type": "stream",
     "text": [
      "\n",
      "OriginalCheck\n",
      "\n",
      "\n",
      "OriginalCheck\n",
      "\n"
     ]
    },
    {
     "name": "stderr",
     "output_type": "stream",
     "text": [
      "2021-06-19 01:43:54,300 : Heading Extraction gonal-f_clean_ ΦΥΛΛΟ ΟΔΗΓΙΩΝ ΧΡΗΣΗΣ.json_V : Match Passed : <=4|10.0|(90, 90, 100)|0.971| | H | CAP |  el | 3 | gonal-f_clean_ ΦΥΛΛΟ ΟΔΗΓΙΩΝ ΧΡΗΣΗΣ.json | Doc txt :- 'Το GONAL‑f δεν ενδείκνυται για χρήση στα παιδιά.' | Qrd txt :- 'Το GONAL-f περιέχει {όνομα(τα) εκδόχου(ων)}' | Matched :- 'True'\n",
      "2021-06-19 01:43:54,318 : Heading Extraction gonal-f_clean_ ΦΥΛΛΟ ΟΔΗΓΙΩΝ ΧΡΗΣΗΣ.json_V : Validation Flow Is Broken | H | CAP |  el | 3 | gonal-f_clean_ ΦΥΛΛΟ ΟΔΗΓΙΩΝ ΧΡΗΣΗΣ.json | currHeadId :- '23013' | prevHeadingCurrId :- '' | prevHeadingFoundId :- '23007'\n",
      "2021-06-19 01:43:54,328 : Heading Extraction gonal-f_clean_ ΦΥΛΛΟ ΟΔΗΓΙΩΝ ΧΡΗΣΗΣ.json_V : Validation Passed | H | CAP |  el | 3 | gonal-f_clean_ ΦΥΛΛΟ ΟΔΗΓΙΩΝ ΧΡΗΣΗΣ.json | currHeadId :- '23013' | prevHeadingCurrId :- '23007' | prevHeadingFoundId :- '23007'\n",
      "2021-06-19 01:43:54,338 : Heading Extraction gonal-f_clean_ ΦΥΛΛΟ ΟΔΗΓΙΩΝ ΧΡΗΣΗΣ.json_V : Validation Failed By Style | H | CAP |  el | 3 | gonal-f_clean_ ΦΥΛΛΟ ΟΔΗΓΙΩΝ ΧΡΗΣΗΣ.json | currHeadId :- '23013' | prevHeadingCurrId :- '' | prevHeadingFoundId :- '23007'\n"
     ]
    },
    {
     "name": "stdout",
     "output_type": "stream",
     "text": [
      "----------------------------------\n",
      "RemovedByStyle\n",
      "----------------------------------\n"
     ]
    },
    {
     "name": "stderr",
     "output_type": "stream",
     "text": [
      "2021-06-19 01:43:55,127 : Heading Extraction gonal-f_clean_ ΦΥΛΛΟ ΟΔΗΓΙΩΝ ΧΡΗΣΗΣ.json_V : Match Passed : <=4|4.17|(96, 96, 100)|0.99| | H | CAP |  el | 3 | gonal-f_clean_ ΦΥΛΛΟ ΟΔΗΓΙΩΝ ΧΡΗΣΗΣ.json | Doc txt :- 'Άλλα φάρμακα και GONAL‑f' | Qrd txt :- 'Άλλα φάρμακα και GONAL-f' | Matched :- 'True'\n",
      "2021-06-19 01:43:55,140 : Heading Extraction gonal-f_clean_ ΦΥΛΛΟ ΟΔΗΓΙΩΝ ΧΡΗΣΗΣ.json_V : Validation Flow Is Broken | H | CAP |  el | 3 | gonal-f_clean_ ΦΥΛΛΟ ΟΔΗΓΙΩΝ ΧΡΗΣΗΣ.json | currHeadId :- '23009' | prevHeadingCurrId :- '' | prevHeadingFoundId :- '23007'\n",
      "2021-06-19 01:43:55,153 : Heading Extraction gonal-f_clean_ ΦΥΛΛΟ ΟΔΗΓΙΩΝ ΧΡΗΣΗΣ.json_V : Validation Passed | H | CAP |  el | 3 | gonal-f_clean_ ΦΥΛΛΟ ΟΔΗΓΙΩΝ ΧΡΗΣΗΣ.json | currHeadId :- '23009' | prevHeadingCurrId :- '23007' | prevHeadingFoundId :- '23007'\n",
      "2021-06-19 01:44:01,011 : Heading Extraction gonal-f_clean_ ΦΥΛΛΟ ΟΔΗΓΙΩΝ ΧΡΗΣΗΣ.json_V : Match Passed : SpecialCase3|122.22|(62, 72, 86)|0.89| | H | CAP |  el | 3 | gonal-f_clean_ ΦΥΛΛΟ ΟΔΗΓΙΩΝ ΧΡΗΣΗΣ.json | Doc txt :- 'Κύηση και θηλασμός' | Qrd txt :- 'Κύηση<,> <και> θηλασμός <και γονιμότητα>' | Matched :- 'True'\n",
      "2021-06-19 01:44:01,027 : Heading Extraction gonal-f_clean_ ΦΥΛΛΟ ΟΔΗΓΙΩΝ ΧΡΗΣΗΣ.json_V : Validation Flow Is Broken | H | CAP |  el | 3 | gonal-f_clean_ ΦΥΛΛΟ ΟΔΗΓΙΩΝ ΧΡΗΣΗΣ.json | currHeadId :- '23011' | prevHeadingCurrId :- '' | prevHeadingFoundId :- '23009'\n",
      "2021-06-19 01:44:01,042 : Heading Extraction gonal-f_clean_ ΦΥΛΛΟ ΟΔΗΓΙΩΝ ΧΡΗΣΗΣ.json_V : Validation Passed | H | CAP |  el | 3 | gonal-f_clean_ ΦΥΛΛΟ ΟΔΗΓΙΩΝ ΧΡΗΣΗΣ.json | currHeadId :- '23011' | prevHeadingCurrId :- '23009' | prevHeadingFoundId :- '23009'\n",
      "2021-06-19 01:44:02,659 : Heading Extraction gonal-f_clean_ ΦΥΛΛΟ ΟΔΗΓΙΩΝ ΧΡΗΣΗΣ.json_V : Match Passed | H | CAP |  el | 3 | gonal-f_clean_ ΦΥΛΛΟ ΟΔΗΓΙΩΝ ΧΡΗΣΗΣ.json | Doc txt :- 'Οδήγηση και χειρισμός μηχανημάτων' | Qrd txt :- 'Οδήγηση και χειρισμός μηχανημάτων' | Matched :- 'True'\n",
      "2021-06-19 01:44:02,677 : Heading Extraction gonal-f_clean_ ΦΥΛΛΟ ΟΔΗΓΙΩΝ ΧΡΗΣΗΣ.json_V : Validation Passed | H | CAP |  el | 3 | gonal-f_clean_ ΦΥΛΛΟ ΟΔΗΓΙΩΝ ΧΡΗΣΗΣ.json | currHeadId :- '23012' | prevHeadingCurrId :- '23011' | prevHeadingFoundId :- '23011'\n",
      "2021-06-19 01:44:06,049 : Heading Extraction gonal-f_clean_ ΦΥΛΛΟ ΟΔΗΓΙΩΝ ΧΡΗΣΗΣ.json_V : Match Passed : <=4|10.0|(90, 90, 100)|0.971| | H | CAP |  el | 3 | gonal-f_clean_ ΦΥΛΛΟ ΟΔΗΓΙΩΝ ΧΡΗΣΗΣ.json | Doc txt :- 'Το GONAL‑f περιέχει νάτριο' | Qrd txt :- 'Το GONAL-f περιέχει {όνομα(τα) εκδόχου(ων)}' | Matched :- 'True'\n",
      "2021-06-19 01:44:06,068 : Heading Extraction gonal-f_clean_ ΦΥΛΛΟ ΟΔΗΓΙΩΝ ΧΡΗΣΗΣ.json_V : Validation Passed | H | CAP |  el | 3 | gonal-f_clean_ ΦΥΛΛΟ ΟΔΗΓΙΩΝ ΧΡΗΣΗΣ.json | currHeadId :- '23013' | prevHeadingCurrId :- '23012' | prevHeadingFoundId :- '23012'\n",
      "2021-06-19 01:44:11,079 : Heading Extraction gonal-f_clean_ ΦΥΛΛΟ ΟΔΗΓΙΩΝ ΧΡΗΣΗΣ.json_V : Match Passed : <=4|0.0|(100, 100, 100)|1.0| | H | CAP |  el | 3 | gonal-f_clean_ ΦΥΛΛΟ ΟΔΗΓΙΩΝ ΧΡΗΣΗΣ.json | Doc txt :- 'Το GONAL-f περιέχει νάτριο και βενζυλική αλκοόλη' | Qrd txt :- 'Το GONAL-f περιέχει {όνομα(τα) εκδόχου(ων)}' | Matched :- 'True'\n",
      "2021-06-19 01:44:11,091 : Heading Extraction gonal-f_clean_ ΦΥΛΛΟ ΟΔΗΓΙΩΝ ΧΡΗΣΗΣ.json_V : Validation Passed As Previous Heading Same As Current | H | CAP |  el | 3 | gonal-f_clean_ ΦΥΛΛΟ ΟΔΗΓΙΩΝ ΧΡΗΣΗΣ.json | currHeadId :- '23013' | prevHeadingCurrId :- '' | prevHeadingFoundId :- '23013'\n",
      "2021-06-19 01:44:17,312 : Heading Extraction gonal-f_clean_ ΦΥΛΛΟ ΟΔΗΓΙΩΝ ΧΡΗΣΗΣ.json_V : Match Passed : Contains<>|38.89|(70, 73, 81)|0.811| | H | CAP |  el | 3 | gonal-f_clean_ ΦΥΛΛΟ ΟΔΗΓΙΩΝ ΧΡΗΣΗΣ.json | Doc txt :- '3.       Πώς να χρησιμοποιήσετε το GONAL‑f' | Qrd txt :- 'Μην <πάρετε> <χρησιμοποιήσετε> το GONAL-f' | Matched :- 'True'\n",
      "2021-06-19 01:44:17,328 : Heading Extraction gonal-f_clean_ ΦΥΛΛΟ ΟΔΗΓΙΩΝ ΧΡΗΣΗΣ.json_V : Validation Failed As Previous Heading Found is not matching | H | CAP |  el | 3 | gonal-f_clean_ ΦΥΛΛΟ ΟΔΗΓΙΩΝ ΧΡΗΣΗΣ.json | currHeadId :- '23006' | prevHeadingCurrId :- '23005' | prevHeadingFoundId :- '23013'\n",
      "2021-06-19 01:44:17,490 : Heading Extraction gonal-f_clean_ ΦΥΛΛΟ ΟΔΗΓΙΩΝ ΧΡΗΣΗΣ.json_V : Match Passed : Contains<>|33.33|(84, 72, 95)|0.938| | H | CAP |  el | 3 | gonal-f_clean_ ΦΥΛΛΟ ΟΔΗΓΙΩΝ ΧΡΗΣΗΣ.json | Doc txt :- '3.       Πώς να χρησιμοποιήσετε το GONAL‑f' | Qrd txt :- '3. Πώς να <πάρετε> <χρησιμοποιήσετε> το GONAL-f' | Matched :- 'True'\n",
      "2021-06-19 01:44:17,509 : Heading Extraction gonal-f_clean_ ΦΥΛΛΟ ΟΔΗΓΙΩΝ ΧΡΗΣΗΣ.json_V : Validation Passed | H | CAP |  el | 3 | gonal-f_clean_ ΦΥΛΛΟ ΟΔΗΓΙΩΝ ΧΡΗΣΗΣ.json | currHeadId :- '23014' | prevHeadingCurrId :- '23013' | prevHeadingFoundId :- '23013'\n",
      "2021-06-19 01:44:24,188 : Heading Extraction gonal-f_clean_ ΦΥΛΛΟ ΟΔΗΓΙΩΝ ΧΡΗΣΗΣ.json_V : Match Passed : <=4|18.18|(86, 90, 100)|0.939| | H | CAP |  el | 3 | gonal-f_clean_ ΦΥΛΛΟ ΟΔΗΓΙΩΝ ΧΡΗΣΗΣ.json | Doc txt :- '·Το GONAL‑f προορίζεται για χορήγηση με ένεση ακριβώς κάτω από το δέρμα (υποδόρια). Additionally <GONAL-f 1050 IU> + <GONAL-f 450 IU> Το ανασυσταμένο διάλυμα μπορεί να χρησιμοποιηθεί για πολλαπλές ενέσεις.' | Qrd txt :- 'Το GONAL-f περιέχει {όνομα(τα) εκδόχου(ων)}' | Matched :- 'True'\n",
      "2021-06-19 01:44:24,235 : Heading Extraction gonal-f_clean_ ΦΥΛΛΟ ΟΔΗΓΙΩΝ ΧΡΗΣΗΣ.json_V : Validation Failed As Previous Heading Found is not matching | H | CAP |  el | 3 | gonal-f_clean_ ΦΥΛΛΟ ΟΔΗΓΙΩΝ ΧΡΗΣΗΣ.json | currHeadId :- '23013' | prevHeadingCurrId :- '23012' | prevHeadingFoundId :- '23014'\n",
      "2021-06-19 01:45:23,303 : Heading Extraction gonal-f_clean_ ΦΥΛΛΟ ΟΔΗΓΙΩΝ ΧΡΗΣΗΣ.json_V : Match Passed : <=4|18.18|(86, 90, 100)|0.939| | H | CAP |  el | 3 | gonal-f_clean_ ΦΥΛΛΟ ΟΔΗΓΙΩΝ ΧΡΗΣΗΣ.json | Doc txt :- '·Το GONAL‑f χορηγείται συνήθως κάθε μέρα.' | Qrd txt :- 'Το GONAL-f περιέχει {όνομα(τα) εκδόχου(ων)}' | Matched :- 'True'\n",
      "2021-06-19 01:45:23,328 : Heading Extraction gonal-f_clean_ ΦΥΛΛΟ ΟΔΗΓΙΩΝ ΧΡΗΣΗΣ.json_V : Validation Failed As Previous Heading Found is not matching | H | CAP |  el | 3 | gonal-f_clean_ ΦΥΛΛΟ ΟΔΗΓΙΩΝ ΧΡΗΣΗΣ.json | currHeadId :- '23013' | prevHeadingCurrId :- '23012' | prevHeadingFoundId :- '23014'\n",
      "2021-06-19 01:46:43,343 : Heading Extraction gonal-f_clean_ ΦΥΛΛΟ ΟΔΗΓΙΩΝ ΧΡΗΣΗΣ.json_V : Match Passed : <=4|18.18|(86, 90, 100)|0.939| | H | CAP |  el | 3 | gonal-f_clean_ ΦΥΛΛΟ ΟΔΗΓΙΩΝ ΧΡΗΣΗΣ.json | Doc txt :- '·Το GONAL‑f μπορεί να αυξηθεί, ανάλογα με την απόκρισή σας. Η μέγιστη ημερήσια δόση είναι 450 IU.' | Qrd txt :- 'Το GONAL-f περιέχει {όνομα(τα) εκδόχου(ων)}' | Matched :- 'True'\n",
      "2021-06-19 01:46:43,366 : Heading Extraction gonal-f_clean_ ΦΥΛΛΟ ΟΔΗΓΙΩΝ ΧΡΗΣΗΣ.json_V : Validation Failed As Previous Heading Found is not matching | H | CAP |  el | 3 | gonal-f_clean_ ΦΥΛΛΟ ΟΔΗΓΙΩΝ ΧΡΗΣΗΣ.json | currHeadId :- '23013' | prevHeadingCurrId :- '23012' | prevHeadingFoundId :- '23014'\n",
      "2021-06-19 01:47:04,417 : Heading Extraction gonal-f_clean_ ΦΥΛΛΟ ΟΔΗΓΙΩΝ ΧΡΗΣΗΣ.json_V : Match Passed : Contains<>|20.0|(90, 93, 95)|0.935| | H | CAP |  el | 3 | gonal-f_clean_ ΦΥΛΛΟ ΟΔΗΓΙΩΝ ΧΡΗΣΗΣ.json | Doc txt :- 'Εάν χρησιμοποιήσετε μεγαλύτερη δόση GONAL‑f από την κανονική' | Qrd txt :- 'Εάν <πάρετε> <χρησιμοποιήσετε> μεγαλύτερη δόση GONAL-f από την κανονική' | Matched :- 'True'\n",
      "2021-06-19 01:47:04,471 : Heading Extraction gonal-f_clean_ ΦΥΛΛΟ ΟΔΗΓΙΩΝ ΧΡΗΣΗΣ.json_V : Validation Flow Is Broken | H | CAP |  el | 3 | gonal-f_clean_ ΦΥΛΛΟ ΟΔΗΓΙΩΝ ΧΡΗΣΗΣ.json | currHeadId :- '23016' | prevHeadingCurrId :- '' | prevHeadingFoundId :- '23014'\n",
      "2021-06-19 01:47:04,503 : Heading Extraction gonal-f_clean_ ΦΥΛΛΟ ΟΔΗΓΙΩΝ ΧΡΗΣΗΣ.json_V : Validation Passed | H | CAP |  el | 3 | gonal-f_clean_ ΦΥΛΛΟ ΟΔΗΓΙΩΝ ΧΡΗΣΗΣ.json | currHeadId :- '23016' | prevHeadingCurrId :- '23014' | prevHeadingFoundId :- '23014'\n",
      "2021-06-19 01:47:05,362 : Heading Extraction gonal-f_clean_ ΦΥΛΛΟ ΟΔΗΓΙΩΝ ΧΡΗΣΗΣ.json_V : Match Passed : Contains<>|28.57|(77, 79, 82)|0.844| | H | CAP |  el | 3 | gonal-f_clean_ ΦΥΛΛΟ ΟΔΗΓΙΩΝ ΧΡΗΣΗΣ.json | Doc txt :- 'Εάν ξεχάσετε να χρησιμοποιήσετε το GONAL‑f' | Qrd txt :- 'Μην <πάρετε> <χρησιμοποιήσετε> το GONAL-f' | Matched :- 'True'\n",
      "2021-06-19 01:47:05,404 : Heading Extraction gonal-f_clean_ ΦΥΛΛΟ ΟΔΗΓΙΩΝ ΧΡΗΣΗΣ.json_V : Validation Failed As Previous Heading Found is not matching | H | CAP |  el | 3 | gonal-f_clean_ ΦΥΛΛΟ ΟΔΗΓΙΩΝ ΧΡΗΣΗΣ.json | currHeadId :- '23006' | prevHeadingCurrId :- '23005' | prevHeadingFoundId :- '23016'\n"
     ]
    },
    {
     "name": "stderr",
     "output_type": "stream",
     "text": [
      "2021-06-19 01:47:05,856 : Heading Extraction gonal-f_clean_ ΦΥΛΛΟ ΟΔΗΓΙΩΝ ΧΡΗΣΗΣ.json_V : Match Passed : Contains<>|42.86|(67, 69, 78)|0.845| | H | CAP |  el | 3 | gonal-f_clean_ ΦΥΛΛΟ ΟΔΗΓΙΩΝ ΧΡΗΣΗΣ.json | Doc txt :- 'Εάν ξεχάσετε να χρησιμοποιήσετε το GONAL‑f' | Qrd txt :- '3. Πώς να <πάρετε> <χρησιμοποιήσετε> το GONAL-f' | Matched :- 'True'\n",
      "2021-06-19 01:47:05,897 : Heading Extraction gonal-f_clean_ ΦΥΛΛΟ ΟΔΗΓΙΩΝ ΧΡΗΣΗΣ.json_V : Validation Failed Package Leaflet Special Case L1 cannot repeat after itself. | H | CAP |  el | 3 | gonal-f_clean_ ΦΥΛΛΟ ΟΔΗΓΙΩΝ ΧΡΗΣΗΣ.json | currHeadId :- '23014' | prevHeadingCurrId :- '' | prevHeadingFoundId :- '23016'\n",
      "2021-06-19 01:47:06,237 : Heading Extraction gonal-f_clean_ ΦΥΛΛΟ ΟΔΗΓΙΩΝ ΧΡΗΣΗΣ.json_V : Match Passed : Contains<>|28.57|(86, 74, 95)|0.947| | H | CAP |  el | 3 | gonal-f_clean_ ΦΥΛΛΟ ΟΔΗΓΙΩΝ ΧΡΗΣΗΣ.json | Doc txt :- 'Εάν ξεχάσετε να χρησιμοποιήσετε το GONAL‑f' | Qrd txt :- 'Εάν ξεχάσετε να <πάρετε> <χρησιμοποιήσετε> το GONAL-f' | Matched :- 'True'\n",
      "2021-06-19 01:47:06,282 : Heading Extraction gonal-f_clean_ ΦΥΛΛΟ ΟΔΗΓΙΩΝ ΧΡΗΣΗΣ.json_V : Validation Passed | H | CAP |  el | 3 | gonal-f_clean_ ΦΥΛΛΟ ΟΔΗΓΙΩΝ ΧΡΗΣΗΣ.json | currHeadId :- '23017' | prevHeadingCurrId :- '23016' | prevHeadingFoundId :- '23016'\n",
      "2021-06-19 01:47:19,918 : Heading Extraction gonal-f_clean_ ΦΥΛΛΟ ΟΔΗΓΙΩΝ ΧΡΗΣΗΣ.json_V : Match Passed | H | CAP |  el | 3 | gonal-f_clean_ ΦΥΛΛΟ ΟΔΗΓΙΩΝ ΧΡΗΣΗΣ.json | Doc txt :- '4. Πιθανές ανεπιθύμητες ενέργειες' | Qrd txt :- '4. Πιθανές ανεπιθύμητες ενέργειες' | Matched :- 'True'\n",
      "2021-06-19 01:47:19,950 : Heading Extraction gonal-f_clean_ ΦΥΛΛΟ ΟΔΗΓΙΩΝ ΧΡΗΣΗΣ.json_V : Validation Flow Is Broken | H | CAP |  el | 3 | gonal-f_clean_ ΦΥΛΛΟ ΟΔΗΓΙΩΝ ΧΡΗΣΗΣ.json | currHeadId :- '23019' | prevHeadingCurrId :- '' | prevHeadingFoundId :- '23017'\n",
      "2021-06-19 01:47:19,975 : Heading Extraction gonal-f_clean_ ΦΥΛΛΟ ΟΔΗΓΙΩΝ ΧΡΗΣΗΣ.json_V : Validation Passed | H | CAP |  el | 3 | gonal-f_clean_ ΦΥΛΛΟ ΟΔΗΓΙΩΝ ΧΡΗΣΗΣ.json | currHeadId :- '23019' | prevHeadingCurrId :- '23017' | prevHeadingFoundId :- '23017'\n",
      "2021-06-19 01:49:03,387 : Heading Extraction gonal-f_clean_ ΦΥΛΛΟ ΟΔΗΓΙΩΝ ΧΡΗΣΗΣ.json_V : Match Passed | H | CAP |  el | 3 | gonal-f_clean_ ΦΥΛΛΟ ΟΔΗΓΙΩΝ ΧΡΗΣΗΣ.json | Doc txt :- 'Αναφορά ανεπιθύμητων ενεργειών' | Qrd txt :- 'Αναφορά ανεπιθύμητων ενεργειών' | Matched :- 'True'\n",
      "2021-06-19 01:49:03,431 : Heading Extraction gonal-f_clean_ ΦΥΛΛΟ ΟΔΗΓΙΩΝ ΧΡΗΣΗΣ.json_V : Validation Flow Is Broken | H | CAP |  el | 3 | gonal-f_clean_ ΦΥΛΛΟ ΟΔΗΓΙΩΝ ΧΡΗΣΗΣ.json | currHeadId :- '23021' | prevHeadingCurrId :- '' | prevHeadingFoundId :- '23019'\n",
      "2021-06-19 01:49:03,459 : Heading Extraction gonal-f_clean_ ΦΥΛΛΟ ΟΔΗΓΙΩΝ ΧΡΗΣΗΣ.json_V : Validation Passed | H | CAP |  el | 3 | gonal-f_clean_ ΦΥΛΛΟ ΟΔΗΓΙΩΝ ΧΡΗΣΗΣ.json | currHeadId :- '23021' | prevHeadingCurrId :- '23019' | prevHeadingFoundId :- '23019'\n",
      "2021-06-19 01:49:04,515 : Heading Extraction gonal-f_clean_ ΦΥΛΛΟ ΟΔΗΓΙΩΝ ΧΡΗΣΗΣ.json_V : Match Passed : <=7|3.33|(97, 97, 100)|0.993| | H | CAP |  el | 3 | gonal-f_clean_ ΦΥΛΛΟ ΟΔΗΓΙΩΝ ΧΡΗΣΗΣ.json | Doc txt :- '5.       Πώς να φυλάσσετε το GONAL‑f' | Qrd txt :- '5. Πώς να φυλάσσετε το  GONAL-f' | Matched :- 'True'\n",
      "2021-06-19 01:49:04,535 : Heading Extraction gonal-f_clean_ ΦΥΛΛΟ ΟΔΗΓΙΩΝ ΧΡΗΣΗΣ.json_V : Validation Passed | H | CAP |  el | 3 | gonal-f_clean_ ΦΥΛΛΟ ΟΔΗΓΙΩΝ ΧΡΗΣΗΣ.json | currHeadId :- '23022' | prevHeadingCurrId :- '23021' | prevHeadingFoundId :- '23021'\n",
      "2021-06-19 01:50:55,092 : Heading Extraction gonal-f_clean_ ΦΥΛΛΟ ΟΔΗΓΙΩΝ ΧΡΗΣΗΣ.json_V : Match Passed | H | CAP |  el | 3 | gonal-f_clean_ ΦΥΛΛΟ ΟΔΗΓΙΩΝ ΧΡΗΣΗΣ.json | Doc txt :- '6. Περιεχόμενα της συσκευασίας και λοιπές πληροφορίες' | Qrd txt :- '6. Περιεχόμενα της συσκευασίας και λοιπές πληροφορίες' | Matched :- 'True'\n",
      "2021-06-19 01:50:55,120 : Heading Extraction gonal-f_clean_ ΦΥΛΛΟ ΟΔΗΓΙΩΝ ΧΡΗΣΗΣ.json_V : Validation Passed | H | CAP |  el | 3 | gonal-f_clean_ ΦΥΛΛΟ ΟΔΗΓΙΩΝ ΧΡΗΣΗΣ.json | currHeadId :- '23023' | prevHeadingCurrId :- '23022' | prevHeadingFoundId :- '23022'\n",
      "2021-06-19 01:50:55,948 : Heading Extraction gonal-f_clean_ ΦΥΛΛΟ ΟΔΗΓΙΩΝ ΧΡΗΣΗΣ.json_V : Match Passed : <=4|4.55|(95, 95, 100)|0.989| | H | CAP |  el | 3 | gonal-f_clean_ ΦΥΛΛΟ ΟΔΗΓΙΩΝ ΧΡΗΣΗΣ.json | Doc txt :- 'Τι περιέχει το GONAL‑f' | Qrd txt :- 'Τι περιέχει το GONAL-f' | Matched :- 'True'\n",
      "2021-06-19 01:50:55,969 : Heading Extraction gonal-f_clean_ ΦΥΛΛΟ ΟΔΗΓΙΩΝ ΧΡΗΣΗΣ.json_V : Validation Passed | H | CAP |  el | 3 | gonal-f_clean_ ΦΥΛΛΟ ΟΔΗΓΙΩΝ ΧΡΗΣΗΣ.json | currHeadId :- '23024' | prevHeadingCurrId :- '23023' | prevHeadingFoundId :- '23023'\n",
      "2021-06-19 01:51:56,840 : Heading Extraction gonal-f_clean_ ΦΥΛΛΟ ΟΔΗΓΙΩΝ ΧΡΗΣΗΣ.json_V : Match Passed : <=7|3.85|(96, 96, 98)|0.986| | H | CAP |  el | 3 | gonal-f_clean_ ΦΥΛΛΟ ΟΔΗΓΙΩΝ ΧΡΗΣΗΣ.json | Doc txt :- 'Eμφάνιση του GONAL‑f και περιεχόμενα της συσκευασίας' | Qrd txt :- 'Εμφάνιση του GONAL-f και περιεχόμενα της συσκευασίας' | Matched :- 'True'\n",
      "2021-06-19 01:51:56,864 : Heading Extraction gonal-f_clean_ ΦΥΛΛΟ ΟΔΗΓΙΩΝ ΧΡΗΣΗΣ.json_V : Validation Passed | H | CAP |  el | 3 | gonal-f_clean_ ΦΥΛΛΟ ΟΔΗΓΙΩΝ ΧΡΗΣΗΣ.json | currHeadId :- '23025' | prevHeadingCurrId :- '23024' | prevHeadingFoundId :- '23024'\n",
      "2021-06-19 01:52:00,645 : Heading Extraction gonal-f_clean_ ΦΥΛΛΟ ΟΔΗΓΙΩΝ ΧΡΗΣΗΣ.json_V : Match Passed : <=4|18.18|(86, 90, 100)|0.939| | H | CAP |  el | 3 | gonal-f_clean_ ΦΥΛΛΟ ΟΔΗΓΙΩΝ ΧΡΗΣΗΣ.json | Doc txt :- '·Το GONAL‑f διατίθεται υπό μορφή κόνεως και διαλύτη, που χρησιμοποιούνται για να ετοιμαστεί ένα ενέσιμο διάλυμα.' | Qrd txt :- 'Το GONAL-f περιέχει {όνομα(τα) εκδόχου(ων)}' | Matched :- 'True'\n",
      "2021-06-19 01:52:00,704 : Heading Extraction gonal-f_clean_ ΦΥΛΛΟ ΟΔΗΓΙΩΝ ΧΡΗΣΗΣ.json_V : Validation Failed As Previous Heading Found is not matching | H | CAP |  el | 3 | gonal-f_clean_ ΦΥΛΛΟ ΟΔΗΓΙΩΝ ΧΡΗΣΗΣ.json | currHeadId :- '23013' | prevHeadingCurrId :- '23012' | prevHeadingFoundId :- '23025'\n",
      "2021-06-19 01:52:17,390 : Heading Extraction gonal-f_clean_ ΦΥΛΛΟ ΟΔΗΓΙΩΝ ΧΡΗΣΗΣ.json_V : Match Passed : <=4|18.18|(86, 90, 100)|0.939| | H | CAP |  el | 3 | gonal-f_clean_ ΦΥΛΛΟ ΟΔΗΓΙΩΝ ΧΡΗΣΗΣ.json | Doc txt :- '·Το GONAL‑f διατίθεται σε συσκευασίες των 1, 5, 10 φιαλιδίων κόνεως με τον αντίστοιχο αριθμό προγεμισμένων συριγγών διαλύτη. Μπορεί να μην κυκλοφορούν όλες οι συσκευασίες.' | Qrd txt :- 'Το GONAL-f περιέχει {όνομα(τα) εκδόχου(ων)}' | Matched :- 'True'\n",
      "2021-06-19 01:52:17,418 : Heading Extraction gonal-f_clean_ ΦΥΛΛΟ ΟΔΗΓΙΩΝ ΧΡΗΣΗΣ.json_V : Validation Failed As Previous Heading Found is not matching | H | CAP |  el | 3 | gonal-f_clean_ ΦΥΛΛΟ ΟΔΗΓΙΩΝ ΧΡΗΣΗΣ.json | currHeadId :- '23013' | prevHeadingCurrId :- '23012' | prevHeadingFoundId :- '23025'\n",
      "2021-06-19 01:52:23,634 : Heading Extraction gonal-f_clean_ ΦΥΛΛΟ ΟΔΗΓΙΩΝ ΧΡΗΣΗΣ.json_V : Match Passed : <=4|18.18|(86, 90, 100)|0.939| | H | CAP |  el | 3 | gonal-f_clean_ ΦΥΛΛΟ ΟΔΗΓΙΩΝ ΧΡΗΣΗΣ.json | Doc txt :- '·Το GONAL‑f διατίθεται υπό μορφή κόνεως και διαλύτη, που χρησιμοποιούνται για να ετοιμαστεί ένα ενέσιμο διάλυμα.' | Qrd txt :- 'Το GONAL-f περιέχει {όνομα(τα) εκδόχου(ων)}' | Matched :- 'True'\n",
      "2021-06-19 01:52:23,664 : Heading Extraction gonal-f_clean_ ΦΥΛΛΟ ΟΔΗΓΙΩΝ ΧΡΗΣΗΣ.json_V : Validation Failed As Previous Heading Found is not matching | H | CAP |  el | 3 | gonal-f_clean_ ΦΥΛΛΟ ΟΔΗΓΙΩΝ ΧΡΗΣΗΣ.json | currHeadId :- '23013' | prevHeadingCurrId :- '23012' | prevHeadingFoundId :- '23025'\n",
      "2021-06-19 01:52:42,928 : Heading Extraction gonal-f_clean_ ΦΥΛΛΟ ΟΔΗΓΙΩΝ ΧΡΗΣΗΣ.json_V : Match Passed : <=4|18.18|(86, 90, 100)|0.939| | H | CAP |  el | 3 | gonal-f_clean_ ΦΥΛΛΟ ΟΔΗΓΙΩΝ ΧΡΗΣΗΣ.json | Doc txt :- '·Το GONAL‑f διατίθεται υπό μορφή κόνεως και διαλύτη, που χρησιμοποιούνται για να ετοιμαστεί ένα ενέσιμο διάλυμα.' | Qrd txt :- 'Το GONAL-f περιέχει {όνομα(τα) εκδόχου(ων)}' | Matched :- 'True'\n",
      "2021-06-19 01:52:42,963 : Heading Extraction gonal-f_clean_ ΦΥΛΛΟ ΟΔΗΓΙΩΝ ΧΡΗΣΗΣ.json_V : Validation Failed As Previous Heading Found is not matching | H | CAP |  el | 3 | gonal-f_clean_ ΦΥΛΛΟ ΟΔΗΓΙΩΝ ΧΡΗΣΗΣ.json | currHeadId :- '23013' | prevHeadingCurrId :- '23012' | prevHeadingFoundId :- '23025'\n",
      "2021-06-19 01:53:08,273 : Heading Extraction gonal-f_clean_ ΦΥΛΛΟ ΟΔΗΓΙΩΝ ΧΡΗΣΗΣ.json_V : Match Passed : Contains<>|76.92|(72, 100, 90)|0.941| | H | CAP |  el | 3 | gonal-f_clean_ ΦΥΛΛΟ ΟΔΗΓΙΩΝ ΧΡΗΣΗΣ.json | Doc txt :- 'Κάτοχος Άδειας Κυκλοφορίας' | Qrd txt :- 'Κάτοχος Άδειας Κυκλοφορίας <και Παρασκευαστής>' | Matched :- 'True'\n"
     ]
    },
    {
     "name": "stderr",
     "output_type": "stream",
     "text": [
      "2021-06-19 01:53:08,293 : Heading Extraction gonal-f_clean_ ΦΥΛΛΟ ΟΔΗΓΙΩΝ ΧΡΗΣΗΣ.json_V : Validation Passed | H | CAP |  el | 3 | gonal-f_clean_ ΦΥΛΛΟ ΟΔΗΓΙΩΝ ΧΡΗΣΗΣ.json | currHeadId :- '23026' | prevHeadingCurrId :- '23025' | prevHeadingFoundId :- '23025'\n"
     ]
    },
    {
     "name": "stdout",
     "output_type": "stream",
     "text": [
      "\n",
      "OriginalCheck\n",
      "\n"
     ]
    },
    {
     "name": "stderr",
     "output_type": "stream",
     "text": [
      "2021-06-19 01:53:20,337 : Heading Extraction gonal-f_clean_ ΦΥΛΛΟ ΟΔΗΓΙΩΝ ΧΡΗΣΗΣ.json_V : Match Passed : SpecialCase1|22.08|(90, 99, 95)|0.98| | H | CAP |  el | 3 | gonal-f_clean_ ΦΥΛΛΟ ΟΔΗΓΙΩΝ ΧΡΗΣΗΣ.json | Doc txt :- 'Το παρόν φύλλο οδηγιών χρήσης αναθεωρήθηκε για τελευταία φορά στις {ΜΜ/ΕΕΕΕ}.' | Qrd txt :- 'Το παρόν φύλλο οδηγιών χρήσης αναθεωρήθηκε για τελευταία φορά στις <{ΜΜ/ΕΕΕΕ}> <{μήνας ΕΕΕΕ}.>' | Matched :- 'True'\n",
      "2021-06-19 01:53:20,356 : Heading Extraction gonal-f_clean_ ΦΥΛΛΟ ΟΔΗΓΙΩΝ ΧΡΗΣΗΣ.json_V : Validation Flow Is Broken | H | CAP |  el | 3 | gonal-f_clean_ ΦΥΛΛΟ ΟΔΗΓΙΩΝ ΧΡΗΣΗΣ.json | currHeadId :- '23028' | prevHeadingCurrId :- '' | prevHeadingFoundId :- '23026'\n",
      "2021-06-19 01:53:20,372 : Heading Extraction gonal-f_clean_ ΦΥΛΛΟ ΟΔΗΓΙΩΝ ΧΡΗΣΗΣ.json_V : Validation Passed | H | CAP |  el | 3 | gonal-f_clean_ ΦΥΛΛΟ ΟΔΗΓΙΩΝ ΧΡΗΣΗΣ.json | currHeadId :- '23028' | prevHeadingCurrId :- '23026' | prevHeadingFoundId :- '23026'\n"
     ]
    }
   ],
   "source": [
    "\n",
    "inputList = [\n",
    "            'GONAL-f~H~CAP~el~2021-06-06T10-02-52Z.zip',\n",
    "             'Ovaleap~H~CAP~el~2021-06-07T09-07-39Z.zip',\n",
    "            'Karvea~H~CAP~el~2021-05-21T11-44-12Z.zip']\n",
    "runAllTest(inputList)\n"
   ]
  },
  {
   "cell_type": "code",
   "execution_count": null,
   "metadata": {},
   "outputs": [],
   "source": []
  }
 ],
 "metadata": {
  "kernelspec": {
   "display_name": "Python [conda env:py38] *",
   "language": "python",
   "name": "conda-env-py38-py"
  },
  "language_info": {
   "codemirror_mode": {
    "name": "ipython",
    "version": 3
   },
   "file_extension": ".py",
   "mimetype": "text/x-python",
   "name": "python",
   "nbconvert_exporter": "python",
   "pygments_lexer": "ipython3",
   "version": "3.8.5"
  }
 },
 "nbformat": 4,
 "nbformat_minor": 4
}
