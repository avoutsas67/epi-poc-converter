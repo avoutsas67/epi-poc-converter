{
 "cells": [
  {
   "cell_type": "code",
   "execution_count": 1,
   "metadata": {},
   "outputs": [],
   "source": [
    "import os\n",
    "import zipfile\n",
    "%load_ext autoreload\n",
    "\n",
    "%autoreload 2"
   ]
  },
  {
   "cell_type": "code",
   "execution_count": 2,
   "metadata": {
    "scrolled": true
   },
   "outputs": [
    {
     "name": "stderr",
     "output_type": "stream",
     "text": [
      "[nltk_data] Downloading package stopwords to\n",
      "[nltk_data]     C:\\Users\\psaga\\AppData\\Roaming\\nltk_data...\n",
      "[nltk_data]   Package stopwords is already up-to-date!\n"
     ]
    }
   ],
   "source": [
    "import pprint\n",
    "import pandas as pd\n",
    "import uuid\n",
    "import json\n",
    "import os\n",
    "import glob\n",
    "import re\n",
    "import sys\n",
    "from bs4 import NavigableString, BeautifulSoup\n",
    "from collections import defaultdict\n",
    "import random\n",
    "import string\n",
    "\n",
    "from utils.config import config\n",
    "from utils.logger.logger import loggerCreator\n",
    "\n",
    "# ePI Modules\n",
    "from parse.rulebook.rulebook import StyleRulesDictionary\n",
    "\n",
    "from parse.extractor.parser import parserExtractor\n",
    "from match.matchDocument.matchDocument import MatchDocument\n",
    "from documentAnnotation.documentAnnotation import DocumentAnnotation\n",
    "from htmlDocTypePartitioner.partition import DocTypePartitioner\n",
    "from extractContentBetweenHeadings.dataBetweenHeadingsExtractor import DataBetweenHeadingsExtractor\n",
    "from fhirXmlGenerator.fhirXmlGenerator import FhirXmlGenerator\n",
    "from fhirService.fhirService import FhirService\n",
    "from utils.logger.matchLogger import MatchLogger\n",
    "from languageInfo.documentTypeNames.documentTypeNames import DocumentTypeNames\n",
    "from wordToHtmlConvertor.wordToHtmlConvertor import WordToHtmlConvertor\n",
    "\n",
    "\n",
    "class FolderNotFoundError(Exception):\n",
    "    pass\n",
    "\n",
    "\n",
    "def getRandomString(N):\n",
    "    str_ = ''.join(random.choice(string.ascii_uppercase + string.digits\n",
    "                                 + string.ascii_lowercase) for _ in range(N))\n",
    "    return str_\n",
    "\n",
    "\n",
    "def convertHtmlToJson(controlBasePath, basePath, domain, procedureType, languageCode, htmlDocName, fileNameQrd, fileNameLog):\n",
    "\n",
    "    module_path = os.path.join(basePath)\n",
    "\n",
    "    if \"/\" in basePath:\n",
    "        pathSep = \"/\"\n",
    "    else:\n",
    "        pathSep = \"\\\\\"\n",
    "    \n",
    "    # Generate output folder path\n",
    "    output_json_path = os.path.join(basePath, 'outputJSON')\n",
    "\n",
    "    \"\"\"\n",
    "        Check if input folder exists, else throw exception\n",
    "    \"\"\"\n",
    "    if(os.path.exists(module_path)):\n",
    "        filenames = glob.glob(os.path.join(module_path, htmlDocName))\n",
    "\n",
    "        # Create language specific folder in outputJSON folder if it doesn't exist\n",
    "        if(not os.path.exists(output_json_path)):\n",
    "            os.mkdir(output_json_path)\n",
    "        logger = MatchLogger(f'Parser_{getRandomString(1)}', htmlDocName,\n",
    "                             domain, procedureType, languageCode, \"HTML\", fileNameLog)\n",
    "\n",
    "        styleLogger = MatchLogger(\n",
    "            f'Style Dictionary_{getRandomString(1)}', htmlDocName, domain, procedureType, languageCode, \"HTML\", fileNameLog)\n",
    "\n",
    "        styleRulesObj = StyleRulesDictionary(logger=styleLogger,\n",
    "                                             controlBasePath=controlBasePath,\n",
    "                                             language=languageCode,\n",
    "                                             fileName=fileNameQrd,\n",
    "                                             domain=domain,\n",
    "                                             procedureType=procedureType\n",
    "                                             )\n",
    "\n",
    "        parserObj = parserExtractor(config, logger, styleRulesObj.styleRuleDict,\n",
    "                                    styleRulesObj.styleFeatureKeyList,\n",
    "                                    styleRulesObj.qrd_section_headings)\n",
    "\n",
    "        for input_filename in filenames:\n",
    "          # if(input_filename.find('Kalydeco II-86-PI-clean')!=-1):\n",
    "            output_filename = os.path.join(output_json_path, htmlDocName)\n",
    "            style_filepath =  output_filename.replace('.html','.txt')\n",
    "            style_filepath =  style_filepath.replace('.txtl','.txt')\n",
    "            style_filepath =  style_filepath.replace('.htm','.txt')\n",
    "            print(\"-------------\",style_filepath,\"-----------------\")\n",
    "\n",
    "            output_filename = output_filename.replace('.html', '.json')\n",
    "            output_filename = output_filename.replace('.htm', '.json')\n",
    "            print(input_filename, output_filename)\n",
    "            parserObj.createPIJsonFromHTML(input_filepath=input_filename,\n",
    "                                           output_filepath=output_filename,\n",
    "                                           style_filepath = style_filepath,\n",
    "                                           img_base64_dict=parserObj.convertImgToBase64(input_filename)\n",
    "                                           )\n",
    "            \n",
    "        return output_filename.split(pathSep)[-1], style_filepath\n",
    "    else:\n",
    "        try:    \n",
    "            raise FolderNotFoundError(module_path + \" not found\")\n",
    "        except:  \n",
    "            logger.logFlowCheckpoint(\"Folder For Language Code Not Found In Input File\")\n",
    "            logger.logException(\"Folder For Language Code Not Found In Input File\")\n",
    "        raise FolderNotFoundError(module_path + \" not found\")\n",
    "        return None\n",
    "\n",
    "\n",
    "def splitJson(controlBasePath, basePath, domain, procedureType, languageCode, fileNameJson, fileNameQrd, fileNameLog):\n",
    "\n",
    "    styleLogger = MatchLogger(\n",
    "        f'Style Dictionary_{getRandomString(1)}', fileNameJson, domain, procedureType, languageCode, \"Json\", fileNameLog)\n",
    "\n",
    "    styleRulesObj = StyleRulesDictionary(logger=styleLogger,\n",
    "                                        controlBasePath=controlBasePath,\n",
    "                                        language=languageCode,\n",
    "                                        fileName=fileNameQrd,\n",
    "                                        domain=domain,\n",
    "                                        procedureType=procedureType\n",
    "                                        )\n",
    "    \n",
    "    path_json = os.path.join(basePath,'outputJSON', fileNameJson)\n",
    "    print(\"PathJson\",path_json)\n",
    "    partitionLogger = MatchLogger(\n",
    "        f'Partition_{getRandomString(1)}', fileNameJson, domain, procedureType, languageCode, \"Json\", fileNameLog)\n",
    "\n",
    "    partitioner = DocTypePartitioner(partitionLogger)\n",
    "\n",
    "    partitionedJsonPaths = partitioner.partitionHtmls(\n",
    "        styleRulesObj.qrd_section_headings, path_json)\n",
    "\n",
    "    return partitionedJsonPaths\n",
    "\n",
    "\n",
    "def extractAndValidateHeadings(controlBasePath,\n",
    "                                basePath,\n",
    "                                domain,\n",
    "                                procedureType,\n",
    "                                languageCode,\n",
    "                                documentNumber,\n",
    "                                fileNameDoc,\n",
    "                                fileNameQrd,\n",
    "                                fileNameMatchRuleBook,\n",
    "                                fileNameDocumentTypeNames,\n",
    "                                fileNameLog,\n",
    "                                stopWordFilterLen=6,\n",
    "                                isPackageLeaflet=False,\n",
    "                                medName=None\n",
    "                                ):\n",
    "\n",
    "    if documentNumber == 0:\n",
    "        topHeadingsConsidered = 4\n",
    "        bottomHeadingsConsidered = 6\n",
    "    elif documentNumber == 1:\n",
    "        topHeadingsConsidered = 3\n",
    "        bottomHeadingsConsidered = 5\n",
    "    elif documentNumber == 2:\n",
    "        topHeadingsConsidered = 5\n",
    "        bottomHeadingsConsidered = 15\n",
    "    else:\n",
    "        topHeadingsConsidered = 5\n",
    "        bottomHeadingsConsidered = 10\n",
    "\n",
    "    print(f\"Starting Heading Extraction For File :- {fileNameDoc}\")\n",
    "    logger = MatchLogger(f\"Heading Extraction {fileNameDoc}_{getRandomString(1)}\", fileNameDoc, domain, procedureType, languageCode, documentNumber, fileNameLog)\n",
    "    logger.logFlowCheckpoint(\"Starting Heading Extraction\")\n",
    "\n",
    "    stopWordlanguage = DocumentTypeNames(\n",
    "        controlBasePath=controlBasePath,\n",
    "        fileNameDocumentTypeNames=fileNameDocumentTypeNames,\n",
    "        languageCode=languageCode,\n",
    "        domain=domain,\n",
    "        procedureType=procedureType,\n",
    "        documentNumber=documentNumber\n",
    "        ).extractStopWordLanguage()\n",
    "\n",
    "    matchDocObj = MatchDocument(\n",
    "        logger,\n",
    "        controlBasePath,\n",
    "        basePath,\n",
    "        domain,\n",
    "        procedureType,\n",
    "        languageCode,\n",
    "        documentNumber,\n",
    "        fileNameDoc,\n",
    "        fileNameQrd,\n",
    "        fileNameMatchRuleBook,\n",
    "        fileNameDocumentTypeNames,\n",
    "        topHeadingsConsidered,\n",
    "        bottomHeadingsConsidered,\n",
    "        stopWordFilterLen,\n",
    "        stopWordlanguage,\n",
    "        isPackageLeaflet,\n",
    "        medName)\n",
    "    df, coll = matchDocObj.matchHtmlHeaddingsWithQrd()\n",
    "\n",
    "    return df, coll\n",
    "\n",
    "\n",
    "def parseDocument(controlBasePath, basePath ,htmlDocName, fileNameQrd, fileNameMatchRuleBook, fileNameDocumentTypeNames, medName = None):\n",
    "    \n",
    "    if \"/\" in basePath:\n",
    "        pathSep = \"/\"        \n",
    "    else:\n",
    "        pathSep = \"\\\\\"\n",
    "    \n",
    "    fileNameLog = os.path.join(basePath,'FinalLog.txt')\n",
    "\n",
    "    pathComponents = basePath.split(pathSep)\n",
    "    print(pathComponents, htmlDocName)\n",
    "    timestamp = pathComponents[-1]\n",
    "    languageCode =  pathComponents[-2]\n",
    "    medName = pathComponents[-3]\n",
    "    procedureType = pathComponents[-4]\n",
    "    domain = pathComponents[-5]\n",
    "\n",
    "    print(timestamp, languageCode, medName, procedureType, domain)\n",
    "        \n",
    "    flowLogger =  MatchLogger(f\"Flow Logger HTML_{getRandomString(1)}\", htmlDocName, domain, procedureType, languageCode, \"HTML\", fileNameLog)\n",
    "\n",
    "    flowLogger.logFlowCheckpoint(\"Starting HTML Conversion To Json\")\n",
    "    ###Convert Html to Json\n",
    "    fileNameJson, stylesFilePath = convertHtmlToJson(controlBasePath, basePath, domain, procedureType, languageCode, htmlDocName, fileNameQrd, fileNameLog)\n",
    "    \n",
    "    print(\"stylePath:-\",stylesFilePath)\n",
    "    flowLogger.logFlowCheckpoint(\"Completed HTML Conversion To Json\")\n",
    "\n",
    "    flowLogger.logFlowCheckpoint(\"Starting Json Split\")\n",
    "\n",
    "    ###Split Uber Json to multiple Jsons for each category.\n",
    "    partitionedJsonPaths = splitJson(controlBasePath, basePath, domain, procedureType, languageCode, fileNameJson, fileNameQrd, fileNameLog)\n",
    "    \n",
    "    partitionedJsonPaths = [ path.split(pathSep)[-1] for path in partitionedJsonPaths]\n",
    "    flowLogger.logFlowCheckpoint(str(partitionedJsonPaths))\n",
    "    \n",
    "    flowLogger.logFlowCheckpoint(\"Completed Json Split\")\n",
    "    \n",
    "    flowLogger.logFlowCheckpoint(\"Started Processing Partitioned Jsons\")\n",
    "    \n",
    "    for index, fileNamePartitioned in enumerate(partitionedJsonPaths):\n",
    "        \n",
    "        flowLogger.logFlowCheckpoint(f\"\\n\\n\\n\\n||||||||||||||||||||||||||||||||{str(index)} ||||| {str(fileNamePartitioned)}||||||||||||||||||||||||||||||||\\n\\n\\n\\n\")\n",
    "        \n",
    "        if index == 3:\n",
    "            stopWordFilterLen = 100\n",
    "            isPackageLeaflet = True\n",
    "        else:\n",
    "            stopWordFilterLen = 6\n",
    "            isPackageLeaflet = False\n",
    "            \n",
    "        df, coll = extractAndValidateHeadings(controlBasePath,\n",
    "                                    basePath,\n",
    "                                    domain,\n",
    "                                    procedureType,\n",
    "                                    languageCode,\n",
    "                                    index,\n",
    "                                    fileNamePartitioned,\n",
    "                                    fileNameQrd,\n",
    "                                    fileNameMatchRuleBook,\n",
    "                                    fileNameDocumentTypeNames,\n",
    "                                    fileNameLog,\n",
    "                                    stopWordFilterLen=stopWordFilterLen,\n",
    "                                    isPackageLeaflet=isPackageLeaflet,\n",
    "                                    medName=medName)\n",
    "        \n",
    "        \n",
    "        print(f\"Completed Heading Extraction For File\")\n",
    "        flowLogger.logFlowCheckpoint(\"Completed Heading Extraction For File\")\n",
    "        \n",
    "        print(f\"Starting Document Annotation For File :- {fileNamePartitioned}\")        \n",
    "        flowLogger.logFlowCheckpoint(\"Starting Document Annotation For File\")\n",
    "        documentAnnotationObj = DocumentAnnotation(fileNamePartitioned,'c20835db4b1b4e108828a8537ff41506','https://spor-sit.azure-api.net/pms/api/v2/',df,coll)\n",
    "        try:\n",
    "            pms_oms_annotation_data = documentAnnotationObj.processRegulatedAuthorizationForDoc()\n",
    "            print(pms_oms_annotation_data)\n",
    "        except:\n",
    "            pms_oms_annotation_data = None\n",
    "            print(\"Error Found\")\n",
    "            \n",
    "        print(f\"Completed Document Annotation\")        \n",
    "        flowLogger.logFlowCheckpoint(\"Completed Document Annotation\")\n",
    "        \n",
    "        print(f\"Starting Extracting Content Between Heading For File :- {fileNamePartitioned}\")        \n",
    "        flowLogger.logFlowCheckpoint(\"Starting Extracting Content Between Heading\")\n",
    "        \n",
    "        extractContentlogger =  MatchLogger(f'ExtractContentBetween_{index}_{getRandomString(1)}', fileNamePartitioned, domain, procedureType, languageCode, index, fileNameLog)\n",
    "        extractorObj = DataBetweenHeadingsExtractor(extractContentlogger, basePath, coll)\n",
    "        dfExtractedHierRR = extractorObj.extractContentBetweenHeadings(fileNamePartitioned)\n",
    "        \n",
    "        print(f\"Completed Extracting Content Between Heading\")        \n",
    "        flowLogger.logFlowCheckpoint(\"Completed Extracting Content Between Heading\")\n",
    "        \n",
    "        xmlLogger =  MatchLogger(f'XmlGeneration_{index}_{getRandomString(1)}', fileNamePartitioned, domain, procedureType, languageCode, index, fileNameLog)\n",
    "        fhirXmlGeneratorObj = FhirXmlGenerator(xmlLogger, controlBasePath, basePath, pms_oms_annotation_data, stylesFilePath, medName)\n",
    "        fileNameXml = fileNamePartitioned.replace('.json','.xml')\n",
    "        generatedXml = fhirXmlGeneratorObj.generateXml(dfExtractedHierRR, fileNameXml)\n",
    "        \n",
    "        fhirServiceLogger =  MatchLogger(f'XML Submission Logger_{index}_{getRandomString(1)}', fileNamePartitioned, domain, procedureType, languageCode, index, fileNameLog)\n",
    "\n",
    "        fhirServiceObj = FhirService(fhirServiceLogger, basePath, generatedXml)\n",
    "        fhirServiceObj.submitFhirXml()\n",
    "        print(f\"Created XML File For :- {fileNamePartitioned}\")      \n",
    "\n",
    "        #return df,coll,dfExtractedHierRR\n",
    "    \n",
    "    flowLogger.logFlowCheckpoint(\"Completed Processing Partitioned Jsons\")\n"
   ]
  },
  {
   "cell_type": "code",
   "execution_count": 3,
   "metadata": {},
   "outputs": [
    {
     "name": "stdout",
     "output_type": "stream",
     "text": [
      "Word Files in folder:  ['ABASAGLAR~H~CAP~en.docx', 'Abilify Maintena~H~CAP~en.doc', '~$ilify Maintena~H~CAP~en.doc']\n",
      "Input file: C:\\Users\\psaga\\source\\repos\\EMA\\EMA%20EPI%20PoC\\function_code\\data\\Ingest\\ABASAGLAR~H~CAP~en.docx\n",
      "ABASAGLAR~H~CAP~en.docx\n",
      "Output file: C:\\Users\\psaga\\source\\repos\\EMA\\EMA%20EPI%20PoC\\function_code\\work\\H\\CAP\\ABASAGLAR\\en\\2021-05-13T10-00-18Z\\ABASAGLAR_clean\n",
      "Opened file: C:\\Users\\psaga\\source\\repos\\EMA\\EMA%20EPI%20PoC\\function_code\\data\\Ingest\\ABASAGLAR~H~CAP~en.docx\n",
      "\n",
      "Checking table 20\n",
      "The selection starts on page 105 of 106 (69.75/71.0)\n",
      "The selection ends on page 105 of 106 (384.75/71.0)\n",
      "The selection contains\n",
      "* overlay images\n",
      "\n",
      "Checking table 19\n",
      "The selection starts on page 103 of 106 (579.5/71.0)\n",
      "The selection ends on page 105 of 106 (56.75/71.0)\n",
      "The selection contains\n",
      "* overlay images\n",
      "\n",
      "Checking table 18\n",
      "The selection starts on page 102 of 105 (564.75/215.0)\n",
      "The selection ends on page 103 of 105 (421.75/71.0)\n",
      "The selection contains\n",
      "* overlay images\n",
      "* overlay shapes\n",
      "\n",
      "Checking table 17\n",
      "The selection starts on page 102 of 105 (56.75/71.0)\n",
      "The selection ends on page 102 of 105 (476.25/71.0)\n",
      "The selection contains\n",
      "* overlay images\n",
      "\n",
      "Checking table 16\n",
      "The selection starts on page 100 of 105 (578.0/71.0)\n",
      "The selection ends on page 101 of 105 (484.5/71.0)\n",
      "The selection contains\n",
      "* overlay images\n",
      "\n",
      "Checking table 15\n",
      "The selection starts on page 100 of 105 (196.75/71.0)\n",
      "The selection ends on page 100 of 105 (331.75/71.0)\n",
      "The selection contains\n",
      "* overlay images\n",
      "\n",
      "Checking table 14\n",
      "The selection starts on page 100 of 105 (56.75/71.0)\n",
      "The selection ends on page 100 of 105 (196.75/71.0)\n",
      "The selection contains\n",
      "* inline images\n",
      "\n",
      "Checking table 13\n",
      "The selection starts on page 94 of 105 (613.25/71.0)\n",
      "The selection ends on page 95 of 105 (663.75/71.0)\n",
      "The selection contains\n",
      "\n",
      "Checking table 12\n",
      "The selection starts on page 86 of 105 (69.25/71.0)\n",
      "The selection ends on page 86 of 105 (416.5/71.0)\n",
      "The selection contains\n",
      "* overlay images\n",
      "\n",
      "Checking table 11\n",
      "The selection starts on page 84 of 105 (632.0/71.0)\n",
      "The selection ends on page 85 of 105 (745.0/71.0)\n",
      "The selection contains\n",
      "* overlay images\n",
      "* overlay shapes\n",
      "\n",
      "Checking table 10\n",
      "The selection starts on page 83 of 105 (767.75/71.0)\n",
      "The selection ends on page 84 of 105 (475.75/71.0)\n",
      "The selection contains\n",
      "* overlay images\n",
      "* overlay shapes\n",
      "\n",
      "Checking table 9\n",
      "The selection starts on page 83 of 105 (237.75/71.0)\n",
      "The selection ends on page 83 of 105 (660.0/71.0)\n",
      "The selection contains\n",
      "* overlay images\n",
      "\n",
      "Checking table 8\n",
      "The selection starts on page 82 of 105 (406.5/71.0)\n",
      "The selection ends on page 83 of 105 (153.75/71.0)\n",
      "The selection contains\n",
      "* overlay images\n",
      "* overlay shapes\n",
      "\n",
      "Checking table 7\n",
      "The selection starts on page 81 of 106 (667.75/71.0)\n",
      "The selection ends on page 82 of 106 (138.25/71.0)\n",
      "The selection contains\n",
      "* inline images\n",
      "\n",
      "Checking table 6\n",
      "The selection starts on page 81 of 106 (545.25/71.0)\n",
      "The selection ends on page 81 of 106 (667.75/71.0)\n",
      "The selection contains\n",
      "* inline images\n",
      "\n",
      "Checking table 5\n",
      "The selection starts on page 81 of 106 (113.0/71.0)\n",
      "The selection ends on page 81 of 106 (195.0/71.0)\n",
      "The selection contains\n",
      "* inline images\n",
      "\n",
      "Checking table 4\n",
      "The selection starts on page 76 of 106 (524.75/71.0)\n",
      "The selection ends on page 77 of 106 (575.25/71.0)\n",
      "The selection contains\n",
      "\n",
      "Checking table 3\n",
      "The selection starts on page 64 of 106 (639.0/71.0)\n",
      "The selection ends on page 66 of 106 (107.25/71.0)\n",
      "The selection contains\n",
      "\n",
      "Checking table 2\n",
      "The selection starts on page 22 of 106 (158.0/71.0)\n",
      "The selection ends on page 22 of 106 (503.5/71.0)\n",
      "The selection contains\n",
      "\n",
      "Checking table 1\n",
      "The selection starts on page 7 of 106 (512.0/71.0)\n",
      "The selection ends on page 8 of 106 (358.75/71.0)\n",
      "The selection contains\n",
      "\n",
      "Uploading to Azure Storage as blob:\n",
      "\tC:\\Users\\psaga\\source\\repos\\EMA\\EMA%20EPI%20PoC\\function_code\\inputblob\\ABASAGLAR~H~CAP~en~2021-05-13T10-00-18Z.zip\n",
      "Input file: C:\\Users\\psaga\\source\\repos\\EMA\\EMA%20EPI%20PoC\\function_code\\data\\Ingest\\Abilify Maintena~H~CAP~en.doc\n",
      "Abilify Maintena~H~CAP~en.doc\n",
      "Output file: C:\\Users\\psaga\\source\\repos\\EMA\\EMA%20EPI%20PoC\\function_code\\work\\H\\CAP\\Abilify Maintena\\en.doc\\2021-05-13T10-01-33Z\\Abilify Maintena_clean\n",
      "Opened file: C:\\Users\\psaga\\source\\repos\\EMA\\EMA%20EPI%20PoC\\function_code\\data\\Ingest\\Abilify Maintena~H~CAP~en.doc\n",
      "\n",
      "Checking table 23\n",
      "The selection starts on page 95 of 95 (619.25/71.0)\n",
      "The selection ends on page 95 of 95 (737.0/71.0)\n",
      "The selection contains\n",
      "* inline images\n",
      "\n",
      "Checking table 22\n",
      "The selection starts on page 95 of 95 (303.5/71.0)\n",
      "The selection ends on page 95 of 95 (480.25/71.0)\n",
      "The selection contains\n",
      "* inline images\n",
      "\n",
      "Checking table 21\n",
      "The selection starts on page 95 of 95 (107.25/71.0)\n",
      "The selection ends on page 95 of 95 (227.5/71.0)\n",
      "The selection contains\n",
      "* inline images\n",
      "\n",
      "Checking table 20\n",
      "The selection starts on page 94 of 95 (652.75/71.0)\n",
      "The selection ends on page 95 of 95 (56.75/71.0)\n",
      "The selection contains\n",
      "* inline images\n",
      "\n",
      "Checking table 19\n",
      "The selection starts on page 94 of 96 (494.25/71.0)\n",
      "The selection ends on page 94 of 96 (627.5/71.0)\n",
      "The selection contains\n",
      "* inline images\n",
      "\n",
      "Checking table 18\n",
      "The selection starts on page 94 of 96 (353.25/71.0)\n",
      "The selection ends on page 94 of 96 (456.5/71.0)\n",
      "The selection contains\n",
      "\n",
      "Checking table 17\n",
      "The selection starts on page 94 of 96 (145.25/71.0)\n",
      "The selection ends on page 94 of 96 (315.25/71.0)\n",
      "The selection contains\n",
      "* inline images\n",
      "\n",
      "Checking table 16\n",
      "The selection starts on page 93 of 96 (581.75/71.0)\n",
      "The selection ends on page 93 of 96 (726.25/71.0)\n",
      "The selection contains\n",
      "* inline images\n",
      "\n",
      "Checking table 15\n",
      "The selection starts on page 93 of 96 (398.25/71.0)\n",
      "The selection ends on page 93 of 96 (543.75/71.0)\n",
      "The selection contains\n",
      "* inline images\n",
      "\n",
      "Checking table 14\n",
      "The selection starts on page 91 of 96 (436.25/71.0)\n",
      "The selection ends on page 92 of 96 (499.5/71.0)\n",
      "The selection contains\n",
      "\n",
      "Checking table 13\n",
      "The selection starts on page 82 of 96 (484.75/71.0)\n",
      "The selection ends on page 82 of 96 (582.5/71.0)\n",
      "The selection contains\n",
      "* inline images\n",
      "\n",
      "Checking table 12\n",
      "The selection starts on page 82 of 96 (184.25/71.0)\n",
      "The selection ends on page 82 of 96 (345.5/71.0)\n",
      "The selection contains\n",
      "* inline images\n",
      "\n",
      "Checking table 11\n",
      "The selection starts on page 81 of 96 (697.5/71.0)\n",
      "The selection ends on page 82 of 96 (108.25/71.0)\n",
      "The selection contains\n",
      "\n",
      "Checking table 10\n",
      "The selection starts on page 81 of 96 (286.5/71.0)\n",
      "The selection ends on page 81 of 96 (378.5/71.0)\n",
      "The selection contains\n",
      "\n",
      "Checking table 9\n",
      "The selection starts on page 81 of 96 (194.5/71.0)\n",
      "The selection ends on page 81 of 96 (286.5/71.0)\n",
      "The selection contains\n",
      "\n",
      "Checking table 8\n",
      "The selection starts on page 80 of 96 (235.5/71.0)\n",
      "The selection ends on page 80 of 96 (333.25/71.0)\n",
      "The selection contains\n",
      "* inline images\n",
      "\n",
      "Checking table 7\n",
      "The selection starts on page 79 of 96 (524.75/71.0)\n",
      "The selection ends on page 79 of 96 (658.0/71.0)\n",
      "The selection contains\n",
      "* inline images\n",
      "\n",
      "Checking table 6\n",
      "The selection starts on page 77 of 96 (410.75/71.0)\n",
      "The selection ends on page 78 of 96 (474.0/71.0)\n",
      "The selection contains\n",
      "\n",
      "Checking table 5\n",
      "The selection starts on page 16 of 96 (461.5/71.0)\n",
      "The selection ends on page 16 of 96 (604.0/71.0)\n",
      "The selection contains\n",
      "\n",
      "Checking table 4\n",
      "The selection starts on page 15 of 96 (519.25/71.0)\n",
      "The selection ends on page 15 of 96 (659.5/71.0)\n",
      "The selection contains\n",
      "\n",
      "Checking table 3\n",
      "The selection starts on page 9 of 96 (512.0/71.0)\n",
      "The selection ends on page 12 of 96 (186.75/71.0)\n",
      "The selection contains\n",
      "\n",
      "Checking table 2\n",
      "The selection starts on page 4 of 96 (499.25/106.25)\n",
      "The selection ends on page 4 of 96 (642.75/71.0)\n",
      "The selection contains\n",
      "\n",
      "Checking table 1\n",
      "The selection starts on page 3 of 96 (297.0/71.0)\n",
      "The selection ends on page 3 of 96 (579.75/71.0)\n",
      "The selection contains\n",
      "\n",
      "Uploading to Azure Storage as blob:\n",
      "\tC:\\Users\\psaga\\source\\repos\\EMA\\EMA%20EPI%20PoC\\function_code\\inputblob\\Abilify Maintena~H~CAP~en.doc~2021-05-13T10-01-33Z.zip\n"
     ]
    }
   ],
   "source": [
    "wordToHtmlConvertorObj = WordToHtmlConvertor()\n",
    "wordToHtmlConvertorObj.convertWordToHTML()"
   ]
  },
  {
   "cell_type": "code",
   "execution_count": 4,
   "metadata": {},
   "outputs": [],
   "source": [
    "# inputZipFolderPath = \"F:\\Projects\\EMA\\Repository\\EMA EPI PoC\\\\function_code\\\\inputblob\"\n",
    "inputZipFolderPath = os.path.abspath(os.path.join('..'))\n",
    "inputZipFolderPath = os.path.join(inputZipFolderPath, 'inputblob')\n",
    "inputZipFileName = \"ABASAGLAR~H~CAP~en~2021-05-13T10-00-18Z.zip\""
   ]
  },
  {
   "cell_type": "code",
   "execution_count": null,
   "metadata": {},
   "outputs": [],
   "source": []
  },
  {
   "cell_type": "code",
   "execution_count": 5,
   "metadata": {
    "scrolled": true
   },
   "outputs": [
    {
     "name": "stdout",
     "output_type": "stream",
     "text": [
      "ABASAGLAR~H~CAP~en~2021-05-13T10-00-18Z.zip C:\\Users\\psaga\\source\\repos\\EMA\\EMA%20EPI%20PoC\\function_code\\inputblob C:\\Users\\psaga\\source\\repos\\EMA\\EMA%20EPI%20PoC\\function_code\\work\\H\\CAP\\ABASAGLAR\\en\\2021-05-13T10-00-18Z C:\\Users\\psaga\\source\\repos\\EMA\\EMA%20EPI%20PoC\\function_code\\control\n",
      "Already Present\n",
      "ABASAGLAR_clean.htm\n"
     ]
    }
   ],
   "source": [
    "fileNameQrd = 'qrd_canonical_model.csv'\n",
    "fileNameMatchRuleBook = 'ruleDict.json'\n",
    "fileNameDocumentTypeNames = 'documentTypeNames.json'\n",
    "fsMountName = '/mounted'\n",
    "\n",
    "info = inputZipFileName.split(\"~\")\n",
    "\n",
    "try:\n",
    "    medName = info[0]\n",
    "    domain = info[1]\n",
    "    procedureType = info[2]\n",
    "    languageCode = info[3]\n",
    "    timestamp = info[4]\n",
    "    timestamp = timestamp.replace(\".zip\",\"\")\n",
    "\n",
    "except Exception:\n",
    "    raise f\"Missing required info in the zip file name {inputZipFileName}\"\n",
    "\n",
    "if \"\\\\\" in os.getcwd():\n",
    "    localEnv = True\n",
    "    inputZipFolderPath = os.path.join(os.path.abspath(os.path.join('..')),inputZipFolderPath)\n",
    "    outputFolderPath = os.path.join(os.path.abspath(os.path.join('..')), 'work', f\"{domain}\", f\"{procedureType}\", f\"{medName}\", f\"{languageCode}\", f\"{timestamp}\")\n",
    "    controlFolderPath = os.path.join(os.path.abspath(os.path.join('..')),'control')\n",
    "else:\n",
    "    localEnv = False\n",
    "    inputZipFolderPath = os.path.join(f'{fsMountName}',inputZipFolderPath)\n",
    "    outputFolderPath = os.path.join(f'{fsMountName}', 'work', f\"{domain}\", f\"{procedureType}\", f\"{medName}\", f\"{languageCode}\", f\"{timestamp}\")\n",
    "    controlFolderPath = os.path.join(f'{fsMountName}','control')\n",
    "\n",
    "\n",
    "print(inputZipFileName, inputZipFolderPath, outputFolderPath, controlFolderPath)\n",
    "\n",
    "mode = 0o666\n",
    "\n",
    "if localEnv is True:\n",
    "    inputZipFolderPath = inputZipFolderPath.replace(\"/\",\"\\\\\")\n",
    "    outputFolderPath = outputFolderPath.replace(\"/\",\"\\\\\")\n",
    "    controlFolderPath = controlFolderPath.replace(\"/\",\"\\\\\")\n",
    "\n",
    "try:\n",
    "    os.makedirs(inputZipFolderPath, mode)\n",
    "    os.makedirs(outputFolderPath, mode)\n",
    "    os.makedirs(controlFolderPath, mode)\n",
    "\n",
    "except Exception:\n",
    "    print(\"Already Present\")\n",
    "    \n",
    "with zipfile.ZipFile(f'{inputZipFolderPath}/{inputZipFileName}',\"r\") as zip_ref:\n",
    "        zip_ref.extractall(outputFolderPath)\n",
    "    \n",
    "\n",
    "_,_,fileNames = next(os.walk(outputFolderPath))\n",
    "htmlFileName = [fileName for fileName in fileNames if \".htm\" in fileName][0]\n",
    "\n",
    "print(htmlFileName)\n",
    "\n"
   ]
  },
  {
   "cell_type": "code",
   "execution_count": null,
   "metadata": {},
   "outputs": [],
   "source": []
  },
  {
   "cell_type": "code",
   "execution_count": null,
   "metadata": {},
   "outputs": [
    {
     "name": "stderr",
     "output_type": "stream",
     "text": [
      "2021-05-13 15:32:57,831 : Flow Logger HTML_Z : Starting HTML Conversion To Json | H | CAP |  en | HTML | ABASAGLAR_clean.htm\n",
      "2021-05-13 15:32:57,839 : Style Dictionary_C : Reading style dictionary in file: rule_dictionary_en.json | H | CAP |  en | HTML | ABASAGLAR_clean.htm\n",
      "2021-05-13 15:32:57,921 : Style Dictionary_C : Qrd Section Keys Retrieved For Style Dictionary: ANNEX I, ANNEX II, ANNEX III, B. PACKAGE LEAFLET | H | CAP |  en | HTML | ABASAGLAR_clean.htm\n"
     ]
    },
    {
     "name": "stdout",
     "output_type": "stream",
     "text": [
      "['C:', 'Users', 'psaga', 'source', 'repos', 'EMA', 'EMA%20EPI%20PoC', 'function_code', 'work', 'H', 'CAP', 'ABASAGLAR', 'en', '2021-05-13T10-00-18Z'] ABASAGLAR_clean.htm\n",
      "2021-05-13T10-00-18Z en ABASAGLAR CAP H\n",
      "------------- C:\\Users\\psaga\\source\\repos\\EMA\\EMA%20EPI%20PoC\\function_code\\work\\H\\CAP\\ABASAGLAR\\en\\2021-05-13T10-00-18Z\\outputJSON\\ABASAGLAR_clean.txt -----------------\n",
      "C:\\Users\\psaga\\source\\repos\\EMA\\EMA%20EPI%20PoC\\function_code\\work\\H\\CAP\\ABASAGLAR\\en\\2021-05-13T10-00-18Z\\ABASAGLAR_clean.htm C:\\Users\\psaga\\source\\repos\\EMA\\EMA%20EPI%20PoC\\function_code\\work\\H\\CAP\\ABASAGLAR\\en\\2021-05-13T10-00-18Z\\outputJSON\\ABASAGLAR_clean.json\n"
     ]
    },
    {
     "name": "stderr",
     "output_type": "stream",
     "text": [
      "2021-05-13 15:32:59,154 : Parser_K : Style Information Stored In File: C:\\Users\\psaga\\source\\repos\\EMA\\EMA%20EPI%20PoC\\function_code\\work\\H\\CAP\\ABASAGLAR\\en\\2021-05-13T10-00-18Z\\outputJSON\\ABASAGLAR_clean.txt | H | CAP |  en | HTML | ABASAGLAR_clean.htm\n",
      "2021-05-13 15:33:03,537 : Parser_K : Writing to file: C:\\Users\\psaga\\source\\repos\\EMA\\EMA%20EPI%20PoC\\function_code\\work\\H\\CAP\\ABASAGLAR\\en\\2021-05-13T10-00-18Z\\outputJSON\\ABASAGLAR_clean.json | H | CAP |  en | HTML | ABASAGLAR_clean.htm\n",
      "2021-05-13 15:33:04,165 : Flow Logger HTML_Z : Completed HTML Conversion To Json | H | CAP |  en | HTML | ABASAGLAR_clean.htm\n",
      "2021-05-13 15:33:04,167 : Flow Logger HTML_Z : Starting Json Split | H | CAP |  en | HTML | ABASAGLAR_clean.htm\n",
      "2021-05-13 15:33:04,172 : Style Dictionary_f : Reading style dictionary in file: rule_dictionary_en.json | H | CAP |  en | Json | ABASAGLAR_clean.json\n",
      "2021-05-13 15:33:04,217 : Style Dictionary_f : Qrd Section Keys Retrieved For Style Dictionary: ANNEX I, ANNEX II, ANNEX III, B. PACKAGE LEAFLET | H | CAP |  en | Json | ABASAGLAR_clean.json\n",
      "2021-05-13 15:33:04,224 : Partition_s : Partitioning Json: ABASAGLAR_clean.json | H | CAP |  en | Json | ABASAGLAR_clean.json\n"
     ]
    },
    {
     "name": "stdout",
     "output_type": "stream",
     "text": [
      "stylePath:- C:\\Users\\psaga\\source\\repos\\EMA\\EMA%20EPI%20PoC\\function_code\\work\\H\\CAP\\ABASAGLAR\\en\\2021-05-13T10-00-18Z\\outputJSON\\ABASAGLAR_clean.txt\n",
      "PathJson C:\\Users\\psaga\\source\\repos\\EMA\\EMA%20EPI%20PoC\\function_code\\work\\H\\CAP\\ABASAGLAR\\en\\2021-05-13T10-00-18Z\\outputJSON\\ABASAGLAR_clean.json\n"
     ]
    },
    {
     "name": "stderr",
     "output_type": "stream",
     "text": [
      "2021-05-13 15:33:04,423 : Partition_s : Writing partition to file: C:\\Users\\psaga\\source\\repos\\EMA\\EMA%20EPI%20PoC\\function_code\\work\\H\\CAP\\ABASAGLAR\\en\\2021-05-13T10-00-18Z\\partitionedJSONs\\ABASAGLAR_clean_SmPC.json | H | CAP |  en | Json | ABASAGLAR_clean.json\n",
      "2021-05-13 15:33:04,464 : Partition_s : Writing partition to file: C:\\Users\\psaga\\source\\repos\\EMA\\EMA%20EPI%20PoC\\function_code\\work\\H\\CAP\\ABASAGLAR\\en\\2021-05-13T10-00-18Z\\partitionedJSONs\\ABASAGLAR_clean_ANNEX II.json | H | CAP |  en | Json | ABASAGLAR_clean.json\n",
      "2021-05-13 15:33:04,506 : Partition_s : Writing partition to file: C:\\Users\\psaga\\source\\repos\\EMA\\EMA%20EPI%20PoC\\function_code\\work\\H\\CAP\\ABASAGLAR\\en\\2021-05-13T10-00-18Z\\partitionedJSONs\\ABASAGLAR_clean_ANNEX III.json | H | CAP |  en | Json | ABASAGLAR_clean.json\n",
      "2021-05-13 15:33:04,523 : Partition_s : Writing partition to file: C:\\Users\\psaga\\source\\repos\\EMA\\EMA%20EPI%20PoC\\function_code\\work\\H\\CAP\\ABASAGLAR\\en\\2021-05-13T10-00-18Z\\partitionedJSONs\\ABASAGLAR_clean_ PACKAGE LEAFLET.json | H | CAP |  en | Json | ABASAGLAR_clean.json\n",
      "2021-05-13 15:33:04,828 : Flow Logger HTML_Z : ['ABASAGLAR_clean_SmPC.json', 'ABASAGLAR_clean_ANNEX II.json', 'ABASAGLAR_clean_ANNEX III.json', 'ABASAGLAR_clean_ PACKAGE LEAFLET.json'] | H | CAP |  en | HTML | ABASAGLAR_clean.htm\n",
      "2021-05-13 15:33:04,830 : Flow Logger HTML_Z : Completed Json Split | H | CAP |  en | HTML | ABASAGLAR_clean.htm\n",
      "2021-05-13 15:33:04,831 : Flow Logger HTML_Z : Started Processing Partitioned Jsons | H | CAP |  en | HTML | ABASAGLAR_clean.htm\n",
      "2021-05-13 15:33:04,833 : Flow Logger HTML_Z : \n",
      "\n",
      "\n",
      "\n",
      "||||||||||||||||||||||||||||||||0 ||||| ABASAGLAR_clean_SmPC.json||||||||||||||||||||||||||||||||\n",
      "\n",
      "\n",
      "\n",
      " | H | CAP |  en | HTML | ABASAGLAR_clean.htm\n",
      "2021-05-13 15:33:04,846 : Heading Extraction ABASAGLAR_clean_SmPC.json_M : Starting Heading Extraction | H | CAP |  en | 0 | ABASAGLAR_clean_SmPC.json\n"
     ]
    },
    {
     "name": "stdout",
     "output_type": "stream",
     "text": [
      "Starting Heading Extraction For File :- ABASAGLAR_clean_SmPC.json\n",
      "File being processed: C:\\Users\\psaga\\source\\repos\\EMA\\EMA%20EPI%20PoC\\function_code\\work\\H\\CAP\\ABASAGLAR\\en\\2021-05-13T10-00-18Z\\partitionedJSONs\\ABASAGLAR_clean_SmPC.json\n",
      "--------------------------------------------\n",
      "SmPC\n"
     ]
    },
    {
     "name": "stderr",
     "output_type": "stream",
     "text": [
      "2021-05-13 15:33:05,083 : Heading Extraction ABASAGLAR_clean_SmPC.json_M : Started Extracting Heading | H | CAP |  en | 0 | ABASAGLAR_clean_SmPC.json\n",
      "2021-05-13 15:33:05,194 : Heading Extraction ABASAGLAR_clean_SmPC.json_M : Match Passed | H | CAP |  en | 0 | ABASAGLAR_clean_SmPC.json | Doc txt :- 'SUMMARY OF PRODUCT CHARACTERISTICS' | Qrd txt :- 'SUMMARY OF PRODUCT CHARACTERISTICS' | Matched :- 'True'\n",
      "2021-05-13 15:33:05,197 : Heading Extraction ABASAGLAR_clean_SmPC.json_M : Validation Passed As This The First Heading | H | CAP |  en | 0 | ABASAGLAR_clean_SmPC.json | currHeadId :- '20001' | currParentHeadId :- 'nan' | prevParentHeadId :- ''\n",
      " MEDICINAL PRODUCT' | Qrd txt :- '1. NAME OF THE MEDICINAL PRODUCT' | Matched :- 'True' | H | CAP |  en | 0 | ABASAGLAR_clean_SmPC.json | Doc txt :- '1.       NAME OF THE\n",
      "2021-05-13 15:33:05,210 : Heading Extraction ABASAGLAR_clean_SmPC.json_M : Validation Flow Is Broken | H | CAP |  en | 0 | ABASAGLAR_clean_SmPC.json | currHeadId :- '20003' | currParentHeadId :- '20001.0' | prevParentHeadId :- '20001'\n",
      "2021-05-13 15:33:05,214 : Heading Extraction ABASAGLAR_clean_SmPC.json_M : Validation Passed | H | CAP |  en | 0 | ABASAGLAR_clean_SmPC.json | currHeadId :- '20003' | currParentHeadId :- '20001.0' | prevParentHeadId :- '20001'\n",
      "2021-05-13 15:33:05,268 : Heading Extraction ABASAGLAR_clean_SmPC.json_M : Match Passed | H | CAP |  en | 0 | ABASAGLAR_clean_SmPC.json | Doc txt :- '2.       QUALITATIVE AND QUANTITATIVE COMPOSITION' | Qrd txt :- '2. QUALITATIVE AND QUANTITATIVE COMPOSITION' | Matched :- 'True'\n",
      "2021-05-13 15:33:05,273 : Heading Extraction ABASAGLAR_clean_SmPC.json_M : Validation Passed | H | CAP |  en | 0 | ABASAGLAR_clean_SmPC.json | currHeadId :- '20004' | currParentHeadId :- '20001.0' | prevParentHeadId :- '20003'\n",
      " equivalent to 300 units. ' | Qrd txt :- '6.5 Nature and contents of container <and special equipment for use administration or implantation>' | Matched :- 'False'e contains 3 mL of solution for injection,\n"
     ]
    },
    {
     "name": "stdout",
     "output_type": "stream",
     "text": [
      "\n",
      "\n"
     ]
    },
    {
     "name": "stderr",
     "output_type": "stream",
     "text": [
      "2021-05-13 15:33:05,460 : Heading Extraction ABASAGLAR_clean_SmPC.json_M : Match Passed | H | CAP |  en | 0 | ABASAGLAR_clean_SmPC.json | Doc txt :- '3.       PHARMACEUTICAL FORM' | Qrd txt :- '3. PHARMACEUTICAL FORM' | Matched :- 'True'\n",
      "2021-05-13 15:33:05,469 : Heading Extraction ABASAGLAR_clean_SmPC.json_M : Validation Flow Is Broken | H | CAP |  en | 0 | ABASAGLAR_clean_SmPC.json | currHeadId :- '20008' | currParentHeadId :- '20001.0' | prevParentHeadId :- '20004'\n",
      "2021-05-13 15:33:05,474 : Heading Extraction ABASAGLAR_clean_SmPC.json_M : Validation Passed | H | CAP |  en | 0 | ABASAGLAR_clean_SmPC.json | currHeadId :- '20008' | currParentHeadId :- '20001.0' | prevParentHeadId :- '20004'\n",
      "2021-05-13 15:33:05,584 : Heading Extraction ABASAGLAR_clean_SmPC.json_M : Match Passed | H | CAP |  en | 0 | ABASAGLAR_clean_SmPC.json | Doc txt :- '4.       CLINICAL PARTICULARS' | Qrd txt :- '4. CLINICAL PARTICULARS' | Matched :- 'True'\n",
      "2021-05-13 15:33:05,589 : Heading Extraction ABASAGLAR_clean_SmPC.json_M : Validation Passed | H | CAP |  en | 0 | ABASAGLAR_clean_SmPC.json | currHeadId :- '20009' | currParentHeadId :- '20001.0' | prevParentHeadId :- '20008'\n",
      "2021-05-13 15:33:05,598 : Heading Extraction ABASAGLAR_clean_SmPC.json_M : Match Passed | H | CAP |  en | 0 | ABASAGLAR_clean_SmPC.json | Doc txt :- '4.1     Therapeutic indications' | Qrd txt :- '4.1 Therapeutic indications' | Matched :- 'True'\n",
      "2021-05-13 15:33:05,604 : Heading Extraction ABASAGLAR_clean_SmPC.json_M : Validation Passed | H | CAP |  en | 0 | ABASAGLAR_clean_SmPC.json | currHeadId :- '20010' | currParentHeadId :- '20009.0' | prevParentHeadId :- '20009'\n",
      " aged 2 years and above.' | Qrd txt :- '6.5 Nature and contents of container <and special equipment for use administration or implantation>' | Matched :- 'False'f diabetes mellitus in adults, adolescents and children\n",
      " aged 2 years and above.' | Qrd txt :- '6.6 Special precautions for disposal <and other handling>' | Matched :- 'False'_clean_SmPC.json | Doc txt :- 'Treatment of diabetes mellitus in adults, adolescents and children\n",
      " and method of administration' | Qrd txt :- '4.2 Posology and method of administration' | Matched :- 'True' | ABASAGLAR_clean_SmPC.json | Doc txt :- '4.2     Posology\n"
     ]
    },
    {
     "name": "stdout",
     "output_type": "stream",
     "text": [
      "\n",
      "\n",
      "\n"
     ]
    },
    {
     "name": "stderr",
     "output_type": "stream",
     "text": [
      "2021-05-13 15:33:05,671 : Heading Extraction ABASAGLAR_clean_SmPC.json_M : Validation Passed | H | CAP |  en | 0 | ABASAGLAR_clean_SmPC.json | currHeadId :- '20011' | currParentHeadId :- '20009.0' | prevParentHeadId :- '20010'\n",
      "2021-05-13 15:33:05,690 : Heading Extraction ABASAGLAR_clean_SmPC.json_M : Match Passed | H | CAP |  en | 0 | ABASAGLAR_clean_SmPC.json | Doc txt :- 'Posology' | Qrd txt :- 'Posology' | Matched :- 'True'\n",
      "2021-05-13 15:33:05,699 : Heading Extraction ABASAGLAR_clean_SmPC.json_M : Validation Passed | H | CAP |  en | 0 | ABASAGLAR_clean_SmPC.json | currHeadId :- '20012' | currParentHeadId :- '20011.0' | prevParentHeadId :- '20011'\n",
      " prolonged duration of action. ' | Qrd txt :- '6.5 Nature and contents of container <and special equipment for use administration or implantation>' | Matched :- 'False' insulin glargine, an insulin analogue and has a\n",
      "2021-05-13 15:33:05,837 : Heading Extraction ABASAGLAR_clean_SmPC.json_M : Match Failed | H | CAP |  en | 0 | ABASAGLAR_clean_SmPC.json | Doc txt :- 'Special populations' | Qrd txt :- '6.6 Special precautions for disposal <and other handling>' | Matched :- 'False'\n"
     ]
    },
    {
     "name": "stdout",
     "output_type": "stream",
     "text": [
      "\n",
      "\n"
     ]
    },
    {
     "name": "stderr",
     "output_type": "stream",
     "text": [
      " to a steady decrease in insulin requirements.' | Qrd txt :- '6.5 Nature and contents of container <and special equipment for use administration or implantation>' | Matched :- 'False'ioration of renal function may lead\n",
      " may be diminished due to reduced insulin metabolism.' | Qrd txt :- '6.5 Nature and contents of container <and special equipment for use administration or implantation>' | Matched :- 'False'in requirements\n",
      " metabolism.' | Qrd txt :- '6.5 Nature and contents of container <and special equipment for use administration or implantation>' | Matched :- 'False''In patients with hepatic impairment, insulin requirements may be\n",
      "2021-05-13 15:33:06,065 : Heading Extraction ABASAGLAR_clean_SmPC.json_M : Match Passed | H | CAP |  en | 0 | ABASAGLAR_clean_SmPC.json | Doc txt :- 'Paediatric population' | Qrd txt :- 'Paediatric population' | Matched :- 'True'\n",
      "2021-05-13 15:33:06,078 : Heading Extraction ABASAGLAR_clean_SmPC.json_M : Validation Passed | H | CAP |  en | 0 | ABASAGLAR_clean_SmPC.json | currHeadId :- '20013' | currParentHeadId :- '20012.0' | prevParentHeadId :- '20011'\n",
      " established No data are available. ' | Qrd txt :- '6.5 Nature and contents of container <and special equipment for use administration or implantation>' | Matched :- 'False' of insulin glargine have not been\n",
      " established No data are available. ' | Qrd txt :- '6.6 Special precautions for disposal <and other handling>' | Matched :- 'False'json | Doc txt :- 'The safety and efficacy of insulin glargine have not been\n"
     ]
    },
    {
     "name": "stdout",
     "output_type": "stream",
     "text": [
      "\n"
     ]
    },
    {
     "name": "stderr",
     "output_type": "stream",
     "text": [
      " should be adjusted individually. ' | Qrd txt :- '6.5 Nature and contents of container <and special equipment for use administration or implantation>' | Matched :- 'False's the reduction should, at least partially, be\n",
      " the initial weeks thereafter. ' | Qrd txt :- '6.5 Nature and contents of container <and special equipment for use administration or implantation>' | Matched :- 'False'nitoring is recommended during the switch and in\n",
      " insulin may experience an improved insulin response with ABASAGLAR.' | Qrd txt :- '6.5 Nature and contents of container <and special equipment for use administration or implantation>' | Matched :- 'False'to human\n",
      "2021-05-13 15:33:06,463 : Heading Extraction ABASAGLAR_clean_SmPC.json_M : Match Passed | H | CAP |  en | 0 | ABASAGLAR_clean_SmPC.json | Doc txt :- 'Method of administration' | Qrd txt :- 'Method of administration ' | Matched :- 'True'\n",
      "2021-05-13 15:33:06,474 : Heading Extraction ABASAGLAR_clean_SmPC.json_M : Validation Passed | H | CAP |  en | 0 | ABASAGLAR_clean_SmPC.json | currHeadId :- '20014' | currParentHeadId :- '20011.0' | prevParentHeadId :- '20011'\n",
      " glargine. ' | Qrd txt :- '6.5 Nature and contents of container <and special equipment for use administration or implantation>' | Matched :- 'False' 'There are no clinically relevant differences in serum insulin or\n",
      " section 4.4 and 4.8).' | Qrd txt :- '6.5 Nature and contents of container <and special equipment for use administration or implantation>' | Matched :- 'False' sites should always be rotated within the same region in\n",
      " precipitation. ' | Qrd txt :- '6.5 Nature and contents of container <and special equipment for use administration or implantation>' | Matched :- 'False'SAGLAR must not be mixed with any other insulin or diluted.\n",
      "2021-05-13 15:33:06,672 : Heading Extraction ABASAGLAR_clean_SmPC.json_M : Match Passed | H | CAP |  en | 0 | ABASAGLAR_clean_SmPC.json | Doc txt :- '4.3     Contraindications' | Qrd txt :- '4.3 Contraindications' | Matched :- 'True'\n"
     ]
    },
    {
     "name": "stdout",
     "output_type": "stream",
     "text": [
      "\n"
     ]
    },
    {
     "name": "stderr",
     "output_type": "stream",
     "text": [
      "2021-05-13 15:33:06,677 : Heading Extraction ABASAGLAR_clean_SmPC.json_M : Validation Passed | H | CAP |  en | 0 | ABASAGLAR_clean_SmPC.json | currHeadId :- '20016' | currParentHeadId :- '20009.0' | prevParentHeadId :- '20011'\n",
      " listed in section 6.1.' | Qrd txt :- '6.5 Nature and contents of container <and special equipment for use administration or implantation>' | Matched :- 'False'tivity to the active substance or to any of the excipients\n",
      "2021-05-13 15:33:06,711 : Heading Extraction ABASAGLAR_clean_SmPC.json_M : Match Passed | H | CAP |  en | 0 | ABASAGLAR_clean_SmPC.json | Doc txt :- '4.4     Special warnings and precautions for use' | Qrd txt :- '4.4 Special warnings and precautions for use' | Matched :- 'True'\n",
      "2021-05-13 15:33:06,717 : Heading Extraction ABASAGLAR_clean_SmPC.json_M : Validation Passed | H | CAP |  en | 0 | ABASAGLAR_clean_SmPC.json | currHeadId :- '20017' | currParentHeadId :- '20009.0' | prevParentHeadId :- '20016'\n",
      "2021-05-13 15:33:06,737 : Heading Extraction ABASAGLAR_clean_SmPC.json_M : Match Passed | H | CAP |  en | 0 | ABASAGLAR_clean_SmPC.json | Doc txt :- 'Traceability' | Qrd txt :- 'Traceability' | Matched :- 'True'\n",
      "2021-05-13 15:33:06,744 : Heading Extraction ABASAGLAR_clean_SmPC.json_M : Validation Passed | H | CAP |  en | 0 | ABASAGLAR_clean_SmPC.json | currHeadId :- '20018' | currParentHeadId :- '20017.0' | prevParentHeadId :- '20017'\n",
      " batch number of the administered product should be clearly recorded.' | Qrd txt :- '6.5 Nature and contents of container <and special equipment for use administration or implantation>' | Matched :- 'False'\n",
      " recommended in such cases. ' | Qrd txt :- '6.5 Nature and contents of container <and special equipment for use administration or implantation>' | Matched :- 'False't the insulin of choice for the treatment of diabetic\n"
     ]
    },
    {
     "name": "stdout",
     "output_type": "stream",
     "text": [
      "\n",
      "\n",
      "\n"
     ]
    },
    {
     "name": "stderr",
     "output_type": "stream",
     "text": [
      " adjustments' | Qrd txt :- '6.5 Nature and contents of container <and special equipment for use administration or implantation>' | Matched :- 'False''Insulin requirements and dose\n",
      " animal insulin to human insulin,' | Qrd txt :- '6.5 Nature and contents of container <and special equipment for use administration or implantation>' | Matched :- 'False'sfer from\n",
      " animal insulin to human insulin,' | Qrd txt :- '6.6 Special precautions for disposal <and other handling>' | Matched :- 'False'PC.json | Doc txt :- '-         after transfer from\n",
      " psychiatric illness,' | Qrd txt :- '6.6 Special precautions for disposal <and other handling>' | Matched :- 'False'LAR_clean_SmPC.json | Doc txt :- '-         suffering from a\n",
      " treatment with certain other medicinal products (see section 4.5).' | Qrd txt :- '6.5 Nature and contents of container <and special equipment for use administration or implantation>' | Matched :- 'False'\n",
      " loss of consciousness) prior to the patient's awareness of hypoglycaemia.' | Qrd txt :- '6.5 Nature and contents of container <and special equipment for use administration or implantation>' | Matched :- 'False'bly\n",
      " recovery from hypoglycaemia.' | Qrd txt :- '6.5 Nature and contents of container <and special equipment for use administration or implantation>' | Matched :- 'False'fect of subcutaneous insulin glargine may delay\n",
      " recovery from hypoglycaemia.' | Qrd txt :- '6.6 Special precautions for disposal <and other handling>' | Matched :- 'False'n_SmPC.json | Doc txt :- 'The prolonged effect of subcutaneous insulin glargine may delay\n",
      " hypoglycaemia must be considered. ' | Qrd txt :- '6.5 Nature and contents of container <and special equipment for use administration or implantation>' | Matched :- 'False' values for glycated haemoglobin are noted,\n",
      " or prolonged physical activity,' | Qrd txt :- '6.5 Nature and contents of container <and special equipment for use administration or implantation>' | Matched :- 'False'med, increased\n",
      " or prolonged physical activity,' | Qrd txt :- '6.6 Special precautions for disposal <and other handling>' | Matched :- 'False'mPC.json | Doc txt :- '-         unaccustomed, increased\n",
      " adrenocortical insufficiency),' | Qrd txt :- '6.5 Nature and contents of container <and special equipment for use administration or implantation>' | Matched :- 'False'uncompensated\n",
      " with certain other medicinal products.' | Qrd txt :- '6.5 Nature and contents of container <and special equipment for use administration or implantation>' | Matched :- 'False'tment\n",
      " (23 mg) per dose, i.e., essentially “sodium‑free”.' | Qrd txt :- '6.5 Nature and contents of container <and special equipment for use administration or implantation>' | Matched :- 'False'han 1 mmol sodium\n",
      " and other forms of interaction' | Qrd txt :- '4.5 Interaction with other medicinal products and other forms of interaction' | Matched :- 'True't :- '4.5     Interaction with other medicinal products\n",
      "2021-05-13 15:33:08,008 : Heading Extraction ABASAGLAR_clean_SmPC.json_M : Validation Passed | H | CAP |  en | 0 | ABASAGLAR_clean_SmPC.json | currHeadId :- '20020' | currParentHeadId :- '20009.0' | prevParentHeadId :- '20017'\n",
      " dose adjustment of insulin glargine.' | Qrd txt :- '6.5 Nature and contents of container <and special equipment for use administration or implantation>' | Matched :- 'False'ffect glucose metabolism and may require\n",
      "2021-05-13 15:33:08,096 : Heading Extraction ABASAGLAR_clean_SmPC.json_M : Match Passed | H | CAP |  en | 0 | ABASAGLAR_clean_SmPC.json | Doc txt :- '4.6     Fertility, pregnancy and lactation' | Qrd txt :- '4.6 Fertility, pregnancy and lactation' | Matched :- 'True'\n",
      "2021-05-13 15:33:08,103 : Heading Extraction ABASAGLAR_clean_SmPC.json_M : Validation Passed | H | CAP |  en | 0 | ABASAGLAR_clean_SmPC.json | currHeadId :- '20022' | currParentHeadId :- '20009.0' | prevParentHeadId :- '20020'\n",
      "2021-05-13 15:33:08,123 : Heading Extraction ABASAGLAR_clean_SmPC.json_M : Match Passed | H | CAP |  en | 0 | ABASAGLAR_clean_SmPC.json | Doc txt :- 'Pregnancy' | Qrd txt :- 'Pregnancy' | Matched :- 'True'\n",
      "2021-05-13 15:33:08,131 : Heading Extraction ABASAGLAR_clean_SmPC.json_M : Validation Passed | H | CAP |  en | 0 | ABASAGLAR_clean_SmPC.json | currHeadId :- '20023' | currParentHeadId :- '20022.0' | prevParentHeadId :- '20022'\n",
      "2021-05-13 15:33:08,166 : Heading Extraction ABASAGLAR_clean_SmPC.json_M : Match Failed | H | CAP |  en | 0 | ABASAGLAR_clean_SmPC.json | Doc txt :- 'Animal data do not indicate reproductive toxicity. ' | Qrd txt :- '6.5 Nature and contents of container <and special equipment for use administration or implantation>' | Matched :- 'False'\n"
     ]
    },
    {
     "name": "stdout",
     "output_type": "stream",
     "text": [
      "\n",
      "\n",
      "\n"
     ]
    },
    {
     "name": "stderr",
     "output_type": "stream",
     "text": [
      " needed. ' | Qrd txt :- '6.6 Special precautions for disposal <and other handling>' | Matched :- 'False'| 0 | ABASAGLAR_clean_SmPC.json | Doc txt :- 'The use of ABASAGLAR may be considered during pregnancy, if clinically\n",
      "2021-05-13 15:33:08,227 : Heading Extraction ABASAGLAR_clean_SmPC.json_M : Match Passed | H | CAP |  en | 0 | ABASAGLAR_clean_SmPC.json | Doc txt :- 'Breast-feeding' | Qrd txt :- 'Breast-feeding' | Matched :- 'True'\n",
      "2021-05-13 15:33:08,236 : Heading Extraction ABASAGLAR_clean_SmPC.json_M : Validation Passed | H | CAP |  en | 0 | ABASAGLAR_clean_SmPC.json | currHeadId :- '20024' | currParentHeadId :- '20022.0' | prevParentHeadId :- '20022'\n",
      " diet. ' | Qrd txt :- '6.5 Nature and contents of container <and special equipment for use administration or implantation>' | Matched :- 'False't :- 'Breast-feeding women may require adjustments in insulin dose and\n",
      "2021-05-13 15:33:08,312 : Heading Extraction ABASAGLAR_clean_SmPC.json_M : Match Passed | H | CAP |  en | 0 | ABASAGLAR_clean_SmPC.json | Doc txt :- 'Fertility' | Qrd txt :- 'Fertility' | Matched :- 'True'\n",
      "2021-05-13 15:33:08,324 : Heading Extraction ABASAGLAR_clean_SmPC.json_M : Validation Passed | H | CAP |  en | 0 | ABASAGLAR_clean_SmPC.json | currHeadId :- '20025' | currParentHeadId :- '20022.0' | prevParentHeadId :- '20022'\n",
      " to fertility.' | Qrd txt :- '6.5 Nature and contents of container <and special equipment for use administration or implantation>' | Matched :- 'False'nimal studies do not indicate direct harmful effects with respect\n",
      " to drive and use machines' | Qrd txt :- '4.7 Effects on ability to drive and use machines' | Matched :- 'True'BASAGLAR_clean_SmPC.json | Doc txt :- '4.7     Effects on ability\n",
      "2021-05-13 15:33:08,383 : Heading Extraction ABASAGLAR_clean_SmPC.json_M : Validation Passed | H | CAP |  en | 0 | ABASAGLAR_clean_SmPC.json | currHeadId :- '20026' | currParentHeadId :- '20009.0' | prevParentHeadId :- '20022'\n",
      " effects' | Qrd txt :- '4.8 Undesirable effects' | Matched :- 'True'on_M : Match Passed | H | CAP |  en | 0 | ABASAGLAR_clean_SmPC.json | Doc txt :- '4.8     Undesirable\n",
      "2021-05-13 15:33:08,417 : Heading Extraction ABASAGLAR_clean_SmPC.json_M : Validation Passed | H | CAP |  en | 0 | ABASAGLAR_clean_SmPC.json | currHeadId :- '20027' | currParentHeadId :- '20009.0' | prevParentHeadId :- '20026'\n"
     ]
    },
    {
     "name": "stdout",
     "output_type": "stream",
     "text": [
      "\n",
      "\n",
      "\n",
      "\n"
     ]
    },
    {
     "name": "stderr",
     "output_type": "stream",
     "text": [
      " relation to the insulin requirement (see section 4.4).' | Qrd txt :- '6.5 Nature and contents of container <and special equipment for use administration or implantation>' | Matched :- 'False'e most frequent adverse\n",
      "2021-05-13 15:33:08,540 : Heading Extraction ABASAGLAR_clean_SmPC.json_M : Match Failed | H | CAP |  en | 0 | ABASAGLAR_clean_SmPC.json | Doc txt :- 'Tabulated list of adverse reactions' | Qrd txt :- '6.6 Special precautions for disposal <and other handling>' | Matched :- 'False'\n",
      " order of decreasing seriousness.' | Qrd txt :- '6.5 Nature and contents of container <and special equipment for use administration or implantation>' | Matched :- 'False'y grouping, adverse reactions are presented in\n",
      "2021-05-13 15:33:08,603 : Heading Extraction ABASAGLAR_clean_SmPC.json_M : Match Failed | H | CAP |  en | 0 | ABASAGLAR_clean_SmPC.json | Doc txt :- 'Description of selected adverse reactions' | Qrd txt :- '6.5 Nature and contents of container <and special equipment for use administration or implantation>' | Matched :- 'False'\n",
      "2021-05-13 15:33:08,647 : Heading Extraction ABASAGLAR_clean_SmPC.json_M : Match Failed | H | CAP |  en | 0 | ABASAGLAR_clean_SmPC.json | Doc txt :- 'Metabolism and nutrition disorders' | Qrd txt :- '6.5 Nature and contents of container <and special equipment for use administration or implantation>' | Matched :- 'False'\n",
      "2021-05-13 15:33:08,650 : Heading Extraction ABASAGLAR_clean_SmPC.json_M : Match Failed | H | CAP |  en | 0 | ABASAGLAR_clean_SmPC.json | Doc txt :- 'Metabolism and nutrition disorders' | Qrd txt :- '6.6 Special precautions for disposal <and other handling>' | Matched :- 'False'\n",
      " of the lens.' | Qrd txt :- '6.5 Nature and contents of container <and special equipment for use administration or implantation>' | Matched :- 'False'A marked change in glycaemic control may cause temporary visual\n",
      "2021-05-13 15:33:08,791 : Heading Extraction ABASAGLAR_clean_SmPC.json_M : Match Failed | H | CAP |  en | 0 | ABASAGLAR_clean_SmPC.json | Doc txt :- 'Skin and subcutaneous tissue disorders' | Qrd txt :- '6.6 Special precautions for disposal <and other handling>' | Matched :- 'False'\n",
      "2021-05-13 15:33:08,838 : Heading Extraction ABASAGLAR_clean_SmPC.json_M : Match Failed | H | CAP |  en | 0 | ABASAGLAR_clean_SmPC.json | Doc txt :- 'General disorders and administration site conditions' | Qrd txt :- '6.5 Nature and contents of container <and special equipment for use administration or implantation>' | Matched :- 'False'\n",
      " site usually resolve in a few days to a few weeks. ' | Qrd txt :- '6.5 Nature and contents of container <and special equipment for use administration or implantation>' | Matched :- 'False's, pain, itching, hives,\n",
      " therapy.' | Qrd txt :- '6.5 Nature and contents of container <and special equipment for use administration or implantation>' | Matched :- 'False':- 'Rarely, insulin may cause sodium retention and oedema particularly\n",
      "2021-05-13 15:33:08,905 : Heading Extraction ABASAGLAR_clean_SmPC.json_M : Match Passed | H | CAP |  en | 0 | ABASAGLAR_clean_SmPC.json | Doc txt :- 'Paediatric population' | Qrd txt :- 'Paediatric population' | Matched :- 'True'\n",
      "2021-05-13 15:33:08,910 : Heading Extraction ABASAGLAR_clean_SmPC.json_M : Validation Failed As Previous Heading Found is not matching | H | CAP |  en | 0 | ABASAGLAR_clean_SmPC.json | currHeadId :- '20013' | currParentHeadId :- '20012.0' | prevParentHeadId :- '20027'\n",
      "2021-05-13 15:33:08,916 : Heading Extraction ABASAGLAR_clean_SmPC.json_M : Match Passed | H | CAP |  en | 0 | ABASAGLAR_clean_SmPC.json | Doc txt :- 'Paediatric population' | Qrd txt :- 'Paediatric population' | Matched :- 'True'\n",
      "2021-05-13 15:33:08,922 : Heading Extraction ABASAGLAR_clean_SmPC.json_M : Validation Failed As Previous Heading Found is not matching | H | CAP |  en | 0 | ABASAGLAR_clean_SmPC.json | currHeadId :- '20019' | currParentHeadId :- '20017.0' | prevParentHeadId :- '20027'\n",
      "2021-05-13 15:33:08,925 : Heading Extraction ABASAGLAR_clean_SmPC.json_M : Match Passed | H | CAP |  en | 0 | ABASAGLAR_clean_SmPC.json | Doc txt :- 'Paediatric population' | Qrd txt :- 'Paediatric population' | Matched :- 'True'\n",
      "2021-05-13 15:33:08,931 : Heading Extraction ABASAGLAR_clean_SmPC.json_M : Validation Failed As Previous Heading Found is not matching | H | CAP |  en | 0 | ABASAGLAR_clean_SmPC.json | currHeadId :- '20021' | currParentHeadId :- '20020.0' | prevParentHeadId :- '20027'\n",
      "2021-05-13 15:33:08,938 : Heading Extraction ABASAGLAR_clean_SmPC.json_M : Match Passed | H | CAP |  en | 0 | ABASAGLAR_clean_SmPC.json | Doc txt :- 'Paediatric population' | Qrd txt :- 'Paediatric population' | Matched :- 'True'\n",
      "2021-05-13 15:33:08,959 : Heading Extraction ABASAGLAR_clean_SmPC.json_M : Validation Passed | H | CAP |  en | 0 | ABASAGLAR_clean_SmPC.json | currHeadId :- '20028' | currParentHeadId :- '20027.0' | prevParentHeadId :- '20027'\n",
      "2021-05-13 15:33:08,986 : Heading Extraction ABASAGLAR_clean_SmPC.json_M : Match Passed | H | CAP |  en | 0 | ABASAGLAR_clean_SmPC.json | Doc txt :- 'Reporting of suspected adverse reactions' | Qrd txt :- 'Reporting of suspected adverse reactions' | Matched :- 'True'\n",
      "2021-05-13 15:33:08,995 : Heading Extraction ABASAGLAR_clean_SmPC.json_M : Validation Passed | H | CAP |  en | 0 | ABASAGLAR_clean_SmPC.json | currHeadId :- '20029' | currParentHeadId :- '20027.0' | prevParentHeadId :- '20027'\n",
      "2021-05-13 15:33:09,028 : Heading Extraction ABASAGLAR_clean_SmPC.json_M : Match Passed | H | CAP |  en | 0 | ABASAGLAR_clean_SmPC.json | Doc txt :- '4.9     Overdose' | Qrd txt :- '4.9 Overdose' | Matched :- 'True'\n",
      "2021-05-13 15:33:09,032 : Heading Extraction ABASAGLAR_clean_SmPC.json_M : Validation Passed | H | CAP |  en | 0 | ABASAGLAR_clean_SmPC.json | currHeadId :- '20030' | currParentHeadId :- '20009.0' | prevParentHeadId :- '20027'\n",
      " life-threatening hypoglycaemia. ' | Qrd txt :- '6.5 Nature and contents of container <and special equipment for use administration or implantation>' | Matched :- 'False' lead to severe and sometimes long-term and\n"
     ]
    },
    {
     "name": "stdout",
     "output_type": "stream",
     "text": [
      "\n",
      "\n",
      "\n"
     ]
    },
    {
     "name": "stderr",
     "output_type": "stream",
     "text": [
      " patterns, or physical activity may be needed. ' | Qrd txt :- '6.5 Nature and contents of container <and special equipment for use administration or implantation>' | Matched :- 'False' usually be treated\n",
      "2021-05-13 15:33:09,185 : Heading Extraction ABASAGLAR_clean_SmPC.json_M : Match Passed | H | CAP |  en | 0 | ABASAGLAR_clean_SmPC.json | Doc txt :- '5.       PHARMACOLOGICAL PROPERTIES' | Qrd txt :- '5. PHARMACOLOGICAL PROPERTIES' | Matched :- 'True'\n",
      "2021-05-13 15:33:09,190 : Heading Extraction ABASAGLAR_clean_SmPC.json_M : Validation Passed | H | CAP |  en | 0 | ABASAGLAR_clean_SmPC.json | currHeadId :- '20032' | currParentHeadId :- '20001.0' | prevParentHeadId :- '20030'\n",
      " properties' | Qrd txt :- '5.1 Pharmacodynamic properties' | Matched :- 'True'ch Passed | H | CAP |  en | 0 | ABASAGLAR_clean_SmPC.json | Doc txt :- '5.1     Pharmacodynamic\n",
      "2021-05-13 15:33:09,223 : Heading Extraction ABASAGLAR_clean_SmPC.json_M : Validation Passed | H | CAP |  en | 0 | ABASAGLAR_clean_SmPC.json | currHeadId :- '20033' | currParentHeadId :- '20032.0' | prevParentHeadId :- '20032'\n",
      " long-acting. ATC Code: A10AE04.' | Qrd txt :- '6.5 Nature and contents of container <and special equipment for use administration or implantation>' | Matched :- 'False'\n",
      " of the European Medicines Agency http://www.ema.europa.eu.' | Qrd txt :- '6.5 Nature and contents of container <and special equipment for use administration or implantation>' | Matched :- 'False'\n",
      " action' | Qrd txt :- 'Mechanism of action' | Matched :- 'True'PC.json_M : Match Passed | H | CAP |  en | 0 | ABASAGLAR_clean_SmPC.json | Doc txt :- 'Mechanism of\n",
      "2021-05-13 15:33:09,308 : Heading Extraction ABASAGLAR_clean_SmPC.json_M : Validation Passed | H | CAP |  en | 0 | ABASAGLAR_clean_SmPC.json | currHeadId :- '20034' | currParentHeadId :- '20033.0' | prevParentHeadId :- '20033'\n",
      " is metabolised into 2 active metabolites M1 and M2 (see section 5.2).' | Qrd txt :- '6.5 Nature and contents of container <and special equipment for use administration or implantation>' | Matched :- 'False'\n"
     ]
    },
    {
     "name": "stdout",
     "output_type": "stream",
     "text": [
      "\n",
      "\n",
      "\n"
     ]
    },
    {
     "name": "stderr",
     "output_type": "stream",
     "text": [
      " receptor binding' | Qrd txt :- '6.6 Special precautions for disposal <and other handling>' | Matched :- 'False'ASAGLAR_clean_SmPC.json | Doc txt :- 'Insulin\n",
      " human insulin.' | Qrd txt :- '6.5 Nature and contents of container <and special equipment for use administration or implantation>' | Matched :- 'False' vitro studies indicate that the affinity of insulin glargine and its\n",
      " effects' | Qrd txt :- 'Pharmacodynamic effects' | Matched :- 'True'on_M : Match Passed | H | CAP |  en | 0 | ABASAGLAR_clean_SmPC.json | Doc txt :- 'Pharmacodynamic\n",
      "2021-05-13 15:33:09,464 : Heading Extraction ABASAGLAR_clean_SmPC.json_M : Validation Passed | H | CAP |  en | 0 | ABASAGLAR_clean_SmPC.json | currHeadId :- '20035' | currParentHeadId :- '20033.0' | prevParentHeadId :- '20033'\n",
      " mean values)' | Qrd txt :- '6.5 Nature and contents of container <and special equipment for use administration or implantation>' | Matched :- 'False'* Determined as\n",
      " mean values)' | Qrd txt :- '6.6 Special precautions for disposal <and other handling>' | Matched :- 'False'| ABASAGLAR_clean_SmPC.json | Doc txt :- '* Determined as\n",
      "2021-05-13 15:33:09,644 : Heading Extraction ABASAGLAR_clean_SmPC.json_M : Match Failed In Lowercase | H | CAP |  en | 0 | ABASAGLAR_clean_SmPC.json | Doc txt :- 'Clinical safety and efficacy' | Qrd txt :- 'Clinical efficacy and safety' | Matched :- 'False'\n"
     ]
    },
    {
     "name": "stdout",
     "output_type": "stream",
     "text": [
      "\n",
      "\n",
      "OriginalCheck\n",
      "\n"
     ]
    },
    {
     "name": "stderr",
     "output_type": "stream",
     "text": [
      " treatment groups.' | Qrd txt :- '6.5 Nature and contents of container <and special equipment for use administration or implantation>' | Matched :- 'False'inical\n",
      " endpoints included all-cause mortality and a composite microvascular outcome.' | Qrd txt :- '6.5 Nature and contents of container <and special equipment for use administration or implantation>' | Matched :- 'False'\n",
      " endpoints included all-cause mortality and a composite microvascular outcome.' | Qrd txt :- '6.6 Special precautions for disposal <and other handling>' | Matched :- 'False'\n",
      " standard care group.' | Qrd txt :- '6.5 Nature and contents of container <and special equipment for use administration or implantation>' | Matched :- 'False'ast\n",
      " population' | Qrd txt :- 'Paediatric population' | Matched :- 'True'n_M : Match Passed | H | CAP |  en | 0 | ABASAGLAR_clean_SmPC.json | Doc txt :- 'Paediatric\n",
      "2021-05-13 15:33:09,777 : Heading Extraction ABASAGLAR_clean_SmPC.json_M : Validation Failed As Previous Heading Found is not matching | H | CAP |  en | 0 | ABASAGLAR_clean_SmPC.json | currHeadId :- '20013' | currParentHeadId :- '20012.0' | prevParentHeadId :- '20033'\n",
      " population' | Qrd txt :- 'Paediatric population' | Matched :- 'True'n_M : Match Passed | H | CAP |  en | 0 | ABASAGLAR_clean_SmPC.json | Doc txt :- 'Paediatric\n",
      "2021-05-13 15:33:09,794 : Heading Extraction ABASAGLAR_clean_SmPC.json_M : Validation Failed As Previous Heading Found is not matching | H | CAP |  en | 0 | ABASAGLAR_clean_SmPC.json | currHeadId :- '20019' | currParentHeadId :- '20017.0' | prevParentHeadId :- '20033'\n",
      " population' | Qrd txt :- 'Paediatric population' | Matched :- 'True'n_M : Match Passed | H | CAP |  en | 0 | ABASAGLAR_clean_SmPC.json | Doc txt :- 'Paediatric\n",
      "2021-05-13 15:33:09,802 : Heading Extraction ABASAGLAR_clean_SmPC.json_M : Validation Failed As Previous Heading Found is not matching | H | CAP |  en | 0 | ABASAGLAR_clean_SmPC.json | currHeadId :- '20021' | currParentHeadId :- '20020.0' | prevParentHeadId :- '20033'\n",
      " population' | Qrd txt :- 'Paediatric population' | Matched :- 'True'n_M : Match Passed | H | CAP |  en | 0 | ABASAGLAR_clean_SmPC.json | Doc txt :- 'Paediatric\n",
      "2021-05-13 15:33:09,815 : Heading Extraction ABASAGLAR_clean_SmPC.json_M : Validation Failed As Previous Heading Found is not matching | H | CAP |  en | 0 | ABASAGLAR_clean_SmPC.json | currHeadId :- '20028' | currParentHeadId :- '20027.0' | prevParentHeadId :- '20033'\n",
      " population' | Qrd txt :- 'Paediatric population' | Matched :- 'True'n_M : Match Passed | H | CAP |  en | 0 | ABASAGLAR_clean_SmPC.json | Doc txt :- 'Paediatric\n",
      "2021-05-13 15:33:09,828 : Heading Extraction ABASAGLAR_clean_SmPC.json_M : Validation Failed As Previous Heading Found is not matching | H | CAP |  en | 0 | ABASAGLAR_clean_SmPC.json | currHeadId :- '20031' | currParentHeadId :- '20030.0' | prevParentHeadId :- '20033'\n",
      " population' | Qrd txt :- 'Paediatric population' | Matched :- 'True'n_M : Match Passed | H | CAP |  en | 0 | ABASAGLAR_clean_SmPC.json | Doc txt :- 'Paediatric\n",
      "2021-05-13 15:33:09,850 : Heading Extraction ABASAGLAR_clean_SmPC.json_M : Validation Passed | H | CAP |  en | 0 | ABASAGLAR_clean_SmPC.json | currHeadId :- '20037' | currParentHeadId :- '20033.0' | prevParentHeadId :- '20033'\n",
      " properties' | Qrd txt :- '5.2 Pharmacokinetic properties' | Matched :- 'True'ch Passed | H | CAP |  en | 0 | ABASAGLAR_clean_SmPC.json | Doc txt :- '5.2     Pharmacokinetic\n",
      "2021-05-13 15:33:09,902 : Heading Extraction ABASAGLAR_clean_SmPC.json_M : Validation Passed | H | CAP |  en | 0 | ABASAGLAR_clean_SmPC.json | currHeadId :- '20038' | currParentHeadId :- '20032.0' | prevParentHeadId :- '20033'\n",
      "2021-05-13 15:33:09,941 : Heading Extraction ABASAGLAR_clean_SmPC.json_M : Match Passed | H | CAP |  en | 0 | ABASAGLAR_clean_SmPC.json | Doc txt :- 'Absorption' | Qrd txt :- 'Absorption' | Matched :- 'True'\n",
      "2021-05-13 15:33:09,949 : Heading Extraction ABASAGLAR_clean_SmPC.json_M : Validation Passed | H | CAP |  en | 0 | ABASAGLAR_clean_SmPC.json | currHeadId :- '20039' | currParentHeadId :- '20038.0' | prevParentHeadId :- '20038'\n",
      " in 2-4 days after the first dose. ' | Qrd txt :- '6.5 Nature and contents of container <and special equipment for use administration or implantation>' | Matched :- 'False'ted once daily will reach steady state levels\n",
      "2021-05-13 15:33:10,028 : Heading Extraction ABASAGLAR_clean_SmPC.json_M : Match Passed | H | CAP |  en | 0 | ABASAGLAR_clean_SmPC.json | Doc txt :- 'Biotransformation' | Qrd txt :- 'Biotransformation' | Matched :- 'True'\n",
      "2021-05-13 15:33:10,039 : Heading Extraction ABASAGLAR_clean_SmPC.json_M : Validation Passed | H | CAP |  en | 0 | ABASAGLAR_clean_SmPC.json | currHeadId :- '20041' | currParentHeadId :- '20038.0' | prevParentHeadId :- '20038'\n"
     ]
    },
    {
     "name": "stdout",
     "output_type": "stream",
     "text": [
      "\n",
      "\n",
      "\n"
     ]
    },
    {
     "name": "stderr",
     "output_type": "stream",
     "text": [
      "2021-05-13 15:33:10,074 : Heading Extraction ABASAGLAR_clean_SmPC.json_M : Match Passed | H | CAP |  en | 0 | ABASAGLAR_clean_SmPC.json | Doc txt :- 'Elimination' | Qrd txt :- 'Elimination' | Matched :- 'True'\n",
      "2021-05-13 15:33:10,086 : Heading Extraction ABASAGLAR_clean_SmPC.json_M : Validation Passed | H | CAP |  en | 0 | ABASAGLAR_clean_SmPC.json | currHeadId :- '20042' | currParentHeadId :- '20038.0' | prevParentHeadId :- '20038'\n",
      " glargine and human insulin were comparable. ' | Qrd txt :- '6.5 Nature and contents of container <and special equipment for use administration or implantation>' | Matched :- 'False'mination half-life of insulin\n",
      "2021-05-13 15:33:10,164 : Heading Extraction ABASAGLAR_clean_SmPC.json_M : Match Failed | H | CAP |  en | 0 | ABASAGLAR_clean_SmPC.json | Doc txt :- 'Special populations' | Qrd txt :- '6.6 Special precautions for disposal <and other handling>' | Matched :- 'False'\n",
      " to the entire study population.' | Qrd txt :- '6.5 Nature and contents of container <and special equipment for use administration or implantation>' | Matched :- 'False'\n",
      "2021-05-13 15:33:10,205 : Heading Extraction ABASAGLAR_clean_SmPC.json_M : Match Passed | H | CAP |  en | 0 | ABASAGLAR_clean_SmPC.json | Doc txt :- 'Paediatric population' | Qrd txt :- 'Paediatric population' | Matched :- 'True'\n",
      "2021-05-13 15:33:10,213 : Heading Extraction ABASAGLAR_clean_SmPC.json_M : Validation Failed As Previous Heading Found is not matching | H | CAP |  en | 0 | ABASAGLAR_clean_SmPC.json | currHeadId :- '20013' | currParentHeadId :- '20012.0' | prevParentHeadId :- '20038'\n",
      "2021-05-13 15:33:10,220 : Heading Extraction ABASAGLAR_clean_SmPC.json_M : Match Passed | H | CAP |  en | 0 | ABASAGLAR_clean_SmPC.json | Doc txt :- 'Paediatric population' | Qrd txt :- 'Paediatric population' | Matched :- 'True'\n",
      "2021-05-13 15:33:10,226 : Heading Extraction ABASAGLAR_clean_SmPC.json_M : Validation Failed As Previous Heading Found is not matching | H | CAP |  en | 0 | ABASAGLAR_clean_SmPC.json | currHeadId :- '20019' | currParentHeadId :- '20017.0' | prevParentHeadId :- '20038'\n"
     ]
    },
    {
     "name": "stdout",
     "output_type": "stream",
     "text": [
      "\n",
      "\n"
     ]
    },
    {
     "name": "stderr",
     "output_type": "stream",
     "text": [
      "2021-05-13 15:33:10,229 : Heading Extraction ABASAGLAR_clean_SmPC.json_M : Match Passed | H | CAP |  en | 0 | ABASAGLAR_clean_SmPC.json | Doc txt :- 'Paediatric population' | Qrd txt :- 'Paediatric population' | Matched :- 'True'\n",
      "2021-05-13 15:33:10,238 : Heading Extraction ABASAGLAR_clean_SmPC.json_M : Validation Failed As Previous Heading Found is not matching | H | CAP |  en | 0 | ABASAGLAR_clean_SmPC.json | currHeadId :- '20021' | currParentHeadId :- '20020.0' | prevParentHeadId :- '20038'\n",
      "2021-05-13 15:33:10,248 : Heading Extraction ABASAGLAR_clean_SmPC.json_M : Match Passed | H | CAP |  en | 0 | ABASAGLAR_clean_SmPC.json | Doc txt :- 'Paediatric population' | Qrd txt :- 'Paediatric population' | Matched :- 'True'\n",
      "2021-05-13 15:33:10,256 : Heading Extraction ABASAGLAR_clean_SmPC.json_M : Validation Failed As Previous Heading Found is not matching | H | CAP |  en | 0 | ABASAGLAR_clean_SmPC.json | currHeadId :- '20028' | currParentHeadId :- '20027.0' | prevParentHeadId :- '20038'\n",
      "2021-05-13 15:33:10,261 : Heading Extraction ABASAGLAR_clean_SmPC.json_M : Match Passed | H | CAP |  en | 0 | ABASAGLAR_clean_SmPC.json | Doc txt :- 'Paediatric population' | Qrd txt :- 'Paediatric population' | Matched :- 'True'\n",
      "2021-05-13 15:33:10,269 : Heading Extraction ABASAGLAR_clean_SmPC.json_M : Validation Failed As Previous Heading Found is not matching | H | CAP |  en | 0 | ABASAGLAR_clean_SmPC.json | currHeadId :- '20031' | currParentHeadId :- '20030.0' | prevParentHeadId :- '20038'\n",
      "2021-05-13 15:33:10,278 : Heading Extraction ABASAGLAR_clean_SmPC.json_M : Match Passed | H | CAP |  en | 0 | ABASAGLAR_clean_SmPC.json | Doc txt :- 'Paediatric population' | Qrd txt :- 'Paediatric population' | Matched :- 'True'\n",
      "2021-05-13 15:33:10,283 : Heading Extraction ABASAGLAR_clean_SmPC.json_M : Validation Failed As Previous Heading Found is not matching | H | CAP |  en | 0 | ABASAGLAR_clean_SmPC.json | currHeadId :- '20037' | currParentHeadId :- '20033.0' | prevParentHeadId :- '20038'\n",
      "2021-05-13 15:33:10,298 : Heading Extraction ABASAGLAR_clean_SmPC.json_M : Match Failed | H | CAP |  en | 0 | ABASAGLAR_clean_SmPC.json | Doc txt :- 'Paediatric population' | Qrd txt :- '6.6 Special precautions for disposal <and other handling>' | Matched :- 'False'\n",
      "2021-05-13 15:33:10,342 : Heading Extraction ABASAGLAR_clean_SmPC.json_M : Match Passed | H | CAP |  en | 0 | ABASAGLAR_clean_SmPC.json | Doc txt :- '5.3     Preclinical safety data' | Qrd txt :- '5.3 Preclinical safety data' | Matched :- 'True'\n",
      "2021-05-13 15:33:10,347 : Heading Extraction ABASAGLAR_clean_SmPC.json_M : Validation Passed | H | CAP |  en | 0 | ABASAGLAR_clean_SmPC.json | currHeadId :- '20045' | currParentHeadId :- '20032.0' | prevParentHeadId :- '20038'\n",
      " genotoxicity, carcinogenic potential, toxicity to reproduction.' | Qrd txt :- '6.5 Nature and contents of container <and special equipment for use administration or implantation>' | Matched :- 'False'ns based on\n",
      "2021-05-13 15:33:10,415 : Heading Extraction ABASAGLAR_clean_SmPC.json_M : Match Passed | H | CAP |  en | 0 | ABASAGLAR_clean_SmPC.json | Doc txt :- '6.       PHARMACEUTICAL PARTICULARS' | Qrd txt :- '6. PHARMACEUTICAL PARTICULARS' | Matched :- 'True'\n",
      "2021-05-13 15:33:10,424 : Heading Extraction ABASAGLAR_clean_SmPC.json_M : Validation Passed | H | CAP |  en | 0 | ABASAGLAR_clean_SmPC.json | currHeadId :- '20047' | currParentHeadId :- '20001.0' | prevParentHeadId :- '20045'\n",
      "2021-05-13 15:33:10,465 : Heading Extraction ABASAGLAR_clean_SmPC.json_M : Match Passed | H | CAP |  en | 0 | ABASAGLAR_clean_SmPC.json | Doc txt :- '6.1     List of excipients' | Qrd txt :- '6.1 List of excipients' | Matched :- 'True'\n",
      "2021-05-13 15:33:10,471 : Heading Extraction ABASAGLAR_clean_SmPC.json_M : Validation Passed | H | CAP |  en | 0 | ABASAGLAR_clean_SmPC.json | currHeadId :- '20048' | currParentHeadId :- '20047.0' | prevParentHeadId :- '20047'\n"
     ]
    },
    {
     "name": "stdout",
     "output_type": "stream",
     "text": [
      "\n",
      "\n",
      "\n"
     ]
    },
    {
     "name": "stderr",
     "output_type": "stream",
     "text": [
      "2021-05-13 15:33:10,734 : Heading Extraction ABASAGLAR_clean_SmPC.json_M : Match Passed | H | CAP |  en | 0 | ABASAGLAR_clean_SmPC.json | Doc txt :- '6.2     Incompatibilities' | Qrd txt :- '6.2 Incompatibilities' | Matched :- 'True'\n",
      "2021-05-13 15:33:10,738 : Heading Extraction ABASAGLAR_clean_SmPC.json_M : Validation Passed | H | CAP |  en | 0 | ABASAGLAR_clean_SmPC.json | currHeadId :- '20049' | currParentHeadId :- '20047.0' | prevParentHeadId :- '20048'\n",
      " products. ' | Qrd txt :- '6.5 Nature and contents of container <and special equipment for use administration or implantation>' | Matched :- 'False' 'This medicinal product must not be mixed with other medicinal\n",
      " products. ' | Qrd txt :- '6.6 Special precautions for disposal <and other handling>' | Matched :- 'False'0 | ABASAGLAR_clean_SmPC.json | Doc txt :- 'This medicinal product must not be mixed with other medicinal\n",
      "2021-05-13 15:33:10,808 : Heading Extraction ABASAGLAR_clean_SmPC.json_M : Match Passed | H | CAP |  en | 0 | ABASAGLAR_clean_SmPC.json | Doc txt :- '6.3     Shelf life' | Qrd txt :- '6.3 Shelf life' | Matched :- 'True'\n",
      "2021-05-13 15:33:10,813 : Heading Extraction ABASAGLAR_clean_SmPC.json_M : Validation Passed | H | CAP |  en | 0 | ABASAGLAR_clean_SmPC.json | currHeadId :- '20050' | currParentHeadId :- '20047.0' | prevParentHeadId :- '20049'\n",
      " stored in the refrigerator. ' | Qrd txt :- '6.5 Nature and contents of container <and special equipment for use administration or implantation>' | Matched :- 'False'oduct may be stored for a maximum of 28 days up\n",
      " order to protect from light.' | Qrd txt :- '6.5 Nature and contents of container <and special equipment for use administration or implantation>' | Matched :- 'False' be put back on the pen after each injection in\n"
     ]
    },
    {
     "name": "stdout",
     "output_type": "stream",
     "text": [
      "\n",
      "\n"
     ]
    },
    {
     "name": "stderr",
     "output_type": "stream",
     "text": [
      "2021-05-13 15:33:10,979 : Heading Extraction ABASAGLAR_clean_SmPC.json_M : Match Passed | H | CAP |  en | 0 | ABASAGLAR_clean_SmPC.json | Doc txt :- '6.4     Special precautions for storage' | Qrd txt :- '6.4 Special precautions for storage' | Matched :- 'True'\n",
      "2021-05-13 15:33:10,986 : Heading Extraction ABASAGLAR_clean_SmPC.json_M : Validation Passed | H | CAP |  en | 0 | ABASAGLAR_clean_SmPC.json | currHeadId :- '20051' | currParentHeadId :- '20047.0' | prevParentHeadId :- '20050'\n"
     ]
    },
    {
     "name": "stdout",
     "output_type": "stream",
     "text": [
      "\n"
     ]
    },
    {
     "name": "stderr",
     "output_type": "stream",
     "text": [
      " product, see section 6.3.' | Qrd txt :- '6.5 Nature and contents of container <and special equipment for use administration or implantation>' | Matched :- 'False'onditions after first opening of this medicinal\n",
      "2021-05-13 15:33:11,316 : Heading Extraction ABASAGLAR_clean_SmPC.json_M : Match Passed | H | CAP |  en | 0 | ABASAGLAR_clean_SmPC.json | Doc txt :- '6.5     Nature and contents of container' | Qrd txt :- '6.5 Nature and contents of container <and special equipment for use administration or implantation>' | Matched :- 'True'\n",
      "2021-05-13 15:33:11,323 : Heading Extraction ABASAGLAR_clean_SmPC.json_M : Validation Passed | H | CAP |  en | 0 | ABASAGLAR_clean_SmPC.json | currHeadId :- '20052' | currParentHeadId :- '20047.0' | prevParentHeadId :- '20051'\n",
      " rubber) with aluminium seal.' | Qrd txt :- '6.5 Nature and contents of container <and special equipment for use administration or implantation>' | Matched :- 'False' a cartridge (type 1 colourless glass) with a\n",
      "2021-05-13 15:33:11,406 : Heading Extraction ABASAGLAR_clean_SmPC.json_M : Match Failed | H | CAP |  en | 0 | ABASAGLAR_clean_SmPC.json | Doc txt :- '6.6     Special precautions for disposal and other handling' | Qrd txt :- '6.5 Nature and contents of container <and special equipment for use administration or implantation>' | Matched :- 'False'\n",
      "2021-05-13 15:33:11,409 : Heading Extraction ABASAGLAR_clean_SmPC.json_M : Match Passed | H | CAP |  en | 0 | ABASAGLAR_clean_SmPC.json | Doc txt :- '6.6     Special precautions for disposal and other handling' | Qrd txt :- '6.6 Special precautions for disposal <and other handling>' | Matched :- 'True'\n",
      "2021-05-13 15:33:11,416 : Heading Extraction ABASAGLAR_clean_SmPC.json_M : Validation Passed | H | CAP |  en | 0 | ABASAGLAR_clean_SmPC.json | currHeadId :- '20053' | currParentHeadId :- '20047.0' | prevParentHeadId :- '20052'\n",
      " mixing can cause precipitation.' | Qrd txt :- '6.5 Nature and contents of container <and special equipment for use administration or implantation>' | Matched :- 'False'be mixed with any other insulin or medicinal\n"
     ]
    },
    {
     "name": "stdout",
     "output_type": "stream",
     "text": [
      "\n",
      "\n"
     ]
    },
    {
     "name": "stderr",
     "output_type": "stream",
     "text": [
      " Lilly reusable insulin pen (see section 4.4). ' | Qrd txt :- '6.5 Nature and contents of container <and special equipment for use administration or implantation>' | Matched :- 'False' used only in conjunction with a\n",
      " injection. ' | Qrd txt :- '6.5 Nature and contents of container <and special equipment for use administration or implantation>' | Matched :- 'False''The instructions for using the pen must be followed carefully for\n",
      " used. ' | Qrd txt :- '6.5 Nature and contents of container <and special equipment for use administration or implantation>' | Matched :- 'False't :- 'If the insulin pen is damaged or not working properly (due to\n",
      " used by one patient only. ' | Qrd txt :- '6.5 Nature and contents of container <and special equipment for use administration or implantation>' | Matched :- 'False' possible transmission of disease, each pen must be\n",
      " used by one patient only. ' | Qrd txt :- '6.6 Special precautions for disposal <and other handling>' | Matched :- 'False'ean_SmPC.json | Doc txt :- 'To prevent the possible transmission of disease, each pen must be\n",
      " AUTHORISATION HOLDER' | Qrd txt :- '7. MARKETING AUTHORISATION HOLDER' | Matched :- 'True' | CAP |  en | 0 | ABASAGLAR_clean_SmPC.json | Doc txt :- '7.       MARKETING\n",
      "2021-05-13 15:33:11,727 : Heading Extraction ABASAGLAR_clean_SmPC.json_M : Validation Passed | H | CAP |  en | 0 | ABASAGLAR_clean_SmPC.json | currHeadId :- '20055' | currParentHeadId :- '20001.0' | prevParentHeadId :- '20053'\n",
      "2021-05-13 15:33:11,786 : Heading Extraction ABASAGLAR_clean_SmPC.json_M : Match Failed | H | CAP |  en | 0 | ABASAGLAR_clean_SmPC.json | Doc txt :- '8.       MARKETING AUTHORISATION NUMBER(S)' | Qrd txt :- '7. MARKETING AUTHORISATION HOLDER' | Matched :- 'False'\n",
      "2021-05-13 15:33:11,788 : Heading Extraction ABASAGLAR_clean_SmPC.json_M : Match Passed | H | CAP |  en | 0 | ABASAGLAR_clean_SmPC.json | Doc txt :- '8.       MARKETING AUTHORISATION NUMBER(S)' | Qrd txt :- '8. MARKETING AUTHORISATION NUMBER(S)' | Matched :- 'True'\n",
      "2021-05-13 15:33:11,791 : Heading Extraction ABASAGLAR_clean_SmPC.json_M : Validation Passed | H | CAP |  en | 0 | ABASAGLAR_clean_SmPC.json | currHeadId :- '20056' | currParentHeadId :- '20001.0' | prevParentHeadId :- '20055'\n",
      "2021-05-13 15:33:11,895 : Heading Extraction ABASAGLAR_clean_SmPC.json_M : Match Passed | H | CAP |  en | 0 | ABASAGLAR_clean_SmPC.json | Doc txt :- '9.       DATE OF FIRST AUTHORISATION/RENEWAL OF THE AUTHORISATION' | Qrd txt :- '9. DATE OF FIRST AUTHORISATION/RENEWAL OF THE AUTHORISATION' | Matched :- 'True'\n",
      "2021-05-13 15:33:11,911 : Heading Extraction ABASAGLAR_clean_SmPC.json_M : Validation Passed | H | CAP |  en | 0 | ABASAGLAR_clean_SmPC.json | currHeadId :- '20057' | currParentHeadId :- '20001.0' | prevParentHeadId :- '20056'\n"
     ]
    },
    {
     "name": "stdout",
     "output_type": "stream",
     "text": [
      "\n",
      "\n"
     ]
    },
    {
     "name": "stderr",
     "output_type": "stream",
     "text": [
      "2021-05-13 15:33:12,044 : Heading Extraction ABASAGLAR_clean_SmPC.json_M : Match Passed | H | CAP |  en | 0 | ABASAGLAR_clean_SmPC.json | Doc txt :- '10.     DATE OF REVISION OF THE TEXT' | Qrd txt :- '10. DATE OF REVISION OF THE TEXT' | Matched :- 'True'\n",
      "2021-05-13 15:33:12,048 : Heading Extraction ABASAGLAR_clean_SmPC.json_M : Validation Passed | H | CAP |  en | 0 | ABASAGLAR_clean_SmPC.json | currHeadId :- '20058' | currParentHeadId :- '20001.0' | prevParentHeadId :- '20057'\n",
      " European Medicines Agency http://www.ema.europa.eu  1.       NAME OF THE MEDICINAL PRODUCT' | Qrd txt :- '6.5 Nature and contents of container <and special equipment for use administration or implantation>' | Matched :- 'False'\n"
     ]
    },
    {
     "name": "stdout",
     "output_type": "stream",
     "text": [
      "\n",
      "\n"
     ]
    },
    {
     "name": "stderr",
     "output_type": "stream",
     "text": [
      " for injection in a pre-filled pen' | Qrd txt :- '6.5 Nature and contents of container <and special equipment for use administration or implantation>' | Matched :- 'False'L Tempo Pen solution\n",
      "2021-05-13 15:33:12,166 : Heading Extraction ABASAGLAR_clean_SmPC.json_M : Match Passed | H | CAP |  en | 0 | ABASAGLAR_clean_SmPC.json | Doc txt :- '2.       QUALITATIVE AND QUANTITATIVE COMPOSITION' | Qrd txt :- '2. QUALITATIVE AND QUANTITATIVE COMPOSITION' | Matched :- 'True'\n",
      "2021-05-13 15:33:12,173 : Heading Extraction ABASAGLAR_clean_SmPC.json_M : Validation Failed As Previous Heading Found is not matching | H | CAP |  en | 0 | ABASAGLAR_clean_SmPC.json | currHeadId :- '20004' | currParentHeadId :- '20001.0' | prevParentHeadId :- '20058'\n",
      "2021-05-13 15:33:12,179 : Heading Extraction ABASAGLAR_clean_SmPC.json_M : Match Passed | H | CAP |  en | 0 | ABASAGLAR_clean_SmPC.json | Doc txt :- '2.       qualitative and quantitative composition' | Qrd txt :- '2.2 qualitative and quantitative composition' | Matched :- 'True'\n",
      "2021-05-13 15:33:12,181 : Heading Extraction ABASAGLAR_clean_SmPC.json_M : Match Passed In Lowercase | H | CAP |  en | 0 | ABASAGLAR_clean_SmPC.json | Doc txt :- '2.       QUALITATIVE AND QUANTITATIVE COMPOSITION' | Qrd txt :- '2.2 Qualitative and quantitative composition' | Matched :- 'True'\n",
      "2021-05-13 15:33:12,188 : Heading Extraction ABASAGLAR_clean_SmPC.json_M : Validation Failed As Wrong Heading Found | H | CAP |  en | 0 | ABASAGLAR_clean_SmPC.json | currHeadId :- '20006' | currParentHeadId :- '20004.0' | prevParentHeadId :- '20058'\n",
      "2021-05-13 15:33:12,225 : Heading Extraction ABASAGLAR_clean_SmPC.json_M : End Of Sub Section | H | CAP |  en | 0 | ABASAGLAR_clean_SmPC.json\n",
      "2021-05-13 15:33:12,230 : Heading Extraction ABASAGLAR_clean_SmPC.json_M : Match Passed | H | CAP |  en | 0 | ABASAGLAR_clean_SmPC.json | Doc txt :- '2.       QUALITATIVE AND QUANTITATIVE COMPOSITION' | Qrd txt :- '2. QUALITATIVE AND QUANTITATIVE COMPOSITION' | Matched :- 'True'\n",
      "2021-05-13 15:33:12,234 : Heading Extraction ABASAGLAR_clean_SmPC.json_M : Validation Passed As This The First Heading | H | CAP |  en | 0 | ABASAGLAR_clean_SmPC.json | currHeadId :- '20004' | currParentHeadId :- '20001.0' | prevParentHeadId :- ''\n",
      " 300 units. ' | Qrd txt :- '6.5 Nature and contents of container <and special equipment for use administration or implantation>' | Matched :- 'False''Each pen contains 3 mL of solution for injection, equivalent to\n",
      "2021-05-13 15:33:12,347 : Heading Extraction ABASAGLAR_clean_SmPC.json_M : Match Passed | H | CAP |  en | 0 | ABASAGLAR_clean_SmPC.json | Doc txt :- '3.       PHARMACEUTICAL FORM' | Qrd txt :- '3. PHARMACEUTICAL FORM' | Matched :- 'True'\n",
      "2021-05-13 15:33:12,351 : Heading Extraction ABASAGLAR_clean_SmPC.json_M : Validation Flow Is Broken | H | CAP |  en | 0 | ABASAGLAR_clean_SmPC.json | currHeadId :- '20008' | currParentHeadId :- '20001.0' | prevParentHeadId :- '20004'\n",
      "2021-05-13 15:33:12,355 : Heading Extraction ABASAGLAR_clean_SmPC.json_M : Validation Passed | H | CAP |  en | 0 | ABASAGLAR_clean_SmPC.json | currHeadId :- '20008' | currParentHeadId :- '20001.0' | prevParentHeadId :- '20004'\n"
     ]
    },
    {
     "name": "stdout",
     "output_type": "stream",
     "text": [
      "\n",
      "OriginalCheck\n",
      "\n",
      "oooooooooooooooooooooooooooooooooooooooo END OF Sub Section oooooooooooooooooooooooooooooooooooooooooooooooooooooooooooo\n",
      "\n",
      "\n"
     ]
    },
    {
     "name": "stderr",
     "output_type": "stream",
     "text": [
      "2021-05-13 15:33:12,446 : Heading Extraction ABASAGLAR_clean_SmPC.json_M : Match Passed | H | CAP |  en | 0 | ABASAGLAR_clean_SmPC.json | Doc txt :- '4.       CLINICAL PARTICULARS' | Qrd txt :- '4. CLINICAL PARTICULARS' | Matched :- 'True'\n",
      "2021-05-13 15:33:12,450 : Heading Extraction ABASAGLAR_clean_SmPC.json_M : Validation Passed | H | CAP |  en | 0 | ABASAGLAR_clean_SmPC.json | currHeadId :- '20009' | currParentHeadId :- '20001.0' | prevParentHeadId :- '20008'\n",
      "2021-05-13 15:33:12,461 : Heading Extraction ABASAGLAR_clean_SmPC.json_M : Match Passed | H | CAP |  en | 0 | ABASAGLAR_clean_SmPC.json | Doc txt :- '4.1     Therapeutic indications' | Qrd txt :- '4.1 Therapeutic indications' | Matched :- 'True'\n",
      "2021-05-13 15:33:12,466 : Heading Extraction ABASAGLAR_clean_SmPC.json_M : Validation Passed | H | CAP |  en | 0 | ABASAGLAR_clean_SmPC.json | currHeadId :- '20010' | currParentHeadId :- '20009.0' | prevParentHeadId :- '20009'\n",
      " aged 2 years and above.' | Qrd txt :- '6.5 Nature and contents of container <and special equipment for use administration or implantation>' | Matched :- 'False'f diabetes mellitus in adults, adolescents and children\n",
      " aged 2 years and above.' | Qrd txt :- '6.6 Special precautions for disposal <and other handling>' | Matched :- 'False'_clean_SmPC.json | Doc txt :- 'Treatment of diabetes mellitus in adults, adolescents and children\n",
      " and method of administration' | Qrd txt :- '4.2 Posology and method of administration' | Matched :- 'True' | ABASAGLAR_clean_SmPC.json | Doc txt :- '4.2     Posology\n",
      "2021-05-13 15:33:12,519 : Heading Extraction ABASAGLAR_clean_SmPC.json_M : Validation Passed | H | CAP |  en | 0 | ABASAGLAR_clean_SmPC.json | currHeadId :- '20011' | currParentHeadId :- '20009.0' | prevParentHeadId :- '20010'\n",
      "2021-05-13 15:33:12,540 : Heading Extraction ABASAGLAR_clean_SmPC.json_M : Match Passed | H | CAP |  en | 0 | ABASAGLAR_clean_SmPC.json | Doc txt :- 'Posology' | Qrd txt :- 'Posology' | Matched :- 'True'\n",
      "2021-05-13 15:33:12,553 : Heading Extraction ABASAGLAR_clean_SmPC.json_M : Validation Passed | H | CAP |  en | 0 | ABASAGLAR_clean_SmPC.json | currHeadId :- '20012' | currParentHeadId :- '20011.0' | prevParentHeadId :- '20011'\n",
      " prolonged duration of action. ' | Qrd txt :- '6.5 Nature and contents of container <and special equipment for use administration or implantation>' | Matched :- 'False' insulin glargine, an insulin analogue and has a\n"
     ]
    },
    {
     "name": "stdout",
     "output_type": "stream",
     "text": [
      "\n",
      "\n",
      "\n",
      "\n"
     ]
    },
    {
     "name": "stderr",
     "output_type": "stream",
     "text": [
      "2021-05-13 15:33:12,696 : Heading Extraction ABASAGLAR_clean_SmPC.json_M : Match Failed | H | CAP |  en | 0 | ABASAGLAR_clean_SmPC.json | Doc txt :- 'Special populations' | Qrd txt :- '6.6 Special precautions for disposal <and other handling>' | Matched :- 'False'\n",
      " to a steady decrease in insulin requirements.' | Qrd txt :- '6.5 Nature and contents of container <and special equipment for use administration or implantation>' | Matched :- 'False'ioration of renal function may lead\n",
      " may be diminished due to reduced insulin metabolism.' | Qrd txt :- '6.5 Nature and contents of container <and special equipment for use administration or implantation>' | Matched :- 'False'in requirements\n",
      " reduced insulin metabolism.' | Qrd txt :- '6.5 Nature and contents of container <and special equipment for use administration or implantation>' | Matched :- 'False'h hepatic impairment, insulin\n",
      "2021-05-13 15:33:12,933 : Heading Extraction ABASAGLAR_clean_SmPC.json_M : Match Passed | H | CAP |  en | 0 | ABASAGLAR_clean_SmPC.json | Doc txt :- 'Paediatric population' | Qrd txt :- 'Paediatric population' | Matched :- 'True'\n",
      "2021-05-13 15:33:12,944 : Heading Extraction ABASAGLAR_clean_SmPC.json_M : Validation Passed | H | CAP |  en | 0 | ABASAGLAR_clean_SmPC.json | currHeadId :- '20013' | currParentHeadId :- '20012.0' | prevParentHeadId :- '20011'\n",
      " established. No data are available. ' | Qrd txt :- '6.5 Nature and contents of container <and special equipment for use administration or implantation>' | Matched :- 'False'of insulin glargine have not been\n",
      " established. No data are available. ' | Qrd txt :- '6.6 Special precautions for disposal <and other handling>' | Matched :- 'False'son | Doc txt :- 'The safety and efficacy of insulin glargine have not been\n"
     ]
    },
    {
     "name": "stdout",
     "output_type": "stream",
     "text": [
      "\n"
     ]
    },
    {
     "name": "stderr",
     "output_type": "stream",
     "text": [
      " should be adjusted individually. ' | Qrd txt :- '6.5 Nature and contents of container <and special equipment for use administration or implantation>' | Matched :- 'False's the reduction should, at least partially, be\n",
      " the initial weeks thereafter. ' | Qrd txt :- '6.5 Nature and contents of container <and special equipment for use administration or implantation>' | Matched :- 'False'nitoring is recommended during the switch and in\n",
      " insulin may experience an improved insulin response with ABASAGLAR.' | Qrd txt :- '6.5 Nature and contents of container <and special equipment for use administration or implantation>' | Matched :- 'False'to human\n",
      "2021-05-13 15:33:13,251 : Heading Extraction ABASAGLAR_clean_SmPC.json_M : Match Passed | H | CAP |  en | 0 | ABASAGLAR_clean_SmPC.json | Doc txt :- 'Method of administration' | Qrd txt :- 'Method of administration ' | Matched :- 'True'\n",
      "2021-05-13 15:33:13,259 : Heading Extraction ABASAGLAR_clean_SmPC.json_M : Validation Passed | H | CAP |  en | 0 | ABASAGLAR_clean_SmPC.json | currHeadId :- '20014' | currParentHeadId :- '20011.0' | prevParentHeadId :- '20011'\n",
      " glargine. ' | Qrd txt :- '6.5 Nature and contents of container <and special equipment for use administration or implantation>' | Matched :- 'False' 'There are no clinically relevant differences in serum insulin or\n",
      " section 4.4 and 4.8).' | Qrd txt :- '6.5 Nature and contents of container <and special equipment for use administration or implantation>' | Matched :- 'False' sites should always be rotated within the same region in\n",
      " precipitation. ' | Qrd txt :- '6.5 Nature and contents of container <and special equipment for use administration or implantation>' | Matched :- 'False'SAGLAR must not be mixed with any other insulin or diluted.\n",
      " carefully (see section 6.6).' | Qrd txt :- '6.5 Nature and contents of container <and special equipment for use administration or implantation>' | Matched :- 'False'SAGLAR solution for injection in pre‑filled\n"
     ]
    },
    {
     "name": "stdout",
     "output_type": "stream",
     "text": [
      "\n"
     ]
    },
    {
     "name": "stderr",
     "output_type": "stream",
     "text": [
      " is shown in the dose window of the pen.' | Qrd txt :- '6.5 Nature and contents of container <and special equipment for use administration or implantation>' | Matched :- 'False'80 units in steps of 1 unit\n",
      " module Tempo Smart Button (see section 6.6).' | Qrd txt :- '6.5 Nature and contents of container <and special equipment for use administration or implantation>' | Matched :- 'False'he optional transfer\n",
      "2021-05-13 15:33:13,590 : Heading Extraction ABASAGLAR_clean_SmPC.json_M : Match Passed | H | CAP |  en | 0 | ABASAGLAR_clean_SmPC.json | Doc txt :- '4.3     Contraindications' | Qrd txt :- '4.3 Contraindications' | Matched :- 'True'\n",
      "2021-05-13 15:33:13,596 : Heading Extraction ABASAGLAR_clean_SmPC.json_M : Validation Passed | H | CAP |  en | 0 | ABASAGLAR_clean_SmPC.json | currHeadId :- '20016' | currParentHeadId :- '20009.0' | prevParentHeadId :- '20011'\n",
      " the excipients listed in section 6.1.' | Qrd txt :- '6.5 Nature and contents of container <and special equipment for use administration or implantation>' | Matched :- 'False'ctive substance or to any of\n",
      "2021-05-13 15:33:13,636 : Heading Extraction ABASAGLAR_clean_SmPC.json_M : Match Passed | H | CAP |  en | 0 | ABASAGLAR_clean_SmPC.json | Doc txt :- '4.4     Special warnings and precautions for use' | Qrd txt :- '4.4 Special warnings and precautions for use' | Matched :- 'True'\n",
      "2021-05-13 15:33:13,644 : Heading Extraction ABASAGLAR_clean_SmPC.json_M : Validation Passed | H | CAP |  en | 0 | ABASAGLAR_clean_SmPC.json | currHeadId :- '20017' | currParentHeadId :- '20009.0' | prevParentHeadId :- '20016'\n",
      "2021-05-13 15:33:13,661 : Heading Extraction ABASAGLAR_clean_SmPC.json_M : Match Passed | H | CAP |  en | 0 | ABASAGLAR_clean_SmPC.json | Doc txt :- 'Traceability' | Qrd txt :- 'Traceability' | Matched :- 'True'\n",
      "2021-05-13 15:33:13,669 : Heading Extraction ABASAGLAR_clean_SmPC.json_M : Validation Passed | H | CAP |  en | 0 | ABASAGLAR_clean_SmPC.json | currHeadId :- '20018' | currParentHeadId :- '20017.0' | prevParentHeadId :- '20017'\n",
      " batch number of the administered medicinal product should be clearly recorded.' | Qrd txt :- '6.5 Nature and contents of container <and special equipment for use administration or implantation>' | Matched :- 'False'\n",
      " recommended in such cases. ' | Qrd txt :- '6.5 Nature and contents of container <and special equipment for use administration or implantation>' | Matched :- 'False't the insulin of choice for the treatment of diabetic\n"
     ]
    },
    {
     "name": "stdout",
     "output_type": "stream",
     "text": [
      "\n",
      "\n",
      "\n"
     ]
    },
    {
     "name": "stderr",
     "output_type": "stream",
     "text": [
      "2021-05-13 15:33:13,800 : Heading Extraction ABASAGLAR_clean_SmPC.json_M : Match Failed | H | CAP |  en | 0 | ABASAGLAR_clean_SmPC.json | Doc txt :- 'Insulin requirements and dose adjustments' | Qrd txt :- '6.5 Nature and contents of container <and special equipment for use administration or implantation>' | Matched :- 'False'\n",
      " animal insulin to human insulin,' | Qrd txt :- '6.5 Nature and contents of container <and special equipment for use administration or implantation>' | Matched :- 'False'sfer from\n",
      " animal insulin to human insulin,' | Qrd txt :- '6.6 Special precautions for disposal <and other handling>' | Matched :- 'False'PC.json | Doc txt :- '-         after transfer from\n",
      " psychiatric illness,' | Qrd txt :- '6.6 Special precautions for disposal <and other handling>' | Matched :- 'False'LAR_clean_SmPC.json | Doc txt :- '-         suffering from a\n",
      " treatment with certain other medicinal products (see section 4.5).' | Qrd txt :- '6.5 Nature and contents of container <and special equipment for use administration or implantation>' | Matched :- 'False'\n",
      " loss of consciousness) prior to the patient's awareness of hypoglycaemia.' | Qrd txt :- '6.5 Nature and contents of container <and special equipment for use administration or implantation>' | Matched :- 'False'bly\n",
      " recovery from hypoglycaemia.' | Qrd txt :- '6.5 Nature and contents of container <and special equipment for use administration or implantation>' | Matched :- 'False'fect of subcutaneous insulin glargine may delay\n",
      " recovery from hypoglycaemia.' | Qrd txt :- '6.6 Special precautions for disposal <and other handling>' | Matched :- 'False'n_SmPC.json | Doc txt :- 'The prolonged effect of subcutaneous insulin glargine may delay\n",
      " hypoglycaemia must be considered. ' | Qrd txt :- '6.5 Nature and contents of container <and special equipment for use administration or implantation>' | Matched :- 'False' values for glycated haemoglobin are noted,\n",
      " or prolonged physical activity,' | Qrd txt :- '6.5 Nature and contents of container <and special equipment for use administration or implantation>' | Matched :- 'False'med, increased\n",
      " or prolonged physical activity,' | Qrd txt :- '6.6 Special precautions for disposal <and other handling>' | Matched :- 'False'mPC.json | Doc txt :- '-         unaccustomed, increased\n",
      " adrenocortical insufficiency),' | Qrd txt :- '6.5 Nature and contents of container <and special equipment for use administration or implantation>' | Matched :- 'False'uncompensated\n",
      " with certain other medicinal products.' | Qrd txt :- '6.5 Nature and contents of container <and special equipment for use administration or implantation>' | Matched :- 'False'tment\n",
      " (23 mg) per dose, i.e., essentially “sodium‑free”.' | Qrd txt :- '6.5 Nature and contents of container <and special equipment for use administration or implantation>' | Matched :- 'False'han 1 mmol sodium\n",
      " and other forms of interaction' | Qrd txt :- '4.5 Interaction with other medicinal products and other forms of interaction' | Matched :- 'True't :- '4.5     Interaction with other medicinal products\n",
      "2021-05-13 15:33:14,865 : Heading Extraction ABASAGLAR_clean_SmPC.json_M : Validation Passed | H | CAP |  en | 0 | ABASAGLAR_clean_SmPC.json | currHeadId :- '20020' | currParentHeadId :- '20009.0' | prevParentHeadId :- '20017'\n",
      " dose adjustment of insulin glargine.' | Qrd txt :- '6.5 Nature and contents of container <and special equipment for use administration or implantation>' | Matched :- 'False'ffect glucose metabolism and may require\n",
      "2021-05-13 15:33:14,946 : Heading Extraction ABASAGLAR_clean_SmPC.json_M : Match Passed | H | CAP |  en | 0 | ABASAGLAR_clean_SmPC.json | Doc txt :- '4.6     Fertility, pregnancy and lactation' | Qrd txt :- '4.6 Fertility, pregnancy and lactation' | Matched :- 'True'\n",
      "2021-05-13 15:33:14,953 : Heading Extraction ABASAGLAR_clean_SmPC.json_M : Validation Passed | H | CAP |  en | 0 | ABASAGLAR_clean_SmPC.json | currHeadId :- '20022' | currParentHeadId :- '20009.0' | prevParentHeadId :- '20020'\n",
      "2021-05-13 15:33:14,975 : Heading Extraction ABASAGLAR_clean_SmPC.json_M : Match Passed | H | CAP |  en | 0 | ABASAGLAR_clean_SmPC.json | Doc txt :- 'Pregnancy' | Qrd txt :- 'Pregnancy' | Matched :- 'True'\n",
      "2021-05-13 15:33:14,984 : Heading Extraction ABASAGLAR_clean_SmPC.json_M : Validation Passed | H | CAP |  en | 0 | ABASAGLAR_clean_SmPC.json | currHeadId :- '20023' | currParentHeadId :- '20022.0' | prevParentHeadId :- '20022'\n",
      "2021-05-13 15:33:15,015 : Heading Extraction ABASAGLAR_clean_SmPC.json_M : Match Failed | H | CAP |  en | 0 | ABASAGLAR_clean_SmPC.json | Doc txt :- 'Animal data do not indicate reproductive toxicity. ' | Qrd txt :- '6.5 Nature and contents of container <and special equipment for use administration or implantation>' | Matched :- 'False'\n",
      " needed.' | Qrd txt :- '6.6 Special precautions for disposal <and other handling>' | Matched :- 'False' | 0 | ABASAGLAR_clean_SmPC.json | Doc txt :- 'The use of ABASAGLAR may be considered during pregnancy, if clinically\n",
      "2021-05-13 15:33:15,072 : Heading Extraction ABASAGLAR_clean_SmPC.json_M : Match Passed | H | CAP |  en | 0 | ABASAGLAR_clean_SmPC.json | Doc txt :- 'Breast-feeding' | Qrd txt :- 'Breast-feeding' | Matched :- 'True'\n"
     ]
    },
    {
     "name": "stdout",
     "output_type": "stream",
     "text": [
      "\n",
      "\n",
      "\n"
     ]
    },
    {
     "name": "stderr",
     "output_type": "stream",
     "text": [
      "2021-05-13 15:33:15,080 : Heading Extraction ABASAGLAR_clean_SmPC.json_M : Validation Passed | H | CAP |  en | 0 | ABASAGLAR_clean_SmPC.json | currHeadId :- '20024' | currParentHeadId :- '20022.0' | prevParentHeadId :- '20022'\n",
      " diet. ' | Qrd txt :- '6.5 Nature and contents of container <and special equipment for use administration or implantation>' | Matched :- 'False't :- 'Breast-feeding women may require adjustments in insulin dose and\n",
      "2021-05-13 15:33:15,143 : Heading Extraction ABASAGLAR_clean_SmPC.json_M : Match Passed | H | CAP |  en | 0 | ABASAGLAR_clean_SmPC.json | Doc txt :- 'Fertility' | Qrd txt :- 'Fertility' | Matched :- 'True'\n",
      "2021-05-13 15:33:15,151 : Heading Extraction ABASAGLAR_clean_SmPC.json_M : Validation Passed | H | CAP |  en | 0 | ABASAGLAR_clean_SmPC.json | currHeadId :- '20025' | currParentHeadId :- '20022.0' | prevParentHeadId :- '20022'\n",
      " to fertility.' | Qrd txt :- '6.5 Nature and contents of container <and special equipment for use administration or implantation>' | Matched :- 'False'nimal studies do not indicate direct harmful effects with respect\n",
      " machines' | Qrd txt :- '4.7 Effects on ability to drive and use machines' | Matched :- 'True'CAP |  en | 0 | ABASAGLAR_clean_SmPC.json | Doc txt :- '4.7     Effects on ability to drive and use\n",
      "2021-05-13 15:33:15,205 : Heading Extraction ABASAGLAR_clean_SmPC.json_M : Validation Passed | H | CAP |  en | 0 | ABASAGLAR_clean_SmPC.json | currHeadId :- '20026' | currParentHeadId :- '20009.0' | prevParentHeadId :- '20022'\n",
      " effects' | Qrd txt :- '4.8 Undesirable effects' | Matched :- 'True'on_M : Match Passed | H | CAP |  en | 0 | ABASAGLAR_clean_SmPC.json | Doc txt :- '4.8     Undesirable\n",
      "2021-05-13 15:33:15,238 : Heading Extraction ABASAGLAR_clean_SmPC.json_M : Validation Passed | H | CAP |  en | 0 | ABASAGLAR_clean_SmPC.json | currHeadId :- '20027' | currParentHeadId :- '20009.0' | prevParentHeadId :- '20026'\n"
     ]
    },
    {
     "name": "stdout",
     "output_type": "stream",
     "text": [
      "\n",
      "\n",
      "\n",
      "\n"
     ]
    },
    {
     "name": "stderr",
     "output_type": "stream",
     "text": [
      " the insulin requirement (see section 4.4).' | Qrd txt :- '6.5 Nature and contents of container <and special equipment for use administration or implantation>' | Matched :- 'False'n general the most frequent adverse reaction\n",
      "2021-05-13 15:33:15,362 : Heading Extraction ABASAGLAR_clean_SmPC.json_M : Match Failed | H | CAP |  en | 0 | ABASAGLAR_clean_SmPC.json | Doc txt :- 'Tabulated list of adverse reactions' | Qrd txt :- '6.6 Special precautions for disposal <and other handling>' | Matched :- 'False'\n",
      " order of decreasing seriousness.' | Qrd txt :- '6.5 Nature and contents of container <and special equipment for use administration or implantation>' | Matched :- 'False'y grouping, adverse reactions are presented in\n",
      "2021-05-13 15:33:15,425 : Heading Extraction ABASAGLAR_clean_SmPC.json_M : Match Failed | H | CAP |  en | 0 | ABASAGLAR_clean_SmPC.json | Doc txt :- 'Description of selected adverse reactions' | Qrd txt :- '6.5 Nature and contents of container <and special equipment for use administration or implantation>' | Matched :- 'False'\n",
      "2021-05-13 15:33:15,474 : Heading Extraction ABASAGLAR_clean_SmPC.json_M : Match Failed | H | CAP |  en | 0 | ABASAGLAR_clean_SmPC.json | Doc txt :- 'Metabolism and nutrition disorders' | Qrd txt :- '6.5 Nature and contents of container <and special equipment for use administration or implantation>' | Matched :- 'False'\n",
      "2021-05-13 15:33:15,476 : Heading Extraction ABASAGLAR_clean_SmPC.json_M : Match Failed | H | CAP |  en | 0 | ABASAGLAR_clean_SmPC.json | Doc txt :- 'Metabolism and nutrition disorders' | Qrd txt :- '6.6 Special precautions for disposal <and other handling>' | Matched :- 'False'\n",
      " of the lens.' | Qrd txt :- '6.5 Nature and contents of container <and special equipment for use administration or implantation>' | Matched :- 'False'A marked change in glycaemic control may cause temporary visual\n",
      "2021-05-13 15:33:15,636 : Heading Extraction ABASAGLAR_clean_SmPC.json_M : Match Failed | H | CAP |  en | 0 | ABASAGLAR_clean_SmPC.json | Doc txt :- 'Skin and subcutaneous tissue disorders' | Qrd txt :- '6.6 Special precautions for disposal <and other handling>' | Matched :- 'False'\n",
      " conditions' | Qrd txt :- '6.5 Nature and contents of container <and special equipment for use administration or implantation>' | Matched :- 'False' 'General disorders and administration site\n",
      " injection site usually resolve in a few days to a few weeks. ' | Qrd txt :- '6.5 Nature and contents of container <and special equipment for use administration or implantation>' | Matched :- 'False'tching,\n",
      " if previously poor metabolic control is improved by intensified insulin therapy.' | Qrd txt :- '6.5 Nature and contents of container <and special equipment for use administration or implantation>' | Matched :- 'False'\n",
      "2021-05-13 15:33:15,769 : Heading Extraction ABASAGLAR_clean_SmPC.json_M : Match Passed | H | CAP |  en | 0 | ABASAGLAR_clean_SmPC.json | Doc txt :- 'Paediatric population' | Qrd txt :- 'Paediatric population' | Matched :- 'True'\n",
      "2021-05-13 15:33:15,775 : Heading Extraction ABASAGLAR_clean_SmPC.json_M : Validation Failed As Previous Heading Found is not matching | H | CAP |  en | 0 | ABASAGLAR_clean_SmPC.json | currHeadId :- '20013' | currParentHeadId :- '20012.0' | prevParentHeadId :- '20027'\n",
      "2021-05-13 15:33:15,783 : Heading Extraction ABASAGLAR_clean_SmPC.json_M : Match Passed | H | CAP |  en | 0 | ABASAGLAR_clean_SmPC.json | Doc txt :- 'Paediatric population' | Qrd txt :- 'Paediatric population' | Matched :- 'True'\n",
      "2021-05-13 15:33:15,791 : Heading Extraction ABASAGLAR_clean_SmPC.json_M : Validation Failed As Previous Heading Found is not matching | H | CAP |  en | 0 | ABASAGLAR_clean_SmPC.json | currHeadId :- '20019' | currParentHeadId :- '20017.0' | prevParentHeadId :- '20027'\n",
      "2021-05-13 15:33:15,795 : Heading Extraction ABASAGLAR_clean_SmPC.json_M : Match Passed | H | CAP |  en | 0 | ABASAGLAR_clean_SmPC.json | Doc txt :- 'Paediatric population' | Qrd txt :- 'Paediatric population' | Matched :- 'True'\n",
      "2021-05-13 15:33:15,798 : Heading Extraction ABASAGLAR_clean_SmPC.json_M : Validation Failed As Previous Heading Found is not matching | H | CAP |  en | 0 | ABASAGLAR_clean_SmPC.json | currHeadId :- '20021' | currParentHeadId :- '20020.0' | prevParentHeadId :- '20027'\n",
      "2021-05-13 15:33:15,804 : Heading Extraction ABASAGLAR_clean_SmPC.json_M : Match Passed | H | CAP |  en | 0 | ABASAGLAR_clean_SmPC.json | Doc txt :- 'Paediatric population' | Qrd txt :- 'Paediatric population' | Matched :- 'True'\n",
      "2021-05-13 15:33:15,812 : Heading Extraction ABASAGLAR_clean_SmPC.json_M : Validation Passed | H | CAP |  en | 0 | ABASAGLAR_clean_SmPC.json | currHeadId :- '20028' | currParentHeadId :- '20027.0' | prevParentHeadId :- '20027'\n",
      "2021-05-13 15:33:15,834 : Heading Extraction ABASAGLAR_clean_SmPC.json_M : Match Passed | H | CAP |  en | 0 | ABASAGLAR_clean_SmPC.json | Doc txt :- 'Reporting of suspected adverse reactions' | Qrd txt :- 'Reporting of suspected adverse reactions' | Matched :- 'True'\n",
      "2021-05-13 15:33:15,842 : Heading Extraction ABASAGLAR_clean_SmPC.json_M : Validation Passed | H | CAP |  en | 0 | ABASAGLAR_clean_SmPC.json | currHeadId :- '20029' | currParentHeadId :- '20027.0' | prevParentHeadId :- '20027'\n",
      "2021-05-13 15:33:15,877 : Heading Extraction ABASAGLAR_clean_SmPC.json_M : Match Passed | H | CAP |  en | 0 | ABASAGLAR_clean_SmPC.json | Doc txt :- '4.9     Overdose' | Qrd txt :- '4.9 Overdose' | Matched :- 'True'\n",
      "2021-05-13 15:33:15,882 : Heading Extraction ABASAGLAR_clean_SmPC.json_M : Validation Passed | H | CAP |  en | 0 | ABASAGLAR_clean_SmPC.json | currHeadId :- '20030' | currParentHeadId :- '20009.0' | prevParentHeadId :- '20027'\n",
      " life-threatening hypoglycaemia. ' | Qrd txt :- '6.5 Nature and contents of container <and special equipment for use administration or implantation>' | Matched :- 'False' lead to severe and sometimes long-term and\n"
     ]
    },
    {
     "name": "stdout",
     "output_type": "stream",
     "text": [
      "\n",
      "\n",
      "\n"
     ]
    },
    {
     "name": "stderr",
     "output_type": "stream",
     "text": [
      " physical activity may be needed. ' | Qrd txt :- '6.5 Nature and contents of container <and special equipment for use administration or implantation>' | Matched :- 'False'glycaemia can usually be treated with oral\n",
      "2021-05-13 15:33:16,034 : Heading Extraction ABASAGLAR_clean_SmPC.json_M : Match Passed | H | CAP |  en | 0 | ABASAGLAR_clean_SmPC.json | Doc txt :- '5.       PHARMACOLOGICAL PROPERTIES' | Qrd txt :- '5. PHARMACOLOGICAL PROPERTIES' | Matched :- 'True'\n",
      "2021-05-13 15:33:16,038 : Heading Extraction ABASAGLAR_clean_SmPC.json_M : Validation Passed | H | CAP |  en | 0 | ABASAGLAR_clean_SmPC.json | currHeadId :- '20032' | currParentHeadId :- '20001.0' | prevParentHeadId :- '20030'\n",
      " properties' | Qrd txt :- '5.1 Pharmacodynamic properties' | Matched :- 'True'ch Passed | H | CAP |  en | 0 | ABASAGLAR_clean_SmPC.json | Doc txt :- '5.1     Pharmacodynamic\n",
      "2021-05-13 15:33:16,068 : Heading Extraction ABASAGLAR_clean_SmPC.json_M : Validation Passed | H | CAP |  en | 0 | ABASAGLAR_clean_SmPC.json | currHeadId :- '20033' | currParentHeadId :- '20032.0' | prevParentHeadId :- '20032'\n",
      " long-acting. ATC Code: A10AE04.' | Qrd txt :- '6.5 Nature and contents of container <and special equipment for use administration or implantation>' | Matched :- 'False'\n",
      " of the European Medicines Agency http://www.ema.europa.eu.' | Qrd txt :- '6.5 Nature and contents of container <and special equipment for use administration or implantation>' | Matched :- 'False'\n",
      " action' | Qrd txt :- 'Mechanism of action' | Matched :- 'True'PC.json_M : Match Passed | H | CAP |  en | 0 | ABASAGLAR_clean_SmPC.json | Doc txt :- 'Mechanism of\n",
      "2021-05-13 15:33:16,160 : Heading Extraction ABASAGLAR_clean_SmPC.json_M : Validation Passed | H | CAP |  en | 0 | ABASAGLAR_clean_SmPC.json | currHeadId :- '20034' | currParentHeadId :- '20033.0' | prevParentHeadId :- '20033'\n",
      " is metabolised into 2 active metabolites M1 and M2 (see section 5.2).' | Qrd txt :- '6.5 Nature and contents of container <and special equipment for use administration or implantation>' | Matched :- 'False'\n",
      " receptor binding' | Qrd txt :- '6.6 Special precautions for disposal <and other handling>' | Matched :- 'False'ASAGLAR_clean_SmPC.json | Doc txt :- 'Insulin\n"
     ]
    },
    {
     "name": "stdout",
     "output_type": "stream",
     "text": [
      "\n",
      "\n",
      "\n"
     ]
    },
    {
     "name": "stderr",
     "output_type": "stream",
     "text": [
      " human insulin.' | Qrd txt :- '6.5 Nature and contents of container <and special equipment for use administration or implantation>' | Matched :- 'False' vitro studies indicate that the affinity of insulin glargine and its\n",
      " effects' | Qrd txt :- 'Pharmacodynamic effects' | Matched :- 'True'on_M : Match Passed | H | CAP |  en | 0 | ABASAGLAR_clean_SmPC.json | Doc txt :- 'Pharmacodynamic\n",
      "2021-05-13 15:33:16,288 : Heading Extraction ABASAGLAR_clean_SmPC.json_M : Validation Passed | H | CAP |  en | 0 | ABASAGLAR_clean_SmPC.json | currHeadId :- '20035' | currParentHeadId :- '20033.0' | prevParentHeadId :- '20033'\n",
      " mean values)' | Qrd txt :- '6.5 Nature and contents of container <and special equipment for use administration or implantation>' | Matched :- 'False'* Determined as\n",
      " mean values)' | Qrd txt :- '6.6 Special precautions for disposal <and other handling>' | Matched :- 'False'| ABASAGLAR_clean_SmPC.json | Doc txt :- '* Determined as\n",
      "2021-05-13 15:33:16,414 : Heading Extraction ABASAGLAR_clean_SmPC.json_M : Match Failed In Lowercase | H | CAP |  en | 0 | ABASAGLAR_clean_SmPC.json | Doc txt :- 'Clinical safety and efficacy' | Qrd txt :- 'Clinical efficacy and safety' | Matched :- 'False'\n",
      " treatment groups.' | Qrd txt :- '6.5 Nature and contents of container <and special equipment for use administration or implantation>' | Matched :- 'False'inical\n",
      " endpoints included all-cause mortality and a composite microvascular outcome.' | Qrd txt :- '6.5 Nature and contents of container <and special equipment for use administration or implantation>' | Matched :- 'False'\n"
     ]
    },
    {
     "name": "stdout",
     "output_type": "stream",
     "text": [
      "\n",
      "\n",
      "OriginalCheck\n",
      "\n"
     ]
    },
    {
     "name": "stderr",
     "output_type": "stream",
     "text": [
      " endpoints included all-cause mortality and a composite microvascular outcome.' | Qrd txt :- '6.6 Special precautions for disposal <and other handling>' | Matched :- 'False'\n",
      " standard care group.' | Qrd txt :- '6.5 Nature and contents of container <and special equipment for use administration or implantation>' | Matched :- 'False'ast\n",
      " population' | Qrd txt :- 'Paediatric population' | Matched :- 'True'n_M : Match Passed | H | CAP |  en | 0 | ABASAGLAR_clean_SmPC.json | Doc txt :- 'Paediatric\n",
      "2021-05-13 15:33:16,526 : Heading Extraction ABASAGLAR_clean_SmPC.json_M : Validation Failed As Previous Heading Found is not matching | H | CAP |  en | 0 | ABASAGLAR_clean_SmPC.json | currHeadId :- '20013' | currParentHeadId :- '20012.0' | prevParentHeadId :- '20033'\n",
      " population' | Qrd txt :- 'Paediatric population' | Matched :- 'True'n_M : Match Passed | H | CAP |  en | 0 | ABASAGLAR_clean_SmPC.json | Doc txt :- 'Paediatric\n",
      "2021-05-13 15:33:16,540 : Heading Extraction ABASAGLAR_clean_SmPC.json_M : Validation Failed As Previous Heading Found is not matching | H | CAP |  en | 0 | ABASAGLAR_clean_SmPC.json | currHeadId :- '20019' | currParentHeadId :- '20017.0' | prevParentHeadId :- '20033'\n",
      " population' | Qrd txt :- 'Paediatric population' | Matched :- 'True'n_M : Match Passed | H | CAP |  en | 0 | ABASAGLAR_clean_SmPC.json | Doc txt :- 'Paediatric\n",
      "2021-05-13 15:33:16,550 : Heading Extraction ABASAGLAR_clean_SmPC.json_M : Validation Failed As Previous Heading Found is not matching | H | CAP |  en | 0 | ABASAGLAR_clean_SmPC.json | currHeadId :- '20021' | currParentHeadId :- '20020.0' | prevParentHeadId :- '20033'\n",
      " population' | Qrd txt :- 'Paediatric population' | Matched :- 'True'n_M : Match Passed | H | CAP |  en | 0 | ABASAGLAR_clean_SmPC.json | Doc txt :- 'Paediatric\n",
      "2021-05-13 15:33:16,564 : Heading Extraction ABASAGLAR_clean_SmPC.json_M : Validation Failed As Previous Heading Found is not matching | H | CAP |  en | 0 | ABASAGLAR_clean_SmPC.json | currHeadId :- '20028' | currParentHeadId :- '20027.0' | prevParentHeadId :- '20033'\n",
      " population' | Qrd txt :- 'Paediatric population' | Matched :- 'True'n_M : Match Passed | H | CAP |  en | 0 | ABASAGLAR_clean_SmPC.json | Doc txt :- 'Paediatric\n",
      "2021-05-13 15:33:16,574 : Heading Extraction ABASAGLAR_clean_SmPC.json_M : Validation Failed As Previous Heading Found is not matching | H | CAP |  en | 0 | ABASAGLAR_clean_SmPC.json | currHeadId :- '20031' | currParentHeadId :- '20030.0' | prevParentHeadId :- '20033'\n",
      " population' | Qrd txt :- 'Paediatric population' | Matched :- 'True'n_M : Match Passed | H | CAP |  en | 0 | ABASAGLAR_clean_SmPC.json | Doc txt :- 'Paediatric\n",
      "2021-05-13 15:33:16,592 : Heading Extraction ABASAGLAR_clean_SmPC.json_M : Validation Passed | H | CAP |  en | 0 | ABASAGLAR_clean_SmPC.json | currHeadId :- '20037' | currParentHeadId :- '20033.0' | prevParentHeadId :- '20033'\n",
      "2021-05-13 15:33:16,625 : Heading Extraction ABASAGLAR_clean_SmPC.json_M : Match Passed | H | CAP |  en | 0 | ABASAGLAR_clean_SmPC.json | Doc txt :- '5.2     Pharmacokinetic properties' | Qrd txt :- '5.2 Pharmacokinetic properties' | Matched :- 'True'\n",
      "2021-05-13 15:33:16,632 : Heading Extraction ABASAGLAR_clean_SmPC.json_M : Validation Passed | H | CAP |  en | 0 | ABASAGLAR_clean_SmPC.json | currHeadId :- '20038' | currParentHeadId :- '20032.0' | prevParentHeadId :- '20033'\n",
      "2021-05-13 15:33:16,669 : Heading Extraction ABASAGLAR_clean_SmPC.json_M : Match Passed | H | CAP |  en | 0 | ABASAGLAR_clean_SmPC.json | Doc txt :- 'Absorption' | Qrd txt :- 'Absorption' | Matched :- 'True'\n",
      "2021-05-13 15:33:16,676 : Heading Extraction ABASAGLAR_clean_SmPC.json_M : Validation Passed | H | CAP |  en | 0 | ABASAGLAR_clean_SmPC.json | currHeadId :- '20039' | currParentHeadId :- '20038.0' | prevParentHeadId :- '20038'\n",
      " in 2-4 days after the first dose. ' | Qrd txt :- '6.5 Nature and contents of container <and special equipment for use administration or implantation>' | Matched :- 'False'ted once daily will reach steady state levels\n",
      "2021-05-13 15:33:16,733 : Heading Extraction ABASAGLAR_clean_SmPC.json_M : Match Passed | H | CAP |  en | 0 | ABASAGLAR_clean_SmPC.json | Doc txt :- 'Biotransformation' | Qrd txt :- 'Biotransformation' | Matched :- 'True'\n",
      "2021-05-13 15:33:16,742 : Heading Extraction ABASAGLAR_clean_SmPC.json_M : Validation Passed | H | CAP |  en | 0 | ABASAGLAR_clean_SmPC.json | currHeadId :- '20041' | currParentHeadId :- '20038.0' | prevParentHeadId :- '20038'\n"
     ]
    },
    {
     "name": "stdout",
     "output_type": "stream",
     "text": [
      "\n",
      "\n",
      "\n",
      "\n"
     ]
    },
    {
     "name": "stderr",
     "output_type": "stream",
     "text": [
      "2021-05-13 15:33:16,775 : Heading Extraction ABASAGLAR_clean_SmPC.json_M : Match Passed | H | CAP |  en | 0 | ABASAGLAR_clean_SmPC.json | Doc txt :- 'Elimination' | Qrd txt :- 'Elimination' | Matched :- 'True'\n",
      "2021-05-13 15:33:16,782 : Heading Extraction ABASAGLAR_clean_SmPC.json_M : Validation Passed | H | CAP |  en | 0 | ABASAGLAR_clean_SmPC.json | currHeadId :- '20042' | currParentHeadId :- '20038.0' | prevParentHeadId :- '20038'\n",
      " glargine and human insulin were comparable. ' | Qrd txt :- '6.5 Nature and contents of container <and special equipment for use administration or implantation>' | Matched :- 'False'mination half-life of insulin\n",
      " populations' | Qrd txt :- '6.6 Special precautions for disposal <and other handling>' | Matched :- 'False' | ABASAGLAR_clean_SmPC.json | Doc txt :- 'Special\n",
      " to the entire study population.' | Qrd txt :- '6.5 Nature and contents of container <and special equipment for use administration or implantation>' | Matched :- 'False'\n",
      "2021-05-13 15:33:16,896 : Heading Extraction ABASAGLAR_clean_SmPC.json_M : Match Passed | H | CAP |  en | 0 | ABASAGLAR_clean_SmPC.json | Doc txt :- 'Paediatric population' | Qrd txt :- 'Paediatric population' | Matched :- 'True'\n",
      "2021-05-13 15:33:16,904 : Heading Extraction ABASAGLAR_clean_SmPC.json_M : Validation Failed As Previous Heading Found is not matching | H | CAP |  en | 0 | ABASAGLAR_clean_SmPC.json | currHeadId :- '20013' | currParentHeadId :- '20012.0' | prevParentHeadId :- '20038'\n",
      "2021-05-13 15:33:16,911 : Heading Extraction ABASAGLAR_clean_SmPC.json_M : Match Passed | H | CAP |  en | 0 | ABASAGLAR_clean_SmPC.json | Doc txt :- 'Paediatric population' | Qrd txt :- 'Paediatric population' | Matched :- 'True'\n",
      "2021-05-13 15:33:16,919 : Heading Extraction ABASAGLAR_clean_SmPC.json_M : Validation Failed As Previous Heading Found is not matching | H | CAP |  en | 0 | ABASAGLAR_clean_SmPC.json | currHeadId :- '20019' | currParentHeadId :- '20017.0' | prevParentHeadId :- '20038'\n",
      "2021-05-13 15:33:16,923 : Heading Extraction ABASAGLAR_clean_SmPC.json_M : Match Passed | H | CAP |  en | 0 | ABASAGLAR_clean_SmPC.json | Doc txt :- 'Paediatric population' | Qrd txt :- 'Paediatric population' | Matched :- 'True'\n",
      "2021-05-13 15:33:16,931 : Heading Extraction ABASAGLAR_clean_SmPC.json_M : Validation Failed As Previous Heading Found is not matching | H | CAP |  en | 0 | ABASAGLAR_clean_SmPC.json | currHeadId :- '20021' | currParentHeadId :- '20020.0' | prevParentHeadId :- '20038'\n",
      "2021-05-13 15:33:16,939 : Heading Extraction ABASAGLAR_clean_SmPC.json_M : Match Passed | H | CAP |  en | 0 | ABASAGLAR_clean_SmPC.json | Doc txt :- 'Paediatric population' | Qrd txt :- 'Paediatric population' | Matched :- 'True'\n",
      "2021-05-13 15:33:16,945 : Heading Extraction ABASAGLAR_clean_SmPC.json_M : Validation Failed As Previous Heading Found is not matching | H | CAP |  en | 0 | ABASAGLAR_clean_SmPC.json | currHeadId :- '20028' | currParentHeadId :- '20027.0' | prevParentHeadId :- '20038'\n",
      "2021-05-13 15:33:16,949 : Heading Extraction ABASAGLAR_clean_SmPC.json_M : Match Passed | H | CAP |  en | 0 | ABASAGLAR_clean_SmPC.json | Doc txt :- 'Paediatric population' | Qrd txt :- 'Paediatric population' | Matched :- 'True'\n"
     ]
    },
    {
     "name": "stdout",
     "output_type": "stream",
     "text": [
      "\n"
     ]
    },
    {
     "name": "stderr",
     "output_type": "stream",
     "text": [
      "2021-05-13 15:33:16,957 : Heading Extraction ABASAGLAR_clean_SmPC.json_M : Validation Failed As Previous Heading Found is not matching | H | CAP |  en | 0 | ABASAGLAR_clean_SmPC.json | currHeadId :- '20031' | currParentHeadId :- '20030.0' | prevParentHeadId :- '20038'\n",
      "2021-05-13 15:33:16,965 : Heading Extraction ABASAGLAR_clean_SmPC.json_M : Match Passed | H | CAP |  en | 0 | ABASAGLAR_clean_SmPC.json | Doc txt :- 'Paediatric population' | Qrd txt :- 'Paediatric population' | Matched :- 'True'\n",
      "2021-05-13 15:33:16,972 : Heading Extraction ABASAGLAR_clean_SmPC.json_M : Validation Failed As Previous Heading Found is not matching | H | CAP |  en | 0 | ABASAGLAR_clean_SmPC.json | currHeadId :- '20037' | currParentHeadId :- '20033.0' | prevParentHeadId :- '20038'\n",
      "2021-05-13 15:33:16,990 : Heading Extraction ABASAGLAR_clean_SmPC.json_M : Match Failed | H | CAP |  en | 0 | ABASAGLAR_clean_SmPC.json | Doc txt :- 'Paediatric population' | Qrd txt :- '6.6 Special precautions for disposal <and other handling>' | Matched :- 'False'\n",
      "2021-05-13 15:33:17,031 : Heading Extraction ABASAGLAR_clean_SmPC.json_M : Match Passed | H | CAP |  en | 0 | ABASAGLAR_clean_SmPC.json | Doc txt :- '5.3     Preclinical safety data' | Qrd txt :- '5.3 Preclinical safety data' | Matched :- 'True'\n",
      "2021-05-13 15:33:17,036 : Heading Extraction ABASAGLAR_clean_SmPC.json_M : Validation Passed | H | CAP |  en | 0 | ABASAGLAR_clean_SmPC.json | currHeadId :- '20045' | currParentHeadId :- '20032.0' | prevParentHeadId :- '20038'\n",
      " genotoxicity, carcinogenic potential, toxicity to reproduction.' | Qrd txt :- '6.5 Nature and contents of container <and special equipment for use administration or implantation>' | Matched :- 'False'ns based on\n",
      "2021-05-13 15:33:17,093 : Heading Extraction ABASAGLAR_clean_SmPC.json_M : Match Passed | H | CAP |  en | 0 | ABASAGLAR_clean_SmPC.json | Doc txt :- '6.       PHARMACEUTICAL PARTICULARS' | Qrd txt :- '6. PHARMACEUTICAL PARTICULARS' | Matched :- 'True'\n",
      "2021-05-13 15:33:17,099 : Heading Extraction ABASAGLAR_clean_SmPC.json_M : Validation Passed | H | CAP |  en | 0 | ABASAGLAR_clean_SmPC.json | currHeadId :- '20047' | currParentHeadId :- '20001.0' | prevParentHeadId :- '20045'\n",
      "2021-05-13 15:33:17,149 : Heading Extraction ABASAGLAR_clean_SmPC.json_M : Match Passed | H | CAP |  en | 0 | ABASAGLAR_clean_SmPC.json | Doc txt :- '6.1     List of excipients' | Qrd txt :- '6.1 List of excipients' | Matched :- 'True'\n",
      "2021-05-13 15:33:17,155 : Heading Extraction ABASAGLAR_clean_SmPC.json_M : Validation Passed | H | CAP |  en | 0 | ABASAGLAR_clean_SmPC.json | currHeadId :- '20048' | currParentHeadId :- '20047.0' | prevParentHeadId :- '20047'\n"
     ]
    },
    {
     "name": "stdout",
     "output_type": "stream",
     "text": [
      "\n",
      "\n",
      "\n"
     ]
    },
    {
     "name": "stderr",
     "output_type": "stream",
     "text": [
      "2021-05-13 15:33:17,457 : Heading Extraction ABASAGLAR_clean_SmPC.json_M : Match Passed | H | CAP |  en | 0 | ABASAGLAR_clean_SmPC.json | Doc txt :- '6.2     Incompatibilities' | Qrd txt :- '6.2 Incompatibilities' | Matched :- 'True'\n",
      "2021-05-13 15:33:17,462 : Heading Extraction ABASAGLAR_clean_SmPC.json_M : Validation Passed | H | CAP |  en | 0 | ABASAGLAR_clean_SmPC.json | currHeadId :- '20049' | currParentHeadId :- '20047.0' | prevParentHeadId :- '20048'\n",
      " products. ' | Qrd txt :- '6.5 Nature and contents of container <and special equipment for use administration or implantation>' | Matched :- 'False' 'This medicinal product must not be mixed with other medicinal\n",
      " products. ' | Qrd txt :- '6.6 Special precautions for disposal <and other handling>' | Matched :- 'False'0 | ABASAGLAR_clean_SmPC.json | Doc txt :- 'This medicinal product must not be mixed with other medicinal\n",
      "2021-05-13 15:33:17,527 : Heading Extraction ABASAGLAR_clean_SmPC.json_M : Match Passed | H | CAP |  en | 0 | ABASAGLAR_clean_SmPC.json | Doc txt :- '6.3     Shelf life' | Qrd txt :- '6.3 Shelf life' | Matched :- 'True'\n",
      "2021-05-13 15:33:17,533 : Heading Extraction ABASAGLAR_clean_SmPC.json_M : Validation Passed | H | CAP |  en | 0 | ABASAGLAR_clean_SmPC.json | currHeadId :- '20050' | currParentHeadId :- '20047.0' | prevParentHeadId :- '20049'\n",
      " stored in the refrigerator. ' | Qrd txt :- '6.5 Nature and contents of container <and special equipment for use administration or implantation>' | Matched :- 'False'oduct may be stored for a maximum of 28 days up\n"
     ]
    },
    {
     "name": "stdout",
     "output_type": "stream",
     "text": [
      "\n",
      "\n"
     ]
    },
    {
     "name": "stderr",
     "output_type": "stream",
     "text": [
      " order to protect from light.' | Qrd txt :- '6.5 Nature and contents of container <and special equipment for use administration or implantation>' | Matched :- 'False' be put back on the pen after each injection in\n",
      "2021-05-13 15:33:17,704 : Heading Extraction ABASAGLAR_clean_SmPC.json_M : Match Passed | H | CAP |  en | 0 | ABASAGLAR_clean_SmPC.json | Doc txt :- '6.4     Special precautions for storage' | Qrd txt :- '6.4 Special precautions for storage' | Matched :- 'True'\n",
      "2021-05-13 15:33:17,710 : Heading Extraction ABASAGLAR_clean_SmPC.json_M : Validation Passed | H | CAP |  en | 0 | ABASAGLAR_clean_SmPC.json | currHeadId :- '20051' | currParentHeadId :- '20047.0' | prevParentHeadId :- '20050'\n",
      " light.' | Qrd txt :- '6.5 Nature and contents of container <and special equipment for use administration or implantation>' | Matched :- 'False't :- 'Keep the pre-filled pen in the outer carton in order to protect from\n"
     ]
    },
    {
     "name": "stdout",
     "output_type": "stream",
     "text": [
      "\n"
     ]
    },
    {
     "name": "stderr",
     "output_type": "stream",
     "text": [
      " product, see section 6.3.' | Qrd txt :- '6.5 Nature and contents of container <and special equipment for use administration or implantation>' | Matched :- 'False'onditions after first opening of this medicinal\n",
      "2021-05-13 15:33:17,982 : Heading Extraction ABASAGLAR_clean_SmPC.json_M : Match Passed | H | CAP |  en | 0 | ABASAGLAR_clean_SmPC.json | Doc txt :- '6.5     Nature and contents of container' | Qrd txt :- '6.5 Nature and contents of container <and special equipment for use administration or implantation>' | Matched :- 'True'\n",
      "2021-05-13 15:33:17,987 : Heading Extraction ABASAGLAR_clean_SmPC.json_M : Validation Passed | H | CAP |  en | 0 | ABASAGLAR_clean_SmPC.json | currHeadId :- '20052' | currParentHeadId :- '20047.0' | prevParentHeadId :- '20051'\n",
      " halobutyl rubber) with aluminium seal. ' | Qrd txt :- '6.5 Nature and contents of container <and special equipment for use administration or implantation>' | Matched :- 'False'e (type 1 colourless glass) with a\n",
      "2021-05-13 15:33:18,079 : Heading Extraction ABASAGLAR_clean_SmPC.json_M : Match Failed | H | CAP |  en | 0 | ABASAGLAR_clean_SmPC.json | Doc txt :- 'The cartridge is sealed in a disposable pen injector. ' | Qrd txt :- '6.5 Nature and contents of container <and special equipment for use administration or implantation>' | Matched :- 'False'\n",
      "2021-05-13 15:33:18,081 : Heading Extraction ABASAGLAR_clean_SmPC.json_M : Match Failed | H | CAP |  en | 0 | ABASAGLAR_clean_SmPC.json | Doc txt :- 'The cartridge is sealed in a disposable pen injector. ' | Qrd txt :- '6.6 Special precautions for disposal <and other handling>' | Matched :- 'False'\n"
     ]
    },
    {
     "name": "stdout",
     "output_type": "stream",
     "text": [
      "\n"
     ]
    },
    {
     "name": "stderr",
     "output_type": "stream",
     "text": [
      "2021-05-13 15:33:18,292 : Heading Extraction ABASAGLAR_clean_SmPC.json_M : Match Failed | H | CAP |  en | 0 | ABASAGLAR_clean_SmPC.json | Doc txt :- '6.6     Special precautions for disposal and other handling' | Qrd txt :- '6.5 Nature and contents of container <and special equipment for use administration or implantation>' | Matched :- 'False'\n",
      "2021-05-13 15:33:18,295 : Heading Extraction ABASAGLAR_clean_SmPC.json_M : Match Passed | H | CAP |  en | 0 | ABASAGLAR_clean_SmPC.json | Doc txt :- '6.6     Special precautions for disposal and other handling' | Qrd txt :- '6.6 Special precautions for disposal <and other handling>' | Matched :- 'True'\n",
      "2021-05-13 15:33:18,301 : Heading Extraction ABASAGLAR_clean_SmPC.json_M : Validation Passed | H | CAP |  en | 0 | ABASAGLAR_clean_SmPC.json | currHeadId :- '20053' | currParentHeadId :- '20047.0' | prevParentHeadId :- '20052'\n",
      " mixing can cause precipitation.' | Qrd txt :- '6.5 Nature and contents of container <and special equipment for use administration or implantation>' | Matched :- 'False'be mixed with any other insulin or medicinal\n",
      " precipitation.' | Qrd txt :- '6.5 Nature and contents of container <and special equipment for use administration or implantation>' | Matched :- 'False'ASAGLAR must not be mixed with any other insulin or diluted.\n",
      "2021-05-13 15:33:18,399 : Heading Extraction ABASAGLAR_clean_SmPC.json_M : Match Failed | H | CAP |  en | 0 | ABASAGLAR_clean_SmPC.json | Doc txt :- 'Empty pens must never be reused and must be properly discarded. ' | Qrd txt :- '6.5 Nature and contents of container <and special equipment for use administration or implantation>' | Matched :- 'False'\n",
      " used by one patient only. ' | Qrd txt :- '6.5 Nature and contents of container <and special equipment for use administration or implantation>' | Matched :- 'False' possible transmission of disease, each pen must be\n",
      " used by one patient only. ' | Qrd txt :- '6.6 Special precautions for disposal <and other handling>' | Matched :- 'False'ean_SmPC.json | Doc txt :- 'To prevent the possible transmission of disease, each pen must be\n",
      " 4.4).' | Qrd txt :- '6.5 Nature and contents of container <and special equipment for use administration or implantation>' | Matched :- 'False'xt :- 'Insulin label must always be checked before each injection to avoid\n",
      " injection in pre‑filled pen.' | Qrd txt :- '6.5 Nature and contents of container <and special equipment for use administration or implantation>' | Matched :- 'False'ld be advised to read the instructions for use\n"
     ]
    },
    {
     "name": "stdout",
     "output_type": "stream",
     "text": [
      "\n"
     ]
    },
    {
     "name": "stderr",
     "output_type": "stream",
     "text": [
      " AUTHORISATION HOLDER' | Qrd txt :- '7. MARKETING AUTHORISATION HOLDER' | Matched :- 'True' | CAP |  en | 0 | ABASAGLAR_clean_SmPC.json | Doc txt :- '7.       MARKETING\n",
      "2021-05-13 15:33:18,571 : Heading Extraction ABASAGLAR_clean_SmPC.json_M : Validation Passed | H | CAP |  en | 0 | ABASAGLAR_clean_SmPC.json | currHeadId :- '20055' | currParentHeadId :- '20001.0' | prevParentHeadId :- '20053'\n",
      "2021-05-13 15:33:18,636 : Heading Extraction ABASAGLAR_clean_SmPC.json_M : Match Failed | H | CAP |  en | 0 | ABASAGLAR_clean_SmPC.json | Doc txt :- '8.       MARKETING AUTHORISATION NUMBER(S)' | Qrd txt :- '7. MARKETING AUTHORISATION HOLDER' | Matched :- 'False'\n",
      "2021-05-13 15:33:18,637 : Heading Extraction ABASAGLAR_clean_SmPC.json_M : Match Passed | H | CAP |  en | 0 | ABASAGLAR_clean_SmPC.json | Doc txt :- '8.       MARKETING AUTHORISATION NUMBER(S)' | Qrd txt :- '8. MARKETING AUTHORISATION NUMBER(S)' | Matched :- 'True'\n",
      "2021-05-13 15:33:18,642 : Heading Extraction ABASAGLAR_clean_SmPC.json_M : Validation Passed | H | CAP |  en | 0 | ABASAGLAR_clean_SmPC.json | currHeadId :- '20056' | currParentHeadId :- '20001.0' | prevParentHeadId :- '20055'\n"
     ]
    },
    {
     "name": "stdout",
     "output_type": "stream",
     "text": [
      "\n",
      "\n"
     ]
    },
    {
     "name": "stderr",
     "output_type": "stream",
     "text": [
      "2021-05-13 15:33:18,914 : Heading Extraction ABASAGLAR_clean_SmPC.json_M : Match Passed | H | CAP |  en | 0 | ABASAGLAR_clean_SmPC.json | Doc txt :- '9.       DATE OF FIRST AUTHORISATION/RENEWAL OF THE AUTHORISATION' | Qrd txt :- '9. DATE OF FIRST AUTHORISATION/RENEWAL OF THE AUTHORISATION' | Matched :- 'True'\n",
      "2021-05-13 15:33:18,921 : Heading Extraction ABASAGLAR_clean_SmPC.json_M : Validation Passed | H | CAP |  en | 0 | ABASAGLAR_clean_SmPC.json | currHeadId :- '20057' | currParentHeadId :- '20001.0' | prevParentHeadId :- '20056'\n",
      "2021-05-13 15:33:19,048 : Heading Extraction ABASAGLAR_clean_SmPC.json_M : Match Passed | H | CAP |  en | 0 | ABASAGLAR_clean_SmPC.json | Doc txt :- '10.     DATE OF REVISION OF THE TEXT' | Qrd txt :- '10. DATE OF REVISION OF THE TEXT' | Matched :- 'True'\n",
      "2021-05-13 15:33:19,057 : Heading Extraction ABASAGLAR_clean_SmPC.json_M : Validation Passed | H | CAP |  en | 0 | ABASAGLAR_clean_SmPC.json | currHeadId :- '20058' | currParentHeadId :- '20001.0' | prevParentHeadId :- '20057'\n",
      " website of the European Medicines Agency http://www.ema.europa.eu' | Qrd txt :- '6.5 Nature and contents of container <and special equipment for use administration or implantation>' | Matched :- 'False'ilable on the\n",
      "2021-05-13 15:33:19,098 : Flow Logger HTML_Z : Completed Heading Extraction For File | H | CAP |  en | HTML | ABASAGLAR_clean.htm\n"
     ]
    },
    {
     "name": "stdout",
     "output_type": "stream",
     "text": [
      "\n",
      "\n",
      "\n",
      "\n",
      "Heading Not Found \n",
      " ['qThis medicinal product is subject to additional monitoring. This will allow quick identification of new safety information. Healthcare professionals are asked to report any suspected adverse reactions. See section 4.8 for how to report adverse reactions.', 'General description', 'Qualitative and quantitative composition', 'Excipient(s) with known effect', 'Precautions to be taken before handling or administering the medicinal product', 'Clinical efficacy and safety', 'Distribution', 'Linearity/non-linearity', 'Pharmacokinetic/pharmacodynamic relationship(s)', 'Environmental risk assessment (ERA)', 'Use in the paediatric population', 'DOSIMETRY', 'INSTRUCTIONS FOR PREPARATION OF RADIOPHARMACEUTICALS']\n",
      "\n",
      "\n",
      "dict_keys([])\n",
      "Completed Heading Extraction For File\n"
     ]
    },
    {
     "name": "stderr",
     "output_type": "stream",
     "text": [
      "2021-05-13 15:33:19,103 : Flow Logger HTML_Z : Starting Document Annotation For File | H | CAP |  en | HTML | ABASAGLAR_clean.htm\n"
     ]
    },
    {
     "name": "stdout",
     "output_type": "stream",
     "text": [
      "Starting Document Annotation For File :- ABASAGLAR_clean_SmPC.json\n",
      "Warning: Multiple Authorization Token Found In The Document ABASAGLAR_clean_SmPC.json :- \n",
      " ['EU/1/14/944/003', 'EU/1/14/944/009', 'EU/1/14/944/007', 'EU/1/14/944/008', 'EU/1/14/944/012', 'EU/1/14/944/013', 'EU/1/14/944/014', 'EU/1/14/944/015']\n",
      "EU/1/14/944/003\n"
     ]
    },
    {
     "name": "stderr",
     "output_type": "stream",
     "text": [
      "2021-05-13 15:33:20,122 : Flow Logger HTML_Z : Completed Document Annotation | H | CAP |  en | HTML | ABASAGLAR_clean.htm\n",
      "2021-05-13 15:33:20,124 : Flow Logger HTML_Z : Starting Extracting Content Between Heading | H | CAP |  en | HTML | ABASAGLAR_clean.htm\n",
      "2021-05-13 15:33:20,136 : ExtractContentBetween_0_5 : Cleaning Match Results | H | CAP |  en | 0 | ABASAGLAR_clean_SmPC.json\n",
      "2021-05-13 15:33:20,149 : ExtractContentBetween_0_5 : Finished Cleaning Match Results | H | CAP |  en | 0 | ABASAGLAR_clean_SmPC.json\n",
      "2021-05-13 15:33:20,214 : Flow Logger HTML_Z : Completed Extracting Content Between Heading | H | CAP |  en | HTML | ABASAGLAR_clean.htm\n",
      "2021-05-13 15:33:20,261 : XmlGeneration_0_M : PMS/OMS Annotation Information Not Retrieved | H | CAP |  en | 0 | ABASAGLAR_clean_SmPC.json\n",
      "2021-05-13 15:33:20,262 : XmlGeneration_0_M : Initiating XML Generation | H | CAP |  en | 0 | ABASAGLAR_clean_SmPC.json\n"
     ]
    },
    {
     "name": "stdout",
     "output_type": "stream",
     "text": [
      "Error Found\n",
      "Completed Document Annotation\n",
      "Starting Extracting Content Between Heading For File :- ABASAGLAR_clean_SmPC.json\n",
      "File being processed: C:\\Users\\psaga\\source\\repos\\EMA\\EMA%20EPI%20PoC\\function_code\\work\\H\\CAP\\ABASAGLAR\\en\\2021-05-13T10-00-18Z\\partitionedJSONs\\ABASAGLAR_clean_SmPC.json\n",
      "--------------------------------------------\n",
      "Completed Extracting Content Between Heading\n"
     ]
    },
    {
     "name": "stderr",
     "output_type": "stream",
     "text": [
      "2021-05-13 15:33:20,484 : XmlGeneration_0_M : Writing to File:ABASAGLAR_clean_SmPC.xml | H | CAP |  en | 0 | ABASAGLAR_clean_SmPC.json\n",
      "2021-05-13 15:33:25,224 : XML Submission Logger_0_f : Initiating Submission To FHIR Server | H | CAP |  en | 0 | ABASAGLAR_clean_SmPC.json\n",
      "2021-05-13 15:33:25,227 : XML Submission Logger_0_f : Response{\"resourceType\":\"Bundle\",\"id\":\"b4b4a88f-2b69-4e12-ba1b-c1ccf6b84a96\",\"meta\":{\"versionId\":\"1\",\"lastUpdated\":\"2021-05-13T10:03:24.107+00:00\"},\"type\":\"collection\",\"entry\":[{\"fullUrl\":\"urn:uuid:68e52a74-7cd9-4145-b9cd-7ea9107b7142\",\"resource\":{\"resourceType\":\"Bundle\",\"id\":\"f16ed652-3ebc-4125-9a60-f9ea34fda4cf\",\"identifier\":{\"system\":\"http://ema.europa.eu/fhir/identifier/documentid\",\"value\":\"${instance.bundle[n].Identifier}\"},\"type\":\"document\",\"timestamp\":\"2021-05-13T10:03:20+00:00\",\"entry\":[{\"fullUr | H | CAP |  en | 0 | ABASAGLAR_clean_SmPC.json\n",
      "2021-05-13 15:33:25,235 : XML Submission Logger_0_f : POST sucessful: XML added with id: b4b4a88f-2b69-4e12-ba1b-c1ccf6b84a96 | H | CAP |  en | 0 | ABASAGLAR_clean_SmPC.json\n",
      "2021-05-13 15:33:25,238 : Flow Logger HTML_Z : \n",
      "\n",
      "\n",
      "\n",
      "||||||||||||||||||||||||||||||||1 ||||| ABASAGLAR_clean_ANNEX II.json||||||||||||||||||||||||||||||||\n",
      "\n",
      "\n",
      "\n",
      " | H | CAP |  en | HTML | ABASAGLAR_clean.htm\n",
      "2021-05-13 15:33:25,246 : Heading Extraction ABASAGLAR_clean_ANNEX II.json_i : Starting Heading Extraction | H | CAP |  en | 1 | ABASAGLAR_clean_ANNEX II.json\n",
      "2021-05-13 15:33:25,311 : Heading Extraction ABASAGLAR_clean_ANNEX II.json_i : Started Extracting Heading | H | CAP |  en | 1 | ABASAGLAR_clean_ANNEX II.json\n",
      "2021-05-13 15:33:25,317 : Heading Extraction ABASAGLAR_clean_ANNEX II.json_i : Match Passed | H | CAP |  en | 1 | ABASAGLAR_clean_ANNEX II.json | Doc txt :- 'ANNEX II' | Qrd txt :- 'ANNEX II' | Matched :- 'True'\n",
      "2021-05-13 15:33:25,321 : Heading Extraction ABASAGLAR_clean_ANNEX II.json_i : Validation Passed As This The First Heading | H | CAP |  en | 1 | ABASAGLAR_clean_ANNEX II.json | currHeadId :- '21001' | currParentHeadId :- 'nan' | prevParentHeadId :- ''\n",
      " RELEASE ' | Qrd txt :- 'A. <MANUFACTURER(S) OF THE BIOLOGICAL ACTIVE SUBSTANCE(S) AND> MANUFACTURER(S) RESPONSIBLE FOR BATCH RELEASE' | Matched :- 'True':- 'A.    MANUFACTURER(S) OF THE\n",
      "2021-05-13 15:33:25,329 : Heading Extraction ABASAGLAR_clean_ANNEX II.json_i : Validation Passed | H | CAP |  en | 1 | ABASAGLAR_clean_ANNEX II.json | currHeadId :- '21002' | currParentHeadId :- '21001.0' | prevParentHeadId :- '21001'\n",
      " USE' | Qrd txt :- 'B. CONDITIONS OR RESTRICTIONS REGARDING SUPPLY AND USE' | Matched :- 'True' | CAP |  en | 1 | ABASAGLAR_clean_ANNEX II.json | Doc txt :- 'B.    CONDITIONS OR RESTRICTIONS REGARDING SUPPLY AND\n",
      "2021-05-13 15:33:25,345 : Heading Extraction ABASAGLAR_clean_ANNEX II.json_i : Validation Flow Is Broken | H | CAP |  en | 1 | ABASAGLAR_clean_ANNEX II.json | currHeadId :- '21005' | currParentHeadId :- '21001.0' | prevParentHeadId :- '21002'\n",
      "2021-05-13 15:33:25,348 : Heading Extraction ABASAGLAR_clean_ANNEX II.json_i : Validation Passed | H | CAP |  en | 1 | ABASAGLAR_clean_ANNEX II.json | currHeadId :- '21005' | currParentHeadId :- '21001.0' | prevParentHeadId :- '21002'\n",
      " REQUIREMENTS OF THE MARKETING AUTHORISATION' | Qrd txt :- 'C. OTHER CONDITIONS AND REQUIREMENTS OF THE MARKETING AUTHORISATION' | Matched :- 'True'c txt :- 'C.    OTHER CONDITIONS AND\n",
      "2021-05-13 15:33:25,368 : Heading Extraction ABASAGLAR_clean_ANNEX II.json_i : Validation Flow Is Broken | H | CAP |  en | 1 | ABASAGLAR_clean_ANNEX II.json | currHeadId :- '21007' | currParentHeadId :- '21001.0' | prevParentHeadId :- '21005'\n",
      "2021-05-13 15:33:25,374 : Heading Extraction ABASAGLAR_clean_ANNEX II.json_i : Validation Passed | H | CAP |  en | 1 | ABASAGLAR_clean_ANNEX II.json | currHeadId :- '21007' | currParentHeadId :- '21001.0' | prevParentHeadId :- '21005'\n",
      " WITH REGARD TO THE SAFE AND EFFECTIVE USE OF THE MEDICINAL PRODUCT' | Qrd txt :- 'A. <MANUFACTURER(S) OF THE BIOLOGICAL ACTIVE SUBSTANCE(S) AND> MANUFACTURER(S) RESPONSIBLE FOR BATCH RELEASE' | Matched :- 'False'\n",
      " WITH REGARD TO THE SAFE AND EFFECTIVE USE OF THE MEDICINAL PRODUCT' | Qrd txt :- 'D. CONDITIONS OR RESTRICTIONS WITH REGARD TO THE SAFE AND EFFECTIVE USE OF THE MEDICINAL PRODUCT' | Matched :- 'True'\n",
      "2021-05-13 15:33:25,393 : Heading Extraction ABASAGLAR_clean_ANNEX II.json_i : Validation Flow Is Broken | H | CAP |  en | 1 | ABASAGLAR_clean_ANNEX II.json | currHeadId :- '21009' | currParentHeadId :- '21001.0' | prevParentHeadId :- '21007'\n",
      "2021-05-13 15:33:25,395 : Heading Extraction ABASAGLAR_clean_ANNEX II.json_i : Validation Passed | H | CAP |  en | 1 | ABASAGLAR_clean_ANNEX II.json | currHeadId :- '21009' | currParentHeadId :- '21001.0' | prevParentHeadId :- '21007'\n",
      " FOR BATCH RELEASE' | Qrd txt :- 'A. <MANUFACTURER(S) OF THE BIOLOGICAL ACTIVE SUBSTANCE(S) AND> MANUFACTURER(S) RESPONSIBLE FOR BATCH RELEASE' | Matched :- 'True' MANUFACTURER(S)\n",
      "2021-05-13 15:33:25,406 : Heading Extraction ABASAGLAR_clean_ANNEX II.json_i : Validation Failed As Previous Heading Found is not matching | H | CAP |  en | 1 | ABASAGLAR_clean_ANNEX II.json | currHeadId :- '21002' | currParentHeadId :- '21001.0' | prevParentHeadId :- '21009'\n",
      " for batch release' | Qrd txt :- 'name and address of the manufacturer(s) of the biological active substance(s)' | Matched :- 'False'EX II.json | Doc txt :- 'a.    manufacturer(s)\n"
     ]
    },
    {
     "name": "stdout",
     "output_type": "stream",
     "text": [
      "POST sucessful: XML added with id b4b4a88f-2b69-4e12-ba1b-c1ccf6b84a96\n",
      "Created XML File For :- ABASAGLAR_clean_SmPC.json\n",
      "Starting Heading Extraction For File :- ABASAGLAR_clean_ANNEX II.json\n",
      "File being processed: C:\\Users\\psaga\\source\\repos\\EMA\\EMA%20EPI%20PoC\\function_code\\work\\H\\CAP\\ABASAGLAR\\en\\2021-05-13T10-00-18Z\\partitionedJSONs\\ABASAGLAR_clean_ANNEX II.json\n",
      "--------------------------------------------\n",
      "AnnexII\n",
      "\n",
      "OriginalCheck\n",
      "\n"
     ]
    },
    {
     "name": "stderr",
     "output_type": "stream",
     "text": [
      " FOR BATCH RELEASE' | Qrd txt :- 'Name and address of the manufacturer(s) of the biological active substance(s)' | Matched :- 'False'LAR_clean_ANNEX II.json | Doc txt :- 'A.    MANUFACTURER(S)\n",
      " FOR BATCH RELEASE' | Qrd txt :- 'Name and address of the manufacturer(s) responsible for batch release' | Matched :- 'False'| ABASAGLAR_clean_ANNEX II.json | Doc txt :- 'A.    MANUFACTURER(S)\n",
      " FOR BATCH RELEASE' | Qrd txt :- 'D. CONDITIONS OR RESTRICTIONS WITH REGARD TO THE SAFE AND EFFECTIVE USE OF THE MEDICINAL PRODUCT' | Matched :- 'False't :- 'A.    MANUFACTURER(S)\n",
      "2021-05-13 15:33:25,433 : Heading Extraction ABASAGLAR_clean_ANNEX II.json_i : End Of Sub Section | H | CAP |  en | 1 | ABASAGLAR_clean_ANNEX II.json\n",
      " FOR BATCH RELEASE' | Qrd txt :- 'A. <MANUFACTURER(S) OF THE BIOLOGICAL ACTIVE SUBSTANCE(S) AND> MANUFACTURER(S) RESPONSIBLE FOR BATCH RELEASE' | Matched :- 'True' MANUFACTURER(S)\n",
      "2021-05-13 15:33:25,442 : Heading Extraction ABASAGLAR_clean_ANNEX II.json_i : Validation Passed As This The First Heading | H | CAP |  en | 1 | ABASAGLAR_clean_ANNEX II.json | currHeadId :- '21002' | currParentHeadId :- '21001.0' | prevParentHeadId :- ''\n",
      " active substance' | Qrd txt :- 'A. <MANUFACTURER(S) OF THE BIOLOGICAL ACTIVE SUBSTANCE(S) AND> MANUFACTURER(S) RESPONSIBLE FOR BATCH RELEASE' | Matched :- 'False'txt :- 'Name and address of the manufacturers of the biological\n",
      " active substance' | Qrd txt :- 'Name and address of the manufacturer(s) of the biological active substance(s)' | Matched :- 'True'NNEX II.json | Doc txt :- 'Name and address of the manufacturers of the biological\n",
      "2021-05-13 15:33:25,456 : Heading Extraction ABASAGLAR_clean_ANNEX II.json_i : Validation Passed | H | CAP |  en | 1 | ABASAGLAR_clean_ANNEX II.json | currHeadId :- '21003' | currParentHeadId :- '21002.0' | prevParentHeadId :- '21002'\n",
      "2021-05-13 15:33:25,475 : Heading Extraction ABASAGLAR_clean_ANNEX II.json_i : Match Failed In Lowercase | H | CAP |  en | 1 | ABASAGLAR_clean_ANNEX II.json | Doc txt :- 'Eli Lilly and Company' | Qrd txt :- 'A. <MANUFACTURER(S) OF THE BIOLOGICAL ACTIVE SUBSTANCE(S) AND> MANUFACTURER(S) RESPONSIBLE FOR BATCH RELEASE' | Matched :- 'False'\n",
      " batch release' | Qrd txt :- 'A. <MANUFACTURER(S) OF THE BIOLOGICAL ACTIVE SUBSTANCE(S) AND> MANUFACTURER(S) RESPONSIBLE FOR BATCH RELEASE' | Matched :- 'False'oc txt :- 'Name and address of the manufacturer responsible for\n",
      " batch release' | Qrd txt :- 'Name and address of the manufacturer(s) responsible for batch release' | Matched :- 'True'LAR_clean_ANNEX II.json | Doc txt :- 'Name and address of the manufacturer responsible for\n",
      "2021-05-13 15:33:25,527 : Heading Extraction ABASAGLAR_clean_ANNEX II.json_i : Validation Passed | H | CAP |  en | 1 | ABASAGLAR_clean_ANNEX II.json | currHeadId :- '21004' | currParentHeadId :- '21002.0' | prevParentHeadId :- '21003'\n",
      " S.p.A., ' | Qrd txt :- 'A. <MANUFACTURER(S) OF THE BIOLOGICAL ACTIVE SUBSTANCE(S) AND> MANUFACTURER(S) RESPONSIBLE FOR BATCH RELEASE' | Matched :- 'False'n | Doc txt :- 'Eli Lilly Italia\n",
      " S.p.A., ' | Qrd txt :- 'Name and address of the manufacturer(s) of the biological active substance(s)' | Matched :- 'False' | ABASAGLAR_clean_ANNEX II.json | Doc txt :- 'Eli Lilly Italia\n",
      " S.p.A., ' | Qrd txt :- 'Name and address of the manufacturer(s) responsible for batch release' | Matched :- 'False'  en | 1 | ABASAGLAR_clean_ANNEX II.json | Doc txt :- 'Eli Lilly Italia\n"
     ]
    },
    {
     "name": "stdout",
     "output_type": "stream",
     "text": [
      "\n",
      "OriginalCheck\n",
      "\n",
      "oooooooooooooooooooooooooooooooooooooooo END OF Sub Section oooooooooooooooooooooooooooooooooooooooooooooooooooooooooooo\n",
      "\n",
      "OriginalCheck\n",
      "\n",
      "\n",
      "OriginalCheck\n",
      "\n",
      "\n",
      "OriginalCheck\n",
      "\n",
      "\n",
      "OriginalCheck\n",
      "\n",
      "\n",
      "OriginalCheck\n",
      "\n",
      "\n",
      "OriginalCheck\n",
      "\n"
     ]
    },
    {
     "name": "stderr",
     "output_type": "stream",
     "text": [
      " RESTRICTIONS REGARDING SUPPLY AND USE' | Qrd txt :- 'B. CONDITIONS OR RESTRICTIONS REGARDING SUPPLY AND USE' | Matched :- 'True'_ANNEX II.json | Doc txt :- 'B.    CONDITIONS OR\n",
      "2021-05-13 15:33:25,642 : Heading Extraction ABASAGLAR_clean_ANNEX II.json_i : Validation Passed | H | CAP |  en | 1 | ABASAGLAR_clean_ANNEX II.json | currHeadId :- '21005' | currParentHeadId :- '21001.0' | prevParentHeadId :- '21004'\n",
      " CONDITIONS AND REQUIREMENTS OF THE MARKETING AUTHORISATION ' | Qrd txt :- 'C. OTHER CONDITIONS AND REQUIREMENTS OF THE MARKETING AUTHORISATION' | Matched :- 'True'OTHER\n",
      "2021-05-13 15:33:25,672 : Heading Extraction ABASAGLAR_clean_ANNEX II.json_i : Validation Flow Is Broken | H | CAP |  en | 1 | ABASAGLAR_clean_ANNEX II.json | currHeadId :- '21007' | currParentHeadId :- '21001.0' | prevParentHeadId :- '21005'\n",
      "2021-05-13 15:33:25,676 : Heading Extraction ABASAGLAR_clean_ANNEX II.json_i : Validation Passed | H | CAP |  en | 1 | ABASAGLAR_clean_ANNEX II.json | currHeadId :- '21007' | currParentHeadId :- '21001.0' | prevParentHeadId :- '21005'\n",
      "2021-05-13 15:33:25,687 : Heading Extraction ABASAGLAR_clean_ANNEX II.json_i : Match Passed | H | CAP |  en | 1 | ABASAGLAR_clean_ANNEX II.json | Doc txt :- '·Periodic safety update reports (PSURs)' | Qrd txt :- 'Periodic safety update reports (PSURs)' | Matched :- 'True'\n",
      "2021-05-13 15:33:25,694 : Heading Extraction ABASAGLAR_clean_ANNEX II.json_i : Validation Passed | H | CAP |  en | 1 | ABASAGLAR_clean_ANNEX II.json | currHeadId :- '21008' | currParentHeadId :- '21007.0' | prevParentHeadId :- '21007'\n",
      " RESTRICTIONS WITH REGARD TO THE SAFE AND EFFECTIVE USE OF THE MEDICINAL PRODUCT' | Qrd txt :- 'A. <MANUFACTURER(S) OF THE BIOLOGICAL ACTIVE SUBSTANCE(S) AND> MANUFACTURER(S) RESPONSIBLE FOR BATCH RELEASE' | Matched :- 'False'\n",
      " RESTRICTIONS WITH REGARD TO THE SAFE AND EFFECTIVE USE OF THE MEDICINAL PRODUCT' | Qrd txt :- 'D. CONDITIONS OR RESTRICTIONS WITH REGARD TO THE SAFE AND EFFECTIVE USE OF THE MEDICINAL PRODUCT' | Matched :- 'True'\n",
      "2021-05-13 15:33:25,713 : Heading Extraction ABASAGLAR_clean_ANNEX II.json_i : Validation Passed | H | CAP |  en | 1 | ABASAGLAR_clean_ANNEX II.json | currHeadId :- '21009' | currParentHeadId :- '21001.0' | prevParentHeadId :- '21008'\n",
      "2021-05-13 15:33:25,726 : Heading Extraction ABASAGLAR_clean_ANNEX II.json_i : Match Passed | H | CAP |  en | 1 | ABASAGLAR_clean_ANNEX II.json | Doc txt :- '·Risk management plan (RMP)' | Qrd txt :- 'Risk management plan (RMP)' | Matched :- 'True'\n",
      "2021-05-13 15:33:25,732 : Heading Extraction ABASAGLAR_clean_ANNEX II.json_i : Validation Passed | H | CAP |  en | 1 | ABASAGLAR_clean_ANNEX II.json | currHeadId :- '21010' | currParentHeadId :- '21009.0' | prevParentHeadId :- '21009'\n",
      "2021-05-13 15:33:25,768 : Flow Logger HTML_Z : Completed Heading Extraction For File | H | CAP |  en | HTML | ABASAGLAR_clean.htm\n",
      "2021-05-13 15:33:25,770 : Flow Logger HTML_Z : Starting Document Annotation For File | H | CAP |  en | HTML | ABASAGLAR_clean.htm\n",
      "2021-05-13 15:33:25,776 : Flow Logger HTML_Z : Completed Document Annotation | H | CAP |  en | HTML | ABASAGLAR_clean.htm\n",
      "2021-05-13 15:33:25,776 : Flow Logger HTML_Z : Starting Extracting Content Between Heading | H | CAP |  en | HTML | ABASAGLAR_clean.htm\n",
      "2021-05-13 15:33:25,782 : ExtractContentBetween_1_R : Cleaning Match Results | H | CAP |  en | 1 | ABASAGLAR_clean_ANNEX II.json\n",
      "2021-05-13 15:33:25,785 : ExtractContentBetween_1_R : Finished Cleaning Match Results | H | CAP |  en | 1 | ABASAGLAR_clean_ANNEX II.json\n",
      "2021-05-13 15:33:25,795 : Flow Logger HTML_Z : Completed Extracting Content Between Heading | H | CAP |  en | HTML | ABASAGLAR_clean.htm\n",
      "2021-05-13 15:33:25,811 : XmlGeneration_1_h : PMS/OMS Annotation Information Not Retrieved | H | CAP |  en | 1 | ABASAGLAR_clean_ANNEX II.json\n",
      "2021-05-13 15:33:25,812 : XmlGeneration_1_h : Initiating XML Generation | H | CAP |  en | 1 | ABASAGLAR_clean_ANNEX II.json\n",
      "2021-05-13 15:33:25,837 : XmlGeneration_1_h : Writing to File:ABASAGLAR_clean_ANNEX II.xml | H | CAP |  en | 1 | ABASAGLAR_clean_ANNEX II.json\n"
     ]
    },
    {
     "name": "stdout",
     "output_type": "stream",
     "text": [
      "\n",
      "\n",
      "Heading Not Found \n",
      " ['Official batch release', 'Additional risk minimisation measures', 'Obligation to conduct post-authorisation measures', 'SPECIFIC OBLIGATION TO COMPLETE POST-AUTHORISATION MEASURES FOR\\r\\n<THE CONDITIONAL MARKETING AUTHORISATION> <THE MARKETING AUTHORISATION UNDER EXCEPTIONAL CIRCUMSTANCES>']\n",
      "\n",
      "\n",
      "dict_keys([])\n",
      "Completed Heading Extraction For File\n",
      "Starting Document Annotation For File :- ABASAGLAR_clean_ANNEX II.json\n",
      "Error Found\n",
      "Completed Document Annotation\n",
      "Starting Extracting Content Between Heading For File :- ABASAGLAR_clean_ANNEX II.json\n",
      "File being processed: C:\\Users\\psaga\\source\\repos\\EMA\\EMA%20EPI%20PoC\\function_code\\work\\H\\CAP\\ABASAGLAR\\en\\2021-05-13T10-00-18Z\\partitionedJSONs\\ABASAGLAR_clean_ANNEX II.json\n",
      "--------------------------------------------\n",
      "Completed Extracting Content Between Heading\n",
      "Already Exists\n"
     ]
    },
    {
     "name": "stderr",
     "output_type": "stream",
     "text": [
      "2021-05-13 15:33:27,482 : XML Submission Logger_1_n : Initiating Submission To FHIR Server | H | CAP |  en | 1 | ABASAGLAR_clean_ANNEX II.json\n",
      "2021-05-13 15:33:27,485 : XML Submission Logger_1_n : Response{\"resourceType\":\"Bundle\",\"id\":\"f4054456-525e-4202-912d-c0b60a7e6669\",\"meta\":{\"versionId\":\"1\",\"lastUpdated\":\"2021-05-13T10:03:27.89+00:00\"},\"type\":\"collection\",\"entry\":[{\"fullUrl\":\"urn:uuid:a14a589c-57fb-453d-8e7e-34073f57bb96\",\"resource\":{\"resourceType\":\"Bundle\",\"id\":\"26002fb0-5330-47f8-8a72-3bf2fc0d847f\",\"identifier\":{\"system\":\"http://ema.europa.eu/fhir/identifier/documentid\",\"value\":\"${instance.bundle[n].Identifier}\"},\"type\":\"document\",\"timestamp\":\"2021-05-13T10:03:25+00:00\",\"entry\":[{\"fullUrl | H | CAP |  en | 1 | ABASAGLAR_clean_ANNEX II.json\n",
      "2021-05-13 15:33:27,491 : XML Submission Logger_1_n : POST sucessful: XML added with id: f4054456-525e-4202-912d-c0b60a7e6669 | H | CAP |  en | 1 | ABASAGLAR_clean_ANNEX II.json\n",
      "2021-05-13 15:33:27,495 : Flow Logger HTML_Z : \n",
      "\n",
      "\n",
      "\n",
      "||||||||||||||||||||||||||||||||2 ||||| ABASAGLAR_clean_ANNEX III.json||||||||||||||||||||||||||||||||\n",
      "\n",
      "\n",
      "\n",
      " | H | CAP |  en | HTML | ABASAGLAR_clean.htm\n",
      "2021-05-13 15:33:27,505 : Heading Extraction ABASAGLAR_clean_ANNEX III.json_e : Starting Heading Extraction | H | CAP |  en | 2 | ABASAGLAR_clean_ANNEX III.json\n",
      "2021-05-13 15:33:27,617 : Heading Extraction ABASAGLAR_clean_ANNEX III.json_e : Started Extracting Heading | H | CAP |  en | 2 | ABASAGLAR_clean_ANNEX III.json\n"
     ]
    },
    {
     "name": "stdout",
     "output_type": "stream",
     "text": [
      "POST sucessful: XML added with id f4054456-525e-4202-912d-c0b60a7e6669\n",
      "Created XML File For :- ABASAGLAR_clean_ANNEX II.json\n",
      "Starting Heading Extraction For File :- ABASAGLAR_clean_ANNEX III.json\n",
      "File being processed: C:\\Users\\psaga\\source\\repos\\EMA\\EMA%20EPI%20PoC\\function_code\\work\\H\\CAP\\ABASAGLAR\\en\\2021-05-13T10-00-18Z\\partitionedJSONs\\ABASAGLAR_clean_ANNEX III.json\n",
      "--------------------------------------------\n",
      "Labelling\n"
     ]
    },
    {
     "name": "stderr",
     "output_type": "stream",
     "text": [
      "2021-05-13 15:33:27,687 : Heading Extraction ABASAGLAR_clean_ANNEX III.json_e : Match Passed | H | CAP |  en | 2 | ABASAGLAR_clean_ANNEX III.json | Doc txt :- 'A. LABELLING' | Qrd txt :- 'LABELLING ' | Matched :- 'True'\n",
      "2021-05-13 15:33:27,691 : Heading Extraction ABASAGLAR_clean_ANNEX III.json_e : Validation Passed As This The First Heading | H | CAP |  en | 2 | ABASAGLAR_clean_ANNEX III.json | currHeadId :- '22001' | currParentHeadId :- 'nan' | prevParentHeadId :- ''\n",
      "2021-05-13 15:33:27,696 : Heading Extraction ABASAGLAR_clean_ANNEX III.json_e : Match Passed | H | CAP |  en | 2 | ABASAGLAR_clean_ANNEX III.json | Doc txt :- 'PARTICULARS TO APPEAR ON THE OUTER PACKAGING ' | Qrd txt :- 'PARTICULARS TO APPEAR ON <THE OUTER PACKAGING> <AND> <THE IMMEDIATE PACKAGING>' | Matched :- 'True'\n",
      "2021-05-13 15:33:27,703 : Heading Extraction ABASAGLAR_clean_ANNEX III.json_e : Validation Passed | H | CAP |  en | 2 | ABASAGLAR_clean_ANNEX III.json | currHeadId :- '22002' | currParentHeadId :- '22001.0' | prevParentHeadId :- '22001'\n",
      " MEDICINAL PRODUCT' | Qrd txt :- '1. NAME OF THE MEDICINAL PRODUCT' | Matched :- 'True'assed | H | CAP |  en | 2 | ABASAGLAR_clean_ANNEX III.json | Doc txt :- '1.       NAME OF THE\n",
      "2021-05-13 15:33:27,747 : Heading Extraction ABASAGLAR_clean_ANNEX III.json_e : Validation Passed | H | CAP |  en | 2 | ABASAGLAR_clean_ANNEX III.json | currHeadId :- '22003' | currParentHeadId :- '22002.0' | prevParentHeadId :- '22002'\n",
      " ACTIVE SUBSTANCE(S)' | Qrd txt :- '2. STATEMENT OF ACTIVE SUBSTANCE(S)' | Matched :- 'True' | H | CAP |  en | 2 | ABASAGLAR_clean_ANNEX III.json | Doc txt :- '2.       STATEMENT OF\n",
      "2021-05-13 15:33:27,812 : Heading Extraction ABASAGLAR_clean_ANNEX III.json_e : Validation Passed | H | CAP |  en | 2 | ABASAGLAR_clean_ANNEX III.json | currHeadId :- '22004' | currParentHeadId :- '22002.0' | prevParentHeadId :- '22003'\n",
      "2021-05-13 15:33:27,839 : Heading Extraction ABASAGLAR_clean_ANNEX III.json_e : Match Passed | H | CAP |  en | 2 | ABASAGLAR_clean_ANNEX III.json | Doc txt :- '3.       LIST OF EXCIPIENTS' | Qrd txt :- '3. LIST OF EXCIPIENTS' | Matched :- 'True'\n",
      "2021-05-13 15:33:27,844 : Heading Extraction ABASAGLAR_clean_ANNEX III.json_e : Validation Passed | H | CAP |  en | 2 | ABASAGLAR_clean_ANNEX III.json | currHeadId :- '22005' | currParentHeadId :- '22002.0' | prevParentHeadId :- '22004'\n",
      " FORM AND CONTENTS' | Qrd txt :- '4. PHARMACEUTICAL FORM AND CONTENTS' | Matched :- 'True'ed | H | CAP |  en | 2 | ABASAGLAR_clean_ANNEX III.json | Doc txt :- '4.       PHARMACEUTICAL\n",
      "2021-05-13 15:33:27,874 : Heading Extraction ABASAGLAR_clean_ANNEX III.json_e : Validation Passed | H | CAP |  en | 2 | ABASAGLAR_clean_ANNEX III.json | currHeadId :- '22006' | currParentHeadId :- '22002.0' | prevParentHeadId :- '22005'\n",
      " ROUTE(S) OF ADMINISTRATION' | Qrd txt :- '5. METHOD AND ROUTE(S) OF ADMINISTRATION' | Matched :- 'True'  en | 2 | ABASAGLAR_clean_ANNEX III.json | Doc txt :- '5.       METHOD AND\n",
      "2021-05-13 15:33:27,987 : Heading Extraction ABASAGLAR_clean_ANNEX III.json_e : Validation Passed | H | CAP |  en | 2 | ABASAGLAR_clean_ANNEX III.json | currHeadId :- '22007' | currParentHeadId :- '22002.0' | prevParentHeadId :- '22006'\n",
      " CHILDREN' | Qrd txt :- '6. SPECIAL WARNING THAT THE MEDICINAL PRODUCT MUST BE STORED OUT OF THE SIGHT AND REACH OF CHILDREN' | Matched :- 'True' | Doc txt :- '6.       SPECIAL WARNING\n",
      "2021-05-13 15:33:28,067 : Heading Extraction ABASAGLAR_clean_ANNEX III.json_e : Validation Passed | H | CAP |  en | 2 | ABASAGLAR_clean_ANNEX III.json | currHeadId :- '22008' | currParentHeadId :- '22002.0' | prevParentHeadId :- '22007'\n",
      " WARNING(S), IF NECESSARY' | Qrd txt :- '7. OTHER SPECIAL WARNING(S), IF NECESSARY' | Matched :- 'True'|  en | 2 | ABASAGLAR_clean_ANNEX III.json | Doc txt :- '7.       OTHER SPECIAL\n",
      "2021-05-13 15:33:28,113 : Heading Extraction ABASAGLAR_clean_ANNEX III.json_e : Validation Passed | H | CAP |  en | 2 | ABASAGLAR_clean_ANNEX III.json | currHeadId :- '22009' | currParentHeadId :- '22002.0' | prevParentHeadId :- '22008'\n",
      "2021-05-13 15:33:28,126 : Heading Extraction ABASAGLAR_clean_ANNEX III.json_e : Match Passed | H | CAP |  en | 2 | ABASAGLAR_clean_ANNEX III.json | Doc txt :- '8.       EXPIRY DATE' | Qrd txt :- '8. EXPIRY DATE' | Matched :- 'True'\n",
      "2021-05-13 15:33:28,133 : Heading Extraction ABASAGLAR_clean_ANNEX III.json_e : Validation Passed | H | CAP |  en | 2 | ABASAGLAR_clean_ANNEX III.json | currHeadId :- '22010' | currParentHeadId :- '22002.0' | prevParentHeadId :- '22009'\n",
      " STORAGE CONDITIONS' | Qrd txt :- '9. SPECIAL STORAGE CONDITIONS' | Matched :- 'True' Passed | H | CAP |  en | 2 | ABASAGLAR_clean_ANNEX III.json | Doc txt :- '9.       SPECIAL\n",
      "2021-05-13 15:33:28,178 : Heading Extraction ABASAGLAR_clean_ANNEX III.json_e : Validation Passed | H | CAP |  en | 2 | ABASAGLAR_clean_ANNEX III.json | currHeadId :- '22011' | currParentHeadId :- '22002.0' | prevParentHeadId :- '22010'\n",
      " APPROPRIATE' | Qrd txt :- '10. SPECIAL PRECAUTIONS FOR DISPOSAL OF UNUSED MEDICINAL PRODUCTS OR WASTE MATERIALS DERIVED FROM SUCH MEDICINAL PRODUCTS, IF APPROPRIATE' | Matched :- 'True'S FOR DISPOSAL OF UNUSED MEDICINAL\n",
      "2021-05-13 15:33:28,358 : Heading Extraction ABASAGLAR_clean_ANNEX III.json_e : Validation Passed | H | CAP |  en | 2 | ABASAGLAR_clean_ANNEX III.json | currHeadId :- '22012' | currParentHeadId :- '22002.0' | prevParentHeadId :- '22011'\n",
      "2021-05-13 15:33:28,371 : Heading Extraction ABASAGLAR_clean_ANNEX III.json_e : Match Passed | H | CAP |  en | 2 | ABASAGLAR_clean_ANNEX III.json | Doc txt :- '11.     NAME AND ADDRESS OF THE MARKETING AUTHORISATION HOLDER' | Qrd txt :- '11. NAME AND ADDRESS OF THE MARKETING AUTHORISATION HOLDER' | Matched :- 'True'\n",
      "2021-05-13 15:33:28,376 : Heading Extraction ABASAGLAR_clean_ANNEX III.json_e : Validation Passed | H | CAP |  en | 2 | ABASAGLAR_clean_ANNEX III.json | currHeadId :- '22013' | currParentHeadId :- '22002.0' | prevParentHeadId :- '22012'\n",
      "2021-05-13 15:33:28,464 : Heading Extraction ABASAGLAR_clean_ANNEX III.json_e : Match Passed | H | CAP |  en | 2 | ABASAGLAR_clean_ANNEX III.json | Doc txt :- '12.     MARKETING AUTHORISATION NUMBER(S) ' | Qrd txt :- '12. MARKETING AUTHORISATION NUMBER(S) ' | Matched :- 'True'\n",
      "2021-05-13 15:33:28,470 : Heading Extraction ABASAGLAR_clean_ANNEX III.json_e : Validation Passed | H | CAP |  en | 2 | ABASAGLAR_clean_ANNEX III.json | currHeadId :- '22014' | currParentHeadId :- '22002.0' | prevParentHeadId :- '22013'\n",
      "2021-05-13 15:33:28,531 : Heading Extraction ABASAGLAR_clean_ANNEX III.json_e : Match Passed | H | CAP |  en | 2 | ABASAGLAR_clean_ANNEX III.json | Doc txt :- '13.     BATCH NUMBER' | Qrd txt :- '13. BATCH NUMBER<, DONATION AND PRODUCT CODES>' | Matched :- 'True'\n",
      "2021-05-13 15:33:28,537 : Heading Extraction ABASAGLAR_clean_ANNEX III.json_e : Validation Passed | H | CAP |  en | 2 | ABASAGLAR_clean_ANNEX III.json | currHeadId :- '22015' | currParentHeadId :- '22002.0' | prevParentHeadId :- '22014'\n",
      "2021-05-13 15:33:28,552 : Heading Extraction ABASAGLAR_clean_ANNEX III.json_e : Match Passed | H | CAP |  en | 2 | ABASAGLAR_clean_ANNEX III.json | Doc txt :- '14.     GENERAL CLASSIFICATION FOR SUPPLY' | Qrd txt :- '14. GENERAL CLASSIFICATION FOR SUPPLY' | Matched :- 'True'\n",
      "2021-05-13 15:33:28,559 : Heading Extraction ABASAGLAR_clean_ANNEX III.json_e : Validation Passed | H | CAP |  en | 2 | ABASAGLAR_clean_ANNEX III.json | currHeadId :- '22016' | currParentHeadId :- '22002.0' | prevParentHeadId :- '22015'\n",
      "2021-05-13 15:33:28,579 : Heading Extraction ABASAGLAR_clean_ANNEX III.json_e : Match Passed | H | CAP |  en | 2 | ABASAGLAR_clean_ANNEX III.json | Doc txt :- '15.     INSTRUCTIONS ON USE' | Qrd txt :- '15. INSTRUCTIONS ON USE' | Matched :- 'True'\n",
      "2021-05-13 15:33:28,587 : Heading Extraction ABASAGLAR_clean_ANNEX III.json_e : Validation Passed | H | CAP |  en | 2 | ABASAGLAR_clean_ANNEX III.json | currHeadId :- '22017' | currParentHeadId :- '22002.0' | prevParentHeadId :- '22016'\n",
      "2021-05-13 15:33:28,610 : Heading Extraction ABASAGLAR_clean_ANNEX III.json_e : Match Passed | H | CAP |  en | 2 | ABASAGLAR_clean_ANNEX III.json | Doc txt :- '16.     INFORMATION IN BRAILLE' | Qrd txt :- '16. INFORMATION IN BRAILLE' | Matched :- 'True'\n"
     ]
    },
    {
     "name": "stderr",
     "output_type": "stream",
     "text": [
      "2021-05-13 15:33:28,615 : Heading Extraction ABASAGLAR_clean_ANNEX III.json_e : Validation Passed | H | CAP |  en | 2 | ABASAGLAR_clean_ANNEX III.json | currHeadId :- '22018' | currParentHeadId :- '22002.0' | prevParentHeadId :- '22017'\n",
      "2021-05-13 15:33:28,658 : Heading Extraction ABASAGLAR_clean_ANNEX III.json_e : Match Passed | H | CAP |  en | 2 | ABASAGLAR_clean_ANNEX III.json | Doc txt :- '17.        UNIQUE IDENTIFIER – 2D BARCODE' | Qrd txt :- '17. UNIQUE IDENTIFIER – 2D BARCODE' | Matched :- 'True'\n",
      "2021-05-13 15:33:28,663 : Heading Extraction ABASAGLAR_clean_ANNEX III.json_e : Validation Passed | H | CAP |  en | 2 | ABASAGLAR_clean_ANNEX III.json | currHeadId :- '22019' | currParentHeadId :- '22002.0' | prevParentHeadId :- '22018'\n",
      " READABLE DATA' | Qrd txt :- '18. UNIQUE IDENTIFIER - HUMAN READABLE DATA' | Matched :- 'True' H | CAP |  en | 2 | ABASAGLAR_clean_ANNEX III.json | Doc txt :- '18.        UNIQUE IDENTIFIER - HUMAN\n",
      "2021-05-13 15:33:28,706 : Heading Extraction ABASAGLAR_clean_ANNEX III.json_e : Validation Passed | H | CAP |  en | 2 | ABASAGLAR_clean_ANNEX III.json | currHeadId :- '22020' | currParentHeadId :- '22002.0' | prevParentHeadId :- '22019'\n",
      "2021-05-13 15:33:28,726 : Heading Extraction ABASAGLAR_clean_ANNEX III.json_e : Match Passed | H | CAP |  en | 2 | ABASAGLAR_clean_ANNEX III.json | Doc txt :- 'MINIMUM PARTICULARS TO APPEAR ON SMALL IMMEDIATE PACKAGING UNITS' | Qrd txt :- 'MINIMUM PARTICULARS TO APPEAR ON SMALL IMMEDIATE PACKAGING UNITS' | Matched :- 'True'\n",
      "2021-05-13 15:33:28,733 : Heading Extraction ABASAGLAR_clean_ANNEX III.json_e : Validation Flow Is Broken | H | CAP |  en | 2 | ABASAGLAR_clean_ANNEX III.json | currHeadId :- '22027' | currParentHeadId :- '22001.0' | prevParentHeadId :- '22020'\n",
      "2021-05-13 15:33:28,737 : Heading Extraction ABASAGLAR_clean_ANNEX III.json_e : Validation Passed | H | CAP |  en | 2 | ABASAGLAR_clean_ANNEX III.json | currHeadId :- '22027' | currParentHeadId :- '22001.0' | prevParentHeadId :- '22020'\n",
      " ADMINISTRATION' | Qrd txt :- '1. NAME OF THE MEDICINAL PRODUCT AND ROUTE(S) OF ADMINISTRATION' | Matched :- 'True'ABASAGLAR_clean_ANNEX III.json | Doc txt :- '1.       NAME OF THE MEDICINAL PRODUCT AND ROUTE(S) OF\n",
      "2021-05-13 15:33:28,788 : Heading Extraction ABASAGLAR_clean_ANNEX III.json_e : Validation Passed | H | CAP |  en | 2 | ABASAGLAR_clean_ANNEX III.json | currHeadId :- '22028' | currParentHeadId :- '22027.0' | prevParentHeadId :- '22027'\n",
      "2021-05-13 15:33:28,860 : Heading Extraction ABASAGLAR_clean_ANNEX III.json_e : Match Failed In Lowercase | H | CAP |  en | 2 | ABASAGLAR_clean_ANNEX III.json | Doc txt :- '2.       METHOD OF ADMINISTRATION' | Qrd txt :- '5. METHOD AND ROUTE(S) OF ADMINISTRATION' | Matched :- 'False'\n",
      "2021-05-13 15:33:28,878 : Heading Extraction ABASAGLAR_clean_ANNEX III.json_e : Match Passed | H | CAP |  en | 2 | ABASAGLAR_clean_ANNEX III.json | Doc txt :- '2.       METHOD OF ADMINISTRATION' | Qrd txt :- '2. METHOD OF ADMINISTRATION' | Matched :- 'True'\n",
      "2021-05-13 15:33:28,882 : Heading Extraction ABASAGLAR_clean_ANNEX III.json_e : Validation Passed | H | CAP |  en | 2 | ABASAGLAR_clean_ANNEX III.json | currHeadId :- '22029' | currParentHeadId :- '22027.0' | prevParentHeadId :- '22028'\n",
      "2021-05-13 15:33:28,914 : Heading Extraction ABASAGLAR_clean_ANNEX III.json_e : Match Passed | H | CAP |  en | 2 | ABASAGLAR_clean_ANNEX III.json | Doc txt :- '3.       EXPIRY DATE' | Qrd txt :- '8. EXPIRY DATE' | Matched :- 'True'\n",
      "2021-05-13 15:33:28,920 : Heading Extraction ABASAGLAR_clean_ANNEX III.json_e : Validation Failed As Previous Heading Found is not matching | H | CAP |  en | 2 | ABASAGLAR_clean_ANNEX III.json | currHeadId :- '22010' | currParentHeadId :- '22002.0' | prevParentHeadId :- '22029'\n",
      "2021-05-13 15:33:28,933 : Heading Extraction ABASAGLAR_clean_ANNEX III.json_e : Match Passed | H | CAP |  en | 2 | ABASAGLAR_clean_ANNEX III.json | Doc txt :- '3.       EXPIRY DATE' | Qrd txt :- '3. EXPIRY DATE' | Matched :- 'True'\n",
      "2021-05-13 15:33:28,941 : Heading Extraction ABASAGLAR_clean_ANNEX III.json_e : Validation Failed As Wrong Heading Found | H | CAP |  en | 2 | ABASAGLAR_clean_ANNEX III.json | currHeadId :- '22024' | currParentHeadId :- '22021.0' | prevParentHeadId :- '22029'\n",
      "2021-05-13 15:33:28,946 : Heading Extraction ABASAGLAR_clean_ANNEX III.json_e : Match Passed | H | CAP |  en | 2 | ABASAGLAR_clean_ANNEX III.json | Doc txt :- '3.       EXPIRY DATE' | Qrd txt :- '3. EXPIRY DATE' | Matched :- 'True'\n",
      "2021-05-13 15:33:28,951 : Heading Extraction ABASAGLAR_clean_ANNEX III.json_e : Validation Passed | H | CAP |  en | 2 | ABASAGLAR_clean_ANNEX III.json | currHeadId :- '22030' | currParentHeadId :- '22027.0' | prevParentHeadId :- '22029'\n",
      "2021-05-13 15:33:28,974 : Heading Extraction ABASAGLAR_clean_ANNEX III.json_e : Match Passed | H | CAP |  en | 2 | ABASAGLAR_clean_ANNEX III.json | Doc txt :- '4.       BATCH NUMBER' | Qrd txt :- '13. BATCH NUMBER<, DONATION AND PRODUCT CODES>' | Matched :- 'True'\n",
      "2021-05-13 15:33:28,983 : Heading Extraction ABASAGLAR_clean_ANNEX III.json_e : Validation Failed As Previous Heading Found is not matching | H | CAP |  en | 2 | ABASAGLAR_clean_ANNEX III.json | currHeadId :- '22015' | currParentHeadId :- '22002.0' | prevParentHeadId :- '22030'\n",
      "2021-05-13 15:33:28,996 : Heading Extraction ABASAGLAR_clean_ANNEX III.json_e : Match Passed | H | CAP |  en | 2 | ABASAGLAR_clean_ANNEX III.json | Doc txt :- '4.       BATCH NUMBER' | Qrd txt :- '4. BATCH NUMBER<, DONATION AND PRODUCT CODES>' | Matched :- 'True'\n",
      "2021-05-13 15:33:29,003 : Heading Extraction ABASAGLAR_clean_ANNEX III.json_e : Validation Failed As Wrong Heading Found | H | CAP |  en | 2 | ABASAGLAR_clean_ANNEX III.json | currHeadId :- '22025' | currParentHeadId :- '22021.0' | prevParentHeadId :- '22030'\n",
      "2021-05-13 15:33:29,012 : Heading Extraction ABASAGLAR_clean_ANNEX III.json_e : Match Passed | H | CAP |  en | 2 | ABASAGLAR_clean_ANNEX III.json | Doc txt :- '4.       BATCH NUMBER' | Qrd txt :- '4. BATCH NUMBER<, DONATION AND PRODUCT CODES>' | Matched :- 'True'\n",
      "2021-05-13 15:33:29,016 : Heading Extraction ABASAGLAR_clean_ANNEX III.json_e : Validation Passed | H | CAP |  en | 2 | ABASAGLAR_clean_ANNEX III.json | currHeadId :- '22031' | currParentHeadId :- '22027.0' | prevParentHeadId :- '22030'\n",
      "2021-05-13 15:33:29,043 : Heading Extraction ABASAGLAR_clean_ANNEX III.json_e : Match Passed | H | CAP |  en | 2 | ABASAGLAR_clean_ANNEX III.json | Doc txt :- '5.       CONTENTS BY WEIGHT, BY VOLUME OR BY UNIT' | Qrd txt :- '5. CONTENTS BY WEIGHT, BY VOLUME OR BY UNIT' | Matched :- 'True'\n"
     ]
    },
    {
     "name": "stdout",
     "output_type": "stream",
     "text": [
      "\n",
      "OriginalCheck\n",
      "\n"
     ]
    },
    {
     "name": "stderr",
     "output_type": "stream",
     "text": [
      "2021-05-13 15:33:29,050 : Heading Extraction ABASAGLAR_clean_ANNEX III.json_e : Validation Passed | H | CAP |  en | 2 | ABASAGLAR_clean_ANNEX III.json | currHeadId :- '22032' | currParentHeadId :- '22027.0' | prevParentHeadId :- '22031'\n",
      "2021-05-13 15:33:29,081 : Heading Extraction ABASAGLAR_clean_ANNEX III.json_e : Match Failed | H | CAP |  en | 2 | ABASAGLAR_clean_ANNEX III.json | Doc txt :- '6.       OTHER' | Qrd txt :- '5. OTHER' | Matched :- 'False'\n",
      "2021-05-13 15:33:29,090 : Heading Extraction ABASAGLAR_clean_ANNEX III.json_e : Match Passed | H | CAP |  en | 2 | ABASAGLAR_clean_ANNEX III.json | Doc txt :- '6.       OTHER' | Qrd txt :- '6. OTHER' | Matched :- 'True'\n",
      "2021-05-13 15:33:29,097 : Heading Extraction ABASAGLAR_clean_ANNEX III.json_e : Validation Passed | H | CAP |  en | 2 | ABASAGLAR_clean_ANNEX III.json | currHeadId :- '22033' | currParentHeadId :- '22027.0' | prevParentHeadId :- '22032'\n",
      "2021-05-13 15:33:29,102 : Heading Extraction ABASAGLAR_clean_ANNEX III.json_e : Match Passed | H | CAP |  en | 2 | ABASAGLAR_clean_ANNEX III.json | Doc txt :- 'PARTICULARS TO APPEAR ON THE OUTER PACKAGING' | Qrd txt :- 'PARTICULARS TO APPEAR ON <THE OUTER PACKAGING> <AND> <THE IMMEDIATE PACKAGING>' | Matched :- 'True'\n",
      "2021-05-13 15:33:29,108 : Heading Extraction ABASAGLAR_clean_ANNEX III.json_e : Validation Failed As Previous Heading Found is not matching | H | CAP |  en | 2 | ABASAGLAR_clean_ANNEX III.json | currHeadId :- '22002' | currParentHeadId :- '22001.0' | prevParentHeadId :- '22033'\n",
      "2021-05-13 15:33:29,137 : Heading Extraction ABASAGLAR_clean_ANNEX III.json_e : End Of Sub Section | H | CAP |  en | 2 | ABASAGLAR_clean_ANNEX III.json\n",
      "2021-05-13 15:33:29,140 : Heading Extraction ABASAGLAR_clean_ANNEX III.json_e : Match Passed | H | CAP |  en | 2 | ABASAGLAR_clean_ANNEX III.json | Doc txt :- 'PARTICULARS TO APPEAR ON THE OUTER PACKAGING' | Qrd txt :- 'PARTICULARS TO APPEAR ON <THE OUTER PACKAGING> <AND> <THE IMMEDIATE PACKAGING>' | Matched :- 'True'\n",
      "2021-05-13 15:33:29,147 : Heading Extraction ABASAGLAR_clean_ANNEX III.json_e : Validation Passed As This The First Heading | H | CAP |  en | 2 | ABASAGLAR_clean_ANNEX III.json | currHeadId :- '22002' | currParentHeadId :- '22001.0' | prevParentHeadId :- ''\n",
      " MEDICINAL PRODUCT' | Qrd txt :- '1. NAME OF THE MEDICINAL PRODUCT' | Matched :- 'True'assed | H | CAP |  en | 2 | ABASAGLAR_clean_ANNEX III.json | Doc txt :- '1.       NAME OF THE\n",
      "2021-05-13 15:33:29,183 : Heading Extraction ABASAGLAR_clean_ANNEX III.json_e : Validation Passed | H | CAP |  en | 2 | ABASAGLAR_clean_ANNEX III.json | currHeadId :- '22003' | currParentHeadId :- '22002.0' | prevParentHeadId :- '22002'\n",
      " ACTIVE SUBSTANCE(S)' | Qrd txt :- '2. STATEMENT OF ACTIVE SUBSTANCE(S)' | Matched :- 'True' | H | CAP |  en | 2 | ABASAGLAR_clean_ANNEX III.json | Doc txt :- '2.       STATEMENT OF\n",
      "2021-05-13 15:33:29,245 : Heading Extraction ABASAGLAR_clean_ANNEX III.json_e : Validation Passed | H | CAP |  en | 2 | ABASAGLAR_clean_ANNEX III.json | currHeadId :- '22004' | currParentHeadId :- '22002.0' | prevParentHeadId :- '22003'\n",
      "2021-05-13 15:33:29,274 : Heading Extraction ABASAGLAR_clean_ANNEX III.json_e : Match Passed | H | CAP |  en | 2 | ABASAGLAR_clean_ANNEX III.json | Doc txt :- '3.       LIST OF EXCIPIENTS' | Qrd txt :- '3. LIST OF EXCIPIENTS' | Matched :- 'True'\n",
      "2021-05-13 15:33:29,278 : Heading Extraction ABASAGLAR_clean_ANNEX III.json_e : Validation Passed | H | CAP |  en | 2 | ABASAGLAR_clean_ANNEX III.json | currHeadId :- '22005' | currParentHeadId :- '22002.0' | prevParentHeadId :- '22004'\n",
      " FORM AND CONTENTS' | Qrd txt :- '4. PHARMACEUTICAL FORM AND CONTENTS' | Matched :- 'True'ed | H | CAP |  en | 2 | ABASAGLAR_clean_ANNEX III.json | Doc txt :- '4.       PHARMACEUTICAL\n",
      "2021-05-13 15:33:29,306 : Heading Extraction ABASAGLAR_clean_ANNEX III.json_e : Validation Passed | H | CAP |  en | 2 | ABASAGLAR_clean_ANNEX III.json | currHeadId :- '22006' | currParentHeadId :- '22002.0' | prevParentHeadId :- '22005'\n"
     ]
    },
    {
     "name": "stdout",
     "output_type": "stream",
     "text": [
      "oooooooooooooooooooooooooooooooooooooooo END OF Sub Section oooooooooooooooooooooooooooooooooooooooooooooooooooooooooooo\n"
     ]
    },
    {
     "name": "stderr",
     "output_type": "stream",
     "text": [
      " ROUTE(S) OF ADMINISTRATION' | Qrd txt :- '5. METHOD AND ROUTE(S) OF ADMINISTRATION' | Matched :- 'True'  en | 2 | ABASAGLAR_clean_ANNEX III.json | Doc txt :- '5.       METHOD AND\n",
      "2021-05-13 15:33:29,379 : Heading Extraction ABASAGLAR_clean_ANNEX III.json_e : Validation Passed | H | CAP |  en | 2 | ABASAGLAR_clean_ANNEX III.json | currHeadId :- '22007' | currParentHeadId :- '22002.0' | prevParentHeadId :- '22006'\n",
      " CHILDREN' | Qrd txt :- '6. SPECIAL WARNING THAT THE MEDICINAL PRODUCT MUST BE STORED OUT OF THE SIGHT AND REACH OF CHILDREN' | Matched :- 'True' | Doc txt :- '6.       SPECIAL WARNING\n",
      "2021-05-13 15:33:29,449 : Heading Extraction ABASAGLAR_clean_ANNEX III.json_e : Validation Passed | H | CAP |  en | 2 | ABASAGLAR_clean_ANNEX III.json | currHeadId :- '22008' | currParentHeadId :- '22002.0' | prevParentHeadId :- '22007'\n",
      " WARNING(S), IF NECESSARY' | Qrd txt :- '7. OTHER SPECIAL WARNING(S), IF NECESSARY' | Matched :- 'True'|  en | 2 | ABASAGLAR_clean_ANNEX III.json | Doc txt :- '7.       OTHER SPECIAL\n",
      "2021-05-13 15:33:29,489 : Heading Extraction ABASAGLAR_clean_ANNEX III.json_e : Validation Passed | H | CAP |  en | 2 | ABASAGLAR_clean_ANNEX III.json | currHeadId :- '22009' | currParentHeadId :- '22002.0' | prevParentHeadId :- '22008'\n",
      "2021-05-13 15:33:29,499 : Heading Extraction ABASAGLAR_clean_ANNEX III.json_e : Match Passed | H | CAP |  en | 2 | ABASAGLAR_clean_ANNEX III.json | Doc txt :- '8.       EXPIRY DATE' | Qrd txt :- '8. EXPIRY DATE' | Matched :- 'True'\n",
      "2021-05-13 15:33:29,503 : Heading Extraction ABASAGLAR_clean_ANNEX III.json_e : Validation Passed | H | CAP |  en | 2 | ABASAGLAR_clean_ANNEX III.json | currHeadId :- '22010' | currParentHeadId :- '22002.0' | prevParentHeadId :- '22009'\n",
      " STORAGE CONDITIONS' | Qrd txt :- '9. SPECIAL STORAGE CONDITIONS' | Matched :- 'True' Passed | H | CAP |  en | 2 | ABASAGLAR_clean_ANNEX III.json | Doc txt :- '9.       SPECIAL\n",
      "2021-05-13 15:33:29,542 : Heading Extraction ABASAGLAR_clean_ANNEX III.json_e : Validation Passed | H | CAP |  en | 2 | ABASAGLAR_clean_ANNEX III.json | currHeadId :- '22011' | currParentHeadId :- '22002.0' | prevParentHeadId :- '22010'\n",
      " APPROPRIATE' | Qrd txt :- '10. SPECIAL PRECAUTIONS FOR DISPOSAL OF UNUSED MEDICINAL PRODUCTS OR WASTE MATERIALS DERIVED FROM SUCH MEDICINAL PRODUCTS, IF APPROPRIATE' | Matched :- 'True'S FOR DISPOSAL OF UNUSED MEDICINAL\n",
      "2021-05-13 15:33:29,751 : Heading Extraction ABASAGLAR_clean_ANNEX III.json_e : Validation Passed | H | CAP |  en | 2 | ABASAGLAR_clean_ANNEX III.json | currHeadId :- '22012' | currParentHeadId :- '22002.0' | prevParentHeadId :- '22011'\n",
      "2021-05-13 15:33:29,768 : Heading Extraction ABASAGLAR_clean_ANNEX III.json_e : Match Passed | H | CAP |  en | 2 | ABASAGLAR_clean_ANNEX III.json | Doc txt :- '11.     NAME AND ADDRESS OF THE MARKETING AUTHORISATION HOLDER' | Qrd txt :- '11. NAME AND ADDRESS OF THE MARKETING AUTHORISATION HOLDER' | Matched :- 'True'\n",
      "2021-05-13 15:33:29,776 : Heading Extraction ABASAGLAR_clean_ANNEX III.json_e : Validation Passed | H | CAP |  en | 2 | ABASAGLAR_clean_ANNEX III.json | currHeadId :- '22013' | currParentHeadId :- '22002.0' | prevParentHeadId :- '22012'\n",
      "2021-05-13 15:33:29,863 : Heading Extraction ABASAGLAR_clean_ANNEX III.json_e : Match Passed | H | CAP |  en | 2 | ABASAGLAR_clean_ANNEX III.json | Doc txt :- '12.     MARKETING AUTHORISATION NUMBER(S) ' | Qrd txt :- '12. MARKETING AUTHORISATION NUMBER(S) ' | Matched :- 'True'\n",
      "2021-05-13 15:33:29,868 : Heading Extraction ABASAGLAR_clean_ANNEX III.json_e : Validation Passed | H | CAP |  en | 2 | ABASAGLAR_clean_ANNEX III.json | currHeadId :- '22014' | currParentHeadId :- '22002.0' | prevParentHeadId :- '22013'\n",
      "2021-05-13 15:33:29,938 : Heading Extraction ABASAGLAR_clean_ANNEX III.json_e : Match Passed | H | CAP |  en | 2 | ABASAGLAR_clean_ANNEX III.json | Doc txt :- '13.     BATCH NUMBER' | Qrd txt :- '13. BATCH NUMBER<, DONATION AND PRODUCT CODES>' | Matched :- 'True'\n",
      "2021-05-13 15:33:29,942 : Heading Extraction ABASAGLAR_clean_ANNEX III.json_e : Validation Passed | H | CAP |  en | 2 | ABASAGLAR_clean_ANNEX III.json | currHeadId :- '22015' | currParentHeadId :- '22002.0' | prevParentHeadId :- '22014'\n",
      "2021-05-13 15:33:29,956 : Heading Extraction ABASAGLAR_clean_ANNEX III.json_e : Match Passed | H | CAP |  en | 2 | ABASAGLAR_clean_ANNEX III.json | Doc txt :- '14.     GENERAL CLASSIFICATION FOR SUPPLY' | Qrd txt :- '14. GENERAL CLASSIFICATION FOR SUPPLY' | Matched :- 'True'\n",
      "2021-05-13 15:33:29,963 : Heading Extraction ABASAGLAR_clean_ANNEX III.json_e : Validation Passed | H | CAP |  en | 2 | ABASAGLAR_clean_ANNEX III.json | currHeadId :- '22016' | currParentHeadId :- '22002.0' | prevParentHeadId :- '22015'\n",
      "2021-05-13 15:33:30,001 : Heading Extraction ABASAGLAR_clean_ANNEX III.json_e : Match Passed | H | CAP |  en | 2 | ABASAGLAR_clean_ANNEX III.json | Doc txt :- '15.     INSTRUCTIONS ON USE' | Qrd txt :- '15. INSTRUCTIONS ON USE' | Matched :- 'True'\n",
      "2021-05-13 15:33:30,011 : Heading Extraction ABASAGLAR_clean_ANNEX III.json_e : Validation Passed | H | CAP |  en | 2 | ABASAGLAR_clean_ANNEX III.json | currHeadId :- '22017' | currParentHeadId :- '22002.0' | prevParentHeadId :- '22016'\n",
      "2021-05-13 15:33:30,041 : Heading Extraction ABASAGLAR_clean_ANNEX III.json_e : Match Passed | H | CAP |  en | 2 | ABASAGLAR_clean_ANNEX III.json | Doc txt :- '16.     INFORMATION IN BRAILLE' | Qrd txt :- '16. INFORMATION IN BRAILLE' | Matched :- 'True'\n",
      "2021-05-13 15:33:30,048 : Heading Extraction ABASAGLAR_clean_ANNEX III.json_e : Validation Passed | H | CAP |  en | 2 | ABASAGLAR_clean_ANNEX III.json | currHeadId :- '22018' | currParentHeadId :- '22002.0' | prevParentHeadId :- '22017'\n",
      "2021-05-13 15:33:30,115 : Heading Extraction ABASAGLAR_clean_ANNEX III.json_e : Match Passed | H | CAP |  en | 2 | ABASAGLAR_clean_ANNEX III.json | Doc txt :- '17.        UNIQUE IDENTIFIER – 2D BARCODE' | Qrd txt :- '17. UNIQUE IDENTIFIER – 2D BARCODE' | Matched :- 'True'\n",
      "2021-05-13 15:33:30,122 : Heading Extraction ABASAGLAR_clean_ANNEX III.json_e : Validation Passed | H | CAP |  en | 2 | ABASAGLAR_clean_ANNEX III.json | currHeadId :- '22019' | currParentHeadId :- '22002.0' | prevParentHeadId :- '22018'\n",
      " READABLE DATA' | Qrd txt :- '18. UNIQUE IDENTIFIER - HUMAN READABLE DATA' | Matched :- 'True' H | CAP |  en | 2 | ABASAGLAR_clean_ANNEX III.json | Doc txt :- '18.        UNIQUE IDENTIFIER - HUMAN\n",
      "2021-05-13 15:33:30,192 : Heading Extraction ABASAGLAR_clean_ANNEX III.json_e : Validation Passed | H | CAP |  en | 2 | ABASAGLAR_clean_ANNEX III.json | currHeadId :- '22020' | currParentHeadId :- '22002.0' | prevParentHeadId :- '22019'\n",
      "2021-05-13 15:33:30,197 : Heading Extraction ABASAGLAR_clean_ANNEX III.json_e : Match Passed | H | CAP |  en | 2 | ABASAGLAR_clean_ANNEX III.json | Doc txt :- 'PARTICULARS TO APPEAR ON THE OUTER PACKAGING ' | Qrd txt :- 'PARTICULARS TO APPEAR ON <THE OUTER PACKAGING> <AND> <THE IMMEDIATE PACKAGING>' | Matched :- 'True'\n",
      "2021-05-13 15:33:30,201 : Heading Extraction ABASAGLAR_clean_ANNEX III.json_e : Validation Failed Top Heading Found After Bottom Headings | H | CAP |  en | 2 | ABASAGLAR_clean_ANNEX III.json | currHeadId :- '22002' | currParentHeadId :- '22001.0' | prevParentHeadId :- '22020'\n",
      "2021-05-13 15:33:30,236 : Heading Extraction ABASAGLAR_clean_ANNEX III.json_e : End Of Sub Section | H | CAP |  en | 2 | ABASAGLAR_clean_ANNEX III.json\n",
      "2021-05-13 15:33:30,240 : Heading Extraction ABASAGLAR_clean_ANNEX III.json_e : Match Passed | H | CAP |  en | 2 | ABASAGLAR_clean_ANNEX III.json | Doc txt :- 'PARTICULARS TO APPEAR ON THE OUTER PACKAGING ' | Qrd txt :- 'PARTICULARS TO APPEAR ON <THE OUTER PACKAGING> <AND> <THE IMMEDIATE PACKAGING>' | Matched :- 'True'\n",
      "2021-05-13 15:33:30,246 : Heading Extraction ABASAGLAR_clean_ANNEX III.json_e : Validation Passed As Current Heading Is Same As Previous H1 Heading | H | CAP |  en | 2 | ABASAGLAR_clean_ANNEX III.json | currHeadId :- '22002' | currParentHeadId :- '22001.0' | prevParentHeadId :- ''\n",
      " MEDICINAL PRODUCT' | Qrd txt :- '1. NAME OF THE MEDICINAL PRODUCT' | Matched :- 'True'assed | H | CAP |  en | 2 | ABASAGLAR_clean_ANNEX III.json | Doc txt :- '1.       NAME OF THE\n",
      "2021-05-13 15:33:30,304 : Heading Extraction ABASAGLAR_clean_ANNEX III.json_e : Validation Passed | H | CAP |  en | 2 | ABASAGLAR_clean_ANNEX III.json | currHeadId :- '22003' | currParentHeadId :- '22002.0' | prevParentHeadId :- '22002'\n"
     ]
    },
    {
     "name": "stderr",
     "output_type": "stream",
     "text": [
      "2021-05-13 15:33:30,377 : Heading Extraction ABASAGLAR_clean_ANNEX III.json_e : Match Passed | H | CAP |  en | 2 | ABASAGLAR_clean_ANNEX III.json | Doc txt :- '2.       STATEMENT OF\r",
      " ACTIVE SUBSTANCE(S)' | Qrd txt :- '2. STATEMENT OF ACTIVE SUBSTANCE(S)' | Matched :- 'True'\n"
     ]
    },
    {
     "name": "stdout",
     "output_type": "stream",
     "text": [
      "-------------------Here1------------------------\n",
      "oooooooooooooooooooooooooooooooooooooooo END OF Sub Section oooooooooooooooooooooooooooooooooooooooooooooooooooooooooooo\n"
     ]
    },
    {
     "name": "stderr",
     "output_type": "stream",
     "text": [
      "2021-05-13 15:33:30,388 : Heading Extraction ABASAGLAR_clean_ANNEX III.json_e : Validation Passed | H | CAP |  en | 2 | ABASAGLAR_clean_ANNEX III.json | currHeadId :- '22004' | currParentHeadId :- '22002.0' | prevParentHeadId :- '22003'\n",
      "2021-05-13 15:33:30,443 : Heading Extraction ABASAGLAR_clean_ANNEX III.json_e : Match Passed | H | CAP |  en | 2 | ABASAGLAR_clean_ANNEX III.json | Doc txt :- '3.       LIST OF EXCIPIENTS' | Qrd txt :- '3. LIST OF EXCIPIENTS' | Matched :- 'True'\n",
      "2021-05-13 15:33:30,454 : Heading Extraction ABASAGLAR_clean_ANNEX III.json_e : Validation Passed | H | CAP |  en | 2 | ABASAGLAR_clean_ANNEX III.json | currHeadId :- '22005' | currParentHeadId :- '22002.0' | prevParentHeadId :- '22004'\n",
      " FORM AND CONTENTS' | Qrd txt :- '4. PHARMACEUTICAL FORM AND CONTENTS' | Matched :- 'True'ed | H | CAP |  en | 2 | ABASAGLAR_clean_ANNEX III.json | Doc txt :- '4.       PHARMACEUTICAL\n",
      "2021-05-13 15:33:30,537 : Heading Extraction ABASAGLAR_clean_ANNEX III.json_e : Validation Passed | H | CAP |  en | 2 | ABASAGLAR_clean_ANNEX III.json | currHeadId :- '22006' | currParentHeadId :- '22002.0' | prevParentHeadId :- '22005'\n",
      " ROUTE(S) OF ADMINISTRATION' | Qrd txt :- '5. METHOD AND ROUTE(S) OF ADMINISTRATION' | Matched :- 'True'  en | 2 | ABASAGLAR_clean_ANNEX III.json | Doc txt :- '5.       METHOD AND\n",
      "2021-05-13 15:33:30,679 : Heading Extraction ABASAGLAR_clean_ANNEX III.json_e : Validation Passed | H | CAP |  en | 2 | ABASAGLAR_clean_ANNEX III.json | currHeadId :- '22007' | currParentHeadId :- '22002.0' | prevParentHeadId :- '22006'\n",
      " CHILDREN' | Qrd txt :- '6. SPECIAL WARNING THAT THE MEDICINAL PRODUCT MUST BE STORED OUT OF THE SIGHT AND REACH OF CHILDREN' | Matched :- 'True' | Doc txt :- '6.       SPECIAL WARNING\n",
      "2021-05-13 15:33:30,749 : Heading Extraction ABASAGLAR_clean_ANNEX III.json_e : Validation Passed | H | CAP |  en | 2 | ABASAGLAR_clean_ANNEX III.json | currHeadId :- '22008' | currParentHeadId :- '22002.0' | prevParentHeadId :- '22007'\n",
      " WARNING(S), IF NECESSARY' | Qrd txt :- '7. OTHER SPECIAL WARNING(S), IF NECESSARY' | Matched :- 'True'|  en | 2 | ABASAGLAR_clean_ANNEX III.json | Doc txt :- '7.       OTHER SPECIAL\n",
      "2021-05-13 15:33:30,808 : Heading Extraction ABASAGLAR_clean_ANNEX III.json_e : Validation Passed | H | CAP |  en | 2 | ABASAGLAR_clean_ANNEX III.json | currHeadId :- '22009' | currParentHeadId :- '22002.0' | prevParentHeadId :- '22008'\n",
      "2021-05-13 15:33:30,821 : Heading Extraction ABASAGLAR_clean_ANNEX III.json_e : Match Passed | H | CAP |  en | 2 | ABASAGLAR_clean_ANNEX III.json | Doc txt :- '8.       EXPIRY DATE' | Qrd txt :- '8. EXPIRY DATE' | Matched :- 'True'\n",
      "2021-05-13 15:33:30,826 : Heading Extraction ABASAGLAR_clean_ANNEX III.json_e : Validation Passed | H | CAP |  en | 2 | ABASAGLAR_clean_ANNEX III.json | currHeadId :- '22010' | currParentHeadId :- '22002.0' | prevParentHeadId :- '22009'\n",
      " STORAGE CONDITIONS' | Qrd txt :- '9. SPECIAL STORAGE CONDITIONS' | Matched :- 'True' Passed | H | CAP |  en | 2 | ABASAGLAR_clean_ANNEX III.json | Doc txt :- '9.       SPECIAL\n",
      "2021-05-13 15:33:30,871 : Heading Extraction ABASAGLAR_clean_ANNEX III.json_e : Validation Passed | H | CAP |  en | 2 | ABASAGLAR_clean_ANNEX III.json | currHeadId :- '22011' | currParentHeadId :- '22002.0' | prevParentHeadId :- '22010'\n",
      " APPROPRIATE' | Qrd txt :- '10. SPECIAL PRECAUTIONS FOR DISPOSAL OF UNUSED MEDICINAL PRODUCTS OR WASTE MATERIALS DERIVED FROM SUCH MEDICINAL PRODUCTS, IF APPROPRIATE' | Matched :- 'True'S FOR DISPOSAL OF UNUSED MEDICINAL\n",
      "2021-05-13 15:33:31,078 : Heading Extraction ABASAGLAR_clean_ANNEX III.json_e : Validation Passed | H | CAP |  en | 2 | ABASAGLAR_clean_ANNEX III.json | currHeadId :- '22012' | currParentHeadId :- '22002.0' | prevParentHeadId :- '22011'\n",
      "2021-05-13 15:33:31,094 : Heading Extraction ABASAGLAR_clean_ANNEX III.json_e : Match Passed | H | CAP |  en | 2 | ABASAGLAR_clean_ANNEX III.json | Doc txt :- '11.     NAME AND ADDRESS OF THE MARKETING AUTHORISATION HOLDER' | Qrd txt :- '11. NAME AND ADDRESS OF THE MARKETING AUTHORISATION HOLDER' | Matched :- 'True'\n",
      "2021-05-13 15:33:31,102 : Heading Extraction ABASAGLAR_clean_ANNEX III.json_e : Validation Passed | H | CAP |  en | 2 | ABASAGLAR_clean_ANNEX III.json | currHeadId :- '22013' | currParentHeadId :- '22002.0' | prevParentHeadId :- '22012'\n",
      "2021-05-13 15:33:31,277 : Heading Extraction ABASAGLAR_clean_ANNEX III.json_e : Match Passed | H | CAP |  en | 2 | ABASAGLAR_clean_ANNEX III.json | Doc txt :- '12.     MARKETING AUTHORISATION NUMBER(S) ' | Qrd txt :- '12. MARKETING AUTHORISATION NUMBER(S) ' | Matched :- 'True'\n",
      "2021-05-13 15:33:31,282 : Heading Extraction ABASAGLAR_clean_ANNEX III.json_e : Validation Passed | H | CAP |  en | 2 | ABASAGLAR_clean_ANNEX III.json | currHeadId :- '22014' | currParentHeadId :- '22002.0' | prevParentHeadId :- '22013'\n",
      "2021-05-13 15:33:31,349 : Heading Extraction ABASAGLAR_clean_ANNEX III.json_e : Match Passed | H | CAP |  en | 2 | ABASAGLAR_clean_ANNEX III.json | Doc txt :- '13.     BATCH NUMBER' | Qrd txt :- '13. BATCH NUMBER<, DONATION AND PRODUCT CODES>' | Matched :- 'True'\n",
      "2021-05-13 15:33:31,354 : Heading Extraction ABASAGLAR_clean_ANNEX III.json_e : Validation Passed | H | CAP |  en | 2 | ABASAGLAR_clean_ANNEX III.json | currHeadId :- '22015' | currParentHeadId :- '22002.0' | prevParentHeadId :- '22014'\n",
      "2021-05-13 15:33:31,367 : Heading Extraction ABASAGLAR_clean_ANNEX III.json_e : Match Passed | H | CAP |  en | 2 | ABASAGLAR_clean_ANNEX III.json | Doc txt :- '14.     GENERAL CLASSIFICATION FOR SUPPLY' | Qrd txt :- '14. GENERAL CLASSIFICATION FOR SUPPLY' | Matched :- 'True'\n",
      "2021-05-13 15:33:31,371 : Heading Extraction ABASAGLAR_clean_ANNEX III.json_e : Validation Passed | H | CAP |  en | 2 | ABASAGLAR_clean_ANNEX III.json | currHeadId :- '22016' | currParentHeadId :- '22002.0' | prevParentHeadId :- '22015'\n",
      "2021-05-13 15:33:31,386 : Heading Extraction ABASAGLAR_clean_ANNEX III.json_e : Match Passed | H | CAP |  en | 2 | ABASAGLAR_clean_ANNEX III.json | Doc txt :- '15.     INSTRUCTIONS ON USE' | Qrd txt :- '15. INSTRUCTIONS ON USE' | Matched :- 'True'\n",
      "2021-05-13 15:33:31,394 : Heading Extraction ABASAGLAR_clean_ANNEX III.json_e : Validation Passed | H | CAP |  en | 2 | ABASAGLAR_clean_ANNEX III.json | currHeadId :- '22017' | currParentHeadId :- '22002.0' | prevParentHeadId :- '22016'\n",
      "2021-05-13 15:33:31,421 : Heading Extraction ABASAGLAR_clean_ANNEX III.json_e : Match Passed | H | CAP |  en | 2 | ABASAGLAR_clean_ANNEX III.json | Doc txt :- '16.     INFORMATION IN BRAILLE' | Qrd txt :- '16. INFORMATION IN BRAILLE' | Matched :- 'True'\n",
      "2021-05-13 15:33:31,425 : Heading Extraction ABASAGLAR_clean_ANNEX III.json_e : Validation Passed | H | CAP |  en | 2 | ABASAGLAR_clean_ANNEX III.json | currHeadId :- '22018' | currParentHeadId :- '22002.0' | prevParentHeadId :- '22017'\n",
      "2021-05-13 15:33:31,478 : Heading Extraction ABASAGLAR_clean_ANNEX III.json_e : Match Passed | H | CAP |  en | 2 | ABASAGLAR_clean_ANNEX III.json | Doc txt :- '17.        UNIQUE IDENTIFIER – 2D BARCODE' | Qrd txt :- '17. UNIQUE IDENTIFIER – 2D BARCODE' | Matched :- 'True'\n",
      "2021-05-13 15:33:31,483 : Heading Extraction ABASAGLAR_clean_ANNEX III.json_e : Validation Passed | H | CAP |  en | 2 | ABASAGLAR_clean_ANNEX III.json | currHeadId :- '22019' | currParentHeadId :- '22002.0' | prevParentHeadId :- '22018'\n",
      " READABLE DATA' | Qrd txt :- '18. UNIQUE IDENTIFIER - HUMAN READABLE DATA' | Matched :- 'True' H | CAP |  en | 2 | ABASAGLAR_clean_ANNEX III.json | Doc txt :- '18.        UNIQUE IDENTIFIER - HUMAN\n",
      "2021-05-13 15:33:31,525 : Heading Extraction ABASAGLAR_clean_ANNEX III.json_e : Validation Passed | H | CAP |  en | 2 | ABASAGLAR_clean_ANNEX III.json | currHeadId :- '22020' | currParentHeadId :- '22002.0' | prevParentHeadId :- '22019'\n",
      "2021-05-13 15:33:31,529 : Heading Extraction ABASAGLAR_clean_ANNEX III.json_e : Match Passed | H | CAP |  en | 2 | ABASAGLAR_clean_ANNEX III.json | Doc txt :- 'PARTICULARS TO APPEAR ON THE OUTER PACKAGING ' | Qrd txt :- 'PARTICULARS TO APPEAR ON <THE OUTER PACKAGING> <AND> <THE IMMEDIATE PACKAGING>' | Matched :- 'True'\n",
      "2021-05-13 15:33:31,532 : Heading Extraction ABASAGLAR_clean_ANNEX III.json_e : Validation Failed Top Heading Found After Bottom Headings | H | CAP |  en | 2 | ABASAGLAR_clean_ANNEX III.json | currHeadId :- '22002' | currParentHeadId :- '22001.0' | prevParentHeadId :- '22020'\n"
     ]
    },
    {
     "name": "stderr",
     "output_type": "stream",
     "text": [
      "2021-05-13 15:33:31,562 : Heading Extraction ABASAGLAR_clean_ANNEX III.json_e : End Of Sub Section | H | CAP |  en | 2 | ABASAGLAR_clean_ANNEX III.json\n",
      "2021-05-13 15:33:31,565 : Heading Extraction ABASAGLAR_clean_ANNEX III.json_e : Match Passed | H | CAP |  en | 2 | ABASAGLAR_clean_ANNEX III.json | Doc txt :- 'PARTICULARS TO APPEAR ON THE OUTER PACKAGING ' | Qrd txt :- 'PARTICULARS TO APPEAR ON <THE OUTER PACKAGING> <AND> <THE IMMEDIATE PACKAGING>' | Matched :- 'True'\n",
      "2021-05-13 15:33:31,567 : Heading Extraction ABASAGLAR_clean_ANNEX III.json_e : Validation Passed As Current Heading Is Same As Previous H1 Heading | H | CAP |  en | 2 | ABASAGLAR_clean_ANNEX III.json | currHeadId :- '22002' | currParentHeadId :- '22001.0' | prevParentHeadId :- ''\n",
      " MEDICINAL PRODUCT' | Qrd txt :- '1. NAME OF THE MEDICINAL PRODUCT' | Matched :- 'True'assed | H | CAP |  en | 2 | ABASAGLAR_clean_ANNEX III.json | Doc txt :- '1.       NAME OF THE\n",
      "2021-05-13 15:33:31,609 : Heading Extraction ABASAGLAR_clean_ANNEX III.json_e : Validation Passed | H | CAP |  en | 2 | ABASAGLAR_clean_ANNEX III.json | currHeadId :- '22003' | currParentHeadId :- '22002.0' | prevParentHeadId :- '22002'\n",
      " ACTIVE SUBSTANCE(S)' | Qrd txt :- '2. STATEMENT OF ACTIVE SUBSTANCE(S)' | Matched :- 'True' | H | CAP |  en | 2 | ABASAGLAR_clean_ANNEX III.json | Doc txt :- '2.       STATEMENT OF\n",
      "2021-05-13 15:33:31,671 : Heading Extraction ABASAGLAR_clean_ANNEX III.json_e : Validation Passed | H | CAP |  en | 2 | ABASAGLAR_clean_ANNEX III.json | currHeadId :- '22004' | currParentHeadId :- '22002.0' | prevParentHeadId :- '22003'\n",
      "2021-05-13 15:33:31,701 : Heading Extraction ABASAGLAR_clean_ANNEX III.json_e : Match Passed | H | CAP |  en | 2 | ABASAGLAR_clean_ANNEX III.json | Doc txt :- '3.       LIST OF EXCIPIENTS' | Qrd txt :- '3. LIST OF EXCIPIENTS' | Matched :- 'True'\n",
      "2021-05-13 15:33:31,708 : Heading Extraction ABASAGLAR_clean_ANNEX III.json_e : Validation Passed | H | CAP |  en | 2 | ABASAGLAR_clean_ANNEX III.json | currHeadId :- '22005' | currParentHeadId :- '22002.0' | prevParentHeadId :- '22004'\n"
     ]
    },
    {
     "name": "stdout",
     "output_type": "stream",
     "text": [
      "-------------------Here1------------------------\n",
      "oooooooooooooooooooooooooooooooooooooooo END OF Sub Section oooooooooooooooooooooooooooooooooooooooooooooooooooooooooooo\n"
     ]
    },
    {
     "name": "stderr",
     "output_type": "stream",
     "text": [
      " FORM AND CONTENTS' | Qrd txt :- '4. PHARMACEUTICAL FORM AND CONTENTS' | Matched :- 'True'ed | H | CAP |  en | 2 | ABASAGLAR_clean_ANNEX III.json | Doc txt :- '4.       PHARMACEUTICAL\n",
      "2021-05-13 15:33:31,739 : Heading Extraction ABASAGLAR_clean_ANNEX III.json_e : Validation Passed | H | CAP |  en | 2 | ABASAGLAR_clean_ANNEX III.json | currHeadId :- '22006' | currParentHeadId :- '22002.0' | prevParentHeadId :- '22005'\n",
      " ROUTE(S) OF ADMINISTRATION' | Qrd txt :- '5. METHOD AND ROUTE(S) OF ADMINISTRATION' | Matched :- 'True'  en | 2 | ABASAGLAR_clean_ANNEX III.json | Doc txt :- '5.       METHOD AND\n",
      "2021-05-13 15:33:31,800 : Heading Extraction ABASAGLAR_clean_ANNEX III.json_e : Validation Passed | H | CAP |  en | 2 | ABASAGLAR_clean_ANNEX III.json | currHeadId :- '22007' | currParentHeadId :- '22002.0' | prevParentHeadId :- '22006'\n",
      " CHILDREN' | Qrd txt :- '6. SPECIAL WARNING THAT THE MEDICINAL PRODUCT MUST BE STORED OUT OF THE SIGHT AND REACH OF CHILDREN' | Matched :- 'True' | Doc txt :- '6.       SPECIAL WARNING\n",
      "2021-05-13 15:33:31,861 : Heading Extraction ABASAGLAR_clean_ANNEX III.json_e : Validation Passed | H | CAP |  en | 2 | ABASAGLAR_clean_ANNEX III.json | currHeadId :- '22008' | currParentHeadId :- '22002.0' | prevParentHeadId :- '22007'\n",
      " WARNING(S), IF NECESSARY' | Qrd txt :- '7. OTHER SPECIAL WARNING(S), IF NECESSARY' | Matched :- 'True'|  en | 2 | ABASAGLAR_clean_ANNEX III.json | Doc txt :- '7.       OTHER SPECIAL\n",
      "2021-05-13 15:33:31,906 : Heading Extraction ABASAGLAR_clean_ANNEX III.json_e : Validation Passed | H | CAP |  en | 2 | ABASAGLAR_clean_ANNEX III.json | currHeadId :- '22009' | currParentHeadId :- '22002.0' | prevParentHeadId :- '22008'\n",
      "2021-05-13 15:33:31,915 : Heading Extraction ABASAGLAR_clean_ANNEX III.json_e : Match Passed | H | CAP |  en | 2 | ABASAGLAR_clean_ANNEX III.json | Doc txt :- '8.       EXPIRY DATE' | Qrd txt :- '8. EXPIRY DATE' | Matched :- 'True'\n",
      "2021-05-13 15:33:31,923 : Heading Extraction ABASAGLAR_clean_ANNEX III.json_e : Validation Passed | H | CAP |  en | 2 | ABASAGLAR_clean_ANNEX III.json | currHeadId :- '22010' | currParentHeadId :- '22002.0' | prevParentHeadId :- '22009'\n",
      " STORAGE CONDITIONS' | Qrd txt :- '9. SPECIAL STORAGE CONDITIONS' | Matched :- 'True' Passed | H | CAP |  en | 2 | ABASAGLAR_clean_ANNEX III.json | Doc txt :- '9.       SPECIAL\n",
      "2021-05-13 15:33:31,975 : Heading Extraction ABASAGLAR_clean_ANNEX III.json_e : Validation Passed | H | CAP |  en | 2 | ABASAGLAR_clean_ANNEX III.json | currHeadId :- '22011' | currParentHeadId :- '22002.0' | prevParentHeadId :- '22010'\n",
      " APPROPRIATE' | Qrd txt :- '10. SPECIAL PRECAUTIONS FOR DISPOSAL OF UNUSED MEDICINAL PRODUCTS OR WASTE MATERIALS DERIVED FROM SUCH MEDICINAL PRODUCTS, IF APPROPRIATE' | Matched :- 'True'S FOR DISPOSAL OF UNUSED MEDICINAL\n",
      "2021-05-13 15:33:32,174 : Heading Extraction ABASAGLAR_clean_ANNEX III.json_e : Validation Passed | H | CAP |  en | 2 | ABASAGLAR_clean_ANNEX III.json | currHeadId :- '22012' | currParentHeadId :- '22002.0' | prevParentHeadId :- '22011'\n",
      "2021-05-13 15:33:32,186 : Heading Extraction ABASAGLAR_clean_ANNEX III.json_e : Match Passed | H | CAP |  en | 2 | ABASAGLAR_clean_ANNEX III.json | Doc txt :- '11.     NAME AND ADDRESS OF THE MARKETING AUTHORISATION HOLDER' | Qrd txt :- '11. NAME AND ADDRESS OF THE MARKETING AUTHORISATION HOLDER' | Matched :- 'True'\n",
      "2021-05-13 15:33:32,195 : Heading Extraction ABASAGLAR_clean_ANNEX III.json_e : Validation Passed | H | CAP |  en | 2 | ABASAGLAR_clean_ANNEX III.json | currHeadId :- '22013' | currParentHeadId :- '22002.0' | prevParentHeadId :- '22012'\n",
      "2021-05-13 15:33:32,275 : Heading Extraction ABASAGLAR_clean_ANNEX III.json_e : Match Passed | H | CAP |  en | 2 | ABASAGLAR_clean_ANNEX III.json | Doc txt :- '12.     MARKETING AUTHORISATION NUMBER(S) ' | Qrd txt :- '12. MARKETING AUTHORISATION NUMBER(S) ' | Matched :- 'True'\n",
      "2021-05-13 15:33:32,279 : Heading Extraction ABASAGLAR_clean_ANNEX III.json_e : Validation Passed | H | CAP |  en | 2 | ABASAGLAR_clean_ANNEX III.json | currHeadId :- '22014' | currParentHeadId :- '22002.0' | prevParentHeadId :- '22013'\n",
      "2021-05-13 15:33:32,348 : Heading Extraction ABASAGLAR_clean_ANNEX III.json_e : Match Passed | H | CAP |  en | 2 | ABASAGLAR_clean_ANNEX III.json | Doc txt :- '13.     BATCH NUMBER' | Qrd txt :- '13. BATCH NUMBER<, DONATION AND PRODUCT CODES>' | Matched :- 'True'\n",
      "2021-05-13 15:33:32,354 : Heading Extraction ABASAGLAR_clean_ANNEX III.json_e : Validation Passed | H | CAP |  en | 2 | ABASAGLAR_clean_ANNEX III.json | currHeadId :- '22015' | currParentHeadId :- '22002.0' | prevParentHeadId :- '22014'\n",
      "2021-05-13 15:33:32,370 : Heading Extraction ABASAGLAR_clean_ANNEX III.json_e : Match Passed | H | CAP |  en | 2 | ABASAGLAR_clean_ANNEX III.json | Doc txt :- '14.     GENERAL CLASSIFICATION FOR SUPPLY' | Qrd txt :- '14. GENERAL CLASSIFICATION FOR SUPPLY' | Matched :- 'True'\n",
      "2021-05-13 15:33:32,375 : Heading Extraction ABASAGLAR_clean_ANNEX III.json_e : Validation Passed | H | CAP |  en | 2 | ABASAGLAR_clean_ANNEX III.json | currHeadId :- '22016' | currParentHeadId :- '22002.0' | prevParentHeadId :- '22015'\n",
      "2021-05-13 15:33:32,395 : Heading Extraction ABASAGLAR_clean_ANNEX III.json_e : Match Passed | H | CAP |  en | 2 | ABASAGLAR_clean_ANNEX III.json | Doc txt :- '15.     INSTRUCTIONS ON USE' | Qrd txt :- '15. INSTRUCTIONS ON USE' | Matched :- 'True'\n",
      "2021-05-13 15:33:32,402 : Heading Extraction ABASAGLAR_clean_ANNEX III.json_e : Validation Passed | H | CAP |  en | 2 | ABASAGLAR_clean_ANNEX III.json | currHeadId :- '22017' | currParentHeadId :- '22002.0' | prevParentHeadId :- '22016'\n",
      "2021-05-13 15:33:32,464 : Heading Extraction ABASAGLAR_clean_ANNEX III.json_e : Match Passed | H | CAP |  en | 2 | ABASAGLAR_clean_ANNEX III.json | Doc txt :- '16.     INFORMATION IN BRAILLE' | Qrd txt :- '16. INFORMATION IN BRAILLE' | Matched :- 'True'\n",
      "2021-05-13 15:33:32,477 : Heading Extraction ABASAGLAR_clean_ANNEX III.json_e : Validation Passed | H | CAP |  en | 2 | ABASAGLAR_clean_ANNEX III.json | currHeadId :- '22018' | currParentHeadId :- '22002.0' | prevParentHeadId :- '22017'\n",
      "2021-05-13 15:33:32,549 : Heading Extraction ABASAGLAR_clean_ANNEX III.json_e : Match Passed | H | CAP |  en | 2 | ABASAGLAR_clean_ANNEX III.json | Doc txt :- '17.        UNIQUE IDENTIFIER – 2D BARCODE' | Qrd txt :- '17. UNIQUE IDENTIFIER – 2D BARCODE' | Matched :- 'True'\n",
      "2021-05-13 15:33:32,555 : Heading Extraction ABASAGLAR_clean_ANNEX III.json_e : Validation Passed | H | CAP |  en | 2 | ABASAGLAR_clean_ANNEX III.json | currHeadId :- '22019' | currParentHeadId :- '22002.0' | prevParentHeadId :- '22018'\n",
      "2021-05-13 15:33:32,572 : Heading Extraction ABASAGLAR_clean_ANNEX III.json_e : Match Passed | H | CAP |  en | 2 | ABASAGLAR_clean_ANNEX III.json | Doc txt :- '18.        UNIQUE IDENTIFIER - HUMAN READABLE DATA' | Qrd txt :- '18. UNIQUE IDENTIFIER - HUMAN READABLE DATA' | Matched :- 'True'\n",
      "2021-05-13 15:33:32,578 : Heading Extraction ABASAGLAR_clean_ANNEX III.json_e : Validation Passed | H | CAP |  en | 2 | ABASAGLAR_clean_ANNEX III.json | currHeadId :- '22020' | currParentHeadId :- '22002.0' | prevParentHeadId :- '22019'\n",
      "2021-05-13 15:33:32,601 : Heading Extraction ABASAGLAR_clean_ANNEX III.json_e : Match Passed | H | CAP |  en | 2 | ABASAGLAR_clean_ANNEX III.json | Doc txt :- 'MINIMUM PARTICULARS TO APPEAR ON SMALL IMMEDIATE PACKAGING UNITS' | Qrd txt :- 'MINIMUM PARTICULARS TO APPEAR ON SMALL IMMEDIATE PACKAGING UNITS' | Matched :- 'True'\n",
      "2021-05-13 15:33:32,610 : Heading Extraction ABASAGLAR_clean_ANNEX III.json_e : Validation Flow Is Broken | H | CAP |  en | 2 | ABASAGLAR_clean_ANNEX III.json | currHeadId :- '22027' | currParentHeadId :- '22001.0' | prevParentHeadId :- '22020'\n",
      "2021-05-13 15:33:32,614 : Heading Extraction ABASAGLAR_clean_ANNEX III.json_e : Validation Passed | H | CAP |  en | 2 | ABASAGLAR_clean_ANNEX III.json | currHeadId :- '22027' | currParentHeadId :- '22001.0' | prevParentHeadId :- '22020'\n",
      " ADMINISTRATION' | Qrd txt :- '1. NAME OF THE MEDICINAL PRODUCT AND ROUTE(S) OF ADMINISTRATION' | Matched :- 'True'ABASAGLAR_clean_ANNEX III.json | Doc txt :- '1.       NAME OF THE MEDICINAL PRODUCT AND ROUTE(S) OF\n",
      "2021-05-13 15:33:32,677 : Heading Extraction ABASAGLAR_clean_ANNEX III.json_e : Validation Passed | H | CAP |  en | 2 | ABASAGLAR_clean_ANNEX III.json | currHeadId :- '22028' | currParentHeadId :- '22027.0' | prevParentHeadId :- '22027'\n"
     ]
    },
    {
     "name": "stderr",
     "output_type": "stream",
     "text": [
      "2021-05-13 15:33:32,764 : Heading Extraction ABASAGLAR_clean_ANNEX III.json_e : Match Failed In Lowercase | H | CAP |  en | 2 | ABASAGLAR_clean_ANNEX III.json | Doc txt :- '2.       METHOD OF ADMINISTRATION' | Qrd txt :- '5. METHOD AND ROUTE(S) OF ADMINISTRATION' | Matched :- 'False'\n",
      "2021-05-13 15:33:32,786 : Heading Extraction ABASAGLAR_clean_ANNEX III.json_e : Match Passed | H | CAP |  en | 2 | ABASAGLAR_clean_ANNEX III.json | Doc txt :- '2.       METHOD OF ADMINISTRATION' | Qrd txt :- '2. METHOD OF ADMINISTRATION' | Matched :- 'True'\n",
      "2021-05-13 15:33:32,791 : Heading Extraction ABASAGLAR_clean_ANNEX III.json_e : Validation Passed | H | CAP |  en | 2 | ABASAGLAR_clean_ANNEX III.json | currHeadId :- '22029' | currParentHeadId :- '22027.0' | prevParentHeadId :- '22028'\n",
      "2021-05-13 15:33:32,821 : Heading Extraction ABASAGLAR_clean_ANNEX III.json_e : Match Passed | H | CAP |  en | 2 | ABASAGLAR_clean_ANNEX III.json | Doc txt :- '3.       EXPIRY DATE' | Qrd txt :- '8. EXPIRY DATE' | Matched :- 'True'\n",
      "2021-05-13 15:33:32,825 : Heading Extraction ABASAGLAR_clean_ANNEX III.json_e : Validation Failed As Previous Heading Found is not matching | H | CAP |  en | 2 | ABASAGLAR_clean_ANNEX III.json | currHeadId :- '22010' | currParentHeadId :- '22002.0' | prevParentHeadId :- '22029'\n",
      "2021-05-13 15:33:32,859 : Heading Extraction ABASAGLAR_clean_ANNEX III.json_e : Match Passed | H | CAP |  en | 2 | ABASAGLAR_clean_ANNEX III.json | Doc txt :- '3.       EXPIRY DATE' | Qrd txt :- '3. EXPIRY DATE' | Matched :- 'True'\n",
      "2021-05-13 15:33:32,869 : Heading Extraction ABASAGLAR_clean_ANNEX III.json_e : Validation Failed As Wrong Heading Found | H | CAP |  en | 2 | ABASAGLAR_clean_ANNEX III.json | currHeadId :- '22024' | currParentHeadId :- '22021.0' | prevParentHeadId :- '22029'\n",
      "2021-05-13 15:33:32,877 : Heading Extraction ABASAGLAR_clean_ANNEX III.json_e : Match Passed | H | CAP |  en | 2 | ABASAGLAR_clean_ANNEX III.json | Doc txt :- '3.       EXPIRY DATE' | Qrd txt :- '3. EXPIRY DATE' | Matched :- 'True'\n",
      "2021-05-13 15:33:32,884 : Heading Extraction ABASAGLAR_clean_ANNEX III.json_e : Validation Passed | H | CAP |  en | 2 | ABASAGLAR_clean_ANNEX III.json | currHeadId :- '22030' | currParentHeadId :- '22027.0' | prevParentHeadId :- '22029'\n",
      "2021-05-13 15:33:32,908 : Heading Extraction ABASAGLAR_clean_ANNEX III.json_e : Match Passed | H | CAP |  en | 2 | ABASAGLAR_clean_ANNEX III.json | Doc txt :- '4.       BATCH NUMBER' | Qrd txt :- '13. BATCH NUMBER<, DONATION AND PRODUCT CODES>' | Matched :- 'True'\n",
      "2021-05-13 15:33:32,914 : Heading Extraction ABASAGLAR_clean_ANNEX III.json_e : Validation Failed As Previous Heading Found is not matching | H | CAP |  en | 2 | ABASAGLAR_clean_ANNEX III.json | currHeadId :- '22015' | currParentHeadId :- '22002.0' | prevParentHeadId :- '22030'\n",
      "2021-05-13 15:33:32,928 : Heading Extraction ABASAGLAR_clean_ANNEX III.json_e : Match Passed | H | CAP |  en | 2 | ABASAGLAR_clean_ANNEX III.json | Doc txt :- '4.       BATCH NUMBER' | Qrd txt :- '4. BATCH NUMBER<, DONATION AND PRODUCT CODES>' | Matched :- 'True'\n",
      "2021-05-13 15:33:32,934 : Heading Extraction ABASAGLAR_clean_ANNEX III.json_e : Validation Failed As Wrong Heading Found | H | CAP |  en | 2 | ABASAGLAR_clean_ANNEX III.json | currHeadId :- '22025' | currParentHeadId :- '22021.0' | prevParentHeadId :- '22030'\n"
     ]
    },
    {
     "name": "stdout",
     "output_type": "stream",
     "text": [
      "\n",
      "OriginalCheck\n",
      "\n"
     ]
    },
    {
     "name": "stderr",
     "output_type": "stream",
     "text": [
      "2021-05-13 15:33:32,946 : Heading Extraction ABASAGLAR_clean_ANNEX III.json_e : Match Passed | H | CAP |  en | 2 | ABASAGLAR_clean_ANNEX III.json | Doc txt :- '4.       BATCH NUMBER' | Qrd txt :- '4. BATCH NUMBER<, DONATION AND PRODUCT CODES>' | Matched :- 'True'\n",
      "2021-05-13 15:33:32,953 : Heading Extraction ABASAGLAR_clean_ANNEX III.json_e : Validation Passed | H | CAP |  en | 2 | ABASAGLAR_clean_ANNEX III.json | currHeadId :- '22031' | currParentHeadId :- '22027.0' | prevParentHeadId :- '22030'\n",
      "2021-05-13 15:33:32,991 : Heading Extraction ABASAGLAR_clean_ANNEX III.json_e : Match Passed | H | CAP |  en | 2 | ABASAGLAR_clean_ANNEX III.json | Doc txt :- '5.       CONTENTS BY WEIGHT, BY VOLUME OR BY UNIT' | Qrd txt :- '5. CONTENTS BY WEIGHT, BY VOLUME OR BY UNIT' | Matched :- 'True'\n",
      "2021-05-13 15:33:32,997 : Heading Extraction ABASAGLAR_clean_ANNEX III.json_e : Validation Passed | H | CAP |  en | 2 | ABASAGLAR_clean_ANNEX III.json | currHeadId :- '22032' | currParentHeadId :- '22027.0' | prevParentHeadId :- '22031'\n",
      "2021-05-13 15:33:33,020 : Heading Extraction ABASAGLAR_clean_ANNEX III.json_e : Match Failed | H | CAP |  en | 2 | ABASAGLAR_clean_ANNEX III.json | Doc txt :- '6.       OTHER' | Qrd txt :- '5. OTHER' | Matched :- 'False'\n",
      "2021-05-13 15:33:33,026 : Heading Extraction ABASAGLAR_clean_ANNEX III.json_e : Match Passed | H | CAP |  en | 2 | ABASAGLAR_clean_ANNEX III.json | Doc txt :- '6.       OTHER' | Qrd txt :- '6. OTHER' | Matched :- 'True'\n",
      "2021-05-13 15:33:33,030 : Heading Extraction ABASAGLAR_clean_ANNEX III.json_e : Validation Passed | H | CAP |  en | 2 | ABASAGLAR_clean_ANNEX III.json | currHeadId :- '22033' | currParentHeadId :- '22027.0' | prevParentHeadId :- '22032'\n",
      "2021-05-13 15:33:33,033 : Heading Extraction ABASAGLAR_clean_ANNEX III.json_e : Match Passed | H | CAP |  en | 2 | ABASAGLAR_clean_ANNEX III.json | Doc txt :- 'PARTICULARS TO APPEAR ON THE OUTER PACKAGING' | Qrd txt :- 'PARTICULARS TO APPEAR ON <THE OUTER PACKAGING> <AND> <THE IMMEDIATE PACKAGING>' | Matched :- 'True'\n",
      "2021-05-13 15:33:33,038 : Heading Extraction ABASAGLAR_clean_ANNEX III.json_e : Validation Failed As Wrong Heading Found | H | CAP |  en | 2 | ABASAGLAR_clean_ANNEX III.json | currHeadId :- '22002' | currParentHeadId :- '22001.0' | prevParentHeadId :- '22033'\n",
      "2021-05-13 15:33:33,063 : Heading Extraction ABASAGLAR_clean_ANNEX III.json_e : End Of Sub Section | H | CAP |  en | 2 | ABASAGLAR_clean_ANNEX III.json\n",
      "2021-05-13 15:33:33,065 : Heading Extraction ABASAGLAR_clean_ANNEX III.json_e : Match Passed | H | CAP |  en | 2 | ABASAGLAR_clean_ANNEX III.json | Doc txt :- 'PARTICULARS TO APPEAR ON THE OUTER PACKAGING' | Qrd txt :- 'PARTICULARS TO APPEAR ON <THE OUTER PACKAGING> <AND> <THE IMMEDIATE PACKAGING>' | Matched :- 'True'\n",
      "2021-05-13 15:33:33,070 : Heading Extraction ABASAGLAR_clean_ANNEX III.json_e : Validation Passed As This The First Heading | H | CAP |  en | 2 | ABASAGLAR_clean_ANNEX III.json | currHeadId :- '22002' | currParentHeadId :- '22001.0' | prevParentHeadId :- ''\n",
      " MEDICINAL PRODUCT' | Qrd txt :- '1. NAME OF THE MEDICINAL PRODUCT' | Matched :- 'True'assed | H | CAP |  en | 2 | ABASAGLAR_clean_ANNEX III.json | Doc txt :- '1.       NAME OF THE\n",
      "2021-05-13 15:33:33,105 : Heading Extraction ABASAGLAR_clean_ANNEX III.json_e : Validation Passed | H | CAP |  en | 2 | ABASAGLAR_clean_ANNEX III.json | currHeadId :- '22003' | currParentHeadId :- '22002.0' | prevParentHeadId :- '22002'\n",
      " SUBSTANCE(S)' | Qrd txt :- '2. STATEMENT OF ACTIVE SUBSTANCE(S)' | Matched :- 'True' Passed | H | CAP |  en | 2 | ABASAGLAR_clean_ANNEX III.json | Doc txt :- '2.       STATEMENT OF ACTIVE\n",
      "2021-05-13 15:33:33,163 : Heading Extraction ABASAGLAR_clean_ANNEX III.json_e : Validation Passed | H | CAP |  en | 2 | ABASAGLAR_clean_ANNEX III.json | currHeadId :- '22004' | currParentHeadId :- '22002.0' | prevParentHeadId :- '22003'\n",
      "2021-05-13 15:33:33,188 : Heading Extraction ABASAGLAR_clean_ANNEX III.json_e : Match Passed | H | CAP |  en | 2 | ABASAGLAR_clean_ANNEX III.json | Doc txt :- '3.       LIST OF EXCIPIENTS' | Qrd txt :- '3. LIST OF EXCIPIENTS' | Matched :- 'True'\n",
      "2021-05-13 15:33:33,192 : Heading Extraction ABASAGLAR_clean_ANNEX III.json_e : Validation Passed | H | CAP |  en | 2 | ABASAGLAR_clean_ANNEX III.json | currHeadId :- '22005' | currParentHeadId :- '22002.0' | prevParentHeadId :- '22004'\n",
      " FORM AND CONTENTS' | Qrd txt :- '4. PHARMACEUTICAL FORM AND CONTENTS' | Matched :- 'True'ed | H | CAP |  en | 2 | ABASAGLAR_clean_ANNEX III.json | Doc txt :- '4.       PHARMACEUTICAL\n",
      "2021-05-13 15:33:33,217 : Heading Extraction ABASAGLAR_clean_ANNEX III.json_e : Validation Passed | H | CAP |  en | 2 | ABASAGLAR_clean_ANNEX III.json | currHeadId :- '22006' | currParentHeadId :- '22002.0' | prevParentHeadId :- '22005'\n"
     ]
    },
    {
     "name": "stdout",
     "output_type": "stream",
     "text": [
      "oooooooooooooooooooooooooooooooooooooooo END OF Sub Section oooooooooooooooooooooooooooooooooooooooooooooooooooooooooooo\n"
     ]
    },
    {
     "name": "stderr",
     "output_type": "stream",
     "text": [
      " ROUTE(S) OF ADMINISTRATION' | Qrd txt :- '5. METHOD AND ROUTE(S) OF ADMINISTRATION' | Matched :- 'True'  en | 2 | ABASAGLAR_clean_ANNEX III.json | Doc txt :- '5.       METHOD AND\n",
      "2021-05-13 15:33:33,284 : Heading Extraction ABASAGLAR_clean_ANNEX III.json_e : Validation Passed | H | CAP |  en | 2 | ABASAGLAR_clean_ANNEX III.json | currHeadId :- '22007' | currParentHeadId :- '22002.0' | prevParentHeadId :- '22006'\n",
      " CHILDREN' | Qrd txt :- '6. SPECIAL WARNING THAT THE MEDICINAL PRODUCT MUST BE STORED OUT OF THE SIGHT AND REACH OF CHILDREN' | Matched :- 'True' | Doc txt :- '6.       SPECIAL WARNING\n",
      "2021-05-13 15:33:33,347 : Heading Extraction ABASAGLAR_clean_ANNEX III.json_e : Validation Passed | H | CAP |  en | 2 | ABASAGLAR_clean_ANNEX III.json | currHeadId :- '22008' | currParentHeadId :- '22002.0' | prevParentHeadId :- '22007'\n",
      " WARNING(S), IF NECESSARY' | Qrd txt :- '7. OTHER SPECIAL WARNING(S), IF NECESSARY' | Matched :- 'True'|  en | 2 | ABASAGLAR_clean_ANNEX III.json | Doc txt :- '7.       OTHER SPECIAL\n",
      "2021-05-13 15:33:33,387 : Heading Extraction ABASAGLAR_clean_ANNEX III.json_e : Validation Passed | H | CAP |  en | 2 | ABASAGLAR_clean_ANNEX III.json | currHeadId :- '22009' | currParentHeadId :- '22002.0' | prevParentHeadId :- '22008'\n",
      "2021-05-13 15:33:33,401 : Heading Extraction ABASAGLAR_clean_ANNEX III.json_e : Match Passed | H | CAP |  en | 2 | ABASAGLAR_clean_ANNEX III.json | Doc txt :- '8.       EXPIRY DATE' | Qrd txt :- '8. EXPIRY DATE' | Matched :- 'True'\n",
      "2021-05-13 15:33:33,409 : Heading Extraction ABASAGLAR_clean_ANNEX III.json_e : Validation Passed | H | CAP |  en | 2 | ABASAGLAR_clean_ANNEX III.json | currHeadId :- '22010' | currParentHeadId :- '22002.0' | prevParentHeadId :- '22009'\n",
      " STORAGE CONDITIONS' | Qrd txt :- '9. SPECIAL STORAGE CONDITIONS' | Matched :- 'True' Passed | H | CAP |  en | 2 | ABASAGLAR_clean_ANNEX III.json | Doc txt :- '9.       SPECIAL\n",
      "2021-05-13 15:33:33,449 : Heading Extraction ABASAGLAR_clean_ANNEX III.json_e : Validation Passed | H | CAP |  en | 2 | ABASAGLAR_clean_ANNEX III.json | currHeadId :- '22011' | currParentHeadId :- '22002.0' | prevParentHeadId :- '22010'\n",
      " APPROPRIATE' | Qrd txt :- '10. SPECIAL PRECAUTIONS FOR DISPOSAL OF UNUSED MEDICINAL PRODUCTS OR WASTE MATERIALS DERIVED FROM SUCH MEDICINAL PRODUCTS, IF APPROPRIATE' | Matched :- 'True'S FOR DISPOSAL OF UNUSED MEDICINAL\n",
      "2021-05-13 15:33:33,675 : Heading Extraction ABASAGLAR_clean_ANNEX III.json_e : Validation Passed | H | CAP |  en | 2 | ABASAGLAR_clean_ANNEX III.json | currHeadId :- '22012' | currParentHeadId :- '22002.0' | prevParentHeadId :- '22011'\n",
      "2021-05-13 15:33:33,687 : Heading Extraction ABASAGLAR_clean_ANNEX III.json_e : Match Passed | H | CAP |  en | 2 | ABASAGLAR_clean_ANNEX III.json | Doc txt :- '11.     NAME AND ADDRESS OF THE MARKETING AUTHORISATION HOLDER' | Qrd txt :- '11. NAME AND ADDRESS OF THE MARKETING AUTHORISATION HOLDER' | Matched :- 'True'\n",
      "2021-05-13 15:33:33,692 : Heading Extraction ABASAGLAR_clean_ANNEX III.json_e : Validation Passed | H | CAP |  en | 2 | ABASAGLAR_clean_ANNEX III.json | currHeadId :- '22013' | currParentHeadId :- '22002.0' | prevParentHeadId :- '22012'\n",
      "2021-05-13 15:33:33,799 : Heading Extraction ABASAGLAR_clean_ANNEX III.json_e : Match Passed | H | CAP |  en | 2 | ABASAGLAR_clean_ANNEX III.json | Doc txt :- '12.     MARKETING AUTHORISATION NUMBER(S) ' | Qrd txt :- '12. MARKETING AUTHORISATION NUMBER(S) ' | Matched :- 'True'\n",
      "2021-05-13 15:33:33,806 : Heading Extraction ABASAGLAR_clean_ANNEX III.json_e : Validation Passed | H | CAP |  en | 2 | ABASAGLAR_clean_ANNEX III.json | currHeadId :- '22014' | currParentHeadId :- '22002.0' | prevParentHeadId :- '22013'\n",
      "2021-05-13 15:33:33,865 : Heading Extraction ABASAGLAR_clean_ANNEX III.json_e : Match Passed | H | CAP |  en | 2 | ABASAGLAR_clean_ANNEX III.json | Doc txt :- '13.     BATCH NUMBER' | Qrd txt :- '13. BATCH NUMBER<, DONATION AND PRODUCT CODES>' | Matched :- 'True'\n",
      "2021-05-13 15:33:33,872 : Heading Extraction ABASAGLAR_clean_ANNEX III.json_e : Validation Passed | H | CAP |  en | 2 | ABASAGLAR_clean_ANNEX III.json | currHeadId :- '22015' | currParentHeadId :- '22002.0' | prevParentHeadId :- '22014'\n",
      "2021-05-13 15:33:33,892 : Heading Extraction ABASAGLAR_clean_ANNEX III.json_e : Match Passed | H | CAP |  en | 2 | ABASAGLAR_clean_ANNEX III.json | Doc txt :- '14.     GENERAL CLASSIFICATION FOR SUPPLY' | Qrd txt :- '14. GENERAL CLASSIFICATION FOR SUPPLY' | Matched :- 'True'\n",
      "2021-05-13 15:33:33,898 : Heading Extraction ABASAGLAR_clean_ANNEX III.json_e : Validation Passed | H | CAP |  en | 2 | ABASAGLAR_clean_ANNEX III.json | currHeadId :- '22016' | currParentHeadId :- '22002.0' | prevParentHeadId :- '22015'\n",
      "2021-05-13 15:33:33,918 : Heading Extraction ABASAGLAR_clean_ANNEX III.json_e : Match Passed | H | CAP |  en | 2 | ABASAGLAR_clean_ANNEX III.json | Doc txt :- '15.     INSTRUCTIONS ON USE' | Qrd txt :- '15. INSTRUCTIONS ON USE' | Matched :- 'True'\n",
      "2021-05-13 15:33:33,924 : Heading Extraction ABASAGLAR_clean_ANNEX III.json_e : Validation Passed | H | CAP |  en | 2 | ABASAGLAR_clean_ANNEX III.json | currHeadId :- '22017' | currParentHeadId :- '22002.0' | prevParentHeadId :- '22016'\n",
      "2021-05-13 15:33:33,942 : Heading Extraction ABASAGLAR_clean_ANNEX III.json_e : Match Passed | H | CAP |  en | 2 | ABASAGLAR_clean_ANNEX III.json | Doc txt :- '16.     INFORMATION IN BRAILLE' | Qrd txt :- '16. INFORMATION IN BRAILLE' | Matched :- 'True'\n",
      "2021-05-13 15:33:33,952 : Heading Extraction ABASAGLAR_clean_ANNEX III.json_e : Validation Passed | H | CAP |  en | 2 | ABASAGLAR_clean_ANNEX III.json | currHeadId :- '22018' | currParentHeadId :- '22002.0' | prevParentHeadId :- '22017'\n",
      "2021-05-13 15:33:34,007 : Heading Extraction ABASAGLAR_clean_ANNEX III.json_e : Match Passed | H | CAP |  en | 2 | ABASAGLAR_clean_ANNEX III.json | Doc txt :- '17.        UNIQUE IDENTIFIER – 2D BARCODE' | Qrd txt :- '17. UNIQUE IDENTIFIER – 2D BARCODE' | Matched :- 'True'\n",
      "2021-05-13 15:33:34,016 : Heading Extraction ABASAGLAR_clean_ANNEX III.json_e : Validation Passed | H | CAP |  en | 2 | ABASAGLAR_clean_ANNEX III.json | currHeadId :- '22019' | currParentHeadId :- '22002.0' | prevParentHeadId :- '22018'\n",
      " READABLE DATA' | Qrd txt :- '18. UNIQUE IDENTIFIER - HUMAN READABLE DATA' | Matched :- 'True' H | CAP |  en | 2 | ABASAGLAR_clean_ANNEX III.json | Doc txt :- '18.        UNIQUE IDENTIFIER - HUMAN\n",
      "2021-05-13 15:33:34,071 : Heading Extraction ABASAGLAR_clean_ANNEX III.json_e : Validation Passed | H | CAP |  en | 2 | ABASAGLAR_clean_ANNEX III.json | currHeadId :- '22020' | currParentHeadId :- '22002.0' | prevParentHeadId :- '22019'\n",
      "2021-05-13 15:33:34,075 : Heading Extraction ABASAGLAR_clean_ANNEX III.json_e : Match Passed | H | CAP |  en | 2 | ABASAGLAR_clean_ANNEX III.json | Doc txt :- 'PARTICULARS TO APPEAR ON THE OUTER PACKAGING ' | Qrd txt :- 'PARTICULARS TO APPEAR ON <THE OUTER PACKAGING> <AND> <THE IMMEDIATE PACKAGING>' | Matched :- 'True'\n",
      "2021-05-13 15:33:34,080 : Heading Extraction ABASAGLAR_clean_ANNEX III.json_e : Validation Failed Top Heading Found After Bottom Headings | H | CAP |  en | 2 | ABASAGLAR_clean_ANNEX III.json | currHeadId :- '22002' | currParentHeadId :- '22001.0' | prevParentHeadId :- '22020'\n",
      "2021-05-13 15:33:34,110 : Heading Extraction ABASAGLAR_clean_ANNEX III.json_e : End Of Sub Section | H | CAP |  en | 2 | ABASAGLAR_clean_ANNEX III.json\n",
      "2021-05-13 15:33:34,114 : Heading Extraction ABASAGLAR_clean_ANNEX III.json_e : Match Passed | H | CAP |  en | 2 | ABASAGLAR_clean_ANNEX III.json | Doc txt :- 'PARTICULARS TO APPEAR ON THE OUTER PACKAGING ' | Qrd txt :- 'PARTICULARS TO APPEAR ON <THE OUTER PACKAGING> <AND> <THE IMMEDIATE PACKAGING>' | Matched :- 'True'\n",
      "2021-05-13 15:33:34,117 : Heading Extraction ABASAGLAR_clean_ANNEX III.json_e : Validation Passed As Current Heading Is Same As Previous H1 Heading | H | CAP |  en | 2 | ABASAGLAR_clean_ANNEX III.json | currHeadId :- '22002' | currParentHeadId :- '22001.0' | prevParentHeadId :- ''\n",
      " MEDICINAL PRODUCT' | Qrd txt :- '1. NAME OF THE MEDICINAL PRODUCT' | Matched :- 'True'assed | H | CAP |  en | 2 | ABASAGLAR_clean_ANNEX III.json | Doc txt :- '1.       NAME OF THE\n",
      "2021-05-13 15:33:34,151 : Heading Extraction ABASAGLAR_clean_ANNEX III.json_e : Validation Passed | H | CAP |  en | 2 | ABASAGLAR_clean_ANNEX III.json | currHeadId :- '22003' | currParentHeadId :- '22002.0' | prevParentHeadId :- '22002'\n"
     ]
    },
    {
     "name": "stderr",
     "output_type": "stream",
     "text": [
      " ACTIVE SUBSTANCE(S)' | Qrd txt :- '2. STATEMENT OF ACTIVE SUBSTANCE(S)' | Matched :- 'True' | H | CAP |  en | 2 | ABASAGLAR_clean_ANNEX III.json | Doc txt :- '2.       STATEMENT OF\n",
      "2021-05-13 15:33:34,214 : Heading Extraction ABASAGLAR_clean_ANNEX III.json_e : Validation Passed | H | CAP |  en | 2 | ABASAGLAR_clean_ANNEX III.json | currHeadId :- '22004' | currParentHeadId :- '22002.0' | prevParentHeadId :- '22003'\n",
      "2021-05-13 15:33:34,250 : Heading Extraction ABASAGLAR_clean_ANNEX III.json_e : Match Passed | H | CAP |  en | 2 | ABASAGLAR_clean_ANNEX III.json | Doc txt :- '3.       LIST OF EXCIPIENTS' | Qrd txt :- '3. LIST OF EXCIPIENTS' | Matched :- 'True'\n",
      "2021-05-13 15:33:34,255 : Heading Extraction ABASAGLAR_clean_ANNEX III.json_e : Validation Passed | H | CAP |  en | 2 | ABASAGLAR_clean_ANNEX III.json | currHeadId :- '22005' | currParentHeadId :- '22002.0' | prevParentHeadId :- '22004'\n"
     ]
    },
    {
     "name": "stdout",
     "output_type": "stream",
     "text": [
      "-------------------Here1------------------------\n",
      "oooooooooooooooooooooooooooooooooooooooo END OF Sub Section oooooooooooooooooooooooooooooooooooooooooooooooooooooooooooo\n"
     ]
    },
    {
     "name": "stderr",
     "output_type": "stream",
     "text": [
      " FORM AND CONTENTS' | Qrd txt :- '4. PHARMACEUTICAL FORM AND CONTENTS' | Matched :- 'True'ed | H | CAP |  en | 2 | ABASAGLAR_clean_ANNEX III.json | Doc txt :- '4.       PHARMACEUTICAL\n",
      "2021-05-13 15:33:34,280 : Heading Extraction ABASAGLAR_clean_ANNEX III.json_e : Validation Passed | H | CAP |  en | 2 | ABASAGLAR_clean_ANNEX III.json | currHeadId :- '22006' | currParentHeadId :- '22002.0' | prevParentHeadId :- '22005'\n",
      " ROUTE(S) OF ADMINISTRATION' | Qrd txt :- '5. METHOD AND ROUTE(S) OF ADMINISTRATION' | Matched :- 'True'  en | 2 | ABASAGLAR_clean_ANNEX III.json | Doc txt :- '5.       METHOD AND\n",
      "2021-05-13 15:33:34,340 : Heading Extraction ABASAGLAR_clean_ANNEX III.json_e : Validation Passed | H | CAP |  en | 2 | ABASAGLAR_clean_ANNEX III.json | currHeadId :- '22007' | currParentHeadId :- '22002.0' | prevParentHeadId :- '22006'\n",
      " CHILDREN' | Qrd txt :- '6. SPECIAL WARNING THAT THE MEDICINAL PRODUCT MUST BE STORED OUT OF THE SIGHT AND REACH OF CHILDREN' | Matched :- 'True' | Doc txt :- '6.       SPECIAL WARNING\n",
      "2021-05-13 15:33:34,394 : Heading Extraction ABASAGLAR_clean_ANNEX III.json_e : Validation Passed | H | CAP |  en | 2 | ABASAGLAR_clean_ANNEX III.json | currHeadId :- '22008' | currParentHeadId :- '22002.0' | prevParentHeadId :- '22007'\n",
      " WARNING(S), IF NECESSARY' | Qrd txt :- '7. OTHER SPECIAL WARNING(S), IF NECESSARY' | Matched :- 'True'|  en | 2 | ABASAGLAR_clean_ANNEX III.json | Doc txt :- '7.       OTHER SPECIAL\n",
      "2021-05-13 15:33:34,436 : Heading Extraction ABASAGLAR_clean_ANNEX III.json_e : Validation Passed | H | CAP |  en | 2 | ABASAGLAR_clean_ANNEX III.json | currHeadId :- '22009' | currParentHeadId :- '22002.0' | prevParentHeadId :- '22008'\n",
      "2021-05-13 15:33:34,449 : Heading Extraction ABASAGLAR_clean_ANNEX III.json_e : Match Passed | H | CAP |  en | 2 | ABASAGLAR_clean_ANNEX III.json | Doc txt :- '8.       EXPIRY DATE' | Qrd txt :- '8. EXPIRY DATE' | Matched :- 'True'\n",
      "2021-05-13 15:33:34,456 : Heading Extraction ABASAGLAR_clean_ANNEX III.json_e : Validation Passed | H | CAP |  en | 2 | ABASAGLAR_clean_ANNEX III.json | currHeadId :- '22010' | currParentHeadId :- '22002.0' | prevParentHeadId :- '22009'\n",
      " STORAGE CONDITIONS' | Qrd txt :- '9. SPECIAL STORAGE CONDITIONS' | Matched :- 'True' Passed | H | CAP |  en | 2 | ABASAGLAR_clean_ANNEX III.json | Doc txt :- '9.       SPECIAL\n",
      "2021-05-13 15:33:34,499 : Heading Extraction ABASAGLAR_clean_ANNEX III.json_e : Validation Passed | H | CAP |  en | 2 | ABASAGLAR_clean_ANNEX III.json | currHeadId :- '22011' | currParentHeadId :- '22002.0' | prevParentHeadId :- '22010'\n",
      " APPROPRIATE' | Qrd txt :- '10. SPECIAL PRECAUTIONS FOR DISPOSAL OF UNUSED MEDICINAL PRODUCTS OR WASTE MATERIALS DERIVED FROM SUCH MEDICINAL PRODUCTS, IF APPROPRIATE' | Matched :- 'True'S FOR DISPOSAL OF UNUSED MEDICINAL\n",
      "2021-05-13 15:33:34,701 : Heading Extraction ABASAGLAR_clean_ANNEX III.json_e : Validation Passed | H | CAP |  en | 2 | ABASAGLAR_clean_ANNEX III.json | currHeadId :- '22012' | currParentHeadId :- '22002.0' | prevParentHeadId :- '22011'\n",
      "2021-05-13 15:33:34,724 : Heading Extraction ABASAGLAR_clean_ANNEX III.json_e : Match Passed | H | CAP |  en | 2 | ABASAGLAR_clean_ANNEX III.json | Doc txt :- '11.     NAME AND ADDRESS OF THE MARKETING AUTHORISATION HOLDER' | Qrd txt :- '11. NAME AND ADDRESS OF THE MARKETING AUTHORISATION HOLDER' | Matched :- 'True'\n",
      "2021-05-13 15:33:34,732 : Heading Extraction ABASAGLAR_clean_ANNEX III.json_e : Validation Passed | H | CAP |  en | 2 | ABASAGLAR_clean_ANNEX III.json | currHeadId :- '22013' | currParentHeadId :- '22002.0' | prevParentHeadId :- '22012'\n",
      "2021-05-13 15:33:34,863 : Heading Extraction ABASAGLAR_clean_ANNEX III.json_e : Match Passed | H | CAP |  en | 2 | ABASAGLAR_clean_ANNEX III.json | Doc txt :- '12.     MARKETING AUTHORISATION NUMBER(S) ' | Qrd txt :- '12. MARKETING AUTHORISATION NUMBER(S) ' | Matched :- 'True'\n",
      "2021-05-13 15:33:34,869 : Heading Extraction ABASAGLAR_clean_ANNEX III.json_e : Validation Passed | H | CAP |  en | 2 | ABASAGLAR_clean_ANNEX III.json | currHeadId :- '22014' | currParentHeadId :- '22002.0' | prevParentHeadId :- '22013'\n",
      "2021-05-13 15:33:34,924 : Heading Extraction ABASAGLAR_clean_ANNEX III.json_e : Match Passed | H | CAP |  en | 2 | ABASAGLAR_clean_ANNEX III.json | Doc txt :- '13.     BATCH NUMBER' | Qrd txt :- '13. BATCH NUMBER<, DONATION AND PRODUCT CODES>' | Matched :- 'True'\n",
      "2021-05-13 15:33:34,930 : Heading Extraction ABASAGLAR_clean_ANNEX III.json_e : Validation Passed | H | CAP |  en | 2 | ABASAGLAR_clean_ANNEX III.json | currHeadId :- '22015' | currParentHeadId :- '22002.0' | prevParentHeadId :- '22014'\n",
      "2021-05-13 15:33:34,949 : Heading Extraction ABASAGLAR_clean_ANNEX III.json_e : Match Passed | H | CAP |  en | 2 | ABASAGLAR_clean_ANNEX III.json | Doc txt :- '14.     GENERAL CLASSIFICATION FOR SUPPLY' | Qrd txt :- '14. GENERAL CLASSIFICATION FOR SUPPLY' | Matched :- 'True'\n",
      "2021-05-13 15:33:34,956 : Heading Extraction ABASAGLAR_clean_ANNEX III.json_e : Validation Passed | H | CAP |  en | 2 | ABASAGLAR_clean_ANNEX III.json | currHeadId :- '22016' | currParentHeadId :- '22002.0' | prevParentHeadId :- '22015'\n",
      "2021-05-13 15:33:34,982 : Heading Extraction ABASAGLAR_clean_ANNEX III.json_e : Match Passed | H | CAP |  en | 2 | ABASAGLAR_clean_ANNEX III.json | Doc txt :- '15.     INSTRUCTIONS ON USE' | Qrd txt :- '15. INSTRUCTIONS ON USE' | Matched :- 'True'\n",
      "2021-05-13 15:33:34,992 : Heading Extraction ABASAGLAR_clean_ANNEX III.json_e : Validation Passed | H | CAP |  en | 2 | ABASAGLAR_clean_ANNEX III.json | currHeadId :- '22017' | currParentHeadId :- '22002.0' | prevParentHeadId :- '22016'\n",
      "2021-05-13 15:33:35,017 : Heading Extraction ABASAGLAR_clean_ANNEX III.json_e : Match Passed | H | CAP |  en | 2 | ABASAGLAR_clean_ANNEX III.json | Doc txt :- '16.     INFORMATION IN BRAILLE' | Qrd txt :- '16. INFORMATION IN BRAILLE' | Matched :- 'True'\n",
      "2021-05-13 15:33:35,024 : Heading Extraction ABASAGLAR_clean_ANNEX III.json_e : Validation Passed | H | CAP |  en | 2 | ABASAGLAR_clean_ANNEX III.json | currHeadId :- '22018' | currParentHeadId :- '22002.0' | prevParentHeadId :- '22017'\n",
      "2021-05-13 15:33:35,085 : Heading Extraction ABASAGLAR_clean_ANNEX III.json_e : Match Passed | H | CAP |  en | 2 | ABASAGLAR_clean_ANNEX III.json | Doc txt :- '17.        UNIQUE IDENTIFIER – 2D BARCODE' | Qrd txt :- '17. UNIQUE IDENTIFIER – 2D BARCODE' | Matched :- 'True'\n",
      "2021-05-13 15:33:35,093 : Heading Extraction ABASAGLAR_clean_ANNEX III.json_e : Validation Passed | H | CAP |  en | 2 | ABASAGLAR_clean_ANNEX III.json | currHeadId :- '22019' | currParentHeadId :- '22002.0' | prevParentHeadId :- '22018'\n",
      " DATA' | Qrd txt :- '18. UNIQUE IDENTIFIER - HUMAN READABLE DATA' | Matched :- 'True' Passed | H | CAP |  en | 2 | ABASAGLAR_clean_ANNEX III.json | Doc txt :- '18.        UNIQUE IDENTIFIER - HUMAN READABLE\n",
      "2021-05-13 15:33:35,146 : Heading Extraction ABASAGLAR_clean_ANNEX III.json_e : Validation Passed | H | CAP |  en | 2 | ABASAGLAR_clean_ANNEX III.json | currHeadId :- '22020' | currParentHeadId :- '22002.0' | prevParentHeadId :- '22019'\n",
      "2021-05-13 15:33:35,150 : Heading Extraction ABASAGLAR_clean_ANNEX III.json_e : Match Passed | H | CAP |  en | 2 | ABASAGLAR_clean_ANNEX III.json | Doc txt :- 'PARTICULARS TO APPEAR ON THE OUTER PACKAGING ' | Qrd txt :- 'PARTICULARS TO APPEAR ON <THE OUTER PACKAGING> <AND> <THE IMMEDIATE PACKAGING>' | Matched :- 'True'\n",
      "2021-05-13 15:33:35,155 : Heading Extraction ABASAGLAR_clean_ANNEX III.json_e : Validation Failed Top Heading Found After Bottom Headings | H | CAP |  en | 2 | ABASAGLAR_clean_ANNEX III.json | currHeadId :- '22002' | currParentHeadId :- '22001.0' | prevParentHeadId :- '22020'\n",
      "2021-05-13 15:33:35,187 : Heading Extraction ABASAGLAR_clean_ANNEX III.json_e : End Of Sub Section | H | CAP |  en | 2 | ABASAGLAR_clean_ANNEX III.json\n",
      "2021-05-13 15:33:35,199 : Heading Extraction ABASAGLAR_clean_ANNEX III.json_e : Match Passed | H | CAP |  en | 2 | ABASAGLAR_clean_ANNEX III.json | Doc txt :- 'PARTICULARS TO APPEAR ON THE OUTER PACKAGING ' | Qrd txt :- 'PARTICULARS TO APPEAR ON <THE OUTER PACKAGING> <AND> <THE IMMEDIATE PACKAGING>' | Matched :- 'True'\n",
      "2021-05-13 15:33:35,202 : Heading Extraction ABASAGLAR_clean_ANNEX III.json_e : Validation Passed As Current Heading Is Same As Previous H1 Heading | H | CAP |  en | 2 | ABASAGLAR_clean_ANNEX III.json | currHeadId :- '22002' | currParentHeadId :- '22001.0' | prevParentHeadId :- ''\n"
     ]
    },
    {
     "name": "stderr",
     "output_type": "stream",
     "text": [
      " MEDICINAL PRODUCT' | Qrd txt :- '1. NAME OF THE MEDICINAL PRODUCT' | Matched :- 'True'assed | H | CAP |  en | 2 | ABASAGLAR_clean_ANNEX III.json | Doc txt :- '1.       NAME OF THE\n",
      "2021-05-13 15:33:35,245 : Heading Extraction ABASAGLAR_clean_ANNEX III.json_e : Validation Passed | H | CAP |  en | 2 | ABASAGLAR_clean_ANNEX III.json | currHeadId :- '22003' | currParentHeadId :- '22002.0' | prevParentHeadId :- '22002'\n",
      " ACTIVE SUBSTANCE(S)' | Qrd txt :- '2. STATEMENT OF ACTIVE SUBSTANCE(S)' | Matched :- 'True' | H | CAP |  en | 2 | ABASAGLAR_clean_ANNEX III.json | Doc txt :- '2.       STATEMENT OF\n",
      "2021-05-13 15:33:35,307 : Heading Extraction ABASAGLAR_clean_ANNEX III.json_e : Validation Passed | H | CAP |  en | 2 | ABASAGLAR_clean_ANNEX III.json | currHeadId :- '22004' | currParentHeadId :- '22002.0' | prevParentHeadId :- '22003'\n"
     ]
    },
    {
     "name": "stdout",
     "output_type": "stream",
     "text": [
      "-------------------Here1------------------------\n",
      "oooooooooooooooooooooooooooooooooooooooo END OF Sub Section oooooooooooooooooooooooooooooooooooooooooooooooooooooooooooo\n"
     ]
    },
    {
     "name": "stderr",
     "output_type": "stream",
     "text": [
      "2021-05-13 15:33:35,341 : Heading Extraction ABASAGLAR_clean_ANNEX III.json_e : Match Passed | H | CAP |  en | 2 | ABASAGLAR_clean_ANNEX III.json | Doc txt :- '3.       LIST OF EXCIPIENTS' | Qrd txt :- '3. LIST OF EXCIPIENTS' | Matched :- 'True'\n",
      "2021-05-13 15:33:35,350 : Heading Extraction ABASAGLAR_clean_ANNEX III.json_e : Validation Passed | H | CAP |  en | 2 | ABASAGLAR_clean_ANNEX III.json | currHeadId :- '22005' | currParentHeadId :- '22002.0' | prevParentHeadId :- '22004'\n",
      " FORM AND CONTENTS' | Qrd txt :- '4. PHARMACEUTICAL FORM AND CONTENTS' | Matched :- 'True'ed | H | CAP |  en | 2 | ABASAGLAR_clean_ANNEX III.json | Doc txt :- '4.       PHARMACEUTICAL\n",
      "2021-05-13 15:33:35,381 : Heading Extraction ABASAGLAR_clean_ANNEX III.json_e : Validation Passed | H | CAP |  en | 2 | ABASAGLAR_clean_ANNEX III.json | currHeadId :- '22006' | currParentHeadId :- '22002.0' | prevParentHeadId :- '22005'\n",
      " ROUTE(S) OF ADMINISTRATION' | Qrd txt :- '5. METHOD AND ROUTE(S) OF ADMINISTRATION' | Matched :- 'True'  en | 2 | ABASAGLAR_clean_ANNEX III.json | Doc txt :- '5.       METHOD AND\n",
      "2021-05-13 15:33:35,439 : Heading Extraction ABASAGLAR_clean_ANNEX III.json_e : Validation Passed | H | CAP |  en | 2 | ABASAGLAR_clean_ANNEX III.json | currHeadId :- '22007' | currParentHeadId :- '22002.0' | prevParentHeadId :- '22006'\n",
      " CHILDREN' | Qrd txt :- '6. SPECIAL WARNING THAT THE MEDICINAL PRODUCT MUST BE STORED OUT OF THE SIGHT AND REACH OF CHILDREN' | Matched :- 'True' | Doc txt :- '6.       SPECIAL WARNING\n",
      "2021-05-13 15:33:35,494 : Heading Extraction ABASAGLAR_clean_ANNEX III.json_e : Validation Passed | H | CAP |  en | 2 | ABASAGLAR_clean_ANNEX III.json | currHeadId :- '22008' | currParentHeadId :- '22002.0' | prevParentHeadId :- '22007'\n",
      " WARNING(S), IF NECESSARY' | Qrd txt :- '7. OTHER SPECIAL WARNING(S), IF NECESSARY' | Matched :- 'True'|  en | 2 | ABASAGLAR_clean_ANNEX III.json | Doc txt :- '7.       OTHER SPECIAL\n",
      "2021-05-13 15:33:35,534 : Heading Extraction ABASAGLAR_clean_ANNEX III.json_e : Validation Passed | H | CAP |  en | 2 | ABASAGLAR_clean_ANNEX III.json | currHeadId :- '22009' | currParentHeadId :- '22002.0' | prevParentHeadId :- '22008'\n",
      "2021-05-13 15:33:35,550 : Heading Extraction ABASAGLAR_clean_ANNEX III.json_e : Match Passed | H | CAP |  en | 2 | ABASAGLAR_clean_ANNEX III.json | Doc txt :- '8.       EXPIRY DATE' | Qrd txt :- '8. EXPIRY DATE' | Matched :- 'True'\n",
      "2021-05-13 15:33:35,556 : Heading Extraction ABASAGLAR_clean_ANNEX III.json_e : Validation Passed | H | CAP |  en | 2 | ABASAGLAR_clean_ANNEX III.json | currHeadId :- '22010' | currParentHeadId :- '22002.0' | prevParentHeadId :- '22009'\n",
      " STORAGE CONDITIONS' | Qrd txt :- '9. SPECIAL STORAGE CONDITIONS' | Matched :- 'True' Passed | H | CAP |  en | 2 | ABASAGLAR_clean_ANNEX III.json | Doc txt :- '9.       SPECIAL\n",
      "2021-05-13 15:33:35,609 : Heading Extraction ABASAGLAR_clean_ANNEX III.json_e : Validation Passed | H | CAP |  en | 2 | ABASAGLAR_clean_ANNEX III.json | currHeadId :- '22011' | currParentHeadId :- '22002.0' | prevParentHeadId :- '22010'\n",
      " APPROPRIATE' | Qrd txt :- '10. SPECIAL PRECAUTIONS FOR DISPOSAL OF UNUSED MEDICINAL PRODUCTS OR WASTE MATERIALS DERIVED FROM SUCH MEDICINAL PRODUCTS, IF APPROPRIATE' | Matched :- 'True'S FOR DISPOSAL OF UNUSED MEDICINAL\n",
      "2021-05-13 15:33:35,825 : Heading Extraction ABASAGLAR_clean_ANNEX III.json_e : Validation Passed | H | CAP |  en | 2 | ABASAGLAR_clean_ANNEX III.json | currHeadId :- '22012' | currParentHeadId :- '22002.0' | prevParentHeadId :- '22011'\n",
      "2021-05-13 15:33:35,841 : Heading Extraction ABASAGLAR_clean_ANNEX III.json_e : Match Passed | H | CAP |  en | 2 | ABASAGLAR_clean_ANNEX III.json | Doc txt :- '11.     NAME AND ADDRESS OF THE MARKETING AUTHORISATION HOLDER' | Qrd txt :- '11. NAME AND ADDRESS OF THE MARKETING AUTHORISATION HOLDER' | Matched :- 'True'\n",
      "2021-05-13 15:33:35,847 : Heading Extraction ABASAGLAR_clean_ANNEX III.json_e : Validation Passed | H | CAP |  en | 2 | ABASAGLAR_clean_ANNEX III.json | currHeadId :- '22013' | currParentHeadId :- '22002.0' | prevParentHeadId :- '22012'\n",
      "2021-05-13 15:33:35,954 : Heading Extraction ABASAGLAR_clean_ANNEX III.json_e : Match Passed | H | CAP |  en | 2 | ABASAGLAR_clean_ANNEX III.json | Doc txt :- '12.     MARKETING AUTHORISATION NUMBER(S) ' | Qrd txt :- '12. MARKETING AUTHORISATION NUMBER(S) ' | Matched :- 'True'\n",
      "2021-05-13 15:33:35,960 : Heading Extraction ABASAGLAR_clean_ANNEX III.json_e : Validation Passed | H | CAP |  en | 2 | ABASAGLAR_clean_ANNEX III.json | currHeadId :- '22014' | currParentHeadId :- '22002.0' | prevParentHeadId :- '22013'\n",
      "2021-05-13 15:33:36,009 : Heading Extraction ABASAGLAR_clean_ANNEX III.json_e : Match Passed | H | CAP |  en | 2 | ABASAGLAR_clean_ANNEX III.json | Doc txt :- '13.     BATCH NUMBER' | Qrd txt :- '13. BATCH NUMBER<, DONATION AND PRODUCT CODES>' | Matched :- 'True'\n",
      "2021-05-13 15:33:36,014 : Heading Extraction ABASAGLAR_clean_ANNEX III.json_e : Validation Passed | H | CAP |  en | 2 | ABASAGLAR_clean_ANNEX III.json | currHeadId :- '22015' | currParentHeadId :- '22002.0' | prevParentHeadId :- '22014'\n",
      "2021-05-13 15:33:36,028 : Heading Extraction ABASAGLAR_clean_ANNEX III.json_e : Match Passed | H | CAP |  en | 2 | ABASAGLAR_clean_ANNEX III.json | Doc txt :- '14.     GENERAL CLASSIFICATION FOR SUPPLY' | Qrd txt :- '14. GENERAL CLASSIFICATION FOR SUPPLY' | Matched :- 'True'\n",
      "2021-05-13 15:33:36,034 : Heading Extraction ABASAGLAR_clean_ANNEX III.json_e : Validation Passed | H | CAP |  en | 2 | ABASAGLAR_clean_ANNEX III.json | currHeadId :- '22016' | currParentHeadId :- '22002.0' | prevParentHeadId :- '22015'\n",
      "2021-05-13 15:33:36,053 : Heading Extraction ABASAGLAR_clean_ANNEX III.json_e : Match Passed | H | CAP |  en | 2 | ABASAGLAR_clean_ANNEX III.json | Doc txt :- '15.     INSTRUCTIONS ON USE' | Qrd txt :- '15. INSTRUCTIONS ON USE' | Matched :- 'True'\n",
      "2021-05-13 15:33:36,059 : Heading Extraction ABASAGLAR_clean_ANNEX III.json_e : Validation Passed | H | CAP |  en | 2 | ABASAGLAR_clean_ANNEX III.json | currHeadId :- '22017' | currParentHeadId :- '22002.0' | prevParentHeadId :- '22016'\n",
      "2021-05-13 15:33:36,080 : Heading Extraction ABASAGLAR_clean_ANNEX III.json_e : Match Passed | H | CAP |  en | 2 | ABASAGLAR_clean_ANNEX III.json | Doc txt :- '16.     INFORMATION IN BRAILLE' | Qrd txt :- '16. INFORMATION IN BRAILLE' | Matched :- 'True'\n",
      "2021-05-13 15:33:36,086 : Heading Extraction ABASAGLAR_clean_ANNEX III.json_e : Validation Passed | H | CAP |  en | 2 | ABASAGLAR_clean_ANNEX III.json | currHeadId :- '22018' | currParentHeadId :- '22002.0' | prevParentHeadId :- '22017'\n",
      "2021-05-13 15:33:36,134 : Heading Extraction ABASAGLAR_clean_ANNEX III.json_e : Match Passed | H | CAP |  en | 2 | ABASAGLAR_clean_ANNEX III.json | Doc txt :- '17.        UNIQUE IDENTIFIER – 2D BARCODE' | Qrd txt :- '17. UNIQUE IDENTIFIER – 2D BARCODE' | Matched :- 'True'\n",
      "2021-05-13 15:33:36,139 : Heading Extraction ABASAGLAR_clean_ANNEX III.json_e : Validation Passed | H | CAP |  en | 2 | ABASAGLAR_clean_ANNEX III.json | currHeadId :- '22019' | currParentHeadId :- '22002.0' | prevParentHeadId :- '22018'\n",
      "2021-05-13 15:33:36,162 : Heading Extraction ABASAGLAR_clean_ANNEX III.json_e : Match Passed | H | CAP |  en | 2 | ABASAGLAR_clean_ANNEX III.json | Doc txt :- '18.        UNIQUE IDENTIFIER - HUMAN READABLE DATA' | Qrd txt :- '18. UNIQUE IDENTIFIER - HUMAN READABLE DATA' | Matched :- 'True'\n",
      "2021-05-13 15:33:36,172 : Heading Extraction ABASAGLAR_clean_ANNEX III.json_e : Validation Passed | H | CAP |  en | 2 | ABASAGLAR_clean_ANNEX III.json | currHeadId :- '22020' | currParentHeadId :- '22002.0' | prevParentHeadId :- '22019'\n",
      "2021-05-13 15:33:36,191 : Heading Extraction ABASAGLAR_clean_ANNEX III.json_e : Match Passed | H | CAP |  en | 2 | ABASAGLAR_clean_ANNEX III.json | Doc txt :- 'MINIMUM PARTICULARS TO APPEAR ON SMALL IMMEDIATE PACKAGING UNITS' | Qrd txt :- 'MINIMUM PARTICULARS TO APPEAR ON SMALL IMMEDIATE PACKAGING UNITS' | Matched :- 'True'\n",
      "2021-05-13 15:33:36,197 : Heading Extraction ABASAGLAR_clean_ANNEX III.json_e : Validation Flow Is Broken | H | CAP |  en | 2 | ABASAGLAR_clean_ANNEX III.json | currHeadId :- '22027' | currParentHeadId :- '22001.0' | prevParentHeadId :- '22020'\n",
      "2021-05-13 15:33:36,202 : Heading Extraction ABASAGLAR_clean_ANNEX III.json_e : Validation Passed | H | CAP |  en | 2 | ABASAGLAR_clean_ANNEX III.json | currHeadId :- '22027' | currParentHeadId :- '22001.0' | prevParentHeadId :- '22020'\n"
     ]
    },
    {
     "name": "stderr",
     "output_type": "stream",
     "text": [
      " ADMINISTRATION' | Qrd txt :- '1. NAME OF THE MEDICINAL PRODUCT AND ROUTE(S) OF ADMINISTRATION' | Matched :- 'True'ABASAGLAR_clean_ANNEX III.json | Doc txt :- '1.       NAME OF THE MEDICINAL PRODUCT AND ROUTE(S) OF\n",
      "2021-05-13 15:33:36,261 : Heading Extraction ABASAGLAR_clean_ANNEX III.json_e : Validation Passed | H | CAP |  en | 2 | ABASAGLAR_clean_ANNEX III.json | currHeadId :- '22028' | currParentHeadId :- '22027.0' | prevParentHeadId :- '22027'\n",
      "2021-05-13 15:33:36,341 : Heading Extraction ABASAGLAR_clean_ANNEX III.json_e : Match Failed In Lowercase | H | CAP |  en | 2 | ABASAGLAR_clean_ANNEX III.json | Doc txt :- '2.       METHOD OF ADMINISTRATION' | Qrd txt :- '5. METHOD AND ROUTE(S) OF ADMINISTRATION' | Matched :- 'False'\n",
      "2021-05-13 15:33:36,361 : Heading Extraction ABASAGLAR_clean_ANNEX III.json_e : Match Passed | H | CAP |  en | 2 | ABASAGLAR_clean_ANNEX III.json | Doc txt :- '2.       METHOD OF ADMINISTRATION' | Qrd txt :- '2. METHOD OF ADMINISTRATION' | Matched :- 'True'\n",
      "2021-05-13 15:33:36,365 : Heading Extraction ABASAGLAR_clean_ANNEX III.json_e : Validation Passed | H | CAP |  en | 2 | ABASAGLAR_clean_ANNEX III.json | currHeadId :- '22029' | currParentHeadId :- '22027.0' | prevParentHeadId :- '22028'\n",
      "2021-05-13 15:33:36,398 : Heading Extraction ABASAGLAR_clean_ANNEX III.json_e : Match Passed | H | CAP |  en | 2 | ABASAGLAR_clean_ANNEX III.json | Doc txt :- '3.       EXPIRY DATE' | Qrd txt :- '8. EXPIRY DATE' | Matched :- 'True'\n",
      "2021-05-13 15:33:36,404 : Heading Extraction ABASAGLAR_clean_ANNEX III.json_e : Validation Failed As Previous Heading Found is not matching | H | CAP |  en | 2 | ABASAGLAR_clean_ANNEX III.json | currHeadId :- '22010' | currParentHeadId :- '22002.0' | prevParentHeadId :- '22029'\n",
      "2021-05-13 15:33:36,418 : Heading Extraction ABASAGLAR_clean_ANNEX III.json_e : Match Passed | H | CAP |  en | 2 | ABASAGLAR_clean_ANNEX III.json | Doc txt :- '3.       EXPIRY DATE' | Qrd txt :- '3. EXPIRY DATE' | Matched :- 'True'\n",
      "2021-05-13 15:33:36,424 : Heading Extraction ABASAGLAR_clean_ANNEX III.json_e : Validation Failed As Wrong Heading Found | H | CAP |  en | 2 | ABASAGLAR_clean_ANNEX III.json | currHeadId :- '22024' | currParentHeadId :- '22021.0' | prevParentHeadId :- '22029'\n",
      "2021-05-13 15:33:36,430 : Heading Extraction ABASAGLAR_clean_ANNEX III.json_e : Match Passed | H | CAP |  en | 2 | ABASAGLAR_clean_ANNEX III.json | Doc txt :- '3.       EXPIRY DATE' | Qrd txt :- '3. EXPIRY DATE' | Matched :- 'True'\n",
      "2021-05-13 15:33:36,435 : Heading Extraction ABASAGLAR_clean_ANNEX III.json_e : Validation Passed | H | CAP |  en | 2 | ABASAGLAR_clean_ANNEX III.json | currHeadId :- '22030' | currParentHeadId :- '22027.0' | prevParentHeadId :- '22029'\n",
      "2021-05-13 15:33:36,450 : Heading Extraction ABASAGLAR_clean_ANNEX III.json_e : Match Passed | H | CAP |  en | 2 | ABASAGLAR_clean_ANNEX III.json | Doc txt :- '4.       BATCH NUMBER' | Qrd txt :- '13. BATCH NUMBER<, DONATION AND PRODUCT CODES>' | Matched :- 'True'\n",
      "2021-05-13 15:33:36,456 : Heading Extraction ABASAGLAR_clean_ANNEX III.json_e : Validation Failed As Previous Heading Found is not matching | H | CAP |  en | 2 | ABASAGLAR_clean_ANNEX III.json | currHeadId :- '22015' | currParentHeadId :- '22002.0' | prevParentHeadId :- '22030'\n",
      "2021-05-13 15:33:36,465 : Heading Extraction ABASAGLAR_clean_ANNEX III.json_e : Match Passed | H | CAP |  en | 2 | ABASAGLAR_clean_ANNEX III.json | Doc txt :- '4.       BATCH NUMBER' | Qrd txt :- '4. BATCH NUMBER<, DONATION AND PRODUCT CODES>' | Matched :- 'True'\n",
      "2021-05-13 15:33:36,472 : Heading Extraction ABASAGLAR_clean_ANNEX III.json_e : Validation Failed As Wrong Heading Found | H | CAP |  en | 2 | ABASAGLAR_clean_ANNEX III.json | currHeadId :- '22025' | currParentHeadId :- '22021.0' | prevParentHeadId :- '22030'\n",
      "2021-05-13 15:33:36,478 : Heading Extraction ABASAGLAR_clean_ANNEX III.json_e : Match Passed | H | CAP |  en | 2 | ABASAGLAR_clean_ANNEX III.json | Doc txt :- '4.       BATCH NUMBER' | Qrd txt :- '4. BATCH NUMBER<, DONATION AND PRODUCT CODES>' | Matched :- 'True'\n",
      "2021-05-13 15:33:36,483 : Heading Extraction ABASAGLAR_clean_ANNEX III.json_e : Validation Passed | H | CAP |  en | 2 | ABASAGLAR_clean_ANNEX III.json | currHeadId :- '22031' | currParentHeadId :- '22027.0' | prevParentHeadId :- '22030'\n",
      "2021-05-13 15:33:36,508 : Heading Extraction ABASAGLAR_clean_ANNEX III.json_e : Match Passed | H | CAP |  en | 2 | ABASAGLAR_clean_ANNEX III.json | Doc txt :- '5.       CONTENTS BY WEIGHT, BY VOLUME OR BY UNIT' | Qrd txt :- '5. CONTENTS BY WEIGHT, BY VOLUME OR BY UNIT' | Matched :- 'True'\n",
      "2021-05-13 15:33:36,514 : Heading Extraction ABASAGLAR_clean_ANNEX III.json_e : Validation Passed | H | CAP |  en | 2 | ABASAGLAR_clean_ANNEX III.json | currHeadId :- '22032' | currParentHeadId :- '22027.0' | prevParentHeadId :- '22031'\n",
      "2021-05-13 15:33:36,537 : Heading Extraction ABASAGLAR_clean_ANNEX III.json_e : Match Failed | H | CAP |  en | 2 | ABASAGLAR_clean_ANNEX III.json | Doc txt :- '6.       OTHER' | Qrd txt :- '5. OTHER' | Matched :- 'False'\n"
     ]
    },
    {
     "name": "stdout",
     "output_type": "stream",
     "text": [
      "\n",
      "OriginalCheck\n",
      "\n"
     ]
    },
    {
     "name": "stderr",
     "output_type": "stream",
     "text": [
      "2021-05-13 15:33:36,545 : Heading Extraction ABASAGLAR_clean_ANNEX III.json_e : Match Passed | H | CAP |  en | 2 | ABASAGLAR_clean_ANNEX III.json | Doc txt :- '6.       OTHER' | Qrd txt :- '6. OTHER' | Matched :- 'True'\n",
      "2021-05-13 15:33:36,549 : Heading Extraction ABASAGLAR_clean_ANNEX III.json_e : Validation Passed | H | CAP |  en | 2 | ABASAGLAR_clean_ANNEX III.json | currHeadId :- '22033' | currParentHeadId :- '22027.0' | prevParentHeadId :- '22032'\n",
      "2021-05-13 15:33:36,556 : Flow Logger HTML_Z : Completed Heading Extraction For File | H | CAP |  en | HTML | ABASAGLAR_clean.htm\n",
      "2021-05-13 15:33:36,558 : Flow Logger HTML_Z : Starting Document Annotation For File | H | CAP |  en | HTML | ABASAGLAR_clean.htm\n",
      "2021-05-13 15:33:36,567 : Flow Logger HTML_Z : Completed Document Annotation | H | CAP |  en | HTML | ABASAGLAR_clean.htm\n",
      "2021-05-13 15:33:36,568 : Flow Logger HTML_Z : Starting Extracting Content Between Heading | H | CAP |  en | HTML | ABASAGLAR_clean.htm\n",
      "2021-05-13 15:33:36,575 : ExtractContentBetween_2_c : Cleaning Match Results | H | CAP |  en | 2 | ABASAGLAR_clean_ANNEX III.json\n",
      "2021-05-13 15:33:36,583 : ExtractContentBetween_2_c : Finished Cleaning Match Results | H | CAP |  en | 2 | ABASAGLAR_clean_ANNEX III.json\n"
     ]
    },
    {
     "name": "stdout",
     "output_type": "stream",
     "text": [
      "\n",
      "\n",
      "Heading Not Found \n",
      " ['MINIMUM PARTICULARS TO APPEAR ON BLISTERS OR STRIPS', 'NAME OF THE MARKETING AUTHORISATION HOLDER']\n",
      "\n",
      "\n",
      "dict_keys([])\n",
      "Completed Heading Extraction For File\n",
      "Starting Document Annotation For File :- ABASAGLAR_clean_ANNEX III.json\n",
      "Error Found\n",
      "Completed Document Annotation\n",
      "Starting Extracting Content Between Heading For File :- ABASAGLAR_clean_ANNEX III.json\n",
      "File being processed: C:\\Users\\psaga\\source\\repos\\EMA\\EMA%20EPI%20PoC\\function_code\\work\\H\\CAP\\ABASAGLAR\\en\\2021-05-13T10-00-18Z\\partitionedJSONs\\ABASAGLAR_clean_ANNEX III.json\n",
      "--------------------------------------------\n"
     ]
    },
    {
     "name": "stderr",
     "output_type": "stream",
     "text": [
      "2021-05-13 15:33:36,863 : Flow Logger HTML_Z : Completed Extracting Content Between Heading | H | CAP |  en | HTML | ABASAGLAR_clean.htm\n",
      "2021-05-13 15:33:36,881 : XmlGeneration_2_3 : PMS/OMS Annotation Information Not Retrieved | H | CAP |  en | 2 | ABASAGLAR_clean_ANNEX III.json\n",
      "2021-05-13 15:33:36,882 : XmlGeneration_2_3 : Initiating XML Generation | H | CAP |  en | 2 | ABASAGLAR_clean_ANNEX III.json\n"
     ]
    },
    {
     "name": "stdout",
     "output_type": "stream",
     "text": [
      "Completed Extracting Content Between Heading\n",
      "Already Exists\n"
     ]
    },
    {
     "name": "stderr",
     "output_type": "stream",
     "text": [
      "2021-05-13 15:33:37,130 : XmlGeneration_2_3 : Writing to File:ABASAGLAR_clean_ANNEX III.xml | H | CAP |  en | 2 | ABASAGLAR_clean_ANNEX III.json\n",
      "2021-05-13 15:33:41,161 : XML Submission Logger_2_O : Initiating Submission To FHIR Server | H | CAP |  en | 2 | ABASAGLAR_clean_ANNEX III.json\n",
      "2021-05-13 15:33:41,162 : XML Submission Logger_2_O : Response{\"resourceType\":\"Bundle\",\"id\":\"7050302f-7fa9-4287-a684-fc1299799fd5\",\"meta\":{\"versionId\":\"1\",\"lastUpdated\":\"2021-05-13T10:03:39.558+00:00\"},\"type\":\"collection\",\"entry\":[{\"fullUrl\":\"urn:uuid:390b46b0-c1e9-45ac-a49f-8aad6e7f2d61\",\"resource\":{\"resourceType\":\"Bundle\",\"id\":\"a116c835-e2ea-4db7-aea0-140c64a0cfc1\",\"identifier\":{\"system\":\"http://ema.europa.eu/fhir/identifier/documentid\",\"value\":\"${instance.bundle[n].Identifier}\"},\"type\":\"document\",\"timestamp\":\"2021-05-13T10:03:36+00:00\",\"entry\":[{\"fullUr | H | CAP |  en | 2 | ABASAGLAR_clean_ANNEX III.json\n",
      "2021-05-13 15:33:41,167 : XML Submission Logger_2_O : POST sucessful: XML added with id: 7050302f-7fa9-4287-a684-fc1299799fd5 | H | CAP |  en | 2 | ABASAGLAR_clean_ANNEX III.json\n",
      "2021-05-13 15:33:41,169 : Flow Logger HTML_Z : \n",
      "\n",
      "\n",
      "\n",
      "||||||||||||||||||||||||||||||||3 ||||| ABASAGLAR_clean_ PACKAGE LEAFLET.json||||||||||||||||||||||||||||||||\n",
      "\n",
      "\n",
      "\n",
      " | H | CAP |  en | HTML | ABASAGLAR_clean.htm\n",
      "2021-05-13 15:33:41,174 : Heading Extraction ABASAGLAR_clean_ PACKAGE LEAFLET.json_k : Starting Heading Extraction | H | CAP |  en | 3 | ABASAGLAR_clean_ PACKAGE LEAFLET.json\n"
     ]
    },
    {
     "name": "stdout",
     "output_type": "stream",
     "text": [
      "POST sucessful: XML added with id 7050302f-7fa9-4287-a684-fc1299799fd5\n",
      "Created XML File For :- ABASAGLAR_clean_ANNEX III.json\n",
      "Starting Heading Extraction For File :- ABASAGLAR_clean_ PACKAGE LEAFLET.json\n",
      "File being processed: C:\\Users\\psaga\\source\\repos\\EMA\\EMA%20EPI%20PoC\\function_code\\work\\H\\CAP\\ABASAGLAR\\en\\2021-05-13T10-00-18Z\\partitionedJSONs\\ABASAGLAR_clean_ PACKAGE LEAFLET.json\n",
      "--------------------------------------------\n",
      "Package leaflet\n"
     ]
    },
    {
     "name": "stderr",
     "output_type": "stream",
     "text": [
      "2021-05-13 15:33:41,380 : Heading Extraction ABASAGLAR_clean_ PACKAGE LEAFLET.json_k : Started Extracting Heading | H | CAP |  en | 3 | ABASAGLAR_clean_ PACKAGE LEAFLET.json\n",
      "2021-05-13 15:33:41,401 : Heading Extraction ABASAGLAR_clean_ PACKAGE LEAFLET.json_k : Match Passed | H | CAP |  en | 3 | ABASAGLAR_clean_ PACKAGE LEAFLET.json | Doc txt :- 'B. PACKAGE LEAFLET' | Qrd txt :- 'PACKAGE LEAFLET' | Matched :- 'True'\n",
      "2021-05-13 15:33:41,407 : Heading Extraction ABASAGLAR_clean_ PACKAGE LEAFLET.json_k : Validation Passed As This The First Heading | H | CAP |  en | 3 | ABASAGLAR_clean_ PACKAGE LEAFLET.json | currHeadId :- '23001' | currParentHeadId :- 'nan' | prevParentHeadId :- ''\n",
      "2021-05-13 15:33:41,421 : Heading Extraction ABASAGLAR_clean_ PACKAGE LEAFLET.json_k : Match Failed | H | CAP |  en | 3 | ABASAGLAR_clean_ PACKAGE LEAFLET.json | Doc txt :- 'Package leaflet: Information for the user' | Qrd txt :- 'Pregnancy <and> <,> breast-feeding <and fertility>' | Matched :- 'False'\n",
      "2021-05-13 15:33:41,441 : Heading Extraction ABASAGLAR_clean_ PACKAGE LEAFLET.json_k : Match Failed | H | CAP |  en | 3 | ABASAGLAR_clean_ PACKAGE LEAFLET.json | Doc txt :- 'Package leaflet: Information for the user' | Qrd txt :- 'This leaflet was last revised in <{MM/YYYY}><{month YYYY}>.' | Matched :- 'False'\n",
      "2021-05-13 15:33:41,466 : Heading Extraction ABASAGLAR_clean_ PACKAGE LEAFLET.json_k : Match Failed | H | CAP |  en | 3 | ABASAGLAR_clean_ PACKAGE LEAFLET.json | Doc txt :- 'ABASAGLAR 100 units/mL solution for injection in a cartridge' | Qrd txt :- 'Pregnancy <and> <,> breast-feeding <and fertility>' | Matched :- 'False'\n",
      "2021-05-13 15:33:41,497 : Heading Extraction ABASAGLAR_clean_ PACKAGE LEAFLET.json_k : Match Failed | H | CAP |  en | 3 | ABASAGLAR_clean_ PACKAGE LEAFLET.json | Doc txt :- 'ABASAGLAR 100 units/mL solution for injection in a cartridge' | Qrd txt :- 'This leaflet was last revised in <{MM/YYYY}><{month YYYY}>.' | Matched :- 'False'\n",
      "2021-05-13 15:33:41,510 : Heading Extraction ABASAGLAR_clean_ PACKAGE LEAFLET.json_k : Match Failed | H | CAP |  en | 3 | ABASAGLAR_clean_ PACKAGE LEAFLET.json | Doc txt :- 'insulin glargine' | Qrd txt :- 'Pregnancy <and> <,> breast-feeding <and fertility>' | Matched :- 'False'\n",
      "2021-05-13 15:33:41,529 : Heading Extraction ABASAGLAR_clean_ PACKAGE LEAFLET.json_k : Match Failed | H | CAP |  en | 3 | ABASAGLAR_clean_ PACKAGE LEAFLET.json | Doc txt :- 'insulin glargine' | Qrd txt :- 'This leaflet was last revised in <{MM/YYYY}><{month YYYY}>.' | Matched :- 'False'\n",
      " your medicine.' | Qrd txt :- 'Pregnancy <and> <,> breast-feeding <and fertility>' | Matched :- 'False' | CAP |  en | 3 | ABASAGLAR_clean_ PACKAGE LEAFLET.json | Doc txt :- 'Read all of this leaflet carefully before you start using this medicine\n",
      " your medicine.' | Qrd txt :- 'This leaflet was last revised in <{MM/YYYY}><{month YYYY}>.' | Matched :- 'False' en | 3 | ABASAGLAR_clean_ PACKAGE LEAFLET.json | Doc txt :- 'Read all of this leaflet carefully before you start using this medicine\n",
      " again. ' | Qrd txt :- 'Pregnancy <and> <,> breast-feeding <and fertility>' | Matched :- 'False'led | H | CAP |  en | 3 | ABASAGLAR_clean_ PACKAGE LEAFLET.json | Doc txt :- '-Keep this leaflet. You may need to read it\n",
      " again. ' | Qrd txt :- 'This leaflet was last revised in <{MM/YYYY}><{month YYYY}>.' | Matched :- 'False' CAP |  en | 3 | ABASAGLAR_clean_ PACKAGE LEAFLET.json | Doc txt :- '-Keep this leaflet. You may need to read it\n",
      " pharmacist or nurse.' | Qrd txt :- 'Pregnancy <and> <,> breast-feeding <and fertility>' | Matched :- 'False' |  en | 3 | ABASAGLAR_clean_ PACKAGE LEAFLET.json | Doc txt :- '-If you have any further questions, ask your doctor,\n",
      " pharmacist or nurse.' | Qrd txt :- 'This leaflet was last revised in <{MM/YYYY}><{month YYYY}>.' | Matched :- 'False'3 | ABASAGLAR_clean_ PACKAGE LEAFLET.json | Doc txt :- '-If you have any further questions, ask your doctor,\n",
      " are the same as yours.' | Qrd txt :- 'Pregnancy <and> <,> breast-feeding <and fertility>' | Matched :- 'False'  en | 3 | ABASAGLAR_clean_ PACKAGE LEAFLET.json | Doc txt :- '-This medicine has been prescribed for you only.\n",
      " are the same as yours.' | Qrd txt :- 'This leaflet was last revised in <{MM/YYYY}><{month YYYY}>.' | Matched :- 'False'| ABASAGLAR_clean_ PACKAGE LEAFLET.json | Doc txt :- '-This medicine has been prescribed for you only.\n",
      " side effects not listed in this leaflet. See section 4.' | Qrd txt :- 'Pregnancy <and> <,> breast-feeding <and fertility>' | Matched :- 'False'GE LEAFLET.json | Doc txt :- '-If you get any side effects, talk to your\n",
      " side effects not listed in this leaflet. See section 4.' | Qrd txt :- 'This leaflet was last revised in <{MM/YYYY}><{month YYYY}>.' | Matched :- 'False'T.json | Doc txt :- '-If you get any side effects, talk to your\n",
      "2021-05-13 15:33:41,784 : Heading Extraction ABASAGLAR_clean_ PACKAGE LEAFLET.json_k : Match Passed | H | CAP |  en | 3 | ABASAGLAR_clean_ PACKAGE LEAFLET.json | Doc txt :- 'What is in this leaflet' | Qrd txt :- 'What is in this leaflet' | Matched :- 'True'\n",
      "2021-05-13 15:33:41,792 : Heading Extraction ABASAGLAR_clean_ PACKAGE LEAFLET.json_k : Validation Flow Is Broken | H | CAP |  en | 3 | ABASAGLAR_clean_ PACKAGE LEAFLET.json | currHeadId :- '23003' | currParentHeadId :- '23001.0' | prevParentHeadId :- '23001'\n",
      "2021-05-13 15:33:41,796 : Heading Extraction ABASAGLAR_clean_ PACKAGE LEAFLET.json_k : Validation Passed | H | CAP |  en | 3 | ABASAGLAR_clean_ PACKAGE LEAFLET.json | currHeadId :- '23003' | currParentHeadId :- '23001.0' | prevParentHeadId :- '23001'\n",
      "2021-05-13 15:33:41,805 : Heading Extraction ABASAGLAR_clean_ PACKAGE LEAFLET.json_k : Match Passed | H | CAP |  en | 3 | ABASAGLAR_clean_ PACKAGE LEAFLET.json | Doc txt :- '1.       What ABASAGLAR is and what it is used for ' | Qrd txt :- '1. What ABASAGLAR is and what it is used for' | Matched :- 'True'\n",
      "2021-05-13 15:33:41,811 : Heading Extraction ABASAGLAR_clean_ PACKAGE LEAFLET.json_k : Validation Passed | H | CAP |  en | 3 | ABASAGLAR_clean_ PACKAGE LEAFLET.json | currHeadId :- '23004' | currParentHeadId :- '23001.0' | prevParentHeadId :- '23003'\n",
      "2021-05-13 15:33:41,824 : Heading Extraction ABASAGLAR_clean_ PACKAGE LEAFLET.json_k : Match Passed | H | CAP |  en | 3 | ABASAGLAR_clean_ PACKAGE LEAFLET.json | Doc txt :- '2.       What you need to know before you use ABASAGLAR' | Qrd txt :- '2. What you need to know before you <take> <use> ABASAGLAR ' | Matched :- 'True'\n",
      "2021-05-13 15:33:41,830 : Heading Extraction ABASAGLAR_clean_ PACKAGE LEAFLET.json_k : Validation Passed | H | CAP |  en | 3 | ABASAGLAR_clean_ PACKAGE LEAFLET.json | currHeadId :- '23005' | currParentHeadId :- '23001.0' | prevParentHeadId :- '23004'\n",
      "2021-05-13 15:33:41,843 : Heading Extraction ABASAGLAR_clean_ PACKAGE LEAFLET.json_k : Match Passed | H | CAP |  en | 3 | ABASAGLAR_clean_ PACKAGE LEAFLET.json | Doc txt :- '3.       How to use ABASAGLAR' | Qrd txt :- 'Do not <take> <use> ABASAGLAR' | Matched :- 'True'\n",
      "2021-05-13 15:33:41,849 : Heading Extraction ABASAGLAR_clean_ PACKAGE LEAFLET.json_k : Validation Passed | H | CAP |  en | 3 | ABASAGLAR_clean_ PACKAGE LEAFLET.json | currHeadId :- '23006' | currParentHeadId :- '23005.0' | prevParentHeadId :- '23005'\n",
      "2021-05-13 15:33:41,864 : Heading Extraction ABASAGLAR_clean_ PACKAGE LEAFLET.json_k : Match Failed | H | CAP |  en | 3 | ABASAGLAR_clean_ PACKAGE LEAFLET.json | Doc txt :- '4.       Possible side effects ' | Qrd txt :- 'Pregnancy <and> <,> breast-feeding <and fertility>' | Matched :- 'False'\n",
      "2021-05-13 15:33:41,873 : Heading Extraction ABASAGLAR_clean_ PACKAGE LEAFLET.json_k : Match Passed | H | CAP |  en | 3 | ABASAGLAR_clean_ PACKAGE LEAFLET.json | Doc txt :- '4.       Possible side effects ' | Qrd txt :- '4. Possible side effects' | Matched :- 'True'\n",
      "2021-05-13 15:33:41,880 : Heading Extraction ABASAGLAR_clean_ PACKAGE LEAFLET.json_k : Validation Flow Is Broken | H | CAP |  en | 3 | ABASAGLAR_clean_ PACKAGE LEAFLET.json | currHeadId :- '23019' | currParentHeadId :- '23001.0' | prevParentHeadId :- '23006'\n",
      "2021-05-13 15:33:41,886 : Heading Extraction ABASAGLAR_clean_ PACKAGE LEAFLET.json_k : Validation Passed | H | CAP |  en | 3 | ABASAGLAR_clean_ PACKAGE LEAFLET.json | currHeadId :- '23019' | currParentHeadId :- '23001.0' | prevParentHeadId :- '23006'\n"
     ]
    },
    {
     "name": "stderr",
     "output_type": "stream",
     "text": [
      "2021-05-13 15:33:41,895 : Heading Extraction ABASAGLAR_clean_ PACKAGE LEAFLET.json_k : Match Failed | H | CAP |  en | 3 | ABASAGLAR_clean_ PACKAGE LEAFLET.json | Doc txt :- '5.       How to store ABASAGLAR' | Qrd txt :- 'Do not <take> <use> ABASAGLAR' | Matched :- 'False'\n",
      "2021-05-13 15:33:41,900 : Heading Extraction ABASAGLAR_clean_ PACKAGE LEAFLET.json_k : Match Failed | H | CAP |  en | 3 | ABASAGLAR_clean_ PACKAGE LEAFLET.json | Doc txt :- '5.       How to store ABASAGLAR' | Qrd txt :- 'Pregnancy <and> <,> breast-feeding <and fertility>' | Matched :- 'False'\n",
      "2021-05-13 15:33:41,905 : Heading Extraction ABASAGLAR_clean_ PACKAGE LEAFLET.json_k : Match Passed | H | CAP |  en | 3 | ABASAGLAR_clean_ PACKAGE LEAFLET.json | Doc txt :- '5.       How to store ABASAGLAR' | Qrd txt :- '3. How to <take> <use> ABASAGLAR ' | Matched :- 'True'\n",
      "2021-05-13 15:33:41,911 : Heading Extraction ABASAGLAR_clean_ PACKAGE LEAFLET.json_k : Validation Failed As Wrong Heading Found | H | CAP |  en | 3 | ABASAGLAR_clean_ PACKAGE LEAFLET.json | currHeadId :- '23014' | currParentHeadId :- '23001.0' | prevParentHeadId :- '23019'\n",
      "2021-05-13 15:33:41,916 : Heading Extraction ABASAGLAR_clean_ PACKAGE LEAFLET.json_k : Match Failed | H | CAP |  en | 3 | ABASAGLAR_clean_ PACKAGE LEAFLET.json | Doc txt :- '5.       How to store ABASAGLAR' | Qrd txt :- 'If you forget to <take> <use> ABASAGLAR>' | Matched :- 'False'\n",
      "2021-05-13 15:33:41,923 : Heading Extraction ABASAGLAR_clean_ PACKAGE LEAFLET.json_k : Match Passed | H | CAP |  en | 3 | ABASAGLAR_clean_ PACKAGE LEAFLET.json | Doc txt :- '5.       How to store ABASAGLAR' | Qrd txt :- '5. How to store ABASAGLAR' | Matched :- 'True'\n",
      "2021-05-13 15:33:41,929 : Heading Extraction ABASAGLAR_clean_ PACKAGE LEAFLET.json_k : Validation Flow Is Broken | H | CAP |  en | 3 | ABASAGLAR_clean_ PACKAGE LEAFLET.json | currHeadId :- '23022' | currParentHeadId :- '23001.0' | prevParentHeadId :- '23019'\n",
      "2021-05-13 15:33:41,932 : Heading Extraction ABASAGLAR_clean_ PACKAGE LEAFLET.json_k : Validation Passed | H | CAP |  en | 3 | ABASAGLAR_clean_ PACKAGE LEAFLET.json | currHeadId :- '23022' | currParentHeadId :- '23001.0' | prevParentHeadId :- '23019'\n",
      "2021-05-13 15:33:41,946 : Heading Extraction ABASAGLAR_clean_ PACKAGE LEAFLET.json_k : Match Failed | H | CAP |  en | 3 | ABASAGLAR_clean_ PACKAGE LEAFLET.json | Doc txt :- '6.       Contents of the pack and other information' | Qrd txt :- 'Pregnancy <and> <,> breast-feeding <and fertility>' | Matched :- 'False'\n",
      "2021-05-13 15:33:41,957 : Heading Extraction ABASAGLAR_clean_ PACKAGE LEAFLET.json_k : Match Passed | H | CAP |  en | 3 | ABASAGLAR_clean_ PACKAGE LEAFLET.json | Doc txt :- '6.       Contents of the pack and other information' | Qrd txt :- '6. Contents of the pack and other information' | Matched :- 'True'\n",
      "2021-05-13 15:33:41,964 : Heading Extraction ABASAGLAR_clean_ PACKAGE LEAFLET.json_k : Validation Passed | H | CAP |  en | 3 | ABASAGLAR_clean_ PACKAGE LEAFLET.json | currHeadId :- '23023' | currParentHeadId :- '23001.0' | prevParentHeadId :- '23022'\n",
      "2021-05-13 15:33:41,973 : Heading Extraction ABASAGLAR_clean_ PACKAGE LEAFLET.json_k : Match Passed | H | CAP |  en | 3 | ABASAGLAR_clean_ PACKAGE LEAFLET.json | Doc txt :- '1.       What ABASAGLAR is and what it is used for' | Qrd txt :- '1. What ABASAGLAR is and what it is used for' | Matched :- 'True'\n",
      "2021-05-13 15:33:41,979 : Heading Extraction ABASAGLAR_clean_ PACKAGE LEAFLET.json_k : Validation Failed As Previous Heading Found is not matching | H | CAP |  en | 3 | ABASAGLAR_clean_ PACKAGE LEAFLET.json | currHeadId :- '23004' | currParentHeadId :- '23001.0' | prevParentHeadId :- '23023'\n",
      "2021-05-13 15:33:41,993 : Heading Extraction ABASAGLAR_clean_ PACKAGE LEAFLET.json_k : Match Failed | H | CAP |  en | 3 | ABASAGLAR_clean_ PACKAGE LEAFLET.json | Doc txt :- '1.       What ABASAGLAR is and what it is used for' | Qrd txt :- 'Pregnancy <and> <,> breast-feeding <and fertility>' | Matched :- 'False'\n"
     ]
    },
    {
     "name": "stdout",
     "output_type": "stream",
     "text": [
      "\n",
      "\n",
      "\n",
      "\n",
      "\n",
      "\n"
     ]
    },
    {
     "name": "stderr",
     "output_type": "stream",
     "text": [
      "2021-05-13 15:33:42,011 : Heading Extraction ABASAGLAR_clean_ PACKAGE LEAFLET.json_k : Match Failed | H | CAP |  en | 3 | ABASAGLAR_clean_ PACKAGE LEAFLET.json | Doc txt :- '1.       What ABASAGLAR is and what it is used for' | Qrd txt :- 'This leaflet was last revised in <{MM/YYYY}><{month YYYY}>.' | Matched :- 'False'\n",
      "2021-05-13 15:33:42,016 : Heading Extraction ABASAGLAR_clean_ PACKAGE LEAFLET.json_k : End Of Sub Section | H | CAP |  en | 3 | ABASAGLAR_clean_ PACKAGE LEAFLET.json\n",
      "2021-05-13 15:33:42,023 : Heading Extraction ABASAGLAR_clean_ PACKAGE LEAFLET.json_k : Match Passed | H | CAP |  en | 3 | ABASAGLAR_clean_ PACKAGE LEAFLET.json | Doc txt :- '1.       What ABASAGLAR is and what it is used for' | Qrd txt :- '1. What ABASAGLAR is and what it is used for' | Matched :- 'True'\n",
      "2021-05-13 15:33:42,028 : Heading Extraction ABASAGLAR_clean_ PACKAGE LEAFLET.json_k : Validation Passed As This The First Heading | H | CAP |  en | 3 | ABASAGLAR_clean_ PACKAGE LEAFLET.json | currHeadId :- '23004' | currParentHeadId :- '23001.0' | prevParentHeadId :- ''\n",
      " very similar to human insulin.' | Qrd txt :- 'Pregnancy <and> <,> breast-feeding <and fertility>' | Matched :- 'False' | ABASAGLAR_clean_ PACKAGE LEAFLET.json | Doc txt :- 'ABASAGLAR contains insulin glargine. This is a modified insulin,\n",
      " very similar to human insulin.' | Qrd txt :- 'ABASAGLAR contains {name the excipient(s)}' | Matched :- 'True'|  en | 3 | ABASAGLAR_clean_ PACKAGE LEAFLET.json | Doc txt :- 'ABASAGLAR contains insulin glargine. This is a modified insulin,\n",
      "2021-05-13 15:33:42,059 : Heading Extraction ABASAGLAR_clean_ PACKAGE LEAFLET.json_k : Validation Flow Is Broken | H | CAP |  en | 3 | ABASAGLAR_clean_ PACKAGE LEAFLET.json | currHeadId :- '23013' | currParentHeadId :- '23005.0' | prevParentHeadId :- '23004'\n",
      "2021-05-13 15:33:42,064 : Heading Extraction ABASAGLAR_clean_ PACKAGE LEAFLET.json_k : Validation Passed | H | CAP |  en | 3 | ABASAGLAR_clean_ PACKAGE LEAFLET.json | currHeadId :- '23013' | currParentHeadId :- '23005.0' | prevParentHeadId :- '23004'\n",
      " and children aged 2 years and above.' | Qrd txt :- 'Pregnancy <and> <,> breast-feeding <and fertility>' | Matched :- 'False'SAGLAR_clean_ PACKAGE LEAFLET.json | Doc txt :- 'ABASAGLAR is used to treat diabetes mellitus in adults, adolescents\n",
      " and children aged 2 years and above.' | Qrd txt :- 'This leaflet was last revised in <{MM/YYYY}><{month YYYY}>.' | Matched :- 'False'ean_ PACKAGE LEAFLET.json | Doc txt :- 'ABASAGLAR is used to treat diabetes mellitus in adults, adolescents\n",
      " and steady blood-sugar-lowering action.' | Qrd txt :- 'Pregnancy <and> <,> breast-feeding <and fertility>' | Matched :- 'False'LAR_clean_ PACKAGE LEAFLET.json | Doc txt :- 'Diabetes mellitus is a disease where your body does not produce\n",
      " and steady blood-sugar-lowering action.' | Qrd txt :- 'This leaflet was last revised in <{MM/YYYY}><{month YYYY}>.' | Matched :- 'False'_ PACKAGE LEAFLET.json | Doc txt :- 'Diabetes mellitus is a disease where your body does not produce\n",
      "2021-05-13 15:33:42,184 : Heading Extraction ABASAGLAR_clean_ PACKAGE LEAFLET.json_k : Match Passed | H | CAP |  en | 3 | ABASAGLAR_clean_ PACKAGE LEAFLET.json | Doc txt :- '2.       What you need to know before you use ABASAGLAR' | Qrd txt :- '2. What you need to know before you <take> <use> ABASAGLAR ' | Matched :- 'True'\n",
      "2021-05-13 15:33:42,190 : Heading Extraction ABASAGLAR_clean_ PACKAGE LEAFLET.json_k : Validation Failed As Previous Heading Found is not matching | H | CAP |  en | 3 | ABASAGLAR_clean_ PACKAGE LEAFLET.json | currHeadId :- '23005' | currParentHeadId :- '23001.0' | prevParentHeadId :- '23013'\n"
     ]
    },
    {
     "name": "stdout",
     "output_type": "stream",
     "text": [
      "oooooooooooooooooooooooooooooooooooooooo END OF Sub Section oooooooooooooooooooooooooooooooooooooooooooooooooooooooooooo\n",
      "\n"
     ]
    },
    {
     "name": "stderr",
     "output_type": "stream",
     "text": [
      "2021-05-13 15:33:42,199 : Heading Extraction ABASAGLAR_clean_ PACKAGE LEAFLET.json_k : Match Failed | H | CAP |  en | 3 | ABASAGLAR_clean_ PACKAGE LEAFLET.json | Doc txt :- '2.       What you need to know before you use ABASAGLAR' | Qrd txt :- 'Pregnancy <and> <,> breast-feeding <and fertility>' | Matched :- 'False'\n",
      "2021-05-13 15:33:42,205 : Heading Extraction ABASAGLAR_clean_ PACKAGE LEAFLET.json_k : Match Failed | H | CAP |  en | 3 | ABASAGLAR_clean_ PACKAGE LEAFLET.json | Doc txt :- '2.       What you need to know before you use ABASAGLAR' | Qrd txt :- '3. How to <take> <use> ABASAGLAR ' | Matched :- 'False'\n",
      "2021-05-13 15:33:42,212 : Heading Extraction ABASAGLAR_clean_ PACKAGE LEAFLET.json_k : Match Failed | H | CAP |  en | 3 | ABASAGLAR_clean_ PACKAGE LEAFLET.json | Doc txt :- '2.       What you need to know before you use ABASAGLAR' | Qrd txt :- 'If you forget to <take> <use> ABASAGLAR>' | Matched :- 'False'\n",
      "2021-05-13 15:33:42,229 : Heading Extraction ABASAGLAR_clean_ PACKAGE LEAFLET.json_k : Match Failed | H | CAP |  en | 3 | ABASAGLAR_clean_ PACKAGE LEAFLET.json | Doc txt :- '2.       What you need to know before you use ABASAGLAR' | Qrd txt :- 'This leaflet was last revised in <{MM/YYYY}><{month YYYY}>.' | Matched :- 'False'\n",
      "2021-05-13 15:33:42,242 : Heading Extraction ABASAGLAR_clean_ PACKAGE LEAFLET.json_k : Match Passed | H | CAP |  en | 3 | ABASAGLAR_clean_ PACKAGE LEAFLET.json | Doc txt :- 'Do not use ABASAGLAR' | Qrd txt :- 'Do not <take> <use> ABASAGLAR' | Matched :- 'True'\n",
      "2021-05-13 15:33:42,249 : Heading Extraction ABASAGLAR_clean_ PACKAGE LEAFLET.json_k : Validation Failed As Wrong Heading Found | H | CAP |  en | 3 | ABASAGLAR_clean_ PACKAGE LEAFLET.json | currHeadId :- '23006' | currParentHeadId :- '23005.0' | prevParentHeadId :- '23013'\n",
      "2021-05-13 15:33:42,258 : Heading Extraction ABASAGLAR_clean_ PACKAGE LEAFLET.json_k : Match Failed | H | CAP |  en | 3 | ABASAGLAR_clean_ PACKAGE LEAFLET.json | Doc txt :- 'Do not use ABASAGLAR' | Qrd txt :- 'Pregnancy <and> <,> breast-feeding <and fertility>' | Matched :- 'False'\n",
      "2021-05-13 15:33:42,266 : Heading Extraction ABASAGLAR_clean_ PACKAGE LEAFLET.json_k : Match Passed | H | CAP |  en | 3 | ABASAGLAR_clean_ PACKAGE LEAFLET.json | Doc txt :- 'Do not use ABASAGLAR' | Qrd txt :- '3. How to <take> <use> ABASAGLAR ' | Matched :- 'True'\n",
      "2021-05-13 15:33:42,273 : Heading Extraction ABASAGLAR_clean_ PACKAGE LEAFLET.json_k : Validation Passed | H | CAP |  en | 3 | ABASAGLAR_clean_ PACKAGE LEAFLET.json | currHeadId :- '23014' | currParentHeadId :- '23001.0' | prevParentHeadId :- '23013'\n",
      " ingredients of this medicine (listed in section 6).' | Qrd txt :- 'Pregnancy <and> <,> breast-feeding <and fertility>' | Matched :- 'False'ACKAGE LEAFLET.json | Doc txt :- 'If you are allergic to insulin glargine or any of the other\n",
      " ingredients of this medicine (listed in section 6).' | Qrd txt :- 'This leaflet was last revised in <{MM/YYYY}><{month YYYY}>.' | Matched :- 'False'AFLET.json | Doc txt :- 'If you are allergic to insulin glargine or any of the other\n",
      " precautions ' | Qrd txt :- 'Warnings and precautions ' | Matched :- 'True'ET.json_k : Match Passed | H | CAP |  en | 3 | ABASAGLAR_clean_ PACKAGE LEAFLET.json | Doc txt :- 'Warnings and\n",
      "2021-05-13 15:33:42,353 : Heading Extraction ABASAGLAR_clean_ PACKAGE LEAFLET.json_k : Validation Failed As Wrong Heading Found | H | CAP |  en | 3 | ABASAGLAR_clean_ PACKAGE LEAFLET.json | currHeadId :- '23007' | currParentHeadId :- '23005.0' | prevParentHeadId :- '23014'\n",
      " precautions ' | Qrd txt :- 'Pregnancy <and> <,> breast-feeding <and fertility>' | Matched :- 'False' H | CAP |  en | 3 | ABASAGLAR_clean_ PACKAGE LEAFLET.json | Doc txt :- 'Warnings and\n",
      " precautions ' | Qrd txt :- 'This leaflet was last revised in <{MM/YYYY}><{month YYYY}>.' | Matched :- 'False'|  en | 3 | ABASAGLAR_clean_ PACKAGE LEAFLET.json | Doc txt :- 'Warnings and\n",
      "2021-05-13 15:33:42,395 : Heading Extraction ABASAGLAR_clean_ PACKAGE LEAFLET.json_k : Match Failed | H | CAP |  en | 3 | ABASAGLAR_clean_ PACKAGE LEAFLET.json | Doc txt :- 'Talk to your doctor, pharmacist or nurse before using ABASAGLAR.' | Qrd txt :- 'Pregnancy <and> <,> breast-feeding <and fertility>' | Matched :- 'False'\n",
      "2021-05-13 15:33:42,419 : Heading Extraction ABASAGLAR_clean_ PACKAGE LEAFLET.json_k : Match Failed | H | CAP |  en | 3 | ABASAGLAR_clean_ PACKAGE LEAFLET.json | Doc txt :- 'Talk to your doctor, pharmacist or nurse before using ABASAGLAR.' | Qrd txt :- 'This leaflet was last revised in <{MM/YYYY}><{month YYYY}>.' | Matched :- 'False'\n",
      " discussed with your doctor.' | Qrd txt :- 'Pregnancy <and> <,> breast-feeding <and fertility>' | Matched :- 'False'| 3 | ABASAGLAR_clean_ PACKAGE LEAFLET.json | Doc txt :- 'Follow closely the instructions for posology, monitoring (blood and\n",
      " discussed with your doctor.' | Qrd txt :- 'This leaflet was last revised in <{MM/YYYY}><{month YYYY}>.' | Matched :- 'False'SAGLAR_clean_ PACKAGE LEAFLET.json | Doc txt :- 'Follow closely the instructions for posology, monitoring (blood and\n",
      " for hypoglycaemia (see box at the end of this leaflet).' | Qrd txt :- 'Pregnancy <and> <,> breast-feeding <and fertility>' | Matched :- 'False'GE LEAFLET.json | Doc txt :- 'If your blood sugar is too low (hypoglycaemia), follow the guidance\n",
      " for hypoglycaemia (see box at the end of this leaflet).' | Qrd txt :- 'This leaflet was last revised in <{MM/YYYY}><{month YYYY}>.' | Matched :- 'False'T.json | Doc txt :- 'If your blood sugar is too low (hypoglycaemia), follow the guidance\n",
      "2021-05-13 15:33:42,572 : Heading Extraction ABASAGLAR_clean_ PACKAGE LEAFLET.json_k : Match Failed | H | CAP |  en | 3 | ABASAGLAR_clean_ PACKAGE LEAFLET.json | Doc txt :- 'Skin changes at the injection site.' | Qrd txt :- 'Pregnancy <and> <,> breast-feeding <and fertility>' | Matched :- 'False'\n",
      "2021-05-13 15:33:42,587 : Heading Extraction ABASAGLAR_clean_ PACKAGE LEAFLET.json_k : Match Failed | H | CAP |  en | 3 | ABASAGLAR_clean_ PACKAGE LEAFLET.json | Doc txt :- 'Skin changes at the injection site.' | Qrd txt :- 'This leaflet was last revised in <{MM/YYYY}><{month YYYY}>.' | Matched :- 'False'\n",
      "2021-05-13 15:33:42,624 : Heading Extraction ABASAGLAR_clean_ PACKAGE LEAFLET.json_k : Match Failed | H | CAP |  en | 3 | ABASAGLAR_clean_ PACKAGE LEAFLET.json | Doc txt :- 'Before travelling consult your doctor. You may need to talk about:' | Qrd txt :- 'Pregnancy <and> <,> breast-feeding <and fertility>' | Matched :- 'False'\n",
      "2021-05-13 15:33:42,641 : Heading Extraction ABASAGLAR_clean_ PACKAGE LEAFLET.json_k : Match Failed | H | CAP |  en | 3 | ABASAGLAR_clean_ PACKAGE LEAFLET.json | Doc txt :- 'Before travelling consult your doctor. You may need to talk about:' | Qrd txt :- 'This leaflet was last revised in <{MM/YYYY}><{month YYYY}>.' | Matched :- 'False'\n",
      " insulin in the country you are visiting,' | Qrd txt :- 'Pregnancy <and> <,> breast-feeding <and fertility>' | Matched :- 'False'AR_clean_ PACKAGE LEAFLET.json | Doc txt :- '-         the availability of your\n",
      " insulin in the country you are visiting,' | Qrd txt :- 'This leaflet was last revised in <{MM/YYYY}><{month YYYY}>.' | Matched :- 'False' PACKAGE LEAFLET.json | Doc txt :- '-         the availability of your\n",
      "2021-05-13 15:33:42,689 : Heading Extraction ABASAGLAR_clean_ PACKAGE LEAFLET.json_k : Match Failed | H | CAP |  en | 3 | ABASAGLAR_clean_ PACKAGE LEAFLET.json | Doc txt :- '-         supplies of insulin etc.' | Qrd txt :- 'Pregnancy <and> <,> breast-feeding <and fertility>' | Matched :- 'False'\n",
      "2021-05-13 15:33:42,705 : Heading Extraction ABASAGLAR_clean_ PACKAGE LEAFLET.json_k : Match Failed | H | CAP |  en | 3 | ABASAGLAR_clean_ PACKAGE LEAFLET.json | Doc txt :- '-         supplies of insulin etc.' | Qrd txt :- 'This leaflet was last revised in <{MM/YYYY}><{month YYYY}>.' | Matched :- 'False'\n",
      " insulin while travelling,' | Qrd txt :- 'Pregnancy <and> <,> breast-feeding <and fertility>' | Matched :- 'False'n | 3 | ABASAGLAR_clean_ PACKAGE LEAFLET.json | Doc txt :- '-         correct storage of your\n",
      " insulin while travelling,' | Qrd txt :- 'This leaflet was last revised in <{MM/YYYY}><{month YYYY}>.' | Matched :- 'False'BASAGLAR_clean_ PACKAGE LEAFLET.json | Doc txt :- '-         correct storage of your\n"
     ]
    },
    {
     "name": "stderr",
     "output_type": "stream",
     "text": [
      " insulin administration while travelling,' | Qrd txt :- 'Pregnancy <and> <,> breast-feeding <and fertility>' | Matched :- 'False'AR_clean_ PACKAGE LEAFLET.json | Doc txt :- '-         timing of meals and\n",
      " insulin administration while travelling,' | Qrd txt :- 'This leaflet was last revised in <{MM/YYYY}><{month YYYY}>.' | Matched :- 'False' PACKAGE LEAFLET.json | Doc txt :- '-         timing of meals and\n",
      " changing to different time zones,' | Qrd txt :- 'Pregnancy <and> <,> breast-feeding <and fertility>' | Matched :- 'False'ABASAGLAR_clean_ PACKAGE LEAFLET.json | Doc txt :- '-         the possible effects of\n",
      " changing to different time zones,' | Qrd txt :- 'This leaflet was last revised in <{MM/YYYY}><{month YYYY}>.' | Matched :- 'False'_clean_ PACKAGE LEAFLET.json | Doc txt :- '-         the possible effects of\n",
      " risks in the countries to be visited,' | Qrd txt :- 'Pregnancy <and> <,> breast-feeding <and fertility>' | Matched :- 'False'AGLAR_clean_ PACKAGE LEAFLET.json | Doc txt :- '-         possible new health\n",
      " risks in the countries to be visited,' | Qrd txt :- 'This leaflet was last revised in <{MM/YYYY}><{month YYYY}>.' | Matched :- 'False'an_ PACKAGE LEAFLET.json | Doc txt :- '-         possible new health\n",
      " emergency situations when you feel unwell or become ill.' | Qrd txt :- 'Pregnancy <and> <,> breast-feeding <and fertility>' | Matched :- 'False'E LEAFLET.json | Doc txt :- '-         what you should do in\n",
      " emergency situations when you feel unwell or become ill.' | Qrd txt :- 'This leaflet was last revised in <{MM/YYYY}><{month YYYY}>.' | Matched :- 'False'.json | Doc txt :- '-         what you should do in\n",
      "2021-05-13 15:33:42,938 : Heading Extraction ABASAGLAR_clean_ PACKAGE LEAFLET.json_k : Match Failed | H | CAP |  en | 3 | ABASAGLAR_clean_ PACKAGE LEAFLET.json | Doc txt :- 'Illnesses and injuries' | Qrd txt :- 'Pregnancy <and> <,> breast-feeding <and fertility>' | Matched :- 'False'\n",
      "2021-05-13 15:33:42,955 : Heading Extraction ABASAGLAR_clean_ PACKAGE LEAFLET.json_k : Match Failed | H | CAP |  en | 3 | ABASAGLAR_clean_ PACKAGE LEAFLET.json | Doc txt :- 'Illnesses and injuries' | Qrd txt :- 'This leaflet was last revised in <{MM/YYYY}><{month YYYY}>.' | Matched :- 'False'\n",
      " tests):' | Qrd txt :- 'Pregnancy <and> <,> breast-feeding <and fertility>' | Matched :- 'False'led | H | CAP |  en | 3 | ABASAGLAR_clean_ PACKAGE LEAFLET.json | Doc txt :- 'In the following situations, the management of your diabetes may\n",
      " tests):' | Qrd txt :- 'This leaflet was last revised in <{MM/YYYY}><{month YYYY}>.' | Matched :- 'False' CAP |  en | 3 | ABASAGLAR_clean_ PACKAGE LEAFLET.json | Doc txt :- 'In the following situations, the management of your diabetes may\n",
      " major injury then your blood sugar level may increase (hyperglycaemia).' | Qrd txt :- 'Pregnancy <and> <,> breast-feeding <and fertility>' | Matched :- 'False'| Doc txt :- '-         If you are ill or have a\n",
      " major injury then your blood sugar level may increase (hyperglycaemia).' | Qrd txt :- 'This leaflet was last revised in <{MM/YYYY}><{month YYYY}>.' | Matched :- 'False' :- '-         If you are ill or have a\n",
      " enough your blood sugar level may become too low (hypoglycaemia).' | Qrd txt :- 'Pregnancy <and> <,> breast-feeding <and fertility>' | Matched :- 'False'.json | Doc txt :- '-         If you are not eating\n",
      " enough your blood sugar level may become too low (hypoglycaemia).' | Qrd txt :- 'This leaflet was last revised in <{MM/YYYY}><{month YYYY}>.' | Matched :- 'False'oc txt :- '-         If you are not eating\n",
      " a doctor early.' | Qrd txt :- 'Pregnancy <and> <,> breast-feeding <and fertility>' | Matched :- 'False'| CAP |  en | 3 | ABASAGLAR_clean_ PACKAGE LEAFLET.json | Doc txt :- 'In most cases you will need a doctor. Make sure that you contact\n",
      " a doctor early.' | Qrd txt :- 'This leaflet was last revised in <{MM/YYYY}><{month YYYY}>.' | Matched :- 'False'en | 3 | ABASAGLAR_clean_ PACKAGE LEAFLET.json | Doc txt :- 'In most cases you will need a doctor. Make sure that you contact\n",
      " insulin.' | Qrd txt :- 'Pregnancy <and> <,> breast-feeding <and fertility>' | Matched :- 'False'ed | H | CAP |  en | 3 | ABASAGLAR_clean_ PACKAGE LEAFLET.json | Doc txt :- 'If you have type 1 diabetes (insulin dependent diabetes\n",
      " insulin.' | Qrd txt :- 'This leaflet was last revised in <{MM/YYYY}><{month YYYY}>.' | Matched :- 'False'CAP |  en | 3 | ABASAGLAR_clean_ PACKAGE LEAFLET.json | Doc txt :- 'If you have type 1 diabetes (insulin dependent diabetes\n",
      " will require a change to your insulin dose.' | Qrd txt :- 'Pregnancy <and> <,> breast-feeding <and fertility>' | Matched :- 'False'clean_ PACKAGE LEAFLET.json | Doc txt :- 'Insulin treatment can cause the body to produce antibodies to\n",
      " will require a change to your insulin dose.' | Qrd txt :- 'This leaflet was last revised in <{MM/YYYY}><{month YYYY}>.' | Matched :- 'False'CKAGE LEAFLET.json | Doc txt :- 'Insulin treatment can cause the body to produce antibodies to\n",
      "2021-05-13 15:33:43,346 : Heading Extraction ABASAGLAR_clean_ PACKAGE LEAFLET.json_k : Match Failed | H | CAP |  en | 3 | ABASAGLAR_clean_ PACKAGE LEAFLET.json | Doc txt :- 'Insulin mix-ups' | Qrd txt :- 'Pregnancy <and> <,> breast-feeding <and fertility>' | Matched :- 'False'\n",
      "2021-05-13 15:33:43,365 : Heading Extraction ABASAGLAR_clean_ PACKAGE LEAFLET.json_k : Match Failed | H | CAP |  en | 3 | ABASAGLAR_clean_ PACKAGE LEAFLET.json | Doc txt :- 'Insulin mix-ups' | Qrd txt :- 'This leaflet was last revised in <{MM/YYYY}><{month YYYY}>.' | Matched :- 'False'\n",
      " ABASAGLAR and other insulins.' | Qrd txt :- 'Pregnancy <and> <,> breast-feeding <and fertility>' | Matched :- 'False'3 | ABASAGLAR_clean_ PACKAGE LEAFLET.json | Doc txt :- 'You must always check the pack and the insulin label before each injection to avoid mix-ups between\n",
      " ABASAGLAR and other insulins.' | Qrd txt :- 'This leaflet was last revised in <{MM/YYYY}><{month YYYY}>.' | Matched :- 'False'GLAR_clean_ PACKAGE LEAFLET.json | Doc txt :- 'You must always check the pack and the insulin label before each injection to avoid mix-ups between\n",
      "2021-05-13 15:33:43,458 : Heading Extraction ABASAGLAR_clean_ PACKAGE LEAFLET.json_k : Match Failed | H | CAP |  en | 3 | ABASAGLAR_clean_ PACKAGE LEAFLET.json | Doc txt :- 'Children' | Qrd txt :- 'Children <and adolescents>' | Matched :- 'False'\n",
      " the age of 2 years.' | Qrd txt :- 'Pregnancy <and> <,> breast-feeding <and fertility>' | Matched :- 'False'P |  en | 3 | ABASAGLAR_clean_ PACKAGE LEAFLET.json | Doc txt :- 'There is no experience with the use of ABASAGLAR in children below\n",
      " the age of 2 years.' | Qrd txt :- 'This leaflet was last revised in <{MM/YYYY}><{month YYYY}>.' | Matched :- 'False' 3 | ABASAGLAR_clean_ PACKAGE LEAFLET.json | Doc txt :- 'There is no experience with the use of ABASAGLAR in children below\n",
      "2021-05-13 15:33:43,531 : Heading Extraction ABASAGLAR_clean_ PACKAGE LEAFLET.json_k : Match Passed | H | CAP |  en | 3 | ABASAGLAR_clean_ PACKAGE LEAFLET.json | Doc txt :- 'Other medicines and ABASAGLAR' | Qrd txt :- 'Other medicines and ABASAGLAR' | Matched :- 'True'\n",
      "2021-05-13 15:33:43,538 : Heading Extraction ABASAGLAR_clean_ PACKAGE LEAFLET.json_k : Validation Failed As Wrong Heading Found | H | CAP |  en | 3 | ABASAGLAR_clean_ PACKAGE LEAFLET.json | currHeadId :- '23009' | currParentHeadId :- '23005.0' | prevParentHeadId :- '23014'\n",
      "2021-05-13 15:33:43,543 : Heading Extraction ABASAGLAR_clean_ PACKAGE LEAFLET.json_k : Match Failed | H | CAP |  en | 3 | ABASAGLAR_clean_ PACKAGE LEAFLET.json | Doc txt :- 'Other medicines and ABASAGLAR' | Qrd txt :- 'Pregnancy <and> <,> breast-feeding <and fertility>' | Matched :- 'False'\n",
      "2021-05-13 15:33:43,563 : Heading Extraction ABASAGLAR_clean_ PACKAGE LEAFLET.json_k : Match Failed | H | CAP |  en | 3 | ABASAGLAR_clean_ PACKAGE LEAFLET.json | Doc txt :- 'Other medicines and ABASAGLAR' | Qrd txt :- 'This leaflet was last revised in <{MM/YYYY}><{month YYYY}>.' | Matched :- 'False'\n",
      " need to take.' | Qrd txt :- 'Pregnancy <and> <,> breast-feeding <and fertility>' | Matched :- 'False'H | CAP |  en | 3 | ABASAGLAR_clean_ PACKAGE LEAFLET.json | Doc txt :- 'Tell your doctor or pharmacist if you are taking, have recently\n",
      " need to take.' | Qrd txt :- 'This leaflet was last revised in <{MM/YYYY}><{month YYYY}>.' | Matched :- 'False'  en | 3 | ABASAGLAR_clean_ PACKAGE LEAFLET.json | Doc txt :- 'Tell your doctor or pharmacist if you are taking, have recently\n"
     ]
    },
    {
     "name": "stderr",
     "output_type": "stream",
     "text": [
      " (hypoglycaemia) include:' | Qrd txt :- 'Pregnancy <and> <,> breast-feeding <and fertility>' | Matched :- 'False'en | 3 | ABASAGLAR_clean_ PACKAGE LEAFLET.json | Doc txt :- 'Medicines that may cause your blood sugar level to fall\n",
      " (hypoglycaemia) include:' | Qrd txt :- 'This leaflet was last revised in <{MM/YYYY}><{month YYYY}>.' | Matched :- 'False'ABASAGLAR_clean_ PACKAGE LEAFLET.json | Doc txt :- 'Medicines that may cause your blood sugar level to fall\n",
      " treat diabetes,' | Qrd txt :- 'Pregnancy <and> <,> breast-feeding <and fertility>' | Matched :- 'False'| CAP |  en | 3 | ABASAGLAR_clean_ PACKAGE LEAFLET.json | Doc txt :- '-         all other medicines to\n",
      " treat diabetes,' | Qrd txt :- 'This leaflet was last revised in <{MM/YYYY}><{month YYYY}>.' | Matched :- 'False'en | 3 | ABASAGLAR_clean_ PACKAGE LEAFLET.json | Doc txt :- '-         all other medicines to\n",
      " pressure),' | Qrd txt :- 'Pregnancy <and> <,> breast-feeding <and fertility>' | Matched :- 'False' | H | CAP |  en | 3 | ABASAGLAR_clean_ PACKAGE LEAFLET.json | Doc txt :- '-         angiotensin converting\n",
      " pressure),' | Qrd txt :- 'This leaflet was last revised in <{MM/YYYY}><{month YYYY}>.' | Matched :- 'False'P |  en | 3 | ABASAGLAR_clean_ PACKAGE LEAFLET.json | Doc txt :- '-         angiotensin converting\n",
      " treat certain heart conditions),' | Qrd txt :- 'Pregnancy <and> <,> breast-feeding <and fertility>' | Matched :- 'False' ABASAGLAR_clean_ PACKAGE LEAFLET.json | Doc txt :- '-         disopyramide (used to\n",
      " treat certain heart conditions),' | Qrd txt :- 'This leaflet was last revised in <{MM/YYYY}><{month YYYY}>.' | Matched :- 'False'R_clean_ PACKAGE LEAFLET.json | Doc txt :- '-         disopyramide (used to\n",
      " treat depression),' | Qrd txt :- 'Pregnancy <and> <,> breast-feeding <and fertility>' | Matched :- 'False'AP |  en | 3 | ABASAGLAR_clean_ PACKAGE LEAFLET.json | Doc txt :- '-         fluoxetine (used to\n",
      " treat depression),' | Qrd txt :- 'This leaflet was last revised in <{MM/YYYY}><{month YYYY}>.' | Matched :- 'False'| 3 | ABASAGLAR_clean_ PACKAGE LEAFLET.json | Doc txt :- '-         fluoxetine (used to\n",
      " high levels of blood lipids),' | Qrd txt :- 'Pregnancy <and> <,> breast-feeding <and fertility>' | Matched :- 'False'3 | ABASAGLAR_clean_ PACKAGE LEAFLET.json | Doc txt :- '-         fibrates (used to lower\n",
      " high levels of blood lipids),' | Qrd txt :- 'This leaflet was last revised in <{MM/YYYY}><{month YYYY}>.' | Matched :- 'False'GLAR_clean_ PACKAGE LEAFLET.json | Doc txt :- '-         fibrates (used to lower\n",
      " inhibitors (used to treat depression),' | Qrd txt :- 'Pregnancy <and> <,> breast-feeding <and fertility>' | Matched :- 'False'GLAR_clean_ PACKAGE LEAFLET.json | Doc txt :- '-         monoamine oxidase (MAO)\n",
      " inhibitors (used to treat depression),' | Qrd txt :- 'This leaflet was last revised in <{MM/YYYY}><{month YYYY}>.' | Matched :- 'False'n_ PACKAGE LEAFLET.json | Doc txt :- '-         monoamine oxidase (MAO)\n",
      " fever), ' | Qrd txt :- 'Pregnancy <and> <,> breast-feeding <and fertility>' | Matched :- 'False'ed | H | CAP |  en | 3 | ABASAGLAR_clean_ PACKAGE LEAFLET.json | Doc txt :- '-         pentoxifylline,\n",
      " fever), ' | Qrd txt :- 'This leaflet was last revised in <{MM/YYYY}><{month YYYY}>.' | Matched :- 'False'CAP |  en | 3 | ABASAGLAR_clean_ PACKAGE LEAFLET.json | Doc txt :- '-         pentoxifylline,\n",
      " much growth hormone),' | Qrd txt :- 'Pregnancy <and> <,> breast-feeding <and fertility>' | Matched :- 'False'|  en | 3 | ABASAGLAR_clean_ PACKAGE LEAFLET.json | Doc txt :- '-         somatostatin analogues\n",
      " much growth hormone),' | Qrd txt :- 'This leaflet was last revised in <{MM/YYYY}><{month YYYY}>.' | Matched :- 'False' | ABASAGLAR_clean_ PACKAGE LEAFLET.json | Doc txt :- '-         somatostatin analogues\n",
      " antibiotics.' | Qrd txt :- 'Pregnancy <and> <,> breast-feeding <and fertility>' | Matched :- 'False' H | CAP |  en | 3 | ABASAGLAR_clean_ PACKAGE LEAFLET.json | Doc txt :- ' -        sulphonamide\n",
      " antibiotics.' | Qrd txt :- 'This leaflet was last revised in <{MM/YYYY}><{month YYYY}>.' | Matched :- 'False'|  en | 3 | ABASAGLAR_clean_ PACKAGE LEAFLET.json | Doc txt :- ' -        sulphonamide\n",
      " rise (hyperglycaemia) include:' | Qrd txt :- 'Pregnancy <and> <,> breast-feeding <and fertility>' | Matched :- 'False' | ABASAGLAR_clean_ PACKAGE LEAFLET.json | Doc txt :- 'Medicines that may cause your blood sugar level to\n",
      " rise (hyperglycaemia) include:' | Qrd txt :- 'This leaflet was last revised in <{MM/YYYY}><{month YYYY}>.' | Matched :- 'False'LAR_clean_ PACKAGE LEAFLET.json | Doc txt :- 'Medicines that may cause your blood sugar level to\n",
      " (such as \"cortisone\" used to treat inflammation),' | Qrd txt :- 'Pregnancy <and> <,> breast-feeding <and fertility>' | Matched :- 'False' PACKAGE LEAFLET.json | Doc txt :- '-         corticosteroids\n",
      " (such as \"cortisone\" used to treat inflammation),' | Qrd txt :- 'This leaflet was last revised in <{MM/YYYY}><{month YYYY}>.' | Matched :- 'False'LEAFLET.json | Doc txt :- '-         corticosteroids\n",
      " (medicine acting on ovulation),' | Qrd txt :- 'Pregnancy <and> <,> breast-feeding <and fertility>' | Matched :- 'False'| ABASAGLAR_clean_ PACKAGE LEAFLET.json | Doc txt :- '-         danazol\n",
      " (medicine acting on ovulation),' | Qrd txt :- 'This leaflet was last revised in <{MM/YYYY}><{month YYYY}>.' | Matched :- 'False'AR_clean_ PACKAGE LEAFLET.json | Doc txt :- '-         danazol\n",
      " high blood pressure),' | Qrd txt :- 'Pregnancy <and> <,> breast-feeding <and fertility>' | Matched :- 'False'|  en | 3 | ABASAGLAR_clean_ PACKAGE LEAFLET.json | Doc txt :- '-         diazoxide (used to treat\n",
      " high blood pressure),' | Qrd txt :- 'This leaflet was last revised in <{MM/YYYY}><{month YYYY}>.' | Matched :- 'False' | ABASAGLAR_clean_ PACKAGE LEAFLET.json | Doc txt :- '-         diazoxide (used to treat\n",
      " high blood pressure or excessive fluid retention),' | Qrd txt :- 'Pregnancy <and> <,> breast-feeding <and fertility>' | Matched :- 'False'PACKAGE LEAFLET.json | Doc txt :- '-         diuretics (used to treat\n",
      " high blood pressure or excessive fluid retention),' | Qrd txt :- 'This leaflet was last revised in <{MM/YYYY}><{month YYYY}>.' | Matched :- 'False'EAFLET.json | Doc txt :- '-         diuretics (used to treat\n",
      " hormone used to treat severe hypoglycaemia),' | Qrd txt :- 'Pregnancy <and> <,> breast-feeding <and fertility>' | Matched :- 'False'lean_ PACKAGE LEAFLET.json | Doc txt :- '-         glucagon (pancreas\n",
      " hormone used to treat severe hypoglycaemia),' | Qrd txt :- 'This leaflet was last revised in <{MM/YYYY}><{month YYYY}>.' | Matched :- 'False'KAGE LEAFLET.json | Doc txt :- '-         glucagon (pancreas\n",
      " tuberculosis),' | Qrd txt :- 'Pregnancy <and> <,> breast-feeding <and fertility>' | Matched :- 'False' | CAP |  en | 3 | ABASAGLAR_clean_ PACKAGE LEAFLET.json | Doc txt :- '-         isoniazid (used to treat\n",
      " tuberculosis),' | Qrd txt :- 'This leaflet was last revised in <{MM/YYYY}><{month YYYY}>.' | Matched :- 'False' en | 3 | ABASAGLAR_clean_ PACKAGE LEAFLET.json | Doc txt :- '-         isoniazid (used to treat\n",
      " progestogens (such as in the contraceptive pill used for birth control), ' | Qrd txt :- 'Pregnancy <and> <,> breast-feeding <and fertility>' | Matched :- 'False'Doc txt :- '-         oestrogens and\n",
      " progestogens (such as in the contraceptive pill used for birth control), ' | Qrd txt :- 'This leaflet was last revised in <{MM/YYYY}><{month YYYY}>.' | Matched :- 'False'- '-         oestrogens and\n",
      " derivatives (used to treat psychiatric disorders),' | Qrd txt :- 'Pregnancy <and> <,> breast-feeding <and fertility>' | Matched :- 'False'PACKAGE LEAFLET.json | Doc txt :- '-         phenothiazine\n",
      " derivatives (used to treat psychiatric disorders),' | Qrd txt :- 'This leaflet was last revised in <{MM/YYYY}><{month YYYY}>.' | Matched :- 'False'EAFLET.json | Doc txt :- '-         phenothiazine\n",
      " hormone),' | Qrd txt :- 'Pregnancy <and> <,> breast-feeding <and fertility>' | Matched :- 'False'd | H | CAP |  en | 3 | ABASAGLAR_clean_ PACKAGE LEAFLET.json | Doc txt :- '-         somatropin (growth\n",
      " hormone),' | Qrd txt :- 'This leaflet was last revised in <{MM/YYYY}><{month YYYY}>.' | Matched :- 'False'AP |  en | 3 | ABASAGLAR_clean_ PACKAGE LEAFLET.json | Doc txt :- '-         somatropin (growth\n"
     ]
    },
    {
     "name": "stderr",
     "output_type": "stream",
     "text": [
      " treat asthma),' | Qrd txt :- 'Pregnancy <and> <,> breast-feeding <and fertility>' | Matched :- 'False' | CAP |  en | 3 | ABASAGLAR_clean_ PACKAGE LEAFLET.json | Doc txt :- '-         sympathomimetic\n",
      " treat asthma),' | Qrd txt :- 'This leaflet was last revised in <{MM/YYYY}><{month YYYY}>.' | Matched :- 'False' en | 3 | ABASAGLAR_clean_ PACKAGE LEAFLET.json | Doc txt :- '-         sympathomimetic\n",
      " to treat thyroid gland disorders),' | Qrd txt :- 'Pregnancy <and> <,> breast-feeding <and fertility>' | Matched :- 'False'BASAGLAR_clean_ PACKAGE LEAFLET.json | Doc txt :- '-         thyroid hormones (used\n",
      " to treat thyroid gland disorders),' | Qrd txt :- 'This leaflet was last revised in <{MM/YYYY}><{month YYYY}>.' | Matched :- 'False'clean_ PACKAGE LEAFLET.json | Doc txt :- '-         thyroid hormones (used\n",
      " medicines (such as clozapine, olanzapine),' | Qrd txt :- 'Pregnancy <and> <,> breast-feeding <and fertility>' | Matched :- 'False'_clean_ PACKAGE LEAFLET.json | Doc txt :- '-         atypical antipsychotic\n",
      " medicines (such as clozapine, olanzapine),' | Qrd txt :- 'This leaflet was last revised in <{MM/YYYY}><{month YYYY}>.' | Matched :- 'False'ACKAGE LEAFLET.json | Doc txt :- '-         atypical antipsychotic\n",
      " (used to treat HIV).' | Qrd txt :- 'Pregnancy <and> <,> breast-feeding <and fertility>' | Matched :- 'False' |  en | 3 | ABASAGLAR_clean_ PACKAGE LEAFLET.json | Doc txt :- '-         protease inhibitors\n",
      " (used to treat HIV).' | Qrd txt :- 'This leaflet was last revised in <{MM/YYYY}><{month YYYY}>.' | Matched :- 'False'3 | ABASAGLAR_clean_ PACKAGE LEAFLET.json | Doc txt :- '-         protease inhibitors\n",
      "2021-05-13 15:33:44,641 : Heading Extraction ABASAGLAR_clean_ PACKAGE LEAFLET.json_k : Match Failed | H | CAP |  en | 3 | ABASAGLAR_clean_ PACKAGE LEAFLET.json | Doc txt :- 'Your blood sugar level may either rise or fall if you take:' | Qrd txt :- 'Pregnancy <and> <,> breast-feeding <and fertility>' | Matched :- 'False'\n",
      "2021-05-13 15:33:44,662 : Heading Extraction ABASAGLAR_clean_ PACKAGE LEAFLET.json_k : Match Failed | H | CAP |  en | 3 | ABASAGLAR_clean_ PACKAGE LEAFLET.json | Doc txt :- 'Your blood sugar level may either rise or fall if you take:' | Qrd txt :- 'This leaflet was last revised in <{MM/YYYY}><{month YYYY}>.' | Matched :- 'False'\n",
      " treat high blood pressure),' | Qrd txt :- 'Pregnancy <and> <,> breast-feeding <and fertility>' | Matched :- 'False'| 3 | ABASAGLAR_clean_ PACKAGE LEAFLET.json | Doc txt :- '-         beta-blockers (used to\n",
      " treat high blood pressure),' | Qrd txt :- 'This leaflet was last revised in <{MM/YYYY}><{month YYYY}>.' | Matched :- 'False'SAGLAR_clean_ PACKAGE LEAFLET.json | Doc txt :- '-         beta-blockers (used to\n",
      " high blood pressure),' | Qrd txt :- 'Pregnancy <and> <,> breast-feeding <and fertility>' | Matched :- 'False'|  en | 3 | ABASAGLAR_clean_ PACKAGE LEAFLET.json | Doc txt :- '-         clonidine (used to treat\n",
      " high blood pressure),' | Qrd txt :- 'This leaflet was last revised in <{MM/YYYY}><{month YYYY}>.' | Matched :- 'False' | ABASAGLAR_clean_ PACKAGE LEAFLET.json | Doc txt :- '-         clonidine (used to treat\n",
      " treat psychiatric disorders).' | Qrd txt :- 'Pregnancy <and> <,> breast-feeding <and fertility>' | Matched :- 'False'3 | ABASAGLAR_clean_ PACKAGE LEAFLET.json | Doc txt :- '-         lithium salts (used to\n",
      " treat psychiatric disorders).' | Qrd txt :- 'This leaflet was last revised in <{MM/YYYY}><{month YYYY}>.' | Matched :- 'False'GLAR_clean_ PACKAGE LEAFLET.json | Doc txt :- '-         lithium salts (used to\n",
      " cause hypoglycaemia which may sometimes be followed by hyperglycaemia.' | Qrd txt :- 'Pregnancy <and> <,> breast-feeding <and fertility>' | Matched :- 'False' | Doc txt :- 'Pentamidine (used to treat some infections caused by parasites) may\n",
      " cause hypoglycaemia which may sometimes be followed by hyperglycaemia.' | Qrd txt :- 'This leaflet was last revised in <{MM/YYYY}><{month YYYY}>.' | Matched :- 'False't :- 'Pentamidine (used to treat some infections caused by parasites) may\n",
      " symptoms which help you to recognise a hypoglycaemia. ' | Qrd txt :- 'Pregnancy <and> <,> breast-feeding <and fertility>' | Matched :- 'False'AGE LEAFLET.json | Doc txt :- 'Beta-blockers like other sympatholytic medicines (such as clonidine,\n",
      " symptoms which help you to recognise a hypoglycaemia. ' | Qrd txt :- 'This leaflet was last revised in <{MM/YYYY}><{month YYYY}>.' | Matched :- 'False'ET.json | Doc txt :- 'Beta-blockers like other sympatholytic medicines (such as clonidine,\n",
      " ask your doctor or pharmacist.' | Qrd txt :- 'Pregnancy <and> <,> breast-feeding <and fertility>' | Matched :- 'False' | ABASAGLAR_clean_ PACKAGE LEAFLET.json | Doc txt :- 'If you are not sure whether you are taking one of those medicines\n",
      " ask your doctor or pharmacist.' | Qrd txt :- 'This leaflet was last revised in <{MM/YYYY}><{month YYYY}>.' | Matched :- 'False'LAR_clean_ PACKAGE LEAFLET.json | Doc txt :- 'If you are not sure whether you are taking one of those medicines\n",
      "2021-05-13 15:33:44,978 : Heading Extraction ABASAGLAR_clean_ PACKAGE LEAFLET.json_k : Match Passed | H | CAP |  en | 3 | ABASAGLAR_clean_ PACKAGE LEAFLET.json | Doc txt :- 'ABASAGLAR with alcohol' | Qrd txt :- 'ABASAGLAR with <food> <and> <,> <drink> <and> <alcohol>' | Matched :- 'True'\n",
      "2021-05-13 15:33:44,987 : Heading Extraction ABASAGLAR_clean_ PACKAGE LEAFLET.json_k : Validation Failed As Wrong Heading Found | H | CAP |  en | 3 | ABASAGLAR_clean_ PACKAGE LEAFLET.json | currHeadId :- '23010' | currParentHeadId :- '23005.0' | prevParentHeadId :- '23014'\n",
      "2021-05-13 15:33:44,992 : Heading Extraction ABASAGLAR_clean_ PACKAGE LEAFLET.json_k : Match Failed | H | CAP |  en | 3 | ABASAGLAR_clean_ PACKAGE LEAFLET.json | Doc txt :- 'ABASAGLAR with alcohol' | Qrd txt :- 'Pregnancy <and> <,> breast-feeding <and fertility>' | Matched :- 'False'\n",
      "2021-05-13 15:33:45,014 : Heading Extraction ABASAGLAR_clean_ PACKAGE LEAFLET.json_k : Match Failed | H | CAP |  en | 3 | ABASAGLAR_clean_ PACKAGE LEAFLET.json | Doc txt :- 'ABASAGLAR with alcohol' | Qrd txt :- 'This leaflet was last revised in <{MM/YYYY}><{month YYYY}>.' | Matched :- 'False'\n",
      " alcohol.' | Qrd txt :- 'Pregnancy <and> <,> breast-feeding <and fertility>' | Matched :- 'False'ed | H | CAP |  en | 3 | ABASAGLAR_clean_ PACKAGE LEAFLET.json | Doc txt :- 'Your blood sugar levels may either rise or fall if you drink\n",
      " alcohol.' | Qrd txt :- 'This leaflet was last revised in <{MM/YYYY}><{month YYYY}>.' | Matched :- 'False'CAP |  en | 3 | ABASAGLAR_clean_ PACKAGE LEAFLET.json | Doc txt :- 'Your blood sugar levels may either rise or fall if you drink\n",
      "2021-05-13 15:33:45,068 : Heading Extraction ABASAGLAR_clean_ PACKAGE LEAFLET.json_k : Match Passed | H | CAP |  en | 3 | ABASAGLAR_clean_ PACKAGE LEAFLET.json | Doc txt :- 'Pregnancy and breast-feeding' | Qrd txt :- 'Pregnancy <and> <,> breast-feeding <and fertility>' | Matched :- 'True'\n",
      "2021-05-13 15:33:45,075 : Heading Extraction ABASAGLAR_clean_ PACKAGE LEAFLET.json_k : Validation Failed As Wrong Heading Found | H | CAP |  en | 3 | ABASAGLAR_clean_ PACKAGE LEAFLET.json | currHeadId :- '23011' | currParentHeadId :- '23005.0' | prevParentHeadId :- '23014'\n",
      "2021-05-13 15:33:45,098 : Heading Extraction ABASAGLAR_clean_ PACKAGE LEAFLET.json_k : Match Failed | H | CAP |  en | 3 | ABASAGLAR_clean_ PACKAGE LEAFLET.json | Doc txt :- 'Pregnancy and breast-feeding' | Qrd txt :- 'This leaflet was last revised in <{MM/YYYY}><{month YYYY}>.' | Matched :- 'False'\n",
      "2021-05-13 15:33:45,123 : Heading Extraction ABASAGLAR_clean_ PACKAGE LEAFLET.json_k : Match Failed | H | CAP |  en | 3 | ABASAGLAR_clean_ PACKAGE LEAFLET.json | Doc txt :- 'Ask your doctor or pharmacist for advice before taking any medicine.' | Qrd txt :- 'Pregnancy <and> <,> breast-feeding <and fertility>' | Matched :- 'False'\n",
      "2021-05-13 15:33:45,143 : Heading Extraction ABASAGLAR_clean_ PACKAGE LEAFLET.json_k : Match Failed | H | CAP |  en | 3 | ABASAGLAR_clean_ PACKAGE LEAFLET.json | Doc txt :- 'Ask your doctor or pharmacist for advice before taking any medicine.' | Qrd txt :- 'This leaflet was last revised in <{MM/YYYY}><{month YYYY}>.' | Matched :- 'False'\n",
      " adjustments in your insulin doses and your diet.' | Qrd txt :- 'Pregnancy <and> <,> breast-feeding <and fertility>' | Matched :- 'False'_ PACKAGE LEAFLET.json | Doc txt :- 'If you are breast-feeding consult your doctor as you may require\n"
     ]
    },
    {
     "name": "stderr",
     "output_type": "stream",
     "text": [
      "2021-05-13 15:33:45,205 : Heading Extraction ABASAGLAR_clean_ PACKAGE LEAFLET.json_k : Match Failed | H | CAP |  en | 3 | ABASAGLAR_clean_ PACKAGE LEAFLET.json | Doc txt :- 'If you are breast-feeding consult your doctor as you may require\r",
      " adjustments in your insulin doses and your diet.' | Qrd txt :- 'This leaflet was last revised in <{MM/YYYY}><{month YYYY}>.' | Matched :- 'False'\n"
     ]
    }
   ],
   "source": [
    "parseDocument(controlFolderPath, outputFolderPath, htmlFileName, fileNameQrd, fileNameMatchRuleBook, fileNameDocumentTypeNames, medName)"
   ]
  },
  {
   "cell_type": "code",
   "execution_count": null,
   "metadata": {},
   "outputs": [],
   "source": []
  }
 ],
 "metadata": {
  "kernelspec": {
   "display_name": "Python 3",
   "language": "python",
   "name": "python3"
  },
  "language_info": {
   "codemirror_mode": {
    "name": "ipython",
    "version": 3
   },
   "file_extension": ".py",
   "mimetype": "text/x-python",
   "name": "python",
   "nbconvert_exporter": "python",
   "pygments_lexer": "ipython3",
   "version": "3.8.3"
  }
 },
 "nbformat": 4,
 "nbformat_minor": 4
}
