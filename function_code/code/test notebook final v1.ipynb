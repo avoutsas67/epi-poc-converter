{
 "cells": [
  {
   "cell_type": "code",
   "execution_count": 5,
   "metadata": {},
   "outputs": [],
   "source": [
    "fileNameQrd = 'qrd_canonical_model.csv'\n",
    "fileNameMatchRuleBook = 'ruleDict.json'\n",
    "fileNameDocumentTypeNames = 'documentTypeNames.json'\n",
    "\n",
    "fsMountName = '/mounted'"
   ]
  },
  {
   "cell_type": "code",
   "execution_count": 6,
   "metadata": {},
   "outputs": [],
   "source": [
    "import pprint\n",
    "import pandas as pd\n",
    "import uuid\n",
    "import json\n",
    "import os\n",
    "import glob\n",
    "import re\n",
    "import sys\n",
    "from bs4 import NavigableString, BeautifulSoup\n",
    "from collections import defaultdict\n",
    "import random\n",
    "import string\n",
    "\n",
    "from utils.config import config\n",
    "from utils.logger.logger import loggerCreator\n",
    "\n",
    "# ePI Modules\n",
    "from parse.rulebook.rulebook import StyleRulesDictionary\n",
    "\n",
    "from parse.extractor.parser import parserExtractor\n",
    "from match.matchDocument.matchDocument import MatchDocument\n",
    "from documentAnnotation.documentAnnotation import DocumentAnnotation\n",
    "from htmlDocTypePartitioner.partition import DocTypePartitioner\n",
    "from extractContentBetweenHeadings.dataBetweenHeadingsExtractor import DataBetweenHeadingsExtractor\n",
    "from fhirXmlGenerator.fhirXmlGenerator import FhirXmlGenerator\n",
    "from fhirService.fhirService import FhirService\n",
    "from utils.logger.matchLogger import MatchLogger\n",
    "from languageInfo.documentTypeNames.documentTypeNames import DocumentTypeNames\n",
    "\n",
    "\n",
    "class FolderNotFoundError(Exception):\n",
    "    pass\n",
    "\n",
    "\n",
    "def getRandomString(N):\n",
    "    str_ = ''.join(random.choice(string.ascii_uppercase + string.digits\n",
    "                                 + string.ascii_lowercase) for _ in range(N))\n",
    "    return str_\n",
    "\n",
    "\n",
    "def convertHtmlToJson(domain, procedureType, languageCode, fileNameHtml, fileNameQrd, fileNameLog, fsMountName, localEnv):\n",
    "\n",
    "    if localEnv is True:\n",
    "        module_path = os.path.join(os.path.abspath(os.path.join('..')), 'data', 'converted_to_html', f'{domain}', f'{procedureType}', f'{languageCode}')\n",
    "    else:\n",
    "        module_path = os.path.join(f'{fsMountName}', 'data', 'converted_to_html', f'{domain}', f'{procedureType}', f'{languageCode}')\n",
    "    \n",
    "    # Generate output folder path\n",
    "    output_json_path = module_path.replace('converted_to_html', 'outputJSON')\n",
    "\n",
    "    \"\"\"\n",
    "        Check if input folder exists, else throw exception\n",
    "    \"\"\"\n",
    "    print(module_path, fileNameHtml)\n",
    "    print(os.path.join(module_path, fileNameHtml))\n",
    "    print(os.path.exists(os.path.join(module_path, fileNameHtml)))\n",
    "    if(os.path.exists(module_path)):\n",
    "        filenames = glob.glob(os.path.join(module_path, fileNameHtml))\n",
    "\n",
    "        # Create language specific folder in outputJSON folder if it doesn't exist\n",
    "        if(not os.path.exists(output_json_path)):\n",
    "            os.mkdir(output_json_path)\n",
    "        logger = MatchLogger(f'Parser_{getRandomString(1)}', fileNameHtml,\n",
    "                             domain, procedureType, languageCode, \"HTML\", fileNameLog)\n",
    "\n",
    "        styleLogger = MatchLogger(\n",
    "            f'Style Dictionary_{getRandomString(1)}', fileNameHtml, domain, procedureType, languageCode, \"HTML\", fileNameLog)\n",
    "\n",
    "        styleRulesObj = StyleRulesDictionary(styleLogger,\n",
    "                                             language=languageCode,\n",
    "                                             fileName=fileNameQrd,\n",
    "                                             domain=domain,\n",
    "                                             procedureType=procedureType,\n",
    "                                             fsMountName=fsMountName,\n",
    "                                             localEnv=localEnv)\n",
    "\n",
    "        parserObj = parserExtractor(config, logger, styleRulesObj.styleRuleDict,\n",
    "                                    styleRulesObj.styleFeatureKeyList,\n",
    "                                    styleRulesObj.qrd_section_headings)\n",
    "        print(filenames)\n",
    "        for input_filename in filenames:\n",
    "          # if(input_filename.find('Kalydeco II-86-PI-clean')!=-1):\n",
    "            output_filename = input_filename.replace(\n",
    "                'converted_to_html', 'outputJSON')\n",
    "            output_filename = output_filename.replace('.html', '.json')\n",
    "            output_filename = output_filename.replace('.htm', '.json')\n",
    "            print(input_filename, output_filename)\n",
    "            parserObj.createPIJsonFromHTML(input_filepath=input_filename,\n",
    "                                           output_filepath=output_filename,\n",
    "                                           img_base64_dict=parserObj.convertImgToBase64(\n",
    "                                               input_filename),\n",
    "                                           )\n",
    "    else:\n",
    "        raise FolderNotFoundError(module_path + \" not found\")\n",
    "    return output_filename.split(\"\\\\\")[-1]\n",
    "\n",
    "\n",
    "def splitJson(domain, procedureType, languageCode, fileNameJson, fileNameQrd, fileNameLog, fsMountName, localEnv):\n",
    "\n",
    "    styleLogger = MatchLogger(\n",
    "        f'Style Dictionary_{getRandomString(1)}', fileNameJson, domain, procedureType, languageCode, \"Json\", fileNameLog)\n",
    "\n",
    "    styleRulesObj = StyleRulesDictionary(styleLogger,\n",
    "                                             language=languageCode,\n",
    "                                             fileName=fileNameQrd,\n",
    "                                             domain=domain,\n",
    "                                             procedureType=procedureType,\n",
    "                                             fsMountName=fsMountName,\n",
    "                                             localEnv=localEnv)\n",
    "    if localEnv is True:\n",
    "        path_json = os.path.join(os.path.abspath(os.path.join(\n",
    "                '..')), 'data', 'outputJSON', domain, procedureType, languageCode, fileNameJson)\n",
    "    else:\n",
    "        path_json = os.path.join(f'{fsMountName}', 'data', 'outputJSON', domain,  procedureType, languageCode, fileNameJson)\n",
    "        \n",
    "    partitionLogger = MatchLogger(\n",
    "        f'Partition_{getRandomString(1)}', fileNameJson, domain, procedureType, languageCode, \"Json\", fileNameLog)\n",
    "\n",
    "    partitioner = DocTypePartitioner(partitionLogger, localEnv)\n",
    "\n",
    "    partitionedJsonPaths = partitioner.partitionHtmls(\n",
    "        styleRulesObj.qrd_section_headings, path_json)\n",
    "\n",
    "    return partitionedJsonPaths\n",
    "\n",
    "\n",
    "def extractAndValidateHeadings(domain,\n",
    "                               procedureType,\n",
    "                               languageCode,\n",
    "                               documentNumber,\n",
    "                               fileNameDoc,\n",
    "                               fileNameQrd,\n",
    "                               fileNameMatchRuleBook,\n",
    "                               fileNameDocumentTypeNames,\n",
    "                               fileNameLog,\n",
    "                               stopWordFilterLen=6,\n",
    "                               isPackageLeaflet=False,\n",
    "                               medName=None,\n",
    "                               fsMountName='/mounted',\n",
    "                               localEnv=False):\n",
    "\n",
    "    if documentNumber == 0:\n",
    "        topHeadingsConsidered = 4\n",
    "        bottomHeadingsConsidered = 6\n",
    "    elif documentNumber == 1:\n",
    "        topHeadingsConsidered = 3\n",
    "        bottomHeadingsConsidered = 5\n",
    "    elif documentNumber == 2:\n",
    "        topHeadingsConsidered = 5\n",
    "        bottomHeadingsConsidered = 15\n",
    "    else:\n",
    "        topHeadingsConsidered = 5\n",
    "        bottomHeadingsConsidered = 10\n",
    "\n",
    "    print(f\"Starting Heading Extraction For File :- {fileNameDoc}\")\n",
    "    logger = MatchLogger(f\"Heading Extraction {fileNameDoc}\", fileNameDoc, domain, procedureType, languageCode, documentNumber, fileNameLog)\n",
    "    logger.logFlowCheckpoint(\"Starting Heading Extraction\")\n",
    "\n",
    "    stopWordlanguage = DocumentTypeNames(\n",
    "        fileNameDocumentTypeNames=fileNameDocumentTypeNames,\n",
    "        languageCode=languageCode,\n",
    "        domain=domain,\n",
    "        procedureType=procedureType,\n",
    "        documentNumber=documentNumber,\n",
    "        fsMountName=fsMountName,\n",
    "        localEnv=localEnv).extractStopWordLanguage()\n",
    "\n",
    "    matchDocObj = MatchDocument(\n",
    "        logger,\n",
    "        domain,\n",
    "        procedureType,\n",
    "        languageCode,\n",
    "        documentNumber,\n",
    "        fileNameDoc,\n",
    "        fileNameQrd,\n",
    "        fileNameMatchRuleBook,\n",
    "        fileNameDocumentTypeNames,\n",
    "        topHeadingsConsidered,\n",
    "        bottomHeadingsConsidered,\n",
    "        stopWordFilterLen,\n",
    "        stopWordlanguage,\n",
    "        isPackageLeaflet,\n",
    "        medName,\n",
    "        fsMountName,\n",
    "        localEnv)\n",
    "    df, coll = matchDocObj.matchHtmlHeaddingsWithQrd()\n",
    "\n",
    "    return df, coll\n",
    "\n",
    "\n",
    "def parseDocument(htmlDocPath, fileNameQrd, fileNameMatchRuleBook, fileNameDocumentTypeNames, fsMountName = '/mounted', localEnv= False, medName = None):\n",
    "    \n",
    "    if localEnv is True:\n",
    "        pathSep = \"\\\\\"\n",
    "        fileNameLog = os.path.join(os.path.abspath(os.path.join('..')),'data','FinalLog.txt')\n",
    "    else:\n",
    "        pathSep = \"/\"\n",
    "        fileNameLog = os.path.join(f'{fsMountName}','data','FinalLog.txt')\n",
    "    pathComponents = htmlDocPath.split(pathSep)\n",
    "    print(pathComponents)\n",
    "    fileNameHtml = pathComponents[-1]\n",
    "    languageCode =  pathComponents[-2]\n",
    "    procedureType = pathComponents[-3]\n",
    "    domain = pathComponents[-4]\n",
    "\n",
    "    #procedureType = \"CAP\"\n",
    "    print(fileNameHtml,languageCode,procedureType,domain)\n",
    "    \n",
    "    \n",
    "    \n",
    "    flowLogger =  MatchLogger(\"Flow Logger HTML\", fileNameHtml, domain, procedureType, languageCode, \"HTML\", fileNameLog)\n",
    "\n",
    "    flowLogger.logFlowCheckpoint(\"Starting HTML Conversion To Json\")\n",
    "    ###Convert Html to Json\n",
    "    fileNameJson = convertHtmlToJson( domain, procedureType, languageCode, fileNameHtml, fileNameQrd, fileNameLog, fsMountName, localEnv)\n",
    "    \n",
    "    flowLogger.logFlowCheckpoint(\"Completed HTML Conversion To Json\")\n",
    "\n",
    "    flowLogger.logFlowCheckpoint(\"Starting Json Split\")\n",
    "\n",
    "    ###Split Uber Json to multiple Jsons for each category.\n",
    "    partitionedJsonPaths = splitJson(domain, procedureType, languageCode, fileNameJson, fileNameQrd, fileNameLog, fsMountName, localEnv)\n",
    "    \n",
    "    partitionedJsonPaths = [ path.split(\"\\\\\")[-1] for path in partitionedJsonPaths]\n",
    "    flowLogger.logFlowCheckpoint(str(partitionedJsonPaths))\n",
    "    \n",
    "    flowLogger.logFlowCheckpoint(\"Completed Json Split\")\n",
    "    \n",
    "    flowLogger.logFlowCheckpoint(\"Started Processing Partitioned Jsons\")\n",
    "    \n",
    "    for index, fileNamePartitioned in enumerate(partitionedJsonPaths):\n",
    "        \n",
    "        flowLogger.logFlowCheckpoint(f\"\\n\\n\\n\\n||||||||||||||||||||||||||||||||{str(index)} ||||| {str(fileNamePartitioned)}||||||||||||||||||||||||||||||||\\n\\n\\n\\n\")\n",
    "        \n",
    "        if index == 3:\n",
    "            stopWordFilterLen = 100\n",
    "            isPackageLeaflet = True\n",
    "        else:\n",
    "            stopWordFilterLen = 6\n",
    "            isPackageLeaflet = False\n",
    "            \n",
    "        df, coll = extractAndValidateHeadings(domain,\n",
    "                                    procedureType,\n",
    "                                    languageCode,\n",
    "                                    index,\n",
    "                                    fileNamePartitioned,\n",
    "                                    fileNameQrd,\n",
    "                                    fileNameMatchRuleBook,\n",
    "                                    fileNameDocumentTypeNames,\n",
    "                                    fileNameLog,\n",
    "                                    stopWordFilterLen=stopWordFilterLen,\n",
    "                                    isPackageLeaflet=isPackageLeaflet,\n",
    "                                    medName=medName,\n",
    "                                    fsMountName=fileNameLog,\n",
    "                                    localEnv=localEnv)\n",
    "        \n",
    "        \n",
    "        print(f\"Completed Heading Extraction For File\")\n",
    "        flowLogger.logFlowCheckpoint(\"Completed Heading Extraction For File\")\n",
    "        \n",
    "        print(f\"Starting Document Annotation For File :- {fileNamePartitioned}\")        \n",
    "        flowLogger.logFlowCheckpoint(\"Starting Document Annotation For File\")\n",
    "        documentAnnotationObj = DocumentAnnotation(fileNamePartitioned,'c20835db4b1b4e108828a8537ff41506','https://spor-sit.azure-api.net/pms/api/v2/',df,coll)\n",
    "        try:\n",
    "            pms_oms_annotation_data = documentAnnotationObj.processRegulatedAuthorizationForDoc()\n",
    "            print(pms_oms_annotation_data)\n",
    "        except:\n",
    "            pms_oms_annotation_data = None\n",
    "            print(\"Error Found\")\n",
    "            \n",
    "        print(f\"Completed Document Annotation\")        \n",
    "        flowLogger.logFlowCheckpoint(\"Completed Document Annotation\")\n",
    "        \n",
    "        print(f\"Starting Extracting Content Between Heading For File :- {fileNamePartitioned}\")        \n",
    "        flowLogger.logFlowCheckpoint(\"Starting Extracting Content Between Heading\")\n",
    "        \n",
    "        extractContentlogger =  MatchLogger(f'ExtractContentBetween_{index}', fileNamePartitioned, domain, procedureType, languageCode, index, fileNameLog)\n",
    "        extractorObj = DataBetweenHeadingsExtractor(extractContentlogger, coll, domain, procedureType, languageCode, fsMountName, localEnv)\n",
    "        dfExtractedHierRR = extractorObj.extractContentBetweenHeadings(fileNamePartitioned)\n",
    "        \n",
    "        print(f\"Completed Extracting Content Between Heading\")        \n",
    "        flowLogger.logFlowCheckpoint(\"Completed Extracting Content Between Heading\")\n",
    "        \n",
    "        xmlLogger =  MatchLogger(f'XmlGeneration_{index}', fileNamePartitioned, domain, procedureType, languageCode, index, fileNameLog)\n",
    "        fhirXmlGeneratorObj = FhirXmlGenerator(xmlLogger, pms_oms_annotation_data, fsMountName, localEnv)\n",
    "        fileNameXml = fileNamePartitioned.replace('.json','.xml')\n",
    "        generatedXml = fhirXmlGeneratorObj.generateXml(dfExtractedHierRR, fileNameXml)\n",
    "        \n",
    "        fhirServiceObj = FhirService(generatedXml, fsMountName, localEnv)\n",
    "        fhirServiceObj.submitFhirXml()\n",
    "        print(f\"Created XML File For :- {fileNamePartitioned}\")        \n",
    "\n",
    "        #return df,coll,dfExtractedHierRR\n",
    "    \n",
    "    flowLogger.logFlowCheckpoint(\"Completed Processing Partitioned Jsons\")\n"
   ]
  },
  {
   "cell_type": "code",
   "execution_count": 7,
   "metadata": {},
   "outputs": [
    {
     "name": "stderr",
     "output_type": "stream",
     "text": [
      "2021-05-05 17:11:39,387 : Flow Logger HTML : Starting HTML Conversion To Json | H | CAP |  en | HTML | Adakveo-4874 EN PI.html\n",
      "2021-05-05 17:11:39,398 : Style Dictionary_0 : Reading style dictionary in file: F:\\Projects\\EMA\\Repository\\EMA EPI PoC\\function_code\\data\\styleRules\\rule_dictionary_en.json | H | CAP |  en | HTML | Adakveo-4874 EN PI.html\n"
     ]
    },
    {
     "name": "stdout",
     "output_type": "stream",
     "text": [
      "['F:', 'Projects', 'EMA', 'Repository', 'EMA EPI PoC', 'function_code', 'data', 'converted_to_html', 'H', 'CAP', 'en', 'Adakveo-4874 EN PI.html']\n",
      "Adakveo-4874 EN PI.html en CAP H\n",
      "F:\\Projects\\EMA\\Repository\\EMA EPI PoC\\function_code\\data\\converted_to_html\\H\\CAP\\en Adakveo-4874 EN PI.html\n",
      "F:\\Projects\\EMA\\Repository\\EMA EPI PoC\\function_code\\data\\converted_to_html\\H\\CAP\\en\\Adakveo-4874 EN PI.html\n",
      "True\n"
     ]
    },
    {
     "name": "stderr",
     "output_type": "stream",
     "text": [
      "2021-05-05 17:11:39,623 : Style Dictionary_0 : Qrd Section Keys Generated: ANNEX I, ANNEX II, ANNEX III, B. PACKAGE LEAFLET | H | CAP |  en | HTML | Adakveo-4874 EN PI.html\n"
     ]
    },
    {
     "name": "stdout",
     "output_type": "stream",
     "text": [
      "['F:\\\\Projects\\\\EMA\\\\Repository\\\\EMA EPI PoC\\\\function_code\\\\data\\\\converted_to_html\\\\H\\\\CAP\\\\en\\\\Adakveo-4874 EN PI.html']\n",
      "F:\\Projects\\EMA\\Repository\\EMA EPI PoC\\function_code\\data\\converted_to_html\\H\\CAP\\en\\Adakveo-4874 EN PI.html F:\\Projects\\EMA\\Repository\\EMA EPI PoC\\function_code\\data\\outputJSON\\H\\CAP\\en\\Adakveo-4874 EN PI.json\n"
     ]
    },
    {
     "name": "stderr",
     "output_type": "stream",
     "text": [
      "2021-05-05 17:11:42,157 : Parser_U : Writing to file: F:\\Projects\\EMA\\Repository\\EMA EPI PoC\\function_code\\data\\outputJSON\\H\\CAP\\en\\Adakveo-4874 EN PI.json | H | CAP |  en | HTML | Adakveo-4874 EN PI.html\n",
      "2021-05-05 17:11:42,272 : Flow Logger HTML : Completed HTML Conversion To Json | H | CAP |  en | HTML | Adakveo-4874 EN PI.html\n",
      "2021-05-05 17:11:42,274 : Flow Logger HTML : Starting Json Split | H | CAP |  en | HTML | Adakveo-4874 EN PI.html\n",
      "2021-05-05 17:11:42,280 : Style Dictionary_A : Reading style dictionary in file: F:\\Projects\\EMA\\Repository\\EMA EPI PoC\\function_code\\data\\styleRules\\rule_dictionary_en.json | H | CAP |  en | Json | Adakveo-4874 EN PI.json\n",
      "2021-05-05 17:11:42,319 : Style Dictionary_A : Qrd Section Keys Generated: ANNEX I, ANNEX II, ANNEX III, B. PACKAGE LEAFLET | H | CAP |  en | Json | Adakveo-4874 EN PI.json\n",
      "2021-05-05 17:11:42,325 : Partition_b : Partitioning Json: Adakveo-4874 EN PI.json | H | CAP |  en | Json | Adakveo-4874 EN PI.json\n",
      "2021-05-05 17:11:42,418 : Partition_b : Writing partition to file: F:\\Projects\\EMA\\Repository\\EMA EPI PoC\\function_code\\data\\partitionedJSONs\\H\\CAP\\en\\Adakveo-4874 EN PI_SmPC.json | H | CAP |  en | Json | Adakveo-4874 EN PI.json\n",
      "2021-05-05 17:11:42,449 : Partition_b : Writing partition to file: F:\\Projects\\EMA\\Repository\\EMA EPI PoC\\function_code\\data\\partitionedJSONs\\H\\CAP\\en\\Adakveo-4874 EN PI_ANNEX II.json | H | CAP |  en | Json | Adakveo-4874 EN PI.json\n",
      "2021-05-05 17:11:42,479 : Partition_b : Writing partition to file: F:\\Projects\\EMA\\Repository\\EMA EPI PoC\\function_code\\data\\partitionedJSONs\\H\\CAP\\en\\Adakveo-4874 EN PI_ANNEX III.json | H | CAP |  en | Json | Adakveo-4874 EN PI.json\n",
      "2021-05-05 17:11:42,488 : Partition_b : Writing partition to file: F:\\Projects\\EMA\\Repository\\EMA EPI PoC\\function_code\\data\\partitionedJSONs\\H\\CAP\\en\\Adakveo-4874 EN PI_ PACKAGE LEAFLET.json | H | CAP |  en | Json | Adakveo-4874 EN PI.json\n",
      "2021-05-05 17:11:42,497 : Flow Logger HTML : ['Adakveo-4874 EN PI_SmPC.json', 'Adakveo-4874 EN PI_ANNEX II.json', 'Adakveo-4874 EN PI_ANNEX III.json', 'Adakveo-4874 EN PI_ PACKAGE LEAFLET.json'] | H | CAP |  en | HTML | Adakveo-4874 EN PI.html\n",
      "2021-05-05 17:11:42,499 : Flow Logger HTML : Completed Json Split | H | CAP |  en | HTML | Adakveo-4874 EN PI.html\n",
      "2021-05-05 17:11:42,500 : Flow Logger HTML : Started Processing Partitioned Jsons | H | CAP |  en | HTML | Adakveo-4874 EN PI.html\n",
      "2021-05-05 17:11:42,502 : Flow Logger HTML : \n",
      "\n",
      "\n",
      "\n",
      "||||||||||||||||||||||||||||||||0 ||||| Adakveo-4874 EN PI_SmPC.json||||||||||||||||||||||||||||||||\n",
      "\n",
      "\n",
      "\n",
      " | H | CAP |  en | HTML | Adakveo-4874 EN PI.html\n",
      "2021-05-05 17:11:42,507 : Heading Extraction Adakveo-4874 EN PI_SmPC.json : Starting Heading Extraction | H | CAP |  en | 0 | Adakveo-4874 EN PI_SmPC.json\n"
     ]
    },
    {
     "name": "stdout",
     "output_type": "stream",
     "text": [
      "*************************** Texts with more than 2 characters**************************************\n",
      "*************************** Texts with more than 2 characters**************************************\n",
      "*************************** Texts with more than 2 characters**************************************\n",
      "*************************** Texts with more than 2 characters**************************************\n",
      "Starting Heading Extraction For File :- Adakveo-4874 EN PI_SmPC.json\n",
      "File being processed: F:\\Projects\\EMA\\Repository\\EMA EPI PoC\\function_code\\data\\partitionedJSONs\\H\\CAP\\en\\Adakveo-4874 EN PI_SmPC.json\n",
      "--------------------------------------------\n",
      "SmPC\n"
     ]
    },
    {
     "name": "stderr",
     "output_type": "stream",
     "text": [
      "2021-05-05 17:11:42,775 : Heading Extraction Adakveo-4874 EN PI_SmPC.json : Started Extracting Heading | H | CAP |  en | 0 | Adakveo-4874 EN PI_SmPC.json\n",
      "2021-05-05 17:11:43,070 : Heading Extraction Adakveo-4874 EN PI_SmPC.json : Match Passed | H | CAP |  en | 0 | Adakveo-4874 EN PI_SmPC.json | Doc txt :- 'SUMMARY OF PRODUCT CHARACTERISTICS' | Qrd txt :- 'SUMMARY OF PRODUCT CHARACTERISTICS' | Matched :- 'True'\n",
      "2021-05-05 17:11:43,082 : Heading Extraction Adakveo-4874 EN PI_SmPC.json : Validation Passed As This The First Heading | H | CAP |  en | 0 | Adakveo-4874 EN PI_SmPC.json | currHeadId :- '20001' | currParentHeadId :- 'nan' | prevParentHeadId :- ''\n"
     ]
    },
    {
     "name": "stdout",
     "output_type": "stream",
     "text": [
      "SUMMARY OF PRODUCT CHARACTERISTICS  |===|  SUMMARY OF PRODUCT CHARACTERISTICS\n",
      "True  ||    ||  SUMMARY OF PRODUCT CHARACTERISTICS  ||  SUMMARY OF PRODUCT CHARACTERISTICS\n",
      "\n",
      "OriginalCheck\n",
      "('>7|2.88|(99, 100, 99)|0.92|', 'This medicinal product is subject to additional monitoring. This will allow quick identification of new safety information. Healthcare professionals are asked to report any suspected adverse reactions. See section 4.8 for how to report adverse reactions.', 'qThis medicinal product is subject to additional monitoring. This will allow quick identification of new safety information. Healthcare professionals are asked to report any suspected adverse reactions. See section 4.8 for how to report adverse reactions.')\n",
      "\n"
     ]
    },
    {
     "name": "stderr",
     "output_type": "stream",
     "text": [
      "2021-05-05 17:11:43,381 : Heading Extraction Adakveo-4874 EN PI_SmPC.json : Match Passed | H | CAP |  en | 0 | Adakveo-4874 EN PI_SmPC.json | Doc txt :- 'this medicinal product is subject to additional monitoring. this will allow quick identification of new safety information. healthcare professionals are asked to report any suspected adverse reactions. see section 4.8 for how to report adverse reactions.' | Qrd txt :- 'qthis medicinal product is subject to additional monitoring. this will allow quick identification of new safety information. healthcare professionals are asked to report any suspected adverse reactions. see section 4.8 for how to report adverse reactions.' | Matched :- 'True'\n",
      "2021-05-05 17:11:43,383 : Heading Extraction Adakveo-4874 EN PI_SmPC.json : Match Passed In Lowercase | H | CAP |  en | 0 | Adakveo-4874 EN PI_SmPC.json | Doc txt :- 'This medicinal product is subject to additional monitoring. This will allow quick identification of new safety information. Healthcare professionals are asked to report any suspected adverse reactions. See section 4.8 for how to report adverse reactions.' | Qrd txt :- 'qThis medicinal product is subject to additional monitoring. This will allow quick identification of new safety information. Healthcare professionals are asked to report any suspected adverse reactions. See section 4.8 for how to report adverse reactions.' | Matched :- 'True'\n",
      "2021-05-05 17:11:43,397 : Heading Extraction Adakveo-4874 EN PI_SmPC.json : Validation Passed | H | CAP |  en | 0 | Adakveo-4874 EN PI_SmPC.json | currHeadId :- '20002' | currParentHeadId :- '20001.0' | prevParentHeadId :- '20001'\n",
      "2021-05-05 17:11:43,412 : Heading Extraction Adakveo-4874 EN PI_SmPC.json : Validation Failed By Style | H | CAP |  en | 0 | Adakveo-4874 EN PI_SmPC.json | currHeadId :- '20002' | currParentHeadId :- '20001.0' | prevParentHeadId :- '20001'\n",
      "2021-05-05 17:11:43,518 : Heading Extraction Adakveo-4874 EN PI_SmPC.json : Match Passed | H | CAP |  en | 0 | Adakveo-4874 EN PI_SmPC.json | Doc txt :- '1.       NAME OF THE MEDICINAL PRODUCT' | Qrd txt :- '1. NAME OF THE MEDICINAL PRODUCT' | Matched :- 'True'\n",
      "2021-05-05 17:11:43,540 : Heading Extraction Adakveo-4874 EN PI_SmPC.json : Validation Flow Is Broken | H | CAP |  en | 0 | Adakveo-4874 EN PI_SmPC.json | currHeadId :- '20003' | currParentHeadId :- '20001.0' | prevParentHeadId :- '20001'\n",
      "2021-05-05 17:11:43,548 : Heading Extraction Adakveo-4874 EN PI_SmPC.json : Validation Passed | H | CAP |  en | 0 | Adakveo-4874 EN PI_SmPC.json | currHeadId :- '20003' | currParentHeadId :- '20001.0' | prevParentHeadId :- '20001'\n"
     ]
    },
    {
     "name": "stdout",
     "output_type": "stream",
     "text": [
      "This medicinal product is subject to additional monitoring. This will allow quick identification of new safety information. Healthcare professionals are asked to report any suspected adverse reactions. See section 4.8 for how to report adverse reactions.  |===|  qThis medicinal product is subject to additional monitoring. This will allow quick identification of new safety information. Healthcare professionals are asked to report any suspected adverse reactions. See section 4.8 for how to report adverse reactions.\n",
      "----------------------------------\n",
      "RemovedByStyle  ||  checkLowerCase|2.88|(99, 100, 99)|0.92|  ||  This medicinal product is subject to additional monitoring. This will allow quick identification of new safety information. Healthcare professionals are asked to report any suspected adverse reactions. See section 4.8 for how to report adverse reactions.  ||  qThis medicinal product is subject to additional monitoring. This will allow quick identification of new safety information. Healthcare professionals are asked to report any suspected adverse reactions. See section 4.8 for how to report adverse reactions.\n",
      "----------------------------------\n",
      "1.       NAME OF THE MEDICINAL PRODUCT  |===|  1. NAME OF THE MEDICINAL PRODUCT\n",
      "True  ||    ||  1.       NAME OF THE MEDICINAL PRODUCT  ||  1. NAME OF THE MEDICINAL PRODUCT\n"
     ]
    },
    {
     "name": "stderr",
     "output_type": "stream",
     "text": [
      "2021-05-05 17:11:44,150 : Heading Extraction Adakveo-4874 EN PI_SmPC.json : Match Passed | H | CAP |  en | 0 | Adakveo-4874 EN PI_SmPC.json | Doc txt :- '2.       QUALITATIVE AND QUANTITATIVE COMPOSITION' | Qrd txt :- '2. QUALITATIVE AND QUANTITATIVE COMPOSITION' | Matched :- 'True'\n",
      "2021-05-05 17:11:44,170 : Heading Extraction Adakveo-4874 EN PI_SmPC.json : Validation Passed | H | CAP |  en | 0 | Adakveo-4874 EN PI_SmPC.json | currHeadId :- '20004' | currParentHeadId :- '20001.0' | prevParentHeadId :- '20003'\n"
     ]
    },
    {
     "name": "stdout",
     "output_type": "stream",
     "text": [
      "2.       QUALITATIVE AND QUANTITATIVE COMPOSITION  |===|  2. QUALITATIVE AND QUANTITATIVE COMPOSITION\n",
      "True  ||    ||  2.       QUALITATIVE AND QUANTITATIVE COMPOSITION  ||  2. QUALITATIVE AND QUANTITATIVE COMPOSITION\n"
     ]
    },
    {
     "name": "stderr",
     "output_type": "stream",
     "text": [
      "2021-05-05 17:11:44,458 : Heading Extraction Adakveo-4874 EN PI_SmPC.json : Match Failed | H | CAP |  en | 0 | Adakveo-4874 EN PI_SmPC.json | Doc txt :- 'Each ml of concentrate for solution for infusion contains 10 mg crizanlizumab.' | Qrd txt :- '6.5 Nature and contents of container <and special equipment for use administration or implantation>' | Matched :- 'False'\n",
      "2021-05-05 17:11:44,482 : Heading Extraction Adakveo-4874 EN PI_SmPC.json : Match Failed | H | CAP |  en | 0 | Adakveo-4874 EN PI_SmPC.json | Doc txt :- 'Each ml of concentrate for solution for infusion contains 10 mg crizanlizumab.' | Qrd txt :- '6.6 Special precautions for disposal <and other handling>' | Matched :- 'False'\n",
      "2021-05-05 17:11:44,916 : Heading Extraction Adakveo-4874 EN PI_SmPC.json : Match Failed | H | CAP |  en | 0 | Adakveo-4874 EN PI_SmPC.json | Doc txt :- 'One vial of 10 ml contains 100 mg crizanlizumab.' | Qrd txt :- '6.6 Special precautions for disposal <and other handling>' | Matched :- 'False'\n",
      "2021-05-05 17:11:45,313 : Heading Extraction Adakveo-4874 EN PI_SmPC.json : Match Failed | H | CAP |  en | 0 | Adakveo-4874 EN PI_SmPC.json | Doc txt :- 'Crizanlizumab is a monoclonal antibody produced in Chinese Hamster Ovary (CHO) cells by recombinant DNA technology.' | Qrd txt :- '6.5 Nature and contents of container <and special equipment for use administration or implantation>' | Matched :- 'False'\n",
      "2021-05-05 17:11:45,748 : Heading Extraction Adakveo-4874 EN PI_SmPC.json : Match Passed | H | CAP |  en | 0 | Adakveo-4874 EN PI_SmPC.json | Doc txt :- '3.       PHARMACEUTICAL FORM' | Qrd txt :- '3. PHARMACEUTICAL FORM' | Matched :- 'True'\n",
      "2021-05-05 17:11:45,763 : Heading Extraction Adakveo-4874 EN PI_SmPC.json : Validation Flow Is Broken | H | CAP |  en | 0 | Adakveo-4874 EN PI_SmPC.json | currHeadId :- '20008' | currParentHeadId :- '20001.0' | prevParentHeadId :- '20004'\n",
      "2021-05-05 17:11:45,770 : Heading Extraction Adakveo-4874 EN PI_SmPC.json : Validation Passed | H | CAP |  en | 0 | Adakveo-4874 EN PI_SmPC.json | currHeadId :- '20008' | currParentHeadId :- '20001.0' | prevParentHeadId :- '20004'\n"
     ]
    },
    {
     "name": "stdout",
     "output_type": "stream",
     "text": [
      "3.       PHARMACEUTICAL FORM  |===|  3. PHARMACEUTICAL FORM\n",
      "True  ||    ||  3.       PHARMACEUTICAL FORM  ||  3. PHARMACEUTICAL FORM\n"
     ]
    },
    {
     "name": "stderr",
     "output_type": "stream",
     "text": [
      "2021-05-05 17:11:46,009 : Heading Extraction Adakveo-4874 EN PI_SmPC.json : Match Failed | H | CAP |  en | 0 | Adakveo-4874 EN PI_SmPC.json | Doc txt :- 'Concentrate for solution for infusion (sterile concentrate)' | Qrd txt :- '6.5 Nature and contents of container <and special equipment for use administration or implantation>' | Matched :- 'False'\n",
      "2021-05-05 17:11:46,317 : Heading Extraction Adakveo-4874 EN PI_SmPC.json : Match Passed | H | CAP |  en | 0 | Adakveo-4874 EN PI_SmPC.json | Doc txt :- '4.       CLINICAL PARTICULARS' | Qrd txt :- '4. CLINICAL PARTICULARS' | Matched :- 'True'\n",
      "2021-05-05 17:11:46,329 : Heading Extraction Adakveo-4874 EN PI_SmPC.json : Validation Passed | H | CAP |  en | 0 | Adakveo-4874 EN PI_SmPC.json | currHeadId :- '20009' | currParentHeadId :- '20001.0' | prevParentHeadId :- '20008'\n",
      "2021-05-05 17:11:46,402 : Heading Extraction Adakveo-4874 EN PI_SmPC.json : Match Passed | H | CAP |  en | 0 | Adakveo-4874 EN PI_SmPC.json | Doc txt :- '4.1     Therapeutic indications' | Qrd txt :- '4.1 Therapeutic indications' | Matched :- 'True'\n",
      "2021-05-05 17:11:46,412 : Heading Extraction Adakveo-4874 EN PI_SmPC.json : Validation Passed | H | CAP |  en | 0 | Adakveo-4874 EN PI_SmPC.json | currHeadId :- '20010' | currParentHeadId :- '20009.0' | prevParentHeadId :- '20009'\n",
      "2021-05-05 17:11:46,510 : Heading Extraction Adakveo-4874 EN PI_SmPC.json : Match Passed | H | CAP |  en | 0 | Adakveo-4874 EN PI_SmPC.json | Doc txt :- '4.2     Posology and method of administration' | Qrd txt :- '4.2 Posology and method of administration' | Matched :- 'True'\n"
     ]
    },
    {
     "name": "stdout",
     "output_type": "stream",
     "text": [
      "4.       CLINICAL PARTICULARS  |===|  4. CLINICAL PARTICULARS\n",
      "True  ||    ||  4.       CLINICAL PARTICULARS  ||  4. CLINICAL PARTICULARS\n",
      "4.1     Therapeutic indications  |===|  4.1 Therapeutic indications\n",
      "True  ||    ||  4.1     Therapeutic indications  ||  4.1 Therapeutic indications\n"
     ]
    },
    {
     "name": "stderr",
     "output_type": "stream",
     "text": [
      "2021-05-05 17:11:46,524 : Heading Extraction Adakveo-4874 EN PI_SmPC.json : Validation Passed | H | CAP |  en | 0 | Adakveo-4874 EN PI_SmPC.json | currHeadId :- '20011' | currParentHeadId :- '20009.0' | prevParentHeadId :- '20010'\n",
      "2021-05-05 17:11:46,662 : Heading Extraction Adakveo-4874 EN PI_SmPC.json : Match Failed | H | CAP |  en | 0 | Adakveo-4874 EN PI_SmPC.json | Doc txt :- 'Treatment should be initiated by physicians experienced in the management of sickle cell disease.' | Qrd txt :- '6.5 Nature and contents of container <and special equipment for use administration or implantation>' | Matched :- 'False'\n",
      "2021-05-05 17:11:46,691 : Heading Extraction Adakveo-4874 EN PI_SmPC.json : Match Failed | H | CAP |  en | 0 | Adakveo-4874 EN PI_SmPC.json | Doc txt :- 'Treatment should be initiated by physicians experienced in the management of sickle cell disease.' | Qrd txt :- '6.6 Special precautions for disposal <and other handling>' | Matched :- 'False'\n"
     ]
    },
    {
     "name": "stdout",
     "output_type": "stream",
     "text": [
      "4.2     Posology and method of administration  |===|  4.2 Posology and method of administration\n",
      "True  ||    ||  4.2     Posology and method of administration  ||  4.2 Posology and method of administration\n"
     ]
    },
    {
     "name": "stderr",
     "output_type": "stream",
     "text": [
      "2021-05-05 17:11:46,769 : Heading Extraction Adakveo-4874 EN PI_SmPC.json : Match Failed In Lowercase | H | CAP |  en | 0 | Adakveo-4874 EN PI_SmPC.json | Doc txt :- 'Posology' | Qrd txt :- '4.2 Posology and method of administration' | Matched :- 'False'\n",
      "2021-05-05 17:11:46,772 : Heading Extraction Adakveo-4874 EN PI_SmPC.json : Match Passed | H | CAP |  en | 0 | Adakveo-4874 EN PI_SmPC.json | Doc txt :- 'Posology' | Qrd txt :- 'Posology' | Matched :- 'True'\n",
      "2021-05-05 17:11:46,794 : Heading Extraction Adakveo-4874 EN PI_SmPC.json : Validation Passed | H | CAP |  en | 0 | Adakveo-4874 EN PI_SmPC.json | currHeadId :- '20012' | currParentHeadId :- '20011.0' | prevParentHeadId :- '20011'\n"
     ]
    },
    {
     "name": "stdout",
     "output_type": "stream",
     "text": [
      "\n",
      "OriginalCheck\n",
      "('<=7|412.5|(33, 100, 90)|0.73|', 'Posology', '4.2 Posology and method of administration')\n",
      "\n",
      "Posology  |===|  Posology\n",
      "True  ||    ||  Posology  ||  Posology\n"
     ]
    },
    {
     "name": "stderr",
     "output_type": "stream",
     "text": [
      "2021-05-05 17:11:47,047 : Heading Extraction Adakveo-4874 EN PI_SmPC.json : Match Failed | H | CAP |  en | 0 | Adakveo-4874 EN PI_SmPC.json | Doc txt :- 'The recommended dose of crizanlizumab is 5 mg/kg administered over a period of 30 minutes by intravenous infusion at week 0, week 2, and every 4 weeks thereafter.' | Qrd txt :- '6.5 Nature and contents of container <and special equipment for use administration or implantation>' | Matched :- 'False'\n",
      "2021-05-05 17:11:47,463 : Heading Extraction Adakveo-4874 EN PI_SmPC.json : Match Failed | H | CAP |  en | 0 | Adakveo-4874 EN PI_SmPC.json | Doc txt :- 'If a dose is missed, the treatment should be administered as soon as possible.' | Qrd txt :- '6.5 Nature and contents of container <and special equipment for use administration or implantation>' | Matched :- 'False'\n",
      "2021-05-05 17:11:47,723 : Heading Extraction Adakveo-4874 EN PI_SmPC.json : Match Failed | H | CAP |  en | 0 | Adakveo-4874 EN PI_SmPC.json | Doc txt :- '-                 If crizanlizumab is administered within 2 weeks after the missed dose, dosing should be continued according to the patient’s original schedule.' | Qrd txt :- '6.5 Nature and contents of container <and special equipment for use administration or implantation>' | Matched :- 'False'\n",
      "2021-05-05 17:11:47,910 : Heading Extraction Adakveo-4874 EN PI_SmPC.json : Match Failed | H | CAP |  en | 0 | Adakveo-4874 EN PI_SmPC.json | Doc txt :- '-                 If crizanlizumab is administered more than 2 weeks after the missed dose, dosing should be continued every 4 weeks thereafter.' | Qrd txt :- '6.5 Nature and contents of container <and special equipment for use administration or implantation>' | Matched :- 'False'\n",
      "2021-05-05 17:11:48,155 : Heading Extraction Adakveo-4874 EN PI_SmPC.json : Match Failed | H | CAP |  en | 0 | Adakveo-4874 EN PI_SmPC.json | Doc txt :- 'Special populations' | Qrd txt :- '6.6 Special precautions for disposal <and other handling>' | Matched :- 'False'\n",
      "2021-05-05 17:11:48,485 : Heading Extraction Adakveo-4874 EN PI_SmPC.json : Match Failed | H | CAP |  en | 0 | Adakveo-4874 EN PI_SmPC.json | Doc txt :- 'Crizanlizumab has not been studied in elderly patients. No dose adjustment is required as the pharmacokinetics of crizanlizumab in adults are not affected by age.' | Qrd txt :- '6.5 Nature and contents of container <and special equipment for use administration or implantation>' | Matched :- 'False'\n",
      "2021-05-05 17:11:49,195 : Heading Extraction Adakveo-4874 EN PI_SmPC.json : Match Passed | H | CAP |  en | 0 | Adakveo-4874 EN PI_SmPC.json | Doc txt :- 'Paediatric population' | Qrd txt :- 'Paediatric population' | Matched :- 'True'\n",
      "2021-05-05 17:11:49,211 : Heading Extraction Adakveo-4874 EN PI_SmPC.json : Validation Passed | H | CAP |  en | 0 | Adakveo-4874 EN PI_SmPC.json | currHeadId :- '20013' | currParentHeadId :- '20012.0' | prevParentHeadId :- '20011'\n",
      "2021-05-05 17:11:49,398 : Heading Extraction Adakveo-4874 EN PI_SmPC.json : Match Failed | H | CAP |  en | 0 | Adakveo-4874 EN PI_SmPC.json | Doc txt :- 'The safety and efficacy of crizanlizumab in paediatric patients from 6 months to 16 years have not been established. No data are available.' | Qrd txt :- '6.5 Nature and contents of container <and special equipment for use administration or implantation>' | Matched :- 'False'\n"
     ]
    },
    {
     "name": "stdout",
     "output_type": "stream",
     "text": [
      "Paediatric population  |===|  Paediatric population\n",
      "True  ||    ||  Paediatric population  ||  Paediatric population\n"
     ]
    },
    {
     "name": "stderr",
     "output_type": "stream",
     "text": [
      "2021-05-05 17:11:49,615 : Heading Extraction Adakveo-4874 EN PI_SmPC.json : Match Failed | H | CAP |  en | 0 | Adakveo-4874 EN PI_SmPC.json | Doc txt :- 'There is no relevant use of crizanlizumab in infants aged less than 6 months for the indication of prevention of recurrent vaso‑occlusive crises.' | Qrd txt :- '6.5 Nature and contents of container <and special equipment for use administration or implantation>' | Matched :- 'False'\n",
      "2021-05-05 17:11:49,684 : Heading Extraction Adakveo-4874 EN PI_SmPC.json : Match Failed In Lowercase | H | CAP |  en | 0 | Adakveo-4874 EN PI_SmPC.json | Doc txt :- 'Method of administration' | Qrd txt :- '4.2 Posology and method of administration' | Matched :- 'False'\n",
      "2021-05-05 17:11:49,693 : Heading Extraction Adakveo-4874 EN PI_SmPC.json : Match Passed | H | CAP |  en | 0 | Adakveo-4874 EN PI_SmPC.json | Doc txt :- 'Method of administration' | Qrd txt :- 'Method of administration ' | Matched :- 'True'\n",
      "2021-05-05 17:11:49,710 : Heading Extraction Adakveo-4874 EN PI_SmPC.json : Validation Passed | H | CAP |  en | 0 | Adakveo-4874 EN PI_SmPC.json | currHeadId :- '20014' | currParentHeadId :- '20011.0' | prevParentHeadId :- '20011'\n",
      "2021-05-05 17:11:49,870 : Heading Extraction Adakveo-4874 EN PI_SmPC.json : Match Failed | H | CAP |  en | 0 | Adakveo-4874 EN PI_SmPC.json | Doc txt :- 'Adakveo should be diluted with sodium chloride 9 mg/ml (0.9%) solution for injection or dextrose 5% before administration.' | Qrd txt :- '6.5 Nature and contents of container <and special equipment for use administration or implantation>' | Matched :- 'False'\n"
     ]
    },
    {
     "name": "stdout",
     "output_type": "stream",
     "text": [
      "\n",
      "OriginalCheck\n",
      "('<=7|75.0|(71, 96, 90)|0.69|', 'Method of administration', '4.2 Posology and method of administration')\n",
      "\n",
      "Method of administration  |===|  Method of administration \n",
      "True  ||    ||  Method of administration  ||  Method of administration \n"
     ]
    },
    {
     "name": "stderr",
     "output_type": "stream",
     "text": [
      "2021-05-05 17:11:50,145 : Heading Extraction Adakveo-4874 EN PI_SmPC.json : Match Failed | H | CAP |  en | 0 | Adakveo-4874 EN PI_SmPC.json | Doc txt :- 'For instructions on dilution of the medicinal product before administration, see section 6.6.' | Qrd txt :- '6.5 Nature and contents of container <and special equipment for use administration or implantation>' | Matched :- 'False'\n",
      "2021-05-05 17:11:50,249 : Heading Extraction Adakveo-4874 EN PI_SmPC.json : Match Passed | H | CAP |  en | 0 | Adakveo-4874 EN PI_SmPC.json | Doc txt :- '4.3     Contraindications' | Qrd txt :- '4.3 Contraindications' | Matched :- 'True'\n",
      "2021-05-05 17:11:50,263 : Heading Extraction Adakveo-4874 EN PI_SmPC.json : Validation Passed | H | CAP |  en | 0 | Adakveo-4874 EN PI_SmPC.json | currHeadId :- '20016' | currParentHeadId :- '20009.0' | prevParentHeadId :- '20011'\n",
      "2021-05-05 17:11:50,394 : Heading Extraction Adakveo-4874 EN PI_SmPC.json : Match Failed | H | CAP |  en | 0 | Adakveo-4874 EN PI_SmPC.json | Doc txt :- 'Hypersensitivity to the active substance or to any of the excipients listed in section 6.1.' | Qrd txt :- '6.5 Nature and contents of container <and special equipment for use administration or implantation>' | Matched :- 'False'\n"
     ]
    },
    {
     "name": "stdout",
     "output_type": "stream",
     "text": [
      "4.3     Contraindications  |===|  4.3 Contraindications\n",
      "True  ||    ||  4.3     Contraindications  ||  4.3 Contraindications\n"
     ]
    },
    {
     "name": "stderr",
     "output_type": "stream",
     "text": [
      "2021-05-05 17:11:50,864 : Heading Extraction Adakveo-4874 EN PI_SmPC.json : Match Passed | H | CAP |  en | 0 | Adakveo-4874 EN PI_SmPC.json | Doc txt :- '4.4     Special warnings and precautions for use' | Qrd txt :- '4.4 Special warnings and precautions for use' | Matched :- 'True'\n",
      "2021-05-05 17:11:50,877 : Heading Extraction Adakveo-4874 EN PI_SmPC.json : Validation Passed | H | CAP |  en | 0 | Adakveo-4874 EN PI_SmPC.json | currHeadId :- '20017' | currParentHeadId :- '20009.0' | prevParentHeadId :- '20016'\n",
      "2021-05-05 17:11:50,950 : Heading Extraction Adakveo-4874 EN PI_SmPC.json : Match Passed | H | CAP |  en | 0 | Adakveo-4874 EN PI_SmPC.json | Doc txt :- 'Traceability' | Qrd txt :- 'Traceability' | Matched :- 'True'\n",
      "2021-05-05 17:11:50,966 : Heading Extraction Adakveo-4874 EN PI_SmPC.json : Validation Passed | H | CAP |  en | 0 | Adakveo-4874 EN PI_SmPC.json | currHeadId :- '20018' | currParentHeadId :- '20017.0' | prevParentHeadId :- '20017'\n"
     ]
    },
    {
     "name": "stdout",
     "output_type": "stream",
     "text": [
      "4.4     Special warnings and precautions for use  |===|  4.4 Special warnings and precautions for use\n",
      "True  ||    ||  4.4     Special warnings and precautions for use  ||  4.4 Special warnings and precautions for use\n",
      "Traceability  |===|  Traceability\n",
      "True  ||    ||  Traceability  ||  Traceability\n"
     ]
    },
    {
     "name": "stderr",
     "output_type": "stream",
     "text": [
      "2021-05-05 17:11:51,128 : Heading Extraction Adakveo-4874 EN PI_SmPC.json : Match Failed | H | CAP |  en | 0 | Adakveo-4874 EN PI_SmPC.json | Doc txt :- 'In order to improve the traceability of biological medicinal products, the name and the batch number of the administered product should be clearly recorded.' | Qrd txt :- '6.5 Nature and contents of container <and special equipment for use administration or implantation>' | Matched :- 'False'\n",
      "2021-05-05 17:11:51,649 : Heading Extraction Adakveo-4874 EN PI_SmPC.json : Match Failed | H | CAP |  en | 0 | Adakveo-4874 EN PI_SmPC.json | Doc txt :- 'Laboratory test interference: automated platelet counts' | Qrd txt :- '6.5 Nature and contents of container <and special equipment for use administration or implantation>' | Matched :- 'False'\n",
      "2021-05-05 17:11:51,914 : Heading Extraction Adakveo-4874 EN PI_SmPC.json : Match Passed | H | CAP |  en | 0 | Adakveo-4874 EN PI_SmPC.json | Doc txt :- 'Excipients with known effect' | Qrd txt :- 'Excipient(s) with known effect' | Matched :- 'True'\n",
      "2021-05-05 17:11:51,928 : Heading Extraction Adakveo-4874 EN PI_SmPC.json : Validation Failed As Wrong Heading Found | H | CAP |  en | 0 | Adakveo-4874 EN PI_SmPC.json | currHeadId :- '20007' | currParentHeadId :- '20006.0' | prevParentHeadId :- '20017'\n"
     ]
    },
    {
     "name": "stdout",
     "output_type": "stream",
     "text": [
      "Excipients with known effect  |===|  Excipient(s) with known effect\n"
     ]
    },
    {
     "name": "stderr",
     "output_type": "stream",
     "text": [
      "2021-05-05 17:11:52,302 : Heading Extraction Adakveo-4874 EN PI_SmPC.json : Match Failed | H | CAP |  en | 0 | Adakveo-4874 EN PI_SmPC.json | Doc txt :- 'This medicine contains less than 1 mmol sodium (23 mg) per vial, that is to say essentially “sodium‑free”.' | Qrd txt :- '6.5 Nature and contents of container <and special equipment for use administration or implantation>' | Matched :- 'False'\n",
      "2021-05-05 17:11:52,430 : Heading Extraction Adakveo-4874 EN PI_SmPC.json : Match Passed | H | CAP |  en | 0 | Adakveo-4874 EN PI_SmPC.json | Doc txt :- '4.5     Interaction with other medicinal products and other forms of interaction' | Qrd txt :- '4.5 Interaction with other medicinal products and other forms of interaction' | Matched :- 'True'\n",
      "2021-05-05 17:11:52,443 : Heading Extraction Adakveo-4874 EN PI_SmPC.json : Validation Passed | H | CAP |  en | 0 | Adakveo-4874 EN PI_SmPC.json | currHeadId :- '20020' | currParentHeadId :- '20009.0' | prevParentHeadId :- '20017'\n",
      "2021-05-05 17:11:52,566 : Heading Extraction Adakveo-4874 EN PI_SmPC.json : Match Failed | H | CAP |  en | 0 | Adakveo-4874 EN PI_SmPC.json | Doc txt :- 'Interactions between crizanlizumab and other medicinal products have not been investigated in dedicated studies.' | Qrd txt :- '6.5 Nature and contents of container <and special equipment for use administration or implantation>' | Matched :- 'False'\n",
      "2021-05-05 17:11:52,589 : Heading Extraction Adakveo-4874 EN PI_SmPC.json : Match Failed | H | CAP |  en | 0 | Adakveo-4874 EN PI_SmPC.json | Doc txt :- 'Interactions between crizanlizumab and other medicinal products have not been investigated in dedicated studies.' | Qrd txt :- '6.6 Special precautions for disposal <and other handling>' | Matched :- 'False'\n"
     ]
    },
    {
     "name": "stdout",
     "output_type": "stream",
     "text": [
      "4.5     Interaction with other medicinal products and other forms of interaction  |===|  4.5 Interaction with other medicinal products and other forms of interaction\n",
      "True  ||    ||  4.5     Interaction with other medicinal products and other forms of interaction  ||  4.5 Interaction with other medicinal products and other forms of interaction\n"
     ]
    },
    {
     "name": "stderr",
     "output_type": "stream",
     "text": [
      "2021-05-05 17:11:52,796 : Heading Extraction Adakveo-4874 EN PI_SmPC.json : Match Failed | H | CAP |  en | 0 | Adakveo-4874 EN PI_SmPC.json | Doc txt :- 'No effect on exposure of co‑administered medicinal products is expected based on the metabolic pathways of monoclonal antibodies.' | Qrd txt :- '6.5 Nature and contents of container <and special equipment for use administration or implantation>' | Matched :- 'False'\n",
      "2021-05-05 17:11:52,965 : Heading Extraction Adakveo-4874 EN PI_SmPC.json : Match Passed | H | CAP |  en | 0 | Adakveo-4874 EN PI_SmPC.json | Doc txt :- '4.6     Fertility, pregnancy and lactation' | Qrd txt :- '4.6 Fertility, pregnancy and lactation' | Matched :- 'True'\n",
      "2021-05-05 17:11:52,978 : Heading Extraction Adakveo-4874 EN PI_SmPC.json : Validation Passed | H | CAP |  en | 0 | Adakveo-4874 EN PI_SmPC.json | currHeadId :- '20022' | currParentHeadId :- '20009.0' | prevParentHeadId :- '20020'\n",
      "2021-05-05 17:11:53,050 : Heading Extraction Adakveo-4874 EN PI_SmPC.json : Match Failed In Lowercase | H | CAP |  en | 0 | Adakveo-4874 EN PI_SmPC.json | Doc txt :- 'Pregnancy' | Qrd txt :- '4.6 Fertility, pregnancy and lactation' | Matched :- 'False'\n",
      "2021-05-05 17:11:53,052 : Heading Extraction Adakveo-4874 EN PI_SmPC.json : Match Passed | H | CAP |  en | 0 | Adakveo-4874 EN PI_SmPC.json | Doc txt :- 'Pregnancy' | Qrd txt :- 'Pregnancy' | Matched :- 'True'\n",
      "2021-05-05 17:11:53,070 : Heading Extraction Adakveo-4874 EN PI_SmPC.json : Validation Passed | H | CAP |  en | 0 | Adakveo-4874 EN PI_SmPC.json | currHeadId :- '20023' | currParentHeadId :- '20022.0' | prevParentHeadId :- '20022'\n"
     ]
    },
    {
     "name": "stdout",
     "output_type": "stream",
     "text": [
      "4.6     Fertility, pregnancy and lactation  |===|  4.6 Fertility, pregnancy and lactation\n",
      "True  ||    ||  4.6     Fertility, pregnancy and lactation  ||  4.6 Fertility, pregnancy and lactation\n",
      "\n",
      "OriginalCheck\n",
      "('<=7|333.33|(34, 89, 90)|0.53|', 'Pregnancy', '4.6 Fertility, pregnancy and lactation')\n",
      "\n",
      "Pregnancy  |===|  Pregnancy\n",
      "True  ||    ||  Pregnancy  ||  Pregnancy\n"
     ]
    },
    {
     "name": "stderr",
     "output_type": "stream",
     "text": [
      "2021-05-05 17:11:53,167 : Heading Extraction Adakveo-4874 EN PI_SmPC.json : Match Passed | H | CAP |  en | 0 | Adakveo-4874 EN PI_SmPC.json | Doc txt :- 'Breast‑feeding' | Qrd txt :- 'Breast-feeding' | Matched :- 'True'\n",
      "2021-05-05 17:11:53,188 : Heading Extraction Adakveo-4874 EN PI_SmPC.json : Validation Passed | H | CAP |  en | 0 | Adakveo-4874 EN PI_SmPC.json | currHeadId :- '20024' | currParentHeadId :- '20022.0' | prevParentHeadId :- '20022'\n"
     ]
    },
    {
     "name": "stdout",
     "output_type": "stream",
     "text": [
      "Breast‑feeding  |===|  Breast-feeding\n",
      "True  ||  <=1|7.14|(93, 93, 100)|0.98|  ||  Breast‑feeding  ||  Breast-feeding\n"
     ]
    },
    {
     "name": "stderr",
     "output_type": "stream",
     "text": [
      "2021-05-05 17:11:53,575 : Heading Extraction Adakveo-4874 EN PI_SmPC.json : Match Failed | H | CAP |  en | 0 | Adakveo-4874 EN PI_SmPC.json | Doc txt :- 'Because many medicinal products, including antibodies, can be excreted in human milk, a risk to the newborn/infant cannot be excluded.' | Qrd txt :- '6.5 Nature and contents of container <and special equipment for use administration or implantation>' | Matched :- 'False'\n",
      "2021-05-05 17:11:53,746 : Heading Extraction Adakveo-4874 EN PI_SmPC.json : Match Failed In Lowercase | H | CAP |  en | 0 | Adakveo-4874 EN PI_SmPC.json | Doc txt :- 'Fertility' | Qrd txt :- '4.6 Fertility, pregnancy and lactation' | Matched :- 'False'\n",
      "2021-05-05 17:11:53,753 : Heading Extraction Adakveo-4874 EN PI_SmPC.json : Match Passed | H | CAP |  en | 0 | Adakveo-4874 EN PI_SmPC.json | Doc txt :- 'Fertility' | Qrd txt :- 'Fertility' | Matched :- 'True'\n",
      "2021-05-05 17:11:53,773 : Heading Extraction Adakveo-4874 EN PI_SmPC.json : Validation Passed | H | CAP |  en | 0 | Adakveo-4874 EN PI_SmPC.json | currHeadId :- '20025' | currParentHeadId :- '20022.0' | prevParentHeadId :- '20022'\n"
     ]
    },
    {
     "name": "stdout",
     "output_type": "stream",
     "text": [
      "\n",
      "OriginalCheck\n",
      "('<=7|322.22|(38, 100, 90)|0.75|', 'Fertility', '4.6 Fertility, pregnancy and lactation')\n",
      "\n",
      "Fertility  |===|  Fertility\n",
      "True  ||    ||  Fertility  ||  Fertility\n"
     ]
    },
    {
     "name": "stderr",
     "output_type": "stream",
     "text": [
      "2021-05-05 17:11:53,981 : Heading Extraction Adakveo-4874 EN PI_SmPC.json : Match Failed | H | CAP |  en | 0 | Adakveo-4874 EN PI_SmPC.json | Doc txt :- 'There are no data on the effect of Adakveo on human fertility. Available non‑clinical data do not suggest an effect on fertility under crizanlizumab treatment (see section 5.3).' | Qrd txt :- '6.5 Nature and contents of container <and special equipment for use administration or implantation>' | Matched :- 'False'\n",
      "2021-05-05 17:11:54,119 : Heading Extraction Adakveo-4874 EN PI_SmPC.json : Match Passed | H | CAP |  en | 0 | Adakveo-4874 EN PI_SmPC.json | Doc txt :- '4.7     Effects on ability to drive and use machines' | Qrd txt :- '4.7 Effects on ability to drive and use machines' | Matched :- 'True'\n",
      "2021-05-05 17:11:54,132 : Heading Extraction Adakveo-4874 EN PI_SmPC.json : Validation Passed | H | CAP |  en | 0 | Adakveo-4874 EN PI_SmPC.json | currHeadId :- '20026' | currParentHeadId :- '20009.0' | prevParentHeadId :- '20022'\n"
     ]
    },
    {
     "name": "stdout",
     "output_type": "stream",
     "text": [
      "4.7     Effects on ability to drive and use machines  |===|  4.7 Effects on ability to drive and use machines\n",
      "True  ||    ||  4.7     Effects on ability to drive and use machines  ||  4.7 Effects on ability to drive and use machines\n"
     ]
    },
    {
     "name": "stderr",
     "output_type": "stream",
     "text": [
      "2021-05-05 17:11:54,371 : Heading Extraction Adakveo-4874 EN PI_SmPC.json : Match Failed | H | CAP |  en | 0 | Adakveo-4874 EN PI_SmPC.json | Doc txt :- 'Adakveo may have a minor influence on the ability to drive and use machines. Dizziness, fatigue and somnolence may occur following administration of crizanlizumab.' | Qrd txt :- '6.5 Nature and contents of container <and special equipment for use administration or implantation>' | Matched :- 'False'\n",
      "2021-05-05 17:11:54,516 : Heading Extraction Adakveo-4874 EN PI_SmPC.json : Match Passed | H | CAP |  en | 0 | Adakveo-4874 EN PI_SmPC.json | Doc txt :- '4.8     Undesirable effects' | Qrd txt :- '4.8 Undesirable effects' | Matched :- 'True'\n",
      "2021-05-05 17:11:54,530 : Heading Extraction Adakveo-4874 EN PI_SmPC.json : Validation Passed | H | CAP |  en | 0 | Adakveo-4874 EN PI_SmPC.json | currHeadId :- '20027' | currParentHeadId :- '20009.0' | prevParentHeadId :- '20026'\n"
     ]
    },
    {
     "name": "stdout",
     "output_type": "stream",
     "text": [
      "4.8     Undesirable effects  |===|  4.8 Undesirable effects\n",
      "True  ||    ||  4.8     Undesirable effects  ||  4.8 Undesirable effects\n"
     ]
    },
    {
     "name": "stderr",
     "output_type": "stream",
     "text": [
      "2021-05-05 17:11:55,338 : Heading Extraction Adakveo-4874 EN PI_SmPC.json : Match Failed | H | CAP |  en | 0 | Adakveo-4874 EN PI_SmPC.json | Doc txt :- 'Tabulated list of adverse reactions' | Qrd txt :- '6.6 Special precautions for disposal <and other handling>' | Matched :- 'False'\n",
      "2021-05-05 17:11:55,646 : Heading Extraction Adakveo-4874 EN PI_SmPC.json : Match Failed | H | CAP |  en | 0 | Adakveo-4874 EN PI_SmPC.json | Doc txt :- 'Table 1       Adverse reactions in clinical studies' | Qrd txt :- '6.6 Special precautions for disposal <and other handling>' | Matched :- 'False'\n",
      "2021-05-05 17:11:55,995 : Heading Extraction Adakveo-4874 EN PI_SmPC.json : Match Failed | H | CAP |  en | 0 | Adakveo-4874 EN PI_SmPC.json | Doc txt :- 'Description of selected adverse reactions' | Qrd txt :- '6.5 Nature and contents of container <and special equipment for use administration or implantation>' | Matched :- 'False'\n",
      "2021-05-05 17:11:56,420 : Heading Extraction Adakveo-4874 EN PI_SmPC.json : Match Failed | H | CAP |  en | 0 | Adakveo-4874 EN PI_SmPC.json | Doc txt :- 'In clinical studies, treatment‑induced anti‑crizanlizumab antibodies were transiently detected in 1 patient (0.9%) among the 111 patients who received Adakveo 5 mg/kg.' | Qrd txt :- '6.5 Nature and contents of container <and special equipment for use administration or implantation>' | Matched :- 'False'\n",
      "2021-05-05 17:11:56,605 : Heading Extraction Adakveo-4874 EN PI_SmPC.json : Match Failed | H | CAP |  en | 0 | Adakveo-4874 EN PI_SmPC.json | Doc txt :- 'There was no evidence of altered pharmacokinetics or of an altered safety profile with anti‑crizanlizumab antibody development.' | Qrd txt :- '6.5 Nature and contents of container <and special equipment for use administration or implantation>' | Matched :- 'False'\n",
      "2021-05-05 17:11:56,672 : Heading Extraction Adakveo-4874 EN PI_SmPC.json : Match Passed | H | CAP |  en | 0 | Adakveo-4874 EN PI_SmPC.json | Doc txt :- 'Paediatric population' | Qrd txt :- 'Paediatric population' | Matched :- 'True'\n",
      "2021-05-05 17:11:56,686 : Heading Extraction Adakveo-4874 EN PI_SmPC.json : Validation Failed As Previous Heading Found is not matching | H | CAP |  en | 0 | Adakveo-4874 EN PI_SmPC.json | currHeadId :- '20013' | currParentHeadId :- '20012.0' | prevParentHeadId :- '20027'\n",
      "2021-05-05 17:11:56,717 : Heading Extraction Adakveo-4874 EN PI_SmPC.json : Match Passed | H | CAP |  en | 0 | Adakveo-4874 EN PI_SmPC.json | Doc txt :- 'Paediatric population' | Qrd txt :- 'Paediatric population' | Matched :- 'True'\n",
      "2021-05-05 17:11:56,728 : Heading Extraction Adakveo-4874 EN PI_SmPC.json : Validation Failed As Previous Heading Found is not matching | H | CAP |  en | 0 | Adakveo-4874 EN PI_SmPC.json | currHeadId :- '20019' | currParentHeadId :- '20017.0' | prevParentHeadId :- '20027'\n",
      "2021-05-05 17:11:56,736 : Heading Extraction Adakveo-4874 EN PI_SmPC.json : Match Passed | H | CAP |  en | 0 | Adakveo-4874 EN PI_SmPC.json | Doc txt :- 'Paediatric population' | Qrd txt :- 'Paediatric population' | Matched :- 'True'\n",
      "2021-05-05 17:11:56,748 : Heading Extraction Adakveo-4874 EN PI_SmPC.json : Validation Failed As Previous Heading Found is not matching | H | CAP |  en | 0 | Adakveo-4874 EN PI_SmPC.json | currHeadId :- '20021' | currParentHeadId :- '20020.0' | prevParentHeadId :- '20027'\n",
      "2021-05-05 17:11:56,773 : Heading Extraction Adakveo-4874 EN PI_SmPC.json : Match Passed | H | CAP |  en | 0 | Adakveo-4874 EN PI_SmPC.json | Doc txt :- 'Paediatric population' | Qrd txt :- 'Paediatric population' | Matched :- 'True'\n",
      "2021-05-05 17:11:56,790 : Heading Extraction Adakveo-4874 EN PI_SmPC.json : Validation Passed | H | CAP |  en | 0 | Adakveo-4874 EN PI_SmPC.json | currHeadId :- '20028' | currParentHeadId :- '20027.0' | prevParentHeadId :- '20027'\n"
     ]
    },
    {
     "name": "stdout",
     "output_type": "stream",
     "text": [
      "Paediatric population  |===|  Paediatric population\n",
      "Paediatric population  |===|  Paediatric population\n",
      "Paediatric population  |===|  Paediatric population\n",
      "Paediatric population  |===|  Paediatric population\n",
      "True  ||    ||  Paediatric population  ||  Paediatric population\n"
     ]
    },
    {
     "name": "stderr",
     "output_type": "stream",
     "text": [
      "2021-05-05 17:11:57,174 : Heading Extraction Adakveo-4874 EN PI_SmPC.json : Match Passed | H | CAP |  en | 0 | Adakveo-4874 EN PI_SmPC.json | Doc txt :- 'Reporting of suspected adverse reactions' | Qrd txt :- 'Reporting of suspected adverse reactions' | Matched :- 'True'\n",
      "2021-05-05 17:11:57,190 : Heading Extraction Adakveo-4874 EN PI_SmPC.json : Validation Passed | H | CAP |  en | 0 | Adakveo-4874 EN PI_SmPC.json | currHeadId :- '20029' | currParentHeadId :- '20027.0' | prevParentHeadId :- '20027'\n",
      "2021-05-05 17:11:57,308 : Heading Extraction Adakveo-4874 EN PI_SmPC.json : Match Passed | H | CAP |  en | 0 | Adakveo-4874 EN PI_SmPC.json | Doc txt :- '4.9     Overdose' | Qrd txt :- '4.9 Overdose' | Matched :- 'True'\n",
      "2021-05-05 17:11:57,321 : Heading Extraction Adakveo-4874 EN PI_SmPC.json : Validation Passed | H | CAP |  en | 0 | Adakveo-4874 EN PI_SmPC.json | currHeadId :- '20030' | currParentHeadId :- '20009.0' | prevParentHeadId :- '20027'\n"
     ]
    },
    {
     "name": "stdout",
     "output_type": "stream",
     "text": [
      "Reporting of suspected adverse reactions  |===|  Reporting of suspected adverse reactions\n",
      "True  ||    ||  Reporting of suspected adverse reactions  ||  Reporting of suspected adverse reactions\n",
      "4.9     Overdose  |===|  4.9 Overdose\n",
      "True  ||    ||  4.9     Overdose  ||  4.9 Overdose\n"
     ]
    },
    {
     "name": "stderr",
     "output_type": "stream",
     "text": [
      "2021-05-05 17:11:57,536 : Heading Extraction Adakveo-4874 EN PI_SmPC.json : Match Failed | H | CAP |  en | 0 | Adakveo-4874 EN PI_SmPC.json | Doc txt :- 'No cases of overdose have been reported in clinical studies.' | Qrd txt :- '6.6 Special precautions for disposal <and other handling>' | Matched :- 'False'\n",
      "2021-05-05 17:11:57,751 : Heading Extraction Adakveo-4874 EN PI_SmPC.json : Match Failed | H | CAP |  en | 0 | Adakveo-4874 EN PI_SmPC.json | Doc txt :- 'General supportive measures and symptomatic treatment should be initiated in cases of suspected overdose.' | Qrd txt :- '6.5 Nature and contents of container <and special equipment for use administration or implantation>' | Matched :- 'False'\n",
      "2021-05-05 17:11:57,986 : Heading Extraction Adakveo-4874 EN PI_SmPC.json : Match Passed | H | CAP |  en | 0 | Adakveo-4874 EN PI_SmPC.json | Doc txt :- '5.       PHARMACOLOGICAL PROPERTIES' | Qrd txt :- '5. PHARMACOLOGICAL PROPERTIES' | Matched :- 'True'\n",
      "2021-05-05 17:11:57,999 : Heading Extraction Adakveo-4874 EN PI_SmPC.json : Validation Passed | H | CAP |  en | 0 | Adakveo-4874 EN PI_SmPC.json | currHeadId :- '20032' | currParentHeadId :- '20001.0' | prevParentHeadId :- '20030'\n",
      "2021-05-05 17:11:58,166 : Heading Extraction Adakveo-4874 EN PI_SmPC.json : Match Passed | H | CAP |  en | 0 | Adakveo-4874 EN PI_SmPC.json | Doc txt :- '5.1     Pharmacodynamic properties' | Qrd txt :- '5.1 Pharmacodynamic properties' | Matched :- 'True'\n"
     ]
    },
    {
     "name": "stdout",
     "output_type": "stream",
     "text": [
      "5.       PHARMACOLOGICAL PROPERTIES  |===|  5. PHARMACOLOGICAL PROPERTIES\n",
      "True  ||    ||  5.       PHARMACOLOGICAL PROPERTIES  ||  5. PHARMACOLOGICAL PROPERTIES\n"
     ]
    },
    {
     "name": "stderr",
     "output_type": "stream",
     "text": [
      "2021-05-05 17:11:58,179 : Heading Extraction Adakveo-4874 EN PI_SmPC.json : Validation Passed | H | CAP |  en | 0 | Adakveo-4874 EN PI_SmPC.json | currHeadId :- '20033' | currParentHeadId :- '20032.0' | prevParentHeadId :- '20032'\n"
     ]
    },
    {
     "name": "stdout",
     "output_type": "stream",
     "text": [
      "5.1     Pharmacodynamic properties  |===|  5.1 Pharmacodynamic properties\n",
      "True  ||    ||  5.1     Pharmacodynamic properties  ||  5.1 Pharmacodynamic properties\n"
     ]
    },
    {
     "name": "stderr",
     "output_type": "stream",
     "text": [
      "2021-05-05 17:11:58,578 : Heading Extraction Adakveo-4874 EN PI_SmPC.json : Match Passed | H | CAP |  en | 0 | Adakveo-4874 EN PI_SmPC.json | Doc txt :- 'Mechanism of action' | Qrd txt :- 'Mechanism of action' | Matched :- 'True'\n",
      "2021-05-05 17:11:58,598 : Heading Extraction Adakveo-4874 EN PI_SmPC.json : Validation Passed | H | CAP |  en | 0 | Adakveo-4874 EN PI_SmPC.json | currHeadId :- '20034' | currParentHeadId :- '20033.0' | prevParentHeadId :- '20033'\n"
     ]
    },
    {
     "name": "stdout",
     "output_type": "stream",
     "text": [
      "Mechanism of action  |===|  Mechanism of action\n",
      "True  ||    ||  Mechanism of action  ||  Mechanism of action\n"
     ]
    },
    {
     "name": "stderr",
     "output_type": "stream",
     "text": [
      "2021-05-05 17:11:58,895 : Heading Extraction Adakveo-4874 EN PI_SmPC.json : Match Passed | H | CAP |  en | 0 | Adakveo-4874 EN PI_SmPC.json | Doc txt :- 'Pharmacodynamic effects' | Qrd txt :- 'Pharmacodynamic effects' | Matched :- 'True'\n",
      "2021-05-05 17:11:58,912 : Heading Extraction Adakveo-4874 EN PI_SmPC.json : Validation Passed | H | CAP |  en | 0 | Adakveo-4874 EN PI_SmPC.json | currHeadId :- '20035' | currParentHeadId :- '20033.0' | prevParentHeadId :- '20033'\n"
     ]
    },
    {
     "name": "stdout",
     "output_type": "stream",
     "text": [
      "Pharmacodynamic effects  |===|  Pharmacodynamic effects\n",
      "True  ||    ||  Pharmacodynamic effects  ||  Pharmacodynamic effects\n"
     ]
    },
    {
     "name": "stderr",
     "output_type": "stream",
     "text": [
      "2021-05-05 17:11:59,153 : Heading Extraction Adakveo-4874 EN PI_SmPC.json : Match Passed | H | CAP |  en | 0 | Adakveo-4874 EN PI_SmPC.json | Doc txt :- 'Clinical efficacy and safety' | Qrd txt :- 'Clinical efficacy and safety' | Matched :- 'True'\n",
      "2021-05-05 17:11:59,170 : Heading Extraction Adakveo-4874 EN PI_SmPC.json : Validation Passed | H | CAP |  en | 0 | Adakveo-4874 EN PI_SmPC.json | currHeadId :- '20036' | currParentHeadId :- '20033.0' | prevParentHeadId :- '20033'\n",
      "2021-05-05 17:11:59,347 : Heading Extraction Adakveo-4874 EN PI_SmPC.json : Match Failed | H | CAP |  en | 0 | Adakveo-4874 EN PI_SmPC.json | Doc txt :- 'Main efficacy outcomes of the pivotal SUSTAIN study are summarised in Tables 2 and 3.' | Qrd txt :- '6.5 Nature and contents of container <and special equipment for use administration or implantation>' | Matched :- 'False'\n"
     ]
    },
    {
     "name": "stdout",
     "output_type": "stream",
     "text": [
      "Clinical efficacy and safety  |===|  Clinical efficacy and safety\n",
      "True  ||    ||  Clinical efficacy and safety  ||  Clinical efficacy and safety\n"
     ]
    },
    {
     "name": "stderr",
     "output_type": "stream",
     "text": [
      "2021-05-05 17:12:00,044 : Heading Extraction Adakveo-4874 EN PI_SmPC.json : Match Failed | H | CAP |  en | 0 | Adakveo-4874 EN PI_SmPC.json | Doc txt :- 'Table 3       Annual rate of VOCs in patients ‑ subgroup analyses' | Qrd txt :- '6.6 Special precautions for disposal <and other handling>' | Matched :- 'False'\n",
      "2021-05-05 17:12:00,485 : Heading Extraction Adakveo-4874 EN PI_SmPC.json : Match Passed | H | CAP |  en | 0 | Adakveo-4874 EN PI_SmPC.json | Doc txt :- 'Paediatric population' | Qrd txt :- 'Paediatric population' | Matched :- 'True'\n",
      "2021-05-05 17:12:00,496 : Heading Extraction Adakveo-4874 EN PI_SmPC.json : Validation Failed As Previous Heading Found is not matching | H | CAP |  en | 0 | Adakveo-4874 EN PI_SmPC.json | currHeadId :- '20013' | currParentHeadId :- '20012.0' | prevParentHeadId :- '20033'\n",
      "2021-05-05 17:12:00,518 : Heading Extraction Adakveo-4874 EN PI_SmPC.json : Match Passed | H | CAP |  en | 0 | Adakveo-4874 EN PI_SmPC.json | Doc txt :- 'Paediatric population' | Qrd txt :- 'Paediatric population' | Matched :- 'True'\n",
      "2021-05-05 17:12:00,529 : Heading Extraction Adakveo-4874 EN PI_SmPC.json : Validation Failed As Previous Heading Found is not matching | H | CAP |  en | 0 | Adakveo-4874 EN PI_SmPC.json | currHeadId :- '20019' | currParentHeadId :- '20017.0' | prevParentHeadId :- '20033'\n",
      "2021-05-05 17:12:00,538 : Heading Extraction Adakveo-4874 EN PI_SmPC.json : Match Passed | H | CAP |  en | 0 | Adakveo-4874 EN PI_SmPC.json | Doc txt :- 'Paediatric population' | Qrd txt :- 'Paediatric population' | Matched :- 'True'\n",
      "2021-05-05 17:12:00,551 : Heading Extraction Adakveo-4874 EN PI_SmPC.json : Validation Failed As Previous Heading Found is not matching | H | CAP |  en | 0 | Adakveo-4874 EN PI_SmPC.json | currHeadId :- '20021' | currParentHeadId :- '20020.0' | prevParentHeadId :- '20033'\n",
      "2021-05-05 17:12:00,577 : Heading Extraction Adakveo-4874 EN PI_SmPC.json : Match Passed | H | CAP |  en | 0 | Adakveo-4874 EN PI_SmPC.json | Doc txt :- 'Paediatric population' | Qrd txt :- 'Paediatric population' | Matched :- 'True'\n",
      "2021-05-05 17:12:00,590 : Heading Extraction Adakveo-4874 EN PI_SmPC.json : Validation Failed As Previous Heading Found is not matching | H | CAP |  en | 0 | Adakveo-4874 EN PI_SmPC.json | currHeadId :- '20028' | currParentHeadId :- '20027.0' | prevParentHeadId :- '20033'\n",
      "2021-05-05 17:12:00,603 : Heading Extraction Adakveo-4874 EN PI_SmPC.json : Match Passed | H | CAP |  en | 0 | Adakveo-4874 EN PI_SmPC.json | Doc txt :- 'Paediatric population' | Qrd txt :- 'Paediatric population' | Matched :- 'True'\n",
      "2021-05-05 17:12:00,616 : Heading Extraction Adakveo-4874 EN PI_SmPC.json : Validation Failed As Previous Heading Found is not matching | H | CAP |  en | 0 | Adakveo-4874 EN PI_SmPC.json | currHeadId :- '20031' | currParentHeadId :- '20030.0' | prevParentHeadId :- '20033'\n",
      "2021-05-05 17:12:00,640 : Heading Extraction Adakveo-4874 EN PI_SmPC.json : Match Passed | H | CAP |  en | 0 | Adakveo-4874 EN PI_SmPC.json | Doc txt :- 'Paediatric population' | Qrd txt :- 'Paediatric population' | Matched :- 'True'\n",
      "2021-05-05 17:12:00,658 : Heading Extraction Adakveo-4874 EN PI_SmPC.json : Validation Passed | H | CAP |  en | 0 | Adakveo-4874 EN PI_SmPC.json | currHeadId :- '20037' | currParentHeadId :- '20033.0' | prevParentHeadId :- '20033'\n"
     ]
    },
    {
     "name": "stdout",
     "output_type": "stream",
     "text": [
      "Paediatric population  |===|  Paediatric population\n",
      "Paediatric population  |===|  Paediatric population\n",
      "Paediatric population  |===|  Paediatric population\n",
      "Paediatric population  |===|  Paediatric population\n",
      "Paediatric population  |===|  Paediatric population\n",
      "Paediatric population  |===|  Paediatric population\n",
      "True  ||    ||  Paediatric population  ||  Paediatric population\n"
     ]
    },
    {
     "name": "stderr",
     "output_type": "stream",
     "text": [
      "2021-05-05 17:12:01,296 : Heading Extraction Adakveo-4874 EN PI_SmPC.json : Match Failed | H | CAP |  en | 0 | Adakveo-4874 EN PI_SmPC.json | Doc txt :- 'This medicinal product has been authorised under a so‑called “conditional approval” scheme. This means that further evidence on this medicinal product is awaited.' | Qrd txt :- '6.5 Nature and contents of container <and special equipment for use administration or implantation>' | Matched :- 'False'\n",
      "2021-05-05 17:12:01,483 : Heading Extraction Adakveo-4874 EN PI_SmPC.json : Match Failed | H | CAP |  en | 0 | Adakveo-4874 EN PI_SmPC.json | Doc txt :- 'The European Medicines Agency will review new information on this medicinal product at least every year and this SmPC will be updated as necessary.' | Qrd txt :- '6.5 Nature and contents of container <and special equipment for use administration or implantation>' | Matched :- 'False'\n",
      "2021-05-05 17:12:01,643 : Heading Extraction Adakveo-4874 EN PI_SmPC.json : Match Failed | H | CAP |  en | 0 | Adakveo-4874 EN PI_SmPC.json | Doc txt :- '5.2     Pharmacokinetic properties' | Qrd txt :- '5.1 Pharmacodynamic properties' | Matched :- 'False'\n",
      "2021-05-05 17:12:01,671 : Heading Extraction Adakveo-4874 EN PI_SmPC.json : Match Passed | H | CAP |  en | 0 | Adakveo-4874 EN PI_SmPC.json | Doc txt :- '5.2     Pharmacokinetic properties' | Qrd txt :- '5.2 Pharmacokinetic properties' | Matched :- 'True'\n",
      "2021-05-05 17:12:01,686 : Heading Extraction Adakveo-4874 EN PI_SmPC.json : Validation Passed | H | CAP |  en | 0 | Adakveo-4874 EN PI_SmPC.json | currHeadId :- '20038' | currParentHeadId :- '20032.0' | prevParentHeadId :- '20033'\n",
      "2021-05-05 17:12:01,806 : Heading Extraction Adakveo-4874 EN PI_SmPC.json : Match Passed | H | CAP |  en | 0 | Adakveo-4874 EN PI_SmPC.json | Doc txt :- 'Absorption' | Qrd txt :- 'Absorption' | Matched :- 'True'\n",
      "2021-05-05 17:12:01,833 : Heading Extraction Adakveo-4874 EN PI_SmPC.json : Validation Passed | H | CAP |  en | 0 | Adakveo-4874 EN PI_SmPC.json | currHeadId :- '20039' | currParentHeadId :- '20038.0' | prevParentHeadId :- '20038'\n"
     ]
    },
    {
     "name": "stdout",
     "output_type": "stream",
     "text": [
      "5.2     Pharmacokinetic properties  |===|  5.2 Pharmacokinetic properties\n",
      "True  ||    ||  5.2     Pharmacokinetic properties  ||  5.2 Pharmacokinetic properties\n",
      "Absorption  |===|  Absorption\n",
      "True  ||    ||  Absorption  ||  Absorption\n"
     ]
    },
    {
     "name": "stderr",
     "output_type": "stream",
     "text": [
      "2021-05-05 17:12:02,091 : Heading Extraction Adakveo-4874 EN PI_SmPC.json : Match Passed | H | CAP |  en | 0 | Adakveo-4874 EN PI_SmPC.json | Doc txt :- 'Distribution' | Qrd txt :- 'Distribution' | Matched :- 'True'\n",
      "2021-05-05 17:12:02,108 : Heading Extraction Adakveo-4874 EN PI_SmPC.json : Validation Passed | H | CAP |  en | 0 | Adakveo-4874 EN PI_SmPC.json | currHeadId :- '20040' | currParentHeadId :- '20038.0' | prevParentHeadId :- '20038'\n"
     ]
    },
    {
     "name": "stdout",
     "output_type": "stream",
     "text": [
      "Distribution  |===|  Distribution\n",
      "True  ||    ||  Distribution  ||  Distribution\n"
     ]
    },
    {
     "name": "stderr",
     "output_type": "stream",
     "text": [
      "2021-05-05 17:12:02,389 : Heading Extraction Adakveo-4874 EN PI_SmPC.json : Match Passed | H | CAP |  en | 0 | Adakveo-4874 EN PI_SmPC.json | Doc txt :- 'Biotransformation' | Qrd txt :- 'Biotransformation' | Matched :- 'True'\n",
      "2021-05-05 17:12:02,407 : Heading Extraction Adakveo-4874 EN PI_SmPC.json : Validation Passed | H | CAP |  en | 0 | Adakveo-4874 EN PI_SmPC.json | currHeadId :- '20041' | currParentHeadId :- '20038.0' | prevParentHeadId :- '20038'\n"
     ]
    },
    {
     "name": "stdout",
     "output_type": "stream",
     "text": [
      "Biotransformation  |===|  Biotransformation\n",
      "True  ||    ||  Biotransformation  ||  Biotransformation\n"
     ]
    },
    {
     "name": "stderr",
     "output_type": "stream",
     "text": [
      "2021-05-05 17:12:02,697 : Heading Extraction Adakveo-4874 EN PI_SmPC.json : Match Failed | H | CAP |  en | 0 | Adakveo-4874 EN PI_SmPC.json | Doc txt :- 'Antibodies are primarily eliminated via proteolysis by lysosomal enzymes in the liver to small peptides and amino acids.' | Qrd txt :- '6.5 Nature and contents of container <and special equipment for use administration or implantation>' | Matched :- 'False'\n",
      "2021-05-05 17:12:02,840 : Heading Extraction Adakveo-4874 EN PI_SmPC.json : Match Passed | H | CAP |  en | 0 | Adakveo-4874 EN PI_SmPC.json | Doc txt :- 'Elimination' | Qrd txt :- 'Elimination' | Matched :- 'True'\n",
      "2021-05-05 17:12:02,865 : Heading Extraction Adakveo-4874 EN PI_SmPC.json : Validation Passed | H | CAP |  en | 0 | Adakveo-4874 EN PI_SmPC.json | currHeadId :- '20042' | currParentHeadId :- '20038.0' | prevParentHeadId :- '20038'\n"
     ]
    },
    {
     "name": "stdout",
     "output_type": "stream",
     "text": [
      "Elimination  |===|  Elimination\n",
      "True  ||    ||  Elimination  ||  Elimination\n"
     ]
    },
    {
     "name": "stderr",
     "output_type": "stream",
     "text": [
      "2021-05-05 17:12:03,178 : Heading Extraction Adakveo-4874 EN PI_SmPC.json : Match Passed | H | CAP |  en | 0 | Adakveo-4874 EN PI_SmPC.json | Doc txt :- 'Linearity/non‑linearity' | Qrd txt :- 'Linearity/non-linearity' | Matched :- 'True'\n",
      "2021-05-05 17:12:03,196 : Heading Extraction Adakveo-4874 EN PI_SmPC.json : Validation Passed | H | CAP |  en | 0 | Adakveo-4874 EN PI_SmPC.json | currHeadId :- '20043' | currParentHeadId :- '20038.0' | prevParentHeadId :- '20038'\n"
     ]
    },
    {
     "name": "stdout",
     "output_type": "stream",
     "text": [
      "Linearity/non‑linearity  |===|  Linearity/non-linearity\n",
      "True  ||  <=1|4.35|(96, 96, 100)|0.99|  ||  Linearity/non‑linearity  ||  Linearity/non-linearity\n"
     ]
    },
    {
     "name": "stderr",
     "output_type": "stream",
     "text": [
      "2021-05-05 17:12:03,393 : Heading Extraction Adakveo-4874 EN PI_SmPC.json : Match Failed | H | CAP |  en | 0 | Adakveo-4874 EN PI_SmPC.json | Doc txt :- 'The exposure to crizanlizumab (mean Cmax, AUClast, or AUCinf) increased in non‑linear manner over the dose range of 0.2 to 8 mg/kg in healthy volunteers.' | Qrd txt :- '6.5 Nature and contents of container <and special equipment for use administration or implantation>' | Matched :- 'False'\n",
      "2021-05-05 17:12:03,608 : Heading Extraction Adakveo-4874 EN PI_SmPC.json : Match Failed | H | CAP |  en | 0 | Adakveo-4874 EN PI_SmPC.json | Doc txt :- 'Special populations' | Qrd txt :- '6.6 Special precautions for disposal <and other handling>' | Matched :- 'False'\n",
      "2021-05-05 17:12:04,161 : Heading Extraction Adakveo-4874 EN PI_SmPC.json : Match Passed | H | CAP |  en | 0 | Adakveo-4874 EN PI_SmPC.json | Doc txt :- 'Paediatric population' | Qrd txt :- 'Paediatric population' | Matched :- 'True'\n",
      "2021-05-05 17:12:04,172 : Heading Extraction Adakveo-4874 EN PI_SmPC.json : Validation Failed As Previous Heading Found is not matching | H | CAP |  en | 0 | Adakveo-4874 EN PI_SmPC.json | currHeadId :- '20013' | currParentHeadId :- '20012.0' | prevParentHeadId :- '20038'\n",
      "2021-05-05 17:12:04,201 : Heading Extraction Adakveo-4874 EN PI_SmPC.json : Match Passed | H | CAP |  en | 0 | Adakveo-4874 EN PI_SmPC.json | Doc txt :- 'Paediatric population' | Qrd txt :- 'Paediatric population' | Matched :- 'True'\n",
      "2021-05-05 17:12:04,212 : Heading Extraction Adakveo-4874 EN PI_SmPC.json : Validation Failed As Previous Heading Found is not matching | H | CAP |  en | 0 | Adakveo-4874 EN PI_SmPC.json | currHeadId :- '20019' | currParentHeadId :- '20017.0' | prevParentHeadId :- '20038'\n",
      "2021-05-05 17:12:04,221 : Heading Extraction Adakveo-4874 EN PI_SmPC.json : Match Passed | H | CAP |  en | 0 | Adakveo-4874 EN PI_SmPC.json | Doc txt :- 'Paediatric population' | Qrd txt :- 'Paediatric population' | Matched :- 'True'\n",
      "2021-05-05 17:12:04,231 : Heading Extraction Adakveo-4874 EN PI_SmPC.json : Validation Failed As Previous Heading Found is not matching | H | CAP |  en | 0 | Adakveo-4874 EN PI_SmPC.json | currHeadId :- '20021' | currParentHeadId :- '20020.0' | prevParentHeadId :- '20038'\n",
      "2021-05-05 17:12:04,255 : Heading Extraction Adakveo-4874 EN PI_SmPC.json : Match Passed | H | CAP |  en | 0 | Adakveo-4874 EN PI_SmPC.json | Doc txt :- 'Paediatric population' | Qrd txt :- 'Paediatric population' | Matched :- 'True'\n",
      "2021-05-05 17:12:04,266 : Heading Extraction Adakveo-4874 EN PI_SmPC.json : Validation Failed As Previous Heading Found is not matching | H | CAP |  en | 0 | Adakveo-4874 EN PI_SmPC.json | currHeadId :- '20028' | currParentHeadId :- '20027.0' | prevParentHeadId :- '20038'\n",
      "2021-05-05 17:12:04,279 : Heading Extraction Adakveo-4874 EN PI_SmPC.json : Match Passed | H | CAP |  en | 0 | Adakveo-4874 EN PI_SmPC.json | Doc txt :- 'Paediatric population' | Qrd txt :- 'Paediatric population' | Matched :- 'True'\n",
      "2021-05-05 17:12:04,291 : Heading Extraction Adakveo-4874 EN PI_SmPC.json : Validation Failed As Previous Heading Found is not matching | H | CAP |  en | 0 | Adakveo-4874 EN PI_SmPC.json | currHeadId :- '20031' | currParentHeadId :- '20030.0' | prevParentHeadId :- '20038'\n",
      "2021-05-05 17:12:04,309 : Heading Extraction Adakveo-4874 EN PI_SmPC.json : Match Passed | H | CAP |  en | 0 | Adakveo-4874 EN PI_SmPC.json | Doc txt :- 'Paediatric population' | Qrd txt :- 'Paediatric population' | Matched :- 'True'\n",
      "2021-05-05 17:12:04,321 : Heading Extraction Adakveo-4874 EN PI_SmPC.json : Validation Failed As Previous Heading Found is not matching | H | CAP |  en | 0 | Adakveo-4874 EN PI_SmPC.json | currHeadId :- '20037' | currParentHeadId :- '20033.0' | prevParentHeadId :- '20038'\n"
     ]
    },
    {
     "name": "stdout",
     "output_type": "stream",
     "text": [
      "Paediatric population  |===|  Paediatric population\n",
      "Paediatric population  |===|  Paediatric population\n",
      "Paediatric population  |===|  Paediatric population\n",
      "Paediatric population  |===|  Paediatric population\n",
      "Paediatric population  |===|  Paediatric population\n",
      "Paediatric population  |===|  Paediatric population\n"
     ]
    },
    {
     "name": "stderr",
     "output_type": "stream",
     "text": [
      "2021-05-05 17:12:04,395 : Heading Extraction Adakveo-4874 EN PI_SmPC.json : Match Failed | H | CAP |  en | 0 | Adakveo-4874 EN PI_SmPC.json | Doc txt :- 'Paediatric population' | Qrd txt :- '6.6 Special precautions for disposal <and other handling>' | Matched :- 'False'\n",
      "2021-05-05 17:12:04,406 : Heading Extraction Adakveo-4874 EN PI_SmPC.json : Match Failed In Lowercase | H | CAP |  en | 0 | Adakveo-4874 EN PI_SmPC.json | Doc txt :- 'Paediatric population' | Qrd txt :- 'Use in the paediatric population' | Matched :- 'False'\n",
      "2021-05-05 17:12:04,581 : Heading Extraction Adakveo-4874 EN PI_SmPC.json : Match Failed | H | CAP |  en | 0 | Adakveo-4874 EN PI_SmPC.json | Doc txt :- 'Pharmacokinetics in paediatric patients below the age of 16 years have not been investigated.' | Qrd txt :- '6.5 Nature and contents of container <and special equipment for use administration or implantation>' | Matched :- 'False'\n"
     ]
    },
    {
     "name": "stdout",
     "output_type": "stream",
     "text": [
      "\n",
      "OriginalCheck\n",
      "('<=7|57.14|(75, 95, 90)|0.69|', 'Paediatric population', 'Use in the paediatric population')\n",
      "\n"
     ]
    },
    {
     "name": "stderr",
     "output_type": "stream",
     "text": [
      "2021-05-05 17:12:04,778 : Heading Extraction Adakveo-4874 EN PI_SmPC.json : Match Passed | H | CAP |  en | 0 | Adakveo-4874 EN PI_SmPC.json | Doc txt :- '5.3     Preclinical safety data' | Qrd txt :- '5.3 Preclinical safety data' | Matched :- 'True'\n",
      "2021-05-05 17:12:04,791 : Heading Extraction Adakveo-4874 EN PI_SmPC.json : Validation Passed | H | CAP |  en | 0 | Adakveo-4874 EN PI_SmPC.json | currHeadId :- '20045' | currParentHeadId :- '20032.0' | prevParentHeadId :- '20038'\n",
      "2021-05-05 17:12:04,960 : Heading Extraction Adakveo-4874 EN PI_SmPC.json : Match Failed | H | CAP |  en | 0 | Adakveo-4874 EN PI_SmPC.json | Doc txt :- 'Non‑clinical data revealed no special hazard for humans based on conventional studies of safety pharmacology, tissue cross‑reactivity and repeated dose toxicity.' | Qrd txt :- '6.5 Nature and contents of container <and special equipment for use administration or implantation>' | Matched :- 'False'\n"
     ]
    },
    {
     "name": "stdout",
     "output_type": "stream",
     "text": [
      "5.3     Preclinical safety data  |===|  5.3 Preclinical safety data\n",
      "True  ||    ||  5.3     Preclinical safety data  ||  5.3 Preclinical safety data\n"
     ]
    },
    {
     "name": "stderr",
     "output_type": "stream",
     "text": [
      "2021-05-05 17:12:05,110 : Heading Extraction Adakveo-4874 EN PI_SmPC.json : Match Failed | H | CAP |  en | 0 | Adakveo-4874 EN PI_SmPC.json | Doc txt :- 'Formal carcinogenicity, genotoxicity and juvenile toxicity studies have not been conducted with crizanlizumab.' | Qrd txt :- '6.5 Nature and contents of container <and special equipment for use administration or implantation>' | Matched :- 'False'\n",
      "2021-05-05 17:12:05,348 : Heading Extraction Adakveo-4874 EN PI_SmPC.json : Match Failed | H | CAP |  en | 0 | Adakveo-4874 EN PI_SmPC.json | Doc txt :- 'Measurable crizanlizumab serum concentrations were observed in the infant monkeys at postnatal day 28, confirming that crizanlizumab, like other IgG antibodies, crosses the placental barrier.' | Qrd txt :- '6.5 Nature and contents of container <and special equipment for use administration or implantation>' | Matched :- 'False'\n",
      "2021-05-05 17:12:05,551 : Heading Extraction Adakveo-4874 EN PI_SmPC.json : Match Passed | H | CAP |  en | 0 | Adakveo-4874 EN PI_SmPC.json | Doc txt :- '6.       PHARMACEUTICAL PARTICULARS' | Qrd txt :- '6. PHARMACEUTICAL PARTICULARS' | Matched :- 'True'\n",
      "2021-05-05 17:12:05,563 : Heading Extraction Adakveo-4874 EN PI_SmPC.json : Validation Passed | H | CAP |  en | 0 | Adakveo-4874 EN PI_SmPC.json | currHeadId :- '20047' | currParentHeadId :- '20001.0' | prevParentHeadId :- '20045'\n"
     ]
    },
    {
     "name": "stdout",
     "output_type": "stream",
     "text": [
      "6.       PHARMACEUTICAL PARTICULARS  |===|  6. PHARMACEUTICAL PARTICULARS\n",
      "True  ||    ||  6.       PHARMACEUTICAL PARTICULARS  ||  6. PHARMACEUTICAL PARTICULARS\n"
     ]
    },
    {
     "name": "stderr",
     "output_type": "stream",
     "text": [
      "2021-05-05 17:12:05,785 : Heading Extraction Adakveo-4874 EN PI_SmPC.json : Match Passed | H | CAP |  en | 0 | Adakveo-4874 EN PI_SmPC.json | Doc txt :- '6.1     List of excipients' | Qrd txt :- '6.1 List of excipients' | Matched :- 'True'\n",
      "2021-05-05 17:12:05,797 : Heading Extraction Adakveo-4874 EN PI_SmPC.json : Validation Passed | H | CAP |  en | 0 | Adakveo-4874 EN PI_SmPC.json | currHeadId :- '20048' | currParentHeadId :- '20047.0' | prevParentHeadId :- '20047'\n"
     ]
    },
    {
     "name": "stdout",
     "output_type": "stream",
     "text": [
      "6.1     List of excipients  |===|  6.1 List of excipients\n",
      "True  ||    ||  6.1     List of excipients  ||  6.1 List of excipients\n"
     ]
    },
    {
     "ename": "KeyboardInterrupt",
     "evalue": "",
     "output_type": "error",
     "traceback": [
      "\u001b[1;31m---------------------------------------------------------------------------\u001b[0m",
      "\u001b[1;31mKeyboardInterrupt\u001b[0m                         Traceback (most recent call last)",
      "\u001b[1;32m<ipython-input-7-3f6290647f0a>\u001b[0m in \u001b[0;36m<module>\u001b[1;34m\u001b[0m\n\u001b[1;32m----> 1\u001b[1;33m \u001b[0mparseDocument\u001b[0m\u001b[1;33m(\u001b[0m\u001b[1;34m\"F:\\\\Projects\\\\EMA\\\\Repository\\\\EMA EPI PoC\\\\function_code\\\\data\\\\converted_to_html\\\\H\\\\CAP\\\\en\\\\Adakveo-4874 EN PI.html\"\u001b[0m\u001b[1;33m,\u001b[0m \u001b[0mfileNameQrd\u001b[0m\u001b[1;33m,\u001b[0m \u001b[0mfileNameMatchRuleBook\u001b[0m\u001b[1;33m,\u001b[0m \u001b[0mfileNameDocumentTypeNames\u001b[0m\u001b[1;33m,\u001b[0m \u001b[0mmedName\u001b[0m \u001b[1;33m=\u001b[0m \u001b[1;34m\"Aerius\"\u001b[0m\u001b[1;33m,\u001b[0m \u001b[0mfsMountName\u001b[0m \u001b[1;33m=\u001b[0m \u001b[1;34m'/mounted'\u001b[0m\u001b[1;33m,\u001b[0m \u001b[0mlocalEnv\u001b[0m\u001b[1;33m=\u001b[0m \u001b[1;32mTrue\u001b[0m\u001b[1;33m)\u001b[0m\u001b[1;33m\u001b[0m\u001b[1;33m\u001b[0m\u001b[0m\n\u001b[0m",
      "\u001b[1;32m<ipython-input-6-cd8c67ef62bd>\u001b[0m in \u001b[0;36mparseDocument\u001b[1;34m(htmlDocPath, fileNameQrd, fileNameMatchRuleBook, fileNameDocumentTypeNames, fsMountName, localEnv, medName)\u001b[0m\n\u001b[0;32m    253\u001b[0m                                     \u001b[0mmedName\u001b[0m\u001b[1;33m=\u001b[0m\u001b[0mmedName\u001b[0m\u001b[1;33m,\u001b[0m\u001b[1;33m\u001b[0m\u001b[1;33m\u001b[0m\u001b[0m\n\u001b[0;32m    254\u001b[0m                                     \u001b[0mfsMountName\u001b[0m\u001b[1;33m=\u001b[0m\u001b[0mfileNameLog\u001b[0m\u001b[1;33m,\u001b[0m\u001b[1;33m\u001b[0m\u001b[1;33m\u001b[0m\u001b[0m\n\u001b[1;32m--> 255\u001b[1;33m                                     localEnv=localEnv)\n\u001b[0m\u001b[0;32m    256\u001b[0m \u001b[1;33m\u001b[0m\u001b[0m\n\u001b[0;32m    257\u001b[0m \u001b[1;33m\u001b[0m\u001b[0m\n",
      "\u001b[1;32m<ipython-input-6-cd8c67ef62bd>\u001b[0m in \u001b[0;36mextractAndValidateHeadings\u001b[1;34m(domain, procedureType, languageCode, documentNumber, fileNameDoc, fileNameQrd, fileNameMatchRuleBook, fileNameDocumentTypeNames, fileNameLog, stopWordFilterLen, isPackageLeaflet, medName, fsMountName, localEnv)\u001b[0m\n\u001b[0;32m    184\u001b[0m         \u001b[0mfsMountName\u001b[0m\u001b[1;33m,\u001b[0m\u001b[1;33m\u001b[0m\u001b[1;33m\u001b[0m\u001b[0m\n\u001b[0;32m    185\u001b[0m         localEnv)\n\u001b[1;32m--> 186\u001b[1;33m     \u001b[0mdf\u001b[0m\u001b[1;33m,\u001b[0m \u001b[0mcoll\u001b[0m \u001b[1;33m=\u001b[0m \u001b[0mmatchDocObj\u001b[0m\u001b[1;33m.\u001b[0m\u001b[0mmatchHtmlHeaddingsWithQrd\u001b[0m\u001b[1;33m(\u001b[0m\u001b[1;33m)\u001b[0m\u001b[1;33m\u001b[0m\u001b[1;33m\u001b[0m\u001b[0m\n\u001b[0m\u001b[0;32m    187\u001b[0m \u001b[1;33m\u001b[0m\u001b[0m\n\u001b[0;32m    188\u001b[0m     \u001b[1;32mreturn\u001b[0m \u001b[0mdf\u001b[0m\u001b[1;33m,\u001b[0m \u001b[0mcoll\u001b[0m\u001b[1;33m\u001b[0m\u001b[1;33m\u001b[0m\u001b[0m\n",
      "\u001b[1;32mF:\\Projects\\EMA\\Repository\\EMA EPI PoC\\function_code\\code\\match\\matchDocument\\matchDocument.py\u001b[0m in \u001b[0;36mmatchHtmlHeaddingsWithQrd\u001b[1;34m(self)\u001b[0m\n\u001b[0;32m    378\u001b[0m                             \u001b[1;31m# Call matching algorith\u001b[0m\u001b[1;33m\u001b[0m\u001b[1;33m\u001b[0m\u001b[1;33m\u001b[0m\u001b[0m\n\u001b[0;32m    379\u001b[0m                             found, outputString = matchStringObj.matchStrings(\n\u001b[1;32m--> 380\u001b[1;33m                                 str_['Text'], qrd_str, qrd_str_row['heading_id'])\n\u001b[0m\u001b[0;32m    381\u001b[0m \u001b[1;33m\u001b[0m\u001b[0m\n\u001b[0;32m    382\u001b[0m                             \u001b[1;32mif\u001b[0m \u001b[0mfound\u001b[0m\u001b[1;33m:\u001b[0m\u001b[1;33m\u001b[0m\u001b[1;33m\u001b[0m\u001b[0m\n",
      "\u001b[1;32mF:\\Projects\\EMA\\Repository\\EMA EPI PoC\\function_code\\code\\match\\matchStrings\\matchStrings.py\u001b[0m in \u001b[0;36mmatchStrings\u001b[1;34m(self, textOriginal, textToMatch, qrdRowHeadingId, avoidLowerCaseMatch)\u001b[0m\n\u001b[0;32m    140\u001b[0m         \u001b[0mnoWordstextToMatch1\u001b[0m \u001b[1;33m=\u001b[0m \u001b[0mlen\u001b[0m\u001b[1;33m(\u001b[0m\u001b[0mtextToMatch1\u001b[0m\u001b[1;33m.\u001b[0m\u001b[0msplit\u001b[0m\u001b[1;33m(\u001b[0m\u001b[1;33m)\u001b[0m\u001b[1;33m)\u001b[0m\u001b[1;33m\u001b[0m\u001b[1;33m\u001b[0m\u001b[0m\n\u001b[0;32m    141\u001b[0m \u001b[1;33m\u001b[0m\u001b[0m\n\u001b[1;32m--> 142\u001b[1;33m         \u001b[0mstopWords\u001b[0m \u001b[1;33m=\u001b[0m \u001b[0mstopwords\u001b[0m\u001b[1;33m.\u001b[0m\u001b[0mwords\u001b[0m\u001b[1;33m(\u001b[0m\u001b[0mself\u001b[0m\u001b[1;33m.\u001b[0m\u001b[0mstopWordlanguage\u001b[0m\u001b[1;33m)\u001b[0m\u001b[1;33m\u001b[0m\u001b[1;33m\u001b[0m\u001b[0m\n\u001b[0m\u001b[0;32m    143\u001b[0m \u001b[1;33m\u001b[0m\u001b[0m\n\u001b[0;32m    144\u001b[0m         \u001b[1;32mif\u001b[0m \u001b[0mnoWordstextOriginal1\u001b[0m \u001b[1;33m>\u001b[0m \u001b[0mself\u001b[0m\u001b[1;33m.\u001b[0m\u001b[0mstopWordFilterListSize\u001b[0m\u001b[1;33m:\u001b[0m\u001b[1;33m\u001b[0m\u001b[1;33m\u001b[0m\u001b[0m\n",
      "\u001b[1;32m~\\AppData\\Roaming\\Python\\Python37\\site-packages\\nltk\\corpus\\reader\\wordlist.py\u001b[0m in \u001b[0;36mwords\u001b[1;34m(self, fileids, ignore_lines_startswith)\u001b[0m\n\u001b[0;32m     21\u001b[0m         return [\n\u001b[0;32m     22\u001b[0m             \u001b[0mline\u001b[0m\u001b[1;33m\u001b[0m\u001b[1;33m\u001b[0m\u001b[0m\n\u001b[1;32m---> 23\u001b[1;33m             \u001b[1;32mfor\u001b[0m \u001b[0mline\u001b[0m \u001b[1;32min\u001b[0m \u001b[0mline_tokenize\u001b[0m\u001b[1;33m(\u001b[0m\u001b[0mself\u001b[0m\u001b[1;33m.\u001b[0m\u001b[0mraw\u001b[0m\u001b[1;33m(\u001b[0m\u001b[0mfileids\u001b[0m\u001b[1;33m)\u001b[0m\u001b[1;33m)\u001b[0m\u001b[1;33m\u001b[0m\u001b[1;33m\u001b[0m\u001b[0m\n\u001b[0m\u001b[0;32m     24\u001b[0m             \u001b[1;32mif\u001b[0m \u001b[1;32mnot\u001b[0m \u001b[0mline\u001b[0m\u001b[1;33m.\u001b[0m\u001b[0mstartswith\u001b[0m\u001b[1;33m(\u001b[0m\u001b[0mignore_lines_startswith\u001b[0m\u001b[1;33m)\u001b[0m\u001b[1;33m\u001b[0m\u001b[1;33m\u001b[0m\u001b[0m\n\u001b[0;32m     25\u001b[0m         ]\n",
      "\u001b[1;32m~\\AppData\\Roaming\\Python\\Python37\\site-packages\\nltk\\corpus\\reader\\wordlist.py\u001b[0m in \u001b[0;36mraw\u001b[1;34m(self, fileids)\u001b[0m\n\u001b[0;32m     30\u001b[0m         \u001b[1;32melif\u001b[0m \u001b[0misinstance\u001b[0m\u001b[1;33m(\u001b[0m\u001b[0mfileids\u001b[0m\u001b[1;33m,\u001b[0m \u001b[0mstr\u001b[0m\u001b[1;33m)\u001b[0m\u001b[1;33m:\u001b[0m\u001b[1;33m\u001b[0m\u001b[1;33m\u001b[0m\u001b[0m\n\u001b[0;32m     31\u001b[0m             \u001b[0mfileids\u001b[0m \u001b[1;33m=\u001b[0m \u001b[1;33m[\u001b[0m\u001b[0mfileids\u001b[0m\u001b[1;33m]\u001b[0m\u001b[1;33m\u001b[0m\u001b[1;33m\u001b[0m\u001b[0m\n\u001b[1;32m---> 32\u001b[1;33m         \u001b[1;32mreturn\u001b[0m \u001b[0mconcat\u001b[0m\u001b[1;33m(\u001b[0m\u001b[1;33m[\u001b[0m\u001b[0mself\u001b[0m\u001b[1;33m.\u001b[0m\u001b[0mopen\u001b[0m\u001b[1;33m(\u001b[0m\u001b[0mf\u001b[0m\u001b[1;33m)\u001b[0m\u001b[1;33m.\u001b[0m\u001b[0mread\u001b[0m\u001b[1;33m(\u001b[0m\u001b[1;33m)\u001b[0m \u001b[1;32mfor\u001b[0m \u001b[0mf\u001b[0m \u001b[1;32min\u001b[0m \u001b[0mfileids\u001b[0m\u001b[1;33m]\u001b[0m\u001b[1;33m)\u001b[0m\u001b[1;33m\u001b[0m\u001b[1;33m\u001b[0m\u001b[0m\n\u001b[0m\u001b[0;32m     33\u001b[0m \u001b[1;33m\u001b[0m\u001b[0m\n\u001b[0;32m     34\u001b[0m \u001b[1;33m\u001b[0m\u001b[0m\n",
      "\u001b[1;32m~\\AppData\\Roaming\\Python\\Python37\\site-packages\\nltk\\corpus\\reader\\wordlist.py\u001b[0m in \u001b[0;36m<listcomp>\u001b[1;34m(.0)\u001b[0m\n\u001b[0;32m     30\u001b[0m         \u001b[1;32melif\u001b[0m \u001b[0misinstance\u001b[0m\u001b[1;33m(\u001b[0m\u001b[0mfileids\u001b[0m\u001b[1;33m,\u001b[0m \u001b[0mstr\u001b[0m\u001b[1;33m)\u001b[0m\u001b[1;33m:\u001b[0m\u001b[1;33m\u001b[0m\u001b[1;33m\u001b[0m\u001b[0m\n\u001b[0;32m     31\u001b[0m             \u001b[0mfileids\u001b[0m \u001b[1;33m=\u001b[0m \u001b[1;33m[\u001b[0m\u001b[0mfileids\u001b[0m\u001b[1;33m]\u001b[0m\u001b[1;33m\u001b[0m\u001b[1;33m\u001b[0m\u001b[0m\n\u001b[1;32m---> 32\u001b[1;33m         \u001b[1;32mreturn\u001b[0m \u001b[0mconcat\u001b[0m\u001b[1;33m(\u001b[0m\u001b[1;33m[\u001b[0m\u001b[0mself\u001b[0m\u001b[1;33m.\u001b[0m\u001b[0mopen\u001b[0m\u001b[1;33m(\u001b[0m\u001b[0mf\u001b[0m\u001b[1;33m)\u001b[0m\u001b[1;33m.\u001b[0m\u001b[0mread\u001b[0m\u001b[1;33m(\u001b[0m\u001b[1;33m)\u001b[0m \u001b[1;32mfor\u001b[0m \u001b[0mf\u001b[0m \u001b[1;32min\u001b[0m \u001b[0mfileids\u001b[0m\u001b[1;33m]\u001b[0m\u001b[1;33m)\u001b[0m\u001b[1;33m\u001b[0m\u001b[1;33m\u001b[0m\u001b[0m\n\u001b[0m\u001b[0;32m     33\u001b[0m \u001b[1;33m\u001b[0m\u001b[0m\n\u001b[0;32m     34\u001b[0m \u001b[1;33m\u001b[0m\u001b[0m\n",
      "\u001b[1;32m~\\AppData\\Roaming\\Python\\Python37\\site-packages\\nltk\\corpus\\reader\\api.py\u001b[0m in \u001b[0;36mopen\u001b[1;34m(self, file)\u001b[0m\n\u001b[0;32m    206\u001b[0m         \"\"\"\n\u001b[0;32m    207\u001b[0m         \u001b[0mencoding\u001b[0m \u001b[1;33m=\u001b[0m \u001b[0mself\u001b[0m\u001b[1;33m.\u001b[0m\u001b[0mencoding\u001b[0m\u001b[1;33m(\u001b[0m\u001b[0mfile\u001b[0m\u001b[1;33m)\u001b[0m\u001b[1;33m\u001b[0m\u001b[1;33m\u001b[0m\u001b[0m\n\u001b[1;32m--> 208\u001b[1;33m         \u001b[0mstream\u001b[0m \u001b[1;33m=\u001b[0m \u001b[0mself\u001b[0m\u001b[1;33m.\u001b[0m\u001b[0m_root\u001b[0m\u001b[1;33m.\u001b[0m\u001b[0mjoin\u001b[0m\u001b[1;33m(\u001b[0m\u001b[0mfile\u001b[0m\u001b[1;33m)\u001b[0m\u001b[1;33m.\u001b[0m\u001b[0mopen\u001b[0m\u001b[1;33m(\u001b[0m\u001b[0mencoding\u001b[0m\u001b[1;33m)\u001b[0m\u001b[1;33m\u001b[0m\u001b[1;33m\u001b[0m\u001b[0m\n\u001b[0m\u001b[0;32m    209\u001b[0m         \u001b[1;32mreturn\u001b[0m \u001b[0mstream\u001b[0m\u001b[1;33m\u001b[0m\u001b[1;33m\u001b[0m\u001b[0m\n\u001b[0;32m    210\u001b[0m \u001b[1;33m\u001b[0m\u001b[0m\n",
      "\u001b[1;32m~\\AppData\\Roaming\\Python\\Python37\\site-packages\\nltk\\data.py\u001b[0m in \u001b[0;36mjoin\u001b[1;34m(self, fileid)\u001b[0m\n\u001b[0;32m    335\u001b[0m     \u001b[1;32mdef\u001b[0m \u001b[0mjoin\u001b[0m\u001b[1;33m(\u001b[0m\u001b[0mself\u001b[0m\u001b[1;33m,\u001b[0m \u001b[0mfileid\u001b[0m\u001b[1;33m)\u001b[0m\u001b[1;33m:\u001b[0m\u001b[1;33m\u001b[0m\u001b[1;33m\u001b[0m\u001b[0m\n\u001b[0;32m    336\u001b[0m         \u001b[0m_path\u001b[0m \u001b[1;33m=\u001b[0m \u001b[0mos\u001b[0m\u001b[1;33m.\u001b[0m\u001b[0mpath\u001b[0m\u001b[1;33m.\u001b[0m\u001b[0mjoin\u001b[0m\u001b[1;33m(\u001b[0m\u001b[0mself\u001b[0m\u001b[1;33m.\u001b[0m\u001b[0m_path\u001b[0m\u001b[1;33m,\u001b[0m \u001b[0mfileid\u001b[0m\u001b[1;33m)\u001b[0m\u001b[1;33m\u001b[0m\u001b[1;33m\u001b[0m\u001b[0m\n\u001b[1;32m--> 337\u001b[1;33m         \u001b[1;32mreturn\u001b[0m \u001b[0mFileSystemPathPointer\u001b[0m\u001b[1;33m(\u001b[0m\u001b[0m_path\u001b[0m\u001b[1;33m)\u001b[0m\u001b[1;33m\u001b[0m\u001b[1;33m\u001b[0m\u001b[0m\n\u001b[0m\u001b[0;32m    338\u001b[0m \u001b[1;33m\u001b[0m\u001b[0m\n\u001b[0;32m    339\u001b[0m     \u001b[1;32mdef\u001b[0m \u001b[0m__repr__\u001b[0m\u001b[1;33m(\u001b[0m\u001b[0mself\u001b[0m\u001b[1;33m)\u001b[0m\u001b[1;33m:\u001b[0m\u001b[1;33m\u001b[0m\u001b[1;33m\u001b[0m\u001b[0m\n",
      "\u001b[1;32m~\\AppData\\Roaming\\Python\\Python37\\site-packages\\nltk\\compat.py\u001b[0m in \u001b[0;36m_decorator\u001b[1;34m(*args, **kwargs)\u001b[0m\n\u001b[0;32m     39\u001b[0m     \u001b[1;32mdef\u001b[0m \u001b[0m_decorator\u001b[0m\u001b[1;33m(\u001b[0m\u001b[1;33m*\u001b[0m\u001b[0margs\u001b[0m\u001b[1;33m,\u001b[0m \u001b[1;33m**\u001b[0m\u001b[0mkwargs\u001b[0m\u001b[1;33m)\u001b[0m\u001b[1;33m:\u001b[0m\u001b[1;33m\u001b[0m\u001b[1;33m\u001b[0m\u001b[0m\n\u001b[0;32m     40\u001b[0m         \u001b[0margs\u001b[0m \u001b[1;33m=\u001b[0m \u001b[1;33m(\u001b[0m\u001b[0margs\u001b[0m\u001b[1;33m[\u001b[0m\u001b[1;36m0\u001b[0m\u001b[1;33m]\u001b[0m\u001b[1;33m,\u001b[0m \u001b[0madd_py3_data\u001b[0m\u001b[1;33m(\u001b[0m\u001b[0margs\u001b[0m\u001b[1;33m[\u001b[0m\u001b[1;36m1\u001b[0m\u001b[1;33m]\u001b[0m\u001b[1;33m)\u001b[0m\u001b[1;33m)\u001b[0m \u001b[1;33m+\u001b[0m \u001b[0margs\u001b[0m\u001b[1;33m[\u001b[0m\u001b[1;36m2\u001b[0m\u001b[1;33m:\u001b[0m\u001b[1;33m]\u001b[0m\u001b[1;33m\u001b[0m\u001b[1;33m\u001b[0m\u001b[0m\n\u001b[1;32m---> 41\u001b[1;33m         \u001b[1;32mreturn\u001b[0m \u001b[0minit_func\u001b[0m\u001b[1;33m(\u001b[0m\u001b[1;33m*\u001b[0m\u001b[0margs\u001b[0m\u001b[1;33m,\u001b[0m \u001b[1;33m**\u001b[0m\u001b[0mkwargs\u001b[0m\u001b[1;33m)\u001b[0m\u001b[1;33m\u001b[0m\u001b[1;33m\u001b[0m\u001b[0m\n\u001b[0m\u001b[0;32m     42\u001b[0m \u001b[1;33m\u001b[0m\u001b[0m\n\u001b[0;32m     43\u001b[0m     \u001b[1;32mreturn\u001b[0m \u001b[0mwraps\u001b[0m\u001b[1;33m(\u001b[0m\u001b[0minit_func\u001b[0m\u001b[1;33m)\u001b[0m\u001b[1;33m(\u001b[0m\u001b[0m_decorator\u001b[0m\u001b[1;33m)\u001b[0m\u001b[1;33m\u001b[0m\u001b[1;33m\u001b[0m\u001b[0m\n",
      "\u001b[1;32m~\\AppData\\Roaming\\Python\\Python37\\site-packages\\nltk\\data.py\u001b[0m in \u001b[0;36m__init__\u001b[1;34m(self, _path)\u001b[0m\n\u001b[0;32m    312\u001b[0m \u001b[1;33m\u001b[0m\u001b[0m\n\u001b[0;32m    313\u001b[0m         \u001b[0m_path\u001b[0m \u001b[1;33m=\u001b[0m \u001b[0mos\u001b[0m\u001b[1;33m.\u001b[0m\u001b[0mpath\u001b[0m\u001b[1;33m.\u001b[0m\u001b[0mabspath\u001b[0m\u001b[1;33m(\u001b[0m\u001b[0m_path\u001b[0m\u001b[1;33m)\u001b[0m\u001b[1;33m\u001b[0m\u001b[1;33m\u001b[0m\u001b[0m\n\u001b[1;32m--> 314\u001b[1;33m         \u001b[1;32mif\u001b[0m \u001b[1;32mnot\u001b[0m \u001b[0mos\u001b[0m\u001b[1;33m.\u001b[0m\u001b[0mpath\u001b[0m\u001b[1;33m.\u001b[0m\u001b[0mexists\u001b[0m\u001b[1;33m(\u001b[0m\u001b[0m_path\u001b[0m\u001b[1;33m)\u001b[0m\u001b[1;33m:\u001b[0m\u001b[1;33m\u001b[0m\u001b[1;33m\u001b[0m\u001b[0m\n\u001b[0m\u001b[0;32m    315\u001b[0m             \u001b[1;32mraise\u001b[0m \u001b[0mIOError\u001b[0m\u001b[1;33m(\u001b[0m\u001b[1;34m\"No such file or directory: %r\"\u001b[0m \u001b[1;33m%\u001b[0m \u001b[0m_path\u001b[0m\u001b[1;33m)\u001b[0m\u001b[1;33m\u001b[0m\u001b[1;33m\u001b[0m\u001b[0m\n\u001b[0;32m    316\u001b[0m         \u001b[0mself\u001b[0m\u001b[1;33m.\u001b[0m\u001b[0m_path\u001b[0m \u001b[1;33m=\u001b[0m \u001b[0m_path\u001b[0m\u001b[1;33m\u001b[0m\u001b[1;33m\u001b[0m\u001b[0m\n",
      "\u001b[1;32m~\\AppData\\Local\\Continuum\\anaconda3\\lib\\genericpath.py\u001b[0m in \u001b[0;36mexists\u001b[1;34m(path)\u001b[0m\n\u001b[0;32m     17\u001b[0m     \u001b[1;34m\"\"\"Test whether a path exists.  Returns False for broken symbolic links\"\"\"\u001b[0m\u001b[1;33m\u001b[0m\u001b[1;33m\u001b[0m\u001b[0m\n\u001b[0;32m     18\u001b[0m     \u001b[1;32mtry\u001b[0m\u001b[1;33m:\u001b[0m\u001b[1;33m\u001b[0m\u001b[1;33m\u001b[0m\u001b[0m\n\u001b[1;32m---> 19\u001b[1;33m         \u001b[0mos\u001b[0m\u001b[1;33m.\u001b[0m\u001b[0mstat\u001b[0m\u001b[1;33m(\u001b[0m\u001b[0mpath\u001b[0m\u001b[1;33m)\u001b[0m\u001b[1;33m\u001b[0m\u001b[1;33m\u001b[0m\u001b[0m\n\u001b[0m\u001b[0;32m     20\u001b[0m     \u001b[1;32mexcept\u001b[0m \u001b[0mOSError\u001b[0m\u001b[1;33m:\u001b[0m\u001b[1;33m\u001b[0m\u001b[1;33m\u001b[0m\u001b[0m\n\u001b[0;32m     21\u001b[0m         \u001b[1;32mreturn\u001b[0m \u001b[1;32mFalse\u001b[0m\u001b[1;33m\u001b[0m\u001b[1;33m\u001b[0m\u001b[0m\n",
      "\u001b[1;31mKeyboardInterrupt\u001b[0m: "
     ]
    }
   ],
   "source": [
    "parseDocument(\"F:\\\\Projects\\\\EMA\\\\Repository\\\\EMA EPI PoC\\\\function_code\\\\data\\\\converted_to_html\\\\H\\\\CAP\\\\en\\\\Adakveo-4874 EN PI.html\", fileNameQrd, fileNameMatchRuleBook, fileNameDocumentTypeNames, medName = \"Aerius\", fsMountName = '/mounted', localEnv= True)"
   ]
  },
  {
   "cell_type": "code",
   "execution_count": null,
   "metadata": {},
   "outputs": [],
   "source": []
  },
  {
   "cell_type": "code",
   "execution_count": null,
   "metadata": {},
   "outputs": [],
   "source": []
  }
 ],
 "metadata": {
  "kernelspec": {
   "display_name": "Python 3",
   "language": "python",
   "name": "python3"
  },
  "language_info": {
   "codemirror_mode": {
    "name": "ipython",
    "version": 3
   },
   "file_extension": ".py",
   "mimetype": "text/x-python",
   "name": "python",
   "nbconvert_exporter": "python",
   "pygments_lexer": "ipython3",
   "version": "3.7.3"
  }
 },
 "nbformat": 4,
 "nbformat_minor": 4
}
