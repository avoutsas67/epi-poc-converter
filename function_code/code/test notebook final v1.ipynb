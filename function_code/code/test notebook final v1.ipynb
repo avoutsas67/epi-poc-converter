{
 "cells": [
  {
   "cell_type": "code",
   "execution_count": 12,
   "metadata": {},
   "outputs": [
    {
     "name": "stdout",
     "output_type": "stream",
     "text": [
      "The autoreload extension is already loaded. To reload it, use:\n",
      "  %reload_ext autoreload\n"
     ]
    }
   ],
   "source": [
    "%load_ext autoreload\n",
    "\n",
    "%autoreload 2"
   ]
  },
  {
   "cell_type": "code",
   "execution_count": 13,
   "metadata": {},
   "outputs": [],
   "source": [
    "fileNameQrd = 'qrd_canonical_model.csv'\n",
    "fileNameMatchRuleBook = 'ruleDict.json'\n",
    "fileNameDocumentTypeNames = 'documentTypeNames.json'\n",
    "\n",
    "fsMountName = '/mounted'"
   ]
  },
  {
   "cell_type": "code",
   "execution_count": 14,
   "metadata": {},
   "outputs": [
    {
     "name": "stderr",
     "output_type": "stream",
     "text": [
      "C:\\Users\\vipsharm\\AppData\\Local\\Continuum\\anaconda3\\lib\\site-packages\\fuzzywuzzy\\fuzz.py:11: UserWarning: Using slow pure-python SequenceMatcher. Install python-Levenshtein to remove this warning\n",
      "  warnings.warn('Using slow pure-python SequenceMatcher. Install python-Levenshtein to remove this warning')\n",
      "[nltk_data] Downloading package stopwords to\n",
      "[nltk_data]     C:\\Users\\vipsharm\\AppData\\Roaming\\nltk_data...\n",
      "[nltk_data]   Package stopwords is already up-to-date!\n"
     ]
    }
   ],
   "source": [
    "import pprint\n",
    "import pandas as pd\n",
    "import uuid\n",
    "import json\n",
    "import os\n",
    "import glob\n",
    "import re\n",
    "import sys\n",
    "from bs4 import NavigableString, BeautifulSoup\n",
    "from collections import defaultdict\n",
    "import random\n",
    "import string\n",
    "\n",
    "from utils.config import config\n",
    "from utils.logger.logger import loggerCreator\n",
    "\n",
    "# ePI Modules\n",
    "from parse.rulebook.rulebook import StyleRulesDictionary\n",
    "\n",
    "from parse.extractor.parser import parserExtractor\n",
    "from match.matchDocument.matchDocument import MatchDocument\n",
    "from documentAnnotation.documentAnnotation import DocumentAnnotation\n",
    "from htmlDocTypePartitioner.partition import DocTypePartitioner\n",
    "from extractContentBetweenHeadings.dataBetweenHeadingsExtractor import DataBetweenHeadingsExtractor\n",
    "from fhirXmlGenerator.fhirXmlGenerator import FhirXmlGenerator\n",
    "from fhirService.fhirService import FhirService\n",
    "from utils.logger.matchLogger import MatchLogger\n",
    "from languageInfo.documentTypeNames.documentTypeNames import DocumentTypeNames\n",
    "\n",
    "\n",
    "class FolderNotFoundError(Exception):\n",
    "    pass\n",
    "\n",
    "\n",
    "def getRandomString(N):\n",
    "    str_ = ''.join(random.choice(string.ascii_uppercase + string.digits\n",
    "                                 + string.ascii_lowercase) for _ in range(N))\n",
    "    return str_\n",
    "\n",
    "\n",
    "def convertHtmlToJson(domain, procedureType, languageCode, fileNameHtml, fileNameQrd, fileNameLog, fsMountName, localEnv):\n",
    "\n",
    "    if localEnv is True:\n",
    "        pathSep = \"\\\\\"\n",
    "        module_path = os.path.join(os.path.abspath(os.path.join('..')), 'data', 'converted_to_html', f'{domain}', f'{procedureType}', f'{languageCode}')\n",
    "    else:\n",
    "        pathSep = \"/\"\n",
    "        module_path = os.path.join(f'{fsMountName}', 'data', 'converted_to_html', f'{domain}', f'{procedureType}', f'{languageCode}')\n",
    "    \n",
    "    # Generate output folder path\n",
    "    output_json_path = module_path.replace('converted_to_html', 'outputJSON')\n",
    "\n",
    "    \"\"\"\n",
    "        Check if input folder exists, else throw exception\n",
    "    \"\"\"\n",
    "    if(os.path.exists(module_path)):\n",
    "        filenames = glob.glob(os.path.join(module_path, fileNameHtml))\n",
    "\n",
    "        # Create language specific folder in outputJSON folder if it doesn't exist\n",
    "        if(not os.path.exists(output_json_path)):\n",
    "            os.mkdir(output_json_path)\n",
    "        logger = MatchLogger(f'Parser_{getRandomString(1)}', fileNameHtml,\n",
    "                             domain, procedureType, languageCode, \"HTML\", fileNameLog)\n",
    "\n",
    "        styleLogger = MatchLogger(\n",
    "            f'Style Dictionary_{getRandomString(1)}', fileNameHtml, domain, procedureType, languageCode, \"HTML\", fileNameLog)\n",
    "\n",
    "        styleRulesObj = StyleRulesDictionary(styleLogger,\n",
    "                                             language=languageCode,\n",
    "                                             fileName=fileNameQrd,\n",
    "                                             domain=domain,\n",
    "                                             procedureType=procedureType,\n",
    "                                             fsMountName=fsMountName,\n",
    "                                             localEnv=localEnv)\n",
    "\n",
    "        parserObj = parserExtractor(config, logger, styleRulesObj.styleRuleDict,\n",
    "                                    styleRulesObj.styleFeatureKeyList,\n",
    "                                    styleRulesObj.qrd_section_headings)\n",
    "\n",
    "        for input_filename in filenames:\n",
    "          # if(input_filename.find('Kalydeco II-86-PI-clean')!=-1):\n",
    "            output_filename = input_filename.replace('converted_to_html', 'outputJSON')\n",
    "            style_filepath =  output_filename.replace('.html','.txt')\n",
    "            style_filepath =  style_filepath.replace('.txtl','.txt')\n",
    "            style_filepath =  style_filepath.replace('.htm','.txt')\n",
    "            print(\"-------------\",style_filepath,\"-----------------\")\n",
    "\n",
    "            output_filename = output_filename.replace('.html', '.json')\n",
    "            output_filename = output_filename.replace('.htm', '.json')\n",
    "            print(input_filename, output_filename)\n",
    "            parserObj.createPIJsonFromHTML(input_filepath=input_filename,\n",
    "                                           output_filepath=output_filename,\n",
    "                                           style_filepath = style_filepath,\n",
    "                                           img_base64_dict=parserObj.convertImgToBase64(input_filename)\n",
    "                                           )\n",
    "            \n",
    "        return output_filename.split(pathSep)[-1], style_filepath\n",
    "    else:\n",
    "        try:    \n",
    "            raise FolderNotFoundError(module_path + \" not found\")\n",
    "        except:  \n",
    "            logger.logFlowCheckpoint(\"Folder For Language Code Not Found In Input File\")\n",
    "            logger.logException(\"Folder For Language Code Not Found In Input File\")\n",
    "        raise FolderNotFoundError(module_path + \" not found\")\n",
    "        return None\n",
    "\n",
    "\n",
    "def splitJson(domain, procedureType, languageCode, fileNameJson, fileNameQrd, fileNameLog, fsMountName, localEnv):\n",
    "\n",
    "    styleLogger = MatchLogger(\n",
    "        f'Style Dictionary_{getRandomString(1)}', fileNameJson, domain, procedureType, languageCode, \"Json\", fileNameLog)\n",
    "\n",
    "    styleRulesObj = StyleRulesDictionary(styleLogger,\n",
    "                                             language=languageCode,\n",
    "                                             fileName=fileNameQrd,\n",
    "                                             domain=domain,\n",
    "                                             procedureType=procedureType,\n",
    "                                             fsMountName=fsMountName,\n",
    "                                             localEnv=localEnv)\n",
    "    if localEnv is True:\n",
    "        path_json = os.path.join(os.path.abspath(os.path.join(\n",
    "                '..')), 'data', 'outputJSON', domain, procedureType, languageCode, fileNameJson)\n",
    "    else:\n",
    "        path_json = os.path.join(f'{fsMountName}', 'data', 'outputJSON', domain,  procedureType, languageCode, fileNameJson)\n",
    "        \n",
    "    partitionLogger = MatchLogger(\n",
    "        f'Partition_{getRandomString(1)}', fileNameJson, domain, procedureType, languageCode, \"Json\", fileNameLog)\n",
    "\n",
    "    partitioner = DocTypePartitioner(partitionLogger, localEnv)\n",
    "\n",
    "    partitionedJsonPaths = partitioner.partitionHtmls(\n",
    "        styleRulesObj.qrd_section_headings, path_json)\n",
    "\n",
    "    return partitionedJsonPaths\n",
    "\n",
    "\n",
    "def extractAndValidateHeadings(domain,\n",
    "                               procedureType,\n",
    "                               languageCode,\n",
    "                               documentNumber,\n",
    "                               fileNameDoc,\n",
    "                               fileNameQrd,\n",
    "                               fileNameMatchRuleBook,\n",
    "                               fileNameDocumentTypeNames,\n",
    "                               fileNameLog,\n",
    "                               stopWordFilterLen=6,\n",
    "                               isPackageLeaflet=False,\n",
    "                               medName=None,\n",
    "                               fsMountName='/mounted',\n",
    "                               localEnv=False):\n",
    "\n",
    "    if documentNumber == 0:\n",
    "        topHeadingsConsidered = 4\n",
    "        bottomHeadingsConsidered = 6\n",
    "    elif documentNumber == 1:\n",
    "        topHeadingsConsidered = 3\n",
    "        bottomHeadingsConsidered = 5\n",
    "    elif documentNumber == 2:\n",
    "        topHeadingsConsidered = 5\n",
    "        bottomHeadingsConsidered = 15\n",
    "    else:\n",
    "        topHeadingsConsidered = 5\n",
    "        bottomHeadingsConsidered = 10\n",
    "\n",
    "    print(f\"Starting Heading Extraction For File :- {fileNameDoc}\")\n",
    "    logger = MatchLogger(f\"Heading Extraction {fileNameDoc}_{getRandomString(1)}\", fileNameDoc, domain, procedureType, languageCode, documentNumber, fileNameLog)\n",
    "    logger.logFlowCheckpoint(\"Starting Heading Extraction\")\n",
    "\n",
    "    stopWordlanguage = DocumentTypeNames(\n",
    "        fileNameDocumentTypeNames=fileNameDocumentTypeNames,\n",
    "        languageCode=languageCode,\n",
    "        domain=domain,\n",
    "        procedureType=procedureType,\n",
    "        documentNumber=documentNumber,\n",
    "        fsMountName=fsMountName,\n",
    "        localEnv=localEnv).extractStopWordLanguage()\n",
    "\n",
    "    matchDocObj = MatchDocument(\n",
    "        logger,\n",
    "        domain,\n",
    "        procedureType,\n",
    "        languageCode,\n",
    "        documentNumber,\n",
    "        fileNameDoc,\n",
    "        fileNameQrd,\n",
    "        fileNameMatchRuleBook,\n",
    "        fileNameDocumentTypeNames,\n",
    "        topHeadingsConsidered,\n",
    "        bottomHeadingsConsidered,\n",
    "        stopWordFilterLen,\n",
    "        stopWordlanguage,\n",
    "        isPackageLeaflet,\n",
    "        medName,\n",
    "        fsMountName,\n",
    "        localEnv)\n",
    "    df, coll = matchDocObj.matchHtmlHeaddingsWithQrd()\n",
    "\n",
    "    return df, coll\n",
    "\n",
    "\n",
    "def parseDocument(htmlDocPath, fileNameQrd, fileNameMatchRuleBook, fileNameDocumentTypeNames, fsMountName = '/mounted', localEnv= False, medName = None):\n",
    "    \n",
    "    if localEnv is True:\n",
    "        pathSep = \"\\\\\"\n",
    "        fileNameLog = os.path.join(os.path.abspath(os.path.join('..')),'data','FinalLog.txt')\n",
    "    else:\n",
    "        pathSep = \"/\"\n",
    "        fileNameLog = os.path.join(f'{fsMountName}','data','FinalLog.txt')\n",
    "    pathComponents = htmlDocPath.split(pathSep)\n",
    "    print(pathComponents)\n",
    "    fileNameHtml = pathComponents[-1]\n",
    "    languageCode =  pathComponents[-2]\n",
    "    procedureType = pathComponents[-3]\n",
    "    domain = pathComponents[-4]\n",
    "\n",
    "    #procedureType = \"CAP\"\n",
    "    print(fileNameHtml,languageCode,procedureType)\n",
    "    \n",
    "    \n",
    "    \n",
    "    flowLogger =  MatchLogger(f\"Flow Logger HTML_{getRandomString(1)}\", fileNameHtml, domain, procedureType, languageCode, \"HTML\", fileNameLog)\n",
    "\n",
    "    flowLogger.logFlowCheckpoint(\"Starting HTML Conversion To Json\")\n",
    "    ###Convert Html to Json\n",
    "    fileNameJson, stylesFilePath = convertHtmlToJson( domain, procedureType, languageCode, fileNameHtml, fileNameQrd, fileNameLog, fsMountName, localEnv)\n",
    "    \n",
    "    print(stylesFilePath)\n",
    "    flowLogger.logFlowCheckpoint(\"Completed HTML Conversion To Json\")\n",
    "\n",
    "    flowLogger.logFlowCheckpoint(\"Starting Json Split\")\n",
    "\n",
    "    ###Split Uber Json to multiple Jsons for each category.\n",
    "    partitionedJsonPaths = splitJson(domain, procedureType, languageCode, fileNameJson, fileNameQrd, fileNameLog, fsMountName, localEnv)\n",
    "    \n",
    "    partitionedJsonPaths = [ path.split(pathSep)[-1] for path in partitionedJsonPaths]\n",
    "    flowLogger.logFlowCheckpoint(str(partitionedJsonPaths))\n",
    "    \n",
    "    flowLogger.logFlowCheckpoint(\"Completed Json Split\")\n",
    "    \n",
    "    flowLogger.logFlowCheckpoint(\"Started Processing Partitioned Jsons\")\n",
    "    \n",
    "    for index, fileNamePartitioned in enumerate(partitionedJsonPaths):\n",
    "        \n",
    "        flowLogger.logFlowCheckpoint(f\"\\n\\n\\n\\n||||||||||||||||||||||||||||||||{str(index)} ||||| {str(fileNamePartitioned)}||||||||||||||||||||||||||||||||\\n\\n\\n\\n\")\n",
    "        \n",
    "        if index == 3:\n",
    "            stopWordFilterLen = 100\n",
    "            isPackageLeaflet = True\n",
    "        else:\n",
    "            stopWordFilterLen = 6\n",
    "            isPackageLeaflet = False\n",
    "            \n",
    "        df, coll = extractAndValidateHeadings(domain,\n",
    "                                    procedureType,\n",
    "                                    languageCode,\n",
    "                                    index,\n",
    "                                    fileNamePartitioned,\n",
    "                                    fileNameQrd,\n",
    "                                    fileNameMatchRuleBook,\n",
    "                                    fileNameDocumentTypeNames,\n",
    "                                    fileNameLog,\n",
    "                                    stopWordFilterLen=stopWordFilterLen,\n",
    "                                    isPackageLeaflet=isPackageLeaflet,\n",
    "                                    medName=medName,\n",
    "                                    fsMountName=fsMountName,\n",
    "                                    localEnv=localEnv)\n",
    "        \n",
    "        \n",
    "        print(f\"Completed Heading Extraction For File\")\n",
    "        flowLogger.logFlowCheckpoint(\"Completed Heading Extraction For File\")\n",
    "        \n",
    "        print(f\"Starting Document Annotation For File :- {fileNamePartitioned}\")        \n",
    "        flowLogger.logFlowCheckpoint(\"Starting Document Annotation For File\")\n",
    "        documentAnnotationObj = DocumentAnnotation(fileNamePartitioned,'c20835db4b1b4e108828a8537ff41506','https://spor-sit.azure-api.net/pms/api/v2/',df,coll)\n",
    "        try:\n",
    "            pms_oms_annotation_data = documentAnnotationObj.processRegulatedAuthorizationForDoc()\n",
    "            print(pms_oms_annotation_data)\n",
    "        except:\n",
    "            pms_oms_annotation_data = None\n",
    "            print(\"Error Found\")\n",
    "            \n",
    "        print(f\"Completed Document Annotation\")        \n",
    "        flowLogger.logFlowCheckpoint(\"Completed Document Annotation\")\n",
    "        \n",
    "        print(f\"Starting Extracting Content Between Heading For File :- {fileNamePartitioned}\")        \n",
    "        flowLogger.logFlowCheckpoint(\"Starting Extracting Content Between Heading\")\n",
    "        \n",
    "        extractContentlogger =  MatchLogger(f'ExtractContentBetween_{index}_{getRandomString(1)}', fileNamePartitioned, domain, procedureType, languageCode, index, fileNameLog)\n",
    "        extractorObj = DataBetweenHeadingsExtractor(extractContentlogger, coll, domain, procedureType, languageCode, fsMountName, localEnv)\n",
    "        dfExtractedHierRR = extractorObj.extractContentBetweenHeadings(fileNamePartitioned)\n",
    "        \n",
    "        print(f\"Completed Extracting Content Between Heading\")        \n",
    "        flowLogger.logFlowCheckpoint(\"Completed Extracting Content Between Heading\")\n",
    "        \n",
    "        xmlLogger =  MatchLogger(f'XmlGeneration_{index}_{getRandomString(1)}', fileNamePartitioned, domain, procedureType, languageCode, index, fileNameLog)\n",
    "        fhirXmlGeneratorObj = FhirXmlGenerator(xmlLogger, pms_oms_annotation_data, stylesFilePath, medName, fsMountName, localEnv)\n",
    "        fileNameXml = fileNamePartitioned.replace('.json','.xml')\n",
    "        generatedXml = fhirXmlGeneratorObj.generateXml(dfExtractedHierRR, fileNameXml)\n",
    "        \n",
    "        fhirServiceLogger =  MatchLogger(f'XML Submission Logger_{index}_{getRandomString(1)}', fileNamePartitioned, domain, procedureType, languageCode, index, fileNameLog)\n",
    "\n",
    "        fhirServiceObj = FhirService(fhirServiceLogger, generatedXml, fsMountName, localEnv)\n",
    "        fhirServiceObj.submitFhirXml()\n",
    "        print(f\"Created XML File For :- {fileNamePartitioned}\")        \n",
    "\n",
    "        #return df,coll,dfExtractedHierRR\n",
    "    \n",
    "    flowLogger.logFlowCheckpoint(\"Completed Processing Partitioned Jsons\")\n"
   ]
  },
  {
   "cell_type": "code",
   "execution_count": 15,
   "metadata": {
    "scrolled": true
   },
   "outputs": [
    {
     "name": "stderr",
     "output_type": "stream",
     "text": [
      "2021-05-12 02:04:57,328 : Flow Logger HTML_Y : Starting HTML Conversion To Json | H | CAP |  en | HTML | Adakveo-4874 EN PI.html\n",
      "2021-05-12 02:04:57,336 : Style Dictionary_A : Reading style dictionary in file: rule_dictionary_en.json | H | CAP |  en | HTML | Adakveo-4874 EN PI.html\n",
      "2021-05-12 02:04:57,383 : Style Dictionary_A : Qrd Section Keys Retrieved For Style Dictionary: ANNEX I, ANNEX II, ANNEX III, B. PACKAGE LEAFLET | H | CAP |  en | HTML | Adakveo-4874 EN PI.html\n"
     ]
    },
    {
     "name": "stdout",
     "output_type": "stream",
     "text": [
      "['F:', 'Projects', 'EMA', 'Repository', 'EMA EPI PoC', 'function_code', 'data', 'converted_to_html', 'H', 'CAP', 'en', 'Adakveo-4874 EN PI.html']\n",
      "Adakveo-4874 EN PI.html en CAP\n",
      "------------- F:\\Projects\\EMA\\Repository\\EMA EPI PoC\\function_code\\data\\outputJSON\\H\\CAP\\en\\Adakveo-4874 EN PI.txt -----------------\n",
      "F:\\Projects\\EMA\\Repository\\EMA EPI PoC\\function_code\\data\\converted_to_html\\H\\CAP\\en\\Adakveo-4874 EN PI.html F:\\Projects\\EMA\\Repository\\EMA EPI PoC\\function_code\\data\\outputJSON\\H\\CAP\\en\\Adakveo-4874 EN PI.json\n"
     ]
    },
    {
     "name": "stderr",
     "output_type": "stream",
     "text": [
      "2021-05-12 02:04:57,839 : Parser_k : Style Information Stored In File: F:\\Projects\\EMA\\Repository\\EMA EPI PoC\\function_code\\data\\outputJSON\\H\\CAP\\en\\Adakveo-4874 EN PI.txt | H | CAP |  en | HTML | Adakveo-4874 EN PI.html\n",
      "2021-05-12 02:04:59,222 : Parser_k : Writing to file: F:\\Projects\\EMA\\Repository\\EMA EPI PoC\\function_code\\data\\outputJSON\\H\\CAP\\en\\Adakveo-4874 EN PI.json | H | CAP |  en | HTML | Adakveo-4874 EN PI.html\n",
      "2021-05-12 02:04:59,324 : Flow Logger HTML_Y : Completed HTML Conversion To Json | H | CAP |  en | HTML | Adakveo-4874 EN PI.html\n",
      "2021-05-12 02:04:59,325 : Flow Logger HTML_Y : Starting Json Split | H | CAP |  en | HTML | Adakveo-4874 EN PI.html\n",
      "2021-05-12 02:04:59,329 : Style Dictionary_M : Reading style dictionary in file: rule_dictionary_en.json | H | CAP |  en | Json | Adakveo-4874 EN PI.json\n",
      "2021-05-12 02:04:59,377 : Style Dictionary_M : Qrd Section Keys Retrieved For Style Dictionary: ANNEX I, ANNEX II, ANNEX III, B. PACKAGE LEAFLET | H | CAP |  en | Json | Adakveo-4874 EN PI.json\n",
      "2021-05-12 02:04:59,382 : Partition_i : Partitioning Json: Adakveo-4874 EN PI.json | H | CAP |  en | Json | Adakveo-4874 EN PI.json\n"
     ]
    },
    {
     "name": "stdout",
     "output_type": "stream",
     "text": [
      "F:\\Projects\\EMA\\Repository\\EMA EPI PoC\\function_code\\data\\outputJSON\\H\\CAP\\en\\Adakveo-4874 EN PI.txt\n"
     ]
    },
    {
     "name": "stderr",
     "output_type": "stream",
     "text": [
      "2021-05-12 02:04:59,696 : Partition_i : Writing partition to file: F:\\Projects\\EMA\\Repository\\EMA EPI PoC\\function_code\\data\\partitionedJSONs\\H\\CAP\\en\\Adakveo-4874 EN PI_SmPC.json | H | CAP |  en | Json | Adakveo-4874 EN PI.json\n",
      "2021-05-12 02:04:59,725 : Partition_i : Writing partition to file: F:\\Projects\\EMA\\Repository\\EMA EPI PoC\\function_code\\data\\partitionedJSONs\\H\\CAP\\en\\Adakveo-4874 EN PI_ANNEX II.json | H | CAP |  en | Json | Adakveo-4874 EN PI.json\n",
      "2021-05-12 02:04:59,753 : Partition_i : Writing partition to file: F:\\Projects\\EMA\\Repository\\EMA EPI PoC\\function_code\\data\\partitionedJSONs\\H\\CAP\\en\\Adakveo-4874 EN PI_ANNEX III.json | H | CAP |  en | Json | Adakveo-4874 EN PI.json\n",
      "2021-05-12 02:04:59,763 : Partition_i : Writing partition to file: F:\\Projects\\EMA\\Repository\\EMA EPI PoC\\function_code\\data\\partitionedJSONs\\H\\CAP\\en\\Adakveo-4874 EN PI_ PACKAGE LEAFLET.json | H | CAP |  en | Json | Adakveo-4874 EN PI.json\n",
      "2021-05-12 02:04:59,773 : Flow Logger HTML_Y : ['Adakveo-4874 EN PI_SmPC.json', 'Adakveo-4874 EN PI_ANNEX II.json', 'Adakveo-4874 EN PI_ANNEX III.json', 'Adakveo-4874 EN PI_ PACKAGE LEAFLET.json'] | H | CAP |  en | HTML | Adakveo-4874 EN PI.html\n",
      "2021-05-12 02:04:59,774 : Flow Logger HTML_Y : Completed Json Split | H | CAP |  en | HTML | Adakveo-4874 EN PI.html\n",
      "2021-05-12 02:04:59,777 : Flow Logger HTML_Y : Started Processing Partitioned Jsons | H | CAP |  en | HTML | Adakveo-4874 EN PI.html\n",
      "2021-05-12 02:04:59,778 : Flow Logger HTML_Y : \n",
      "\n",
      "\n",
      "\n",
      "||||||||||||||||||||||||||||||||0 ||||| Adakveo-4874 EN PI_SmPC.json||||||||||||||||||||||||||||||||\n",
      "\n",
      "\n",
      "\n",
      " | H | CAP |  en | HTML | Adakveo-4874 EN PI.html\n",
      "2021-05-12 02:04:59,784 : Heading Extraction Adakveo-4874 EN PI_SmPC.json_t : Starting Heading Extraction | H | CAP |  en | 0 | Adakveo-4874 EN PI_SmPC.json\n"
     ]
    },
    {
     "name": "stdout",
     "output_type": "stream",
     "text": [
      "Starting Heading Extraction For File :- Adakveo-4874 EN PI_SmPC.json\n",
      "File being processed: F:\\Projects\\EMA\\Repository\\EMA EPI PoC\\function_code\\data\\partitionedJSONs\\H\\CAP\\en\\Adakveo-4874 EN PI_SmPC.json\n",
      "--------------------------------------------\n",
      "documentTypeNames.json en H CAP 0 /mounted True\n",
      "SmPC\n"
     ]
    },
    {
     "name": "stderr",
     "output_type": "stream",
     "text": [
      "2021-05-12 02:05:00,152 : Heading Extraction Adakveo-4874 EN PI_SmPC.json_t : Started Extracting Heading | H | CAP |  en | 0 | Adakveo-4874 EN PI_SmPC.json\n",
      "2021-05-12 02:05:00,333 : Heading Extraction Adakveo-4874 EN PI_SmPC.json_t : Match Passed | H | CAP |  en | 0 | Adakveo-4874 EN PI_SmPC.json | Doc txt :- 'SUMMARY OF PRODUCT CHARACTERISTICS' | Qrd txt :- 'SUMMARY OF PRODUCT CHARACTERISTICS' | Matched :- 'True'\n",
      "2021-05-12 02:05:00,339 : Heading Extraction Adakveo-4874 EN PI_SmPC.json_t : Validation Passed As This The First Heading | H | CAP |  en | 0 | Adakveo-4874 EN PI_SmPC.json | currHeadId :- '20001' | currParentHeadId :- 'nan' | prevParentHeadId :- ''\n"
     ]
    },
    {
     "name": "stdout",
     "output_type": "stream",
     "text": [
      "lowerCaseCheckFuzzyScoreThreshhold 90\n",
      "lowerCaseCheckFuzzyScoreThreshhold 90\n",
      "lowerCaseCheckFuzzyScoreThreshhold 90\n",
      "lowerCaseCheckFuzzyScoreThreshhold 90\n",
      "lowerCaseCheckFuzzyScoreThreshhold 90\n",
      "lowerCaseCheckFuzzyScoreThreshhold 90\n",
      "lowerCaseCheckFuzzyScoreThreshhold 90\n",
      "lowerCaseCheckFuzzyScoreThreshhold 90\n",
      "lowerCaseCheckFuzzyScoreThreshhold 90\n",
      "lowerCaseCheckFuzzyScoreThreshhold 90\n",
      "lowerCaseCheckFuzzyScoreThreshhold 90\n",
      "lowerCaseCheckFuzzyScoreThreshhold 90\n",
      "lowerCaseCheckFuzzyScoreThreshhold 90\n",
      "lowerCaseCheckFuzzyScoreThreshhold 90\n",
      "lowerCaseCheckFuzzyScoreThreshhold 90\n",
      "lowerCaseCheckFuzzyScoreThreshhold 90\n",
      "lowerCaseCheckFuzzyScoreThreshhold 90\n",
      "lowerCaseCheckFuzzyScoreThreshhold 90\n",
      "lowerCaseCheckFuzzyScoreThreshhold 90\n",
      "lowerCaseCheckFuzzyScoreThreshhold 90\n",
      "lowerCaseCheckFuzzyScoreThreshhold 90\n",
      "lowerCaseCheckFuzzyScoreThreshhold 90\n",
      "lowerCaseCheckFuzzyScoreThreshhold 90\n",
      "lowerCaseCheckFuzzyScoreThreshhold 90\n",
      "lowerCaseCheckFuzzyScoreThreshhold 90\n",
      "lowerCaseCheckFuzzyScoreThreshhold 90\n",
      "lowerCaseCheckFuzzyScoreThreshhold 90\n",
      "lowerCaseCheckFuzzyScoreThreshhold 90\n",
      "lowerCaseCheckFuzzyScoreThreshhold 90\n",
      "lowerCaseCheckFuzzyScoreThreshhold 90\n",
      "lowerCaseCheckFuzzyScoreThreshhold 90\n",
      "lowerCaseCheckFuzzyScoreThreshhold 90\n",
      "lowerCaseCheckFuzzyScoreThreshhold 90\n",
      "lowerCaseCheckFuzzyScoreThreshhold 90\n",
      "lowerCaseCheckFuzzyScoreThreshhold 90\n",
      "lowerCaseCheckFuzzyScoreThreshhold 90\n",
      "lowerCaseCheckFuzzyScoreThreshhold 90\n",
      "lowerCaseCheckFuzzyScoreThreshhold 90\n",
      "lowerCaseCheckFuzzyScoreThreshhold 90\n",
      "lowerCaseCheckFuzzyScoreThreshhold 90\n",
      "lowerCaseCheckFuzzyScoreThreshhold 90\n",
      "lowerCaseCheckFuzzyScoreThreshhold 90\n",
      "lowerCaseCheckFuzzyScoreThreshhold 90\n",
      "lowerCaseCheckFuzzyScoreThreshhold 90\n",
      "lowerCaseCheckFuzzyScoreThreshhold 90\n",
      "lowerCaseCheckFuzzyScoreThreshhold 90\n",
      "lowerCaseCheckFuzzyScoreThreshhold 90\n",
      "lowerCaseCheckFuzzyScoreThreshhold 90\n",
      "lowerCaseCheckFuzzyScoreThreshhold 90\n",
      "lowerCaseCheckFuzzyScoreThreshhold 90\n",
      "lowerCaseCheckFuzzyScoreThreshhold 90\n",
      "lowerCaseCheckFuzzyScoreThreshhold 90\n",
      "lowerCaseCheckFuzzyScoreThreshhold 90\n",
      "lowerCaseCheckFuzzyScoreThreshhold 90\n",
      "lowerCaseCheckFuzzyScoreThreshhold 90\n",
      "lowerCaseCheckFuzzyScoreThreshhold 90\n",
      "lowerCaseCheckFuzzyScoreThreshhold 90\n",
      "lowerCaseCheckFuzzyScoreThreshhold 90\n",
      "lowerCaseCheckFuzzyScoreThreshhold 90\n",
      "lowerCaseCheckFuzzyScoreThreshhold 90\n"
     ]
    },
    {
     "name": "stderr",
     "output_type": "stream",
     "text": [
      " adverse reactions.' | Qrd txt :- 'qthis medicinal product is subject to additional monitoring. this will allow quick identification of new safety information. healthcare professionals are asked to report any suspected adverse reactions. see section 4.8 for how to report adverse reactions.' | Matched :- 'True'\n",
      " adverse reactions.' | Qrd txt :- 'qThis medicinal product is subject to additional monitoring. This will allow quick identification of new safety information. Healthcare professionals are asked to report any suspected adverse reactions. See section 4.8 for how to report adverse reactions.' | Matched :- 'True'\n",
      "2021-05-12 02:05:00,484 : Heading Extraction Adakveo-4874 EN PI_SmPC.json_t : Validation Passed | H | CAP |  en | 0 | Adakveo-4874 EN PI_SmPC.json | currHeadId :- '20002' | currParentHeadId :- '20001.0' | prevParentHeadId :- '20001'\n",
      "2021-05-12 02:05:00,503 : Heading Extraction Adakveo-4874 EN PI_SmPC.json_t : Match Passed | H | CAP |  en | 0 | Adakveo-4874 EN PI_SmPC.json | Doc txt :- '1.       NAME OF THE MEDICINAL PRODUCT' | Qrd txt :- '1. NAME OF THE MEDICINAL PRODUCT' | Matched :- 'True'\n",
      "2021-05-12 02:05:00,510 : Heading Extraction Adakveo-4874 EN PI_SmPC.json_t : Validation Passed | H | CAP |  en | 0 | Adakveo-4874 EN PI_SmPC.json | currHeadId :- '20003' | currParentHeadId :- '20001.0' | prevParentHeadId :- '20002'\n"
     ]
    },
    {
     "name": "stdout",
     "output_type": "stream",
     "text": [
      "lowerCaseCheckFuzzyScoreThreshhold 90\n",
      "\n",
      "OriginalCheck\n",
      "\n",
      "\n",
      "lowerCaseCheckFuzzyScoreThreshhold 90\n",
      "lowerCaseCheckFuzzyScoreThreshhold 90\n",
      "lowerCaseCheckFuzzyScoreThreshhold 90\n",
      "lowerCaseCheckFuzzyScoreThreshhold 90\n",
      "lowerCaseCheckFuzzyScoreThreshhold 90\n",
      "lowerCaseCheckFuzzyScoreThreshhold 90\n",
      "lowerCaseCheckFuzzyScoreThreshhold 90\n",
      "lowerCaseCheckFuzzyScoreThreshhold 90\n",
      "lowerCaseCheckFuzzyScoreThreshhold 90\n",
      "lowerCaseCheckFuzzyScoreThreshhold 90\n",
      "lowerCaseCheckFuzzyScoreThreshhold 90\n",
      "lowerCaseCheckFuzzyScoreThreshhold 90\n",
      "lowerCaseCheckFuzzyScoreThreshhold 90\n",
      "lowerCaseCheckFuzzyScoreThreshhold 90\n",
      "lowerCaseCheckFuzzyScoreThreshhold 90\n"
     ]
    },
    {
     "name": "stderr",
     "output_type": "stream",
     "text": [
      " QUANTITATIVE COMPOSITION' | Qrd txt :- '2. QUALITATIVE AND QUANTITATIVE COMPOSITION' | Matched :- 'True'n | 0 | Adakveo-4874 EN PI_SmPC.json | Doc txt :- '2.       QUALITATIVE AND\n",
      "2021-05-12 02:05:00,782 : Heading Extraction Adakveo-4874 EN PI_SmPC.json_t : Validation Passed | H | CAP |  en | 0 | Adakveo-4874 EN PI_SmPC.json | currHeadId :- '20004' | currParentHeadId :- '20001.0' | prevParentHeadId :- '20003'\n"
     ]
    },
    {
     "name": "stdout",
     "output_type": "stream",
     "text": [
      "lowerCaseCheckFuzzyScoreThreshhold 90\n",
      "lowerCaseCheckFuzzyScoreThreshhold 90\n",
      "lowerCaseCheckFuzzyScoreThreshhold 90\n",
      "lowerCaseCheckFuzzyScoreThreshhold 90\n",
      "lowerCaseCheckFuzzyScoreThreshhold 90\n",
      "lowerCaseCheckFuzzyScoreThreshhold 90\n",
      "lowerCaseCheckFuzzyScoreThreshhold 90\n",
      "lowerCaseCheckFuzzyScoreThreshhold 90\n",
      "lowerCaseCheckFuzzyScoreThreshhold 90\n",
      "lowerCaseCheckFuzzyScoreThreshhold 90\n",
      "lowerCaseCheckFuzzyScoreThreshhold 90\n",
      "lowerCaseCheckFuzzyScoreThreshhold 90\n",
      "lowerCaseCheckFuzzyScoreThreshhold 90\n",
      "lowerCaseCheckFuzzyScoreThreshhold 90\n",
      "lowerCaseCheckFuzzyScoreThreshhold 90\n",
      "lowerCaseCheckFuzzyScoreThreshhold 90\n",
      "lowerCaseCheckFuzzyScoreThreshhold 90\n",
      "lowerCaseCheckFuzzyScoreThreshhold 90\n",
      "lowerCaseCheckFuzzyScoreThreshhold 90\n",
      "lowerCaseCheckFuzzyScoreThreshhold 90\n",
      "lowerCaseCheckFuzzyScoreThreshhold 90\n"
     ]
    },
    {
     "name": "stderr",
     "output_type": "stream",
     "text": [
      " concentrate for solution for infusion contains 10 mg crizanlizumab.' | Qrd txt :- '6.5 Nature and contents of container <and special equipment for use administration or implantation>' | Matched :- 'False'\n",
      " concentrate for solution for infusion contains 10 mg crizanlizumab.' | Qrd txt :- '6.6 Special precautions for disposal <and other handling>' | Matched :- 'False' of\n"
     ]
    },
    {
     "name": "stdout",
     "output_type": "stream",
     "text": [
      "lowerCaseCheckFuzzyScoreThreshhold 90\n",
      "lowerCaseCheckFuzzyScoreThreshhold 90\n",
      "lowerCaseCheckFuzzyScoreThreshhold 90\n",
      "lowerCaseCheckFuzzyScoreThreshhold 90\n",
      "lowerCaseCheckFuzzyScoreThreshhold 90\n",
      "lowerCaseCheckFuzzyScoreThreshhold 90\n",
      "lowerCaseCheckFuzzyScoreThreshhold 90\n",
      "lowerCaseCheckFuzzyScoreThreshhold 90\n",
      "lowerCaseCheckFuzzyScoreThreshhold 90\n",
      "lowerCaseCheckFuzzyScoreThreshhold 90\n",
      "lowerCaseCheckFuzzyScoreThreshhold 90\n",
      "lowerCaseCheckFuzzyScoreThreshhold 90\n",
      "lowerCaseCheckFuzzyScoreThreshhold 90\n",
      "lowerCaseCheckFuzzyScoreThreshhold 90\n",
      "lowerCaseCheckFuzzyScoreThreshhold 90\n",
      "lowerCaseCheckFuzzyScoreThreshhold 90\n",
      "lowerCaseCheckFuzzyScoreThreshhold 90\n",
      "lowerCaseCheckFuzzyScoreThreshhold 90\n",
      "lowerCaseCheckFuzzyScoreThreshhold 90\n",
      "lowerCaseCheckFuzzyScoreThreshhold 90\n",
      "lowerCaseCheckFuzzyScoreThreshhold 90\n"
     ]
    },
    {
     "name": "stderr",
     "output_type": "stream",
     "text": [
      "2021-05-12 02:05:01,119 : Heading Extraction Adakveo-4874 EN PI_SmPC.json_t : Match Failed | H | CAP |  en | 0 | Adakveo-4874 EN PI_SmPC.json | Doc txt :- 'One vial of\r",
      " 10 ml contains 100 mg crizanlizumab.' | Qrd txt :- '6.6 Special precautions for disposal <and other handling>' | Matched :- 'False'\n"
     ]
    },
    {
     "name": "stdout",
     "output_type": "stream",
     "text": [
      "lowerCaseCheckFuzzyScoreThreshhold 90\n",
      "lowerCaseCheckFuzzyScoreThreshhold 90\n",
      "lowerCaseCheckFuzzyScoreThreshhold 90\n",
      "lowerCaseCheckFuzzyScoreThreshhold 90\n",
      "lowerCaseCheckFuzzyScoreThreshhold 90\n",
      "lowerCaseCheckFuzzyScoreThreshhold 90\n",
      "lowerCaseCheckFuzzyScoreThreshhold 90\n",
      "lowerCaseCheckFuzzyScoreThreshhold 90\n",
      "lowerCaseCheckFuzzyScoreThreshhold 90\n",
      "lowerCaseCheckFuzzyScoreThreshhold 90\n",
      "lowerCaseCheckFuzzyScoreThreshhold 90\n",
      "lowerCaseCheckFuzzyScoreThreshhold 90\n",
      "lowerCaseCheckFuzzyScoreThreshhold 90\n",
      "lowerCaseCheckFuzzyScoreThreshhold 90\n",
      "lowerCaseCheckFuzzyScoreThreshhold 90\n",
      "lowerCaseCheckFuzzyScoreThreshhold 90\n",
      "lowerCaseCheckFuzzyScoreThreshhold 90\n",
      "lowerCaseCheckFuzzyScoreThreshhold 90\n",
      "lowerCaseCheckFuzzyScoreThreshhold 90\n",
      "lowerCaseCheckFuzzyScoreThreshhold 90\n",
      "lowerCaseCheckFuzzyScoreThreshhold 90\n",
      "lowerCaseCheckFuzzyScoreThreshhold 90\n",
      "lowerCaseCheckFuzzyScoreThreshhold 90\n",
      "lowerCaseCheckFuzzyScoreThreshhold 90\n",
      "lowerCaseCheckFuzzyScoreThreshhold 90\n",
      "lowerCaseCheckFuzzyScoreThreshhold 90\n"
     ]
    },
    {
     "name": "stderr",
     "output_type": "stream",
     "text": [
      "2021-05-12 02:05:01,278 : Heading Extraction Adakveo-4874 EN PI_SmPC.json_t : Match Failed | H | CAP |  en | 0 | Adakveo-4874 EN PI_SmPC.json | Doc txt :- 'Crizanlizumab is\r",
      " a monoclonal antibody produced in Chinese Hamster Ovary (CHO) cells by\r",
      " recombinant DNA technology.' | Qrd txt :- '6.5 Nature and contents of container <and special equipment for use administration or implantation>' | Matched :- 'False'\n"
     ]
    },
    {
     "name": "stdout",
     "output_type": "stream",
     "text": [
      "lowerCaseCheckFuzzyScoreThreshhold 90\n",
      "lowerCaseCheckFuzzyScoreThreshhold 90\n",
      "lowerCaseCheckFuzzyScoreThreshhold 90\n",
      "lowerCaseCheckFuzzyScoreThreshhold 90\n",
      "lowerCaseCheckFuzzyScoreThreshhold 90\n",
      "lowerCaseCheckFuzzyScoreThreshhold 90\n",
      "lowerCaseCheckFuzzyScoreThreshhold 90\n",
      "lowerCaseCheckFuzzyScoreThreshhold 90\n",
      "lowerCaseCheckFuzzyScoreThreshhold 90\n",
      "lowerCaseCheckFuzzyScoreThreshhold 90\n",
      "lowerCaseCheckFuzzyScoreThreshhold 90\n",
      "lowerCaseCheckFuzzyScoreThreshhold 90\n",
      "lowerCaseCheckFuzzyScoreThreshhold 90\n",
      "lowerCaseCheckFuzzyScoreThreshhold 90\n",
      "lowerCaseCheckFuzzyScoreThreshhold 90\n",
      "lowerCaseCheckFuzzyScoreThreshhold 90\n",
      "lowerCaseCheckFuzzyScoreThreshhold 90\n",
      "lowerCaseCheckFuzzyScoreThreshhold 90\n",
      "lowerCaseCheckFuzzyScoreThreshhold 90"
     ]
    },
    {
     "name": "stderr",
     "output_type": "stream",
     "text": [
      "2021-05-12 02:05:01,539 : Heading Extraction Adakveo-4874 EN PI_SmPC.json_t : Match Passed | H | CAP |  en | 0 | Adakveo-4874 EN PI_SmPC.json | Doc txt :- '3.       PHARMACEUTICAL FORM' | Qrd txt :- '3. PHARMACEUTICAL FORM' | Matched :- 'True'\n",
      "2021-05-12 02:05:01,552 : Heading Extraction Adakveo-4874 EN PI_SmPC.json_t : Validation Flow Is Broken | H | CAP |  en | 0 | Adakveo-4874 EN PI_SmPC.json | currHeadId :- '20008' | currParentHeadId :- '20001.0' | prevParentHeadId :- '20004'\n",
      "2021-05-12 02:05:01,558 : Heading Extraction Adakveo-4874 EN PI_SmPC.json_t : Validation Passed | H | CAP |  en | 0 | Adakveo-4874 EN PI_SmPC.json | currHeadId :- '20008' | currParentHeadId :- '20001.0' | prevParentHeadId :- '20004'\n"
     ]
    },
    {
     "name": "stdout",
     "output_type": "stream",
     "text": [
      "\n",
      "lowerCaseCheckFuzzyScoreThreshhold 90\n",
      "lowerCaseCheckFuzzyScoreThreshhold 90\n",
      "lowerCaseCheckFuzzyScoreThreshhold 90\n",
      "lowerCaseCheckFuzzyScoreThreshhold 90\n",
      "lowerCaseCheckFuzzyScoreThreshhold 90\n",
      "lowerCaseCheckFuzzyScoreThreshhold 90\n",
      "lowerCaseCheckFuzzyScoreThreshhold 90\n",
      "lowerCaseCheckFuzzyScoreThreshhold 90\n",
      "lowerCaseCheckFuzzyScoreThreshhold 90\n",
      "lowerCaseCheckFuzzyScoreThreshhold 90\n",
      "lowerCaseCheckFuzzyScoreThreshhold 90\n",
      "lowerCaseCheckFuzzyScoreThreshhold 90\n",
      "lowerCaseCheckFuzzyScoreThreshhold 90\n",
      "lowerCaseCheckFuzzyScoreThreshhold 90\n",
      "lowerCaseCheckFuzzyScoreThreshhold 90\n",
      "lowerCaseCheckFuzzyScoreThreshhold 90\n",
      "lowerCaseCheckFuzzyScoreThreshhold 90\n",
      "lowerCaseCheckFuzzyScoreThreshhold 90\n",
      "lowerCaseCheckFuzzyScoreThreshhold 90\n",
      "lowerCaseCheckFuzzyScoreThreshhold 90\n",
      "lowerCaseCheckFuzzyScoreThreshhold 90\n",
      "lowerCaseCheckFuzzyScoreThreshhold 90\n",
      "lowerCaseCheckFuzzyScoreThreshhold 90\n",
      "lowerCaseCheckFuzzyScoreThreshhold 90\n",
      "lowerCaseCheckFuzzyScoreThreshhold 90\n",
      "lowerCaseCheckFuzzyScoreThreshhold 90\n",
      "lowerCaseCheckFuzzyScoreThreshhold 90\n",
      "lowerCaseCheckFuzzyScoreThreshhold 90\n",
      "lowerCaseCheckFuzzyScoreThreshhold 90\n",
      "lowerCaseCheckFuzzyScoreThreshhold 90\n",
      "lowerCaseCheckFuzzyScoreThreshhold 90\n",
      "lowerCaseCheckFuzzyScoreThreshhold 90\n",
      "lowerCaseCheckFuzzyScoreThreshhold 90\n",
      "lowerCaseCheckFuzzyScoreThreshhold 90\n",
      "lowerCaseCheckFuzzyScoreThreshhold 90\n",
      "lowerCaseCheckFuzzyScoreThreshhold 90\n",
      "lowerCaseCheckFuzzyScoreThreshhold 90\n",
      "lowerCaseCheckFuzzyScoreThreshhold 90\n",
      "lowerCaseCheckFuzzyScoreThreshhold 90\n",
      "lowerCaseCheckFuzzyScoreThreshhold 90\n",
      "lowerCaseCheckFuzzyScoreThreshhold 90\n",
      "lowerCaseCheckFuzzyScoreThreshhold 90\n",
      "lowerCaseCheckFuzzyScoreThreshhold 90\n",
      "lowerCaseCheckFuzzyScoreThreshhold 90\n",
      "lowerCaseCheckFuzzyScoreThreshhold"
     ]
    },
    {
     "name": "stderr",
     "output_type": "stream",
     "text": [
      "2021-05-12 02:05:01,784 : Heading Extraction Adakveo-4874 EN PI_SmPC.json_t : Match Failed | H | CAP |  en | 0 | Adakveo-4874 EN PI_SmPC.json | Doc txt :- 'Concentrate for solution for infusion\r",
      " (sterile concentrate)' | Qrd txt :- '6.5 Nature and contents of container <and special equipment for use administration or implantation>' | Matched :- 'False'\n"
     ]
    },
    {
     "name": "stdout",
     "output_type": "stream",
     "text": [
      " 90\n",
      "lowerCaseCheckFuzzyScoreThreshhold 90\n",
      "lowerCaseCheckFuzzyScoreThreshhold 90\n",
      "lowerCaseCheckFuzzyScoreThreshhold 90\n",
      "lowerCaseCheckFuzzyScoreThreshhold 90\n",
      "lowerCaseCheckFuzzyScoreThreshhold 90\n",
      "lowerCaseCheckFuzzyScoreThreshhold 90\n",
      "lowerCaseCheckFuzzyScoreThreshhold 90\n",
      "lowerCaseCheckFuzzyScoreThreshhold 90\n",
      "lowerCaseCheckFuzzyScoreThreshhold 90\n",
      "lowerCaseCheckFuzzyScoreThreshhold 90\n",
      "lowerCaseCheckFuzzyScoreThreshhold 90\n",
      "lowerCaseCheckFuzzyScoreThreshhold 90\n",
      "lowerCaseCheckFuzzyScoreThreshhold 90\n",
      "lowerCaseCheckFuzzyScoreThreshhold 90\n",
      "lowerCaseCheckFuzzyScoreThreshhold 90\n",
      "lowerCaseCheckFuzzyScoreThreshhold 90\n",
      "lowerCaseCheckFuzzyScoreThreshhold 90\n",
      "lowerCaseCheckFuzzyScoreThreshhold 90\n",
      "lowerCaseCheckFuzzyScoreThreshhold 90\n",
      "lowerCaseCheckFuzzyScoreThreshhold 90"
     ]
    },
    {
     "name": "stderr",
     "output_type": "stream",
     "text": [
      " PARTICULARS' | Qrd txt :- '4. CLINICAL PARTICULARS' | Matched :- 'True'n_t : Match Passed | H | CAP |  en | 0 | Adakveo-4874 EN PI_SmPC.json | Doc txt :- '4.       CLINICAL\n",
      "2021-05-12 02:05:02,188 : Heading Extraction Adakveo-4874 EN PI_SmPC.json_t : Validation Passed | H | CAP |  en | 0 | Adakveo-4874 EN PI_SmPC.json | currHeadId :- '20009' | currParentHeadId :- '20001.0' | prevParentHeadId :- '20008'\n",
      " indications' | Qrd txt :- '4.1 Therapeutic indications' | Matched :- 'True': Match Passed | H | CAP |  en | 0 | Adakveo-4874 EN PI_SmPC.json | Doc txt :- '4.1     Therapeutic\n",
      "2021-05-12 02:05:02,254 : Heading Extraction Adakveo-4874 EN PI_SmPC.json_t : Validation Passed | H | CAP |  en | 0 | Adakveo-4874 EN PI_SmPC.json | currHeadId :- '20010' | currParentHeadId :- '20009.0' | prevParentHeadId :- '20009'\n",
      "2021-05-12 02:05:02,338 : Heading Extraction Adakveo-4874 EN PI_SmPC.json_t : Match Passed | H | CAP |  en | 0 | Adakveo-4874 EN PI_SmPC.json | Doc txt :- '4.2     Posology and method of administration' | Qrd txt :- '4.2 Posology and method of administration' | Matched :- 'True'\n"
     ]
    },
    {
     "name": "stdout",
     "output_type": "stream",
     "text": [
      "\n",
      "lowerCaseCheckFuzzyScoreThreshhold 90\n",
      "lowerCaseCheckFuzzyScoreThreshhold 90\n",
      "lowerCaseCheckFuzzyScoreThreshhold 90\n",
      "lowerCaseCheckFuzzyScoreThreshhold 90\n",
      "lowerCaseCheckFuzzyScoreThreshhold 90\n",
      "lowerCaseCheckFuzzyScoreThreshhold 90\n",
      "lowerCaseCheckFuzzyScoreThreshhold 90\n",
      "lowerCaseCheckFuzzyScoreThreshhold 90\n",
      "lowerCaseCheckFuzzyScoreThreshhold 90\n",
      "lowerCaseCheckFuzzyScoreThreshhold 90\n",
      "lowerCaseCheckFuzzyScoreThreshhold 90\n",
      "lowerCaseCheckFuzzyScoreThreshhold 90\n",
      "lowerCaseCheckFuzzyScoreThreshhold 90\n",
      "lowerCaseCheckFuzzyScoreThreshhold 90\n",
      "lowerCaseCheckFuzzyScoreThreshhold 90\n",
      "lowerCaseCheckFuzzyScoreThreshhold 90\n",
      "lowerCaseCheckFuzzyScoreThreshhold 90\n",
      "lowerCaseCheckFuzzyScoreThreshhold 90\n",
      "lowerCaseCheckFuzzyScoreThreshhold 90\n",
      "lowerCaseCheckFuzzyScoreThreshhold 90\n",
      "lowerCaseCheckFuzzyScoreThreshhold 90\n",
      "lowerCaseCheckFuzzyScoreThreshhold 90\n",
      "lowerCaseCheckFuzzyScoreThreshhold 90\n",
      "lowerCaseCheckFuzzyScoreThreshhold 90\n"
     ]
    },
    {
     "name": "stderr",
     "output_type": "stream",
     "text": [
      "2021-05-12 02:05:02,348 : Heading Extraction Adakveo-4874 EN PI_SmPC.json_t : Validation Passed | H | CAP |  en | 0 | Adakveo-4874 EN PI_SmPC.json | currHeadId :- '20011' | currParentHeadId :- '20009.0' | prevParentHeadId :- '20010'\n",
      " be initiated by physicians experienced in the management of sickle cell disease.' | Qrd txt :- '6.5 Nature and contents of container <and special equipment for use administration or implantation>' | Matched :- 'False'\n",
      " be initiated by physicians experienced in the management of sickle cell disease.' | Qrd txt :- '6.6 Special precautions for disposal <and other handling>' | Matched :- 'False'\n",
      "2021-05-12 02:05:02,521 : Heading Extraction Adakveo-4874 EN PI_SmPC.json_t : Match Passed | H | CAP |  en | 0 | Adakveo-4874 EN PI_SmPC.json | Doc txt :- 'Posology' | Qrd txt :- 'Posology' | Matched :- 'True'\n",
      "2021-05-12 02:05:02,534 : Heading Extraction Adakveo-4874 EN PI_SmPC.json_t : Validation Passed | H | CAP |  en | 0 | Adakveo-4874 EN PI_SmPC.json | currHeadId :- '20012' | currParentHeadId :- '20011.0' | prevParentHeadId :- '20011'\n"
     ]
    },
    {
     "name": "stdout",
     "output_type": "stream",
     "text": [
      "lowerCaseCheckFuzzyScoreThreshhold 90\n",
      "lowerCaseCheckFuzzyScoreThreshhold 90\n",
      "lowerCaseCheckFuzzyScoreThreshhold 90\n",
      "lowerCaseCheckFuzzyScoreThreshhold 90\n",
      "lowerCaseCheckFuzzyScoreThreshhold 90\n",
      "lowerCaseCheckFuzzyScoreThreshhold 90\n",
      "lowerCaseCheckFuzzyScoreThreshhold 90\n",
      "lowerCaseCheckFuzzyScoreThreshhold 90\n",
      "lowerCaseCheckFuzzyScoreThreshhold 90\n",
      "lowerCaseCheckFuzzyScoreThreshhold 90\n",
      "lowerCaseCheckFuzzyScoreThreshhold 90\n",
      "lowerCaseCheckFuzzyScoreThreshhold 90\n",
      "lowerCaseCheckFuzzyScoreThreshhold 90\n",
      "lowerCaseCheckFuzzyScoreThreshhold 90\n",
      "lowerCaseCheckFuzzyScoreThreshhold 90\n",
      "lowerCaseCheckFuzzyScoreThreshhold 90\n",
      "lowerCaseCheckFuzzyScoreThreshhold 90\n",
      "lowerCaseCheckFuzzyScoreThreshhold 90\n",
      "lowerCaseCheckFuzzyScoreThreshhold 90\n"
     ]
    },
    {
     "name": "stderr",
     "output_type": "stream",
     "text": [
      "2021-05-12 02:05:02,715 : Heading Extraction Adakveo-4874 EN PI_SmPC.json_t : Match Failed | H | CAP |  en | 0 | Adakveo-4874 EN PI_SmPC.json | Doc txt :- 'The recommended\r",
      " dose of crizanlizumab is 5 mg/kg administered over a period of\r",
      " 30 minutes by intravenous infusion at week 0, week 2, and every\r",
      " 4 weeks thereafter.' | Qrd txt :- '6.5 Nature and contents of container <and special equipment for use administration or implantation>' | Matched :- 'False'\n"
     ]
    },
    {
     "name": "stdout",
     "output_type": "stream",
     "text": [
      "lowerCaseCheckFuzzyScoreThreshhold 90\n",
      "lowerCaseCheckFuzzyScoreThreshhold 90\n",
      "lowerCaseCheckFuzzyScoreThreshhold 90\n",
      "lowerCaseCheckFuzzyScoreThreshhold 90\n",
      "lowerCaseCheckFuzzyScoreThreshhold 90\n",
      "lowerCaseCheckFuzzyScoreThreshhold 90\n",
      "lowerCaseCheckFuzzyScoreThreshhold 90\n",
      "lowerCaseCheckFuzzyScoreThreshhold 90\n",
      "lowerCaseCheckFuzzyScoreThreshhold 90\n",
      "lowerCaseCheckFuzzyScoreThreshhold 90\n",
      "lowerCaseCheckFuzzyScoreThreshhold 90\n",
      "lowerCaseCheckFuzzyScoreThreshhold 90\n",
      "lowerCaseCheckFuzzyScoreThreshhold 90\n",
      "lowerCaseCheckFuzzyScoreThreshhold 90\n",
      "lowerCaseCheckFuzzyScoreThreshhold 90\n",
      "lowerCaseCheckFuzzyScoreThreshhold 90\n",
      "lowerCaseCheckFuzzyScoreThreshhold 90\n",
      "lowerCaseCheckFuzzyScoreThreshhold 90\n",
      "lowerCaseCheckFuzzyScoreThreshhold 90\n",
      "lowerCaseCheckFuzzyScoreThreshhold 90\n",
      "lowerCaseCheckFuzzyScoreThreshhold 90\n",
      "lowerCaseCheckFuzzyScoreThreshhold 90\n",
      "lowerCaseCheckFuzzyScoreThreshhold 90\n",
      "lowerCaseCheckFuzzyScoreThreshhold 90\n",
      "lowerCaseCheckFuzzyScoreThreshhold 90\n",
      "lowerCaseCheckFuzzyScoreThreshhold 90\n",
      "lowerCaseCheckFuzzyScoreThreshhold 90\n",
      "lowerCaseCheckFuzzyScoreThreshhold 90\n"
     ]
    },
    {
     "name": "stderr",
     "output_type": "stream",
     "text": [
      "2021-05-12 02:05:02,999 : Heading Extraction Adakveo-4874 EN PI_SmPC.json_t : Match Failed | H | CAP |  en | 0 | Adakveo-4874 EN PI_SmPC.json | Doc txt :- 'If a dose is missed, the treatment should be administered as soon as\r",
      " possible.' | Qrd txt :- '6.5 Nature and contents of container <and special equipment for use administration or implantation>' | Matched :- 'False'\n"
     ]
    },
    {
     "name": "stdout",
     "output_type": "stream",
     "text": [
      "lowerCaseCheckFuzzyScoreThreshhold 90\n",
      "lowerCaseCheckFuzzyScoreThreshhold 90\n",
      "lowerCaseCheckFuzzyScoreThreshhold 90\n",
      "lowerCaseCheckFuzzyScoreThreshhold 90\n",
      "lowerCaseCheckFuzzyScoreThreshhold 90\n",
      "lowerCaseCheckFuzzyScoreThreshhold 90\n",
      "lowerCaseCheckFuzzyScoreThreshhold 90\n",
      "lowerCaseCheckFuzzyScoreThreshhold 90\n",
      "lowerCaseCheckFuzzyScoreThreshhold 90\n",
      "lowerCaseCheckFuzzyScoreThreshhold 90\n",
      "lowerCaseCheckFuzzyScoreThreshhold 90\n",
      "lowerCaseCheckFuzzyScoreThreshhold 90\n",
      "lowerCaseCheckFuzzyScoreThreshhold 90\n",
      "lowerCaseCheckFuzzyScoreThreshhold 90\n",
      "lowerCaseCheckFuzzyScoreThreshhold 90\n",
      "lowerCaseCheckFuzzyScoreThreshhold 90\n",
      "lowerCaseCheckFuzzyScoreThreshhold 90\n",
      "lowerCaseCheckFuzzyScoreThreshhold 90\n",
      "lowerCaseCheckFuzzyScoreThreshhold 90\n",
      "lowerCaseCheckFuzzyScoreThreshhold 90\n",
      "lowerCaseCheckFuzzyScoreThreshhold 90\n",
      "lowerCaseCheckFuzzyScoreThreshhold 90\n",
      "lowerCaseCheckFuzzyScoreThreshhold 90\n"
     ]
    },
    {
     "name": "stderr",
     "output_type": "stream",
     "text": [
      "2021-05-12 02:05:03,171 : Heading Extraction Adakveo-4874 EN PI_SmPC.json_t : Match Failed | H | CAP |  en | 0 | Adakveo-4874 EN PI_SmPC.json | Doc txt :- '-If crizanlizumab is administered\r",
      " within 2 weeks after the missed dose, dosing should be continued according\r",
      " to the patient’s original schedule.' | Qrd txt :- '6.5 Nature and contents of container <and special equipment for use administration or implantation>' | Matched :- 'False'\n"
     ]
    },
    {
     "name": "stdout",
     "output_type": "stream",
     "text": [
      "lowerCaseCheckFuzzyScoreThreshhold 90\n",
      "lowerCaseCheckFuzzyScoreThreshhold 90\n",
      "lowerCaseCheckFuzzyScoreThreshhold 90\n",
      "lowerCaseCheckFuzzyScoreThreshhold 90\n",
      "lowerCaseCheckFuzzyScoreThreshhold 90\n",
      "lowerCaseCheckFuzzyScoreThreshhold 90\n",
      "lowerCaseCheckFuzzyScoreThreshhold 90\n",
      "lowerCaseCheckFuzzyScoreThreshhold 90\n",
      "lowerCaseCheckFuzzyScoreThreshhold 90\n"
     ]
    },
    {
     "name": "stderr",
     "output_type": "stream",
     "text": [
      " 4 weeks thereafter.' | Qrd txt :- '6.5 Nature and contents of container <and special equipment for use administration or implantation>' | Matched :- 'False'If crizanlizumab is administered\n",
      "2021-05-12 02:05:03,468 : Heading Extraction Adakveo-4874 EN PI_SmPC.json_t : Match Failed | H | CAP |  en | 0 | Adakveo-4874 EN PI_SmPC.json | Doc txt :- 'Special populations' | Qrd txt :- '6.6 Special precautions for disposal <and other handling>' | Matched :- 'False'\n"
     ]
    },
    {
     "name": "stdout",
     "output_type": "stream",
     "text": [
      "lowerCaseCheckFuzzyScoreThreshhold 90\n",
      "lowerCaseCheckFuzzyScoreThreshhold 90\n",
      "lowerCaseCheckFuzzyScoreThreshhold 90\n",
      "lowerCaseCheckFuzzyScoreThreshhold 90\n",
      "lowerCaseCheckFuzzyScoreThreshhold 90\n",
      "lowerCaseCheckFuzzyScoreThreshhold 90\n",
      "lowerCaseCheckFuzzyScoreThreshhold 90\n",
      "lowerCaseCheckFuzzyScoreThreshhold 90\n",
      "lowerCaseCheckFuzzyScoreThreshhold 90\n",
      "lowerCaseCheckFuzzyScoreThreshhold 90\n",
      "lowerCaseCheckFuzzyScoreThreshhold 90\n",
      "lowerCaseCheckFuzzyScoreThreshhold 90\n",
      "lowerCaseCheckFuzzyScoreThreshhold 90\n",
      "lowerCaseCheckFuzzyScoreThreshhold 90\n",
      "lowerCaseCheckFuzzyScoreThreshhold 90\n",
      "lowerCaseCheckFuzzyScoreThreshhold 90\n",
      "lowerCaseCheckFuzzyScoreThreshhold 90\n",
      "lowerCaseCheckFuzzyScoreThreshhold 90\n",
      "lowerCaseCheckFuzzyScoreThreshhold 90\n",
      "lowerCaseCheckFuzzyScoreThreshhold 90\n",
      "lowerCaseCheckFuzzyScoreThreshhold 90\n",
      "lowerCaseCheckFuzzyScoreThreshhold 90\n",
      "lowerCaseCheckFuzzyScoreThreshhold 90\n",
      "lowerCaseCheckFuzzyScoreThreshhold 90\n",
      "lowerCaseCheckFuzzyScoreThreshhold 90\n",
      "lowerCaseCheckFuzzyScoreThreshhold 90\n",
      "lowerCaseCheckFuzzyScoreThreshhold 90\n",
      "lowerCaseCheckFuzzyScoreThreshhold 90\n",
      "lowerCaseCheckFuzzyScoreThreshhold 90\n",
      "lowerCaseCheckFuzzyScoreThreshhold 90\n",
      "lowerCaseCheckFuzzyScoreThreshhold 90\n",
      "lowerCaseCheckFuzzyScoreThreshhold 90\n",
      "lowerCaseCheckFuzzyScoreThreshhold 90\n",
      "lowerCaseCheckFuzzyScoreThreshhold 90\n",
      "lowerCaseCheckFuzzyScoreThreshhold 90\n",
      "lowerCaseCheckFuzzyScoreThreshhold 90\n",
      "lowerCaseCheckFuzzyScoreThreshhold 90\n",
      "lowerCaseCheckFuzzyScoreThreshhold 90\n",
      "lowerCaseCheckFuzzyScoreThreshhold 90\n",
      "lowerCaseCheckFuzzyScoreThreshhold 90\n",
      "lowerCaseCheckFuzzyScoreThreshhold 90\n",
      "lowerCaseCheckFuzzyScoreThreshhold 90\n",
      "lowerCaseCheckFuzzyScoreThreshhold 90\n",
      "lowerCaseCheckFuzzyScoreThreshhold 90\n",
      "lowerCaseCheckFuzzyScoreThreshhold 90\n",
      "lowerCaseCheckFuzzyScoreThreshhold 90\n",
      "lowerCaseCheckFuzzyScoreThreshhold 90\n",
      "lowerCaseCheckFuzzyScoreThreshhold 90\n",
      "lowerCaseCheckFuzzyScoreThreshhold 90\n",
      "lowerCaseCheckFuzzyScoreThreshhold 90\n",
      "lowerCaseCheckFuzzyScoreThreshhold 90\n",
      "lowerCaseCheckFuzzyScoreThreshhold 90\n",
      "lowerCaseCheckFuzzyScoreThreshhold 90\n",
      "lowerCaseCheckFuzzyScoreThreshhold 90\n",
      "lowerCaseCheckFuzzyScoreThreshhold 90\n",
      "lowerCaseCheckFuzzyScoreThreshhold 90\n",
      "lowerCaseCheckFuzzyScoreThreshhold 90\n",
      "lowerCaseCheckFuzzyScoreThreshhold 90\n",
      "lowerCaseCheckFuzzyScoreThreshhold 90\n",
      "lowerCaseCheckFuzzyScoreThreshhold 90\n",
      "lowerCaseCheckFuzzyScoreThreshhold 90\n",
      "lowerCaseCheckFuzzyScoreThreshhold 90\n",
      "lowerCaseCheckFuzzyScoreThreshhold 90\n",
      "lowerCaseCheckFuzzyScoreThreshhold 90\n",
      "lowerCaseCheckFuzzyScoreThreshhold 90\n",
      "lowerCaseCheckFuzzyScoreThreshhold 90\n",
      "lowerCaseCheckFuzzyScoreThreshhold 90\n",
      "lowerCaseCheckFuzzyScoreThreshhold 90\n",
      "lowerCaseCheckFuzzyScoreThreshhold 90\n",
      "lowerCaseCheckFuzzyScoreThreshhold 90\n",
      "lowerCaseCheckFuzzyScoreThreshhold 90\n",
      "lowerCaseCheckFuzzyScoreThreshhold 90\n",
      "lowerCaseCheckFuzzyScoreThreshhold 90\n",
      "lowerCaseCheckFuzzyScoreThreshhold 90\n",
      "lowerCaseCheckFuzzyScoreThreshhold 90\n",
      "lowerCaseCheckFuzzyScoreThreshhold 90\n",
      "lowerCaseCheckFuzzyScoreThreshhold 90\n",
      "lowerCaseCheckFuzzyScoreThreshhold 90\n",
      "lowerCaseCheckFuzzyScoreThreshhold 90\n",
      "lowerCaseCheckFuzzyScoreThreshhold 90\n",
      "lowerCaseCheckFuzzyScoreThreshhold 90\n",
      "lowerCaseCheckFuzzyScoreThreshhold 90\n",
      "lowerCaseCheckFuzzyScoreThreshhold 90\n",
      "lowerCaseCheckFuzzyScoreThreshhold 90\n",
      "lowerCaseCheckFuzzyScoreThreshhold 90\n",
      "lowerCaseCheckFuzzyScoreThreshhold 90\n",
      "lowerCaseCheckFuzzyScoreThreshhold 90\n",
      "lowerCaseCheckFuzzyScoreThreshhold 90\n",
      "lowerCaseCheckFuzzyScoreThreshhold 90\n",
      "lowerCaseCheckFuzzyScoreThreshhold 90\n",
      "lowerCaseCheckFuzzyScoreThreshhold 90\n",
      "lowerCaseCheckFuzzyScoreThreshhold 90\n",
      "lowerCaseCheckFuzzyScoreThreshhold 90\n",
      "lowerCaseCheckFuzzyScoreThreshhold 90\n",
      "lowerCaseCheckFuzzyScoreThreshhold 90\n",
      "lowerCaseCheckFuzzyScoreThreshhold 90\n",
      "lowerCaseCheckFuzzyScoreThreshhold 90\n",
      "lowerCaseCheckFuzzyScoreThreshhold 90\n",
      "lowerCaseCheckFuzzyScoreThreshhold 90\n",
      "lowerCaseCheckFuzzyScoreThreshhold 90\n",
      "lowerCaseCheckFuzzyScoreThreshhold 90\n",
      "lowerCaseCheckFuzzyScoreThreshhold 90\n",
      "lowerCaseCheckFuzzyScoreThreshhold 90\n",
      "lowerCaseCheckFuzzyScoreThreshhold 90\n",
      "lowerCaseCheckFuzzyScoreThreshhold 90\n",
      "lowerCaseCheckFuzzyScoreThreshhold 90\n",
      "lowerCaseCheckFuzzyScoreThreshhold 90\n",
      "lowerCaseCheckFuzzyScoreThreshhold 90\n",
      "lowerCaseCheckFuzzyScoreThreshhold 90\n",
      "lowerCaseCheckFuzzyScoreThreshhold 90\n",
      "lowerCaseCheckFuzzyScoreThreshhold 90\n",
      "lowerCaseCheckFuzzyScoreThreshhold 90\n",
      "lowerCaseCheckFuzzyScoreThreshhold 90\n",
      "lowerCaseCheckFuzzyScoreThreshhold 90\n",
      "lowerCaseCheckFuzzyScoreThreshhold 90\n",
      "lowerCaseCheckFuzzyScoreThreshhold 90\n",
      "lowerCaseCheckFuzzyScoreThreshhold 90\n",
      "lowerCaseCheckFuzzyScoreThreshhold 90\n"
     ]
    },
    {
     "name": "stderr",
     "output_type": "stream",
     "text": [
      "2021-05-12 02:05:03,757 : Heading Extraction Adakveo-4874 EN PI_SmPC.json_t : Match Failed | H | CAP |  en | 0 | Adakveo-4874 EN PI_SmPC.json | Doc txt :- 'Crizanlizumab\r",
      " has not been studied in elderly patients. No dose adjustment is required as the\r",
      " pharmacokinetics of crizanlizumab in adults are not affected by age.' | Qrd txt :- '6.5 Nature and contents of container <and special equipment for use administration or implantation>' | Matched :- 'False'\n"
     ]
    },
    {
     "name": "stdout",
     "output_type": "stream",
     "text": [
      "lowerCaseCheckFuzzyScoreThreshhold 90\n",
      "lowerCaseCheckFuzzyScoreThreshhold 90\n",
      "lowerCaseCheckFuzzyScoreThreshhold 90\n",
      "lowerCaseCheckFuzzyScoreThreshhold 90\n",
      "lowerCaseCheckFuzzyScoreThreshhold 90\n",
      "lowerCaseCheckFuzzyScoreThreshhold 90\n",
      "lowerCaseCheckFuzzyScoreThreshhold 90\n",
      "lowerCaseCheckFuzzyScoreThreshhold 90\n",
      "lowerCaseCheckFuzzyScoreThreshhold 90\n",
      "lowerCaseCheckFuzzyScoreThreshhold 90\n",
      "lowerCaseCheckFuzzyScoreThreshhold 90\n",
      "lowerCaseCheckFuzzyScoreThreshhold 90\n",
      "lowerCaseCheckFuzzyScoreThreshhold 90\n",
      "lowerCaseCheckFuzzyScoreThreshhold 90\n",
      "lowerCaseCheckFuzzyScoreThreshhold 90\n",
      "lowerCaseCheckFuzzyScoreThreshhold 90\n",
      "lowerCaseCheckFuzzyScoreThreshhold 90\n",
      "lowerCaseCheckFuzzyScoreThreshhold 90\n",
      "lowerCaseCheckFuzzyScoreThreshhold 90\n",
      "lowerCaseCheckFuzzyScoreThreshhold 90\n",
      "lowerCaseCheckFuzzyScoreThreshhold 90\n",
      "lowerCaseCheckFuzzyScoreThreshhold 90\n",
      "lowerCaseCheckFuzzyScoreThreshhold 90\n",
      "lowerCaseCheckFuzzyScoreThreshhold 90\n",
      "lowerCaseCheckFuzzyScoreThreshhold 90\n",
      "lowerCaseCheckFuzzyScoreThreshhold 90\n",
      "lowerCaseCheckFuzzyScoreThreshhold 90\n",
      "lowerCaseCheckFuzzyScoreThreshhold 90\n",
      "lowerCaseCheckFuzzyScoreThreshhold 90\n",
      "lowerCaseCheckFuzzyScoreThreshhold 90\n",
      "lowerCaseCheckFuzzyScoreThreshhold 90\n",
      "lowerCaseCheckFuzzyScoreThreshhold 90\n",
      "lowerCaseCheckFuzzyScoreThreshhold 90\n",
      "lowerCaseCheckFuzzyScoreThreshhold 90\n",
      "lowerCaseCheckFuzzyScoreThreshhold 90\n",
      "lowerCaseCheckFuzzyScoreThreshhold 90\n",
      "lowerCaseCheckFuzzyScoreThreshhold 90\n",
      "lowerCaseCheckFuzzyScoreThreshhold 90\n",
      "lowerCaseCheckFuzzyScoreThreshhold 90\n",
      "lowerCaseCheckFuzzyScoreThreshhold 90\n",
      "lowerCaseCheckFuzzyScoreThreshhold 90\n",
      "lowerCaseCheckFuzzyScoreThreshhold 90\n",
      "lowerCaseCheckFuzzyScoreThreshhold 90\n",
      "lowerCaseCheckFuzzyScoreThreshhold 90\n",
      "lowerCaseCheckFuzzyScoreThreshhold 90\n",
      "lowerCaseCheckFuzzyScoreThreshhold 90\n",
      "lowerCaseCheckFuzzyScoreThreshhold 90\n",
      "lowerCaseCheckFuzzyScoreThreshhold 90\n",
      "lowerCaseCheckFuzzyScoreThreshhold 90\n",
      "lowerCaseCheckFuzzyScoreThreshhold 90\n",
      "lowerCaseCheckFuzzyScoreThreshhold 90\n",
      "lowerCaseCheckFuzzyScoreThreshhold 90\n",
      "lowerCaseCheckFuzzyScoreThreshhold 90\n",
      "lowerCaseCheckFuzzyScoreThreshhold 90\n",
      "lowerCaseCheckFuzzyScoreThreshhold 90\n",
      "lowerCaseCheckFuzzyScoreThreshhold 90\n",
      "lowerCaseCheckFuzzyScoreThreshhold 90\n",
      "lowerCaseCheckFuzzyScoreThreshhold 90\n",
      "lowerCaseCheckFuzzyScoreThreshhold 90\n",
      "lowerCaseCheckFuzzyScoreThreshhold 90\n",
      "lowerCaseCheckFuzzyScoreThreshhold 90\n",
      "lowerCaseCheckFuzzyScoreThreshhold 90\n",
      "lowerCaseCheckFuzzyScoreThreshhold 90\n",
      "lowerCaseCheckFuzzyScoreThreshhold 90\n",
      "lowerCaseCheckFuzzyScoreThreshhold 90\n",
      "lowerCaseCheckFuzzyScoreThreshhold 90\n",
      "lowerCaseCheckFuzzyScoreThreshhold 90\n",
      "lowerCaseCheckFuzzyScoreThreshhold 90\n",
      "lowerCaseCheckFuzzyScoreThreshhold 90\n",
      "lowerCaseCheckFuzzyScoreThreshhold 90\n",
      "lowerCaseCheckFuzzyScoreThreshhold 90\n",
      "lowerCaseCheckFuzzyScoreThreshhold 90\n",
      "lowerCaseCheckFuzzyScoreThreshhold 90\n",
      "lowerCaseCheckFuzzyScoreThreshhold 90\n",
      "lowerCaseCheckFuzzyScoreThreshhold 90\n",
      "lowerCaseCheckFuzzyScoreThreshhold 90\n",
      "lowerCaseCheckFuzzyScoreThreshhold 90\n",
      "lowerCaseCheckFuzzyScoreThreshhold 90\n",
      "lowerCaseCheckFuzzyScoreThreshhold 90\n",
      "lowerCaseCheckFuzzyScoreThreshhold 90\n",
      "lowerCaseCheckFuzzyScoreThreshhold 90\n",
      "lowerCaseCheckFuzzyScoreThreshhold 90\n",
      "lowerCaseCheckFuzzyScoreThreshhold 90\n",
      "lowerCaseCheckFuzzyScoreThreshhold 90\n",
      "lowerCaseCheckFuzzyScoreThreshhold 90\n",
      "lowerCaseCheckFuzzyScoreThreshhold 90\n",
      "lowerCaseCheckFuzzyScoreThreshhold 90\n",
      "lowerCaseCheckFuzzyScoreThreshhold 90\n",
      "lowerCaseCheckFuzzyScoreThreshhold 90\n",
      "lowerCaseCheckFuzzyScoreThreshhold 90\n",
      "lowerCaseCheckFuzzyScoreThreshhold 90\n",
      "lowerCaseCheckFuzzyScoreThreshhold 90\n",
      "lowerCaseCheckFuzzyScoreThreshhold 90\n",
      "lowerCaseCheckFuzzyScoreThreshhold 90\n",
      "lowerCaseCheckFuzzyScoreThreshhold 90\n",
      "lowerCaseCheckFuzzyScoreThreshhold 90\n",
      "lowerCaseCheckFuzzyScoreThreshhold 90\n",
      "lowerCaseCheckFuzzyScoreThreshhold 90\n",
      "lowerCaseCheckFuzzyScoreThreshhold 90\n",
      "lowerCaseCheckFuzzyScoreThreshhold 90\n",
      "lowerCaseCheckFuzzyScoreThreshhold 90\n",
      "lowerCaseCheckFuzzyScoreThreshhold 90\n",
      "lowerCaseCheckFuzzyScoreThreshhold 90\n",
      "lowerCaseCheckFuzzyScoreThreshhold 90\n",
      "lowerCaseCheckFuzzyScoreThreshhold 90\n",
      "lowerCaseCheckFuzzyScoreThreshhold 90\n",
      "lowerCaseCheckFuzzyScoreThreshhold 90\n",
      "lowerCaseCheckFuzzyScoreThreshhold 90\n",
      "lowerCaseCheckFuzzyScoreThreshhold 90\n",
      "lowerCaseCheckFuzzyScoreThreshhold 90\n",
      "lowerCaseCheckFuzzyScoreThreshhold 90\n",
      "lowerCaseCheckFuzzyScoreThreshhold 90\n",
      "lowerCaseCheckFuzzyScoreThreshhold 90\n",
      "lowerCaseCheckFuzzyScoreThreshhold 90\n",
      "lowerCaseCheckFuzzyScoreThreshhold 90\n",
      "lowerCaseCheckFuzzyScoreThreshhold 90\n",
      "lowerCaseCheckFuzzyScoreThreshhold 90\n",
      "lowerCaseCheckFuzzyScoreThreshhold 90\n",
      "lowerCaseCheckFuzzyScoreThreshhold 90\n",
      "lowerCaseCheckFuzzyScoreThreshhold 90\n",
      "lowerCaseCheckFuzzyScoreThreshhold 90\n"
     ]
    },
    {
     "name": "stderr",
     "output_type": "stream",
     "text": [
      "2021-05-12 02:05:04,344 : Heading Extraction Adakveo-4874 EN PI_SmPC.json_t : Match Passed | H | CAP |  en | 0 | Adakveo-4874 EN PI_SmPC.json | Doc txt :- 'Paediatric population' | Qrd txt :- 'Paediatric population' | Matched :- 'True'\n",
      "2021-05-12 02:05:04,356 : Heading Extraction Adakveo-4874 EN PI_SmPC.json_t : Validation Passed | H | CAP |  en | 0 | Adakveo-4874 EN PI_SmPC.json | currHeadId :- '20013' | currParentHeadId :- '20012.0' | prevParentHeadId :- '20011'\n"
     ]
    },
    {
     "name": "stdout",
     "output_type": "stream",
     "text": [
      "lowerCaseCheckFuzzyScoreThreshhold 90\n",
      "lowerCaseCheckFuzzyScoreThreshhold 90\n",
      "lowerCaseCheckFuzzyScoreThreshhold 90\n",
      "lowerCaseCheckFuzzyScoreThreshhold 90\n",
      "lowerCaseCheckFuzzyScoreThreshhold 90\n",
      "lowerCaseCheckFuzzyScoreThreshhold 90\n",
      "lowerCaseCheckFuzzyScoreThreshhold 90\n",
      "lowerCaseCheckFuzzyScoreThreshhold 90\n",
      "lowerCaseCheckFuzzyScoreThreshhold 90\n",
      "lowerCaseCheckFuzzyScoreThreshhold 90\n",
      "lowerCaseCheckFuzzyScoreThreshhold 90\n",
      "lowerCaseCheckFuzzyScoreThreshhold 90\n",
      "lowerCaseCheckFuzzyScoreThreshhold 90\n",
      "lowerCaseCheckFuzzyScoreThreshhold 90\n",
      "lowerCaseCheckFuzzyScoreThreshhold 90\n"
     ]
    },
    {
     "name": "stderr",
     "output_type": "stream",
     "text": [
      " established. No data are available.' | Qrd txt :- '6.5 Nature and contents of container <and special equipment for use administration or implantation>' | Matched :- 'False'\n",
      " indication of prevention of recurrent vaso‑occlusive crises.' | Qrd txt :- '6.5 Nature and contents of container <and special equipment for use administration or implantation>' | Matched :- 'False'\n"
     ]
    },
    {
     "name": "stdout",
     "output_type": "stream",
     "text": [
      "lowerCaseCheckFuzzyScoreThreshhold 90\n",
      "lowerCaseCheckFuzzyScoreThreshhold 90\n",
      "lowerCaseCheckFuzzyScoreThreshhold 90\n",
      "lowerCaseCheckFuzzyScoreThreshhold 90\n",
      "lowerCaseCheckFuzzyScoreThreshhold 90\n",
      "lowerCaseCheckFuzzyScoreThreshhold 90\n",
      "lowerCaseCheckFuzzyScoreThreshhold 90\n",
      "lowerCaseCheckFuzzyScoreThreshhold 90\n",
      "lowerCaseCheckFuzzyScoreThreshhold 90\n",
      "lowerCaseCheckFuzzyScoreThreshhold 90\n",
      "lowerCaseCheckFuzzyScoreThreshhold 90\n",
      "lowerCaseCheckFuzzyScoreThreshhold 90\n",
      "lowerCaseCheckFuzzyScoreThreshhold 90\n"
     ]
    },
    {
     "name": "stderr",
     "output_type": "stream",
     "text": [
      "2021-05-12 02:05:04,705 : Heading Extraction Adakveo-4874 EN PI_SmPC.json_t : Match Passed | H | CAP |  en | 0 | Adakveo-4874 EN PI_SmPC.json | Doc txt :- 'Method of administration' | Qrd txt :- 'Method of administration ' | Matched :- 'True'\n",
      "2021-05-12 02:05:04,721 : Heading Extraction Adakveo-4874 EN PI_SmPC.json_t : Validation Passed | H | CAP |  en | 0 | Adakveo-4874 EN PI_SmPC.json | currHeadId :- '20014' | currParentHeadId :- '20011.0' | prevParentHeadId :- '20011'\n",
      " for injection or dextrose 5% before administration.' | Qrd txt :- '6.5 Nature and contents of container <and special equipment for use administration or implantation>' | Matched :- 'False'dium chloride 9 mg/ml (0.9%) solution\n"
     ]
    },
    {
     "name": "stdout",
     "output_type": "stream",
     "text": [
      "lowerCaseCheckFuzzyScoreThreshhold 90\n",
      "lowerCaseCheckFuzzyScoreThreshhold 90\n",
      "lowerCaseCheckFuzzyScoreThreshhold 90\n",
      "lowerCaseCheckFuzzyScoreThreshhold 90\n",
      "lowerCaseCheckFuzzyScoreThreshhold 90\n",
      "lowerCaseCheckFuzzyScoreThreshhold 90\n",
      "lowerCaseCheckFuzzyScoreThreshhold 90\n",
      "lowerCaseCheckFuzzyScoreThreshhold 90\n",
      "lowerCaseCheckFuzzyScoreThreshhold 90\n",
      "lowerCaseCheckFuzzyScoreThreshhold 90\n"
     ]
    },
    {
     "name": "stderr",
     "output_type": "stream",
     "text": [
      "2021-05-12 02:05:05,045 : Heading Extraction Adakveo-4874 EN PI_SmPC.json_t : Match Failed | H | CAP |  en | 0 | Adakveo-4874 EN PI_SmPC.json | Doc txt :- 'For instructions\r",
      " on dilution of the medicinal product before administration, see section 6.6.' | Qrd txt :- '6.5 Nature and contents of container <and special equipment for use administration or implantation>' | Matched :- 'False'\n"
     ]
    },
    {
     "name": "stdout",
     "output_type": "stream",
     "text": [
      "lowerCaseCheckFuzzyScoreThreshhold 90\n",
      "lowerCaseCheckFuzzyScoreThreshhold 90\n",
      "lowerCaseCheckFuzzyScoreThreshhold 90\n",
      "lowerCaseCheckFuzzyScoreThreshhold 90\n",
      "lowerCaseCheckFuzzyScoreThreshhold 90\n",
      "lowerCaseCheckFuzzyScoreThreshhold 90\n",
      "lowerCaseCheckFuzzyScoreThreshhold 90\n",
      "lowerCaseCheckFuzzyScoreThreshhold 90\n",
      "lowerCaseCheckFuzzyScoreThreshhold 90\n",
      "lowerCaseCheckFuzzyScoreThreshhold 90\n",
      "lowerCaseCheckFuzzyScoreThreshhold 90\n",
      "lowerCaseCheckFuzzyScoreThreshhold 90\n",
      "lowerCaseCheckFuzzyScoreThreshhold 90\n",
      "lowerCaseCheckFuzzyScoreThreshhold 90\n"
     ]
    },
    {
     "name": "stderr",
     "output_type": "stream",
     "text": [
      "2021-05-12 02:05:05,139 : Heading Extraction Adakveo-4874 EN PI_SmPC.json_t : Match Passed | H | CAP |  en | 0 | Adakveo-4874 EN PI_SmPC.json | Doc txt :- '4.3     Contraindications' | Qrd txt :- '4.3 Contraindications' | Matched :- 'True'\n",
      "2021-05-12 02:05:05,146 : Heading Extraction Adakveo-4874 EN PI_SmPC.json_t : Validation Passed | H | CAP |  en | 0 | Adakveo-4874 EN PI_SmPC.json | currHeadId :- '20016' | currParentHeadId :- '20009.0' | prevParentHeadId :- '20011'\n",
      " to the active substance or to any of the excipients listed in section 6.1.' | Qrd txt :- '6.5 Nature and contents of container <and special equipment for use administration or implantation>' | Matched :- 'False'\n"
     ]
    },
    {
     "name": "stdout",
     "output_type": "stream",
     "text": [
      "lowerCaseCheckFuzzyScoreThreshhold 90\n",
      "lowerCaseCheckFuzzyScoreThreshhold 90\n",
      "lowerCaseCheckFuzzyScoreThreshhold 90\n",
      "lowerCaseCheckFuzzyScoreThreshhold 90\n",
      "lowerCaseCheckFuzzyScoreThreshhold 90\n",
      "lowerCaseCheckFuzzyScoreThreshhold 90\n",
      "lowerCaseCheckFuzzyScoreThreshhold 90\n",
      "lowerCaseCheckFuzzyScoreThreshhold 90\n",
      "lowerCaseCheckFuzzyScoreThreshhold 90\n",
      "lowerCaseCheckFuzzyScoreThreshhold 90\n",
      "lowerCaseCheckFuzzyScoreThreshhold 90\n",
      "lowerCaseCheckFuzzyScoreThreshhold 90\n",
      "lowerCaseCheckFuzzyScoreThreshhold 90\n",
      "lowerCaseCheckFuzzyScoreThreshhold 90\n",
      "lowerCaseCheckFuzzyScoreThreshhold 90\n",
      "lowerCaseCheckFuzzyScoreThreshhold 90\n",
      "lowerCaseCheckFuzzyScoreThreshhold 90\n",
      "lowerCaseCheckFuzzyScoreThreshhold 90\n",
      "lowerCaseCheckFuzzyScoreThreshhold 90\n",
      "lowerCaseCheckFuzzyScoreThreshhold 90\n",
      "lowerCaseCheckFuzzyScoreThreshhold 90\n",
      "lowerCaseCheckFuzzyScoreThreshhold 90\n",
      "lowerCaseCheckFuzzyScoreThreshhold 90\n",
      "lowerCaseCheckFuzzyScoreThreshhold 90\n",
      "lowerCaseCheckFuzzyScoreThreshhold 90\n",
      "lowerCaseCheckFuzzyScoreThreshhold 90\n",
      "lowerCaseCheckFuzzyScoreThreshhold 90\n",
      "lowerCaseCheckFuzzyScoreThreshhold 90\n",
      "lowerCaseCheckFuzzyScoreThreshhold 90\n",
      "lowerCaseCheckFuzzyScoreThreshhold 90\n",
      "lowerCaseCheckFuzzyScoreThreshhold 90\n",
      "lowerCaseCheckFuzzyScoreThreshhold 90\n",
      "lowerCaseCheckFuzzyScoreThreshhold 90\n",
      "lowerCaseCheckFuzzyScoreThreshhold 90\n",
      "lowerCaseCheckFuzzyScoreThreshhold 90\n",
      "lowerCaseCheckFuzzyScoreThreshhold 90\n",
      "lowerCaseCheckFuzzyScoreThreshhold 90\n",
      "lowerCaseCheckFuzzyScoreThreshhold 90\n",
      "lowerCaseCheckFuzzyScoreThreshhold 90\n",
      "lowerCaseCheckFuzzyScoreThreshhold 90\n",
      "lowerCaseCheckFuzzyScoreThreshhold 90\n",
      "lowerCaseCheckFuzzyScoreThreshhold 90\n",
      "lowerCaseCheckFuzzyScoreThreshhold 90\n",
      "lowerCaseCheckFuzzyScoreThreshhold 90\n",
      "lowerCaseCheckFuzzyScoreThreshhold 90\n",
      "lowerCaseCheckFuzzyScoreThreshhold 90\n",
      "lowerCaseCheckFuzzyScoreThreshhold 90\n",
      "lowerCaseCheckFuzzyScoreThreshhold 90\n"
     ]
    },
    {
     "name": "stderr",
     "output_type": "stream",
     "text": [
      " precautions for use' | Qrd txt :- '4.4 Special warnings and precautions for use' | Matched :- 'True'|  en | 0 | Adakveo-4874 EN PI_SmPC.json | Doc txt :- '4.4     Special warnings and\n",
      "2021-05-12 02:05:05,561 : Heading Extraction Adakveo-4874 EN PI_SmPC.json_t : Validation Passed | H | CAP |  en | 0 | Adakveo-4874 EN PI_SmPC.json | currHeadId :- '20017' | currParentHeadId :- '20009.0' | prevParentHeadId :- '20016'\n",
      "2021-05-12 02:05:05,619 : Heading Extraction Adakveo-4874 EN PI_SmPC.json_t : Match Passed | H | CAP |  en | 0 | Adakveo-4874 EN PI_SmPC.json | Doc txt :- 'Traceability' | Qrd txt :- 'Traceability' | Matched :- 'True'\n",
      "2021-05-12 02:05:05,630 : Heading Extraction Adakveo-4874 EN PI_SmPC.json_t : Validation Passed | H | CAP |  en | 0 | Adakveo-4874 EN PI_SmPC.json | currHeadId :- '20018' | currParentHeadId :- '20017.0' | prevParentHeadId :- '20017'\n"
     ]
    },
    {
     "name": "stdout",
     "output_type": "stream",
     "text": [
      "lowerCaseCheckFuzzyScoreThreshhold 90\n",
      "lowerCaseCheckFuzzyScoreThreshhold 90\n",
      "lowerCaseCheckFuzzyScoreThreshhold 90\n",
      "lowerCaseCheckFuzzyScoreThreshhold 90\n",
      "lowerCaseCheckFuzzyScoreThreshhold 90\n",
      "lowerCaseCheckFuzzyScoreThreshhold 90\n",
      "lowerCaseCheckFuzzyScoreThreshhold 90\n",
      "lowerCaseCheckFuzzyScoreThreshhold 90\n",
      "lowerCaseCheckFuzzyScoreThreshhold 90\n",
      "lowerCaseCheckFuzzyScoreThreshhold 90\n",
      "lowerCaseCheckFuzzyScoreThreshhold 90\n",
      "lowerCaseCheckFuzzyScoreThreshhold 90\n",
      "lowerCaseCheckFuzzyScoreThreshhold 90\n",
      "lowerCaseCheckFuzzyScoreThreshhold 90\n",
      "lowerCaseCheckFuzzyScoreThreshhold 90\n",
      "lowerCaseCheckFuzzyScoreThreshhold 90\n",
      "lowerCaseCheckFuzzyScoreThreshhold 90\n",
      "lowerCaseCheckFuzzyScoreThreshhold 90\n",
      "lowerCaseCheckFuzzyScoreThreshhold 90\n",
      "lowerCaseCheckFuzzyScoreThreshhold 90\n",
      "lowerCaseCheckFuzzyScoreThreshhold 90\n",
      "lowerCaseCheckFuzzyScoreThreshhold 90\n",
      "lowerCaseCheckFuzzyScoreThreshhold 90\n",
      "lowerCaseCheckFuzzyScoreThreshhold 90\n",
      "lowerCaseCheckFuzzyScoreThreshhold 90\n",
      "lowerCaseCheckFuzzyScoreThreshhold 90\n",
      "lowerCaseCheckFuzzyScoreThreshhold 90\n",
      "lowerCaseCheckFuzzyScoreThreshhold 90\n",
      "lowerCaseCheckFuzzyScoreThreshhold 90\n"
     ]
    },
    {
     "name": "stderr",
     "output_type": "stream",
     "text": [
      "2021-05-12 02:05:05,737 : Heading Extraction Adakveo-4874 EN PI_SmPC.json_t : Match Failed | H | CAP |  en | 0 | Adakveo-4874 EN PI_SmPC.json | Doc txt :- 'In order to\r",
      " improve the traceability of biological medicinal products, the name and the\r",
      " batch number of the administered product should be clearly recorded.' | Qrd txt :- '6.5 Nature and contents of container <and special equipment for use administration or implantation>' | Matched :- 'False'\n"
     ]
    },
    {
     "name": "stdout",
     "output_type": "stream",
     "text": [
      "lowerCaseCheckFuzzyScoreThreshhold 90\n",
      "lowerCaseCheckFuzzyScoreThreshhold 90\n",
      "lowerCaseCheckFuzzyScoreThreshhold 90\n",
      "lowerCaseCheckFuzzyScoreThreshhold 90\n",
      "lowerCaseCheckFuzzyScoreThreshhold 90\n",
      "lowerCaseCheckFuzzyScoreThreshhold 90\n",
      "lowerCaseCheckFuzzyScoreThreshhold 90\n",
      "lowerCaseCheckFuzzyScoreThreshhold 90\n",
      "lowerCaseCheckFuzzyScoreThreshhold 90\n",
      "lowerCaseCheckFuzzyScoreThreshhold 90\n",
      "lowerCaseCheckFuzzyScoreThreshhold 90\n",
      "lowerCaseCheckFuzzyScoreThreshhold 90\n",
      "lowerCaseCheckFuzzyScoreThreshhold 90\n",
      "lowerCaseCheckFuzzyScoreThreshhold 90\n",
      "lowerCaseCheckFuzzyScoreThreshhold 90\n",
      "lowerCaseCheckFuzzyScoreThreshhold 90\n",
      "lowerCaseCheckFuzzyScoreThreshhold 90\n",
      "lowerCaseCheckFuzzyScoreThreshhold 90\n",
      "lowerCaseCheckFuzzyScoreThreshhold 90\n",
      "lowerCaseCheckFuzzyScoreThreshhold 90\n",
      "lowerCaseCheckFuzzyScoreThreshhold 90\n",
      "lowerCaseCheckFuzzyScoreThreshhold 90\n",
      "lowerCaseCheckFuzzyScoreThreshhold 90\n",
      "lowerCaseCheckFuzzyScoreThreshhold 90\n",
      "lowerCaseCheckFuzzyScoreThreshhold 90\n",
      "lowerCaseCheckFuzzyScoreThreshhold 90\n",
      "lowerCaseCheckFuzzyScoreThreshhold 90\n",
      "lowerCaseCheckFuzzyScoreThreshhold 90\n",
      "lowerCaseCheckFuzzyScoreThreshhold 90\n",
      "lowerCaseCheckFuzzyScoreThreshhold 90\n",
      "lowerCaseCheckFuzzyScoreThreshhold 90\n",
      "lowerCaseCheckFuzzyScoreThreshhold 90\n",
      "lowerCaseCheckFuzzyScoreThreshhold 90\n",
      "lowerCaseCheckFuzzyScoreThreshhold 90\n",
      "lowerCaseCheckFuzzyScoreThreshhold 90\n",
      "lowerCaseCheckFuzzyScoreThreshhold 90\n",
      "lowerCaseCheckFuzzyScoreThreshhold 90\n",
      "lowerCaseCheckFuzzyScoreThreshhold 90\n",
      "lowerCaseCheckFuzzyScoreThreshhold 90\n",
      "lowerCaseCheckFuzzyScoreThreshhold 90\n",
      "lowerCaseCheckFuzzyScoreThreshhold 90\n",
      "lowerCaseCheckFuzzyScoreThreshhold 90\n",
      "lowerCaseCheckFuzzyScoreThreshhold 90\n",
      "lowerCaseCheckFuzzyScoreThreshhold 90\n",
      "lowerCaseCheckFuzzyScoreThreshhold 90\n",
      "lowerCaseCheckFuzzyScoreThreshhold 90\n",
      "lowerCaseCheckFuzzyScoreThreshhold 90\n",
      "lowerCaseCheckFuzzyScoreThreshhold 90\n",
      "lowerCaseCheckFuzzyScoreThreshhold 90\n",
      "lowerCaseCheckFuzzyScoreThreshhold 90\n",
      "lowerCaseCheckFuzzyScoreThreshhold 90\n",
      "lowerCaseCheckFuzzyScoreThreshhold 90\n",
      "lowerCaseCheckFuzzyScoreThreshhold 90\n",
      "lowerCaseCheckFuzzyScoreThreshhold 90\n",
      "lowerCaseCheckFuzzyScoreThreshhold 90\n",
      "lowerCaseCheckFuzzyScoreThreshhold 90\n",
      "lowerCaseCheckFuzzyScoreThreshhold 90\n",
      "lowerCaseCheckFuzzyScoreThreshhold 90\n",
      "lowerCaseCheckFuzzyScoreThreshhold 90\n",
      "lowerCaseCheckFuzzyScoreThreshhold 90\n",
      "lowerCaseCheckFuzzyScoreThreshhold 90\n",
      "lowerCaseCheckFuzzyScoreThreshhold"
     ]
    },
    {
     "name": "stderr",
     "output_type": "stream",
     "text": [
      "2021-05-12 02:05:06,229 : Heading Extraction Adakveo-4874 EN PI_SmPC.json_t : Match Failed | H | CAP |  en | 0 | Adakveo-4874 EN PI_SmPC.json | Doc txt :- 'Laboratory test interference: automated platelet counts' | Qrd txt :- '6.5 Nature and contents of container <and special equipment for use administration or implantation>' | Matched :- 'False'\n"
     ]
    },
    {
     "name": "stdout",
     "output_type": "stream",
     "text": [
      " 90\n",
      "lowerCaseCheckFuzzyScoreThreshhold 90\n",
      "lowerCaseCheckFuzzyScoreThreshhold 90\n",
      "lowerCaseCheckFuzzyScoreThreshhold 90\n",
      "lowerCaseCheckFuzzyScoreThreshhold 90\n",
      "lowerCaseCheckFuzzyScoreThreshhold 90\n",
      "lowerCaseCheckFuzzyScoreThreshhold 90\n",
      "lowerCaseCheckFuzzyScoreThreshhold 90\n",
      "lowerCaseCheckFuzzyScoreThreshhold 90\n",
      "lowerCaseCheckFuzzyScoreThreshhold 90\n",
      "lowerCaseCheckFuzzyScoreThreshhold 90\n",
      "lowerCaseCheckFuzzyScoreThreshhold 90\n",
      "lowerCaseCheckFuzzyScoreThreshhold 90\n",
      "lowerCaseCheckFuzzyScoreThreshhold 90\n",
      "lowerCaseCheckFuzzyScoreThreshhold 90\n",
      "lowerCaseCheckFuzzyScoreThreshhold 90\n",
      "lowerCaseCheckFuzzyScoreThreshhold 90\n",
      "lowerCaseCheckFuzzyScoreThreshhold 90\n",
      "lowerCaseCheckFuzzyScoreThreshhold"
     ]
    },
    {
     "name": "stderr",
     "output_type": "stream",
     "text": [
      "2021-05-12 02:05:06,438 : Heading Extraction Adakveo-4874 EN PI_SmPC.json_t : Match Passed | H | CAP |  en | 0 | Adakveo-4874 EN PI_SmPC.json | Doc txt :- 'Excipients with known effect' | Qrd txt :- 'Excipient(s) with known effect' | Matched :- 'True'\n",
      "2021-05-12 02:05:06,449 : Heading Extraction Adakveo-4874 EN PI_SmPC.json_t : Validation Failed As Wrong Heading Found | H | CAP |  en | 0 | Adakveo-4874 EN PI_SmPC.json | currHeadId :- '20007' | currParentHeadId :- '20006.0' | prevParentHeadId :- '20017'\n"
     ]
    },
    {
     "name": "stdout",
     "output_type": "stream",
     "text": [
      " 90\n",
      "lowerCaseCheckFuzzyScoreThreshhold 90\n",
      "lowerCaseCheckFuzzyScoreThreshhold 90\n",
      "lowerCaseCheckFuzzyScoreThreshhold 90\n",
      "lowerCaseCheckFuzzyScoreThreshhold 90\n",
      "lowerCaseCheckFuzzyScoreThreshhold 90\n",
      "lowerCaseCheckFuzzyScoreThreshhold 90\n",
      "lowerCaseCheckFuzzyScoreThreshhold 90\n",
      "lowerCaseCheckFuzzyScoreThreshhold 90\n",
      "lowerCaseCheckFuzzyScoreThreshhold 90\n",
      "lowerCaseCheckFuzzyScoreThreshhold 90\n",
      "lowerCaseCheckFuzzyScoreThreshhold 90\n",
      "lowerCaseCheckFuzzyScoreThreshhold 90\n",
      "lowerCaseCheckFuzzyScoreThreshhold 90\n",
      "lowerCaseCheckFuzzyScoreThreshhold 90\n",
      "lowerCaseCheckFuzzyScoreThreshhold 90\n",
      "lowerCaseCheckFuzzyScoreThreshhold 90\n",
      "lowerCaseCheckFuzzyScoreThreshhold 90\n",
      "lowerCaseCheckFuzzyScoreThreshhold 90\n",
      "lowerCaseCheckFuzzyScoreThreshhold 90\n",
      "lowerCaseCheckFuzzyScoreThreshhold 90\n",
      "lowerCaseCheckFuzzyScoreThreshhold 90\n",
      "lowerCaseCheckFuzzyScoreThreshhold 90\n",
      "lowerCaseCheckFuzzyScoreThreshhold 90\n",
      "lowerCaseCheckFuzzyScoreThreshhold 90\n",
      "lowerCaseCheckFuzzyScoreThreshhold 90\n",
      "lowerCaseCheckFuzzyScoreThreshhold 90\n",
      "lowerCaseCheckFuzzyScoreThreshhold 90\n",
      "lowerCaseCheckFuzzyScoreThreshhold 90\n",
      "lowerCaseCheckFuzzyScoreThreshhold 90\n",
      "lowerCaseCheckFuzzyScoreThreshhold 90\n",
      "lowerCaseCheckFuzzyScoreThreshhold 90\n",
      "lowerCaseCheckFuzzyScoreThreshhold 90\n",
      "lowerCaseCheckFuzzyScoreThreshhold 90\n",
      "lowerCaseCheckFuzzyScoreThreshhold 90\n",
      "lowerCaseCheckFuzzyScoreThreshhold 90\n",
      "lowerCaseCheckFuzzyScoreThreshhold 90\n",
      "lowerCaseCheckFuzzyScoreThreshhold 90\n",
      "lowerCaseCheckFuzzyScoreThreshhold 90\n",
      "lowerCaseCheckFuzzyScoreThreshhold 90\n",
      "lowerCaseCheckFuzzyScoreThreshhold 90\n",
      "lowerCaseCheckFuzzyScoreThreshhold 90\n",
      "lowerCaseCheckFuzzyScoreThreshhold 90\n",
      "lowerCaseCheckFuzzyScoreThreshhold 90\n",
      "lowerCaseCheckFuzzyScoreThreshhold 90\n",
      "lowerCaseCheckFuzzyScoreThreshhold 90\n",
      "lowerCaseCheckFuzzyScoreThreshhold 90\n",
      "lowerCaseCheckFuzzyScoreThreshhold 90\n",
      "lowerCaseCheckFuzzyScoreThreshhold 90\n",
      "lowerCaseCheckFuzzyScoreThreshhold 90\n",
      "lowerCaseCheckFuzzyScoreThreshhold 90\n",
      "lowerCaseCheckFuzzyScoreThreshhold 90\n",
      "lowerCaseCheckFuzzyScoreThreshhold 90\n",
      "lowerCaseCheckFuzzyScoreThreshhold 90\n"
     ]
    },
    {
     "name": "stderr",
     "output_type": "stream",
     "text": [
      " essentially “sodium‑free”.' | Qrd txt :- '6.5 Nature and contents of container <and special equipment for use administration or implantation>' | Matched :- 'False'icine\n",
      " other medicinal products and other forms of interaction' | Qrd txt :- '4.5 Interaction with other medicinal products and other forms of interaction' | Matched :- 'True'action with\n",
      "2021-05-12 02:05:06,841 : Heading Extraction Adakveo-4874 EN PI_SmPC.json_t : Validation Passed | H | CAP |  en | 0 | Adakveo-4874 EN PI_SmPC.json | currHeadId :- '20020' | currParentHeadId :- '20009.0' | prevParentHeadId :- '20017'\n"
     ]
    },
    {
     "name": "stdout",
     "output_type": "stream",
     "text": [
      "lowerCaseCheckFuzzyScoreThreshhold 90\n",
      "lowerCaseCheckFuzzyScoreThreshhold 90\n",
      "lowerCaseCheckFuzzyScoreThreshhold 90\n",
      "lowerCaseCheckFuzzyScoreThreshhold 90\n",
      "lowerCaseCheckFuzzyScoreThreshhold 90\n",
      "lowerCaseCheckFuzzyScoreThreshhold 90\n",
      "lowerCaseCheckFuzzyScoreThreshhold 90\n",
      "lowerCaseCheckFuzzyScoreThreshhold 90\n",
      "lowerCaseCheckFuzzyScoreThreshhold 90\n",
      "lowerCaseCheckFuzzyScoreThreshhold 90\n",
      "lowerCaseCheckFuzzyScoreThreshhold 90\n",
      "lowerCaseCheckFuzzyScoreThreshhold 90\n",
      "lowerCaseCheckFuzzyScoreThreshhold 90\n",
      "lowerCaseCheckFuzzyScoreThreshhold 90\n",
      "lowerCaseCheckFuzzyScoreThreshhold 90\n"
     ]
    },
    {
     "name": "stderr",
     "output_type": "stream",
     "text": [
      " in dedicated studies.' | Qrd txt :- '6.5 Nature and contents of container <and special equipment for use administration or implantation>' | Matched :- 'False'eractions\n",
      " in dedicated studies.' | Qrd txt :- '6.6 Special precautions for disposal <and other handling>' | Matched :- 'False'veo-4874 EN PI_SmPC.json | Doc txt :- 'Interactions\n",
      " metabolic pathways of monoclonal antibodies.' | Qrd txt :- '6.5 Nature and contents of container <and special equipment for use administration or implantation>' | Matched :- 'False'\n"
     ]
    },
    {
     "name": "stdout",
     "output_type": "stream",
     "text": [
      "lowerCaseCheckFuzzyScoreThreshhold 90\n",
      "lowerCaseCheckFuzzyScoreThreshhold 90\n",
      "lowerCaseCheckFuzzyScoreThreshhold 90\n",
      "lowerCaseCheckFuzzyScoreThreshhold 90\n",
      "lowerCaseCheckFuzzyScoreThreshhold 90\n",
      "lowerCaseCheckFuzzyScoreThreshhold 90\n",
      "lowerCaseCheckFuzzyScoreThreshhold 90\n",
      "lowerCaseCheckFuzzyScoreThreshhold 90\n",
      "lowerCaseCheckFuzzyScoreThreshhold 90\n",
      "lowerCaseCheckFuzzyScoreThreshhold 90\n",
      "lowerCaseCheckFuzzyScoreThreshhold 90\n",
      "lowerCaseCheckFuzzyScoreThreshhold 90\n"
     ]
    },
    {
     "name": "stderr",
     "output_type": "stream",
     "text": [
      "2021-05-12 02:05:07,200 : Heading Extraction Adakveo-4874 EN PI_SmPC.json_t : Match Passed | H | CAP |  en | 0 | Adakveo-4874 EN PI_SmPC.json | Doc txt :- '4.6     Fertility, pregnancy and lactation' | Qrd txt :- '4.6 Fertility, pregnancy and lactation' | Matched :- 'True'\n",
      "2021-05-12 02:05:07,208 : Heading Extraction Adakveo-4874 EN PI_SmPC.json_t : Validation Passed | H | CAP |  en | 0 | Adakveo-4874 EN PI_SmPC.json | currHeadId :- '20022' | currParentHeadId :- '20009.0' | prevParentHeadId :- '20020'\n"
     ]
    },
    {
     "name": "stdout",
     "output_type": "stream",
     "text": [
      "lowerCaseCheckFuzzyScoreThreshhold 90\n",
      "lowerCaseCheckFuzzyScoreThreshhold 90\n",
      "lowerCaseCheckFuzzyScoreThreshhold 90\n",
      "lowerCaseCheckFuzzyScoreThreshhold 90\n",
      "lowerCaseCheckFuzzyScoreThreshhold 90\n",
      "lowerCaseCheckFuzzyScoreThreshhold 90\n",
      "lowerCaseCheckFuzzyScoreThreshhold 90\n",
      "lowerCaseCheckFuzzyScoreThreshhold 90\n",
      "lowerCaseCheckFuzzyScoreThreshhold 90\n",
      "lowerCaseCheckFuzzyScoreThreshhold 90\n",
      "lowerCaseCheckFuzzyScoreThreshhold 90\n",
      "lowerCaseCheckFuzzyScoreThreshhold 90\n",
      "lowerCaseCheckFuzzyScoreThreshhold 90\n",
      "lowerCaseCheckFuzzyScoreThreshhold 90\n",
      "lowerCaseCheckFuzzyScoreThreshhold 90\n",
      "lowerCaseCheckFuzzyScoreThreshhold 90\n",
      "lowerCaseCheckFuzzyScoreThreshhold 90\n",
      "lowerCaseCheckFuzzyScoreThreshhold 90\n",
      "lowerCaseCheckFuzzyScoreThreshhold 90\n",
      "lowerCaseCheckFuzzyScoreThreshhold 90\n",
      "lowerCaseCheckFuzzyScoreThreshhold 90\n",
      "lowerCaseCheckFuzzyScoreThreshhold 90\n",
      "lowerCaseCheckFuzzyScoreThreshhold 90\n",
      "lowerCaseCheckFuzzyScoreThreshhold 90\n",
      "lowerCaseCheckFuzzyScoreThreshhold 90\n",
      "lowerCaseCheckFuzzyScoreThreshhold 90\n",
      "lowerCaseCheckFuzzyScoreThreshhold 90\n",
      "lowerCaseCheckFuzzyScoreThreshhold 90\n",
      "lowerCaseCheckFuzzyScoreThreshhold 90\n",
      "lowerCaseCheckFuzzyScoreThreshhold 90\n",
      "lowerCaseCheckFuzzyScoreThreshhold 90\n",
      "lowerCaseCheckFuzzyScoreThreshhold 90\n",
      "lowerCaseCheckFuzzyScoreThreshhold 90\n",
      "lowerCaseCheckFuzzyScoreThreshhold 90\n",
      "lowerCaseCheckFuzzyScoreThreshhold 90\n",
      "lowerCaseCheckFuzzyScoreThreshhold 90\n",
      "lowerCaseCheckFuzzyScoreThreshhold 90\n",
      "lowerCaseCheckFuzzyScoreThreshhold 90\n"
     ]
    },
    {
     "name": "stderr",
     "output_type": "stream",
     "text": [
      "2021-05-12 02:05:07,271 : Heading Extraction Adakveo-4874 EN PI_SmPC.json_t : Match Passed | H | CAP |  en | 0 | Adakveo-4874 EN PI_SmPC.json | Doc txt :- 'Pregnancy' | Qrd txt :- 'Pregnancy' | Matched :- 'True'\n",
      "2021-05-12 02:05:07,282 : Heading Extraction Adakveo-4874 EN PI_SmPC.json_t : Validation Passed | H | CAP |  en | 0 | Adakveo-4874 EN PI_SmPC.json | currHeadId :- '20023' | currParentHeadId :- '20022.0' | prevParentHeadId :- '20022'\n",
      "2021-05-12 02:05:07,378 : Heading Extraction Adakveo-4874 EN PI_SmPC.json_t : Match Passed | H | CAP |  en | 0 | Adakveo-4874 EN PI_SmPC.json | Doc txt :- 'Breast‑feeding' | Qrd txt :- 'Breast-feeding' | Matched :- 'True'\n",
      "2021-05-12 02:05:07,392 : Heading Extraction Adakveo-4874 EN PI_SmPC.json_t : Validation Passed | H | CAP |  en | 0 | Adakveo-4874 EN PI_SmPC.json | currHeadId :- '20024' | currParentHeadId :- '20022.0' | prevParentHeadId :- '20022'\n"
     ]
    },
    {
     "name": "stdout",
     "output_type": "stream",
     "text": [
      "lowerCaseCheckFuzzyScoreThreshhold 90\n",
      "lowerCaseCheckFuzzyScoreThreshhold 90\n",
      "lowerCaseCheckFuzzyScoreThreshhold 90\n",
      "lowerCaseCheckFuzzyScoreThreshhold 90\n",
      "lowerCaseCheckFuzzyScoreThreshhold 90\n",
      "lowerCaseCheckFuzzyScoreThreshhold 90\n",
      "lowerCaseCheckFuzzyScoreThreshhold 90\n",
      "lowerCaseCheckFuzzyScoreThreshhold 90\n",
      "lowerCaseCheckFuzzyScoreThreshhold 90\n",
      "lowerCaseCheckFuzzyScoreThreshhold 90\n",
      "lowerCaseCheckFuzzyScoreThreshhold 90\n",
      "lowerCaseCheckFuzzyScoreThreshhold 90\n",
      "lowerCaseCheckFuzzyScoreThreshhold 90\n",
      "lowerCaseCheckFuzzyScoreThreshhold 90\n",
      "lowerCaseCheckFuzzyScoreThreshhold 90\n",
      "lowerCaseCheckFuzzyScoreThreshhold 90\n",
      "lowerCaseCheckFuzzyScoreThreshhold 90\n",
      "lowerCaseCheckFuzzyScoreThreshhold 90\n",
      "lowerCaseCheckFuzzyScoreThreshhold 90\n",
      "lowerCaseCheckFuzzyScoreThreshhold 90\n",
      "lowerCaseCheckFuzzyScoreThreshhold 90\n",
      "lowerCaseCheckFuzzyScoreThreshhold 90\n",
      "lowerCaseCheckFuzzyScoreThreshhold 90\n",
      "lowerCaseCheckFuzzyScoreThreshhold 90\n",
      "lowerCaseCheckFuzzyScoreThreshhold 90\n",
      "lowerCaseCheckFuzzyScoreThreshhold 90\n",
      "lowerCaseCheckFuzzyScoreThreshhold 90\n",
      "lowerCaseCheckFuzzyScoreThreshhold 90\n",
      "lowerCaseCheckFuzzyScoreThreshhold 90\n",
      "lowerCaseCheckFuzzyScoreThreshhold 90\n",
      "lowerCaseCheckFuzzyScoreThreshhold 90\n",
      "lowerCaseCheckFuzzyScoreThreshhold 90\n",
      "lowerCaseCheckFuzzyScoreThreshhold"
     ]
    },
    {
     "name": "stderr",
     "output_type": "stream",
     "text": [
      "2021-05-12 02:05:07,721 : Heading Extraction Adakveo-4874 EN PI_SmPC.json_t : Match Failed | H | CAP |  en | 0 | Adakveo-4874 EN PI_SmPC.json | Doc txt :- 'Because many\r",
      " medicinal products, including antibodies, can be excreted in human milk, a risk\r",
      " to the newborn/infant cannot be excluded.' | Qrd txt :- '6.5 Nature and contents of container <and special equipment for use administration or implantation>' | Matched :- 'False'\n"
     ]
    },
    {
     "name": "stdout",
     "output_type": "stream",
     "text": [
      " 90\n",
      "lowerCaseCheckFuzzyScoreThreshhold 90\n",
      "lowerCaseCheckFuzzyScoreThreshhold 90\n",
      "lowerCaseCheckFuzzyScoreThreshhold 90\n",
      "lowerCaseCheckFuzzyScoreThreshhold 90\n",
      "lowerCaseCheckFuzzyScoreThreshhold 90\n",
      "lowerCaseCheckFuzzyScoreThreshhold 90\n",
      "lowerCaseCheckFuzzyScoreThreshhold 90\n",
      "lowerCaseCheckFuzzyScoreThreshhold 90\n",
      "lowerCaseCheckFuzzyScoreThreshhold 90\n",
      "lowerCaseCheckFuzzyScoreThreshhold 90\n",
      "lowerCaseCheckFuzzyScoreThreshhold 90\n",
      "lowerCaseCheckFuzzyScoreThreshhold 90\n",
      "lowerCaseCheckFuzzyScoreThreshhold 90\n",
      "lowerCaseCheckFuzzyScoreThreshhold 90\n",
      "lowerCaseCheckFuzzyScoreThreshhold 90\n",
      "lowerCaseCheckFuzzyScoreThreshhold 90\n",
      "lowerCaseCheckFuzzyScoreThreshhold 90\n",
      "lowerCaseCheckFuzzyScoreThreshhold 90\n",
      "lowerCaseCheckFuzzyScoreThreshhold 90"
     ]
    },
    {
     "name": "stderr",
     "output_type": "stream",
     "text": [
      "2021-05-12 02:05:07,940 : Heading Extraction Adakveo-4874 EN PI_SmPC.json_t : Match Passed | H | CAP |  en | 0 | Adakveo-4874 EN PI_SmPC.json | Doc txt :- 'Fertility' | Qrd txt :- 'Fertility' | Matched :- 'True'\n",
      "2021-05-12 02:05:07,964 : Heading Extraction Adakveo-4874 EN PI_SmPC.json_t : Validation Passed | H | CAP |  en | 0 | Adakveo-4874 EN PI_SmPC.json | currHeadId :- '20025' | currParentHeadId :- '20022.0' | prevParentHeadId :- '20022'\n"
     ]
    },
    {
     "name": "stdout",
     "output_type": "stream",
     "text": [
      "\n",
      "lowerCaseCheckFuzzyScoreThreshhold 90\n",
      "lowerCaseCheckFuzzyScoreThreshhold 90\n",
      "lowerCaseCheckFuzzyScoreThreshhold 90\n",
      "lowerCaseCheckFuzzyScoreThreshhold 90\n",
      "lowerCaseCheckFuzzyScoreThreshhold 90\n",
      "lowerCaseCheckFuzzyScoreThreshhold 90\n",
      "lowerCaseCheckFuzzyScoreThreshhold 90\n",
      "lowerCaseCheckFuzzyScoreThreshhold"
     ]
    },
    {
     "name": "stderr",
     "output_type": "stream",
     "text": [
      "2021-05-12 02:05:08,174 : Heading Extraction Adakveo-4874 EN PI_SmPC.json_t : Match Failed | H | CAP |  en | 0 | Adakveo-4874 EN PI_SmPC.json | Doc txt :- 'There are no\r",
      " data on the effect of Adakveo on human fertility. Available non‑clinical\r",
      " data do not suggest an effect on fertility under crizanlizumab treatment (see\r",
      " section 5.3).' | Qrd txt :- '6.5 Nature and contents of container <and special equipment for use administration or implantation>' | Matched :- 'False'\n"
     ]
    },
    {
     "name": "stdout",
     "output_type": "stream",
     "text": [
      " 90\n",
      "lowerCaseCheckFuzzyScoreThreshhold 90\n",
      "lowerCaseCheckFuzzyScoreThreshhold 90\n",
      "lowerCaseCheckFuzzyScoreThreshhold 90\n",
      "lowerCaseCheckFuzzyScoreThreshhold 90\n",
      "lowerCaseCheckFuzzyScoreThreshhold 90\n",
      "lowerCaseCheckFuzzyScoreThreshhold 90\n",
      "lowerCaseCheckFuzzyScoreThreshhold 90\n",
      "lowerCaseCheckFuzzyScoreThreshhold 90\n",
      "lowerCaseCheckFuzzyScoreThreshhold 90\n",
      "lowerCaseCheckFuzzyScoreThreshhold 90\n",
      "lowerCaseCheckFuzzyScoreThreshhold 90\n",
      "lowerCaseCheckFuzzyScoreThreshhold 90\n",
      "lowerCaseCheckFuzzyScoreThreshhold 90\n"
     ]
    },
    {
     "name": "stderr",
     "output_type": "stream",
     "text": [
      " to drive and use machines' | Qrd txt :- '4.7 Effects on ability to drive and use machines' | Matched :- 'True'| Adakveo-4874 EN PI_SmPC.json | Doc txt :- '4.7     Effects on ability\n",
      "2021-05-12 02:05:08,317 : Heading Extraction Adakveo-4874 EN PI_SmPC.json_t : Validation Passed | H | CAP |  en | 0 | Adakveo-4874 EN PI_SmPC.json | currHeadId :- '20026' | currParentHeadId :- '20009.0' | prevParentHeadId :- '20022'\n"
     ]
    },
    {
     "name": "stdout",
     "output_type": "stream",
     "text": [
      "lowerCaseCheckFuzzyScoreThreshhold 90\n",
      "lowerCaseCheckFuzzyScoreThreshhold 90\n",
      "lowerCaseCheckFuzzyScoreThreshhold"
     ]
    },
    {
     "name": "stderr",
     "output_type": "stream",
     "text": [
      "2021-05-12 02:05:08,615 : Heading Extraction Adakveo-4874 EN PI_SmPC.json_t : Match Failed | H | CAP |  en | 0 | Adakveo-4874 EN PI_SmPC.json | Doc txt :- 'Adakveo may have\r",
      " a minor influence on the ability to drive and use machines. Dizziness, fatigue\r",
      " and somnolence may occur following administration of crizanlizumab.' | Qrd txt :- '6.5 Nature and contents of container <and special equipment for use administration or implantation>' | Matched :- 'False'\n"
     ]
    },
    {
     "name": "stdout",
     "output_type": "stream",
     "text": [
      " 90\n",
      "lowerCaseCheckFuzzyScoreThreshhold 90\n",
      "lowerCaseCheckFuzzyScoreThreshhold 90\n",
      "lowerCaseCheckFuzzyScoreThreshhold 90\n",
      "lowerCaseCheckFuzzyScoreThreshhold 90\n",
      "lowerCaseCheckFuzzyScoreThreshhold 90\n",
      "lowerCaseCheckFuzzyScoreThreshhold 90\n",
      "lowerCaseCheckFuzzyScoreThreshhold 90\n",
      "lowerCaseCheckFuzzyScoreThreshhold 90\n",
      "lowerCaseCheckFuzzyScoreThreshhold 90\n",
      "lowerCaseCheckFuzzyScoreThreshhold 90\n",
      "lowerCaseCheckFuzzyScoreThreshhold 90\n",
      "lowerCaseCheckFuzzyScoreThreshhold 90\n",
      "lowerCaseCheckFuzzyScoreThreshhold 90\n",
      "lowerCaseCheckFuzzyScoreThreshhold"
     ]
    },
    {
     "name": "stderr",
     "output_type": "stream",
     "text": [
      "2021-05-12 02:05:08,743 : Heading Extraction Adakveo-4874 EN PI_SmPC.json_t : Match Passed | H | CAP |  en | 0 | Adakveo-4874 EN PI_SmPC.json | Doc txt :- '4.8     Undesirable effects' | Qrd txt :- '4.8 Undesirable effects' | Matched :- 'True'\n",
      "2021-05-12 02:05:08,756 : Heading Extraction Adakveo-4874 EN PI_SmPC.json_t : Validation Passed | H | CAP |  en | 0 | Adakveo-4874 EN PI_SmPC.json | currHeadId :- '20027' | currParentHeadId :- '20009.0' | prevParentHeadId :- '20026'\n"
     ]
    },
    {
     "name": "stdout",
     "output_type": "stream",
     "text": [
      " 90\n",
      "lowerCaseCheckFuzzyScoreThreshhold 90\n",
      "lowerCaseCheckFuzzyScoreThreshhold 90\n",
      "lowerCaseCheckFuzzyScoreThreshhold 90\n",
      "lowerCaseCheckFuzzyScoreThreshhold 90\n",
      "lowerCaseCheckFuzzyScoreThreshhold 90\n",
      "lowerCaseCheckFuzzyScoreThreshhold 90\n",
      "lowerCaseCheckFuzzyScoreThreshhold 90\n",
      "lowerCaseCheckFuzzyScoreThreshhold 90\n",
      "lowerCaseCheckFuzzyScoreThreshhold 90\n",
      "lowerCaseCheckFuzzyScoreThreshhold 90\n",
      "lowerCaseCheckFuzzyScoreThreshhold 90\n",
      "lowerCaseCheckFuzzyScoreThreshhold 90\n",
      "lowerCaseCheckFuzzyScoreThreshhold 90\n",
      "lowerCaseCheckFuzzyScoreThreshhold 90\n",
      "lowerCaseCheckFuzzyScoreThreshhold 90\n",
      "lowerCaseCheckFuzzyScoreThreshhold 90\n",
      "lowerCaseCheckFuzzyScoreThreshhold 90\n",
      "lowerCaseCheckFuzzyScoreThreshhold 90\n",
      "lowerCaseCheckFuzzyScoreThreshhold 90\n",
      "lowerCaseCheckFuzzyScoreThreshhold 90\n",
      "lowerCaseCheckFuzzyScoreThreshhold 90\n",
      "lowerCaseCheckFuzzyScoreThreshhold 90\n",
      "lowerCaseCheckFuzzyScoreThreshhold 90\n",
      "lowerCaseCheckFuzzyScoreThreshhold 90\n",
      "lowerCaseCheckFuzzyScoreThreshhold 90\n",
      "lowerCaseCheckFuzzyScoreThreshhold 90\n",
      "lowerCaseCheckFuzzyScoreThreshhold 90\n",
      "lowerCaseCheckFuzzyScoreThreshhold 90\n",
      "lowerCaseCheckFuzzyScoreThreshhold 90\n",
      "lowerCaseCheckFuzzyScoreThreshhold 90\n",
      "lowerCaseCheckFuzzyScoreThreshhold 90\n",
      "lowerCaseCheckFuzzyScoreThreshhold 90\n",
      "lowerCaseCheckFuzzyScoreThreshhold 90\n",
      "lowerCaseCheckFuzzyScoreThreshhold 90\n",
      "lowerCaseCheckFuzzyScoreThreshhold 90\n",
      "lowerCaseCheckFuzzyScoreThreshhold 90\n",
      "lowerCaseCheckFuzzyScoreThreshhold 90\n",
      "lowerCaseCheckFuzzyScoreThreshhold 90\n",
      "lowerCaseCheckFuzzyScoreThreshhold 90\n",
      "lowerCaseCheckFuzzyScoreThreshhold 90\n",
      "lowerCaseCheckFuzzyScoreThreshhold 90\n",
      "lowerCaseCheckFuzzyScoreThreshhold 90\n",
      "lowerCaseCheckFuzzyScoreThreshhold 90\n",
      "lowerCaseCheckFuzzyScoreThreshhold 90\n",
      "lowerCaseCheckFuzzyScoreThreshhold 90\n",
      "lowerCaseCheckFuzzyScoreThreshhold 90\n",
      "lowerCaseCheckFuzzyScoreThreshhold 90\n",
      "lowerCaseCheckFuzzyScoreThreshhold 90\n",
      "lowerCaseCheckFuzzyScoreThreshhold 90\n",
      "lowerCaseCheckFuzzyScoreThreshhold 90\n",
      "lowerCaseCheckFuzzyScoreThreshhold 90\n",
      "lowerCaseCheckFuzzyScoreThreshhold 90\n",
      "lowerCaseCheckFuzzyScoreThreshhold 90\n",
      "lowerCaseCheckFuzzyScoreThreshhold 90\n",
      "lowerCaseCheckFuzzyScoreThreshhold 90\n",
      "lowerCaseCheckFuzzyScoreThreshhold 90\n",
      "lowerCaseCheckFuzzyScoreThreshhold 90\n",
      "lowerCaseCheckFuzzyScoreThreshhold 90\n",
      "lowerCaseCheckFuzzyScoreThreshhold 90\n",
      "lowerCaseCheckFuzzyScoreThreshhold 90\n",
      "lowerCaseCheckFuzzyScoreThreshhold 90\n",
      "lowerCaseCheckFuzzyScoreThreshhold 90\n",
      "lowerCaseCheckFuzzyScoreThreshhold 90\n",
      "lowerCaseCheckFuzzyScoreThreshhold 90\n",
      "lowerCaseCheckFuzzyScoreThreshhold 90\n",
      "lowerCaseCheckFuzzyScoreThreshhold 90\n",
      "lowerCaseCheckFuzzyScoreThreshhold 90\n",
      "lowerCaseCheckFuzzyScoreThreshhold 90\n",
      "lowerCaseCheckFuzzyScoreThreshhold 90\n",
      "lowerCaseCheckFuzzyScoreThreshhold 90\n",
      "lowerCaseCheckFuzzyScoreThreshhold 90\n",
      "lowerCaseCheckFuzzyScoreThreshhold 90\n",
      "lowerCaseCheckFuzzyScoreThreshhold 90\n",
      "lowerCaseCheckFuzzyScoreThreshhold 90\n",
      "lowerCaseCheckFuzzyScoreThreshhold 90\n",
      "lowerCaseCheckFuzzyScoreThreshhold 90\n",
      "lowerCaseCheckFuzzyScoreThreshhold 90\n",
      "lowerCaseCheckFuzzyScoreThreshhold 90\n",
      "lowerCaseCheckFuzzyScoreThreshhold 90\n",
      "lowerCaseCheckFuzzyScoreThreshhold 90\n",
      "lowerCaseCheckFuzzyScoreThreshhold 90\n",
      "lowerCaseCheckFuzzyScoreThreshhold 90\n",
      "lowerCaseCheckFuzzyScoreThreshhold 90\n",
      "lowerCaseCheckFuzzyScoreThreshhold 90\n"
     ]
    },
    {
     "name": "stderr",
     "output_type": "stream",
     "text": [
      "2021-05-12 02:05:09,354 : Heading Extraction Adakveo-4874 EN PI_SmPC.json_t : Match Failed | H | CAP |  en | 0 | Adakveo-4874 EN PI_SmPC.json | Doc txt :- 'Tabulated list of adverse reactions' | Qrd txt :- '6.6 Special precautions for disposal <and other handling>' | Matched :- 'False'\n"
     ]
    },
    {
     "name": "stdout",
     "output_type": "stream",
     "text": [
      "lowerCaseCheckFuzzyScoreThreshhold 90\n",
      "lowerCaseCheckFuzzyScoreThreshhold 90\n",
      "lowerCaseCheckFuzzyScoreThreshhold 90\n",
      "lowerCaseCheckFuzzyScoreThreshhold 90\n",
      "lowerCaseCheckFuzzyScoreThreshhold 90\n",
      "lowerCaseCheckFuzzyScoreThreshhold 90\n",
      "lowerCaseCheckFuzzyScoreThreshhold 90\n",
      "lowerCaseCheckFuzzyScoreThreshhold 90\n",
      "lowerCaseCheckFuzzyScoreThreshhold 90\n",
      "lowerCaseCheckFuzzyScoreThreshhold 90\n",
      "lowerCaseCheckFuzzyScoreThreshhold 90\n",
      "lowerCaseCheckFuzzyScoreThreshhold 90\n",
      "lowerCaseCheckFuzzyScoreThreshhold 90\n",
      "lowerCaseCheckFuzzyScoreThreshhold 90\n",
      "lowerCaseCheckFuzzyScoreThreshhold 90\n",
      "lowerCaseCheckFuzzyScoreThreshhold 90\n",
      "lowerCaseCheckFuzzyScoreThreshhold 90\n",
      "lowerCaseCheckFuzzyScoreThreshhold 90\n",
      "lowerCaseCheckFuzzyScoreThreshhold 90\n",
      "lowerCaseCheckFuzzyScoreThreshhold 90\n",
      "lowerCaseCheckFuzzyScoreThreshhold 90\n",
      "lowerCaseCheckFuzzyScoreThreshhold 90\n",
      "lowerCaseCheckFuzzyScoreThreshhold 90\n",
      "lowerCaseCheckFuzzyScoreThreshhold 90\n",
      "lowerCaseCheckFuzzyScoreThreshhold 90\n",
      "lowerCaseCheckFuzzyScoreThreshhold 90\n",
      "lowerCaseCheckFuzzyScoreThreshhold 90\n",
      "lowerCaseCheckFuzzyScoreThreshhold 90\n",
      "lowerCaseCheckFuzzyScoreThreshhold 90\n",
      "lowerCaseCheckFuzzyScoreThreshhold 90\n"
     ]
    },
    {
     "name": "stderr",
     "output_type": "stream",
     "text": [
      "2021-05-12 02:05:09,600 : Heading Extraction Adakveo-4874 EN PI_SmPC.json_t : Match Failed | H | CAP |  en | 0 | Adakveo-4874 EN PI_SmPC.json | Doc txt :- 'Table 1       Adverse\r",
      " reactions in clinical studies' | Qrd txt :- '6.6 Special precautions for disposal <and other handling>' | Matched :- 'False'\n"
     ]
    },
    {
     "name": "stdout",
     "output_type": "stream",
     "text": [
      "lowerCaseCheckFuzzyScoreThreshhold 90\n",
      "lowerCaseCheckFuzzyScoreThreshhold 90\n",
      "lowerCaseCheckFuzzyScoreThreshhold 90\n",
      "lowerCaseCheckFuzzyScoreThreshhold 90\n",
      "lowerCaseCheckFuzzyScoreThreshhold 90\n",
      "lowerCaseCheckFuzzyScoreThreshhold 90\n",
      "lowerCaseCheckFuzzyScoreThreshhold 90\n",
      "lowerCaseCheckFuzzyScoreThreshhold 90\n",
      "lowerCaseCheckFuzzyScoreThreshhold 90\n",
      "lowerCaseCheckFuzzyScoreThreshhold 90\n",
      "lowerCaseCheckFuzzyScoreThreshhold 90\n",
      "lowerCaseCheckFuzzyScoreThreshhold 90\n",
      "lowerCaseCheckFuzzyScoreThreshhold 90\n",
      "lowerCaseCheckFuzzyScoreThreshhold 90\n",
      "lowerCaseCheckFuzzyScoreThreshhold 90\n",
      "lowerCaseCheckFuzzyScoreThreshhold 90\n",
      "lowerCaseCheckFuzzyScoreThreshhold 90\n",
      "lowerCaseCheckFuzzyScoreThreshhold 90\n",
      "lowerCaseCheckFuzzyScoreThreshhold 90\n",
      "lowerCaseCheckFuzzyScoreThreshhold 90\n",
      "lowerCaseCheckFuzzyScoreThreshhold 90\n",
      "lowerCaseCheckFuzzyScoreThreshhold 90\n",
      "lowerCaseCheckFuzzyScoreThreshhold 90\n",
      "lowerCaseCheckFuzzyScoreThreshhold 90\n",
      "lowerCaseCheckFuzzyScoreThreshhold 90\n",
      "lowerCaseCheckFuzzyScoreThreshhold 90\n",
      "lowerCaseCheckFuzzyScoreThreshhold 90\n",
      "lowerCaseCheckFuzzyScoreThreshhold 90\n",
      "lowerCaseCheckFuzzyScoreThreshhold 90\n",
      "lowerCaseCheckFuzzyScoreThreshhold 90\n",
      "lowerCaseCheckFuzzyScoreThreshhold 90\n",
      "lowerCaseCheckFuzzyScoreThreshhold 90\n",
      "lowerCaseCheckFuzzyScoreThreshhold 90\n",
      "lowerCaseCheckFuzzyScoreThreshhold 90\n",
      "lowerCaseCheckFuzzyScoreThreshhold 90\n",
      "lowerCaseCheckFuzzyScoreThreshhold 90\n",
      "lowerCaseCheckFuzzyScoreThreshhold 90\n",
      "lowerCaseCheckFuzzyScoreThreshhold 90\n",
      "lowerCaseCheckFuzzyScoreThreshhold 90\n",
      "lowerCaseCheckFuzzyScoreThreshhold 90\n",
      "lowerCaseCheckFuzzyScoreThreshhold 90\n",
      "lowerCaseCheckFuzzyScoreThreshhold 90\n",
      "lowerCaseCheckFuzzyScoreThreshhold 90\n",
      "lowerCaseCheckFuzzyScoreThreshhold 90\n",
      "lowerCaseCheckFuzzyScoreThreshhold 90\n",
      "lowerCaseCheckFuzzyScoreThreshhold 90\n",
      "lowerCaseCheckFuzzyScoreThreshhold 90\n",
      "lowerCaseCheckFuzzyScoreThreshhold 90\n",
      "lowerCaseCheckFuzzyScoreThreshhold 90\n",
      "lowerCaseCheckFuzzyScoreThreshhold 90\n",
      "lowerCaseCheckFuzzyScoreThreshhold 90\n",
      "lowerCaseCheckFuzzyScoreThreshhold 90\n",
      "lowerCaseCheckFuzzyScoreThreshhold 90\n",
      "lowerCaseCheckFuzzyScoreThreshhold 90\n",
      "lowerCaseCheckFuzzyScoreThreshhold 90\n",
      "lowerCaseCheckFuzzyScoreThreshhold 90\n",
      "lowerCaseCheckFuzzyScoreThreshhold 90\n",
      "lowerCaseCheckFuzzyScoreThreshhold 90\n",
      "lowerCaseCheckFuzzyScoreThreshhold 90\n",
      "lowerCaseCheckFuzzyScoreThreshhold 90\n",
      "lowerCaseCheckFuzzyScoreThreshhold 90\n",
      "lowerCaseCheckFuzzyScoreThreshhold 90\n",
      "lowerCaseCheckFuzzyScoreThreshhold 90\n",
      "lowerCaseCheckFuzzyScoreThreshhold"
     ]
    },
    {
     "ename": "KeyboardInterrupt",
     "evalue": "",
     "output_type": "error",
     "traceback": [
      "\u001b[1;31m---------------------------------------------------------------------------\u001b[0m",
      "\u001b[1;31mKeyboardInterrupt\u001b[0m                         Traceback (most recent call last)",
      "\u001b[1;32m<ipython-input-15-f4b71911405a>\u001b[0m in \u001b[0;36m<module>\u001b[1;34m\u001b[0m\n\u001b[1;32m----> 1\u001b[1;33m \u001b[0mparseDocument\u001b[0m\u001b[1;33m(\u001b[0m\u001b[1;34m\"F:\\\\Projects\\\\EMA\\\\Repository\\\\EMA EPI PoC\\\\function_code\\\\data\\\\converted_to_html\\\\H\\\\CAP\\\\en\\\\Adakveo-4874 EN PI.html\"\u001b[0m\u001b[1;33m,\u001b[0m \u001b[0mfileNameQrd\u001b[0m\u001b[1;33m,\u001b[0m \u001b[0mfileNameMatchRuleBook\u001b[0m\u001b[1;33m,\u001b[0m \u001b[0mfileNameDocumentTypeNames\u001b[0m\u001b[1;33m,\u001b[0m \u001b[0mmedName\u001b[0m \u001b[1;33m=\u001b[0m \u001b[1;34m\"Adakveo\"\u001b[0m\u001b[1;33m,\u001b[0m \u001b[0mfsMountName\u001b[0m \u001b[1;33m=\u001b[0m \u001b[1;34m'/mounted'\u001b[0m\u001b[1;33m,\u001b[0m \u001b[0mlocalEnv\u001b[0m\u001b[1;33m=\u001b[0m \u001b[1;32mTrue\u001b[0m\u001b[1;33m)\u001b[0m\u001b[1;33m\u001b[0m\u001b[1;33m\u001b[0m\u001b[0m\n\u001b[0m",
      "\u001b[1;32m<ipython-input-14-504dccf02b3b>\u001b[0m in \u001b[0;36mparseDocument\u001b[1;34m(htmlDocPath, fileNameQrd, fileNameMatchRuleBook, fileNameDocumentTypeNames, fsMountName, localEnv, medName)\u001b[0m\n\u001b[0;32m    264\u001b[0m                                     \u001b[0mmedName\u001b[0m\u001b[1;33m=\u001b[0m\u001b[0mmedName\u001b[0m\u001b[1;33m,\u001b[0m\u001b[1;33m\u001b[0m\u001b[1;33m\u001b[0m\u001b[0m\n\u001b[0;32m    265\u001b[0m                                     \u001b[0mfsMountName\u001b[0m\u001b[1;33m=\u001b[0m\u001b[0mfsMountName\u001b[0m\u001b[1;33m,\u001b[0m\u001b[1;33m\u001b[0m\u001b[1;33m\u001b[0m\u001b[0m\n\u001b[1;32m--> 266\u001b[1;33m                                     localEnv=localEnv)\n\u001b[0m\u001b[0;32m    267\u001b[0m \u001b[1;33m\u001b[0m\u001b[0m\n\u001b[0;32m    268\u001b[0m \u001b[1;33m\u001b[0m\u001b[0m\n",
      "\u001b[1;32m<ipython-input-14-504dccf02b3b>\u001b[0m in \u001b[0;36mextractAndValidateHeadings\u001b[1;34m(domain, procedureType, languageCode, documentNumber, fileNameDoc, fileNameQrd, fileNameMatchRuleBook, fileNameDocumentTypeNames, fileNameLog, stopWordFilterLen, isPackageLeaflet, medName, fsMountName, localEnv)\u001b[0m\n\u001b[0;32m    194\u001b[0m         \u001b[0mfsMountName\u001b[0m\u001b[1;33m,\u001b[0m\u001b[1;33m\u001b[0m\u001b[1;33m\u001b[0m\u001b[0m\n\u001b[0;32m    195\u001b[0m         localEnv)\n\u001b[1;32m--> 196\u001b[1;33m     \u001b[0mdf\u001b[0m\u001b[1;33m,\u001b[0m \u001b[0mcoll\u001b[0m \u001b[1;33m=\u001b[0m \u001b[0mmatchDocObj\u001b[0m\u001b[1;33m.\u001b[0m\u001b[0mmatchHtmlHeaddingsWithQrd\u001b[0m\u001b[1;33m(\u001b[0m\u001b[1;33m)\u001b[0m\u001b[1;33m\u001b[0m\u001b[1;33m\u001b[0m\u001b[0m\n\u001b[0m\u001b[0;32m    197\u001b[0m \u001b[1;33m\u001b[0m\u001b[0m\n\u001b[0;32m    198\u001b[0m     \u001b[1;32mreturn\u001b[0m \u001b[0mdf\u001b[0m\u001b[1;33m,\u001b[0m \u001b[0mcoll\u001b[0m\u001b[1;33m\u001b[0m\u001b[1;33m\u001b[0m\u001b[0m\n",
      "\u001b[1;32mF:\\Projects\\EMA\\Repository\\EMA EPI PoC\\function_code\\code\\match\\matchDocument\\matchDocument.py\u001b[0m in \u001b[0;36mmatchHtmlHeaddingsWithQrd\u001b[1;34m(self)\u001b[0m\n\u001b[0;32m    385\u001b[0m                             \u001b[1;31m# Call matching algorith\u001b[0m\u001b[1;33m\u001b[0m\u001b[1;33m\u001b[0m\u001b[1;33m\u001b[0m\u001b[0m\n\u001b[0;32m    386\u001b[0m                             found, outputString = matchStringObj.matchStrings(\n\u001b[1;32m--> 387\u001b[1;33m                                 str_['Text'], qrd_str, qrd_str_row['heading_id'])\n\u001b[0m\u001b[0;32m    388\u001b[0m \u001b[1;33m\u001b[0m\u001b[0m\n\u001b[0;32m    389\u001b[0m                             \u001b[1;32mif\u001b[0m \u001b[0mfound\u001b[0m\u001b[1;33m:\u001b[0m\u001b[1;33m\u001b[0m\u001b[1;33m\u001b[0m\u001b[0m\n",
      "\u001b[1;32mF:\\Projects\\EMA\\Repository\\EMA EPI PoC\\function_code\\code\\match\\matchStrings\\matchStrings.py\u001b[0m in \u001b[0;36mmatchStrings\u001b[1;34m(self, textOriginal, textToMatch, qrdRowHeadingId, avoidLowerCaseMatch)\u001b[0m\n\u001b[0;32m    285\u001b[0m         \u001b[1;32melse\u001b[0m\u001b[1;33m:\u001b[0m\u001b[1;33m\u001b[0m\u001b[1;33m\u001b[0m\u001b[0m\n\u001b[0;32m    286\u001b[0m             \u001b[0mlowerCaseCheckFuzzyScoreThreshhold\u001b[0m \u001b[1;33m=\u001b[0m \u001b[0mruleDict1\u001b[0m\u001b[1;33m[\u001b[0m\u001b[1;34m'lowerCaseWeightedFuzzyScore'\u001b[0m\u001b[1;33m]\u001b[0m\u001b[1;33m\u001b[0m\u001b[1;33m\u001b[0m\u001b[0m\n\u001b[1;32m--> 287\u001b[1;33m             \u001b[0mprint\u001b[0m\u001b[1;33m(\u001b[0m\u001b[1;34m\"lowerCaseCheckFuzzyScoreThreshhold\"\u001b[0m\u001b[1;33m,\u001b[0m\u001b[0mlowerCaseCheckFuzzyScoreThreshhold\u001b[0m\u001b[1;33m)\u001b[0m\u001b[1;33m\u001b[0m\u001b[1;33m\u001b[0m\u001b[0m\n\u001b[0m\u001b[0;32m    288\u001b[0m             \u001b[1;32mif\u001b[0m \u001b[1;33m(\u001b[0m\u001b[0mfuzzyScoreOutput\u001b[0m\u001b[1;33m[\u001b[0m\u001b[1;36m2\u001b[0m\u001b[1;33m]\u001b[0m \u001b[1;33m>\u001b[0m \u001b[0mlowerCaseCheckFuzzyScoreThreshhold\u001b[0m\u001b[1;33m)\u001b[0m \u001b[1;32mand\u001b[0m \u001b[1;33m(\u001b[0m\u001b[0mavoidLowerCaseMatch\u001b[0m \u001b[1;33m==\u001b[0m \u001b[1;32mFalse\u001b[0m\u001b[1;33m)\u001b[0m\u001b[1;33m:\u001b[0m\u001b[1;33m\u001b[0m\u001b[1;33m\u001b[0m\u001b[0m\n\u001b[0;32m    289\u001b[0m \u001b[1;33m\u001b[0m\u001b[0m\n",
      "\u001b[1;32m~\\AppData\\Local\\Continuum\\anaconda3\\lib\\site-packages\\ipykernel\\iostream.py\u001b[0m in \u001b[0;36mwrite\u001b[1;34m(self, string)\u001b[0m\n\u001b[0;32m    398\u001b[0m             \u001b[0mis_child\u001b[0m \u001b[1;33m=\u001b[0m \u001b[1;33m(\u001b[0m\u001b[1;32mnot\u001b[0m \u001b[0mself\u001b[0m\u001b[1;33m.\u001b[0m\u001b[0m_is_master_process\u001b[0m\u001b[1;33m(\u001b[0m\u001b[1;33m)\u001b[0m\u001b[1;33m)\u001b[0m\u001b[1;33m\u001b[0m\u001b[1;33m\u001b[0m\u001b[0m\n\u001b[0;32m    399\u001b[0m             \u001b[1;31m# only touch the buffer in the IO thread to avoid races\u001b[0m\u001b[1;33m\u001b[0m\u001b[1;33m\u001b[0m\u001b[1;33m\u001b[0m\u001b[0m\n\u001b[1;32m--> 400\u001b[1;33m             \u001b[0mself\u001b[0m\u001b[1;33m.\u001b[0m\u001b[0mpub_thread\u001b[0m\u001b[1;33m.\u001b[0m\u001b[0mschedule\u001b[0m\u001b[1;33m(\u001b[0m\u001b[1;32mlambda\u001b[0m \u001b[1;33m:\u001b[0m \u001b[0mself\u001b[0m\u001b[1;33m.\u001b[0m\u001b[0m_buffer\u001b[0m\u001b[1;33m.\u001b[0m\u001b[0mwrite\u001b[0m\u001b[1;33m(\u001b[0m\u001b[0mstring\u001b[0m\u001b[1;33m)\u001b[0m\u001b[1;33m)\u001b[0m\u001b[1;33m\u001b[0m\u001b[1;33m\u001b[0m\u001b[0m\n\u001b[0m\u001b[0;32m    401\u001b[0m             \u001b[1;32mif\u001b[0m \u001b[0mis_child\u001b[0m\u001b[1;33m:\u001b[0m\u001b[1;33m\u001b[0m\u001b[1;33m\u001b[0m\u001b[0m\n\u001b[0;32m    402\u001b[0m                 \u001b[1;31m# newlines imply flush in subprocesses\u001b[0m\u001b[1;33m\u001b[0m\u001b[1;33m\u001b[0m\u001b[1;33m\u001b[0m\u001b[0m\n",
      "\u001b[1;32m~\\AppData\\Local\\Continuum\\anaconda3\\lib\\site-packages\\ipykernel\\iostream.py\u001b[0m in \u001b[0;36mschedule\u001b[1;34m(self, f)\u001b[0m\n\u001b[0;32m    201\u001b[0m             \u001b[0mself\u001b[0m\u001b[1;33m.\u001b[0m\u001b[0m_events\u001b[0m\u001b[1;33m.\u001b[0m\u001b[0mappend\u001b[0m\u001b[1;33m(\u001b[0m\u001b[0mf\u001b[0m\u001b[1;33m)\u001b[0m\u001b[1;33m\u001b[0m\u001b[1;33m\u001b[0m\u001b[0m\n\u001b[0;32m    202\u001b[0m             \u001b[1;31m# wake event thread (message content is ignored)\u001b[0m\u001b[1;33m\u001b[0m\u001b[1;33m\u001b[0m\u001b[1;33m\u001b[0m\u001b[0m\n\u001b[1;32m--> 203\u001b[1;33m             \u001b[0mself\u001b[0m\u001b[1;33m.\u001b[0m\u001b[0m_event_pipe\u001b[0m\u001b[1;33m.\u001b[0m\u001b[0msend\u001b[0m\u001b[1;33m(\u001b[0m\u001b[1;34mb''\u001b[0m\u001b[1;33m)\u001b[0m\u001b[1;33m\u001b[0m\u001b[1;33m\u001b[0m\u001b[0m\n\u001b[0m\u001b[0;32m    204\u001b[0m         \u001b[1;32melse\u001b[0m\u001b[1;33m:\u001b[0m\u001b[1;33m\u001b[0m\u001b[1;33m\u001b[0m\u001b[0m\n\u001b[0;32m    205\u001b[0m             \u001b[0mf\u001b[0m\u001b[1;33m(\u001b[0m\u001b[1;33m)\u001b[0m\u001b[1;33m\u001b[0m\u001b[1;33m\u001b[0m\u001b[0m\n",
      "\u001b[1;32m~\\AppData\\Local\\Continuum\\anaconda3\\lib\\site-packages\\zmq\\sugar\\socket.py\u001b[0m in \u001b[0;36msend\u001b[1;34m(self, data, flags, copy, track, routing_id, group)\u001b[0m\n\u001b[0;32m    393\u001b[0m                                  copy_threshold=self.copy_threshold)\n\u001b[0;32m    394\u001b[0m             \u001b[0mdata\u001b[0m\u001b[1;33m.\u001b[0m\u001b[0mgroup\u001b[0m \u001b[1;33m=\u001b[0m \u001b[0mgroup\u001b[0m\u001b[1;33m\u001b[0m\u001b[1;33m\u001b[0m\u001b[0m\n\u001b[1;32m--> 395\u001b[1;33m         \u001b[1;32mreturn\u001b[0m \u001b[0msuper\u001b[0m\u001b[1;33m(\u001b[0m\u001b[0mSocket\u001b[0m\u001b[1;33m,\u001b[0m \u001b[0mself\u001b[0m\u001b[1;33m)\u001b[0m\u001b[1;33m.\u001b[0m\u001b[0msend\u001b[0m\u001b[1;33m(\u001b[0m\u001b[0mdata\u001b[0m\u001b[1;33m,\u001b[0m \u001b[0mflags\u001b[0m\u001b[1;33m=\u001b[0m\u001b[0mflags\u001b[0m\u001b[1;33m,\u001b[0m \u001b[0mcopy\u001b[0m\u001b[1;33m=\u001b[0m\u001b[0mcopy\u001b[0m\u001b[1;33m,\u001b[0m \u001b[0mtrack\u001b[0m\u001b[1;33m=\u001b[0m\u001b[0mtrack\u001b[0m\u001b[1;33m)\u001b[0m\u001b[1;33m\u001b[0m\u001b[1;33m\u001b[0m\u001b[0m\n\u001b[0m\u001b[0;32m    396\u001b[0m \u001b[1;33m\u001b[0m\u001b[0m\n\u001b[0;32m    397\u001b[0m     \u001b[1;32mdef\u001b[0m \u001b[0msend_multipart\u001b[0m\u001b[1;33m(\u001b[0m\u001b[0mself\u001b[0m\u001b[1;33m,\u001b[0m \u001b[0mmsg_parts\u001b[0m\u001b[1;33m,\u001b[0m \u001b[0mflags\u001b[0m\u001b[1;33m=\u001b[0m\u001b[1;36m0\u001b[0m\u001b[1;33m,\u001b[0m \u001b[0mcopy\u001b[0m\u001b[1;33m=\u001b[0m\u001b[1;32mTrue\u001b[0m\u001b[1;33m,\u001b[0m \u001b[0mtrack\u001b[0m\u001b[1;33m=\u001b[0m\u001b[1;32mFalse\u001b[0m\u001b[1;33m,\u001b[0m \u001b[1;33m**\u001b[0m\u001b[0mkwargs\u001b[0m\u001b[1;33m)\u001b[0m\u001b[1;33m:\u001b[0m\u001b[1;33m\u001b[0m\u001b[1;33m\u001b[0m\u001b[0m\n",
      "\u001b[1;32mzmq/backend/cython/socket.pyx\u001b[0m in \u001b[0;36mzmq.backend.cython.socket.Socket.send\u001b[1;34m()\u001b[0m\n",
      "\u001b[1;32mzmq/backend/cython/socket.pyx\u001b[0m in \u001b[0;36mzmq.backend.cython.socket.Socket.send\u001b[1;34m()\u001b[0m\n",
      "\u001b[1;32mzmq/backend/cython/socket.pyx\u001b[0m in \u001b[0;36mzmq.backend.cython.socket._send_copy\u001b[1;34m()\u001b[0m\n",
      "\u001b[1;32m~\\AppData\\Local\\Continuum\\anaconda3\\lib\\site-packages\\zmq\\backend\\cython\\checkrc.pxd\u001b[0m in \u001b[0;36mzmq.backend.cython.checkrc._check_rc\u001b[1;34m()\u001b[0m\n",
      "\u001b[1;31mKeyboardInterrupt\u001b[0m: "
     ]
    }
   ],
   "source": [
    "parseDocument(\"F:\\\\Projects\\\\EMA\\\\Repository\\\\EMA EPI PoC\\\\function_code\\\\data\\\\converted_to_html\\\\H\\\\CAP\\\\en\\\\Adakveo-4874 EN PI.html\", fileNameQrd, fileNameMatchRuleBook, fileNameDocumentTypeNames, medName = \"Adakveo\", fsMountName = '/mounted', localEnv= True)"
   ]
  },
  {
   "cell_type": "code",
   "execution_count": 4,
   "metadata": {},
   "outputs": [
    {
     "name": "stderr",
     "output_type": "stream",
     "text": [
      "2021-05-11 02:37:10,668 : Flow Logger HTML_T : Starting HTML Conversion To Json | H | CAP |  bg | HTML | emea-combined-h-2494-bg.htm\n",
      "2021-05-11 02:37:10,687 : Style Dictionary_7 : Reading style dictionary in file: rule_dictionary_bg.json | H | CAP |  bg | HTML | emea-combined-h-2494-bg.htm\n",
      "2021-05-11 02:37:10,790 : Style Dictionary_7 : Qrd Section Keys Retrieved For Style Dictionary: ПРИЛОЖЕНИЕ I, ПРИЛОЖЕНИЕ II, ПРИЛОЖЕНИЕ III, B.  ЛИСТОВКА | H | CAP |  bg | HTML | emea-combined-h-2494-bg.htm\n"
     ]
    },
    {
     "name": "stdout",
     "output_type": "stream",
     "text": [
      "['F:', 'Projects', 'EMA', 'Repository', 'EMA EPI PoC', 'function_code', 'data', 'converted_to_html', 'H', 'CAP', 'bg', 'emea-combined-h-2494-bg.htm']\n",
      "emea-combined-h-2494-bg.htm bg CAP\n",
      "------------- F:\\Projects\\EMA\\Repository\\EMA EPI PoC\\function_code\\data\\outputJSON\\H\\CAP\\bg\\emea-combined-h-2494-bg.txt -----------------\n",
      "F:\\Projects\\EMA\\Repository\\EMA EPI PoC\\function_code\\data\\converted_to_html\\H\\CAP\\bg\\emea-combined-h-2494-bg.htm F:\\Projects\\EMA\\Repository\\EMA EPI PoC\\function_code\\data\\outputJSON\\H\\CAP\\bg\\emea-combined-h-2494-bg.json\n"
     ]
    },
    {
     "name": "stderr",
     "output_type": "stream",
     "text": [
      "2021-05-11 02:37:15,282 : Parser_2 : Style Information Stored In File: F:\\Projects\\EMA\\Repository\\EMA EPI PoC\\function_code\\data\\outputJSON\\H\\CAP\\bg\\emea-combined-h-2494-bg.txt | H | CAP |  bg | HTML | emea-combined-h-2494-bg.htm\n",
      "2021-05-11 02:37:32,258 : Parser_2 : Writing to file: F:\\Projects\\EMA\\Repository\\EMA EPI PoC\\function_code\\data\\outputJSON\\H\\CAP\\bg\\emea-combined-h-2494-bg.json | H | CAP |  bg | HTML | emea-combined-h-2494-bg.htm\n",
      "2021-05-11 02:37:33,083 : Flow Logger HTML_T : Completed HTML Conversion To Json | H | CAP |  bg | HTML | emea-combined-h-2494-bg.htm\n",
      "2021-05-11 02:37:33,086 : Flow Logger HTML_T : Starting Json Split | H | CAP |  bg | HTML | emea-combined-h-2494-bg.htm\n",
      "2021-05-11 02:37:33,141 : Style Dictionary_X : Reading style dictionary in file: rule_dictionary_bg.json | H | CAP |  bg | Json | emea-combined-h-2494-bg.json\n",
      "2021-05-11 02:37:33,254 : Style Dictionary_X : Qrd Section Keys Retrieved For Style Dictionary: ПРИЛОЖЕНИЕ I, ПРИЛОЖЕНИЕ II, ПРИЛОЖЕНИЕ III, B.  ЛИСТОВКА | H | CAP |  bg | Json | emea-combined-h-2494-bg.json\n",
      "2021-05-11 02:37:33,275 : Partition_F : Partitioning Json: emea-combined-h-2494-bg.json | H | CAP |  bg | Json | emea-combined-h-2494-bg.json\n",
      "2021-05-11 02:37:34,278 : Partition_F : Writing partition to file: F:\\Projects\\EMA\\Repository\\EMA EPI PoC\\function_code\\data\\partitionedJSONs\\H\\CAP\\bg\\emea-combined-h-2494-bg_SmPC.json | H | CAP |  bg | Json | emea-combined-h-2494-bg.json\n",
      "2021-05-11 02:37:34,555 : Flow Logger HTML_T : ['emea-combined-h-2494-bg_SmPC.json'] | H | CAP |  bg | HTML | emea-combined-h-2494-bg.htm\n",
      "2021-05-11 02:37:34,559 : Flow Logger HTML_T : Completed Json Split | H | CAP |  bg | HTML | emea-combined-h-2494-bg.htm\n",
      "2021-05-11 02:37:34,562 : Flow Logger HTML_T : Started Processing Partitioned Jsons | H | CAP |  bg | HTML | emea-combined-h-2494-bg.htm\n",
      "2021-05-11 02:37:34,566 : Flow Logger HTML_T : \n",
      "\n",
      "\n",
      "\n",
      "||||||||||||||||||||||||||||||||0 ||||| emea-combined-h-2494-bg_SmPC.json||||||||||||||||||||||||||||||||\n",
      "\n",
      "\n",
      "\n",
      " | H | CAP |  bg | HTML | emea-combined-h-2494-bg.htm\n",
      "2021-05-11 02:37:34,576 : Heading Extraction emea-combined-h-2494-bg_SmPC.json : Starting Heading Extraction | H | CAP |  bg | 0 | emea-combined-h-2494-bg_SmPC.json\n"
     ]
    },
    {
     "name": "stdout",
     "output_type": "stream",
     "text": [
      "Starting Heading Extraction For File :- emea-combined-h-2494-bg_SmPC.json\n",
      "File being processed: F:\\Projects\\EMA\\Repository\\EMA EPI PoC\\function_code\\data\\partitionedJSONs\\H\\CAP\\bg\\emea-combined-h-2494-bg_SmPC.json\n",
      "--------------------------------------------\n",
      "SmPC\n"
     ]
    },
    {
     "name": "stderr",
     "output_type": "stream",
     "text": [
      "2021-05-11 02:37:35,419 : Heading Extraction emea-combined-h-2494-bg_SmPC.json : Started Extracting Heading | H | CAP |  bg | 0 | emea-combined-h-2494-bg_SmPC.json\n",
      " НА ПРОДУКТА' | Qrd txt :- 'КРАТКА ХАРАКТЕРИСТИКА НА ПРОДУКТА' | Matched :- 'True'atch Passed | H | CAP |  bg | 0 | emea-combined-h-2494-bg_SmPC.json | Doc txt :- 'КРАТКА\n",
      "2021-05-11 02:37:35,942 : Heading Extraction emea-combined-h-2494-bg_SmPC.json : Validation Passed As This The First Heading | H | CAP |  bg | 0 | emea-combined-h-2494-bg_SmPC.json | currHeadId :- '1' | currParentHeadId :- 'nan' | prevParentHeadId :- ''\n",
      " ПРОДУКТ' | Qrd txt :- '1. ИМЕ НА ЛЕКАРСТВЕНИЯ ПРОДУКТ' | Matched :- 'True'son : Match Passed | H | CAP |  bg | 0 | emea-combined-h-2494-bg_SmPC.json | Doc txt :- '1.       ИМЕ\n",
      "2021-05-11 02:37:36,003 : Heading Extraction emea-combined-h-2494-bg_SmPC.json : Validation Flow Is Broken | H | CAP |  bg | 0 | emea-combined-h-2494-bg_SmPC.json | currHeadId :- '3' | currParentHeadId :- '1.0' | prevParentHeadId :- '1'\n",
      "2021-05-11 02:37:36,012 : Heading Extraction emea-combined-h-2494-bg_SmPC.json : Validation Passed | H | CAP |  bg | 0 | emea-combined-h-2494-bg_SmPC.json | currHeadId :- '3' | currParentHeadId :- '1.0' | prevParentHeadId :- '1'\n",
      "2021-05-11 02:37:36,025 : Heading Extraction emea-combined-h-2494-bg_SmPC.json : Validation Failed By Style | H | CAP |  bg | 0 | emea-combined-h-2494-bg_SmPC.json | currHeadId :- '3' | currParentHeadId :- '1.0' | prevParentHeadId :- '1'\n"
     ]
    },
    {
     "name": "stdout",
     "output_type": "stream",
     "text": [
      "----------------------------------\n",
      "RemovedByStyle\n",
      "----------------------------------\n"
     ]
    },
    {
     "name": "stderr",
     "output_type": "stream",
     "text": [
      " СЪСТАВ' | Qrd txt :- '2. КАЧЕСТВЕН И КОЛИЧЕСТВЕН СЪСТАВ' | Matched :- 'True'n : Match Passed | H | CAP |  bg | 0 | emea-combined-h-2494-bg_SmPC.json | Doc txt :- '2.       КАЧЕСТВЕН\n",
      "2021-05-11 02:37:37,590 : Heading Extraction emea-combined-h-2494-bg_SmPC.json : Validation Flow Is Broken | H | CAP |  bg | 0 | emea-combined-h-2494-bg_SmPC.json | currHeadId :- '4' | currParentHeadId :- '1.0' | prevParentHeadId :- '1'\n",
      "2021-05-11 02:37:37,601 : Heading Extraction emea-combined-h-2494-bg_SmPC.json : Validation Passed | H | CAP |  bg | 0 | emea-combined-h-2494-bg_SmPC.json | currHeadId :- '4' | currParentHeadId :- '1.0' | prevParentHeadId :- '1'\n",
      "2021-05-11 02:37:37,615 : Heading Extraction emea-combined-h-2494-bg_SmPC.json : Validation Failed By Style | H | CAP |  bg | 0 | emea-combined-h-2494-bg_SmPC.json | currHeadId :- '4' | currParentHeadId :- '1.0' | prevParentHeadId :- '1'\n",
      " състав' | Qrd txt :- '2.2 качествен и количествен състав' | Matched :- 'True' : Match Passed | H | CAP |  bg | 0 | emea-combined-h-2494-bg_SmPC.json | Doc txt :- '2.       качествен\n",
      " СЪСТАВ' | Qrd txt :- '2.2 Качествен и количествен състав' | Matched :- 'True' : Match Passed In Lowercase | H | CAP |  bg | 0 | emea-combined-h-2494-bg_SmPC.json | Doc txt :- '2.       КАЧЕСТВЕН\n",
      "2021-05-11 02:37:37,674 : Heading Extraction emea-combined-h-2494-bg_SmPC.json : Validation Flow Is Broken | H | CAP |  bg | 0 | emea-combined-h-2494-bg_SmPC.json | currHeadId :- '6' | currParentHeadId :- '4.0' | prevParentHeadId :- '1'\n",
      "2021-05-11 02:37:37,686 : Heading Extraction emea-combined-h-2494-bg_SmPC.json : Validation Passed | H | CAP |  bg | 0 | emea-combined-h-2494-bg_SmPC.json | currHeadId :- '6' | currParentHeadId :- '4.0' | prevParentHeadId :- '1'\n",
      "2021-05-11 02:37:37,698 : Heading Extraction emea-combined-h-2494-bg_SmPC.json : Validation Failed By Style | H | CAP |  bg | 0 | emea-combined-h-2494-bg_SmPC.json | currHeadId :- '6' | currParentHeadId :- '4.0' | prevParentHeadId :- '1'\n"
     ]
    },
    {
     "name": "stdout",
     "output_type": "stream",
     "text": [
      "----------------------------------\n",
      "RemovedByStyle\n",
      "----------------------------------\n",
      "\n",
      "OriginalCheck\n",
      "\n",
      "----------------------------------\n",
      "RemovedByStyle\n",
      "----------------------------------\n"
     ]
    },
    {
     "name": "stderr",
     "output_type": "stream",
     "text": [
      "2021-05-11 02:37:39,212 : Heading Extraction emea-combined-h-2494-bg_SmPC.json : Match Failed In Lowercase | H | CAP |  bg | 0 | emea-combined-h-2494-bg_SmPC.json | Doc txt :- 'Помощно\r",
      " вещество с\r",
      " известно\r",
      " действие' | Qrd txt :- 'Помощно(и) вещество(а) с известно действие' | Matched :- 'False'\n"
     ]
    },
    {
     "name": "stdout",
     "output_type": "stream",
     "text": [
      "\n",
      "OriginalCheck\n",
      "\n"
     ]
    },
    {
     "name": "stderr",
     "output_type": "stream",
     "text": [
      " монохидрат.' | Qrd txt :- '6.5 Вид и съдържание на опаковката <и специални приспособления за употреба, приложение или имплантиране>' | Matched :- 'False'c txt :- 'Всяка\n",
      " действие' | Qrd txt :- 'Помощно(и) вещество(а) с известно действие' | Matched :- 'False'iled In Lowercase | H | CAP |  bg | 0 | emea-combined-h-2494-bg_SmPC.json | Doc txt :- 'Помощно\n"
     ]
    },
    {
     "name": "stdout",
     "output_type": "stream",
     "text": [
      "\n",
      "OriginalCheck\n",
      "\n"
     ]
    },
    {
     "name": "stderr",
     "output_type": "stream",
     "text": [
      " лактоза монохидрат.' | Qrd txt :- '6.5 Вид и съдържание на опаковката <и специални приспособления за употреба, приложение или имплантиране>' | Matched :- 'False' 'Всяка филмирана\n",
      " ФОРМА' | Qrd txt :- '3. ЛЕКАРСТВЕНА ФОРМА' | Matched :- 'True'94-bg_SmPC.json : Match Passed | H | CAP |  bg | 0 | emea-combined-h-2494-bg_SmPC.json | Doc txt :- '3.       ЛЕКАРСТВЕНА\n",
      "2021-05-11 02:37:43,384 : Heading Extraction emea-combined-h-2494-bg_SmPC.json : Validation Flow Is Broken | H | CAP |  bg | 0 | emea-combined-h-2494-bg_SmPC.json | currHeadId :- '8' | currParentHeadId :- '1.0' | prevParentHeadId :- '1'\n",
      "2021-05-11 02:37:43,394 : Heading Extraction emea-combined-h-2494-bg_SmPC.json : Validation Passed | H | CAP |  bg | 0 | emea-combined-h-2494-bg_SmPC.json | currHeadId :- '8' | currParentHeadId :- '1.0' | prevParentHeadId :- '1'\n",
      "2021-05-11 02:37:43,404 : Heading Extraction emea-combined-h-2494-bg_SmPC.json : Validation Failed By Style | H | CAP |  bg | 0 | emea-combined-h-2494-bg_SmPC.json | currHeadId :- '8' | currParentHeadId :- '1.0' | prevParentHeadId :- '1'\n"
     ]
    },
    {
     "name": "stdout",
     "output_type": "stream",
     "text": [
      "----------------------------------\n",
      "RemovedByStyle\n",
      "----------------------------------\n"
     ]
    },
    {
     "name": "stderr",
     "output_type": "stream",
     "text": [
      " форма).' | Qrd txt :- '6.5 Вид и съдържание на опаковката <и специални приспособления за употреба, приложение или имплантиране>' | Matched :- 'False'| Doc txt :- 'Светлосини,\n",
      " форма).' | Qrd txt :- '6.5 Вид и съдържание на опаковката <и специални приспособления за употреба, приложение или имплантиране>' | Matched :- 'False'| Doc txt :- 'Светлосини,\n",
      " ДАННИ' | Qrd txt :- '4. КЛИНИЧНИ ДАННИ' | Matched :- 'True'-2494-bg_SmPC.json : Match Passed | H | CAP |  bg | 0 | emea-combined-h-2494-bg_SmPC.json | Doc txt :- '4.       КЛИНИЧНИ\n",
      "2021-05-11 02:37:45,722 : Heading Extraction emea-combined-h-2494-bg_SmPC.json : Validation Flow Is Broken | H | CAP |  bg | 0 | emea-combined-h-2494-bg_SmPC.json | currHeadId :- '9' | currParentHeadId :- '1.0' | prevParentHeadId :- '1'\n",
      "2021-05-11 02:37:45,726 : Heading Extraction emea-combined-h-2494-bg_SmPC.json : Validation Passed | H | CAP |  bg | 0 | emea-combined-h-2494-bg_SmPC.json | currHeadId :- '9' | currParentHeadId :- '1.0' | prevParentHeadId :- '1'\n",
      "2021-05-11 02:37:45,730 : Heading Extraction emea-combined-h-2494-bg_SmPC.json : Validation Failed By Style | H | CAP |  bg | 0 | emea-combined-h-2494-bg_SmPC.json | currHeadId :- '9' | currParentHeadId :- '1.0' | prevParentHeadId :- '1'\n",
      " показания' | Qrd txt :- '4.1 Терапевтични показания ' | Matched :- 'True'json : Match Passed | H | CAP |  bg | 0 | emea-combined-h-2494-bg_SmPC.json | Doc txt :- '4.1     Терапевтични\n"
     ]
    },
    {
     "name": "stdout",
     "output_type": "stream",
     "text": [
      "----------------------------------\n",
      "RemovedByStyle\n",
      "----------------------------------\n"
     ]
    },
    {
     "name": "stderr",
     "output_type": "stream",
     "text": [
      "2021-05-11 02:37:45,940 : Heading Extraction emea-combined-h-2494-bg_SmPC.json : Validation Flow Is Broken | H | CAP |  bg | 0 | emea-combined-h-2494-bg_SmPC.json | currHeadId :- '10' | currParentHeadId :- '9.0' | prevParentHeadId :- '1'\n",
      "2021-05-11 02:37:45,946 : Heading Extraction emea-combined-h-2494-bg_SmPC.json : Validation Passed | H | CAP |  bg | 0 | emea-combined-h-2494-bg_SmPC.json | currHeadId :- '10' | currParentHeadId :- '9.0' | prevParentHeadId :- '1'\n",
      "2021-05-11 02:37:45,952 : Heading Extraction emea-combined-h-2494-bg_SmPC.json : Validation Failed By Style | H | CAP |  bg | 0 | emea-combined-h-2494-bg_SmPC.json | currHeadId :- '10' | currParentHeadId :- '9.0' | prevParentHeadId :- '1'\n"
     ]
    },
    {
     "name": "stdout",
     "output_type": "stream",
     "text": [
      "----------------------------------\n",
      "RemovedByStyle\n",
      "----------------------------------\n"
     ]
    },
    {
     "name": "stderr",
     "output_type": "stream",
     "text": [
      " приложение' | Qrd txt :- '4.2 Дозировка и начин на приложение' | Matched :- 'True'tch Passed | H | CAP |  bg | 0 | emea-combined-h-2494-bg_SmPC.json | Doc txt :- '4.2     Дозировка\n",
      "2021-05-11 02:37:46,519 : Heading Extraction emea-combined-h-2494-bg_SmPC.json : Validation Flow Is Broken | H | CAP |  bg | 0 | emea-combined-h-2494-bg_SmPC.json | currHeadId :- '11' | currParentHeadId :- '9.0' | prevParentHeadId :- '1'\n",
      "2021-05-11 02:37:46,525 : Heading Extraction emea-combined-h-2494-bg_SmPC.json : Validation Passed | H | CAP |  bg | 0 | emea-combined-h-2494-bg_SmPC.json | currHeadId :- '11' | currParentHeadId :- '9.0' | prevParentHeadId :- '1'\n",
      "2021-05-11 02:37:46,531 : Heading Extraction emea-combined-h-2494-bg_SmPC.json : Validation Failed By Style | H | CAP |  bg | 0 | emea-combined-h-2494-bg_SmPC.json | currHeadId :- '11' | currParentHeadId :- '9.0' | prevParentHeadId :- '1'\n",
      " приложение' | Qrd txt :- 'Начин на приложение' | Matched :- 'False'_SmPC.json : Match Failed In Lowercase | H | CAP |  bg | 0 | emea-combined-h-2494-bg_SmPC.json | Doc txt :- '4.2     Дозировка\n"
     ]
    },
    {
     "name": "stdout",
     "output_type": "stream",
     "text": [
      "----------------------------------\n",
      "RemovedByStyle\n",
      "----------------------------------\n",
      "\n",
      "OriginalCheck\n",
      "\n"
     ]
    },
    {
     "name": "stderr",
     "output_type": "stream",
     "text": [
      "2021-05-11 02:37:46,870 : Heading Extraction emea-combined-h-2494-bg_SmPC.json : Match Failed In Lowercase | H | CAP |  bg | 0 | emea-combined-h-2494-bg_SmPC.json | Doc txt :- 'Дозировка' | Qrd txt :- '4.2 Дозировка и начин на приложение' | Matched :- 'False'\n",
      "2021-05-11 02:37:46,872 : Heading Extraction emea-combined-h-2494-bg_SmPC.json : Match Passed | H | CAP |  bg | 0 | emea-combined-h-2494-bg_SmPC.json | Doc txt :- 'Дозировка' | Qrd txt :- 'Дозировка' | Matched :- 'True'\n",
      "2021-05-11 02:37:46,881 : Heading Extraction emea-combined-h-2494-bg_SmPC.json : Validation Flow Is Broken | H | CAP |  bg | 0 | emea-combined-h-2494-bg_SmPC.json | currHeadId :- '12' | currParentHeadId :- '11.0' | prevParentHeadId :- '1'\n",
      "2021-05-11 02:37:46,893 : Heading Extraction emea-combined-h-2494-bg_SmPC.json : Validation Passed | H | CAP |  bg | 0 | emea-combined-h-2494-bg_SmPC.json | currHeadId :- '12' | currParentHeadId :- '11.0' | prevParentHeadId :- '1'\n",
      "2021-05-11 02:37:46,899 : Heading Extraction emea-combined-h-2494-bg_SmPC.json : Validation Failed By Style | H | CAP |  bg | 0 | emea-combined-h-2494-bg_SmPC.json | currHeadId :- '12' | currParentHeadId :- '11.0' | prevParentHeadId :- '1'\n"
     ]
    },
    {
     "name": "stdout",
     "output_type": "stream",
     "text": [
      "\n",
      "OriginalCheck\n",
      "\n",
      "----------------------------------\n",
      "RemovedByStyle\n",
      "----------------------------------\n"
     ]
    },
    {
     "name": "stderr",
     "output_type": "stream",
     "text": [
      " с Таблица 1.' | Qrd txt :- '6.5 Вид и съдържание на опаковката <и специални приспособления за употреба, приложение или имплантиране>' | Matched :- 'False' txt :- 'При\n",
      " Препоръки за дозиране' | Qrd txt :- '6.6 Специални предпазни мерки при изхвърляне <и работа>' | Matched :- 'False' emea-combined-h-2494-bg_SmPC.json | Doc txt :- 'Таблица 1.\n",
      " приложение“). ' | Qrd txt :- '6.5 Вид и съдържание на опаковката <и специални приспособления за употреба, приложение или имплантиране>' | Matched :- 'False'xt :- 'Сутрешната\n",
      " едновременно.' | Qrd txt :- '6.5 Вид и съдържание на опаковката <и специални приспособления за употреба, приложение или имплантиране>' | Matched :- 'False'txt :- 'Пациентите,\n",
      " на CYP3A' | Qrd txt :- '6.5 Вид и съдържание на опаковката <и специални приспособления за употреба, приложение или имплантиране>' | Matched :- 'False' Doc txt :- 'Таблица2: Препоръки\n",
      " на CYP3A' | Qrd txt :- '6.6 Специални предпазни мерки при изхвърляне <и работа>' | Matched :- 'False'P |  bg | 0 | emea-combined-h-2494-bg_SmPC.json | Doc txt :- 'Таблица2: Препоръки\n",
      " Child-Pugh). ' | Qrd txt :- '6.5 Вид и съдържание на опаковката <и специални приспособления за употреба, приложение или имплантиране>' | Matched :- 'False'txt :- 'Не\n",
      " дневно. ' | Qrd txt :- '6.5 Вид и съдържание на опаковката <и специални приспособления за употреба, приложение или имплантиране>' | Matched :- 'False' Doc txt :- 'При\n",
      " по-рядко. ' | Qrd txt :- '6.5 Вид и съдържание на опаковката <и специални приспособления за употреба, приложение или имплантиране>' | Matched :- 'False'oc txt :- 'При\n",
      " схемата на прилагане.' | Qrd txt :- '6.5 Вид и съдържание на опаковката <и специални приспособления за употреба, приложение или имплантиране>' | Matched :- 'False'При\n",
      " увреждане ' | Qrd txt :- '6.5 Вид и съдържание на опаковката <и специални приспособления за употреба, приложение или имплантиране>' | Matched :- 'False'oc txt :- 'Таблица3:\n",
      " увреждане ' | Qrd txt :- '6.6 Специални предпазни мерки при изхвърляне <и работа>' | Matched :- 'False'|  bg | 0 | emea-combined-h-2494-bg_SmPC.json | Doc txt :- 'Таблица3:\n",
      " популация' | Qrd txt :- 'Педиатрична популация' | Matched :- 'True'_SmPC.json : Match Passed | H | CAP |  bg | 0 | emea-combined-h-2494-bg_SmPC.json | Doc txt :- 'Педиатрична\n",
      "2021-05-11 02:37:52,306 : Heading Extraction emea-combined-h-2494-bg_SmPC.json : Validation Flow Is Broken | H | CAP |  bg | 0 | emea-combined-h-2494-bg_SmPC.json | currHeadId :- '13' | currParentHeadId :- '12.0' | prevParentHeadId :- '1'\n",
      "2021-05-11 02:37:52,319 : Heading Extraction emea-combined-h-2494-bg_SmPC.json : Validation Passed | H | CAP |  bg | 0 | emea-combined-h-2494-bg_SmPC.json | currHeadId :- '13' | currParentHeadId :- '12.0' | prevParentHeadId :- '1'\n",
      "2021-05-11 02:37:52,326 : Heading Extraction emea-combined-h-2494-bg_SmPC.json : Validation Failed By Style | H | CAP |  bg | 0 | emea-combined-h-2494-bg_SmPC.json | currHeadId :- '13' | currParentHeadId :- '12.0' | prevParentHeadId :- '1'\n",
      " популация' | Qrd txt :- 'Педиатрична популация' | Matched :- 'True'_SmPC.json : Match Passed | H | CAP |  bg | 0 | emea-combined-h-2494-bg_SmPC.json | Doc txt :- 'Педиатрична\n",
      "2021-05-11 02:37:52,373 : Heading Extraction emea-combined-h-2494-bg_SmPC.json : Validation Flow Is Broken | H | CAP |  bg | 0 | emea-combined-h-2494-bg_SmPC.json | currHeadId :- '19' | currParentHeadId :- '17.0' | prevParentHeadId :- '1'\n",
      "2021-05-11 02:37:52,384 : Heading Extraction emea-combined-h-2494-bg_SmPC.json : Validation Passed | H | CAP |  bg | 0 | emea-combined-h-2494-bg_SmPC.json | currHeadId :- '19' | currParentHeadId :- '17.0' | prevParentHeadId :- '1'\n",
      "2021-05-11 02:37:52,390 : Heading Extraction emea-combined-h-2494-bg_SmPC.json : Validation Failed By Style | H | CAP |  bg | 0 | emea-combined-h-2494-bg_SmPC.json | currHeadId :- '19' | currParentHeadId :- '17.0' | prevParentHeadId :- '1'\n",
      " популация' | Qrd txt :- 'Педиатрична популация' | Matched :- 'True'_SmPC.json : Match Passed | H | CAP |  bg | 0 | emea-combined-h-2494-bg_SmPC.json | Doc txt :- 'Педиатрична\n",
      "2021-05-11 02:37:52,418 : Heading Extraction emea-combined-h-2494-bg_SmPC.json : Validation Flow Is Broken | H | CAP |  bg | 0 | emea-combined-h-2494-bg_SmPC.json | currHeadId :- '21' | currParentHeadId :- '20.0' | prevParentHeadId :- '1'\n",
      "2021-05-11 02:37:52,431 : Heading Extraction emea-combined-h-2494-bg_SmPC.json : Validation Passed | H | CAP |  bg | 0 | emea-combined-h-2494-bg_SmPC.json | currHeadId :- '21' | currParentHeadId :- '20.0' | prevParentHeadId :- '1'\n",
      "2021-05-11 02:37:52,438 : Heading Extraction emea-combined-h-2494-bg_SmPC.json : Validation Failed By Style | H | CAP |  bg | 0 | emea-combined-h-2494-bg_SmPC.json | currHeadId :- '21' | currParentHeadId :- '20.0' | prevParentHeadId :- '1'\n",
      " популация' | Qrd txt :- 'Педиатрична популация' | Matched :- 'True'_SmPC.json : Match Passed | H | CAP |  bg | 0 | emea-combined-h-2494-bg_SmPC.json | Doc txt :- 'Педиатрична\n",
      "2021-05-11 02:37:52,480 : Heading Extraction emea-combined-h-2494-bg_SmPC.json : Validation Flow Is Broken | H | CAP |  bg | 0 | emea-combined-h-2494-bg_SmPC.json | currHeadId :- '28' | currParentHeadId :- '27.0' | prevParentHeadId :- '1'\n",
      "2021-05-11 02:37:52,493 : Heading Extraction emea-combined-h-2494-bg_SmPC.json : Validation Passed | H | CAP |  bg | 0 | emea-combined-h-2494-bg_SmPC.json | currHeadId :- '28' | currParentHeadId :- '27.0' | prevParentHeadId :- '1'\n"
     ]
    },
    {
     "name": "stdout",
     "output_type": "stream",
     "text": [
      "----------------------------------\n",
      "RemovedByStyle\n",
      "----------------------------------\n",
      "----------------------------------\n",
      "RemovedByStyle\n",
      "----------------------------------\n",
      "----------------------------------\n",
      "RemovedByStyle\n",
      "----------------------------------\n",
      "----------------------------------\n",
      "RemovedByStyle\n",
      "----------------------------------\n"
     ]
    },
    {
     "name": "stderr",
     "output_type": "stream",
     "text": [
      "2021-05-11 02:37:52,499 : Heading Extraction emea-combined-h-2494-bg_SmPC.json : Validation Failed By Style | H | CAP |  bg | 0 | emea-combined-h-2494-bg_SmPC.json | currHeadId :- '28' | currParentHeadId :- '27.0' | prevParentHeadId :- '1'\n",
      " популация' | Qrd txt :- 'Педиатрична популация' | Matched :- 'True'_SmPC.json : Match Passed | H | CAP |  bg | 0 | emea-combined-h-2494-bg_SmPC.json | Doc txt :- 'Педиатрична\n",
      "2021-05-11 02:37:52,529 : Heading Extraction emea-combined-h-2494-bg_SmPC.json : Validation Flow Is Broken | H | CAP |  bg | 0 | emea-combined-h-2494-bg_SmPC.json | currHeadId :- '31' | currParentHeadId :- '30.0' | prevParentHeadId :- '1'\n",
      "2021-05-11 02:37:52,543 : Heading Extraction emea-combined-h-2494-bg_SmPC.json : Validation Passed | H | CAP |  bg | 0 | emea-combined-h-2494-bg_SmPC.json | currHeadId :- '31' | currParentHeadId :- '30.0' | prevParentHeadId :- '1'\n",
      "2021-05-11 02:37:52,551 : Heading Extraction emea-combined-h-2494-bg_SmPC.json : Validation Failed By Style | H | CAP |  bg | 0 | emea-combined-h-2494-bg_SmPC.json | currHeadId :- '31' | currParentHeadId :- '30.0' | prevParentHeadId :- '1'\n",
      " популация' | Qrd txt :- 'Педиатрична популация' | Matched :- 'True'_SmPC.json : Match Passed | H | CAP |  bg | 0 | emea-combined-h-2494-bg_SmPC.json | Doc txt :- 'Педиатрична\n",
      "2021-05-11 02:37:52,595 : Heading Extraction emea-combined-h-2494-bg_SmPC.json : Validation Flow Is Broken | H | CAP |  bg | 0 | emea-combined-h-2494-bg_SmPC.json | currHeadId :- '37' | currParentHeadId :- '33.0' | prevParentHeadId :- '1'\n",
      "2021-05-11 02:37:52,608 : Heading Extraction emea-combined-h-2494-bg_SmPC.json : Validation Passed | H | CAP |  bg | 0 | emea-combined-h-2494-bg_SmPC.json | currHeadId :- '37' | currParentHeadId :- '33.0' | prevParentHeadId :- '1'\n",
      "2021-05-11 02:37:52,616 : Heading Extraction emea-combined-h-2494-bg_SmPC.json : Validation Failed By Style | H | CAP |  bg | 0 | emea-combined-h-2494-bg_SmPC.json | currHeadId :- '37' | currParentHeadId :- '33.0' | prevParentHeadId :- '1'\n"
     ]
    },
    {
     "name": "stdout",
     "output_type": "stream",
     "text": [
      "----------------------------------\n",
      "RemovedByStyle\n",
      "----------------------------------\n",
      "----------------------------------\n",
      "RemovedByStyle\n",
      "----------------------------------\n"
     ]
    },
    {
     "name": "stderr",
     "output_type": "stream",
     "text": [
      " описани в точка4.8,5.1 и5.2.' | Qrd txt :- '6.5 Вид и съдържание на опаковката <и специални приспособления за употреба, приложение или имплантиране>' | Matched :- 'False'те\n",
      " приложение' | Qrd txt :- '4.2 Дозировка и начин на приложение' | Matched :- 'False'ch Failed In Lowercase | H | CAP |  bg | 0 | emea-combined-h-2494-bg_SmPC.json | Doc txt :- 'Начин\n",
      " приложение' | Qrd txt :- 'Начин на приложение' | Matched :- 'True'g_SmPC.json : Match Passed | H | CAP |  bg | 0 | emea-combined-h-2494-bg_SmPC.json | Doc txt :- 'Начин\n",
      "2021-05-11 02:37:53,333 : Heading Extraction emea-combined-h-2494-bg_SmPC.json : Validation Flow Is Broken | H | CAP |  bg | 0 | emea-combined-h-2494-bg_SmPC.json | currHeadId :- '14' | currParentHeadId :- '11.0' | prevParentHeadId :- '1'\n",
      "2021-05-11 02:37:53,347 : Heading Extraction emea-combined-h-2494-bg_SmPC.json : Validation Passed | H | CAP |  bg | 0 | emea-combined-h-2494-bg_SmPC.json | currHeadId :- '14' | currParentHeadId :- '11.0' | prevParentHeadId :- '1'\n",
      "2021-05-11 02:37:53,354 : Heading Extraction emea-combined-h-2494-bg_SmPC.json : Validation Failed By Style | H | CAP |  bg | 0 | emea-combined-h-2494-bg_SmPC.json | currHeadId :- '14' | currParentHeadId :- '11.0' | prevParentHeadId :- '1'\n"
     ]
    },
    {
     "name": "stdout",
     "output_type": "stream",
     "text": [
      "\n",
      "OriginalCheck\n",
      "\n",
      "----------------------------------\n",
      "RemovedByStyle\n",
      "----------------------------------\n"
     ]
    },
    {
     "name": "stderr",
     "output_type": "stream",
     "text": [
      " ' | Qrd txt :- '6.6 Специални предпазни мерки при изхвърляне <и работа>' | Matched :- 'False'| H | CAP |  bg | 0 | emea-combined-h-2494-bg_SmPC.json | Doc txt :- 'За\n",
      " мазнини. ' | Qrd txt :- '6.5 Вид и съдържание на опаковката <и специални приспособления за употреба, приложение или имплантиране>' | Matched :- 'False'Doc txt :- 'Таблетките\n",
      " мазнини. ' | Qrd txt :- '6.6 Специални предпазни мерки при изхвърляне <и работа>' | Matched :- 'False' |  bg | 0 | emea-combined-h-2494-bg_SmPC.json | Doc txt :- 'Таблетките\n",
      " точка 4.5).' | Qrd txt :- '6.5 Вид и съдържание на опаковката <и специални приспособления за употреба, приложение или имплантиране>' | Matched :- 'False'c txt :- 'По\n",
      " точка 4.5).' | Qrd txt :- '6.6 Специални предпазни мерки при изхвърляне <и работа>' | Matched :- 'False'  bg | 0 | emea-combined-h-2494-bg_SmPC.json | Doc txt :- 'По\n",
      "2021-05-11 02:37:54,847 : Heading Extraction emea-combined-h-2494-bg_SmPC.json : Match Passed | H | CAP |  bg | 0 | emea-combined-h-2494-bg_SmPC.json | Doc txt :- '4.3     Противопоказания' | Qrd txt :- '4.3 Противопоказания' | Matched :- 'True'\n",
      "2021-05-11 02:37:54,860 : Heading Extraction emea-combined-h-2494-bg_SmPC.json : Validation Flow Is Broken | H | CAP |  bg | 0 | emea-combined-h-2494-bg_SmPC.json | currHeadId :- '16' | currParentHeadId :- '9.0' | prevParentHeadId :- '1'\n",
      "2021-05-11 02:37:54,867 : Heading Extraction emea-combined-h-2494-bg_SmPC.json : Validation Passed | H | CAP |  bg | 0 | emea-combined-h-2494-bg_SmPC.json | currHeadId :- '16' | currParentHeadId :- '9.0' | prevParentHeadId :- '1'\n",
      "2021-05-11 02:37:54,873 : Heading Extraction emea-combined-h-2494-bg_SmPC.json : Validation Failed By Style | H | CAP |  bg | 0 | emea-combined-h-2494-bg_SmPC.json | currHeadId :- '16' | currParentHeadId :- '9.0' | prevParentHeadId :- '1'\n"
     ]
    },
    {
     "name": "stdout",
     "output_type": "stream",
     "text": [
      "----------------------------------\n",
      "RemovedByStyle\n",
      "----------------------------------\n"
     ]
    },
    {
     "name": "stderr",
     "output_type": "stream",
     "text": [
      " употреба' | Qrd txt :- '4.4 Специални предупреждения и предпазни мерки при употреба' | Matched :- 'True'  bg | 0 | emea-combined-h-2494-bg_SmPC.json | Doc txt :- '4.4     Специални\n",
      "2021-05-11 02:37:55,812 : Heading Extraction emea-combined-h-2494-bg_SmPC.json : Validation Flow Is Broken | H | CAP |  bg | 0 | emea-combined-h-2494-bg_SmPC.json | currHeadId :- '17' | currParentHeadId :- '9.0' | prevParentHeadId :- '1'\n",
      "2021-05-11 02:37:55,820 : Heading Extraction emea-combined-h-2494-bg_SmPC.json : Validation Passed | H | CAP |  bg | 0 | emea-combined-h-2494-bg_SmPC.json | currHeadId :- '17' | currParentHeadId :- '9.0' | prevParentHeadId :- '1'\n",
      "2021-05-11 02:37:55,828 : Heading Extraction emea-combined-h-2494-bg_SmPC.json : Validation Failed By Style | H | CAP |  bg | 0 | emea-combined-h-2494-bg_SmPC.json | currHeadId :- '17' | currParentHeadId :- '9.0' | prevParentHeadId :- '1'\n"
     ]
    },
    {
     "name": "stdout",
     "output_type": "stream",
     "text": [
      "----------------------------------\n",
      "RemovedByStyle\n",
      "----------------------------------\n"
     ]
    },
    {
     "name": "stderr",
     "output_type": "stream",
     "text": [
      " употреба' | Qrd txt :- '6.5 Вид и съдържание на опаковката <и специални приспособления за употреба, приложение или имплантиране>' | Matched :- 'False' Doc txt :- '4.4     Специални\n",
      " употреба' | Qrd txt :- '6.6 Специални предпазни мерки при изхвърляне <и работа>' | Matched :- 'False'P |  bg | 0 | emea-combined-h-2494-bg_SmPC.json | Doc txt :- '4.4     Специални\n",
      " точка 5.1). ' | Qrd txt :- '6.5 Вид и съдържание на опаковката <и специални приспособления за употреба, приложение или имплантиране>' | Matched :- 'False' txt :- 'По-малко\n",
      " популация ' | Qrd txt :- 'Педиатрична популация' | Matched :- 'True'SmPC.json : Match Passed | H | CAP |  bg | 0 | emea-combined-h-2494-bg_SmPC.json | Doc txt :- 'Педиатрична\n",
      "2021-05-11 02:37:59,600 : Heading Extraction emea-combined-h-2494-bg_SmPC.json : Validation Flow Is Broken | H | CAP |  bg | 0 | emea-combined-h-2494-bg_SmPC.json | currHeadId :- '13' | currParentHeadId :- '12.0' | prevParentHeadId :- '1'\n",
      "2021-05-11 02:37:59,609 : Heading Extraction emea-combined-h-2494-bg_SmPC.json : Validation Passed | H | CAP |  bg | 0 | emea-combined-h-2494-bg_SmPC.json | currHeadId :- '13' | currParentHeadId :- '12.0' | prevParentHeadId :- '1'\n",
      "2021-05-11 02:37:59,616 : Heading Extraction emea-combined-h-2494-bg_SmPC.json : Validation Failed By Style | H | CAP |  bg | 0 | emea-combined-h-2494-bg_SmPC.json | currHeadId :- '13' | currParentHeadId :- '12.0' | prevParentHeadId :- '1'\n",
      " популация ' | Qrd txt :- 'Педиатрична популация' | Matched :- 'True'SmPC.json : Match Passed | H | CAP |  bg | 0 | emea-combined-h-2494-bg_SmPC.json | Doc txt :- 'Педиатрична\n",
      "2021-05-11 02:37:59,660 : Heading Extraction emea-combined-h-2494-bg_SmPC.json : Validation Flow Is Broken | H | CAP |  bg | 0 | emea-combined-h-2494-bg_SmPC.json | currHeadId :- '19' | currParentHeadId :- '17.0' | prevParentHeadId :- '1'\n",
      "2021-05-11 02:37:59,672 : Heading Extraction emea-combined-h-2494-bg_SmPC.json : Validation Passed | H | CAP |  bg | 0 | emea-combined-h-2494-bg_SmPC.json | currHeadId :- '19' | currParentHeadId :- '17.0' | prevParentHeadId :- '1'\n",
      "2021-05-11 02:37:59,677 : Heading Extraction emea-combined-h-2494-bg_SmPC.json : Validation Failed By Style | H | CAP |  bg | 0 | emea-combined-h-2494-bg_SmPC.json | currHeadId :- '19' | currParentHeadId :- '17.0' | prevParentHeadId :- '1'\n",
      " популация ' | Qrd txt :- 'Педиатрична популация' | Matched :- 'True'SmPC.json : Match Passed | H | CAP |  bg | 0 | emea-combined-h-2494-bg_SmPC.json | Doc txt :- 'Педиатрична\n",
      "2021-05-11 02:37:59,699 : Heading Extraction emea-combined-h-2494-bg_SmPC.json : Validation Flow Is Broken | H | CAP |  bg | 0 | emea-combined-h-2494-bg_SmPC.json | currHeadId :- '21' | currParentHeadId :- '20.0' | prevParentHeadId :- '1'\n",
      "2021-05-11 02:37:59,708 : Heading Extraction emea-combined-h-2494-bg_SmPC.json : Validation Passed | H | CAP |  bg | 0 | emea-combined-h-2494-bg_SmPC.json | currHeadId :- '21' | currParentHeadId :- '20.0' | prevParentHeadId :- '1'\n",
      "2021-05-11 02:37:59,714 : Heading Extraction emea-combined-h-2494-bg_SmPC.json : Validation Failed By Style | H | CAP |  bg | 0 | emea-combined-h-2494-bg_SmPC.json | currHeadId :- '21' | currParentHeadId :- '20.0' | prevParentHeadId :- '1'\n",
      " популация ' | Qrd txt :- 'Педиатрична популация' | Matched :- 'True'SmPC.json : Match Passed | H | CAP |  bg | 0 | emea-combined-h-2494-bg_SmPC.json | Doc txt :- 'Педиатрична\n",
      "2021-05-11 02:37:59,747 : Heading Extraction emea-combined-h-2494-bg_SmPC.json : Validation Flow Is Broken | H | CAP |  bg | 0 | emea-combined-h-2494-bg_SmPC.json | currHeadId :- '28' | currParentHeadId :- '27.0' | prevParentHeadId :- '1'\n",
      "2021-05-11 02:37:59,758 : Heading Extraction emea-combined-h-2494-bg_SmPC.json : Validation Passed | H | CAP |  bg | 0 | emea-combined-h-2494-bg_SmPC.json | currHeadId :- '28' | currParentHeadId :- '27.0' | prevParentHeadId :- '1'\n",
      "2021-05-11 02:37:59,764 : Heading Extraction emea-combined-h-2494-bg_SmPC.json : Validation Failed By Style | H | CAP |  bg | 0 | emea-combined-h-2494-bg_SmPC.json | currHeadId :- '28' | currParentHeadId :- '27.0' | prevParentHeadId :- '1'\n",
      " популация ' | Qrd txt :- 'Педиатрична популация' | Matched :- 'True'SmPC.json : Match Passed | H | CAP |  bg | 0 | emea-combined-h-2494-bg_SmPC.json | Doc txt :- 'Педиатрична\n",
      "2021-05-11 02:37:59,786 : Heading Extraction emea-combined-h-2494-bg_SmPC.json : Validation Flow Is Broken | H | CAP |  bg | 0 | emea-combined-h-2494-bg_SmPC.json | currHeadId :- '31' | currParentHeadId :- '30.0' | prevParentHeadId :- '1'\n",
      "2021-05-11 02:37:59,796 : Heading Extraction emea-combined-h-2494-bg_SmPC.json : Validation Passed | H | CAP |  bg | 0 | emea-combined-h-2494-bg_SmPC.json | currHeadId :- '31' | currParentHeadId :- '30.0' | prevParentHeadId :- '1'\n"
     ]
    },
    {
     "name": "stdout",
     "output_type": "stream",
     "text": [
      "----------------------------------\n",
      "RemovedByStyle\n",
      "----------------------------------\n",
      "----------------------------------\n",
      "RemovedByStyle\n",
      "----------------------------------\n",
      "----------------------------------\n",
      "RemovedByStyle\n",
      "----------------------------------\n",
      "----------------------------------\n",
      "RemovedByStyle\n",
      "----------------------------------\n"
     ]
    },
    {
     "name": "stderr",
     "output_type": "stream",
     "text": [
      "2021-05-11 02:37:59,803 : Heading Extraction emea-combined-h-2494-bg_SmPC.json : Validation Failed By Style | H | CAP |  bg | 0 | emea-combined-h-2494-bg_SmPC.json | currHeadId :- '31' | currParentHeadId :- '30.0' | prevParentHeadId :- '1'\n",
      " популация ' | Qrd txt :- 'Педиатрична популация' | Matched :- 'True'SmPC.json : Match Passed | H | CAP |  bg | 0 | emea-combined-h-2494-bg_SmPC.json | Doc txt :- 'Педиатрична\n",
      "2021-05-11 02:37:59,839 : Heading Extraction emea-combined-h-2494-bg_SmPC.json : Validation Flow Is Broken | H | CAP |  bg | 0 | emea-combined-h-2494-bg_SmPC.json | currHeadId :- '37' | currParentHeadId :- '33.0' | prevParentHeadId :- '1'\n",
      "2021-05-11 02:37:59,852 : Heading Extraction emea-combined-h-2494-bg_SmPC.json : Validation Passed | H | CAP |  bg | 0 | emea-combined-h-2494-bg_SmPC.json | currHeadId :- '37' | currParentHeadId :- '33.0' | prevParentHeadId :- '1'\n",
      "2021-05-11 02:37:59,858 : Heading Extraction emea-combined-h-2494-bg_SmPC.json : Validation Failed By Style | H | CAP |  bg | 0 | emea-combined-h-2494-bg_SmPC.json | currHeadId :- '37' | currParentHeadId :- '33.0' | prevParentHeadId :- '1'\n"
     ]
    },
    {
     "name": "stdout",
     "output_type": "stream",
     "text": [
      "----------------------------------\n",
      "RemovedByStyle\n",
      "----------------------------------\n",
      "----------------------------------\n",
      "RemovedByStyle\n",
      "----------------------------------\n"
     ]
    },
    {
     "name": "stderr",
     "output_type": "stream",
     "text": [
      " лекарство.' | Qrd txt :- '6.5 Вид и съдържание на опаковката <и специални приспособления за употреба, приложение или имплантиране>' | Matched :- 'False'oc txt :- 'Kalydecoсъдържа\n",
      " натрий.' | Qrd txt :- '6.5 Вид и съдържание на опаковката <и специални приспособления за употреба, приложение или имплантиране>' | Matched :- 'False'| Doc txt :- 'Това\n",
      " на взаимодействие' | Qrd txt :- '4.5 Взаимодействие с други лекарствени продукти и други форми на взаимодействие' | Matched :- 'True'94-bg_SmPC.json | Doc txt :- '4.5     Взаимодействие\n",
      "2021-05-11 02:38:01,865 : Heading Extraction emea-combined-h-2494-bg_SmPC.json : Validation Flow Is Broken | H | CAP |  bg | 0 | emea-combined-h-2494-bg_SmPC.json | currHeadId :- '20' | currParentHeadId :- '9.0' | prevParentHeadId :- '1'\n",
      "2021-05-11 02:38:01,874 : Heading Extraction emea-combined-h-2494-bg_SmPC.json : Validation Passed | H | CAP |  bg | 0 | emea-combined-h-2494-bg_SmPC.json | currHeadId :- '20' | currParentHeadId :- '9.0' | prevParentHeadId :- '1'\n",
      "2021-05-11 02:38:01,883 : Heading Extraction emea-combined-h-2494-bg_SmPC.json : Validation Failed By Style | H | CAP |  bg | 0 | emea-combined-h-2494-bg_SmPC.json | currHeadId :- '20' | currParentHeadId :- '9.0' | prevParentHeadId :- '1'\n",
      " на взаимодействие' | Qrd txt :- '6.5 Вид и съдържание на опаковката <и специални приспособления за употреба, приложение или имплантиране>' | Matched :- 'False':- '4.5     Взаимодействие\n"
     ]
    },
    {
     "name": "stdout",
     "output_type": "stream",
     "text": [
      "----------------------------------\n",
      "RemovedByStyle\n",
      "----------------------------------\n"
     ]
    },
    {
     "name": "stderr",
     "output_type": "stream",
     "text": [
      " на взаимодействие' | Qrd txt :- '6.6 Специални предпазни мерки при изхвърляне <и работа>' | Matched :- 'False' 0 | emea-combined-h-2494-bg_SmPC.json | Doc txt :- '4.5     Взаимодействие\n",
      " на ивакафтор' | Qrd txt :- '6.6 Специални предпазни мерки при изхвърляне <и работа>' | Matched :- 'False' bg | 0 | emea-combined-h-2494-bg_SmPC.json | Doc txt :- 'Лекарствени\n",
      " транспортери' | Qrd txt :- '6.5 Вид и съдържание на опаковката <и специални приспособления за употреба, приложение или имплантиране>' | Matched :- 'False' txt :- 'Потенциал\n",
      " транспортери' | Qrd txt :- '6.6 Специални предпазни мерки при изхвърляне <и работа>' | Matched :- 'False' bg | 0 | emea-combined-h-2494-bg_SmPC.json | Doc txt :- 'Потенциал\n",
      " популация' | Qrd txt :- 'Педиатрична популация' | Matched :- 'True'_SmPC.json : Match Passed | H | CAP |  bg | 0 | emea-combined-h-2494-bg_SmPC.json | Doc txt :- 'Педиатрична\n",
      "2021-05-11 02:38:06,512 : Heading Extraction emea-combined-h-2494-bg_SmPC.json : Validation Flow Is Broken | H | CAP |  bg | 0 | emea-combined-h-2494-bg_SmPC.json | currHeadId :- '13' | currParentHeadId :- '12.0' | prevParentHeadId :- '1'\n",
      "2021-05-11 02:38:06,521 : Heading Extraction emea-combined-h-2494-bg_SmPC.json : Validation Passed | H | CAP |  bg | 0 | emea-combined-h-2494-bg_SmPC.json | currHeadId :- '13' | currParentHeadId :- '12.0' | prevParentHeadId :- '1'\n",
      "2021-05-11 02:38:06,529 : Heading Extraction emea-combined-h-2494-bg_SmPC.json : Validation Failed By Style | H | CAP |  bg | 0 | emea-combined-h-2494-bg_SmPC.json | currHeadId :- '13' | currParentHeadId :- '12.0' | prevParentHeadId :- '1'\n",
      " популация' | Qrd txt :- 'Педиатрична популация' | Matched :- 'True'_SmPC.json : Match Passed | H | CAP |  bg | 0 | emea-combined-h-2494-bg_SmPC.json | Doc txt :- 'Педиатрична\n",
      "2021-05-11 02:38:06,566 : Heading Extraction emea-combined-h-2494-bg_SmPC.json : Validation Flow Is Broken | H | CAP |  bg | 0 | emea-combined-h-2494-bg_SmPC.json | currHeadId :- '19' | currParentHeadId :- '17.0' | prevParentHeadId :- '1'\n",
      "2021-05-11 02:38:06,576 : Heading Extraction emea-combined-h-2494-bg_SmPC.json : Validation Passed | H | CAP |  bg | 0 | emea-combined-h-2494-bg_SmPC.json | currHeadId :- '19' | currParentHeadId :- '17.0' | prevParentHeadId :- '1'\n",
      "2021-05-11 02:38:06,580 : Heading Extraction emea-combined-h-2494-bg_SmPC.json : Validation Failed By Style | H | CAP |  bg | 0 | emea-combined-h-2494-bg_SmPC.json | currHeadId :- '19' | currParentHeadId :- '17.0' | prevParentHeadId :- '1'\n",
      " популация' | Qrd txt :- 'Педиатрична популация' | Matched :- 'True'_SmPC.json : Match Passed | H | CAP |  bg | 0 | emea-combined-h-2494-bg_SmPC.json | Doc txt :- 'Педиатрична\n",
      "2021-05-11 02:38:06,608 : Heading Extraction emea-combined-h-2494-bg_SmPC.json : Validation Flow Is Broken | H | CAP |  bg | 0 | emea-combined-h-2494-bg_SmPC.json | currHeadId :- '21' | currParentHeadId :- '20.0' | prevParentHeadId :- '1'\n",
      "2021-05-11 02:38:06,618 : Heading Extraction emea-combined-h-2494-bg_SmPC.json : Validation Passed | H | CAP |  bg | 0 | emea-combined-h-2494-bg_SmPC.json | currHeadId :- '21' | currParentHeadId :- '20.0' | prevParentHeadId :- '1'\n",
      "2021-05-11 02:38:06,624 : Heading Extraction emea-combined-h-2494-bg_SmPC.json : Validation Failed By Style | H | CAP |  bg | 0 | emea-combined-h-2494-bg_SmPC.json | currHeadId :- '21' | currParentHeadId :- '20.0' | prevParentHeadId :- '1'\n",
      " популация' | Qrd txt :- 'Педиатрична популация' | Matched :- 'True'_SmPC.json : Match Passed | H | CAP |  bg | 0 | emea-combined-h-2494-bg_SmPC.json | Doc txt :- 'Педиатрична\n",
      "2021-05-11 02:38:06,661 : Heading Extraction emea-combined-h-2494-bg_SmPC.json : Validation Flow Is Broken | H | CAP |  bg | 0 | emea-combined-h-2494-bg_SmPC.json | currHeadId :- '28' | currParentHeadId :- '27.0' | prevParentHeadId :- '1'\n",
      "2021-05-11 02:38:06,671 : Heading Extraction emea-combined-h-2494-bg_SmPC.json : Validation Passed | H | CAP |  bg | 0 | emea-combined-h-2494-bg_SmPC.json | currHeadId :- '28' | currParentHeadId :- '27.0' | prevParentHeadId :- '1'\n",
      "2021-05-11 02:38:06,677 : Heading Extraction emea-combined-h-2494-bg_SmPC.json : Validation Failed By Style | H | CAP |  bg | 0 | emea-combined-h-2494-bg_SmPC.json | currHeadId :- '28' | currParentHeadId :- '27.0' | prevParentHeadId :- '1'\n",
      " популация' | Qrd txt :- 'Педиатрична популация' | Matched :- 'True'_SmPC.json : Match Passed | H | CAP |  bg | 0 | emea-combined-h-2494-bg_SmPC.json | Doc txt :- 'Педиатрична\n",
      "2021-05-11 02:38:06,700 : Heading Extraction emea-combined-h-2494-bg_SmPC.json : Validation Flow Is Broken | H | CAP |  bg | 0 | emea-combined-h-2494-bg_SmPC.json | currHeadId :- '31' | currParentHeadId :- '30.0' | prevParentHeadId :- '1'\n"
     ]
    },
    {
     "name": "stdout",
     "output_type": "stream",
     "text": [
      "----------------------------------\n",
      "RemovedByStyle\n",
      "----------------------------------\n",
      "----------------------------------\n",
      "RemovedByStyle\n",
      "----------------------------------\n",
      "----------------------------------\n",
      "RemovedByStyle\n",
      "----------------------------------\n",
      "----------------------------------\n",
      "RemovedByStyle\n",
      "----------------------------------\n"
     ]
    },
    {
     "name": "stderr",
     "output_type": "stream",
     "text": [
      "2021-05-11 02:38:06,714 : Heading Extraction emea-combined-h-2494-bg_SmPC.json : Validation Passed | H | CAP |  bg | 0 | emea-combined-h-2494-bg_SmPC.json | currHeadId :- '31' | currParentHeadId :- '30.0' | prevParentHeadId :- '1'\n",
      "2021-05-11 02:38:06,722 : Heading Extraction emea-combined-h-2494-bg_SmPC.json : Validation Failed By Style | H | CAP |  bg | 0 | emea-combined-h-2494-bg_SmPC.json | currHeadId :- '31' | currParentHeadId :- '30.0' | prevParentHeadId :- '1'\n",
      " популация' | Qrd txt :- 'Педиатрична популация' | Matched :- 'True'_SmPC.json : Match Passed | H | CAP |  bg | 0 | emea-combined-h-2494-bg_SmPC.json | Doc txt :- 'Педиатрична\n",
      "2021-05-11 02:38:06,756 : Heading Extraction emea-combined-h-2494-bg_SmPC.json : Validation Flow Is Broken | H | CAP |  bg | 0 | emea-combined-h-2494-bg_SmPC.json | currHeadId :- '37' | currParentHeadId :- '33.0' | prevParentHeadId :- '1'\n",
      "2021-05-11 02:38:06,770 : Heading Extraction emea-combined-h-2494-bg_SmPC.json : Validation Passed | H | CAP |  bg | 0 | emea-combined-h-2494-bg_SmPC.json | currHeadId :- '37' | currParentHeadId :- '33.0' | prevParentHeadId :- '1'\n",
      "2021-05-11 02:38:06,776 : Heading Extraction emea-combined-h-2494-bg_SmPC.json : Validation Failed By Style | H | CAP |  bg | 0 | emea-combined-h-2494-bg_SmPC.json | currHeadId :- '37' | currParentHeadId :- '33.0' | prevParentHeadId :- '1'\n"
     ]
    },
    {
     "name": "stdout",
     "output_type": "stream",
     "text": [
      "----------------------------------\n",
      "RemovedByStyle\n",
      "----------------------------------\n",
      "----------------------------------\n",
      "RemovedByStyle\n",
      "----------------------------------\n"
     ]
    },
    {
     "name": "stderr",
     "output_type": "stream",
     "text": [
      " възрастни. ' | Qrd txt :- '6.5 Вид и съдържание на опаковката <и специални приспособления за употреба, приложение или имплантиране>' | Matched :- 'False'c txt :- 'Проучвания\n",
      " кърмене' | Qrd txt :- '4.6 Фертилитет, бременност и кърмене' | Matched :- 'True'Match Passed | H | CAP |  bg | 0 | emea-combined-h-2494-bg_SmPC.json | Doc txt :- '4.6     Фертилитет,\n",
      "2021-05-11 02:38:07,629 : Heading Extraction emea-combined-h-2494-bg_SmPC.json : Validation Flow Is Broken | H | CAP |  bg | 0 | emea-combined-h-2494-bg_SmPC.json | currHeadId :- '22' | currParentHeadId :- '9.0' | prevParentHeadId :- '1'\n",
      "2021-05-11 02:38:07,636 : Heading Extraction emea-combined-h-2494-bg_SmPC.json : Validation Passed | H | CAP |  bg | 0 | emea-combined-h-2494-bg_SmPC.json | currHeadId :- '22' | currParentHeadId :- '9.0' | prevParentHeadId :- '1'\n",
      "2021-05-11 02:38:07,644 : Heading Extraction emea-combined-h-2494-bg_SmPC.json : Validation Failed By Style | H | CAP |  bg | 0 | emea-combined-h-2494-bg_SmPC.json | currHeadId :- '22' | currParentHeadId :- '9.0' | prevParentHeadId :- '1'\n"
     ]
    },
    {
     "name": "stdout",
     "output_type": "stream",
     "text": [
      "----------------------------------\n",
      "RemovedByStyle\n",
      "----------------------------------\n"
     ]
    },
    {
     "name": "stderr",
     "output_type": "stream",
     "text": [
      " ' | Qrd txt :- '4.6 Фертилитет, бременност и кърмене' | Matched :- 'False'son : Match Failed In Lowercase | H | CAP |  bg | 0 | emea-combined-h-2494-bg_SmPC.json | Doc txt :- 'Бременност\n",
      " ' | Qrd txt :- 'Бременност' | Matched :- 'True'a-combined-h-2494-bg_SmPC.json : Match Passed | H | CAP |  bg | 0 | emea-combined-h-2494-bg_SmPC.json | Doc txt :- 'Бременност\n",
      "2021-05-11 02:38:08,203 : Heading Extraction emea-combined-h-2494-bg_SmPC.json : Validation Flow Is Broken | H | CAP |  bg | 0 | emea-combined-h-2494-bg_SmPC.json | currHeadId :- '23' | currParentHeadId :- '22.0' | prevParentHeadId :- '1'\n",
      "2021-05-11 02:38:08,218 : Heading Extraction emea-combined-h-2494-bg_SmPC.json : Validation Passed | H | CAP |  bg | 0 | emea-combined-h-2494-bg_SmPC.json | currHeadId :- '23' | currParentHeadId :- '22.0' | prevParentHeadId :- '1'\n",
      "2021-05-11 02:38:08,225 : Heading Extraction emea-combined-h-2494-bg_SmPC.json : Validation Failed By Style | H | CAP |  bg | 0 | emea-combined-h-2494-bg_SmPC.json | currHeadId :- '23' | currParentHeadId :- '22.0' | prevParentHeadId :- '1'\n"
     ]
    },
    {
     "name": "stdout",
     "output_type": "stream",
     "text": [
      "\n",
      "OriginalCheck\n",
      "\n",
      "----------------------------------\n",
      "RemovedByStyle\n",
      "----------------------------------\n"
     ]
    },
    {
     "name": "stderr",
     "output_type": "stream",
     "text": [
      "2021-05-11 02:38:08,497 : Heading Extraction emea-combined-h-2494-bg_SmPC.json : Match Failed In Lowercase | H | CAP |  bg | 0 | emea-combined-h-2494-bg_SmPC.json | Doc txt :- 'Кърмене' | Qrd txt :- '4.6 Фертилитет, бременност и кърмене' | Matched :- 'False'\n",
      "2021-05-11 02:38:08,502 : Heading Extraction emea-combined-h-2494-bg_SmPC.json : Match Passed | H | CAP |  bg | 0 | emea-combined-h-2494-bg_SmPC.json | Doc txt :- 'Кърмене' | Qrd txt :- 'Кърмене' | Matched :- 'True'\n",
      "2021-05-11 02:38:08,517 : Heading Extraction emea-combined-h-2494-bg_SmPC.json : Validation Flow Is Broken | H | CAP |  bg | 0 | emea-combined-h-2494-bg_SmPC.json | currHeadId :- '24' | currParentHeadId :- '22.0' | prevParentHeadId :- '1'\n",
      "2021-05-11 02:38:08,533 : Heading Extraction emea-combined-h-2494-bg_SmPC.json : Validation Passed | H | CAP |  bg | 0 | emea-combined-h-2494-bg_SmPC.json | currHeadId :- '24' | currParentHeadId :- '22.0' | prevParentHeadId :- '1'\n",
      "2021-05-11 02:38:08,544 : Heading Extraction emea-combined-h-2494-bg_SmPC.json : Validation Failed By Style | H | CAP |  bg | 0 | emea-combined-h-2494-bg_SmPC.json | currHeadId :- '24' | currParentHeadId :- '22.0' | prevParentHeadId :- '1'\n"
     ]
    },
    {
     "name": "stdout",
     "output_type": "stream",
     "text": [
      "\n",
      "OriginalCheck\n",
      "\n",
      "----------------------------------\n",
      "RemovedByStyle\n",
      "----------------------------------\n"
     ]
    },
    {
     "name": "stderr",
     "output_type": "stream",
     "text": [
      "2021-05-11 02:38:08,798 : Heading Extraction emea-combined-h-2494-bg_SmPC.json : Match Failed In Lowercase | H | CAP |  bg | 0 | emea-combined-h-2494-bg_SmPC.json | Doc txt :- 'Фертилитет' | Qrd txt :- '4.6 Фертилитет, бременност и кърмене' | Matched :- 'False'\n",
      "2021-05-11 02:38:08,809 : Heading Extraction emea-combined-h-2494-bg_SmPC.json : Match Passed | H | CAP |  bg | 0 | emea-combined-h-2494-bg_SmPC.json | Doc txt :- 'Фертилитет' | Qrd txt :- 'Фертилитет' | Matched :- 'True'\n",
      "2021-05-11 02:38:08,823 : Heading Extraction emea-combined-h-2494-bg_SmPC.json : Validation Flow Is Broken | H | CAP |  bg | 0 | emea-combined-h-2494-bg_SmPC.json | currHeadId :- '25' | currParentHeadId :- '22.0' | prevParentHeadId :- '1'\n",
      "2021-05-11 02:38:08,843 : Heading Extraction emea-combined-h-2494-bg_SmPC.json : Validation Passed | H | CAP |  bg | 0 | emea-combined-h-2494-bg_SmPC.json | currHeadId :- '25' | currParentHeadId :- '22.0' | prevParentHeadId :- '1'\n",
      "2021-05-11 02:38:08,854 : Heading Extraction emea-combined-h-2494-bg_SmPC.json : Validation Failed By Style | H | CAP |  bg | 0 | emea-combined-h-2494-bg_SmPC.json | currHeadId :- '25' | currParentHeadId :- '22.0' | prevParentHeadId :- '1'\n"
     ]
    },
    {
     "name": "stdout",
     "output_type": "stream",
     "text": [
      "\n",
      "OriginalCheck\n",
      "\n",
      "----------------------------------\n",
      "RemovedByStyle\n",
      "----------------------------------\n"
     ]
    },
    {
     "name": "stderr",
     "output_type": "stream",
     "text": [
      " машини' | Qrd txt :- '4.7 Ефекти върху способността за шофиране и работа с машини' | Matched :- 'True' |  bg | 0 | emea-combined-h-2494-bg_SmPC.json | Doc txt :- '4.7     Ефекти\n",
      "2021-05-11 02:38:09,770 : Heading Extraction emea-combined-h-2494-bg_SmPC.json : Validation Flow Is Broken | H | CAP |  bg | 0 | emea-combined-h-2494-bg_SmPC.json | currHeadId :- '26' | currParentHeadId :- '9.0' | prevParentHeadId :- '1'\n",
      "2021-05-11 02:38:09,778 : Heading Extraction emea-combined-h-2494-bg_SmPC.json : Validation Passed | H | CAP |  bg | 0 | emea-combined-h-2494-bg_SmPC.json | currHeadId :- '26' | currParentHeadId :- '9.0' | prevParentHeadId :- '1'\n",
      "2021-05-11 02:38:09,788 : Heading Extraction emea-combined-h-2494-bg_SmPC.json : Validation Failed By Style | H | CAP |  bg | 0 | emea-combined-h-2494-bg_SmPC.json | currHeadId :- '26' | currParentHeadId :- '9.0' | prevParentHeadId :- '1'\n"
     ]
    },
    {
     "name": "stdout",
     "output_type": "stream",
     "text": [
      "----------------------------------\n",
      "RemovedByStyle\n",
      "----------------------------------\n"
     ]
    },
    {
     "name": "stderr",
     "output_type": "stream",
     "text": [
      " машини' | Qrd txt :- '6.5 Вид и съдържание на опаковката <и специални приспособления за употреба, приложение или имплантиране>' | Matched :- 'False' | Doc txt :- '4.7     Ефекти\n",
      " реакции' | Qrd txt :- '4.8 Нежелани лекарствени реакции' | Matched :- 'True'n : Match Passed | H | CAP |  bg | 0 | emea-combined-h-2494-bg_SmPC.json | Doc txt :- '4.8     Нежелани\n",
      "2021-05-11 02:38:10,387 : Heading Extraction emea-combined-h-2494-bg_SmPC.json : Validation Flow Is Broken | H | CAP |  bg | 0 | emea-combined-h-2494-bg_SmPC.json | currHeadId :- '27' | currParentHeadId :- '9.0' | prevParentHeadId :- '1'\n",
      "2021-05-11 02:38:10,394 : Heading Extraction emea-combined-h-2494-bg_SmPC.json : Validation Passed | H | CAP |  bg | 0 | emea-combined-h-2494-bg_SmPC.json | currHeadId :- '27' | currParentHeadId :- '9.0' | prevParentHeadId :- '1'\n",
      "2021-05-11 02:38:10,405 : Heading Extraction emea-combined-h-2494-bg_SmPC.json : Validation Failed By Style | H | CAP |  bg | 0 | emea-combined-h-2494-bg_SmPC.json | currHeadId :- '27' | currParentHeadId :- '9.0' | prevParentHeadId :- '1'\n"
     ]
    },
    {
     "name": "stdout",
     "output_type": "stream",
     "text": [
      "----------------------------------\n",
      "RemovedByStyle\n",
      "----------------------------------\n"
     ]
    },
    {
     "name": "stderr",
     "output_type": "stream",
     "text": [
      " трансаминазите (вж. точка 4.4).' | Qrd txt :- '6.5 Вид и съдържание на опаковката <и специални приспособления за употреба, приложение или имплантиране>' | Matched :- 'False'\n",
      " реакции' | Qrd txt :- '6.6 Специални предпазни мерки при изхвърляне <и работа>' | Matched :- 'False'AP |  bg | 0 | emea-combined-h-2494-bg_SmPC.json | Doc txt :- 'Табличен\n",
      " тезакафтор/ивакафтор' | Qrd txt :- '6.5 Вид и съдържание на опаковката <и специални приспособления за употреба, приложение или имплантиране>' | Matched :- 'False''*Нежелана\n",
      " ивакафтор/тезакафтор/елексакафтор.' | Qrd txt :- '6.5 Вид и съдържание на опаковката <и специални приспособления за употреба, приложение или имплантиране>' | Matched :- 'False'\n",
      " реакции' | Qrd txt :- '6.5 Вид и съдържание на опаковката <и специални приспособления за употреба, приложение или имплантиране>' | Matched :- 'False'| Doc txt :- 'Описание\n",
      " реакции' | Qrd txt :- '6.6 Специални предпазни мерки при изхвърляне <и работа>' | Matched :- 'False'AP |  bg | 0 | emea-combined-h-2494-bg_SmPC.json | Doc txt :- 'Описание\n",
      " популация' | Qrd txt :- 'Педиатрична популация' | Matched :- 'True'_SmPC.json : Match Passed | H | CAP |  bg | 0 | emea-combined-h-2494-bg_SmPC.json | Doc txt :- 'Педиатрична\n",
      "2021-05-11 02:38:14,268 : Heading Extraction emea-combined-h-2494-bg_SmPC.json : Validation Flow Is Broken | H | CAP |  bg | 0 | emea-combined-h-2494-bg_SmPC.json | currHeadId :- '13' | currParentHeadId :- '12.0' | prevParentHeadId :- '1'\n",
      "2021-05-11 02:38:14,277 : Heading Extraction emea-combined-h-2494-bg_SmPC.json : Validation Passed | H | CAP |  bg | 0 | emea-combined-h-2494-bg_SmPC.json | currHeadId :- '13' | currParentHeadId :- '12.0' | prevParentHeadId :- '1'\n",
      "2021-05-11 02:38:14,281 : Heading Extraction emea-combined-h-2494-bg_SmPC.json : Validation Failed By Style | H | CAP |  bg | 0 | emea-combined-h-2494-bg_SmPC.json | currHeadId :- '13' | currParentHeadId :- '12.0' | prevParentHeadId :- '1'\n",
      " популация' | Qrd txt :- 'Педиатрична популация' | Matched :- 'True'_SmPC.json : Match Passed | H | CAP |  bg | 0 | emea-combined-h-2494-bg_SmPC.json | Doc txt :- 'Педиатрична\n",
      "2021-05-11 02:38:14,317 : Heading Extraction emea-combined-h-2494-bg_SmPC.json : Validation Flow Is Broken | H | CAP |  bg | 0 | emea-combined-h-2494-bg_SmPC.json | currHeadId :- '19' | currParentHeadId :- '17.0' | prevParentHeadId :- '1'\n",
      "2021-05-11 02:38:14,326 : Heading Extraction emea-combined-h-2494-bg_SmPC.json : Validation Passed | H | CAP |  bg | 0 | emea-combined-h-2494-bg_SmPC.json | currHeadId :- '19' | currParentHeadId :- '17.0' | prevParentHeadId :- '1'\n",
      "2021-05-11 02:38:14,330 : Heading Extraction emea-combined-h-2494-bg_SmPC.json : Validation Failed By Style | H | CAP |  bg | 0 | emea-combined-h-2494-bg_SmPC.json | currHeadId :- '19' | currParentHeadId :- '17.0' | prevParentHeadId :- '1'\n",
      " популация' | Qrd txt :- 'Педиатрична популация' | Matched :- 'True'_SmPC.json : Match Passed | H | CAP |  bg | 0 | emea-combined-h-2494-bg_SmPC.json | Doc txt :- 'Педиатрична\n",
      "2021-05-11 02:38:14,354 : Heading Extraction emea-combined-h-2494-bg_SmPC.json : Validation Flow Is Broken | H | CAP |  bg | 0 | emea-combined-h-2494-bg_SmPC.json | currHeadId :- '21' | currParentHeadId :- '20.0' | prevParentHeadId :- '1'\n",
      "2021-05-11 02:38:14,364 : Heading Extraction emea-combined-h-2494-bg_SmPC.json : Validation Passed | H | CAP |  bg | 0 | emea-combined-h-2494-bg_SmPC.json | currHeadId :- '21' | currParentHeadId :- '20.0' | prevParentHeadId :- '1'\n",
      "2021-05-11 02:38:14,368 : Heading Extraction emea-combined-h-2494-bg_SmPC.json : Validation Failed By Style | H | CAP |  bg | 0 | emea-combined-h-2494-bg_SmPC.json | currHeadId :- '21' | currParentHeadId :- '20.0' | prevParentHeadId :- '1'\n",
      " популация' | Qrd txt :- 'Педиатрична популация' | Matched :- 'True'_SmPC.json : Match Passed | H | CAP |  bg | 0 | emea-combined-h-2494-bg_SmPC.json | Doc txt :- 'Педиатрична\n",
      "2021-05-11 02:38:14,406 : Heading Extraction emea-combined-h-2494-bg_SmPC.json : Validation Flow Is Broken | H | CAP |  bg | 0 | emea-combined-h-2494-bg_SmPC.json | currHeadId :- '28' | currParentHeadId :- '27.0' | prevParentHeadId :- '1'\n",
      "2021-05-11 02:38:14,417 : Heading Extraction emea-combined-h-2494-bg_SmPC.json : Validation Passed | H | CAP |  bg | 0 | emea-combined-h-2494-bg_SmPC.json | currHeadId :- '28' | currParentHeadId :- '27.0' | prevParentHeadId :- '1'\n",
      "2021-05-11 02:38:14,424 : Heading Extraction emea-combined-h-2494-bg_SmPC.json : Validation Failed By Style | H | CAP |  bg | 0 | emea-combined-h-2494-bg_SmPC.json | currHeadId :- '28' | currParentHeadId :- '27.0' | prevParentHeadId :- '1'\n",
      " популация' | Qrd txt :- 'Педиатрична популация' | Matched :- 'True'_SmPC.json : Match Passed | H | CAP |  bg | 0 | emea-combined-h-2494-bg_SmPC.json | Doc txt :- 'Педиатрична\n",
      "2021-05-11 02:38:14,450 : Heading Extraction emea-combined-h-2494-bg_SmPC.json : Validation Flow Is Broken | H | CAP |  bg | 0 | emea-combined-h-2494-bg_SmPC.json | currHeadId :- '31' | currParentHeadId :- '30.0' | prevParentHeadId :- '1'\n"
     ]
    },
    {
     "name": "stdout",
     "output_type": "stream",
     "text": [
      "----------------------------------\n",
      "RemovedByStyle\n",
      "----------------------------------\n",
      "----------------------------------\n",
      "RemovedByStyle\n",
      "----------------------------------\n",
      "----------------------------------\n",
      "RemovedByStyle\n",
      "----------------------------------\n",
      "----------------------------------\n",
      "RemovedByStyle\n",
      "----------------------------------\n"
     ]
    },
    {
     "name": "stderr",
     "output_type": "stream",
     "text": [
      "2021-05-11 02:38:14,459 : Heading Extraction emea-combined-h-2494-bg_SmPC.json : Validation Passed | H | CAP |  bg | 0 | emea-combined-h-2494-bg_SmPC.json | currHeadId :- '31' | currParentHeadId :- '30.0' | prevParentHeadId :- '1'\n",
      "2021-05-11 02:38:14,464 : Heading Extraction emea-combined-h-2494-bg_SmPC.json : Validation Failed By Style | H | CAP |  bg | 0 | emea-combined-h-2494-bg_SmPC.json | currHeadId :- '31' | currParentHeadId :- '30.0' | prevParentHeadId :- '1'\n",
      " популация' | Qrd txt :- 'Педиатрична популация' | Matched :- 'True'_SmPC.json : Match Passed | H | CAP |  bg | 0 | emea-combined-h-2494-bg_SmPC.json | Doc txt :- 'Педиатрична\n",
      "2021-05-11 02:38:14,497 : Heading Extraction emea-combined-h-2494-bg_SmPC.json : Validation Flow Is Broken | H | CAP |  bg | 0 | emea-combined-h-2494-bg_SmPC.json | currHeadId :- '37' | currParentHeadId :- '33.0' | prevParentHeadId :- '1'\n",
      "2021-05-11 02:38:14,506 : Heading Extraction emea-combined-h-2494-bg_SmPC.json : Validation Passed | H | CAP |  bg | 0 | emea-combined-h-2494-bg_SmPC.json | currHeadId :- '37' | currParentHeadId :- '33.0' | prevParentHeadId :- '1'\n",
      "2021-05-11 02:38:14,512 : Heading Extraction emea-combined-h-2494-bg_SmPC.json : Validation Failed By Style | H | CAP |  bg | 0 | emea-combined-h-2494-bg_SmPC.json | currHeadId :- '37' | currParentHeadId :- '33.0' | prevParentHeadId :- '1'\n"
     ]
    },
    {
     "name": "stdout",
     "output_type": "stream",
     "text": [
      "----------------------------------\n",
      "RemovedByStyle\n",
      "----------------------------------\n",
      "----------------------------------\n",
      "RemovedByStyle\n",
      "----------------------------------\n"
     ]
    },
    {
     "name": "stderr",
     "output_type": "stream",
     "text": [
      " пациенти.' | Qrd txt :- '6.5 Вид и съдържание на опаковката <и специални приспособления за употреба, приложение или имплантиране>' | Matched :- 'False'Doc txt :- 'Профилът\n",
      " като монотерапия' | Qrd txt :- '6.5 Вид и съдържание на опаковката <и специални приспособления за употреба, приложение или имплантиране>' | Matched :- 'False' :- 'Таблица 5: Повишения\n",
      " реакции' | Qrd txt :- 'Съобщаване на подозирани нежелани реакции' | Matched :- 'True' Passed | H | CAP |  bg | 0 | emea-combined-h-2494-bg_SmPC.json | Doc txt :- 'Съобщаване\n",
      "2021-05-11 02:38:15,415 : Heading Extraction emea-combined-h-2494-bg_SmPC.json : Validation Flow Is Broken | H | CAP |  bg | 0 | emea-combined-h-2494-bg_SmPC.json | currHeadId :- '29' | currParentHeadId :- '27.0' | prevParentHeadId :- '1'\n",
      "2021-05-11 02:38:15,425 : Heading Extraction emea-combined-h-2494-bg_SmPC.json : Validation Passed | H | CAP |  bg | 0 | emea-combined-h-2494-bg_SmPC.json | currHeadId :- '29' | currParentHeadId :- '27.0' | prevParentHeadId :- '1'\n",
      "2021-05-11 02:38:15,431 : Heading Extraction emea-combined-h-2494-bg_SmPC.json : Validation Failed By Style | H | CAP |  bg | 0 | emea-combined-h-2494-bg_SmPC.json | currHeadId :- '29' | currParentHeadId :- '27.0' | prevParentHeadId :- '1'\n"
     ]
    },
    {
     "name": "stdout",
     "output_type": "stream",
     "text": [
      "----------------------------------\n",
      "RemovedByStyle\n",
      "----------------------------------\n"
     ]
    },
    {
     "name": "stderr",
     "output_type": "stream",
     "text": [
      "2021-05-11 02:38:15,708 : Heading Extraction emea-combined-h-2494-bg_SmPC.json : Match Passed | H | CAP |  bg | 0 | emea-combined-h-2494-bg_SmPC.json | Doc txt :- '4.9     Предозиране' | Qrd txt :- '4.9 Предозиране' | Matched :- 'True'\n",
      "2021-05-11 02:38:15,722 : Heading Extraction emea-combined-h-2494-bg_SmPC.json : Validation Flow Is Broken | H | CAP |  bg | 0 | emea-combined-h-2494-bg_SmPC.json | currHeadId :- '30' | currParentHeadId :- '9.0' | prevParentHeadId :- '1'\n",
      "2021-05-11 02:38:15,726 : Heading Extraction emea-combined-h-2494-bg_SmPC.json : Validation Passed | H | CAP |  bg | 0 | emea-combined-h-2494-bg_SmPC.json | currHeadId :- '30' | currParentHeadId :- '9.0' | prevParentHeadId :- '1'\n",
      "2021-05-11 02:38:15,732 : Heading Extraction emea-combined-h-2494-bg_SmPC.json : Validation Failed By Style | H | CAP |  bg | 0 | emea-combined-h-2494-bg_SmPC.json | currHeadId :- '30' | currParentHeadId :- '9.0' | prevParentHeadId :- '1'\n"
     ]
    },
    {
     "name": "stdout",
     "output_type": "stream",
     "text": [
      "----------------------------------\n",
      "RemovedByStyle\n",
      "----------------------------------\n"
     ]
    },
    {
     "name": "stderr",
     "output_type": "stream",
     "text": [
      " СВОЙСТВА ' | Qrd txt :- '5. ФАРМАКОЛОГИЧНИ СВОЙСТВА' | Matched :- 'True'.json : Match Passed | H | CAP |  bg | 0 | emea-combined-h-2494-bg_SmPC.json | Doc txt :- '5.       ФАРМАКОЛОГИЧНИ\n",
      "2021-05-11 02:38:15,982 : Heading Extraction emea-combined-h-2494-bg_SmPC.json : Validation Flow Is Broken | H | CAP |  bg | 0 | emea-combined-h-2494-bg_SmPC.json | currHeadId :- '32' | currParentHeadId :- '1.0' | prevParentHeadId :- '1'\n",
      "2021-05-11 02:38:15,988 : Heading Extraction emea-combined-h-2494-bg_SmPC.json : Validation Passed | H | CAP |  bg | 0 | emea-combined-h-2494-bg_SmPC.json | currHeadId :- '32' | currParentHeadId :- '1.0' | prevParentHeadId :- '1'\n",
      "2021-05-11 02:38:15,993 : Heading Extraction emea-combined-h-2494-bg_SmPC.json : Validation Failed By Style | H | CAP |  bg | 0 | emea-combined-h-2494-bg_SmPC.json | currHeadId :- '32' | currParentHeadId :- '1.0' | prevParentHeadId :- '1'\n"
     ]
    },
    {
     "name": "stdout",
     "output_type": "stream",
     "text": [
      "----------------------------------\n",
      "RemovedByStyle\n",
      "----------------------------------\n"
     ]
    },
    {
     "name": "stderr",
     "output_type": "stream",
     "text": [
      " свойства' | Qrd txt :- '5.1 Фармакодинамични свойства' | Matched :- 'True'son : Match Passed | H | CAP |  bg | 0 | emea-combined-h-2494-bg_SmPC.json | Doc txt :- '5.1     Фармакодинамични\n",
      "2021-05-11 02:38:16,293 : Heading Extraction emea-combined-h-2494-bg_SmPC.json : Validation Flow Is Broken | H | CAP |  bg | 0 | emea-combined-h-2494-bg_SmPC.json | currHeadId :- '33' | currParentHeadId :- '32.0' | prevParentHeadId :- '1'\n",
      "2021-05-11 02:38:16,299 : Heading Extraction emea-combined-h-2494-bg_SmPC.json : Validation Passed | H | CAP |  bg | 0 | emea-combined-h-2494-bg_SmPC.json | currHeadId :- '33' | currParentHeadId :- '32.0' | prevParentHeadId :- '1'\n",
      "2021-05-11 02:38:16,321 : Heading Extraction emea-combined-h-2494-bg_SmPC.json : Validation Failed By Style | H | CAP |  bg | 0 | emea-combined-h-2494-bg_SmPC.json | currHeadId :- '33' | currParentHeadId :- '32.0' | prevParentHeadId :- '1'\n",
      " свойства' | Qrd txt :- '5.2 Фармакокинетични свойства' | Matched :- 'False'on : Match Failed | H | CAP |  bg | 0 | emea-combined-h-2494-bg_SmPC.json | Doc txt :- '5.1     Фармакодинамични\n"
     ]
    },
    {
     "name": "stdout",
     "output_type": "stream",
     "text": [
      "----------------------------------\n",
      "RemovedByStyle\n",
      "----------------------------------\n"
     ]
    },
    {
     "name": "stderr",
     "output_type": "stream",
     "text": [
      " дихателната система,  ATC код: R07AX02' | Qrd txt :- '6.5 Вид и съдържание на опаковката <и специални приспособления за употреба, приложение или имплантиране>' | Matched :- 'False'на\n",
      " на действие' | Qrd txt :- 'Механизъм на действие' | Matched :- 'True'mPC.json : Match Passed | H | CAP |  bg | 0 | emea-combined-h-2494-bg_SmPC.json | Doc txt :- 'Механизъм\n",
      "2021-05-11 02:38:16,954 : Heading Extraction emea-combined-h-2494-bg_SmPC.json : Validation Flow Is Broken | H | CAP |  bg | 0 | emea-combined-h-2494-bg_SmPC.json | currHeadId :- '34' | currParentHeadId :- '33.0' | prevParentHeadId :- '1'\n",
      "2021-05-11 02:38:16,963 : Heading Extraction emea-combined-h-2494-bg_SmPC.json : Validation Passed | H | CAP |  bg | 0 | emea-combined-h-2494-bg_SmPC.json | currHeadId :- '34' | currParentHeadId :- '33.0' | prevParentHeadId :- '1'\n",
      "2021-05-11 02:38:16,969 : Heading Extraction emea-combined-h-2494-bg_SmPC.json : Validation Failed By Style | H | CAP |  bg | 0 | emea-combined-h-2494-bg_SmPC.json | currHeadId :- '34' | currParentHeadId :- '33.0' | prevParentHeadId :- '1'\n"
     ]
    },
    {
     "name": "stdout",
     "output_type": "stream",
     "text": [
      "----------------------------------\n",
      "RemovedByStyle\n",
      "----------------------------------\n"
     ]
    },
    {
     "name": "stderr",
     "output_type": "stream",
     "text": [
      " ефекти' | Qrd txt :- 'Фармакодинамични ефекти' | Matched :- 'True'g_SmPC.json : Match Passed | H | CAP |  bg | 0 | emea-combined-h-2494-bg_SmPC.json | Doc txt :- 'Фармакодинамични\n",
      "2021-05-11 02:38:17,255 : Heading Extraction emea-combined-h-2494-bg_SmPC.json : Validation Flow Is Broken | H | CAP |  bg | 0 | emea-combined-h-2494-bg_SmPC.json | currHeadId :- '35' | currParentHeadId :- '33.0' | prevParentHeadId :- '1'\n",
      "2021-05-11 02:38:17,265 : Heading Extraction emea-combined-h-2494-bg_SmPC.json : Validation Passed | H | CAP |  bg | 0 | emea-combined-h-2494-bg_SmPC.json | currHeadId :- '35' | currParentHeadId :- '33.0' | prevParentHeadId :- '1'\n",
      "2021-05-11 02:38:17,271 : Heading Extraction emea-combined-h-2494-bg_SmPC.json : Validation Failed By Style | H | CAP |  bg | 0 | emea-combined-h-2494-bg_SmPC.json | currHeadId :- '35' | currParentHeadId :- '33.0' | prevParentHeadId :- '1'\n"
     ]
    },
    {
     "name": "stdout",
     "output_type": "stream",
     "text": [
      "----------------------------------\n",
      "RemovedByStyle\n",
      "----------------------------------\n"
     ]
    },
    {
     "name": "stderr",
     "output_type": "stream",
     "text": [
      " безопасност' | Qrd txt :- 'Клинична ефикасност и безопасност' | Matched :- 'True'atch Passed | H | CAP |  bg | 0 | emea-combined-h-2494-bg_SmPC.json | Doc txt :- 'Клинична\n",
      "2021-05-11 02:38:18,707 : Heading Extraction emea-combined-h-2494-bg_SmPC.json : Validation Flow Is Broken | H | CAP |  bg | 0 | emea-combined-h-2494-bg_SmPC.json | currHeadId :- '36' | currParentHeadId :- '33.0' | prevParentHeadId :- '1'\n",
      "2021-05-11 02:38:18,718 : Heading Extraction emea-combined-h-2494-bg_SmPC.json : Validation Passed | H | CAP |  bg | 0 | emea-combined-h-2494-bg_SmPC.json | currHeadId :- '36' | currParentHeadId :- '33.0' | prevParentHeadId :- '1'\n",
      "2021-05-11 02:38:18,724 : Heading Extraction emea-combined-h-2494-bg_SmPC.json : Validation Failed By Style | H | CAP |  bg | 0 | emea-combined-h-2494-bg_SmPC.json | currHeadId :- '36' | currParentHeadId :- '33.0' | prevParentHeadId :- '1'\n"
     ]
    },
    {
     "name": "stdout",
     "output_type": "stream",
     "text": [
      "----------------------------------\n",
      "RemovedByStyle\n",
      "----------------------------------\n"
     ]
    },
    {
     "name": "stderr",
     "output_type": "stream",
     "text": [
      " каналопатии ' | Qrd txt :- '6.5 Вид и съдържание на опаковката <и специални приспособления за употреба, приложение или имплантиране>' | Matched :- 'False' txt :- 'Проучвания 1\n",
      " лечение. ' | Qrd txt :- '6.5 Вид и съдържание на опаковката <и специални приспособления за употреба, приложение или имплантиране>' | Matched :- 'False'Doc txt :- 'Първичната\n",
      " са дадени в Таблица 6.' | Qrd txt :- '6.5 Вид и съдържание на опаковката <и специални приспособления за употреба, приложение или имплантиране>' | Matched :- 'False'езултатите\n",
      " проучванията1 и2' | Qrd txt :- '6.5 Вид и съдържание на опаковката <и специални приспособления за употреба, приложение или имплантиране>' | Matched :- 'False' :- 'Таблица 6:\n",
      " събитията' | Qrd txt :- '6.5 Вид и съдържание на опаковката <и специални приспособления за употреба, приложение или имплантиране>' | Matched :- 'False'Doc txt :- 'ДИ:\n",
      " събитията' | Qrd txt :- '6.6 Специални предпазни мерки при изхвърляне <и работа>' | Matched :- 'False' |  bg | 0 | emea-combined-h-2494-bg_SmPC.json | Doc txt :- 'ДИ:\n",
      " на плацебо' | Qrd txt :- '6.5 Вид и съдържание на опаковката <и специални приспособления за употреба, приложение или имплантиране>' | Matched :- 'False'oc txt :- 'a        Разлика\n",
      " КФ.' | Qrd txt :- '6.5 Вид и съдържание на опаковката <и специални приспособления за употреба, приложение или имплантиране>' | Matched :- 'False'son | Doc txt :- 'б     CFQ-R:\n",
      " екзацербация' | Qrd txt :- '6.5 Вид и съдържание на опаковката <и специални приспособления за употреба, приложение или имплантиране>' | Matched :- 'False' txt :- 'г        Коефициент\n",
      " екзацербация' | Qrd txt :- '6.6 Специални предпазни мерки при изхвърляне <и работа>' | Matched :- 'False' bg | 0 | emea-combined-h-2494-bg_SmPC.json | Doc txt :- 'г        Коефициент\n",
      " ' | Qrd txt :- '6.5 Вид и съдържание на опаковката <и специални приспособления за употреба, приложение или имплантиране>' | Matched :- 'False'C.json | Doc txt :- 'Проучване 5:\n",
      " мутации' | Qrd txt :- '6.5 Вид и съдържание на опаковката <и специални приспособления за употреба, приложение или имплантиране>' | Matched :- 'False'| Doc txt :- 'Таблица 7: Ефект\n",
      " мутации.' | Qrd txt :- '6.5 Вид и съдържание на опаковката <и специални приспособления за употреба, приложение или имплантиране>' | Matched :- 'False' Doc txt :- '*     Статистическо\n",
      " мутации.' | Qrd txt :- '6.6 Специални предпазни мерки при изхвърляне <и работа>' | Matched :- 'False'P |  bg | 0 | emea-combined-h-2494-bg_SmPC.json | Doc txt :- '*     Статистическо\n",
      " йони в потта.' | Qrd txt :- '6.5 Вид и съдържание на опаковката <и специални приспособления за употреба, приложение или имплантиране>' | Matched :- 'False'txt :- '††n=3 за\n",
      " му.' | Qrd txt :- '6.5 Вид и съдържание на опаковката <и специални приспособления за употреба, приложение или имплантиране>' | Matched :- 'False'son | Doc txt :- '#     Причинява\n"
     ]
    },
    {
     "ename": "KeyboardInterrupt",
     "evalue": "",
     "output_type": "error",
     "traceback": [
      "\u001b[1;31m---------------------------------------------------------------------------\u001b[0m",
      "\u001b[1;31mKeyboardInterrupt\u001b[0m                         Traceback (most recent call last)",
      "\u001b[1;32m<ipython-input-4-794f23f6ec05>\u001b[0m in \u001b[0;36m<module>\u001b[1;34m\u001b[0m\n\u001b[1;32m----> 1\u001b[1;33m \u001b[0mparseDocument\u001b[0m\u001b[1;33m(\u001b[0m\u001b[1;34m\"F:\\\\Projects\\\\EMA\\\\Repository\\\\EMA EPI PoC\\\\function_code\\\\data\\\\converted_to_html\\\\H\\\\CAP\\\\bg\\\\emea-combined-h-2494-bg.htm\"\u001b[0m\u001b[1;33m,\u001b[0m \u001b[0mfileNameQrd\u001b[0m\u001b[1;33m,\u001b[0m \u001b[0mfileNameMatchRuleBook\u001b[0m\u001b[1;33m,\u001b[0m \u001b[0mfileNameDocumentTypeNames\u001b[0m\u001b[1;33m,\u001b[0m \u001b[0mmedName\u001b[0m \u001b[1;33m=\u001b[0m \u001b[1;34m\"Kalydeco\"\u001b[0m\u001b[1;33m,\u001b[0m \u001b[0mfsMountName\u001b[0m \u001b[1;33m=\u001b[0m \u001b[1;34m'/mounted'\u001b[0m\u001b[1;33m,\u001b[0m \u001b[0mlocalEnv\u001b[0m\u001b[1;33m=\u001b[0m \u001b[1;32mTrue\u001b[0m\u001b[1;33m)\u001b[0m\u001b[1;33m\u001b[0m\u001b[1;33m\u001b[0m\u001b[0m\n\u001b[0m",
      "\u001b[1;32m<ipython-input-3-e86f009039f1>\u001b[0m in \u001b[0;36mparseDocument\u001b[1;34m(htmlDocPath, fileNameQrd, fileNameMatchRuleBook, fileNameDocumentTypeNames, fsMountName, localEnv, medName)\u001b[0m\n\u001b[0;32m    263\u001b[0m                                     \u001b[0mmedName\u001b[0m\u001b[1;33m=\u001b[0m\u001b[0mmedName\u001b[0m\u001b[1;33m,\u001b[0m\u001b[1;33m\u001b[0m\u001b[1;33m\u001b[0m\u001b[0m\n\u001b[0;32m    264\u001b[0m                                     \u001b[0mfsMountName\u001b[0m\u001b[1;33m=\u001b[0m\u001b[0mfsMountName\u001b[0m\u001b[1;33m,\u001b[0m\u001b[1;33m\u001b[0m\u001b[1;33m\u001b[0m\u001b[0m\n\u001b[1;32m--> 265\u001b[1;33m                                     localEnv=localEnv)\n\u001b[0m\u001b[0;32m    266\u001b[0m \u001b[1;33m\u001b[0m\u001b[0m\n\u001b[0;32m    267\u001b[0m \u001b[1;33m\u001b[0m\u001b[0m\n",
      "\u001b[1;32m<ipython-input-3-e86f009039f1>\u001b[0m in \u001b[0;36mextractAndValidateHeadings\u001b[1;34m(domain, procedureType, languageCode, documentNumber, fileNameDoc, fileNameQrd, fileNameMatchRuleBook, fileNameDocumentTypeNames, fileNameLog, stopWordFilterLen, isPackageLeaflet, medName, fsMountName, localEnv)\u001b[0m\n\u001b[0;32m    194\u001b[0m         \u001b[0mfsMountName\u001b[0m\u001b[1;33m,\u001b[0m\u001b[1;33m\u001b[0m\u001b[1;33m\u001b[0m\u001b[0m\n\u001b[0;32m    195\u001b[0m         localEnv)\n\u001b[1;32m--> 196\u001b[1;33m     \u001b[0mdf\u001b[0m\u001b[1;33m,\u001b[0m \u001b[0mcoll\u001b[0m \u001b[1;33m=\u001b[0m \u001b[0mmatchDocObj\u001b[0m\u001b[1;33m.\u001b[0m\u001b[0mmatchHtmlHeaddingsWithQrd\u001b[0m\u001b[1;33m(\u001b[0m\u001b[1;33m)\u001b[0m\u001b[1;33m\u001b[0m\u001b[1;33m\u001b[0m\u001b[0m\n\u001b[0m\u001b[0;32m    197\u001b[0m \u001b[1;33m\u001b[0m\u001b[0m\n\u001b[0;32m    198\u001b[0m     \u001b[1;32mreturn\u001b[0m \u001b[0mdf\u001b[0m\u001b[1;33m,\u001b[0m \u001b[0mcoll\u001b[0m\u001b[1;33m\u001b[0m\u001b[1;33m\u001b[0m\u001b[0m\n",
      "\u001b[1;32mF:\\Projects\\EMA\\Repository\\EMA EPI PoC\\function_code\\code\\match\\matchDocument\\matchDocument.py\u001b[0m in \u001b[0;36mmatchHtmlHeaddingsWithQrd\u001b[1;34m(self)\u001b[0m\n\u001b[0;32m    378\u001b[0m                             \u001b[1;31m# Call matching algorith\u001b[0m\u001b[1;33m\u001b[0m\u001b[1;33m\u001b[0m\u001b[1;33m\u001b[0m\u001b[0m\n\u001b[0;32m    379\u001b[0m                             found, outputString = matchStringObj.matchStrings(\n\u001b[1;32m--> 380\u001b[1;33m                                 str_['Text'], qrd_str, qrd_str_row['heading_id'])\n\u001b[0m\u001b[0;32m    381\u001b[0m \u001b[1;33m\u001b[0m\u001b[0m\n\u001b[0;32m    382\u001b[0m                             \u001b[1;32mif\u001b[0m \u001b[0mfound\u001b[0m\u001b[1;33m:\u001b[0m\u001b[1;33m\u001b[0m\u001b[1;33m\u001b[0m\u001b[0m\n",
      "\u001b[1;32mF:\\Projects\\EMA\\Repository\\EMA EPI PoC\\function_code\\code\\match\\matchStrings\\matchStrings.py\u001b[0m in \u001b[0;36mmatchStrings\u001b[1;34m(self, textOriginal, textToMatch, qrdRowHeadingId, avoidLowerCaseMatch)\u001b[0m\n\u001b[0;32m    254\u001b[0m         \u001b[1;31m# Fuzzy match\u001b[0m\u001b[1;33m\u001b[0m\u001b[1;33m\u001b[0m\u001b[1;33m\u001b[0m\u001b[0m\n\u001b[0;32m    255\u001b[0m         fuzzyOutput, fuzzyScoreOutput = self.fuzzySimilarity(\n\u001b[1;32m--> 256\u001b[1;33m             textOriginal1, textToMatch1, ruleDict1)\n\u001b[0m\u001b[0;32m    257\u001b[0m         \u001b[0mresultSum\u001b[0m \u001b[1;33m=\u001b[0m \u001b[0mresultSum\u001b[0m \u001b[1;33m+\u001b[0m \u001b[0mfuzzyOutput\u001b[0m\u001b[1;33m\u001b[0m\u001b[1;33m\u001b[0m\u001b[0m\n\u001b[0;32m    258\u001b[0m         \u001b[0moutputString\u001b[0m \u001b[1;33m=\u001b[0m \u001b[0moutputString\u001b[0m \u001b[1;33m+\u001b[0m \u001b[0mstr\u001b[0m\u001b[1;33m(\u001b[0m\u001b[0mfuzzyScoreOutput\u001b[0m\u001b[1;33m)\u001b[0m \u001b[1;33m+\u001b[0m \u001b[1;34m\"|\"\u001b[0m\u001b[1;33m\u001b[0m\u001b[1;33m\u001b[0m\u001b[0m\n",
      "\u001b[1;32mF:\\Projects\\EMA\\Repository\\EMA EPI PoC\\function_code\\code\\match\\matchStrings\\matchStrings.py\u001b[0m in \u001b[0;36mfuzzySimilarity\u001b[1;34m(self, textOriginal, textToMatch, ruleDict)\u001b[0m\n\u001b[0;32m     74\u001b[0m         \u001b[0mfuzzyScore_r\u001b[0m \u001b[1;33m=\u001b[0m \u001b[0mfuzz\u001b[0m\u001b[1;33m.\u001b[0m\u001b[0mratio\u001b[0m\u001b[1;33m(\u001b[0m\u001b[0mtextOriginal\u001b[0m\u001b[1;33m,\u001b[0m \u001b[0mtextToMatch\u001b[0m\u001b[1;33m)\u001b[0m\u001b[1;33m\u001b[0m\u001b[1;33m\u001b[0m\u001b[0m\n\u001b[0;32m     75\u001b[0m         \u001b[0mfuzzyScore_pr\u001b[0m \u001b[1;33m=\u001b[0m \u001b[0mfuzz\u001b[0m\u001b[1;33m.\u001b[0m\u001b[0mpartial_ratio\u001b[0m\u001b[1;33m(\u001b[0m\u001b[0mtextOriginal\u001b[0m\u001b[1;33m,\u001b[0m \u001b[0mtextToMatch\u001b[0m\u001b[1;33m)\u001b[0m\u001b[1;33m\u001b[0m\u001b[1;33m\u001b[0m\u001b[0m\n\u001b[1;32m---> 76\u001b[1;33m         \u001b[0mfuzzyScore_wr\u001b[0m \u001b[1;33m=\u001b[0m \u001b[0mfuzz\u001b[0m\u001b[1;33m.\u001b[0m\u001b[0mWRatio\u001b[0m\u001b[1;33m(\u001b[0m\u001b[0mtextOriginal\u001b[0m\u001b[1;33m,\u001b[0m \u001b[0mtextToMatch\u001b[0m\u001b[1;33m)\u001b[0m\u001b[1;33m\u001b[0m\u001b[1;33m\u001b[0m\u001b[0m\n\u001b[0m\u001b[0;32m     77\u001b[0m         \u001b[0moutputScores\u001b[0m \u001b[1;33m=\u001b[0m \u001b[1;33m(\u001b[0m\u001b[0mfuzzyScore_r\u001b[0m\u001b[1;33m,\u001b[0m \u001b[0mfuzzyScore_pr\u001b[0m\u001b[1;33m,\u001b[0m \u001b[0mfuzzyScore_wr\u001b[0m\u001b[1;33m)\u001b[0m\u001b[1;33m\u001b[0m\u001b[1;33m\u001b[0m\u001b[0m\n\u001b[0;32m     78\u001b[0m \u001b[1;33m\u001b[0m\u001b[0m\n",
      "\u001b[1;32m~\\AppData\\Local\\Continuum\\anaconda3\\lib\\site-packages\\fuzzywuzzy\\fuzz.py\u001b[0m in \u001b[0;36mWRatio\u001b[1;34m(s1, s2, force_ascii, full_process)\u001b[0m\n\u001b[0;32m    286\u001b[0m \u001b[1;33m\u001b[0m\u001b[0m\n\u001b[0;32m    287\u001b[0m     \u001b[1;32mif\u001b[0m \u001b[0mtry_partial\u001b[0m\u001b[1;33m:\u001b[0m\u001b[1;33m\u001b[0m\u001b[1;33m\u001b[0m\u001b[0m\n\u001b[1;32m--> 288\u001b[1;33m         \u001b[0mpartial\u001b[0m \u001b[1;33m=\u001b[0m \u001b[0mpartial_ratio\u001b[0m\u001b[1;33m(\u001b[0m\u001b[0mp1\u001b[0m\u001b[1;33m,\u001b[0m \u001b[0mp2\u001b[0m\u001b[1;33m)\u001b[0m \u001b[1;33m*\u001b[0m \u001b[0mpartial_scale\u001b[0m\u001b[1;33m\u001b[0m\u001b[1;33m\u001b[0m\u001b[0m\n\u001b[0m\u001b[0;32m    289\u001b[0m         \u001b[0mptsor\u001b[0m \u001b[1;33m=\u001b[0m \u001b[0mpartial_token_sort_ratio\u001b[0m\u001b[1;33m(\u001b[0m\u001b[0mp1\u001b[0m\u001b[1;33m,\u001b[0m \u001b[0mp2\u001b[0m\u001b[1;33m,\u001b[0m \u001b[0mfull_process\u001b[0m\u001b[1;33m=\u001b[0m\u001b[1;32mFalse\u001b[0m\u001b[1;33m)\u001b[0m\u001b[0;31m \u001b[0m\u001b[0;31m\\\u001b[0m\u001b[1;33m\u001b[0m\u001b[1;33m\u001b[0m\u001b[0m\n\u001b[0;32m    290\u001b[0m             \u001b[1;33m*\u001b[0m \u001b[0munbase_scale\u001b[0m \u001b[1;33m*\u001b[0m \u001b[0mpartial_scale\u001b[0m\u001b[1;33m\u001b[0m\u001b[1;33m\u001b[0m\u001b[0m\n",
      "\u001b[1;32m~\\AppData\\Local\\Continuum\\anaconda3\\lib\\site-packages\\fuzzywuzzy\\utils.py\u001b[0m in \u001b[0;36mdecorator\u001b[1;34m(*args, **kwargs)\u001b[0m\n\u001b[0;32m     36\u001b[0m         \u001b[1;32mif\u001b[0m \u001b[0margs\u001b[0m\u001b[1;33m[\u001b[0m\u001b[1;36m0\u001b[0m\u001b[1;33m]\u001b[0m \u001b[1;32mis\u001b[0m \u001b[1;32mNone\u001b[0m \u001b[1;32mor\u001b[0m \u001b[0margs\u001b[0m\u001b[1;33m[\u001b[0m\u001b[1;36m1\u001b[0m\u001b[1;33m]\u001b[0m \u001b[1;32mis\u001b[0m \u001b[1;32mNone\u001b[0m\u001b[1;33m:\u001b[0m\u001b[1;33m\u001b[0m\u001b[1;33m\u001b[0m\u001b[0m\n\u001b[0;32m     37\u001b[0m             \u001b[1;32mreturn\u001b[0m \u001b[1;36m0\u001b[0m\u001b[1;33m\u001b[0m\u001b[1;33m\u001b[0m\u001b[0m\n\u001b[1;32m---> 38\u001b[1;33m         \u001b[1;32mreturn\u001b[0m \u001b[0mfunc\u001b[0m\u001b[1;33m(\u001b[0m\u001b[1;33m*\u001b[0m\u001b[0margs\u001b[0m\u001b[1;33m,\u001b[0m \u001b[1;33m**\u001b[0m\u001b[0mkwargs\u001b[0m\u001b[1;33m)\u001b[0m\u001b[1;33m\u001b[0m\u001b[1;33m\u001b[0m\u001b[0m\n\u001b[0m\u001b[0;32m     39\u001b[0m     \u001b[1;32mreturn\u001b[0m \u001b[0mdecorator\u001b[0m\u001b[1;33m\u001b[0m\u001b[1;33m\u001b[0m\u001b[0m\n\u001b[0;32m     40\u001b[0m \u001b[1;33m\u001b[0m\u001b[0m\n",
      "\u001b[1;32m~\\AppData\\Local\\Continuum\\anaconda3\\lib\\site-packages\\fuzzywuzzy\\utils.py\u001b[0m in \u001b[0;36mdecorator\u001b[1;34m(*args, **kwargs)\u001b[0m\n\u001b[0;32m     27\u001b[0m         \u001b[1;32mif\u001b[0m \u001b[0margs\u001b[0m\u001b[1;33m[\u001b[0m\u001b[1;36m0\u001b[0m\u001b[1;33m]\u001b[0m \u001b[1;33m==\u001b[0m \u001b[0margs\u001b[0m\u001b[1;33m[\u001b[0m\u001b[1;36m1\u001b[0m\u001b[1;33m]\u001b[0m\u001b[1;33m:\u001b[0m\u001b[1;33m\u001b[0m\u001b[1;33m\u001b[0m\u001b[0m\n\u001b[0;32m     28\u001b[0m             \u001b[1;32mreturn\u001b[0m \u001b[1;36m100\u001b[0m\u001b[1;33m\u001b[0m\u001b[1;33m\u001b[0m\u001b[0m\n\u001b[1;32m---> 29\u001b[1;33m         \u001b[1;32mreturn\u001b[0m \u001b[0mfunc\u001b[0m\u001b[1;33m(\u001b[0m\u001b[1;33m*\u001b[0m\u001b[0margs\u001b[0m\u001b[1;33m,\u001b[0m \u001b[1;33m**\u001b[0m\u001b[0mkwargs\u001b[0m\u001b[1;33m)\u001b[0m\u001b[1;33m\u001b[0m\u001b[1;33m\u001b[0m\u001b[0m\n\u001b[0m\u001b[0;32m     30\u001b[0m     \u001b[1;32mreturn\u001b[0m \u001b[0mdecorator\u001b[0m\u001b[1;33m\u001b[0m\u001b[1;33m\u001b[0m\u001b[0m\n\u001b[0;32m     31\u001b[0m \u001b[1;33m\u001b[0m\u001b[0m\n",
      "\u001b[1;32m~\\AppData\\Local\\Continuum\\anaconda3\\lib\\site-packages\\fuzzywuzzy\\utils.py\u001b[0m in \u001b[0;36mdecorator\u001b[1;34m(*args, **kwargs)\u001b[0m\n\u001b[0;32m     45\u001b[0m         \u001b[1;32mif\u001b[0m \u001b[0mlen\u001b[0m\u001b[1;33m(\u001b[0m\u001b[0margs\u001b[0m\u001b[1;33m[\u001b[0m\u001b[1;36m0\u001b[0m\u001b[1;33m]\u001b[0m\u001b[1;33m)\u001b[0m \u001b[1;33m==\u001b[0m \u001b[1;36m0\u001b[0m \u001b[1;32mor\u001b[0m \u001b[0mlen\u001b[0m\u001b[1;33m(\u001b[0m\u001b[0margs\u001b[0m\u001b[1;33m[\u001b[0m\u001b[1;36m1\u001b[0m\u001b[1;33m]\u001b[0m\u001b[1;33m)\u001b[0m \u001b[1;33m==\u001b[0m \u001b[1;36m0\u001b[0m\u001b[1;33m:\u001b[0m\u001b[1;33m\u001b[0m\u001b[1;33m\u001b[0m\u001b[0m\n\u001b[0;32m     46\u001b[0m             \u001b[1;32mreturn\u001b[0m \u001b[1;36m0\u001b[0m\u001b[1;33m\u001b[0m\u001b[1;33m\u001b[0m\u001b[0m\n\u001b[1;32m---> 47\u001b[1;33m         \u001b[1;32mreturn\u001b[0m \u001b[0mfunc\u001b[0m\u001b[1;33m(\u001b[0m\u001b[1;33m*\u001b[0m\u001b[0margs\u001b[0m\u001b[1;33m,\u001b[0m \u001b[1;33m**\u001b[0m\u001b[0mkwargs\u001b[0m\u001b[1;33m)\u001b[0m\u001b[1;33m\u001b[0m\u001b[1;33m\u001b[0m\u001b[0m\n\u001b[0m\u001b[0;32m     48\u001b[0m     \u001b[1;32mreturn\u001b[0m \u001b[0mdecorator\u001b[0m\u001b[1;33m\u001b[0m\u001b[1;33m\u001b[0m\u001b[0m\n\u001b[0;32m     49\u001b[0m \u001b[1;33m\u001b[0m\u001b[0m\n",
      "\u001b[1;32m~\\AppData\\Local\\Continuum\\anaconda3\\lib\\site-packages\\fuzzywuzzy\\fuzz.py\u001b[0m in \u001b[0;36mpartial_ratio\u001b[1;34m(s1, s2)\u001b[0m\n\u001b[0;32m     60\u001b[0m \u001b[1;33m\u001b[0m\u001b[0m\n\u001b[0;32m     61\u001b[0m         \u001b[0mm2\u001b[0m \u001b[1;33m=\u001b[0m \u001b[0mSequenceMatcher\u001b[0m\u001b[1;33m(\u001b[0m\u001b[1;32mNone\u001b[0m\u001b[1;33m,\u001b[0m \u001b[0mshorter\u001b[0m\u001b[1;33m,\u001b[0m \u001b[0mlong_substr\u001b[0m\u001b[1;33m)\u001b[0m\u001b[1;33m\u001b[0m\u001b[1;33m\u001b[0m\u001b[0m\n\u001b[1;32m---> 62\u001b[1;33m         \u001b[0mr\u001b[0m \u001b[1;33m=\u001b[0m \u001b[0mm2\u001b[0m\u001b[1;33m.\u001b[0m\u001b[0mratio\u001b[0m\u001b[1;33m(\u001b[0m\u001b[1;33m)\u001b[0m\u001b[1;33m\u001b[0m\u001b[1;33m\u001b[0m\u001b[0m\n\u001b[0m\u001b[0;32m     63\u001b[0m         \u001b[1;32mif\u001b[0m \u001b[0mr\u001b[0m \u001b[1;33m>\u001b[0m \u001b[1;36m.995\u001b[0m\u001b[1;33m:\u001b[0m\u001b[1;33m\u001b[0m\u001b[1;33m\u001b[0m\u001b[0m\n\u001b[0;32m     64\u001b[0m             \u001b[1;32mreturn\u001b[0m \u001b[1;36m100\u001b[0m\u001b[1;33m\u001b[0m\u001b[1;33m\u001b[0m\u001b[0m\n",
      "\u001b[1;32m~\\AppData\\Local\\Continuum\\anaconda3\\lib\\difflib.py\u001b[0m in \u001b[0;36mratio\u001b[1;34m(self)\u001b[0m\n\u001b[0;32m    642\u001b[0m         \"\"\"\n\u001b[0;32m    643\u001b[0m \u001b[1;33m\u001b[0m\u001b[0m\n\u001b[1;32m--> 644\u001b[1;33m         \u001b[0mmatches\u001b[0m \u001b[1;33m=\u001b[0m \u001b[0msum\u001b[0m\u001b[1;33m(\u001b[0m\u001b[0mtriple\u001b[0m\u001b[1;33m[\u001b[0m\u001b[1;33m-\u001b[0m\u001b[1;36m1\u001b[0m\u001b[1;33m]\u001b[0m \u001b[1;32mfor\u001b[0m \u001b[0mtriple\u001b[0m \u001b[1;32min\u001b[0m \u001b[0mself\u001b[0m\u001b[1;33m.\u001b[0m\u001b[0mget_matching_blocks\u001b[0m\u001b[1;33m(\u001b[0m\u001b[1;33m)\u001b[0m\u001b[1;33m)\u001b[0m\u001b[1;33m\u001b[0m\u001b[1;33m\u001b[0m\u001b[0m\n\u001b[0m\u001b[0;32m    645\u001b[0m         \u001b[1;32mreturn\u001b[0m \u001b[0m_calculate_ratio\u001b[0m\u001b[1;33m(\u001b[0m\u001b[0mmatches\u001b[0m\u001b[1;33m,\u001b[0m \u001b[0mlen\u001b[0m\u001b[1;33m(\u001b[0m\u001b[0mself\u001b[0m\u001b[1;33m.\u001b[0m\u001b[0ma\u001b[0m\u001b[1;33m)\u001b[0m \u001b[1;33m+\u001b[0m \u001b[0mlen\u001b[0m\u001b[1;33m(\u001b[0m\u001b[0mself\u001b[0m\u001b[1;33m.\u001b[0m\u001b[0mb\u001b[0m\u001b[1;33m)\u001b[0m\u001b[1;33m)\u001b[0m\u001b[1;33m\u001b[0m\u001b[1;33m\u001b[0m\u001b[0m\n\u001b[0;32m    646\u001b[0m \u001b[1;33m\u001b[0m\u001b[0m\n",
      "\u001b[1;32m~\\AppData\\Local\\Continuum\\anaconda3\\lib\\difflib.py\u001b[0m in \u001b[0;36mget_matching_blocks\u001b[1;34m(self)\u001b[0m\n\u001b[0;32m    477\u001b[0m         \u001b[1;32mwhile\u001b[0m \u001b[0mqueue\u001b[0m\u001b[1;33m:\u001b[0m\u001b[1;33m\u001b[0m\u001b[1;33m\u001b[0m\u001b[0m\n\u001b[0;32m    478\u001b[0m             \u001b[0malo\u001b[0m\u001b[1;33m,\u001b[0m \u001b[0mahi\u001b[0m\u001b[1;33m,\u001b[0m \u001b[0mblo\u001b[0m\u001b[1;33m,\u001b[0m \u001b[0mbhi\u001b[0m \u001b[1;33m=\u001b[0m \u001b[0mqueue\u001b[0m\u001b[1;33m.\u001b[0m\u001b[0mpop\u001b[0m\u001b[1;33m(\u001b[0m\u001b[1;33m)\u001b[0m\u001b[1;33m\u001b[0m\u001b[1;33m\u001b[0m\u001b[0m\n\u001b[1;32m--> 479\u001b[1;33m             \u001b[0mi\u001b[0m\u001b[1;33m,\u001b[0m \u001b[0mj\u001b[0m\u001b[1;33m,\u001b[0m \u001b[0mk\u001b[0m \u001b[1;33m=\u001b[0m \u001b[0mx\u001b[0m \u001b[1;33m=\u001b[0m \u001b[0mself\u001b[0m\u001b[1;33m.\u001b[0m\u001b[0mfind_longest_match\u001b[0m\u001b[1;33m(\u001b[0m\u001b[0malo\u001b[0m\u001b[1;33m,\u001b[0m \u001b[0mahi\u001b[0m\u001b[1;33m,\u001b[0m \u001b[0mblo\u001b[0m\u001b[1;33m,\u001b[0m \u001b[0mbhi\u001b[0m\u001b[1;33m)\u001b[0m\u001b[1;33m\u001b[0m\u001b[1;33m\u001b[0m\u001b[0m\n\u001b[0m\u001b[0;32m    480\u001b[0m             \u001b[1;31m# a[alo:i] vs b[blo:j] unknown\u001b[0m\u001b[1;33m\u001b[0m\u001b[1;33m\u001b[0m\u001b[1;33m\u001b[0m\u001b[0m\n\u001b[0;32m    481\u001b[0m             \u001b[1;31m# a[i:i+k] same as b[j:j+k]\u001b[0m\u001b[1;33m\u001b[0m\u001b[1;33m\u001b[0m\u001b[1;33m\u001b[0m\u001b[0m\n",
      "\u001b[1;32m~\\AppData\\Local\\Continuum\\anaconda3\\lib\\difflib.py\u001b[0m in \u001b[0;36mfind_longest_match\u001b[1;34m(self, alo, ahi, blo, bhi)\u001b[0m\n\u001b[0;32m    408\u001b[0m                 \u001b[1;32mif\u001b[0m \u001b[0mj\u001b[0m \u001b[1;33m>=\u001b[0m \u001b[0mbhi\u001b[0m\u001b[1;33m:\u001b[0m\u001b[1;33m\u001b[0m\u001b[1;33m\u001b[0m\u001b[0m\n\u001b[0;32m    409\u001b[0m                     \u001b[1;32mbreak\u001b[0m\u001b[1;33m\u001b[0m\u001b[1;33m\u001b[0m\u001b[0m\n\u001b[1;32m--> 410\u001b[1;33m                 \u001b[0mk\u001b[0m \u001b[1;33m=\u001b[0m \u001b[0mnewj2len\u001b[0m\u001b[1;33m[\u001b[0m\u001b[0mj\u001b[0m\u001b[1;33m]\u001b[0m \u001b[1;33m=\u001b[0m \u001b[0mj2lenget\u001b[0m\u001b[1;33m(\u001b[0m\u001b[0mj\u001b[0m\u001b[1;33m-\u001b[0m\u001b[1;36m1\u001b[0m\u001b[1;33m,\u001b[0m \u001b[1;36m0\u001b[0m\u001b[1;33m)\u001b[0m \u001b[1;33m+\u001b[0m \u001b[1;36m1\u001b[0m\u001b[1;33m\u001b[0m\u001b[1;33m\u001b[0m\u001b[0m\n\u001b[0m\u001b[0;32m    411\u001b[0m                 \u001b[1;32mif\u001b[0m \u001b[0mk\u001b[0m \u001b[1;33m>\u001b[0m \u001b[0mbestsize\u001b[0m\u001b[1;33m:\u001b[0m\u001b[1;33m\u001b[0m\u001b[1;33m\u001b[0m\u001b[0m\n\u001b[0;32m    412\u001b[0m                     \u001b[0mbesti\u001b[0m\u001b[1;33m,\u001b[0m \u001b[0mbestj\u001b[0m\u001b[1;33m,\u001b[0m \u001b[0mbestsize\u001b[0m \u001b[1;33m=\u001b[0m \u001b[0mi\u001b[0m\u001b[1;33m-\u001b[0m\u001b[0mk\u001b[0m\u001b[1;33m+\u001b[0m\u001b[1;36m1\u001b[0m\u001b[1;33m,\u001b[0m \u001b[0mj\u001b[0m\u001b[1;33m-\u001b[0m\u001b[0mk\u001b[0m\u001b[1;33m+\u001b[0m\u001b[1;36m1\u001b[0m\u001b[1;33m,\u001b[0m \u001b[0mk\u001b[0m\u001b[1;33m\u001b[0m\u001b[1;33m\u001b[0m\u001b[0m\n",
      "\u001b[1;31mKeyboardInterrupt\u001b[0m: "
     ]
    }
   ],
   "source": [
    "parseDocument(\"F:\\\\Projects\\\\EMA\\\\Repository\\\\EMA EPI PoC\\\\function_code\\\\data\\\\converted_to_html\\\\H\\\\CAP\\\\bg\\\\emea-combined-h-2494-bg.htm\", fileNameQrd, fileNameMatchRuleBook, fileNameDocumentTypeNames, medName = \"Kalydeco\", fsMountName = '/mounted', localEnv= True)"
   ]
  },
  {
   "cell_type": "code",
   "execution_count": null,
   "metadata": {},
   "outputs": [],
   "source": []
  }
 ],
 "metadata": {
  "kernelspec": {
   "display_name": "Python 3",
   "language": "python",
   "name": "python3"
  },
  "language_info": {
   "codemirror_mode": {
    "name": "ipython",
    "version": 3
   },
   "file_extension": ".py",
   "mimetype": "text/x-python",
   "name": "python",
   "nbconvert_exporter": "python",
   "pygments_lexer": "ipython3",
   "version": "3.7.3"
  }
 },
 "nbformat": 4,
 "nbformat_minor": 4
}
