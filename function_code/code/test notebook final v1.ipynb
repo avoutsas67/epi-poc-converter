{
 "cells": [
  {
   "cell_type": "code",
   "execution_count": 1,
   "metadata": {},
   "outputs": [],
   "source": [
    "%load_ext autoreload\n",
    "\n",
    "%autoreload 2"
   ]
  },
  {
   "cell_type": "code",
   "execution_count": 2,
   "metadata": {},
   "outputs": [],
   "source": [
    "fileNameQrd = 'qrd_canonical_model.csv'\n",
    "fileNameMatchRuleBook = 'ruleDict.json'\n",
    "fileNameDocumentTypeNames = 'documentTypeNames.json'\n",
    "\n",
    "fsMountName = '/mounted'"
   ]
  },
  {
   "cell_type": "code",
   "execution_count": 3,
   "metadata": {},
   "outputs": [
    {
     "name": "stderr",
     "output_type": "stream",
     "text": [
      "C:\\Users\\vipsharm\\AppData\\Local\\Continuum\\anaconda3\\lib\\site-packages\\fuzzywuzzy\\fuzz.py:11: UserWarning: Using slow pure-python SequenceMatcher. Install python-Levenshtein to remove this warning\n",
      "  warnings.warn('Using slow pure-python SequenceMatcher. Install python-Levenshtein to remove this warning')\n",
      "[nltk_data] Downloading package stopwords to\n",
      "[nltk_data]     C:\\Users\\vipsharm\\AppData\\Roaming\\nltk_data...\n",
      "[nltk_data]   Package stopwords is already up-to-date!\n"
     ]
    }
   ],
   "source": [
    "import pprint\n",
    "import pandas as pd\n",
    "import uuid\n",
    "import json\n",
    "import os\n",
    "import glob\n",
    "import re\n",
    "import sys\n",
    "from bs4 import NavigableString, BeautifulSoup\n",
    "from collections import defaultdict\n",
    "import random\n",
    "import string\n",
    "\n",
    "from utils.config import config\n",
    "from utils.logger.logger import loggerCreator\n",
    "\n",
    "# ePI Modules\n",
    "from parse.rulebook.rulebook import StyleRulesDictionary\n",
    "\n",
    "from parse.extractor.parser import parserExtractor\n",
    "from match.matchDocument.matchDocument import MatchDocument\n",
    "from documentAnnotation.documentAnnotation import DocumentAnnotation\n",
    "from htmlDocTypePartitioner.partition import DocTypePartitioner\n",
    "from extractContentBetweenHeadings.dataBetweenHeadingsExtractor import DataBetweenHeadingsExtractor\n",
    "from fhirXmlGenerator.fhirXmlGenerator import FhirXmlGenerator\n",
    "from fhirService.fhirService import FhirService\n",
    "from utils.logger.matchLogger import MatchLogger\n",
    "from languageInfo.documentTypeNames.documentTypeNames import DocumentTypeNames\n",
    "\n",
    "\n",
    "class FolderNotFoundError(Exception):\n",
    "    pass\n",
    "\n",
    "\n",
    "def getRandomString(N):\n",
    "    str_ = ''.join(random.choice(string.ascii_uppercase + string.digits\n",
    "                                 + string.ascii_lowercase) for _ in range(N))\n",
    "    return str_\n",
    "\n",
    "\n",
    "def convertHtmlToJson(domain, procedureType, languageCode, fileNameHtml, fileNameQrd, fileNameLog, fsMountName, localEnv):\n",
    "\n",
    "    if localEnv is True:\n",
    "        pathSep = \"\\\\\"\n",
    "        module_path = os.path.join(os.path.abspath(os.path.join('..')), 'data', 'converted_to_html', f'{domain}', f'{procedureType}', f'{languageCode}')\n",
    "    else:\n",
    "        pathSep = \"/\"\n",
    "        module_path = os.path.join(f'{fsMountName}', 'data', 'converted_to_html', f'{domain}', f'{procedureType}', f'{languageCode}')\n",
    "    \n",
    "    # Generate output folder path\n",
    "    output_json_path = module_path.replace('converted_to_html', 'outputJSON')\n",
    "\n",
    "    \"\"\"\n",
    "        Check if input folder exists, else throw exception\n",
    "    \"\"\"\n",
    "    if(os.path.exists(module_path)):\n",
    "        filenames = glob.glob(os.path.join(module_path, fileNameHtml))\n",
    "\n",
    "        # Create language specific folder in outputJSON folder if it doesn't exist\n",
    "        if(not os.path.exists(output_json_path)):\n",
    "            os.mkdir(output_json_path)\n",
    "        logger = MatchLogger(f'Parser_{getRandomString(1)}', fileNameHtml,\n",
    "                             domain, procedureType, languageCode, \"HTML\", fileNameLog)\n",
    "\n",
    "        styleLogger = MatchLogger(\n",
    "            f'Style Dictionary_{getRandomString(1)}', fileNameHtml, domain, procedureType, languageCode, \"HTML\", fileNameLog)\n",
    "\n",
    "        styleRulesObj = StyleRulesDictionary(styleLogger,\n",
    "                                             language=languageCode,\n",
    "                                             fileName=fileNameQrd,\n",
    "                                             domain=domain,\n",
    "                                             procedureType=procedureType,\n",
    "                                             fsMountName=fsMountName,\n",
    "                                             localEnv=localEnv)\n",
    "\n",
    "        parserObj = parserExtractor(config, logger, styleRulesObj.styleRuleDict,\n",
    "                                    styleRulesObj.styleFeatureKeyList,\n",
    "                                    styleRulesObj.qrd_section_headings)\n",
    "\n",
    "        for input_filename in filenames:\n",
    "          # if(input_filename.find('Kalydeco II-86-PI-clean')!=-1):\n",
    "            output_filename = input_filename.replace('converted_to_html', 'outputJSON')\n",
    "            style_filepath =  output_filename.replace('.html','.txt')\n",
    "            style_filepath =  style_filepath.replace('.txtl','.txt')\n",
    "            style_filepath =  style_filepath.replace('.htm','.txt')\n",
    "            print(\"-------------\",style_filepath,\"-----------------\")\n",
    "\n",
    "            output_filename = output_filename.replace('.html', '.json')\n",
    "            output_filename = output_filename.replace('.htm', '.json')\n",
    "            print(input_filename, output_filename)\n",
    "            parserObj.createPIJsonFromHTML(input_filepath=input_filename,\n",
    "                                           output_filepath=output_filename,\n",
    "                                           style_filepath = style_filepath,\n",
    "                                           img_base64_dict=parserObj.convertImgToBase64(input_filename)\n",
    "                                           )\n",
    "            \n",
    "        return output_filename.split(pathSep)[-1], style_filepath\n",
    "    else:\n",
    "        try:    \n",
    "            raise FolderNotFoundError(module_path + \" not found\")\n",
    "        except:  \n",
    "            logger.logFlowCheckpoint(\"Folder For Language Code Not Found In Input File\")\n",
    "            logger.logException(\"Folder For Language Code Not Found In Input File\")\n",
    "        raise FolderNotFoundError(module_path + \" not found\")\n",
    "        return None\n",
    "\n",
    "\n",
    "def splitJson(domain, procedureType, languageCode, fileNameJson, fileNameQrd, fileNameLog, fsMountName, localEnv):\n",
    "\n",
    "    styleLogger = MatchLogger(\n",
    "        f'Style Dictionary_{getRandomString(1)}', fileNameJson, domain, procedureType, languageCode, \"Json\", fileNameLog)\n",
    "\n",
    "    styleRulesObj = StyleRulesDictionary(styleLogger,\n",
    "                                             language=languageCode,\n",
    "                                             fileName=fileNameQrd,\n",
    "                                             domain=domain,\n",
    "                                             procedureType=procedureType,\n",
    "                                             fsMountName=fsMountName,\n",
    "                                             localEnv=localEnv)\n",
    "    if localEnv is True:\n",
    "        path_json = os.path.join(os.path.abspath(os.path.join(\n",
    "                '..')), 'data', 'outputJSON', domain, procedureType, languageCode, fileNameJson)\n",
    "    else:\n",
    "        path_json = os.path.join(f'{fsMountName}', 'data', 'outputJSON', domain,  procedureType, languageCode, fileNameJson)\n",
    "        \n",
    "    partitionLogger = MatchLogger(\n",
    "        f'Partition_{getRandomString(1)}', fileNameJson, domain, procedureType, languageCode, \"Json\", fileNameLog)\n",
    "\n",
    "    partitioner = DocTypePartitioner(partitionLogger, localEnv)\n",
    "\n",
    "    partitionedJsonPaths = partitioner.partitionHtmls(\n",
    "        styleRulesObj.qrd_section_headings, path_json)\n",
    "\n",
    "    return partitionedJsonPaths\n",
    "\n",
    "\n",
    "def extractAndValidateHeadings(domain,\n",
    "                               procedureType,\n",
    "                               languageCode,\n",
    "                               documentNumber,\n",
    "                               fileNameDoc,\n",
    "                               fileNameQrd,\n",
    "                               fileNameMatchRuleBook,\n",
    "                               fileNameDocumentTypeNames,\n",
    "                               fileNameLog,\n",
    "                               stopWordFilterLen=6,\n",
    "                               isPackageLeaflet=False,\n",
    "                               medName=None,\n",
    "                               fsMountName='/mounted',\n",
    "                               localEnv=False):\n",
    "\n",
    "    if documentNumber == 0:\n",
    "        topHeadingsConsidered = 4\n",
    "        bottomHeadingsConsidered = 6\n",
    "    elif documentNumber == 1:\n",
    "        topHeadingsConsidered = 3\n",
    "        bottomHeadingsConsidered = 5\n",
    "    elif documentNumber == 2:\n",
    "        topHeadingsConsidered = 5\n",
    "        bottomHeadingsConsidered = 15\n",
    "    else:\n",
    "        topHeadingsConsidered = 5\n",
    "        bottomHeadingsConsidered = 10\n",
    "\n",
    "    print(f\"Starting Heading Extraction For File :- {fileNameDoc}\")\n",
    "    logger = MatchLogger(f\"Heading Extraction {fileNameDoc}\", fileNameDoc, domain, procedureType, languageCode, documentNumber, fileNameLog)\n",
    "    logger.logFlowCheckpoint(\"Starting Heading Extraction\")\n",
    "\n",
    "    stopWordlanguage = DocumentTypeNames(\n",
    "        fileNameDocumentTypeNames=fileNameDocumentTypeNames,\n",
    "        languageCode=languageCode,\n",
    "        domain=domain,\n",
    "        procedureType=procedureType,\n",
    "        documentNumber=documentNumber,\n",
    "        fsMountName=fsMountName,\n",
    "        localEnv=localEnv).extractStopWordLanguage()\n",
    "\n",
    "    matchDocObj = MatchDocument(\n",
    "        logger,\n",
    "        domain,\n",
    "        procedureType,\n",
    "        languageCode,\n",
    "        documentNumber,\n",
    "        fileNameDoc,\n",
    "        fileNameQrd,\n",
    "        fileNameMatchRuleBook,\n",
    "        fileNameDocumentTypeNames,\n",
    "        topHeadingsConsidered,\n",
    "        bottomHeadingsConsidered,\n",
    "        stopWordFilterLen,\n",
    "        stopWordlanguage,\n",
    "        isPackageLeaflet,\n",
    "        medName,\n",
    "        fsMountName,\n",
    "        localEnv)\n",
    "    df, coll = matchDocObj.matchHtmlHeaddingsWithQrd()\n",
    "\n",
    "    return df, coll\n",
    "\n",
    "\n",
    "def parseDocument(htmlDocPath, fileNameQrd, fileNameMatchRuleBook, fileNameDocumentTypeNames, fsMountName = '/mounted', localEnv= False, medName = None):\n",
    "    \n",
    "    if localEnv is True:\n",
    "        pathSep = \"\\\\\"\n",
    "        fileNameLog = os.path.join(os.path.abspath(os.path.join('..')),'data','FinalLog.txt')\n",
    "    else:\n",
    "        pathSep = \"/\"\n",
    "        fileNameLog = os.path.join(f'{fsMountName}','data','FinalLog.txt')\n",
    "    pathComponents = htmlDocPath.split(pathSep)\n",
    "    print(pathComponents)\n",
    "    fileNameHtml = pathComponents[-1]\n",
    "    languageCode =  pathComponents[-2]\n",
    "    procedureType = pathComponents[-3]\n",
    "    domain = pathComponents[-4]\n",
    "\n",
    "    #procedureType = \"CAP\"\n",
    "    print(fileNameHtml,languageCode,procedureType)\n",
    "    \n",
    "    \n",
    "    \n",
    "    flowLogger =  MatchLogger(f\"Flow Logger HTML_{getRandomString(1)}\", fileNameHtml, domain, procedureType, languageCode, \"HTML\", fileNameLog)\n",
    "\n",
    "    flowLogger.logFlowCheckpoint(\"Starting HTML Conversion To Json\")\n",
    "    ###Convert Html to Json\n",
    "    fileNameJson, stylesFilePath = convertHtmlToJson( domain, procedureType, languageCode, fileNameHtml, fileNameQrd, fileNameLog, fsMountName, localEnv)\n",
    "    \n",
    "    flowLogger.logFlowCheckpoint(\"Completed HTML Conversion To Json\")\n",
    "\n",
    "    flowLogger.logFlowCheckpoint(\"Starting Json Split\")\n",
    "\n",
    "    ###Split Uber Json to multiple Jsons for each category.\n",
    "    partitionedJsonPaths = splitJson(domain, procedureType, languageCode, fileNameJson, fileNameQrd, fileNameLog, fsMountName, localEnv)\n",
    "    \n",
    "    partitionedJsonPaths = [ path.split(pathSep)[-1] for path in partitionedJsonPaths]\n",
    "    flowLogger.logFlowCheckpoint(str(partitionedJsonPaths))\n",
    "    \n",
    "    flowLogger.logFlowCheckpoint(\"Completed Json Split\")\n",
    "    \n",
    "    flowLogger.logFlowCheckpoint(\"Started Processing Partitioned Jsons\")\n",
    "    \n",
    "    for index, fileNamePartitioned in enumerate(partitionedJsonPaths):\n",
    "        \n",
    "        flowLogger.logFlowCheckpoint(f\"\\n\\n\\n\\n||||||||||||||||||||||||||||||||{str(index)} ||||| {str(fileNamePartitioned)}||||||||||||||||||||||||||||||||\\n\\n\\n\\n\")\n",
    "        \n",
    "        if index == 3:\n",
    "            stopWordFilterLen = 100\n",
    "            isPackageLeaflet = True\n",
    "        else:\n",
    "            stopWordFilterLen = 6\n",
    "            isPackageLeaflet = False\n",
    "            \n",
    "        df, coll = extractAndValidateHeadings(domain,\n",
    "                                    procedureType,\n",
    "                                    languageCode,\n",
    "                                    index,\n",
    "                                    fileNamePartitioned,\n",
    "                                    fileNameQrd,\n",
    "                                    fileNameMatchRuleBook,\n",
    "                                    fileNameDocumentTypeNames,\n",
    "                                    fileNameLog,\n",
    "                                    stopWordFilterLen=stopWordFilterLen,\n",
    "                                    isPackageLeaflet=isPackageLeaflet,\n",
    "                                    medName=medName,\n",
    "                                    fsMountName=fsMountName,\n",
    "                                    localEnv=localEnv)\n",
    "        \n",
    "        \n",
    "        print(f\"Completed Heading Extraction For File\")\n",
    "        flowLogger.logFlowCheckpoint(\"Completed Heading Extraction For File\")\n",
    "        \n",
    "        print(f\"Starting Document Annotation For File :- {fileNamePartitioned}\")        \n",
    "        flowLogger.logFlowCheckpoint(\"Starting Document Annotation For File\")\n",
    "        documentAnnotationObj = DocumentAnnotation(fileNamePartitioned,'c20835db4b1b4e108828a8537ff41506','https://spor-sit.azure-api.net/pms/api/v2/',df,coll)\n",
    "        try:\n",
    "            pms_oms_annotation_data = documentAnnotationObj.processRegulatedAuthorizationForDoc()\n",
    "            print(pms_oms_annotation_data)\n",
    "        except:\n",
    "            pms_oms_annotation_data = None\n",
    "            print(\"Error Found\")\n",
    "            \n",
    "        print(f\"Completed Document Annotation\")        \n",
    "        flowLogger.logFlowCheckpoint(\"Completed Document Annotation\")\n",
    "        \n",
    "        print(f\"Starting Extracting Content Between Heading For File :- {fileNamePartitioned}\")        \n",
    "        flowLogger.logFlowCheckpoint(\"Starting Extracting Content Between Heading\")\n",
    "        \n",
    "        extractContentlogger =  MatchLogger(f'ExtractContentBetween_{index}', fileNamePartitioned, domain, procedureType, languageCode, index, fileNameLog)\n",
    "        extractorObj = DataBetweenHeadingsExtractor(extractContentlogger, coll, domain, procedureType, languageCode, fsMountName, localEnv)\n",
    "        dfExtractedHierRR = extractorObj.extractContentBetweenHeadings(fileNamePartitioned)\n",
    "        \n",
    "        print(f\"Completed Extracting Content Between Heading\")        \n",
    "        flowLogger.logFlowCheckpoint(\"Completed Extracting Content Between Heading\")\n",
    "        \n",
    "        xmlLogger =  MatchLogger(f'XmlGeneration_{index}', fileNamePartitioned, domain, procedureType, languageCode, index, fileNameLog)\n",
    "        fhirXmlGeneratorObj = FhirXmlGenerator(xmlLogger, pms_oms_annotation_data, stylesFilePath, medName, fsMountName, localEnv)\n",
    "        fileNameXml = fileNamePartitioned.replace('.json','.xml')\n",
    "        generatedXml = fhirXmlGeneratorObj.generateXml(dfExtractedHierRR, fileNameXml)\n",
    "        \n",
    "        fhirServiceLogger =  MatchLogger(f'XML Submission Logger_{index}', fileNamePartitioned, domain, procedureType, languageCode, index, fileNameLog)\n",
    "\n",
    "        fhirServiceObj = FhirService(fhirServiceLogger, generatedXml, fsMountName, localEnv)\n",
    "        fhirServiceObj.submitFhirXml()\n",
    "        print(f\"Created XML File For :- {fileNamePartitioned}\")        \n",
    "\n",
    "        #return df,coll,dfExtractedHierRR\n",
    "    \n",
    "    flowLogger.logFlowCheckpoint(\"Completed Processing Partitioned Jsons\")\n"
   ]
  },
  {
   "cell_type": "code",
   "execution_count": 3,
   "metadata": {},
   "outputs": [
    {
     "name": "stderr",
     "output_type": "stream",
     "text": [
      "2021-05-11 01:54:31,174 : Flow Logger HTML_p : Starting HTML Conversion To Json | H | CAP |  en | HTML | Adakveo-4874 EN PI.html\n",
      "2021-05-11 01:54:31,182 : Style Dictionary_3 : Reading style dictionary in file: rule_dictionary_en.json | H | CAP |  en | HTML | Adakveo-4874 EN PI.html\n",
      "2021-05-11 01:54:31,260 : Style Dictionary_3 : Qrd Section Keys Retrieved For Style Dictionary: ANNEX I, ANNEX II, ANNEX III, B. PACKAGE LEAFLET | H | CAP |  en | HTML | Adakveo-4874 EN PI.html\n"
     ]
    },
    {
     "name": "stdout",
     "output_type": "stream",
     "text": [
      "['F:', 'Projects', 'EMA', 'Repository', 'EMA EPI PoC', 'function_code', 'data', 'converted_to_html', 'H', 'CAP', 'en', 'Adakveo-4874 EN PI.html']\n",
      "Adakveo-4874 EN PI.html en CAP\n",
      "------------- F:\\Projects\\EMA\\Repository\\EMA EPI PoC\\function_code\\data\\outputJSON\\H\\CAP\\en\\Adakveo-4874 EN PI.txt -----------------\n",
      "F:\\Projects\\EMA\\Repository\\EMA EPI PoC\\function_code\\data\\converted_to_html\\H\\CAP\\en\\Adakveo-4874 EN PI.html F:\\Projects\\EMA\\Repository\\EMA EPI PoC\\function_code\\data\\outputJSON\\H\\CAP\\en\\Adakveo-4874 EN PI.json\n"
     ]
    },
    {
     "name": "stderr",
     "output_type": "stream",
     "text": [
      "2021-05-11 01:54:31,836 : Parser_H : Style Information Stored In File: F:\\Projects\\EMA\\Repository\\EMA EPI PoC\\function_code\\data\\outputJSON\\H\\CAP\\en\\Adakveo-4874 EN PI.txt | H | CAP |  en | HTML | Adakveo-4874 EN PI.html\n",
      "2021-05-11 01:54:34,086 : Parser_H : Writing to file: F:\\Projects\\EMA\\Repository\\EMA EPI PoC\\function_code\\data\\outputJSON\\H\\CAP\\en\\Adakveo-4874 EN PI.json | H | CAP |  en | HTML | Adakveo-4874 EN PI.html\n",
      "2021-05-11 01:54:34,193 : Flow Logger HTML_p : Completed HTML Conversion To Json | H | CAP |  en | HTML | Adakveo-4874 EN PI.html\n",
      "2021-05-11 01:54:34,194 : Flow Logger HTML_p : Starting Json Split | H | CAP |  en | HTML | Adakveo-4874 EN PI.html\n",
      "2021-05-11 01:54:34,199 : Style Dictionary_m : Reading style dictionary in file: rule_dictionary_en.json | H | CAP |  en | Json | Adakveo-4874 EN PI.json\n",
      "2021-05-11 01:54:34,237 : Style Dictionary_m : Qrd Section Keys Retrieved For Style Dictionary: ANNEX I, ANNEX II, ANNEX III, B. PACKAGE LEAFLET | H | CAP |  en | Json | Adakveo-4874 EN PI.json\n",
      "2021-05-11 01:54:34,243 : Partition_i : Partitioning Json: Adakveo-4874 EN PI.json | H | CAP |  en | Json | Adakveo-4874 EN PI.json\n",
      "2021-05-11 01:54:34,583 : Partition_i : Writing partition to file: F:\\Projects\\EMA\\Repository\\EMA EPI PoC\\function_code\\data\\partitionedJSONs\\H\\CAP\\en\\Adakveo-4874 EN PI_SmPC.json | H | CAP |  en | Json | Adakveo-4874 EN PI.json\n",
      "2021-05-11 01:54:34,610 : Partition_i : Writing partition to file: F:\\Projects\\EMA\\Repository\\EMA EPI PoC\\function_code\\data\\partitionedJSONs\\H\\CAP\\en\\Adakveo-4874 EN PI_ANNEX II.json | H | CAP |  en | Json | Adakveo-4874 EN PI.json\n",
      "2021-05-11 01:54:34,639 : Partition_i : Writing partition to file: F:\\Projects\\EMA\\Repository\\EMA EPI PoC\\function_code\\data\\partitionedJSONs\\H\\CAP\\en\\Adakveo-4874 EN PI_ANNEX III.json | H | CAP |  en | Json | Adakveo-4874 EN PI.json\n",
      "2021-05-11 01:54:34,650 : Partition_i : Writing partition to file: F:\\Projects\\EMA\\Repository\\EMA EPI PoC\\function_code\\data\\partitionedJSONs\\H\\CAP\\en\\Adakveo-4874 EN PI_ PACKAGE LEAFLET.json | H | CAP |  en | Json | Adakveo-4874 EN PI.json\n",
      "2021-05-11 01:54:34,661 : Flow Logger HTML_p : ['Adakveo-4874 EN PI_SmPC.json', 'Adakveo-4874 EN PI_ANNEX II.json', 'Adakveo-4874 EN PI_ANNEX III.json', 'Adakveo-4874 EN PI_ PACKAGE LEAFLET.json'] | H | CAP |  en | HTML | Adakveo-4874 EN PI.html\n",
      "2021-05-11 01:54:34,663 : Flow Logger HTML_p : Completed Json Split | H | CAP |  en | HTML | Adakveo-4874 EN PI.html\n",
      "2021-05-11 01:54:34,665 : Flow Logger HTML_p : Started Processing Partitioned Jsons | H | CAP |  en | HTML | Adakveo-4874 EN PI.html\n",
      "2021-05-11 01:54:34,666 : Flow Logger HTML_p : \n",
      "\n",
      "\n",
      "\n",
      "||||||||||||||||||||||||||||||||0 ||||| Adakveo-4874 EN PI_SmPC.json||||||||||||||||||||||||||||||||\n",
      "\n",
      "\n",
      "\n",
      " | H | CAP |  en | HTML | Adakveo-4874 EN PI.html\n",
      "2021-05-11 01:54:34,674 : Heading Extraction Adakveo-4874 EN PI_SmPC.json : Starting Heading Extraction | H | CAP |  en | 0 | Adakveo-4874 EN PI_SmPC.json\n"
     ]
    },
    {
     "name": "stdout",
     "output_type": "stream",
     "text": [
      "Starting Heading Extraction For File :- Adakveo-4874 EN PI_SmPC.json\n",
      "File being processed: F:\\Projects\\EMA\\Repository\\EMA EPI PoC\\function_code\\data\\partitionedJSONs\\H\\CAP\\en\\Adakveo-4874 EN PI_SmPC.json\n",
      "--------------------------------------------\n",
      "SmPC\n"
     ]
    },
    {
     "name": "stderr",
     "output_type": "stream",
     "text": [
      "2021-05-11 01:54:34,938 : Heading Extraction Adakveo-4874 EN PI_SmPC.json : Started Extracting Heading | H | CAP |  en | 0 | Adakveo-4874 EN PI_SmPC.json\n",
      "2021-05-11 01:54:35,149 : Heading Extraction Adakveo-4874 EN PI_SmPC.json : Match Passed | H | CAP |  en | 0 | Adakveo-4874 EN PI_SmPC.json | Doc txt :- 'SUMMARY OF PRODUCT CHARACTERISTICS' | Qrd txt :- 'SUMMARY OF PRODUCT CHARACTERISTICS' | Matched :- 'True'\n",
      "2021-05-11 01:54:35,160 : Heading Extraction Adakveo-4874 EN PI_SmPC.json : Validation Passed As This The First Heading | H | CAP |  en | 0 | Adakveo-4874 EN PI_SmPC.json | currHeadId :- '20001' | currParentHeadId :- 'nan' | prevParentHeadId :- ''\n",
      " adverse reactions.' | Qrd txt :- 'qthis medicinal product is subject to additional monitoring. this will allow quick identification of new safety information. healthcare professionals are asked to report any suspected adverse reactions. see section 4.8 for how to report adverse reactions.' | Matched :- 'True'\n"
     ]
    },
    {
     "name": "stdout",
     "output_type": "stream",
     "text": [
      "b'SUMMARY OF PRODUCT CHARACTERISTICS'  |===|  b'SUMMARY OF PRODUCT CHARACTERISTICS'\n",
      "True  ||    ||  b'SUMMARY OF PRODUCT CHARACTERISTICS'  ||  b'SUMMARY OF PRODUCT CHARACTERISTICS'\n",
      "\n",
      "OriginalCheck\n",
      "('>7|2.88|(99, 100, 99)|0.92|', 'This medicinal\\r product is subject to additional monitoring. This will allow quick\\r identification of new safety information. Healthcare professionals are asked to\\r report any suspected adverse reactions. See section 4.8 for how to report\\r adverse reactions.', 'qThis medicinal product is subject to additional monitoring. This will allow quick identification of new safety information. Healthcare professionals are asked to report any suspected adverse reactions. See section 4.8 for how to report adverse reactions.')\n",
      "\n"
     ]
    },
    {
     "name": "stderr",
     "output_type": "stream",
     "text": [
      " adverse reactions.' | Qrd txt :- 'qThis medicinal product is subject to additional monitoring. This will allow quick identification of new safety information. Healthcare professionals are asked to report any suspected adverse reactions. See section 4.8 for how to report adverse reactions.' | Matched :- 'True'\n",
      "2021-05-11 01:54:35,349 : Heading Extraction Adakveo-4874 EN PI_SmPC.json : Validation Passed | H | CAP |  en | 0 | Adakveo-4874 EN PI_SmPC.json | currHeadId :- '20002' | currParentHeadId :- '20001.0' | prevParentHeadId :- '20001'\n",
      "2021-05-11 01:54:35,359 : Heading Extraction Adakveo-4874 EN PI_SmPC.json : Validation Failed By Style | H | CAP |  en | 0 | Adakveo-4874 EN PI_SmPC.json | currHeadId :- '20002' | currParentHeadId :- '20001.0' | prevParentHeadId :- '20001'\n",
      "2021-05-11 01:54:35,421 : Heading Extraction Adakveo-4874 EN PI_SmPC.json : Match Passed | H | CAP |  en | 0 | Adakveo-4874 EN PI_SmPC.json | Doc txt :- '1.       NAME OF THE MEDICINAL PRODUCT' | Qrd txt :- '1. NAME OF THE MEDICINAL PRODUCT' | Matched :- 'True'\n",
      "2021-05-11 01:54:35,432 : Heading Extraction Adakveo-4874 EN PI_SmPC.json : Validation Flow Is Broken | H | CAP |  en | 0 | Adakveo-4874 EN PI_SmPC.json | currHeadId :- '20003' | currParentHeadId :- '20001.0' | prevParentHeadId :- '20001'\n",
      "2021-05-11 01:54:35,436 : Heading Extraction Adakveo-4874 EN PI_SmPC.json : Validation Passed | H | CAP |  en | 0 | Adakveo-4874 EN PI_SmPC.json | currHeadId :- '20003' | currParentHeadId :- '20001.0' | prevParentHeadId :- '20001'\n"
     ]
    },
    {
     "name": "stdout",
     "output_type": "stream",
     "text": [
      "b'This medicinal\\r product is subject to additional monitoring. This will allow quick\\r identification of new safety information. Healthcare professionals are asked to\\r report any suspected adverse reactions. See section 4.8 for how to report\\r adverse reactions.'  |===|  b'qThis medicinal product is subject to additional monitoring. This will allow quick identification of new safety information. Healthcare professionals are asked to report any suspected adverse reactions. See section 4.8 for how to report adverse reactions.'\n",
      "----------------------------------\n",
      "RemovedByStyle  ||  checkLowerCase|2.88|(99, 100, 99)|0.92|  ||  b'This medicinal\\r product is subject to additional monitoring. This will allow quick\\r identification of new safety information. Healthcare professionals are asked to\\r report any suspected adverse reactions. See section 4.8 for how to report\\r adverse reactions.'  ||  b'qThis medicinal product is subject to additional monitoring. This will allow quick identification of new safety information. Healthcare professionals are asked to report any suspected adverse reactions. See section 4.8 for how to report adverse reactions.'\n",
      "----------------------------------\n",
      "b'1.       NAME OF THE MEDICINAL PRODUCT'  |===|  b'1. NAME OF THE MEDICINAL PRODUCT'\n",
      "True  ||    ||  b'1.       NAME OF THE MEDICINAL PRODUCT'  ||  b'1. NAME OF THE MEDICINAL PRODUCT'\n"
     ]
    },
    {
     "name": "stderr",
     "output_type": "stream",
     "text": [
      " QUANTITATIVE COMPOSITION' | Qrd txt :- '2. QUALITATIVE AND QUANTITATIVE COMPOSITION' | Matched :- 'True'| 0 | Adakveo-4874 EN PI_SmPC.json | Doc txt :- '2.       QUALITATIVE AND\n",
      "2021-05-11 01:54:35,777 : Heading Extraction Adakveo-4874 EN PI_SmPC.json : Validation Passed | H | CAP |  en | 0 | Adakveo-4874 EN PI_SmPC.json | currHeadId :- '20004' | currParentHeadId :- '20001.0' | prevParentHeadId :- '20003'\n",
      " concentrate for solution for infusion contains 10 mg crizanlizumab.' | Qrd txt :- '6.5 Nature and contents of container <and special equipment for use administration or implantation>' | Matched :- 'False'\n"
     ]
    },
    {
     "name": "stdout",
     "output_type": "stream",
     "text": [
      "b'2.       QUALITATIVE AND\\r QUANTITATIVE COMPOSITION'  |===|  b'2. QUALITATIVE AND QUANTITATIVE COMPOSITION'\n",
      "True  ||    ||  b'2.       QUALITATIVE AND\\r QUANTITATIVE COMPOSITION'  ||  b'2. QUALITATIVE AND QUANTITATIVE COMPOSITION'\n"
     ]
    },
    {
     "name": "stderr",
     "output_type": "stream",
     "text": [
      " concentrate for solution for infusion contains 10 mg crizanlizumab.' | Qrd txt :- '6.6 Special precautions for disposal <and other handling>' | Matched :- 'False'f\n",
      " 10 ml contains 100 mg crizanlizumab.' | Qrd txt :- '6.6 Special precautions for disposal <and other handling>' | Matched :- 'False'PC.json | Doc txt :- 'One vial of\n",
      " recombinant DNA technology.' | Qrd txt :- '6.5 Nature and contents of container <and special equipment for use administration or implantation>' | Matched :- 'False'ab is\n",
      "2021-05-11 01:54:36,723 : Heading Extraction Adakveo-4874 EN PI_SmPC.json : Match Passed | H | CAP |  en | 0 | Adakveo-4874 EN PI_SmPC.json | Doc txt :- '3.       PHARMACEUTICAL FORM' | Qrd txt :- '3. PHARMACEUTICAL FORM' | Matched :- 'True'\n",
      "2021-05-11 01:54:36,736 : Heading Extraction Adakveo-4874 EN PI_SmPC.json : Validation Flow Is Broken | H | CAP |  en | 0 | Adakveo-4874 EN PI_SmPC.json | currHeadId :- '20008' | currParentHeadId :- '20001.0' | prevParentHeadId :- '20004'\n",
      "2021-05-11 01:54:36,743 : Heading Extraction Adakveo-4874 EN PI_SmPC.json : Validation Passed | H | CAP |  en | 0 | Adakveo-4874 EN PI_SmPC.json | currHeadId :- '20008' | currParentHeadId :- '20001.0' | prevParentHeadId :- '20004'\n"
     ]
    },
    {
     "name": "stdout",
     "output_type": "stream",
     "text": [
      "b'3.       PHARMACEUTICAL FORM'  |===|  b'3. PHARMACEUTICAL FORM'\n",
      "True  ||    ||  b'3.       PHARMACEUTICAL FORM'  ||  b'3. PHARMACEUTICAL FORM'\n"
     ]
    },
    {
     "name": "stderr",
     "output_type": "stream",
     "text": [
      " (sterile concentrate)' | Qrd txt :- '6.5 Nature and contents of container <and special equipment for use administration or implantation>' | Matched :- 'False'ntrate for solution for infusion\n",
      " PARTICULARS' | Qrd txt :- '4. CLINICAL PARTICULARS' | Matched :- 'True'n : Match Passed | H | CAP |  en | 0 | Adakveo-4874 EN PI_SmPC.json | Doc txt :- '4.       CLINICAL\n",
      "2021-05-11 01:54:37,229 : Heading Extraction Adakveo-4874 EN PI_SmPC.json : Validation Passed | H | CAP |  en | 0 | Adakveo-4874 EN PI_SmPC.json | currHeadId :- '20009' | currParentHeadId :- '20001.0' | prevParentHeadId :- '20008'\n",
      " indications' | Qrd txt :- '4.1 Therapeutic indications' | Matched :- 'True'Match Passed | H | CAP |  en | 0 | Adakveo-4874 EN PI_SmPC.json | Doc txt :- '4.1     Therapeutic\n",
      "2021-05-11 01:54:37,297 : Heading Extraction Adakveo-4874 EN PI_SmPC.json : Validation Passed | H | CAP |  en | 0 | Adakveo-4874 EN PI_SmPC.json | currHeadId :- '20010' | currParentHeadId :- '20009.0' | prevParentHeadId :- '20009'\n",
      "2021-05-11 01:54:37,388 : Heading Extraction Adakveo-4874 EN PI_SmPC.json : Match Passed | H | CAP |  en | 0 | Adakveo-4874 EN PI_SmPC.json | Doc txt :- '4.2     Posology and method of administration' | Qrd txt :- '4.2 Posology and method of administration' | Matched :- 'True'\n",
      "2021-05-11 01:54:37,399 : Heading Extraction Adakveo-4874 EN PI_SmPC.json : Validation Passed | H | CAP |  en | 0 | Adakveo-4874 EN PI_SmPC.json | currHeadId :- '20011' | currParentHeadId :- '20009.0' | prevParentHeadId :- '20010'\n"
     ]
    },
    {
     "name": "stdout",
     "output_type": "stream",
     "text": [
      "b'4.       CLINICAL\\r PARTICULARS'  |===|  b'4. CLINICAL PARTICULARS'\n",
      "True  ||    ||  b'4.       CLINICAL\\r PARTICULARS'  ||  b'4. CLINICAL PARTICULARS'\n",
      "b'4.1     Therapeutic\\r indications'  |===|  b'4.1 Therapeutic indications'\n",
      "True  ||    ||  b'4.1     Therapeutic\\r indications'  ||  b'4.1 Therapeutic indications'\n",
      "b'4.2     Posology and method of administration'  |===|  b'4.2 Posology and method of administration'\n",
      "True  ||    ||  b'4.2     Posology and method of administration'  ||  b'4.2 Posology and method of administration'\n"
     ]
    },
    {
     "name": "stderr",
     "output_type": "stream",
     "text": [
      " be initiated by physicians experienced in the management of sickle cell disease.' | Qrd txt :- '6.5 Nature and contents of container <and special equipment for use administration or implantation>' | Matched :- 'False'\n",
      " be initiated by physicians experienced in the management of sickle cell disease.' | Qrd txt :- '6.6 Special precautions for disposal <and other handling>' | Matched :- 'False'\n",
      "2021-05-11 01:54:37,597 : Heading Extraction Adakveo-4874 EN PI_SmPC.json : Match Failed In Lowercase | H | CAP |  en | 0 | Adakveo-4874 EN PI_SmPC.json | Doc txt :- 'Posology' | Qrd txt :- '4.2 Posology and method of administration' | Matched :- 'False'\n",
      "2021-05-11 01:54:37,600 : Heading Extraction Adakveo-4874 EN PI_SmPC.json : Match Passed | H | CAP |  en | 0 | Adakveo-4874 EN PI_SmPC.json | Doc txt :- 'Posology' | Qrd txt :- 'Posology' | Matched :- 'True'\n",
      "2021-05-11 01:54:37,619 : Heading Extraction Adakveo-4874 EN PI_SmPC.json : Validation Passed | H | CAP |  en | 0 | Adakveo-4874 EN PI_SmPC.json | currHeadId :- '20012' | currParentHeadId :- '20011.0' | prevParentHeadId :- '20011'\n"
     ]
    },
    {
     "name": "stdout",
     "output_type": "stream",
     "text": [
      "\n",
      "OriginalCheck\n",
      "('<=7|412.5|(33, 100, 90)|0.73|', 'Posology', '4.2 Posology and method of administration')\n",
      "\n",
      "b'Posology'  |===|  b'Posology'\n",
      "True  ||    ||  b'Posology'  ||  b'Posology'\n"
     ]
    },
    {
     "name": "stderr",
     "output_type": "stream",
     "text": [
      " 4 weeks thereafter.' | Qrd txt :- '6.5 Nature and contents of container <and special equipment for use administration or implantation>' | Matched :- 'False' recommended\n",
      " possible.' | Qrd txt :- '6.5 Nature and contents of container <and special equipment for use administration or implantation>' | Matched :- 'False'xt :- 'If a dose is missed, the treatment should be administered as soon as\n",
      " to the patient’s original schedule.' | Qrd txt :- '6.5 Nature and contents of container <and special equipment for use administration or implantation>' | Matched :- 'False's administered\n",
      " 4 weeks thereafter.' | Qrd txt :- '6.5 Nature and contents of container <and special equipment for use administration or implantation>' | Matched :- 'False' crizanlizumab is administered\n",
      "2021-05-11 01:54:38,795 : Heading Extraction Adakveo-4874 EN PI_SmPC.json : Match Failed | H | CAP |  en | 0 | Adakveo-4874 EN PI_SmPC.json | Doc txt :- 'Special populations' | Qrd txt :- '6.6 Special precautions for disposal <and other handling>' | Matched :- 'False'\n",
      " pharmacokinetics of crizanlizumab in adults are not affected by age.' | Qrd txt :- '6.5 Nature and contents of container <and special equipment for use administration or implantation>' | Matched :- 'False'\n",
      "2021-05-11 01:54:39,621 : Heading Extraction Adakveo-4874 EN PI_SmPC.json : Match Passed | H | CAP |  en | 0 | Adakveo-4874 EN PI_SmPC.json | Doc txt :- 'Paediatric population' | Qrd txt :- 'Paediatric population' | Matched :- 'True'\n",
      "2021-05-11 01:54:39,637 : Heading Extraction Adakveo-4874 EN PI_SmPC.json : Validation Passed | H | CAP |  en | 0 | Adakveo-4874 EN PI_SmPC.json | currHeadId :- '20013' | currParentHeadId :- '20012.0' | prevParentHeadId :- '20011'\n",
      " established. No data are available.' | Qrd txt :- '6.5 Nature and contents of container <and special equipment for use administration or implantation>' | Matched :- 'False'\n"
     ]
    },
    {
     "name": "stdout",
     "output_type": "stream",
     "text": [
      "b'Paediatric population'  |===|  b'Paediatric population'\n",
      "True  ||    ||  b'Paediatric population'  ||  b'Paediatric population'\n"
     ]
    },
    {
     "name": "stderr",
     "output_type": "stream",
     "text": [
      " indication of prevention of recurrent vaso‑occlusive crises.' | Qrd txt :- '6.5 Nature and contents of container <and special equipment for use administration or implantation>' | Matched :- 'False'\n",
      "2021-05-11 01:54:40,055 : Heading Extraction Adakveo-4874 EN PI_SmPC.json : Match Failed In Lowercase | H | CAP |  en | 0 | Adakveo-4874 EN PI_SmPC.json | Doc txt :- 'Method of administration' | Qrd txt :- '4.2 Posology and method of administration' | Matched :- 'False'\n",
      "2021-05-11 01:54:40,062 : Heading Extraction Adakveo-4874 EN PI_SmPC.json : Match Passed | H | CAP |  en | 0 | Adakveo-4874 EN PI_SmPC.json | Doc txt :- 'Method of administration' | Qrd txt :- 'Method of administration ' | Matched :- 'True'\n",
      "2021-05-11 01:54:40,081 : Heading Extraction Adakveo-4874 EN PI_SmPC.json : Validation Passed | H | CAP |  en | 0 | Adakveo-4874 EN PI_SmPC.json | currHeadId :- '20014' | currParentHeadId :- '20011.0' | prevParentHeadId :- '20011'\n",
      " for injection or dextrose 5% before administration.' | Qrd txt :- '6.5 Nature and contents of container <and special equipment for use administration or implantation>' | Matched :- 'False'um chloride 9 mg/ml (0.9%) solution\n"
     ]
    },
    {
     "name": "stdout",
     "output_type": "stream",
     "text": [
      "\n",
      "OriginalCheck\n",
      "('<=7|75.0|(71, 96, 90)|0.69|', 'Method of administration', '4.2 Posology and method of administration')\n",
      "\n",
      "b'Method of administration'  |===|  b'Method of administration '\n",
      "True  ||    ||  b'Method of administration'  ||  b'Method of administration '\n"
     ]
    },
    {
     "name": "stderr",
     "output_type": "stream",
     "text": [
      " on dilution of the medicinal product before administration, see section 6.6.' | Qrd txt :- '6.5 Nature and contents of container <and special equipment for use administration or implantation>' | Matched :- 'False'\n",
      "2021-05-11 01:54:40,609 : Heading Extraction Adakveo-4874 EN PI_SmPC.json : Match Passed | H | CAP |  en | 0 | Adakveo-4874 EN PI_SmPC.json | Doc txt :- '4.3     Contraindications' | Qrd txt :- '4.3 Contraindications' | Matched :- 'True'\n",
      "2021-05-11 01:54:40,626 : Heading Extraction Adakveo-4874 EN PI_SmPC.json : Validation Passed | H | CAP |  en | 0 | Adakveo-4874 EN PI_SmPC.json | currHeadId :- '20016' | currParentHeadId :- '20009.0' | prevParentHeadId :- '20011'\n",
      " to the active substance or to any of the excipients listed in section 6.1.' | Qrd txt :- '6.5 Nature and contents of container <and special equipment for use administration or implantation>' | Matched :- 'False'\n"
     ]
    },
    {
     "name": "stdout",
     "output_type": "stream",
     "text": [
      "b'4.3     Contraindications'  |===|  b'4.3 Contraindications'\n",
      "True  ||    ||  b'4.3     Contraindications'  ||  b'4.3 Contraindications'\n"
     ]
    },
    {
     "name": "stderr",
     "output_type": "stream",
     "text": [
      " precautions for use' | Qrd txt :- '4.4 Special warnings and precautions for use' | Matched :- 'True' en | 0 | Adakveo-4874 EN PI_SmPC.json | Doc txt :- '4.4     Special warnings and\n",
      "2021-05-11 01:54:41,184 : Heading Extraction Adakveo-4874 EN PI_SmPC.json : Validation Passed | H | CAP |  en | 0 | Adakveo-4874 EN PI_SmPC.json | currHeadId :- '20017' | currParentHeadId :- '20009.0' | prevParentHeadId :- '20016'\n",
      "2021-05-11 01:54:41,244 : Heading Extraction Adakveo-4874 EN PI_SmPC.json : Match Passed | H | CAP |  en | 0 | Adakveo-4874 EN PI_SmPC.json | Doc txt :- 'Traceability' | Qrd txt :- 'Traceability' | Matched :- 'True'\n",
      "2021-05-11 01:54:41,260 : Heading Extraction Adakveo-4874 EN PI_SmPC.json : Validation Passed | H | CAP |  en | 0 | Adakveo-4874 EN PI_SmPC.json | currHeadId :- '20018' | currParentHeadId :- '20017.0' | prevParentHeadId :- '20017'\n"
     ]
    },
    {
     "name": "stdout",
     "output_type": "stream",
     "text": [
      "b'4.4     Special warnings and\\r precautions for use'  |===|  b'4.4 Special warnings and precautions for use'\n",
      "True  ||    ||  b'4.4     Special warnings and\\r precautions for use'  ||  b'4.4 Special warnings and precautions for use'\n",
      "b'Traceability'  |===|  b'Traceability'\n",
      "True  ||    ||  b'Traceability'  ||  b'Traceability'\n"
     ]
    },
    {
     "name": "stderr",
     "output_type": "stream",
     "text": [
      " batch number of the administered product should be clearly recorded.' | Qrd txt :- '6.5 Nature and contents of container <and special equipment for use administration or implantation>' | Matched :- 'False'\n",
      "2021-05-11 01:54:41,932 : Heading Extraction Adakveo-4874 EN PI_SmPC.json : Match Failed | H | CAP |  en | 0 | Adakveo-4874 EN PI_SmPC.json | Doc txt :- 'Laboratory test interference: automated platelet counts' | Qrd txt :- '6.5 Nature and contents of container <and special equipment for use administration or implantation>' | Matched :- 'False'\n",
      "2021-05-11 01:54:42,189 : Heading Extraction Adakveo-4874 EN PI_SmPC.json : Match Passed | H | CAP |  en | 0 | Adakveo-4874 EN PI_SmPC.json | Doc txt :- 'Excipients with known effect' | Qrd txt :- 'Excipient(s) with known effect' | Matched :- 'True'\n",
      "2021-05-11 01:54:42,203 : Heading Extraction Adakveo-4874 EN PI_SmPC.json : Validation Failed As Wrong Heading Found | H | CAP |  en | 0 | Adakveo-4874 EN PI_SmPC.json | currHeadId :- '20007' | currParentHeadId :- '20006.0' | prevParentHeadId :- '20017'\n"
     ]
    },
    {
     "name": "stdout",
     "output_type": "stream",
     "text": [
      "b'Excipients with known effect'  |===|  b'Excipient(s) with known effect'\n"
     ]
    },
    {
     "name": "stderr",
     "output_type": "stream",
     "text": [
      " essentially “sodium‑free”.' | Qrd txt :- '6.5 Nature and contents of container <and special equipment for use administration or implantation>' | Matched :- 'False'ine\n",
      " other medicinal products and other forms of interaction' | Qrd txt :- '4.5 Interaction with other medicinal products and other forms of interaction' | Matched :- 'True'tion with\n",
      "2021-05-11 01:54:42,650 : Heading Extraction Adakveo-4874 EN PI_SmPC.json : Validation Passed | H | CAP |  en | 0 | Adakveo-4874 EN PI_SmPC.json | currHeadId :- '20020' | currParentHeadId :- '20009.0' | prevParentHeadId :- '20017'\n",
      " in dedicated studies.' | Qrd txt :- '6.5 Nature and contents of container <and special equipment for use administration or implantation>' | Matched :- 'False'actions\n",
      " in dedicated studies.' | Qrd txt :- '6.6 Special precautions for disposal <and other handling>' | Matched :- 'False'o-4874 EN PI_SmPC.json | Doc txt :- 'Interactions\n"
     ]
    },
    {
     "name": "stdout",
     "output_type": "stream",
     "text": [
      "b'4.5     Interaction with\\r other medicinal products and other forms of interaction'  |===|  b'4.5 Interaction with other medicinal products and other forms of interaction'\n",
      "True  ||    ||  b'4.5     Interaction with\\r other medicinal products and other forms of interaction'  ||  b'4.5 Interaction with other medicinal products and other forms of interaction'\n"
     ]
    },
    {
     "name": "stderr",
     "output_type": "stream",
     "text": [
      " metabolic pathways of monoclonal antibodies.' | Qrd txt :- '6.5 Nature and contents of container <and special equipment for use administration or implantation>' | Matched :- 'False'\n",
      "2021-05-11 01:54:43,111 : Heading Extraction Adakveo-4874 EN PI_SmPC.json : Match Passed | H | CAP |  en | 0 | Adakveo-4874 EN PI_SmPC.json | Doc txt :- '4.6     Fertility, pregnancy and lactation' | Qrd txt :- '4.6 Fertility, pregnancy and lactation' | Matched :- 'True'\n",
      "2021-05-11 01:54:43,121 : Heading Extraction Adakveo-4874 EN PI_SmPC.json : Validation Passed | H | CAP |  en | 0 | Adakveo-4874 EN PI_SmPC.json | currHeadId :- '20022' | currParentHeadId :- '20009.0' | prevParentHeadId :- '20020'\n",
      "2021-05-11 01:54:43,187 : Heading Extraction Adakveo-4874 EN PI_SmPC.json : Match Failed In Lowercase | H | CAP |  en | 0 | Adakveo-4874 EN PI_SmPC.json | Doc txt :- 'Pregnancy' | Qrd txt :- '4.6 Fertility, pregnancy and lactation' | Matched :- 'False'\n",
      "2021-05-11 01:54:43,189 : Heading Extraction Adakveo-4874 EN PI_SmPC.json : Match Passed | H | CAP |  en | 0 | Adakveo-4874 EN PI_SmPC.json | Doc txt :- 'Pregnancy' | Qrd txt :- 'Pregnancy' | Matched :- 'True'\n",
      "2021-05-11 01:54:43,205 : Heading Extraction Adakveo-4874 EN PI_SmPC.json : Validation Passed | H | CAP |  en | 0 | Adakveo-4874 EN PI_SmPC.json | currHeadId :- '20023' | currParentHeadId :- '20022.0' | prevParentHeadId :- '20022'\n"
     ]
    },
    {
     "name": "stdout",
     "output_type": "stream",
     "text": [
      "b'4.6     Fertility, pregnancy and lactation'  |===|  b'4.6 Fertility, pregnancy and lactation'\n",
      "True  ||    ||  b'4.6     Fertility, pregnancy and lactation'  ||  b'4.6 Fertility, pregnancy and lactation'\n",
      "\n",
      "OriginalCheck\n",
      "('<=7|333.33|(34, 89, 90)|0.53|', 'Pregnancy', '4.6 Fertility, pregnancy and lactation')\n",
      "\n",
      "b'Pregnancy'  |===|  b'Pregnancy'\n",
      "True  ||    ||  b'Pregnancy'  ||  b'Pregnancy'\n"
     ]
    },
    {
     "name": "stderr",
     "output_type": "stream",
     "text": [
      "2021-05-11 01:54:43,304 : Heading Extraction Adakveo-4874 EN PI_SmPC.json : Match Passed | H | CAP |  en | 0 | Adakveo-4874 EN PI_SmPC.json | Doc txt :- 'Breast‑feeding' | Qrd txt :- 'Breast-feeding' | Matched :- 'True'\n",
      "2021-05-11 01:54:43,320 : Heading Extraction Adakveo-4874 EN PI_SmPC.json : Validation Passed | H | CAP |  en | 0 | Adakveo-4874 EN PI_SmPC.json | currHeadId :- '20024' | currParentHeadId :- '20022.0' | prevParentHeadId :- '20022'\n"
     ]
    },
    {
     "name": "stdout",
     "output_type": "stream",
     "text": [
      "b'Breast\\xe2\\x80\\x91feeding'  |===|  b'Breast-feeding'\n",
      "True  ||  <=1|7.14|(93, 93, 100)|0.98|  ||  b'Breast\\xe2\\x80\\x91feeding'  ||  b'Breast-feeding'\n"
     ]
    },
    {
     "name": "stderr",
     "output_type": "stream",
     "text": [
      " to the newborn/infant cannot be excluded.' | Qrd txt :- '6.5 Nature and contents of container <and special equipment for use administration or implantation>' | Matched :- 'False'\n",
      "2021-05-11 01:54:43,759 : Heading Extraction Adakveo-4874 EN PI_SmPC.json : Match Failed In Lowercase | H | CAP |  en | 0 | Adakveo-4874 EN PI_SmPC.json | Doc txt :- 'Fertility' | Qrd txt :- '4.6 Fertility, pregnancy and lactation' | Matched :- 'False'\n",
      "2021-05-11 01:54:43,764 : Heading Extraction Adakveo-4874 EN PI_SmPC.json : Match Passed | H | CAP |  en | 0 | Adakveo-4874 EN PI_SmPC.json | Doc txt :- 'Fertility' | Qrd txt :- 'Fertility' | Matched :- 'True'\n",
      "2021-05-11 01:54:43,781 : Heading Extraction Adakveo-4874 EN PI_SmPC.json : Validation Passed | H | CAP |  en | 0 | Adakveo-4874 EN PI_SmPC.json | currHeadId :- '20025' | currParentHeadId :- '20022.0' | prevParentHeadId :- '20022'\n",
      " section 5.3).' | Qrd txt :- '6.5 Nature and contents of container <and special equipment for use administration or implantation>' | Matched :- 'False'- 'There are no\n"
     ]
    },
    {
     "name": "stdout",
     "output_type": "stream",
     "text": [
      "\n",
      "OriginalCheck\n",
      "('<=7|322.22|(38, 100, 90)|0.75|', 'Fertility', '4.6 Fertility, pregnancy and lactation')\n",
      "\n",
      "b'Fertility'  |===|  b'Fertility'\n",
      "True  ||    ||  b'Fertility'  ||  b'Fertility'\n"
     ]
    },
    {
     "name": "stderr",
     "output_type": "stream",
     "text": [
      " to drive and use machines' | Qrd txt :- '4.7 Effects on ability to drive and use machines' | Matched :- 'True'Adakveo-4874 EN PI_SmPC.json | Doc txt :- '4.7     Effects on ability\n",
      "2021-05-11 01:54:44,060 : Heading Extraction Adakveo-4874 EN PI_SmPC.json : Validation Passed | H | CAP |  en | 0 | Adakveo-4874 EN PI_SmPC.json | currHeadId :- '20026' | currParentHeadId :- '20009.0' | prevParentHeadId :- '20022'\n",
      " and somnolence may occur following administration of crizanlizumab.' | Qrd txt :- '6.5 Nature and contents of container <and special equipment for use administration or implantation>' | Matched :- 'False'\n"
     ]
    },
    {
     "name": "stdout",
     "output_type": "stream",
     "text": [
      "b'4.7     Effects on ability\\r to drive and use machines'  |===|  b'4.7 Effects on ability to drive and use machines'\n",
      "True  ||    ||  b'4.7     Effects on ability\\r to drive and use machines'  ||  b'4.7 Effects on ability to drive and use machines'\n"
     ]
    },
    {
     "name": "stderr",
     "output_type": "stream",
     "text": [
      "2021-05-11 01:54:44,341 : Heading Extraction Adakveo-4874 EN PI_SmPC.json : Match Passed | H | CAP |  en | 0 | Adakveo-4874 EN PI_SmPC.json | Doc txt :- '4.8     Undesirable effects' | Qrd txt :- '4.8 Undesirable effects' | Matched :- 'True'\n",
      "2021-05-11 01:54:44,353 : Heading Extraction Adakveo-4874 EN PI_SmPC.json : Validation Passed | H | CAP |  en | 0 | Adakveo-4874 EN PI_SmPC.json | currHeadId :- '20027' | currParentHeadId :- '20009.0' | prevParentHeadId :- '20026'\n"
     ]
    },
    {
     "name": "stdout",
     "output_type": "stream",
     "text": [
      "b'4.8     Undesirable effects'  |===|  b'4.8 Undesirable effects'\n",
      "True  ||    ||  b'4.8     Undesirable effects'  ||  b'4.8 Undesirable effects'\n"
     ]
    },
    {
     "name": "stderr",
     "output_type": "stream",
     "text": [
      "2021-05-11 01:54:44,912 : Heading Extraction Adakveo-4874 EN PI_SmPC.json : Match Failed | H | CAP |  en | 0 | Adakveo-4874 EN PI_SmPC.json | Doc txt :- 'Tabulated list of adverse reactions' | Qrd txt :- '6.6 Special precautions for disposal <and other handling>' | Matched :- 'False'\n",
      " reactions in clinical studies' | Qrd txt :- '6.6 Special precautions for disposal <and other handling>' | Matched :- 'False'N PI_SmPC.json | Doc txt :- 'Table 1       Adverse\n",
      "2021-05-11 01:54:45,429 : Heading Extraction Adakveo-4874 EN PI_SmPC.json : Match Failed | H | CAP |  en | 0 | Adakveo-4874 EN PI_SmPC.json | Doc txt :- 'Description of selected adverse reactions' | Qrd txt :- '6.5 Nature and contents of container <and special equipment for use administration or implantation>' | Matched :- 'False'\n",
      " who received Adakveo 5 mg/kg.' | Qrd txt :- '6.5 Nature and contents of container <and special equipment for use administration or implantation>' | Matched :- 'False'tudies, treatment‑induced anti‑crizanlizumab\n",
      " an altered safety profile with anti‑crizanlizumab antibody development.' | Qrd txt :- '6.5 Nature and contents of container <and special equipment for use administration or implantation>' | Matched :- 'False'\n",
      "2021-05-11 01:54:45,966 : Heading Extraction Adakveo-4874 EN PI_SmPC.json : Match Passed | H | CAP |  en | 0 | Adakveo-4874 EN PI_SmPC.json | Doc txt :- 'Paediatric population' | Qrd txt :- 'Paediatric population' | Matched :- 'True'\n",
      "2021-05-11 01:54:45,977 : Heading Extraction Adakveo-4874 EN PI_SmPC.json : Validation Failed As Previous Heading Found is not matching | H | CAP |  en | 0 | Adakveo-4874 EN PI_SmPC.json | currHeadId :- '20013' | currParentHeadId :- '20012.0' | prevParentHeadId :- '20027'\n",
      "2021-05-11 01:54:45,997 : Heading Extraction Adakveo-4874 EN PI_SmPC.json : Match Passed | H | CAP |  en | 0 | Adakveo-4874 EN PI_SmPC.json | Doc txt :- 'Paediatric population' | Qrd txt :- 'Paediatric population' | Matched :- 'True'\n",
      "2021-05-11 01:54:46,007 : Heading Extraction Adakveo-4874 EN PI_SmPC.json : Validation Failed As Previous Heading Found is not matching | H | CAP |  en | 0 | Adakveo-4874 EN PI_SmPC.json | currHeadId :- '20019' | currParentHeadId :- '20017.0' | prevParentHeadId :- '20027'\n",
      "2021-05-11 01:54:46,014 : Heading Extraction Adakveo-4874 EN PI_SmPC.json : Match Passed | H | CAP |  en | 0 | Adakveo-4874 EN PI_SmPC.json | Doc txt :- 'Paediatric population' | Qrd txt :- 'Paediatric population' | Matched :- 'True'\n",
      "2021-05-11 01:54:46,027 : Heading Extraction Adakveo-4874 EN PI_SmPC.json : Validation Failed As Previous Heading Found is not matching | H | CAP |  en | 0 | Adakveo-4874 EN PI_SmPC.json | currHeadId :- '20021' | currParentHeadId :- '20020.0' | prevParentHeadId :- '20027'\n",
      "2021-05-11 01:54:46,045 : Heading Extraction Adakveo-4874 EN PI_SmPC.json : Match Passed | H | CAP |  en | 0 | Adakveo-4874 EN PI_SmPC.json | Doc txt :- 'Paediatric population' | Qrd txt :- 'Paediatric population' | Matched :- 'True'\n",
      "2021-05-11 01:54:46,060 : Heading Extraction Adakveo-4874 EN PI_SmPC.json : Validation Passed | H | CAP |  en | 0 | Adakveo-4874 EN PI_SmPC.json | currHeadId :- '20028' | currParentHeadId :- '20027.0' | prevParentHeadId :- '20027'\n"
     ]
    },
    {
     "name": "stdout",
     "output_type": "stream",
     "text": [
      "b'Paediatric population'  |===|  b'Paediatric population'\n",
      "b'Paediatric population'  |===|  b'Paediatric population'\n",
      "b'Paediatric population'  |===|  b'Paediatric population'\n",
      "b'Paediatric population'  |===|  b'Paediatric population'\n",
      "True  ||    ||  b'Paediatric population'  ||  b'Paediatric population'\n"
     ]
    },
    {
     "name": "stderr",
     "output_type": "stream",
     "text": [
      "2021-05-11 01:54:46,446 : Heading Extraction Adakveo-4874 EN PI_SmPC.json : Match Passed | H | CAP |  en | 0 | Adakveo-4874 EN PI_SmPC.json | Doc txt :- 'Reporting of suspected adverse reactions' | Qrd txt :- 'Reporting of suspected adverse reactions' | Matched :- 'True'\n",
      "2021-05-11 01:54:46,463 : Heading Extraction Adakveo-4874 EN PI_SmPC.json : Validation Passed | H | CAP |  en | 0 | Adakveo-4874 EN PI_SmPC.json | currHeadId :- '20029' | currParentHeadId :- '20027.0' | prevParentHeadId :- '20027'\n",
      "2021-05-11 01:54:46,609 : Heading Extraction Adakveo-4874 EN PI_SmPC.json : Match Passed | H | CAP |  en | 0 | Adakveo-4874 EN PI_SmPC.json | Doc txt :- '4.9     Overdose' | Qrd txt :- '4.9 Overdose' | Matched :- 'True'\n",
      "2021-05-11 01:54:46,627 : Heading Extraction Adakveo-4874 EN PI_SmPC.json : Validation Passed | H | CAP |  en | 0 | Adakveo-4874 EN PI_SmPC.json | currHeadId :- '20030' | currParentHeadId :- '20009.0' | prevParentHeadId :- '20027'\n"
     ]
    },
    {
     "name": "stdout",
     "output_type": "stream",
     "text": [
      "b'Reporting of suspected adverse reactions'  |===|  b'Reporting of suspected adverse reactions'\n",
      "True  ||    ||  b'Reporting of suspected adverse reactions'  ||  b'Reporting of suspected adverse reactions'\n",
      "b'4.9     Overdose'  |===|  b'4.9 Overdose'\n",
      "True  ||    ||  b'4.9     Overdose'  ||  b'4.9 Overdose'\n"
     ]
    },
    {
     "name": "stderr",
     "output_type": "stream",
     "text": [
      "2021-05-11 01:54:46,842 : Heading Extraction Adakveo-4874 EN PI_SmPC.json : Match Failed | H | CAP |  en | 0 | Adakveo-4874 EN PI_SmPC.json | Doc txt :- 'No cases of overdose have been reported in clinical studies.' | Qrd txt :- '6.6 Special precautions for disposal <and other handling>' | Matched :- 'False'\n",
      " overdose.' | Qrd txt :- '6.5 Nature and contents of container <and special equipment for use administration or implantation>' | Matched :- 'False'xt :- 'General supportive\n",
      " PROPERTIES' | Qrd txt :- '5. PHARMACOLOGICAL PROPERTIES' | Matched :- 'True'atch Passed | H | CAP |  en | 0 | Adakveo-4874 EN PI_SmPC.json | Doc txt :- '5.       PHARMACOLOGICAL\n",
      "2021-05-11 01:54:47,278 : Heading Extraction Adakveo-4874 EN PI_SmPC.json : Validation Passed | H | CAP |  en | 0 | Adakveo-4874 EN PI_SmPC.json | currHeadId :- '20032' | currParentHeadId :- '20001.0' | prevParentHeadId :- '20030'\n",
      " properties' | Qrd txt :- '5.1 Pharmacodynamic properties' | Matched :- 'True'tch Passed | H | CAP |  en | 0 | Adakveo-4874 EN PI_SmPC.json | Doc txt :- '5.1     Pharmacodynamic\n",
      "2021-05-11 01:54:47,445 : Heading Extraction Adakveo-4874 EN PI_SmPC.json : Validation Passed | H | CAP |  en | 0 | Adakveo-4874 EN PI_SmPC.json | currHeadId :- '20033' | currParentHeadId :- '20032.0' | prevParentHeadId :- '20032'\n"
     ]
    },
    {
     "name": "stdout",
     "output_type": "stream",
     "text": [
      "b'5.       PHARMACOLOGICAL\\r PROPERTIES'  |===|  b'5. PHARMACOLOGICAL PROPERTIES'\n",
      "True  ||    ||  b'5.       PHARMACOLOGICAL\\r PROPERTIES'  ||  b'5. PHARMACOLOGICAL PROPERTIES'\n",
      "b'5.1     Pharmacodynamic\\r properties'  |===|  b'5.1 Pharmacodynamic properties'\n",
      "True  ||    ||  b'5.1     Pharmacodynamic\\r properties'  ||  b'5.1 Pharmacodynamic properties'\n"
     ]
    },
    {
     "name": "stderr",
     "output_type": "stream",
     "text": [
      "2021-05-11 01:54:47,827 : Heading Extraction Adakveo-4874 EN PI_SmPC.json : Match Passed | H | CAP |  en | 0 | Adakveo-4874 EN PI_SmPC.json | Doc txt :- 'Mechanism of action' | Qrd txt :- 'Mechanism of action' | Matched :- 'True'\n",
      "2021-05-11 01:54:47,843 : Heading Extraction Adakveo-4874 EN PI_SmPC.json : Validation Passed | H | CAP |  en | 0 | Adakveo-4874 EN PI_SmPC.json | currHeadId :- '20034' | currParentHeadId :- '20033.0' | prevParentHeadId :- '20033'\n"
     ]
    },
    {
     "name": "stdout",
     "output_type": "stream",
     "text": [
      "b'Mechanism of action'  |===|  b'Mechanism of action'\n",
      "True  ||    ||  b'Mechanism of action'  ||  b'Mechanism of action'\n"
     ]
    },
    {
     "name": "stderr",
     "output_type": "stream",
     "text": [
      "2021-05-11 01:54:48,120 : Heading Extraction Adakveo-4874 EN PI_SmPC.json : Match Passed | H | CAP |  en | 0 | Adakveo-4874 EN PI_SmPC.json | Doc txt :- 'Pharmacodynamic effects' | Qrd txt :- 'Pharmacodynamic effects' | Matched :- 'True'\n",
      "2021-05-11 01:54:48,151 : Heading Extraction Adakveo-4874 EN PI_SmPC.json : Validation Passed | H | CAP |  en | 0 | Adakveo-4874 EN PI_SmPC.json | currHeadId :- '20035' | currParentHeadId :- '20033.0' | prevParentHeadId :- '20033'\n"
     ]
    },
    {
     "name": "stdout",
     "output_type": "stream",
     "text": [
      "b'Pharmacodynamic effects'  |===|  b'Pharmacodynamic effects'\n",
      "True  ||    ||  b'Pharmacodynamic effects'  ||  b'Pharmacodynamic effects'\n"
     ]
    },
    {
     "name": "stderr",
     "output_type": "stream",
     "text": [
      "2021-05-11 01:54:48,426 : Heading Extraction Adakveo-4874 EN PI_SmPC.json : Match Passed | H | CAP |  en | 0 | Adakveo-4874 EN PI_SmPC.json | Doc txt :- 'Clinical efficacy and safety' | Qrd txt :- 'Clinical efficacy and safety' | Matched :- 'True'\n",
      "2021-05-11 01:54:48,444 : Heading Extraction Adakveo-4874 EN PI_SmPC.json : Validation Passed | H | CAP |  en | 0 | Adakveo-4874 EN PI_SmPC.json | currHeadId :- '20036' | currParentHeadId :- '20033.0' | prevParentHeadId :- '20033'\n",
      " in Tables 2 and 3.' | Qrd txt :- '6.5 Nature and contents of container <and special equipment for use administration or implantation>' | Matched :- 'False'in efficacy outcomes of the pivotal SUSTAIN study are summarised\n"
     ]
    },
    {
     "name": "stdout",
     "output_type": "stream",
     "text": [
      "b'Clinical efficacy and safety'  |===|  b'Clinical efficacy and safety'\n",
      "True  ||    ||  b'Clinical efficacy and safety'  ||  b'Clinical efficacy and safety'\n"
     ]
    },
    {
     "name": "stderr",
     "output_type": "stream",
     "text": [
      " subgroup analyses' | Qrd txt :- '6.6 Special precautions for disposal <and other handling>' | Matched :- 'False'akveo-4874 EN PI_SmPC.json | Doc txt :- 'Table 3       Annual rate of VOCs in patients ‑\n",
      "2021-05-11 01:54:49,564 : Heading Extraction Adakveo-4874 EN PI_SmPC.json : Match Passed | H | CAP |  en | 0 | Adakveo-4874 EN PI_SmPC.json | Doc txt :- 'Paediatric population' | Qrd txt :- 'Paediatric population' | Matched :- 'True'\n",
      "2021-05-11 01:54:49,577 : Heading Extraction Adakveo-4874 EN PI_SmPC.json : Validation Failed As Previous Heading Found is not matching | H | CAP |  en | 0 | Adakveo-4874 EN PI_SmPC.json | currHeadId :- '20013' | currParentHeadId :- '20012.0' | prevParentHeadId :- '20033'\n",
      "2021-05-11 01:54:49,604 : Heading Extraction Adakveo-4874 EN PI_SmPC.json : Match Passed | H | CAP |  en | 0 | Adakveo-4874 EN PI_SmPC.json | Doc txt :- 'Paediatric population' | Qrd txt :- 'Paediatric population' | Matched :- 'True'\n",
      "2021-05-11 01:54:49,622 : Heading Extraction Adakveo-4874 EN PI_SmPC.json : Validation Failed As Previous Heading Found is not matching | H | CAP |  en | 0 | Adakveo-4874 EN PI_SmPC.json | currHeadId :- '20019' | currParentHeadId :- '20017.0' | prevParentHeadId :- '20033'\n",
      "2021-05-11 01:54:49,633 : Heading Extraction Adakveo-4874 EN PI_SmPC.json : Match Passed | H | CAP |  en | 0 | Adakveo-4874 EN PI_SmPC.json | Doc txt :- 'Paediatric population' | Qrd txt :- 'Paediatric population' | Matched :- 'True'\n",
      "2021-05-11 01:54:49,647 : Heading Extraction Adakveo-4874 EN PI_SmPC.json : Validation Failed As Previous Heading Found is not matching | H | CAP |  en | 0 | Adakveo-4874 EN PI_SmPC.json | currHeadId :- '20021' | currParentHeadId :- '20020.0' | prevParentHeadId :- '20033'\n",
      "2021-05-11 01:54:49,669 : Heading Extraction Adakveo-4874 EN PI_SmPC.json : Match Passed | H | CAP |  en | 0 | Adakveo-4874 EN PI_SmPC.json | Doc txt :- 'Paediatric population' | Qrd txt :- 'Paediatric population' | Matched :- 'True'\n",
      "2021-05-11 01:54:49,681 : Heading Extraction Adakveo-4874 EN PI_SmPC.json : Validation Failed As Previous Heading Found is not matching | H | CAP |  en | 0 | Adakveo-4874 EN PI_SmPC.json | currHeadId :- '20028' | currParentHeadId :- '20027.0' | prevParentHeadId :- '20033'\n",
      "2021-05-11 01:54:49,698 : Heading Extraction Adakveo-4874 EN PI_SmPC.json : Match Passed | H | CAP |  en | 0 | Adakveo-4874 EN PI_SmPC.json | Doc txt :- 'Paediatric population' | Qrd txt :- 'Paediatric population' | Matched :- 'True'\n",
      "2021-05-11 01:54:49,711 : Heading Extraction Adakveo-4874 EN PI_SmPC.json : Validation Failed As Previous Heading Found is not matching | H | CAP |  en | 0 | Adakveo-4874 EN PI_SmPC.json | currHeadId :- '20031' | currParentHeadId :- '20030.0' | prevParentHeadId :- '20033'\n",
      "2021-05-11 01:54:49,732 : Heading Extraction Adakveo-4874 EN PI_SmPC.json : Match Passed | H | CAP |  en | 0 | Adakveo-4874 EN PI_SmPC.json | Doc txt :- 'Paediatric population' | Qrd txt :- 'Paediatric population' | Matched :- 'True'\n",
      "2021-05-11 01:54:49,749 : Heading Extraction Adakveo-4874 EN PI_SmPC.json : Validation Passed | H | CAP |  en | 0 | Adakveo-4874 EN PI_SmPC.json | currHeadId :- '20037' | currParentHeadId :- '20033.0' | prevParentHeadId :- '20033'\n"
     ]
    },
    {
     "name": "stdout",
     "output_type": "stream",
     "text": [
      "b'Paediatric population'  |===|  b'Paediatric population'\n",
      "b'Paediatric population'  |===|  b'Paediatric population'\n",
      "b'Paediatric population'  |===|  b'Paediatric population'\n",
      "b'Paediatric population'  |===|  b'Paediatric population'\n",
      "b'Paediatric population'  |===|  b'Paediatric population'\n",
      "b'Paediatric population'  |===|  b'Paediatric population'\n",
      "True  ||    ||  b'Paediatric population'  ||  b'Paediatric population'\n"
     ]
    },
    {
     "name": "stderr",
     "output_type": "stream",
     "text": [
      " scheme. This means that further evidence on this medicinal product is awaited.' | Qrd txt :- '6.5 Nature and contents of container <and special equipment for use administration or implantation>' | Matched :- 'False'\n",
      " every year and this SmPC will be updated as necessary.' | Qrd txt :- '6.5 Nature and contents of container <and special equipment for use administration or implantation>' | Matched :- 'False'\n",
      " properties' | Qrd txt :- '5.1 Pharmacodynamic properties' | Matched :- 'False'ch Failed | H | CAP |  en | 0 | Adakveo-4874 EN PI_SmPC.json | Doc txt :- '5.2     Pharmacokinetic\n",
      " properties' | Qrd txt :- '5.2 Pharmacokinetic properties' | Matched :- 'True'tch Passed | H | CAP |  en | 0 | Adakveo-4874 EN PI_SmPC.json | Doc txt :- '5.2     Pharmacokinetic\n",
      "2021-05-11 01:54:50,639 : Heading Extraction Adakveo-4874 EN PI_SmPC.json : Validation Passed | H | CAP |  en | 0 | Adakveo-4874 EN PI_SmPC.json | currHeadId :- '20038' | currParentHeadId :- '20032.0' | prevParentHeadId :- '20033'\n",
      "2021-05-11 01:54:50,746 : Heading Extraction Adakveo-4874 EN PI_SmPC.json : Match Passed | H | CAP |  en | 0 | Adakveo-4874 EN PI_SmPC.json | Doc txt :- 'Absorption' | Qrd txt :- 'Absorption' | Matched :- 'True'\n",
      "2021-05-11 01:54:50,762 : Heading Extraction Adakveo-4874 EN PI_SmPC.json : Validation Passed | H | CAP |  en | 0 | Adakveo-4874 EN PI_SmPC.json | currHeadId :- '20039' | currParentHeadId :- '20038.0' | prevParentHeadId :- '20038'\n"
     ]
    },
    {
     "name": "stdout",
     "output_type": "stream",
     "text": [
      "b'5.2     Pharmacokinetic\\r properties'  |===|  b'5.2 Pharmacokinetic properties'\n",
      "True  ||    ||  b'5.2     Pharmacokinetic\\r properties'  ||  b'5.2 Pharmacokinetic properties'\n",
      "b'Absorption'  |===|  b'Absorption'\n",
      "True  ||    ||  b'Absorption'  ||  b'Absorption'\n"
     ]
    },
    {
     "name": "stderr",
     "output_type": "stream",
     "text": [
      "2021-05-11 01:54:51,004 : Heading Extraction Adakveo-4874 EN PI_SmPC.json : Match Passed | H | CAP |  en | 0 | Adakveo-4874 EN PI_SmPC.json | Doc txt :- 'Distribution' | Qrd txt :- 'Distribution' | Matched :- 'True'\n",
      "2021-05-11 01:54:51,022 : Heading Extraction Adakveo-4874 EN PI_SmPC.json : Validation Passed | H | CAP |  en | 0 | Adakveo-4874 EN PI_SmPC.json | currHeadId :- '20040' | currParentHeadId :- '20038.0' | prevParentHeadId :- '20038'\n"
     ]
    },
    {
     "name": "stdout",
     "output_type": "stream",
     "text": [
      "b'Distribution'  |===|  b'Distribution'\n",
      "True  ||    ||  b'Distribution'  ||  b'Distribution'\n"
     ]
    },
    {
     "name": "stderr",
     "output_type": "stream",
     "text": [
      "2021-05-11 01:54:51,325 : Heading Extraction Adakveo-4874 EN PI_SmPC.json : Match Passed | H | CAP |  en | 0 | Adakveo-4874 EN PI_SmPC.json | Doc txt :- 'Biotransformation' | Qrd txt :- 'Biotransformation' | Matched :- 'True'\n",
      "2021-05-11 01:54:51,344 : Heading Extraction Adakveo-4874 EN PI_SmPC.json : Validation Passed | H | CAP |  en | 0 | Adakveo-4874 EN PI_SmPC.json | currHeadId :- '20041' | currParentHeadId :- '20038.0' | prevParentHeadId :- '20038'\n",
      " peptides and amino acids.' | Qrd txt :- '6.5 Nature and contents of container <and special equipment for use administration or implantation>' | Matched :- 'False's are\n"
     ]
    },
    {
     "name": "stdout",
     "output_type": "stream",
     "text": [
      "b'Biotransformation'  |===|  b'Biotransformation'\n",
      "True  ||    ||  b'Biotransformation'  ||  b'Biotransformation'\n"
     ]
    },
    {
     "name": "stderr",
     "output_type": "stream",
     "text": [
      "2021-05-11 01:54:51,668 : Heading Extraction Adakveo-4874 EN PI_SmPC.json : Match Passed | H | CAP |  en | 0 | Adakveo-4874 EN PI_SmPC.json | Doc txt :- 'Elimination' | Qrd txt :- 'Elimination' | Matched :- 'True'\n",
      "2021-05-11 01:54:51,686 : Heading Extraction Adakveo-4874 EN PI_SmPC.json : Validation Passed | H | CAP |  en | 0 | Adakveo-4874 EN PI_SmPC.json | currHeadId :- '20042' | currParentHeadId :- '20038.0' | prevParentHeadId :- '20038'\n"
     ]
    },
    {
     "name": "stdout",
     "output_type": "stream",
     "text": [
      "b'Elimination'  |===|  b'Elimination'\n",
      "True  ||    ||  b'Elimination'  ||  b'Elimination'\n"
     ]
    },
    {
     "name": "stderr",
     "output_type": "stream",
     "text": [
      "2021-05-11 01:54:51,937 : Heading Extraction Adakveo-4874 EN PI_SmPC.json : Match Passed | H | CAP |  en | 0 | Adakveo-4874 EN PI_SmPC.json | Doc txt :- 'Linearity/non‑linearity' | Qrd txt :- 'Linearity/non-linearity' | Matched :- 'True'\n",
      "2021-05-11 01:54:51,954 : Heading Extraction Adakveo-4874 EN PI_SmPC.json : Validation Passed | H | CAP |  en | 0 | Adakveo-4874 EN PI_SmPC.json | currHeadId :- '20043' | currParentHeadId :- '20038.0' | prevParentHeadId :- '20038'\n",
      " in healthy volunteers.' | Qrd txt :- '6.5 Nature and contents of container <and special equipment for use administration or implantation>' | Matched :- 'False'posure to\n"
     ]
    },
    {
     "name": "stdout",
     "output_type": "stream",
     "text": [
      "b'Linearity/non\\xe2\\x80\\x91linearity'  |===|  b'Linearity/non-linearity'\n",
      "True  ||  <=1|4.35|(96, 96, 100)|0.99|  ||  b'Linearity/non\\xe2\\x80\\x91linearity'  ||  b'Linearity/non-linearity'\n"
     ]
    },
    {
     "name": "stderr",
     "output_type": "stream",
     "text": [
      "2021-05-11 01:54:52,289 : Heading Extraction Adakveo-4874 EN PI_SmPC.json : Match Failed | H | CAP |  en | 0 | Adakveo-4874 EN PI_SmPC.json | Doc txt :- 'Special populations' | Qrd txt :- '6.6 Special precautions for disposal <and other handling>' | Matched :- 'False'\n",
      "2021-05-11 01:54:52,727 : Heading Extraction Adakveo-4874 EN PI_SmPC.json : Match Passed | H | CAP |  en | 0 | Adakveo-4874 EN PI_SmPC.json | Doc txt :- 'Paediatric population' | Qrd txt :- 'Paediatric population' | Matched :- 'True'\n",
      "2021-05-11 01:54:52,738 : Heading Extraction Adakveo-4874 EN PI_SmPC.json : Validation Failed As Previous Heading Found is not matching | H | CAP |  en | 0 | Adakveo-4874 EN PI_SmPC.json | currHeadId :- '20013' | currParentHeadId :- '20012.0' | prevParentHeadId :- '20038'\n",
      "2021-05-11 01:54:52,762 : Heading Extraction Adakveo-4874 EN PI_SmPC.json : Match Passed | H | CAP |  en | 0 | Adakveo-4874 EN PI_SmPC.json | Doc txt :- 'Paediatric population' | Qrd txt :- 'Paediatric population' | Matched :- 'True'\n",
      "2021-05-11 01:54:52,773 : Heading Extraction Adakveo-4874 EN PI_SmPC.json : Validation Failed As Previous Heading Found is not matching | H | CAP |  en | 0 | Adakveo-4874 EN PI_SmPC.json | currHeadId :- '20019' | currParentHeadId :- '20017.0' | prevParentHeadId :- '20038'\n",
      "2021-05-11 01:54:52,779 : Heading Extraction Adakveo-4874 EN PI_SmPC.json : Match Passed | H | CAP |  en | 0 | Adakveo-4874 EN PI_SmPC.json | Doc txt :- 'Paediatric population' | Qrd txt :- 'Paediatric population' | Matched :- 'True'\n",
      "2021-05-11 01:54:52,790 : Heading Extraction Adakveo-4874 EN PI_SmPC.json : Validation Failed As Previous Heading Found is not matching | H | CAP |  en | 0 | Adakveo-4874 EN PI_SmPC.json | currHeadId :- '20021' | currParentHeadId :- '20020.0' | prevParentHeadId :- '20038'\n",
      "2021-05-11 01:54:52,807 : Heading Extraction Adakveo-4874 EN PI_SmPC.json : Match Passed | H | CAP |  en | 0 | Adakveo-4874 EN PI_SmPC.json | Doc txt :- 'Paediatric population' | Qrd txt :- 'Paediatric population' | Matched :- 'True'\n",
      "2021-05-11 01:54:52,817 : Heading Extraction Adakveo-4874 EN PI_SmPC.json : Validation Failed As Previous Heading Found is not matching | H | CAP |  en | 0 | Adakveo-4874 EN PI_SmPC.json | currHeadId :- '20028' | currParentHeadId :- '20027.0' | prevParentHeadId :- '20038'\n",
      "2021-05-11 01:54:52,827 : Heading Extraction Adakveo-4874 EN PI_SmPC.json : Match Passed | H | CAP |  en | 0 | Adakveo-4874 EN PI_SmPC.json | Doc txt :- 'Paediatric population' | Qrd txt :- 'Paediatric population' | Matched :- 'True'\n",
      "2021-05-11 01:54:52,839 : Heading Extraction Adakveo-4874 EN PI_SmPC.json : Validation Failed As Previous Heading Found is not matching | H | CAP |  en | 0 | Adakveo-4874 EN PI_SmPC.json | currHeadId :- '20031' | currParentHeadId :- '20030.0' | prevParentHeadId :- '20038'\n",
      "2021-05-11 01:54:52,858 : Heading Extraction Adakveo-4874 EN PI_SmPC.json : Match Passed | H | CAP |  en | 0 | Adakveo-4874 EN PI_SmPC.json | Doc txt :- 'Paediatric population' | Qrd txt :- 'Paediatric population' | Matched :- 'True'\n",
      "2021-05-11 01:54:52,870 : Heading Extraction Adakveo-4874 EN PI_SmPC.json : Validation Failed As Previous Heading Found is not matching | H | CAP |  en | 0 | Adakveo-4874 EN PI_SmPC.json | currHeadId :- '20037' | currParentHeadId :- '20033.0' | prevParentHeadId :- '20038'\n",
      "2021-05-11 01:54:52,926 : Heading Extraction Adakveo-4874 EN PI_SmPC.json : Match Failed | H | CAP |  en | 0 | Adakveo-4874 EN PI_SmPC.json | Doc txt :- 'Paediatric population' | Qrd txt :- '6.6 Special precautions for disposal <and other handling>' | Matched :- 'False'\n"
     ]
    },
    {
     "name": "stdout",
     "output_type": "stream",
     "text": [
      "b'Paediatric population'  |===|  b'Paediatric population'\n",
      "b'Paediatric population'  |===|  b'Paediatric population'\n",
      "b'Paediatric population'  |===|  b'Paediatric population'\n",
      "b'Paediatric population'  |===|  b'Paediatric population'\n",
      "b'Paediatric population'  |===|  b'Paediatric population'\n",
      "b'Paediatric population'  |===|  b'Paediatric population'\n"
     ]
    },
    {
     "name": "stderr",
     "output_type": "stream",
     "text": [
      "2021-05-11 01:54:52,934 : Heading Extraction Adakveo-4874 EN PI_SmPC.json : Match Failed In Lowercase | H | CAP |  en | 0 | Adakveo-4874 EN PI_SmPC.json | Doc txt :- 'Paediatric population' | Qrd txt :- 'Use in the paediatric population' | Matched :- 'False'\n",
      " investigated.' | Qrd txt :- '6.5 Nature and contents of container <and special equipment for use administration or implantation>' | Matched :- 'False'- 'Pharmacokinetics\n"
     ]
    },
    {
     "name": "stdout",
     "output_type": "stream",
     "text": [
      "\n",
      "OriginalCheck\n",
      "('<=7|57.14|(75, 95, 90)|0.69|', 'Paediatric population', 'Use in the paediatric population')\n",
      "\n"
     ]
    },
    {
     "name": "stderr",
     "output_type": "stream",
     "text": [
      " data' | Qrd txt :- '5.3 Preclinical safety data' | Matched :- 'True'json : Match Passed | H | CAP |  en | 0 | Adakveo-4874 EN PI_SmPC.json | Doc txt :- '5.3     Preclinical safety\n",
      "2021-05-11 01:54:53,258 : Heading Extraction Adakveo-4874 EN PI_SmPC.json : Validation Passed | H | CAP |  en | 0 | Adakveo-4874 EN PI_SmPC.json | currHeadId :- '20045' | currParentHeadId :- '20032.0' | prevParentHeadId :- '20038'\n",
      " and repeated dose toxicity.' | Qrd txt :- '6.5 Nature and contents of container <and special equipment for use administration or implantation>' | Matched :- 'False'l data revealed no special hazard for humans based\n"
     ]
    },
    {
     "name": "stdout",
     "output_type": "stream",
     "text": [
      "b'5.3     Preclinical safety\\r data'  |===|  b'5.3 Preclinical safety data'\n",
      "True  ||    ||  b'5.3     Preclinical safety\\r data'  ||  b'5.3 Preclinical safety data'\n"
     ]
    },
    {
     "name": "stderr",
     "output_type": "stream",
     "text": [
      " conducted with crizanlizumab.' | Qrd txt :- '6.5 Nature and contents of container <and special equipment for use administration or implantation>' | Matched :- 'False'\n",
      " antibodies, crosses the placental barrier.' | Qrd txt :- '6.5 Nature and contents of container <and special equipment for use administration or implantation>' | Matched :- 'False'\n",
      " PARTICULARS' | Qrd txt :- '6. PHARMACEUTICAL PARTICULARS' | Matched :- 'True'tch Passed | H | CAP |  en | 0 | Adakveo-4874 EN PI_SmPC.json | Doc txt :- '6.       PHARMACEUTICAL\n",
      "2021-05-11 01:54:53,845 : Heading Extraction Adakveo-4874 EN PI_SmPC.json : Validation Passed | H | CAP |  en | 0 | Adakveo-4874 EN PI_SmPC.json | currHeadId :- '20047' | currParentHeadId :- '20001.0' | prevParentHeadId :- '20045'\n",
      "2021-05-11 01:54:54,014 : Heading Extraction Adakveo-4874 EN PI_SmPC.json : Match Passed | H | CAP |  en | 0 | Adakveo-4874 EN PI_SmPC.json | Doc txt :- '6.1     List of excipients' | Qrd txt :- '6.1 List of excipients' | Matched :- 'True'\n",
      "2021-05-11 01:54:54,023 : Heading Extraction Adakveo-4874 EN PI_SmPC.json : Validation Passed | H | CAP |  en | 0 | Adakveo-4874 EN PI_SmPC.json | currHeadId :- '20048' | currParentHeadId :- '20047.0' | prevParentHeadId :- '20047'\n"
     ]
    },
    {
     "name": "stdout",
     "output_type": "stream",
     "text": [
      "b'6.       PHARMACEUTICAL\\r PARTICULARS'  |===|  b'6. PHARMACEUTICAL PARTICULARS'\n",
      "True  ||    ||  b'6.       PHARMACEUTICAL\\r PARTICULARS'  ||  b'6. PHARMACEUTICAL PARTICULARS'\n",
      "b'6.1     List of excipients'  |===|  b'6.1 List of excipients'\n",
      "True  ||    ||  b'6.1     List of excipients'  ||  b'6.1 List of excipients'\n"
     ]
    },
    {
     "name": "stderr",
     "output_type": "stream",
     "text": [
      "2021-05-11 01:54:55,017 : Heading Extraction Adakveo-4874 EN PI_SmPC.json : Match Passed | H | CAP |  en | 0 | Adakveo-4874 EN PI_SmPC.json | Doc txt :- '6.2     Incompatibilities' | Qrd txt :- '6.2 Incompatibilities' | Matched :- 'True'\n",
      "2021-05-11 01:54:55,027 : Heading Extraction Adakveo-4874 EN PI_SmPC.json : Validation Passed | H | CAP |  en | 0 | Adakveo-4874 EN PI_SmPC.json | currHeadId :- '20049' | currParentHeadId :- '20047.0' | prevParentHeadId :- '20048'\n",
      " except those mentioned in section 6.6.' | Qrd txt :- '6.5 Nature and contents of container <and special equipment for use administration or implantation>' | Matched :- 'False'\n"
     ]
    },
    {
     "name": "stdout",
     "output_type": "stream",
     "text": [
      "b'6.2     Incompatibilities'  |===|  b'6.2 Incompatibilities'\n",
      "True  ||    ||  b'6.2     Incompatibilities'  ||  b'6.2 Incompatibilities'\n"
     ]
    },
    {
     "name": "stderr",
     "output_type": "stream",
     "text": [
      "2021-05-11 01:54:55,321 : Heading Extraction Adakveo-4874 EN PI_SmPC.json : Match Passed | H | CAP |  en | 0 | Adakveo-4874 EN PI_SmPC.json | Doc txt :- '6.3     Shelf life' | Qrd txt :- '6.3 Shelf life' | Matched :- 'True'\n",
      "2021-05-11 01:54:55,331 : Heading Extraction Adakveo-4874 EN PI_SmPC.json : Validation Passed | H | CAP |  en | 0 | Adakveo-4874 EN PI_SmPC.json | currHeadId :- '20050' | currParentHeadId :- '20047.0' | prevParentHeadId :- '20049'\n"
     ]
    },
    {
     "name": "stdout",
     "output_type": "stream",
     "text": [
      "b'6.3     Shelf life'  |===|  b'6.3 Shelf life'\n",
      "True  ||    ||  b'6.3     Shelf life'  ||  b'6.3 Shelf life'\n"
     ]
    },
    {
     "name": "stderr",
     "output_type": "stream",
     "text": [
      " for storage' | Qrd txt :- '6.4 Special precautions for storage' | Matched :- 'True'ssed | H | CAP |  en | 0 | Adakveo-4874 EN PI_SmPC.json | Doc txt :- '6.4     Special precautions\n",
      "2021-05-11 01:54:56,053 : Heading Extraction Adakveo-4874 EN PI_SmPC.json : Validation Passed | H | CAP |  en | 0 | Adakveo-4874 EN PI_SmPC.json | currHeadId :- '20051' | currParentHeadId :- '20047.0' | prevParentHeadId :- '20050'\n"
     ]
    },
    {
     "name": "stdout",
     "output_type": "stream",
     "text": [
      "b'6.4     Special precautions\\r for storage'  |===|  b'6.4 Special precautions for storage'\n",
      "True  ||    ||  b'6.4     Special precautions\\r for storage'  ||  b'6.4 Special precautions for storage'\n"
     ]
    },
    {
     "name": "stderr",
     "output_type": "stream",
     "text": [
      " the outer carton in order to protect from light.' | Qrd txt :- '6.5 Nature and contents of container <and special equipment for use administration or implantation>' | Matched :- 'False'\n",
      " after dilution of the medicinal product, see section 6.3.' | Qrd txt :- '6.5 Nature and contents of container <and special equipment for use administration or implantation>' | Matched :- 'False'\n",
      " after dilution of the medicinal product, see section 6.3.' | Qrd txt :- '6.6 Special precautions for disposal <and other handling>' | Matched :- 'False''For storage conditions\n",
      " of container' | Qrd txt :- '6.5 Nature and contents of container <and special equipment for use administration or implantation>' | Matched :- 'True' :- '6.5     Nature and contents\n",
      "2021-05-11 01:54:56,910 : Heading Extraction Adakveo-4874 EN PI_SmPC.json : Validation Passed | H | CAP |  en | 0 | Adakveo-4874 EN PI_SmPC.json | currHeadId :- '20052' | currParentHeadId :- '20047.0' | prevParentHeadId :- '20051'\n"
     ]
    },
    {
     "name": "stdout",
     "output_type": "stream",
     "text": [
      "b'6.5     Nature and contents\\r of container'  |===|  b'6.5 Nature and contents of container <and special equipment for use administration or implantation>'\n",
      "True  ||  SpecialCase1|158.33|(48, 81, 86)|0.69|  ||  b'6.5     Nature and contents\\r of container'  ||  b'6.5 Nature and contents of container <and special equipment for use administration or implantation>'\n"
     ]
    },
    {
     "name": "stderr",
     "output_type": "stream",
     "text": [
      " precautions for disposal and other handling' | Qrd txt :- '6.5 Nature and contents of container <and special equipment for use administration or implantation>' | Matched :- 'False'\n",
      " precautions for disposal and other handling' | Qrd txt :- '6.6 Special precautions for disposal <and other handling>' | Matched :- 'True'n | Doc txt :- '6.6     Special\n",
      "2021-05-11 01:54:57,306 : Heading Extraction Adakveo-4874 EN PI_SmPC.json : Validation Passed | H | CAP |  en | 0 | Adakveo-4874 EN PI_SmPC.json | currHeadId :- '20053' | currParentHeadId :- '20047.0' | prevParentHeadId :- '20052'\n"
     ]
    },
    {
     "name": "stdout",
     "output_type": "stream",
     "text": [
      "b'6.6     Special\\r precautions for disposal and other handling'  |===|  b'6.6 Special precautions for disposal <and other handling>'\n",
      "True  ||  SpecialCase2|14.63|(93, 88, 95)|0.98|  ||  b'6.6     Special\\r precautions for disposal and other handling'  ||  b'6.6 Special precautions for disposal <and other handling>'\n"
     ]
    },
    {
     "name": "stderr",
     "output_type": "stream",
     "text": [
      " aseptic techniques.' | Qrd txt :- '6.5 Nature and contents of container <and special equipment for use administration or implantation>' | Matched :- 'False' diluted\n",
      " aseptic techniques.' | Qrd txt :- '6.6 Special precautions for disposal <and other handling>' | Matched :- 'False'veo-4874 EN PI_SmPC.json | Doc txt :- 'The diluted\n",
      " of crizanlizumab is administered per kg body weight.' | Qrd txt :- '6.5 Nature and contents of container <and special equipment for use administration or implantation>' | Matched :- 'False'\n",
      " calculated according to the following equation:' | Qrd txt :- '6.5 Nature and contents of container <and special equipment for use administration or implantation>' | Matched :- 'False'reparation of the infusion is\n",
      " calculated according to the following equation:' | Qrd txt :- '6.6 Special precautions for disposal <and other handling>' | Matched :- 'False'oc txt :- 'The volume to be used for the preparation of the infusion is\n",
      "2021-05-11 01:54:58,820 : Heading Extraction Adakveo-4874 EN PI_SmPC.json : Match Failed | H | CAP |  en | 0 | Adakveo-4874 EN PI_SmPC.json | Doc txt :- '2.       Visually inspect the vials.' | Qrd txt :- '6.6 Special precautions for disposal <and other handling>' | Matched :- 'False'\n",
      " opalescent. Do not use if particles are present in the solution.' | Qrd txt :- '6.5 Nature and contents of container <and special equipment for use administration or implantation>' | Matched :- 'False'\n",
      " opalescent. Do not use if particles are present in the solution.' | Qrd txt :- '6.6 Special precautions for disposal <and other handling>' | Matched :- 'False'olution in the vials should be clear to\n",
      " 5% and discard.' | Qrd txt :- '6.5 Nature and contents of container <and special equipment for use administration or implantation>' | Matched :- 'False''3.       Withdraw a volume\n",
      " infusion bag.' | Qrd txt :- '6.5 Nature and contents of container <and special equipment for use administration or implantation>' | Matched :- 'False'- '4.       Withdraw the necessary\n",
      " products through the same intravenous line.' | Qrd txt :- '6.5 Nature and contents of container <and special equipment for use administration or implantation>' | Matched :- 'False'ixed or co‑administered with other medicinal\n",
      " concentration in the infusion bag within 1 mg/ml to 9.6 mg/ml.' | Qrd txt :- '6.5 Nature and contents of container <and special equipment for use administration or implantation>' | Matched :- 'False'ion\n",
      "2021-05-11 01:54:59,934 : Heading Extraction Adakveo-4874 EN PI_SmPC.json : Match Failed In Lowercase | H | CAP |  en | 0 | Adakveo-4874 EN PI_SmPC.json | Doc txt :- 'Administration' | Qrd txt :- '4.2 Posology and method of administration' | Matched :- 'False'\n",
      "2021-05-11 01:54:59,944 : Heading Extraction Adakveo-4874 EN PI_SmPC.json : Match Failed In Lowercase | H | CAP |  en | 0 | Adakveo-4874 EN PI_SmPC.json | Doc txt :- 'Administration' | Qrd txt :- 'Method of administration ' | Matched :- 'False'\n",
      "2021-05-11 01:55:00,063 : Heading Extraction Adakveo-4874 EN PI_SmPC.json : Match Failed In Lowercase | H | CAP |  en | 0 | Adakveo-4874 EN PI_SmPC.json | Doc txt :- 'Administration' | Qrd txt :- '6.5 Nature and contents of container <and special equipment for use administration or implantation>' | Matched :- 'False'\n"
     ]
    },
    {
     "name": "stdout",
     "output_type": "stream",
     "text": [
      "\n",
      "OriginalCheck\n",
      "('<=7|200.0|(47, 93, 90)|0.47|', 'Administration', '4.2 Posology and method of administration')\n",
      "\n",
      "\n",
      "OriginalCheck\n",
      "('<=4|78.57|(68, 93, 90)|0.7|', 'Administration', 'Method of administration ')\n",
      "\n",
      "\n",
      "OriginalCheck\n",
      "('SpecialCase1|514.29|(26, 93, 90)|0.53|', 'Administration', '6.5 Nature and contents of container <and special equipment for use administration or implantation>')\n",
      "\n"
     ]
    },
    {
     "name": "stderr",
     "output_type": "stream",
     "text": [
      " chloride 9 mg/ml (0.9%) solution for injection or dextrose 5%.' | Qrd txt :- '6.5 Nature and contents of container <and special equipment for use administration or implantation>' | Matched :- 'False'\n",
      "2021-05-11 01:55:00,552 : Heading Extraction Adakveo-4874 EN PI_SmPC.json : Match Failed In Lowercase | H | CAP |  en | 0 | Adakveo-4874 EN PI_SmPC.json | Doc txt :- 'Disposal' | Qrd txt :- '6.6 Special precautions for disposal <and other handling>' | Matched :- 'False'\n",
      " requirements.' | Qrd txt :- '6.5 Nature and contents of container <and special equipment for use administration or implantation>' | Matched :- 'False'- 'Any unused medicinal\n"
     ]
    },
    {
     "name": "stdout",
     "output_type": "stream",
     "text": [
      "\n",
      "OriginalCheck\n",
      "('SpecialCase2|500.0|(25, 88, 90)|0.53|', 'Disposal', '6.6 Special precautions for disposal <and other handling>')\n",
      "\n"
     ]
    },
    {
     "name": "stderr",
     "output_type": "stream",
     "text": [
      " requirements.' | Qrd txt :- '6.6 Special precautions for disposal <and other handling>' | Matched :- 'False'| Adakveo-4874 EN PI_SmPC.json | Doc txt :- 'Any unused medicinal\n",
      " AUTHORISATION HOLDER' | Qrd txt :- '7. MARKETING AUTHORISATION HOLDER' | Matched :- 'True'H | CAP |  en | 0 | Adakveo-4874 EN PI_SmPC.json | Doc txt :- '7.       MARKETING\n",
      "2021-05-11 01:55:01,045 : Heading Extraction Adakveo-4874 EN PI_SmPC.json : Validation Passed | H | CAP |  en | 0 | Adakveo-4874 EN PI_SmPC.json | currHeadId :- '20055' | currParentHeadId :- '20001.0' | prevParentHeadId :- '20053'\n"
     ]
    },
    {
     "name": "stdout",
     "output_type": "stream",
     "text": [
      "b'7.       MARKETING\\r AUTHORISATION HOLDER'  |===|  b'7. MARKETING AUTHORISATION HOLDER'\n",
      "True  ||    ||  b'7.       MARKETING\\r AUTHORISATION HOLDER'  ||  b'7. MARKETING AUTHORISATION HOLDER'\n"
     ]
    },
    {
     "name": "stderr",
     "output_type": "stream",
     "text": [
      " AUTHORISATION NUMBER(S)' | Qrd txt :- '7. MARKETING AUTHORISATION HOLDER' | Matched :- 'False'CAP |  en | 0 | Adakveo-4874 EN PI_SmPC.json | Doc txt :- '8.       MARKETING\n",
      " AUTHORISATION NUMBER(S)' | Qrd txt :- '8. MARKETING AUTHORISATION NUMBER(S)' | Matched :- 'True'P |  en | 0 | Adakveo-4874 EN PI_SmPC.json | Doc txt :- '8.       MARKETING\n",
      "2021-05-11 01:55:02,088 : Heading Extraction Adakveo-4874 EN PI_SmPC.json : Validation Passed | H | CAP |  en | 0 | Adakveo-4874 EN PI_SmPC.json | currHeadId :- '20056' | currParentHeadId :- '20001.0' | prevParentHeadId :- '20055'\n"
     ]
    },
    {
     "name": "stdout",
     "output_type": "stream",
     "text": [
      "b'8.       MARKETING\\r AUTHORISATION NUMBER(S)'  |===|  b'8. MARKETING AUTHORISATION NUMBER(S)'\n",
      "True  ||    ||  b'8.       MARKETING\\r AUTHORISATION NUMBER(S)'  ||  b'8. MARKETING AUTHORISATION NUMBER(S)'\n"
     ]
    },
    {
     "name": "stderr",
     "output_type": "stream",
     "text": [
      " AUTHORISATION' | Qrd txt :- '9. DATE OF FIRST AUTHORISATION/RENEWAL OF THE AUTHORISATION' | Matched :- 'True' Adakveo-4874 EN PI_SmPC.json | Doc txt :- '9.       DATE OF FIRST AUTHORISATION/RENEWAL OF THE\n",
      "2021-05-11 01:55:02,408 : Heading Extraction Adakveo-4874 EN PI_SmPC.json : Validation Passed | H | CAP |  en | 0 | Adakveo-4874 EN PI_SmPC.json | currHeadId :- '20057' | currParentHeadId :- '20001.0' | prevParentHeadId :- '20056'\n",
      "2021-05-11 01:55:02,577 : Heading Extraction Adakveo-4874 EN PI_SmPC.json : Match Passed | H | CAP |  en | 0 | Adakveo-4874 EN PI_SmPC.json | Doc txt :- '10.     DATE OF REVISION OF THE TEXT' | Qrd txt :- '10. DATE OF REVISION OF THE TEXT' | Matched :- 'True'\n",
      "2021-05-11 01:55:02,586 : Heading Extraction Adakveo-4874 EN PI_SmPC.json : Validation Passed | H | CAP |  en | 0 | Adakveo-4874 EN PI_SmPC.json | currHeadId :- '20058' | currParentHeadId :- '20001.0' | prevParentHeadId :- '20057'\n"
     ]
    },
    {
     "name": "stdout",
     "output_type": "stream",
     "text": [
      "b'9.       DATE OF FIRST AUTHORISATION/RENEWAL OF THE\\r AUTHORISATION'  |===|  b'9. DATE OF FIRST AUTHORISATION/RENEWAL OF THE AUTHORISATION'\n",
      "True  ||    ||  b'9.       DATE OF FIRST AUTHORISATION/RENEWAL OF THE\\r AUTHORISATION'  ||  b'9. DATE OF FIRST AUTHORISATION/RENEWAL OF THE AUTHORISATION'\n",
      "b'10.     DATE OF REVISION OF THE TEXT'  |===|  b'10. DATE OF REVISION OF THE TEXT'\n",
      "True  ||    ||  b'10.     DATE OF REVISION OF THE TEXT'  ||  b'10. DATE OF REVISION OF THE TEXT'\n"
     ]
    },
    {
     "name": "stderr",
     "output_type": "stream",
     "text": [
      " European Medicines Agency http://www.ema.europa.eu. ' | Qrd txt :- '6.5 Nature and contents of container <and special equipment for use administration or implantation>' | Matched :- 'False'\n",
      "2021-05-11 01:55:02,737 : Flow Logger HTML_p : Completed Heading Extraction For File | H | CAP |  en | HTML | Adakveo-4874 EN PI.html\n",
      "2021-05-11 01:55:02,739 : Flow Logger HTML_p : Starting Document Annotation For File | H | CAP |  en | HTML | Adakveo-4874 EN PI.html\n"
     ]
    },
    {
     "name": "stdout",
     "output_type": "stream",
     "text": [
      "\n",
      "\n",
      "Heading Not Found \n",
      " ['qThis medicinal product is subject to additional monitoring. This will allow quick identification of new safety information. Healthcare professionals are asked to report any suspected adverse reactions. See section 4.8 for how to report adverse reactions.', 'General description', 'Qualitative and quantitative composition', 'Excipient(s) with known effect', 'Precautions to be taken before handling or administering the medicinal product', 'Pharmacokinetic/pharmacodynamic relationship(s)', 'Environmental risk assessment (ERA)', 'Use in the paediatric population', 'DOSIMETRY', 'INSTRUCTIONS FOR PREPARATION OF RADIOPHARMACEUTICALS']\n",
      "\n",
      "\n",
      "dict_keys(['qThis medicinal product is subject to additional monitoring. This will allow quick identification of new safety information. Healthcare professionals are asked to report any suspected adverse reactions. See section 4.8 for how to report adverse reactions.'])\n",
      "Completed Heading Extraction For File\n",
      "Starting Document Annotation For File :- Adakveo-4874 EN PI_SmPC.json\n",
      "EU/1/20/1476/001\n"
     ]
    },
    {
     "name": "stderr",
     "output_type": "stream",
     "text": [
      "2021-05-11 01:55:03,860 : Flow Logger HTML_p : Completed Document Annotation | H | CAP |  en | HTML | Adakveo-4874 EN PI.html\n",
      "2021-05-11 01:55:03,861 : Flow Logger HTML_p : Starting Extracting Content Between Heading | H | CAP |  en | HTML | Adakveo-4874 EN PI.html\n",
      "2021-05-11 01:55:03,865 : ExtractContentBetween_0 : Cleaning Match Results | H | CAP |  en | 0 | Adakveo-4874 EN PI_SmPC.json\n",
      "2021-05-11 01:55:03,868 : ExtractContentBetween_0 : Finished Cleaning Match Results | H | CAP |  en | 0 | Adakveo-4874 EN PI_SmPC.json\n",
      "2021-05-11 01:55:03,890 : Flow Logger HTML_p : Completed Extracting Content Between Heading | H | CAP |  en | HTML | Adakveo-4874 EN PI.html\n",
      "2021-05-11 01:55:03,918 : XmlGeneration_0 : PMS/OMS Annotation Information Not Retrieved | H | CAP |  en | 0 | Adakveo-4874 EN PI_SmPC.json\n",
      "2021-05-11 01:55:03,919 : XmlGeneration_0 : Initiating XML Generation | H | CAP |  en | 0 | Adakveo-4874 EN PI_SmPC.json\n",
      "2021-05-11 01:55:04,011 : XmlGeneration_0 : Writing to File:Adakveo-4874 EN PI_SmPC.xml | H | CAP |  en | 0 | Adakveo-4874 EN PI_SmPC.json\n"
     ]
    },
    {
     "name": "stdout",
     "output_type": "stream",
     "text": [
      "Error Found\n",
      "Completed Document Annotation\n",
      "Starting Extracting Content Between Heading For File :- Adakveo-4874 EN PI_SmPC.json\n",
      "File being processed: F:\\Projects\\EMA\\Repository\\EMA EPI PoC\\function_code\\data\\partitionedJSONs\\H\\CAP\\en\\Adakveo-4874 EN PI_SmPC.json\n",
      "--------------------------------------------\n",
      "Completed Extracting Content Between Heading\n",
      "Already Exists\n"
     ]
    },
    {
     "name": "stderr",
     "output_type": "stream",
     "text": [
      "2021-05-11 01:55:06,296 : XML Submission Logger_0 : Initiating Submission To FHIR Server | H | CAP |  en | 0 | Adakveo-4874 EN PI_SmPC.json\n",
      "2021-05-11 01:55:06,298 : XML Submission Logger_0 : POST sucessful: XML added with id: ef50adb9-ebe9-4bd5-99e2-171a92b53635 | H | CAP |  en | 0 | Adakveo-4874 EN PI_SmPC.json\n",
      "2021-05-11 01:55:06,299 : Flow Logger HTML_p : \n",
      "\n",
      "\n",
      "\n",
      "||||||||||||||||||||||||||||||||1 ||||| Adakveo-4874 EN PI_ANNEX II.json||||||||||||||||||||||||||||||||\n",
      "\n",
      "\n",
      "\n",
      " | H | CAP |  en | HTML | Adakveo-4874 EN PI.html\n",
      "2021-05-11 01:55:06,302 : Heading Extraction Adakveo-4874 EN PI_ANNEX II.json : Starting Heading Extraction | H | CAP |  en | 1 | Adakveo-4874 EN PI_ANNEX II.json\n",
      "2021-05-11 01:55:06,347 : Heading Extraction Adakveo-4874 EN PI_ANNEX II.json : Started Extracting Heading | H | CAP |  en | 1 | Adakveo-4874 EN PI_ANNEX II.json\n",
      "2021-05-11 01:55:06,349 : Heading Extraction Adakveo-4874 EN PI_ANNEX II.json : Match Passed | H | CAP |  en | 1 | Adakveo-4874 EN PI_ANNEX II.json | Doc txt :- 'ANNEX II' | Qrd txt :- 'ANNEX II' | Matched :- 'True'\n",
      "2021-05-11 01:55:06,352 : Heading Extraction Adakveo-4874 EN PI_ANNEX II.json : Validation Passed As This The First Heading | H | CAP |  en | 1 | Adakveo-4874 EN PI_ANNEX II.json | currHeadId :- '21001' | currParentHeadId :- 'nan' | prevParentHeadId :- ''\n",
      " SUBSTANCE(S) AND MANUFACTURER(S) RESPONSIBLE FOR BATCH RELEASE' | Qrd txt :- 'A. <MANUFACTURER(S) OF THE BIOLOGICAL ACTIVE SUBSTANCE(S) AND> MANUFACTURER(S) RESPONSIBLE FOR BATCH RELEASE' | Matched :- 'True'VE\n",
      "2021-05-11 01:55:06,370 : Heading Extraction Adakveo-4874 EN PI_ANNEX II.json : Validation Passed | H | CAP |  en | 1 | Adakveo-4874 EN PI_ANNEX II.json | currHeadId :- '21002' | currParentHeadId :- '21001.0' | prevParentHeadId :- '21001'\n",
      " AND USE' | Qrd txt :- 'B. CONDITIONS OR RESTRICTIONS REGARDING SUPPLY AND USE' | Matched :- 'True'CAP |  en | 1 | Adakveo-4874 EN PI_ANNEX II.json | Doc txt :- 'B.      CONDITIONS OR RESTRICTIONS REGARDING SUPPLY\n",
      "2021-05-11 01:55:06,401 : Heading Extraction Adakveo-4874 EN PI_ANNEX II.json : Validation Flow Is Broken | H | CAP |  en | 1 | Adakveo-4874 EN PI_ANNEX II.json | currHeadId :- '21005' | currParentHeadId :- '21001.0' | prevParentHeadId :- '21002'\n",
      "2021-05-11 01:55:06,404 : Heading Extraction Adakveo-4874 EN PI_ANNEX II.json : Validation Passed | H | CAP |  en | 1 | Adakveo-4874 EN PI_ANNEX II.json | currHeadId :- '21005' | currParentHeadId :- '21001.0' | prevParentHeadId :- '21002'\n",
      " MARKETING AUTHORISATION' | Qrd txt :- 'C. OTHER CONDITIONS AND REQUIREMENTS OF THE MARKETING AUTHORISATION' | Matched :- 'True'EN PI_ANNEX II.json | Doc txt :- 'C.      OTHER CONDITIONS AND REQUIREMENTS OF THE\n",
      "2021-05-11 01:55:06,439 : Heading Extraction Adakveo-4874 EN PI_ANNEX II.json : Validation Flow Is Broken | H | CAP |  en | 1 | Adakveo-4874 EN PI_ANNEX II.json | currHeadId :- '21007' | currParentHeadId :- '21001.0' | prevParentHeadId :- '21005'\n",
      "2021-05-11 01:55:06,443 : Heading Extraction Adakveo-4874 EN PI_ANNEX II.json : Validation Passed | H | CAP |  en | 1 | Adakveo-4874 EN PI_ANNEX II.json | currHeadId :- '21007' | currParentHeadId :- '21001.0' | prevParentHeadId :- '21005'\n",
      " product' | Qrd txt :- 'd. conditions or restrictions with regard to the safe and effective use of the medicinal product' | Matched :- 'True'I.json | Doc txt :- 'd.      conditions\n"
     ]
    },
    {
     "name": "stdout",
     "output_type": "stream",
     "text": [
      "POST sucessful: XML added with id ef50adb9-ebe9-4bd5-99e2-171a92b53635\n",
      "Created XML File For :- Adakveo-4874 EN PI_SmPC.json\n",
      "Starting Heading Extraction For File :- Adakveo-4874 EN PI_ANNEX II.json\n",
      "File being processed: F:\\Projects\\EMA\\Repository\\EMA EPI PoC\\function_code\\data\\partitionedJSONs\\H\\CAP\\en\\Adakveo-4874 EN PI_ANNEX II.json\n",
      "--------------------------------------------\n",
      "AnnexII\n",
      "b'ANNEX II'  |===|  b'ANNEX II'\n",
      "True  ||    ||  b'ANNEX II'  ||  b'ANNEX II'\n",
      "b'A.      MANUFACTURER(S) OF THE BIOLOGICAL ACTIVE\\r SUBSTANCE(S) AND MANUFACTURER(S) RESPONSIBLE FOR BATCH RELEASE'  |===|  b'A. <MANUFACTURER(S) OF THE BIOLOGICAL ACTIVE SUBSTANCE(S) AND> MANUFACTURER(S) RESPONSIBLE FOR BATCH RELEASE'\n",
      "True  ||  Contains<>|6.59|(97, 95, 97)|0.97|  ||  b'A.      MANUFACTURER(S) OF THE BIOLOGICAL ACTIVE\\r SUBSTANCE(S) AND MANUFACTURER(S) RESPONSIBLE FOR BATCH RELEASE'  ||  b'A. <MANUFACTURER(S) OF THE BIOLOGICAL ACTIVE SUBSTANCE(S) AND> MANUFACTURER(S) RESPONSIBLE FOR BATCH RELEASE'\n",
      "b'B.      CONDITIONS OR RESTRICTIONS REGARDING SUPPLY\\r AND USE'  |===|  b'B. CONDITIONS OR RESTRICTIONS REGARDING SUPPLY AND USE'\n",
      "True  ||    ||  b'B.      CONDITIONS OR RESTRICTIONS REGARDING SUPPLY\\r AND USE'  ||  b'B. CONDITIONS OR RESTRICTIONS REGARDING SUPPLY AND USE'\n",
      "b'C.      OTHER CONDITIONS AND REQUIREMENTS OF THE\\r MARKETING AUTHORISATION'  |===|  b'C. OTHER CONDITIONS AND REQUIREMENTS OF THE MARKETING AUTHORISATION'\n",
      "True  ||    ||  b'C.      OTHER CONDITIONS AND REQUIREMENTS OF THE\\r MARKETING AUTHORISATION'  ||  b'C. OTHER CONDITIONS AND REQUIREMENTS OF THE MARKETING AUTHORISATION'\n",
      "\n",
      "OriginalCheck\n",
      "('>7|75.71|(24, 24, 100)|0.4|', 'D.      conditions\\r or restrictions with regard to the safe and effective use of the medicinal\\r PRODUCT', 'D. CONDITIONS OR RESTRICTIONS WITH REGARD TO THE SAFE AND EFFECTIVE USE OF THE MEDICINAL PRODUCT')\n",
      "\n"
     ]
    },
    {
     "name": "stderr",
     "output_type": "stream",
     "text": [
      " PRODUCT' | Qrd txt :- 'D. CONDITIONS OR RESTRICTIONS WITH REGARD TO THE SAFE AND EFFECTIVE USE OF THE MEDICINAL PRODUCT' | Matched :- 'True'EN PI_ANNEX II.json | Doc txt :- 'D.      conditions\n",
      "2021-05-11 01:55:06,498 : Heading Extraction Adakveo-4874 EN PI_ANNEX II.json : Validation Flow Is Broken | H | CAP |  en | 1 | Adakveo-4874 EN PI_ANNEX II.json | currHeadId :- '21009' | currParentHeadId :- '21001.0' | prevParentHeadId :- '21007'\n",
      "2021-05-11 01:55:06,502 : Heading Extraction Adakveo-4874 EN PI_ANNEX II.json : Validation Passed | H | CAP |  en | 1 | Adakveo-4874 EN PI_ANNEX II.json | currHeadId :- '21009' | currParentHeadId :- '21001.0' | prevParentHeadId :- '21007'\n",
      " POST-AUTHORISATION MEASURES FOR THE CONDITIONAL MARKETING AUTHORISATION' | Qrd txt :- 'A. <MANUFACTURER(S) OF THE BIOLOGICAL ACTIVE SUBSTANCE(S) AND> MANUFACTURER(S) RESPONSIBLE FOR BATCH RELEASE' | Matched :- 'False'\n",
      " POST-AUTHORISATION MEASURES FOR THE CONDITIONAL MARKETING AUTHORISATION' | Qrd txt :- 'C. OTHER CONDITIONS AND REQUIREMENTS OF THE MARKETING AUTHORISATION' | Matched :- 'False'      SPECIFIC OBLIGATION TO COMPLETE\n",
      " POST-AUTHORISATION MEASURES FOR THE CONDITIONAL MARKETING AUTHORISATION' | Qrd txt :- 'D. CONDITIONS OR RESTRICTIONS WITH REGARD TO THE SAFE AND EFFECTIVE USE OF THE MEDICINAL PRODUCT' | Matched :- 'False'\n",
      " POST-AUTHORISATION MEASURES FOR THE CONDITIONAL MARKETING AUTHORISATION' | Qrd txt :- 'E. SPECIFIC OBLIGATION TO COMPLETE POST-AUTHORISATION MEASURES FORtxt :- 'E.      SPECIFIC OBLIGATION TO COMPLETE\n",
      "<THE CONDITIONAL MARKETING AUTHORISATION> <THE MARKETING AUTHORISATION UNDER EXCEPTIONAL CIRCUMSTANCES>' | Matched :- 'True'\n",
      "2021-05-11 01:55:06,623 : Heading Extraction Adakveo-4874 EN PI_ANNEX II.json : Validation Flow Is Broken | H | CAP |  en | 1 | Adakveo-4874 EN PI_ANNEX II.json | currHeadId :- '21013' | currParentHeadId :- '21001.0' | prevParentHeadId :- '21009'\n",
      "2021-05-11 01:55:06,627 : Heading Extraction Adakveo-4874 EN PI_ANNEX II.json : Validation Passed | H | CAP |  en | 1 | Adakveo-4874 EN PI_ANNEX II.json | currHeadId :- '21013' | currParentHeadId :- '21001.0' | prevParentHeadId :- '21009'\n",
      " SUBSTANCE(S) AND MANUFACTURER(S) RESPONSIBLE FOR BATCH RELEASE' | Qrd txt :- 'A. <MANUFACTURER(S) OF THE BIOLOGICAL ACTIVE SUBSTANCE(S) AND> MANUFACTURER(S) RESPONSIBLE FOR BATCH RELEASE' | Matched :- 'True'VE\n",
      "2021-05-11 01:55:06,650 : Heading Extraction Adakveo-4874 EN PI_ANNEX II.json : Validation Failed As Previous Heading Found is not matching | H | CAP |  en | 1 | Adakveo-4874 EN PI_ANNEX II.json | currHeadId :- '21002' | currParentHeadId :- '21001.0' | prevParentHeadId :- '21013'\n",
      " substance(s) and manufacturer(s) responsible for batch release' | Qrd txt :- 'name and address of the manufacturer(s) of the biological active substance(s)' | Matched :- 'False'urer(s) of the biological active\n"
     ]
    },
    {
     "name": "stdout",
     "output_type": "stream",
     "text": [
      "b'D.      conditions\\r or restrictions with regard to the safe and effective use of the medicinal\\r PRODUCT'  |===|  b'D. CONDITIONS OR RESTRICTIONS WITH REGARD TO THE SAFE AND EFFECTIVE USE OF THE MEDICINAL PRODUCT'\n",
      "True  ||    ||  b'D.      conditions\\r or restrictions with regard to the safe and effective use of the medicinal\\r PRODUCT'  ||  b'D. CONDITIONS OR RESTRICTIONS WITH REGARD TO THE SAFE AND EFFECTIVE USE OF THE MEDICINAL PRODUCT'\n",
      "\n",
      "OriginalCheck\n",
      "('<=7|57.89|(48, 77, 86)|0.68|', 'E.      SPECIFIC OBLIGATION TO COMPLETE\\r POST-AUTHORISATION MEASURES FOR THE CONDITIONAL MARKETING AUTHORISATION', 'C. OTHER CONDITIONS AND REQUIREMENTS OF THE MARKETING AUTHORISATION')\n",
      "\n",
      "b'E.      SPECIFIC OBLIGATION TO COMPLETE\\r POST-AUTHORISATION MEASURES FOR THE CONDITIONAL MARKETING AUTHORISATION'  |===|  b'E. SPECIFIC OBLIGATION TO COMPLETE POST-AUTHORISATION MEASURES FOR\\r\\n<THE CONDITIONAL MARKETING AUTHORISATION> <THE MARKETING AUTHORISATION UNDER EXCEPTIONAL CIRCUMSTANCES>'\n",
      "True  ||  Contains<>|65.26|(75, 95, 86)|0.93|  ||  b'E.      SPECIFIC OBLIGATION TO COMPLETE\\r POST-AUTHORISATION MEASURES FOR THE CONDITIONAL MARKETING AUTHORISATION'  ||  b'E. SPECIFIC OBLIGATION TO COMPLETE POST-AUTHORISATION MEASURES FOR\\r\\n<THE CONDITIONAL MARKETING AUTHORISATION> <THE MARKETING AUTHORISATION UNDER EXCEPTIONAL CIRCUMSTANCES>'\n",
      "b'A.      MANUFACTURER(S) OF THE BIOLOGICAL ACTIVE\\r SUBSTANCE(S) AND MANUFACTURER(S) RESPONSIBLE FOR BATCH RELEASE'  |===|  b'A. <MANUFACTURER(S) OF THE BIOLOGICAL ACTIVE SUBSTANCE(S) AND> MANUFACTURER(S) RESPONSIBLE FOR BATCH RELEASE'\n",
      "\n",
      "OriginalCheck\n",
      "('<=7|91.21|(11, 14, 86)|0.29|', 'A.      MANUFACTURER(S) OF THE BIOLOGICAL ACTIVE\\r SUBSTANCE(S) AND MANUFACTURER(S) RESPONSIBLE FOR BATCH RELEASE', 'Name and address of the manufacturer(s) of the biological active substance(s)')\n",
      "\n"
     ]
    },
    {
     "name": "stderr",
     "output_type": "stream",
     "text": [
      " SUBSTANCE(S) AND MANUFACTURER(S) RESPONSIBLE FOR BATCH RELEASE' | Qrd txt :- 'Name and address of the manufacturer(s) of the biological active substance(s)' | Matched :- 'False'     MANUFACTURER(S) OF THE BIOLOGICAL ACTIVE\n",
      " SUBSTANCE(S) AND MANUFACTURER(S) RESPONSIBLE FOR BATCH RELEASE' | Qrd txt :- 'Name and address of the manufacturer(s) responsible for batch release' | Matched :- 'False' :- 'A.      MANUFACTURER(S) OF THE BIOLOGICAL ACTIVE\n",
      " SUBSTANCE(S) AND MANUFACTURER(S) RESPONSIBLE FOR BATCH RELEASE' | Qrd txt :- 'D. CONDITIONS OR RESTRICTIONS WITH REGARD TO THE SAFE AND EFFECTIVE USE OF THE MEDICINAL PRODUCT' | Matched :- 'False'OGICAL ACTIVE\n",
      "2021-05-11 01:55:06,779 : Heading Extraction Adakveo-4874 EN PI_ANNEX II.json : End Of Sub Section | H | CAP |  en | 1 | Adakveo-4874 EN PI_ANNEX II.json\n",
      " SUBSTANCE(S) AND MANUFACTURER(S) RESPONSIBLE FOR BATCH RELEASE' | Qrd txt :- 'A. <MANUFACTURER(S) OF THE BIOLOGICAL ACTIVE SUBSTANCE(S) AND> MANUFACTURER(S) RESPONSIBLE FOR BATCH RELEASE' | Matched :- 'True'VE\n",
      "2021-05-11 01:55:06,799 : Heading Extraction Adakveo-4874 EN PI_ANNEX II.json : Validation Passed As This The First Heading | H | CAP |  en | 1 | Adakveo-4874 EN PI_ANNEX II.json | currHeadId :- '21002' | currParentHeadId :- '21001.0' | prevParentHeadId :- ''\n",
      " substance(s)' | Qrd txt :- 'A. <MANUFACTURER(S) OF THE BIOLOGICAL ACTIVE SUBSTANCE(S) AND> MANUFACTURER(S) RESPONSIBLE FOR BATCH RELEASE' | Matched :- 'False'n | Doc txt :- 'Name and address of the manufacturer(s) of the biological active\n",
      " substance(s)' | Qrd txt :- 'Name and address of the manufacturer(s) of the biological active substance(s)' | Matched :- 'True' EN PI_ANNEX II.json | Doc txt :- 'Name and address of the manufacturer(s) of the biological active\n",
      "2021-05-11 01:55:06,835 : Heading Extraction Adakveo-4874 EN PI_ANNEX II.json : Validation Passed | H | CAP |  en | 1 | Adakveo-4874 EN PI_ANNEX II.json | currHeadId :- '21003' | currParentHeadId :- '21002.0' | prevParentHeadId :- '21002'\n"
     ]
    },
    {
     "name": "stdout",
     "output_type": "stream",
     "text": [
      "\n",
      "OriginalCheck\n",
      "('<=7|91.21|(8, 11, 86)|0.33|', 'A.      MANUFACTURER(S) OF THE BIOLOGICAL ACTIVE\\r SUBSTANCE(S) AND MANUFACTURER(S) RESPONSIBLE FOR BATCH RELEASE', 'Name and address of the manufacturer(s) responsible for batch release')\n",
      "\n",
      "oooooooooooooooooooooooooooooooooooooooo END OF Sub Section oooooooooooooooooooooooooooooooooooooooooooooooooooooooooooo\n",
      "b'A.      MANUFACTURER(S) OF THE BIOLOGICAL ACTIVE\\r SUBSTANCE(S) AND MANUFACTURER(S) RESPONSIBLE FOR BATCH RELEASE'  |===|  b'A. <MANUFACTURER(S) OF THE BIOLOGICAL ACTIVE SUBSTANCE(S) AND> MANUFACTURER(S) RESPONSIBLE FOR BATCH RELEASE'\n",
      "True  ||  Contains<>|6.59|(97, 95, 97)|0.97|  ||  b'A.      MANUFACTURER(S) OF THE BIOLOGICAL ACTIVE\\r SUBSTANCE(S) AND MANUFACTURER(S) RESPONSIBLE FOR BATCH RELEASE'  ||  b'A. <MANUFACTURER(S) OF THE BIOLOGICAL ACTIVE SUBSTANCE(S) AND> MANUFACTURER(S) RESPONSIBLE FOR BATCH RELEASE'\n",
      "\n",
      "OriginalCheck\n",
      "('Contains<>|150.85|(10, 14, 86)|0.29|', 'Name and address of the manufacturer(s) of the biological active\\r substance(s)', 'A. <MANUFACTURER(S) OF THE BIOLOGICAL ACTIVE SUBSTANCE(S) AND> MANUFACTURER(S) RESPONSIBLE FOR BATCH RELEASE')\n",
      "\n",
      "b'Name and address of the manufacturer(s) of the biological active\\r substance(s)'  |===|  b'Name and address of the manufacturer(s) of the biological active substance(s)'\n",
      "True  ||    ||  b'Name and address of the manufacturer(s) of the biological active\\r substance(s)'  ||  b'Name and address of the manufacturer(s) of the biological active substance(s)'\n"
     ]
    },
    {
     "name": "stderr",
     "output_type": "stream",
     "text": [
      " release' | Qrd txt :- 'A. <MANUFACTURER(S) OF THE BIOLOGICAL ACTIVE SUBSTANCE(S) AND> MANUFACTURER(S) RESPONSIBLE FOR BATCH RELEASE' | Matched :- 'False'I.json | Doc txt :- 'Name and address of the manufacturer(s) responsible for batch\n",
      " release' | Qrd txt :- 'Name and address of the manufacturer(s) of the biological active substance(s)' | Matched :- 'False'4874 EN PI_ANNEX II.json | Doc txt :- 'Name and address of the manufacturer(s) responsible for batch\n",
      " release' | Qrd txt :- 'Name and address of the manufacturer(s) responsible for batch release' | Matched :- 'True' Adakveo-4874 EN PI_ANNEX II.json | Doc txt :- 'Name and address of the manufacturer(s) responsible for batch\n",
      "2021-05-11 01:55:07,101 : Heading Extraction Adakveo-4874 EN PI_ANNEX II.json : Validation Passed | H | CAP |  en | 1 | Adakveo-4874 EN PI_ANNEX II.json | currHeadId :- '21004' | currParentHeadId :- '21002.0' | prevParentHeadId :- '21003'\n"
     ]
    },
    {
     "name": "stdout",
     "output_type": "stream",
     "text": [
      "\n",
      "OriginalCheck\n",
      "('Contains<>|164.81|(8, 11, 86)|0.33|', 'Name and address of the manufacturer(s) responsible for batch\\r release', 'A. <MANUFACTURER(S) OF THE BIOLOGICAL ACTIVE SUBSTANCE(S) AND> MANUFACTURER(S) RESPONSIBLE FOR BATCH RELEASE')\n",
      "\n",
      "b'Name and address of the manufacturer(s) responsible for batch\\r release'  |===|  b'Name and address of the manufacturer(s) responsible for batch release'\n",
      "True  ||    ||  b'Name and address of the manufacturer(s) responsible for batch\\r release'  ||  b'Name and address of the manufacturer(s) responsible for batch release'\n"
     ]
    },
    {
     "name": "stderr",
     "output_type": "stream",
     "text": [
      "2021-05-11 01:55:07,459 : Heading Extraction Adakveo-4874 EN PI_ANNEX II.json : Match Passed | H | CAP |  en | 1 | Adakveo-4874 EN PI_ANNEX II.json | Doc txt :- 'B.      CONDITIONS OR RESTRICTIONS REGARDING SUPPLY AND USE' | Qrd txt :- 'B. CONDITIONS OR RESTRICTIONS REGARDING SUPPLY AND USE' | Matched :- 'True'\n",
      "2021-05-11 01:55:07,470 : Heading Extraction Adakveo-4874 EN PI_ANNEX II.json : Validation Passed | H | CAP |  en | 1 | Adakveo-4874 EN PI_ANNEX II.json | currHeadId :- '21005' | currParentHeadId :- '21001.0' | prevParentHeadId :- '21004'\n",
      " Product Characteristics, section 4.2).' | Qrd txt :- 'D. CONDITIONS OR RESTRICTIONS WITH REGARD TO THE SAFE AND EFFECTIVE USE OF THE MEDICINAL PRODUCT' | Matched :- 'False' 'Medicinal\n"
     ]
    },
    {
     "name": "stdout",
     "output_type": "stream",
     "text": [
      "b'B.      CONDITIONS OR RESTRICTIONS REGARDING SUPPLY AND USE'  |===|  b'B. CONDITIONS OR RESTRICTIONS REGARDING SUPPLY AND USE'\n",
      "True  ||    ||  b'B.      CONDITIONS OR RESTRICTIONS REGARDING SUPPLY AND USE'  ||  b'B. CONDITIONS OR RESTRICTIONS REGARDING SUPPLY AND USE'\n",
      "\n",
      "OriginalCheck\n",
      "('>7|92.37|(10, 8, 86)|0.34|', 'Medicinal\\r product subject to restricted medical prescription (see Annex I: Summary of\\r Product Characteristics, section 4.2).', 'D. CONDITIONS OR RESTRICTIONS WITH REGARD TO THE SAFE AND EFFECTIVE USE OF THE MEDICINAL PRODUCT')\n",
      "\n"
     ]
    },
    {
     "name": "stderr",
     "output_type": "stream",
     "text": [
      " REQUIREMENTS OF THE MARKETING AUTHORISATION' | Qrd txt :- 'C. OTHER CONDITIONS AND REQUIREMENTS OF THE MARKETING AUTHORISATION' | Matched :- 'True'| Doc txt :- 'C.      OTHER CONDITIONS AND\n",
      "2021-05-11 01:55:07,760 : Heading Extraction Adakveo-4874 EN PI_ANNEX II.json : Validation Flow Is Broken | H | CAP |  en | 1 | Adakveo-4874 EN PI_ANNEX II.json | currHeadId :- '21007' | currParentHeadId :- '21001.0' | prevParentHeadId :- '21005'\n",
      "2021-05-11 01:55:07,765 : Heading Extraction Adakveo-4874 EN PI_ANNEX II.json : Validation Passed | H | CAP |  en | 1 | Adakveo-4874 EN PI_ANNEX II.json | currHeadId :- '21007' | currParentHeadId :- '21001.0' | prevParentHeadId :- '21005'\n",
      "2021-05-11 01:55:07,823 : Heading Extraction Adakveo-4874 EN PI_ANNEX II.json : Match Passed | H | CAP |  en | 1 | Adakveo-4874 EN PI_ANNEX II.json | Doc txt :- '·Periodic safety update reports (PSURs)' | Qrd txt :- 'Periodic safety update reports (PSURs)' | Matched :- 'True'\n",
      "2021-05-11 01:55:07,832 : Heading Extraction Adakveo-4874 EN PI_ANNEX II.json : Validation Passed | H | CAP |  en | 1 | Adakveo-4874 EN PI_ANNEX II.json | currHeadId :- '21008' | currParentHeadId :- '21007.0' | prevParentHeadId :- '21007'\n"
     ]
    },
    {
     "name": "stdout",
     "output_type": "stream",
     "text": [
      "b'C.      OTHER CONDITIONS AND\\r REQUIREMENTS OF THE MARKETING AUTHORISATION'  |===|  b'C. OTHER CONDITIONS AND REQUIREMENTS OF THE MARKETING AUTHORISATION'\n",
      "True  ||    ||  b'C.      OTHER CONDITIONS AND\\r REQUIREMENTS OF THE MARKETING AUTHORISATION'  ||  b'C. OTHER CONDITIONS AND REQUIREMENTS OF THE MARKETING AUTHORISATION'\n",
      "b'\\xc2\\xb7Periodic safety update reports (PSURs)'  |===|  b'Periodic safety update reports (PSURs)'\n",
      "True  ||  <=7|2.56|(99, 100, 100)|1.0|  ||  b'\\xc2\\xb7Periodic safety update reports (PSURs)'  ||  b'Periodic safety update reports (PSURs)'\n",
      "\n",
      "OriginalCheck\n",
      "('<=7|94.5|(9, 12, 86)|0.33|', 'The marketing\\r authorisation holder (MAH) shall submit the first PSUR for this product within\\r 6 months following authorisation.', 'C. OTHER CONDITIONS AND REQUIREMENTS OF THE MARKETING AUTHORISATION')\n",
      "\n"
     ]
    },
    {
     "name": "stderr",
     "output_type": "stream",
     "text": [
      " 6 months following authorisation.' | Qrd txt :- 'C. OTHER CONDITIONS AND REQUIREMENTS OF THE MARKETING AUTHORISATION' | Matched :- 'False'4 EN PI_ANNEX II.json | Doc txt :- 'The marketing\n",
      " 6 months following authorisation.' | Qrd txt :- 'D. CONDITIONS OR RESTRICTIONS WITH REGARD TO THE SAFE AND EFFECTIVE USE OF THE MEDICINAL PRODUCT' | Matched :- 'False'xt :- 'The marketing\n",
      " RESTRICTIONS WITH REGARD TO THE SAFE AND EFFECTIVE USE OF THE MEDICINAL PRODUCT' | Qrd txt :- 'A. <MANUFACTURER(S) OF THE BIOLOGICAL ACTIVE SUBSTANCE(S) AND> MANUFACTURER(S) RESPONSIBLE FOR BATCH RELEASE' | Matched :- 'False'\n",
      " RESTRICTIONS WITH REGARD TO THE SAFE AND EFFECTIVE USE OF THE MEDICINAL PRODUCT' | Qrd txt :- 'D. CONDITIONS OR RESTRICTIONS WITH REGARD TO THE SAFE AND EFFECTIVE USE OF THE MEDICINAL PRODUCT' | Matched :- 'True'\n",
      "2021-05-11 01:55:08,161 : Heading Extraction Adakveo-4874 EN PI_ANNEX II.json : Validation Passed | H | CAP |  en | 1 | Adakveo-4874 EN PI_ANNEX II.json | currHeadId :- '21009' | currParentHeadId :- '21001.0' | prevParentHeadId :- '21008'\n"
     ]
    },
    {
     "name": "stdout",
     "output_type": "stream",
     "text": [
      "\n",
      "OriginalCheck\n",
      "('>7|92.66|(9, 14, 86)|0.35|', 'The marketing\\r authorisation holder (MAH) shall submit the first PSUR for this product within\\r 6 months following authorisation.', 'D. CONDITIONS OR RESTRICTIONS WITH REGARD TO THE SAFE AND EFFECTIVE USE OF THE MEDICINAL PRODUCT')\n",
      "\n",
      "b'D.      CONDITIONS OR\\r RESTRICTIONS WITH REGARD TO THE SAFE AND EFFECTIVE USE OF THE MEDICINAL PRODUCT'  |===|  b'D. CONDITIONS OR RESTRICTIONS WITH REGARD TO THE SAFE AND EFFECTIVE USE OF THE MEDICINAL PRODUCT'\n",
      "True  ||    ||  b'D.      CONDITIONS OR\\r RESTRICTIONS WITH REGARD TO THE SAFE AND EFFECTIVE USE OF THE MEDICINAL PRODUCT'  ||  b'D. CONDITIONS OR RESTRICTIONS WITH REGARD TO THE SAFE AND EFFECTIVE USE OF THE MEDICINAL PRODUCT'\n"
     ]
    },
    {
     "name": "stderr",
     "output_type": "stream",
     "text": [
      "2021-05-11 01:55:08,232 : Heading Extraction Adakveo-4874 EN PI_ANNEX II.json : Match Passed | H | CAP |  en | 1 | Adakveo-4874 EN PI_ANNEX II.json | Doc txt :- '·Risk management plan (RMP)' | Qrd txt :- 'Risk management plan (RMP)' | Matched :- 'True'\n",
      "2021-05-11 01:55:08,241 : Heading Extraction Adakveo-4874 EN PI_ANNEX II.json : Validation Passed | H | CAP |  en | 1 | Adakveo-4874 EN PI_ANNEX II.json | currHeadId :- '21010' | currParentHeadId :- '21009.0' | prevParentHeadId :- '21009'\n"
     ]
    },
    {
     "name": "stdout",
     "output_type": "stream",
     "text": [
      "b'\\xc2\\xb7Risk management plan (RMP)'  |===|  b'Risk management plan (RMP)'\n",
      "True  ||  <=4|3.7|(98, 100, 100)|0.99|  ||  b'\\xc2\\xb7Risk management plan (RMP)'  ||  b'Risk management plan (RMP)'\n"
     ]
    },
    {
     "name": "stderr",
     "output_type": "stream",
     "text": [
      " AUTHORISATION' | Qrd txt :- 'A. <MANUFACTURER(S) OF THE BIOLOGICAL ACTIVE SUBSTANCE(S) AND> MANUFACTURER(S) RESPONSIBLE FOR BATCH RELEASE' | Matched :- 'False' 'E.      SPECIFIC OBLIGATION\n",
      " AUTHORISATION' | Qrd txt :- 'C. OTHER CONDITIONS AND REQUIREMENTS OF THE MARKETING AUTHORISATION' | Matched :- 'False'en | 1 | Adakveo-4874 EN PI_ANNEX II.json | Doc txt :- 'E.      SPECIFIC OBLIGATION\n",
      " AUTHORISATION' | Qrd txt :- 'D. CONDITIONS OR RESTRICTIONS WITH REGARD TO THE SAFE AND EFFECTIVE USE OF THE MEDICINAL PRODUCT' | Matched :- 'False'| Doc txt :- 'E.      SPECIFIC OBLIGATION\n",
      " AUTHORISATION' | Qrd txt :- 'E. SPECIFIC OBLIGATION TO COMPLETE POST-AUTHORISATION MEASURES FOR | CAP |  en | 1 | Adakveo-4874 EN PI_ANNEX II.json | Doc txt :- 'E.      SPECIFIC OBLIGATION\n",
      "<THE CONDITIONAL MARKETING AUTHORISATION> <THE MARKETING AUTHORISATION UNDER EXCEPTIONAL CIRCUMSTANCES>' | Matched :- 'True'\n",
      "2021-05-11 01:55:08,681 : Heading Extraction Adakveo-4874 EN PI_ANNEX II.json : Validation Flow Is Broken | H | CAP |  en | 1 | Adakveo-4874 EN PI_ANNEX II.json | currHeadId :- '21013' | currParentHeadId :- '21001.0' | prevParentHeadId :- '21010'\n",
      "2021-05-11 01:55:08,688 : Heading Extraction Adakveo-4874 EN PI_ANNEX II.json : Validation Passed | H | CAP |  en | 1 | Adakveo-4874 EN PI_ANNEX II.json | currHeadId :- '21013' | currParentHeadId :- '21001.0' | prevParentHeadId :- '21010'\n"
     ]
    },
    {
     "name": "stdout",
     "output_type": "stream",
     "text": [
      "\n",
      "OriginalCheck\n",
      "('<=7|57.89|(48, 77, 86)|0.68|', 'E.      SPECIFIC OBLIGATION\\r TO COMPLETE POST-AUTHORISATION MEASURES FOR THE CONDITIONAL MARKETING\\r AUTHORISATION', 'C. OTHER CONDITIONS AND REQUIREMENTS OF THE MARKETING AUTHORISATION')\n",
      "\n",
      "b'E.      SPECIFIC OBLIGATION\\r TO COMPLETE POST-AUTHORISATION MEASURES FOR THE CONDITIONAL MARKETING\\r AUTHORISATION'  |===|  b'E. SPECIFIC OBLIGATION TO COMPLETE POST-AUTHORISATION MEASURES FOR\\r\\n<THE CONDITIONAL MARKETING AUTHORISATION> <THE MARKETING AUTHORISATION UNDER EXCEPTIONAL CIRCUMSTANCES>'\n",
      "True  ||  Contains<>|65.26|(75, 95, 86)|0.93|  ||  b'E.      SPECIFIC OBLIGATION\\r TO COMPLETE POST-AUTHORISATION MEASURES FOR THE CONDITIONAL MARKETING\\r AUTHORISATION'  ||  b'E. SPECIFIC OBLIGATION TO COMPLETE POST-AUTHORISATION MEASURES FOR\\r\\n<THE CONDITIONAL MARKETING AUTHORISATION> <THE MARKETING AUTHORISATION UNDER EXCEPTIONAL CIRCUMSTANCES>'\n"
     ]
    },
    {
     "name": "stderr",
     "output_type": "stream",
     "text": [
      "2021-05-11 01:55:08,847 : Flow Logger HTML_p : Completed Heading Extraction For File | H | CAP |  en | HTML | Adakveo-4874 EN PI.html\n",
      "2021-05-11 01:55:08,848 : Flow Logger HTML_p : Starting Document Annotation For File | H | CAP |  en | HTML | Adakveo-4874 EN PI.html\n",
      "2021-05-11 01:55:08,855 : Flow Logger HTML_p : Completed Document Annotation | H | CAP |  en | HTML | Adakveo-4874 EN PI.html\n",
      "2021-05-11 01:55:08,856 : Flow Logger HTML_p : Starting Extracting Content Between Heading | H | CAP |  en | HTML | Adakveo-4874 EN PI.html\n",
      "2021-05-11 01:55:08,863 : ExtractContentBetween_1 : Cleaning Match Results | H | CAP |  en | 1 | Adakveo-4874 EN PI_ANNEX II.json\n",
      "2021-05-11 01:55:08,868 : ExtractContentBetween_1 : Finished Cleaning Match Results | H | CAP |  en | 1 | Adakveo-4874 EN PI_ANNEX II.json\n",
      "2021-05-11 01:55:08,881 : Flow Logger HTML_p : Completed Extracting Content Between Heading | H | CAP |  en | HTML | Adakveo-4874 EN PI.html\n",
      "2021-05-11 01:55:08,902 : XmlGeneration_1 : PMS/OMS Annotation Information Not Retrieved | H | CAP |  en | 1 | Adakveo-4874 EN PI_ANNEX II.json\n",
      "2021-05-11 01:55:08,904 : XmlGeneration_1 : Initiating XML Generation | H | CAP |  en | 1 | Adakveo-4874 EN PI_ANNEX II.json\n",
      "2021-05-11 01:55:08,946 : XmlGeneration_1 : Writing to File:Adakveo-4874 EN PI_ANNEX II.xml | H | CAP |  en | 1 | Adakveo-4874 EN PI_ANNEX II.json\n"
     ]
    },
    {
     "name": "stdout",
     "output_type": "stream",
     "text": [
      "\n",
      "\n",
      "Heading Not Found \n",
      " ['Official batch release', 'Additional risk minimisation measures', 'Obligation to conduct post-authorisation measures']\n",
      "\n",
      "\n",
      "dict_keys([])\n",
      "Completed Heading Extraction For File\n",
      "Starting Document Annotation For File :- Adakveo-4874 EN PI_ANNEX II.json\n",
      "Error Found\n",
      "Completed Document Annotation\n",
      "Starting Extracting Content Between Heading For File :- Adakveo-4874 EN PI_ANNEX II.json\n",
      "File being processed: F:\\Projects\\EMA\\Repository\\EMA EPI PoC\\function_code\\data\\partitionedJSONs\\H\\CAP\\en\\Adakveo-4874 EN PI_ANNEX II.json\n",
      "--------------------------------------------\n",
      "Completed Extracting Content Between Heading\n",
      "Already Exists\n"
     ]
    },
    {
     "name": "stderr",
     "output_type": "stream",
     "text": [
      "2021-05-11 01:55:10,314 : XML Submission Logger_1 : Initiating Submission To FHIR Server | H | CAP |  en | 1 | Adakveo-4874 EN PI_ANNEX II.json\n",
      "2021-05-11 01:55:10,315 : XML Submission Logger_1 : POST sucessful: XML added with id: ebe7ef3e-d637-4d59-8537-40e84792bca3 | H | CAP |  en | 1 | Adakveo-4874 EN PI_ANNEX II.json\n",
      "2021-05-11 01:55:10,316 : Flow Logger HTML_p : \n",
      "\n",
      "\n",
      "\n",
      "||||||||||||||||||||||||||||||||2 ||||| Adakveo-4874 EN PI_ANNEX III.json||||||||||||||||||||||||||||||||\n",
      "\n",
      "\n",
      "\n",
      " | H | CAP |  en | HTML | Adakveo-4874 EN PI.html\n",
      "2021-05-11 01:55:10,319 : Heading Extraction Adakveo-4874 EN PI_ANNEX III.json : Starting Heading Extraction | H | CAP |  en | 2 | Adakveo-4874 EN PI_ANNEX III.json\n",
      "2021-05-11 01:55:10,392 : Heading Extraction Adakveo-4874 EN PI_ANNEX III.json : Started Extracting Heading | H | CAP |  en | 2 | Adakveo-4874 EN PI_ANNEX III.json\n"
     ]
    },
    {
     "name": "stdout",
     "output_type": "stream",
     "text": [
      "POST sucessful: XML added with id ebe7ef3e-d637-4d59-8537-40e84792bca3\n",
      "Created XML File For :- Adakveo-4874 EN PI_ANNEX II.json\n",
      "Starting Heading Extraction For File :- Adakveo-4874 EN PI_ANNEX III.json\n",
      "File being processed: F:\\Projects\\EMA\\Repository\\EMA EPI PoC\\function_code\\data\\partitionedJSONs\\H\\CAP\\en\\Adakveo-4874 EN PI_ANNEX III.json\n",
      "--------------------------------------------\n",
      "Labelling\n"
     ]
    },
    {
     "name": "stderr",
     "output_type": "stream",
     "text": [
      "2021-05-11 01:55:10,554 : Heading Extraction Adakveo-4874 EN PI_ANNEX III.json : Match Passed | H | CAP |  en | 2 | Adakveo-4874 EN PI_ANNEX III.json | Doc txt :- 'A. LABELLING' | Qrd txt :- 'LABELLING ' | Matched :- 'True'\n",
      "2021-05-11 01:55:10,559 : Heading Extraction Adakveo-4874 EN PI_ANNEX III.json : Validation Passed As This The First Heading | H | CAP |  en | 2 | Adakveo-4874 EN PI_ANNEX III.json | currHeadId :- '22001' | currParentHeadId :- 'nan' | prevParentHeadId :- ''\n",
      "2021-05-11 01:55:10,568 : Heading Extraction Adakveo-4874 EN PI_ANNEX III.json : Match Passed | H | CAP |  en | 2 | Adakveo-4874 EN PI_ANNEX III.json | Doc txt :- 'PARTICULARS TO APPEAR ON THE OUTER PACKAGING' | Qrd txt :- 'PARTICULARS TO APPEAR ON <THE OUTER PACKAGING> <AND> <THE IMMEDIATE PACKAGING>' | Matched :- 'True'\n",
      "2021-05-11 01:55:10,574 : Heading Extraction Adakveo-4874 EN PI_ANNEX III.json : Validation Passed | H | CAP |  en | 2 | Adakveo-4874 EN PI_ANNEX III.json | currHeadId :- '22002' | currParentHeadId :- '22001.0' | prevParentHeadId :- '22001'\n",
      " MEDICINAL PRODUCT' | Qrd txt :- '1. NAME OF THE MEDICINAL PRODUCT' | Matched :- 'True'Passed | H | CAP |  en | 2 | Adakveo-4874 EN PI_ANNEX III.json | Doc txt :- '1.       NAME OF THE\n",
      "2021-05-11 01:55:10,647 : Heading Extraction Adakveo-4874 EN PI_ANNEX III.json : Validation Passed | H | CAP |  en | 2 | Adakveo-4874 EN PI_ANNEX III.json | currHeadId :- '22003' | currParentHeadId :- '22002.0' | prevParentHeadId :- '22002'\n"
     ]
    },
    {
     "name": "stdout",
     "output_type": "stream",
     "text": [
      "b'A. LABELLING'  |===|  b'LABELLING '\n",
      "True  ||  <=1|25.0|(86, 100, 95)|0.92|  ||  b'A. LABELLING'  ||  b'LABELLING '\n",
      "b'PARTICULARS TO APPEAR ON THE OUTER PACKAGING'  |===|  b'PARTICULARS TO APPEAR ON <THE OUTER PACKAGING> <AND> <THE IMMEDIATE PACKAGING>'\n",
      "True  ||  Contains<>|111.76|(64, 85, 86)|0.88|  ||  b'PARTICULARS TO APPEAR ON THE OUTER PACKAGING'  ||  b'PARTICULARS TO APPEAR ON <THE OUTER PACKAGING> <AND> <THE IMMEDIATE PACKAGING>'\n",
      "b'1.       NAME OF THE\\r MEDICINAL PRODUCT'  |===|  b'1. NAME OF THE MEDICINAL PRODUCT'\n",
      "True  ||    ||  b'1.       NAME OF THE\\r MEDICINAL PRODUCT'  ||  b'1. NAME OF THE MEDICINAL PRODUCT'\n"
     ]
    },
    {
     "name": "stderr",
     "output_type": "stream",
     "text": [
      " ACTIVE SUBSTANCE(S)' | Qrd txt :- '2. STATEMENT OF ACTIVE SUBSTANCE(S)' | Matched :- 'True'd | H | CAP |  en | 2 | Adakveo-4874 EN PI_ANNEX III.json | Doc txt :- '2.       STATEMENT OF\n",
      "2021-05-11 01:55:10,868 : Heading Extraction Adakveo-4874 EN PI_ANNEX III.json : Validation Passed | H | CAP |  en | 2 | Adakveo-4874 EN PI_ANNEX III.json | currHeadId :- '22004' | currParentHeadId :- '22002.0' | prevParentHeadId :- '22003'\n",
      "2021-05-11 01:55:11,013 : Heading Extraction Adakveo-4874 EN PI_ANNEX III.json : Match Passed | H | CAP |  en | 2 | Adakveo-4874 EN PI_ANNEX III.json | Doc txt :- '3.       LIST OF EXCIPIENTS' | Qrd txt :- '3. LIST OF EXCIPIENTS' | Matched :- 'True'\n",
      "2021-05-11 01:55:11,022 : Heading Extraction Adakveo-4874 EN PI_ANNEX III.json : Validation Passed | H | CAP |  en | 2 | Adakveo-4874 EN PI_ANNEX III.json | currHeadId :- '22005' | currParentHeadId :- '22002.0' | prevParentHeadId :- '22004'\n"
     ]
    },
    {
     "name": "stdout",
     "output_type": "stream",
     "text": [
      "b'2.       STATEMENT OF\\r ACTIVE SUBSTANCE(S)'  |===|  b'2. STATEMENT OF ACTIVE SUBSTANCE(S)'\n",
      "True  ||    ||  b'2.       STATEMENT OF\\r ACTIVE SUBSTANCE(S)'  ||  b'2. STATEMENT OF ACTIVE SUBSTANCE(S)'\n",
      "b'3.       LIST OF EXCIPIENTS'  |===|  b'3. LIST OF EXCIPIENTS'\n",
      "True  ||    ||  b'3.       LIST OF EXCIPIENTS'  ||  b'3. LIST OF EXCIPIENTS'\n"
     ]
    },
    {
     "name": "stderr",
     "output_type": "stream",
     "text": [
      " FORM AND CONTENTS' | Qrd txt :- '4. PHARMACEUTICAL FORM AND CONTENTS' | Matched :- 'True'sed | H | CAP |  en | 2 | Adakveo-4874 EN PI_ANNEX III.json | Doc txt :- '4.       PHARMACEUTICAL\n",
      "2021-05-11 01:55:11,188 : Heading Extraction Adakveo-4874 EN PI_ANNEX III.json : Validation Passed | H | CAP |  en | 2 | Adakveo-4874 EN PI_ANNEX III.json | currHeadId :- '22006' | currParentHeadId :- '22002.0' | prevParentHeadId :- '22005'\n"
     ]
    },
    {
     "name": "stdout",
     "output_type": "stream",
     "text": [
      "b'4.       PHARMACEUTICAL\\r FORM AND CONTENTS'  |===|  b'4. PHARMACEUTICAL FORM AND CONTENTS'\n",
      "True  ||    ||  b'4.       PHARMACEUTICAL\\r FORM AND CONTENTS'  ||  b'4. PHARMACEUTICAL FORM AND CONTENTS'\n"
     ]
    },
    {
     "name": "stderr",
     "output_type": "stream",
     "text": [
      " ROUTE(S) OF ADMINISTRATION' | Qrd txt :- '5. METHOD AND ROUTE(S) OF ADMINISTRATION' | Matched :- 'True'|  en | 2 | Adakveo-4874 EN PI_ANNEX III.json | Doc txt :- '5.       METHOD AND\n",
      "2021-05-11 01:55:11,455 : Heading Extraction Adakveo-4874 EN PI_ANNEX III.json : Validation Passed | H | CAP |  en | 2 | Adakveo-4874 EN PI_ANNEX III.json | currHeadId :- '22007' | currParentHeadId :- '22002.0' | prevParentHeadId :- '22006'\n"
     ]
    },
    {
     "name": "stdout",
     "output_type": "stream",
     "text": [
      "b'5.       METHOD AND\\r ROUTE(S) OF ADMINISTRATION'  |===|  b'5. METHOD AND ROUTE(S) OF ADMINISTRATION'\n",
      "True  ||    ||  b'5.       METHOD AND\\r ROUTE(S) OF ADMINISTRATION'  ||  b'5. METHOD AND ROUTE(S) OF ADMINISTRATION'\n"
     ]
    },
    {
     "name": "stderr",
     "output_type": "stream",
     "text": [
      " THAT THE MEDICINAL PRODUCT MUST BE STORED OUT OF THE SIGHT AND REACH OF CHILDREN' | Qrd txt :- '6. SPECIAL WARNING THAT THE MEDICINAL PRODUCT MUST BE STORED OUT OF THE SIGHT AND REACH OF CHILDREN' | Matched :- 'True'\n",
      "2021-05-11 01:55:11,807 : Heading Extraction Adakveo-4874 EN PI_ANNEX III.json : Validation Passed | H | CAP |  en | 2 | Adakveo-4874 EN PI_ANNEX III.json | currHeadId :- '22008' | currParentHeadId :- '22002.0' | prevParentHeadId :- '22007'\n",
      " WARNING(S), IF NECESSARY' | Qrd txt :- '7. OTHER SPECIAL WARNING(S), IF NECESSARY' | Matched :- 'True' |  en | 2 | Adakveo-4874 EN PI_ANNEX III.json | Doc txt :- '7.       OTHER SPECIAL\n"
     ]
    },
    {
     "name": "stdout",
     "output_type": "stream",
     "text": [
      "b'6.       SPECIAL WARNING\\r THAT THE MEDICINAL PRODUCT MUST BE STORED OUT OF THE SIGHT AND REACH OF CHILDREN'  |===|  b'6. SPECIAL WARNING THAT THE MEDICINAL PRODUCT MUST BE STORED OUT OF THE SIGHT AND REACH OF CHILDREN'\n",
      "True  ||    ||  b'6.       SPECIAL WARNING\\r THAT THE MEDICINAL PRODUCT MUST BE STORED OUT OF THE SIGHT AND REACH OF CHILDREN'  ||  b'6. SPECIAL WARNING THAT THE MEDICINAL PRODUCT MUST BE STORED OUT OF THE SIGHT AND REACH OF CHILDREN'\n"
     ]
    },
    {
     "name": "stderr",
     "output_type": "stream",
     "text": [
      "2021-05-11 01:55:11,998 : Heading Extraction Adakveo-4874 EN PI_ANNEX III.json : Validation Passed | H | CAP |  en | 2 | Adakveo-4874 EN PI_ANNEX III.json | currHeadId :- '22009' | currParentHeadId :- '22002.0' | prevParentHeadId :- '22008'\n",
      "2021-05-11 01:55:12,033 : Heading Extraction Adakveo-4874 EN PI_ANNEX III.json : Match Passed | H | CAP |  en | 2 | Adakveo-4874 EN PI_ANNEX III.json | Doc txt :- '8.       EXPIRY DATE' | Qrd txt :- '8. EXPIRY DATE' | Matched :- 'True'\n",
      "2021-05-11 01:55:12,043 : Heading Extraction Adakveo-4874 EN PI_ANNEX III.json : Validation Passed | H | CAP |  en | 2 | Adakveo-4874 EN PI_ANNEX III.json | currHeadId :- '22010' | currParentHeadId :- '22002.0' | prevParentHeadId :- '22009'\n",
      " STORAGE CONDITIONS' | Qrd txt :- '9. SPECIAL STORAGE CONDITIONS' | Matched :- 'True'h Passed | H | CAP |  en | 2 | Adakveo-4874 EN PI_ANNEX III.json | Doc txt :- '9.       SPECIAL\n",
      "2021-05-11 01:55:12,101 : Heading Extraction Adakveo-4874 EN PI_ANNEX III.json : Validation Passed | H | CAP |  en | 2 | Adakveo-4874 EN PI_ANNEX III.json | currHeadId :- '22011' | currParentHeadId :- '22002.0' | prevParentHeadId :- '22010'\n"
     ]
    },
    {
     "name": "stdout",
     "output_type": "stream",
     "text": [
      "b'7.       OTHER SPECIAL\\r WARNING(S), IF NECESSARY'  |===|  b'7. OTHER SPECIAL WARNING(S), IF NECESSARY'\n",
      "True  ||    ||  b'7.       OTHER SPECIAL\\r WARNING(S), IF NECESSARY'  ||  b'7. OTHER SPECIAL WARNING(S), IF NECESSARY'\n",
      "b'8.       EXPIRY DATE'  |===|  b'8. EXPIRY DATE'\n",
      "True  ||    ||  b'8.       EXPIRY DATE'  ||  b'8. EXPIRY DATE'\n",
      "b'9.       SPECIAL\\r STORAGE CONDITIONS'  |===|  b'9. SPECIAL STORAGE CONDITIONS'\n",
      "True  ||    ||  b'9.       SPECIAL\\r STORAGE CONDITIONS'  ||  b'9. SPECIAL STORAGE CONDITIONS'\n"
     ]
    },
    {
     "name": "stderr",
     "output_type": "stream",
     "text": [
      " MEDICINAL PRODUCTS, IF APPROPRIATE' | Qrd txt :- '10. SPECIAL PRECAUTIONS FOR DISPOSAL OF UNUSED MEDICINAL PRODUCTS OR WASTE MATERIALS DERIVED FROM SUCH MEDICINAL PRODUCTS, IF APPROPRIATE' | Matched :- 'True'\n",
      "2021-05-11 01:55:12,538 : Heading Extraction Adakveo-4874 EN PI_ANNEX III.json : Validation Passed | H | CAP |  en | 2 | Adakveo-4874 EN PI_ANNEX III.json | currHeadId :- '22012' | currParentHeadId :- '22002.0' | prevParentHeadId :- '22011'\n",
      "2021-05-11 01:55:12,622 : Heading Extraction Adakveo-4874 EN PI_ANNEX III.json : Match Passed | H | CAP |  en | 2 | Adakveo-4874 EN PI_ANNEX III.json | Doc txt :- '11.     NAME AND ADDRESS OF THE MARKETING AUTHORISATION HOLDER' | Qrd txt :- '11. NAME AND ADDRESS OF THE MARKETING AUTHORISATION HOLDER' | Matched :- 'True'\n",
      "2021-05-11 01:55:12,632 : Heading Extraction Adakveo-4874 EN PI_ANNEX III.json : Validation Passed | H | CAP |  en | 2 | Adakveo-4874 EN PI_ANNEX III.json | currHeadId :- '22013' | currParentHeadId :- '22002.0' | prevParentHeadId :- '22012'\n"
     ]
    },
    {
     "name": "stdout",
     "output_type": "stream",
     "text": [
      "b'10.     SPECIAL PRECAUTIONS\\r FOR DISPOSAL OF UNUSED MEDICINAL PRODUCTS OR WASTE MATERIALS DERIVED FROM SUCH\\r MEDICINAL PRODUCTS, IF APPROPRIATE'  |===|  b'10. SPECIAL PRECAUTIONS FOR DISPOSAL OF UNUSED MEDICINAL PRODUCTS OR WASTE MATERIALS DERIVED FROM SUCH MEDICINAL PRODUCTS, IF APPROPRIATE'\n",
      "True  ||    ||  b'10.     SPECIAL PRECAUTIONS\\r FOR DISPOSAL OF UNUSED MEDICINAL PRODUCTS OR WASTE MATERIALS DERIVED FROM SUCH\\r MEDICINAL PRODUCTS, IF APPROPRIATE'  ||  b'10. SPECIAL PRECAUTIONS FOR DISPOSAL OF UNUSED MEDICINAL PRODUCTS OR WASTE MATERIALS DERIVED FROM SUCH MEDICINAL PRODUCTS, IF APPROPRIATE'\n",
      "b'11.     NAME AND ADDRESS OF THE MARKETING AUTHORISATION HOLDER'  |===|  b'11. NAME AND ADDRESS OF THE MARKETING AUTHORISATION HOLDER'\n",
      "True  ||    ||  b'11.     NAME AND ADDRESS OF THE MARKETING AUTHORISATION HOLDER'  ||  b'11. NAME AND ADDRESS OF THE MARKETING AUTHORISATION HOLDER'\n"
     ]
    },
    {
     "name": "stderr",
     "output_type": "stream",
     "text": [
      "2021-05-11 01:55:13,198 : Heading Extraction Adakveo-4874 EN PI_ANNEX III.json : Match Passed | H | CAP |  en | 2 | Adakveo-4874 EN PI_ANNEX III.json | Doc txt :- '12.     MARKETING AUTHORISATION NUMBER(S)' | Qrd txt :- '12. MARKETING AUTHORISATION NUMBER(S) ' | Matched :- 'True'\n",
      "2021-05-11 01:55:13,208 : Heading Extraction Adakveo-4874 EN PI_ANNEX III.json : Validation Passed | H | CAP |  en | 2 | Adakveo-4874 EN PI_ANNEX III.json | currHeadId :- '22014' | currParentHeadId :- '22002.0' | prevParentHeadId :- '22013'\n",
      "2021-05-11 01:55:13,377 : Heading Extraction Adakveo-4874 EN PI_ANNEX III.json : Match Passed | H | CAP |  en | 2 | Adakveo-4874 EN PI_ANNEX III.json | Doc txt :- '13.     BATCH NUMBER' | Qrd txt :- '13. BATCH NUMBER<, DONATION AND PRODUCT CODES>' | Matched :- 'True'\n",
      "2021-05-11 01:55:13,387 : Heading Extraction Adakveo-4874 EN PI_ANNEX III.json : Validation Passed | H | CAP |  en | 2 | Adakveo-4874 EN PI_ANNEX III.json | currHeadId :- '22015' | currParentHeadId :- '22002.0' | prevParentHeadId :- '22014'\n"
     ]
    },
    {
     "name": "stdout",
     "output_type": "stream",
     "text": [
      "b'12.     MARKETING AUTHORISATION NUMBER(S)'  |===|  b'12. MARKETING AUTHORISATION NUMBER(S) '\n",
      "True  ||    ||  b'12.     MARKETING AUTHORISATION NUMBER(S)'  ||  b'12. MARKETING AUTHORISATION NUMBER(S) '\n",
      "b'13.     BATCH NUMBER'  |===|  b'13. BATCH NUMBER<, DONATION AND PRODUCT CODES>'\n"
     ]
    },
    {
     "name": "stderr",
     "output_type": "stream",
     "text": [
      "2021-05-11 01:55:13,488 : Heading Extraction Adakveo-4874 EN PI_ANNEX III.json : Match Passed | H | CAP |  en | 2 | Adakveo-4874 EN PI_ANNEX III.json | Doc txt :- '14.     GENERAL CLASSIFICATION FOR SUPPLY' | Qrd txt :- '14. GENERAL CLASSIFICATION FOR SUPPLY' | Matched :- 'True'\n",
      "2021-05-11 01:55:13,499 : Heading Extraction Adakveo-4874 EN PI_ANNEX III.json : Validation Passed | H | CAP |  en | 2 | Adakveo-4874 EN PI_ANNEX III.json | currHeadId :- '22016' | currParentHeadId :- '22002.0' | prevParentHeadId :- '22015'\n",
      "2021-05-11 01:55:13,589 : Heading Extraction Adakveo-4874 EN PI_ANNEX III.json : Match Passed | H | CAP |  en | 2 | Adakveo-4874 EN PI_ANNEX III.json | Doc txt :- '15.     INSTRUCTIONS ON USE' | Qrd txt :- '15. INSTRUCTIONS ON USE' | Matched :- 'True'\n"
     ]
    },
    {
     "name": "stdout",
     "output_type": "stream",
     "text": [
      "True  ||  Contains<>|162.5|(55, 100, 90)|0.88|  ||  b'13.     BATCH NUMBER'  ||  b'13. BATCH NUMBER<, DONATION AND PRODUCT CODES>'\n",
      "b'14.     GENERAL CLASSIFICATION FOR SUPPLY'  |===|  b'14. GENERAL CLASSIFICATION FOR SUPPLY'\n",
      "True  ||    ||  b'14.     GENERAL CLASSIFICATION FOR SUPPLY'  ||  b'14. GENERAL CLASSIFICATION FOR SUPPLY'\n"
     ]
    },
    {
     "name": "stderr",
     "output_type": "stream",
     "text": [
      "2021-05-11 01:55:13,602 : Heading Extraction Adakveo-4874 EN PI_ANNEX III.json : Validation Passed | H | CAP |  en | 2 | Adakveo-4874 EN PI_ANNEX III.json | currHeadId :- '22017' | currParentHeadId :- '22002.0' | prevParentHeadId :- '22016'\n",
      "2021-05-11 01:55:13,699 : Heading Extraction Adakveo-4874 EN PI_ANNEX III.json : Match Passed | H | CAP |  en | 2 | Adakveo-4874 EN PI_ANNEX III.json | Doc txt :- '16.     INFORMATION IN BRAILLE' | Qrd txt :- '16. INFORMATION IN BRAILLE' | Matched :- 'True'\n",
      "2021-05-11 01:55:13,710 : Heading Extraction Adakveo-4874 EN PI_ANNEX III.json : Validation Passed | H | CAP |  en | 2 | Adakveo-4874 EN PI_ANNEX III.json | currHeadId :- '22018' | currParentHeadId :- '22002.0' | prevParentHeadId :- '22017'\n"
     ]
    },
    {
     "name": "stdout",
     "output_type": "stream",
     "text": [
      "b'15.     INSTRUCTIONS ON USE'  |===|  b'15. INSTRUCTIONS ON USE'\n",
      "True  ||    ||  b'15.     INSTRUCTIONS ON USE'  ||  b'15. INSTRUCTIONS ON USE'\n",
      "b'16.     INFORMATION IN BRAILLE'  |===|  b'16. INFORMATION IN BRAILLE'\n",
      "True  ||    ||  b'16.     INFORMATION IN BRAILLE'  ||  b'16. INFORMATION IN BRAILLE'\n"
     ]
    },
    {
     "name": "stderr",
     "output_type": "stream",
     "text": [
      "2021-05-11 01:55:13,980 : Heading Extraction Adakveo-4874 EN PI_ANNEX III.json : Match Passed | H | CAP |  en | 2 | Adakveo-4874 EN PI_ANNEX III.json | Doc txt :- '17.     UNIQUE IDENTIFIER – 2D BARCODE' | Qrd txt :- '17. UNIQUE IDENTIFIER – 2D BARCODE' | Matched :- 'True'\n",
      "2021-05-11 01:55:13,991 : Heading Extraction Adakveo-4874 EN PI_ANNEX III.json : Validation Passed | H | CAP |  en | 2 | Adakveo-4874 EN PI_ANNEX III.json | currHeadId :- '22019' | currParentHeadId :- '22002.0' | prevParentHeadId :- '22018'\n",
      " identifier included.' | Qrd txt :- '17. UNIQUE IDENTIFIER – 2D BARCODE' | Matched :- 'False' In Lowercase | H | CAP |  en | 2 | Adakveo-4874 EN PI_ANNEX III.json | Doc txt :- '2D barcode carrying the unique\n"
     ]
    },
    {
     "name": "stdout",
     "output_type": "stream",
     "text": [
      "b'17.     UNIQUE IDENTIFIER \\xe2\\x80\\x93 2D BARCODE'  |===|  b'17. UNIQUE IDENTIFIER \\xe2\\x80\\x93 2D BARCODE'\n",
      "True  ||    ||  b'17.     UNIQUE IDENTIFIER \\xe2\\x80\\x93 2D BARCODE'  ||  b'17. UNIQUE IDENTIFIER \\xe2\\x80\\x93 2D BARCODE'\n",
      "\n",
      "OriginalCheck\n",
      "('<=7|93.62|(7, 9, 90)|0.38|', '2D barcode carrying the unique\\r identifier included.', '17. UNIQUE IDENTIFIER – 2D BARCODE')\n",
      "\n"
     ]
    },
    {
     "name": "stderr",
     "output_type": "stream",
     "text": [
      " READABLE DATA' | Qrd txt :- '18. UNIQUE IDENTIFIER - HUMAN READABLE DATA' | Matched :- 'True'| H | CAP |  en | 2 | Adakveo-4874 EN PI_ANNEX III.json | Doc txt :- '18.     UNIQUE IDENTIFIER - HUMAN\n",
      "2021-05-11 01:55:14,298 : Heading Extraction Adakveo-4874 EN PI_ANNEX III.json : Validation Passed | H | CAP |  en | 2 | Adakveo-4874 EN PI_ANNEX III.json | currHeadId :- '22020' | currParentHeadId :- '22002.0' | prevParentHeadId :- '22019'\n",
      "2021-05-11 01:55:14,468 : Heading Extraction Adakveo-4874 EN PI_ANNEX III.json : Match Passed | H | CAP |  en | 2 | Adakveo-4874 EN PI_ANNEX III.json | Doc txt :- 'MINIMUM PARTICULARS TO APPEAR ON SMALL IMMEDIATE PACKAGING UNITS' | Qrd txt :- 'MINIMUM PARTICULARS TO APPEAR ON SMALL IMMEDIATE PACKAGING UNITS' | Matched :- 'True'\n"
     ]
    },
    {
     "name": "stdout",
     "output_type": "stream",
     "text": [
      "b'18.     UNIQUE IDENTIFIER - HUMAN\\r READABLE DATA'  |===|  b'18. UNIQUE IDENTIFIER - HUMAN READABLE DATA'\n",
      "True  ||    ||  b'18.     UNIQUE IDENTIFIER - HUMAN\\r READABLE DATA'  ||  b'18. UNIQUE IDENTIFIER - HUMAN READABLE DATA'\n"
     ]
    },
    {
     "name": "stderr",
     "output_type": "stream",
     "text": [
      "2021-05-11 01:55:14,481 : Heading Extraction Adakveo-4874 EN PI_ANNEX III.json : Validation Flow Is Broken | H | CAP |  en | 2 | Adakveo-4874 EN PI_ANNEX III.json | currHeadId :- '22027' | currParentHeadId :- '22001.0' | prevParentHeadId :- '22020'\n",
      "2021-05-11 01:55:14,488 : Heading Extraction Adakveo-4874 EN PI_ANNEX III.json : Validation Passed | H | CAP |  en | 2 | Adakveo-4874 EN PI_ANNEX III.json | currHeadId :- '22027' | currParentHeadId :- '22001.0' | prevParentHeadId :- '22020'\n"
     ]
    },
    {
     "name": "stdout",
     "output_type": "stream",
     "text": [
      "b'MINIMUM PARTICULARS TO APPEAR ON SMALL IMMEDIATE PACKAGING UNITS'  |===|  b'MINIMUM PARTICULARS TO APPEAR ON SMALL IMMEDIATE PACKAGING UNITS'\n",
      "True  ||    ||  b'MINIMUM PARTICULARS TO APPEAR ON SMALL IMMEDIATE PACKAGING UNITS'  ||  b'MINIMUM PARTICULARS TO APPEAR ON SMALL IMMEDIATE PACKAGING UNITS'\n"
     ]
    },
    {
     "name": "stderr",
     "output_type": "stream",
     "text": [
      " ADMINISTRATION' | Qrd txt :- '1. NAME OF THE MEDICINAL PRODUCT AND ROUTE(S) OF ADMINISTRATION' | Matched :- 'True' Adakveo-4874 EN PI_ANNEX III.json | Doc txt :- '1.       NAME OF THE MEDICINAL PRODUCT AND ROUTE(S) OF\n",
      "2021-05-11 01:55:14,732 : Heading Extraction Adakveo-4874 EN PI_ANNEX III.json : Validation Passed | H | CAP |  en | 2 | Adakveo-4874 EN PI_ANNEX III.json | currHeadId :- '22028' | currParentHeadId :- '22027.0' | prevParentHeadId :- '22027'\n"
     ]
    },
    {
     "name": "stdout",
     "output_type": "stream",
     "text": [
      "b'1.       NAME OF THE MEDICINAL PRODUCT AND ROUTE(S) OF\\r ADMINISTRATION'  |===|  b'1. NAME OF THE MEDICINAL PRODUCT AND ROUTE(S) OF ADMINISTRATION'\n",
      "True  ||    ||  b'1.       NAME OF THE MEDICINAL PRODUCT AND ROUTE(S) OF\\r ADMINISTRATION'  ||  b'1. NAME OF THE MEDICINAL PRODUCT AND ROUTE(S) OF ADMINISTRATION'\n"
     ]
    },
    {
     "name": "stderr",
     "output_type": "stream",
     "text": [
      "2021-05-11 01:55:14,997 : Heading Extraction Adakveo-4874 EN PI_ANNEX III.json : Match Failed In Lowercase | H | CAP |  en | 2 | Adakveo-4874 EN PI_ANNEX III.json | Doc txt :- '2.       METHOD OF ADMINISTRATION' | Qrd txt :- '5. METHOD AND ROUTE(S) OF ADMINISTRATION' | Matched :- 'False'\n",
      "2021-05-11 01:55:15,098 : Heading Extraction Adakveo-4874 EN PI_ANNEX III.json : Match Passed | H | CAP |  en | 2 | Adakveo-4874 EN PI_ANNEX III.json | Doc txt :- '2.       METHOD OF ADMINISTRATION' | Qrd txt :- '2. METHOD OF ADMINISTRATION' | Matched :- 'True'\n",
      "2021-05-11 01:55:15,109 : Heading Extraction Adakveo-4874 EN PI_ANNEX III.json : Validation Passed | H | CAP |  en | 2 | Adakveo-4874 EN PI_ANNEX III.json | currHeadId :- '22029' | currParentHeadId :- '22027.0' | prevParentHeadId :- '22028'\n",
      "2021-05-11 01:55:15,147 : Heading Extraction Adakveo-4874 EN PI_ANNEX III.json : Match Passed | H | CAP |  en | 2 | Adakveo-4874 EN PI_ANNEX III.json | Doc txt :- '3.       EXPIRY DATE' | Qrd txt :- '8. EXPIRY DATE' | Matched :- 'True'\n",
      "2021-05-11 01:55:15,157 : Heading Extraction Adakveo-4874 EN PI_ANNEX III.json : Validation Failed As Previous Heading Found is not matching | H | CAP |  en | 2 | Adakveo-4874 EN PI_ANNEX III.json | currHeadId :- '22010' | currParentHeadId :- '22002.0' | prevParentHeadId :- '22029'\n"
     ]
    },
    {
     "name": "stdout",
     "output_type": "stream",
     "text": [
      "\n",
      "OriginalCheck\n",
      "('<=7|51.85|(78, 74, 91)|0.85|', '2.       METHOD OF ADMINISTRATION', '5. METHOD AND ROUTE(S) OF ADMINISTRATION')\n",
      "\n",
      "b'2.       METHOD OF ADMINISTRATION'  |===|  b'2. METHOD OF ADMINISTRATION'\n",
      "True  ||    ||  b'2.       METHOD OF ADMINISTRATION'  ||  b'2. METHOD OF ADMINISTRATION'\n",
      "b'3.       EXPIRY DATE'  |===|  b'8. EXPIRY DATE'\n"
     ]
    },
    {
     "name": "stderr",
     "output_type": "stream",
     "text": [
      "2021-05-11 01:55:15,212 : Heading Extraction Adakveo-4874 EN PI_ANNEX III.json : Match Passed | H | CAP |  en | 2 | Adakveo-4874 EN PI_ANNEX III.json | Doc txt :- '3.       EXPIRY DATE' | Qrd txt :- '3. EXPIRY DATE' | Matched :- 'True'\n",
      "2021-05-11 01:55:15,224 : Heading Extraction Adakveo-4874 EN PI_ANNEX III.json : Validation Failed As Wrong Heading Found | H | CAP |  en | 2 | Adakveo-4874 EN PI_ANNEX III.json | currHeadId :- '22024' | currParentHeadId :- '22021.0' | prevParentHeadId :- '22029'\n",
      "2021-05-11 01:55:15,245 : Heading Extraction Adakveo-4874 EN PI_ANNEX III.json : Match Passed | H | CAP |  en | 2 | Adakveo-4874 EN PI_ANNEX III.json | Doc txt :- '3.       EXPIRY DATE' | Qrd txt :- '3. EXPIRY DATE' | Matched :- 'True'\n",
      "2021-05-11 01:55:15,255 : Heading Extraction Adakveo-4874 EN PI_ANNEX III.json : Validation Passed | H | CAP |  en | 2 | Adakveo-4874 EN PI_ANNEX III.json | currHeadId :- '22030' | currParentHeadId :- '22027.0' | prevParentHeadId :- '22029'\n",
      "2021-05-11 01:55:15,316 : Heading Extraction Adakveo-4874 EN PI_ANNEX III.json : Match Passed | H | CAP |  en | 2 | Adakveo-4874 EN PI_ANNEX III.json | Doc txt :- '4.       BATCH NUMBER' | Qrd txt :- '13. BATCH NUMBER<, DONATION AND PRODUCT CODES>' | Matched :- 'True'\n",
      "2021-05-11 01:55:15,326 : Heading Extraction Adakveo-4874 EN PI_ANNEX III.json : Validation Failed As Previous Heading Found is not matching | H | CAP |  en | 2 | Adakveo-4874 EN PI_ANNEX III.json | currHeadId :- '22015' | currParentHeadId :- '22002.0' | prevParentHeadId :- '22030'\n",
      "2021-05-11 01:55:15,365 : Heading Extraction Adakveo-4874 EN PI_ANNEX III.json : Match Passed | H | CAP |  en | 2 | Adakveo-4874 EN PI_ANNEX III.json | Doc txt :- '4.       BATCH NUMBER' | Qrd txt :- '4. BATCH NUMBER<, DONATION AND PRODUCT CODES>' | Matched :- 'True'\n",
      "2021-05-11 01:55:15,377 : Heading Extraction Adakveo-4874 EN PI_ANNEX III.json : Validation Failed As Wrong Heading Found | H | CAP |  en | 2 | Adakveo-4874 EN PI_ANNEX III.json | currHeadId :- '22025' | currParentHeadId :- '22021.0' | prevParentHeadId :- '22030'\n",
      "2021-05-11 01:55:15,406 : Heading Extraction Adakveo-4874 EN PI_ANNEX III.json : Match Passed | H | CAP |  en | 2 | Adakveo-4874 EN PI_ANNEX III.json | Doc txt :- '4.       BATCH NUMBER' | Qrd txt :- '4. BATCH NUMBER<, DONATION AND PRODUCT CODES>' | Matched :- 'True'\n"
     ]
    },
    {
     "name": "stdout",
     "output_type": "stream",
     "text": [
      "b'3.       EXPIRY DATE'  |===|  b'3. EXPIRY DATE'\n",
      "b'3.       EXPIRY DATE'  |===|  b'3. EXPIRY DATE'\n",
      "True  ||    ||  b'3.       EXPIRY DATE'  ||  b'3. EXPIRY DATE'\n",
      "b'4.       BATCH NUMBER'  |===|  b'13. BATCH NUMBER<, DONATION AND PRODUCT CODES>'\n",
      "b'4.       BATCH NUMBER'  |===|  b'4. BATCH NUMBER<, DONATION AND PRODUCT CODES>'\n"
     ]
    },
    {
     "name": "stderr",
     "output_type": "stream",
     "text": [
      "2021-05-11 01:55:15,418 : Heading Extraction Adakveo-4874 EN PI_ANNEX III.json : Validation Passed | H | CAP |  en | 2 | Adakveo-4874 EN PI_ANNEX III.json | currHeadId :- '22031' | currParentHeadId :- '22027.0' | prevParentHeadId :- '22030'\n",
      "2021-05-11 01:55:15,579 : Heading Extraction Adakveo-4874 EN PI_ANNEX III.json : Match Passed | H | CAP |  en | 2 | Adakveo-4874 EN PI_ANNEX III.json | Doc txt :- '5.       CONTENTS BY WEIGHT, BY VOLUME OR BY UNIT' | Qrd txt :- '5. CONTENTS BY WEIGHT, BY VOLUME OR BY UNIT' | Matched :- 'True'\n"
     ]
    },
    {
     "name": "stdout",
     "output_type": "stream",
     "text": [
      "b'4.       BATCH NUMBER'  |===|  b'4. BATCH NUMBER<, DONATION AND PRODUCT CODES>'\n",
      "True  ||  Contains<>|173.33|(54, 100, 90)|0.87|  ||  b'4.       BATCH NUMBER'  ||  b'4. BATCH NUMBER<, DONATION AND PRODUCT CODES>'\n",
      "b'5.       CONTENTS BY WEIGHT, BY VOLUME OR BY UNIT'  |===|  b'5. CONTENTS BY WEIGHT, BY VOLUME OR BY UNIT'\n"
     ]
    },
    {
     "name": "stderr",
     "output_type": "stream",
     "text": [
      "2021-05-11 01:55:15,590 : Heading Extraction Adakveo-4874 EN PI_ANNEX III.json : Validation Passed | H | CAP |  en | 2 | Adakveo-4874 EN PI_ANNEX III.json | currHeadId :- '22032' | currParentHeadId :- '22027.0' | prevParentHeadId :- '22031'\n",
      "2021-05-11 01:55:15,748 : Heading Extraction Adakveo-4874 EN PI_ANNEX III.json : Match Failed | H | CAP |  en | 2 | Adakveo-4874 EN PI_ANNEX III.json | Doc txt :- '6.       OTHER' | Qrd txt :- '5. OTHER' | Matched :- 'False'\n",
      "2021-05-11 01:55:15,766 : Heading Extraction Adakveo-4874 EN PI_ANNEX III.json : Match Passed | H | CAP |  en | 2 | Adakveo-4874 EN PI_ANNEX III.json | Doc txt :- '6.       OTHER' | Qrd txt :- '6. OTHER' | Matched :- 'True'\n",
      "2021-05-11 01:55:15,778 : Heading Extraction Adakveo-4874 EN PI_ANNEX III.json : Validation Passed | H | CAP |  en | 2 | Adakveo-4874 EN PI_ANNEX III.json | currHeadId :- '22033' | currParentHeadId :- '22027.0' | prevParentHeadId :- '22032'\n"
     ]
    },
    {
     "name": "stdout",
     "output_type": "stream",
     "text": [
      "True  ||    ||  b'5.       CONTENTS BY WEIGHT, BY VOLUME OR BY UNIT'  ||  b'5. CONTENTS BY WEIGHT, BY VOLUME OR BY UNIT'\n",
      "b'6.       OTHER'  |===|  b'6. OTHER'\n"
     ]
    },
    {
     "name": "stderr",
     "output_type": "stream",
     "text": [
      "2021-05-11 01:55:15,785 : Flow Logger HTML_p : Completed Heading Extraction For File | H | CAP |  en | HTML | Adakveo-4874 EN PI.html\n",
      "2021-05-11 01:55:15,787 : Flow Logger HTML_p : Starting Document Annotation For File | H | CAP |  en | HTML | Adakveo-4874 EN PI.html\n",
      "2021-05-11 01:55:15,795 : Flow Logger HTML_p : Completed Document Annotation | H | CAP |  en | HTML | Adakveo-4874 EN PI.html\n",
      "2021-05-11 01:55:15,796 : Flow Logger HTML_p : Starting Extracting Content Between Heading | H | CAP |  en | HTML | Adakveo-4874 EN PI.html\n",
      "2021-05-11 01:55:15,801 : ExtractContentBetween_2 : Cleaning Match Results | H | CAP |  en | 2 | Adakveo-4874 EN PI_ANNEX III.json\n",
      "2021-05-11 01:55:15,807 : ExtractContentBetween_2 : Finished Cleaning Match Results | H | CAP |  en | 2 | Adakveo-4874 EN PI_ANNEX III.json\n",
      "2021-05-11 01:55:15,878 : Flow Logger HTML_p : Completed Extracting Content Between Heading | H | CAP |  en | HTML | Adakveo-4874 EN PI.html\n",
      "2021-05-11 01:55:15,897 : XmlGeneration_2 : PMS/OMS Annotation Information Not Retrieved | H | CAP |  en | 2 | Adakveo-4874 EN PI_ANNEX III.json\n",
      "2021-05-11 01:55:15,898 : XmlGeneration_2 : Initiating XML Generation | H | CAP |  en | 2 | Adakveo-4874 EN PI_ANNEX III.json\n",
      "2021-05-11 01:55:15,936 : XmlGeneration_2 : Writing to File:Adakveo-4874 EN PI_ANNEX III.xml | H | CAP |  en | 2 | Adakveo-4874 EN PI_ANNEX III.json\n"
     ]
    },
    {
     "name": "stdout",
     "output_type": "stream",
     "text": [
      "True  ||    ||  b'6.       OTHER'  ||  b'6. OTHER'\n",
      "\n",
      "\n",
      "Heading Not Found \n",
      " ['MINIMUM PARTICULARS TO APPEAR ON BLISTERS OR STRIPS', 'NAME OF THE MARKETING AUTHORISATION HOLDER']\n",
      "\n",
      "\n",
      "dict_keys([])\n",
      "Completed Heading Extraction For File\n",
      "Starting Document Annotation For File :- Adakveo-4874 EN PI_ANNEX III.json\n",
      "Error Found\n",
      "Completed Document Annotation\n",
      "Starting Extracting Content Between Heading For File :- Adakveo-4874 EN PI_ANNEX III.json\n",
      "File being processed: F:\\Projects\\EMA\\Repository\\EMA EPI PoC\\function_code\\data\\partitionedJSONs\\H\\CAP\\en\\Adakveo-4874 EN PI_ANNEX III.json\n",
      "--------------------------------------------\n",
      "Completed Extracting Content Between Heading\n",
      "Already Exists\n"
     ]
    },
    {
     "name": "stderr",
     "output_type": "stream",
     "text": [
      "2021-05-11 01:55:17,213 : XML Submission Logger_2 : Initiating Submission To FHIR Server | H | CAP |  en | 2 | Adakveo-4874 EN PI_ANNEX III.json\n",
      "2021-05-11 01:55:17,215 : XML Submission Logger_2 : POST sucessful: XML added with id: 919fef74-bfe8-47c1-98ee-e89629369130 | H | CAP |  en | 2 | Adakveo-4874 EN PI_ANNEX III.json\n",
      "2021-05-11 01:55:17,216 : Flow Logger HTML_p : \n",
      "\n",
      "\n",
      "\n",
      "||||||||||||||||||||||||||||||||3 ||||| Adakveo-4874 EN PI_ PACKAGE LEAFLET.json||||||||||||||||||||||||||||||||\n",
      "\n",
      "\n",
      "\n",
      " | H | CAP |  en | HTML | Adakveo-4874 EN PI.html\n",
      "2021-05-11 01:55:17,220 : Heading Extraction Adakveo-4874 EN PI_ PACKAGE LEAFLET.json : Starting Heading Extraction | H | CAP |  en | 3 | Adakveo-4874 EN PI_ PACKAGE LEAFLET.json\n",
      "2021-05-11 01:55:17,288 : Heading Extraction Adakveo-4874 EN PI_ PACKAGE LEAFLET.json : Started Extracting Heading | H | CAP |  en | 3 | Adakveo-4874 EN PI_ PACKAGE LEAFLET.json\n",
      "2021-05-11 01:55:17,296 : Heading Extraction Adakveo-4874 EN PI_ PACKAGE LEAFLET.json : Match Passed | H | CAP |  en | 3 | Adakveo-4874 EN PI_ PACKAGE LEAFLET.json | Doc txt :- 'B. PACKAGE LEAFLET' | Qrd txt :- 'PACKAGE LEAFLET' | Matched :- 'True'\n",
      "2021-05-11 01:55:17,301 : Heading Extraction Adakveo-4874 EN PI_ PACKAGE LEAFLET.json : Validation Passed As This The First Heading | H | CAP |  en | 3 | Adakveo-4874 EN PI_ PACKAGE LEAFLET.json | currHeadId :- '23001' | currParentHeadId :- 'nan' | prevParentHeadId :- ''\n",
      "2021-05-11 01:55:17,308 : Heading Extraction Adakveo-4874 EN PI_ PACKAGE LEAFLET.json : Match Failed In Lowercase | H | CAP |  en | 3 | Adakveo-4874 EN PI_ PACKAGE LEAFLET.json | Doc txt :- 'Package leaflet: Information for the patient' | Qrd txt :- 'PACKAGE LEAFLET' | Matched :- 'False'\n",
      "2021-05-11 01:55:17,365 : Heading Extraction Adakveo-4874 EN PI_ PACKAGE LEAFLET.json : Match Failed | H | CAP |  en | 3 | Adakveo-4874 EN PI_ PACKAGE LEAFLET.json | Doc txt :- 'Package leaflet: Information for the patient' | Qrd txt :- 'Pregnancy <and> <,> breast-feeding <and fertility>' | Matched :- 'False'\n"
     ]
    },
    {
     "name": "stdout",
     "output_type": "stream",
     "text": [
      "POST sucessful: XML added with id 919fef74-bfe8-47c1-98ee-e89629369130\n",
      "Created XML File For :- Adakveo-4874 EN PI_ANNEX III.json\n",
      "Starting Heading Extraction For File :- Adakveo-4874 EN PI_ PACKAGE LEAFLET.json\n",
      "File being processed: F:\\Projects\\EMA\\Repository\\EMA EPI PoC\\function_code\\data\\partitionedJSONs\\H\\CAP\\en\\Adakveo-4874 EN PI_ PACKAGE LEAFLET.json\n",
      "--------------------------------------------\n",
      "Package leaflet\n",
      "b'B. PACKAGE LEAFLET'  |===|  b'PACKAGE LEAFLET'\n",
      "True  ||  <=4|16.67|(91, 100, 95)|0.91|  ||  b'B. PACKAGE LEAFLET'  ||  b'PACKAGE LEAFLET'\n",
      "\n",
      "OriginalCheck\n",
      "('<=4|95.45|(7, 13, 90)|0.39|', 'Package leaflet: Information for the patient', 'PACKAGE LEAFLET')\n",
      "\n"
     ]
    },
    {
     "name": "stderr",
     "output_type": "stream",
     "text": [
      "2021-05-11 01:55:17,462 : Heading Extraction Adakveo-4874 EN PI_ PACKAGE LEAFLET.json : Match Failed | H | CAP |  en | 3 | Adakveo-4874 EN PI_ PACKAGE LEAFLET.json | Doc txt :- 'Package leaflet: Information for the patient' | Qrd txt :- 'This leaflet was last revised in <{MM/YYYY}><{month YYYY}>.' | Matched :- 'False'\n",
      "2021-05-11 01:55:17,547 : Heading Extraction Adakveo-4874 EN PI_ PACKAGE LEAFLET.json : Match Failed | H | CAP |  en | 3 | Adakveo-4874 EN PI_ PACKAGE LEAFLET.json | Doc txt :- 'Adakveo 10 mg/ml concentrate for solution for infusion' | Qrd txt :- 'Pregnancy <and> <,> breast-feeding <and fertility>' | Matched :- 'False'\n",
      "2021-05-11 01:55:17,654 : Heading Extraction Adakveo-4874 EN PI_ PACKAGE LEAFLET.json : Match Failed | H | CAP |  en | 3 | Adakveo-4874 EN PI_ PACKAGE LEAFLET.json | Doc txt :- 'Adakveo 10 mg/ml concentrate for solution for infusion' | Qrd txt :- 'This leaflet was last revised in <{MM/YYYY}><{month YYYY}>.' | Matched :- 'False'\n",
      "2021-05-11 01:55:17,698 : Heading Extraction Adakveo-4874 EN PI_ PACKAGE LEAFLET.json : Match Failed | H | CAP |  en | 3 | Adakveo-4874 EN PI_ PACKAGE LEAFLET.json | Doc txt :- 'crizanlizumab' | Qrd txt :- 'Pregnancy <and> <,> breast-feeding <and fertility>' | Matched :- 'False'\n",
      "2021-05-11 01:55:17,740 : Heading Extraction Adakveo-4874 EN PI_ PACKAGE LEAFLET.json : Match Failed | H | CAP |  en | 3 | Adakveo-4874 EN PI_ PACKAGE LEAFLET.json | Doc txt :- 'crizanlizumab' | Qrd txt :- 'This leaflet was last revised in <{MM/YYYY}><{month YYYY}>.' | Matched :- 'False'\n",
      " section 4 for how to report side effects.' | Qrd txt :- 'q This medicine is subject to additional monitoring. This will allow quick identification of new safety information. You can help by reporting any side effects you may get. See the end of section 4 for how to report side effects.' | Matched :- 'True'\n",
      "2021-05-11 01:55:17,762 : Heading Extraction Adakveo-4874 EN PI_ PACKAGE LEAFLET.json : Validation Passed | H | CAP |  en | 3 | Adakveo-4874 EN PI_ PACKAGE LEAFLET.json | currHeadId :- '23002' | currParentHeadId :- '23001.0' | prevParentHeadId :- '23001'\n",
      "2021-05-11 01:55:17,767 : Heading Extraction Adakveo-4874 EN PI_ PACKAGE LEAFLET.json : Validation Failed By Style | H | CAP |  en | 3 | Adakveo-4874 EN PI_ PACKAGE LEAFLET.json | currHeadId :- '23002' | currParentHeadId :- '23001.0' | prevParentHeadId :- '23001'\n",
      " section 4 for how to report side effects.' | Qrd txt :- 'Pregnancy <and> <,> breast-feeding <and fertility>' | Matched :- 'False'-4874 EN PI_ PACKAGE LEAFLET.json | Doc txt :- 'This medicine is subject to additional\n"
     ]
    },
    {
     "name": "stdout",
     "output_type": "stream",
     "text": [
      "b'This medicine is subject to additional\\r monitoring. This will allow quick identification of new safety information. You\\r can help by reporting any side effects you may get. See the end of\\r section 4 for how to report side effects.'  |===|  b'q This medicine is subject to additional monitoring. This will allow quick identification of new safety information. You can help by reporting any side effects you may get. See the end of section 4 for how to report side effects.'\n",
      "----------------------------------\n",
      "RemovedByStyle  ||    ||  b'This medicine is subject to additional\\r monitoring. This will allow quick identification of new safety information. You\\r can help by reporting any side effects you may get. See the end of\\r section 4 for how to report side effects.'  ||  b'q This medicine is subject to additional monitoring. This will allow quick identification of new safety information. You can help by reporting any side effects you may get. See the end of section 4 for how to report side effects.'\n",
      "----------------------------------\n"
     ]
    },
    {
     "name": "stderr",
     "output_type": "stream",
     "text": [
      " section 4 for how to report side effects.' | Qrd txt :- 'This leaflet was last revised in <{MM/YYYY}><{month YYYY}>.' | Matched :- 'False'PI_ PACKAGE LEAFLET.json | Doc txt :- 'This medicine is subject to additional\n",
      " important information for you.' | Qrd txt :- 'Pregnancy <and> <,> breast-feeding <and fertility>' | Matched :- 'False'3 | Adakveo-4874 EN PI_ PACKAGE LEAFLET.json | Doc txt :- 'Read all of\n",
      " important information for you.' | Qrd txt :- 'This leaflet was last revised in <{MM/YYYY}><{month YYYY}>.' | Matched :- 'False'eo-4874 EN PI_ PACKAGE LEAFLET.json | Doc txt :- 'Read all of\n",
      " again.' | Qrd txt :- 'Pregnancy <and> <,> breast-feeding <and fertility>' | Matched :- 'False'ailed | H | CAP |  en | 3 | Adakveo-4874 EN PI_ PACKAGE LEAFLET.json | Doc txt :- '-Keep this leaflet. You may need to read it\n",
      " again.' | Qrd txt :- 'This leaflet was last revised in <{MM/YYYY}><{month YYYY}>.' | Matched :- 'False' | CAP |  en | 3 | Adakveo-4874 EN PI_ PACKAGE LEAFLET.json | Doc txt :- '-Keep this leaflet. You may need to read it\n",
      " or nurse.' | Qrd txt :- 'Pregnancy <and> <,> breast-feeding <and fertility>' | Matched :- 'False'ed | H | CAP |  en | 3 | Adakveo-4874 EN PI_ PACKAGE LEAFLET.json | Doc txt :- '-If you have any further questions, ask your doctor\n",
      " or nurse.' | Qrd txt :- 'If you <take> <use> more Adakveo than you should' | Matched :- 'False'iled | H | CAP |  en | 3 | Adakveo-4874 EN PI_ PACKAGE LEAFLET.json | Doc txt :- '-If you have any further questions, ask your doctor\n",
      " or nurse.' | Qrd txt :- 'This leaflet was last revised in <{MM/YYYY}><{month YYYY}>.' | Matched :- 'False'CAP |  en | 3 | Adakveo-4874 EN PI_ PACKAGE LEAFLET.json | Doc txt :- '-If you have any further questions, ask your doctor\n",
      " listed in this leaflet. See section 4.' | Qrd txt :- 'Pregnancy <and> <,> breast-feeding <and fertility>' | Matched :- 'False'veo-4874 EN PI_ PACKAGE LEAFLET.json | Doc txt :- '-If you get any side effects, talk to your doctor\n",
      " listed in this leaflet. See section 4.' | Qrd txt :- 'This leaflet was last revised in <{MM/YYYY}><{month YYYY}>.' | Matched :- 'False'EN PI_ PACKAGE LEAFLET.json | Doc txt :- '-If you get any side effects, talk to your doctor\n",
      "2021-05-11 01:55:20,062 : Heading Extraction Adakveo-4874 EN PI_ PACKAGE LEAFLET.json : Match Passed | H | CAP |  en | 3 | Adakveo-4874 EN PI_ PACKAGE LEAFLET.json | Doc txt :- 'What is in this leaflet' | Qrd txt :- 'What is in this leaflet' | Matched :- 'True'\n",
      "2021-05-11 01:55:20,073 : Heading Extraction Adakveo-4874 EN PI_ PACKAGE LEAFLET.json : Validation Flow Is Broken | H | CAP |  en | 3 | Adakveo-4874 EN PI_ PACKAGE LEAFLET.json | currHeadId :- '23003' | currParentHeadId :- '23001.0' | prevParentHeadId :- '23001'\n",
      "2021-05-11 01:55:20,078 : Heading Extraction Adakveo-4874 EN PI_ PACKAGE LEAFLET.json : Validation Passed | H | CAP |  en | 3 | Adakveo-4874 EN PI_ PACKAGE LEAFLET.json | currHeadId :- '23003' | currParentHeadId :- '23001.0' | prevParentHeadId :- '23001'\n",
      " is and what it is used for' | Qrd txt :- '1. What Adakveo is and what it is used for' | Matched :- 'True' CAP |  en | 3 | Adakveo-4874 EN PI_ PACKAGE LEAFLET.json | Doc txt :- '1.       What Adakveo\n",
      "2021-05-11 01:55:20,122 : Heading Extraction Adakveo-4874 EN PI_ PACKAGE LEAFLET.json : Validation Passed | H | CAP |  en | 3 | Adakveo-4874 EN PI_ PACKAGE LEAFLET.json | currHeadId :- '23004' | currParentHeadId :- '23001.0' | prevParentHeadId :- '23003'\n",
      "2021-05-11 01:55:20,132 : Heading Extraction Adakveo-4874 EN PI_ PACKAGE LEAFLET.json : Validation Failed By Style | H | CAP |  en | 3 | Adakveo-4874 EN PI_ PACKAGE LEAFLET.json | currHeadId :- '23004' | currParentHeadId :- '23001.0' | prevParentHeadId :- '23003'\n",
      " is and what it is used for' | Qrd txt :- 'Pregnancy <and> <,> breast-feeding <and fertility>' | Matched :- 'False'n | 3 | Adakveo-4874 EN PI_ PACKAGE LEAFLET.json | Doc txt :- '1.       What Adakveo\n"
     ]
    },
    {
     "name": "stdout",
     "output_type": "stream",
     "text": [
      "b'What is in this leaflet'  |===|  b'What is in this leaflet'\n",
      "True  ||    ||  b'What is in this leaflet'  ||  b'What is in this leaflet'\n",
      "b'1.       What Adakveo\\r is and what it is used for'  |===|  b'1. What Adakveo is and what it is used for'\n",
      "----------------------------------\n",
      "RemovedByStyle  ||    ||  b'1.       What Adakveo\\r is and what it is used for'  ||  b'1. What Adakveo is and what it is used for'\n",
      "----------------------------------\n"
     ]
    },
    {
     "name": "stderr",
     "output_type": "stream",
     "text": [
      " is and what it is used for' | Qrd txt :- 'This leaflet was last revised in <{MM/YYYY}><{month YYYY}>.' | Matched :- 'False'dakveo-4874 EN PI_ PACKAGE LEAFLET.json | Doc txt :- '1.       What Adakveo\n",
      " you need to know before you are given Adakveo' | Qrd txt :- '2. What you need to know before you <take> <use> Adakveo ' | Matched :- 'True'I_ PACKAGE LEAFLET.json | Doc txt :- '2.       What\n",
      "2021-05-11 01:55:20,429 : Heading Extraction Adakveo-4874 EN PI_ PACKAGE LEAFLET.json : Validation Flow Is Broken | H | CAP |  en | 3 | Adakveo-4874 EN PI_ PACKAGE LEAFLET.json | currHeadId :- '23005' | currParentHeadId :- '23001.0' | prevParentHeadId :- '23003'\n",
      "2021-05-11 01:55:20,437 : Heading Extraction Adakveo-4874 EN PI_ PACKAGE LEAFLET.json : Validation Passed | H | CAP |  en | 3 | Adakveo-4874 EN PI_ PACKAGE LEAFLET.json | currHeadId :- '23005' | currParentHeadId :- '23001.0' | prevParentHeadId :- '23003'\n",
      "2021-05-11 01:55:20,446 : Heading Extraction Adakveo-4874 EN PI_ PACKAGE LEAFLET.json : Validation Failed By Style | H | CAP |  en | 3 | Adakveo-4874 EN PI_ PACKAGE LEAFLET.json | currHeadId :- '23005' | currParentHeadId :- '23001.0' | prevParentHeadId :- '23003'\n",
      " you need to know before you are given Adakveo' | Qrd txt :- 'Pregnancy <and> <,> breast-feeding <and fertility>' | Matched :- 'False'4 EN PI_ PACKAGE LEAFLET.json | Doc txt :- '2.       What\n"
     ]
    },
    {
     "name": "stdout",
     "output_type": "stream",
     "text": [
      "b'2.       What\\r you need to know before you are given Adakveo'  |===|  b'2. What you need to know before you <take> <use> Adakveo '\n",
      "----------------------------------\n",
      "RemovedByStyle  ||  Contains<>|15.09|(88, 85, 88)|0.97|  ||  b'2.       What\\r you need to know before you are given Adakveo'  ||  b'2. What you need to know before you <take> <use> Adakveo '\n",
      "----------------------------------\n"
     ]
    },
    {
     "name": "stderr",
     "output_type": "stream",
     "text": [
      " you need to know before you are given Adakveo' | Qrd txt :- 'This leaflet was last revised in <{MM/YYYY}><{month YYYY}>.' | Matched :- 'False'PACKAGE LEAFLET.json | Doc txt :- '2.       What\n",
      " is given' | Qrd txt :- 'Pregnancy <and> <,> breast-feeding <and fertility>' | Matched :- 'False'led | H | CAP |  en | 3 | Adakveo-4874 EN PI_ PACKAGE LEAFLET.json | Doc txt :- '3.       How Adakveo\n",
      " is given' | Qrd txt :- 'This leaflet was last revised in <{MM/YYYY}><{month YYYY}>.' | Matched :- 'False' CAP |  en | 3 | Adakveo-4874 EN PI_ PACKAGE LEAFLET.json | Doc txt :- '3.       How Adakveo\n",
      " side effects' | Qrd txt :- 'Pregnancy <and> <,> breast-feeding <and fertility>' | Matched :- 'False'| H | CAP |  en | 3 | Adakveo-4874 EN PI_ PACKAGE LEAFLET.json | Doc txt :- '4.       Possible\n",
      " side effects' | Qrd txt :- '4. Possible side effects' | Matched :- 'True'EAFLET.json : Match Passed | H | CAP |  en | 3 | Adakveo-4874 EN PI_ PACKAGE LEAFLET.json | Doc txt :- '4.       Possible\n",
      "2021-05-11 01:55:20,981 : Heading Extraction Adakveo-4874 EN PI_ PACKAGE LEAFLET.json : Validation Flow Is Broken | H | CAP |  en | 3 | Adakveo-4874 EN PI_ PACKAGE LEAFLET.json | currHeadId :- '23019' | currParentHeadId :- '23001.0' | prevParentHeadId :- '23003'\n",
      "2021-05-11 01:55:20,987 : Heading Extraction Adakveo-4874 EN PI_ PACKAGE LEAFLET.json : Validation Passed | H | CAP |  en | 3 | Adakveo-4874 EN PI_ PACKAGE LEAFLET.json | currHeadId :- '23019' | currParentHeadId :- '23001.0' | prevParentHeadId :- '23003'\n",
      "2021-05-11 01:55:20,997 : Heading Extraction Adakveo-4874 EN PI_ PACKAGE LEAFLET.json : Validation Failed By Style | H | CAP |  en | 3 | Adakveo-4874 EN PI_ PACKAGE LEAFLET.json | currHeadId :- '23019' | currParentHeadId :- '23001.0' | prevParentHeadId :- '23003'\n",
      " side effects' | Qrd txt :- 'This leaflet was last revised in <{MM/YYYY}><{month YYYY}>.' | Matched :- 'False' |  en | 3 | Adakveo-4874 EN PI_ PACKAGE LEAFLET.json | Doc txt :- '4.       Possible\n",
      " store Adakveo' | Qrd txt :- 'Pregnancy <and> <,> breast-feeding <and fertility>' | Matched :- 'False' H | CAP |  en | 3 | Adakveo-4874 EN PI_ PACKAGE LEAFLET.json | Doc txt :- '5.       How to\n",
      " store Adakveo' | Qrd txt :- '3. How to <take> <use> Adakveo ' | Matched :- 'False'on : Match Failed | H | CAP |  en | 3 | Adakveo-4874 EN PI_ PACKAGE LEAFLET.json | Doc txt :- '5.       How to\n"
     ]
    },
    {
     "name": "stdout",
     "output_type": "stream",
     "text": [
      "b'4.       Possible\\r side effects'  |===|  b'4. Possible side effects'\n",
      "----------------------------------\n",
      "RemovedByStyle  ||    ||  b'4.       Possible\\r side effects'  ||  b'4. Possible side effects'\n",
      "----------------------------------\n"
     ]
    },
    {
     "name": "stderr",
     "output_type": "stream",
     "text": [
      " store Adakveo' | Qrd txt :- '5. How to store Adakveo' | Matched :- 'True'EAFLET.json : Match Passed | H | CAP |  en | 3 | Adakveo-4874 EN PI_ PACKAGE LEAFLET.json | Doc txt :- '5.       How to\n",
      "2021-05-11 01:55:21,194 : Heading Extraction Adakveo-4874 EN PI_ PACKAGE LEAFLET.json : Validation Flow Is Broken | H | CAP |  en | 3 | Adakveo-4874 EN PI_ PACKAGE LEAFLET.json | currHeadId :- '23022' | currParentHeadId :- '23001.0' | prevParentHeadId :- '23003'\n",
      "2021-05-11 01:55:21,199 : Heading Extraction Adakveo-4874 EN PI_ PACKAGE LEAFLET.json : Validation Passed | H | CAP |  en | 3 | Adakveo-4874 EN PI_ PACKAGE LEAFLET.json | currHeadId :- '23022' | currParentHeadId :- '23001.0' | prevParentHeadId :- '23003'\n",
      "2021-05-11 01:55:21,207 : Heading Extraction Adakveo-4874 EN PI_ PACKAGE LEAFLET.json : Validation Failed By Style | H | CAP |  en | 3 | Adakveo-4874 EN PI_ PACKAGE LEAFLET.json | currHeadId :- '23022' | currParentHeadId :- '23001.0' | prevParentHeadId :- '23003'\n",
      " store Adakveo' | Qrd txt :- 'This leaflet was last revised in <{MM/YYYY}><{month YYYY}>.' | Matched :- 'False'|  en | 3 | Adakveo-4874 EN PI_ PACKAGE LEAFLET.json | Doc txt :- '5.       How to\n",
      " of the pack and other information' | Qrd txt :- 'Pregnancy <and> <,> breast-feeding <and fertility>' | Matched :- 'False' Adakveo-4874 EN PI_ PACKAGE LEAFLET.json | Doc txt :- '6.       Contents\n"
     ]
    },
    {
     "name": "stdout",
     "output_type": "stream",
     "text": [
      "b'5.       How to\\r store Adakveo'  |===|  b'5. How to store Adakveo'\n",
      "----------------------------------\n",
      "RemovedByStyle  ||    ||  b'5.       How to\\r store Adakveo'  ||  b'5. How to store Adakveo'\n",
      "----------------------------------\n"
     ]
    },
    {
     "name": "stderr",
     "output_type": "stream",
     "text": [
      " of the pack and other information' | Qrd txt :- '6. Contents of the pack and other information' | Matched :- 'True' | 3 | Adakveo-4874 EN PI_ PACKAGE LEAFLET.json | Doc txt :- '6.       Contents\n",
      "2021-05-11 01:55:21,464 : Heading Extraction Adakveo-4874 EN PI_ PACKAGE LEAFLET.json : Validation Flow Is Broken | H | CAP |  en | 3 | Adakveo-4874 EN PI_ PACKAGE LEAFLET.json | currHeadId :- '23023' | currParentHeadId :- '23001.0' | prevParentHeadId :- '23003'\n",
      "2021-05-11 01:55:21,471 : Heading Extraction Adakveo-4874 EN PI_ PACKAGE LEAFLET.json : Validation Passed | H | CAP |  en | 3 | Adakveo-4874 EN PI_ PACKAGE LEAFLET.json | currHeadId :- '23023' | currParentHeadId :- '23001.0' | prevParentHeadId :- '23003'\n",
      "2021-05-11 01:55:21,481 : Heading Extraction Adakveo-4874 EN PI_ PACKAGE LEAFLET.json : Validation Failed By Style | H | CAP |  en | 3 | Adakveo-4874 EN PI_ PACKAGE LEAFLET.json | currHeadId :- '23023' | currParentHeadId :- '23001.0' | prevParentHeadId :- '23003'\n",
      " of the pack and other information' | Qrd txt :- 'This leaflet was last revised in <{MM/YYYY}><{month YYYY}>.' | Matched :- 'False'4874 EN PI_ PACKAGE LEAFLET.json | Doc txt :- '6.       Contents\n",
      "2021-05-11 01:55:21,603 : Heading Extraction Adakveo-4874 EN PI_ PACKAGE LEAFLET.json : Match Passed | H | CAP |  en | 3 | Adakveo-4874 EN PI_ PACKAGE LEAFLET.json | Doc txt :- '1.       What Adakveo is and what it is used for' | Qrd txt :- '1. What Adakveo is and what it is used for' | Matched :- 'True'\n",
      "2021-05-11 01:55:21,614 : Heading Extraction Adakveo-4874 EN PI_ PACKAGE LEAFLET.json : Validation Passed | H | CAP |  en | 3 | Adakveo-4874 EN PI_ PACKAGE LEAFLET.json | currHeadId :- '23004' | currParentHeadId :- '23001.0' | prevParentHeadId :- '23003'\n"
     ]
    },
    {
     "name": "stdout",
     "output_type": "stream",
     "text": [
      "b'6.       Contents\\r of the pack and other information'  |===|  b'6. Contents of the pack and other information'\n",
      "----------------------------------\n",
      "RemovedByStyle  ||    ||  b'6.       Contents\\r of the pack and other information'  ||  b'6. Contents of the pack and other information'\n",
      "----------------------------------\n",
      "b'1.       What Adakveo is and what it is used for'  |===|  b'1. What Adakveo is and what it is used for'\n",
      "True  ||    ||  b'1.       What Adakveo is and what it is used for'  ||  b'1. What Adakveo is and what it is used for'\n",
      "\n",
      "OriginalCheck\n",
      "('>7|180.0|(53, 100, 90)|0.65|', 'What Adakveo is', '1. What Adakveo is and what it is used for')\n"
     ]
    },
    {
     "name": "stderr",
     "output_type": "stream",
     "text": [
      "2021-05-11 01:55:21,645 : Heading Extraction Adakveo-4874 EN PI_ PACKAGE LEAFLET.json : Match Failed In Lowercase | H | CAP |  en | 3 | Adakveo-4874 EN PI_ PACKAGE LEAFLET.json | Doc txt :- 'What Adakveo is' | Qrd txt :- '1. What Adakveo is and what it is used for' | Matched :- 'False'\n",
      "2021-05-11 01:55:21,689 : Heading Extraction Adakveo-4874 EN PI_ PACKAGE LEAFLET.json : Match Failed | H | CAP |  en | 3 | Adakveo-4874 EN PI_ PACKAGE LEAFLET.json | Doc txt :- 'What Adakveo is' | Qrd txt :- 'Pregnancy <and> <,> breast-feeding <and fertility>' | Matched :- 'False'\n",
      "2021-05-11 01:55:21,765 : Heading Extraction Adakveo-4874 EN PI_ PACKAGE LEAFLET.json : Match Failed | H | CAP |  en | 3 | Adakveo-4874 EN PI_ PACKAGE LEAFLET.json | Doc txt :- 'What Adakveo is' | Qrd txt :- 'This leaflet was last revised in <{MM/YYYY}><{month YYYY}>.' | Matched :- 'False'\n"
     ]
    },
    {
     "name": "stdout",
     "output_type": "stream",
     "text": [
      "\n"
     ]
    },
    {
     "name": "stderr",
     "output_type": "stream",
     "text": [
      " called monoclonal antibodies (mAbs).' | Qrd txt :- 'Pregnancy <and> <,> breast-feeding <and fertility>' | Matched :- 'False'akveo-4874 EN PI_ PACKAGE LEAFLET.json | Doc txt :- 'Adakveo contains\n",
      " called monoclonal antibodies (mAbs).' | Qrd txt :- 'Adakveo contains {name the excipient(s)}' | Matched :- 'True'en | 3 | Adakveo-4874 EN PI_ PACKAGE LEAFLET.json | Doc txt :- 'Adakveo contains\n",
      "2021-05-11 01:55:22,183 : Heading Extraction Adakveo-4874 EN PI_ PACKAGE LEAFLET.json : Validation Flow Is Broken | H | CAP |  en | 3 | Adakveo-4874 EN PI_ PACKAGE LEAFLET.json | currHeadId :- '23013' | currParentHeadId :- '23005.0' | prevParentHeadId :- '23004'\n",
      "2021-05-11 01:55:22,190 : Heading Extraction Adakveo-4874 EN PI_ PACKAGE LEAFLET.json : Validation Passed | H | CAP |  en | 3 | Adakveo-4874 EN PI_ PACKAGE LEAFLET.json | currHeadId :- '23013' | currParentHeadId :- '23005.0' | prevParentHeadId :- '23004'\n",
      "2021-05-11 01:55:22,200 : Heading Extraction Adakveo-4874 EN PI_ PACKAGE LEAFLET.json : Validation Failed By Style | H | CAP |  en | 3 | Adakveo-4874 EN PI_ PACKAGE LEAFLET.json | currHeadId :- '23013' | currParentHeadId :- '23005.0' | prevParentHeadId :- '23004'\n"
     ]
    },
    {
     "name": "stdout",
     "output_type": "stream",
     "text": [
      "b'Adakveo contains\\r the active substance crizanlizumab, which belongs to a group of medicines\\r called monoclonal antibodies (mAbs).'  |===|  b'Adakveo contains {name the excipient(s)}'\n",
      "----------------------------------\n",
      "RemovedByStyle  ||  <=4|0.0|(100, 100, 100)|1.0|  ||  b'Adakveo contains\\r the active substance crizanlizumab, which belongs to a group of medicines\\r called monoclonal antibodies (mAbs).'  ||  b'Adakveo contains {name the excipient(s)}'\n",
      "----------------------------------\n"
     ]
    },
    {
     "name": "stderr",
     "output_type": "stream",
     "text": [
      " called monoclonal antibodies (mAbs).' | Qrd txt :- 'This leaflet was last revised in <{MM/YYYY}><{month YYYY}>.' | Matched :- 'False'4 EN PI_ PACKAGE LEAFLET.json | Doc txt :- 'Adakveo contains\n",
      "2021-05-11 01:55:22,635 : Heading Extraction Adakveo-4874 EN PI_ PACKAGE LEAFLET.json : Match Failed | H | CAP |  en | 3 | Adakveo-4874 EN PI_ PACKAGE LEAFLET.json | Doc txt :- 'What Adakveois used for' | Qrd txt :- 'Pregnancy <and> <,> breast-feeding <and fertility>' | Matched :- 'False'\n",
      "2021-05-11 01:55:22,717 : Heading Extraction Adakveo-4874 EN PI_ PACKAGE LEAFLET.json : Match Failed | H | CAP |  en | 3 | Adakveo-4874 EN PI_ PACKAGE LEAFLET.json | Doc txt :- 'What Adakveois used for' | Qrd txt :- 'This leaflet was last revised in <{MM/YYYY}><{month YYYY}>.' | Matched :- 'False'\n",
      " hydroxyurea/hydroxycarbamide, although it may also be used alone.' | Qrd txt :- 'Pregnancy <and> <,> breast-feeding <and fertility>' | Matched :- 'False'FLET.json | Doc txt :- 'Adakveo is used to prevent recurrent\n",
      " hydroxyurea/hydroxycarbamide, although it may also be used alone.' | Qrd txt :- 'This leaflet was last revised in <{MM/YYYY}><{month YYYY}>.' | Matched :- 'False' | Doc txt :- 'Adakveo is used to prevent recurrent\n",
      " works' | Qrd txt :- 'Pregnancy <and> <,> breast-feeding <and fertility>' | Matched :- 'False'Failed | H | CAP |  en | 3 | Adakveo-4874 EN PI_ PACKAGE LEAFLET.json | Doc txt :- 'How Adakveo\n",
      " works' | Qrd txt :- 'This leaflet was last revised in <{MM/YYYY}><{month YYYY}>.' | Matched :- 'False'H | CAP |  en | 3 | Adakveo-4874 EN PI_ PACKAGE LEAFLET.json | Doc txt :- 'How Adakveo\n",
      " painful crises.' | Qrd txt :- 'Pregnancy <and> <,> breast-feeding <and fertility>' | Matched :- 'False' | CAP |  en | 3 | Adakveo-4874 EN PI_ PACKAGE LEAFLET.json | Doc txt :- 'Patients with sickle cell disease\n",
      " painful crises.' | Qrd txt :- 'This leaflet was last revised in <{MM/YYYY}><{month YYYY}>.' | Matched :- 'False' en | 3 | Adakveo-4874 EN PI_ PACKAGE LEAFLET.json | Doc txt :- 'Patients with sickle cell disease\n",
      " how Adakveo works or why this medicine has been prescribed for you, ask your doctor or nurse.' | Qrd txt :- 'Pregnancy <and> <,> breast-feeding <and fertility>' | Matched :- 'False'ou have any questions about\n",
      " how Adakveo works or why this medicine has been prescribed for you, ask your doctor or nurse.' | Qrd txt :- 'This leaflet was last revised in <{MM/YYYY}><{month YYYY}>.' | Matched :- 'False'ny questions about\n",
      "2021-05-11 01:55:24,795 : Heading Extraction Adakveo-4874 EN PI_ PACKAGE LEAFLET.json : Match Passed | H | CAP |  en | 3 | Adakveo-4874 EN PI_ PACKAGE LEAFLET.json | Doc txt :- '2.       What you need to know before you are given Adakveo' | Qrd txt :- '2. What you need to know before you <take> <use> Adakveo ' | Matched :- 'True'\n",
      "2021-05-11 01:55:24,804 : Heading Extraction Adakveo-4874 EN PI_ PACKAGE LEAFLET.json : Validation Passed | H | CAP |  en | 3 | Adakveo-4874 EN PI_ PACKAGE LEAFLET.json | currHeadId :- '23005' | currParentHeadId :- '23001.0' | prevParentHeadId :- '23004'\n",
      "2021-05-11 01:55:24,871 : Heading Extraction Adakveo-4874 EN PI_ PACKAGE LEAFLET.json : Match Failed | H | CAP |  en | 3 | Adakveo-4874 EN PI_ PACKAGE LEAFLET.json | Doc txt :- 'You must not be given Adakveo:' | Qrd txt :- 'Pregnancy <and> <,> breast-feeding <and fertility>' | Matched :- 'False'\n",
      "2021-05-11 01:55:24,971 : Heading Extraction Adakveo-4874 EN PI_ PACKAGE LEAFLET.json : Match Failed | H | CAP |  en | 3 | Adakveo-4874 EN PI_ PACKAGE LEAFLET.json | Doc txt :- 'You must not be given Adakveo:' | Qrd txt :- 'This leaflet was last revised in <{MM/YYYY}><{month YYYY}>.' | Matched :- 'False'\n"
     ]
    },
    {
     "name": "stdout",
     "output_type": "stream",
     "text": [
      "b'2.       What you need to know before you are given Adakveo'  |===|  b'2. What you need to know before you <take> <use> Adakveo '\n",
      "True  ||  Contains<>|15.09|(88, 85, 88)|0.97|  ||  b'2.       What you need to know before you are given Adakveo'  ||  b'2. What you need to know before you <take> <use> Adakveo '\n"
     ]
    },
    {
     "name": "stderr",
     "output_type": "stream",
     "text": [
      " of the other ingredients of this medicine (listed in section 6).' | Qrd txt :- 'Pregnancy <and> <,> breast-feeding <and fertility>' | Matched :- 'False'AFLET.json | Doc txt :- '-        if you are allergic to crizanlizumab or any\n",
      " of the other ingredients of this medicine (listed in section 6).' | Qrd txt :- 'This leaflet was last revised in <{MM/YYYY}><{month YYYY}>.' | Matched :- 'False'n | Doc txt :- '-        if you are allergic to crizanlizumab or any\n",
      "2021-05-11 01:55:25,508 : Heading Extraction Adakveo-4874 EN PI_ PACKAGE LEAFLET.json : Match Passed | H | CAP |  en | 3 | Adakveo-4874 EN PI_ PACKAGE LEAFLET.json | Doc txt :- 'Warnings and precautions' | Qrd txt :- 'Warnings and precautions ' | Matched :- 'True'\n",
      "2021-05-11 01:55:25,521 : Heading Extraction Adakveo-4874 EN PI_ PACKAGE LEAFLET.json : Validation Flow Is Broken | H | CAP |  en | 3 | Adakveo-4874 EN PI_ PACKAGE LEAFLET.json | currHeadId :- '23007' | currParentHeadId :- '23005.0' | prevParentHeadId :- '23005'\n",
      "2021-05-11 01:55:25,526 : Heading Extraction Adakveo-4874 EN PI_ PACKAGE LEAFLET.json : Validation Passed | H | CAP |  en | 3 | Adakveo-4874 EN PI_ PACKAGE LEAFLET.json | currHeadId :- '23007' | currParentHeadId :- '23005.0' | prevParentHeadId :- '23005'\n",
      "2021-05-11 01:55:25,576 : Heading Extraction Adakveo-4874 EN PI_ PACKAGE LEAFLET.json : Match Failed | H | CAP |  en | 3 | Adakveo-4874 EN PI_ PACKAGE LEAFLET.json | Doc txt :- 'Infusion reactions' | Qrd txt :- 'Pregnancy <and> <,> breast-feeding <and fertility>' | Matched :- 'False'\n",
      "2021-05-11 01:55:25,641 : Heading Extraction Adakveo-4874 EN PI_ PACKAGE LEAFLET.json : Match Failed | H | CAP |  en | 3 | Adakveo-4874 EN PI_ PACKAGE LEAFLET.json | Doc txt :- 'Infusion reactions' | Qrd txt :- 'This leaflet was last revised in <{MM/YYYY}><{month YYYY}>.' | Matched :- 'False'\n"
     ]
    },
    {
     "name": "stdout",
     "output_type": "stream",
     "text": [
      "b'Warnings and precautions'  |===|  b'Warnings and precautions '\n",
      "True  ||    ||  b'Warnings and precautions'  ||  b'Warnings and precautions '\n"
     ]
    },
    {
     "name": "stderr",
     "output_type": "stream",
     "text": [
      " you experience any of the following, which may be signs of an infusion reaction:' | Qrd txt :- 'Pregnancy <and> <,> breast-feeding <and fertility>' | Matched :- 'False' txt :- 'Tell your doctor or nurse immediately if\n",
      " you experience any of the following, which may be signs of an infusion reaction:' | Qrd txt :- 'This leaflet was last revised in <{MM/YYYY}><{month YYYY}>.' | Matched :- 'False'Tell your doctor or nurse immediately if\n",
      " side effects”.' | Qrd txt :- 'Pregnancy <and> <,> breast-feeding <and fertility>' | Matched :- 'False'H | CAP |  en | 3 | Adakveo-4874 EN PI_ PACKAGE LEAFLET.json | Doc txt :- '-Fever, chills, shivering, nausea, vomiting,\n",
      " side effects”.' | Qrd txt :- 'This leaflet was last revised in <{MM/YYYY}><{month YYYY}>.' | Matched :- 'False'  en | 3 | Adakveo-4874 EN PI_ PACKAGE LEAFLET.json | Doc txt :- '-Fever, chills, shivering, nausea, vomiting,\n",
      " nurse may monitor you for signs and symptoms of such infusion reactions.' | Qrd txt :- 'Pregnancy <and> <,> breast-feeding <and fertility>' | Matched :- 'False'on | Doc txt :- 'Your doctor or\n",
      " nurse may monitor you for signs and symptoms of such infusion reactions.' | Qrd txt :- 'This leaflet was last revised in <{MM/YYYY}><{month YYYY}>.' | Matched :- 'False'txt :- 'Your doctor or\n",
      "2021-05-11 01:55:27,466 : Heading Extraction Adakveo-4874 EN PI_ PACKAGE LEAFLET.json : Match Failed | H | CAP |  en | 3 | Adakveo-4874 EN PI_ PACKAGE LEAFLET.json | Doc txt :- 'Blood tests during Adakveo treatment' | Qrd txt :- 'Pregnancy <and> <,> breast-feeding <and fertility>' | Matched :- 'False'\n",
      "2021-05-11 01:55:27,561 : Heading Extraction Adakveo-4874 EN PI_ PACKAGE LEAFLET.json : Match Failed | H | CAP |  en | 3 | Adakveo-4874 EN PI_ PACKAGE LEAFLET.json | Doc txt :- 'Blood tests during Adakveo treatment' | Qrd txt :- 'This leaflet was last revised in <{MM/YYYY}><{month YYYY}>.' | Matched :- 'False'\n",
      " used to measure the number of platelets in your blood.' | Qrd txt :- 'Pregnancy <and> <,> breast-feeding <and fertility>' | Matched :- 'False'PACKAGE LEAFLET.json | Doc txt :- 'If you need to\n",
      " used to measure the number of platelets in your blood.' | Qrd txt :- 'This leaflet was last revised in <{MM/YYYY}><{month YYYY}>.' | Matched :- 'False'EAFLET.json | Doc txt :- 'If you need to\n",
      "2021-05-11 01:55:28,380 : Heading Extraction Adakveo-4874 EN PI_ PACKAGE LEAFLET.json : Match Passed | H | CAP |  en | 3 | Adakveo-4874 EN PI_ PACKAGE LEAFLET.json | Doc txt :- 'Children and adolescents' | Qrd txt :- 'Children <and adolescents>' | Matched :- 'True'\n",
      "2021-05-11 01:55:28,390 : Heading Extraction Adakveo-4874 EN PI_ PACKAGE LEAFLET.json : Validation Passed | H | CAP |  en | 3 | Adakveo-4874 EN PI_ PACKAGE LEAFLET.json | currHeadId :- '23008' | currParentHeadId :- '23005.0' | prevParentHeadId :- '23007'\n",
      " not be used in children or adolescents below 16 years of age.' | Qrd txt :- 'Pregnancy <and> <,> breast-feeding <and fertility>' | Matched :- 'False' LEAFLET.json | Doc txt :- 'Adakveo should\n"
     ]
    },
    {
     "name": "stdout",
     "output_type": "stream",
     "text": [
      "b'Children and adolescents'  |===|  b'Children <and adolescents>'\n",
      "True  ||  Contains<>|8.33|(96, 96, 98)|0.99|  ||  b'Children and adolescents'  ||  b'Children <and adolescents>'\n"
     ]
    },
    {
     "name": "stderr",
     "output_type": "stream",
     "text": [
      " not be used in children or adolescents below 16 years of age.' | Qrd txt :- 'This leaflet was last revised in <{MM/YYYY}><{month YYYY}>.' | Matched :- 'False'json | Doc txt :- 'Adakveo should\n",
      "2021-05-11 01:55:28,924 : Heading Extraction Adakveo-4874 EN PI_ PACKAGE LEAFLET.json : Match Passed | H | CAP |  en | 3 | Adakveo-4874 EN PI_ PACKAGE LEAFLET.json | Doc txt :- 'Other medicines and Adakveo' | Qrd txt :- 'Other medicines and Adakveo' | Matched :- 'True'\n",
      "2021-05-11 01:55:28,935 : Heading Extraction Adakveo-4874 EN PI_ PACKAGE LEAFLET.json : Validation Passed | H | CAP |  en | 3 | Adakveo-4874 EN PI_ PACKAGE LEAFLET.json | currHeadId :- '23009' | currParentHeadId :- '23005.0' | prevParentHeadId :- '23008'\n"
     ]
    },
    {
     "name": "stdout",
     "output_type": "stream",
     "text": [
      "b'Other medicines and Adakveo'  |===|  b'Other medicines and Adakveo'\n",
      "True  ||    ||  b'Other medicines and Adakveo'  ||  b'Other medicines and Adakveo'\n"
     ]
    },
    {
     "name": "stderr",
     "output_type": "stream",
     "text": [
      " medicines.' | Qrd txt :- 'Pregnancy <and> <,> breast-feeding <and fertility>' | Matched :- 'False'd | H | CAP |  en | 3 | Adakveo-4874 EN PI_ PACKAGE LEAFLET.json | Doc txt :- 'Tell your doctor\n",
      " medicines.' | Qrd txt :- 'This leaflet was last revised in <{MM/YYYY}><{month YYYY}>.' | Matched :- 'False'AP |  en | 3 | Adakveo-4874 EN PI_ PACKAGE LEAFLET.json | Doc txt :- 'Tell your doctor\n",
      "2021-05-11 01:55:29,666 : Heading Extraction Adakveo-4874 EN PI_ PACKAGE LEAFLET.json : Match Passed | H | CAP |  en | 3 | Adakveo-4874 EN PI_ PACKAGE LEAFLET.json | Doc txt :- 'Pregnancy and breast‑feeding' | Qrd txt :- 'Pregnancy <and> <,> breast-feeding <and fertility>' | Matched :- 'True'\n",
      "2021-05-11 01:55:29,682 : Heading Extraction Adakveo-4874 EN PI_ PACKAGE LEAFLET.json : Validation Flow Is Broken | H | CAP |  en | 3 | Adakveo-4874 EN PI_ PACKAGE LEAFLET.json | currHeadId :- '23011' | currParentHeadId :- '23005.0' | prevParentHeadId :- '23009'\n",
      "2021-05-11 01:55:29,690 : Heading Extraction Adakveo-4874 EN PI_ PACKAGE LEAFLET.json : Validation Passed | H | CAP |  en | 3 | Adakveo-4874 EN PI_ PACKAGE LEAFLET.json | currHeadId :- '23011' | currParentHeadId :- '23005.0' | prevParentHeadId :- '23009'\n"
     ]
    },
    {
     "name": "stdout",
     "output_type": "stream",
     "text": [
      "b'Pregnancy and breast\\xe2\\x80\\x91feeding'  |===|  b'Pregnancy <and> <,> breast-feeding <and fertility>'\n",
      "True  ||  SpecialCase3|82.14|(69, 75, 86)|0.93|  ||  b'Pregnancy and breast\\xe2\\x80\\x91feeding'  ||  b'Pregnancy <and> <,> breast-feeding <and fertility>'\n"
     ]
    },
    {
     "name": "stderr",
     "output_type": "stream",
     "text": [
      " safety in pregnant women.' | Qrd txt :- 'Pregnancy <and> <,> breast-feeding <and fertility>' | Matched :- 'False'en | 3 | Adakveo-4874 EN PI_ PACKAGE LEAFLET.json | Doc txt :- 'Adakveo has\n",
      " safety in pregnant women.' | Qrd txt :- 'This leaflet was last revised in <{MM/YYYY}><{month YYYY}>.' | Matched :- 'False'Adakveo-4874 EN PI_ PACKAGE LEAFLET.json | Doc txt :- 'Adakveo has\n",
      " contraception, it is not recommended to use Adakveo.' | Qrd txt :- 'Pregnancy <and> <,> breast-feeding <and fertility>' | Matched :- 'False'_ PACKAGE LEAFLET.json | Doc txt :- 'If you are\n",
      " contraception, it is not recommended to use Adakveo.' | Qrd txt :- 'This leaflet was last revised in <{MM/YYYY}><{month YYYY}>.' | Matched :- 'False' LEAFLET.json | Doc txt :- 'If you are\n",
      " pass into breast milk.' | Qrd txt :- 'Pregnancy <and> <,> breast-feeding <and fertility>' | Matched :- 'False'|  en | 3 | Adakveo-4874 EN PI_ PACKAGE LEAFLET.json | Doc txt :- 'It is not\n",
      " pass into breast milk.' | Qrd txt :- 'This leaflet was last revised in <{MM/YYYY}><{month YYYY}>.' | Matched :- 'False' | Adakveo-4874 EN PI_ PACKAGE LEAFLET.json | Doc txt :- 'It is not\n",
      " pregnancy or breast‑feeding.' | Qrd txt :- 'Pregnancy <and> <,> breast-feeding <and fertility>' | Matched :- 'False'| 3 | Adakveo-4874 EN PI_ PACKAGE LEAFLET.json | Doc txt :- 'If you are\n",
      " pregnancy or breast‑feeding.' | Qrd txt :- 'This leaflet was last revised in <{MM/YYYY}><{month YYYY}>.' | Matched :- 'False'kveo-4874 EN PI_ PACKAGE LEAFLET.json | Doc txt :- 'If you are\n",
      "2021-05-11 01:55:32,672 : Heading Extraction Adakveo-4874 EN PI_ PACKAGE LEAFLET.json : Match Failed | H | CAP |  en | 3 | Adakveo-4874 EN PI_ PACKAGE LEAFLET.json | Doc txt :- 'Driving and using machines' | Qrd txt :- 'Pregnancy <and> <,> breast-feeding <and fertility>' | Matched :- 'False'\n",
      "2021-05-11 01:55:32,675 : Heading Extraction Adakveo-4874 EN PI_ PACKAGE LEAFLET.json : Match Passed | H | CAP |  en | 3 | Adakveo-4874 EN PI_ PACKAGE LEAFLET.json | Doc txt :- 'Driving and using machines' | Qrd txt :- 'Driving and using machines' | Matched :- 'True'\n",
      "2021-05-11 01:55:32,694 : Heading Extraction Adakveo-4874 EN PI_ PACKAGE LEAFLET.json : Validation Passed | H | CAP |  en | 3 | Adakveo-4874 EN PI_ PACKAGE LEAFLET.json | currHeadId :- '23012' | currParentHeadId :- '23005.0' | prevParentHeadId :- '23011'\n"
     ]
    },
    {
     "name": "stdout",
     "output_type": "stream",
     "text": [
      "b'Driving and using machines'  |===|  b'Driving and using machines'\n",
      "True  ||    ||  b'Driving and using machines'  ||  b'Driving and using machines'\n"
     ]
    },
    {
     "name": "stderr",
     "output_type": "stream",
     "text": [
      " use machines until you feel better.' | Qrd txt :- 'Pregnancy <and> <,> breast-feeding <and fertility>' | Matched :- 'False'dakveo-4874 EN PI_ PACKAGE LEAFLET.json | Doc txt :- 'Adakveo could have a minor effect on your ability to drive and use\n",
      " use machines until you feel better.' | Qrd txt :- 'This leaflet was last revised in <{MM/YYYY}><{month YYYY}>.' | Matched :- 'False'74 EN PI_ PACKAGE LEAFLET.json | Doc txt :- 'Adakveo could have a minor effect on your ability to drive and use\n",
      "2021-05-11 01:55:34,081 : Heading Extraction Adakveo-4874 EN PI_ PACKAGE LEAFLET.json : Match Failed | H | CAP |  en | 3 | Adakveo-4874 EN PI_ PACKAGE LEAFLET.json | Doc txt :- 'Adakveo contains sodium' | Qrd txt :- 'Pregnancy <and> <,> breast-feeding <and fertility>' | Matched :- 'False'\n",
      "2021-05-11 01:55:34,089 : Heading Extraction Adakveo-4874 EN PI_ PACKAGE LEAFLET.json : Match Passed | H | CAP |  en | 3 | Adakveo-4874 EN PI_ PACKAGE LEAFLET.json | Doc txt :- 'Adakveo contains sodium' | Qrd txt :- 'Adakveo contains {name the excipient(s)}' | Matched :- 'True'\n",
      "2021-05-11 01:55:34,105 : Heading Extraction Adakveo-4874 EN PI_ PACKAGE LEAFLET.json : Validation Passed | H | CAP |  en | 3 | Adakveo-4874 EN PI_ PACKAGE LEAFLET.json | currHeadId :- '23013' | currParentHeadId :- '23005.0' | prevParentHeadId :- '23012'\n"
     ]
    },
    {
     "name": "stdout",
     "output_type": "stream",
     "text": [
      "b'Adakveo contains sodium'  |===|  b'Adakveo contains {name the excipient(s)}'\n",
      "True  ||  <=4|0.0|(100, 100, 100)|1.0|  ||  b'Adakveo contains sodium'  ||  b'Adakveo contains {name the excipient(s)}'\n"
     ]
    },
    {
     "name": "stderr",
     "output_type": "stream",
     "text": [
      " 1 mmol sodium (23 mg) per vial, that is to say essentially “sodium‑free”.' | Qrd txt :- 'Pregnancy <and> <,> breast-feeding <and fertility>' | Matched :- 'False'n | Doc txt :- 'This medicine contains less than\n",
      " 1 mmol sodium (23 mg) per vial, that is to say essentially “sodium‑free”.' | Qrd txt :- 'This leaflet was last revised in <{MM/YYYY}><{month YYYY}>.' | Matched :- 'False'xt :- 'This medicine contains less than\n",
      "2021-05-11 01:55:34,936 : Heading Extraction Adakveo-4874 EN PI_ PACKAGE LEAFLET.json : Match Failed | H | CAP |  en | 3 | Adakveo-4874 EN PI_ PACKAGE LEAFLET.json | Doc txt :- '3.       How Adakveo is given' | Qrd txt :- 'Pregnancy <and> <,> breast-feeding <and fertility>' | Matched :- 'False'\n",
      "2021-05-11 01:55:35,041 : Heading Extraction Adakveo-4874 EN PI_ PACKAGE LEAFLET.json : Match Failed | H | CAP |  en | 3 | Adakveo-4874 EN PI_ PACKAGE LEAFLET.json | Doc txt :- '3.       How Adakveo is given' | Qrd txt :- 'This leaflet was last revised in <{MM/YYYY}><{month YYYY}>.' | Matched :- 'False'\n",
      "2021-05-11 01:55:35,160 : Heading Extraction Adakveo-4874 EN PI_ PACKAGE LEAFLET.json : Match Failed | H | CAP |  en | 3 | Adakveo-4874 EN PI_ PACKAGE LEAFLET.json | Doc txt :- 'Adakveo will be given to you by a doctor or nurse.' | Qrd txt :- 'Pregnancy <and> <,> breast-feeding <and fertility>' | Matched :- 'False'\n",
      "2021-05-11 01:55:35,320 : Heading Extraction Adakveo-4874 EN PI_ PACKAGE LEAFLET.json : Match Failed | H | CAP |  en | 3 | Adakveo-4874 EN PI_ PACKAGE LEAFLET.json | Doc txt :- 'Adakveo will be given to you by a doctor or nurse.' | Qrd txt :- 'This leaflet was last revised in <{MM/YYYY}><{month YYYY}>.' | Matched :- 'False'\n",
      " the infusion.' | Qrd txt :- 'Pregnancy <and> <,> breast-feeding <and fertility>' | Matched :- 'False' H | CAP |  en | 3 | Adakveo-4874 EN PI_ PACKAGE LEAFLET.json | Doc txt :- 'If you have any\n",
      " the infusion.' | Qrd txt :- 'This leaflet was last revised in <{MM/YYYY}><{month YYYY}>.' | Matched :- 'False'|  en | 3 | Adakveo-4874 EN PI_ PACKAGE LEAFLET.json | Doc txt :- 'If you have any\n",
      " tell you when you will have your infusions and follow‑up appointments.' | Qrd txt :- 'Pregnancy <and> <,> breast-feeding <and fertility>' | Matched :- 'False'json | Doc txt :- 'Your doctor will\n",
      " tell you when you will have your infusions and follow‑up appointments.' | Qrd txt :- 'This leaflet was last revised in <{MM/YYYY}><{month YYYY}>.' | Matched :- 'False'c txt :- 'Your doctor will\n",
      "2021-05-11 01:55:36,438 : Heading Extraction Adakveo-4874 EN PI_ PACKAGE LEAFLET.json : Match Failed | H | CAP |  en | 3 | Adakveo-4874 EN PI_ PACKAGE LEAFLET.json | Doc txt :- 'How much Adakveo you will be given' | Qrd txt :- 'Pregnancy <and> <,> breast-feeding <and fertility>' | Matched :- 'False'\n",
      "2021-05-11 01:55:36,533 : Heading Extraction Adakveo-4874 EN PI_ PACKAGE LEAFLET.json : Match Failed | H | CAP |  en | 3 | Adakveo-4874 EN PI_ PACKAGE LEAFLET.json | Doc txt :- 'How much Adakveo you will be given' | Qrd txt :- 'This leaflet was last revised in <{MM/YYYY}><{month YYYY}>.' | Matched :- 'False'\n",
      " that you will be given an infusion every 4 weeks.' | Qrd txt :- 'Pregnancy <and> <,> breast-feeding <and fertility>' | Matched :- 'False' PI_ PACKAGE LEAFLET.json | Doc txt :- 'The recommended\n",
      " that you will be given an infusion every 4 weeks.' | Qrd txt :- 'This leaflet was last revised in <{MM/YYYY}><{month YYYY}>.' | Matched :- 'False'AGE LEAFLET.json | Doc txt :- 'The recommended\n",
      "2021-05-11 01:55:37,256 : Heading Extraction Adakveo-4874 EN PI_ PACKAGE LEAFLET.json : Match Failed | H | CAP |  en | 3 | Adakveo-4874 EN PI_ PACKAGE LEAFLET.json | Doc txt :- 'How the infusion is given' | Qrd txt :- 'Pregnancy <and> <,> breast-feeding <and fertility>' | Matched :- 'False'\n",
      "2021-05-11 01:55:37,332 : Heading Extraction Adakveo-4874 EN PI_ PACKAGE LEAFLET.json : Match Failed | H | CAP |  en | 3 | Adakveo-4874 EN PI_ PACKAGE LEAFLET.json | Doc txt :- 'How the infusion is given' | Qrd txt :- 'This leaflet was last revised in <{MM/YYYY}><{month YYYY}>.' | Matched :- 'False'\n",
      " 30 minutes.' | Qrd txt :- 'Pregnancy <and> <,> breast-feeding <and fertility>' | Matched :- 'False' | H | CAP |  en | 3 | Adakveo-4874 EN PI_ PACKAGE LEAFLET.json | Doc txt :- 'Adakveo is\n",
      " 30 minutes.' | Qrd txt :- 'This leaflet was last revised in <{MM/YYYY}><{month YYYY}>.' | Matched :- 'False'P |  en | 3 | Adakveo-4874 EN PI_ PACKAGE LEAFLET.json | Doc txt :- 'Adakveo is\n",
      " alone or with hydroxyurea/hydroxycarbamide.' | Qrd txt :- 'Pregnancy <and> <,> breast-feeding <and fertility>' | Matched :- 'False'874 EN PI_ PACKAGE LEAFLET.json | Doc txt :- 'Adakveo can be given\n",
      " alone or with hydroxyurea/hydroxycarbamide.' | Qrd txt :- 'This leaflet was last revised in <{MM/YYYY}><{month YYYY}>.' | Matched :- 'False'_ PACKAGE LEAFLET.json | Doc txt :- 'Adakveo can be given\n",
      "2021-05-11 01:55:38,095 : Heading Extraction Adakveo-4874 EN PI_ PACKAGE LEAFLET.json : Match Failed | H | CAP |  en | 3 | Adakveo-4874 EN PI_ PACKAGE LEAFLET.json | Doc txt :- 'How long Adakveo treatment lasts' | Qrd txt :- 'Pregnancy <and> <,> breast-feeding <and fertility>' | Matched :- 'False'\n",
      "2021-05-11 01:55:38,192 : Heading Extraction Adakveo-4874 EN PI_ PACKAGE LEAFLET.json : Match Failed | H | CAP |  en | 3 | Adakveo-4874 EN PI_ PACKAGE LEAFLET.json | Doc txt :- 'How long Adakveo treatment lasts' | Qrd txt :- 'This leaflet was last revised in <{MM/YYYY}><{month YYYY}>.' | Matched :- 'False'\n",
      " desired effect.' | Qrd txt :- 'Pregnancy <and> <,> breast-feeding <and fertility>' | Matched :- 'False' | CAP |  en | 3 | Adakveo-4874 EN PI_ PACKAGE LEAFLET.json | Doc txt :- 'You should\n",
      " desired effect.' | Qrd txt :- 'This leaflet was last revised in <{MM/YYYY}><{month YYYY}>.' | Matched :- 'False' en | 3 | Adakveo-4874 EN PI_ PACKAGE LEAFLET.json | Doc txt :- 'You should\n",
      "2021-05-11 01:55:39,068 : Heading Extraction Adakveo-4874 EN PI_ PACKAGE LEAFLET.json : Match Failed | H | CAP |  en | 3 | Adakveo-4874 EN PI_ PACKAGE LEAFLET.json | Doc txt :- 'If you forget a Adakveo infusion' | Qrd txt :- 'Pregnancy <and> <,> breast-feeding <and fertility>' | Matched :- 'False'\n",
      "2021-05-11 01:55:39,098 : Heading Extraction Adakveo-4874 EN PI_ PACKAGE LEAFLET.json : Match Failed | H | CAP |  en | 3 | Adakveo-4874 EN PI_ PACKAGE LEAFLET.json | Doc txt :- 'If you forget a Adakveo infusion' | Qrd txt :- 'If you forget to <take> <use> Adakveo>' | Matched :- 'False'\n",
      "2021-05-11 01:55:39,104 : Heading Extraction Adakveo-4874 EN PI_ PACKAGE LEAFLET.json : Match Failed | H | CAP |  en | 3 | Adakveo-4874 EN PI_ PACKAGE LEAFLET.json | Doc txt :- 'If you forget a Adakveo infusion' | Qrd txt :- 'If you stop <taking> <using> Adakveo>' | Matched :- 'False'\n",
      "2021-05-11 01:55:39,176 : Heading Extraction Adakveo-4874 EN PI_ PACKAGE LEAFLET.json : Match Failed | H | CAP |  en | 3 | Adakveo-4874 EN PI_ PACKAGE LEAFLET.json | Doc txt :- 'If you forget a Adakveo infusion' | Qrd txt :- 'This leaflet was last revised in <{MM/YYYY}><{month YYYY}>.' | Matched :- 'False'\n",
      " an infusion, contact your doctor as soon as possible to reschedule.' | Qrd txt :- 'Pregnancy <and> <,> breast-feeding <and fertility>' | Matched :- 'False'ET.json | Doc txt :- 'It is very\n",
      " an infusion, contact your doctor as soon as possible to reschedule.' | Qrd txt :- 'This leaflet was last revised in <{MM/YYYY}><{month YYYY}>.' | Matched :- 'False' Doc txt :- 'It is very\n",
      "2021-05-11 01:55:39,980 : Heading Extraction Adakveo-4874 EN PI_ PACKAGE LEAFLET.json : Match Failed | H | CAP |  en | 3 | Adakveo-4874 EN PI_ PACKAGE LEAFLET.json | Doc txt :- 'If you stop Adakveo treatment' | Qrd txt :- 'Pregnancy <and> <,> breast-feeding <and fertility>' | Matched :- 'False'\n",
      "2021-05-11 01:55:40,013 : Heading Extraction Adakveo-4874 EN PI_ PACKAGE LEAFLET.json : Match Failed | H | CAP |  en | 3 | Adakveo-4874 EN PI_ PACKAGE LEAFLET.json | Doc txt :- 'If you stop Adakveo treatment' | Qrd txt :- 'If you forget to <take> <use> Adakveo>' | Matched :- 'False'\n",
      "2021-05-11 01:55:40,020 : Heading Extraction Adakveo-4874 EN PI_ PACKAGE LEAFLET.json : Match Failed | H | CAP |  en | 3 | Adakveo-4874 EN PI_ PACKAGE LEAFLET.json | Doc txt :- 'If you stop Adakveo treatment' | Qrd txt :- 'If you stop <taking> <using> Adakveo>' | Matched :- 'False'\n"
     ]
    },
    {
     "name": "stderr",
     "output_type": "stream",
     "text": [
      "2021-05-11 01:55:40,102 : Heading Extraction Adakveo-4874 EN PI_ PACKAGE LEAFLET.json : Match Failed | H | CAP |  en | 3 | Adakveo-4874 EN PI_ PACKAGE LEAFLET.json | Doc txt :- 'If you stop Adakveo treatment' | Qrd txt :- 'This leaflet was last revised in <{MM/YYYY}><{month YYYY}>.' | Matched :- 'False'\n",
      " treatment unless your doctor tells you that you can.' | Qrd txt :- 'Pregnancy <and> <,> breast-feeding <and fertility>' | Matched :- 'False'_ PACKAGE LEAFLET.json | Doc txt :- 'Do not stop Adakveo\n",
      " treatment unless your doctor tells you that you can.' | Qrd txt :- 'This leaflet was last revised in <{MM/YYYY}><{month YYYY}>.' | Matched :- 'False' LEAFLET.json | Doc txt :- 'Do not stop Adakveo\n",
      " further questions on the use of this medicine, ask your doctor or nurse.' | Qrd txt :- 'Pregnancy <and> <,> breast-feeding <and fertility>' | Matched :- 'False'on | Doc txt :- 'If you have any\n",
      " further questions on the use of this medicine, ask your doctor or nurse.' | Qrd txt :- 'This leaflet was last revised in <{MM/YYYY}><{month YYYY}>.' | Matched :- 'False'txt :- 'If you have any\n",
      " effects' | Qrd txt :- 'Pregnancy <and> <,> breast-feeding <and fertility>' | Matched :- 'False'iled | H | CAP |  en | 3 | Adakveo-4874 EN PI_ PACKAGE LEAFLET.json | Doc txt :- '4.       Possible side\n",
      " effects' | Qrd txt :- '4. Possible side effects' | Matched :- 'True'AGE LEAFLET.json : Match Passed | H | CAP |  en | 3 | Adakveo-4874 EN PI_ PACKAGE LEAFLET.json | Doc txt :- '4.       Possible side\n",
      "2021-05-11 01:55:41,618 : Heading Extraction Adakveo-4874 EN PI_ PACKAGE LEAFLET.json : Validation Flow Is Broken | H | CAP |  en | 3 | Adakveo-4874 EN PI_ PACKAGE LEAFLET.json | currHeadId :- '23019' | currParentHeadId :- '23001.0' | prevParentHeadId :- '23013'\n",
      "2021-05-11 01:55:41,627 : Heading Extraction Adakveo-4874 EN PI_ PACKAGE LEAFLET.json : Validation Passed | H | CAP |  en | 3 | Adakveo-4874 EN PI_ PACKAGE LEAFLET.json | currHeadId :- '23019' | currParentHeadId :- '23001.0' | prevParentHeadId :- '23013'\n"
     ]
    },
    {
     "name": "stdout",
     "output_type": "stream",
     "text": [
      "b'4.       Possible side\\r effects'  |===|  b'4. Possible side effects'\n",
      "True  ||    ||  b'4.       Possible side\\r effects'  ||  b'4. Possible side effects'\n"
     ]
    },
    {
     "name": "stderr",
     "output_type": "stream",
     "text": [
      " them.' | Qrd txt :- 'Pregnancy <and> <,> breast-feeding <and fertility>' | Matched :- 'False'Failed | H | CAP |  en | 3 | Adakveo-4874 EN PI_ PACKAGE LEAFLET.json | Doc txt :- 'Like all\n",
      " them.' | Qrd txt :- 'This leaflet was last revised in <{MM/YYYY}><{month YYYY}>.' | Matched :- 'False'H | CAP |  en | 3 | Adakveo-4874 EN PI_ PACKAGE LEAFLET.json | Doc txt :- 'Like all\n",
      " serious' | Qrd txt :- 'Pregnancy <and> <,> breast-feeding <and fertility>' | Matched :- 'False'iled | H | CAP |  en | 3 | Adakveo-4874 EN PI_ PACKAGE LEAFLET.json | Doc txt :- 'Some side effects could be\n",
      " serious' | Qrd txt :- 'This leaflet was last revised in <{MM/YYYY}><{month YYYY}>.' | Matched :- 'False'| CAP |  en | 3 | Adakveo-4874 EN PI_ PACKAGE LEAFLET.json | Doc txt :- 'Some side effects could be\n",
      "2021-05-11 01:55:42,728 : Heading Extraction Adakveo-4874 EN PI_ PACKAGE LEAFLET.json : Match Failed | H | CAP |  en | 3 | Adakveo-4874 EN PI_ PACKAGE LEAFLET.json | Doc txt :- 'Tell the doctor or nurse giving you the infusion immediately if you develop any of the following:' | Qrd txt :- 'Pregnancy <and> <,> breast-feeding <and fertility>' | Matched :- 'False'\n",
      "2021-05-11 01:55:43,121 : Heading Extraction Adakveo-4874 EN PI_ PACKAGE LEAFLET.json : Match Failed | H | CAP |  en | 3 | Adakveo-4874 EN PI_ PACKAGE LEAFLET.json | Doc txt :- 'Tell the doctor or nurse giving you the infusion immediately if you develop any of the following:' | Qrd txt :- 'This leaflet was last revised in <{MM/YYYY}><{month YYYY}>.' | Matched :- 'False'\n",
      " itching, shortness of breath or wheezing.' | Qrd txt :- 'Pregnancy <and> <,> breast-feeding <and fertility>' | Matched :- 'False'-4874 EN PI_ PACKAGE LEAFLET.json | Doc txt :- '-Fever, chills, shivering, nausea, vomiting,\n",
      " itching, shortness of breath or wheezing.' | Qrd txt :- 'This leaflet was last revised in <{MM/YYYY}><{month YYYY}>.' | Matched :- 'False'PI_ PACKAGE LEAFLET.json | Doc txt :- '-Fever, chills, shivering, nausea, vomiting,\n",
      " may affect up to 1 in every 10 people).' | Qrd txt :- 'Pregnancy <and> <,> breast-feeding <and fertility>' | Matched :- 'False'eo-4874 EN PI_ PACKAGE LEAFLET.json | Doc txt :- 'These symptoms\n",
      " may affect up to 1 in every 10 people).' | Qrd txt :- 'This leaflet was last revised in <{MM/YYYY}><{month YYYY}>.' | Matched :- 'False'N PI_ PACKAGE LEAFLET.json | Doc txt :- 'These symptoms\n",
      "2021-05-11 01:55:46,096 : Heading Extraction Adakveo-4874 EN PI_ PACKAGE LEAFLET.json : Match Failed | H | CAP |  en | 3 | Adakveo-4874 EN PI_ PACKAGE LEAFLET.json | Doc txt :- 'Other possible side effects' | Qrd txt :- 'Pregnancy <and> <,> breast-feeding <and fertility>' | Matched :- 'False'\n",
      "2021-05-11 01:55:46,154 : Heading Extraction Adakveo-4874 EN PI_ PACKAGE LEAFLET.json : Match Failed In Lowercase | H | CAP |  en | 3 | Adakveo-4874 EN PI_ PACKAGE LEAFLET.json | Doc txt :- 'Other possible side effects' | Qrd txt :- '4. Possible side effects' | Matched :- 'False'\n",
      "2021-05-11 01:55:46,251 : Heading Extraction Adakveo-4874 EN PI_ PACKAGE LEAFLET.json : Match Failed | H | CAP |  en | 3 | Adakveo-4874 EN PI_ PACKAGE LEAFLET.json | Doc txt :- 'Other possible side effects' | Qrd txt :- 'This leaflet was last revised in <{MM/YYYY}><{month YYYY}>.' | Matched :- 'False'\n"
     ]
    },
    {
     "name": "stdout",
     "output_type": "stream",
     "text": [
      "\n",
      "OriginalCheck\n",
      "('<=4|22.22|(82, 88, 90)|0.85|', 'Other possible side effects', '4. Possible side effects')\n",
      "\n"
     ]
    },
    {
     "name": "stderr",
     "output_type": "stream",
     "text": [
      " severe, tell your doctor or nurse.' | Qrd txt :- 'Pregnancy <and> <,> breast-feeding <and fertility>' | Matched :- 'False'Adakveo-4874 EN PI_ PACKAGE LEAFLET.json | Doc txt :- 'Other\n",
      " severe, tell your doctor or nurse.' | Qrd txt :- 'This leaflet was last revised in <{MM/YYYY}><{month YYYY}>.' | Matched :- 'False'874 EN PI_ PACKAGE LEAFLET.json | Doc txt :- 'Other\n",
      " common (may affect more than 1 in 10 people)' | Qrd txt :- 'Pregnancy <and> <,> breast-feeding <and fertility>' | Matched :- 'False'74 EN PI_ PACKAGE LEAFLET.json | Doc txt :- 'Very\n",
      " common (may affect more than 1 in 10 people)' | Qrd txt :- 'This leaflet was last revised in <{MM/YYYY}><{month YYYY}>.' | Matched :- 'False' PACKAGE LEAFLET.json | Doc txt :- 'Very\n",
      "2021-05-11 01:55:47,837 : Heading Extraction Adakveo-4874 EN PI_ PACKAGE LEAFLET.json : Match Failed | H | CAP |  en | 3 | Adakveo-4874 EN PI_ PACKAGE LEAFLET.json | Doc txt :- '-pain in the joints (arthralgia)' | Qrd txt :- 'Pregnancy <and> <,> breast-feeding <and fertility>' | Matched :- 'False'\n",
      "2021-05-11 01:55:48,114 : Heading Extraction Adakveo-4874 EN PI_ PACKAGE LEAFLET.json : Match Failed | H | CAP |  en | 3 | Adakveo-4874 EN PI_ PACKAGE LEAFLET.json | Doc txt :- '-pain in the joints (arthralgia)' | Qrd txt :- 'This leaflet was last revised in <{MM/YYYY}><{month YYYY}>.' | Matched :- 'False'\n",
      "2021-05-11 01:55:48,302 : Heading Extraction Adakveo-4874 EN PI_ PACKAGE LEAFLET.json : Match Failed | H | CAP |  en | 3 | Adakveo-4874 EN PI_ PACKAGE LEAFLET.json | Doc txt :- '-back pain' | Qrd txt :- 'Pregnancy <and> <,> breast-feeding <and fertility>' | Matched :- 'False'\n",
      " and abdominal discomfort' | Qrd txt :- 'Pregnancy <and> <,> breast-feeding <and fertility>' | Matched :- 'False' en | 3 | Adakveo-4874 EN PI_ PACKAGE LEAFLET.json | Doc txt :- '-pain in the lower or upper abdomen, feeling of tenderness in the abdomen\n",
      " and abdominal discomfort' | Qrd txt :- 'This leaflet was last revised in <{MM/YYYY}><{month YYYY}>.' | Matched :- 'False' Adakveo-4874 EN PI_ PACKAGE LEAFLET.json | Doc txt :- '-pain in the lower or upper abdomen, feeling of tenderness in the abdomen\n",
      " (may affect up to 1 in every 10 people)' | Qrd txt :- 'Pregnancy <and> <,> breast-feeding <and fertility>' | Matched :- 'False'eo-4874 EN PI_ PACKAGE LEAFLET.json | Doc txt :- 'Common\n",
      " (may affect up to 1 in every 10 people)' | Qrd txt :- 'This leaflet was last revised in <{MM/YYYY}><{month YYYY}>.' | Matched :- 'False'N PI_ PACKAGE LEAFLET.json | Doc txt :- 'Common\n",
      "2021-05-11 01:55:49,295 : Heading Extraction Adakveo-4874 EN PI_ PACKAGE LEAFLET.json : Match Failed | H | CAP |  en | 3 | Adakveo-4874 EN PI_ PACKAGE LEAFLET.json | Doc txt :- '-diarrhoea' | Qrd txt :- 'Pregnancy <and> <,> breast-feeding <and fertility>' | Matched :- 'False'\n",
      "2021-05-11 01:55:49,419 : Heading Extraction Adakveo-4874 EN PI_ PACKAGE LEAFLET.json : Match Failed | H | CAP |  en | 3 | Adakveo-4874 EN PI_ PACKAGE LEAFLET.json | Doc txt :- '-itching (including vulvovaginal itching)' | Qrd txt :- 'Pregnancy <and> <,> breast-feeding <and fertility>' | Matched :- 'False'\n",
      "2021-05-11 01:55:49,530 : Heading Extraction Adakveo-4874 EN PI_ PACKAGE LEAFLET.json : Match Failed | H | CAP |  en | 3 | Adakveo-4874 EN PI_ PACKAGE LEAFLET.json | Doc txt :- '-itching (including vulvovaginal itching)' | Qrd txt :- 'This leaflet was last revised in <{MM/YYYY}><{month YYYY}>.' | Matched :- 'False'\n",
      "2021-05-11 01:55:49,674 : Heading Extraction Adakveo-4874 EN PI_ PACKAGE LEAFLET.json : Match Failed | H | CAP |  en | 3 | Adakveo-4874 EN PI_ PACKAGE LEAFLET.json | Doc txt :- '-muscle pain (myalgia)' | Qrd txt :- 'Pregnancy <and> <,> breast-feeding <and fertility>' | Matched :- 'False'\n",
      "2021-05-11 01:55:49,750 : Heading Extraction Adakveo-4874 EN PI_ PACKAGE LEAFLET.json : Match Failed | H | CAP |  en | 3 | Adakveo-4874 EN PI_ PACKAGE LEAFLET.json | Doc txt :- '-muscle pain (myalgia)' | Qrd txt :- 'This leaflet was last revised in <{MM/YYYY}><{month YYYY}>.' | Matched :- 'False'\n",
      "2021-05-11 01:55:49,884 : Heading Extraction Adakveo-4874 EN PI_ PACKAGE LEAFLET.json : Match Failed | H | CAP |  en | 3 | Adakveo-4874 EN PI_ PACKAGE LEAFLET.json | Doc txt :- '-pain in the muscles or bones of the chest (musculoskeletal chest pain)' | Qrd txt :- 'Pregnancy <and> <,> breast-feeding <and fertility>' | Matched :- 'False'\n",
      "2021-05-11 01:55:50,065 : Heading Extraction Adakveo-4874 EN PI_ PACKAGE LEAFLET.json : Match Failed | H | CAP |  en | 3 | Adakveo-4874 EN PI_ PACKAGE LEAFLET.json | Doc txt :- '-pain in the muscles or bones of the chest (musculoskeletal chest pain)' | Qrd txt :- 'This leaflet was last revised in <{MM/YYYY}><{month YYYY}>.' | Matched :- 'False'\n",
      "2021-05-11 01:55:50,158 : Heading Extraction Adakveo-4874 EN PI_ PACKAGE LEAFLET.json : Match Failed | H | CAP |  en | 3 | Adakveo-4874 EN PI_ PACKAGE LEAFLET.json | Doc txt :- '-sore throat (oropharyngeal pain)' | Qrd txt :- 'Pregnancy <and> <,> breast-feeding <and fertility>' | Matched :- 'False'\n",
      "2021-05-11 01:55:50,264 : Heading Extraction Adakveo-4874 EN PI_ PACKAGE LEAFLET.json : Match Failed | H | CAP |  en | 3 | Adakveo-4874 EN PI_ PACKAGE LEAFLET.json | Doc txt :- '-sore throat (oropharyngeal pain)' | Qrd txt :- 'This leaflet was last revised in <{MM/YYYY}><{month YYYY}>.' | Matched :- 'False'\n",
      "2021-05-11 01:55:50,402 : Heading Extraction Adakveo-4874 EN PI_ PACKAGE LEAFLET.json : Match Failed | H | CAP |  en | 3 | Adakveo-4874 EN PI_ PACKAGE LEAFLET.json | Doc txt :- '-redness or swelling and pain at the site of the infusion' | Qrd txt :- 'Pregnancy <and> <,> breast-feeding <and fertility>' | Matched :- 'False'\n",
      "2021-05-11 01:55:50,575 : Heading Extraction Adakveo-4874 EN PI_ PACKAGE LEAFLET.json : Match Failed | H | CAP |  en | 3 | Adakveo-4874 EN PI_ PACKAGE LEAFLET.json | Doc txt :- '-redness or swelling and pain at the site of the infusion' | Qrd txt :- 'This leaflet was last revised in <{MM/YYYY}><{month YYYY}>.' | Matched :- 'False'\n",
      " of side effects' | Qrd txt :- 'Pregnancy <and> <,> breast-feeding <and fertility>' | Matched :- 'False' | CAP |  en | 3 | Adakveo-4874 EN PI_ PACKAGE LEAFLET.json | Doc txt :- 'Reporting\n",
      " of side effects' | Qrd txt :- 'Reporting of side effects' | Matched :- 'True'ET.json : Match Passed | H | CAP |  en | 3 | Adakveo-4874 EN PI_ PACKAGE LEAFLET.json | Doc txt :- 'Reporting\n",
      "2021-05-11 01:55:50,722 : Heading Extraction Adakveo-4874 EN PI_ PACKAGE LEAFLET.json : Validation Flow Is Broken | H | CAP |  en | 3 | Adakveo-4874 EN PI_ PACKAGE LEAFLET.json | currHeadId :- '23021' | currParentHeadId :- '23019.0' | prevParentHeadId :- '23019'\n",
      "2021-05-11 01:55:50,729 : Heading Extraction Adakveo-4874 EN PI_ PACKAGE LEAFLET.json : Validation Passed | H | CAP |  en | 3 | Adakveo-4874 EN PI_ PACKAGE LEAFLET.json | currHeadId :- '23021' | currParentHeadId :- '23019.0' | prevParentHeadId :- '23019'\n",
      "2021-05-11 01:55:50,811 : Heading Extraction Adakveo-4874 EN PI_ PACKAGE LEAFLET.json : Match Failed | H | CAP |  en | 3 | Adakveo-4874 EN PI_ PACKAGE LEAFLET.json | Doc txt :- '5.       How to store Adakveo' | Qrd txt :- 'Pregnancy <and> <,> breast-feeding <and fertility>' | Matched :- 'False'\n",
      "2021-05-11 01:55:50,827 : Heading Extraction Adakveo-4874 EN PI_ PACKAGE LEAFLET.json : Match Failed | H | CAP |  en | 3 | Adakveo-4874 EN PI_ PACKAGE LEAFLET.json | Doc txt :- '5.       How to store Adakveo' | Qrd txt :- '3. How to <take> <use> Adakveo ' | Matched :- 'False'\n",
      "2021-05-11 01:55:50,877 : Heading Extraction Adakveo-4874 EN PI_ PACKAGE LEAFLET.json : Match Passed | H | CAP |  en | 3 | Adakveo-4874 EN PI_ PACKAGE LEAFLET.json | Doc txt :- '5.       How to store Adakveo' | Qrd txt :- '5. How to store Adakveo' | Matched :- 'True'\n",
      "2021-05-11 01:55:50,890 : Heading Extraction Adakveo-4874 EN PI_ PACKAGE LEAFLET.json : Validation Passed | H | CAP |  en | 3 | Adakveo-4874 EN PI_ PACKAGE LEAFLET.json | currHeadId :- '23022' | currParentHeadId :- '23001.0' | prevParentHeadId :- '23021'\n"
     ]
    },
    {
     "name": "stdout",
     "output_type": "stream",
     "text": [
      "b'Reporting\\r of side effects'  |===|  b'Reporting of side effects'\n",
      "True  ||    ||  b'Reporting\\r of side effects'  ||  b'Reporting of side effects'\n",
      "b'5.       How to store Adakveo'  |===|  b'5. How to store Adakveo'\n",
      "True  ||    ||  b'5.       How to store Adakveo'  ||  b'5. How to store Adakveo'\n"
     ]
    },
    {
     "name": "stderr",
     "output_type": "stream",
     "text": [
      " medicine out of the sight and reach of children.' | Qrd txt :- 'Pregnancy <and> <,> breast-feeding <and fertility>' | Matched :- 'False'N PI_ PACKAGE LEAFLET.json | Doc txt :- 'Keep this\n",
      " medicine out of the sight and reach of children.' | Qrd txt :- 'This leaflet was last revised in <{MM/YYYY}><{month YYYY}>.' | Matched :- 'False'KAGE LEAFLET.json | Doc txt :- 'Keep this\n",
      " the label after “EXP”. The expiry date refers to the last day of that month.' | Qrd txt :- 'Pregnancy <and> <,> breast-feeding <and fertility>' | Matched :- 'False' Doc txt :- 'Do not\n",
      " the label after “EXP”. The expiry date refers to the last day of that month.' | Qrd txt :- 'This leaflet was last revised in <{MM/YYYY}><{month YYYY}>.' | Matched :- 'False':- 'Do not\n",
      " (2°C – 8°C). Do not freeze.' | Qrd txt :- 'Pregnancy <and> <,> breast-feeding <and fertility>' | Matched :- 'False' | 3 | Adakveo-4874 EN PI_ PACKAGE LEAFLET.json | Doc txt :- 'Keep the vial in\n",
      " (2°C – 8°C). Do not freeze.' | Qrd txt :- 'This leaflet was last revised in <{MM/YYYY}><{month YYYY}>.' | Matched :- 'False'akveo-4874 EN PI_ PACKAGE LEAFLET.json | Doc txt :- 'Keep the vial in\n",
      " solutions should be used immediately after dilution.' | Qrd txt :- 'Pregnancy <and> <,> breast-feeding <and fertility>' | Matched :- 'False'_ PACKAGE LEAFLET.json | Doc txt :- 'Infusion\n",
      " solutions should be used immediately after dilution.' | Qrd txt :- 'This leaflet was last revised in <{MM/YYYY}><{month YYYY}>.' | Matched :- 'False' LEAFLET.json | Doc txt :- 'Infusion\n",
      "2021-05-11 01:55:53,240 : Heading Extraction Adakveo-4874 EN PI_ PACKAGE LEAFLET.json : Match Failed | H | CAP |  en | 3 | Adakveo-4874 EN PI_ PACKAGE LEAFLET.json | Doc txt :- '6.       Contents of the pack and other information' | Qrd txt :- 'Pregnancy <and> <,> breast-feeding <and fertility>' | Matched :- 'False'\n",
      "2021-05-11 01:55:53,326 : Heading Extraction Adakveo-4874 EN PI_ PACKAGE LEAFLET.json : Match Passed | H | CAP |  en | 3 | Adakveo-4874 EN PI_ PACKAGE LEAFLET.json | Doc txt :- '6.       Contents of the pack and other information' | Qrd txt :- '6. Contents of the pack and other information' | Matched :- 'True'\n",
      "2021-05-11 01:55:53,338 : Heading Extraction Adakveo-4874 EN PI_ PACKAGE LEAFLET.json : Validation Passed | H | CAP |  en | 3 | Adakveo-4874 EN PI_ PACKAGE LEAFLET.json | currHeadId :- '23023' | currParentHeadId :- '23001.0' | prevParentHeadId :- '23022'\n",
      "2021-05-11 01:55:53,397 : Heading Extraction Adakveo-4874 EN PI_ PACKAGE LEAFLET.json : Match Failed | H | CAP |  en | 3 | Adakveo-4874 EN PI_ PACKAGE LEAFLET.json | Doc txt :- 'What Adakveo contains' | Qrd txt :- 'Pregnancy <and> <,> breast-feeding <and fertility>' | Matched :- 'False'\n",
      "2021-05-11 01:55:53,454 : Heading Extraction Adakveo-4874 EN PI_ PACKAGE LEAFLET.json : Match Passed | H | CAP |  en | 3 | Adakveo-4874 EN PI_ PACKAGE LEAFLET.json | Doc txt :- 'What Adakveo contains' | Qrd txt :- 'What Adakveo contains ' | Matched :- 'True'\n",
      "2021-05-11 01:55:53,466 : Heading Extraction Adakveo-4874 EN PI_ PACKAGE LEAFLET.json : Validation Passed | H | CAP |  en | 3 | Adakveo-4874 EN PI_ PACKAGE LEAFLET.json | currHeadId :- '23024' | currParentHeadId :- '23023.0' | prevParentHeadId :- '23023'\n"
     ]
    },
    {
     "name": "stdout",
     "output_type": "stream",
     "text": [
      "b'6.       Contents of the pack and other information'  |===|  b'6. Contents of the pack and other information'\n",
      "True  ||    ||  b'6.       Contents of the pack and other information'  ||  b'6. Contents of the pack and other information'\n",
      "b'What Adakveo contains'  |===|  b'What Adakveo contains '\n",
      "True  ||    ||  b'What Adakveo contains'  ||  b'What Adakveo contains '\n"
     ]
    },
    {
     "name": "stderr",
     "output_type": "stream",
     "text": [
      " 10 ml vial contains 100 mg of crizanlizumab.' | Qrd txt :- 'Pregnancy <and> <,> breast-feeding <and fertility>' | Matched :- 'False'74 EN PI_ PACKAGE LEAFLET.json | Doc txt :- '-The active substance is crizanlizumab. Each\n",
      " 10 ml vial contains 100 mg of crizanlizumab.' | Qrd txt :- 'This leaflet was last revised in <{MM/YYYY}><{month YYYY}>.' | Matched :- 'False' PACKAGE LEAFLET.json | Doc txt :- '-The active substance is crizanlizumab. Each\n",
      " (E433) and water for injections.' | Qrd txt :- 'Pregnancy <and> <,> breast-feeding <and fertility>' | Matched :- 'False'| Adakveo-4874 EN PI_ PACKAGE LEAFLET.json | Doc txt :- '-The other ingredients are sucrose, sodium\n",
      " (E433) and water for injections.' | Qrd txt :- 'This leaflet was last revised in <{MM/YYYY}><{month YYYY}>.' | Matched :- 'False'-4874 EN PI_ PACKAGE LEAFLET.json | Doc txt :- '-The other ingredients are sucrose, sodium\n",
      "2021-05-11 01:55:54,800 : Heading Extraction Adakveo-4874 EN PI_ PACKAGE LEAFLET.json : Match Failed | H | CAP |  en | 3 | Adakveo-4874 EN PI_ PACKAGE LEAFLET.json | Doc txt :- 'What Adakveo looks like and contents of the pack' | Qrd txt :- 'Pregnancy <and> <,> breast-feeding <and fertility>' | Matched :- 'False'\n",
      "2021-05-11 01:55:54,884 : Heading Extraction Adakveo-4874 EN PI_ PACKAGE LEAFLET.json : Match Passed | H | CAP |  en | 3 | Adakveo-4874 EN PI_ PACKAGE LEAFLET.json | Doc txt :- 'What Adakveo looks like and contents of the pack' | Qrd txt :- 'What Adakveo looks like and contents of the pack' | Matched :- 'True'\n",
      "2021-05-11 01:55:54,894 : Heading Extraction Adakveo-4874 EN PI_ PACKAGE LEAFLET.json : Validation Passed | H | CAP |  en | 3 | Adakveo-4874 EN PI_ PACKAGE LEAFLET.json | currHeadId :- '23025' | currParentHeadId :- '23023.0' | prevParentHeadId :- '23024'\n"
     ]
    },
    {
     "name": "stdout",
     "output_type": "stream",
     "text": [
      "b'What Adakveo looks like and contents of the pack'  |===|  b'What Adakveo looks like and contents of the pack'\n",
      "True  ||    ||  b'What Adakveo looks like and contents of the pack'  ||  b'What Adakveo looks like and contents of the pack'\n"
     ]
    },
    {
     "name": "stderr",
     "output_type": "stream",
     "text": [
      " liquid.' | Qrd txt :- 'Pregnancy <and> <,> breast-feeding <and fertility>' | Matched :- 'False'iled | H | CAP |  en | 3 | Adakveo-4874 EN PI_ PACKAGE LEAFLET.json | Doc txt :- 'Adakveo\n",
      " liquid.' | Qrd txt :- 'This leaflet was last revised in <{MM/YYYY}><{month YYYY}>.' | Matched :- 'False'| CAP |  en | 3 | Adakveo-4874 EN PI_ PACKAGE LEAFLET.json | Doc txt :- 'Adakveo\n",
      " available in packs containing 1 vial.' | Qrd txt :- 'Pregnancy <and> <,> breast-feeding <and fertility>' | Matched :- 'False'kveo-4874 EN PI_ PACKAGE LEAFLET.json | Doc txt :- 'Adakveo is\n",
      " available in packs containing 1 vial.' | Qrd txt :- 'This leaflet was last revised in <{MM/YYYY}><{month YYYY}>.' | Matched :- 'False' EN PI_ PACKAGE LEAFLET.json | Doc txt :- 'Adakveo is\n",
      "2021-05-11 01:55:55,666 : Heading Extraction Adakveo-4874 EN PI_ PACKAGE LEAFLET.json : Match Failed | H | CAP |  en | 3 | Adakveo-4874 EN PI_ PACKAGE LEAFLET.json | Doc txt :- 'Marketing Authorisation Holder' | Qrd txt :- 'Pregnancy <and> <,> breast-feeding <and fertility>' | Matched :- 'False'\n",
      "2021-05-11 01:55:55,737 : Heading Extraction Adakveo-4874 EN PI_ PACKAGE LEAFLET.json : Match Failed In Lowercase | H | CAP |  en | 3 | Adakveo-4874 EN PI_ PACKAGE LEAFLET.json | Doc txt :- 'Marketing Authorisation Holder' | Qrd txt :- 'Marketing Authorisation Holder and Manufacturer' | Matched :- 'False'\n",
      "2021-05-11 01:55:55,757 : Heading Extraction Adakveo-4874 EN PI_ PACKAGE LEAFLET.json : Match Failed In Lowercase | H | CAP |  en | 3 | Adakveo-4874 EN PI_ PACKAGE LEAFLET.json | Doc txt :- 'Marketing Authorisation Holder' | Qrd txt :- 'For any information about this medicine, please contact the local representative of the Marketing Authorisation Holder:' | Matched :- 'False'\n",
      "2021-05-11 01:55:55,772 : Heading Extraction Adakveo-4874 EN PI_ PACKAGE LEAFLET.json : Match Failed | H | CAP |  en | 3 | Adakveo-4874 EN PI_ PACKAGE LEAFLET.json | Doc txt :- 'Marketing Authorisation Holder' | Qrd txt :- 'This leaflet was last revised in <{MM/YYYY}><{month YYYY}>.' | Matched :- 'False'\n",
      "2021-05-11 01:55:55,858 : Heading Extraction Adakveo-4874 EN PI_ PACKAGE LEAFLET.json : Match Failed | H | CAP |  en | 3 | Adakveo-4874 EN PI_ PACKAGE LEAFLET.json | Doc txt :- 'Novartis Europharm Limited' | Qrd txt :- 'Pregnancy <and> <,> breast-feeding <and fertility>' | Matched :- 'False'\n"
     ]
    },
    {
     "name": "stdout",
     "output_type": "stream",
     "text": [
      "\n",
      "OriginalCheck\n",
      "('<=7|56.67|(78, 100, 90)|0.95|', 'Marketing Authorisation Holder', 'Marketing Authorisation Holder and Manufacturer')\n",
      "\n",
      "\n",
      "OriginalCheck\n",
      "('>7|296.67|(40, 100, 90)|0.55|', 'Marketing Authorisation Holder', 'For any information about this medicine, please contact the local representative of the Marketing Authorisation Holder:')\n",
      "\n"
     ]
    },
    {
     "name": "stderr",
     "output_type": "stream",
     "text": [
      "2021-05-11 01:55:55,944 : Heading Extraction Adakveo-4874 EN PI_ PACKAGE LEAFLET.json : Match Failed | H | CAP |  en | 3 | Adakveo-4874 EN PI_ PACKAGE LEAFLET.json | Doc txt :- 'Novartis Europharm Limited' | Qrd txt :- 'This leaflet was last revised in <{MM/YYYY}><{month YYYY}>.' | Matched :- 'False'\n",
      "2021-05-11 01:55:56,002 : Heading Extraction Adakveo-4874 EN PI_ PACKAGE LEAFLET.json : Match Failed | H | CAP |  en | 3 | Adakveo-4874 EN PI_ PACKAGE LEAFLET.json | Doc txt :- 'Vista Building' | Qrd txt :- 'Pregnancy <and> <,> breast-feeding <and fertility>' | Matched :- 'False'\n",
      "2021-05-11 01:55:56,059 : Heading Extraction Adakveo-4874 EN PI_ PACKAGE LEAFLET.json : Match Failed | H | CAP |  en | 3 | Adakveo-4874 EN PI_ PACKAGE LEAFLET.json | Doc txt :- 'Vista Building' | Qrd txt :- 'This leaflet was last revised in <{MM/YYYY}><{month YYYY}>.' | Matched :- 'False'\n",
      "2021-05-11 01:55:56,121 : Heading Extraction Adakveo-4874 EN PI_ PACKAGE LEAFLET.json : Match Failed | H | CAP |  en | 3 | Adakveo-4874 EN PI_ PACKAGE LEAFLET.json | Doc txt :- 'Elm Park, Merrion Road' | Qrd txt :- 'Pregnancy <and> <,> breast-feeding <and fertility>' | Matched :- 'False'\n",
      "2021-05-11 01:55:56,195 : Heading Extraction Adakveo-4874 EN PI_ PACKAGE LEAFLET.json : Match Failed | H | CAP |  en | 3 | Adakveo-4874 EN PI_ PACKAGE LEAFLET.json | Doc txt :- 'Elm Park, Merrion Road' | Qrd txt :- 'This leaflet was last revised in <{MM/YYYY}><{month YYYY}>.' | Matched :- 'False'\n",
      "2021-05-11 01:55:56,373 : Heading Extraction Adakveo-4874 EN PI_ PACKAGE LEAFLET.json : Match Failed | H | CAP |  en | 3 | Adakveo-4874 EN PI_ PACKAGE LEAFLET.json | Doc txt :- 'Manufacturer' | Qrd txt :- 'Pregnancy <and> <,> breast-feeding <and fertility>' | Matched :- 'False'\n",
      "2021-05-11 01:55:56,420 : Heading Extraction Adakveo-4874 EN PI_ PACKAGE LEAFLET.json : Match Failed In Lowercase | H | CAP |  en | 3 | Adakveo-4874 EN PI_ PACKAGE LEAFLET.json | Doc txt :- 'Manufacturer' | Qrd txt :- 'Marketing Authorisation Holder and Manufacturer' | Matched :- 'False'\n",
      "2021-05-11 01:55:56,431 : Heading Extraction Adakveo-4874 EN PI_ PACKAGE LEAFLET.json : Match Failed | H | CAP |  en | 3 | Adakveo-4874 EN PI_ PACKAGE LEAFLET.json | Doc txt :- 'Manufacturer' | Qrd txt :- 'This leaflet was last revised in <{MM/YYYY}><{month YYYY}>.' | Matched :- 'False'\n",
      " Pharma GmbH' | Qrd txt :- 'Pregnancy <and> <,> breast-feeding <and fertility>' | Matched :- 'False' | H | CAP |  en | 3 | Adakveo-4874 EN PI_ PACKAGE LEAFLET.json | Doc txt :- 'Novartis\n",
      " Pharma GmbH' | Qrd txt :- 'This leaflet was last revised in <{MM/YYYY}><{month YYYY}>.' | Matched :- 'False'P |  en | 3 | Adakveo-4874 EN PI_ PACKAGE LEAFLET.json | Doc txt :- 'Novartis\n",
      " 25' | Qrd txt :- 'Pregnancy <and> <,> breast-feeding <and fertility>' | Matched :- 'False'ch Failed | H | CAP |  en | 3 | Adakveo-4874 EN PI_ PACKAGE LEAFLET.json | Doc txt :- 'Roonstrasse\n"
     ]
    },
    {
     "name": "stdout",
     "output_type": "stream",
     "text": [
      "\n",
      "OriginalCheck\n",
      "('<=7|291.67|(41, 100, 90)|0.54|', 'Manufacturer', 'Marketing Authorisation Holder and Manufacturer')\n",
      "\n"
     ]
    },
    {
     "name": "stderr",
     "output_type": "stream",
     "text": [
      " 25' | Qrd txt :- 'This leaflet was last revised in <{MM/YYYY}><{month YYYY}>.' | Matched :- 'False' | H | CAP |  en | 3 | Adakveo-4874 EN PI_ PACKAGE LEAFLET.json | Doc txt :- 'Roonstrasse\n",
      " Nuremberg' | Qrd txt :- 'Pregnancy <and> <,> breast-feeding <and fertility>' | Matched :- 'False'ed | H | CAP |  en | 3 | Adakveo-4874 EN PI_ PACKAGE LEAFLET.json | Doc txt :- '90429\n",
      " Nuremberg' | Qrd txt :- 'This leaflet was last revised in <{MM/YYYY}><{month YYYY}>.' | Matched :- 'False'CAP |  en | 3 | Adakveo-4874 EN PI_ PACKAGE LEAFLET.json | Doc txt :- '90429\n",
      " of the Marketing Authorisation Holder:' | Qrd txt :- 'Pregnancy <and> <,> breast-feeding <and fertility>' | Matched :- 'False'veo-4874 EN PI_ PACKAGE LEAFLET.json | Doc txt :- 'For any information about this medicine, please contact the local representative\n",
      " of the Marketing Authorisation Holder:' | Qrd txt :- 'For any information about this medicine, please contact the local representative of the Marketing Authorisation Holder:' | Matched :- 'True'on about this medicine, please contact the local representative\n",
      "2021-05-11 01:55:57,303 : Heading Extraction Adakveo-4874 EN PI_ PACKAGE LEAFLET.json : Validation Flow Is Broken | H | CAP |  en | 3 | Adakveo-4874 EN PI_ PACKAGE LEAFLET.json | currHeadId :- '23027' | currParentHeadId :- '23023.0' | prevParentHeadId :- '23025'\n",
      "2021-05-11 01:55:57,310 : Heading Extraction Adakveo-4874 EN PI_ PACKAGE LEAFLET.json : Validation Passed | H | CAP |  en | 3 | Adakveo-4874 EN PI_ PACKAGE LEAFLET.json | currHeadId :- '23027' | currParentHeadId :- '23023.0' | prevParentHeadId :- '23025'\n",
      " was last revised in' | Qrd txt :- 'Pregnancy <and> <,> breast-feeding <and fertility>' | Matched :- 'False'AP |  en | 3 | Adakveo-4874 EN PI_ PACKAGE LEAFLET.json | Doc txt :- 'This leaflet\n",
      " was last revised in' | Qrd txt :- 'This leaflet was last revised in <{MM/YYYY}><{month YYYY}>.' | Matched :- 'True' | 3 | Adakveo-4874 EN PI_ PACKAGE LEAFLET.json | Doc txt :- 'This leaflet\n",
      "2021-05-11 01:55:57,482 : Heading Extraction Adakveo-4874 EN PI_ PACKAGE LEAFLET.json : Validation Passed | H | CAP |  en | 3 | Adakveo-4874 EN PI_ PACKAGE LEAFLET.json | currHeadId :- '23028' | currParentHeadId :- '23023.0' | prevParentHeadId :- '23027'\n"
     ]
    },
    {
     "name": "stdout",
     "output_type": "stream",
     "text": [
      "b'For any information about this medicine, please contact the local representative\\r of the Marketing Authorisation Holder:'  |===|  b'For any information about this medicine, please contact the local representative of the Marketing Authorisation Holder:'\n",
      "True  ||    ||  b'For any information about this medicine, please contact the local representative\\r of the Marketing Authorisation Holder:'  ||  b'For any information about this medicine, please contact the local representative of the Marketing Authorisation Holder:'\n",
      "b'This leaflet\\r was last revised in'  |===|  b'This leaflet was last revised in <{MM/YYYY}><{month YYYY}>.'\n",
      "True  ||  SpecialCase1|84.38|(70, 100, 90)|0.94|  ||  b'This leaflet\\r was last revised in'  ||  b'This leaflet was last revised in <{MM/YYYY}><{month YYYY}>.'\n"
     ]
    },
    {
     "name": "stderr",
     "output_type": "stream",
     "text": [
      " to come about this medicine.' | Qrd txt :- 'Pregnancy <and> <,> breast-feeding <and fertility>' | Matched :- 'False'| 3 | Adakveo-4874 EN PI_ PACKAGE LEAFLET.json | Doc txt :- 'This medicine\n",
      " to come about this medicine.' | Qrd txt :- 'This leaflet was last revised in <{MM/YYYY}><{month YYYY}>.' | Matched :- 'False'kveo-4874 EN PI_ PACKAGE LEAFLET.json | Doc txt :- 'This medicine\n",
      " year and this leaflet will be updated as necessary.' | Qrd txt :- 'Pregnancy <and> <,> breast-feeding <and fertility>' | Matched :- 'False'I_ PACKAGE LEAFLET.json | Doc txt :- 'The European\n",
      " year and this leaflet will be updated as necessary.' | Qrd txt :- 'This leaflet was last revised in <{MM/YYYY}><{month YYYY}>.' | Matched :- 'False'E LEAFLET.json | Doc txt :- 'The European\n",
      "2021-05-11 01:55:58,723 : Heading Extraction Adakveo-4874 EN PI_ PACKAGE LEAFLET.json : Match Failed | H | CAP |  en | 3 | Adakveo-4874 EN PI_ PACKAGE LEAFLET.json | Doc txt :- 'Other sources of information' | Qrd txt :- 'Pregnancy <and> <,> breast-feeding <and fertility>' | Matched :- 'False'\n",
      "2021-05-11 01:55:58,802 : Heading Extraction Adakveo-4874 EN PI_ PACKAGE LEAFLET.json : Match Failed | H | CAP |  en | 3 | Adakveo-4874 EN PI_ PACKAGE LEAFLET.json | Doc txt :- 'Other sources of information' | Qrd txt :- 'This leaflet was last revised in <{MM/YYYY}><{month YYYY}>.' | Matched :- 'False'\n",
      "2021-05-11 01:55:58,805 : Heading Extraction Adakveo-4874 EN PI_ PACKAGE LEAFLET.json : Match Passed | H | CAP |  en | 3 | Adakveo-4874 EN PI_ PACKAGE LEAFLET.json | Doc txt :- 'Other sources of information' | Qrd txt :- 'Other sources of information' | Matched :- 'True'\n",
      "2021-05-11 01:55:58,816 : Heading Extraction Adakveo-4874 EN PI_ PACKAGE LEAFLET.json : Validation Passed | H | CAP |  en | 3 | Adakveo-4874 EN PI_ PACKAGE LEAFLET.json | currHeadId :- '23029' | currParentHeadId :- '23023.0' | prevParentHeadId :- '23028'\n"
     ]
    },
    {
     "name": "stdout",
     "output_type": "stream",
     "text": [
      "b'Other sources of information'  |===|  b'Other sources of information'\n",
      "True  ||    ||  b'Other sources of information'  ||  b'Other sources of information'\n"
     ]
    },
    {
     "name": "stderr",
     "output_type": "stream",
     "text": [
      " site: http://www.ema.europa.eu' | Qrd txt :- 'Pregnancy <and> <,> breast-feeding <and fertility>' | Matched :- 'False'3 | Adakveo-4874 EN PI_ PACKAGE LEAFLET.json | Doc txt :- 'Detailed\n",
      " site: http://www.ema.europa.eu' | Qrd txt :- 'This leaflet was last revised in <{MM/YYYY}><{month YYYY}>.' | Matched :- 'False'eo-4874 EN PI_ PACKAGE LEAFLET.json | Doc txt :- 'Detailed\n",
      " information is intended for healthcare professionals only:' | Qrd txt :- 'Pregnancy <and> <,> breast-feeding <and fertility>' | Matched :- 'False'AGE LEAFLET.json | Doc txt :- 'The following\n",
      " information is intended for healthcare professionals only:' | Qrd txt :- 'This leaflet was last revised in <{MM/YYYY}><{month YYYY}>.' | Matched :- 'False'ET.json | Doc txt :- 'The following\n",
      " information is intended for healthcare professionals only:' | Qrd txt :- 'The following information is intended for healthcare professionals only:' | Matched :- 'True'c txt :- 'The following\n",
      "2021-05-11 01:55:59,751 : Heading Extraction Adakveo-4874 EN PI_ PACKAGE LEAFLET.json : Validation Passed | H | CAP |  en | 3 | Adakveo-4874 EN PI_ PACKAGE LEAFLET.json | currHeadId :- '23030' | currParentHeadId :- '23001.0' | prevParentHeadId :- '23029'\n",
      " are for single use only.' | Qrd txt :- 'Pregnancy <and> <,> breast-feeding <and fertility>' | Matched :- 'False' en | 3 | Adakveo-4874 EN PI_ PACKAGE LEAFLET.json | Doc txt :- 'Adakveo vials\n",
      " are for single use only.' | Qrd txt :- 'This leaflet was last revised in <{MM/YYYY}><{month YYYY}>.' | Matched :- 'False' Adakveo-4874 EN PI_ PACKAGE LEAFLET.json | Doc txt :- 'Adakveo vials\n"
     ]
    },
    {
     "name": "stdout",
     "output_type": "stream",
     "text": [
      "b'The following\\r information is intended for healthcare professionals only:'  |===|  b'The following information is intended for healthcare professionals only:'\n",
      "True  ||    ||  b'The following\\r information is intended for healthcare professionals only:'  ||  b'The following information is intended for healthcare professionals only:'\n"
     ]
    },
    {
     "name": "stderr",
     "output_type": "stream",
     "text": [
      "2021-05-11 01:55:59,999 : Heading Extraction Adakveo-4874 EN PI_ PACKAGE LEAFLET.json : Match Failed | H | CAP |  en | 3 | Adakveo-4874 EN PI_ PACKAGE LEAFLET.json | Doc txt :- 'Preparing the infusion' | Qrd txt :- 'Pregnancy <and> <,> breast-feeding <and fertility>' | Matched :- 'False'\n",
      "2021-05-11 01:56:00,097 : Heading Extraction Adakveo-4874 EN PI_ PACKAGE LEAFLET.json : Match Failed | H | CAP |  en | 3 | Adakveo-4874 EN PI_ PACKAGE LEAFLET.json | Doc txt :- 'Preparing the infusion' | Qrd txt :- 'This leaflet was last revised in <{MM/YYYY}><{month YYYY}>.' | Matched :- 'False'\n",
      " aseptic techniques.' | Qrd txt :- 'Pregnancy <and> <,> breast-feeding <and fertility>' | Matched :- 'False'AP |  en | 3 | Adakveo-4874 EN PI_ PACKAGE LEAFLET.json | Doc txt :- 'The diluted\n",
      " aseptic techniques.' | Qrd txt :- 'This leaflet was last revised in <{MM/YYYY}><{month YYYY}>.' | Matched :- 'False'| 3 | Adakveo-4874 EN PI_ PACKAGE LEAFLET.json | Doc txt :- 'The diluted\n",
      " of crizanlizumab is administered per kg body weight.' | Qrd txt :- 'Pregnancy <and> <,> breast-feeding <and fertility>' | Matched :- 'False'_ PACKAGE LEAFLET.json | Doc txt :- 'The total dose\n",
      " of crizanlizumab is administered per kg body weight.' | Qrd txt :- 'This leaflet was last revised in <{MM/YYYY}><{month YYYY}>.' | Matched :- 'False' LEAFLET.json | Doc txt :- 'The total dose\n",
      " calculated according to the following equation:' | Qrd txt :- 'Pregnancy <and> <,> breast-feeding <and fertility>' | Matched :- 'False'EN PI_ PACKAGE LEAFLET.json | Doc txt :- 'The volume to be used for the preparation of the infusion is\n",
      " calculated according to the following equation:' | Qrd txt :- 'This leaflet was last revised in <{MM/YYYY}><{month YYYY}>.' | Matched :- 'False'CKAGE LEAFLET.json | Doc txt :- 'The volume to be used for the preparation of the infusion is\n",
      "   of Adakveo   [10 mg/ml]   ' | Qrd txt :- 'Pregnancy <and> <,> breast-feeding <and fertility>' | Matched :- 'False'| 3 | Adakveo-4874 EN PI_ PACKAGE LEAFLET.json | Doc txt :- '   Volume (ml) =   Patient’s body weight (kg) x prescribed dose   [5 mg/kg]     Concentration\n",
      "   of Adakveo   [10 mg/ml]   ' | Qrd txt :- 'This leaflet was last revised in <{MM/YYYY}><{month YYYY}>.' | Matched :- 'False'kveo-4874 EN PI_ PACKAGE LEAFLET.json | Doc txt :- '   Volume (ml) =   Patient’s body weight (kg) x prescribed dose   [5 mg/kg]     Concentration\n",
      " 10 ml of Adakveo (see below table).' | Qrd txt :- 'Pregnancy <and> <,> breast-feeding <and fertility>' | Matched :- 'False'dakveo-4874 EN PI_ PACKAGE LEAFLET.json | Doc txt :- '1.       Obtain the number of\n",
      " 10 ml of Adakveo (see below table).' | Qrd txt :- 'This leaflet was last revised in <{MM/YYYY}><{month YYYY}>.' | Matched :- 'False'74 EN PI_ PACKAGE LEAFLET.json | Doc txt :- '1.       Obtain the number of\n",
      "2021-05-11 01:56:05,626 : Heading Extraction Adakveo-4874 EN PI_ PACKAGE LEAFLET.json : Match Failed | H | CAP |  en | 3 | Adakveo-4874 EN PI_ PACKAGE LEAFLET.json | Doc txt :- '   Body weight (kg)   Dose (mg)   Volume (ml)   Vials (n)     40   200   20   2     60   300   30   3     80   400   40   4     100   500   50   5     120   600   60   6   ' | Qrd txt :- 'Pregnancy <and> <,> breast-feeding <and fertility>' | Matched :- 'False'\n",
      "2021-05-11 01:56:06,166 : Heading Extraction Adakveo-4874 EN PI_ PACKAGE LEAFLET.json : Match Failed | H | CAP |  en | 3 | Adakveo-4874 EN PI_ PACKAGE LEAFLET.json | Doc txt :- '   Body weight (kg)   Dose (mg)   Volume (ml)   Vials (n)     40   200   20   2     60   300   30   3     80   400   40   4     100   500   50   5     120   600   60   6   ' | Qrd txt :- 'This leaflet was last revised in <{MM/YYYY}><{month YYYY}>.' | Matched :- 'False'\n",
      "2021-05-11 01:56:06,495 : Heading Extraction Adakveo-4874 EN PI_ PACKAGE LEAFLET.json : Match Failed | H | CAP |  en | 3 | Adakveo-4874 EN PI_ PACKAGE LEAFLET.json | Doc txt :- '2.       Visually inspect the vials.' | Qrd txt :- 'Pregnancy <and> <,> breast-feeding <and fertility>' | Matched :- 'False'\n",
      "2021-05-11 01:56:06,808 : Heading Extraction Adakveo-4874 EN PI_ PACKAGE LEAFLET.json : Match Failed | H | CAP |  en | 3 | Adakveo-4874 EN PI_ PACKAGE LEAFLET.json | Doc txt :- '2.       Visually inspect the vials.' | Qrd txt :- 'This leaflet was last revised in <{MM/YYYY}><{month YYYY}>.' | Matched :- 'False'\n",
      " opalescent. Do not use if particles are present in the solution.' | Qrd txt :- 'Pregnancy <and> <,> breast-feeding <and fertility>' | Matched :- 'False'AFLET.json | Doc txt :- '-The solution in the vials should be clear to\n",
      " opalescent. Do not use if particles are present in the solution.' | Qrd txt :- 'This leaflet was last revised in <{MM/YYYY}><{month YYYY}>.' | Matched :- 'False'n | Doc txt :- '-The solution in the vials should be clear to\n",
      " slight brownish‑yellow tint.' | Qrd txt :- 'Pregnancy <and> <,> breast-feeding <and fertility>' | Matched :- 'False'| 3 | Adakveo-4874 EN PI_ PACKAGE LEAFLET.json | Doc txt :- '-The solution should be colourless or may have a\n",
      " slight brownish‑yellow tint.' | Qrd txt :- 'This leaflet was last revised in <{MM/YYYY}><{month YYYY}>.' | Matched :- 'False'kveo-4874 EN PI_ PACKAGE LEAFLET.json | Doc txt :- '-The solution should be colourless or may have a\n",
      " containing either sodium chloride 9 mg/ml (0.9%) solution for injection or dextrose 5% and discard.' | Qrd txt :- 'Pregnancy <and> <,> breast-feeding <and fertility>' | Matched :- 'False'ithdraw a volume\n",
      " containing either sodium chloride 9 mg/ml (0.9%) solution for injection or dextrose 5% and discard.' | Qrd txt :- 'This leaflet was last revised in <{MM/YYYY}><{month YYYY}>.' | Matched :- 'False' volume\n",
      " (PE) and polypropylene (PP) have been observed.' | Qrd txt :- 'Pregnancy <and> <,> breast-feeding <and fertility>' | Matched :- 'False'EN PI_ PACKAGE LEAFLET.json | Doc txt :- '-No incompatibilities between the diluted Adakveo\n",
      " (PE) and polypropylene (PP) have been observed.' | Qrd txt :- 'This leaflet was last revised in <{MM/YYYY}><{month YYYY}>.' | Matched :- 'False'CKAGE LEAFLET.json | Doc txt :- '-No incompatibilities between the diluted Adakveo\n",
      " infusion bag.' | Qrd txt :- 'Pregnancy <and> <,> breast-feeding <and fertility>' | Matched :- 'False' H | CAP |  en | 3 | Adakveo-4874 EN PI_ PACKAGE LEAFLET.json | Doc txt :- '4.       Withdraw the necessary\n",
      " infusion bag.' | Qrd txt :- 'This leaflet was last revised in <{MM/YYYY}><{month YYYY}>.' | Matched :- 'False'|  en | 3 | Adakveo-4874 EN PI_ PACKAGE LEAFLET.json | Doc txt :- '4.       Withdraw the necessary\n",
      " products through the same intravenous line.' | Qrd txt :- 'Pregnancy <and> <,> breast-feeding <and fertility>' | Matched :- 'False'874 EN PI_ PACKAGE LEAFLET.json | Doc txt :- '-The solution must not be mixed or co‑administered with other medicinal\n",
      " products through the same intravenous line.' | Qrd txt :- 'This leaflet was last revised in <{MM/YYYY}><{month YYYY}>.' | Matched :- 'False'_ PACKAGE LEAFLET.json | Doc txt :- '-The solution must not be mixed or co‑administered with other medicinal\n",
      " concentration in the infusion bag within 1 mg/ml to 9.6 mg/ml.' | Qrd txt :- 'Pregnancy <and> <,> breast-feeding <and fertility>' | Matched :- 'False'LEAFLET.json | Doc txt :- '-Keep the volume of Adakveo added to the infusion\n",
      " concentration in the infusion bag within 1 mg/ml to 9.6 mg/ml.' | Qrd txt :- 'This leaflet was last revised in <{MM/YYYY}><{month YYYY}>.' | Matched :- 'False'son | Doc txt :- '-Keep the volume of Adakveo added to the infusion\n",
      " diluted solution by gently inverting the infusion bag. DO NOT SHAKE.' | Qrd txt :- 'Pregnancy <and> <,> breast-feeding <and fertility>' | Matched :- 'False'T.json | Doc txt :- '5.       Mix the\n",
      " diluted solution by gently inverting the infusion bag. DO NOT SHAKE.' | Qrd txt :- 'This leaflet was last revised in <{MM/YYYY}><{month YYYY}>.' | Matched :- 'False'Doc txt :- '5.       Mix the\n",
      "2021-05-11 01:56:18,301 : Heading Extraction Adakveo-4874 EN PI_ PACKAGE LEAFLET.json : Match Failed | H | CAP |  en | 3 | Adakveo-4874 EN PI_ PACKAGE LEAFLET.json | Doc txt :- 'Storage of the diluted solution' | Qrd txt :- 'Pregnancy <and> <,> breast-feeding <and fertility>' | Matched :- 'False'\n",
      "2021-05-11 01:56:18,457 : Heading Extraction Adakveo-4874 EN PI_ PACKAGE LEAFLET.json : Match Failed | H | CAP |  en | 3 | Adakveo-4874 EN PI_ PACKAGE LEAFLET.json | Doc txt :- 'Storage of the diluted solution' | Qrd txt :- 'This leaflet was last revised in <{MM/YYYY}><{month YYYY}>.' | Matched :- 'False'\n"
     ]
    },
    {
     "name": "stderr",
     "output_type": "stream",
     "text": [
      " overall.' | Qrd txt :- 'Pregnancy <and> <,> breast-feeding <and fertility>' | Matched :- 'False'led | H | CAP |  en | 3 | Adakveo-4874 EN PI_ PACKAGE LEAFLET.json | Doc txt :- 'Chemical and\n",
      " overall.' | Qrd txt :- 'This leaflet was last revised in <{MM/YYYY}><{month YYYY}>.' | Matched :- 'False' CAP |  en | 3 | Adakveo-4874 EN PI_ PACKAGE LEAFLET.json | Doc txt :- 'Chemical and\n",
      "2021-05-11 01:56:19,591 : Heading Extraction Adakveo-4874 EN PI_ PACKAGE LEAFLET.json : Match Failed | H | CAP |  en | 3 | Adakveo-4874 EN PI_ PACKAGE LEAFLET.json | Doc txt :- 'Administration' | Qrd txt :- 'Pregnancy <and> <,> breast-feeding <and fertility>' | Matched :- 'False'\n",
      "2021-05-11 01:56:19,656 : Heading Extraction Adakveo-4874 EN PI_ PACKAGE LEAFLET.json : Match Failed | H | CAP |  en | 3 | Adakveo-4874 EN PI_ PACKAGE LEAFLET.json | Doc txt :- 'Administration' | Qrd txt :- 'This leaflet was last revised in <{MM/YYYY}><{month YYYY}>.' | Matched :- 'False'\n",
      " chloride 9 mg/ml (0.9%) solution for injection or dextrose 5%.' | Qrd txt :- 'Pregnancy <and> <,> breast-feeding <and fertility>' | Matched :- 'False'LEAFLET.json | Doc txt :- 'After\n",
      " chloride 9 mg/ml (0.9%) solution for injection or dextrose 5%.' | Qrd txt :- 'This leaflet was last revised in <{MM/YYYY}><{month YYYY}>.' | Matched :- 'False'son | Doc txt :- 'After\n",
      " requirements.' | Qrd txt :- 'Pregnancy <and> <,> breast-feeding <and fertility>' | Matched :- 'False' H | CAP |  en | 3 | Adakveo-4874 EN PI_ PACKAGE LEAFLET.json | Doc txt :- 'Any unused\n",
      " requirements.' | Qrd txt :- 'This leaflet was last revised in <{MM/YYYY}><{month YYYY}>.' | Matched :- 'False'|  en | 3 | Adakveo-4874 EN PI_ PACKAGE LEAFLET.json | Doc txt :- 'Any unused\n",
      "2021-05-11 01:56:21,340 : Flow Logger HTML_p : Completed Heading Extraction For File | H | CAP |  en | HTML | Adakveo-4874 EN PI.html\n",
      "2021-05-11 01:56:21,345 : Flow Logger HTML_p : Starting Document Annotation For File | H | CAP |  en | HTML | Adakveo-4874 EN PI.html\n",
      "2021-05-11 01:56:21,355 : Flow Logger HTML_p : Completed Document Annotation | H | CAP |  en | HTML | Adakveo-4874 EN PI.html\n",
      "2021-05-11 01:56:21,358 : Flow Logger HTML_p : Starting Extracting Content Between Heading | H | CAP |  en | HTML | Adakveo-4874 EN PI.html\n",
      "2021-05-11 01:56:21,365 : ExtractContentBetween_3 : Cleaning Match Results | H | CAP |  en | 3 | Adakveo-4874 EN PI_ PACKAGE LEAFLET.json\n",
      "2021-05-11 01:56:21,378 : ExtractContentBetween_3 : Finished Cleaning Match Results | H | CAP |  en | 3 | Adakveo-4874 EN PI_ PACKAGE LEAFLET.json\n",
      "2021-05-11 01:56:21,440 : Flow Logger HTML_p : Completed Extracting Content Between Heading | H | CAP |  en | HTML | Adakveo-4874 EN PI.html\n",
      "2021-05-11 01:56:21,480 : XmlGeneration_3 : PMS/OMS Annotation Information Not Retrieved | H | CAP |  en | 3 | Adakveo-4874 EN PI_ PACKAGE LEAFLET.json\n",
      "2021-05-11 01:56:21,483 : XmlGeneration_3 : Initiating XML Generation | H | CAP |  en | 3 | Adakveo-4874 EN PI_ PACKAGE LEAFLET.json\n"
     ]
    },
    {
     "name": "stdout",
     "output_type": "stream",
     "text": [
      "\n",
      "\n",
      "Heading Not Found \n",
      " ['q This medicine is subject to additional monitoring. This will allow quick identification of new safety information. You can help by reporting any side effects you may get. See the end of section 4 for how to report side effects.', 'Do not <take> <use> X', 'X with <food> <and> <,> <drink> <and> <alcohol>', 'How to <take> <use> X ', 'Use in children <and adolescents>', 'If you <take> <use> more X than you should', 'If you forget to <take> <use> X>', 'If you stop <taking> <using> X>', 'Additional side effects in children <and adolescents>', 'Marketing Authorisation Holder and Manufacturer']\n",
      "\n",
      "\n",
      "dict_keys(['q This medicine is subject to additional monitoring. This will allow quick identification of new safety information. You can help by reporting any side effects you may get. See the end of section 4 for how to report side effects.', '1. What Adakveo is and what it is used for', '2. What you need to know before you <take> <use> Adakveo ', '4. Possible side effects', '5. How to store Adakveo', '6. Contents of the pack and other information', 'Adakveo contains {name the excipient(s)}'])\n",
      "Completed Heading Extraction For File\n",
      "Starting Document Annotation For File :- Adakveo-4874 EN PI_ PACKAGE LEAFLET.json\n",
      "Error Found\n",
      "Completed Document Annotation\n",
      "Starting Extracting Content Between Heading For File :- Adakveo-4874 EN PI_ PACKAGE LEAFLET.json\n",
      "File being processed: F:\\Projects\\EMA\\Repository\\EMA EPI PoC\\function_code\\data\\partitionedJSONs\\H\\CAP\\en\\Adakveo-4874 EN PI_ PACKAGE LEAFLET.json\n",
      "--------------------------------------------\n",
      "Completed Extracting Content Between Heading\n",
      "Already Exists\n"
     ]
    },
    {
     "name": "stderr",
     "output_type": "stream",
     "text": [
      "2021-05-11 01:56:21,734 : XmlGeneration_3 : Writing to File:Adakveo-4874 EN PI_ PACKAGE LEAFLET.xml | H | CAP |  en | 3 | Adakveo-4874 EN PI_ PACKAGE LEAFLET.json\n",
      "2021-05-11 01:56:23,485 : XML Submission Logger_3 : Initiating Submission To FHIR Server | H | CAP |  en | 3 | Adakveo-4874 EN PI_ PACKAGE LEAFLET.json\n",
      "2021-05-11 01:56:23,490 : XML Submission Logger_3 : POST sucessful: XML added with id: 50733669-e9a4-499b-86e9-9518106bd968 | H | CAP |  en | 3 | Adakveo-4874 EN PI_ PACKAGE LEAFLET.json\n",
      "2021-05-11 01:56:23,496 : Flow Logger HTML_p : Completed Processing Partitioned Jsons | H | CAP |  en | HTML | Adakveo-4874 EN PI.html\n"
     ]
    },
    {
     "name": "stdout",
     "output_type": "stream",
     "text": [
      "POST sucessful: XML added with id 50733669-e9a4-499b-86e9-9518106bd968\n",
      "Created XML File For :- Adakveo-4874 EN PI_ PACKAGE LEAFLET.json\n"
     ]
    }
   ],
   "source": [
    "parseDocument(\"F:\\\\Projects\\\\EMA\\\\Repository\\\\EMA EPI PoC\\\\function_code\\\\data\\\\converted_to_html\\\\H\\\\CAP\\\\en\\\\Adakveo-4874 EN PI.html\", fileNameQrd, fileNameMatchRuleBook, fileNameDocumentTypeNames, medName = \"Adakveo\", fsMountName = '/mounted', localEnv= True)"
   ]
  },
  {
   "cell_type": "code",
   "execution_count": 4,
   "metadata": {},
   "outputs": [
    {
     "name": "stderr",
     "output_type": "stream",
     "text": [
      "2021-05-11 02:37:10,668 : Flow Logger HTML_T : Starting HTML Conversion To Json | H | CAP |  bg | HTML | emea-combined-h-2494-bg.htm\n",
      "2021-05-11 02:37:10,687 : Style Dictionary_7 : Reading style dictionary in file: rule_dictionary_bg.json | H | CAP |  bg | HTML | emea-combined-h-2494-bg.htm\n",
      "2021-05-11 02:37:10,790 : Style Dictionary_7 : Qrd Section Keys Retrieved For Style Dictionary: ПРИЛОЖЕНИЕ I, ПРИЛОЖЕНИЕ II, ПРИЛОЖЕНИЕ III, B.  ЛИСТОВКА | H | CAP |  bg | HTML | emea-combined-h-2494-bg.htm\n"
     ]
    },
    {
     "name": "stdout",
     "output_type": "stream",
     "text": [
      "['F:', 'Projects', 'EMA', 'Repository', 'EMA EPI PoC', 'function_code', 'data', 'converted_to_html', 'H', 'CAP', 'bg', 'emea-combined-h-2494-bg.htm']\n",
      "emea-combined-h-2494-bg.htm bg CAP\n",
      "------------- F:\\Projects\\EMA\\Repository\\EMA EPI PoC\\function_code\\data\\outputJSON\\H\\CAP\\bg\\emea-combined-h-2494-bg.txt -----------------\n",
      "F:\\Projects\\EMA\\Repository\\EMA EPI PoC\\function_code\\data\\converted_to_html\\H\\CAP\\bg\\emea-combined-h-2494-bg.htm F:\\Projects\\EMA\\Repository\\EMA EPI PoC\\function_code\\data\\outputJSON\\H\\CAP\\bg\\emea-combined-h-2494-bg.json\n"
     ]
    },
    {
     "name": "stderr",
     "output_type": "stream",
     "text": [
      "2021-05-11 02:37:15,282 : Parser_2 : Style Information Stored In File: F:\\Projects\\EMA\\Repository\\EMA EPI PoC\\function_code\\data\\outputJSON\\H\\CAP\\bg\\emea-combined-h-2494-bg.txt | H | CAP |  bg | HTML | emea-combined-h-2494-bg.htm\n",
      "2021-05-11 02:37:32,258 : Parser_2 : Writing to file: F:\\Projects\\EMA\\Repository\\EMA EPI PoC\\function_code\\data\\outputJSON\\H\\CAP\\bg\\emea-combined-h-2494-bg.json | H | CAP |  bg | HTML | emea-combined-h-2494-bg.htm\n",
      "2021-05-11 02:37:33,083 : Flow Logger HTML_T : Completed HTML Conversion To Json | H | CAP |  bg | HTML | emea-combined-h-2494-bg.htm\n",
      "2021-05-11 02:37:33,086 : Flow Logger HTML_T : Starting Json Split | H | CAP |  bg | HTML | emea-combined-h-2494-bg.htm\n",
      "2021-05-11 02:37:33,141 : Style Dictionary_X : Reading style dictionary in file: rule_dictionary_bg.json | H | CAP |  bg | Json | emea-combined-h-2494-bg.json\n",
      "2021-05-11 02:37:33,254 : Style Dictionary_X : Qrd Section Keys Retrieved For Style Dictionary: ПРИЛОЖЕНИЕ I, ПРИЛОЖЕНИЕ II, ПРИЛОЖЕНИЕ III, B.  ЛИСТОВКА | H | CAP |  bg | Json | emea-combined-h-2494-bg.json\n",
      "2021-05-11 02:37:33,275 : Partition_F : Partitioning Json: emea-combined-h-2494-bg.json | H | CAP |  bg | Json | emea-combined-h-2494-bg.json\n",
      "2021-05-11 02:37:34,278 : Partition_F : Writing partition to file: F:\\Projects\\EMA\\Repository\\EMA EPI PoC\\function_code\\data\\partitionedJSONs\\H\\CAP\\bg\\emea-combined-h-2494-bg_SmPC.json | H | CAP |  bg | Json | emea-combined-h-2494-bg.json\n",
      "2021-05-11 02:37:34,555 : Flow Logger HTML_T : ['emea-combined-h-2494-bg_SmPC.json'] | H | CAP |  bg | HTML | emea-combined-h-2494-bg.htm\n",
      "2021-05-11 02:37:34,559 : Flow Logger HTML_T : Completed Json Split | H | CAP |  bg | HTML | emea-combined-h-2494-bg.htm\n",
      "2021-05-11 02:37:34,562 : Flow Logger HTML_T : Started Processing Partitioned Jsons | H | CAP |  bg | HTML | emea-combined-h-2494-bg.htm\n",
      "2021-05-11 02:37:34,566 : Flow Logger HTML_T : \n",
      "\n",
      "\n",
      "\n",
      "||||||||||||||||||||||||||||||||0 ||||| emea-combined-h-2494-bg_SmPC.json||||||||||||||||||||||||||||||||\n",
      "\n",
      "\n",
      "\n",
      " | H | CAP |  bg | HTML | emea-combined-h-2494-bg.htm\n",
      "2021-05-11 02:37:34,576 : Heading Extraction emea-combined-h-2494-bg_SmPC.json : Starting Heading Extraction | H | CAP |  bg | 0 | emea-combined-h-2494-bg_SmPC.json\n"
     ]
    },
    {
     "name": "stdout",
     "output_type": "stream",
     "text": [
      "Starting Heading Extraction For File :- emea-combined-h-2494-bg_SmPC.json\n",
      "File being processed: F:\\Projects\\EMA\\Repository\\EMA EPI PoC\\function_code\\data\\partitionedJSONs\\H\\CAP\\bg\\emea-combined-h-2494-bg_SmPC.json\n",
      "--------------------------------------------\n",
      "SmPC\n"
     ]
    },
    {
     "name": "stderr",
     "output_type": "stream",
     "text": [
      "2021-05-11 02:37:35,419 : Heading Extraction emea-combined-h-2494-bg_SmPC.json : Started Extracting Heading | H | CAP |  bg | 0 | emea-combined-h-2494-bg_SmPC.json\n",
      " НА ПРОДУКТА' | Qrd txt :- 'КРАТКА ХАРАКТЕРИСТИКА НА ПРОДУКТА' | Matched :- 'True'atch Passed | H | CAP |  bg | 0 | emea-combined-h-2494-bg_SmPC.json | Doc txt :- 'КРАТКА\n",
      "2021-05-11 02:37:35,942 : Heading Extraction emea-combined-h-2494-bg_SmPC.json : Validation Passed As This The First Heading | H | CAP |  bg | 0 | emea-combined-h-2494-bg_SmPC.json | currHeadId :- '1' | currParentHeadId :- 'nan' | prevParentHeadId :- ''\n",
      " ПРОДУКТ' | Qrd txt :- '1. ИМЕ НА ЛЕКАРСТВЕНИЯ ПРОДУКТ' | Matched :- 'True'son : Match Passed | H | CAP |  bg | 0 | emea-combined-h-2494-bg_SmPC.json | Doc txt :- '1.       ИМЕ\n",
      "2021-05-11 02:37:36,003 : Heading Extraction emea-combined-h-2494-bg_SmPC.json : Validation Flow Is Broken | H | CAP |  bg | 0 | emea-combined-h-2494-bg_SmPC.json | currHeadId :- '3' | currParentHeadId :- '1.0' | prevParentHeadId :- '1'\n",
      "2021-05-11 02:37:36,012 : Heading Extraction emea-combined-h-2494-bg_SmPC.json : Validation Passed | H | CAP |  bg | 0 | emea-combined-h-2494-bg_SmPC.json | currHeadId :- '3' | currParentHeadId :- '1.0' | prevParentHeadId :- '1'\n",
      "2021-05-11 02:37:36,025 : Heading Extraction emea-combined-h-2494-bg_SmPC.json : Validation Failed By Style | H | CAP |  bg | 0 | emea-combined-h-2494-bg_SmPC.json | currHeadId :- '3' | currParentHeadId :- '1.0' | prevParentHeadId :- '1'\n"
     ]
    },
    {
     "name": "stdout",
     "output_type": "stream",
     "text": [
      "----------------------------------\n",
      "RemovedByStyle\n",
      "----------------------------------\n"
     ]
    },
    {
     "name": "stderr",
     "output_type": "stream",
     "text": [
      " СЪСТАВ' | Qrd txt :- '2. КАЧЕСТВЕН И КОЛИЧЕСТВЕН СЪСТАВ' | Matched :- 'True'n : Match Passed | H | CAP |  bg | 0 | emea-combined-h-2494-bg_SmPC.json | Doc txt :- '2.       КАЧЕСТВЕН\n",
      "2021-05-11 02:37:37,590 : Heading Extraction emea-combined-h-2494-bg_SmPC.json : Validation Flow Is Broken | H | CAP |  bg | 0 | emea-combined-h-2494-bg_SmPC.json | currHeadId :- '4' | currParentHeadId :- '1.0' | prevParentHeadId :- '1'\n",
      "2021-05-11 02:37:37,601 : Heading Extraction emea-combined-h-2494-bg_SmPC.json : Validation Passed | H | CAP |  bg | 0 | emea-combined-h-2494-bg_SmPC.json | currHeadId :- '4' | currParentHeadId :- '1.0' | prevParentHeadId :- '1'\n",
      "2021-05-11 02:37:37,615 : Heading Extraction emea-combined-h-2494-bg_SmPC.json : Validation Failed By Style | H | CAP |  bg | 0 | emea-combined-h-2494-bg_SmPC.json | currHeadId :- '4' | currParentHeadId :- '1.0' | prevParentHeadId :- '1'\n",
      " състав' | Qrd txt :- '2.2 качествен и количествен състав' | Matched :- 'True' : Match Passed | H | CAP |  bg | 0 | emea-combined-h-2494-bg_SmPC.json | Doc txt :- '2.       качествен\n",
      " СЪСТАВ' | Qrd txt :- '2.2 Качествен и количествен състав' | Matched :- 'True' : Match Passed In Lowercase | H | CAP |  bg | 0 | emea-combined-h-2494-bg_SmPC.json | Doc txt :- '2.       КАЧЕСТВЕН\n",
      "2021-05-11 02:37:37,674 : Heading Extraction emea-combined-h-2494-bg_SmPC.json : Validation Flow Is Broken | H | CAP |  bg | 0 | emea-combined-h-2494-bg_SmPC.json | currHeadId :- '6' | currParentHeadId :- '4.0' | prevParentHeadId :- '1'\n",
      "2021-05-11 02:37:37,686 : Heading Extraction emea-combined-h-2494-bg_SmPC.json : Validation Passed | H | CAP |  bg | 0 | emea-combined-h-2494-bg_SmPC.json | currHeadId :- '6' | currParentHeadId :- '4.0' | prevParentHeadId :- '1'\n",
      "2021-05-11 02:37:37,698 : Heading Extraction emea-combined-h-2494-bg_SmPC.json : Validation Failed By Style | H | CAP |  bg | 0 | emea-combined-h-2494-bg_SmPC.json | currHeadId :- '6' | currParentHeadId :- '4.0' | prevParentHeadId :- '1'\n"
     ]
    },
    {
     "name": "stdout",
     "output_type": "stream",
     "text": [
      "----------------------------------\n",
      "RemovedByStyle\n",
      "----------------------------------\n",
      "\n",
      "OriginalCheck\n",
      "\n",
      "----------------------------------\n",
      "RemovedByStyle\n",
      "----------------------------------\n"
     ]
    },
    {
     "name": "stderr",
     "output_type": "stream",
     "text": [
      "2021-05-11 02:37:39,212 : Heading Extraction emea-combined-h-2494-bg_SmPC.json : Match Failed In Lowercase | H | CAP |  bg | 0 | emea-combined-h-2494-bg_SmPC.json | Doc txt :- 'Помощно\r",
      " вещество с\r",
      " известно\r",
      " действие' | Qrd txt :- 'Помощно(и) вещество(а) с известно действие' | Matched :- 'False'\n"
     ]
    },
    {
     "name": "stdout",
     "output_type": "stream",
     "text": [
      "\n",
      "OriginalCheck\n",
      "\n"
     ]
    },
    {
     "name": "stderr",
     "output_type": "stream",
     "text": [
      " монохидрат.' | Qrd txt :- '6.5 Вид и съдържание на опаковката <и специални приспособления за употреба, приложение или имплантиране>' | Matched :- 'False'c txt :- 'Всяка\n",
      " действие' | Qrd txt :- 'Помощно(и) вещество(а) с известно действие' | Matched :- 'False'iled In Lowercase | H | CAP |  bg | 0 | emea-combined-h-2494-bg_SmPC.json | Doc txt :- 'Помощно\n"
     ]
    },
    {
     "name": "stdout",
     "output_type": "stream",
     "text": [
      "\n",
      "OriginalCheck\n",
      "\n"
     ]
    },
    {
     "name": "stderr",
     "output_type": "stream",
     "text": [
      " лактоза монохидрат.' | Qrd txt :- '6.5 Вид и съдържание на опаковката <и специални приспособления за употреба, приложение или имплантиране>' | Matched :- 'False' 'Всяка филмирана\n",
      " ФОРМА' | Qrd txt :- '3. ЛЕКАРСТВЕНА ФОРМА' | Matched :- 'True'94-bg_SmPC.json : Match Passed | H | CAP |  bg | 0 | emea-combined-h-2494-bg_SmPC.json | Doc txt :- '3.       ЛЕКАРСТВЕНА\n",
      "2021-05-11 02:37:43,384 : Heading Extraction emea-combined-h-2494-bg_SmPC.json : Validation Flow Is Broken | H | CAP |  bg | 0 | emea-combined-h-2494-bg_SmPC.json | currHeadId :- '8' | currParentHeadId :- '1.0' | prevParentHeadId :- '1'\n",
      "2021-05-11 02:37:43,394 : Heading Extraction emea-combined-h-2494-bg_SmPC.json : Validation Passed | H | CAP |  bg | 0 | emea-combined-h-2494-bg_SmPC.json | currHeadId :- '8' | currParentHeadId :- '1.0' | prevParentHeadId :- '1'\n",
      "2021-05-11 02:37:43,404 : Heading Extraction emea-combined-h-2494-bg_SmPC.json : Validation Failed By Style | H | CAP |  bg | 0 | emea-combined-h-2494-bg_SmPC.json | currHeadId :- '8' | currParentHeadId :- '1.0' | prevParentHeadId :- '1'\n"
     ]
    },
    {
     "name": "stdout",
     "output_type": "stream",
     "text": [
      "----------------------------------\n",
      "RemovedByStyle\n",
      "----------------------------------\n"
     ]
    },
    {
     "name": "stderr",
     "output_type": "stream",
     "text": [
      " форма).' | Qrd txt :- '6.5 Вид и съдържание на опаковката <и специални приспособления за употреба, приложение или имплантиране>' | Matched :- 'False'| Doc txt :- 'Светлосини,\n",
      " форма).' | Qrd txt :- '6.5 Вид и съдържание на опаковката <и специални приспособления за употреба, приложение или имплантиране>' | Matched :- 'False'| Doc txt :- 'Светлосини,\n",
      " ДАННИ' | Qrd txt :- '4. КЛИНИЧНИ ДАННИ' | Matched :- 'True'-2494-bg_SmPC.json : Match Passed | H | CAP |  bg | 0 | emea-combined-h-2494-bg_SmPC.json | Doc txt :- '4.       КЛИНИЧНИ\n",
      "2021-05-11 02:37:45,722 : Heading Extraction emea-combined-h-2494-bg_SmPC.json : Validation Flow Is Broken | H | CAP |  bg | 0 | emea-combined-h-2494-bg_SmPC.json | currHeadId :- '9' | currParentHeadId :- '1.0' | prevParentHeadId :- '1'\n",
      "2021-05-11 02:37:45,726 : Heading Extraction emea-combined-h-2494-bg_SmPC.json : Validation Passed | H | CAP |  bg | 0 | emea-combined-h-2494-bg_SmPC.json | currHeadId :- '9' | currParentHeadId :- '1.0' | prevParentHeadId :- '1'\n",
      "2021-05-11 02:37:45,730 : Heading Extraction emea-combined-h-2494-bg_SmPC.json : Validation Failed By Style | H | CAP |  bg | 0 | emea-combined-h-2494-bg_SmPC.json | currHeadId :- '9' | currParentHeadId :- '1.0' | prevParentHeadId :- '1'\n",
      " показания' | Qrd txt :- '4.1 Терапевтични показания ' | Matched :- 'True'json : Match Passed | H | CAP |  bg | 0 | emea-combined-h-2494-bg_SmPC.json | Doc txt :- '4.1     Терапевтични\n"
     ]
    },
    {
     "name": "stdout",
     "output_type": "stream",
     "text": [
      "----------------------------------\n",
      "RemovedByStyle\n",
      "----------------------------------\n"
     ]
    },
    {
     "name": "stderr",
     "output_type": "stream",
     "text": [
      "2021-05-11 02:37:45,940 : Heading Extraction emea-combined-h-2494-bg_SmPC.json : Validation Flow Is Broken | H | CAP |  bg | 0 | emea-combined-h-2494-bg_SmPC.json | currHeadId :- '10' | currParentHeadId :- '9.0' | prevParentHeadId :- '1'\n",
      "2021-05-11 02:37:45,946 : Heading Extraction emea-combined-h-2494-bg_SmPC.json : Validation Passed | H | CAP |  bg | 0 | emea-combined-h-2494-bg_SmPC.json | currHeadId :- '10' | currParentHeadId :- '9.0' | prevParentHeadId :- '1'\n",
      "2021-05-11 02:37:45,952 : Heading Extraction emea-combined-h-2494-bg_SmPC.json : Validation Failed By Style | H | CAP |  bg | 0 | emea-combined-h-2494-bg_SmPC.json | currHeadId :- '10' | currParentHeadId :- '9.0' | prevParentHeadId :- '1'\n"
     ]
    },
    {
     "name": "stdout",
     "output_type": "stream",
     "text": [
      "----------------------------------\n",
      "RemovedByStyle\n",
      "----------------------------------\n"
     ]
    },
    {
     "name": "stderr",
     "output_type": "stream",
     "text": [
      " приложение' | Qrd txt :- '4.2 Дозировка и начин на приложение' | Matched :- 'True'tch Passed | H | CAP |  bg | 0 | emea-combined-h-2494-bg_SmPC.json | Doc txt :- '4.2     Дозировка\n",
      "2021-05-11 02:37:46,519 : Heading Extraction emea-combined-h-2494-bg_SmPC.json : Validation Flow Is Broken | H | CAP |  bg | 0 | emea-combined-h-2494-bg_SmPC.json | currHeadId :- '11' | currParentHeadId :- '9.0' | prevParentHeadId :- '1'\n",
      "2021-05-11 02:37:46,525 : Heading Extraction emea-combined-h-2494-bg_SmPC.json : Validation Passed | H | CAP |  bg | 0 | emea-combined-h-2494-bg_SmPC.json | currHeadId :- '11' | currParentHeadId :- '9.0' | prevParentHeadId :- '1'\n",
      "2021-05-11 02:37:46,531 : Heading Extraction emea-combined-h-2494-bg_SmPC.json : Validation Failed By Style | H | CAP |  bg | 0 | emea-combined-h-2494-bg_SmPC.json | currHeadId :- '11' | currParentHeadId :- '9.0' | prevParentHeadId :- '1'\n",
      " приложение' | Qrd txt :- 'Начин на приложение' | Matched :- 'False'_SmPC.json : Match Failed In Lowercase | H | CAP |  bg | 0 | emea-combined-h-2494-bg_SmPC.json | Doc txt :- '4.2     Дозировка\n"
     ]
    },
    {
     "name": "stdout",
     "output_type": "stream",
     "text": [
      "----------------------------------\n",
      "RemovedByStyle\n",
      "----------------------------------\n",
      "\n",
      "OriginalCheck\n",
      "\n"
     ]
    },
    {
     "name": "stderr",
     "output_type": "stream",
     "text": [
      "2021-05-11 02:37:46,870 : Heading Extraction emea-combined-h-2494-bg_SmPC.json : Match Failed In Lowercase | H | CAP |  bg | 0 | emea-combined-h-2494-bg_SmPC.json | Doc txt :- 'Дозировка' | Qrd txt :- '4.2 Дозировка и начин на приложение' | Matched :- 'False'\n",
      "2021-05-11 02:37:46,872 : Heading Extraction emea-combined-h-2494-bg_SmPC.json : Match Passed | H | CAP |  bg | 0 | emea-combined-h-2494-bg_SmPC.json | Doc txt :- 'Дозировка' | Qrd txt :- 'Дозировка' | Matched :- 'True'\n",
      "2021-05-11 02:37:46,881 : Heading Extraction emea-combined-h-2494-bg_SmPC.json : Validation Flow Is Broken | H | CAP |  bg | 0 | emea-combined-h-2494-bg_SmPC.json | currHeadId :- '12' | currParentHeadId :- '11.0' | prevParentHeadId :- '1'\n",
      "2021-05-11 02:37:46,893 : Heading Extraction emea-combined-h-2494-bg_SmPC.json : Validation Passed | H | CAP |  bg | 0 | emea-combined-h-2494-bg_SmPC.json | currHeadId :- '12' | currParentHeadId :- '11.0' | prevParentHeadId :- '1'\n",
      "2021-05-11 02:37:46,899 : Heading Extraction emea-combined-h-2494-bg_SmPC.json : Validation Failed By Style | H | CAP |  bg | 0 | emea-combined-h-2494-bg_SmPC.json | currHeadId :- '12' | currParentHeadId :- '11.0' | prevParentHeadId :- '1'\n"
     ]
    },
    {
     "name": "stdout",
     "output_type": "stream",
     "text": [
      "\n",
      "OriginalCheck\n",
      "\n",
      "----------------------------------\n",
      "RemovedByStyle\n",
      "----------------------------------\n"
     ]
    },
    {
     "name": "stderr",
     "output_type": "stream",
     "text": [
      " с Таблица 1.' | Qrd txt :- '6.5 Вид и съдържание на опаковката <и специални приспособления за употреба, приложение или имплантиране>' | Matched :- 'False' txt :- 'При\n",
      " Препоръки за дозиране' | Qrd txt :- '6.6 Специални предпазни мерки при изхвърляне <и работа>' | Matched :- 'False' emea-combined-h-2494-bg_SmPC.json | Doc txt :- 'Таблица 1.\n",
      " приложение“). ' | Qrd txt :- '6.5 Вид и съдържание на опаковката <и специални приспособления за употреба, приложение или имплантиране>' | Matched :- 'False'xt :- 'Сутрешната\n",
      " едновременно.' | Qrd txt :- '6.5 Вид и съдържание на опаковката <и специални приспособления за употреба, приложение или имплантиране>' | Matched :- 'False'txt :- 'Пациентите,\n",
      " на CYP3A' | Qrd txt :- '6.5 Вид и съдържание на опаковката <и специални приспособления за употреба, приложение или имплантиране>' | Matched :- 'False' Doc txt :- 'Таблица2: Препоръки\n",
      " на CYP3A' | Qrd txt :- '6.6 Специални предпазни мерки при изхвърляне <и работа>' | Matched :- 'False'P |  bg | 0 | emea-combined-h-2494-bg_SmPC.json | Doc txt :- 'Таблица2: Препоръки\n",
      " Child-Pugh). ' | Qrd txt :- '6.5 Вид и съдържание на опаковката <и специални приспособления за употреба, приложение или имплантиране>' | Matched :- 'False'txt :- 'Не\n",
      " дневно. ' | Qrd txt :- '6.5 Вид и съдържание на опаковката <и специални приспособления за употреба, приложение или имплантиране>' | Matched :- 'False' Doc txt :- 'При\n",
      " по-рядко. ' | Qrd txt :- '6.5 Вид и съдържание на опаковката <и специални приспособления за употреба, приложение или имплантиране>' | Matched :- 'False'oc txt :- 'При\n",
      " схемата на прилагане.' | Qrd txt :- '6.5 Вид и съдържание на опаковката <и специални приспособления за употреба, приложение или имплантиране>' | Matched :- 'False'При\n",
      " увреждане ' | Qrd txt :- '6.5 Вид и съдържание на опаковката <и специални приспособления за употреба, приложение или имплантиране>' | Matched :- 'False'oc txt :- 'Таблица3:\n",
      " увреждане ' | Qrd txt :- '6.6 Специални предпазни мерки при изхвърляне <и работа>' | Matched :- 'False'|  bg | 0 | emea-combined-h-2494-bg_SmPC.json | Doc txt :- 'Таблица3:\n",
      " популация' | Qrd txt :- 'Педиатрична популация' | Matched :- 'True'_SmPC.json : Match Passed | H | CAP |  bg | 0 | emea-combined-h-2494-bg_SmPC.json | Doc txt :- 'Педиатрична\n",
      "2021-05-11 02:37:52,306 : Heading Extraction emea-combined-h-2494-bg_SmPC.json : Validation Flow Is Broken | H | CAP |  bg | 0 | emea-combined-h-2494-bg_SmPC.json | currHeadId :- '13' | currParentHeadId :- '12.0' | prevParentHeadId :- '1'\n",
      "2021-05-11 02:37:52,319 : Heading Extraction emea-combined-h-2494-bg_SmPC.json : Validation Passed | H | CAP |  bg | 0 | emea-combined-h-2494-bg_SmPC.json | currHeadId :- '13' | currParentHeadId :- '12.0' | prevParentHeadId :- '1'\n",
      "2021-05-11 02:37:52,326 : Heading Extraction emea-combined-h-2494-bg_SmPC.json : Validation Failed By Style | H | CAP |  bg | 0 | emea-combined-h-2494-bg_SmPC.json | currHeadId :- '13' | currParentHeadId :- '12.0' | prevParentHeadId :- '1'\n",
      " популация' | Qrd txt :- 'Педиатрична популация' | Matched :- 'True'_SmPC.json : Match Passed | H | CAP |  bg | 0 | emea-combined-h-2494-bg_SmPC.json | Doc txt :- 'Педиатрична\n",
      "2021-05-11 02:37:52,373 : Heading Extraction emea-combined-h-2494-bg_SmPC.json : Validation Flow Is Broken | H | CAP |  bg | 0 | emea-combined-h-2494-bg_SmPC.json | currHeadId :- '19' | currParentHeadId :- '17.0' | prevParentHeadId :- '1'\n",
      "2021-05-11 02:37:52,384 : Heading Extraction emea-combined-h-2494-bg_SmPC.json : Validation Passed | H | CAP |  bg | 0 | emea-combined-h-2494-bg_SmPC.json | currHeadId :- '19' | currParentHeadId :- '17.0' | prevParentHeadId :- '1'\n",
      "2021-05-11 02:37:52,390 : Heading Extraction emea-combined-h-2494-bg_SmPC.json : Validation Failed By Style | H | CAP |  bg | 0 | emea-combined-h-2494-bg_SmPC.json | currHeadId :- '19' | currParentHeadId :- '17.0' | prevParentHeadId :- '1'\n",
      " популация' | Qrd txt :- 'Педиатрична популация' | Matched :- 'True'_SmPC.json : Match Passed | H | CAP |  bg | 0 | emea-combined-h-2494-bg_SmPC.json | Doc txt :- 'Педиатрична\n",
      "2021-05-11 02:37:52,418 : Heading Extraction emea-combined-h-2494-bg_SmPC.json : Validation Flow Is Broken | H | CAP |  bg | 0 | emea-combined-h-2494-bg_SmPC.json | currHeadId :- '21' | currParentHeadId :- '20.0' | prevParentHeadId :- '1'\n",
      "2021-05-11 02:37:52,431 : Heading Extraction emea-combined-h-2494-bg_SmPC.json : Validation Passed | H | CAP |  bg | 0 | emea-combined-h-2494-bg_SmPC.json | currHeadId :- '21' | currParentHeadId :- '20.0' | prevParentHeadId :- '1'\n",
      "2021-05-11 02:37:52,438 : Heading Extraction emea-combined-h-2494-bg_SmPC.json : Validation Failed By Style | H | CAP |  bg | 0 | emea-combined-h-2494-bg_SmPC.json | currHeadId :- '21' | currParentHeadId :- '20.0' | prevParentHeadId :- '1'\n",
      " популация' | Qrd txt :- 'Педиатрична популация' | Matched :- 'True'_SmPC.json : Match Passed | H | CAP |  bg | 0 | emea-combined-h-2494-bg_SmPC.json | Doc txt :- 'Педиатрична\n",
      "2021-05-11 02:37:52,480 : Heading Extraction emea-combined-h-2494-bg_SmPC.json : Validation Flow Is Broken | H | CAP |  bg | 0 | emea-combined-h-2494-bg_SmPC.json | currHeadId :- '28' | currParentHeadId :- '27.0' | prevParentHeadId :- '1'\n",
      "2021-05-11 02:37:52,493 : Heading Extraction emea-combined-h-2494-bg_SmPC.json : Validation Passed | H | CAP |  bg | 0 | emea-combined-h-2494-bg_SmPC.json | currHeadId :- '28' | currParentHeadId :- '27.0' | prevParentHeadId :- '1'\n"
     ]
    },
    {
     "name": "stdout",
     "output_type": "stream",
     "text": [
      "----------------------------------\n",
      "RemovedByStyle\n",
      "----------------------------------\n",
      "----------------------------------\n",
      "RemovedByStyle\n",
      "----------------------------------\n",
      "----------------------------------\n",
      "RemovedByStyle\n",
      "----------------------------------\n",
      "----------------------------------\n",
      "RemovedByStyle\n",
      "----------------------------------\n"
     ]
    },
    {
     "name": "stderr",
     "output_type": "stream",
     "text": [
      "2021-05-11 02:37:52,499 : Heading Extraction emea-combined-h-2494-bg_SmPC.json : Validation Failed By Style | H | CAP |  bg | 0 | emea-combined-h-2494-bg_SmPC.json | currHeadId :- '28' | currParentHeadId :- '27.0' | prevParentHeadId :- '1'\n",
      " популация' | Qrd txt :- 'Педиатрична популация' | Matched :- 'True'_SmPC.json : Match Passed | H | CAP |  bg | 0 | emea-combined-h-2494-bg_SmPC.json | Doc txt :- 'Педиатрична\n",
      "2021-05-11 02:37:52,529 : Heading Extraction emea-combined-h-2494-bg_SmPC.json : Validation Flow Is Broken | H | CAP |  bg | 0 | emea-combined-h-2494-bg_SmPC.json | currHeadId :- '31' | currParentHeadId :- '30.0' | prevParentHeadId :- '1'\n",
      "2021-05-11 02:37:52,543 : Heading Extraction emea-combined-h-2494-bg_SmPC.json : Validation Passed | H | CAP |  bg | 0 | emea-combined-h-2494-bg_SmPC.json | currHeadId :- '31' | currParentHeadId :- '30.0' | prevParentHeadId :- '1'\n",
      "2021-05-11 02:37:52,551 : Heading Extraction emea-combined-h-2494-bg_SmPC.json : Validation Failed By Style | H | CAP |  bg | 0 | emea-combined-h-2494-bg_SmPC.json | currHeadId :- '31' | currParentHeadId :- '30.0' | prevParentHeadId :- '1'\n",
      " популация' | Qrd txt :- 'Педиатрична популация' | Matched :- 'True'_SmPC.json : Match Passed | H | CAP |  bg | 0 | emea-combined-h-2494-bg_SmPC.json | Doc txt :- 'Педиатрична\n",
      "2021-05-11 02:37:52,595 : Heading Extraction emea-combined-h-2494-bg_SmPC.json : Validation Flow Is Broken | H | CAP |  bg | 0 | emea-combined-h-2494-bg_SmPC.json | currHeadId :- '37' | currParentHeadId :- '33.0' | prevParentHeadId :- '1'\n",
      "2021-05-11 02:37:52,608 : Heading Extraction emea-combined-h-2494-bg_SmPC.json : Validation Passed | H | CAP |  bg | 0 | emea-combined-h-2494-bg_SmPC.json | currHeadId :- '37' | currParentHeadId :- '33.0' | prevParentHeadId :- '1'\n",
      "2021-05-11 02:37:52,616 : Heading Extraction emea-combined-h-2494-bg_SmPC.json : Validation Failed By Style | H | CAP |  bg | 0 | emea-combined-h-2494-bg_SmPC.json | currHeadId :- '37' | currParentHeadId :- '33.0' | prevParentHeadId :- '1'\n"
     ]
    },
    {
     "name": "stdout",
     "output_type": "stream",
     "text": [
      "----------------------------------\n",
      "RemovedByStyle\n",
      "----------------------------------\n",
      "----------------------------------\n",
      "RemovedByStyle\n",
      "----------------------------------\n"
     ]
    },
    {
     "name": "stderr",
     "output_type": "stream",
     "text": [
      " описани в точка4.8,5.1 и5.2.' | Qrd txt :- '6.5 Вид и съдържание на опаковката <и специални приспособления за употреба, приложение или имплантиране>' | Matched :- 'False'те\n",
      " приложение' | Qrd txt :- '4.2 Дозировка и начин на приложение' | Matched :- 'False'ch Failed In Lowercase | H | CAP |  bg | 0 | emea-combined-h-2494-bg_SmPC.json | Doc txt :- 'Начин\n",
      " приложение' | Qrd txt :- 'Начин на приложение' | Matched :- 'True'g_SmPC.json : Match Passed | H | CAP |  bg | 0 | emea-combined-h-2494-bg_SmPC.json | Doc txt :- 'Начин\n",
      "2021-05-11 02:37:53,333 : Heading Extraction emea-combined-h-2494-bg_SmPC.json : Validation Flow Is Broken | H | CAP |  bg | 0 | emea-combined-h-2494-bg_SmPC.json | currHeadId :- '14' | currParentHeadId :- '11.0' | prevParentHeadId :- '1'\n",
      "2021-05-11 02:37:53,347 : Heading Extraction emea-combined-h-2494-bg_SmPC.json : Validation Passed | H | CAP |  bg | 0 | emea-combined-h-2494-bg_SmPC.json | currHeadId :- '14' | currParentHeadId :- '11.0' | prevParentHeadId :- '1'\n",
      "2021-05-11 02:37:53,354 : Heading Extraction emea-combined-h-2494-bg_SmPC.json : Validation Failed By Style | H | CAP |  bg | 0 | emea-combined-h-2494-bg_SmPC.json | currHeadId :- '14' | currParentHeadId :- '11.0' | prevParentHeadId :- '1'\n"
     ]
    },
    {
     "name": "stdout",
     "output_type": "stream",
     "text": [
      "\n",
      "OriginalCheck\n",
      "\n",
      "----------------------------------\n",
      "RemovedByStyle\n",
      "----------------------------------\n"
     ]
    },
    {
     "name": "stderr",
     "output_type": "stream",
     "text": [
      " ' | Qrd txt :- '6.6 Специални предпазни мерки при изхвърляне <и работа>' | Matched :- 'False'| H | CAP |  bg | 0 | emea-combined-h-2494-bg_SmPC.json | Doc txt :- 'За\n",
      " мазнини. ' | Qrd txt :- '6.5 Вид и съдържание на опаковката <и специални приспособления за употреба, приложение или имплантиране>' | Matched :- 'False'Doc txt :- 'Таблетките\n",
      " мазнини. ' | Qrd txt :- '6.6 Специални предпазни мерки при изхвърляне <и работа>' | Matched :- 'False' |  bg | 0 | emea-combined-h-2494-bg_SmPC.json | Doc txt :- 'Таблетките\n",
      " точка 4.5).' | Qrd txt :- '6.5 Вид и съдържание на опаковката <и специални приспособления за употреба, приложение или имплантиране>' | Matched :- 'False'c txt :- 'По\n",
      " точка 4.5).' | Qrd txt :- '6.6 Специални предпазни мерки при изхвърляне <и работа>' | Matched :- 'False'  bg | 0 | emea-combined-h-2494-bg_SmPC.json | Doc txt :- 'По\n",
      "2021-05-11 02:37:54,847 : Heading Extraction emea-combined-h-2494-bg_SmPC.json : Match Passed | H | CAP |  bg | 0 | emea-combined-h-2494-bg_SmPC.json | Doc txt :- '4.3     Противопоказания' | Qrd txt :- '4.3 Противопоказания' | Matched :- 'True'\n",
      "2021-05-11 02:37:54,860 : Heading Extraction emea-combined-h-2494-bg_SmPC.json : Validation Flow Is Broken | H | CAP |  bg | 0 | emea-combined-h-2494-bg_SmPC.json | currHeadId :- '16' | currParentHeadId :- '9.0' | prevParentHeadId :- '1'\n",
      "2021-05-11 02:37:54,867 : Heading Extraction emea-combined-h-2494-bg_SmPC.json : Validation Passed | H | CAP |  bg | 0 | emea-combined-h-2494-bg_SmPC.json | currHeadId :- '16' | currParentHeadId :- '9.0' | prevParentHeadId :- '1'\n",
      "2021-05-11 02:37:54,873 : Heading Extraction emea-combined-h-2494-bg_SmPC.json : Validation Failed By Style | H | CAP |  bg | 0 | emea-combined-h-2494-bg_SmPC.json | currHeadId :- '16' | currParentHeadId :- '9.0' | prevParentHeadId :- '1'\n"
     ]
    },
    {
     "name": "stdout",
     "output_type": "stream",
     "text": [
      "----------------------------------\n",
      "RemovedByStyle\n",
      "----------------------------------\n"
     ]
    },
    {
     "name": "stderr",
     "output_type": "stream",
     "text": [
      " употреба' | Qrd txt :- '4.4 Специални предупреждения и предпазни мерки при употреба' | Matched :- 'True'  bg | 0 | emea-combined-h-2494-bg_SmPC.json | Doc txt :- '4.4     Специални\n",
      "2021-05-11 02:37:55,812 : Heading Extraction emea-combined-h-2494-bg_SmPC.json : Validation Flow Is Broken | H | CAP |  bg | 0 | emea-combined-h-2494-bg_SmPC.json | currHeadId :- '17' | currParentHeadId :- '9.0' | prevParentHeadId :- '1'\n",
      "2021-05-11 02:37:55,820 : Heading Extraction emea-combined-h-2494-bg_SmPC.json : Validation Passed | H | CAP |  bg | 0 | emea-combined-h-2494-bg_SmPC.json | currHeadId :- '17' | currParentHeadId :- '9.0' | prevParentHeadId :- '1'\n",
      "2021-05-11 02:37:55,828 : Heading Extraction emea-combined-h-2494-bg_SmPC.json : Validation Failed By Style | H | CAP |  bg | 0 | emea-combined-h-2494-bg_SmPC.json | currHeadId :- '17' | currParentHeadId :- '9.0' | prevParentHeadId :- '1'\n"
     ]
    },
    {
     "name": "stdout",
     "output_type": "stream",
     "text": [
      "----------------------------------\n",
      "RemovedByStyle\n",
      "----------------------------------\n"
     ]
    },
    {
     "name": "stderr",
     "output_type": "stream",
     "text": [
      " употреба' | Qrd txt :- '6.5 Вид и съдържание на опаковката <и специални приспособления за употреба, приложение или имплантиране>' | Matched :- 'False' Doc txt :- '4.4     Специални\n",
      " употреба' | Qrd txt :- '6.6 Специални предпазни мерки при изхвърляне <и работа>' | Matched :- 'False'P |  bg | 0 | emea-combined-h-2494-bg_SmPC.json | Doc txt :- '4.4     Специални\n",
      " точка 5.1). ' | Qrd txt :- '6.5 Вид и съдържание на опаковката <и специални приспособления за употреба, приложение или имплантиране>' | Matched :- 'False' txt :- 'По-малко\n",
      " популация ' | Qrd txt :- 'Педиатрична популация' | Matched :- 'True'SmPC.json : Match Passed | H | CAP |  bg | 0 | emea-combined-h-2494-bg_SmPC.json | Doc txt :- 'Педиатрична\n",
      "2021-05-11 02:37:59,600 : Heading Extraction emea-combined-h-2494-bg_SmPC.json : Validation Flow Is Broken | H | CAP |  bg | 0 | emea-combined-h-2494-bg_SmPC.json | currHeadId :- '13' | currParentHeadId :- '12.0' | prevParentHeadId :- '1'\n",
      "2021-05-11 02:37:59,609 : Heading Extraction emea-combined-h-2494-bg_SmPC.json : Validation Passed | H | CAP |  bg | 0 | emea-combined-h-2494-bg_SmPC.json | currHeadId :- '13' | currParentHeadId :- '12.0' | prevParentHeadId :- '1'\n",
      "2021-05-11 02:37:59,616 : Heading Extraction emea-combined-h-2494-bg_SmPC.json : Validation Failed By Style | H | CAP |  bg | 0 | emea-combined-h-2494-bg_SmPC.json | currHeadId :- '13' | currParentHeadId :- '12.0' | prevParentHeadId :- '1'\n",
      " популация ' | Qrd txt :- 'Педиатрична популация' | Matched :- 'True'SmPC.json : Match Passed | H | CAP |  bg | 0 | emea-combined-h-2494-bg_SmPC.json | Doc txt :- 'Педиатрична\n",
      "2021-05-11 02:37:59,660 : Heading Extraction emea-combined-h-2494-bg_SmPC.json : Validation Flow Is Broken | H | CAP |  bg | 0 | emea-combined-h-2494-bg_SmPC.json | currHeadId :- '19' | currParentHeadId :- '17.0' | prevParentHeadId :- '1'\n",
      "2021-05-11 02:37:59,672 : Heading Extraction emea-combined-h-2494-bg_SmPC.json : Validation Passed | H | CAP |  bg | 0 | emea-combined-h-2494-bg_SmPC.json | currHeadId :- '19' | currParentHeadId :- '17.0' | prevParentHeadId :- '1'\n",
      "2021-05-11 02:37:59,677 : Heading Extraction emea-combined-h-2494-bg_SmPC.json : Validation Failed By Style | H | CAP |  bg | 0 | emea-combined-h-2494-bg_SmPC.json | currHeadId :- '19' | currParentHeadId :- '17.0' | prevParentHeadId :- '1'\n",
      " популация ' | Qrd txt :- 'Педиатрична популация' | Matched :- 'True'SmPC.json : Match Passed | H | CAP |  bg | 0 | emea-combined-h-2494-bg_SmPC.json | Doc txt :- 'Педиатрична\n",
      "2021-05-11 02:37:59,699 : Heading Extraction emea-combined-h-2494-bg_SmPC.json : Validation Flow Is Broken | H | CAP |  bg | 0 | emea-combined-h-2494-bg_SmPC.json | currHeadId :- '21' | currParentHeadId :- '20.0' | prevParentHeadId :- '1'\n",
      "2021-05-11 02:37:59,708 : Heading Extraction emea-combined-h-2494-bg_SmPC.json : Validation Passed | H | CAP |  bg | 0 | emea-combined-h-2494-bg_SmPC.json | currHeadId :- '21' | currParentHeadId :- '20.0' | prevParentHeadId :- '1'\n",
      "2021-05-11 02:37:59,714 : Heading Extraction emea-combined-h-2494-bg_SmPC.json : Validation Failed By Style | H | CAP |  bg | 0 | emea-combined-h-2494-bg_SmPC.json | currHeadId :- '21' | currParentHeadId :- '20.0' | prevParentHeadId :- '1'\n",
      " популация ' | Qrd txt :- 'Педиатрична популация' | Matched :- 'True'SmPC.json : Match Passed | H | CAP |  bg | 0 | emea-combined-h-2494-bg_SmPC.json | Doc txt :- 'Педиатрична\n",
      "2021-05-11 02:37:59,747 : Heading Extraction emea-combined-h-2494-bg_SmPC.json : Validation Flow Is Broken | H | CAP |  bg | 0 | emea-combined-h-2494-bg_SmPC.json | currHeadId :- '28' | currParentHeadId :- '27.0' | prevParentHeadId :- '1'\n",
      "2021-05-11 02:37:59,758 : Heading Extraction emea-combined-h-2494-bg_SmPC.json : Validation Passed | H | CAP |  bg | 0 | emea-combined-h-2494-bg_SmPC.json | currHeadId :- '28' | currParentHeadId :- '27.0' | prevParentHeadId :- '1'\n",
      "2021-05-11 02:37:59,764 : Heading Extraction emea-combined-h-2494-bg_SmPC.json : Validation Failed By Style | H | CAP |  bg | 0 | emea-combined-h-2494-bg_SmPC.json | currHeadId :- '28' | currParentHeadId :- '27.0' | prevParentHeadId :- '1'\n",
      " популация ' | Qrd txt :- 'Педиатрична популация' | Matched :- 'True'SmPC.json : Match Passed | H | CAP |  bg | 0 | emea-combined-h-2494-bg_SmPC.json | Doc txt :- 'Педиатрична\n",
      "2021-05-11 02:37:59,786 : Heading Extraction emea-combined-h-2494-bg_SmPC.json : Validation Flow Is Broken | H | CAP |  bg | 0 | emea-combined-h-2494-bg_SmPC.json | currHeadId :- '31' | currParentHeadId :- '30.0' | prevParentHeadId :- '1'\n",
      "2021-05-11 02:37:59,796 : Heading Extraction emea-combined-h-2494-bg_SmPC.json : Validation Passed | H | CAP |  bg | 0 | emea-combined-h-2494-bg_SmPC.json | currHeadId :- '31' | currParentHeadId :- '30.0' | prevParentHeadId :- '1'\n"
     ]
    },
    {
     "name": "stdout",
     "output_type": "stream",
     "text": [
      "----------------------------------\n",
      "RemovedByStyle\n",
      "----------------------------------\n",
      "----------------------------------\n",
      "RemovedByStyle\n",
      "----------------------------------\n",
      "----------------------------------\n",
      "RemovedByStyle\n",
      "----------------------------------\n",
      "----------------------------------\n",
      "RemovedByStyle\n",
      "----------------------------------\n"
     ]
    },
    {
     "name": "stderr",
     "output_type": "stream",
     "text": [
      "2021-05-11 02:37:59,803 : Heading Extraction emea-combined-h-2494-bg_SmPC.json : Validation Failed By Style | H | CAP |  bg | 0 | emea-combined-h-2494-bg_SmPC.json | currHeadId :- '31' | currParentHeadId :- '30.0' | prevParentHeadId :- '1'\n",
      " популация ' | Qrd txt :- 'Педиатрична популация' | Matched :- 'True'SmPC.json : Match Passed | H | CAP |  bg | 0 | emea-combined-h-2494-bg_SmPC.json | Doc txt :- 'Педиатрична\n",
      "2021-05-11 02:37:59,839 : Heading Extraction emea-combined-h-2494-bg_SmPC.json : Validation Flow Is Broken | H | CAP |  bg | 0 | emea-combined-h-2494-bg_SmPC.json | currHeadId :- '37' | currParentHeadId :- '33.0' | prevParentHeadId :- '1'\n",
      "2021-05-11 02:37:59,852 : Heading Extraction emea-combined-h-2494-bg_SmPC.json : Validation Passed | H | CAP |  bg | 0 | emea-combined-h-2494-bg_SmPC.json | currHeadId :- '37' | currParentHeadId :- '33.0' | prevParentHeadId :- '1'\n",
      "2021-05-11 02:37:59,858 : Heading Extraction emea-combined-h-2494-bg_SmPC.json : Validation Failed By Style | H | CAP |  bg | 0 | emea-combined-h-2494-bg_SmPC.json | currHeadId :- '37' | currParentHeadId :- '33.0' | prevParentHeadId :- '1'\n"
     ]
    },
    {
     "name": "stdout",
     "output_type": "stream",
     "text": [
      "----------------------------------\n",
      "RemovedByStyle\n",
      "----------------------------------\n",
      "----------------------------------\n",
      "RemovedByStyle\n",
      "----------------------------------\n"
     ]
    },
    {
     "name": "stderr",
     "output_type": "stream",
     "text": [
      " лекарство.' | Qrd txt :- '6.5 Вид и съдържание на опаковката <и специални приспособления за употреба, приложение или имплантиране>' | Matched :- 'False'oc txt :- 'Kalydecoсъдържа\n",
      " натрий.' | Qrd txt :- '6.5 Вид и съдържание на опаковката <и специални приспособления за употреба, приложение или имплантиране>' | Matched :- 'False'| Doc txt :- 'Това\n",
      " на взаимодействие' | Qrd txt :- '4.5 Взаимодействие с други лекарствени продукти и други форми на взаимодействие' | Matched :- 'True'94-bg_SmPC.json | Doc txt :- '4.5     Взаимодействие\n",
      "2021-05-11 02:38:01,865 : Heading Extraction emea-combined-h-2494-bg_SmPC.json : Validation Flow Is Broken | H | CAP |  bg | 0 | emea-combined-h-2494-bg_SmPC.json | currHeadId :- '20' | currParentHeadId :- '9.0' | prevParentHeadId :- '1'\n",
      "2021-05-11 02:38:01,874 : Heading Extraction emea-combined-h-2494-bg_SmPC.json : Validation Passed | H | CAP |  bg | 0 | emea-combined-h-2494-bg_SmPC.json | currHeadId :- '20' | currParentHeadId :- '9.0' | prevParentHeadId :- '1'\n",
      "2021-05-11 02:38:01,883 : Heading Extraction emea-combined-h-2494-bg_SmPC.json : Validation Failed By Style | H | CAP |  bg | 0 | emea-combined-h-2494-bg_SmPC.json | currHeadId :- '20' | currParentHeadId :- '9.0' | prevParentHeadId :- '1'\n",
      " на взаимодействие' | Qrd txt :- '6.5 Вид и съдържание на опаковката <и специални приспособления за употреба, приложение или имплантиране>' | Matched :- 'False':- '4.5     Взаимодействие\n"
     ]
    },
    {
     "name": "stdout",
     "output_type": "stream",
     "text": [
      "----------------------------------\n",
      "RemovedByStyle\n",
      "----------------------------------\n"
     ]
    },
    {
     "name": "stderr",
     "output_type": "stream",
     "text": [
      " на взаимодействие' | Qrd txt :- '6.6 Специални предпазни мерки при изхвърляне <и работа>' | Matched :- 'False' 0 | emea-combined-h-2494-bg_SmPC.json | Doc txt :- '4.5     Взаимодействие\n",
      " на ивакафтор' | Qrd txt :- '6.6 Специални предпазни мерки при изхвърляне <и работа>' | Matched :- 'False' bg | 0 | emea-combined-h-2494-bg_SmPC.json | Doc txt :- 'Лекарствени\n",
      " транспортери' | Qrd txt :- '6.5 Вид и съдържание на опаковката <и специални приспособления за употреба, приложение или имплантиране>' | Matched :- 'False' txt :- 'Потенциал\n",
      " транспортери' | Qrd txt :- '6.6 Специални предпазни мерки при изхвърляне <и работа>' | Matched :- 'False' bg | 0 | emea-combined-h-2494-bg_SmPC.json | Doc txt :- 'Потенциал\n",
      " популация' | Qrd txt :- 'Педиатрична популация' | Matched :- 'True'_SmPC.json : Match Passed | H | CAP |  bg | 0 | emea-combined-h-2494-bg_SmPC.json | Doc txt :- 'Педиатрична\n",
      "2021-05-11 02:38:06,512 : Heading Extraction emea-combined-h-2494-bg_SmPC.json : Validation Flow Is Broken | H | CAP |  bg | 0 | emea-combined-h-2494-bg_SmPC.json | currHeadId :- '13' | currParentHeadId :- '12.0' | prevParentHeadId :- '1'\n",
      "2021-05-11 02:38:06,521 : Heading Extraction emea-combined-h-2494-bg_SmPC.json : Validation Passed | H | CAP |  bg | 0 | emea-combined-h-2494-bg_SmPC.json | currHeadId :- '13' | currParentHeadId :- '12.0' | prevParentHeadId :- '1'\n",
      "2021-05-11 02:38:06,529 : Heading Extraction emea-combined-h-2494-bg_SmPC.json : Validation Failed By Style | H | CAP |  bg | 0 | emea-combined-h-2494-bg_SmPC.json | currHeadId :- '13' | currParentHeadId :- '12.0' | prevParentHeadId :- '1'\n",
      " популация' | Qrd txt :- 'Педиатрична популация' | Matched :- 'True'_SmPC.json : Match Passed | H | CAP |  bg | 0 | emea-combined-h-2494-bg_SmPC.json | Doc txt :- 'Педиатрична\n",
      "2021-05-11 02:38:06,566 : Heading Extraction emea-combined-h-2494-bg_SmPC.json : Validation Flow Is Broken | H | CAP |  bg | 0 | emea-combined-h-2494-bg_SmPC.json | currHeadId :- '19' | currParentHeadId :- '17.0' | prevParentHeadId :- '1'\n",
      "2021-05-11 02:38:06,576 : Heading Extraction emea-combined-h-2494-bg_SmPC.json : Validation Passed | H | CAP |  bg | 0 | emea-combined-h-2494-bg_SmPC.json | currHeadId :- '19' | currParentHeadId :- '17.0' | prevParentHeadId :- '1'\n",
      "2021-05-11 02:38:06,580 : Heading Extraction emea-combined-h-2494-bg_SmPC.json : Validation Failed By Style | H | CAP |  bg | 0 | emea-combined-h-2494-bg_SmPC.json | currHeadId :- '19' | currParentHeadId :- '17.0' | prevParentHeadId :- '1'\n",
      " популация' | Qrd txt :- 'Педиатрична популация' | Matched :- 'True'_SmPC.json : Match Passed | H | CAP |  bg | 0 | emea-combined-h-2494-bg_SmPC.json | Doc txt :- 'Педиатрична\n",
      "2021-05-11 02:38:06,608 : Heading Extraction emea-combined-h-2494-bg_SmPC.json : Validation Flow Is Broken | H | CAP |  bg | 0 | emea-combined-h-2494-bg_SmPC.json | currHeadId :- '21' | currParentHeadId :- '20.0' | prevParentHeadId :- '1'\n",
      "2021-05-11 02:38:06,618 : Heading Extraction emea-combined-h-2494-bg_SmPC.json : Validation Passed | H | CAP |  bg | 0 | emea-combined-h-2494-bg_SmPC.json | currHeadId :- '21' | currParentHeadId :- '20.0' | prevParentHeadId :- '1'\n",
      "2021-05-11 02:38:06,624 : Heading Extraction emea-combined-h-2494-bg_SmPC.json : Validation Failed By Style | H | CAP |  bg | 0 | emea-combined-h-2494-bg_SmPC.json | currHeadId :- '21' | currParentHeadId :- '20.0' | prevParentHeadId :- '1'\n",
      " популация' | Qrd txt :- 'Педиатрична популация' | Matched :- 'True'_SmPC.json : Match Passed | H | CAP |  bg | 0 | emea-combined-h-2494-bg_SmPC.json | Doc txt :- 'Педиатрична\n",
      "2021-05-11 02:38:06,661 : Heading Extraction emea-combined-h-2494-bg_SmPC.json : Validation Flow Is Broken | H | CAP |  bg | 0 | emea-combined-h-2494-bg_SmPC.json | currHeadId :- '28' | currParentHeadId :- '27.0' | prevParentHeadId :- '1'\n",
      "2021-05-11 02:38:06,671 : Heading Extraction emea-combined-h-2494-bg_SmPC.json : Validation Passed | H | CAP |  bg | 0 | emea-combined-h-2494-bg_SmPC.json | currHeadId :- '28' | currParentHeadId :- '27.0' | prevParentHeadId :- '1'\n",
      "2021-05-11 02:38:06,677 : Heading Extraction emea-combined-h-2494-bg_SmPC.json : Validation Failed By Style | H | CAP |  bg | 0 | emea-combined-h-2494-bg_SmPC.json | currHeadId :- '28' | currParentHeadId :- '27.0' | prevParentHeadId :- '1'\n",
      " популация' | Qrd txt :- 'Педиатрична популация' | Matched :- 'True'_SmPC.json : Match Passed | H | CAP |  bg | 0 | emea-combined-h-2494-bg_SmPC.json | Doc txt :- 'Педиатрична\n",
      "2021-05-11 02:38:06,700 : Heading Extraction emea-combined-h-2494-bg_SmPC.json : Validation Flow Is Broken | H | CAP |  bg | 0 | emea-combined-h-2494-bg_SmPC.json | currHeadId :- '31' | currParentHeadId :- '30.0' | prevParentHeadId :- '1'\n"
     ]
    },
    {
     "name": "stdout",
     "output_type": "stream",
     "text": [
      "----------------------------------\n",
      "RemovedByStyle\n",
      "----------------------------------\n",
      "----------------------------------\n",
      "RemovedByStyle\n",
      "----------------------------------\n",
      "----------------------------------\n",
      "RemovedByStyle\n",
      "----------------------------------\n",
      "----------------------------------\n",
      "RemovedByStyle\n",
      "----------------------------------\n"
     ]
    },
    {
     "name": "stderr",
     "output_type": "stream",
     "text": [
      "2021-05-11 02:38:06,714 : Heading Extraction emea-combined-h-2494-bg_SmPC.json : Validation Passed | H | CAP |  bg | 0 | emea-combined-h-2494-bg_SmPC.json | currHeadId :- '31' | currParentHeadId :- '30.0' | prevParentHeadId :- '1'\n",
      "2021-05-11 02:38:06,722 : Heading Extraction emea-combined-h-2494-bg_SmPC.json : Validation Failed By Style | H | CAP |  bg | 0 | emea-combined-h-2494-bg_SmPC.json | currHeadId :- '31' | currParentHeadId :- '30.0' | prevParentHeadId :- '1'\n",
      " популация' | Qrd txt :- 'Педиатрична популация' | Matched :- 'True'_SmPC.json : Match Passed | H | CAP |  bg | 0 | emea-combined-h-2494-bg_SmPC.json | Doc txt :- 'Педиатрична\n",
      "2021-05-11 02:38:06,756 : Heading Extraction emea-combined-h-2494-bg_SmPC.json : Validation Flow Is Broken | H | CAP |  bg | 0 | emea-combined-h-2494-bg_SmPC.json | currHeadId :- '37' | currParentHeadId :- '33.0' | prevParentHeadId :- '1'\n",
      "2021-05-11 02:38:06,770 : Heading Extraction emea-combined-h-2494-bg_SmPC.json : Validation Passed | H | CAP |  bg | 0 | emea-combined-h-2494-bg_SmPC.json | currHeadId :- '37' | currParentHeadId :- '33.0' | prevParentHeadId :- '1'\n",
      "2021-05-11 02:38:06,776 : Heading Extraction emea-combined-h-2494-bg_SmPC.json : Validation Failed By Style | H | CAP |  bg | 0 | emea-combined-h-2494-bg_SmPC.json | currHeadId :- '37' | currParentHeadId :- '33.0' | prevParentHeadId :- '1'\n"
     ]
    },
    {
     "name": "stdout",
     "output_type": "stream",
     "text": [
      "----------------------------------\n",
      "RemovedByStyle\n",
      "----------------------------------\n",
      "----------------------------------\n",
      "RemovedByStyle\n",
      "----------------------------------\n"
     ]
    },
    {
     "name": "stderr",
     "output_type": "stream",
     "text": [
      " възрастни. ' | Qrd txt :- '6.5 Вид и съдържание на опаковката <и специални приспособления за употреба, приложение или имплантиране>' | Matched :- 'False'c txt :- 'Проучвания\n",
      " кърмене' | Qrd txt :- '4.6 Фертилитет, бременност и кърмене' | Matched :- 'True'Match Passed | H | CAP |  bg | 0 | emea-combined-h-2494-bg_SmPC.json | Doc txt :- '4.6     Фертилитет,\n",
      "2021-05-11 02:38:07,629 : Heading Extraction emea-combined-h-2494-bg_SmPC.json : Validation Flow Is Broken | H | CAP |  bg | 0 | emea-combined-h-2494-bg_SmPC.json | currHeadId :- '22' | currParentHeadId :- '9.0' | prevParentHeadId :- '1'\n",
      "2021-05-11 02:38:07,636 : Heading Extraction emea-combined-h-2494-bg_SmPC.json : Validation Passed | H | CAP |  bg | 0 | emea-combined-h-2494-bg_SmPC.json | currHeadId :- '22' | currParentHeadId :- '9.0' | prevParentHeadId :- '1'\n",
      "2021-05-11 02:38:07,644 : Heading Extraction emea-combined-h-2494-bg_SmPC.json : Validation Failed By Style | H | CAP |  bg | 0 | emea-combined-h-2494-bg_SmPC.json | currHeadId :- '22' | currParentHeadId :- '9.0' | prevParentHeadId :- '1'\n"
     ]
    },
    {
     "name": "stdout",
     "output_type": "stream",
     "text": [
      "----------------------------------\n",
      "RemovedByStyle\n",
      "----------------------------------\n"
     ]
    },
    {
     "name": "stderr",
     "output_type": "stream",
     "text": [
      " ' | Qrd txt :- '4.6 Фертилитет, бременност и кърмене' | Matched :- 'False'son : Match Failed In Lowercase | H | CAP |  bg | 0 | emea-combined-h-2494-bg_SmPC.json | Doc txt :- 'Бременност\n",
      " ' | Qrd txt :- 'Бременност' | Matched :- 'True'a-combined-h-2494-bg_SmPC.json : Match Passed | H | CAP |  bg | 0 | emea-combined-h-2494-bg_SmPC.json | Doc txt :- 'Бременност\n",
      "2021-05-11 02:38:08,203 : Heading Extraction emea-combined-h-2494-bg_SmPC.json : Validation Flow Is Broken | H | CAP |  bg | 0 | emea-combined-h-2494-bg_SmPC.json | currHeadId :- '23' | currParentHeadId :- '22.0' | prevParentHeadId :- '1'\n",
      "2021-05-11 02:38:08,218 : Heading Extraction emea-combined-h-2494-bg_SmPC.json : Validation Passed | H | CAP |  bg | 0 | emea-combined-h-2494-bg_SmPC.json | currHeadId :- '23' | currParentHeadId :- '22.0' | prevParentHeadId :- '1'\n",
      "2021-05-11 02:38:08,225 : Heading Extraction emea-combined-h-2494-bg_SmPC.json : Validation Failed By Style | H | CAP |  bg | 0 | emea-combined-h-2494-bg_SmPC.json | currHeadId :- '23' | currParentHeadId :- '22.0' | prevParentHeadId :- '1'\n"
     ]
    },
    {
     "name": "stdout",
     "output_type": "stream",
     "text": [
      "\n",
      "OriginalCheck\n",
      "\n",
      "----------------------------------\n",
      "RemovedByStyle\n",
      "----------------------------------\n"
     ]
    },
    {
     "name": "stderr",
     "output_type": "stream",
     "text": [
      "2021-05-11 02:38:08,497 : Heading Extraction emea-combined-h-2494-bg_SmPC.json : Match Failed In Lowercase | H | CAP |  bg | 0 | emea-combined-h-2494-bg_SmPC.json | Doc txt :- 'Кърмене' | Qrd txt :- '4.6 Фертилитет, бременност и кърмене' | Matched :- 'False'\n",
      "2021-05-11 02:38:08,502 : Heading Extraction emea-combined-h-2494-bg_SmPC.json : Match Passed | H | CAP |  bg | 0 | emea-combined-h-2494-bg_SmPC.json | Doc txt :- 'Кърмене' | Qrd txt :- 'Кърмене' | Matched :- 'True'\n",
      "2021-05-11 02:38:08,517 : Heading Extraction emea-combined-h-2494-bg_SmPC.json : Validation Flow Is Broken | H | CAP |  bg | 0 | emea-combined-h-2494-bg_SmPC.json | currHeadId :- '24' | currParentHeadId :- '22.0' | prevParentHeadId :- '1'\n",
      "2021-05-11 02:38:08,533 : Heading Extraction emea-combined-h-2494-bg_SmPC.json : Validation Passed | H | CAP |  bg | 0 | emea-combined-h-2494-bg_SmPC.json | currHeadId :- '24' | currParentHeadId :- '22.0' | prevParentHeadId :- '1'\n",
      "2021-05-11 02:38:08,544 : Heading Extraction emea-combined-h-2494-bg_SmPC.json : Validation Failed By Style | H | CAP |  bg | 0 | emea-combined-h-2494-bg_SmPC.json | currHeadId :- '24' | currParentHeadId :- '22.0' | prevParentHeadId :- '1'\n"
     ]
    },
    {
     "name": "stdout",
     "output_type": "stream",
     "text": [
      "\n",
      "OriginalCheck\n",
      "\n",
      "----------------------------------\n",
      "RemovedByStyle\n",
      "----------------------------------\n"
     ]
    },
    {
     "name": "stderr",
     "output_type": "stream",
     "text": [
      "2021-05-11 02:38:08,798 : Heading Extraction emea-combined-h-2494-bg_SmPC.json : Match Failed In Lowercase | H | CAP |  bg | 0 | emea-combined-h-2494-bg_SmPC.json | Doc txt :- 'Фертилитет' | Qrd txt :- '4.6 Фертилитет, бременност и кърмене' | Matched :- 'False'\n",
      "2021-05-11 02:38:08,809 : Heading Extraction emea-combined-h-2494-bg_SmPC.json : Match Passed | H | CAP |  bg | 0 | emea-combined-h-2494-bg_SmPC.json | Doc txt :- 'Фертилитет' | Qrd txt :- 'Фертилитет' | Matched :- 'True'\n",
      "2021-05-11 02:38:08,823 : Heading Extraction emea-combined-h-2494-bg_SmPC.json : Validation Flow Is Broken | H | CAP |  bg | 0 | emea-combined-h-2494-bg_SmPC.json | currHeadId :- '25' | currParentHeadId :- '22.0' | prevParentHeadId :- '1'\n",
      "2021-05-11 02:38:08,843 : Heading Extraction emea-combined-h-2494-bg_SmPC.json : Validation Passed | H | CAP |  bg | 0 | emea-combined-h-2494-bg_SmPC.json | currHeadId :- '25' | currParentHeadId :- '22.0' | prevParentHeadId :- '1'\n",
      "2021-05-11 02:38:08,854 : Heading Extraction emea-combined-h-2494-bg_SmPC.json : Validation Failed By Style | H | CAP |  bg | 0 | emea-combined-h-2494-bg_SmPC.json | currHeadId :- '25' | currParentHeadId :- '22.0' | prevParentHeadId :- '1'\n"
     ]
    },
    {
     "name": "stdout",
     "output_type": "stream",
     "text": [
      "\n",
      "OriginalCheck\n",
      "\n",
      "----------------------------------\n",
      "RemovedByStyle\n",
      "----------------------------------\n"
     ]
    },
    {
     "name": "stderr",
     "output_type": "stream",
     "text": [
      " машини' | Qrd txt :- '4.7 Ефекти върху способността за шофиране и работа с машини' | Matched :- 'True' |  bg | 0 | emea-combined-h-2494-bg_SmPC.json | Doc txt :- '4.7     Ефекти\n",
      "2021-05-11 02:38:09,770 : Heading Extraction emea-combined-h-2494-bg_SmPC.json : Validation Flow Is Broken | H | CAP |  bg | 0 | emea-combined-h-2494-bg_SmPC.json | currHeadId :- '26' | currParentHeadId :- '9.0' | prevParentHeadId :- '1'\n",
      "2021-05-11 02:38:09,778 : Heading Extraction emea-combined-h-2494-bg_SmPC.json : Validation Passed | H | CAP |  bg | 0 | emea-combined-h-2494-bg_SmPC.json | currHeadId :- '26' | currParentHeadId :- '9.0' | prevParentHeadId :- '1'\n",
      "2021-05-11 02:38:09,788 : Heading Extraction emea-combined-h-2494-bg_SmPC.json : Validation Failed By Style | H | CAP |  bg | 0 | emea-combined-h-2494-bg_SmPC.json | currHeadId :- '26' | currParentHeadId :- '9.0' | prevParentHeadId :- '1'\n"
     ]
    },
    {
     "name": "stdout",
     "output_type": "stream",
     "text": [
      "----------------------------------\n",
      "RemovedByStyle\n",
      "----------------------------------\n"
     ]
    },
    {
     "name": "stderr",
     "output_type": "stream",
     "text": [
      " машини' | Qrd txt :- '6.5 Вид и съдържание на опаковката <и специални приспособления за употреба, приложение или имплантиране>' | Matched :- 'False' | Doc txt :- '4.7     Ефекти\n",
      " реакции' | Qrd txt :- '4.8 Нежелани лекарствени реакции' | Matched :- 'True'n : Match Passed | H | CAP |  bg | 0 | emea-combined-h-2494-bg_SmPC.json | Doc txt :- '4.8     Нежелани\n",
      "2021-05-11 02:38:10,387 : Heading Extraction emea-combined-h-2494-bg_SmPC.json : Validation Flow Is Broken | H | CAP |  bg | 0 | emea-combined-h-2494-bg_SmPC.json | currHeadId :- '27' | currParentHeadId :- '9.0' | prevParentHeadId :- '1'\n",
      "2021-05-11 02:38:10,394 : Heading Extraction emea-combined-h-2494-bg_SmPC.json : Validation Passed | H | CAP |  bg | 0 | emea-combined-h-2494-bg_SmPC.json | currHeadId :- '27' | currParentHeadId :- '9.0' | prevParentHeadId :- '1'\n",
      "2021-05-11 02:38:10,405 : Heading Extraction emea-combined-h-2494-bg_SmPC.json : Validation Failed By Style | H | CAP |  bg | 0 | emea-combined-h-2494-bg_SmPC.json | currHeadId :- '27' | currParentHeadId :- '9.0' | prevParentHeadId :- '1'\n"
     ]
    },
    {
     "name": "stdout",
     "output_type": "stream",
     "text": [
      "----------------------------------\n",
      "RemovedByStyle\n",
      "----------------------------------\n"
     ]
    },
    {
     "name": "stderr",
     "output_type": "stream",
     "text": [
      " трансаминазите (вж. точка 4.4).' | Qrd txt :- '6.5 Вид и съдържание на опаковката <и специални приспособления за употреба, приложение или имплантиране>' | Matched :- 'False'\n",
      " реакции' | Qrd txt :- '6.6 Специални предпазни мерки при изхвърляне <и работа>' | Matched :- 'False'AP |  bg | 0 | emea-combined-h-2494-bg_SmPC.json | Doc txt :- 'Табличен\n",
      " тезакафтор/ивакафтор' | Qrd txt :- '6.5 Вид и съдържание на опаковката <и специални приспособления за употреба, приложение или имплантиране>' | Matched :- 'False''*Нежелана\n",
      " ивакафтор/тезакафтор/елексакафтор.' | Qrd txt :- '6.5 Вид и съдържание на опаковката <и специални приспособления за употреба, приложение или имплантиране>' | Matched :- 'False'\n",
      " реакции' | Qrd txt :- '6.5 Вид и съдържание на опаковката <и специални приспособления за употреба, приложение или имплантиране>' | Matched :- 'False'| Doc txt :- 'Описание\n",
      " реакции' | Qrd txt :- '6.6 Специални предпазни мерки при изхвърляне <и работа>' | Matched :- 'False'AP |  bg | 0 | emea-combined-h-2494-bg_SmPC.json | Doc txt :- 'Описание\n",
      " популация' | Qrd txt :- 'Педиатрична популация' | Matched :- 'True'_SmPC.json : Match Passed | H | CAP |  bg | 0 | emea-combined-h-2494-bg_SmPC.json | Doc txt :- 'Педиатрична\n",
      "2021-05-11 02:38:14,268 : Heading Extraction emea-combined-h-2494-bg_SmPC.json : Validation Flow Is Broken | H | CAP |  bg | 0 | emea-combined-h-2494-bg_SmPC.json | currHeadId :- '13' | currParentHeadId :- '12.0' | prevParentHeadId :- '1'\n",
      "2021-05-11 02:38:14,277 : Heading Extraction emea-combined-h-2494-bg_SmPC.json : Validation Passed | H | CAP |  bg | 0 | emea-combined-h-2494-bg_SmPC.json | currHeadId :- '13' | currParentHeadId :- '12.0' | prevParentHeadId :- '1'\n",
      "2021-05-11 02:38:14,281 : Heading Extraction emea-combined-h-2494-bg_SmPC.json : Validation Failed By Style | H | CAP |  bg | 0 | emea-combined-h-2494-bg_SmPC.json | currHeadId :- '13' | currParentHeadId :- '12.0' | prevParentHeadId :- '1'\n",
      " популация' | Qrd txt :- 'Педиатрична популация' | Matched :- 'True'_SmPC.json : Match Passed | H | CAP |  bg | 0 | emea-combined-h-2494-bg_SmPC.json | Doc txt :- 'Педиатрична\n",
      "2021-05-11 02:38:14,317 : Heading Extraction emea-combined-h-2494-bg_SmPC.json : Validation Flow Is Broken | H | CAP |  bg | 0 | emea-combined-h-2494-bg_SmPC.json | currHeadId :- '19' | currParentHeadId :- '17.0' | prevParentHeadId :- '1'\n",
      "2021-05-11 02:38:14,326 : Heading Extraction emea-combined-h-2494-bg_SmPC.json : Validation Passed | H | CAP |  bg | 0 | emea-combined-h-2494-bg_SmPC.json | currHeadId :- '19' | currParentHeadId :- '17.0' | prevParentHeadId :- '1'\n",
      "2021-05-11 02:38:14,330 : Heading Extraction emea-combined-h-2494-bg_SmPC.json : Validation Failed By Style | H | CAP |  bg | 0 | emea-combined-h-2494-bg_SmPC.json | currHeadId :- '19' | currParentHeadId :- '17.0' | prevParentHeadId :- '1'\n",
      " популация' | Qrd txt :- 'Педиатрична популация' | Matched :- 'True'_SmPC.json : Match Passed | H | CAP |  bg | 0 | emea-combined-h-2494-bg_SmPC.json | Doc txt :- 'Педиатрична\n",
      "2021-05-11 02:38:14,354 : Heading Extraction emea-combined-h-2494-bg_SmPC.json : Validation Flow Is Broken | H | CAP |  bg | 0 | emea-combined-h-2494-bg_SmPC.json | currHeadId :- '21' | currParentHeadId :- '20.0' | prevParentHeadId :- '1'\n",
      "2021-05-11 02:38:14,364 : Heading Extraction emea-combined-h-2494-bg_SmPC.json : Validation Passed | H | CAP |  bg | 0 | emea-combined-h-2494-bg_SmPC.json | currHeadId :- '21' | currParentHeadId :- '20.0' | prevParentHeadId :- '1'\n",
      "2021-05-11 02:38:14,368 : Heading Extraction emea-combined-h-2494-bg_SmPC.json : Validation Failed By Style | H | CAP |  bg | 0 | emea-combined-h-2494-bg_SmPC.json | currHeadId :- '21' | currParentHeadId :- '20.0' | prevParentHeadId :- '1'\n",
      " популация' | Qrd txt :- 'Педиатрична популация' | Matched :- 'True'_SmPC.json : Match Passed | H | CAP |  bg | 0 | emea-combined-h-2494-bg_SmPC.json | Doc txt :- 'Педиатрична\n",
      "2021-05-11 02:38:14,406 : Heading Extraction emea-combined-h-2494-bg_SmPC.json : Validation Flow Is Broken | H | CAP |  bg | 0 | emea-combined-h-2494-bg_SmPC.json | currHeadId :- '28' | currParentHeadId :- '27.0' | prevParentHeadId :- '1'\n",
      "2021-05-11 02:38:14,417 : Heading Extraction emea-combined-h-2494-bg_SmPC.json : Validation Passed | H | CAP |  bg | 0 | emea-combined-h-2494-bg_SmPC.json | currHeadId :- '28' | currParentHeadId :- '27.0' | prevParentHeadId :- '1'\n",
      "2021-05-11 02:38:14,424 : Heading Extraction emea-combined-h-2494-bg_SmPC.json : Validation Failed By Style | H | CAP |  bg | 0 | emea-combined-h-2494-bg_SmPC.json | currHeadId :- '28' | currParentHeadId :- '27.0' | prevParentHeadId :- '1'\n",
      " популация' | Qrd txt :- 'Педиатрична популация' | Matched :- 'True'_SmPC.json : Match Passed | H | CAP |  bg | 0 | emea-combined-h-2494-bg_SmPC.json | Doc txt :- 'Педиатрична\n",
      "2021-05-11 02:38:14,450 : Heading Extraction emea-combined-h-2494-bg_SmPC.json : Validation Flow Is Broken | H | CAP |  bg | 0 | emea-combined-h-2494-bg_SmPC.json | currHeadId :- '31' | currParentHeadId :- '30.0' | prevParentHeadId :- '1'\n"
     ]
    },
    {
     "name": "stdout",
     "output_type": "stream",
     "text": [
      "----------------------------------\n",
      "RemovedByStyle\n",
      "----------------------------------\n",
      "----------------------------------\n",
      "RemovedByStyle\n",
      "----------------------------------\n",
      "----------------------------------\n",
      "RemovedByStyle\n",
      "----------------------------------\n",
      "----------------------------------\n",
      "RemovedByStyle\n",
      "----------------------------------\n"
     ]
    },
    {
     "name": "stderr",
     "output_type": "stream",
     "text": [
      "2021-05-11 02:38:14,459 : Heading Extraction emea-combined-h-2494-bg_SmPC.json : Validation Passed | H | CAP |  bg | 0 | emea-combined-h-2494-bg_SmPC.json | currHeadId :- '31' | currParentHeadId :- '30.0' | prevParentHeadId :- '1'\n",
      "2021-05-11 02:38:14,464 : Heading Extraction emea-combined-h-2494-bg_SmPC.json : Validation Failed By Style | H | CAP |  bg | 0 | emea-combined-h-2494-bg_SmPC.json | currHeadId :- '31' | currParentHeadId :- '30.0' | prevParentHeadId :- '1'\n",
      " популация' | Qrd txt :- 'Педиатрична популация' | Matched :- 'True'_SmPC.json : Match Passed | H | CAP |  bg | 0 | emea-combined-h-2494-bg_SmPC.json | Doc txt :- 'Педиатрична\n",
      "2021-05-11 02:38:14,497 : Heading Extraction emea-combined-h-2494-bg_SmPC.json : Validation Flow Is Broken | H | CAP |  bg | 0 | emea-combined-h-2494-bg_SmPC.json | currHeadId :- '37' | currParentHeadId :- '33.0' | prevParentHeadId :- '1'\n",
      "2021-05-11 02:38:14,506 : Heading Extraction emea-combined-h-2494-bg_SmPC.json : Validation Passed | H | CAP |  bg | 0 | emea-combined-h-2494-bg_SmPC.json | currHeadId :- '37' | currParentHeadId :- '33.0' | prevParentHeadId :- '1'\n",
      "2021-05-11 02:38:14,512 : Heading Extraction emea-combined-h-2494-bg_SmPC.json : Validation Failed By Style | H | CAP |  bg | 0 | emea-combined-h-2494-bg_SmPC.json | currHeadId :- '37' | currParentHeadId :- '33.0' | prevParentHeadId :- '1'\n"
     ]
    },
    {
     "name": "stdout",
     "output_type": "stream",
     "text": [
      "----------------------------------\n",
      "RemovedByStyle\n",
      "----------------------------------\n",
      "----------------------------------\n",
      "RemovedByStyle\n",
      "----------------------------------\n"
     ]
    },
    {
     "name": "stderr",
     "output_type": "stream",
     "text": [
      " пациенти.' | Qrd txt :- '6.5 Вид и съдържание на опаковката <и специални приспособления за употреба, приложение или имплантиране>' | Matched :- 'False'Doc txt :- 'Профилът\n",
      " като монотерапия' | Qrd txt :- '6.5 Вид и съдържание на опаковката <и специални приспособления за употреба, приложение или имплантиране>' | Matched :- 'False' :- 'Таблица 5: Повишения\n",
      " реакции' | Qrd txt :- 'Съобщаване на подозирани нежелани реакции' | Matched :- 'True' Passed | H | CAP |  bg | 0 | emea-combined-h-2494-bg_SmPC.json | Doc txt :- 'Съобщаване\n",
      "2021-05-11 02:38:15,415 : Heading Extraction emea-combined-h-2494-bg_SmPC.json : Validation Flow Is Broken | H | CAP |  bg | 0 | emea-combined-h-2494-bg_SmPC.json | currHeadId :- '29' | currParentHeadId :- '27.0' | prevParentHeadId :- '1'\n",
      "2021-05-11 02:38:15,425 : Heading Extraction emea-combined-h-2494-bg_SmPC.json : Validation Passed | H | CAP |  bg | 0 | emea-combined-h-2494-bg_SmPC.json | currHeadId :- '29' | currParentHeadId :- '27.0' | prevParentHeadId :- '1'\n",
      "2021-05-11 02:38:15,431 : Heading Extraction emea-combined-h-2494-bg_SmPC.json : Validation Failed By Style | H | CAP |  bg | 0 | emea-combined-h-2494-bg_SmPC.json | currHeadId :- '29' | currParentHeadId :- '27.0' | prevParentHeadId :- '1'\n"
     ]
    },
    {
     "name": "stdout",
     "output_type": "stream",
     "text": [
      "----------------------------------\n",
      "RemovedByStyle\n",
      "----------------------------------\n"
     ]
    },
    {
     "name": "stderr",
     "output_type": "stream",
     "text": [
      "2021-05-11 02:38:15,708 : Heading Extraction emea-combined-h-2494-bg_SmPC.json : Match Passed | H | CAP |  bg | 0 | emea-combined-h-2494-bg_SmPC.json | Doc txt :- '4.9     Предозиране' | Qrd txt :- '4.9 Предозиране' | Matched :- 'True'\n",
      "2021-05-11 02:38:15,722 : Heading Extraction emea-combined-h-2494-bg_SmPC.json : Validation Flow Is Broken | H | CAP |  bg | 0 | emea-combined-h-2494-bg_SmPC.json | currHeadId :- '30' | currParentHeadId :- '9.0' | prevParentHeadId :- '1'\n",
      "2021-05-11 02:38:15,726 : Heading Extraction emea-combined-h-2494-bg_SmPC.json : Validation Passed | H | CAP |  bg | 0 | emea-combined-h-2494-bg_SmPC.json | currHeadId :- '30' | currParentHeadId :- '9.0' | prevParentHeadId :- '1'\n",
      "2021-05-11 02:38:15,732 : Heading Extraction emea-combined-h-2494-bg_SmPC.json : Validation Failed By Style | H | CAP |  bg | 0 | emea-combined-h-2494-bg_SmPC.json | currHeadId :- '30' | currParentHeadId :- '9.0' | prevParentHeadId :- '1'\n"
     ]
    },
    {
     "name": "stdout",
     "output_type": "stream",
     "text": [
      "----------------------------------\n",
      "RemovedByStyle\n",
      "----------------------------------\n"
     ]
    },
    {
     "name": "stderr",
     "output_type": "stream",
     "text": [
      " СВОЙСТВА ' | Qrd txt :- '5. ФАРМАКОЛОГИЧНИ СВОЙСТВА' | Matched :- 'True'.json : Match Passed | H | CAP |  bg | 0 | emea-combined-h-2494-bg_SmPC.json | Doc txt :- '5.       ФАРМАКОЛОГИЧНИ\n",
      "2021-05-11 02:38:15,982 : Heading Extraction emea-combined-h-2494-bg_SmPC.json : Validation Flow Is Broken | H | CAP |  bg | 0 | emea-combined-h-2494-bg_SmPC.json | currHeadId :- '32' | currParentHeadId :- '1.0' | prevParentHeadId :- '1'\n",
      "2021-05-11 02:38:15,988 : Heading Extraction emea-combined-h-2494-bg_SmPC.json : Validation Passed | H | CAP |  bg | 0 | emea-combined-h-2494-bg_SmPC.json | currHeadId :- '32' | currParentHeadId :- '1.0' | prevParentHeadId :- '1'\n",
      "2021-05-11 02:38:15,993 : Heading Extraction emea-combined-h-2494-bg_SmPC.json : Validation Failed By Style | H | CAP |  bg | 0 | emea-combined-h-2494-bg_SmPC.json | currHeadId :- '32' | currParentHeadId :- '1.0' | prevParentHeadId :- '1'\n"
     ]
    },
    {
     "name": "stdout",
     "output_type": "stream",
     "text": [
      "----------------------------------\n",
      "RemovedByStyle\n",
      "----------------------------------\n"
     ]
    },
    {
     "name": "stderr",
     "output_type": "stream",
     "text": [
      " свойства' | Qrd txt :- '5.1 Фармакодинамични свойства' | Matched :- 'True'son : Match Passed | H | CAP |  bg | 0 | emea-combined-h-2494-bg_SmPC.json | Doc txt :- '5.1     Фармакодинамични\n",
      "2021-05-11 02:38:16,293 : Heading Extraction emea-combined-h-2494-bg_SmPC.json : Validation Flow Is Broken | H | CAP |  bg | 0 | emea-combined-h-2494-bg_SmPC.json | currHeadId :- '33' | currParentHeadId :- '32.0' | prevParentHeadId :- '1'\n",
      "2021-05-11 02:38:16,299 : Heading Extraction emea-combined-h-2494-bg_SmPC.json : Validation Passed | H | CAP |  bg | 0 | emea-combined-h-2494-bg_SmPC.json | currHeadId :- '33' | currParentHeadId :- '32.0' | prevParentHeadId :- '1'\n",
      "2021-05-11 02:38:16,321 : Heading Extraction emea-combined-h-2494-bg_SmPC.json : Validation Failed By Style | H | CAP |  bg | 0 | emea-combined-h-2494-bg_SmPC.json | currHeadId :- '33' | currParentHeadId :- '32.0' | prevParentHeadId :- '1'\n",
      " свойства' | Qrd txt :- '5.2 Фармакокинетични свойства' | Matched :- 'False'on : Match Failed | H | CAP |  bg | 0 | emea-combined-h-2494-bg_SmPC.json | Doc txt :- '5.1     Фармакодинамични\n"
     ]
    },
    {
     "name": "stdout",
     "output_type": "stream",
     "text": [
      "----------------------------------\n",
      "RemovedByStyle\n",
      "----------------------------------\n"
     ]
    },
    {
     "name": "stderr",
     "output_type": "stream",
     "text": [
      " дихателната система,  ATC код: R07AX02' | Qrd txt :- '6.5 Вид и съдържание на опаковката <и специални приспособления за употреба, приложение или имплантиране>' | Matched :- 'False'на\n",
      " на действие' | Qrd txt :- 'Механизъм на действие' | Matched :- 'True'mPC.json : Match Passed | H | CAP |  bg | 0 | emea-combined-h-2494-bg_SmPC.json | Doc txt :- 'Механизъм\n",
      "2021-05-11 02:38:16,954 : Heading Extraction emea-combined-h-2494-bg_SmPC.json : Validation Flow Is Broken | H | CAP |  bg | 0 | emea-combined-h-2494-bg_SmPC.json | currHeadId :- '34' | currParentHeadId :- '33.0' | prevParentHeadId :- '1'\n",
      "2021-05-11 02:38:16,963 : Heading Extraction emea-combined-h-2494-bg_SmPC.json : Validation Passed | H | CAP |  bg | 0 | emea-combined-h-2494-bg_SmPC.json | currHeadId :- '34' | currParentHeadId :- '33.0' | prevParentHeadId :- '1'\n",
      "2021-05-11 02:38:16,969 : Heading Extraction emea-combined-h-2494-bg_SmPC.json : Validation Failed By Style | H | CAP |  bg | 0 | emea-combined-h-2494-bg_SmPC.json | currHeadId :- '34' | currParentHeadId :- '33.0' | prevParentHeadId :- '1'\n"
     ]
    },
    {
     "name": "stdout",
     "output_type": "stream",
     "text": [
      "----------------------------------\n",
      "RemovedByStyle\n",
      "----------------------------------\n"
     ]
    },
    {
     "name": "stderr",
     "output_type": "stream",
     "text": [
      " ефекти' | Qrd txt :- 'Фармакодинамични ефекти' | Matched :- 'True'g_SmPC.json : Match Passed | H | CAP |  bg | 0 | emea-combined-h-2494-bg_SmPC.json | Doc txt :- 'Фармакодинамични\n",
      "2021-05-11 02:38:17,255 : Heading Extraction emea-combined-h-2494-bg_SmPC.json : Validation Flow Is Broken | H | CAP |  bg | 0 | emea-combined-h-2494-bg_SmPC.json | currHeadId :- '35' | currParentHeadId :- '33.0' | prevParentHeadId :- '1'\n",
      "2021-05-11 02:38:17,265 : Heading Extraction emea-combined-h-2494-bg_SmPC.json : Validation Passed | H | CAP |  bg | 0 | emea-combined-h-2494-bg_SmPC.json | currHeadId :- '35' | currParentHeadId :- '33.0' | prevParentHeadId :- '1'\n",
      "2021-05-11 02:38:17,271 : Heading Extraction emea-combined-h-2494-bg_SmPC.json : Validation Failed By Style | H | CAP |  bg | 0 | emea-combined-h-2494-bg_SmPC.json | currHeadId :- '35' | currParentHeadId :- '33.0' | prevParentHeadId :- '1'\n"
     ]
    },
    {
     "name": "stdout",
     "output_type": "stream",
     "text": [
      "----------------------------------\n",
      "RemovedByStyle\n",
      "----------------------------------\n"
     ]
    },
    {
     "name": "stderr",
     "output_type": "stream",
     "text": [
      " безопасност' | Qrd txt :- 'Клинична ефикасност и безопасност' | Matched :- 'True'atch Passed | H | CAP |  bg | 0 | emea-combined-h-2494-bg_SmPC.json | Doc txt :- 'Клинична\n",
      "2021-05-11 02:38:18,707 : Heading Extraction emea-combined-h-2494-bg_SmPC.json : Validation Flow Is Broken | H | CAP |  bg | 0 | emea-combined-h-2494-bg_SmPC.json | currHeadId :- '36' | currParentHeadId :- '33.0' | prevParentHeadId :- '1'\n",
      "2021-05-11 02:38:18,718 : Heading Extraction emea-combined-h-2494-bg_SmPC.json : Validation Passed | H | CAP |  bg | 0 | emea-combined-h-2494-bg_SmPC.json | currHeadId :- '36' | currParentHeadId :- '33.0' | prevParentHeadId :- '1'\n",
      "2021-05-11 02:38:18,724 : Heading Extraction emea-combined-h-2494-bg_SmPC.json : Validation Failed By Style | H | CAP |  bg | 0 | emea-combined-h-2494-bg_SmPC.json | currHeadId :- '36' | currParentHeadId :- '33.0' | prevParentHeadId :- '1'\n"
     ]
    },
    {
     "name": "stdout",
     "output_type": "stream",
     "text": [
      "----------------------------------\n",
      "RemovedByStyle\n",
      "----------------------------------\n"
     ]
    },
    {
     "name": "stderr",
     "output_type": "stream",
     "text": [
      " каналопатии ' | Qrd txt :- '6.5 Вид и съдържание на опаковката <и специални приспособления за употреба, приложение или имплантиране>' | Matched :- 'False' txt :- 'Проучвания 1\n",
      " лечение. ' | Qrd txt :- '6.5 Вид и съдържание на опаковката <и специални приспособления за употреба, приложение или имплантиране>' | Matched :- 'False'Doc txt :- 'Първичната\n",
      " са дадени в Таблица 6.' | Qrd txt :- '6.5 Вид и съдържание на опаковката <и специални приспособления за употреба, приложение или имплантиране>' | Matched :- 'False'езултатите\n",
      " проучванията1 и2' | Qrd txt :- '6.5 Вид и съдържание на опаковката <и специални приспособления за употреба, приложение или имплантиране>' | Matched :- 'False' :- 'Таблица 6:\n",
      " събитията' | Qrd txt :- '6.5 Вид и съдържание на опаковката <и специални приспособления за употреба, приложение или имплантиране>' | Matched :- 'False'Doc txt :- 'ДИ:\n",
      " събитията' | Qrd txt :- '6.6 Специални предпазни мерки при изхвърляне <и работа>' | Matched :- 'False' |  bg | 0 | emea-combined-h-2494-bg_SmPC.json | Doc txt :- 'ДИ:\n",
      " на плацебо' | Qrd txt :- '6.5 Вид и съдържание на опаковката <и специални приспособления за употреба, приложение или имплантиране>' | Matched :- 'False'oc txt :- 'a        Разлика\n",
      " КФ.' | Qrd txt :- '6.5 Вид и съдържание на опаковката <и специални приспособления за употреба, приложение или имплантиране>' | Matched :- 'False'son | Doc txt :- 'б     CFQ-R:\n",
      " екзацербация' | Qrd txt :- '6.5 Вид и съдържание на опаковката <и специални приспособления за употреба, приложение или имплантиране>' | Matched :- 'False' txt :- 'г        Коефициент\n",
      " екзацербация' | Qrd txt :- '6.6 Специални предпазни мерки при изхвърляне <и работа>' | Matched :- 'False' bg | 0 | emea-combined-h-2494-bg_SmPC.json | Doc txt :- 'г        Коефициент\n",
      " ' | Qrd txt :- '6.5 Вид и съдържание на опаковката <и специални приспособления за употреба, приложение или имплантиране>' | Matched :- 'False'C.json | Doc txt :- 'Проучване 5:\n",
      " мутации' | Qrd txt :- '6.5 Вид и съдържание на опаковката <и специални приспособления за употреба, приложение или имплантиране>' | Matched :- 'False'| Doc txt :- 'Таблица 7: Ефект\n",
      " мутации.' | Qrd txt :- '6.5 Вид и съдържание на опаковката <и специални приспособления за употреба, приложение или имплантиране>' | Matched :- 'False' Doc txt :- '*     Статистическо\n",
      " мутации.' | Qrd txt :- '6.6 Специални предпазни мерки при изхвърляне <и работа>' | Matched :- 'False'P |  bg | 0 | emea-combined-h-2494-bg_SmPC.json | Doc txt :- '*     Статистическо\n",
      " йони в потта.' | Qrd txt :- '6.5 Вид и съдържание на опаковката <и специални приспособления за употреба, приложение или имплантиране>' | Matched :- 'False'txt :- '††n=3 за\n",
      " му.' | Qrd txt :- '6.5 Вид и съдържание на опаковката <и специални приспособления за употреба, приложение или имплантиране>' | Matched :- 'False'son | Doc txt :- '#     Причинява\n"
     ]
    },
    {
     "ename": "KeyboardInterrupt",
     "evalue": "",
     "output_type": "error",
     "traceback": [
      "\u001b[1;31m---------------------------------------------------------------------------\u001b[0m",
      "\u001b[1;31mKeyboardInterrupt\u001b[0m                         Traceback (most recent call last)",
      "\u001b[1;32m<ipython-input-4-794f23f6ec05>\u001b[0m in \u001b[0;36m<module>\u001b[1;34m\u001b[0m\n\u001b[1;32m----> 1\u001b[1;33m \u001b[0mparseDocument\u001b[0m\u001b[1;33m(\u001b[0m\u001b[1;34m\"F:\\\\Projects\\\\EMA\\\\Repository\\\\EMA EPI PoC\\\\function_code\\\\data\\\\converted_to_html\\\\H\\\\CAP\\\\bg\\\\emea-combined-h-2494-bg.htm\"\u001b[0m\u001b[1;33m,\u001b[0m \u001b[0mfileNameQrd\u001b[0m\u001b[1;33m,\u001b[0m \u001b[0mfileNameMatchRuleBook\u001b[0m\u001b[1;33m,\u001b[0m \u001b[0mfileNameDocumentTypeNames\u001b[0m\u001b[1;33m,\u001b[0m \u001b[0mmedName\u001b[0m \u001b[1;33m=\u001b[0m \u001b[1;34m\"Kalydeco\"\u001b[0m\u001b[1;33m,\u001b[0m \u001b[0mfsMountName\u001b[0m \u001b[1;33m=\u001b[0m \u001b[1;34m'/mounted'\u001b[0m\u001b[1;33m,\u001b[0m \u001b[0mlocalEnv\u001b[0m\u001b[1;33m=\u001b[0m \u001b[1;32mTrue\u001b[0m\u001b[1;33m)\u001b[0m\u001b[1;33m\u001b[0m\u001b[1;33m\u001b[0m\u001b[0m\n\u001b[0m",
      "\u001b[1;32m<ipython-input-3-e86f009039f1>\u001b[0m in \u001b[0;36mparseDocument\u001b[1;34m(htmlDocPath, fileNameQrd, fileNameMatchRuleBook, fileNameDocumentTypeNames, fsMountName, localEnv, medName)\u001b[0m\n\u001b[0;32m    263\u001b[0m                                     \u001b[0mmedName\u001b[0m\u001b[1;33m=\u001b[0m\u001b[0mmedName\u001b[0m\u001b[1;33m,\u001b[0m\u001b[1;33m\u001b[0m\u001b[1;33m\u001b[0m\u001b[0m\n\u001b[0;32m    264\u001b[0m                                     \u001b[0mfsMountName\u001b[0m\u001b[1;33m=\u001b[0m\u001b[0mfsMountName\u001b[0m\u001b[1;33m,\u001b[0m\u001b[1;33m\u001b[0m\u001b[1;33m\u001b[0m\u001b[0m\n\u001b[1;32m--> 265\u001b[1;33m                                     localEnv=localEnv)\n\u001b[0m\u001b[0;32m    266\u001b[0m \u001b[1;33m\u001b[0m\u001b[0m\n\u001b[0;32m    267\u001b[0m \u001b[1;33m\u001b[0m\u001b[0m\n",
      "\u001b[1;32m<ipython-input-3-e86f009039f1>\u001b[0m in \u001b[0;36mextractAndValidateHeadings\u001b[1;34m(domain, procedureType, languageCode, documentNumber, fileNameDoc, fileNameQrd, fileNameMatchRuleBook, fileNameDocumentTypeNames, fileNameLog, stopWordFilterLen, isPackageLeaflet, medName, fsMountName, localEnv)\u001b[0m\n\u001b[0;32m    194\u001b[0m         \u001b[0mfsMountName\u001b[0m\u001b[1;33m,\u001b[0m\u001b[1;33m\u001b[0m\u001b[1;33m\u001b[0m\u001b[0m\n\u001b[0;32m    195\u001b[0m         localEnv)\n\u001b[1;32m--> 196\u001b[1;33m     \u001b[0mdf\u001b[0m\u001b[1;33m,\u001b[0m \u001b[0mcoll\u001b[0m \u001b[1;33m=\u001b[0m \u001b[0mmatchDocObj\u001b[0m\u001b[1;33m.\u001b[0m\u001b[0mmatchHtmlHeaddingsWithQrd\u001b[0m\u001b[1;33m(\u001b[0m\u001b[1;33m)\u001b[0m\u001b[1;33m\u001b[0m\u001b[1;33m\u001b[0m\u001b[0m\n\u001b[0m\u001b[0;32m    197\u001b[0m \u001b[1;33m\u001b[0m\u001b[0m\n\u001b[0;32m    198\u001b[0m     \u001b[1;32mreturn\u001b[0m \u001b[0mdf\u001b[0m\u001b[1;33m,\u001b[0m \u001b[0mcoll\u001b[0m\u001b[1;33m\u001b[0m\u001b[1;33m\u001b[0m\u001b[0m\n",
      "\u001b[1;32mF:\\Projects\\EMA\\Repository\\EMA EPI PoC\\function_code\\code\\match\\matchDocument\\matchDocument.py\u001b[0m in \u001b[0;36mmatchHtmlHeaddingsWithQrd\u001b[1;34m(self)\u001b[0m\n\u001b[0;32m    378\u001b[0m                             \u001b[1;31m# Call matching algorith\u001b[0m\u001b[1;33m\u001b[0m\u001b[1;33m\u001b[0m\u001b[1;33m\u001b[0m\u001b[0m\n\u001b[0;32m    379\u001b[0m                             found, outputString = matchStringObj.matchStrings(\n\u001b[1;32m--> 380\u001b[1;33m                                 str_['Text'], qrd_str, qrd_str_row['heading_id'])\n\u001b[0m\u001b[0;32m    381\u001b[0m \u001b[1;33m\u001b[0m\u001b[0m\n\u001b[0;32m    382\u001b[0m                             \u001b[1;32mif\u001b[0m \u001b[0mfound\u001b[0m\u001b[1;33m:\u001b[0m\u001b[1;33m\u001b[0m\u001b[1;33m\u001b[0m\u001b[0m\n",
      "\u001b[1;32mF:\\Projects\\EMA\\Repository\\EMA EPI PoC\\function_code\\code\\match\\matchStrings\\matchStrings.py\u001b[0m in \u001b[0;36mmatchStrings\u001b[1;34m(self, textOriginal, textToMatch, qrdRowHeadingId, avoidLowerCaseMatch)\u001b[0m\n\u001b[0;32m    254\u001b[0m         \u001b[1;31m# Fuzzy match\u001b[0m\u001b[1;33m\u001b[0m\u001b[1;33m\u001b[0m\u001b[1;33m\u001b[0m\u001b[0m\n\u001b[0;32m    255\u001b[0m         fuzzyOutput, fuzzyScoreOutput = self.fuzzySimilarity(\n\u001b[1;32m--> 256\u001b[1;33m             textOriginal1, textToMatch1, ruleDict1)\n\u001b[0m\u001b[0;32m    257\u001b[0m         \u001b[0mresultSum\u001b[0m \u001b[1;33m=\u001b[0m \u001b[0mresultSum\u001b[0m \u001b[1;33m+\u001b[0m \u001b[0mfuzzyOutput\u001b[0m\u001b[1;33m\u001b[0m\u001b[1;33m\u001b[0m\u001b[0m\n\u001b[0;32m    258\u001b[0m         \u001b[0moutputString\u001b[0m \u001b[1;33m=\u001b[0m \u001b[0moutputString\u001b[0m \u001b[1;33m+\u001b[0m \u001b[0mstr\u001b[0m\u001b[1;33m(\u001b[0m\u001b[0mfuzzyScoreOutput\u001b[0m\u001b[1;33m)\u001b[0m \u001b[1;33m+\u001b[0m \u001b[1;34m\"|\"\u001b[0m\u001b[1;33m\u001b[0m\u001b[1;33m\u001b[0m\u001b[0m\n",
      "\u001b[1;32mF:\\Projects\\EMA\\Repository\\EMA EPI PoC\\function_code\\code\\match\\matchStrings\\matchStrings.py\u001b[0m in \u001b[0;36mfuzzySimilarity\u001b[1;34m(self, textOriginal, textToMatch, ruleDict)\u001b[0m\n\u001b[0;32m     74\u001b[0m         \u001b[0mfuzzyScore_r\u001b[0m \u001b[1;33m=\u001b[0m \u001b[0mfuzz\u001b[0m\u001b[1;33m.\u001b[0m\u001b[0mratio\u001b[0m\u001b[1;33m(\u001b[0m\u001b[0mtextOriginal\u001b[0m\u001b[1;33m,\u001b[0m \u001b[0mtextToMatch\u001b[0m\u001b[1;33m)\u001b[0m\u001b[1;33m\u001b[0m\u001b[1;33m\u001b[0m\u001b[0m\n\u001b[0;32m     75\u001b[0m         \u001b[0mfuzzyScore_pr\u001b[0m \u001b[1;33m=\u001b[0m \u001b[0mfuzz\u001b[0m\u001b[1;33m.\u001b[0m\u001b[0mpartial_ratio\u001b[0m\u001b[1;33m(\u001b[0m\u001b[0mtextOriginal\u001b[0m\u001b[1;33m,\u001b[0m \u001b[0mtextToMatch\u001b[0m\u001b[1;33m)\u001b[0m\u001b[1;33m\u001b[0m\u001b[1;33m\u001b[0m\u001b[0m\n\u001b[1;32m---> 76\u001b[1;33m         \u001b[0mfuzzyScore_wr\u001b[0m \u001b[1;33m=\u001b[0m \u001b[0mfuzz\u001b[0m\u001b[1;33m.\u001b[0m\u001b[0mWRatio\u001b[0m\u001b[1;33m(\u001b[0m\u001b[0mtextOriginal\u001b[0m\u001b[1;33m,\u001b[0m \u001b[0mtextToMatch\u001b[0m\u001b[1;33m)\u001b[0m\u001b[1;33m\u001b[0m\u001b[1;33m\u001b[0m\u001b[0m\n\u001b[0m\u001b[0;32m     77\u001b[0m         \u001b[0moutputScores\u001b[0m \u001b[1;33m=\u001b[0m \u001b[1;33m(\u001b[0m\u001b[0mfuzzyScore_r\u001b[0m\u001b[1;33m,\u001b[0m \u001b[0mfuzzyScore_pr\u001b[0m\u001b[1;33m,\u001b[0m \u001b[0mfuzzyScore_wr\u001b[0m\u001b[1;33m)\u001b[0m\u001b[1;33m\u001b[0m\u001b[1;33m\u001b[0m\u001b[0m\n\u001b[0;32m     78\u001b[0m \u001b[1;33m\u001b[0m\u001b[0m\n",
      "\u001b[1;32m~\\AppData\\Local\\Continuum\\anaconda3\\lib\\site-packages\\fuzzywuzzy\\fuzz.py\u001b[0m in \u001b[0;36mWRatio\u001b[1;34m(s1, s2, force_ascii, full_process)\u001b[0m\n\u001b[0;32m    286\u001b[0m \u001b[1;33m\u001b[0m\u001b[0m\n\u001b[0;32m    287\u001b[0m     \u001b[1;32mif\u001b[0m \u001b[0mtry_partial\u001b[0m\u001b[1;33m:\u001b[0m\u001b[1;33m\u001b[0m\u001b[1;33m\u001b[0m\u001b[0m\n\u001b[1;32m--> 288\u001b[1;33m         \u001b[0mpartial\u001b[0m \u001b[1;33m=\u001b[0m \u001b[0mpartial_ratio\u001b[0m\u001b[1;33m(\u001b[0m\u001b[0mp1\u001b[0m\u001b[1;33m,\u001b[0m \u001b[0mp2\u001b[0m\u001b[1;33m)\u001b[0m \u001b[1;33m*\u001b[0m \u001b[0mpartial_scale\u001b[0m\u001b[1;33m\u001b[0m\u001b[1;33m\u001b[0m\u001b[0m\n\u001b[0m\u001b[0;32m    289\u001b[0m         \u001b[0mptsor\u001b[0m \u001b[1;33m=\u001b[0m \u001b[0mpartial_token_sort_ratio\u001b[0m\u001b[1;33m(\u001b[0m\u001b[0mp1\u001b[0m\u001b[1;33m,\u001b[0m \u001b[0mp2\u001b[0m\u001b[1;33m,\u001b[0m \u001b[0mfull_process\u001b[0m\u001b[1;33m=\u001b[0m\u001b[1;32mFalse\u001b[0m\u001b[1;33m)\u001b[0m\u001b[0;31m \u001b[0m\u001b[0;31m\\\u001b[0m\u001b[1;33m\u001b[0m\u001b[1;33m\u001b[0m\u001b[0m\n\u001b[0;32m    290\u001b[0m             \u001b[1;33m*\u001b[0m \u001b[0munbase_scale\u001b[0m \u001b[1;33m*\u001b[0m \u001b[0mpartial_scale\u001b[0m\u001b[1;33m\u001b[0m\u001b[1;33m\u001b[0m\u001b[0m\n",
      "\u001b[1;32m~\\AppData\\Local\\Continuum\\anaconda3\\lib\\site-packages\\fuzzywuzzy\\utils.py\u001b[0m in \u001b[0;36mdecorator\u001b[1;34m(*args, **kwargs)\u001b[0m\n\u001b[0;32m     36\u001b[0m         \u001b[1;32mif\u001b[0m \u001b[0margs\u001b[0m\u001b[1;33m[\u001b[0m\u001b[1;36m0\u001b[0m\u001b[1;33m]\u001b[0m \u001b[1;32mis\u001b[0m \u001b[1;32mNone\u001b[0m \u001b[1;32mor\u001b[0m \u001b[0margs\u001b[0m\u001b[1;33m[\u001b[0m\u001b[1;36m1\u001b[0m\u001b[1;33m]\u001b[0m \u001b[1;32mis\u001b[0m \u001b[1;32mNone\u001b[0m\u001b[1;33m:\u001b[0m\u001b[1;33m\u001b[0m\u001b[1;33m\u001b[0m\u001b[0m\n\u001b[0;32m     37\u001b[0m             \u001b[1;32mreturn\u001b[0m \u001b[1;36m0\u001b[0m\u001b[1;33m\u001b[0m\u001b[1;33m\u001b[0m\u001b[0m\n\u001b[1;32m---> 38\u001b[1;33m         \u001b[1;32mreturn\u001b[0m \u001b[0mfunc\u001b[0m\u001b[1;33m(\u001b[0m\u001b[1;33m*\u001b[0m\u001b[0margs\u001b[0m\u001b[1;33m,\u001b[0m \u001b[1;33m**\u001b[0m\u001b[0mkwargs\u001b[0m\u001b[1;33m)\u001b[0m\u001b[1;33m\u001b[0m\u001b[1;33m\u001b[0m\u001b[0m\n\u001b[0m\u001b[0;32m     39\u001b[0m     \u001b[1;32mreturn\u001b[0m \u001b[0mdecorator\u001b[0m\u001b[1;33m\u001b[0m\u001b[1;33m\u001b[0m\u001b[0m\n\u001b[0;32m     40\u001b[0m \u001b[1;33m\u001b[0m\u001b[0m\n",
      "\u001b[1;32m~\\AppData\\Local\\Continuum\\anaconda3\\lib\\site-packages\\fuzzywuzzy\\utils.py\u001b[0m in \u001b[0;36mdecorator\u001b[1;34m(*args, **kwargs)\u001b[0m\n\u001b[0;32m     27\u001b[0m         \u001b[1;32mif\u001b[0m \u001b[0margs\u001b[0m\u001b[1;33m[\u001b[0m\u001b[1;36m0\u001b[0m\u001b[1;33m]\u001b[0m \u001b[1;33m==\u001b[0m \u001b[0margs\u001b[0m\u001b[1;33m[\u001b[0m\u001b[1;36m1\u001b[0m\u001b[1;33m]\u001b[0m\u001b[1;33m:\u001b[0m\u001b[1;33m\u001b[0m\u001b[1;33m\u001b[0m\u001b[0m\n\u001b[0;32m     28\u001b[0m             \u001b[1;32mreturn\u001b[0m \u001b[1;36m100\u001b[0m\u001b[1;33m\u001b[0m\u001b[1;33m\u001b[0m\u001b[0m\n\u001b[1;32m---> 29\u001b[1;33m         \u001b[1;32mreturn\u001b[0m \u001b[0mfunc\u001b[0m\u001b[1;33m(\u001b[0m\u001b[1;33m*\u001b[0m\u001b[0margs\u001b[0m\u001b[1;33m,\u001b[0m \u001b[1;33m**\u001b[0m\u001b[0mkwargs\u001b[0m\u001b[1;33m)\u001b[0m\u001b[1;33m\u001b[0m\u001b[1;33m\u001b[0m\u001b[0m\n\u001b[0m\u001b[0;32m     30\u001b[0m     \u001b[1;32mreturn\u001b[0m \u001b[0mdecorator\u001b[0m\u001b[1;33m\u001b[0m\u001b[1;33m\u001b[0m\u001b[0m\n\u001b[0;32m     31\u001b[0m \u001b[1;33m\u001b[0m\u001b[0m\n",
      "\u001b[1;32m~\\AppData\\Local\\Continuum\\anaconda3\\lib\\site-packages\\fuzzywuzzy\\utils.py\u001b[0m in \u001b[0;36mdecorator\u001b[1;34m(*args, **kwargs)\u001b[0m\n\u001b[0;32m     45\u001b[0m         \u001b[1;32mif\u001b[0m \u001b[0mlen\u001b[0m\u001b[1;33m(\u001b[0m\u001b[0margs\u001b[0m\u001b[1;33m[\u001b[0m\u001b[1;36m0\u001b[0m\u001b[1;33m]\u001b[0m\u001b[1;33m)\u001b[0m \u001b[1;33m==\u001b[0m \u001b[1;36m0\u001b[0m \u001b[1;32mor\u001b[0m \u001b[0mlen\u001b[0m\u001b[1;33m(\u001b[0m\u001b[0margs\u001b[0m\u001b[1;33m[\u001b[0m\u001b[1;36m1\u001b[0m\u001b[1;33m]\u001b[0m\u001b[1;33m)\u001b[0m \u001b[1;33m==\u001b[0m \u001b[1;36m0\u001b[0m\u001b[1;33m:\u001b[0m\u001b[1;33m\u001b[0m\u001b[1;33m\u001b[0m\u001b[0m\n\u001b[0;32m     46\u001b[0m             \u001b[1;32mreturn\u001b[0m \u001b[1;36m0\u001b[0m\u001b[1;33m\u001b[0m\u001b[1;33m\u001b[0m\u001b[0m\n\u001b[1;32m---> 47\u001b[1;33m         \u001b[1;32mreturn\u001b[0m \u001b[0mfunc\u001b[0m\u001b[1;33m(\u001b[0m\u001b[1;33m*\u001b[0m\u001b[0margs\u001b[0m\u001b[1;33m,\u001b[0m \u001b[1;33m**\u001b[0m\u001b[0mkwargs\u001b[0m\u001b[1;33m)\u001b[0m\u001b[1;33m\u001b[0m\u001b[1;33m\u001b[0m\u001b[0m\n\u001b[0m\u001b[0;32m     48\u001b[0m     \u001b[1;32mreturn\u001b[0m \u001b[0mdecorator\u001b[0m\u001b[1;33m\u001b[0m\u001b[1;33m\u001b[0m\u001b[0m\n\u001b[0;32m     49\u001b[0m \u001b[1;33m\u001b[0m\u001b[0m\n",
      "\u001b[1;32m~\\AppData\\Local\\Continuum\\anaconda3\\lib\\site-packages\\fuzzywuzzy\\fuzz.py\u001b[0m in \u001b[0;36mpartial_ratio\u001b[1;34m(s1, s2)\u001b[0m\n\u001b[0;32m     60\u001b[0m \u001b[1;33m\u001b[0m\u001b[0m\n\u001b[0;32m     61\u001b[0m         \u001b[0mm2\u001b[0m \u001b[1;33m=\u001b[0m \u001b[0mSequenceMatcher\u001b[0m\u001b[1;33m(\u001b[0m\u001b[1;32mNone\u001b[0m\u001b[1;33m,\u001b[0m \u001b[0mshorter\u001b[0m\u001b[1;33m,\u001b[0m \u001b[0mlong_substr\u001b[0m\u001b[1;33m)\u001b[0m\u001b[1;33m\u001b[0m\u001b[1;33m\u001b[0m\u001b[0m\n\u001b[1;32m---> 62\u001b[1;33m         \u001b[0mr\u001b[0m \u001b[1;33m=\u001b[0m \u001b[0mm2\u001b[0m\u001b[1;33m.\u001b[0m\u001b[0mratio\u001b[0m\u001b[1;33m(\u001b[0m\u001b[1;33m)\u001b[0m\u001b[1;33m\u001b[0m\u001b[1;33m\u001b[0m\u001b[0m\n\u001b[0m\u001b[0;32m     63\u001b[0m         \u001b[1;32mif\u001b[0m \u001b[0mr\u001b[0m \u001b[1;33m>\u001b[0m \u001b[1;36m.995\u001b[0m\u001b[1;33m:\u001b[0m\u001b[1;33m\u001b[0m\u001b[1;33m\u001b[0m\u001b[0m\n\u001b[0;32m     64\u001b[0m             \u001b[1;32mreturn\u001b[0m \u001b[1;36m100\u001b[0m\u001b[1;33m\u001b[0m\u001b[1;33m\u001b[0m\u001b[0m\n",
      "\u001b[1;32m~\\AppData\\Local\\Continuum\\anaconda3\\lib\\difflib.py\u001b[0m in \u001b[0;36mratio\u001b[1;34m(self)\u001b[0m\n\u001b[0;32m    642\u001b[0m         \"\"\"\n\u001b[0;32m    643\u001b[0m \u001b[1;33m\u001b[0m\u001b[0m\n\u001b[1;32m--> 644\u001b[1;33m         \u001b[0mmatches\u001b[0m \u001b[1;33m=\u001b[0m \u001b[0msum\u001b[0m\u001b[1;33m(\u001b[0m\u001b[0mtriple\u001b[0m\u001b[1;33m[\u001b[0m\u001b[1;33m-\u001b[0m\u001b[1;36m1\u001b[0m\u001b[1;33m]\u001b[0m \u001b[1;32mfor\u001b[0m \u001b[0mtriple\u001b[0m \u001b[1;32min\u001b[0m \u001b[0mself\u001b[0m\u001b[1;33m.\u001b[0m\u001b[0mget_matching_blocks\u001b[0m\u001b[1;33m(\u001b[0m\u001b[1;33m)\u001b[0m\u001b[1;33m)\u001b[0m\u001b[1;33m\u001b[0m\u001b[1;33m\u001b[0m\u001b[0m\n\u001b[0m\u001b[0;32m    645\u001b[0m         \u001b[1;32mreturn\u001b[0m \u001b[0m_calculate_ratio\u001b[0m\u001b[1;33m(\u001b[0m\u001b[0mmatches\u001b[0m\u001b[1;33m,\u001b[0m \u001b[0mlen\u001b[0m\u001b[1;33m(\u001b[0m\u001b[0mself\u001b[0m\u001b[1;33m.\u001b[0m\u001b[0ma\u001b[0m\u001b[1;33m)\u001b[0m \u001b[1;33m+\u001b[0m \u001b[0mlen\u001b[0m\u001b[1;33m(\u001b[0m\u001b[0mself\u001b[0m\u001b[1;33m.\u001b[0m\u001b[0mb\u001b[0m\u001b[1;33m)\u001b[0m\u001b[1;33m)\u001b[0m\u001b[1;33m\u001b[0m\u001b[1;33m\u001b[0m\u001b[0m\n\u001b[0;32m    646\u001b[0m \u001b[1;33m\u001b[0m\u001b[0m\n",
      "\u001b[1;32m~\\AppData\\Local\\Continuum\\anaconda3\\lib\\difflib.py\u001b[0m in \u001b[0;36mget_matching_blocks\u001b[1;34m(self)\u001b[0m\n\u001b[0;32m    477\u001b[0m         \u001b[1;32mwhile\u001b[0m \u001b[0mqueue\u001b[0m\u001b[1;33m:\u001b[0m\u001b[1;33m\u001b[0m\u001b[1;33m\u001b[0m\u001b[0m\n\u001b[0;32m    478\u001b[0m             \u001b[0malo\u001b[0m\u001b[1;33m,\u001b[0m \u001b[0mahi\u001b[0m\u001b[1;33m,\u001b[0m \u001b[0mblo\u001b[0m\u001b[1;33m,\u001b[0m \u001b[0mbhi\u001b[0m \u001b[1;33m=\u001b[0m \u001b[0mqueue\u001b[0m\u001b[1;33m.\u001b[0m\u001b[0mpop\u001b[0m\u001b[1;33m(\u001b[0m\u001b[1;33m)\u001b[0m\u001b[1;33m\u001b[0m\u001b[1;33m\u001b[0m\u001b[0m\n\u001b[1;32m--> 479\u001b[1;33m             \u001b[0mi\u001b[0m\u001b[1;33m,\u001b[0m \u001b[0mj\u001b[0m\u001b[1;33m,\u001b[0m \u001b[0mk\u001b[0m \u001b[1;33m=\u001b[0m \u001b[0mx\u001b[0m \u001b[1;33m=\u001b[0m \u001b[0mself\u001b[0m\u001b[1;33m.\u001b[0m\u001b[0mfind_longest_match\u001b[0m\u001b[1;33m(\u001b[0m\u001b[0malo\u001b[0m\u001b[1;33m,\u001b[0m \u001b[0mahi\u001b[0m\u001b[1;33m,\u001b[0m \u001b[0mblo\u001b[0m\u001b[1;33m,\u001b[0m \u001b[0mbhi\u001b[0m\u001b[1;33m)\u001b[0m\u001b[1;33m\u001b[0m\u001b[1;33m\u001b[0m\u001b[0m\n\u001b[0m\u001b[0;32m    480\u001b[0m             \u001b[1;31m# a[alo:i] vs b[blo:j] unknown\u001b[0m\u001b[1;33m\u001b[0m\u001b[1;33m\u001b[0m\u001b[1;33m\u001b[0m\u001b[0m\n\u001b[0;32m    481\u001b[0m             \u001b[1;31m# a[i:i+k] same as b[j:j+k]\u001b[0m\u001b[1;33m\u001b[0m\u001b[1;33m\u001b[0m\u001b[1;33m\u001b[0m\u001b[0m\n",
      "\u001b[1;32m~\\AppData\\Local\\Continuum\\anaconda3\\lib\\difflib.py\u001b[0m in \u001b[0;36mfind_longest_match\u001b[1;34m(self, alo, ahi, blo, bhi)\u001b[0m\n\u001b[0;32m    408\u001b[0m                 \u001b[1;32mif\u001b[0m \u001b[0mj\u001b[0m \u001b[1;33m>=\u001b[0m \u001b[0mbhi\u001b[0m\u001b[1;33m:\u001b[0m\u001b[1;33m\u001b[0m\u001b[1;33m\u001b[0m\u001b[0m\n\u001b[0;32m    409\u001b[0m                     \u001b[1;32mbreak\u001b[0m\u001b[1;33m\u001b[0m\u001b[1;33m\u001b[0m\u001b[0m\n\u001b[1;32m--> 410\u001b[1;33m                 \u001b[0mk\u001b[0m \u001b[1;33m=\u001b[0m \u001b[0mnewj2len\u001b[0m\u001b[1;33m[\u001b[0m\u001b[0mj\u001b[0m\u001b[1;33m]\u001b[0m \u001b[1;33m=\u001b[0m \u001b[0mj2lenget\u001b[0m\u001b[1;33m(\u001b[0m\u001b[0mj\u001b[0m\u001b[1;33m-\u001b[0m\u001b[1;36m1\u001b[0m\u001b[1;33m,\u001b[0m \u001b[1;36m0\u001b[0m\u001b[1;33m)\u001b[0m \u001b[1;33m+\u001b[0m \u001b[1;36m1\u001b[0m\u001b[1;33m\u001b[0m\u001b[1;33m\u001b[0m\u001b[0m\n\u001b[0m\u001b[0;32m    411\u001b[0m                 \u001b[1;32mif\u001b[0m \u001b[0mk\u001b[0m \u001b[1;33m>\u001b[0m \u001b[0mbestsize\u001b[0m\u001b[1;33m:\u001b[0m\u001b[1;33m\u001b[0m\u001b[1;33m\u001b[0m\u001b[0m\n\u001b[0;32m    412\u001b[0m                     \u001b[0mbesti\u001b[0m\u001b[1;33m,\u001b[0m \u001b[0mbestj\u001b[0m\u001b[1;33m,\u001b[0m \u001b[0mbestsize\u001b[0m \u001b[1;33m=\u001b[0m \u001b[0mi\u001b[0m\u001b[1;33m-\u001b[0m\u001b[0mk\u001b[0m\u001b[1;33m+\u001b[0m\u001b[1;36m1\u001b[0m\u001b[1;33m,\u001b[0m \u001b[0mj\u001b[0m\u001b[1;33m-\u001b[0m\u001b[0mk\u001b[0m\u001b[1;33m+\u001b[0m\u001b[1;36m1\u001b[0m\u001b[1;33m,\u001b[0m \u001b[0mk\u001b[0m\u001b[1;33m\u001b[0m\u001b[1;33m\u001b[0m\u001b[0m\n",
      "\u001b[1;31mKeyboardInterrupt\u001b[0m: "
     ]
    }
   ],
   "source": [
    "parseDocument(\"F:\\\\Projects\\\\EMA\\\\Repository\\\\EMA EPI PoC\\\\function_code\\\\data\\\\converted_to_html\\\\H\\\\CAP\\\\bg\\\\emea-combined-h-2494-bg.htm\", fileNameQrd, fileNameMatchRuleBook, fileNameDocumentTypeNames, medName = \"Kalydeco\", fsMountName = '/mounted', localEnv= True)"
   ]
  },
  {
   "cell_type": "code",
   "execution_count": null,
   "metadata": {},
   "outputs": [],
   "source": []
  }
 ],
 "metadata": {
  "kernelspec": {
   "display_name": "Python 3",
   "language": "python",
   "name": "python3"
  },
  "language_info": {
   "codemirror_mode": {
    "name": "ipython",
    "version": 3
   },
   "file_extension": ".py",
   "mimetype": "text/x-python",
   "name": "python",
   "nbconvert_exporter": "python",
   "pygments_lexer": "ipython3",
   "version": "3.7.3"
  }
 },
 "nbformat": 4,
 "nbformat_minor": 4
}
