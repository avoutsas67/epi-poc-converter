{
 "cells": [
  {
   "cell_type": "code",
   "execution_count": 1,
   "metadata": {},
   "outputs": [],
   "source": [
    "fileNameQrd = 'qrd_canonical_model.csv'\n",
    "fileNameMatchRuleBook = 'ruleDict.json'\n",
    "fileNameDocumentTypeNames = 'documentTypeNames.json'\n",
    "\n",
    "fsMountName = '/mounted'"
   ]
  },
  {
   "cell_type": "code",
   "execution_count": 2,
   "metadata": {},
   "outputs": [
    {
     "name": "stderr",
     "output_type": "stream",
     "text": [
      "C:\\Users\\vipsharm\\AppData\\Local\\Continuum\\anaconda3\\lib\\site-packages\\fuzzywuzzy\\fuzz.py:11: UserWarning: Using slow pure-python SequenceMatcher. Install python-Levenshtein to remove this warning\n",
      "  warnings.warn('Using slow pure-python SequenceMatcher. Install python-Levenshtein to remove this warning')\n",
      "[nltk_data] Downloading package stopwords to\n",
      "[nltk_data]     C:\\Users\\vipsharm\\AppData\\Roaming\\nltk_data...\n",
      "[nltk_data]   Package stopwords is already up-to-date!\n"
     ]
    }
   ],
   "source": [
    "import pprint\n",
    "import pandas as pd\n",
    "import uuid\n",
    "import json\n",
    "import os\n",
    "import glob\n",
    "import re\n",
    "import sys\n",
    "from bs4 import NavigableString, BeautifulSoup\n",
    "from collections import defaultdict\n",
    "import random\n",
    "import string\n",
    "\n",
    "from utils.config import config\n",
    "from utils.logger.logger import loggerCreator\n",
    "\n",
    "# ePI Modules\n",
    "from parse.rulebook.rulebook import StyleRulesDictionary\n",
    "\n",
    "from parse.extractor.parser import parserExtractor\n",
    "from match.matchDocument.matchDocument import MatchDocument\n",
    "from documentAnnotation.documentAnnotation import DocumentAnnotation\n",
    "from htmlDocTypePartitioner.partition import DocTypePartitioner\n",
    "from extractContentBetweenHeadings.dataBetweenHeadingsExtractor import DataBetweenHeadingsExtractor\n",
    "from fhirXmlGenerator.fhirXmlGenerator import FhirXmlGenerator\n",
    "from fhirService.fhirService import FhirService\n",
    "from utils.logger.matchLogger import MatchLogger\n",
    "from languageInfo.documentTypeNames.documentTypeNames import DocumentTypeNames\n",
    "\n",
    "\n",
    "class FolderNotFoundError(Exception):\n",
    "    pass\n",
    "\n",
    "\n",
    "def getRandomString(N):\n",
    "    str_ = ''.join(random.choice(string.ascii_uppercase + string.digits\n",
    "                                 + string.ascii_lowercase) for _ in range(N))\n",
    "    return str_\n",
    "\n",
    "\n",
    "def convertHtmlToJson(domain, procedureType, languageCode, fileNameHtml, fileNameQrd, fileNameLog, fsMountName, localEnv):\n",
    "\n",
    "    if localEnv is True:\n",
    "        pathSep = \"\\\\\"\n",
    "        module_path = os.path.join(os.path.abspath(os.path.join('..')), 'data', 'converted_to_html', f'{domain}', f'{procedureType}', f'{languageCode}')\n",
    "    else:\n",
    "        pathSep = \"/\"\n",
    "        module_path = os.path.join(f'{fsMountName}', 'data', 'converted_to_html', f'{domain}', f'{procedureType}', f'{languageCode}')\n",
    "    \n",
    "    # Generate output folder path\n",
    "    output_json_path = module_path.replace('converted_to_html', 'outputJSON')\n",
    "\n",
    "    \"\"\"\n",
    "        Check if input folder exists, else throw exception\n",
    "    \"\"\"\n",
    "    if(os.path.exists(module_path)):\n",
    "        filenames = glob.glob(os.path.join(module_path, fileNameHtml))\n",
    "\n",
    "        # Create language specific folder in outputJSON folder if it doesn't exist\n",
    "        if(not os.path.exists(output_json_path)):\n",
    "            os.mkdir(output_json_path)\n",
    "        logger = MatchLogger(f'Parser_{getRandomString(1)}', fileNameHtml,\n",
    "                             domain, procedureType, languageCode, \"HTML\", fileNameLog)\n",
    "\n",
    "        styleLogger = MatchLogger(\n",
    "            f'Style Dictionary_{getRandomString(1)}', fileNameHtml, domain, procedureType, languageCode, \"HTML\", fileNameLog)\n",
    "\n",
    "        styleRulesObj = StyleRulesDictionary(styleLogger,\n",
    "                                             language=languageCode,\n",
    "                                             fileName=fileNameQrd,\n",
    "                                             domain=domain,\n",
    "                                             procedureType=procedureType,\n",
    "                                             fsMountName=fsMountName,\n",
    "                                             localEnv=localEnv)\n",
    "\n",
    "        parserObj = parserExtractor(config, logger, styleRulesObj.styleRuleDict,\n",
    "                                    styleRulesObj.styleFeatureKeyList,\n",
    "                                    styleRulesObj.qrd_section_headings)\n",
    "\n",
    "        for input_filename in filenames:\n",
    "          # if(input_filename.find('Kalydeco II-86-PI-clean')!=-1):\n",
    "            output_filename = input_filename.replace('converted_to_html', 'outputJSON')\n",
    "            style_filepath =  output_filename.replace('.html','.txt')\n",
    "            style_filepath =  style_filepath.replace('.txtl','.txt')\n",
    "            style_filepath =  style_filepath.replace('.htm','.txt')\n",
    "            print(\"-------------\",style_filepath,\"-----------------\")\n",
    "\n",
    "            output_filename = output_filename.replace('.html', '.json')\n",
    "            output_filename = output_filename.replace('.htm', '.json')\n",
    "            print(input_filename, output_filename)\n",
    "            parserObj.createPIJsonFromHTML(input_filepath=input_filename,\n",
    "                                           output_filepath=output_filename,\n",
    "                                           style_filepath = style_filepath,\n",
    "                                           img_base64_dict=parserObj.convertImgToBase64(input_filename)\n",
    "                                           )\n",
    "            \n",
    "        return output_filename.split(pathSep)[-1], style_filepath\n",
    "    else:\n",
    "        try:    \n",
    "            raise FolderNotFoundError(module_path + \" not found\")\n",
    "        except:  \n",
    "            logger.logFlowCheckpoint(\"Folder For Language Code Not Found In Input File\")\n",
    "            logger.logException(\"Folder For Language Code Not Found In Input File\")\n",
    "        raise FolderNotFoundError(module_path + \" not found\")\n",
    "        return None\n",
    "\n",
    "\n",
    "def splitJson(domain, procedureType, languageCode, fileNameJson, fileNameQrd, fileNameLog, fsMountName, localEnv):\n",
    "\n",
    "    styleLogger = MatchLogger(\n",
    "        f'Style Dictionary_{getRandomString(1)}', fileNameJson, domain, procedureType, languageCode, \"Json\", fileNameLog)\n",
    "\n",
    "    styleRulesObj = StyleRulesDictionary(styleLogger,\n",
    "                                             language=languageCode,\n",
    "                                             fileName=fileNameQrd,\n",
    "                                             domain=domain,\n",
    "                                             procedureType=procedureType,\n",
    "                                             fsMountName=fsMountName,\n",
    "                                             localEnv=localEnv)\n",
    "    if localEnv is True:\n",
    "        path_json = os.path.join(os.path.abspath(os.path.join(\n",
    "                '..')), 'data', 'outputJSON', domain, procedureType, languageCode, fileNameJson)\n",
    "    else:\n",
    "        path_json = os.path.join(f'{fsMountName}', 'data', 'outputJSON', domain,  procedureType, languageCode, fileNameJson)\n",
    "        \n",
    "    partitionLogger = MatchLogger(\n",
    "        f'Partition_{getRandomString(1)}', fileNameJson, domain, procedureType, languageCode, \"Json\", fileNameLog)\n",
    "\n",
    "    partitioner = DocTypePartitioner(partitionLogger, localEnv)\n",
    "\n",
    "    partitionedJsonPaths = partitioner.partitionHtmls(\n",
    "        styleRulesObj.qrd_section_headings, path_json)\n",
    "\n",
    "    return partitionedJsonPaths\n",
    "\n",
    "\n",
    "def extractAndValidateHeadings(domain,\n",
    "                               procedureType,\n",
    "                               languageCode,\n",
    "                               documentNumber,\n",
    "                               fileNameDoc,\n",
    "                               fileNameQrd,\n",
    "                               fileNameMatchRuleBook,\n",
    "                               fileNameDocumentTypeNames,\n",
    "                               fileNameLog,\n",
    "                               stopWordFilterLen=6,\n",
    "                               isPackageLeaflet=False,\n",
    "                               medName=None,\n",
    "                               fsMountName='/mounted',\n",
    "                               localEnv=False):\n",
    "\n",
    "    if documentNumber == 0:\n",
    "        topHeadingsConsidered = 4\n",
    "        bottomHeadingsConsidered = 6\n",
    "    elif documentNumber == 1:\n",
    "        topHeadingsConsidered = 3\n",
    "        bottomHeadingsConsidered = 5\n",
    "    elif documentNumber == 2:\n",
    "        topHeadingsConsidered = 5\n",
    "        bottomHeadingsConsidered = 15\n",
    "    else:\n",
    "        topHeadingsConsidered = 5\n",
    "        bottomHeadingsConsidered = 10\n",
    "\n",
    "    print(f\"Starting Heading Extraction For File :- {fileNameDoc}\")\n",
    "    logger = MatchLogger(f\"Heading Extraction {fileNameDoc}\", fileNameDoc, domain, procedureType, languageCode, documentNumber, fileNameLog)\n",
    "    logger.logFlowCheckpoint(\"Starting Heading Extraction\")\n",
    "\n",
    "    stopWordlanguage = DocumentTypeNames(\n",
    "        fileNameDocumentTypeNames=fileNameDocumentTypeNames,\n",
    "        languageCode=languageCode,\n",
    "        domain=domain,\n",
    "        procedureType=procedureType,\n",
    "        documentNumber=documentNumber,\n",
    "        fsMountName=fsMountName,\n",
    "        localEnv=localEnv).extractStopWordLanguage()\n",
    "\n",
    "    matchDocObj = MatchDocument(\n",
    "        logger,\n",
    "        domain,\n",
    "        procedureType,\n",
    "        languageCode,\n",
    "        documentNumber,\n",
    "        fileNameDoc,\n",
    "        fileNameQrd,\n",
    "        fileNameMatchRuleBook,\n",
    "        fileNameDocumentTypeNames,\n",
    "        topHeadingsConsidered,\n",
    "        bottomHeadingsConsidered,\n",
    "        stopWordFilterLen,\n",
    "        stopWordlanguage,\n",
    "        isPackageLeaflet,\n",
    "        medName,\n",
    "        fsMountName,\n",
    "        localEnv)\n",
    "    df, coll = matchDocObj.matchHtmlHeaddingsWithQrd()\n",
    "\n",
    "    return df, coll\n",
    "\n",
    "\n",
    "def parseDocument(htmlDocPath, fileNameQrd, fileNameMatchRuleBook, fileNameDocumentTypeNames, fsMountName = '/mounted', localEnv= False, medName = None):\n",
    "    \n",
    "    if localEnv is True:\n",
    "        pathSep = \"\\\\\"\n",
    "        fileNameLog = os.path.join(os.path.abspath(os.path.join('..')),'data','FinalLog.txt')\n",
    "    else:\n",
    "        pathSep = \"/\"\n",
    "        fileNameLog = os.path.join(f'{fsMountName}','data','FinalLog.txt')\n",
    "    pathComponents = htmlDocPath.split(pathSep)\n",
    "    print(pathComponents)\n",
    "    fileNameHtml = pathComponents[-1]\n",
    "    languageCode =  pathComponents[-2]\n",
    "    procedureType = pathComponents[-3]\n",
    "    domain = pathComponents[-4]\n",
    "\n",
    "    #procedureType = \"CAP\"\n",
    "    print(fileNameHtml,languageCode,procedureType)\n",
    "    \n",
    "    \n",
    "    \n",
    "    flowLogger =  MatchLogger(f\"Flow Logger HTML_{getRandomString(1)}\", fileNameHtml, domain, procedureType, languageCode, \"HTML\", fileNameLog)\n",
    "\n",
    "    flowLogger.logFlowCheckpoint(\"Starting HTML Conversion To Json\")\n",
    "    ###Convert Html to Json\n",
    "    fileNameJson, stylesFilePath = convertHtmlToJson( domain, procedureType, languageCode, fileNameHtml, fileNameQrd, fileNameLog, fsMountName, localEnv)\n",
    "    \n",
    "    flowLogger.logFlowCheckpoint(\"Completed HTML Conversion To Json\")\n",
    "\n",
    "    flowLogger.logFlowCheckpoint(\"Starting Json Split\")\n",
    "\n",
    "    ###Split Uber Json to multiple Jsons for each category.\n",
    "    partitionedJsonPaths = splitJson(domain, procedureType, languageCode, fileNameJson, fileNameQrd, fileNameLog, fsMountName, localEnv)\n",
    "    \n",
    "    partitionedJsonPaths = [ path.split(pathSep)[-1] for path in partitionedJsonPaths]\n",
    "    flowLogger.logFlowCheckpoint(str(partitionedJsonPaths))\n",
    "    \n",
    "    flowLogger.logFlowCheckpoint(\"Completed Json Split\")\n",
    "    \n",
    "    flowLogger.logFlowCheckpoint(\"Started Processing Partitioned Jsons\")\n",
    "    \n",
    "    for index, fileNamePartitioned in enumerate(partitionedJsonPaths):\n",
    "        \n",
    "        flowLogger.logFlowCheckpoint(f\"\\n\\n\\n\\n||||||||||||||||||||||||||||||||{str(index)} ||||| {str(fileNamePartitioned)}||||||||||||||||||||||||||||||||\\n\\n\\n\\n\")\n",
    "        \n",
    "        if index == 3:\n",
    "            stopWordFilterLen = 100\n",
    "            isPackageLeaflet = True\n",
    "        else:\n",
    "            stopWordFilterLen = 6\n",
    "            isPackageLeaflet = False\n",
    "            \n",
    "        df, coll = extractAndValidateHeadings(domain,\n",
    "                                    procedureType,\n",
    "                                    languageCode,\n",
    "                                    index,\n",
    "                                    fileNamePartitioned,\n",
    "                                    fileNameQrd,\n",
    "                                    fileNameMatchRuleBook,\n",
    "                                    fileNameDocumentTypeNames,\n",
    "                                    fileNameLog,\n",
    "                                    stopWordFilterLen=stopWordFilterLen,\n",
    "                                    isPackageLeaflet=isPackageLeaflet,\n",
    "                                    medName=medName,\n",
    "                                    fsMountName=fsMountName,\n",
    "                                    localEnv=localEnv)\n",
    "        \n",
    "        \n",
    "        print(f\"Completed Heading Extraction For File\")\n",
    "        flowLogger.logFlowCheckpoint(\"Completed Heading Extraction For File\")\n",
    "        \n",
    "        print(f\"Starting Document Annotation For File :- {fileNamePartitioned}\")        \n",
    "        flowLogger.logFlowCheckpoint(\"Starting Document Annotation For File\")\n",
    "        documentAnnotationObj = DocumentAnnotation(fileNamePartitioned,'c20835db4b1b4e108828a8537ff41506','https://spor-sit.azure-api.net/pms/api/v2/',df,coll)\n",
    "        try:\n",
    "            pms_oms_annotation_data = documentAnnotationObj.processRegulatedAuthorizationForDoc()\n",
    "            print(pms_oms_annotation_data)\n",
    "        except:\n",
    "            pms_oms_annotation_data = None\n",
    "            print(\"Error Found\")\n",
    "            \n",
    "        print(f\"Completed Document Annotation\")        \n",
    "        flowLogger.logFlowCheckpoint(\"Completed Document Annotation\")\n",
    "        \n",
    "        print(f\"Starting Extracting Content Between Heading For File :- {fileNamePartitioned}\")        \n",
    "        flowLogger.logFlowCheckpoint(\"Starting Extracting Content Between Heading\")\n",
    "        \n",
    "        extractContentlogger =  MatchLogger(f'ExtractContentBetween_{index}', fileNamePartitioned, domain, procedureType, languageCode, index, fileNameLog)\n",
    "        extractorObj = DataBetweenHeadingsExtractor(extractContentlogger, coll, domain, procedureType, languageCode, fsMountName, localEnv)\n",
    "        dfExtractedHierRR = extractorObj.extractContentBetweenHeadings(fileNamePartitioned)\n",
    "        \n",
    "        print(f\"Completed Extracting Content Between Heading\")        \n",
    "        flowLogger.logFlowCheckpoint(\"Completed Extracting Content Between Heading\")\n",
    "        \n",
    "        xmlLogger =  MatchLogger(f'XmlGeneration_{index}', fileNamePartitioned, domain, procedureType, languageCode, index, fileNameLog)\n",
    "        fhirXmlGeneratorObj = FhirXmlGenerator(xmlLogger, pms_oms_annotation_data, stylesFilePath, medName, fsMountName, localEnv)\n",
    "        fileNameXml = fileNamePartitioned.replace('.json','.xml')\n",
    "        generatedXml = fhirXmlGeneratorObj.generateXml(dfExtractedHierRR, fileNameXml)\n",
    "        \n",
    "        fhirServiceLogger =  MatchLogger(f'XML Submission Logger_{index}', fileNamePartitioned, domain, procedureType, languageCode, index, fileNameLog)\n",
    "\n",
    "        fhirServiceObj = FhirService(fhirServiceLogger, generatedXml, fsMountName, localEnv)\n",
    "        fhirServiceObj.submitFhirXml()\n",
    "        print(f\"Created XML File For :- {fileNamePartitioned}\")        \n",
    "\n",
    "        #return df,coll,dfExtractedHierRR\n",
    "    \n",
    "    flowLogger.logFlowCheckpoint(\"Completed Processing Partitioned Jsons\")\n"
   ]
  },
  {
   "cell_type": "code",
   "execution_count": 3,
   "metadata": {},
   "outputs": [
    {
     "name": "stderr",
     "output_type": "stream",
     "text": [
      "2021-05-07 18:47:12,775 : Flow Logger HTML_K : Starting HTML Conversion To Json | H | CAP |  en | HTML | Adakveo-4874 EN PI.html\n",
      "2021-05-07 18:47:12,786 : Style Dictionary_L : Reading style dictionary in file: rule_dictionary_en.json | H | CAP |  en | HTML | Adakveo-4874 EN PI.html\n",
      "2021-05-07 18:47:12,837 : Style Dictionary_L : Qrd Section Keys Retrieved For Style Dictionary: ANNEX I, ANNEX II, ANNEX III, B. PACKAGE LEAFLET | H | CAP |  en | HTML | Adakveo-4874 EN PI.html\n"
     ]
    },
    {
     "name": "stdout",
     "output_type": "stream",
     "text": [
      "['F:', 'Projects', 'EMA', 'Repository', 'EMA EPI PoC', 'function_code', 'data', 'converted_to_html', 'H', 'CAP', 'en', 'Adakveo-4874 EN PI.html']\n",
      "Adakveo-4874 EN PI.html en CAP\n",
      "------------- F:\\Projects\\EMA\\Repository\\EMA EPI PoC\\function_code\\data\\outputJSON\\H\\CAP\\en\\Adakveo-4874 EN PI.txt -----------------\n",
      "F:\\Projects\\EMA\\Repository\\EMA EPI PoC\\function_code\\data\\converted_to_html\\H\\CAP\\en\\Adakveo-4874 EN PI.html F:\\Projects\\EMA\\Repository\\EMA EPI PoC\\function_code\\data\\outputJSON\\H\\CAP\\en\\Adakveo-4874 EN PI.json\n"
     ]
    },
    {
     "name": "stderr",
     "output_type": "stream",
     "text": [
      "2021-05-07 18:47:13,236 : Parser_C : Style Information Stored In File: F:\\Projects\\EMA\\Repository\\EMA EPI PoC\\function_code\\data\\outputJSON\\H\\CAP\\en\\Adakveo-4874 EN PI.txt | H | CAP |  en | HTML | Adakveo-4874 EN PI.html\n",
      "2021-05-07 18:47:17,462 : Parser_C : Writing to file: F:\\Projects\\EMA\\Repository\\EMA EPI PoC\\function_code\\data\\outputJSON\\H\\CAP\\en\\Adakveo-4874 EN PI.json | H | CAP |  en | HTML | Adakveo-4874 EN PI.html\n",
      "2021-05-07 18:47:17,653 : Flow Logger HTML_K : Completed HTML Conversion To Json | H | CAP |  en | HTML | Adakveo-4874 EN PI.html\n",
      "2021-05-07 18:47:17,655 : Flow Logger HTML_K : Starting Json Split | H | CAP |  en | HTML | Adakveo-4874 EN PI.html\n",
      "2021-05-07 18:47:17,661 : Style Dictionary_Q : Reading style dictionary in file: rule_dictionary_en.json | H | CAP |  en | Json | Adakveo-4874 EN PI.json\n",
      "2021-05-07 18:47:17,717 : Style Dictionary_Q : Qrd Section Keys Retrieved For Style Dictionary: ANNEX I, ANNEX II, ANNEX III, B. PACKAGE LEAFLET | H | CAP |  en | Json | Adakveo-4874 EN PI.json\n",
      "2021-05-07 18:47:17,723 : Partition_b : Partitioning Json: Adakveo-4874 EN PI.json | H | CAP |  en | Json | Adakveo-4874 EN PI.json\n",
      "2021-05-07 18:47:18,221 : Partition_b : Writing partition to file: F:\\Projects\\EMA\\Repository\\EMA EPI PoC\\function_code\\data\\partitionedJSONs\\H\\CAP\\en\\Adakveo-4874 EN PI_SmPC.json | H | CAP |  en | Json | Adakveo-4874 EN PI.json\n",
      "2021-05-07 18:47:18,275 : Partition_b : Writing partition to file: F:\\Projects\\EMA\\Repository\\EMA EPI PoC\\function_code\\data\\partitionedJSONs\\H\\CAP\\en\\Adakveo-4874 EN PI_ANNEX II.json | H | CAP |  en | Json | Adakveo-4874 EN PI.json\n",
      "2021-05-07 18:47:18,318 : Partition_b : Writing partition to file: F:\\Projects\\EMA\\Repository\\EMA EPI PoC\\function_code\\data\\partitionedJSONs\\H\\CAP\\en\\Adakveo-4874 EN PI_ANNEX III.json | H | CAP |  en | Json | Adakveo-4874 EN PI.json\n",
      "2021-05-07 18:47:18,333 : Partition_b : Writing partition to file: F:\\Projects\\EMA\\Repository\\EMA EPI PoC\\function_code\\data\\partitionedJSONs\\H\\CAP\\en\\Adakveo-4874 EN PI_ PACKAGE LEAFLET.json | H | CAP |  en | Json | Adakveo-4874 EN PI.json\n",
      "2021-05-07 18:47:18,347 : Flow Logger HTML_K : ['Adakveo-4874 EN PI_SmPC.json', 'Adakveo-4874 EN PI_ANNEX II.json', 'Adakveo-4874 EN PI_ANNEX III.json', 'Adakveo-4874 EN PI_ PACKAGE LEAFLET.json'] | H | CAP |  en | HTML | Adakveo-4874 EN PI.html\n",
      "2021-05-07 18:47:18,356 : Flow Logger HTML_K : Completed Json Split | H | CAP |  en | HTML | Adakveo-4874 EN PI.html\n",
      "2021-05-07 18:47:18,358 : Flow Logger HTML_K : Started Processing Partitioned Jsons | H | CAP |  en | HTML | Adakveo-4874 EN PI.html\n",
      "2021-05-07 18:47:18,359 : Flow Logger HTML_K : \n",
      "\n",
      "\n",
      "\n",
      "||||||||||||||||||||||||||||||||0 ||||| Adakveo-4874 EN PI_SmPC.json||||||||||||||||||||||||||||||||\n",
      "\n",
      "\n",
      "\n",
      " | H | CAP |  en | HTML | Adakveo-4874 EN PI.html\n",
      "2021-05-07 18:47:18,392 : Heading Extraction Adakveo-4874 EN PI_SmPC.json : Starting Heading Extraction | H | CAP |  en | 0 | Adakveo-4874 EN PI_SmPC.json\n"
     ]
    },
    {
     "name": "stdout",
     "output_type": "stream",
     "text": [
      "Starting Heading Extraction For File :- Adakveo-4874 EN PI_SmPC.json\n",
      "File being processed: F:\\Projects\\EMA\\Repository\\EMA EPI PoC\\function_code\\data\\partitionedJSONs\\H\\CAP\\en\\Adakveo-4874 EN PI_SmPC.json\n",
      "--------------------------------------------\n",
      "SmPC\n"
     ]
    },
    {
     "name": "stderr",
     "output_type": "stream",
     "text": [
      "2021-05-07 18:47:18,906 : Heading Extraction Adakveo-4874 EN PI_SmPC.json : Started Extracting Heading | H | CAP |  en | 0 | Adakveo-4874 EN PI_SmPC.json\n",
      "2021-05-07 18:47:19,355 : Heading Extraction Adakveo-4874 EN PI_SmPC.json : Match Passed | H | CAP |  en | 0 | Adakveo-4874 EN PI_SmPC.json | Doc txt :- 'SUMMARY OF PRODUCT CHARACTERISTICS' | Qrd txt :- 'SUMMARY OF PRODUCT CHARACTERISTICS' | Matched :- 'True'\n",
      "2021-05-07 18:47:19,370 : Heading Extraction Adakveo-4874 EN PI_SmPC.json : Validation Passed As This The First Heading | H | CAP |  en | 0 | Adakveo-4874 EN PI_SmPC.json | currHeadId :- '20001' | currParentHeadId :- 'nan' | prevParentHeadId :- ''\n"
     ]
    },
    {
     "name": "stdout",
     "output_type": "stream",
     "text": [
      "SUMMARY OF PRODUCT CHARACTERISTICS  |===|  SUMMARY OF PRODUCT CHARACTERISTICS\n",
      "True  ||    ||  SUMMARY OF PRODUCT CHARACTERISTICS  ||  SUMMARY OF PRODUCT CHARACTERISTICS\n",
      "\n",
      "OriginalCheck\n",
      "('>7|2.88|(99, 100, 99)|0.92|', 'This medicinal\\r product is subject to additional monitoring. This will allow quick\\r identification of new safety information. Healthcare professionals are asked to\\r report any suspected adverse reactions. See section 4.8 for how to report\\r adverse reactions.', 'qThis medicinal product is subject to additional monitoring. This will allow quick identification of new safety information. Healthcare professionals are asked to report any suspected adverse reactions. See section 4.8 for how to report adverse reactions.')\n",
      "\n"
     ]
    },
    {
     "name": "stderr",
     "output_type": "stream",
     "text": [
      " adverse reactions.' | Qrd txt :- 'qthis medicinal product is subject to additional monitoring. this will allow quick identification of new safety information. healthcare professionals are asked to report any suspected adverse reactions. see section 4.8 for how to report adverse reactions.' | Matched :- 'True'\n",
      " adverse reactions.' | Qrd txt :- 'qThis medicinal product is subject to additional monitoring. This will allow quick identification of new safety information. Healthcare professionals are asked to report any suspected adverse reactions. See section 4.8 for how to report adverse reactions.' | Matched :- 'True'\n",
      "2021-05-07 18:47:19,815 : Heading Extraction Adakveo-4874 EN PI_SmPC.json : Validation Passed | H | CAP |  en | 0 | Adakveo-4874 EN PI_SmPC.json | currHeadId :- '20002' | currParentHeadId :- '20001.0' | prevParentHeadId :- '20001'\n",
      "2021-05-07 18:47:19,828 : Heading Extraction Adakveo-4874 EN PI_SmPC.json : Validation Failed By Style | H | CAP |  en | 0 | Adakveo-4874 EN PI_SmPC.json | currHeadId :- '20002' | currParentHeadId :- '20001.0' | prevParentHeadId :- '20001'\n",
      "2021-05-07 18:47:19,955 : Heading Extraction Adakveo-4874 EN PI_SmPC.json : Match Passed | H | CAP |  en | 0 | Adakveo-4874 EN PI_SmPC.json | Doc txt :- '1.       NAME OF THE MEDICINAL PRODUCT' | Qrd txt :- '1. NAME OF THE MEDICINAL PRODUCT' | Matched :- 'True'\n",
      "2021-05-07 18:47:19,982 : Heading Extraction Adakveo-4874 EN PI_SmPC.json : Validation Flow Is Broken | H | CAP |  en | 0 | Adakveo-4874 EN PI_SmPC.json | currHeadId :- '20003' | currParentHeadId :- '20001.0' | prevParentHeadId :- '20001'\n"
     ]
    },
    {
     "name": "stdout",
     "output_type": "stream",
     "text": [
      "This medicinal\r",
      " product is subject to additional monitoring. This will allow quick\r",
      " identification of new safety information. Healthcare professionals are asked to\r",
      " report any suspected adverse reactions. See section 4.8 for how to report\r",
      " adverse reactions.  |===|  qThis medicinal product is subject to additional monitoring. This will allow quick identification of new safety information. Healthcare professionals are asked to report any suspected adverse reactions. See section 4.8 for how to report adverse reactions.\n",
      "----------------------------------\n",
      "RemovedByStyle  ||  checkLowerCase|2.88|(99, 100, 99)|0.92|  ||  This medicinal\r",
      " product is subject to additional monitoring. This will allow quick\r",
      " identification of new safety information. Healthcare professionals are asked to\r",
      " report any suspected adverse reactions. See section 4.8 for how to report\r",
      " adverse reactions.  ||  qThis medicinal product is subject to additional monitoring. This will allow quick identification of new safety information. Healthcare professionals are asked to report any suspected adverse reactions. See section 4.8 for how to report adverse reactions.\n",
      "----------------------------------\n",
      "1.       NAME OF THE MEDICINAL PRODUCT  |===|  1. NAME OF THE MEDICINAL PRODUCT\n"
     ]
    },
    {
     "name": "stderr",
     "output_type": "stream",
     "text": [
      "2021-05-07 18:47:19,995 : Heading Extraction Adakveo-4874 EN PI_SmPC.json : Validation Passed | H | CAP |  en | 0 | Adakveo-4874 EN PI_SmPC.json | currHeadId :- '20003' | currParentHeadId :- '20001.0' | prevParentHeadId :- '20001'\n"
     ]
    },
    {
     "name": "stdout",
     "output_type": "stream",
     "text": [
      "True  ||    ||  1.       NAME OF THE MEDICINAL PRODUCT  ||  1. NAME OF THE MEDICINAL PRODUCT\n"
     ]
    },
    {
     "name": "stderr",
     "output_type": "stream",
     "text": [
      " QUANTITATIVE COMPOSITION' | Qrd txt :- '2. QUALITATIVE AND QUANTITATIVE COMPOSITION' | Matched :- 'True'| 0 | Adakveo-4874 EN PI_SmPC.json | Doc txt :- '2.       QUALITATIVE AND\n",
      "2021-05-07 18:47:20,767 : Heading Extraction Adakveo-4874 EN PI_SmPC.json : Validation Passed | H | CAP |  en | 0 | Adakveo-4874 EN PI_SmPC.json | currHeadId :- '20004' | currParentHeadId :- '20001.0' | prevParentHeadId :- '20003'\n"
     ]
    },
    {
     "name": "stdout",
     "output_type": "stream",
     "text": [
      "2.       QUALITATIVE AND\r",
      " QUANTITATIVE COMPOSITION  |===|  2. QUALITATIVE AND QUANTITATIVE COMPOSITION\n",
      "True  ||    ||  2.       QUALITATIVE AND\r",
      " QUANTITATIVE COMPOSITION  ||  2. QUALITATIVE AND QUANTITATIVE COMPOSITION\n"
     ]
    },
    {
     "name": "stderr",
     "output_type": "stream",
     "text": [
      " concentrate for solution for infusion contains 10 mg crizanlizumab.' | Qrd txt :- '6.5 Nature and contents of container <and special equipment for use administration or implantation>' | Matched :- 'False'\n",
      " concentrate for solution for infusion contains 10 mg crizanlizumab.' | Qrd txt :- '6.6 Special precautions for disposal <and other handling>' | Matched :- 'False'f\n",
      " 10 ml contains 100 mg crizanlizumab.' | Qrd txt :- '6.6 Special precautions for disposal <and other handling>' | Matched :- 'False'PC.json | Doc txt :- 'One vial of\n",
      " recombinant DNA technology.' | Qrd txt :- '6.5 Nature and contents of container <and special equipment for use administration or implantation>' | Matched :- 'False'ab is\n",
      "2021-05-07 18:47:22,404 : Heading Extraction Adakveo-4874 EN PI_SmPC.json : Match Passed | H | CAP |  en | 0 | Adakveo-4874 EN PI_SmPC.json | Doc txt :- '3.       PHARMACEUTICAL FORM' | Qrd txt :- '3. PHARMACEUTICAL FORM' | Matched :- 'True'\n",
      "2021-05-07 18:47:22,417 : Heading Extraction Adakveo-4874 EN PI_SmPC.json : Validation Flow Is Broken | H | CAP |  en | 0 | Adakveo-4874 EN PI_SmPC.json | currHeadId :- '20008' | currParentHeadId :- '20001.0' | prevParentHeadId :- '20004'\n",
      "2021-05-07 18:47:22,426 : Heading Extraction Adakveo-4874 EN PI_SmPC.json : Validation Passed | H | CAP |  en | 0 | Adakveo-4874 EN PI_SmPC.json | currHeadId :- '20008' | currParentHeadId :- '20001.0' | prevParentHeadId :- '20004'\n"
     ]
    },
    {
     "name": "stdout",
     "output_type": "stream",
     "text": [
      "3.       PHARMACEUTICAL FORM  |===|  3. PHARMACEUTICAL FORM\n",
      "True  ||    ||  3.       PHARMACEUTICAL FORM  ||  3. PHARMACEUTICAL FORM\n"
     ]
    },
    {
     "name": "stderr",
     "output_type": "stream",
     "text": [
      " (sterile concentrate)' | Qrd txt :- '6.5 Nature and contents of container <and special equipment for use administration or implantation>' | Matched :- 'False'ntrate for solution for infusion\n",
      " PARTICULARS' | Qrd txt :- '4. CLINICAL PARTICULARS' | Matched :- 'True'n : Match Passed | H | CAP |  en | 0 | Adakveo-4874 EN PI_SmPC.json | Doc txt :- '4.       CLINICAL\n",
      "2021-05-07 18:47:22,954 : Heading Extraction Adakveo-4874 EN PI_SmPC.json : Validation Passed | H | CAP |  en | 0 | Adakveo-4874 EN PI_SmPC.json | currHeadId :- '20009' | currParentHeadId :- '20001.0' | prevParentHeadId :- '20008'\n",
      " indications' | Qrd txt :- '4.1 Therapeutic indications' | Matched :- 'True'Match Passed | H | CAP |  en | 0 | Adakveo-4874 EN PI_SmPC.json | Doc txt :- '4.1     Therapeutic\n"
     ]
    },
    {
     "name": "stdout",
     "output_type": "stream",
     "text": [
      "4.       CLINICAL\r",
      " PARTICULARS  |===|  4. CLINICAL PARTICULARS\n",
      "True  ||    ||  4.       CLINICAL\r",
      " PARTICULARS  ||  4. CLINICAL PARTICULARS\n"
     ]
    },
    {
     "name": "stderr",
     "output_type": "stream",
     "text": [
      "2021-05-07 18:47:23,223 : Heading Extraction Adakveo-4874 EN PI_SmPC.json : Validation Passed | H | CAP |  en | 0 | Adakveo-4874 EN PI_SmPC.json | currHeadId :- '20010' | currParentHeadId :- '20009.0' | prevParentHeadId :- '20009'\n"
     ]
    },
    {
     "name": "stdout",
     "output_type": "stream",
     "text": [
      "4.1     Therapeutic\r",
      " indications  |===|  4.1 Therapeutic indications\n",
      "True  ||    ||  4.1     Therapeutic\r",
      " indications  ||  4.1 Therapeutic indications\n"
     ]
    },
    {
     "name": "stderr",
     "output_type": "stream",
     "text": [
      "2021-05-07 18:47:23,466 : Heading Extraction Adakveo-4874 EN PI_SmPC.json : Match Passed | H | CAP |  en | 0 | Adakveo-4874 EN PI_SmPC.json | Doc txt :- '4.2     Posology and method of administration' | Qrd txt :- '4.2 Posology and method of administration' | Matched :- 'True'\n",
      "2021-05-07 18:47:23,499 : Heading Extraction Adakveo-4874 EN PI_SmPC.json : Validation Passed | H | CAP |  en | 0 | Adakveo-4874 EN PI_SmPC.json | currHeadId :- '20011' | currParentHeadId :- '20009.0' | prevParentHeadId :- '20010'\n"
     ]
    },
    {
     "name": "stdout",
     "output_type": "stream",
     "text": [
      "4.2     Posology and method of administration  |===|  4.2 Posology and method of administration\n",
      "True  ||    ||  4.2     Posology and method of administration  ||  4.2 Posology and method of administration\n"
     ]
    },
    {
     "name": "stderr",
     "output_type": "stream",
     "text": [
      " be initiated by physicians experienced in the management of sickle cell disease.' | Qrd txt :- '6.5 Nature and contents of container <and special equipment for use administration or implantation>' | Matched :- 'False'\n",
      " be initiated by physicians experienced in the management of sickle cell disease.' | Qrd txt :- '6.6 Special precautions for disposal <and other handling>' | Matched :- 'False'\n",
      "2021-05-07 18:47:24,061 : Heading Extraction Adakveo-4874 EN PI_SmPC.json : Match Failed In Lowercase | H | CAP |  en | 0 | Adakveo-4874 EN PI_SmPC.json | Doc txt :- 'Posology' | Qrd txt :- '4.2 Posology and method of administration' | Matched :- 'False'\n",
      "2021-05-07 18:47:24,065 : Heading Extraction Adakveo-4874 EN PI_SmPC.json : Match Passed | H | CAP |  en | 0 | Adakveo-4874 EN PI_SmPC.json | Doc txt :- 'Posology' | Qrd txt :- 'Posology' | Matched :- 'True'\n",
      "2021-05-07 18:47:24,099 : Heading Extraction Adakveo-4874 EN PI_SmPC.json : Validation Passed | H | CAP |  en | 0 | Adakveo-4874 EN PI_SmPC.json | currHeadId :- '20012' | currParentHeadId :- '20011.0' | prevParentHeadId :- '20011'\n"
     ]
    },
    {
     "name": "stdout",
     "output_type": "stream",
     "text": [
      "\n",
      "OriginalCheck\n",
      "('<=7|412.5|(33, 100, 90)|0.73|', 'Posology', '4.2 Posology and method of administration')\n",
      "\n",
      "Posology  |===|  Posology\n",
      "True  ||    ||  Posology  ||  Posology\n"
     ]
    },
    {
     "name": "stderr",
     "output_type": "stream",
     "text": [
      " 4 weeks thereafter.' | Qrd txt :- '6.5 Nature and contents of container <and special equipment for use administration or implantation>' | Matched :- 'False' recommended\n",
      " possible.' | Qrd txt :- '6.5 Nature and contents of container <and special equipment for use administration or implantation>' | Matched :- 'False'xt :- 'If a dose is missed, the treatment should be administered as soon as\n",
      " to the patient’s original schedule.' | Qrd txt :- '6.5 Nature and contents of container <and special equipment for use administration or implantation>' | Matched :- 'False's administered\n",
      " 4 weeks thereafter.' | Qrd txt :- '6.5 Nature and contents of container <and special equipment for use administration or implantation>' | Matched :- 'False' crizanlizumab is administered\n",
      "2021-05-07 18:47:27,131 : Heading Extraction Adakveo-4874 EN PI_SmPC.json : Match Failed | H | CAP |  en | 0 | Adakveo-4874 EN PI_SmPC.json | Doc txt :- 'Special populations' | Qrd txt :- '6.6 Special precautions for disposal <and other handling>' | Matched :- 'False'\n",
      " pharmacokinetics of crizanlizumab in adults are not affected by age.' | Qrd txt :- '6.5 Nature and contents of container <and special equipment for use administration or implantation>' | Matched :- 'False'\n",
      "2021-05-07 18:47:29,457 : Heading Extraction Adakveo-4874 EN PI_SmPC.json : Match Passed | H | CAP |  en | 0 | Adakveo-4874 EN PI_SmPC.json | Doc txt :- 'Paediatric population' | Qrd txt :- 'Paediatric population' | Matched :- 'True'\n",
      "2021-05-07 18:47:29,479 : Heading Extraction Adakveo-4874 EN PI_SmPC.json : Validation Passed | H | CAP |  en | 0 | Adakveo-4874 EN PI_SmPC.json | currHeadId :- '20013' | currParentHeadId :- '20012.0' | prevParentHeadId :- '20011'\n"
     ]
    },
    {
     "name": "stdout",
     "output_type": "stream",
     "text": [
      "Paediatric population  |===|  Paediatric population\n",
      "True  ||    ||  Paediatric population  ||  Paediatric population\n"
     ]
    },
    {
     "name": "stderr",
     "output_type": "stream",
     "text": [
      " established. No data are available.' | Qrd txt :- '6.5 Nature and contents of container <and special equipment for use administration or implantation>' | Matched :- 'False'\n",
      " indication of prevention of recurrent vaso‑occlusive crises.' | Qrd txt :- '6.5 Nature and contents of container <and special equipment for use administration or implantation>' | Matched :- 'False'\n",
      "2021-05-07 18:47:30,321 : Heading Extraction Adakveo-4874 EN PI_SmPC.json : Match Failed In Lowercase | H | CAP |  en | 0 | Adakveo-4874 EN PI_SmPC.json | Doc txt :- 'Method of administration' | Qrd txt :- '4.2 Posology and method of administration' | Matched :- 'False'\n",
      "2021-05-07 18:47:30,327 : Heading Extraction Adakveo-4874 EN PI_SmPC.json : Match Passed | H | CAP |  en | 0 | Adakveo-4874 EN PI_SmPC.json | Doc txt :- 'Method of administration' | Qrd txt :- 'Method of administration ' | Matched :- 'True'\n",
      "2021-05-07 18:47:30,349 : Heading Extraction Adakveo-4874 EN PI_SmPC.json : Validation Passed | H | CAP |  en | 0 | Adakveo-4874 EN PI_SmPC.json | currHeadId :- '20014' | currParentHeadId :- '20011.0' | prevParentHeadId :- '20011'\n"
     ]
    },
    {
     "name": "stdout",
     "output_type": "stream",
     "text": [
      "\n",
      "OriginalCheck\n",
      "('<=7|75.0|(71, 96, 90)|0.69|', 'Method of administration', '4.2 Posology and method of administration')\n",
      "\n",
      "Method of administration  |===|  Method of administration \n",
      "True  ||    ||  Method of administration  ||  Method of administration \n"
     ]
    },
    {
     "name": "stderr",
     "output_type": "stream",
     "text": [
      " for injection or dextrose 5% before administration.' | Qrd txt :- '6.5 Nature and contents of container <and special equipment for use administration or implantation>' | Matched :- 'False'um chloride 9 mg/ml (0.9%) solution\n",
      " on dilution of the medicinal product before administration, see section 6.6.' | Qrd txt :- '6.5 Nature and contents of container <and special equipment for use administration or implantation>' | Matched :- 'False'\n",
      "2021-05-07 18:47:31,116 : Heading Extraction Adakveo-4874 EN PI_SmPC.json : Match Passed | H | CAP |  en | 0 | Adakveo-4874 EN PI_SmPC.json | Doc txt :- '4.3     Contraindications' | Qrd txt :- '4.3 Contraindications' | Matched :- 'True'\n",
      "2021-05-07 18:47:31,133 : Heading Extraction Adakveo-4874 EN PI_SmPC.json : Validation Passed | H | CAP |  en | 0 | Adakveo-4874 EN PI_SmPC.json | currHeadId :- '20016' | currParentHeadId :- '20009.0' | prevParentHeadId :- '20011'\n"
     ]
    },
    {
     "name": "stdout",
     "output_type": "stream",
     "text": [
      "4.3     Contraindications  |===|  4.3 Contraindications\n",
      "True  ||    ||  4.3     Contraindications  ||  4.3 Contraindications\n"
     ]
    },
    {
     "name": "stderr",
     "output_type": "stream",
     "text": [
      " to the active substance or to any of the excipients listed in section 6.1.' | Qrd txt :- '6.5 Nature and contents of container <and special equipment for use administration or implantation>' | Matched :- 'False'\n",
      " precautions for use' | Qrd txt :- '4.4 Special warnings and precautions for use' | Matched :- 'True' en | 0 | Adakveo-4874 EN PI_SmPC.json | Doc txt :- '4.4     Special warnings and\n",
      "2021-05-07 18:47:31,843 : Heading Extraction Adakveo-4874 EN PI_SmPC.json : Validation Passed | H | CAP |  en | 0 | Adakveo-4874 EN PI_SmPC.json | currHeadId :- '20017' | currParentHeadId :- '20009.0' | prevParentHeadId :- '20016'\n",
      "2021-05-07 18:47:31,898 : Heading Extraction Adakveo-4874 EN PI_SmPC.json : Match Passed | H | CAP |  en | 0 | Adakveo-4874 EN PI_SmPC.json | Doc txt :- 'Traceability' | Qrd txt :- 'Traceability' | Matched :- 'True'\n",
      "2021-05-07 18:47:31,911 : Heading Extraction Adakveo-4874 EN PI_SmPC.json : Validation Passed | H | CAP |  en | 0 | Adakveo-4874 EN PI_SmPC.json | currHeadId :- '20018' | currParentHeadId :- '20017.0' | prevParentHeadId :- '20017'\n"
     ]
    },
    {
     "name": "stdout",
     "output_type": "stream",
     "text": [
      "4.4     Special warnings and\r",
      " precautions for use  |===|  4.4 Special warnings and precautions for use\n",
      "True  ||    ||  4.4     Special warnings and\r",
      " precautions for use  ||  4.4 Special warnings and precautions for use\n",
      "Traceability  |===|  Traceability\n",
      "True  ||    ||  Traceability  ||  Traceability\n"
     ]
    },
    {
     "name": "stderr",
     "output_type": "stream",
     "text": [
      " batch number of the administered product should be clearly recorded.' | Qrd txt :- '6.5 Nature and contents of container <and special equipment for use administration or implantation>' | Matched :- 'False'\n",
      "2021-05-07 18:47:32,858 : Heading Extraction Adakveo-4874 EN PI_SmPC.json : Match Failed | H | CAP |  en | 0 | Adakveo-4874 EN PI_SmPC.json | Doc txt :- 'Laboratory test interference: automated platelet counts' | Qrd txt :- '6.5 Nature and contents of container <and special equipment for use administration or implantation>' | Matched :- 'False'\n",
      "2021-05-07 18:47:33,282 : Heading Extraction Adakveo-4874 EN PI_SmPC.json : Match Passed | H | CAP |  en | 0 | Adakveo-4874 EN PI_SmPC.json | Doc txt :- 'Excipients with known effect' | Qrd txt :- 'Excipient(s) with known effect' | Matched :- 'True'\n",
      "2021-05-07 18:47:33,299 : Heading Extraction Adakveo-4874 EN PI_SmPC.json : Validation Failed As Wrong Heading Found | H | CAP |  en | 0 | Adakveo-4874 EN PI_SmPC.json | currHeadId :- '20007' | currParentHeadId :- '20006.0' | prevParentHeadId :- '20017'\n"
     ]
    },
    {
     "name": "stdout",
     "output_type": "stream",
     "text": [
      "Excipients with known effect  |===|  Excipient(s) with known effect\n"
     ]
    },
    {
     "name": "stderr",
     "output_type": "stream",
     "text": [
      " essentially “sodium‑free”.' | Qrd txt :- '6.5 Nature and contents of container <and special equipment for use administration or implantation>' | Matched :- 'False'ine\n",
      " other medicinal products and other forms of interaction' | Qrd txt :- '4.5 Interaction with other medicinal products and other forms of interaction' | Matched :- 'True'tion with\n",
      "2021-05-07 18:47:33,941 : Heading Extraction Adakveo-4874 EN PI_SmPC.json : Validation Passed | H | CAP |  en | 0 | Adakveo-4874 EN PI_SmPC.json | currHeadId :- '20020' | currParentHeadId :- '20009.0' | prevParentHeadId :- '20017'\n",
      " in dedicated studies.' | Qrd txt :- '6.5 Nature and contents of container <and special equipment for use administration or implantation>' | Matched :- 'False'actions\n",
      " in dedicated studies.' | Qrd txt :- '6.6 Special precautions for disposal <and other handling>' | Matched :- 'False'o-4874 EN PI_SmPC.json | Doc txt :- 'Interactions\n"
     ]
    },
    {
     "name": "stdout",
     "output_type": "stream",
     "text": [
      "4.5     Interaction with\r",
      " other medicinal products and other forms of interaction  |===|  4.5 Interaction with other medicinal products and other forms of interaction\n",
      "True  ||    ||  4.5     Interaction with\r",
      " other medicinal products and other forms of interaction  ||  4.5 Interaction with other medicinal products and other forms of interaction\n"
     ]
    },
    {
     "name": "stderr",
     "output_type": "stream",
     "text": [
      " metabolic pathways of monoclonal antibodies.' | Qrd txt :- '6.5 Nature and contents of container <and special equipment for use administration or implantation>' | Matched :- 'False'\n",
      "2021-05-07 18:47:34,333 : Heading Extraction Adakveo-4874 EN PI_SmPC.json : Match Passed | H | CAP |  en | 0 | Adakveo-4874 EN PI_SmPC.json | Doc txt :- '4.6     Fertility, pregnancy and lactation' | Qrd txt :- '4.6 Fertility, pregnancy and lactation' | Matched :- 'True'\n",
      "2021-05-07 18:47:34,342 : Heading Extraction Adakveo-4874 EN PI_SmPC.json : Validation Passed | H | CAP |  en | 0 | Adakveo-4874 EN PI_SmPC.json | currHeadId :- '20022' | currParentHeadId :- '20009.0' | prevParentHeadId :- '20020'\n",
      "2021-05-07 18:47:34,396 : Heading Extraction Adakveo-4874 EN PI_SmPC.json : Match Failed In Lowercase | H | CAP |  en | 0 | Adakveo-4874 EN PI_SmPC.json | Doc txt :- 'Pregnancy' | Qrd txt :- '4.6 Fertility, pregnancy and lactation' | Matched :- 'False'\n",
      "2021-05-07 18:47:34,398 : Heading Extraction Adakveo-4874 EN PI_SmPC.json : Match Passed | H | CAP |  en | 0 | Adakveo-4874 EN PI_SmPC.json | Doc txt :- 'Pregnancy' | Qrd txt :- 'Pregnancy' | Matched :- 'True'\n",
      "2021-05-07 18:47:34,411 : Heading Extraction Adakveo-4874 EN PI_SmPC.json : Validation Passed | H | CAP |  en | 0 | Adakveo-4874 EN PI_SmPC.json | currHeadId :- '20023' | currParentHeadId :- '20022.0' | prevParentHeadId :- '20022'\n",
      "2021-05-07 18:47:34,499 : Heading Extraction Adakveo-4874 EN PI_SmPC.json : Match Passed | H | CAP |  en | 0 | Adakveo-4874 EN PI_SmPC.json | Doc txt :- 'Breast‑feeding' | Qrd txt :- 'Breast-feeding' | Matched :- 'True'\n"
     ]
    },
    {
     "name": "stdout",
     "output_type": "stream",
     "text": [
      "4.6     Fertility, pregnancy and lactation  |===|  4.6 Fertility, pregnancy and lactation\n",
      "True  ||    ||  4.6     Fertility, pregnancy and lactation  ||  4.6 Fertility, pregnancy and lactation\n",
      "\n",
      "OriginalCheck\n",
      "('<=7|333.33|(34, 89, 90)|0.53|', 'Pregnancy', '4.6 Fertility, pregnancy and lactation')\n",
      "\n",
      "Pregnancy  |===|  Pregnancy\n",
      "True  ||    ||  Pregnancy  ||  Pregnancy\n",
      "Breast‑feeding  |===|  Breast-feeding\n"
     ]
    },
    {
     "name": "stderr",
     "output_type": "stream",
     "text": [
      "2021-05-07 18:47:34,512 : Heading Extraction Adakveo-4874 EN PI_SmPC.json : Validation Passed | H | CAP |  en | 0 | Adakveo-4874 EN PI_SmPC.json | currHeadId :- '20024' | currParentHeadId :- '20022.0' | prevParentHeadId :- '20022'\n"
     ]
    },
    {
     "name": "stdout",
     "output_type": "stream",
     "text": [
      "True  ||  <=1|7.14|(93, 93, 100)|0.98|  ||  Breast‑feeding  ||  Breast-feeding\n"
     ]
    },
    {
     "name": "stderr",
     "output_type": "stream",
     "text": [
      " to the newborn/infant cannot be excluded.' | Qrd txt :- '6.5 Nature and contents of container <and special equipment for use administration or implantation>' | Matched :- 'False'\n",
      "2021-05-07 18:47:34,872 : Heading Extraction Adakveo-4874 EN PI_SmPC.json : Match Failed In Lowercase | H | CAP |  en | 0 | Adakveo-4874 EN PI_SmPC.json | Doc txt :- 'Fertility' | Qrd txt :- '4.6 Fertility, pregnancy and lactation' | Matched :- 'False'\n",
      "2021-05-07 18:47:34,876 : Heading Extraction Adakveo-4874 EN PI_SmPC.json : Match Passed | H | CAP |  en | 0 | Adakveo-4874 EN PI_SmPC.json | Doc txt :- 'Fertility' | Qrd txt :- 'Fertility' | Matched :- 'True'\n",
      "2021-05-07 18:47:34,889 : Heading Extraction Adakveo-4874 EN PI_SmPC.json : Validation Passed | H | CAP |  en | 0 | Adakveo-4874 EN PI_SmPC.json | currHeadId :- '20025' | currParentHeadId :- '20022.0' | prevParentHeadId :- '20022'\n",
      " section 5.3).' | Qrd txt :- '6.5 Nature and contents of container <and special equipment for use administration or implantation>' | Matched :- 'False'- 'There are no\n"
     ]
    },
    {
     "name": "stdout",
     "output_type": "stream",
     "text": [
      "\n",
      "OriginalCheck\n",
      "('<=7|322.22|(38, 100, 90)|0.75|', 'Fertility', '4.6 Fertility, pregnancy and lactation')\n",
      "\n",
      "Fertility  |===|  Fertility\n",
      "True  ||    ||  Fertility  ||  Fertility\n"
     ]
    },
    {
     "name": "stderr",
     "output_type": "stream",
     "text": [
      " to drive and use machines' | Qrd txt :- '4.7 Effects on ability to drive and use machines' | Matched :- 'True'Adakveo-4874 EN PI_SmPC.json | Doc txt :- '4.7     Effects on ability\n",
      "2021-05-07 18:47:35,125 : Heading Extraction Adakveo-4874 EN PI_SmPC.json : Validation Passed | H | CAP |  en | 0 | Adakveo-4874 EN PI_SmPC.json | currHeadId :- '20026' | currParentHeadId :- '20009.0' | prevParentHeadId :- '20022'\n",
      " and somnolence may occur following administration of crizanlizumab.' | Qrd txt :- '6.5 Nature and contents of container <and special equipment for use administration or implantation>' | Matched :- 'False'\n"
     ]
    },
    {
     "name": "stdout",
     "output_type": "stream",
     "text": [
      "4.7     Effects on ability\r",
      " to drive and use machines  |===|  4.7 Effects on ability to drive and use machines\n",
      "True  ||    ||  4.7     Effects on ability\r",
      " to drive and use machines  ||  4.7 Effects on ability to drive and use machines\n"
     ]
    },
    {
     "name": "stderr",
     "output_type": "stream",
     "text": [
      "2021-05-07 18:47:35,395 : Heading Extraction Adakveo-4874 EN PI_SmPC.json : Match Passed | H | CAP |  en | 0 | Adakveo-4874 EN PI_SmPC.json | Doc txt :- '4.8     Undesirable effects' | Qrd txt :- '4.8 Undesirable effects' | Matched :- 'True'\n",
      "2021-05-07 18:47:35,406 : Heading Extraction Adakveo-4874 EN PI_SmPC.json : Validation Passed | H | CAP |  en | 0 | Adakveo-4874 EN PI_SmPC.json | currHeadId :- '20027' | currParentHeadId :- '20009.0' | prevParentHeadId :- '20026'\n"
     ]
    },
    {
     "name": "stdout",
     "output_type": "stream",
     "text": [
      "4.8     Undesirable effects  |===|  4.8 Undesirable effects\n",
      "True  ||    ||  4.8     Undesirable effects  ||  4.8 Undesirable effects\n"
     ]
    },
    {
     "name": "stderr",
     "output_type": "stream",
     "text": [
      "2021-05-07 18:47:35,895 : Heading Extraction Adakveo-4874 EN PI_SmPC.json : Match Failed | H | CAP |  en | 0 | Adakveo-4874 EN PI_SmPC.json | Doc txt :- 'Tabulated list of adverse reactions' | Qrd txt :- '6.6 Special precautions for disposal <and other handling>' | Matched :- 'False'\n",
      " reactions in clinical studies' | Qrd txt :- '6.6 Special precautions for disposal <and other handling>' | Matched :- 'False'N PI_SmPC.json | Doc txt :- 'Table 1       Adverse\n",
      "2021-05-07 18:47:36,458 : Heading Extraction Adakveo-4874 EN PI_SmPC.json : Match Failed | H | CAP |  en | 0 | Adakveo-4874 EN PI_SmPC.json | Doc txt :- 'Description of selected adverse reactions' | Qrd txt :- '6.5 Nature and contents of container <and special equipment for use administration or implantation>' | Matched :- 'False'\n",
      " who received Adakveo 5 mg/kg.' | Qrd txt :- '6.5 Nature and contents of container <and special equipment for use administration or implantation>' | Matched :- 'False'tudies, treatment‑induced anti‑crizanlizumab\n",
      " an altered safety profile with anti‑crizanlizumab antibody development.' | Qrd txt :- '6.5 Nature and contents of container <and special equipment for use administration or implantation>' | Matched :- 'False'\n",
      "2021-05-07 18:47:36,997 : Heading Extraction Adakveo-4874 EN PI_SmPC.json : Match Passed | H | CAP |  en | 0 | Adakveo-4874 EN PI_SmPC.json | Doc txt :- 'Paediatric population' | Qrd txt :- 'Paediatric population' | Matched :- 'True'\n",
      "2021-05-07 18:47:37,008 : Heading Extraction Adakveo-4874 EN PI_SmPC.json : Validation Failed As Previous Heading Found is not matching | H | CAP |  en | 0 | Adakveo-4874 EN PI_SmPC.json | currHeadId :- '20013' | currParentHeadId :- '20012.0' | prevParentHeadId :- '20027'\n",
      "2021-05-07 18:47:37,027 : Heading Extraction Adakveo-4874 EN PI_SmPC.json : Match Passed | H | CAP |  en | 0 | Adakveo-4874 EN PI_SmPC.json | Doc txt :- 'Paediatric population' | Qrd txt :- 'Paediatric population' | Matched :- 'True'\n",
      "2021-05-07 18:47:37,040 : Heading Extraction Adakveo-4874 EN PI_SmPC.json : Validation Failed As Previous Heading Found is not matching | H | CAP |  en | 0 | Adakveo-4874 EN PI_SmPC.json | currHeadId :- '20019' | currParentHeadId :- '20017.0' | prevParentHeadId :- '20027'\n",
      "2021-05-07 18:47:37,045 : Heading Extraction Adakveo-4874 EN PI_SmPC.json : Match Passed | H | CAP |  en | 0 | Adakveo-4874 EN PI_SmPC.json | Doc txt :- 'Paediatric population' | Qrd txt :- 'Paediatric population' | Matched :- 'True'\n",
      "2021-05-07 18:47:37,055 : Heading Extraction Adakveo-4874 EN PI_SmPC.json : Validation Failed As Previous Heading Found is not matching | H | CAP |  en | 0 | Adakveo-4874 EN PI_SmPC.json | currHeadId :- '20021' | currParentHeadId :- '20020.0' | prevParentHeadId :- '20027'\n",
      "2021-05-07 18:47:37,072 : Heading Extraction Adakveo-4874 EN PI_SmPC.json : Match Passed | H | CAP |  en | 0 | Adakveo-4874 EN PI_SmPC.json | Doc txt :- 'Paediatric population' | Qrd txt :- 'Paediatric population' | Matched :- 'True'\n",
      "2021-05-07 18:47:37,085 : Heading Extraction Adakveo-4874 EN PI_SmPC.json : Validation Passed | H | CAP |  en | 0 | Adakveo-4874 EN PI_SmPC.json | currHeadId :- '20028' | currParentHeadId :- '20027.0' | prevParentHeadId :- '20027'\n"
     ]
    },
    {
     "name": "stdout",
     "output_type": "stream",
     "text": [
      "Paediatric population  |===|  Paediatric population\n",
      "Paediatric population  |===|  Paediatric population\n",
      "Paediatric population  |===|  Paediatric population\n",
      "Paediatric population  |===|  Paediatric population\n",
      "True  ||    ||  Paediatric population  ||  Paediatric population\n"
     ]
    },
    {
     "name": "stderr",
     "output_type": "stream",
     "text": [
      "2021-05-07 18:47:37,392 : Heading Extraction Adakveo-4874 EN PI_SmPC.json : Match Passed | H | CAP |  en | 0 | Adakveo-4874 EN PI_SmPC.json | Doc txt :- 'Reporting of suspected adverse reactions' | Qrd txt :- 'Reporting of suspected adverse reactions' | Matched :- 'True'\n",
      "2021-05-07 18:47:37,414 : Heading Extraction Adakveo-4874 EN PI_SmPC.json : Validation Passed | H | CAP |  en | 0 | Adakveo-4874 EN PI_SmPC.json | currHeadId :- '20029' | currParentHeadId :- '20027.0' | prevParentHeadId :- '20027'\n",
      "2021-05-07 18:47:37,517 : Heading Extraction Adakveo-4874 EN PI_SmPC.json : Match Passed | H | CAP |  en | 0 | Adakveo-4874 EN PI_SmPC.json | Doc txt :- '4.9     Overdose' | Qrd txt :- '4.9 Overdose' | Matched :- 'True'\n",
      "2021-05-07 18:47:37,526 : Heading Extraction Adakveo-4874 EN PI_SmPC.json : Validation Passed | H | CAP |  en | 0 | Adakveo-4874 EN PI_SmPC.json | currHeadId :- '20030' | currParentHeadId :- '20009.0' | prevParentHeadId :- '20027'\n"
     ]
    },
    {
     "name": "stdout",
     "output_type": "stream",
     "text": [
      "Reporting of suspected adverse reactions  |===|  Reporting of suspected adverse reactions\n",
      "True  ||    ||  Reporting of suspected adverse reactions  ||  Reporting of suspected adverse reactions\n",
      "4.9     Overdose  |===|  4.9 Overdose\n",
      "True  ||    ||  4.9     Overdose  ||  4.9 Overdose\n"
     ]
    },
    {
     "name": "stderr",
     "output_type": "stream",
     "text": [
      "2021-05-07 18:47:37,692 : Heading Extraction Adakveo-4874 EN PI_SmPC.json : Match Failed | H | CAP |  en | 0 | Adakveo-4874 EN PI_SmPC.json | Doc txt :- 'No cases of overdose have been reported in clinical studies.' | Qrd txt :- '6.6 Special precautions for disposal <and other handling>' | Matched :- 'False'\n",
      " overdose.' | Qrd txt :- '6.5 Nature and contents of container <and special equipment for use administration or implantation>' | Matched :- 'False'xt :- 'General supportive\n",
      " PROPERTIES' | Qrd txt :- '5. PHARMACOLOGICAL PROPERTIES' | Matched :- 'True'atch Passed | H | CAP |  en | 0 | Adakveo-4874 EN PI_SmPC.json | Doc txt :- '5.       PHARMACOLOGICAL\n",
      "2021-05-07 18:47:38,023 : Heading Extraction Adakveo-4874 EN PI_SmPC.json : Validation Passed | H | CAP |  en | 0 | Adakveo-4874 EN PI_SmPC.json | currHeadId :- '20032' | currParentHeadId :- '20001.0' | prevParentHeadId :- '20030'\n",
      " properties' | Qrd txt :- '5.1 Pharmacodynamic properties' | Matched :- 'True'tch Passed | H | CAP |  en | 0 | Adakveo-4874 EN PI_SmPC.json | Doc txt :- '5.1     Pharmacodynamic\n",
      "2021-05-07 18:47:38,140 : Heading Extraction Adakveo-4874 EN PI_SmPC.json : Validation Passed | H | CAP |  en | 0 | Adakveo-4874 EN PI_SmPC.json | currHeadId :- '20033' | currParentHeadId :- '20032.0' | prevParentHeadId :- '20032'\n"
     ]
    },
    {
     "name": "stdout",
     "output_type": "stream",
     "text": [
      "5.       PHARMACOLOGICAL\r",
      " PROPERTIES  |===|  5. PHARMACOLOGICAL PROPERTIES\n",
      "True  ||    ||  5.       PHARMACOLOGICAL\r",
      " PROPERTIES  ||  5. PHARMACOLOGICAL PROPERTIES\n",
      "5.1     Pharmacodynamic\r",
      " properties  |===|  5.1 Pharmacodynamic properties\n",
      "True  ||    ||  5.1     Pharmacodynamic\r",
      " properties  ||  5.1 Pharmacodynamic properties\n"
     ]
    },
    {
     "name": "stderr",
     "output_type": "stream",
     "text": [
      "2021-05-07 18:47:38,492 : Heading Extraction Adakveo-4874 EN PI_SmPC.json : Match Passed | H | CAP |  en | 0 | Adakveo-4874 EN PI_SmPC.json | Doc txt :- 'Mechanism of action' | Qrd txt :- 'Mechanism of action' | Matched :- 'True'\n",
      "2021-05-07 18:47:38,504 : Heading Extraction Adakveo-4874 EN PI_SmPC.json : Validation Passed | H | CAP |  en | 0 | Adakveo-4874 EN PI_SmPC.json | currHeadId :- '20034' | currParentHeadId :- '20033.0' | prevParentHeadId :- '20033'\n"
     ]
    },
    {
     "name": "stdout",
     "output_type": "stream",
     "text": [
      "Mechanism of action  |===|  Mechanism of action\n",
      "True  ||    ||  Mechanism of action  ||  Mechanism of action\n"
     ]
    },
    {
     "name": "stderr",
     "output_type": "stream",
     "text": [
      "2021-05-07 18:47:38,737 : Heading Extraction Adakveo-4874 EN PI_SmPC.json : Match Passed | H | CAP |  en | 0 | Adakveo-4874 EN PI_SmPC.json | Doc txt :- 'Pharmacodynamic effects' | Qrd txt :- 'Pharmacodynamic effects' | Matched :- 'True'\n",
      "2021-05-07 18:47:38,753 : Heading Extraction Adakveo-4874 EN PI_SmPC.json : Validation Passed | H | CAP |  en | 0 | Adakveo-4874 EN PI_SmPC.json | currHeadId :- '20035' | currParentHeadId :- '20033.0' | prevParentHeadId :- '20033'\n"
     ]
    },
    {
     "name": "stdout",
     "output_type": "stream",
     "text": [
      "Pharmacodynamic effects  |===|  Pharmacodynamic effects\n",
      "True  ||    ||  Pharmacodynamic effects  ||  Pharmacodynamic effects\n"
     ]
    },
    {
     "name": "stderr",
     "output_type": "stream",
     "text": [
      "2021-05-07 18:47:38,981 : Heading Extraction Adakveo-4874 EN PI_SmPC.json : Match Passed | H | CAP |  en | 0 | Adakveo-4874 EN PI_SmPC.json | Doc txt :- 'Clinical efficacy and safety' | Qrd txt :- 'Clinical efficacy and safety' | Matched :- 'True'\n",
      "2021-05-07 18:47:38,995 : Heading Extraction Adakveo-4874 EN PI_SmPC.json : Validation Passed | H | CAP |  en | 0 | Adakveo-4874 EN PI_SmPC.json | currHeadId :- '20036' | currParentHeadId :- '20033.0' | prevParentHeadId :- '20033'\n",
      " in Tables 2 and 3.' | Qrd txt :- '6.5 Nature and contents of container <and special equipment for use administration or implantation>' | Matched :- 'False'in efficacy outcomes of the pivotal SUSTAIN study are summarised\n"
     ]
    },
    {
     "name": "stdout",
     "output_type": "stream",
     "text": [
      "Clinical efficacy and safety  |===|  Clinical efficacy and safety\n",
      "True  ||    ||  Clinical efficacy and safety  ||  Clinical efficacy and safety\n"
     ]
    },
    {
     "name": "stderr",
     "output_type": "stream",
     "text": [
      " subgroup analyses' | Qrd txt :- '6.6 Special precautions for disposal <and other handling>' | Matched :- 'False'akveo-4874 EN PI_SmPC.json | Doc txt :- 'Table 3       Annual rate of VOCs in patients ‑\n",
      "2021-05-07 18:47:39,988 : Heading Extraction Adakveo-4874 EN PI_SmPC.json : Match Passed | H | CAP |  en | 0 | Adakveo-4874 EN PI_SmPC.json | Doc txt :- 'Paediatric population' | Qrd txt :- 'Paediatric population' | Matched :- 'True'\n",
      "2021-05-07 18:47:39,996 : Heading Extraction Adakveo-4874 EN PI_SmPC.json : Validation Failed As Previous Heading Found is not matching | H | CAP |  en | 0 | Adakveo-4874 EN PI_SmPC.json | currHeadId :- '20013' | currParentHeadId :- '20012.0' | prevParentHeadId :- '20033'\n",
      "2021-05-07 18:47:40,021 : Heading Extraction Adakveo-4874 EN PI_SmPC.json : Match Passed | H | CAP |  en | 0 | Adakveo-4874 EN PI_SmPC.json | Doc txt :- 'Paediatric population' | Qrd txt :- 'Paediatric population' | Matched :- 'True'\n",
      "2021-05-07 18:47:40,032 : Heading Extraction Adakveo-4874 EN PI_SmPC.json : Validation Failed As Previous Heading Found is not matching | H | CAP |  en | 0 | Adakveo-4874 EN PI_SmPC.json | currHeadId :- '20019' | currParentHeadId :- '20017.0' | prevParentHeadId :- '20033'\n",
      "2021-05-07 18:47:40,043 : Heading Extraction Adakveo-4874 EN PI_SmPC.json : Match Passed | H | CAP |  en | 0 | Adakveo-4874 EN PI_SmPC.json | Doc txt :- 'Paediatric population' | Qrd txt :- 'Paediatric population' | Matched :- 'True'\n",
      "2021-05-07 18:47:40,053 : Heading Extraction Adakveo-4874 EN PI_SmPC.json : Validation Failed As Previous Heading Found is not matching | H | CAP |  en | 0 | Adakveo-4874 EN PI_SmPC.json | currHeadId :- '20021' | currParentHeadId :- '20020.0' | prevParentHeadId :- '20033'\n",
      "2021-05-07 18:47:40,071 : Heading Extraction Adakveo-4874 EN PI_SmPC.json : Match Passed | H | CAP |  en | 0 | Adakveo-4874 EN PI_SmPC.json | Doc txt :- 'Paediatric population' | Qrd txt :- 'Paediatric population' | Matched :- 'True'\n",
      "2021-05-07 18:47:40,082 : Heading Extraction Adakveo-4874 EN PI_SmPC.json : Validation Failed As Previous Heading Found is not matching | H | CAP |  en | 0 | Adakveo-4874 EN PI_SmPC.json | currHeadId :- '20028' | currParentHeadId :- '20027.0' | prevParentHeadId :- '20033'\n",
      "2021-05-07 18:47:40,096 : Heading Extraction Adakveo-4874 EN PI_SmPC.json : Match Passed | H | CAP |  en | 0 | Adakveo-4874 EN PI_SmPC.json | Doc txt :- 'Paediatric population' | Qrd txt :- 'Paediatric population' | Matched :- 'True'\n",
      "2021-05-07 18:47:40,106 : Heading Extraction Adakveo-4874 EN PI_SmPC.json : Validation Failed As Previous Heading Found is not matching | H | CAP |  en | 0 | Adakveo-4874 EN PI_SmPC.json | currHeadId :- '20031' | currParentHeadId :- '20030.0' | prevParentHeadId :- '20033'\n",
      "2021-05-07 18:47:40,121 : Heading Extraction Adakveo-4874 EN PI_SmPC.json : Match Passed | H | CAP |  en | 0 | Adakveo-4874 EN PI_SmPC.json | Doc txt :- 'Paediatric population' | Qrd txt :- 'Paediatric population' | Matched :- 'True'\n",
      "2021-05-07 18:47:40,136 : Heading Extraction Adakveo-4874 EN PI_SmPC.json : Validation Passed | H | CAP |  en | 0 | Adakveo-4874 EN PI_SmPC.json | currHeadId :- '20037' | currParentHeadId :- '20033.0' | prevParentHeadId :- '20033'\n"
     ]
    },
    {
     "name": "stdout",
     "output_type": "stream",
     "text": [
      "Paediatric population  |===|  Paediatric population\n",
      "Paediatric population  |===|  Paediatric population\n",
      "Paediatric population  |===|  Paediatric population\n",
      "Paediatric population  |===|  Paediatric population\n",
      "Paediatric population  |===|  Paediatric population\n",
      "Paediatric population  |===|  Paediatric population\n",
      "True  ||    ||  Paediatric population  ||  Paediatric population\n"
     ]
    },
    {
     "name": "stderr",
     "output_type": "stream",
     "text": [
      " scheme. This means that further evidence on this medicinal product is awaited.' | Qrd txt :- '6.5 Nature and contents of container <and special equipment for use administration or implantation>' | Matched :- 'False'\n",
      " every year and this SmPC will be updated as necessary.' | Qrd txt :- '6.5 Nature and contents of container <and special equipment for use administration or implantation>' | Matched :- 'False'\n",
      " properties' | Qrd txt :- '5.1 Pharmacodynamic properties' | Matched :- 'False'ch Failed | H | CAP |  en | 0 | Adakveo-4874 EN PI_SmPC.json | Doc txt :- '5.2     Pharmacokinetic\n",
      " properties' | Qrd txt :- '5.2 Pharmacokinetic properties' | Matched :- 'True'tch Passed | H | CAP |  en | 0 | Adakveo-4874 EN PI_SmPC.json | Doc txt :- '5.2     Pharmacokinetic\n",
      "2021-05-07 18:47:41,008 : Heading Extraction Adakveo-4874 EN PI_SmPC.json : Validation Passed | H | CAP |  en | 0 | Adakveo-4874 EN PI_SmPC.json | currHeadId :- '20038' | currParentHeadId :- '20032.0' | prevParentHeadId :- '20033'\n",
      "2021-05-07 18:47:41,106 : Heading Extraction Adakveo-4874 EN PI_SmPC.json : Match Passed | H | CAP |  en | 0 | Adakveo-4874 EN PI_SmPC.json | Doc txt :- 'Absorption' | Qrd txt :- 'Absorption' | Matched :- 'True'\n",
      "2021-05-07 18:47:41,122 : Heading Extraction Adakveo-4874 EN PI_SmPC.json : Validation Passed | H | CAP |  en | 0 | Adakveo-4874 EN PI_SmPC.json | currHeadId :- '20039' | currParentHeadId :- '20038.0' | prevParentHeadId :- '20038'\n"
     ]
    },
    {
     "name": "stdout",
     "output_type": "stream",
     "text": [
      "5.2     Pharmacokinetic\r",
      " properties  |===|  5.2 Pharmacokinetic properties\n",
      "True  ||    ||  5.2     Pharmacokinetic\r",
      " properties  ||  5.2 Pharmacokinetic properties\n",
      "Absorption  |===|  Absorption\n",
      "True  ||    ||  Absorption  ||  Absorption\n"
     ]
    },
    {
     "name": "stderr",
     "output_type": "stream",
     "text": [
      "2021-05-07 18:47:41,329 : Heading Extraction Adakveo-4874 EN PI_SmPC.json : Match Passed | H | CAP |  en | 0 | Adakveo-4874 EN PI_SmPC.json | Doc txt :- 'Distribution' | Qrd txt :- 'Distribution' | Matched :- 'True'\n",
      "2021-05-07 18:47:41,344 : Heading Extraction Adakveo-4874 EN PI_SmPC.json : Validation Passed | H | CAP |  en | 0 | Adakveo-4874 EN PI_SmPC.json | currHeadId :- '20040' | currParentHeadId :- '20038.0' | prevParentHeadId :- '20038'\n"
     ]
    },
    {
     "name": "stdout",
     "output_type": "stream",
     "text": [
      "Distribution  |===|  Distribution\n",
      "True  ||    ||  Distribution  ||  Distribution\n"
     ]
    },
    {
     "name": "stderr",
     "output_type": "stream",
     "text": [
      "2021-05-07 18:47:41,604 : Heading Extraction Adakveo-4874 EN PI_SmPC.json : Match Passed | H | CAP |  en | 0 | Adakveo-4874 EN PI_SmPC.json | Doc txt :- 'Biotransformation' | Qrd txt :- 'Biotransformation' | Matched :- 'True'\n",
      "2021-05-07 18:47:41,621 : Heading Extraction Adakveo-4874 EN PI_SmPC.json : Validation Passed | H | CAP |  en | 0 | Adakveo-4874 EN PI_SmPC.json | currHeadId :- '20041' | currParentHeadId :- '20038.0' | prevParentHeadId :- '20038'\n"
     ]
    },
    {
     "name": "stdout",
     "output_type": "stream",
     "text": [
      "Biotransformation  |===|  Biotransformation\n",
      "True  ||    ||  Biotransformation  ||  Biotransformation\n"
     ]
    },
    {
     "name": "stderr",
     "output_type": "stream",
     "text": [
      " peptides and amino acids.' | Qrd txt :- '6.5 Nature and contents of container <and special equipment for use administration or implantation>' | Matched :- 'False's are\n",
      "2021-05-07 18:47:41,961 : Heading Extraction Adakveo-4874 EN PI_SmPC.json : Match Passed | H | CAP |  en | 0 | Adakveo-4874 EN PI_SmPC.json | Doc txt :- 'Elimination' | Qrd txt :- 'Elimination' | Matched :- 'True'\n",
      "2021-05-07 18:47:41,976 : Heading Extraction Adakveo-4874 EN PI_SmPC.json : Validation Passed | H | CAP |  en | 0 | Adakveo-4874 EN PI_SmPC.json | currHeadId :- '20042' | currParentHeadId :- '20038.0' | prevParentHeadId :- '20038'\n"
     ]
    },
    {
     "name": "stdout",
     "output_type": "stream",
     "text": [
      "Elimination  |===|  Elimination\n",
      "True  ||    ||  Elimination  ||  Elimination\n"
     ]
    },
    {
     "name": "stderr",
     "output_type": "stream",
     "text": [
      "2021-05-07 18:47:42,217 : Heading Extraction Adakveo-4874 EN PI_SmPC.json : Match Passed | H | CAP |  en | 0 | Adakveo-4874 EN PI_SmPC.json | Doc txt :- 'Linearity/non‑linearity' | Qrd txt :- 'Linearity/non-linearity' | Matched :- 'True'\n",
      "2021-05-07 18:47:42,232 : Heading Extraction Adakveo-4874 EN PI_SmPC.json : Validation Passed | H | CAP |  en | 0 | Adakveo-4874 EN PI_SmPC.json | currHeadId :- '20043' | currParentHeadId :- '20038.0' | prevParentHeadId :- '20038'\n",
      " in healthy volunteers.' | Qrd txt :- '6.5 Nature and contents of container <and special equipment for use administration or implantation>' | Matched :- 'False'posure to\n"
     ]
    },
    {
     "name": "stdout",
     "output_type": "stream",
     "text": [
      "Linearity/non‑linearity  |===|  Linearity/non-linearity\n",
      "True  ||  <=1|4.35|(96, 96, 100)|0.99|  ||  Linearity/non‑linearity  ||  Linearity/non-linearity\n"
     ]
    },
    {
     "name": "stderr",
     "output_type": "stream",
     "text": [
      "2021-05-07 18:47:42,593 : Heading Extraction Adakveo-4874 EN PI_SmPC.json : Match Failed | H | CAP |  en | 0 | Adakveo-4874 EN PI_SmPC.json | Doc txt :- 'Special populations' | Qrd txt :- '6.6 Special precautions for disposal <and other handling>' | Matched :- 'False'\n",
      "2021-05-07 18:47:43,121 : Heading Extraction Adakveo-4874 EN PI_SmPC.json : Match Passed | H | CAP |  en | 0 | Adakveo-4874 EN PI_SmPC.json | Doc txt :- 'Paediatric population' | Qrd txt :- 'Paediatric population' | Matched :- 'True'\n",
      "2021-05-07 18:47:43,132 : Heading Extraction Adakveo-4874 EN PI_SmPC.json : Validation Failed As Previous Heading Found is not matching | H | CAP |  en | 0 | Adakveo-4874 EN PI_SmPC.json | currHeadId :- '20013' | currParentHeadId :- '20012.0' | prevParentHeadId :- '20038'\n",
      "2021-05-07 18:47:43,157 : Heading Extraction Adakveo-4874 EN PI_SmPC.json : Match Passed | H | CAP |  en | 0 | Adakveo-4874 EN PI_SmPC.json | Doc txt :- 'Paediatric population' | Qrd txt :- 'Paediatric population' | Matched :- 'True'\n",
      "2021-05-07 18:47:43,168 : Heading Extraction Adakveo-4874 EN PI_SmPC.json : Validation Failed As Previous Heading Found is not matching | H | CAP |  en | 0 | Adakveo-4874 EN PI_SmPC.json | currHeadId :- '20019' | currParentHeadId :- '20017.0' | prevParentHeadId :- '20038'\n",
      "2021-05-07 18:47:43,175 : Heading Extraction Adakveo-4874 EN PI_SmPC.json : Match Passed | H | CAP |  en | 0 | Adakveo-4874 EN PI_SmPC.json | Doc txt :- 'Paediatric population' | Qrd txt :- 'Paediatric population' | Matched :- 'True'\n",
      "2021-05-07 18:47:43,185 : Heading Extraction Adakveo-4874 EN PI_SmPC.json : Validation Failed As Previous Heading Found is not matching | H | CAP |  en | 0 | Adakveo-4874 EN PI_SmPC.json | currHeadId :- '20021' | currParentHeadId :- '20020.0' | prevParentHeadId :- '20038'\n",
      "2021-05-07 18:47:43,203 : Heading Extraction Adakveo-4874 EN PI_SmPC.json : Match Passed | H | CAP |  en | 0 | Adakveo-4874 EN PI_SmPC.json | Doc txt :- 'Paediatric population' | Qrd txt :- 'Paediatric population' | Matched :- 'True'\n",
      "2021-05-07 18:47:43,215 : Heading Extraction Adakveo-4874 EN PI_SmPC.json : Validation Failed As Previous Heading Found is not matching | H | CAP |  en | 0 | Adakveo-4874 EN PI_SmPC.json | currHeadId :- '20028' | currParentHeadId :- '20027.0' | prevParentHeadId :- '20038'\n",
      "2021-05-07 18:47:43,230 : Heading Extraction Adakveo-4874 EN PI_SmPC.json : Match Passed | H | CAP |  en | 0 | Adakveo-4874 EN PI_SmPC.json | Doc txt :- 'Paediatric population' | Qrd txt :- 'Paediatric population' | Matched :- 'True'\n",
      "2021-05-07 18:47:43,248 : Heading Extraction Adakveo-4874 EN PI_SmPC.json : Validation Failed As Previous Heading Found is not matching | H | CAP |  en | 0 | Adakveo-4874 EN PI_SmPC.json | currHeadId :- '20031' | currParentHeadId :- '20030.0' | prevParentHeadId :- '20038'\n",
      "2021-05-07 18:47:43,271 : Heading Extraction Adakveo-4874 EN PI_SmPC.json : Match Passed | H | CAP |  en | 0 | Adakveo-4874 EN PI_SmPC.json | Doc txt :- 'Paediatric population' | Qrd txt :- 'Paediatric population' | Matched :- 'True'\n",
      "2021-05-07 18:47:43,282 : Heading Extraction Adakveo-4874 EN PI_SmPC.json : Validation Failed As Previous Heading Found is not matching | H | CAP |  en | 0 | Adakveo-4874 EN PI_SmPC.json | currHeadId :- '20037' | currParentHeadId :- '20033.0' | prevParentHeadId :- '20038'\n"
     ]
    },
    {
     "name": "stdout",
     "output_type": "stream",
     "text": [
      "Paediatric population  |===|  Paediatric population\n",
      "Paediatric population  |===|  Paediatric population\n",
      "Paediatric population  |===|  Paediatric population\n",
      "Paediatric population  |===|  Paediatric population\n",
      "Paediatric population  |===|  Paediatric population\n",
      "Paediatric population  |===|  Paediatric population\n"
     ]
    },
    {
     "name": "stderr",
     "output_type": "stream",
     "text": [
      "2021-05-07 18:47:43,342 : Heading Extraction Adakveo-4874 EN PI_SmPC.json : Match Failed | H | CAP |  en | 0 | Adakveo-4874 EN PI_SmPC.json | Doc txt :- 'Paediatric population' | Qrd txt :- '6.6 Special precautions for disposal <and other handling>' | Matched :- 'False'\n",
      "2021-05-07 18:47:43,353 : Heading Extraction Adakveo-4874 EN PI_SmPC.json : Match Failed In Lowercase | H | CAP |  en | 0 | Adakveo-4874 EN PI_SmPC.json | Doc txt :- 'Paediatric population' | Qrd txt :- 'Use in the paediatric population' | Matched :- 'False'\n",
      " investigated.' | Qrd txt :- '6.5 Nature and contents of container <and special equipment for use administration or implantation>' | Matched :- 'False'- 'Pharmacokinetics\n"
     ]
    },
    {
     "name": "stdout",
     "output_type": "stream",
     "text": [
      "\n",
      "OriginalCheck\n",
      "('<=7|57.14|(75, 95, 90)|0.69|', 'Paediatric population', 'Use in the paediatric population')\n",
      "\n"
     ]
    },
    {
     "name": "stderr",
     "output_type": "stream",
     "text": [
      " data' | Qrd txt :- '5.3 Preclinical safety data' | Matched :- 'True'json : Match Passed | H | CAP |  en | 0 | Adakveo-4874 EN PI_SmPC.json | Doc txt :- '5.3     Preclinical safety\n",
      "2021-05-07 18:47:43,753 : Heading Extraction Adakveo-4874 EN PI_SmPC.json : Validation Passed | H | CAP |  en | 0 | Adakveo-4874 EN PI_SmPC.json | currHeadId :- '20045' | currParentHeadId :- '20032.0' | prevParentHeadId :- '20038'\n",
      " and repeated dose toxicity.' | Qrd txt :- '6.5 Nature and contents of container <and special equipment for use administration or implantation>' | Matched :- 'False'l data revealed no special hazard for humans based\n"
     ]
    },
    {
     "name": "stdout",
     "output_type": "stream",
     "text": [
      "5.3     Preclinical safety\r",
      " data  |===|  5.3 Preclinical safety data\n",
      "True  ||    ||  5.3     Preclinical safety\r",
      " data  ||  5.3 Preclinical safety data\n"
     ]
    },
    {
     "name": "stderr",
     "output_type": "stream",
     "text": [
      " conducted with crizanlizumab.' | Qrd txt :- '6.5 Nature and contents of container <and special equipment for use administration or implantation>' | Matched :- 'False'\n",
      " antibodies, crosses the placental barrier.' | Qrd txt :- '6.5 Nature and contents of container <and special equipment for use administration or implantation>' | Matched :- 'False'\n",
      " PARTICULARS' | Qrd txt :- '6. PHARMACEUTICAL PARTICULARS' | Matched :- 'True'tch Passed | H | CAP |  en | 0 | Adakveo-4874 EN PI_SmPC.json | Doc txt :- '6.       PHARMACEUTICAL\n",
      "2021-05-07 18:47:44,693 : Heading Extraction Adakveo-4874 EN PI_SmPC.json : Validation Passed | H | CAP |  en | 0 | Adakveo-4874 EN PI_SmPC.json | currHeadId :- '20047' | currParentHeadId :- '20001.0' | prevParentHeadId :- '20045'\n"
     ]
    },
    {
     "name": "stdout",
     "output_type": "stream",
     "text": [
      "6.       PHARMACEUTICAL\r",
      " PARTICULARS  |===|  6. PHARMACEUTICAL PARTICULARS\n",
      "True  ||    ||  6.       PHARMACEUTICAL\r",
      " PARTICULARS  ||  6. PHARMACEUTICAL PARTICULARS\n"
     ]
    },
    {
     "name": "stderr",
     "output_type": "stream",
     "text": [
      "2021-05-07 18:47:45,102 : Heading Extraction Adakveo-4874 EN PI_SmPC.json : Match Passed | H | CAP |  en | 0 | Adakveo-4874 EN PI_SmPC.json | Doc txt :- '6.1     List of excipients' | Qrd txt :- '6.1 List of excipients' | Matched :- 'True'\n",
      "2021-05-07 18:47:45,121 : Heading Extraction Adakveo-4874 EN PI_SmPC.json : Validation Passed | H | CAP |  en | 0 | Adakveo-4874 EN PI_SmPC.json | currHeadId :- '20048' | currParentHeadId :- '20047.0' | prevParentHeadId :- '20047'\n"
     ]
    },
    {
     "name": "stdout",
     "output_type": "stream",
     "text": [
      "6.1     List of excipients  |===|  6.1 List of excipients\n",
      "True  ||    ||  6.1     List of excipients  ||  6.1 List of excipients\n"
     ]
    },
    {
     "name": "stderr",
     "output_type": "stream",
     "text": [
      "2021-05-07 18:47:47,012 : Heading Extraction Adakveo-4874 EN PI_SmPC.json : Match Passed | H | CAP |  en | 0 | Adakveo-4874 EN PI_SmPC.json | Doc txt :- '6.2     Incompatibilities' | Qrd txt :- '6.2 Incompatibilities' | Matched :- 'True'\n",
      "2021-05-07 18:47:47,020 : Heading Extraction Adakveo-4874 EN PI_SmPC.json : Validation Passed | H | CAP |  en | 0 | Adakveo-4874 EN PI_SmPC.json | currHeadId :- '20049' | currParentHeadId :- '20047.0' | prevParentHeadId :- '20048'\n",
      " except those mentioned in section 6.6.' | Qrd txt :- '6.5 Nature and contents of container <and special equipment for use administration or implantation>' | Matched :- 'False'\n"
     ]
    },
    {
     "name": "stdout",
     "output_type": "stream",
     "text": [
      "6.2     Incompatibilities  |===|  6.2 Incompatibilities\n",
      "True  ||    ||  6.2     Incompatibilities  ||  6.2 Incompatibilities\n"
     ]
    },
    {
     "name": "stderr",
     "output_type": "stream",
     "text": [
      "2021-05-07 18:47:47,445 : Heading Extraction Adakveo-4874 EN PI_SmPC.json : Match Passed | H | CAP |  en | 0 | Adakveo-4874 EN PI_SmPC.json | Doc txt :- '6.3     Shelf life' | Qrd txt :- '6.3 Shelf life' | Matched :- 'True'\n",
      "2021-05-07 18:47:47,460 : Heading Extraction Adakveo-4874 EN PI_SmPC.json : Validation Passed | H | CAP |  en | 0 | Adakveo-4874 EN PI_SmPC.json | currHeadId :- '20050' | currParentHeadId :- '20047.0' | prevParentHeadId :- '20049'\n"
     ]
    },
    {
     "name": "stdout",
     "output_type": "stream",
     "text": [
      "6.3     Shelf life  |===|  6.3 Shelf life\n",
      "True  ||    ||  6.3     Shelf life  ||  6.3 Shelf life\n"
     ]
    },
    {
     "name": "stderr",
     "output_type": "stream",
     "text": [
      " for storage' | Qrd txt :- '6.4 Special precautions for storage' | Matched :- 'True'ssed | H | CAP |  en | 0 | Adakveo-4874 EN PI_SmPC.json | Doc txt :- '6.4     Special precautions\n",
      "2021-05-07 18:47:48,699 : Heading Extraction Adakveo-4874 EN PI_SmPC.json : Validation Passed | H | CAP |  en | 0 | Adakveo-4874 EN PI_SmPC.json | currHeadId :- '20051' | currParentHeadId :- '20047.0' | prevParentHeadId :- '20050'\n"
     ]
    },
    {
     "name": "stdout",
     "output_type": "stream",
     "text": [
      "6.4     Special precautions\r",
      " for storage  |===|  6.4 Special precautions for storage\n",
      "True  ||    ||  6.4     Special precautions\r",
      " for storage  ||  6.4 Special precautions for storage\n"
     ]
    },
    {
     "name": "stderr",
     "output_type": "stream",
     "text": [
      " the outer carton in order to protect from light.' | Qrd txt :- '6.5 Nature and contents of container <and special equipment for use administration or implantation>' | Matched :- 'False'\n",
      " after dilution of the medicinal product, see section 6.3.' | Qrd txt :- '6.5 Nature and contents of container <and special equipment for use administration or implantation>' | Matched :- 'False'\n",
      " after dilution of the medicinal product, see section 6.3.' | Qrd txt :- '6.6 Special precautions for disposal <and other handling>' | Matched :- 'False''For storage conditions\n",
      " of container' | Qrd txt :- '6.5 Nature and contents of container <and special equipment for use administration or implantation>' | Matched :- 'True' :- '6.5     Nature and contents\n",
      "2021-05-07 18:47:49,877 : Heading Extraction Adakveo-4874 EN PI_SmPC.json : Validation Passed | H | CAP |  en | 0 | Adakveo-4874 EN PI_SmPC.json | currHeadId :- '20052' | currParentHeadId :- '20047.0' | prevParentHeadId :- '20051'\n"
     ]
    },
    {
     "name": "stdout",
     "output_type": "stream",
     "text": [
      "6.5     Nature and contents\r",
      " of container  |===|  6.5 Nature and contents of container <and special equipment for use administration or implantation>\n",
      "True  ||  SpecialCase1|158.33|(48, 81, 86)|0.69|  ||  6.5     Nature and contents\r",
      " of container  ||  6.5 Nature and contents of container <and special equipment for use administration or implantation>\n"
     ]
    },
    {
     "name": "stderr",
     "output_type": "stream",
     "text": [
      " precautions for disposal and other handling' | Qrd txt :- '6.5 Nature and contents of container <and special equipment for use administration or implantation>' | Matched :- 'False'\n",
      " precautions for disposal and other handling' | Qrd txt :- '6.6 Special precautions for disposal <and other handling>' | Matched :- 'True'n | Doc txt :- '6.6     Special\n",
      "2021-05-07 18:47:50,458 : Heading Extraction Adakveo-4874 EN PI_SmPC.json : Validation Passed | H | CAP |  en | 0 | Adakveo-4874 EN PI_SmPC.json | currHeadId :- '20053' | currParentHeadId :- '20047.0' | prevParentHeadId :- '20052'\n"
     ]
    },
    {
     "name": "stdout",
     "output_type": "stream",
     "text": [
      "6.6     Special\r",
      " precautions for disposal and other handling  |===|  6.6 Special precautions for disposal <and other handling>\n",
      "True  ||  SpecialCase2|14.63|(93, 88, 95)|0.98|  ||  6.6     Special\r",
      " precautions for disposal and other handling  ||  6.6 Special precautions for disposal <and other handling>\n"
     ]
    },
    {
     "name": "stderr",
     "output_type": "stream",
     "text": [
      " aseptic techniques.' | Qrd txt :- '6.5 Nature and contents of container <and special equipment for use administration or implantation>' | Matched :- 'False' diluted\n",
      " aseptic techniques.' | Qrd txt :- '6.6 Special precautions for disposal <and other handling>' | Matched :- 'False'veo-4874 EN PI_SmPC.json | Doc txt :- 'The diluted\n",
      " of crizanlizumab is administered per kg body weight.' | Qrd txt :- '6.5 Nature and contents of container <and special equipment for use administration or implantation>' | Matched :- 'False'\n",
      " calculated according to the following equation:' | Qrd txt :- '6.5 Nature and contents of container <and special equipment for use administration or implantation>' | Matched :- 'False'reparation of the infusion is\n",
      " calculated according to the following equation:' | Qrd txt :- '6.6 Special precautions for disposal <and other handling>' | Matched :- 'False'oc txt :- 'The volume to be used for the preparation of the infusion is\n",
      "2021-05-07 18:47:52,519 : Heading Extraction Adakveo-4874 EN PI_SmPC.json : Match Failed | H | CAP |  en | 0 | Adakveo-4874 EN PI_SmPC.json | Doc txt :- '2.       Visually inspect the vials.' | Qrd txt :- '6.6 Special precautions for disposal <and other handling>' | Matched :- 'False'\n",
      " opalescent. Do not use if particles are present in the solution.' | Qrd txt :- '6.5 Nature and contents of container <and special equipment for use administration or implantation>' | Matched :- 'False'\n",
      " opalescent. Do not use if particles are present in the solution.' | Qrd txt :- '6.6 Special precautions for disposal <and other handling>' | Matched :- 'False'olution in the vials should be clear to\n",
      " 5% and discard.' | Qrd txt :- '6.5 Nature and contents of container <and special equipment for use administration or implantation>' | Matched :- 'False''3.       Withdraw a volume\n",
      " infusion bag.' | Qrd txt :- '6.5 Nature and contents of container <and special equipment for use administration or implantation>' | Matched :- 'False'- '4.       Withdraw the necessary\n",
      " products through the same intravenous line.' | Qrd txt :- '6.5 Nature and contents of container <and special equipment for use administration or implantation>' | Matched :- 'False'ixed or co‑administered with other medicinal\n",
      " concentration in the infusion bag within 1 mg/ml to 9.6 mg/ml.' | Qrd txt :- '6.5 Nature and contents of container <and special equipment for use administration or implantation>' | Matched :- 'False'ion\n",
      "2021-05-07 18:47:53,980 : Heading Extraction Adakveo-4874 EN PI_SmPC.json : Match Failed In Lowercase | H | CAP |  en | 0 | Adakveo-4874 EN PI_SmPC.json | Doc txt :- 'Administration' | Qrd txt :- '4.2 Posology and method of administration' | Matched :- 'False'\n",
      "2021-05-07 18:47:53,991 : Heading Extraction Adakveo-4874 EN PI_SmPC.json : Match Failed In Lowercase | H | CAP |  en | 0 | Adakveo-4874 EN PI_SmPC.json | Doc txt :- 'Administration' | Qrd txt :- 'Method of administration ' | Matched :- 'False'\n",
      "2021-05-07 18:47:54,109 : Heading Extraction Adakveo-4874 EN PI_SmPC.json : Match Failed In Lowercase | H | CAP |  en | 0 | Adakveo-4874 EN PI_SmPC.json | Doc txt :- 'Administration' | Qrd txt :- '6.5 Nature and contents of container <and special equipment for use administration or implantation>' | Matched :- 'False'\n"
     ]
    },
    {
     "name": "stdout",
     "output_type": "stream",
     "text": [
      "\n",
      "OriginalCheck\n",
      "('<=7|200.0|(47, 93, 90)|0.47|', 'Administration', '4.2 Posology and method of administration')\n",
      "\n",
      "\n",
      "OriginalCheck\n",
      "('<=4|78.57|(68, 93, 90)|0.7|', 'Administration', 'Method of administration ')\n",
      "\n",
      "\n",
      "OriginalCheck\n",
      "('SpecialCase1|514.29|(26, 93, 90)|0.53|', 'Administration', '6.5 Nature and contents of container <and special equipment for use administration or implantation>')\n",
      "\n"
     ]
    },
    {
     "name": "stderr",
     "output_type": "stream",
     "text": [
      " chloride 9 mg/ml (0.9%) solution for injection or dextrose 5%.' | Qrd txt :- '6.5 Nature and contents of container <and special equipment for use administration or implantation>' | Matched :- 'False'\n",
      "2021-05-07 18:47:54,391 : Heading Extraction Adakveo-4874 EN PI_SmPC.json : Match Failed In Lowercase | H | CAP |  en | 0 | Adakveo-4874 EN PI_SmPC.json | Doc txt :- 'Disposal' | Qrd txt :- '6.6 Special precautions for disposal <and other handling>' | Matched :- 'False'\n",
      " requirements.' | Qrd txt :- '6.5 Nature and contents of container <and special equipment for use administration or implantation>' | Matched :- 'False'- 'Any unused medicinal\n",
      " requirements.' | Qrd txt :- '6.6 Special precautions for disposal <and other handling>' | Matched :- 'False'| Adakveo-4874 EN PI_SmPC.json | Doc txt :- 'Any unused medicinal\n"
     ]
    },
    {
     "name": "stdout",
     "output_type": "stream",
     "text": [
      "\n",
      "OriginalCheck\n",
      "('SpecialCase2|500.0|(25, 88, 90)|0.53|', 'Disposal', '6.6 Special precautions for disposal <and other handling>')\n",
      "\n"
     ]
    },
    {
     "name": "stderr",
     "output_type": "stream",
     "text": [
      " AUTHORISATION HOLDER' | Qrd txt :- '7. MARKETING AUTHORISATION HOLDER' | Matched :- 'True'H | CAP |  en | 0 | Adakveo-4874 EN PI_SmPC.json | Doc txt :- '7.       MARKETING\n",
      "2021-05-07 18:47:54,779 : Heading Extraction Adakveo-4874 EN PI_SmPC.json : Validation Passed | H | CAP |  en | 0 | Adakveo-4874 EN PI_SmPC.json | currHeadId :- '20055' | currParentHeadId :- '20001.0' | prevParentHeadId :- '20053'\n"
     ]
    },
    {
     "name": "stdout",
     "output_type": "stream",
     "text": [
      "7.       MARKETING\r",
      " AUTHORISATION HOLDER  |===|  7. MARKETING AUTHORISATION HOLDER\n",
      "True  ||    ||  7.       MARKETING\r",
      " AUTHORISATION HOLDER  ||  7. MARKETING AUTHORISATION HOLDER\n"
     ]
    },
    {
     "name": "stderr",
     "output_type": "stream",
     "text": [
      " AUTHORISATION NUMBER(S)' | Qrd txt :- '7. MARKETING AUTHORISATION HOLDER' | Matched :- 'False'CAP |  en | 0 | Adakveo-4874 EN PI_SmPC.json | Doc txt :- '8.       MARKETING\n",
      " AUTHORISATION NUMBER(S)' | Qrd txt :- '8. MARKETING AUTHORISATION NUMBER(S)' | Matched :- 'True'P |  en | 0 | Adakveo-4874 EN PI_SmPC.json | Doc txt :- '8.       MARKETING\n",
      "2021-05-07 18:47:56,290 : Heading Extraction Adakveo-4874 EN PI_SmPC.json : Validation Passed | H | CAP |  en | 0 | Adakveo-4874 EN PI_SmPC.json | currHeadId :- '20056' | currParentHeadId :- '20001.0' | prevParentHeadId :- '20055'\n"
     ]
    },
    {
     "name": "stdout",
     "output_type": "stream",
     "text": [
      "8.       MARKETING\r",
      " AUTHORISATION NUMBER(S)  |===|  8. MARKETING AUTHORISATION NUMBER(S)\n",
      "True  ||    ||  8.       MARKETING\r",
      " AUTHORISATION NUMBER(S)  ||  8. MARKETING AUTHORISATION NUMBER(S)\n"
     ]
    },
    {
     "name": "stderr",
     "output_type": "stream",
     "text": [
      " AUTHORISATION' | Qrd txt :- '9. DATE OF FIRST AUTHORISATION/RENEWAL OF THE AUTHORISATION' | Matched :- 'True' Adakveo-4874 EN PI_SmPC.json | Doc txt :- '9.       DATE OF FIRST AUTHORISATION/RENEWAL OF THE\n",
      "2021-05-07 18:47:56,809 : Heading Extraction Adakveo-4874 EN PI_SmPC.json : Validation Passed | H | CAP |  en | 0 | Adakveo-4874 EN PI_SmPC.json | currHeadId :- '20057' | currParentHeadId :- '20001.0' | prevParentHeadId :- '20056'\n"
     ]
    },
    {
     "name": "stdout",
     "output_type": "stream",
     "text": [
      "9.       DATE OF FIRST AUTHORISATION/RENEWAL OF THE\r",
      " AUTHORISATION  |===|  9. DATE OF FIRST AUTHORISATION/RENEWAL OF THE AUTHORISATION\n",
      "True  ||    ||  9.       DATE OF FIRST AUTHORISATION/RENEWAL OF THE\r",
      " AUTHORISATION  ||  9. DATE OF FIRST AUTHORISATION/RENEWAL OF THE AUTHORISATION\n"
     ]
    },
    {
     "name": "stderr",
     "output_type": "stream",
     "text": [
      "2021-05-07 18:47:57,143 : Heading Extraction Adakveo-4874 EN PI_SmPC.json : Match Passed | H | CAP |  en | 0 | Adakveo-4874 EN PI_SmPC.json | Doc txt :- '10.     DATE OF REVISION OF THE TEXT' | Qrd txt :- '10. DATE OF REVISION OF THE TEXT' | Matched :- 'True'\n",
      "2021-05-07 18:47:57,157 : Heading Extraction Adakveo-4874 EN PI_SmPC.json : Validation Passed | H | CAP |  en | 0 | Adakveo-4874 EN PI_SmPC.json | currHeadId :- '20058' | currParentHeadId :- '20001.0' | prevParentHeadId :- '20057'\n"
     ]
    },
    {
     "name": "stdout",
     "output_type": "stream",
     "text": [
      "10.     DATE OF REVISION OF THE TEXT  |===|  10. DATE OF REVISION OF THE TEXT\n",
      "True  ||    ||  10.     DATE OF REVISION OF THE TEXT  ||  10. DATE OF REVISION OF THE TEXT\n"
     ]
    },
    {
     "name": "stderr",
     "output_type": "stream",
     "text": [
      " European Medicines Agency http://www.ema.europa.eu. ' | Qrd txt :- '6.5 Nature and contents of container <and special equipment for use administration or implantation>' | Matched :- 'False'\n",
      "2021-05-07 18:47:57,411 : Flow Logger HTML_K : Completed Heading Extraction For File | H | CAP |  en | HTML | Adakveo-4874 EN PI.html\n",
      "2021-05-07 18:47:57,415 : Flow Logger HTML_K : Starting Document Annotation For File | H | CAP |  en | HTML | Adakveo-4874 EN PI.html\n"
     ]
    },
    {
     "name": "stdout",
     "output_type": "stream",
     "text": [
      "\n",
      "\n",
      "Heading Not Found \n",
      " ['qThis medicinal product is subject to additional monitoring. This will allow quick identification of new safety information. Healthcare professionals are asked to report any suspected adverse reactions. See section 4.8 for how to report adverse reactions.', 'General description', 'Qualitative and quantitative composition', 'Excipient(s) with known effect', 'Precautions to be taken before handling or administering the medicinal product', 'Pharmacokinetic/pharmacodynamic relationship(s)', 'Environmental risk assessment (ERA)', 'Use in the paediatric population', 'DOSIMETRY', 'INSTRUCTIONS FOR PREPARATION OF RADIOPHARMACEUTICALS']\n",
      "\n",
      "\n",
      "dict_keys(['qThis medicinal product is subject to additional monitoring. This will allow quick identification of new safety information. Healthcare professionals are asked to report any suspected adverse reactions. See section 4.8 for how to report adverse reactions.'])\n",
      "Completed Heading Extraction For File\n",
      "Starting Document Annotation For File :- Adakveo-4874 EN PI_SmPC.json\n",
      "EU/1/20/1476/001\n"
     ]
    },
    {
     "name": "stderr",
     "output_type": "stream",
     "text": [
      "2021-05-07 18:47:58,529 : Flow Logger HTML_K : Completed Document Annotation | H | CAP |  en | HTML | Adakveo-4874 EN PI.html\n",
      "2021-05-07 18:47:58,531 : Flow Logger HTML_K : Starting Extracting Content Between Heading | H | CAP |  en | HTML | Adakveo-4874 EN PI.html\n",
      "2021-05-07 18:47:58,536 : ExtractContentBetween_0 : Cleaning Match Results | H | CAP |  en | 0 | Adakveo-4874 EN PI_SmPC.json\n",
      "2021-05-07 18:47:58,542 : ExtractContentBetween_0 : Finished Cleaning Match Results | H | CAP |  en | 0 | Adakveo-4874 EN PI_SmPC.json\n",
      "2021-05-07 18:47:58,578 : Flow Logger HTML_K : Completed Extracting Content Between Heading | H | CAP |  en | HTML | Adakveo-4874 EN PI.html\n",
      "2021-05-07 18:47:58,615 : XmlGeneration_0 : PMS/OMS Annotation Information Not Retrieved | H | CAP |  en | 0 | Adakveo-4874 EN PI_SmPC.json\n",
      "2021-05-07 18:47:58,617 : XmlGeneration_0 : Initiating XML Generation | H | CAP |  en | 0 | Adakveo-4874 EN PI_SmPC.json\n"
     ]
    },
    {
     "name": "stdout",
     "output_type": "stream",
     "text": [
      "Error Found\n",
      "Completed Document Annotation\n",
      "Starting Extracting Content Between Heading For File :- Adakveo-4874 EN PI_SmPC.json\n",
      "File being processed: F:\\Projects\\EMA\\Repository\\EMA EPI PoC\\function_code\\data\\partitionedJSONs\\H\\CAP\\en\\Adakveo-4874 EN PI_SmPC.json\n",
      "--------------------------------------------\n",
      "Completed Extracting Content Between Heading\n",
      "Already Exists\n"
     ]
    },
    {
     "name": "stderr",
     "output_type": "stream",
     "text": [
      "2021-05-07 18:47:58,773 : XmlGeneration_0 : Writing to File:Adakveo-4874 EN PI_SmPC.xml | H | CAP |  en | 0 | Adakveo-4874 EN PI_SmPC.json\n",
      "2021-05-07 18:48:05,695 : XML Submission Logger_0 : Initiating Submission To FHIR Server | H | CAP |  en | 0 | Adakveo-4874 EN PI_SmPC.json\n",
      "2021-05-07 18:48:05,700 : XML Submission Logger_0 : POST sucessful: XML added with id: 0eaf7dda-54de-45f1-988a-9dfc0478fbca | H | CAP |  en | 0 | Adakveo-4874 EN PI_SmPC.json\n",
      "2021-05-07 18:48:05,701 : Flow Logger HTML_K : \n",
      "\n",
      "\n",
      "\n",
      "||||||||||||||||||||||||||||||||1 ||||| Adakveo-4874 EN PI_ANNEX II.json||||||||||||||||||||||||||||||||\n",
      "\n",
      "\n",
      "\n",
      " | H | CAP |  en | HTML | Adakveo-4874 EN PI.html\n",
      "2021-05-07 18:48:05,706 : Heading Extraction Adakveo-4874 EN PI_ANNEX II.json : Starting Heading Extraction | H | CAP |  en | 1 | Adakveo-4874 EN PI_ANNEX II.json\n",
      "2021-05-07 18:48:05,780 : Heading Extraction Adakveo-4874 EN PI_ANNEX II.json : Started Extracting Heading | H | CAP |  en | 1 | Adakveo-4874 EN PI_ANNEX II.json\n",
      "2021-05-07 18:48:05,784 : Heading Extraction Adakveo-4874 EN PI_ANNEX II.json : Match Passed | H | CAP |  en | 1 | Adakveo-4874 EN PI_ANNEX II.json | Doc txt :- 'ANNEX II' | Qrd txt :- 'ANNEX II' | Matched :- 'True'\n",
      "2021-05-07 18:48:05,790 : Heading Extraction Adakveo-4874 EN PI_ANNEX II.json : Validation Passed As This The First Heading | H | CAP |  en | 1 | Adakveo-4874 EN PI_ANNEX II.json | currHeadId :- '21001' | currParentHeadId :- 'nan' | prevParentHeadId :- ''\n",
      " SUBSTANCE(S) AND MANUFACTURER(S) RESPONSIBLE FOR BATCH RELEASE' | Qrd txt :- 'A. <MANUFACTURER(S) OF THE BIOLOGICAL ACTIVE SUBSTANCE(S) AND> MANUFACTURER(S) RESPONSIBLE FOR BATCH RELEASE' | Matched :- 'True'VE\n",
      "2021-05-07 18:48:05,818 : Heading Extraction Adakveo-4874 EN PI_ANNEX II.json : Validation Passed | H | CAP |  en | 1 | Adakveo-4874 EN PI_ANNEX II.json | currHeadId :- '21002' | currParentHeadId :- '21001.0' | prevParentHeadId :- '21001'\n",
      " AND USE' | Qrd txt :- 'B. CONDITIONS OR RESTRICTIONS REGARDING SUPPLY AND USE' | Matched :- 'True'CAP |  en | 1 | Adakveo-4874 EN PI_ANNEX II.json | Doc txt :- 'B.      CONDITIONS OR RESTRICTIONS REGARDING SUPPLY\n",
      "2021-05-07 18:48:05,869 : Heading Extraction Adakveo-4874 EN PI_ANNEX II.json : Validation Flow Is Broken | H | CAP |  en | 1 | Adakveo-4874 EN PI_ANNEX II.json | currHeadId :- '21005' | currParentHeadId :- '21001.0' | prevParentHeadId :- '21002'\n",
      "2021-05-07 18:48:05,875 : Heading Extraction Adakveo-4874 EN PI_ANNEX II.json : Validation Passed | H | CAP |  en | 1 | Adakveo-4874 EN PI_ANNEX II.json | currHeadId :- '21005' | currParentHeadId :- '21001.0' | prevParentHeadId :- '21002'\n"
     ]
    },
    {
     "name": "stdout",
     "output_type": "stream",
     "text": [
      "POST sucessful: XML added with id 0eaf7dda-54de-45f1-988a-9dfc0478fbca\n",
      "Created XML File For :- Adakveo-4874 EN PI_SmPC.json\n",
      "Starting Heading Extraction For File :- Adakveo-4874 EN PI_ANNEX II.json\n",
      "File being processed: F:\\Projects\\EMA\\Repository\\EMA EPI PoC\\function_code\\data\\partitionedJSONs\\H\\CAP\\en\\Adakveo-4874 EN PI_ANNEX II.json\n",
      "--------------------------------------------\n",
      "AnnexII\n",
      "ANNEX II  |===|  ANNEX II\n",
      "True  ||    ||  ANNEX II  ||  ANNEX II\n",
      "A.      MANUFACTURER(S) OF THE BIOLOGICAL ACTIVE\r",
      " SUBSTANCE(S) AND MANUFACTURER(S) RESPONSIBLE FOR BATCH RELEASE  |===|  A. <MANUFACTURER(S) OF THE BIOLOGICAL ACTIVE SUBSTANCE(S) AND> MANUFACTURER(S) RESPONSIBLE FOR BATCH RELEASE\n",
      "True  ||  Contains<>|6.59|(97, 95, 97)|0.97|  ||  A.      MANUFACTURER(S) OF THE BIOLOGICAL ACTIVE\r",
      " SUBSTANCE(S) AND MANUFACTURER(S) RESPONSIBLE FOR BATCH RELEASE  ||  A. <MANUFACTURER(S) OF THE BIOLOGICAL ACTIVE SUBSTANCE(S) AND> MANUFACTURER(S) RESPONSIBLE FOR BATCH RELEASE\n",
      "B.      CONDITIONS OR RESTRICTIONS REGARDING SUPPLY\r",
      " AND USE  |===|  B. CONDITIONS OR RESTRICTIONS REGARDING SUPPLY AND USE\n",
      "True  ||    ||  B.      CONDITIONS OR RESTRICTIONS REGARDING SUPPLY\r",
      " AND USE  ||  B. CONDITIONS OR RESTRICTIONS REGARDING SUPPLY AND USE\n"
     ]
    },
    {
     "name": "stderr",
     "output_type": "stream",
     "text": [
      " MARKETING AUTHORISATION' | Qrd txt :- 'C. OTHER CONDITIONS AND REQUIREMENTS OF THE MARKETING AUTHORISATION' | Matched :- 'True'EN PI_ANNEX II.json | Doc txt :- 'C.      OTHER CONDITIONS AND REQUIREMENTS OF THE\n",
      "2021-05-07 18:48:05,963 : Heading Extraction Adakveo-4874 EN PI_ANNEX II.json : Validation Flow Is Broken | H | CAP |  en | 1 | Adakveo-4874 EN PI_ANNEX II.json | currHeadId :- '21007' | currParentHeadId :- '21001.0' | prevParentHeadId :- '21005'\n",
      "2021-05-07 18:48:05,973 : Heading Extraction Adakveo-4874 EN PI_ANNEX II.json : Validation Passed | H | CAP |  en | 1 | Adakveo-4874 EN PI_ANNEX II.json | currHeadId :- '21007' | currParentHeadId :- '21001.0' | prevParentHeadId :- '21005'\n",
      " product' | Qrd txt :- 'd. conditions or restrictions with regard to the safe and effective use of the medicinal product' | Matched :- 'True'I.json | Doc txt :- 'd.      conditions\n",
      " PRODUCT' | Qrd txt :- 'D. CONDITIONS OR RESTRICTIONS WITH REGARD TO THE SAFE AND EFFECTIVE USE OF THE MEDICINAL PRODUCT' | Matched :- 'True'EN PI_ANNEX II.json | Doc txt :- 'D.      conditions\n",
      "2021-05-07 18:48:06,082 : Heading Extraction Adakveo-4874 EN PI_ANNEX II.json : Validation Flow Is Broken | H | CAP |  en | 1 | Adakveo-4874 EN PI_ANNEX II.json | currHeadId :- '21009' | currParentHeadId :- '21001.0' | prevParentHeadId :- '21007'\n",
      "2021-05-07 18:48:06,089 : Heading Extraction Adakveo-4874 EN PI_ANNEX II.json : Validation Passed | H | CAP |  en | 1 | Adakveo-4874 EN PI_ANNEX II.json | currHeadId :- '21009' | currParentHeadId :- '21001.0' | prevParentHeadId :- '21007'\n",
      " POST-AUTHORISATION MEASURES FOR THE CONDITIONAL MARKETING AUTHORISATION' | Qrd txt :- 'A. <MANUFACTURER(S) OF THE BIOLOGICAL ACTIVE SUBSTANCE(S) AND> MANUFACTURER(S) RESPONSIBLE FOR BATCH RELEASE' | Matched :- 'False'\n"
     ]
    },
    {
     "name": "stdout",
     "output_type": "stream",
     "text": [
      "C.      OTHER CONDITIONS AND REQUIREMENTS OF THE\r",
      " MARKETING AUTHORISATION  |===|  C. OTHER CONDITIONS AND REQUIREMENTS OF THE MARKETING AUTHORISATION\n",
      "True  ||    ||  C.      OTHER CONDITIONS AND REQUIREMENTS OF THE\r",
      " MARKETING AUTHORISATION  ||  C. OTHER CONDITIONS AND REQUIREMENTS OF THE MARKETING AUTHORISATION\n",
      "\n",
      "OriginalCheck\n",
      "('>7|75.71|(24, 24, 100)|0.4|', 'D.      conditions\\r or restrictions with regard to the safe and effective use of the medicinal\\r PRODUCT', 'D. CONDITIONS OR RESTRICTIONS WITH REGARD TO THE SAFE AND EFFECTIVE USE OF THE MEDICINAL PRODUCT')\n",
      "\n",
      "D.      conditions\r",
      " or restrictions with regard to the safe and effective use of the medicinal\r",
      " PRODUCT  |===|  D. CONDITIONS OR RESTRICTIONS WITH REGARD TO THE SAFE AND EFFECTIVE USE OF THE MEDICINAL PRODUCT\n",
      "True  ||    ||  D.      conditions\r",
      " or restrictions with regard to the safe and effective use of the medicinal\r",
      " PRODUCT  ||  D. CONDITIONS OR RESTRICTIONS WITH REGARD TO THE SAFE AND EFFECTIVE USE OF THE MEDICINAL PRODUCT\n"
     ]
    },
    {
     "name": "stderr",
     "output_type": "stream",
     "text": [
      " POST-AUTHORISATION MEASURES FOR THE CONDITIONAL MARKETING AUTHORISATION' | Qrd txt :- 'C. OTHER CONDITIONS AND REQUIREMENTS OF THE MARKETING AUTHORISATION' | Matched :- 'False'      SPECIFIC OBLIGATION TO COMPLETE\n",
      " POST-AUTHORISATION MEASURES FOR THE CONDITIONAL MARKETING AUTHORISATION' | Qrd txt :- 'D. CONDITIONS OR RESTRICTIONS WITH REGARD TO THE SAFE AND EFFECTIVE USE OF THE MEDICINAL PRODUCT' | Matched :- 'False'\n",
      " POST-AUTHORISATION MEASURES FOR THE CONDITIONAL MARKETING AUTHORISATION' | Qrd txt :- 'E. SPECIFIC OBLIGATION TO COMPLETE POST-AUTHORISATION MEASURES FORtxt :- 'E.      SPECIFIC OBLIGATION TO COMPLETE\n",
      "<THE CONDITIONAL MARKETING AUTHORISATION> <THE MARKETING AUTHORISATION UNDER EXCEPTIONAL CIRCUMSTANCES>' | Matched :- 'True'\n",
      "2021-05-07 18:48:06,277 : Heading Extraction Adakveo-4874 EN PI_ANNEX II.json : Validation Flow Is Broken | H | CAP |  en | 1 | Adakveo-4874 EN PI_ANNEX II.json | currHeadId :- '21013' | currParentHeadId :- '21001.0' | prevParentHeadId :- '21009'\n",
      "2021-05-07 18:48:06,284 : Heading Extraction Adakveo-4874 EN PI_ANNEX II.json : Validation Passed | H | CAP |  en | 1 | Adakveo-4874 EN PI_ANNEX II.json | currHeadId :- '21013' | currParentHeadId :- '21001.0' | prevParentHeadId :- '21009'\n",
      " SUBSTANCE(S) AND MANUFACTURER(S) RESPONSIBLE FOR BATCH RELEASE' | Qrd txt :- 'A. <MANUFACTURER(S) OF THE BIOLOGICAL ACTIVE SUBSTANCE(S) AND> MANUFACTURER(S) RESPONSIBLE FOR BATCH RELEASE' | Matched :- 'True'VE\n",
      "2021-05-07 18:48:06,316 : Heading Extraction Adakveo-4874 EN PI_ANNEX II.json : Validation Failed As Previous Heading Found is not matching | H | CAP |  en | 1 | Adakveo-4874 EN PI_ANNEX II.json | currHeadId :- '21002' | currParentHeadId :- '21001.0' | prevParentHeadId :- '21013'\n",
      " substance(s) and manufacturer(s) responsible for batch release' | Qrd txt :- 'name and address of the manufacturer(s) of the biological active substance(s)' | Matched :- 'False'urer(s) of the biological active\n",
      " SUBSTANCE(S) AND MANUFACTURER(S) RESPONSIBLE FOR BATCH RELEASE' | Qrd txt :- 'Name and address of the manufacturer(s) of the biological active substance(s)' | Matched :- 'False'     MANUFACTURER(S) OF THE BIOLOGICAL ACTIVE\n",
      " SUBSTANCE(S) AND MANUFACTURER(S) RESPONSIBLE FOR BATCH RELEASE' | Qrd txt :- 'Name and address of the manufacturer(s) responsible for batch release' | Matched :- 'False' :- 'A.      MANUFACTURER(S) OF THE BIOLOGICAL ACTIVE\n"
     ]
    },
    {
     "name": "stdout",
     "output_type": "stream",
     "text": [
      "\n",
      "OriginalCheck\n",
      "('<=7|57.89|(48, 77, 86)|0.68|', 'E.      SPECIFIC OBLIGATION TO COMPLETE\\r POST-AUTHORISATION MEASURES FOR THE CONDITIONAL MARKETING AUTHORISATION', 'C. OTHER CONDITIONS AND REQUIREMENTS OF THE MARKETING AUTHORISATION')\n",
      "\n",
      "E.      SPECIFIC OBLIGATION TO COMPLETE\r",
      " POST-AUTHORISATION MEASURES FOR THE CONDITIONAL MARKETING AUTHORISATION  |===|  E. SPECIFIC OBLIGATION TO COMPLETE POST-AUTHORISATION MEASURES FOR\r\n",
      "<THE CONDITIONAL MARKETING AUTHORISATION> <THE MARKETING AUTHORISATION UNDER EXCEPTIONAL CIRCUMSTANCES>\n",
      "True  ||  Contains<>|65.26|(75, 95, 86)|0.93|  ||  E.      SPECIFIC OBLIGATION TO COMPLETE\r",
      " POST-AUTHORISATION MEASURES FOR THE CONDITIONAL MARKETING AUTHORISATION  ||  E. SPECIFIC OBLIGATION TO COMPLETE POST-AUTHORISATION MEASURES FOR\r\n",
      "<THE CONDITIONAL MARKETING AUTHORISATION> <THE MARKETING AUTHORISATION UNDER EXCEPTIONAL CIRCUMSTANCES>\n",
      "A.      MANUFACTURER(S) OF THE BIOLOGICAL ACTIVE\r",
      " SUBSTANCE(S) AND MANUFACTURER(S) RESPONSIBLE FOR BATCH RELEASE  |===|  A. <MANUFACTURER(S) OF THE BIOLOGICAL ACTIVE SUBSTANCE(S) AND> MANUFACTURER(S) RESPONSIBLE FOR BATCH RELEASE\n",
      "\n",
      "OriginalCheck\n",
      "('<=7|91.21|(11, 14, 86)|0.29|', 'A.      MANUFACTURER(S) OF THE BIOLOGICAL ACTIVE\\r SUBSTANCE(S) AND MANUFACTURER(S) RESPONSIBLE FOR BATCH RELEASE', 'Name and address of the manufacturer(s) of the biological active substance(s)')\n",
      "\n",
      "\n",
      "OriginalCheck\n",
      "('<=7|91.21|(8, 11, 86)|0.33|', 'A.      MANUFACTURER(S) OF THE BIOLOGICAL ACTIVE\\r SUBSTANCE(S) AND MANUFACTURER(S) RESPONSIBLE FOR BATCH RELEASE', 'Name and address of the manufacturer(s) responsible for batch release')\n",
      "\n"
     ]
    },
    {
     "name": "stderr",
     "output_type": "stream",
     "text": [
      " SUBSTANCE(S) AND MANUFACTURER(S) RESPONSIBLE FOR BATCH RELEASE' | Qrd txt :- 'D. CONDITIONS OR RESTRICTIONS WITH REGARD TO THE SAFE AND EFFECTIVE USE OF THE MEDICINAL PRODUCT' | Matched :- 'False'OGICAL ACTIVE\n",
      "2021-05-07 18:48:06,522 : Heading Extraction Adakveo-4874 EN PI_ANNEX II.json : End Of Sub Section | H | CAP |  en | 1 | Adakveo-4874 EN PI_ANNEX II.json\n",
      " SUBSTANCE(S) AND MANUFACTURER(S) RESPONSIBLE FOR BATCH RELEASE' | Qrd txt :- 'A. <MANUFACTURER(S) OF THE BIOLOGICAL ACTIVE SUBSTANCE(S) AND> MANUFACTURER(S) RESPONSIBLE FOR BATCH RELEASE' | Matched :- 'True'VE\n",
      "2021-05-07 18:48:06,555 : Heading Extraction Adakveo-4874 EN PI_ANNEX II.json : Validation Passed As This The First Heading | H | CAP |  en | 1 | Adakveo-4874 EN PI_ANNEX II.json | currHeadId :- '21002' | currParentHeadId :- '21001.0' | prevParentHeadId :- ''\n",
      " substance(s)' | Qrd txt :- 'A. <MANUFACTURER(S) OF THE BIOLOGICAL ACTIVE SUBSTANCE(S) AND> MANUFACTURER(S) RESPONSIBLE FOR BATCH RELEASE' | Matched :- 'False'n | Doc txt :- 'Name and address of the manufacturer(s) of the biological active\n",
      " substance(s)' | Qrd txt :- 'Name and address of the manufacturer(s) of the biological active substance(s)' | Matched :- 'True' EN PI_ANNEX II.json | Doc txt :- 'Name and address of the manufacturer(s) of the biological active\n",
      "2021-05-07 18:48:06,608 : Heading Extraction Adakveo-4874 EN PI_ANNEX II.json : Validation Passed | H | CAP |  en | 1 | Adakveo-4874 EN PI_ANNEX II.json | currHeadId :- '21003' | currParentHeadId :- '21002.0' | prevParentHeadId :- '21002'\n"
     ]
    },
    {
     "name": "stdout",
     "output_type": "stream",
     "text": [
      "oooooooooooooooooooooooooooooooooooooooo END OF Sub Section oooooooooooooooooooooooooooooooooooooooooooooooooooooooooooo\n",
      "A.      MANUFACTURER(S) OF THE BIOLOGICAL ACTIVE\r",
      " SUBSTANCE(S) AND MANUFACTURER(S) RESPONSIBLE FOR BATCH RELEASE  |===|  A. <MANUFACTURER(S) OF THE BIOLOGICAL ACTIVE SUBSTANCE(S) AND> MANUFACTURER(S) RESPONSIBLE FOR BATCH RELEASE\n",
      "True  ||  Contains<>|6.59|(97, 95, 97)|0.97|  ||  A.      MANUFACTURER(S) OF THE BIOLOGICAL ACTIVE\r",
      " SUBSTANCE(S) AND MANUFACTURER(S) RESPONSIBLE FOR BATCH RELEASE  ||  A. <MANUFACTURER(S) OF THE BIOLOGICAL ACTIVE SUBSTANCE(S) AND> MANUFACTURER(S) RESPONSIBLE FOR BATCH RELEASE\n",
      "\n",
      "OriginalCheck\n",
      "('Contains<>|150.85|(10, 14, 86)|0.29|', 'Name and address of the manufacturer(s) of the biological active\\r substance(s)', 'A. <MANUFACTURER(S) OF THE BIOLOGICAL ACTIVE SUBSTANCE(S) AND> MANUFACTURER(S) RESPONSIBLE FOR BATCH RELEASE')\n",
      "\n",
      "Name and address of the manufacturer(s) of the biological active\r",
      " substance(s)  |===|  Name and address of the manufacturer(s) of the biological active substance(s)\n",
      "True  ||    ||  Name and address of the manufacturer(s) of the biological active\r",
      " substance(s)  ||  Name and address of the manufacturer(s) of the biological active substance(s)\n"
     ]
    },
    {
     "name": "stderr",
     "output_type": "stream",
     "text": [
      " release' | Qrd txt :- 'A. <MANUFACTURER(S) OF THE BIOLOGICAL ACTIVE SUBSTANCE(S) AND> MANUFACTURER(S) RESPONSIBLE FOR BATCH RELEASE' | Matched :- 'False'I.json | Doc txt :- 'Name and address of the manufacturer(s) responsible for batch\n",
      " release' | Qrd txt :- 'Name and address of the manufacturer(s) of the biological active substance(s)' | Matched :- 'False'4874 EN PI_ANNEX II.json | Doc txt :- 'Name and address of the manufacturer(s) responsible for batch\n",
      " release' | Qrd txt :- 'Name and address of the manufacturer(s) responsible for batch release' | Matched :- 'True' Adakveo-4874 EN PI_ANNEX II.json | Doc txt :- 'Name and address of the manufacturer(s) responsible for batch\n",
      "2021-05-07 18:48:06,877 : Heading Extraction Adakveo-4874 EN PI_ANNEX II.json : Validation Passed | H | CAP |  en | 1 | Adakveo-4874 EN PI_ANNEX II.json | currHeadId :- '21004' | currParentHeadId :- '21002.0' | prevParentHeadId :- '21003'\n"
     ]
    },
    {
     "name": "stdout",
     "output_type": "stream",
     "text": [
      "\n",
      "OriginalCheck\n",
      "('Contains<>|164.81|(8, 11, 86)|0.33|', 'Name and address of the manufacturer(s) responsible for batch\\r release', 'A. <MANUFACTURER(S) OF THE BIOLOGICAL ACTIVE SUBSTANCE(S) AND> MANUFACTURER(S) RESPONSIBLE FOR BATCH RELEASE')\n",
      "\n",
      "Name and address of the manufacturer(s) responsible for batch\r",
      " release  |===|  Name and address of the manufacturer(s) responsible for batch release\n",
      "True  ||    ||  Name and address of the manufacturer(s) responsible for batch\r",
      " release  ||  Name and address of the manufacturer(s) responsible for batch release\n"
     ]
    },
    {
     "name": "stderr",
     "output_type": "stream",
     "text": [
      "2021-05-07 18:48:07,167 : Heading Extraction Adakveo-4874 EN PI_ANNEX II.json : Match Passed | H | CAP |  en | 1 | Adakveo-4874 EN PI_ANNEX II.json | Doc txt :- 'B.      CONDITIONS OR RESTRICTIONS REGARDING SUPPLY AND USE' | Qrd txt :- 'B. CONDITIONS OR RESTRICTIONS REGARDING SUPPLY AND USE' | Matched :- 'True'\n",
      "2021-05-07 18:48:07,177 : Heading Extraction Adakveo-4874 EN PI_ANNEX II.json : Validation Passed | H | CAP |  en | 1 | Adakveo-4874 EN PI_ANNEX II.json | currHeadId :- '21005' | currParentHeadId :- '21001.0' | prevParentHeadId :- '21004'\n"
     ]
    },
    {
     "name": "stdout",
     "output_type": "stream",
     "text": [
      "B.      CONDITIONS OR RESTRICTIONS REGARDING SUPPLY AND USE  |===|  B. CONDITIONS OR RESTRICTIONS REGARDING SUPPLY AND USE\n",
      "True  ||    ||  B.      CONDITIONS OR RESTRICTIONS REGARDING SUPPLY AND USE  ||  B. CONDITIONS OR RESTRICTIONS REGARDING SUPPLY AND USE\n",
      "\n",
      "OriginalCheck\n",
      "('>7|92.37|(10, 8, 86)|0.34|', 'Medicinal\\r product subject to restricted medical prescription (see Annex I: Summary of\\r Product Characteristics, section 4.2).', 'D. CONDITIONS OR RESTRICTIONS WITH REGARD TO THE SAFE AND EFFECTIVE USE OF THE MEDICINAL PRODUCT')\n",
      "\n"
     ]
    },
    {
     "name": "stderr",
     "output_type": "stream",
     "text": [
      " Product Characteristics, section 4.2).' | Qrd txt :- 'D. CONDITIONS OR RESTRICTIONS WITH REGARD TO THE SAFE AND EFFECTIVE USE OF THE MEDICINAL PRODUCT' | Matched :- 'False' 'Medicinal\n",
      " REQUIREMENTS OF THE MARKETING AUTHORISATION' | Qrd txt :- 'C. OTHER CONDITIONS AND REQUIREMENTS OF THE MARKETING AUTHORISATION' | Matched :- 'True'| Doc txt :- 'C.      OTHER CONDITIONS AND\n",
      "2021-05-07 18:48:07,469 : Heading Extraction Adakveo-4874 EN PI_ANNEX II.json : Validation Flow Is Broken | H | CAP |  en | 1 | Adakveo-4874 EN PI_ANNEX II.json | currHeadId :- '21007' | currParentHeadId :- '21001.0' | prevParentHeadId :- '21005'\n",
      "2021-05-07 18:48:07,475 : Heading Extraction Adakveo-4874 EN PI_ANNEX II.json : Validation Passed | H | CAP |  en | 1 | Adakveo-4874 EN PI_ANNEX II.json | currHeadId :- '21007' | currParentHeadId :- '21001.0' | prevParentHeadId :- '21005'\n",
      "2021-05-07 18:48:07,534 : Heading Extraction Adakveo-4874 EN PI_ANNEX II.json : Match Passed | H | CAP |  en | 1 | Adakveo-4874 EN PI_ANNEX II.json | Doc txt :- '·Periodic safety update reports (PSURs)' | Qrd txt :- 'Periodic safety update reports (PSURs)' | Matched :- 'True'\n",
      "2021-05-07 18:48:07,542 : Heading Extraction Adakveo-4874 EN PI_ANNEX II.json : Validation Passed | H | CAP |  en | 1 | Adakveo-4874 EN PI_ANNEX II.json | currHeadId :- '21008' | currParentHeadId :- '21007.0' | prevParentHeadId :- '21007'\n"
     ]
    },
    {
     "name": "stdout",
     "output_type": "stream",
     "text": [
      "C.      OTHER CONDITIONS AND\r",
      " REQUIREMENTS OF THE MARKETING AUTHORISATION  |===|  C. OTHER CONDITIONS AND REQUIREMENTS OF THE MARKETING AUTHORISATION\n",
      "True  ||    ||  C.      OTHER CONDITIONS AND\r",
      " REQUIREMENTS OF THE MARKETING AUTHORISATION  ||  C. OTHER CONDITIONS AND REQUIREMENTS OF THE MARKETING AUTHORISATION\n",
      "·Periodic safety update reports (PSURs)  |===|  Periodic safety update reports (PSURs)\n",
      "True  ||  <=7|2.56|(99, 100, 100)|1.0|  ||  ·Periodic safety update reports (PSURs)  ||  Periodic safety update reports (PSURs)\n",
      "\n",
      "OriginalCheck\n",
      "('<=7|94.5|(9, 12, 86)|0.33|', 'The marketing\\r authorisation holder (MAH) shall submit the first PSUR for this product within\\r 6 months following authorisation.', 'C. OTHER CONDITIONS AND REQUIREMENTS OF THE MARKETING AUTHORISATION')\n"
     ]
    },
    {
     "name": "stderr",
     "output_type": "stream",
     "text": [
      " 6 months following authorisation.' | Qrd txt :- 'C. OTHER CONDITIONS AND REQUIREMENTS OF THE MARKETING AUTHORISATION' | Matched :- 'False'4 EN PI_ANNEX II.json | Doc txt :- 'The marketing\n",
      " 6 months following authorisation.' | Qrd txt :- 'D. CONDITIONS OR RESTRICTIONS WITH REGARD TO THE SAFE AND EFFECTIVE USE OF THE MEDICINAL PRODUCT' | Matched :- 'False'xt :- 'The marketing\n",
      " RESTRICTIONS WITH REGARD TO THE SAFE AND EFFECTIVE USE OF THE MEDICINAL PRODUCT' | Qrd txt :- 'A. <MANUFACTURER(S) OF THE BIOLOGICAL ACTIVE SUBSTANCE(S) AND> MANUFACTURER(S) RESPONSIBLE FOR BATCH RELEASE' | Matched :- 'False'\n",
      " RESTRICTIONS WITH REGARD TO THE SAFE AND EFFECTIVE USE OF THE MEDICINAL PRODUCT' | Qrd txt :- 'D. CONDITIONS OR RESTRICTIONS WITH REGARD TO THE SAFE AND EFFECTIVE USE OF THE MEDICINAL PRODUCT' | Matched :- 'True'\n"
     ]
    },
    {
     "name": "stdout",
     "output_type": "stream",
     "text": [
      "\n",
      "\n",
      "OriginalCheck\n",
      "('>7|92.66|(9, 14, 86)|0.35|', 'The marketing\\r authorisation holder (MAH) shall submit the first PSUR for this product within\\r 6 months following authorisation.', 'D. CONDITIONS OR RESTRICTIONS WITH REGARD TO THE SAFE AND EFFECTIVE USE OF THE MEDICINAL PRODUCT')\n",
      "\n"
     ]
    },
    {
     "name": "stderr",
     "output_type": "stream",
     "text": [
      "2021-05-07 18:48:07,871 : Heading Extraction Adakveo-4874 EN PI_ANNEX II.json : Validation Passed | H | CAP |  en | 1 | Adakveo-4874 EN PI_ANNEX II.json | currHeadId :- '21009' | currParentHeadId :- '21001.0' | prevParentHeadId :- '21008'\n",
      "2021-05-07 18:48:07,933 : Heading Extraction Adakveo-4874 EN PI_ANNEX II.json : Match Passed | H | CAP |  en | 1 | Adakveo-4874 EN PI_ANNEX II.json | Doc txt :- '·Risk management plan (RMP)' | Qrd txt :- 'Risk management plan (RMP)' | Matched :- 'True'\n",
      "2021-05-07 18:48:07,942 : Heading Extraction Adakveo-4874 EN PI_ANNEX II.json : Validation Passed | H | CAP |  en | 1 | Adakveo-4874 EN PI_ANNEX II.json | currHeadId :- '21010' | currParentHeadId :- '21009.0' | prevParentHeadId :- '21009'\n"
     ]
    },
    {
     "name": "stdout",
     "output_type": "stream",
     "text": [
      "D.      CONDITIONS OR\r",
      " RESTRICTIONS WITH REGARD TO THE SAFE AND EFFECTIVE USE OF THE MEDICINAL PRODUCT  |===|  D. CONDITIONS OR RESTRICTIONS WITH REGARD TO THE SAFE AND EFFECTIVE USE OF THE MEDICINAL PRODUCT\n",
      "True  ||    ||  D.      CONDITIONS OR\r",
      " RESTRICTIONS WITH REGARD TO THE SAFE AND EFFECTIVE USE OF THE MEDICINAL PRODUCT  ||  D. CONDITIONS OR RESTRICTIONS WITH REGARD TO THE SAFE AND EFFECTIVE USE OF THE MEDICINAL PRODUCT\n",
      "·Risk management plan (RMP)  |===|  Risk management plan (RMP)\n",
      "True  ||  <=4|3.7|(98, 100, 100)|0.99|  ||  ·Risk management plan (RMP)  ||  Risk management plan (RMP)\n"
     ]
    },
    {
     "name": "stderr",
     "output_type": "stream",
     "text": [
      " AUTHORISATION' | Qrd txt :- 'A. <MANUFACTURER(S) OF THE BIOLOGICAL ACTIVE SUBSTANCE(S) AND> MANUFACTURER(S) RESPONSIBLE FOR BATCH RELEASE' | Matched :- 'False' 'E.      SPECIFIC OBLIGATION\n",
      " AUTHORISATION' | Qrd txt :- 'C. OTHER CONDITIONS AND REQUIREMENTS OF THE MARKETING AUTHORISATION' | Matched :- 'False'en | 1 | Adakveo-4874 EN PI_ANNEX II.json | Doc txt :- 'E.      SPECIFIC OBLIGATION\n",
      " AUTHORISATION' | Qrd txt :- 'D. CONDITIONS OR RESTRICTIONS WITH REGARD TO THE SAFE AND EFFECTIVE USE OF THE MEDICINAL PRODUCT' | Matched :- 'False'| Doc txt :- 'E.      SPECIFIC OBLIGATION\n",
      " AUTHORISATION' | Qrd txt :- 'E. SPECIFIC OBLIGATION TO COMPLETE POST-AUTHORISATION MEASURES FOR | CAP |  en | 1 | Adakveo-4874 EN PI_ANNEX II.json | Doc txt :- 'E.      SPECIFIC OBLIGATION\n",
      "<THE CONDITIONAL MARKETING AUTHORISATION> <THE MARKETING AUTHORISATION UNDER EXCEPTIONAL CIRCUMSTANCES>' | Matched :- 'True'\n",
      "2021-05-07 18:48:08,511 : Heading Extraction Adakveo-4874 EN PI_ANNEX II.json : Validation Flow Is Broken | H | CAP |  en | 1 | Adakveo-4874 EN PI_ANNEX II.json | currHeadId :- '21013' | currParentHeadId :- '21001.0' | prevParentHeadId :- '21010'\n",
      "2021-05-07 18:48:08,519 : Heading Extraction Adakveo-4874 EN PI_ANNEX II.json : Validation Passed | H | CAP |  en | 1 | Adakveo-4874 EN PI_ANNEX II.json | currHeadId :- '21013' | currParentHeadId :- '21001.0' | prevParentHeadId :- '21010'\n"
     ]
    },
    {
     "name": "stdout",
     "output_type": "stream",
     "text": [
      "\n",
      "OriginalCheck\n",
      "('<=7|57.89|(48, 77, 86)|0.68|', 'E.      SPECIFIC OBLIGATION\\r TO COMPLETE POST-AUTHORISATION MEASURES FOR THE CONDITIONAL MARKETING\\r AUTHORISATION', 'C. OTHER CONDITIONS AND REQUIREMENTS OF THE MARKETING AUTHORISATION')\n",
      "\n",
      "E.      SPECIFIC OBLIGATION\r",
      " TO COMPLETE POST-AUTHORISATION MEASURES FOR THE CONDITIONAL MARKETING\r",
      " AUTHORISATION  |===|  E. SPECIFIC OBLIGATION TO COMPLETE POST-AUTHORISATION MEASURES FOR\r\n",
      "<THE CONDITIONAL MARKETING AUTHORISATION> <THE MARKETING AUTHORISATION UNDER EXCEPTIONAL CIRCUMSTANCES>\n",
      "True  ||  Contains<>|65.26|(75, 95, 86)|0.93|  ||  E.      SPECIFIC OBLIGATION\r",
      " TO COMPLETE POST-AUTHORISATION MEASURES FOR THE CONDITIONAL MARKETING\r",
      " AUTHORISATION  ||  E. SPECIFIC OBLIGATION TO COMPLETE POST-AUTHORISATION MEASURES FOR\r\n",
      "<THE CONDITIONAL MARKETING AUTHORISATION> <THE MARKETING AUTHORISATION UNDER EXCEPTIONAL CIRCUMSTANCES>\n"
     ]
    },
    {
     "name": "stderr",
     "output_type": "stream",
     "text": [
      "2021-05-07 18:48:08,711 : Flow Logger HTML_K : Completed Heading Extraction For File | H | CAP |  en | HTML | Adakveo-4874 EN PI.html\n",
      "2021-05-07 18:48:08,713 : Flow Logger HTML_K : Starting Document Annotation For File | H | CAP |  en | HTML | Adakveo-4874 EN PI.html\n",
      "2021-05-07 18:48:08,723 : Flow Logger HTML_K : Completed Document Annotation | H | CAP |  en | HTML | Adakveo-4874 EN PI.html\n",
      "2021-05-07 18:48:08,725 : Flow Logger HTML_K : Starting Extracting Content Between Heading | H | CAP |  en | HTML | Adakveo-4874 EN PI.html\n",
      "2021-05-07 18:48:08,730 : ExtractContentBetween_1 : Cleaning Match Results | H | CAP |  en | 1 | Adakveo-4874 EN PI_ANNEX II.json\n",
      "2021-05-07 18:48:08,736 : ExtractContentBetween_1 : Finished Cleaning Match Results | H | CAP |  en | 1 | Adakveo-4874 EN PI_ANNEX II.json\n",
      "2021-05-07 18:48:08,752 : Flow Logger HTML_K : Completed Extracting Content Between Heading | H | CAP |  en | HTML | Adakveo-4874 EN PI.html\n",
      "2021-05-07 18:48:08,768 : XmlGeneration_1 : PMS/OMS Annotation Information Not Retrieved | H | CAP |  en | 1 | Adakveo-4874 EN PI_ANNEX II.json\n",
      "2021-05-07 18:48:08,770 : XmlGeneration_1 : Initiating XML Generation | H | CAP |  en | 1 | Adakveo-4874 EN PI_ANNEX II.json\n",
      "2021-05-07 18:48:08,797 : XmlGeneration_1 : Writing to File:Adakveo-4874 EN PI_ANNEX II.xml | H | CAP |  en | 1 | Adakveo-4874 EN PI_ANNEX II.json\n"
     ]
    },
    {
     "name": "stdout",
     "output_type": "stream",
     "text": [
      "\n",
      "\n",
      "Heading Not Found \n",
      " ['Official batch release', 'Additional risk minimisation measures', 'Obligation to conduct post-authorisation measures']\n",
      "\n",
      "\n",
      "dict_keys([])\n",
      "Completed Heading Extraction For File\n",
      "Starting Document Annotation For File :- Adakveo-4874 EN PI_ANNEX II.json\n",
      "Error Found\n",
      "Completed Document Annotation\n",
      "Starting Extracting Content Between Heading For File :- Adakveo-4874 EN PI_ANNEX II.json\n",
      "File being processed: F:\\Projects\\EMA\\Repository\\EMA EPI PoC\\function_code\\data\\partitionedJSONs\\H\\CAP\\en\\Adakveo-4874 EN PI_ANNEX II.json\n",
      "--------------------------------------------\n",
      "Completed Extracting Content Between Heading\n",
      "Already Exists\n"
     ]
    },
    {
     "name": "stderr",
     "output_type": "stream",
     "text": [
      "2021-05-07 18:48:09,801 : XML Submission Logger_1 : Initiating Submission To FHIR Server | H | CAP |  en | 1 | Adakveo-4874 EN PI_ANNEX II.json\n",
      "2021-05-07 18:48:09,803 : XML Submission Logger_1 : POST sucessful: XML added with id: 3c7d40d7-bf6e-410a-83c7-4eb4718dbbf8 | H | CAP |  en | 1 | Adakveo-4874 EN PI_ANNEX II.json\n",
      "2021-05-07 18:48:09,807 : Flow Logger HTML_K : \n",
      "\n",
      "\n",
      "\n",
      "||||||||||||||||||||||||||||||||2 ||||| Adakveo-4874 EN PI_ANNEX III.json||||||||||||||||||||||||||||||||\n",
      "\n",
      "\n",
      "\n",
      " | H | CAP |  en | HTML | Adakveo-4874 EN PI.html\n",
      "2021-05-07 18:48:09,812 : Heading Extraction Adakveo-4874 EN PI_ANNEX III.json : Starting Heading Extraction | H | CAP |  en | 2 | Adakveo-4874 EN PI_ANNEX III.json\n",
      "2021-05-07 18:48:10,006 : Heading Extraction Adakveo-4874 EN PI_ANNEX III.json : Started Extracting Heading | H | CAP |  en | 2 | Adakveo-4874 EN PI_ANNEX III.json\n"
     ]
    },
    {
     "name": "stdout",
     "output_type": "stream",
     "text": [
      "POST sucessful: XML added with id 3c7d40d7-bf6e-410a-83c7-4eb4718dbbf8\n",
      "Created XML File For :- Adakveo-4874 EN PI_ANNEX II.json\n",
      "Starting Heading Extraction For File :- Adakveo-4874 EN PI_ANNEX III.json\n",
      "File being processed: F:\\Projects\\EMA\\Repository\\EMA EPI PoC\\function_code\\data\\partitionedJSONs\\H\\CAP\\en\\Adakveo-4874 EN PI_ANNEX III.json\n",
      "--------------------------------------------\n",
      "Labelling\n"
     ]
    },
    {
     "name": "stderr",
     "output_type": "stream",
     "text": [
      "2021-05-07 18:48:10,585 : Heading Extraction Adakveo-4874 EN PI_ANNEX III.json : Match Passed | H | CAP |  en | 2 | Adakveo-4874 EN PI_ANNEX III.json | Doc txt :- 'A. LABELLING' | Qrd txt :- 'LABELLING ' | Matched :- 'True'\n",
      "2021-05-07 18:48:10,596 : Heading Extraction Adakveo-4874 EN PI_ANNEX III.json : Validation Passed As This The First Heading | H | CAP |  en | 2 | Adakveo-4874 EN PI_ANNEX III.json | currHeadId :- '22001' | currParentHeadId :- 'nan' | prevParentHeadId :- ''\n",
      "2021-05-07 18:48:10,617 : Heading Extraction Adakveo-4874 EN PI_ANNEX III.json : Match Passed | H | CAP |  en | 2 | Adakveo-4874 EN PI_ANNEX III.json | Doc txt :- 'PARTICULARS TO APPEAR ON THE OUTER PACKAGING' | Qrd txt :- 'PARTICULARS TO APPEAR ON <THE OUTER PACKAGING> <AND> <THE IMMEDIATE PACKAGING>' | Matched :- 'True'\n",
      "2021-05-07 18:48:10,630 : Heading Extraction Adakveo-4874 EN PI_ANNEX III.json : Validation Passed | H | CAP |  en | 2 | Adakveo-4874 EN PI_ANNEX III.json | currHeadId :- '22002' | currParentHeadId :- '22001.0' | prevParentHeadId :- '22001'\n",
      " MEDICINAL PRODUCT' | Qrd txt :- '1. NAME OF THE MEDICINAL PRODUCT' | Matched :- 'True'Passed | H | CAP |  en | 2 | Adakveo-4874 EN PI_ANNEX III.json | Doc txt :- '1.       NAME OF THE\n"
     ]
    },
    {
     "name": "stdout",
     "output_type": "stream",
     "text": [
      "A. LABELLING  |===|  LABELLING \n",
      "True  ||  <=1|25.0|(86, 100, 95)|0.92|  ||  A. LABELLING  ||  LABELLING \n",
      "PARTICULARS TO APPEAR ON THE OUTER PACKAGING  |===|  PARTICULARS TO APPEAR ON <THE OUTER PACKAGING> <AND> <THE IMMEDIATE PACKAGING>\n",
      "True  ||  Contains<>|111.76|(64, 85, 86)|0.88|  ||  PARTICULARS TO APPEAR ON THE OUTER PACKAGING  ||  PARTICULARS TO APPEAR ON <THE OUTER PACKAGING> <AND> <THE IMMEDIATE PACKAGING>\n",
      "1.       NAME OF THE\r",
      " MEDICINAL PRODUCT "
     ]
    },
    {
     "name": "stderr",
     "output_type": "stream",
     "text": [
      "2021-05-07 18:48:10,776 : Heading Extraction Adakveo-4874 EN PI_ANNEX III.json : Validation Passed | H | CAP |  en | 2 | Adakveo-4874 EN PI_ANNEX III.json | currHeadId :- '22003' | currParentHeadId :- '22002.0' | prevParentHeadId :- '22002'\n"
     ]
    },
    {
     "name": "stdout",
     "output_type": "stream",
     "text": [
      " |===|  1. NAME OF THE MEDICINAL PRODUCT\n",
      "True  ||    ||  1.       NAME OF THE\r",
      " MEDICINAL PRODUCT  ||  1. NAME OF THE MEDICINAL PRODUCT\n"
     ]
    },
    {
     "name": "stderr",
     "output_type": "stream",
     "text": [
      " ACTIVE SUBSTANCE(S)' | Qrd txt :- '2. STATEMENT OF ACTIVE SUBSTANCE(S)' | Matched :- 'True'd | H | CAP |  en | 2 | Adakveo-4874 EN PI_ANNEX III.json | Doc txt :- '2.       STATEMENT OF\n",
      "2021-05-07 18:48:11,379 : Heading Extraction Adakveo-4874 EN PI_ANNEX III.json : Validation Passed | H | CAP |  en | 2 | Adakveo-4874 EN PI_ANNEX III.json | currHeadId :- '22004' | currParentHeadId :- '22002.0' | prevParentHeadId :- '22003'\n"
     ]
    },
    {
     "name": "stdout",
     "output_type": "stream",
     "text": [
      "2.       STATEMENT OF\r",
      " ACTIVE SUBSTANCE(S)  |===|  2. STATEMENT OF ACTIVE SUBSTANCE(S)\n",
      "True  ||    ||  2.       STATEMENT OF\r",
      " ACTIVE SUBSTANCE(S)  ||  2. STATEMENT OF ACTIVE SUBSTANCE(S)\n"
     ]
    },
    {
     "name": "stderr",
     "output_type": "stream",
     "text": [
      "2021-05-07 18:48:12,143 : Heading Extraction Adakveo-4874 EN PI_ANNEX III.json : Match Passed | H | CAP |  en | 2 | Adakveo-4874 EN PI_ANNEX III.json | Doc txt :- '3.       LIST OF EXCIPIENTS' | Qrd txt :- '3. LIST OF EXCIPIENTS' | Matched :- 'True'\n",
      "2021-05-07 18:48:12,183 : Heading Extraction Adakveo-4874 EN PI_ANNEX III.json : Validation Passed | H | CAP |  en | 2 | Adakveo-4874 EN PI_ANNEX III.json | currHeadId :- '22005' | currParentHeadId :- '22002.0' | prevParentHeadId :- '22004'\n"
     ]
    },
    {
     "name": "stdout",
     "output_type": "stream",
     "text": [
      "3.       LIST OF EXCIPIENTS  |===|  3. LIST OF EXCIPIENTS\n",
      "True  ||    ||  3.       LIST OF EXCIPIENTS  ||  3. LIST OF EXCIPIENTS\n"
     ]
    },
    {
     "name": "stderr",
     "output_type": "stream",
     "text": [
      " FORM AND CONTENTS' | Qrd txt :- '4. PHARMACEUTICAL FORM AND CONTENTS' | Matched :- 'True'sed | H | CAP |  en | 2 | Adakveo-4874 EN PI_ANNEX III.json | Doc txt :- '4.       PHARMACEUTICAL\n",
      "2021-05-07 18:48:13,000 : Heading Extraction Adakveo-4874 EN PI_ANNEX III.json : Validation Passed | H | CAP |  en | 2 | Adakveo-4874 EN PI_ANNEX III.json | currHeadId :- '22006' | currParentHeadId :- '22002.0' | prevParentHeadId :- '22005'\n"
     ]
    },
    {
     "name": "stdout",
     "output_type": "stream",
     "text": [
      "4.       PHARMACEUTICAL\r",
      " FORM AND CONTENTS  |===|  4. PHARMACEUTICAL FORM AND CONTENTS\n",
      "True  ||    ||  4.       PHARMACEUTICAL\r",
      " FORM AND CONTENTS  ||  4. PHARMACEUTICAL FORM AND CONTENTS\n"
     ]
    },
    {
     "name": "stderr",
     "output_type": "stream",
     "text": [
      " ROUTE(S) OF ADMINISTRATION' | Qrd txt :- '5. METHOD AND ROUTE(S) OF ADMINISTRATION' | Matched :- 'True'|  en | 2 | Adakveo-4874 EN PI_ANNEX III.json | Doc txt :- '5.       METHOD AND\n",
      "2021-05-07 18:48:14,030 : Heading Extraction Adakveo-4874 EN PI_ANNEX III.json : Validation Passed | H | CAP |  en | 2 | Adakveo-4874 EN PI_ANNEX III.json | currHeadId :- '22007' | currParentHeadId :- '22002.0' | prevParentHeadId :- '22006'\n"
     ]
    },
    {
     "name": "stdout",
     "output_type": "stream",
     "text": [
      "5.       METHOD AND\r",
      " ROUTE(S) OF ADMINISTRATION  |===|  5. METHOD AND ROUTE(S) OF ADMINISTRATION\n",
      "True  ||    ||  5.       METHOD AND\r",
      " ROUTE(S) OF ADMINISTRATION  ||  5. METHOD AND ROUTE(S) OF ADMINISTRATION\n"
     ]
    },
    {
     "name": "stderr",
     "output_type": "stream",
     "text": [
      " THAT THE MEDICINAL PRODUCT MUST BE STORED OUT OF THE SIGHT AND REACH OF CHILDREN' | Qrd txt :- '6. SPECIAL WARNING THAT THE MEDICINAL PRODUCT MUST BE STORED OUT OF THE SIGHT AND REACH OF CHILDREN' | Matched :- 'True'\n",
      "2021-05-07 18:48:14,778 : Heading Extraction Adakveo-4874 EN PI_ANNEX III.json : Validation Passed | H | CAP |  en | 2 | Adakveo-4874 EN PI_ANNEX III.json | currHeadId :- '22008' | currParentHeadId :- '22002.0' | prevParentHeadId :- '22007'\n"
     ]
    },
    {
     "name": "stdout",
     "output_type": "stream",
     "text": [
      "6.       SPECIAL WARNING\r",
      " THAT THE MEDICINAL PRODUCT MUST BE STORED OUT OF THE SIGHT AND REACH OF CHILDREN  |===|  6. SPECIAL WARNING THAT THE MEDICINAL PRODUCT MUST BE STORED OUT OF THE SIGHT AND REACH OF CHILDREN\n",
      "True  ||    ||  6.       SPECIAL WARNING\r",
      " THAT THE MEDICINAL PRODUCT MUST BE STORED OUT OF THE SIGHT AND REACH OF CHILDREN  ||  6. SPECIAL WARNING THAT THE MEDICINAL PRODUCT MUST BE STORED OUT OF THE SIGHT AND REACH OF CHILDREN\n"
     ]
    },
    {
     "name": "stderr",
     "output_type": "stream",
     "text": [
      " WARNING(S), IF NECESSARY' | Qrd txt :- '7. OTHER SPECIAL WARNING(S), IF NECESSARY' | Matched :- 'True' |  en | 2 | Adakveo-4874 EN PI_ANNEX III.json | Doc txt :- '7.       OTHER SPECIAL\n",
      "2021-05-07 18:48:15,040 : Heading Extraction Adakveo-4874 EN PI_ANNEX III.json : Validation Passed | H | CAP |  en | 2 | Adakveo-4874 EN PI_ANNEX III.json | currHeadId :- '22009' | currParentHeadId :- '22002.0' | prevParentHeadId :- '22008'\n",
      "2021-05-07 18:48:15,080 : Heading Extraction Adakveo-4874 EN PI_ANNEX III.json : Match Passed | H | CAP |  en | 2 | Adakveo-4874 EN PI_ANNEX III.json | Doc txt :- '8.       EXPIRY DATE' | Qrd txt :- '8. EXPIRY DATE' | Matched :- 'True'\n",
      "2021-05-07 18:48:15,090 : Heading Extraction Adakveo-4874 EN PI_ANNEX III.json : Validation Passed | H | CAP |  en | 2 | Adakveo-4874 EN PI_ANNEX III.json | currHeadId :- '22010' | currParentHeadId :- '22002.0' | prevParentHeadId :- '22009'\n",
      " STORAGE CONDITIONS' | Qrd txt :- '9. SPECIAL STORAGE CONDITIONS' | Matched :- 'True'h Passed | H | CAP |  en | 2 | Adakveo-4874 EN PI_ANNEX III.json | Doc txt :- '9.       SPECIAL\n",
      "2021-05-07 18:48:15,170 : Heading Extraction Adakveo-4874 EN PI_ANNEX III.json : Validation Passed | H | CAP |  en | 2 | Adakveo-4874 EN PI_ANNEX III.json | currHeadId :- '22011' | currParentHeadId :- '22002.0' | prevParentHeadId :- '22010'\n"
     ]
    },
    {
     "name": "stdout",
     "output_type": "stream",
     "text": [
      "7.       OTHER SPECIAL\r",
      " WARNING(S), IF NECESSARY  |===|  7. OTHER SPECIAL WARNING(S), IF NECESSARY\n",
      "True  ||    ||  7.       OTHER SPECIAL\r",
      " WARNING(S), IF NECESSARY  ||  7. OTHER SPECIAL WARNING(S), IF NECESSARY\n",
      "8.       EXPIRY DATE  |===|  8. EXPIRY DATE\n",
      "True  ||    ||  8.       EXPIRY DATE  ||  8. EXPIRY DATE\n",
      "9.       SPECIAL\r",
      " STORAGE CONDITIONS  |===|  9. SPECIAL STORAGE CONDITIONS\n",
      "True  ||    ||  9.       SPECIAL\r",
      " STORAGE CONDITIONS  ||  9. SPECIAL STORAGE CONDITIONS\n"
     ]
    },
    {
     "name": "stderr",
     "output_type": "stream",
     "text": [
      " MEDICINAL PRODUCTS, IF APPROPRIATE' | Qrd txt :- '10. SPECIAL PRECAUTIONS FOR DISPOSAL OF UNUSED MEDICINAL PRODUCTS OR WASTE MATERIALS DERIVED FROM SUCH MEDICINAL PRODUCTS, IF APPROPRIATE' | Matched :- 'True'\n",
      "2021-05-07 18:48:15,767 : Heading Extraction Adakveo-4874 EN PI_ANNEX III.json : Validation Passed | H | CAP |  en | 2 | Adakveo-4874 EN PI_ANNEX III.json | currHeadId :- '22012' | currParentHeadId :- '22002.0' | prevParentHeadId :- '22011'\n",
      "2021-05-07 18:48:15,920 : Heading Extraction Adakveo-4874 EN PI_ANNEX III.json : Match Passed | H | CAP |  en | 2 | Adakveo-4874 EN PI_ANNEX III.json | Doc txt :- '11.     NAME AND ADDRESS OF THE MARKETING AUTHORISATION HOLDER' | Qrd txt :- '11. NAME AND ADDRESS OF THE MARKETING AUTHORISATION HOLDER' | Matched :- 'True'\n",
      "2021-05-07 18:48:15,932 : Heading Extraction Adakveo-4874 EN PI_ANNEX III.json : Validation Passed | H | CAP |  en | 2 | Adakveo-4874 EN PI_ANNEX III.json | currHeadId :- '22013' | currParentHeadId :- '22002.0' | prevParentHeadId :- '22012'\n"
     ]
    },
    {
     "name": "stdout",
     "output_type": "stream",
     "text": [
      " MEDICINAL PRODUCTS, IF APPROPRIATE  |===|  10. SPECIAL PRECAUTIONS FOR DISPOSAL OF UNUSED MEDICINAL PRODUCTS OR WASTE MATERIALS DERIVED FROM SUCH MEDICINAL PRODUCTS, IF APPROPRIATE\n",
      " MEDICINAL PRODUCTS, IF APPROPRIATE  ||  10. SPECIAL PRECAUTIONS FOR DISPOSAL OF UNUSED MEDICINAL PRODUCTS OR WASTE MATERIALS DERIVED FROM SUCH MEDICINAL PRODUCTS, IF APPROPRIATE\n",
      "11.     NAME AND ADDRESS OF THE MARKETING AUTHORISATION HOLDER  |===|  11. NAME AND ADDRESS OF THE MARKETING AUTHORISATION HOLDER\n",
      "True  ||    ||  11.     NAME AND ADDRESS OF THE MARKETING AUTHORISATION HOLDER  ||  11. NAME AND ADDRESS OF THE MARKETING AUTHORISATION HOLDER\n"
     ]
    },
    {
     "name": "stderr",
     "output_type": "stream",
     "text": [
      "2021-05-07 18:48:16,867 : Heading Extraction Adakveo-4874 EN PI_ANNEX III.json : Match Passed | H | CAP |  en | 2 | Adakveo-4874 EN PI_ANNEX III.json | Doc txt :- '12.     MARKETING AUTHORISATION NUMBER(S)' | Qrd txt :- '12. MARKETING AUTHORISATION NUMBER(S) ' | Matched :- 'True'\n",
      "2021-05-07 18:48:16,881 : Heading Extraction Adakveo-4874 EN PI_ANNEX III.json : Validation Passed | H | CAP |  en | 2 | Adakveo-4874 EN PI_ANNEX III.json | currHeadId :- '22014' | currParentHeadId :- '22002.0' | prevParentHeadId :- '22013'\n"
     ]
    },
    {
     "name": "stdout",
     "output_type": "stream",
     "text": [
      "12.     MARKETING AUTHORISATION NUMBER(S)  |===|  12. MARKETING AUTHORISATION NUMBER(S) \n",
      "True  ||    ||  12.     MARKETING AUTHORISATION NUMBER(S)  ||  12. MARKETING AUTHORISATION NUMBER(S) \n"
     ]
    },
    {
     "name": "stderr",
     "output_type": "stream",
     "text": [
      "2021-05-07 18:48:17,086 : Heading Extraction Adakveo-4874 EN PI_ANNEX III.json : Match Passed | H | CAP |  en | 2 | Adakveo-4874 EN PI_ANNEX III.json | Doc txt :- '13.     BATCH NUMBER' | Qrd txt :- '13. BATCH NUMBER<, DONATION AND PRODUCT CODES>' | Matched :- 'True'\n",
      "2021-05-07 18:48:17,097 : Heading Extraction Adakveo-4874 EN PI_ANNEX III.json : Validation Passed | H | CAP |  en | 2 | Adakveo-4874 EN PI_ANNEX III.json | currHeadId :- '22015' | currParentHeadId :- '22002.0' | prevParentHeadId :- '22014'\n",
      "2021-05-07 18:48:17,203 : Heading Extraction Adakveo-4874 EN PI_ANNEX III.json : Match Passed | H | CAP |  en | 2 | Adakveo-4874 EN PI_ANNEX III.json | Doc txt :- '14.     GENERAL CLASSIFICATION FOR SUPPLY' | Qrd txt :- '14. GENERAL CLASSIFICATION FOR SUPPLY' | Matched :- 'True'\n",
      "2021-05-07 18:48:17,215 : Heading Extraction Adakveo-4874 EN PI_ANNEX III.json : Validation Passed | H | CAP |  en | 2 | Adakveo-4874 EN PI_ANNEX III.json | currHeadId :- '22016' | currParentHeadId :- '22002.0' | prevParentHeadId :- '22015'\n"
     ]
    },
    {
     "name": "stdout",
     "output_type": "stream",
     "text": [
      "13.     BATCH NUMBER  |===|  13. BATCH NUMBER<, DONATION AND PRODUCT CODES>\n",
      "True  ||  Contains<>|162.5|(55, 100, 90)|0.88|  ||  13.     BATCH NUMBER  ||  13. BATCH NUMBER<, DONATION AND PRODUCT CODES>\n",
      "14.     GENERAL CLASSIFICATION FOR SUPPLY  |===|  14. GENERAL CLASSIFICATION FOR SUPPLY\n",
      "True  ||    ||  14.     GENERAL CLASSIFICATION FOR SUPPLY  ||  14. GENERAL CLASSIFICATION FOR SUPPLY\n"
     ]
    },
    {
     "name": "stderr",
     "output_type": "stream",
     "text": [
      "2021-05-07 18:48:17,355 : Heading Extraction Adakveo-4874 EN PI_ANNEX III.json : Match Passed | H | CAP |  en | 2 | Adakveo-4874 EN PI_ANNEX III.json | Doc txt :- '15.     INSTRUCTIONS ON USE' | Qrd txt :- '15. INSTRUCTIONS ON USE' | Matched :- 'True'\n",
      "2021-05-07 18:48:17,369 : Heading Extraction Adakveo-4874 EN PI_ANNEX III.json : Validation Passed | H | CAP |  en | 2 | Adakveo-4874 EN PI_ANNEX III.json | currHeadId :- '22017' | currParentHeadId :- '22002.0' | prevParentHeadId :- '22016'\n",
      "2021-05-07 18:48:17,521 : Heading Extraction Adakveo-4874 EN PI_ANNEX III.json : Match Passed | H | CAP |  en | 2 | Adakveo-4874 EN PI_ANNEX III.json | Doc txt :- '16.     INFORMATION IN BRAILLE' | Qrd txt :- '16. INFORMATION IN BRAILLE' | Matched :- 'True'\n",
      "2021-05-07 18:48:17,536 : Heading Extraction Adakveo-4874 EN PI_ANNEX III.json : Validation Passed | H | CAP |  en | 2 | Adakveo-4874 EN PI_ANNEX III.json | currHeadId :- '22018' | currParentHeadId :- '22002.0' | prevParentHeadId :- '22017'\n"
     ]
    },
    {
     "name": "stdout",
     "output_type": "stream",
     "text": [
      "15.     INSTRUCTIONS ON USE  |===|  15. INSTRUCTIONS ON USE\n",
      "True  ||    ||  15.     INSTRUCTIONS ON USE  ||  15. INSTRUCTIONS ON USE\n",
      "16.     INFORMATION IN BRAILLE  |===|  16. INFORMATION IN BRAILLE\n",
      "True  ||    ||  16.     INFORMATION IN BRAILLE  ||  16. INFORMATION IN BRAILLE\n"
     ]
    },
    {
     "name": "stderr",
     "output_type": "stream",
     "text": [
      "2021-05-07 18:48:17,874 : Heading Extraction Adakveo-4874 EN PI_ANNEX III.json : Match Passed | H | CAP |  en | 2 | Adakveo-4874 EN PI_ANNEX III.json | Doc txt :- '17.     UNIQUE IDENTIFIER – 2D BARCODE' | Qrd txt :- '17. UNIQUE IDENTIFIER – 2D BARCODE' | Matched :- 'True'\n",
      "2021-05-07 18:48:17,888 : Heading Extraction Adakveo-4874 EN PI_ANNEX III.json : Validation Passed | H | CAP |  en | 2 | Adakveo-4874 EN PI_ANNEX III.json | currHeadId :- '22019' | currParentHeadId :- '22002.0' | prevParentHeadId :- '22018'\n"
     ]
    },
    {
     "name": "stdout",
     "output_type": "stream",
     "text": [
      "17.     UNIQUE IDENTIFIER – 2D BARCODE  |===|  17. UNIQUE IDENTIFIER – 2D BARCODE\n",
      "True  ||    ||  17.     UNIQUE IDENTIFIER – 2D BARCODE  ||  17. UNIQUE IDENTIFIER – 2D BARCODE\n",
      "\n",
      "OriginalCheck\n",
      "('<=7|93.62|(7, 9, 90)|0.38|', '2D barcode carrying the unique\\r identifier included.', '17. UNIQUE IDENTIFIER – 2D BARCODE')\n",
      "\n"
     ]
    },
    {
     "name": "stderr",
     "output_type": "stream",
     "text": [
      " identifier included.' | Qrd txt :- '17. UNIQUE IDENTIFIER – 2D BARCODE' | Matched :- 'False' In Lowercase | H | CAP |  en | 2 | Adakveo-4874 EN PI_ANNEX III.json | Doc txt :- '2D barcode carrying the unique\n",
      " READABLE DATA' | Qrd txt :- '18. UNIQUE IDENTIFIER - HUMAN READABLE DATA' | Matched :- 'True'| H | CAP |  en | 2 | Adakveo-4874 EN PI_ANNEX III.json | Doc txt :- '18.     UNIQUE IDENTIFIER - HUMAN\n",
      "2021-05-07 18:48:18,425 : Heading Extraction Adakveo-4874 EN PI_ANNEX III.json : Validation Passed | H | CAP |  en | 2 | Adakveo-4874 EN PI_ANNEX III.json | currHeadId :- '22020' | currParentHeadId :- '22002.0' | prevParentHeadId :- '22019'\n"
     ]
    },
    {
     "name": "stdout",
     "output_type": "stream",
     "text": [
      "18.     UNIQUE IDENTIFIER - HUMAN\r",
      " READABLE DATA  |===|  18. UNIQUE IDENTIFIER - HUMAN READABLE DATA\n",
      "True  ||    ||  18.     UNIQUE IDENTIFIER - HUMAN\r",
      " READABLE DATA  ||  18. UNIQUE IDENTIFIER - HUMAN READABLE DATA\n"
     ]
    },
    {
     "name": "stderr",
     "output_type": "stream",
     "text": [
      "2021-05-07 18:48:18,785 : Heading Extraction Adakveo-4874 EN PI_ANNEX III.json : Match Passed | H | CAP |  en | 2 | Adakveo-4874 EN PI_ANNEX III.json | Doc txt :- 'MINIMUM PARTICULARS TO APPEAR ON SMALL IMMEDIATE PACKAGING UNITS' | Qrd txt :- 'MINIMUM PARTICULARS TO APPEAR ON SMALL IMMEDIATE PACKAGING UNITS' | Matched :- 'True'\n",
      "2021-05-07 18:48:18,805 : Heading Extraction Adakveo-4874 EN PI_ANNEX III.json : Validation Flow Is Broken | H | CAP |  en | 2 | Adakveo-4874 EN PI_ANNEX III.json | currHeadId :- '22027' | currParentHeadId :- '22001.0' | prevParentHeadId :- '22020'\n",
      "2021-05-07 18:48:18,818 : Heading Extraction Adakveo-4874 EN PI_ANNEX III.json : Validation Passed | H | CAP |  en | 2 | Adakveo-4874 EN PI_ANNEX III.json | currHeadId :- '22027' | currParentHeadId :- '22001.0' | prevParentHeadId :- '22020'\n"
     ]
    },
    {
     "name": "stdout",
     "output_type": "stream",
     "text": [
      "MINIMUM PARTICULARS TO APPEAR ON SMALL IMMEDIATE PACKAGING UNITS  |===|  MINIMUM PARTICULARS TO APPEAR ON SMALL IMMEDIATE PACKAGING UNITS\n",
      "True  ||    ||  MINIMUM PARTICULARS TO APPEAR ON SMALL IMMEDIATE PACKAGING UNITS  ||  MINIMUM PARTICULARS TO APPEAR ON SMALL IMMEDIATE PACKAGING UNITS\n"
     ]
    },
    {
     "name": "stderr",
     "output_type": "stream",
     "text": [
      " ADMINISTRATION' | Qrd txt :- '1. NAME OF THE MEDICINAL PRODUCT AND ROUTE(S) OF ADMINISTRATION' | Matched :- 'True' Adakveo-4874 EN PI_ANNEX III.json | Doc txt :- '1.       NAME OF THE MEDICINAL PRODUCT AND ROUTE(S) OF\n",
      "2021-05-07 18:48:19,441 : Heading Extraction Adakveo-4874 EN PI_ANNEX III.json : Validation Passed | H | CAP |  en | 2 | Adakveo-4874 EN PI_ANNEX III.json | currHeadId :- '22028' | currParentHeadId :- '22027.0' | prevParentHeadId :- '22027'\n"
     ]
    },
    {
     "name": "stdout",
     "output_type": "stream",
     "text": [
      "1.       NAME OF THE MEDICINAL PRODUCT AND ROUTE(S) OF\r",
      " ADMINISTRATION  |===|  1. NAME OF THE MEDICINAL PRODUCT AND ROUTE(S) OF ADMINISTRATION\n",
      "True  ||    ||  1.       NAME OF THE MEDICINAL PRODUCT AND ROUTE(S) OF\r",
      " ADMINISTRATION  ||  1. NAME OF THE MEDICINAL PRODUCT AND ROUTE(S) OF ADMINISTRATION\n"
     ]
    },
    {
     "name": "stderr",
     "output_type": "stream",
     "text": [
      "2021-05-07 18:48:20,089 : Heading Extraction Adakveo-4874 EN PI_ANNEX III.json : Match Failed In Lowercase | H | CAP |  en | 2 | Adakveo-4874 EN PI_ANNEX III.json | Doc txt :- '2.       METHOD OF ADMINISTRATION' | Qrd txt :- '5. METHOD AND ROUTE(S) OF ADMINISTRATION' | Matched :- 'False'\n"
     ]
    },
    {
     "name": "stdout",
     "output_type": "stream",
     "text": [
      "\n",
      "OriginalCheck\n",
      "('<=7|51.85|(78, 74, 91)|0.85|', '2.       METHOD OF ADMINISTRATION', '5. METHOD AND ROUTE(S) OF ADMINISTRATION')\n",
      "\n"
     ]
    },
    {
     "name": "stderr",
     "output_type": "stream",
     "text": [
      "2021-05-07 18:48:20,326 : Heading Extraction Adakveo-4874 EN PI_ANNEX III.json : Match Passed | H | CAP |  en | 2 | Adakveo-4874 EN PI_ANNEX III.json | Doc txt :- '2.       METHOD OF ADMINISTRATION' | Qrd txt :- '2. METHOD OF ADMINISTRATION' | Matched :- 'True'\n",
      "2021-05-07 18:48:20,357 : Heading Extraction Adakveo-4874 EN PI_ANNEX III.json : Validation Passed | H | CAP |  en | 2 | Adakveo-4874 EN PI_ANNEX III.json | currHeadId :- '22029' | currParentHeadId :- '22027.0' | prevParentHeadId :- '22028'\n",
      "2021-05-07 18:48:20,465 : Heading Extraction Adakveo-4874 EN PI_ANNEX III.json : Match Passed | H | CAP |  en | 2 | Adakveo-4874 EN PI_ANNEX III.json | Doc txt :- '3.       EXPIRY DATE' | Qrd txt :- '8. EXPIRY DATE' | Matched :- 'True'\n",
      "2021-05-07 18:48:20,487 : Heading Extraction Adakveo-4874 EN PI_ANNEX III.json : Validation Failed As Previous Heading Found is not matching | H | CAP |  en | 2 | Adakveo-4874 EN PI_ANNEX III.json | currHeadId :- '22010' | currParentHeadId :- '22002.0' | prevParentHeadId :- '22029'\n"
     ]
    },
    {
     "name": "stdout",
     "output_type": "stream",
     "text": [
      "2.       METHOD OF ADMINISTRATION  |===|  2. METHOD OF ADMINISTRATION\n",
      "True  ||    ||  2.       METHOD OF ADMINISTRATION  ||  2. METHOD OF ADMINISTRATION\n",
      "3.       EXPIRY DATE  |===|  8. EXPIRY DATE\n"
     ]
    },
    {
     "name": "stderr",
     "output_type": "stream",
     "text": [
      "2021-05-07 18:48:20,603 : Heading Extraction Adakveo-4874 EN PI_ANNEX III.json : Match Passed | H | CAP |  en | 2 | Adakveo-4874 EN PI_ANNEX III.json | Doc txt :- '3.       EXPIRY DATE' | Qrd txt :- '3. EXPIRY DATE' | Matched :- 'True'\n",
      "2021-05-07 18:48:20,624 : Heading Extraction Adakveo-4874 EN PI_ANNEX III.json : Validation Failed As Wrong Heading Found | H | CAP |  en | 2 | Adakveo-4874 EN PI_ANNEX III.json | currHeadId :- '22024' | currParentHeadId :- '22021.0' | prevParentHeadId :- '22029'\n",
      "2021-05-07 18:48:20,661 : Heading Extraction Adakveo-4874 EN PI_ANNEX III.json : Match Passed | H | CAP |  en | 2 | Adakveo-4874 EN PI_ANNEX III.json | Doc txt :- '3.       EXPIRY DATE' | Qrd txt :- '3. EXPIRY DATE' | Matched :- 'True'\n",
      "2021-05-07 18:48:20,677 : Heading Extraction Adakveo-4874 EN PI_ANNEX III.json : Validation Passed | H | CAP |  en | 2 | Adakveo-4874 EN PI_ANNEX III.json | currHeadId :- '22030' | currParentHeadId :- '22027.0' | prevParentHeadId :- '22029'\n"
     ]
    },
    {
     "name": "stdout",
     "output_type": "stream",
     "text": [
      "3.       EXPIRY DATE  |===|  3. EXPIRY DATE\n",
      "3.       EXPIRY DATE  |===|  3. EXPIRY DATE\n",
      "True  ||    ||  3.       EXPIRY DATE  ||  3. EXPIRY DATE\n"
     ]
    },
    {
     "name": "stderr",
     "output_type": "stream",
     "text": [
      "2021-05-07 18:48:20,812 : Heading Extraction Adakveo-4874 EN PI_ANNEX III.json : Match Passed | H | CAP |  en | 2 | Adakveo-4874 EN PI_ANNEX III.json | Doc txt :- '4.       BATCH NUMBER' | Qrd txt :- '13. BATCH NUMBER<, DONATION AND PRODUCT CODES>' | Matched :- 'True'\n",
      "2021-05-07 18:48:20,833 : Heading Extraction Adakveo-4874 EN PI_ANNEX III.json : Validation Failed As Previous Heading Found is not matching | H | CAP |  en | 2 | Adakveo-4874 EN PI_ANNEX III.json | currHeadId :- '22015' | currParentHeadId :- '22002.0' | prevParentHeadId :- '22030'\n",
      "2021-05-07 18:48:20,915 : Heading Extraction Adakveo-4874 EN PI_ANNEX III.json : Match Passed | H | CAP |  en | 2 | Adakveo-4874 EN PI_ANNEX III.json | Doc txt :- '4.       BATCH NUMBER' | Qrd txt :- '4. BATCH NUMBER<, DONATION AND PRODUCT CODES>' | Matched :- 'True'\n",
      "2021-05-07 18:48:20,934 : Heading Extraction Adakveo-4874 EN PI_ANNEX III.json : Validation Failed As Wrong Heading Found | H | CAP |  en | 2 | Adakveo-4874 EN PI_ANNEX III.json | currHeadId :- '22025' | currParentHeadId :- '22021.0' | prevParentHeadId :- '22030'\n",
      "2021-05-07 18:48:20,976 : Heading Extraction Adakveo-4874 EN PI_ANNEX III.json : Match Passed | H | CAP |  en | 2 | Adakveo-4874 EN PI_ANNEX III.json | Doc txt :- '4.       BATCH NUMBER' | Qrd txt :- '4. BATCH NUMBER<, DONATION AND PRODUCT CODES>' | Matched :- 'True'\n",
      "2021-05-07 18:48:21,000 : Heading Extraction Adakveo-4874 EN PI_ANNEX III.json : Validation Passed | H | CAP |  en | 2 | Adakveo-4874 EN PI_ANNEX III.json | currHeadId :- '22031' | currParentHeadId :- '22027.0' | prevParentHeadId :- '22030'\n"
     ]
    },
    {
     "name": "stdout",
     "output_type": "stream",
     "text": [
      "4.       BATCH NUMBER  |===|  13. BATCH NUMBER<, DONATION AND PRODUCT CODES>\n",
      "4.       BATCH NUMBER  |===|  4. BATCH NUMBER<, DONATION AND PRODUCT CODES>\n",
      "4.       BATCH NUMBER  |===|  4. BATCH NUMBER<, DONATION AND PRODUCT CODES>\n",
      "True  ||  Contains<>|173.33|(54, 100, 90)|0.87|  ||  4.       BATCH NUMBER  ||  4. BATCH NUMBER<, DONATION AND PRODUCT CODES>\n"
     ]
    },
    {
     "name": "stderr",
     "output_type": "stream",
     "text": [
      "2021-05-07 18:48:21,320 : Heading Extraction Adakveo-4874 EN PI_ANNEX III.json : Match Passed | H | CAP |  en | 2 | Adakveo-4874 EN PI_ANNEX III.json | Doc txt :- '5.       CONTENTS BY WEIGHT, BY VOLUME OR BY UNIT' | Qrd txt :- '5. CONTENTS BY WEIGHT, BY VOLUME OR BY UNIT' | Matched :- 'True'\n",
      "2021-05-07 18:48:21,338 : Heading Extraction Adakveo-4874 EN PI_ANNEX III.json : Validation Passed | H | CAP |  en | 2 | Adakveo-4874 EN PI_ANNEX III.json | currHeadId :- '22032' | currParentHeadId :- '22027.0' | prevParentHeadId :- '22031'\n"
     ]
    },
    {
     "name": "stdout",
     "output_type": "stream",
     "text": [
      "5.       CONTENTS BY WEIGHT, BY VOLUME OR BY UNIT  |===|  5. CONTENTS BY WEIGHT, BY VOLUME OR BY UNIT\n",
      "True  ||    ||  5.       CONTENTS BY WEIGHT, BY VOLUME OR BY UNIT  ||  5. CONTENTS BY WEIGHT, BY VOLUME OR BY UNIT\n"
     ]
    },
    {
     "name": "stderr",
     "output_type": "stream",
     "text": [
      "2021-05-07 18:48:21,599 : Heading Extraction Adakveo-4874 EN PI_ANNEX III.json : Match Failed | H | CAP |  en | 2 | Adakveo-4874 EN PI_ANNEX III.json | Doc txt :- '6.       OTHER' | Qrd txt :- '5. OTHER' | Matched :- 'False'\n",
      "2021-05-07 18:48:21,624 : Heading Extraction Adakveo-4874 EN PI_ANNEX III.json : Match Passed | H | CAP |  en | 2 | Adakveo-4874 EN PI_ANNEX III.json | Doc txt :- '6.       OTHER' | Qrd txt :- '6. OTHER' | Matched :- 'True'\n",
      "2021-05-07 18:48:21,639 : Heading Extraction Adakveo-4874 EN PI_ANNEX III.json : Validation Passed | H | CAP |  en | 2 | Adakveo-4874 EN PI_ANNEX III.json | currHeadId :- '22033' | currParentHeadId :- '22027.0' | prevParentHeadId :- '22032'\n",
      "2021-05-07 18:48:21,653 : Flow Logger HTML_K : Completed Heading Extraction For File | H | CAP |  en | HTML | Adakveo-4874 EN PI.html\n",
      "2021-05-07 18:48:21,655 : Flow Logger HTML_K : Starting Document Annotation For File | H | CAP |  en | HTML | Adakveo-4874 EN PI.html\n",
      "2021-05-07 18:48:21,664 : Flow Logger HTML_K : Completed Document Annotation | H | CAP |  en | HTML | Adakveo-4874 EN PI.html\n",
      "2021-05-07 18:48:21,667 : Flow Logger HTML_K : Starting Extracting Content Between Heading | H | CAP |  en | HTML | Adakveo-4874 EN PI.html\n",
      "2021-05-07 18:48:21,672 : ExtractContentBetween_2 : Cleaning Match Results | H | CAP |  en | 2 | Adakveo-4874 EN PI_ANNEX III.json\n",
      "2021-05-07 18:48:21,681 : ExtractContentBetween_2 : Finished Cleaning Match Results | H | CAP |  en | 2 | Adakveo-4874 EN PI_ANNEX III.json\n",
      "2021-05-07 18:48:21,780 : Flow Logger HTML_K : Completed Extracting Content Between Heading | H | CAP |  en | HTML | Adakveo-4874 EN PI.html\n",
      "2021-05-07 18:48:21,799 : XmlGeneration_2 : PMS/OMS Annotation Information Not Retrieved | H | CAP |  en | 2 | Adakveo-4874 EN PI_ANNEX III.json\n",
      "2021-05-07 18:48:21,801 : XmlGeneration_2 : Initiating XML Generation | H | CAP |  en | 2 | Adakveo-4874 EN PI_ANNEX III.json\n"
     ]
    },
    {
     "name": "stdout",
     "output_type": "stream",
     "text": [
      "6.       OTHER  |===|  6. OTHER\n",
      "True  ||    ||  6.       OTHER  ||  6. OTHER\n",
      "\n",
      "\n",
      "Heading Not Found \n",
      " ['MINIMUM PARTICULARS TO APPEAR ON BLISTERS OR STRIPS', 'NAME OF THE MARKETING AUTHORISATION HOLDER']\n",
      "\n",
      "\n",
      "dict_keys([])\n",
      "Completed Heading Extraction For File\n",
      "Starting Document Annotation For File :- Adakveo-4874 EN PI_ANNEX III.json\n",
      "Error Found\n",
      "Completed Document Annotation\n",
      "Starting Extracting Content Between Heading For File :- Adakveo-4874 EN PI_ANNEX III.json\n",
      "File being processed: F:\\Projects\\EMA\\Repository\\EMA EPI PoC\\function_code\\data\\partitionedJSONs\\H\\CAP\\en\\Adakveo-4874 EN PI_ANNEX III.json\n",
      "--------------------------------------------\n",
      "Completed Extracting Content Between Heading\n",
      "Already Exists\n"
     ]
    },
    {
     "name": "stderr",
     "output_type": "stream",
     "text": [
      "2021-05-07 18:48:21,868 : XmlGeneration_2 : Writing to File:Adakveo-4874 EN PI_ANNEX III.xml | H | CAP |  en | 2 | Adakveo-4874 EN PI_ANNEX III.json\n",
      "2021-05-07 18:48:23,508 : XML Submission Logger_2 : Initiating Submission To FHIR Server | H | CAP |  en | 2 | Adakveo-4874 EN PI_ANNEX III.json\n",
      "2021-05-07 18:48:23,510 : XML Submission Logger_2 : POST sucessful: XML added with id: d6d8d923-0381-465f-ac89-59f2044bd821 | H | CAP |  en | 2 | Adakveo-4874 EN PI_ANNEX III.json\n",
      "2021-05-07 18:48:23,512 : Flow Logger HTML_K : \n",
      "\n",
      "\n",
      "\n",
      "||||||||||||||||||||||||||||||||3 ||||| Adakveo-4874 EN PI_ PACKAGE LEAFLET.json||||||||||||||||||||||||||||||||\n",
      "\n",
      "\n",
      "\n",
      " | H | CAP |  en | HTML | Adakveo-4874 EN PI.html\n",
      "2021-05-07 18:48:23,518 : Heading Extraction Adakveo-4874 EN PI_ PACKAGE LEAFLET.json : Starting Heading Extraction | H | CAP |  en | 3 | Adakveo-4874 EN PI_ PACKAGE LEAFLET.json\n",
      "2021-05-07 18:48:23,630 : Heading Extraction Adakveo-4874 EN PI_ PACKAGE LEAFLET.json : Started Extracting Heading | H | CAP |  en | 3 | Adakveo-4874 EN PI_ PACKAGE LEAFLET.json\n",
      "2021-05-07 18:48:23,646 : Heading Extraction Adakveo-4874 EN PI_ PACKAGE LEAFLET.json : Match Passed | H | CAP |  en | 3 | Adakveo-4874 EN PI_ PACKAGE LEAFLET.json | Doc txt :- 'B. PACKAGE LEAFLET' | Qrd txt :- 'PACKAGE LEAFLET' | Matched :- 'True'\n",
      "2021-05-07 18:48:23,653 : Heading Extraction Adakveo-4874 EN PI_ PACKAGE LEAFLET.json : Validation Passed As This The First Heading | H | CAP |  en | 3 | Adakveo-4874 EN PI_ PACKAGE LEAFLET.json | currHeadId :- '23001' | currParentHeadId :- 'nan' | prevParentHeadId :- ''\n",
      "2021-05-07 18:48:23,664 : Heading Extraction Adakveo-4874 EN PI_ PACKAGE LEAFLET.json : Match Failed In Lowercase | H | CAP |  en | 3 | Adakveo-4874 EN PI_ PACKAGE LEAFLET.json | Doc txt :- 'Package leaflet: Information for the patient' | Qrd txt :- 'PACKAGE LEAFLET' | Matched :- 'False'\n"
     ]
    },
    {
     "name": "stdout",
     "output_type": "stream",
     "text": [
      "POST sucessful: XML added with id d6d8d923-0381-465f-ac89-59f2044bd821\n",
      "Created XML File For :- Adakveo-4874 EN PI_ANNEX III.json\n",
      "Starting Heading Extraction For File :- Adakveo-4874 EN PI_ PACKAGE LEAFLET.json\n",
      "File being processed: F:\\Projects\\EMA\\Repository\\EMA EPI PoC\\function_code\\data\\partitionedJSONs\\H\\CAP\\en\\Adakveo-4874 EN PI_ PACKAGE LEAFLET.json\n",
      "--------------------------------------------\n",
      "Package leaflet\n",
      "B. PACKAGE LEAFLET  |===|  PACKAGE LEAFLET\n",
      "True  ||  <=4|16.67|(91, 100, 95)|0.91|  ||  B. PACKAGE LEAFLET  ||  PACKAGE LEAFLET\n",
      "\n",
      "OriginalCheck\n",
      "('<=4|95.45|(7, 13, 90)|0.39|', 'Package leaflet: Information for the patient', 'PACKAGE LEAFLET')\n",
      "\n"
     ]
    },
    {
     "name": "stderr",
     "output_type": "stream",
     "text": [
      "2021-05-07 18:48:23,768 : Heading Extraction Adakveo-4874 EN PI_ PACKAGE LEAFLET.json : Match Failed | H | CAP |  en | 3 | Adakveo-4874 EN PI_ PACKAGE LEAFLET.json | Doc txt :- 'Package leaflet: Information for the patient' | Qrd txt :- 'Pregnancy <and> <,> breast-feeding <and fertility>' | Matched :- 'False'\n",
      "2021-05-07 18:48:23,994 : Heading Extraction Adakveo-4874 EN PI_ PACKAGE LEAFLET.json : Match Failed | H | CAP |  en | 3 | Adakveo-4874 EN PI_ PACKAGE LEAFLET.json | Doc txt :- 'Package leaflet: Information for the patient' | Qrd txt :- 'This leaflet was last revised in <{MM/YYYY}><{month YYYY}>.' | Matched :- 'False'\n",
      "2021-05-07 18:48:24,155 : Heading Extraction Adakveo-4874 EN PI_ PACKAGE LEAFLET.json : Match Failed | H | CAP |  en | 3 | Adakveo-4874 EN PI_ PACKAGE LEAFLET.json | Doc txt :- 'Adakveo 10 mg/ml concentrate for solution for infusion' | Qrd txt :- 'Pregnancy <and> <,> breast-feeding <and fertility>' | Matched :- 'False'\n",
      "2021-05-07 18:48:24,359 : Heading Extraction Adakveo-4874 EN PI_ PACKAGE LEAFLET.json : Match Failed | H | CAP |  en | 3 | Adakveo-4874 EN PI_ PACKAGE LEAFLET.json | Doc txt :- 'Adakveo 10 mg/ml concentrate for solution for infusion' | Qrd txt :- 'This leaflet was last revised in <{MM/YYYY}><{month YYYY}>.' | Matched :- 'False'\n",
      "2021-05-07 18:48:24,414 : Heading Extraction Adakveo-4874 EN PI_ PACKAGE LEAFLET.json : Match Failed | H | CAP |  en | 3 | Adakveo-4874 EN PI_ PACKAGE LEAFLET.json | Doc txt :- 'crizanlizumab' | Qrd txt :- 'Pregnancy <and> <,> breast-feeding <and fertility>' | Matched :- 'False'\n",
      "2021-05-07 18:48:24,472 : Heading Extraction Adakveo-4874 EN PI_ PACKAGE LEAFLET.json : Match Failed | H | CAP |  en | 3 | Adakveo-4874 EN PI_ PACKAGE LEAFLET.json | Doc txt :- 'crizanlizumab' | Qrd txt :- 'This leaflet was last revised in <{MM/YYYY}><{month YYYY}>.' | Matched :- 'False'\n",
      " section 4 for how to report side effects.' | Qrd txt :- 'q This medicine is subject to additional monitoring. This will allow quick identification of new safety information. You can help by reporting any side effects you may get. See the end of section 4 for how to report side effects.' | Matched :- 'True'\n",
      "2021-05-07 18:48:24,506 : Heading Extraction Adakveo-4874 EN PI_ PACKAGE LEAFLET.json : Validation Passed | H | CAP |  en | 3 | Adakveo-4874 EN PI_ PACKAGE LEAFLET.json | currHeadId :- '23002' | currParentHeadId :- '23001.0' | prevParentHeadId :- '23001'\n",
      "2021-05-07 18:48:24,513 : Heading Extraction Adakveo-4874 EN PI_ PACKAGE LEAFLET.json : Validation Failed By Style | H | CAP |  en | 3 | Adakveo-4874 EN PI_ PACKAGE LEAFLET.json | currHeadId :- '23002' | currParentHeadId :- '23001.0' | prevParentHeadId :- '23001'\n"
     ]
    },
    {
     "name": "stdout",
     "output_type": "stream",
     "text": [
      "This medicine is subject to additional\r",
      " monitoring. This will allow quick identification of new safety information. You\r",
      " can help by reporting any side effects you may get. See the end of\r",
      " section 4 for how to report side effects.  |===|  q This medicine is subject to additional monitoring. This will allow quick identification of new safety information. You can help by reporting any side effects you may get. See the end of section 4 for how to report side effects.\n",
      "----------------------------------\n",
      "RemovedByStyle  ||    ||  This medicine is subject to additional\r",
      " monitoring. This will allow quick identification of new safety information. You\r",
      " can help by reporting any side effects you may get. See the end of\r",
      " section 4 for how to report side effects.  ||  q This medicine is subject to additional monitoring. This will allow quick identification of new safety information. You can help by reporting any side effects you may get. See the end of section 4 for how to report side effects.\n",
      "----------------------------------\n"
     ]
    },
    {
     "name": "stderr",
     "output_type": "stream",
     "text": [
      " section 4 for how to report side effects.' | Qrd txt :- 'Pregnancy <and> <,> breast-feeding <and fertility>' | Matched :- 'False'-4874 EN PI_ PACKAGE LEAFLET.json | Doc txt :- 'This medicine is subject to additional\n",
      " section 4 for how to report side effects.' | Qrd txt :- 'This leaflet was last revised in <{MM/YYYY}><{month YYYY}>.' | Matched :- 'False'PI_ PACKAGE LEAFLET.json | Doc txt :- 'This medicine is subject to additional\n",
      " important information for you.' | Qrd txt :- 'Pregnancy <and> <,> breast-feeding <and fertility>' | Matched :- 'False'3 | Adakveo-4874 EN PI_ PACKAGE LEAFLET.json | Doc txt :- 'Read all of\n",
      " important information for you.' | Qrd txt :- 'This leaflet was last revised in <{MM/YYYY}><{month YYYY}>.' | Matched :- 'False'eo-4874 EN PI_ PACKAGE LEAFLET.json | Doc txt :- 'Read all of\n",
      " again.' | Qrd txt :- 'Pregnancy <and> <,> breast-feeding <and fertility>' | Matched :- 'False'ailed | H | CAP |  en | 3 | Adakveo-4874 EN PI_ PACKAGE LEAFLET.json | Doc txt :- '-Keep this leaflet. You may need to read it\n",
      " again.' | Qrd txt :- 'This leaflet was last revised in <{MM/YYYY}><{month YYYY}>.' | Matched :- 'False' | CAP |  en | 3 | Adakveo-4874 EN PI_ PACKAGE LEAFLET.json | Doc txt :- '-Keep this leaflet. You may need to read it\n",
      " or nurse.' | Qrd txt :- 'Pregnancy <and> <,> breast-feeding <and fertility>' | Matched :- 'False'ed | H | CAP |  en | 3 | Adakveo-4874 EN PI_ PACKAGE LEAFLET.json | Doc txt :- '-If you have any further questions, ask your doctor\n",
      " or nurse.' | Qrd txt :- 'If you <take> <use> more Aerius than you should' | Matched :- 'False'ailed | H | CAP |  en | 3 | Adakveo-4874 EN PI_ PACKAGE LEAFLET.json | Doc txt :- '-If you have any further questions, ask your doctor\n",
      " or nurse.' | Qrd txt :- 'This leaflet was last revised in <{MM/YYYY}><{month YYYY}>.' | Matched :- 'False'CAP |  en | 3 | Adakveo-4874 EN PI_ PACKAGE LEAFLET.json | Doc txt :- '-If you have any further questions, ask your doctor\n",
      " listed in this leaflet. See section 4.' | Qrd txt :- 'Pregnancy <and> <,> breast-feeding <and fertility>' | Matched :- 'False'veo-4874 EN PI_ PACKAGE LEAFLET.json | Doc txt :- '-If you get any side effects, talk to your doctor\n",
      " listed in this leaflet. See section 4.' | Qrd txt :- 'This leaflet was last revised in <{MM/YYYY}><{month YYYY}>.' | Matched :- 'False'EN PI_ PACKAGE LEAFLET.json | Doc txt :- '-If you get any side effects, talk to your doctor\n",
      "2021-05-07 18:48:28,066 : Heading Extraction Adakveo-4874 EN PI_ PACKAGE LEAFLET.json : Match Passed | H | CAP |  en | 3 | Adakveo-4874 EN PI_ PACKAGE LEAFLET.json | Doc txt :- 'What is in this leaflet' | Qrd txt :- 'What is in this leaflet' | Matched :- 'True'\n",
      "2021-05-07 18:48:28,079 : Heading Extraction Adakveo-4874 EN PI_ PACKAGE LEAFLET.json : Validation Flow Is Broken | H | CAP |  en | 3 | Adakveo-4874 EN PI_ PACKAGE LEAFLET.json | currHeadId :- '23003' | currParentHeadId :- '23001.0' | prevParentHeadId :- '23001'\n",
      "2021-05-07 18:48:28,085 : Heading Extraction Adakveo-4874 EN PI_ PACKAGE LEAFLET.json : Validation Passed | H | CAP |  en | 3 | Adakveo-4874 EN PI_ PACKAGE LEAFLET.json | currHeadId :- '23003' | currParentHeadId :- '23001.0' | prevParentHeadId :- '23001'\n",
      " is and what it is used for' | Qrd txt :- '1. What Aerius is and what it is used for' | Matched :- 'False' CAP |  en | 3 | Adakveo-4874 EN PI_ PACKAGE LEAFLET.json | Doc txt :- '1.       What Adakveo\n",
      " is and what it is used for' | Qrd txt :- 'Pregnancy <and> <,> breast-feeding <and fertility>' | Matched :- 'False'n | 3 | Adakveo-4874 EN PI_ PACKAGE LEAFLET.json | Doc txt :- '1.       What Adakveo\n"
     ]
    },
    {
     "name": "stdout",
     "output_type": "stream",
     "text": [
      "What is in this leaflet  |===|  What is in this leaflet\n",
      "True  ||    ||  What is in this leaflet  ||  What is in this leaflet\n"
     ]
    },
    {
     "name": "stderr",
     "output_type": "stream",
     "text": [
      " is and what it is used for' | Qrd txt :- 'This leaflet was last revised in <{MM/YYYY}><{month YYYY}>.' | Matched :- 'False'dakveo-4874 EN PI_ PACKAGE LEAFLET.json | Doc txt :- '1.       What Adakveo\n",
      " you need to know before you are given Adakveo' | Qrd txt :- '2. What you need to know before you <take> <use> Aerius ' | Matched :- 'True'PI_ PACKAGE LEAFLET.json | Doc txt :- '2.       What\n",
      "2021-05-07 18:48:28,492 : Heading Extraction Adakveo-4874 EN PI_ PACKAGE LEAFLET.json : Validation Flow Is Broken | H | CAP |  en | 3 | Adakveo-4874 EN PI_ PACKAGE LEAFLET.json | currHeadId :- '23005' | currParentHeadId :- '23001.0' | prevParentHeadId :- '23003'\n",
      "2021-05-07 18:48:28,500 : Heading Extraction Adakveo-4874 EN PI_ PACKAGE LEAFLET.json : Validation Passed | H | CAP |  en | 3 | Adakveo-4874 EN PI_ PACKAGE LEAFLET.json | currHeadId :- '23005' | currParentHeadId :- '23001.0' | prevParentHeadId :- '23003'\n",
      "2021-05-07 18:48:28,511 : Heading Extraction Adakveo-4874 EN PI_ PACKAGE LEAFLET.json : Validation Failed By Style | H | CAP |  en | 3 | Adakveo-4874 EN PI_ PACKAGE LEAFLET.json | currHeadId :- '23005' | currParentHeadId :- '23001.0' | prevParentHeadId :- '23003'\n",
      " you need to know before you are given Adakveo' | Qrd txt :- 'Pregnancy <and> <,> breast-feeding <and fertility>' | Matched :- 'False'4 EN PI_ PACKAGE LEAFLET.json | Doc txt :- '2.       What\n"
     ]
    },
    {
     "name": "stdout",
     "output_type": "stream",
     "text": [
      "2.       What\r",
      " you need to know before you are given Adakveo  |===|  2. What you need to know before you <take> <use> Aerius \n",
      "----------------------------------\n",
      "RemovedByStyle  ||  Contains<>|26.42|(80, 81, 80)|0.96|  ||  2.       What\r",
      " you need to know before you are given Adakveo  ||  2. What you need to know before you <take> <use> Aerius \n",
      "----------------------------------\n"
     ]
    },
    {
     "name": "stderr",
     "output_type": "stream",
     "text": [
      " you need to know before you are given Adakveo' | Qrd txt :- 'This leaflet was last revised in <{MM/YYYY}><{month YYYY}>.' | Matched :- 'False'PACKAGE LEAFLET.json | Doc txt :- '2.       What\n",
      " is given' | Qrd txt :- 'Pregnancy <and> <,> breast-feeding <and fertility>' | Matched :- 'False'led | H | CAP |  en | 3 | Adakveo-4874 EN PI_ PACKAGE LEAFLET.json | Doc txt :- '3.       How Adakveo\n",
      " is given' | Qrd txt :- 'This leaflet was last revised in <{MM/YYYY}><{month YYYY}>.' | Matched :- 'False' CAP |  en | 3 | Adakveo-4874 EN PI_ PACKAGE LEAFLET.json | Doc txt :- '3.       How Adakveo\n",
      " side effects' | Qrd txt :- 'Pregnancy <and> <,> breast-feeding <and fertility>' | Matched :- 'False'| H | CAP |  en | 3 | Adakveo-4874 EN PI_ PACKAGE LEAFLET.json | Doc txt :- '4.       Possible\n",
      " side effects' | Qrd txt :- '4. Possible side effects' | Matched :- 'True'EAFLET.json : Match Passed | H | CAP |  en | 3 | Adakveo-4874 EN PI_ PACKAGE LEAFLET.json | Doc txt :- '4.       Possible\n",
      "2021-05-07 18:48:29,134 : Heading Extraction Adakveo-4874 EN PI_ PACKAGE LEAFLET.json : Validation Flow Is Broken | H | CAP |  en | 3 | Adakveo-4874 EN PI_ PACKAGE LEAFLET.json | currHeadId :- '23019' | currParentHeadId :- '23001.0' | prevParentHeadId :- '23003'\n",
      "2021-05-07 18:48:29,141 : Heading Extraction Adakveo-4874 EN PI_ PACKAGE LEAFLET.json : Validation Passed | H | CAP |  en | 3 | Adakveo-4874 EN PI_ PACKAGE LEAFLET.json | currHeadId :- '23019' | currParentHeadId :- '23001.0' | prevParentHeadId :- '23003'\n",
      "2021-05-07 18:48:29,152 : Heading Extraction Adakveo-4874 EN PI_ PACKAGE LEAFLET.json : Validation Failed By Style | H | CAP |  en | 3 | Adakveo-4874 EN PI_ PACKAGE LEAFLET.json | currHeadId :- '23019' | currParentHeadId :- '23001.0' | prevParentHeadId :- '23003'\n",
      " side effects' | Qrd txt :- 'This leaflet was last revised in <{MM/YYYY}><{month YYYY}>.' | Matched :- 'False' |  en | 3 | Adakveo-4874 EN PI_ PACKAGE LEAFLET.json | Doc txt :- '4.       Possible\n",
      " store Adakveo' | Qrd txt :- 'Pregnancy <and> <,> breast-feeding <and fertility>' | Matched :- 'False' H | CAP |  en | 3 | Adakveo-4874 EN PI_ PACKAGE LEAFLET.json | Doc txt :- '5.       How to\n",
      " store Adakveo' | Qrd txt :- '3. How to <take> <use> Aerius ' | Matched :- 'False'son : Match Failed | H | CAP |  en | 3 | Adakveo-4874 EN PI_ PACKAGE LEAFLET.json | Doc txt :- '5.       How to\n"
     ]
    },
    {
     "name": "stdout",
     "output_type": "stream",
     "text": [
      "4.       Possible\r",
      " side effects  |===|  4. Possible side effects\n",
      "----------------------------------\n",
      "RemovedByStyle  ||    ||  4.       Possible\r",
      " side effects  ||  4. Possible side effects\n",
      "----------------------------------\n"
     ]
    },
    {
     "name": "stderr",
     "output_type": "stream",
     "text": [
      " store Adakveo' | Qrd txt :- 'This leaflet was last revised in <{MM/YYYY}><{month YYYY}>.' | Matched :- 'False'|  en | 3 | Adakveo-4874 EN PI_ PACKAGE LEAFLET.json | Doc txt :- '5.       How to\n",
      " of the pack and other information' | Qrd txt :- 'Pregnancy <and> <,> breast-feeding <and fertility>' | Matched :- 'False' Adakveo-4874 EN PI_ PACKAGE LEAFLET.json | Doc txt :- '6.       Contents\n",
      " of the pack and other information' | Qrd txt :- '6. Contents of the pack and other information' | Matched :- 'True' | 3 | Adakveo-4874 EN PI_ PACKAGE LEAFLET.json | Doc txt :- '6.       Contents\n",
      "2021-05-07 18:48:29,785 : Heading Extraction Adakveo-4874 EN PI_ PACKAGE LEAFLET.json : Validation Flow Is Broken | H | CAP |  en | 3 | Adakveo-4874 EN PI_ PACKAGE LEAFLET.json | currHeadId :- '23023' | currParentHeadId :- '23001.0' | prevParentHeadId :- '23003'\n",
      "2021-05-07 18:48:29,796 : Heading Extraction Adakveo-4874 EN PI_ PACKAGE LEAFLET.json : Validation Passed | H | CAP |  en | 3 | Adakveo-4874 EN PI_ PACKAGE LEAFLET.json | currHeadId :- '23023' | currParentHeadId :- '23001.0' | prevParentHeadId :- '23003'\n",
      "2021-05-07 18:48:29,809 : Heading Extraction Adakveo-4874 EN PI_ PACKAGE LEAFLET.json : Validation Failed By Style | H | CAP |  en | 3 | Adakveo-4874 EN PI_ PACKAGE LEAFLET.json | currHeadId :- '23023' | currParentHeadId :- '23001.0' | prevParentHeadId :- '23003'\n",
      " of the pack and other information' | Qrd txt :- 'This leaflet was last revised in <{MM/YYYY}><{month YYYY}>.' | Matched :- 'False'4874 EN PI_ PACKAGE LEAFLET.json | Doc txt :- '6.       Contents\n"
     ]
    },
    {
     "name": "stdout",
     "output_type": "stream",
     "text": [
      "6.       Contents\r",
      " of the pack and other information  |===|  6. Contents of the pack and other information\n",
      "----------------------------------\n",
      "RemovedByStyle  ||    ||  6.       Contents\r",
      " of the pack and other information  ||  6. Contents of the pack and other information\n",
      "----------------------------------\n"
     ]
    },
    {
     "name": "stderr",
     "output_type": "stream",
     "text": [
      "2021-05-07 18:48:30,013 : Heading Extraction Adakveo-4874 EN PI_ PACKAGE LEAFLET.json : Match Failed | H | CAP |  en | 3 | Adakveo-4874 EN PI_ PACKAGE LEAFLET.json | Doc txt :- '1.       What Adakveo is and what it is used for' | Qrd txt :- '1. What Aerius is and what it is used for' | Matched :- 'False'\n",
      "2021-05-07 18:48:30,097 : Heading Extraction Adakveo-4874 EN PI_ PACKAGE LEAFLET.json : Match Failed | H | CAP |  en | 3 | Adakveo-4874 EN PI_ PACKAGE LEAFLET.json | Doc txt :- '1.       What Adakveo is and what it is used for' | Qrd txt :- 'Pregnancy <and> <,> breast-feeding <and fertility>' | Matched :- 'False'\n",
      "2021-05-07 18:48:30,271 : Heading Extraction Adakveo-4874 EN PI_ PACKAGE LEAFLET.json : Match Failed | H | CAP |  en | 3 | Adakveo-4874 EN PI_ PACKAGE LEAFLET.json | Doc txt :- '1.       What Adakveo is and what it is used for' | Qrd txt :- 'This leaflet was last revised in <{MM/YYYY}><{month YYYY}>.' | Matched :- 'False'\n",
      "2021-05-07 18:48:30,455 : Heading Extraction Adakveo-4874 EN PI_ PACKAGE LEAFLET.json : Match Failed | H | CAP |  en | 3 | Adakveo-4874 EN PI_ PACKAGE LEAFLET.json | Doc txt :- 'What Adakveo is' | Qrd txt :- 'Pregnancy <and> <,> breast-feeding <and fertility>' | Matched :- 'False'\n",
      "2021-05-07 18:48:30,566 : Heading Extraction Adakveo-4874 EN PI_ PACKAGE LEAFLET.json : Match Failed | H | CAP |  en | 3 | Adakveo-4874 EN PI_ PACKAGE LEAFLET.json | Doc txt :- 'What Adakveo is' | Qrd txt :- 'This leaflet was last revised in <{MM/YYYY}><{month YYYY}>.' | Matched :- 'False'\n",
      " called monoclonal antibodies (mAbs).' | Qrd txt :- 'Pregnancy <and> <,> breast-feeding <and fertility>' | Matched :- 'False'akveo-4874 EN PI_ PACKAGE LEAFLET.json | Doc txt :- 'Adakveo contains\n",
      " called monoclonal antibodies (mAbs).' | Qrd txt :- 'This leaflet was last revised in <{MM/YYYY}><{month YYYY}>.' | Matched :- 'False'4 EN PI_ PACKAGE LEAFLET.json | Doc txt :- 'Adakveo contains\n",
      "2021-05-07 18:48:32,171 : Heading Extraction Adakveo-4874 EN PI_ PACKAGE LEAFLET.json : Match Failed | H | CAP |  en | 3 | Adakveo-4874 EN PI_ PACKAGE LEAFLET.json | Doc txt :- 'What Adakveois used for' | Qrd txt :- 'Pregnancy <and> <,> breast-feeding <and fertility>' | Matched :- 'False'\n",
      "2021-05-07 18:48:32,427 : Heading Extraction Adakveo-4874 EN PI_ PACKAGE LEAFLET.json : Match Failed | H | CAP |  en | 3 | Adakveo-4874 EN PI_ PACKAGE LEAFLET.json | Doc txt :- 'What Adakveois used for' | Qrd txt :- 'This leaflet was last revised in <{MM/YYYY}><{month YYYY}>.' | Matched :- 'False'\n",
      " hydroxyurea/hydroxycarbamide, although it may also be used alone.' | Qrd txt :- 'Pregnancy <and> <,> breast-feeding <and fertility>' | Matched :- 'False'FLET.json | Doc txt :- 'Adakveo is used to prevent recurrent\n",
      " hydroxyurea/hydroxycarbamide, although it may also be used alone.' | Qrd txt :- 'This leaflet was last revised in <{MM/YYYY}><{month YYYY}>.' | Matched :- 'False' | Doc txt :- 'Adakveo is used to prevent recurrent\n",
      " works' | Qrd txt :- 'Pregnancy <and> <,> breast-feeding <and fertility>' | Matched :- 'False'Failed | H | CAP |  en | 3 | Adakveo-4874 EN PI_ PACKAGE LEAFLET.json | Doc txt :- 'How Adakveo\n",
      " works' | Qrd txt :- 'This leaflet was last revised in <{MM/YYYY}><{month YYYY}>.' | Matched :- 'False'H | CAP |  en | 3 | Adakveo-4874 EN PI_ PACKAGE LEAFLET.json | Doc txt :- 'How Adakveo\n",
      " painful crises.' | Qrd txt :- 'Pregnancy <and> <,> breast-feeding <and fertility>' | Matched :- 'False' | CAP |  en | 3 | Adakveo-4874 EN PI_ PACKAGE LEAFLET.json | Doc txt :- 'Patients with sickle cell disease\n",
      " painful crises.' | Qrd txt :- 'This leaflet was last revised in <{MM/YYYY}><{month YYYY}>.' | Matched :- 'False' en | 3 | Adakveo-4874 EN PI_ PACKAGE LEAFLET.json | Doc txt :- 'Patients with sickle cell disease\n",
      " how Adakveo works or why this medicine has been prescribed for you, ask your doctor or nurse.' | Qrd txt :- 'Pregnancy <and> <,> breast-feeding <and fertility>' | Matched :- 'False'ou have any questions about\n",
      " how Adakveo works or why this medicine has been prescribed for you, ask your doctor or nurse.' | Qrd txt :- 'This leaflet was last revised in <{MM/YYYY}><{month YYYY}>.' | Matched :- 'False'ny questions about\n",
      "2021-05-07 18:48:36,005 : Heading Extraction Adakveo-4874 EN PI_ PACKAGE LEAFLET.json : Match Passed | H | CAP |  en | 3 | Adakveo-4874 EN PI_ PACKAGE LEAFLET.json | Doc txt :- '2.       What you need to know before you are given Adakveo' | Qrd txt :- '2. What you need to know before you <take> <use> Aerius ' | Matched :- 'True'\n",
      "2021-05-07 18:48:36,023 : Heading Extraction Adakveo-4874 EN PI_ PACKAGE LEAFLET.json : Validation Flow Is Broken | H | CAP |  en | 3 | Adakveo-4874 EN PI_ PACKAGE LEAFLET.json | currHeadId :- '23005' | currParentHeadId :- '23001.0' | prevParentHeadId :- '23003'\n",
      "2021-05-07 18:48:36,030 : Heading Extraction Adakveo-4874 EN PI_ PACKAGE LEAFLET.json : Validation Passed | H | CAP |  en | 3 | Adakveo-4874 EN PI_ PACKAGE LEAFLET.json | currHeadId :- '23005' | currParentHeadId :- '23001.0' | prevParentHeadId :- '23003'\n",
      "2021-05-07 18:48:36,179 : Heading Extraction Adakveo-4874 EN PI_ PACKAGE LEAFLET.json : Match Failed | H | CAP |  en | 3 | Adakveo-4874 EN PI_ PACKAGE LEAFLET.json | Doc txt :- 'You must not be given Adakveo:' | Qrd txt :- 'Pregnancy <and> <,> breast-feeding <and fertility>' | Matched :- 'False'\n"
     ]
    },
    {
     "name": "stdout",
     "output_type": "stream",
     "text": [
      "2.       What you need to know before you are given Adakveo  |===|  2. What you need to know before you <take> <use> Aerius \n",
      "True  ||  Contains<>|26.42|(80, 81, 80)|0.96|  ||  2.       What you need to know before you are given Adakveo  ||  2. What you need to know before you <take> <use> Aerius \n"
     ]
    },
    {
     "name": "stderr",
     "output_type": "stream",
     "text": [
      "2021-05-07 18:48:36,381 : Heading Extraction Adakveo-4874 EN PI_ PACKAGE LEAFLET.json : Match Failed | H | CAP |  en | 3 | Adakveo-4874 EN PI_ PACKAGE LEAFLET.json | Doc txt :- 'You must not be given Adakveo:' | Qrd txt :- 'This leaflet was last revised in <{MM/YYYY}><{month YYYY}>.' | Matched :- 'False'\n",
      " of the other ingredients of this medicine (listed in section 6).' | Qrd txt :- 'Pregnancy <and> <,> breast-feeding <and fertility>' | Matched :- 'False'AFLET.json | Doc txt :- '-        if you are allergic to crizanlizumab or any\n",
      " of the other ingredients of this medicine (listed in section 6).' | Qrd txt :- 'This leaflet was last revised in <{MM/YYYY}><{month YYYY}>.' | Matched :- 'False'n | Doc txt :- '-        if you are allergic to crizanlizumab or any\n",
      "2021-05-07 18:48:37,314 : Heading Extraction Adakveo-4874 EN PI_ PACKAGE LEAFLET.json : Match Passed | H | CAP |  en | 3 | Adakveo-4874 EN PI_ PACKAGE LEAFLET.json | Doc txt :- 'Warnings and precautions' | Qrd txt :- 'Warnings and precautions ' | Matched :- 'True'\n",
      "2021-05-07 18:48:37,334 : Heading Extraction Adakveo-4874 EN PI_ PACKAGE LEAFLET.json : Validation Flow Is Broken | H | CAP |  en | 3 | Adakveo-4874 EN PI_ PACKAGE LEAFLET.json | currHeadId :- '23007' | currParentHeadId :- '23005.0' | prevParentHeadId :- '23005'\n",
      "2021-05-07 18:48:37,342 : Heading Extraction Adakveo-4874 EN PI_ PACKAGE LEAFLET.json : Validation Passed | H | CAP |  en | 3 | Adakveo-4874 EN PI_ PACKAGE LEAFLET.json | currHeadId :- '23007' | currParentHeadId :- '23005.0' | prevParentHeadId :- '23005'\n",
      "2021-05-07 18:48:37,415 : Heading Extraction Adakveo-4874 EN PI_ PACKAGE LEAFLET.json : Match Failed | H | CAP |  en | 3 | Adakveo-4874 EN PI_ PACKAGE LEAFLET.json | Doc txt :- 'Infusion reactions' | Qrd txt :- 'Pregnancy <and> <,> breast-feeding <and fertility>' | Matched :- 'False'\n"
     ]
    },
    {
     "name": "stdout",
     "output_type": "stream",
     "text": [
      "Warnings and precautions  |===|  Warnings and precautions \n",
      "True  ||    ||  Warnings and precautions  ||  Warnings and precautions \n"
     ]
    },
    {
     "name": "stderr",
     "output_type": "stream",
     "text": [
      "2021-05-07 18:48:37,522 : Heading Extraction Adakveo-4874 EN PI_ PACKAGE LEAFLET.json : Match Failed | H | CAP |  en | 3 | Adakveo-4874 EN PI_ PACKAGE LEAFLET.json | Doc txt :- 'Infusion reactions' | Qrd txt :- 'This leaflet was last revised in <{MM/YYYY}><{month YYYY}>.' | Matched :- 'False'\n",
      " you experience any of the following, which may be signs of an infusion reaction:' | Qrd txt :- 'Pregnancy <and> <,> breast-feeding <and fertility>' | Matched :- 'False' txt :- 'Tell your doctor or nurse immediately if\n",
      " you experience any of the following, which may be signs of an infusion reaction:' | Qrd txt :- 'This leaflet was last revised in <{MM/YYYY}><{month YYYY}>.' | Matched :- 'False'Tell your doctor or nurse immediately if\n",
      " side effects”.' | Qrd txt :- 'Pregnancy <and> <,> breast-feeding <and fertility>' | Matched :- 'False'H | CAP |  en | 3 | Adakveo-4874 EN PI_ PACKAGE LEAFLET.json | Doc txt :- '-Fever, chills, shivering, nausea, vomiting,\n",
      " side effects”.' | Qrd txt :- 'This leaflet was last revised in <{MM/YYYY}><{month YYYY}>.' | Matched :- 'False'  en | 3 | Adakveo-4874 EN PI_ PACKAGE LEAFLET.json | Doc txt :- '-Fever, chills, shivering, nausea, vomiting,\n",
      " nurse may monitor you for signs and symptoms of such infusion reactions.' | Qrd txt :- 'Pregnancy <and> <,> breast-feeding <and fertility>' | Matched :- 'False'on | Doc txt :- 'Your doctor or\n",
      " nurse may monitor you for signs and symptoms of such infusion reactions.' | Qrd txt :- 'This leaflet was last revised in <{MM/YYYY}><{month YYYY}>.' | Matched :- 'False'txt :- 'Your doctor or\n",
      "2021-05-07 18:48:40,074 : Heading Extraction Adakveo-4874 EN PI_ PACKAGE LEAFLET.json : Match Failed | H | CAP |  en | 3 | Adakveo-4874 EN PI_ PACKAGE LEAFLET.json | Doc txt :- 'Blood tests during Adakveo treatment' | Qrd txt :- 'Pregnancy <and> <,> breast-feeding <and fertility>' | Matched :- 'False'\n",
      "2021-05-07 18:48:40,259 : Heading Extraction Adakveo-4874 EN PI_ PACKAGE LEAFLET.json : Match Failed | H | CAP |  en | 3 | Adakveo-4874 EN PI_ PACKAGE LEAFLET.json | Doc txt :- 'Blood tests during Adakveo treatment' | Qrd txt :- 'This leaflet was last revised in <{MM/YYYY}><{month YYYY}>.' | Matched :- 'False'\n",
      " used to measure the number of platelets in your blood.' | Qrd txt :- 'Pregnancy <and> <,> breast-feeding <and fertility>' | Matched :- 'False'PACKAGE LEAFLET.json | Doc txt :- 'If you need to\n",
      " used to measure the number of platelets in your blood.' | Qrd txt :- 'This leaflet was last revised in <{MM/YYYY}><{month YYYY}>.' | Matched :- 'False'EAFLET.json | Doc txt :- 'If you need to\n",
      "2021-05-07 18:48:42,374 : Heading Extraction Adakveo-4874 EN PI_ PACKAGE LEAFLET.json : Match Passed | H | CAP |  en | 3 | Adakveo-4874 EN PI_ PACKAGE LEAFLET.json | Doc txt :- 'Children and adolescents' | Qrd txt :- 'Children <and adolescents>' | Matched :- 'True'\n",
      "2021-05-07 18:48:42,390 : Heading Extraction Adakveo-4874 EN PI_ PACKAGE LEAFLET.json : Validation Passed | H | CAP |  en | 3 | Adakveo-4874 EN PI_ PACKAGE LEAFLET.json | currHeadId :- '23008' | currParentHeadId :- '23005.0' | prevParentHeadId :- '23007'\n"
     ]
    },
    {
     "name": "stdout",
     "output_type": "stream",
     "text": [
      "Children and adolescents  |===|  Children <and adolescents>\n",
      "True  ||  Contains<>|8.33|(96, 96, 98)|0.99|  ||  Children and adolescents  ||  Children <and adolescents>\n"
     ]
    },
    {
     "name": "stderr",
     "output_type": "stream",
     "text": [
      " not be used in children or adolescents below 16 years of age.' | Qrd txt :- 'Pregnancy <and> <,> breast-feeding <and fertility>' | Matched :- 'False' LEAFLET.json | Doc txt :- 'Adakveo should\n",
      " not be used in children or adolescents below 16 years of age.' | Qrd txt :- 'This leaflet was last revised in <{MM/YYYY}><{month YYYY}>.' | Matched :- 'False'json | Doc txt :- 'Adakveo should\n",
      "2021-05-07 18:48:43,087 : Heading Extraction Adakveo-4874 EN PI_ PACKAGE LEAFLET.json : Match Failed | H | CAP |  en | 3 | Adakveo-4874 EN PI_ PACKAGE LEAFLET.json | Doc txt :- 'Other medicines and Adakveo' | Qrd txt :- 'Other medicines and Aerius' | Matched :- 'False'\n",
      "2021-05-07 18:48:43,119 : Heading Extraction Adakveo-4874 EN PI_ PACKAGE LEAFLET.json : Match Failed | H | CAP |  en | 3 | Adakveo-4874 EN PI_ PACKAGE LEAFLET.json | Doc txt :- 'Other medicines and Adakveo' | Qrd txt :- 'Pregnancy <and> <,> breast-feeding <and fertility>' | Matched :- 'False'\n",
      "2021-05-07 18:48:43,226 : Heading Extraction Adakveo-4874 EN PI_ PACKAGE LEAFLET.json : Match Failed | H | CAP |  en | 3 | Adakveo-4874 EN PI_ PACKAGE LEAFLET.json | Doc txt :- 'Other medicines and Adakveo' | Qrd txt :- 'This leaflet was last revised in <{MM/YYYY}><{month YYYY}>.' | Matched :- 'False'\n",
      " medicines.' | Qrd txt :- 'Pregnancy <and> <,> breast-feeding <and fertility>' | Matched :- 'False'd | H | CAP |  en | 3 | Adakveo-4874 EN PI_ PACKAGE LEAFLET.json | Doc txt :- 'Tell your doctor\n",
      " medicines.' | Qrd txt :- 'This leaflet was last revised in <{MM/YYYY}><{month YYYY}>.' | Matched :- 'False'AP |  en | 3 | Adakveo-4874 EN PI_ PACKAGE LEAFLET.json | Doc txt :- 'Tell your doctor\n",
      "2021-05-07 18:48:45,162 : Heading Extraction Adakveo-4874 EN PI_ PACKAGE LEAFLET.json : Match Passed | H | CAP |  en | 3 | Adakveo-4874 EN PI_ PACKAGE LEAFLET.json | Doc txt :- 'Pregnancy and breast‑feeding' | Qrd txt :- 'Pregnancy <and> <,> breast-feeding <and fertility>' | Matched :- 'True'\n",
      "2021-05-07 18:48:45,190 : Heading Extraction Adakveo-4874 EN PI_ PACKAGE LEAFLET.json : Validation Flow Is Broken | H | CAP |  en | 3 | Adakveo-4874 EN PI_ PACKAGE LEAFLET.json | currHeadId :- '23011' | currParentHeadId :- '23005.0' | prevParentHeadId :- '23008'\n",
      "2021-05-07 18:48:45,209 : Heading Extraction Adakveo-4874 EN PI_ PACKAGE LEAFLET.json : Validation Passed | H | CAP |  en | 3 | Adakveo-4874 EN PI_ PACKAGE LEAFLET.json | currHeadId :- '23011' | currParentHeadId :- '23005.0' | prevParentHeadId :- '23008'\n"
     ]
    },
    {
     "name": "stdout",
     "output_type": "stream",
     "text": [
      "Pregnancy and breast‑feeding  |===|  Pregnancy <and> <,> breast-feeding <and fertility>\n",
      "True  ||  SpecialCase3|82.14|(69, 75, 86)|0.93|  ||  Pregnancy and breast‑feeding  ||  Pregnancy <and> <,> breast-feeding <and fertility>\n"
     ]
    },
    {
     "name": "stderr",
     "output_type": "stream",
     "text": [
      " safety in pregnant women.' | Qrd txt :- 'Pregnancy <and> <,> breast-feeding <and fertility>' | Matched :- 'False'en | 3 | Adakveo-4874 EN PI_ PACKAGE LEAFLET.json | Doc txt :- 'Adakveo has\n",
      " safety in pregnant women.' | Qrd txt :- 'This leaflet was last revised in <{MM/YYYY}><{month YYYY}>.' | Matched :- 'False'Adakveo-4874 EN PI_ PACKAGE LEAFLET.json | Doc txt :- 'Adakveo has\n",
      " contraception, it is not recommended to use Adakveo.' | Qrd txt :- 'Pregnancy <and> <,> breast-feeding <and fertility>' | Matched :- 'False'_ PACKAGE LEAFLET.json | Doc txt :- 'If you are\n",
      " contraception, it is not recommended to use Adakveo.' | Qrd txt :- 'This leaflet was last revised in <{MM/YYYY}><{month YYYY}>.' | Matched :- 'False' LEAFLET.json | Doc txt :- 'If you are\n",
      " pass into breast milk.' | Qrd txt :- 'Pregnancy <and> <,> breast-feeding <and fertility>' | Matched :- 'False'|  en | 3 | Adakveo-4874 EN PI_ PACKAGE LEAFLET.json | Doc txt :- 'It is not\n",
      " pass into breast milk.' | Qrd txt :- 'This leaflet was last revised in <{MM/YYYY}><{month YYYY}>.' | Matched :- 'False' | Adakveo-4874 EN PI_ PACKAGE LEAFLET.json | Doc txt :- 'It is not\n",
      " pregnancy or breast‑feeding.' | Qrd txt :- 'Pregnancy <and> <,> breast-feeding <and fertility>' | Matched :- 'False'| 3 | Adakveo-4874 EN PI_ PACKAGE LEAFLET.json | Doc txt :- 'If you are\n",
      " pregnancy or breast‑feeding.' | Qrd txt :- 'This leaflet was last revised in <{MM/YYYY}><{month YYYY}>.' | Matched :- 'False'kveo-4874 EN PI_ PACKAGE LEAFLET.json | Doc txt :- 'If you are\n",
      "2021-05-07 18:48:49,836 : Heading Extraction Adakveo-4874 EN PI_ PACKAGE LEAFLET.json : Match Failed | H | CAP |  en | 3 | Adakveo-4874 EN PI_ PACKAGE LEAFLET.json | Doc txt :- 'Driving and using machines' | Qrd txt :- 'Pregnancy <and> <,> breast-feeding <and fertility>' | Matched :- 'False'\n",
      "2021-05-07 18:48:49,838 : Heading Extraction Adakveo-4874 EN PI_ PACKAGE LEAFLET.json : Match Passed | H | CAP |  en | 3 | Adakveo-4874 EN PI_ PACKAGE LEAFLET.json | Doc txt :- 'Driving and using machines' | Qrd txt :- 'Driving and using machines' | Matched :- 'True'\n",
      "2021-05-07 18:48:49,854 : Heading Extraction Adakveo-4874 EN PI_ PACKAGE LEAFLET.json : Validation Passed | H | CAP |  en | 3 | Adakveo-4874 EN PI_ PACKAGE LEAFLET.json | currHeadId :- '23012' | currParentHeadId :- '23005.0' | prevParentHeadId :- '23011'\n"
     ]
    },
    {
     "name": "stdout",
     "output_type": "stream",
     "text": [
      "Driving and using machines  |===|  Driving and using machines\n",
      "True  ||    ||  Driving and using machines  ||  Driving and using machines\n"
     ]
    },
    {
     "name": "stderr",
     "output_type": "stream",
     "text": [
      " use machines until you feel better.' | Qrd txt :- 'Pregnancy <and> <,> breast-feeding <and fertility>' | Matched :- 'False'dakveo-4874 EN PI_ PACKAGE LEAFLET.json | Doc txt :- 'Adakveo could have a minor effect on your ability to drive and use\n",
      " use machines until you feel better.' | Qrd txt :- 'This leaflet was last revised in <{MM/YYYY}><{month YYYY}>.' | Matched :- 'False'74 EN PI_ PACKAGE LEAFLET.json | Doc txt :- 'Adakveo could have a minor effect on your ability to drive and use\n",
      "2021-05-07 18:48:51,296 : Heading Extraction Adakveo-4874 EN PI_ PACKAGE LEAFLET.json : Match Failed | H | CAP |  en | 3 | Adakveo-4874 EN PI_ PACKAGE LEAFLET.json | Doc txt :- 'Adakveo contains sodium' | Qrd txt :- 'Pregnancy <and> <,> breast-feeding <and fertility>' | Matched :- 'False'\n",
      "2021-05-07 18:48:51,419 : Heading Extraction Adakveo-4874 EN PI_ PACKAGE LEAFLET.json : Match Failed | H | CAP |  en | 3 | Adakveo-4874 EN PI_ PACKAGE LEAFLET.json | Doc txt :- 'Adakveo contains sodium' | Qrd txt :- 'This leaflet was last revised in <{MM/YYYY}><{month YYYY}>.' | Matched :- 'False'\n",
      " 1 mmol sodium (23 mg) per vial, that is to say essentially “sodium‑free”.' | Qrd txt :- 'Pregnancy <and> <,> breast-feeding <and fertility>' | Matched :- 'False'n | Doc txt :- 'This medicine contains less than\n",
      " 1 mmol sodium (23 mg) per vial, that is to say essentially “sodium‑free”.' | Qrd txt :- 'This leaflet was last revised in <{MM/YYYY}><{month YYYY}>.' | Matched :- 'False'xt :- 'This medicine contains less than\n",
      "2021-05-07 18:48:52,279 : Heading Extraction Adakveo-4874 EN PI_ PACKAGE LEAFLET.json : Match Failed | H | CAP |  en | 3 | Adakveo-4874 EN PI_ PACKAGE LEAFLET.json | Doc txt :- '3.       How Adakveo is given' | Qrd txt :- 'Pregnancy <and> <,> breast-feeding <and fertility>' | Matched :- 'False'\n",
      "2021-05-07 18:48:52,376 : Heading Extraction Adakveo-4874 EN PI_ PACKAGE LEAFLET.json : Match Failed | H | CAP |  en | 3 | Adakveo-4874 EN PI_ PACKAGE LEAFLET.json | Doc txt :- '3.       How Adakveo is given' | Qrd txt :- 'This leaflet was last revised in <{MM/YYYY}><{month YYYY}>.' | Matched :- 'False'\n",
      "2021-05-07 18:48:52,567 : Heading Extraction Adakveo-4874 EN PI_ PACKAGE LEAFLET.json : Match Failed | H | CAP |  en | 3 | Adakveo-4874 EN PI_ PACKAGE LEAFLET.json | Doc txt :- 'Adakveo will be given to you by a doctor or nurse.' | Qrd txt :- 'Pregnancy <and> <,> breast-feeding <and fertility>' | Matched :- 'False'\n",
      "2021-05-07 18:48:52,729 : Heading Extraction Adakveo-4874 EN PI_ PACKAGE LEAFLET.json : Match Failed | H | CAP |  en | 3 | Adakveo-4874 EN PI_ PACKAGE LEAFLET.json | Doc txt :- 'Adakveo will be given to you by a doctor or nurse.' | Qrd txt :- 'This leaflet was last revised in <{MM/YYYY}><{month YYYY}>.' | Matched :- 'False'\n",
      " the infusion.' | Qrd txt :- 'Pregnancy <and> <,> breast-feeding <and fertility>' | Matched :- 'False' H | CAP |  en | 3 | Adakveo-4874 EN PI_ PACKAGE LEAFLET.json | Doc txt :- 'If you have any\n",
      "Request time out. Ingestion may be backed up. Retrying.\n",
      "Request time out. Ingestion may be backed up. Retrying.\n",
      "Request time out. Ingestion may be backed up. Retrying.\n",
      "Path C:\\Users\\vipsharm\\AppData\\Local\\Temp\\opencensus-python-769acdf5-503c-43e6-9736-77925ec553f0\\2021-05-07T131853.194564-6930709c.blob.tmp does not exist or is inaccessible.\n",
      " the infusion.' | Qrd txt :- 'This leaflet was last revised in <{MM/YYYY}><{month YYYY}>.' | Matched :- 'False'|  en | 3 | Adakveo-4874 EN PI_ PACKAGE LEAFLET.json | Doc txt :- 'If you have any\n",
      " tell you when you will have your infusions and follow‑up appointments.' | Qrd txt :- 'Pregnancy <and> <,> breast-feeding <and fertility>' | Matched :- 'False'json | Doc txt :- 'Your doctor will\n",
      " tell you when you will have your infusions and follow‑up appointments.' | Qrd txt :- 'This leaflet was last revised in <{MM/YYYY}><{month YYYY}>.' | Matched :- 'False'c txt :- 'Your doctor will\n",
      "2021-05-07 18:48:54,195 : Heading Extraction Adakveo-4874 EN PI_ PACKAGE LEAFLET.json : Match Failed | H | CAP |  en | 3 | Adakveo-4874 EN PI_ PACKAGE LEAFLET.json | Doc txt :- 'How much Adakveo you will be given' | Qrd txt :- 'Pregnancy <and> <,> breast-feeding <and fertility>' | Matched :- 'False'\n",
      "2021-05-07 18:48:54,303 : Heading Extraction Adakveo-4874 EN PI_ PACKAGE LEAFLET.json : Match Failed | H | CAP |  en | 3 | Adakveo-4874 EN PI_ PACKAGE LEAFLET.json | Doc txt :- 'How much Adakveo you will be given' | Qrd txt :- 'This leaflet was last revised in <{MM/YYYY}><{month YYYY}>.' | Matched :- 'False'\n",
      " that you will be given an infusion every 4 weeks.' | Qrd txt :- 'Pregnancy <and> <,> breast-feeding <and fertility>' | Matched :- 'False' PI_ PACKAGE LEAFLET.json | Doc txt :- 'The recommended\n",
      " that you will be given an infusion every 4 weeks.' | Qrd txt :- 'This leaflet was last revised in <{MM/YYYY}><{month YYYY}>.' | Matched :- 'False'AGE LEAFLET.json | Doc txt :- 'The recommended\n",
      "2021-05-07 18:48:55,087 : Heading Extraction Adakveo-4874 EN PI_ PACKAGE LEAFLET.json : Match Failed | H | CAP |  en | 3 | Adakveo-4874 EN PI_ PACKAGE LEAFLET.json | Doc txt :- 'How the infusion is given' | Qrd txt :- 'Pregnancy <and> <,> breast-feeding <and fertility>' | Matched :- 'False'\n",
      "2021-05-07 18:48:55,167 : Heading Extraction Adakveo-4874 EN PI_ PACKAGE LEAFLET.json : Match Failed | H | CAP |  en | 3 | Adakveo-4874 EN PI_ PACKAGE LEAFLET.json | Doc txt :- 'How the infusion is given' | Qrd txt :- 'This leaflet was last revised in <{MM/YYYY}><{month YYYY}>.' | Matched :- 'False'\n",
      " 30 minutes.' | Qrd txt :- 'Pregnancy <and> <,> breast-feeding <and fertility>' | Matched :- 'False' | H | CAP |  en | 3 | Adakveo-4874 EN PI_ PACKAGE LEAFLET.json | Doc txt :- 'Adakveo is\n",
      " 30 minutes.' | Qrd txt :- 'This leaflet was last revised in <{MM/YYYY}><{month YYYY}>.' | Matched :- 'False'P |  en | 3 | Adakveo-4874 EN PI_ PACKAGE LEAFLET.json | Doc txt :- 'Adakveo is\n",
      " alone or with hydroxyurea/hydroxycarbamide.' | Qrd txt :- 'Pregnancy <and> <,> breast-feeding <and fertility>' | Matched :- 'False'874 EN PI_ PACKAGE LEAFLET.json | Doc txt :- 'Adakveo can be given\n",
      " alone or with hydroxyurea/hydroxycarbamide.' | Qrd txt :- 'This leaflet was last revised in <{MM/YYYY}><{month YYYY}>.' | Matched :- 'False'_ PACKAGE LEAFLET.json | Doc txt :- 'Adakveo can be given\n",
      "2021-05-07 18:48:56,112 : Heading Extraction Adakveo-4874 EN PI_ PACKAGE LEAFLET.json : Match Failed | H | CAP |  en | 3 | Adakveo-4874 EN PI_ PACKAGE LEAFLET.json | Doc txt :- 'How long Adakveo treatment lasts' | Qrd txt :- 'Pregnancy <and> <,> breast-feeding <and fertility>' | Matched :- 'False'\n",
      "2021-05-07 18:48:56,214 : Heading Extraction Adakveo-4874 EN PI_ PACKAGE LEAFLET.json : Match Failed | H | CAP |  en | 3 | Adakveo-4874 EN PI_ PACKAGE LEAFLET.json | Doc txt :- 'How long Adakveo treatment lasts' | Qrd txt :- 'This leaflet was last revised in <{MM/YYYY}><{month YYYY}>.' | Matched :- 'False'\n",
      " desired effect.' | Qrd txt :- 'Pregnancy <and> <,> breast-feeding <and fertility>' | Matched :- 'False' | CAP |  en | 3 | Adakveo-4874 EN PI_ PACKAGE LEAFLET.json | Doc txt :- 'You should\n",
      " desired effect.' | Qrd txt :- 'This leaflet was last revised in <{MM/YYYY}><{month YYYY}>.' | Matched :- 'False' en | 3 | Adakveo-4874 EN PI_ PACKAGE LEAFLET.json | Doc txt :- 'You should\n",
      "2021-05-07 18:48:58,410 : Heading Extraction Adakveo-4874 EN PI_ PACKAGE LEAFLET.json : Match Failed | H | CAP |  en | 3 | Adakveo-4874 EN PI_ PACKAGE LEAFLET.json | Doc txt :- 'If you forget a Adakveo infusion' | Qrd txt :- 'Pregnancy <and> <,> breast-feeding <and fertility>' | Matched :- 'False'\n",
      "2021-05-07 18:48:58,445 : Heading Extraction Adakveo-4874 EN PI_ PACKAGE LEAFLET.json : Match Failed | H | CAP |  en | 3 | Adakveo-4874 EN PI_ PACKAGE LEAFLET.json | Doc txt :- 'If you forget a Adakveo infusion' | Qrd txt :- 'If you forget to <take> <use> Aerius>' | Matched :- 'False'\n",
      "2021-05-07 18:48:58,556 : Heading Extraction Adakveo-4874 EN PI_ PACKAGE LEAFLET.json : Match Failed | H | CAP |  en | 3 | Adakveo-4874 EN PI_ PACKAGE LEAFLET.json | Doc txt :- 'If you forget a Adakveo infusion' | Qrd txt :- 'This leaflet was last revised in <{MM/YYYY}><{month YYYY}>.' | Matched :- 'False'\n",
      " an infusion, contact your doctor as soon as possible to reschedule.' | Qrd txt :- 'Pregnancy <and> <,> breast-feeding <and fertility>' | Matched :- 'False'ET.json | Doc txt :- 'It is very\n"
     ]
    },
    {
     "name": "stderr",
     "output_type": "stream",
     "text": [
      " an infusion, contact your doctor as soon as possible to reschedule.' | Qrd txt :- 'This leaflet was last revised in <{MM/YYYY}><{month YYYY}>.' | Matched :- 'False' Doc txt :- 'It is very\n",
      "2021-05-07 18:48:59,797 : Heading Extraction Adakveo-4874 EN PI_ PACKAGE LEAFLET.json : Match Failed | H | CAP |  en | 3 | Adakveo-4874 EN PI_ PACKAGE LEAFLET.json | Doc txt :- 'If you stop Adakveo treatment' | Qrd txt :- 'Pregnancy <and> <,> breast-feeding <and fertility>' | Matched :- 'False'\n",
      "2021-05-07 18:48:59,848 : Heading Extraction Adakveo-4874 EN PI_ PACKAGE LEAFLET.json : Match Failed | H | CAP |  en | 3 | Adakveo-4874 EN PI_ PACKAGE LEAFLET.json | Doc txt :- 'If you stop Adakveo treatment' | Qrd txt :- 'If you stop <taking> <using> Aerius>' | Matched :- 'False'\n",
      "2021-05-07 18:48:59,960 : Heading Extraction Adakveo-4874 EN PI_ PACKAGE LEAFLET.json : Match Failed | H | CAP |  en | 3 | Adakveo-4874 EN PI_ PACKAGE LEAFLET.json | Doc txt :- 'If you stop Adakveo treatment' | Qrd txt :- 'This leaflet was last revised in <{MM/YYYY}><{month YYYY}>.' | Matched :- 'False'\n",
      " treatment unless your doctor tells you that you can.' | Qrd txt :- 'Pregnancy <and> <,> breast-feeding <and fertility>' | Matched :- 'False'_ PACKAGE LEAFLET.json | Doc txt :- 'Do not stop Adakveo\n",
      " treatment unless your doctor tells you that you can.' | Qrd txt :- 'This leaflet was last revised in <{MM/YYYY}><{month YYYY}>.' | Matched :- 'False' LEAFLET.json | Doc txt :- 'Do not stop Adakveo\n",
      " further questions on the use of this medicine, ask your doctor or nurse.' | Qrd txt :- 'Pregnancy <and> <,> breast-feeding <and fertility>' | Matched :- 'False'on | Doc txt :- 'If you have any\n",
      " further questions on the use of this medicine, ask your doctor or nurse.' | Qrd txt :- 'This leaflet was last revised in <{MM/YYYY}><{month YYYY}>.' | Matched :- 'False'txt :- 'If you have any\n",
      " effects' | Qrd txt :- 'Pregnancy <and> <,> breast-feeding <and fertility>' | Matched :- 'False'iled | H | CAP |  en | 3 | Adakveo-4874 EN PI_ PACKAGE LEAFLET.json | Doc txt :- '4.       Possible side\n",
      " effects' | Qrd txt :- '4. Possible side effects' | Matched :- 'True'AGE LEAFLET.json : Match Passed | H | CAP |  en | 3 | Adakveo-4874 EN PI_ PACKAGE LEAFLET.json | Doc txt :- '4.       Possible side\n",
      "2021-05-07 18:49:01,604 : Heading Extraction Adakveo-4874 EN PI_ PACKAGE LEAFLET.json : Validation Flow Is Broken | H | CAP |  en | 3 | Adakveo-4874 EN PI_ PACKAGE LEAFLET.json | currHeadId :- '23019' | currParentHeadId :- '23001.0' | prevParentHeadId :- '23012'\n",
      "2021-05-07 18:49:01,613 : Heading Extraction Adakveo-4874 EN PI_ PACKAGE LEAFLET.json : Validation Passed | H | CAP |  en | 3 | Adakveo-4874 EN PI_ PACKAGE LEAFLET.json | currHeadId :- '23019' | currParentHeadId :- '23001.0' | prevParentHeadId :- '23012'\n"
     ]
    },
    {
     "name": "stdout",
     "output_type": "stream",
     "text": [
      "4.       Possible side\r",
      " effects  |===|  4. Possible side effects\n",
      "True  ||    ||  4.       Possible side\r",
      " effects  ||  4. Possible side effects\n"
     ]
    },
    {
     "name": "stderr",
     "output_type": "stream",
     "text": [
      " them.' | Qrd txt :- 'Pregnancy <and> <,> breast-feeding <and fertility>' | Matched :- 'False'Failed | H | CAP |  en | 3 | Adakveo-4874 EN PI_ PACKAGE LEAFLET.json | Doc txt :- 'Like all\n",
      " them.' | Qrd txt :- 'This leaflet was last revised in <{MM/YYYY}><{month YYYY}>.' | Matched :- 'False'H | CAP |  en | 3 | Adakveo-4874 EN PI_ PACKAGE LEAFLET.json | Doc txt :- 'Like all\n",
      " serious' | Qrd txt :- 'Pregnancy <and> <,> breast-feeding <and fertility>' | Matched :- 'False'iled | H | CAP |  en | 3 | Adakveo-4874 EN PI_ PACKAGE LEAFLET.json | Doc txt :- 'Some side effects could be\n",
      " serious' | Qrd txt :- 'This leaflet was last revised in <{MM/YYYY}><{month YYYY}>.' | Matched :- 'False'| CAP |  en | 3 | Adakveo-4874 EN PI_ PACKAGE LEAFLET.json | Doc txt :- 'Some side effects could be\n",
      "2021-05-07 18:49:02,867 : Heading Extraction Adakveo-4874 EN PI_ PACKAGE LEAFLET.json : Match Failed | H | CAP |  en | 3 | Adakveo-4874 EN PI_ PACKAGE LEAFLET.json | Doc txt :- 'Tell the doctor or nurse giving you the infusion immediately if you develop any of the following:' | Qrd txt :- 'Pregnancy <and> <,> breast-feeding <and fertility>' | Matched :- 'False'\n",
      "2021-05-07 18:49:03,519 : Heading Extraction Adakveo-4874 EN PI_ PACKAGE LEAFLET.json : Match Failed | H | CAP |  en | 3 | Adakveo-4874 EN PI_ PACKAGE LEAFLET.json | Doc txt :- 'Tell the doctor or nurse giving you the infusion immediately if you develop any of the following:' | Qrd txt :- 'This leaflet was last revised in <{MM/YYYY}><{month YYYY}>.' | Matched :- 'False'\n",
      " itching, shortness of breath or wheezing.' | Qrd txt :- 'Pregnancy <and> <,> breast-feeding <and fertility>' | Matched :- 'False'-4874 EN PI_ PACKAGE LEAFLET.json | Doc txt :- '-Fever, chills, shivering, nausea, vomiting,\n",
      " itching, shortness of breath or wheezing.' | Qrd txt :- 'This leaflet was last revised in <{MM/YYYY}><{month YYYY}>.' | Matched :- 'False'PI_ PACKAGE LEAFLET.json | Doc txt :- '-Fever, chills, shivering, nausea, vomiting,\n",
      " may affect up to 1 in every 10 people).' | Qrd txt :- 'Pregnancy <and> <,> breast-feeding <and fertility>' | Matched :- 'False'eo-4874 EN PI_ PACKAGE LEAFLET.json | Doc txt :- 'These symptoms\n",
      " may affect up to 1 in every 10 people).' | Qrd txt :- 'This leaflet was last revised in <{MM/YYYY}><{month YYYY}>.' | Matched :- 'False'N PI_ PACKAGE LEAFLET.json | Doc txt :- 'These symptoms\n",
      "2021-05-07 18:49:05,882 : Heading Extraction Adakveo-4874 EN PI_ PACKAGE LEAFLET.json : Match Failed | H | CAP |  en | 3 | Adakveo-4874 EN PI_ PACKAGE LEAFLET.json | Doc txt :- 'Other possible side effects' | Qrd txt :- 'Pregnancy <and> <,> breast-feeding <and fertility>' | Matched :- 'False'\n",
      "2021-05-07 18:49:05,920 : Heading Extraction Adakveo-4874 EN PI_ PACKAGE LEAFLET.json : Match Failed In Lowercase | H | CAP |  en | 3 | Adakveo-4874 EN PI_ PACKAGE LEAFLET.json | Doc txt :- 'Other possible side effects' | Qrd txt :- '4. Possible side effects' | Matched :- 'False'\n",
      "2021-05-07 18:49:05,974 : Heading Extraction Adakveo-4874 EN PI_ PACKAGE LEAFLET.json : Match Failed | H | CAP |  en | 3 | Adakveo-4874 EN PI_ PACKAGE LEAFLET.json | Doc txt :- 'Other possible side effects' | Qrd txt :- 'This leaflet was last revised in <{MM/YYYY}><{month YYYY}>.' | Matched :- 'False'\n"
     ]
    },
    {
     "name": "stdout",
     "output_type": "stream",
     "text": [
      "\n",
      "OriginalCheck\n",
      "('<=4|22.22|(82, 88, 90)|0.85|', 'Other possible side effects', '4. Possible side effects')\n",
      "\n"
     ]
    },
    {
     "name": "stderr",
     "output_type": "stream",
     "text": [
      " severe, tell your doctor or nurse.' | Qrd txt :- 'Pregnancy <and> <,> breast-feeding <and fertility>' | Matched :- 'False'Adakveo-4874 EN PI_ PACKAGE LEAFLET.json | Doc txt :- 'Other\n",
      " severe, tell your doctor or nurse.' | Qrd txt :- 'This leaflet was last revised in <{MM/YYYY}><{month YYYY}>.' | Matched :- 'False'874 EN PI_ PACKAGE LEAFLET.json | Doc txt :- 'Other\n",
      " common (may affect more than 1 in 10 people)' | Qrd txt :- 'Pregnancy <and> <,> breast-feeding <and fertility>' | Matched :- 'False'74 EN PI_ PACKAGE LEAFLET.json | Doc txt :- 'Very\n",
      " common (may affect more than 1 in 10 people)' | Qrd txt :- 'This leaflet was last revised in <{MM/YYYY}><{month YYYY}>.' | Matched :- 'False' PACKAGE LEAFLET.json | Doc txt :- 'Very\n",
      "2021-05-07 18:49:06,984 : Heading Extraction Adakveo-4874 EN PI_ PACKAGE LEAFLET.json : Match Failed | H | CAP |  en | 3 | Adakveo-4874 EN PI_ PACKAGE LEAFLET.json | Doc txt :- '-pain in the joints (arthralgia)' | Qrd txt :- 'Pregnancy <and> <,> breast-feeding <and fertility>' | Matched :- 'False'\n",
      "2021-05-07 18:49:07,134 : Heading Extraction Adakveo-4874 EN PI_ PACKAGE LEAFLET.json : Match Failed | H | CAP |  en | 3 | Adakveo-4874 EN PI_ PACKAGE LEAFLET.json | Doc txt :- '-pain in the joints (arthralgia)' | Qrd txt :- 'This leaflet was last revised in <{MM/YYYY}><{month YYYY}>.' | Matched :- 'False'\n",
      "2021-05-07 18:49:07,273 : Heading Extraction Adakveo-4874 EN PI_ PACKAGE LEAFLET.json : Match Failed | H | CAP |  en | 3 | Adakveo-4874 EN PI_ PACKAGE LEAFLET.json | Doc txt :- '-back pain' | Qrd txt :- 'Pregnancy <and> <,> breast-feeding <and fertility>' | Matched :- 'False'\n",
      " and abdominal discomfort' | Qrd txt :- 'Pregnancy <and> <,> breast-feeding <and fertility>' | Matched :- 'False' en | 3 | Adakveo-4874 EN PI_ PACKAGE LEAFLET.json | Doc txt :- '-pain in the lower or upper abdomen, feeling of tenderness in the abdomen\n",
      " and abdominal discomfort' | Qrd txt :- 'This leaflet was last revised in <{MM/YYYY}><{month YYYY}>.' | Matched :- 'False' Adakveo-4874 EN PI_ PACKAGE LEAFLET.json | Doc txt :- '-pain in the lower or upper abdomen, feeling of tenderness in the abdomen\n",
      " (may affect up to 1 in every 10 people)' | Qrd txt :- 'Pregnancy <and> <,> breast-feeding <and fertility>' | Matched :- 'False'eo-4874 EN PI_ PACKAGE LEAFLET.json | Doc txt :- 'Common\n",
      " (may affect up to 1 in every 10 people)' | Qrd txt :- 'This leaflet was last revised in <{MM/YYYY}><{month YYYY}>.' | Matched :- 'False'N PI_ PACKAGE LEAFLET.json | Doc txt :- 'Common\n",
      "2021-05-07 18:49:08,718 : Heading Extraction Adakveo-4874 EN PI_ PACKAGE LEAFLET.json : Match Failed | H | CAP |  en | 3 | Adakveo-4874 EN PI_ PACKAGE LEAFLET.json | Doc txt :- '-diarrhoea' | Qrd txt :- 'Pregnancy <and> <,> breast-feeding <and fertility>' | Matched :- 'False'\n",
      "2021-05-07 18:49:08,904 : Heading Extraction Adakveo-4874 EN PI_ PACKAGE LEAFLET.json : Match Failed | H | CAP |  en | 3 | Adakveo-4874 EN PI_ PACKAGE LEAFLET.json | Doc txt :- '-itching (including vulvovaginal itching)' | Qrd txt :- 'Pregnancy <and> <,> breast-feeding <and fertility>' | Matched :- 'False'\n",
      "2021-05-07 18:49:09,046 : Heading Extraction Adakveo-4874 EN PI_ PACKAGE LEAFLET.json : Match Failed | H | CAP |  en | 3 | Adakveo-4874 EN PI_ PACKAGE LEAFLET.json | Doc txt :- '-itching (including vulvovaginal itching)' | Qrd txt :- 'This leaflet was last revised in <{MM/YYYY}><{month YYYY}>.' | Matched :- 'False'\n",
      "2021-05-07 18:49:09,311 : Heading Extraction Adakveo-4874 EN PI_ PACKAGE LEAFLET.json : Match Failed | H | CAP |  en | 3 | Adakveo-4874 EN PI_ PACKAGE LEAFLET.json | Doc txt :- '-muscle pain (myalgia)' | Qrd txt :- 'Pregnancy <and> <,> breast-feeding <and fertility>' | Matched :- 'False'\n",
      "2021-05-07 18:49:09,438 : Heading Extraction Adakveo-4874 EN PI_ PACKAGE LEAFLET.json : Match Failed | H | CAP |  en | 3 | Adakveo-4874 EN PI_ PACKAGE LEAFLET.json | Doc txt :- '-muscle pain (myalgia)' | Qrd txt :- 'This leaflet was last revised in <{MM/YYYY}><{month YYYY}>.' | Matched :- 'False'\n",
      "2021-05-07 18:49:09,749 : Heading Extraction Adakveo-4874 EN PI_ PACKAGE LEAFLET.json : Match Failed | H | CAP |  en | 3 | Adakveo-4874 EN PI_ PACKAGE LEAFLET.json | Doc txt :- '-pain in the muscles or bones of the chest (musculoskeletal chest pain)' | Qrd txt :- 'Pregnancy <and> <,> breast-feeding <and fertility>' | Matched :- 'False'\n",
      "2021-05-07 18:49:10,187 : Heading Extraction Adakveo-4874 EN PI_ PACKAGE LEAFLET.json : Match Failed | H | CAP |  en | 3 | Adakveo-4874 EN PI_ PACKAGE LEAFLET.json | Doc txt :- '-pain in the muscles or bones of the chest (musculoskeletal chest pain)' | Qrd txt :- 'This leaflet was last revised in <{MM/YYYY}><{month YYYY}>.' | Matched :- 'False'\n",
      "2021-05-07 18:49:10,368 : Heading Extraction Adakveo-4874 EN PI_ PACKAGE LEAFLET.json : Match Failed | H | CAP |  en | 3 | Adakveo-4874 EN PI_ PACKAGE LEAFLET.json | Doc txt :- '-sore throat (oropharyngeal pain)' | Qrd txt :- 'Pregnancy <and> <,> breast-feeding <and fertility>' | Matched :- 'False'\n",
      "2021-05-07 18:49:10,501 : Heading Extraction Adakveo-4874 EN PI_ PACKAGE LEAFLET.json : Match Failed | H | CAP |  en | 3 | Adakveo-4874 EN PI_ PACKAGE LEAFLET.json | Doc txt :- '-sore throat (oropharyngeal pain)' | Qrd txt :- 'This leaflet was last revised in <{MM/YYYY}><{month YYYY}>.' | Matched :- 'False'\n",
      "2021-05-07 18:49:10,678 : Heading Extraction Adakveo-4874 EN PI_ PACKAGE LEAFLET.json : Match Failed | H | CAP |  en | 3 | Adakveo-4874 EN PI_ PACKAGE LEAFLET.json | Doc txt :- '-redness or swelling and pain at the site of the infusion' | Qrd txt :- 'Pregnancy <and> <,> breast-feeding <and fertility>' | Matched :- 'False'\n",
      "2021-05-07 18:49:11,166 : Heading Extraction Adakveo-4874 EN PI_ PACKAGE LEAFLET.json : Match Failed | H | CAP |  en | 3 | Adakveo-4874 EN PI_ PACKAGE LEAFLET.json | Doc txt :- '-redness or swelling and pain at the site of the infusion' | Qrd txt :- 'This leaflet was last revised in <{MM/YYYY}><{month YYYY}>.' | Matched :- 'False'\n",
      " of side effects' | Qrd txt :- 'Pregnancy <and> <,> breast-feeding <and fertility>' | Matched :- 'False' | CAP |  en | 3 | Adakveo-4874 EN PI_ PACKAGE LEAFLET.json | Doc txt :- 'Reporting\n",
      " of side effects' | Qrd txt :- 'Reporting of side effects' | Matched :- 'True'ET.json : Match Passed | H | CAP |  en | 3 | Adakveo-4874 EN PI_ PACKAGE LEAFLET.json | Doc txt :- 'Reporting\n",
      "2021-05-07 18:49:11,671 : Heading Extraction Adakveo-4874 EN PI_ PACKAGE LEAFLET.json : Validation Flow Is Broken | H | CAP |  en | 3 | Adakveo-4874 EN PI_ PACKAGE LEAFLET.json | currHeadId :- '23021' | currParentHeadId :- '23019.0' | prevParentHeadId :- '23019'\n",
      "2021-05-07 18:49:11,682 : Heading Extraction Adakveo-4874 EN PI_ PACKAGE LEAFLET.json : Validation Passed | H | CAP |  en | 3 | Adakveo-4874 EN PI_ PACKAGE LEAFLET.json | currHeadId :- '23021' | currParentHeadId :- '23019.0' | prevParentHeadId :- '23019'\n"
     ]
    },
    {
     "name": "stdout",
     "output_type": "stream",
     "text": [
      "Reporting\r",
      " of side effects  |===|  Reporting of side effects\n",
      "True  ||    ||  Reporting\r",
      " of side effects  ||  Reporting of side effects\n"
     ]
    },
    {
     "name": "stderr",
     "output_type": "stream",
     "text": [
      "2021-05-07 18:49:11,855 : Heading Extraction Adakveo-4874 EN PI_ PACKAGE LEAFLET.json : Match Failed | H | CAP |  en | 3 | Adakveo-4874 EN PI_ PACKAGE LEAFLET.json | Doc txt :- '5.       How to store Adakveo' | Qrd txt :- 'Pregnancy <and> <,> breast-feeding <and fertility>' | Matched :- 'False'\n",
      "2021-05-07 18:49:11,892 : Heading Extraction Adakveo-4874 EN PI_ PACKAGE LEAFLET.json : Match Failed | H | CAP |  en | 3 | Adakveo-4874 EN PI_ PACKAGE LEAFLET.json | Doc txt :- '5.       How to store Adakveo' | Qrd txt :- '3. How to <take> <use> Aerius ' | Matched :- 'False'\n",
      "2021-05-07 18:49:12,198 : Heading Extraction Adakveo-4874 EN PI_ PACKAGE LEAFLET.json : Match Failed | H | CAP |  en | 3 | Adakveo-4874 EN PI_ PACKAGE LEAFLET.json | Doc txt :- '5.       How to store Adakveo' | Qrd txt :- 'This leaflet was last revised in <{MM/YYYY}><{month YYYY}>.' | Matched :- 'False'\n",
      " medicine out of the sight and reach of children.' | Qrd txt :- 'Pregnancy <and> <,> breast-feeding <and fertility>' | Matched :- 'False'N PI_ PACKAGE LEAFLET.json | Doc txt :- 'Keep this\n",
      " medicine out of the sight and reach of children.' | Qrd txt :- 'This leaflet was last revised in <{MM/YYYY}><{month YYYY}>.' | Matched :- 'False'KAGE LEAFLET.json | Doc txt :- 'Keep this\n",
      " the label after “EXP”. The expiry date refers to the last day of that month.' | Qrd txt :- 'Pregnancy <and> <,> breast-feeding <and fertility>' | Matched :- 'False' Doc txt :- 'Do not\n",
      " the label after “EXP”. The expiry date refers to the last day of that month.' | Qrd txt :- 'This leaflet was last revised in <{MM/YYYY}><{month YYYY}>.' | Matched :- 'False':- 'Do not\n",
      " (2°C – 8°C). Do not freeze.' | Qrd txt :- 'Pregnancy <and> <,> breast-feeding <and fertility>' | Matched :- 'False' | 3 | Adakveo-4874 EN PI_ PACKAGE LEAFLET.json | Doc txt :- 'Keep the vial in\n",
      " (2°C – 8°C). Do not freeze.' | Qrd txt :- 'This leaflet was last revised in <{MM/YYYY}><{month YYYY}>.' | Matched :- 'False'akveo-4874 EN PI_ PACKAGE LEAFLET.json | Doc txt :- 'Keep the vial in\n",
      " solutions should be used immediately after dilution.' | Qrd txt :- 'Pregnancy <and> <,> breast-feeding <and fertility>' | Matched :- 'False'_ PACKAGE LEAFLET.json | Doc txt :- 'Infusion\n",
      " solutions should be used immediately after dilution.' | Qrd txt :- 'This leaflet was last revised in <{MM/YYYY}><{month YYYY}>.' | Matched :- 'False' LEAFLET.json | Doc txt :- 'Infusion\n",
      "2021-05-07 18:49:15,660 : Heading Extraction Adakveo-4874 EN PI_ PACKAGE LEAFLET.json : Match Failed | H | CAP |  en | 3 | Adakveo-4874 EN PI_ PACKAGE LEAFLET.json | Doc txt :- '6.       Contents of the pack and other information' | Qrd txt :- 'Pregnancy <and> <,> breast-feeding <and fertility>' | Matched :- 'False'\n",
      "2021-05-07 18:49:15,845 : Heading Extraction Adakveo-4874 EN PI_ PACKAGE LEAFLET.json : Match Passed | H | CAP |  en | 3 | Adakveo-4874 EN PI_ PACKAGE LEAFLET.json | Doc txt :- '6.       Contents of the pack and other information' | Qrd txt :- '6. Contents of the pack and other information' | Matched :- 'True'\n",
      "2021-05-07 18:49:15,879 : Heading Extraction Adakveo-4874 EN PI_ PACKAGE LEAFLET.json : Validation Flow Is Broken | H | CAP |  en | 3 | Adakveo-4874 EN PI_ PACKAGE LEAFLET.json | currHeadId :- '23023' | currParentHeadId :- '23001.0' | prevParentHeadId :- '23021'\n",
      "2021-05-07 18:49:15,891 : Heading Extraction Adakveo-4874 EN PI_ PACKAGE LEAFLET.json : Validation Passed | H | CAP |  en | 3 | Adakveo-4874 EN PI_ PACKAGE LEAFLET.json | currHeadId :- '23023' | currParentHeadId :- '23001.0' | prevParentHeadId :- '23021'\n",
      "2021-05-07 18:49:15,989 : Heading Extraction Adakveo-4874 EN PI_ PACKAGE LEAFLET.json : Match Failed | H | CAP |  en | 3 | Adakveo-4874 EN PI_ PACKAGE LEAFLET.json | Doc txt :- 'What Adakveo contains' | Qrd txt :- 'Pregnancy <and> <,> breast-feeding <and fertility>' | Matched :- 'False'\n"
     ]
    },
    {
     "name": "stdout",
     "output_type": "stream",
     "text": [
      "6.       Contents of the pack and other information  |===|  6. Contents of the pack and other information\n",
      "True  ||    ||  6.       Contents of the pack and other information  ||  6. Contents of the pack and other information\n"
     ]
    },
    {
     "name": "stderr",
     "output_type": "stream",
     "text": [
      "2021-05-07 18:49:16,112 : Heading Extraction Adakveo-4874 EN PI_ PACKAGE LEAFLET.json : Match Failed | H | CAP |  en | 3 | Adakveo-4874 EN PI_ PACKAGE LEAFLET.json | Doc txt :- 'What Adakveo contains' | Qrd txt :- 'This leaflet was last revised in <{MM/YYYY}><{month YYYY}>.' | Matched :- 'False'\n",
      " 10 ml vial contains 100 mg of crizanlizumab.' | Qrd txt :- 'Pregnancy <and> <,> breast-feeding <and fertility>' | Matched :- 'False'74 EN PI_ PACKAGE LEAFLET.json | Doc txt :- '-The active substance is crizanlizumab. Each\n",
      " 10 ml vial contains 100 mg of crizanlizumab.' | Qrd txt :- 'This leaflet was last revised in <{MM/YYYY}><{month YYYY}>.' | Matched :- 'False' PACKAGE LEAFLET.json | Doc txt :- '-The active substance is crizanlizumab. Each\n",
      " (E433) and water for injections.' | Qrd txt :- 'Pregnancy <and> <,> breast-feeding <and fertility>' | Matched :- 'False'| Adakveo-4874 EN PI_ PACKAGE LEAFLET.json | Doc txt :- '-The other ingredients are sucrose, sodium\n",
      "Request time out. Ingestion may be backed up. Retrying.\n",
      " (E433) and water for injections.' | Qrd txt :- 'This leaflet was last revised in <{MM/YYYY}><{month YYYY}>.' | Matched :- 'False'-4874 EN PI_ PACKAGE LEAFLET.json | Doc txt :- '-The other ingredients are sucrose, sodium\n",
      "2021-05-07 18:49:17,595 : Heading Extraction Adakveo-4874 EN PI_ PACKAGE LEAFLET.json : Match Failed | H | CAP |  en | 3 | Adakveo-4874 EN PI_ PACKAGE LEAFLET.json | Doc txt :- 'What Adakveo looks like and contents of the pack' | Qrd txt :- 'Pregnancy <and> <,> breast-feeding <and fertility>' | Matched :- 'False'\n",
      "2021-05-07 18:49:17,704 : Heading Extraction Adakveo-4874 EN PI_ PACKAGE LEAFLET.json : Match Failed In Lowercase | H | CAP |  en | 3 | Adakveo-4874 EN PI_ PACKAGE LEAFLET.json | Doc txt :- 'What Adakveo looks like and contents of the pack' | Qrd txt :- 'What Aerius looks like and contents of the pack' | Matched :- 'False'\n",
      "2021-05-07 18:49:17,753 : Heading Extraction Adakveo-4874 EN PI_ PACKAGE LEAFLET.json : Match Failed | H | CAP |  en | 3 | Adakveo-4874 EN PI_ PACKAGE LEAFLET.json | Doc txt :- 'What Adakveo looks like and contents of the pack' | Qrd txt :- 'This leaflet was last revised in <{MM/YYYY}><{month YYYY}>.' | Matched :- 'False'\n"
     ]
    },
    {
     "name": "stdout",
     "output_type": "stream",
     "text": [
      "\n",
      "OriginalCheck\n",
      "('>7|12.5|(91, 89, 91)|0.93|', 'What Adakveo looks like and contents of the pack', 'What Aerius looks like and contents of the pack')\n",
      "\n"
     ]
    },
    {
     "name": "stderr",
     "output_type": "stream",
     "text": [
      " liquid.' | Qrd txt :- 'Pregnancy <and> <,> breast-feeding <and fertility>' | Matched :- 'False'iled | H | CAP |  en | 3 | Adakveo-4874 EN PI_ PACKAGE LEAFLET.json | Doc txt :- 'Adakveo\n",
      " liquid.' | Qrd txt :- 'This leaflet was last revised in <{MM/YYYY}><{month YYYY}>.' | Matched :- 'False'| CAP |  en | 3 | Adakveo-4874 EN PI_ PACKAGE LEAFLET.json | Doc txt :- 'Adakveo\n",
      " available in packs containing 1 vial.' | Qrd txt :- 'Pregnancy <and> <,> breast-feeding <and fertility>' | Matched :- 'False'kveo-4874 EN PI_ PACKAGE LEAFLET.json | Doc txt :- 'Adakveo is\n",
      " available in packs containing 1 vial.' | Qrd txt :- 'This leaflet was last revised in <{MM/YYYY}><{month YYYY}>.' | Matched :- 'False' EN PI_ PACKAGE LEAFLET.json | Doc txt :- 'Adakveo is\n",
      "2021-05-07 18:49:19,172 : Heading Extraction Adakveo-4874 EN PI_ PACKAGE LEAFLET.json : Match Failed | H | CAP |  en | 3 | Adakveo-4874 EN PI_ PACKAGE LEAFLET.json | Doc txt :- 'Marketing Authorisation Holder' | Qrd txt :- 'Pregnancy <and> <,> breast-feeding <and fertility>' | Matched :- 'False'\n",
      "2021-05-07 18:49:19,332 : Heading Extraction Adakveo-4874 EN PI_ PACKAGE LEAFLET.json : Match Failed In Lowercase | H | CAP |  en | 3 | Adakveo-4874 EN PI_ PACKAGE LEAFLET.json | Doc txt :- 'Marketing Authorisation Holder' | Qrd txt :- 'Marketing Authorisation Holder and Manufacturer' | Matched :- 'False'\n",
      "2021-05-07 18:49:19,357 : Heading Extraction Adakveo-4874 EN PI_ PACKAGE LEAFLET.json : Match Failed In Lowercase | H | CAP |  en | 3 | Adakveo-4874 EN PI_ PACKAGE LEAFLET.json | Doc txt :- 'Marketing Authorisation Holder' | Qrd txt :- 'For any information about this medicine, please contact the local representative of the Marketing Authorisation Holder:' | Matched :- 'False'\n",
      "2021-05-07 18:49:19,370 : Heading Extraction Adakveo-4874 EN PI_ PACKAGE LEAFLET.json : Match Failed | H | CAP |  en | 3 | Adakveo-4874 EN PI_ PACKAGE LEAFLET.json | Doc txt :- 'Marketing Authorisation Holder' | Qrd txt :- 'This leaflet was last revised in <{MM/YYYY}><{month YYYY}>.' | Matched :- 'False'\n",
      "Retrying due to transient client side error HTTPSConnectionPool(host='dc.services.visualstudio.com', port=443): Max retries exceeded with url: /v2/track (Caused by NewConnectionError('<urllib3.connection.VerifiedHTTPSConnection object at 0x000002700E62CEF0>: Failed to establish a new connection: [Errno 11001] getaddrinfo failed')).\n",
      "2021-05-07 18:49:19,488 : Heading Extraction Adakveo-4874 EN PI_ PACKAGE LEAFLET.json : Match Failed | H | CAP |  en | 3 | Adakveo-4874 EN PI_ PACKAGE LEAFLET.json | Doc txt :- 'Novartis Europharm Limited' | Qrd txt :- 'Pregnancy <and> <,> breast-feeding <and fertility>' | Matched :- 'False'\n"
     ]
    },
    {
     "name": "stdout",
     "output_type": "stream",
     "text": [
      "\n",
      "OriginalCheck\n",
      "('<=7|56.67|(78, 100, 90)|0.95|', 'Marketing Authorisation Holder', 'Marketing Authorisation Holder and Manufacturer')\n",
      "\n",
      "\n",
      "OriginalCheck\n",
      "('>7|296.67|(40, 100, 90)|0.55|', 'Marketing Authorisation Holder', 'For any information about this medicine, please contact the local representative of the Marketing Authorisation Holder:')\n",
      "\n"
     ]
    },
    {
     "name": "stderr",
     "output_type": "stream",
     "text": [
      "2021-05-07 18:49:19,631 : Heading Extraction Adakveo-4874 EN PI_ PACKAGE LEAFLET.json : Match Failed | H | CAP |  en | 3 | Adakveo-4874 EN PI_ PACKAGE LEAFLET.json | Doc txt :- 'Novartis Europharm Limited' | Qrd txt :- 'This leaflet was last revised in <{MM/YYYY}><{month YYYY}>.' | Matched :- 'False'\n",
      "2021-05-07 18:49:19,715 : Heading Extraction Adakveo-4874 EN PI_ PACKAGE LEAFLET.json : Match Failed | H | CAP |  en | 3 | Adakveo-4874 EN PI_ PACKAGE LEAFLET.json | Doc txt :- 'Vista Building' | Qrd txt :- 'Pregnancy <and> <,> breast-feeding <and fertility>' | Matched :- 'False'\n",
      "2021-05-07 18:49:19,787 : Heading Extraction Adakveo-4874 EN PI_ PACKAGE LEAFLET.json : Match Failed | H | CAP |  en | 3 | Adakveo-4874 EN PI_ PACKAGE LEAFLET.json | Doc txt :- 'Vista Building' | Qrd txt :- 'This leaflet was last revised in <{MM/YYYY}><{month YYYY}>.' | Matched :- 'False'\n",
      "2021-05-07 18:49:19,866 : Heading Extraction Adakveo-4874 EN PI_ PACKAGE LEAFLET.json : Match Failed | H | CAP |  en | 3 | Adakveo-4874 EN PI_ PACKAGE LEAFLET.json | Doc txt :- 'Elm Park, Merrion Road' | Qrd txt :- 'Pregnancy <and> <,> breast-feeding <and fertility>' | Matched :- 'False'\n",
      "2021-05-07 18:49:19,960 : Heading Extraction Adakveo-4874 EN PI_ PACKAGE LEAFLET.json : Match Failed | H | CAP |  en | 3 | Adakveo-4874 EN PI_ PACKAGE LEAFLET.json | Doc txt :- 'Elm Park, Merrion Road' | Qrd txt :- 'This leaflet was last revised in <{MM/YYYY}><{month YYYY}>.' | Matched :- 'False'\n",
      "2021-05-07 18:49:20,152 : Heading Extraction Adakveo-4874 EN PI_ PACKAGE LEAFLET.json : Match Failed | H | CAP |  en | 3 | Adakveo-4874 EN PI_ PACKAGE LEAFLET.json | Doc txt :- 'Manufacturer' | Qrd txt :- 'Pregnancy <and> <,> breast-feeding <and fertility>' | Matched :- 'False'\n",
      "2021-05-07 18:49:20,206 : Heading Extraction Adakveo-4874 EN PI_ PACKAGE LEAFLET.json : Match Failed In Lowercase | H | CAP |  en | 3 | Adakveo-4874 EN PI_ PACKAGE LEAFLET.json | Doc txt :- 'Manufacturer' | Qrd txt :- 'Marketing Authorisation Holder and Manufacturer' | Matched :- 'False'\n",
      "2021-05-07 18:49:20,219 : Heading Extraction Adakveo-4874 EN PI_ PACKAGE LEAFLET.json : Match Failed | H | CAP |  en | 3 | Adakveo-4874 EN PI_ PACKAGE LEAFLET.json | Doc txt :- 'Manufacturer' | Qrd txt :- 'This leaflet was last revised in <{MM/YYYY}><{month YYYY}>.' | Matched :- 'False'\n",
      " Pharma GmbH' | Qrd txt :- 'Pregnancy <and> <,> breast-feeding <and fertility>' | Matched :- 'False' | H | CAP |  en | 3 | Adakveo-4874 EN PI_ PACKAGE LEAFLET.json | Doc txt :- 'Novartis\n",
      " Pharma GmbH' | Qrd txt :- 'This leaflet was last revised in <{MM/YYYY}><{month YYYY}>.' | Matched :- 'False'P |  en | 3 | Adakveo-4874 EN PI_ PACKAGE LEAFLET.json | Doc txt :- 'Novartis\n"
     ]
    },
    {
     "name": "stdout",
     "output_type": "stream",
     "text": [
      "\n",
      "OriginalCheck\n",
      "('<=7|291.67|(41, 100, 90)|0.54|', 'Manufacturer', 'Marketing Authorisation Holder and Manufacturer')\n",
      "\n"
     ]
    },
    {
     "name": "stderr",
     "output_type": "stream",
     "text": [
      " 25' | Qrd txt :- 'Pregnancy <and> <,> breast-feeding <and fertility>' | Matched :- 'False'ch Failed | H | CAP |  en | 3 | Adakveo-4874 EN PI_ PACKAGE LEAFLET.json | Doc txt :- 'Roonstrasse\n",
      " 25' | Qrd txt :- 'This leaflet was last revised in <{MM/YYYY}><{month YYYY}>.' | Matched :- 'False' | H | CAP |  en | 3 | Adakveo-4874 EN PI_ PACKAGE LEAFLET.json | Doc txt :- 'Roonstrasse\n",
      " Nuremberg' | Qrd txt :- 'Pregnancy <and> <,> breast-feeding <and fertility>' | Matched :- 'False'ed | H | CAP |  en | 3 | Adakveo-4874 EN PI_ PACKAGE LEAFLET.json | Doc txt :- '90429\n",
      " Nuremberg' | Qrd txt :- 'This leaflet was last revised in <{MM/YYYY}><{month YYYY}>.' | Matched :- 'False'CAP |  en | 3 | Adakveo-4874 EN PI_ PACKAGE LEAFLET.json | Doc txt :- '90429\n",
      " of the Marketing Authorisation Holder:' | Qrd txt :- 'Pregnancy <and> <,> breast-feeding <and fertility>' | Matched :- 'False'veo-4874 EN PI_ PACKAGE LEAFLET.json | Doc txt :- 'For any information about this medicine, please contact the local representative\n",
      " of the Marketing Authorisation Holder:' | Qrd txt :- 'For any information about this medicine, please contact the local representative of the Marketing Authorisation Holder:' | Matched :- 'True'on about this medicine, please contact the local representative\n",
      "2021-05-07 18:49:21,943 : Heading Extraction Adakveo-4874 EN PI_ PACKAGE LEAFLET.json : Validation Flow Is Broken | H | CAP |  en | 3 | Adakveo-4874 EN PI_ PACKAGE LEAFLET.json | currHeadId :- '23027' | currParentHeadId :- '23023.0' | prevParentHeadId :- '23023'\n",
      "2021-05-07 18:49:21,952 : Heading Extraction Adakveo-4874 EN PI_ PACKAGE LEAFLET.json : Validation Passed | H | CAP |  en | 3 | Adakveo-4874 EN PI_ PACKAGE LEAFLET.json | currHeadId :- '23027' | currParentHeadId :- '23023.0' | prevParentHeadId :- '23023'\n"
     ]
    },
    {
     "name": "stdout",
     "output_type": "stream",
     "text": [
      "For any information about this medicine, please contact the local representative\r",
      " of the Marketing Authorisation Holder:  |===|  For any information about this medicine, please contact the local representative of the Marketing Authorisation Holder:\n",
      "True  ||    ||  For any information about this medicine, please contact the local representative\r",
      " of the Marketing Authorisation Holder:  ||  For any information about this medicine, please contact the local representative of the Marketing Authorisation Holder:\n"
     ]
    },
    {
     "name": "stderr",
     "output_type": "stream",
     "text": [
      " was last revised in' | Qrd txt :- 'Pregnancy <and> <,> breast-feeding <and fertility>' | Matched :- 'False'AP |  en | 3 | Adakveo-4874 EN PI_ PACKAGE LEAFLET.json | Doc txt :- 'This leaflet\n",
      " was last revised in' | Qrd txt :- 'This leaflet was last revised in <{MM/YYYY}><{month YYYY}>.' | Matched :- 'True' | 3 | Adakveo-4874 EN PI_ PACKAGE LEAFLET.json | Doc txt :- 'This leaflet\n",
      "2021-05-07 18:49:22,381 : Heading Extraction Adakveo-4874 EN PI_ PACKAGE LEAFLET.json : Validation Passed | H | CAP |  en | 3 | Adakveo-4874 EN PI_ PACKAGE LEAFLET.json | currHeadId :- '23028' | currParentHeadId :- '23023.0' | prevParentHeadId :- '23027'\n"
     ]
    },
    {
     "name": "stdout",
     "output_type": "stream",
     "text": [
      "This leaflet\r",
      " was last revised in  |===|  This leaflet was last revised in <{MM/YYYY}><{month YYYY}>.\n",
      "True  ||  SpecialCase1|84.38|(70, 100, 90)|0.94|  ||  This leaflet\r",
      " was last revised in  ||  This leaflet was last revised in <{MM/YYYY}><{month YYYY}>.\n"
     ]
    },
    {
     "name": "stderr",
     "output_type": "stream",
     "text": [
      " to come about this medicine.' | Qrd txt :- 'Pregnancy <and> <,> breast-feeding <and fertility>' | Matched :- 'False'| 3 | Adakveo-4874 EN PI_ PACKAGE LEAFLET.json | Doc txt :- 'This medicine\n",
      " to come about this medicine.' | Qrd txt :- 'This leaflet was last revised in <{MM/YYYY}><{month YYYY}>.' | Matched :- 'False'kveo-4874 EN PI_ PACKAGE LEAFLET.json | Doc txt :- 'This medicine\n",
      " year and this leaflet will be updated as necessary.' | Qrd txt :- 'Pregnancy <and> <,> breast-feeding <and fertility>' | Matched :- 'False'I_ PACKAGE LEAFLET.json | Doc txt :- 'The European\n",
      " year and this leaflet will be updated as necessary.' | Qrd txt :- 'This leaflet was last revised in <{MM/YYYY}><{month YYYY}>.' | Matched :- 'False'E LEAFLET.json | Doc txt :- 'The European\n",
      "2021-05-07 18:49:25,277 : Heading Extraction Adakveo-4874 EN PI_ PACKAGE LEAFLET.json : Match Failed | H | CAP |  en | 3 | Adakveo-4874 EN PI_ PACKAGE LEAFLET.json | Doc txt :- 'Other sources of information' | Qrd txt :- 'Pregnancy <and> <,> breast-feeding <and fertility>' | Matched :- 'False'\n",
      "2021-05-07 18:49:25,371 : Heading Extraction Adakveo-4874 EN PI_ PACKAGE LEAFLET.json : Match Failed | H | CAP |  en | 3 | Adakveo-4874 EN PI_ PACKAGE LEAFLET.json | Doc txt :- 'Other sources of information' | Qrd txt :- 'This leaflet was last revised in <{MM/YYYY}><{month YYYY}>.' | Matched :- 'False'\n",
      "2021-05-07 18:49:25,373 : Heading Extraction Adakveo-4874 EN PI_ PACKAGE LEAFLET.json : Match Passed | H | CAP |  en | 3 | Adakveo-4874 EN PI_ PACKAGE LEAFLET.json | Doc txt :- 'Other sources of information' | Qrd txt :- 'Other sources of information' | Matched :- 'True'\n",
      "2021-05-07 18:49:25,385 : Heading Extraction Adakveo-4874 EN PI_ PACKAGE LEAFLET.json : Validation Passed | H | CAP |  en | 3 | Adakveo-4874 EN PI_ PACKAGE LEAFLET.json | currHeadId :- '23029' | currParentHeadId :- '23023.0' | prevParentHeadId :- '23028'\n"
     ]
    },
    {
     "name": "stdout",
     "output_type": "stream",
     "text": [
      "Other sources of information  |===|  Other sources of information\n",
      "True  ||    ||  Other sources of information  ||  Other sources of information\n"
     ]
    },
    {
     "name": "stderr",
     "output_type": "stream",
     "text": [
      " site: http://www.ema.europa.eu' | Qrd txt :- 'Pregnancy <and> <,> breast-feeding <and fertility>' | Matched :- 'False'3 | Adakveo-4874 EN PI_ PACKAGE LEAFLET.json | Doc txt :- 'Detailed\n",
      " site: http://www.ema.europa.eu' | Qrd txt :- 'This leaflet was last revised in <{MM/YYYY}><{month YYYY}>.' | Matched :- 'False'eo-4874 EN PI_ PACKAGE LEAFLET.json | Doc txt :- 'Detailed\n",
      " information is intended for healthcare professionals only:' | Qrd txt :- 'Pregnancy <and> <,> breast-feeding <and fertility>' | Matched :- 'False'AGE LEAFLET.json | Doc txt :- 'The following\n",
      " information is intended for healthcare professionals only:' | Qrd txt :- 'This leaflet was last revised in <{MM/YYYY}><{month YYYY}>.' | Matched :- 'False'ET.json | Doc txt :- 'The following\n",
      " information is intended for healthcare professionals only:' | Qrd txt :- 'The following information is intended for healthcare professionals only:' | Matched :- 'True'c txt :- 'The following\n",
      "2021-05-07 18:49:27,439 : Heading Extraction Adakveo-4874 EN PI_ PACKAGE LEAFLET.json : Validation Passed | H | CAP |  en | 3 | Adakveo-4874 EN PI_ PACKAGE LEAFLET.json | currHeadId :- '23030' | currParentHeadId :- '23001.0' | prevParentHeadId :- '23029'\n"
     ]
    },
    {
     "name": "stdout",
     "output_type": "stream",
     "text": [
      "The following\r",
      " information is intended for healthcare professionals only:  |===|  The following information is intended for healthcare professionals only:\n",
      "True  ||    ||  The following\r",
      " information is intended for healthcare professionals only:  ||  The following information is intended for healthcare professionals only:\n"
     ]
    },
    {
     "name": "stderr",
     "output_type": "stream",
     "text": [
      " are for single use only.' | Qrd txt :- 'Pregnancy <and> <,> breast-feeding <and fertility>' | Matched :- 'False' en | 3 | Adakveo-4874 EN PI_ PACKAGE LEAFLET.json | Doc txt :- 'Adakveo vials\n",
      " are for single use only.' | Qrd txt :- 'This leaflet was last revised in <{MM/YYYY}><{month YYYY}>.' | Matched :- 'False' Adakveo-4874 EN PI_ PACKAGE LEAFLET.json | Doc txt :- 'Adakveo vials\n",
      "2021-05-07 18:49:28,008 : Heading Extraction Adakveo-4874 EN PI_ PACKAGE LEAFLET.json : Match Failed | H | CAP |  en | 3 | Adakveo-4874 EN PI_ PACKAGE LEAFLET.json | Doc txt :- 'Preparing the infusion' | Qrd txt :- 'Pregnancy <and> <,> breast-feeding <and fertility>' | Matched :- 'False'\n",
      "2021-05-07 18:49:28,194 : Heading Extraction Adakveo-4874 EN PI_ PACKAGE LEAFLET.json : Match Failed | H | CAP |  en | 3 | Adakveo-4874 EN PI_ PACKAGE LEAFLET.json | Doc txt :- 'Preparing the infusion' | Qrd txt :- 'This leaflet was last revised in <{MM/YYYY}><{month YYYY}>.' | Matched :- 'False'\n",
      " aseptic techniques.' | Qrd txt :- 'Pregnancy <and> <,> breast-feeding <and fertility>' | Matched :- 'False'AP |  en | 3 | Adakveo-4874 EN PI_ PACKAGE LEAFLET.json | Doc txt :- 'The diluted\n",
      " aseptic techniques.' | Qrd txt :- 'This leaflet was last revised in <{MM/YYYY}><{month YYYY}>.' | Matched :- 'False'| 3 | Adakveo-4874 EN PI_ PACKAGE LEAFLET.json | Doc txt :- 'The diluted\n",
      " of crizanlizumab is administered per kg body weight.' | Qrd txt :- 'Pregnancy <and> <,> breast-feeding <and fertility>' | Matched :- 'False'_ PACKAGE LEAFLET.json | Doc txt :- 'The total dose\n",
      " of crizanlizumab is administered per kg body weight.' | Qrd txt :- 'This leaflet was last revised in <{MM/YYYY}><{month YYYY}>.' | Matched :- 'False' LEAFLET.json | Doc txt :- 'The total dose\n",
      " calculated according to the following equation:' | Qrd txt :- 'Pregnancy <and> <,> breast-feeding <and fertility>' | Matched :- 'False'EN PI_ PACKAGE LEAFLET.json | Doc txt :- 'The volume to be used for the preparation of the infusion is\n",
      " calculated according to the following equation:' | Qrd txt :- 'This leaflet was last revised in <{MM/YYYY}><{month YYYY}>.' | Matched :- 'False'CKAGE LEAFLET.json | Doc txt :- 'The volume to be used for the preparation of the infusion is\n",
      "   of Adakveo   [10 mg/ml]   ' | Qrd txt :- 'Pregnancy <and> <,> breast-feeding <and fertility>' | Matched :- 'False'| 3 | Adakveo-4874 EN PI_ PACKAGE LEAFLET.json | Doc txt :- '   Volume (ml) =   Patient’s body weight (kg) x prescribed dose   [5 mg/kg]     Concentration\n",
      "   of Adakveo   [10 mg/ml]   ' | Qrd txt :- 'This leaflet was last revised in <{MM/YYYY}><{month YYYY}>.' | Matched :- 'False'kveo-4874 EN PI_ PACKAGE LEAFLET.json | Doc txt :- '   Volume (ml) =   Patient’s body weight (kg) x prescribed dose   [5 mg/kg]     Concentration\n",
      " 10 ml of Adakveo (see below table).' | Qrd txt :- 'Pregnancy <and> <,> breast-feeding <and fertility>' | Matched :- 'False'dakveo-4874 EN PI_ PACKAGE LEAFLET.json | Doc txt :- '1.       Obtain the number of\n",
      " 10 ml of Adakveo (see below table).' | Qrd txt :- 'This leaflet was last revised in <{MM/YYYY}><{month YYYY}>.' | Matched :- 'False'74 EN PI_ PACKAGE LEAFLET.json | Doc txt :- '1.       Obtain the number of\n",
      "2021-05-07 18:49:33,684 : Heading Extraction Adakveo-4874 EN PI_ PACKAGE LEAFLET.json : Match Failed | H | CAP |  en | 3 | Adakveo-4874 EN PI_ PACKAGE LEAFLET.json | Doc txt :- '   Body weight (kg)   Dose (mg)   Volume (ml)   Vials (n)     40   200   20   2     60   300   30   3     80   400   40   4     100   500   50   5     120   600   60   6   ' | Qrd txt :- 'Pregnancy <and> <,> breast-feeding <and fertility>' | Matched :- 'False'\n",
      "2021-05-07 18:49:33,950 : Heading Extraction Adakveo-4874 EN PI_ PACKAGE LEAFLET.json : Match Failed | H | CAP |  en | 3 | Adakveo-4874 EN PI_ PACKAGE LEAFLET.json | Doc txt :- '   Body weight (kg)   Dose (mg)   Volume (ml)   Vials (n)     40   200   20   2     60   300   30   3     80   400   40   4     100   500   50   5     120   600   60   6   ' | Qrd txt :- 'This leaflet was last revised in <{MM/YYYY}><{month YYYY}>.' | Matched :- 'False'\n",
      "2021-05-07 18:49:34,048 : Heading Extraction Adakveo-4874 EN PI_ PACKAGE LEAFLET.json : Match Failed | H | CAP |  en | 3 | Adakveo-4874 EN PI_ PACKAGE LEAFLET.json | Doc txt :- '2.       Visually inspect the vials.' | Qrd txt :- 'Pregnancy <and> <,> breast-feeding <and fertility>' | Matched :- 'False'\n",
      "2021-05-07 18:49:34,156 : Heading Extraction Adakveo-4874 EN PI_ PACKAGE LEAFLET.json : Match Failed | H | CAP |  en | 3 | Adakveo-4874 EN PI_ PACKAGE LEAFLET.json | Doc txt :- '2.       Visually inspect the vials.' | Qrd txt :- 'This leaflet was last revised in <{MM/YYYY}><{month YYYY}>.' | Matched :- 'False'\n",
      " opalescent. Do not use if particles are present in the solution.' | Qrd txt :- 'Pregnancy <and> <,> breast-feeding <and fertility>' | Matched :- 'False'AFLET.json | Doc txt :- '-The solution in the vials should be clear to\n",
      " opalescent. Do not use if particles are present in the solution.' | Qrd txt :- 'This leaflet was last revised in <{MM/YYYY}><{month YYYY}>.' | Matched :- 'False'n | Doc txt :- '-The solution in the vials should be clear to\n",
      " slight brownish‑yellow tint.' | Qrd txt :- 'Pregnancy <and> <,> breast-feeding <and fertility>' | Matched :- 'False'| 3 | Adakveo-4874 EN PI_ PACKAGE LEAFLET.json | Doc txt :- '-The solution should be colourless or may have a\n",
      " slight brownish‑yellow tint.' | Qrd txt :- 'This leaflet was last revised in <{MM/YYYY}><{month YYYY}>.' | Matched :- 'False'kveo-4874 EN PI_ PACKAGE LEAFLET.json | Doc txt :- '-The solution should be colourless or may have a\n",
      " containing either sodium chloride 9 mg/ml (0.9%) solution for injection or dextrose 5% and discard.' | Qrd txt :- 'Pregnancy <and> <,> breast-feeding <and fertility>' | Matched :- 'False'ithdraw a volume\n",
      " containing either sodium chloride 9 mg/ml (0.9%) solution for injection or dextrose 5% and discard.' | Qrd txt :- 'This leaflet was last revised in <{MM/YYYY}><{month YYYY}>.' | Matched :- 'False' volume\n",
      " (PE) and polypropylene (PP) have been observed.' | Qrd txt :- 'Pregnancy <and> <,> breast-feeding <and fertility>' | Matched :- 'False'EN PI_ PACKAGE LEAFLET.json | Doc txt :- '-No incompatibilities between the diluted Adakveo\n",
      " (PE) and polypropylene (PP) have been observed.' | Qrd txt :- 'This leaflet was last revised in <{MM/YYYY}><{month YYYY}>.' | Matched :- 'False'CKAGE LEAFLET.json | Doc txt :- '-No incompatibilities between the diluted Adakveo\n",
      " infusion bag.' | Qrd txt :- 'Pregnancy <and> <,> breast-feeding <and fertility>' | Matched :- 'False' H | CAP |  en | 3 | Adakveo-4874 EN PI_ PACKAGE LEAFLET.json | Doc txt :- '4.       Withdraw the necessary\n",
      " infusion bag.' | Qrd txt :- 'This leaflet was last revised in <{MM/YYYY}><{month YYYY}>.' | Matched :- 'False'|  en | 3 | Adakveo-4874 EN PI_ PACKAGE LEAFLET.json | Doc txt :- '4.       Withdraw the necessary\n",
      " products through the same intravenous line.' | Qrd txt :- 'Pregnancy <and> <,> breast-feeding <and fertility>' | Matched :- 'False'874 EN PI_ PACKAGE LEAFLET.json | Doc txt :- '-The solution must not be mixed or co‑administered with other medicinal\n",
      " products through the same intravenous line.' | Qrd txt :- 'This leaflet was last revised in <{MM/YYYY}><{month YYYY}>.' | Matched :- 'False'_ PACKAGE LEAFLET.json | Doc txt :- '-The solution must not be mixed or co‑administered with other medicinal\n",
      " concentration in the infusion bag within 1 mg/ml to 9.6 mg/ml.' | Qrd txt :- 'Pregnancy <and> <,> breast-feeding <and fertility>' | Matched :- 'False'LEAFLET.json | Doc txt :- '-Keep the volume of Adakveo added to the infusion\n",
      " concentration in the infusion bag within 1 mg/ml to 9.6 mg/ml.' | Qrd txt :- 'This leaflet was last revised in <{MM/YYYY}><{month YYYY}>.' | Matched :- 'False'son | Doc txt :- '-Keep the volume of Adakveo added to the infusion\n",
      " diluted solution by gently inverting the infusion bag. DO NOT SHAKE.' | Qrd txt :- 'Pregnancy <and> <,> breast-feeding <and fertility>' | Matched :- 'False'T.json | Doc txt :- '5.       Mix the\n",
      " diluted solution by gently inverting the infusion bag. DO NOT SHAKE.' | Qrd txt :- 'This leaflet was last revised in <{MM/YYYY}><{month YYYY}>.' | Matched :- 'False'Doc txt :- '5.       Mix the\n"
     ]
    },
    {
     "name": "stderr",
     "output_type": "stream",
     "text": [
      "2021-05-07 18:49:39,453 : Heading Extraction Adakveo-4874 EN PI_ PACKAGE LEAFLET.json : Match Failed | H | CAP |  en | 3 | Adakveo-4874 EN PI_ PACKAGE LEAFLET.json | Doc txt :- 'Storage of the diluted solution' | Qrd txt :- 'Pregnancy <and> <,> breast-feeding <and fertility>' | Matched :- 'False'\n",
      "2021-05-07 18:49:39,570 : Heading Extraction Adakveo-4874 EN PI_ PACKAGE LEAFLET.json : Match Failed | H | CAP |  en | 3 | Adakveo-4874 EN PI_ PACKAGE LEAFLET.json | Doc txt :- 'Storage of the diluted solution' | Qrd txt :- 'This leaflet was last revised in <{MM/YYYY}><{month YYYY}>.' | Matched :- 'False'\n",
      " overall.' | Qrd txt :- 'Pregnancy <and> <,> breast-feeding <and fertility>' | Matched :- 'False'led | H | CAP |  en | 3 | Adakveo-4874 EN PI_ PACKAGE LEAFLET.json | Doc txt :- 'Chemical and\n",
      " overall.' | Qrd txt :- 'This leaflet was last revised in <{MM/YYYY}><{month YYYY}>.' | Matched :- 'False' CAP |  en | 3 | Adakveo-4874 EN PI_ PACKAGE LEAFLET.json | Doc txt :- 'Chemical and\n",
      "2021-05-07 18:49:40,836 : Heading Extraction Adakveo-4874 EN PI_ PACKAGE LEAFLET.json : Match Failed | H | CAP |  en | 3 | Adakveo-4874 EN PI_ PACKAGE LEAFLET.json | Doc txt :- 'Administration' | Qrd txt :- 'Pregnancy <and> <,> breast-feeding <and fertility>' | Matched :- 'False'\n",
      "2021-05-07 18:49:40,951 : Heading Extraction Adakveo-4874 EN PI_ PACKAGE LEAFLET.json : Match Failed | H | CAP |  en | 3 | Adakveo-4874 EN PI_ PACKAGE LEAFLET.json | Doc txt :- 'Administration' | Qrd txt :- 'This leaflet was last revised in <{MM/YYYY}><{month YYYY}>.' | Matched :- 'False'\n",
      " chloride 9 mg/ml (0.9%) solution for injection or dextrose 5%.' | Qrd txt :- 'Pregnancy <and> <,> breast-feeding <and fertility>' | Matched :- 'False'LEAFLET.json | Doc txt :- 'After\n",
      " chloride 9 mg/ml (0.9%) solution for injection or dextrose 5%.' | Qrd txt :- 'This leaflet was last revised in <{MM/YYYY}><{month YYYY}>.' | Matched :- 'False'son | Doc txt :- 'After\n",
      " requirements.' | Qrd txt :- 'Pregnancy <and> <,> breast-feeding <and fertility>' | Matched :- 'False' H | CAP |  en | 3 | Adakveo-4874 EN PI_ PACKAGE LEAFLET.json | Doc txt :- 'Any unused\n",
      " requirements.' | Qrd txt :- 'This leaflet was last revised in <{MM/YYYY}><{month YYYY}>.' | Matched :- 'False'|  en | 3 | Adakveo-4874 EN PI_ PACKAGE LEAFLET.json | Doc txt :- 'Any unused\n",
      "2021-05-07 18:49:42,575 : Flow Logger HTML_K : Completed Heading Extraction For File | H | CAP |  en | HTML | Adakveo-4874 EN PI.html\n",
      "2021-05-07 18:49:42,576 : Flow Logger HTML_K : Starting Document Annotation For File | H | CAP |  en | HTML | Adakveo-4874 EN PI.html\n",
      "2021-05-07 18:49:42,587 : Flow Logger HTML_K : Completed Document Annotation | H | CAP |  en | HTML | Adakveo-4874 EN PI.html\n",
      "2021-05-07 18:49:42,589 : Flow Logger HTML_K : Starting Extracting Content Between Heading | H | CAP |  en | HTML | Adakveo-4874 EN PI.html\n",
      "2021-05-07 18:49:42,595 : ExtractContentBetween_3 : Cleaning Match Results | H | CAP |  en | 3 | Adakveo-4874 EN PI_ PACKAGE LEAFLET.json\n",
      "2021-05-07 18:49:42,602 : ExtractContentBetween_3 : Finished Cleaning Match Results | H | CAP |  en | 3 | Adakveo-4874 EN PI_ PACKAGE LEAFLET.json\n",
      "2021-05-07 18:49:42,635 : Flow Logger HTML_K : Completed Extracting Content Between Heading | H | CAP |  en | HTML | Adakveo-4874 EN PI.html\n",
      "2021-05-07 18:49:42,688 : XmlGeneration_3 : PMS/OMS Annotation Information Not Retrieved | H | CAP |  en | 3 | Adakveo-4874 EN PI_ PACKAGE LEAFLET.json\n",
      "2021-05-07 18:49:42,690 : XmlGeneration_3 : Initiating XML Generation | H | CAP |  en | 3 | Adakveo-4874 EN PI_ PACKAGE LEAFLET.json\n"
     ]
    },
    {
     "name": "stdout",
     "output_type": "stream",
     "text": [
      "\n",
      "\n",
      "Heading Not Found \n",
      " ['q This medicine is subject to additional monitoring. This will allow quick identification of new safety information. You can help by reporting any side effects you may get. See the end of section 4 for how to report side effects.', 'What X is and what it is used for', 'Do not <take> <use> X', 'Other medicines and X', 'X with <food> <and> <,> <drink> <and> <alcohol>', 'X contains {name the excipient(s)}', 'How to <take> <use> X ', 'Use in children <and adolescents>', 'If you <take> <use> more X than you should', 'If you forget to <take> <use> X>', 'If you stop <taking> <using> X>', 'Additional side effects in children <and adolescents>', 'How to store X', 'What X contains ', 'What X looks like and contents of the pack', 'Marketing Authorisation Holder and Manufacturer']\n",
      "\n",
      "\n",
      "dict_keys(['q This medicine is subject to additional monitoring. This will allow quick identification of new safety information. You can help by reporting any side effects you may get. See the end of section 4 for how to report side effects.', '2. What you need to know before you <take> <use> Aerius ', '4. Possible side effects', '6. Contents of the pack and other information'])\n",
      "Completed Heading Extraction For File\n",
      "Starting Document Annotation For File :- Adakveo-4874 EN PI_ PACKAGE LEAFLET.json\n",
      "Error Found\n",
      "Completed Document Annotation\n",
      "Starting Extracting Content Between Heading For File :- Adakveo-4874 EN PI_ PACKAGE LEAFLET.json\n",
      "File being processed: F:\\Projects\\EMA\\Repository\\EMA EPI PoC\\function_code\\data\\partitionedJSONs\\H\\CAP\\en\\Adakveo-4874 EN PI_ PACKAGE LEAFLET.json\n",
      "--------------------------------------------\n",
      "Completed Extracting Content Between Heading\n",
      "Already Exists\n"
     ]
    },
    {
     "name": "stderr",
     "output_type": "stream",
     "text": [
      "2021-05-07 18:49:42,789 : XmlGeneration_3 : Writing to File:Adakveo-4874 EN PI_ PACKAGE LEAFLET.xml | H | CAP |  en | 3 | Adakveo-4874 EN PI_ PACKAGE LEAFLET.json\n",
      "2021-05-07 18:49:45,404 : XML Submission Logger_3 : Initiating Submission To FHIR Server | H | CAP |  en | 3 | Adakveo-4874 EN PI_ PACKAGE LEAFLET.json\n",
      "2021-05-07 18:49:45,408 : XML Submission Logger_3 : POST sucessful: XML added with id: 47b4a54a-2137-4206-8200-6ca045b75671 | H | CAP |  en | 3 | Adakveo-4874 EN PI_ PACKAGE LEAFLET.json\n",
      "2021-05-07 18:49:45,412 : Flow Logger HTML_K : Completed Processing Partitioned Jsons | H | CAP |  en | HTML | Adakveo-4874 EN PI.html\n"
     ]
    },
    {
     "name": "stdout",
     "output_type": "stream",
     "text": [
      "POST sucessful: XML added with id 47b4a54a-2137-4206-8200-6ca045b75671\n",
      "Created XML File For :- Adakveo-4874 EN PI_ PACKAGE LEAFLET.json\n"
     ]
    }
   ],
   "source": [
    "parseDocument(\"F:\\\\Projects\\\\EMA\\\\Repository\\\\EMA EPI PoC\\\\function_code\\\\data\\\\converted_to_html\\\\H\\\\CAP\\\\en\\\\Adakveo-4874 EN PI.html\", fileNameQrd, fileNameMatchRuleBook, fileNameDocumentTypeNames, medName = \"Aerius\", fsMountName = '/mounted', localEnv= True)"
   ]
  },
  {
   "cell_type": "code",
   "execution_count": null,
   "metadata": {},
   "outputs": [],
   "source": []
  }
 ],
 "metadata": {
  "kernelspec": {
   "display_name": "Python 3",
   "language": "python",
   "name": "python3"
  },
  "language_info": {
   "codemirror_mode": {
    "name": "ipython",
    "version": 3
   },
   "file_extension": ".py",
   "mimetype": "text/x-python",
   "name": "python",
   "nbconvert_exporter": "python",
   "pygments_lexer": "ipython3",
   "version": "3.7.3"
  }
 },
 "nbformat": 4,
 "nbformat_minor": 4
}
