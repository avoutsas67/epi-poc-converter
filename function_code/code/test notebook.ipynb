{
 "cells": [
  {
   "cell_type": "code",
   "execution_count": 3,
   "metadata": {},
   "outputs": [],
   "source": [
    "import pprint\n",
    "import pandas as pd\n",
    "import uuid\n",
    "import json\n",
    "import os\n",
    "import glob\n",
    "import re\n",
    "import sys\n",
    "from bs4 import NavigableString, BeautifulSoup\n",
    "from collections import defaultdict\n",
    "import random\n",
    "import string\n",
    "\n",
    "from utils.config import config\n",
    "from utils.logger.logger import loggerCreator\n",
    "from parse.rulebook.rulebook import styleRuleDict, styleFeatureKeyList\n",
    "from parse.extractor.parser import parserExtractor"
   ]
  },
  {
   "cell_type": "code",
   "execution_count": 4,
   "metadata": {},
   "outputs": [],
   "source": [
    "def getRandomString(N):\n",
    "    str_ = ''.join(random.choice(string.ascii_uppercase + string.digits \\\n",
    "            + string.ascii_lowercase) for _ in range(N))\n",
    "    return str_\n",
    "\n",
    "\n",
    "logger = loggerCreator('Parser_'+ getRandomString(1))\n",
    "parserObj = parserExtractor(config, logger, styleRuleDict, styleFeatureKeyList)"
   ]
  },
  {
   "cell_type": "code",
   "execution_count": 6,
   "metadata": {},
   "outputs": [
    {
     "name": "stdout",
     "output_type": "stream",
     "text": [
      "C:\\Users\\muhamayu\\OneDrive - Microsoft\\Projects\\EMA\\repo - function\\data\\converted_to_html\\Kalydeco II-86-PI-clean.html C:\\Users\\muhamayu\\OneDrive - Microsoft\\Projects\\EMA\\repo - function\\data\\outputJSON\\Kalydeco II-86-PI-clean.json\n"
     ]
    }
   ],
   "source": [
    "module_path = os.path.abspath(os.path.join('..'))\n",
    "module_path = os.path.join(module_path, 'data')\n",
    "module_path = os.path.join(module_path, 'converted_to_html')\n",
    "\n",
    "\n",
    "\n",
    "for input_filename in glob.glob(os.path.join(module_path, '*.html')):\n",
    "    if(input_filename.find('Kalydeco')!=-1):\n",
    "        output_filename = input_filename.replace('converted_to_html','outputJSON')\n",
    "        output_filename = output_filename.replace('.html','.json')\n",
    "        print(input_filename, output_filename)\n",
    "        #createPIJsonFromHTML(input_filename,output_filename)\n",
    "\n",
    "\n",
    "parserObj.createPIJsonFromHTML(input_filepath=input_filename, output_filepath=output_filename)"
   ]
  },
  {
   "cell_type": "code",
   "execution_count": 81,
   "metadata": {},
   "outputs": [],
   "source": [
    "# import sys, os\n",
    "# module_path = os.path.abspath(os.path.join('..'))\n",
    "# print(module_path)\n",
    "# module_path = os.path.join(module_path, 'data', 'converted_to_html')\n",
    "# # module_path = os.path.join(module_path, 'converted_to_html')\n",
    "# print(module_path)\n",
    "\n",
    "\n",
    "# def getHTML(htmlName):\n",
    "#     '''the content of an HTML will be read and returned, \n",
    "#         for now this is being read from disk, later it will be read from Data lake.'''\n",
    "#     data_path = os.path.abspath(os.path.join('..'))\n",
    "#     data_path = os.path.join(data_path, 'data', 'converted_to_html', htmlName)\n",
    "    \n",
    "#     return True\n"
   ]
  }
 ],
 "metadata": {
  "kernelspec": {
   "display_name": "Python 3",
   "language": "python",
   "name": "python3"
  },
  "language_info": {
   "codemirror_mode": {
    "name": "ipython",
    "version": 3
   },
   "file_extension": ".py",
   "mimetype": "text/x-python",
   "name": "python",
   "nbconvert_exporter": "python",
   "pygments_lexer": "ipython3",
   "version": "3.8.0"
  }
 },
 "nbformat": 4,
 "nbformat_minor": 4
}
