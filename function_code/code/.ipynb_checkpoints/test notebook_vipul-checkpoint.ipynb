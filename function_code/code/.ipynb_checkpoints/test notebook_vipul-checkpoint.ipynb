{
 "cells": [
  {
   "cell_type": "code",
   "execution_count": 188,
   "metadata": {},
   "outputs": [
    {
     "name": "stdout",
     "output_type": "stream",
     "text": [
      "The autoreload extension is already loaded. To reload it, use:\n",
      "  %reload_ext autoreload\n"
     ]
    }
   ],
   "source": [
    "import pprint\n",
    "import pandas as pd\n",
    "import uuid\n",
    "import json\n",
    "import os\n",
    "import glob\n",
    "import re\n",
    "import sys\n",
    "from bs4 import NavigableString, BeautifulSoup\n",
    "from collections import defaultdict\n",
    "import random\n",
    "import string\n",
    "\n",
    "from utils.config import config\n",
    "from utils.logger.logger import loggerCreator\n",
    "from parse.rulebook.rulebook import styleRuleDict, styleFeatureKeyList\n",
    "from parse.extractor.parser import parserExtractor\n",
    "from match.matchDocument.matchDocument import MatchDocument\n",
    "%load_ext autoreload\n",
    "\n",
    "%autoreload 2"
   ]
  },
  {
   "cell_type": "code",
   "execution_count": 189,
   "metadata": {},
   "outputs": [],
   "source": [
    "import sys, os\n",
    "module_path = os.path.abspath(os.path.join('..'))\n",
    "module_path = os.path.join(module_path, 'scripts')\n",
    "if module_path not in sys.path:\n",
    "    sys.path.append(module_path)"
   ]
  },
  {
   "cell_type": "code",
   "execution_count": null,
   "metadata": {},
   "outputs": [],
   "source": []
  },
  {
   "cell_type": "code",
   "execution_count": null,
   "metadata": {},
   "outputs": [],
   "source": []
  },
  {
   "cell_type": "code",
   "execution_count": 190,
   "metadata": {},
   "outputs": [],
   "source": [
    "# Set variables for the specific section.\n",
    "\n",
    "previousHeadingRowFound = None\n",
    "procedureType = 'CAP'\n",
    "languageCode = 'en'\n",
    "documentType = 'SmPC'\n",
    "stopWordlanguage = 'english'\n",
    "docFilter = 'SmPC.json'\n",
    "stopWordFilterLen = 6\n",
    "fileNameDoc = 'Kalydeco II-86-PI-clean_SmPC.json'\n",
    "fileNameQrd = 'qrd_canonical_mode_CAP_NAP.csv'\n",
    "fileNameMatchRuleBook = 'ruleDict.json'\n",
    "topHeadingsConsidered = 4\n",
    "bottomHeadingsConsidered = 6\n",
    "isPackageLeaflet = False"
   ]
  },
  {
   "cell_type": "code",
   "execution_count": 191,
   "metadata": {},
   "outputs": [
    {
     "name": "stdout",
     "output_type": "stream",
     "text": [
      "File being processed: F:\\Projects\\EMA\\Repository\\EMA EPI PoC\\function_code\\data\\partitionedJSONs\\Kalydeco II-86-PI-clean_SmPC.json\n",
      "--------------------------------------------\n"
     ]
    }
   ],
   "source": [
    "matchDocObj = MatchDocument(procedureType,\n",
    "                 languageCode,\n",
    "                 documentType,\n",
    "                 fileNameDoc,\n",
    "                 fileNameQrd,\n",
    "                 fileNameMatchRuleBook,\n",
    "                 topHeadingsConsidered,\n",
    "                 bottomHeadingsConsidered,\n",
    "                 stopWordFilterLen,\n",
    "                 stopWordlanguage,\n",
    "                 isPackageLeaflet)"
   ]
  },
  {
   "cell_type": "code",
   "execution_count": 192,
   "metadata": {},
   "outputs": [
    {
     "data": {
      "text/html": [
       "<div>\n",
       "<style scoped>\n",
       "    .dataframe tbody tr th:only-of-type {\n",
       "        vertical-align: middle;\n",
       "    }\n",
       "\n",
       "    .dataframe tbody tr th {\n",
       "        vertical-align: top;\n",
       "    }\n",
       "\n",
       "    .dataframe thead th {\n",
       "        text-align: right;\n",
       "    }\n",
       "</style>\n",
       "<table border=\"1\" class=\"dataframe\">\n",
       "  <thead>\n",
       "    <tr style=\"text-align: right;\">\n",
       "      <th></th>\n",
       "      <th>index</th>\n",
       "      <th>id</th>\n",
       "      <th>Procedure type</th>\n",
       "      <th>Document type</th>\n",
       "      <th>Language code</th>\n",
       "      <th>Display code</th>\n",
       "      <th>Name</th>\n",
       "      <th>parent_id</th>\n",
       "      <th>Mandatory</th>\n",
       "      <th>heading_id</th>\n",
       "      <th>Heading Level</th>\n",
       "    </tr>\n",
       "  </thead>\n",
       "  <tbody>\n",
       "    <tr>\n",
       "      <th>0</th>\n",
       "      <td>680</td>\n",
       "      <td>20001</td>\n",
       "      <td>CAP</td>\n",
       "      <td>SmPC</td>\n",
       "      <td>en</td>\n",
       "      <td>NaN</td>\n",
       "      <td>SUMMARY OF PRODUCT CHARACTERISTICS</td>\n",
       "      <td>NaN</td>\n",
       "      <td>True</td>\n",
       "      <td>1</td>\n",
       "      <td>H0</td>\n",
       "    </tr>\n",
       "    <tr>\n",
       "      <th>1</th>\n",
       "      <td>681</td>\n",
       "      <td>20002</td>\n",
       "      <td>CAP</td>\n",
       "      <td>SmPC</td>\n",
       "      <td>en</td>\n",
       "      <td>NaN</td>\n",
       "      <td>qThis medicinal product is subject to additional monitoring. This will allow quick identification of new safety information. Healthcare professionals are asked to report any suspected adverse reac...</td>\n",
       "      <td>20001.0</td>\n",
       "      <td>False</td>\n",
       "      <td>2</td>\n",
       "      <td>H3</td>\n",
       "    </tr>\n",
       "    <tr>\n",
       "      <th>2</th>\n",
       "      <td>682</td>\n",
       "      <td>20003</td>\n",
       "      <td>CAP</td>\n",
       "      <td>SmPC</td>\n",
       "      <td>en</td>\n",
       "      <td>1</td>\n",
       "      <td>NAME OF THE MEDICINAL PRODUCT</td>\n",
       "      <td>20001.0</td>\n",
       "      <td>True</td>\n",
       "      <td>3</td>\n",
       "      <td>H1</td>\n",
       "    </tr>\n",
       "    <tr>\n",
       "      <th>3</th>\n",
       "      <td>683</td>\n",
       "      <td>20004</td>\n",
       "      <td>CAP</td>\n",
       "      <td>SmPC</td>\n",
       "      <td>en</td>\n",
       "      <td>2</td>\n",
       "      <td>QUALITATIVE AND QUANTITATIVE COMPOSITION</td>\n",
       "      <td>20001.0</td>\n",
       "      <td>True</td>\n",
       "      <td>4</td>\n",
       "      <td>H1</td>\n",
       "    </tr>\n",
       "    <tr>\n",
       "      <th>4</th>\n",
       "      <td>684</td>\n",
       "      <td>20005</td>\n",
       "      <td>CAP</td>\n",
       "      <td>SmPC</td>\n",
       "      <td>en</td>\n",
       "      <td>2.1</td>\n",
       "      <td>General description</td>\n",
       "      <td>20004.0</td>\n",
       "      <td>False</td>\n",
       "      <td>5</td>\n",
       "      <td>H2</td>\n",
       "    </tr>\n",
       "  </tbody>\n",
       "</table>\n",
       "</div>"
      ],
      "text/plain": [
       "   index     id Procedure type Document type Language code Display code  \\\n",
       "0    680  20001            CAP          SmPC            en          NaN   \n",
       "1    681  20002            CAP          SmPC            en          NaN   \n",
       "2    682  20003            CAP          SmPC            en            1   \n",
       "3    683  20004            CAP          SmPC            en            2   \n",
       "4    684  20005            CAP          SmPC            en          2.1   \n",
       "\n",
       "                                                                                                                                                                                                      Name  \\\n",
       "0                                                                                                                                                                       SUMMARY OF PRODUCT CHARACTERISTICS   \n",
       "1  qThis medicinal product is subject to additional monitoring. This will allow quick identification of new safety information. Healthcare professionals are asked to report any suspected adverse reac...   \n",
       "2                                                                                                                                                                            NAME OF THE MEDICINAL PRODUCT   \n",
       "3                                                                                                                                                                 QUALITATIVE AND QUANTITATIVE COMPOSITION   \n",
       "4                                                                                                                                                                                      General description   \n",
       "\n",
       "   parent_id  Mandatory  heading_id Heading Level  \n",
       "0        NaN       True           1            H0  \n",
       "1    20001.0      False           2            H3  \n",
       "2    20001.0       True           3            H1  \n",
       "3    20001.0       True           4            H1  \n",
       "4    20004.0      False           5            H2  "
      ]
     },
     "execution_count": 192,
     "metadata": {},
     "output_type": "execute_result"
    }
   ],
   "source": [
    "matchDocObj.dfModelwRulesF.head()"
   ]
  },
  {
   "cell_type": "code",
   "execution_count": null,
   "metadata": {},
   "outputs": [
    {
     "name": "stdout",
     "output_type": "stream",
     "text": [
      "True  ||    ||  SUMMARY OF PRODUCT CHARACTERISTICS  ||  SUMMARY OF PRODUCT CHARACTERISTICS\n",
      "True  ||  <=7|3.12|(98, 97, 98)|0.99|  ||  1.       NAME OF THE MEDICINAL PRODUCT  ||  1 NAME OF THE MEDICINAL PRODUCT\n",
      "True  ||  <=7|2.33|(99, 98, 99)|1.0|  ||  2.       QUALITATIVE AND QUANTITATIVE COMPOSITION  ||  2 QUALITATIVE AND QUANTITATIVE COMPOSITION\n",
      "True  ||  <=4|11.11|(95, 89, 95)|0.99|  ||  Excipient with known effect  ||  Excipient(s) with known effect\n",
      "True  ||  <=4|4.55|(98, 95, 98)|0.99|  ||  3.       PHARMACEUTICAL FORM  ||  3 PHARMACEUTICAL FORM\n",
      "True  ||  <=4|4.35|(98, 95, 98)|0.99|  ||  4.       CLINICAL PARTICULARS  ||  4 CLINICAL PARTICULARS\n",
      "True  ||    ||  4.1     Therapeutic indications  ||  4.1 Therapeutic indications\n",
      "True  ||    ||  4.2     Posology and method of administration  ||  4.2 Posology and method of administration\n",
      "True  ||    ||  Posology  ||  Posology\n",
      "True  ||    ||  Paediatric population  ||  Paediatric population\n",
      "True  ||    ||  Method of administration  ||  Method of administration \n",
      "True  ||    ||  4.3       Contraindications  ||  4.3 Contraindications\n",
      "True  ||    ||  4.4       Special warnings and precautions for use  ||  4.4 Special warnings and precautions for use\n",
      "True  ||    ||  Paediatric population  ||  Paediatric population\n",
      "True  ||    ||  4.5          Interaction with other medicinal products and other forms of interaction  ||  4.5 Interaction with other medicinal products and other forms of interaction\n",
      "True  ||    ||  Paediatric population  ||  Paediatric population\n",
      "True  ||    ||  4.6    Fertility, pregnancy and lactation  ||  4.6 Fertility, pregnancy and lactation\n",
      "True  ||    ||  Pregnancy  ||  Pregnancy\n",
      "True  ||  <=1|7.14|(93, 93, 100)|0.98|  ||  Breast‑feeding  ||  Breast-feeding\n",
      "True  ||    ||  Fertility  ||  Fertility\n",
      "True  ||    ||  4.7     Effects on ability to drive and use machines  ||  4.7 Effects on ability to drive and use machines\n",
      "True  ||    ||  4.8     Undesirable effects  ||  4.8 Undesirable effects\n",
      "True  ||    ||  Paediatric population  ||  Paediatric population\n",
      "True  ||    ||  Reporting of suspected adverse reactions  ||  Reporting of suspected adverse reactions\n",
      "True  ||    ||  4.9       Overdose  ||  4.9 Overdose\n",
      "True  ||  <=4|3.45|(98, 96, 98)|0.99|  ||  5.       PHARMACOLOGICAL PROPERTIES  ||  5 PHARMACOLOGICAL PROPERTIES\n",
      "True  ||    ||  5.1          Pharmacodynamic properties  ||  5.1 Pharmacodynamic properties\n",
      "True  ||    ||  Mechanism of action  ||  Mechanism of action\n",
      "True  ||    ||  Pharmacodynamic effects  ||  Pharmacodynamic effects\n",
      "True  ||    ||  Clinical efficacy and safety  ||  Clinical efficacy and safety\n",
      "True  ||    ||  Paediatric population  ||  Paediatric population\n",
      "True  ||    ||  5.2     Pharmacokinetic properties  ||  5.2 Pharmacokinetic properties\n",
      "True  ||    ||  Absorption  ||  Absorption\n",
      "True  ||    ||  Distribution  ||  Distribution\n",
      "True  ||    ||  Biotransformation  ||  Biotransformation\n",
      "True  ||    ||  Elimination  ||  Elimination\n",
      "True  ||  <=1|4.35|(96, 96, 100)|0.99|  ||  Linearity/non‑linearity  ||  Linearity/non-linearity\n",
      "True  ||    ||  5.3     Preclinical safety data  ||  5.3 Preclinical safety data\n",
      "True  ||  <=4|3.45|(98, 96, 98)|0.99|  ||  6.       PHARMACEUTICAL PARTICULARS  ||  6 PHARMACEUTICAL PARTICULARS\n",
      "True  ||    ||  6.1     List of excipients  ||  6.1 List of excipients\n",
      "True  ||    ||  6.2     Incompatibilities  ||  6.2 Incompatibilities\n",
      "True  ||    ||  6.3     Shelf life  ||  6.3 Shelf life\n",
      "True  ||    ||  6.4     Special precautions for storage  ||  6.4 Special precautions for storage\n",
      "True  ||  Contains<>|158.33|(48, 81, 86)|0.69|  ||  6.5     Nature and contents of container  ||  6.5 Nature and contents of container <and special equipment for use administration or implantation>\n",
      "True  ||  Contains<>|14.63|(93, 88, 95)|0.98|  ||  6.6    Special precautions for disposal and other handling  ||  6.6 Special precautions for disposal <and other handling>\n",
      "True  ||  <=4|3.03|(98, 97, 98)|1.0|  ||  7.       MARKETING AUTHORISATION HOLDER  ||  7 MARKETING AUTHORISATION HOLDER\n",
      "True  ||  <=4|2.78|(99, 97, 99)|1.0|  ||  8.       MARKETING AUTHORISATION NUMBER(S)  ||  8 MARKETING AUTHORISATION NUMBER(S)\n",
      "True  ||  <=7|2.04|(99, 98, 99)|1.0|  ||  9.       DATE OF FIRST AUTHORISATION/RENEWAL OF THE AUTHORISATION  ||  9 DATE OF FIRST AUTHORISATION/RENEWAL OF THE AUTHORISATION\n",
      "True  ||  <=4|4.55|(98, 95, 98)|0.99|  ||  10.     DATE OF REVISION OF THE TEXT  ||  10 DATE OF REVISION OF THE TEXT\n",
      "oooooooooooooooooooooooooooooooooooooooo END OF Sub Section oooooooooooooooooooooooooooooooooooooooooooooooooooooooooooo\n",
      "True  ||  <=7|3.12|(98, 97, 98)|0.99|  ||  1.       NAME OF THE MEDICINAL PRODUCT  ||  1 NAME OF THE MEDICINAL PRODUCT\n",
      "True  ||  <=7|2.33|(99, 98, 99)|1.0|  ||  2.       QUALITATIVE AND QUANTITATIVE COMPOSITION  ||  2 QUALITATIVE AND QUANTITATIVE COMPOSITION\n",
      "True  ||  <=4|11.11|(95, 89, 95)|0.99|  ||  Excipient with known effect  ||  Excipient(s) with known effect\n",
      "True  ||  <=4|11.11|(95, 89, 95)|0.99|  ||  Excipient with known effect  ||  Excipient(s) with known effect\n",
      "True  ||  <=4|11.11|(95, 89, 95)|0.99|  ||  Excipient with known effect  ||  Excipient(s) with known effect\n",
      "True  ||  <=4|4.55|(98, 95, 98)|0.99|  ||  3.       PHARMACEUTICAL FORM  ||  3 PHARMACEUTICAL FORM\n",
      "True  ||  <=4|4.35|(98, 95, 98)|0.99|  ||  4.       CLINICAL PARTICULARS  ||  4 CLINICAL PARTICULARS\n",
      "True  ||    ||  4.1     Therapeutic indications  ||  4.1 Therapeutic indications\n",
      "True  ||    ||  4.2     Posology and method of administration  ||  4.2 Posology and method of administration\n",
      "True  ||    ||  Posology  ||  Posology\n",
      "True  ||    ||  Paediatric population  ||  Paediatric population\n",
      "True  ||    ||  Method of administration   ||  Method of administration \n",
      "True  ||    ||  4.3       Contraindications  ||  4.3 Contraindications\n",
      "True  ||    ||  4.4       Special warnings and precautions for use  ||  4.4 Special warnings and precautions for use\n",
      "True  ||    ||  Paediatric population   ||  Paediatric population\n",
      "True  ||    ||  4.5          Interaction with other medicinal products and other forms of interaction  ||  4.5 Interaction with other medicinal products and other forms of interaction\n",
      "True  ||    ||  Paediatric population  ||  Paediatric population\n",
      "True  ||    ||  4.6       Fertility, pregnancy and lactation  ||  4.6 Fertility, pregnancy and lactation\n",
      "True  ||    ||  Pregnancy  ||  Pregnancy\n",
      "True  ||  <=1|7.14|(93, 93, 100)|0.98|  ||  Breast‑feeding  ||  Breast-feeding\n",
      "True  ||    ||  Fertility  ||  Fertility\n",
      "True  ||    ||  4.7     Effects on ability to drive and use machines  ||  4.7 Effects on ability to drive and use machines\n",
      "True  ||    ||  4.8     Undesirable effects  ||  4.8 Undesirable effects\n",
      "True  ||    ||  Paediatric population  ||  Paediatric population\n",
      "True  ||    ||  Reporting of suspected adverse reactions  ||  Reporting of suspected adverse reactions\n",
      "True  ||    ||  4.9       Overdose  ||  4.9 Overdose\n",
      "True  ||  <=4|3.45|(98, 96, 98)|0.99|  ||  5.       PHARMACOLOGICAL PROPERTIES  ||  5 PHARMACOLOGICAL PROPERTIES\n",
      "True  ||    ||  5.1          Pharmacodynamic properties  ||  5.1 Pharmacodynamic properties\n",
      "True  ||    ||  Mechanism of action  ||  Mechanism of action\n",
      "True  ||    ||  Pharmacodynamic effects  ||  Pharmacodynamic effects\n",
      "True  ||    ||  Clinical efficacy and safety  ||  Clinical efficacy and safety\n"
     ]
    }
   ],
   "source": [
    "df, coll = matchDocObj.matchHtmlHeaddingsWithQrd()"
   ]
  },
  {
   "cell_type": "code",
   "execution_count": 85,
   "metadata": {},
   "outputs": [
    {
     "data": {
      "text/plain": [
       "('F:\\\\Projects\\\\EMA\\\\Repository\\\\EMA EPI PoC\\\\function_code',\n",
       " 'data',\n",
       " 'partitionedJSONs')"
      ]
     },
     "execution_count": 85,
     "metadata": {},
     "output_type": "execute_result"
    }
   ],
   "source": [
    "os.path.abspath(os.path.join('..')), 'data', 'partitionedJSONs'"
   ]
  },
  {
   "cell_type": "code",
   "execution_count": null,
   "metadata": {},
   "outputs": [],
   "source": []
  }
 ],
 "metadata": {
  "kernelspec": {
   "display_name": "Python 3",
   "language": "python",
   "name": "python3"
  },
  "language_info": {
   "codemirror_mode": {
    "name": "ipython",
    "version": 3
   },
   "file_extension": ".py",
   "mimetype": "text/x-python",
   "name": "python",
   "nbconvert_exporter": "python",
   "pygments_lexer": "ipython3",
   "version": "3.7.3"
  }
 },
 "nbformat": 4,
 "nbformat_minor": 4
}
