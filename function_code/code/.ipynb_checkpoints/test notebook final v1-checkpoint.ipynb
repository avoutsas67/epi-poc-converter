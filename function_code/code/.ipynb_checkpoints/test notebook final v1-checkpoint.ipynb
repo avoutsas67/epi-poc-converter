{
 "cells": [
  {
   "cell_type": "code",
   "execution_count": 1,
   "metadata": {},
   "outputs": [],
   "source": [
    "import os\n",
    "import zipfile\n",
    "%load_ext autoreload\n",
    "\n",
    "%autoreload 2"
   ]
  },
  {
   "cell_type": "code",
   "execution_count": 2,
   "metadata": {},
   "outputs": [
    {
     "name": "stderr",
     "output_type": "stream",
     "text": [
      "C:\\Users\\vipsharm\\AppData\\Local\\Continuum\\anaconda3\\lib\\site-packages\\fuzzywuzzy\\fuzz.py:11: UserWarning: Using slow pure-python SequenceMatcher. Install python-Levenshtein to remove this warning\n",
      "  warnings.warn('Using slow pure-python SequenceMatcher. Install python-Levenshtein to remove this warning')\n",
      "[nltk_data] Downloading package stopwords to\n",
      "[nltk_data]     C:\\Users\\vipsharm\\AppData\\Roaming\\nltk_data...\n",
      "[nltk_data]   Package stopwords is already up-to-date!\n"
     ]
    }
   ],
   "source": [
    "import pprint\n",
    "import pandas as pd\n",
    "import uuid\n",
    "import json\n",
    "import os\n",
    "import glob\n",
    "import re\n",
    "import sys\n",
    "from bs4 import NavigableString, BeautifulSoup\n",
    "from collections import defaultdict\n",
    "import random\n",
    "import string\n",
    "\n",
    "from utils.config import config\n",
    "from utils.logger.logger import loggerCreator\n",
    "\n",
    "# ePI Modules\n",
    "from parse.rulebook.rulebook import StyleRulesDictionary\n",
    "\n",
    "from parse.extractor.parser import parserExtractor\n",
    "from match.matchDocument.matchDocument import MatchDocument\n",
    "from documentAnnotation.documentAnnotation import DocumentAnnotation\n",
    "from htmlDocTypePartitioner.partition import DocTypePartitioner\n",
    "from extractContentBetweenHeadings.dataBetweenHeadingsExtractor import DataBetweenHeadingsExtractor\n",
    "from fhirXmlGenerator.fhirXmlGenerator import FhirXmlGenerator\n",
    "from fhirService.fhirService import FhirService\n",
    "from utils.logger.matchLogger import MatchLogger\n",
    "from languageInfo.documentTypeNames.documentTypeNames import DocumentTypeNames\n",
    "\n",
    "\n",
    "class FolderNotFoundError(Exception):\n",
    "    pass\n",
    "\n",
    "\n",
    "def getRandomString(N):\n",
    "    str_ = ''.join(random.choice(string.ascii_uppercase + string.digits\n",
    "                                 + string.ascii_lowercase) for _ in range(N))\n",
    "    return str_\n",
    "\n",
    "\n",
    "def convertHtmlToJson(controlBasePath, basePath, domain, procedureType, languageCode, htmlDocName, fileNameQrd, fileNameLog):\n",
    "\n",
    "    module_path = os.path.join(basePath)\n",
    "\n",
    "    if \"/\" in basePath:\n",
    "        pathSep = \"/\"\n",
    "    else:\n",
    "        pathSep = \"\\\\\"\n",
    "    \n",
    "    # Generate output folder path\n",
    "    output_json_path = os.path.join(basePath, 'outputJSON')\n",
    "\n",
    "    \"\"\"\n",
    "        Check if input folder exists, else throw exception\n",
    "    \"\"\"\n",
    "    if(os.path.exists(module_path)):\n",
    "        filenames = glob.glob(os.path.join(module_path, htmlDocName))\n",
    "\n",
    "        # Create language specific folder in outputJSON folder if it doesn't exist\n",
    "        if(not os.path.exists(output_json_path)):\n",
    "            os.mkdir(output_json_path)\n",
    "        logger = MatchLogger(f'Parser_{getRandomString(1)}', htmlDocName,\n",
    "                             domain, procedureType, languageCode, \"HTML\", fileNameLog)\n",
    "\n",
    "        styleLogger = MatchLogger(\n",
    "            f'Style Dictionary_{getRandomString(1)}', htmlDocName, domain, procedureType, languageCode, \"HTML\", fileNameLog)\n",
    "\n",
    "        styleRulesObj = StyleRulesDictionary(logger=styleLogger,\n",
    "                                             controlBasePath=controlBasePath,\n",
    "                                             language=languageCode,\n",
    "                                             fileName=fileNameQrd,\n",
    "                                             domain=domain,\n",
    "                                             procedureType=procedureType\n",
    "                                             )\n",
    "\n",
    "        parserObj = parserExtractor(config, logger, styleRulesObj.styleRuleDict,\n",
    "                                    styleRulesObj.styleFeatureKeyList,\n",
    "                                    styleRulesObj.qrd_section_headings)\n",
    "\n",
    "        for input_filename in filenames:\n",
    "          # if(input_filename.find('Kalydeco II-86-PI-clean')!=-1):\n",
    "            output_filename = os.path.join(output_json_path, htmlDocName)\n",
    "            style_filepath =  output_filename.replace('.html','.txt')\n",
    "            style_filepath =  style_filepath.replace('.txtl','.txt')\n",
    "            style_filepath =  style_filepath.replace('.htm','.txt')\n",
    "            print(\"-------------\",style_filepath,\"-----------------\")\n",
    "\n",
    "            output_filename = output_filename.replace('.html', '.json')\n",
    "            output_filename = output_filename.replace('.htm', '.json')\n",
    "            print(input_filename, output_filename)\n",
    "            parserObj.createPIJsonFromHTML(input_filepath=input_filename,\n",
    "                                           output_filepath=output_filename,\n",
    "                                           style_filepath = style_filepath,\n",
    "                                           img_base64_dict=parserObj.convertImgToBase64(input_filename)\n",
    "                                           )\n",
    "            \n",
    "        return output_filename.split(pathSep)[-1], style_filepath\n",
    "    else:\n",
    "        try:    \n",
    "            raise FolderNotFoundError(module_path + \" not found\")\n",
    "        except:  \n",
    "            logger.logFlowCheckpoint(\"Folder For Language Code Not Found In Input File\")\n",
    "            logger.logException(\"Folder For Language Code Not Found In Input File\")\n",
    "        raise FolderNotFoundError(module_path + \" not found\")\n",
    "        return None\n",
    "\n",
    "\n",
    "def splitJson(controlBasePath, basePath, domain, procedureType, languageCode, fileNameJson, fileNameQrd, fileNameLog):\n",
    "\n",
    "    styleLogger = MatchLogger(\n",
    "        f'Style Dictionary_{getRandomString(1)}', fileNameJson, domain, procedureType, languageCode, \"Json\", fileNameLog)\n",
    "\n",
    "    styleRulesObj = StyleRulesDictionary(logger=styleLogger,\n",
    "                                        controlBasePath=controlBasePath,\n",
    "                                        language=languageCode,\n",
    "                                        fileName=fileNameQrd,\n",
    "                                        domain=domain,\n",
    "                                        procedureType=procedureType\n",
    "                                        )\n",
    "    \n",
    "    path_json = os.path.join(basePath,'outputJSON', fileNameJson)\n",
    "    print(\"PathJson\",path_json)\n",
    "    partitionLogger = MatchLogger(\n",
    "        f'Partition_{getRandomString(1)}', fileNameJson, domain, procedureType, languageCode, \"Json\", fileNameLog)\n",
    "\n",
    "    partitioner = DocTypePartitioner(partitionLogger)\n",
    "\n",
    "    partitionedJsonPaths = partitioner.partitionHtmls(\n",
    "        styleRulesObj.qrd_section_headings, path_json)\n",
    "\n",
    "    return partitionedJsonPaths\n",
    "\n",
    "\n",
    "def extractAndValidateHeadings(controlBasePath,\n",
    "                                basePath,\n",
    "                                domain,\n",
    "                                procedureType,\n",
    "                                languageCode,\n",
    "                                documentNumber,\n",
    "                                fileNameDoc,\n",
    "                                fileNameQrd,\n",
    "                                fileNameMatchRuleBook,\n",
    "                                fileNameDocumentTypeNames,\n",
    "                                fileNameLog,\n",
    "                                stopWordFilterLen=6,\n",
    "                                isPackageLeaflet=False,\n",
    "                                medName=None\n",
    "                                ):\n",
    "\n",
    "    if documentNumber == 0:\n",
    "        topHeadingsConsidered = 4\n",
    "        bottomHeadingsConsidered = 6\n",
    "    elif documentNumber == 1:\n",
    "        topHeadingsConsidered = 3\n",
    "        bottomHeadingsConsidered = 5\n",
    "    elif documentNumber == 2:\n",
    "        topHeadingsConsidered = 5\n",
    "        bottomHeadingsConsidered = 15\n",
    "    else:\n",
    "        topHeadingsConsidered = 5\n",
    "        bottomHeadingsConsidered = 10\n",
    "\n",
    "    print(f\"Starting Heading Extraction For File :- {fileNameDoc}\")\n",
    "    logger = MatchLogger(f\"Heading Extraction {fileNameDoc}_{getRandomString(1)}\", fileNameDoc, domain, procedureType, languageCode, documentNumber, fileNameLog)\n",
    "    logger.logFlowCheckpoint(\"Starting Heading Extraction\")\n",
    "\n",
    "    stopWordlanguage = DocumentTypeNames(\n",
    "        controlBasePath=controlBasePath,\n",
    "        fileNameDocumentTypeNames=fileNameDocumentTypeNames,\n",
    "        languageCode=languageCode,\n",
    "        domain=domain,\n",
    "        procedureType=procedureType,\n",
    "        documentNumber=documentNumber\n",
    "        ).extractStopWordLanguage()\n",
    "\n",
    "    matchDocObj = MatchDocument(\n",
    "        logger,\n",
    "        controlBasePath,\n",
    "        basePath,\n",
    "        domain,\n",
    "        procedureType,\n",
    "        languageCode,\n",
    "        documentNumber,\n",
    "        fileNameDoc,\n",
    "        fileNameQrd,\n",
    "        fileNameMatchRuleBook,\n",
    "        fileNameDocumentTypeNames,\n",
    "        topHeadingsConsidered,\n",
    "        bottomHeadingsConsidered,\n",
    "        stopWordFilterLen,\n",
    "        stopWordlanguage,\n",
    "        isPackageLeaflet,\n",
    "        medName)\n",
    "    df, coll = matchDocObj.matchHtmlHeaddingsWithQrd()\n",
    "\n",
    "    return df, coll\n",
    "\n",
    "\n",
    "def parseDocument(controlBasePath, basePath ,htmlDocName, fileNameQrd, fileNameMatchRuleBook, fileNameDocumentTypeNames, medName = None):\n",
    "    \n",
    "    if \"/\" in basePath:\n",
    "        pathSep = \"/\"        \n",
    "    else:\n",
    "        pathSep = \"\\\\\"\n",
    "    \n",
    "    fileNameLog = os.path.join(basePath,'FinalLog.txt')\n",
    "\n",
    "    pathComponents = basePath.split(pathSep)\n",
    "    print(pathComponents, htmlDocName)\n",
    "    timestamp = pathComponents[-1]\n",
    "    languageCode =  pathComponents[-2]\n",
    "    medName = pathComponents[-3]\n",
    "    procedureType = pathComponents[-4]\n",
    "    domain = pathComponents[-5]\n",
    "\n",
    "    print(timestamp, languageCode, medName, procedureType, domain)\n",
    "        \n",
    "    flowLogger =  MatchLogger(f\"Flow Logger HTML_{getRandomString(1)}\", htmlDocName, domain, procedureType, languageCode, \"HTML\", fileNameLog)\n",
    "\n",
    "    flowLogger.logFlowCheckpoint(\"Starting HTML Conversion To Json\")\n",
    "    ###Convert Html to Json\n",
    "    fileNameJson, stylesFilePath = convertHtmlToJson(controlBasePath, basePath, domain, procedureType, languageCode, htmlDocName, fileNameQrd, fileNameLog)\n",
    "    \n",
    "    print(\"stylePath:-\",stylesFilePath)\n",
    "    flowLogger.logFlowCheckpoint(\"Completed HTML Conversion To Json\")\n",
    "\n",
    "    flowLogger.logFlowCheckpoint(\"Starting Json Split\")\n",
    "\n",
    "    ###Split Uber Json to multiple Jsons for each category.\n",
    "    partitionedJsonPaths = splitJson(controlBasePath, basePath, domain, procedureType, languageCode, fileNameJson, fileNameQrd, fileNameLog)\n",
    "    \n",
    "    partitionedJsonPaths = [ path.split(pathSep)[-1] for path in partitionedJsonPaths]\n",
    "    flowLogger.logFlowCheckpoint(str(partitionedJsonPaths))\n",
    "    \n",
    "    flowLogger.logFlowCheckpoint(\"Completed Json Split\")\n",
    "    \n",
    "    flowLogger.logFlowCheckpoint(\"Started Processing Partitioned Jsons\")\n",
    "    \n",
    "    for index, fileNamePartitioned in enumerate(partitionedJsonPaths):\n",
    "        \n",
    "        flowLogger.logFlowCheckpoint(f\"\\n\\n\\n\\n||||||||||||||||||||||||||||||||{str(index)} ||||| {str(fileNamePartitioned)}||||||||||||||||||||||||||||||||\\n\\n\\n\\n\")\n",
    "        \n",
    "        if index == 3:\n",
    "            stopWordFilterLen = 100\n",
    "            isPackageLeaflet = True\n",
    "        else:\n",
    "            stopWordFilterLen = 6\n",
    "            isPackageLeaflet = False\n",
    "            \n",
    "        df, coll = extractAndValidateHeadings(controlBasePath,\n",
    "                                    basePath,\n",
    "                                    domain,\n",
    "                                    procedureType,\n",
    "                                    languageCode,\n",
    "                                    index,\n",
    "                                    fileNamePartitioned,\n",
    "                                    fileNameQrd,\n",
    "                                    fileNameMatchRuleBook,\n",
    "                                    fileNameDocumentTypeNames,\n",
    "                                    fileNameLog,\n",
    "                                    stopWordFilterLen=stopWordFilterLen,\n",
    "                                    isPackageLeaflet=isPackageLeaflet,\n",
    "                                    medName=medName)\n",
    "        \n",
    "        \n",
    "        print(f\"Completed Heading Extraction For File\")\n",
    "        flowLogger.logFlowCheckpoint(\"Completed Heading Extraction For File\")\n",
    "        \n",
    "        print(f\"Starting Document Annotation For File :- {fileNamePartitioned}\")        \n",
    "        flowLogger.logFlowCheckpoint(\"Starting Document Annotation For File\")\n",
    "        documentAnnotationObj = DocumentAnnotation(fileNamePartitioned,'c20835db4b1b4e108828a8537ff41506','https://spor-sit.azure-api.net/pms/api/v2/',df,coll)\n",
    "        try:\n",
    "            pms_oms_annotation_data = documentAnnotationObj.processRegulatedAuthorizationForDoc()\n",
    "            print(pms_oms_annotation_data)\n",
    "        except:\n",
    "            pms_oms_annotation_data = None\n",
    "            print(\"Error Found\")\n",
    "            \n",
    "        print(f\"Completed Document Annotation\")        \n",
    "        flowLogger.logFlowCheckpoint(\"Completed Document Annotation\")\n",
    "        \n",
    "        print(f\"Starting Extracting Content Between Heading For File :- {fileNamePartitioned}\")        \n",
    "        flowLogger.logFlowCheckpoint(\"Starting Extracting Content Between Heading\")\n",
    "        \n",
    "        extractContentlogger =  MatchLogger(f'ExtractContentBetween_{index}_{getRandomString(1)}', fileNamePartitioned, domain, procedureType, languageCode, index, fileNameLog)\n",
    "        extractorObj = DataBetweenHeadingsExtractor(extractContentlogger, basePath, coll)\n",
    "        dfExtractedHierRR = extractorObj.extractContentBetweenHeadings(fileNamePartitioned)\n",
    "        \n",
    "        print(f\"Completed Extracting Content Between Heading\")        \n",
    "        flowLogger.logFlowCheckpoint(\"Completed Extracting Content Between Heading\")\n",
    "        \n",
    "        xmlLogger =  MatchLogger(f'XmlGeneration_{index}_{getRandomString(1)}', fileNamePartitioned, domain, procedureType, languageCode, index, fileNameLog)\n",
    "        fhirXmlGeneratorObj = FhirXmlGenerator(xmlLogger, controlBasePath, basePath, pms_oms_annotation_data, stylesFilePath, medName)\n",
    "        fileNameXml = fileNamePartitioned.replace('.json','.xml')\n",
    "        generatedXml = fhirXmlGeneratorObj.generateXml(dfExtractedHierRR, fileNameXml)\n",
    "        \n",
    "        fhirServiceLogger =  MatchLogger(f'XML Submission Logger_{index}_{getRandomString(1)}', fileNamePartitioned, domain, procedureType, languageCode, index, fileNameLog)\n",
    "\n",
    "        fhirServiceObj = FhirService(fhirServiceLogger, basePath, generatedXml)\n",
    "        fhirServiceObj.submitFhirXml()\n",
    "        print(f\"Created XML File For :- {fileNamePartitioned}\")      \n",
    "\n",
    "        #return df,coll,dfExtractedHierRR\n",
    "    \n",
    "    flowLogger.logFlowCheckpoint(\"Completed Processing Partitioned Jsons\")\n"
   ]
  },
  {
   "cell_type": "code",
   "execution_count": 3,
   "metadata": {},
   "outputs": [],
   "source": [
    "inputZipFolderPath = \"F:\\Projects\\EMA\\Repository\\EMA EPI PoC\\\\function_code\\\\inputblob\"\n",
    "inputZipFileName = \"Kalydeco_H_CAP_el_2021-05-11T08-14-06Z.zip\""
   ]
  },
  {
   "cell_type": "code",
   "execution_count": 4,
   "metadata": {},
   "outputs": [
    {
     "name": "stdout",
     "output_type": "stream",
     "text": [
      "Kalydeco_H_CAP_el_2021-05-11T08-14-06Z.zip F:\\Projects\\EMA\\Repository\\EMA EPI PoC\\function_code\\inputblob F:\\Projects\\EMA\\Repository\\EMA EPI PoC\\function_code\\work\\H\\CAP\\Kalydeco\\el\\2021-05-11T08-14-06Z F:\\Projects\\EMA\\Repository\\EMA EPI PoC\\function_code\\control\n",
      "Already Present\n",
      "Kalydeco_clean.htm\n"
     ]
    }
   ],
   "source": [
    "fileNameQrd = 'qrd_canonical_model.csv'\n",
    "fileNameMatchRuleBook = 'ruleDict.json'\n",
    "fileNameDocumentTypeNames = 'documentTypeNames.json'\n",
    "fsMountName = '/mounted'\n",
    "\n",
    "info = inputZipFileName.split(\"_\")\n",
    "\n",
    "try:\n",
    "    medName = info[0]\n",
    "    domain = info[1]\n",
    "    procedureType = info[2]\n",
    "    languageCode = info[3]\n",
    "    timestamp = info[4]\n",
    "    timestamp = timestamp.replace(\".zip\",\"\")\n",
    "\n",
    "except Exception:\n",
    "    raise f\"Missing required info in the zip file name {inputZipFileName}\"\n",
    "\n",
    "if \"\\\\\" in os.getcwd():\n",
    "    localEnv = True\n",
    "    inputZipFolderPath = os.path.join(os.path.abspath(os.path.join('..')),inputZipFolderPath)\n",
    "    outputFolderPath = os.path.join(os.path.abspath(os.path.join('..')), 'work', f\"{domain}\", f\"{procedureType}\", f\"{medName}\", f\"{languageCode}\", f\"{timestamp}\")\n",
    "    controlFolderPath = os.path.join(os.path.abspath(os.path.join('..')),'control')\n",
    "else:\n",
    "    localEnv = False\n",
    "    inputZipFolderPath = os.path.join(f'{fsMountName}',inputZipFolderPath)\n",
    "    outputFolderPath = os.path.join(f'{fsMountName}', 'work', f\"{domain}\", f\"{procedureType}\", f\"{medName}\", f\"{languageCode}\", f\"{timestamp}\")\n",
    "    controlFolderPath = os.path.join(f'{fsMountName}','control')\n",
    "\n",
    "\n",
    "print(inputZipFileName, inputZipFolderPath, outputFolderPath, controlFolderPath)\n",
    "\n",
    "mode = 0o666\n",
    "\n",
    "if localEnv is True:\n",
    "    inputZipFolderPath = inputZipFolderPath.replace(\"/\",\"\\\\\")\n",
    "    outputFolderPath = outputFolderPath.replace(\"/\",\"\\\\\")\n",
    "    controlFolderPath = controlFolderPath.replace(\"/\",\"\\\\\")\n",
    "\n",
    "try:\n",
    "    os.makedirs(inputZipFolderPath, mode)\n",
    "    os.makedirs(outputFolderPath, mode)\n",
    "    os.makedirs(controlFolderPath, mode)\n",
    "\n",
    "except Exception:\n",
    "    print(\"Already Present\")\n",
    "    \n",
    "with zipfile.ZipFile(f'{inputZipFolderPath}/{inputZipFileName}',\"r\") as zip_ref:\n",
    "        zip_ref.extractall(outputFolderPath)\n",
    "    \n",
    "\n",
    "_,_,fileNames = next(os.walk(outputFolderPath))\n",
    "htmlFileName = [fileName for fileName in fileNames if \".htm\" in fileName][0]\n",
    "\n",
    "print(htmlFileName)\n",
    "\n"
   ]
  },
  {
   "cell_type": "code",
   "execution_count": null,
   "metadata": {},
   "outputs": [
    {
     "name": "stderr",
     "output_type": "stream",
     "text": [
      "2021-05-12 17:25:13,182 : Flow Logger HTML_b : Starting HTML Conversion To Json | H | CAP |  el | HTML | Kalydeco_clean.htm\n",
      "2021-05-12 17:25:13,189 : Style Dictionary_m : Reading style dictionary in file: rule_dictionary_el.json | H | CAP |  el | HTML | Kalydeco_clean.htm\n",
      "2021-05-12 17:25:13,229 : Style Dictionary_m : Qrd Section Keys Retrieved For Style Dictionary: ΠΑΡΑΡΤΗΜΑ Ι, ΠΑΡΑΡΤΗΜΑ ΙΙ, ΠΑΡΑΡΤΗΜΑ ΙΙΙ, B. ΦΥΛΛΟ ΟΔΗΓΙΩΝ ΧΡΗΣΗΣ | H | CAP |  el | HTML | Kalydeco_clean.htm\n"
     ]
    },
    {
     "name": "stdout",
     "output_type": "stream",
     "text": [
      "['F:', 'Projects', 'EMA', 'Repository', 'EMA EPI PoC', 'function_code', 'work', 'H', 'CAP', 'Kalydeco', 'el', '2021-05-11T08-14-06Z'] Kalydeco_clean.htm\n",
      "2021-05-11T08-14-06Z el Kalydeco CAP H\n",
      "------------- F:\\Projects\\EMA\\Repository\\EMA EPI PoC\\function_code\\work\\H\\CAP\\Kalydeco\\el\\2021-05-11T08-14-06Z\\outputJSON\\Kalydeco_clean.txt -----------------\n",
      "F:\\Projects\\EMA\\Repository\\EMA EPI PoC\\function_code\\work\\H\\CAP\\Kalydeco\\el\\2021-05-11T08-14-06Z\\Kalydeco_clean.htm F:\\Projects\\EMA\\Repository\\EMA EPI PoC\\function_code\\work\\H\\CAP\\Kalydeco\\el\\2021-05-11T08-14-06Z\\outputJSON\\Kalydeco_clean.json\n"
     ]
    },
    {
     "name": "stderr",
     "output_type": "stream",
     "text": [
      "2021-05-12 17:25:15,102 : Parser_f : Style Information Stored In File: F:\\Projects\\EMA\\Repository\\EMA EPI PoC\\function_code\\work\\H\\CAP\\Kalydeco\\el\\2021-05-11T08-14-06Z\\outputJSON\\Kalydeco_clean.txt | H | CAP |  el | HTML | Kalydeco_clean.htm\n",
      "2021-05-12 17:25:22,699 : Parser_f : Writing to file: F:\\Projects\\EMA\\Repository\\EMA EPI PoC\\function_code\\work\\H\\CAP\\Kalydeco\\el\\2021-05-11T08-14-06Z\\outputJSON\\Kalydeco_clean.json | H | CAP |  el | HTML | Kalydeco_clean.htm\n",
      "2021-05-12 17:25:23,115 : Flow Logger HTML_b : Completed HTML Conversion To Json | H | CAP |  el | HTML | Kalydeco_clean.htm\n",
      "2021-05-12 17:25:23,117 : Flow Logger HTML_b : Starting Json Split | H | CAP |  el | HTML | Kalydeco_clean.htm\n",
      "2021-05-12 17:25:23,121 : Style Dictionary_u : Reading style dictionary in file: rule_dictionary_el.json | H | CAP |  el | Json | Kalydeco_clean.json\n",
      "2021-05-12 17:25:23,160 : Style Dictionary_u : Qrd Section Keys Retrieved For Style Dictionary: ΠΑΡΑΡΤΗΜΑ Ι, ΠΑΡΑΡΤΗΜΑ ΙΙ, ΠΑΡΑΡΤΗΜΑ ΙΙΙ, B. ΦΥΛΛΟ ΟΔΗΓΙΩΝ ΧΡΗΣΗΣ | H | CAP |  el | Json | Kalydeco_clean.json\n",
      "2021-05-12 17:25:23,165 : Partition_D : Partitioning Json: Kalydeco_clean.json | H | CAP |  el | Json | Kalydeco_clean.json\n"
     ]
    },
    {
     "name": "stdout",
     "output_type": "stream",
     "text": [
      "stylePath:- F:\\Projects\\EMA\\Repository\\EMA EPI PoC\\function_code\\work\\H\\CAP\\Kalydeco\\el\\2021-05-11T08-14-06Z\\outputJSON\\Kalydeco_clean.txt\n",
      "PathJson F:\\Projects\\EMA\\Repository\\EMA EPI PoC\\function_code\\work\\H\\CAP\\Kalydeco\\el\\2021-05-11T08-14-06Z\\outputJSON\\Kalydeco_clean.json\n"
     ]
    },
    {
     "name": "stderr",
     "output_type": "stream",
     "text": [
      "2021-05-12 17:25:23,427 : Partition_D : Writing partition to file: F:\\Projects\\EMA\\Repository\\EMA EPI PoC\\function_code\\work\\H\\CAP\\Kalydeco\\el\\2021-05-11T08-14-06Z\\partitionedJSONs\\Kalydeco_clean_SmPC.json | H | CAP |  el | Json | Kalydeco_clean.json\n",
      "2021-05-12 17:25:23,514 : Flow Logger HTML_b : ['Kalydeco_clean_SmPC.json'] | H | CAP |  el | HTML | Kalydeco_clean.htm\n",
      "2021-05-12 17:25:23,516 : Flow Logger HTML_b : Completed Json Split | H | CAP |  el | HTML | Kalydeco_clean.htm\n",
      "2021-05-12 17:25:23,517 : Flow Logger HTML_b : Started Processing Partitioned Jsons | H | CAP |  el | HTML | Kalydeco_clean.htm\n",
      "2021-05-12 17:25:23,518 : Flow Logger HTML_b : \n",
      "\n",
      "\n",
      "\n",
      "||||||||||||||||||||||||||||||||0 ||||| Kalydeco_clean_SmPC.json||||||||||||||||||||||||||||||||\n",
      "\n",
      "\n",
      "\n",
      " | H | CAP |  el | HTML | Kalydeco_clean.htm\n",
      "2021-05-12 17:25:23,522 : Heading Extraction Kalydeco_clean_SmPC.json_H : Starting Heading Extraction | H | CAP |  el | 0 | Kalydeco_clean_SmPC.json\n"
     ]
    },
    {
     "name": "stdout",
     "output_type": "stream",
     "text": [
      "Starting Heading Extraction For File :- Kalydeco_clean_SmPC.json\n",
      "File being processed: F:\\Projects\\EMA\\Repository\\EMA EPI PoC\\function_code\\work\\H\\CAP\\Kalydeco\\el\\2021-05-11T08-14-06Z\\partitionedJSONs\\Kalydeco_clean_SmPC.json\n",
      "--------------------------------------------\n",
      "SmPC\n"
     ]
    },
    {
     "name": "stderr",
     "output_type": "stream",
     "text": [
      "2021-05-12 17:25:23,834 : Heading Extraction Kalydeco_clean_SmPC.json_H : Started Extracting Heading | H | CAP |  el | 0 | Kalydeco_clean_SmPC.json\n",
      " ΤΟΥ ΠΡΟΪΟΝΤΟΣ' | Qrd txt :- 'ΠΕΡΙΛΗΨΗ ΤΩΝ ΧΑΡΑΚΤΗΡΙΣΤΙΚΩΝ ΤΟΥ ΠΡΟΪΟΝΤΟΣ' | Matched :- 'True'CAP |  el | 0 | Kalydeco_clean_SmPC.json | Doc txt :- 'ΠΕΡΙΛΗΨΗ\n",
      "2021-05-12 17:25:24,024 : Heading Extraction Kalydeco_clean_SmPC.json_H : Validation Passed As This The First Heading | H | CAP |  el | 0 | Kalydeco_clean_SmPC.json | currHeadId :- '16001' | currParentHeadId :- 'nan' | prevParentHeadId :- ''\n",
      " ΠΡΟΪΟΝΤΟΣ' | Qrd txt :- '1. ΟΝΟΜΑΣΙΑ ΤΟΥ ΦΑΡΜΑΚΕΥΤΙΚΟΥ ΠΡΟΪΟΝΤΟΣ' | Matched :- 'True' | H | CAP |  el | 0 | Kalydeco_clean_SmPC.json | Doc txt :- '1.       ΟΝΟΜΑΣΙΑ\n",
      "2021-05-12 17:25:24,059 : Heading Extraction Kalydeco_clean_SmPC.json_H : Validation Flow Is Broken | H | CAP |  el | 0 | Kalydeco_clean_SmPC.json | currHeadId :- '16003' | currParentHeadId :- '16001.0' | prevParentHeadId :- '16001'\n",
      "2021-05-12 17:25:24,062 : Heading Extraction Kalydeco_clean_SmPC.json_H : Validation Passed | H | CAP |  el | 0 | Kalydeco_clean_SmPC.json | currHeadId :- '16003' | currParentHeadId :- '16001.0' | prevParentHeadId :- '16001'\n"
     ]
    },
    {
     "name": "stdout",
     "output_type": "stream",
     "text": [
      "\n"
     ]
    },
    {
     "name": "stderr",
     "output_type": "stream",
     "text": [
      " ΣΥΝΘΕΣΗ' | Qrd txt :- '2. ΠΟΙΟΤΙΚΗ ΚΑΙ ΠΟΣΟΤΙΚΗ ΣΥΝΘΕΣΗ' | Matched :- 'True'ch Passed | H | CAP |  el | 0 | Kalydeco_clean_SmPC.json | Doc txt :- '2.       ΠΟΙΟΤΙΚΗ\n",
      "2021-05-12 17:25:24,634 : Heading Extraction Kalydeco_clean_SmPC.json_H : Validation Passed | H | CAP |  el | 0 | Kalydeco_clean_SmPC.json | currHeadId :- '16004' | currParentHeadId :- '16001.0' | prevParentHeadId :- '16003'\n"
     ]
    },
    {
     "name": "stdout",
     "output_type": "stream",
     "text": [
      "\n"
     ]
    },
    {
     "name": "stderr",
     "output_type": "stream",
     "text": [
      " δράση:' | Qrd txt :- 'Έκδοχο(α) με γνωστή δράση' | Matched :- 'True'_H : Match Passed | H | CAP |  el | 0 | Kalydeco_clean_SmPC.json | Doc txt :- 'Έκδοχο\n",
      "2021-05-12 17:25:25,181 : Heading Extraction Kalydeco_clean_SmPC.json_H : Validation Flow Is Broken | H | CAP |  el | 0 | Kalydeco_clean_SmPC.json | currHeadId :- '16007' | currParentHeadId :- '16006.0' | prevParentHeadId :- '16004'\n",
      "2021-05-12 17:25:25,189 : Heading Extraction Kalydeco_clean_SmPC.json_H : Validation Passed | H | CAP |  el | 0 | Kalydeco_clean_SmPC.json | currHeadId :- '16007' | currParentHeadId :- '16006.0' | prevParentHeadId :- '16004'\n"
     ]
    },
    {
     "name": "stdout",
     "output_type": "stream",
     "text": [
      "\n"
     ]
    },
    {
     "name": "stderr",
     "output_type": "stream",
     "text": [
      " δράση:' | Qrd txt :- 'Έκδοχο(α) με γνωστή δράση' | Matched :- 'True'_H : Match Passed | H | CAP |  el | 0 | Kalydeco_clean_SmPC.json | Doc txt :- 'Έκδοχο\n",
      "2021-05-12 17:25:25,992 : Heading Extraction Kalydeco_clean_SmPC.json_H : Validation Flow Is Broken | H | CAP |  el | 0 | Kalydeco_clean_SmPC.json | currHeadId :- '16007' | currParentHeadId :- '16006.0' | prevParentHeadId :- '16004'\n",
      "2021-05-12 17:25:26,003 : Heading Extraction Kalydeco_clean_SmPC.json_H : Validation Passed | H | CAP |  el | 0 | Kalydeco_clean_SmPC.json | currHeadId :- '16007' | currParentHeadId :- '16006.0' | prevParentHeadId :- '16004'\n"
     ]
    },
    {
     "name": "stdout",
     "output_type": "stream",
     "text": [
      "\n"
     ]
    },
    {
     "name": "stderr",
     "output_type": "stream",
     "text": [
      " ΜΟΡΦΗ' | Qrd txt :- '3. ΦΑΡΜΑΚΟΤΕΧΝΙΚΗ ΜΟΡΦΗ' | Matched :- 'True'son_H : Match Passed | H | CAP |  el | 0 | Kalydeco_clean_SmPC.json | Doc txt :- '3.       ΦΑΡΜΑΚΟΤΕΧΝΙΚΗ\n",
      "2021-05-12 17:25:26,514 : Heading Extraction Kalydeco_clean_SmPC.json_H : Validation Flow Is Broken | H | CAP |  el | 0 | Kalydeco_clean_SmPC.json | currHeadId :- '16008' | currParentHeadId :- '16001.0' | prevParentHeadId :- '16004'\n",
      "2021-05-12 17:25:26,518 : Heading Extraction Kalydeco_clean_SmPC.json_H : Validation Passed | H | CAP |  el | 0 | Kalydeco_clean_SmPC.json | currHeadId :- '16008' | currParentHeadId :- '16001.0' | prevParentHeadId :- '16004'\n"
     ]
    },
    {
     "name": "stdout",
     "output_type": "stream",
     "text": [
      "\n"
     ]
    },
    {
     "name": "stderr",
     "output_type": "stream",
     "text": [
      " ΠΛΗΡΟΦΟΡΙΕΣ' | Qrd txt :- '4. ΚΛΙΝΙΚΕΣ ΠΛΗΡΟΦΟΡΙΕΣ' | Matched :- 'True': Match Passed | H | CAP |  el | 0 | Kalydeco_clean_SmPC.json | Doc txt :- '4.       ΚΛΙΝΙΚΕΣ\n",
      "2021-05-12 17:25:27,630 : Heading Extraction Kalydeco_clean_SmPC.json_H : Validation Passed | H | CAP |  el | 0 | Kalydeco_clean_SmPC.json | currHeadId :- '16009' | currParentHeadId :- '16001.0' | prevParentHeadId :- '16008'\n",
      " ενδείξεις' | Qrd txt :- '4.1 Θεραπευτικές ενδείξεις' | Matched :- 'True' Match Passed | H | CAP |  el | 0 | Kalydeco_clean_SmPC.json | Doc txt :- '4.1     Θεραπευτικές\n",
      "2021-05-12 17:25:27,683 : Heading Extraction Kalydeco_clean_SmPC.json_H : Validation Passed | H | CAP |  el | 0 | Kalydeco_clean_SmPC.json | currHeadId :- '16010' | currParentHeadId :- '16009.0' | prevParentHeadId :- '16009'\n"
     ]
    },
    {
     "name": "stdout",
     "output_type": "stream",
     "text": [
      "\n",
      "\n"
     ]
    },
    {
     "name": "stderr",
     "output_type": "stream",
     "text": [
      " χορήγησης' | Qrd txt :- '4.2 Δοσολογία και τρόπος χορήγησης' | Matched :- 'True'assed | H | CAP |  el | 0 | Kalydeco_clean_SmPC.json | Doc txt :- '4.2    Δοσολογία\n",
      "2021-05-12 17:25:28,034 : Heading Extraction Kalydeco_clean_SmPC.json_H : Validation Passed | H | CAP |  el | 0 | Kalydeco_clean_SmPC.json | currHeadId :- '16011' | currParentHeadId :- '16009.0' | prevParentHeadId :- '16010'\n",
      "2021-05-12 17:25:28,065 : Heading Extraction Kalydeco_clean_SmPC.json_H : Match Failed In Lowercase | H | CAP |  el | 0 | Kalydeco_clean_SmPC.json | Doc txt :- 'Δοσολογία' | Qrd txt :- '4.2 Δοσολογία και τρόπος χορήγησης' | Matched :- 'False'\n",
      "2021-05-12 17:25:28,066 : Heading Extraction Kalydeco_clean_SmPC.json_H : Match Passed | H | CAP |  el | 0 | Kalydeco_clean_SmPC.json | Doc txt :- 'Δοσολογία' | Qrd txt :- 'Δοσολογία' | Matched :- 'True'\n",
      "2021-05-12 17:25:28,080 : Heading Extraction Kalydeco_clean_SmPC.json_H : Validation Passed | H | CAP |  el | 0 | Kalydeco_clean_SmPC.json | currHeadId :- '16012' | currParentHeadId :- '16011.0' | prevParentHeadId :- '16011'\n"
     ]
    },
    {
     "name": "stdout",
     "output_type": "stream",
     "text": [
      "\n",
      "\n",
      "OriginalCheck\n",
      "\n",
      "\n"
     ]
    },
    {
     "name": "stderr",
     "output_type": "stream",
     "text": [
      " χορήγησης»).' | Qrd txt :- '6.5 Φύση και συστατικά του περιέκτη <και ειδικός εξοπλισμός για τη χρήση, τη χορήγηση ή την εμφύτευση>' | Matched :- 'False'\n",
      " (Τάξη Α κατά Child-Pugh). ' | Qrd txt :- '6.5 Φύση και συστατικά του περιέκτη <και ειδικός εξοπλισμός για τη χρήση, τη χορήγηση ή την εμφύτευση>' | Matched :- 'False'\n",
      " πληθυσμός' | Qrd txt :- 'Παιδιατρικός πληθυσμός' | Matched :- 'True'_H : Match Passed | H | CAP |  el | 0 | Kalydeco_clean_SmPC.json | Doc txt :- 'Παιδιατρικός\n",
      "2021-05-12 17:25:31,420 : Heading Extraction Kalydeco_clean_SmPC.json_H : Validation Passed | H | CAP |  el | 0 | Kalydeco_clean_SmPC.json | currHeadId :- '16013' | currParentHeadId :- '16012.0' | prevParentHeadId :- '16011'\n",
      " χορήγησης ' | Qrd txt :- '4.2 Δοσολογία και τρόπος χορήγησης' | Matched :- 'False'led In Lowercase | H | CAP |  el | 0 | Kalydeco_clean_SmPC.json | Doc txt :- 'Τρόπος\n",
      " χορήγησης ' | Qrd txt :- 'Τρόπος χορήγησης' | Matched :- 'True'.json_H : Match Passed | H | CAP |  el | 0 | Kalydeco_clean_SmPC.json | Doc txt :- 'Τρόπος\n",
      "2021-05-12 17:25:31,579 : Heading Extraction Kalydeco_clean_SmPC.json_H : Validation Passed | H | CAP |  el | 0 | Kalydeco_clean_SmPC.json | currHeadId :- '16014' | currParentHeadId :- '16011.0' | prevParentHeadId :- '16011'\n"
     ]
    },
    {
     "name": "stdout",
     "output_type": "stream",
     "text": [
      "\n",
      "\n",
      "OriginalCheck\n",
      "\n",
      "\n"
     ]
    },
    {
     "name": "stderr",
     "output_type": "stream",
     "text": [
      "2021-05-12 17:25:32,153 : Heading Extraction Kalydeco_clean_SmPC.json_H : Match Passed | H | CAP |  el | 0 | Kalydeco_clean_SmPC.json | Doc txt :- '4.3    Αντενδείξεις' | Qrd txt :- '4.3 Αντενδείξεις' | Matched :- 'True'\n",
      "2021-05-12 17:25:32,161 : Heading Extraction Kalydeco_clean_SmPC.json_H : Validation Passed | H | CAP |  el | 0 | Kalydeco_clean_SmPC.json | currHeadId :- '16016' | currParentHeadId :- '16009.0' | prevParentHeadId :- '16011'\n"
     ]
    },
    {
     "name": "stdout",
     "output_type": "stream",
     "text": [
      "\n"
     ]
    },
    {
     "name": "stderr",
     "output_type": "stream",
     "text": [
      " κατά τη χρήση' | Qrd txt :- '4.4 Ειδικές προειδοποιήσεις και προφυλάξεις κατά τη χρήση' | Matched :- 'True' Kalydeco_clean_SmPC.json | Doc txt :- '4.4    Ειδικές\n",
      "2021-05-12 17:25:32,374 : Heading Extraction Kalydeco_clean_SmPC.json_H : Validation Passed | H | CAP |  el | 0 | Kalydeco_clean_SmPC.json | currHeadId :- '16017' | currParentHeadId :- '16009.0' | prevParentHeadId :- '16016'\n"
     ]
    },
    {
     "name": "stdout",
     "output_type": "stream",
     "text": [
      "\n"
     ]
    },
    {
     "name": "stderr",
     "output_type": "stream",
     "text": [
      " λειτουργίας' | Qrd txt :- '6.5 Φύση και συστατικά του περιέκτη <και ειδικός εξοπλισμός για τη χρήση, τη χορήγηση ή την εμφύτευση>' | Matched :- 'False'ραση\n",
      " λειτουργίας' | Qrd txt :- '6.6 Ιδιαίτερες προφυλάξεις απόρριψης <και άλλος χειρισμός>' | Matched :- 'False' Kalydeco_clean_SmPC.json | Doc txt :- 'Επίδραση\n",
      " πληθυσμός' | Qrd txt :- 'Παιδιατρικός πληθυσμός' | Matched :- 'True'_H : Match Passed | H | CAP |  el | 0 | Kalydeco_clean_SmPC.json | Doc txt :- 'Παιδιατρικός\n",
      "2021-05-12 17:25:34,214 : Heading Extraction Kalydeco_clean_SmPC.json_H : Validation Failed As Previous Heading Found is not matching | H | CAP |  el | 0 | Kalydeco_clean_SmPC.json | currHeadId :- '16013' | currParentHeadId :- '16012.0' | prevParentHeadId :- '16017'\n",
      " πληθυσμός' | Qrd txt :- 'Παιδιατρικός πληθυσμός' | Matched :- 'True'_H : Match Passed | H | CAP |  el | 0 | Kalydeco_clean_SmPC.json | Doc txt :- 'Παιδιατρικός\n",
      "2021-05-12 17:25:34,243 : Heading Extraction Kalydeco_clean_SmPC.json_H : Validation Passed | H | CAP |  el | 0 | Kalydeco_clean_SmPC.json | currHeadId :- '16019' | currParentHeadId :- '16017.0' | prevParentHeadId :- '16017'\n"
     ]
    },
    {
     "name": "stdout",
     "output_type": "stream",
     "text": [
      "\n"
     ]
    },
    {
     "name": "stderr",
     "output_type": "stream",
     "text": [
      " αυτό το φάρμακο.' | Qrd txt :- '6.5 Φύση και συστατικά του περιέκτη <και ειδικός εξοπλισμός για τη χρήση, τη χορήγηση ή την εμφύτευση>' | Matched :- 'False'co περιέχει\n",
      " αλληλεπίδρασης' | Qrd txt :- '4.5 Αλληλεπιδράσεις με άλλα φαρμακευτικά προϊόντα και άλλες μορφές αλληλεπίδρασης' | Matched :- 'True' | Doc txt :- '4.5     Αλληλεπιδράσεις\n",
      "2021-05-12 17:25:35,053 : Heading Extraction Kalydeco_clean_SmPC.json_H : Validation Passed | H | CAP |  el | 0 | Kalydeco_clean_SmPC.json | currHeadId :- '16020' | currParentHeadId :- '16009.0' | prevParentHeadId :- '16017'\n"
     ]
    },
    {
     "name": "stdout",
     "output_type": "stream",
     "text": [
      "\n"
     ]
    },
    {
     "name": "stderr",
     "output_type": "stream",
     "text": [
      " πληθυσμός' | Qrd txt :- 'Παιδιατρικός πληθυσμός' | Matched :- 'True'_H : Match Passed | H | CAP |  el | 0 | Kalydeco_clean_SmPC.json | Doc txt :- 'Παιδιατρικός\n",
      "2021-05-12 17:25:37,104 : Heading Extraction Kalydeco_clean_SmPC.json_H : Validation Failed As Previous Heading Found is not matching | H | CAP |  el | 0 | Kalydeco_clean_SmPC.json | currHeadId :- '16013' | currParentHeadId :- '16012.0' | prevParentHeadId :- '16020'\n",
      " πληθυσμός' | Qrd txt :- 'Παιδιατρικός πληθυσμός' | Matched :- 'True'_H : Match Passed | H | CAP |  el | 0 | Kalydeco_clean_SmPC.json | Doc txt :- 'Παιδιατρικός\n",
      "2021-05-12 17:25:37,130 : Heading Extraction Kalydeco_clean_SmPC.json_H : Validation Failed As Previous Heading Found is not matching | H | CAP |  el | 0 | Kalydeco_clean_SmPC.json | currHeadId :- '16019' | currParentHeadId :- '16017.0' | prevParentHeadId :- '16020'\n",
      " πληθυσμός' | Qrd txt :- 'Παιδιατρικός πληθυσμός' | Matched :- 'True'_H : Match Passed | H | CAP |  el | 0 | Kalydeco_clean_SmPC.json | Doc txt :- 'Παιδιατρικός\n",
      "2021-05-12 17:25:37,149 : Heading Extraction Kalydeco_clean_SmPC.json_H : Validation Passed | H | CAP |  el | 0 | Kalydeco_clean_SmPC.json | currHeadId :- '16021' | currParentHeadId :- '16020.0' | prevParentHeadId :- '16020'\n"
     ]
    },
    {
     "name": "stdout",
     "output_type": "stream",
     "text": [
      "\n"
     ]
    },
    {
     "name": "stderr",
     "output_type": "stream",
     "text": [
      " γαλουχία' | Qrd txt :- '4.6 Γονιμότητα, κύηση και γαλουχία' | Matched :- 'True'Passed | H | CAP |  el | 0 | Kalydeco_clean_SmPC.json | Doc txt :- '4.6     Γονιμότητα,\n",
      "2021-05-12 17:25:37,450 : Heading Extraction Kalydeco_clean_SmPC.json_H : Validation Passed | H | CAP |  el | 0 | Kalydeco_clean_SmPC.json | currHeadId :- '16022' | currParentHeadId :- '16009.0' | prevParentHeadId :- '16020'\n",
      "2021-05-12 17:25:37,497 : Heading Extraction Kalydeco_clean_SmPC.json_H : Match Passed | H | CAP |  el | 0 | Kalydeco_clean_SmPC.json | Doc txt :- 'Θηλασμός' | Qrd txt :- 'Θηλασμός' | Matched :- 'True'\n",
      "2021-05-12 17:25:37,507 : Heading Extraction Kalydeco_clean_SmPC.json_H : Validation Passed | H | CAP |  el | 0 | Kalydeco_clean_SmPC.json | currHeadId :- '16024' | currParentHeadId :- '16022.0' | prevParentHeadId :- '16022'\n",
      "2021-05-12 17:25:37,559 : Heading Extraction Kalydeco_clean_SmPC.json_H : Match Failed In Lowercase | H | CAP |  el | 0 | Kalydeco_clean_SmPC.json | Doc txt :- 'Γονιμότητα' | Qrd txt :- '4.6 Γονιμότητα, κύηση και γαλουχία' | Matched :- 'False'\n",
      "2021-05-12 17:25:37,562 : Heading Extraction Kalydeco_clean_SmPC.json_H : Match Passed | H | CAP |  el | 0 | Kalydeco_clean_SmPC.json | Doc txt :- 'Γονιμότητα' | Qrd txt :- 'Γονιμότητα' | Matched :- 'True'\n",
      "2021-05-12 17:25:37,575 : Heading Extraction Kalydeco_clean_SmPC.json_H : Validation Passed | H | CAP |  el | 0 | Kalydeco_clean_SmPC.json | currHeadId :- '16025' | currParentHeadId :- '16022.0' | prevParentHeadId :- '16022'\n"
     ]
    },
    {
     "name": "stdout",
     "output_type": "stream",
     "text": [
      "\n",
      "\n",
      "\n",
      "OriginalCheck\n",
      "\n",
      "\n"
     ]
    },
    {
     "name": "stderr",
     "output_type": "stream",
     "text": [
      " μηχανημάτων' | Qrd txt :- '4.7 Επιδράσεις στην ικανότητα οδήγησης και χειρισμού μηχανημάτων' | Matched :- 'True'deco_clean_SmPC.json | Doc txt :- '4.7    Επιδράσεις\n",
      "2021-05-12 17:25:37,810 : Heading Extraction Kalydeco_clean_SmPC.json_H : Validation Passed | H | CAP |  el | 0 | Kalydeco_clean_SmPC.json | currHeadId :- '16026' | currParentHeadId :- '16009.0' | prevParentHeadId :- '16022'\n",
      " ενέργειες' | Qrd txt :- '4.8 Ανεπιθύμητες ενέργειες' | Matched :- 'True' Match Passed | H | CAP |  el | 0 | Kalydeco_clean_SmPC.json | Doc txt :- '4.8    Aνεπιθύμητες\n",
      "2021-05-12 17:25:37,912 : Heading Extraction Kalydeco_clean_SmPC.json_H : Validation Passed | H | CAP |  el | 0 | Kalydeco_clean_SmPC.json | currHeadId :- '16027' | currParentHeadId :- '16009.0' | prevParentHeadId :- '16026'\n"
     ]
    },
    {
     "name": "stdout",
     "output_type": "stream",
     "text": [
      "\n",
      "\n"
     ]
    },
    {
     "name": "stderr",
     "output_type": "stream",
     "text": [
      " πληθυσμός' | Qrd txt :- 'Παιδιατρικός πληθυσμός' | Matched :- 'True'_H : Match Passed | H | CAP |  el | 0 | Kalydeco_clean_SmPC.json | Doc txt :- 'Παιδιατρικός\n",
      "2021-05-12 17:25:40,432 : Heading Extraction Kalydeco_clean_SmPC.json_H : Validation Failed As Previous Heading Found is not matching | H | CAP |  el | 0 | Kalydeco_clean_SmPC.json | currHeadId :- '16013' | currParentHeadId :- '16012.0' | prevParentHeadId :- '16027'\n",
      " πληθυσμός' | Qrd txt :- 'Παιδιατρικός πληθυσμός' | Matched :- 'True'_H : Match Passed | H | CAP |  el | 0 | Kalydeco_clean_SmPC.json | Doc txt :- 'Παιδιατρικός\n",
      "2021-05-12 17:25:40,460 : Heading Extraction Kalydeco_clean_SmPC.json_H : Validation Failed As Previous Heading Found is not matching | H | CAP |  el | 0 | Kalydeco_clean_SmPC.json | currHeadId :- '16019' | currParentHeadId :- '16017.0' | prevParentHeadId :- '16027'\n",
      " πληθυσμός' | Qrd txt :- 'Παιδιατρικός πληθυσμός' | Matched :- 'True'_H : Match Passed | H | CAP |  el | 0 | Kalydeco_clean_SmPC.json | Doc txt :- 'Παιδιατρικός\n",
      "2021-05-12 17:25:40,480 : Heading Extraction Kalydeco_clean_SmPC.json_H : Validation Failed As Previous Heading Found is not matching | H | CAP |  el | 0 | Kalydeco_clean_SmPC.json | currHeadId :- '16021' | currParentHeadId :- '16020.0' | prevParentHeadId :- '16027'\n",
      " πληθυσμός' | Qrd txt :- 'Παιδιατρικός πληθυσμός' | Matched :- 'True'_H : Match Passed | H | CAP |  el | 0 | Kalydeco_clean_SmPC.json | Doc txt :- 'Παιδιατρικός\n",
      "2021-05-12 17:25:40,520 : Heading Extraction Kalydeco_clean_SmPC.json_H : Validation Passed | H | CAP |  el | 0 | Kalydeco_clean_SmPC.json | currHeadId :- '16028' | currParentHeadId :- '16027.0' | prevParentHeadId :- '16027'\n"
     ]
    },
    {
     "name": "stdout",
     "output_type": "stream",
     "text": [
      "\n"
     ]
    },
    {
     "name": "stderr",
     "output_type": "stream",
     "text": [
      " ενεργειών' | Qrd txt :- 'Αναφορά πιθανολογούμενων ανεπιθύμητων ενεργειών' | Matched :- 'True'AP |  el | 0 | Kalydeco_clean_SmPC.json | Doc txt :- 'Αναφορά\n",
      "2021-05-12 17:25:41,013 : Heading Extraction Kalydeco_clean_SmPC.json_H : Validation Passed | H | CAP |  el | 0 | Kalydeco_clean_SmPC.json | currHeadId :- '16029' | currParentHeadId :- '16027.0' | prevParentHeadId :- '16027'\n",
      "2021-05-12 17:25:41,053 : Heading Extraction Kalydeco_clean_SmPC.json_H : Match Failed In Lowercase | H | CAP |  el | 0 | Kalydeco_clean_SmPC.json | Doc txt :- '4.9     Υπερδοσολογία' | Qrd txt :- 'Δοσολογία' | Matched :- 'False'\n",
      "2021-05-12 17:25:41,100 : Heading Extraction Kalydeco_clean_SmPC.json_H : Match Passed | H | CAP |  el | 0 | Kalydeco_clean_SmPC.json | Doc txt :- '4.9     Υπερδοσολογία' | Qrd txt :- '4.9 Υπερδοσολογία' | Matched :- 'True'\n",
      "2021-05-12 17:25:41,108 : Heading Extraction Kalydeco_clean_SmPC.json_H : Validation Passed | H | CAP |  el | 0 | Kalydeco_clean_SmPC.json | currHeadId :- '16030' | currParentHeadId :- '16009.0' | prevParentHeadId :- '16027'\n"
     ]
    },
    {
     "name": "stdout",
     "output_type": "stream",
     "text": [
      "\n",
      "\n",
      "OriginalCheck\n",
      "\n",
      "\n"
     ]
    },
    {
     "name": "stderr",
     "output_type": "stream",
     "text": [
      " ΙΔΙΟΤΗΤΕΣ' | Qrd txt :- '5. ΦΑΡΜΑΚΟΛΟΓΙΚΕΣ ΙΔΙΟΤΗΤΕΣ' | Matched :- 'True'Match Passed | H | CAP |  el | 0 | Kalydeco_clean_SmPC.json | Doc txt :- '5.       ΦΑΡΜΑΚΟΛΟΓΙΚΕΣ\n",
      "2021-05-12 17:25:41,215 : Heading Extraction Kalydeco_clean_SmPC.json_H : Validation Passed | H | CAP |  el | 0 | Kalydeco_clean_SmPC.json | currHeadId :- '16032' | currParentHeadId :- '16001.0' | prevParentHeadId :- '16030'\n",
      " ιδιότητες' | Qrd txt :- '5.1 Φαρμακοδυναμικές ιδιότητες' | Matched :- 'True'ch Passed | H | CAP |  el | 0 | Kalydeco_clean_SmPC.json | Doc txt :- '5.1     Φαρμακοδυναμικές\n",
      "2021-05-12 17:25:41,343 : Heading Extraction Kalydeco_clean_SmPC.json_H : Validation Passed | H | CAP |  el | 0 | Kalydeco_clean_SmPC.json | currHeadId :- '16033' | currParentHeadId :- '16032.0' | prevParentHeadId :- '16032'\n"
     ]
    },
    {
     "name": "stdout",
     "output_type": "stream",
     "text": [
      "\n",
      "\n"
     ]
    },
    {
     "name": "stderr",
     "output_type": "stream",
     "text": [
      " δράσης' | Qrd txt :- 'Μηχανισμός δράσης' | Matched :- 'True'mPC.json_H : Match Passed | H | CAP |  el | 0 | Kalydeco_clean_SmPC.json | Doc txt :- 'Μηχανισμός\n",
      "2021-05-12 17:25:41,669 : Heading Extraction Kalydeco_clean_SmPC.json_H : Validation Passed | H | CAP |  el | 0 | Kalydeco_clean_SmPC.json | currHeadId :- '16034' | currParentHeadId :- '16033.0' | prevParentHeadId :- '16033'\n",
      " επιδράσεις' | Qrd txt :- 'Φαρμακοδυναμικές επιδράσεις' | Matched :- 'True'atch Passed | H | CAP |  el | 0 | Kalydeco_clean_SmPC.json | Doc txt :- 'Φαρμακοδυναμικές\n",
      "2021-05-12 17:25:41,794 : Heading Extraction Kalydeco_clean_SmPC.json_H : Validation Passed | H | CAP |  el | 0 | Kalydeco_clean_SmPC.json | currHeadId :- '16035' | currParentHeadId :- '16033.0' | prevParentHeadId :- '16033'\n"
     ]
    },
    {
     "name": "stdout",
     "output_type": "stream",
     "text": [
      "\n",
      "\n"
     ]
    },
    {
     "name": "stderr",
     "output_type": "stream",
     "text": [
      " και ασφάλεια' | Qrd txt :- 'Κλινική αποτελεσματικότητα και ασφάλεια' | Matched :- 'True'H | CAP |  el | 0 | Kalydeco_clean_SmPC.json | Doc txt :- 'Κλινική\n",
      "2021-05-12 17:25:42,502 : Heading Extraction Kalydeco_clean_SmPC.json_H : Validation Passed | H | CAP |  el | 0 | Kalydeco_clean_SmPC.json | currHeadId :- '16036' | currParentHeadId :- '16033.0' | prevParentHeadId :- '16033'\n"
     ]
    },
    {
     "name": "stdout",
     "output_type": "stream",
     "text": [
      "\n"
     ]
    },
    {
     "name": "stderr",
     "output_type": "stream",
     "text": [
      " για την ΚΙ.' | Qrd txt :- '6.5 Φύση και συστατικά του περιέκτη <και ειδικός εξοπλισμός για τη χρήση, τη χορήγηση ή την εμφύτευση>' | Matched :- 'False'        βCFQ-R: Ερωτηματολόγιο\n",
      " μεταλλάξεων.' | Qrd txt :- '6.5 Φύση και συστατικά του περιέκτη <και ειδικός εξοπλισμός για τη χρήση, τη χορήγηση ή την εμφύτευση>' | Matched :- 'False'εν\n",
      " μεταλλάξεων.' | Qrd txt :- '6.6 Ιδιαίτερες προφυλάξεις απόρριψης <και άλλος χειρισμός>' | Matched :- 'False'Kalydeco_clean_SmPC.json | Doc txt :- '*   Δεν\n",
      " 48 εβδομάδων.' | Qrd txt :- '6.6 Ιδιαίτερες προφυλάξεις απόρριψης <και άλλος χειρισμός>' | Matched :- 'False'alydeco_clean_SmPC.json | Doc txt :- '*     Η θεραπεία\n",
      " πληθυσμός' | Qrd txt :- 'Παιδιατρικός πληθυσμός' | Matched :- 'True'_H : Match Passed | H | CAP |  el | 0 | Kalydeco_clean_SmPC.json | Doc txt :- 'Παιδιατρικός\n",
      "2021-05-12 17:25:46,774 : Heading Extraction Kalydeco_clean_SmPC.json_H : Validation Failed As Previous Heading Found is not matching | H | CAP |  el | 0 | Kalydeco_clean_SmPC.json | currHeadId :- '16013' | currParentHeadId :- '16012.0' | prevParentHeadId :- '16033'\n",
      " πληθυσμός' | Qrd txt :- 'Παιδιατρικός πληθυσμός' | Matched :- 'True'_H : Match Passed | H | CAP |  el | 0 | Kalydeco_clean_SmPC.json | Doc txt :- 'Παιδιατρικός\n",
      "2021-05-12 17:25:46,803 : Heading Extraction Kalydeco_clean_SmPC.json_H : Validation Failed As Previous Heading Found is not matching | H | CAP |  el | 0 | Kalydeco_clean_SmPC.json | currHeadId :- '16019' | currParentHeadId :- '16017.0' | prevParentHeadId :- '16033'\n",
      " πληθυσμός' | Qrd txt :- 'Παιδιατρικός πληθυσμός' | Matched :- 'True'_H : Match Passed | H | CAP |  el | 0 | Kalydeco_clean_SmPC.json | Doc txt :- 'Παιδιατρικός\n",
      "2021-05-12 17:25:46,819 : Heading Extraction Kalydeco_clean_SmPC.json_H : Validation Failed As Previous Heading Found is not matching | H | CAP |  el | 0 | Kalydeco_clean_SmPC.json | currHeadId :- '16021' | currParentHeadId :- '16020.0' | prevParentHeadId :- '16033'\n",
      " πληθυσμός' | Qrd txt :- 'Παιδιατρικός πληθυσμός' | Matched :- 'True'_H : Match Passed | H | CAP |  el | 0 | Kalydeco_clean_SmPC.json | Doc txt :- 'Παιδιατρικός\n",
      "2021-05-12 17:25:46,840 : Heading Extraction Kalydeco_clean_SmPC.json_H : Validation Failed As Previous Heading Found is not matching | H | CAP |  el | 0 | Kalydeco_clean_SmPC.json | currHeadId :- '16028' | currParentHeadId :- '16027.0' | prevParentHeadId :- '16033'\n",
      " πληθυσμός' | Qrd txt :- 'Παιδιατρικός πληθυσμός' | Matched :- 'True'_H : Match Passed | H | CAP |  el | 0 | Kalydeco_clean_SmPC.json | Doc txt :- 'Παιδιατρικός\n",
      "2021-05-12 17:25:46,855 : Heading Extraction Kalydeco_clean_SmPC.json_H : Validation Failed As Previous Heading Found is not matching | H | CAP |  el | 0 | Kalydeco_clean_SmPC.json | currHeadId :- '16031' | currParentHeadId :- '16030.0' | prevParentHeadId :- '16033'\n",
      " πληθυσμός' | Qrd txt :- 'Παιδιατρικός πληθυσμός' | Matched :- 'True'_H : Match Passed | H | CAP |  el | 0 | Kalydeco_clean_SmPC.json | Doc txt :- 'Παιδιατρικός\n",
      "2021-05-12 17:25:46,880 : Heading Extraction Kalydeco_clean_SmPC.json_H : Validation Passed | H | CAP |  el | 0 | Kalydeco_clean_SmPC.json | currHeadId :- '16037' | currParentHeadId :- '16033.0' | prevParentHeadId :- '16033'\n"
     ]
    },
    {
     "name": "stdout",
     "output_type": "stream",
     "text": [
      "\n"
     ]
    },
    {
     "name": "stderr",
     "output_type": "stream",
     "text": [
      " ιδιότητες' | Qrd txt :- '5.1 Φαρμακοδυναμικές ιδιότητες' | Matched :- 'False'h Failed | H | CAP |  el | 0 | Kalydeco_clean_SmPC.json | Doc txt :- '5.2     Φαρμακοκινητικές\n",
      " ιδιότητες' | Qrd txt :- '5.2 Φαρμακοκινητικές ιδιότητες' | Matched :- 'True'ch Passed | H | CAP |  el | 0 | Kalydeco_clean_SmPC.json | Doc txt :- '5.2     Φαρμακοκινητικές\n",
      "2021-05-12 17:25:47,244 : Heading Extraction Kalydeco_clean_SmPC.json_H : Validation Passed | H | CAP |  el | 0 | Kalydeco_clean_SmPC.json | currHeadId :- '16038' | currParentHeadId :- '16032.0' | prevParentHeadId :- '16033'\n"
     ]
    },
    {
     "name": "stdout",
     "output_type": "stream",
     "text": [
      "\n"
     ]
    },
    {
     "name": "stderr",
     "output_type": "stream",
     "text": [
      "2021-05-12 17:25:47,488 : Heading Extraction Kalydeco_clean_SmPC.json_H : Match Passed | H | CAP |  el | 0 | Kalydeco_clean_SmPC.json | Doc txt :- 'Απορρόφηση' | Qrd txt :- 'Απορρόφηση' | Matched :- 'True'\n",
      "2021-05-12 17:25:47,500 : Heading Extraction Kalydeco_clean_SmPC.json_H : Validation Passed | H | CAP |  el | 0 | Kalydeco_clean_SmPC.json | currHeadId :- '16039' | currParentHeadId :- '16038.0' | prevParentHeadId :- '16038'\n",
      "2021-05-12 17:25:47,573 : Heading Extraction Kalydeco_clean_SmPC.json_H : Match Passed | H | CAP |  el | 0 | Kalydeco_clean_SmPC.json | Doc txt :- 'Κατανομή' | Qrd txt :- 'Κατανομή' | Matched :- 'True'\n",
      "2021-05-12 17:25:47,584 : Heading Extraction Kalydeco_clean_SmPC.json_H : Validation Passed | H | CAP |  el | 0 | Kalydeco_clean_SmPC.json | currHeadId :- '16040' | currParentHeadId :- '16038.0' | prevParentHeadId :- '16038'\n"
     ]
    },
    {
     "name": "stdout",
     "output_type": "stream",
     "text": [
      "\n",
      "\n"
     ]
    },
    {
     "name": "stderr",
     "output_type": "stream",
     "text": [
      "2021-05-12 17:25:47,698 : Heading Extraction Kalydeco_clean_SmPC.json_H : Match Passed | H | CAP |  el | 0 | Kalydeco_clean_SmPC.json | Doc txt :- 'Βιομετασχηματισμός' | Qrd txt :- 'Βιομετασχηματισμός' | Matched :- 'True'\n",
      "2021-05-12 17:25:47,710 : Heading Extraction Kalydeco_clean_SmPC.json_H : Validation Passed | H | CAP |  el | 0 | Kalydeco_clean_SmPC.json | currHeadId :- '16041' | currParentHeadId :- '16038.0' | prevParentHeadId :- '16038'\n",
      "2021-05-12 17:25:47,798 : Heading Extraction Kalydeco_clean_SmPC.json_H : Match Passed | H | CAP |  el | 0 | Kalydeco_clean_SmPC.json | Doc txt :- 'Αποβολή' | Qrd txt :- 'Αποβολή' | Matched :- 'True'\n",
      "2021-05-12 17:25:47,810 : Heading Extraction Kalydeco_clean_SmPC.json_H : Validation Passed | H | CAP |  el | 0 | Kalydeco_clean_SmPC.json | currHeadId :- '16042' | currParentHeadId :- '16038.0' | prevParentHeadId :- '16038'\n"
     ]
    },
    {
     "name": "stdout",
     "output_type": "stream",
     "text": [
      "\n",
      "\n"
     ]
    },
    {
     "name": "stderr",
     "output_type": "stream",
     "text": [
      " γραμμικότητα' | Qrd txt :- 'Γραμμικότητα/μη γραμμικότητα' | Matched :- 'True'h Passed | H | CAP |  el | 0 | Kalydeco_clean_SmPC.json | Doc txt :- 'Γραμμικότητα/μη\n",
      "2021-05-12 17:25:47,947 : Heading Extraction Kalydeco_clean_SmPC.json_H : Validation Passed | H | CAP |  el | 0 | Kalydeco_clean_SmPC.json | currHeadId :- '16043' | currParentHeadId :- '16038.0' | prevParentHeadId :- '16038'\n"
     ]
    },
    {
     "name": "stdout",
     "output_type": "stream",
     "text": [
      "\n"
     ]
    },
    {
     "name": "stderr",
     "output_type": "stream",
     "text": [
      " παράγραφο 4.2.' | Qrd txt :- '6.5 Φύση και συστατικά του περιέκτη <και ειδικός εξοπλισμός για τη χρήση, τη χορήγηση ή την εμφύτευση>' | Matched :- 'False'\n",
      " πληθυσμός' | Qrd txt :- 'Παιδιατρικός πληθυσμός' | Matched :- 'True'_H : Match Passed | H | CAP |  el | 0 | Kalydeco_clean_SmPC.json | Doc txt :- 'Παιδιατρικός\n",
      "2021-05-12 17:25:50,291 : Heading Extraction Kalydeco_clean_SmPC.json_H : Validation Failed As Previous Heading Found is not matching | H | CAP |  el | 0 | Kalydeco_clean_SmPC.json | currHeadId :- '16013' | currParentHeadId :- '16012.0' | prevParentHeadId :- '16038'\n",
      " πληθυσμός' | Qrd txt :- 'Παιδιατρικός πληθυσμός' | Matched :- 'True'_H : Match Passed | H | CAP |  el | 0 | Kalydeco_clean_SmPC.json | Doc txt :- 'Παιδιατρικός\n",
      "2021-05-12 17:25:50,321 : Heading Extraction Kalydeco_clean_SmPC.json_H : Validation Failed As Previous Heading Found is not matching | H | CAP |  el | 0 | Kalydeco_clean_SmPC.json | currHeadId :- '16019' | currParentHeadId :- '16017.0' | prevParentHeadId :- '16038'\n",
      " πληθυσμός' | Qrd txt :- 'Παιδιατρικός πληθυσμός' | Matched :- 'True'_H : Match Passed | H | CAP |  el | 0 | Kalydeco_clean_SmPC.json | Doc txt :- 'Παιδιατρικός\n",
      "2021-05-12 17:25:50,338 : Heading Extraction Kalydeco_clean_SmPC.json_H : Validation Failed As Previous Heading Found is not matching | H | CAP |  el | 0 | Kalydeco_clean_SmPC.json | currHeadId :- '16021' | currParentHeadId :- '16020.0' | prevParentHeadId :- '16038'\n",
      " πληθυσμός' | Qrd txt :- 'Παιδιατρικός πληθυσμός' | Matched :- 'True'_H : Match Passed | H | CAP |  el | 0 | Kalydeco_clean_SmPC.json | Doc txt :- 'Παιδιατρικός\n",
      "2021-05-12 17:25:50,360 : Heading Extraction Kalydeco_clean_SmPC.json_H : Validation Failed As Previous Heading Found is not matching | H | CAP |  el | 0 | Kalydeco_clean_SmPC.json | currHeadId :- '16028' | currParentHeadId :- '16027.0' | prevParentHeadId :- '16038'\n",
      " πληθυσμός' | Qrd txt :- 'Παιδιατρικός πληθυσμός' | Matched :- 'True'_H : Match Passed | H | CAP |  el | 0 | Kalydeco_clean_SmPC.json | Doc txt :- 'Παιδιατρικός\n",
      "2021-05-12 17:25:50,378 : Heading Extraction Kalydeco_clean_SmPC.json_H : Validation Failed As Previous Heading Found is not matching | H | CAP |  el | 0 | Kalydeco_clean_SmPC.json | currHeadId :- '16031' | currParentHeadId :- '16030.0' | prevParentHeadId :- '16038'\n",
      " πληθυσμός' | Qrd txt :- 'Παιδιατρικός πληθυσμός' | Matched :- 'True'_H : Match Passed | H | CAP |  el | 0 | Kalydeco_clean_SmPC.json | Doc txt :- 'Παιδιατρικός\n",
      "2021-05-12 17:25:50,412 : Heading Extraction Kalydeco_clean_SmPC.json_H : Validation Failed As Previous Heading Found is not matching | H | CAP |  el | 0 | Kalydeco_clean_SmPC.json | currHeadId :- '16037' | currParentHeadId :- '16033.0' | prevParentHeadId :- '16038'\n",
      " ομάδα.' | Qrd txt :- '6.5 Φύση και συστατικά του περιέκτη <και ειδικός εξοπλισμός για τη χρήση, τη χορήγηση ή την εμφύτευση>' | Matched :- 'False''†     Οι\n",
      " την ασφάλεια' | Qrd txt :- '5.3 Προκλινικά δεδομένα για την ασφάλεια' | Matched :- 'True' | CAP |  el | 0 | Kalydeco_clean_SmPC.json | Doc txt :- '5.3     Προκλινικά\n",
      "2021-05-12 17:25:53,025 : Heading Extraction Kalydeco_clean_SmPC.json_H : Validation Passed | H | CAP |  el | 0 | Kalydeco_clean_SmPC.json | currHeadId :- '16045' | currParentHeadId :- '16032.0' | prevParentHeadId :- '16038'\n"
     ]
    },
    {
     "name": "stdout",
     "output_type": "stream",
     "text": [
      "\n"
     ]
    },
    {
     "name": "stderr",
     "output_type": "stream",
     "text": [
      " ΠΛΗΡΟΦΟΡΙΕΣ' | Qrd txt :- '6. ΦΑΡΜΑΚΕΥΤΙΚΕΣ ΠΛΗΡΟΦΟΡΙΕΣ' | Matched :- 'True'ch Passed | H | CAP |  el | 0 | Kalydeco_clean_SmPC.json | Doc txt :- '6.       ΦΑΡΜΑΚΕΥΤΙΚΕΣ\n",
      "2021-05-12 17:25:54,456 : Heading Extraction Kalydeco_clean_SmPC.json_H : Validation Passed | H | CAP |  el | 0 | Kalydeco_clean_SmPC.json | currHeadId :- '16047' | currParentHeadId :- '16001.0' | prevParentHeadId :- '16045'\n"
     ]
    },
    {
     "name": "stdout",
     "output_type": "stream",
     "text": [
      "\n"
     ]
    },
    {
     "name": "stderr",
     "output_type": "stream",
     "text": [
      " εκδόχων' | Qrd txt :- '6.1 Κατάλογος εκδόχων' | Matched :- 'True'son_H : Match Passed | H | CAP |  el | 0 | Kalydeco_clean_SmPC.json | Doc txt :- '6.1     Κατάλογος\n",
      "2021-05-12 17:25:54,669 : Heading Extraction Kalydeco_clean_SmPC.json_H : Validation Passed | H | CAP |  el | 0 | Kalydeco_clean_SmPC.json | currHeadId :- '16048' | currParentHeadId :- '16047.0' | prevParentHeadId :- '16047'\n"
     ]
    },
    {
     "name": "stdout",
     "output_type": "stream",
     "text": [
      "\n"
     ]
    },
    {
     "name": "stderr",
     "output_type": "stream",
     "text": [
      "2021-05-12 17:25:58,601 : Heading Extraction Kalydeco_clean_SmPC.json_H : Match Passed | H | CAP |  el | 0 | Kalydeco_clean_SmPC.json | Doc txt :- '6.2     Ασυμβατότητες' | Qrd txt :- '6.2 Ασυμβατότητες' | Matched :- 'True'\n",
      "2021-05-12 17:25:58,609 : Heading Extraction Kalydeco_clean_SmPC.json_H : Validation Passed | H | CAP |  el | 0 | Kalydeco_clean_SmPC.json | currHeadId :- '16049' | currParentHeadId :- '16047.0' | prevParentHeadId :- '16048'\n"
     ]
    },
    {
     "name": "stdout",
     "output_type": "stream",
     "text": [
      "\n"
     ]
    },
    {
     "name": "stderr",
     "output_type": "stream",
     "text": [
      " ζωής' | Qrd txt :- '6.3 Διάρκεια ζωής' | Matched :- 'True'_SmPC.json_H : Match Passed | H | CAP |  el | 0 | Kalydeco_clean_SmPC.json | Doc txt :- '6.3     Διάρκεια\n",
      "2021-05-12 17:25:58,884 : Heading Extraction Kalydeco_clean_SmPC.json_H : Validation Passed | H | CAP |  el | 0 | Kalydeco_clean_SmPC.json | currHeadId :- '16050' | currParentHeadId :- '16047.0' | prevParentHeadId :- '16049'\n"
     ]
    },
    {
     "name": "stdout",
     "output_type": "stream",
     "text": [
      "\n"
     ]
    },
    {
     "name": "stderr",
     "output_type": "stream",
     "text": [
      " του προϊόντος' | Qrd txt :- '6.4 Ιδιαίτερες προφυλάξεις κατά τη φύλαξη του προϊόντος' | Matched :- 'True' | Kalydeco_clean_SmPC.json | Doc txt :- '6.4     Ιδιαίτερες\n",
      "2021-05-12 17:25:59,134 : Heading Extraction Kalydeco_clean_SmPC.json_H : Validation Passed | H | CAP |  el | 0 | Kalydeco_clean_SmPC.json | currHeadId :- '16051' | currParentHeadId :- '16047.0' | prevParentHeadId :- '16050'\n",
      " φύλαξης.' | Qrd txt :- '6.5 Φύση και συστατικά του περιέκτη <και ειδικός εξοπλισμός για τη χρήση, τη χορήγηση ή την εμφύτευση>' | Matched :- 'False'ο\n"
     ]
    },
    {
     "name": "stdout",
     "output_type": "stream",
     "text": [
      "\n"
     ]
    },
    {
     "name": "stderr",
     "output_type": "stream",
     "text": [
      " του περιέκτη' | Qrd txt :- '6.5 Φύση και συστατικά του περιέκτη <και ειδικός εξοπλισμός για τη χρήση, τη χορήγηση ή την εμφύτευση>' | Matched :- 'True'    Φύση\n",
      "2021-05-12 17:25:59,484 : Heading Extraction Kalydeco_clean_SmPC.json_H : Validation Passed | H | CAP |  el | 0 | Kalydeco_clean_SmPC.json | currHeadId :- '16052' | currParentHeadId :- '16047.0' | prevParentHeadId :- '16051'\n"
     ]
    },
    {
     "name": "stdout",
     "output_type": "stream",
     "text": [
      "\n"
     ]
    },
    {
     "name": "stderr",
     "output_type": "stream",
     "text": [
      " δισκία' | Qrd txt :- '6.6 Ιδιαίτερες προφυλάξεις απόρριψης <και άλλος χειρισμός>' | Matched :- 'False'| 0 | Kalydeco_clean_SmPC.json | Doc txt :- '-Φιάλη που\n",
      " άλλος χειρισμός' | Qrd txt :- '6.6 Ιδιαίτερες προφυλάξεις απόρριψης <και άλλος χειρισμός>' | Matched :- 'True'lydeco_clean_SmPC.json | Doc txt :- '6.6     Ιδιαίτερες\n",
      "2021-05-12 17:26:02,410 : Heading Extraction Kalydeco_clean_SmPC.json_H : Validation Passed | H | CAP |  el | 0 | Kalydeco_clean_SmPC.json | currHeadId :- '16053' | currParentHeadId :- '16047.0' | prevParentHeadId :- '16052'\n"
     ]
    },
    {
     "name": "stdout",
     "output_type": "stream",
     "text": [
      "\n"
     ]
    },
    {
     "name": "stderr",
     "output_type": "stream",
     "text": [
      " διατάξεις.' | Qrd txt :- '6.5 Φύση και συστατικά του περιέκτη <και ειδικός εξοπλισμός για τη χρήση, τη χορήγηση ή την εμφύτευση>' | Matched :- 'False'ε\n",
      " ΚΥΚΛΟΦΟΡΙΑΣ' | Qrd txt :- '7. ΚΑΤΟΧΟΣ ΤΗΣ ΑΔΕΙΑΣ ΚΥΚΛΟΦΟΡΙΑΣ' | Matched :- 'True'ssed | H | CAP |  el | 0 | Kalydeco_clean_SmPC.json | Doc txt :- '7.       ΚΑΤΟΧΟΣ\n",
      "2021-05-12 17:26:03,025 : Heading Extraction Kalydeco_clean_SmPC.json_H : Validation Passed | H | CAP |  el | 0 | Kalydeco_clean_SmPC.json | currHeadId :- '16055' | currParentHeadId :- '16001.0' | prevParentHeadId :- '16053'\n"
     ]
    },
    {
     "name": "stdout",
     "output_type": "stream",
     "text": [
      "\n"
     ]
    },
    {
     "name": "stderr",
     "output_type": "stream",
     "text": [
      " ΚΥΚΛΟΦΟΡΙΑΣ' | Qrd txt :- '8. ΑΡΙΘΜΟΣ(ΟΙ) ΑΔΕΙΑΣ ΚΥΚΛΟΦΟΡΙΑΣ' | Matched :- 'True'ssed | H | CAP |  el | 0 | Kalydeco_clean_SmPC.json | Doc txt :- '8.       ΑΡΙΘΜΟΣ(ΟΙ)\n",
      "2021-05-12 17:26:03,882 : Heading Extraction Kalydeco_clean_SmPC.json_H : Validation Passed | H | CAP |  el | 0 | Kalydeco_clean_SmPC.json | currHeadId :- '16056' | currParentHeadId :- '16001.0' | prevParentHeadId :- '16055'\n"
     ]
    },
    {
     "name": "stdout",
     "output_type": "stream",
     "text": [
      "\n"
     ]
    },
    {
     "name": "stderr",
     "output_type": "stream",
     "text": [
      " ΤΗΣ ΑΔΕΙΑΣ' | Qrd txt :- '9. ΗΜΕΡΟΜΗΝΙΑ ΠΡΩΤΗΣ ΕΓΚΡΙΣΗΣ/ΑΝΑΝΕΩΣΗΣ ΤΗΣ ΑΔΕΙΑΣ' | Matched :- 'True'  el | 0 | Kalydeco_clean_SmPC.json | Doc txt :- '9.       ΗΜΕΡΟΜΗΝΙΑ\n",
      "2021-05-12 17:26:04,747 : Heading Extraction Kalydeco_clean_SmPC.json_H : Validation Passed | H | CAP |  el | 0 | Kalydeco_clean_SmPC.json | currHeadId :- '16057' | currParentHeadId :- '16001.0' | prevParentHeadId :- '16056'\n"
     ]
    },
    {
     "name": "stdout",
     "output_type": "stream",
     "text": [
      "\n"
     ]
    },
    {
     "name": "stderr",
     "output_type": "stream",
     "text": [
      " ΤΟΥ ΚΕΙΜΕΝΟΥ' | Qrd txt :- '10. ΗΜΕΡΟΜΗΝΙΑ ΑΝΑΘΕΩΡΗΣΗΣ ΤΟΥ ΚΕΙΜΕΝΟΥ' | Matched :- 'True'H | CAP |  el | 0 | Kalydeco_clean_SmPC.json | Doc txt :- '10.     ΗΜΕΡΟΜΗΝΙΑ\n",
      "2021-05-12 17:26:05,517 : Heading Extraction Kalydeco_clean_SmPC.json_H : Validation Passed | H | CAP |  el | 0 | Kalydeco_clean_SmPC.json | currHeadId :- '16058' | currParentHeadId :- '16001.0' | prevParentHeadId :- '16057'\n"
     ]
    },
    {
     "name": "stdout",
     "output_type": "stream",
     "text": [
      "\n"
     ]
    },
    {
     "name": "stderr",
     "output_type": "stream",
     "text": [
      " ΠΡΟΪΟΝΤΟΣ' | Qrd txt :- '1. ΟΝΟΜΑΣΙΑ ΤΟΥ ΦΑΡΜΑΚΕΥΤΙΚΟΥ ΠΡΟΪΟΝΤΟΣ' | Matched :- 'True' | H | CAP |  el | 0 | Kalydeco_clean_SmPC.json | Doc txt :- '1.       ΟΝΟΜΑΣΙΑ\n",
      "2021-05-12 17:26:05,768 : Heading Extraction Kalydeco_clean_SmPC.json_H : Validation Failed As Wrong Heading Found | H | CAP |  el | 0 | Kalydeco_clean_SmPC.json | currHeadId :- '16003' | currParentHeadId :- '16001.0' | prevParentHeadId :- '16058'\n",
      "2021-05-12 17:26:05,987 : Heading Extraction Kalydeco_clean_SmPC.json_H : End Of Sub Section | H | CAP |  el | 0 | Kalydeco_clean_SmPC.json\n",
      " ΠΡΟΪΟΝΤΟΣ' | Qrd txt :- '1. ΟΝΟΜΑΣΙΑ ΤΟΥ ΦΑΡΜΑΚΕΥΤΙΚΟΥ ΠΡΟΪΟΝΤΟΣ' | Matched :- 'True' | H | CAP |  el | 0 | Kalydeco_clean_SmPC.json | Doc txt :- '1.       ΟΝΟΜΑΣΙΑ\n",
      "2021-05-12 17:26:06,025 : Heading Extraction Kalydeco_clean_SmPC.json_H : Validation Passed As This The First Heading | H | CAP |  el | 0 | Kalydeco_clean_SmPC.json | currHeadId :- '16003' | currParentHeadId :- '16001.0' | prevParentHeadId :- ''\n"
     ]
    },
    {
     "name": "stdout",
     "output_type": "stream",
     "text": [
      "oooooooooooooooooooooooooooooooooooooooo END OF Sub Section oooooooooooooooooooooooooooooooooooooooooooooooooooooooooooo\n",
      "\n"
     ]
    },
    {
     "name": "stderr",
     "output_type": "stream",
     "text": [
      " ΣΥΝΘΕΣΗ' | Qrd txt :- '2. ΠΟΙΟΤΙΚΗ ΚΑΙ ΠΟΣΟΤΙΚΗ ΣΥΝΘΕΣΗ' | Matched :- 'True'ch Passed | H | CAP |  el | 0 | Kalydeco_clean_SmPC.json | Doc txt :- '2.       ΠΟΙΟΤΙΚΗ\n",
      "2021-05-12 17:26:06,709 : Heading Extraction Kalydeco_clean_SmPC.json_H : Validation Passed | H | CAP |  el | 0 | Kalydeco_clean_SmPC.json | currHeadId :- '16004' | currParentHeadId :- '16001.0' | prevParentHeadId :- '16003'\n"
     ]
    },
    {
     "name": "stdout",
     "output_type": "stream",
     "text": [
      "\n"
     ]
    },
    {
     "name": "stderr",
     "output_type": "stream",
     "text": [
      " δράση:' | Qrd txt :- 'Έκδοχο(α) με γνωστή δράση' | Matched :- 'True'_H : Match Passed | H | CAP |  el | 0 | Kalydeco_clean_SmPC.json | Doc txt :- 'Έκδοχο\n",
      "2021-05-12 17:26:07,199 : Heading Extraction Kalydeco_clean_SmPC.json_H : Validation Flow Is Broken | H | CAP |  el | 0 | Kalydeco_clean_SmPC.json | currHeadId :- '16007' | currParentHeadId :- '16006.0' | prevParentHeadId :- '16004'\n",
      "2021-05-12 17:26:07,207 : Heading Extraction Kalydeco_clean_SmPC.json_H : Validation Passed | H | CAP |  el | 0 | Kalydeco_clean_SmPC.json | currHeadId :- '16007' | currParentHeadId :- '16006.0' | prevParentHeadId :- '16004'\n"
     ]
    },
    {
     "name": "stdout",
     "output_type": "stream",
     "text": [
      "\n"
     ]
    },
    {
     "name": "stderr",
     "output_type": "stream",
     "text": [
      " λακτόζηςμονοϋδρικής.' | Qrd txt :- '6.6 Ιδιαίτερες προφυλάξεις απόρριψης <και άλλος χειρισμός>' | Matched :- 'False'_clean_SmPC.json | Doc txt :- 'Κάθε φακελλίσκος\n",
      " δράση:' | Qrd txt :- 'Έκδοχο(α) με γνωστή δράση' | Matched :- 'True'_H : Match Passed | H | CAP |  el | 0 | Kalydeco_clean_SmPC.json | Doc txt :- 'Έκδοχο\n",
      "2021-05-12 17:26:07,964 : Heading Extraction Kalydeco_clean_SmPC.json_H : Validation Flow Is Broken | H | CAP |  el | 0 | Kalydeco_clean_SmPC.json | currHeadId :- '16007' | currParentHeadId :- '16006.0' | prevParentHeadId :- '16004'\n",
      "2021-05-12 17:26:07,974 : Heading Extraction Kalydeco_clean_SmPC.json_H : Validation Passed | H | CAP |  el | 0 | Kalydeco_clean_SmPC.json | currHeadId :- '16007' | currParentHeadId :- '16006.0' | prevParentHeadId :- '16004'\n"
     ]
    },
    {
     "name": "stdout",
     "output_type": "stream",
     "text": [
      "\n"
     ]
    },
    {
     "name": "stderr",
     "output_type": "stream",
     "text": [
      " με γνωστή δράση:' | Qrd txt :- 'Έκδοχο(α) με γνωστή δράση' | Matched :- 'True' Passed | H | CAP |  el | 0 | Kalydeco_clean_SmPC.json | Doc txt :- 'Έκδοχο\n",
      "2021-05-12 17:26:08,685 : Heading Extraction Kalydeco_clean_SmPC.json_H : Validation Flow Is Broken | H | CAP |  el | 0 | Kalydeco_clean_SmPC.json | currHeadId :- '16007' | currParentHeadId :- '16006.0' | prevParentHeadId :- '16004'\n",
      "2021-05-12 17:26:08,693 : Heading Extraction Kalydeco_clean_SmPC.json_H : Validation Passed | H | CAP |  el | 0 | Kalydeco_clean_SmPC.json | currHeadId :- '16007' | currParentHeadId :- '16006.0' | prevParentHeadId :- '16004'\n"
     ]
    },
    {
     "name": "stdout",
     "output_type": "stream",
     "text": [
      "\n"
     ]
    },
    {
     "name": "stderr",
     "output_type": "stream",
     "text": [
      " ΜΟΡΦΗ' | Qrd txt :- '3. ΦΑΡΜΑΚΟΤΕΧΝΙΚΗ ΜΟΡΦΗ' | Matched :- 'True'son_H : Match Passed | H | CAP |  el | 0 | Kalydeco_clean_SmPC.json | Doc txt :- '3.       ΦΑΡΜΑΚΟΤΕΧΝΙΚΗ\n",
      "2021-05-12 17:26:09,162 : Heading Extraction Kalydeco_clean_SmPC.json_H : Validation Flow Is Broken | H | CAP |  el | 0 | Kalydeco_clean_SmPC.json | currHeadId :- '16008' | currParentHeadId :- '16001.0' | prevParentHeadId :- '16004'\n",
      "2021-05-12 17:26:09,168 : Heading Extraction Kalydeco_clean_SmPC.json_H : Validation Passed | H | CAP |  el | 0 | Kalydeco_clean_SmPC.json | currHeadId :- '16008' | currParentHeadId :- '16001.0' | prevParentHeadId :- '16004'\n"
     ]
    },
    {
     "name": "stdout",
     "output_type": "stream",
     "text": [
      "\n"
     ]
    },
    {
     "name": "stderr",
     "output_type": "stream",
     "text": [
      " ΠΛΗΡΟΦΟΡΙΕΣ' | Qrd txt :- '4. ΚΛΙΝΙΚΕΣ ΠΛΗΡΟΦΟΡΙΕΣ' | Matched :- 'True': Match Passed | H | CAP |  el | 0 | Kalydeco_clean_SmPC.json | Doc txt :- '4.       ΚΛΙΝΙΚΕΣ\n",
      "2021-05-12 17:26:09,653 : Heading Extraction Kalydeco_clean_SmPC.json_H : Validation Passed | H | CAP |  el | 0 | Kalydeco_clean_SmPC.json | currHeadId :- '16009' | currParentHeadId :- '16001.0' | prevParentHeadId :- '16008'\n",
      " ενδείξεις' | Qrd txt :- '4.1 Θεραπευτικές ενδείξεις' | Matched :- 'True' Match Passed | H | CAP |  el | 0 | Kalydeco_clean_SmPC.json | Doc txt :- '4.1     Θεραπευτικές\n",
      "2021-05-12 17:26:09,716 : Heading Extraction Kalydeco_clean_SmPC.json_H : Validation Passed | H | CAP |  el | 0 | Kalydeco_clean_SmPC.json | currHeadId :- '16010' | currParentHeadId :- '16009.0' | prevParentHeadId :- '16009'\n",
      " χορήγησης' | Qrd txt :- '4.2 Δοσολογία και τρόπος χορήγησης' | Matched :- 'True'assed | H | CAP |  el | 0 | Kalydeco_clean_SmPC.json | Doc txt :- '4.2     Δοσολογία\n",
      "2021-05-12 17:26:09,792 : Heading Extraction Kalydeco_clean_SmPC.json_H : Validation Passed | H | CAP |  el | 0 | Kalydeco_clean_SmPC.json | currHeadId :- '16011' | currParentHeadId :- '16009.0' | prevParentHeadId :- '16010'\n",
      "2021-05-12 17:26:09,825 : Heading Extraction Kalydeco_clean_SmPC.json_H : Match Failed In Lowercase | H | CAP |  el | 0 | Kalydeco_clean_SmPC.json | Doc txt :- 'Δοσολογία' | Qrd txt :- '4.2 Δοσολογία και τρόπος χορήγησης' | Matched :- 'False'\n",
      "2021-05-12 17:26:09,826 : Heading Extraction Kalydeco_clean_SmPC.json_H : Match Passed | H | CAP |  el | 0 | Kalydeco_clean_SmPC.json | Doc txt :- 'Δοσολογία' | Qrd txt :- 'Δοσολογία' | Matched :- 'True'\n",
      "2021-05-12 17:26:09,839 : Heading Extraction Kalydeco_clean_SmPC.json_H : Validation Passed | H | CAP |  el | 0 | Kalydeco_clean_SmPC.json | currHeadId :- '16012' | currParentHeadId :- '16011.0' | prevParentHeadId :- '16011'\n"
     ]
    },
    {
     "name": "stdout",
     "output_type": "stream",
     "text": [
      "\n",
      "\n",
      "\n",
      "\n",
      "OriginalCheck\n",
      "\n",
      "\n"
     ]
    },
    {
     "name": "stderr",
     "output_type": "stream",
     "text": [
      " πληθυσμός' | Qrd txt :- 'Παιδιατρικός πληθυσμός' | Matched :- 'True'_H : Match Passed | H | CAP |  el | 0 | Kalydeco_clean_SmPC.json | Doc txt :- 'Παιδιατρικός\n",
      "2021-05-12 17:26:11,290 : Heading Extraction Kalydeco_clean_SmPC.json_H : Validation Passed | H | CAP |  el | 0 | Kalydeco_clean_SmPC.json | currHeadId :- '16013' | currParentHeadId :- '16012.0' | prevParentHeadId :- '16011'\n"
     ]
    },
    {
     "name": "stdout",
     "output_type": "stream",
     "text": [
      "\n"
     ]
    },
    {
     "name": "stderr",
     "output_type": "stream",
     "text": [
      " χορήγησης ' | Qrd txt :- '4.2 Δοσολογία και τρόπος χορήγησης' | Matched :- 'False'led In Lowercase | H | CAP |  el | 0 | Kalydeco_clean_SmPC.json | Doc txt :- 'Τρόπος\n",
      " χορήγησης ' | Qrd txt :- 'Τρόπος χορήγησης' | Matched :- 'True'.json_H : Match Passed | H | CAP |  el | 0 | Kalydeco_clean_SmPC.json | Doc txt :- 'Τρόπος\n",
      "2021-05-12 17:26:11,649 : Heading Extraction Kalydeco_clean_SmPC.json_H : Validation Passed | H | CAP |  el | 0 | Kalydeco_clean_SmPC.json | currHeadId :- '16014' | currParentHeadId :- '16011.0' | prevParentHeadId :- '16011'\n"
     ]
    },
    {
     "name": "stdout",
     "output_type": "stream",
     "text": [
      "\n",
      "OriginalCheck\n",
      "\n",
      "\n"
     ]
    },
    {
     "name": "stderr",
     "output_type": "stream",
     "text": [
      "2021-05-12 17:26:12,264 : Heading Extraction Kalydeco_clean_SmPC.json_H : Match Passed | H | CAP |  el | 0 | Kalydeco_clean_SmPC.json | Doc txt :- '4.3     Αντενδείξεις' | Qrd txt :- '4.3 Αντενδείξεις' | Matched :- 'True'\n",
      "2021-05-12 17:26:12,272 : Heading Extraction Kalydeco_clean_SmPC.json_H : Validation Passed | H | CAP |  el | 0 | Kalydeco_clean_SmPC.json | currHeadId :- '16016' | currParentHeadId :- '16009.0' | prevParentHeadId :- '16011'\n"
     ]
    },
    {
     "name": "stdout",
     "output_type": "stream",
     "text": [
      "\n"
     ]
    },
    {
     "name": "stderr",
     "output_type": "stream",
     "text": [
      " κατά τη χρήση' | Qrd txt :- '4.4 Ειδικές προειδοποιήσεις και προφυλάξεις κατά τη χρήση' | Matched :- 'True' Kalydeco_clean_SmPC.json | Doc txt :- '4.4     Ειδικές\n",
      "2021-05-12 17:26:12,524 : Heading Extraction Kalydeco_clean_SmPC.json_H : Validation Passed | H | CAP |  el | 0 | Kalydeco_clean_SmPC.json | currHeadId :- '16017' | currParentHeadId :- '16009.0' | prevParentHeadId :- '16016'\n"
     ]
    },
    {
     "name": "stdout",
     "output_type": "stream",
     "text": [
      "\n"
     ]
    },
    {
     "name": "stderr",
     "output_type": "stream",
     "text": [
      " λειτουργίας' | Qrd txt :- '6.5 Φύση και συστατικά του περιέκτη <και ειδικός εξοπλισμός για τη χρήση, τη χορήγηση ή την εμφύτευση>' | Matched :- 'False'ραση\n",
      " λειτουργίας' | Qrd txt :- '6.6 Ιδιαίτερες προφυλάξεις απόρριψης <και άλλος χειρισμός>' | Matched :- 'False' Kalydeco_clean_SmPC.json | Doc txt :- 'Επίδραση\n",
      " πληθυσμός ' | Qrd txt :- 'Παιδιατρικός πληθυσμός' | Matched :- 'True'H : Match Passed | H | CAP |  el | 0 | Kalydeco_clean_SmPC.json | Doc txt :- 'Παιδιατρικός\n",
      "2021-05-12 17:26:14,558 : Heading Extraction Kalydeco_clean_SmPC.json_H : Validation Failed As Previous Heading Found is not matching | H | CAP |  el | 0 | Kalydeco_clean_SmPC.json | currHeadId :- '16013' | currParentHeadId :- '16012.0' | prevParentHeadId :- '16017'\n",
      " πληθυσμός ' | Qrd txt :- 'Παιδιατρικός πληθυσμός' | Matched :- 'True'H : Match Passed | H | CAP |  el | 0 | Kalydeco_clean_SmPC.json | Doc txt :- 'Παιδιατρικός\n",
      "2021-05-12 17:26:14,594 : Heading Extraction Kalydeco_clean_SmPC.json_H : Validation Passed | H | CAP |  el | 0 | Kalydeco_clean_SmPC.json | currHeadId :- '16019' | currParentHeadId :- '16017.0' | prevParentHeadId :- '16017'\n"
     ]
    },
    {
     "name": "stdout",
     "output_type": "stream",
     "text": [
      "\n"
     ]
    },
    {
     "name": "stderr",
     "output_type": "stream",
     "text": [
      " αυτό το φάρμακο.' | Qrd txt :- '6.5 Φύση και συστατικά του περιέκτη <και ειδικός εξοπλισμός για τη χρήση, τη χορήγηση ή την εμφύτευση>' | Matched :- 'False'co περιέχει\n",
      " αλληλεπίδρασης' | Qrd txt :- '4.5 Αλληλεπιδράσεις με άλλα φαρμακευτικά προϊόντα και άλλες μορφές αλληλεπίδρασης' | Matched :- 'True' | Doc txt :- '4.5     Αλληλεπιδράσεις\n",
      "2021-05-12 17:26:15,342 : Heading Extraction Kalydeco_clean_SmPC.json_H : Validation Passed | H | CAP |  el | 0 | Kalydeco_clean_SmPC.json | currHeadId :- '16020' | currParentHeadId :- '16009.0' | prevParentHeadId :- '16017'\n"
     ]
    },
    {
     "name": "stdout",
     "output_type": "stream",
     "text": [
      "\n"
     ]
    },
    {
     "name": "stderr",
     "output_type": "stream",
     "text": [
      " του CYP3A.' | Qrd txt :- '6.5 Φύση και συστατικά του περιέκτη <και ειδικός εξοπλισμός για τη χρήση, τη χορήγηση ή την εμφύτευση>' | Matched :- 'False'\n",
      " σιπροφλοξασίνη.' | Qrd txt :- '6.5 Φύση και συστατικά του περιέκτη <και ειδικός εξοπλισμός για τη χρήση, τη χορήγηση ή την εμφύτευση>' | Matched :- 'False'\n",
      " πληθυσμός' | Qrd txt :- 'Παιδιατρικός πληθυσμός' | Matched :- 'True'_H : Match Passed | H | CAP |  el | 0 | Kalydeco_clean_SmPC.json | Doc txt :- 'Παιδιατρικός\n",
      "2021-05-12 17:26:19,003 : Heading Extraction Kalydeco_clean_SmPC.json_H : Validation Failed As Previous Heading Found is not matching | H | CAP |  el | 0 | Kalydeco_clean_SmPC.json | currHeadId :- '16013' | currParentHeadId :- '16012.0' | prevParentHeadId :- '16020'\n",
      " πληθυσμός' | Qrd txt :- 'Παιδιατρικός πληθυσμός' | Matched :- 'True'_H : Match Passed | H | CAP |  el | 0 | Kalydeco_clean_SmPC.json | Doc txt :- 'Παιδιατρικός\n",
      "2021-05-12 17:26:19,044 : Heading Extraction Kalydeco_clean_SmPC.json_H : Validation Failed As Previous Heading Found is not matching | H | CAP |  el | 0 | Kalydeco_clean_SmPC.json | currHeadId :- '16019' | currParentHeadId :- '16017.0' | prevParentHeadId :- '16020'\n",
      " πληθυσμός' | Qrd txt :- 'Παιδιατρικός πληθυσμός' | Matched :- 'True'_H : Match Passed | H | CAP |  el | 0 | Kalydeco_clean_SmPC.json | Doc txt :- 'Παιδιατρικός\n",
      "2021-05-12 17:26:19,078 : Heading Extraction Kalydeco_clean_SmPC.json_H : Validation Passed | H | CAP |  el | 0 | Kalydeco_clean_SmPC.json | currHeadId :- '16021' | currParentHeadId :- '16020.0' | prevParentHeadId :- '16020'\n"
     ]
    },
    {
     "name": "stdout",
     "output_type": "stream",
     "text": [
      "\n"
     ]
    },
    {
     "name": "stderr",
     "output_type": "stream",
     "text": [
      " γαλουχία' | Qrd txt :- '4.6 Γονιμότητα, κύηση και γαλουχία' | Matched :- 'True'Passed | H | CAP |  el | 0 | Kalydeco_clean_SmPC.json | Doc txt :- '4.6     Γονιμότητα,\n",
      "2021-05-12 17:26:19,708 : Heading Extraction Kalydeco_clean_SmPC.json_H : Validation Passed | H | CAP |  el | 0 | Kalydeco_clean_SmPC.json | currHeadId :- '16022' | currParentHeadId :- '16009.0' | prevParentHeadId :- '16020'\n",
      "2021-05-12 17:26:19,771 : Heading Extraction Kalydeco_clean_SmPC.json_H : Match Passed | H | CAP |  el | 0 | Kalydeco_clean_SmPC.json | Doc txt :- 'Θηλασμός' | Qrd txt :- 'Θηλασμός' | Matched :- 'True'\n",
      "2021-05-12 17:26:19,787 : Heading Extraction Kalydeco_clean_SmPC.json_H : Validation Passed | H | CAP |  el | 0 | Kalydeco_clean_SmPC.json | currHeadId :- '16024' | currParentHeadId :- '16022.0' | prevParentHeadId :- '16022'\n",
      "2021-05-12 17:26:19,844 : Heading Extraction Kalydeco_clean_SmPC.json_H : Match Failed In Lowercase | H | CAP |  el | 0 | Kalydeco_clean_SmPC.json | Doc txt :- 'Γονιμότητα' | Qrd txt :- '4.6 Γονιμότητα, κύηση και γαλουχία' | Matched :- 'False'\n",
      "2021-05-12 17:26:19,849 : Heading Extraction Kalydeco_clean_SmPC.json_H : Match Passed | H | CAP |  el | 0 | Kalydeco_clean_SmPC.json | Doc txt :- 'Γονιμότητα' | Qrd txt :- 'Γονιμότητα' | Matched :- 'True'\n",
      "2021-05-12 17:26:19,861 : Heading Extraction Kalydeco_clean_SmPC.json_H : Validation Passed | H | CAP |  el | 0 | Kalydeco_clean_SmPC.json | currHeadId :- '16025' | currParentHeadId :- '16022.0' | prevParentHeadId :- '16022'\n"
     ]
    },
    {
     "name": "stdout",
     "output_type": "stream",
     "text": [
      "\n",
      "\n",
      "\n",
      "OriginalCheck\n",
      "\n",
      "\n"
     ]
    },
    {
     "name": "stderr",
     "output_type": "stream",
     "text": [
      " χειρισμού μηχανημάτων' | Qrd txt :- '4.7 Επιδράσεις στην ικανότητα οδήγησης και χειρισμού μηχανημάτων' | Matched :- 'True'_SmPC.json | Doc txt :- '4.7    Επιδράσεις\n",
      "2021-05-12 17:26:20,165 : Heading Extraction Kalydeco_clean_SmPC.json_H : Validation Passed | H | CAP |  el | 0 | Kalydeco_clean_SmPC.json | currHeadId :- '16026' | currParentHeadId :- '16009.0' | prevParentHeadId :- '16022'\n",
      " ενέργειες' | Qrd txt :- '4.8 Ανεπιθύμητες ενέργειες' | Matched :- 'True' Match Passed | H | CAP |  el | 0 | Kalydeco_clean_SmPC.json | Doc txt :- '4.8    Aνεπιθύμητες\n",
      "2021-05-12 17:26:20,290 : Heading Extraction Kalydeco_clean_SmPC.json_H : Validation Passed | H | CAP |  el | 0 | Kalydeco_clean_SmPC.json | currHeadId :- '16027' | currParentHeadId :- '16009.0' | prevParentHeadId :- '16026'\n"
     ]
    },
    {
     "name": "stdout",
     "output_type": "stream",
     "text": [
      "\n",
      "\n"
     ]
    },
    {
     "name": "stderr",
     "output_type": "stream",
     "text": [
      " πληθυσμός' | Qrd txt :- 'Παιδιατρικός πληθυσμός' | Matched :- 'True'_H : Match Passed | H | CAP |  el | 0 | Kalydeco_clean_SmPC.json | Doc txt :- 'Παιδιατρικός\n",
      "2021-05-12 17:26:21,856 : Heading Extraction Kalydeco_clean_SmPC.json_H : Validation Failed As Previous Heading Found is not matching | H | CAP |  el | 0 | Kalydeco_clean_SmPC.json | currHeadId :- '16013' | currParentHeadId :- '16012.0' | prevParentHeadId :- '16027'\n",
      " πληθυσμός' | Qrd txt :- 'Παιδιατρικός πληθυσμός' | Matched :- 'True'_H : Match Passed | H | CAP |  el | 0 | Kalydeco_clean_SmPC.json | Doc txt :- 'Παιδιατρικός\n",
      "2021-05-12 17:26:21,884 : Heading Extraction Kalydeco_clean_SmPC.json_H : Validation Failed As Previous Heading Found is not matching | H | CAP |  el | 0 | Kalydeco_clean_SmPC.json | currHeadId :- '16019' | currParentHeadId :- '16017.0' | prevParentHeadId :- '16027'\n",
      " πληθυσμός' | Qrd txt :- 'Παιδιατρικός πληθυσμός' | Matched :- 'True'_H : Match Passed | H | CAP |  el | 0 | Kalydeco_clean_SmPC.json | Doc txt :- 'Παιδιατρικός\n",
      "2021-05-12 17:26:21,901 : Heading Extraction Kalydeco_clean_SmPC.json_H : Validation Failed As Previous Heading Found is not matching | H | CAP |  el | 0 | Kalydeco_clean_SmPC.json | currHeadId :- '16021' | currParentHeadId :- '16020.0' | prevParentHeadId :- '16027'\n",
      " πληθυσμός' | Qrd txt :- 'Παιδιατρικός πληθυσμός' | Matched :- 'True'_H : Match Passed | H | CAP |  el | 0 | Kalydeco_clean_SmPC.json | Doc txt :- 'Παιδιατρικός\n",
      "2021-05-12 17:26:21,925 : Heading Extraction Kalydeco_clean_SmPC.json_H : Validation Passed | H | CAP |  el | 0 | Kalydeco_clean_SmPC.json | currHeadId :- '16028' | currParentHeadId :- '16027.0' | prevParentHeadId :- '16027'\n"
     ]
    },
    {
     "name": "stdout",
     "output_type": "stream",
     "text": [
      "\n"
     ]
    },
    {
     "name": "stderr",
     "output_type": "stream",
     "text": [
      " ενεργειών' | Qrd txt :- 'Αναφορά πιθανολογούμενων ανεπιθύμητων ενεργειών' | Matched :- 'True'AP |  el | 0 | Kalydeco_clean_SmPC.json | Doc txt :- 'Αναφορά\n",
      "2021-05-12 17:26:22,386 : Heading Extraction Kalydeco_clean_SmPC.json_H : Validation Passed | H | CAP |  el | 0 | Kalydeco_clean_SmPC.json | currHeadId :- '16029' | currParentHeadId :- '16027.0' | prevParentHeadId :- '16027'\n",
      "2021-05-12 17:26:22,428 : Heading Extraction Kalydeco_clean_SmPC.json_H : Match Failed In Lowercase | H | CAP |  el | 0 | Kalydeco_clean_SmPC.json | Doc txt :- '4.9     Υπερδοσολογία' | Qrd txt :- 'Δοσολογία' | Matched :- 'False'\n",
      "2021-05-12 17:26:22,482 : Heading Extraction Kalydeco_clean_SmPC.json_H : Match Passed | H | CAP |  el | 0 | Kalydeco_clean_SmPC.json | Doc txt :- '4.9     Υπερδοσολογία' | Qrd txt :- '4.9 Υπερδοσολογία' | Matched :- 'True'\n",
      "2021-05-12 17:26:22,489 : Heading Extraction Kalydeco_clean_SmPC.json_H : Validation Passed | H | CAP |  el | 0 | Kalydeco_clean_SmPC.json | currHeadId :- '16030' | currParentHeadId :- '16009.0' | prevParentHeadId :- '16027'\n"
     ]
    },
    {
     "name": "stdout",
     "output_type": "stream",
     "text": [
      "\n",
      "\n",
      "OriginalCheck\n",
      "\n",
      "\n"
     ]
    },
    {
     "name": "stderr",
     "output_type": "stream",
     "text": [
      " ΙΔΙΟΤΗΤΕΣ' | Qrd txt :- '5. ΦΑΡΜΑΚΟΛΟΓΙΚΕΣ ΙΔΙΟΤΗΤΕΣ' | Matched :- 'True'Match Passed | H | CAP |  el | 0 | Kalydeco_clean_SmPC.json | Doc txt :- '5.       ΦΑΡΜΑΚΟΛΟΓΙΚΕΣ\n",
      "2021-05-12 17:26:22,618 : Heading Extraction Kalydeco_clean_SmPC.json_H : Validation Passed | H | CAP |  el | 0 | Kalydeco_clean_SmPC.json | currHeadId :- '16032' | currParentHeadId :- '16001.0' | prevParentHeadId :- '16030'\n",
      " ιδιότητες' | Qrd txt :- '5.1 Φαρμακοδυναμικές ιδιότητες' | Matched :- 'True'ch Passed | H | CAP |  el | 0 | Kalydeco_clean_SmPC.json | Doc txt :- '5.1     Φαρμακοδυναμικές\n",
      "2021-05-12 17:26:22,749 : Heading Extraction Kalydeco_clean_SmPC.json_H : Validation Passed | H | CAP |  el | 0 | Kalydeco_clean_SmPC.json | currHeadId :- '16033' | currParentHeadId :- '16032.0' | prevParentHeadId :- '16032'\n"
     ]
    },
    {
     "name": "stdout",
     "output_type": "stream",
     "text": [
      "\n",
      "\n"
     ]
    },
    {
     "name": "stderr",
     "output_type": "stream",
     "text": [
      " δράσης' | Qrd txt :- 'Μηχανισμός δράσης' | Matched :- 'True'mPC.json_H : Match Passed | H | CAP |  el | 0 | Kalydeco_clean_SmPC.json | Doc txt :- 'Μηχανισμός\n",
      "2021-05-12 17:26:23,112 : Heading Extraction Kalydeco_clean_SmPC.json_H : Validation Passed | H | CAP |  el | 0 | Kalydeco_clean_SmPC.json | currHeadId :- '16034' | currParentHeadId :- '16033.0' | prevParentHeadId :- '16033'\n",
      " επιδράσεις' | Qrd txt :- 'Φαρμακοδυναμικές επιδράσεις' | Matched :- 'True'atch Passed | H | CAP |  el | 0 | Kalydeco_clean_SmPC.json | Doc txt :- 'Φαρμακοδυναμικές\n",
      "2021-05-12 17:26:23,298 : Heading Extraction Kalydeco_clean_SmPC.json_H : Validation Passed | H | CAP |  el | 0 | Kalydeco_clean_SmPC.json | currHeadId :- '16035' | currParentHeadId :- '16033.0' | prevParentHeadId :- '16033'\n"
     ]
    },
    {
     "name": "stdout",
     "output_type": "stream",
     "text": [
      "\n",
      "\n"
     ]
    },
    {
     "name": "stderr",
     "output_type": "stream",
     "text": [
      " και ασφάλεια' | Qrd txt :- 'Κλινική αποτελεσματικότητα και ασφάλεια' | Matched :- 'True'H | CAP |  el | 0 | Kalydeco_clean_SmPC.json | Doc txt :- 'Κλινική\n",
      "2021-05-12 17:26:23,552 : Heading Extraction Kalydeco_clean_SmPC.json_H : Validation Passed | H | CAP |  el | 0 | Kalydeco_clean_SmPC.json | currHeadId :- '16036' | currParentHeadId :- '16033.0' | prevParentHeadId :- '16033'\n"
     ]
    },
    {
     "name": "stdout",
     "output_type": "stream",
     "text": [
      "\n"
     ]
    },
    {
     "name": "stderr",
     "output_type": "stream",
     "text": [
      " για την ΚΙ.' | Qrd txt :- '6.5 Φύση και συστατικά του περιέκτη <και ειδικός εξοπλισμός για τη χρήση, τη χορήγηση ή την εμφύτευση>' | Matched :- 'False'        βCFQ-R: Ερωτηματολόγιο\n",
      " μεταλλάξεων.' | Qrd txt :- '6.5 Φύση και συστατικά του περιέκτη <και ειδικός εξοπλισμός για τη χρήση, τη χορήγηση ή την εμφύτευση>' | Matched :- 'False'εν\n",
      " μεταλλάξεων.' | Qrd txt :- '6.6 Ιδιαίτερες προφυλάξεις απόρριψης <και άλλος χειρισμός>' | Matched :- 'False'Kalydeco_clean_SmPC.json | Doc txt :- '*   Δεν\n",
      " 48 εβδομάδων.' | Qrd txt :- '6.6 Ιδιαίτερες προφυλάξεις απόρριψης <και άλλος χειρισμός>' | Matched :- 'False'alydeco_clean_SmPC.json | Doc txt :- '*     Η\n",
      " πληθυσμός' | Qrd txt :- 'Παιδιατρικός πληθυσμός' | Matched :- 'True'_H : Match Passed | H | CAP |  el | 0 | Kalydeco_clean_SmPC.json | Doc txt :- 'Παιδιατρικός\n",
      "2021-05-12 17:26:31,238 : Heading Extraction Kalydeco_clean_SmPC.json_H : Validation Failed As Previous Heading Found is not matching | H | CAP |  el | 0 | Kalydeco_clean_SmPC.json | currHeadId :- '16013' | currParentHeadId :- '16012.0' | prevParentHeadId :- '16033'\n",
      " πληθυσμός' | Qrd txt :- 'Παιδιατρικός πληθυσμός' | Matched :- 'True'_H : Match Passed | H | CAP |  el | 0 | Kalydeco_clean_SmPC.json | Doc txt :- 'Παιδιατρικός\n",
      "2021-05-12 17:26:31,268 : Heading Extraction Kalydeco_clean_SmPC.json_H : Validation Failed As Previous Heading Found is not matching | H | CAP |  el | 0 | Kalydeco_clean_SmPC.json | currHeadId :- '16019' | currParentHeadId :- '16017.0' | prevParentHeadId :- '16033'\n",
      " πληθυσμός' | Qrd txt :- 'Παιδιατρικός πληθυσμός' | Matched :- 'True'_H : Match Passed | H | CAP |  el | 0 | Kalydeco_clean_SmPC.json | Doc txt :- 'Παιδιατρικός\n",
      "2021-05-12 17:26:31,287 : Heading Extraction Kalydeco_clean_SmPC.json_H : Validation Failed As Previous Heading Found is not matching | H | CAP |  el | 0 | Kalydeco_clean_SmPC.json | currHeadId :- '16021' | currParentHeadId :- '16020.0' | prevParentHeadId :- '16033'\n",
      " πληθυσμός' | Qrd txt :- 'Παιδιατρικός πληθυσμός' | Matched :- 'True'_H : Match Passed | H | CAP |  el | 0 | Kalydeco_clean_SmPC.json | Doc txt :- 'Παιδιατρικός\n",
      "2021-05-12 17:26:31,312 : Heading Extraction Kalydeco_clean_SmPC.json_H : Validation Failed As Previous Heading Found is not matching | H | CAP |  el | 0 | Kalydeco_clean_SmPC.json | currHeadId :- '16028' | currParentHeadId :- '16027.0' | prevParentHeadId :- '16033'\n",
      " πληθυσμός' | Qrd txt :- 'Παιδιατρικός πληθυσμός' | Matched :- 'True'_H : Match Passed | H | CAP |  el | 0 | Kalydeco_clean_SmPC.json | Doc txt :- 'Παιδιατρικός\n",
      "2021-05-12 17:26:31,331 : Heading Extraction Kalydeco_clean_SmPC.json_H : Validation Failed As Previous Heading Found is not matching | H | CAP |  el | 0 | Kalydeco_clean_SmPC.json | currHeadId :- '16031' | currParentHeadId :- '16030.0' | prevParentHeadId :- '16033'\n",
      " πληθυσμός' | Qrd txt :- 'Παιδιατρικός πληθυσμός' | Matched :- 'True'_H : Match Passed | H | CAP |  el | 0 | Kalydeco_clean_SmPC.json | Doc txt :- 'Παιδιατρικός\n",
      "2021-05-12 17:26:31,362 : Heading Extraction Kalydeco_clean_SmPC.json_H : Validation Passed | H | CAP |  el | 0 | Kalydeco_clean_SmPC.json | currHeadId :- '16037' | currParentHeadId :- '16033.0' | prevParentHeadId :- '16033'\n",
      " ιδιότητες' | Qrd txt :- '5.1 Φαρμακοδυναμικές ιδιότητες' | Matched :- 'False'h Failed | H | CAP |  el | 0 | Kalydeco_clean_SmPC.json | Doc txt :- '5.2     Φαρμακοκινητικές\n",
      " ιδιότητες' | Qrd txt :- '5.2 Φαρμακοκινητικές ιδιότητες' | Matched :- 'True'ch Passed | H | CAP |  el | 0 | Kalydeco_clean_SmPC.json | Doc txt :- '5.2     Φαρμακοκινητικές\n",
      "2021-05-12 17:26:31,529 : Heading Extraction Kalydeco_clean_SmPC.json_H : Validation Passed | H | CAP |  el | 0 | Kalydeco_clean_SmPC.json | currHeadId :- '16038' | currParentHeadId :- '16032.0' | prevParentHeadId :- '16033'\n"
     ]
    },
    {
     "name": "stdout",
     "output_type": "stream",
     "text": [
      "\n",
      "\n"
     ]
    },
    {
     "name": "stderr",
     "output_type": "stream",
     "text": [
      "2021-05-12 17:26:31,830 : Heading Extraction Kalydeco_clean_SmPC.json_H : Match Passed | H | CAP |  el | 0 | Kalydeco_clean_SmPC.json | Doc txt :- 'Απορρόφηση' | Qrd txt :- 'Απορρόφηση' | Matched :- 'True'\n",
      "2021-05-12 17:26:31,841 : Heading Extraction Kalydeco_clean_SmPC.json_H : Validation Passed | H | CAP |  el | 0 | Kalydeco_clean_SmPC.json | currHeadId :- '16039' | currParentHeadId :- '16038.0' | prevParentHeadId :- '16038'\n",
      "2021-05-12 17:26:31,920 : Heading Extraction Kalydeco_clean_SmPC.json_H : Match Passed | H | CAP |  el | 0 | Kalydeco_clean_SmPC.json | Doc txt :- 'Κατανομή' | Qrd txt :- 'Κατανομή' | Matched :- 'True'\n",
      "2021-05-12 17:26:31,932 : Heading Extraction Kalydeco_clean_SmPC.json_H : Validation Passed | H | CAP |  el | 0 | Kalydeco_clean_SmPC.json | currHeadId :- '16040' | currParentHeadId :- '16038.0' | prevParentHeadId :- '16038'\n"
     ]
    },
    {
     "name": "stdout",
     "output_type": "stream",
     "text": [
      "\n",
      "\n"
     ]
    },
    {
     "name": "stderr",
     "output_type": "stream",
     "text": [
      "2021-05-12 17:26:32,050 : Heading Extraction Kalydeco_clean_SmPC.json_H : Match Passed | H | CAP |  el | 0 | Kalydeco_clean_SmPC.json | Doc txt :- 'Βιομετασχηματισμός' | Qrd txt :- 'Βιομετασχηματισμός' | Matched :- 'True'\n",
      "2021-05-12 17:26:32,063 : Heading Extraction Kalydeco_clean_SmPC.json_H : Validation Passed | H | CAP |  el | 0 | Kalydeco_clean_SmPC.json | currHeadId :- '16041' | currParentHeadId :- '16038.0' | prevParentHeadId :- '16038'\n",
      "2021-05-12 17:26:32,143 : Heading Extraction Kalydeco_clean_SmPC.json_H : Match Passed | H | CAP |  el | 0 | Kalydeco_clean_SmPC.json | Doc txt :- 'Αποβολή' | Qrd txt :- 'Αποβολή' | Matched :- 'True'\n",
      "2021-05-12 17:26:32,155 : Heading Extraction Kalydeco_clean_SmPC.json_H : Validation Passed | H | CAP |  el | 0 | Kalydeco_clean_SmPC.json | currHeadId :- '16042' | currParentHeadId :- '16038.0' | prevParentHeadId :- '16038'\n"
     ]
    },
    {
     "name": "stdout",
     "output_type": "stream",
     "text": [
      "\n",
      "\n"
     ]
    },
    {
     "name": "stderr",
     "output_type": "stream",
     "text": [
      " γραμμικότητα' | Qrd txt :- 'Γραμμικότητα/μη γραμμικότητα' | Matched :- 'True'h Passed | H | CAP |  el | 0 | Kalydeco_clean_SmPC.json | Doc txt :- 'Γραμμικότητα/μη\n",
      "2021-05-12 17:26:32,308 : Heading Extraction Kalydeco_clean_SmPC.json_H : Validation Passed | H | CAP |  el | 0 | Kalydeco_clean_SmPC.json | currHeadId :- '16043' | currParentHeadId :- '16038.0' | prevParentHeadId :- '16038'\n"
     ]
    },
    {
     "name": "stdout",
     "output_type": "stream",
     "text": [
      "\n"
     ]
    },
    {
     "name": "stderr",
     "output_type": "stream",
     "text": [
      " δυσλειτουργία.' | Qrd txt :- '6.5 Φύση και συστατικά του περιέκτη <και ειδικός εξοπλισμός για τη χρήση, τη χορήγηση ή την εμφύτευση>' | Matched :- 'False'\n",
      " θήλεις.' | Qrd txt :- '6.6 Ιδιαίτερες προφυλάξεις απόρριψης <και άλλος χειρισμός>' | Matched :- 'False' 0 | Kalydeco_clean_SmPC.json | Doc txt :- 'Οι\n",
      " πληθυσμός' | Qrd txt :- 'Παιδιατρικός πληθυσμός' | Matched :- 'True'_H : Match Passed | H | CAP |  el | 0 | Kalydeco_clean_SmPC.json | Doc txt :- 'Παιδιατρικός\n",
      "2021-05-12 17:26:33,877 : Heading Extraction Kalydeco_clean_SmPC.json_H : Validation Failed As Previous Heading Found is not matching | H | CAP |  el | 0 | Kalydeco_clean_SmPC.json | currHeadId :- '16013' | currParentHeadId :- '16012.0' | prevParentHeadId :- '16038'\n",
      " πληθυσμός' | Qrd txt :- 'Παιδιατρικός πληθυσμός' | Matched :- 'True'_H : Match Passed | H | CAP |  el | 0 | Kalydeco_clean_SmPC.json | Doc txt :- 'Παιδιατρικός\n",
      "2021-05-12 17:26:33,905 : Heading Extraction Kalydeco_clean_SmPC.json_H : Validation Failed As Previous Heading Found is not matching | H | CAP |  el | 0 | Kalydeco_clean_SmPC.json | currHeadId :- '16019' | currParentHeadId :- '16017.0' | prevParentHeadId :- '16038'\n",
      " πληθυσμός' | Qrd txt :- 'Παιδιατρικός πληθυσμός' | Matched :- 'True'_H : Match Passed | H | CAP |  el | 0 | Kalydeco_clean_SmPC.json | Doc txt :- 'Παιδιατρικός\n",
      "2021-05-12 17:26:33,923 : Heading Extraction Kalydeco_clean_SmPC.json_H : Validation Failed As Previous Heading Found is not matching | H | CAP |  el | 0 | Kalydeco_clean_SmPC.json | currHeadId :- '16021' | currParentHeadId :- '16020.0' | prevParentHeadId :- '16038'\n",
      " πληθυσμός' | Qrd txt :- 'Παιδιατρικός πληθυσμός' | Matched :- 'True'_H : Match Passed | H | CAP |  el | 0 | Kalydeco_clean_SmPC.json | Doc txt :- 'Παιδιατρικός\n",
      "2021-05-12 17:26:33,946 : Heading Extraction Kalydeco_clean_SmPC.json_H : Validation Failed As Previous Heading Found is not matching | H | CAP |  el | 0 | Kalydeco_clean_SmPC.json | currHeadId :- '16028' | currParentHeadId :- '16027.0' | prevParentHeadId :- '16038'\n",
      " πληθυσμός' | Qrd txt :- 'Παιδιατρικός πληθυσμός' | Matched :- 'True'_H : Match Passed | H | CAP |  el | 0 | Kalydeco_clean_SmPC.json | Doc txt :- 'Παιδιατρικός\n",
      "2021-05-12 17:26:33,965 : Heading Extraction Kalydeco_clean_SmPC.json_H : Validation Failed As Previous Heading Found is not matching | H | CAP |  el | 0 | Kalydeco_clean_SmPC.json | currHeadId :- '16031' | currParentHeadId :- '16030.0' | prevParentHeadId :- '16038'\n",
      " πληθυσμός' | Qrd txt :- 'Παιδιατρικός πληθυσμός' | Matched :- 'True'_H : Match Passed | H | CAP |  el | 0 | Kalydeco_clean_SmPC.json | Doc txt :- 'Παιδιατρικός\n",
      "2021-05-12 17:26:33,988 : Heading Extraction Kalydeco_clean_SmPC.json_H : Validation Failed As Previous Heading Found is not matching | H | CAP |  el | 0 | Kalydeco_clean_SmPC.json | currHeadId :- '16037' | currParentHeadId :- '16033.0' | prevParentHeadId :- '16038'\n",
      " ηλικιακή ομάδα.' | Qrd txt :- '6.5 Φύση και συστατικά του περιέκτη <και ειδικός εξοπλισμός για τη χρήση, τη χορήγηση ή την εμφύτευση>' | Matched :- 'False'\n",
      " την ασφάλεια' | Qrd txt :- '5.3 Προκλινικά δεδομένα για την ασφάλεια' | Matched :- 'True' | CAP |  el | 0 | Kalydeco_clean_SmPC.json | Doc txt :- '5.3     Προκλινικά\n",
      "2021-05-12 17:26:35,993 : Heading Extraction Kalydeco_clean_SmPC.json_H : Validation Passed | H | CAP |  el | 0 | Kalydeco_clean_SmPC.json | currHeadId :- '16045' | currParentHeadId :- '16032.0' | prevParentHeadId :- '16038'\n"
     ]
    },
    {
     "name": "stdout",
     "output_type": "stream",
     "text": [
      "\n"
     ]
    },
    {
     "name": "stderr",
     "output_type": "stream",
     "text": [
      " ΠΛΗΡΟΦΟΡΙΕΣ' | Qrd txt :- '6. ΦΑΡΜΑΚΕΥΤΙΚΕΣ ΠΛΗΡΟΦΟΡΙΕΣ' | Matched :- 'True'ch Passed | H | CAP |  el | 0 | Kalydeco_clean_SmPC.json | Doc txt :- '6.       ΦΑΡΜΑΚΕΥΤΙΚΕΣ\n",
      "2021-05-12 17:26:37,097 : Heading Extraction Kalydeco_clean_SmPC.json_H : Validation Passed | H | CAP |  el | 0 | Kalydeco_clean_SmPC.json | currHeadId :- '16047' | currParentHeadId :- '16001.0' | prevParentHeadId :- '16045'\n",
      " εκδόχων' | Qrd txt :- '6.1 Κατάλογος εκδόχων' | Matched :- 'True'son_H : Match Passed | H | CAP |  el | 0 | Kalydeco_clean_SmPC.json | Doc txt :- '6.1     Κατάλογος\n",
      "2021-05-12 17:26:37,244 : Heading Extraction Kalydeco_clean_SmPC.json_H : Validation Passed | H | CAP |  el | 0 | Kalydeco_clean_SmPC.json | currHeadId :- '16048' | currParentHeadId :- '16047.0' | prevParentHeadId :- '16047'\n"
     ]
    },
    {
     "name": "stdout",
     "output_type": "stream",
     "text": [
      "\n",
      "\n"
     ]
    },
    {
     "name": "stderr",
     "output_type": "stream",
     "text": [
      "2021-05-12 17:26:38,894 : Heading Extraction Kalydeco_clean_SmPC.json_H : Match Passed | H | CAP |  el | 0 | Kalydeco_clean_SmPC.json | Doc txt :- '6.2     Ασυμβατότητες' | Qrd txt :- '6.2 Ασυμβατότητες' | Matched :- 'True'\n",
      "2021-05-12 17:26:38,903 : Heading Extraction Kalydeco_clean_SmPC.json_H : Validation Passed | H | CAP |  el | 0 | Kalydeco_clean_SmPC.json | currHeadId :- '16049' | currParentHeadId :- '16047.0' | prevParentHeadId :- '16048'\n"
     ]
    },
    {
     "name": "stdout",
     "output_type": "stream",
     "text": [
      "\n"
     ]
    },
    {
     "name": "stderr",
     "output_type": "stream",
     "text": [
      " ζωής' | Qrd txt :- '6.3 Διάρκεια ζωής' | Matched :- 'True'_SmPC.json_H : Match Passed | H | CAP |  el | 0 | Kalydeco_clean_SmPC.json | Doc txt :- '6.3     Διάρκεια\n",
      "2021-05-12 17:26:39,276 : Heading Extraction Kalydeco_clean_SmPC.json_H : Validation Passed | H | CAP |  el | 0 | Kalydeco_clean_SmPC.json | currHeadId :- '16050' | currParentHeadId :- '16047.0' | prevParentHeadId :- '16049'\n"
     ]
    },
    {
     "name": "stdout",
     "output_type": "stream",
     "text": [
      "\n"
     ]
    },
    {
     "name": "stderr",
     "output_type": "stream",
     "text": [
      " του προϊόντος' | Qrd txt :- '6.4 Ιδιαίτερες προφυλάξεις κατά τη φύλαξη του προϊόντος' | Matched :- 'True' | Kalydeco_clean_SmPC.json | Doc txt :- '6.4     Ιδιαίτερες\n",
      "2021-05-12 17:26:39,768 : Heading Extraction Kalydeco_clean_SmPC.json_H : Validation Passed | H | CAP |  el | 0 | Kalydeco_clean_SmPC.json | currHeadId :- '16051' | currParentHeadId :- '16047.0' | prevParentHeadId :- '16050'\n",
      " φύλαξης.' | Qrd txt :- '6.5 Φύση και συστατικά του περιέκτη <και ειδικός εξοπλισμός για τη χρήση, τη χορήγηση ή την εμφύτευση>' | Matched :- 'False'ο\n"
     ]
    },
    {
     "name": "stdout",
     "output_type": "stream",
     "text": [
      "\n"
     ]
    },
    {
     "name": "stderr",
     "output_type": "stream",
     "text": [
      " του περιέκτη' | Qrd txt :- '6.5 Φύση και συστατικά του περιέκτη <και ειδικός εξοπλισμός για τη χρήση, τη χορήγηση ή την εμφύτευση>' | Matched :- 'True'    Φύση\n",
      "2021-05-12 17:26:40,452 : Heading Extraction Kalydeco_clean_SmPC.json_H : Validation Passed | H | CAP |  el | 0 | Kalydeco_clean_SmPC.json | currHeadId :- '16052' | currParentHeadId :- '16047.0' | prevParentHeadId :- '16051'\n"
     ]
    },
    {
     "name": "stdout",
     "output_type": "stream",
     "text": [
      "\n"
     ]
    },
    {
     "name": "stderr",
     "output_type": "stream",
     "text": [
      " άλλος χειρισμός' | Qrd txt :- '6.6 Ιδιαίτερες προφυλάξεις απόρριψης <και άλλος χειρισμός>' | Matched :- 'True'lydeco_clean_SmPC.json | Doc txt :- '6.6     Ιδιαίτερες\n",
      "2021-05-12 17:26:41,193 : Heading Extraction Kalydeco_clean_SmPC.json_H : Validation Passed | H | CAP |  el | 0 | Kalydeco_clean_SmPC.json | currHeadId :- '16053' | currParentHeadId :- '16047.0' | prevParentHeadId :- '16052'\n",
      " διατάξεις.' | Qrd txt :- '6.5 Φύση και συστατικά του περιέκτη <και ειδικός εξοπλισμός για τη χρήση, τη χορήγηση ή την εμφύτευση>' | Matched :- 'False'ε\n"
     ]
    },
    {
     "name": "stdout",
     "output_type": "stream",
     "text": [
      "\n"
     ]
    },
    {
     "name": "stderr",
     "output_type": "stream",
     "text": [
      " ΚΥΚΛΟΦΟΡΙΑΣ' | Qrd txt :- '7. ΚΑΤΟΧΟΣ ΤΗΣ ΑΔΕΙΑΣ ΚΥΚΛΟΦΟΡΙΑΣ' | Matched :- 'True'ssed | H | CAP |  el | 0 | Kalydeco_clean_SmPC.json | Doc txt :- '7.       ΚΑΤΟΧΟΣ\n",
      "2021-05-12 17:26:41,656 : Heading Extraction Kalydeco_clean_SmPC.json_H : Validation Passed | H | CAP |  el | 0 | Kalydeco_clean_SmPC.json | currHeadId :- '16055' | currParentHeadId :- '16001.0' | prevParentHeadId :- '16053'\n"
     ]
    },
    {
     "name": "stdout",
     "output_type": "stream",
     "text": [
      "\n"
     ]
    },
    {
     "name": "stderr",
     "output_type": "stream",
     "text": [
      " ΚΥΚΛΟΦΟΡΙΑΣ' | Qrd txt :- '8. ΑΡΙΘΜΟΣ(ΟΙ) ΑΔΕΙΑΣ ΚΥΚΛΟΦΟΡΙΑΣ' | Matched :- 'True'ssed | H | CAP |  el | 0 | Kalydeco_clean_SmPC.json | Doc txt :- '8.       ΑΡΙΘΜΟΣ(ΟΙ)\n",
      "2021-05-12 17:26:42,468 : Heading Extraction Kalydeco_clean_SmPC.json_H : Validation Passed | H | CAP |  el | 0 | Kalydeco_clean_SmPC.json | currHeadId :- '16056' | currParentHeadId :- '16001.0' | prevParentHeadId :- '16055'\n"
     ]
    },
    {
     "name": "stdout",
     "output_type": "stream",
     "text": [
      "\n"
     ]
    },
    {
     "name": "stderr",
     "output_type": "stream",
     "text": [
      " ΤΗΣ ΑΔΕΙΑΣ' | Qrd txt :- '9. ΗΜΕΡΟΜΗΝΙΑ ΠΡΩΤΗΣ ΕΓΚΡΙΣΗΣ/ΑΝΑΝΕΩΣΗΣ ΤΗΣ ΑΔΕΙΑΣ' | Matched :- 'True'  el | 0 | Kalydeco_clean_SmPC.json | Doc txt :- '9.       ΗΜΕΡΟΜΗΝΙΑ\n",
      "2021-05-12 17:26:43,049 : Heading Extraction Kalydeco_clean_SmPC.json_H : Validation Passed | H | CAP |  el | 0 | Kalydeco_clean_SmPC.json | currHeadId :- '16057' | currParentHeadId :- '16001.0' | prevParentHeadId :- '16056'\n"
     ]
    },
    {
     "name": "stdout",
     "output_type": "stream",
     "text": [
      "\n"
     ]
    },
    {
     "name": "stderr",
     "output_type": "stream",
     "text": [
      " ΤΟΥ ΚΕΙΜΕΝΟΥ' | Qrd txt :- '10. ΗΜΕΡΟΜΗΝΙΑ ΑΝΑΘΕΩΡΗΣΗΣ ΤΟΥ ΚΕΙΜΕΝΟΥ' | Matched :- 'True'H | CAP |  el | 0 | Kalydeco_clean_SmPC.json | Doc txt :- '10.     ΗΜΕΡΟΜΗΝΙΑ\n",
      "2021-05-12 17:26:43,755 : Heading Extraction Kalydeco_clean_SmPC.json_H : Validation Passed | H | CAP |  el | 0 | Kalydeco_clean_SmPC.json | currHeadId :- '16058' | currParentHeadId :- '16001.0' | prevParentHeadId :- '16057'\n"
     ]
    },
    {
     "name": "stdout",
     "output_type": "stream",
     "text": [
      "\n"
     ]
    },
    {
     "name": "stderr",
     "output_type": "stream",
     "text": [
      " παρτίδας.' | Qrd txt :- '6.5 Φύση και συστατικά του περιέκτη <και ειδικός εξοπλισμός για τη χρήση, τη χορήγηση ή την εμφύτευση>' | Matched :- 'False'ο\n",
      " ΠΡΟΪΟΝΤΟΣ' | Qrd txt :- '1. ΟΝΟΜΑΣΙΑ ΤΟΥ ΦΑΡΜΑΚΕΥΤΙΚΟΥ ΠΡΟΪΟΝΤΟΣ' | Matched :- 'True' | H | CAP |  el | 0 | Kalydeco_clean_SmPC.json | Doc txt :- '1.       ΟΝΟΜΑΣΙΑ\n",
      "2021-05-12 17:26:50,895 : Heading Extraction Kalydeco_clean_SmPC.json_H : Validation Failed As Wrong Heading Found | H | CAP |  el | 0 | Kalydeco_clean_SmPC.json | currHeadId :- '16003' | currParentHeadId :- '16001.0' | prevParentHeadId :- '16058'\n",
      "2021-05-12 17:26:51,099 : Heading Extraction Kalydeco_clean_SmPC.json_H : End Of Sub Section | H | CAP |  el | 0 | Kalydeco_clean_SmPC.json\n",
      " ΠΡΟΪΟΝΤΟΣ' | Qrd txt :- '1. ΟΝΟΜΑΣΙΑ ΤΟΥ ΦΑΡΜΑΚΕΥΤΙΚΟΥ ΠΡΟΪΟΝΤΟΣ' | Matched :- 'True' | H | CAP |  el | 0 | Kalydeco_clean_SmPC.json | Doc txt :- '1.       ΟΝΟΜΑΣΙΑ\n",
      "2021-05-12 17:26:51,128 : Heading Extraction Kalydeco_clean_SmPC.json_H : Validation Passed As This The First Heading | H | CAP |  el | 0 | Kalydeco_clean_SmPC.json | currHeadId :- '16003' | currParentHeadId :- '16001.0' | prevParentHeadId :- ''\n"
     ]
    },
    {
     "name": "stdout",
     "output_type": "stream",
     "text": [
      "oooooooooooooooooooooooooooooooooooooooo END OF Sub Section oooooooooooooooooooooooooooooooooooooooooooooooooooooooooooo\n",
      "\n"
     ]
    },
    {
     "name": "stderr",
     "output_type": "stream",
     "text": [
      " ΚΥΚΛΟΦΟΡΙΑΣ' | Qrd txt :- '8. ΑΡΙΘΜΟΣ(ΟΙ) ΑΔΕΙΑΣ ΚΥΚΛΟΦΟΡΙΑΣ' | Matched :- 'True'ssed | H | CAP |  el | 0 | Kalydeco_clean_SmPC.json | Doc txt :- '12.    ΑΡΙΘΜΟΣ(ΟΙ)\n",
      "2021-05-12 17:26:57,117 : Heading Extraction Kalydeco_clean_SmPC.json_H : Validation Flow Is Broken | H | CAP |  el | 0 | Kalydeco_clean_SmPC.json | currHeadId :- '16056' | currParentHeadId :- '16001.0' | prevParentHeadId :- '16003'\n",
      "2021-05-12 17:26:57,122 : Heading Extraction Kalydeco_clean_SmPC.json_H : Validation Passed | H | CAP |  el | 0 | Kalydeco_clean_SmPC.json | currHeadId :- '16056' | currParentHeadId :- '16001.0' | prevParentHeadId :- '16003'\n"
     ]
    },
    {
     "name": "stdout",
     "output_type": "stream",
     "text": [
      "\n"
     ]
    },
    {
     "name": "stderr",
     "output_type": "stream",
     "text": [
      " ΠΡΟΪΟΝΤΟΣ' | Qrd txt :- '1. ΟΝΟΜΑΣΙΑ ΤΟΥ ΦΑΡΜΑΚΕΥΤΙΚΟΥ ΠΡΟΪΟΝΤΟΣ' | Matched :- 'True' | H | CAP |  el | 0 | Kalydeco_clean_SmPC.json | Doc txt :- '1.       ΟΝΟΜΑΣΙΑ\n",
      "2021-05-12 17:26:59,610 : Heading Extraction Kalydeco_clean_SmPC.json_H : Validation Failed As Wrong Heading Found | H | CAP |  el | 0 | Kalydeco_clean_SmPC.json | currHeadId :- '16003' | currParentHeadId :- '16001.0' | prevParentHeadId :- '16056'\n",
      "2021-05-12 17:26:59,893 : Heading Extraction Kalydeco_clean_SmPC.json_H : End Of Sub Section | H | CAP |  el | 0 | Kalydeco_clean_SmPC.json\n",
      " ΠΡΟΪΟΝΤΟΣ' | Qrd txt :- '1. ΟΝΟΜΑΣΙΑ ΤΟΥ ΦΑΡΜΑΚΕΥΤΙΚΟΥ ΠΡΟΪΟΝΤΟΣ' | Matched :- 'True' | H | CAP |  el | 0 | Kalydeco_clean_SmPC.json | Doc txt :- '1.       ΟΝΟΜΑΣΙΑ\n",
      "2021-05-12 17:26:59,945 : Heading Extraction Kalydeco_clean_SmPC.json_H : Validation Passed As This The First Heading | H | CAP |  el | 0 | Kalydeco_clean_SmPC.json | currHeadId :- '16003' | currParentHeadId :- '16001.0' | prevParentHeadId :- ''\n"
     ]
    },
    {
     "name": "stdout",
     "output_type": "stream",
     "text": [
      "oooooooooooooooooooooooooooooooooooooooo END OF Sub Section oooooooooooooooooooooooooooooooooooooooooooooooooooooooooooo\n",
      "\n"
     ]
    },
    {
     "name": "stderr",
     "output_type": "stream",
     "text": [
      " ΠΡΟΪΟΝΤΟΣ' | Qrd txt :- '1. ΟΝΟΜΑΣΙΑ ΤΟΥ ΦΑΡΜΑΚΕΥΤΙΚΟΥ ΠΡΟΪΟΝΤΟΣ' | Matched :- 'True' | H | CAP |  el | 0 | Kalydeco_clean_SmPC.json | Doc txt :- '1.       ΟΝΟΜΑΣΙΑ\n",
      "2021-05-12 17:27:01,744 : Heading Extraction Kalydeco_clean_SmPC.json_H : Validation Passed As Previous Heading Same As Current | H | CAP |  el | 0 | Kalydeco_clean_SmPC.json | currHeadId :- '16003' | currParentHeadId :- '16001.0' | prevParentHeadId :- '16003'\n"
     ]
    },
    {
     "name": "stdout",
     "output_type": "stream",
     "text": [
      "\n"
     ]
    }
   ],
   "source": [
    "parseDocument(controlFolderPath, outputFolderPath, htmlFileName, fileNameQrd, fileNameMatchRuleBook, fileNameDocumentTypeNames, medName)"
   ]
  },
  {
   "cell_type": "code",
   "execution_count": null,
   "metadata": {},
   "outputs": [],
   "source": []
  }
 ],
 "metadata": {
  "kernelspec": {
   "display_name": "Python 3",
   "language": "python",
   "name": "python3"
  },
  "language_info": {
   "codemirror_mode": {
    "name": "ipython",
    "version": 3
   },
   "file_extension": ".py",
   "mimetype": "text/x-python",
   "name": "python",
   "nbconvert_exporter": "python",
   "pygments_lexer": "ipython3",
   "version": "3.7.3"
  }
 },
 "nbformat": 4,
 "nbformat_minor": 4
}
