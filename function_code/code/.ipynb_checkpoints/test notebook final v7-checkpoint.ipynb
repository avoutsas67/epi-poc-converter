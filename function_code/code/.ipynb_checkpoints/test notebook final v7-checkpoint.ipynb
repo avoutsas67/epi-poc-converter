{
 "cells": [
  {
   "cell_type": "code",
   "execution_count": 1,
   "metadata": {},
   "outputs": [],
   "source": [
    "import os\n",
    "import zipfile\n",
    "%load_ext autoreload\n",
    "\n",
    "%autoreload 2"
   ]
  },
  {
   "cell_type": "code",
   "execution_count": 2,
   "metadata": {
    "scrolled": true
   },
   "outputs": [
    {
     "name": "stderr",
     "output_type": "stream",
     "text": [
      "C:\\Users\\vipsharm\\AppData\\Local\\Continuum\\anaconda3\\envs\\py38\\lib\\site-packages\\fuzzywuzzy\\fuzz.py:11: UserWarning: Using slow pure-python SequenceMatcher. Install python-Levenshtein to remove this warning\n",
      "  warnings.warn('Using slow pure-python SequenceMatcher. Install python-Levenshtein to remove this warning')\n",
      "[nltk_data] Downloading package stopwords to\n",
      "[nltk_data]     C:\\Users\\vipsharm\\AppData\\Roaming\\nltk_data...\n",
      "[nltk_data]   Package stopwords is already up-to-date!\n"
     ]
    }
   ],
   "source": [
    "import tracemalloc\n",
    "import psutil\n",
    "import pprint\n",
    "import pandas as pd\n",
    "import uuid\n",
    "import json\n",
    "import os\n",
    "import glob\n",
    "import re\n",
    "import sys\n",
    "from bs4 import NavigableString, BeautifulSoup\n",
    "from collections import defaultdict\n",
    "import random\n",
    "import string\n",
    "import time\n",
    "\n",
    "from utils.config import config\n",
    "from utils.logger.logger import loggerCreator\n",
    "\n",
    "# ePI Modules\n",
    "from parse.rulebook.rulebook import StyleRulesDictionary\n",
    "\n",
    "from parse.extractor.parser import parserExtractor\n",
    "from match.matchDocument.matchDocument import MatchDocument\n",
    "from documentAnnotation.documentAnnotation import DocumentAnnotation\n",
    "from htmlDocTypePartitioner.partition import DocTypePartitioner\n",
    "from extractContentBetweenHeadings.dataBetweenHeadingsExtractor import DataBetweenHeadingsExtractor\n",
    "from fhirXmlGenerator.fhirXmlGenerator import FhirXmlGenerator\n",
    "from fhirService.fhirService import FhirService\n",
    "from utils.logger.matchLogger import MatchLogger\n",
    "from languageInfo.documentTypeNames.documentTypeNames import DocumentTypeNames\n",
    "from listBundle.addAndUpdateListBundle.addAndUpdateListBundle import ListBundleHandler\n",
    "\n",
    "class FolderNotFoundError(Exception):\n",
    "    pass\n",
    "\n",
    "class Metrics:\n",
    "    \n",
    "    def __init__(self, logFileName, logger):\n",
    "        self.logFileName = logFileName\n",
    "        self.start()\n",
    "        self.writer = open(self.logFileName, 'a')\n",
    "        self.writer.write(\"StepName,Time,Current Memory,Peak Memory,Used Ram Percentage\\n\")\n",
    "        self.finalPeak = 0\n",
    "        self.finalTotalTime = 0\n",
    "        self.finalUsedRamPerc = 0\n",
    "        self.logger = logger\n",
    "    \n",
    "    def start(self):\n",
    "        self.startTime = time.time()\n",
    "        tracemalloc.start()\n",
    "    \n",
    "    def getMetric(self, msg):\n",
    "        \n",
    "        self.endTime = time.time()\n",
    "        \n",
    "        self.totalTime = self.endTime - self.startTime\n",
    "        \n",
    "        \n",
    "        current, peak = tracemalloc.get_traced_memory()\n",
    "        current = current / 10**6\n",
    "        peak = peak / 10**6\n",
    "        \n",
    "        usedRamPerc = psutil.virtual_memory()[2]\n",
    "        \n",
    "        self.finalPeak = max(self.finalPeak, peak)\n",
    "        self.finalUsedRamPerc = max(self.finalUsedRamPerc, usedRamPerc)\n",
    "\n",
    "        self.finalTotalTime = self.finalTotalTime + self.totalTime\n",
    "        #self.finalTotalTime = round(self.finalTotalTime/60,3)\n",
    "        \n",
    "        outputString = f\"{msg},{round(self.totalTime/60,4)} Min,{current} MB,{peak} MB,{usedRamPerc}%\\n\"\n",
    "        \n",
    "        self.logger.logFlowCheckpoint(f\"{outputString}\")\n",
    "        \n",
    "        print(f\"Metrics : {outputString}\")\n",
    "        self.writer.write(outputString)\n",
    "        tracemalloc.stop()\n",
    "        tracemalloc.start()\n",
    "        self.startTime = time.time()\n",
    "    def end(self):\n",
    "        \n",
    "        current, peak = tracemalloc.get_traced_memory()\n",
    "        current = current / 10**6\n",
    "        outputString = f\"Final Metrics,{round(self.finalTotalTime/60,4)} Min,{current} MB,{self.finalPeak} MB,{self.finalUsedRamPerc}%\\n\"\n",
    "        print(f\"Metrics : {outputString}\")\n",
    "        self.logger.logFlowCheckpoint(f\"{outputString}\")\n",
    "        self.writer.write(outputString)\n",
    "        self.writer.close()\n",
    "        tracemalloc.stop()\n",
    "        \n",
    "        \n",
    "\n",
    "\n",
    "def convertToInt(x):\n",
    "    try:\n",
    "        return str(int(x))\n",
    "    except:\n",
    "        return x\n",
    "\n",
    "\n",
    "def convertCollectionToDataFrame(collection):\n",
    "\n",
    "    dfExtractedHier = pd.DataFrame(collection)\n",
    "    dfExtractedHier['parent_id'] = dfExtractedHier['parent_id'].apply(\n",
    "        lambda x: convertToInt(x))\n",
    "    dfExtractedHier['id'] = dfExtractedHier['id'].apply(\n",
    "        lambda x: convertToInt(x))\n",
    "\n",
    "    return dfExtractedHier\n",
    "\n",
    "def getRandomString(N):\n",
    "    str_ = ''.join(random.choice(string.ascii_uppercase + string.digits\n",
    "                                 + string.ascii_lowercase) for _ in range(N))\n",
    "    return str_\n",
    "\n",
    "\n",
    "def convertHtmlToJson(controlBasePath, basePath, domain, procedureType, languageCode, htmlDocName, fileNameQrd, fileNameLog):\n",
    "\n",
    "    module_path = os.path.join(basePath)\n",
    "\n",
    "    if \"/\" in basePath:\n",
    "        pathSep = \"/\"\n",
    "    else:\n",
    "        pathSep = \"\\\\\"\n",
    "    \n",
    "    # Generate output folder path\n",
    "    output_json_path = os.path.join(basePath, 'outputJSON')\n",
    "\n",
    "    \"\"\"\n",
    "        Check if input folder exists, else throw exception\n",
    "    \"\"\"\n",
    "    if(os.path.exists(module_path)):\n",
    "        filenames = glob.glob(os.path.join(module_path, htmlDocName))\n",
    "\n",
    "        # Create language specific folder in outputJSON folder if it doesn't exist\n",
    "        if(not os.path.exists(output_json_path)):\n",
    "            os.mkdir(output_json_path)\n",
    "        logger = MatchLogger(f'Parser_{getRandomString(1)}', htmlDocName,\n",
    "                             domain, procedureType, languageCode, \"HTML\", fileNameLog)\n",
    "\n",
    "        styleLogger = MatchLogger(\n",
    "            f'Style Dictionary_{getRandomString(1)}', htmlDocName, domain, procedureType, languageCode, \"HTML\", fileNameLog)\n",
    "\n",
    "        styleRulesObj = StyleRulesDictionary(logger=styleLogger,\n",
    "                                             controlBasePath=controlBasePath,\n",
    "                                             language=languageCode,\n",
    "                                             fileName=fileNameQrd,\n",
    "                                             domain=domain,\n",
    "                                             procedureType=procedureType\n",
    "                                             )\n",
    "\n",
    "        parserObj = parserExtractor(config, logger, styleRulesObj.styleRuleDict,\n",
    "                                    styleRulesObj.styleFeatureKeyList,\n",
    "                                    styleRulesObj.qrd_section_headings)\n",
    "\n",
    "        for input_filename in filenames:\n",
    "          # if(input_filename.find('Kalydeco II-86-PI-clean')!=-1):\n",
    "            output_filename = os.path.join(output_json_path, htmlDocName)\n",
    "            style_filepath =  output_filename.replace('.html','.txt')\n",
    "            style_filepath =  style_filepath.replace('.txtl','.txt')\n",
    "            style_filepath =  style_filepath.replace('.htm','.txt')\n",
    "            print(\"-------------\",style_filepath,\"-----------------\")\n",
    "\n",
    "            output_filename = output_filename.replace('.html', '.json')\n",
    "            output_filename = output_filename.replace('.htm', '.json')\n",
    "            print(input_filename, output_filename)\n",
    "            parserObj.createPIJsonFromHTML(input_filepath=input_filename,\n",
    "                                           output_filepath=output_filename,\n",
    "                                           style_filepath = style_filepath,\n",
    "                                           img_base64_dict=parserObj.convertImgToBase64(input_filename)\n",
    "                                           )\n",
    "            \n",
    "        return output_filename.split(pathSep)[-1], style_filepath\n",
    "    else:\n",
    "        try:    \n",
    "            raise FolderNotFoundError(module_path + \" not found\")\n",
    "        except:  \n",
    "            logger.logFlowCheckpoint(\"Folder For Language Code Not Found In Input File\")\n",
    "            logger.logException(\"Folder For Language Code Not Found In Input File\")\n",
    "        raise FolderNotFoundError(module_path + \" not found\")\n",
    "        return None\n",
    "\n",
    "\n",
    "def splitJson(controlBasePath, basePath, domain, procedureType, languageCode, fileNameJson, fileNameQrd, fileNameLog):\n",
    "\n",
    "    styleLogger = MatchLogger(\n",
    "        f'Style Dictionary_{getRandomString(1)}', fileNameJson, domain, procedureType, languageCode, \"Json\", fileNameLog)\n",
    "\n",
    "    styleRulesObj = StyleRulesDictionary(logger=styleLogger,\n",
    "                                        controlBasePath=controlBasePath,\n",
    "                                        language=languageCode,\n",
    "                                        fileName=fileNameQrd,\n",
    "                                        domain=domain,\n",
    "                                        procedureType=procedureType\n",
    "                                        )\n",
    "    \n",
    "    path_json = os.path.join(basePath,'outputJSON', fileNameJson)\n",
    "    print(\"PathJson\",path_json)\n",
    "    partitionLogger = MatchLogger(\n",
    "        f'Partition_{getRandomString(1)}', fileNameJson, domain, procedureType, languageCode, \"Json\", fileNameLog)\n",
    "\n",
    "    partitioner = DocTypePartitioner(partitionLogger)\n",
    "\n",
    "    partitionedJsonPaths = partitioner.partitionHtmls(\n",
    "        styleRulesObj.qrd_section_headings, path_json)\n",
    "\n",
    "    return partitionedJsonPaths\n",
    "\n",
    "\n",
    "def extractAndValidateHeadings(controlBasePath,\n",
    "                                basePath,\n",
    "                                domain,\n",
    "                                procedureType,\n",
    "                                languageCode,\n",
    "                                documentNumber,\n",
    "                                fileNameDoc,\n",
    "                                fileNameQrd,\n",
    "                                fileNameMatchRuleBook,\n",
    "                                fileNameDocumentTypeNames,\n",
    "                                fileNameLog,\n",
    "                                stopWordFilterLen=6,\n",
    "                                isPackageLeaflet=False,\n",
    "                                medName=None\n",
    "                                ):\n",
    "\n",
    "    if documentNumber == 0:\n",
    "        topHeadingsConsidered = 4\n",
    "        bottomHeadingsConsidered = 6\n",
    "    elif documentNumber == 1:\n",
    "        topHeadingsConsidered = 3\n",
    "        bottomHeadingsConsidered = 5\n",
    "    elif documentNumber == 2:\n",
    "        topHeadingsConsidered = 5\n",
    "        bottomHeadingsConsidered = 15\n",
    "    else:\n",
    "        topHeadingsConsidered = 5\n",
    "        bottomHeadingsConsidered = 10\n",
    "\n",
    "    print(f\"Starting Heading Extraction For File :- {fileNameDoc}\")\n",
    "    logger = MatchLogger(f\"Heading Extraction {fileNameDoc}_{getRandomString(1)}\", fileNameDoc, domain, procedureType, languageCode, documentNumber, fileNameLog)\n",
    "    logger.logFlowCheckpoint(\"Starting Heading Extraction\")\n",
    "\n",
    "    stopWordlanguage = DocumentTypeNames(\n",
    "        controlBasePath=controlBasePath,\n",
    "        fileNameDocumentTypeNames=fileNameDocumentTypeNames,\n",
    "        languageCode=languageCode,\n",
    "        domain=domain,\n",
    "        procedureType=procedureType,\n",
    "        documentNumber=documentNumber\n",
    "        ).extractStopWordLanguage()\n",
    "\n",
    "    matchDocObj = MatchDocument(\n",
    "        logger,\n",
    "        controlBasePath,\n",
    "        basePath,\n",
    "        domain,\n",
    "        procedureType,\n",
    "        languageCode,\n",
    "        documentNumber,\n",
    "        fileNameDoc,\n",
    "        fileNameQrd,\n",
    "        fileNameMatchRuleBook,\n",
    "        fileNameDocumentTypeNames,\n",
    "        topHeadingsConsidered,\n",
    "        bottomHeadingsConsidered,\n",
    "        stopWordFilterLen,\n",
    "        stopWordlanguage,\n",
    "        isPackageLeaflet,\n",
    "        medName)\n",
    "    df, coll, documentType = matchDocObj.matchHtmlHeaddingsWithQrd()\n",
    "\n",
    "    return df, coll, documentType\n",
    "\n",
    "\n",
    "def parseDocument(controlBasePath,\n",
    "                  basePath,\n",
    "                  htmlDocName,\n",
    "                  fileNameQrd,\n",
    "                  fileNameMatchRuleBook,\n",
    "                  fileNameDocumentTypeNames,\n",
    "                  jsonTempFileName,\n",
    "                  listBundleDocumentTypeCodesFileName,\n",
    "                  apiMmgtBaseUrl,\n",
    "                  getListApiEndPointUrlSuffix,\n",
    "                  addUpdateListApiEndPointUrlSuffix,\n",
    "                  addBundleApiEndPointUrlSuffix,\n",
    "                  apiMmgtSubsKey,\n",
    "                  medName = None):\n",
    "    \n",
    "    listRegulatedAuthCodesAccrossePI = []\n",
    "    \n",
    "    if \"/\" in basePath:\n",
    "        pathSep = \"/\"        \n",
    "    else:\n",
    "        pathSep = \"\\\\\"\n",
    "    \n",
    "    fileNameLog = os.path.join(basePath,'FinalLog.txt')\n",
    "\n",
    "    pathComponents = basePath.split(pathSep)\n",
    "    print(pathComponents, htmlDocName)\n",
    "    timestamp = pathComponents[-1]\n",
    "    languageCode =  pathComponents[-2]\n",
    "    medName = pathComponents[-3]\n",
    "    procedureType = pathComponents[-4]\n",
    "    domain = pathComponents[-5]\n",
    "\n",
    "    print(timestamp, languageCode, medName, procedureType, domain)\n",
    "        \n",
    "    flowLogger =  MatchLogger(f\"Flow Logger HTML_{getRandomString(1)}\", htmlDocName, domain, procedureType, languageCode, \"HTML\", fileNameLog)\n",
    "    \n",
    "    metrics = Metrics(os.path.join(basePath,'Metrics.csv'),flowLogger)\n",
    "    \n",
    "    \n",
    "    flowLogger.logFlowCheckpoint(\"Starting HTML Conversion To Json\")\n",
    "    ###Convert Html to Json\n",
    "    fileNameJson, stylesFilePath = convertHtmlToJson(controlBasePath, basePath, domain, procedureType, languageCode, htmlDocName, fileNameQrd, fileNameLog)\n",
    "    \n",
    "    print(\"stylePath:-\",stylesFilePath)\n",
    "    flowLogger.logFlowCheckpoint(\"Completed HTML Conversion To Json\")\n",
    "    metrics.getMetric(\"HTML Conversion To Json\")\n",
    "\n",
    "    flowLogger.logFlowCheckpoint(\"Starting Json Split\")\n",
    "\n",
    "    ###Split Uber Json to multiple Jsons for each category.\n",
    "    partitionedJsonPaths = splitJson(controlBasePath, basePath, domain, procedureType, languageCode, fileNameJson, fileNameQrd, fileNameLog)\n",
    "    \n",
    "    partitionedJsonPaths = [ path.split(pathSep)[-1] for path in partitionedJsonPaths]\n",
    "    flowLogger.logFlowCheckpoint(str(partitionedJsonPaths))\n",
    "    \n",
    "    flowLogger.logFlowCheckpoint(\"Completed Json Split\")\n",
    "    metrics.getMetric(\"Split Json\")\n",
    "    \n",
    "    flowLogger.logFlowCheckpoint(\"Started Processing Partitioned Jsons\")\n",
    "    \n",
    "    for index, fileNamePartitioned in enumerate(partitionedJsonPaths):\n",
    "        #print(\"Index\", index)\n",
    "        #if index in [0,1,3]:\n",
    "        #    continue\n",
    "        flowLogger.logFlowCheckpoint(f\"\\n\\n\\n\\n||||||||||||||||||||||||||||||||{str(index)} ||||| {str(fileNamePartitioned)}||||||||||||||||||||||||||||||||\\n\\n\\n\\n\")\n",
    "        \n",
    "        if index == 3:\n",
    "            stopWordFilterLen = 100\n",
    "            isPackageLeaflet = True\n",
    "        else:\n",
    "            stopWordFilterLen = 6\n",
    "            isPackageLeaflet = False\n",
    "            \n",
    "        df, coll, documentType = extractAndValidateHeadings(controlBasePath,\n",
    "                                    basePath,\n",
    "                                    domain,\n",
    "                                    procedureType,\n",
    "                                    languageCode,\n",
    "                                    index,\n",
    "                                    fileNamePartitioned,\n",
    "                                    fileNameQrd,\n",
    "                                    fileNameMatchRuleBook,\n",
    "                                    fileNameDocumentTypeNames,\n",
    "                                    fileNameLog,\n",
    "                                    stopWordFilterLen=stopWordFilterLen,\n",
    "                                    isPackageLeaflet=isPackageLeaflet,\n",
    "                                    medName=medName)\n",
    "    \n",
    "        \n",
    "        print(f\"Completed Heading Extraction For File\")\n",
    "        flowLogger.logFlowCheckpoint(\"Completed Heading Extraction For File\")\n",
    "        metrics.getMetric(f\"{index}: Heading Extraction\")\n",
    "\n",
    "        print(f\"Starting Document Annotation For File :- {fileNamePartitioned}\")        \n",
    "        flowLogger.logFlowCheckpoint(\"Starting Document Annotation For File\")\n",
    "        documentAnnotationObj = DocumentAnnotation(fileNamePartitioned,'c20835db4b1b4e108828a8537ff41506','https://spor-sit.azure-api.net/pms/api/v2/',df,coll, index)\n",
    "        try:\n",
    "            pms_oms_annotation_data = documentAnnotationObj.processRegulatedAuthorizationForDoc()\n",
    "            print(pms_oms_annotation_data)\n",
    "        except Exception as e:\n",
    "            pms_oms_annotation_data = None\n",
    "            print(\"Error Found\", str(e))\n",
    "            \n",
    "        print(f\"Completed Document Annotation\")        \n",
    "        flowLogger.logFlowCheckpoint(\"Completed Document Annotation\")\n",
    "        metrics.getMetric(f\"{index}: Document Annotation\")\n",
    "        \n",
    "        print(f\"Starting Extracting Content Between Heading For File :- {fileNamePartitioned}\")        \n",
    "        flowLogger.logFlowCheckpoint(\"Starting Extracting Content Between Heading\")\n",
    "        \n",
    "        extractContentlogger =  MatchLogger(f'ExtractContentBetween_{index}_{getRandomString(1)}', fileNamePartitioned, domain, procedureType, languageCode, index, fileNameLog)\n",
    "        extractorObj = DataBetweenHeadingsExtractor(extractContentlogger, basePath, coll)\n",
    "        dfExtractedHierRR = extractorObj.extractContentBetweenHeadings(fileNamePartitioned)\n",
    "        \n",
    "        print(f\"Completed Extracting Content Between Heading\")        \n",
    "        flowLogger.logFlowCheckpoint(\"Completed Extracting Content Between Heading\")\n",
    "        metrics.getMetric(f\"{index}: Content Extraction\")\n",
    "        \n",
    "        \n",
    "        xmlLogger =  MatchLogger(f'XmlGeneration_{index}_{getRandomString(1)}', fileNamePartitioned, domain, procedureType, languageCode, index, fileNameLog)\n",
    "        fhirXmlGeneratorObj = FhirXmlGenerator(xmlLogger, controlBasePath, basePath, pms_oms_annotation_data, stylesFilePath, medName)\n",
    "        fileNameXml = fileNamePartitioned.replace('.json','.xml')\n",
    "        generatedXml = fhirXmlGeneratorObj.generateXml(dfExtractedHierRR, fileNameXml)\n",
    "        \n",
    "        metrics.getMetric(f\"{index}: Generate XML\")\n",
    "        \n",
    "        fhirServiceLogger =  MatchLogger(f'XML Submission Logger_{index}_{getRandomString(1)}', fileNamePartitioned, domain, procedureType, languageCode, index, fileNameLog)\n",
    "        \n",
    "        fhirServiceObj = FhirService(fhirServiceLogger, apiMmgtBaseUrl, addBundleApiEndPointUrlSuffix, apiMmgtSubsKey, basePath, generatedXml)\n",
    "        fhirServiceObj.submitFhirXml()\n",
    "        \n",
    "        \n",
    "        \n",
    "        \n",
    "        metrics.getMetric(f\"{index}: Submit FHIR Msg\")\n",
    "        \n",
    "        print(f\"Created XML File For :- {fileNamePartitioned}\")\n",
    "        \n",
    "        flowLogger.logFlowCheckpoint(\"Starting list bundle update/addition\")\n",
    "        if documentAnnotationObj.listRegulatedAuthorizationIdentifiers != None:\n",
    "            for id in documentAnnotationObj.listRegulatedAuthorizationIdentifiers:\n",
    "                listRegulatedAuthCodesAccrossePI.append(id)\n",
    "        listBundleLogger =  MatchLogger(f'List Bundle Creation Logger_{index}_{getRandomString(1)}', fileNamePartitioned, domain, procedureType, languageCode, index, fileNameLog)\n",
    "        print(\"\\nlistRegulatedAuthCodesAccrossePI\",listRegulatedAuthCodesAccrossePI)\n",
    "        try:\n",
    "            listBundleHandler = ListBundleHandler(listBundleLogger,\n",
    "                     domain,\n",
    "                     procedureType,\n",
    "                     index,\n",
    "                     documentType,\n",
    "                     languageCode,\n",
    "                     medName,\n",
    "                     controlBasePath,\n",
    "                     jsonTempFileName,\n",
    "                     listBundleDocumentTypeCodesFileName,\n",
    "                     fileNameDocumentTypeNames,\n",
    "                     listRegulatedAuthCodesAccrossePI,\n",
    "                     apiMmgtBaseUrl,\n",
    "                     getListApiEndPointUrlSuffix,\n",
    "                     addUpdateListApiEndPointUrlSuffix,\n",
    "                     apiMmgtSubsKey)\n",
    "\n",
    "            listBundleXml = listBundleHandler.addOrUpdateDocumentItem(str(fhirServiceObj.SubmittedFhirMsgRefId))\n",
    "            listBundleHandler.submitListXmLToServer(listBundleXml)\n",
    "\n",
    "            flowLogger.logFlowCheckpoint(\"Completed list bundle update/addition\")\n",
    "            metrics.getMetric(f\"{index}: Update/Add List Bundle\")\n",
    "            #return df,coll,dfExtractedHierRR\n",
    "        except Exception as e:\n",
    "            print(str(e))\n",
    "            if 'No MAN Code found' in str(e):\n",
    "                flowLogger.logFlowCheckpoint(\"Skipping list bundle addtion/update as no MAN found\")\n",
    "            \n",
    "    \n",
    "    flowLogger.logFlowCheckpoint(\"Completed Processing Partitioned Jsons\")\n",
    "    metrics.getMetric(f\"{index}: Completed\")\n",
    "    metrics.end()"
   ]
  },
  {
   "cell_type": "code",
   "execution_count": 3,
   "metadata": {},
   "outputs": [],
   "source": [
    "#from wordToHtmlConvertor.wordToHtmlConvertor import WordToHtmlConvertor\n",
    "#\n",
    "#wordToHtmlConvertorObj = WordToHtmlConvertor()\n",
    "#wordToHtmlConvertorObj.convertWordToHTML()"
   ]
  },
  {
   "cell_type": "code",
   "execution_count": 4,
   "metadata": {},
   "outputs": [],
   "source": [
    "def runAll(inputList):\n",
    "    for inputDoc in inputList:\n",
    "        # inputZipFolderPath = \"F:\\Projects\\EMA\\Repository\\EMA EPI PoC\\\\function_code\\\\inputblob\"\n",
    "        inputZipFolderPath = os.path.abspath(os.path.join('..'))\n",
    "        inputZipFolderPath = os.path.join(inputZipFolderPath, 'inputblob')\n",
    "        inputZipFileName = inputDoc\n",
    "\n",
    "        fileNameQrd = 'qrd_canonical_model.csv'\n",
    "        fileNameMatchRuleBook = 'ruleDict.json'\n",
    "        fileNameDocumentTypeNames = 'documentTypeNames.json'\n",
    "        fsMountName = '/mounted'\n",
    "        jsonTempFileName = 'listBundleJsonTemplate.json'\n",
    "        listBundleDocumentTypeCodesFileName = 'listBundleDocumentTypeCodes.json'\n",
    "        apiMmgtBaseUrl = \"https://ema-dap-epi-dev-fhir-apim.azure-api.net\"\n",
    "        getListApiEndPointUrlSuffix = \"/epi/v1/List\"\n",
    "        addUpdateListApiEndPointUrlSuffix = \"/epi-w/v1/List\"\n",
    "        addBundleApiEndPointUrlSuffix = \"/epi-w/v1/Bundle\"\n",
    "        apiMmgtSubsKey = \"ba6d7e9a73ed4facaa58fc983bf6db50\"\n",
    "\n",
    "\n",
    "\n",
    "        info = inputZipFileName.split(\"~\")\n",
    "\n",
    "        try:\n",
    "            medName = info[0]\n",
    "            domain = info[1]\n",
    "            procedureType = info[2]\n",
    "            languageCode = info[3]\n",
    "            timestamp = info[4]\n",
    "            timestamp = timestamp.replace(\".zip\",\"\")\n",
    "\n",
    "        except Exception:\n",
    "            raise f\"Missing required info in the zip file name {inputZipFileName}\"\n",
    "\n",
    "        if \"\\\\\" in os.getcwd():\n",
    "            localEnv = True\n",
    "            inputZipFolderPath = os.path.join(os.path.abspath(os.path.join('..')),inputZipFolderPath)\n",
    "            outputFolderPath = os.path.join(os.path.abspath(os.path.join('..')), 'work', f\"{domain}\", f\"{procedureType}\", f\"{medName}\", f\"{languageCode}\", f\"{timestamp}\")\n",
    "            controlFolderPath = os.path.join(os.path.abspath(os.path.join('..')),'control')\n",
    "        else:\n",
    "            localEnv = False\n",
    "            inputZipFolderPath = os.path.join(f'{fsMountName}',inputZipFolderPath)\n",
    "            outputFolderPath = os.path.join(f'{fsMountName}', 'work', f\"{domain}\", f\"{procedureType}\", f\"{medName}\", f\"{languageCode}\", f\"{timestamp}\")\n",
    "            controlFolderPath = os.path.join(f'{fsMountName}','control')\n",
    "\n",
    "\n",
    "        print(inputZipFileName, inputZipFolderPath, outputFolderPath, controlFolderPath)\n",
    "\n",
    "        mode = 0o666\n",
    "\n",
    "        if localEnv is True:\n",
    "            inputZipFolderPath = inputZipFolderPath.replace(\"/\",\"\\\\\")\n",
    "            outputFolderPath = outputFolderPath.replace(\"/\",\"\\\\\")\n",
    "            controlFolderPath = controlFolderPath.replace(\"/\",\"\\\\\")\n",
    "\n",
    "        try:\n",
    "            os.makedirs(inputZipFolderPath, mode)\n",
    "            os.makedirs(outputFolderPath, mode)\n",
    "            os.makedirs(controlFolderPath, mode)\n",
    "\n",
    "        except Exception:\n",
    "            print(\"Already Present\")\n",
    "\n",
    "        with zipfile.ZipFile(f'{inputZipFolderPath}/{inputZipFileName}',\"r\") as zip_ref:\n",
    "                zip_ref.extractall(outputFolderPath)\n",
    "\n",
    "\n",
    "        _,_,fileNames = next(os.walk(outputFolderPath))\n",
    "        htmlFileName = [fileName for fileName in fileNames if \".htm\" in fileName][0]\n",
    "\n",
    "        print(htmlFileName)\n",
    "\n",
    "        parseDocument(controlFolderPath,\n",
    "                  outputFolderPath,\n",
    "                  htmlFileName,\n",
    "                  fileNameQrd,\n",
    "                  fileNameMatchRuleBook,\n",
    "                  fileNameDocumentTypeNames,\n",
    "                  jsonTempFileName,\n",
    "                  listBundleDocumentTypeCodesFileName,\n",
    "                  apiMmgtBaseUrl,\n",
    "                  getListApiEndPointUrlSuffix,\n",
    "                  addUpdateListApiEndPointUrlSuffix,\n",
    "                  addBundleApiEndPointUrlSuffix,\n",
    "                  apiMmgtSubsKey,\n",
    "                  medName)\n"
   ]
  },
  {
   "cell_type": "code",
   "execution_count": 5,
   "metadata": {},
   "outputs": [
    {
     "name": "stderr",
     "output_type": "stream",
     "text": [
      "2021-06-07 23:16:48,944 : Flow Logger HTML_a : Starting HTML Conversion To Json | H | CAP |  de | HTML | gonal-f_clean.htm\n",
      "2021-06-07 23:16:48,954 : Style Dictionary_C : Reading style dictionary in file: rule_dictionary_de.json | H | CAP |  de | HTML | gonal-f_clean.htm\n"
     ]
    },
    {
     "name": "stdout",
     "output_type": "stream",
     "text": [
      "GONAL-f~H~CAP~de~2021-06-07T06-58-30Z.zip F:\\Projects\\EMA\\Repository\\EMA EPI PoC\\function_code\\inputblob F:\\Projects\\EMA\\Repository\\EMA EPI PoC\\function_code\\work\\H\\CAP\\GONAL-f\\de\\2021-06-07T06-58-30Z F:\\Projects\\EMA\\Repository\\EMA EPI PoC\\function_code\\control\n",
      "Already Present\n",
      "gonal-f_clean.htm\n",
      "['F:', 'Projects', 'EMA', 'Repository', 'EMA EPI PoC', 'function_code', 'work', 'H', 'CAP', 'GONAL-f', 'de', '2021-06-07T06-58-30Z'] gonal-f_clean.htm\n",
      "2021-06-07T06-58-30Z de GONAL-f CAP H\n"
     ]
    },
    {
     "name": "stderr",
     "output_type": "stream",
     "text": [
      "2021-06-07 23:16:49,051 : Style Dictionary_C : Qrd Section Keys Retrieved For Style Dictionary: ANHANG I, ANHANG II, ANHANG III, B. PACKUNGSBEILAGE | H | CAP |  de | HTML | gonal-f_clean.htm\n"
     ]
    },
    {
     "name": "stdout",
     "output_type": "stream",
     "text": [
      "------------- F:\\Projects\\EMA\\Repository\\EMA EPI PoC\\function_code\\work\\H\\CAP\\GONAL-f\\de\\2021-06-07T06-58-30Z\\outputJSON\\gonal-f_clean.txt -----------------\n",
      "F:\\Projects\\EMA\\Repository\\EMA EPI PoC\\function_code\\work\\H\\CAP\\GONAL-f\\de\\2021-06-07T06-58-30Z\\gonal-f_clean.htm F:\\Projects\\EMA\\Repository\\EMA EPI PoC\\function_code\\work\\H\\CAP\\GONAL-f\\de\\2021-06-07T06-58-30Z\\outputJSON\\gonal-f_clean.json\n"
     ]
    },
    {
     "name": "stderr",
     "output_type": "stream",
     "text": [
      "2021-06-07 23:16:53,864 : Parser_e : Style Information Stored In File: F:\\Projects\\EMA\\Repository\\EMA EPI PoC\\function_code\\work\\H\\CAP\\GONAL-f\\de\\2021-06-07T06-58-30Z\\outputJSON\\gonal-f_clean.txt | H | CAP |  de | HTML | gonal-f_clean.htm\n",
      "2021-06-07 23:17:15,876 : Parser_e : Writing to file: F:\\Projects\\EMA\\Repository\\EMA EPI PoC\\function_code\\work\\H\\CAP\\GONAL-f\\de\\2021-06-07T06-58-30Z\\outputJSON\\gonal-f_clean.json | H | CAP |  de | HTML | gonal-f_clean.htm\n",
      "2021-06-07 23:17:17,368 : Flow Logger HTML_a : Completed HTML Conversion To Json | H | CAP |  de | HTML | gonal-f_clean.htm\n",
      "2021-06-07 23:17:17,372 : Flow Logger HTML_a : HTML Conversion To Json,0.4738 Min,13.302531 MB,49.470411 MB,50.4%\n",
      " | H | CAP |  de | HTML | gonal-f_clean.htm\n",
      "2021-06-07 23:17:17,405 : Flow Logger HTML_a : Starting Json Split | H | CAP |  de | HTML | gonal-f_clean.htm\n",
      "2021-06-07 23:17:17,420 : Style Dictionary_9 : Reading style dictionary in file: rule_dictionary_de.json | H | CAP |  de | Json | gonal-f_clean.json\n",
      "2021-06-07 23:17:17,523 : Style Dictionary_9 : Qrd Section Keys Retrieved For Style Dictionary: ANHANG I, ANHANG II, ANHANG III, B. PACKUNGSBEILAGE | H | CAP |  de | Json | gonal-f_clean.json\n",
      "2021-06-07 23:17:17,533 : Partition_B : Partitioning Json: gonal-f_clean.json | H | CAP |  de | Json | gonal-f_clean.json\n"
     ]
    },
    {
     "name": "stdout",
     "output_type": "stream",
     "text": [
      "stylePath:- F:\\Projects\\EMA\\Repository\\EMA EPI PoC\\function_code\\work\\H\\CAP\\GONAL-f\\de\\2021-06-07T06-58-30Z\\outputJSON\\gonal-f_clean.txt\n",
      "Metrics : HTML Conversion To Json,0.4738 Min,13.302531 MB,49.470411 MB,50.4%\n",
      "\n",
      "PathJson F:\\Projects\\EMA\\Repository\\EMA EPI PoC\\function_code\\work\\H\\CAP\\GONAL-f\\de\\2021-06-07T06-58-30Z\\outputJSON\\gonal-f_clean.json\n"
     ]
    },
    {
     "name": "stderr",
     "output_type": "stream",
     "text": [
      "2021-06-07 23:17:19,538 : Partition_B : Writing partition to file: F:\\Projects\\EMA\\Repository\\EMA EPI PoC\\function_code\\work\\H\\CAP\\GONAL-f\\de\\2021-06-07T06-58-30Z\\partitionedJSONs\\gonal-f_clean_SmPC.json | H | CAP |  de | Json | gonal-f_clean.json\n",
      "2021-06-07 23:17:19,872 : Partition_B : Writing partition to file: F:\\Projects\\EMA\\Repository\\EMA EPI PoC\\function_code\\work\\H\\CAP\\GONAL-f\\de\\2021-06-07T06-58-30Z\\partitionedJSONs\\gonal-f_clean_ANHANG II.json | H | CAP |  de | Json | gonal-f_clean.json\n",
      "2021-06-07 23:17:20,277 : Partition_B : Writing partition to file: F:\\Projects\\EMA\\Repository\\EMA EPI PoC\\function_code\\work\\H\\CAP\\GONAL-f\\de\\2021-06-07T06-58-30Z\\partitionedJSONs\\gonal-f_clean_ANHANG III.json | H | CAP |  de | Json | gonal-f_clean.json\n",
      "2021-06-07 23:17:20,315 : Partition_B : Writing partition to file: F:\\Projects\\EMA\\Repository\\EMA EPI PoC\\function_code\\work\\H\\CAP\\GONAL-f\\de\\2021-06-07T06-58-30Z\\partitionedJSONs\\gonal-f_clean_ PACKUNGSBEILAGE.json | H | CAP |  de | Json | gonal-f_clean.json\n",
      "2021-06-07 23:17:20,411 : Flow Logger HTML_a : ['gonal-f_clean_SmPC.json', 'gonal-f_clean_ANHANG II.json', 'gonal-f_clean_ANHANG III.json', 'gonal-f_clean_ PACKUNGSBEILAGE.json'] | H | CAP |  de | HTML | gonal-f_clean.htm\n",
      "2021-06-07 23:17:20,414 : Flow Logger HTML_a : Completed Json Split | H | CAP |  de | HTML | gonal-f_clean.htm\n",
      "2021-06-07 23:17:20,419 : Flow Logger HTML_a : Split Json,0.0502 Min,0.433464 MB,62.674322 MB,50.4%\n",
      " | H | CAP |  de | HTML | gonal-f_clean.htm\n",
      "2021-06-07 23:17:20,427 : Flow Logger HTML_a : Started Processing Partitioned Jsons | H | CAP |  de | HTML | gonal-f_clean.htm\n",
      "2021-06-07 23:17:20,432 : Flow Logger HTML_a : \n",
      "\n",
      "\n",
      "\n",
      "||||||||||||||||||||||||||||||||0 ||||| gonal-f_clean_SmPC.json||||||||||||||||||||||||||||||||\n",
      "\n",
      "\n",
      "\n",
      " | H | CAP |  de | HTML | gonal-f_clean.htm\n",
      "2021-06-07 23:17:20,442 : Heading Extraction gonal-f_clean_SmPC.json_v : Starting Heading Extraction | H | CAP |  de | 0 | gonal-f_clean_SmPC.json\n"
     ]
    },
    {
     "name": "stdout",
     "output_type": "stream",
     "text": [
      "Metrics : Split Json,0.0502 Min,0.433464 MB,62.674322 MB,50.4%\n",
      "\n",
      "Starting Heading Extraction For File :- gonal-f_clean_SmPC.json\n",
      "File being processed: F:\\Projects\\EMA\\Repository\\EMA EPI PoC\\function_code\\work\\H\\CAP\\GONAL-f\\de\\2021-06-07T06-58-30Z\\partitionedJSONs\\gonal-f_clean_SmPC.json\n",
      "--------------------------------------------\n",
      "SmPC\n"
     ]
    },
    {
     "name": "stderr",
     "output_type": "stream",
     "text": [
      "2021-06-07 23:17:22,083 : Heading Extraction gonal-f_clean_SmPC.json_v : Started Extracting Heading | H | CAP |  de | 0 | gonal-f_clean_SmPC.json\n",
      "2021-06-07 23:17:22,612 : Heading Extraction gonal-f_clean_SmPC.json_v : Match Passed | H | CAP |  de | 0 | gonal-f_clean_SmPC.json | Doc txt :- 'ZUSAMMENFASSUNG DER MERKMALE DES ARZNEIMITTELS' | Qrd txt :- 'ZUSAMMENFASSUNG DER MERKMALE DES ARZNEIMITTELS' | Matched :- 'True'\n",
      "2021-06-07 23:17:22,622 : Heading Extraction gonal-f_clean_SmPC.json_v : Validation Passed As This The First Heading | H | CAP |  de | 0 | gonal-f_clean_SmPC.json | currHeadId :- '12001' | prevHeadingCurrId :- '' | prevHeadingFoundId :- ''\n",
      "2021-06-07 23:17:22,703 : Heading Extraction gonal-f_clean_SmPC.json_v : Match Passed | H | CAP |  de | 0 | gonal-f_clean_SmPC.json | Doc txt :- '1. BEZEICHNUNG DES ARZNEIMITTELS' | Qrd txt :- '1. BEZEICHNUNG DES ARZNEIMITTELS' | Matched :- 'True'\n",
      "2021-06-07 23:17:22,720 : Heading Extraction gonal-f_clean_SmPC.json_v : Validation Flow Is Broken | H | CAP |  de | 0 | gonal-f_clean_SmPC.json | currHeadId :- '12003' | prevHeadingCurrId :- '' | prevHeadingFoundId :- '12001'\n",
      "2021-06-07 23:17:22,728 : Heading Extraction gonal-f_clean_SmPC.json_v : Validation Passed | H | CAP |  de | 0 | gonal-f_clean_SmPC.json | currHeadId :- '12003' | prevHeadingCurrId :- '12001' | prevHeadingFoundId :- '12001'\n",
      "2021-06-07 23:17:26,827 : Heading Extraction gonal-f_clean_SmPC.json_v : Match Passed | H | CAP |  de | 0 | gonal-f_clean_SmPC.json | Doc txt :- '2. QUALITATIVE UND QUANTITATIVE ZUSAMMENSETZUNG' | Qrd txt :- '2. QUALITATIVE UND QUANTITATIVE ZUSAMMENSETZUNG' | Matched :- 'True'\n",
      "2021-06-07 23:17:26,846 : Heading Extraction gonal-f_clean_SmPC.json_v : Validation Passed | H | CAP |  de | 0 | gonal-f_clean_SmPC.json | currHeadId :- '12004' | prevHeadingCurrId :- '12003' | prevHeadingFoundId :- '12003'\n",
      "2021-06-07 23:17:33,703 : Heading Extraction gonal-f_clean_SmPC.json_v : Match Passed | H | CAP |  de | 0 | gonal-f_clean_SmPC.json | Doc txt :- '3. DARREICHUNGSFORM' | Qrd txt :- '3. DARREICHUNGSFORM' | Matched :- 'True'\n",
      "2021-06-07 23:17:33,720 : Heading Extraction gonal-f_clean_SmPC.json_v : Validation Flow Is Broken | H | CAP |  de | 0 | gonal-f_clean_SmPC.json | currHeadId :- '12008' | prevHeadingCurrId :- '' | prevHeadingFoundId :- '12004'\n",
      "2021-06-07 23:17:33,733 : Heading Extraction gonal-f_clean_SmPC.json_v : Validation Passed | H | CAP |  de | 0 | gonal-f_clean_SmPC.json | currHeadId :- '12008' | prevHeadingCurrId :- '12004' | prevHeadingFoundId :- '12004'\n",
      "2021-06-07 23:17:37,025 : Heading Extraction gonal-f_clean_SmPC.json_v : Match Passed | H | CAP |  de | 0 | gonal-f_clean_SmPC.json | Doc txt :- '4. KLINISCHE ANGABEN' | Qrd txt :- '4. KLINISCHE ANGABEN' | Matched :- 'True'\n",
      "2021-06-07 23:17:37,042 : Heading Extraction gonal-f_clean_SmPC.json_v : Validation Passed | H | CAP |  de | 0 | gonal-f_clean_SmPC.json | currHeadId :- '12009' | prevHeadingCurrId :- '12008' | prevHeadingFoundId :- '12008'\n",
      "2021-06-07 23:17:37,193 : Heading Extraction gonal-f_clean_SmPC.json_v : Match Passed | H | CAP |  de | 0 | gonal-f_clean_SmPC.json | Doc txt :- '4.1 Anwendungsgebiete' | Qrd txt :- '4.1 Anwendungsgebiete' | Matched :- 'True'\n",
      "2021-06-07 23:17:37,208 : Heading Extraction gonal-f_clean_SmPC.json_v : Validation Passed | H | CAP |  de | 0 | gonal-f_clean_SmPC.json | currHeadId :- '12010' | prevHeadingCurrId :- '12009' | prevHeadingFoundId :- '12009'\n",
      "2021-06-07 23:17:39,921 : Heading Extraction gonal-f_clean_SmPC.json_v : Match Passed | H | CAP |  de | 0 | gonal-f_clean_SmPC.json | Doc txt :- '4.2 Dosierung und Art der Anwendung' | Qrd txt :- '4.2 Dosierung und Art der Anwendung' | Matched :- 'True'\n",
      "2021-06-07 23:17:39,944 : Heading Extraction gonal-f_clean_SmPC.json_v : Validation Passed | H | CAP |  de | 0 | gonal-f_clean_SmPC.json | currHeadId :- '12011' | prevHeadingCurrId :- '12010' | prevHeadingFoundId :- '12010'\n",
      "2021-06-07 23:17:40,731 : Heading Extraction gonal-f_clean_SmPC.json_v : Match Passed | H | CAP |  de | 0 | gonal-f_clean_SmPC.json | Doc txt :- 'Dosierung' | Qrd txt :- 'Dosierung' | Matched :- 'True'\n",
      "2021-06-07 23:17:40,762 : Heading Extraction gonal-f_clean_SmPC.json_v : Validation Failed As Current H3 Heading Is Not Part Of Valid H3 Headings in Previous H2 | H | CAP |  de | 0 | gonal-f_clean_SmPC.json | currHeadId :- '12012' | prevHeadingCurrId :- '12011' | prevHeadingFoundId :- '12011'\n",
      "2021-06-07 23:17:55,198 : Heading Extraction gonal-f_clean_SmPC.json_v : Match Passed | H | CAP |  de | 0 | gonal-f_clean_SmPC.json | Doc txt :- 'Kinder und Jugendliche' | Qrd txt :- 'Kinder und Jugendliche' | Matched :- 'True'\n",
      "2021-06-07 23:17:55,215 : Heading Extraction gonal-f_clean_SmPC.json_v : Validation Flow Is Broken | H | CAP |  de | 0 | gonal-f_clean_SmPC.json | currHeadId :- '12013' | prevHeadingCurrId :- '' | prevHeadingFoundId :- '12011'\n",
      "2021-06-07 23:17:55,238 : Heading Extraction gonal-f_clean_SmPC.json_v : Validation Failed As Current H3 Heading Is Not Part Of Valid H3 Headings in Previous H2 | H | CAP |  de | 0 | gonal-f_clean_SmPC.json | currHeadId :- '12013' | prevHeadingCurrId :- '12011' | prevHeadingFoundId :- '12011'\n",
      "2021-06-07 23:17:55,296 : Heading Extraction gonal-f_clean_SmPC.json_v : Match Passed | H | CAP |  de | 0 | gonal-f_clean_SmPC.json | Doc txt :- 'Kinder und Jugendliche' | Qrd txt :- 'Kinder und Jugendliche' | Matched :- 'True'\n",
      "2021-06-07 23:17:55,311 : Heading Extraction gonal-f_clean_SmPC.json_v : Validation Flow Is Broken | H | CAP |  de | 0 | gonal-f_clean_SmPC.json | currHeadId :- '12019' | prevHeadingCurrId :- '' | prevHeadingFoundId :- '12011'\n",
      "2021-06-07 23:17:55,331 : Heading Extraction gonal-f_clean_SmPC.json_v : Validation Failed As Current H3 Heading Is Not Part Of Valid H3 Headings in Previous H2 | H | CAP |  de | 0 | gonal-f_clean_SmPC.json | currHeadId :- '12019' | prevHeadingCurrId :- '12011' | prevHeadingFoundId :- '12011'\n",
      "2021-06-07 23:17:55,362 : Heading Extraction gonal-f_clean_SmPC.json_v : Match Passed | H | CAP |  de | 0 | gonal-f_clean_SmPC.json | Doc txt :- 'Kinder und Jugendliche' | Qrd txt :- 'Kinder und Jugendliche' | Matched :- 'True'\n",
      "2021-06-07 23:17:55,383 : Heading Extraction gonal-f_clean_SmPC.json_v : Validation Flow Is Broken | H | CAP |  de | 0 | gonal-f_clean_SmPC.json | currHeadId :- '12021' | prevHeadingCurrId :- '' | prevHeadingFoundId :- '12011'\n",
      "2021-06-07 23:17:55,404 : Heading Extraction gonal-f_clean_SmPC.json_v : Validation Failed As Current H3 Heading Is Not Part Of Valid H3 Headings in Previous H2 | H | CAP |  de | 0 | gonal-f_clean_SmPC.json | currHeadId :- '12021' | prevHeadingCurrId :- '12011' | prevHeadingFoundId :- '12011'\n",
      "2021-06-07 23:17:55,478 : Heading Extraction gonal-f_clean_SmPC.json_v : Match Passed | H | CAP |  de | 0 | gonal-f_clean_SmPC.json | Doc txt :- 'Kinder und Jugendliche' | Qrd txt :- 'Kinder und Jugendliche' | Matched :- 'True'\n",
      "2021-06-07 23:17:55,495 : Heading Extraction gonal-f_clean_SmPC.json_v : Validation Flow Is Broken | H | CAP |  de | 0 | gonal-f_clean_SmPC.json | currHeadId :- '12028' | prevHeadingCurrId :- '' | prevHeadingFoundId :- '12011'\n",
      "2021-06-07 23:17:55,512 : Heading Extraction gonal-f_clean_SmPC.json_v : Validation Failed As Current H3 Heading Is Not Part Of Valid H3 Headings in Previous H2 | H | CAP |  de | 0 | gonal-f_clean_SmPC.json | currHeadId :- '12028' | prevHeadingCurrId :- '12011' | prevHeadingFoundId :- '12011'\n",
      "2021-06-07 23:17:55,548 : Heading Extraction gonal-f_clean_SmPC.json_v : Match Passed | H | CAP |  de | 0 | gonal-f_clean_SmPC.json | Doc txt :- 'Kinder und Jugendliche' | Qrd txt :- 'Kinder und Jugendliche' | Matched :- 'True'\n",
      "2021-06-07 23:17:55,570 : Heading Extraction gonal-f_clean_SmPC.json_v : Validation Flow Is Broken | H | CAP |  de | 0 | gonal-f_clean_SmPC.json | currHeadId :- '12031' | prevHeadingCurrId :- '' | prevHeadingFoundId :- '12011'\n",
      "2021-06-07 23:17:55,589 : Heading Extraction gonal-f_clean_SmPC.json_v : Validation Failed As Current H3 Heading Is Not Part Of Valid H3 Headings in Previous H2 | H | CAP |  de | 0 | gonal-f_clean_SmPC.json | currHeadId :- '12031' | prevHeadingCurrId :- '12011' | prevHeadingFoundId :- '12011'\n",
      "2021-06-07 23:17:55,673 : Heading Extraction gonal-f_clean_SmPC.json_v : Match Passed | H | CAP |  de | 0 | gonal-f_clean_SmPC.json | Doc txt :- 'Kinder und Jugendliche' | Qrd txt :- 'Kinder und Jugendliche' | Matched :- 'True'\n"
     ]
    },
    {
     "name": "stderr",
     "output_type": "stream",
     "text": [
      "2021-06-07 23:17:55,698 : Heading Extraction gonal-f_clean_SmPC.json_v : Validation Flow Is Broken | H | CAP |  de | 0 | gonal-f_clean_SmPC.json | currHeadId :- '12037' | prevHeadingCurrId :- '' | prevHeadingFoundId :- '12011'\n",
      "2021-06-07 23:17:55,722 : Heading Extraction gonal-f_clean_SmPC.json_v : Validation Failed As Current H3 Heading Is Not Part Of Valid H3 Headings in Previous H2 | H | CAP |  de | 0 | gonal-f_clean_SmPC.json | currHeadId :- '12037' | prevHeadingCurrId :- '12011' | prevHeadingFoundId :- '12011'\n",
      "2021-06-07 23:17:56,873 : Heading Extraction gonal-f_clean_SmPC.json_v : Match Passed | H | CAP |  de | 0 | gonal-f_clean_SmPC.json | Doc txt :- 'Art der Anwendung' | Qrd txt :- 'Art der Anwendung' | Matched :- 'True'\n",
      "2021-06-07 23:17:56,892 : Heading Extraction gonal-f_clean_SmPC.json_v : Validation Flow Is Broken | H | CAP |  de | 0 | gonal-f_clean_SmPC.json | currHeadId :- '12014' | prevHeadingCurrId :- '' | prevHeadingFoundId :- '12011'\n",
      "2021-06-07 23:17:56,912 : Heading Extraction gonal-f_clean_SmPC.json_v : Validation Failed As Current H3 Heading Is Not Part Of Valid H3 Headings in Previous H2 | H | CAP |  de | 0 | gonal-f_clean_SmPC.json | currHeadId :- '12014' | prevHeadingCurrId :- '12011' | prevHeadingFoundId :- '12011'\n",
      "2021-06-07 23:18:03,379 : Heading Extraction gonal-f_clean_SmPC.json_v : Match Passed | H | CAP |  de | 0 | gonal-f_clean_SmPC.json | Doc txt :- '4.3 Gegenanzeigen' | Qrd txt :- '4.3 Gegenanzeigen' | Matched :- 'True'\n",
      "2021-06-07 23:18:03,399 : Heading Extraction gonal-f_clean_SmPC.json_v : Validation Flow Is Broken | H | CAP |  de | 0 | gonal-f_clean_SmPC.json | currHeadId :- '12016' | prevHeadingCurrId :- '' | prevHeadingFoundId :- '12011'\n",
      "2021-06-07 23:18:03,418 : Heading Extraction gonal-f_clean_SmPC.json_v : Validation Passed | H | CAP |  de | 0 | gonal-f_clean_SmPC.json | currHeadId :- '12016' | prevHeadingCurrId :- '12011' | prevHeadingFoundId :- '12011'\n",
      "2021-06-07 23:18:10,667 : Heading Extraction gonal-f_clean_SmPC.json_v : Match Passed | H | CAP |  de | 0 | gonal-f_clean_SmPC.json | Doc txt :- '4.4 Besondere Warnhinweise und Vorsichtsmaßnahmen für die Anwendung' | Qrd txt :- '4.4 Besondere Warnhinweise und Vorsichtsmaßnahmen für die Anwendung' | Matched :- 'True'\n",
      "2021-06-07 23:18:10,695 : Heading Extraction gonal-f_clean_SmPC.json_v : Validation Passed | H | CAP |  de | 0 | gonal-f_clean_SmPC.json | currHeadId :- '12017' | prevHeadingCurrId :- '12016' | prevHeadingFoundId :- '12016'\n",
      "2021-06-07 23:18:10,997 : Heading Extraction gonal-f_clean_SmPC.json_v : Match Passed | H | CAP |  de | 0 | gonal-f_clean_SmPC.json | Doc txt :- 'Rückverfolgbarkeit' | Qrd txt :- 'Rückverfolgbarkeit' | Matched :- 'True'\n",
      "2021-06-07 23:18:11,039 : Heading Extraction gonal-f_clean_SmPC.json_v : Validation Failed As Current H3 Heading Is Not Part Of Valid H3 Headings in Previous H2 | H | CAP |  de | 0 | gonal-f_clean_SmPC.json | currHeadId :- '12018' | prevHeadingCurrId :- '12017' | prevHeadingFoundId :- '12017'\n",
      "2021-06-07 23:18:29,916 : Heading Extraction gonal-f_clean_SmPC.json_v : Match Passed | H | CAP |  de | 0 | gonal-f_clean_SmPC.json | Doc txt :- '4.5 Wechselwirkungen mit anderen Arzneimitteln und sonstige Wechselwirkungen' | Qrd txt :- '4.5 Wechselwirkungen mit anderen Arzneimitteln und sonstige Wechselwirkungen' | Matched :- 'True'\n",
      "2021-06-07 23:18:29,940 : Heading Extraction gonal-f_clean_SmPC.json_v : Validation Flow Is Broken | H | CAP |  de | 0 | gonal-f_clean_SmPC.json | currHeadId :- '12020' | prevHeadingCurrId :- '' | prevHeadingFoundId :- '12017'\n",
      "2021-06-07 23:18:29,960 : Heading Extraction gonal-f_clean_SmPC.json_v : Validation Passed | H | CAP |  de | 0 | gonal-f_clean_SmPC.json | currHeadId :- '12020' | prevHeadingCurrId :- '12017' | prevHeadingFoundId :- '12017'\n",
      "2021-06-07 23:18:30,379 : Heading Extraction gonal-f_clean_SmPC.json_v : Match Passed | H | CAP |  de | 0 | gonal-f_clean_SmPC.json | Doc txt :- '4.6 Fertilität, Schwangerschaft und Stillzeit' | Qrd txt :- '4.6 Fertilität, Schwangerschaft und Stillzeit' | Matched :- 'True'\n",
      "2021-06-07 23:18:30,406 : Heading Extraction gonal-f_clean_SmPC.json_v : Validation Flow Is Broken | H | CAP |  de | 0 | gonal-f_clean_SmPC.json | currHeadId :- '12022' | prevHeadingCurrId :- '' | prevHeadingFoundId :- '12020'\n",
      "2021-06-07 23:18:30,419 : Heading Extraction gonal-f_clean_SmPC.json_v : Validation Passed | H | CAP |  de | 0 | gonal-f_clean_SmPC.json | currHeadId :- '12022' | prevHeadingCurrId :- '12020' | prevHeadingFoundId :- '12020'\n",
      "2021-06-07 23:18:30,736 : Heading Extraction gonal-f_clean_SmPC.json_v : Match Passed | H | CAP |  de | 0 | gonal-f_clean_SmPC.json | Doc txt :- 'Schwangerschaft' | Qrd txt :- 'Schwangerschaft' | Matched :- 'True'\n",
      "2021-06-07 23:18:30,772 : Heading Extraction gonal-f_clean_SmPC.json_v : Validation Failed As Current H3 Heading Is Not Part Of Valid H3 Headings in Previous H2 | H | CAP |  de | 0 | gonal-f_clean_SmPC.json | currHeadId :- '12023' | prevHeadingCurrId :- '12022' | prevHeadingFoundId :- '12022'\n",
      "2021-06-07 23:18:33,395 : Heading Extraction gonal-f_clean_SmPC.json_v : Match Passed | H | CAP |  de | 0 | gonal-f_clean_SmPC.json | Doc txt :- 'Stillzeit' | Qrd txt :- 'Stillzeit' | Matched :- 'True'\n",
      "2021-06-07 23:18:33,422 : Heading Extraction gonal-f_clean_SmPC.json_v : Validation Flow Is Broken | H | CAP |  de | 0 | gonal-f_clean_SmPC.json | currHeadId :- '12024' | prevHeadingCurrId :- '' | prevHeadingFoundId :- '12022'\n",
      "2021-06-07 23:18:33,446 : Heading Extraction gonal-f_clean_SmPC.json_v : Validation Failed As Current H3 Heading Is Not Part Of Valid H3 Headings in Previous H2 | H | CAP |  de | 0 | gonal-f_clean_SmPC.json | currHeadId :- '12024' | prevHeadingCurrId :- '12022' | prevHeadingFoundId :- '12022'\n",
      "2021-06-07 23:18:34,716 : Heading Extraction gonal-f_clean_SmPC.json_v : Match Passed | H | CAP |  de | 0 | gonal-f_clean_SmPC.json | Doc txt :- 'Fertilität' | Qrd txt :- 'Fertilität' | Matched :- 'True'\n",
      "2021-06-07 23:18:34,733 : Heading Extraction gonal-f_clean_SmPC.json_v : Validation Flow Is Broken | H | CAP |  de | 0 | gonal-f_clean_SmPC.json | currHeadId :- '12025' | prevHeadingCurrId :- '' | prevHeadingFoundId :- '12022'\n",
      "2021-06-07 23:18:34,754 : Heading Extraction gonal-f_clean_SmPC.json_v : Validation Failed As Current H3 Heading Is Not Part Of Valid H3 Headings in Previous H2 | H | CAP |  de | 0 | gonal-f_clean_SmPC.json | currHeadId :- '12025' | prevHeadingCurrId :- '12022' | prevHeadingFoundId :- '12022'\n",
      "2021-06-07 23:18:36,074 : Heading Extraction gonal-f_clean_SmPC.json_v : Match Passed | H | CAP |  de | 0 | gonal-f_clean_SmPC.json | Doc txt :- '4.7 Auswirkungen auf die Verkehrstüchtigkeit und die Fähigkeit zum Bedienen von Maschinen' | Qrd txt :- '4.7 Auswirkungen auf die Verkehrstüchtigkeit und die Fähigkeit zum Bedienen von Maschinen' | Matched :- 'True'\n",
      "2021-06-07 23:18:36,098 : Heading Extraction gonal-f_clean_SmPC.json_v : Validation Flow Is Broken | H | CAP |  de | 0 | gonal-f_clean_SmPC.json | currHeadId :- '12026' | prevHeadingCurrId :- '' | prevHeadingFoundId :- '12022'\n",
      "2021-06-07 23:18:36,113 : Heading Extraction gonal-f_clean_SmPC.json_v : Validation Passed | H | CAP |  de | 0 | gonal-f_clean_SmPC.json | currHeadId :- '12026' | prevHeadingCurrId :- '12022' | prevHeadingFoundId :- '12022'\n",
      "2021-06-07 23:18:37,136 : Heading Extraction gonal-f_clean_SmPC.json_v : Match Passed | H | CAP |  de | 0 | gonal-f_clean_SmPC.json | Doc txt :- '4.8 Nebenwirkungen' | Qrd txt :- '4.8 Nebenwirkungen' | Matched :- 'True'\n",
      "2021-06-07 23:18:37,169 : Heading Extraction gonal-f_clean_SmPC.json_v : Validation Passed | H | CAP |  de | 0 | gonal-f_clean_SmPC.json | currHeadId :- '12027' | prevHeadingCurrId :- '12026' | prevHeadingFoundId :- '12026'\n",
      "2021-06-07 23:19:14,032 : Heading Extraction gonal-f_clean_SmPC.json_v : Match Passed | H | CAP |  de | 0 | gonal-f_clean_SmPC.json | Doc txt :- 'Meldung des Verdachts auf Nebenwirkungen' | Qrd txt :- 'Meldung des Verdachts auf Nebenwirkungen' | Matched :- 'True'\n",
      "2021-06-07 23:19:14,051 : Heading Extraction gonal-f_clean_SmPC.json_v : Validation Flow Is Broken | H | CAP |  de | 0 | gonal-f_clean_SmPC.json | currHeadId :- '12029' | prevHeadingCurrId :- '' | prevHeadingFoundId :- '12027'\n"
     ]
    },
    {
     "name": "stderr",
     "output_type": "stream",
     "text": [
      "2021-06-07 23:19:14,073 : Heading Extraction gonal-f_clean_SmPC.json_v : Validation Failed As Current H3 Heading Is Not Part Of Valid H3 Headings in Previous H2 | H | CAP |  de | 0 | gonal-f_clean_SmPC.json | currHeadId :- '12029' | prevHeadingCurrId :- '12027' | prevHeadingFoundId :- '12027'\n",
      "2021-06-07 23:19:15,026 : Heading Extraction gonal-f_clean_SmPC.json_v : Match Passed | H | CAP |  de | 0 | gonal-f_clean_SmPC.json | Doc txt :- '4.9 Überdosierung' | Qrd txt :- '4.9 Überdosierung' | Matched :- 'True'\n",
      "2021-06-07 23:19:15,049 : Heading Extraction gonal-f_clean_SmPC.json_v : Validation Flow Is Broken | H | CAP |  de | 0 | gonal-f_clean_SmPC.json | currHeadId :- '12030' | prevHeadingCurrId :- '' | prevHeadingFoundId :- '12027'\n",
      "2021-06-07 23:19:15,065 : Heading Extraction gonal-f_clean_SmPC.json_v : Validation Passed | H | CAP |  de | 0 | gonal-f_clean_SmPC.json | currHeadId :- '12030' | prevHeadingCurrId :- '12027' | prevHeadingFoundId :- '12027'\n",
      "2021-06-07 23:19:16,270 : Heading Extraction gonal-f_clean_SmPC.json_v : Match Passed | H | CAP |  de | 0 | gonal-f_clean_SmPC.json | Doc txt :- '5. PHARMAKOLOGISCHE EIGENSCHAFTEN' | Qrd txt :- '5. PHARMAKOLOGISCHE EIGENSCHAFTEN' | Matched :- 'True'\n",
      "2021-06-07 23:19:16,300 : Heading Extraction gonal-f_clean_SmPC.json_v : Validation Flow Is Broken | H | CAP |  de | 0 | gonal-f_clean_SmPC.json | currHeadId :- '12032' | prevHeadingCurrId :- '' | prevHeadingFoundId :- '12030'\n",
      "2021-06-07 23:19:16,314 : Heading Extraction gonal-f_clean_SmPC.json_v : Validation Passed | H | CAP |  de | 0 | gonal-f_clean_SmPC.json | currHeadId :- '12032' | prevHeadingCurrId :- '12030' | prevHeadingFoundId :- '12030'\n",
      "2021-06-07 23:19:16,922 : Heading Extraction gonal-f_clean_SmPC.json_v : Match Passed | H | CAP |  de | 0 | gonal-f_clean_SmPC.json | Doc txt :- '5.1 Pharmakodynamische Eigenschaften' | Qrd txt :- '5.1 Pharmakodynamische Eigenschaften' | Matched :- 'True'\n",
      "2021-06-07 23:19:16,937 : Heading Extraction gonal-f_clean_SmPC.json_v : Validation Passed | H | CAP |  de | 0 | gonal-f_clean_SmPC.json | currHeadId :- '12033' | prevHeadingCurrId :- '12032' | prevHeadingFoundId :- '12032'\n",
      " Wirksamkeit und Sicherheit bei Frauen' | Qrd txt :- 'Klinische Wirksamkeit und Sicherheit' | Matched :- 'True'0.972| | H | CAP |  de | 0 | gonal-f_clean_SmPC.json | Doc txt :- 'Klinische\n",
      "2021-06-07 23:19:18,317 : Heading Extraction gonal-f_clean_SmPC.json_v : Validation Flow Is Broken | H | CAP |  de | 0 | gonal-f_clean_SmPC.json | currHeadId :- '12036' | prevHeadingCurrId :- '' | prevHeadingFoundId :- '12033'\n",
      "2021-06-07 23:19:18,336 : Heading Extraction gonal-f_clean_SmPC.json_v : Validation Failed As Current H3 Heading Is Not Part Of Valid H3 Headings in Previous H2 | H | CAP |  de | 0 | gonal-f_clean_SmPC.json | currHeadId :- '12036' | prevHeadingCurrId :- '12033' | prevHeadingFoundId :- '12033'\n",
      " Wirksamkeit und Sicherheit bei Männern' | Qrd txt :- 'Klinische Wirksamkeit und Sicherheit' | Matched :- 'True'.97| | H | CAP |  de | 0 | gonal-f_clean_SmPC.json | Doc txt :- 'Klinische\n",
      "2021-06-07 23:19:21,080 : Heading Extraction gonal-f_clean_SmPC.json_v : Validation Flow Is Broken | H | CAP |  de | 0 | gonal-f_clean_SmPC.json | currHeadId :- '12036' | prevHeadingCurrId :- '' | prevHeadingFoundId :- '12033'\n",
      "2021-06-07 23:19:21,105 : Heading Extraction gonal-f_clean_SmPC.json_v : Validation Failed As Current H3 Heading Is Not Part Of Valid H3 Headings in Previous H2 | H | CAP |  de | 0 | gonal-f_clean_SmPC.json | currHeadId :- '12036' | prevHeadingCurrId :- '12033' | prevHeadingFoundId :- '12033'\n",
      "2021-06-07 23:19:23,199 : Heading Extraction gonal-f_clean_SmPC.json_v : Match Passed | H | CAP |  de | 0 | gonal-f_clean_SmPC.json | Doc txt :- '5.2 Pharmakokinetische Eigenschaften' | Qrd txt :- '5.2 Pharmakokinetische Eigenschaften' | Matched :- 'True'\n",
      "2021-06-07 23:19:23,221 : Heading Extraction gonal-f_clean_SmPC.json_v : Validation Flow Is Broken | H | CAP |  de | 0 | gonal-f_clean_SmPC.json | currHeadId :- '12038' | prevHeadingCurrId :- '' | prevHeadingFoundId :- '12033'\n",
      "2021-06-07 23:19:23,240 : Heading Extraction gonal-f_clean_SmPC.json_v : Validation Passed | H | CAP |  de | 0 | gonal-f_clean_SmPC.json | currHeadId :- '12038' | prevHeadingCurrId :- '12033' | prevHeadingFoundId :- '12033'\n",
      "2021-06-07 23:19:24,040 : Heading Extraction gonal-f_clean_SmPC.json_v : Match Passed | H | CAP |  de | 0 | gonal-f_clean_SmPC.json | Doc txt :- '5.3 Präklinische Daten zur Sicherheit' | Qrd txt :- '5.3 Präklinische Daten zur Sicherheit' | Matched :- 'True'\n",
      "2021-06-07 23:19:24,068 : Heading Extraction gonal-f_clean_SmPC.json_v : Validation Flow Is Broken | H | CAP |  de | 0 | gonal-f_clean_SmPC.json | currHeadId :- '12045' | prevHeadingCurrId :- '' | prevHeadingFoundId :- '12038'\n",
      "2021-06-07 23:19:24,085 : Heading Extraction gonal-f_clean_SmPC.json_v : Validation Passed | H | CAP |  de | 0 | gonal-f_clean_SmPC.json | currHeadId :- '12045' | prevHeadingCurrId :- '12038' | prevHeadingFoundId :- '12038'\n",
      "2021-06-07 23:19:26,135 : Heading Extraction gonal-f_clean_SmPC.json_v : Match Passed | H | CAP |  de | 0 | gonal-f_clean_SmPC.json | Doc txt :- '6. PHARMAZEUTISCHE ANGABEN' | Qrd txt :- '6. PHARMAZEUTISCHE ANGABEN' | Matched :- 'True'\n",
      "2021-06-07 23:19:26,161 : Heading Extraction gonal-f_clean_SmPC.json_v : Validation Flow Is Broken | H | CAP |  de | 0 | gonal-f_clean_SmPC.json | currHeadId :- '12047' | prevHeadingCurrId :- '' | prevHeadingFoundId :- '12045'\n",
      "2021-06-07 23:19:26,177 : Heading Extraction gonal-f_clean_SmPC.json_v : Validation Passed | H | CAP |  de | 0 | gonal-f_clean_SmPC.json | currHeadId :- '12047' | prevHeadingCurrId :- '12045' | prevHeadingFoundId :- '12045'\n",
      "2021-06-07 23:19:27,078 : Heading Extraction gonal-f_clean_SmPC.json_v : Match Passed | H | CAP |  de | 0 | gonal-f_clean_SmPC.json | Doc txt :- '6.1 Liste der sonstigen Bestandteile' | Qrd txt :- '6.1 Liste der sonstigen Bestandteile' | Matched :- 'True'\n",
      "2021-06-07 23:19:27,105 : Heading Extraction gonal-f_clean_SmPC.json_v : Validation Passed | H | CAP |  de | 0 | gonal-f_clean_SmPC.json | currHeadId :- '12048' | prevHeadingCurrId :- '12047' | prevHeadingFoundId :- '12047'\n",
      "2021-06-07 23:19:40,092 : Heading Extraction gonal-f_clean_SmPC.json_v : Match Passed | H | CAP |  de | 0 | gonal-f_clean_SmPC.json | Doc txt :- '6.2 Inkompatibilitäten' | Qrd txt :- '6.2 Inkompatibilitäten' | Matched :- 'True'\n",
      "2021-06-07 23:19:40,112 : Heading Extraction gonal-f_clean_SmPC.json_v : Validation Passed | H | CAP |  de | 0 | gonal-f_clean_SmPC.json | currHeadId :- '12049' | prevHeadingCurrId :- '12048' | prevHeadingFoundId :- '12048'\n",
      "2021-06-07 23:19:42,983 : Heading Extraction gonal-f_clean_SmPC.json_v : Match Passed | H | CAP |  de | 0 | gonal-f_clean_SmPC.json | Doc txt :- '6.3 Dauer der Haltbarkeit' | Qrd txt :- '6.3 Dauer der Haltbarkeit' | Matched :- 'True'\n",
      "2021-06-07 23:19:42,996 : Heading Extraction gonal-f_clean_SmPC.json_v : Validation Passed | H | CAP |  de | 0 | gonal-f_clean_SmPC.json | currHeadId :- '12050' | prevHeadingCurrId :- '12049' | prevHeadingFoundId :- '12049'\n",
      "2021-06-07 23:19:46,869 : Heading Extraction gonal-f_clean_SmPC.json_v : Match Passed | H | CAP |  de | 0 | gonal-f_clean_SmPC.json | Doc txt :- '6.4 Besondere Vorsichtsmaßnahmen für die Aufbewahrung' | Qrd txt :- '6.4 Besondere Vorsichtsmaßnahmen für die Aufbewahrung' | Matched :- 'True'\n",
      "2021-06-07 23:19:46,892 : Heading Extraction gonal-f_clean_SmPC.json_v : Validation Passed | H | CAP |  de | 0 | gonal-f_clean_SmPC.json | currHeadId :- '12051' | prevHeadingCurrId :- '12050' | prevHeadingFoundId :- '12050'\n",
      " und Inhalt des Behältnisses' | Qrd txt :- '6.5 Art und Inhalt des Behältnisses <und spezielles Zubehör für den Gebrauch, die Anwendung oder die Implantation>' | Matched :- 'True'txt :- '6.5     Art\n",
      "2021-06-07 23:19:52,979 : Heading Extraction gonal-f_clean_SmPC.json_v : Validation Passed | H | CAP |  de | 0 | gonal-f_clean_SmPC.json | currHeadId :- '12052' | prevHeadingCurrId :- '12051' | prevHeadingFoundId :- '12051'\n",
      " Beseitigung und sonstige Hinweise zur Handhabung' | Qrd txt :- '6.6 Besondere Vorsichtsmaßnahmen für die Beseitigung <und sonstige Hinweise zur Handhabung>' | Matched :- 'True' txt :- '6.6     Besondere Vorsichtsmaßnahmen für die\n"
     ]
    },
    {
     "name": "stderr",
     "output_type": "stream",
     "text": [
      "2021-06-07 23:19:58,142 : Heading Extraction gonal-f_clean_SmPC.json_v : Validation Passed | H | CAP |  de | 0 | gonal-f_clean_SmPC.json | currHeadId :- '12053' | prevHeadingCurrId :- '12052' | prevHeadingFoundId :- '12052'\n",
      "2021-06-07 23:20:06,280 : Heading Extraction gonal-f_clean_SmPC.json_v : Match Passed | H | CAP |  de | 0 | gonal-f_clean_SmPC.json | Doc txt :- '7. INHABER DER ZULASSUNG' | Qrd txt :- '7. INHABER DER ZULASSUNG' | Matched :- 'True'\n",
      "2021-06-07 23:20:06,302 : Heading Extraction gonal-f_clean_SmPC.json_v : Validation Flow Is Broken | H | CAP |  de | 0 | gonal-f_clean_SmPC.json | currHeadId :- '12055' | prevHeadingCurrId :- '' | prevHeadingFoundId :- '12053'\n",
      "2021-06-07 23:20:06,317 : Heading Extraction gonal-f_clean_SmPC.json_v : Validation Passed | H | CAP |  de | 0 | gonal-f_clean_SmPC.json | currHeadId :- '12055' | prevHeadingCurrId :- '12053' | prevHeadingFoundId :- '12053'\n",
      "2021-06-07 23:20:09,671 : Heading Extraction gonal-f_clean_SmPC.json_v : Match Passed : <=4|10.0|(95, 95, 98)|0.989| | H | CAP |  de | 0 | gonal-f_clean_SmPC.json | Doc txt :- '8.       ZULASSUNGSNUMMERN' | Qrd txt :- '8. ZULASSUNGSNUMMER(N)' | Matched :- 'True'\n",
      "2021-06-07 23:20:09,686 : Heading Extraction gonal-f_clean_SmPC.json_v : Validation Passed | H | CAP |  de | 0 | gonal-f_clean_SmPC.json | currHeadId :- '12056' | prevHeadingCurrId :- '12055' | prevHeadingFoundId :- '12055'\n",
      "Transient server side error 500: <!DOCTYPE html PUBLIC \"-//W3C//DTD XHTML 1.0 Strict//EN\" \"http://www.w3.org/TR/xhtml1/DTD/xhtml1-strict.dtd\"> \n",
      "<html xmlns=\"http://www.w3.org/1999/xhtml\"> \n",
      "<head> \n",
      "<title>IIS 10.0 Detailed Error - 500.1013 - Internal Server Error</title> \n",
      "<style type=\"text/css\"> \n",
      "<!-- \n",
      "body{margin:0;font-size:.7em;font-family:Verdana,Arial,Helvetica,sans-serif;} \n",
      "code{margin:0;color:#006600;font-size:1.1em;font-weight:bold;} \n",
      ".config_source code{font-size:.8em;color:#000000;} \n",
      "pre{margin:0;font-size:1.4em;word-wrap:break-word;} \n",
      "ul,ol{margin:10px 0 10px 5px;} \n",
      "ul.first,ol.first{margin-top:5px;} \n",
      "fieldset{padding:0 15px 10px 15px;word-break:break-all;} \n",
      ".summary-container fieldset{padding-bottom:5px;margin-top:4px;} \n",
      "legend.no-expand-all{padding:2px 15px 4px 10px;margin:0 0 0 -12px;} \n",
      "legend{color:#333333;;margin:4px 0 8px -12px;_margin-top:0px; \n",
      "font-weight:bold;font-size:1em;} \n",
      "a:link,a:visited{color:#007EFF;font-weight:bold;} \n",
      "a:hover{text-decoration:none;} \n",
      "h1{font-size:2.4em;margin:0;color:#FFF;} \n",
      "h2{font-size:1.7em;margin:0;color:#CC0000;} \n",
      "h3{font-size:1.4em;margin:10px 0 0 0;color:#CC0000;} \n",
      "h4{font-size:1.2em;margin:10px 0 5px 0; \n",
      "}#header{width:96%;margin:0 0 0 0;padding:6px 2% 6px 2%;font-family:\"trebuchet MS\",Verdana,sans-serif; \n",
      " color:#FFF;background-color:#5C87B2; \n",
      "}#content{margin:0 0 0 2%;position:relative;} \n",
      ".summary-container,.content-container{background:#FFF;width:96%;margin-top:8px;padding:10px;position:relative;} \n",
      ".content-container p{margin:0 0 10px 0; \n",
      "}#details-left{width:35%;float:left;margin-right:2%; \n",
      "}#details-right{width:63%;float:left;overflow:hidden; \n",
      "}#server_version{width:96%;_height:1px;min-height:1px;margin:0 0 5px 0;padding:11px 2% 8px 2%;color:#FFFFFF; \n",
      " background-color:#5A7FA5;border-bottom:1px solid #C1CFDD;border-top:1px solid #4A6C8E;font-weight:normal; \n",
      " font-size:1em;color:#FFF;text-align:right; \n",
      "}#server_version p{margin:5px 0;} \n",
      "table{margin:4px 0 4px 0;width:100%;border:none;} \n",
      "td,th{vertical-align:top;padding:3px 0;text-align:left;font-weight:normal;border:none;} \n",
      "th{width:30%;text-align:right;padding-right:2%;font-weight:bold;} \n",
      "thead th{background-color:#ebebeb;width:25%; \n",
      "}#details-right th{width:20%;} \n",
      "table tr.alt td,table tr.alt th{} \n",
      ".highlight-code{color:#CC0000;font-weight:bold;font-style:italic;} \n",
      ".clear{clear:both;} \n",
      ".preferred{padding:0 5px 2px 5px;font-weight:normal;background:#006633;color:#FFF;font-size:.8em;} \n",
      "--> \n",
      "</style> \n",
      " \n",
      "</head> \n",
      "<body> \n",
      "<div id=\"content\"> \n",
      "<div class=\"content-container\"> \n",
      "  <h3>HTTP Error 500.1013 - Internal Server Error</h3> \n",
      "  <h4>The page cannot be displayed because an internal server error has occurred.</h4> \n",
      "</div> \n",
      "<div class=\"content-container\"> \n",
      " <fieldset><h4>Most likely causes:</h4> \n",
      "  <ul> \t<li>IIS received the request; however, an internal error occurred during the processing of the request. The root cause of this error depends on which module handles the request and what was happening in the worker process when this error occurred.</li> \t<li>IIS was not able to access the web.config file for the Web site or application. This can occur if the NTFS permissions are set incorrectly.</li> \t<li>IIS was not able to process configuration for the Web site or application.</li> \t<li>The authenticated user does not have permission to use this DLL.</li> \t<li>The request is mapped to a managed handler but the .NET Extensibility Feature is not installed.</li> </ul> \n",
      " </fieldset> \n",
      "</div> \n",
      "<div class=\"content-container\"> \n",
      " <fieldset><h4>Things you can try:</h4> \n",
      "  <ul> \t<li>Ensure that the NTFS permissions for the web.config file are correct and allow access to the Web server's machine account.</li> \t<li>Check the event logs to see if any additional information was logged.</li> \t<li>Verify the permissions for the DLL.</li> \t<li>Install the .NET Extensibility feature if the request is mapped to a managed handler.</li> \t<li>Create a tracing rule to track failed requests for this HTTP status code. For more information about creating a tracing rule for failed requests, click <a href=\"http://go.microsoft.com/fwlink/?LinkID=66439\">here</a>. </li> </ul> \n",
      " </fieldset> \n",
      "</div> \n",
      " \n",
      "<div class=\"content-container\"> \n",
      " <fieldset><h4>Detailed Error Information:</h4> \n",
      "  <div id=\"details-left\"> \n",
      "   <table border=\"0\" cellpadding=\"0\" cellspacing=\"0\"> \n",
      "    <tr class=\"alt\"><th>Module</th><td>&nbsp;&nbsp;&nbsp;iisnode</td></tr> \n",
      "    <tr><th>Notification</th><td>&nbsp;&nbsp;&nbsp;ExecuteRequestHandler</td></tr> \n",
      "    <tr class=\"alt\"><th>Handler</th><td>&nbsp;&nbsp;&nbsp;iisnode</td></tr> \n",
      "    <tr><th>Error Code</th><td>&nbsp;&nbsp;&nbsp;0x0000006d</td></tr> \n",
      "     \n",
      "   </table> \n",
      "  </div> \n",
      "  <div id=\"details-right\"> \n",
      "   <table border=\"0\" cellpadding=\"0\" cellspacing=\"0\"> \n",
      "    <tr class=\"alt\"><th>Requested URL</th><td>&nbsp;&nbsp;&nbsp;https://dc.services.visualstudio.com:443/InputServer.js</td></tr> \n",
      "    <tr><th>Physical Path</th><td>&nbsp;&nbsp;&nbsp;E:\\sitesroot\\0\\InputServer.js</td></tr> \n",
      "    <tr class=\"alt\"><th>Logon Method</th><td>&nbsp;&nbsp;&nbsp;Anonymous</td></tr> \n",
      "    <tr><th>Logon User</th><td>&nbsp;&nbsp;&nbsp;Anonymous</td></tr> \n",
      "    <tr class=\"alt\"><th>Request Tracing Directory</th><td>&nbsp;&nbsp;&nbsp;C:\\Resources\\directory\\66d7c82389df4d31995fc18a1c1d3c01.Breeze.DiagnosticStore\\FailedReqLogFiles\\Web</td></tr> \n",
      "   </table> \n",
      "   <div class=\"clear\"></div> \n",
      "  </div> \n",
      " </fieldset> \n",
      "</div> \n",
      " \n",
      "<div class=\"content-container\"> \n",
      " <fieldset><h4>More Information:</h4> \n",
      "  This error means that there was a problem while processing the request. The request was received by the Web server, but during processing a fatal error occurred, causing the 500 error. \n",
      "  <p><a href=\"https://go.microsoft.com/fwlink/?LinkID=62293&amp;IIS70Error=500,1013,0x0000006d,17763\">View more information &raquo;</a></p> \n",
      "  <p>Microsoft Knowledge Base Articles:</p> \n",
      " <ul><li>294807</li></ul> \n",
      " \n",
      " </fieldset> \n",
      "</div> \n",
      "</div> \n",
      "</body> \n",
      "</html> \n",
      ".\n",
      "2021-06-07 23:20:12,202 : Heading Extraction gonal-f_clean_SmPC.json_v : Match Passed : <=4|15.79|(93, 100, 95)|0.984| | H | CAP |  de | 0 | gonal-f_clean_SmPC.json | Doc txt :- '8.       ZULASSUNGSNUMMER' | Qrd txt :- '8. ZULASSUNGSNUMMER(N)' | Matched :- 'True'\n",
      "2021-06-07 23:20:12,218 : Heading Extraction gonal-f_clean_SmPC.json_v : Validation Passed As Previous Heading Same As Current | H | CAP |  de | 0 | gonal-f_clean_SmPC.json | currHeadId :- '12056' | prevHeadingCurrId :- '' | prevHeadingFoundId :- '12056'\n",
      "2021-06-07 23:20:15,168 : Heading Extraction gonal-f_clean_SmPC.json_v : Match Passed | H | CAP |  de | 0 | gonal-f_clean_SmPC.json | Doc txt :- '9. DATUM DER ERTEILUNG DER ZULASSUNG/VERLÄNGERUNG DER ZULASSUNG' | Qrd txt :- '9. DATUM DER ERTEILUNG DER ZULASSUNG/VERLÄNGERUNG DER ZULASSUNG' | Matched :- 'True'\n",
      "2021-06-07 23:20:15,181 : Heading Extraction gonal-f_clean_SmPC.json_v : Validation Passed | H | CAP |  de | 0 | gonal-f_clean_SmPC.json | currHeadId :- '12057' | prevHeadingCurrId :- '12056' | prevHeadingFoundId :- '12056'\n"
     ]
    },
    {
     "name": "stderr",
     "output_type": "stream",
     "text": [
      "2021-06-07 23:20:17,991 : Heading Extraction gonal-f_clean_SmPC.json_v : Match Passed | H | CAP |  de | 0 | gonal-f_clean_SmPC.json | Doc txt :- '10. STAND DER INFORMATION' | Qrd txt :- '10. STAND DER INFORMATION' | Matched :- 'True'\n",
      "2021-06-07 23:20:18,015 : Heading Extraction gonal-f_clean_SmPC.json_v : Validation Passed | H | CAP |  de | 0 | gonal-f_clean_SmPC.json | currHeadId :- '12058' | prevHeadingCurrId :- '12057' | prevHeadingFoundId :- '12057'\n",
      "2021-06-07 23:20:19,033 : Heading Extraction gonal-f_clean_SmPC.json_v : Match Passed | H | CAP |  de | 0 | gonal-f_clean_SmPC.json | Doc txt :- '1. BEZEICHNUNG DES ARZNEIMITTELS' | Qrd txt :- '1. BEZEICHNUNG DES ARZNEIMITTELS' | Matched :- 'True'\n",
      "2021-06-07 23:20:19,051 : Heading Extraction gonal-f_clean_SmPC.json_v : Validation Failed As Wrong Heading Found | H | CAP |  de | 0 | gonal-f_clean_SmPC.json | currHeadId :- '12003' | prevHeadingCurrId :- '' | prevHeadingFoundId :- '12058'\n",
      "2021-06-07 23:20:20,332 : Heading Extraction gonal-f_clean_SmPC.json_v : End Of Sub Section | H | CAP |  de | 0 | gonal-f_clean_SmPC.json\n"
     ]
    },
    {
     "name": "stdout",
     "output_type": "stream",
     "text": [
      "oooooooooooooooooooooooooooooooooooooooo END OF Sub Section oooooooooooooooooooooooooooooooooooooooooooooooooooooooooooo\n"
     ]
    },
    {
     "name": "stderr",
     "output_type": "stream",
     "text": [
      "2021-06-07 23:20:20,539 : Heading Extraction gonal-f_clean_SmPC.json_v : Match Passed | H | CAP |  de | 0 | gonal-f_clean_SmPC.json | Doc txt :- '1. BEZEICHNUNG DES ARZNEIMITTELS' | Qrd txt :- '1. BEZEICHNUNG DES ARZNEIMITTELS' | Matched :- 'True'\n",
      "2021-06-07 23:20:20,561 : Heading Extraction gonal-f_clean_SmPC.json_v : Validation Passed As This The First Heading | H | CAP |  de | 0 | gonal-f_clean_SmPC.json | currHeadId :- '12003' | prevHeadingCurrId :- '' | prevHeadingFoundId :- ''\n",
      "2021-06-07 23:20:26,561 : Heading Extraction gonal-f_clean_SmPC.json_v : Match Passed | H | CAP |  de | 0 | gonal-f_clean_SmPC.json | Doc txt :- '2. QUALITATIVE UND QUANTITATIVE ZUSAMMENSETZUNG' | Qrd txt :- '2. QUALITATIVE UND QUANTITATIVE ZUSAMMENSETZUNG' | Matched :- 'True'\n",
      "2021-06-07 23:20:26,576 : Heading Extraction gonal-f_clean_SmPC.json_v : Validation Passed | H | CAP |  de | 0 | gonal-f_clean_SmPC.json | currHeadId :- '12004' | prevHeadingCurrId :- '12003' | prevHeadingFoundId :- '12003'\n",
      "2021-06-07 23:20:35,012 : Heading Extraction gonal-f_clean_SmPC.json_v : Match Passed | H | CAP |  de | 0 | gonal-f_clean_SmPC.json | Doc txt :- '3. DARREICHUNGSFORM' | Qrd txt :- '3. DARREICHUNGSFORM' | Matched :- 'True'\n",
      "2021-06-07 23:20:35,027 : Heading Extraction gonal-f_clean_SmPC.json_v : Validation Flow Is Broken | H | CAP |  de | 0 | gonal-f_clean_SmPC.json | currHeadId :- '12008' | prevHeadingCurrId :- '' | prevHeadingFoundId :- '12004'\n",
      "2021-06-07 23:20:35,039 : Heading Extraction gonal-f_clean_SmPC.json_v : Validation Passed | H | CAP |  de | 0 | gonal-f_clean_SmPC.json | currHeadId :- '12008' | prevHeadingCurrId :- '12004' | prevHeadingFoundId :- '12004'\n",
      "2021-06-07 23:20:37,304 : Heading Extraction gonal-f_clean_SmPC.json_v : Match Passed | H | CAP |  de | 0 | gonal-f_clean_SmPC.json | Doc txt :- '4. KLINISCHE ANGABEN' | Qrd txt :- '4. KLINISCHE ANGABEN' | Matched :- 'True'\n",
      "2021-06-07 23:20:37,317 : Heading Extraction gonal-f_clean_SmPC.json_v : Validation Passed | H | CAP |  de | 0 | gonal-f_clean_SmPC.json | currHeadId :- '12009' | prevHeadingCurrId :- '12008' | prevHeadingFoundId :- '12008'\n",
      "2021-06-07 23:20:37,453 : Heading Extraction gonal-f_clean_SmPC.json_v : Match Passed | H | CAP |  de | 0 | gonal-f_clean_SmPC.json | Doc txt :- '4.1 Anwendungsgebiete' | Qrd txt :- '4.1 Anwendungsgebiete' | Matched :- 'True'\n",
      "2021-06-07 23:20:37,466 : Heading Extraction gonal-f_clean_SmPC.json_v : Validation Passed | H | CAP |  de | 0 | gonal-f_clean_SmPC.json | currHeadId :- '12010' | prevHeadingCurrId :- '12009' | prevHeadingFoundId :- '12009'\n",
      "2021-06-07 23:20:39,834 : Heading Extraction gonal-f_clean_SmPC.json_v : Match Passed | H | CAP |  de | 0 | gonal-f_clean_SmPC.json | Doc txt :- '4.2 Dosierung und Art der Anwendung' | Qrd txt :- '4.2 Dosierung und Art der Anwendung' | Matched :- 'True'\n",
      "2021-06-07 23:20:39,849 : Heading Extraction gonal-f_clean_SmPC.json_v : Validation Passed | H | CAP |  de | 0 | gonal-f_clean_SmPC.json | currHeadId :- '12011' | prevHeadingCurrId :- '12010' | prevHeadingFoundId :- '12010'\n",
      "2021-06-07 23:20:41,674 : Heading Extraction gonal-f_clean_SmPC.json_v : Match Passed | H | CAP |  de | 0 | gonal-f_clean_SmPC.json | Doc txt :- 'Dosierung' | Qrd txt :- 'Dosierung' | Matched :- 'True'\n",
      "2021-06-07 23:20:41,726 : Heading Extraction gonal-f_clean_SmPC.json_v : Validation Failed As Current H3 Heading Is Not Part Of Valid H3 Headings in Previous H2 | H | CAP |  de | 0 | gonal-f_clean_SmPC.json | currHeadId :- '12012' | prevHeadingCurrId :- '12011' | prevHeadingFoundId :- '12011'\n",
      "2021-06-07 23:20:54,541 : Heading Extraction gonal-f_clean_SmPC.json_v : Match Passed | H | CAP |  de | 0 | gonal-f_clean_SmPC.json | Doc txt :- 'Kinder und Jugendliche' | Qrd txt :- 'Kinder und Jugendliche' | Matched :- 'True'\n",
      "2021-06-07 23:20:54,563 : Heading Extraction gonal-f_clean_SmPC.json_v : Validation Flow Is Broken | H | CAP |  de | 0 | gonal-f_clean_SmPC.json | currHeadId :- '12013' | prevHeadingCurrId :- '' | prevHeadingFoundId :- '12011'\n",
      "2021-06-07 23:20:54,584 : Heading Extraction gonal-f_clean_SmPC.json_v : Validation Failed As Current H3 Heading Is Not Part Of Valid H3 Headings in Previous H2 | H | CAP |  de | 0 | gonal-f_clean_SmPC.json | currHeadId :- '12013' | prevHeadingCurrId :- '12011' | prevHeadingFoundId :- '12011'\n",
      "2021-06-07 23:20:54,667 : Heading Extraction gonal-f_clean_SmPC.json_v : Match Passed | H | CAP |  de | 0 | gonal-f_clean_SmPC.json | Doc txt :- 'Kinder und Jugendliche' | Qrd txt :- 'Kinder und Jugendliche' | Matched :- 'True'\n",
      "2021-06-07 23:20:54,685 : Heading Extraction gonal-f_clean_SmPC.json_v : Validation Flow Is Broken | H | CAP |  de | 0 | gonal-f_clean_SmPC.json | currHeadId :- '12019' | prevHeadingCurrId :- '' | prevHeadingFoundId :- '12011'\n",
      "2021-06-07 23:20:54,700 : Heading Extraction gonal-f_clean_SmPC.json_v : Validation Failed As Current H3 Heading Is Not Part Of Valid H3 Headings in Previous H2 | H | CAP |  de | 0 | gonal-f_clean_SmPC.json | currHeadId :- '12019' | prevHeadingCurrId :- '12011' | prevHeadingFoundId :- '12011'\n",
      "2021-06-07 23:20:54,724 : Heading Extraction gonal-f_clean_SmPC.json_v : Match Passed | H | CAP |  de | 0 | gonal-f_clean_SmPC.json | Doc txt :- 'Kinder und Jugendliche' | Qrd txt :- 'Kinder und Jugendliche' | Matched :- 'True'\n",
      "2021-06-07 23:20:54,744 : Heading Extraction gonal-f_clean_SmPC.json_v : Validation Flow Is Broken | H | CAP |  de | 0 | gonal-f_clean_SmPC.json | currHeadId :- '12021' | prevHeadingCurrId :- '' | prevHeadingFoundId :- '12011'\n",
      "2021-06-07 23:20:54,761 : Heading Extraction gonal-f_clean_SmPC.json_v : Validation Failed As Current H3 Heading Is Not Part Of Valid H3 Headings in Previous H2 | H | CAP |  de | 0 | gonal-f_clean_SmPC.json | currHeadId :- '12021' | prevHeadingCurrId :- '12011' | prevHeadingFoundId :- '12011'\n",
      "2021-06-07 23:20:54,830 : Heading Extraction gonal-f_clean_SmPC.json_v : Match Passed | H | CAP |  de | 0 | gonal-f_clean_SmPC.json | Doc txt :- 'Kinder und Jugendliche' | Qrd txt :- 'Kinder und Jugendliche' | Matched :- 'True'\n",
      "2021-06-07 23:20:54,847 : Heading Extraction gonal-f_clean_SmPC.json_v : Validation Flow Is Broken | H | CAP |  de | 0 | gonal-f_clean_SmPC.json | currHeadId :- '12028' | prevHeadingCurrId :- '' | prevHeadingFoundId :- '12011'\n",
      "2021-06-07 23:20:54,866 : Heading Extraction gonal-f_clean_SmPC.json_v : Validation Failed As Current H3 Heading Is Not Part Of Valid H3 Headings in Previous H2 | H | CAP |  de | 0 | gonal-f_clean_SmPC.json | currHeadId :- '12028' | prevHeadingCurrId :- '12011' | prevHeadingFoundId :- '12011'\n",
      "2021-06-07 23:20:54,895 : Heading Extraction gonal-f_clean_SmPC.json_v : Match Passed | H | CAP |  de | 0 | gonal-f_clean_SmPC.json | Doc txt :- 'Kinder und Jugendliche' | Qrd txt :- 'Kinder und Jugendliche' | Matched :- 'True'\n",
      "2021-06-07 23:20:54,915 : Heading Extraction gonal-f_clean_SmPC.json_v : Validation Flow Is Broken | H | CAP |  de | 0 | gonal-f_clean_SmPC.json | currHeadId :- '12031' | prevHeadingCurrId :- '' | prevHeadingFoundId :- '12011'\n",
      "2021-06-07 23:20:54,936 : Heading Extraction gonal-f_clean_SmPC.json_v : Validation Failed As Current H3 Heading Is Not Part Of Valid H3 Headings in Previous H2 | H | CAP |  de | 0 | gonal-f_clean_SmPC.json | currHeadId :- '12031' | prevHeadingCurrId :- '12011' | prevHeadingFoundId :- '12011'\n",
      "2021-06-07 23:20:55,008 : Heading Extraction gonal-f_clean_SmPC.json_v : Match Passed | H | CAP |  de | 0 | gonal-f_clean_SmPC.json | Doc txt :- 'Kinder und Jugendliche' | Qrd txt :- 'Kinder und Jugendliche' | Matched :- 'True'\n",
      "2021-06-07 23:20:55,033 : Heading Extraction gonal-f_clean_SmPC.json_v : Validation Flow Is Broken | H | CAP |  de | 0 | gonal-f_clean_SmPC.json | currHeadId :- '12037' | prevHeadingCurrId :- '' | prevHeadingFoundId :- '12011'\n",
      "2021-06-07 23:20:55,053 : Heading Extraction gonal-f_clean_SmPC.json_v : Validation Failed As Current H3 Heading Is Not Part Of Valid H3 Headings in Previous H2 | H | CAP |  de | 0 | gonal-f_clean_SmPC.json | currHeadId :- '12037' | prevHeadingCurrId :- '12011' | prevHeadingFoundId :- '12011'\n",
      "2021-06-07 23:20:56,151 : Heading Extraction gonal-f_clean_SmPC.json_v : Match Passed | H | CAP |  de | 0 | gonal-f_clean_SmPC.json | Doc txt :- 'Art der Anwendung' | Qrd txt :- 'Art der Anwendung' | Matched :- 'True'\n"
     ]
    },
    {
     "name": "stderr",
     "output_type": "stream",
     "text": [
      "2021-06-07 23:20:56,170 : Heading Extraction gonal-f_clean_SmPC.json_v : Validation Flow Is Broken | H | CAP |  de | 0 | gonal-f_clean_SmPC.json | currHeadId :- '12014' | prevHeadingCurrId :- '' | prevHeadingFoundId :- '12011'\n",
      "2021-06-07 23:20:56,188 : Heading Extraction gonal-f_clean_SmPC.json_v : Validation Failed As Current H3 Heading Is Not Part Of Valid H3 Headings in Previous H2 | H | CAP |  de | 0 | gonal-f_clean_SmPC.json | currHeadId :- '12014' | prevHeadingCurrId :- '12011' | prevHeadingFoundId :- '12011'\n",
      "2021-06-07 23:20:58,374 : Heading Extraction gonal-f_clean_SmPC.json_v : Match Passed | H | CAP |  de | 0 | gonal-f_clean_SmPC.json | Doc txt :- '4.3 Gegenanzeigen' | Qrd txt :- '4.3 Gegenanzeigen' | Matched :- 'True'\n",
      "2021-06-07 23:20:58,387 : Heading Extraction gonal-f_clean_SmPC.json_v : Validation Flow Is Broken | H | CAP |  de | 0 | gonal-f_clean_SmPC.json | currHeadId :- '12016' | prevHeadingCurrId :- '' | prevHeadingFoundId :- '12011'\n",
      "2021-06-07 23:20:58,398 : Heading Extraction gonal-f_clean_SmPC.json_v : Validation Passed | H | CAP |  de | 0 | gonal-f_clean_SmPC.json | currHeadId :- '12016' | prevHeadingCurrId :- '12011' | prevHeadingFoundId :- '12011'\n",
      "2021-06-07 23:21:07,396 : Heading Extraction gonal-f_clean_SmPC.json_v : Match Passed | H | CAP |  de | 0 | gonal-f_clean_SmPC.json | Doc txt :- '4.4 Besondere Warnhinweise und Vorsichtsmaßnahmen für die Anwendung' | Qrd txt :- '4.4 Besondere Warnhinweise und Vorsichtsmaßnahmen für die Anwendung' | Matched :- 'True'\n",
      "2021-06-07 23:21:07,424 : Heading Extraction gonal-f_clean_SmPC.json_v : Validation Passed | H | CAP |  de | 0 | gonal-f_clean_SmPC.json | currHeadId :- '12017' | prevHeadingCurrId :- '12016' | prevHeadingFoundId :- '12016'\n",
      "2021-06-07 23:21:07,682 : Heading Extraction gonal-f_clean_SmPC.json_v : Match Passed | H | CAP |  de | 0 | gonal-f_clean_SmPC.json | Doc txt :- 'Rückverfolgbarkeit' | Qrd txt :- 'Rückverfolgbarkeit' | Matched :- 'True'\n",
      "2021-06-07 23:21:07,711 : Heading Extraction gonal-f_clean_SmPC.json_v : Validation Failed As Current H3 Heading Is Not Part Of Valid H3 Headings in Previous H2 | H | CAP |  de | 0 | gonal-f_clean_SmPC.json | currHeadId :- '12018' | prevHeadingCurrId :- '12017' | prevHeadingFoundId :- '12017'\n",
      "2021-06-07 23:21:25,898 : Heading Extraction gonal-f_clean_SmPC.json_v : Match Passed | H | CAP |  de | 0 | gonal-f_clean_SmPC.json | Doc txt :- '4.5 Wechselwirkungen mit anderen Arzneimitteln und sonstige Wechselwirkungen' | Qrd txt :- '4.5 Wechselwirkungen mit anderen Arzneimitteln und sonstige Wechselwirkungen' | Matched :- 'True'\n",
      "2021-06-07 23:21:25,914 : Heading Extraction gonal-f_clean_SmPC.json_v : Validation Flow Is Broken | H | CAP |  de | 0 | gonal-f_clean_SmPC.json | currHeadId :- '12020' | prevHeadingCurrId :- '' | prevHeadingFoundId :- '12017'\n",
      "2021-06-07 23:21:25,925 : Heading Extraction gonal-f_clean_SmPC.json_v : Validation Passed | H | CAP |  de | 0 | gonal-f_clean_SmPC.json | currHeadId :- '12020' | prevHeadingCurrId :- '12017' | prevHeadingFoundId :- '12017'\n",
      "2021-06-07 23:21:26,218 : Heading Extraction gonal-f_clean_SmPC.json_v : Match Passed | H | CAP |  de | 0 | gonal-f_clean_SmPC.json | Doc txt :- '4.6 Fertilität, Schwangerschaft und Stillzeit' | Qrd txt :- '4.6 Fertilität, Schwangerschaft und Stillzeit' | Matched :- 'True'\n",
      "2021-06-07 23:21:26,234 : Heading Extraction gonal-f_clean_SmPC.json_v : Validation Flow Is Broken | H | CAP |  de | 0 | gonal-f_clean_SmPC.json | currHeadId :- '12022' | prevHeadingCurrId :- '' | prevHeadingFoundId :- '12020'\n",
      "2021-06-07 23:21:26,244 : Heading Extraction gonal-f_clean_SmPC.json_v : Validation Passed | H | CAP |  de | 0 | gonal-f_clean_SmPC.json | currHeadId :- '12022' | prevHeadingCurrId :- '12020' | prevHeadingFoundId :- '12020'\n",
      "2021-06-07 23:21:26,462 : Heading Extraction gonal-f_clean_SmPC.json_v : Match Passed | H | CAP |  de | 0 | gonal-f_clean_SmPC.json | Doc txt :- 'Schwangerschaft' | Qrd txt :- 'Schwangerschaft' | Matched :- 'True'\n",
      "2021-06-07 23:21:26,482 : Heading Extraction gonal-f_clean_SmPC.json_v : Validation Failed As Current H3 Heading Is Not Part Of Valid H3 Headings in Previous H2 | H | CAP |  de | 0 | gonal-f_clean_SmPC.json | currHeadId :- '12023' | prevHeadingCurrId :- '12022' | prevHeadingFoundId :- '12022'\n",
      "2021-06-07 23:21:28,628 : Heading Extraction gonal-f_clean_SmPC.json_v : Match Passed | H | CAP |  de | 0 | gonal-f_clean_SmPC.json | Doc txt :- 'Stillzeit' | Qrd txt :- 'Stillzeit' | Matched :- 'True'\n",
      "2021-06-07 23:21:28,645 : Heading Extraction gonal-f_clean_SmPC.json_v : Validation Flow Is Broken | H | CAP |  de | 0 | gonal-f_clean_SmPC.json | currHeadId :- '12024' | prevHeadingCurrId :- '' | prevHeadingFoundId :- '12022'\n",
      "2021-06-07 23:21:28,663 : Heading Extraction gonal-f_clean_SmPC.json_v : Validation Failed As Current H3 Heading Is Not Part Of Valid H3 Headings in Previous H2 | H | CAP |  de | 0 | gonal-f_clean_SmPC.json | currHeadId :- '12024' | prevHeadingCurrId :- '12022' | prevHeadingFoundId :- '12022'\n",
      "2021-06-07 23:21:29,685 : Heading Extraction gonal-f_clean_SmPC.json_v : Match Passed | H | CAP |  de | 0 | gonal-f_clean_SmPC.json | Doc txt :- 'Fertilität' | Qrd txt :- 'Fertilität' | Matched :- 'True'\n",
      "2021-06-07 23:21:29,704 : Heading Extraction gonal-f_clean_SmPC.json_v : Validation Flow Is Broken | H | CAP |  de | 0 | gonal-f_clean_SmPC.json | currHeadId :- '12025' | prevHeadingCurrId :- '' | prevHeadingFoundId :- '12022'\n",
      "2021-06-07 23:21:29,722 : Heading Extraction gonal-f_clean_SmPC.json_v : Validation Failed As Current H3 Heading Is Not Part Of Valid H3 Headings in Previous H2 | H | CAP |  de | 0 | gonal-f_clean_SmPC.json | currHeadId :- '12025' | prevHeadingCurrId :- '12022' | prevHeadingFoundId :- '12022'\n",
      "2021-06-07 23:21:30,987 : Heading Extraction gonal-f_clean_SmPC.json_v : Match Passed | H | CAP |  de | 0 | gonal-f_clean_SmPC.json | Doc txt :- '4.7 Auswirkungen auf die Verkehrstüchtigkeit und die Fähigkeit zum Bedienen von Maschinen' | Qrd txt :- '4.7 Auswirkungen auf die Verkehrstüchtigkeit und die Fähigkeit zum Bedienen von Maschinen' | Matched :- 'True'\n",
      "2021-06-07 23:21:31,004 : Heading Extraction gonal-f_clean_SmPC.json_v : Validation Flow Is Broken | H | CAP |  de | 0 | gonal-f_clean_SmPC.json | currHeadId :- '12026' | prevHeadingCurrId :- '' | prevHeadingFoundId :- '12022'\n",
      "2021-06-07 23:21:31,017 : Heading Extraction gonal-f_clean_SmPC.json_v : Validation Passed | H | CAP |  de | 0 | gonal-f_clean_SmPC.json | currHeadId :- '12026' | prevHeadingCurrId :- '12022' | prevHeadingFoundId :- '12022'\n",
      "2021-06-07 23:21:31,974 : Heading Extraction gonal-f_clean_SmPC.json_v : Match Passed | H | CAP |  de | 0 | gonal-f_clean_SmPC.json | Doc txt :- '4.8 Nebenwirkungen' | Qrd txt :- '4.8 Nebenwirkungen' | Matched :- 'True'\n",
      "2021-06-07 23:21:31,987 : Heading Extraction gonal-f_clean_SmPC.json_v : Validation Passed | H | CAP |  de | 0 | gonal-f_clean_SmPC.json | currHeadId :- '12027' | prevHeadingCurrId :- '12026' | prevHeadingFoundId :- '12026'\n",
      "2021-06-07 23:22:01,938 : Heading Extraction gonal-f_clean_SmPC.json_v : Match Passed | H | CAP |  de | 0 | gonal-f_clean_SmPC.json | Doc txt :- 'Meldung des Verdachts auf Nebenwirkungen' | Qrd txt :- 'Meldung des Verdachts auf Nebenwirkungen' | Matched :- 'True'\n",
      "2021-06-07 23:22:01,954 : Heading Extraction gonal-f_clean_SmPC.json_v : Validation Flow Is Broken | H | CAP |  de | 0 | gonal-f_clean_SmPC.json | currHeadId :- '12029' | prevHeadingCurrId :- '' | prevHeadingFoundId :- '12027'\n",
      "2021-06-07 23:22:01,977 : Heading Extraction gonal-f_clean_SmPC.json_v : Validation Failed As Current H3 Heading Is Not Part Of Valid H3 Headings in Previous H2 | H | CAP |  de | 0 | gonal-f_clean_SmPC.json | currHeadId :- '12029' | prevHeadingCurrId :- '12027' | prevHeadingFoundId :- '12027'\n",
      "2021-06-07 23:22:02,798 : Heading Extraction gonal-f_clean_SmPC.json_v : Match Passed | H | CAP |  de | 0 | gonal-f_clean_SmPC.json | Doc txt :- '4.9 Überdosierung' | Qrd txt :- '4.9 Überdosierung' | Matched :- 'True'\n",
      "2021-06-07 23:22:02,815 : Heading Extraction gonal-f_clean_SmPC.json_v : Validation Flow Is Broken | H | CAP |  de | 0 | gonal-f_clean_SmPC.json | currHeadId :- '12030' | prevHeadingCurrId :- '' | prevHeadingFoundId :- '12027'\n"
     ]
    },
    {
     "name": "stderr",
     "output_type": "stream",
     "text": [
      "2021-06-07 23:22:02,825 : Heading Extraction gonal-f_clean_SmPC.json_v : Validation Passed | H | CAP |  de | 0 | gonal-f_clean_SmPC.json | currHeadId :- '12030' | prevHeadingCurrId :- '12027' | prevHeadingFoundId :- '12027'\n",
      "2021-06-07 23:22:03,856 : Heading Extraction gonal-f_clean_SmPC.json_v : Match Passed | H | CAP |  de | 0 | gonal-f_clean_SmPC.json | Doc txt :- '5. PHARMAKOLOGISCHE EIGENSCHAFTEN' | Qrd txt :- '5. PHARMAKOLOGISCHE EIGENSCHAFTEN' | Matched :- 'True'\n",
      "2021-06-07 23:22:03,874 : Heading Extraction gonal-f_clean_SmPC.json_v : Validation Flow Is Broken | H | CAP |  de | 0 | gonal-f_clean_SmPC.json | currHeadId :- '12032' | prevHeadingCurrId :- '' | prevHeadingFoundId :- '12030'\n",
      "2021-06-07 23:22:03,886 : Heading Extraction gonal-f_clean_SmPC.json_v : Validation Passed | H | CAP |  de | 0 | gonal-f_clean_SmPC.json | currHeadId :- '12032' | prevHeadingCurrId :- '12030' | prevHeadingFoundId :- '12030'\n",
      "2021-06-07 23:22:04,367 : Heading Extraction gonal-f_clean_SmPC.json_v : Match Passed | H | CAP |  de | 0 | gonal-f_clean_SmPC.json | Doc txt :- '5.1 Pharmakodynamische Eigenschaften' | Qrd txt :- '5.1 Pharmakodynamische Eigenschaften' | Matched :- 'True'\n",
      "2021-06-07 23:22:04,382 : Heading Extraction gonal-f_clean_SmPC.json_v : Validation Passed | H | CAP |  de | 0 | gonal-f_clean_SmPC.json | currHeadId :- '12033' | prevHeadingCurrId :- '12032' | prevHeadingFoundId :- '12032'\n",
      " Wirksamkeit und Sicherheit bei Frauen' | Qrd txt :- 'Klinische Wirksamkeit und Sicherheit' | Matched :- 'True'0.972| | H | CAP |  de | 0 | gonal-f_clean_SmPC.json | Doc txt :- 'Klinische\n",
      "2021-06-07 23:22:05,812 : Heading Extraction gonal-f_clean_SmPC.json_v : Validation Flow Is Broken | H | CAP |  de | 0 | gonal-f_clean_SmPC.json | currHeadId :- '12036' | prevHeadingCurrId :- '' | prevHeadingFoundId :- '12033'\n",
      "2021-06-07 23:22:05,832 : Heading Extraction gonal-f_clean_SmPC.json_v : Validation Failed As Current H3 Heading Is Not Part Of Valid H3 Headings in Previous H2 | H | CAP |  de | 0 | gonal-f_clean_SmPC.json | currHeadId :- '12036' | prevHeadingCurrId :- '12033' | prevHeadingFoundId :- '12033'\n",
      " Wirksamkeit und Sicherheit bei Männern' | Qrd txt :- 'Klinische Wirksamkeit und Sicherheit' | Matched :- 'True'.97| | H | CAP |  de | 0 | gonal-f_clean_SmPC.json | Doc txt :- 'Klinische\n",
      "2021-06-07 23:22:08,362 : Heading Extraction gonal-f_clean_SmPC.json_v : Validation Flow Is Broken | H | CAP |  de | 0 | gonal-f_clean_SmPC.json | currHeadId :- '12036' | prevHeadingCurrId :- '' | prevHeadingFoundId :- '12033'\n",
      "2021-06-07 23:22:08,381 : Heading Extraction gonal-f_clean_SmPC.json_v : Validation Failed As Current H3 Heading Is Not Part Of Valid H3 Headings in Previous H2 | H | CAP |  de | 0 | gonal-f_clean_SmPC.json | currHeadId :- '12036' | prevHeadingCurrId :- '12033' | prevHeadingFoundId :- '12033'\n",
      "2021-06-07 23:22:10,122 : Heading Extraction gonal-f_clean_SmPC.json_v : Match Passed | H | CAP |  de | 0 | gonal-f_clean_SmPC.json | Doc txt :- '5.2 Pharmakokinetische Eigenschaften' | Qrd txt :- '5.2 Pharmakokinetische Eigenschaften' | Matched :- 'True'\n",
      "2021-06-07 23:22:10,141 : Heading Extraction gonal-f_clean_SmPC.json_v : Validation Flow Is Broken | H | CAP |  de | 0 | gonal-f_clean_SmPC.json | currHeadId :- '12038' | prevHeadingCurrId :- '' | prevHeadingFoundId :- '12033'\n",
      "2021-06-07 23:22:10,156 : Heading Extraction gonal-f_clean_SmPC.json_v : Validation Passed | H | CAP |  de | 0 | gonal-f_clean_SmPC.json | currHeadId :- '12038' | prevHeadingCurrId :- '12033' | prevHeadingFoundId :- '12033'\n",
      "2021-06-07 23:22:10,767 : Heading Extraction gonal-f_clean_SmPC.json_v : Match Passed | H | CAP |  de | 0 | gonal-f_clean_SmPC.json | Doc txt :- '5.3 Präklinische Daten zur Sicherheit' | Qrd txt :- '5.3 Präklinische Daten zur Sicherheit' | Matched :- 'True'\n",
      "2021-06-07 23:22:10,784 : Heading Extraction gonal-f_clean_SmPC.json_v : Validation Flow Is Broken | H | CAP |  de | 0 | gonal-f_clean_SmPC.json | currHeadId :- '12045' | prevHeadingCurrId :- '' | prevHeadingFoundId :- '12038'\n",
      "2021-06-07 23:22:10,795 : Heading Extraction gonal-f_clean_SmPC.json_v : Validation Passed | H | CAP |  de | 0 | gonal-f_clean_SmPC.json | currHeadId :- '12045' | prevHeadingCurrId :- '12038' | prevHeadingFoundId :- '12038'\n",
      "2021-06-07 23:22:11,823 : Heading Extraction gonal-f_clean_SmPC.json_v : Match Passed | H | CAP |  de | 0 | gonal-f_clean_SmPC.json | Doc txt :- '6. PHARMAZEUTISCHE ANGABEN' | Qrd txt :- '6. PHARMAZEUTISCHE ANGABEN' | Matched :- 'True'\n",
      "2021-06-07 23:22:11,842 : Heading Extraction gonal-f_clean_SmPC.json_v : Validation Flow Is Broken | H | CAP |  de | 0 | gonal-f_clean_SmPC.json | currHeadId :- '12047' | prevHeadingCurrId :- '' | prevHeadingFoundId :- '12045'\n",
      "2021-06-07 23:22:11,852 : Heading Extraction gonal-f_clean_SmPC.json_v : Validation Passed | H | CAP |  de | 0 | gonal-f_clean_SmPC.json | currHeadId :- '12047' | prevHeadingCurrId :- '12045' | prevHeadingFoundId :- '12045'\n",
      "2021-06-07 23:22:12,479 : Heading Extraction gonal-f_clean_SmPC.json_v : Match Passed | H | CAP |  de | 0 | gonal-f_clean_SmPC.json | Doc txt :- '6.1 Liste der sonstigen Bestandteile' | Qrd txt :- '6.1 Liste der sonstigen Bestandteile' | Matched :- 'True'\n",
      "2021-06-07 23:22:12,495 : Heading Extraction gonal-f_clean_SmPC.json_v : Validation Passed | H | CAP |  de | 0 | gonal-f_clean_SmPC.json | currHeadId :- '12048' | prevHeadingCurrId :- '12047' | prevHeadingFoundId :- '12047'\n",
      "2021-06-07 23:22:19,573 : Heading Extraction gonal-f_clean_SmPC.json_v : Match Passed | H | CAP |  de | 0 | gonal-f_clean_SmPC.json | Doc txt :- '6.2 Inkompatibilitäten' | Qrd txt :- '6.2 Inkompatibilitäten' | Matched :- 'True'\n",
      "2021-06-07 23:22:19,596 : Heading Extraction gonal-f_clean_SmPC.json_v : Validation Passed | H | CAP |  de | 0 | gonal-f_clean_SmPC.json | currHeadId :- '12049' | prevHeadingCurrId :- '12048' | prevHeadingFoundId :- '12048'\n",
      "2021-06-07 23:22:20,746 : Heading Extraction gonal-f_clean_SmPC.json_v : Match Passed | H | CAP |  de | 0 | gonal-f_clean_SmPC.json | Doc txt :- '6.3 Dauer der Haltbarkeit' | Qrd txt :- '6.3 Dauer der Haltbarkeit' | Matched :- 'True'\n",
      "2021-06-07 23:22:20,771 : Heading Extraction gonal-f_clean_SmPC.json_v : Validation Passed | H | CAP |  de | 0 | gonal-f_clean_SmPC.json | currHeadId :- '12050' | prevHeadingCurrId :- '12049' | prevHeadingFoundId :- '12049'\n",
      "2021-06-07 23:22:22,357 : Heading Extraction gonal-f_clean_SmPC.json_v : Match Passed | H | CAP |  de | 0 | gonal-f_clean_SmPC.json | Doc txt :- '6.4 Besondere Vorsichtsmaßnahmen für die Aufbewahrung' | Qrd txt :- '6.4 Besondere Vorsichtsmaßnahmen für die Aufbewahrung' | Matched :- 'True'\n",
      "2021-06-07 23:22:22,373 : Heading Extraction gonal-f_clean_SmPC.json_v : Validation Passed | H | CAP |  de | 0 | gonal-f_clean_SmPC.json | currHeadId :- '12051' | prevHeadingCurrId :- '12050' | prevHeadingFoundId :- '12050'\n",
      " und Inhalt des Behältnisses' | Qrd txt :- '6.5 Art und Inhalt des Behältnisses <und spezielles Zubehör für den Gebrauch, die Anwendung oder die Implantation>' | Matched :- 'True'txt :- '6.5     Art\n",
      "2021-06-07 23:22:26,142 : Heading Extraction gonal-f_clean_SmPC.json_v : Validation Passed | H | CAP |  de | 0 | gonal-f_clean_SmPC.json | currHeadId :- '12052' | prevHeadingCurrId :- '12051' | prevHeadingFoundId :- '12051'\n",
      " Beseitigung und sonstige Hinweise zur Handhabung' | Qrd txt :- '6.6 Besondere Vorsichtsmaßnahmen für die Beseitigung <und sonstige Hinweise zur Handhabung>' | Matched :- 'True' txt :- '6.6     Besondere Vorsichtsmaßnahmen für die\n",
      "2021-06-07 23:22:34,380 : Heading Extraction gonal-f_clean_SmPC.json_v : Validation Passed | H | CAP |  de | 0 | gonal-f_clean_SmPC.json | currHeadId :- '12053' | prevHeadingCurrId :- '12052' | prevHeadingFoundId :- '12052'\n",
      "2021-06-07 23:22:42,794 : Heading Extraction gonal-f_clean_SmPC.json_v : Match Passed | H | CAP |  de | 0 | gonal-f_clean_SmPC.json | Doc txt :- '7. INHABER DER ZULASSUNG' | Qrd txt :- '7. INHABER DER ZULASSUNG' | Matched :- 'True'\n",
      "2021-06-07 23:22:42,807 : Heading Extraction gonal-f_clean_SmPC.json_v : Validation Flow Is Broken | H | CAP |  de | 0 | gonal-f_clean_SmPC.json | currHeadId :- '12055' | prevHeadingCurrId :- '' | prevHeadingFoundId :- '12053'\n",
      "2021-06-07 23:22:42,818 : Heading Extraction gonal-f_clean_SmPC.json_v : Validation Passed | H | CAP |  de | 0 | gonal-f_clean_SmPC.json | currHeadId :- '12055' | prevHeadingCurrId :- '12053' | prevHeadingFoundId :- '12053'\n"
     ]
    },
    {
     "name": "stderr",
     "output_type": "stream",
     "text": [
      "2021-06-07 23:22:45,349 : Heading Extraction gonal-f_clean_SmPC.json_v : Match Passed : <=4|15.79|(93, 100, 95)|0.984| | H | CAP |  de | 0 | gonal-f_clean_SmPC.json | Doc txt :- '8.       ZULASSUNGSNUMMER' | Qrd txt :- '8. ZULASSUNGSNUMMER(N)' | Matched :- 'True'\n",
      "2021-06-07 23:22:45,366 : Heading Extraction gonal-f_clean_SmPC.json_v : Validation Passed | H | CAP |  de | 0 | gonal-f_clean_SmPC.json | currHeadId :- '12056' | prevHeadingCurrId :- '12055' | prevHeadingFoundId :- '12055'\n",
      "2021-06-07 23:22:49,751 : Heading Extraction gonal-f_clean_SmPC.json_v : Match Passed | H | CAP |  de | 0 | gonal-f_clean_SmPC.json | Doc txt :- '9. DATUM DER ERTEILUNG DER ZULASSUNG/VERLÄNGERUNG DER ZULASSUNG' | Qrd txt :- '9. DATUM DER ERTEILUNG DER ZULASSUNG/VERLÄNGERUNG DER ZULASSUNG' | Matched :- 'True'\n",
      "2021-06-07 23:22:49,761 : Heading Extraction gonal-f_clean_SmPC.json_v : Validation Passed | H | CAP |  de | 0 | gonal-f_clean_SmPC.json | currHeadId :- '12057' | prevHeadingCurrId :- '12056' | prevHeadingFoundId :- '12056'\n",
      "2021-06-07 23:22:51,643 : Heading Extraction gonal-f_clean_SmPC.json_v : Match Passed | H | CAP |  de | 0 | gonal-f_clean_SmPC.json | Doc txt :- '10. STAND DER INFORMATION' | Qrd txt :- '10. STAND DER INFORMATION' | Matched :- 'True'\n",
      "2021-06-07 23:22:51,655 : Heading Extraction gonal-f_clean_SmPC.json_v : Validation Passed | H | CAP |  de | 0 | gonal-f_clean_SmPC.json | currHeadId :- '12058' | prevHeadingCurrId :- '12057' | prevHeadingFoundId :- '12057'\n",
      "2021-06-07 23:22:52,458 : Flow Logger HTML_a : Completed Heading Extraction For File | H | CAP |  de | HTML | gonal-f_clean.htm\n",
      "2021-06-07 23:22:52,462 : Flow Logger HTML_a : 0: Heading Extraction,5.5339 Min,10.657728 MB,26.196879 MB,46.5%\n",
      " | H | CAP |  de | HTML | gonal-f_clean.htm\n",
      "2021-06-07 23:22:52,471 : Flow Logger HTML_a : Starting Document Annotation For File | H | CAP |  de | HTML | gonal-f_clean.htm\n"
     ]
    },
    {
     "name": "stdout",
     "output_type": "stream",
     "text": [
      "\n",
      "\n",
      "Heading Not Found \n",
      " ['Dieses Arzneimittel unterliegt einer zusätzlichen Überwachung. Dies ermöglicht eine schnelle Identifizierung neuer Erkenntnisse über die Sicherheit. Angehörige von Gesundheitsberufen sind aufgefordert, jeden Verdachtsfall einer Nebenwirkung zu melden. Hinweise zur Meldung von Nebenwirkungen, siehe Abschnitt 4.8.', 'Allgemeine Beschreibung', 'Qualitative und quantitative Zusammensetzung', 'Sonstige(r) Bestandteil(e) mit bekannter Wirkung', 'Dosierung', 'Kinder und Jugendliche', 'Art der Anwendung', 'Vorsichtsmaßnahmen vor / bei der Handhabung bzw. vor / während der Anwendung des Arzneimittels', 'Rückverfolgbarkeit', 'Kinder und Jugendliche', 'Kinder und Jugendliche', 'Schwangerschaft', 'Stillzeit', 'Fertilität', 'Kinder und Jugendliche', 'Meldung des Verdachts auf Nebenwirkungen', 'Kinder und Jugendliche', 'Wirkmechanismus', 'Pharmakodynamische Wirkungen', 'Klinische Wirksamkeit und Sicherheit', 'Kinder und Jugendliche', 'Resorption', 'Verteilung', 'Biotransformation', 'Elimination', 'Linearität/Nicht-Linearität', 'Pharmakokinetische/pharmakodynamische Zusammenhänge', 'Beurteilung der Risiken für die Umwelt (Environmental risk assessment [ERA])', 'Anwendung bei Kindern und Jugendlichen', 'DOSIMETRIE', 'ANWEISUNGEN ZUR ZUBEREITUNG VON RADIOAKTIVEN ARZNEIMITTELN']\n",
      "\n",
      "\n",
      "dict_keys([])\n",
      "Completed Heading Extraction For File\n",
      "Metrics : 0: Heading Extraction,5.5339 Min,10.657728 MB,26.196879 MB,46.5%\n",
      "\n",
      "Starting Document Annotation For File :- gonal-f_clean_SmPC.json\n",
      "Warning: Multiple Authorization Token Found In The Document gonal-f_clean_SmPC.json :- \n",
      " ['EU/1/95/001/025', 'EU/1/95/001/026', 'EU/1/95/001/027', 'EU/1/95/001/021', 'EU/1/95/001/031', 'EU/1/95/001/000', 'EU/1/95/001/033', 'EU/1/95/001/034', 'EU/1/95/001/035']\n",
      "\n",
      "======================================  ['EU/1/95/001/025', 'EU/1/95/001/026', 'EU/1/95/001/027', 'EU/1/95/001/021', 'EU/1/95/001/031', 'EU/1/95/001/000', 'EU/1/95/001/033', 'EU/1/95/001/034', 'EU/1/95/001/035']  =========================\n",
      "\n",
      "\n",
      "EU/1/95/001/025\n"
     ]
    },
    {
     "name": "stderr",
     "output_type": "stream",
     "text": [
      "2021-06-07 23:22:53,596 : Flow Logger HTML_a : Completed Document Annotation | H | CAP |  de | HTML | gonal-f_clean.htm\n",
      "2021-06-07 23:22:53,600 : Flow Logger HTML_a : 0: Document Annotation,0.0188 Min,0.171262 MB,0.314288 MB,46.5%\n",
      " | H | CAP |  de | HTML | gonal-f_clean.htm\n",
      "2021-06-07 23:22:53,602 : Flow Logger HTML_a : Starting Extracting Content Between Heading | H | CAP |  de | HTML | gonal-f_clean.htm\n",
      "2021-06-07 23:22:53,610 : ExtractContentBetween_0_8 : Cleaning Match Results | H | CAP |  de | 0 | gonal-f_clean_SmPC.json\n",
      "2021-06-07 23:22:53,620 : ExtractContentBetween_0_8 : Finished Cleaning Match Results | H | CAP |  de | 0 | gonal-f_clean_SmPC.json\n"
     ]
    },
    {
     "name": "stdout",
     "output_type": "stream",
     "text": [
      "Found entry with code 220000000061\n",
      "Warning: Medicinal Product Definition Reference Missing for Authorization Identifier EU/1/95/001/025\n",
      "Found Packaged Product Definition\n",
      "Error Found Missing Key 'holder' in entry key value pair\n",
      "Completed Document Annotation\n",
      "Metrics : 0: Document Annotation,0.0188 Min,0.171262 MB,0.314288 MB,46.5%\n",
      "\n",
      "Starting Extracting Content Between Heading For File :- gonal-f_clean_SmPC.json\n",
      "File being processed: F:\\Projects\\EMA\\Repository\\EMA EPI PoC\\function_code\\work\\H\\CAP\\GONAL-f\\de\\2021-06-07T06-58-30Z\\partitionedJSONs\\gonal-f_clean_SmPC.json\n",
      "--------------------------------------------\n"
     ]
    },
    {
     "name": "stderr",
     "output_type": "stream",
     "text": [
      "2021-06-07 23:22:53,897 : Flow Logger HTML_a : Completed Extracting Content Between Heading | H | CAP |  de | HTML | gonal-f_clean.htm\n",
      "2021-06-07 23:22:53,900 : Flow Logger HTML_a : 0: Content Extraction,0.005 Min,0.687933 MB,26.222009 MB,46.5%\n",
      " | H | CAP |  de | HTML | gonal-f_clean.htm\n",
      "2021-06-07 23:22:53,977 : XmlGeneration_0_E : PMS/OMS Annotation Information Not Retrieved | H | CAP |  de | 0 | gonal-f_clean_SmPC.json\n",
      "2021-06-07 23:22:53,978 : XmlGeneration_0_E : Initiating XML Generation | H | CAP |  de | 0 | gonal-f_clean_SmPC.json\n"
     ]
    },
    {
     "name": "stdout",
     "output_type": "stream",
     "text": [
      "Completed Extracting Content Between Heading\n",
      "Metrics : 0: Content Extraction,0.005 Min,0.687933 MB,26.222009 MB,46.5%\n",
      "\n"
     ]
    },
    {
     "name": "stderr",
     "output_type": "stream",
     "text": [
      "2021-06-07 23:22:54,486 : XmlGeneration_0_E : Writing to File:gonal-f_clean_SmPC.xml | H | CAP |  de | 0 | gonal-f_clean_SmPC.json\n",
      "2021-06-07 23:22:54,494 : Flow Logger HTML_a : 0: Generate XML,0.0098 Min,2.754257 MB,4.167844 MB,46.5%\n",
      " | H | CAP |  de | HTML | gonal-f_clean.htm\n"
     ]
    },
    {
     "name": "stdout",
     "output_type": "stream",
     "text": [
      "Metrics : 0: Generate XML,0.0098 Min,2.754257 MB,4.167844 MB,46.5%\n",
      "\n"
     ]
    },
    {
     "name": "stderr",
     "output_type": "stream",
     "text": [
      "2021-06-07 23:22:57,204 : XML Submission Logger_0_V : Initiating Submission To FHIR Server | H | CAP |  de | 0 | gonal-f_clean_SmPC.json\n",
      "2021-06-07 23:22:57,206 : XML Submission Logger_0_V : Response{\"resourceType\":\"Bundle\",\"id\":\"d1e2d4be-4085-4429-94f1-0b4b6810d33f\",\"meta\":{\"versionId\":\"1\",\"lastUpdated\":\"2021-06-07T17:52:56.319+00:00\"},\"type\":\"collection\",\"entry\":[{\"fullUrl\":\"urn:uuid:748335e3-890b-4aed-9b5f-744fa731e97d\",\"resource\":{\"resourceType\":\"Bundle\",\"id\":\"8192479b-0aa6-4edf-825a-2270d2c2f331\",\"identifier\":{\"system\":\"http://ema.europa.eu/fhir/identifier/documentid\",\"value\":\"${instance.bundle[n].Identifier}\"},\"type\":\"document\",\"timestamp\":\"2021-06-07T17:52:53+00:00\",\"entry\":[{\"fullUr | H | CAP |  de | 0 | gonal-f_clean_SmPC.json\n",
      "2021-06-07 23:22:57,216 : XML Submission Logger_0_V : POST sucessful: XML added with id: d1e2d4be-4085-4429-94f1-0b4b6810d33f | H | CAP |  de | 0 | gonal-f_clean_SmPC.json\n",
      "2021-06-07 23:22:57,219 : Flow Logger HTML_a : 0: Submit FHIR Msg,0.0453 Min,0.052251 MB,1.12326 MB,46.5%\n",
      " | H | CAP |  de | HTML | gonal-f_clean.htm\n",
      "2021-06-07 23:22:57,224 : Flow Logger HTML_a : Starting list bundle update/addition | H | CAP |  de | HTML | gonal-f_clean.htm\n",
      "2021-06-07 23:22:57,245 : List Bundle Creation Logger_0_X : Extracted list bundle document type code this document 100000155532 | H | CAP |  de | 0 | gonal-f_clean_SmPC.json\n",
      "2021-06-07 23:22:57,262 : List Bundle Creation Logger_0_X : Getting Existing List Bundle accross all MANs | H | CAP |  de | 0 | gonal-f_clean_SmPC.json\n",
      "2021-06-07 23:22:57,263 : List Bundle Creation Logger_0_X : Getting list bundle for MAN EU/1/95/001/025  | H | CAP |  de | 0 | gonal-f_clean_SmPC.json\n"
     ]
    },
    {
     "name": "stdout",
     "output_type": "stream",
     "text": [
      "POST sucessful: XML added with id d1e2d4be-4085-4429-94f1-0b4b6810d33f\n",
      "Metrics : 0: Submit FHIR Msg,0.0453 Min,0.052251 MB,1.12326 MB,46.5%\n",
      "\n",
      "Created XML File For :- gonal-f_clean_SmPC.json\n",
      "\n",
      "listRegulatedAuthCodesAccrossePI ['EU/1/95/001/025', 'EU/1/95/001/026', 'EU/1/95/001/027', 'EU/1/95/001/021', 'EU/1/95/001/031', 'EU/1/95/001/000', 'EU/1/95/001/033', 'EU/1/95/001/034', 'EU/1/95/001/035']\n"
     ]
    },
    {
     "name": "stderr",
     "output_type": "stream",
     "text": [
      "2021-06-07 23:22:58,207 : List Bundle Creation Logger_0_X : Getting list bundle for MAN EU/1/95/001/026  | H | CAP |  de | 0 | gonal-f_clean_SmPC.json\n",
      "2021-06-07 23:22:59,175 : List Bundle Creation Logger_0_X : Getting list bundle for MAN EU/1/95/001/027  | H | CAP |  de | 0 | gonal-f_clean_SmPC.json\n",
      "2021-06-07 23:23:00,116 : List Bundle Creation Logger_0_X : Getting list bundle for MAN EU/1/95/001/021  | H | CAP |  de | 0 | gonal-f_clean_SmPC.json\n",
      "2021-06-07 23:23:01,824 : List Bundle Creation Logger_0_X : Getting list bundle for MAN EU/1/95/001/031  | H | CAP |  de | 0 | gonal-f_clean_SmPC.json\n",
      "2021-06-07 23:23:02,716 : List Bundle Creation Logger_0_X : Getting list bundle for MAN EU/1/95/001/000  | H | CAP |  de | 0 | gonal-f_clean_SmPC.json\n",
      "2021-06-07 23:23:03,589 : List Bundle Creation Logger_0_X : Getting list bundle for MAN EU/1/95/001/033  | H | CAP |  de | 0 | gonal-f_clean_SmPC.json\n",
      "2021-06-07 23:23:04,453 : List Bundle Creation Logger_0_X : Getting list bundle for MAN EU/1/95/001/034  | H | CAP |  de | 0 | gonal-f_clean_SmPC.json\n",
      "2021-06-07 23:23:05,383 : List Bundle Creation Logger_0_X : Getting list bundle for MAN EU/1/95/001/035  | H | CAP |  de | 0 | gonal-f_clean_SmPC.json\n",
      "2021-06-07 23:23:06,304 : List Bundle Creation Logger_0_X : Getting Existing List Bundle using common list id 4e8cd513-14c0-446b-915e-b46b0ee889a6 | H | CAP |  de | 0 | gonal-f_clean_SmPC.json\n",
      "2021-06-07 23:23:07,478 : List Bundle Creation Logger_0_X : Added missing MAN identifiers | H | CAP |  de | 0 | gonal-f_clean_SmPC.json\n",
      "2021-06-07 23:23:07,481 : List Bundle Creation Logger_0_X : Adding a new item | H | CAP |  de | 0 | gonal-f_clean_SmPC.json\n",
      "2021-06-07 23:23:07,486 : List Bundle Creation Logger_0_X : Converted to required XML format | H | CAP |  de | 0 | gonal-f_clean_SmPC.json\n"
     ]
    },
    {
     "name": "stdout",
     "output_type": "stream",
     "text": [
      "Updating\n"
     ]
    },
    {
     "name": "stderr",
     "output_type": "stream",
     "text": [
      "2021-06-07 23:23:08,954 : List Bundle Creation Logger_0_X : List update successfully completed 4e8cd513-14c0-446b-915e-b46b0ee889a6 | H | CAP |  de | 0 | gonal-f_clean_SmPC.json\n",
      "2021-06-07 23:23:08,956 : Flow Logger HTML_a : Completed list bundle update/addition | H | CAP |  de | HTML | gonal-f_clean.htm\n",
      "2021-06-07 23:23:08,958 : Flow Logger HTML_a : 0: Update/Add List Bundle,0.1956 Min,0.334894 MB,0.408557 MB,46.6%\n",
      " | H | CAP |  de | HTML | gonal-f_clean.htm\n",
      "2021-06-07 23:23:08,960 : Flow Logger HTML_a : \n",
      "\n",
      "\n",
      "\n",
      "||||||||||||||||||||||||||||||||1 ||||| gonal-f_clean_ANHANG II.json||||||||||||||||||||||||||||||||\n",
      "\n",
      "\n",
      "\n",
      " | H | CAP |  de | HTML | gonal-f_clean.htm\n",
      "2021-06-07 23:23:08,965 : Heading Extraction gonal-f_clean_ANHANG II.json_8 : Starting Heading Extraction | H | CAP |  de | 1 | gonal-f_clean_ANHANG II.json\n"
     ]
    },
    {
     "name": "stdout",
     "output_type": "stream",
     "text": [
      "Metrics : 0: Update/Add List Bundle,0.1956 Min,0.334894 MB,0.408557 MB,46.6%\n",
      "\n",
      "Starting Heading Extraction For File :- gonal-f_clean_ANHANG II.json\n",
      "File being processed: F:\\Projects\\EMA\\Repository\\EMA EPI PoC\\function_code\\work\\H\\CAP\\GONAL-f\\de\\2021-06-07T06-58-30Z\\partitionedJSONs\\gonal-f_clean_ANHANG II.json\n",
      "--------------------------------------------\n",
      "ANHANG II\n"
     ]
    },
    {
     "name": "stderr",
     "output_type": "stream",
     "text": [
      "2021-06-07 23:23:09,201 : Heading Extraction gonal-f_clean_ANHANG II.json_8 : Started Extracting Heading | H | CAP |  de | 1 | gonal-f_clean_ANHANG II.json\n",
      "2021-06-07 23:23:09,212 : Heading Extraction gonal-f_clean_ANHANG II.json_8 : Match Passed | H | CAP |  de | 1 | gonal-f_clean_ANHANG II.json | Doc txt :- 'ANHANG II' | Qrd txt :- 'ANHANG II' | Matched :- 'True'\n",
      "2021-06-07 23:23:09,216 : Heading Extraction gonal-f_clean_ANHANG II.json_8 : Validation Passed As This The First Heading | H | CAP |  de | 1 | gonal-f_clean_ANHANG II.json | currHeadId :- '13001' | prevHeadingCurrId :- '' | prevHeadingFoundId :- ''\n",
      "2021-06-07 23:23:09,258 : Heading Extraction gonal-f_clean_ANHANG II.json_8 : Match Passed : Contains<>|37.78|(84, 87, 95)|0.918| | H | CAP |  de | 1 | gonal-f_clean_ANHANG II.json | Doc txt :- 'A.      HERSTELLER DES WIRKSTOFFS BIOLOGISCHEN URSPRUNGS UND HERSTELLER, DER FÜR DIE CHARGENFREIGABE VERANTWORTLICH IST' | Qrd txt :- 'A. <HERSTELLER DES WIRKSTOFFS/DER WIRKSTOFFE BIOLOGISCHEN URSPRUNGS UND> HERSTELLER, DER (DIE) FÜR DIE CHARGENFREIGABE VERANTWORTLICH IST (SIND)' | Matched :- 'True'\n",
      "2021-06-07 23:23:09,266 : Heading Extraction gonal-f_clean_ANHANG II.json_8 : Validation Passed | H | CAP |  de | 1 | gonal-f_clean_ANHANG II.json | currHeadId :- '13002' | prevHeadingCurrId :- '13001' | prevHeadingFoundId :- '13001'\n",
      "2021-06-07 23:23:09,385 : Heading Extraction gonal-f_clean_ANHANG II.json_8 : Match Passed | H | CAP |  de | 1 | gonal-f_clean_ANHANG II.json | Doc txt :- 'B. BEDINGUNGEN ODER EINSCHRÄNKUNGEN FÜR DIE ABGABE UND DEN GEBRAUCH' | Qrd txt :- 'B. BEDINGUNGEN ODER EINSCHRÄNKUNGEN FÜR DIE ABGABE UND DEN GEBRAUCH' | Matched :- 'True'\n",
      "2021-06-07 23:23:09,397 : Heading Extraction gonal-f_clean_ANHANG II.json_8 : Validation Flow Is Broken | H | CAP |  de | 1 | gonal-f_clean_ANHANG II.json | currHeadId :- '13005' | prevHeadingCurrId :- '' | prevHeadingFoundId :- '13002'\n",
      "2021-06-07 23:23:09,403 : Heading Extraction gonal-f_clean_ANHANG II.json_8 : Validation Passed | H | CAP |  de | 1 | gonal-f_clean_ANHANG II.json | currHeadId :- '13005' | prevHeadingCurrId :- '13002' | prevHeadingFoundId :- '13002'\n",
      "2021-06-07 23:23:09,549 : Heading Extraction gonal-f_clean_ANHANG II.json_8 : Match Passed | H | CAP |  de | 1 | gonal-f_clean_ANHANG II.json | Doc txt :- 'C. SONSTIGE BEDINGUNGEN UND AUFLAGEN DER GENEHMIGUNG FÜR DAS INVERKEHRBRINGEN' | Qrd txt :- 'C. SONSTIGE BEDINGUNGEN UND AUFLAGEN DER GENEHMIGUNG FÜR DAS INVERKEHRBRINGEN' | Matched :- 'True'\n",
      "2021-06-07 23:23:09,563 : Heading Extraction gonal-f_clean_ANHANG II.json_8 : Validation Flow Is Broken | H | CAP |  de | 1 | gonal-f_clean_ANHANG II.json | currHeadId :- '13007' | prevHeadingCurrId :- '' | prevHeadingFoundId :- '13005'\n",
      "2021-06-07 23:23:09,571 : Heading Extraction gonal-f_clean_ANHANG II.json_8 : Validation Passed | H | CAP |  de | 1 | gonal-f_clean_ANHANG II.json | currHeadId :- '13007' | prevHeadingCurrId :- '13005' | prevHeadingFoundId :- '13005'\n",
      " ANWENDUNG DES ARZNEIMITTELS' | Qrd txt :- 'B. BEDINGUNGEN ODER EINSCHRÄNKUNGEN FÜR DIE ABGABE UND DEN GEBRAUCH ' | Matched :- 'False'| H | CAP |  de | 1 | gonal-f_clean_ANHANG II.json | Doc txt :- 'D.      BEDINGUNGEN ODER EINSCHRÄNKUNGEN FÜR DIE SICHERE UND WIRKSAME\n",
      "2021-06-07 23:23:09,833 : Heading Extraction gonal-f_clean_ANHANG II.json_8 : Match Passed | H | CAP |  de | 1 | gonal-f_clean_ANHANG II.json | Doc txt :- 'D. BEDINGUNGEN ODER EINSCHRÄNKUNGEN FÜR DIE SICHERE UND WIRKSAME ANWENDUNG DES ARZNEIMITTELS' | Qrd txt :- 'D. BEDINGUNGEN ODER EINSCHRÄNKUNGEN FÜR DIE SICHERE UND WIRKSAME ANWENDUNG DES ARZNEIMITTELS' | Matched :- 'True'\n",
      "2021-06-07 23:23:09,848 : Heading Extraction gonal-f_clean_ANHANG II.json_8 : Validation Flow Is Broken | H | CAP |  de | 1 | gonal-f_clean_ANHANG II.json | currHeadId :- '13009' | prevHeadingCurrId :- '' | prevHeadingFoundId :- '13007'\n",
      "2021-06-07 23:23:09,860 : Heading Extraction gonal-f_clean_ANHANG II.json_8 : Validation Passed | H | CAP |  de | 1 | gonal-f_clean_ANHANG II.json | currHeadId :- '13009' | prevHeadingCurrId :- '13007' | prevHeadingFoundId :- '13007'\n"
     ]
    },
    {
     "name": "stdout",
     "output_type": "stream",
     "text": [
      "\n",
      "OriginalCheck\n",
      "\n"
     ]
    },
    {
     "name": "stderr",
     "output_type": "stream",
     "text": [
      " HERSTELLER, DER FÜR DIE CHARGENFREIGABE VERANTWORTLICH IST' | Qrd txt :- 'A. <HERSTELLER DES WIRKSTOFFS/DER WIRKSTOFFE BIOLOGISCHEN URSPRUNGS UND> HERSTELLER, DER (DIE) FÜR DIE CHARGENFREIGABE VERANTWORTLICH IST (SIND)' | Matched :- 'True'N URSPRUNGS UND\n",
      "2021-06-07 23:23:09,946 : Heading Extraction gonal-f_clean_ANHANG II.json_8 : Validation Failed As Previous Heading Found is not matching | H | CAP |  de | 1 | gonal-f_clean_ANHANG II.json | currHeadId :- '13002' | prevHeadingCurrId :- '13001' | prevHeadingFoundId :- '13009'\n",
      "2021-06-07 23:23:10,322 : Heading Extraction gonal-f_clean_ANHANG II.json_8 : End Of Sub Section | H | CAP |  de | 1 | gonal-f_clean_ANHANG II.json\n",
      " HERSTELLER, DER FÜR DIE CHARGENFREIGABE VERANTWORTLICH IST' | Qrd txt :- 'A. <HERSTELLER DES WIRKSTOFFS/DER WIRKSTOFFE BIOLOGISCHEN URSPRUNGS UND> HERSTELLER, DER (DIE) FÜR DIE CHARGENFREIGABE VERANTWORTLICH IST (SIND)' | Matched :- 'True'N URSPRUNGS UND\n",
      "2021-06-07 23:23:10,393 : Heading Extraction gonal-f_clean_ANHANG II.json_8 : Validation Passed As This The First Heading | H | CAP |  de | 1 | gonal-f_clean_ANHANG II.json | currHeadId :- '13002' | prevHeadingCurrId :- '' | prevHeadingFoundId :- ''\n",
      "2021-06-07 23:23:10,399 : Heading Extraction gonal-f_clean_ANHANG II.json_8 : Validation Failed By Style | H | CAP |  de | 1 | gonal-f_clean_ANHANG II.json | currHeadId :- '13002' | prevHeadingCurrId :- '' | prevHeadingFoundId :- ''\n"
     ]
    },
    {
     "name": "stdout",
     "output_type": "stream",
     "text": [
      "oooooooooooooooooooooooooooooooooooooooo END OF Sub Section oooooooooooooooooooooooooooooooooooooooooooooooooooooooooooo\n",
      "----------------------------------\n",
      "RemovedByStyle\n",
      "----------------------------------\n"
     ]
    },
    {
     "name": "stderr",
     "output_type": "stream",
     "text": [
      " Anschrift des Herstellers des Wirkstoffs biologischen Ursprungs' | Qrd txt :- 'A. <HERSTELLER DES WIRKSTOFFS/DER WIRKSTOFFE BIOLOGISCHEN URSPRUNGS UND> HERSTELLER, DER (DIE) FÜR DIE CHARGENFREIGABE VERANTWORTLICH IST (SIND)' | Matched :- 'False'\n",
      " Anschrift des Herstellers des Wirkstoffs biologischen Ursprungs' | Qrd txt :- 'Name und Anschrift des (der) Hersteller(s) des Wirkstoffs/der Wirkstoffe biologischen Ursprungs' | Matched :- 'True'\n",
      "2021-06-07 23:23:10,981 : Heading Extraction gonal-f_clean_ANHANG II.json_8 : Validation Passed As This The First Heading | H | CAP |  de | 1 | gonal-f_clean_ANHANG II.json | currHeadId :- '13003' | prevHeadingCurrId :- '' | prevHeadingFoundId :- ''\n",
      "2021-06-07 23:23:11,038 : Heading Extraction gonal-f_clean_ANHANG II.json_8 : Match Failed In Lowercase : Contains<>|700.0|(3, 12, 86)|0.356| | H | CAP |  de | 1 | gonal-f_clean_ANHANG II.json | Doc txt :- 'Merck Serono S.A.' | Qrd txt :- 'A. <HERSTELLER DES WIRKSTOFFS/DER WIRKSTOFFE BIOLOGISCHEN URSPRUNGS UND> HERSTELLER, DER (DIE) FÜR DIE CHARGENFREIGABE VERANTWORTLICH IST (SIND)' | Matched :- 'False'\n"
     ]
    },
    {
     "name": "stdout",
     "output_type": "stream",
     "text": [
      "\n",
      "OriginalCheck\n",
      "\n",
      "\n",
      "OriginalCheck\n",
      "\n",
      "\n",
      "OriginalCheck\n",
      "\n"
     ]
    },
    {
     "name": "stderr",
     "output_type": "stream",
     "text": [
      "2021-06-07 23:23:11,081 : Heading Extraction gonal-f_clean_ANHANG II.json_8 : Match Failed In Lowercase : >7|441.18|(16, 29, 86)|0.442| | H | CAP |  de | 1 | gonal-f_clean_ANHANG II.json | Doc txt :- 'Merck Serono S.A.' | Qrd txt :- 'Name und Anschrift des (der) Hersteller(s) des Wirkstoffs/der Wirkstoffe biologischen Ursprungs' | Matched :- 'False'\n",
      "2021-06-07 23:23:11,117 : Heading Extraction gonal-f_clean_ANHANG II.json_8 : Match Failed In Lowercase : >7|417.65|(15, 29, 86)|0.437| | H | CAP |  de | 1 | gonal-f_clean_ANHANG II.json | Doc txt :- 'Merck Serono S.A.' | Qrd txt :- 'Name und Anschrift des (der) Hersteller(s), der (die) für die Chargenfreigabe verantwortlich ist (sind)' | Matched :- 'False'\n"
     ]
    },
    {
     "name": "stdout",
     "output_type": "stream",
     "text": [
      "\n",
      "OriginalCheck\n",
      "\n"
     ]
    },
    {
     "name": "stderr",
     "output_type": "stream",
     "text": [
      "2021-06-07 23:23:11,422 : Heading Extraction gonal-f_clean_ANHANG II.json_8 : Match Failed In Lowercase : <=7|340.0|(7, 15, 86)|0.286| | H | CAP |  de | 1 | gonal-f_clean_ANHANG II.json | Doc txt :- 'Succursale d’Aubonne' | Qrd txt :- 'D. BEDINGUNGEN ODER EINSCHRÄNKUNGEN FÜR DIE SICHERE UND WIRKSAME ANWENDUNG DES ARZNEIMITTELS' | Matched :- 'False'\n"
     ]
    },
    {
     "name": "stdout",
     "output_type": "stream",
     "text": [
      "\n",
      "OriginalCheck\n",
      "\n"
     ]
    },
    {
     "name": "stderr",
     "output_type": "stream",
     "text": [
      "2021-06-07 23:23:12,231 : Heading Extraction gonal-f_clean_ANHANG II.json_8 : Match Failed In Lowercase : <=7|527.27|(8, 18, 86)|0.33| | H | CAP |  de | 1 | gonal-f_clean_ANHANG II.json | Doc txt :- 'C/Batanes 1' | Qrd txt :- 'C. SONSTIGE BEDINGUNGEN UND AUFLAGEN DER GENEHMIGUNG FÜR DAS INVERKEHRBRINGEN' | Matched :- 'False'\n"
     ]
    },
    {
     "name": "stdout",
     "output_type": "stream",
     "text": [
      "\n",
      "OriginalCheck\n",
      "\n"
     ]
    },
    {
     "name": "stderr",
     "output_type": "stream",
     "text": [
      " Anschrift des Herstellers, der für die Chargenfreigabe verantwortlich ist' | Qrd txt :- 'A. <HERSTELLER DES WIRKSTOFFS/DER WIRKSTOFFE BIOLOGISCHEN URSPRUNGS UND> HERSTELLER, DER (DIE) FÜR DIE CHARGENFREIGABE VERANTWORTLICH IST (SIND)' | Matched :- 'False'\n",
      " Anschrift des Herstellers, der für die Chargenfreigabe verantwortlich ist' | Qrd txt :- 'Name und Anschrift des (der) Hersteller(s), der (die) für die Chargenfreigabe verantwortlich ist (sind)' | Matched :- 'True'\n",
      "2021-06-07 23:23:12,906 : Heading Extraction gonal-f_clean_ANHANG II.json_8 : Validation Passed | H | CAP |  de | 1 | gonal-f_clean_ANHANG II.json | currHeadId :- '13004' | prevHeadingCurrId :- '13003' | prevHeadingFoundId :- '13003'\n"
     ]
    },
    {
     "name": "stdout",
     "output_type": "stream",
     "text": [
      "\n",
      "OriginalCheck\n",
      "\n",
      "\n",
      "OriginalCheck\n",
      "\n"
     ]
    },
    {
     "name": "stderr",
     "output_type": "stream",
     "text": [
      "2021-06-07 23:23:12,978 : Heading Extraction gonal-f_clean_ANHANG II.json_8 : Match Failed In Lowercase : Contains<>|626.32|(3, 11, 86)|0.344| | H | CAP |  de | 1 | gonal-f_clean_ANHANG II.json | Doc txt :- 'Merck Serono S.p.A.' | Qrd txt :- 'A. <HERSTELLER DES WIRKSTOFFS/DER WIRKSTOFFE BIOLOGISCHEN URSPRUNGS UND> HERSTELLER, DER (DIE) FÜR DIE CHARGENFREIGABE VERANTWORTLICH IST (SIND)' | Matched :- 'False'\n",
      "2021-06-07 23:23:13,048 : Heading Extraction gonal-f_clean_ANHANG II.json_8 : Match Failed In Lowercase : >7|389.47|(18, 32, 86)|0.419| | H | CAP |  de | 1 | gonal-f_clean_ANHANG II.json | Doc txt :- 'Merck Serono S.p.A.' | Qrd txt :- 'Name und Anschrift des (der) Hersteller(s) des Wirkstoffs/der Wirkstoffe biologischen Ursprungs' | Matched :- 'False'\n",
      "2021-06-07 23:23:13,108 : Heading Extraction gonal-f_clean_ANHANG II.json_8 : Match Failed In Lowercase : >7|373.68|(14, 26, 86)|0.418| | H | CAP |  de | 1 | gonal-f_clean_ANHANG II.json | Doc txt :- 'Merck Serono S.p.A.' | Qrd txt :- 'Name und Anschrift des (der) Hersteller(s), der (die) für die Chargenfreigabe verantwortlich ist (sind)' | Matched :- 'False'\n"
     ]
    },
    {
     "name": "stdout",
     "output_type": "stream",
     "text": [
      "\n",
      "OriginalCheck\n",
      "\n",
      "\n",
      "OriginalCheck\n",
      "\n"
     ]
    },
    {
     "name": "stderr",
     "output_type": "stream",
     "text": [
      "2021-06-07 23:23:14,351 : Heading Extraction gonal-f_clean_ANHANG II.json_8 : Match Passed | H | CAP |  de | 1 | gonal-f_clean_ANHANG II.json | Doc txt :- 'B. BEDINGUNGEN ODER EINSCHRÄNKUNGEN FÜR DIE ABGABE UND DEN GEBRAUCH' | Qrd txt :- 'B. BEDINGUNGEN ODER EINSCHRÄNKUNGEN FÜR DIE ABGABE UND DEN GEBRAUCH' | Matched :- 'True'\n",
      "2021-06-07 23:23:14,370 : Heading Extraction gonal-f_clean_ANHANG II.json_8 : Validation Passed | H | CAP |  de | 1 | gonal-f_clean_ANHANG II.json | currHeadId :- '13005' | prevHeadingCurrId :- '13004' | prevHeadingFoundId :- '13004'\n",
      "2021-06-07 23:23:14,381 : Heading Extraction gonal-f_clean_ANHANG II.json_8 : Validation Failed By Style | H | CAP |  de | 1 | gonal-f_clean_ANHANG II.json | currHeadId :- '13005' | prevHeadingCurrId :- '' | prevHeadingFoundId :- '13004'\n"
     ]
    },
    {
     "name": "stdout",
     "output_type": "stream",
     "text": [
      "----------------------------------\n",
      "RemovedByStyle\n",
      "----------------------------------\n",
      "\n",
      "OriginalCheck\n",
      "\n"
     ]
    },
    {
     "name": "stderr",
     "output_type": "stream",
     "text": [
      " GEBRAUCH' | Qrd txt :- 'D. BEDINGUNGEN ODER EINSCHRÄNKUNGEN FÜR DIE SICHERE UND WIRKSAME ANWENDUNG DES ARZNEIMITTELS' | Matched :- 'False'| CAP |  de | 1 | gonal-f_clean_ANHANG II.json | Doc txt :- 'B.      BEDINGUNGEN ODER EINSCHRÄNKUNGEN FÜR DIE ABGABE UND DEN\n",
      " GEBRAUCH' | Qrd txt :- 'E. SPEZIFISCHE VERPFLICHTUNG ZUM ABSCHLUSS VON MASSNAHMEN NACH DER ZULASSUNG <UNTER „BESONDEREN BEDINGUNGEN“> <UNTER „AUSSERGEWÖHNLICHEN UMSTÄNDEN“' | Matched :- 'False' | Doc txt :- 'B.      BEDINGUNGEN ODER EINSCHRÄNKUNGEN FÜR DIE ABGABE UND DEN\n"
     ]
    },
    {
     "name": "stdout",
     "output_type": "stream",
     "text": [
      "\n",
      "OriginalCheck\n",
      "\n"
     ]
    },
    {
     "name": "stderr",
     "output_type": "stream",
     "text": [
      "2021-06-07 23:23:15,791 : Heading Extraction gonal-f_clean_ANHANG II.json_8 : Match Failed In Lowercase : <=7|92.74|(5, 11, 86)|0.311| | H | CAP |  de | 1 | gonal-f_clean_ANHANG II.json | Doc txt :- 'Arzneimittel auf eingeschränkte ärztliche\r",
      " Verschreibung (siehe Anhang I: Zusammenfassung der Merkmale des\r",
      " Arzneimittels, Abschnitt 4.2).' | Qrd txt :- 'D. BEDINGUNGEN ODER EINSCHRÄNKUNGEN FÜR DIE SICHERE UND WIRKSAME ANWENDUNG DES ARZNEIMITTELS' | Matched :- 'False'\n"
     ]
    },
    {
     "name": "stdout",
     "output_type": "stream",
     "text": [
      "\n",
      "OriginalCheck\n",
      "\n"
     ]
    },
    {
     "name": "stderr",
     "output_type": "stream",
     "text": [
      "2021-06-07 23:23:16,108 : Heading Extraction gonal-f_clean_ANHANG II.json_8 : Match Passed | H | CAP |  de | 1 | gonal-f_clean_ANHANG II.json | Doc txt :- 'C. SONSTIGE BEDINGUNGEN UND AUFLAGEN DER GENEHMIGUNG FÜR DAS INVERKEHRBRINGEN' | Qrd txt :- 'C. SONSTIGE BEDINGUNGEN UND AUFLAGEN DER GENEHMIGUNG FÜR DAS INVERKEHRBRINGEN' | Matched :- 'True'\n",
      "2021-06-07 23:23:16,123 : Heading Extraction gonal-f_clean_ANHANG II.json_8 : Validation Flow Is Broken | H | CAP |  de | 1 | gonal-f_clean_ANHANG II.json | currHeadId :- '13007' | prevHeadingCurrId :- '' | prevHeadingFoundId :- '13004'\n",
      "2021-06-07 23:23:16,139 : Heading Extraction gonal-f_clean_ANHANG II.json_8 : Validation Passed | H | CAP |  de | 1 | gonal-f_clean_ANHANG II.json | currHeadId :- '13007' | prevHeadingCurrId :- '13004' | prevHeadingFoundId :- '13004'\n",
      "2021-06-07 23:23:16,153 : Heading Extraction gonal-f_clean_ANHANG II.json_8 : Validation Failed By Style | H | CAP |  de | 1 | gonal-f_clean_ANHANG II.json | currHeadId :- '13007' | prevHeadingCurrId :- '' | prevHeadingFoundId :- '13004'\n"
     ]
    },
    {
     "name": "stdout",
     "output_type": "stream",
     "text": [
      "----------------------------------\n",
      "RemovedByStyle\n",
      "----------------------------------\n",
      "\n",
      "OriginalCheck\n",
      "\n"
     ]
    },
    {
     "name": "stderr",
     "output_type": "stream",
     "text": [
      " INVERKEHRBRINGEN' | Qrd txt :- 'E. SPEZIFISCHE VERPFLICHTUNG ZUM ABSCHLUSS VON MASSNAHMEN NACH DER ZULASSUNG <UNTER „BESONDEREN BEDINGUNGEN“> <UNTER „AUSSERGEWÖHNLICHEN UMSTÄNDEN“' | Matched :- 'False't :- 'C.      SONSTIGE BEDINGUNGEN UND AUFLAGEN DER GENEHMIGUNG FÜR DAS\n",
      " Unbedenklichkeitsberichte [Periodic Safety Update Reports (PSURs)]' | Qrd txt :- 'Regelmäßig aktualisierte Unbedenklichkeitsberichte [Periodic Safety Update Reports (PSURs)]' | Matched :- 'True'äßig aktualisierte\n",
      "2021-06-07 23:23:16,798 : Heading Extraction gonal-f_clean_ANHANG II.json_8 : Validation Flow Is Broken | H | CAP |  de | 1 | gonal-f_clean_ANHANG II.json | currHeadId :- '13008' | prevHeadingCurrId :- '' | prevHeadingFoundId :- '13004'\n",
      "2021-06-07 23:23:16,808 : Heading Extraction gonal-f_clean_ANHANG II.json_8 : Validation Passed | H | CAP |  de | 1 | gonal-f_clean_ANHANG II.json | currHeadId :- '13008' | prevHeadingCurrId :- '13004' | prevHeadingFoundId :- '13004'\n",
      " ANWENDUNG DES ARZNEIMITTELS' | Qrd txt :- 'B. BEDINGUNGEN ODER EINSCHRÄNKUNGEN FÜR DIE ABGABE UND DEN GEBRAUCH ' | Matched :- 'False'| H | CAP |  de | 1 | gonal-f_clean_ANHANG II.json | Doc txt :- 'D.      BEDINGUNGEN ODER EINSCHRÄNKUNGEN FÜR DIE SICHERE UND WIRKSAME\n",
      "2021-06-07 23:23:17,144 : Heading Extraction gonal-f_clean_ANHANG II.json_8 : Match Passed | H | CAP |  de | 1 | gonal-f_clean_ANHANG II.json | Doc txt :- 'D. BEDINGUNGEN ODER EINSCHRÄNKUNGEN FÜR DIE SICHERE UND WIRKSAME ANWENDUNG DES ARZNEIMITTELS' | Qrd txt :- 'D. BEDINGUNGEN ODER EINSCHRÄNKUNGEN FÜR DIE SICHERE UND WIRKSAME ANWENDUNG DES ARZNEIMITTELS' | Matched :- 'True'\n",
      "2021-06-07 23:23:17,155 : Heading Extraction gonal-f_clean_ANHANG II.json_8 : (9, 1.0, 'CAP') Validation Passed As Current Heading Is Same As Previous H1 Heading | H | CAP |  de | 1 | gonal-f_clean_ANHANG II.json | currHeadId :- '13009' | prevHeadingCurrId :- '' | prevHeadingFoundId :- '13008'\n",
      "2021-06-07 23:23:17,168 : Heading Extraction gonal-f_clean_ANHANG II.json_8 : Validation Failed By Style | H | CAP |  de | 1 | gonal-f_clean_ANHANG II.json | currHeadId :- '13009' | prevHeadingCurrId :- '' | prevHeadingFoundId :- '13008'\n"
     ]
    },
    {
     "name": "stdout",
     "output_type": "stream",
     "text": [
      "\n",
      "OriginalCheck\n",
      "\n",
      "----------------------------------\n",
      "RemovedByStyle\n",
      "----------------------------------\n"
     ]
    },
    {
     "name": "stderr",
     "output_type": "stream",
     "text": [
      "2021-06-07 23:23:17,412 : Heading Extraction gonal-f_clean_ANHANG II.json_8 : Match Failed In Lowercase : Contains<>|135.21|(28, 44, 86)|0.647| | H | CAP |  de | 1 | gonal-f_clean_ANHANG II.json | Doc txt :- 'D.      BEDINGUNGEN ODER EINSCHRÄNKUNGEN FÜR DIE SICHERE UND WIRKSAME\r",
      " ANWENDUNG DES ARZNEIMITTELS' | Qrd txt :- 'E. SPEZIFISCHE VERPFLICHTUNG ZUM ABSCHLUSS VON MASSNAHMEN NACH DER ZULASSUNG <UNTER „BESONDEREN BEDINGUNGEN“> <UNTER „AUSSERGEWÖHNLICHEN UMSTÄNDEN“' | Matched :- 'False'\n"
     ]
    },
    {
     "name": "stdout",
     "output_type": "stream",
     "text": [
      "\n",
      "OriginalCheck\n",
      "\n"
     ]
    },
    {
     "name": "stderr",
     "output_type": "stream",
     "text": [
      "2021-06-07 23:23:17,630 : Heading Extraction gonal-f_clean_ANHANG II.json_8 : Match Passed : <=4|3.57|(98, 100, 100)|0.994| | H | CAP |  de | 1 | gonal-f_clean_ANHANG II.json | Doc txt :- '·Risikomanagement-Plan (RMP)' | Qrd txt :- 'Risikomanagement-Plan (RMP)' | Matched :- 'True'\n",
      "2021-06-07 23:23:17,651 : Heading Extraction gonal-f_clean_ANHANG II.json_8 : Validation Flow Is Broken | H | CAP |  de | 1 | gonal-f_clean_ANHANG II.json | currHeadId :- '13010' | prevHeadingCurrId :- '' | prevHeadingFoundId :- '13008'\n",
      "2021-06-07 23:23:17,662 : Heading Extraction gonal-f_clean_ANHANG II.json_8 : Validation Passed | H | CAP |  de | 1 | gonal-f_clean_ANHANG II.json | currHeadId :- '13010' | prevHeadingCurrId :- '13008' | prevHeadingFoundId :- '13008'\n",
      " aktualisierter RMP ist einzureichen:' | Qrd txt :- 'Risikomanagement-Plan (RMP)' | Matched :- 'False'e : <=4|82.5|(27, 33, 86)|0.528| | H | CAP |  de | 1 | gonal-f_clean_ANHANG II.json | Doc txt :- 'Ein\n"
     ]
    },
    {
     "name": "stdout",
     "output_type": "stream",
     "text": [
      "\n",
      "OriginalCheck\n",
      "\n",
      "\n",
      "OriginalCheck\n",
      "\n"
     ]
    },
    {
     "name": "stderr",
     "output_type": "stream",
     "text": [
      "      Aufforderung durch die Europäische Arzneimittel‑Agentur;' | Qrd txt :- 'A. <HERSTELLER DES WIRKSTOFFS/DER WIRKSTOFFE BIOLOGISCHEN URSPRUNGS UND> HERSTELLER, DER (DIE) FÜR DIE CHARGENFREIGABE VERANTWORTLICH IST (SIND)' | Matched :- 'False'\n",
      "2021-06-07 23:23:18,626 : Flow Logger HTML_a : Completed Heading Extraction For File | H | CAP |  de | HTML | gonal-f_clean.htm\n",
      "2021-06-07 23:23:18,628 : Flow Logger HTML_a : 1: Heading Extraction,0.1611 Min,0.304059 MB,2.980123 MB,46.5%\n",
      " | H | CAP |  de | HTML | gonal-f_clean.htm\n",
      "2021-06-07 23:23:18,636 : Flow Logger HTML_a : Starting Document Annotation For File | H | CAP |  de | HTML | gonal-f_clean.htm\n",
      "2021-06-07 23:23:18,653 : Flow Logger HTML_a : Completed Document Annotation | H | CAP |  de | HTML | gonal-f_clean.htm\n",
      "2021-06-07 23:23:18,657 : Flow Logger HTML_a : 1: Document Annotation,0.0004 Min,0.007296 MB,0.157196 MB,46.5%\n",
      " | H | CAP |  de | HTML | gonal-f_clean.htm\n",
      "2021-06-07 23:23:18,659 : Flow Logger HTML_a : Starting Extracting Content Between Heading | H | CAP |  de | HTML | gonal-f_clean.htm\n",
      "2021-06-07 23:23:18,671 : ExtractContentBetween_1_l : Cleaning Match Results | H | CAP |  de | 1 | gonal-f_clean_ANHANG II.json\n",
      "2021-06-07 23:23:18,684 : ExtractContentBetween_1_l : Finished Cleaning Match Results | H | CAP |  de | 1 | gonal-f_clean_ANHANG II.json\n",
      "2021-06-07 23:23:18,721 : Flow Logger HTML_a : Completed Extracting Content Between Heading | H | CAP |  de | HTML | gonal-f_clean.htm\n",
      "2021-06-07 23:23:18,723 : Flow Logger HTML_a : 1: Content Extraction,0.0011 Min,0.086414 MB,0.441272 MB,46.5%\n",
      " | H | CAP |  de | HTML | gonal-f_clean.htm\n",
      "2021-06-07 23:23:18,778 : XmlGeneration_1_e : PMS/OMS Annotation Information Not Retrieved | H | CAP |  de | 1 | gonal-f_clean_ANHANG II.json\n",
      "2021-06-07 23:23:18,780 : XmlGeneration_1_e : Initiating XML Generation | H | CAP |  de | 1 | gonal-f_clean_ANHANG II.json\n"
     ]
    },
    {
     "name": "stdout",
     "output_type": "stream",
     "text": [
      "\n",
      "\n",
      "Heading Not Found \n",
      " ['Amtliche Chargenfreigabe', 'Zusätzliche Maßnahmen zur Risikominimierung', 'Verpflichtung zur Durchführung von Maßnahmen nach der Zulassung ', 'SPEZIFISCHE VERPFLICHTUNG ZUM ABSCHLUSS VON MASSNAHMEN NACH DER ZULASSUNG <UNTER „BESONDEREN BEDINGUNGEN“> <UNTER „AUSSERGEWÖHNLICHEN UMSTÄNDEN“']\n",
      "\n",
      "\n",
      "dict_keys(['A. <HERSTELLER DES WIRKSTOFFS/DER WIRKSTOFFE BIOLOGISCHEN URSPRUNGS UND> HERSTELLER, DER (DIE) FÜR DIE CHARGENFREIGABE VERANTWORTLICH IST (SIND)', 'B. BEDINGUNGEN ODER EINSCHRÄNKUNGEN FÜR DIE ABGABE UND DEN GEBRAUCH ', 'C. SONSTIGE BEDINGUNGEN UND AUFLAGEN DER GENEHMIGUNG FÜR DAS INVERKEHRBRINGEN', 'D. BEDINGUNGEN ODER EINSCHRÄNKUNGEN FÜR DIE SICHERE UND WIRKSAME ANWENDUNG DES ARZNEIMITTELS'])\n",
      "Completed Heading Extraction For File\n",
      "Metrics : 1: Heading Extraction,0.1611 Min,0.304059 MB,2.980123 MB,46.5%\n",
      "\n",
      "Starting Document Annotation For File :- gonal-f_clean_ANHANG II.json\n",
      "Error Found No Authorization Code Found In The Document gonal-f_clean_ANHANG II.json\n",
      "Completed Document Annotation\n",
      "Metrics : 1: Document Annotation,0.0004 Min,0.007296 MB,0.157196 MB,46.5%\n",
      "\n",
      "Starting Extracting Content Between Heading For File :- gonal-f_clean_ANHANG II.json\n",
      "File being processed: F:\\Projects\\EMA\\Repository\\EMA EPI PoC\\function_code\\work\\H\\CAP\\GONAL-f\\de\\2021-06-07T06-58-30Z\\partitionedJSONs\\gonal-f_clean_ANHANG II.json\n",
      "--------------------------------------------\n",
      "Completed Extracting Content Between Heading\n",
      "Metrics : 1: Content Extraction,0.0011 Min,0.086414 MB,0.441272 MB,46.5%\n",
      "\n",
      "Already Exists\n"
     ]
    },
    {
     "name": "stderr",
     "output_type": "stream",
     "text": [
      "2021-06-07 23:23:18,867 : XmlGeneration_1_e : Writing to File:gonal-f_clean_ANHANG II.xml | H | CAP |  de | 1 | gonal-f_clean_ANHANG II.json\n",
      "2021-06-07 23:23:18,872 : Flow Logger HTML_a : 1: Generate XML,0.0024 Min,0.420201 MB,0.658555 MB,46.5%\n",
      " | H | CAP |  de | HTML | gonal-f_clean.htm\n"
     ]
    },
    {
     "name": "stdout",
     "output_type": "stream",
     "text": [
      "Metrics : 1: Generate XML,0.0024 Min,0.420201 MB,0.658555 MB,46.5%\n",
      "\n"
     ]
    },
    {
     "name": "stderr",
     "output_type": "stream",
     "text": [
      "2021-06-07 23:23:20,217 : XML Submission Logger_1_u : Initiating Submission To FHIR Server | H | CAP |  de | 1 | gonal-f_clean_ANHANG II.json\n",
      "2021-06-07 23:23:20,219 : XML Submission Logger_1_u : Response{\"resourceType\":\"Bundle\",\"id\":\"846f7a05-18f9-4f88-a2be-3e6b3b61dd06\",\"meta\":{\"versionId\":\"1\",\"lastUpdated\":\"2021-06-07T17:53:19.852+00:00\"},\"type\":\"collection\",\"entry\":[{\"fullUrl\":\"urn:uuid:36c2369f-8074-49c6-813a-54ba7867669f\",\"resource\":{\"resourceType\":\"Bundle\",\"id\":\"2b9aa614-e53e-4aed-999b-a39d415254b0\",\"identifier\":{\"system\":\"http://ema.europa.eu/fhir/identifier/documentid\",\"value\":\"${instance.bundle[n].Identifier}\"},\"type\":\"document\",\"timestamp\":\"2021-06-07T17:53:18+00:00\",\"entry\":[{\"fullUr | H | CAP |  de | 1 | gonal-f_clean_ANHANG II.json\n",
      "2021-06-07 23:23:20,222 : XML Submission Logger_1_u : POST sucessful: XML added with id: 846f7a05-18f9-4f88-a2be-3e6b3b61dd06 | H | CAP |  de | 1 | gonal-f_clean_ANHANG II.json\n",
      "2021-06-07 23:23:20,224 : Flow Logger HTML_a : 1: Submit FHIR Msg,0.0225 Min,0.186038 MB,0.320574 MB,46.5%\n",
      " | H | CAP |  de | HTML | gonal-f_clean.htm\n",
      "2021-06-07 23:23:20,229 : Flow Logger HTML_a : Starting list bundle update/addition | H | CAP |  de | HTML | gonal-f_clean.htm\n",
      "2021-06-07 23:23:20,238 : List Bundle Creation Logger_1_J : Extracted list bundle document type code this document 100000155533 | H | CAP |  de | 1 | gonal-f_clean_ANHANG II.json\n",
      "2021-06-07 23:23:20,242 : List Bundle Creation Logger_1_J : Getting Existing List Bundle accross all MANs | H | CAP |  de | 1 | gonal-f_clean_ANHANG II.json\n",
      "2021-06-07 23:23:20,244 : List Bundle Creation Logger_1_J : Getting list bundle for MAN EU/1/95/001/025  | H | CAP |  de | 1 | gonal-f_clean_ANHANG II.json\n"
     ]
    },
    {
     "name": "stdout",
     "output_type": "stream",
     "text": [
      "POST sucessful: XML added with id 846f7a05-18f9-4f88-a2be-3e6b3b61dd06\n",
      "Metrics : 1: Submit FHIR Msg,0.0225 Min,0.186038 MB,0.320574 MB,46.5%\n",
      "\n",
      "Created XML File For :- gonal-f_clean_ANHANG II.json\n",
      "\n",
      "listRegulatedAuthCodesAccrossePI ['EU/1/95/001/025', 'EU/1/95/001/026', 'EU/1/95/001/027', 'EU/1/95/001/021', 'EU/1/95/001/031', 'EU/1/95/001/000', 'EU/1/95/001/033', 'EU/1/95/001/034', 'EU/1/95/001/035']\n"
     ]
    },
    {
     "name": "stderr",
     "output_type": "stream",
     "text": [
      "2021-06-07 23:23:21,129 : List Bundle Creation Logger_1_J : Getting list bundle for MAN EU/1/95/001/026  | H | CAP |  de | 1 | gonal-f_clean_ANHANG II.json\n",
      "2021-06-07 23:23:22,047 : List Bundle Creation Logger_1_J : Getting list bundle for MAN EU/1/95/001/027  | H | CAP |  de | 1 | gonal-f_clean_ANHANG II.json\n",
      "2021-06-07 23:23:22,893 : List Bundle Creation Logger_1_J : Getting list bundle for MAN EU/1/95/001/021  | H | CAP |  de | 1 | gonal-f_clean_ANHANG II.json\n",
      "2021-06-07 23:23:23,731 : List Bundle Creation Logger_1_J : Getting list bundle for MAN EU/1/95/001/031  | H | CAP |  de | 1 | gonal-f_clean_ANHANG II.json\n",
      "2021-06-07 23:23:24,612 : List Bundle Creation Logger_1_J : Getting list bundle for MAN EU/1/95/001/000  | H | CAP |  de | 1 | gonal-f_clean_ANHANG II.json\n",
      "2021-06-07 23:23:25,487 : List Bundle Creation Logger_1_J : Getting list bundle for MAN EU/1/95/001/033  | H | CAP |  de | 1 | gonal-f_clean_ANHANG II.json\n",
      "2021-06-07 23:23:26,365 : List Bundle Creation Logger_1_J : Getting list bundle for MAN EU/1/95/001/034  | H | CAP |  de | 1 | gonal-f_clean_ANHANG II.json\n",
      "2021-06-07 23:23:27,352 : List Bundle Creation Logger_1_J : Getting list bundle for MAN EU/1/95/001/035  | H | CAP |  de | 1 | gonal-f_clean_ANHANG II.json\n",
      "2021-06-07 23:23:28,172 : List Bundle Creation Logger_1_J : Getting Existing List Bundle using common list id 4e8cd513-14c0-446b-915e-b46b0ee889a6 | H | CAP |  de | 1 | gonal-f_clean_ANHANG II.json\n",
      "2021-06-07 23:23:29,015 : List Bundle Creation Logger_1_J : Added missing MAN identifiers | H | CAP |  de | 1 | gonal-f_clean_ANHANG II.json\n",
      "2021-06-07 23:23:29,017 : List Bundle Creation Logger_1_J : Adding a new item | H | CAP |  de | 1 | gonal-f_clean_ANHANG II.json\n",
      "2021-06-07 23:23:29,024 : List Bundle Creation Logger_1_J : Converted to required XML format | H | CAP |  de | 1 | gonal-f_clean_ANHANG II.json\n"
     ]
    },
    {
     "name": "stdout",
     "output_type": "stream",
     "text": [
      "Updating\n"
     ]
    },
    {
     "name": "stderr",
     "output_type": "stream",
     "text": [
      "2021-06-07 23:23:29,902 : List Bundle Creation Logger_1_J : List update successfully completed 4e8cd513-14c0-446b-915e-b46b0ee889a6 | H | CAP |  de | 1 | gonal-f_clean_ANHANG II.json\n",
      "2021-06-07 23:23:29,904 : Flow Logger HTML_a : Completed list bundle update/addition | H | CAP |  de | HTML | gonal-f_clean.htm\n",
      "2021-06-07 23:23:29,905 : Flow Logger HTML_a : 1: Update/Add List Bundle,0.1613 Min,0.147055 MB,0.890526 MB,46.5%\n",
      " | H | CAP |  de | HTML | gonal-f_clean.htm\n",
      "2021-06-07 23:23:29,907 : Flow Logger HTML_a : \n",
      "\n",
      "\n",
      "\n",
      "||||||||||||||||||||||||||||||||2 ||||| gonal-f_clean_ANHANG III.json||||||||||||||||||||||||||||||||\n",
      "\n",
      "\n",
      "\n",
      " | H | CAP |  de | HTML | gonal-f_clean.htm\n",
      "2021-06-07 23:23:29,914 : Heading Extraction gonal-f_clean_ANHANG III.json_b : Starting Heading Extraction | H | CAP |  de | 2 | gonal-f_clean_ANHANG III.json\n"
     ]
    },
    {
     "name": "stdout",
     "output_type": "stream",
     "text": [
      "Metrics : 1: Update/Add List Bundle,0.1613 Min,0.147055 MB,0.890526 MB,46.5%\n",
      "\n",
      "Starting Heading Extraction For File :- gonal-f_clean_ANHANG III.json\n",
      "File being processed: F:\\Projects\\EMA\\Repository\\EMA EPI PoC\\function_code\\work\\H\\CAP\\GONAL-f\\de\\2021-06-07T06-58-30Z\\partitionedJSONs\\gonal-f_clean_ANHANG III.json\n",
      "--------------------------------------------\n",
      "Etikettierung\n"
     ]
    },
    {
     "name": "stderr",
     "output_type": "stream",
     "text": [
      "2021-06-07 23:23:30,274 : Heading Extraction gonal-f_clean_ANHANG III.json_b : Started Extracting Heading | H | CAP |  de | 2 | gonal-f_clean_ANHANG III.json\n",
      "2021-06-07 23:23:30,854 : Heading Extraction gonal-f_clean_ANHANG III.json_b : Match Passed : <=1|18.75|(90, 100, 95)|0.962| | H | CAP |  de | 2 | gonal-f_clean_ANHANG III.json | Doc txt :- 'A. ETIKETTIERUNG' | Qrd txt :- 'ETIKETTIERUNG ' | Matched :- 'True'\n",
      "2021-06-07 23:23:30,863 : Heading Extraction gonal-f_clean_ANHANG III.json_b : Validation Passed As This The First Heading | H | CAP |  de | 2 | gonal-f_clean_ANHANG III.json | currHeadId :- '14001' | prevHeadingCurrId :- '' | prevHeadingFoundId :- ''\n",
      " DER ÄUSSEREN UMHÜLLUNG' | Qrd txt :- 'ANGABEN <AUF DER ÄUSSEREN UMHÜLLUNG> <UND> <AUF DEM BEHÄLTNIS>' | Matched :- 'True')|0.905| | H | CAP |  de | 2 | gonal-f_clean_ANHANG III.json | Doc txt :- 'ANGABEN AUF\n",
      "2021-06-07 23:23:30,894 : Heading Extraction gonal-f_clean_ANHANG III.json_b : Validation Passed | H | CAP |  de | 2 | gonal-f_clean_ANHANG III.json | currHeadId :- '14002' | prevHeadingCurrId :- '14001' | prevHeadingFoundId :- '14001'\n",
      "2021-06-07 23:23:31,478 : Heading Extraction gonal-f_clean_ANHANG III.json_b : Match Passed | H | CAP |  de | 2 | gonal-f_clean_ANHANG III.json | Doc txt :- '1. BEZEICHNUNG DES ARZNEIMITTELS' | Qrd txt :- '1. BEZEICHNUNG DES ARZNEIMITTELS' | Matched :- 'True'\n",
      "2021-06-07 23:23:31,492 : Heading Extraction gonal-f_clean_ANHANG III.json_b : Validation Passed | H | CAP |  de | 2 | gonal-f_clean_ANHANG III.json | currHeadId :- '14003' | prevHeadingCurrId :- '14002' | prevHeadingFoundId :- '14002'\n",
      "2021-06-07 23:23:32,223 : Heading Extraction gonal-f_clean_ANHANG III.json_b : Match Passed | H | CAP |  de | 2 | gonal-f_clean_ANHANG III.json | Doc txt :- '2. WIRKSTOFF(E)' | Qrd txt :- '2. WIRKSTOFF(E)' | Matched :- 'True'\n",
      "2021-06-07 23:23:32,237 : Heading Extraction gonal-f_clean_ANHANG III.json_b : Validation Passed | H | CAP |  de | 2 | gonal-f_clean_ANHANG III.json | currHeadId :- '14004' | prevHeadingCurrId :- '14003' | prevHeadingFoundId :- '14003'\n",
      "2021-06-07 23:23:32,536 : Heading Extraction gonal-f_clean_ANHANG III.json_b : Match Passed | H | CAP |  de | 2 | gonal-f_clean_ANHANG III.json | Doc txt :- '3. SONSTIGE BESTANDTEILE' | Qrd txt :- '3. SONSTIGE BESTANDTEILE' | Matched :- 'True'\n",
      "2021-06-07 23:23:32,548 : Heading Extraction gonal-f_clean_ANHANG III.json_b : Validation Passed | H | CAP |  de | 2 | gonal-f_clean_ANHANG III.json | currHeadId :- '14005' | prevHeadingCurrId :- '14004' | prevHeadingFoundId :- '14004'\n",
      "2021-06-07 23:23:33,188 : Heading Extraction gonal-f_clean_ANHANG III.json_b : Match Passed | H | CAP |  de | 2 | gonal-f_clean_ANHANG III.json | Doc txt :- '4. DARREICHUNGSFORM UND INHALT' | Qrd txt :- '4. DARREICHUNGSFORM UND INHALT' | Matched :- 'True'\n",
      "2021-06-07 23:23:33,201 : Heading Extraction gonal-f_clean_ANHANG III.json_b : Validation Passed | H | CAP |  de | 2 | gonal-f_clean_ANHANG III.json | currHeadId :- '14006' | prevHeadingCurrId :- '14005' | prevHeadingFoundId :- '14005'\n",
      "2021-06-07 23:23:35,534 : Heading Extraction gonal-f_clean_ANHANG III.json_b : Match Passed | H | CAP |  de | 2 | gonal-f_clean_ANHANG III.json | Doc txt :- '5. HINWEISE ZUR UND ART(EN) DER ANWENDUNG' | Qrd txt :- '5. HINWEISE ZUR UND ART(EN) DER ANWENDUNG' | Matched :- 'True'\n",
      "2021-06-07 23:23:35,548 : Heading Extraction gonal-f_clean_ANHANG III.json_b : Validation Passed | H | CAP |  de | 2 | gonal-f_clean_ANHANG III.json | currHeadId :- '14007' | prevHeadingCurrId :- '14006' | prevHeadingFoundId :- '14006'\n",
      "2021-06-07 23:23:36,295 : Heading Extraction gonal-f_clean_ANHANG III.json_b : Match Passed | H | CAP |  de | 2 | gonal-f_clean_ANHANG III.json | Doc txt :- '6. WARNHINWEIS, DASS DAS ARZNEIMITTEL FÜR KINDER UNZUGÄNGLICH AUFZUBEWAHREN IST' | Qrd txt :- '6. WARNHINWEIS, DASS DAS ARZNEIMITTEL FÜR KINDER UNZUGÄNGLICH AUFZUBEWAHREN IST' | Matched :- 'True'\n",
      "2021-06-07 23:23:36,308 : Heading Extraction gonal-f_clean_ANHANG III.json_b : Validation Passed | H | CAP |  de | 2 | gonal-f_clean_ANHANG III.json | currHeadId :- '14008' | prevHeadingCurrId :- '14007' | prevHeadingFoundId :- '14007'\n",
      "2021-06-07 23:23:36,811 : Heading Extraction gonal-f_clean_ANHANG III.json_b : Match Passed | H | CAP |  de | 2 | gonal-f_clean_ANHANG III.json | Doc txt :- '7. WEITERE WARNHINWEISE, FALLS ERFORDERLICH' | Qrd txt :- '7. WEITERE WARNHINWEISE, FALLS ERFORDERLICH' | Matched :- 'True'\n",
      "2021-06-07 23:23:36,825 : Heading Extraction gonal-f_clean_ANHANG III.json_b : Validation Passed | H | CAP |  de | 2 | gonal-f_clean_ANHANG III.json | currHeadId :- '14009' | prevHeadingCurrId :- '14008' | prevHeadingFoundId :- '14008'\n",
      "2021-06-07 23:23:36,913 : Heading Extraction gonal-f_clean_ANHANG III.json_b : Match Passed | H | CAP |  de | 2 | gonal-f_clean_ANHANG III.json | Doc txt :- '8. VERFALLDATUM' | Qrd txt :- '8. VERFALLDATUM' | Matched :- 'True'\n",
      "2021-06-07 23:23:36,927 : Heading Extraction gonal-f_clean_ANHANG III.json_b : Validation Passed | H | CAP |  de | 2 | gonal-f_clean_ANHANG III.json | currHeadId :- '14010' | prevHeadingCurrId :- '14009' | prevHeadingFoundId :- '14009'\n",
      "2021-06-07 23:23:37,339 : Heading Extraction gonal-f_clean_ANHANG III.json_b : Match Passed | H | CAP |  de | 2 | gonal-f_clean_ANHANG III.json | Doc txt :- '9. BESONDERE VORSICHTSMASSNAHMEN FÜR DIE AUFBEWAHRUNG' | Qrd txt :- '9. BESONDERE VORSICHTSMASSNAHMEN FÜR DIE AUFBEWAHRUNG' | Matched :- 'True'\n",
      "2021-06-07 23:23:37,361 : Heading Extraction gonal-f_clean_ANHANG III.json_b : Validation Passed | H | CAP |  de | 2 | gonal-f_clean_ANHANG III.json | currHeadId :- '14011' | prevHeadingCurrId :- '14010' | prevHeadingFoundId :- '14010'\n",
      "2021-06-07 23:23:37,792 : Heading Extraction gonal-f_clean_ANHANG III.json_b : Match Passed | H | CAP |  de | 2 | gonal-f_clean_ANHANG III.json | Doc txt :- '10. GEGEBENENFALLS BESONDERE VORSICHTSMASSNAHMEN FÜR DIE BESEITIGUNG VON NICHT VERWENDETEM ARZNEIMITTEL ODER DAVON STAMMENDEN ABFALLMATERIALIEN' | Qrd txt :- '10. GEGEBENENFALLS BESONDERE VORSICHTSMASSNAHMEN FÜR DIE BESEITIGUNG VON NICHT VERWENDETEM ARZNEIMITTEL ODER DAVON STAMMENDEN ABFALLMATERIALIEN' | Matched :- 'True'\n",
      "2021-06-07 23:23:37,807 : Heading Extraction gonal-f_clean_ANHANG III.json_b : Validation Passed | H | CAP |  de | 2 | gonal-f_clean_ANHANG III.json | currHeadId :- '14012' | prevHeadingCurrId :- '14011' | prevHeadingFoundId :- '14011'\n",
      "2021-06-07 23:23:38,458 : Heading Extraction gonal-f_clean_ANHANG III.json_b : Match Passed | H | CAP |  de | 2 | gonal-f_clean_ANHANG III.json | Doc txt :- '11. NAME UND ANSCHRIFT DES PHARMAZEUTISCHEN UNTERNEHMERS' | Qrd txt :- '11. NAME UND ANSCHRIFT DES PHARMAZEUTISCHEN UNTERNEHMERS' | Matched :- 'True'\n",
      "2021-06-07 23:23:38,473 : Heading Extraction gonal-f_clean_ANHANG III.json_b : Validation Passed | H | CAP |  de | 2 | gonal-f_clean_ANHANG III.json | currHeadId :- '14013' | prevHeadingCurrId :- '14012' | prevHeadingFoundId :- '14012'\n",
      "2021-06-07 23:23:39,863 : Heading Extraction gonal-f_clean_ANHANG III.json_b : Match Passed | H | CAP |  de | 2 | gonal-f_clean_ANHANG III.json | Doc txt :- '12. ZULASSUNGSNUMMER(N)' | Qrd txt :- '12. ZULASSUNGSNUMMER(N)' | Matched :- 'True'\n",
      "2021-06-07 23:23:39,875 : Heading Extraction gonal-f_clean_ANHANG III.json_b : Validation Passed | H | CAP |  de | 2 | gonal-f_clean_ANHANG III.json | currHeadId :- '14014' | prevHeadingCurrId :- '14013' | prevHeadingFoundId :- '14013'\n",
      "2021-06-07 23:23:42,545 : Heading Extraction gonal-f_clean_ANHANG III.json_b : Match Passed : Contains<>|127.27|(61, 100, 90)|0.888| | H | CAP |  de | 2 | gonal-f_clean_ANHANG III.json | Doc txt :- '13.     CHARGENBEZEICHNUNG' | Qrd txt :- '13. CHARGENBEZEICHNUNG<, SPENDER- UND PRODUKTCODE>' | Matched :- 'True'\n",
      "2021-06-07 23:23:42,564 : Heading Extraction gonal-f_clean_ANHANG III.json_b : Validation Passed | H | CAP |  de | 2 | gonal-f_clean_ANHANG III.json | currHeadId :- '14015' | prevHeadingCurrId :- '14014' | prevHeadingFoundId :- '14014'\n",
      "2021-06-07 23:23:43,205 : Heading Extraction gonal-f_clean_ANHANG III.json_b : Match Passed | H | CAP |  de | 2 | gonal-f_clean_ANHANG III.json | Doc txt :- '14. VERKAUFSABGRENZUNG' | Qrd txt :- '14. VERKAUFSABGRENZUNG' | Matched :- 'True'\n"
     ]
    },
    {
     "name": "stderr",
     "output_type": "stream",
     "text": [
      "2021-06-07 23:23:43,219 : Heading Extraction gonal-f_clean_ANHANG III.json_b : Validation Passed | H | CAP |  de | 2 | gonal-f_clean_ANHANG III.json | currHeadId :- '14016' | prevHeadingCurrId :- '14015' | prevHeadingFoundId :- '14015'\n",
      "2021-06-07 23:23:43,496 : Heading Extraction gonal-f_clean_ANHANG III.json_b : Match Passed | H | CAP |  de | 2 | gonal-f_clean_ANHANG III.json | Doc txt :- '15. HINWEISE FÜR DEN GEBRAUCH' | Qrd txt :- '15. HINWEISE FÜR DEN GEBRAUCH' | Matched :- 'True'\n",
      "2021-06-07 23:23:43,510 : Heading Extraction gonal-f_clean_ANHANG III.json_b : Validation Passed | H | CAP |  de | 2 | gonal-f_clean_ANHANG III.json | currHeadId :- '14017' | prevHeadingCurrId :- '14016' | prevHeadingFoundId :- '14016'\n",
      " in BLINDENSCHRIFT' | Qrd txt :- '16. ANGABEN IN BLINDENSCHRIFT' | Matched :- 'True' Passed : <=4|6.9|(93, 93, 100)|0.958| | H | CAP |  de | 2 | gonal-f_clean_ANHANG III.json | Doc txt :- '16.     ANGABEN\n",
      "2021-06-07 23:23:43,806 : Heading Extraction gonal-f_clean_ANHANG III.json_b : Validation Passed | H | CAP |  de | 2 | gonal-f_clean_ANHANG III.json | currHeadId :- '14018' | prevHeadingCurrId :- '14017' | prevHeadingFoundId :- '14017'\n",
      "2021-06-07 23:23:43,817 : Heading Extraction gonal-f_clean_ANHANG III.json_b : Validation Failed By Style | H | CAP |  de | 2 | gonal-f_clean_ANHANG III.json | currHeadId :- '14018' | prevHeadingCurrId :- '' | prevHeadingFoundId :- '14017'\n"
     ]
    },
    {
     "name": "stdout",
     "output_type": "stream",
     "text": [
      "----------------------------------\n",
      "RemovedByStyle\n",
      "----------------------------------\n"
     ]
    },
    {
     "name": "stderr",
     "output_type": "stream",
     "text": [
      "2021-06-07 23:23:44,703 : Heading Extraction gonal-f_clean_ANHANG III.json_b : Match Passed | H | CAP |  de | 2 | gonal-f_clean_ANHANG III.json | Doc txt :- '17. INDIVIDUELLES ERKENNUNGSMERKMAL – 2D-BARCODE' | Qrd txt :- '17. INDIVIDUELLES ERKENNUNGSMERKMAL – 2D-BARCODE' | Matched :- 'True'\n",
      "2021-06-07 23:23:44,718 : Heading Extraction gonal-f_clean_ANHANG III.json_b : Validation Flow Is Broken | H | CAP |  de | 2 | gonal-f_clean_ANHANG III.json | currHeadId :- '14019' | prevHeadingCurrId :- '' | prevHeadingFoundId :- '14017'\n",
      "2021-06-07 23:23:44,728 : Heading Extraction gonal-f_clean_ANHANG III.json_b : Validation Passed | H | CAP |  de | 2 | gonal-f_clean_ANHANG III.json | currHeadId :- '14019' | prevHeadingCurrId :- '14017' | prevHeadingFoundId :- '14017'\n",
      "2021-06-07 23:23:45,531 : Heading Extraction gonal-f_clean_ANHANG III.json_b : Match Passed | H | CAP |  de | 2 | gonal-f_clean_ANHANG III.json | Doc txt :- '18. INDIVIDUELLES ERKENNUNGSMERKMAL – VOM MENSCHEN LESBARES FORMAT' | Qrd txt :- '18. INDIVIDUELLES ERKENNUNGSMERKMAL – VOM MENSCHEN LESBARES FORMAT' | Matched :- 'True'\n",
      "2021-06-07 23:23:45,544 : Heading Extraction gonal-f_clean_ANHANG III.json_b : Validation Passed | H | CAP |  de | 2 | gonal-f_clean_ANHANG III.json | currHeadId :- '14020' | prevHeadingCurrId :- '14019' | prevHeadingFoundId :- '14019'\n",
      "2021-06-07 23:23:45,927 : Heading Extraction gonal-f_clean_ANHANG III.json_b : Match Passed | H | CAP |  de | 2 | gonal-f_clean_ANHANG III.json | Doc txt :- 'MINDESTANGABEN AUF KLEINEN BEHÄLTNISSEN' | Qrd txt :- 'MINDESTANGABEN AUF KLEINEN BEHÄLTNISSEN' | Matched :- 'True'\n",
      "2021-06-07 23:23:45,945 : Heading Extraction gonal-f_clean_ANHANG III.json_b : Validation Flow Is Broken | H | CAP |  de | 2 | gonal-f_clean_ANHANG III.json | currHeadId :- '14027' | prevHeadingCurrId :- '' | prevHeadingFoundId :- '14020'\n",
      "2021-06-07 23:23:45,955 : Heading Extraction gonal-f_clean_ANHANG III.json_b : Validation Passed | H | CAP |  de | 2 | gonal-f_clean_ANHANG III.json | currHeadId :- '14027' | prevHeadingCurrId :- '14020' | prevHeadingFoundId :- '14020'\n",
      "2021-06-07 23:23:46,827 : Heading Extraction gonal-f_clean_ANHANG III.json_b : Match Passed | H | CAP |  de | 2 | gonal-f_clean_ANHANG III.json | Doc txt :- '1. BEZEICHNUNG DES ARZNEIMITTELS SOWIE ART(EN) DER ANWENDUNG' | Qrd txt :- '1. BEZEICHNUNG DES ARZNEIMITTELS SOWIE ART(EN) DER ANWENDUNG' | Matched :- 'True'\n",
      "2021-06-07 23:23:46,839 : Heading Extraction gonal-f_clean_ANHANG III.json_b : Validation Passed | H | CAP |  de | 2 | gonal-f_clean_ANHANG III.json | currHeadId :- '14028' | prevHeadingCurrId :- '14027' | prevHeadingFoundId :- '14027'\n",
      "2021-06-07 23:23:47,891 : Heading Extraction gonal-f_clean_ANHANG III.json_b : Match Passed | H | CAP |  de | 2 | gonal-f_clean_ANHANG III.json | Doc txt :- '2. HINWEISE ZUR ANWENDUNG' | Qrd txt :- '2. HINWEISE ZUR ANWENDUNG' | Matched :- 'True'\n",
      "2021-06-07 23:23:47,903 : Heading Extraction gonal-f_clean_ANHANG III.json_b : Validation Passed | H | CAP |  de | 2 | gonal-f_clean_ANHANG III.json | currHeadId :- '14029' | prevHeadingCurrId :- '14028' | prevHeadingFoundId :- '14028'\n",
      "2021-06-07 23:23:47,993 : Heading Extraction gonal-f_clean_ANHANG III.json_b : Match Passed : <=4|6.67|(93, 93, 93)|0.974| | H | CAP |  de | 2 | gonal-f_clean_ANHANG III.json | Doc txt :- '3.       VERFALLDATUM' | Qrd txt :- '8. VERFALLDATUM' | Matched :- 'True'\n",
      "2021-06-07 23:23:48,006 : Heading Extraction gonal-f_clean_ANHANG III.json_b : Validation Failed As Previous Heading Found is not matching | H | CAP |  de | 2 | gonal-f_clean_ANHANG III.json | currHeadId :- '14010' | prevHeadingCurrId :- '14009' | prevHeadingFoundId :- '14029'\n",
      "2021-06-07 23:23:48,148 : Heading Extraction gonal-f_clean_ANHANG III.json_b : Match Passed | H | CAP |  de | 2 | gonal-f_clean_ANHANG III.json | Doc txt :- '3. VERFALLDATUM' | Qrd txt :- '3. VERFALLDATUM' | Matched :- 'True'\n",
      "2021-06-07 23:23:48,165 : Heading Extraction gonal-f_clean_ANHANG III.json_b : Validation Failed As Wrong Heading Found | H | CAP |  de | 2 | gonal-f_clean_ANHANG III.json | currHeadId :- '14024' | prevHeadingCurrId :- '' | prevHeadingFoundId :- '14029'\n",
      "2021-06-07 23:23:48,224 : Heading Extraction gonal-f_clean_ANHANG III.json_b : Match Passed | H | CAP |  de | 2 | gonal-f_clean_ANHANG III.json | Doc txt :- '3. VERFALLDATUM' | Qrd txt :- '3. VERFALLDATUM' | Matched :- 'True'\n",
      "2021-06-07 23:23:48,237 : Heading Extraction gonal-f_clean_ANHANG III.json_b : Validation Passed | H | CAP |  de | 2 | gonal-f_clean_ANHANG III.json | currHeadId :- '14030' | prevHeadingCurrId :- '14029' | prevHeadingFoundId :- '14029'\n",
      "2021-06-07 23:23:48,641 : Heading Extraction gonal-f_clean_ANHANG III.json_b : Match Passed : Contains<>|142.86|(56, 95, 86)|0.784| | H | CAP |  de | 2 | gonal-f_clean_ANHANG III.json | Doc txt :- '4.       CHARGENBEZEICHNUNG' | Qrd txt :- '13. CHARGENBEZEICHNUNG<, SPENDER- UND PRODUKTCODE>' | Matched :- 'True'\n",
      "2021-06-07 23:23:48,663 : Heading Extraction gonal-f_clean_ANHANG III.json_b : Validation Failed As Previous Heading Found is not matching | H | CAP |  de | 2 | gonal-f_clean_ANHANG III.json | currHeadId :- '14015' | prevHeadingCurrId :- '14014' | prevHeadingFoundId :- '14030'\n",
      "2021-06-07 23:23:48,777 : Heading Extraction gonal-f_clean_ANHANG III.json_b : Match Passed : Contains<>|133.33|(60, 100, 90)|0.886| | H | CAP |  de | 2 | gonal-f_clean_ANHANG III.json | Doc txt :- '4.       CHARGENBEZEICHNUNG' | Qrd txt :- '4. CHARGENBEZEICHNUNG<, SPENDER- UND PRODUKTCODE>' | Matched :- 'True'\n",
      "2021-06-07 23:23:48,791 : Heading Extraction gonal-f_clean_ANHANG III.json_b : Validation Failed As Wrong Heading Found | H | CAP |  de | 2 | gonal-f_clean_ANHANG III.json | currHeadId :- '14025' | prevHeadingCurrId :- '' | prevHeadingFoundId :- '14030'\n",
      "2021-06-07 23:23:48,854 : Heading Extraction gonal-f_clean_ANHANG III.json_b : Match Passed : Contains<>|133.33|(60, 100, 90)|0.886| | H | CAP |  de | 2 | gonal-f_clean_ANHANG III.json | Doc txt :- '4.       CHARGENBEZEICHNUNG' | Qrd txt :- '4. CHARGENBEZEICHNUNG<, SPENDER- UND PRODUKTCODE>' | Matched :- 'True'\n",
      "2021-06-07 23:23:48,868 : Heading Extraction gonal-f_clean_ANHANG III.json_b : Validation Passed | H | CAP |  de | 2 | gonal-f_clean_ANHANG III.json | currHeadId :- '14031' | prevHeadingCurrId :- '14030' | prevHeadingFoundId :- '14030'\n",
      "2021-06-07 23:23:49,455 : Heading Extraction gonal-f_clean_ANHANG III.json_b : Match Passed | H | CAP |  de | 2 | gonal-f_clean_ANHANG III.json | Doc txt :- '5. INHALT NACH GEWICHT, VOLUMEN ODER EINHEITEN' | Qrd txt :- '5. INHALT NACH GEWICHT, VOLUMEN ODER EINHEITEN' | Matched :- 'True'\n",
      "2021-06-07 23:23:49,473 : Heading Extraction gonal-f_clean_ANHANG III.json_b : Validation Passed | H | CAP |  de | 2 | gonal-f_clean_ANHANG III.json | currHeadId :- '14032' | prevHeadingCurrId :- '14031' | prevHeadingFoundId :- '14031'\n",
      " ANGABEN' | Qrd txt :- '5. WEITERE ANGABEN' | Matched :- 'True'NG III.json_b : Match Passed : <=4|5.56|(94, 94, 94)|0.979| | H | CAP |  de | 2 | gonal-f_clean_ANHANG III.json | Doc txt :- '6.       WEITERE\n",
      "2021-06-07 23:23:49,971 : Heading Extraction gonal-f_clean_ANHANG III.json_b : Validation Failed As Wrong Heading Found | H | CAP |  de | 2 | gonal-f_clean_ANHANG III.json | currHeadId :- '14026' | prevHeadingCurrId :- '' | prevHeadingFoundId :- '14032'\n",
      "2021-06-07 23:23:50,037 : Heading Extraction gonal-f_clean_ANHANG III.json_b : Match Passed | H | CAP |  de | 2 | gonal-f_clean_ANHANG III.json | Doc txt :- '6. WEITERE ANGABEN' | Qrd txt :- '6. WEITERE ANGABEN' | Matched :- 'True'\n",
      "2021-06-07 23:23:50,051 : Heading Extraction gonal-f_clean_ANHANG III.json_b : Validation Passed | H | CAP |  de | 2 | gonal-f_clean_ANHANG III.json | currHeadId :- '14033' | prevHeadingCurrId :- '14032' | prevHeadingFoundId :- '14032'\n",
      "2021-06-07 23:23:50,460 : Heading Extraction gonal-f_clean_ANHANG III.json_b : Match Passed | H | CAP |  de | 2 | gonal-f_clean_ANHANG III.json | Doc txt :- 'MINDESTANGABEN AUF KLEINEN BEHÄLTNISSEN' | Qrd txt :- 'MINDESTANGABEN AUF KLEINEN BEHÄLTNISSEN' | Matched :- 'True'\n",
      "2021-06-07 23:23:50,474 : Heading Extraction gonal-f_clean_ANHANG III.json_b : (27, 2.0, 'CAP') Validation Passed As Current Heading Is Same As Previous H1 Heading | H | CAP |  de | 2 | gonal-f_clean_ANHANG III.json | currHeadId :- '14027' | prevHeadingCurrId :- '' | prevHeadingFoundId :- '14033'\n"
     ]
    },
    {
     "name": "stderr",
     "output_type": "stream",
     "text": [
      "2021-06-07 23:23:51,285 : Heading Extraction gonal-f_clean_ANHANG III.json_b : Match Passed | H | CAP |  de | 2 | gonal-f_clean_ANHANG III.json | Doc txt :- '1. BEZEICHNUNG DES ARZNEIMITTELS SOWIE ART(EN) DER ANWENDUNG' | Qrd txt :- '1. BEZEICHNUNG DES ARZNEIMITTELS SOWIE ART(EN) DER ANWENDUNG' | Matched :- 'True'\n",
      "2021-06-07 23:23:51,297 : Heading Extraction gonal-f_clean_ANHANG III.json_b : Validation Passed | H | CAP |  de | 2 | gonal-f_clean_ANHANG III.json | currHeadId :- '14028' | prevHeadingCurrId :- '14027' | prevHeadingFoundId :- '14027'\n",
      "2021-06-07 23:23:52,462 : Heading Extraction gonal-f_clean_ANHANG III.json_b : Match Passed | H | CAP |  de | 2 | gonal-f_clean_ANHANG III.json | Doc txt :- '2. HINWEISE ZUR ANWENDUNG' | Qrd txt :- '2. HINWEISE ZUR ANWENDUNG' | Matched :- 'True'\n",
      "2021-06-07 23:23:52,475 : Heading Extraction gonal-f_clean_ANHANG III.json_b : Validation Passed | H | CAP |  de | 2 | gonal-f_clean_ANHANG III.json | currHeadId :- '14029' | prevHeadingCurrId :- '14028' | prevHeadingFoundId :- '14028'\n",
      "2021-06-07 23:23:52,579 : Heading Extraction gonal-f_clean_ANHANG III.json_b : Match Passed : <=4|6.67|(93, 93, 93)|0.974| | H | CAP |  de | 2 | gonal-f_clean_ANHANG III.json | Doc txt :- '3.       VERFALLDATUM' | Qrd txt :- '8. VERFALLDATUM' | Matched :- 'True'\n",
      "2021-06-07 23:23:52,592 : Heading Extraction gonal-f_clean_ANHANG III.json_b : Validation Failed As Previous Heading Found is not matching | H | CAP |  de | 2 | gonal-f_clean_ANHANG III.json | currHeadId :- '14010' | prevHeadingCurrId :- '14009' | prevHeadingFoundId :- '14029'\n",
      "2021-06-07 23:23:52,725 : Heading Extraction gonal-f_clean_ANHANG III.json_b : Match Passed | H | CAP |  de | 2 | gonal-f_clean_ANHANG III.json | Doc txt :- '3. VERFALLDATUM' | Qrd txt :- '3. VERFALLDATUM' | Matched :- 'True'\n",
      "2021-06-07 23:23:52,741 : Heading Extraction gonal-f_clean_ANHANG III.json_b : Validation Failed As Wrong Heading Found | H | CAP |  de | 2 | gonal-f_clean_ANHANG III.json | currHeadId :- '14024' | prevHeadingCurrId :- '' | prevHeadingFoundId :- '14029'\n",
      "2021-06-07 23:23:52,794 : Heading Extraction gonal-f_clean_ANHANG III.json_b : Match Passed | H | CAP |  de | 2 | gonal-f_clean_ANHANG III.json | Doc txt :- '3. VERFALLDATUM' | Qrd txt :- '3. VERFALLDATUM' | Matched :- 'True'\n",
      "2021-06-07 23:23:52,808 : Heading Extraction gonal-f_clean_ANHANG III.json_b : Validation Passed | H | CAP |  de | 2 | gonal-f_clean_ANHANG III.json | currHeadId :- '14030' | prevHeadingCurrId :- '14029' | prevHeadingFoundId :- '14029'\n",
      "2021-06-07 23:23:53,206 : Heading Extraction gonal-f_clean_ANHANG III.json_b : Match Passed : Contains<>|142.86|(56, 95, 86)|0.784| | H | CAP |  de | 2 | gonal-f_clean_ANHANG III.json | Doc txt :- '4.       CHARGENBEZEICHNUNG' | Qrd txt :- '13. CHARGENBEZEICHNUNG<, SPENDER- UND PRODUKTCODE>' | Matched :- 'True'\n",
      "2021-06-07 23:23:53,222 : Heading Extraction gonal-f_clean_ANHANG III.json_b : Validation Failed As Previous Heading Found is not matching | H | CAP |  de | 2 | gonal-f_clean_ANHANG III.json | currHeadId :- '14015' | prevHeadingCurrId :- '14014' | prevHeadingFoundId :- '14030'\n",
      "2021-06-07 23:23:53,357 : Heading Extraction gonal-f_clean_ANHANG III.json_b : Match Passed : Contains<>|133.33|(60, 100, 90)|0.886| | H | CAP |  de | 2 | gonal-f_clean_ANHANG III.json | Doc txt :- '4.       CHARGENBEZEICHNUNG' | Qrd txt :- '4. CHARGENBEZEICHNUNG<, SPENDER- UND PRODUKTCODE>' | Matched :- 'True'\n",
      "2021-06-07 23:23:53,384 : Heading Extraction gonal-f_clean_ANHANG III.json_b : Validation Failed As Wrong Heading Found | H | CAP |  de | 2 | gonal-f_clean_ANHANG III.json | currHeadId :- '14025' | prevHeadingCurrId :- '' | prevHeadingFoundId :- '14030'\n",
      "2021-06-07 23:23:53,470 : Heading Extraction gonal-f_clean_ANHANG III.json_b : Match Passed : Contains<>|133.33|(60, 100, 90)|0.886| | H | CAP |  de | 2 | gonal-f_clean_ANHANG III.json | Doc txt :- '4.       CHARGENBEZEICHNUNG' | Qrd txt :- '4. CHARGENBEZEICHNUNG<, SPENDER- UND PRODUKTCODE>' | Matched :- 'True'\n",
      "2021-06-07 23:23:53,492 : Heading Extraction gonal-f_clean_ANHANG III.json_b : Validation Passed | H | CAP |  de | 2 | gonal-f_clean_ANHANG III.json | currHeadId :- '14031' | prevHeadingCurrId :- '14030' | prevHeadingFoundId :- '14030'\n",
      "2021-06-07 23:23:54,197 : Heading Extraction gonal-f_clean_ANHANG III.json_b : Match Passed | H | CAP |  de | 2 | gonal-f_clean_ANHANG III.json | Doc txt :- '5. INHALT NACH GEWICHT, VOLUMEN ODER EINHEITEN' | Qrd txt :- '5. INHALT NACH GEWICHT, VOLUMEN ODER EINHEITEN' | Matched :- 'True'\n",
      "2021-06-07 23:23:54,210 : Heading Extraction gonal-f_clean_ANHANG III.json_b : Validation Passed | H | CAP |  de | 2 | gonal-f_clean_ANHANG III.json | currHeadId :- '14032' | prevHeadingCurrId :- '14031' | prevHeadingFoundId :- '14031'\n",
      "2021-06-07 23:23:54,955 : Heading Extraction gonal-f_clean_ANHANG III.json_b : Match Passed : <=4|5.56|(94, 94, 94)|0.979| | H | CAP |  de | 2 | gonal-f_clean_ANHANG III.json | Doc txt :- '6.       WEITERE ANGABEN' | Qrd txt :- '5. WEITERE ANGABEN' | Matched :- 'True'\n",
      "2021-06-07 23:23:54,976 : Heading Extraction gonal-f_clean_ANHANG III.json_b : Validation Failed As Wrong Heading Found | H | CAP |  de | 2 | gonal-f_clean_ANHANG III.json | currHeadId :- '14026' | prevHeadingCurrId :- '' | prevHeadingFoundId :- '14032'\n",
      "2021-06-07 23:23:55,048 : Heading Extraction gonal-f_clean_ANHANG III.json_b : Match Passed | H | CAP |  de | 2 | gonal-f_clean_ANHANG III.json | Doc txt :- '6. WEITERE ANGABEN' | Qrd txt :- '6. WEITERE ANGABEN' | Matched :- 'True'\n",
      "2021-06-07 23:23:55,065 : Heading Extraction gonal-f_clean_ANHANG III.json_b : Validation Passed | H | CAP |  de | 2 | gonal-f_clean_ANHANG III.json | currHeadId :- '14033' | prevHeadingCurrId :- '14032' | prevHeadingFoundId :- '14032'\n",
      "2021-06-07 23:23:55,090 : Heading Extraction gonal-f_clean_ANHANG III.json_b : Match Passed : Contains<>|82.35|(68, 88, 86)|0.905| | H | CAP |  de | 2 | gonal-f_clean_ANHANG III.json | Doc txt :- 'ANGABEN AUF DER ÄUSSEREN UMHÜLLUNG' | Qrd txt :- 'ANGABEN <AUF DER ÄUSSEREN UMHÜLLUNG> <UND> <AUF DEM BEHÄLTNIS>' | Matched :- 'True'\n",
      "2021-06-07 23:23:55,113 : Heading Extraction gonal-f_clean_ANHANG III.json_b : Validation Failed As Previous Heading Found is not matching | H | CAP |  de | 2 | gonal-f_clean_ANHANG III.json | currHeadId :- '14002' | prevHeadingCurrId :- '14001' | prevHeadingFoundId :- '14033'\n",
      "2021-06-07 23:23:55,637 : Heading Extraction gonal-f_clean_ANHANG III.json_b : End Of Sub Section | H | CAP |  de | 2 | gonal-f_clean_ANHANG III.json\n",
      "2021-06-07 23:23:55,660 : Heading Extraction gonal-f_clean_ANHANG III.json_b : Match Passed : Contains<>|82.35|(68, 88, 86)|0.905| | H | CAP |  de | 2 | gonal-f_clean_ANHANG III.json | Doc txt :- 'ANGABEN AUF DER ÄUSSEREN UMHÜLLUNG' | Qrd txt :- 'ANGABEN <AUF DER ÄUSSEREN UMHÜLLUNG> <UND> <AUF DEM BEHÄLTNIS>' | Matched :- 'True'\n",
      "2021-06-07 23:23:55,672 : Heading Extraction gonal-f_clean_ANHANG III.json_b : Validation Passed As This The First Heading | H | CAP |  de | 2 | gonal-f_clean_ANHANG III.json | currHeadId :- '14002' | prevHeadingCurrId :- '' | prevHeadingFoundId :- ''\n"
     ]
    },
    {
     "name": "stdout",
     "output_type": "stream",
     "text": [
      "oooooooooooooooooooooooooooooooooooooooo END OF Sub Section oooooooooooooooooooooooooooooooooooooooooooooooooooooooooooo\n"
     ]
    },
    {
     "name": "stderr",
     "output_type": "stream",
     "text": [
      "2021-06-07 23:23:56,399 : Heading Extraction gonal-f_clean_ANHANG III.json_b : Match Passed | H | CAP |  de | 2 | gonal-f_clean_ANHANG III.json | Doc txt :- '1. BEZEICHNUNG DES ARZNEIMITTELS' | Qrd txt :- '1. BEZEICHNUNG DES ARZNEIMITTELS' | Matched :- 'True'\n",
      "2021-06-07 23:23:56,413 : Heading Extraction gonal-f_clean_ANHANG III.json_b : Validation Passed | H | CAP |  de | 2 | gonal-f_clean_ANHANG III.json | currHeadId :- '14003' | prevHeadingCurrId :- '14002' | prevHeadingFoundId :- '14002'\n",
      "2021-06-07 23:23:57,249 : Heading Extraction gonal-f_clean_ANHANG III.json_b : Match Passed | H | CAP |  de | 2 | gonal-f_clean_ANHANG III.json | Doc txt :- '2. WIRKSTOFF(E)' | Qrd txt :- '2. WIRKSTOFF(E)' | Matched :- 'True'\n",
      "2021-06-07 23:23:57,263 : Heading Extraction gonal-f_clean_ANHANG III.json_b : Validation Passed | H | CAP |  de | 2 | gonal-f_clean_ANHANG III.json | currHeadId :- '14004' | prevHeadingCurrId :- '14003' | prevHeadingFoundId :- '14003'\n",
      "2021-06-07 23:23:57,509 : Heading Extraction gonal-f_clean_ANHANG III.json_b : Match Passed | H | CAP |  de | 2 | gonal-f_clean_ANHANG III.json | Doc txt :- '3. SONSTIGE BESTANDTEILE' | Qrd txt :- '3. SONSTIGE BESTANDTEILE' | Matched :- 'True'\n",
      "2021-06-07 23:23:57,524 : Heading Extraction gonal-f_clean_ANHANG III.json_b : Validation Passed | H | CAP |  de | 2 | gonal-f_clean_ANHANG III.json | currHeadId :- '14005' | prevHeadingCurrId :- '14004' | prevHeadingFoundId :- '14004'\n",
      "2021-06-07 23:23:58,399 : Heading Extraction gonal-f_clean_ANHANG III.json_b : Match Passed | H | CAP |  de | 2 | gonal-f_clean_ANHANG III.json | Doc txt :- '4. DARREICHUNGSFORM UND INHALT' | Qrd txt :- '4. DARREICHUNGSFORM UND INHALT' | Matched :- 'True'\n",
      "2021-06-07 23:23:58,415 : Heading Extraction gonal-f_clean_ANHANG III.json_b : Validation Passed | H | CAP |  de | 2 | gonal-f_clean_ANHANG III.json | currHeadId :- '14006' | prevHeadingCurrId :- '14005' | prevHeadingFoundId :- '14005'\n",
      "2021-06-07 23:23:59,637 : Heading Extraction gonal-f_clean_ANHANG III.json_b : Match Passed | H | CAP |  de | 2 | gonal-f_clean_ANHANG III.json | Doc txt :- '5. HINWEISE ZUR UND ART(EN) DER ANWENDUNG' | Qrd txt :- '5. HINWEISE ZUR UND ART(EN) DER ANWENDUNG' | Matched :- 'True'\n",
      "2021-06-07 23:23:59,650 : Heading Extraction gonal-f_clean_ANHANG III.json_b : Validation Passed | H | CAP |  de | 2 | gonal-f_clean_ANHANG III.json | currHeadId :- '14007' | prevHeadingCurrId :- '14006' | prevHeadingFoundId :- '14006'\n",
      "2021-06-07 23:24:00,840 : Heading Extraction gonal-f_clean_ANHANG III.json_b : Match Passed | H | CAP |  de | 2 | gonal-f_clean_ANHANG III.json | Doc txt :- '6. WARNHINWEIS, DASS DAS ARZNEIMITTEL FÜR KINDER UNZUGÄNGLICH AUFZUBEWAHREN IST' | Qrd txt :- '6. WARNHINWEIS, DASS DAS ARZNEIMITTEL FÜR KINDER UNZUGÄNGLICH AUFZUBEWAHREN IST' | Matched :- 'True'\n",
      "2021-06-07 23:24:00,853 : Heading Extraction gonal-f_clean_ANHANG III.json_b : Validation Passed | H | CAP |  de | 2 | gonal-f_clean_ANHANG III.json | currHeadId :- '14008' | prevHeadingCurrId :- '14007' | prevHeadingFoundId :- '14007'\n",
      "2021-06-07 23:24:01,349 : Heading Extraction gonal-f_clean_ANHANG III.json_b : Match Passed | H | CAP |  de | 2 | gonal-f_clean_ANHANG III.json | Doc txt :- '7. WEITERE WARNHINWEISE, FALLS ERFORDERLICH' | Qrd txt :- '7. WEITERE WARNHINWEISE, FALLS ERFORDERLICH' | Matched :- 'True'\n",
      "2021-06-07 23:24:01,363 : Heading Extraction gonal-f_clean_ANHANG III.json_b : Validation Passed | H | CAP |  de | 2 | gonal-f_clean_ANHANG III.json | currHeadId :- '14009' | prevHeadingCurrId :- '14008' | prevHeadingFoundId :- '14008'\n",
      "2021-06-07 23:24:02,315 : Heading Extraction gonal-f_clean_ANHANG III.json_b : Match Passed | H | CAP |  de | 2 | gonal-f_clean_ANHANG III.json | Doc txt :- '8. VERFALLDATUM' | Qrd txt :- '8. VERFALLDATUM' | Matched :- 'True'\n",
      "2021-06-07 23:24:02,333 : Heading Extraction gonal-f_clean_ANHANG III.json_b : Validation Passed | H | CAP |  de | 2 | gonal-f_clean_ANHANG III.json | currHeadId :- '14010' | prevHeadingCurrId :- '14009' | prevHeadingFoundId :- '14009'\n",
      "2021-06-07 23:24:02,698 : Heading Extraction gonal-f_clean_ANHANG III.json_b : Match Passed | H | CAP |  de | 2 | gonal-f_clean_ANHANG III.json | Doc txt :- '9. BESONDERE VORSICHTSMASSNAHMEN FÜR DIE AUFBEWAHRUNG' | Qrd txt :- '9. BESONDERE VORSICHTSMASSNAHMEN FÜR DIE AUFBEWAHRUNG' | Matched :- 'True'\n",
      "2021-06-07 23:24:02,710 : Heading Extraction gonal-f_clean_ANHANG III.json_b : Validation Passed | H | CAP |  de | 2 | gonal-f_clean_ANHANG III.json | currHeadId :- '14011' | prevHeadingCurrId :- '14010' | prevHeadingFoundId :- '14010'\n",
      "2021-06-07 23:24:03,336 : Heading Extraction gonal-f_clean_ANHANG III.json_b : Match Passed | H | CAP |  de | 2 | gonal-f_clean_ANHANG III.json | Doc txt :- '10. GEGEBENENFALLS BESONDERE VORSICHTSMASSNAHMEN FÜR DIE BESEITIGUNG VON NICHT VERWENDETEM ARZNEIMITTEL ODER DAVON STAMMENDEN ABFALLMATERIALIEN' | Qrd txt :- '10. GEGEBENENFALLS BESONDERE VORSICHTSMASSNAHMEN FÜR DIE BESEITIGUNG VON NICHT VERWENDETEM ARZNEIMITTEL ODER DAVON STAMMENDEN ABFALLMATERIALIEN' | Matched :- 'True'\n",
      "2021-06-07 23:24:03,349 : Heading Extraction gonal-f_clean_ANHANG III.json_b : Validation Passed | H | CAP |  de | 2 | gonal-f_clean_ANHANG III.json | currHeadId :- '14012' | prevHeadingCurrId :- '14011' | prevHeadingFoundId :- '14011'\n",
      "2021-06-07 23:24:03,922 : Heading Extraction gonal-f_clean_ANHANG III.json_b : Match Passed | H | CAP |  de | 2 | gonal-f_clean_ANHANG III.json | Doc txt :- '11. NAME UND ANSCHRIFT DES PHARMAZEUTISCHEN UNTERNEHMERS' | Qrd txt :- '11. NAME UND ANSCHRIFT DES PHARMAZEUTISCHEN UNTERNEHMERS' | Matched :- 'True'\n",
      "2021-06-07 23:24:03,936 : Heading Extraction gonal-f_clean_ANHANG III.json_b : Validation Passed | H | CAP |  de | 2 | gonal-f_clean_ANHANG III.json | currHeadId :- '14013' | prevHeadingCurrId :- '14012' | prevHeadingFoundId :- '14012'\n",
      "2021-06-07 23:24:05,233 : Heading Extraction gonal-f_clean_ANHANG III.json_b : Match Passed | H | CAP |  de | 2 | gonal-f_clean_ANHANG III.json | Doc txt :- '12. ZULASSUNGSNUMMER(N)' | Qrd txt :- '12. ZULASSUNGSNUMMER(N)' | Matched :- 'True'\n",
      "2021-06-07 23:24:05,246 : Heading Extraction gonal-f_clean_ANHANG III.json_b : Validation Passed | H | CAP |  de | 2 | gonal-f_clean_ANHANG III.json | currHeadId :- '14014' | prevHeadingCurrId :- '14013' | prevHeadingFoundId :- '14013'\n",
      "2021-06-07 23:24:05,781 : Heading Extraction gonal-f_clean_ANHANG III.json_b : Match Passed : Contains<>|127.27|(61, 100, 90)|0.888| | H | CAP |  de | 2 | gonal-f_clean_ANHANG III.json | Doc txt :- '13.     CHARGENBEZEICHNUNG' | Qrd txt :- '13. CHARGENBEZEICHNUNG<, SPENDER- UND PRODUKTCODE>' | Matched :- 'True'\n",
      "2021-06-07 23:24:05,797 : Heading Extraction gonal-f_clean_ANHANG III.json_b : Validation Passed | H | CAP |  de | 2 | gonal-f_clean_ANHANG III.json | currHeadId :- '14015' | prevHeadingCurrId :- '14014' | prevHeadingFoundId :- '14014'\n",
      "2021-06-07 23:24:06,486 : Heading Extraction gonal-f_clean_ANHANG III.json_b : Match Passed | H | CAP |  de | 2 | gonal-f_clean_ANHANG III.json | Doc txt :- '14. VERKAUFSABGRENZUNG' | Qrd txt :- '14. VERKAUFSABGRENZUNG' | Matched :- 'True'\n",
      "2021-06-07 23:24:06,501 : Heading Extraction gonal-f_clean_ANHANG III.json_b : Validation Passed | H | CAP |  de | 2 | gonal-f_clean_ANHANG III.json | currHeadId :- '14016' | prevHeadingCurrId :- '14015' | prevHeadingFoundId :- '14015'\n",
      "2021-06-07 23:24:06,795 : Heading Extraction gonal-f_clean_ANHANG III.json_b : Match Passed | H | CAP |  de | 2 | gonal-f_clean_ANHANG III.json | Doc txt :- '15. HINWEISE FÜR DEN GEBRAUCH' | Qrd txt :- '15. HINWEISE FÜR DEN GEBRAUCH' | Matched :- 'True'\n",
      "2021-06-07 23:24:06,809 : Heading Extraction gonal-f_clean_ANHANG III.json_b : Validation Passed | H | CAP |  de | 2 | gonal-f_clean_ANHANG III.json | currHeadId :- '14017' | prevHeadingCurrId :- '14016' | prevHeadingFoundId :- '14016'\n",
      " in BLINDENSCHRIFT' | Qrd txt :- '16. ANGABEN IN BLINDENSCHRIFT' | Matched :- 'True' Passed : <=4|6.9|(93, 93, 100)|0.958| | H | CAP |  de | 2 | gonal-f_clean_ANHANG III.json | Doc txt :- '16.     ANGABEN\n",
      "2021-06-07 23:24:07,099 : Heading Extraction gonal-f_clean_ANHANG III.json_b : Validation Passed | H | CAP |  de | 2 | gonal-f_clean_ANHANG III.json | currHeadId :- '14018' | prevHeadingCurrId :- '14017' | prevHeadingFoundId :- '14017'\n"
     ]
    },
    {
     "name": "stderr",
     "output_type": "stream",
     "text": [
      "2021-06-07 23:24:07,107 : Heading Extraction gonal-f_clean_ANHANG III.json_b : Validation Failed By Style | H | CAP |  de | 2 | gonal-f_clean_ANHANG III.json | currHeadId :- '14018' | prevHeadingCurrId :- '' | prevHeadingFoundId :- '14017'\n"
     ]
    },
    {
     "name": "stdout",
     "output_type": "stream",
     "text": [
      "----------------------------------\n",
      "RemovedByStyle\n",
      "----------------------------------\n"
     ]
    },
    {
     "name": "stderr",
     "output_type": "stream",
     "text": [
      "2021-06-07 23:24:07,930 : Heading Extraction gonal-f_clean_ANHANG III.json_b : Match Passed | H | CAP |  de | 2 | gonal-f_clean_ANHANG III.json | Doc txt :- '17. INDIVIDUELLES ERKENNUNGSMERKMAL – 2D-BARCODE' | Qrd txt :- '17. INDIVIDUELLES ERKENNUNGSMERKMAL – 2D-BARCODE' | Matched :- 'True'\n",
      "2021-06-07 23:24:07,950 : Heading Extraction gonal-f_clean_ANHANG III.json_b : Validation Flow Is Broken | H | CAP |  de | 2 | gonal-f_clean_ANHANG III.json | currHeadId :- '14019' | prevHeadingCurrId :- '' | prevHeadingFoundId :- '14017'\n",
      "2021-06-07 23:24:07,962 : Heading Extraction gonal-f_clean_ANHANG III.json_b : Validation Passed | H | CAP |  de | 2 | gonal-f_clean_ANHANG III.json | currHeadId :- '14019' | prevHeadingCurrId :- '14017' | prevHeadingFoundId :- '14017'\n",
      "2021-06-07 23:24:08,713 : Heading Extraction gonal-f_clean_ANHANG III.json_b : Match Passed | H | CAP |  de | 2 | gonal-f_clean_ANHANG III.json | Doc txt :- '18. INDIVIDUELLES ERKENNUNGSMERKMAL – VOM MENSCHEN LESBARES FORMAT' | Qrd txt :- '18. INDIVIDUELLES ERKENNUNGSMERKMAL – VOM MENSCHEN LESBARES FORMAT' | Matched :- 'True'\n",
      "2021-06-07 23:24:08,732 : Heading Extraction gonal-f_clean_ANHANG III.json_b : Validation Passed | H | CAP |  de | 2 | gonal-f_clean_ANHANG III.json | currHeadId :- '14020' | prevHeadingCurrId :- '14019' | prevHeadingFoundId :- '14019'\n",
      "2021-06-07 23:24:09,102 : Heading Extraction gonal-f_clean_ANHANG III.json_b : Match Passed | H | CAP |  de | 2 | gonal-f_clean_ANHANG III.json | Doc txt :- 'MINDESTANGABEN AUF KLEINEN BEHÄLTNISSEN' | Qrd txt :- 'MINDESTANGABEN AUF KLEINEN BEHÄLTNISSEN' | Matched :- 'True'\n",
      "2021-06-07 23:24:09,118 : Heading Extraction gonal-f_clean_ANHANG III.json_b : Validation Flow Is Broken | H | CAP |  de | 2 | gonal-f_clean_ANHANG III.json | currHeadId :- '14027' | prevHeadingCurrId :- '' | prevHeadingFoundId :- '14020'\n",
      "2021-06-07 23:24:09,128 : Heading Extraction gonal-f_clean_ANHANG III.json_b : Validation Passed | H | CAP |  de | 2 | gonal-f_clean_ANHANG III.json | currHeadId :- '14027' | prevHeadingCurrId :- '14020' | prevHeadingFoundId :- '14020'\n",
      "2021-06-07 23:24:10,002 : Heading Extraction gonal-f_clean_ANHANG III.json_b : Match Passed | H | CAP |  de | 2 | gonal-f_clean_ANHANG III.json | Doc txt :- '1. BEZEICHNUNG DES ARZNEIMITTELS SOWIE ART(EN) DER ANWENDUNG' | Qrd txt :- '1. BEZEICHNUNG DES ARZNEIMITTELS SOWIE ART(EN) DER ANWENDUNG' | Matched :- 'True'\n",
      "2021-06-07 23:24:10,014 : Heading Extraction gonal-f_clean_ANHANG III.json_b : Validation Passed | H | CAP |  de | 2 | gonal-f_clean_ANHANG III.json | currHeadId :- '14028' | prevHeadingCurrId :- '14027' | prevHeadingFoundId :- '14027'\n",
      "2021-06-07 23:24:11,060 : Heading Extraction gonal-f_clean_ANHANG III.json_b : Match Passed | H | CAP |  de | 2 | gonal-f_clean_ANHANG III.json | Doc txt :- '2. HINWEISE ZUR ANWENDUNG' | Qrd txt :- '2. HINWEISE ZUR ANWENDUNG' | Matched :- 'True'\n",
      "2021-06-07 23:24:11,078 : Heading Extraction gonal-f_clean_ANHANG III.json_b : Validation Passed | H | CAP |  de | 2 | gonal-f_clean_ANHANG III.json | currHeadId :- '14029' | prevHeadingCurrId :- '14028' | prevHeadingFoundId :- '14028'\n",
      "2021-06-07 23:24:11,176 : Heading Extraction gonal-f_clean_ANHANG III.json_b : Match Passed : <=4|6.67|(93, 93, 93)|0.974| | H | CAP |  de | 2 | gonal-f_clean_ANHANG III.json | Doc txt :- '3.       VERFALLDATUM' | Qrd txt :- '8. VERFALLDATUM' | Matched :- 'True'\n",
      "2021-06-07 23:24:11,189 : Heading Extraction gonal-f_clean_ANHANG III.json_b : Validation Failed As Previous Heading Found is not matching | H | CAP |  de | 2 | gonal-f_clean_ANHANG III.json | currHeadId :- '14010' | prevHeadingCurrId :- '14009' | prevHeadingFoundId :- '14029'\n",
      "2021-06-07 23:24:11,323 : Heading Extraction gonal-f_clean_ANHANG III.json_b : Match Passed | H | CAP |  de | 2 | gonal-f_clean_ANHANG III.json | Doc txt :- '3. VERFALLDATUM' | Qrd txt :- '3. VERFALLDATUM' | Matched :- 'True'\n",
      "2021-06-07 23:24:11,339 : Heading Extraction gonal-f_clean_ANHANG III.json_b : Validation Failed As Wrong Heading Found | H | CAP |  de | 2 | gonal-f_clean_ANHANG III.json | currHeadId :- '14024' | prevHeadingCurrId :- '' | prevHeadingFoundId :- '14029'\n",
      "2021-06-07 23:24:11,400 : Heading Extraction gonal-f_clean_ANHANG III.json_b : Match Passed | H | CAP |  de | 2 | gonal-f_clean_ANHANG III.json | Doc txt :- '3. VERFALLDATUM' | Qrd txt :- '3. VERFALLDATUM' | Matched :- 'True'\n",
      "2021-06-07 23:24:11,414 : Heading Extraction gonal-f_clean_ANHANG III.json_b : Validation Passed | H | CAP |  de | 2 | gonal-f_clean_ANHANG III.json | currHeadId :- '14030' | prevHeadingCurrId :- '14029' | prevHeadingFoundId :- '14029'\n",
      "2021-06-07 23:24:12,391 : Heading Extraction gonal-f_clean_ANHANG III.json_b : Match Passed : Contains<>|142.86|(56, 95, 86)|0.784| | H | CAP |  de | 2 | gonal-f_clean_ANHANG III.json | Doc txt :- '5.       CHARGENBEZEICHNUNG' | Qrd txt :- '13. CHARGENBEZEICHNUNG<, SPENDER- UND PRODUKTCODE>' | Matched :- 'True'\n",
      "2021-06-07 23:24:12,405 : Heading Extraction gonal-f_clean_ANHANG III.json_b : Validation Failed As Previous Heading Found is not matching | H | CAP |  de | 2 | gonal-f_clean_ANHANG III.json | currHeadId :- '14015' | prevHeadingCurrId :- '14014' | prevHeadingFoundId :- '14030'\n",
      "2021-06-07 23:24:12,529 : Heading Extraction gonal-f_clean_ANHANG III.json_b : Match Passed : Contains<>|138.1|(57, 95, 86)|0.787| | H | CAP |  de | 2 | gonal-f_clean_ANHANG III.json | Doc txt :- '5.       CHARGENBEZEICHNUNG' | Qrd txt :- '4. CHARGENBEZEICHNUNG<, SPENDER- UND PRODUKTCODE>' | Matched :- 'True'\n",
      "2021-06-07 23:24:12,545 : Heading Extraction gonal-f_clean_ANHANG III.json_b : Validation Failed As Wrong Heading Found | H | CAP |  de | 2 | gonal-f_clean_ANHANG III.json | currHeadId :- '14025' | prevHeadingCurrId :- '' | prevHeadingFoundId :- '14030'\n",
      "2021-06-07 23:24:12,604 : Heading Extraction gonal-f_clean_ANHANG III.json_b : Match Passed : Contains<>|138.1|(57, 95, 86)|0.787| | H | CAP |  de | 2 | gonal-f_clean_ANHANG III.json | Doc txt :- '5.       CHARGENBEZEICHNUNG' | Qrd txt :- '4. CHARGENBEZEICHNUNG<, SPENDER- UND PRODUKTCODE>' | Matched :- 'True'\n",
      "2021-06-07 23:24:12,621 : Heading Extraction gonal-f_clean_ANHANG III.json_b : Validation Passed | H | CAP |  de | 2 | gonal-f_clean_ANHANG III.json | currHeadId :- '14031' | prevHeadingCurrId :- '14030' | prevHeadingFoundId :- '14030'\n",
      " EINHEITEN' | Qrd txt :- '5. INHALT NACH GEWICHT, VOLUMEN ODER EINHEITEN' | Matched :- 'True' <=7|2.78|(97, 97, 97)|0.99| | H | CAP |  de | 2 | gonal-f_clean_ANHANG III.json | Doc txt :- '6.       INHALT NACH GEWICHT, VOLUMEN ODER\n",
      "2021-06-07 23:24:13,251 : Heading Extraction gonal-f_clean_ANHANG III.json_b : Validation Passed | H | CAP |  de | 2 | gonal-f_clean_ANHANG III.json | currHeadId :- '14032' | prevHeadingCurrId :- '14031' | prevHeadingFoundId :- '14031'\n",
      "2021-06-07 23:24:13,943 : Heading Extraction gonal-f_clean_ANHANG III.json_b : Match Passed : <=4|5.56|(94, 94, 94)|0.979| | H | CAP |  de | 2 | gonal-f_clean_ANHANG III.json | Doc txt :- '7.       WEITERE ANGABEN' | Qrd txt :- '5. WEITERE ANGABEN' | Matched :- 'True'\n",
      "2021-06-07 23:24:13,957 : Heading Extraction gonal-f_clean_ANHANG III.json_b : Validation Failed As Wrong Heading Found | H | CAP |  de | 2 | gonal-f_clean_ANHANG III.json | currHeadId :- '14026' | prevHeadingCurrId :- '' | prevHeadingFoundId :- '14032'\n",
      "2021-06-07 23:24:14,033 : Heading Extraction gonal-f_clean_ANHANG III.json_b : Match Passed : <=4|5.56|(94, 94, 94)|0.979| | H | CAP |  de | 2 | gonal-f_clean_ANHANG III.json | Doc txt :- '7.       WEITERE ANGABEN' | Qrd txt :- '6. WEITERE ANGABEN' | Matched :- 'True'\n",
      "2021-06-07 23:24:14,046 : Heading Extraction gonal-f_clean_ANHANG III.json_b : Validation Passed | H | CAP |  de | 2 | gonal-f_clean_ANHANG III.json | currHeadId :- '14033' | prevHeadingCurrId :- '14032' | prevHeadingFoundId :- '14032'\n",
      "2021-06-07 23:24:14,418 : Heading Extraction gonal-f_clean_ANHANG III.json_b : Match Passed | H | CAP |  de | 2 | gonal-f_clean_ANHANG III.json | Doc txt :- 'MINDESTANGABEN AUF KLEINEN BEHÄLTNISSEN' | Qrd txt :- 'MINDESTANGABEN AUF KLEINEN BEHÄLTNISSEN' | Matched :- 'True'\n",
      "2021-06-07 23:24:14,427 : Heading Extraction gonal-f_clean_ANHANG III.json_b : (27, 2.0, 'CAP') Validation Passed As Current Heading Is Same As Previous H1 Heading | H | CAP |  de | 2 | gonal-f_clean_ANHANG III.json | currHeadId :- '14027' | prevHeadingCurrId :- '' | prevHeadingFoundId :- '14033'\n"
     ]
    },
    {
     "name": "stderr",
     "output_type": "stream",
     "text": [
      "2021-06-07 23:24:15,336 : Heading Extraction gonal-f_clean_ANHANG III.json_b : Match Passed | H | CAP |  de | 2 | gonal-f_clean_ANHANG III.json | Doc txt :- '1. BEZEICHNUNG DES ARZNEIMITTELS SOWIE ART(EN) DER ANWENDUNG' | Qrd txt :- '1. BEZEICHNUNG DES ARZNEIMITTELS SOWIE ART(EN) DER ANWENDUNG' | Matched :- 'True'\n",
      "2021-06-07 23:24:15,372 : Heading Extraction gonal-f_clean_ANHANG III.json_b : Validation Passed | H | CAP |  de | 2 | gonal-f_clean_ANHANG III.json | currHeadId :- '14028' | prevHeadingCurrId :- '14027' | prevHeadingFoundId :- '14027'\n",
      "2021-06-07 23:24:16,979 : Heading Extraction gonal-f_clean_ANHANG III.json_b : Match Passed | H | CAP |  de | 2 | gonal-f_clean_ANHANG III.json | Doc txt :- '2. HINWEISE ZUR ANWENDUNG' | Qrd txt :- '2. HINWEISE ZUR ANWENDUNG' | Matched :- 'True'\n",
      "2021-06-07 23:24:16,993 : Heading Extraction gonal-f_clean_ANHANG III.json_b : Validation Passed | H | CAP |  de | 2 | gonal-f_clean_ANHANG III.json | currHeadId :- '14029' | prevHeadingCurrId :- '14028' | prevHeadingFoundId :- '14028'\n",
      "2021-06-07 23:24:17,102 : Heading Extraction gonal-f_clean_ANHANG III.json_b : Match Passed : <=4|6.67|(93, 93, 93)|0.974| | H | CAP |  de | 2 | gonal-f_clean_ANHANG III.json | Doc txt :- '3.       VERFALLDATUM' | Qrd txt :- '8. VERFALLDATUM' | Matched :- 'True'\n",
      "2021-06-07 23:24:17,125 : Heading Extraction gonal-f_clean_ANHANG III.json_b : Validation Failed As Previous Heading Found is not matching | H | CAP |  de | 2 | gonal-f_clean_ANHANG III.json | currHeadId :- '14010' | prevHeadingCurrId :- '14009' | prevHeadingFoundId :- '14029'\n",
      "2021-06-07 23:24:17,292 : Heading Extraction gonal-f_clean_ANHANG III.json_b : Match Passed | H | CAP |  de | 2 | gonal-f_clean_ANHANG III.json | Doc txt :- '3. VERFALLDATUM' | Qrd txt :- '3. VERFALLDATUM' | Matched :- 'True'\n",
      "2021-06-07 23:24:17,312 : Heading Extraction gonal-f_clean_ANHANG III.json_b : Validation Failed As Wrong Heading Found | H | CAP |  de | 2 | gonal-f_clean_ANHANG III.json | currHeadId :- '14024' | prevHeadingCurrId :- '' | prevHeadingFoundId :- '14029'\n",
      "2021-06-07 23:24:17,380 : Heading Extraction gonal-f_clean_ANHANG III.json_b : Match Passed | H | CAP |  de | 2 | gonal-f_clean_ANHANG III.json | Doc txt :- '3. VERFALLDATUM' | Qrd txt :- '3. VERFALLDATUM' | Matched :- 'True'\n",
      "2021-06-07 23:24:17,394 : Heading Extraction gonal-f_clean_ANHANG III.json_b : Validation Passed | H | CAP |  de | 2 | gonal-f_clean_ANHANG III.json | currHeadId :- '14030' | prevHeadingCurrId :- '14029' | prevHeadingFoundId :- '14029'\n",
      "2021-06-07 23:24:17,992 : Heading Extraction gonal-f_clean_ANHANG III.json_b : Match Passed : Contains<>|142.86|(56, 95, 86)|0.784| | H | CAP |  de | 2 | gonal-f_clean_ANHANG III.json | Doc txt :- '4.       CHARGENBEZEICHNUNG' | Qrd txt :- '13. CHARGENBEZEICHNUNG<, SPENDER- UND PRODUKTCODE>' | Matched :- 'True'\n",
      "2021-06-07 23:24:18,023 : Heading Extraction gonal-f_clean_ANHANG III.json_b : Validation Failed As Previous Heading Found is not matching | H | CAP |  de | 2 | gonal-f_clean_ANHANG III.json | currHeadId :- '14015' | prevHeadingCurrId :- '14014' | prevHeadingFoundId :- '14030'\n",
      "2021-06-07 23:24:18,198 : Heading Extraction gonal-f_clean_ANHANG III.json_b : Match Passed : Contains<>|133.33|(60, 100, 90)|0.886| | H | CAP |  de | 2 | gonal-f_clean_ANHANG III.json | Doc txt :- '4.       CHARGENBEZEICHNUNG' | Qrd txt :- '4. CHARGENBEZEICHNUNG<, SPENDER- UND PRODUKTCODE>' | Matched :- 'True'\n",
      "2021-06-07 23:24:18,215 : Heading Extraction gonal-f_clean_ANHANG III.json_b : Validation Failed As Wrong Heading Found | H | CAP |  de | 2 | gonal-f_clean_ANHANG III.json | currHeadId :- '14025' | prevHeadingCurrId :- '' | prevHeadingFoundId :- '14030'\n",
      "2021-06-07 23:24:18,291 : Heading Extraction gonal-f_clean_ANHANG III.json_b : Match Passed : Contains<>|133.33|(60, 100, 90)|0.886| | H | CAP |  de | 2 | gonal-f_clean_ANHANG III.json | Doc txt :- '4.       CHARGENBEZEICHNUNG' | Qrd txt :- '4. CHARGENBEZEICHNUNG<, SPENDER- UND PRODUKTCODE>' | Matched :- 'True'\n",
      "2021-06-07 23:24:18,315 : Heading Extraction gonal-f_clean_ANHANG III.json_b : Validation Passed | H | CAP |  de | 2 | gonal-f_clean_ANHANG III.json | currHeadId :- '14031' | prevHeadingCurrId :- '14030' | prevHeadingFoundId :- '14030'\n",
      "2021-06-07 23:24:19,099 : Heading Extraction gonal-f_clean_ANHANG III.json_b : Match Passed | H | CAP |  de | 2 | gonal-f_clean_ANHANG III.json | Doc txt :- '5. INHALT NACH GEWICHT, VOLUMEN ODER EINHEITEN' | Qrd txt :- '5. INHALT NACH GEWICHT, VOLUMEN ODER EINHEITEN' | Matched :- 'True'\n",
      "2021-06-07 23:24:19,115 : Heading Extraction gonal-f_clean_ANHANG III.json_b : Validation Passed | H | CAP |  de | 2 | gonal-f_clean_ANHANG III.json | currHeadId :- '14032' | prevHeadingCurrId :- '14031' | prevHeadingFoundId :- '14031'\n",
      "2021-06-07 23:24:20,148 : Heading Extraction gonal-f_clean_ANHANG III.json_b : Match Passed : <=4|5.56|(94, 94, 94)|0.979| | H | CAP |  de | 2 | gonal-f_clean_ANHANG III.json | Doc txt :- '6.       WEITERE ANGABEN' | Qrd txt :- '5. WEITERE ANGABEN' | Matched :- 'True'\n",
      "2021-06-07 23:24:20,174 : Heading Extraction gonal-f_clean_ANHANG III.json_b : Validation Failed As Wrong Heading Found | H | CAP |  de | 2 | gonal-f_clean_ANHANG III.json | currHeadId :- '14026' | prevHeadingCurrId :- '' | prevHeadingFoundId :- '14032'\n",
      "2021-06-07 23:24:20,281 : Heading Extraction gonal-f_clean_ANHANG III.json_b : Match Passed | H | CAP |  de | 2 | gonal-f_clean_ANHANG III.json | Doc txt :- '6. WEITERE ANGABEN' | Qrd txt :- '6. WEITERE ANGABEN' | Matched :- 'True'\n",
      "2021-06-07 23:24:20,300 : Heading Extraction gonal-f_clean_ANHANG III.json_b : Validation Passed | H | CAP |  de | 2 | gonal-f_clean_ANHANG III.json | currHeadId :- '14033' | prevHeadingCurrId :- '14032' | prevHeadingFoundId :- '14032'\n",
      " DER ÄUSSEREN UMHÜLLUNG' | Qrd txt :- 'ANGABEN <AUF DER ÄUSSEREN UMHÜLLUNG> <UND> <AUF DEM BEHÄLTNIS>' | Matched :- 'True')|0.905| | H | CAP |  de | 2 | gonal-f_clean_ANHANG III.json | Doc txt :- 'ANGABEN AUF\n",
      "2021-06-07 23:24:20,369 : Heading Extraction gonal-f_clean_ANHANG III.json_b : Validation Failed As Wrong Heading Found | H | CAP |  de | 2 | gonal-f_clean_ANHANG III.json | currHeadId :- '14002' | prevHeadingCurrId :- '' | prevHeadingFoundId :- '14033'\n",
      "2021-06-07 23:24:21,121 : Heading Extraction gonal-f_clean_ANHANG III.json_b : End Of Sub Section | H | CAP |  de | 2 | gonal-f_clean_ANHANG III.json\n",
      " DER ÄUSSEREN UMHÜLLUNG' | Qrd txt :- 'ANGABEN <AUF DER ÄUSSEREN UMHÜLLUNG> <UND> <AUF DEM BEHÄLTNIS>' | Matched :- 'True')|0.905| | H | CAP |  de | 2 | gonal-f_clean_ANHANG III.json | Doc txt :- 'ANGABEN AUF\n",
      "2021-06-07 23:24:21,170 : Heading Extraction gonal-f_clean_ANHANG III.json_b : Validation Passed As This The First Heading | H | CAP |  de | 2 | gonal-f_clean_ANHANG III.json | currHeadId :- '14002' | prevHeadingCurrId :- '' | prevHeadingFoundId :- ''\n"
     ]
    },
    {
     "name": "stdout",
     "output_type": "stream",
     "text": [
      "oooooooooooooooooooooooooooooooooooooooo END OF Sub Section oooooooooooooooooooooooooooooooooooooooooooooooooooooooooooo\n"
     ]
    },
    {
     "name": "stderr",
     "output_type": "stream",
     "text": [
      "2021-06-07 23:24:22,064 : Heading Extraction gonal-f_clean_ANHANG III.json_b : Match Passed | H | CAP |  de | 2 | gonal-f_clean_ANHANG III.json | Doc txt :- '1. BEZEICHNUNG DES ARZNEIMITTELS' | Qrd txt :- '1. BEZEICHNUNG DES ARZNEIMITTELS' | Matched :- 'True'\n",
      "2021-06-07 23:24:22,084 : Heading Extraction gonal-f_clean_ANHANG III.json_b : Validation Passed | H | CAP |  de | 2 | gonal-f_clean_ANHANG III.json | currHeadId :- '14003' | prevHeadingCurrId :- '14002' | prevHeadingFoundId :- '14002'\n",
      "2021-06-07 23:24:23,291 : Heading Extraction gonal-f_clean_ANHANG III.json_b : Match Passed | H | CAP |  de | 2 | gonal-f_clean_ANHANG III.json | Doc txt :- '2. WIRKSTOFF(E)' | Qrd txt :- '2. WIRKSTOFF(E)' | Matched :- 'True'\n",
      "2021-06-07 23:24:23,313 : Heading Extraction gonal-f_clean_ANHANG III.json_b : Validation Passed | H | CAP |  de | 2 | gonal-f_clean_ANHANG III.json | currHeadId :- '14004' | prevHeadingCurrId :- '14003' | prevHeadingFoundId :- '14003'\n",
      "2021-06-07 23:24:23,672 : Heading Extraction gonal-f_clean_ANHANG III.json_b : Match Passed | H | CAP |  de | 2 | gonal-f_clean_ANHANG III.json | Doc txt :- '3. SONSTIGE BESTANDTEILE' | Qrd txt :- '3. SONSTIGE BESTANDTEILE' | Matched :- 'True'\n",
      "2021-06-07 23:24:23,692 : Heading Extraction gonal-f_clean_ANHANG III.json_b : Validation Passed | H | CAP |  de | 2 | gonal-f_clean_ANHANG III.json | currHeadId :- '14005' | prevHeadingCurrId :- '14004' | prevHeadingFoundId :- '14004'\n",
      "2021-06-07 23:24:24,894 : Heading Extraction gonal-f_clean_ANHANG III.json_b : Match Passed | H | CAP |  de | 2 | gonal-f_clean_ANHANG III.json | Doc txt :- '4. DARREICHUNGSFORM UND INHALT' | Qrd txt :- '4. DARREICHUNGSFORM UND INHALT' | Matched :- 'True'\n",
      "2021-06-07 23:24:24,914 : Heading Extraction gonal-f_clean_ANHANG III.json_b : Validation Passed | H | CAP |  de | 2 | gonal-f_clean_ANHANG III.json | currHeadId :- '14006' | prevHeadingCurrId :- '14005' | prevHeadingFoundId :- '14005'\n",
      "2021-06-07 23:24:27,289 : Heading Extraction gonal-f_clean_ANHANG III.json_b : Match Passed | H | CAP |  de | 2 | gonal-f_clean_ANHANG III.json | Doc txt :- '5. HINWEISE ZUR UND ART(EN) DER ANWENDUNG' | Qrd txt :- '5. HINWEISE ZUR UND ART(EN) DER ANWENDUNG' | Matched :- 'True'\n",
      "2021-06-07 23:24:27,307 : Heading Extraction gonal-f_clean_ANHANG III.json_b : Validation Passed | H | CAP |  de | 2 | gonal-f_clean_ANHANG III.json | currHeadId :- '14007' | prevHeadingCurrId :- '14006' | prevHeadingFoundId :- '14006'\n",
      "2021-06-07 23:24:28,615 : Heading Extraction gonal-f_clean_ANHANG III.json_b : Match Passed | H | CAP |  de | 2 | gonal-f_clean_ANHANG III.json | Doc txt :- '6. WARNHINWEIS, DASS DAS ARZNEIMITTEL FÜR KINDER UNZUGÄNGLICH AUFZUBEWAHREN IST' | Qrd txt :- '6. WARNHINWEIS, DASS DAS ARZNEIMITTEL FÜR KINDER UNZUGÄNGLICH AUFZUBEWAHREN IST' | Matched :- 'True'\n",
      "2021-06-07 23:24:28,629 : Heading Extraction gonal-f_clean_ANHANG III.json_b : Validation Passed | H | CAP |  de | 2 | gonal-f_clean_ANHANG III.json | currHeadId :- '14008' | prevHeadingCurrId :- '14007' | prevHeadingFoundId :- '14007'\n",
      "2021-06-07 23:24:29,269 : Heading Extraction gonal-f_clean_ANHANG III.json_b : Match Passed | H | CAP |  de | 2 | gonal-f_clean_ANHANG III.json | Doc txt :- '7. WEITERE WARNHINWEISE, FALLS ERFORDERLICH' | Qrd txt :- '7. WEITERE WARNHINWEISE, FALLS ERFORDERLICH' | Matched :- 'True'\n",
      "2021-06-07 23:24:29,284 : Heading Extraction gonal-f_clean_ANHANG III.json_b : Validation Passed | H | CAP |  de | 2 | gonal-f_clean_ANHANG III.json | currHeadId :- '14009' | prevHeadingCurrId :- '14008' | prevHeadingFoundId :- '14008'\n",
      "2021-06-07 23:24:30,191 : Heading Extraction gonal-f_clean_ANHANG III.json_b : Match Passed | H | CAP |  de | 2 | gonal-f_clean_ANHANG III.json | Doc txt :- '8. VERFALLDATUM' | Qrd txt :- '8. VERFALLDATUM' | Matched :- 'True'\n",
      "2021-06-07 23:24:30,204 : Heading Extraction gonal-f_clean_ANHANG III.json_b : Validation Passed | H | CAP |  de | 2 | gonal-f_clean_ANHANG III.json | currHeadId :- '14010' | prevHeadingCurrId :- '14009' | prevHeadingFoundId :- '14009'\n",
      "2021-06-07 23:24:30,630 : Heading Extraction gonal-f_clean_ANHANG III.json_b : Match Passed | H | CAP |  de | 2 | gonal-f_clean_ANHANG III.json | Doc txt :- '9. BESONDERE VORSICHTSMASSNAHMEN FÜR DIE AUFBEWAHRUNG' | Qrd txt :- '9. BESONDERE VORSICHTSMASSNAHMEN FÜR DIE AUFBEWAHRUNG' | Matched :- 'True'\n",
      "2021-06-07 23:24:30,642 : Heading Extraction gonal-f_clean_ANHANG III.json_b : Validation Passed | H | CAP |  de | 2 | gonal-f_clean_ANHANG III.json | currHeadId :- '14011' | prevHeadingCurrId :- '14010' | prevHeadingFoundId :- '14010'\n",
      "2021-06-07 23:24:31,284 : Heading Extraction gonal-f_clean_ANHANG III.json_b : Match Passed | H | CAP |  de | 2 | gonal-f_clean_ANHANG III.json | Doc txt :- '10. GEGEBENENFALLS BESONDERE VORSICHTSMASSNAHMEN FÜR DIE BESEITIGUNG VON NICHT VERWENDETEM ARZNEIMITTEL ODER DAVON STAMMENDEN ABFALLMATERIALIEN' | Qrd txt :- '10. GEGEBENENFALLS BESONDERE VORSICHTSMASSNAHMEN FÜR DIE BESEITIGUNG VON NICHT VERWENDETEM ARZNEIMITTEL ODER DAVON STAMMENDEN ABFALLMATERIALIEN' | Matched :- 'True'\n",
      "2021-06-07 23:24:31,299 : Heading Extraction gonal-f_clean_ANHANG III.json_b : Validation Passed | H | CAP |  de | 2 | gonal-f_clean_ANHANG III.json | currHeadId :- '14012' | prevHeadingCurrId :- '14011' | prevHeadingFoundId :- '14011'\n",
      "2021-06-07 23:24:31,958 : Heading Extraction gonal-f_clean_ANHANG III.json_b : Match Passed | H | CAP |  de | 2 | gonal-f_clean_ANHANG III.json | Doc txt :- '11. NAME UND ANSCHRIFT DES PHARMAZEUTISCHEN UNTERNEHMERS' | Qrd txt :- '11. NAME UND ANSCHRIFT DES PHARMAZEUTISCHEN UNTERNEHMERS' | Matched :- 'True'\n",
      "2021-06-07 23:24:31,972 : Heading Extraction gonal-f_clean_ANHANG III.json_b : Validation Passed | H | CAP |  de | 2 | gonal-f_clean_ANHANG III.json | currHeadId :- '14013' | prevHeadingCurrId :- '14012' | prevHeadingFoundId :- '14012'\n",
      "2021-06-07 23:24:33,301 : Heading Extraction gonal-f_clean_ANHANG III.json_b : Match Passed | H | CAP |  de | 2 | gonal-f_clean_ANHANG III.json | Doc txt :- '12. ZULASSUNGSNUMMER(N)' | Qrd txt :- '12. ZULASSUNGSNUMMER(N)' | Matched :- 'True'\n",
      "2021-06-07 23:24:33,315 : Heading Extraction gonal-f_clean_ANHANG III.json_b : Validation Passed | H | CAP |  de | 2 | gonal-f_clean_ANHANG III.json | currHeadId :- '14014' | prevHeadingCurrId :- '14013' | prevHeadingFoundId :- '14013'\n",
      "2021-06-07 23:24:33,721 : Heading Extraction gonal-f_clean_ANHANG III.json_b : Match Passed : Contains<>|127.27|(61, 100, 90)|0.888| | H | CAP |  de | 2 | gonal-f_clean_ANHANG III.json | Doc txt :- '13.     CHARGENBEZEICHNUNG' | Qrd txt :- '13. CHARGENBEZEICHNUNG<, SPENDER- UND PRODUKTCODE>' | Matched :- 'True'\n",
      "2021-06-07 23:24:33,740 : Heading Extraction gonal-f_clean_ANHANG III.json_b : Validation Passed | H | CAP |  de | 2 | gonal-f_clean_ANHANG III.json | currHeadId :- '14015' | prevHeadingCurrId :- '14014' | prevHeadingFoundId :- '14014'\n",
      "2021-06-07 23:24:34,407 : Heading Extraction gonal-f_clean_ANHANG III.json_b : Match Passed | H | CAP |  de | 2 | gonal-f_clean_ANHANG III.json | Doc txt :- '14. VERKAUFSABGRENZUNG' | Qrd txt :- '14. VERKAUFSABGRENZUNG' | Matched :- 'True'\n",
      "2021-06-07 23:24:34,420 : Heading Extraction gonal-f_clean_ANHANG III.json_b : Validation Passed | H | CAP |  de | 2 | gonal-f_clean_ANHANG III.json | currHeadId :- '14016' | prevHeadingCurrId :- '14015' | prevHeadingFoundId :- '14015'\n",
      "2021-06-07 23:24:34,671 : Heading Extraction gonal-f_clean_ANHANG III.json_b : Match Passed | H | CAP |  de | 2 | gonal-f_clean_ANHANG III.json | Doc txt :- '15. HINWEISE FÜR DEN GEBRAUCH' | Qrd txt :- '15. HINWEISE FÜR DEN GEBRAUCH' | Matched :- 'True'\n",
      "2021-06-07 23:24:34,685 : Heading Extraction gonal-f_clean_ANHANG III.json_b : Validation Passed | H | CAP |  de | 2 | gonal-f_clean_ANHANG III.json | currHeadId :- '14017' | prevHeadingCurrId :- '14016' | prevHeadingFoundId :- '14016'\n",
      " in BLINDENSCHRIFT' | Qrd txt :- '16. ANGABEN IN BLINDENSCHRIFT' | Matched :- 'True' Passed : <=4|6.9|(93, 93, 100)|0.958| | H | CAP |  de | 2 | gonal-f_clean_ANHANG III.json | Doc txt :- '16.     ANGABEN\n",
      "2021-06-07 23:24:34,999 : Heading Extraction gonal-f_clean_ANHANG III.json_b : Validation Passed | H | CAP |  de | 2 | gonal-f_clean_ANHANG III.json | currHeadId :- '14018' | prevHeadingCurrId :- '14017' | prevHeadingFoundId :- '14017'\n"
     ]
    },
    {
     "name": "stderr",
     "output_type": "stream",
     "text": [
      "2021-06-07 23:24:35,010 : Heading Extraction gonal-f_clean_ANHANG III.json_b : Validation Failed By Style | H | CAP |  de | 2 | gonal-f_clean_ANHANG III.json | currHeadId :- '14018' | prevHeadingCurrId :- '' | prevHeadingFoundId :- '14017'\n"
     ]
    },
    {
     "name": "stdout",
     "output_type": "stream",
     "text": [
      "----------------------------------\n",
      "RemovedByStyle\n",
      "----------------------------------\n"
     ]
    },
    {
     "name": "stderr",
     "output_type": "stream",
     "text": [
      "2021-06-07 23:24:35,880 : Heading Extraction gonal-f_clean_ANHANG III.json_b : Match Passed | H | CAP |  de | 2 | gonal-f_clean_ANHANG III.json | Doc txt :- '17. INDIVIDUELLES ERKENNUNGSMERKMAL – 2D-BARCODE' | Qrd txt :- '17. INDIVIDUELLES ERKENNUNGSMERKMAL – 2D-BARCODE' | Matched :- 'True'\n",
      "2021-06-07 23:24:35,895 : Heading Extraction gonal-f_clean_ANHANG III.json_b : Validation Flow Is Broken | H | CAP |  de | 2 | gonal-f_clean_ANHANG III.json | currHeadId :- '14019' | prevHeadingCurrId :- '' | prevHeadingFoundId :- '14017'\n",
      "2021-06-07 23:24:35,911 : Heading Extraction gonal-f_clean_ANHANG III.json_b : Validation Passed | H | CAP |  de | 2 | gonal-f_clean_ANHANG III.json | currHeadId :- '14019' | prevHeadingCurrId :- '14017' | prevHeadingFoundId :- '14017'\n",
      "2021-06-07 23:24:36,736 : Heading Extraction gonal-f_clean_ANHANG III.json_b : Match Passed | H | CAP |  de | 2 | gonal-f_clean_ANHANG III.json | Doc txt :- '18. INDIVIDUELLES ERKENNUNGSMERKMAL – VOM MENSCHEN LESBARES FORMAT' | Qrd txt :- '18. INDIVIDUELLES ERKENNUNGSMERKMAL – VOM MENSCHEN LESBARES FORMAT' | Matched :- 'True'\n",
      "2021-06-07 23:24:36,748 : Heading Extraction gonal-f_clean_ANHANG III.json_b : Validation Passed | H | CAP |  de | 2 | gonal-f_clean_ANHANG III.json | currHeadId :- '14020' | prevHeadingCurrId :- '14019' | prevHeadingFoundId :- '14019'\n",
      "2021-06-07 23:24:37,116 : Heading Extraction gonal-f_clean_ANHANG III.json_b : Match Passed | H | CAP |  de | 2 | gonal-f_clean_ANHANG III.json | Doc txt :- 'MINDESTANGABEN AUF KLEINEN BEHÄLTNISSEN' | Qrd txt :- 'MINDESTANGABEN AUF KLEINEN BEHÄLTNISSEN' | Matched :- 'True'\n",
      "2021-06-07 23:24:37,131 : Heading Extraction gonal-f_clean_ANHANG III.json_b : Validation Flow Is Broken | H | CAP |  de | 2 | gonal-f_clean_ANHANG III.json | currHeadId :- '14027' | prevHeadingCurrId :- '' | prevHeadingFoundId :- '14020'\n",
      "2021-06-07 23:24:37,141 : Heading Extraction gonal-f_clean_ANHANG III.json_b : Validation Passed | H | CAP |  de | 2 | gonal-f_clean_ANHANG III.json | currHeadId :- '14027' | prevHeadingCurrId :- '14020' | prevHeadingFoundId :- '14020'\n",
      "2021-06-07 23:24:38,015 : Heading Extraction gonal-f_clean_ANHANG III.json_b : Match Passed | H | CAP |  de | 2 | gonal-f_clean_ANHANG III.json | Doc txt :- '1. BEZEICHNUNG DES ARZNEIMITTELS SOWIE ART(EN) DER ANWENDUNG' | Qrd txt :- '1. BEZEICHNUNG DES ARZNEIMITTELS SOWIE ART(EN) DER ANWENDUNG' | Matched :- 'True'\n",
      "2021-06-07 23:24:38,027 : Heading Extraction gonal-f_clean_ANHANG III.json_b : Validation Passed | H | CAP |  de | 2 | gonal-f_clean_ANHANG III.json | currHeadId :- '14028' | prevHeadingCurrId :- '14027' | prevHeadingFoundId :- '14027'\n",
      "2021-06-07 23:24:39,103 : Heading Extraction gonal-f_clean_ANHANG III.json_b : Match Passed | H | CAP |  de | 2 | gonal-f_clean_ANHANG III.json | Doc txt :- '2. HINWEISE ZUR ANWENDUNG' | Qrd txt :- '2. HINWEISE ZUR ANWENDUNG' | Matched :- 'True'\n",
      "2021-06-07 23:24:39,114 : Heading Extraction gonal-f_clean_ANHANG III.json_b : Validation Passed | H | CAP |  de | 2 | gonal-f_clean_ANHANG III.json | currHeadId :- '14029' | prevHeadingCurrId :- '14028' | prevHeadingFoundId :- '14028'\n",
      "2021-06-07 23:24:39,204 : Heading Extraction gonal-f_clean_ANHANG III.json_b : Match Passed : <=4|6.67|(93, 93, 93)|0.974| | H | CAP |  de | 2 | gonal-f_clean_ANHANG III.json | Doc txt :- '3.       VERFALLDATUM' | Qrd txt :- '8. VERFALLDATUM' | Matched :- 'True'\n",
      "2021-06-07 23:24:39,215 : Heading Extraction gonal-f_clean_ANHANG III.json_b : Validation Failed As Previous Heading Found is not matching | H | CAP |  de | 2 | gonal-f_clean_ANHANG III.json | currHeadId :- '14010' | prevHeadingCurrId :- '14009' | prevHeadingFoundId :- '14029'\n",
      "2021-06-07 23:24:39,347 : Heading Extraction gonal-f_clean_ANHANG III.json_b : Match Passed | H | CAP |  de | 2 | gonal-f_clean_ANHANG III.json | Doc txt :- '3. VERFALLDATUM' | Qrd txt :- '3. VERFALLDATUM' | Matched :- 'True'\n",
      "2021-06-07 23:24:39,363 : Heading Extraction gonal-f_clean_ANHANG III.json_b : Validation Failed As Wrong Heading Found | H | CAP |  de | 2 | gonal-f_clean_ANHANG III.json | currHeadId :- '14024' | prevHeadingCurrId :- '' | prevHeadingFoundId :- '14029'\n",
      "2021-06-07 23:24:39,417 : Heading Extraction gonal-f_clean_ANHANG III.json_b : Match Passed | H | CAP |  de | 2 | gonal-f_clean_ANHANG III.json | Doc txt :- '3. VERFALLDATUM' | Qrd txt :- '3. VERFALLDATUM' | Matched :- 'True'\n",
      "2021-06-07 23:24:39,431 : Heading Extraction gonal-f_clean_ANHANG III.json_b : Validation Passed | H | CAP |  de | 2 | gonal-f_clean_ANHANG III.json | currHeadId :- '14030' | prevHeadingCurrId :- '14029' | prevHeadingFoundId :- '14029'\n",
      "2021-06-07 23:24:40,400 : Heading Extraction gonal-f_clean_ANHANG III.json_b : Match Passed : Contains<>|142.86|(56, 95, 86)|0.784| | H | CAP |  de | 2 | gonal-f_clean_ANHANG III.json | Doc txt :- '5.       CHARGENBEZEICHNUNG' | Qrd txt :- '13. CHARGENBEZEICHNUNG<, SPENDER- UND PRODUKTCODE>' | Matched :- 'True'\n",
      "2021-06-07 23:24:40,412 : Heading Extraction gonal-f_clean_ANHANG III.json_b : Validation Failed As Previous Heading Found is not matching | H | CAP |  de | 2 | gonal-f_clean_ANHANG III.json | currHeadId :- '14015' | prevHeadingCurrId :- '14014' | prevHeadingFoundId :- '14030'\n",
      "2021-06-07 23:24:40,525 : Heading Extraction gonal-f_clean_ANHANG III.json_b : Match Passed : Contains<>|138.1|(57, 95, 86)|0.787| | H | CAP |  de | 2 | gonal-f_clean_ANHANG III.json | Doc txt :- '5.       CHARGENBEZEICHNUNG' | Qrd txt :- '4. CHARGENBEZEICHNUNG<, SPENDER- UND PRODUKTCODE>' | Matched :- 'True'\n",
      "2021-06-07 23:24:40,541 : Heading Extraction gonal-f_clean_ANHANG III.json_b : Validation Failed As Wrong Heading Found | H | CAP |  de | 2 | gonal-f_clean_ANHANG III.json | currHeadId :- '14025' | prevHeadingCurrId :- '' | prevHeadingFoundId :- '14030'\n",
      "2021-06-07 23:24:40,608 : Heading Extraction gonal-f_clean_ANHANG III.json_b : Match Passed : Contains<>|138.1|(57, 95, 86)|0.787| | H | CAP |  de | 2 | gonal-f_clean_ANHANG III.json | Doc txt :- '5.       CHARGENBEZEICHNUNG' | Qrd txt :- '4. CHARGENBEZEICHNUNG<, SPENDER- UND PRODUKTCODE>' | Matched :- 'True'\n",
      "2021-06-07 23:24:40,626 : Heading Extraction gonal-f_clean_ANHANG III.json_b : Validation Passed | H | CAP |  de | 2 | gonal-f_clean_ANHANG III.json | currHeadId :- '14031' | prevHeadingCurrId :- '14030' | prevHeadingFoundId :- '14030'\n",
      "2021-06-07 23:24:41,203 : Heading Extraction gonal-f_clean_ANHANG III.json_b : Match Passed : <=7|2.78|(97, 97, 97)|0.99| | H | CAP |  de | 2 | gonal-f_clean_ANHANG III.json | Doc txt :- '6.       INHALT NACH GEWICHT, VOLUMEN ODER EINHEITEN' | Qrd txt :- '5. INHALT NACH GEWICHT, VOLUMEN ODER EINHEITEN' | Matched :- 'True'\n",
      "2021-06-07 23:24:41,217 : Heading Extraction gonal-f_clean_ANHANG III.json_b : Validation Passed | H | CAP |  de | 2 | gonal-f_clean_ANHANG III.json | currHeadId :- '14032' | prevHeadingCurrId :- '14031' | prevHeadingFoundId :- '14031'\n",
      "2021-06-07 23:24:41,923 : Heading Extraction gonal-f_clean_ANHANG III.json_b : Match Passed : <=4|5.56|(94, 94, 94)|0.979| | H | CAP |  de | 2 | gonal-f_clean_ANHANG III.json | Doc txt :- '7.       WEITERE ANGABEN' | Qrd txt :- '5. WEITERE ANGABEN' | Matched :- 'True'\n",
      "2021-06-07 23:24:41,938 : Heading Extraction gonal-f_clean_ANHANG III.json_b : Validation Failed As Wrong Heading Found | H | CAP |  de | 2 | gonal-f_clean_ANHANG III.json | currHeadId :- '14026' | prevHeadingCurrId :- '' | prevHeadingFoundId :- '14032'\n",
      "2021-06-07 23:24:42,015 : Heading Extraction gonal-f_clean_ANHANG III.json_b : Match Passed : <=4|5.56|(94, 94, 94)|0.979| | H | CAP |  de | 2 | gonal-f_clean_ANHANG III.json | Doc txt :- '7.       WEITERE ANGABEN' | Qrd txt :- '6. WEITERE ANGABEN' | Matched :- 'True'\n",
      "2021-06-07 23:24:42,029 : Heading Extraction gonal-f_clean_ANHANG III.json_b : Validation Passed | H | CAP |  de | 2 | gonal-f_clean_ANHANG III.json | currHeadId :- '14033' | prevHeadingCurrId :- '14032' | prevHeadingFoundId :- '14032'\n",
      "2021-06-07 23:24:42,416 : Heading Extraction gonal-f_clean_ANHANG III.json_b : Match Passed | H | CAP |  de | 2 | gonal-f_clean_ANHANG III.json | Doc txt :- 'MINDESTANGABEN AUF KLEINEN BEHÄLTNISSEN' | Qrd txt :- 'MINDESTANGABEN AUF KLEINEN BEHÄLTNISSEN' | Matched :- 'True'\n",
      "2021-06-07 23:24:42,426 : Heading Extraction gonal-f_clean_ANHANG III.json_b : (27, 2.0, 'CAP') Validation Passed As Current Heading Is Same As Previous H1 Heading | H | CAP |  de | 2 | gonal-f_clean_ANHANG III.json | currHeadId :- '14027' | prevHeadingCurrId :- '' | prevHeadingFoundId :- '14033'\n"
     ]
    },
    {
     "name": "stderr",
     "output_type": "stream",
     "text": [
      "2021-06-07 23:24:43,247 : Heading Extraction gonal-f_clean_ANHANG III.json_b : Match Passed | H | CAP |  de | 2 | gonal-f_clean_ANHANG III.json | Doc txt :- '1. BEZEICHNUNG DES ARZNEIMITTELS SOWIE ART(EN) DER ANWENDUNG' | Qrd txt :- '1. BEZEICHNUNG DES ARZNEIMITTELS SOWIE ART(EN) DER ANWENDUNG' | Matched :- 'True'\n",
      "2021-06-07 23:24:43,264 : Heading Extraction gonal-f_clean_ANHANG III.json_b : Validation Passed | H | CAP |  de | 2 | gonal-f_clean_ANHANG III.json | currHeadId :- '14028' | prevHeadingCurrId :- '14027' | prevHeadingFoundId :- '14027'\n",
      "2021-06-07 23:24:44,445 : Heading Extraction gonal-f_clean_ANHANG III.json_b : Match Passed | H | CAP |  de | 2 | gonal-f_clean_ANHANG III.json | Doc txt :- '2. HINWEISE ZUR ANWENDUNG' | Qrd txt :- '2. HINWEISE ZUR ANWENDUNG' | Matched :- 'True'\n",
      "2021-06-07 23:24:44,462 : Heading Extraction gonal-f_clean_ANHANG III.json_b : Validation Passed | H | CAP |  de | 2 | gonal-f_clean_ANHANG III.json | currHeadId :- '14029' | prevHeadingCurrId :- '14028' | prevHeadingFoundId :- '14028'\n",
      "2021-06-07 23:24:44,551 : Heading Extraction gonal-f_clean_ANHANG III.json_b : Match Passed : <=4|6.67|(93, 93, 93)|0.974| | H | CAP |  de | 2 | gonal-f_clean_ANHANG III.json | Doc txt :- '3.       VERFALLDATUM' | Qrd txt :- '8. VERFALLDATUM' | Matched :- 'True'\n",
      "2021-06-07 23:24:44,568 : Heading Extraction gonal-f_clean_ANHANG III.json_b : Validation Failed As Previous Heading Found is not matching | H | CAP |  de | 2 | gonal-f_clean_ANHANG III.json | currHeadId :- '14010' | prevHeadingCurrId :- '14009' | prevHeadingFoundId :- '14029'\n",
      "2021-06-07 23:24:44,706 : Heading Extraction gonal-f_clean_ANHANG III.json_b : Match Passed | H | CAP |  de | 2 | gonal-f_clean_ANHANG III.json | Doc txt :- '3. VERFALLDATUM' | Qrd txt :- '3. VERFALLDATUM' | Matched :- 'True'\n",
      "2021-06-07 23:24:44,721 : Heading Extraction gonal-f_clean_ANHANG III.json_b : Validation Failed As Wrong Heading Found | H | CAP |  de | 2 | gonal-f_clean_ANHANG III.json | currHeadId :- '14024' | prevHeadingCurrId :- '' | prevHeadingFoundId :- '14029'\n",
      "2021-06-07 23:24:44,784 : Heading Extraction gonal-f_clean_ANHANG III.json_b : Match Passed | H | CAP |  de | 2 | gonal-f_clean_ANHANG III.json | Doc txt :- '3. VERFALLDATUM' | Qrd txt :- '3. VERFALLDATUM' | Matched :- 'True'\n",
      "2021-06-07 23:24:44,803 : Heading Extraction gonal-f_clean_ANHANG III.json_b : Validation Passed | H | CAP |  de | 2 | gonal-f_clean_ANHANG III.json | currHeadId :- '14030' | prevHeadingCurrId :- '14029' | prevHeadingFoundId :- '14029'\n",
      "2021-06-07 23:24:45,196 : Heading Extraction gonal-f_clean_ANHANG III.json_b : Match Passed : Contains<>|142.86|(56, 95, 86)|0.784| | H | CAP |  de | 2 | gonal-f_clean_ANHANG III.json | Doc txt :- '4.       CHARGENBEZEICHNUNG' | Qrd txt :- '13. CHARGENBEZEICHNUNG<, SPENDER- UND PRODUKTCODE>' | Matched :- 'True'\n",
      "2021-06-07 23:24:45,211 : Heading Extraction gonal-f_clean_ANHANG III.json_b : Validation Failed As Previous Heading Found is not matching | H | CAP |  de | 2 | gonal-f_clean_ANHANG III.json | currHeadId :- '14015' | prevHeadingCurrId :- '14014' | prevHeadingFoundId :- '14030'\n",
      "2021-06-07 23:24:45,322 : Heading Extraction gonal-f_clean_ANHANG III.json_b : Match Passed : Contains<>|133.33|(60, 100, 90)|0.886| | H | CAP |  de | 2 | gonal-f_clean_ANHANG III.json | Doc txt :- '4.       CHARGENBEZEICHNUNG' | Qrd txt :- '4. CHARGENBEZEICHNUNG<, SPENDER- UND PRODUKTCODE>' | Matched :- 'True'\n",
      "2021-06-07 23:24:45,340 : Heading Extraction gonal-f_clean_ANHANG III.json_b : Validation Failed As Wrong Heading Found | H | CAP |  de | 2 | gonal-f_clean_ANHANG III.json | currHeadId :- '14025' | prevHeadingCurrId :- '' | prevHeadingFoundId :- '14030'\n",
      "2021-06-07 23:24:45,419 : Heading Extraction gonal-f_clean_ANHANG III.json_b : Match Passed : Contains<>|133.33|(60, 100, 90)|0.886| | H | CAP |  de | 2 | gonal-f_clean_ANHANG III.json | Doc txt :- '4.       CHARGENBEZEICHNUNG' | Qrd txt :- '4. CHARGENBEZEICHNUNG<, SPENDER- UND PRODUKTCODE>' | Matched :- 'True'\n",
      "2021-06-07 23:24:45,434 : Heading Extraction gonal-f_clean_ANHANG III.json_b : Validation Passed | H | CAP |  de | 2 | gonal-f_clean_ANHANG III.json | currHeadId :- '14031' | prevHeadingCurrId :- '14030' | prevHeadingFoundId :- '14030'\n",
      "2021-06-07 23:24:46,038 : Heading Extraction gonal-f_clean_ANHANG III.json_b : Match Passed | H | CAP |  de | 2 | gonal-f_clean_ANHANG III.json | Doc txt :- '5. INHALT NACH GEWICHT, VOLUMEN ODER EINHEITEN' | Qrd txt :- '5. INHALT NACH GEWICHT, VOLUMEN ODER EINHEITEN' | Matched :- 'True'\n",
      "2021-06-07 23:24:46,052 : Heading Extraction gonal-f_clean_ANHANG III.json_b : Validation Passed | H | CAP |  de | 2 | gonal-f_clean_ANHANG III.json | currHeadId :- '14032' | prevHeadingCurrId :- '14031' | prevHeadingFoundId :- '14031'\n",
      "2021-06-07 23:24:46,642 : Heading Extraction gonal-f_clean_ANHANG III.json_b : Match Passed : <=4|5.56|(94, 94, 94)|0.979| | H | CAP |  de | 2 | gonal-f_clean_ANHANG III.json | Doc txt :- '6.       WEITERE ANGABEN' | Qrd txt :- '5. WEITERE ANGABEN' | Matched :- 'True'\n",
      "2021-06-07 23:24:46,658 : Heading Extraction gonal-f_clean_ANHANG III.json_b : Validation Failed As Wrong Heading Found | H | CAP |  de | 2 | gonal-f_clean_ANHANG III.json | currHeadId :- '14026' | prevHeadingCurrId :- '' | prevHeadingFoundId :- '14032'\n",
      "2021-06-07 23:24:46,734 : Heading Extraction gonal-f_clean_ANHANG III.json_b : Match Passed | H | CAP |  de | 2 | gonal-f_clean_ANHANG III.json | Doc txt :- '6. WEITERE ANGABEN' | Qrd txt :- '6. WEITERE ANGABEN' | Matched :- 'True'\n",
      "2021-06-07 23:24:46,748 : Heading Extraction gonal-f_clean_ANHANG III.json_b : Validation Passed | H | CAP |  de | 2 | gonal-f_clean_ANHANG III.json | currHeadId :- '14033' | prevHeadingCurrId :- '14032' | prevHeadingFoundId :- '14032'\n",
      " DER ÄUSSEREN UMHÜLLUNG' | Qrd txt :- 'ANGABEN <AUF DER ÄUSSEREN UMHÜLLUNG> <UND> <AUF DEM BEHÄLTNIS>' | Matched :- 'True')|0.905| | H | CAP |  de | 2 | gonal-f_clean_ANHANG III.json | Doc txt :- 'ANGABEN AUF\n",
      "2021-06-07 23:24:46,787 : Heading Extraction gonal-f_clean_ANHANG III.json_b : Validation Failed As Wrong Heading Found | H | CAP |  de | 2 | gonal-f_clean_ANHANG III.json | currHeadId :- '14002' | prevHeadingCurrId :- '' | prevHeadingFoundId :- '14033'\n",
      "2021-06-07 23:24:47,362 : Heading Extraction gonal-f_clean_ANHANG III.json_b : End Of Sub Section | H | CAP |  de | 2 | gonal-f_clean_ANHANG III.json\n",
      " DER ÄUSSEREN UMHÜLLUNG' | Qrd txt :- 'ANGABEN <AUF DER ÄUSSEREN UMHÜLLUNG> <UND> <AUF DEM BEHÄLTNIS>' | Matched :- 'True')|0.905| | H | CAP |  de | 2 | gonal-f_clean_ANHANG III.json | Doc txt :- 'ANGABEN AUF\n",
      "2021-06-07 23:24:47,402 : Heading Extraction gonal-f_clean_ANHANG III.json_b : Validation Passed As This The First Heading | H | CAP |  de | 2 | gonal-f_clean_ANHANG III.json | currHeadId :- '14002' | prevHeadingCurrId :- '' | prevHeadingFoundId :- ''\n"
     ]
    },
    {
     "name": "stdout",
     "output_type": "stream",
     "text": [
      "oooooooooooooooooooooooooooooooooooooooo END OF Sub Section oooooooooooooooooooooooooooooooooooooooooooooooooooooooooooo\n"
     ]
    },
    {
     "name": "stderr",
     "output_type": "stream",
     "text": [
      "2021-06-07 23:24:48,173 : Heading Extraction gonal-f_clean_ANHANG III.json_b : Match Passed | H | CAP |  de | 2 | gonal-f_clean_ANHANG III.json | Doc txt :- '1. BEZEICHNUNG DES ARZNEIMITTELS' | Qrd txt :- '1. BEZEICHNUNG DES ARZNEIMITTELS' | Matched :- 'True'\n",
      "2021-06-07 23:24:48,192 : Heading Extraction gonal-f_clean_ANHANG III.json_b : Validation Passed | H | CAP |  de | 2 | gonal-f_clean_ANHANG III.json | currHeadId :- '14003' | prevHeadingCurrId :- '14002' | prevHeadingFoundId :- '14002'\n",
      "2021-06-07 23:24:49,401 : Heading Extraction gonal-f_clean_ANHANG III.json_b : Match Passed | H | CAP |  de | 2 | gonal-f_clean_ANHANG III.json | Doc txt :- '2. WIRKSTOFF(E)' | Qrd txt :- '2. WIRKSTOFF(E)' | Matched :- 'True'\n",
      "2021-06-07 23:24:49,417 : Heading Extraction gonal-f_clean_ANHANG III.json_b : Validation Passed | H | CAP |  de | 2 | gonal-f_clean_ANHANG III.json | currHeadId :- '14004' | prevHeadingCurrId :- '14003' | prevHeadingFoundId :- '14003'\n",
      "2021-06-07 23:24:50,698 : Heading Extraction gonal-f_clean_ANHANG III.json_b : Match Passed | H | CAP |  de | 2 | gonal-f_clean_ANHANG III.json | Doc txt :- '3. SONSTIGE BESTANDTEILE' | Qrd txt :- '3. SONSTIGE BESTANDTEILE' | Matched :- 'True'\n",
      "2021-06-07 23:24:50,713 : Heading Extraction gonal-f_clean_ANHANG III.json_b : Validation Passed | H | CAP |  de | 2 | gonal-f_clean_ANHANG III.json | currHeadId :- '14005' | prevHeadingCurrId :- '14004' | prevHeadingFoundId :- '14004'\n",
      "2021-06-07 23:24:51,160 : Heading Extraction gonal-f_clean_ANHANG III.json_b : Match Passed | H | CAP |  de | 2 | gonal-f_clean_ANHANG III.json | Doc txt :- '4. DARREICHUNGSFORM UND INHALT' | Qrd txt :- '4. DARREICHUNGSFORM UND INHALT' | Matched :- 'True'\n",
      "2021-06-07 23:24:51,176 : Heading Extraction gonal-f_clean_ANHANG III.json_b : Validation Passed | H | CAP |  de | 2 | gonal-f_clean_ANHANG III.json | currHeadId :- '14006' | prevHeadingCurrId :- '14005' | prevHeadingFoundId :- '14005'\n",
      "2021-06-07 23:24:52,298 : Heading Extraction gonal-f_clean_ANHANG III.json_b : Match Passed | H | CAP |  de | 2 | gonal-f_clean_ANHANG III.json | Doc txt :- '5. HINWEISE ZUR UND ART(EN) DER ANWENDUNG' | Qrd txt :- '5. HINWEISE ZUR UND ART(EN) DER ANWENDUNG' | Matched :- 'True'\n",
      "2021-06-07 23:24:52,310 : Heading Extraction gonal-f_clean_ANHANG III.json_b : Validation Passed | H | CAP |  de | 2 | gonal-f_clean_ANHANG III.json | currHeadId :- '14007' | prevHeadingCurrId :- '14006' | prevHeadingFoundId :- '14006'\n",
      "2021-06-07 23:24:53,039 : Heading Extraction gonal-f_clean_ANHANG III.json_b : Match Passed | H | CAP |  de | 2 | gonal-f_clean_ANHANG III.json | Doc txt :- '6. WARNHINWEIS, DASS DAS ARZNEIMITTEL FÜR KINDER UNZUGÄNGLICH AUFZUBEWAHREN IST' | Qrd txt :- '6. WARNHINWEIS, DASS DAS ARZNEIMITTEL FÜR KINDER UNZUGÄNGLICH AUFZUBEWAHREN IST' | Matched :- 'True'\n",
      "2021-06-07 23:24:53,051 : Heading Extraction gonal-f_clean_ANHANG III.json_b : Validation Passed | H | CAP |  de | 2 | gonal-f_clean_ANHANG III.json | currHeadId :- '14008' | prevHeadingCurrId :- '14007' | prevHeadingFoundId :- '14007'\n",
      "2021-06-07 23:24:53,521 : Heading Extraction gonal-f_clean_ANHANG III.json_b : Match Passed | H | CAP |  de | 2 | gonal-f_clean_ANHANG III.json | Doc txt :- '7. WEITERE WARNHINWEISE, FALLS ERFORDERLICH' | Qrd txt :- '7. WEITERE WARNHINWEISE, FALLS ERFORDERLICH' | Matched :- 'True'\n",
      "2021-06-07 23:24:53,533 : Heading Extraction gonal-f_clean_ANHANG III.json_b : Validation Passed | H | CAP |  de | 2 | gonal-f_clean_ANHANG III.json | currHeadId :- '14009' | prevHeadingCurrId :- '14008' | prevHeadingFoundId :- '14008'\n",
      "2021-06-07 23:24:53,625 : Heading Extraction gonal-f_clean_ANHANG III.json_b : Match Passed | H | CAP |  de | 2 | gonal-f_clean_ANHANG III.json | Doc txt :- '8. VERFALLDATUM' | Qrd txt :- '8. VERFALLDATUM' | Matched :- 'True'\n",
      "2021-06-07 23:24:53,645 : Heading Extraction gonal-f_clean_ANHANG III.json_b : Validation Passed | H | CAP |  de | 2 | gonal-f_clean_ANHANG III.json | currHeadId :- '14010' | prevHeadingCurrId :- '14009' | prevHeadingFoundId :- '14009'\n",
      "2021-06-07 23:24:54,026 : Heading Extraction gonal-f_clean_ANHANG III.json_b : Match Passed | H | CAP |  de | 2 | gonal-f_clean_ANHANG III.json | Doc txt :- '9. BESONDERE VORSICHTSMASSNAHMEN FÜR DIE AUFBEWAHRUNG' | Qrd txt :- '9. BESONDERE VORSICHTSMASSNAHMEN FÜR DIE AUFBEWAHRUNG' | Matched :- 'True'\n",
      "2021-06-07 23:24:54,038 : Heading Extraction gonal-f_clean_ANHANG III.json_b : Validation Passed | H | CAP |  de | 2 | gonal-f_clean_ANHANG III.json | currHeadId :- '14011' | prevHeadingCurrId :- '14010' | prevHeadingFoundId :- '14010'\n",
      "2021-06-07 23:24:55,388 : Heading Extraction gonal-f_clean_ANHANG III.json_b : Match Passed | H | CAP |  de | 2 | gonal-f_clean_ANHANG III.json | Doc txt :- '10. GEGEBENENFALLS BESONDERE VORSICHTSMASSNAHMEN FÜR DIE BESEITIGUNG VON NICHT VERWENDETEM ARZNEIMITTEL ODER DAVON STAMMENDEN ABFALLMATERIALIEN' | Qrd txt :- '10. GEGEBENENFALLS BESONDERE VORSICHTSMASSNAHMEN FÜR DIE BESEITIGUNG VON NICHT VERWENDETEM ARZNEIMITTEL ODER DAVON STAMMENDEN ABFALLMATERIALIEN' | Matched :- 'True'\n",
      "2021-06-07 23:24:55,403 : Heading Extraction gonal-f_clean_ANHANG III.json_b : Validation Passed | H | CAP |  de | 2 | gonal-f_clean_ANHANG III.json | currHeadId :- '14012' | prevHeadingCurrId :- '14011' | prevHeadingFoundId :- '14011'\n",
      "2021-06-07 23:24:55,952 : Heading Extraction gonal-f_clean_ANHANG III.json_b : Match Passed | H | CAP |  de | 2 | gonal-f_clean_ANHANG III.json | Doc txt :- '11. NAME UND ANSCHRIFT DES PHARMAZEUTISCHEN UNTERNEHMERS' | Qrd txt :- '11. NAME UND ANSCHRIFT DES PHARMAZEUTISCHEN UNTERNEHMERS' | Matched :- 'True'\n",
      "2021-06-07 23:24:55,967 : Heading Extraction gonal-f_clean_ANHANG III.json_b : Validation Passed | H | CAP |  de | 2 | gonal-f_clean_ANHANG III.json | currHeadId :- '14013' | prevHeadingCurrId :- '14012' | prevHeadingFoundId :- '14012'\n",
      "2021-06-07 23:24:57,304 : Heading Extraction gonal-f_clean_ANHANG III.json_b : Match Passed | H | CAP |  de | 2 | gonal-f_clean_ANHANG III.json | Doc txt :- '12. ZULASSUNGSNUMMER(N)' | Qrd txt :- '12. ZULASSUNGSNUMMER(N)' | Matched :- 'True'\n",
      "2021-06-07 23:24:57,317 : Heading Extraction gonal-f_clean_ANHANG III.json_b : Validation Passed | H | CAP |  de | 2 | gonal-f_clean_ANHANG III.json | currHeadId :- '14014' | prevHeadingCurrId :- '14013' | prevHeadingFoundId :- '14013'\n",
      "2021-06-07 23:24:57,921 : Heading Extraction gonal-f_clean_ANHANG III.json_b : Match Passed : Contains<>|127.27|(61, 100, 90)|0.888| | H | CAP |  de | 2 | gonal-f_clean_ANHANG III.json | Doc txt :- '13.     CHARGENBEZEICHNUNG' | Qrd txt :- '13. CHARGENBEZEICHNUNG<, SPENDER- UND PRODUKTCODE>' | Matched :- 'True'\n",
      "2021-06-07 23:24:57,932 : Heading Extraction gonal-f_clean_ANHANG III.json_b : Validation Passed | H | CAP |  de | 2 | gonal-f_clean_ANHANG III.json | currHeadId :- '14015' | prevHeadingCurrId :- '14014' | prevHeadingFoundId :- '14014'\n",
      "2021-06-07 23:24:58,243 : Heading Extraction gonal-f_clean_ANHANG III.json_b : Match Passed | H | CAP |  de | 2 | gonal-f_clean_ANHANG III.json | Doc txt :- '14. VERKAUFSABGRENZUNG' | Qrd txt :- '14. VERKAUFSABGRENZUNG' | Matched :- 'True'\n",
      "2021-06-07 23:24:58,254 : Heading Extraction gonal-f_clean_ANHANG III.json_b : Validation Passed | H | CAP |  de | 2 | gonal-f_clean_ANHANG III.json | currHeadId :- '14016' | prevHeadingCurrId :- '14015' | prevHeadingFoundId :- '14015'\n",
      "2021-06-07 23:24:58,502 : Heading Extraction gonal-f_clean_ANHANG III.json_b : Match Passed | H | CAP |  de | 2 | gonal-f_clean_ANHANG III.json | Doc txt :- '15. HINWEISE FÜR DEN GEBRAUCH' | Qrd txt :- '15. HINWEISE FÜR DEN GEBRAUCH' | Matched :- 'True'\n",
      "2021-06-07 23:24:58,515 : Heading Extraction gonal-f_clean_ANHANG III.json_b : Validation Passed | H | CAP |  de | 2 | gonal-f_clean_ANHANG III.json | currHeadId :- '14017' | prevHeadingCurrId :- '14016' | prevHeadingFoundId :- '14016'\n",
      " in BLINDENSCHRIFT' | Qrd txt :- '16. ANGABEN IN BLINDENSCHRIFT' | Matched :- 'True' Passed : <=4|6.9|(93, 93, 100)|0.958| | H | CAP |  de | 2 | gonal-f_clean_ANHANG III.json | Doc txt :- '16.     ANGABEN\n",
      "2021-06-07 23:24:58,786 : Heading Extraction gonal-f_clean_ANHANG III.json_b : Validation Passed | H | CAP |  de | 2 | gonal-f_clean_ANHANG III.json | currHeadId :- '14018' | prevHeadingCurrId :- '14017' | prevHeadingFoundId :- '14017'\n"
     ]
    },
    {
     "name": "stderr",
     "output_type": "stream",
     "text": [
      "2021-06-07 23:24:58,794 : Heading Extraction gonal-f_clean_ANHANG III.json_b : Validation Failed By Style | H | CAP |  de | 2 | gonal-f_clean_ANHANG III.json | currHeadId :- '14018' | prevHeadingCurrId :- '' | prevHeadingFoundId :- '14017'\n"
     ]
    },
    {
     "name": "stdout",
     "output_type": "stream",
     "text": [
      "----------------------------------\n",
      "RemovedByStyle\n",
      "----------------------------------\n"
     ]
    },
    {
     "name": "stderr",
     "output_type": "stream",
     "text": [
      "2021-06-07 23:24:59,803 : Heading Extraction gonal-f_clean_ANHANG III.json_b : Match Passed | H | CAP |  de | 2 | gonal-f_clean_ANHANG III.json | Doc txt :- '17. INDIVIDUELLES ERKENNUNGSMERKMAL – 2D-BARCODE' | Qrd txt :- '17. INDIVIDUELLES ERKENNUNGSMERKMAL – 2D-BARCODE' | Matched :- 'True'\n",
      "2021-06-07 23:24:59,819 : Heading Extraction gonal-f_clean_ANHANG III.json_b : Validation Flow Is Broken | H | CAP |  de | 2 | gonal-f_clean_ANHANG III.json | currHeadId :- '14019' | prevHeadingCurrId :- '' | prevHeadingFoundId :- '14017'\n",
      "2021-06-07 23:24:59,829 : Heading Extraction gonal-f_clean_ANHANG III.json_b : Validation Passed | H | CAP |  de | 2 | gonal-f_clean_ANHANG III.json | currHeadId :- '14019' | prevHeadingCurrId :- '14017' | prevHeadingFoundId :- '14017'\n",
      "2021-06-07 23:25:00,622 : Heading Extraction gonal-f_clean_ANHANG III.json_b : Match Passed | H | CAP |  de | 2 | gonal-f_clean_ANHANG III.json | Doc txt :- '18. INDIVIDUELLES ERKENNUNGSMERKMAL – VOM MENSCHEN LESBARES FORMAT' | Qrd txt :- '18. INDIVIDUELLES ERKENNUNGSMERKMAL – VOM MENSCHEN LESBARES FORMAT' | Matched :- 'True'\n",
      "2021-06-07 23:25:00,634 : Heading Extraction gonal-f_clean_ANHANG III.json_b : Validation Passed | H | CAP |  de | 2 | gonal-f_clean_ANHANG III.json | currHeadId :- '14020' | prevHeadingCurrId :- '14019' | prevHeadingFoundId :- '14019'\n",
      " DEM PEN' | Qrd txt :- 'ANGABEN <AUF DER ÄUSSEREN UMHÜLLUNG> <UND> <AUF DEM BEHÄLTNIS>' | Matched :- 'True'4.74|(41, 68, 86)|0.834| | H | CAP |  de | 2 | gonal-f_clean_ANHANG III.json | Doc txt :- 'ANGABEN AUF\n",
      "2021-06-07 23:25:00,671 : Heading Extraction gonal-f_clean_ANHANG III.json_b : Validation Failed Top Heading Found After Bottom Headings | H | CAP |  de | 2 | gonal-f_clean_ANHANG III.json | currHeadId :- '14002' | prevHeadingCurrId :- '' | prevHeadingFoundId :- '14020'\n"
     ]
    },
    {
     "name": "stdout",
     "output_type": "stream",
     "text": [
      "-------------------Here1------------------------\n"
     ]
    },
    {
     "name": "stderr",
     "output_type": "stream",
     "text": [
      "2021-06-07 23:25:01,021 : Heading Extraction gonal-f_clean_ANHANG III.json_b : End Of Sub Section | H | CAP |  de | 2 | gonal-f_clean_ANHANG III.json\n",
      " DEM PEN' | Qrd txt :- 'ANGABEN <AUF DER ÄUSSEREN UMHÜLLUNG> <UND> <AUF DEM BEHÄLTNIS>' | Matched :- 'True'4.74|(41, 68, 86)|0.834| | H | CAP |  de | 2 | gonal-f_clean_ANHANG III.json | Doc txt :- 'ANGABEN AUF\n",
      "2021-06-07 23:25:01,050 : Heading Extraction gonal-f_clean_ANHANG III.json_b : (2, 2.0, 'CAP') Validation Passed As Current Heading Is Same As Previous H1 Heading | H | CAP |  de | 2 | gonal-f_clean_ANHANG III.json | currHeadId :- '14002' | prevHeadingCurrId :- '' | prevHeadingFoundId :- ''\n"
     ]
    },
    {
     "name": "stdout",
     "output_type": "stream",
     "text": [
      "oooooooooooooooooooooooooooooooooooooooo END OF Sub Section oooooooooooooooooooooooooooooooooooooooooooooooooooooooooooo\n"
     ]
    },
    {
     "name": "stderr",
     "output_type": "stream",
     "text": [
      "2021-06-07 23:25:02,089 : Heading Extraction gonal-f_clean_ANHANG III.json_b : Match Passed | H | CAP |  de | 2 | gonal-f_clean_ANHANG III.json | Doc txt :- 'MINDESTANGABEN AUF KLEINEN BEHÄLTNISSEN' | Qrd txt :- 'MINDESTANGABEN AUF KLEINEN BEHÄLTNISSEN' | Matched :- 'True'\n",
      "2021-06-07 23:25:02,104 : Heading Extraction gonal-f_clean_ANHANG III.json_b : Validation Flow Is Broken | H | CAP |  de | 2 | gonal-f_clean_ANHANG III.json | currHeadId :- '14027' | prevHeadingCurrId :- '' | prevHeadingFoundId :- '14002'\n",
      "2021-06-07 23:25:02,112 : Heading Extraction gonal-f_clean_ANHANG III.json_b : Validation Passed | H | CAP |  de | 2 | gonal-f_clean_ANHANG III.json | currHeadId :- '14027' | prevHeadingCurrId :- '14002' | prevHeadingFoundId :- '14002'\n",
      "2021-06-07 23:25:03,018 : Heading Extraction gonal-f_clean_ANHANG III.json_b : Match Passed | H | CAP |  de | 2 | gonal-f_clean_ANHANG III.json | Doc txt :- '1. BEZEICHNUNG DES ARZNEIMITTELS SOWIE ART(EN) DER ANWENDUNG' | Qrd txt :- '1. BEZEICHNUNG DES ARZNEIMITTELS SOWIE ART(EN) DER ANWENDUNG' | Matched :- 'True'\n",
      "2021-06-07 23:25:03,030 : Heading Extraction gonal-f_clean_ANHANG III.json_b : Validation Passed | H | CAP |  de | 2 | gonal-f_clean_ANHANG III.json | currHeadId :- '14028' | prevHeadingCurrId :- '14027' | prevHeadingFoundId :- '14027'\n",
      "2021-06-07 23:25:04,469 : Heading Extraction gonal-f_clean_ANHANG III.json_b : Match Passed | H | CAP |  de | 2 | gonal-f_clean_ANHANG III.json | Doc txt :- '2. HINWEISE ZUR ANWENDUNG' | Qrd txt :- '2. HINWEISE ZUR ANWENDUNG' | Matched :- 'True'\n",
      "2021-06-07 23:25:04,487 : Heading Extraction gonal-f_clean_ANHANG III.json_b : Validation Passed | H | CAP |  de | 2 | gonal-f_clean_ANHANG III.json | currHeadId :- '14029' | prevHeadingCurrId :- '14028' | prevHeadingFoundId :- '14028'\n",
      "2021-06-07 23:25:04,578 : Heading Extraction gonal-f_clean_ANHANG III.json_b : Match Passed : <=4|6.67|(93, 93, 93)|0.974| | H | CAP |  de | 2 | gonal-f_clean_ANHANG III.json | Doc txt :- '3.       VERFALLDATUM' | Qrd txt :- '8. VERFALLDATUM' | Matched :- 'True'\n",
      "2021-06-07 23:25:04,591 : Heading Extraction gonal-f_clean_ANHANG III.json_b : Validation Failed As Wrong Heading Found | H | CAP |  de | 2 | gonal-f_clean_ANHANG III.json | currHeadId :- '14010' | prevHeadingCurrId :- '' | prevHeadingFoundId :- '14029'\n",
      "2021-06-07 23:25:04,724 : Heading Extraction gonal-f_clean_ANHANG III.json_b : Match Passed | H | CAP |  de | 2 | gonal-f_clean_ANHANG III.json | Doc txt :- '3. VERFALLDATUM' | Qrd txt :- '3. VERFALLDATUM' | Matched :- 'True'\n",
      "2021-06-07 23:25:04,738 : Heading Extraction gonal-f_clean_ANHANG III.json_b : Validation Failed As Wrong Heading Found | H | CAP |  de | 2 | gonal-f_clean_ANHANG III.json | currHeadId :- '14024' | prevHeadingCurrId :- '' | prevHeadingFoundId :- '14029'\n",
      "2021-06-07 23:25:04,799 : Heading Extraction gonal-f_clean_ANHANG III.json_b : Match Passed | H | CAP |  de | 2 | gonal-f_clean_ANHANG III.json | Doc txt :- '3. VERFALLDATUM' | Qrd txt :- '3. VERFALLDATUM' | Matched :- 'True'\n",
      "2021-06-07 23:25:04,813 : Heading Extraction gonal-f_clean_ANHANG III.json_b : Validation Passed | H | CAP |  de | 2 | gonal-f_clean_ANHANG III.json | currHeadId :- '14030' | prevHeadingCurrId :- '14029' | prevHeadingFoundId :- '14029'\n",
      "2021-06-07 23:25:05,585 : Heading Extraction gonal-f_clean_ANHANG III.json_b : Match Passed : Contains<>|142.86|(56, 95, 86)|0.784| | H | CAP |  de | 2 | gonal-f_clean_ANHANG III.json | Doc txt :- '4.       CHARGENBEZEICHNUNG' | Qrd txt :- '13. CHARGENBEZEICHNUNG<, SPENDER- UND PRODUKTCODE>' | Matched :- 'True'\n",
      "2021-06-07 23:25:05,600 : Heading Extraction gonal-f_clean_ANHANG III.json_b : Validation Failed As Wrong Heading Found | H | CAP |  de | 2 | gonal-f_clean_ANHANG III.json | currHeadId :- '14015' | prevHeadingCurrId :- '' | prevHeadingFoundId :- '14030'\n",
      "2021-06-07 23:25:05,712 : Heading Extraction gonal-f_clean_ANHANG III.json_b : Match Passed : Contains<>|133.33|(60, 100, 90)|0.886| | H | CAP |  de | 2 | gonal-f_clean_ANHANG III.json | Doc txt :- '4.       CHARGENBEZEICHNUNG' | Qrd txt :- '4. CHARGENBEZEICHNUNG<, SPENDER- UND PRODUKTCODE>' | Matched :- 'True'\n",
      "2021-06-07 23:25:05,730 : Heading Extraction gonal-f_clean_ANHANG III.json_b : Validation Failed As Wrong Heading Found | H | CAP |  de | 2 | gonal-f_clean_ANHANG III.json | currHeadId :- '14025' | prevHeadingCurrId :- '' | prevHeadingFoundId :- '14030'\n",
      "2021-06-07 23:25:05,788 : Heading Extraction gonal-f_clean_ANHANG III.json_b : Match Passed : Contains<>|133.33|(60, 100, 90)|0.886| | H | CAP |  de | 2 | gonal-f_clean_ANHANG III.json | Doc txt :- '4.       CHARGENBEZEICHNUNG' | Qrd txt :- '4. CHARGENBEZEICHNUNG<, SPENDER- UND PRODUKTCODE>' | Matched :- 'True'\n",
      "2021-06-07 23:25:05,802 : Heading Extraction gonal-f_clean_ANHANG III.json_b : Validation Passed | H | CAP |  de | 2 | gonal-f_clean_ANHANG III.json | currHeadId :- '14031' | prevHeadingCurrId :- '14030' | prevHeadingFoundId :- '14030'\n",
      "2021-06-07 23:25:06,370 : Heading Extraction gonal-f_clean_ANHANG III.json_b : Match Passed | H | CAP |  de | 2 | gonal-f_clean_ANHANG III.json | Doc txt :- '5. INHALT NACH GEWICHT, VOLUMEN ODER EINHEITEN' | Qrd txt :- '5. INHALT NACH GEWICHT, VOLUMEN ODER EINHEITEN' | Matched :- 'True'\n",
      "2021-06-07 23:25:06,382 : Heading Extraction gonal-f_clean_ANHANG III.json_b : Validation Passed | H | CAP |  de | 2 | gonal-f_clean_ANHANG III.json | currHeadId :- '14032' | prevHeadingCurrId :- '14031' | prevHeadingFoundId :- '14031'\n",
      "2021-06-07 23:25:06,967 : Heading Extraction gonal-f_clean_ANHANG III.json_b : Match Passed : <=4|5.56|(94, 94, 94)|0.979| | H | CAP |  de | 2 | gonal-f_clean_ANHANG III.json | Doc txt :- '6.       WEITERE ANGABEN' | Qrd txt :- '5. WEITERE ANGABEN' | Matched :- 'True'\n",
      "2021-06-07 23:25:06,981 : Heading Extraction gonal-f_clean_ANHANG III.json_b : Validation Failed As Wrong Heading Found | H | CAP |  de | 2 | gonal-f_clean_ANHANG III.json | currHeadId :- '14026' | prevHeadingCurrId :- '' | prevHeadingFoundId :- '14032'\n",
      "2021-06-07 23:25:07,050 : Heading Extraction gonal-f_clean_ANHANG III.json_b : Match Passed | H | CAP |  de | 2 | gonal-f_clean_ANHANG III.json | Doc txt :- '6. WEITERE ANGABEN' | Qrd txt :- '6. WEITERE ANGABEN' | Matched :- 'True'\n",
      "2021-06-07 23:25:07,067 : Heading Extraction gonal-f_clean_ANHANG III.json_b : Validation Passed | H | CAP |  de | 2 | gonal-f_clean_ANHANG III.json | currHeadId :- '14033' | prevHeadingCurrId :- '14032' | prevHeadingFoundId :- '14032'\n",
      " DER ÄUSSEREN UMHÜLLUNG' | Qrd txt :- 'ANGABEN <AUF DER ÄUSSEREN UMHÜLLUNG> <UND> <AUF DEM BEHÄLTNIS>' | Matched :- 'True')|0.905| | H | CAP |  de | 2 | gonal-f_clean_ANHANG III.json | Doc txt :- 'ANGABEN AUF\n",
      "2021-06-07 23:25:07,109 : Heading Extraction gonal-f_clean_ANHANG III.json_b : Validation Failed As Wrong Heading Found | H | CAP |  de | 2 | gonal-f_clean_ANHANG III.json | currHeadId :- '14002' | prevHeadingCurrId :- '' | prevHeadingFoundId :- '14033'\n",
      "2021-06-07 23:25:07,565 : Heading Extraction gonal-f_clean_ANHANG III.json_b : End Of Sub Section | H | CAP |  de | 2 | gonal-f_clean_ANHANG III.json\n",
      " DER ÄUSSEREN UMHÜLLUNG' | Qrd txt :- 'ANGABEN <AUF DER ÄUSSEREN UMHÜLLUNG> <UND> <AUF DEM BEHÄLTNIS>' | Matched :- 'True')|0.905| | H | CAP |  de | 2 | gonal-f_clean_ANHANG III.json | Doc txt :- 'ANGABEN AUF\n",
      "2021-06-07 23:25:07,599 : Heading Extraction gonal-f_clean_ANHANG III.json_b : Validation Passed As This The First Heading | H | CAP |  de | 2 | gonal-f_clean_ANHANG III.json | currHeadId :- '14002' | prevHeadingCurrId :- '' | prevHeadingFoundId :- ''\n"
     ]
    },
    {
     "name": "stdout",
     "output_type": "stream",
     "text": [
      "oooooooooooooooooooooooooooooooooooooooo END OF Sub Section oooooooooooooooooooooooooooooooooooooooooooooooooooooooooooo\n"
     ]
    },
    {
     "name": "stderr",
     "output_type": "stream",
     "text": [
      "2021-06-07 23:25:08,185 : Heading Extraction gonal-f_clean_ANHANG III.json_b : Match Passed | H | CAP |  de | 2 | gonal-f_clean_ANHANG III.json | Doc txt :- '1. BEZEICHNUNG DES ARZNEIMITTELS' | Qrd txt :- '1. BEZEICHNUNG DES ARZNEIMITTELS' | Matched :- 'True'\n",
      "2021-06-07 23:25:08,199 : Heading Extraction gonal-f_clean_ANHANG III.json_b : Validation Passed | H | CAP |  de | 2 | gonal-f_clean_ANHANG III.json | currHeadId :- '14003' | prevHeadingCurrId :- '14002' | prevHeadingFoundId :- '14002'\n",
      "2021-06-07 23:25:08,981 : Heading Extraction gonal-f_clean_ANHANG III.json_b : Match Passed | H | CAP |  de | 2 | gonal-f_clean_ANHANG III.json | Doc txt :- '2. WIRKSTOFF(E)' | Qrd txt :- '2. WIRKSTOFF(E)' | Matched :- 'True'\n",
      "2021-06-07 23:25:08,997 : Heading Extraction gonal-f_clean_ANHANG III.json_b : Validation Passed | H | CAP |  de | 2 | gonal-f_clean_ANHANG III.json | currHeadId :- '14004' | prevHeadingCurrId :- '14003' | prevHeadingFoundId :- '14003'\n",
      "2021-06-07 23:25:09,888 : Heading Extraction gonal-f_clean_ANHANG III.json_b : Match Passed | H | CAP |  de | 2 | gonal-f_clean_ANHANG III.json | Doc txt :- '3. SONSTIGE BESTANDTEILE' | Qrd txt :- '3. SONSTIGE BESTANDTEILE' | Matched :- 'True'\n",
      "2021-06-07 23:25:09,900 : Heading Extraction gonal-f_clean_ANHANG III.json_b : Validation Passed | H | CAP |  de | 2 | gonal-f_clean_ANHANG III.json | currHeadId :- '14005' | prevHeadingCurrId :- '14004' | prevHeadingFoundId :- '14004'\n",
      "2021-06-07 23:25:10,265 : Heading Extraction gonal-f_clean_ANHANG III.json_b : Match Passed | H | CAP |  de | 2 | gonal-f_clean_ANHANG III.json | Doc txt :- '4. DARREICHUNGSFORM UND INHALT' | Qrd txt :- '4. DARREICHUNGSFORM UND INHALT' | Matched :- 'True'\n",
      "2021-06-07 23:25:10,278 : Heading Extraction gonal-f_clean_ANHANG III.json_b : Validation Passed | H | CAP |  de | 2 | gonal-f_clean_ANHANG III.json | currHeadId :- '14006' | prevHeadingCurrId :- '14005' | prevHeadingFoundId :- '14005'\n",
      "2021-06-07 23:25:11,310 : Heading Extraction gonal-f_clean_ANHANG III.json_b : Match Passed | H | CAP |  de | 2 | gonal-f_clean_ANHANG III.json | Doc txt :- '5. HINWEISE ZUR UND ART(EN) DER ANWENDUNG' | Qrd txt :- '5. HINWEISE ZUR UND ART(EN) DER ANWENDUNG' | Matched :- 'True'\n",
      "2021-06-07 23:25:11,322 : Heading Extraction gonal-f_clean_ANHANG III.json_b : Validation Passed | H | CAP |  de | 2 | gonal-f_clean_ANHANG III.json | currHeadId :- '14007' | prevHeadingCurrId :- '14006' | prevHeadingFoundId :- '14006'\n",
      "2021-06-07 23:25:12,009 : Heading Extraction gonal-f_clean_ANHANG III.json_b : Match Passed | H | CAP |  de | 2 | gonal-f_clean_ANHANG III.json | Doc txt :- '6. WARNHINWEIS, DASS DAS ARZNEIMITTEL FÜR KINDER UNZUGÄNGLICH AUFZUBEWAHREN IST' | Qrd txt :- '6. WARNHINWEIS, DASS DAS ARZNEIMITTEL FÜR KINDER UNZUGÄNGLICH AUFZUBEWAHREN IST' | Matched :- 'True'\n",
      "2021-06-07 23:25:12,021 : Heading Extraction gonal-f_clean_ANHANG III.json_b : Validation Passed | H | CAP |  de | 2 | gonal-f_clean_ANHANG III.json | currHeadId :- '14008' | prevHeadingCurrId :- '14007' | prevHeadingFoundId :- '14007'\n",
      "2021-06-07 23:25:12,494 : Heading Extraction gonal-f_clean_ANHANG III.json_b : Match Passed | H | CAP |  de | 2 | gonal-f_clean_ANHANG III.json | Doc txt :- '7. WEITERE WARNHINWEISE, FALLS ERFORDERLICH' | Qrd txt :- '7. WEITERE WARNHINWEISE, FALLS ERFORDERLICH' | Matched :- 'True'\n",
      "2021-06-07 23:25:12,511 : Heading Extraction gonal-f_clean_ANHANG III.json_b : Validation Passed | H | CAP |  de | 2 | gonal-f_clean_ANHANG III.json | currHeadId :- '14009' | prevHeadingCurrId :- '14008' | prevHeadingFoundId :- '14008'\n",
      "2021-06-07 23:25:12,613 : Heading Extraction gonal-f_clean_ANHANG III.json_b : Match Passed | H | CAP |  de | 2 | gonal-f_clean_ANHANG III.json | Doc txt :- '8. VERFALLDATUM' | Qrd txt :- '8. VERFALLDATUM' | Matched :- 'True'\n",
      "2021-06-07 23:25:12,625 : Heading Extraction gonal-f_clean_ANHANG III.json_b : Validation Passed | H | CAP |  de | 2 | gonal-f_clean_ANHANG III.json | currHeadId :- '14010' | prevHeadingCurrId :- '14009' | prevHeadingFoundId :- '14009'\n",
      "2021-06-07 23:25:13,029 : Heading Extraction gonal-f_clean_ANHANG III.json_b : Match Passed | H | CAP |  de | 2 | gonal-f_clean_ANHANG III.json | Doc txt :- '9. BESONDERE VORSICHTSMASSNAHMEN FÜR DIE AUFBEWAHRUNG' | Qrd txt :- '9. BESONDERE VORSICHTSMASSNAHMEN FÜR DIE AUFBEWAHRUNG' | Matched :- 'True'\n",
      "2021-06-07 23:25:13,048 : Heading Extraction gonal-f_clean_ANHANG III.json_b : Validation Passed | H | CAP |  de | 2 | gonal-f_clean_ANHANG III.json | currHeadId :- '14011' | prevHeadingCurrId :- '14010' | prevHeadingFoundId :- '14010'\n",
      "2021-06-07 23:25:14,715 : Heading Extraction gonal-f_clean_ANHANG III.json_b : Match Passed | H | CAP |  de | 2 | gonal-f_clean_ANHANG III.json | Doc txt :- '10. GEGEBENENFALLS BESONDERE VORSICHTSMASSNAHMEN FÜR DIE BESEITIGUNG VON NICHT VERWENDETEM ARZNEIMITTEL ODER DAVON STAMMENDEN ABFALLMATERIALIEN' | Qrd txt :- '10. GEGEBENENFALLS BESONDERE VORSICHTSMASSNAHMEN FÜR DIE BESEITIGUNG VON NICHT VERWENDETEM ARZNEIMITTEL ODER DAVON STAMMENDEN ABFALLMATERIALIEN' | Matched :- 'True'\n",
      "2021-06-07 23:25:14,728 : Heading Extraction gonal-f_clean_ANHANG III.json_b : Validation Passed | H | CAP |  de | 2 | gonal-f_clean_ANHANG III.json | currHeadId :- '14012' | prevHeadingCurrId :- '14011' | prevHeadingFoundId :- '14011'\n",
      "2021-06-07 23:25:15,329 : Heading Extraction gonal-f_clean_ANHANG III.json_b : Match Passed | H | CAP |  de | 2 | gonal-f_clean_ANHANG III.json | Doc txt :- '11. NAME UND ANSCHRIFT DES PHARMAZEUTISCHEN UNTERNEHMERS' | Qrd txt :- '11. NAME UND ANSCHRIFT DES PHARMAZEUTISCHEN UNTERNEHMERS' | Matched :- 'True'\n",
      "2021-06-07 23:25:15,345 : Heading Extraction gonal-f_clean_ANHANG III.json_b : Validation Passed | H | CAP |  de | 2 | gonal-f_clean_ANHANG III.json | currHeadId :- '14013' | prevHeadingCurrId :- '14012' | prevHeadingFoundId :- '14012'\n",
      "2021-06-07 23:25:17,002 : Heading Extraction gonal-f_clean_ANHANG III.json_b : Match Passed | H | CAP |  de | 2 | gonal-f_clean_ANHANG III.json | Doc txt :- '12. ZULASSUNGSNUMMER(N)' | Qrd txt :- '12. ZULASSUNGSNUMMER(N)' | Matched :- 'True'\n",
      "2021-06-07 23:25:17,017 : Heading Extraction gonal-f_clean_ANHANG III.json_b : Validation Passed | H | CAP |  de | 2 | gonal-f_clean_ANHANG III.json | currHeadId :- '14014' | prevHeadingCurrId :- '14013' | prevHeadingFoundId :- '14013'\n",
      "2021-06-07 23:25:17,716 : Heading Extraction gonal-f_clean_ANHANG III.json_b : Match Passed : Contains<>|127.27|(61, 100, 90)|0.888| | H | CAP |  de | 2 | gonal-f_clean_ANHANG III.json | Doc txt :- '13.     CHARGENBEZEICHNUNG' | Qrd txt :- '13. CHARGENBEZEICHNUNG<, SPENDER- UND PRODUKTCODE>' | Matched :- 'True'\n",
      "2021-06-07 23:25:17,730 : Heading Extraction gonal-f_clean_ANHANG III.json_b : Validation Passed | H | CAP |  de | 2 | gonal-f_clean_ANHANG III.json | currHeadId :- '14015' | prevHeadingCurrId :- '14014' | prevHeadingFoundId :- '14014'\n",
      "2021-06-07 23:25:18,066 : Heading Extraction gonal-f_clean_ANHANG III.json_b : Match Passed | H | CAP |  de | 2 | gonal-f_clean_ANHANG III.json | Doc txt :- '14. VERKAUFSABGRENZUNG' | Qrd txt :- '14. VERKAUFSABGRENZUNG' | Matched :- 'True'\n",
      "2021-06-07 23:25:18,082 : Heading Extraction gonal-f_clean_ANHANG III.json_b : Validation Passed | H | CAP |  de | 2 | gonal-f_clean_ANHANG III.json | currHeadId :- '14016' | prevHeadingCurrId :- '14015' | prevHeadingFoundId :- '14015'\n",
      "2021-06-07 23:25:18,339 : Heading Extraction gonal-f_clean_ANHANG III.json_b : Match Passed | H | CAP |  de | 2 | gonal-f_clean_ANHANG III.json | Doc txt :- '15. HINWEISE FÜR DEN GEBRAUCH' | Qrd txt :- '15. HINWEISE FÜR DEN GEBRAUCH' | Matched :- 'True'\n",
      "2021-06-07 23:25:18,380 : Heading Extraction gonal-f_clean_ANHANG III.json_b : Validation Passed | H | CAP |  de | 2 | gonal-f_clean_ANHANG III.json | currHeadId :- '14017' | prevHeadingCurrId :- '14016' | prevHeadingFoundId :- '14016'\n",
      " BLINDENSCHRIFT' | Qrd txt :- '16. ANGABEN IN BLINDENSCHRIFT' | Matched :- 'True'tch Passed : <=4|6.9|(93, 93, 100)|0.958| | H | CAP |  de | 2 | gonal-f_clean_ANHANG III.json | Doc txt :- '16.     ANGABEN in\n",
      "2021-06-07 23:25:18,679 : Heading Extraction gonal-f_clean_ANHANG III.json_b : Validation Passed | H | CAP |  de | 2 | gonal-f_clean_ANHANG III.json | currHeadId :- '14018' | prevHeadingCurrId :- '14017' | prevHeadingFoundId :- '14017'\n"
     ]
    },
    {
     "name": "stderr",
     "output_type": "stream",
     "text": [
      "2021-06-07 23:25:18,687 : Heading Extraction gonal-f_clean_ANHANG III.json_b : Validation Failed By Style | H | CAP |  de | 2 | gonal-f_clean_ANHANG III.json | currHeadId :- '14018' | prevHeadingCurrId :- '' | prevHeadingFoundId :- '14017'\n"
     ]
    },
    {
     "name": "stdout",
     "output_type": "stream",
     "text": [
      "----------------------------------\n",
      "RemovedByStyle\n",
      "----------------------------------\n"
     ]
    },
    {
     "name": "stderr",
     "output_type": "stream",
     "text": [
      "2021-06-07 23:25:19,641 : Heading Extraction gonal-f_clean_ANHANG III.json_b : Match Passed | H | CAP |  de | 2 | gonal-f_clean_ANHANG III.json | Doc txt :- '17. INDIVIDUELLES ERKENNUNGSMERKMAL – 2D-BARCODE' | Qrd txt :- '17. INDIVIDUELLES ERKENNUNGSMERKMAL – 2D-BARCODE' | Matched :- 'True'\n",
      "2021-06-07 23:25:19,657 : Heading Extraction gonal-f_clean_ANHANG III.json_b : Validation Flow Is Broken | H | CAP |  de | 2 | gonal-f_clean_ANHANG III.json | currHeadId :- '14019' | prevHeadingCurrId :- '' | prevHeadingFoundId :- '14017'\n",
      "2021-06-07 23:25:19,671 : Heading Extraction gonal-f_clean_ANHANG III.json_b : Validation Passed | H | CAP |  de | 2 | gonal-f_clean_ANHANG III.json | currHeadId :- '14019' | prevHeadingCurrId :- '14017' | prevHeadingFoundId :- '14017'\n",
      "2021-06-07 23:25:20,457 : Heading Extraction gonal-f_clean_ANHANG III.json_b : Match Passed | H | CAP |  de | 2 | gonal-f_clean_ANHANG III.json | Doc txt :- '18. INDIVIDUELLES ERKENNUNGSMERKMAL – VOM MENSCHEN LESBARES FORMAT' | Qrd txt :- '18. INDIVIDUELLES ERKENNUNGSMERKMAL – VOM MENSCHEN LESBARES FORMAT' | Matched :- 'True'\n",
      "2021-06-07 23:25:20,470 : Heading Extraction gonal-f_clean_ANHANG III.json_b : Validation Passed | H | CAP |  de | 2 | gonal-f_clean_ANHANG III.json | currHeadId :- '14020' | prevHeadingCurrId :- '14019' | prevHeadingFoundId :- '14019'\n",
      " DEM PEN' | Qrd txt :- 'ANGABEN <AUF DER ÄUSSEREN UMHÜLLUNG> <UND> <AUF DEM BEHÄLTNIS>' | Matched :- 'True'4.74|(41, 68, 86)|0.834| | H | CAP |  de | 2 | gonal-f_clean_ANHANG III.json | Doc txt :- 'ANGABEN AUF\n",
      "2021-06-07 23:25:20,507 : Heading Extraction gonal-f_clean_ANHANG III.json_b : Validation Failed Top Heading Found After Bottom Headings | H | CAP |  de | 2 | gonal-f_clean_ANHANG III.json | currHeadId :- '14002' | prevHeadingCurrId :- '' | prevHeadingFoundId :- '14020'\n"
     ]
    },
    {
     "name": "stdout",
     "output_type": "stream",
     "text": [
      "-------------------Here1------------------------\n"
     ]
    },
    {
     "name": "stderr",
     "output_type": "stream",
     "text": [
      "2021-06-07 23:25:20,844 : Heading Extraction gonal-f_clean_ANHANG III.json_b : End Of Sub Section | H | CAP |  de | 2 | gonal-f_clean_ANHANG III.json\n",
      " DEM PEN' | Qrd txt :- 'ANGABEN <AUF DER ÄUSSEREN UMHÜLLUNG> <UND> <AUF DEM BEHÄLTNIS>' | Matched :- 'True'4.74|(41, 68, 86)|0.834| | H | CAP |  de | 2 | gonal-f_clean_ANHANG III.json | Doc txt :- 'ANGABEN AUF\n",
      "2021-06-07 23:25:20,878 : Heading Extraction gonal-f_clean_ANHANG III.json_b : (2, 2.0, 'CAP') Validation Passed As Current Heading Is Same As Previous H1 Heading | H | CAP |  de | 2 | gonal-f_clean_ANHANG III.json | currHeadId :- '14002' | prevHeadingCurrId :- '' | prevHeadingFoundId :- ''\n"
     ]
    },
    {
     "name": "stdout",
     "output_type": "stream",
     "text": [
      "oooooooooooooooooooooooooooooooooooooooo END OF Sub Section oooooooooooooooooooooooooooooooooooooooooooooooooooooooooooo\n"
     ]
    },
    {
     "name": "stderr",
     "output_type": "stream",
     "text": [
      "2021-06-07 23:25:21,920 : Heading Extraction gonal-f_clean_ANHANG III.json_b : Match Passed | H | CAP |  de | 2 | gonal-f_clean_ANHANG III.json | Doc txt :- 'MINDESTANGABEN AUF KLEINEN BEHÄLTNISSEN' | Qrd txt :- 'MINDESTANGABEN AUF KLEINEN BEHÄLTNISSEN' | Matched :- 'True'\n",
      "2021-06-07 23:25:21,932 : Heading Extraction gonal-f_clean_ANHANG III.json_b : Validation Flow Is Broken | H | CAP |  de | 2 | gonal-f_clean_ANHANG III.json | currHeadId :- '14027' | prevHeadingCurrId :- '' | prevHeadingFoundId :- '14002'\n",
      "2021-06-07 23:25:21,942 : Heading Extraction gonal-f_clean_ANHANG III.json_b : Validation Passed | H | CAP |  de | 2 | gonal-f_clean_ANHANG III.json | currHeadId :- '14027' | prevHeadingCurrId :- '14002' | prevHeadingFoundId :- '14002'\n",
      "2021-06-07 23:25:22,727 : Heading Extraction gonal-f_clean_ANHANG III.json_b : Match Passed | H | CAP |  de | 2 | gonal-f_clean_ANHANG III.json | Doc txt :- '1. BEZEICHNUNG DES ARZNEIMITTELS SOWIE ART(EN) DER ANWENDUNG' | Qrd txt :- '1. BEZEICHNUNG DES ARZNEIMITTELS SOWIE ART(EN) DER ANWENDUNG' | Matched :- 'True'\n",
      "2021-06-07 23:25:22,736 : Heading Extraction gonal-f_clean_ANHANG III.json_b : Validation Passed | H | CAP |  de | 2 | gonal-f_clean_ANHANG III.json | currHeadId :- '14028' | prevHeadingCurrId :- '14027' | prevHeadingFoundId :- '14027'\n",
      "2021-06-07 23:25:24,291 : Heading Extraction gonal-f_clean_ANHANG III.json_b : Match Passed | H | CAP |  de | 2 | gonal-f_clean_ANHANG III.json | Doc txt :- '2. HINWEISE ZUR ANWENDUNG' | Qrd txt :- '2. HINWEISE ZUR ANWENDUNG' | Matched :- 'True'\n",
      "2021-06-07 23:25:24,309 : Heading Extraction gonal-f_clean_ANHANG III.json_b : Validation Passed | H | CAP |  de | 2 | gonal-f_clean_ANHANG III.json | currHeadId :- '14029' | prevHeadingCurrId :- '14028' | prevHeadingFoundId :- '14028'\n",
      "2021-06-07 23:25:24,422 : Heading Extraction gonal-f_clean_ANHANG III.json_b : Match Passed : <=4|6.67|(93, 93, 93)|0.974| | H | CAP |  de | 2 | gonal-f_clean_ANHANG III.json | Doc txt :- '3.       VERFALLDATUM' | Qrd txt :- '8. VERFALLDATUM' | Matched :- 'True'\n",
      "2021-06-07 23:25:24,449 : Heading Extraction gonal-f_clean_ANHANG III.json_b : Validation Failed As Wrong Heading Found | H | CAP |  de | 2 | gonal-f_clean_ANHANG III.json | currHeadId :- '14010' | prevHeadingCurrId :- '' | prevHeadingFoundId :- '14029'\n",
      "2021-06-07 23:25:24,625 : Heading Extraction gonal-f_clean_ANHANG III.json_b : Match Passed | H | CAP |  de | 2 | gonal-f_clean_ANHANG III.json | Doc txt :- '3. VERFALLDATUM' | Qrd txt :- '3. VERFALLDATUM' | Matched :- 'True'\n",
      "2021-06-07 23:25:24,649 : Heading Extraction gonal-f_clean_ANHANG III.json_b : Validation Failed As Wrong Heading Found | H | CAP |  de | 2 | gonal-f_clean_ANHANG III.json | currHeadId :- '14024' | prevHeadingCurrId :- '' | prevHeadingFoundId :- '14029'\n",
      "2021-06-07 23:25:24,720 : Heading Extraction gonal-f_clean_ANHANG III.json_b : Match Passed | H | CAP |  de | 2 | gonal-f_clean_ANHANG III.json | Doc txt :- '3. VERFALLDATUM' | Qrd txt :- '3. VERFALLDATUM' | Matched :- 'True'\n",
      "2021-06-07 23:25:24,737 : Heading Extraction gonal-f_clean_ANHANG III.json_b : Validation Passed | H | CAP |  de | 2 | gonal-f_clean_ANHANG III.json | currHeadId :- '14030' | prevHeadingCurrId :- '14029' | prevHeadingFoundId :- '14029'\n",
      "2021-06-07 23:25:25,654 : Heading Extraction gonal-f_clean_ANHANG III.json_b : Match Passed : Contains<>|142.86|(56, 95, 86)|0.784| | H | CAP |  de | 2 | gonal-f_clean_ANHANG III.json | Doc txt :- '4.       CHARGENBEZEICHNUNG' | Qrd txt :- '13. CHARGENBEZEICHNUNG<, SPENDER- UND PRODUKTCODE>' | Matched :- 'True'\n",
      "2021-06-07 23:25:25,678 : Heading Extraction gonal-f_clean_ANHANG III.json_b : Validation Failed As Wrong Heading Found | H | CAP |  de | 2 | gonal-f_clean_ANHANG III.json | currHeadId :- '14015' | prevHeadingCurrId :- '' | prevHeadingFoundId :- '14030'\n",
      "2021-06-07 23:25:25,798 : Heading Extraction gonal-f_clean_ANHANG III.json_b : Match Passed : Contains<>|133.33|(60, 100, 90)|0.886| | H | CAP |  de | 2 | gonal-f_clean_ANHANG III.json | Doc txt :- '4.       CHARGENBEZEICHNUNG' | Qrd txt :- '4. CHARGENBEZEICHNUNG<, SPENDER- UND PRODUKTCODE>' | Matched :- 'True'\n",
      "2021-06-07 23:25:25,818 : Heading Extraction gonal-f_clean_ANHANG III.json_b : Validation Failed As Wrong Heading Found | H | CAP |  de | 2 | gonal-f_clean_ANHANG III.json | currHeadId :- '14025' | prevHeadingCurrId :- '' | prevHeadingFoundId :- '14030'\n",
      "2021-06-07 23:25:25,897 : Heading Extraction gonal-f_clean_ANHANG III.json_b : Match Passed : Contains<>|133.33|(60, 100, 90)|0.886| | H | CAP |  de | 2 | gonal-f_clean_ANHANG III.json | Doc txt :- '4.       CHARGENBEZEICHNUNG' | Qrd txt :- '4. CHARGENBEZEICHNUNG<, SPENDER- UND PRODUKTCODE>' | Matched :- 'True'\n",
      "2021-06-07 23:25:25,914 : Heading Extraction gonal-f_clean_ANHANG III.json_b : Validation Passed | H | CAP |  de | 2 | gonal-f_clean_ANHANG III.json | currHeadId :- '14031' | prevHeadingCurrId :- '14030' | prevHeadingFoundId :- '14030'\n",
      "2021-06-07 23:25:26,736 : Heading Extraction gonal-f_clean_ANHANG III.json_b : Match Passed | H | CAP |  de | 2 | gonal-f_clean_ANHANG III.json | Doc txt :- '5. INHALT NACH GEWICHT, VOLUMEN ODER EINHEITEN' | Qrd txt :- '5. INHALT NACH GEWICHT, VOLUMEN ODER EINHEITEN' | Matched :- 'True'\n",
      "2021-06-07 23:25:26,749 : Heading Extraction gonal-f_clean_ANHANG III.json_b : Validation Passed | H | CAP |  de | 2 | gonal-f_clean_ANHANG III.json | currHeadId :- '14032' | prevHeadingCurrId :- '14031' | prevHeadingFoundId :- '14031'\n",
      "2021-06-07 23:25:27,422 : Heading Extraction gonal-f_clean_ANHANG III.json_b : Match Passed : <=4|5.56|(94, 94, 94)|0.979| | H | CAP |  de | 2 | gonal-f_clean_ANHANG III.json | Doc txt :- '6.       WEITERE ANGABEN' | Qrd txt :- '5. WEITERE ANGABEN' | Matched :- 'True'\n",
      "2021-06-07 23:25:27,444 : Heading Extraction gonal-f_clean_ANHANG III.json_b : Validation Failed As Wrong Heading Found | H | CAP |  de | 2 | gonal-f_clean_ANHANG III.json | currHeadId :- '14026' | prevHeadingCurrId :- '' | prevHeadingFoundId :- '14032'\n",
      "2021-06-07 23:25:27,518 : Heading Extraction gonal-f_clean_ANHANG III.json_b : Match Passed | H | CAP |  de | 2 | gonal-f_clean_ANHANG III.json | Doc txt :- '6. WEITERE ANGABEN' | Qrd txt :- '6. WEITERE ANGABEN' | Matched :- 'True'\n",
      "2021-06-07 23:25:27,532 : Heading Extraction gonal-f_clean_ANHANG III.json_b : Validation Passed | H | CAP |  de | 2 | gonal-f_clean_ANHANG III.json | currHeadId :- '14033' | prevHeadingCurrId :- '14032' | prevHeadingFoundId :- '14032'\n",
      " DER ÄUSSEREN UMHÜLLUNG' | Qrd txt :- 'ANGABEN <AUF DER ÄUSSEREN UMHÜLLUNG> <UND> <AUF DEM BEHÄLTNIS>' | Matched :- 'True')|0.905| | H | CAP |  de | 2 | gonal-f_clean_ANHANG III.json | Doc txt :- 'ANGABEN AUF\n",
      "2021-06-07 23:25:27,579 : Heading Extraction gonal-f_clean_ANHANG III.json_b : Validation Failed As Wrong Heading Found | H | CAP |  de | 2 | gonal-f_clean_ANHANG III.json | currHeadId :- '14002' | prevHeadingCurrId :- '' | prevHeadingFoundId :- '14033'\n",
      "2021-06-07 23:25:28,034 : Heading Extraction gonal-f_clean_ANHANG III.json_b : End Of Sub Section | H | CAP |  de | 2 | gonal-f_clean_ANHANG III.json\n",
      " DER ÄUSSEREN UMHÜLLUNG' | Qrd txt :- 'ANGABEN <AUF DER ÄUSSEREN UMHÜLLUNG> <UND> <AUF DEM BEHÄLTNIS>' | Matched :- 'True')|0.905| | H | CAP |  de | 2 | gonal-f_clean_ANHANG III.json | Doc txt :- 'ANGABEN AUF\n",
      "2021-06-07 23:25:28,067 : Heading Extraction gonal-f_clean_ANHANG III.json_b : Validation Passed As This The First Heading | H | CAP |  de | 2 | gonal-f_clean_ANHANG III.json | currHeadId :- '14002' | prevHeadingCurrId :- '' | prevHeadingFoundId :- ''\n"
     ]
    },
    {
     "name": "stdout",
     "output_type": "stream",
     "text": [
      "oooooooooooooooooooooooooooooooooooooooo END OF Sub Section oooooooooooooooooooooooooooooooooooooooooooooooooooooooooooo\n"
     ]
    },
    {
     "name": "stderr",
     "output_type": "stream",
     "text": [
      "2021-06-07 23:25:28,610 : Heading Extraction gonal-f_clean_ANHANG III.json_b : Match Passed | H | CAP |  de | 2 | gonal-f_clean_ANHANG III.json | Doc txt :- '1. BEZEICHNUNG DES ARZNEIMITTELS' | Qrd txt :- '1. BEZEICHNUNG DES ARZNEIMITTELS' | Matched :- 'True'\n",
      "2021-06-07 23:25:28,622 : Heading Extraction gonal-f_clean_ANHANG III.json_b : Validation Passed | H | CAP |  de | 2 | gonal-f_clean_ANHANG III.json | currHeadId :- '14003' | prevHeadingCurrId :- '14002' | prevHeadingFoundId :- '14002'\n",
      "2021-06-07 23:25:29,373 : Heading Extraction gonal-f_clean_ANHANG III.json_b : Match Passed | H | CAP |  de | 2 | gonal-f_clean_ANHANG III.json | Doc txt :- '2. WIRKSTOFF(E)' | Qrd txt :- '2. WIRKSTOFF(E)' | Matched :- 'True'\n",
      "2021-06-07 23:25:29,392 : Heading Extraction gonal-f_clean_ANHANG III.json_b : Validation Passed | H | CAP |  de | 2 | gonal-f_clean_ANHANG III.json | currHeadId :- '14004' | prevHeadingCurrId :- '14003' | prevHeadingFoundId :- '14003'\n",
      "2021-06-07 23:25:30,399 : Heading Extraction gonal-f_clean_ANHANG III.json_b : Match Passed | H | CAP |  de | 2 | gonal-f_clean_ANHANG III.json | Doc txt :- '3. SONSTIGE BESTANDTEILE' | Qrd txt :- '3. SONSTIGE BESTANDTEILE' | Matched :- 'True'\n",
      "2021-06-07 23:25:30,414 : Heading Extraction gonal-f_clean_ANHANG III.json_b : Validation Passed | H | CAP |  de | 2 | gonal-f_clean_ANHANG III.json | currHeadId :- '14005' | prevHeadingCurrId :- '14004' | prevHeadingFoundId :- '14004'\n",
      "2021-06-07 23:25:30,871 : Heading Extraction gonal-f_clean_ANHANG III.json_b : Match Passed | H | CAP |  de | 2 | gonal-f_clean_ANHANG III.json | Doc txt :- '4. DARREICHUNGSFORM UND INHALT' | Qrd txt :- '4. DARREICHUNGSFORM UND INHALT' | Matched :- 'True'\n",
      "2021-06-07 23:25:30,890 : Heading Extraction gonal-f_clean_ANHANG III.json_b : Validation Passed | H | CAP |  de | 2 | gonal-f_clean_ANHANG III.json | currHeadId :- '14006' | prevHeadingCurrId :- '14005' | prevHeadingFoundId :- '14005'\n",
      "2021-06-07 23:25:32,169 : Heading Extraction gonal-f_clean_ANHANG III.json_b : Match Passed | H | CAP |  de | 2 | gonal-f_clean_ANHANG III.json | Doc txt :- '5. HINWEISE ZUR UND ART(EN) DER ANWENDUNG' | Qrd txt :- '5. HINWEISE ZUR UND ART(EN) DER ANWENDUNG' | Matched :- 'True'\n",
      "2021-06-07 23:25:32,188 : Heading Extraction gonal-f_clean_ANHANG III.json_b : Validation Passed | H | CAP |  de | 2 | gonal-f_clean_ANHANG III.json | currHeadId :- '14007' | prevHeadingCurrId :- '14006' | prevHeadingFoundId :- '14006'\n",
      "2021-06-07 23:25:33,142 : Heading Extraction gonal-f_clean_ANHANG III.json_b : Match Passed | H | CAP |  de | 2 | gonal-f_clean_ANHANG III.json | Doc txt :- '6. WARNHINWEIS, DASS DAS ARZNEIMITTEL FÜR KINDER UNZUGÄNGLICH AUFZUBEWAHREN IST' | Qrd txt :- '6. WARNHINWEIS, DASS DAS ARZNEIMITTEL FÜR KINDER UNZUGÄNGLICH AUFZUBEWAHREN IST' | Matched :- 'True'\n",
      "2021-06-07 23:25:33,159 : Heading Extraction gonal-f_clean_ANHANG III.json_b : Validation Passed | H | CAP |  de | 2 | gonal-f_clean_ANHANG III.json | currHeadId :- '14008' | prevHeadingCurrId :- '14007' | prevHeadingFoundId :- '14007'\n",
      "2021-06-07 23:25:33,882 : Heading Extraction gonal-f_clean_ANHANG III.json_b : Match Passed | H | CAP |  de | 2 | gonal-f_clean_ANHANG III.json | Doc txt :- '7. WEITERE WARNHINWEISE, FALLS ERFORDERLICH' | Qrd txt :- '7. WEITERE WARNHINWEISE, FALLS ERFORDERLICH' | Matched :- 'True'\n",
      "2021-06-07 23:25:33,936 : Heading Extraction gonal-f_clean_ANHANG III.json_b : Validation Passed | H | CAP |  de | 2 | gonal-f_clean_ANHANG III.json | currHeadId :- '14009' | prevHeadingCurrId :- '14008' | prevHeadingFoundId :- '14008'\n",
      "2021-06-07 23:25:34,072 : Heading Extraction gonal-f_clean_ANHANG III.json_b : Match Passed | H | CAP |  de | 2 | gonal-f_clean_ANHANG III.json | Doc txt :- '8. VERFALLDATUM' | Qrd txt :- '8. VERFALLDATUM' | Matched :- 'True'\n",
      "2021-06-07 23:25:34,096 : Heading Extraction gonal-f_clean_ANHANG III.json_b : Validation Passed | H | CAP |  de | 2 | gonal-f_clean_ANHANG III.json | currHeadId :- '14010' | prevHeadingCurrId :- '14009' | prevHeadingFoundId :- '14009'\n",
      "2021-06-07 23:25:34,694 : Heading Extraction gonal-f_clean_ANHANG III.json_b : Match Passed | H | CAP |  de | 2 | gonal-f_clean_ANHANG III.json | Doc txt :- '9. BESONDERE VORSICHTSMASSNAHMEN FÜR DIE AUFBEWAHRUNG' | Qrd txt :- '9. BESONDERE VORSICHTSMASSNAHMEN FÜR DIE AUFBEWAHRUNG' | Matched :- 'True'\n",
      "2021-06-07 23:25:34,715 : Heading Extraction gonal-f_clean_ANHANG III.json_b : Validation Passed | H | CAP |  de | 2 | gonal-f_clean_ANHANG III.json | currHeadId :- '14011' | prevHeadingCurrId :- '14010' | prevHeadingFoundId :- '14010'\n",
      "2021-06-07 23:25:36,563 : Heading Extraction gonal-f_clean_ANHANG III.json_b : Match Passed | H | CAP |  de | 2 | gonal-f_clean_ANHANG III.json | Doc txt :- '10. GEGEBENENFALLS BESONDERE VORSICHTSMASSNAHMEN FÜR DIE BESEITIGUNG VON NICHT VERWENDETEM ARZNEIMITTEL ODER DAVON STAMMENDEN ABFALLMATERIALIEN' | Qrd txt :- '10. GEGEBENENFALLS BESONDERE VORSICHTSMASSNAHMEN FÜR DIE BESEITIGUNG VON NICHT VERWENDETEM ARZNEIMITTEL ODER DAVON STAMMENDEN ABFALLMATERIALIEN' | Matched :- 'True'\n",
      "2021-06-07 23:25:36,588 : Heading Extraction gonal-f_clean_ANHANG III.json_b : Validation Passed | H | CAP |  de | 2 | gonal-f_clean_ANHANG III.json | currHeadId :- '14012' | prevHeadingCurrId :- '14011' | prevHeadingFoundId :- '14011'\n",
      "2021-06-07 23:25:37,237 : Heading Extraction gonal-f_clean_ANHANG III.json_b : Match Passed | H | CAP |  de | 2 | gonal-f_clean_ANHANG III.json | Doc txt :- '11. NAME UND ANSCHRIFT DES PHARMAZEUTISCHEN UNTERNEHMERS' | Qrd txt :- '11. NAME UND ANSCHRIFT DES PHARMAZEUTISCHEN UNTERNEHMERS' | Matched :- 'True'\n",
      "2021-06-07 23:25:37,252 : Heading Extraction gonal-f_clean_ANHANG III.json_b : Validation Passed | H | CAP |  de | 2 | gonal-f_clean_ANHANG III.json | currHeadId :- '14013' | prevHeadingCurrId :- '14012' | prevHeadingFoundId :- '14012'\n",
      "2021-06-07 23:25:38,970 : Heading Extraction gonal-f_clean_ANHANG III.json_b : Match Passed | H | CAP |  de | 2 | gonal-f_clean_ANHANG III.json | Doc txt :- '12. ZULASSUNGSNUMMER(N)' | Qrd txt :- '12. ZULASSUNGSNUMMER(N)' | Matched :- 'True'\n",
      "2021-06-07 23:25:38,995 : Heading Extraction gonal-f_clean_ANHANG III.json_b : Validation Passed | H | CAP |  de | 2 | gonal-f_clean_ANHANG III.json | currHeadId :- '14014' | prevHeadingCurrId :- '14013' | prevHeadingFoundId :- '14013'\n",
      "2021-06-07 23:25:40,292 : Heading Extraction gonal-f_clean_ANHANG III.json_b : Match Passed : Contains<>|127.27|(61, 100, 90)|0.888| | H | CAP |  de | 2 | gonal-f_clean_ANHANG III.json | Doc txt :- '13.     CHARGENBEZEICHNUNG' | Qrd txt :- '13. CHARGENBEZEICHNUNG<, SPENDER- UND PRODUKTCODE>' | Matched :- 'True'\n",
      "2021-06-07 23:25:40,307 : Heading Extraction gonal-f_clean_ANHANG III.json_b : Validation Passed | H | CAP |  de | 2 | gonal-f_clean_ANHANG III.json | currHeadId :- '14015' | prevHeadingCurrId :- '14014' | prevHeadingFoundId :- '14014'\n",
      "2021-06-07 23:25:40,803 : Heading Extraction gonal-f_clean_ANHANG III.json_b : Match Passed | H | CAP |  de | 2 | gonal-f_clean_ANHANG III.json | Doc txt :- '14. VERKAUFSABGRENZUNG' | Qrd txt :- '14. VERKAUFSABGRENZUNG' | Matched :- 'True'\n",
      "2021-06-07 23:25:40,817 : Heading Extraction gonal-f_clean_ANHANG III.json_b : Validation Passed | H | CAP |  de | 2 | gonal-f_clean_ANHANG III.json | currHeadId :- '14016' | prevHeadingCurrId :- '14015' | prevHeadingFoundId :- '14015'\n",
      "2021-06-07 23:25:41,132 : Heading Extraction gonal-f_clean_ANHANG III.json_b : Match Passed | H | CAP |  de | 2 | gonal-f_clean_ANHANG III.json | Doc txt :- '15. HINWEISE FÜR DEN GEBRAUCH' | Qrd txt :- '15. HINWEISE FÜR DEN GEBRAUCH' | Matched :- 'True'\n",
      "2021-06-07 23:25:41,146 : Heading Extraction gonal-f_clean_ANHANG III.json_b : Validation Passed | H | CAP |  de | 2 | gonal-f_clean_ANHANG III.json | currHeadId :- '14017' | prevHeadingCurrId :- '14016' | prevHeadingFoundId :- '14016'\n",
      " BLINDENSCHRIFT' | Qrd txt :- '16. ANGABEN IN BLINDENSCHRIFT' | Matched :- 'True'tch Passed : <=4|6.9|(93, 93, 100)|0.958| | H | CAP |  de | 2 | gonal-f_clean_ANHANG III.json | Doc txt :- '16.     ANGABEN in\n",
      "2021-06-07 23:25:41,522 : Heading Extraction gonal-f_clean_ANHANG III.json_b : Validation Passed | H | CAP |  de | 2 | gonal-f_clean_ANHANG III.json | currHeadId :- '14018' | prevHeadingCurrId :- '14017' | prevHeadingFoundId :- '14017'\n"
     ]
    },
    {
     "name": "stderr",
     "output_type": "stream",
     "text": [
      "2021-06-07 23:25:41,539 : Heading Extraction gonal-f_clean_ANHANG III.json_b : Validation Failed By Style | H | CAP |  de | 2 | gonal-f_clean_ANHANG III.json | currHeadId :- '14018' | prevHeadingCurrId :- '' | prevHeadingFoundId :- '14017'\n"
     ]
    },
    {
     "name": "stdout",
     "output_type": "stream",
     "text": [
      "----------------------------------\n",
      "RemovedByStyle\n",
      "----------------------------------\n"
     ]
    },
    {
     "name": "stderr",
     "output_type": "stream",
     "text": [
      "2021-06-07 23:25:42,785 : Heading Extraction gonal-f_clean_ANHANG III.json_b : Match Passed | H | CAP |  de | 2 | gonal-f_clean_ANHANG III.json | Doc txt :- '17. INDIVIDUELLES ERKENNUNGSMERKMAL – 2D-BARCODE' | Qrd txt :- '17. INDIVIDUELLES ERKENNUNGSMERKMAL – 2D-BARCODE' | Matched :- 'True'\n",
      "2021-06-07 23:25:42,808 : Heading Extraction gonal-f_clean_ANHANG III.json_b : Validation Flow Is Broken | H | CAP |  de | 2 | gonal-f_clean_ANHANG III.json | currHeadId :- '14019' | prevHeadingCurrId :- '' | prevHeadingFoundId :- '14017'\n",
      "2021-06-07 23:25:42,821 : Heading Extraction gonal-f_clean_ANHANG III.json_b : Validation Passed | H | CAP |  de | 2 | gonal-f_clean_ANHANG III.json | currHeadId :- '14019' | prevHeadingCurrId :- '14017' | prevHeadingFoundId :- '14017'\n",
      "2021-06-07 23:25:43,810 : Heading Extraction gonal-f_clean_ANHANG III.json_b : Match Passed | H | CAP |  de | 2 | gonal-f_clean_ANHANG III.json | Doc txt :- '18. INDIVIDUELLES ERKENNUNGSMERKMAL – VOM MENSCHEN LESBARES FORMAT' | Qrd txt :- '18. INDIVIDUELLES ERKENNUNGSMERKMAL – VOM MENSCHEN LESBARES FORMAT' | Matched :- 'True'\n",
      "2021-06-07 23:25:43,828 : Heading Extraction gonal-f_clean_ANHANG III.json_b : Validation Passed | H | CAP |  de | 2 | gonal-f_clean_ANHANG III.json | currHeadId :- '14020' | prevHeadingCurrId :- '14019' | prevHeadingFoundId :- '14019'\n",
      " DEM PEN' | Qrd txt :- 'ANGABEN <AUF DER ÄUSSEREN UMHÜLLUNG> <UND> <AUF DEM BEHÄLTNIS>' | Matched :- 'True'4.74|(41, 68, 86)|0.834| | H | CAP |  de | 2 | gonal-f_clean_ANHANG III.json | Doc txt :- 'ANGABEN AUF\n",
      "2021-06-07 23:25:43,884 : Heading Extraction gonal-f_clean_ANHANG III.json_b : Validation Failed Top Heading Found After Bottom Headings | H | CAP |  de | 2 | gonal-f_clean_ANHANG III.json | currHeadId :- '14002' | prevHeadingCurrId :- '' | prevHeadingFoundId :- '14020'\n"
     ]
    },
    {
     "name": "stdout",
     "output_type": "stream",
     "text": [
      "-------------------Here1------------------------\n"
     ]
    },
    {
     "name": "stderr",
     "output_type": "stream",
     "text": [
      "2021-06-07 23:25:44,329 : Heading Extraction gonal-f_clean_ANHANG III.json_b : End Of Sub Section | H | CAP |  de | 2 | gonal-f_clean_ANHANG III.json\n",
      " DEM PEN' | Qrd txt :- 'ANGABEN <AUF DER ÄUSSEREN UMHÜLLUNG> <UND> <AUF DEM BEHÄLTNIS>' | Matched :- 'True'4.74|(41, 68, 86)|0.834| | H | CAP |  de | 2 | gonal-f_clean_ANHANG III.json | Doc txt :- 'ANGABEN AUF\n",
      "2021-06-07 23:25:44,365 : Heading Extraction gonal-f_clean_ANHANG III.json_b : (2, 2.0, 'CAP') Validation Passed As Current Heading Is Same As Previous H1 Heading | H | CAP |  de | 2 | gonal-f_clean_ANHANG III.json | currHeadId :- '14002' | prevHeadingCurrId :- '' | prevHeadingFoundId :- ''\n"
     ]
    },
    {
     "name": "stdout",
     "output_type": "stream",
     "text": [
      "oooooooooooooooooooooooooooooooooooooooo END OF Sub Section oooooooooooooooooooooooooooooooooooooooooooooooooooooooooooo\n"
     ]
    },
    {
     "name": "stderr",
     "output_type": "stream",
     "text": [
      "2021-06-07 23:25:45,617 : Heading Extraction gonal-f_clean_ANHANG III.json_b : Match Passed | H | CAP |  de | 2 | gonal-f_clean_ANHANG III.json | Doc txt :- 'MINDESTANGABEN AUF KLEINEN BEHÄLTNISSEN' | Qrd txt :- 'MINDESTANGABEN AUF KLEINEN BEHÄLTNISSEN' | Matched :- 'True'\n",
      "2021-06-07 23:25:45,634 : Heading Extraction gonal-f_clean_ANHANG III.json_b : Validation Flow Is Broken | H | CAP |  de | 2 | gonal-f_clean_ANHANG III.json | currHeadId :- '14027' | prevHeadingCurrId :- '' | prevHeadingFoundId :- '14002'\n",
      "2021-06-07 23:25:45,644 : Heading Extraction gonal-f_clean_ANHANG III.json_b : Validation Passed | H | CAP |  de | 2 | gonal-f_clean_ANHANG III.json | currHeadId :- '14027' | prevHeadingCurrId :- '14002' | prevHeadingFoundId :- '14002'\n",
      "2021-06-07 23:25:46,430 : Heading Extraction gonal-f_clean_ANHANG III.json_b : Match Passed | H | CAP |  de | 2 | gonal-f_clean_ANHANG III.json | Doc txt :- '1. BEZEICHNUNG DES ARZNEIMITTELS SOWIE ART(EN) DER ANWENDUNG' | Qrd txt :- '1. BEZEICHNUNG DES ARZNEIMITTELS SOWIE ART(EN) DER ANWENDUNG' | Matched :- 'True'\n",
      "2021-06-07 23:25:46,449 : Heading Extraction gonal-f_clean_ANHANG III.json_b : Validation Passed | H | CAP |  de | 2 | gonal-f_clean_ANHANG III.json | currHeadId :- '14028' | prevHeadingCurrId :- '14027' | prevHeadingFoundId :- '14027'\n",
      "2021-06-07 23:25:47,826 : Heading Extraction gonal-f_clean_ANHANG III.json_b : Match Passed | H | CAP |  de | 2 | gonal-f_clean_ANHANG III.json | Doc txt :- '2. HINWEISE ZUR ANWENDUNG' | Qrd txt :- '2. HINWEISE ZUR ANWENDUNG' | Matched :- 'True'\n",
      "2021-06-07 23:25:47,840 : Heading Extraction gonal-f_clean_ANHANG III.json_b : Validation Passed | H | CAP |  de | 2 | gonal-f_clean_ANHANG III.json | currHeadId :- '14029' | prevHeadingCurrId :- '14028' | prevHeadingFoundId :- '14028'\n",
      "2021-06-07 23:25:47,923 : Heading Extraction gonal-f_clean_ANHANG III.json_b : Match Passed : <=4|6.67|(93, 93, 93)|0.974| | H | CAP |  de | 2 | gonal-f_clean_ANHANG III.json | Doc txt :- '3.       VERFALLDATUM' | Qrd txt :- '8. VERFALLDATUM' | Matched :- 'True'\n",
      "2021-06-07 23:25:47,944 : Heading Extraction gonal-f_clean_ANHANG III.json_b : Validation Failed As Wrong Heading Found | H | CAP |  de | 2 | gonal-f_clean_ANHANG III.json | currHeadId :- '14010' | prevHeadingCurrId :- '' | prevHeadingFoundId :- '14029'\n",
      "2021-06-07 23:25:48,080 : Heading Extraction gonal-f_clean_ANHANG III.json_b : Match Passed | H | CAP |  de | 2 | gonal-f_clean_ANHANG III.json | Doc txt :- '3. VERFALLDATUM' | Qrd txt :- '3. VERFALLDATUM' | Matched :- 'True'\n",
      "2021-06-07 23:25:48,095 : Heading Extraction gonal-f_clean_ANHANG III.json_b : Validation Failed As Wrong Heading Found | H | CAP |  de | 2 | gonal-f_clean_ANHANG III.json | currHeadId :- '14024' | prevHeadingCurrId :- '' | prevHeadingFoundId :- '14029'\n",
      "2021-06-07 23:25:48,152 : Heading Extraction gonal-f_clean_ANHANG III.json_b : Match Passed | H | CAP |  de | 2 | gonal-f_clean_ANHANG III.json | Doc txt :- '3. VERFALLDATUM' | Qrd txt :- '3. VERFALLDATUM' | Matched :- 'True'\n",
      "2021-06-07 23:25:48,165 : Heading Extraction gonal-f_clean_ANHANG III.json_b : Validation Passed | H | CAP |  de | 2 | gonal-f_clean_ANHANG III.json | currHeadId :- '14030' | prevHeadingCurrId :- '14029' | prevHeadingFoundId :- '14029'\n",
      "2021-06-07 23:25:48,975 : Heading Extraction gonal-f_clean_ANHANG III.json_b : Match Passed : Contains<>|142.86|(56, 95, 86)|0.784| | H | CAP |  de | 2 | gonal-f_clean_ANHANG III.json | Doc txt :- '4.       CHARGENBEZEICHNUNG' | Qrd txt :- '13. CHARGENBEZEICHNUNG<, SPENDER- UND PRODUKTCODE>' | Matched :- 'True'\n",
      "2021-06-07 23:25:48,987 : Heading Extraction gonal-f_clean_ANHANG III.json_b : Validation Failed As Wrong Heading Found | H | CAP |  de | 2 | gonal-f_clean_ANHANG III.json | currHeadId :- '14015' | prevHeadingCurrId :- '' | prevHeadingFoundId :- '14030'\n",
      "2021-06-07 23:25:49,085 : Heading Extraction gonal-f_clean_ANHANG III.json_b : Match Passed : Contains<>|133.33|(60, 100, 90)|0.886| | H | CAP |  de | 2 | gonal-f_clean_ANHANG III.json | Doc txt :- '4.       CHARGENBEZEICHNUNG' | Qrd txt :- '4. CHARGENBEZEICHNUNG<, SPENDER- UND PRODUKTCODE>' | Matched :- 'True'\n",
      "2021-06-07 23:25:49,100 : Heading Extraction gonal-f_clean_ANHANG III.json_b : Validation Failed As Wrong Heading Found | H | CAP |  de | 2 | gonal-f_clean_ANHANG III.json | currHeadId :- '14025' | prevHeadingCurrId :- '' | prevHeadingFoundId :- '14030'\n",
      "2021-06-07 23:25:49,156 : Heading Extraction gonal-f_clean_ANHANG III.json_b : Match Passed : Contains<>|133.33|(60, 100, 90)|0.886| | H | CAP |  de | 2 | gonal-f_clean_ANHANG III.json | Doc txt :- '4.       CHARGENBEZEICHNUNG' | Qrd txt :- '4. CHARGENBEZEICHNUNG<, SPENDER- UND PRODUKTCODE>' | Matched :- 'True'\n",
      "2021-06-07 23:25:49,173 : Heading Extraction gonal-f_clean_ANHANG III.json_b : Validation Passed | H | CAP |  de | 2 | gonal-f_clean_ANHANG III.json | currHeadId :- '14031' | prevHeadingCurrId :- '14030' | prevHeadingFoundId :- '14030'\n",
      "2021-06-07 23:25:49,785 : Heading Extraction gonal-f_clean_ANHANG III.json_b : Match Passed | H | CAP |  de | 2 | gonal-f_clean_ANHANG III.json | Doc txt :- '5. INHALT NACH GEWICHT, VOLUMEN ODER EINHEITEN' | Qrd txt :- '5. INHALT NACH GEWICHT, VOLUMEN ODER EINHEITEN' | Matched :- 'True'\n",
      "2021-06-07 23:25:49,800 : Heading Extraction gonal-f_clean_ANHANG III.json_b : Validation Passed | H | CAP |  de | 2 | gonal-f_clean_ANHANG III.json | currHeadId :- '14032' | prevHeadingCurrId :- '14031' | prevHeadingFoundId :- '14031'\n",
      "2021-06-07 23:25:50,379 : Heading Extraction gonal-f_clean_ANHANG III.json_b : Match Passed : <=4|5.56|(94, 94, 94)|0.979| | H | CAP |  de | 2 | gonal-f_clean_ANHANG III.json | Doc txt :- '6.       WEITERE ANGABEN' | Qrd txt :- '5. WEITERE ANGABEN' | Matched :- 'True'\n",
      "2021-06-07 23:25:50,396 : Heading Extraction gonal-f_clean_ANHANG III.json_b : Validation Failed As Wrong Heading Found | H | CAP |  de | 2 | gonal-f_clean_ANHANG III.json | currHeadId :- '14026' | prevHeadingCurrId :- '' | prevHeadingFoundId :- '14032'\n",
      "2021-06-07 23:25:50,460 : Heading Extraction gonal-f_clean_ANHANG III.json_b : Match Passed | H | CAP |  de | 2 | gonal-f_clean_ANHANG III.json | Doc txt :- '6. WEITERE ANGABEN' | Qrd txt :- '6. WEITERE ANGABEN' | Matched :- 'True'\n",
      "2021-06-07 23:25:50,478 : Heading Extraction gonal-f_clean_ANHANG III.json_b : Validation Passed | H | CAP |  de | 2 | gonal-f_clean_ANHANG III.json | currHeadId :- '14033' | prevHeadingCurrId :- '14032' | prevHeadingFoundId :- '14032'\n",
      " DER ÄUSSEREN UMHÜLLUNG' | Qrd txt :- 'ANGABEN <AUF DER ÄUSSEREN UMHÜLLUNG> <UND> <AUF DEM BEHÄLTNIS>' | Matched :- 'True')|0.905| | H | CAP |  de | 2 | gonal-f_clean_ANHANG III.json | Doc txt :- 'ANGABEN AUF\n",
      "2021-06-07 23:25:50,517 : Heading Extraction gonal-f_clean_ANHANG III.json_b : Validation Failed As Wrong Heading Found | H | CAP |  de | 2 | gonal-f_clean_ANHANG III.json | currHeadId :- '14002' | prevHeadingCurrId :- '' | prevHeadingFoundId :- '14033'\n",
      "2021-06-07 23:25:50,979 : Heading Extraction gonal-f_clean_ANHANG III.json_b : End Of Sub Section | H | CAP |  de | 2 | gonal-f_clean_ANHANG III.json\n",
      " DER ÄUSSEREN UMHÜLLUNG' | Qrd txt :- 'ANGABEN <AUF DER ÄUSSEREN UMHÜLLUNG> <UND> <AUF DEM BEHÄLTNIS>' | Matched :- 'True')|0.905| | H | CAP |  de | 2 | gonal-f_clean_ANHANG III.json | Doc txt :- 'ANGABEN AUF\n",
      "2021-06-07 23:25:51,019 : Heading Extraction gonal-f_clean_ANHANG III.json_b : Validation Passed As This The First Heading | H | CAP |  de | 2 | gonal-f_clean_ANHANG III.json | currHeadId :- '14002' | prevHeadingCurrId :- '' | prevHeadingFoundId :- ''\n"
     ]
    },
    {
     "name": "stdout",
     "output_type": "stream",
     "text": [
      "oooooooooooooooooooooooooooooooooooooooo END OF Sub Section oooooooooooooooooooooooooooooooooooooooooooooooooooooooooooo\n"
     ]
    },
    {
     "name": "stderr",
     "output_type": "stream",
     "text": [
      "2021-06-07 23:25:51,542 : Heading Extraction gonal-f_clean_ANHANG III.json_b : Match Passed | H | CAP |  de | 2 | gonal-f_clean_ANHANG III.json | Doc txt :- '1. BEZEICHNUNG DES ARZNEIMITTELS' | Qrd txt :- '1. BEZEICHNUNG DES ARZNEIMITTELS' | Matched :- 'True'\n",
      "2021-06-07 23:25:51,553 : Heading Extraction gonal-f_clean_ANHANG III.json_b : Validation Passed | H | CAP |  de | 2 | gonal-f_clean_ANHANG III.json | currHeadId :- '14003' | prevHeadingCurrId :- '14002' | prevHeadingFoundId :- '14002'\n",
      "2021-06-07 23:25:52,289 : Heading Extraction gonal-f_clean_ANHANG III.json_b : Match Passed | H | CAP |  de | 2 | gonal-f_clean_ANHANG III.json | Doc txt :- '2. WIRKSTOFF(E)' | Qrd txt :- '2. WIRKSTOFF(E)' | Matched :- 'True'\n",
      "2021-06-07 23:25:52,301 : Heading Extraction gonal-f_clean_ANHANG III.json_b : Validation Passed | H | CAP |  de | 2 | gonal-f_clean_ANHANG III.json | currHeadId :- '14004' | prevHeadingCurrId :- '14003' | prevHeadingFoundId :- '14003'\n",
      "2021-06-07 23:25:53,228 : Heading Extraction gonal-f_clean_ANHANG III.json_b : Match Passed | H | CAP |  de | 2 | gonal-f_clean_ANHANG III.json | Doc txt :- '3. SONSTIGE BESTANDTEILE' | Qrd txt :- '3. SONSTIGE BESTANDTEILE' | Matched :- 'True'\n",
      "2021-06-07 23:25:53,241 : Heading Extraction gonal-f_clean_ANHANG III.json_b : Validation Passed | H | CAP |  de | 2 | gonal-f_clean_ANHANG III.json | currHeadId :- '14005' | prevHeadingCurrId :- '14004' | prevHeadingFoundId :- '14004'\n",
      "2021-06-07 23:25:53,635 : Heading Extraction gonal-f_clean_ANHANG III.json_b : Match Passed | H | CAP |  de | 2 | gonal-f_clean_ANHANG III.json | Doc txt :- '4. DARREICHUNGSFORM UND INHALT' | Qrd txt :- '4. DARREICHUNGSFORM UND INHALT' | Matched :- 'True'\n",
      "2021-06-07 23:25:53,653 : Heading Extraction gonal-f_clean_ANHANG III.json_b : Validation Passed | H | CAP |  de | 2 | gonal-f_clean_ANHANG III.json | currHeadId :- '14006' | prevHeadingCurrId :- '14005' | prevHeadingFoundId :- '14005'\n",
      "2021-06-07 23:25:54,737 : Heading Extraction gonal-f_clean_ANHANG III.json_b : Match Passed | H | CAP |  de | 2 | gonal-f_clean_ANHANG III.json | Doc txt :- '5. HINWEISE ZUR UND ART(EN) DER ANWENDUNG' | Qrd txt :- '5. HINWEISE ZUR UND ART(EN) DER ANWENDUNG' | Matched :- 'True'\n",
      "2021-06-07 23:25:54,748 : Heading Extraction gonal-f_clean_ANHANG III.json_b : Validation Passed | H | CAP |  de | 2 | gonal-f_clean_ANHANG III.json | currHeadId :- '14007' | prevHeadingCurrId :- '14006' | prevHeadingFoundId :- '14006'\n",
      "2021-06-07 23:25:55,415 : Heading Extraction gonal-f_clean_ANHANG III.json_b : Match Passed | H | CAP |  de | 2 | gonal-f_clean_ANHANG III.json | Doc txt :- '6. WARNHINWEIS, DASS DAS ARZNEIMITTEL FÜR KINDER UNZUGÄNGLICH AUFZUBEWAHREN IST' | Qrd txt :- '6. WARNHINWEIS, DASS DAS ARZNEIMITTEL FÜR KINDER UNZUGÄNGLICH AUFZUBEWAHREN IST' | Matched :- 'True'\n",
      "2021-06-07 23:25:55,428 : Heading Extraction gonal-f_clean_ANHANG III.json_b : Validation Passed | H | CAP |  de | 2 | gonal-f_clean_ANHANG III.json | currHeadId :- '14008' | prevHeadingCurrId :- '14007' | prevHeadingFoundId :- '14007'\n",
      "2021-06-07 23:25:55,929 : Heading Extraction gonal-f_clean_ANHANG III.json_b : Match Passed | H | CAP |  de | 2 | gonal-f_clean_ANHANG III.json | Doc txt :- '7. WEITERE WARNHINWEISE, FALLS ERFORDERLICH' | Qrd txt :- '7. WEITERE WARNHINWEISE, FALLS ERFORDERLICH' | Matched :- 'True'\n",
      "2021-06-07 23:25:55,941 : Heading Extraction gonal-f_clean_ANHANG III.json_b : Validation Passed | H | CAP |  de | 2 | gonal-f_clean_ANHANG III.json | currHeadId :- '14009' | prevHeadingCurrId :- '14008' | prevHeadingFoundId :- '14008'\n",
      "2021-06-07 23:25:56,033 : Heading Extraction gonal-f_clean_ANHANG III.json_b : Match Passed | H | CAP |  de | 2 | gonal-f_clean_ANHANG III.json | Doc txt :- '8. VERFALLDATUM' | Qrd txt :- '8. VERFALLDATUM' | Matched :- 'True'\n",
      "2021-06-07 23:25:56,045 : Heading Extraction gonal-f_clean_ANHANG III.json_b : Validation Passed | H | CAP |  de | 2 | gonal-f_clean_ANHANG III.json | currHeadId :- '14010' | prevHeadingCurrId :- '14009' | prevHeadingFoundId :- '14009'\n",
      "2021-06-07 23:25:56,418 : Heading Extraction gonal-f_clean_ANHANG III.json_b : Match Passed | H | CAP |  de | 2 | gonal-f_clean_ANHANG III.json | Doc txt :- '9. BESONDERE VORSICHTSMASSNAHMEN FÜR DIE AUFBEWAHRUNG' | Qrd txt :- '9. BESONDERE VORSICHTSMASSNAHMEN FÜR DIE AUFBEWAHRUNG' | Matched :- 'True'\n",
      "2021-06-07 23:25:56,430 : Heading Extraction gonal-f_clean_ANHANG III.json_b : Validation Passed | H | CAP |  de | 2 | gonal-f_clean_ANHANG III.json | currHeadId :- '14011' | prevHeadingCurrId :- '14010' | prevHeadingFoundId :- '14010'\n",
      "2021-06-07 23:25:57,972 : Heading Extraction gonal-f_clean_ANHANG III.json_b : Match Passed | H | CAP |  de | 2 | gonal-f_clean_ANHANG III.json | Doc txt :- '10. GEGEBENENFALLS BESONDERE VORSICHTSMASSNAHMEN FÜR DIE BESEITIGUNG VON NICHT VERWENDETEM ARZNEIMITTEL ODER DAVON STAMMENDEN ABFALLMATERIALIEN' | Qrd txt :- '10. GEGEBENENFALLS BESONDERE VORSICHTSMASSNAHMEN FÜR DIE BESEITIGUNG VON NICHT VERWENDETEM ARZNEIMITTEL ODER DAVON STAMMENDEN ABFALLMATERIALIEN' | Matched :- 'True'\n",
      "2021-06-07 23:25:57,986 : Heading Extraction gonal-f_clean_ANHANG III.json_b : Validation Passed | H | CAP |  de | 2 | gonal-f_clean_ANHANG III.json | currHeadId :- '14012' | prevHeadingCurrId :- '14011' | prevHeadingFoundId :- '14011'\n",
      "2021-06-07 23:25:58,500 : Heading Extraction gonal-f_clean_ANHANG III.json_b : Match Passed | H | CAP |  de | 2 | gonal-f_clean_ANHANG III.json | Doc txt :- '11. NAME UND ANSCHRIFT DES PHARMAZEUTISCHEN UNTERNEHMERS' | Qrd txt :- '11. NAME UND ANSCHRIFT DES PHARMAZEUTISCHEN UNTERNEHMERS' | Matched :- 'True'\n",
      "2021-06-07 23:25:58,512 : Heading Extraction gonal-f_clean_ANHANG III.json_b : Validation Passed | H | CAP |  de | 2 | gonal-f_clean_ANHANG III.json | currHeadId :- '14013' | prevHeadingCurrId :- '14012' | prevHeadingFoundId :- '14012'\n",
      "2021-06-07 23:25:59,855 : Heading Extraction gonal-f_clean_ANHANG III.json_b : Match Passed | H | CAP |  de | 2 | gonal-f_clean_ANHANG III.json | Doc txt :- '12. ZULASSUNGSNUMMER(N)' | Qrd txt :- '12. ZULASSUNGSNUMMER(N)' | Matched :- 'True'\n",
      "2021-06-07 23:25:59,867 : Heading Extraction gonal-f_clean_ANHANG III.json_b : Validation Passed | H | CAP |  de | 2 | gonal-f_clean_ANHANG III.json | currHeadId :- '14014' | prevHeadingCurrId :- '14013' | prevHeadingFoundId :- '14013'\n",
      "2021-06-07 23:26:00,860 : Heading Extraction gonal-f_clean_ANHANG III.json_b : Match Passed : Contains<>|127.27|(61, 100, 90)|0.888| | H | CAP |  de | 2 | gonal-f_clean_ANHANG III.json | Doc txt :- '13.     CHARGENBEZEICHNUNG' | Qrd txt :- '13. CHARGENBEZEICHNUNG<, SPENDER- UND PRODUKTCODE>' | Matched :- 'True'\n",
      "2021-06-07 23:26:00,877 : Heading Extraction gonal-f_clean_ANHANG III.json_b : Validation Passed | H | CAP |  de | 2 | gonal-f_clean_ANHANG III.json | currHeadId :- '14015' | prevHeadingCurrId :- '14014' | prevHeadingFoundId :- '14014'\n",
      "2021-06-07 23:26:01,275 : Heading Extraction gonal-f_clean_ANHANG III.json_b : Match Passed | H | CAP |  de | 2 | gonal-f_clean_ANHANG III.json | Doc txt :- '14. VERKAUFSABGRENZUNG' | Qrd txt :- '14. VERKAUFSABGRENZUNG' | Matched :- 'True'\n",
      "2021-06-07 23:26:01,296 : Heading Extraction gonal-f_clean_ANHANG III.json_b : Validation Passed | H | CAP |  de | 2 | gonal-f_clean_ANHANG III.json | currHeadId :- '14016' | prevHeadingCurrId :- '14015' | prevHeadingFoundId :- '14015'\n",
      "2021-06-07 23:26:01,598 : Heading Extraction gonal-f_clean_ANHANG III.json_b : Match Passed | H | CAP |  de | 2 | gonal-f_clean_ANHANG III.json | Doc txt :- '15. HINWEISE FÜR DEN GEBRAUCH' | Qrd txt :- '15. HINWEISE FÜR DEN GEBRAUCH' | Matched :- 'True'\n",
      "2021-06-07 23:26:01,612 : Heading Extraction gonal-f_clean_ANHANG III.json_b : Validation Passed | H | CAP |  de | 2 | gonal-f_clean_ANHANG III.json | currHeadId :- '14017' | prevHeadingCurrId :- '14016' | prevHeadingFoundId :- '14016'\n",
      " BLINDENSCHRIFT' | Qrd txt :- '16. ANGABEN IN BLINDENSCHRIFT' | Matched :- 'True'tch Passed : <=4|6.9|(93, 93, 100)|0.958| | H | CAP |  de | 2 | gonal-f_clean_ANHANG III.json | Doc txt :- '16.     ANGABEN in\n",
      "2021-06-07 23:26:01,916 : Heading Extraction gonal-f_clean_ANHANG III.json_b : Validation Passed | H | CAP |  de | 2 | gonal-f_clean_ANHANG III.json | currHeadId :- '14018' | prevHeadingCurrId :- '14017' | prevHeadingFoundId :- '14017'\n"
     ]
    },
    {
     "name": "stderr",
     "output_type": "stream",
     "text": [
      "2021-06-07 23:26:01,926 : Heading Extraction gonal-f_clean_ANHANG III.json_b : Validation Failed By Style | H | CAP |  de | 2 | gonal-f_clean_ANHANG III.json | currHeadId :- '14018' | prevHeadingCurrId :- '' | prevHeadingFoundId :- '14017'\n"
     ]
    },
    {
     "name": "stdout",
     "output_type": "stream",
     "text": [
      "----------------------------------\n",
      "RemovedByStyle\n",
      "----------------------------------\n"
     ]
    },
    {
     "name": "stderr",
     "output_type": "stream",
     "text": [
      "2021-06-07 23:26:02,852 : Heading Extraction gonal-f_clean_ANHANG III.json_b : Match Passed | H | CAP |  de | 2 | gonal-f_clean_ANHANG III.json | Doc txt :- '17. INDIVIDUELLES ERKENNUNGSMERKMAL – 2D-BARCODE' | Qrd txt :- '17. INDIVIDUELLES ERKENNUNGSMERKMAL – 2D-BARCODE' | Matched :- 'True'\n",
      "2021-06-07 23:26:02,867 : Heading Extraction gonal-f_clean_ANHANG III.json_b : Validation Flow Is Broken | H | CAP |  de | 2 | gonal-f_clean_ANHANG III.json | currHeadId :- '14019' | prevHeadingCurrId :- '' | prevHeadingFoundId :- '14017'\n",
      "2021-06-07 23:26:02,878 : Heading Extraction gonal-f_clean_ANHANG III.json_b : Validation Passed | H | CAP |  de | 2 | gonal-f_clean_ANHANG III.json | currHeadId :- '14019' | prevHeadingCurrId :- '14017' | prevHeadingFoundId :- '14017'\n",
      "2021-06-07 23:26:03,606 : Heading Extraction gonal-f_clean_ANHANG III.json_b : Match Passed | H | CAP |  de | 2 | gonal-f_clean_ANHANG III.json | Doc txt :- '18. INDIVIDUELLES ERKENNUNGSMERKMAL – VOM MENSCHEN LESBARES FORMAT' | Qrd txt :- '18. INDIVIDUELLES ERKENNUNGSMERKMAL – VOM MENSCHEN LESBARES FORMAT' | Matched :- 'True'\n",
      "2021-06-07 23:26:03,623 : Heading Extraction gonal-f_clean_ANHANG III.json_b : Validation Passed | H | CAP |  de | 2 | gonal-f_clean_ANHANG III.json | currHeadId :- '14020' | prevHeadingCurrId :- '14019' | prevHeadingFoundId :- '14019'\n",
      " DEM PEN' | Qrd txt :- 'ANGABEN <AUF DER ÄUSSEREN UMHÜLLUNG> <UND> <AUF DEM BEHÄLTNIS>' | Matched :- 'True'4.74|(41, 68, 86)|0.834| | H | CAP |  de | 2 | gonal-f_clean_ANHANG III.json | Doc txt :- 'ANGABEN AUF\n",
      "2021-06-07 23:26:03,657 : Heading Extraction gonal-f_clean_ANHANG III.json_b : Validation Failed Top Heading Found After Bottom Headings | H | CAP |  de | 2 | gonal-f_clean_ANHANG III.json | currHeadId :- '14002' | prevHeadingCurrId :- '' | prevHeadingFoundId :- '14020'\n"
     ]
    },
    {
     "name": "stdout",
     "output_type": "stream",
     "text": [
      "-------------------Here1------------------------\n"
     ]
    },
    {
     "name": "stderr",
     "output_type": "stream",
     "text": [
      "2021-06-07 23:26:04,053 : Heading Extraction gonal-f_clean_ANHANG III.json_b : End Of Sub Section | H | CAP |  de | 2 | gonal-f_clean_ANHANG III.json\n",
      " DEM PEN' | Qrd txt :- 'ANGABEN <AUF DER ÄUSSEREN UMHÜLLUNG> <UND> <AUF DEM BEHÄLTNIS>' | Matched :- 'True'4.74|(41, 68, 86)|0.834| | H | CAP |  de | 2 | gonal-f_clean_ANHANG III.json | Doc txt :- 'ANGABEN AUF\n",
      "2021-06-07 23:26:04,089 : Heading Extraction gonal-f_clean_ANHANG III.json_b : (2, 2.0, 'CAP') Validation Passed As Current Heading Is Same As Previous H1 Heading | H | CAP |  de | 2 | gonal-f_clean_ANHANG III.json | currHeadId :- '14002' | prevHeadingCurrId :- '' | prevHeadingFoundId :- ''\n"
     ]
    },
    {
     "name": "stdout",
     "output_type": "stream",
     "text": [
      "oooooooooooooooooooooooooooooooooooooooo END OF Sub Section oooooooooooooooooooooooooooooooooooooooooooooooooooooooooooo\n"
     ]
    },
    {
     "name": "stderr",
     "output_type": "stream",
     "text": [
      "2021-06-07 23:26:05,317 : Heading Extraction gonal-f_clean_ANHANG III.json_b : Match Passed | H | CAP |  de | 2 | gonal-f_clean_ANHANG III.json | Doc txt :- 'MINDESTANGABEN AUF KLEINEN BEHÄLTNISSEN' | Qrd txt :- 'MINDESTANGABEN AUF KLEINEN BEHÄLTNISSEN' | Matched :- 'True'\n",
      "2021-06-07 23:26:05,329 : Heading Extraction gonal-f_clean_ANHANG III.json_b : Validation Flow Is Broken | H | CAP |  de | 2 | gonal-f_clean_ANHANG III.json | currHeadId :- '14027' | prevHeadingCurrId :- '' | prevHeadingFoundId :- '14002'\n",
      "2021-06-07 23:26:05,336 : Heading Extraction gonal-f_clean_ANHANG III.json_b : Validation Passed | H | CAP |  de | 2 | gonal-f_clean_ANHANG III.json | currHeadId :- '14027' | prevHeadingCurrId :- '14002' | prevHeadingFoundId :- '14002'\n",
      "2021-06-07 23:26:06,176 : Heading Extraction gonal-f_clean_ANHANG III.json_b : Match Passed | H | CAP |  de | 2 | gonal-f_clean_ANHANG III.json | Doc txt :- '1. BEZEICHNUNG DES ARZNEIMITTELS SOWIE ART(EN) DER ANWENDUNG' | Qrd txt :- '1. BEZEICHNUNG DES ARZNEIMITTELS SOWIE ART(EN) DER ANWENDUNG' | Matched :- 'True'\n",
      "2021-06-07 23:26:06,192 : Heading Extraction gonal-f_clean_ANHANG III.json_b : Validation Passed | H | CAP |  de | 2 | gonal-f_clean_ANHANG III.json | currHeadId :- '14028' | prevHeadingCurrId :- '14027' | prevHeadingFoundId :- '14027'\n",
      "2021-06-07 23:26:07,576 : Heading Extraction gonal-f_clean_ANHANG III.json_b : Match Passed | H | CAP |  de | 2 | gonal-f_clean_ANHANG III.json | Doc txt :- '2. HINWEISE ZUR ANWENDUNG' | Qrd txt :- '2. HINWEISE ZUR ANWENDUNG' | Matched :- 'True'\n",
      "2021-06-07 23:26:07,589 : Heading Extraction gonal-f_clean_ANHANG III.json_b : Validation Passed | H | CAP |  de | 2 | gonal-f_clean_ANHANG III.json | currHeadId :- '14029' | prevHeadingCurrId :- '14028' | prevHeadingFoundId :- '14028'\n",
      "2021-06-07 23:26:07,682 : Heading Extraction gonal-f_clean_ANHANG III.json_b : Match Passed : <=4|6.67|(93, 93, 93)|0.974| | H | CAP |  de | 2 | gonal-f_clean_ANHANG III.json | Doc txt :- '3.       VERFALLDATUM' | Qrd txt :- '8. VERFALLDATUM' | Matched :- 'True'\n",
      "2021-06-07 23:26:07,710 : Heading Extraction gonal-f_clean_ANHANG III.json_b : Validation Failed As Wrong Heading Found | H | CAP |  de | 2 | gonal-f_clean_ANHANG III.json | currHeadId :- '14010' | prevHeadingCurrId :- '' | prevHeadingFoundId :- '14029'\n",
      "2021-06-07 23:26:07,871 : Heading Extraction gonal-f_clean_ANHANG III.json_b : Match Passed | H | CAP |  de | 2 | gonal-f_clean_ANHANG III.json | Doc txt :- '3. VERFALLDATUM' | Qrd txt :- '3. VERFALLDATUM' | Matched :- 'True'\n",
      "2021-06-07 23:26:07,892 : Heading Extraction gonal-f_clean_ANHANG III.json_b : Validation Failed As Wrong Heading Found | H | CAP |  de | 2 | gonal-f_clean_ANHANG III.json | currHeadId :- '14024' | prevHeadingCurrId :- '' | prevHeadingFoundId :- '14029'\n",
      "2021-06-07 23:26:07,951 : Heading Extraction gonal-f_clean_ANHANG III.json_b : Match Passed | H | CAP |  de | 2 | gonal-f_clean_ANHANG III.json | Doc txt :- '3. VERFALLDATUM' | Qrd txt :- '3. VERFALLDATUM' | Matched :- 'True'\n",
      "2021-06-07 23:26:07,964 : Heading Extraction gonal-f_clean_ANHANG III.json_b : Validation Passed | H | CAP |  de | 2 | gonal-f_clean_ANHANG III.json | currHeadId :- '14030' | prevHeadingCurrId :- '14029' | prevHeadingFoundId :- '14029'\n",
      "2021-06-07 23:26:08,825 : Heading Extraction gonal-f_clean_ANHANG III.json_b : Match Passed : Contains<>|142.86|(56, 95, 86)|0.784| | H | CAP |  de | 2 | gonal-f_clean_ANHANG III.json | Doc txt :- '4.       CHARGENBEZEICHNUNG' | Qrd txt :- '13. CHARGENBEZEICHNUNG<, SPENDER- UND PRODUKTCODE>' | Matched :- 'True'\n",
      "2021-06-07 23:26:08,840 : Heading Extraction gonal-f_clean_ANHANG III.json_b : Validation Failed As Wrong Heading Found | H | CAP |  de | 2 | gonal-f_clean_ANHANG III.json | currHeadId :- '14015' | prevHeadingCurrId :- '' | prevHeadingFoundId :- '14030'\n",
      "2021-06-07 23:26:08,953 : Heading Extraction gonal-f_clean_ANHANG III.json_b : Match Passed : Contains<>|133.33|(60, 100, 90)|0.886| | H | CAP |  de | 2 | gonal-f_clean_ANHANG III.json | Doc txt :- '4.       CHARGENBEZEICHNUNG' | Qrd txt :- '4. CHARGENBEZEICHNUNG<, SPENDER- UND PRODUKTCODE>' | Matched :- 'True'\n",
      "2021-06-07 23:26:08,971 : Heading Extraction gonal-f_clean_ANHANG III.json_b : Validation Failed As Wrong Heading Found | H | CAP |  de | 2 | gonal-f_clean_ANHANG III.json | currHeadId :- '14025' | prevHeadingCurrId :- '' | prevHeadingFoundId :- '14030'\n",
      "2021-06-07 23:26:09,039 : Heading Extraction gonal-f_clean_ANHANG III.json_b : Match Passed : Contains<>|133.33|(60, 100, 90)|0.886| | H | CAP |  de | 2 | gonal-f_clean_ANHANG III.json | Doc txt :- '4.       CHARGENBEZEICHNUNG' | Qrd txt :- '4. CHARGENBEZEICHNUNG<, SPENDER- UND PRODUKTCODE>' | Matched :- 'True'\n",
      "2021-06-07 23:26:09,052 : Heading Extraction gonal-f_clean_ANHANG III.json_b : Validation Passed | H | CAP |  de | 2 | gonal-f_clean_ANHANG III.json | currHeadId :- '14031' | prevHeadingCurrId :- '14030' | prevHeadingFoundId :- '14030'\n",
      "2021-06-07 23:26:09,669 : Heading Extraction gonal-f_clean_ANHANG III.json_b : Match Passed | H | CAP |  de | 2 | gonal-f_clean_ANHANG III.json | Doc txt :- '5. INHALT NACH GEWICHT, VOLUMEN ODER EINHEITEN' | Qrd txt :- '5. INHALT NACH GEWICHT, VOLUMEN ODER EINHEITEN' | Matched :- 'True'\n",
      "2021-06-07 23:26:09,682 : Heading Extraction gonal-f_clean_ANHANG III.json_b : Validation Passed | H | CAP |  de | 2 | gonal-f_clean_ANHANG III.json | currHeadId :- '14032' | prevHeadingCurrId :- '14031' | prevHeadingFoundId :- '14031'\n",
      "2021-06-07 23:26:10,311 : Heading Extraction gonal-f_clean_ANHANG III.json_b : Match Passed : <=4|5.56|(94, 94, 94)|0.979| | H | CAP |  de | 2 | gonal-f_clean_ANHANG III.json | Doc txt :- '6.       WEITERE ANGABEN' | Qrd txt :- '5. WEITERE ANGABEN' | Matched :- 'True'\n",
      "2021-06-07 23:26:10,325 : Heading Extraction gonal-f_clean_ANHANG III.json_b : Validation Failed As Wrong Heading Found | H | CAP |  de | 2 | gonal-f_clean_ANHANG III.json | currHeadId :- '14026' | prevHeadingCurrId :- '' | prevHeadingFoundId :- '14032'\n",
      "2021-06-07 23:26:10,401 : Heading Extraction gonal-f_clean_ANHANG III.json_b : Match Passed | H | CAP |  de | 2 | gonal-f_clean_ANHANG III.json | Doc txt :- '6. WEITERE ANGABEN' | Qrd txt :- '6. WEITERE ANGABEN' | Matched :- 'True'\n",
      "2021-06-07 23:26:10,415 : Heading Extraction gonal-f_clean_ANHANG III.json_b : Validation Passed | H | CAP |  de | 2 | gonal-f_clean_ANHANG III.json | currHeadId :- '14033' | prevHeadingCurrId :- '14032' | prevHeadingFoundId :- '14032'\n",
      "2021-06-07 23:26:10,433 : Flow Logger HTML_a : Completed Heading Extraction For File | H | CAP |  de | HTML | gonal-f_clean.htm\n",
      "2021-06-07 23:26:10,440 : Flow Logger HTML_a : 2: Heading Extraction,2.6755 Min,1.51841 MB,3.809836 MB,47.0%\n",
      " | H | CAP |  de | HTML | gonal-f_clean.htm\n",
      "2021-06-07 23:26:10,447 : Flow Logger HTML_a : Starting Document Annotation For File | H | CAP |  de | HTML | gonal-f_clean.htm\n"
     ]
    },
    {
     "name": "stdout",
     "output_type": "stream",
     "text": [
      "\n",
      "\n",
      "Heading Not Found \n",
      " ['ANGABEN IN BLINDENSCHRIFT', 'MINDESTANGABEN AUF BLISTERPACKUNGEN ODER FOLIENSTREIFEN', 'NAME DES PHARMAZEUTISCHEN UNTERNEHMERS']\n",
      "\n",
      "\n",
      "dict_keys(['16. ANGABEN IN BLINDENSCHRIFT'])\n",
      "Completed Heading Extraction For File\n",
      "Metrics : 2: Heading Extraction,2.6755 Min,1.51841 MB,3.809836 MB,47.0%\n",
      "\n",
      "Starting Document Annotation For File :- gonal-f_clean_ANHANG III.json\n",
      "Warning: Multiple Authorization Token Found In The Document gonal-f_clean_ANHANG III.json :- \n",
      " ['EU/1/95/001/025', 'EU/1/95/001/026', 'EU/1/95/001/027', 'EU/1/95/001/021', 'EU/1/95/001/031', 'EU/1/95/001/000', 'EU/1/95/001/033', 'EU/1/95/001/034', 'EU/1/95/001/035']\n",
      "\n",
      "======================================  ['EU/1/95/001/025', 'EU/1/95/001/026', 'EU/1/95/001/027', 'EU/1/95/001/021', 'EU/1/95/001/031', 'EU/1/95/001/000', 'EU/1/95/001/033', 'EU/1/95/001/034', 'EU/1/95/001/035']  =========================\n",
      "\n",
      "\n",
      "EU/1/95/001/025\n"
     ]
    },
    {
     "name": "stderr",
     "output_type": "stream",
     "text": [
      "2021-06-07 23:26:11,496 : Flow Logger HTML_a : Completed Document Annotation | H | CAP |  de | HTML | gonal-f_clean.htm\n",
      "2021-06-07 23:26:11,500 : Flow Logger HTML_a : 2: Document Annotation,0.0176 Min,0.158025 MB,0.227396 MB,47.0%\n",
      " | H | CAP |  de | HTML | gonal-f_clean.htm\n",
      "2021-06-07 23:26:11,503 : Flow Logger HTML_a : Starting Extracting Content Between Heading | H | CAP |  de | HTML | gonal-f_clean.htm\n",
      "2021-06-07 23:26:11,511 : ExtractContentBetween_2_L : Cleaning Match Results | H | CAP |  de | 2 | gonal-f_clean_ANHANG III.json\n",
      "2021-06-07 23:26:11,526 : ExtractContentBetween_2_L : Finished Cleaning Match Results | H | CAP |  de | 2 | gonal-f_clean_ANHANG III.json\n"
     ]
    },
    {
     "name": "stdout",
     "output_type": "stream",
     "text": [
      "Found entry with code 220000000061\n",
      "Warning: Medicinal Product Definition Reference Missing for Authorization Identifier EU/1/95/001/025\n",
      "Found Packaged Product Definition\n",
      "Error Found Missing Key 'holder' in entry key value pair\n",
      "Completed Document Annotation\n",
      "Metrics : 2: Document Annotation,0.0176 Min,0.158025 MB,0.227396 MB,47.0%\n",
      "\n",
      "Starting Extracting Content Between Heading For File :- gonal-f_clean_ANHANG III.json\n",
      "File being processed: F:\\Projects\\EMA\\Repository\\EMA EPI PoC\\function_code\\work\\H\\CAP\\GONAL-f\\de\\2021-06-07T06-58-30Z\\partitionedJSONs\\gonal-f_clean_ANHANG III.json\n",
      "--------------------------------------------\n"
     ]
    },
    {
     "name": "stderr",
     "output_type": "stream",
     "text": [
      "2021-06-07 23:26:12,841 : Flow Logger HTML_a : Completed Extracting Content Between Heading | H | CAP |  de | HTML | gonal-f_clean.htm\n",
      "2021-06-07 23:26:12,844 : Flow Logger HTML_a : 2: Content Extraction,0.0223 Min,0.581205 MB,2.724919 MB,47.0%\n",
      " | H | CAP |  de | HTML | gonal-f_clean.htm\n",
      "2021-06-07 23:26:12,901 : XmlGeneration_2_9 : PMS/OMS Annotation Information Not Retrieved | H | CAP |  de | 2 | gonal-f_clean_ANHANG III.json\n",
      "2021-06-07 23:26:12,904 : XmlGeneration_2_9 : Initiating XML Generation | H | CAP |  de | 2 | gonal-f_clean_ANHANG III.json\n"
     ]
    },
    {
     "name": "stdout",
     "output_type": "stream",
     "text": [
      "Completed Extracting Content Between Heading\n",
      "Metrics : 2: Content Extraction,0.0223 Min,0.581205 MB,2.724919 MB,47.0%\n",
      "\n",
      "Already Exists\n"
     ]
    },
    {
     "name": "stderr",
     "output_type": "stream",
     "text": [
      "2021-06-07 23:26:13,428 : XmlGeneration_2_9 : Writing to File:gonal-f_clean_ANHANG III.xml | H | CAP |  de | 2 | gonal-f_clean_ANHANG III.json\n",
      "2021-06-07 23:26:13,436 : Flow Logger HTML_a : 2: Generate XML,0.0098 Min,2.318384 MB,4.244882 MB,47.0%\n",
      " | H | CAP |  de | HTML | gonal-f_clean.htm\n"
     ]
    },
    {
     "name": "stdout",
     "output_type": "stream",
     "text": [
      "Metrics : 2: Generate XML,0.0098 Min,2.318384 MB,4.244882 MB,47.0%\n",
      "\n"
     ]
    },
    {
     "name": "stderr",
     "output_type": "stream",
     "text": [
      "2021-06-07 23:26:16,301 : XML Submission Logger_2_5 : Initiating Submission To FHIR Server | H | CAP |  de | 2 | gonal-f_clean_ANHANG III.json\n",
      "2021-06-07 23:26:16,304 : XML Submission Logger_2_5 : Response{\"resourceType\":\"Bundle\",\"id\":\"898ce80b-a034-4058-bc7d-8df926bd1230\",\"meta\":{\"versionId\":\"1\",\"lastUpdated\":\"2021-06-07T17:56:15.403+00:00\"},\"type\":\"collection\",\"entry\":[{\"fullUrl\":\"urn:uuid:5019269c-a686-42a1-97bd-b82421b2ce9f\",\"resource\":{\"resourceType\":\"Bundle\",\"id\":\"d437c337-392b-4e48-a446-7488824a1eaa\",\"identifier\":{\"system\":\"http://ema.europa.eu/fhir/identifier/documentid\",\"value\":\"${instance.bundle[n].Identifier}\"},\"type\":\"document\",\"timestamp\":\"2021-06-07T17:56:12+00:00\",\"entry\":[{\"fullUr | H | CAP |  de | 2 | gonal-f_clean_ANHANG III.json\n",
      "2021-06-07 23:26:16,315 : XML Submission Logger_2_5 : POST sucessful: XML added with id: 898ce80b-a034-4058-bc7d-8df926bd1230 | H | CAP |  de | 2 | gonal-f_clean_ANHANG III.json\n",
      "2021-06-07 23:26:16,318 : Flow Logger HTML_a : 2: Submit FHIR Msg,0.0479 Min,0.052294 MB,1.307857 MB,47.0%\n",
      " | H | CAP |  de | HTML | gonal-f_clean.htm\n",
      "2021-06-07 23:26:16,320 : Flow Logger HTML_a : Starting list bundle update/addition | H | CAP |  de | HTML | gonal-f_clean.htm\n",
      "2021-06-07 23:26:16,329 : List Bundle Creation Logger_2_e : Extracted list bundle document type code this document 100000155535 | H | CAP |  de | 2 | gonal-f_clean_ANHANG III.json\n",
      "2021-06-07 23:26:16,330 : List Bundle Creation Logger_2_e : Getting Existing List Bundle accross all MANs | H | CAP |  de | 2 | gonal-f_clean_ANHANG III.json\n",
      "2021-06-07 23:26:16,332 : List Bundle Creation Logger_2_e : Getting list bundle for MAN EU/1/95/001/025  | H | CAP |  de | 2 | gonal-f_clean_ANHANG III.json\n"
     ]
    },
    {
     "name": "stdout",
     "output_type": "stream",
     "text": [
      "POST sucessful: XML added with id 898ce80b-a034-4058-bc7d-8df926bd1230\n",
      "Metrics : 2: Submit FHIR Msg,0.0479 Min,0.052294 MB,1.307857 MB,47.0%\n",
      "\n",
      "Created XML File For :- gonal-f_clean_ANHANG III.json\n",
      "\n",
      "listRegulatedAuthCodesAccrossePI ['EU/1/95/001/025', 'EU/1/95/001/026', 'EU/1/95/001/027', 'EU/1/95/001/021', 'EU/1/95/001/031', 'EU/1/95/001/000', 'EU/1/95/001/033', 'EU/1/95/001/034', 'EU/1/95/001/035', 'EU/1/95/001/025', 'EU/1/95/001/026', 'EU/1/95/001/027', 'EU/1/95/001/021', 'EU/1/95/001/031', 'EU/1/95/001/000', 'EU/1/95/001/033', 'EU/1/95/001/034', 'EU/1/95/001/035']\n"
     ]
    },
    {
     "name": "stderr",
     "output_type": "stream",
     "text": [
      "2021-06-07 23:26:17,181 : List Bundle Creation Logger_2_e : Getting list bundle for MAN EU/1/95/001/026  | H | CAP |  de | 2 | gonal-f_clean_ANHANG III.json\n",
      "2021-06-07 23:26:18,030 : List Bundle Creation Logger_2_e : Getting list bundle for MAN EU/1/95/001/027  | H | CAP |  de | 2 | gonal-f_clean_ANHANG III.json\n",
      "2021-06-07 23:26:19,021 : List Bundle Creation Logger_2_e : Getting list bundle for MAN EU/1/95/001/021  | H | CAP |  de | 2 | gonal-f_clean_ANHANG III.json\n",
      "2021-06-07 23:26:19,847 : List Bundle Creation Logger_2_e : Getting list bundle for MAN EU/1/95/001/031  | H | CAP |  de | 2 | gonal-f_clean_ANHANG III.json\n",
      "2021-06-07 23:26:20,681 : List Bundle Creation Logger_2_e : Getting list bundle for MAN EU/1/95/001/000  | H | CAP |  de | 2 | gonal-f_clean_ANHANG III.json\n",
      "2021-06-07 23:26:21,527 : List Bundle Creation Logger_2_e : Getting list bundle for MAN EU/1/95/001/033  | H | CAP |  de | 2 | gonal-f_clean_ANHANG III.json\n",
      "2021-06-07 23:26:22,368 : List Bundle Creation Logger_2_e : Getting list bundle for MAN EU/1/95/001/034  | H | CAP |  de | 2 | gonal-f_clean_ANHANG III.json\n",
      "2021-06-07 23:26:23,212 : List Bundle Creation Logger_2_e : Getting list bundle for MAN EU/1/95/001/035  | H | CAP |  de | 2 | gonal-f_clean_ANHANG III.json\n",
      "2021-06-07 23:26:24,343 : List Bundle Creation Logger_2_e : Getting list bundle for MAN EU/1/95/001/025  | H | CAP |  de | 2 | gonal-f_clean_ANHANG III.json\n",
      "2021-06-07 23:26:25,180 : List Bundle Creation Logger_2_e : Getting list bundle for MAN EU/1/95/001/026  | H | CAP |  de | 2 | gonal-f_clean_ANHANG III.json\n",
      "2021-06-07 23:26:26,132 : List Bundle Creation Logger_2_e : Getting list bundle for MAN EU/1/95/001/027  | H | CAP |  de | 2 | gonal-f_clean_ANHANG III.json\n",
      "2021-06-07 23:26:27,432 : List Bundle Creation Logger_2_e : Getting list bundle for MAN EU/1/95/001/021  | H | CAP |  de | 2 | gonal-f_clean_ANHANG III.json\n",
      "2021-06-07 23:26:28,672 : List Bundle Creation Logger_2_e : Getting list bundle for MAN EU/1/95/001/031  | H | CAP |  de | 2 | gonal-f_clean_ANHANG III.json\n",
      "2021-06-07 23:26:29,847 : List Bundle Creation Logger_2_e : Getting list bundle for MAN EU/1/95/001/000  | H | CAP |  de | 2 | gonal-f_clean_ANHANG III.json\n",
      "2021-06-07 23:26:31,007 : List Bundle Creation Logger_2_e : Getting list bundle for MAN EU/1/95/001/033  | H | CAP |  de | 2 | gonal-f_clean_ANHANG III.json\n",
      "2021-06-07 23:26:31,953 : List Bundle Creation Logger_2_e : Getting list bundle for MAN EU/1/95/001/034  | H | CAP |  de | 2 | gonal-f_clean_ANHANG III.json\n",
      "2021-06-07 23:26:32,840 : List Bundle Creation Logger_2_e : Getting list bundle for MAN EU/1/95/001/035  | H | CAP |  de | 2 | gonal-f_clean_ANHANG III.json\n",
      "2021-06-07 23:26:33,706 : List Bundle Creation Logger_2_e : Getting Existing List Bundle using common list id 4e8cd513-14c0-446b-915e-b46b0ee889a6 | H | CAP |  de | 2 | gonal-f_clean_ANHANG III.json\n",
      "2021-06-07 23:26:34,604 : List Bundle Creation Logger_2_e : Added missing MAN identifiers | H | CAP |  de | 2 | gonal-f_clean_ANHANG III.json\n",
      "2021-06-07 23:26:34,605 : List Bundle Creation Logger_2_e : Adding a new item | H | CAP |  de | 2 | gonal-f_clean_ANHANG III.json\n",
      "2021-06-07 23:26:34,613 : List Bundle Creation Logger_2_e : Converted to required XML format | H | CAP |  de | 2 | gonal-f_clean_ANHANG III.json\n"
     ]
    },
    {
     "name": "stdout",
     "output_type": "stream",
     "text": [
      "Updating\n"
     ]
    },
    {
     "name": "stderr",
     "output_type": "stream",
     "text": [
      "2021-06-07 23:26:35,607 : List Bundle Creation Logger_2_e : List update successfully completed 4e8cd513-14c0-446b-915e-b46b0ee889a6 | H | CAP |  de | 2 | gonal-f_clean_ANHANG III.json\n",
      "2021-06-07 23:26:35,610 : Flow Logger HTML_a : Completed list bundle update/addition | H | CAP |  de | HTML | gonal-f_clean.htm\n",
      "2021-06-07 23:26:35,613 : Flow Logger HTML_a : 2: Update/Add List Bundle,0.3215 Min,0.320983 MB,0.531262 MB,47.0%\n",
      " | H | CAP |  de | HTML | gonal-f_clean.htm\n",
      "2021-06-07 23:26:35,616 : Flow Logger HTML_a : \n",
      "\n",
      "\n",
      "\n",
      "||||||||||||||||||||||||||||||||3 ||||| gonal-f_clean_ PACKUNGSBEILAGE.json||||||||||||||||||||||||||||||||\n",
      "\n",
      "\n",
      "\n",
      " | H | CAP |  de | HTML | gonal-f_clean.htm\n",
      "2021-06-07 23:26:35,624 : Heading Extraction gonal-f_clean_ PACKUNGSBEILAGE.json_S : Starting Heading Extraction | H | CAP |  de | 3 | gonal-f_clean_ PACKUNGSBEILAGE.json\n"
     ]
    },
    {
     "name": "stdout",
     "output_type": "stream",
     "text": [
      "Metrics : 2: Update/Add List Bundle,0.3215 Min,0.320983 MB,0.531262 MB,47.0%\n",
      "\n",
      "Starting Heading Extraction For File :- gonal-f_clean_ PACKUNGSBEILAGE.json\n",
      "File being processed: F:\\Projects\\EMA\\Repository\\EMA EPI PoC\\function_code\\work\\H\\CAP\\GONAL-f\\de\\2021-06-07T06-58-30Z\\partitionedJSONs\\gonal-f_clean_ PACKUNGSBEILAGE.json\n",
      "--------------------------------------------\n",
      "Packungsbeilage\n"
     ]
    },
    {
     "name": "stderr",
     "output_type": "stream",
     "text": [
      "2021-06-07 23:26:36,147 : Heading Extraction gonal-f_clean_ PACKUNGSBEILAGE.json_S : Started Extracting Heading | H | CAP |  de | 3 | gonal-f_clean_ PACKUNGSBEILAGE.json\n",
      "2021-06-07 23:26:36,200 : Heading Extraction gonal-f_clean_ PACKUNGSBEILAGE.json_S : Match Passed : <=1|16.67|(91, 100, 95)|0.913| | H | CAP |  de | 3 | gonal-f_clean_ PACKUNGSBEILAGE.json | Doc txt :- 'B. PACKUNGSBEILAGE' | Qrd txt :- 'PACKUNGSBEILAGE' | Matched :- 'True'\n",
      "2021-06-07 23:26:36,208 : Heading Extraction gonal-f_clean_ PACKUNGSBEILAGE.json_S : Validation Passed As This The First Heading | H | CAP |  de | 3 | gonal-f_clean_ PACKUNGSBEILAGE.json | currHeadId :- '15001' | prevHeadingCurrId :- '' | prevHeadingFoundId :- ''\n",
      "2021-06-07 23:27:04,812 : Heading Extraction gonal-f_clean_ PACKUNGSBEILAGE.json_S : Match Passed | H | CAP |  de | 3 | gonal-f_clean_ PACKUNGSBEILAGE.json | Doc txt :- 'Was in dieser Packungsbeilage steht' | Qrd txt :- 'Was in dieser Packungsbeilage steht' | Matched :- 'True'\n",
      "2021-06-07 23:27:04,828 : Heading Extraction gonal-f_clean_ PACKUNGSBEILAGE.json_S : Validation Flow Is Broken | H | CAP |  de | 3 | gonal-f_clean_ PACKUNGSBEILAGE.json | currHeadId :- '15003' | prevHeadingCurrId :- '' | prevHeadingFoundId :- '15001'\n",
      "2021-06-07 23:27:04,838 : Heading Extraction gonal-f_clean_ PACKUNGSBEILAGE.json_S : Validation Passed | H | CAP |  de | 3 | gonal-f_clean_ PACKUNGSBEILAGE.json | currHeadId :- '15003' | prevHeadingCurrId :- '15001' | prevHeadingFoundId :- '15001'\n",
      " angewendet?' | Qrd txt :- '1. Was ist GONAL-f und wofür wird es angewendet?' | Matched :- 'True' : >7|2.08|(98, 98, 100)|0.996| | H | CAP |  de | 3 | gonal-f_clean_ PACKUNGSBEILAGE.json | Doc txt :- '1.       Was ist GONAL‑f und wofür wird es\n",
      "2021-06-07 23:27:04,990 : Heading Extraction gonal-f_clean_ PACKUNGSBEILAGE.json_S : Validation Passed | H | CAP |  de | 3 | gonal-f_clean_ PACKUNGSBEILAGE.json | currHeadId :- '15004' | prevHeadingCurrId :- '15003' | prevHeadingFoundId :- '15003'\n",
      "2021-06-07 23:27:04,998 : Heading Extraction gonal-f_clean_ PACKUNGSBEILAGE.json_S : Validation Failed By Style | H | CAP |  de | 3 | gonal-f_clean_ PACKUNGSBEILAGE.json | currHeadId :- '15004' | prevHeadingCurrId :- '' | prevHeadingFoundId :- '15003'\n"
     ]
    },
    {
     "name": "stdout",
     "output_type": "stream",
     "text": [
      "----------------------------------\n",
      "RemovedByStyle\n",
      "----------------------------------\n"
     ]
    },
    {
     "name": "stderr",
     "output_type": "stream",
     "text": [
      " beachten?' | Qrd txt :- '2. Was sollten Sie vor der <Einnahme> <Anwendung> von GONAL-f beachten?' | Matched :- 'True'88, 78, 95)|0.949| | H | CAP |  de | 3 | gonal-f_clean_ PACKUNGSBEILAGE.json | Doc txt :- '2.       Was sollten Sie vor der Anwendung von GONAL‑f\n",
      "2021-06-07 23:27:06,001 : Heading Extraction gonal-f_clean_ PACKUNGSBEILAGE.json_S : Validation Flow Is Broken | H | CAP |  de | 3 | gonal-f_clean_ PACKUNGSBEILAGE.json | currHeadId :- '15005' | prevHeadingCurrId :- '' | prevHeadingFoundId :- '15003'\n",
      "2021-06-07 23:27:06,011 : Heading Extraction gonal-f_clean_ PACKUNGSBEILAGE.json_S : Validation Passed | H | CAP |  de | 3 | gonal-f_clean_ PACKUNGSBEILAGE.json | currHeadId :- '15005' | prevHeadingCurrId :- '15003' | prevHeadingFoundId :- '15003'\n",
      "2021-06-07 23:27:06,024 : Heading Extraction gonal-f_clean_ PACKUNGSBEILAGE.json_S : Validation Failed By Style | H | CAP |  de | 3 | gonal-f_clean_ PACKUNGSBEILAGE.json | currHeadId :- '15005' | prevHeadingCurrId :- '' | prevHeadingFoundId :- '15003'\n"
     ]
    },
    {
     "name": "stdout",
     "output_type": "stream",
     "text": [
      "----------------------------------\n",
      "RemovedByStyle\n",
      "----------------------------------\n"
     ]
    },
    {
     "name": "stderr",
     "output_type": "stream",
     "text": [
      "2021-06-07 23:27:07,205 : Heading Extraction gonal-f_clean_ PACKUNGSBEILAGE.json_S : Match Passed : Contains<>|56.67|(76, 77, 86)|0.938| | H | CAP |  de | 3 | gonal-f_clean_ PACKUNGSBEILAGE.json | Doc txt :- '3.       Wie ist GONAL‑f anzuwenden?' | Qrd txt :- '3. Wie ist GONAL-f <einzunehmen> <anzuwenden>?' | Matched :- 'True'\n",
      "2021-06-07 23:27:07,219 : Heading Extraction gonal-f_clean_ PACKUNGSBEILAGE.json_S : Validation Flow Is Broken | H | CAP |  de | 3 | gonal-f_clean_ PACKUNGSBEILAGE.json | currHeadId :- '15014' | prevHeadingCurrId :- '' | prevHeadingFoundId :- '15003'\n",
      "2021-06-07 23:27:07,226 : Heading Extraction gonal-f_clean_ PACKUNGSBEILAGE.json_S : Validation Passed | H | CAP |  de | 3 | gonal-f_clean_ PACKUNGSBEILAGE.json | currHeadId :- '15014' | prevHeadingCurrId :- '15003' | prevHeadingFoundId :- '15003'\n",
      "2021-06-07 23:27:07,235 : Heading Extraction gonal-f_clean_ PACKUNGSBEILAGE.json_S : Validation Failed By Style | H | CAP |  de | 3 | gonal-f_clean_ PACKUNGSBEILAGE.json | currHeadId :- '15014' | prevHeadingCurrId :- '' | prevHeadingFoundId :- '15003'\n"
     ]
    },
    {
     "name": "stdout",
     "output_type": "stream",
     "text": [
      "----------------------------------\n",
      "RemovedByStyle\n",
      "----------------------------------\n"
     ]
    },
    {
     "name": "stderr",
     "output_type": "stream",
     "text": [
      "2021-06-07 23:27:08,074 : Heading Extraction gonal-f_clean_ PACKUNGSBEILAGE.json_S : Match Passed | H | CAP |  de | 3 | gonal-f_clean_ PACKUNGSBEILAGE.json | Doc txt :- '4. Welche Nebenwirkungen sind möglich?' | Qrd txt :- '4. Welche Nebenwirkungen sind möglich?' | Matched :- 'True'\n",
      "2021-06-07 23:27:08,089 : Heading Extraction gonal-f_clean_ PACKUNGSBEILAGE.json_S : Validation Flow Is Broken | H | CAP |  de | 3 | gonal-f_clean_ PACKUNGSBEILAGE.json | currHeadId :- '15019' | prevHeadingCurrId :- '' | prevHeadingFoundId :- '15003'\n",
      "2021-06-07 23:27:08,099 : Heading Extraction gonal-f_clean_ PACKUNGSBEILAGE.json_S : Validation Passed | H | CAP |  de | 3 | gonal-f_clean_ PACKUNGSBEILAGE.json | currHeadId :- '15019' | prevHeadingCurrId :- '15003' | prevHeadingFoundId :- '15003'\n",
      "2021-06-07 23:27:08,107 : Heading Extraction gonal-f_clean_ PACKUNGSBEILAGE.json_S : Validation Failed By Style | H | CAP |  de | 3 | gonal-f_clean_ PACKUNGSBEILAGE.json | currHeadId :- '15019' | prevHeadingCurrId :- '' | prevHeadingFoundId :- '15003'\n"
     ]
    },
    {
     "name": "stdout",
     "output_type": "stream",
     "text": [
      "----------------------------------\n",
      "RemovedByStyle\n",
      "----------------------------------\n"
     ]
    },
    {
     "name": "stderr",
     "output_type": "stream",
     "text": [
      "2021-06-07 23:27:08,907 : Heading Extraction gonal-f_clean_ PACKUNGSBEILAGE.json_S : Match Passed : <=7|3.03|(97, 97, 100)|0.993| | H | CAP |  de | 3 | gonal-f_clean_ PACKUNGSBEILAGE.json | Doc txt :- '5.       Wie ist GONAL‑f aufzubewahren?' | Qrd txt :- '5. Wie ist GONAL-f aufzubewahren?' | Matched :- 'True'\n",
      "2021-06-07 23:27:08,921 : Heading Extraction gonal-f_clean_ PACKUNGSBEILAGE.json_S : Validation Flow Is Broken | H | CAP |  de | 3 | gonal-f_clean_ PACKUNGSBEILAGE.json | currHeadId :- '15022' | prevHeadingCurrId :- '' | prevHeadingFoundId :- '15003'\n",
      "2021-06-07 23:27:08,929 : Heading Extraction gonal-f_clean_ PACKUNGSBEILAGE.json_S : Validation Passed | H | CAP |  de | 3 | gonal-f_clean_ PACKUNGSBEILAGE.json | currHeadId :- '15022' | prevHeadingCurrId :- '15003' | prevHeadingFoundId :- '15003'\n",
      "2021-06-07 23:27:08,936 : Heading Extraction gonal-f_clean_ PACKUNGSBEILAGE.json_S : Validation Failed By Style | H | CAP |  de | 3 | gonal-f_clean_ PACKUNGSBEILAGE.json | currHeadId :- '15022' | prevHeadingCurrId :- '' | prevHeadingFoundId :- '15003'\n"
     ]
    },
    {
     "name": "stdout",
     "output_type": "stream",
     "text": [
      "----------------------------------\n",
      "RemovedByStyle\n",
      "----------------------------------\n"
     ]
    },
    {
     "name": "stderr",
     "output_type": "stream",
     "text": [
      "2021-06-07 23:27:09,719 : Heading Extraction gonal-f_clean_ PACKUNGSBEILAGE.json_S : Match Passed | H | CAP |  de | 3 | gonal-f_clean_ PACKUNGSBEILAGE.json | Doc txt :- '6. Inhalt der Packung und weitere Informationen' | Qrd txt :- '6. Inhalt der Packung und weitere Informationen' | Matched :- 'True'\n",
      "2021-06-07 23:27:09,734 : Heading Extraction gonal-f_clean_ PACKUNGSBEILAGE.json_S : Validation Flow Is Broken | H | CAP |  de | 3 | gonal-f_clean_ PACKUNGSBEILAGE.json | currHeadId :- '15023' | prevHeadingCurrId :- '' | prevHeadingFoundId :- '15003'\n",
      "2021-06-07 23:27:09,743 : Heading Extraction gonal-f_clean_ PACKUNGSBEILAGE.json_S : Validation Passed | H | CAP |  de | 3 | gonal-f_clean_ PACKUNGSBEILAGE.json | currHeadId :- '15023' | prevHeadingCurrId :- '15003' | prevHeadingFoundId :- '15003'\n",
      "2021-06-07 23:27:09,752 : Heading Extraction gonal-f_clean_ PACKUNGSBEILAGE.json_S : Validation Failed By Style | H | CAP |  de | 3 | gonal-f_clean_ PACKUNGSBEILAGE.json | currHeadId :- '15023' | prevHeadingCurrId :- '' | prevHeadingFoundId :- '15003'\n"
     ]
    },
    {
     "name": "stdout",
     "output_type": "stream",
     "text": [
      "----------------------------------\n",
      "RemovedByStyle\n",
      "----------------------------------\n"
     ]
    },
    {
     "name": "stderr",
     "output_type": "stream",
     "text": [
      " angewendet?' | Qrd txt :- '1. Was ist GONAL-f und wofür wird es angewendet?' | Matched :- 'True' : >7|2.08|(98, 98, 100)|0.996| | H | CAP |  de | 3 | gonal-f_clean_ PACKUNGSBEILAGE.json | Doc txt :- '1.       Was ist GONAL‑f und wofür wird es\n",
      "2021-06-07 23:27:11,145 : Heading Extraction gonal-f_clean_ PACKUNGSBEILAGE.json_S : Validation Passed | H | CAP |  de | 3 | gonal-f_clean_ PACKUNGSBEILAGE.json | currHeadId :- '15004' | prevHeadingCurrId :- '15003' | prevHeadingFoundId :- '15003'\n",
      " beachten?' | Qrd txt :- '2. Was sollten Sie vor der <Einnahme> <Anwendung> von GONAL-f beachten?' | Matched :- 'True'88, 78, 95)|0.949| | H | CAP |  de | 3 | gonal-f_clean_ PACKUNGSBEILAGE.json | Doc txt :- '2.       Was sollten Sie vor der Anwendung von GONAL‑f\n",
      "2021-06-07 23:27:23,923 : Heading Extraction gonal-f_clean_ PACKUNGSBEILAGE.json_S : Validation Passed | H | CAP |  de | 3 | gonal-f_clean_ PACKUNGSBEILAGE.json | currHeadId :- '15005' | prevHeadingCurrId :- '15004' | prevHeadingFoundId :- '15004'\n",
      " darf nicht angewendet werden,' | Qrd txt :- 'GONAL-f darf nicht <eingenommen> <angewendet> werden<,>' | Matched :- 'False'|51.35|(78, 57, 95)|0.931| | H | CAP |  de | 3 | gonal-f_clean_ PACKUNGSBEILAGE.json | Doc txt :- 'GONAL‑f\n"
     ]
    },
    {
     "name": "stdout",
     "output_type": "stream",
     "text": [
      "\n",
      "OriginalCheck\n",
      "\n"
     ]
    },
    {
     "name": "stderr",
     "output_type": "stream",
     "text": [
      "2021-06-07 23:27:46,899 : Heading Extraction gonal-f_clean_ PACKUNGSBEILAGE.json_S : Match Passed | H | CAP |  de | 3 | gonal-f_clean_ PACKUNGSBEILAGE.json | Doc txt :- 'Warnhinweise und Vorsichtsmaßnahmen' | Qrd txt :- 'Warnhinweise und Vorsichtsmaßnahmen' | Matched :- 'True'\n",
      "2021-06-07 23:27:46,912 : Heading Extraction gonal-f_clean_ PACKUNGSBEILAGE.json_S : Validation Flow Is Broken | H | CAP |  de | 3 | gonal-f_clean_ PACKUNGSBEILAGE.json | currHeadId :- '15007' | prevHeadingCurrId :- '' | prevHeadingFoundId :- '15005'\n",
      "2021-06-07 23:27:46,923 : Heading Extraction gonal-f_clean_ PACKUNGSBEILAGE.json_S : Validation Passed | H | CAP |  de | 3 | gonal-f_clean_ PACKUNGSBEILAGE.json | currHeadId :- '15007' | prevHeadingCurrId :- '15005' | prevHeadingFoundId :- '15005'\n",
      " von GONAL‑f zusammen mit anderen Arzneimitteln' | Qrd txt :- '<Einnahme> <Anwendung> von GONAL-f zusammen mit anderen Arzneimitteln' | Matched :- 'True' 3 | gonal-f_clean_ PACKUNGSBEILAGE.json | Doc txt :- 'Anwendung\n",
      "2021-06-07 23:28:29,374 : Heading Extraction gonal-f_clean_ PACKUNGSBEILAGE.json_S : Validation Flow Is Broken | H | CAP |  de | 3 | gonal-f_clean_ PACKUNGSBEILAGE.json | currHeadId :- '15009' | prevHeadingCurrId :- '' | prevHeadingFoundId :- '15007'\n",
      "2021-06-07 23:28:29,387 : Heading Extraction gonal-f_clean_ PACKUNGSBEILAGE.json_S : Validation Passed | H | CAP |  de | 3 | gonal-f_clean_ PACKUNGSBEILAGE.json | currHeadId :- '15009' | prevHeadingCurrId :- '15007' | prevHeadingFoundId :- '15007'\n",
      " und Stillzeit' | Qrd txt :- 'Schwangerschaft <und> <,> Stillzeit <und Fortpflanzungsfähigkeit>' | Matched :- 'True'.14|(62, 79, 86)|0.889| | H | CAP |  de | 3 | gonal-f_clean_ PACKUNGSBEILAGE.json | Doc txt :- 'Schwangerschaft\n",
      "2021-06-07 23:28:37,706 : Heading Extraction gonal-f_clean_ PACKUNGSBEILAGE.json_S : Validation Flow Is Broken | H | CAP |  de | 3 | gonal-f_clean_ PACKUNGSBEILAGE.json | currHeadId :- '15011' | prevHeadingCurrId :- '' | prevHeadingFoundId :- '15009'\n",
      "2021-06-07 23:28:37,717 : Heading Extraction gonal-f_clean_ PACKUNGSBEILAGE.json_S : Validation Passed | H | CAP |  de | 3 | gonal-f_clean_ PACKUNGSBEILAGE.json | currHeadId :- '15011' | prevHeadingCurrId :- '15009' | prevHeadingFoundId :- '15009'\n",
      "2021-06-07 23:28:39,452 : Heading Extraction gonal-f_clean_ PACKUNGSBEILAGE.json_S : Match Passed | H | CAP |  de | 3 | gonal-f_clean_ PACKUNGSBEILAGE.json | Doc txt :- 'Verkehrstüchtigkeit und Fähigkeit zum Bedienen von Maschinen' | Qrd txt :- 'Verkehrstüchtigkeit und Fähigkeit zum Bedienen von Maschinen' | Matched :- 'True'\n",
      "2021-06-07 23:28:39,466 : Heading Extraction gonal-f_clean_ PACKUNGSBEILAGE.json_S : Validation Passed | H | CAP |  de | 3 | gonal-f_clean_ PACKUNGSBEILAGE.json | currHeadId :- '15012' | prevHeadingCurrId :- '15011' | prevHeadingFoundId :- '15011'\n",
      "2021-06-07 23:28:46,158 : Heading Extraction gonal-f_clean_ PACKUNGSBEILAGE.json_S : Match Passed : <=4|0.0|(100, 100, 100)|1.0| | H | CAP |  de | 3 | gonal-f_clean_ PACKUNGSBEILAGE.json | Doc txt :- 'GONAL-f enthält Natrium' | Qrd txt :- 'GONAL-f enthält {Bezeichnung <des> <der> sonstigen Bestandteil(s)(e)}' | Matched :- 'True'\n",
      "2021-06-07 23:28:46,229 : Heading Extraction gonal-f_clean_ PACKUNGSBEILAGE.json_S : Validation Passed | H | CAP |  de | 3 | gonal-f_clean_ PACKUNGSBEILAGE.json | currHeadId :- '15013' | prevHeadingCurrId :- '15012' | prevHeadingFoundId :- '15012'\n",
      "2021-06-07 23:28:51,285 : Heading Extraction gonal-f_clean_ PACKUNGSBEILAGE.json_S : Match Passed : <=4|0.0|(100, 100, 100)|1.0| | H | CAP |  de | 3 | gonal-f_clean_ PACKUNGSBEILAGE.json | Doc txt :- 'GONAL-f enthält Natrium und Benzylakohol' | Qrd txt :- 'GONAL-f enthält {Bezeichnung <des> <der> sonstigen Bestandteil(s)(e)}' | Matched :- 'True'\n",
      "2021-06-07 23:28:51,301 : Heading Extraction gonal-f_clean_ PACKUNGSBEILAGE.json_S : Validation Passed As Previous Heading Same As Current | H | CAP |  de | 3 | gonal-f_clean_ PACKUNGSBEILAGE.json | currHeadId :- '15013' | prevHeadingCurrId :- '' | prevHeadingFoundId :- '15013'\n",
      "2021-06-07 23:28:58,328 : Heading Extraction gonal-f_clean_ PACKUNGSBEILAGE.json_S : Match Passed : Contains<>|56.67|(76, 77, 86)|0.938| | H | CAP |  de | 3 | gonal-f_clean_ PACKUNGSBEILAGE.json | Doc txt :- '3.       Wie ist GONAL‑f anzuwenden?' | Qrd txt :- '3. Wie ist GONAL-f <einzunehmen> <anzuwenden>?' | Matched :- 'True'\n",
      "2021-06-07 23:28:58,347 : Heading Extraction gonal-f_clean_ PACKUNGSBEILAGE.json_S : Validation Passed | H | CAP |  de | 3 | gonal-f_clean_ PACKUNGSBEILAGE.json | currHeadId :- '15014' | prevHeadingCurrId :- '15013' | prevHeadingFoundId :- '15013'\n",
      " eine größere Menge von GONAL‑f angewendet haben, als Sie sollten' | Qrd txt :- 'Wenn Sie eine größere Menge von GONAL-f <eingenommen> <angewendet> haben, als Sie sollten' | Matched :- 'True'son | Doc txt :- 'Wenn Sie\n",
      "2021-06-07 23:31:23,190 : Heading Extraction gonal-f_clean_ PACKUNGSBEILAGE.json_S : Validation Flow Is Broken | H | CAP |  de | 3 | gonal-f_clean_ PACKUNGSBEILAGE.json | currHeadId :- '15016' | prevHeadingCurrId :- '' | prevHeadingFoundId :- '15014'\n",
      "2021-06-07 23:31:23,207 : Heading Extraction gonal-f_clean_ PACKUNGSBEILAGE.json_S : Validation Passed | H | CAP |  de | 3 | gonal-f_clean_ PACKUNGSBEILAGE.json | currHeadId :- '15016' | prevHeadingCurrId :- '15014' | prevHeadingFoundId :- '15014'\n",
      " Anwendung von GONAL‑f vergessen haben' | Qrd txt :- 'Wenn Sie die <Einnahme> <Anwendung> von GONAL-f vergessen haben' | Matched :- 'True'H | CAP |  de | 3 | gonal-f_clean_ PACKUNGSBEILAGE.json | Doc txt :- 'Wenn Sie die\n",
      "2021-06-07 23:31:24,071 : Heading Extraction gonal-f_clean_ PACKUNGSBEILAGE.json_S : Validation Passed | H | CAP |  de | 3 | gonal-f_clean_ PACKUNGSBEILAGE.json | currHeadId :- '15017' | prevHeadingCurrId :- '15016' | prevHeadingFoundId :- '15016'\n",
      "2021-06-07 23:31:32,661 : Heading Extraction gonal-f_clean_ PACKUNGSBEILAGE.json_S : Match Passed | H | CAP |  de | 3 | gonal-f_clean_ PACKUNGSBEILAGE.json | Doc txt :- '4. Welche Nebenwirkungen sind möglich?' | Qrd txt :- '4. Welche Nebenwirkungen sind möglich?' | Matched :- 'True'\n",
      "2021-06-07 23:31:32,689 : Heading Extraction gonal-f_clean_ PACKUNGSBEILAGE.json_S : Validation Flow Is Broken | H | CAP |  de | 3 | gonal-f_clean_ PACKUNGSBEILAGE.json | currHeadId :- '15019' | prevHeadingCurrId :- '' | prevHeadingFoundId :- '15017'\n",
      "2021-06-07 23:31:32,710 : Heading Extraction gonal-f_clean_ PACKUNGSBEILAGE.json_S : Validation Passed | H | CAP |  de | 3 | gonal-f_clean_ PACKUNGSBEILAGE.json | currHeadId :- '15019' | prevHeadingCurrId :- '15017' | prevHeadingFoundId :- '15017'\n",
      "2021-06-07 23:33:03,141 : Heading Extraction gonal-f_clean_ PACKUNGSBEILAGE.json_S : Match Passed | H | CAP |  de | 3 | gonal-f_clean_ PACKUNGSBEILAGE.json | Doc txt :- 'Meldung von Nebenwirkungen' | Qrd txt :- 'Meldung von Nebenwirkungen' | Matched :- 'True'\n",
      "2021-06-07 23:33:03,181 : Heading Extraction gonal-f_clean_ PACKUNGSBEILAGE.json_S : Validation Flow Is Broken | H | CAP |  de | 3 | gonal-f_clean_ PACKUNGSBEILAGE.json | currHeadId :- '15021' | prevHeadingCurrId :- '' | prevHeadingFoundId :- '15019'\n",
      "2021-06-07 23:33:03,203 : Heading Extraction gonal-f_clean_ PACKUNGSBEILAGE.json_S : Validation Passed | H | CAP |  de | 3 | gonal-f_clean_ PACKUNGSBEILAGE.json | currHeadId :- '15021' | prevHeadingCurrId :- '15019' | prevHeadingFoundId :- '15019'\n",
      "2021-06-07 23:33:05,677 : Heading Extraction gonal-f_clean_ PACKUNGSBEILAGE.json_S : Match Passed : <=7|3.03|(97, 97, 100)|0.993| | H | CAP |  de | 3 | gonal-f_clean_ PACKUNGSBEILAGE.json | Doc txt :- '5.       Wie ist GONAL‑f aufzubewahren?' | Qrd txt :- '5. Wie ist GONAL-f aufzubewahren?' | Matched :- 'True'\n",
      "2021-06-07 23:33:05,724 : Heading Extraction gonal-f_clean_ PACKUNGSBEILAGE.json_S : Validation Passed | H | CAP |  de | 3 | gonal-f_clean_ PACKUNGSBEILAGE.json | currHeadId :- '15022' | prevHeadingCurrId :- '15021' | prevHeadingFoundId :- '15021'\n",
      "2021-06-07 23:34:43,485 : Heading Extraction gonal-f_clean_ PACKUNGSBEILAGE.json_S : Match Passed | H | CAP |  de | 3 | gonal-f_clean_ PACKUNGSBEILAGE.json | Doc txt :- '6. Inhalt der Packung und weitere Informationen' | Qrd txt :- '6. Inhalt der Packung und weitere Informationen' | Matched :- 'True'\n",
      "2021-06-07 23:34:43,500 : Heading Extraction gonal-f_clean_ PACKUNGSBEILAGE.json_S : Validation Passed | H | CAP |  de | 3 | gonal-f_clean_ PACKUNGSBEILAGE.json | currHeadId :- '15023' | prevHeadingCurrId :- '15022' | prevHeadingFoundId :- '15022'\n"
     ]
    },
    {
     "name": "stderr",
     "output_type": "stream",
     "text": [
      "2021-06-07 23:34:43,911 : Heading Extraction gonal-f_clean_ PACKUNGSBEILAGE.json_S : Match Passed : <=4|5.26|(95, 95, 100)|0.987| | H | CAP |  de | 3 | gonal-f_clean_ PACKUNGSBEILAGE.json | Doc txt :- 'Was GONAL‑f enthält' | Qrd txt :- 'Was GONAL-f enthält' | Matched :- 'True'\n",
      "2021-06-07 23:34:43,928 : Heading Extraction gonal-f_clean_ PACKUNGSBEILAGE.json_S : Validation Passed | H | CAP |  de | 3 | gonal-f_clean_ PACKUNGSBEILAGE.json | currHeadId :- '15024' | prevHeadingCurrId :- '15023' | prevHeadingFoundId :- '15023'\n",
      " aussieht und Inhalt der Packung' | Qrd txt :- 'Wie GONAL-f aussieht und Inhalt der Packung' | Matched :- 'True', 98, 100)|0.995| | H | CAP |  de | 3 | gonal-f_clean_ PACKUNGSBEILAGE.json | Doc txt :- 'Wie GONAL‑f\n",
      "2021-06-07 23:35:52,374 : Heading Extraction gonal-f_clean_ PACKUNGSBEILAGE.json_S : Validation Passed | H | CAP |  de | 3 | gonal-f_clean_ PACKUNGSBEILAGE.json | currHeadId :- '15025' | prevHeadingCurrId :- '15024' | prevHeadingFoundId :- '15024'\n",
      " Packungsbeilage wurde zuletzt überarbeitet im {MM.JJJJ}.' | Qrd txt :- 'Diese Packungsbeilage wurde zuletzt überarbeitet im <{MM.JJJJ}> <{Monat JJJJ}>.' | Matched :- 'True'n_ PACKUNGSBEILAGE.json | Doc txt :- 'Diese\n",
      "2021-06-07 23:37:01,708 : Heading Extraction gonal-f_clean_ PACKUNGSBEILAGE.json_S : Validation Flow Is Broken | H | CAP |  de | 3 | gonal-f_clean_ PACKUNGSBEILAGE.json | currHeadId :- '15028' | prevHeadingCurrId :- '' | prevHeadingFoundId :- '15025'\n",
      "2021-06-07 23:37:01,727 : Heading Extraction gonal-f_clean_ PACKUNGSBEILAGE.json_S : Validation Passed | H | CAP |  de | 3 | gonal-f_clean_ PACKUNGSBEILAGE.json | currHeadId :- '15028' | prevHeadingCurrId :- '15025' | prevHeadingFoundId :- '15025'\n",
      "2021-06-07 23:40:23,926 : Heading Extraction gonal-f_clean_ PACKUNGSBEILAGE.json_S : Match Passed | H | CAP |  de | 3 | gonal-f_clean_ PACKUNGSBEILAGE.json | Doc txt :- 'Was in dieser Packungsbeilage steht' | Qrd txt :- 'Was in dieser Packungsbeilage steht' | Matched :- 'True'\n",
      "2021-06-07 23:40:23,943 : Heading Extraction gonal-f_clean_ PACKUNGSBEILAGE.json_S : Validation Failed As Wrong Heading Found | H | CAP |  de | 3 | gonal-f_clean_ PACKUNGSBEILAGE.json | currHeadId :- '15003' | prevHeadingCurrId :- '' | prevHeadingFoundId :- '15028'\n",
      " dieser Packungsbeilage steht' | Qrd txt :- 'Diese Packungsbeilage wurde zuletzt überarbeitet im <{MM.JJJJ}> <{Monat JJJJ}>.' | Matched :- 'True'AP |  de | 3 | gonal-f_clean_ PACKUNGSBEILAGE.json | Doc txt :- 'Was in\n",
      "2021-06-07 23:40:24,515 : Heading Extraction gonal-f_clean_ PACKUNGSBEILAGE.json_S : Validation Passed As Previous Heading Same As Current | H | CAP |  de | 3 | gonal-f_clean_ PACKUNGSBEILAGE.json | currHeadId :- '15028' | prevHeadingCurrId :- '' | prevHeadingFoundId :- '15028'\n",
      " angewendet?' | Qrd txt :- '1. Was ist GONAL-f und wofür wird es angewendet?' | Matched :- 'True' : >7|2.08|(98, 98, 100)|0.996| | H | CAP |  de | 3 | gonal-f_clean_ PACKUNGSBEILAGE.json | Doc txt :- '1.       Was ist GONAL‑f und wofür wird es\n",
      "2021-06-07 23:40:24,680 : Heading Extraction gonal-f_clean_ PACKUNGSBEILAGE.json_S : Validation Failed As Previous Heading Found is not matching | H | CAP |  de | 3 | gonal-f_clean_ PACKUNGSBEILAGE.json | currHeadId :- '15004' | prevHeadingCurrId :- '15003' | prevHeadingFoundId :- '15028'\n",
      "2021-06-07 23:40:25,371 : Heading Extraction gonal-f_clean_ PACKUNGSBEILAGE.json_S : End Of Sub Section | H | CAP |  de | 3 | gonal-f_clean_ PACKUNGSBEILAGE.json\n",
      " angewendet?' | Qrd txt :- '1. Was ist GONAL-f und wofür wird es angewendet?' | Matched :- 'True' : >7|2.08|(98, 98, 100)|0.996| | H | CAP |  de | 3 | gonal-f_clean_ PACKUNGSBEILAGE.json | Doc txt :- '1.       Was ist GONAL‑f und wofür wird es\n",
      "2021-06-07 23:40:25,506 : Heading Extraction gonal-f_clean_ PACKUNGSBEILAGE.json_S : Validation Passed As This The First Heading | H | CAP |  de | 3 | gonal-f_clean_ PACKUNGSBEILAGE.json | currHeadId :- '15004' | prevHeadingCurrId :- '' | prevHeadingFoundId :- ''\n",
      "2021-06-07 23:40:25,512 : Heading Extraction gonal-f_clean_ PACKUNGSBEILAGE.json_S : Validation Failed By Style | H | CAP |  de | 3 | gonal-f_clean_ PACKUNGSBEILAGE.json | currHeadId :- '15004' | prevHeadingCurrId :- '' | prevHeadingFoundId :- ''\n"
     ]
    },
    {
     "name": "stdout",
     "output_type": "stream",
     "text": [
      "oooooooooooooooooooooooooooooooooooooooo END OF Sub Section oooooooooooooooooooooooooooooooooooooooooooooooooooooooooooo\n",
      "----------------------------------\n",
      "RemovedByStyle\n",
      "----------------------------------\n"
     ]
    },
    {
     "name": "stderr",
     "output_type": "stream",
     "text": [
      " beachten?' | Qrd txt :- '2. Was sollten Sie vor der <Einnahme> <Anwendung> von GONAL-f beachten?' | Matched :- 'True'88, 78, 95)|0.949| | H | CAP |  de | 3 | gonal-f_clean_ PACKUNGSBEILAGE.json | Doc txt :- '2.       Was sollten Sie vor der Anwendung von GONAL‑f\n",
      "2021-06-07 23:40:26,500 : Heading Extraction gonal-f_clean_ PACKUNGSBEILAGE.json_S : Validation Passed As This The First Heading | H | CAP |  de | 3 | gonal-f_clean_ PACKUNGSBEILAGE.json | currHeadId :- '15005' | prevHeadingCurrId :- '' | prevHeadingFoundId :- ''\n",
      "2021-06-07 23:40:26,507 : Heading Extraction gonal-f_clean_ PACKUNGSBEILAGE.json_S : Validation Failed By Style | H | CAP |  de | 3 | gonal-f_clean_ PACKUNGSBEILAGE.json | currHeadId :- '15005' | prevHeadingCurrId :- '' | prevHeadingFoundId :- ''\n"
     ]
    },
    {
     "name": "stdout",
     "output_type": "stream",
     "text": [
      "----------------------------------\n",
      "RemovedByStyle\n",
      "----------------------------------\n"
     ]
    },
    {
     "name": "stderr",
     "output_type": "stream",
     "text": [
      "2021-06-07 23:40:27,607 : Heading Extraction gonal-f_clean_ PACKUNGSBEILAGE.json_S : Match Passed : Contains<>|56.67|(76, 77, 86)|0.938| | H | CAP |  de | 3 | gonal-f_clean_ PACKUNGSBEILAGE.json | Doc txt :- '3.       Wie ist GONAL‑f anzuwenden?' | Qrd txt :- '3. Wie ist GONAL-f <einzunehmen> <anzuwenden>?' | Matched :- 'True'\n",
      "2021-06-07 23:40:27,617 : Heading Extraction gonal-f_clean_ PACKUNGSBEILAGE.json_S : Validation Passed As This The First Heading | H | CAP |  de | 3 | gonal-f_clean_ PACKUNGSBEILAGE.json | currHeadId :- '15014' | prevHeadingCurrId :- '' | prevHeadingFoundId :- ''\n",
      "2021-06-07 23:40:27,623 : Heading Extraction gonal-f_clean_ PACKUNGSBEILAGE.json_S : Validation Failed By Style | H | CAP |  de | 3 | gonal-f_clean_ PACKUNGSBEILAGE.json | currHeadId :- '15014' | prevHeadingCurrId :- '' | prevHeadingFoundId :- ''\n"
     ]
    },
    {
     "name": "stdout",
     "output_type": "stream",
     "text": [
      "----------------------------------\n",
      "RemovedByStyle\n",
      "----------------------------------\n"
     ]
    },
    {
     "name": "stderr",
     "output_type": "stream",
     "text": [
      "2021-06-07 23:40:28,524 : Heading Extraction gonal-f_clean_ PACKUNGSBEILAGE.json_S : Match Passed | H | CAP |  de | 3 | gonal-f_clean_ PACKUNGSBEILAGE.json | Doc txt :- '4. Welche Nebenwirkungen sind möglich?' | Qrd txt :- '4. Welche Nebenwirkungen sind möglich?' | Matched :- 'True'\n",
      "2021-06-07 23:40:28,534 : Heading Extraction gonal-f_clean_ PACKUNGSBEILAGE.json_S : Validation Passed As This The First Heading | H | CAP |  de | 3 | gonal-f_clean_ PACKUNGSBEILAGE.json | currHeadId :- '15019' | prevHeadingCurrId :- '' | prevHeadingFoundId :- ''\n",
      "2021-06-07 23:40:28,541 : Heading Extraction gonal-f_clean_ PACKUNGSBEILAGE.json_S : Validation Failed By Style | H | CAP |  de | 3 | gonal-f_clean_ PACKUNGSBEILAGE.json | currHeadId :- '15019' | prevHeadingCurrId :- '' | prevHeadingFoundId :- ''\n"
     ]
    },
    {
     "name": "stdout",
     "output_type": "stream",
     "text": [
      "----------------------------------\n",
      "RemovedByStyle\n",
      "----------------------------------\n"
     ]
    },
    {
     "name": "stderr",
     "output_type": "stream",
     "text": [
      "2021-06-07 23:40:29,292 : Heading Extraction gonal-f_clean_ PACKUNGSBEILAGE.json_S : Match Passed : <=7|3.03|(97, 97, 100)|0.993| | H | CAP |  de | 3 | gonal-f_clean_ PACKUNGSBEILAGE.json | Doc txt :- '5.       Wie ist GONAL‑f aufzubewahren?' | Qrd txt :- '5. Wie ist GONAL-f aufzubewahren?' | Matched :- 'True'\n",
      "2021-06-07 23:40:29,306 : Heading Extraction gonal-f_clean_ PACKUNGSBEILAGE.json_S : Validation Passed As This The First Heading | H | CAP |  de | 3 | gonal-f_clean_ PACKUNGSBEILAGE.json | currHeadId :- '15022' | prevHeadingCurrId :- '' | prevHeadingFoundId :- ''\n",
      "2021-06-07 23:40:29,314 : Heading Extraction gonal-f_clean_ PACKUNGSBEILAGE.json_S : Validation Failed By Style | H | CAP |  de | 3 | gonal-f_clean_ PACKUNGSBEILAGE.json | currHeadId :- '15022' | prevHeadingCurrId :- '' | prevHeadingFoundId :- ''\n"
     ]
    },
    {
     "name": "stdout",
     "output_type": "stream",
     "text": [
      "----------------------------------\n",
      "RemovedByStyle\n",
      "----------------------------------\n"
     ]
    },
    {
     "name": "stderr",
     "output_type": "stream",
     "text": [
      "2021-06-07 23:40:30,087 : Heading Extraction gonal-f_clean_ PACKUNGSBEILAGE.json_S : Match Passed | H | CAP |  de | 3 | gonal-f_clean_ PACKUNGSBEILAGE.json | Doc txt :- '6. Inhalt der Packung und weitere Informationen' | Qrd txt :- '6. Inhalt der Packung und weitere Informationen' | Matched :- 'True'\n",
      "2021-06-07 23:40:30,094 : Heading Extraction gonal-f_clean_ PACKUNGSBEILAGE.json_S : (23, 3.0, 'CAP') Validation Passed As Current Heading Is Same As Previous H1 Heading | H | CAP |  de | 3 | gonal-f_clean_ PACKUNGSBEILAGE.json | currHeadId :- '15023' | prevHeadingCurrId :- '' | prevHeadingFoundId :- ''\n",
      "2021-06-07 23:40:30,102 : Heading Extraction gonal-f_clean_ PACKUNGSBEILAGE.json_S : Validation Failed By Style | H | CAP |  de | 3 | gonal-f_clean_ PACKUNGSBEILAGE.json | currHeadId :- '15023' | prevHeadingCurrId :- '' | prevHeadingFoundId :- ''\n"
     ]
    },
    {
     "name": "stdout",
     "output_type": "stream",
     "text": [
      "----------------------------------\n",
      "RemovedByStyle\n",
      "----------------------------------\n"
     ]
    },
    {
     "name": "stderr",
     "output_type": "stream",
     "text": [
      " angewendet?' | Qrd txt :- '1. Was ist GONAL-f und wofür wird es angewendet?' | Matched :- 'True' : >7|2.08|(98, 98, 100)|0.996| | H | CAP |  de | 3 | gonal-f_clean_ PACKUNGSBEILAGE.json | Doc txt :- '1.       Was ist GONAL‑f und wofür wird es\n",
      "2021-06-07 23:40:31,129 : Heading Extraction gonal-f_clean_ PACKUNGSBEILAGE.json_S : Validation Passed As This The First Heading | H | CAP |  de | 3 | gonal-f_clean_ PACKUNGSBEILAGE.json | currHeadId :- '15004' | prevHeadingCurrId :- '' | prevHeadingFoundId :- ''\n",
      " beachten?' | Qrd txt :- '2. Was sollten Sie vor der <Einnahme> <Anwendung> von GONAL-f beachten?' | Matched :- 'True'88, 78, 95)|0.949| | H | CAP |  de | 3 | gonal-f_clean_ PACKUNGSBEILAGE.json | Doc txt :- '2.       Was sollten Sie vor der Anwendung von GONAL‑f\n",
      "2021-06-07 23:40:47,005 : Heading Extraction gonal-f_clean_ PACKUNGSBEILAGE.json_S : Validation Passed | H | CAP |  de | 3 | gonal-f_clean_ PACKUNGSBEILAGE.json | currHeadId :- '15005' | prevHeadingCurrId :- '15004' | prevHeadingFoundId :- '15004'\n",
      " darf nicht angewendet werden,' | Qrd txt :- 'GONAL-f darf nicht <eingenommen> <angewendet> werden<,>' | Matched :- 'False'|51.35|(78, 57, 95)|0.931| | H | CAP |  de | 3 | gonal-f_clean_ PACKUNGSBEILAGE.json | Doc txt :- 'GONAL‑f\n"
     ]
    },
    {
     "name": "stdout",
     "output_type": "stream",
     "text": [
      "\n",
      "OriginalCheck\n",
      "\n"
     ]
    },
    {
     "name": "stderr",
     "output_type": "stream",
     "text": [
      "2021-06-07 23:41:14,212 : Heading Extraction gonal-f_clean_ PACKUNGSBEILAGE.json_S : Match Passed | H | CAP |  de | 3 | gonal-f_clean_ PACKUNGSBEILAGE.json | Doc txt :- 'Warnhinweise und Vorsichtsmaßnahmen' | Qrd txt :- 'Warnhinweise und Vorsichtsmaßnahmen' | Matched :- 'True'\n",
      "2021-06-07 23:41:14,232 : Heading Extraction gonal-f_clean_ PACKUNGSBEILAGE.json_S : Validation Flow Is Broken | H | CAP |  de | 3 | gonal-f_clean_ PACKUNGSBEILAGE.json | currHeadId :- '15007' | prevHeadingCurrId :- '' | prevHeadingFoundId :- '15005'\n",
      "2021-06-07 23:41:14,245 : Heading Extraction gonal-f_clean_ PACKUNGSBEILAGE.json_S : Validation Passed | H | CAP |  de | 3 | gonal-f_clean_ PACKUNGSBEILAGE.json | currHeadId :- '15007' | prevHeadingCurrId :- '15005' | prevHeadingFoundId :- '15005'\n",
      "2021-06-07 23:41:31,139 : Heading Extraction gonal-f_clean_ PACKUNGSBEILAGE.json_S : Match Passed : Contains<>|25.0|(88, 96, 95)|0.867| | H | CAP |  de | 3 | gonal-f_clean_ PACKUNGSBEILAGE.json | Doc txt :- 'Anwendung von GONAL‑f zusammen mit anderen Arzneimitteln' | Qrd txt :- '<Einnahme> <Anwendung> von GONAL-f zusammen mit anderen Arzneimitteln' | Matched :- 'True'\n",
      "2021-06-07 23:41:31,155 : Heading Extraction gonal-f_clean_ PACKUNGSBEILAGE.json_S : Validation Flow Is Broken | H | CAP |  de | 3 | gonal-f_clean_ PACKUNGSBEILAGE.json | currHeadId :- '15009' | prevHeadingCurrId :- '' | prevHeadingFoundId :- '15007'\n",
      "2021-06-07 23:41:31,166 : Heading Extraction gonal-f_clean_ PACKUNGSBEILAGE.json_S : Validation Passed | H | CAP |  de | 3 | gonal-f_clean_ PACKUNGSBEILAGE.json | currHeadId :- '15009' | prevHeadingCurrId :- '15007' | prevHeadingFoundId :- '15007'\n",
      " und Stillzeit' | Qrd txt :- 'Schwangerschaft <und> <,> Stillzeit <und Fortpflanzungsfähigkeit>' | Matched :- 'True'.14|(62, 79, 86)|0.889| | H | CAP |  de | 3 | gonal-f_clean_ PACKUNGSBEILAGE.json | Doc txt :- 'Schwangerschaft\n",
      "2021-06-07 23:41:38,719 : Heading Extraction gonal-f_clean_ PACKUNGSBEILAGE.json_S : Validation Flow Is Broken | H | CAP |  de | 3 | gonal-f_clean_ PACKUNGSBEILAGE.json | currHeadId :- '15011' | prevHeadingCurrId :- '' | prevHeadingFoundId :- '15009'\n",
      "2021-06-07 23:41:38,731 : Heading Extraction gonal-f_clean_ PACKUNGSBEILAGE.json_S : Validation Passed | H | CAP |  de | 3 | gonal-f_clean_ PACKUNGSBEILAGE.json | currHeadId :- '15011' | prevHeadingCurrId :- '15009' | prevHeadingFoundId :- '15009'\n",
      "2021-06-07 23:41:40,992 : Heading Extraction gonal-f_clean_ PACKUNGSBEILAGE.json_S : Match Passed | H | CAP |  de | 3 | gonal-f_clean_ PACKUNGSBEILAGE.json | Doc txt :- 'Verkehrstüchtigkeit und Fähigkeit zum Bedienen von Maschinen' | Qrd txt :- 'Verkehrstüchtigkeit und Fähigkeit zum Bedienen von Maschinen' | Matched :- 'True'\n",
      "2021-06-07 23:41:41,035 : Heading Extraction gonal-f_clean_ PACKUNGSBEILAGE.json_S : Validation Passed | H | CAP |  de | 3 | gonal-f_clean_ PACKUNGSBEILAGE.json | currHeadId :- '15012' | prevHeadingCurrId :- '15011' | prevHeadingFoundId :- '15011'\n",
      " enthält Natrium' | Qrd txt :- 'GONAL-f enthält {Bezeichnung <des> <der> sonstigen Bestandteil(s)(e)}' | Matched :- 'True'|0.983| | H | CAP |  de | 3 | gonal-f_clean_ PACKUNGSBEILAGE.json | Doc txt :- 'GONAL‑f\n",
      "2021-06-07 23:41:44,215 : Heading Extraction gonal-f_clean_ PACKUNGSBEILAGE.json_S : Validation Passed | H | CAP |  de | 3 | gonal-f_clean_ PACKUNGSBEILAGE.json | currHeadId :- '15013' | prevHeadingCurrId :- '15012' | prevHeadingFoundId :- '15012'\n",
      "2021-06-07 23:41:47,108 : Heading Extraction gonal-f_clean_ PACKUNGSBEILAGE.json_S : Match Passed : Contains<>|56.67|(76, 77, 86)|0.938| | H | CAP |  de | 3 | gonal-f_clean_ PACKUNGSBEILAGE.json | Doc txt :- '3.       Wie ist GONAL‑f anzuwenden?' | Qrd txt :- '3. Wie ist GONAL-f <einzunehmen> <anzuwenden>?' | Matched :- 'True'\n",
      "2021-06-07 23:41:47,122 : Heading Extraction gonal-f_clean_ PACKUNGSBEILAGE.json_S : Validation Passed | H | CAP |  de | 3 | gonal-f_clean_ PACKUNGSBEILAGE.json | currHeadId :- '15014' | prevHeadingCurrId :- '15013' | prevHeadingFoundId :- '15013'\n",
      " eine größere Menge von GONAL‑f angewendet haben, als Sie sollten' | Qrd txt :- 'Wenn Sie eine größere Menge von GONAL-f <eingenommen> <angewendet> haben, als Sie sollten' | Matched :- 'True'son | Doc txt :- 'Wenn Sie\n",
      "2021-06-07 23:42:49,330 : Heading Extraction gonal-f_clean_ PACKUNGSBEILAGE.json_S : Validation Flow Is Broken | H | CAP |  de | 3 | gonal-f_clean_ PACKUNGSBEILAGE.json | currHeadId :- '15016' | prevHeadingCurrId :- '' | prevHeadingFoundId :- '15014'\n",
      "2021-06-07 23:42:49,340 : Heading Extraction gonal-f_clean_ PACKUNGSBEILAGE.json_S : Validation Passed | H | CAP |  de | 3 | gonal-f_clean_ PACKUNGSBEILAGE.json | currHeadId :- '15016' | prevHeadingCurrId :- '15014' | prevHeadingFoundId :- '15014'\n",
      " Anwendung von GONAL‑f vergessen haben' | Qrd txt :- 'Wenn Sie die <Einnahme> <Anwendung> von GONAL-f vergessen haben' | Matched :- 'True'H | CAP |  de | 3 | gonal-f_clean_ PACKUNGSBEILAGE.json | Doc txt :- 'Wenn Sie die\n",
      "2021-06-07 23:42:49,878 : Heading Extraction gonal-f_clean_ PACKUNGSBEILAGE.json_S : Validation Passed | H | CAP |  de | 3 | gonal-f_clean_ PACKUNGSBEILAGE.json | currHeadId :- '15017' | prevHeadingCurrId :- '15016' | prevHeadingFoundId :- '15016'\n",
      "2021-06-07 23:42:55,912 : Heading Extraction gonal-f_clean_ PACKUNGSBEILAGE.json_S : Match Passed | H | CAP |  de | 3 | gonal-f_clean_ PACKUNGSBEILAGE.json | Doc txt :- '4. Welche Nebenwirkungen sind möglich?' | Qrd txt :- '4. Welche Nebenwirkungen sind möglich?' | Matched :- 'True'\n",
      "2021-06-07 23:42:55,932 : Heading Extraction gonal-f_clean_ PACKUNGSBEILAGE.json_S : Validation Flow Is Broken | H | CAP |  de | 3 | gonal-f_clean_ PACKUNGSBEILAGE.json | currHeadId :- '15019' | prevHeadingCurrId :- '' | prevHeadingFoundId :- '15017'\n",
      "2021-06-07 23:42:55,946 : Heading Extraction gonal-f_clean_ PACKUNGSBEILAGE.json_S : Validation Passed | H | CAP |  de | 3 | gonal-f_clean_ PACKUNGSBEILAGE.json | currHeadId :- '15019' | prevHeadingCurrId :- '15017' | prevHeadingFoundId :- '15017'\n",
      "2021-06-07 23:43:36,051 : Heading Extraction gonal-f_clean_ PACKUNGSBEILAGE.json_S : Match Passed | H | CAP |  de | 3 | gonal-f_clean_ PACKUNGSBEILAGE.json | Doc txt :- 'Meldung von Nebenwirkungen' | Qrd txt :- 'Meldung von Nebenwirkungen' | Matched :- 'True'\n",
      "2021-06-07 23:43:36,065 : Heading Extraction gonal-f_clean_ PACKUNGSBEILAGE.json_S : Validation Flow Is Broken | H | CAP |  de | 3 | gonal-f_clean_ PACKUNGSBEILAGE.json | currHeadId :- '15021' | prevHeadingCurrId :- '' | prevHeadingFoundId :- '15019'\n",
      "2021-06-07 23:43:36,073 : Heading Extraction gonal-f_clean_ PACKUNGSBEILAGE.json_S : Validation Passed | H | CAP |  de | 3 | gonal-f_clean_ PACKUNGSBEILAGE.json | currHeadId :- '15021' | prevHeadingCurrId :- '15019' | prevHeadingFoundId :- '15019'\n",
      "2021-06-07 23:43:36,599 : Heading Extraction gonal-f_clean_ PACKUNGSBEILAGE.json_S : Match Passed : <=7|3.03|(97, 97, 100)|0.993| | H | CAP |  de | 3 | gonal-f_clean_ PACKUNGSBEILAGE.json | Doc txt :- '5.       Wie ist GONAL‑f aufzubewahren?' | Qrd txt :- '5. Wie ist GONAL-f aufzubewahren?' | Matched :- 'True'\n",
      "2021-06-07 23:43:36,614 : Heading Extraction gonal-f_clean_ PACKUNGSBEILAGE.json_S : Validation Passed | H | CAP |  de | 3 | gonal-f_clean_ PACKUNGSBEILAGE.json | currHeadId :- '15022' | prevHeadingCurrId :- '15021' | prevHeadingFoundId :- '15021'\n",
      "2021-06-07 23:44:02,239 : Heading Extraction gonal-f_clean_ PACKUNGSBEILAGE.json_S : Match Passed | H | CAP |  de | 3 | gonal-f_clean_ PACKUNGSBEILAGE.json | Doc txt :- '6. Inhalt der Packung und weitere Informationen' | Qrd txt :- '6. Inhalt der Packung und weitere Informationen' | Matched :- 'True'\n",
      "2021-06-07 23:44:02,251 : Heading Extraction gonal-f_clean_ PACKUNGSBEILAGE.json_S : Validation Passed | H | CAP |  de | 3 | gonal-f_clean_ PACKUNGSBEILAGE.json | currHeadId :- '15023' | prevHeadingCurrId :- '15022' | prevHeadingFoundId :- '15022'\n",
      "2021-06-07 23:44:02,566 : Heading Extraction gonal-f_clean_ PACKUNGSBEILAGE.json_S : Match Passed : <=4|5.26|(95, 95, 100)|0.987| | H | CAP |  de | 3 | gonal-f_clean_ PACKUNGSBEILAGE.json | Doc txt :- 'Was GONAL‑f enthält' | Qrd txt :- 'Was GONAL-f enthält' | Matched :- 'True'\n",
      "2021-06-07 23:44:02,578 : Heading Extraction gonal-f_clean_ PACKUNGSBEILAGE.json_S : Validation Passed | H | CAP |  de | 3 | gonal-f_clean_ PACKUNGSBEILAGE.json | currHeadId :- '15024' | prevHeadingCurrId :- '15023' | prevHeadingFoundId :- '15023'\n"
     ]
    },
    {
     "name": "stderr",
     "output_type": "stream",
     "text": [
      " aussieht und Inhalt der Packung' | Qrd txt :- 'Wie GONAL-f aussieht und Inhalt der Packung' | Matched :- 'True', 98, 100)|0.995| | H | CAP |  de | 3 | gonal-f_clean_ PACKUNGSBEILAGE.json | Doc txt :- 'Wie GONAL‑f\n",
      "2021-06-07 23:44:29,011 : Heading Extraction gonal-f_clean_ PACKUNGSBEILAGE.json_S : Validation Passed | H | CAP |  de | 3 | gonal-f_clean_ PACKUNGSBEILAGE.json | currHeadId :- '15025' | prevHeadingCurrId :- '15024' | prevHeadingFoundId :- '15024'\n",
      " wurde zuletzt überarbeitet im {MM.JJJJ}.' | Qrd txt :- 'Diese Packungsbeilage wurde zuletzt überarbeitet im <{MM.JJJJ}> <{Monat JJJJ}>.' | Matched :- 'True'3 | gonal-f_clean_ PACKUNGSBEILAGE.json | Doc txt :- 'Diese Packungsbeilage\n",
      "2021-06-07 23:44:46,192 : Heading Extraction gonal-f_clean_ PACKUNGSBEILAGE.json_S : Validation Flow Is Broken | H | CAP |  de | 3 | gonal-f_clean_ PACKUNGSBEILAGE.json | currHeadId :- '15028' | prevHeadingCurrId :- '' | prevHeadingFoundId :- '15025'\n",
      "2021-06-07 23:44:46,203 : Heading Extraction gonal-f_clean_ PACKUNGSBEILAGE.json_S : Validation Passed | H | CAP |  de | 3 | gonal-f_clean_ PACKUNGSBEILAGE.json | currHeadId :- '15028' | prevHeadingCurrId :- '15025' | prevHeadingFoundId :- '15025'\n",
      " im {MM.JJJJ}.' | Qrd txt :- 'Diese Packungsbeilage wurde zuletzt überarbeitet im <{MM.JJJJ}> <{Monat JJJJ}>.' | Matched :- 'True'|0.887| | H | CAP |  de | 3 | gonal-f_clean_ PACKUNGSBEILAGE.json | Doc txt :- 'Diese „Hinweise für den Gebrauch“ wurden zuletzt überarbeitet\n",
      "2021-06-07 23:47:04,420 : Heading Extraction gonal-f_clean_ PACKUNGSBEILAGE.json_S : Validation Passed As Previous Heading Same As Current | H | CAP |  de | 3 | gonal-f_clean_ PACKUNGSBEILAGE.json | currHeadId :- '15028' | prevHeadingCurrId :- '' | prevHeadingFoundId :- '15028'\n",
      "2021-06-07 23:47:04,433 : Flow Logger HTML_a : Completed Heading Extraction For File | H | CAP |  de | HTML | gonal-f_clean.htm\n",
      "2021-06-07 23:47:04,435 : Flow Logger HTML_a : 3: Heading Extraction,20.4803 Min,5.300846 MB,11.793447 MB,48.9%\n",
      " | H | CAP |  de | HTML | gonal-f_clean.htm\n",
      "2021-06-07 23:47:04,446 : Flow Logger HTML_a : Starting Document Annotation For File | H | CAP |  de | HTML | gonal-f_clean.htm\n",
      "2021-06-07 23:47:04,464 : Flow Logger HTML_a : Completed Document Annotation | H | CAP |  de | HTML | gonal-f_clean.htm\n",
      "2021-06-07 23:47:04,467 : Flow Logger HTML_a : 3: Document Annotation,0.0004 Min,0.156042 MB,0.175222 MB,48.9%\n",
      " | H | CAP |  de | HTML | gonal-f_clean.htm\n",
      "2021-06-07 23:47:04,470 : Flow Logger HTML_a : Starting Extracting Content Between Heading | H | CAP |  de | HTML | gonal-f_clean.htm\n",
      "2021-06-07 23:47:04,481 : ExtractContentBetween_3_S : Cleaning Match Results | H | CAP |  de | 3 | gonal-f_clean_ PACKUNGSBEILAGE.json\n",
      "2021-06-07 23:47:04,497 : ExtractContentBetween_3_S : Finished Cleaning Match Results | H | CAP |  de | 3 | gonal-f_clean_ PACKUNGSBEILAGE.json\n"
     ]
    },
    {
     "name": "stdout",
     "output_type": "stream",
     "text": [
      "\n",
      "\n",
      "Heading Not Found \n",
      " ['q Dieses Arzneimittel unterliegt einer zusätzlichen Überwachung. Dies ermöglicht eine schnelle Identifizierung neuer Erkenntnisse über die Sicherheit. Sie können dabei helfen, indem Sie jede auftretende Nebenwirkung melden. Hinweise zur Meldung von Nebenwirkungen, siehe Ende Abschnitt 4', 'X darf nicht <eingenommen> <angewendet> werden<,>', 'Kinder <und Jugendliche>', '<Einnahme> <Anwendung> von X zusammen mit <Nahrungsmitteln> <und> <,> <Getränken> <und> <Alkohol>', 'Anwendung bei Kindern <und Jugendlichen>', 'Wenn Sie die <Einnahme> <Anwendung> von X abbrechen', 'Zusätzliche Nebenwirkungen bei Kindern <und Jugendlichen>', 'Pharmazeutischer Unternehmer und Hersteller', 'Falls Sie weitere Informationen über das Arzneimittel wünschen, setzen Sie sich bitte mit dem örtlichen Vertreter des pharmazeutischen Unternehmers in Verbindung:', 'Weitere Informationsquellen', 'Die folgenden Informationen sind für medizinisches Fachpersonal bestimmt:']\n",
      "\n",
      "\n",
      "dict_keys(['1. Was ist GONAL-f und wofür wird es angewendet?', '2. Was sollten Sie vor der <Einnahme> <Anwendung> von GONAL-f beachten?', '3. Wie ist GONAL-f <einzunehmen> <anzuwenden>?', '4. Welche Nebenwirkungen sind möglich?', '5. Wie ist GONAL-f aufzubewahren?', '6. Inhalt der Packung und weitere Informationen'])\n",
      "Completed Heading Extraction For File\n",
      "Metrics : 3: Heading Extraction,20.4803 Min,5.300846 MB,11.793447 MB,48.9%\n",
      "\n",
      "Starting Document Annotation For File :- gonal-f_clean_ PACKUNGSBEILAGE.json\n",
      "Error Found No Authorization Code Found In The Document gonal-f_clean_ PACKUNGSBEILAGE.json\n",
      "Completed Document Annotation\n",
      "Metrics : 3: Document Annotation,0.0004 Min,0.156042 MB,0.175222 MB,48.9%\n",
      "\n",
      "Starting Extracting Content Between Heading For File :- gonal-f_clean_ PACKUNGSBEILAGE.json\n",
      "File being processed: F:\\Projects\\EMA\\Repository\\EMA EPI PoC\\function_code\\work\\H\\CAP\\GONAL-f\\de\\2021-06-07T06-58-30Z\\partitionedJSONs\\gonal-f_clean_ PACKUNGSBEILAGE.json\n",
      "--------------------------------------------\n"
     ]
    },
    {
     "name": "stderr",
     "output_type": "stream",
     "text": [
      "2021-06-07 23:47:05,209 : Flow Logger HTML_a : Completed Extracting Content Between Heading | H | CAP |  de | HTML | gonal-f_clean.htm\n",
      "2021-06-07 23:47:05,212 : Flow Logger HTML_a : 3: Content Extraction,0.0124 Min,8.944276 MB,23.32807 MB,49.1%\n",
      " | H | CAP |  de | HTML | gonal-f_clean.htm\n",
      "2021-06-07 23:47:05,299 : XmlGeneration_3_Z : PMS/OMS Annotation Information Not Retrieved | H | CAP |  de | 3 | gonal-f_clean_ PACKUNGSBEILAGE.json\n",
      "2021-06-07 23:47:05,302 : XmlGeneration_3_Z : Initiating XML Generation | H | CAP |  de | 3 | gonal-f_clean_ PACKUNGSBEILAGE.json\n"
     ]
    },
    {
     "name": "stdout",
     "output_type": "stream",
     "text": [
      "Completed Extracting Content Between Heading\n",
      "Metrics : 3: Content Extraction,0.0124 Min,8.944276 MB,23.32807 MB,49.1%\n",
      "\n",
      "Already Exists\n"
     ]
    },
    {
     "name": "stderr",
     "output_type": "stream",
     "text": [
      "2021-06-07 23:47:06,402 : XmlGeneration_3_Z : Writing to File:gonal-f_clean_ PACKUNGSBEILAGE.xml | H | CAP |  de | 3 | gonal-f_clean_ PACKUNGSBEILAGE.json\n",
      "2021-06-07 23:47:06,443 : Flow Logger HTML_a : 3: Generate XML,0.0204 Min,7.552473 MB,38.813669 MB,49.1%\n",
      " | H | CAP |  de | HTML | gonal-f_clean.htm\n"
     ]
    },
    {
     "name": "stdout",
     "output_type": "stream",
     "text": [
      "Metrics : 3: Generate XML,0.0204 Min,7.552473 MB,38.813669 MB,49.1%\n",
      "\n"
     ]
    },
    {
     "name": "stderr",
     "output_type": "stream",
     "text": [
      "2021-06-07 23:47:15,678 : XML Submission Logger_3_V : Initiating Submission To FHIR Server | H | CAP |  de | 3 | gonal-f_clean_ PACKUNGSBEILAGE.json\n",
      "2021-06-07 23:47:15,679 : XML Submission Logger_3_V : Response{\"resourceType\":\"OperationOutcome\",\"id\":\"aff8c067-8460-4afb-ba84-90b08179dfc3\",\"issue\":[{\"severity\":\"error\",\"code\":\"invalid\",\"diagnostics\":\"The requested resource exceeded the backing database's size limit.\"}]} | H | CAP |  de | 3 | gonal-f_clean_ PACKUNGSBEILAGE.json\n",
      "2021-06-07 23:47:15,680 : XML Submission Logger_3_V : HTTP error occurred: 413 Client Error: Payload Too Large for url: https://ema-dap-epi-dev-fhir-apim.azure-api.net/epi-w/v1/Bundle | H | CAP |  de | 3 | gonal-f_clean_ PACKUNGSBEILAGE.json\n",
      "Traceback (most recent call last):\n",
      "  File \"F:\\Projects\\EMA\\Repository\\EMA EPI PoC\\function_code\\code\\fhirService\\fhirService.py\", line 70, in submitFhirXml\n",
      "    response.raise_for_status()\n",
      "  File \"C:\\Users\\vipsharm\\AppData\\Local\\Continuum\\anaconda3\\envs\\py38\\lib\\site-packages\\requests\\models.py\", line 943, in raise_for_status\n",
      "    raise HTTPError(http_error_msg, response=self)\n",
      "requests.exceptions.HTTPError: 413 Client Error: Payload Too Large for url: https://ema-dap-epi-dev-fhir-apim.azure-api.net/epi-w/v1/Bundle\n",
      "2021-06-07 23:47:15,702 : XML Submission Logger_3_V : HTTP error occurred: 413 Client Error: Payload Too Large for url: https://ema-dap-epi-dev-fhir-apim.azure-api.net/epi-w/v1/Bundle | H | CAP |  de | 3 | gonal-f_clean_ PACKUNGSBEILAGE.json\n",
      "2021-06-07 23:47:15,704 : XML Submission Logger_3_V : Error log:The requested resource exceeded the backing database's size limit. | H | CAP |  de | 3 | gonal-f_clean_ PACKUNGSBEILAGE.json\n",
      "Traceback (most recent call last):\n",
      "  File \"F:\\Projects\\EMA\\Repository\\EMA EPI PoC\\function_code\\code\\fhirService\\fhirService.py\", line 70, in submitFhirXml\n",
      "    response.raise_for_status()\n",
      "  File \"C:\\Users\\vipsharm\\AppData\\Local\\Continuum\\anaconda3\\envs\\py38\\lib\\site-packages\\requests\\models.py\", line 943, in raise_for_status\n",
      "    raise HTTPError(http_error_msg, response=self)\n",
      "requests.exceptions.HTTPError: 413 Client Error: Payload Too Large for url: https://ema-dap-epi-dev-fhir-apim.azure-api.net/epi-w/v1/Bundle\n",
      "2021-06-07 23:47:15,706 : XML Submission Logger_3_V : Error log:The requested resource exceeded the backing database's size limit. | H | CAP |  de | 3 | gonal-f_clean_ PACKUNGSBEILAGE.json\n",
      "2021-06-07 23:47:15,708 : Flow Logger HTML_a : 3: Submit FHIR Msg,0.1543 Min,0.327257 MB,0.338788 MB,48.8%\n",
      " | H | CAP |  de | HTML | gonal-f_clean.htm\n",
      "2021-06-07 23:47:15,710 : Flow Logger HTML_a : Starting list bundle update/addition | H | CAP |  de | HTML | gonal-f_clean.htm\n",
      "2021-06-07 23:47:15,729 : List Bundle Creation Logger_3_l : Extracted list bundle document type code this document 100000155538 | H | CAP |  de | 3 | gonal-f_clean_ PACKUNGSBEILAGE.json\n",
      "2021-06-07 23:47:15,738 : List Bundle Creation Logger_3_l : Getting Existing List Bundle accross all MANs | H | CAP |  de | 3 | gonal-f_clean_ PACKUNGSBEILAGE.json\n",
      "2021-06-07 23:47:15,739 : List Bundle Creation Logger_3_l : Getting list bundle for MAN EU/1/95/001/025  | H | CAP |  de | 3 | gonal-f_clean_ PACKUNGSBEILAGE.json\n"
     ]
    },
    {
     "name": "stdout",
     "output_type": "stream",
     "text": [
      "HTTP error occurred: 413 Client Error: Payload Too Large for url: https://ema-dap-epi-dev-fhir-apim.azure-api.net/epi-w/v1/Bundle\n",
      "Error log: The requested resource exceeded the backing database's size limit.\n",
      "Metrics : 3: Submit FHIR Msg,0.1543 Min,0.327257 MB,0.338788 MB,48.8%\n",
      "\n",
      "Created XML File For :- gonal-f_clean_ PACKUNGSBEILAGE.json\n",
      "\n",
      "listRegulatedAuthCodesAccrossePI ['EU/1/95/001/025', 'EU/1/95/001/026', 'EU/1/95/001/027', 'EU/1/95/001/021', 'EU/1/95/001/031', 'EU/1/95/001/000', 'EU/1/95/001/033', 'EU/1/95/001/034', 'EU/1/95/001/035', 'EU/1/95/001/025', 'EU/1/95/001/026', 'EU/1/95/001/027', 'EU/1/95/001/021', 'EU/1/95/001/031', 'EU/1/95/001/000', 'EU/1/95/001/033', 'EU/1/95/001/034', 'EU/1/95/001/035']\n"
     ]
    },
    {
     "name": "stderr",
     "output_type": "stream",
     "text": [
      "2021-06-07 23:47:16,594 : List Bundle Creation Logger_3_l : Getting list bundle for MAN EU/1/95/001/026  | H | CAP |  de | 3 | gonal-f_clean_ PACKUNGSBEILAGE.json\n",
      "2021-06-07 23:47:17,467 : List Bundle Creation Logger_3_l : Getting list bundle for MAN EU/1/95/001/027  | H | CAP |  de | 3 | gonal-f_clean_ PACKUNGSBEILAGE.json\n",
      "2021-06-07 23:47:18,749 : List Bundle Creation Logger_3_l : Getting list bundle for MAN EU/1/95/001/021  | H | CAP |  de | 3 | gonal-f_clean_ PACKUNGSBEILAGE.json\n",
      "2021-06-07 23:47:19,739 : List Bundle Creation Logger_3_l : Getting list bundle for MAN EU/1/95/001/031  | H | CAP |  de | 3 | gonal-f_clean_ PACKUNGSBEILAGE.json\n",
      "2021-06-07 23:47:20,580 : List Bundle Creation Logger_3_l : Getting list bundle for MAN EU/1/95/001/000  | H | CAP |  de | 3 | gonal-f_clean_ PACKUNGSBEILAGE.json\n",
      "2021-06-07 23:47:21,477 : List Bundle Creation Logger_3_l : Getting list bundle for MAN EU/1/95/001/033  | H | CAP |  de | 3 | gonal-f_clean_ PACKUNGSBEILAGE.json\n",
      "2021-06-07 23:47:22,628 : List Bundle Creation Logger_3_l : Getting list bundle for MAN EU/1/95/001/034  | H | CAP |  de | 3 | gonal-f_clean_ PACKUNGSBEILAGE.json\n",
      "2021-06-07 23:47:23,466 : List Bundle Creation Logger_3_l : Getting list bundle for MAN EU/1/95/001/035  | H | CAP |  de | 3 | gonal-f_clean_ PACKUNGSBEILAGE.json\n",
      "2021-06-07 23:47:24,289 : List Bundle Creation Logger_3_l : Getting list bundle for MAN EU/1/95/001/025  | H | CAP |  de | 3 | gonal-f_clean_ PACKUNGSBEILAGE.json\n",
      "2021-06-07 23:47:25,162 : List Bundle Creation Logger_3_l : Getting list bundle for MAN EU/1/95/001/026  | H | CAP |  de | 3 | gonal-f_clean_ PACKUNGSBEILAGE.json\n",
      "2021-06-07 23:47:26,114 : List Bundle Creation Logger_3_l : Getting list bundle for MAN EU/1/95/001/027  | H | CAP |  de | 3 | gonal-f_clean_ PACKUNGSBEILAGE.json\n",
      "2021-06-07 23:47:26,965 : List Bundle Creation Logger_3_l : Getting list bundle for MAN EU/1/95/001/021  | H | CAP |  de | 3 | gonal-f_clean_ PACKUNGSBEILAGE.json\n",
      "2021-06-07 23:47:27,988 : List Bundle Creation Logger_3_l : Getting list bundle for MAN EU/1/95/001/031  | H | CAP |  de | 3 | gonal-f_clean_ PACKUNGSBEILAGE.json\n",
      "2021-06-07 23:47:29,027 : List Bundle Creation Logger_3_l : Getting list bundle for MAN EU/1/95/001/000  | H | CAP |  de | 3 | gonal-f_clean_ PACKUNGSBEILAGE.json\n",
      "2021-06-07 23:47:29,845 : List Bundle Creation Logger_3_l : Getting list bundle for MAN EU/1/95/001/033  | H | CAP |  de | 3 | gonal-f_clean_ PACKUNGSBEILAGE.json\n",
      "2021-06-07 23:47:30,805 : List Bundle Creation Logger_3_l : Getting list bundle for MAN EU/1/95/001/034  | H | CAP |  de | 3 | gonal-f_clean_ PACKUNGSBEILAGE.json\n",
      "2021-06-07 23:47:31,710 : List Bundle Creation Logger_3_l : Getting list bundle for MAN EU/1/95/001/035  | H | CAP |  de | 3 | gonal-f_clean_ PACKUNGSBEILAGE.json\n",
      "2021-06-07 23:47:32,541 : List Bundle Creation Logger_3_l : Getting Existing List Bundle using common list id 4e8cd513-14c0-446b-915e-b46b0ee889a6 | H | CAP |  de | 3 | gonal-f_clean_ PACKUNGSBEILAGE.json\n",
      "2021-06-07 23:47:33,350 : List Bundle Creation Logger_3_l : Added missing MAN identifiers | H | CAP |  de | 3 | gonal-f_clean_ PACKUNGSBEILAGE.json\n",
      "2021-06-07 23:47:33,351 : List Bundle Creation Logger_3_l : Adding a new item | H | CAP |  de | 3 | gonal-f_clean_ PACKUNGSBEILAGE.json\n",
      "2021-06-07 23:47:33,355 : List Bundle Creation Logger_3_l : Converted to required XML format | H | CAP |  de | 3 | gonal-f_clean_ PACKUNGSBEILAGE.json\n"
     ]
    },
    {
     "name": "stdout",
     "output_type": "stream",
     "text": [
      "Updating\n"
     ]
    },
    {
     "name": "stderr",
     "output_type": "stream",
     "text": [
      "2021-06-07 23:47:34,320 : List Bundle Creation Logger_3_l : List update successfully completed 4e8cd513-14c0-446b-915e-b46b0ee889a6 | H | CAP |  de | 3 | gonal-f_clean_ PACKUNGSBEILAGE.json\n",
      "2021-06-07 23:47:34,322 : Flow Logger HTML_a : Completed list bundle update/addition | H | CAP |  de | HTML | gonal-f_clean.htm\n",
      "2021-06-07 23:47:34,323 : Flow Logger HTML_a : 3: Update/Add List Bundle,0.3102 Min,0.325238 MB,0.491138 MB,48.9%\n",
      " | H | CAP |  de | HTML | gonal-f_clean.htm\n",
      "2021-06-07 23:47:34,324 : Flow Logger HTML_a : Completed Processing Partitioned Jsons | H | CAP |  de | HTML | gonal-f_clean.htm\n",
      "2021-06-07 23:47:34,326 : Flow Logger HTML_a : 3: Completed,0.0 Min,0.150051 MB,0.152393 MB,48.9%\n",
      " | H | CAP |  de | HTML | gonal-f_clean.htm\n",
      "2021-06-07 23:47:34,327 : Flow Logger HTML_a : Final Metrics,30.7539 Min,0.0 MB,62.674322 MB,50.4%\n",
      " | H | CAP |  de | HTML | gonal-f_clean.htm\n"
     ]
    },
    {
     "name": "stdout",
     "output_type": "stream",
     "text": [
      "Metrics : 3: Update/Add List Bundle,0.3102 Min,0.325238 MB,0.491138 MB,48.9%\n",
      "\n",
      "Metrics : 3: Completed,0.0 Min,0.150051 MB,0.152393 MB,48.9%\n",
      "\n",
      "Metrics : Final Metrics,30.7539 Min,0.0 MB,62.674322 MB,50.4%\n",
      "\n"
     ]
    }
   ],
   "source": [
    "inputList = ['GONAL-f~H~CAP~de~2021-06-07T06-58-30Z.zip']\n",
    "runAll(inputList)"
   ]
  },
  {
   "cell_type": "code",
   "execution_count": null,
   "metadata": {},
   "outputs": [],
   "source": [
    "inputList = ['Ovaleap~H~CAP~de~2021-06-07T08-05-21Z.zip',\n",
    "            'Ovaleap~H~CAP~en~2021-06-04T08-18-55Z.zip',\n",
    "            'Ovaleap~H~CAP~es~2021-06-07T11-37-57Z.zip',\n",
    "            'Ovaleap~H~CAP~el~2021-06-07T09-07-39Z.zip']\n",
    "runAll(inputList)"
   ]
  },
  {
   "cell_type": "code",
   "execution_count": null,
   "metadata": {},
   "outputs": [],
   "source": []
  }
 ],
 "metadata": {
  "kernelspec": {
   "display_name": "Python [conda env:py38] *",
   "language": "python",
   "name": "conda-env-py38-py"
  },
  "language_info": {
   "codemirror_mode": {
    "name": "ipython",
    "version": 3
   },
   "file_extension": ".py",
   "mimetype": "text/x-python",
   "name": "python",
   "nbconvert_exporter": "python",
   "pygments_lexer": "ipython3",
   "version": "3.8.5"
  }
 },
 "nbformat": 4,
 "nbformat_minor": 4
}
