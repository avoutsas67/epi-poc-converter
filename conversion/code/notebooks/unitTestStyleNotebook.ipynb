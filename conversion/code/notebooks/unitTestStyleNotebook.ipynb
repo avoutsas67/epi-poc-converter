{
 "cells": [
  {
   "cell_type": "code",
   "execution_count": 1,
   "metadata": {},
   "outputs": [],
   "source": [
    "import unittest\n",
    "import os\n",
    "from parse.extractor.parser import parserExtractor\n",
    "from parse.rulebook.rulebook import StyleRulesDictionary\n",
    "from utils.logger.matchLogger import MatchLogger\n",
    "from utils.config import config\n",
    "from collections import defaultdict\n",
    "from bs4 import NavigableString, BeautifulSoup\n",
    "import uuid\n",
    "import json\n",
    "from scripts.jsonHandlingUtils import loadJSON_Convert_to_DF, mkdir, addjson\n",
    "import pandas as pd\n",
    "import random\n",
    "import string\n",
    "\n",
    "\n",
    "class TestParserExtractor(unittest.TestCase):\n",
    "    \n",
    "    \n",
    "    def createHtmlDataframe(self, jsonFilePath):\n",
    "        '''\n",
    "        Create dataframe from the partitionedJson files.\n",
    "\n",
    "        '''\n",
    "        output_filename = os.path.join(jsonFilePath)\n",
    "        print('File being processed: ' + output_filename)\n",
    "        print(\"--------------------------------------------\")\n",
    "        # print(output_filename)\n",
    "        with open(output_filename, encoding='utf-8') as f:\n",
    "            json_html = json.load(f)\n",
    "\n",
    "        dic_json = {}\n",
    "        #print(json_html)\n",
    "        #print(type(json_html))\n",
    "        for i in json_html['data']:\n",
    "            for j in i.keys():\n",
    "                dic_json = addjson(dic_json, j, i[j])\n",
    "\n",
    "        # print(loadJSON_Convert_to_DF(output_filename))\n",
    "        df = pd.DataFrame(dic_json)\n",
    "        # print(df.shape)\n",
    "        # display(df.head(5))\n",
    "        return df\n",
    "\n",
    "    def getRandomString(self,N):\n",
    "        str_ = ''.join(random.choice(string.ascii_uppercase + string.digits\n",
    "                                     + string.ascii_lowercase) for _ in range(N))\n",
    "        return str_\n",
    "\n",
    "    def parseTestHtml(self):\n",
    "        \n",
    "        basePath = os.path.join(os.path.abspath(os.path.join('..')),\"testWork\")\n",
    "        controlBasePath = os.path.join(os.path.abspath(os.path.join('..')),'control')\n",
    "        htmlDocName = \"testDoc.html\"\n",
    "        domain = \"H\"\n",
    "        procedureType = \"CAP\"\n",
    "        languageCode = \"el\"\n",
    "        fileNameQrd = 'qrd_canonical_model.csv'\n",
    "        output_json_path = os.path.join(basePath)\n",
    "        fileNameLog = os.path.join(basePath,'FinalLog.txt')\n",
    "        logger = MatchLogger(f'TestParser_{self.getRandomString(1)}', \"testDoc.html\",\n",
    "                             \"H\", \"CAP\", \"el\", \"HTML\", fileNameLog)\n",
    "\n",
    "        styleLogger = MatchLogger(\n",
    "            f'Style Dictionary_{self.getRandomString(1)}', htmlDocName, domain, procedureType, languageCode, \"HTML\", fileNameLog)\n",
    "\n",
    "        styleRulesObj = StyleRulesDictionary(logger=styleLogger,\n",
    "                                             controlBasePath=controlBasePath,\n",
    "                                             language=languageCode,\n",
    "                                             fileName=fileNameQrd,\n",
    "                                             domain=domain,\n",
    "                                             procedureType=procedureType\n",
    "                                             )\n",
    "        \n",
    "        parserObj = parserExtractor(config, logger, styleRulesObj.styleRuleDict,\n",
    "                                    styleRulesObj.styleFeatureKeyList,\n",
    "                                    styleRulesObj.qrd_section_headings)\n",
    "        \n",
    "\n",
    "        output_filename = os.path.join(output_json_path, htmlDocName)\n",
    "        style_filepath =  output_filename.replace('.html','.txt')\n",
    "        style_filepath =  style_filepath.replace('.txtl','.txt')\n",
    "        style_filepath =  style_filepath.replace('.htm','.txt')\n",
    "        print(\"-------------\",style_filepath,\"-----------------\")\n",
    "\n",
    "        output_filename = output_filename.replace('.html', '.json')\n",
    "        output_filename = output_filename.replace('.htm', '.json')\n",
    "        input_filename = os.path.join(basePath, htmlDocName)\n",
    "        print(input_filename, output_filename)\n",
    "        parserObj.createPIJsonFromHTML(input_filepath=input_filename,\n",
    "                                       output_filepath=output_filename,\n",
    "                                       style_filepath = style_filepath,\n",
    "                                       img_base64_dict=parserObj.convertImgToBase64(input_filename)\n",
    "                                       )\n",
    "        \n",
    "        return parserObj, output_filename, style_filepath\n",
    "        #return self.assertIn('parserExtractor', str(type(parserObj)))\n",
    "        \n",
    "    def createNewFeatureObj(self, styleFeatureKeyList, defaultValue = None):\n",
    "        featureDict = {}\n",
    "        for key in styleFeatureKeyList: \n",
    "            featureDict[key] = defaultValue\n",
    "        return featureDict\n",
    "    \n",
    "    def extractFeaturesFromOutput(self, dfRow):\n",
    "        \n",
    "        styleFeatureKeyList = ['Bold', 'Italics', 'Uppercased', 'Underlined', 'Indexed', 'IsListItem', 'HasBorder']\n",
    "        \n",
    "        \n",
    "        finalDict = self.createNewFeatureObj(styleFeatureKeyList)\n",
    "        #print(\"Init\",finalDict)\n",
    "        for key in styleFeatureKeyList:\n",
    "            finalDict[key] = dfRow[key][0]\n",
    "        \n",
    "        return dict(finalDict)\n",
    "    \n",
    "    def testFeaturesForTestHtmlElement(self, text, resultFeatures):\n",
    "        \n",
    "        parserObj, output_filename, style_filepath = self.parseTestHtml()\n",
    "        df = self.createHtmlDataframe(output_filename)\n",
    "\n",
    "        final = self.extractFeaturesFromOutput(df[df['Text'].str.contains(text)])\n",
    "        \n",
    "        return self.assertEqual(final,resultFeatures)\n",
    "    \n",
    "    def testFeaturesForHtmlElement(self, htmlString, parentFeatures, resultFeatures):\n",
    "        \n",
    "        soup = BeautifulSoup(htmlString, \"html.parser\")\n",
    "\n",
    "        parserObj, output_filename, style_filepath = self.parseTestHtml()\n",
    "        \n",
    "        styleFeatureKeyList = ['Bold', 'Italics', 'Underlined']\n",
    "        tagDict = {'Bold':'b', 'Italics':'i', 'Underlined': 'u'}\n",
    "        finalFeatues = tagDict\n",
    "        \n",
    "        styleDataReader = open(style_filepath, 'r')\n",
    "        css_in_style = BeautifulSoup(styleDataReader, \"html.parser\")\n",
    "\n",
    "        css_in_style = parserObj.cleanCssString(str(css_in_style))\n",
    "        class_style_dict = parserObj.parseClassesInStyle(css_in_style)\n",
    "\n",
    "        for feature in styleFeatureKeyList:\n",
    "            finalFeatues[feature] = parserObj.checkAllChildrenForFeature(soup, parentFeatures , tagDict[feature], class_style_dict)\n",
    "         \n",
    "        return self.assertEqual(finalFeatues,resultFeatures)"
   ]
  },
  {
   "cell_type": "code",
   "execution_count": 3,
   "metadata": {},
   "outputs": [
    {
     "name": "stderr",
     "output_type": "stream",
     "text": [
      "2021-06-22 03:12:36,797 : Style Dictionary_r : Reading style dictionary in file: rule_dictionary_el.json | H | CAP |  el | HTML | testDoc.html\n",
      "2021-06-22 03:12:36,833 : Style Dictionary_r : Qrd Section Keys Retrieved For Style Dictionary: ΠΕΡΙΛΗΨΗ ΤΩΝ ΧΑΡΑΚΤΗΡΙΣΤΙΚΩΝ ΤΟΥ ΠΡΟΪΟΝΤΟΣ, ΠΑΡΑΡΤΗΜΑ II, A. ΕΠΙΣΗΜΑΝΣΗ, B. ΦΥΛΛΟ ΟΔΗΓΙΩΝ ΧΡΗΣΗΣ | H | CAP |  el | HTML | testDoc.html\n"
     ]
    },
    {
     "name": "stdout",
     "output_type": "stream",
     "text": [
      "------------- D:\\Projects\\EMA\\Repository\\EMA EPI PoC\\function_code\\testWork\\testDoc.txt -----------------\n",
      "D:\\Projects\\EMA\\Repository\\EMA EPI PoC\\function_code\\testWork\\testDoc.html D:\\Projects\\EMA\\Repository\\EMA EPI PoC\\function_code\\testWork\\testDoc.json\n"
     ]
    },
    {
     "name": "stderr",
     "output_type": "stream",
     "text": [
      "2021-06-22 03:12:37,054 : TestParser_S : Style Information Stored In File: D:\\Projects\\EMA\\Repository\\EMA EPI PoC\\function_code\\testWork\\testDoc.txt | H | CAP |  el | HTML | testDoc.html\n",
      "2021-06-22 03:12:37,079 : TestParser_S : Writing to file: D:\\Projects\\EMA\\Repository\\EMA EPI PoC\\function_code\\testWork\\testDoc.json | H | CAP |  el | HTML | testDoc.html\n"
     ]
    }
   ],
   "source": [
    "TestParserExtractor().testFeaturesForHtmlElement('<p class=\"EMEAHeading1\"><span lang=\"EL\">1.&nbsp;&nbsp;&nbsp;&nbsp;&nbsp;&nbsp; </span><span lang=\"EN-GB\">ONOMA</span><span lang=\"EL\">Σ</span><span lang=\"EN-GB\">IA</span><span lang=\"EN-GB\"> </span><span lang=\"EN-GB\">TOY</span><span lang=\"EL\"> Φ</span><span lang=\"EN-GB\">APMAKEYTIKOY</span><span lang=\"EL\"> Π</span><span lang=\"EN-GB\">PO</span><span lang=\"EL\">Ϊ</span><span lang=\"EN-GB\">ONTO</span><span lang=\"EL\">Σ</span></p>',\n",
    "                                                 {'Bold': True,\n",
    "                                                 'Italics': False,\n",
    "                                                 'Underlined': False},\n",
    "                                                 {'Bold': True,\n",
    "                                                 'Italics': False,\n",
    "                                                 'Underlined': False})"
   ]
  },
  {
   "cell_type": "code",
   "execution_count": 4,
   "metadata": {},
   "outputs": [
    {
     "name": "stderr",
     "output_type": "stream",
     "text": [
      "2021-06-22 03:12:39,196 : Style Dictionary_r : Reading style dictionary in file: rule_dictionary_el.json | H | CAP |  el | HTML | testDoc.html\n",
      "2021-06-22 03:12:39,196 : Style Dictionary_r : Reading style dictionary in file: rule_dictionary_el.json | H | CAP |  el | HTML | testDoc.html\n",
      "2021-06-22 03:12:39,233 : Style Dictionary_r : Qrd Section Keys Retrieved For Style Dictionary: ΠΕΡΙΛΗΨΗ ΤΩΝ ΧΑΡΑΚΤΗΡΙΣΤΙΚΩΝ ΤΟΥ ΠΡΟΪΟΝΤΟΣ, ΠΑΡΑΡΤΗΜΑ II, A. ΕΠΙΣΗΜΑΝΣΗ, B. ΦΥΛΛΟ ΟΔΗΓΙΩΝ ΧΡΗΣΗΣ | H | CAP |  el | HTML | testDoc.html\n",
      "2021-06-22 03:12:39,233 : Style Dictionary_r : Qrd Section Keys Retrieved For Style Dictionary: ΠΕΡΙΛΗΨΗ ΤΩΝ ΧΑΡΑΚΤΗΡΙΣΤΙΚΩΝ ΤΟΥ ΠΡΟΪΟΝΤΟΣ, ΠΑΡΑΡΤΗΜΑ II, A. ΕΠΙΣΗΜΑΝΣΗ, B. ΦΥΛΛΟ ΟΔΗΓΙΩΝ ΧΡΗΣΗΣ | H | CAP |  el | HTML | testDoc.html\n"
     ]
    },
    {
     "name": "stdout",
     "output_type": "stream",
     "text": [
      "------------- D:\\Projects\\EMA\\Repository\\EMA EPI PoC\\function_code\\testWork\\testDoc.txt -----------------\n",
      "D:\\Projects\\EMA\\Repository\\EMA EPI PoC\\function_code\\testWork\\testDoc.html D:\\Projects\\EMA\\Repository\\EMA EPI PoC\\function_code\\testWork\\testDoc.json\n"
     ]
    },
    {
     "name": "stderr",
     "output_type": "stream",
     "text": [
      "2021-06-22 03:12:39,454 : TestParser_C : Style Information Stored In File: D:\\Projects\\EMA\\Repository\\EMA EPI PoC\\function_code\\testWork\\testDoc.txt | H | CAP |  el | HTML | testDoc.html\n",
      "2021-06-22 03:12:39,470 : TestParser_C : Writing to file: D:\\Projects\\EMA\\Repository\\EMA EPI PoC\\function_code\\testWork\\testDoc.json | H | CAP |  el | HTML | testDoc.html\n"
     ]
    },
    {
     "name": "stdout",
     "output_type": "stream",
     "text": [
      "File being processed: D:\\Projects\\EMA\\Repository\\EMA EPI PoC\\function_code\\testWork\\testDoc.json\n",
      "--------------------------------------------\n"
     ]
    }
   ],
   "source": [
    "TestParserExtractor().testFeaturesForTestHtmlElement('ΧΑΡΑΚΤΗΡΙΣΤΙΚΩΝ',{'Bold': True,\n",
    " 'Italics': False,\n",
    " 'Uppercased': True,\n",
    " 'Underlined': False,\n",
    " 'Indexed': False,\n",
    " 'IsListItem': False,\n",
    " 'HasBorder': False})"
   ]
  },
  {
   "cell_type": "code",
   "execution_count": null,
   "metadata": {},
   "outputs": [],
   "source": []
  }
 ],
 "metadata": {
  "kernelspec": {
   "display_name": "Python 3",
   "language": "python",
   "name": "python3"
  },
  "language_info": {
   "codemirror_mode": {
    "name": "ipython",
    "version": 3
   },
   "file_extension": ".py",
   "mimetype": "text/x-python",
   "name": "python",
   "nbconvert_exporter": "python",
   "pygments_lexer": "ipython3",
   "version": "3.8.5"
  }
 },
 "nbformat": 4,
 "nbformat_minor": 2
}
